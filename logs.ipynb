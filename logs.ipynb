{
 "cells": [
  {
   "cell_type": "code",
   "execution_count": 1,
   "metadata": {
    "collapsed": true
   },
   "outputs": [],
   "source": [
    "import numpy as np\n",
    "import pandas as pd\n",
    "import matplotlib.pyplot as plt\n",
    "%matplotlib inline"
   ]
  },
  {
   "cell_type": "code",
   "execution_count": 21,
   "metadata": {
    "collapsed": false
   },
   "outputs": [
    {
     "name": "stdout",
     "output_type": "stream",
     "text": [
      "[['200020028984', '0', 'TrainDepartEvent', 'pred', '2000038072', '1468578900', '2000038088', -1, -1, -1], ['200020028984', '0', 'AssignEvent', '#0-0-0', '2000038072', '1468578900', '2000038088', '1468587050', -1, -1], ['200020028984', '0', 'AssignEvent', '#0-0-0', '2000038072', '1468578900', '2000038088', '1468587050', '200200082868', -1], ['200020028984', '1', 'AssignEvent', '#0-0-0', '2000038088', '1468587050', '2000038102', '1468594550', '200200082868', -1], ['200020028984', '1', 'AssignEvent', '#0-0-0', '2000038088', '1468587050', '2000038102', '1468594550', '200200082868', -1], ['200020028984', '2', 'AssignEvent', '#0-0-0', '2000038102', '1468594550', '2000038130', '1468599530', '200200082868', -1], ['200020028984', '2', 'AssignEvent', '#0-0-0', '2000038102', '1468594550', '2000038130', '1468599530', '200200082868', -1], ['200020028984', '3', 'AssignEvent', '#0-0-0', '2000038130', '1468599530', '2000038132', '1468599950', '200200082868', -1], ['200020028984', '3', 'AssignEvent', '#0-0-0', '2000038130', '1468599530', '2000038132', '1468599950', '200200082868', -1], ['200020028984', '4', 'AssignEvent', '#0-0-0', '2000038132', '1468599950', '2000038138', '1468601826', '200200082868', -1]]\n"
     ]
    }
   ],
   "source": [
    "lines = []\n",
    "trains, locos, teams, others = [], [], [], []\n",
    "with open('./input/20160719_172108/event.log') as f:\n",
    "    for line in f:\n",
    "        a = line[:-1].split('\\t')\n",
    "        if 'Train' in a[0]:\n",
    "            train_id = a[0].split(' ')[1]\n",
    "            route_ind = a[1]\n",
    "            b = a[2].split('{')\n",
    "            event_type = b[0]\n",
    "            event_info = b[1][:-1]\n",
    "            sp = event_info.split(', ')\n",
    "            if len(sp) == 1:\n",
    "                step = 'pred'\n",
    "                times = sp[0]\n",
    "                loco, team = -1, -1\n",
    "            else:\n",
    "                step = sp[0]\n",
    "                times = sp[1]\n",
    "                if len(sp) == 2:\n",
    "                    loco, team == -1, -1\n",
    "                elif len(sp) == 3:\n",
    "                    loco, team = sp[2][2:], -1\n",
    "                else:\n",
    "                    loco, team = sp[2][2:], sp[3][2:]\n",
    "            spsp = [i.split('@') for i in times.split(' ? ')]\n",
    "            if len(spsp[0]) == 2:\n",
    "                st_from, time_start = spsp[0][0], spsp[0][1]\n",
    "            else:\n",
    "                st_from, time_start = spsp[0][0], -1\n",
    "            if len(spsp) == 2:\n",
    "                if len(spsp[1]) == 2:\n",
    "                    st_to, time_end = spsp[1][0], spsp[1][1]\n",
    "                else:\n",
    "                    st_to, time_end = spsp[1][0], -1\n",
    "            else:\n",
    "                st_to, time_end = -1, -1\n",
    "                \n",
    "            trains.append([train_id, route_ind, event_type, step, st_from, time_start, st_to, time_end, loco, team])\n",
    "        elif 'Loco' in a[0]:\n",
    "            locos.append(a)\n",
    "        elif 'Team' in a[0]:\n",
    "            teams.append(a)\n",
    "        else:\n",
    "            others.append(a)\n",
    "        \n",
    "print(trains[:10])"
   ]
  },
  {
   "cell_type": "code",
   "execution_count": 24,
   "metadata": {
    "collapsed": false
   },
   "outputs": [],
   "source": [
    "df = pd.DataFrame(trains, columns = ['train', 'ind', 'event', 'step', 'st_from', 'time_start', 'st_to', 'time_end', 'loco', 'team'])"
   ]
  },
  {
   "cell_type": "code",
   "execution_count": 28,
   "metadata": {
    "collapsed": false
   },
   "outputs": [
    {
     "data": {
      "text/html": [
       "<div>\n",
       "<table border=\"1\" class=\"dataframe\">\n",
       "  <thead>\n",
       "    <tr style=\"text-align: right;\">\n",
       "      <th></th>\n",
       "      <th>train</th>\n",
       "      <th>ind</th>\n",
       "      <th>event</th>\n",
       "      <th>step</th>\n",
       "      <th>st_from</th>\n",
       "      <th>time_start</th>\n",
       "      <th>st_to</th>\n",
       "      <th>time_end</th>\n",
       "      <th>loco</th>\n",
       "      <th>team</th>\n",
       "    </tr>\n",
       "  </thead>\n",
       "  <tbody>\n",
       "    <tr>\n",
       "      <th>0</th>\n",
       "      <td>200020028984</td>\n",
       "      <td>0</td>\n",
       "      <td>TrainDepartEvent</td>\n",
       "      <td>pred</td>\n",
       "      <td>2000038072</td>\n",
       "      <td>1468578900</td>\n",
       "      <td>2000038088</td>\n",
       "      <td>-1</td>\n",
       "      <td>-1</td>\n",
       "      <td>-1</td>\n",
       "    </tr>\n",
       "    <tr>\n",
       "      <th>1</th>\n",
       "      <td>200020028984</td>\n",
       "      <td>0</td>\n",
       "      <td>AssignEvent</td>\n",
       "      <td>#0-0-0</td>\n",
       "      <td>2000038072</td>\n",
       "      <td>1468578900</td>\n",
       "      <td>2000038088</td>\n",
       "      <td>1468587050</td>\n",
       "      <td>-1</td>\n",
       "      <td>-1</td>\n",
       "    </tr>\n",
       "    <tr>\n",
       "      <th>2</th>\n",
       "      <td>200020028984</td>\n",
       "      <td>0</td>\n",
       "      <td>AssignEvent</td>\n",
       "      <td>#0-0-0</td>\n",
       "      <td>2000038072</td>\n",
       "      <td>1468578900</td>\n",
       "      <td>2000038088</td>\n",
       "      <td>1468587050</td>\n",
       "      <td>200200082868</td>\n",
       "      <td>-1</td>\n",
       "    </tr>\n",
       "    <tr>\n",
       "      <th>3</th>\n",
       "      <td>200020028984</td>\n",
       "      <td>1</td>\n",
       "      <td>AssignEvent</td>\n",
       "      <td>#0-0-0</td>\n",
       "      <td>2000038088</td>\n",
       "      <td>1468587050</td>\n",
       "      <td>2000038102</td>\n",
       "      <td>1468594550</td>\n",
       "      <td>200200082868</td>\n",
       "      <td>-1</td>\n",
       "    </tr>\n",
       "    <tr>\n",
       "      <th>4</th>\n",
       "      <td>200020028984</td>\n",
       "      <td>1</td>\n",
       "      <td>AssignEvent</td>\n",
       "      <td>#0-0-0</td>\n",
       "      <td>2000038088</td>\n",
       "      <td>1468587050</td>\n",
       "      <td>2000038102</td>\n",
       "      <td>1468594550</td>\n",
       "      <td>200200082868</td>\n",
       "      <td>-1</td>\n",
       "    </tr>\n",
       "  </tbody>\n",
       "</table>\n",
       "</div>"
      ],
      "text/plain": [
       "          train ind             event    step     st_from  time_start  \\\n",
       "0  200020028984   0  TrainDepartEvent    pred  2000038072  1468578900   \n",
       "1  200020028984   0       AssignEvent  #0-0-0  2000038072  1468578900   \n",
       "2  200020028984   0       AssignEvent  #0-0-0  2000038072  1468578900   \n",
       "3  200020028984   1       AssignEvent  #0-0-0  2000038088  1468587050   \n",
       "4  200020028984   1       AssignEvent  #0-0-0  2000038088  1468587050   \n",
       "\n",
       "        st_to    time_end          loco team  \n",
       "0  2000038088          -1            -1   -1  \n",
       "1  2000038088  1468587050            -1   -1  \n",
       "2  2000038088  1468587050  200200082868   -1  \n",
       "3  2000038102  1468594550  200200082868   -1  \n",
       "4  2000038102  1468594550  200200082868   -1  "
      ]
     },
     "execution_count": 28,
     "metadata": {},
     "output_type": "execute_result"
    }
   ],
   "source": [
    "df.head()"
   ]
  },
  {
   "cell_type": "code",
   "execution_count": 47,
   "metadata": {
    "collapsed": false
   },
   "outputs": [
    {
     "data": {
      "text/html": [
       "<div>\n",
       "<table border=\"1\" class=\"dataframe\">\n",
       "  <thead>\n",
       "    <tr style=\"text-align: right;\">\n",
       "      <th></th>\n",
       "      <th>level</th>\n",
       "      <th>src</th>\n",
       "      <th>text</th>\n",
       "    </tr>\n",
       "  </thead>\n",
       "  <tbody>\n",
       "    <tr>\n",
       "      <th>0</th>\n",
       "      <td>WARN</td>\n",
       "      <td>SchedulingData:93</td>\n",
       "      <td>Не удалось инициализировать поезд 200022014751</td>\n",
       "    </tr>\n",
       "    <tr>\n",
       "      <th>1</th>\n",
       "      <td>WARN</td>\n",
       "      <td>SchedulingData:93</td>\n",
       "      <td>Не удалось инициализировать поезд 200021944946</td>\n",
       "    </tr>\n",
       "    <tr>\n",
       "      <th>2</th>\n",
       "      <td>WARN</td>\n",
       "      <td>SchedulingData:93</td>\n",
       "      <td>Не удалось инициализировать поезд 200021987388</td>\n",
       "    </tr>\n",
       "    <tr>\n",
       "      <th>3</th>\n",
       "      <td>WARN</td>\n",
       "      <td>SchedulingData:93</td>\n",
       "      <td>Не удалось инициализировать поезд 200022050183</td>\n",
       "    </tr>\n",
       "    <tr>\n",
       "      <th>4</th>\n",
       "      <td>WARN</td>\n",
       "      <td>SchedulingData:93</td>\n",
       "      <td>Не удалось инициализировать поезд 200021934890</td>\n",
       "    </tr>\n",
       "  </tbody>\n",
       "</table>\n",
       "</div>"
      ],
      "text/plain": [
       "  level                src                                            text\n",
       "0  WARN  SchedulingData:93  Не удалось инициализировать поезд 200022014751\n",
       "1  WARN  SchedulingData:93  Не удалось инициализировать поезд 200021944946\n",
       "2  WARN  SchedulingData:93  Не удалось инициализировать поезд 200021987388\n",
       "3  WARN  SchedulingData:93  Не удалось инициализировать поезд 200022050183\n",
       "4  WARN  SchedulingData:93  Не удалось инициализировать поезд 200021934890"
      ]
     },
     "execution_count": 47,
     "metadata": {},
     "output_type": "execute_result"
    }
   ],
   "source": [
    "lines = []\n",
    "with open('input/20160719_172108/System.out.log.2') as f:\n",
    "    for line in f:        \n",
    "        sp = line[:-1].split(' - ')\n",
    "        sp1 = sp[0].strip().find(' ')\n",
    "        t = sp[0].strip()[:sp1]\n",
    "        code = sp[0].strip()[sp1+1:]\n",
    "        text = sp[1]\n",
    "        lines.append([t, code, text])\n",
    "        \n",
    "df = pd.DataFrame(lines, columns=['level', 'src', 'text'])\n",
    "df.head()"
   ]
  },
  {
   "cell_type": "code",
   "execution_count": 48,
   "metadata": {
    "collapsed": false
   },
   "outputs": [
    {
     "data": {
      "text/plain": [
       "WARN     5729\n",
       "INFO     4233\n",
       "ERROR       5\n",
       "Name: level, dtype: int64"
      ]
     },
     "execution_count": 48,
     "metadata": {},
     "output_type": "execute_result"
    }
   ],
   "source": [
    "df.level.value_counts()"
   ]
  },
  {
   "cell_type": "code",
   "execution_count": 49,
   "metadata": {
    "collapsed": false
   },
   "outputs": [
    {
     "data": {
      "text/html": [
       "<div>\n",
       "<table border=\"1\" class=\"dataframe\">\n",
       "  <thead>\n",
       "    <tr style=\"text-align: right;\">\n",
       "      <th></th>\n",
       "      <th>level</th>\n",
       "      <th>src</th>\n",
       "      <th>text</th>\n",
       "    </tr>\n",
       "  </thead>\n",
       "  <tbody>\n",
       "    <tr>\n",
       "      <th>5527</th>\n",
       "      <td>ERROR</td>\n",
       "      <td>Relocations:254</td>\n",
       "      <td>Недостаточно ресурсов для выполнения регулировочного задания 1468508400 в нечётном направлении п...</td>\n",
       "    </tr>\n",
       "    <tr>\n",
       "      <th>5530</th>\n",
       "      <td>ERROR</td>\n",
       "      <td>Relocations:254</td>\n",
       "      <td>Недостаточно ресурсов для выполнения регулировочного задания 1468508400 в нечётном направлении п...</td>\n",
       "    </tr>\n",
       "    <tr>\n",
       "      <th>5533</th>\n",
       "      <td>ERROR</td>\n",
       "      <td>Relocations:254</td>\n",
       "      <td>Недостаточно ресурсов для выполнения регулировочного задания 1468508400 в нечётном направлении п...</td>\n",
       "    </tr>\n",
       "    <tr>\n",
       "      <th>5536</th>\n",
       "      <td>ERROR</td>\n",
       "      <td>Relocations:254</td>\n",
       "      <td>Недостаточно ресурсов для выполнения регулировочного задания 1468508400 в нечётном направлении п...</td>\n",
       "    </tr>\n",
       "    <tr>\n",
       "      <th>5539</th>\n",
       "      <td>ERROR</td>\n",
       "      <td>Relocations:254</td>\n",
       "      <td>Недостаточно ресурсов для выполнения регулировочного задания 1468508400 в нечётном направлении п...</td>\n",
       "    </tr>\n",
       "  </tbody>\n",
       "</table>\n",
       "</div>"
      ],
      "text/plain": [
       "      level              src  \\\n",
       "5527  ERROR  Relocations:254   \n",
       "5530  ERROR  Relocations:254   \n",
       "5533  ERROR  Relocations:254   \n",
       "5536  ERROR  Relocations:254   \n",
       "5539  ERROR  Relocations:254   \n",
       "\n",
       "                                                                                                     text  \n",
       "5527  Недостаточно ресурсов для выполнения регулировочного задания 1468508400 в нечётном направлении п...  \n",
       "5530  Недостаточно ресурсов для выполнения регулировочного задания 1468508400 в нечётном направлении п...  \n",
       "5533  Недостаточно ресурсов для выполнения регулировочного задания 1468508400 в нечётном направлении п...  \n",
       "5536  Недостаточно ресурсов для выполнения регулировочного задания 1468508400 в нечётном направлении п...  \n",
       "5539  Недостаточно ресурсов для выполнения регулировочного задания 1468508400 в нечётном направлении п...  "
      ]
     },
     "execution_count": 49,
     "metadata": {},
     "output_type": "execute_result"
    }
   ],
   "source": [
    "pd.set_option('display.max_colwidth', 100)\n",
    "df[df.level == 'ERROR']"
   ]
  },
  {
   "cell_type": "code",
   "execution_count": 57,
   "metadata": {
    "collapsed": false
   },
   "outputs": [
    {
     "data": {
      "text/plain": [
       "бригаду      61\n",
       "локомотив    52\n",
       "поезд        12\n",
       "Name: fail_init, dtype: int64"
      ]
     },
     "execution_count": 57,
     "metadata": {},
     "output_type": "execute_result"
    }
   ],
   "source": [
    "df['fail_init'] = df.text.apply(lambda x: x.split()[3] if 'инициализировать' in x else -1)\n",
    "df[df.fail_init != -1].fail_init.value_counts()"
   ]
  },
  {
   "cell_type": "code",
   "execution_count": 60,
   "metadata": {
    "collapsed": false
   },
   "outputs": [
    {
     "data": {
      "text/html": [
       "<div>\n",
       "<table border=\"1\" class=\"dataframe\">\n",
       "  <thead>\n",
       "    <tr style=\"text-align: right;\">\n",
       "      <th></th>\n",
       "      <th>level</th>\n",
       "      <th>src</th>\n",
       "      <th>text</th>\n",
       "      <th>fail_init</th>\n",
       "      <th>fail_loco_reg</th>\n",
       "    </tr>\n",
       "  </thead>\n",
       "  <tbody>\n",
       "    <tr>\n",
       "      <th>422</th>\n",
       "      <td>WARN</td>\n",
       "      <td>Regions:189</td>\n",
       "      <td>Поезд 200020028984 не может быть отнесён к к.-л. плечу</td>\n",
       "      <td>-1</td>\n",
       "      <td>200020028984</td>\n",
       "    </tr>\n",
       "    <tr>\n",
       "      <th>423</th>\n",
       "      <td>WARN</td>\n",
       "      <td>Regions:189</td>\n",
       "      <td>Поезд 200020029220 не может быть отнесён к к.-л. плечу</td>\n",
       "      <td>-1</td>\n",
       "      <td>200020029220</td>\n",
       "    </tr>\n",
       "    <tr>\n",
       "      <th>424</th>\n",
       "      <td>WARN</td>\n",
       "      <td>Regions:189</td>\n",
       "      <td>Поезд 200020053852 не может быть отнесён к к.-л. плечу</td>\n",
       "      <td>-1</td>\n",
       "      <td>200020053852</td>\n",
       "    </tr>\n",
       "    <tr>\n",
       "      <th>425</th>\n",
       "      <td>WARN</td>\n",
       "      <td>Regions:189</td>\n",
       "      <td>Поезд 200020077987 не может быть отнесён к к.-л. плечу</td>\n",
       "      <td>-1</td>\n",
       "      <td>200020077987</td>\n",
       "    </tr>\n",
       "    <tr>\n",
       "      <th>426</th>\n",
       "      <td>WARN</td>\n",
       "      <td>Regions:189</td>\n",
       "      <td>Поезд 200020095886 не может быть отнесён к к.-л. плечу</td>\n",
       "      <td>-1</td>\n",
       "      <td>200020095886</td>\n",
       "    </tr>\n",
       "  </tbody>\n",
       "</table>\n",
       "</div>"
      ],
      "text/plain": [
       "    level          src  \\\n",
       "422  WARN  Regions:189   \n",
       "423  WARN  Regions:189   \n",
       "424  WARN  Regions:189   \n",
       "425  WARN  Regions:189   \n",
       "426  WARN  Regions:189   \n",
       "\n",
       "                                                       text fail_init  \\\n",
       "422  Поезд 200020028984 не может быть отнесён к к.-л. плечу        -1   \n",
       "423  Поезд 200020029220 не может быть отнесён к к.-л. плечу        -1   \n",
       "424  Поезд 200020053852 не может быть отнесён к к.-л. плечу        -1   \n",
       "425  Поезд 200020077987 не может быть отнесён к к.-л. плечу        -1   \n",
       "426  Поезд 200020095886 не может быть отнесён к к.-л. плечу        -1   \n",
       "\n",
       "    fail_loco_reg  \n",
       "422  200020028984  \n",
       "423  200020029220  \n",
       "424  200020053852  \n",
       "425  200020077987  \n",
       "426  200020095886  "
      ]
     },
     "execution_count": 60,
     "metadata": {},
     "output_type": "execute_result"
    }
   ],
   "source": [
    "df['fail_loco_reg'] = df.text.apply(lambda x: x.split()[1] if 'отнесён' in x else -1)\n",
    "df[df.fail_loco_reg != -1].head()"
   ]
  },
  {
   "cell_type": "code",
   "execution_count": 62,
   "metadata": {
    "collapsed": false
   },
   "outputs": [
    {
     "data": {
      "text/html": [
       "<div>\n",
       "<table border=\"1\" class=\"dataframe\">\n",
       "  <thead>\n",
       "    <tr style=\"text-align: right;\">\n",
       "      <th></th>\n",
       "      <th>level</th>\n",
       "      <th>src</th>\n",
       "      <th>text</th>\n",
       "      <th>fail_init</th>\n",
       "      <th>fail_loco_reg</th>\n",
       "    </tr>\n",
       "  </thead>\n",
       "  <tbody>\n",
       "  </tbody>\n",
       "</table>\n",
       "</div>"
      ],
      "text/plain": [
       "Empty DataFrame\n",
       "Columns: [level, src, text, fail_init, fail_loco_reg]\n",
       "Index: []"
      ]
     },
     "execution_count": 62,
     "metadata": {},
     "output_type": "execute_result"
    }
   ],
   "source": [
    "df[df.text.apply(lambda x: '200021105168' in x)]"
   ]
  }
 ],
 "metadata": {
  "kernelspec": {
   "display_name": "Python 3",
   "language": "python",
   "name": "python3"
  },
  "language_info": {
   "codemirror_mode": {
    "name": "ipython",
    "version": 3
   },
   "file_extension": ".py",
   "mimetype": "text/x-python",
   "name": "python",
   "nbconvert_exporter": "python",
   "pygments_lexer": "ipython3",
   "version": "3.5.1"
  }
 },
 "nbformat": 4,
 "nbformat_minor": 0
}
