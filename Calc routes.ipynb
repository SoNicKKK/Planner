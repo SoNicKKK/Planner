{
 "cells": [
  {
   "cell_type": "code",
   "execution_count": 1,
   "metadata": {
    "collapsed": true
   },
   "outputs": [],
   "source": [
    "def log_progress(sequence, every=None, size=None):\n",
    "    from ipywidgets import IntProgress, HTML, VBox\n",
    "    from IPython.display import display\n",
    "\n",
    "    is_iterator = False\n",
    "    if size is None:\n",
    "        try:\n",
    "            size = len(sequence)\n",
    "        except TypeError:\n",
    "            is_iterator = True\n",
    "    if size is not None:\n",
    "        if every is None:\n",
    "            if size <= 200:\n",
    "                every = 1\n",
    "            else:\n",
    "                every = size / 200     # every 0.5%\n",
    "    else:\n",
    "        assert every is not None, 'sequence is iterator, set every'\n",
    "\n",
    "    if is_iterator:\n",
    "        progress = IntProgress(min=0, max=1, value=1)\n",
    "        progress.bar_style = 'info'\n",
    "    else:\n",
    "        progress = IntProgress(min=0, max=size, value=0)\n",
    "    label = HTML()\n",
    "    box = VBox(children=[label, progress])\n",
    "    display(box)\n",
    "\n",
    "    index = 0\n",
    "    try:\n",
    "        for index, record in enumerate(sequence, 1):\n",
    "            if index == 1 or index % every == 0:\n",
    "                if is_iterator:\n",
    "                    label.value = '{index} / ?'.format(index=index)\n",
    "                else:\n",
    "                    progress.value = index\n",
    "                    label.value = u'{index} / {size}'.format(\n",
    "                        index=index,\n",
    "                        size=size\n",
    "                    )\n",
    "            yield record\n",
    "    except:\n",
    "        progress.bar_style = 'danger'\n",
    "        raise\n",
    "    else:\n",
    "        progress.bar_style = 'success'\n",
    "        progress.value = index\n",
    "        label.value = str(index or '?')"
   ]
  },
  {
   "cell_type": "code",
   "execution_count": 2,
   "metadata": {
    "collapsed": false
   },
   "outputs": [
    {
     "name": "stdout",
     "output_type": "stream",
     "text": [
      "Таблица с весами ребер графа сети загружена (первые 10 записей):\n",
      "                long_link  cost st_from_name     st_to_name  st_from_esr  st_to_esr     st_from       st_to\n",
      "          ХОНЫХ — КАМЫШТА     1        ХОНЫХ        КАМЫШТА        88766      88760  2000035542  2000035530\n",
      "          КАМЫШТА — АСКИЗ     1      КАМЫШТА          АСКИЗ        88760      88700  2000035530  2000035496\n",
      "     ХОНЫХ — ОРОСИТЕЛЬНЫЙ     1        ХОНЫХ   ОРОСИТЕЛЬНЫЙ        88766      88620  2000035542  2000035410\n",
      "           ТЕЯ — БИСКАМЖА     1          ТЕЯ       БИСКАМЖА        88680      88660  2000035482  2000035466\n",
      "              ТИСИН — СОН     1        ТИСИН            СОН        88562      88570  2000035374  2000035384\n",
      "           СОН — ТУМАННЫЙ     1          СОН       ТУМАННЫЙ        88570      88571  2000035384  2000035386\n",
      "     ТУМАННЫЙ — ЕРБИНСКАЯ     1     ТУМАННЫЙ      ЕРБИНСКАЯ        88571      88580  2000035386  2000035392\n",
      "  НАХОДКА — ТИХООКЕАНСКАЯ     1      НАХОДКА  ТИХООКЕАНСКАЯ        98450      98521  2000038950  2000038962\n",
      "          ТОКИ — МОНГОХТО     1         ТОКИ       МОНГОХТО        96752      96731  2000038598  2000038590\n",
      "           ТОРЕЯ — ТАЙШЕТ     1        ТОРЕЯ         ТАЙШЕТ        92421      92000  2000036784  2000036518\n"
     ]
    }
   ],
   "source": [
    "import pandas as pd\n",
    "import numpy as np\n",
    "import networkx as nx\n",
    "import time as time\n",
    "from ast import literal_eval\n",
    "FOLDER = 'resources/'\n",
    "\n",
    "cost     = pd.read_csv(FOLDER + 'mandatory/route_weights.csv', encoding='utf-8-sig', sep=';')\n",
    "stations = pd.read_csv(FOLDER + 'station.csv')\n",
    "st_names = stations[['station', 'name', 'esr']].drop_duplicates().set_index('station')\n",
    "\n",
    "cost.columns = ['link', 'long_link', 'cost', '1', '2']\n",
    "cost = cost[['long_link', 'cost']]\n",
    "cost['st_from_name'] = cost.long_link.apply(lambda x: [i.strip() for i in x.split(chr(8212))][0])\n",
    "cost['st_to_name'] = cost.long_link.apply(lambda x: [i.strip() for i in x.split(chr(8212))][1])\n",
    "cost['st_from_esr'] = cost.st_from_name.map(st_names.drop_duplicates('name').set_index('name').esr)\n",
    "cost['st_to_esr'] = cost.st_to_name.map(st_names.drop_duplicates('name').set_index('name').esr)\n",
    "cost['st_from'] = cost.st_from_name.map(stations.drop_duplicates('name').set_index('name').station)\n",
    "cost['st_to'] = cost.st_to_name.map(stations.drop_duplicates('name').set_index('name').station)\n",
    "print('Таблица с весами ребер графа сети загружена (первые 10 записей):')\n",
    "print(cost.head(10).to_string(index=False))"
   ]
  },
  {
   "cell_type": "code",
   "execution_count": 3,
   "metadata": {
    "collapsed": false
   },
   "outputs": [
    {
     "name": "stdout",
     "output_type": "stream",
     "text": [
      "NetworkX граф создан\n"
     ]
    }
   ],
   "source": [
    "start_time = time.time()\n",
    "# names\n",
    "#all_stations = pd.Series(np.concatenate([cost.st_from_name.unique(), cost.st_to_name.unique()])).drop_duplicates().values\n",
    "# id\n",
    "all_stations = pd.Series(np.concatenate([cost.st_from_name.unique(), cost.st_to_name.unique()])).drop_duplicates().values\n",
    "g = nx.DiGraph()\n",
    "g.add_nodes_from(all_stations)\n",
    "#g.add_weighted_edges_from(list(zip(cost.st_from_name, cost.st_to_name, cost.cost))) # names\n",
    "g.add_weighted_edges_from(list(zip(cost.st_from_name, cost.st_to_name, cost.cost))) # id\n",
    "print('NetworkX граф создан')"
   ]
  },
  {
   "cell_type": "code",
   "execution_count": 4,
   "metadata": {
    "collapsed": false
   },
   "outputs": [
    {
     "name": "stdout",
     "output_type": "stream",
     "text": [
      "Выборка этого же маршрута из массива всех маршрутов: ['МАРИИНСК', 'БОГОТОЛ', 'ЗЕРЦАЛЫ', 'АЧИНСК I', 'АЧИНСК II', 'ПРИГОРОДНЫЙ', 'УЛУЙ', 'НАЗАРОВО', 'КРАСНАЯ СОПКА', 'УЖУР', 'ТИСИН', 'СОН', 'ТУМАННЫЙ', 'ЕРБИНСКАЯ', 'ОРОСИТЕЛЬНЫЙ', 'ТИГЕЙ', 'ТАШЕБА', 'АБАКАН']\n",
      "\n",
      "Total time = 3.00 sec\n"
     ]
    }
   ],
   "source": [
    "def get_path(df_cost, col_cost, suffix, st_from, st_to, details=False):\n",
    "    if suffix == 'name':\n",
    "        col_from, col_to = 'st_from_name', 'st_to_name'\n",
    "    elif suffix == 'esr':\n",
    "        col_from, col_to = 'st_from_esr', 'st_to_esr'\n",
    "    else:\n",
    "        col_from, col_to = 'st_from', 'st_to'\n",
    "        \n",
    "    gt = nx.DiGraph()\n",
    "    all_stations = pd.Series(np.concatenate([df_cost[col_from].unique(), df_cost[col_to].unique()])).drop_duplicates().values\n",
    "    gt.add_nodes_from(all_stations)\n",
    "    gt.add_weighted_edges_from(list(zip(df_cost[col_from], df_cost[col_to], df_cost[col_cost])))\n",
    "\n",
    "    print('Маршруты между станциями %s - %s:' % (st_from, st_to))\n",
    "    path = nx.dijkstra_path(gt, st_from, st_to)\n",
    "    length = nx.dijkstra_path_length(gt, st_from, st_to)\n",
    "    print('\\nМаршрут по алгоритму Дейкстры с учетом весов (суммарный вес %.1f): %s' % (length, path))\n",
    "    if details:\n",
    "        print(len(path))\n",
    "        lpath = [(path[i-1], path[i]) for i in range(0, len(path))]\n",
    "        show_cost = df_cost[df_cost.link_name.isin(lpath)].copy(deep=True)\n",
    "        show_cost['ind'] = show_cost.st_from_name.apply(lambda x: path.index(x))\n",
    "        print(show_cost.sort_values('ind')[['link_name', 'cost', col_cost]].to_string(index=False))\n",
    "    print('\\nКратчайший маршрут по количеству ребер (%d): %s' \\\n",
    "          % (nx.shortest_path_length(gt, st_from, st_to), nx.shortest_path(gt, st_from, st_to)))   \n",
    "    \n",
    "def get_path_no_print(df_cost, col_cost, suffix, st_from, st_to):\n",
    "    if suffix == 'name':\n",
    "        col_from, col_to = 'st_from_name', 'st_to_name'\n",
    "    elif suffix == 'esr':\n",
    "        col_from, col_to = 'st_from_esr', 'st_to_esr'\n",
    "    else:\n",
    "        col_from, col_to = 'st_from', 'st_to'\n",
    "        \n",
    "    gt = nx.DiGraph()\n",
    "    all_stations = pd.Series(np.concatenate([df_cost[col_from].unique(), df_cost[col_to].unique()])).drop_duplicates().values\n",
    "    gt.add_nodes_from(all_stations)\n",
    "    gt.add_weighted_edges_from(list(zip(df_cost[col_from], df_cost[col_to], df_cost[col_cost])))\n",
    "\n",
    "    path = nx.dijkstra_path(gt, st_from, st_to)\n",
    "    length = nx.dijkstra_path_length(gt, st_from, st_to)\n",
    "    return path, length\n",
    "\n",
    "def get_all_paths(df_cost, col_cost, suffix):\n",
    "    if suffix == 'name':\n",
    "        col_from, col_to = 'st_from_name', 'st_to_name'\n",
    "    elif suffix == 'esr':\n",
    "        col_from, col_to = 'st_from_esr', 'st_to_esr'\n",
    "    else:\n",
    "        col_from, col_to = 'st_from', 'st_to'\n",
    "        \n",
    "    gt = nx.DiGraph()\n",
    "    all_stations = pd.Series(np.concatenate([df_cost[col_from].unique(), df_cost[col_to].unique()])).drop_duplicates().values\n",
    "    gt.add_nodes_from(all_stations)\n",
    "    gt.add_weighted_edges_from(list(zip(df_cost[col_from], df_cost[col_to], df_cost[col_cost])))\n",
    "\n",
    "    all_paths = nx.all_pairs_dijkstra_path(gt)\n",
    "    all_lengths = nx.all_pairs_dijkstra_path_length(gt)\n",
    "    return all_paths, all_lengths\n",
    "\n",
    "st_from = 'МАРИИНСК'\n",
    "st_to = 'АБАКАН'\n",
    "all_paths = nx.all_pairs_dijkstra_path(g)\n",
    "all_lengths = nx.all_pairs_dijkstra_path_length(g)\n",
    "print('Выборка этого же маршрута из массива всех маршрутов:', all_paths[st_from][st_to])\n",
    "print('\\nTotal time = %.2f sec' % (time.time() - start_time))"
   ]
  },
  {
   "cell_type": "code",
   "execution_count": 30,
   "metadata": {
    "collapsed": false
   },
   "outputs": [],
   "source": [
    "def save_paths_to_file(all_paths, all_lengths, filename='paths.csv'):\n",
    "    print('Запись маршрутов в файл %s ...' % filename)\n",
    "    start_time = time.time()\n",
    "    a = pd.DataFrame(all_paths)\n",
    "    b = pd.DataFrame(all_lengths)\n",
    "    df_paths = a.unstack()\n",
    "    df_paths.name = 'path'\n",
    "    df_lengths = b.unstack()\n",
    "    df_lengths.name = 'cost'\n",
    "    df_paths = df_lengths.to_frame().join(df_paths).reset_index()\n",
    "    df_paths.columns = ['ST_FROM', 'ST_TO', 'ROUTE_COST', 'ROUTE']\n",
    "    df_paths.ST_FROM = df_paths.st_from.apply(int)\n",
    "    df_paths.ST_TO = df_paths.st_to.apply(int)\n",
    "    df_paths.ROUTE_COST = df_paths.ROUTE_COST.apply(lambda x: np.round(x, 2))\n",
    "    df_paths.ROUTE = df_paths.ROUTE.apply(lambda x: str(x)[1:-1].replace(', ', ','))\n",
    "    df_paths.to_csv(filename, encoding='utf-8-sig', index=False, sep=';')\n",
    "    print('Маршруты выгружены в файл %s' % filename)\n",
    "    print('Total time = %.2f sec' % (time.time() - start_time))\n",
    "    print('Примеры маршрутов:')\n",
    "    print(df_paths.sample(10).to_string(index=False))"
   ]
  },
  {
   "cell_type": "code",
   "execution_count": 7,
   "metadata": {
    "collapsed": false
   },
   "outputs": [
    {
     "name": "stdout",
     "output_type": "stream",
     "text": [
      "                     link     st_from       st_to   time  dist  dir  lines  road                      regs  tcost\n",
      " (2000038914, 2000038918)  2000038914  2000038918   2700    18    0      1    96              [2002119312]    1.4\n",
      " (2000037826, 2000037816)  2000037826  2000037816  16080    83    1      1    94              [2002119288]    1.6\n",
      " (2000037840, 2000037846)  2000037840  2000037846   2820    43    0      1    94              [2002119288]    1.6\n",
      " (2000035344, 2000035374)  2000035344  2000035374  10500   134    1      1    88              [2002119284]    1.6\n",
      " (2000035112, 2000035194)  2000035112  2000035194   1380    20    0      1    88              [2002119286]    1.6\n",
      " (2000035410, 2000035544)  2000035410  2000035544    360     6    1      1    88  [2002119284, 2002119301]    1.4\n",
      " (2000035860, 2000035880)  2000035860  2000035880   3180    30    1      1    88  [2002119299, 2002119322]    1.4\n",
      " (2000035386, 2000035392)  2000035386  2000035392    780    15    1      1    88              [2002119284]    1.6\n",
      " (2000037808, 2000037796)  2000037808  2000037796   5640    59    1      1    94              [2002119299]    1.4\n",
      " (2000036128, 2000036136)  2000036128  2000036136   5940    89    0      1    92  [2002119301, 2002119316]    1.4\n"
     ]
    }
   ],
   "source": [
    "tepl_coef = 0.2\n",
    "one_line_coef = 0.4\n",
    "\n",
    "# Функция возвращает 1, если участок принадлежит электровозному тяговому плечу, и 1+set_coeff, если тепловозному\n",
    "def set_cost(regs, set_coeff=tepl_coef):\n",
    "    if len(regs) > 0:\n",
    "        if 'Электровоз' in reg_type[reg_type.loco_region.isin(regs)].reg_type.to_string():\n",
    "            cost = 1\n",
    "        else:\n",
    "            cost = 1 + set_coeff\n",
    "    else:\n",
    "        cost = 1 + set_coeff\n",
    "    return cost\n",
    "\n",
    "reg_type = pd.read_csv(FOLDER + 'mandatory/reg_type.csv', encoding='utf-8-sig', sep=';')\n",
    "reg_type.columns = ['loco_region', 'reg_name', 'reg_type']\n",
    "links = pd.read_csv(FOLDER + 'link.csv', encoding='utf-8-sig')\n",
    "stations_regs = stations.groupby('station').loco_region.apply(lambda x: x.values)\n",
    "stations['reg_type'] = stations.loco_region.map(reg_type.set_index('loco_region').reg_type)\n",
    "links['regs'] = links.st_from.map(stations_regs.to_frame().loco_region)\\\n",
    "                .combine(links.st_to.map(stations_regs.to_frame().loco_region), np.intersect1d)\n",
    "links['tcost'] = links.regs.apply(lambda x: set_cost(x))\n",
    "cost['link'] = list(zip(cost.st_from, cost.st_to))\n",
    "cost['link_name'] = list(zip(cost.st_from_name, cost.st_to_name))\n",
    "links['link'] = list(zip(links.st_from, links.st_to))\n",
    "links['tcost'] = links.tcost - (links.lines - 2) * one_line_coef\n",
    "print(links.head(10).to_string(index=False))"
   ]
  },
  {
   "cell_type": "code",
   "execution_count": 14,
   "metadata": {
    "collapsed": false
   },
   "outputs": [
    {
     "name": "stdout",
     "output_type": "stream",
     "text": [
      "Участки, для которых не заданы веса: [('МАХАЛИНО', 'КАМЫШОВАЯ') ('БИРА', 'БИРОБИДЖАН I')\n",
      " ('БИРОБИДЖАН I', 'ВОЛОЧАЕВКА I') ('БИРОБИДЖАН I', 'БИРОБИДЖАН II')\n",
      " ('БИРОБИДЖАН II', 'БИРОФЕЛЬД') ('КАМЫШОВАЯ', 'МАХАЛИНО')\n",
      " ('БИРОБИДЖАН I', 'БИРА') ('ВОЛОЧАЕВКА I', 'БИРОБИДЖАН I')\n",
      " ('БИРОБИДЖАН II', 'БИРОБИДЖАН I') ('БИРОФЕЛЬД', 'БИРОБИДЖАН II')]\n"
     ]
    }
   ],
   "source": [
    "COST_FOR_ABSENT_LINK = 5.0\n",
    "def get_cost_for_absent_link(ser, fill_type='mean'):        \n",
    "    return ser.mean() if fill_type == 'mean' else COST_FOR_ABSENT_LINK\n",
    "\n",
    "cost['tcost'] = cost.link.map(links.set_index('link').tcost)\n",
    "cols = ['link_name', 'cost', 'tcost']\n",
    "cost['tcost'] = cost.tcost + (cost.cost - 1)\n",
    "cost['tcost'] = cost.tcost.apply(lambda x: 0 if x < 0 else x)\n",
    "print('Участки, для которых не заданы веса:', cost[cost.tcost.isnull()].link_name.unique())\n",
    "cost['tcost'].fillna(np.round(get_cost_for_absent_link(cost.tcost, fill_type='const'), 2), inplace=True)\n",
    "#print(cost.sort_values('tcost', ascending=True).head(10)[cols].to_string(index=False))\n",
    "links['st_from_name'] = links.st_from.map(st_names.name)\n",
    "links['st_to_name'] = links.st_to.map(st_names.name)\n",
    "links_cols = ['st_from_name', 'st_to_name', 'time', 'dist', 'dir', 'lines', 'road', 'tcost']"
   ]
  },
  {
   "cell_type": "code",
   "execution_count": 15,
   "metadata": {
    "collapsed": false
   },
   "outputs": [
    {
     "name": "stdout",
     "output_type": "stream",
     "text": [
      "Маршруты между станциями МАРИИНСК - ПОСТЫШЕВО:\n",
      "\n",
      "Маршрут по алгоритму Дейкстры с учетом весов (суммарный вес 115.6): ['МАРИИНСК', 'БОГОТОЛ', 'ЗЕРЦАЛЫ', 'АЧИНСК I', 'ЧЕРНОРЕЧЕНСКАЯ', 'БУГАЧ', 'КРАСНОЯРСК-СЕВЕРНЫЙ', 'КРАСНОЯРСК-ВОСТОЧНЫЙ', 'ЗЫКОВО', 'УЯР', 'ЗАОЗЕРНАЯ', 'ИЛАНСКАЯ', 'РЕШОТЫ', 'КЛЮЧИ', 'ЮРТЫ', 'ТАЙШЕТ', 'ТОРЕЯ', 'ТУРМА', 'ВИХОРЕВКА', 'МОРГУДОН', 'ГАЛАЧИНСКИЙ', 'ПАДУНСКИЕ ПОРОГИ', 'ГИДРОСТРОИТЕЛЬ', 'КОРШУНИХА-АНГАРСКАЯ', 'ХРЕБТОВАЯ', 'ЛЕНА', 'ЯКУРИМ', 'ЛЕНА-ВОСТОЧНАЯ', 'ЧУДНИЧНЫЙ', 'ЗВЕЗДНАЯ', 'НИЯ', 'ТАКОВКА', 'НЕБЕЛЬ', 'КИРЕНГА', 'КУНЕРМА', 'ДАБАН', 'ТЫЯ', 'СЕВЕРОБАЙКАЛЬСК', 'НОВЫЙ УОЯН', 'АНГАРАКАН', 'КАЗАНКАН', 'ТАКСИМО', 'КУАНДА', 'БАЛБУХТА', 'СЮЛЬБАН', 'НОВАЯ ЧАРА', 'ИКАБЬЯКАН', 'ХАНИ', 'ОЛЕКМА', 'ЮКТАЛИ', 'ЛОПЧА', 'КУВЫКТА', 'ТЫНДА', 'ШАХТАУМ', 'БЕСТУЖЕВО', 'ДИПКУН', 'ВЕРХНЕЗЕЙСК', 'ФЕВРАЛЬСК', 'НОВЫЙ УРГАЛ', 'УРГАЛ I', 'СОЛОНИ', 'ДУССЕ-АЛИНЬ', 'СУЛУК', 'ПОСТЫШЕВО']\n",
      "64\n",
      "                                   link_name  cost  tcost\n",
      "                         (МАРИИНСК, БОГОТОЛ)     1    1.0\n",
      "                          (БОГОТОЛ, ЗЕРЦАЛЫ)     1    1.0\n",
      "                         (ЗЕРЦАЛЫ, АЧИНСК I)     1    1.0\n",
      "                  (АЧИНСК I, ЧЕРНОРЕЧЕНСКАЯ)     1    1.4\n",
      "                     (ЧЕРНОРЕЧЕНСКАЯ, БУГАЧ)     1    1.0\n",
      "                (БУГАЧ, КРАСНОЯРСК-СЕВЕРНЫЙ)     1    1.4\n",
      " (КРАСНОЯРСК-СЕВЕРНЫЙ, КРАСНОЯРСК-ВОСТОЧНЫЙ)     1    1.4\n",
      "              (КРАСНОЯРСК-ВОСТОЧНЫЙ, ЗЫКОВО)     1    1.4\n",
      "                               (ЗЫКОВО, УЯР)     1    1.4\n",
      "                            (УЯР, ЗАОЗЕРНАЯ)     1    1.0\n",
      "                       (ЗАОЗЕРНАЯ, ИЛАНСКАЯ)     1    1.0\n",
      "                          (ИЛАНСКАЯ, РЕШОТЫ)     1    1.0\n",
      "                             (РЕШОТЫ, КЛЮЧИ)     1    1.0\n",
      "                               (КЛЮЧИ, ЮРТЫ)     1    1.0\n",
      "                              (ЮРТЫ, ТАЙШЕТ)     1    1.0\n",
      "                             (ТАЙШЕТ, ТОРЕЯ)    30   30.0\n",
      "                              (ТОРЕЯ, ТУРМА)     1    1.0\n",
      "                          (ТУРМА, ВИХОРЕВКА)     1    1.0\n",
      "                       (ВИХОРЕВКА, МОРГУДОН)     1    1.0\n",
      "                     (МОРГУДОН, ГАЛАЧИНСКИЙ)     1    1.0\n",
      "             (ГАЛАЧИНСКИЙ, ПАДУНСКИЕ ПОРОГИ)     1    1.0\n",
      "          (ПАДУНСКИЕ ПОРОГИ, ГИДРОСТРОИТЕЛЬ)     1    1.0\n",
      "       (ГИДРОСТРОИТЕЛЬ, КОРШУНИХА-АНГАРСКАЯ)     1    1.0\n",
      "            (КОРШУНИХА-АНГАРСКАЯ, ХРЕБТОВАЯ)     1    1.0\n",
      "                           (ХРЕБТОВАЯ, ЛЕНА)     1    1.0\n",
      "                              (ЛЕНА, ЯКУРИМ)     1    1.0\n",
      "                    (ЯКУРИМ, ЛЕНА-ВОСТОЧНАЯ)     1    1.0\n",
      "                 (ЛЕНА-ВОСТОЧНАЯ, ЧУДНИЧНЫЙ)     1    1.4\n",
      "                       (ЧУДНИЧНЫЙ, ЗВЕЗДНАЯ)     1    1.4\n",
      "                             (ЗВЕЗДНАЯ, НИЯ)     1    1.4\n",
      "                              (НИЯ, ТАКОВКА)     1    1.4\n",
      "                           (ТАКОВКА, НЕБЕЛЬ)     1    1.4\n",
      "                           (НЕБЕЛЬ, КИРЕНГА)     1    1.4\n",
      "                          (КИРЕНГА, КУНЕРМА)     1    1.4\n",
      "                            (КУНЕРМА, ДАБАН)     1    1.4\n",
      "                                (ДАБАН, ТЫЯ)     1    1.4\n",
      "                      (ТЫЯ, СЕВЕРОБАЙКАЛЬСК)     1    1.4\n",
      "               (СЕВЕРОБАЙКАЛЬСК, НОВЫЙ УОЯН)     1    1.4\n",
      "                     (НОВЫЙ УОЯН, АНГАРАКАН)     1    1.4\n",
      "                       (АНГАРАКАН, КАЗАНКАН)     1    1.4\n",
      "                         (КАЗАНКАН, ТАКСИМО)     1    1.4\n",
      "                           (ТАКСИМО, КУАНДА)     1    1.6\n",
      "                          (КУАНДА, БАЛБУХТА)     1    1.6\n",
      "                         (БАЛБУХТА, СЮЛЬБАН)     1    1.6\n",
      "                       (СЮЛЬБАН, НОВАЯ ЧАРА)     1    1.6\n",
      "                     (НОВАЯ ЧАРА, ИКАБЬЯКАН)     1    1.6\n",
      "                           (ИКАБЬЯКАН, ХАНИ)     1    1.2\n",
      "                              (ХАНИ, ОЛЕКМА)     1    1.6\n",
      "                            (ОЛЕКМА, ЮКТАЛИ)     1    1.6\n",
      "                             (ЮКТАЛИ, ЛОПЧА)     1    1.6\n",
      "                            (ЛОПЧА, КУВЫКТА)     1    1.6\n",
      "                            (КУВЫКТА, ТЫНДА)     1    1.6\n",
      "                            (ТЫНДА, ШАХТАУМ)     5    5.2\n",
      "                        (ШАХТАУМ, БЕСТУЖЕВО)     1    1.2\n",
      "                         (БЕСТУЖЕВО, ДИПКУН)     1    1.6\n",
      "                       (ДИПКУН, ВЕРХНЕЗЕЙСК)     1    1.6\n",
      "                    (ВЕРХНЕЗЕЙСК, ФЕВРАЛЬСК)     1    1.6\n",
      "                    (ФЕВРАЛЬСК, НОВЫЙ УРГАЛ)     1    1.6\n",
      "                      (НОВЫЙ УРГАЛ, УРГАЛ I)     1    1.6\n",
      "                           (УРГАЛ I, СОЛОНИ)     1    1.6\n",
      "                       (СОЛОНИ, ДУССЕ-АЛИНЬ)     1    1.6\n",
      "                        (ДУССЕ-АЛИНЬ, СУЛУК)     1    1.6\n",
      "                          (СУЛУК, ПОСТЫШЕВО)     1    1.6\n",
      "\n",
      "Кратчайший маршрут по количеству ребер (62): ['МАРИИНСК', 'БОГОТОЛ', 'ЗЕРЦАЛЫ', 'АЧИНСК I', 'ЧЕРНОРЕЧЕНСКАЯ', 'БУГАЧ', 'КРАСНОЯРСК-СЕВЕРНЫЙ', 'КРАСНОЯРСК-ВОСТОЧНЫЙ', 'ЗЫКОВО', 'УЯР', 'КИЛЬЧУГ', 'САЯНСКАЯ', 'ИРБЕЙСКАЯ', 'ТАГУЛ', 'ТАЙШЕТ', 'ТОРЕЯ', 'ТУРМА', 'ВИХОРЕВКА', 'МОРГУДОН', 'ГАЛАЧИНСКИЙ', 'ПАДУНСКИЕ ПОРОГИ', 'ГИДРОСТРОИТЕЛЬ', 'КОРШУНИХА-АНГАРСКАЯ', 'ХРЕБТОВАЯ', 'ЛЕНА', 'ЯКУРИМ', 'ЛЕНА-ВОСТОЧНАЯ', 'ЧУДНИЧНЫЙ', 'ЗВЕЗДНАЯ', 'НИЯ', 'ТАКОВКА', 'НЕБЕЛЬ', 'КИРЕНГА', 'КУНЕРМА', 'ДАБАН', 'ТЫЯ', 'СЕВЕРОБАЙКАЛЬСК', 'НОВЫЙ УОЯН', 'АНГАРАКАН', 'КАЗАНКАН', 'ТАКСИМО', 'КУАНДА', 'БАЛБУХТА', 'СЮЛЬБАН', 'НОВАЯ ЧАРА', 'ИКАБЬЯКАН', 'ХАНИ', 'ОЛЕКМА', 'ЮКТАЛИ', 'ЛОПЧА', 'КУВЫКТА', 'ТЫНДА', 'ШАХТАУМ', 'БЕСТУЖЕВО', 'ДИПКУН', 'ВЕРХНЕЗЕЙСК', 'ФЕВРАЛЬСК', 'НОВЫЙ УРГАЛ', 'УРГАЛ I', 'СОЛОНИ', 'ДУССЕ-АЛИНЬ', 'СУЛУК', 'ПОСТЫШЕВО']\n"
     ]
    }
   ],
   "source": [
    "get_path(cost, 'tcost', suffix='name', st_from='МАРИИНСК', st_to='ПОСТЫШЕВО', details=True)"
   ]
  },
  {
   "cell_type": "code",
   "execution_count": 32,
   "metadata": {
    "collapsed": false
   },
   "outputs": [
    {
     "name": "stdout",
     "output_type": "stream",
     "text": [
      "SUCCESS: tepl = 0.40, one_line = 0.75\n",
      "SUCCESS: tepl = 0.45, one_line = 0.75\n",
      "SUCCESS: tepl = 0.50, one_line = 0.75\n",
      "SUCCESS: tepl = 0.55, one_line = 0.70\n",
      "SUCCESS: tepl = 0.55, one_line = 0.75\n",
      "SUCCESS: tepl = 0.60, one_line = 0.70\n",
      "SUCCESS: tepl = 0.60, one_line = 0.75\n",
      "SUCCESS: tepl = 0.65, one_line = 0.70\n",
      "SUCCESS: tepl = 0.65, one_line = 0.75\n",
      "SUCCESS: tepl = 0.70, one_line = 0.65\n",
      "SUCCESS: tepl = 0.70, one_line = 0.70\n",
      "SUCCESS: tepl = 0.70, one_line = 0.75\n",
      "SUCCESS: tepl = 0.75, one_line = 0.65\n",
      "SUCCESS: tepl = 0.75, one_line = 0.70\n",
      "SUCCESS: tepl = 0.75, one_line = 0.75\n",
      "SUCCESS: tepl = 0.80, one_line = 0.65\n",
      "SUCCESS: tepl = 0.80, one_line = 0.70\n",
      "SUCCESS: tepl = 0.80, one_line = 0.75\n",
      "SUCCESS: tepl = 0.85, one_line = 0.60\n",
      "SUCCESS: tepl = 0.85, one_line = 0.65\n",
      "Finish. Total time = 53.02 sec\n"
     ]
    }
   ],
   "source": [
    "start_time = time.time()\n",
    "links['el'] = links.regs.apply(lambda x: set_cost(x, set_coeff=-1)) # el = 1, если участок электровозный и 0, если тепловозный\n",
    "\n",
    "res = []\n",
    "tests = [['МАРИИНСК', 'НАХОДКА', 'ИРКУТСК-СОРТИРОВОЧНЫЙ', True],\n",
    "        ['МАРИИНСК', 'ВАНИНО', 'ИРКУТСК-СОРТИРОВОЧНЫЙ', True],\n",
    "        ['БЕРКАКИТ', 'ХАБАРОВСК II', 'СКОВОРОДИНО', True],\n",
    "        ['ВАНИНО', 'ТАКСИМО', 'СОЛОНИ', True],\n",
    "        ['АЧИНСК I', 'АБАКАН', 'УЖУР', True],\n",
    "        ['ЗИМА', 'СЛЮДЯНКА I', 'КАЯ', False],\n",
    "        ['АЧИНСК I', 'ИЛАНСКАЯ', 'КРАСНОЯРСК-ВОСТОЧНЫЙ', True],\n",
    "        ['МАРИИНСК', 'ТЫНДА', 'ИРКУТСК-СОРТИРОВОЧНЫЙ', True]]\n",
    "        #['МАРИИНСК', 'ПОСТЫШЕВО', 'ИРКУТСК-СОРТИРОВОЧНЫЙ', True]]        \n",
    "\n",
    "STEP = 0.05\n",
    "bound = int(1 / STEP)\n",
    "iterations = (bound + 1) * (bound + 1)\n",
    "\n",
    "iters = []\n",
    "for i in np.linspace(0, 1, bound + 1):\n",
    "    for j in np.linspace(0, 1, bound + 1):\n",
    "        iters.append([i, j])\n",
    "        \n",
    "for [tepl_coef, one_line_coef] in log_progress(iters, every = bound + 1, size=iterations):    \n",
    "    links['tcost'] = 1 + (1 - links.el) * tepl_coef - (links.lines - 2) * one_line_coef\n",
    "    cost['tcost'] = cost.link.map(links.set_index('link').tcost) + (cost.cost - 1)\n",
    "    cost['tcost'] = cost.tcost.apply(lambda x: 0 if x < 0 else x)\n",
    "    cost['tcost'].fillna(np.round(get_cost_for_absent_link(cost.tcost, fill_type='const'), 2), inplace=True)\n",
    "    if cost[cost.tcost<0].empty:\n",
    "        result = []\n",
    "        for test in tests:\n",
    "            path1, length1 = get_path_no_print(cost, 'tcost', suffix='name', st_from=test[0], st_to=test[1])\n",
    "            path2, length2 = get_path_no_print(cost, 'tcost', suffix='name', st_from=test[1], st_to=test[0])\n",
    "            result.append((test[2] in path1) == test[3])\n",
    "            result.append((test[2] in path2) == test[3])\n",
    "\n",
    "        total = np.array(result).sum()            \n",
    "        if total == 2 * len(tests):\n",
    "            print('SUCCESS: tepl = %.2f, one_line = %.2f' % (tepl_coef, one_line_coef))\n",
    "        res.append([tepl_coef, one_line_coef, int(total)])\n",
    "            \n",
    "print('Finish. Total time = %.2f sec' % (time.time() - start_time))\n",
    "df_res = pd.DataFrame(res, columns=['tepl', 'one_line', 'test'])"
   ]
  },
  {
   "cell_type": "code",
   "execution_count": 33,
   "metadata": {
    "collapsed": false
   },
   "outputs": [
    {
     "data": {
      "text/plain": [
       "<matplotlib.text.Text at 0x1dfd30849b0>"
      ]
     },
     "execution_count": 33,
     "metadata": {},
     "output_type": "execute_result"
    },
    {
     "data": {
      "image/png": "[encoded data removed]",
      "text/plain": [
       "<matplotlib.figure.Figure at 0x1dfd2fdccf8>"
      ]
     },
     "metadata": {},
     "output_type": "display_data"
    }
   ],
   "source": [
    "import seaborn as sns\n",
    "%matplotlib inline\n",
    "df_piv = df_res.pivot('tepl', 'one_line', 'test')\n",
    "sns.set_style('ticks')\n",
    "sns.set_context('talk')\n",
    "ax = sns.heatmap(df_piv, annot=True, fmt='d', linewidths=.0)\n",
    "ax.set_xlabel('Добавка для однопутного участка')\n",
    "ax.set_ylabel('Добавка для тепловозного хода')"
   ]
  },
  {
   "cell_type": "markdown",
   "metadata": {},
   "source": [
    "## Вывод наилучших весов и маршрутов"
   ]
  },
  {
   "cell_type": "markdown",
   "metadata": {},
   "source": [
    "## Результаты тестов"
   ]
  },
  {
   "cell_type": "markdown",
   "metadata": {},
   "source": [
    "### Запись наилучших весов в датафрейм"
   ]
  },
  {
   "cell_type": "code",
   "execution_count": 18,
   "metadata": {
    "collapsed": false
   },
   "outputs": [],
   "source": [
    "tepl_coef = 0.75\n",
    "one_line_coef = 0.7\n",
    "links['el'] = links.regs.apply(lambda x: set_cost(x, set_coeff=-1)) # el = 1, если участок электровозный и 0, если тепловозный\n",
    "links['tcost'] = 1 + (1 - links.el) * tepl_coef - (links.lines - 2) * one_line_coef\n",
    "cost['tcost'] = cost.link.map(links.set_index('link').tcost) + (cost.cost - 1)\n",
    "cost['tcost'] = cost.tcost.apply(lambda x: 0 if x < 0 else x)\n",
    "cost['tcost'].fillna(np.round(get_cost_for_absent_link(cost.tcost, fill_type='const'), 2), inplace=True)\n",
    "cost['tcost_round'] = cost.tcost.apply(lambda x: '{:.2f}'.format(x))"
   ]
  },
  {
   "cell_type": "markdown",
   "metadata": {},
   "source": [
    "### Результаты тестов"
   ]
  },
  {
   "cell_type": "code",
   "execution_count": 19,
   "metadata": {
    "collapsed": false
   },
   "outputs": [
    {
     "name": "stdout",
     "output_type": "stream",
     "text": [
      "TRUE. Path from МАРИИНСК to НАХОДКА (total cost 139.90): ['МАРИИНСК', 'БОГОТОЛ', 'ЗЕРЦАЛЫ', 'АЧИНСК I', 'ЧЕРНОРЕЧЕНСКАЯ', 'БУГАЧ', 'КРАСНОЯРСК-СЕВЕРНЫЙ', 'КРАСНОЯРСК-ВОСТОЧНЫЙ', 'ЗЫКОВО', 'УЯР', 'ЗАОЗЕРНАЯ', 'ИЛАНСКАЯ', 'РЕШОТЫ', 'КЛЮЧИ', 'ЮРТЫ', 'ТАЙШЕТ', 'БАЙРОНОВКА', 'АЛЗАМАЙ', 'НИЖНЕУДИНСК', 'УДА II', 'ТУЛУН', 'АЗЕЙ', 'КУЙТУН', 'ПЕРЕВОЗ', 'ЗИМА', 'ЗАЛАРИ', 'ЧЕРЕМХОВО', 'КАСЬЯНОВКА', 'МАЛЬТА', 'КИТОЙ', 'АНГАРСК', 'СУХОВСКАЯ', 'МЕГЕТ', 'БАТАРЕЙНАЯ', 'ИРКУТСК-СОРТИРОВОЧНЫЙ', 'ГОНЧАРОВО', 'БОЛЬШОЙ ЛУГ', 'АНДРИАНОВСКАЯ', 'АНГАСОЛКА', 'СЛЮДЯНКА II', 'СЛЮДЯНКА I', 'БАЙКАЛЬСК', 'МЫСОВАЯ', 'УЛАН-УДЭ', 'ЗАУДИНСКИЙ', 'ТАЛЬЦЫ', 'ЧЕЛУТАЙ', 'ГОРХОН', 'КИЖА', 'ПЕТРОВСКИЙ ЗАВОД', 'ЖИПХЕГЕН', 'ХИЛОК', 'МОГЗОН', 'ТУРГУТУЙ', 'ЛЕСНАЯ', 'КАДАЛА', 'ЧИТА I', 'КАРЫМСКАЯ', 'ТАРСКАЯ', 'УРУЛЬГА', 'СОЛНЦЕВАЯ', 'ШИЛКА-ТОВАРНАЯ', 'ШИЛКА-ПАССАЖИРСКАЯ', 'ПРИИСКОВАЯ', 'КУЭНГА', 'ЧЕРНЫШЕВСК-ЗАБАЙКАЛЬСКИЙ', 'ЖИРЕКЕН', 'ЗИЛОВО', 'КСЕНЬЕВСКАЯ', 'МОГОЧА', 'АМАЗАР', 'ЕРОФЕЙ ПАВЛОВИЧ', 'УРУША', 'БАМОВСКАЯ', 'ГОРЕЛЫЙ', 'СКОВОРОДИНО', 'БОЛЬШОЙ НЕВЕР', 'ТАЛДАН', 'МАГДАГАЧИ', 'УШУМУН', 'ШИМАНОВСКАЯ', 'ЛЕДЯНАЯ', 'БЕЛОГОРСК', 'БЕЛОГОРСК II', 'ЗАВИТАЯ', 'БУРЕЯ', 'АРХАРА', 'ОБЛУЧЬЕ', 'ИЗВЕСТКОВАЯ', 'БИРА', 'БИРОБИДЖАН I', 'ВОЛОЧАЕВКА I', 'ТУНГУССКИЙ', 'ДЕЖНЕВКА', 'ПРИАМУРСКАЯ', 'ПОСТ-ПОКРОВСКИЙ', 'АМУР', 'ХАБАРОВСК I', 'ХАБАРОВСК II', 'КРУГЛИКОВО', 'ВЯЗЕМСКАЯ', 'РОЗЕНГАРТОВКА', 'БИКИН', 'ЛУЧЕГОРСК', 'ГУБЕРОВО', 'ЭБЕРГАРД', 'ДАЛЬНЕРЕЧЕНСК I', 'БЛОКПОСТ 1571 КМ', 'РУЖИНО', 'ШМАКОВКА', 'СПАССК-ДАЛЬНИЙ', 'СИБИРЦЕВО', 'ДУБИНИНСКИЙ', 'УССУРИЙСК', 'БАРАНОВСКИЙ', 'НАДЕЖДИНСКАЯ', 'АМУРСКИЙ ЗАЛИВ', 'УГЛОВАЯ', 'АРТЕМ-ПРИМОРСКИЙ I', 'АРТЕМ-ПРИМОРСКИЙ III', 'ШКОТОВО', 'СМОЛЯНИНОВО', 'НОВОНЕЖИНО', 'АНИСИМОВКА', 'КРАСНОАРМЕЙСКИЙ', 'ПАРТИЗАНСК', 'ЛОЗОВЫЙ', 'КУЗНЕЦОВО', 'НАХОДКА']\n",
      "\n",
      "TRUE. Path from МАРИИНСК to ВАНИНО (total cost 165.95): ['МАРИИНСК', 'БОГОТОЛ', 'ЗЕРЦАЛЫ', 'АЧИНСК I', 'ЧЕРНОРЕЧЕНСКАЯ', 'БУГАЧ', 'КРАСНОЯРСК-СЕВЕРНЫЙ', 'КРАСНОЯРСК-ВОСТОЧНЫЙ', 'ЗЫКОВО', 'УЯР', 'ЗАОЗЕРНАЯ', 'ИЛАНСКАЯ', 'РЕШОТЫ', 'КЛЮЧИ', 'ЮРТЫ', 'ТАЙШЕТ', 'БАЙРОНОВКА', 'АЛЗАМАЙ', 'НИЖНЕУДИНСК', 'УДА II', 'ТУЛУН', 'АЗЕЙ', 'КУЙТУН', 'ПЕРЕВОЗ', 'ЗИМА', 'ЗАЛАРИ', 'ЧЕРЕМХОВО', 'КАСЬЯНОВКА', 'МАЛЬТА', 'КИТОЙ', 'АНГАРСК', 'СУХОВСКАЯ', 'МЕГЕТ', 'БАТАРЕЙНАЯ', 'ИРКУТСК-СОРТИРОВОЧНЫЙ', 'ГОНЧАРОВО', 'БОЛЬШОЙ ЛУГ', 'АНДРИАНОВСКАЯ', 'АНГАСОЛКА', 'СЛЮДЯНКА II', 'СЛЮДЯНКА I', 'БАЙКАЛЬСК', 'МЫСОВАЯ', 'УЛАН-УДЭ', 'ЗАУДИНСКИЙ', 'ТАЛЬЦЫ', 'ЧЕЛУТАЙ', 'ГОРХОН', 'КИЖА', 'ПЕТРОВСКИЙ ЗАВОД', 'ЖИПХЕГЕН', 'ХИЛОК', 'МОГЗОН', 'ТУРГУТУЙ', 'ЛЕСНАЯ', 'КАДАЛА', 'ЧИТА I', 'КАРЫМСКАЯ', 'ТАРСКАЯ', 'УРУЛЬГА', 'СОЛНЦЕВАЯ', 'ШИЛКА-ТОВАРНАЯ', 'ШИЛКА-ПАССАЖИРСКАЯ', 'ПРИИСКОВАЯ', 'КУЭНГА', 'ЧЕРНЫШЕВСК-ЗАБАЙКАЛЬСКИЙ', 'ЖИРЕКЕН', 'ЗИЛОВО', 'КСЕНЬЕВСКАЯ', 'МОГОЧА', 'АМАЗАР', 'ЕРОФЕЙ ПАВЛОВИЧ', 'УРУША', 'БАМОВСКАЯ', 'ГОРЕЛЫЙ', 'СКОВОРОДИНО', 'БОЛЬШОЙ НЕВЕР', 'ТАЛДАН', 'МАГДАГАЧИ', 'УШУМУН', 'ШИМАНОВСКАЯ', 'ЛЕДЯНАЯ', 'БЕЛОГОРСК', 'БЕЛОГОРСК II', 'ЗАВИТАЯ', 'БУРЕЯ', 'АРХАРА', 'ОБЛУЧЬЕ', 'ИЗВЕСТКОВАЯ', 'БИРА', 'БИРОБИДЖАН I', 'ВОЛОЧАЕВКА I', 'ТУНГУССКИЙ', 'ВОЛОЧАЕВКА II', 'СЕЛЬГОН', 'МЫЛКИ', 'КОМСОМОЛЬСК-НА-АМУРЕ-СОРТИРОВОЧНЫЙ', 'СЕЛИХИН', 'ЭЛЬДИГАН', 'КУН', 'ГУРСКОЕ', 'ОУНЭ', 'БЛОКПОСТ 197 КМ', 'ВЫСОКОГОРНАЯ', 'МОНГОХТО', 'ТОКИ', 'ВАНИНО']\n",
      "\n",
      "TRUE. Path from БЕРКАКИТ to ХАБАРОВСК II (total cost 44.25): ['БЕРКАКИТ', 'БЕСТУЖЕВО', 'ШАХТАУМ', 'ТЫНДА', 'ШТУРМ', 'ГОРЕЛЫЙ', 'СКОВОРОДИНО', 'БОЛЬШОЙ НЕВЕР', 'ТАЛДАН', 'МАГДАГАЧИ', 'УШУМУН', 'ШИМАНОВСКАЯ', 'ЛЕДЯНАЯ', 'БЕЛОГОРСК', 'БЕЛОГОРСК II', 'ЗАВИТАЯ', 'БУРЕЯ', 'АРХАРА', 'ОБЛУЧЬЕ', 'ИЗВЕСТКОВАЯ', 'БИРА', 'БИРОБИДЖАН I', 'ВОЛОЧАЕВКА I', 'ТУНГУССКИЙ', 'ДЕЖНЕВКА', 'ПРИАМУРСКАЯ', 'ПОСТ-ПОКРОВСКИЙ', 'АМУР', 'ХАБАРОВСК I', 'ХАБАРОВСК II']\n",
      "\n",
      "TRUE. Path from ВАНИНО to ТАКСИМО (total cost 148.30): ['ВАНИНО', 'ТОКИ', 'МОНГОХТО', 'ВЫСОКОГОРНАЯ', 'БЛОКПОСТ 197 КМ', 'ОУНЭ', 'ГУРСКОЕ', 'КУН', 'ЭЛЬДИГАН', 'СЕЛИХИН', 'КОМСОМОЛЬСК-НА-АМУРЕ-СОРТИРОВОЧНЫЙ', 'КОМСОМОЛЬСК-НА-АМУРЕ', 'КОМСОМОЛЬСК-НА-АМУРЕ II', 'ЭВОРОН', 'МОНИ', 'БОЛЕН', 'ПОСТЫШЕВО', 'СУЛУК', 'ДУССЕ-АЛИНЬ', 'СОЛОНИ', 'УРГАЛ I', 'НОВЫЙ УРГАЛ', 'ФЕВРАЛЬСК', 'ВЕРХНЕЗЕЙСК', 'ДИПКУН', 'БЕСТУЖЕВО', 'ШАХТАУМ', 'ТЫНДА', 'КУВЫКТА', 'ЛОПЧА', 'ЮКТАЛИ', 'ОЛЕКМА', 'ХАНИ', 'ИКАБЬЯКАН', 'НОВАЯ ЧАРА', 'СЮЛЬБАН', 'БАЛБУХТА', 'КУАНДА', 'ТАКСИМО']\n",
      "\n",
      "TRUE. Path from АЧИНСК I to АБАКАН (total cost 24.40): ['АЧИНСК I', 'АЧИНСК II', 'ПРИГОРОДНЫЙ', 'УЛУЙ', 'НАЗАРОВО', 'КРАСНАЯ СОПКА', 'УЖУР', 'ТИСИН', 'СОН', 'ТУМАННЫЙ', 'ЕРБИНСКАЯ', 'ОРОСИТЕЛЬНЫЙ', 'ТИГЕЙ', 'ТАШЕБА', 'АБАКАН']\n",
      "\n",
      "TRUE. Path from ЗИМА to СЛЮДЯНКА I (total cost 12.20): ['ЗИМА', 'ЗАЛАРИ', 'ЧЕРЕМХОВО', 'КАСЬЯНОВКА', 'МАЛЬТА', 'КИТОЙ', 'АНГАРСК', 'СУХОВСКАЯ', 'МЕГЕТ', 'БАТАРЕЙНАЯ', 'ИРКУТСК-СОРТИРОВОЧНЫЙ', 'ГОНЧАРОВО', 'БОЛЬШОЙ ЛУГ', 'АНДРИАНОВСКАЯ', 'АНГАСОЛКА', 'СЛЮДЯНКА II', 'СЛЮДЯНКА I']\n",
      "\n",
      "TRUE. Path from АЧИНСК I to ИЛАНСКАЯ (total cost 11.50): ['АЧИНСК I', 'ЧЕРНОРЕЧЕНСКАЯ', 'БУГАЧ', 'КРАСНОЯРСК-СЕВЕРНЫЙ', 'КРАСНОЯРСК-ВОСТОЧНЫЙ', 'ЗЫКОВО', 'УЯР', 'ЗАОЗЕРНАЯ', 'ИЛАНСКАЯ']\n",
      "\n",
      "TRUE. Path from МАРИИНСК to ТЫНДА (total cost 107.60): ['МАРИИНСК', 'БОГОТОЛ', 'ЗЕРЦАЛЫ', 'АЧИНСК I', 'ЧЕРНОРЕЧЕНСКАЯ', 'БУГАЧ', 'КРАСНОЯРСК-СЕВЕРНЫЙ', 'КРАСНОЯРСК-ВОСТОЧНЫЙ', 'ЗЫКОВО', 'УЯР', 'ЗАОЗЕРНАЯ', 'ИЛАНСКАЯ', 'РЕШОТЫ', 'КЛЮЧИ', 'ЮРТЫ', 'ТАЙШЕТ', 'БАЙРОНОВКА', 'АЛЗАМАЙ', 'НИЖНЕУДИНСК', 'УДА II', 'ТУЛУН', 'АЗЕЙ', 'КУЙТУН', 'ПЕРЕВОЗ', 'ЗИМА', 'ЗАЛАРИ', 'ЧЕРЕМХОВО', 'КАСЬЯНОВКА', 'МАЛЬТА', 'КИТОЙ', 'АНГАРСК', 'СУХОВСКАЯ', 'МЕГЕТ', 'БАТАРЕЙНАЯ', 'ИРКУТСК-СОРТИРОВОЧНЫЙ', 'ГОНЧАРОВО', 'БОЛЬШОЙ ЛУГ', 'АНДРИАНОВСКАЯ', 'АНГАСОЛКА', 'СЛЮДЯНКА II', 'СЛЮДЯНКА I', 'БАЙКАЛЬСК', 'МЫСОВАЯ', 'УЛАН-УДЭ', 'ЗАУДИНСКИЙ', 'ТАЛЬЦЫ', 'ЧЕЛУТАЙ', 'ГОРХОН', 'КИЖА', 'ПЕТРОВСКИЙ ЗАВОД', 'ЖИПХЕГЕН', 'ХИЛОК', 'МОГЗОН', 'ТУРГУТУЙ', 'ЛЕСНАЯ', 'КАДАЛА', 'ЧИТА I', 'КАРЫМСКАЯ', 'ТАРСКАЯ', 'УРУЛЬГА', 'СОЛНЦЕВАЯ', 'ШИЛКА-ТОВАРНАЯ', 'ШИЛКА-ПАССАЖИРСКАЯ', 'ПРИИСКОВАЯ', 'КУЭНГА', 'ЧЕРНЫШЕВСК-ЗАБАЙКАЛЬСКИЙ', 'ЖИРЕКЕН', 'ЗИЛОВО', 'КСЕНЬЕВСКАЯ', 'МОГОЧА', 'АМАЗАР', 'ЕРОФЕЙ ПАВЛОВИЧ', 'УРУША', 'БАМОВСКАЯ', 'ГОРЕЛЫЙ', 'ШТУРМ', 'ТЫНДА']\n",
      "\n",
      "TRUE. Path from МАРИИНСК to ПОСТЫШЕВО (total cost 137.15): ['МАРИИНСК', 'БОГОТОЛ', 'ЗЕРЦАЛЫ', 'АЧИНСК I', 'ЧЕРНОРЕЧЕНСКАЯ', 'БУГАЧ', 'КРАСНОЯРСК-СЕВЕРНЫЙ', 'КРАСНОЯРСК-ВОСТОЧНЫЙ', 'ЗЫКОВО', 'УЯР', 'ЗАОЗЕРНАЯ', 'ИЛАНСКАЯ', 'РЕШОТЫ', 'КЛЮЧИ', 'ЮРТЫ', 'ТАЙШЕТ', 'БАЙРОНОВКА', 'АЛЗАМАЙ', 'НИЖНЕУДИНСК', 'УДА II', 'ТУЛУН', 'АЗЕЙ', 'КУЙТУН', 'ПЕРЕВОЗ', 'ЗИМА', 'ЗАЛАРИ', 'ЧЕРЕМХОВО', 'КАСЬЯНОВКА', 'МАЛЬТА', 'КИТОЙ', 'АНГАРСК', 'СУХОВСКАЯ', 'МЕГЕТ', 'БАТАРЕЙНАЯ', 'ИРКУТСК-СОРТИРОВОЧНЫЙ', 'ГОНЧАРОВО', 'БОЛЬШОЙ ЛУГ', 'АНДРИАНОВСКАЯ', 'АНГАСОЛКА', 'СЛЮДЯНКА II', 'СЛЮДЯНКА I', 'БАЙКАЛЬСК', 'МЫСОВАЯ', 'УЛАН-УДЭ', 'ЗАУДИНСКИЙ', 'ТАЛЬЦЫ', 'ЧЕЛУТАЙ', 'ГОРХОН', 'КИЖА', 'ПЕТРОВСКИЙ ЗАВОД', 'ЖИПХЕГЕН', 'ХИЛОК', 'МОГЗОН', 'ТУРГУТУЙ', 'ЛЕСНАЯ', 'КАДАЛА', 'ЧИТА I', 'КАРЫМСКАЯ', 'ТАРСКАЯ', 'УРУЛЬГА', 'СОЛНЦЕВАЯ', 'ШИЛКА-ТОВАРНАЯ', 'ШИЛКА-ПАССАЖИРСКАЯ', 'ПРИИСКОВАЯ', 'КУЭНГА', 'ЧЕРНЫШЕВСК-ЗАБАЙКАЛЬСКИЙ', 'ЖИРЕКЕН', 'ЗИЛОВО', 'КСЕНЬЕВСКАЯ', 'МОГОЧА', 'АМАЗАР', 'ЕРОФЕЙ ПАВЛОВИЧ', 'УРУША', 'БАМОВСКАЯ', 'ГОРЕЛЫЙ', 'ШТУРМ', 'ТЫНДА', 'ШАХТАУМ', 'БЕСТУЖЕВО', 'ДИПКУН', 'ВЕРХНЕЗЕЙСК', 'ФЕВРАЛЬСК', 'НОВЫЙ УРГАЛ', 'УРГАЛ I', 'СОЛОНИ', 'ДУССЕ-АЛИНЬ', 'СУЛУК', 'ПОСТЫШЕВО']\n",
      "\n"
     ]
    }
   ],
   "source": [
    "for test in tests:    \n",
    "    path1, length1 = get_path_no_print(cost, 'tcost', suffix='name', st_from=test[0], st_to=test[1])\n",
    "    #path2, length2 = get_path_no_print(cost, 'tcost', suffix='name', st_from=test[1], st_to=test[0])\n",
    "    res = (test[2] in path1) == test[3]    \n",
    "    print('%s. Path from %s to %s (total cost %.2f): %s\\n' % (str(res).upper(), test[0], test[1], length1, path1))    "
   ]
  },
  {
   "cell_type": "code",
   "execution_count": 20,
   "metadata": {
    "collapsed": false
   },
   "outputs": [
    {
     "name": "stdout",
     "output_type": "stream",
     "text": [
      "['МАРИИНСК', 'БОГОТОЛ', 'ЗЕРЦАЛЫ', 'АЧИНСК I', 'АЧИНСК II', 'ПРИГОРОДНЫЙ', 'УЛУЙ', 'НАЗАРОВО', 'КРАСНАЯ СОПКА', 'УЖУР', 'ТИСИН', 'СОН', 'ТУМАННЫЙ', 'ЕРБИНСКАЯ', 'ОРОСИТЕЛЬНЫЙ', 'ХОНЫХ', 'КАМЫШТА', 'АСКИЗ', 'ХАБЗАС', 'НАНХЧУЛ', 'БИСКАМЖА', 'МЕЖДУРЕЧЕНСК']\n"
     ]
    }
   ],
   "source": [
    "path1, length1 = get_path_no_print(cost, 'tcost', suffix='name', st_from='МАРИИНСК', st_to='МЕЖДУРЕЧЕНСК')\n",
    "print(path1)"
   ]
  },
  {
   "cell_type": "markdown",
   "metadata": {},
   "source": [
    "### Выгрузка весов в файл"
   ]
  },
  {
   "cell_type": "code",
   "execution_count": 26,
   "metadata": {
    "collapsed": false
   },
   "outputs": [
    {
     "name": "stdout",
     "output_type": "stream",
     "text": [
      "Веса участков выгружены в файл resources/cost.csv\n"
     ]
    }
   ],
   "source": [
    "df_cost = cost[['st_from', 'st_to', 'st_from_esr', 'st_to_esr', 'st_from_name', 'st_to_name', 'tcost_round']]\n",
    "df_cost.columns = df_cost.columns.map(lambda x: x.upper())\n",
    "filename = FOLDER + 'cost.csv'\n",
    "df_cost.to_csv(filename, encoding='utf-8-sig', index=False, sep=';')\n",
    "print('Веса участков выгружены в файл', filename)"
   ]
  },
  {
   "cell_type": "markdown",
   "metadata": {},
   "source": [
    "### Выгрузка маршрутов в файл"
   ]
  },
  {
   "cell_type": "code",
   "execution_count": 31,
   "metadata": {
    "collapsed": false
   },
   "outputs": [
    {
     "name": "stdout",
     "output_type": "stream",
     "text": [
      "Запись маршрутов в файл paths_id.csv ...\n"
     ]
    },
    {
     "ename": "AttributeError",
     "evalue": "'DataFrame' object has no attribute 'st_from'",
     "output_type": "error",
     "traceback": [
      "\u001b[1;31m---------------------------------------------------------------------------\u001b[0m",
      "\u001b[1;31mAttributeError\u001b[0m                            Traceback (most recent call last)",
      "\u001b[1;32m<ipython-input-31-07068b4fa6ca>\u001b[0m in \u001b[0;36m<module>\u001b[1;34m()\u001b[0m\n\u001b[0;32m      1\u001b[0m \u001b[0mall_paths\u001b[0m\u001b[1;33m,\u001b[0m \u001b[0mall_lengths\u001b[0m \u001b[1;33m=\u001b[0m \u001b[0mget_all_paths\u001b[0m\u001b[1;33m(\u001b[0m\u001b[0mcost\u001b[0m\u001b[1;33m,\u001b[0m \u001b[1;34m'tcost'\u001b[0m\u001b[1;33m,\u001b[0m \u001b[0msuffix\u001b[0m\u001b[1;33m=\u001b[0m\u001b[1;34m''\u001b[0m\u001b[1;33m)\u001b[0m\u001b[1;33m\u001b[0m\u001b[0m\n\u001b[1;32m----> 2\u001b[1;33m \u001b[0msave_paths_to_file\u001b[0m\u001b[1;33m(\u001b[0m\u001b[0mall_paths\u001b[0m\u001b[1;33m,\u001b[0m \u001b[0mall_lengths\u001b[0m\u001b[1;33m,\u001b[0m \u001b[0mfilename\u001b[0m\u001b[1;33m=\u001b[0m\u001b[1;34m'paths_id.csv'\u001b[0m\u001b[1;33m)\u001b[0m\u001b[1;33m\u001b[0m\u001b[0m\n\u001b[0m",
      "\u001b[1;32m<ipython-input-30-7bdc063e4e7b>\u001b[0m in \u001b[0;36msave_paths_to_file\u001b[1;34m(all_paths, all_lengths, filename)\u001b[0m\n\u001b[0;32m     10\u001b[0m     \u001b[0mdf_paths\u001b[0m \u001b[1;33m=\u001b[0m \u001b[0mdf_lengths\u001b[0m\u001b[1;33m.\u001b[0m\u001b[0mto_frame\u001b[0m\u001b[1;33m(\u001b[0m\u001b[1;33m)\u001b[0m\u001b[1;33m.\u001b[0m\u001b[0mjoin\u001b[0m\u001b[1;33m(\u001b[0m\u001b[0mdf_paths\u001b[0m\u001b[1;33m)\u001b[0m\u001b[1;33m.\u001b[0m\u001b[0mreset_index\u001b[0m\u001b[1;33m(\u001b[0m\u001b[1;33m)\u001b[0m\u001b[1;33m\u001b[0m\u001b[0m\n\u001b[0;32m     11\u001b[0m     \u001b[0mdf_paths\u001b[0m\u001b[1;33m.\u001b[0m\u001b[0mcolumns\u001b[0m \u001b[1;33m=\u001b[0m \u001b[1;33m[\u001b[0m\u001b[1;34m'ST_FROM'\u001b[0m\u001b[1;33m,\u001b[0m \u001b[1;34m'ST_TO'\u001b[0m\u001b[1;33m,\u001b[0m \u001b[1;34m'ROUTE_COST'\u001b[0m\u001b[1;33m,\u001b[0m \u001b[1;34m'ROUTE'\u001b[0m\u001b[1;33m]\u001b[0m\u001b[1;33m\u001b[0m\u001b[0m\n\u001b[1;32m---> 12\u001b[1;33m     \u001b[0mdf_paths\u001b[0m\u001b[1;33m.\u001b[0m\u001b[0mst_from\u001b[0m \u001b[1;33m=\u001b[0m \u001b[0mdf_paths\u001b[0m\u001b[1;33m.\u001b[0m\u001b[0mst_from\u001b[0m\u001b[1;33m.\u001b[0m\u001b[0mapply\u001b[0m\u001b[1;33m(\u001b[0m\u001b[0mint\u001b[0m\u001b[1;33m)\u001b[0m\u001b[1;33m\u001b[0m\u001b[0m\n\u001b[0m\u001b[0;32m     13\u001b[0m     \u001b[0mdf_paths\u001b[0m\u001b[1;33m.\u001b[0m\u001b[0mst_to\u001b[0m \u001b[1;33m=\u001b[0m \u001b[0mdf_paths\u001b[0m\u001b[1;33m.\u001b[0m\u001b[0mst_to\u001b[0m\u001b[1;33m.\u001b[0m\u001b[0mapply\u001b[0m\u001b[1;33m(\u001b[0m\u001b[0mint\u001b[0m\u001b[1;33m)\u001b[0m\u001b[1;33m\u001b[0m\u001b[0m\n\u001b[0;32m     14\u001b[0m     \u001b[0mdf_paths\u001b[0m\u001b[1;33m.\u001b[0m\u001b[0mROUTE_COST\u001b[0m \u001b[1;33m=\u001b[0m \u001b[0mdf_paths\u001b[0m\u001b[1;33m.\u001b[0m\u001b[0mROUTE_COST\u001b[0m\u001b[1;33m.\u001b[0m\u001b[0mapply\u001b[0m\u001b[1;33m(\u001b[0m\u001b[1;32mlambda\u001b[0m \u001b[0mx\u001b[0m\u001b[1;33m:\u001b[0m \u001b[0mnp\u001b[0m\u001b[1;33m.\u001b[0m\u001b[0mround\u001b[0m\u001b[1;33m(\u001b[0m\u001b[0mx\u001b[0m\u001b[1;33m,\u001b[0m \u001b[1;36m2\u001b[0m\u001b[1;33m)\u001b[0m\u001b[1;33m)\u001b[0m\u001b[1;33m\u001b[0m\u001b[0m\n",
      "\u001b[1;32mC:\\Users\\oracle\\Anaconda3\\lib\\site-packages\\pandas\\core\\generic.py\u001b[0m in \u001b[0;36m__getattr__\u001b[1;34m(self, name)\u001b[0m\n\u001b[0;32m   2358\u001b[0m                 \u001b[1;32mreturn\u001b[0m \u001b[0mself\u001b[0m\u001b[1;33m[\u001b[0m\u001b[0mname\u001b[0m\u001b[1;33m]\u001b[0m\u001b[1;33m\u001b[0m\u001b[0m\n\u001b[0;32m   2359\u001b[0m             raise AttributeError(\"'%s' object has no attribute '%s'\" %\n\u001b[1;32m-> 2360\u001b[1;33m                                  (type(self).__name__, name))\n\u001b[0m\u001b[0;32m   2361\u001b[0m \u001b[1;33m\u001b[0m\u001b[0m\n\u001b[0;32m   2362\u001b[0m     \u001b[1;32mdef\u001b[0m \u001b[0m__setattr__\u001b[0m\u001b[1;33m(\u001b[0m\u001b[0mself\u001b[0m\u001b[1;33m,\u001b[0m \u001b[0mname\u001b[0m\u001b[1;33m,\u001b[0m \u001b[0mvalue\u001b[0m\u001b[1;33m)\u001b[0m\u001b[1;33m:\u001b[0m\u001b[1;33m\u001b[0m\u001b[0m\n",
      "\u001b[1;31mAttributeError\u001b[0m: 'DataFrame' object has no attribute 'st_from'"
     ]
    }
   ],
   "source": [
    "all_paths, all_lengths = get_all_paths(cost, 'tcost', suffix='')\n",
    "save_paths_to_file(all_paths, all_lengths, filename='paths_id.csv')"
   ]
  }
 ],
 "metadata": {
  "kernelspec": {
   "display_name": "Python 3",
   "language": "python",
   "name": "python3"
  },
  "language_info": {
   "codemirror_mode": {
    "name": "ipython",
    "version": 3
   },
   "file_extension": ".py",
   "mimetype": "text/x-python",
   "name": "python",
   "nbconvert_exporter": "python",
   "pygments_lexer": "ipython3",
   "version": "3.5.1"
  }
 },
 "nbformat": 4,
 "nbformat_minor": 0
}
