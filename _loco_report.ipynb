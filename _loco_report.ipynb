{
 "cells": [
  {
   "cell_type": "markdown",
   "metadata": {},
   "source": [
    "<a id='toc'></a>\n",
    "# Список тестов по запланированным локомотивам:"
   ]
  },
  {
   "cell_type": "markdown",
   "metadata": {},
   "source": [
    "1. [Вычисление процента подвязки поездов и локомотивов.](#perc)\n",
    "2. [Проверка правильности назначениях тяговых плеч локомотивам во входных данных.](#regions)\n",
    "   1. [Проверка назначения тяговых плеч локомотивам в соответствии с сериями](#correct_reg_ser)\n",
    "   2. [Проверка невыезда локомотива за пределы своих тяговых плеч в процессе планирования](#correct_reg_plan)\n",
    "   3. [Локомотивы на чужих тяговых плечах на начало планирования](#bad_regs_loco_info)\n",
    "3. [Проверка пунктов проведения ТО-2.](#st_to2)\n",
    "4. [Проверка подвязки на соответствие весовым нормам.](#tonnage)\n",
    "5. [Проверка смен локомотива на станциях обязательной смены.](#change)\n",
    "6. [Анализ локомотивов резервом.](#res)\n",
    "   1. [Проверка номеров поездов, соответствующих локомотивам резервом.](#res_nums)\n",
    "   2. [Вычисление количества локомотивов резервом по направлениям.](#res_amount)\n",
    "   3. [Проверка отправления локомотивов резервом до начала планирования.](#res_before)\n",
    "   4. [Анализ отправления локомотивов резервом в четную сторону.](#res_even)\n",
    "   5. [Проверка времени хода для локомотивов резервом](#Проверка-времени-хода-для-локомотивов-резервом)\n",
    "7. [Проверка скачков по времени назад](#time_leaps)\n",
    "7. [Создание отчета](#report)"
   ]
  },
  {
   "cell_type": "markdown",
   "metadata": {},
   "source": [
    "### Константы и настройки"
   ]
  },
  {
   "cell_type": "code",
   "execution_count": 44,
   "metadata": {
    "collapsed": true
   },
   "outputs": [],
   "source": [
    "report = ''\n",
    "FOLDER = 'resources/'\n",
    "REPORT_FOLDER = 'report/'\n",
    "PRINT = True"
   ]
  },
  {
   "cell_type": "markdown",
   "metadata": {},
   "source": [
    "### Функции для экспорта в HTML"
   ]
  },
  {
   "cell_type": "code",
   "execution_count": 45,
   "metadata": {
    "collapsed": false
   },
   "outputs": [],
   "source": [
    "def add_line(line, p=PRINT):    \n",
    "    global report        \n",
    "    if p:        \n",
    "        if type(line) == str:\n",
    "            print(line)        \n",
    "        elif type(line) == pd.core.frame.DataFrame:\n",
    "            print(line.to_string(index=False))\n",
    "        elif type(line) == pd.core.series.Series:\n",
    "            print(line.to_string())\n",
    "    if type(line) == pd.core.frame.DataFrame:        \n",
    "        report += ('%s<br>' % line.to_html(index=False))\n",
    "    elif type(line) == pd.core.series.Series:\n",
    "        report += ('%s<br>' % line.to_frame().reset_index().to_html(index=False))\n",
    "    else:                \n",
    "        report += ('%s<br>' % line)\n",
    "    \n",
    "def add_header(header, h=4, p=PRINT):\n",
    "    global report    \n",
    "    report += ('<h%d>%s</h%d>' % (h, header, h))    \n",
    "    if p:\n",
    "        print(header)\n",
    "        \n",
    "def add_image(filename):\n",
    "    global report\n",
    "    report += ('<img src=\"%s\" alt=\"%s\" height=\"40%%\">' % (filename, filename))\n",
    "\n",
    "def create_report(filename):\n",
    "    global report\n",
    "    report = report.replace('<table border=\"1\" class=\"dataframe\">','<table class=\"table table-striped\">')\n",
    "    html_string = '''\n",
    "        <html>\n",
    "            <head>\n",
    "                <link rel=\"stylesheet\" href=\"skeleton.css\">\n",
    "                <style>body{ margin:20 20; background:whitesmoke; }\n",
    "                table {table-layout : fixed}\n",
    "                </style>\n",
    "            </head>\n",
    "            <body>\n",
    "                <h1>Проверки по локомотивам</h1>        \n",
    "                %s\n",
    "            </body>\n",
    "        </html>''' % (report)\n",
    "    f = open(filename,'w', encoding='utf-8-sig')\n",
    "    f.write(html_string)\n",
    "    f.close()\n",
    "    print('Отчет сформирован за %.2f сек. и записан в файл %s' % (time.time() - start_time, filename))"
   ]
  },
  {
   "cell_type": "markdown",
   "metadata": {},
   "source": [
    "## Загрузка и подготовка данных"
   ]
  },
  {
   "cell_type": "code",
   "execution_count": 180,
   "metadata": {
    "collapsed": true
   },
   "outputs": [],
   "source": [
    "TIME_FORMAT = '%b %d, %H:%M'\n",
    "'''\n",
    "    Преобразует время из timestamp в красивый формат, заданный в константе time_format\n",
    "'''\n",
    "def nice_time(t):\n",
    "    return time.strftime(TIME_FORMAT, time.localtime(t)) if t > 0 else ''\n",
    "\n",
    "def nice_print(s, **kwargs):    \n",
    "    num = kwargs['num'] if 'num' in kwargs.keys() else False\n",
    "    cols = kwargs['cols'] if 'cols' in kwargs.keys() else s.columns\n",
    "    if num:\n",
    "        print(s.reset_index()[cols].to_string())\n",
    "    else:\n",
    "        print(s[cols].to_string(index=False))"
   ]
  },
  {
   "cell_type": "code",
   "execution_count": 46,
   "metadata": {
    "collapsed": false
   },
   "outputs": [
    {
     "name": "stdout",
     "output_type": "stream",
     "text": [
      "Время составления отчета: Aug 01, 12:44\n",
      "Время запуска планировщика: Jul 15, 14:41 (1468582897)\n"
     ]
    }
   ],
   "source": [
    "import numpy as np\n",
    "import pandas as pd\n",
    "import time, datetime\n",
    "from ast import literal_eval\n",
    "import matplotlib.pyplot as plt\n",
    "import seaborn as sns\n",
    "from IPython import get_ipython\n",
    "\n",
    "%matplotlib inline\n",
    "plt.style.use('fivethirtyeight')\n",
    "plt.rc('font', family='Times New Roman')\n",
    "\n",
    "pd.set_option('max_rows', 50)\n",
    "pd.set_option('display.max_colwidth', 25)\n",
    "\n",
    "time_format = '%b %d, %H:%M'\n",
    "\n",
    "start_time = time.time()\n",
    "current_time   = pd.read_csv(FOLDER + 'current_time.csv').current_time[0]\n",
    "twr            = pd.read_csv(FOLDER + 'team_work_region.csv', converters={'team_work_region':str})\n",
    "links          = pd.read_csv(FOLDER + 'link.csv', converters={'st_from':str, 'st_to':str})\n",
    "stations       = pd.read_csv(FOLDER + 'station.csv', converters={'station':str})\n",
    "train_info     = pd.read_csv(FOLDER + 'train_info.csv', converters={'train': str, 'st_from':str, 'st_to':str})\n",
    "train_plan     = pd.read_csv(FOLDER + 'slot_train.csv', converters={'train': str, 'st_from':str, 'st_to':str})\n",
    "loco_info      = pd.read_csv(FOLDER + 'loco_attributes.csv', converters={'train':str, 'loco':str, \n",
    "                                                                   'st_from':str, 'st_to':str, 'depot':str})\n",
    "loco_plan      = pd.read_csv(FOLDER + 'slot_loco.csv', converters={'train':str, 'loco':str, 'st_from':str, 'st_to':str})\n",
    "team_info      = pd.read_csv(FOLDER + 'team_attributes.csv', converters={'team':str,'depot':str, 'oper_location':str, \\\n",
    "                                                     'st_from':str, 'st_to':str, 'loco':str, 'depot_st':str})\n",
    "\n",
    "team_plan      = pd.read_csv(FOLDER + 'slot_team.csv', converters={'team':str,'loco':str, 'st_from':str, 'st_to':str})\n",
    "loco_series    = pd.read_csv(FOLDER + 'loco_series.csv')\n",
    "loco_info_regs = pd.read_csv(FOLDER + 'loco_info_regs.csv', converters={'loco':str})\n",
    "loco_tonnage   = pd.read_csv(FOLDER + 'loco_tonnage.csv', converters={'st_from':str, 'st_to':str})\n",
    "\n",
    "st_names = stations[['station', 'name', 'esr']].drop_duplicates().set_index('station')\n",
    "team_info.regions = team_info.regions.apply(literal_eval)\n",
    "\n",
    "print('Время составления отчета:', time.strftime(time_format, time.localtime()))\n",
    "print('Время запуска планировщика: %s (%d)' % (time.strftime(time_format, time.localtime(current_time)), current_time))"
   ]
  },
  {
   "cell_type": "code",
   "execution_count": 47,
   "metadata": {
    "collapsed": true
   },
   "outputs": [],
   "source": [
    "# Мержим таблицы _plan и _info для поездов, локомотивов и бригад\n",
    "# Добавляем во все таблицы названия станций на маршруте и времена отправления/прибытия в читабельном формате\n",
    "\n",
    "def add_info(df):    \n",
    "    if 'st_from' in df.columns:\n",
    "        df['st_from_name'] = df.st_from.map(st_names.name)\n",
    "    if 'st_to' in df.columns:\n",
    "        df['st_to_name'] = df.st_to.map(st_names.name)\n",
    "    if 'time_start' in df.columns:\n",
    "        df['time_start_norm'] = df.time_start.apply(lambda x: time.strftime(time_format, time.localtime(x)))\n",
    "    if 'time_end' in df.columns:\n",
    "        df['time_end_norm'] = df.time_end.apply(lambda x: time.strftime(time_format, time.localtime(x)))\n",
    "    if 'oper_location' in df.columns:\n",
    "        df['oper_location_name'] = df.oper_location.map(st_names.name)    \n",
    "        df.oper_location_name.fillna(0, inplace=True)\n",
    "    if ('oper_location' in df.columns) & ('st_from' in df.columns) & ('st_to' in df.columns):        \n",
    "        df['loc_name'] = df.oper_location_name\n",
    "        df.loc[df.loc_name == 0, 'loc_name'] = df.st_from_name + ' - ' + df.st_to_name\n",
    "    \n",
    "add_info(train_plan)\n",
    "add_info(loco_plan)\n",
    "add_info(team_plan)\n",
    "add_info(loco_info)\n",
    "add_info(team_info)\n",
    "train_plan = train_plan.merge(train_info, on='train', suffixes=('', '_info'), how='left')\n",
    "loco_plan = loco_plan.merge(loco_info, on='loco', suffixes=('', '_info'), how='left')\n",
    "team_plan = team_plan.merge(team_info, on='team', suffixes=('', '_info'), how='left')"
   ]
  },
  {
   "cell_type": "code",
   "execution_count": 48,
   "metadata": {
    "collapsed": false
   },
   "outputs": [],
   "source": [
    "# Добавляем ссылку на бригаду в таблицу локомотивов\n",
    "# Добавляем ссылку на локомотив и бригаду в таблицу поездов\n",
    "\n",
    "loco_plan['loco_time'] = list(zip(loco_plan.loco , loco_plan.time_start))\n",
    "team_plan['loco_time'] = list(zip(team_plan.loco , team_plan.time_start))\n",
    "loco_plan['team'] = loco_plan.loco_time.map(team_plan.drop_duplicates('loco_time').set_index('loco_time').team)\n",
    "\n",
    "loco_plan['train_time'] = list(zip(loco_plan.train, loco_plan.time_start))\n",
    "train_plan['train_time'] = list(zip(train_plan.train, train_plan.time_start))\n",
    "train_plan['loco'] = train_plan.train_time.map(loco_plan.drop_duplicates('train_time').set_index('train_time').loco)\n",
    "train_plan['team'] = train_plan.train_time.map(loco_plan.drop_duplicates('train_time').set_index('train_time').team)\n",
    "\n",
    "add_info(loco_tonnage)\n",
    "loco_tonnage['link'] = list(zip(loco_tonnage.st_from, loco_tonnage.st_to))\n",
    "loco_tonnage['ssl'] = list(zip(loco_tonnage.series, loco_tonnage.sections, loco_tonnage.link))\n",
    "loco_tonnage['ser_name'] = loco_tonnage.series.map(loco_series.set_index('ser_id').ser_name)"
   ]
  },
  {
   "cell_type": "markdown",
   "metadata": {},
   "source": [
    "<a =id='perc'></a>\n",
    "## Вычисление процента подвязки поездов и локомотивов [ToC](#toc)"
   ]
  },
  {
   "cell_type": "code",
   "execution_count": 49,
   "metadata": {
    "collapsed": false
   },
   "outputs": [
    {
     "name": "stdout",
     "output_type": "stream",
     "text": [
      "Процент подвязки поездов и локомотивов на горизонте в  6 часов: 83.85% (поездов без локомотива - 755)\n",
      "Процент подвязки поездов и локомотивов на горизонте в 12 часов: 76.55% (поездов без локомотива - 1096)\n",
      "Процент подвязки поездов и локомотивов на горизонте в 24 часов: 64.53% (поездов без локомотива - 1658)\n",
      "Процент подвязки поездов и локомотивов на горизонте в 48 часов: 50.51% (поездов без локомотива - 2313)\n"
     ]
    }
   ],
   "source": [
    "def count_assign_percent(horizon):\n",
    "    mask = (train_plan.time_start < current_time + horizon)\n",
    "    bad_trains = train_plan.loc[mask & (train_plan.loco.isnull())]\n",
    "    bad_trains_n = bad_trains.drop_duplicates('train').train.count()\n",
    "    good_percent = 100 * (1 - bad_trains_n / total_trains_n)        \n",
    "    return 'Процент подвязки поездов и локомотивов на горизонте в %2.d часов: %.2f%% (поездов без локомотива - %d)'\\\n",
    "         % (horizon / 3600, good_percent, bad_trains_n)\n",
    "\n",
    "train_plan['train_type'] = train_plan.train.apply(lambda x: int(str(x)[0]))\n",
    "total_trains_n = train_plan[train_plan.train_type.isin([2, 9])].drop_duplicates('train').train.count()\n",
    "add_header('Вычисление процента подвязки поездов и локомотивов', p=False, h=2)\n",
    "add_line(count_assign_percent(6 * 3600))\n",
    "add_line(count_assign_percent(12 * 3600))\n",
    "add_line(count_assign_percent(24 * 3600))\n",
    "add_line(count_assign_percent(48 * 3600))"
   ]
  },
  {
   "cell_type": "code",
   "execution_count": 51,
   "metadata": {
    "collapsed": false
   },
   "outputs": [
    {
     "name": "stdout",
     "output_type": "stream",
     "text": [
      "Направления, на которые не удалось подвязать локомотив под поезд (первые 10 по количеству поездов):\n",
      "st_from_name           st_to_name         \n",
      "ХАБАРОВСК II           ХАБАРОВСК I            75\n",
      "КАРЫМСКАЯ              ТАРСКАЯ                73\n",
      "                       ЧИТА I                 57\n",
      "МАРИИНСК               БОГОТОЛ                54\n",
      "ХАБАРОВСК II           КРУГЛИКОВО             40\n",
      "КРАСНОЯРСК-ВОСТОЧНЫЙ   КРАСНОЯРСК-СЕВЕРНЫЙ    36\n",
      "ТАЙШЕТ                 ЮРТЫ                   33\n",
      "СМОЛЯНИНОВО            НОВОНЕЖИНО             32\n",
      "НАХОДКА-ВОСТОЧНАЯ      ХМЫЛОВСКИЙ             31\n",
      "ИРКУТСК-СОРТИРОВОЧНЫЙ  ГОНЧАРОВО              29\n"
     ]
    }
   ],
   "source": [
    "a = train_plan[(train_plan.time_start < current_time + 24 * 3600) & (train_plan.loco.isnull())]\\\n",
    "    .drop_duplicates('train')\\\n",
    "    .groupby(['st_from_name', 'st_to_name']).train\\\n",
    "    .count().sort_values(ascending=False)\n",
    "add_header('Направления, на которые не удалось подвязать локомотив под поезд (первые 10 по количеству поездов):')\n",
    "add_line(a.head(10))\n",
    "a.to_csv('a.csv')"
   ]
  },
  {
   "cell_type": "code",
   "execution_count": 52,
   "metadata": {
    "collapsed": false
   },
   "outputs": [
    {
     "name": "stdout",
     "output_type": "stream",
     "text": [
      "Поезда со станции ХАБАРОВСК II, к которым не были подвязаны локомотивы\n",
      "        train  weight  st_from_name   st_to_name           st_dest_name time_start_norm loco ser_name  sections\n",
      " 200021960281    1956  ХАБАРОВСК II  ХАБАРОВСК I        ПОСТ-ПОКРОВСКИЙ   Jul 15, 10:27  NaN      NaN       NaN\n",
      " 200021657781    1687  ХАБАРОВСК II  ХАБАРОВСК I  ИРКУТСК-СОРТИРОВОЧНЫЙ   Jul 15, 16:00  NaN      NaN       NaN\n",
      " 210218415837    5979  ХАБАРОВСК II   КРУГЛИКОВО      НАХОДКА-ВОСТОЧНАЯ   Jul 15, 16:30  NaN      NaN       NaN\n",
      " 200021570413    1702  ХАБАРОВСК II  ХАБАРОВСК I   КРАСНОЯРСК-ВОСТОЧНЫЙ   Jul 15, 16:35  NaN      NaN       NaN\n",
      " 200020313623    5433  ХАБАРОВСК II   КРУГЛИКОВО      НАХОДКА-ВОСТОЧНАЯ   Jul 15, 16:45  NaN      NaN       NaN\n",
      " 200021719989    2499  ХАБАРОВСК II  ХАБАРОВСК I               МАРИИНСК   Jul 15, 16:45  NaN      NaN       NaN\n",
      " 200021958280    1170  ХАБАРОВСК II  ХАБАРОВСК I            ХАБАРОВСК I   Jul 15, 16:55  NaN      NaN       NaN\n",
      " 200021999452    5468  ХАБАРОВСК II   КРУГЛИКОВО              СИБИРЦЕВО   Jul 15, 17:00  NaN      NaN       NaN\n",
      " 200022022224    2141  ХАБАРОВСК II  ХАБАРОВСК I   КРАСНОЯРСК-ВОСТОЧНЫЙ   Jul 15, 17:10  NaN      NaN       NaN\n",
      " 200022041185    3270  ХАБАРОВСК II  ХАБАРОВСК I                 ТАЙШЕТ   Jul 15, 17:20  NaN      NaN       NaN\n",
      " 200022025151    1975  ХАБАРОВСК II   КРУГЛИКОВО              ВЯЗЕМСКАЯ   Jul 15, 17:25  NaN      NaN       NaN\n",
      " 210217809327    6287  ХАБАРОВСК II   КРУГЛИКОВО      ГРОДЕКОВО (КИТАЙ)   Jul 15, 17:35  NaN      NaN       NaN\n",
      " 210219137206    6164  ХАБАРОВСК II   КРУГЛИКОВО                РЫБНИКИ   Jul 15, 17:50  NaN      NaN       NaN\n",
      " 220205721515    6233  ХАБАРОВСК II   КРУГЛИКОВО      ГРОДЕКОВО (КИТАЙ)   Jul 15, 18:05  NaN      NaN       NaN\n",
      " 220207831045    5443  ХАБАРОВСК II   КРУГЛИКОВО      НАХОДКА-ВОСТОЧНАЯ   Jul 15, 18:20  NaN      NaN       NaN\n",
      " 210219430255    5704  ХАБАРОВСК II   КРУГЛИКОВО      НАХОДКА-ВОСТОЧНАЯ   Jul 15, 18:45  NaN      NaN       NaN\n",
      " 200021725057    1051  ХАБАРОВСК II   КРУГЛИКОВО             КРУГЛИКОВО   Jul 15, 19:45  NaN      NaN       NaN\n",
      " 200022047120     851  ХАБАРОВСК II   КРУГЛИКОВО             КРУГЛИКОВО   Jul 15, 20:00  NaN      NaN       NaN\n",
      " 200020460471    5097  ХАБАРОВСК II   КРУГЛИКОВО               ГВОЗДЕВО   Jul 15, 21:50  NaN      NaN       NaN\n",
      " 210218685932    5960  ХАБАРОВСК II   КРУГЛИКОВО      НАХОДКА-ВОСТОЧНАЯ   Jul 15, 22:00  NaN      NaN       NaN\n",
      " 210219066560    6010  ХАБАРОВСК II   КРУГЛИКОВО      НАХОДКА-ВОСТОЧНАЯ   Jul 15, 22:20  NaN      NaN       NaN\n",
      " 210219100699    6263  ХАБАРОВСК II   КРУГЛИКОВО                РЫБНИКИ   Jul 15, 22:45  NaN      NaN       NaN\n",
      " 210219393781    6000  ХАБАРОВСК II   КРУГЛИКОВО      НАХОДКА-ВОСТОЧНАЯ   Jul 15, 23:55  NaN      NaN       NaN\n",
      " 200021570365    1893  ХАБАРОВСК II  ХАБАРОВСК I  ИРКУТСК-СОРТИРОВОЧНЫЙ   Jul 16, 00:00  NaN      NaN       NaN\n",
      " 210219542847    2187  ХАБАРОВСК II   КРУГЛИКОВО             МЫС-ЧУРКИН   Jul 16, 00:10  NaN      NaN       NaN\n",
      " 220210192571    2446  ХАБАРОВСК II   КРУГЛИКОВО            ВЛАДИВОСТОК   Jul 16, 01:30  NaN      NaN       NaN\n",
      " 200021679324    1693  ХАБАРОВСК II  ХАБАРОВСК I  ИРКУТСК-СОРТИРОВОЧНЫЙ   Jul 16, 01:35  NaN      NaN       NaN\n",
      " 200021689211    1708  ХАБАРОВСК II  ХАБАРОВСК I                ЧЕЛУТАЙ   Jul 16, 02:00  NaN      NaN       NaN\n",
      " 210219345735    6234  ХАБАРОВСК II   КРУГЛИКОВО                РЫБНИКИ   Jul 16, 02:10  NaN      NaN       NaN\n",
      " 220210183047    6236  ХАБАРОВСК II   КРУГЛИКОВО      НАХОДКА-ВОСТОЧНАЯ   Jul 16, 03:05  NaN      NaN       NaN\n",
      " 210219585652    2108  ХАБАРОВСК II   КРУГЛИКОВО                УГЛОВАЯ   Jul 16, 03:15  NaN      NaN       NaN\n",
      " 220210160644    3124  ХАБАРОВСК II   КРУГЛИКОВО      НАХОДКА-ВОСТОЧНАЯ   Jul 16, 03:30  NaN      NaN       NaN\n",
      " 220210300194       0  ХАБАРОВСК II   КРУГЛИКОВО                  ХАСАН   Jul 16, 04:05  NaN      NaN       NaN\n",
      " 200021891137    1596  ХАБАРОВСК II  ХАБАРОВСК I               МАРИИНСК   Jul 16, 04:10  NaN      NaN       NaN\n",
      " 210219333877    6290  ХАБАРОВСК II   КРУГЛИКОВО      НАХОДКА-ВОСТОЧНАЯ   Jul 16, 05:10  NaN      NaN       NaN\n",
      " 200021718602    1682  ХАБАРОВСК II  ХАБАРОВСК I  ИРКУТСК-СОРТИРОВОЧНЫЙ   Jul 16, 05:10  NaN      NaN       NaN\n",
      " 210218706869    5139  ХАБАРОВСК II   КРУГЛИКОВО      НАХОДКА-ВОСТОЧНАЯ   Jul 16, 05:25  NaN      NaN       NaN\n",
      " 210219338402    5246  ХАБАРОВСК II   КРУГЛИКОВО          МЫС АСТАФЬЕВА   Jul 16, 05:40  NaN      NaN       NaN\n",
      " 220207785210    5936  ХАБАРОВСК II   КРУГЛИКОВО      НАХОДКА-ВОСТОЧНАЯ   Jul 16, 06:05  NaN      NaN       NaN\n",
      " 210218988605    7029  ХАБАРОВСК II   КРУГЛИКОВО      НАХОДКА-ВОСТОЧНАЯ   Jul 16, 06:20  NaN      NaN       NaN\n",
      " 220210288829    2966  ХАБАРОВСК II   КРУГЛИКОВО      НАХОДКА-ВОСТОЧНАЯ   Jul 16, 07:00  NaN      NaN       NaN\n",
      " 200021943230    1961  ХАБАРОВСК II  ХАБАРОВСК I               МАРИИНСК   Jul 16, 07:25  NaN      NaN       NaN\n",
      " 210219386749    6150  ХАБАРОВСК II   КРУГЛИКОВО      НАХОДКА-ВОСТОЧНАЯ   Jul 16, 07:40  NaN      NaN       NaN\n",
      " 210218979827    5838  ХАБАРОВСК II   КРУГЛИКОВО          МЫС АСТАФЬЕВА   Jul 16, 07:50  NaN      NaN       NaN\n",
      " 200021975384    1295  ХАБАРОВСК II  ХАБАРОВСК I            УСТЬ-ИЛИМСК   Jul 16, 09:20  NaN      NaN       NaN\n",
      " 200021674989    1804  ХАБАРОВСК II  ХАБАРОВСК I               МАРИИНСК   Jul 16, 09:30  NaN      NaN       NaN\n",
      " 210219128871    7446  ХАБАРОВСК II   КРУГЛИКОВО      НАХОДКА-ВОСТОЧНАЯ   Jul 16, 09:35  NaN      NaN       NaN\n",
      " 210219591686    6031  ХАБАРОВСК II   КРУГЛИКОВО                НАХОДКА   Jul 16, 09:50  NaN      NaN       NaN\n",
      " 210219367415    5003  ХАБАРОВСК II   КРУГЛИКОВО                НАХОДКА   Jul 16, 10:45  NaN      NaN       NaN\n",
      " 210217547710    6239  ХАБАРОВСК II   КРУГЛИКОВО      НАХОДКА-ВОСТОЧНАЯ   Jul 16, 11:05  NaN      NaN       NaN\n",
      " 210218029952    5925  ХАБАРОВСК II   КРУГЛИКОВО      НАХОДКА-ВОСТОЧНАЯ   Jul 16, 13:05  NaN      NaN       NaN\n",
      " 210219100219    6294  ХАБАРОВСК II   КРУГЛИКОВО          МЫС АСТАФЬЕВА   Jul 16, 13:35  NaN      NaN       NaN\n",
      " 200022032096    1654  ХАБАРОВСК II  ХАБАРОВСК I               МАРИИНСК   Jul 16, 14:40  NaN      NaN       NaN\n"
     ]
    }
   ],
   "source": [
    "(st_name, st2_name) = a.index[0]\n",
    "train_cols = ['train', 'weight', 'st_from_name', 'st_to_name', 'st_dest_name', 'time_start_norm', 'time_end_norm', 'loco', 'team']\n",
    "cols = ['train', 'weight', 'st_from_name', 'st_to_name', 'st_dest_name', 'time_start_norm', 'loco', 'ser_name', 'sections']\n",
    "routes = pd.read_csv(FOLDER + 'routes.csv', converters={'st_from':str, 'st_to':str, 'train':str})\n",
    "add_info(routes)\n",
    "routes['end'] = routes.train != routes.train.shift(-1)\n",
    "train_plan['st_dest_name'] = train_plan.train.map(routes[routes.end].set_index('train').st_to_name)\n",
    "loco_info['ser_name'] = loco_info.series.map(loco_series.set_index('ser_id').ser_name)\n",
    "train_plan['ser_name'] = train_plan.loco.map(loco_info.set_index('loco').ser_name)\n",
    "train_plan['sections'] = train_plan.loco.map(loco_info.set_index('loco').sections)\n",
    "a = train_plan[(train_plan.time_start < current_time + 24 * 3600) \n",
    "               & (train_plan.loco.isnull())\n",
    "               & (train_plan.st_dest_name.isnull() == False)\n",
    "               & (train_plan.st_from_name == st_name)].drop_duplicates('train')\n",
    "add_header('Поезда со станции %s, к которым не были подвязаны локомотивы' % st_name)\n",
    "add_line(a.sort_values('time_start')[cols])"
   ]
  },
  {
   "cell_type": "code",
   "execution_count": 190,
   "metadata": {
    "collapsed": false
   },
   "outputs": [
    {
     "name": "stdout",
     "output_type": "stream",
     "text": [
      "На станции ХАБАРОВСК II находилось 30 локомотивов, которые не были подвязаны ни к одному поезду:\n",
      "         loco  ltype    oper_time_f      loc_name     tts     dts is_planned\n",
      " 200200076802      1  Jul 15, 12:55  ХАБАРОВСК II  158400    1141      False\n",
      " 200200066277      1  Jul 15, 14:44  ХАБАРОВСК II  345600   10555      False\n",
      " 200200029331      1  Jul 15, 13:10  ХАБАРОВСК II  475200   31443      False\n",
      " 200200082113      1  Jul 15, 12:28  ХАБАРОВСК II  424800    3998      False\n",
      " 200200096248      1  Jul 15, 07:59  ХАБАРОВСК II  432000   24754      False\n",
      " 200200102407      1  Jul 14, 23:53  ХАБАРОВСК II  432000   26926      False\n",
      " 200200102790      1  Jul 15, 09:34  ХАБАРОВСК II  424800   25343      False\n",
      " 200200097316      1  Jul 15, 14:45  ХАБАРОВСК II  133200  999999      False\n",
      " 200200097540      1  Jul 15, 14:18  ХАБАРОВСК II  403200  999999      False\n",
      " 200200058350      1  Jul 15, 14:23  ХАБАРОВСК II  432000    4000      False\n",
      " 200200082340      1  Jul 15, 14:46  ХАБАРОВСК II  424800   47460      False\n",
      " 200200095328      1  Jul 15, 12:47  ХАБАРОВСК II   68400    9028      False\n",
      " 200200063849      1  Jul 15, 11:25  ХАБАРОВСК II   28800   41082      False\n",
      " 200200049322      1  Jul 15, 14:44  ХАБАРОВСК II  432000   42721      False\n",
      " 200200066566      1  Jul 15, 11:21  ХАБАРОВСК II   61200    5657      False\n",
      " 200200105713      1  Jul 15, 11:16  ХАБАРОВСК II  309600  999999      False\n",
      " 200200079061      1  Jul 15, 13:46  ХАБАРОВСК II  432000   17110      False\n",
      " 200200030251      1  Jul 15, 11:09  ХАБАРОВСК II  367200    3234      False\n",
      " 200200097571      1  Jul 15, 14:52  ХАБАРОВСК II  122400   18998      False\n",
      " 200200083783      1  Jul 15, 09:47  ХАБАРОВСК II  432000    4000      False\n",
      " 200200032218      1  Jul 15, 12:28  ХАБАРОВСК II  424800    3998      False\n",
      " 200205692809      1  Jul 15, 09:29  ХАБАРОВСК II  432000  999999      False\n",
      " 200200083263      1  Jul 15, 13:51  ХАБАРОВСК II    7200   34494      False\n",
      " 200200087868      1  Jul 15, 13:54  ХАБАРОВСК II  190800  999999      False\n",
      " 200200076468      1  Jul 15, 12:06  ХАБАРОВСК II  100800   18579      False\n",
      " 200200104646      1  Jul 15, 14:23  ХАБАРОВСК II  421200   28025      False\n",
      " 200200095707      1  Jul 15, 14:39  ХАБАРОВСК II  252000   19836      False\n",
      " 210213379569      1  Jul 15, 13:28  ХАБАРОВСК II   64800    1607      False\n",
      " 200200089007      1  Jul 15, 14:16  ХАБАРОВСК II  190800   25976      False\n",
      " 200200094350      1  Jul 15, 13:18  ХАБАРОВСК II  133200   10352      False\n"
     ]
    }
   ],
   "source": [
    "loco_info['is_planned'] = loco_info.loco.isin(loco_plan[loco_plan.state == 1].loco)\n",
    "loco_info['oper_time_f'] = loco_info.oper_time.apply(nice_time)\n",
    "info_cols = ['loco', 'ltype', 'oper_time_f', 'loc_name', 'tts', 'dts', 'is_planned']\n",
    "no_plan = loco_info[(loco_info.loc_name == st_name) & (loco_info.is_planned == False) & (loco_info.ltype == 1)]\n",
    "add_header('На станции %s находилось %d локомотивов, которые не были подвязаны ни к одному поезду:' \n",
    "           % (st_name, no_plan.loco.count()))\n",
    "add_line(no_plan[info_cols])"
   ]
  },
  {
   "cell_type": "markdown",
   "metadata": {},
   "source": [
    "<a =id='regions'></a>\n",
    "## Проверка наличия локомотивов только на своих тяговых плечах [ToC](#toc)"
   ]
  },
  {
   "cell_type": "code",
   "execution_count": 53,
   "metadata": {
    "collapsed": false
   },
   "outputs": [],
   "source": [
    "add_header('Проверка наличия локомотивов только на своих тяговых плечах', h=2, p=False)"
   ]
  },
  {
   "cell_type": "markdown",
   "metadata": {},
   "source": [
    "<a id='correct_reg_ser'></a>\n",
    "### Проверка назначения тяговых плеч локомотивам в соответствии с сериями [ToC](#toc)"
   ]
  },
  {
   "cell_type": "code",
   "execution_count": 54,
   "metadata": {
    "collapsed": true
   },
   "outputs": [],
   "source": [
    "add_header('Проверка назначения тяговых плеч локомотивам в соответствии с сериями', h=3, p=False)"
   ]
  },
  {
   "cell_type": "code",
   "execution_count": 55,
   "metadata": {
    "collapsed": false
   },
   "outputs": [],
   "source": [
    "def func(df, stations, st):    \n",
    "    a = links.loc[(links.st_from_name.isin(st))].st_from_name.value_counts()\n",
    "    b = links.loc[(links.st_from_name.isin(st)) & (links.st_to_name.isin(st))].st_from_name.value_counts()\n",
    "    c = a.to_frame().join(b, rsuffix='_reg')\n",
    "    c['delta'] = c.st_from_name - c.st_from_name_reg    \n",
    "    d = c.join(stations[['name', 'norm_time']].drop_duplicates().set_index('name'), how='right')\n",
    "    e = d.loc[((d.delta > 0) | (d.st_from_name == 1))]\n",
    "    return sorted(e.index.values)\n",
    "\n",
    "add_info(links)\n",
    "loco_info['regions_eval'] = loco_info.regions.apply(literal_eval)\n",
    "stations_regs = stations.groupby('station').loco_region.apply(lambda x: x.values)\n",
    "loco_info['ser_name'] = loco_info.series.map(loco_series.set_index('ser_id').ser_name)\n",
    "reg_st = stations.groupby('loco_region')['name'].unique().to_frame()\n",
    "reg_st['short_name'] = reg_st['name'].apply(lambda x: func(links, stations, x))\n",
    "reg_st.columns = ['stations', 'reg_name']\n",
    "reg_borders = pd.read_csv(FOLDER + 'mandatory/loco_reg_borders.csv', encoding='utf-8-sig')\n",
    "bord = reg_borders.station.values\n",
    "reg_st['short_name'] = reg_st.reg_name.apply(lambda x: np.intersect1d(x, bord) if len(np.intersect1d(x, bord)) > 1 else [])\n",
    "big_borders = ['МАРИИНСК', 'БОРЗЯ', 'КАРЫМСКАЯ', 'ХАБАРОВСК II', 'МЕЖДУРЕЧЕНСК', 'ТАКСИМО', 'КОМСОМОЛЬСК-НА-АМУРЕ']\n",
    "reg_st['short_name'] = reg_st.short_name.apply(lambda x: np.intersect1d(x, big_borders) if len(x) > 2 else x)\n",
    "pd.set_option('display.max_colwidth', 60)\n",
    "#print(reg_st[['short_name']].to_string())\n",
    "#reg_st.ix[2002119307].reg_name"
   ]
  },
  {
   "cell_type": "code",
   "execution_count": 56,
   "metadata": {
    "collapsed": false
   },
   "outputs": [
    {
     "name": "stdout",
     "output_type": "stream",
     "text": [
      "     region                             reg_name_str                                 ser_name      ser_type  loco\n",
      " 2002119299                     ['БОРЗЯ' 'МАРИИНСК']  [ВЛ85, ВЛ80Р, ВЛ80С, 2ЭС5К, 3ЭС5К, В...  [Электровоз]   651\n",
      " 2002119294             ['КАРЫМСКАЯ' 'ХАБАРОВСК II']                    [3ЭС5К, ВЛ80С, 2ЭС5К]  [Электровоз]   560\n",
      " 2002119320           ['СМОЛЯНИНОВО' 'ХАБАРОВСК II']                    [3ЭС5К, 2ЭС5К, ВЛ80С]  [Электровоз]   235\n",
      " 2002119301               ['МЕЖДУРЕЧЕНСК' 'ТАКСИМО']     [ВЛ80ТК, 3ЭС5К, 2ЭС5К, ВЛ80Т, ВЛ80С]  [Электровоз]   201\n",
      " 2002119296  ['КОМСОМОЛЬСК-НА-АМУРЕ' 'СОВЕТСКАЯ Г...  [3ТЭ10МК, 3ТЭ10М, 2ТЭ10МК, 3ТЭ10УК, ...    [Тепловоз]   121\n",
      " 2002119317                  ['СКОВОРОДИНО' 'ТЫНДА']  [2ТЭ10МК, 2ТЭ25А, 2ТЭ10У, 3ТЭ10МК, 2...    [Тепловоз]    81\n",
      " 2002119305            ['ИЗВЕСТКОВАЯ' 'НОВЫЙ УРГАЛ']  [2ТЭ10МК, 3ТЭ10МК, 2ТЭ10М, 2ТЭ10УК, ...    [Тепловоз]    75\n",
      " 2002119312      ['НАХОДКА-ВОСТОЧНАЯ' 'СМОЛЯНИНОВО']                           [2ЭС5К, 3ЭС5К]  [Электровоз]    65\n",
      " 2002119303                      ['ТАКСИМО' 'ТЫНДА']  [2ТЭ10МК, 2ТЭ25А, 2ТЭ10УК, 3ТЭ10МК, ...    [Тепловоз]    60\n",
      " 2002119292            ['ГРОДЕКОВО (КИТАЙ)' 'ХАСАН']  [3ТЭ10МК, 2ТЭ10МК, 3ТЭ10М, 2ТЭ10УК, ...    [Тепловоз]    21\n",
      " 2002119288                  ['БОРЗЯ' 'ЗАБАЙКАЛЬСК']  [3ТЭ10УК, 2ТЭ10МК, 2ТЭ10У, 2ТЭ10М, 3...    [Тепловоз]    19\n",
      " 2002119286               ['АЧИНСК I' 'ЛЕСОСИБИРСК']                         [2ТЭ10М, 2ТЭ10У]    [Тепловоз]    17\n",
      " 2002119318                    ['НАУШКИ' 'УЛАН-УДЭ']                [2ТЭ10У, 2ТЭ10МК, 2ТЭ10М]    [Тепловоз]    11\n",
      " 2002119308                    ['КАРАБУЛА' 'РЕШОТЫ']                 [2ТЭ10У, 2ТЭ10М, 2ТЭ10В]    [Тепловоз]     5\n",
      " 2002119310         ['НОВОКАЧАЛИНСК' 'НОВОЧУГУЕВКА']                        [2ТЭ10МК, 2ТЭ10М]    [Тепловоз]     3\n",
      " 2002119287             ['БЕЛОГОРСК' 'БЛАГОВЕЩЕНСК']                                 [2ТЭ10М]    [Тепловоз]     1\n"
     ]
    }
   ],
   "source": [
    "def save_to_excel(df, filename=FOLDER + 'reg_ser.xlsx'):    \n",
    "    df.to_excel(filename)\n",
    "    print('Excel file %s created' % filename)\n",
    "\n",
    "loco_info['ser_name'] = loco_info.series.map(loco_series.set_index('ser_id').ser_name)\n",
    "loco_info['ser_desc'] = loco_info.series.map(loco_series.set_index('ser_id').ser_desc)\n",
    "loco_info['ser_type'] = loco_info.series.map(loco_series.set_index('ser_id').ser_type)\n",
    "loco_info_regs['number'] = loco_info.loco.map(loco_info.drop_duplicates('loco').set_index('loco').number)\n",
    "loco_info_regs['reg_name'] = loco_info_regs.region.map(reg_st.short_name)\n",
    "loco_info_regs['ser_name'] = loco_info_regs.loco.map(loco_info.set_index('loco').ser_name)\n",
    "loco_info_regs['ser_type'] = loco_info_regs.loco.map(loco_info.set_index('loco').ser_type)\n",
    "loco_info_regs['reg_name_str'] = loco_info_regs.reg_name.apply(str)\n",
    "loco_info_regs['ltype'] = loco_info_regs.loco.map(loco_info.set_index('loco').ltype)\n",
    "loco_info_regs.sort_values(['ser_name', 'reg_name_str'])[['loco', 'ser_name', 'reg_name']].set_index('loco')\\\n",
    "                .to_excel(FOLDER + 'ans.xlsx')\n",
    "a = loco_info_regs.groupby('reg_name_str').ser_name.unique()\n",
    "loco_info_regs['ser_desc'] = loco_info_regs.ser_name.map(loco_series.drop_duplicates('ser_name').set_index('ser_name').ser_desc)\n",
    "a = loco_info_regs.loc[(loco_info_regs.ltype == 1) & (loco_info_regs.ser_desc.isin(['Грузовое', 'Грузопассажирское']))]\\\n",
    "            .groupby(['region', 'reg_name_str']).ser_name.unique().to_frame()\n",
    "b = loco_info_regs.loc[(loco_info_regs.ltype == 1) & (loco_info_regs.ser_desc.isin(['Грузовое', 'Грузопассажирское']))]\\\n",
    "            .groupby(['region', 'reg_name_str']).ser_type.unique().to_frame()\n",
    "c = a.join(b)\n",
    "d = c.join(loco_info_regs.loc[loco_info_regs.ltype == 1].groupby(['region', 'reg_name_str']).loco.count())\n",
    "#print('Total locos:', loco_info.loco.drop_duplicates().count())\n",
    "#print('Freight locos:', loco_info.loc[loco_info.ser_desc.isin(['Грузовое', 'Грузопассажирское'])].loco.drop_duplicates().count())\n",
    "#print('Locos of type = 1:', loco_info[loco_info.ltype == 1].loco.drop_duplicates().count())\n",
    "pd.set_option('display.max_colwidth', 40)\n",
    "add_line(d.reset_index().sort_values('loco', ascending=False))\n",
    "#save_to_excel(d)"
   ]
  },
  {
   "cell_type": "code",
   "execution_count": 57,
   "metadata": {
    "collapsed": false
   },
   "outputs": [],
   "source": [
    "reg_ser = d.reset_index()[['region', 'ser_type']]"
   ]
  },
  {
   "cell_type": "markdown",
   "metadata": {},
   "source": [
    "<a id='correct_reg_plan'></a>\n",
    "### Проверка выезда локомотивов за пределы своих тяговых плеч [ToC](#toc)"
   ]
  },
  {
   "cell_type": "code",
   "execution_count": 58,
   "metadata": {
    "collapsed": true
   },
   "outputs": [],
   "source": [
    "add_header('Проверка выезда локомотивов за пределы своих тяговых плеч', h=3, p=False)"
   ]
  },
  {
   "cell_type": "markdown",
   "metadata": {},
   "source": [
    "#### Добавляем тяговое плечо в таблицу линков"
   ]
  },
  {
   "cell_type": "code",
   "execution_count": 59,
   "metadata": {
    "collapsed": false
   },
   "outputs": [],
   "source": [
    "stations['regions'] = stations.station.map(stations.groupby('station').loco_region.unique())\n",
    "stations_unique = stations.drop_duplicates('station').set_index('station')\n",
    "links['st_from_regs'] = links.st_from.map(stations_unique.regions)\n",
    "links['st_to_regs'] = links.st_to.map(stations_unique.regions)\n",
    "links['regs'] = links.st_from_regs.combine(links.st_to_regs, np.intersect1d)\n",
    "links['link'] = list(zip(links.st_from, links.st_to))\n",
    "regs = reg_st.reset_index()\n",
    "links['reg_name'] = links.regs.apply(lambda x: regs[regs.loco_region.isin(x)].short_name.values)"
   ]
  },
  {
   "cell_type": "markdown",
   "metadata": {},
   "source": [
    "#### Добавляем текущее тяговое плечо в каждый участок планов по локомотивам"
   ]
  },
  {
   "cell_type": "code",
   "execution_count": 60,
   "metadata": {
    "collapsed": false
   },
   "outputs": [],
   "source": [
    "loco_plan['curr_reg'] = loco_plan.link.map(links.drop_duplicates('link').set_index('link').regs)\n",
    "loco_plan['curr_reg_name'] = loco_plan.link.map(links.drop_duplicates('link').set_index('link').reg_name)\n",
    "loco_plan['regions'] = loco_plan.loco.map(loco_info.set_index('loco').regions_eval)\n",
    "loco_info['reg_names'] = loco_info.regions_eval.apply(lambda x: \\\n",
    "                                                regs[regs.loco_region.isin([int(i) for i in x if i != ''])].short_name.values)\n",
    "loco_plan['reg_names'] = loco_plan.loco.map(loco_info.set_index('loco').reg_names)"
   ]
  },
  {
   "cell_type": "code",
   "execution_count": 61,
   "metadata": {
    "collapsed": false
   },
   "outputs": [
    {
     "data": {
      "text/html": [
       "<div>\n",
       "<table border=\"1\" class=\"dataframe\">\n",
       "  <thead>\n",
       "    <tr style=\"text-align: right;\">\n",
       "      <th></th>\n",
       "      <th>loco</th>\n",
       "      <th>number</th>\n",
       "      <th>regions</th>\n",
       "      <th>regions_eval</th>\n",
       "    </tr>\n",
       "  </thead>\n",
       "  <tbody>\n",
       "  </tbody>\n",
       "</table>\n",
       "</div>"
      ],
      "text/plain": [
       "Empty DataFrame\n",
       "Columns: [loco, number, regions, regions_eval]\n",
       "Index: []"
      ]
     },
     "execution_count": 61,
     "metadata": {},
     "output_type": "execute_result"
    }
   ],
   "source": [
    "loco_info[loco_info.regions.apply(lambda x: len(x) < 5)][['loco', 'number', 'regions', 'regions_eval']]"
   ]
  },
  {
   "cell_type": "markdown",
   "metadata": {},
   "source": [
    "#### Вычисляем, есть у локомотива текущее тяговое плечо в списке разрешенных"
   ]
  },
  {
   "cell_type": "code",
   "execution_count": 62,
   "metadata": {
    "collapsed": false
   },
   "outputs": [],
   "source": [
    "loco_plan['ok_reg'] = loco_plan.curr_reg.combine(loco_plan.regions, np.intersect1d).apply(len) > 0"
   ]
  },
  {
   "cell_type": "markdown",
   "metadata": {},
   "source": [
    "#### Вычисляем тяговое плечо на исходном местоположении локомотива"
   ]
  },
  {
   "cell_type": "code",
   "execution_count": 63,
   "metadata": {
    "collapsed": false
   },
   "outputs": [],
   "source": [
    "def get_current_region(row):\n",
    "    if row.st_from == '-1':        \n",
    "        a = links[links.st_from == row.oper_location].regs.values\n",
    "    else:\n",
    "        a = links[(links.st_from == row.st_from) & (links.st_to == row.st_to)].regs.values\n",
    "    return list(np.concatenate(a) if len(a) > 0 else [])\n",
    "        \n",
    "loco_info['location'] = list(zip(loco_info.oper_location, loco_info.st_from, loco_info.st_to))\n",
    "loco_info['curr_reg'] = loco_info.apply(lambda row: get_current_region(row), axis=1)"
   ]
  },
  {
   "cell_type": "markdown",
   "metadata": {},
   "source": [
    "#### Вычисляем, находится ли локомотив на своем тяговом плече на начало планирования"
   ]
  },
  {
   "cell_type": "code",
   "execution_count": 64,
   "metadata": {
    "collapsed": true
   },
   "outputs": [],
   "source": [
    "loco_info['ok_reg'] = loco_info.curr_reg.combine(loco_info.regions_eval, np.intersect1d).apply(len) > 0\n",
    "loco_plan['info_ok_reg'] = loco_plan.loco.map(loco_info.drop_duplicates('loco').set_index('loco').ok_reg)"
   ]
  },
  {
   "cell_type": "markdown",
   "metadata": {},
   "source": [
    "#### Составляем список локомотивов, выезжающих за пределы своих ТП в процессе планирования"
   ]
  },
  {
   "cell_type": "code",
   "execution_count": 65,
   "metadata": {
    "collapsed": false
   },
   "outputs": [
    {
     "name": "stdout",
     "output_type": "stream",
     "text": [
      "Всего 0 локомотивов, выезжающих за пределы своих тяговых плеч в процессе планирования:\n",
      "- 0 следуют резервом;\n",
      "- 0 с поездами.\n"
     ]
    }
   ],
   "source": [
    "loco_out_of_regs = loco_plan[(loco_plan.curr_reg_name.isnull() == False) \n",
    "                             & (loco_plan.ok_reg == False) & (loco_plan.info_ok_reg == True)]\n",
    "cols = ['loco', 'ser_name', 'reg_names', 'st_from_name', 'st_to_name', 'train', 'state', 'loc_name']\n",
    "add_line('Всего %d локомотивов, выезжающих за пределы своих тяговых плеч в процессе планирования:' \n",
    "           % loco_out_of_regs.loco.drop_duplicates().count())\n",
    "add_line('- %d следуют резервом;' % (loco_out_of_regs[loco_out_of_regs.state == 0].loco.drop_duplicates().count()))\n",
    "add_line('- %d с поездами.' % (loco_out_of_regs[loco_out_of_regs.state == 1].loco.drop_duplicates().count()))\n",
    "\n",
    "pd.set_option('display.max_colwidth', 40)\n",
    "states = sorted(loco_out_of_regs.state.unique())\n",
    "for s in states:\n",
    "    add_header('\\nПримеры локомотивов в состоянии %d за пределами своих тяговых плеч:' % s)\n",
    "    add_line(loco_out_of_regs[loco_out_of_regs.state == s].drop_duplicates('loco')[cols].head(5))"
   ]
  },
  {
   "cell_type": "markdown",
   "metadata": {},
   "source": [
    "<a id='bad_regs_loco_info'></a>\n",
    "### Локомотивы на чужих тяговых плечах на начало планирования [ToC](#toc)"
   ]
  },
  {
   "cell_type": "code",
   "execution_count": 66,
   "metadata": {
    "collapsed": true
   },
   "outputs": [],
   "source": [
    "add_header('Локомотивы на чужих тяговых плечах на начало планирования', h=3, p=False)"
   ]
  },
  {
   "cell_type": "code",
   "execution_count": 67,
   "metadata": {
    "collapsed": false
   },
   "outputs": [
    {
     "name": "stdout",
     "output_type": "stream",
     "text": [
      "Всего 149 локомотивов на чужих тяговых плечах на начало планирования\n",
      "\n",
      "Распределение по сериям (показаны первые 5):\n",
      "3ЭС5К      27\n",
      "3ТЭ10МК    26\n",
      "2ТЭ10МК    25\n",
      "ВЛ80Р      20\n",
      "2ТЭ10М     13\n",
      "\n",
      "Распределение по тяговым плечам локомотивов (показаны первые 5):\n",
      "[[СКОВОРОДИНО, ТЫНДА]]         39\n",
      "[[БОРЗЯ, МАРИИНСК]]            30\n",
      "[[КАРЫМСКАЯ, ХАБАРОВСК II]]    22\n",
      "[[АЧИНСК I, ЛЕСОСИБИРСК]]      10\n",
      "[[ТАКСИМО, ТЫНДА]]              6\n",
      "\n",
      "Примеры локомотивов:\n",
      "         loco ser_name                                 loc_name                                reg_names\n",
      " 200200083577    ВЛ80Р  КРАСНОЯРСК-ВОСТОЧНЫЙ - КРАСНОЯРСК-ВО...                      [[БОРЗЯ, МАРИИНСК]]\n",
      " 200200053535    3ЭС5К          ШИЛКА-ТОВАРНАЯ - ШИЛКА-ТОВАРНАЯ              [[КАРЫМСКАЯ, ХАБАРОВСК II]]\n",
      " 200200103060  3ТЭ10МК                        СУЛУК - ПОСТЫШЕВО  [[КОМСОМОЛЬСК-НА-АМУРЕ, СОВЕТСКАЯ ГА...\n",
      " 210203700855    3ЭС5К                                      NaN              [[КАРЫМСКАЯ, ХАБАРОВСК II]]\n",
      " 200200077355    ВЛ80Р                         ЛЕНА - ХРЕБТОВАЯ                      [[БОРЗЯ, МАРИИНСК]]\n",
      " 200200101778    3ЭС5К          ШИЛКА-ТОВАРНАЯ - ШИЛКА-ТОВАРНАЯ              [[КАРЫМСКАЯ, ХАБАРОВСК II]]\n",
      " 200200074821   2ТЭ10М                   ДУБИНИНО - КИЯ-ШАЛТЫРЬ                [[АЧИНСК I, ЛЕСОСИБИРСК]]\n",
      " 200200086583   ВЛ80ТК                           УДА II - ТУЛУН                [[МЕЖДУРЕЧЕНСК, ТАКСИМО]]\n",
      " 200200058870    ВЛ80Р     ГИДРОСТРОИТЕЛЬ - КОРШУНИХА-АНГАРСКАЯ                      [[БОРЗЯ, МАРИИНСК]]\n",
      " 200200036428  2ТЭ10МК                       БЕСТУЖЕВО - ДИПКУН                   [[СКОВОРОДИНО, ТЫНДА]]\n",
      " 200200091477  2ТЭ10МК                        БОРЗЯ - ЗУН-ТОРЕЙ                   [[БОРЗЯ, ЗАБАЙКАЛЬСК]]\n",
      " 200200086461    ВЛ80Р                                     ЛЕНА                      [[БОРЗЯ, МАРИИНСК]]\n",
      " 200200076874  2ТЭ10МК                     ДИПКУН - ВЕРХНЕЗЕЙСК                   [[СКОВОРОДИНО, ТЫНДА]]\n",
      " 200200097454    3ЭС5К          ШИЛКА-ТОВАРНАЯ - ШИЛКА-ТОВАРНАЯ              [[КАРЫМСКАЯ, ХАБАРОВСК II]]\n",
      " 200200095501    3ЭС5К          ШИЛКА-ТОВАРНАЯ - ШИЛКА-ТОВАРНАЯ              [[КАРЫМСКАЯ, ХАБАРОВСК II]]\n",
      " 200200092983  3ТЭ10МК                  ФЕВРАЛЬСК - ВЕРХНЕЗЕЙСК                   [[СКОВОРОДИНО, ТЫНДА]]\n",
      " 200200098899  2ТЭ10МК  КОМСОМОЛЬСК-НА-АМУРЕ-СОРТИРОВОЧНЫЙ -...                   [[СКОВОРОДИНО, ТЫНДА]]\n",
      " 200200049427   ВЛ80ТК                      ТАЙШЕТ - БАЙРОНОВКА                [[МЕЖДУРЕЧЕНСК, ТАКСИМО]]\n",
      " 200200076886    3ЭС5К                                      NaN              [[КАРЫМСКАЯ, ХАБАРОВСК II]]\n",
      " 200200030522  3ТЭ10МК                         СОЛОНИ - УРГАЛ I             [[ИЗВЕСТКОВАЯ, НОВЫЙ УРГАЛ]]\n"
     ]
    }
   ],
   "source": [
    "cols = ['loco', 'ser_name', 'loc_name', 'reg_names']\n",
    "bad_regs_loco_info = loco_info[(loco_info.ltype == 1) & (loco_info.ok_reg == False)]\n",
    "add_header('Всего %d локомотивов на чужих тяговых плечах на начало планирования' % bad_regs_loco_info.loco.count())\n",
    "add_header('\\nРаспределение по сериям (показаны первые 5):')\n",
    "add_line(bad_regs_loco_info[cols].ser_name.value_counts().head())\n",
    "add_header('\\nРаспределение по тяговым плечам локомотивов (показаны первые 5):')\n",
    "add_line(bad_regs_loco_info[cols].reg_names.value_counts().head())\n",
    "add_header('\\nПримеры локомотивов:')\n",
    "add_line(bad_regs_loco_info[cols].head(20))"
   ]
  },
  {
   "cell_type": "markdown",
   "metadata": {},
   "source": [
    "<a =id='st_to2'></a>\n",
    "## Проверка пунктов проведения ТО-2 [ToC](#toc)"
   ]
  },
  {
   "cell_type": "code",
   "execution_count": 68,
   "metadata": {
    "collapsed": true
   },
   "outputs": [],
   "source": [
    "add_header('Проверка планирования ТО-2', h=2, p=False)"
   ]
  },
  {
   "cell_type": "markdown",
   "metadata": {},
   "source": [
    "### Анализ среднего времени на ТО"
   ]
  },
  {
   "cell_type": "code",
   "execution_count": 69,
   "metadata": {
    "collapsed": false
   },
   "outputs": [
    {
     "name": "stdout",
     "output_type": "stream",
     "text": [
      "Пункты проведения ТО-2 во входных данных:\n",
      "               st_name  dur_h\n",
      "                АБАКАН   0.98\n",
      "               БОГОТОЛ   0.95\n",
      "             ВИХОРЕВКА   0.90\n",
      "                  ЗИМА   1.00\n",
      "              ИЛАНСКАЯ   1.01\n",
      " ИРКУТСК-СОРТИРОВОЧНЫЙ   0.91\n",
      "  КОМСОМОЛЬСК-НА-АМУРЕ   1.08\n",
      "             МАГДАГАЧИ   0.90\n",
      "           НИЖНЕУДИНСК   0.90\n",
      "            НОВАЯ ЧАРА   1.08\n",
      "           НОВЫЙ УРГАЛ   1.08\n",
      "       СЕВЕРОБАЙКАЛЬСК   0.90\n",
      "           СМОЛЯНИНОВО   0.90\n",
      "                 ТЫНДА   1.08\n",
      "                  УЖУР   1.01\n",
      "              УЛАН-УДЭ   1.00\n",
      "                ЧИТА I   0.91\n",
      "Медианное время проведения ТО-2: 0.98 часа\n"
     ]
    }
   ],
   "source": [
    "to2_type = 2001889869\n",
    "service = pd.read_csv(FOLDER + 'service.csv', converters={'station':str})\n",
    "service['st_name'] = service.station.map(st_names.name)\n",
    "service['dur_h'] = np.round((service.duration / 3600), 2)\n",
    "to2 = service[service.serv_type == to2_type].drop_duplicates()\n",
    "to2_dur_median = to2.dur_h.median()\n",
    "add_header('Пункты проведения ТО-2 во входных данных:')\n",
    "add_line(to2[['st_name', 'dur_h']].sort_values('st_name'))\n",
    "add_line('Медианное время проведения ТО-2: %.2f часа' % to2_dur_median)"
   ]
  },
  {
   "cell_type": "code",
   "execution_count": 70,
   "metadata": {
    "collapsed": false
   },
   "outputs": [
    {
     "name": "stdout",
     "output_type": "stream",
     "text": [
      "Проведение ТО запланировано на 20 разных станциях (показаны первые 10):\n",
      "                              index  num  time_h\n",
      "                           УЛАН-УДЭ   12    3.20\n",
      "                              ТЫНДА   10    3.25\n",
      "              ИРКУТСК-СОРТИРОВОЧНЫЙ    8    3.50\n",
      "                          КАРЫМСКАЯ    6    3.25\n",
      "                        СМОЛЯНИНОВО    5    3.50\n",
      " КОМСОМОЛЬСК-НА-АМУРЕ-СОРТИРОВОЧНЫЙ    5    3.50\n",
      "                              БОРЗЯ    3    3.20\n",
      "                       ХАБАРОВСК II    2    3.50\n",
      "                             ТАЙШЕТ    2    3.00\n",
      "                             ЧИТА I    2    3.00\n",
      "                               ЗИМА    2    3.50\n",
      "                        НОВЫЙ УРГАЛ    2    3.25\n",
      "                КОРШУНИХА-АНГАРСКАЯ    2    3.25\n",
      "                           АЧИНСК I    1    3.20\n",
      "                               ЛЕНА    1    3.50\n",
      "                        ЛЕСОСИБИРСК    1    3.20\n",
      "                          СИБИРЦЕВО    1    3.20\n",
      "                           ГВОЗДЕВО    1    3.20\n",
      "                          БЕЛОГОРСК    1    3.20\n",
      "                             ВАНИНО    1    3.50\n"
     ]
    }
   ],
   "source": [
    "loco_plan['tt'] = loco_plan.time_end - loco_plan.time_start\n",
    "plan_to = loco_plan[loco_plan.state == 4][['loco', 'st_from_name', 'st_to_name', 'time_start_norm', 'time_end_norm', 'tt']]\n",
    "add_header('Проведение ТО запланировано на %d разных станциях (показаны первые 10):' \n",
    "           % plan_to.st_from_name.drop_duplicates().count())\n",
    "stats_plan_to = plan_to.st_from_name.value_counts().to_frame().join(plan_to.groupby('st_from_name').tt.median())\n",
    "stats_plan_to.columns = ['num', 'time']\n",
    "stats_plan_to['time_h'] = np.round((stats_plan_to.time / 3600), 2)\n",
    "add_line(stats_plan_to[['num', 'time_h']].reset_index().head(20))"
   ]
  },
  {
   "cell_type": "markdown",
   "metadata": {},
   "source": [
    "### Анализ количества запланированных ТО"
   ]
  },
  {
   "cell_type": "code",
   "execution_count": 189,
   "metadata": {
    "collapsed": false
   },
   "outputs": [
    {
     "name": "stdout",
     "output_type": "stream",
     "text": [
      "Слишком мало ТО запланировано (ожидаемое количество = 437, запланированное = 29)\n",
      "Примеры локомотивов, для которых ожидалось ТО:\n",
      "         loco ser_name                           loc_name    tts\n",
      " 200200068982    ВЛ80Р                 ЧИТА I - КАРЫМСКАЯ   7200\n",
      " 200200089356    3ЭС5К                    МОГОЧА - АМАЗАР  10800\n",
      " 200200095526    2ЭС5К            НАХОДКА - ТИХООКЕАНСКАЯ  10800\n",
      " 200200089520    3ЭС5К  ЧЕРНЫШЕВСК-ЗАБАЙКАЛЬСКИЙ - КУЭНГА  10800\n",
      " 200200054380  2ТЭ10МК               ВЕРХНЕЗЕЙСК - ДИПКУН  14400\n",
      " 200219082427    2ЭС5К     ПАДУНСКИЕ ПОРОГИ - ГАЛАЧИНСКИЙ  14400\n",
      " 200200079530    ВЛ80Р                       УЯР - ЗЫКОВО  14400\n",
      " 200200107673    3ЭС5К               КСЕНЬЕВСКАЯ - МОГОЧА  14400\n",
      " 200200063280   2ТЭ10М                АЧИНСК I - ТИМОНИНО  14400\n",
      " 200200104053    3ЭС5К                            ТАКОВКА  18000\n",
      "Пример плана одного из таких локомотивов:\n",
      "         loco ser_name st_from_name st_to_name time_start_norm  time_end_norm  state         train   tts\n",
      " 200200068982    ВЛ80Р       ЧИТА I  КАРЫМСКАЯ   Jul 14, 19:48  Jul 14, 21:44      1  220210281154  7200\n"
     ]
    }
   ],
   "source": [
    "to = loco_plan[(loco_plan.state == 4) & (loco_plan.time_start < current_time + 24 * 3600)]\n",
    "to_n = loco_plan[(loco_plan.state == 4) & (loco_plan.time_start < current_time + 24 * 3600)].loco.count()\n",
    "to_n_expected = loco_info[loco_info.ltype == 1].loco.count() / 4\n",
    "p = to_n / to_n_expected\n",
    "if p < 0.8:\n",
    "    add_header('Слишком мало ТО запланировано (ожидаемое количество = %d, запланированное = %d)'\n",
    "              % (to_n_expected, to_n))\n",
    "    to = loco_plan[(loco_plan.state == 4)]\n",
    "    no_to = loco_info[(loco_info.ltype == 1) & (loco_info.tts < 10 * 3600)\n",
    "                     & (loco_info.loco.isin(to.loco) == False)\n",
    "                     & (loco_info.loco.isin(loco_plan.loco))].sort_values('tts')[['loco', 'ser_name', 'loc_name', 'tts']]\n",
    "    add_header('Примеры локомотивов, для которых ожидалось ТО:')\n",
    "    add_line(no_to.head(10))\n",
    "    loco_id = no_to.iloc[0].loco\n",
    "    cols = ['loco', 'ser_name', 'st_from_name', 'st_to_name', 'time_start_norm', 'time_end_norm', 'state', 'train', 'tts']\n",
    "    loco_plan['ser_name'] = loco_plan.loco.map(loco_info.set_index('loco').ser_name)\n",
    "    add_header('Пример плана одного из таких локомотивов:')\n",
    "    add_line(loco_plan[loco_plan.loco == loco_id][cols])\n",
    "else:\n",
    "    add_header('Количество запланированных ТО соответствует ожидаемому')"
   ]
  },
  {
   "cell_type": "markdown",
   "metadata": {},
   "source": [
    "<a =id='tonnage'></a>\n",
    "## Проверка подвязки на соответствие весовым нормам [ToC](#toc)"
   ]
  },
  {
   "cell_type": "code",
   "execution_count": 71,
   "metadata": {
    "collapsed": false
   },
   "outputs": [],
   "source": [
    "add_header('Проверка подвязки на соответствие весовым нормам', h=2, p=False)"
   ]
  },
  {
   "cell_type": "markdown",
   "metadata": {},
   "source": [
    "### Маска времени"
   ]
  },
  {
   "cell_type": "code",
   "execution_count": 72,
   "metadata": {
    "collapsed": false
   },
   "outputs": [],
   "source": [
    "#Ниже надо раскомментировать соответствующую строчку для нужного анализа\n",
    "\n",
    "def time_mask(df):\n",
    "    # Маска для анализа поездов, которые запланировал планировщик (отправленных после начала планирования)\n",
    "    return df.time_start >= current_time\n",
    "    # Маска для анализа позедов, отправленных до начала планирования (следующих по факту)\n",
    "    #time_mask = overweight.time_start < current_time"
   ]
  },
  {
   "cell_type": "markdown",
   "metadata": {},
   "source": [
    "### Проверка соответствия результатов планирования справочнику весовых норм"
   ]
  },
  {
   "cell_type": "code",
   "execution_count": 73,
   "metadata": {
    "collapsed": false
   },
   "outputs": [
    {
     "name": "stdout",
     "output_type": "stream",
     "text": [
      "Всего 81 подвязок локомотивов к поезду с нарушением весовых норм (показаны первые 10):\n",
      "         loco ser_name    st_from_name st_to_name time_start_norm  max_weight  train_weight  overweight         train\n",
      " 200200080243   ВЛ80ТК           ТУРМА      ТОРЕЯ   Jul 15, 20:52        3000          5971        2971  200022009981\n",
      " 200200099230    3ЭС5К  КОРШУНИХА-А...  ХРЕБТОВАЯ   Jul 15, 16:46        3000          5949        2949  200020349076\n",
      " 200200100439    3ЭС5К  ЛЕНА-ВОСТОЧНАЯ  ЧУДНИЧНЫЙ   Jul 15, 19:48        3000          5937        2937  200020142242\n",
      " 200200086792    3ЭС5К  КОРШУНИХА-А...  ХРЕБТОВАЯ   Jul 15, 18:32        3000          5489        2489  200021737863\n",
      " 200200080966    3ЭС5К             ТЫЯ      ДАБАН   Jul 16, 00:39        3000          5447        2447  200020413239\n",
      " 200200095227   ВЛ80ТК           ТУРМА      ТОРЕЯ   Jul 15, 20:12        3000          5224        2224  200022018489\n",
      " 200200081232    3ЭС5К         КИРЕНГА     НЕБЕЛЬ   Jul 15, 15:20        3000          5060        2060  220210343221\n",
      " 200200080680    3ЭС5К  КОРШУНИХА-А...  ХРЕБТОВАЯ   Jul 15, 17:25        3000          4148        1148  200021517899\n",
      " 200200099573   ВЛ80ТК           ТОРЕЯ      ТУРМА   Jul 15, 18:15        3000          4087        1087  200022001325\n",
      " 200200096752    ВЛ80Р        ТУРГУТУЙ     ЛЕСНАЯ   Jul 15, 15:49        5500          6298         798  200021730421\n",
      "\n",
      "Всего 81 подвязок локомотивов к поездам (за исключением сдвоенных) с нарушением весовых норм (показаны первые 10):\n",
      "         loco ser_name    st_from_name st_to_name time_start_norm  max_weight  train_weight  overweight         train\n",
      " 200200080243   ВЛ80ТК           ТУРМА      ТОРЕЯ   Jul 15, 20:52        3000          5971        2971  200022009981\n",
      " 200200099230    3ЭС5К  КОРШУНИХА-А...  ХРЕБТОВАЯ   Jul 15, 16:46        3000          5949        2949  200020349076\n",
      " 200200100439    3ЭС5К  ЛЕНА-ВОСТОЧНАЯ  ЧУДНИЧНЫЙ   Jul 15, 19:48        3000          5937        2937  200020142242\n",
      " 200200086792    3ЭС5К  КОРШУНИХА-А...  ХРЕБТОВАЯ   Jul 15, 18:32        3000          5489        2489  200021737863\n",
      " 200200080966    3ЭС5К             ТЫЯ      ДАБАН   Jul 16, 00:39        3000          5447        2447  200020413239\n",
      " 200200095227   ВЛ80ТК           ТУРМА      ТОРЕЯ   Jul 15, 20:12        3000          5224        2224  200022018489\n",
      " 200200081232    3ЭС5К         КИРЕНГА     НЕБЕЛЬ   Jul 15, 15:20        3000          5060        2060  220210343221\n",
      " 200200080680    3ЭС5К  КОРШУНИХА-А...  ХРЕБТОВАЯ   Jul 15, 17:25        3000          4148        1148  200021517899\n",
      " 200200099573   ВЛ80ТК           ТОРЕЯ      ТУРМА   Jul 15, 18:15        3000          4087        1087  200022001325\n",
      " 200200096752    ВЛ80Р        ТУРГУТУЙ     ЛЕСНАЯ   Jul 15, 15:49        5500          6298         798  200021730421\n"
     ]
    }
   ],
   "source": [
    "loco_plan['ser_name'] = loco_plan.series.map(loco_series.set_index('ser_id').ser_name)\n",
    "loco_tonnage = pd.read_csv(FOLDER + 'loco_tonnage.csv', converters={'st_from':str, 'st_to':str})\n",
    "loco_tonnage['link'] = list(zip(loco_tonnage.st_from, loco_tonnage.st_to))\n",
    "loco_tonnage['ssl'] = list(zip(loco_tonnage.series, loco_tonnage.sections, loco_tonnage.link))\n",
    "loco_plan['link'] = list(zip(loco_plan.st_from, loco_plan.st_to))\n",
    "loco_plan['link_name'] = list(zip(loco_plan.st_from_name, loco_plan.st_to_name))\n",
    "loco_plan['ssl'] = list(zip(loco_plan.series, loco_plan.sections, loco_plan.link))\n",
    "loco_plan['max_weight'] = loco_plan.ssl.map(loco_tonnage.groupby('ssl').max_weight.max().to_frame().max_weight)\n",
    "loco_plan['train_weight'] = loco_plan.train.map(train_info.drop_duplicates('train').set_index('train').weight)\n",
    "loco_plan['overweight'] = loco_plan.train_weight - loco_plan.max_weight\n",
    "cols = ['loco', 'ser_name', 'st_from_name', 'st_to_name', 'time_start_norm', 'max_weight', 'train_weight', 'overweight', 'train']\n",
    "overweight = loco_plan[(loco_plan.overweight > 0)].dropna(subset=['max_weight']).drop_duplicates(subset=['loco', 'train'])\n",
    "overweight_plan = overweight[time_mask(overweight)] # <<<<<<<<<<<<<<<<<<<<<<<<<<<<< TIME_MASK -----------------------\n",
    "overweight_n = len(overweight_plan.index)\n",
    "add_header('Всего %d подвязок локомотивов к поезду с нарушением весовых норм (показаны первые 10):' % overweight_n)\n",
    "pd.set_option('display.max_colwidth', 15)\n",
    "add_line(overweight_plan.sort_values('overweight', ascending=False).head(10)[cols])\n",
    "\n",
    "overweight_no_joint = overweight_plan[overweight_plan.train_weight < 10000]\n",
    "add_header('\\nВсего %d подвязок локомотивов к поездам (за исключением сдвоенных) с нарушением весовых норм (показаны первые 10):' \n",
    "      % len(overweight_no_joint.index))\n",
    "add_line(overweight_no_joint.sort_values('overweight', ascending=False).head(10)[cols])"
   ]
  },
  {
   "cell_type": "code",
   "execution_count": 74,
   "metadata": {
    "collapsed": false
   },
   "outputs": [
    {
     "data": {
      "image/png": "[encoded data removed]",
      "text/plain": [
       "<matplotlib.figure.Figure at 0x2a766da57b8>"
      ]
     },
     "metadata": {},
     "output_type": "display_data"
    }
   ],
   "source": [
    "sns.set(style='whitegrid', context='talk')\n",
    "sns.set_color_codes('dark')\n",
    "fig, ax = plt.subplots(nrows=1, ncols=2, figsize=(20,7))\n",
    "sns.distplot(overweight_plan.train_weight, hist=False, color='b', \n",
    "             kde_kws={'shade':True, 'label':'Вес поезда'}, ax=ax[0])\n",
    "sns.distplot(overweight_plan.overweight, hist=False, color='g', \n",
    "             kde_kws={'shade':True, 'label':'Превышение весовой нормы'}, ax=ax[0])\n",
    "sns.distplot(overweight_no_joint.train_weight, hist=False, color='b', \n",
    "             kde_kws={'shade':True, 'label':'Вес поезда'}, ax=ax[1])\n",
    "sns.distplot(overweight_no_joint.overweight, hist=False, color='g', \n",
    "             kde_kws={'shade':True, 'label':'Превышение весовой нормы'}, ax=ax[1])\n",
    "title = 'Для всех поездов'\n",
    "title_nj = 'Без сдвоенных поезов'\n",
    "ax[0].set(title=title, xlabel='Вес поезда')\n",
    "ax[1].set(title=title_nj, xlabel='Вес поезда')\n",
    "ax[0].legend(frameon=True)\n",
    "ax[1].legend(frameon=True)\n",
    "plt.suptitle('Распределение весов поездов, для которых наблюдается нарушение весовых норм', fontsize=20)\n",
    "sns.despine()\n",
    "filename = 'weight_error.png'\n",
    "fig.savefig(REPORT_FOLDER + filename, bbox_inches='tight')\n",
    "add_image(filename)"
   ]
  },
  {
   "cell_type": "code",
   "execution_count": 75,
   "metadata": {
    "collapsed": false
   },
   "outputs": [
    {
     "name": "stdout",
     "output_type": "stream",
     "text": [
      "Распределение нарушений весовых норм по участкам (первые 5):\n",
      "                            index  number  overw_median\n",
      "               (ТУРГУТУЙ, ЛЕСНАЯ)      60         313.5\n",
      " (КОРШУНИХА-АНГАРСКАЯ, ХРЕБТОВАЯ)       3        2489.0\n",
      "                 (БОРЗЯ, ХАРАНОР)       2         265.5\n",
      "                   (ТУРМА, ТОРЕЯ)       2        2597.5\n",
      "                 (МОГОЧА, АМАЗАР)       1           5.0\n",
      "\n",
      "Распределение нарушений весовых норм по сериям локомотивов:\n",
      "   index  number  overw_median\n",
      "    ВЛ85      37         284.0\n",
      "   3ЭС5К      16         264.0\n",
      "   ВЛ80Р      14         501.0\n",
      "   ВЛ80С       8         495.5\n",
      "  ВЛ80ТК       4        1655.5\n",
      " 3ТЭ10МК       2         265.5\n"
     ]
    }
   ],
   "source": [
    "add_header('Распределение нарушений весовых норм по участкам (первые 5):')\n",
    "a = overweight_no_joint.link_name.value_counts()\n",
    "b = overweight_no_joint.groupby('link_name').overweight.median()\n",
    "overweight_links = a.to_frame().join(b)\n",
    "overweight_links.columns = ['number', 'overw_median']\n",
    "pd.set_option('display.max_colwidth', 50)\n",
    "add_line(overweight_links.reset_index().head())\n",
    "\n",
    "add_header('\\nРаспределение нарушений весовых норм по сериям локомотивов:')\n",
    "a = overweight_no_joint.ser_name.value_counts()\n",
    "b = overweight_no_joint.groupby('ser_name').overweight.median()\n",
    "overweight_ser = a.to_frame().join(b)\n",
    "overweight_ser.columns = ['number', 'overw_median']\n",
    "add_line(overweight_ser.reset_index())"
   ]
  },
  {
   "cell_type": "markdown",
   "metadata": {},
   "source": [
    "<a =id='change'></a>\n",
    "## Проверка смены локомотивов на станциях обязательной смены [ToC](#toc)"
   ]
  },
  {
   "cell_type": "code",
   "execution_count": 76,
   "metadata": {
    "collapsed": true
   },
   "outputs": [],
   "source": [
    "add_header('Проверка смены локомотивов на станциях обязательной смены', h=2, p=False)"
   ]
  },
  {
   "cell_type": "code",
   "execution_count": 77,
   "metadata": {
    "collapsed": false
   },
   "outputs": [
    {
     "name": "stdout",
     "output_type": "stream",
     "text": [
      "Станции смены локомотивов (показаны первые 10):\n",
      "СМОЛЯНИНОВО      1\n",
      "ВОЛОЧАЕВКА II    1\n",
      "БОРЗЯ            1\n",
      "КАРЫМСКАЯ        1\n"
     ]
    }
   ],
   "source": [
    "hor = 24 * 3600\n",
    "cols = ['train', 'st_from_name', 'st_to_name', 'time_start_norm', 'loco', 'train_start', 'loco_start']\n",
    "train_plan['train_start'] = train_plan.train != train_plan.train.shift(1)\n",
    "train_plan['loco_start'] = (train_plan.loco != train_plan.loco.shift(1)) & (train_plan.loco.isnull() == False)\n",
    "loco_changes = train_plan.loc[(train_plan.train_start == False) & (train_plan.loco_start == True) &\n",
    "              (train_plan.time_start < current_time + hor)]\n",
    "add_header('Станции смены локомотивов (показаны первые 10):')\n",
    "add_line(loco_changes.st_from_name.value_counts().head(10))"
   ]
  },
  {
   "cell_type": "code",
   "execution_count": 78,
   "metadata": {
    "collapsed": false
   },
   "outputs": [
    {
     "name": "stdout",
     "output_type": "stream",
     "text": [
      "Станции обязательной смены локомотивов:\n",
      "            st                 other_st\n",
      "     КАРЫМСКАЯ                [УРУЛЬГА]\n",
      "         БОРЗЯ     [ХАРАНОР, ЗУН-ТОРЕЙ]\n",
      "       ТАКСИМО       [КУАНДА, КАЗАНКАН]\n",
      "   СКОВОРОДИНО                  [ШТУРМ]\n",
      "   ИЗВЕСТКОВАЯ                [КУЛЬДУР]\n",
      " ВОЛОЧАЕВКА II                [СЕЛЬГОН]\n",
      "     УССУРИЙСК  [ПРИМОРСКАЯ, ГРОДЕКОВО]\n",
      "\n",
      "Всего 8 поездов, у которых должна быть смена локомотивов на станциях обязательной смены, но она не запланирована:\n",
      "        train st_from_name st_to_name time_start_norm          loco in_route\n",
      " 200021129391  ИЗВЕСТКОВАЯ    ОБЛУЧЬЕ   Jul 15, 18:48  200200061727     True\n",
      " 220210232131    КАРЫМСКАЯ    ТАРСКАЯ   Jul 15, 20:02  200200056933     True\n",
      " 200020077987    КАРЫМСКАЯ    ТАРСКАЯ   Jul 16, 06:55  200200086778     True\n",
      " 200020313309    КАРЫМСКАЯ     ЧИТА I   Jul 15, 19:10  200200091591     True\n",
      " 200020231500    КАРЫМСКАЯ     ЧИТА I   Jul 15, 19:15  200200092864     True\n",
      " 200020116816    КАРЫМСКАЯ     ЧИТА I   Jul 16, 01:22  200200088416     True\n",
      " 200020231738    КАРЫМСКАЯ     ЧИТА I   Jul 16, 04:55  200200048006     True\n",
      " 200021042994    КАРЫМСКАЯ     ЧИТА I   Jul 16, 14:04  200200057242     True\n"
     ]
    }
   ],
   "source": [
    "# Список станций (первый столбец), на которых локомотивы меняются всегда,\n",
    "# если в машруте поезда есть любая из проверочных станций (второй столбец)\n",
    "st_list = [['КАРЫМСКАЯ',['УРУЛЬГА']], ['БОРЗЯ',['ХАРАНОР','ЗУН-ТОРЕЙ']], ['ТАКСИМО', ['КУАНДА','КАЗАНКАН']], \n",
    "           ['СКОВОРОДИНО', ['ШТУРМ']], ['ИЗВЕСТКОВАЯ', ['КУЛЬДУР']], ['ВОЛОЧАЕВКА II', ['СЕЛЬГОН']], \n",
    "           ['УССУРИЙСК', ['ПРИМОРСКАЯ', 'ГРОДЕКОВО']]]\n",
    "df_list = pd.DataFrame(st_list, columns=['st', 'other_st'])\n",
    "pd.set_option('display.max_colwidth', 50)\n",
    "add_header('Станции обязательной смены локомотивов:')\n",
    "add_line(df_list)\n",
    "a = train_plan.groupby('train').st_from_name.unique().to_frame()\n",
    "a.columns = ['route']\n",
    "train_plan['route'] = train_plan.train.map(a.route)\n",
    "# Если проверочная станция находится в маршруте поезда, значит, поезд едет в том направлении, где НАДО менять локомотив\n",
    "train_plan['check_st'] = train_plan.st_from_name.map(df_list.set_index('st').other_st)\n",
    "train_plan['in_route'] = train_plan.route.combine(train_plan.check_st, \\\n",
    "                                                  lambda x, y: not False in [st in x for st in y] if type(y) == list else False)\n",
    "\n",
    "cols = ['train', 'st_from_name', 'st_to_name', 'time_start_norm', 'loco', 'in_route']\n",
    "change_fails = train_plan.loc[(train_plan.time_start < current_time + hor) \n",
    "                              & (train_plan.train_type.isin([2, 9]))\n",
    "                              & (train_plan.train_start == False)\n",
    "                              & (train_plan.loco_start == False)\n",
    "                              & (train_plan.st_from_name.isin(df_list.st))\n",
    "                              & (train_plan.in_route == True)][cols].drop_duplicates().dropna(subset=['loco'])\n",
    "add_header('\\nВсего %d поездов, у которых должна быть смена локомотивов на станциях обязательной смены, но она не запланирована:' \n",
    "      % len(change_fails))\n",
    "add_line(change_fails.sort_values(['st_to_name', 'time_start_norm']))"
   ]
  },
  {
   "cell_type": "markdown",
   "metadata": {},
   "source": [
    "<a =id='res'></a>\n",
    "## Анализ локомотивов резервом [ToC](#toc)"
   ]
  },
  {
   "cell_type": "code",
   "execution_count": 79,
   "metadata": {
    "collapsed": false
   },
   "outputs": [
    {
     "name": "stdout",
     "output_type": "stream",
     "text": [
      "Анализируемый горизонт отправления: 24.00 ч.\n"
     ]
    }
   ],
   "source": [
    "add_header('Анализ локомотивов резервом', h=2, p=False)\n",
    "hor = 24 * 3600\n",
    "add_line('Анализируемый горизонт отправления: %.2f ч.' % (hor / 3600))"
   ]
  },
  {
   "cell_type": "markdown",
   "metadata": {},
   "source": [
    "<a =id='res_nums'></a>\n",
    "### Проверка диапазона номеров для локомотивов резервом [ToC](#toc)"
   ]
  },
  {
   "cell_type": "code",
   "execution_count": 80,
   "metadata": {
    "collapsed": false
   },
   "outputs": [
    {
     "name": "stdout",
     "output_type": "stream",
     "text": [
      "Диапазон номеров поездов для локомотивов резервом: от 4201 до 4897\n"
     ]
    }
   ],
   "source": [
    "train_plan.columns\n",
    "train_plan['train_type'] = train_plan.train.apply(lambda x: int(str(x)[0]))\n",
    "train_plan['res_train_num'] = train_plan.train.apply(lambda x: int(str(x)[-4:]))\n",
    "res_train_nums = train_plan[train_plan.train_type == 8].res_train_num.drop_duplicates()\n",
    "add_line('Диапазон номеров поездов для локомотивов резервом: от %d до %d' % (res_train_nums.min(), res_train_nums.max()))"
   ]
  },
  {
   "cell_type": "markdown",
   "metadata": {},
   "source": [
    "<a =id='res_amount'></a>\n",
    "### Анализ количества отправлений локомотивов резервом по направлениям [ToC](#toc)"
   ]
  },
  {
   "cell_type": "code",
   "execution_count": 85,
   "metadata": {
    "collapsed": false
   },
   "outputs": [
    {
     "name": "stdout",
     "output_type": "stream",
     "text": [
      "Всего отправок локомотивов резервом: 355\n",
      "Всего локомотивов, для которых есть пересылка резервом: 283\n",
      "\n",
      "Станции, с которых было отправлено больше всего локомотивов резервом (первые 10):\n",
      "БИРА                     36\n",
      "БОЛЬШОЙ ЛУГ              19\n",
      "ПЕТРОВСКИЙ ЗАВОД         10\n",
      "КАДАЛА                   10\n",
      "ГОРХОН                    9\n",
      "ГОРЕЛЫЙ                   8\n",
      "УЛАН-УДЭ                  8\n",
      "БЕРКАКИТ                  7\n",
      "ЧЕЛУТАЙ                   7\n",
      "ИРКУТСК-СОРТИРОВОЧНЫЙ     7\n",
      "\n",
      "Участки планирования, на которых было отправлено больше всего локомотивов резервом (первые 10):\n",
      "st_from_name                        st_to_name          \n",
      "БИРА                                ИЗВЕСТКОВАЯ             36\n",
      "БОЛЬШОЙ ЛУГ                         ГОНЧАРОВО               19\n",
      "КАДАЛА                              ЧИТА I                  10\n",
      "ГОРХОН                              КИЖА                     9\n",
      "ГОРЕЛЫЙ                             СКОВОРОДИНО              8\n",
      "БЕРКАКИТ                            БЕСТУЖЕВО                7\n",
      "ЧЕЛУТАЙ                             ТАЛЬЦЫ                   7\n",
      "ПЕТРОВСКИЙ ЗАВОД                    КИЖА                     5\n",
      "ВОЛОЧАЕВКА I                        ТУНГУССКИЙ               5\n",
      "КОМСОМОЛЬСК-НА-АМУРЕ-СОРТИРОВОЧНЫЙ  КОМСОМОЛЬСК-НА-АМУРЕ     5\n",
      "\n",
      "Самые частые маршруты для локомотивов резервом (первые 10):\n",
      "st_from_name                        st_to_name_end       \n",
      "БИРА                                ИЗВЕСТКОВАЯ              36\n",
      "БОЛЬШОЙ ЛУГ                         ИРКУТСК-СОРТИРОВОЧНЫЙ    19\n",
      "ГОРХОН                              ПЕТРОВСКИЙ ЗАВОД          9\n",
      "ГОРЕЛЫЙ                             СКОВОРОДИНО               8\n",
      "КАДАЛА                              ЧИТА I                    8\n",
      "БЕРКАКИТ                            ТЫНДА                     7\n",
      "ЧЕЛУТАЙ                             УЛАН-УДЭ                  7\n",
      "ТАЛЬЦЫ                              УЛАН-УДЭ                  5\n",
      "ЗАБАЙКАЛЬСК                         БОРЗЯ                     5\n",
      "КОМСОМОЛЬСК-НА-АМУРЕ-СОРТИРОВОЧНЫЙ  ДЗЕМГИ                    5\n"
     ]
    }
   ],
   "source": [
    "loco_mask = loco_plan.time_start < current_time + hor\n",
    "loco_cols = ['loco', 'st_from_name', 'st_to_name', 'time_start', 'time_end', 'time_start_norm', 'time_end_norm',\n",
    "             'state', 'train', 'res_start', 'res_end']\n",
    "loco_plan['res_start'] = loco_plan.train != loco_plan.train.shift(1)\n",
    "loco_plan['res_end'] = loco_plan.train != loco_plan.train.shift(-1)\n",
    "loco_plan.loc[loco_plan.state == 0, loco_cols]\n",
    "loco_res_start = loco_plan.loc[(loco_plan.res_start == True) &\n",
    "                               (loco_plan.state == 0), loco_cols].sort_values(['loco', 'time_start'])\n",
    "loco_res_end = loco_plan.loc[(loco_plan.res_end == True) \n",
    "                             & (loco_plan.state == 0), loco_cols].sort_values(['loco', 'time_start'])\n",
    "cols = ['loco', 'st_from_name', 'st_to_name', 'st_to_name_end', 'time_start', 'time_start_norm', 'time_end', 'time_end_norm', 'train']\n",
    "loco_res_trips = loco_res_start[['loco', 'st_from_name', 'st_to_name', 'time_start', 'time_start_norm', 'train']].\\\n",
    "                set_index(['loco', 'train']).join(loco_res_end[['loco', 'st_to_name', 'time_end', 'time_end_norm', 'train']].\\\n",
    "                                                  set_index(['loco', 'train']), rsuffix='_end').reset_index()[cols]\n",
    "\n",
    "loco_res_trips_hor = loco_res_trips.loc[loco_res_trips.time_start < current_time + hor]\n",
    "add_line('Всего отправок локомотивов резервом: %d' % loco_res_trips_hor.loco.count())\n",
    "add_line('Всего локомотивов, для которых есть пересылка резервом: %d' % loco_res_trips_hor.loco.drop_duplicates().count())\n",
    "add_header('\\nСтанции, с которых было отправлено больше всего локомотивов резервом (первые 10):')\n",
    "add_line(loco_res_trips_hor.st_from_name.value_counts().head(10))\n",
    "add_header('\\nУчастки планирования, на которых было отправлено больше всего локомотивов резервом (первые 10):')\n",
    "add_line(loco_res_trips_hor.groupby('st_from_name').st_to_name.value_counts().sort_values(ascending=False).head(10))\n",
    "add_header('\\nСамые частые маршруты для локомотивов резервом (первые 10):')\n",
    "add_line(loco_res_trips_hor.groupby('st_from_name').st_to_name_end.value_counts().sort_values(ascending=False).head(10))"
   ]
  },
  {
   "cell_type": "markdown",
   "metadata": {},
   "source": [
    "<a =id='res_before'></a>\n",
    "### Локомотивы резервом до начала планирования [ToC](#toc)"
   ]
  },
  {
   "cell_type": "code",
   "execution_count": 86,
   "metadata": {
    "collapsed": false
   },
   "outputs": [
    {
     "name": "stdout",
     "output_type": "stream",
     "text": [
      "Время начала планирования: Jul 15, 14:41 (1468582897)\n",
      "Всего 0 локомотивов, отправленных резервом до начала планирования (показаны первые 10):\n"
     ]
    }
   ],
   "source": [
    "add_info(links)\n",
    "add_line('Время начала планирования: %s (%d)' % (time.strftime(time_format, time.localtime(current_time)), current_time))\n",
    "loco_res_trips['link_name'] = list(zip(loco_res_trips.st_from_name, loco_res_trips.st_to_name))\n",
    "links['link_name'] = list(zip(links.st_from_name, links.st_to_name))\n",
    "loco_res_trips['dir'] = loco_res_trips.link_name.map(links.drop_duplicates('link_name').set_index('link_name')['dir'])\n",
    "loco_res_trips_hor = loco_res_trips.loc[loco_res_trips.time_start < current_time + hor]\n",
    "    \n",
    "cols = ['loco', 'st_from_name', 'st_to_name_end', 'time_start', 'time_start_norm', 'dir', 'train']\n",
    "res_before_ct = loco_res_trips.loc[loco_res_trips.time_start < current_time, cols]\n",
    "add_header('Всего %d локомотивов, отправленных резервом до начала планирования (показаны первые 10):' % len(res_before_ct.index))\n",
    "if not res_before_ct.empty:\n",
    "    add_line(res_before_ct.sort_values('time_start').head(10))"
   ]
  },
  {
   "cell_type": "markdown",
   "metadata": {},
   "source": [
    "<a =id='res_even'></a>\n",
    "### Локомотивы резервом в четном направлении [ToC](#toc)"
   ]
  },
  {
   "cell_type": "code",
   "execution_count": 87,
   "metadata": {
    "collapsed": false
   },
   "outputs": [
    {
     "name": "stdout",
     "output_type": "stream",
     "text": [
      "Самые частые маршруты для локомотивов резервом в четном направлении (всего 125, показаны первые 10):\n",
      "st_from_name                        st_to_name_end                    \n",
      "ГОРХОН                              ПЕТРОВСКИЙ ЗАВОД                      9\n",
      "ГОРЕЛЫЙ                             СКОВОРОДИНО                           8\n",
      "КАДАЛА                              ЧИТА I                                8\n",
      "КОМСОМОЛЬСК-НА-АМУРЕ-СОРТИРОВОЧНЫЙ  ДЗЕМГИ                                5\n",
      "ВОЛОЧАЕВКА I                        ВОЛОЧАЕВКА II                         5\n",
      "ХАНИ                                ТЫНДА                                 4\n",
      "ЧИТА I                              ШАХТЕРСКАЯ                            3\n",
      "ЧЕРЕМХОВО                           ИРКУТСК-СОРТИРОВОЧНЫЙ                 3\n",
      "ГРОДЕКОВО (КИТАЙ)                   ГРОДЕКОВО                             3\n",
      "ПОСТЫШЕВО                           КОМСОМОЛЬСК-НА-АМУРЕ-СОРТИРОВОЧНЫЙ    3\n",
      "\n",
      "Локомотивы резервом на самом частном маршруте в четном направлении:\n",
      "         loco st_from_name    st_to_name_end  time_start time_start_norm  dir           train\n",
      " 200200047018       ГОРХОН  ПЕТРОВСКИЙ ЗАВОД  1468590097   Jul 15, 16:41    0  88880001144808\n",
      " 200200081299       ГОРХОН  ПЕТРОВСКИЙ ЗАВОД  1468633297   Jul 16, 04:41    0  88880008374648\n",
      " 200200083335       ГОРХОН  ПЕТРОВСКИЙ ЗАВОД  1468633297   Jul 16, 04:41    0  88880008374654\n",
      " 200200084777       ГОРХОН  ПЕТРОВСКИЙ ЗАВОД  1468633297   Jul 16, 04:41    0  88880008374656\n",
      " 200200086963       ГОРХОН  ПЕТРОВСКИЙ ЗАВОД  1468633297   Jul 16, 04:41    0  88880008374664\n",
      " 200200087888       ГОРХОН  ПЕТРОВСКИЙ ЗАВОД  1468633297   Jul 16, 04:41    0  88880008374666\n",
      " 200200102378       ГОРХОН  ПЕТРОВСКИЙ ЗАВОД  1468633297   Jul 16, 04:41    0  88880008374684\n",
      " 200200089018       ГОРХОН  ПЕТРОВСКИЙ ЗАВОД  1468654897   Jul 16, 10:41    0  88880011824886\n",
      " 210203709065       ГОРХОН  ПЕТРОВСКИЙ ЗАВОД  1468654897   Jul 16, 10:41    0  88880011834204\n"
     ]
    }
   ],
   "source": [
    "cols = ['loco', 'st_from_name', 'st_to_name_end', 'time_start', 'time_start_norm', 'dir', 'train']\n",
    "even_res = loco_res_trips.loc[loco_res_trips.dir == 0, cols]\n",
    "even_res_hor = loco_res_trips_hor.loc[loco_res_trips_hor.dir == 0, cols]\n",
    "a = even_res_hor.groupby('st_from_name').st_to_name_end.value_counts().sort_values(ascending=False)\n",
    "add_header('Самые частые маршруты для локомотивов резервом в четном направлении (всего %d, показаны первые 10):' \n",
    "      % even_res_hor.loco.drop_duplicates().count())\n",
    "add_line(a.head(10))\n",
    "\n",
    "st_from = a.to_frame().reset_index().ix[0]['st_from_name']\n",
    "st_to = a.to_frame().reset_index().ix[0]['st_to_name_end']\n",
    "most_even_res = even_res_hor.loc[(even_res_hor.st_from_name == st_from) \n",
    "                                 & (even_res_hor.st_to_name_end == st_to)].sort_values('time_start')\n",
    "add_header('\\nЛокомотивы резервом на самом частном маршруте в четном направлении:')\n",
    "add_line(most_even_res)"
   ]
  },
  {
   "cell_type": "markdown",
   "metadata": {},
   "source": [
    "[В начало](#toc)\n",
    "### Проверка времени хода для локомотивов резервом"
   ]
  },
  {
   "cell_type": "code",
   "execution_count": 148,
   "metadata": {
    "collapsed": false
   },
   "outputs": [
    {
     "name": "stdout",
     "output_type": "stream",
     "text": [
      "Всего 50 (8.49%) пересылок локомотивов резервом с временем хода больше 15 часов\n",
      "Из них 15 НЕ являются возвратом на свое тяговое плечо. Примеры:\n",
      "         loco      st_from_name         st_to_name_end time_start_norm  time_end_norm   tt_h\n",
      " 200200047018  ПЕТРОВСКИЙ ЗАВОД              КАРЫМСКАЯ   Jul 15, 19:18  Jul 16, 17:23  22.09\n",
      " 200200082067       СМОЛЯНИНОВО          ВОЛОЧАЕВКА II   Jul 16, 11:40  Jul 17, 05:17  17.62\n",
      " 200200102812            МОГОЧА              МАГДАГАЧИ   Jul 16, 08:17  Jul 17, 01:27  17.17\n",
      " 200200045126         КАРЫМСКАЯ                ЧЕЛУТАЙ   Jul 16, 02:49  Jul 16, 19:47  16.96\n",
      " 200207612088              ЛЕНА                 ТАЙШЕТ   Jul 16, 18:15  Jul 17, 11:03  16.81\n",
      " 200200105990       СКОВОРОДИНО      НЕРЮНГРИ-ГРУЗОВАЯ   Jul 17, 00:07  Jul 17, 16:41  16.57\n",
      " 200200103181              ЗИМА                БАЗАИХА   Jul 16, 23:05  Jul 17, 15:34  16.49\n",
      " 200200103406            ЧИТА I                ЧЕЛУТАЙ   Jul 15, 22:48  Jul 16, 15:17  16.47\n",
      " 200200099359            ТАЙШЕТ               МАРИИНСК   Jul 16, 13:50  Jul 17, 06:11  16.35\n",
      " 200200106591       СКОВОРОДИНО  НЕРЮНГРИ-ПАССАЖИРСКАЯ   Jul 17, 16:36  Jul 18, 08:56  16.33\n",
      "         loco ser_name           st_from_name             st_to_name time_start_norm  time_end_norm           train\n",
      " 200200047018    ВЛ80Р                 ГОРХОН                   КИЖА   Jul 15, 16:41  Jul 15, 17:16  88880001144808\n",
      " 200200047018    ВЛ80Р                   КИЖА       ПЕТРОВСКИЙ ЗАВОД   Jul 15, 17:16  Jul 15, 17:57  88880001144808\n",
      " 200200047018    ВЛ80Р       ПЕТРОВСКИЙ ЗАВОД               ЖИПХЕГЕН   Jul 15, 19:18  Jul 15, 21:31  88880035734418\n",
      " 200200047018    ВЛ80Р               ЖИПХЕГЕН                  ХИЛОК   Jul 15, 21:31  Jul 15, 22:04  88880035734418\n",
      " 200200047018    ВЛ80Р                  ХИЛОК                 МОГЗОН   Jul 16, 06:56  Jul 16, 09:22  88880035734418\n",
      " 200200047018    ВЛ80Р                 МОГЗОН               ТУРГУТУЙ   Jul 16, 09:22  Jul 16, 10:25  88880035734418\n",
      " 200200047018    ВЛ80Р               ТУРГУТУЙ                 ЛЕСНАЯ   Jul 16, 10:25  Jul 16, 11:14  88880035734418\n",
      " 200200047018    ВЛ80Р                 ЛЕСНАЯ                 КАДАЛА   Jul 16, 11:14  Jul 16, 12:24  88880035734418\n",
      " 200200047018    ВЛ80Р                 КАДАЛА                 ЧИТА I   Jul 16, 12:24  Jul 16, 12:34  88880035734418\n",
      " 200200047018    ВЛ80Р                 ЧИТА I              КАРЫМСКАЯ   Jul 16, 15:13  Jul 16, 17:23  88880035734418\n",
      " 200200047018    ВЛ80Р              КАРЫМСКАЯ                 ЧИТА I   Jul 17, 04:06  Jul 17, 06:02    200022006645\n",
      " 200200047018    ВЛ80Р                 ЧИТА I                 ЧИТА I   Jul 17, 06:53  Jul 17, 09:53              -1\n",
      " 200200047018    ВЛ80Р                 ЧИТА I              КАРЫМСКАЯ   Jul 17, 13:28  Jul 17, 15:25  88880040254612\n",
      " 200200047018    ВЛ80Р              КАРЫМСКАЯ                 ЧИТА I   Jul 17, 18:50  Jul 17, 20:47    200020479515\n",
      " 200200047018    ВЛ80Р                 ЧИТА I                 КАДАЛА   Jul 17, 20:47  Jul 17, 21:00    200020479515\n",
      " 200200047018    ВЛ80Р                 КАДАЛА                 ЛЕСНАЯ   Jul 17, 21:00  Jul 17, 21:56    200020479515\n",
      " 200200047018    ВЛ80Р                 ЛЕСНАЯ               ТУРГУТУЙ   Jul 17, 21:56  Jul 17, 22:37    200020479515\n",
      " 200200047018    ВЛ80Р               ТУРГУТУЙ                 МОГЗОН   Jul 17, 22:37  Jul 17, 23:37    200020479515\n",
      " 200200047018    ВЛ80Р                 МОГЗОН                  ХИЛОК   Jul 17, 23:37  Jul 18, 02:07    200020479515\n",
      " 200200047018    ВЛ80Р                  ХИЛОК               ЖИПХЕГЕН   Jul 18, 03:15  Jul 18, 03:47    200020479515\n",
      " 200200047018    ВЛ80Р               ЖИПХЕГЕН       ПЕТРОВСКИЙ ЗАВОД   Jul 18, 03:47  Jul 18, 06:16    200020479515\n",
      " 200200047018    ВЛ80Р       ПЕТРОВСКИЙ ЗАВОД                   КИЖА   Jul 18, 06:16  Jul 18, 06:45    200020479515\n",
      " 200200047018    ВЛ80Р                   КИЖА                 ГОРХОН   Jul 18, 06:45  Jul 18, 07:02    200020479515\n",
      " 200200047018    ВЛ80Р                 ГОРХОН                ЧЕЛУТАЙ   Jul 18, 07:02  Jul 18, 07:40    200020479515\n",
      " 200200047018    ВЛ80Р                ЧЕЛУТАЙ                 ТАЛЬЦЫ   Jul 18, 07:40  Jul 18, 08:28    200020479515\n",
      " 200200047018    ВЛ80Р                 ТАЛЬЦЫ             ЗАУДИНСКИЙ   Jul 18, 08:28  Jul 18, 08:38    200020479515\n",
      " 200200047018    ВЛ80Р             ЗАУДИНСКИЙ               УЛАН-УДЭ   Jul 18, 08:38  Jul 18, 08:48    200020479515\n",
      " 200200047018    ВЛ80Р               УЛАН-УДЭ                МЫСОВАЯ   Jul 18, 09:35  Jul 18, 12:04    200020479515\n",
      " 200200047018    ВЛ80Р                МЫСОВАЯ              БАЙКАЛЬСК   Jul 18, 12:04  Jul 18, 14:11    200020479515\n",
      " 200200047018    ВЛ80Р              БАЙКАЛЬСК             СЛЮДЯНКА I   Jul 18, 14:11  Jul 18, 14:56    200020479515\n",
      " 200200047018    ВЛ80Р             СЛЮДЯНКА I            СЛЮДЯНКА II   Jul 18, 14:56  Jul 18, 15:03    200020479515\n",
      " 200200047018    ВЛ80Р            СЛЮДЯНКА II              АНГАСОЛКА   Jul 18, 15:03  Jul 18, 15:29    200020479515\n",
      " 200200047018    ВЛ80Р              АНГАСОЛКА          АНДРИАНОВСКАЯ   Jul 18, 15:29  Jul 18, 15:43    200020479515\n",
      " 200200047018    ВЛ80Р          АНДРИАНОВСКАЯ            БОЛЬШОЙ ЛУГ   Jul 18, 15:43  Jul 18, 16:53    200020479515\n",
      " 200200047018    ВЛ80Р            БОЛЬШОЙ ЛУГ              ГОНЧАРОВО   Jul 18, 16:53  Jul 18, 17:13    200020479515\n",
      " 200200047018    ВЛ80Р              ГОНЧАРОВО  ИРКУТСК-СОРТИРОВОЧНЫЙ   Jul 18, 17:13  Jul 18, 17:38    200020479515\n",
      " 200200047018    ВЛ80Р  ИРКУТСК-СОРТИРОВОЧНЫЙ             БАТАРЕЙНАЯ   Jul 18, 19:32  Jul 18, 19:35    200020479515\n",
      " 200200047018    ВЛ80Р             БАТАРЕЙНАЯ                  МЕГЕТ   Jul 18, 19:35  Jul 18, 19:43    200020479515\n",
      " 200200047018    ВЛ80Р                  МЕГЕТ              СУХОВСКАЯ   Jul 18, 19:43  Jul 18, 19:56    200020479515\n",
      " 200200047018    ВЛ80Р              СУХОВСКАЯ                АНГАРСК   Jul 18, 19:56  Jul 18, 20:01    200020479515\n",
      " 200200047018    ВЛ80Р                АНГАРСК                  КИТОЙ   Jul 18, 20:01  Jul 18, 20:09    200020479515\n",
      " 200200047018    ВЛ80Р                  КИТОЙ                 МАЛЬТА   Jul 18, 20:09  Jul 18, 20:49    200020479515\n",
      " 200200047018    ВЛ80Р                 МАЛЬТА             КАСЬЯНОВКА   Jul 18, 20:49  Jul 18, 21:39    200020479515\n",
      " 200200047018    ВЛ80Р             КАСЬЯНОВКА              ЧЕРЕМХОВО   Jul 18, 21:39  Jul 18, 21:54    200020479515\n",
      " 200200047018    ВЛ80Р              ЧЕРЕМХОВО                 ЗАЛАРИ   Jul 18, 21:54  Jul 18, 23:07    200020479515\n",
      " 200200047018    ВЛ80Р                 ЗАЛАРИ                   ЗИМА   Jul 18, 23:07  Jul 19, 00:04    200020479515\n",
      " 200200047018    ВЛ80Р                   ЗИМА                ПЕРЕВОЗ   Jul 19, 00:04  Jul 19, 00:25    200020479515\n",
      " 200200047018    ВЛ80Р                ПЕРЕВОЗ                 КУЙТУН   Jul 19, 00:25  Jul 19, 01:16    200020479515\n",
      " 200200047018    ВЛ80Р                 КУЙТУН                   АЗЕЙ   Jul 19, 01:16  Jul 19, 02:18    200020479515\n",
      " 200200047018    ВЛ80Р                   АЗЕЙ                  ТУЛУН   Jul 19, 02:18  Jul 19, 02:46    200020479515\n",
      " 200200047018    ВЛ80Р                  ТУЛУН                 УДА II   Jul 19, 02:46  Jul 19, 04:36    200020479515\n",
      " 200200047018    ВЛ80Р                 УДА II            НИЖНЕУДИНСК   Jul 19, 04:36  Jul 19, 04:45    200020479515\n",
      " 200200047018    ВЛ80Р            НИЖНЕУДИНСК                АЛЗАМАЙ   Jul 19, 05:45  Jul 19, 07:30    200020479515\n",
      " 200200047018    ВЛ80Р                АЛЗАМАЙ             БАЙРОНОВКА   Jul 19, 07:30  Jul 19, 08:20    200020479515\n",
      " 200200047018    ВЛ80Р             БАЙРОНОВКА                 ТАЙШЕТ   Jul 19, 08:20  Jul 19, 08:34    200020479515\n",
      "Среднее время хода для таких локомотивов: 16.73 ч.\n"
     ]
    }
   ],
   "source": [
    "def get_regions(x):\n",
    "    return list(a[a.apply(lambda y: (x[0] in y) & (x[1] in y))].index)\n",
    "\n",
    "a = stations.groupby('loco_region')['name'].unique()\n",
    "loco_res_trips['reg'] = loco_res_trips.link_name.apply(get_regions)\n",
    "loco_res_trips['loco_reg'] = loco_res_trips.loco.map(loco_info.set_index('loco').regions_eval)\n",
    "loco_res_trips['back_to_reg'] = loco_res_trips.apply(lambda row:\\\n",
    "                                                     not any([int(r) in [int(x) for x in row.loco_reg] for r in row.reg]),\n",
    "                                                     axis=1)\n",
    "loco_res_trips['tt'] = loco_res_trips.time_end - loco_res_trips.time_start\n",
    "loco_res_trips['tt_h'] = np.round((loco_res_trips.tt / 3600), 2)\n",
    "cols = ['loco', 'st_from_name', 'st_to_name_end', 'time_start_norm', 'time_end_norm', 'tt_h']\n",
    "res_trips_long = loco_res_trips[loco_res_trips.tt > 15 * 3600].sort_values('tt_h', ascending=False)\n",
    "add_header('Всего %d (%.2f%%) пересылок локомотивов резервом с временем хода больше 15 часов' \n",
    "           % (res_trips_long.loco.count(), 100 * res_trips_long.loco.count() / loco_res_trips.loco.count()))\n",
    "res_trips_long_no_back = res_trips_long[res_trips_long.back_to_reg == False]\n",
    "add_header('Из них %d НЕ являются возвратом на свое тяговое плечо. Примеры:' \n",
    "           % res_trips_long_no_back.loco.count())\n",
    "add_line(res_trips_long_no_back.head(10)[cols])\n",
    "loco_id = res_trips_long_no_back.iloc[0].loco\n",
    "plan_cols = ['loco', 'ser_name', 'st_from_name', 'st_to_name', 'time_start_norm', 'time_end_norm', 'train']\n",
    "add_line(loco_plan[loco_plan.loco == loco_id][plan_cols])\n",
    "add_header('Среднее время хода для таких локомотивов: %.2f ч.' % res_trips_long_no_back.tt_h.mean())"
   ]
  },
  {
   "cell_type": "markdown",
   "metadata": {},
   "source": [
    "### Причины появления четных локомотивов резервом:"
   ]
  },
  {
   "cell_type": "markdown",
   "metadata": {},
   "source": [
    "1. Мариинск и Карымская не являются станциями прохождения ТО. Поэтому локомотивы пересылаются резервом из Мариинска в Боготол для прохождения ТО или из Читы на Карымскую после прохождения ТО в Чите для подвязки под поезда в Карымской. Необходимо обновить справочник ПТОЛ.\n",
    "2. У локомотивов среди разрешенных тяговых плеч указаны и Мариинск-Борзя, и Карымская-Хабаровск. Поэтому локомотивы едут резервом из Читы в Карымскую, чтобы везти локомотивы на Хабаровск, поскольку Чита совсем недалеко от Карымской. Если бы у локомотивов с плеча Мариинск-Борзя не было проставлено плечо Карымская-Хабаровск, то направления резервом из Читы не было бы. Необходимо загрузить новый справочник тяговых плеч, где такого не будет.\n",
    "3. Поезда своего формирования (ССП) из Карымской следуют только до Читы. Поэтому локомотивы и освобождаются в Чите. Но поскольку в Чите они не нужны, то следуют резервом \"куда-то, где нужны\". В новом справочнике от Войтенко поезда СФ из Карымской следуют до Иркутска, Челутая и Петровского Завода -- это дальше Читы. Поэтому отправлений резервом из Читы станет меньше. Аналогичная проблема: для поездов СФ из Красноярска-Восточного и Тайшета.\n",
    "4. Недостаточное количество поездов в четном направлении на главном ходу -- поэтому локомотивы, которые могли бы ехать в четную сторону с поездами, едут резервом. Будет исправлено с загрузкой новых маршрутов.\n",
    "5. Смена локомотивов происходит на станции Горелый (для маршрутов типа Карымская--Беркакит или Таксимо--Карымская, например). Хотя поезд правильнее заводить на Сковородино и менять локомотив там. Проблема в том, что тогда на маршруте поезда получится петля типа \"Бамовская -- Горелый -- Сковородино -- Горелый -- Штурм\". Текущий алгоритм построения маршрутов не сможет сгенерировать такой маршрут у поезда. Видимо, нужна более продвинутая проверка на приоритетные станции при смене локомотивов и корректировка маршрута поезда. Сложная проблема, надо думать. Пока отложено до 10.05.2016.\n",
    "6. Узел Комсомольска-на-Амуре сложный, надо разбираться. Возможно, надо будет вводить дополнительный участок планирования КнА II - КнА-Сорт. Тоже сложная проблема, тоже пока отложено до 10.05.2016."
   ]
  },
  {
   "cell_type": "markdown",
   "metadata": {},
   "source": [
    "<a id='time_leaps'></a>\n",
    "## Проверка скачков по времени назад [ToC](#toc)"
   ]
  },
  {
   "cell_type": "code",
   "execution_count": null,
   "metadata": {
    "collapsed": true
   },
   "outputs": [],
   "source": [
    "add_header('Проверка скачков по времени назад', h=2, p=False)"
   ]
  },
  {
   "cell_type": "code",
   "execution_count": null,
   "metadata": {
    "collapsed": false
   },
   "outputs": [],
   "source": [
    "loco_plan['next_time_start'] = loco_plan.time_start.shift(-1)\n",
    "loco_plan['next_time_start_norm'] = loco_plan.time_start_norm.shift(-1)\n",
    "loco_plan['loco_end'] = loco_plan.loco != loco_plan.loco.shift(-1)\n",
    "cols = ['loco', 'st_from_name', 'st_to_name', 'time_start_norm', 'time_end_norm', 'next_time_start_norm']\n",
    "leaps = loco_plan[(loco_plan.loco_end == False) & (loco_plan.next_time_start < loco_plan.time_end)]\n",
    "if leaps.empty:\n",
    "    add_header('Не найдено локомотивов со скачками по времени назад в плане')\n",
    "else:\n",
    "    add_header('Всего %d локомотивов со скачками по времени назад в плане. Примеры:' % leaps.loco.count())\n",
    "    add_line(leaps.head(10)[cols])"
   ]
  },
  {
   "cell_type": "markdown",
   "metadata": {},
   "source": [
    "<a id='report'></a>\n",
    "### Экспорт результатов в HTML [ToC](#toc)"
   ]
  },
  {
   "cell_type": "code",
   "execution_count": null,
   "metadata": {
    "collapsed": false
   },
   "outputs": [],
   "source": [
    "filename = REPORT_FOLDER + 'loco_report_' + time.strftime('%Y%m%d_%H%M%S', time.localtime(time.time())) + '.html'\n",
    "create_report(filename)"
   ]
  }
 ],
 "metadata": {
  "kernelspec": {
   "display_name": "Python 3",
   "language": "python",
   "name": "python3"
  },
  "language_info": {
   "codemirror_mode": {
    "name": "ipython",
    "version": 3
   },
   "file_extension": ".py",
   "mimetype": "text/x-python",
   "name": "python",
   "nbconvert_exporter": "python",
   "pygments_lexer": "ipython3",
   "version": "3.5.1"
  }
 },
 "nbformat": 4,
 "nbformat_minor": 0
}
