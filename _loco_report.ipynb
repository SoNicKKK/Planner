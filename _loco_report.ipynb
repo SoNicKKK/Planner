{
 "cells": [
  {
   "cell_type": "markdown",
   "metadata": {},
   "source": [
    "<a id='toc'></a>\n",
    "# Список тестов по запланированным локомотивам:"
   ]
  },
  {
   "cell_type": "markdown",
   "metadata": {},
   "source": [
    "1. [Вычисление процента подвязки поездов и локомотивов.](#perc)\n",
    "2. [Проверка правильности назначениях тяговых плеч локомотивам во входных данных.](#regions)\n",
    "   1. [Проверка назначения тяговых плеч локомотивам в соответствии с сериями](#correct_reg_ser)\n",
    "   2. [Проверка невыезда локомотива за пределы своих тяговых плеч в процессе планирования](#correct_reg_plan)\n",
    "   3. [Локомотивы на чужих тяговых плечах на начало планирования](#bad_regs_loco_info)\n",
    "3. [Проверка пунктов проведения ТО-2.](#st_to2)\n",
    "4. [Проверка подвязки на соответствие весовым нормам.](#tonnage)\n",
    "5. [Проверка смен локомотива на станциях обязательной смены.](#change)\n",
    "6. [Анализ локомотивов резервом.](#res)\n",
    "   1. [Проверка номеров поездов, соответствующих локомотивам резервом.](#res_nums)\n",
    "   2. [Вычисление количества локомотивов резервом по направлениям.](#res_amount)\n",
    "   3. [Проверка отправления локомотивов резервом до начала планирования.](#res_before)\n",
    "   4. [Анализ отправления локомотивов резервом в четную сторону.](#res_even)\n",
    "   5. [Проверка времени хода для локомотивов резервом](#Проверка-времени-хода-для-локомотивов-резервом)\n",
    "7. [Проверка скачков по времени назад](#time_leaps)\n",
    "7. [Создание отчета](#report)"
   ]
  },
  {
   "cell_type": "markdown",
   "metadata": {},
   "source": [
    "### Константы и настройки"
   ]
  },
  {
   "cell_type": "code",
   "execution_count": 64,
   "metadata": {
    "collapsed": true
   },
   "outputs": [],
   "source": [
    "report = ''\n",
    "FOLDER = 'resources/'\n",
    "REPORT_FOLDER = 'report/'\n",
    "PRINT = True"
   ]
  },
  {
   "cell_type": "markdown",
   "metadata": {},
   "source": [
    "### Функции для экспорта в HTML"
   ]
  },
  {
   "cell_type": "code",
   "execution_count": 65,
   "metadata": {
    "collapsed": false
   },
   "outputs": [],
   "source": [
    "def add_line(line, p=PRINT):    \n",
    "    global report        \n",
    "    if p:        \n",
    "        if type(line) == str:\n",
    "            print(line)        \n",
    "        elif type(line) == pd.core.frame.DataFrame:\n",
    "            print(line.to_string(index=False))\n",
    "        elif type(line) == pd.core.series.Series:\n",
    "            print(line.to_string())\n",
    "    if type(line) == pd.core.frame.DataFrame:        \n",
    "        report += ('%s<br>' % line.to_html(index=False))\n",
    "    elif type(line) == pd.core.series.Series:\n",
    "        report += ('%s<br>' % line.to_frame().reset_index().to_html(index=False))\n",
    "    else:                \n",
    "        report += ('%s<br>' % line)\n",
    "    \n",
    "def add_header(header, h=4, p=PRINT):\n",
    "    global report    \n",
    "    report += ('<h%d>%s</h%d>' % (h, header, h))    \n",
    "    if p:\n",
    "        print(header)\n",
    "        \n",
    "def add_image(filename):\n",
    "    global report\n",
    "    report += ('<img src=\"%s\" alt=\"%s\" height=\"40%%\">' % (filename, filename))\n",
    "\n",
    "def create_report(filename):\n",
    "    global report\n",
    "    report = report.replace('<table border=\"1\" class=\"dataframe\">','<table class=\"table table-striped\">')\n",
    "    html_string = '''\n",
    "        <html>\n",
    "            <head>\n",
    "                <link rel=\"stylesheet\" href=\"skeleton.css\">\n",
    "                <style>body{ margin:20 20; background:whitesmoke; }\n",
    "                table {table-layout : fixed}\n",
    "                </style>\n",
    "            </head>\n",
    "            <body>\n",
    "                <h1>Проверки по локомотивам</h1>        \n",
    "                %s\n",
    "            </body>\n",
    "        </html>''' % (report)\n",
    "    f = open(filename,'w', encoding='utf-8-sig')\n",
    "    f.write(html_string)\n",
    "    f.close()\n",
    "    print('Отчет сформирован за %.2f сек. и записан в файл %s' % (time.time() - start_time, filename))"
   ]
  },
  {
   "cell_type": "markdown",
   "metadata": {},
   "source": [
    "## Загрузка и подготовка данных"
   ]
  },
  {
   "cell_type": "code",
   "execution_count": 66,
   "metadata": {
    "collapsed": true
   },
   "outputs": [],
   "source": [
    "TIME_FORMAT = '%b %d, %H:%M'\n",
    "'''\n",
    "    Преобразует время из timestamp в красивый формат, заданный в константе time_format\n",
    "'''\n",
    "def nice_time(t):\n",
    "    return time.strftime(TIME_FORMAT, time.localtime(t)) if t > 0 else ''\n",
    "\n",
    "def nice_print(s, **kwargs):    \n",
    "    num = kwargs['num'] if 'num' in kwargs.keys() else False\n",
    "    cols = kwargs['cols'] if 'cols' in kwargs.keys() else s.columns\n",
    "    if num:\n",
    "        print(s.reset_index()[cols].to_string())\n",
    "    else:\n",
    "        print(s[cols].to_string(index=False))"
   ]
  },
  {
   "cell_type": "code",
   "execution_count": 67,
   "metadata": {
    "collapsed": false
   },
   "outputs": [
    {
     "name": "stdout",
     "output_type": "stream",
     "text": [
      "Время составления отчета: Aug 19, 17:04\n",
      "Время запуска планировщика: Jul 29, 18:00 (1438182000)\n"
     ]
    }
   ],
   "source": [
    "import numpy as np\n",
    "import pandas as pd\n",
    "import time, datetime\n",
    "from ast import literal_eval\n",
    "import matplotlib.pyplot as plt\n",
    "import seaborn as sns\n",
    "from IPython import get_ipython\n",
    "\n",
    "%matplotlib inline\n",
    "plt.style.use('fivethirtyeight')\n",
    "plt.rc('font', family='Times New Roman')\n",
    "\n",
    "pd.set_option('max_rows', 50)\n",
    "pd.set_option('display.max_colwidth', 25)\n",
    "\n",
    "time_format = '%b %d, %H:%M'\n",
    "\n",
    "start_time = time.time()\n",
    "current_time   = pd.read_csv(FOLDER + 'current_time.csv').current_time[0]\n",
    "twr            = pd.read_csv(FOLDER + 'team_work_region.csv', converters={'team_work_region':str})\n",
    "links          = pd.read_csv(FOLDER + 'link.csv', converters={'st_from':str, 'st_to':str})\n",
    "stations       = pd.read_csv(FOLDER + 'station.csv', converters={'station':str})\n",
    "train_info     = pd.read_csv(FOLDER + 'train_info.csv', converters={'train': str, 'st_from':str, 'st_to':str})\n",
    "train_plan     = pd.read_csv(FOLDER + 'slot_train.csv', converters={'train': str, 'st_from':str, 'st_to':str})\n",
    "loco_info      = pd.read_csv(FOLDER + 'loco_attributes.csv', converters={'train':str, 'loco':str, \n",
    "                                                                   'st_from':str, 'st_to':str, 'depot':str})\n",
    "loco_plan      = pd.read_csv(FOLDER + 'slot_loco.csv', converters={'train':str, 'loco':str, 'st_from':str, 'st_to':str})\n",
    "team_info      = pd.read_csv(FOLDER + 'team_attributes.csv', converters={'team':str,'depot':str, 'oper_location':str, \\\n",
    "                                                     'st_from':str, 'st_to':str, 'loco':str, 'depot_st':str})\n",
    "\n",
    "team_plan      = pd.read_csv(FOLDER + 'slot_team.csv', converters={'team':str,'loco':str, 'st_from':str, 'st_to':str})\n",
    "loco_series    = pd.read_csv(FOLDER + 'loco_series.csv')\n",
    "loco_info_regs = pd.read_csv(FOLDER + 'loco_info_regs.csv', converters={'loco':str})\n",
    "loco_tonnage   = pd.read_csv(FOLDER + 'loco_tonnage.csv', converters={'st_from':str, 'st_to':str})\n",
    "\n",
    "st_names = stations[['station', 'name', 'esr']].drop_duplicates().set_index('station')\n",
    "team_info.regions = team_info.regions.apply(literal_eval)\n",
    "\n",
    "print('Время составления отчета:', time.strftime(time_format, time.localtime()))\n",
    "print('Время запуска планировщика: %s (%d)' % (time.strftime(time_format, time.localtime(current_time)), current_time))"
   ]
  },
  {
   "cell_type": "code",
   "execution_count": 68,
   "metadata": {
    "collapsed": true
   },
   "outputs": [],
   "source": [
    "# Мержим таблицы _plan и _info для поездов, локомотивов и бригад\n",
    "# Добавляем во все таблицы названия станций на маршруте и времена отправления/прибытия в читабельном формате\n",
    "\n",
    "def add_info(df):    \n",
    "    if 'st_from' in df.columns:\n",
    "        df['st_from_name'] = df.st_from.map(st_names.name)\n",
    "    if 'st_to' in df.columns:\n",
    "        df['st_to_name'] = df.st_to.map(st_names.name)\n",
    "    if 'time_start' in df.columns:\n",
    "        df['time_start_norm'] = df.time_start.apply(lambda x: time.strftime(time_format, time.localtime(x)))\n",
    "    if 'time_end' in df.columns:\n",
    "        df['time_end_norm'] = df.time_end.apply(lambda x: time.strftime(time_format, time.localtime(x)))\n",
    "    if 'oper_location' in df.columns:\n",
    "        df['oper_location_name'] = df.oper_location.map(st_names.name)    \n",
    "        df.oper_location_name.fillna(0, inplace=True)\n",
    "    if ('oper_location' in df.columns) & ('st_from' in df.columns) & ('st_to' in df.columns):        \n",
    "        df['loc_name'] = df.oper_location_name\n",
    "        df.loc[df.loc_name == 0, 'loc_name'] = df.st_from_name + ' - ' + df.st_to_name\n",
    "    \n",
    "add_info(train_plan)\n",
    "add_info(loco_plan)\n",
    "add_info(team_plan)\n",
    "add_info(loco_info)\n",
    "add_info(team_info)\n",
    "train_plan = train_plan.merge(train_info, on='train', suffixes=('', '_info'), how='left')\n",
    "loco_plan = loco_plan.merge(loco_info, on='loco', suffixes=('', '_info'), how='left')\n",
    "team_plan = team_plan.merge(team_info, on='team', suffixes=('', '_info'), how='left')"
   ]
  },
  {
   "cell_type": "code",
   "execution_count": 69,
   "metadata": {
    "collapsed": false
   },
   "outputs": [],
   "source": [
    "# Добавляем ссылку на бригаду в таблицу локомотивов\n",
    "# Добавляем ссылку на локомотив и бригаду в таблицу поездов\n",
    "\n",
    "loco_plan['loco_time'] = list(zip(loco_plan.loco , loco_plan.time_start))\n",
    "team_plan['loco_time'] = list(zip(team_plan.loco , team_plan.time_start))\n",
    "loco_plan['team'] = loco_plan.loco_time.map(team_plan.drop_duplicates('loco_time').set_index('loco_time').team)\n",
    "\n",
    "loco_plan['train_time'] = list(zip(loco_plan.train, loco_plan.time_start))\n",
    "train_plan['train_time'] = list(zip(train_plan.train, train_plan.time_start))\n",
    "train_plan['loco'] = train_plan.train_time.map(loco_plan.drop_duplicates('train_time').set_index('train_time').loco)\n",
    "train_plan['team'] = train_plan.train_time.map(loco_plan.drop_duplicates('train_time').set_index('train_time').team)\n",
    "\n",
    "add_info(loco_tonnage)\n",
    "loco_tonnage['link'] = list(zip(loco_tonnage.st_from, loco_tonnage.st_to))\n",
    "loco_tonnage['ssl'] = list(zip(loco_tonnage.series, loco_tonnage.sections, loco_tonnage.link))\n",
    "loco_tonnage['ser_name'] = loco_tonnage.series.map(loco_series.set_index('ser_id').ser_name)"
   ]
  },
  {
   "cell_type": "markdown",
   "metadata": {},
   "source": [
    "<a =id='perc'></a>\n",
    "## Вычисление процента подвязки поездов и локомотивов [ToC](#toc)\n",
    "\n",
    "Для каждого поезда берется маршрут (на нужном горизонте) и определяется, есть ли участки на этом маршруте, где к поезду не подвязан локомотив. Если есть хотя бы один такой участок, то поезд считается \"плохим\", если на всех участках есть подвзка, то поезд считается \"хорошим\". На выходе считается процент \"хороших\" поездов."
   ]
  },
  {
   "cell_type": "code",
   "execution_count": 70,
   "metadata": {
    "collapsed": false
   },
   "outputs": [
    {
     "name": "stdout",
     "output_type": "stream",
     "text": [
      "Процент подвязки поездов и локомотивов на горизонте в  6 часов: 100.00% (поездов без локомотива - 0)\n",
      "Процент подвязки поездов и локомотивов на горизонте в 12 часов: 100.00% (поездов без локомотива - 0)\n",
      "Процент подвязки поездов и локомотивов на горизонте в 24 часов: 100.00% (поездов без локомотива - 0)\n",
      "Процент подвязки поездов и локомотивов на горизонте в 48 часов: 97.84% (поездов без локомотива - 3)\n"
     ]
    }
   ],
   "source": [
    "def count_assign_percent(horizon):\n",
    "    mask = (train_plan.time_start < current_time + horizon)\n",
    "    bad_trains = train_plan.loc[mask & (train_plan.loco.isnull())]\n",
    "    bad_trains_n = bad_trains.drop_duplicates('train').train.count()\n",
    "    good_percent = 100 * (1 - bad_trains_n / total_trains_n)        \n",
    "    return 'Процент подвязки поездов и локомотивов на горизонте в %2.d часов: %.2f%% (поездов без локомотива - %d)'\\\n",
    "         % (horizon / 3600, good_percent, bad_trains_n)\n",
    "\n",
    "train_plan['train_type'] = train_plan.train.apply(lambda x: int(str(x)[0]))\n",
    "total_trains_n = train_plan[train_plan.train_type != 8].drop_duplicates('train').train.count()\n",
    "add_header('Вычисление процента подвязки поездов и локомотивов', p=False, h=2)\n",
    "add_line(count_assign_percent(6 * 3600))\n",
    "add_line(count_assign_percent(12 * 3600))\n",
    "add_line(count_assign_percent(24 * 3600))\n",
    "add_line(count_assign_percent(48 * 3600))"
   ]
  },
  {
   "cell_type": "code",
   "execution_count": 71,
   "metadata": {
    "collapsed": false
   },
   "outputs": [
    {
     "name": "stdout",
     "output_type": "stream",
     "text": [
      "Направления, на которые не удалось подвязать локомотив под поезд (первые 10 по количеству поездов):\n",
      "Series([], )\n"
     ]
    }
   ],
   "source": [
    "a = train_plan[(train_plan.time_start < current_time + 24 * 3600) & (train_plan.loco.isnull())]\\\n",
    "    .drop_duplicates('train')\\\n",
    "    .groupby(['st_from_name', 'st_to_name']).train\\\n",
    "    .count().sort_values(ascending=False)\n",
    "add_header('Направления, на которые не удалось подвязать локомотив под поезд (первые 10 по количеству поездов):')\n",
    "add_line(a.head(10))\n",
    "a.to_csv('a.csv')"
   ]
  },
  {
   "cell_type": "code",
   "execution_count": 72,
   "metadata": {
    "collapsed": false
   },
   "outputs": [],
   "source": [
    "if not a.empty:\n",
    "    (st_name, st2_name) = a.index[0]\n",
    "    train_cols = ['train', 'weight', 'st_from_name', 'st_to_name', 'st_dest_name', 'time_start_norm', 'time_end_norm', 'loco', 'team']\n",
    "    cols = ['train', 'weight', 'st_from_name', 'st_to_name', 'st_dest_name', 'time_start_norm', 'loco', 'ser_name', 'sections']\n",
    "    routes = pd.read_csv(FOLDER + 'routes.csv', converters={'st_from':str, 'st_to':str, 'train':str})\n",
    "    add_info(routes)\n",
    "    routes['end'] = routes.train != routes.train.shift(-1)\n",
    "    train_plan['st_dest_name'] = train_plan.train.map(routes[routes.end].set_index('train').st_to_name)\n",
    "    loco_info['ser_name'] = loco_info.series.map(loco_series.set_index('ser_id').ser_name)\n",
    "    train_plan['ser_name'] = train_plan.loco.map(loco_info.set_index('loco').ser_name)\n",
    "    train_plan['sections'] = train_plan.loco.map(loco_info.set_index('loco').sections)\n",
    "    a = train_plan[(train_plan.time_start < current_time + 24 * 3600) \n",
    "                   & (train_plan.loco.isnull())\n",
    "                   & (train_plan.st_dest_name.isnull() == False)\n",
    "                   & (train_plan.st_from_name == st_name)].drop_duplicates('train')\n",
    "    add_header('Поезда со станции %s, к которым не были подвязаны локомотивы' % st_name)\n",
    "    add_line(a.sort_values('time_start')[cols])"
   ]
  },
  {
   "cell_type": "code",
   "execution_count": 73,
   "metadata": {
    "collapsed": false
   },
   "outputs": [],
   "source": [
    "if not a.empty:\n",
    "    loco_info['is_planned'] = loco_info.loco.isin(loco_plan[loco_plan.state == 1].loco)\n",
    "    loco_info['oper_time_f'] = loco_info.oper_time.apply(nice_time)\n",
    "    info_cols = ['loco', 'ltype', 'oper_time_f', 'loc_name', 'tts', 'dts', 'is_planned']\n",
    "    no_plan = loco_info[(loco_info.loc_name == st_name) & (loco_info.is_planned == False) & (loco_info.ltype == 1)]\n",
    "    add_header('На станции %s находилось %d локомотивов, которые не были подвязаны ни к одному поезду:' \n",
    "               % (st_name, no_plan.loco.count()))\n",
    "    add_line(no_plan[info_cols])"
   ]
  },
  {
   "cell_type": "markdown",
   "metadata": {},
   "source": [
    "<a =id='regions'></a>\n",
    "## Проверка наличия локомотивов только на своих тяговых плечах [ToC](#toc)\n",
    "\n",
    "Проверяется, что для локомотивов не планируется выход за пределы своих плеч (т.е. на маршруте локомотива не участков, которые не входят хотя бы в одно тяговое плечо локомотива). Исключение: если локомотив на начало планирования уже находился вне своих тяговых плеч. Для таких локомотивов проверяется, что вне своих плеч для них есть только пересылка резервом (**TODO: Вообще говоря, это может быть ошибкой: если есть поезд по направлению к своему ТП, то локомотив может его везти**)."
   ]
  },
  {
   "cell_type": "code",
   "execution_count": 74,
   "metadata": {
    "collapsed": false
   },
   "outputs": [],
   "source": [
    "add_header('Проверка наличия локомотивов только на своих тяговых плечах', h=2, p=False)"
   ]
  },
  {
   "cell_type": "markdown",
   "metadata": {},
   "source": [
    "<a id='correct_reg_ser'></a>\n",
    "### Проверка назначения тяговых плеч локомотивам в соответствии с сериями [ToC](#toc)\n",
    "\n",
    "Каждое тяговое плечо заточено под работу локомотивов с определенным типом тяги: электровозы или тепловозы. В тесте берутся все тяговые плечи и составляется список серий локомотивов, которые приписаны к каждому тяговому плечу. Ошибкой будет, если к одному плечу будут приписаны локомотивы как электровозных, так и тепловозных серий."
   ]
  },
  {
   "cell_type": "code",
   "execution_count": 75,
   "metadata": {
    "collapsed": true
   },
   "outputs": [],
   "source": [
    "add_header('Проверка назначения тяговых плеч локомотивам в соответствии с сериями', h=3, p=False)"
   ]
  },
  {
   "cell_type": "code",
   "execution_count": 76,
   "metadata": {
    "collapsed": false
   },
   "outputs": [],
   "source": [
    "def func(df, stations, st):    \n",
    "    a = links.loc[(links.st_from_name.isin(st))].st_from_name.value_counts()\n",
    "    b = links.loc[(links.st_from_name.isin(st)) & (links.st_to_name.isin(st))].st_from_name.value_counts()\n",
    "    c = a.to_frame().join(b, rsuffix='_reg')\n",
    "    c['delta'] = c.st_from_name - c.st_from_name_reg    \n",
    "    d = c.join(stations[['name', 'norm_time']].drop_duplicates().set_index('name'), how='right')\n",
    "    e = d.loc[((d.delta > 0) | (d.st_from_name == 1))]\n",
    "    return sorted(e.index.values)\n",
    "\n",
    "add_info(links)\n",
    "loco_info['regions_eval'] = loco_info.regions.apply(literal_eval)\n",
    "stations_regs = stations.groupby('station').loco_region.apply(lambda x: x.values)\n",
    "loco_info['ser_name'] = loco_info.series.map(loco_series.set_index('ser_id').ser_name)\n",
    "reg_st = stations.groupby('loco_region')['name'].unique().to_frame()\n",
    "reg_st['short_name'] = reg_st['name'].apply(lambda x: func(links, stations, x))\n",
    "reg_st.columns = ['stations', 'reg_name']\n",
    "reg_borders = pd.read_csv(FOLDER + 'mandatory/loco_reg_borders.csv', encoding='utf-8-sig')\n",
    "bord = reg_borders.station.values\n",
    "reg_st['short_name'] = reg_st.reg_name.apply(lambda x: np.intersect1d(x, bord) if len(np.intersect1d(x, bord)) > 1 else [])\n",
    "big_borders = ['МАРИИНСК', 'БОРЗЯ', 'КАРЫМСКАЯ', 'ХАБАРОВСК II', 'МЕЖДУРЕЧЕНСК', 'ТАКСИМО', 'КОМСОМОЛЬСК-НА-АМУРЕ']\n",
    "reg_st['short_name'] = reg_st.short_name.apply(lambda x: np.intersect1d(x, big_borders) if len(x) > 2 else x)\n",
    "pd.set_option('display.max_colwidth', 60)\n",
    "#print(reg_st[['short_name']].to_string())\n",
    "#reg_st.ix[2002119307].reg_name"
   ]
  },
  {
   "cell_type": "code",
   "execution_count": 77,
   "metadata": {
    "collapsed": false
   },
   "outputs": [
    {
     "name": "stdout",
     "output_type": "stream",
     "text": [
      " region reg_name_str ser_name      ser_type  loco\n",
      "     14           []  [ВЛ80Р]  [Электровоз]    45\n",
      "     47           []  [3ЭС5К]  [Электровоз]    41\n",
      "      1           []  [ВЛ80Р]  [Электровоз]    28\n"
     ]
    }
   ],
   "source": [
    "def save_to_excel(df, filename=FOLDER + 'reg_ser.xlsx'):    \n",
    "    df.to_excel(filename)\n",
    "    print('Excel file %s created' % filename)\n",
    "\n",
    "loco_info['ser_name'] = loco_info.series.map(loco_series.set_index('ser_id').ser_name)\n",
    "loco_info['ser_desc'] = loco_info.series.map(loco_series.set_index('ser_id').ser_desc)\n",
    "loco_info['ser_type'] = loco_info.series.map(loco_series.set_index('ser_id').ser_type)\n",
    "loco_info_regs['number'] = loco_info.loco.map(loco_info.drop_duplicates('loco').set_index('loco').number)\n",
    "loco_info_regs['reg_name'] = loco_info_regs.region.map(reg_st.short_name)\n",
    "loco_info_regs['ser_name'] = loco_info_regs.loco.map(loco_info.set_index('loco').ser_name)\n",
    "loco_info_regs['ser_type'] = loco_info_regs.loco.map(loco_info.set_index('loco').ser_type)\n",
    "loco_info_regs['reg_name_str'] = loco_info_regs.reg_name.apply(str)\n",
    "loco_info_regs['ltype'] = loco_info_regs.loco.map(loco_info.set_index('loco').ltype)\n",
    "loco_info_regs.sort_values(['ser_name', 'reg_name_str'])[['loco', 'ser_name', 'reg_name']].set_index('loco')\\\n",
    "                .to_excel(FOLDER + 'ans.xlsx')\n",
    "a = loco_info_regs.groupby('reg_name_str').ser_name.unique()\n",
    "loco_info_regs['ser_desc'] = loco_info_regs.ser_name.map(loco_series.drop_duplicates('ser_name').set_index('ser_name').ser_desc)\n",
    "a = loco_info_regs.loc[(loco_info_regs.ltype == 1) & (loco_info_regs.ser_desc.isin(['Грузовое', 'Грузопассажирское']))]\\\n",
    "            .groupby(['region', 'reg_name_str']).ser_name.unique().to_frame()\n",
    "b = loco_info_regs.loc[(loco_info_regs.ltype == 1) & (loco_info_regs.ser_desc.isin(['Грузовое', 'Грузопассажирское']))]\\\n",
    "            .groupby(['region', 'reg_name_str']).ser_type.unique().to_frame()\n",
    "c = a.join(b)\n",
    "d = c.join(loco_info_regs.loc[loco_info_regs.ltype == 1].groupby(['region', 'reg_name_str']).loco.count())\n",
    "#print('Total locos:', loco_info.loco.drop_duplicates().count())\n",
    "#print('Freight locos:', loco_info.loc[loco_info.ser_desc.isin(['Грузовое', 'Грузопассажирское'])].loco.drop_duplicates().count())\n",
    "#print('Locos of type = 1:', loco_info[loco_info.ltype == 1].loco.drop_duplicates().count())\n",
    "pd.set_option('display.max_colwidth', 40)\n",
    "add_line(d.reset_index().sort_values('loco', ascending=False))\n",
    "#save_to_excel(d)"
   ]
  },
  {
   "cell_type": "code",
   "execution_count": 78,
   "metadata": {
    "collapsed": false
   },
   "outputs": [],
   "source": [
    "reg_ser = d.reset_index()[['region', 'ser_type']]"
   ]
  },
  {
   "cell_type": "markdown",
   "metadata": {},
   "source": [
    "<a id='correct_reg_plan'></a>\n",
    "### Проверка выезда локомотивов за пределы своих тяговых плеч [ToC](#toc)"
   ]
  },
  {
   "cell_type": "code",
   "execution_count": 79,
   "metadata": {
    "collapsed": true
   },
   "outputs": [],
   "source": [
    "add_header('Проверка выезда локомотивов за пределы своих тяговых плеч', h=3, p=False)"
   ]
  },
  {
   "cell_type": "markdown",
   "metadata": {},
   "source": [
    "#### Добавляем тяговое плечо в таблицу линков"
   ]
  },
  {
   "cell_type": "code",
   "execution_count": 80,
   "metadata": {
    "collapsed": false
   },
   "outputs": [],
   "source": [
    "stations['regions'] = stations.station.map(stations.groupby('station').loco_region.unique())\n",
    "stations_unique = stations.drop_duplicates('station').set_index('station')\n",
    "links['st_from_regs'] = links.st_from.map(stations_unique.regions)\n",
    "links['st_to_regs'] = links.st_to.map(stations_unique.regions)\n",
    "links['regs'] = links.st_from_regs.combine(links.st_to_regs, np.intersect1d)\n",
    "links['link'] = list(zip(links.st_from, links.st_to))\n",
    "regs = reg_st.reset_index()\n",
    "links['reg_name'] = links.regs.apply(lambda x: regs[regs.loco_region.isin(x)].short_name.values)"
   ]
  },
  {
   "cell_type": "markdown",
   "metadata": {},
   "source": [
    "#### Добавляем текущее тяговое плечо в каждый участок планов по локомотивам"
   ]
  },
  {
   "cell_type": "code",
   "execution_count": 81,
   "metadata": {
    "collapsed": false
   },
   "outputs": [],
   "source": [
    "loco_plan['curr_reg'] = loco_plan.link.map(links.drop_duplicates('link').set_index('link').regs)\n",
    "loco_plan['curr_reg_name'] = loco_plan.link.map(links.drop_duplicates('link').set_index('link').reg_name)\n",
    "loco_plan['regions'] = loco_plan.loco.map(loco_info.set_index('loco').regions_eval)\n",
    "loco_info['reg_names'] = loco_info.regions_eval.apply(lambda x: \\\n",
    "                                                regs[regs.loco_region.isin([int(i) for i in x if i != ''])].short_name.values)\n",
    "loco_plan['reg_names'] = loco_plan.loco.map(loco_info.set_index('loco').reg_names)"
   ]
  },
  {
   "cell_type": "code",
   "execution_count": 82,
   "metadata": {
    "collapsed": false
   },
   "outputs": [
    {
     "data": {
      "text/html": [
       "<div>\n",
       "<table border=\"1\" class=\"dataframe\">\n",
       "  <thead>\n",
       "    <tr style=\"text-align: right;\">\n",
       "      <th></th>\n",
       "      <th>loco</th>\n",
       "      <th>number</th>\n",
       "      <th>regions</th>\n",
       "      <th>regions_eval</th>\n",
       "    </tr>\n",
       "  </thead>\n",
       "  <tbody>\n",
       "  </tbody>\n",
       "</table>\n",
       "</div>"
      ],
      "text/plain": [
       "Empty DataFrame\n",
       "Columns: [loco, number, regions, regions_eval]\n",
       "Index: []"
      ]
     },
     "execution_count": 82,
     "metadata": {},
     "output_type": "execute_result"
    }
   ],
   "source": [
    "loco_info[loco_info.regions.apply(lambda x: len(x) < 5)][['loco', 'number', 'regions', 'regions_eval']]"
   ]
  },
  {
   "cell_type": "markdown",
   "metadata": {},
   "source": [
    "#### Вычисляем, есть у локомотива текущее тяговое плечо в списке разрешенных"
   ]
  },
  {
   "cell_type": "code",
   "execution_count": 83,
   "metadata": {
    "collapsed": false
   },
   "outputs": [],
   "source": [
    "loco_plan['ok_reg'] = loco_plan.curr_reg.combine(loco_plan.regions, np.intersect1d).apply(len) > 0"
   ]
  },
  {
   "cell_type": "markdown",
   "metadata": {},
   "source": [
    "#### Вычисляем тяговое плечо на исходном местоположении локомотива"
   ]
  },
  {
   "cell_type": "code",
   "execution_count": 84,
   "metadata": {
    "collapsed": false
   },
   "outputs": [],
   "source": [
    "def get_current_region(row):\n",
    "    if row.st_from == '-1':        \n",
    "        a = links[links.st_from == row.oper_location].regs.values\n",
    "    else:\n",
    "        a = links[(links.st_from == row.st_from) & (links.st_to == row.st_to)].regs.values\n",
    "    return list(np.concatenate(a) if len(a) > 0 else [])\n",
    "        \n",
    "loco_info['location'] = list(zip(loco_info.oper_location, loco_info.st_from, loco_info.st_to))\n",
    "loco_info['curr_reg'] = loco_info.apply(lambda row: get_current_region(row), axis=1)"
   ]
  },
  {
   "cell_type": "markdown",
   "metadata": {},
   "source": [
    "#### Вычисляем, находится ли локомотив на своем тяговом плече на начало планирования"
   ]
  },
  {
   "cell_type": "code",
   "execution_count": 85,
   "metadata": {
    "collapsed": true
   },
   "outputs": [],
   "source": [
    "loco_info['ok_reg'] = loco_info.curr_reg.combine(loco_info.regions_eval, np.intersect1d).apply(len) > 0\n",
    "loco_plan['info_ok_reg'] = loco_plan.loco.map(loco_info.drop_duplicates('loco').set_index('loco').ok_reg)"
   ]
  },
  {
   "cell_type": "markdown",
   "metadata": {},
   "source": [
    "#### Составляем список локомотивов, выезжающих за пределы своих ТП в процессе планирования"
   ]
  },
  {
   "cell_type": "code",
   "execution_count": 86,
   "metadata": {
    "collapsed": false
   },
   "outputs": [
    {
     "name": "stdout",
     "output_type": "stream",
     "text": [
      "Всего 0 локомотивов, выезжающих за пределы своих тяговых плеч в процессе планирования:\n",
      "- 0 следуют резервом;\n",
      "- 0 с поездами.\n"
     ]
    }
   ],
   "source": [
    "loco_out_of_regs = loco_plan[(loco_plan.curr_reg_name.isnull() == False) \n",
    "                             & (loco_plan.ok_reg == False) & (loco_plan.info_ok_reg == True)]\n",
    "cols = ['loco', 'ser_name', 'reg_names', 'st_from_name', 'st_to_name', 'train', 'state', 'loc_name']\n",
    "add_line('Всего %d локомотивов, выезжающих за пределы своих тяговых плеч в процессе планирования:' \n",
    "           % loco_out_of_regs.loco.drop_duplicates().count())\n",
    "add_line('- %d следуют резервом;' % (loco_out_of_regs[loco_out_of_regs.state == 0].loco.drop_duplicates().count()))\n",
    "add_line('- %d с поездами.' % (loco_out_of_regs[loco_out_of_regs.state == 1].loco.drop_duplicates().count()))\n",
    "\n",
    "pd.set_option('display.max_colwidth', 40)\n",
    "states = sorted(loco_out_of_regs.state.unique())\n",
    "for s in states:\n",
    "    add_header('\\nПримеры локомотивов в состоянии %d за пределами своих тяговых плеч:' % s)\n",
    "    add_line(loco_out_of_regs[loco_out_of_regs.state == s].drop_duplicates('loco')[cols].head(5))"
   ]
  },
  {
   "cell_type": "markdown",
   "metadata": {},
   "source": [
    "<a id='bad_regs_loco_info'></a>\n",
    "### Локомотивы на чужих тяговых плечах на начало планирования [ToC](#toc)"
   ]
  },
  {
   "cell_type": "code",
   "execution_count": 87,
   "metadata": {
    "collapsed": true
   },
   "outputs": [],
   "source": [
    "add_header('Локомотивы на чужих тяговых плечах на начало планирования', h=3, p=False)"
   ]
  },
  {
   "cell_type": "code",
   "execution_count": 88,
   "metadata": {
    "collapsed": false
   },
   "outputs": [
    {
     "name": "stdout",
     "output_type": "stream",
     "text": [
      "Всего 28 локомотивов на чужих тяговых плечах на начало планирования\n",
      "\n",
      "Распределение по сериям (показаны первые 5):\n",
      "ВЛ80Р    28\n",
      "\n",
      "Распределение по тяговым плечам локомотивов (показаны первые 5):\n",
      "[[]]    28\n",
      "\n",
      "Примеры локомотивов:\n",
      "    loco ser_name       loc_name reg_names\n",
      " 2001502    ВЛ80Р         ТАЙШЕТ      [[]]\n",
      " 2001503    ВЛ80Р         ТАЙШЕТ      [[]]\n",
      " 2001505    ВЛ80Р  ЮРТЫ - ТАЙШЕТ      [[]]\n",
      " 2001506    ВЛ80Р  ЮРТЫ - ТАЙШЕТ      [[]]\n",
      " 2001507    ВЛ80Р  ЮРТЫ - ТАЙШЕТ      [[]]\n",
      " 2001508    ВЛ80Р  ЮРТЫ - ТАЙШЕТ      [[]]\n",
      " 2001509    ВЛ80Р  ЮРТЫ - ТАЙШЕТ      [[]]\n",
      " 2001510    ВЛ80Р  ЮРТЫ - ТАЙШЕТ      [[]]\n",
      " 2001511    ВЛ80Р  ЮРТЫ - ТАЙШЕТ      [[]]\n",
      " 2001512    ВЛ80Р  ЮРТЫ - ТАЙШЕТ      [[]]\n",
      " 2001513    ВЛ80Р  ЮРТЫ - ТАЙШЕТ      [[]]\n",
      " 2001514    ВЛ80Р  ЮРТЫ - ТАЙШЕТ      [[]]\n",
      " 2001515    ВЛ80Р  ЮРТЫ - ТАЙШЕТ      [[]]\n",
      " 2001516    ВЛ80Р  ЮРТЫ - ТАЙШЕТ      [[]]\n",
      " 2001517    ВЛ80Р  ЮРТЫ - ТАЙШЕТ      [[]]\n",
      " 2001518    ВЛ80Р  ЮРТЫ - ТАЙШЕТ      [[]]\n",
      " 2001519    ВЛ80Р  ЮРТЫ - ТАЙШЕТ      [[]]\n",
      " 2001520    ВЛ80Р  ЮРТЫ - ТАЙШЕТ      [[]]\n",
      " 2001521    ВЛ80Р  ЮРТЫ - ТАЙШЕТ      [[]]\n",
      " 2001522    ВЛ80Р  ЮРТЫ - ТАЙШЕТ      [[]]\n"
     ]
    }
   ],
   "source": [
    "cols = ['loco', 'ser_name', 'loc_name', 'reg_names']\n",
    "bad_regs_loco_info = loco_info[(loco_info.ltype == 1) & (loco_info.ok_reg == False)]\n",
    "add_header('Всего %d локомотивов на чужих тяговых плечах на начало планирования' % bad_regs_loco_info.loco.count())\n",
    "add_header('\\nРаспределение по сериям (показаны первые 5):')\n",
    "add_line(bad_regs_loco_info[cols].ser_name.value_counts().head())\n",
    "add_header('\\nРаспределение по тяговым плечам локомотивов (показаны первые 5):')\n",
    "add_line(bad_regs_loco_info[cols].reg_names.value_counts().head())\n",
    "add_header('\\nПримеры локомотивов:')\n",
    "add_line(bad_regs_loco_info[cols].head(20))"
   ]
  },
  {
   "cell_type": "markdown",
   "metadata": {},
   "source": [
    "<a =id='st_to2'></a>\n",
    "## Проверка пунктов проведения ТО-2 [ToC](#toc)"
   ]
  },
  {
   "cell_type": "code",
   "execution_count": 89,
   "metadata": {
    "collapsed": true
   },
   "outputs": [],
   "source": [
    "add_header('Проверка планирования ТО-2', h=2, p=False)"
   ]
  },
  {
   "cell_type": "markdown",
   "metadata": {},
   "source": [
    "### Анализ среднего времени на ТО\n",
    "\n",
    "Проверяется, что ТО не запланировано ни на каких других станций, кроме тех, которые указаны в сообщениях `service_station`. Для каждой станции считается, сколько вообще случаев ТО запланировано (преимущественно ТО должно проводиться на границах тяговых плеч)."
   ]
  },
  {
   "cell_type": "code",
   "execution_count": 90,
   "metadata": {
    "collapsed": false
   },
   "outputs": [
    {
     "name": "stdout",
     "output_type": "stream",
     "text": [
      "Пункты проведения ТО-2 во входных данных:\n",
      "st_name\n",
      "ВИХОРЕВКА    10800\n",
      "ЛЕНА         10800\n",
      "ТАЙШЕТ       10800\n",
      "ТАКСИМО      10800\n",
      "\n",
      "Медианное время проведения ТО-2 во входных данных: 3.00 часа\n"
     ]
    }
   ],
   "source": [
    "service = pd.read_csv(FOLDER + 'service_station.csv', dtype={'station':str})\n",
    "service['st_name'] = service.station.map(st_names.name)\n",
    "add_header('Пункты проведения ТО-2 во входных данных:')\n",
    "add_line(service.groupby('st_name').duration.median())\n",
    "add_line('\\nМедианное время проведения ТО-2 во входных данных: %.2f часа' \n",
    "         % (service.groupby('st_name').duration.median().median() / 3600))"
   ]
  },
  {
   "cell_type": "code",
   "execution_count": 91,
   "metadata": {
    "collapsed": false
   },
   "outputs": [
    {
     "name": "stdout",
     "output_type": "stream",
     "text": [
      "Проведение ТО запланировано на 4 разных станциях (показаны первые 10):\n",
      "     index  num  time_h\n",
      "      ЛЕНА   35       3\n",
      " ВИХОРЕВКА    7       3\n",
      "    ТАЙШЕТ    7       3\n",
      "   ТАКСИМО    4       3\n",
      "\n",
      "Все ТО запланированы на правильных станциях.\n"
     ]
    }
   ],
   "source": [
    "loco_plan['tt'] = loco_plan.time_end - loco_plan.time_start\n",
    "plan_to = loco_plan[loco_plan.state == 4][['loco', 'st_from_name', 'st_to_name', 'time_start_norm', 'time_end_norm', 'tt']]\n",
    "add_header('Проведение ТО запланировано на %d разных станциях (показаны первые 10):' \n",
    "           % plan_to.st_from_name.drop_duplicates().count())\n",
    "stats_plan_to = plan_to.st_from_name.value_counts().to_frame().join(plan_to.groupby('st_from_name').tt.median())\n",
    "stats_plan_to.columns = ['num', 'time']\n",
    "stats_plan_to['time_h'] = np.round((stats_plan_to.time / 3600), 2)\n",
    "add_line(stats_plan_to[['num', 'time_h']].reset_index().head(20))\n",
    "add_line('')\n",
    "to_bad_st = plan_to[plan_to.st_from_name.isin(service.st_name) == False]\n",
    "if not to_bad_st.empty:\n",
    "    add_header('Всего зафиксировано %d случаев проведения ТО на неправильных станциях. Примеры:' % len(to_bad_st.index))\n",
    "    add_line(to_bad_st.head())\n",
    "else:\n",
    "    add_header('Все ТО запланированы на правильных станциях.')"
   ]
  },
  {
   "cell_type": "markdown",
   "metadata": {},
   "source": [
    "### Анализ количества запланированных ТО\n",
    "\n",
    "Нормативное время работы локомотива между ТО - 4 суток. Поэтому на горизонте в 1 сутки примерно четверть всех локомотивов должна уходить на ТО. В тесте считается количество запланированных ТО на суточном горизонте и сравнивается с ожидаемым количеством (четвертью от количества локомотивов) с коэффициентом 0.8 (т.е. при наличии, например, 40 локомотивов считается допустимым планирование 8 ТО в сутки).\n",
    "\n",
    "Также выводятся локомотивы, у которых на начало планирования до ТО оставалось меньше 10 часов и для которых ТО не было запланировано."
   ]
  },
  {
   "cell_type": "code",
   "execution_count": 92,
   "metadata": {
    "collapsed": false
   },
   "outputs": [
    {
     "name": "stdout",
     "output_type": "stream",
     "text": [
      "Слишком мало ТО запланировано (ожидаемое количество = 28, запланированное = 17)\n",
      "Примеры локомотивов, для которых ожидалось ТО:\n",
      "Empty DataFrame\n",
      "Columns: [loco, ser_name, loc_name, tts]\n",
      "Index: []\n"
     ]
    }
   ],
   "source": [
    "to = loco_plan[(loco_plan.state == 4) & (loco_plan.time_start < current_time + 24 * 3600)]\n",
    "to_n = loco_plan[(loco_plan.state == 4) & (loco_plan.time_start < current_time + 24 * 3600)].loco.count()\n",
    "to_n_expected = loco_info[loco_info.ltype == 1].loco.count() / 4\n",
    "p = to_n / to_n_expected\n",
    "if p < 0.8:\n",
    "    add_header('Слишком мало ТО запланировано (ожидаемое количество = %d, запланированное = %d)'\n",
    "              % (to_n_expected, to_n))\n",
    "    to = loco_plan[(loco_plan.state == 4)]\n",
    "    no_to = loco_info[(loco_info.ltype == 1) & (loco_info.tts < 10 * 3600)\n",
    "                     & (loco_info.loco.isin(to.loco) == False)\n",
    "                     & (loco_info.loco.isin(loco_plan.loco))].sort_values('tts')[['loco', 'ser_name', 'loc_name', 'tts']]\n",
    "    add_header('Примеры локомотивов, для которых ожидалось ТО:')\n",
    "    add_line(no_to.head(10))\n",
    "    if not no_to.empty:\n",
    "        loco_id = no_to.iloc[0].loco\n",
    "        cols = ['loco', 'ser_name', 'st_from_name', 'st_to_name', 'time_start_norm', 'time_end_norm', 'state', 'train', 'tts']\n",
    "        loco_plan['ser_name'] = loco_plan.loco.map(loco_info.set_index('loco').ser_name)\n",
    "        add_header('Пример плана одного из таких локомотивов:')\n",
    "        add_line(loco_plan[loco_plan.loco == loco_id][cols])\n",
    "else:\n",
    "    add_header('Количество запланированных ТО соответствует ожидаемому')"
   ]
  },
  {
   "cell_type": "markdown",
   "metadata": {},
   "source": [
    "<a =id='tonnage'></a>\n",
    "## Проверка подвязки на соответствие весовым нормам [ToC](#toc)\n",
    "\n",
    "На каждом участке на маршруте поезда из сообщений loco_tonnage извлекается весовая норма, соответствующая участку и подвязанному локомотиву (серия + секционность). Проверяется, что вес поезда не превышает эту норму. Если для участка, серии и секции задано несколько норм, то берется максимальная."
   ]
  },
  {
   "cell_type": "code",
   "execution_count": 93,
   "metadata": {
    "collapsed": false
   },
   "outputs": [],
   "source": [
    "add_header('Проверка подвязки на соответствие весовым нормам', h=2, p=False)"
   ]
  },
  {
   "cell_type": "markdown",
   "metadata": {},
   "source": [
    "### Маска времени"
   ]
  },
  {
   "cell_type": "code",
   "execution_count": 94,
   "metadata": {
    "collapsed": false
   },
   "outputs": [],
   "source": [
    "#Ниже надо раскомментировать соответствующую строчку для нужного анализа\n",
    "\n",
    "def time_mask(df):\n",
    "    # Маска для анализа поездов, которые запланировал планировщик (отправленных после начала планирования)\n",
    "    return df.time_start >= current_time\n",
    "    # Маска для анализа позедов, отправленных до начала планирования (следующих по факту)\n",
    "    #time_mask = overweight.time_start < current_time"
   ]
  },
  {
   "cell_type": "markdown",
   "metadata": {},
   "source": [
    "### Проверка соответствия результатов планирования справочнику весовых норм"
   ]
  },
  {
   "cell_type": "code",
   "execution_count": 95,
   "metadata": {
    "collapsed": false
   },
   "outputs": [
    {
     "name": "stdout",
     "output_type": "stream",
     "text": [
      "Всего 0 подвязок локомотивов к поезду с нарушением весовых норм (показаны первые 10):\n",
      "Empty DataFrame\n",
      "Columns: [loco, ser_name, st_from_name, st_to_name, time_start_norm, max_weight, train_weight, overweight, train]\n",
      "Index: []\n",
      "\n",
      "Всего 0 подвязок локомотивов к поездам (за исключением сдвоенных) с нарушением весовых норм (показаны первые 10):\n",
      "Empty DataFrame\n",
      "Columns: [loco, ser_name, st_from_name, st_to_name, time_start_norm, max_weight, train_weight, overweight, train]\n",
      "Index: []\n"
     ]
    }
   ],
   "source": [
    "loco_plan['ser_name'] = loco_plan.series.map(loco_series.set_index('ser_id').ser_name)\n",
    "loco_tonnage = pd.read_csv(FOLDER + 'loco_tonnage.csv', converters={'st_from':str, 'st_to':str})\n",
    "loco_tonnage['link'] = list(zip(loco_tonnage.st_from, loco_tonnage.st_to))\n",
    "loco_tonnage['ssl'] = list(zip(loco_tonnage.series, loco_tonnage.sections, loco_tonnage.link))\n",
    "loco_plan['link'] = list(zip(loco_plan.st_from, loco_plan.st_to))\n",
    "loco_plan['link_name'] = list(zip(loco_plan.st_from_name, loco_plan.st_to_name))\n",
    "loco_plan['ssl'] = list(zip(loco_plan.series, loco_plan.sections, loco_plan.link))\n",
    "loco_plan['max_weight'] = loco_plan.ssl.map(loco_tonnage.groupby('ssl').max_weight.max().to_frame().max_weight)\n",
    "loco_plan['train_weight'] = loco_plan.train.map(train_info.drop_duplicates('train').set_index('train').weight)\n",
    "loco_plan['overweight'] = loco_plan.train_weight - loco_plan.max_weight\n",
    "cols = ['loco', 'ser_name', 'st_from_name', 'st_to_name', 'time_start_norm', 'max_weight', 'train_weight', 'overweight', 'train']\n",
    "overweight = loco_plan[(loco_plan.overweight > 0)].dropna(subset=['max_weight']).drop_duplicates(subset=['loco', 'train'])\n",
    "overweight_plan = overweight[time_mask(overweight)] # <<<<<<<<<<<<<<<<<<<<<<<<<<<<< TIME_MASK -----------------------\n",
    "overweight_n = len(overweight_plan.index)\n",
    "add_header('Всего %d подвязок локомотивов к поезду с нарушением весовых норм (показаны первые 10):' % overweight_n)\n",
    "pd.set_option('display.max_colwidth', 15)\n",
    "add_line(overweight_plan.sort_values('overweight', ascending=False).head(10)[cols])\n",
    "\n",
    "overweight_no_joint = overweight_plan[overweight_plan.train_weight < 10000]\n",
    "add_header('\\nВсего %d подвязок локомотивов к поездам (за исключением сдвоенных) с нарушением весовых норм (показаны первые 10):' \n",
    "      % len(overweight_no_joint.index))\n",
    "add_line(overweight_no_joint.sort_values('overweight', ascending=False).head(10)[cols])"
   ]
  },
  {
   "cell_type": "code",
   "execution_count": 96,
   "metadata": {
    "collapsed": false
   },
   "outputs": [],
   "source": [
    "# Здесь рисуется картинка, на которой показывается распределение превышений весовых норм. Можно как-нибудь раскомментировать,\n",
    "# но сейчас картинкой никто не пользуется.\n",
    "\n",
    "# sns.set(style='whitegrid', context='talk')\n",
    "# sns.set_color_codes('dark')\n",
    "# fig, ax = plt.subplots(nrows=1, ncols=2, figsize=(20,7))\n",
    "# if not overweight_plan.empty:\n",
    "#     sns.distplot(overweight_plan.train_weight, hist=False, color='b', \n",
    "#                  kde_kws={'shade':True, 'label':'Вес поезда'}, ax=ax[0])\n",
    "#     sns.distplot(overweight_plan.overweight, hist=False, color='g', \n",
    "#                  kde_kws={'shade':True, 'label':'Превышение весовой нормы'}, ax=ax[0])\n",
    "#     title = 'Для всех поездов'\n",
    "#     ax[0].set(title=title, xlabel='Вес поезда')\n",
    "#     ax[0].legend(frameon=True)\n",
    "# if not overweight_no_joint.empty:\n",
    "#     sns.distplot(overweight_no_joint.train_weight, hist=False, color='b', \n",
    "#                  kde_kws={'shade':True, 'label':'Вес поезда'}, ax=ax[1])\n",
    "#     sns.distplot(overweight_no_joint.overweight, hist=False, color='g', \n",
    "#                  kde_kws={'shade':True, 'label':'Превышение весовой нормы'}, ax=ax[1])\n",
    "#     title_nj = 'Без сдвоенных поезов'\n",
    "#     ax[1].set(title=title_nj, xlabel='Вес поезда')\n",
    "#     ax[1].legend(frameon=True)\n",
    "# plt.suptitle('Распределение весов поездов, для которых наблюдается нарушение весовых норм', fontsize=20)\n",
    "# sns.despine()\n",
    "# filename = 'weight_error.png'\n",
    "# fig.savefig(REPORT_FOLDER + filename, bbox_inches='tight')\n",
    "# add_image(filename)"
   ]
  },
  {
   "cell_type": "code",
   "execution_count": 97,
   "metadata": {
    "collapsed": false
   },
   "outputs": [
    {
     "name": "stdout",
     "output_type": "stream",
     "text": [
      "Распределение нарушений весовых норм по участкам (первые 5):\n",
      "Empty DataFrame\n",
      "Columns: [index, number, overw_median]\n",
      "Index: []\n",
      "\n",
      "Распределение нарушений весовых норм по сериям локомотивов:\n",
      "Empty DataFrame\n",
      "Columns: [index, number, overw_median]\n",
      "Index: []\n"
     ]
    }
   ],
   "source": [
    "add_header('Распределение нарушений весовых норм по участкам (первые 5):')\n",
    "a = overweight_no_joint.link_name.value_counts()\n",
    "b = overweight_no_joint.groupby('link_name').overweight.median()\n",
    "overweight_links = a.to_frame().join(b)\n",
    "overweight_links.columns = ['number', 'overw_median']\n",
    "pd.set_option('display.max_colwidth', 50)\n",
    "add_line(overweight_links.reset_index().head())\n",
    "\n",
    "add_header('\\nРаспределение нарушений весовых норм по сериям локомотивов:')\n",
    "a = overweight_no_joint.ser_name.value_counts()\n",
    "b = overweight_no_joint.groupby('ser_name').overweight.median()\n",
    "overweight_ser = a.to_frame().join(b)\n",
    "overweight_ser.columns = ['number', 'overw_median']\n",
    "add_line(overweight_ser.reset_index())"
   ]
  },
  {
   "cell_type": "markdown",
   "metadata": {},
   "source": [
    "<a =id='change'></a>\n",
    "## Проверка смены локомотивов на станциях обязательной смены [ToC](#toc)\n",
    "\n",
    "Станции обязательной смены локомотивов перечислены в списке `st_list`. В нем же для каждой станции смены указаны другие станции, которые должны присутствовать в маршруте поезда для того, чтобы на этой станции была запланирована смена. Например, для станции Карымская второй станцией указана Урульга: это значит, что смена локомотива в Карымской будет обязательна только в том случае, если в маршруте поезда есть Урульга. Если же четный поезд уходит с Карымской на Борзю (станции Урульга нет в маршруте), то смена локомотива не производится."
   ]
  },
  {
   "cell_type": "code",
   "execution_count": 98,
   "metadata": {
    "collapsed": true
   },
   "outputs": [],
   "source": [
    "add_header('Проверка смены локомотивов на станциях обязательной смены', h=2, p=False)"
   ]
  },
  {
   "cell_type": "code",
   "execution_count": 99,
   "metadata": {
    "collapsed": false
   },
   "outputs": [
    {
     "name": "stdout",
     "output_type": "stream",
     "text": [
      "Станции смены локомотивов (показаны первые 10):\n",
      "ТАЙШЕТ                 34\n",
      "ЛЕНА                    8\n",
      "КОРШУНИХА-АНГАРСКАЯ     5\n"
     ]
    }
   ],
   "source": [
    "hor = 24 * 3600\n",
    "cols = ['train', 'st_from_name', 'st_to_name', 'time_start_norm', 'loco', 'train_start', 'loco_start']\n",
    "train_plan['train_start'] = train_plan.train != train_plan.train.shift(1)\n",
    "train_plan['loco_start'] = (train_plan.loco != train_plan.loco.shift(1)) & (train_plan.loco.isnull() == False)\n",
    "loco_changes = train_plan.loc[(train_plan.train_start == False) & (train_plan.loco_start == True) &\n",
    "              (train_plan.time_start < current_time + hor)]\n",
    "add_header('Станции смены локомотивов (показаны первые 10):')\n",
    "add_line(loco_changes.st_from_name.value_counts().head(10))"
   ]
  },
  {
   "cell_type": "code",
   "execution_count": 100,
   "metadata": {
    "collapsed": false
   },
   "outputs": [
    {
     "name": "stdout",
     "output_type": "stream",
     "text": [
      "Станции обязательной смены локомотивов:\n",
      "            st                 other_st\n",
      "     КАРЫМСКАЯ                [УРУЛЬГА]\n",
      "         БОРЗЯ     [ХАРАНОР, ЗУН-ТОРЕЙ]\n",
      "       ТАКСИМО       [КУАНДА, КАЗАНКАН]\n",
      "   СКОВОРОДИНО                  [ШТУРМ]\n",
      "   ИЗВЕСТКОВАЯ                [КУЛЬДУР]\n",
      " ВОЛОЧАЕВКА II                [СЕЛЬГОН]\n",
      "     УССУРИЙСК  [ПРИМОРСКАЯ, ГРОДЕКОВО]\n",
      "\n",
      "Всего 0 поездов, у которых должна быть смена локомотивов на станциях обязательной смены, но не запланирована:\n",
      "Empty DataFrame\n",
      "Columns: [train, st_from_name, st_to_name, time_start_norm, loco, in_route]\n",
      "Index: []\n"
     ]
    }
   ],
   "source": [
    "# Список станций (первый столбец), на которых локомотивы меняются всегда,\n",
    "# если в машруте поезда есть любая из проверочных станций (второй столбец)\n",
    "st_list = [['КАРЫМСКАЯ',['УРУЛЬГА']], ['БОРЗЯ',['ХАРАНОР','ЗУН-ТОРЕЙ']], ['ТАКСИМО', ['КУАНДА','КАЗАНКАН']], \n",
    "           ['СКОВОРОДИНО', ['ШТУРМ']], ['ИЗВЕСТКОВАЯ', ['КУЛЬДУР']], ['ВОЛОЧАЕВКА II', ['СЕЛЬГОН']], \n",
    "           ['УССУРИЙСК', ['ПРИМОРСКАЯ', 'ГРОДЕКОВО']]]\n",
    "df_list = pd.DataFrame(st_list, columns=['st', 'other_st'])\n",
    "pd.set_option('display.max_colwidth', 50)\n",
    "add_header('Станции обязательной смены локомотивов:')\n",
    "add_line(df_list)\n",
    "a = train_plan.groupby('train').st_from_name.unique().to_frame()\n",
    "a.columns = ['route']\n",
    "train_plan['route'] = train_plan.train.map(a.route)\n",
    "# Если проверочная станция находится в маршруте поезда, значит, поезд едет в том направлении, где НАДО менять локомотив\n",
    "train_plan['check_st'] = train_plan.st_from_name.map(df_list.set_index('st').other_st)\n",
    "train_plan['in_route'] = train_plan.route.combine(train_plan.check_st, \\\n",
    "                                                  lambda x, y: not False in [st in x for st in y] if type(y) == list else False)\n",
    "\n",
    "cols = ['train', 'st_from_name', 'st_to_name', 'time_start_norm', 'loco', 'in_route']\n",
    "change_fails = train_plan.loc[(train_plan.time_start < current_time + hor) \n",
    "                              & (train_plan.train_type.isin([2, 9]))\n",
    "                              & (train_plan.train_start == False)\n",
    "                              & (train_plan.loco_start == False)\n",
    "                              & (train_plan.st_from_name.isin(df_list.st))\n",
    "                              & (train_plan.in_route == True)][cols].drop_duplicates().dropna(subset=['loco'])\n",
    "add_header('\\nВсего %d поездов, у которых должна быть смена локомотивов на станциях обязательной смены, но не запланирована:' \n",
    "      % len(change_fails))\n",
    "add_line(change_fails.sort_values(['st_to_name', 'time_start_norm']))"
   ]
  },
  {
   "cell_type": "markdown",
   "metadata": {},
   "source": [
    "<a =id='res'></a>\n",
    "## Анализ локомотивов резервом [ToC](#toc)\n",
    "\n",
    "Для локомотивов резервом планируются следующие проверки:\n",
    "\n",
    "1. Все номера поездов, которые соответствуют локомотивам резервом, должны лежать в диапазоне от 4200 до 5000.\n",
    "2. Считается количество отправленных локомотивов резервом по направлениям. Так можно выявить аномальные направления, на которые чаще всего планируются локомотивы резервом.\n",
    "3. Проверяется, что отправление локомотивов резервом не планируется до времени начала планирования.\n",
    "4. Отдельно считаются количества локомотивов резервом в четном направлении отдельно по направлениям.\n",
    "5. Считаются времена хода для локомотивов резервом. Они не должны (или должны, но на небольшую величину - 2-3 часа) превышать 15 часов (чтобы избежать длинных, ненадежных пересылок резервом)."
   ]
  },
  {
   "cell_type": "code",
   "execution_count": 101,
   "metadata": {
    "collapsed": false
   },
   "outputs": [
    {
     "name": "stdout",
     "output_type": "stream",
     "text": [
      "Анализируемый горизонт отправления: 24.00 ч.\n"
     ]
    }
   ],
   "source": [
    "add_header('Анализ локомотивов резервом', h=2, p=False)\n",
    "hor = 24 * 3600\n",
    "add_line('Анализируемый горизонт отправления: %.2f ч.' % (hor / 3600))"
   ]
  },
  {
   "cell_type": "markdown",
   "metadata": {},
   "source": [
    "<a =id='res_nums'></a>\n",
    "### Проверка диапазона номеров для локомотивов резервом [ToC](#toc)"
   ]
  },
  {
   "cell_type": "code",
   "execution_count": 102,
   "metadata": {
    "collapsed": false
   },
   "outputs": [
    {
     "name": "stdout",
     "output_type": "stream",
     "text": [
      "Диапазон номеров поездов для локомотивов резервом: от 4378 до 4866\n"
     ]
    }
   ],
   "source": [
    "train_plan.columns\n",
    "train_plan['train_type'] = train_plan.train.apply(lambda x: int(str(x)[0]))\n",
    "train_plan['res_train_num'] = train_plan.train.apply(lambda x: int(str(x)[-4:]))\n",
    "res_train_nums = train_plan[train_plan.train_type == 8].res_train_num.drop_duplicates()\n",
    "add_line('Диапазон номеров поездов для локомотивов резервом: от %d до %d' % (res_train_nums.min(), res_train_nums.max()))"
   ]
  },
  {
   "cell_type": "markdown",
   "metadata": {},
   "source": [
    "<a =id='res_amount'></a>\n",
    "### Анализ количества отправлений локомотивов резервом по направлениям [ToC](#toc)"
   ]
  },
  {
   "cell_type": "code",
   "execution_count": 103,
   "metadata": {
    "collapsed": false
   },
   "outputs": [
    {
     "name": "stdout",
     "output_type": "stream",
     "text": [
      "Всего отправок локомотивов резервом: 10\n",
      "Всего локомотивов, для которых есть пересылка резервом: 10\n",
      "\n",
      "Станции, с которых было отправлено больше всего локомотивов резервом (первые 10):\n",
      "КОРШУНИХА-АНГАРСКАЯ    8\n",
      "СЕВЕРОБАЙКАЛЬСК        1\n",
      "ЛЕНА                   1\n",
      "\n",
      "Участки планирования, на которых было отправлено больше всего локомотивов резервом (первые 10):\n",
      "st_from_name         st_to_name\n",
      "КОРШУНИХА-АНГАРСКАЯ  ХРЕБТОВАЯ     8\n",
      "СЕВЕРОБАЙКАЛЬСК      ТЫЯ           1\n",
      "ЛЕНА                 ХРЕБТОВАЯ     1\n",
      "\n",
      "Самые частые маршруты для локомотивов резервом (первые 10):\n",
      "st_from_name         st_to_name_end     \n",
      "КОРШУНИХА-АНГАРСКАЯ  ЛЕНА                   8\n",
      "СЕВЕРОБАЙКАЛЬСК      ЛЕНА                   1\n",
      "ЛЕНА                 КОРШУНИХА-АНГАРСКАЯ    1\n"
     ]
    }
   ],
   "source": [
    "loco_mask = loco_plan.time_start < current_time + hor\n",
    "loco_cols = ['loco', 'st_from_name', 'st_to_name', 'time_start', 'time_end', 'time_start_norm', 'time_end_norm',\n",
    "             'state', 'train', 'res_start', 'res_end']\n",
    "loco_plan['res_start'] = loco_plan.train != loco_plan.train.shift(1)\n",
    "loco_plan['res_end'] = loco_plan.train != loco_plan.train.shift(-1)\n",
    "loco_plan.loc[loco_plan.state == 0, loco_cols]\n",
    "loco_res_start = loco_plan.loc[(loco_plan.res_start == True) &\n",
    "                               (loco_plan.state == 0), loco_cols].sort_values(['loco', 'time_start'])\n",
    "loco_res_end = loco_plan.loc[(loco_plan.res_end == True) \n",
    "                             & (loco_plan.state == 0), loco_cols].sort_values(['loco', 'time_start'])\n",
    "cols = ['loco', 'st_from_name', 'st_to_name', 'st_to_name_end', 'time_start', 'time_start_norm', 'time_end', 'time_end_norm', 'train']\n",
    "loco_res_trips = loco_res_start[['loco', 'st_from_name', 'st_to_name', 'time_start', 'time_start_norm', 'train']].\\\n",
    "                set_index(['loco', 'train']).join(loco_res_end[['loco', 'st_to_name', 'time_end', 'time_end_norm', 'train']].\\\n",
    "                                                  set_index(['loco', 'train']), rsuffix='_end').reset_index()[cols]\n",
    "\n",
    "loco_res_trips_hor = loco_res_trips.loc[loco_res_trips.time_start < current_time + hor]\n",
    "add_line('Всего отправок локомотивов резервом: %d' % loco_res_trips_hor.loco.count())\n",
    "add_line('Всего локомотивов, для которых есть пересылка резервом: %d' % loco_res_trips_hor.loco.drop_duplicates().count())\n",
    "add_header('\\nСтанции, с которых было отправлено больше всего локомотивов резервом (первые 10):')\n",
    "add_line(loco_res_trips_hor.st_from_name.value_counts().head(10))\n",
    "add_header('\\nУчастки планирования, на которых было отправлено больше всего локомотивов резервом (первые 10):')\n",
    "add_line(loco_res_trips_hor.groupby('st_from_name').st_to_name.value_counts().sort_values(ascending=False).head(10))\n",
    "add_header('\\nСамые частые маршруты для локомотивов резервом (первые 10):')\n",
    "add_line(loco_res_trips_hor.groupby('st_from_name').st_to_name_end.value_counts().sort_values(ascending=False).head(10))"
   ]
  },
  {
   "cell_type": "markdown",
   "metadata": {},
   "source": [
    "<a =id='res_before'></a>\n",
    "### Локомотивы резервом до начала планирования [ToC](#toc)"
   ]
  },
  {
   "cell_type": "code",
   "execution_count": 104,
   "metadata": {
    "collapsed": false
   },
   "outputs": [
    {
     "name": "stdout",
     "output_type": "stream",
     "text": [
      "Время начала планирования: Jul 29, 18:00 (1438182000)\n",
      "Всего 0 локомотивов, отправленных резервом до начала планирования (показаны первые 10):\n"
     ]
    }
   ],
   "source": [
    "add_info(links)\n",
    "add_line('Время начала планирования: %s (%d)' % (time.strftime(time_format, time.localtime(current_time)), current_time))\n",
    "loco_res_trips['link_name'] = list(zip(loco_res_trips.st_from_name, loco_res_trips.st_to_name))\n",
    "links['link_name'] = list(zip(links.st_from_name, links.st_to_name))\n",
    "loco_res_trips['dir'] = loco_res_trips.link_name.map(links.drop_duplicates('link_name').set_index('link_name')['dir'])\n",
    "loco_res_trips_hor = loco_res_trips.loc[loco_res_trips.time_start < current_time + hor]\n",
    "    \n",
    "cols = ['loco', 'st_from_name', 'st_to_name_end', 'time_start', 'time_start_norm', 'dir', 'train']\n",
    "res_before_ct = loco_res_trips.loc[loco_res_trips.time_start < current_time, cols]\n",
    "add_header('Всего %d локомотивов, отправленных резервом до начала планирования (показаны первые 10):' % len(res_before_ct.index))\n",
    "if not res_before_ct.empty:\n",
    "    add_line(res_before_ct.sort_values('time_start').head(10))"
   ]
  },
  {
   "cell_type": "markdown",
   "metadata": {},
   "source": [
    "<a =id='res_even'></a>\n",
    "### Локомотивы резервом в четном направлении [ToC](#toc)"
   ]
  },
  {
   "cell_type": "code",
   "execution_count": 105,
   "metadata": {
    "collapsed": false
   },
   "outputs": [
    {
     "name": "stdout",
     "output_type": "stream",
     "text": [
      "Самые частые маршруты для локомотивов резервом в четном направлении (всего 8, показаны первые 10):\n",
      "st_from_name         st_to_name_end\n",
      "КОРШУНИХА-АНГАРСКАЯ  ЛЕНА              8\n",
      "\n",
      "Локомотивы резервом на самом частном маршруте в четном направлении:\n",
      "    loco         st_from_name st_to_name_end  time_start time_start_norm  dir           train\n",
      " 2000402  КОРШУНИХА-АНГАРСКАЯ           ЛЕНА  1438227144   Jul 30, 06:32    0  88880000064532\n",
      " 2000304  КОРШУНИХА-АНГАРСКАЯ           ЛЕНА  1438233941   Jul 30, 08:25    0  88880000064524\n",
      " 2000118  КОРШУНИХА-АНГАРСКАЯ           ЛЕНА  1438239612   Jul 30, 10:00    0  88880000064526\n",
      " 2000301  КОРШУНИХА-АНГАРСКАЯ           ЛЕНА  1438240820   Jul 30, 10:20    0  88880000064528\n",
      " 2000102  КОРШУНИХА-АНГАРСКАЯ           ЛЕНА  1438256412   Jul 30, 14:40    0  88880000064634\n",
      " 2000312  КОРШУНИХА-АНГАРСКАЯ           ЛЕНА  1438262412   Jul 30, 16:20    0  88880000064572\n",
      " 2000103  КОРШУНИХА-АНГАРСКАЯ           ЛЕНА  1438265012   Jul 30, 17:03    0  88880000064566\n",
      " 2000105  КОРШУНИХА-АНГАРСКАЯ           ЛЕНА  1438267888   Jul 30, 17:51    0  88880000064568\n"
     ]
    }
   ],
   "source": [
    "cols = ['loco', 'st_from_name', 'st_to_name_end', 'time_start', 'time_start_norm', 'dir', 'train']\n",
    "even_res = loco_res_trips.loc[loco_res_trips.dir == 0, cols]\n",
    "even_res_hor = loco_res_trips_hor.loc[loco_res_trips_hor.dir == 0, cols]\n",
    "a = even_res_hor.groupby('st_from_name').st_to_name_end.value_counts().sort_values(ascending=False)\n",
    "add_header('Самые частые маршруты для локомотивов резервом в четном направлении (всего %d, показаны первые 10):' \n",
    "      % even_res_hor.loco.drop_duplicates().count())\n",
    "add_line(a.head(10))\n",
    "\n",
    "st_from = a.to_frame().reset_index().ix[0]['st_from_name']\n",
    "st_to = a.to_frame().reset_index().ix[0]['st_to_name_end']\n",
    "most_even_res = even_res_hor.loc[(even_res_hor.st_from_name == st_from) \n",
    "                                 & (even_res_hor.st_to_name_end == st_to)].sort_values('time_start')\n",
    "add_header('\\nЛокомотивы резервом на самом частном маршруте в четном направлении:')\n",
    "add_line(most_even_res)"
   ]
  },
  {
   "cell_type": "markdown",
   "metadata": {},
   "source": [
    "[В начало](#toc)\n",
    "### Проверка времени хода для локомотивов резервом"
   ]
  },
  {
   "cell_type": "code",
   "execution_count": 106,
   "metadata": {
    "collapsed": false,
    "scrolled": false
   },
   "outputs": [
    {
     "name": "stdout",
     "output_type": "stream",
     "text": [
      "Всего 0 (0.00%) пересылок локомотивов резервом с временем хода больше 15 часов\n",
      "Из них 0 НЕ являются возвратом на свое тяговое плечо. Примеры:\n",
      "Empty DataFrame\n",
      "Columns: [loco, st_from_name, st_to_name_end, time_start_norm, time_end_norm, tt_h]\n",
      "Index: []\n",
      "Среднее время хода для таких локомотивов: nan ч.\n"
     ]
    }
   ],
   "source": [
    "def get_regions(x):\n",
    "    return list(a[a.apply(lambda y: (x[0] in y) & (x[1] in y))].index)\n",
    "\n",
    "a = stations.groupby('loco_region')['name'].unique()\n",
    "loco_res_trips['reg'] = loco_res_trips.link_name.apply(get_regions)\n",
    "loco_res_trips['loco_reg'] = loco_res_trips.loco.map(loco_info.set_index('loco').regions_eval)\n",
    "loco_res_trips['back_to_reg'] = loco_res_trips.apply(lambda row:\\\n",
    "                                                     not any([int(r) in [int(x) for x in row.loco_reg] for r in row.reg]),\n",
    "                                                     axis=1)\n",
    "loco_res_trips['tt'] = loco_res_trips.time_end - loco_res_trips.time_start\n",
    "loco_res_trips['tt_h'] = np.round((loco_res_trips.tt / 3600), 2)\n",
    "cols = ['loco', 'st_from_name', 'st_to_name_end', 'time_start_norm', 'time_end_norm', 'tt_h']\n",
    "res_trips_long = loco_res_trips[loco_res_trips.tt > 15 * 3600].sort_values('tt_h', ascending=False)\n",
    "add_header('Всего %d (%.2f%%) пересылок локомотивов резервом с временем хода больше 15 часов' \n",
    "           % (res_trips_long.loco.count(), 100 * res_trips_long.loco.count() / loco_res_trips.loco.count()))\n",
    "res_trips_long_no_back = res_trips_long[res_trips_long.back_to_reg == False]\n",
    "add_header('Из них %d НЕ являются возвратом на свое тяговое плечо. Примеры:' \n",
    "           % res_trips_long_no_back.loco.count())\n",
    "add_line(res_trips_long_no_back.head(10)[cols])\n",
    "if not res_trips_long_no_back.empty:\n",
    "    loco_id = res_trips_long_no_back.iloc[0].loco\n",
    "    plan_cols = ['loco', 'ser_name', 'st_from_name', 'st_to_name', 'time_start_norm', 'time_end_norm', 'train', 'team']\n",
    "    with pd.option_context('display.max_colwidth', 20):\n",
    "        add_line(loco_plan[loco_plan.loco == loco_id][plan_cols])\n",
    "add_header('Среднее время хода для таких локомотивов: %.2f ч.' % res_trips_long_no_back.tt_h.mean())"
   ]
  },
  {
   "cell_type": "markdown",
   "metadata": {},
   "source": [
    "### Причины появления четных локомотивов резервом:"
   ]
  },
  {
   "cell_type": "markdown",
   "metadata": {},
   "source": [
    "1. Мариинск и Карымская не являются станциями прохождения ТО. Поэтому локомотивы пересылаются резервом из Мариинска в Боготол для прохождения ТО или из Читы на Карымскую после прохождения ТО в Чите для подвязки под поезда в Карымской. Необходимо обновить справочник ПТОЛ.\n",
    "2. У локомотивов среди разрешенных тяговых плеч указаны и Мариинск-Борзя, и Карымская-Хабаровск. Поэтому локомотивы едут резервом из Читы в Карымскую, чтобы везти локомотивы на Хабаровск, поскольку Чита совсем недалеко от Карымской. Если бы у локомотивов с плеча Мариинск-Борзя не было проставлено плечо Карымская-Хабаровск, то направления резервом из Читы не было бы. Необходимо загрузить новый справочник тяговых плеч, где такого не будет.\n",
    "3. Поезда своего формирования (ССП) из Карымской следуют только до Читы. Поэтому локомотивы и освобождаются в Чите. Но поскольку в Чите они не нужны, то следуют резервом \"куда-то, где нужны\". В новом справочнике от Войтенко поезда СФ из Карымской следуют до Иркутска, Челутая и Петровского Завода -- это дальше Читы. Поэтому отправлений резервом из Читы станет меньше. Аналогичная проблема: для поездов СФ из Красноярска-Восточного и Тайшета.\n",
    "4. Недостаточное количество поездов в четном направлении на главном ходу -- поэтому локомотивы, которые могли бы ехать в четную сторону с поездами, едут резервом. Будет исправлено с загрузкой новых маршрутов.\n",
    "5. Смена локомотивов происходит на станции Горелый (для маршрутов типа Карымская--Беркакит или Таксимо--Карымская, например). Хотя поезд правильнее заводить на Сковородино и менять локомотив там. Проблема в том, что тогда на маршруте поезда получится петля типа \"Бамовская -- Горелый -- Сковородино -- Горелый -- Штурм\". Текущий алгоритм построения маршрутов не сможет сгенерировать такой маршрут у поезда. Видимо, нужна более продвинутая проверка на приоритетные станции при смене локомотивов и корректировка маршрута поезда. Сложная проблема, надо думать. Пока отложено до 10.05.2016.\n",
    "6. Узел Комсомольска-на-Амуре сложный, надо разбираться. Возможно, надо будет вводить дополнительный участок планирования КнА II - КнА-Сорт. Тоже сложная проблема, тоже пока отложено до 10.05.2016."
   ]
  },
  {
   "cell_type": "markdown",
   "metadata": {},
   "source": [
    "## Проверка скачков по станциям"
   ]
  },
  {
   "cell_type": "code",
   "execution_count": 107,
   "metadata": {
    "collapsed": false
   },
   "outputs": [],
   "source": [
    "add_header('Проверка скачков по станциям', h=2, p=False)"
   ]
  },
  {
   "cell_type": "code",
   "execution_count": 115,
   "metadata": {
    "collapsed": false
   },
   "outputs": [
    {
     "name": "stdout",
     "output_type": "stream",
     "text": [
      "Всего 1 локомотивов со скачками по станциям в плане. Примеры:\n",
      "    loco st_from_name st_to_name  time_end_norm next_station\n",
      " 2001513       ТАЙШЕТ     ТАЙШЕТ  Jul 31, 20:01         ЛЕНА\n",
      "\n",
      "Пример плана по локомотиву:\n",
      "    loco st_from_name st_to_name time_start_norm  time_end_norm  state           train\n",
      " 2001513         ЮРТЫ     ТАЙШЕТ   Jul 30, 02:06  Jul 30, 03:03      1         1002028\n",
      " 2001513       ТАЙШЕТ       ЮРТЫ   Jul 30, 12:25  Jul 30, 13:03      1         1002411\n",
      " 2001513         ЮРТЫ     ТАЙШЕТ   Jul 30, 17:00  Jul 30, 17:57      1  88880000054608\n",
      " 2001513       ТАЙШЕТ       ЮРТЫ   Jul 31, 21:31  Jul 31, 22:09      1         1002711\n",
      " 2001513         ЮРТЫ     ТАЙШЕТ   Jul 31, 16:04  Jul 31, 17:01      0  88880000074378\n",
      " 2001513       ТАЙШЕТ     ТАЙШЕТ   Jul 31, 17:01  Jul 31, 20:01      4              -1\n"
     ]
    }
   ],
   "source": [
    "loco_last_track = loco_plan.sort_values(['loco', 'time_start']).drop_duplicates('loco', keep='last').set_index('loco')\n",
    "loco_plan['loco_end'] = loco_plan.loco != loco_plan.loco.shift(-1)\n",
    "loco_plan['next_station'] = loco_plan.st_from_name.shift(-1)\n",
    "cols = ['loco', 'st_from_name', 'st_to_name', 'time_end_norm', 'next_station']\n",
    "st_leaps = loco_plan[(loco_plan.st_to_name != loco_plan.next_station) \n",
    "                  & (loco_plan.loco_end == False)\n",
    "                  & ((loco_plan.st_to_name.notnull()) | (loco_plan.next_station.notnull()))].sort_values('time_end')[cols]\n",
    "if st_leaps.empty:\n",
    "    add_header('Не найдено локомотивов со скачками по станциям в плане')\n",
    "else:\n",
    "    add_header('Всего %d локомотивов со скачками по станциям в плане. Примеры:' % st_leaps.loco.count())\n",
    "    add_line(st_leaps.head(10)[cols])\n",
    "    loco_id = st_leaps.iloc[0].loco\n",
    "    add_line('')\n",
    "    cols = ['loco', 'st_from_name', 'st_to_name', 'time_start_norm', 'time_end_norm', 'state', 'train']\n",
    "    add_header('Пример плана по локомотиву:')\n",
    "    add_line(loco_plan[loco_plan.loco == loco_id][cols])"
   ]
  },
  {
   "cell_type": "markdown",
   "metadata": {},
   "source": [
    "<a id='time_leaps'></a>\n",
    "## Проверка скачков по времени назад [ToC](#toc)\n",
    "\n",
    "На запланированном маршруте локомотивов не должно быть случаев, когда время отправления с какой-то станции меньше времени прибытия на нее, а время прибытия на конечную станцию участка не больше времени отправления с начальной станции участка."
   ]
  },
  {
   "cell_type": "code",
   "execution_count": 109,
   "metadata": {
    "collapsed": true
   },
   "outputs": [],
   "source": [
    "add_header('Проверка скачков по времени назад', h=2, p=False)"
   ]
  },
  {
   "cell_type": "code",
   "execution_count": 114,
   "metadata": {
    "collapsed": false
   },
   "outputs": [
    {
     "name": "stdout",
     "output_type": "stream",
     "text": [
      "Всего 2 локомотивов со скачками по времени назад в плане. Примеры:\n",
      "    loco st_from_name st_to_name time_start_norm  time_end_norm next_time_start_norm\n",
      " 2000761         ЛЕНА       ЛЕНА   Aug 01, 04:39  Aug 01, 07:39        Aug 01, 04:41\n",
      " 2001513       ТАЙШЕТ       ЮРТЫ   Jul 31, 21:31  Jul 31, 22:09        Jul 31, 16:04\n",
      "\n",
      "    loco     st_from_name       st_to_name time_start_norm  time_end_norm  state           train\n",
      " 2000761       НОВЫЙ УОЯН  СЕВЕРОБАЙКАЛЬСК   Jul 29, 22:20  Jul 30, 02:01      1         1002601\n",
      " 2000761  СЕВЕРОБАЙКАЛЬСК              ТЫЯ   Jul 30, 10:25  Jul 30, 10:49      1         1002601\n",
      " 2000761              ТЫЯ            ДАБАН   Jul 30, 10:49  Jul 30, 11:24      1         1002601\n",
      " 2000761            ДАБАН          КУНЕРМА   Jul 30, 11:24  Jul 30, 12:05      1         1002601\n",
      " 2000761          КУНЕРМА          КИРЕНГА   Jul 30, 12:05  Jul 30, 15:16      1         1002601\n",
      " 2000761          КИРЕНГА           НЕБЕЛЬ   Jul 30, 15:16  Jul 30, 16:02      1         1002601\n",
      " 2000761           НЕБЕЛЬ          ТАКОВКА   Jul 30, 16:02  Jul 30, 16:24      1         1002601\n",
      " 2000761          ТАКОВКА              НИЯ   Jul 30, 16:24  Jul 30, 17:12      1         1002601\n",
      " 2000761              НИЯ         ЗВЕЗДНАЯ   Jul 30, 17:12  Jul 30, 18:04      1         1002601\n",
      " 2000761         ЗВЕЗДНАЯ        ЧУДНИЧНЫЙ   Jul 30, 18:04  Jul 30, 18:37      1         1002601\n",
      " 2000761        ЧУДНИЧНЫЙ   ЛЕНА-ВОСТОЧНАЯ   Jul 30, 18:37  Jul 30, 19:09      1         1002601\n",
      " 2000761   ЛЕНА-ВОСТОЧНАЯ           ЯКУРИМ   Jul 30, 19:09  Jul 30, 19:16      1         1002601\n",
      " 2000761           ЯКУРИМ             ЛЕНА   Jul 30, 19:16  Jul 30, 19:30      1         1002601\n",
      " 2000761             ЛЕНА           ЯКУРИМ   Jul 31, 08:26  Jul 31, 08:41      1         1002214\n",
      " 2000761           ЯКУРИМ   ЛЕНА-ВОСТОЧНАЯ   Jul 31, 08:41  Jul 31, 08:51      1         1002214\n",
      " 2000761   ЛЕНА-ВОСТОЧНАЯ        ЧУДНИЧНЫЙ   Jul 31, 08:51  Jul 31, 09:34      1         1002214\n",
      " 2000761        ЧУДНИЧНЫЙ         ЗВЕЗДНАЯ   Jul 31, 09:34  Jul 31, 10:16      1         1002214\n",
      " 2000761         ЗВЕЗДНАЯ              НИЯ   Jul 31, 10:16  Jul 31, 11:04      1         1002214\n",
      " 2000761              НИЯ          ТАКОВКА   Jul 31, 11:04  Jul 31, 11:32      1         1002214\n",
      " 2000761          ТАКОВКА           НЕБЕЛЬ   Jul 31, 11:32  Jul 31, 12:07      1         1002214\n",
      " 2000761           НЕБЕЛЬ          КИРЕНГА   Jul 31, 12:07  Jul 31, 13:08      1         1002214\n",
      " 2000761          КИРЕНГА          КУНЕРМА   Jul 31, 13:08  Jul 31, 15:34      1         1002214\n",
      " 2000761          КУНЕРМА            ДАБАН   Jul 31, 15:34  Jul 31, 16:33      1         1002214\n",
      " 2000761            ДАБАН              ТЫЯ   Jul 31, 16:33  Jul 31, 17:19      1         1002214\n",
      " 2000761              ТЫЯ  СЕВЕРОБАЙКАЛЬСК   Jul 31, 17:19  Jul 31, 17:42      1         1002214\n",
      " 2000761  СЕВЕРОБАЙКАЛЬСК              ТЫЯ   Jul 31, 19:14  Jul 31, 19:44      0  88880000064533\n",
      " 2000761              ТЫЯ            ДАБАН   Jul 31, 19:44  Jul 31, 20:43      0  88880000064533\n",
      " 2000761            ДАБАН          КУНЕРМА   Jul 31, 20:43  Jul 31, 21:37      0  88880000064533\n",
      " 2000761          КУНЕРМА          КИРЕНГА   Jul 31, 21:37  Aug 01, 00:04      0  88880000064533\n",
      " 2000761          КИРЕНГА           НЕБЕЛЬ   Aug 01, 00:04  Aug 01, 01:05      0  88880000064533\n",
      " 2000761           НЕБЕЛЬ          ТАКОВКА   Aug 01, 01:05  Aug 01, 01:35      0  88880000064533\n",
      " 2000761          ТАКОВКА              НИЯ   Aug 01, 01:35  Aug 01, 02:00      0  88880000064533\n",
      " 2000761              НИЯ         ЗВЕЗДНАЯ   Aug 01, 02:00  Aug 01, 03:03      0  88880000064533\n",
      " 2000761         ЗВЕЗДНАЯ        ЧУДНИЧНЫЙ   Aug 01, 03:03  Aug 01, 03:46      0  88880000064533\n",
      " 2000761        ЧУДНИЧНЫЙ   ЛЕНА-ВОСТОЧНАЯ   Aug 01, 03:46  Aug 01, 04:19      0  88880000064533\n",
      " 2000761   ЛЕНА-ВОСТОЧНАЯ           ЯКУРИМ   Aug 01, 04:19  Aug 01, 04:26      0  88880000064533\n",
      " 2000761           ЯКУРИМ             ЛЕНА   Aug 01, 04:26  Aug 01, 04:39      0  88880000064533\n",
      " 2000761             ЛЕНА             ЛЕНА   Aug 01, 04:39  Aug 01, 07:39      4              -1\n",
      " 2000761             ЛЕНА           ЯКУРИМ   Aug 01, 04:41  Aug 01, 04:56      1         1002042\n",
      " 2000761           ЯКУРИМ   ЛЕНА-ВОСТОЧНАЯ   Aug 01, 04:56  Aug 01, 05:06      1         1002042\n",
      " 2000761   ЛЕНА-ВОСТОЧНАЯ        ЧУДНИЧНЫЙ   Aug 01, 05:06  Aug 01, 05:49      1         1002042\n",
      " 2000761        ЧУДНИЧНЫЙ         ЗВЕЗДНАЯ   Aug 01, 05:49  Aug 01, 06:31      1         1002042\n",
      " 2000761         ЗВЕЗДНАЯ              НИЯ   Aug 01, 06:31  Aug 01, 07:19      1         1002042\n",
      " 2000761              НИЯ          ТАКОВКА   Aug 01, 07:19  Aug 01, 07:47      1         1002042\n",
      " 2000761          ТАКОВКА           НЕБЕЛЬ   Aug 01, 07:47  Aug 01, 08:22      1         1002042\n",
      " 2000761           НЕБЕЛЬ          КИРЕНГА   Aug 01, 08:22  Aug 01, 09:23      1         1002042\n",
      " 2000761          КИРЕНГА          КУНЕРМА   Aug 01, 09:23  Aug 01, 11:49      1         1002042\n",
      " 2000761          КУНЕРМА            ДАБАН   Aug 01, 11:49  Aug 01, 12:48      1         1002042\n",
      " 2000761            ДАБАН              ТЫЯ   Aug 01, 12:48  Aug 01, 13:34      1         1002042\n",
      " 2000761              ТЫЯ  СЕВЕРОБАЙКАЛЬСК   Aug 01, 13:34  Aug 01, 13:57      1         1002042\n",
      " 2000761  СЕВЕРОБАЙКАЛЬСК       НОВЫЙ УОЯН   Aug 01, 15:29  Aug 01, 19:09      1         1002042\n",
      " 2000761       НОВЫЙ УОЯН        АНГАРАКАН   Aug 01, 19:09  Aug 01, 21:21      1         1002042\n",
      " 2000761        АНГАРАКАН         КАЗАНКАН   Aug 01, 21:21  Aug 01, 22:16      1         1002042\n",
      " 2000761         КАЗАНКАН          ТАКСИМО   Aug 01, 22:16  Aug 02, 00:24      1         1002042\n"
     ]
    }
   ],
   "source": [
    "loco_plan['next_time_start'] = loco_plan.time_start.shift(-1)\n",
    "loco_plan['next_time_start_norm'] = loco_plan.time_start_norm.shift(-1)\n",
    "loco_plan['loco_end'] = loco_plan.loco != loco_plan.loco.shift(-1)\n",
    "cols = ['loco', 'st_from_name', 'st_to_name', 'time_start_norm', 'time_end_norm', 'next_time_start_norm']\n",
    "leaps = loco_plan[(loco_plan.loco_end == False) & (loco_plan.next_time_start < loco_plan.time_end)]\n",
    "if leaps.empty:\n",
    "    add_header('Не найдено локомотивов со скачками по времени назад в плане')\n",
    "else:\n",
    "    add_header('Всего %d локомотивов со скачками по времени назад в плане. Примеры:' % leaps.loco.count())\n",
    "    add_line(leaps.head(10)[cols])\n",
    "    loco_id = leaps.iloc[0].loco\n",
    "    add_line('')\n",
    "    cols = ['loco', 'st_from_name', 'st_to_name', 'time_start_norm', 'time_end_norm', 'state', 'train']\n",
    "    add_line(loco_plan[loco_plan.loco == loco_id][cols])"
   ]
  },
  {
   "cell_type": "markdown",
   "metadata": {},
   "source": [
    "<a id='report'></a>\n",
    "### Экспорт результатов в HTML [ToC](#toc)"
   ]
  },
  {
   "cell_type": "code",
   "execution_count": 111,
   "metadata": {
    "collapsed": false
   },
   "outputs": [
    {
     "name": "stdout",
     "output_type": "stream",
     "text": [
      "Отчет сформирован за 5.34 сек. и записан в файл report/loco_report_20160819_170455.html\n"
     ]
    }
   ],
   "source": [
    "filename = REPORT_FOLDER + 'loco_report_' + time.strftime('%Y%m%d_%H%M%S', time.localtime(time.time())) + '.html'\n",
    "create_report(filename)"
   ]
  }
 ],
 "metadata": {
  "kernelspec": {
   "display_name": "Python 3",
   "language": "python",
   "name": "python3"
  },
  "language_info": {
   "codemirror_mode": {
    "name": "ipython",
    "version": 3
   },
   "file_extension": ".py",
   "mimetype": "text/x-python",
   "name": "python",
   "nbconvert_exporter": "python",
   "pygments_lexer": "ipython3",
   "version": "3.5.1"
  }
 },
 "nbformat": 4,
 "nbformat_minor": 0
}
