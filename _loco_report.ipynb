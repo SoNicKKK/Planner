{
 "cells": [
  {
   "cell_type": "markdown",
   "metadata": {},
   "source": [
    "<a id='toc'></a>\n",
    "# Список тестов по запланированным локомотивам:"
   ]
  },
  {
   "cell_type": "markdown",
   "metadata": {},
   "source": [
    "1. [Вычисление процента подвязки поездов и локомотивов.](#perc)\n",
    "2. [Проверка правильности назначениях тяговых плеч локомотивам во входных данных.](#regions)\n",
    "   1. [Проверка назначения тяговых плеч локомотивам в соответствии с сериями](#correct_reg_ser)\n",
    "   2. [Проверка невыезда локомотива за пределы своих тяговых плеч в процессе планирования](#correct_reg_plan)\n",
    "   3. [Локомотивы на чужих тяговых плечах на начало планирования](#bad_regs_loco_info)\n",
    "3. [Проверка пунктов проведения ТО-2.](#st_to2)\n",
    "4. [Проверка подвязки на соответствие весовым нормам.](#tonnage)\n",
    "5. [Проверка смен локомотива на станциях обязательной смены.](#change)\n",
    "6. [Анализ локомотивов резервом.](#res)\n",
    "   1. [Проверка номеров поездов, соответствующих локомотивам резервом.](#res_nums)\n",
    "   2. [Вычисление количества локомотивов резервом по направлениям.](#res_amount)\n",
    "   3. [Проверка отправления локомотивов резервом до начала планирования.](#res_before)\n",
    "   4. [Анализ отправления локомотивов резервом в четную сторону.](#res_even)\n",
    "   5. [Проверка времени хода для локомотивов резервом](#Проверка-времени-хода-для-локомотивов-резервом)\n",
    "7. [Проверка скачков по времени назад](#time_leaps)\n",
    "7. [Создание отчета](#report)"
   ]
  },
  {
   "cell_type": "markdown",
   "metadata": {},
   "source": [
    "### Константы и настройки"
   ]
  },
  {
   "cell_type": "code",
   "execution_count": 93,
   "metadata": {
    "collapsed": true
   },
   "outputs": [],
   "source": [
    "report = ''\n",
    "FOLDER = 'resources/'\n",
    "REPORT_FOLDER = 'report/'\n",
    "PRINT = True"
   ]
  },
  {
   "cell_type": "markdown",
   "metadata": {},
   "source": [
    "### Функции для экспорта в HTML"
   ]
  },
  {
   "cell_type": "code",
   "execution_count": 94,
   "metadata": {
    "collapsed": false
   },
   "outputs": [],
   "source": [
    "def add_line(line, p=PRINT):    \n",
    "    global report        \n",
    "    if p:        \n",
    "        if type(line) == str:\n",
    "            print(line)        \n",
    "        elif type(line) == pd.core.frame.DataFrame:\n",
    "            print(line.to_string(index=False))\n",
    "        elif type(line) == pd.core.series.Series:\n",
    "            print(line.to_string())\n",
    "    if type(line) == pd.core.frame.DataFrame:        \n",
    "        report += ('%s<br>' % line.to_html(index=False))\n",
    "    elif type(line) == pd.core.series.Series:\n",
    "        report += ('%s<br>' % line.to_frame().reset_index().to_html(index=False))\n",
    "    else:                \n",
    "        report += ('%s<br>' % line)\n",
    "    \n",
    "def add_header(header, h=4, p=PRINT):\n",
    "    global report    \n",
    "    report += ('<h%d>%s</h%d>' % (h, header, h))    \n",
    "    if p:\n",
    "        print(header)\n",
    "        \n",
    "def add_image(filename):\n",
    "    global report\n",
    "    report += ('<img src=\"%s\" alt=\"%s\" height=\"40%%\">' % (filename, filename))\n",
    "\n",
    "def create_report(filename):\n",
    "    global report\n",
    "    report = report.replace('<table border=\"1\" class=\"dataframe\">','<table class=\"table table-striped\">')\n",
    "    html_string = '''\n",
    "        <html>\n",
    "            <head>\n",
    "                <link rel=\"stylesheet\" href=\"skeleton.css\">\n",
    "                <style>body{ margin:20 20; background:whitesmoke; }\n",
    "                table {table-layout : fixed}\n",
    "                </style>\n",
    "            </head>\n",
    "            <body>\n",
    "                <h1>Проверки по локомотивам</h1>        \n",
    "                %s\n",
    "            </body>\n",
    "        </html>''' % (report)\n",
    "    f = open(filename,'w', encoding='utf-8-sig')\n",
    "    f.write(html_string)\n",
    "    f.close()\n",
    "    print('Отчет сформирован за %.2f сек. и записан в файл %s' % (time.time() - start_time, filename))"
   ]
  },
  {
   "cell_type": "markdown",
   "metadata": {},
   "source": [
    "## Загрузка и подготовка данных"
   ]
  },
  {
   "cell_type": "code",
   "execution_count": 95,
   "metadata": {
    "collapsed": true
   },
   "outputs": [],
   "source": [
    "TIME_FORMAT = '%b %d, %H:%M'\n",
    "'''\n",
    "    Преобразует время из timestamp в красивый формат, заданный в константе time_format\n",
    "'''\n",
    "def nice_time(t):\n",
    "    return time.strftime(TIME_FORMAT, time.localtime(t)) if t > 0 else ''\n",
    "\n",
    "def nice_print(s, **kwargs):    \n",
    "    num = kwargs['num'] if 'num' in kwargs.keys() else False\n",
    "    cols = kwargs['cols'] if 'cols' in kwargs.keys() else s.columns\n",
    "    if num:\n",
    "        print(s.reset_index()[cols].to_string())\n",
    "    else:\n",
    "        print(s[cols].to_string(index=False))"
   ]
  },
  {
   "cell_type": "code",
   "execution_count": 96,
   "metadata": {
    "collapsed": false
   },
   "outputs": [
    {
     "name": "stdout",
     "output_type": "stream",
     "text": [
      "Время составления отчета: Aug 03, 15:50\n",
      "Время запуска планировщика: Aug 03, 13:30 (1470220240)\n"
     ]
    }
   ],
   "source": [
    "import numpy as np\n",
    "import pandas as pd\n",
    "import time, datetime\n",
    "from ast import literal_eval\n",
    "import matplotlib.pyplot as plt\n",
    "import seaborn as sns\n",
    "from IPython import get_ipython\n",
    "\n",
    "%matplotlib inline\n",
    "plt.style.use('fivethirtyeight')\n",
    "plt.rc('font', family='Times New Roman')\n",
    "\n",
    "pd.set_option('max_rows', 50)\n",
    "pd.set_option('display.max_colwidth', 25)\n",
    "\n",
    "time_format = '%b %d, %H:%M'\n",
    "\n",
    "start_time = time.time()\n",
    "current_time   = pd.read_csv(FOLDER + 'current_time.csv').current_time[0]\n",
    "twr            = pd.read_csv(FOLDER + 'team_work_region.csv', converters={'team_work_region':str})\n",
    "links          = pd.read_csv(FOLDER + 'link.csv', converters={'st_from':str, 'st_to':str})\n",
    "stations       = pd.read_csv(FOLDER + 'station.csv', converters={'station':str})\n",
    "train_info     = pd.read_csv(FOLDER + 'train_info.csv', converters={'train': str, 'st_from':str, 'st_to':str})\n",
    "train_plan     = pd.read_csv(FOLDER + 'slot_train.csv', converters={'train': str, 'st_from':str, 'st_to':str})\n",
    "loco_info      = pd.read_csv(FOLDER + 'loco_attributes.csv', converters={'train':str, 'loco':str, \n",
    "                                                                   'st_from':str, 'st_to':str, 'depot':str})\n",
    "loco_plan      = pd.read_csv(FOLDER + 'slot_loco.csv', converters={'train':str, 'loco':str, 'st_from':str, 'st_to':str})\n",
    "team_info      = pd.read_csv(FOLDER + 'team_attributes.csv', converters={'team':str,'depot':str, 'oper_location':str, \\\n",
    "                                                     'st_from':str, 'st_to':str, 'loco':str, 'depot_st':str})\n",
    "\n",
    "team_plan      = pd.read_csv(FOLDER + 'slot_team.csv', converters={'team':str,'loco':str, 'st_from':str, 'st_to':str})\n",
    "loco_series    = pd.read_csv(FOLDER + 'loco_series.csv')\n",
    "loco_info_regs = pd.read_csv(FOLDER + 'loco_info_regs.csv', converters={'loco':str})\n",
    "loco_tonnage   = pd.read_csv(FOLDER + 'loco_tonnage.csv', converters={'st_from':str, 'st_to':str})\n",
    "\n",
    "st_names = stations[['station', 'name', 'esr']].drop_duplicates().set_index('station')\n",
    "team_info.regions = team_info.regions.apply(literal_eval)\n",
    "\n",
    "print('Время составления отчета:', time.strftime(time_format, time.localtime()))\n",
    "print('Время запуска планировщика: %s (%d)' % (time.strftime(time_format, time.localtime(current_time)), current_time))"
   ]
  },
  {
   "cell_type": "code",
   "execution_count": 97,
   "metadata": {
    "collapsed": true
   },
   "outputs": [],
   "source": [
    "# Мержим таблицы _plan и _info для поездов, локомотивов и бригад\n",
    "# Добавляем во все таблицы названия станций на маршруте и времена отправления/прибытия в читабельном формате\n",
    "\n",
    "def add_info(df):    \n",
    "    if 'st_from' in df.columns:\n",
    "        df['st_from_name'] = df.st_from.map(st_names.name)\n",
    "    if 'st_to' in df.columns:\n",
    "        df['st_to_name'] = df.st_to.map(st_names.name)\n",
    "    if 'time_start' in df.columns:\n",
    "        df['time_start_norm'] = df.time_start.apply(lambda x: time.strftime(time_format, time.localtime(x)))\n",
    "    if 'time_end' in df.columns:\n",
    "        df['time_end_norm'] = df.time_end.apply(lambda x: time.strftime(time_format, time.localtime(x)))\n",
    "    if 'oper_location' in df.columns:\n",
    "        df['oper_location_name'] = df.oper_location.map(st_names.name)    \n",
    "        df.oper_location_name.fillna(0, inplace=True)\n",
    "    if ('oper_location' in df.columns) & ('st_from' in df.columns) & ('st_to' in df.columns):        \n",
    "        df['loc_name'] = df.oper_location_name\n",
    "        df.loc[df.loc_name == 0, 'loc_name'] = df.st_from_name + ' - ' + df.st_to_name\n",
    "    \n",
    "add_info(train_plan)\n",
    "add_info(loco_plan)\n",
    "add_info(team_plan)\n",
    "add_info(loco_info)\n",
    "add_info(team_info)\n",
    "train_plan = train_plan.merge(train_info, on='train', suffixes=('', '_info'), how='left')\n",
    "loco_plan = loco_plan.merge(loco_info, on='loco', suffixes=('', '_info'), how='left')\n",
    "team_plan = team_plan.merge(team_info, on='team', suffixes=('', '_info'), how='left')"
   ]
  },
  {
   "cell_type": "code",
   "execution_count": 98,
   "metadata": {
    "collapsed": false
   },
   "outputs": [],
   "source": [
    "# Добавляем ссылку на бригаду в таблицу локомотивов\n",
    "# Добавляем ссылку на локомотив и бригаду в таблицу поездов\n",
    "\n",
    "loco_plan['loco_time'] = list(zip(loco_plan.loco , loco_plan.time_start))\n",
    "team_plan['loco_time'] = list(zip(team_plan.loco , team_plan.time_start))\n",
    "loco_plan['team'] = loco_plan.loco_time.map(team_plan.drop_duplicates('loco_time').set_index('loco_time').team)\n",
    "\n",
    "loco_plan['train_time'] = list(zip(loco_plan.train, loco_plan.time_start))\n",
    "train_plan['train_time'] = list(zip(train_plan.train, train_plan.time_start))\n",
    "train_plan['loco'] = train_plan.train_time.map(loco_plan.drop_duplicates('train_time').set_index('train_time').loco)\n",
    "train_plan['team'] = train_plan.train_time.map(loco_plan.drop_duplicates('train_time').set_index('train_time').team)\n",
    "\n",
    "add_info(loco_tonnage)\n",
    "loco_tonnage['link'] = list(zip(loco_tonnage.st_from, loco_tonnage.st_to))\n",
    "loco_tonnage['ssl'] = list(zip(loco_tonnage.series, loco_tonnage.sections, loco_tonnage.link))\n",
    "loco_tonnage['ser_name'] = loco_tonnage.series.map(loco_series.set_index('ser_id').ser_name)"
   ]
  },
  {
   "cell_type": "markdown",
   "metadata": {},
   "source": [
    "<a =id='perc'></a>\n",
    "## Вычисление процента подвязки поездов и локомотивов [ToC](#toc)"
   ]
  },
  {
   "cell_type": "code",
   "execution_count": 99,
   "metadata": {
    "collapsed": false
   },
   "outputs": [
    {
     "name": "stdout",
     "output_type": "stream",
     "text": [
      "Процент подвязки поездов и локомотивов на горизонте в  6 часов: 89.42% (поездов без локомотива - 283)\n",
      "Процент подвязки поездов и локомотивов на горизонте в 12 часов: 86.55% (поездов без локомотива - 360)\n",
      "Процент подвязки поездов и локомотивов на горизонте в 24 часов: 81.39% (поездов без локомотива - 498)\n",
      "Процент подвязки поездов и локомотивов на горизонте в 48 часов: 74.66% (поездов без локомотива - 678)\n"
     ]
    }
   ],
   "source": [
    "def count_assign_percent(horizon):\n",
    "    mask = (train_plan.time_start < current_time + horizon)\n",
    "    bad_trains = train_plan.loc[mask & (train_plan.loco.isnull())]\n",
    "    bad_trains_n = bad_trains.drop_duplicates('train').train.count()\n",
    "    good_percent = 100 * (1 - bad_trains_n / total_trains_n)        \n",
    "    return 'Процент подвязки поездов и локомотивов на горизонте в %2.d часов: %.2f%% (поездов без локомотива - %d)'\\\n",
    "         % (horizon / 3600, good_percent, bad_trains_n)\n",
    "\n",
    "train_plan['train_type'] = train_plan.train.apply(lambda x: int(str(x)[0]))\n",
    "total_trains_n = train_plan[train_plan.train_type.isin([2, 9])].drop_duplicates('train').train.count()\n",
    "add_header('Вычисление процента подвязки поездов и локомотивов', p=False, h=2)\n",
    "add_line(count_assign_percent(6 * 3600))\n",
    "add_line(count_assign_percent(12 * 3600))\n",
    "add_line(count_assign_percent(24 * 3600))\n",
    "add_line(count_assign_percent(48 * 3600))"
   ]
  },
  {
   "cell_type": "code",
   "execution_count": 100,
   "metadata": {
    "collapsed": false
   },
   "outputs": [
    {
     "name": "stdout",
     "output_type": "stream",
     "text": [
      "Направления, на которые не удалось подвязать локомотив под поезд (первые 10 по количеству поездов):\n",
      "st_from_name                        st_to_name \n",
      "КОМСОМОЛЬСК-НА-АМУРЕ-СОРТИРОВОЧНЫЙ  МЫЛКИ          15\n",
      "ЗАБАЙКАЛЬСК                         ХАРАНОР        12\n",
      "НОВЫЙ УРГАЛ                         УРГАЛ I        11\n",
      "ФЕВРАЛЬСК                           НОВЫЙ УРГАЛ    10\n",
      "ТАКСИМО                             КУАНДА          9\n",
      "КИЯ-ШАЛТЫРЬ                         ДУБИНИНО        9\n",
      "ГОРЕЛЫЙ                             ШТУРМ           8\n",
      "МАРИИНСК                            БОГОТОЛ         8\n",
      "НОВАЯ ЧАРА                          ИКАБЬЯКАН       7\n",
      "ВОЛОЧАЕВКА II                       ТУНГУССКИЙ      7\n"
     ]
    }
   ],
   "source": [
    "a = train_plan[(train_plan.time_start < current_time + 24 * 3600) & (train_plan.loco.isnull())]\\\n",
    "    .drop_duplicates('train')\\\n",
    "    .groupby(['st_from_name', 'st_to_name']).train\\\n",
    "    .count().sort_values(ascending=False)\n",
    "add_header('Направления, на которые не удалось подвязать локомотив под поезд (первые 10 по количеству поездов):')\n",
    "add_line(a.head(10))\n",
    "a.to_csv('a.csv')"
   ]
  },
  {
   "cell_type": "code",
   "execution_count": 101,
   "metadata": {
    "collapsed": false
   },
   "outputs": [
    {
     "name": "stdout",
     "output_type": "stream",
     "text": [
      "Поезда со станции КОМСОМОЛЬСК-НА-АМУРЕ-СОРТИРОВОЧНЫЙ, к которым не были подвязаны локомотивы\n",
      "        train  weight              st_from_name            st_to_name  st_dest_name time_start_norm loco ser_name  sections\n",
      " 200020668777     474  КОМСОМОЛЬСК-НА-АМУРЕ-...               СЕЛИХИН       СЕЛИХИН   Aug 03, 01:28  NaN      NaN       NaN\n",
      " 200020914611    2063  КОМСОМОЛЬСК-НА-АМУРЕ-...  КОМСОМОЛЬСК-НА-АМУРЕ         ТЫНДА   Aug 03, 16:20  NaN      NaN       NaN\n",
      " 200020800637    4899  КОМСОМОЛЬСК-НА-АМУРЕ-...                 МЫЛКИ  ХАБАРОВСК II   Aug 03, 16:50  NaN      NaN       NaN\n",
      " 200020889059    4457  КОМСОМОЛЬСК-НА-АМУРЕ-...                 МЫЛКИ  ХАБАРОВСК II   Aug 03, 17:00  NaN      NaN       NaN\n",
      " 200020890036    1192  КОМСОМОЛЬСК-НА-АМУРЕ-...                 МЫЛКИ  ХАБАРОВСК II   Aug 03, 18:10  NaN      NaN       NaN\n",
      " 200020698356    4900  КОМСОМОЛЬСК-НА-АМУРЕ-...                 МЫЛКИ  ХАБАРОВСК II   Aug 03, 21:20  NaN      NaN       NaN\n",
      " 230204150916    5574  КОМСОМОЛЬСК-НА-АМУРЕ-...               СЕЛИХИН        ВАНИНО   Aug 04, 00:50  NaN      NaN       NaN\n",
      " 220210372645    5521  КОМСОМОЛЬСК-НА-АМУРЕ-...               СЕЛИХИН        ВАНИНО   Aug 04, 05:05  NaN      NaN       NaN\n",
      " 200020708542   12001  КОМСОМОЛЬСК-НА-АМУРЕ-...               СЕЛИХИН        ВАНИНО   Aug 04, 09:32  NaN      NaN       NaN\n",
      " 200020780742       0  КОМСОМОЛЬСК-НА-АМУРЕ-...               СЕЛИХИН        ВАНИНО   Aug 04, 09:35  NaN      NaN       NaN\n"
     ]
    }
   ],
   "source": [
    "(st_name, st2_name) = a.index[0]\n",
    "train_cols = ['train', 'weight', 'st_from_name', 'st_to_name', 'st_dest_name', 'time_start_norm', 'time_end_norm', 'loco', 'team']\n",
    "cols = ['train', 'weight', 'st_from_name', 'st_to_name', 'st_dest_name', 'time_start_norm', 'loco', 'ser_name', 'sections']\n",
    "routes = pd.read_csv(FOLDER + 'routes.csv', converters={'st_from':str, 'st_to':str, 'train':str})\n",
    "add_info(routes)\n",
    "routes['end'] = routes.train != routes.train.shift(-1)\n",
    "train_plan['st_dest_name'] = train_plan.train.map(routes[routes.end].set_index('train').st_to_name)\n",
    "loco_info['ser_name'] = loco_info.series.map(loco_series.set_index('ser_id').ser_name)\n",
    "train_plan['ser_name'] = train_plan.loco.map(loco_info.set_index('loco').ser_name)\n",
    "train_plan['sections'] = train_plan.loco.map(loco_info.set_index('loco').sections)\n",
    "a = train_plan[(train_plan.time_start < current_time + 24 * 3600) \n",
    "               & (train_plan.loco.isnull())\n",
    "               & (train_plan.st_dest_name.isnull() == False)\n",
    "               & (train_plan.st_from_name == st_name)].drop_duplicates('train')\n",
    "add_header('Поезда со станции %s, к которым не были подвязаны локомотивы' % st_name)\n",
    "add_line(a.sort_values('time_start')[cols])"
   ]
  },
  {
   "cell_type": "code",
   "execution_count": 102,
   "metadata": {
    "collapsed": false
   },
   "outputs": [
    {
     "name": "stdout",
     "output_type": "stream",
     "text": [
      "На станции КОМСОМОЛЬСК-НА-АМУРЕ-СОРТИРОВОЧНЫЙ находилось 0 локомотивов, которые не были подвязаны ни к одному поезду:\n",
      "Empty DataFrame\n",
      "Columns: [loco, ltype, oper_time_f, loc_name, tts, dts, is_planned]\n",
      "Index: []\n"
     ]
    }
   ],
   "source": [
    "loco_info['is_planned'] = loco_info.loco.isin(loco_plan[loco_plan.state == 1].loco)\n",
    "loco_info['oper_time_f'] = loco_info.oper_time.apply(nice_time)\n",
    "info_cols = ['loco', 'ltype', 'oper_time_f', 'loc_name', 'tts', 'dts', 'is_planned']\n",
    "no_plan = loco_info[(loco_info.loc_name == st_name) & (loco_info.is_planned == False) & (loco_info.ltype == 1)]\n",
    "add_header('На станции %s находилось %d локомотивов, которые не были подвязаны ни к одному поезду:' \n",
    "           % (st_name, no_plan.loco.count()))\n",
    "add_line(no_plan[info_cols])"
   ]
  },
  {
   "cell_type": "markdown",
   "metadata": {},
   "source": [
    "<a =id='regions'></a>\n",
    "## Проверка наличия локомотивов только на своих тяговых плечах [ToC](#toc)"
   ]
  },
  {
   "cell_type": "code",
   "execution_count": 103,
   "metadata": {
    "collapsed": false
   },
   "outputs": [],
   "source": [
    "add_header('Проверка наличия локомотивов только на своих тяговых плечах', h=2, p=False)"
   ]
  },
  {
   "cell_type": "markdown",
   "metadata": {},
   "source": [
    "<a id='correct_reg_ser'></a>\n",
    "### Проверка назначения тяговых плеч локомотивам в соответствии с сериями [ToC](#toc)"
   ]
  },
  {
   "cell_type": "code",
   "execution_count": 104,
   "metadata": {
    "collapsed": true
   },
   "outputs": [],
   "source": [
    "add_header('Проверка назначения тяговых плеч локомотивам в соответствии с сериями', h=3, p=False)"
   ]
  },
  {
   "cell_type": "code",
   "execution_count": 105,
   "metadata": {
    "collapsed": false
   },
   "outputs": [],
   "source": [
    "def func(df, stations, st):    \n",
    "    a = links.loc[(links.st_from_name.isin(st))].st_from_name.value_counts()\n",
    "    b = links.loc[(links.st_from_name.isin(st)) & (links.st_to_name.isin(st))].st_from_name.value_counts()\n",
    "    c = a.to_frame().join(b, rsuffix='_reg')\n",
    "    c['delta'] = c.st_from_name - c.st_from_name_reg    \n",
    "    d = c.join(stations[['name', 'norm_time']].drop_duplicates().set_index('name'), how='right')\n",
    "    e = d.loc[((d.delta > 0) | (d.st_from_name == 1))]\n",
    "    return sorted(e.index.values)\n",
    "\n",
    "add_info(links)\n",
    "loco_info['regions_eval'] = loco_info.regions.apply(literal_eval)\n",
    "stations_regs = stations.groupby('station').loco_region.apply(lambda x: x.values)\n",
    "loco_info['ser_name'] = loco_info.series.map(loco_series.set_index('ser_id').ser_name)\n",
    "reg_st = stations.groupby('loco_region')['name'].unique().to_frame()\n",
    "reg_st['short_name'] = reg_st['name'].apply(lambda x: func(links, stations, x))\n",
    "reg_st.columns = ['stations', 'reg_name']\n",
    "reg_borders = pd.read_csv(FOLDER + 'mandatory/loco_reg_borders.csv', encoding='utf-8-sig')\n",
    "bord = reg_borders.station.values\n",
    "reg_st['short_name'] = reg_st.reg_name.apply(lambda x: np.intersect1d(x, bord) if len(np.intersect1d(x, bord)) > 1 else [])\n",
    "big_borders = ['МАРИИНСК', 'БОРЗЯ', 'КАРЫМСКАЯ', 'ХАБАРОВСК II', 'МЕЖДУРЕЧЕНСК', 'ТАКСИМО', 'КОМСОМОЛЬСК-НА-АМУРЕ']\n",
    "reg_st['short_name'] = reg_st.short_name.apply(lambda x: np.intersect1d(x, big_borders) if len(x) > 2 else x)\n",
    "pd.set_option('display.max_colwidth', 60)\n",
    "#print(reg_st[['short_name']].to_string())\n",
    "#reg_st.ix[2002119307].reg_name"
   ]
  },
  {
   "cell_type": "code",
   "execution_count": 106,
   "metadata": {
    "collapsed": false
   },
   "outputs": [
    {
     "name": "stdout",
     "output_type": "stream",
     "text": [
      "     region                             reg_name_str                                 ser_name      ser_type  loco\n",
      " 2002119299                     ['БОРЗЯ' 'МАРИИНСК']  [ВЛ85, ВЛ80Р, 3ЭС5К, 2ЭС5К, ВЛ80С, В...  [Электровоз]   629\n",
      " 2002119294             ['КАРЫМСКАЯ' 'ХАБАРОВСК II']                    [3ЭС5К, 2ЭС5К, ВЛ80С]  [Электровоз]   564\n",
      " 2002119320           ['СМОЛЯНИНОВО' 'ХАБАРОВСК II']                    [3ЭС5К, 2ЭС5К, ВЛ80С]  [Электровоз]   220\n",
      " 2002119301               ['МЕЖДУРЕЧЕНСК' 'ТАКСИМО']  [ВЛ80ТК, 3ЭС5К, 2ЭС5К, ВЛ80С, ВЛ80Т,...  [Электровоз]   202\n",
      " 2002119296  ['КОМСОМОЛЬСК-НА-АМУРЕ' 'СОВЕТСКАЯ Г...  [3ТЭ10МК, 3ТЭ10УК, 2ТЭ10МК, 2ТЭ10М, ...    [Тепловоз]   113\n",
      " 2002119317                  ['СКОВОРОДИНО' 'ТЫНДА']  [2ТЭ10М, 2ТЭ25А, 3ТЭ10МК, 2ТЭ10МК, 3...    [Тепловоз]    93\n",
      " 2002119305            ['ИЗВЕСТКОВАЯ' 'НОВЫЙ УРГАЛ']  [3ТЭ10МК, 3ТЭ10УК, 2ТЭ10МК, 2ТЭ10М, ...    [Тепловоз]    68\n",
      " 2002119312      ['НАХОДКА-ВОСТОЧНАЯ' 'СМОЛЯНИНОВО']                           [2ЭС5К, 3ЭС5К]  [Электровоз]    62\n",
      " 2002119303                      ['ТАКСИМО' 'ТЫНДА']  [2ТЭ10МК, 2ТЭ25А, 3ТЭ10МК, 2ТЭ10УК, ...    [Тепловоз]    56\n",
      " 2002119292            ['ГРОДЕКОВО (КИТАЙ)' 'ХАСАН']  [2ТЭ10МК, 3ТЭ10МК, 3ТЭ10М, 2ТЭ10УК, ...    [Тепловоз]    26\n",
      " 2002119288                  ['БОРЗЯ' 'ЗАБАЙКАЛЬСК']  [2ТЭ10М, 2ТЭ10В, 3ТЭ10УК, 2ТЭ10МК, 3...    [Тепловоз]    19\n",
      " 2002119286               ['АЧИНСК I' 'ЛЕСОСИБИРСК']                 [2ТЭ10У, 2ТЭ10М, 2ТЭ10В]    [Тепловоз]    17\n",
      " 2002119318                    ['НАУШКИ' 'УЛАН-УДЭ']                [2ТЭ10МК, 2ТЭ10У, 2ТЭ10В]    [Тепловоз]    11\n",
      " 2002119310         ['НОВОКАЧАЛИНСК' 'НОВОЧУГУЕВКА']                [2ТЭ10М, 2ТЭ10В, 2ТЭ10МК]    [Тепловоз]     9\n",
      " 2002119308                    ['КАРАБУЛА' 'РЕШОТЫ']                         [2ТЭ10В, 2ТЭ10М]    [Тепловоз]     3\n",
      " 2002119314                                       []                                 [ВЛ80СК]  [Электровоз]     2\n",
      " 2002119322                             ['МАРИИНСК']                                 [ВЛ80СК]  [Электровоз]     2\n",
      " 2002119287             ['БЕЛОГОРСК' 'БЛАГОВЕЩЕНСК']                                 [2ТЭ10В]    [Тепловоз]     1\n"
     ]
    }
   ],
   "source": [
    "def save_to_excel(df, filename=FOLDER + 'reg_ser.xlsx'):    \n",
    "    df.to_excel(filename)\n",
    "    print('Excel file %s created' % filename)\n",
    "\n",
    "loco_info['ser_name'] = loco_info.series.map(loco_series.set_index('ser_id').ser_name)\n",
    "loco_info['ser_desc'] = loco_info.series.map(loco_series.set_index('ser_id').ser_desc)\n",
    "loco_info['ser_type'] = loco_info.series.map(loco_series.set_index('ser_id').ser_type)\n",
    "loco_info_regs['number'] = loco_info.loco.map(loco_info.drop_duplicates('loco').set_index('loco').number)\n",
    "loco_info_regs['reg_name'] = loco_info_regs.region.map(reg_st.short_name)\n",
    "loco_info_regs['ser_name'] = loco_info_regs.loco.map(loco_info.set_index('loco').ser_name)\n",
    "loco_info_regs['ser_type'] = loco_info_regs.loco.map(loco_info.set_index('loco').ser_type)\n",
    "loco_info_regs['reg_name_str'] = loco_info_regs.reg_name.apply(str)\n",
    "loco_info_regs['ltype'] = loco_info_regs.loco.map(loco_info.set_index('loco').ltype)\n",
    "loco_info_regs.sort_values(['ser_name', 'reg_name_str'])[['loco', 'ser_name', 'reg_name']].set_index('loco')\\\n",
    "                .to_excel(FOLDER + 'ans.xlsx')\n",
    "a = loco_info_regs.groupby('reg_name_str').ser_name.unique()\n",
    "loco_info_regs['ser_desc'] = loco_info_regs.ser_name.map(loco_series.drop_duplicates('ser_name').set_index('ser_name').ser_desc)\n",
    "a = loco_info_regs.loc[(loco_info_regs.ltype == 1) & (loco_info_regs.ser_desc.isin(['Грузовое', 'Грузопассажирское']))]\\\n",
    "            .groupby(['region', 'reg_name_str']).ser_name.unique().to_frame()\n",
    "b = loco_info_regs.loc[(loco_info_regs.ltype == 1) & (loco_info_regs.ser_desc.isin(['Грузовое', 'Грузопассажирское']))]\\\n",
    "            .groupby(['region', 'reg_name_str']).ser_type.unique().to_frame()\n",
    "c = a.join(b)\n",
    "d = c.join(loco_info_regs.loc[loco_info_regs.ltype == 1].groupby(['region', 'reg_name_str']).loco.count())\n",
    "#print('Total locos:', loco_info.loco.drop_duplicates().count())\n",
    "#print('Freight locos:', loco_info.loc[loco_info.ser_desc.isin(['Грузовое', 'Грузопассажирское'])].loco.drop_duplicates().count())\n",
    "#print('Locos of type = 1:', loco_info[loco_info.ltype == 1].loco.drop_duplicates().count())\n",
    "pd.set_option('display.max_colwidth', 40)\n",
    "add_line(d.reset_index().sort_values('loco', ascending=False))\n",
    "#save_to_excel(d)"
   ]
  },
  {
   "cell_type": "code",
   "execution_count": 107,
   "metadata": {
    "collapsed": false
   },
   "outputs": [],
   "source": [
    "reg_ser = d.reset_index()[['region', 'ser_type']]"
   ]
  },
  {
   "cell_type": "markdown",
   "metadata": {},
   "source": [
    "<a id='correct_reg_plan'></a>\n",
    "### Проверка выезда локомотивов за пределы своих тяговых плеч [ToC](#toc)"
   ]
  },
  {
   "cell_type": "code",
   "execution_count": 108,
   "metadata": {
    "collapsed": true
   },
   "outputs": [],
   "source": [
    "add_header('Проверка выезда локомотивов за пределы своих тяговых плеч', h=3, p=False)"
   ]
  },
  {
   "cell_type": "markdown",
   "metadata": {},
   "source": [
    "#### Добавляем тяговое плечо в таблицу линков"
   ]
  },
  {
   "cell_type": "code",
   "execution_count": 109,
   "metadata": {
    "collapsed": false
   },
   "outputs": [],
   "source": [
    "stations['regions'] = stations.station.map(stations.groupby('station').loco_region.unique())\n",
    "stations_unique = stations.drop_duplicates('station').set_index('station')\n",
    "links['st_from_regs'] = links.st_from.map(stations_unique.regions)\n",
    "links['st_to_regs'] = links.st_to.map(stations_unique.regions)\n",
    "links['regs'] = links.st_from_regs.combine(links.st_to_regs, np.intersect1d)\n",
    "links['link'] = list(zip(links.st_from, links.st_to))\n",
    "regs = reg_st.reset_index()\n",
    "links['reg_name'] = links.regs.apply(lambda x: regs[regs.loco_region.isin(x)].short_name.values)"
   ]
  },
  {
   "cell_type": "markdown",
   "metadata": {},
   "source": [
    "#### Добавляем текущее тяговое плечо в каждый участок планов по локомотивам"
   ]
  },
  {
   "cell_type": "code",
   "execution_count": 110,
   "metadata": {
    "collapsed": false
   },
   "outputs": [],
   "source": [
    "loco_plan['curr_reg'] = loco_plan.link.map(links.drop_duplicates('link').set_index('link').regs)\n",
    "loco_plan['curr_reg_name'] = loco_plan.link.map(links.drop_duplicates('link').set_index('link').reg_name)\n",
    "loco_plan['regions'] = loco_plan.loco.map(loco_info.set_index('loco').regions_eval)\n",
    "loco_info['reg_names'] = loco_info.regions_eval.apply(lambda x: \\\n",
    "                                                regs[regs.loco_region.isin([int(i) for i in x if i != ''])].short_name.values)\n",
    "loco_plan['reg_names'] = loco_plan.loco.map(loco_info.set_index('loco').reg_names)"
   ]
  },
  {
   "cell_type": "code",
   "execution_count": 111,
   "metadata": {
    "collapsed": false
   },
   "outputs": [
    {
     "data": {
      "text/html": [
       "<div>\n",
       "<table border=\"1\" class=\"dataframe\">\n",
       "  <thead>\n",
       "    <tr style=\"text-align: right;\">\n",
       "      <th></th>\n",
       "      <th>loco</th>\n",
       "      <th>number</th>\n",
       "      <th>regions</th>\n",
       "      <th>regions_eval</th>\n",
       "    </tr>\n",
       "  </thead>\n",
       "  <tbody>\n",
       "    <tr>\n",
       "      <th>683</th>\n",
       "      <td>200200088216</td>\n",
       "      <td>206</td>\n",
       "      <td>['']</td>\n",
       "      <td>[]</td>\n",
       "    </tr>\n",
       "  </tbody>\n",
       "</table>\n",
       "</div>"
      ],
      "text/plain": [
       "             loco  number regions regions_eval\n",
       "683  200200088216     206    ['']           []"
      ]
     },
     "execution_count": 111,
     "metadata": {},
     "output_type": "execute_result"
    }
   ],
   "source": [
    "loco_info[loco_info.regions.apply(lambda x: len(x) < 5)][['loco', 'number', 'regions', 'regions_eval']]"
   ]
  },
  {
   "cell_type": "markdown",
   "metadata": {},
   "source": [
    "#### Вычисляем, есть у локомотива текущее тяговое плечо в списке разрешенных"
   ]
  },
  {
   "cell_type": "code",
   "execution_count": 112,
   "metadata": {
    "collapsed": false
   },
   "outputs": [],
   "source": [
    "loco_plan['ok_reg'] = loco_plan.curr_reg.combine(loco_plan.regions, np.intersect1d).apply(len) > 0"
   ]
  },
  {
   "cell_type": "markdown",
   "metadata": {},
   "source": [
    "#### Вычисляем тяговое плечо на исходном местоположении локомотива"
   ]
  },
  {
   "cell_type": "code",
   "execution_count": 113,
   "metadata": {
    "collapsed": false
   },
   "outputs": [],
   "source": [
    "def get_current_region(row):\n",
    "    if row.st_from == '-1':        \n",
    "        a = links[links.st_from == row.oper_location].regs.values\n",
    "    else:\n",
    "        a = links[(links.st_from == row.st_from) & (links.st_to == row.st_to)].regs.values\n",
    "    return list(np.concatenate(a) if len(a) > 0 else [])\n",
    "        \n",
    "loco_info['location'] = list(zip(loco_info.oper_location, loco_info.st_from, loco_info.st_to))\n",
    "loco_info['curr_reg'] = loco_info.apply(lambda row: get_current_region(row), axis=1)"
   ]
  },
  {
   "cell_type": "markdown",
   "metadata": {},
   "source": [
    "#### Вычисляем, находится ли локомотив на своем тяговом плече на начало планирования"
   ]
  },
  {
   "cell_type": "code",
   "execution_count": 114,
   "metadata": {
    "collapsed": true
   },
   "outputs": [],
   "source": [
    "loco_info['ok_reg'] = loco_info.curr_reg.combine(loco_info.regions_eval, np.intersect1d).apply(len) > 0\n",
    "loco_plan['info_ok_reg'] = loco_plan.loco.map(loco_info.drop_duplicates('loco').set_index('loco').ok_reg)"
   ]
  },
  {
   "cell_type": "markdown",
   "metadata": {},
   "source": [
    "#### Составляем список локомотивов, выезжающих за пределы своих ТП в процессе планирования"
   ]
  },
  {
   "cell_type": "code",
   "execution_count": 115,
   "metadata": {
    "collapsed": false
   },
   "outputs": [
    {
     "name": "stdout",
     "output_type": "stream",
     "text": [
      "Всего 0 локомотивов, выезжающих за пределы своих тяговых плеч в процессе планирования:\n",
      "- 0 следуют резервом;\n",
      "- 0 с поездами.\n"
     ]
    }
   ],
   "source": [
    "loco_out_of_regs = loco_plan[(loco_plan.curr_reg_name.isnull() == False) \n",
    "                             & (loco_plan.ok_reg == False) & (loco_plan.info_ok_reg == True)]\n",
    "cols = ['loco', 'ser_name', 'reg_names', 'st_from_name', 'st_to_name', 'train', 'state', 'loc_name']\n",
    "add_line('Всего %d локомотивов, выезжающих за пределы своих тяговых плеч в процессе планирования:' \n",
    "           % loco_out_of_regs.loco.drop_duplicates().count())\n",
    "add_line('- %d следуют резервом;' % (loco_out_of_regs[loco_out_of_regs.state == 0].loco.drop_duplicates().count()))\n",
    "add_line('- %d с поездами.' % (loco_out_of_regs[loco_out_of_regs.state == 1].loco.drop_duplicates().count()))\n",
    "\n",
    "pd.set_option('display.max_colwidth', 40)\n",
    "states = sorted(loco_out_of_regs.state.unique())\n",
    "for s in states:\n",
    "    add_header('\\nПримеры локомотивов в состоянии %d за пределами своих тяговых плеч:' % s)\n",
    "    add_line(loco_out_of_regs[loco_out_of_regs.state == s].drop_duplicates('loco')[cols].head(5))"
   ]
  },
  {
   "cell_type": "markdown",
   "metadata": {},
   "source": [
    "<a id='bad_regs_loco_info'></a>\n",
    "### Локомотивы на чужих тяговых плечах на начало планирования [ToC](#toc)"
   ]
  },
  {
   "cell_type": "code",
   "execution_count": 116,
   "metadata": {
    "collapsed": true
   },
   "outputs": [],
   "source": [
    "add_header('Локомотивы на чужих тяговых плечах на начало планирования', h=3, p=False)"
   ]
  },
  {
   "cell_type": "code",
   "execution_count": 117,
   "metadata": {
    "collapsed": false
   },
   "outputs": [
    {
     "name": "stdout",
     "output_type": "stream",
     "text": [
      "Всего 154 локомотивов на чужих тяговых плечах на начало планирования\n",
      "\n",
      "Распределение по сериям (показаны первые 5):\n",
      "3ТЭ10МК    35\n",
      "2ТЭ10МК    24\n",
      "3ЭС5К      23\n",
      "2ТЭ10М     15\n",
      "ВЛ80Р      12\n",
      "\n",
      "Распределение по тяговым плечам локомотивов (показаны первые 5):\n",
      "[[СКОВОРОДИНО, ТЫНДА]]         42\n",
      "[[КАРЫМСКАЯ, ХАБАРОВСК II]]    23\n",
      "[[БОРЗЯ, МАРИИНСК]]            17\n",
      "[[МЕЖДУРЕЧЕНСК, ТАКСИМО]]      10\n",
      "[[АЧИНСК I, ЛЕСОСИБИРСК]]       9\n",
      "\n",
      "Примеры локомотивов:\n",
      "         loco ser_name                              loc_name                                reg_names\n",
      " 200200067889   2ТЭ10М  ЯСНОГОРСК-ЗАБАЙКАЛЬСКИЙ - ШАХТЕРСКАЯ                   [[БОРЗЯ, ЗАБАЙКАЛЬСК]]\n",
      " 200200095807  3ТЭ10МК                      УРГАЛ I - СОЛОНИ             [[ИЗВЕСТКОВАЯ, НОВЫЙ УРГАЛ]]\n",
      " 200200071317   ВЛ80ТК                   ТАЙШЕТ - БАЙРОНОВКА                [[МЕЖДУРЕЧЕНСК, ТАКСИМО]]\n",
      " 200200075642  3ТЭ10УК                     СУЛУК - ПОСТЫШЕВО  [[КОМСОМОЛЬСК-НА-АМУРЕ, СОВЕТСКАЯ ГА...\n",
      " 200200073817  3ТЭ10МК               ВЕРХНЕЗЕЙСК - ФЕВРАЛЬСК                   [[СКОВОРОДИНО, ТЫНДА]]\n",
      " 200200084409    3ЭС5К                                   NaN              [[КАРЫМСКАЯ, ХАБАРОВСК II]]\n",
      " 200200079231  3ТЭ10МК      ЭВОРОН - КОМСОМОЛЬСК-НА-АМУРЕ II  [[КОМСОМОЛЬСК-НА-АМУРЕ, СОВЕТСКАЯ ГА...\n",
      " 200200062628  3ТЭ10МК               ФЕВРАЛЬСК - НОВЫЙ УРГАЛ                   [[СКОВОРОДИНО, ТЫНДА]]\n",
      " 200200093441   2ТЭ10М              ОРОСИТЕЛЬНЫЙ - ЕРБИНСКАЯ                [[АЧИНСК I, ЛЕСОСИБИРСК]]\n",
      " 200200101887   ВЛ80ТК                        ТУЛУН - УДА II                [[МЕЖДУРЕЧЕНСК, ТАКСИМО]]\n",
      " 200200039490   2ТЭ10В                 СКОВОРОДИНО - ГОРЕЛЫЙ                   [[БОРЗЯ, ЗАБАЙКАЛЬСК]]\n",
      " 200200091189   2ТЭ10М               ВЕРХНЕЗЕЙСК - ФЕВРАЛЬСК                   [[СКОВОРОДИНО, ТЫНДА]]\n",
      " 200200100097   ВЛ80ТК                   ТАЙШЕТ - БАЙРОНОВКА                [[МЕЖДУРЕЧЕНСК, ТАКСИМО]]\n",
      " 200200101765    3ЭС5К       ШИЛКА-ТОВАРНАЯ - ШИЛКА-ТОВАРНАЯ              [[КАРЫМСКАЯ, ХАБАРОВСК II]]\n",
      " 200200100941  3ТЭ10МК                         МОНИ - ЭВОРОН  [[КОМСОМОЛЬСК-НА-АМУРЕ, СОВЕТСКАЯ ГА...\n",
      " 200205699183    3ЭС5К                                   NaN              [[КАРЫМСКАЯ, ХАБАРОВСК II]]\n",
      " 200200098174  3ТЭ10УК                     ПОСТЫШЕВО - СУЛУК  [[КОМСОМОЛЬСК-НА-АМУРЕ, СОВЕТСКАЯ ГА...\n",
      " 200200086739    ВЛ80Р                  ВИХОРЕВКА - МОРГУДОН                      [[БОРЗЯ, МАРИИНСК]]\n",
      " 200200069142  2ТЭ10МК               ФЕВРАЛЬСК - ВЕРХНЕЗЕЙСК                   [[СКОВОРОДИНО, ТЫНДА]]\n",
      " 200208841338    3ЭС5К                                   NaN              [[КАРЫМСКАЯ, ХАБАРОВСК II]]\n"
     ]
    }
   ],
   "source": [
    "cols = ['loco', 'ser_name', 'loc_name', 'reg_names']\n",
    "bad_regs_loco_info = loco_info[(loco_info.ltype == 1) & (loco_info.ok_reg == False)]\n",
    "add_header('Всего %d локомотивов на чужих тяговых плечах на начало планирования' % bad_regs_loco_info.loco.count())\n",
    "add_header('\\nРаспределение по сериям (показаны первые 5):')\n",
    "add_line(bad_regs_loco_info[cols].ser_name.value_counts().head())\n",
    "add_header('\\nРаспределение по тяговым плечам локомотивов (показаны первые 5):')\n",
    "add_line(bad_regs_loco_info[cols].reg_names.value_counts().head())\n",
    "add_header('\\nПримеры локомотивов:')\n",
    "add_line(bad_regs_loco_info[cols].head(20))"
   ]
  },
  {
   "cell_type": "markdown",
   "metadata": {},
   "source": [
    "<a =id='st_to2'></a>\n",
    "## Проверка пунктов проведения ТО-2 [ToC](#toc)"
   ]
  },
  {
   "cell_type": "code",
   "execution_count": 118,
   "metadata": {
    "collapsed": true
   },
   "outputs": [],
   "source": [
    "add_header('Проверка планирования ТО-2', h=2, p=False)"
   ]
  },
  {
   "cell_type": "markdown",
   "metadata": {},
   "source": [
    "### Анализ среднего времени на ТО"
   ]
  },
  {
   "cell_type": "code",
   "execution_count": 119,
   "metadata": {
    "collapsed": false
   },
   "outputs": [
    {
     "name": "stdout",
     "output_type": "stream",
     "text": [
      "Пункты проведения ТО-2 во входных данных:\n",
      "               st_name  dur_h\n",
      "                АБАКАН   0.98\n",
      "               БОГОТОЛ   0.95\n",
      "             ВИХОРЕВКА   0.90\n",
      "                  ЗИМА   1.00\n",
      "              ИЛАНСКАЯ   1.01\n",
      " ИРКУТСК-СОРТИРОВОЧНЫЙ   0.91\n",
      "  КОМСОМОЛЬСК-НА-АМУРЕ   1.08\n",
      "             МАГДАГАЧИ   0.90\n",
      "           НИЖНЕУДИНСК   0.90\n",
      "            НОВАЯ ЧАРА   1.08\n",
      "           НОВЫЙ УРГАЛ   1.08\n",
      "       СЕВЕРОБАЙКАЛЬСК   0.90\n",
      "           СМОЛЯНИНОВО   0.90\n",
      "                 ТЫНДА   1.08\n",
      "                  УЖУР   1.01\n",
      "              УЛАН-УДЭ   1.00\n",
      "                ЧИТА I   0.91\n",
      "Медианное время проведения ТО-2: 0.98 часа\n"
     ]
    }
   ],
   "source": [
    "to2_type = 2001889869\n",
    "service = pd.read_csv(FOLDER + 'service.csv', converters={'station':str})\n",
    "service['st_name'] = service.station.map(st_names.name)\n",
    "service['dur_h'] = np.round((service.duration / 3600), 2)\n",
    "to2 = service[service.serv_type == to2_type].drop_duplicates()\n",
    "to2_dur_median = to2.dur_h.median()\n",
    "add_header('Пункты проведения ТО-2 во входных данных:')\n",
    "add_line(to2[['st_name', 'dur_h']].sort_values('st_name'))\n",
    "add_line('Медианное время проведения ТО-2: %.2f часа' % to2_dur_median)"
   ]
  },
  {
   "cell_type": "code",
   "execution_count": 120,
   "metadata": {
    "collapsed": false
   },
   "outputs": [
    {
     "name": "stdout",
     "output_type": "stream",
     "text": [
      "Проведение ТО запланировано на 45 разных станциях (показаны первые 10):\n",
      "                              index  num  time_h\n",
      "                       ХАБАРОВСК II   85    3.50\n",
      "                          КАРЫМСКАЯ   74    3.50\n",
      "              ИРКУТСК-СОРТИРОВОЧНЫЙ   39    3.50\n",
      "                              ТЫНДА   35    3.20\n",
      "                          БЕЛОГОРСК   31    3.50\n",
      "                           УЛАН-УДЭ   28    3.35\n",
      "                             ТАЙШЕТ   26    3.25\n",
      "                        СМОЛЯНИНОВО   26    3.50\n",
      "               КРАСНОЯРСК-ВОСТОЧНЫЙ   24    3.00\n",
      "                              БОРЗЯ   19    3.00\n",
      " КОМСОМОЛЬСК-НА-АМУРЕ-СОРТИРОВОЧНЫЙ   18    3.50\n",
      "                              УРУША   15    3.50\n",
      "                             ВАНИНО   15    3.00\n",
      "                       МЕЖДУРЕЧЕНСК   14    3.00\n",
      "                             ЧИТА I   13    3.50\n",
      "                КОРШУНИХА-АНГАРСКАЯ    9    3.50\n",
      "                           САЯНСКАЯ    9    3.00\n",
      "                          УССУРИЙСК    7    3.20\n",
      "                            ТАКСИМО    7    3.50\n",
      "                           АЧИНСК I    7    3.00\n"
     ]
    }
   ],
   "source": [
    "loco_plan['tt'] = loco_plan.time_end - loco_plan.time_start\n",
    "plan_to = loco_plan[loco_plan.state == 4][['loco', 'st_from_name', 'st_to_name', 'time_start_norm', 'time_end_norm', 'tt']]\n",
    "add_header('Проведение ТО запланировано на %d разных станциях (показаны первые 10):' \n",
    "           % plan_to.st_from_name.drop_duplicates().count())\n",
    "stats_plan_to = plan_to.st_from_name.value_counts().to_frame().join(plan_to.groupby('st_from_name').tt.median())\n",
    "stats_plan_to.columns = ['num', 'time']\n",
    "stats_plan_to['time_h'] = np.round((stats_plan_to.time / 3600), 2)\n",
    "add_line(stats_plan_to[['num', 'time_h']].reset_index().head(20))"
   ]
  },
  {
   "cell_type": "markdown",
   "metadata": {},
   "source": [
    "### Анализ количества запланированных ТО"
   ]
  },
  {
   "cell_type": "code",
   "execution_count": 121,
   "metadata": {
    "collapsed": false
   },
   "outputs": [
    {
     "name": "stdout",
     "output_type": "stream",
     "text": [
      "Слишком мало ТО запланировано (ожидаемое количество = 437, запланированное = 167)\n",
      "Примеры локомотивов, для которых ожидалось ТО:\n",
      "         loco ser_name                  loc_name    tts\n",
      " 200200060747   2ТЭ10В  НОВОБИРЮСИНСКАЯ - РЕШОТЫ   3600\n",
      " 200200038207   2ТЭ10М             КРАСНАЯ СОПКА  28800\n",
      "Пример плана одного из таких локомотивов:\n",
      "         loco ser_name     st_from_name st_to_name time_start_norm  time_end_norm  state         train   tts\n",
      " 200200060747   2ТЭ10В  НОВОБИРЮСИНСКАЯ     РЕШОТЫ   Aug 03, 12:10  Aug 03, 14:50      1  230204539633  3600\n"
     ]
    }
   ],
   "source": [
    "to = loco_plan[(loco_plan.state == 4) & (loco_plan.time_start < current_time + 24 * 3600)]\n",
    "to_n = loco_plan[(loco_plan.state == 4) & (loco_plan.time_start < current_time + 24 * 3600)].loco.count()\n",
    "to_n_expected = loco_info[loco_info.ltype == 1].loco.count() / 4\n",
    "p = to_n / to_n_expected\n",
    "if p < 0.8:\n",
    "    add_header('Слишком мало ТО запланировано (ожидаемое количество = %d, запланированное = %d)'\n",
    "              % (to_n_expected, to_n))\n",
    "    to = loco_plan[(loco_plan.state == 4)]\n",
    "    no_to = loco_info[(loco_info.ltype == 1) & (loco_info.tts < 10 * 3600)\n",
    "                     & (loco_info.loco.isin(to.loco) == False)\n",
    "                     & (loco_info.loco.isin(loco_plan.loco))].sort_values('tts')[['loco', 'ser_name', 'loc_name', 'tts']]\n",
    "    add_header('Примеры локомотивов, для которых ожидалось ТО:')\n",
    "    add_line(no_to.head(10))\n",
    "    loco_id = no_to.iloc[0].loco\n",
    "    cols = ['loco', 'ser_name', 'st_from_name', 'st_to_name', 'time_start_norm', 'time_end_norm', 'state', 'train', 'tts']\n",
    "    loco_plan['ser_name'] = loco_plan.loco.map(loco_info.set_index('loco').ser_name)\n",
    "    add_header('Пример плана одного из таких локомотивов:')\n",
    "    add_line(loco_plan[loco_plan.loco == loco_id][cols])\n",
    "else:\n",
    "    add_header('Количество запланированных ТО соответствует ожидаемому')"
   ]
  },
  {
   "cell_type": "markdown",
   "metadata": {},
   "source": [
    "<a =id='tonnage'></a>\n",
    "## Проверка подвязки на соответствие весовым нормам [ToC](#toc)"
   ]
  },
  {
   "cell_type": "code",
   "execution_count": 122,
   "metadata": {
    "collapsed": false
   },
   "outputs": [],
   "source": [
    "add_header('Проверка подвязки на соответствие весовым нормам', h=2, p=False)"
   ]
  },
  {
   "cell_type": "markdown",
   "metadata": {},
   "source": [
    "### Маска времени"
   ]
  },
  {
   "cell_type": "code",
   "execution_count": 123,
   "metadata": {
    "collapsed": false
   },
   "outputs": [],
   "source": [
    "#Ниже надо раскомментировать соответствующую строчку для нужного анализа\n",
    "\n",
    "def time_mask(df):\n",
    "    # Маска для анализа поездов, которые запланировал планировщик (отправленных после начала планирования)\n",
    "    return df.time_start >= current_time\n",
    "    # Маска для анализа позедов, отправленных до начала планирования (следующих по факту)\n",
    "    #time_mask = overweight.time_start < current_time"
   ]
  },
  {
   "cell_type": "markdown",
   "metadata": {},
   "source": [
    "### Проверка соответствия результатов планирования справочнику весовых норм"
   ]
  },
  {
   "cell_type": "code",
   "execution_count": 124,
   "metadata": {
    "collapsed": false
   },
   "outputs": [
    {
     "name": "stdout",
     "output_type": "stream",
     "text": [
      "Всего 120 подвязок локомотивов к поезду с нарушением весовых норм (показаны первые 10):\n",
      "         loco ser_name    st_from_name st_to_name time_start_norm  max_weight  train_weight  overweight         train\n",
      " 200200039896    3ЭС5К           ТОРЕЯ      ТУРМА   Aug 03, 16:24        3000          5992        2992  200020805781\n",
      " 200200081531    3ЭС5К           ТУРМА      ТОРЕЯ   Aug 03, 19:30        3000          5990        2990  200020772461\n",
      " 200200091935    3ЭС5К  ЛЕНА-ВОСТОЧНАЯ  ЧУДНИЧНЫЙ   Aug 03, 14:16        3000          5866        2866  230204806445\n",
      " 200200099741    3ЭС5К         ТАКОВКА     НЕБЕЛЬ   Aug 03, 15:04        3000          5741        2741  230204399806\n",
      " 200200070397    3ЭС5К  ЛЕНА-ВОСТОЧНАЯ  ЧУДНИЧНЫЙ   Aug 03, 13:50        3000          5357        2357  230204625741\n",
      " 200200105236   ВЛ80ТК           ТУРМА      ТОРЕЯ   Aug 03, 22:21        3000          5152        2152  230204278551\n",
      " 200200139035    3ЭС5К  КОРШУНИХА-А...  ХРЕБТОВАЯ   Aug 03, 21:55        3000          4220        1220  200020744423\n",
      " 200200086792    3ЭС5К           ТОРЕЯ      ТУРМА   Aug 03, 15:02        3000          4210        1210  200020689228\n",
      " 200200089593    ВЛ80Р           ХИЛОК     МОГЗОН   Aug 04, 09:55        4500          5457         957  200020659112\n",
      " 200200101791    ВЛ80Р        ТУРГУТУЙ     ЛЕСНАЯ   Aug 05, 14:55        5500          6249         749  230204707270\n",
      "\n",
      "Всего 120 подвязок локомотивов к поездам (за исключением сдвоенных) с нарушением весовых норм (показаны первые 10):\n",
      "         loco ser_name    st_from_name st_to_name time_start_norm  max_weight  train_weight  overweight         train\n",
      " 200200039896    3ЭС5К           ТОРЕЯ      ТУРМА   Aug 03, 16:24        3000          5992        2992  200020805781\n",
      " 200200081531    3ЭС5К           ТУРМА      ТОРЕЯ   Aug 03, 19:30        3000          5990        2990  200020772461\n",
      " 200200091935    3ЭС5К  ЛЕНА-ВОСТОЧНАЯ  ЧУДНИЧНЫЙ   Aug 03, 14:16        3000          5866        2866  230204806445\n",
      " 200200099741    3ЭС5К         ТАКОВКА     НЕБЕЛЬ   Aug 03, 15:04        3000          5741        2741  230204399806\n",
      " 200200070397    3ЭС5К  ЛЕНА-ВОСТОЧНАЯ  ЧУДНИЧНЫЙ   Aug 03, 13:50        3000          5357        2357  230204625741\n",
      " 200200105236   ВЛ80ТК           ТУРМА      ТОРЕЯ   Aug 03, 22:21        3000          5152        2152  230204278551\n",
      " 200200139035    3ЭС5К  КОРШУНИХА-А...  ХРЕБТОВАЯ   Aug 03, 21:55        3000          4220        1220  200020744423\n",
      " 200200086792    3ЭС5К           ТОРЕЯ      ТУРМА   Aug 03, 15:02        3000          4210        1210  200020689228\n",
      " 200200089593    ВЛ80Р           ХИЛОК     МОГЗОН   Aug 04, 09:55        4500          5457         957  200020659112\n",
      " 200200101791    ВЛ80Р        ТУРГУТУЙ     ЛЕСНАЯ   Aug 05, 14:55        5500          6249         749  230204707270\n"
     ]
    }
   ],
   "source": [
    "loco_plan['ser_name'] = loco_plan.series.map(loco_series.set_index('ser_id').ser_name)\n",
    "loco_tonnage = pd.read_csv(FOLDER + 'loco_tonnage.csv', converters={'st_from':str, 'st_to':str})\n",
    "loco_tonnage['link'] = list(zip(loco_tonnage.st_from, loco_tonnage.st_to))\n",
    "loco_tonnage['ssl'] = list(zip(loco_tonnage.series, loco_tonnage.sections, loco_tonnage.link))\n",
    "loco_plan['link'] = list(zip(loco_plan.st_from, loco_plan.st_to))\n",
    "loco_plan['link_name'] = list(zip(loco_plan.st_from_name, loco_plan.st_to_name))\n",
    "loco_plan['ssl'] = list(zip(loco_plan.series, loco_plan.sections, loco_plan.link))\n",
    "loco_plan['max_weight'] = loco_plan.ssl.map(loco_tonnage.groupby('ssl').max_weight.max().to_frame().max_weight)\n",
    "loco_plan['train_weight'] = loco_plan.train.map(train_info.drop_duplicates('train').set_index('train').weight)\n",
    "loco_plan['overweight'] = loco_plan.train_weight - loco_plan.max_weight\n",
    "cols = ['loco', 'ser_name', 'st_from_name', 'st_to_name', 'time_start_norm', 'max_weight', 'train_weight', 'overweight', 'train']\n",
    "overweight = loco_plan[(loco_plan.overweight > 0)].dropna(subset=['max_weight']).drop_duplicates(subset=['loco', 'train'])\n",
    "overweight_plan = overweight[time_mask(overweight)] # <<<<<<<<<<<<<<<<<<<<<<<<<<<<< TIME_MASK -----------------------\n",
    "overweight_n = len(overweight_plan.index)\n",
    "add_header('Всего %d подвязок локомотивов к поезду с нарушением весовых норм (показаны первые 10):' % overweight_n)\n",
    "pd.set_option('display.max_colwidth', 15)\n",
    "add_line(overweight_plan.sort_values('overweight', ascending=False).head(10)[cols])\n",
    "\n",
    "overweight_no_joint = overweight_plan[overweight_plan.train_weight < 10000]\n",
    "add_header('\\nВсего %d подвязок локомотивов к поездам (за исключением сдвоенных) с нарушением весовых норм (показаны первые 10):' \n",
    "      % len(overweight_no_joint.index))\n",
    "add_line(overweight_no_joint.sort_values('overweight', ascending=False).head(10)[cols])"
   ]
  },
  {
   "cell_type": "code",
   "execution_count": 125,
   "metadata": {
    "collapsed": false
   },
   "outputs": [
    {
     "data": {
      "image/png": "[encoded data removed]",
      "text/plain": [
       "<matplotlib.figure.Figure at 0x1b220326ac8>"
      ]
     },
     "metadata": {},
     "output_type": "display_data"
    }
   ],
   "source": [
    "sns.set(style='whitegrid', context='talk')\n",
    "sns.set_color_codes('dark')\n",
    "fig, ax = plt.subplots(nrows=1, ncols=2, figsize=(20,7))\n",
    "sns.distplot(overweight_plan.train_weight, hist=False, color='b', \n",
    "             kde_kws={'shade':True, 'label':'Вес поезда'}, ax=ax[0])\n",
    "sns.distplot(overweight_plan.overweight, hist=False, color='g', \n",
    "             kde_kws={'shade':True, 'label':'Превышение весовой нормы'}, ax=ax[0])\n",
    "sns.distplot(overweight_no_joint.train_weight, hist=False, color='b', \n",
    "             kde_kws={'shade':True, 'label':'Вес поезда'}, ax=ax[1])\n",
    "sns.distplot(overweight_no_joint.overweight, hist=False, color='g', \n",
    "             kde_kws={'shade':True, 'label':'Превышение весовой нормы'}, ax=ax[1])\n",
    "title = 'Для всех поездов'\n",
    "title_nj = 'Без сдвоенных поезов'\n",
    "ax[0].set(title=title, xlabel='Вес поезда')\n",
    "ax[1].set(title=title_nj, xlabel='Вес поезда')\n",
    "ax[0].legend(frameon=True)\n",
    "ax[1].legend(frameon=True)\n",
    "plt.suptitle('Распределение весов поездов, для которых наблюдается нарушение весовых норм', fontsize=20)\n",
    "sns.despine()\n",
    "filename = 'weight_error.png'\n",
    "fig.savefig(REPORT_FOLDER + filename, bbox_inches='tight')\n",
    "add_image(filename)"
   ]
  },
  {
   "cell_type": "code",
   "execution_count": 126,
   "metadata": {
    "collapsed": false
   },
   "outputs": [
    {
     "name": "stdout",
     "output_type": "stream",
     "text": [
      "Распределение нарушений весовых норм по участкам (первые 5):\n",
      "                       index  number  overw_median\n",
      "          (ТУРГУТУЙ, ЛЕСНАЯ)      68         278.5\n",
      "    (МЕЖДУРЕЧЕНСК, БИСКАМЖА)       9          26.0\n",
      "            (БОРЗЯ, ХАРАНОР)       5         241.0\n",
      "              (ТУРМА, ТОРЕЯ)       4        1300.0\n",
      " (ЛЕНА-ВОСТОЧНАЯ, ЧУДНИЧНЫЙ)       3        2357.0\n",
      "\n",
      "Распределение нарушений весовых норм по сериям локомотивов:\n",
      "   index  number  overw_median\n",
      "    ВЛ85      58         269.0\n",
      "   3ЭС5К      25         228.0\n",
      "   ВЛ80Р      12         539.5\n",
      "   ВЛ80С       8         144.0\n",
      "  ВЛ80ТК       7          27.0\n",
      " 3ТЭ10УК       6         234.5\n",
      " 3ТЭ10МК       1          13.0\n",
      "  ВЛ80СК       1          84.0\n",
      "   ВЛ80Т       1          10.0\n",
      "   2ЭС5К       1         140.0\n"
     ]
    }
   ],
   "source": [
    "add_header('Распределение нарушений весовых норм по участкам (первые 5):')\n",
    "a = overweight_no_joint.link_name.value_counts()\n",
    "b = overweight_no_joint.groupby('link_name').overweight.median()\n",
    "overweight_links = a.to_frame().join(b)\n",
    "overweight_links.columns = ['number', 'overw_median']\n",
    "pd.set_option('display.max_colwidth', 50)\n",
    "add_line(overweight_links.reset_index().head())\n",
    "\n",
    "add_header('\\nРаспределение нарушений весовых норм по сериям локомотивов:')\n",
    "a = overweight_no_joint.ser_name.value_counts()\n",
    "b = overweight_no_joint.groupby('ser_name').overweight.median()\n",
    "overweight_ser = a.to_frame().join(b)\n",
    "overweight_ser.columns = ['number', 'overw_median']\n",
    "add_line(overweight_ser.reset_index())"
   ]
  },
  {
   "cell_type": "markdown",
   "metadata": {},
   "source": [
    "<a =id='change'></a>\n",
    "## Проверка смены локомотивов на станциях обязательной смены [ToC](#toc)"
   ]
  },
  {
   "cell_type": "code",
   "execution_count": 127,
   "metadata": {
    "collapsed": true
   },
   "outputs": [],
   "source": [
    "add_header('Проверка смены локомотивов на станциях обязательной смены', h=2, p=False)"
   ]
  },
  {
   "cell_type": "code",
   "execution_count": 128,
   "metadata": {
    "collapsed": false
   },
   "outputs": [
    {
     "name": "stdout",
     "output_type": "stream",
     "text": [
      "Станции смены локомотивов (показаны первые 10):\n",
      "КАРЫМСКАЯ        49\n",
      "СМОЛЯНИНОВО      26\n",
      "СКОВОРОДИНО      11\n",
      "ВОЛОЧАЕВКА II     9\n",
      "ТАЙШЕТ            7\n",
      "БОРЗЯ             6\n",
      "УЛАН-УДЭ          3\n",
      "ХАБАРОВСК II      3\n",
      "СЕЛЬГОН           2\n",
      "ГОРЕЛЫЙ           2\n"
     ]
    }
   ],
   "source": [
    "hor = 24 * 3600\n",
    "cols = ['train', 'st_from_name', 'st_to_name', 'time_start_norm', 'loco', 'train_start', 'loco_start']\n",
    "train_plan['train_start'] = train_plan.train != train_plan.train.shift(1)\n",
    "train_plan['loco_start'] = (train_plan.loco != train_plan.loco.shift(1)) & (train_plan.loco.isnull() == False)\n",
    "loco_changes = train_plan.loc[(train_plan.train_start == False) & (train_plan.loco_start == True) &\n",
    "              (train_plan.time_start < current_time + hor)]\n",
    "add_header('Станции смены локомотивов (показаны первые 10):')\n",
    "add_line(loco_changes.st_from_name.value_counts().head(10))"
   ]
  },
  {
   "cell_type": "code",
   "execution_count": 129,
   "metadata": {
    "collapsed": false
   },
   "outputs": [
    {
     "name": "stdout",
     "output_type": "stream",
     "text": [
      "Станции обязательной смены локомотивов:\n",
      "            st                 other_st\n",
      "     КАРЫМСКАЯ                [УРУЛЬГА]\n",
      "         БОРЗЯ     [ХАРАНОР, ЗУН-ТОРЕЙ]\n",
      "       ТАКСИМО       [КУАНДА, КАЗАНКАН]\n",
      "   СКОВОРОДИНО                  [ШТУРМ]\n",
      "   ИЗВЕСТКОВАЯ                [КУЛЬДУР]\n",
      " ВОЛОЧАЕВКА II                [СЕЛЬГОН]\n",
      "     УССУРИЙСК  [ПРИМОРСКАЯ, ГРОДЕКОВО]\n",
      "\n",
      "Всего 4 поездов, у которых должна быть смена локомотивов на станциях обязательной смены, но она не запланирована:\n",
      "        train st_from_name st_to_name time_start_norm          loco in_route\n",
      " 230204604956    КАРЫМСКАЯ    ТАРСКАЯ   Aug 03, 04:55  200200103162     True\n",
      " 230201192909    КАРЫМСКАЯ    ТАРСКАЯ   Aug 03, 18:55  200200046125     True\n",
      " 230204345056    КАРЫМСКАЯ     ЧИТА I   Aug 04, 04:35  200200051982     True\n",
      " 230204054692    КАРЫМСКАЯ     ЧИТА I   Aug 04, 08:37  200200079988     True\n"
     ]
    }
   ],
   "source": [
    "# Список станций (первый столбец), на которых локомотивы меняются всегда,\n",
    "# если в машруте поезда есть любая из проверочных станций (второй столбец)\n",
    "st_list = [['КАРЫМСКАЯ',['УРУЛЬГА']], ['БОРЗЯ',['ХАРАНОР','ЗУН-ТОРЕЙ']], ['ТАКСИМО', ['КУАНДА','КАЗАНКАН']], \n",
    "           ['СКОВОРОДИНО', ['ШТУРМ']], ['ИЗВЕСТКОВАЯ', ['КУЛЬДУР']], ['ВОЛОЧАЕВКА II', ['СЕЛЬГОН']], \n",
    "           ['УССУРИЙСК', ['ПРИМОРСКАЯ', 'ГРОДЕКОВО']]]\n",
    "df_list = pd.DataFrame(st_list, columns=['st', 'other_st'])\n",
    "pd.set_option('display.max_colwidth', 50)\n",
    "add_header('Станции обязательной смены локомотивов:')\n",
    "add_line(df_list)\n",
    "a = train_plan.groupby('train').st_from_name.unique().to_frame()\n",
    "a.columns = ['route']\n",
    "train_plan['route'] = train_plan.train.map(a.route)\n",
    "# Если проверочная станция находится в маршруте поезда, значит, поезд едет в том направлении, где НАДО менять локомотив\n",
    "train_plan['check_st'] = train_plan.st_from_name.map(df_list.set_index('st').other_st)\n",
    "train_plan['in_route'] = train_plan.route.combine(train_plan.check_st, \\\n",
    "                                                  lambda x, y: not False in [st in x for st in y] if type(y) == list else False)\n",
    "\n",
    "cols = ['train', 'st_from_name', 'st_to_name', 'time_start_norm', 'loco', 'in_route']\n",
    "change_fails = train_plan.loc[(train_plan.time_start < current_time + hor) \n",
    "                              & (train_plan.train_type.isin([2, 9]))\n",
    "                              & (train_plan.train_start == False)\n",
    "                              & (train_plan.loco_start == False)\n",
    "                              & (train_plan.st_from_name.isin(df_list.st))\n",
    "                              & (train_plan.in_route == True)][cols].drop_duplicates().dropna(subset=['loco'])\n",
    "add_header('\\nВсего %d поездов, у которых должна быть смена локомотивов на станциях обязательной смены, но она не запланирована:' \n",
    "      % len(change_fails))\n",
    "add_line(change_fails.sort_values(['st_to_name', 'time_start_norm']))"
   ]
  },
  {
   "cell_type": "markdown",
   "metadata": {},
   "source": [
    "<a =id='res'></a>\n",
    "## Анализ локомотивов резервом [ToC](#toc)"
   ]
  },
  {
   "cell_type": "code",
   "execution_count": 130,
   "metadata": {
    "collapsed": false
   },
   "outputs": [
    {
     "name": "stdout",
     "output_type": "stream",
     "text": [
      "Анализируемый горизонт отправления: 24.00 ч.\n"
     ]
    }
   ],
   "source": [
    "add_header('Анализ локомотивов резервом', h=2, p=False)\n",
    "hor = 24 * 3600\n",
    "add_line('Анализируемый горизонт отправления: %.2f ч.' % (hor / 3600))"
   ]
  },
  {
   "cell_type": "markdown",
   "metadata": {},
   "source": [
    "<a =id='res_nums'></a>\n",
    "### Проверка диапазона номеров для локомотивов резервом [ToC](#toc)"
   ]
  },
  {
   "cell_type": "code",
   "execution_count": 131,
   "metadata": {
    "collapsed": false
   },
   "outputs": [
    {
     "name": "stdout",
     "output_type": "stream",
     "text": [
      "Диапазон номеров поездов для локомотивов резервом: от 4201 до 4898\n"
     ]
    }
   ],
   "source": [
    "train_plan.columns\n",
    "train_plan['train_type'] = train_plan.train.apply(lambda x: int(str(x)[0]))\n",
    "train_plan['res_train_num'] = train_plan.train.apply(lambda x: int(str(x)[-4:]))\n",
    "res_train_nums = train_plan[train_plan.train_type == 8].res_train_num.drop_duplicates()\n",
    "add_line('Диапазон номеров поездов для локомотивов резервом: от %d до %d' % (res_train_nums.min(), res_train_nums.max()))"
   ]
  },
  {
   "cell_type": "markdown",
   "metadata": {},
   "source": [
    "<a =id='res_amount'></a>\n",
    "### Анализ количества отправлений локомотивов резервом по направлениям [ToC](#toc)"
   ]
  },
  {
   "cell_type": "code",
   "execution_count": 132,
   "metadata": {
    "collapsed": false
   },
   "outputs": [
    {
     "name": "stdout",
     "output_type": "stream",
     "text": [
      "Всего отправок локомотивов резервом: 1039\n",
      "Всего локомотивов, для которых есть пересылка резервом: 839\n",
      "\n",
      "Станции, с которых было отправлено больше всего локомотивов резервом (первые 10):\n",
      "ТАЙШЕТ                                45\n",
      "ИРКУТСК-СОРТИРОВОЧНЫЙ                 38\n",
      "БИРА                                  36\n",
      "КАРЫМСКАЯ                             36\n",
      "СМОЛЯНИНОВО                           33\n",
      "ВОЛОЧАЕВКА I                          31\n",
      "МАРИИНСК                              28\n",
      "УССУРИЙСК                             27\n",
      "УЛАН-УДЭ                              25\n",
      "КОМСОМОЛЬСК-НА-АМУРЕ-СОРТИРОВОЧНЫЙ    23\n",
      "\n",
      "Участки планирования, на которых было отправлено больше всего локомотивов резервом (первые 10):\n",
      "st_from_name           st_to_name \n",
      "КАРЫМСКАЯ              ЧИТА I         31\n",
      "ИРКУТСК-СОРТИРОВОЧНЫЙ  БАТАРЕЙНАЯ     30\n",
      "ВОЛОЧАЕВКА I           ТУНГУССКИЙ     28\n",
      "МАРИИНСК               БОГОТОЛ        28\n",
      "БИРА                   ИЗВЕСТКОВАЯ    23\n",
      "ТАЙШЕТ                 ЮРТЫ           21\n",
      "СМОЛЯНИНОВО            НОВОНЕЖИНО     19\n",
      "БОЛЬШОЙ ЛУГ            ГОНЧАРОВО      18\n",
      "УССУРИЙСК              ДУБИНИНСКИЙ    18\n",
      "ЧИТА I                 КАРЫМСКАЯ      15\n",
      "\n",
      "Самые частые маршруты для локомотивов резервом (первые 10):\n",
      "st_from_name  st_to_name_end       \n",
      "ВОЛОЧАЕВКА I  ВОЛОЧАЕВКА II            19\n",
      "БИРА          ИЗВЕСТКОВАЯ              18\n",
      "ЧИТА I        КАРЫМСКАЯ                12\n",
      "ВАНИНО        ВЫСОКОГОРНАЯ             11\n",
      "СМОЛЯНИНОВО   НАХОДКА-ВОСТОЧНАЯ        10\n",
      "БИРА          ХАБАРОВСК II             10\n",
      "ВОЛОЧАЕВКА I  ХАБАРОВСК II              9\n",
      "БОЛЬШОЙ ЛУГ   ИРКУТСК-СОРТИРОВОЧНЫЙ     9\n",
      "ТАЙШЕТ        КРАСНОЯРСК-ВОСТОЧНЫЙ      9\n",
      "              САЯНСКАЯ                  9\n"
     ]
    }
   ],
   "source": [
    "loco_mask = loco_plan.time_start < current_time + hor\n",
    "loco_cols = ['loco', 'st_from_name', 'st_to_name', 'time_start', 'time_end', 'time_start_norm', 'time_end_norm',\n",
    "             'state', 'train', 'res_start', 'res_end']\n",
    "loco_plan['res_start'] = loco_plan.train != loco_plan.train.shift(1)\n",
    "loco_plan['res_end'] = loco_plan.train != loco_plan.train.shift(-1)\n",
    "loco_plan.loc[loco_plan.state == 0, loco_cols]\n",
    "loco_res_start = loco_plan.loc[(loco_plan.res_start == True) &\n",
    "                               (loco_plan.state == 0), loco_cols].sort_values(['loco', 'time_start'])\n",
    "loco_res_end = loco_plan.loc[(loco_plan.res_end == True) \n",
    "                             & (loco_plan.state == 0), loco_cols].sort_values(['loco', 'time_start'])\n",
    "cols = ['loco', 'st_from_name', 'st_to_name', 'st_to_name_end', 'time_start', 'time_start_norm', 'time_end', 'time_end_norm', 'train']\n",
    "loco_res_trips = loco_res_start[['loco', 'st_from_name', 'st_to_name', 'time_start', 'time_start_norm', 'train']].\\\n",
    "                set_index(['loco', 'train']).join(loco_res_end[['loco', 'st_to_name', 'time_end', 'time_end_norm', 'train']].\\\n",
    "                                                  set_index(['loco', 'train']), rsuffix='_end').reset_index()[cols]\n",
    "\n",
    "loco_res_trips_hor = loco_res_trips.loc[loco_res_trips.time_start < current_time + hor]\n",
    "add_line('Всего отправок локомотивов резервом: %d' % loco_res_trips_hor.loco.count())\n",
    "add_line('Всего локомотивов, для которых есть пересылка резервом: %d' % loco_res_trips_hor.loco.drop_duplicates().count())\n",
    "add_header('\\nСтанции, с которых было отправлено больше всего локомотивов резервом (первые 10):')\n",
    "add_line(loco_res_trips_hor.st_from_name.value_counts().head(10))\n",
    "add_header('\\nУчастки планирования, на которых было отправлено больше всего локомотивов резервом (первые 10):')\n",
    "add_line(loco_res_trips_hor.groupby('st_from_name').st_to_name.value_counts().sort_values(ascending=False).head(10))\n",
    "add_header('\\nСамые частые маршруты для локомотивов резервом (первые 10):')\n",
    "add_line(loco_res_trips_hor.groupby('st_from_name').st_to_name_end.value_counts().sort_values(ascending=False).head(10))"
   ]
  },
  {
   "cell_type": "markdown",
   "metadata": {},
   "source": [
    "<a =id='res_before'></a>\n",
    "### Локомотивы резервом до начала планирования [ToC](#toc)"
   ]
  },
  {
   "cell_type": "code",
   "execution_count": 133,
   "metadata": {
    "collapsed": false
   },
   "outputs": [
    {
     "name": "stdout",
     "output_type": "stream",
     "text": [
      "Время начала планирования: Aug 03, 13:30 (1470220240)\n",
      "Всего 0 локомотивов, отправленных резервом до начала планирования (показаны первые 10):\n"
     ]
    }
   ],
   "source": [
    "add_info(links)\n",
    "add_line('Время начала планирования: %s (%d)' % (time.strftime(time_format, time.localtime(current_time)), current_time))\n",
    "loco_res_trips['link_name'] = list(zip(loco_res_trips.st_from_name, loco_res_trips.st_to_name))\n",
    "links['link_name'] = list(zip(links.st_from_name, links.st_to_name))\n",
    "loco_res_trips['dir'] = loco_res_trips.link_name.map(links.drop_duplicates('link_name').set_index('link_name')['dir'])\n",
    "loco_res_trips_hor = loco_res_trips.loc[loco_res_trips.time_start < current_time + hor]\n",
    "    \n",
    "cols = ['loco', 'st_from_name', 'st_to_name_end', 'time_start', 'time_start_norm', 'dir', 'train']\n",
    "res_before_ct = loco_res_trips.loc[loco_res_trips.time_start < current_time, cols]\n",
    "add_header('Всего %d локомотивов, отправленных резервом до начала планирования (показаны первые 10):' % len(res_before_ct.index))\n",
    "if not res_before_ct.empty:\n",
    "    add_line(res_before_ct.sort_values('time_start').head(10))"
   ]
  },
  {
   "cell_type": "markdown",
   "metadata": {},
   "source": [
    "<a =id='res_even'></a>\n",
    "### Локомотивы резервом в четном направлении [ToC](#toc)"
   ]
  },
  {
   "cell_type": "code",
   "execution_count": 134,
   "metadata": {
    "collapsed": false
   },
   "outputs": [
    {
     "name": "stdout",
     "output_type": "stream",
     "text": [
      "Самые частые маршруты для локомотивов резервом в четном направлении (всего 322, показаны первые 10):\n",
      "st_from_name                        st_to_name_end      \n",
      "ВОЛОЧАЕВКА I                        ВОЛОЧАЕВКА II           19\n",
      "ЧИТА I                              КАРЫМСКАЯ               12\n",
      "БИРА                                ХАБАРОВСК II            10\n",
      "СМОЛЯНИНОВО                         НАХОДКА-ВОСТОЧНАЯ       10\n",
      "ВОЛОЧАЕВКА I                        ХАБАРОВСК II             9\n",
      "МАРИИНСК                            КРАСНОЯРСК-ВОСТОЧНЫЙ     8\n",
      "ВОЛОЧАЕВКА II                       ХАБАРОВСК II             8\n",
      "КОМСОМОЛЬСК-НА-АМУРЕ-СОРТИРОВОЧНЫЙ  КОМСОМОЛЬСК-НА-АМУРЕ     5\n",
      "МАРИИНСК                            АЧИНСК I                 5\n",
      "УЛАН-УДЭ                            КАРЫМСКАЯ                5\n",
      "\n",
      "Локомотивы резервом на самом частном маршруте в четном направлении:\n",
      "         loco  st_from_name st_to_name_end  time_start time_start_norm  dir           train\n",
      " 200200103112  ВОЛОЧАЕВКА I  ВОЛОЧАЕВКА II  1470266400   Aug 04, 02:20    0  88880007424458\n",
      " 200200063849  ВОЛОЧАЕВКА I  ВОЛОЧАЕВКА II  1470266400   Aug 04, 02:20    0  88880007424442\n",
      " 210200118115  ВОЛОЧАЕВКА I  ВОЛОЧАЕВКА II  1470287700   Aug 04, 08:15    0  88880009454814\n",
      " 200200098527  ВОЛОЧАЕВКА I  ВОЛОЧАЕВКА II  1470287700   Aug 04, 08:15    0  88880009454798\n",
      " 200208850604  ВОЛОЧАЕВКА I  ВОЛОЧАЕВКА II  1470287700   Aug 04, 08:15    0  88880009454812\n",
      " 200200089007  ВОЛОЧАЕВКА I  ВОЛОЧАЕВКА II  1470287700   Aug 04, 08:15    0  88880009454776\n",
      " 200200097454  ВОЛОЧАЕВКА I  ВОЛОЧАЕВКА II  1470291300   Aug 04, 09:15    0  88880009454796\n",
      " 200200091899  ВОЛОЧАЕВКА I  ВОЛОЧАЕВКА II  1470291300   Aug 04, 09:15    0  88880009454782\n",
      " 200200089912  ВОЛОЧАЕВКА I  ВОЛОЧАЕВКА II  1470291300   Aug 04, 09:15    0  88880020074758\n",
      " 200200088171  ВОЛОЧАЕВКА I  ВОЛОЧАЕВКА II  1470291300   Aug 04, 09:15    0  88880009454774\n",
      " 200200074877  ВОЛОЧАЕВКА I  ВОЛОЧАЕВКА II  1470291300   Aug 04, 09:15    0  88880009454762\n",
      " 200200065702  ВОЛОЧАЕВКА I  ВОЛОЧАЕВКА II  1470291300   Aug 04, 09:15    0  88880009454752\n",
      " 200200055773  ВОЛОЧАЕВКА I  ВОЛОЧАЕВКА II  1470291300   Aug 04, 09:15    0  88880009454742\n",
      " 200200105350  ВОЛОЧАЕВКА I  ВОЛОЧАЕВКА II  1470291300   Aug 04, 09:15    0  88880009454804\n",
      " 200200106637  ВОЛОЧАЕВКА I  ВОЛОЧАЕВКА II  1470291300   Aug 04, 09:15    0  88880009454806\n",
      " 200200056099  ВОЛОЧАЕВКА I  ВОЛОЧАЕВКА II  1470300600   Aug 04, 11:50    0  88880009454744\n",
      " 200200093991  ВОЛОЧАЕВКА I  ВОЛОЧАЕВКА II  1470302400   Aug 04, 12:20    0  88880009454788\n",
      " 200200046304  ВОЛОЧАЕВКА I  ВОЛОЧАЕВКА II  1470305100   Aug 04, 13:05    0  88880009454736\n",
      " 200200091294  ВОЛОЧАЕВКА I  ВОЛОЧАЕВКА II  1470305100   Aug 04, 13:05    0  88880009454778\n"
     ]
    }
   ],
   "source": [
    "cols = ['loco', 'st_from_name', 'st_to_name_end', 'time_start', 'time_start_norm', 'dir', 'train']\n",
    "even_res = loco_res_trips.loc[loco_res_trips.dir == 0, cols]\n",
    "even_res_hor = loco_res_trips_hor.loc[loco_res_trips_hor.dir == 0, cols]\n",
    "a = even_res_hor.groupby('st_from_name').st_to_name_end.value_counts().sort_values(ascending=False)\n",
    "add_header('Самые частые маршруты для локомотивов резервом в четном направлении (всего %d, показаны первые 10):' \n",
    "      % even_res_hor.loco.drop_duplicates().count())\n",
    "add_line(a.head(10))\n",
    "\n",
    "st_from = a.to_frame().reset_index().ix[0]['st_from_name']\n",
    "st_to = a.to_frame().reset_index().ix[0]['st_to_name_end']\n",
    "most_even_res = even_res_hor.loc[(even_res_hor.st_from_name == st_from) \n",
    "                                 & (even_res_hor.st_to_name_end == st_to)].sort_values('time_start')\n",
    "add_header('\\nЛокомотивы резервом на самом частном маршруте в четном направлении:')\n",
    "add_line(most_even_res)"
   ]
  },
  {
   "cell_type": "markdown",
   "metadata": {},
   "source": [
    "[В начало](#toc)\n",
    "### Проверка времени хода для локомотивов резервом"
   ]
  },
  {
   "cell_type": "code",
   "execution_count": 172,
   "metadata": {
    "collapsed": false,
    "scrolled": false
   },
   "outputs": [
    {
     "name": "stdout",
     "output_type": "stream",
     "text": [
      "Всего 197 (11.07%) пересылок локомотивов резервом с временем хода больше 15 часов\n",
      "Из них 152 НЕ являются возвратом на свое тяговое плечо. Примеры:\n",
      "         loco       st_from_name st_to_name_end time_start_norm  time_end_norm   tt_h\n",
      " 200200087343               ЛЕНА         ТАЙШЕТ   Aug 03, 16:28  Aug 04, 23:32  31.07\n",
      " 200200139751             ТАЙШЕТ    БОЛЬШОЙ ЛУГ   Aug 03, 18:17  Aug 05, 01:11  30.90\n",
      " 200200043027           МАРИИНСК         РЕШОТЫ   Aug 03, 20:52  Aug 05, 00:19  27.44\n",
      " 200200094741           МАРИИНСК      ЗАОЗЕРНАЯ   Aug 03, 17:31  Aug 04, 20:20  26.82\n",
      " 200200061590          КАРЫМСКАЯ       УЛАН-УДЭ   Aug 03, 20:11  Aug 04, 22:45  26.57\n",
      " 200200095185        БОЛЬШОЙ ЛУГ         ТАЙШЕТ   Aug 03, 14:39  Aug 04, 17:06  26.45\n",
      " 200200092911            ТАКСИМО        КИРЕНГА   Aug 03, 15:25  Aug 04, 17:40  26.26\n",
      " 200200094096               ЛЕНА         ТАЙШЕТ   Aug 03, 18:16  Aug 04, 20:00  25.72\n",
      " 200200054380  НЕРЮНГРИ-ГРУЗОВАЯ          ТЫНДА   Aug 04, 15:30  Aug 05, 17:11  25.70\n",
      " 200200082415             ТАЙШЕТ      МИНУСИНСК   Aug 04, 14:10  Aug 05, 15:13  25.05\n",
      "         loco ser_name         st_from_name           st_to_name time_start_norm  time_end_norm            train          team\n",
      " 200200043027    ВЛ80Р              БОГОТОЛ             МАРИИНСК   Aug 03, 13:23  Aug 03, 15:44     200020795954  200200145516\n",
      " 200200043027    ВЛ80Р             МАРИИНСК              БОГОТОЛ   Aug 03, 20:52  Aug 03, 23:25   88880017204508  200200223524\n",
      " 200200043027    ВЛ80Р              БОГОТОЛ              ЗЕРЦАЛЫ   Aug 04, 08:27  Aug 04, 09:23   88880017204508  200200106930\n",
      " 200200043027    ВЛ80Р              ЗЕРЦАЛЫ             АЧИНСК I   Aug 04, 09:23  Aug 04, 09:41   88880017204508  200200106930\n",
      " 200200043027    ВЛ80Р             АЧИНСК I       ЧЕРНОРЕЧЕНСКАЯ   Aug 04, 11:05  Aug 04, 11:54   88880017204508           NaN\n",
      " 200200043027    ВЛ80Р       ЧЕРНОРЕЧЕНСКАЯ                БУГАЧ   Aug 04, 11:54  Aug 04, 14:43   88880017204508           NaN\n",
      " 200200043027    ВЛ80Р                БУГАЧ  КРАСНОЯРСК-СЕВЕРНЫЙ   Aug 04, 14:43  Aug 04, 15:00   88880017204508           NaN\n",
      " 200200043027    ВЛ80Р  КРАСНОЯРСК-СЕВЕРНЫЙ  КРАСНОЯРСК-ВОСТО...   Aug 04, 15:00  Aug 04, 15:23   88880017204508           NaN\n",
      " 200200043027    ВЛ80Р  КРАСНОЯРСК-ВОСТО...               ЗЫКОВО   Aug 04, 15:23  Aug 04, 15:35   88880017204508           NaN\n",
      " 200200043027    ВЛ80Р               ЗЫКОВО                  УЯР   Aug 04, 15:35  Aug 04, 17:32   88880017204508           NaN\n",
      " 200200043027    ВЛ80Р                  УЯР            ЗАОЗЕРНАЯ   Aug 04, 17:32  Aug 04, 18:11   88880017204508           NaN\n",
      " 200200043027    ВЛ80Р            ЗАОЗЕРНАЯ             ИЛАНСКАЯ   Aug 04, 18:11  Aug 04, 20:09   88880017204508           NaN\n",
      " 200200043027    ВЛ80Р             ИЛАНСКАЯ               РЕШОТЫ   Aug 04, 22:55  Aug 05, 00:19   88880017204508           NaN\n",
      " 200200043027    ВЛ80Р               РЕШОТЫ             ИЛАНСКАЯ   Aug 05, 10:58  Aug 05, 12:18     200020013134           NaN\n",
      " 200200043027    ВЛ80Р             ИЛАНСКАЯ            ЗАОЗЕРНАЯ   Aug 05, 12:18  Aug 05, 14:25     200020013134           NaN\n",
      " 200200043027    ВЛ80Р            ЗАОЗЕРНАЯ                  УЯР   Aug 05, 14:25  Aug 05, 15:08     200020013134           NaN\n",
      " 200200043027    ВЛ80Р                  УЯР               ЗЫКОВО   Aug 05, 15:08  Aug 05, 16:59     200020013134           NaN\n",
      " 200200043027    ВЛ80Р               ЗЫКОВО  КРАСНОЯРСК-ВОСТО...   Aug 05, 16:59  Aug 05, 17:09     200020013134           NaN\n",
      " 200200043027    ВЛ80Р  КРАСНОЯРСК-ВОСТО...  КРАСНОЯРСК-ВОСТО...   Aug 05, 17:09  Aug 05, 20:09               -1           NaN\n",
      " 200200043027    ВЛ80Р  КРАСНОЯРСК-ВОСТО...               ЗЫКОВО   Aug 06, 04:28  Aug 06, 04:39  999912376032004           NaN\n",
      " 200200043027    ВЛ80Р               ЗЫКОВО                  УЯР   Aug 06, 04:39  Aug 06, 06:32  999912376032004           NaN\n",
      " 200200043027    ВЛ80Р                  УЯР            ЗАОЗЕРНАЯ   Aug 06, 06:32  Aug 06, 07:13  999912376032004           NaN\n",
      " 200200043027    ВЛ80Р            ЗАОЗЕРНАЯ             ИЛАНСКАЯ   Aug 06, 07:13  Aug 06, 09:15  999912376032004           NaN\n",
      "Среднее время хода для таких локомотивов: 18.63 ч.\n"
     ]
    }
   ],
   "source": [
    "def get_regions(x):\n",
    "    return list(a[a.apply(lambda y: (x[0] in y) & (x[1] in y))].index)\n",
    "\n",
    "a = stations.groupby('loco_region')['name'].unique()\n",
    "loco_res_trips['reg'] = loco_res_trips.link_name.apply(get_regions)\n",
    "loco_res_trips['loco_reg'] = loco_res_trips.loco.map(loco_info.set_index('loco').regions_eval)\n",
    "loco_res_trips['back_to_reg'] = loco_res_trips.apply(lambda row:\\\n",
    "                                                     not any([int(r) in [int(x) for x in row.loco_reg] for r in row.reg]),\n",
    "                                                     axis=1)\n",
    "loco_res_trips['tt'] = loco_res_trips.time_end - loco_res_trips.time_start\n",
    "loco_res_trips['tt_h'] = np.round((loco_res_trips.tt / 3600), 2)\n",
    "cols = ['loco', 'st_from_name', 'st_to_name_end', 'time_start_norm', 'time_end_norm', 'tt_h']\n",
    "res_trips_long = loco_res_trips[loco_res_trips.tt > 15 * 3600].sort_values('tt_h', ascending=False)\n",
    "add_header('Всего %d (%.2f%%) пересылок локомотивов резервом с временем хода больше 15 часов' \n",
    "           % (res_trips_long.loco.count(), 100 * res_trips_long.loco.count() / loco_res_trips.loco.count()))\n",
    "res_trips_long_no_back = res_trips_long[res_trips_long.back_to_reg == False]\n",
    "add_header('Из них %d НЕ являются возвратом на свое тяговое плечо. Примеры:' \n",
    "           % res_trips_long_no_back.loco.count())\n",
    "add_line(res_trips_long_no_back.head(10)[cols])\n",
    "loco_id = res_trips_long_no_back.iloc[2].loco\n",
    "plan_cols = ['loco', 'ser_name', 'st_from_name', 'st_to_name', 'time_start_norm', 'time_end_norm', 'train', 'team']\n",
    "with pd.option_context('display.max_colwidth', 20):\n",
    "    add_line(loco_plan[loco_plan.loco == loco_id][plan_cols])\n",
    "add_header('Среднее время хода для таких локомотивов: %.2f ч.' % res_trips_long_no_back.tt_h.mean())"
   ]
  },
  {
   "cell_type": "code",
   "execution_count": 162,
   "metadata": {
    "collapsed": false,
    "scrolled": false
   },
   "outputs": [
    {
     "name": "stdout",
     "output_type": "stream",
     "text": [
      "         loco       regions ser_name  sections st_from_name st_to_name time_start_norm  state           train\n",
      " 200200076721  [2002119299]    ВЛ80С         3     МАРИИНСК    БОГОТОЛ   Aug 03, 15:00      0  88880003034814\n",
      " 200200099085  [2002119299]    ВЛ80Р         3     МАРИИНСК    БОГОТОЛ   Aug 03, 15:20      0  88880016904604\n",
      " 200200033112  [2002119299]    ВЛ80Р         3     МАРИИНСК    БОГОТОЛ   Aug 04, 04:38      0  88880018544836\n",
      " 200200087718  [2002119299]    ВЛ80Р         3     МАРИИНСК    БОГОТОЛ   Aug 04, 06:15      0  88880020344204\n",
      " 200200031105  [2002119299]    ВЛ80Р         3     МАРИИНСК    БОГОТОЛ   Aug 04, 06:36      0  88880019704678\n",
      " 200200099593  [2002119299]    ВЛ80Р         3     МАРИИНСК    БОГОТОЛ   Aug 04, 06:36      0  88880020334862\n",
      " 200200049020  [2002119299]    ВЛ80Р         3     МАРИИНСК    БОГОТОЛ   Aug 04, 07:13      0  88880003744364\n",
      " 200200081070  [2002119299]    ВЛ80С         3     МАРИИНСК    БОГОТОЛ   Aug 04, 07:14      0  88880020334868\n",
      " 200200067247  [2002119299]    ВЛ80Р         3     МАРИИНСК    БОГОТОЛ   Aug 04, 08:46      0  88880019874862\n",
      " 200200098374  [2002119299]    ВЛ80Р         3     МАРИИНСК    БОГОТОЛ   Aug 04, 18:06      0  88880003744358\n",
      " 200200091125  [2002119299]    ВЛ80Р         3     МАРИИНСК    БОГОТОЛ   Aug 05, 20:12      0  88880019504336\n",
      " 200200092055  [2002119299]    ВЛ80Р         3     МАРИИНСК    БОГОТОЛ   Aug 06, 19:10      0  88880016904576\n",
      " 200200046008  [2002119299]    ВЛ80С         3     МАРИИНСК    БОГОТОЛ   Aug 06, 20:52      0  88880017494508\n",
      " 200200068982  [2002119299]    ВЛ80Р         3     МАРИИНСК    БОГОТОЛ   Aug 06, 21:44      0  88880017204502\n",
      " 200200049915  [2002119299]    ВЛ80Р         3     МАРИИНСК    БОГОТОЛ   Aug 07, 21:50      0  88880017374298\n"
     ]
    },
    {
     "data": {
      "text/html": [
       "<div>\n",
       "<table border=\"1\" class=\"dataframe\">\n",
       "  <thead>\n",
       "    <tr style=\"text-align: right;\">\n",
       "      <th></th>\n",
       "      <th>loco</th>\n",
       "      <th>regions</th>\n",
       "      <th>ser_name</th>\n",
       "      <th>sections</th>\n",
       "      <th>st_from_name</th>\n",
       "      <th>st_to_name</th>\n",
       "      <th>time_start_norm</th>\n",
       "      <th>state</th>\n",
       "      <th>train</th>\n",
       "    </tr>\n",
       "  </thead>\n",
       "  <tbody>\n",
       "    <tr>\n",
       "      <th>35568</th>\n",
       "      <td>200200099593</td>\n",
       "      <td>[2002119299]</td>\n",
       "      <td>ВЛ80Р</td>\n",
       "      <td>3</td>\n",
       "      <td>ИЛАНСКАЯ</td>\n",
       "      <td>ЗАОЗЕРНАЯ</td>\n",
       "      <td>Aug 03, 09:25</td>\n",
       "      <td>1</td>\n",
       "      <td>200020668771</td>\n",
       "    </tr>\n",
       "    <tr>\n",
       "      <th>35569</th>\n",
       "      <td>200200099593</td>\n",
       "      <td>[2002119299]</td>\n",
       "      <td>ВЛ80Р</td>\n",
       "      <td>3</td>\n",
       "      <td>ЗАОЗЕРНАЯ</td>\n",
       "      <td>УЯР</td>\n",
       "      <td>Aug 03, 12:07</td>\n",
       "      <td>1</td>\n",
       "      <td>200020668771</td>\n",
       "    </tr>\n",
       "    <tr>\n",
       "      <th>35570</th>\n",
       "      <td>200200099593</td>\n",
       "      <td>[2002119299]</td>\n",
       "      <td>ВЛ80Р</td>\n",
       "      <td>3</td>\n",
       "      <td>УЯР</td>\n",
       "      <td>ЗЫКОВО</td>\n",
       "      <td>Aug 03, 13:07</td>\n",
       "      <td>1</td>\n",
       "      <td>200020668771</td>\n",
       "    </tr>\n",
       "    <tr>\n",
       "      <th>35571</th>\n",
       "      <td>200200099593</td>\n",
       "      <td>[2002119299]</td>\n",
       "      <td>ВЛ80Р</td>\n",
       "      <td>3</td>\n",
       "      <td>ЗЫКОВО</td>\n",
       "      <td>КРАСНОЯРСК-ВОСТОЧНЫЙ</td>\n",
       "      <td>Aug 03, 15:06</td>\n",
       "      <td>1</td>\n",
       "      <td>200020668771</td>\n",
       "    </tr>\n",
       "    <tr>\n",
       "      <th>35572</th>\n",
       "      <td>200200099593</td>\n",
       "      <td>[2002119299]</td>\n",
       "      <td>ВЛ80Р</td>\n",
       "      <td>3</td>\n",
       "      <td>КРАСНОЯРСК-ВОСТОЧНЫЙ</td>\n",
       "      <td>КРАСНОЯРСК-СЕВЕРНЫЙ</td>\n",
       "      <td>Aug 03, 16:50</td>\n",
       "      <td>0</td>\n",
       "      <td>88880002154541</td>\n",
       "    </tr>\n",
       "    <tr>\n",
       "      <th>35573</th>\n",
       "      <td>200200099593</td>\n",
       "      <td>[2002119299]</td>\n",
       "      <td>ВЛ80Р</td>\n",
       "      <td>3</td>\n",
       "      <td>КРАСНОЯРСК-СЕВЕРНЫЙ</td>\n",
       "      <td>БУГАЧ</td>\n",
       "      <td>Aug 03, 17:25</td>\n",
       "      <td>0</td>\n",
       "      <td>88880002154541</td>\n",
       "    </tr>\n",
       "    <tr>\n",
       "      <th>35574</th>\n",
       "      <td>200200099593</td>\n",
       "      <td>[2002119299]</td>\n",
       "      <td>ВЛ80Р</td>\n",
       "      <td>3</td>\n",
       "      <td>БУГАЧ</td>\n",
       "      <td>ЧЕРНОРЕЧЕНСКАЯ</td>\n",
       "      <td>Aug 03, 17:46</td>\n",
       "      <td>0</td>\n",
       "      <td>88880002154541</td>\n",
       "    </tr>\n",
       "    <tr>\n",
       "      <th>35575</th>\n",
       "      <td>200200099593</td>\n",
       "      <td>[2002119299]</td>\n",
       "      <td>ВЛ80Р</td>\n",
       "      <td>3</td>\n",
       "      <td>ЧЕРНОРЕЧЕНСКАЯ</td>\n",
       "      <td>АЧИНСК I</td>\n",
       "      <td>Aug 03, 21:04</td>\n",
       "      <td>0</td>\n",
       "      <td>88880002154541</td>\n",
       "    </tr>\n",
       "    <tr>\n",
       "      <th>35576</th>\n",
       "      <td>200200099593</td>\n",
       "      <td>[2002119299]</td>\n",
       "      <td>ВЛ80Р</td>\n",
       "      <td>3</td>\n",
       "      <td>АЧИНСК I</td>\n",
       "      <td>ЗЕРЦАЛЫ</td>\n",
       "      <td>Aug 03, 21:43</td>\n",
       "      <td>0</td>\n",
       "      <td>88880002154541</td>\n",
       "    </tr>\n",
       "    <tr>\n",
       "      <th>35577</th>\n",
       "      <td>200200099593</td>\n",
       "      <td>[2002119299]</td>\n",
       "      <td>ВЛ80Р</td>\n",
       "      <td>3</td>\n",
       "      <td>ЗЕРЦАЛЫ</td>\n",
       "      <td>БОГОТОЛ</td>\n",
       "      <td>Aug 03, 21:59</td>\n",
       "      <td>0</td>\n",
       "      <td>88880002154541</td>\n",
       "    </tr>\n",
       "    <tr>\n",
       "      <th>35578</th>\n",
       "      <td>200200099593</td>\n",
       "      <td>[2002119299]</td>\n",
       "      <td>ВЛ80Р</td>\n",
       "      <td>3</td>\n",
       "      <td>БОГОТОЛ</td>\n",
       "      <td>МАРИИНСК</td>\n",
       "      <td>Aug 04, 02:18</td>\n",
       "      <td>0</td>\n",
       "      <td>88880002154541</td>\n",
       "    </tr>\n",
       "    <tr>\n",
       "      <th>35579</th>\n",
       "      <td>200200099593</td>\n",
       "      <td>[2002119299]</td>\n",
       "      <td>ВЛ80Р</td>\n",
       "      <td>3</td>\n",
       "      <td>МАРИИНСК</td>\n",
       "      <td>БОГОТОЛ</td>\n",
       "      <td>Aug 04, 06:36</td>\n",
       "      <td>0</td>\n",
       "      <td>88880020334862</td>\n",
       "    </tr>\n",
       "    <tr>\n",
       "      <th>35580</th>\n",
       "      <td>200200099593</td>\n",
       "      <td>[2002119299]</td>\n",
       "      <td>ВЛ80Р</td>\n",
       "      <td>3</td>\n",
       "      <td>БОГОТОЛ</td>\n",
       "      <td>ЗЕРЦАЛЫ</td>\n",
       "      <td>Aug 04, 09:07</td>\n",
       "      <td>0</td>\n",
       "      <td>88880020334862</td>\n",
       "    </tr>\n",
       "    <tr>\n",
       "      <th>35581</th>\n",
       "      <td>200200099593</td>\n",
       "      <td>[2002119299]</td>\n",
       "      <td>ВЛ80Р</td>\n",
       "      <td>3</td>\n",
       "      <td>ЗЕРЦАЛЫ</td>\n",
       "      <td>АЧИНСК I</td>\n",
       "      <td>Aug 04, 10:05</td>\n",
       "      <td>0</td>\n",
       "      <td>88880020334862</td>\n",
       "    </tr>\n",
       "    <tr>\n",
       "      <th>35582</th>\n",
       "      <td>200200099593</td>\n",
       "      <td>[2002119299]</td>\n",
       "      <td>ВЛ80Р</td>\n",
       "      <td>3</td>\n",
       "      <td>АЧИНСК I</td>\n",
       "      <td>ЧЕРНОРЕЧЕНСКАЯ</td>\n",
       "      <td>Aug 04, 11:30</td>\n",
       "      <td>0</td>\n",
       "      <td>88880020334862</td>\n",
       "    </tr>\n",
       "    <tr>\n",
       "      <th>35583</th>\n",
       "      <td>200200099593</td>\n",
       "      <td>[2002119299]</td>\n",
       "      <td>ВЛ80Р</td>\n",
       "      <td>3</td>\n",
       "      <td>ЧЕРНОРЕЧЕНСКАЯ</td>\n",
       "      <td>БУГАЧ</td>\n",
       "      <td>Aug 04, 12:17</td>\n",
       "      <td>0</td>\n",
       "      <td>88880020334862</td>\n",
       "    </tr>\n",
       "    <tr>\n",
       "      <th>35584</th>\n",
       "      <td>200200099593</td>\n",
       "      <td>[2002119299]</td>\n",
       "      <td>ВЛ80Р</td>\n",
       "      <td>3</td>\n",
       "      <td>БУГАЧ</td>\n",
       "      <td>КРАСНОЯРСК-СЕВЕРНЫЙ</td>\n",
       "      <td>Aug 04, 15:05</td>\n",
       "      <td>0</td>\n",
       "      <td>88880020334862</td>\n",
       "    </tr>\n",
       "    <tr>\n",
       "      <th>35585</th>\n",
       "      <td>200200099593</td>\n",
       "      <td>[2002119299]</td>\n",
       "      <td>ВЛ80Р</td>\n",
       "      <td>3</td>\n",
       "      <td>КРАСНОЯРСК-СЕВЕРНЫЙ</td>\n",
       "      <td>КРАСНОЯРСК-ВОСТОЧНЫЙ</td>\n",
       "      <td>Aug 04, 15:22</td>\n",
       "      <td>0</td>\n",
       "      <td>88880020334862</td>\n",
       "    </tr>\n",
       "    <tr>\n",
       "      <th>35586</th>\n",
       "      <td>200200099593</td>\n",
       "      <td>[2002119299]</td>\n",
       "      <td>ВЛ80Р</td>\n",
       "      <td>3</td>\n",
       "      <td>КРАСНОЯРСК-ВОСТОЧНЫЙ</td>\n",
       "      <td>ЗЫКОВО</td>\n",
       "      <td>Aug 04, 18:35</td>\n",
       "      <td>1</td>\n",
       "      <td>999912376012008</td>\n",
       "    </tr>\n",
       "    <tr>\n",
       "      <th>35587</th>\n",
       "      <td>200200099593</td>\n",
       "      <td>[2002119299]</td>\n",
       "      <td>ВЛ80Р</td>\n",
       "      <td>3</td>\n",
       "      <td>ЗЫКОВО</td>\n",
       "      <td>УЯР</td>\n",
       "      <td>Aug 04, 18:46</td>\n",
       "      <td>1</td>\n",
       "      <td>999912376012008</td>\n",
       "    </tr>\n",
       "    <tr>\n",
       "      <th>35588</th>\n",
       "      <td>200200099593</td>\n",
       "      <td>[2002119299]</td>\n",
       "      <td>ВЛ80Р</td>\n",
       "      <td>3</td>\n",
       "      <td>УЯР</td>\n",
       "      <td>ЗАОЗЕРНАЯ</td>\n",
       "      <td>Aug 04, 20:34</td>\n",
       "      <td>1</td>\n",
       "      <td>999912376012008</td>\n",
       "    </tr>\n",
       "    <tr>\n",
       "      <th>35589</th>\n",
       "      <td>200200099593</td>\n",
       "      <td>[2002119299]</td>\n",
       "      <td>ВЛ80Р</td>\n",
       "      <td>3</td>\n",
       "      <td>ЗАОЗЕРНАЯ</td>\n",
       "      <td>ИЛАНСКАЯ</td>\n",
       "      <td>Aug 04, 21:13</td>\n",
       "      <td>1</td>\n",
       "      <td>999912376012008</td>\n",
       "    </tr>\n",
       "    <tr>\n",
       "      <th>35590</th>\n",
       "      <td>200200099593</td>\n",
       "      <td>[2002119299]</td>\n",
       "      <td>ВЛ80Р</td>\n",
       "      <td>3</td>\n",
       "      <td>ИЛАНСКАЯ</td>\n",
       "      <td>РЕШОТЫ</td>\n",
       "      <td>Aug 04, 23:10</td>\n",
       "      <td>1</td>\n",
       "      <td>999912376012008</td>\n",
       "    </tr>\n",
       "    <tr>\n",
       "      <th>35591</th>\n",
       "      <td>200200099593</td>\n",
       "      <td>[2002119299]</td>\n",
       "      <td>ВЛ80Р</td>\n",
       "      <td>3</td>\n",
       "      <td>РЕШОТЫ</td>\n",
       "      <td>КЛЮЧИ</td>\n",
       "      <td>Aug 05, 00:34</td>\n",
       "      <td>1</td>\n",
       "      <td>999912376012008</td>\n",
       "    </tr>\n",
       "    <tr>\n",
       "      <th>35592</th>\n",
       "      <td>200200099593</td>\n",
       "      <td>[2002119299]</td>\n",
       "      <td>ВЛ80Р</td>\n",
       "      <td>3</td>\n",
       "      <td>КЛЮЧИ</td>\n",
       "      <td>ЮРТЫ</td>\n",
       "      <td>Aug 05, 00:52</td>\n",
       "      <td>1</td>\n",
       "      <td>999912376012008</td>\n",
       "    </tr>\n",
       "    <tr>\n",
       "      <th>35593</th>\n",
       "      <td>200200099593</td>\n",
       "      <td>[2002119299]</td>\n",
       "      <td>ВЛ80Р</td>\n",
       "      <td>3</td>\n",
       "      <td>ЮРТЫ</td>\n",
       "      <td>ТАЙШЕТ</td>\n",
       "      <td>Aug 05, 01:16</td>\n",
       "      <td>1</td>\n",
       "      <td>999912376012008</td>\n",
       "    </tr>\n",
       "    <tr>\n",
       "      <th>35594</th>\n",
       "      <td>200200099593</td>\n",
       "      <td>[2002119299]</td>\n",
       "      <td>ВЛ80Р</td>\n",
       "      <td>3</td>\n",
       "      <td>ТАЙШЕТ</td>\n",
       "      <td>ТАЙШЕТ</td>\n",
       "      <td>Aug 05, 03:23</td>\n",
       "      <td>4</td>\n",
       "      <td>-1</td>\n",
       "    </tr>\n",
       "  </tbody>\n",
       "</table>\n",
       "</div>"
      ],
      "text/plain": [
       "               loco       regions ser_name  sections          st_from_name  \\\n",
       "35568  200200099593  [2002119299]    ВЛ80Р         3              ИЛАНСКАЯ   \n",
       "35569  200200099593  [2002119299]    ВЛ80Р         3             ЗАОЗЕРНАЯ   \n",
       "35570  200200099593  [2002119299]    ВЛ80Р         3                   УЯР   \n",
       "35571  200200099593  [2002119299]    ВЛ80Р         3                ЗЫКОВО   \n",
       "35572  200200099593  [2002119299]    ВЛ80Р         3  КРАСНОЯРСК-ВОСТОЧНЫЙ   \n",
       "35573  200200099593  [2002119299]    ВЛ80Р         3   КРАСНОЯРСК-СЕВЕРНЫЙ   \n",
       "35574  200200099593  [2002119299]    ВЛ80Р         3                 БУГАЧ   \n",
       "35575  200200099593  [2002119299]    ВЛ80Р         3        ЧЕРНОРЕЧЕНСКАЯ   \n",
       "35576  200200099593  [2002119299]    ВЛ80Р         3              АЧИНСК I   \n",
       "35577  200200099593  [2002119299]    ВЛ80Р         3               ЗЕРЦАЛЫ   \n",
       "35578  200200099593  [2002119299]    ВЛ80Р         3               БОГОТОЛ   \n",
       "35579  200200099593  [2002119299]    ВЛ80Р         3              МАРИИНСК   \n",
       "35580  200200099593  [2002119299]    ВЛ80Р         3               БОГОТОЛ   \n",
       "35581  200200099593  [2002119299]    ВЛ80Р         3               ЗЕРЦАЛЫ   \n",
       "35582  200200099593  [2002119299]    ВЛ80Р         3              АЧИНСК I   \n",
       "35583  200200099593  [2002119299]    ВЛ80Р         3        ЧЕРНОРЕЧЕНСКАЯ   \n",
       "35584  200200099593  [2002119299]    ВЛ80Р         3                 БУГАЧ   \n",
       "35585  200200099593  [2002119299]    ВЛ80Р         3   КРАСНОЯРСК-СЕВЕРНЫЙ   \n",
       "35586  200200099593  [2002119299]    ВЛ80Р         3  КРАСНОЯРСК-ВОСТОЧНЫЙ   \n",
       "35587  200200099593  [2002119299]    ВЛ80Р         3                ЗЫКОВО   \n",
       "35588  200200099593  [2002119299]    ВЛ80Р         3                   УЯР   \n",
       "35589  200200099593  [2002119299]    ВЛ80Р         3             ЗАОЗЕРНАЯ   \n",
       "35590  200200099593  [2002119299]    ВЛ80Р         3              ИЛАНСКАЯ   \n",
       "35591  200200099593  [2002119299]    ВЛ80Р         3                РЕШОТЫ   \n",
       "35592  200200099593  [2002119299]    ВЛ80Р         3                 КЛЮЧИ   \n",
       "35593  200200099593  [2002119299]    ВЛ80Р         3                  ЮРТЫ   \n",
       "35594  200200099593  [2002119299]    ВЛ80Р         3                ТАЙШЕТ   \n",
       "\n",
       "                 st_to_name time_start_norm  state            train  \n",
       "35568             ЗАОЗЕРНАЯ   Aug 03, 09:25      1     200020668771  \n",
       "35569                   УЯР   Aug 03, 12:07      1     200020668771  \n",
       "35570                ЗЫКОВО   Aug 03, 13:07      1     200020668771  \n",
       "35571  КРАСНОЯРСК-ВОСТОЧНЫЙ   Aug 03, 15:06      1     200020668771  \n",
       "35572   КРАСНОЯРСК-СЕВЕРНЫЙ   Aug 03, 16:50      0   88880002154541  \n",
       "35573                 БУГАЧ   Aug 03, 17:25      0   88880002154541  \n",
       "35574        ЧЕРНОРЕЧЕНСКАЯ   Aug 03, 17:46      0   88880002154541  \n",
       "35575              АЧИНСК I   Aug 03, 21:04      0   88880002154541  \n",
       "35576               ЗЕРЦАЛЫ   Aug 03, 21:43      0   88880002154541  \n",
       "35577               БОГОТОЛ   Aug 03, 21:59      0   88880002154541  \n",
       "35578              МАРИИНСК   Aug 04, 02:18      0   88880002154541  \n",
       "35579               БОГОТОЛ   Aug 04, 06:36      0   88880020334862  \n",
       "35580               ЗЕРЦАЛЫ   Aug 04, 09:07      0   88880020334862  \n",
       "35581              АЧИНСК I   Aug 04, 10:05      0   88880020334862  \n",
       "35582        ЧЕРНОРЕЧЕНСКАЯ   Aug 04, 11:30      0   88880020334862  \n",
       "35583                 БУГАЧ   Aug 04, 12:17      0   88880020334862  \n",
       "35584   КРАСНОЯРСК-СЕВЕРНЫЙ   Aug 04, 15:05      0   88880020334862  \n",
       "35585  КРАСНОЯРСК-ВОСТОЧНЫЙ   Aug 04, 15:22      0   88880020334862  \n",
       "35586                ЗЫКОВО   Aug 04, 18:35      1  999912376012008  \n",
       "35587                   УЯР   Aug 04, 18:46      1  999912376012008  \n",
       "35588             ЗАОЗЕРНАЯ   Aug 04, 20:34      1  999912376012008  \n",
       "35589              ИЛАНСКАЯ   Aug 04, 21:13      1  999912376012008  \n",
       "35590                РЕШОТЫ   Aug 04, 23:10      1  999912376012008  \n",
       "35591                 КЛЮЧИ   Aug 05, 00:34      1  999912376012008  \n",
       "35592                  ЮРТЫ   Aug 05, 00:52      1  999912376012008  \n",
       "35593                ТАЙШЕТ   Aug 05, 01:16      1  999912376012008  \n",
       "35594                ТАЙШЕТ   Aug 05, 03:23      4               -1  "
      ]
     },
     "execution_count": 162,
     "metadata": {},
     "output_type": "execute_result"
    }
   ],
   "source": [
    "st_name = 'МАРИИНСК'\n",
    "cols = ['loco', 'regions', 'ser_name', 'sections', 'st_from_name', 'st_to_name', 'time_start_norm', 'state', 'train']\n",
    "add_line(loco_plan[(loco_plan.st_from_name == st_name) \n",
    "          & (loco_plan.state == 0) & (loco_plan.sections == 3)].sort_values('time_start')[cols])\n",
    "\n",
    "loco_plan[loco_plan.loco == '200200099593'][cols]"
   ]
  },
  {
   "cell_type": "markdown",
   "metadata": {},
   "source": [
    "### Причины появления четных локомотивов резервом:"
   ]
  },
  {
   "cell_type": "markdown",
   "metadata": {},
   "source": [
    "1. Мариинск и Карымская не являются станциями прохождения ТО. Поэтому локомотивы пересылаются резервом из Мариинска в Боготол для прохождения ТО или из Читы на Карымскую после прохождения ТО в Чите для подвязки под поезда в Карымской. Необходимо обновить справочник ПТОЛ.\n",
    "2. У локомотивов среди разрешенных тяговых плеч указаны и Мариинск-Борзя, и Карымская-Хабаровск. Поэтому локомотивы едут резервом из Читы в Карымскую, чтобы везти локомотивы на Хабаровск, поскольку Чита совсем недалеко от Карымской. Если бы у локомотивов с плеча Мариинск-Борзя не было проставлено плечо Карымская-Хабаровск, то направления резервом из Читы не было бы. Необходимо загрузить новый справочник тяговых плеч, где такого не будет.\n",
    "3. Поезда своего формирования (ССП) из Карымской следуют только до Читы. Поэтому локомотивы и освобождаются в Чите. Но поскольку в Чите они не нужны, то следуют резервом \"куда-то, где нужны\". В новом справочнике от Войтенко поезда СФ из Карымской следуют до Иркутска, Челутая и Петровского Завода -- это дальше Читы. Поэтому отправлений резервом из Читы станет меньше. Аналогичная проблема: для поездов СФ из Красноярска-Восточного и Тайшета.\n",
    "4. Недостаточное количество поездов в четном направлении на главном ходу -- поэтому локомотивы, которые могли бы ехать в четную сторону с поездами, едут резервом. Будет исправлено с загрузкой новых маршрутов.\n",
    "5. Смена локомотивов происходит на станции Горелый (для маршрутов типа Карымская--Беркакит или Таксимо--Карымская, например). Хотя поезд правильнее заводить на Сковородино и менять локомотив там. Проблема в том, что тогда на маршруте поезда получится петля типа \"Бамовская -- Горелый -- Сковородино -- Горелый -- Штурм\". Текущий алгоритм построения маршрутов не сможет сгенерировать такой маршрут у поезда. Видимо, нужна более продвинутая проверка на приоритетные станции при смене локомотивов и корректировка маршрута поезда. Сложная проблема, надо думать. Пока отложено до 10.05.2016.\n",
    "6. Узел Комсомольска-на-Амуре сложный, надо разбираться. Возможно, надо будет вводить дополнительный участок планирования КнА II - КнА-Сорт. Тоже сложная проблема, тоже пока отложено до 10.05.2016."
   ]
  },
  {
   "cell_type": "markdown",
   "metadata": {},
   "source": [
    "<a id='time_leaps'></a>\n",
    "## Проверка скачков по времени назад [ToC](#toc)"
   ]
  },
  {
   "cell_type": "code",
   "execution_count": 136,
   "metadata": {
    "collapsed": true
   },
   "outputs": [],
   "source": [
    "add_header('Проверка скачков по времени назад', h=2, p=False)"
   ]
  },
  {
   "cell_type": "code",
   "execution_count": 137,
   "metadata": {
    "collapsed": false
   },
   "outputs": [
    {
     "name": "stdout",
     "output_type": "stream",
     "text": [
      "Всего 50 локомотивов со скачками по времени назад в плане. Примеры:\n",
      "         loco st_from_name    st_to_name time_start_norm  time_end_norm next_time_start_norm\n",
      " 200200085572      ТАРСКАЯ     КАРЫМСКАЯ   Aug 06, 06:46  Aug 06, 07:05        Aug 05, 23:20\n",
      " 200200085619     ХАРАНХОЙ        НАУШКИ   Aug 05, 14:58  Aug 05, 15:17        Aug 05, 10:43\n",
      " 200200100898        ТАГУЛ        ТАЙШЕТ   Aug 05, 15:44  Aug 05, 16:25        Aug 05, 12:34\n",
      " 200200055051  ХАБАРОВСК I  ХАБАРОВСК II   Aug 05, 19:36  Aug 05, 19:58        Aug 05, 14:31\n",
      " 200200097171      КИЛЬЧУГ           УЯР   Aug 05, 10:23  Aug 05, 11:18        Aug 05, 09:44\n",
      " 200200074415       ЧИТА I     КАРЫМСКАЯ   Aug 05, 20:04  Aug 05, 22:19        Aug 05, 16:52\n",
      " 200200074385       ЧИТА I     КАРЫМСКАЯ   Aug 05, 17:57  Aug 05, 20:12        Aug 05, 16:34\n",
      " 200200105611    УССУРИЙСК   ДУБИНИНСКИЙ   Aug 05, 12:55  Aug 05, 13:18        Aug 05, 08:42\n",
      " 200200086011   ТУНГУССКИЙ  ВОЛОЧАЕВКА I   Aug 05, 14:29  Aug 05, 14:35        Aug 05, 13:02\n",
      " 200200105720    УССУРИЙСК   ДУБИНИНСКИЙ   Aug 05, 11:20  Aug 05, 11:43        Aug 05, 08:16\n"
     ]
    }
   ],
   "source": [
    "loco_plan['next_time_start'] = loco_plan.time_start.shift(-1)\n",
    "loco_plan['next_time_start_norm'] = loco_plan.time_start_norm.shift(-1)\n",
    "loco_plan['loco_end'] = loco_plan.loco != loco_plan.loco.shift(-1)\n",
    "cols = ['loco', 'st_from_name', 'st_to_name', 'time_start_norm', 'time_end_norm', 'next_time_start_norm']\n",
    "leaps = loco_plan[(loco_plan.loco_end == False) & (loco_plan.next_time_start < loco_plan.time_end)]\n",
    "if leaps.empty:\n",
    "    add_header('Не найдено локомотивов со скачками по времени назад в плане')\n",
    "else:\n",
    "    add_header('Всего %d локомотивов со скачками по времени назад в плане. Примеры:' % leaps.loco.count())\n",
    "    add_line(leaps.head(10)[cols])"
   ]
  },
  {
   "cell_type": "markdown",
   "metadata": {},
   "source": [
    "<a id='report'></a>\n",
    "### Экспорт результатов в HTML [ToC](#toc)"
   ]
  },
  {
   "cell_type": "code",
   "execution_count": 138,
   "metadata": {
    "collapsed": false
   },
   "outputs": [
    {
     "name": "stdout",
     "output_type": "stream",
     "text": [
      "Отчет сформирован за 24.06 сек. и записан в файл report/loco_report_20160803_155041.html\n"
     ]
    }
   ],
   "source": [
    "filename = REPORT_FOLDER + 'loco_report_' + time.strftime('%Y%m%d_%H%M%S', time.localtime(time.time())) + '.html'\n",
    "create_report(filename)"
   ]
  }
 ],
 "metadata": {
  "kernelspec": {
   "display_name": "Python 3",
   "language": "python",
   "name": "python3"
  },
  "language_info": {
   "codemirror_mode": {
    "name": "ipython",
    "version": 3
   },
   "file_extension": ".py",
   "mimetype": "text/x-python",
   "name": "python",
   "nbconvert_exporter": "python",
   "pygments_lexer": "ipython3",
   "version": "3.5.1"
  }
 },
 "nbformat": 4,
 "nbformat_minor": 0
}
