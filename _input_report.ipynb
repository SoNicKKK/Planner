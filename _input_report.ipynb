{
 "cells": [
  {
   "cell_type": "markdown",
   "metadata": {},
   "source": [
    "<a id='toc'></a>\n",
    "# Тестирование входных данных"
   ]
  },
  {
   "cell_type": "markdown",
   "metadata": {},
   "source": [
    "1. [Тесты нормативно-справочной информации](#21)\n",
    "  1. [Количество станций](#211)\n",
    "  2. [Станции смены бригад](#212)\n",
    "  3. [Станции смены локомотивов](#213)\n",
    "  4. [Покрытие тяговыми плечами](#214)\n",
    "  5. [Покрытие участками обкатки бригад](#215)\n",
    "2. [Тесты по поездам](#22)\n",
    "  1. [Простые тесты (поезда переданы в планировщик без дублирования, со всеми атрибутами и местоположением](#221)  \n",
    "  2. [Корректность фактов о местоположении](#222)\n",
    "    1. [Присутствие станции или участка в соответствующем справочнике](#2221)\n",
    "    2. [Присутствие станции или участка в маршруте поезда](#2222)\n",
    "  3. [Корректное время отправления поезда](#223)\n",
    "  4. [Связь поезда с локомотивом](#224)\n",
    "  5. [Соединенные поезда](#225)\n",
    "3. [Тесты по локомотивам](#23)\n",
    "  1. [Простые тесты (локомотивы переданы в планировщик без дублирования, со всеми атрибутами и местоположением](#231)\n",
    "  2. [Корректность местоположения локомотивов](#232)\n",
    "  3. [Время и пробег до ТО-2](#233)  \n",
    "  4. [Связь локомотива с поездом](#234)\n",
    "  5. [Связь локомотива с бригадой](#235)  \n",
    "  6. [Наличие локомотивов на всех тяговых плечах](#236)\n",
    "  7. [Покрытие локомотивами всех участков планирования](#237)\n",
    "  8. [Проверка корректности типа локомотивов](#238)\n",
    "4. [Тесты по бригадам](#24)\n",
    "  1. [Простые тесты (бригады переданы без дублирования со всеми атрибутами и местоположением)](#241)\n",
    "  2. [Корректность местоположения и станций явок бригад](#242)\n",
    "  3. [Корректность данных по временам явок в зависимости от состояния бригад](#243)\n",
    "    1. [Бригады пассажирами (состояние 0)](#2431)\n",
    "    2. [Бригады с локомотивами на перегонах (состояние 1)](#2432)\n",
    "    3. [Бригады на явке в депо приписки или на домашнем отдыхе (состояние 2 или 3)](#2433)\n",
    "    4. [Бригады на отдыхе в пункте оборота (состояние 4)](#2434)\n",
    "    5. [Бригады с локомотивами на станции (состояние 5, 6 или 9)](#2435)\n",
    "    6. [Бригады, прибывшие пассажиром (состояние 7)](#2436)\n",
    "    7. [Бригады на явке в пункте оборота (состояние 8)](#2437)\n",
    "  4. [Связь бригады с локомотивом](#244)\n",
    "  5. [Наличие бригад на всех участках обкатки](#245)\n",
    "  6. [Покрытие бригадами всех участков планирования](#246)\n",
    "  7. [Проверка корректности типа бригады](#247)\n",
    "3. [Результаты тестов](#res)\n",
    "4. [Цифры по связанности для выгрузки в Excel](#excel)\n",
    "5. [Запаздывание операций](#lag)"
   ]
  },
  {
   "cell_type": "code",
   "execution_count": null,
   "metadata": {
    "collapsed": true
   },
   "outputs": [],
   "source": [
    "report = ''\n",
    "FOLDER = 'resources/'\n",
    "REPORT_FOLDER = 'report/'\n",
    "PRINT = True"
   ]
  },
  {
   "cell_type": "code",
   "execution_count": null,
   "metadata": {
    "collapsed": true
   },
   "outputs": [],
   "source": [
    "def add_line(line, p=PRINT):    \n",
    "    global report        \n",
    "    if p:                \n",
    "        if type(line) == pd.core.frame.DataFrame:\n",
    "            print(line.to_string(index=False))\n",
    "        elif type(line) == pd.core.series.Series:\n",
    "            print(line.to_string())\n",
    "        else:\n",
    "            print(line)\n",
    "    if type(line) == pd.core.frame.DataFrame:        \n",
    "        report += ('%s<br>' % line.to_html(index=False))\n",
    "    elif type(line) == pd.core.series.Series:\n",
    "        report += ('%s<br>' % line.to_frame().reset_index().to_html(index=False))\n",
    "    else:        \n",
    "        report += ('%s<br>' % line)\n",
    "    \n",
    "def add_header(header, h=4, p=PRINT):\n",
    "    global report\n",
    "    report += ('<h%d>%s</h%d>' % (h, header, h))\n",
    "    if p:\n",
    "        print(header)\n",
    "\n",
    "def add_image(filename):\n",
    "    global report\n",
    "    report += ('<img src=\"%s\" alt=\"%s\" height=\"40%%\">' % (filename, filename))\n",
    "\n",
    "def create_report(filename):\n",
    "    global report\n",
    "    report = report.replace('<table border=\"1\" class=\"dataframe\">','<table class=\"table table-striped\">')\n",
    "    html_string = '''\n",
    "        <html>\n",
    "            <head>\n",
    "                <link rel=\"stylesheet\" href=\"skeleton.css\">\n",
    "                <style>body{ margin:20 20; background:whitesmoke; }\n",
    "                table {table-layout : fixed}\n",
    "                </style>\n",
    "            </head>\n",
    "            <body>                \n",
    "                %s\n",
    "            </body>\n",
    "        </html>''' % (report)\n",
    "    f = open(filename,'w', encoding='utf-8-sig')\n",
    "    f.write(html_string)\n",
    "    f.close()    \n",
    "    print('Отчет сформирован и сохранен в файл %s' % filename)    \n",
    "    print('Время выполнения: %.2f сек.' % (time.time() - start_time))"
   ]
  },
  {
   "cell_type": "code",
   "execution_count": null,
   "metadata": {
    "collapsed": false
   },
   "outputs": [],
   "source": [
    "import numpy as np\n",
    "import pandas as pd\n",
    "import time, datetime\n",
    "from ast import literal_eval\n",
    "import matplotlib.pyplot as plt\n",
    "import seaborn as sns\n",
    "\n",
    "%matplotlib inline\n",
    "plt.style.use('fivethirtyeight')\n",
    "plt.rc('font', family='Times New Roman')\n",
    "\n",
    "pd.set_option('max_rows', 50)\n",
    "\n",
    "time_format = '%b %d, %H:%M'\n",
    "\n",
    "start_time = time.time()\n",
    "current_time = pd.read_csv(FOLDER + 'current_time.csv').current_time[0]\n",
    "twr          = pd.read_csv(FOLDER + 'team_work_region.csv', converters={'twr':str})\n",
    "links        = pd.read_csv(FOLDER + 'link.csv', converters={'st_from':str, 'st_to':str})\n",
    "stations     = pd.read_csv(FOLDER + 'station.csv', converters={'station':str})\n",
    "train_info   = pd.read_csv(FOLDER + 'train_info.csv', converters={'train': str, 'st_from':str, 'st_to':str, 'joint':str,\n",
    "                                                                 'oper_location':str})\n",
    "train_plan   = pd.read_csv(FOLDER + 'slot_train.csv', converters={'train': str, 'st_from':str, 'st_to':str})\n",
    "loco_info    = pd.read_csv(FOLDER + 'loco_attributes.csv', converters={'train':str, 'loco':str, 'st_from':str, 'st_to':str,\n",
    "                                                                      'oper_location':str})\n",
    "loco_plan    = pd.read_csv(FOLDER + 'slot_loco.csv', converters={'train':str, 'loco':str, 'st_from':str, 'st_to':str})\n",
    "team_info    = pd.read_csv(FOLDER + 'team_attributes.csv', converters={'team':str,'depot':str, 'oper_location':str,\n",
    "                                                                       'st_from':str, 'st_to':str, 'loco':str, 'depot_st':str,\n",
    "                                                                       'return_st':str, 'oper_location':str})\n",
    "team_plan    = pd.read_csv(FOLDER + 'slot_team.csv', converters={'team':str,'loco':str, 'st_from':str, 'st_to':str})\n",
    "loco_series  = pd.read_csv(FOLDER + 'loco_series.csv')\n",
    "\n",
    "team_info.regions = team_info.regions.apply(literal_eval)\n",
    "st_names = stations[['station', 'name', 'esr']].drop_duplicates().set_index('station')\n",
    "print('Log time: %d, %s' % (current_time, time.ctime(current_time)))\n",
    "print('Read csvs:', np.round(time.time() - start_time, 2), 'sec')"
   ]
  },
  {
   "cell_type": "code",
   "execution_count": null,
   "metadata": {
    "collapsed": false
   },
   "outputs": [],
   "source": [
    "# Мержим таблицы _plan и _info для поездов, локомотивов и бригад\n",
    "# Добавляем во все таблицы названия станций на маршруте и времена отправления/прибытия в читабельном формате\n",
    "\n",
    "def colcount(df, col):\n",
    "    return df[col].drop_duplicates().count() if col in df.columns else np.nan\n",
    "\n",
    "def nice_time(t):\n",
    "    try:\n",
    "        return time.strftime(time_format, time.localtime(t))\n",
    "    except:\n",
    "        return ''\n",
    "\n",
    "def add_info(df):    \n",
    "    if 'st_from' in df.columns:\n",
    "        df['st_from_name'] = df.st_from.map(st_names.name)\n",
    "    if 'st_to' in df.columns:\n",
    "        df['st_to_name'] = df.st_to.map(st_names.name)\n",
    "    if 'time_start' in df.columns:\n",
    "        df['time_start_norm'] = df.time_start.apply(lambda x: time.strftime(time_format, time.localtime(x)))\n",
    "    if 'time_end' in df.columns:\n",
    "        df['time_end_norm'] = df.time_end.apply(lambda x: time.strftime(time_format, time.localtime(x)))\n",
    "    if 'oper_location' in df.columns:\n",
    "        df['oper_location_name'] = df.oper_location.map(st_names.name)    \n",
    "        df.oper_location_name.fillna(0, inplace=True)\n",
    "    if ('oper_location' in df.columns) & ('st_from' in df.columns) & ('st_to' in df.columns):        \n",
    "        df['loc_name'] = df.oper_location_name\n",
    "        df.loc[df.loc_name == 0, 'loc_name'] = df.st_from_name + ' - ' + df.st_to_name\n",
    "    if 'oper_time' in df.columns:\n",
    "        df['oper_time_f'] = df.oper_time.apply(lambda x: time.strftime(time_format, time.localtime(x)))       \n",
    "\n",
    "    \n",
    "add_info(train_plan)\n",
    "add_info(loco_plan)\n",
    "add_info(team_plan)\n",
    "add_info(loco_info)\n",
    "add_info(team_info)\n",
    "add_info(train_info)\n",
    "train_plan = train_plan.merge(train_info, on='train', suffixes=('', '_info'), how='left')\n",
    "loco_plan = loco_plan.merge(loco_info, on='loco', suffixes=('', '_info'), how='left')\n",
    "team_plan = team_plan.merge(team_info, on='team', suffixes=('', '_info'), how='left')\n",
    "team_plan['team_type'] = team_plan.team.apply(lambda x: 'Реальная' if str(x)[0] == '2' else 'Фейковая')"
   ]
  },
  {
   "cell_type": "code",
   "execution_count": null,
   "metadata": {
    "collapsed": false
   },
   "outputs": [],
   "source": [
    "add_line('Время запуска планировщика: %s' % nice_time(current_time))\n",
    "add_header('Тестирование входных данных в планировщике', h=1, p=False)"
   ]
  },
  {
   "cell_type": "markdown",
   "metadata": {},
   "source": [
    "<a id='21'></a>\n",
    "## Тесты нормативно-справочной информации [ToC](#toc)"
   ]
  },
  {
   "cell_type": "code",
   "execution_count": null,
   "metadata": {
    "collapsed": true
   },
   "outputs": [],
   "source": [
    "add_header('2.1. Тесты нормативно справочной информации', h=2, p=False)"
   ]
  },
  {
   "cell_type": "code",
   "execution_count": null,
   "metadata": {
    "collapsed": true
   },
   "outputs": [],
   "source": [
    "result = {}"
   ]
  },
  {
   "cell_type": "markdown",
   "metadata": {},
   "source": [
    "<a id='211'></a>\n",
    "### Количество станций [ToC](#toc)"
   ]
  },
  {
   "cell_type": "code",
   "execution_count": null,
   "metadata": {
    "collapsed": true
   },
   "outputs": [],
   "source": [
    "add_header('2.1.1. Количество станций', h=3, p=False)"
   ]
  },
  {
   "cell_type": "code",
   "execution_count": null,
   "metadata": {
    "collapsed": false
   },
   "outputs": [],
   "source": [
    "st_num = stations.station.drop_duplicates().count()\n",
    "if st_num > 0:\n",
    "    add_line('Всего передано станций: %d' % st_num)\n",
    "    result['2.1.1'] = True\n",
    "else:\n",
    "    add_line('FAIL: во входных данных отсутствуют станции')\n",
    "    result['2.1.1'] = False"
   ]
  },
  {
   "cell_type": "markdown",
   "metadata": {},
   "source": [
    "<a id='212'></a>\n",
    "### Станции смены бригад [ToC](#toc)"
   ]
  },
  {
   "cell_type": "code",
   "execution_count": null,
   "metadata": {
    "collapsed": true
   },
   "outputs": [],
   "source": [
    "add_header('2.1.2. Станции смены бригад', h=3, p=False)"
   ]
  },
  {
   "cell_type": "code",
   "execution_count": null,
   "metadata": {
    "collapsed": false
   },
   "outputs": [],
   "source": [
    "st_norm_time = stations[stations.norm_time != 0]\n",
    "st_norm_time_n = st_norm_time.station.drop_duplicates().count()\n",
    "if st_norm_time_n / st_num >= 0.1:\n",
    "    add_line('Всего передано станций смены бригад: %d' % st_norm_time_n)\n",
    "    result['2.1.2'] = True\n",
    "else:\n",
    "    add_line('FAIL: количество станций смены бригад (%d) меньше ожидаемого (%d)' % ())\n",
    "    result['2.1.2'] = False"
   ]
  },
  {
   "cell_type": "markdown",
   "metadata": {},
   "source": [
    "<a id='213'></a>\n",
    "### Станции смены локомотивов [ToC](#toc)"
   ]
  },
  {
   "cell_type": "code",
   "execution_count": null,
   "metadata": {
    "collapsed": true
   },
   "outputs": [],
   "source": [
    "add_header('2.1.3. Станции смены локомотивов', h=3, p=False)"
   ]
  },
  {
   "cell_type": "markdown",
   "metadata": {},
   "source": [
    "<a id='214'></a>\n",
    "### Покрытие тяговыми плечами [ToC](#toc)"
   ]
  },
  {
   "cell_type": "code",
   "execution_count": null,
   "metadata": {
    "collapsed": true
   },
   "outputs": [],
   "source": [
    "add_header('2.1.4. Покрытие тяговыми плечами', h=3, p=False)"
   ]
  },
  {
   "cell_type": "code",
   "execution_count": null,
   "metadata": {
    "collapsed": false
   },
   "outputs": [],
   "source": [
    "links['link'] = list(zip(links.st_from, links.st_to))\n",
    "add_info(links)\n",
    "st_reg = stations.groupby('station').loco_region.unique()\n",
    "links['st_from_regs'] = links.st_from.map(st_reg)\n",
    "links['st_to_regs'] = links.st_to.map(st_reg)\n",
    "links['link_regs'] = links.st_from_regs.combine(links.st_to_regs, np.intersect1d)\n",
    "links_no_reg = links[links.link_regs.apply(len) == 0]\n",
    "if links_no_reg.empty:\n",
    "    add_line('Все участки планирования покрыты тяговыми плечами')\n",
    "    result['2.1.4'] = True\n",
    "else:\n",
    "    add_header('FAIL: Всего %d участков планирования без тяговых плеч:' % links_no_reg.link.count())\n",
    "    add_line(links_no_reg)\n",
    "    result['2.1.4'] = False"
   ]
  },
  {
   "cell_type": "markdown",
   "metadata": {},
   "source": [
    "<a id='215'></a>\n",
    "### Покрытие участками обкатки бригад [ToC](#toc)"
   ]
  },
  {
   "cell_type": "code",
   "execution_count": null,
   "metadata": {
    "collapsed": true
   },
   "outputs": [],
   "source": [
    "add_header('2.1.5. Покрытие участками обкатки бригад', h=3, p=False)"
   ]
  },
  {
   "cell_type": "code",
   "execution_count": null,
   "metadata": {
    "collapsed": false
   },
   "outputs": [],
   "source": [
    "if 'link_eval' not in twr.columns:\n",
    "    twr['link_eval'] = twr.link.apply(literal_eval)\n",
    "    twr['st_from'] = twr.link_eval.apply(lambda x: str(x[0]))\n",
    "    twr['st_to'] = twr.link_eval.apply(lambda x: str(x[1]))\n",
    "\n",
    "twr['link'] = list(zip(twr.st_from, twr.st_to))\n",
    "links['link_twr'] = links.link.map(twr.groupby('link').twr.unique())\n",
    "links_nan = links[links.link_twr.isnull()]\n",
    "links_not_nan = links.dropna(subset=['link_twr'])\n",
    "links_no_twr = links_not_nan[links_not_nan.link_twr.apply(len) == 0]\n",
    "if (links_nan.empty) | (links_no_twr.empty):\n",
    "    add_header('FAIL: Всего %d участков планирования без покрытия участками обкатки бригад. Примеры:' \n",
    "          % (links_nan.link.count() + links_no_twr.link.count()))\n",
    "    if not links_nan.empty:\n",
    "        add_line(links_nan[['link', 'st_from_name', 'st_to_name', 'link_twr']].head(30))\n",
    "    if not links_no_twr.empty:\n",
    "        add_line(links_no_twr[['link', 'st_from_name', 'st_to_name', 'link_twr']].head(30))\n",
    "    result['2.1.5'] = False\n",
    "else:\n",
    "    add_line('Все участки планирования покрыты участками обкатки бригад')\n",
    "    result['2.1.5'] = True"
   ]
  },
  {
   "cell_type": "markdown",
   "metadata": {},
   "source": [
    "<a id='22'></a>\n",
    "## Тесты по поездам [ToC](#toc)"
   ]
  },
  {
   "cell_type": "code",
   "execution_count": null,
   "metadata": {
    "collapsed": true
   },
   "outputs": [],
   "source": [
    "add_header('2.2. Тесты по поездам', h=2, p=False)"
   ]
  },
  {
   "cell_type": "markdown",
   "metadata": {},
   "source": [
    "<a id='221'></a>\n",
    "### Простые тесты (поезда переданы без дублирования, с заполненными атрибутами и местоположением) [ToC](#toc)"
   ]
  },
  {
   "cell_type": "code",
   "execution_count": null,
   "metadata": {
    "collapsed": false
   },
   "outputs": [],
   "source": [
    "add_header('2.2.1. Поезда переданы в планировщик', h=3, p=False)\n",
    "result['2.2.1'] = True"
   ]
  },
  {
   "cell_type": "code",
   "execution_count": null,
   "metadata": {
    "collapsed": false
   },
   "outputs": [],
   "source": [
    "train_n = train_info.train.drop_duplicates().count()\n",
    "if train_n > 0:\n",
    "    add_line('Всего %d поездов передано в планировщик' % train_n)\n",
    "    result['2.2.1'] = result['2.2.1'] & True    \n",
    "else:\n",
    "    add_line('FAIL: поезда не переданы в планировщик')\n",
    "    result['2.2.1'] = result['2.2.1'] & False"
   ]
  },
  {
   "cell_type": "code",
   "execution_count": null,
   "metadata": {
    "collapsed": false
   },
   "outputs": [],
   "source": [
    "tr = train_info.train.value_counts()\n",
    "non_unique_trains = tr.loc[tr > 1]\n",
    "if len(non_unique_trains.index) == 0:\n",
    "    add_line('Неуникальных поездов не найдено')\n",
    "    result['2.2.1'] = result['2.2.1'] & True\n",
    "else:\n",
    "    add_header('Всего неуникальных поездов: %d' % len(non_unique_trains.index))\n",
    "    add_line(train_info.loc[train_info.train.isin(non_unique_trains.index)].head(10))\n",
    "    result['2.2.1'] = result['2.2.1'] & False"
   ]
  },
  {
   "cell_type": "code",
   "execution_count": null,
   "metadata": {
    "collapsed": false
   },
   "outputs": [],
   "source": [
    "tr_bad_attr = train_info[(train_info.number.apply(lambda x: type(x) != np.int64))\n",
    "                      | (train_info.weight.apply(lambda x: type(x) != np.int64))\n",
    "                      | (train_info.length.apply(lambda x: type(x) != np.int64))]\n",
    "tr_bad_attr_n = tr_bad_attr.train.drop_duplicates().count()\n",
    "if tr_bad_attr_n == 0:\n",
    "    add_line('Все атрибуты для поездов заполнены')\n",
    "    result['2.2.1'] = result['2.2.1'] & True\n",
    "else:\n",
    "    add_header('FAIL: для %d поездов не переданы номер, вес или длина' % tr_bad_attr_n)\n",
    "    cols = ['train', 'number', 'weight', 'length', 'ind434', 'oper_time', 'oper_location']\n",
    "    add_line(tr_bad_attr[cols].head(10))\n",
    "    result['2.2.1'] = result['2.2.1'] & False"
   ]
  },
  {
   "cell_type": "code",
   "execution_count": null,
   "metadata": {
    "collapsed": false
   },
   "outputs": [],
   "source": [
    "routes = pd.read_csv(FOLDER + 'routes.csv', converters={'train':str, 'st_from':str, 'st_to':str})\n",
    "add_info(routes)\n",
    "tr_no_routes = train_info[train_info.train.isin(routes.train) == False]\n",
    "if tr_no_routes.empty:\n",
    "    add_line('Для всех поездов переданы маршруты')\n",
    "    result['2.2.1'] = result['2.2.1'] & True\n",
    "else:\n",
    "    tr_no_routes_n = tr_no_routes.train.drop_duplicates().count()\n",
    "    add_header('FAIL: всего %d поездов без маршрута:' % tr_no_routes_n)\n",
    "    cols = ['train', 'number', 'weight', 'length', 'ind434', 'oper_time', 'oper_location']\n",
    "    add_line(tr_no_routes.head(10)[cols])\n",
    "    result['2.2.1'] = result['2.2.1'] & False    "
   ]
  },
  {
   "cell_type": "code",
   "execution_count": null,
   "metadata": {
    "collapsed": false
   },
   "outputs": [],
   "source": [
    "tr_bad_loc = train_info[(train_info.oper_location.isnull()) | (train_info.oper_location == '-1')]\n",
    "tr_bad_loc_n = tr_bad_loc.train.drop_duplicates().count()\n",
    "if tr_bad_loc_n == 0:\n",
    "    add_line('Все местоположения для поездов заполнены')\n",
    "    result['2.2.1'] = result['2.2.1'] & True\n",
    "else:\n",
    "    add_header('FAIL: для %d поездов не передано местоположение' % tr_bad_loc_n)\n",
    "    cols = ['train', 'number', 'weight', 'length', 'ind434', 'oper_time', 'oper_location']\n",
    "    add_line(tr_bad_loc[cols].head(10))\n",
    "    result['2.2.1'] = result['2.2.1'] & False"
   ]
  },
  {
   "cell_type": "markdown",
   "metadata": {},
   "source": [
    "<a id='222'></a>\n",
    "### Корректность фактов о местоположении [ToC](#toc)"
   ]
  },
  {
   "cell_type": "code",
   "execution_count": null,
   "metadata": {
    "collapsed": false
   },
   "outputs": [],
   "source": [
    "add_header('2.2.2. Корректность фактов о местоположении поездов', h=3, p=False)\n",
    "result['2.2.2'] = True"
   ]
  },
  {
   "cell_type": "markdown",
   "metadata": {},
   "source": [
    "<a id='2221'></a>\n",
    "#### Присутствие станции или участка в соответствующем справочнике [ToC](#toc)"
   ]
  },
  {
   "cell_type": "code",
   "execution_count": null,
   "metadata": {
    "collapsed": false
   },
   "outputs": [],
   "source": [
    "pd.set_option('display.max_colwidth', 50)\n",
    "bad_loc_st = train_info[(train_info.st_from == '-1') & (train_info.oper_location.isin(stations.station) == False)]\n",
    "bad_loc_st_n = colcount(bad_loc_st, 'train')\n",
    "if bad_loc_st_n == 0:\n",
    "    add_header('Для всех поездов, находящихся на станциях, заданы корректные станции')\n",
    "    result['2.2.2'] = result['2.2.2'] & True\n",
    "else:\n",
    "    add_header('Всего %d поездов, находящихся на станциях (%.2f%%), для которых заданы некорректные станции. Примеры:' \n",
    "          % (bad_loc_st_n, 100 * bad_loc_st_n / colcount(train_info[train_info.st_from == '-1'], 'train')))\n",
    "    add_line(bad_loc_st[['train', 'oper_time', 'oper_location', 'loc_name']])\n",
    "    result['2.2.2'] = result['2.2.2'] & False\n",
    "\n",
    "train_info['link'] = list(zip(train_info.st_from, train_info.st_to))\n",
    "bad_loc_link = train_info[((train_info.st_from != '-1') | (train_info.st_to != '-1')) \n",
    "                          & (train_info.link.isin(links.link) == False)]\n",
    "bad_loc_link_n = colcount(bad_loc_link, 'train')\n",
    "if bad_loc_link_n == 0:\n",
    "    add_header('Для всех поездов, находящихся на участках, заданы корректные участки планирования')\n",
    "    result['2.2.2'] = result['2.2.2'] & True\n",
    "else:\n",
    "    add_header('Всего %d поездов, находящихся на участках (%.2f%%), для которых заданы некорректные участки. Примеры:' \n",
    "          % (bad_loc_link_n, \n",
    "             100 * bad_loc_link_n / colcount(train_info[((train_info.st_from != '-1') | (train_info.st_to != '-1'))], 'train')))\n",
    "    add_line(bad_loc_link[['train', 'oper_time', 'st_from', 'st_to', 'loc_name']])\n",
    "    result['2.2.2'] = result['2.2.2'] & False\n",
    "pd.set_option('display.max_colwidth', 30)"
   ]
  },
  {
   "cell_type": "markdown",
   "metadata": {},
   "source": [
    "<a id='2222'></a>\n",
    "#### Присутствие станции или участка в маршруте поезда [ToC](#toc)"
   ]
  },
  {
   "cell_type": "code",
   "execution_count": null,
   "metadata": {
    "collapsed": false
   },
   "outputs": [],
   "source": [
    "def check_route(oper, df):\n",
    "    a = train_info[(train_info.oper == oper) & (train_info.train.isin(df.train) == False)]\n",
    "    if a.empty:\n",
    "        return True\n",
    "    else:\n",
    "        fail_n = a.train.drop_duplicates().count()\n",
    "        add_header('FAIL: в маршруте поезда не указаны станция или участок из операции %s для %d поездов. Примеры:' \n",
    "              % (oper, fail_n))\n",
    "        cols = ['train', 'oper', 'oper_location', 'oper_time', 'loc_name']\n",
    "        add_line(a[cols].head(10 if fail_n > 20 else fail_n))\n",
    "        add_line('')\n",
    "        return False\n",
    "\n",
    "routes['oper_st_from'] = routes.train.map(train_info.set_index('train').st_from)\n",
    "routes['oper_st_to'] = routes.train.map(train_info.set_index('train').st_to)\n",
    "routes['oper_st'] = routes.train.map(train_info.set_index('train').oper_location)\n",
    "routes['oper_type'] = routes.train.map(train_info.set_index('train').oper)\n",
    "routes['link'] = list(zip(routes.st_from, routes.st_to))\n",
    "routes['info_link'] = list(zip(routes.oper_st_from, routes.oper_st_to))\n",
    "routes['link_in_route'] = (routes.link == routes.info_link)\n",
    "routes['st_in_route'] = (routes.st_from == routes.oper_st) | (routes.st_to == routes.oper_st)\n",
    "cols = ['train', 'oper_type', 'link', 'info_link', 'oper_st', 'link_in_route', 'st_in_route']\n",
    "\n",
    "check_dict = {'depart':'link_in_route', 'arrive':'st_in_route', 'ready':'st_in_route'}\n",
    "for key in check_dict.keys():    \n",
    "    df = routes[(routes.oper_type == key) & (routes[check_dict[key]] == True)]\n",
    "    res = check_route(key, df)    \n",
    "    result['2.2.2'] = result['2.2.2'] & res   \n",
    "#routes[routes.train == '200230257428'][cols]"
   ]
  },
  {
   "cell_type": "markdown",
   "metadata": {},
   "source": [
    "<a id='223'></a>\n",
    "### Корректное время отправления поезда [ToC](#toc)"
   ]
  },
  {
   "cell_type": "code",
   "execution_count": null,
   "metadata": {
    "collapsed": true
   },
   "outputs": [],
   "source": [
    "add_header('2.2.3. Корректное время отправления поездов', h=3, p=False)\n",
    "result['2.2.3'] = True"
   ]
  },
  {
   "cell_type": "code",
   "execution_count": null,
   "metadata": {
    "collapsed": true
   },
   "outputs": [],
   "source": [
    "current_time_f = time.strftime(time_format, time.localtime(current_time))\n",
    "train_info['time_delta'] = current_time - train_info.oper_time\n",
    "train_info['link'] = list(zip(train_info.st_from, train_info.st_to))\n",
    "train_info['tt_link'] = train_info.link.map(links.set_index('link').time)\n",
    "train_info['current_time_f'] = current_time_f\n",
    "total_deps = train_info[train_info.oper == 'depart'].train.drop_duplicates().count()\n",
    "cols = ['train', 'link', 'oper_time', 'oper_time_f', 'current_time_f', 'time_delta', 'tt_link']"
   ]
  },
  {
   "cell_type": "markdown",
   "metadata": {},
   "source": [
    "#### Проверка поездов, отправленных до начала планирования"
   ]
  },
  {
   "cell_type": "code",
   "execution_count": null,
   "metadata": {
    "collapsed": false
   },
   "outputs": [],
   "source": [
    "past_deps = train_info[(train_info.oper == 'depart') & (train_info.time_delta > 3 * train_info.tt_link)]\n",
    "if not past_deps.empty:    \n",
    "    add_header('FAIL: Всего %d поездов (%.2f%% от находящихся на перегоне) с временем отправления очень в прошлом' \n",
    "          % (past_deps.train.drop_duplicates().count(), 100 * past_deps.train.drop_duplicates().count() /  total_deps))\n",
    "    add_line('Максимальное отставание времени отправления поезда по сравнению с временем начала планирования: %.2f ч.' \n",
    "          % ((past_deps.time_delta).max() / 3600))\n",
    "    add_line(past_deps.sort_values('time_delta', ascending=False).head(10)[cols])    \n",
    "    result['2.2.3'] = result['2.2.3'] & False\n",
    "else:\n",
    "    add_line('Нет случаев отправления поездов сильно в прошлом')\n",
    "    result['2.2.3'] = result['2.2.3'] & True"
   ]
  },
  {
   "cell_type": "markdown",
   "metadata": {},
   "source": [
    "#### Проверка поездов, отправленных после начала планирования"
   ]
  },
  {
   "cell_type": "code",
   "execution_count": null,
   "metadata": {
    "collapsed": false
   },
   "outputs": [],
   "source": [
    "# future\n",
    "future_deps = train_info[(train_info.oper == 'depart') & (train_info.time_delta < 0)]\n",
    "if not future_deps.empty:\n",
    "    add_header('\\nFAIL: Всего %d поездов (%.2f%% от находящихся на перегоне) с временем отправления в будущем' \n",
    "          % (future_deps.train.drop_duplicates().count(), 100 * future_deps.train.drop_duplicates().count() / total_deps))\n",
    "    add_line('Максимальное превышение времени отправления поезда по сравнению с временем начала планировнаия: %.2f ч.' \n",
    "          % ((-future_deps.time_delta).max() / 3600))\n",
    "    add_line(future_deps.sort_values('time_delta').head(10)[cols])\n",
    "    result['2.2.3'] = result['2.2.3'] & False\n",
    "else:\n",
    "    add_line('Нет случаев отправления поездов в будущем')\n",
    "    result['2.2.3'] = result['2.2.3'] & True"
   ]
  },
  {
   "cell_type": "code",
   "execution_count": null,
   "metadata": {
    "collapsed": false
   },
   "outputs": [],
   "source": [
    "sns.set(context='notebook', style='whitegrid', color_codes='dark')\n",
    "fig, ax = plt.subplots(ncols=2, nrows=1, figsize=(12, 4))\n",
    "if past_deps.train.count() > 1:\n",
    "    sns.distplot(-past_deps.time_delta/3600, hist=False, kde_kws={'shade':True}, color='g', ax=ax[0])\n",
    "    ax[0].set(xlabel='Величина запаздывания, ч.', title='Время отправления поезда в прошлом')\n",
    "if future_deps.train.count() > 1:\n",
    "    sns.distplot(-future_deps.time_delta/3600, hist=False, kde_kws={'shade':True}, color='b', ax=ax[1])\n",
    "    ax[1].set(xlabel='Величина превышения, ч.', title='Время отправления поезда в будущем')\n",
    "sns.despine()"
   ]
  },
  {
   "cell_type": "markdown",
   "metadata": {},
   "source": [
    "<a id='224'></a>\n",
    "### Связь поезда с локомотивом [ToC](#toc)"
   ]
  },
  {
   "cell_type": "code",
   "execution_count": null,
   "metadata": {
    "collapsed": true
   },
   "outputs": [],
   "source": [
    "add_header('2.2.4. Связь поезда с локомотивом', h=3, p=False)"
   ]
  },
  {
   "cell_type": "code",
   "execution_count": null,
   "metadata": {
    "collapsed": true
   },
   "outputs": [],
   "source": [
    "train_dep = train_info[train_info.oper == 'depart']\n",
    "train_dep_total = colcount(train_dep, 'train')"
   ]
  },
  {
   "cell_type": "markdown",
   "metadata": {},
   "source": [
    "#### Несколько локомотивов, ссылающихся на поезд"
   ]
  },
  {
   "cell_type": "code",
   "execution_count": null,
   "metadata": {
    "collapsed": false
   },
   "outputs": [],
   "source": [
    "a = loco_info.groupby('train').loco.unique().apply(len).sort_values()\n",
    "train_info['locos'] = train_info.train.map(loco_info.groupby('train').loco.unique())\n",
    "train_two_locos = a[(a > 1) & (a.index != '-1')]\n",
    "cols = ['train', 'number', 'oper', 'oper_time_f', 'loc_name', 'locos']\n",
    "ttl_no9 = train_info[(train_info.train.isin(train_two_locos.index)) \n",
    "           & (train_info.number.apply(lambda x: x // 1000 != 9))]\n",
    "if ttl_no9.empty:\n",
    "    add_line('Нет поездов (кроме соединенных) с двумя локомотивами, ссылающимися на этот поезд')\n",
    "    result['2.2.4'] = True\n",
    "else:\n",
    "    ttl_no9_n = ttl_no9.train.count()\n",
    "    add_header('FAIL: Всего %d поездов (кроме соединенных) с двумя локомотивами, ссылающимися на этот поезд:' % ttl_no9_n)\n",
    "    add_line(ttl_no9[cols].sort_values('number').head(10 if ttl_no9_n > 20 else ttl_no9_n))\n",
    "    result['2.2.4'] = False"
   ]
  },
  {
   "cell_type": "markdown",
   "metadata": {},
   "source": [
    "#### Поезд на перегоне без локомотива, ссылающегося на него"
   ]
  },
  {
   "cell_type": "code",
   "execution_count": null,
   "metadata": {
    "collapsed": false
   },
   "outputs": [],
   "source": [
    "no_loco = train_info[(train_info.locos.isnull()) & (train_info.oper == 'depart')]\n",
    "if no_loco.empty:\n",
    "    no_loco_n = 0\n",
    "    add_line('У всех отправленных поездов есть локомотив, ссылающийся на поезд')\n",
    "    result['2.2.4'] = result['2.2.4'] & True\n",
    "else:\n",
    "    no_loco_n = no_loco.train.count()\n",
    "    add_header('Всего %d отправленных поездов без локомотива, ссылающегося на этот поезд (%.2f%%):' \n",
    "               % (no_loco_n, 100 * no_loco_n / train_dep_total))\n",
    "    add_line(no_loco.sort_values('number')[cols].head(10 if no_loco_n > 20 else no_loco_n))\n",
    "    result['2.2.4'] = result['2.2.4'] & False"
   ]
  },
  {
   "cell_type": "markdown",
   "metadata": {},
   "source": [
    "#### Различное местоположение поезда и ссылающегося на него локомотива"
   ]
  },
  {
   "cell_type": "code",
   "execution_count": null,
   "metadata": {
    "collapsed": false
   },
   "outputs": [],
   "source": [
    "train_info['loco_location'] = train_info.train.map(loco_info.groupby('train').oper_location.unique())\n",
    "train_info['loco_loc_name'] = train_info.train.map(loco_info.groupby('train').loc_name.unique())\n",
    "cols = ['train', 'number', 'oper', 'oper_time_f', 'loc_name', 'loco_loc_name']\n",
    "train_info['check_location'] = train_info\\\n",
    "    .apply(lambda row: False if type(row.loco_location) == float else row.oper_location in row.loco_location, axis=1)\n",
    "fail_location = train_info[(train_info.oper == 'depart') \n",
    "                           & (train_info.locos.isnull() == False)\n",
    "                           & (train_info.check_location == False)]\n",
    "\n",
    "if fail_location.empty:\n",
    "    fail_location_n = 0\n",
    "    add_line('Для всех отправленных поездов местоположение поезда и локомотива совпадает')\n",
    "    result['2.2.4'] = result['2.2.4'] & True\n",
    "else:\n",
    "    fail_location_n = fail_location.train.count()\n",
    "    add_header('FAIL: Всего %d отправленных поездов, для которых местоположение поезда и локомотива отличается (%.2f%%):' \n",
    "               % (fail_location_n, 100 * fail_location_n / train_dep_total))\n",
    "    add_line(fail_location.sort_values('number').head(10 if fail_location_n > 20 else fail_location_n)[cols])\n",
    "    result['2.2.4'] = result['2.2.4'] & False"
   ]
  },
  {
   "cell_type": "markdown",
   "metadata": {},
   "source": [
    "#### Различное время отправления поезда и ссылающегося на него локомотива"
   ]
  },
  {
   "cell_type": "code",
   "execution_count": null,
   "metadata": {
    "collapsed": false
   },
   "outputs": [],
   "source": [
    "train_info['loco_time'] = train_info.train.map(loco_info.groupby('train').oper_time.unique())\n",
    "train_info['loco_time_f'] = train_info.train.map(loco_info.groupby('train').oper_time_f.unique())\n",
    "cols = ['train', 'number', 'oper', 'oper_time_f', 'loco_time_f']\n",
    "train_info['check_time'] = train_info\\\n",
    "    .apply(lambda row: False if type(row.loco_time_f) == float else row.oper_time_f in row.loco_time_f[0], axis=1)\n",
    "\n",
    "fail_time = train_info[(train_info.oper == 'depart') \n",
    "                         & (train_info.locos.isnull() == False)\n",
    "                         & (train_info.check_time == False)]\n",
    "\n",
    "if fail_time.empty:\n",
    "    fail_time_n = 0\n",
    "    add_line('Для всех отправленных поездов время отправления поезда и локомотива совпадает')\n",
    "    result['2.2.4'] = result['2.2.4'] & True\n",
    "else:\n",
    "    fail_time_n = fail_time.train.count()\n",
    "    add_header('FAIL: Всего %d отправленных поездов, для которых время отправления поезда и локомотива отличается (%.2f%%):' \n",
    "               % (fail_time_n, 100 * fail_time_n / train_dep_total))\n",
    "    add_line(fail_time.sort_values('number').head(10 if fail_time_n > 20 else fail_time_n)[cols])\n",
    "    result['2.2.4'] = result['2.2.4'] & False"
   ]
  },
  {
   "cell_type": "markdown",
   "metadata": {},
   "source": [
    "<a id='225'></a>\n",
    "### Соединенные поезда [ToC](#toc)\n",
    "\n",
    "Список проверок:\n",
    "1. Если у поезда есть непустой атрибут `joint`, то должен быть еще хотя бы один поезд, у которого в атрибуте `joint` указано это же значение.\n",
    "2. Если у поезда есть непустой атрибут `joint`, то среди поездов на входе должен быть поезд с `id`, указанным в этом атрибуте.\n",
    "3. Все поезда, имеющие номер больше 9000, являются сдвоенными (то есть имеют несколько обычных поездов, ссылающихся на них)."
   ]
  },
  {
   "cell_type": "code",
   "execution_count": null,
   "metadata": {
    "collapsed": true
   },
   "outputs": [],
   "source": [
    "add_header('2.2.5. Соединенные поезда', h=3, p=False)"
   ]
  },
  {
   "cell_type": "markdown",
   "metadata": {},
   "source": [
    "#### Соединенные поезда состоят ровно из двух обычных поездов [ToC](#toc)"
   ]
  },
  {
   "cell_type": "code",
   "execution_count": null,
   "metadata": {
    "collapsed": false
   },
   "outputs": [],
   "source": [
    "info_cols = ['train', 'number', 'weight', 'length', 'joint', 'joint_number', 'num_in_joint']\n",
    "train_info['joint_number'] = train_info.joint.map(train_info[['train', 'number']].set_index('train').number)\n",
    "train_info['num_in_joint'] = train_info.joint.map(train_info[train_info.joint != '-1'].joint.value_counts())\n",
    "in_joint = train_info[train_info.joint != '-1']\n",
    "\n",
    "correct_num = 2\n",
    "incorrect = train_info[(train_info.num_in_joint.notnull()) \n",
    "                       & (train_info.num_in_joint != correct_num)][info_cols]\n",
    "incorrect_n = colcount(incorrect, 'joint')\n",
    "total = in_joint.joint.drop_duplicates().count()\n",
    "if incorrect_n != 0:\n",
    "    add_header('Всего %d соединенных поездов (из %d, %.2f%%), состоящих не из двух поездов:'\n",
    "          % (incorrect_n, total, 100 * incorrect_n / total))    \n",
    "    result['2.2.5'] = False\n",
    "else:\n",
    "    add_header('Все соединенные поезда состоят из двух поездов')\n",
    "    result['2.2.5'] = True\n",
    "\n",
    "for n in sorted(in_joint.num_in_joint.unique()):    \n",
    "    if n != correct_num:\n",
    "        inj_number = in_joint[in_joint.num_in_joint == int(n)]\n",
    "        add_header('Всего %d соединенных поездов, состоящих из %d поездов, примеры:' \n",
    "                   % (inj_number.joint.drop_duplicates().count(), n))\n",
    "        add_line(inj_number.sort_values(['num_in_joint', 'joint_number', 'joint']).head(10)[info_cols])"
   ]
  },
  {
   "cell_type": "markdown",
   "metadata": {},
   "source": [
    "#### По всем сдвоенным поездам есть входные данные [ToC](#toc)"
   ]
  },
  {
   "cell_type": "code",
   "execution_count": null,
   "metadata": {
    "collapsed": false
   },
   "outputs": [],
   "source": [
    "train_info['num_included'] = train_info.train.map(in_joint.drop_duplicates('joint').set_index('joint').num_in_joint)\n",
    "joints = train_info[train_info.train.isin(train_info.joint.drop_duplicates())]\n",
    "# add_header('Всего %d сдвоенных поездов (из %d, %.2f%%) с входными данными:' \n",
    "#       % (joints.train.count(), total, 100 * joints.train.count() / total))\n",
    "# add_line(joints.sort_values('number')[['train', 'number', 'weight', 'length', 'num_included']])\n",
    "\n",
    "joint_no_info = in_joint[in_joint.joint_number.isnull()].drop_duplicates('joint')\n",
    "if joint_no_info.empty:\n",
    "    add_header('По всем сдвоенным поездам переданы входные данные')\n",
    "    result['2.2.5'] = result['2.2.5'] & True\n",
    "else:\n",
    "    add_header('\\nВсего %d сдвоенных поездов (из %d, %.2f%%) без входных данных. Примеры:' \n",
    "          % (joint_no_info.joint.count(), total, 100 * joint_no_info.train.count() / total))\n",
    "    add_line(joint_no_info.head(10)[['joint', 'joint_number', 'num_in_joint']].sort_values('joint'))\n",
    "    result['2.2.5'] = result['2.2.5'] & False"
   ]
  },
  {
   "cell_type": "code",
   "execution_count": null,
   "metadata": {
    "collapsed": false
   },
   "outputs": [],
   "source": [
    "trains9000 = train_info[train_info.number >= 9000]\n",
    "cols = ['train', 'number', 'ind434', 'joint', 'oper', 'oper_time_f', 'loc_name']\n",
    "trains9000_joint = trains9000[trains9000.joint != '-1']\n",
    "add_header('Всего %d (%.2f%%) поездов с номерами > 9000 имеют ссылку на сдвоенный поезд (якобы едут в составе сдвоенного)' \n",
    "          % (trains9000_joint.train.count(), 100 * trains9000_joint.train.count() / trains9000.train.count()))\n",
    "add_line(trains9000_joint.head(10)[cols])"
   ]
  },
  {
   "cell_type": "markdown",
   "metadata": {},
   "source": [
    "<a id='23'></a>\n",
    "## Тесты по локомотивам [ToC](#toc)"
   ]
  },
  {
   "cell_type": "code",
   "execution_count": null,
   "metadata": {
    "collapsed": false
   },
   "outputs": [],
   "source": [
    "add_header('2.3. Тесты по локомотивам', h=2, p=False)"
   ]
  },
  {
   "cell_type": "code",
   "execution_count": null,
   "metadata": {
    "collapsed": true
   },
   "outputs": [],
   "source": [
    "loco_info['ser_name'] = loco_info.series.map(loco_series.set_index('ser_id').ser_name)"
   ]
  },
  {
   "cell_type": "markdown",
   "metadata": {},
   "source": [
    "<a id='231'></a>\n",
    "### 2.3.1. Простые тесты по локомотивам [ToC](#toc)"
   ]
  },
  {
   "cell_type": "code",
   "execution_count": null,
   "metadata": {
    "collapsed": true
   },
   "outputs": [],
   "source": [
    "LOCO_EXPECTED_NUMBER = 1500"
   ]
  },
  {
   "cell_type": "code",
   "execution_count": null,
   "metadata": {
    "collapsed": false
   },
   "outputs": [],
   "source": [
    "result['2.3.1'] = True\n",
    "loco_n = colcount(loco_info, 'loco')\n",
    "if loco_n > LOCO_EXPECTED_NUMBER:\n",
    "    add_line('Всего %d локомотивов передано в планировщик' % loco_n)\n",
    "    result['2.3.1'] = result['2.3.1'] & True    \n",
    "else:\n",
    "    add_line('FAIL: в планировщик передано мало локомотивов (%d вместо ожидаемых %d)' % (loco_n, LOCO_EXPECTED_NUMBER))\n",
    "    result['2.3.1'] = result['2.3.1'] & False"
   ]
  },
  {
   "cell_type": "markdown",
   "metadata": {},
   "source": [
    "<a id='232'></a>\n",
    "### 2.3.2. Местоположение локомотивов [ToC](#toc)"
   ]
  },
  {
   "cell_type": "code",
   "execution_count": null,
   "metadata": {
    "collapsed": true
   },
   "outputs": [],
   "source": [
    "add_header('2.3.2. Местоположение локомотивов', h=3, p=False)"
   ]
  },
  {
   "cell_type": "code",
   "execution_count": null,
   "metadata": {
    "collapsed": false
   },
   "outputs": [],
   "source": [
    "loco_bad_loc = loco_info[(loco_info.oper_location.isnull()) | (loco_info.oper_location == '-1')]\n",
    "loco_bad_loc_n = colcount(loco_bad_loc, 'loco')\n",
    "if loco_bad_loc_n == 0:\n",
    "    add_line('Все местоположения для локомотивов заполнены')\n",
    "    result['2.3.2'] = True\n",
    "else:\n",
    "    add_header('FAIL: для %d локомотивов не передано местоположение' % loco_bad_loc_n)\n",
    "    cols = ['loco', 'number', 'ser_name', 'oper_time', 'oper_location']\n",
    "    add_line(loco_bad_loc[cols].head(10))\n",
    "    result['2.3.2'] = False"
   ]
  },
  {
   "cell_type": "code",
   "execution_count": null,
   "metadata": {
    "collapsed": false
   },
   "outputs": [],
   "source": [
    "pd.set_option('display.max_colwidth', 50)\n",
    "bad_loc_st = loco_info[(loco_info.st_from == '-1') & (loco_info.oper_location.isin(stations.station) == False)]\n",
    "bad_loc_st_n = colcount(bad_loc_st, 'loco')\n",
    "if bad_loc_st_n == 0:\n",
    "    add_header('Для всех локомотивов, находящихся на станциях, заданы корректные станции')\n",
    "    result['2.3.2'] = result['2.3.2'] & True\n",
    "else:\n",
    "    add_header('Всего %d локомотивов, находящихся на станциях (%.2f%%), для которых заданы некорректные станции. Примеры:' \n",
    "          % (bad_loc_st_n, 100 * bad_loc_st_n / colcount(loco_info[loco_info.st_from == '-1'], 'loco')))\n",
    "    add_line(bad_loc_st[['loco', 'oper_time', 'oper_location', 'st_from', 'st_to', 'loc_name']])\n",
    "    result['2.3.2'] = result['2.3.2'] & False\n",
    "\n",
    "loco_info['link'] = list(zip(loco_info.st_from, loco_info.st_to))\n",
    "bad_loc_link = loco_info[((loco_info.st_from != '-1') | (loco_info.st_to != '-1')) \n",
    "                          & (loco_info.link.isin(links.link) == False)]\n",
    "bad_loc_link_n = colcount(bad_loc_link, 'loco')\n",
    "if bad_loc_link_n == 0:\n",
    "    add_header('Для всех локомотивов, находящихся на участках, заданы корректные участки планирования')\n",
    "    result['2.3.2'] = result['2.3.2'] & True\n",
    "else:\n",
    "    add_header('Всего %d локомотивов, находящихся на участках (%.2f%%), для которых заданы некорректные участки. Примеры:' \n",
    "          % (bad_loc_link_n, \n",
    "             100 * bad_loc_link_n / colcount(loco_info[((loco_info.st_from != '-1') | (loco_info.st_to != '-1'))], 'loco')))\n",
    "    add_line(bad_loc_link[['loco', 'oper_time', 'st_from', 'st_to', 'loc_name']])\n",
    "    result['2.3.2'] = result['2.3.2'] & False\n",
    "pd.set_option('display.max_colwidth', 30)"
   ]
  },
  {
   "cell_type": "markdown",
   "metadata": {},
   "source": [
    "<a id='233'></a>\n",
    "### 2.3.3. Время и пробег до ТО-2 [ToC](#toc)"
   ]
  },
  {
   "cell_type": "code",
   "execution_count": null,
   "metadata": {
    "collapsed": true
   },
   "outputs": [],
   "source": [
    "add_header('2.3.3. Время и пробег до ТО-2', h=3, p=False)"
   ]
  },
  {
   "cell_type": "code",
   "execution_count": null,
   "metadata": {
    "collapsed": false
   },
   "outputs": [],
   "source": [
    "info_cols = ['loco', 'ser_name', 'oper_location', 'oper_time', 'dts', 'tts']\n",
    "loco_n = loco_info.loco.drop_duplicates().count()\n",
    "loco_info.dts.fillna(-1, inplace=True)\n",
    "loco_info.tts.fillna(-1, inplace=True)\n",
    "no_ts = loco_info[(loco_info.dts == -1) | (loco_info.tts == -1)]\n",
    "no_ts_n = no_ts.loco.drop_duplicates().count()\n",
    "outliers = loco_info[loco_info.tts.apply(lambda x: np.abs(x - loco_info.tts.mean()) > 3 * loco_info.tts.std())]\n",
    "outliers_n = outliers.loco.drop_duplicates().count()\n",
    "#print('Всего локомотивов без tts/dts: %d (%.2f%%)' % (no_ts_n, 100 * no_ts_n / loco_n))\n",
    "sns.set(style='whitegrid', context='notebook', palette='dark')\n",
    "ax = sns.distplot(loco_info[loco_info.loco.isin(outliers.loco) == False].tts / 3600, hist=False, kde_kws={'shade':True})\n",
    "ax.set(title='Распределение оставшегося времени до ТО-2 (без выборосов)\\nСреднее оставшееся время = %.2f ч.'\n",
    "       % (loco_info[loco_info.loco.isin(outliers.loco) == False].tts.mean() / 3600), xlabel='Время до ТО-2, ч')\n",
    "sns.despine()\n",
    "\n",
    "if no_ts_n == 0:\n",
    "    add_line('Для всех локомотивов заданы время и пробег до ТО-2')    \n",
    "    result['2.3.3'] = True\n",
    "else:\n",
    "    add_header('Всего %d локомотивов, для которых не заданы время или пробег до ТО-2. Примеры:')\n",
    "    add_line(no_ts[info_cols])\n",
    "    result['2.3.3'] = False\n",
    "add_line('Всего локомотивов с замененными временем/пробегом до ТО-2: %d (%.2f%%)' % (outliers_n, 100 * outliers_n / loco_n))"
   ]
  },
  {
   "cell_type": "markdown",
   "metadata": {},
   "source": [
    "<a id='234'></a>\n",
    "### 2.3.4. Связь локомотива с поездом [ToC](#toc)"
   ]
  },
  {
   "cell_type": "code",
   "execution_count": null,
   "metadata": {
    "collapsed": true
   },
   "outputs": [],
   "source": [
    "add_header('2.3.4. Связь локомотива с поездом', h=3, p=False)"
   ]
  },
  {
   "cell_type": "code",
   "execution_count": null,
   "metadata": {
    "collapsed": false
   },
   "outputs": [],
   "source": [
    "info_cols = ['loco', 'ser_name', 'oper_time', 'st_from_name', 'st_to_name', 'train']\n",
    "loco_info['link'] = list(zip(loco_info.st_from, loco_info.st_to))\n",
    "loco_info['train_oper'] = loco_info.train.map(train_info.set_index('train').oper)\n",
    "loco_info['train_location'] = loco_info.train.map(train_info.set_index('train').oper_location)\n",
    "loco_info['train_oper_time'] = loco_info.train.map(train_info.set_index('train').oper_time)\n",
    "loco_info['train_oper_time_f'] = loco_info.train_oper_time.apply(lambda x: nice_time(x))\n",
    "loco_info.train.fillna('-1', inplace=True)\n",
    "loco_dep = loco_info[loco_info.st_from != '-1']\n",
    "loco_dep_correct = loco_dep[loco_dep.link.isin(links.link)]\n",
    "loco_dep_correct_n = colcount(loco_dep_correct, 'loco')\n",
    "add_line('Всего %d локомотивов на корректных участках' % loco_dep_correct_n)"
   ]
  },
  {
   "cell_type": "code",
   "execution_count": null,
   "metadata": {
    "collapsed": false
   },
   "outputs": [],
   "source": [
    "info_cols = ['loco', 'ser_name', 'oper_time', 'st_from_name', 'st_to_name', 'train']\n",
    "loco_train = loco_info[(loco_info.train != '-1')]\n",
    "loco_dep_train_nan = loco_info[(loco_info.train != '-1') & (loco_info.train.isin(train_info.train) == False)]\n",
    "if loco_dep_train_nan.empty:\n",
    "    add_line('Нет локомотивов со ссылкой на несуществующий поезд')\n",
    "    result['2.3.4'] = True\n",
    "else:\n",
    "    loco_dep_train_nan_n = colcount(loco_dep_train_nan, 'loco')\n",
    "    add_header('FAIL: Всего %d локомотивов со ссылкой на несуществующий поезд:' % loco_dep_train_nan_n)\n",
    "    add_line(loco_dep_train_nan.sort_values('number')\\\n",
    "             .head(10 if loco_dep_train_nan_n > 20 else loco_dep_train_nan_n)[info_cols])\n",
    "    result['2.3.4'] = False"
   ]
  },
  {
   "cell_type": "code",
   "execution_count": null,
   "metadata": {
    "collapsed": false
   },
   "outputs": [],
   "source": [
    "info_cols = ['loco', 'oper_location', 'st_from_name', 'st_to_name', 'train', 'train_oper', 'train_location']\n",
    "loco_dep_location_fail = loco_train[(loco_train.loco.isin(loco_dep_train_nan.loco) == False)\n",
    "                         & (loco_train.train_location != loco_train.oper_location)][info_cols]\n",
    "if loco_dep_location_fail.empty:\n",
    "    add_line('Нет локомотивов со ссылкой на поезд с несовпадающим местоположением поезда')\n",
    "    result['2.3.4'] = result['2.3.4'] & True\n",
    "else:\n",
    "    loco_dep_location_fail_n = colcount(loco_dep_location_fail, 'loco')\n",
    "    add_header('FAIL: Всего %d локомотивов со ссылкой поезд с несовпадающим местоположением поезда:' % loco_dep_location_fail_n)\n",
    "    add_line(loco_dep_location_fail[info_cols].head(10 if loco_dep_location_fail_n > 20 else loco_dep_location_fail_n))\n",
    "    result['2.3.4'] = result['2.3.4'] & False"
   ]
  },
  {
   "cell_type": "code",
   "execution_count": null,
   "metadata": {
    "collapsed": false
   },
   "outputs": [],
   "source": [
    "info_cols = ['loco', 'oper_location', 'oper_time', 'st_from_name', 'st_to_name', \n",
    "             'train', 'train_oper', 'train_location', 'train_oper_time']\n",
    "pd.set_option('display.max_colwidth', 25)\n",
    "loco_dep_time_fail = loco_train[(loco_train.loco.isin(loco_dep_train_nan.loco) == False)\n",
    "                                     & (loco_train.train_location == loco_train.oper_location)\n",
    "                                     & (loco_train.train_oper_time != loco_train.oper_time)][info_cols]\n",
    "\n",
    "if loco_dep_time_fail.empty:\n",
    "    add_line('Нет локомотивов со ссылкой на поезд с несовпадающим временем операции')\n",
    "    result['2.3.4'] = result['2.3.4'] & True\n",
    "else:\n",
    "    loco_dep_time_fail_n = colcount(loco_dep_time_fail, 'loco')\n",
    "    add_header('FAIL: Всего %d локомотивов со ссылкой на поезд с несовпадающим временем операции:' % loco_dep_time_fail_n)\n",
    "    add_line(loco_dep_time_fail.head(10 if loco_dep_time_fail_n > 20 else loco_dep_time_fail_n)[info_cols])\n",
    "    result['2.3.4'] = result['2.3.4'] & False"
   ]
  },
  {
   "cell_type": "markdown",
   "metadata": {},
   "source": [
    "<a id='235'></a>\n",
    "### 2.3.5. Связь локомотива с бригадой [ToC](#toc)"
   ]
  },
  {
   "cell_type": "code",
   "execution_count": null,
   "metadata": {
    "collapsed": true
   },
   "outputs": [],
   "source": [
    "add_header('2.3.5. Связь локомотива с бригадой', h=3, p=False)"
   ]
  },
  {
   "cell_type": "code",
   "execution_count": null,
   "metadata": {
    "collapsed": true
   },
   "outputs": [],
   "source": [
    "lteams = team_info[team_info.loco != '-1'].groupby('loco').team.unique()\n",
    "loco_info['all_teams'] = loco_info.loco.map(lteams)\n",
    "loco_info['teams_n'] = loco_info.all_teams.apply(lambda x: 0 if type(x) == float else len(x))"
   ]
  },
  {
   "cell_type": "code",
   "execution_count": null,
   "metadata": {
    "collapsed": false
   },
   "outputs": [],
   "source": [
    "info_cols = ['loco', 'oper_location', 'oper_time', 'st_from_name', 'st_to_name']\n",
    "pd.set_option('display.max_colwidth', 40)\n",
    "loco_dep = loco_info[(loco_info.st_from != '-1') | (loco_info.st_to != '-1')]\n",
    "loco_dep_n = colcount(loco_dep, 'loco')\n",
    "loco_dep_no_team = loco_dep[loco_dep.loco.isin(team_info.loco) == False]\n",
    "if loco_dep_no_team.empty:\n",
    "    add_header('Нет локомотивов, для которых не передана бригада со ссылкой на этот локомотив')\n",
    "    result['2.3.5'] = True    \n",
    "else:\n",
    "    loco_dep_no_team_n = colcount(loco_dep_no_team, 'loco')\n",
    "    add_header('FAIL: Всего %d локомотивов на участках (%.2f%%), для которых не передана бригада со ссылкой на этот локомотив'\n",
    "         % (loco_dep_no_team_n, 100 * loco_dep_no_team_n / loco_dep_n))\n",
    "    add_line(loco_dep_no_team[info_cols].head(10 if loco_dep_no_team_n > 20 else loco_dep_no_team_n))\n",
    "    result['2.3.5'] = False\n",
    "pd.set_option('display.max_colwidth', 30)"
   ]
  },
  {
   "cell_type": "code",
   "execution_count": null,
   "metadata": {
    "collapsed": false
   },
   "outputs": [],
   "source": [
    "info_cols = ['loco', 'oper_time', 'st_from_name', 'st_to_name', 'all_teams', 'teams_n']\n",
    "pd.set_option('display.max_colwidth', 35)\n",
    "dupl_teams = loco_dep[loco_dep.teams_n > 1]\n",
    "if dupl_teams.empty:\n",
    "    add_header('Для всех локомотивов на участках есть ровно одна бригада со ссылкой на этот локомотив')\n",
    "    result['2.3.5'] = result['2.3.5'] & True\n",
    "else:\n",
    "    dupl_teams_n = colcount(dupl_teams, 'loco')\n",
    "    add_header('Всего %d локомотивов на участках (%.2f%%), для которых есть больше одной бригады со ссылкой на этот локомотив'\n",
    "         % (dupl_teams_n, 100 * dupl_teams_n / loco_dep_n))\n",
    "    add_line(dupl_teams[info_cols].head(10 if dupl_teams_n > 20 else dupl_teams_n))\n",
    "    result['2.3.5'] = result['2.3.5'] & False\n",
    "pd.set_option('display.max_colwidth', 30)"
   ]
  },
  {
   "cell_type": "code",
   "execution_count": null,
   "metadata": {
    "collapsed": true
   },
   "outputs": [],
   "source": [
    "# Проверку на совпадение местоположения и времени операции будем делать от бригад, поскольку у локомотивов может быть 2+ бригад\n",
    "# во входных данных\n",
    "\n",
    "team_info['loco_location'] = team_info.loco.map(loco_info.set_index('loco').oper_location)\n",
    "team_info['loco_oper_time'] = team_info.loco.map(loco_info.set_index('loco').oper_time)\n",
    "team_info['loco_oper_time_f'] = team_info.loco_oper_time.apply(lambda x: nice_time(x))"
   ]
  },
  {
   "cell_type": "code",
   "execution_count": null,
   "metadata": {
    "collapsed": false
   },
   "outputs": [],
   "source": [
    "info_cols = ['loco', 'loco_location', 'team', 'oper_location', 'state']\n",
    "pd.set_option('display.max_colwidth', 50)\n",
    "loco_team_location_fail = team_info[(team_info.loco != '-1') & (team_info.oper_location != team_info.loco_location)]\n",
    "if loco_team_location_fail.empty:\n",
    "    add_header('Для всех локомотивов на участках местоположение соответствующей бригады совпадает с местоположением локомотива')\n",
    "    result['2.3.5'] = result['2.3.5'] & True\n",
    "else:\n",
    "    loco_team_location_fail_n = colcount(loco_team_location_fail, 'loco')\n",
    "    add_header('Всего %d локомотивов на участках (%.2f%%) с отличающимся местоположением бригады. Примеры:' \n",
    "              % (loco_team_location_fail_n, 100 * loco_team_location_fail_n / loco_dep_n))\n",
    "    add_line(loco_team_location_fail[info_cols].head(10 if loco_team_location_fail_n > 20 else loco_team_location_fail_n))\n",
    "    result['2.3.5'] = result['2.3.5'] & False\n",
    "    loco_team_location_fail[info_cols].to_csv('loco_team_location_fail.csv', encoding='utf-8-sig', sep=';', index=None)\n",
    "pd.set_option('display.max_colwidth', 30)"
   ]
  },
  {
   "cell_type": "code",
   "execution_count": null,
   "metadata": {
    "collapsed": false
   },
   "outputs": [],
   "source": [
    "info_cols = ['loco', 'loco_location', 'loco_oper_time', 'team', 'oper_location', 'oper_time']\n",
    "loco_team_time_fail = team_info[(team_info.loco != '-1') & (team_info.oper_time != team_info.loco_oper_time)]\n",
    "if loco_team_time_fail.empty:\n",
    "    add_header('Для всех локомотивов на участках время операции соответствующей бригады совпадает с временем у локомотива')\n",
    "    result['2.3.5'] = result['2.3.5'] & True\n",
    "else:\n",
    "    loco_team_time_fail_n = colcount(loco_team_time_fail, 'loco')\n",
    "    add_header('Всего %d локомотивов на участках (%.2f%%) с отличающимся временем операции бригады. Примеры:' \n",
    "              % (loco_team_time_fail_n, 100 * loco_team_time_fail_n / loco_dep_n))\n",
    "    add_line(loco_team_time_fail[info_cols].head(10 if loco_team_time_fail_n > 20 else loco_team_time_fail_n))\n",
    "    result['2.3.5'] = result['2.3.5'] & False"
   ]
  },
  {
   "cell_type": "markdown",
   "metadata": {},
   "source": [
    "<a id='236'></a>\n",
    "### 2.3.6. Наличие локомотивов на всех тяговых плечах [ToC](#toc)"
   ]
  },
  {
   "cell_type": "code",
   "execution_count": null,
   "metadata": {
    "collapsed": true
   },
   "outputs": [],
   "source": [
    "add_header('2.3.6. Наличие локомотивов на всех тяговых плечах', h=3, p=False)"
   ]
  },
  {
   "cell_type": "code",
   "execution_count": null,
   "metadata": {
    "collapsed": false
   },
   "outputs": [],
   "source": [
    "all_regs = stations.loco_region.unique()\n",
    "loco_info['regions_eval'] = loco_info.regions.apply(literal_eval)\n",
    "regs_in_loco = np.unique(np.concatenate(loco_info.regions_eval))\n",
    "reg_no_loco = [reg for reg in all_regs if str(reg) not in regs_in_loco]\n",
    "if len(reg_no_loco) == 0:\n",
    "    add_header('На всех тяговых плечах есть локомотивы')\n",
    "    result['2.3.6'] = True\n",
    "else:\n",
    "    add_header('Всего %d тяговых плеч без приписанных к ним локомотивов. Тяговые плечи:' % len(reg_no_loco))\n",
    "    for reg in reg_no_loco:\n",
    "        add_line('Region: %s, stations: %s' % (reg, stations[stations.loco_region == reg].name.values))\n",
    "        result['2.3.6'] = False"
   ]
  },
  {
   "cell_type": "markdown",
   "metadata": {},
   "source": [
    "<a id='237'></a>\n",
    "### 2.3.7. Покрытие локомотивами всех участков планирования [ToC](#toc)"
   ]
  },
  {
   "cell_type": "code",
   "execution_count": null,
   "metadata": {
    "collapsed": true
   },
   "outputs": [],
   "source": [
    "add_header('2.3.7. Покрытие локомотивами всех участков планирования', h=3, p=False)"
   ]
  },
  {
   "cell_type": "code",
   "execution_count": null,
   "metadata": {
    "collapsed": false
   },
   "outputs": [],
   "source": [
    "links['has_loco'] = links.link_regs.apply(lambda x: any(str(reg) in regs_in_loco for reg in x) if type(x) != float else False)\n",
    "links['link_name'] = list(zip(links.st_from_name, links.st_to_name))\n",
    "links_no_loco = links[links.has_loco == False]\n",
    "if links_no_loco.empty:\n",
    "    add_header('На всех участках планирования есть хотя бы один локомотив, который может там работать')\n",
    "    result['2.3.7'] = True\n",
    "else:\n",
    "    links_no_loco_n = colcount(links_no_loco, 'link')\n",
    "    links_n = colcount(links, 'link')\n",
    "    add_header('Всего %d участков планирования (%.2f%%), для которых нет ни одного локомотива, который мог бы там работать:'\n",
    "              % (links_no_loco_n, 100 * links_no_loco_n / links_n))\n",
    "    add_line(links_no_loco.link_name.unique())\n",
    "    result['2.3.7'] = False"
   ]
  },
  {
   "cell_type": "code",
   "execution_count": null,
   "metadata": {
    "collapsed": false
   },
   "outputs": [],
   "source": [
    "big_stations = stations[stations.norm_time != 0].drop_duplicates('station')\n",
    "big_links_no_loco = links_no_loco[links_no_loco.st_from.isin(big_stations.station)]\n",
    "if big_links_no_loco.empty:\n",
    "    add_header('На всех участках планирования от крупных станций есть хотя бы один локомотив, который может там работать')    \n",
    "else:\n",
    "    big_links_no_loco_n = colcount(big_links_no_loco, 'link')    \n",
    "    add_header('Всего %d участков планирования от крупных станций(%.2f%%), ' \n",
    "               % (big_links_no_loco_n, 100 * big_links_no_loco_n / links_n) \n",
    "               + 'для которых нет ни одного локомотива, который мог бы там работать:')\n",
    "    add_line(big_links_no_loco.link_name.unique())    "
   ]
  },
  {
   "cell_type": "markdown",
   "metadata": {},
   "source": [
    "<a id='238'></a>\n",
    "### 2.3.8. Проверка корректности типа локомотива [ToC](#toc)"
   ]
  },
  {
   "cell_type": "code",
   "execution_count": null,
   "metadata": {
    "collapsed": true
   },
   "outputs": [],
   "source": [
    "add_header('2.3.8. Проверка корректности типа локомотива', h=3, p=False)"
   ]
  },
  {
   "cell_type": "code",
   "execution_count": null,
   "metadata": {
    "collapsed": false
   },
   "outputs": [],
   "source": [
    "good_series = ['2ТЭ10', '3ТЭ10', '2ЭС5К', '3ЭС5К', 'ВЛ80', 'ВЛ85']\n",
    "loco_info['ser_name'] = loco_info.series.map(loco_series.set_index('ser_id').ser_name)\n",
    "loco_info['is_good_ser'] = loco_info.ser_name.apply(lambda x: any(ser in x for ser in good_series) \\\n",
    "                                                    if type(x) != float else False)\n",
    "bad_locos = loco_info[loco_info.ltype != loco_info.is_good_ser][['loco', 'ser_name', 'ltype', 'is_good_ser']]\n",
    "if bad_locos.empty:\n",
    "    add_header('Для всех локомотивов тип указан верно')\n",
    "    result['2.3.8'] = True\n",
    "else:\n",
    "    add_header('Всего %d случаев, когда для локомотива неправильно определяется тип (грузовой или нет):' \n",
    "               % colcount(bad_locos, 'loco'))\n",
    "    add_line(bad_locos.groupby(['is_good_ser', 'ltype']).ser_name.value_counts())\n",
    "    result['2.3.8'] = False"
   ]
  },
  {
   "cell_type": "markdown",
   "metadata": {},
   "source": [
    "<a id='24'></a>\n",
    "## 2.4. Тесты по бригадам [ToC](#toc)"
   ]
  },
  {
   "cell_type": "code",
   "execution_count": null,
   "metadata": {
    "collapsed": false
   },
   "outputs": [],
   "source": [
    "add_header('2.4. Тесты по бригадам', h=2, p=False)"
   ]
  },
  {
   "cell_type": "markdown",
   "metadata": {},
   "source": [
    "<a id='241'></a>\n",
    "### 2.4.1. Простые тесты [ToC](#toc)"
   ]
  },
  {
   "cell_type": "code",
   "execution_count": null,
   "metadata": {
    "collapsed": true
   },
   "outputs": [],
   "source": [
    "TEAM_EXPECTED_NUMBER = 3000"
   ]
  },
  {
   "cell_type": "code",
   "execution_count": null,
   "metadata": {
    "collapsed": false
   },
   "outputs": [],
   "source": [
    "result['2.4.1'] = True\n",
    "team_n = colcount(team_info, 'team')\n",
    "if team_n > TEAM_EXPECTED_NUMBER:\n",
    "    add_line('Всего %d бригад передано в планировщик' % team_n)\n",
    "    result['2.4.1'] = result['2.4.1'] & True    \n",
    "else:\n",
    "    add_line('FAIL: в планировщик передано мало бригад (%d вместо ожидаемых %d)' % (team_n, TEAM_EXPECTED_NUMBER))\n",
    "    result['2.4.1'] = result['2.4.1'] & False"
   ]
  },
  {
   "cell_type": "markdown",
   "metadata": {},
   "source": [
    "<a id='242'></a>\n",
    "### 2.4.2. Корректность местоположения и станций явки [ToC](#toc)"
   ]
  },
  {
   "cell_type": "code",
   "execution_count": null,
   "metadata": {
    "collapsed": true
   },
   "outputs": [],
   "source": [
    "add_header('2.4.2. Корректность местоположения и станций явки', h=3, p=False)"
   ]
  },
  {
   "cell_type": "code",
   "execution_count": null,
   "metadata": {
    "collapsed": false
   },
   "outputs": [],
   "source": [
    "cols = ['team', 'number', 'depot_st', 'loco', 'state', 'ready_type', 'is_depot_st']\n",
    "\n",
    "team_info['is_depot_st'] = team_info.depot_st.isin(stations.station)\n",
    "add_header('Всего %d бригад со станцией явки после домашнего отдыха, отсутствующей в справочнике станций. Примеры:' \n",
    "      % len(team_info.loc[(team_info.depot_st != '-1') & (team_info.is_depot_st == False)].index))\n",
    "add_line(team_info[(team_info.depot_st != '-1') & (team_info.is_depot_st == False)].head()[cols])\n",
    "\n",
    "cols = ['team', 'number', 'return_st', 'loco', 'state', 'ready_type', 'is_return_st']\n",
    "team_info['is_return_st'] = team_info.return_st.isin(stations.station)\n",
    "add_header('Всего %d бригад с несуществующей станцией явки после отдыха в пункте оборота (показаны первые 5):' \n",
    "      % len(team_info.loc[(team_info.return_st != '-1') & (team_info.is_return_st == False)].index))\n",
    "add_line(team_info[(team_info.return_st != '-1') & (team_info.is_return_st == False)].head()[cols])\n",
    "\n",
    "cols = ['team', 'number', 'oper_location', 'loc_name', 'loco', 'state', 'ready_type', 'is_oper_st']\n",
    "team_info['is_oper_st'] = team_info.oper_location.isin(stations.station)\n",
    "add_header('Всего %d бригад с несуществующей станцией операции (показаны первые 5):' \n",
    "      % len(team_info.loc[(team_info.st_from == '-1') & (team_info.is_oper_st == False)].index))\n",
    "add_line(team_info[(team_info.st_from == '-1') & (team_info.is_oper_st == False)].head()[cols])\n",
    "\n",
    "cols = ['team', 'number', 'st_from', 'st_to', 'loc_name', 'loco', 'state', 'ready_type']\n",
    "pd.set_option('display.max_colwidth', 45)\n",
    "team_info['link'] = list(zip(team_info.st_from, team_info.st_to))\n",
    "bad_team_link = team_info[((team_info.st_from != '-1') | (team_info.st_to != '-1')) \n",
    "                          & (team_info.link.isin(links.link) == False)]\n",
    "add_header('Всего %d бригад на участках, для которых участок не задан в справочнике. Примеры:' % colcount(bad_team_link, 'team'))\n",
    "add_line(bad_team_link.head()[cols])\n",
    "pd.set_option('display.max_colwidth', 30)"
   ]
  },
  {
   "cell_type": "code",
   "execution_count": null,
   "metadata": {
    "collapsed": false
   },
   "outputs": [],
   "source": [
    "bad_team_link[['team', 'loco', 'state']]"
   ]
  },
  {
   "cell_type": "markdown",
   "metadata": {},
   "source": [
    "<a id='243'></a>\n",
    "### 2.4.3. Корректность данных по бригадам в зависимости от состояния [ToC](#toc)"
   ]
  },
  {
   "cell_type": "code",
   "execution_count": null,
   "metadata": {
    "collapsed": true
   },
   "outputs": [],
   "source": [
    "add_header('2.4.3. Корректность данных по явке бригад в зависимости от состояния', h=3, p=False)"
   ]
  },
  {
   "cell_type": "code",
   "execution_count": null,
   "metadata": {
    "collapsed": false
   },
   "outputs": [],
   "source": [
    "team_info['depot_time_f'] = team_info.depot_time.apply(lambda x: nice_time(x))\n",
    "team_info['return_time_f'] = team_info.depot_time.apply(lambda x: nice_time(x))\n",
    "team_info['rest_time_f'] = team_info.depot_time.apply(lambda x: nice_time(x))\n",
    "team_info['depot_st_name'] = team_info.depot_st.map(st_names.name)\n",
    "team_info['return_st_name'] = team_info.return_st.map(st_names.name)\n",
    "result['2.4.3'] = True"
   ]
  },
  {
   "cell_type": "markdown",
   "metadata": {},
   "source": [
    "<a id='2431'></a>\n",
    "#### 2.4.3.1. Бригада следует пассажиром (state = 0) [ToC](#toc)"
   ]
  },
  {
   "cell_type": "code",
   "execution_count": null,
   "metadata": {
    "collapsed": false
   },
   "outputs": [],
   "source": [
    "result['2.4.3.1'] = True\n",
    "# state = 0. Это бригады, следующие пассажирами. Для них предполагается наличие участка планирования и, возможно, локомотива\n",
    "t_state0 = team_info.loc[team_info.state == '0']\n",
    "t_state0_n = colcount(t_state0, 'team')\n",
    "t_state0_wo_link = t_state0[t_state0.st_from == '-1']\n",
    "t_state0_wo_link_n = colcount(t_state0_wo_link, 'team')\n",
    "if t_state0_n != 0:\n",
    "    if t_state0_wo_link_n != 0:\n",
    "        add_header('FAIL: Всего %d бригад в состоянии 0, из них не на перегонах %d (%.2f%%) (показаны первые 5):' \\\n",
    "              % (t_state0_n, t_state0_wo_link_n, 100 * t_state0_wo_link_n / t_state0_n))\n",
    "        add_line(t_state0_wo_link[['team', 'state', 'st_from', 'st_to', 'loco']].head())\n",
    "        result['2.4.3.1'] = result['2.4.3.1'] & False\n",
    "    else:\n",
    "        add_header('Все бригады в состоянии 0 находятся на перегонах.')\n",
    "        result['2.4.3.1'] = result['2.4.3.1'] & True\n",
    "else:\n",
    "    add_header('WARN!! Всего бригад пассажирами', t_state1_n)        "
   ]
  },
  {
   "cell_type": "code",
   "execution_count": null,
   "metadata": {
    "collapsed": true
   },
   "outputs": [],
   "source": [
    "ready_cols = ['team', 'ready_type', 'depot_st', 'depot_st_name', 'depot_time_f', \n",
    "              'return_st', 'return_st_name', 'return_time_f', 'rest_time_f']\n",
    "team_info['is_dgr'] = (team_info.depot_time > team_info.return_time)\n",
    "team_info['is_rgd'] = (team_info.return_time > team_info.depot_time) & (team_info.return_time > team_info.rest_time)\n",
    "team_info['is_restgdr'] = (team_info.rest_time > team_info.depot_time) & (team_info.rest_time > team_info.return_time)"
   ]
  },
  {
   "cell_type": "code",
   "execution_count": null,
   "metadata": {
    "collapsed": false
   },
   "outputs": [],
   "source": [
    "t_state0_rdepot_fail = team_info.loc[(team_info.state == '0') &\n",
    "              (team_info.ready_type == 'depot') &\n",
    "              (team_info.is_dgr == False), ready_cols]\n",
    "if not t_state0_rdepot_fail.empty:\n",
    "    add_header('FAIL: Всего %d бригад в состоянии 0 с явкой в депо и временем явки меньше времени явки в пункте оборота' \\\n",
    "          % colcount(t_state0_rdepot_fail, 'team'))\n",
    "    add_line(t_state0_rdepot_fail.head())\n",
    "    result['2.4.3.1'] = result['2.4.3.1'] & False\n",
    "else:\n",
    "    add_header('У всех бригад в состоянии 0 и последней явкой в депо время явки в депо больше времени явки в пункте оборота.')\n",
    "    result['2.4.3.1'] = result['2.4.3.1'] & True\n",
    "    \n",
    "t_state0_rreturn_fail = team_info.loc[(team_info.state == '0') &\n",
    "              (team_info.ready_type == 'return') &\n",
    "              (team_info.is_rgd == False), ready_cols]\n",
    "if not t_state0_rreturn_fail.empty:\n",
    "    add_header('''FAIL: Всего %d бригад в состоянии 0 с явкой в пункте оборота\n",
    "          и временем явки не больше времени явки в депо или времени начала отдыха:''' \\\n",
    "          % len(t_state0_rreturn_fail.index))\n",
    "    add_line(t_state0_rreturn_fail)\n",
    "    result['2.4.3.1'] = result['2.4.3.1'] & False\n",
    "else:\n",
    "    add_header('У всех бригад в состоянии 0 и последней явкой в пункте оборота время ' + \n",
    "               'явки в пункте оборота больше времени явки в депо.')\n",
    "    result['2.4.3.1'] = result['2.4.3.1'] & True"
   ]
  },
  {
   "cell_type": "markdown",
   "metadata": {},
   "source": [
    "<a id='2432'></a>\n",
    "#### 2.4.3.2. Бригада следует на локомотиве (state = 1) [ToC](#toc)"
   ]
  },
  {
   "cell_type": "code",
   "execution_count": null,
   "metadata": {
    "collapsed": true
   },
   "outputs": [],
   "source": [
    "result['2.4.3.2'] = True"
   ]
  },
  {
   "cell_type": "code",
   "execution_count": null,
   "metadata": {
    "collapsed": false
   },
   "outputs": [],
   "source": [
    "# state = 1. Это бригады, следующие с локомотивами. Для них предполагается наличие участка планирования и локомотива\n",
    "cols = ['team', 'state', 'st_from_name', 'st_to_name', 'loco']\n",
    "t_state1 = team_info.loc[team_info.state == '1']\n",
    "t_state1_n = len(t_state1.index)\n",
    "t_state1_wo_link_loco = t_state1.loc[(t_state1.st_from == '1') | (t_state1.loco == '-1')]\n",
    "t_state1_wo_link_loco_n = len(t_state1_wo_link_loco.index)\n",
    "if t_state1_n != 0:\n",
    "    if t_state1_wo_link_loco_n != 0:\n",
    "        add_header('FAIL: Всего %d бригад в состоянии 1, из них не на перегонах или без локомотивов %d (%.2f%%). Примеры:'\n",
    "              % (t_state1_n, t_state1_wo_link_loco_n, 100 * t_state1_wo_link_loco_n/t_state1_n))\n",
    "        add_line(t_state1_wo_link_loco[cols].head())\n",
    "        result['2.4.3.2'] = result['2.4.3.2'] & False\n",
    "    else:\n",
    "        add_header('Все бригады в состоянии 1 находятся на перегонах с локомотивами.')\n",
    "        result['2.4.3.2'] = result['2.4.3.2'] & True\n",
    "else:\n",
    "    add_header('WARN!! Во входных данных нет бригад в состоянии 1.')"
   ]
  },
  {
   "cell_type": "code",
   "execution_count": null,
   "metadata": {
    "collapsed": false
   },
   "outputs": [],
   "source": [
    "t_state1_rdepot_fail = team_info[(team_info.state == '1') & (team_info.ready_type == 'depot') & (team_info.is_dgr == False)]\n",
    "if not t_state1_rdepot_fail.empty:\n",
    "    add_header('FAIL: Всего %d бригад в состоянии 1 с явкой в депо и временем явки меньше времени явки в пункте оборота'\n",
    "          % len(t_state1_rdepot_fail.index))\n",
    "    add_line(t_state1_rdepot_fail[ready_cols])\n",
    "    result['2.4.3.2'] = result['2.4.3.2'] & False\n",
    "else:\n",
    "    add_header('Все бригады в состоянии 1 и явкой в депо имеют время явки в депо больше времени явки в пункте оборота')\n",
    "    result['2.4.3.2'] = result['2.4.3.2'] & True"
   ]
  },
  {
   "cell_type": "code",
   "execution_count": null,
   "metadata": {
    "collapsed": false
   },
   "outputs": [],
   "source": [
    "t_state1_rreturn_fail = team_info[(team_info.state == '1') & (team_info.ready_type == 'return') & (team_info.is_rgd == False)]\n",
    "if not t_state1_rreturn_fail.empty:\n",
    "    add_header('''FAIL: Всего %d бригад в состоянии 1, с явкой в пункте оборота\n",
    "          и временем явки не больше времени явки в депо или времени начала отдыха. Примеры:''' \n",
    "            % len(t_state1_rreturn_fail.index))\n",
    "    add_line(t_state1_rreturn_fail.head()[ready_cols])\n",
    "    result['2.4.3.2'] = result['2.4.3.2'] & False\n",
    "else:\n",
    "    add_header('У всех бригад в состоянии 1 и с явкой в пункте оборота времена явок корректные')\n",
    "    result['2.4.3.2'] = result['2.4.3.2'] & True"
   ]
  },
  {
   "cell_type": "markdown",
   "metadata": {},
   "source": [
    "<a id='2433'></a>\n",
    "#### 2.4.3.3. Бригада находится на домашнем отдыхе или на явке в депо приписки (state = 2 или 3) [ToC](#toc)"
   ]
  },
  {
   "cell_type": "code",
   "execution_count": null,
   "metadata": {
    "collapsed": true
   },
   "outputs": [],
   "source": [
    "result['2.4.3.3'] = True"
   ]
  },
  {
   "cell_type": "code",
   "execution_count": null,
   "metadata": {
    "collapsed": false
   },
   "outputs": [],
   "source": [
    "# state = 2, 3. Это бригады с явкой в депо приписки или находящиеся на домашнем отдыхе\n",
    "cols = ['team', 'number', 'state', 'oper_location', 'st_from', 'st_to', 'loco']\n",
    "team_info.loco.fillna('-1', inplace=True)\n",
    "t_state2 = team_info.loc[team_info.state.isin(['2', '3'])]\n",
    "t_state2_n = len(t_state2.index)\n",
    "t_state2_wo_st = t_state2.loc[(t_state2.st_from != '-1') | (t_state2.st_to != '-1') | (t_state2.loco != '-1')]\n",
    "t_state2_wo_st_n = len(t_state2_wo_st.index)\n",
    "if t_state2_n != 0:\n",
    "    if t_state2_wo_st_n != 0:\n",
    "        add_header('FAIL: Всего %d бригад в состоянии 2 или 3, из них не на станции или с локомотивом %d (%.2f%%). Примеры:'\n",
    "              % (t_state2_n, t_state2_wo_st_n, 100 * t_state2_wo_st_n/t_state2_n))\n",
    "        add_line(t_state2_wo_st[cols].head())\n",
    "        result['2.4.3.3'] = result['2.4.3.3'] & False\n",
    "    else:\n",
    "        add_header('Все бригады (%d) в состоянии 2 или 3 имеют корректное местоположение без ссылки на локомотив.' \n",
    "                   % t_state2_n)\n",
    "        result['2.4.3.3'] = result['2.4.3.3'] & True\n",
    "else:\n",
    "    add_header('WARN!! Нет бригад в состоянии 2 или 3')"
   ]
  },
  {
   "cell_type": "code",
   "execution_count": null,
   "metadata": {
    "collapsed": false
   },
   "outputs": [],
   "source": [
    "t_state2_rr = t_state2.loc[t_state2.ready_type == 'return']\n",
    "t_state2_rr_n = len(t_state2_rr.index)\n",
    "t_state2_rdepot_fail = team_info[(team_info.state.isin(['2', '3'])) &\n",
    "              (team_info.ready_type == 'depot') & (team_info.is_dgr == False)]\n",
    "if t_state2_rr_n != 0:\n",
    "    add_header('FAIL: Всего %d бригад на явке в депо (state = 2, 3), но с неправильной последней явкой в fact_team_ready:' \\\n",
    "         % t_state2_rr_n)\n",
    "    add_line(t_state2_rr[ready_cols].head())\n",
    "    result['2.4.3.3'] = result['2.4.3.3'] & False\n",
    "else:\n",
    "    add_header('Все бригады в состоянии 2 или 3 имеют последнюю явку в депо.')\n",
    "    result['2.4.3.3'] = result['2.4.3.3'] & True\n",
    "    \n",
    "if not t_state2_rdepot_fail.empty:\n",
    "    add_header('FAIL: Всего %d бригад в состоянии 2 или 3 и временем явки меньше времени явки в пункте оборота. Примеры:' \\\n",
    "          % len(t_state2_rdepot_fail.index))\n",
    "    add_line(t_state2_rdepot_fail.head())\n",
    "    result['2.4.3.3'] = result['2.4.3.3'] & False\n",
    "else:\n",
    "    add_header('У всех бригад в состоянии 2 или 3 время явки в депо больше времени явки в пункте оборота.')\n",
    "    result['2.4.3.3'] = result['2.4.3.3'] & True"
   ]
  },
  {
   "cell_type": "markdown",
   "metadata": {},
   "source": [
    "<a id='2434'></a>\n",
    "#### 2.4.3.4. Бригады на отдыхе в пункте оборота (state = 4) [ToC](#toc)"
   ]
  },
  {
   "cell_type": "code",
   "execution_count": null,
   "metadata": {
    "collapsed": true
   },
   "outputs": [],
   "source": [
    "result['2.4.3.4'] = True"
   ]
  },
  {
   "cell_type": "code",
   "execution_count": null,
   "metadata": {
    "collapsed": true
   },
   "outputs": [],
   "source": [
    "cols = ['team', 'state', 'oper_location', 'st_from', 'st_to', 'loco']\n",
    "team_info['rest_lag'] = np.round((current_time - team_info.rest_time) / 3600, 2)\n",
    "team_info['work_time'] = np.round((team_info.rest_time - team_info.depot_time) / 3600, 2)\n",
    "team_info['is_big_rest'] = team_info.rest_lag > team_info.work_time"
   ]
  },
  {
   "cell_type": "code",
   "execution_count": null,
   "metadata": {
    "collapsed": false
   },
   "outputs": [],
   "source": [
    "# state = 4. Это бригады на отдыхе в пункте оборота\n",
    "t_state4 = team_info.loc[team_info.state == '4']\n",
    "t_state4_n = len(t_state4.index)\n",
    "t_state4_wo_st = t_state4.loc[(t_state4.st_from != '-1') | (t_state4.st_to != '-1') | (t_state4.loco != '-1')]\n",
    "t_state4_wo_st_n = len(t_state4_wo_st.index)\n",
    "if t_state4_n != 0:\n",
    "    if t_state4_wo_st_n != 0:\n",
    "        add_header('FAIL: Всего %d бригад на отдыхе, из них не на станции или с локомотивом %d (%.2f%%) (показаны первые 5):'\n",
    "              % (t_state4_n, t_state4_wo_st_n, 100 * t_state4_wo_st_n/t_state4_n))\n",
    "        add_line(t_state4_wo_st[cols].head())\n",
    "        result['2.4.3.4'] = result['2.4.3.4'] & False\n",
    "    else:\n",
    "        add_header('Все бригады в состоянии 4 имеют корректное местоположение без ссылки на локомотив.')\n",
    "        result['2.4.3.4'] = result['2.4.3.4'] & True\n",
    "else:\n",
    "    add_header('WARN!! Нет бригад в состоянии 4.')"
   ]
  },
  {
   "cell_type": "code",
   "execution_count": null,
   "metadata": {
    "collapsed": false
   },
   "outputs": [],
   "source": [
    "# Поскольку эти бригады только находятся на отдыхе, то явки в пункте оборота не было и последняя явка должна быть в депо\n",
    "t_state4_rr = t_state4.loc[t_state4.ready_type == 'return']\n",
    "t_state4_rr_n = len(t_state4_rr.index)\n",
    "t_state4_rest_fail = team_info.loc[(team_info.state == '4') &              \n",
    "              (team_info.is_restgdr == False), ready_cols]\n",
    "if t_state4_rr_n != 0:\n",
    "    add_header('FAIL: Всего %d бригад в состоянии 4 с неправильной последней явкой в fact_team_ready. Примеры:'\n",
    "         % t_state4_rr_n)\n",
    "    add_line(t_state4_rr[ready_cols].head())\n",
    "    result['2.4.3.4'] = result['2.4.3.4'] & False\n",
    "else:\n",
    "    add_header('У всех бригад в состоянии 4 указаны корректные последние явки (в депо приписки)')\n",
    "    result['2.4.3.4'] = result['2.4.3.4'] & True\n",
    "    \n",
    "if not t_state4_rest_fail.empty:\n",
    "    add_header('FAIL: Всего %d бригад на отдыхе с временем начала отдыха не больше всех времен явок. Примеры:'\n",
    "          % len(t_state4_rest_fail.index))\n",
    "    add_line(t_state4_rest_fail.head())\n",
    "    result['2.4.3.4'] = result['2.4.3.4'] & False\n",
    "else:\n",
    "    add_header('У всех бригад в состоянии 4 время начала отдыха больше времен всех явок')\n",
    "    result['2.4.3.4'] = result['2.4.3.4'] & True"
   ]
  },
  {
   "cell_type": "code",
   "execution_count": null,
   "metadata": {
    "collapsed": false
   },
   "outputs": [],
   "source": [
    "big_rest_cols = ['team', 'ready_type', 'depot_st', 'depot_st_name', 'depot_time_f',\n",
    "                 'rest_time_f', 'rest_lag', 'work_time', 'is_big_rest']\n",
    "t_state4_big_rest = t_state4.loc[t_state4.is_big_rest == True, big_rest_cols]\n",
    "t_state4_big_rest_n = len(t_state4_big_rest.index)\n",
    "percent = 100 * t_state4_big_rest_n / t_state4_n\n",
    "if (t_state4_big_rest_n > 0):\n",
    "    add_header('Для %d бригад из %d (%.2f%%) в состоянии 4 сразу превышено максимально разрешенное время отдыха. Примеры:' \n",
    "          % (t_state4_big_rest_n, t_state4_n, percent))\n",
    "    add_line(t_state4_big_rest.head())\n",
    "    result['2.4.3.4'] = result['2.4.3.4'] & False"
   ]
  },
  {
   "cell_type": "markdown",
   "metadata": {},
   "source": [
    "<a id='2435'></a>\n",
    "#### 2.4.3.5. Бригады с локомотивами на станции (state = 5, 6 или 9) [ToC](#toc)"
   ]
  },
  {
   "cell_type": "code",
   "execution_count": null,
   "metadata": {
    "collapsed": true
   },
   "outputs": [],
   "source": [
    "result['2.4.3.5'] = False"
   ]
  },
  {
   "cell_type": "code",
   "execution_count": null,
   "metadata": {
    "collapsed": false
   },
   "outputs": [],
   "source": [
    "t_state5 = team_info.loc[team_info.state.isin(['5', '6', '9'])]\n",
    "t_state5_n = len(t_state5.index)\n",
    "t_state5_wo_st = t_state5.loc[(t_state5.st_from != '-1') | (t_state5.st_to != '-1') | (t_state5.loco == '-1')]\n",
    "t_state5_wo_st_n = len(t_state5_wo_st.index)\n",
    "if t_state5_n != 0:\n",
    "    if t_state5_wo_st_n != 0:\n",
    "        add_header('''FAIL: Всего %d бригад в состояниях 5, 6 или 9, \n",
    "              из них %d (%.2f%%) не на станции или без локомотива (показаны первые 5):''' \\\n",
    "              % (t_state5_n, t_state5_wo_st_n, 100 * t_state5_wo_st_n/t_state5_n))\n",
    "        add_line(t_state5_wo_st[['team', 'state', 'oper_location', 'st_from', 'st_to', 'loco']].head())\n",
    "        result['2.4.3.5'] = result['2.4.3.5'] & False\n",
    "    else:\n",
    "        add_line('Для всех бригад в состояниях 5, 6 или 9 задано корректное местоположение на станции с локомотивом')\n",
    "        result['2.4.3.5'] = result['2.4.3.5'] & True\n",
    "else:\n",
    "    add_header('WARN!! Всего бригад на станции с локомотивом', t_state5_n)"
   ]
  },
  {
   "cell_type": "code",
   "execution_count": null,
   "metadata": {
    "collapsed": false
   },
   "outputs": [],
   "source": [
    "t_state5_rdepot_fail = team_info.loc[(team_info.state.isin(['5', '6', '9'])) &\n",
    "              (team_info.ready_type == 'depot') &\n",
    "              (team_info.is_dgr == False), ready_cols]\n",
    "if not t_state5_rdepot_fail.empty:\n",
    "    add_header('''FAIL: Всего %d бригад в состояниях 5, 6 или 9 с явкой в депо \n",
    "          и временем явки меньше времени явки в пункте оборота''' \\\n",
    "          % len(t_state5_rdepot_fail.index))\n",
    "    add_line(t_state5_rdepot_fail.to_string(index=False))\n",
    "    result['2.4.3.5'] = result['2.4.3.5'] & False\n",
    "else:\n",
    "    add_header('Все бригады в состояниях 5, 6 или 9 с явкой в депо имеют время явки в депо не меньше времени явки в п.оборота')\n",
    "    result['2.4.3.5'] = result['2.4.3.5'] & True\n",
    "    \n",
    "t_state5_rreturn_fail = team_info.loc[(team_info.state.isin(['5', '6', '9'])) &\n",
    "              (team_info.ready_type == 'return') &\n",
    "              (team_info.is_rgd == False), ready_cols]\n",
    "if not t_state5_rreturn_fail.empty:\n",
    "    add_header('''FAIL: Всего %d бригад в состояниях 5, 6 или 9 с явкой в пункте оборота \n",
    "          и временем явки не больше времени явки в депо или времени начала отдыха (показаны первые 5):''' \\\n",
    "          % len(t_state5_rreturn_fail.index))\n",
    "    add_line(t_state5_rreturn_fail.head())\n",
    "    result['2.4.3.5'] = result['2.4.3.5'] & False\n",
    "else:\n",
    "    add_header('Все бригады в состояниях 5, 6 или 9 с явкой в п.оборота имеют время явки не меньше времени явки в депо')\n",
    "    result['2.4.3.5'] = result['2.4.3.5'] & True"
   ]
  },
  {
   "cell_type": "markdown",
   "metadata": {},
   "source": [
    "<a id='2436'></a>\n",
    "#### 2.4.3.6. Бригады, прибывшие на станцию с локомотивом (state = 7) [ToC](#toc)"
   ]
  },
  {
   "cell_type": "code",
   "execution_count": null,
   "metadata": {
    "collapsed": true
   },
   "outputs": [],
   "source": [
    "result['2.4.3.6'] = True"
   ]
  },
  {
   "cell_type": "code",
   "execution_count": null,
   "metadata": {
    "collapsed": false
   },
   "outputs": [],
   "source": [
    "# state = 7. Это бригады, прибывшие на станцию с локомотивом\n",
    "t_state7 = team_info.loc[team_info.state == '7']\n",
    "t_state7_n = len(t_state7.index)\n",
    "t_state7_wo_st = t_state7.loc[(t_state7.st_from != '-1') | (t_state7.st_to != '-1')]\n",
    "t_state7_wo_st_n = len(t_state7_wo_st.index)\n",
    "if t_state7_n != 0:\n",
    "    if t_state7_wo_st_n != 0:\n",
    "        add_header('FAIL: Всего бригад %d в состоянии 7, из них не на станции %d (%.2f%%) (показаны первые 5):' \\\n",
    "              % (t_state7_n, t_state7_wo_st_n, 100 * t_state7_wo_st_n/t_state7_n))\n",
    "        add_line(t_state7_wo_st[['team', 'state', 'oper_location', 'st_from', 'st_to', 'loco']].head())\n",
    "        result['2.4.3.6'] = result['2.4.3.6'] & False\n",
    "    else:\n",
    "        add_header('Все бригады в состоянии 7 находятся на станциях')\n",
    "        result['2.4.3.6'] = result['2.4.3.6'] & True\n",
    "else:\n",
    "    add_header('WARN!! Всего бригад, прибывших пассажирами', t_state7_n)"
   ]
  },
  {
   "cell_type": "code",
   "execution_count": null,
   "metadata": {
    "collapsed": false
   },
   "outputs": [],
   "source": [
    "t_state7_rdepot_fail = team_info.loc[(team_info.state == '7') &\n",
    "              (team_info.ready_type == 'depot') &\n",
    "              (team_info.is_dgr == False), ready_cols]\n",
    "if not t_state7_rdepot_fail.empty:\n",
    "    add_header('FAIL: Всего %d бригад в состоянии 7 с явкой в депо и временем явки меньше времени явки в пункте оборота' \\\n",
    "          % len(t_state7_rdepot_fail.index))\n",
    "    add_line(t_state7_rdepot_fail.head())\n",
    "    result['2.4.3.6'] = result['2.4.3.6'] & False\n",
    "else:\n",
    "    add_header('Все бригады в состоянии 7 с явкой в депо имеют временем явки не меньше времени явки в пункте оборота')\n",
    "    result['2.4.3.6'] = result['2.4.3.6'] & True\n",
    "    \n",
    "t_state7_rreturn_fail = team_info.loc[(team_info.state == '7') &\n",
    "              (team_info.ready_type == 'return') &\n",
    "              (team_info.is_rgd == False), ready_cols]\n",
    "if not t_state7_rreturn_fail.empty:\n",
    "    add_header('''FAIL: Всего %d бригад в состоянии 7 с явкой в пункте оборота\n",
    "          и временем явки не больше времени явки в депо или времени начала отдыха (показаны первые 5):''' \\\n",
    "          % len(t_state7_rreturn_fail.index))\n",
    "    add_line(t_state7_rreturn_fail.head())\n",
    "    result['2.4.3.6'] = result['2.4.3.6'] & False\n",
    "else:\n",
    "    add_header('Все бригады в состоянии 7 с явкой в пункте оборота имеют временем явки не меньше времени явки в депо')\n",
    "    result['2.4.3.6'] = result['2.4.3.6'] & True"
   ]
  },
  {
   "cell_type": "markdown",
   "metadata": {},
   "source": [
    "<a id='2437'></a>\n",
    "#### 2.4.3.7. Бригады на явке в пункте оборота (state = 8) [ToC](#toc)"
   ]
  },
  {
   "cell_type": "code",
   "execution_count": null,
   "metadata": {
    "collapsed": true
   },
   "outputs": [],
   "source": [
    "result['2.4.3.7'] = True"
   ]
  },
  {
   "cell_type": "code",
   "execution_count": null,
   "metadata": {
    "collapsed": false
   },
   "outputs": [],
   "source": [
    "# state = 8. Это бригады на явке в пункте оборота\n",
    "t_state8 = team_info.loc[team_info.state == '8']\n",
    "t_state8_n = len(t_state8.index)\n",
    "t_state8_wo_st = t_state8.loc[(t_state8.st_from != '-1') | (t_state8.st_to != '-1') | (t_state8.loco != '-1')]\n",
    "t_state8_wo_st_n = len(t_state8_wo_st.index)\n",
    "if t_state8_n != 0:\n",
    "    if t_state8_wo_st_n != 0:\n",
    "        add_header('''FAIL: Всего %d бригад в состоянии 8,\n",
    "              из них не на станции или с локомотивом %d (%.2f%%) (показаны первые 5):''' \\\n",
    "              % (t_state8_n, t_state8_wo_st_n, 100 * t_state8_wo_st_n/t_state8_n))\n",
    "        add_line(t_state8_wo_st[['team', 'state', 'oper_location', 'st_from', 'st_to', 'loco']].head())\n",
    "        result['2.4.3.7'] = result['2.4.3.7'] & False\n",
    "    else:\n",
    "        add_header('Все бригады в состоянии 8 находятся на станциях')\n",
    "        result['2.4.3.7'] = result['2.4.3.7'] & True\n",
    "else:\n",
    "    add_header('WARN!! Всего бригад на явке в пункте оборота', t_state8_n)"
   ]
  },
  {
   "cell_type": "code",
   "execution_count": null,
   "metadata": {
    "collapsed": false
   },
   "outputs": [],
   "source": [
    "t_state8_rd = t_state8.loc[t_state8.ready_type == 'depot']\n",
    "t_state8_rd_n = len(t_state8_rd.index)\n",
    "t_state8_rreturn_fail = team_info.loc[(team_info.state == '8') &\n",
    "              (team_info.ready_type == 'return') &\n",
    "              (team_info.is_rgd == False), ready_cols]\n",
    "if t_state8_rd_n != 0:\n",
    "    add_header('FAIL: Всего %d бригад в состоянии 8 с неправильной последней явкой в fact_team_ready' \\\n",
    "         % t_state8_rd_n)\n",
    "    add_line(t_state8_rd[ready_cols].head())\n",
    "    result['2.4.3.7'] = result['2.4.3.7'] & False\n",
    "else:\n",
    "    add_header('Все бригады в состоянии 8 имеют правильную последнюю явку в пункте оборота')\n",
    "    result['2.4.3.7'] = result['2.4.3.7'] & True\n",
    "if not t_state8_rreturn_fail.empty:\n",
    "    add_header('FAIL: Всего %d бригад в состоянии 8 и временем явки не больше времени явки в депо или времени начала отдыха'\n",
    "          % len(t_state8_rreturn_fail.index))\n",
    "    add_line(t_state8_rreturn_fail.head())\n",
    "    result['2.4.3.7'] = result['2.4.3.7'] & False\n",
    "else:\n",
    "    add_header('Все бригады в состоянии 8 имеют время явки в пункте оборота не меньше времени явки в депо')\n",
    "    result['2.4.3.7'] = result['2.4.3.7'] & True"
   ]
  },
  {
   "cell_type": "code",
   "execution_count": null,
   "metadata": {
    "collapsed": false
   },
   "outputs": [],
   "source": [
    "a = [result[key] for key in result.keys() if '2.4.5.' in key]\n",
    "result['2.4.3'] = True if sum(a) == len(a) else False"
   ]
  },
  {
   "cell_type": "markdown",
   "metadata": {},
   "source": [
    "<a id='244'></a>\n",
    "### 2.4.4. Связь бригад с локомотивами [ToC](#toc)"
   ]
  },
  {
   "cell_type": "code",
   "execution_count": null,
   "metadata": {
    "collapsed": true
   },
   "outputs": [],
   "source": [
    "add_header('2.4.4. Связь бригад с локомотивами', h=3, p=False)"
   ]
  },
  {
   "cell_type": "code",
   "execution_count": null,
   "metadata": {
    "collapsed": false
   },
   "outputs": [],
   "source": [
    "team_info['loco_location'] = team_info.loco.map(loco_info.set_index('loco').oper_location)\n",
    "team_info['loco_oper_time'] = team_info.loco.map(loco_info.set_index('loco').oper_time)\n",
    "\n",
    "team_loco = team_info[team_info.loco != '-1']\n",
    "team_loco_n = colcount(team_loco, 'team')"
   ]
  },
  {
   "cell_type": "code",
   "execution_count": null,
   "metadata": {
    "collapsed": false
   },
   "outputs": [],
   "source": [
    "info_cols = ['team', 'oper_location', 'st_from_name', 'st_to_name', 'loco', 'loco_location', 'loco_oper_time']\n",
    "team_no_loco = team_loco[team_loco.loco.isin(loco_info.loco) == False]\n",
    "if team_no_loco.empty:\n",
    "    add_header('Для всех бригад со ссылкой на локомотив задана информация по этому локомотиву')\n",
    "    result['2.4.4'] = True\n",
    "else:\n",
    "    team_no_loco_n = colcount(team_no_loco, 'team')\n",
    "    add_header('Всего %d бригад со ссылкой на локомотив (%.2f%%) без информации по этому локомотиву' \n",
    "               % (team_no_loco_n, 100 * team_no_loco_n / team_loco_n))\n",
    "    add_line(team_no_loco[info_cols].head(10 if team_no_loco_n > 20 else team_no_loco_n))\n",
    "    result['2.4.4'] = False"
   ]
  },
  {
   "cell_type": "code",
   "execution_count": null,
   "metadata": {
    "collapsed": false
   },
   "outputs": [],
   "source": [
    "team_loco_location_fail = team_loco[(team_loco.loco.isin(loco_info.loco))\n",
    "                                   & (team_loco.oper_location != team_loco.loco_location)]\n",
    "if team_loco_location_fail.empty:\n",
    "    add_header('Для всех бригад со ссылкой на локомотив местоположения бригады и локомотива совпадают')\n",
    "    result['2.4.4'] = result['2.4.4'] & True\n",
    "else:\n",
    "    team_loco_location_fail_n = colcount(team_loco_location_fail, 'team')\n",
    "    add_header('Всего %d бригад со ссылкой на локомотив (%.2f%%) с разными местоположениями бригады и локомотива'\n",
    "              % (team_loco_location_fail_n, 100 * team_loco_location_fail_n / team_loco_n))\n",
    "    pd.set_option('display.max_colwidth', 25)\n",
    "    add_line(team_loco_location_fail[info_cols].head(10 if team_loco_location_fail_n > 20 else team_loco_location_fail_n))\n",
    "    result['2.4.4'] = result['2.4.4'] & False"
   ]
  },
  {
   "cell_type": "code",
   "execution_count": null,
   "metadata": {
    "collapsed": false
   },
   "outputs": [],
   "source": [
    "team_loco_time_fail = team_loco[(team_loco.loco.isin(loco_info.loco))\n",
    "                                   & (team_loco.oper_time != team_loco.loco_oper_time)]\n",
    "if team_loco_time_fail.empty:\n",
    "    add_header('Для всех бригад со ссылкой на локомотив времена операций бригады и локомотива совпадают')\n",
    "    result['2.4.4'] = result['2.4.4'] & True\n",
    "else:\n",
    "    team_loco_time_fail_n = colcount(team_loco_time_fail, 'team')\n",
    "    add_header('Всего %d бригад со ссылкой на локомотив (%.2f%%) с разными временами операций бригады и локомотива'\n",
    "              % (team_loco_time_fail_n, 100 * team_loco_time_fail_n / team_loco_n))\n",
    "    pd.set_option('display.max_colwidth', 25)\n",
    "    add_line(team_loco_time_fail[info_cols].head(10 if team_loco_time_fail_n > 20 else team_loco_time_fail_n))\n",
    "    result['2.4.4'] = result['2.4.4'] & False"
   ]
  },
  {
   "cell_type": "markdown",
   "metadata": {},
   "source": [
    "<a id='245'></a>\n",
    "### 2.4.5. Наличие бригад на всех участках обкатки [ToC](#toc)"
   ]
  },
  {
   "cell_type": "code",
   "execution_count": null,
   "metadata": {
    "collapsed": true
   },
   "outputs": [],
   "source": [
    "add_header('2.4.5. Наличие бригад на всех участках обкатки', h=3, p=False)"
   ]
  },
  {
   "cell_type": "code",
   "execution_count": null,
   "metadata": {
    "collapsed": false
   },
   "outputs": [],
   "source": [
    "twr['st_from_name'] = twr.st_from.map(st_names.name)\n",
    "twr['st_to_name'] = twr.st_to.map(st_names.name)\n",
    "twr['link_name'] = list(zip(twr.st_from_name, twr.st_to_name))\n",
    "cols = ['twr', 'st_from_name', 'st_to_name', 'link_name']\n",
    "twrs = twr.twr.drop_duplicates().values\n",
    "twrs_n = len(twrs)\n",
    "regs_in_team = np.unique(np.concatenate(team_info.regions))\n",
    "twrs_not_in_team = [x for x in twrs if x not in regs_in_team]\n",
    "twrs_not_in_team_n = len(twrs_not_in_team)\n",
    "if twrs_not_in_team_n == 0:\n",
    "    add_header('Для всех участков обкатки задана хотя бы одна бригада')\n",
    "    result['2.4.5'] = True\n",
    "else:\n",
    "    add_header('Всего %d участков обкатки из %d (%.2f%%), для которых не задано ни одной бригады. Примеры:'\n",
    "              % (twrs_not_in_team_n, twrs_n, 100 * twrs_not_in_team_n / twrs_n))\n",
    "    add_line(twrs_not_in_team[:10 if twrs_not_in_team_n > 20 else twrs_not_in_team_n])\n",
    "    twr[twr.twr.isin(twrs_not_in_team)].groupby('twr').link_name.unique().to_csv('twr_no_teams.csv', \n",
    "                                                                                 encoding='utf-8-sig', sep=';')\n",
    "    add_line('Полный список таких участков обкатки сохранен в файл %s' % 'twr_no_teams.csv')\n",
    "    result['2.4.5'] = False"
   ]
  },
  {
   "cell_type": "markdown",
   "metadata": {},
   "source": [
    "<a id='246'></a>\n",
    "### 2.4.6. Покрытие бригадами всех участков планирования [ToC](#toc)"
   ]
  },
  {
   "cell_type": "code",
   "execution_count": null,
   "metadata": {
    "collapsed": true
   },
   "outputs": [],
   "source": [
    "add_header('2.4.6. Покрытие бригадами всех участков планирования', h=3, p=False)"
   ]
  },
  {
   "cell_type": "code",
   "execution_count": null,
   "metadata": {
    "collapsed": false
   },
   "outputs": [],
   "source": [
    "links['has_team'] = links.link_twr.apply(lambda x: any(str(reg) in regs_in_team for reg in x) if type(x) != float else False)\n",
    "links['link_name'] = list(zip(links.st_from_name, links.st_to_name))\n",
    "links_no_team = links[links.has_team == False]\n",
    "if links_no_team.empty:\n",
    "    add_header('На всех участках планирования есть хотя бы одна бригада, которая может там работать')\n",
    "    result['2.4.6'] = True\n",
    "else:\n",
    "    links_no_team_n = colcount(links_no_team, 'link')\n",
    "    links_n = colcount(links, 'link')\n",
    "    add_header('Всего %d участков планирования (%.2f%%), для которых нет ни одной бригады, которая могла бы там работать:'\n",
    "              % (links_no_team_n, 100 * links_no_team_n / links_n))\n",
    "    add_line(links_no_team.link_name.unique())\n",
    "    result['2.4.6'] = False"
   ]
  },
  {
   "cell_type": "code",
   "execution_count": null,
   "metadata": {
    "collapsed": false
   },
   "outputs": [],
   "source": [
    "big_stations = stations[stations.norm_time != 0].drop_duplicates('station')\n",
    "big_links_no_team = links_no_team[links_no_team.st_from.isin(big_stations.station)]\n",
    "if big_links_no_team.empty:\n",
    "    add_header('На всех участках планирования от крупных станций есть хотя бы одна бригада, которая может там работать')    \n",
    "else:\n",
    "    big_links_no_team_n = colcount(big_links_no_team, 'link')    \n",
    "    add_header('Всего %d участков планирования от крупных станций(%.2f%%), ' \n",
    "               % (big_links_no_team_n, 100 * big_links_no_team_n / links_n) \n",
    "               + 'для которых нет ни одной бригады, которая могла бы там работать:')\n",
    "    add_line(big_links_no_team.link_name.unique())    "
   ]
  },
  {
   "cell_type": "markdown",
   "metadata": {},
   "source": [
    "<a id='247'></a>\n",
    "### 2.4.7. Проверка корректности типа бригады [ToC](#toc)"
   ]
  },
  {
   "cell_type": "code",
   "execution_count": null,
   "metadata": {
    "collapsed": true
   },
   "outputs": [],
   "source": [
    "add_header('2.4.7. Проверка корректности типа бригады', h=3, p=False)"
   ]
  },
  {
   "cell_type": "markdown",
   "metadata": {},
   "source": [
    "#### Добавление названий серий, заданных для бригады"
   ]
  },
  {
   "cell_type": "code",
   "execution_count": null,
   "metadata": {
    "collapsed": false
   },
   "outputs": [],
   "source": [
    "ser_to_dict = loco_series[['ser_id', 'ser_name']].copy(deep = True)\n",
    "ser_to_dict['ser_id'] = ser_to_dict.ser_id.astype(str)\n",
    "ser_names = ser_to_dict.set_index('ser_id').to_dict()['ser_name']\n",
    "team_info['ser_eval'] = team_info.series.apply(literal_eval)\n",
    "team_info['ser_name'] = team_info.ser_eval.apply(lambda x: [ser_names[i] for i in x if i in ser_names.keys()])\n",
    "team_info[['team', 'number', 'ser_eval', 'ser_name', 'ttype']].head()"
   ]
  },
  {
   "cell_type": "markdown",
   "metadata": {},
   "source": [
    "#### Выявление ошибочных и подозрительных бригад"
   ]
  },
  {
   "cell_type": "code",
   "execution_count": null,
   "metadata": {
    "collapsed": false
   },
   "outputs": [],
   "source": [
    "def check_fail(team_ser_list, good_series):\n",
    "    res = False\n",
    "    for gs in good_series:\n",
    "        if any(gs in team_ser for team_ser in team_ser_list):\n",
    "            res = True\n",
    "    return res        \n",
    "        \n",
    "# Ошибочная бригада: если для нее не указаны грузовые серии, но она указана грузовой\n",
    "team_info['is_good_ser'] = team_info.ser_name.apply(lambda x: check_fail(x, good_series))                                \n",
    "team_info['fail_type'] = (team_info.is_good_ser == False) & (team_info.ttype == 1)\n",
    "\n",
    "# Подозрительная бригада: если для нее указана хотя бы одна грузовая серия, но бригада указана НЕ грузовой\n",
    "team_info['fail_suspect'] = (team_info.is_good_ser == True) & (team_info.ttype == 0)\n",
    "\n",
    "fail_teams = team_info[team_info.fail_type == True]\n",
    "if fail_teams.empty:\n",
    "    add_header('Для всех бригад тип указан верно')\n",
    "    result['2.4.7'] = True\n",
    "else:\n",
    "    add_header('Всего %d ошибочных бригад, у которых НЕТ грузовых серий, но бригада указана грузовой. Примеры:' \n",
    "          % fail_teams.team.count())\n",
    "    add_line(fail_teams[['team', 'ser_name', 'ttype']].head())\n",
    "    result['2.4.7'] = False\n",
    "\n",
    "suspect_teams = team_info[team_info.fail_suspect == True]\n",
    "add_header('Всего %d подозрительных бригад, у которых ЕСТЬ грузовые серии, но бригада указана негрузовой. Примеры:' \n",
    "      % suspect_teams.team.count())\n",
    "add_line(suspect_teams[['team', 'ser_name', 'ttype']].head())"
   ]
  },
  {
   "cell_type": "markdown",
   "metadata": {},
   "source": [
    "<a id='res'></a>\n",
    "## Результаты тестов [ToC](#toc)"
   ]
  },
  {
   "cell_type": "code",
   "execution_count": null,
   "metadata": {
    "collapsed": true
   },
   "outputs": [],
   "source": [
    "add_header('Результаты тестов', h=2, p=False)"
   ]
  },
  {
   "cell_type": "code",
   "execution_count": null,
   "metadata": {
    "collapsed": false
   },
   "outputs": [],
   "source": [
    "for key in sorted(result.keys()):\n",
    "    add_line('Тест %s = %s' % (key, result[key]))\n",
    "    \n",
    "add_line('\\nВсего пройдено %d тестов из %d (%.2f%%)'\n",
    "        % (sum(result.values()), len(result.keys()), 100 * sum(result.values()) / len(result.keys())))"
   ]
  },
  {
   "cell_type": "markdown",
   "metadata": {},
   "source": [
    "<a id='excel'></a>\n",
    "## Цифры по связанности для выгрузки в Excel [ToC](#toc)"
   ]
  },
  {
   "cell_type": "code",
   "execution_count": null,
   "metadata": {
    "collapsed": true
   },
   "outputs": [],
   "source": [
    "add_header('Статистика по связанности для выгрузки в Excel', h=2, p=False)"
   ]
  },
  {
   "cell_type": "code",
   "execution_count": null,
   "metadata": {
    "collapsed": false
   },
   "outputs": [],
   "source": [
    "train_dep_total = colcount(train_info[train_info.oper == 'depart'], 'train')\n",
    "train_total = colcount(train_info, 'train')\n",
    "print('Train-loco report:', train_total, train_dep_total, no_loco_n, fail_location_n + fail_time_n)"
   ]
  },
  {
   "cell_type": "code",
   "execution_count": null,
   "metadata": {
    "collapsed": false
   },
   "outputs": [],
   "source": [
    "loco_train = loco_info[loco_info.train != '-1']\n",
    "loco_train_n = colcount(loco_train, 'loco')\n",
    "loco_train_no_train_n = colcount(loco_train[loco_train.train_oper.apply(lambda x: x not in ['depart', 'arrive', 'ready'])], 'loco')\n",
    "loco_train[['loco', 'train', 'train_oper', 'train_location', 'train_oper_time']]\n",
    "loco_train_fail_op_n = colcount(loco_train[(loco_train.oper_location != loco_train.train_location)\n",
    "                                          | (loco_train.oper_time != loco_train.train_oper_time)], 'loco')\n",
    "print('Loco-train report:', loco_n, loco_train_n, loco_train_no_train_n, loco_train_fail_op_n)"
   ]
  },
  {
   "cell_type": "code",
   "execution_count": null,
   "metadata": {
    "collapsed": false
   },
   "outputs": [],
   "source": [
    "loco_info['loco_time'] = list(zip(loco_info.loco, loco_info.oper_time))\n",
    "team_info['loco_time'] = list(zip(team_info.loco, team_info.oper_time))\n",
    "loco_info['team_location'] = loco_info.loco_time.map(team_info.drop_duplicates('loco_time').set_index('loco_time').oper_location)\n",
    "loco_info['team_oper_time'] = loco_info.loco_time.map(team_info.drop_duplicates('loco_time').set_index('loco_time').oper_time)\n",
    "loco_info['team'] = loco_info.loco.map(team_info.drop_duplicates('loco').set_index('loco').team)\n",
    "\n",
    "loco_dep = loco_info[loco_info.st_from != '-1']\n",
    "loco_dep_n = colcount(loco_dep, 'loco')\n",
    "loco_dep_no_team_n = colcount(loco_dep[loco_dep.team.isnull()], 'loco')\n",
    "loco_dep_team_fail_op_n = colcount(loco_dep[(loco_dep.team.isnull() == False) & ((loco_dep.oper_location != loco_dep.team_location)\n",
    "                                           | (loco_dep.oper_time != loco_dep.team_oper_time))], 'loco')\n",
    "print('Loco-team report:', loco_dep_n, loco_dep_no_team_n, loco_dep_team_fail_op_n)"
   ]
  },
  {
   "cell_type": "code",
   "execution_count": null,
   "metadata": {
    "collapsed": false
   },
   "outputs": [],
   "source": [
    "team_info['loco_location'] = team_info.loco.map(loco_info.set_index('loco').oper_location)\n",
    "team_info['loco_oper_time'] = team_info.loco.map(loco_info.set_index('loco').oper_time)\n",
    "team_n = colcount(team_info, 'team')\n",
    "team_loco_n = colcount(team_info[team_info.loco != '-1'], 'team')\n",
    "team_loco_no_loco_n = colcount(team_info[(team_info.loco != '-1') & (team_info.loco.isin(loco_info.loco) == False)], 'team')\n",
    "team_loco_fail_op_n = colcount(team_info[(team_info.loco != '-1') & (team_info.loco.isin(loco_info.loco))\n",
    "                                        & ((team_info.oper_location != team_info.loco_location) \n",
    "                                           | (team_info.oper_time != team_info.loco_oper_time))], 'team')\n",
    "print('Team-loco report:', team_n, team_loco_n, team_loco_no_loco_n, team_loco_fail_op_n)"
   ]
  },
  {
   "cell_type": "code",
   "execution_count": null,
   "metadata": {
    "collapsed": false
   },
   "outputs": [],
   "source": [
    "res = [train_total, train_dep_total, no_loco_n, fail_location_n + fail_time_n,\n",
    "      loco_n, loco_train_n, loco_train_no_train_n, loco_train_fail_op_n,\n",
    "      loco_dep_n, loco_dep_no_team_n, loco_dep_team_fail_op_n,\n",
    "      team_n, team_loco_n, team_loco_no_loco_n, team_loco_fail_op_n]\n",
    "out = [colcount(train_plan, 'train'), colcount(loco_plan, 'loco'), colcount(team_plan, 'team')]\n",
    "add_line('Input: %s' % res)\n",
    "add_line('Output: %s' % out)"
   ]
  },
  {
   "cell_type": "markdown",
   "metadata": {},
   "source": [
    "<a id='lag'></a>\n",
    "## Запаздывание операций [ToC](#toc)"
   ]
  },
  {
   "cell_type": "code",
   "execution_count": null,
   "metadata": {
    "collapsed": true
   },
   "outputs": [],
   "source": [
    "add_header('Запаздывание операций', h=2, p=False)"
   ]
  },
  {
   "cell_type": "code",
   "execution_count": null,
   "metadata": {
    "collapsed": false
   },
   "outputs": [],
   "source": [
    "# У поезда операция train_ready может быть в будущем --- для поездов с подходов с ЗапСиба\n",
    "train_lag = current_time - train_info[(train_info.oper.isin(['depart', 'arrive'])) \n",
    "                                      & (train_info.oper_time < current_time)].oper_time.max()\n",
    "loco_lag = current_time - loco_info[loco_info.oper_time < current_time].oper_time.max()\n",
    "team_lag = current_time - team_info[team_info.oper_time < current_time].oper_time.max()\n",
    "add_line('Минимальное отставание по операциям с поездами: %.1f минут (%.2f ч.)' % (train_lag / 60, train_lag / 3600))\n",
    "add_line('Минимальное отставание по операциям с локомотивами: %.1f минут (%.2f ч.)' % (loco_lag / 60, loco_lag / 3600))\n",
    "add_line('Минимальное отставание по операциям с бригадам: %.1f минут (%.2f ч.)' % (team_lag / 60, team_lag / 3600))"
   ]
  },
  {
   "cell_type": "markdown",
   "metadata": {},
   "source": [
    "## Экспорт в HTML"
   ]
  },
  {
   "cell_type": "code",
   "execution_count": null,
   "metadata": {
    "collapsed": false
   },
   "outputs": [],
   "source": [
    "filename = REPORT_FOLDER + 'input_report_' + time.strftime('%Y%m%d_%H%M%S', time.localtime(time.time())) + '.html'\n",
    "create_report(filename)"
   ]
  },
  {
   "cell_type": "code",
   "execution_count": null,
   "metadata": {
    "collapsed": false
   },
   "outputs": [],
   "source": [
    "ready_cols = ['team', 'state', 'ready_type', 'depot_st', 'depot_time', 'return_st', 'return_time', 'rest_time', 'loco']\n",
    "\n",
    "team_info.state.replace(')', '-1', inplace=True)\n",
    "t_minus = team_info.loc[(team_info.depot_st == '-1') &\n",
    "                       (team_info.depot_time == -1) & \n",
    "                       (team_info.return_st == '-1') & \n",
    "                       (team_info.return_time == -1) & \n",
    "                       (team_info.rest_time == -1)]\n",
    "\n",
    "t_minus_loco = t_minus.loc[t_minus.loco != '-1']\n",
    "#print('Всего %d бригад с полностью некорректными данными по явке (показаны первые 5), из них с локомотивами %d:' \\\n",
    "#      % (len(t_minus.index), len(t_minus_loco.index)))\n",
    "#print(t_minus[ready_cols].head().to_string(index=False))\n",
    "t_all_state = team_info.state.value_counts().to_frame()\n",
    "t_minus_state = t_minus.state.value_counts().to_frame()\n",
    "t_minus_state.columns = ['state2']\n",
    "t_join = t_all_state.join(t_minus_state).sort_index()\n",
    "t_join['state_percent'] = np.round(100 * t_join.state2 / t_join.state, 2)\n",
    "\n",
    "plot_data = t_join.ix[1:].state_percent.reset_index()\n",
    "sns.set(style='whitegrid', context='notebook')\n",
    "ax = sns.barplot(x='index', y='state_percent', data=plot_data, palette='Blues_d')\n",
    "ax.set_xlabel('Состояние бригады')\n",
    "ax.set_ylabel('Процент полностью некорректных явок')\n",
    "sns.despine()"
   ]
  }
 ],
 "metadata": {
  "kernelspec": {
   "display_name": "Python 3",
   "language": "python",
   "name": "python3"
  },
  "language_info": {
   "codemirror_mode": {
    "name": "ipython",
    "version": 3
   },
   "file_extension": ".py",
   "mimetype": "text/x-python",
   "name": "python",
   "nbconvert_exporter": "python",
   "pygments_lexer": "ipython3",
   "version": "3.5.1"
  }
 },
 "nbformat": 4,
 "nbformat_minor": 0
}
