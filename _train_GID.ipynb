{
 "cells": [
  {
   "cell_type": "code",
   "execution_count": 117,
   "metadata": {
    "collapsed": true
   },
   "outputs": [],
   "source": [
    "def nice_time(t):\n",
    "    return time.strftime(time_format, time.localtime(t)) if t > 0 else ''"
   ]
  },
  {
   "cell_type": "code",
   "execution_count": 127,
   "metadata": {
    "collapsed": false
   },
   "outputs": [
    {
     "name": "stdout",
     "output_type": "stream",
     "text": [
      "Excel-файлы с данными из ГИДа должны находиться в папке ./resources/others\n"
     ]
    }
   ],
   "source": [
    "print('Excel-файлы с данными из ГИДа должны находиться в папке ./resources/others\\n')"
   ]
  },
  {
   "cell_type": "code",
   "execution_count": 118,
   "metadata": {
    "collapsed": false
   },
   "outputs": [
    {
     "name": "stdout",
     "output_type": "stream",
     "text": [
      "Данные об отправлении четных поездов из Иркутска взяты из файла \"Иркутск-Сорт_(чет_отправление)_ Период28июн 10_30-29июн 10_30(VSD).xlsx\" (дата изменения Jun 29, 17:51)\n",
      "Данные об отправлении нечетных поездов из Иркутска взяты из файла \"Иркутск-Сорт_(нечет_отправление)_ Период28июн 10_30-29июн 10_30(VSD).xlsx\" (дата изменения Jun 29, 17:52)\n"
     ]
    }
   ],
   "source": [
    "import os\n",
    "import time\n",
    "import sys\n",
    "import traceback\n",
    "\n",
    "time_format = '%b %d, %H:%M'\n",
    "\n",
    "files = [files for root, directories, files in os.walk('./resources/others')][0]\n",
    "even = {}\n",
    "odd = {}\n",
    "os.chdir('./resources/others')\n",
    "try:\n",
    "    for f in files:        \n",
    "        if ('чет' in f) & ('отправление' in f) & ('нечет' not in f): even[f] = int(os.path.getmtime(f))\n",
    "        if ('нечет' in f) & ('отправление' in f): odd[f] = int(os.path.getmtime(f))\n",
    "    if even != {}:\n",
    "        even_filename = max(even, key=lambda k: even[k])\n",
    "        even_date_modified = even[even_filename]\n",
    "        print('Данные об отправлении четных поездов из Иркутска взяты из файла \"%s\" (дата изменения %s)'     \n",
    "              % (even_filename, nice_time(even_date_modified)))\n",
    "    else: \n",
    "        even_filename == None\n",
    "        print('Не удалось загрузить данные по отправлению четных поездов')\n",
    "    if odd != {}:\n",
    "        odd_filename = max(odd, key=lambda k: odd[k])\n",
    "        odd_date_modified = odd[odd_filename]\n",
    "        print('Данные об отправлении нечетных поездов из Иркутска взяты из файла \"%s\" (дата изменения %s)'     \n",
    "              % (odd_filename, nice_time(odd_date_modified)))\n",
    "    else: \n",
    "        odd_filename == None\n",
    "        print('Не удалось загрузить данные по отправлению нечетных поездов')\n",
    "    os.chdir('..')\n",
    "    os.chdir('..')\n",
    "    \n",
    "except Exception: \n",
    "    os.chdir('..')\n",
    "    os.chdir('..')\n",
    "    print('Ошибка: не удалось загрузить данные по отправлению поездов')    \n",
    "    traceback.print_exc(file=sys.stdout)\n",
    "    \n",
    "print('\\n')"
   ]
  },
  {
   "cell_type": "code",
   "execution_count": 124,
   "metadata": {
    "collapsed": false
   },
   "outputs": [],
   "source": [
    "from subprocess import Popen, PIPE\n",
    "def create_report(filename):\n",
    "    print('Построение отчета для поездов из файла', filename)\n",
    "    cmd = 'python _sub_train_GID.py %s' % ('./resources/others/' + filename)\n",
    "    p = Popen(cmd, shell=True, stdout=PIPE, stderr=PIPE)\n",
    "    stdout, stderr = p.communicate()\n",
    "    print(stdout.decode('ascii', 'ignore'))"
   ]
  },
  {
   "cell_type": "code",
   "execution_count": 126,
   "metadata": {
    "collapsed": false
   },
   "outputs": [
    {
     "name": "stdout",
     "output_type": "stream",
     "text": [
      "Построение отчета для поездов из файла Иркутск-Сорт_(чет_отправление)_ Период28июн 10_30-29июн 10_30(VSD).xlsx\n",
      "Planning start time: Jun 28, 10:37 (1467099475)\n",
      "Filename: resources/others/-_(_)_ 28 10_30-29 10_30(VSD).xlsx\n",
      "Report created: report/train_GID_20160630_140546.html\n",
      "\n",
      "Построение отчета для поездов из файла Иркутск-Сорт_(нечет_отправление)_ Период28июн 10_30-29июн 10_30(VSD).xlsx\n",
      "Planning start time: Jun 28, 10:37 (1467099475)\n",
      "Filename: resources/others/-_(_)_ 28 10_30-29 10_30(VSD).xlsx\n",
      "Report created: report/train_GID_20160630_140551.html\n",
      "\n"
     ]
    }
   ],
   "source": [
    "create_report(even_filename)\n",
    "create_report(odd_filename)\n",
    "print('Отчеты созданы')"
   ]
  }
 ],
 "metadata": {
  "kernelspec": {
   "display_name": "Python 3",
   "language": "python",
   "name": "python3"
  },
  "language_info": {
   "codemirror_mode": {
    "name": "ipython",
    "version": 3
   },
   "file_extension": ".py",
   "mimetype": "text/x-python",
   "name": "python",
   "nbconvert_exporter": "python",
   "pygments_lexer": "ipython3",
   "version": "3.5.1"
  }
 },
 "nbformat": 4,
 "nbformat_minor": 0
}
