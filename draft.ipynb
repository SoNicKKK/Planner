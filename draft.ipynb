{
 "cells": [
  {
   "cell_type": "code",
   "execution_count": 18,
   "metadata": {
    "collapsed": false
   },
   "outputs": [
    {
     "name": "stdout",
     "output_type": "stream",
     "text": [
      "Planning start time: Jul 23, 00:05 (1469221500)\n"
     ]
    }
   ],
   "source": [
    "%run common.py"
   ]
  },
  {
   "cell_type": "code",
   "execution_count": 19,
   "metadata": {
    "collapsed": false
   },
   "outputs": [],
   "source": [
    "'''\n",
    "    Examples:\n",
    "    al = pd.read_csv(FOLDER + '/mandatory/travel_times_all_pairs.csv', sep=';')\n",
    "    get_longest_pair(['МАРИИНСК', 'ИЛАНСКАЯ', 'ИРКУТСК-СОРТИРОВОЧНЫЙ', 'РЕШОТЫ'], al.set_index(['st_from_name', 'st_to_name']))\n",
    "    \n",
    "    => Out[460]: ('МАРИИНСК', 'ИРКУТСК-СОРТИРОВОЧНЫЙ', 94170)\n",
    "    \n",
    "    get_longest_pair(['МАРИИНСК', 'ИЛАНСКАЯ', 'РЕШОТЫ', 'ИРКУТСК-СОРТИРОВОЧНЫЙ'], nx.all_pairs_dijkstra_path_length(g))\n",
    "    \n",
    "    => Out[460]: ('МАРИИНСК', 'ИРКУТСК-СОРТИРОВОЧНЫЙ', 94170)    \n",
    "'''\n",
    "\n",
    "def get_longest_pair(st_list, lengths):\n",
    "    sm1, sm2 = '', ''\n",
    "    m = 0\n",
    "    for s1 in st_list:\n",
    "        for s2 in st_list:\n",
    "            if type(lengths) == dict:\n",
    "                l = lengths[s1][s2]\n",
    "            elif type(lengths) == pd.DataFrame:\n",
    "                l = lengths.ix[s1, s2].values[0]\n",
    "            else: l = 0\n",
    "            if l > m:\n",
    "                m = l\n",
    "                sm1, sm2 = s1, s2\n",
    "    return (sm1, sm2, m)"
   ]
  },
  {
   "cell_type": "code",
   "execution_count": 20,
   "metadata": {
    "collapsed": false,
    "scrolled": false
   },
   "outputs": [],
   "source": [
    "all_lengths = pd.read_csv(FOLDER + '/mandatory/travel_times_all_pairs.csv', sep=';').set_index(['st_from_name', 'st_to_name'])\n",
    "    \n",
    "def get_reg_name(l):\n",
    "    l_big = [st for st in l if st in big_st]\n",
    "    if len(l_big) == 2:\n",
    "        ret = l_big\n",
    "    elif len(l_big) > 2:\n",
    "        st1, st2, length = get_longest_pair(l_big, all_lengths)\n",
    "        ret = [st1, st2]\n",
    "    else:\n",
    "        st1, st2, length = get_longest_pair(l, all_lengths)\n",
    "        ret = [st1, st2]\n",
    "    return ret[0] + ' - ' + ret[1]        \n",
    "\n",
    "team_region = pd.read_csv(FOLDER + 'team_region.csv', dtype={'st_from':str, 'st_to':str, 'depot':str})\n",
    "add_info(team_region)\n",
    "big_st = stations[stations.norm_time > 0].name.unique()\n",
    "team_region['depot_name'] = team_region.depot.map(st_names.name)\n",
    "team_region['reg_name'] = team_region.team_region\\\n",
    "                            .map(team_region.groupby('team_region').st_from_name.unique().apply(get_reg_name))\n",
    "\n",
    "cols_tracks = ['team_region', 'asoup', 'depot', 'depot_name', 'st_from_name', 'st_to_name', 'reg_name']\n",
    "cols_times = ['team_region', 'asoup', 'depot', 'depot_name', 'time_f', 'time_b', 'time_wr']"
   ]
  },
  {
   "cell_type": "code",
   "execution_count": 21,
   "metadata": {
    "collapsed": false
   },
   "outputs": [
    {
     "name": "stdout",
     "output_type": "stream",
     "text": [
      "БАТАРЕЙНАЯ    6\n",
      "ГОНЧАРОВО     1\n",
      "Name: st_to_name, dtype: int64\n",
      "1    7\n",
      "Name: state, dtype: int64\n",
      "2    7\n",
      "Name: team_type, dtype: int64\n"
     ]
    }
   ],
   "source": [
    "#print(nice_time(current_time + 20*60 + 3*3600))\n",
    "nct = current_time + 20*60 + 3*3600\n",
    "st1 = 'ИРКУТСК-СОРТИРОВОЧНЫЙ'\n",
    "start_st = team_plan[team_plan.state.isin([0, 1])].drop_duplicates('team').set_index('team')\n",
    "team_plan['team_type'] = team_plan.team.apply(lambda x: int(str(x)[0]))\n",
    "team_plan['start_st'] = team_plan.team.map(start_st.st_from)\n",
    "team_plan.depot.fillna(team_plan.start_st, inplace=True)\n",
    "team_plan['depot_name'] = team_plan.depot.map(st_names.name)\n",
    "cols = ['team', 'st_from_name', 'st_to_name', 'time_start_norm', 'time_end_norm', 'state', 'loco']\n",
    "a = team_plan[(team_plan.time_start >= nct) & (team_plan.time_start < nct + 24 * 3600)\n",
    "         & (team_plan.state.isin([0, 1])) & (team_plan.st_from_name == st1) & (team_plan.depot_name == st1)]\n",
    "print(a.st_to_name.value_counts())\n",
    "print(a.state.value_counts())\n",
    "print(a.team_type.value_counts())"
   ]
  },
  {
   "cell_type": "code",
   "execution_count": 22,
   "metadata": {
    "collapsed": false
   },
   "outputs": [
    {
     "name": "stdout",
     "output_type": "stream",
     "text": [
      "Jul 23, 00:05\n"
     ]
    },
    {
     "data": {
      "text/plain": [
       "count    36.000000\n",
       "mean     17.242778\n",
       "std       9.532342\n",
       "min       0.230000\n",
       "25%       9.610000\n",
       "50%      19.360000\n",
       "75%      25.232500\n",
       "max      32.590000\n",
       "dtype: float64"
      ]
     },
     "execution_count": 22,
     "metadata": {},
     "output_type": "execute_result"
    }
   ],
   "source": [
    "print(nice_time(current_time))\n",
    "cols = ['team', 'st_from_name', 'st_to_name', 'oper_time_f', 'time_start_norm', 'state', 'wait_ct', 'wait']\n",
    "team_plan['sinfo'] = team_plan['state_info']\n",
    "team_plan['oper_time_f'] = team_plan.oper_time.apply(nice_time)\n",
    "team_plan['wait_ct'] = np.round((current_time - team_plan.oper_time) / 3600, 2)\n",
    "team_plan['wait'] = np.round((team_plan.time_start - team_plan.oper_time) / 3600, 2)\n",
    "a = team_plan[(team_plan.state_info == '2') \n",
    "          & (team_plan.state.isin([0, 1]))][cols].drop_duplicates('team').sort_values('wait', ascending=False)\n",
    "\n",
    "(a.wait - a.wait_ct).describe()"
   ]
  },
  {
   "cell_type": "code",
   "execution_count": 23,
   "metadata": {
    "collapsed": false
   },
   "outputs": [
    {
     "name": "stdout",
     "output_type": "stream",
     "text": [
      "Trains:\n",
      "ГОНЧАРОВО     6\n",
      "БАТАРЕЙНАЯ    3 \n",
      "-\n",
      "2    7\n",
      "9    2\n",
      "\n",
      "Locos:\n",
      "БАТАРЕЙНАЯ    3\n",
      "ГОНЧАРОВО     3 \n",
      "-\n",
      "1    6\n",
      "0    3\n",
      "\n",
      "Teams:\n",
      "БАТАРЕЙНАЯ    5\n",
      "ГОНЧАРОВО     3 \n",
      "-\n",
      "2    8 \n",
      "-\n",
      "1    8\n",
      "0    1 \n",
      "-\n",
      "ИРКУТСК-СОРТИРОВОЧНЫЙ    7\n",
      "ЗИМА                     1\n",
      "СЛЮДЯНКА I               1\n"
     ]
    }
   ],
   "source": [
    "st = 'ИРКУТСК-СОРТИРОВОЧНЫЙ'\n",
    "\n",
    "# trains\n",
    "train_plan['train_type'] = train_plan.train.apply(lambda x: int(str(x)[0]))\n",
    "trains = train_plan[(train_plan.time_start >= current_time) & (train_plan.time_start < current_time + 24 * 3600)\n",
    "          & (train_plan.train_type.isin([2, 9]))\n",
    "          & (train_plan.st_from_name == st)]\n",
    "\n",
    "print('Trains:')\n",
    "print(trains.st_to_name.value_counts().to_string(), '\\n-')\n",
    "print(trains.train_type.value_counts().to_string())\n",
    "\n",
    "locos = loco_plan[(loco_plan.time_start >= current_time) & (loco_plan.time_start < current_time + 24 * 3600)          \n",
    "          & (loco_plan.st_from_name == st)]\n",
    "print('\\nLocos:')\n",
    "print(locos[locos.state == 1].st_to_name.value_counts().to_string(), '\\n-')\n",
    "print(locos.state.value_counts().to_string())\n",
    "\n",
    "team_plan['team_type'] = team_plan.team.apply(lambda x: int(str(x)[0]))\n",
    "team_plan['start_st'] = team_plan.team.map\\\n",
    "            (team_plan[team_plan.state.isin([0, 1])].drop_duplicates('team').set_index('team').st_from)\n",
    "team_plan.depot.fillna(team_plan.start_st, inplace=True)\n",
    "team_plan['depot_name'] = team_plan.depot.map(st_names.name)\n",
    "teams = team_plan[(team_plan.time_start >= current_time) & (team_plan.time_start < current_time + 24 * 3600)          \n",
    "          & (team_plan.st_from_name == st)]\n",
    "print('\\nTeams:')\n",
    "print(teams[teams.state == 1].st_to_name.value_counts().to_string(), '\\n-')\n",
    "print(teams[teams.state == 1].team_type.value_counts().to_string(), '\\n-')\n",
    "print(teams[teams.state.isin([0, 1])].state.value_counts().to_string(), '\\n-')\n",
    "print(teams[teams.state.isin([0, 1])].depot_name.value_counts().to_string())"
   ]
  },
  {
   "cell_type": "code",
   "execution_count": 32,
   "metadata": {
    "collapsed": true
   },
   "outputs": [],
   "source": [
    "ts = ['200252616155', '200253041216']"
   ]
  },
  {
   "cell_type": "code",
   "execution_count": 37,
   "metadata": {
    "collapsed": false
   },
   "outputs": [
    {
     "name": "stdout",
     "output_type": "stream",
     "text": [
      "Jul 23, 00:05\n"
     ]
    },
    {
     "data": {
      "text/plain": [
       "datetime.datetime(2016, 7, 23, 20, 54)"
      ]
     },
     "execution_count": 37,
     "metadata": {},
     "output_type": "execute_result"
    }
   ],
   "source": [
    "print(nice_time(current_time))\n",
    "import datetime as dt\n",
    "dt.datetime.fromtimestamp(1469296440)"
   ]
  }
 ],
 "metadata": {
  "kernelspec": {
   "display_name": "Python 3",
   "language": "python",
   "name": "python3"
  },
  "language_info": {
   "codemirror_mode": {
    "name": "ipython",
    "version": 3
   },
   "file_extension": ".py",
   "mimetype": "text/x-python",
   "name": "python",
   "nbconvert_exporter": "python",
   "pygments_lexer": "ipython3",
   "version": "3.5.1"
  }
 },
 "nbformat": 4,
 "nbformat_minor": 0
}
