{
 "cells": [
  {
   "cell_type": "code",
   "execution_count": 462,
   "metadata": {
    "collapsed": false
   },
   "outputs": [
    {
     "name": "stdout",
     "output_type": "stream",
     "text": [
      "Planning start time: Jul 15, 14:41 (1468582897)\n"
     ]
    }
   ],
   "source": [
    "%run common.py"
   ]
  },
  {
   "cell_type": "code",
   "execution_count": 377,
   "metadata": {
    "collapsed": false
   },
   "outputs": [],
   "source": [
    "'''\n",
    "    Examples:\n",
    "    al = pd.read_csv(FOLDER + '/mandatory/travel_times_all_pairs.csv', sep=';')\n",
    "    get_longest_pair(['МАРИИНСК', 'ИЛАНСКАЯ', 'ИРКУТСК-СОРТИРОВОЧНЫЙ', 'РЕШОТЫ'], al.set_index(['st_from_name', 'st_to_name']))\n",
    "    \n",
    "    => Out[460]: ('МАРИИНСК', 'ИРКУТСК-СОРТИРОВОЧНЫЙ', 94170)\n",
    "    \n",
    "    get_longest_pair(['МАРИИНСК', 'ИЛАНСКАЯ', 'РЕШОТЫ', 'ИРКУТСК-СОРТИРОВОЧНЫЙ'], nx.all_pairs_dijkstra_path_length(g))\n",
    "    \n",
    "    => Out[460]: ('МАРИИНСК', 'ИРКУТСК-СОРТИРОВОЧНЫЙ', 94170)    \n",
    "'''\n",
    "\n",
    "def get_longest_pair(st_list, lengths):\n",
    "    sm1, sm2 = '', ''\n",
    "    m = 0\n",
    "    for s1 in st_list:\n",
    "        for s2 in st_list:\n",
    "            if type(lengths) == dict:\n",
    "                l = lengths[s1][s2]\n",
    "            elif type(lengths) == pd.DataFrame:\n",
    "                l = lengths.ix[s1, s2].values[0]\n",
    "            else: l = 0\n",
    "            if l > m:\n",
    "                m = l\n",
    "                sm1, sm2 = s1, s2\n",
    "    return (sm1, sm2, m)"
   ]
  },
  {
   "cell_type": "code",
   "execution_count": 378,
   "metadata": {
    "collapsed": false
   },
   "outputs": [],
   "source": [
    "#stations.groupby('loco_region')['name'].unique()\n",
    "d = dict(list(stations.groupby('loco_region')['name']))\n",
    "res = []\n",
    "for key in d.keys():\n",
    "    sts = d[key]\n",
    "    m = 0\n",
    "    sm1, sm2 = '', ''\n",
    "    for s1 in sts:\n",
    "        for s2 in sts:\n",
    "            m1 = all_lengths[s1][s2]\n",
    "            if m1 > m: \n",
    "                m = m1\n",
    "                sm1, sm2 = s1, s2\n",
    "    #print(key, sm1, sm2, np.round(m / 3600, 2))\n",
    "    res.append([key, sm1, sm2, np.round(m / 3600, 2)])\n",
    "    \n",
    "reg_lens = pd.DataFrame(res, columns = ['region', 'st_from', 'st_to', 'max_tt']).sort_values('max_tt', ascending=False)"
   ]
  },
  {
   "cell_type": "code",
   "execution_count": 386,
   "metadata": {
    "collapsed": false,
    "scrolled": false
   },
   "outputs": [],
   "source": [
    "def get_reg_name(l):\n",
    "    l_big = [st for st in l if st in big_st]\n",
    "    if len(l_big) == 2:\n",
    "        ret = l_big\n",
    "    elif len(l_big) > 2:\n",
    "        st1, st2, length = get_longest_pair(l_big, all_lengths)\n",
    "        ret = [st1, st2]\n",
    "    else:\n",
    "        st1, st2, length = get_longest_pair(l, all_lengths)\n",
    "        ret = [st1, st2]\n",
    "    return ret[0] + ' - ' + ret[1]        \n",
    "\n",
    "team_region = pd.read_csv(FOLDER + 'team_region.csv', dtype={'st_from':str, 'st_to':str, 'depot':str})\n",
    "add_info(team_region)\n",
    "big_st = stations[stations.norm_time > 0].name.unique()\n",
    "team_region['depot_name'] = team_region.depot.map(st_names.name)\n",
    "team_region['reg_name'] = team_region.team_region\\\n",
    "                            .map(team_region.groupby('team_region').st_from_name.unique().apply(get_reg_name))\n",
    "\n",
    "cols_tracks = ['team_region', 'asoup', 'depot', 'depot_name', 'st_from_name', 'st_to_name', 'reg_name']\n",
    "cols_times = ['team_region', 'asoup', 'depot', 'depot_name', 'time_f', 'time_b', 'time_wr']"
   ]
  }
 ],
 "metadata": {
  "kernelspec": {
   "display_name": "Python 3",
   "language": "python",
   "name": "python3"
  },
  "language_info": {
   "codemirror_mode": {
    "name": "ipython",
    "version": 3
   },
   "file_extension": ".py",
   "mimetype": "text/x-python",
   "name": "python",
   "nbconvert_exporter": "python",
   "pygments_lexer": "ipython3",
   "version": "3.5.1"
  }
 },
 "nbformat": 4,
 "nbformat_minor": 0
}
