{
 "cells": [
  {
   "cell_type": "code",
   "execution_count": 6,
   "metadata": {
    "collapsed": false
   },
   "outputs": [
    {
     "name": "stdout",
     "output_type": "stream",
     "text": [
      "Planning start time: Jul 13, 10:00 (1468393200)\n"
     ]
    }
   ],
   "source": [
    "%run common.py"
   ]
  },
  {
   "cell_type": "code",
   "execution_count": 7,
   "metadata": {
    "collapsed": false
   },
   "outputs": [],
   "source": [
    "'''\n",
    "    Examples:\n",
    "    al = pd.read_csv(FOLDER + '/mandatory/travel_times_all_pairs.csv', sep=';')\n",
    "    get_longest_pair(['МАРИИНСК', 'ИЛАНСКАЯ', 'ИРКУТСК-СОРТИРОВОЧНЫЙ', 'РЕШОТЫ'], al.set_index(['st_from_name', 'st_to_name']))\n",
    "    \n",
    "    => Out[460]: ('МАРИИНСК', 'ИРКУТСК-СОРТИРОВОЧНЫЙ', 94170)\n",
    "    \n",
    "    get_longest_pair(['МАРИИНСК', 'ИЛАНСКАЯ', 'РЕШОТЫ', 'ИРКУТСК-СОРТИРОВОЧНЫЙ'], nx.all_pairs_dijkstra_path_length(g))\n",
    "    \n",
    "    => Out[460]: ('МАРИИНСК', 'ИРКУТСК-СОРТИРОВОЧНЫЙ', 94170)    \n",
    "'''\n",
    "\n",
    "def get_longest_pair(st_list, lengths):\n",
    "    sm1, sm2 = '', ''\n",
    "    m = 0\n",
    "    for s1 in st_list:\n",
    "        for s2 in st_list:\n",
    "            if type(lengths) == dict:\n",
    "                l = lengths[s1][s2]\n",
    "            elif type(lengths) == pd.DataFrame:\n",
    "                l = lengths.ix[s1, s2].values[0]\n",
    "            else: l = 0\n",
    "            if l > m:\n",
    "                m = l\n",
    "                sm1, sm2 = s1, s2\n",
    "    return (sm1, sm2, m)"
   ]
  },
  {
   "cell_type": "code",
   "execution_count": 8,
   "metadata": {
    "collapsed": false,
    "scrolled": false
   },
   "outputs": [],
   "source": [
    "all_lengths = pd.read_csv(FOLDER + '/mandatory/travel_times_all_pairs.csv', sep=';').set_index(['st_from_name', 'st_to_name'])\n",
    "    \n",
    "def get_reg_name(l):\n",
    "    l_big = [st for st in l if st in big_st]\n",
    "    if len(l_big) == 2:\n",
    "        ret = l_big\n",
    "    elif len(l_big) > 2:\n",
    "        st1, st2, length = get_longest_pair(l_big, all_lengths)\n",
    "        ret = [st1, st2]\n",
    "    else:\n",
    "        st1, st2, length = get_longest_pair(l, all_lengths)\n",
    "        ret = [st1, st2]\n",
    "    return ret[0] + ' - ' + ret[1]        \n",
    "\n",
    "team_region = pd.read_csv(FOLDER + 'team_region.csv', dtype={'st_from':str, 'st_to':str, 'depot':str})\n",
    "add_info(team_region)\n",
    "big_st = stations[stations.norm_time > 0].name.unique()\n",
    "team_region['depot_name'] = team_region.depot.map(st_names.name)\n",
    "team_region['reg_name'] = team_region.team_region\\\n",
    "                            .map(team_region.groupby('team_region').st_from_name.unique().apply(get_reg_name))\n",
    "\n",
    "cols_tracks = ['team_region', 'asoup', 'depot', 'depot_name', 'st_from_name', 'st_to_name', 'reg_name']\n",
    "cols_times = ['team_region', 'asoup', 'depot', 'depot_name', 'time_f', 'time_b', 'time_wr']"
   ]
  },
  {
   "cell_type": "code",
   "execution_count": 9,
   "metadata": {
    "collapsed": false
   },
   "outputs": [
    {
     "name": "stdout",
     "output_type": "stream",
     "text": [
      "ГОНЧАРОВО          28\n",
      "БАТАРЕЙНАЯ         13\n",
      "ВОЕННЫЙ ГОРОДОК     3\n",
      "Name: st_to_name, dtype: int64\n",
      "1    28\n",
      "0    16\n",
      "Name: state, dtype: int64\n",
      "2    44\n",
      "Name: team_type, dtype: int64\n"
     ]
    }
   ],
   "source": [
    "#print(nice_time(current_time + 20*60 + 3*3600))\n",
    "nct = current_time + 20*60 + 3*3600\n",
    "st1 = 'ИРКУТСК-СОРТИРОВОЧНЫЙ'\n",
    "start_st = team_plan[team_plan.state.isin([0, 1])].drop_duplicates('team').set_index('team')\n",
    "team_plan['team_type'] = team_plan.team.apply(lambda x: int(str(x)[0]))\n",
    "team_plan['start_st'] = team_plan.team.map(start_st.st_from)\n",
    "team_plan.depot.fillna(team_plan.start_st, inplace=True)\n",
    "team_plan['depot_name'] = team_plan.depot.map(st_names.name)\n",
    "cols = ['team', 'st_from_name', 'st_to_name', 'time_start_norm', 'time_end_norm', 'state', 'loco']\n",
    "a = team_plan[(team_plan.time_start >= nct) & (team_plan.time_start < nct + 24 * 3600)\n",
    "         & (team_plan.state.isin([0, 1])) & (team_plan.st_from_name == st1) & (team_plan.depot_name == st1)]\n",
    "print(a.st_to_name.value_counts())\n",
    "print(a.state.value_counts())\n",
    "print(a.team_type.value_counts())"
   ]
  },
  {
   "cell_type": "code",
   "execution_count": 10,
   "metadata": {
    "collapsed": false
   },
   "outputs": [
    {
     "name": "stdout",
     "output_type": "stream",
     "text": [
      "Jul 13, 10:00\n"
     ]
    },
    {
     "data": {
      "text/plain": [
       "count    124.000000\n",
       "mean       3.361452\n",
       "std        2.799301\n",
       "min        0.000000\n",
       "25%        1.427500\n",
       "50%        2.420000\n",
       "75%        5.025000\n",
       "max       10.290000\n",
       "dtype: float64"
      ]
     },
     "execution_count": 10,
     "metadata": {},
     "output_type": "execute_result"
    }
   ],
   "source": [
    "print(nice_time(current_time))\n",
    "cols = ['team', 'st_from_name', 'st_to_name', 'oper_time_f', 'time_start_norm', 'state', 'wait_ct', 'wait']\n",
    "team_plan['sinfo'] = team_plan['state_info']\n",
    "team_plan['oper_time_f'] = team_plan.oper_time.apply(nice_time)\n",
    "team_plan['wait_ct'] = np.round((current_time - team_plan.oper_time) / 3600, 2)\n",
    "team_plan['wait'] = np.round((team_plan.time_start - team_plan.oper_time) / 3600, 2)\n",
    "a = team_plan[(team_plan.state_info == '2') \n",
    "          & (team_plan.state.isin([0, 1]))][cols].drop_duplicates('team').sort_values('wait', ascending=False)\n",
    "\n",
    "(a.wait - a.wait_ct).describe()"
   ]
  },
  {
   "cell_type": "code",
   "execution_count": 11,
   "metadata": {
    "collapsed": false
   },
   "outputs": [
    {
     "name": "stdout",
     "output_type": "stream",
     "text": [
      "Trains:\n",
      "ГОНЧАРОВО     65\n",
      "БАТАРЕЙНАЯ    28 \n",
      "-\n",
      "2    84\n",
      "9     9\n",
      "\n",
      "Locos:\n",
      "ГОНЧАРОВО     35\n",
      "БАТАРЕЙНАЯ    27 \n",
      "-\n",
      "1    62\n",
      "0    37\n",
      "4     2\n",
      "\n",
      "Teams:\n",
      "БАТАРЕЙНАЯ    60\n",
      "ГОНЧАРОВО     38 \n",
      "-\n",
      "2    98 \n",
      "-\n",
      "1    98\n",
      "0    42 \n",
      "-\n",
      "ЗИМА                     73\n",
      "ИРКУТСК-СОРТИРОВОЧНЫЙ    60\n",
      "СЛЮДЯНКА I                4\n",
      "УЛАН-УДЭ                  2\n",
      "НИЖНЕУДИНСК               1\n"
     ]
    }
   ],
   "source": [
    "st = 'ИРКУТСК-СОРТИРОВОЧНЫЙ'\n",
    "\n",
    "# trains\n",
    "train_plan['train_type'] = train_plan.train.apply(lambda x: int(str(x)[0]))\n",
    "trains = train_plan[(train_plan.time_start >= current_time) & (train_plan.time_start < current_time + 24 * 3600)\n",
    "          & (train_plan.train_type.isin([2, 9]))\n",
    "          & (train_plan.st_from_name == st)]\n",
    "\n",
    "print('Trains:')\n",
    "print(trains.st_to_name.value_counts().to_string(), '\\n-')\n",
    "print(trains.train_type.value_counts().to_string())\n",
    "\n",
    "locos = loco_plan[(loco_plan.time_start >= current_time) & (loco_plan.time_start < current_time + 24 * 3600)          \n",
    "          & (loco_plan.st_from_name == st)]\n",
    "print('\\nLocos:')\n",
    "print(locos[locos.state == 1].st_to_name.value_counts().to_string(), '\\n-')\n",
    "print(locos.state.value_counts().to_string())\n",
    "\n",
    "team_plan['team_type'] = team_plan.team.apply(lambda x: int(str(x)[0]))\n",
    "team_plan['start_st'] = team_plan.team.map\\\n",
    "            (team_plan[team_plan.state.isin([0, 1])].drop_duplicates('team').set_index('team').st_from)\n",
    "team_plan.depot.fillna(team_plan.start_st, inplace=True)\n",
    "team_plan['depot_name'] = team_plan.depot.map(st_names.name)\n",
    "teams = team_plan[(team_plan.time_start >= current_time) & (team_plan.time_start < current_time + 24 * 3600)          \n",
    "          & (team_plan.st_from_name == st)]\n",
    "print('\\nTeams:')\n",
    "print(teams[teams.state == 1].st_to_name.value_counts().to_string(), '\\n-')\n",
    "print(teams[teams.state == 1].team_type.value_counts().to_string(), '\\n-')\n",
    "print(teams[teams.state.isin([0, 1])].state.value_counts().to_string(), '\\n-')\n",
    "print(teams[teams.state.isin([0, 1])].depot_name.value_counts().to_string())"
   ]
  },
  {
   "cell_type": "code",
   "execution_count": 95,
   "metadata": {
    "collapsed": false
   },
   "outputs": [
    {
     "name": "stdout",
     "output_type": "stream",
     "text": [
      "Index(['uns', 'train_id', 'train_index', 'train_number', 'loco_id',\n",
      "       'loco_name', 'team_id', 'team_name', 'motorman', 'location_asoup_id',\n",
      "       ...\n",
      "       'team_location_asoup_id', 'team_location_name', 'team_type_asoup_id',\n",
      "       'team_type_name', 'team_time', 'team_ready_time1', 'team_ready_st1',\n",
      "       'team_ready_time2', 'team_ready_st2', 'team_ready_rest_start_time'],\n",
      "      dtype='object', length=104)\n"
     ]
    }
   ],
   "source": [
    "df = pd.read_csv('./input/otsev_uth_detail.csv', encoding='utf-8-sig', sep=';', \n",
    "                 dtype={'train_id':str, 'train_index':str, 'loco_id':str, 'team_id':str}, \n",
    "                 parse_dates=['time', 'train_time', 'loco_time', 'team_time', 'team_ready_time1', 'team_ready_time2'])                 \n",
    "print(df.columns)"
   ]
  },
  {
   "cell_type": "code",
   "execution_count": 97,
   "metadata": {
    "collapsed": false
   },
   "outputs": [
    {
     "name": "stdout",
     "output_type": "stream",
     "text": [
      "Jul 13, 10:00\n",
      "       uns       team_id  out        team_type_name           team_time    team_ready_time1    team_ready_time2\n",
      " 885342674  200200256743  NaN  Начало выходного дня 2016-07-12 07:36:00 2016-07-13 01:44:24 2016-07-11 19:33:00\n",
      " 885438251  200200220837  NaN  Начало выходного дня 2016-07-12 10:12:00 2016-07-13 04:57:00                 NaT\n",
      " 885173429  200200252139  NaN  Начало выходного дня 2016-07-12 04:27:00 2016-07-12 23:12:00 2016-07-11 22:40:00\n",
      " 885111604  200200272972  NaN  Начало выходного дня 2016-07-12 02:13:00 2016-07-12 20:58:12                 NaT\n",
      " 885207307  200200110159  NaN  Начало выходного дня 2016-07-12 05:19:00 2016-07-13 00:04:12 2016-07-11 22:30:00\n"
     ]
    }
   ],
   "source": [
    "print(nice_time(current_time))\n",
    "cols = ['uns', 'team_id', 'out',\n",
    "        'team_type_name', 'team_time',\n",
    "                                'team_ready_time1', 'team_ready_time2']\n",
    "df['delta1'] = df.team_ready_time1 - df.team_time\n",
    "nice_print(df[df.team_type_asoup_id == 54].sort_values('delta1')[cols].head())"
   ]
  },
  {
   "cell_type": "code",
   "execution_count": 103,
   "metadata": {
    "collapsed": false
   },
   "outputs": [
    {
     "name": "stdout",
     "output_type": "stream",
     "text": [
      "         team    oper_time_f         loc_name   depot_time_f  return_time_f\n",
      " 200200256743  Jul 12, 07:36  СЕВЕРОБАЙКАЛЬСК  Jul 13, 01:44  Jul 11, 19:33\n"
     ]
    }
   ],
   "source": [
    "team_info['depot_time_f'] = team_info.depot_time.apply(nice_time)\n",
    "team_info['return_time_f'] = team_info.return_time.apply(nice_time)\n",
    "nice_print(team_info[team_info.team == '200200256743'][['team', 'oper_time_f', 'loc_name', 'depot_time_f', 'return_time_f']])"
   ]
  },
  {
   "cell_type": "code",
   "execution_count": 102,
   "metadata": {
    "collapsed": false
   },
   "outputs": [
    {
     "name": "stdout",
     "output_type": "stream",
     "text": [
      "       uns       team_id  out                           team_type_name           team_time team_ready_time1 team_ready_time2\n",
      " 880496579  200200149070  NaN                   Отправление пассажиром 2016-07-07 15:29:00              NaT              NaT\n",
      " 881382559  200200226491  NaN                   Отправление пассажиром 2016-07-08 11:31:00              NaT              NaT\n",
      " 883039999  200200081132  NaN                   Отправление пассажиром 2016-07-10 02:32:00              NaT              NaT\n",
      " 882103040  200200241908  NaN      Сдача локомотива на территории депо 2016-07-09 04:38:00              NaT              NaT\n",
      " 862826457  200200191250  NaN       Явка после отдыха в пункте оборота 2016-06-20 17:10:00              NaT              NaT\n",
      " 881025325  200200257491  NaN       Явка после отдыха в пункте оборота 2016-07-08 04:00:00              NaT              NaT\n",
      " 879300393  200200205109    1                   Отправление со станции                 NaT              NaT              NaT\n",
      " 883913593  200200093336  NaN                   Отправление пассажиром 2016-07-10 22:50:00              NaT              NaT\n",
      " 881692957  200200100831  NaN  Ожидание вызова на дому после отдыха... 2016-07-08 18:16:00              NaT              NaT\n",
      " 884114391  200200235922  NaN                   Отправление пассажиром 2016-07-11 03:46:00              NaT              NaT\n",
      " 844353514  200200151659  NaN         Явка в пункте оборота без отдыха 2016-06-02 19:00:00              NaT              NaT\n",
      " 883995292  200200088351  NaN  Ожидание вызова на дому после отдыха... 2016-07-11 01:00:00              NaT              NaT\n",
      " 851418029  200200085445  NaN  Ожидание вызова на дому после отдыха... 2016-06-09 15:13:00              NaT              NaT\n",
      " 847698353  200200249625  NaN                   Отправление пассажиром 2016-06-06 00:50:00              NaT              NaT\n",
      " 882624154  200200201008  NaN        Сдача локомотива на путях станции 2016-07-09 15:50:00              NaT              NaT\n",
      " 882248130  200200194589  NaN  Ожидание вызова на дому после отдыха... 2016-07-09 08:00:00              NaT              NaT\n",
      " 878682010  200200051730  NaN  Ожидание вызова на дому после отдыха... 2016-07-05 22:10:00              NaT              NaT\n",
      " 877038536  200200254203  NaN        Сдача локомотива на путях станции 2016-07-04 09:25:00              NaT              NaT\n",
      " 884022908  200200067532  NaN                   Отправление пассажиром 2016-07-11 00:03:00              NaT              NaT\n",
      " 874842251  200200157344  NaN        Сдача локомотива на путях станции 2016-07-02 06:08:00              NaT              NaT\n",
      " 879882637  200200167633  NaN         Явка в пункте оборота без отдыха                 NaT              NaT              NaT\n",
      " 886335413  200200253612  NaN           Начало отдыха в пункте оборота 2016-07-13 07:04:00              NaT              NaT\n",
      " 877832506  200200266421  NaN  Ожидание вызова на дому после отдыха... 2016-07-05 04:00:00              NaT              NaT\n",
      " 875992165  200200175330  NaN  Ожидание вызова на дому после отдыха... 2016-07-03 09:00:00              NaT              NaT\n",
      " 883951919  200200243968  NaN  Ожидание вызова на дому после отдыха... 2016-07-11 00:01:00              NaT              NaT\n",
      " 883180492  200200139784  NaN  Ожидание вызова на дому после отдыха... 2016-07-10 06:00:00              NaT              NaT\n",
      " 878824251  200200256799  NaN  Ожидание вызова на дому после отдыха... 2016-07-06 01:59:00              NaT              NaT\n",
      " 883923740  200200278260  NaN  Ожидание вызова на дому после отдыха... 2016-07-10 23:07:00              NaT              NaT\n",
      " 882400786  200200093321  NaN  Ожидание вызова на дому после отдыха... 2016-07-09 11:23:00              NaT              NaT\n",
      " 882108164  200200101698  NaN  Ожидание вызова на дому после отдыха... 2016-07-09 04:45:00              NaT              NaT\n",
      " 881981984  200200134051  NaN  Ожидание вызова на дому после отдыха... 2016-07-09 01:40:00              NaT              NaT\n",
      " 870335296  200200260459  NaN  Ожидание вызова на дому после отдыха... 2016-06-28 00:02:00              NaT              NaT\n",
      " 884319522  200200136198  NaN                   Отправление пассажиром 2016-07-11 08:37:00              NaT              NaT\n",
      " 847633698  200200256077  NaN  Ожидание вызова на дому после отдыха... 2016-06-06 00:07:00              NaT              NaT\n",
      " 874863579  200200151616  NaN  Ожидание вызова на дому после отдыха... 2016-07-02 06:34:00              NaT              NaT\n",
      " 868352101  200200253701  NaN  Ожидание вызова на дому после отдыха... 2016-06-26 01:49:00              NaT              NaT\n"
     ]
    }
   ],
   "source": [
    "m1 = team_info[(team_info.depot_time == -1) \n",
    "          & (team_info.return_time == -1)][['team', 'oper_time_f', 'loc_name', 'depot_time_f', 'return_time_f']]\n",
    "\n",
    "with pd.option_context('display.max_colwidth', 40):\n",
    "    nice_print(df[df.team_id.isin(m1.team)][cols])"
   ]
  }
 ],
 "metadata": {
  "kernelspec": {
   "display_name": "Python 3",
   "language": "python",
   "name": "python3"
  },
  "language_info": {
   "codemirror_mode": {
    "name": "ipython",
    "version": 3
   },
   "file_extension": ".py",
   "mimetype": "text/x-python",
   "name": "python",
   "nbconvert_exporter": "python",
   "pygments_lexer": "ipython3",
   "version": "3.5.1"
  }
 },
 "nbformat": 4,
 "nbformat_minor": 0
}
