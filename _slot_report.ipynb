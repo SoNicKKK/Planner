{
 "cells": [
  {
   "cell_type": "code",
   "execution_count": 44,
   "metadata": {
    "collapsed": true
   },
   "outputs": [],
   "source": [
    "report = ''\n",
    "FOLDER = 'resources/'\n",
    "REPORT_FOLDER = 'report/'\n",
    "PRINT = True"
   ]
  },
  {
   "cell_type": "code",
   "execution_count": 45,
   "metadata": {
    "collapsed": false
   },
   "outputs": [],
   "source": [
    "def add_line(line, p=PRINT):    \n",
    "    global report        \n",
    "    if p:                \n",
    "        if type(line) == pd.core.frame.DataFrame:\n",
    "            print(line.to_string(index=False))\n",
    "        elif type(line) == pd.core.series.Series:\n",
    "            print(line.to_string())\n",
    "        else:\n",
    "            print(line)\n",
    "    if type(line) == pd.core.frame.DataFrame:        \n",
    "        report += ('%s<br>' % line.to_html(index=False))\n",
    "    elif type(line) == pd.core.series.Series:\n",
    "        report += ('%s<br>' % line.to_frame().reset_index().to_html(index=False))\n",
    "    else:                \n",
    "        report += ('%s<br>' % line)\n",
    "    \n",
    "def add_header(header, h=4, p=PRINT):\n",
    "    global report\n",
    "    report += ('<h%d>%s</h%d>' % (h, header, h))\n",
    "    if p:\n",
    "        print(header)\n",
    "\n",
    "def add_image(filename):\n",
    "    global report\n",
    "    report += ('<img src=\"%s\" alt=\"%s\" height=\"40%%\">' % (filename, filename))\n",
    "\n",
    "def create_report(filename):\n",
    "    global report\n",
    "    report = report.replace('<table border=\"1\" class=\"dataframe\">','<table class=\"table table-striped\">')\n",
    "    html_string = '''\n",
    "        <html>\n",
    "            <head>\n",
    "                <link rel=\"stylesheet\" href=\"skeleton.css\">\n",
    "                <style>body{ margin:20 20; background:whitesmoke; }\n",
    "                table {table-layout : fixed}\n",
    "                </style>\n",
    "            </head>\n",
    "            <body>                \n",
    "                %s\n",
    "            </body>\n",
    "        </html>''' % (report)\n",
    "    f = open(filename,'w', encoding='utf-8-sig')\n",
    "    f.write(html_string)\n",
    "    f.close()\n",
    "    print('Отчет сформирован: %s' % filename)"
   ]
  },
  {
   "cell_type": "code",
   "execution_count": 46,
   "metadata": {
    "collapsed": false
   },
   "outputs": [
    {
     "name": "stdout",
     "output_type": "stream",
     "text": [
      "Log time: 1467714691, Tue Jul  5 13:31:31 2016\n",
      "Read csvs: 0.73 sec\n"
     ]
    }
   ],
   "source": [
    "FOLDER = 'resources/'\n",
    "\n",
    "import numpy as np\n",
    "import pandas as pd\n",
    "import time, datetime\n",
    "from ast import literal_eval\n",
    "import matplotlib.pyplot as plt\n",
    "import seaborn as sns\n",
    "\n",
    "%matplotlib inline\n",
    "plt.style.use('fivethirtyeight')\n",
    "plt.rc('font', family='Times New Roman')\n",
    "\n",
    "pd.set_option('max_rows', 50)\n",
    "\n",
    "time_format = '%b %d, %H:%M'\n",
    "\n",
    "start_time = time.time()\n",
    "current_time = pd.read_csv(FOLDER + 'current_time.csv').current_time[0]\n",
    "twr          = pd.read_csv(FOLDER + 'team_work_region.csv', converters={'twr':str})\n",
    "links        = pd.read_csv(FOLDER + 'link.csv', dtype={'st_from':str, 'st_to':str})\n",
    "stations     = pd.read_csv(FOLDER + 'station.csv', converters={'station':str})\n",
    "train_info   = pd.read_csv(FOLDER + 'train_info.csv', converters={'train': str, 'st_from':str, 'st_to':str, 'oper_location':str,\n",
    "                                                                 'st_from':str, 'st_to':str})\n",
    "train_plan   = pd.read_csv(FOLDER + 'slot_train.csv', converters={'train': str, 'st_from':str, 'st_to':str})\n",
    "loco_info    = pd.read_csv(FOLDER + 'loco_attributes.csv', converters={'train':str, 'loco':str, 'depot':str,\n",
    "                                                                      'st_from':str, 'st_to':str})\n",
    "loco_plan    = pd.read_csv(FOLDER + 'slot_loco.csv', converters={'train':str, 'loco':str, 'st_from':str, 'st_to':str})\n",
    "team_info    = pd.read_csv(FOLDER + 'team_attributes.csv', converters={'team':str,'depot':str, 'oper_location':str, \\\n",
    "                                                                 'st_from':str, 'st_to':str, 'loco':str, 'depot_st':str})\n",
    "team_plan    = pd.read_csv(FOLDER + 'slot_team.csv', converters={'team':str,'loco':str, 'st_from':str, 'st_to':str})\n",
    "loco_series  = pd.read_csv(FOLDER + 'loco_series.csv')\n",
    "\n",
    "team_info.regions = team_info.regions.apply(literal_eval)\n",
    "st_names = stations[['station', 'name', 'esr']].drop_duplicates().set_index('station')\n",
    "print('Время составления отчета:', time.strftime(time_format, time.localtime()))\n",
    "print('Время запуска планировщика: %s (%d)' % (time.strftime(time_format, time.localtime(current_time)), current_time))"
   ]
  },
  {
   "cell_type": "code",
   "execution_count": 47,
   "metadata": {
    "collapsed": true
   },
   "outputs": [],
   "source": [
    "# Мержим таблицы _plan и _info для поездов, локомотивов и бригад\n",
    "# Добавляем во все таблицы названия станций на маршруте и времена отправления/прибытия в читабельном формате\n",
    "\n",
    "def add_info(df):    \n",
    "    if 'st_from' in df.columns:\n",
    "        df['st_from_name'] = df.st_from.map(st_names.name)\n",
    "    if 'st_to' in df.columns:\n",
    "        df['st_to_name'] = df.st_to.map(st_names.name)\n",
    "    if 'time_start' in df.columns:\n",
    "        df['time_start_norm'] = df.time_start.apply(lambda x: time.strftime(time_format, time.localtime(x)))\n",
    "    if 'time_end' in df.columns:\n",
    "        df['time_end_norm'] = df.time_end.apply(lambda x: time.strftime(time_format, time.localtime(x)))\n",
    "    if 'oper_location' in df.columns:\n",
    "        df['oper_location_name'] = df.oper_location.map(st_names.name)    \n",
    "        df.oper_location_name.fillna(0, inplace=True)\n",
    "    if ('oper_location' in df.columns) & ('st_from' in df.columns) & ('st_to' in df.columns):        \n",
    "        df['loc_name'] = df.oper_location_name\n",
    "        df.loc[df.loc_name == 0, 'loc_name'] = df.st_from_name + ' - ' + df.st_to_name\n",
    "    \n",
    "add_info(train_plan)\n",
    "add_info(loco_plan)\n",
    "add_info(team_plan)\n",
    "add_info(loco_info)\n",
    "add_info(team_info)\n",
    "add_info(train_info)\n",
    "train_plan = train_plan.merge(train_info, on='train', suffixes=('', '_info'), how='left')\n",
    "loco_plan = loco_plan.merge(loco_info, on='loco', suffixes=('', '_info'), how='left')\n",
    "team_plan = team_plan.merge(team_info, on='team', suffixes=('', '_info'), how='left')\n",
    "team_plan['team_type'] = team_plan.team.apply(lambda x: 'Реальная' if str(x)[0] == '2' else 'Фейковая')"
   ]
  },
  {
   "cell_type": "code",
   "execution_count": 48,
   "metadata": {
    "collapsed": true
   },
   "outputs": [],
   "source": [
    "def nice_time(t):\n",
    "    return time.strftime(time_format, time.localtime(t)) if t > 0 else ''"
   ]
  },
  {
   "cell_type": "code",
   "execution_count": 49,
   "metadata": {
    "collapsed": true
   },
   "outputs": [],
   "source": [
    "add_header('Анализ расхождений времен хода поездов и времен хода в нитках', h=2, p=False)"
   ]
  },
  {
   "cell_type": "markdown",
   "metadata": {},
   "source": [
    "### Загружаем нитки, преобразуем все времена в datetime"
   ]
  },
  {
   "cell_type": "code",
   "execution_count": 50,
   "metadata": {
    "collapsed": false
   },
   "outputs": [],
   "source": [
    "slot = pd.read_csv(FOLDER + 'slot.csv', dtype={'st_from':str, 'st_to':str})\n",
    "add_info(slot)\n",
    "slot['tt'] = slot.time_end - slot.time_start\n",
    "slot['link_name'] = list(zip(slot.st_from_name, slot.st_to_name))\n",
    "slot['dt_from'] = slot.time_start.apply(lambda x: datetime.datetime.fromtimestamp(x))\n",
    "slot['dt_to'] = slot.time_end.apply(lambda x: datetime.datetime.fromtimestamp(x))"
   ]
  },
  {
   "cell_type": "markdown",
   "metadata": {},
   "source": [
    "### Для каждой нитки делаем resample до трехчасового интервала и ищем среднее время хода"
   ]
  },
  {
   "cell_type": "markdown",
   "metadata": {},
   "source": [
    "#### TO DO: Подумать, как переписать: работает очень долго"
   ]
  },
  {
   "cell_type": "code",
   "execution_count": 51,
   "metadata": {
    "collapsed": false
   },
   "outputs": [
    {
     "data": {
      "text/html": [
       "<div>\n",
       "<table border=\"1\" class=\"dataframe\">\n",
       "  <thead>\n",
       "    <tr style=\"text-align: right;\">\n",
       "      <th></th>\n",
       "      <th>link_name</th>\n",
       "      <th>dt_from</th>\n",
       "      <th>tt</th>\n",
       "    </tr>\n",
       "  </thead>\n",
       "  <tbody>\n",
       "    <tr>\n",
       "      <th>0</th>\n",
       "      <td>(АБАЗА, АСКИЗ)</td>\n",
       "      <td>2016-07-05 03:00:00</td>\n",
       "      <td>6840</td>\n",
       "    </tr>\n",
       "    <tr>\n",
       "      <th>1</th>\n",
       "      <td>(АБАЗА, АСКИЗ)</td>\n",
       "      <td>2016-07-05 06:00:00</td>\n",
       "      <td>7140</td>\n",
       "    </tr>\n",
       "    <tr>\n",
       "      <th>2</th>\n",
       "      <td>(АБАЗА, АСКИЗ)</td>\n",
       "      <td>2016-07-05 09:00:00</td>\n",
       "      <td>6600</td>\n",
       "    </tr>\n",
       "    <tr>\n",
       "      <th>3</th>\n",
       "      <td>(АБАЗА, АСКИЗ)</td>\n",
       "      <td>2016-07-05 12:00:00</td>\n",
       "      <td>4980</td>\n",
       "    </tr>\n",
       "    <tr>\n",
       "      <th>4</th>\n",
       "      <td>(АБАЗА, АСКИЗ)</td>\n",
       "      <td>2016-07-05 15:00:00</td>\n",
       "      <td>4980</td>\n",
       "    </tr>\n",
       "  </tbody>\n",
       "</table>\n",
       "</div>"
      ],
      "text/plain": [
       "        link_name             dt_from    tt\n",
       "0  (АБАЗА, АСКИЗ) 2016-07-05 03:00:00  6840\n",
       "1  (АБАЗА, АСКИЗ) 2016-07-05 06:00:00  7140\n",
       "2  (АБАЗА, АСКИЗ) 2016-07-05 09:00:00  6600\n",
       "3  (АБАЗА, АСКИЗ) 2016-07-05 12:00:00  4980\n",
       "4  (АБАЗА, АСКИЗ) 2016-07-05 15:00:00  4980"
      ]
     },
     "execution_count": 51,
     "metadata": {},
     "output_type": "execute_result"
    }
   ],
   "source": [
    "tracks = slot.dropna(subset=['st_from_name', 'st_to_name'], how='any').link_name.unique()\n",
    "res = {}\n",
    "for track in tracks:\n",
    "    a = slot[slot.link_name == track].set_index('dt_from').resample('3H', how={'tt':np.mean})\n",
    "    for i in a.index:\n",
    "        res[(track, i)] = a.ix[i]\n",
    "\n",
    "slot_3h_durations = pd.DataFrame.from_dict(res, orient='index')\n",
    "df_3h = slot_3h_durations.reset_index()\n",
    "df_3h.columns = ['link_name', 'dt_from', 'tt']\n",
    "df_3h.head()"
   ]
  },
  {
   "cell_type": "code",
   "execution_count": 52,
   "metadata": {
    "collapsed": false
   },
   "outputs": [
    {
     "data": {
      "text/html": [
       "<div>\n",
       "<table border=\"1\" class=\"dataframe\">\n",
       "  <thead>\n",
       "    <tr style=\"text-align: right;\">\n",
       "      <th></th>\n",
       "      <th>link_name</th>\n",
       "      <th>dt_from</th>\n",
       "      <th>tt</th>\n",
       "    </tr>\n",
       "  </thead>\n",
       "  <tbody>\n",
       "    <tr>\n",
       "      <th>1445</th>\n",
       "      <td>(БОЛЬШОЙ ЛУГ, ГОНЧАРОВО)</td>\n",
       "      <td>2016-07-05 00:00:00</td>\n",
       "      <td>1080.000000</td>\n",
       "    </tr>\n",
       "    <tr>\n",
       "      <th>1446</th>\n",
       "      <td>(БОЛЬШОЙ ЛУГ, ГОНЧАРОВО)</td>\n",
       "      <td>2016-07-05 03:00:00</td>\n",
       "      <td>1080.000000</td>\n",
       "    </tr>\n",
       "    <tr>\n",
       "      <th>1447</th>\n",
       "      <td>(БОЛЬШОЙ ЛУГ, ГОНЧАРОВО)</td>\n",
       "      <td>2016-07-05 06:00:00</td>\n",
       "      <td>1080.000000</td>\n",
       "    </tr>\n",
       "    <tr>\n",
       "      <th>1448</th>\n",
       "      <td>(БОЛЬШОЙ ЛУГ, ГОНЧАРОВО)</td>\n",
       "      <td>2016-07-05 09:00:00</td>\n",
       "      <td>1080.000000</td>\n",
       "    </tr>\n",
       "    <tr>\n",
       "      <th>1449</th>\n",
       "      <td>(БОЛЬШОЙ ЛУГ, ГОНЧАРОВО)</td>\n",
       "      <td>2016-07-05 12:00:00</td>\n",
       "      <td>1105.714286</td>\n",
       "    </tr>\n",
       "    <tr>\n",
       "      <th>1450</th>\n",
       "      <td>(БОЛЬШОЙ ЛУГ, ГОНЧАРОВО)</td>\n",
       "      <td>2016-07-05 15:00:00</td>\n",
       "      <td>1080.000000</td>\n",
       "    </tr>\n",
       "    <tr>\n",
       "      <th>1451</th>\n",
       "      <td>(БОЛЬШОЙ ЛУГ, ГОНЧАРОВО)</td>\n",
       "      <td>2016-07-05 18:00:00</td>\n",
       "      <td>1080.000000</td>\n",
       "    </tr>\n",
       "    <tr>\n",
       "      <th>1452</th>\n",
       "      <td>(БОЛЬШОЙ ЛУГ, ГОНЧАРОВО)</td>\n",
       "      <td>2016-07-05 21:00:00</td>\n",
       "      <td>1080.000000</td>\n",
       "    </tr>\n",
       "    <tr>\n",
       "      <th>1453</th>\n",
       "      <td>(БОЛЬШОЙ ЛУГ, ГОНЧАРОВО)</td>\n",
       "      <td>2016-07-06 00:00:00</td>\n",
       "      <td>1100.000000</td>\n",
       "    </tr>\n",
       "    <tr>\n",
       "      <th>1454</th>\n",
       "      <td>(БОЛЬШОЙ ЛУГ, ГОНЧАРОВО)</td>\n",
       "      <td>2016-07-06 03:00:00</td>\n",
       "      <td>1080.000000</td>\n",
       "    </tr>\n",
       "    <tr>\n",
       "      <th>1455</th>\n",
       "      <td>(БОЛЬШОЙ ЛУГ, ГОНЧАРОВО)</td>\n",
       "      <td>2016-07-06 06:00:00</td>\n",
       "      <td>1080.000000</td>\n",
       "    </tr>\n",
       "    <tr>\n",
       "      <th>1456</th>\n",
       "      <td>(БОЛЬШОЙ ЛУГ, ГОНЧАРОВО)</td>\n",
       "      <td>2016-07-06 09:00:00</td>\n",
       "      <td>1080.000000</td>\n",
       "    </tr>\n",
       "    <tr>\n",
       "      <th>1457</th>\n",
       "      <td>(БОЛЬШОЙ ЛУГ, ГОНЧАРОВО)</td>\n",
       "      <td>2016-07-06 12:00:00</td>\n",
       "      <td>1105.714286</td>\n",
       "    </tr>\n",
       "    <tr>\n",
       "      <th>1458</th>\n",
       "      <td>(БОЛЬШОЙ ЛУГ, ГОНЧАРОВО)</td>\n",
       "      <td>2016-07-06 15:00:00</td>\n",
       "      <td>1080.000000</td>\n",
       "    </tr>\n",
       "    <tr>\n",
       "      <th>1459</th>\n",
       "      <td>(БОЛЬШОЙ ЛУГ, ГОНЧАРОВО)</td>\n",
       "      <td>2016-07-06 18:00:00</td>\n",
       "      <td>1080.000000</td>\n",
       "    </tr>\n",
       "    <tr>\n",
       "      <th>1460</th>\n",
       "      <td>(БОЛЬШОЙ ЛУГ, ГОНЧАРОВО)</td>\n",
       "      <td>2016-07-06 21:00:00</td>\n",
       "      <td>1080.000000</td>\n",
       "    </tr>\n",
       "  </tbody>\n",
       "</table>\n",
       "</div>"
      ],
      "text/plain": [
       "                     link_name             dt_from           tt\n",
       "1445  (БОЛЬШОЙ ЛУГ, ГОНЧАРОВО) 2016-07-05 00:00:00  1080.000000\n",
       "1446  (БОЛЬШОЙ ЛУГ, ГОНЧАРОВО) 2016-07-05 03:00:00  1080.000000\n",
       "1447  (БОЛЬШОЙ ЛУГ, ГОНЧАРОВО) 2016-07-05 06:00:00  1080.000000\n",
       "1448  (БОЛЬШОЙ ЛУГ, ГОНЧАРОВО) 2016-07-05 09:00:00  1080.000000\n",
       "1449  (БОЛЬШОЙ ЛУГ, ГОНЧАРОВО) 2016-07-05 12:00:00  1105.714286\n",
       "1450  (БОЛЬШОЙ ЛУГ, ГОНЧАРОВО) 2016-07-05 15:00:00  1080.000000\n",
       "1451  (БОЛЬШОЙ ЛУГ, ГОНЧАРОВО) 2016-07-05 18:00:00  1080.000000\n",
       "1452  (БОЛЬШОЙ ЛУГ, ГОНЧАРОВО) 2016-07-05 21:00:00  1080.000000\n",
       "1453  (БОЛЬШОЙ ЛУГ, ГОНЧАРОВО) 2016-07-06 00:00:00  1100.000000\n",
       "1454  (БОЛЬШОЙ ЛУГ, ГОНЧАРОВО) 2016-07-06 03:00:00  1080.000000\n",
       "1455  (БОЛЬШОЙ ЛУГ, ГОНЧАРОВО) 2016-07-06 06:00:00  1080.000000\n",
       "1456  (БОЛЬШОЙ ЛУГ, ГОНЧАРОВО) 2016-07-06 09:00:00  1080.000000\n",
       "1457  (БОЛЬШОЙ ЛУГ, ГОНЧАРОВО) 2016-07-06 12:00:00  1105.714286\n",
       "1458  (БОЛЬШОЙ ЛУГ, ГОНЧАРОВО) 2016-07-06 15:00:00  1080.000000\n",
       "1459  (БОЛЬШОЙ ЛУГ, ГОНЧАРОВО) 2016-07-06 18:00:00  1080.000000\n",
       "1460  (БОЛЬШОЙ ЛУГ, ГОНЧАРОВО) 2016-07-06 21:00:00  1080.000000"
      ]
     },
     "execution_count": 52,
     "metadata": {},
     "output_type": "execute_result"
    }
   ],
   "source": [
    "df_3h[df_3h.link_name == ('БОЛЬШОЙ ЛУГ', 'ГОНЧАРОВО')]"
   ]
  },
  {
   "cell_type": "markdown",
   "metadata": {},
   "source": [
    "### Для каждого поезда находим начало трехчасового интервала для времени отправления"
   ]
  },
  {
   "cell_type": "code",
   "execution_count": 53,
   "metadata": {
    "collapsed": false
   },
   "outputs": [
    {
     "data": {
      "text/html": [
       "<div>\n",
       "<table border=\"1\" class=\"dataframe\">\n",
       "  <thead>\n",
       "    <tr style=\"text-align: right;\">\n",
       "      <th></th>\n",
       "      <th>train</th>\n",
       "      <th>time_start</th>\n",
       "      <th>dt_from</th>\n",
       "      <th>dt_3h</th>\n",
       "    </tr>\n",
       "  </thead>\n",
       "  <tbody>\n",
       "    <tr>\n",
       "      <th>0</th>\n",
       "      <td>999912408032000</td>\n",
       "      <td>1467908260</td>\n",
       "      <td>2016-07-07 19:17:40</td>\n",
       "      <td>2016-07-07 18:00:00</td>\n",
       "    </tr>\n",
       "    <tr>\n",
       "      <th>1</th>\n",
       "      <td>999912408032000</td>\n",
       "      <td>1467909160</td>\n",
       "      <td>2016-07-07 19:32:40</td>\n",
       "      <td>2016-07-07 18:00:00</td>\n",
       "    </tr>\n",
       "    <tr>\n",
       "      <th>2</th>\n",
       "      <td>999912408032000</td>\n",
       "      <td>1467910840</td>\n",
       "      <td>2016-07-07 20:00:40</td>\n",
       "      <td>2016-07-07 18:00:00</td>\n",
       "    </tr>\n",
       "    <tr>\n",
       "      <th>3</th>\n",
       "      <td>999912408032000</td>\n",
       "      <td>1467914800</td>\n",
       "      <td>2016-07-07 21:06:40</td>\n",
       "      <td>2016-07-07 21:00:00</td>\n",
       "    </tr>\n",
       "    <tr>\n",
       "      <th>4</th>\n",
       "      <td>999912408032000</td>\n",
       "      <td>1467916300</td>\n",
       "      <td>2016-07-07 21:31:40</td>\n",
       "      <td>2016-07-07 21:00:00</td>\n",
       "    </tr>\n",
       "  </tbody>\n",
       "</table>\n",
       "</div>"
      ],
      "text/plain": [
       "             train  time_start             dt_from               dt_3h\n",
       "0  999912408032000  1467908260 2016-07-07 19:17:40 2016-07-07 18:00:00\n",
       "1  999912408032000  1467909160 2016-07-07 19:32:40 2016-07-07 18:00:00\n",
       "2  999912408032000  1467910840 2016-07-07 20:00:40 2016-07-07 18:00:00\n",
       "3  999912408032000  1467914800 2016-07-07 21:06:40 2016-07-07 21:00:00\n",
       "4  999912408032000  1467916300 2016-07-07 21:31:40 2016-07-07 21:00:00"
      ]
     },
     "execution_count": 53,
     "metadata": {},
     "output_type": "execute_result"
    }
   ],
   "source": [
    "train_plan['dt_from'] = train_plan.time_start.apply(datetime.datetime.fromtimestamp)\n",
    "a = train_plan.set_index('dt_from').resample('3H', how={'time_start':min}).to_dict()['time_start']\n",
    "train_plan['dt_3h'] = train_plan.time_start.apply(lambda x: max([key for key, value in a.items() if value <= x]))\n",
    "train_plan[['train', 'time_start', 'dt_from', 'dt_3h']].head()"
   ]
  },
  {
   "cell_type": "markdown",
   "metadata": {},
   "source": [
    "### Подставляем в поездные планы среднее время хода из нитки"
   ]
  },
  {
   "cell_type": "code",
   "execution_count": 54,
   "metadata": {
    "collapsed": false
   },
   "outputs": [],
   "source": [
    "train_plan['link_name'] = list(zip(train_plan.st_from_name, train_plan.st_to_name))\n",
    "train_plan['dt_link_name'] = list(zip(train_plan.link_name, train_plan.dt_3h))\n",
    "df_3h['dt_link_name'] = list(zip(df_3h.link_name, df_3h.dt_from))\n",
    "train_plan['slot_tt'] = train_plan.dt_link_name.map(df_3h.set_index('dt_link_name').tt)\n",
    "train_plan.slot_tt.fillna(-1, inplace=True)"
   ]
  },
  {
   "cell_type": "markdown",
   "metadata": {},
   "source": [
    "### Считаем красивую статистику"
   ]
  },
  {
   "cell_type": "markdown",
   "metadata": {},
   "source": [
    "#### Гистограмма отклонений времен хода поездов от времен хода в нитках"
   ]
  },
  {
   "cell_type": "code",
   "execution_count": 55,
   "metadata": {
    "collapsed": false
   },
   "outputs": [
    {
     "data": {
      "image/png": "[encoded data removed]",
      "text/plain": [
       "<matplotlib.figure.Figure at 0x1bf28669dd8>"
      ]
     },
     "metadata": {},
     "output_type": "display_data"
    }
   ],
   "source": [
    "train_plan['tt'] = train_plan.time_end - train_plan.time_start\n",
    "train_plan['slot_tt'] = train_plan.slot_tt.apply(int)\n",
    "train_plan['tt_delta'] = train_plan.tt - train_plan.slot_tt\n",
    "train_plan['tt_delta_abs'] = train_plan.tt_delta.apply(abs)\n",
    "add_info(links)\n",
    "links['link_name'] = list(zip(links.st_from_name, links.st_to_name))\n",
    "train_plan['tt_link'] = train_plan.link_name.map(links.drop_duplicates('link_name').set_index('link_name').time)\n",
    "df_tt_delta = train_plan[train_plan.slot_tt != -1]\n",
    "tt_delta_mean = df_tt_delta.tt_delta.mean()\n",
    "tt_delta_std = df_tt_delta.tt_delta.std()\n",
    "main = df_tt_delta[df_tt_delta.tt_delta.apply(lambda x: np.abs(x - tt_delta_mean) < 3 * tt_delta_std)]\n",
    "\n",
    "sns.set(context='notebook', style='whitegrid', palette='dark')\n",
    "fig = plt.figure()\n",
    "ax = sns.distplot(main.tt_delta / 60, hist=False, kde_kws={'shade':True})\n",
    "title = 'Отклонение времен хода поездов от времен хода в нитках (без учета выбросов)\\nСреднее = %.2f мин.' \\\n",
    "            % (main.tt_delta.mean() / 60)\n",
    "ax.set(title=title, xlabel='Отклонение, мин.')\n",
    "filename = 'main_delta.png'\n",
    "fig.savefig(REPORT_FOLDER + filename, bbox_inches='tight')\n",
    "add_image(filename)"
   ]
  },
  {
   "cell_type": "markdown",
   "metadata": {},
   "source": [
    "#### Выбросы (большие отклонения времен хода поездов от времен хода в нитках)"
   ]
  },
  {
   "cell_type": "code",
   "execution_count": 56,
   "metadata": {
    "collapsed": false
   },
   "outputs": [
    {
     "name": "stdout",
     "output_type": "stream",
     "text": [
      "Всего 1065 случаев, когда время хода поезда существенно отличается от времени хода в нитке (выбросы).\n",
      "Частота выбросов по участку и трехчасовому интервалу:\n",
      "link_name                        dt_3h              \n",
      "(АРТЕМ-ПРИМОРСКИЙ III, ШКОТОВО)  2016-07-06 06:00:00    19\n",
      "(ГОНЧАРОВО, БОЛЬШОЙ ЛУГ)         2016-07-06 18:00:00    18\n",
      "                                 2016-07-06 12:00:00    18\n",
      "                                 2016-07-06 09:00:00    16\n",
      "(ОБЛУЧЬЕ, АРХАРА)                2016-07-05 15:00:00    16\n",
      "                                 2016-07-06 00:00:00    16\n",
      "                                 2016-07-06 06:00:00    15\n",
      "                                 2016-07-06 12:00:00    14\n",
      "(ГОНЧАРОВО, БОЛЬШОЙ ЛУГ)         2016-07-06 15:00:00    14\n",
      "                                 2016-07-05 12:00:00    14\n"
     ]
    },
    {
     "data": {
      "image/png": "[encoded data removed]",
      "text/plain": [
       "<matplotlib.figure.Figure at 0x1bf2269e780>"
      ]
     },
     "metadata": {},
     "output_type": "display_data"
    }
   ],
   "source": [
    "outliers = df_tt_delta[df_tt_delta.tt_delta.apply(lambda x: np.abs(x - tt_delta_mean) > 3 * tt_delta_std)]\n",
    "cols = ['train', 'st_from_name', 'st_to_name', 'dt_from', 'dt_3h', 'tt', 'slot_tt', 'tt_delta', 'tt_link']\n",
    "add_header('Всего %d случаев, когда время хода поезда существенно отличается от времени хода в нитке (выбросы).' \n",
    "          % outliers.train.count())\n",
    "add_header('Частота выбросов по участку и трехчасовому интервалу:')\n",
    "add_line(outliers.groupby(['link_name', 'dt_3h']).train.count().sort_values(ascending=False).head(10))\n",
    "\n",
    "fig = plt.figure()\n",
    "sns.set(context='notebook', style='whitegrid', palette='dark')\n",
    "ax = sns.distplot(outliers.tt_delta.apply(abs), hist=False, kde_kws={'shade':True})\n",
    "title = 'Отклонение времен хода поездов от времен хода в нитках в выбросах\\nСреднее по модулю = %.2f мин.' \\\n",
    "            % (outliers.tt_delta_abs.mean() / 60)\n",
    "ax.set(title=title, xlabel='Отклонение, мин.')\n",
    "filename = 'outliers_delta.png'\n",
    "fig.savefig(REPORT_FOLDER + filename, bbox_inches='tight')\n",
    "add_image(filename)"
   ]
  },
  {
   "cell_type": "markdown",
   "metadata": {},
   "source": [
    "#### Подробная статистика по участку, где больше всего выборосов"
   ]
  },
  {
   "cell_type": "code",
   "execution_count": 57,
   "metadata": {
    "collapsed": false
   },
   "outputs": [
    {
     "name": "stdout",
     "output_type": "stream",
     "text": [
      "Статистика по участку с наибольшим количеством выбросов: ГОНЧАРОВО -- БОЛЬШОЙ ЛУГ\n",
      "Статистика по ниткам:\n",
      "count     162\n",
      "mean     1140\n",
      "std         0\n",
      "min      1140\n",
      "25%      1140\n",
      "50%      1140\n",
      "75%      1140\n",
      "max      1140\n",
      "Статистика по выбросам в поездных планах:\n",
      "count     122.000000\n",
      "mean     2694.827869\n",
      "std       110.788958\n",
      "min      2508.000000\n",
      "25%      2600.000000\n",
      "50%      2690.000000\n",
      "75%      2810.000000\n",
      "max      2850.000000\n",
      "Примеры поездов с временами хода, значительно отличающимися от времен в нитках:\n",
      "           train st_from_name   st_to_name  time_start             dt_from    tt  slot_tt  tt_delta_abs  tt_link\n",
      "    200230436172    ГОНЧАРОВО  БОЛЬШОЙ ЛУГ  1467811832 2016-07-06 16:30:32  2850     1140          1710     1080\n",
      " 999912393032008    ГОНЧАРОВО  БОЛЬШОЙ ЛУГ  1467809940 2016-07-06 15:59:00  2850     1140          1710     1080\n",
      "    200230301393    ГОНЧАРОВО  БОЛЬШОЙ ЛУГ  1467811832 2016-07-06 16:30:32  2850     1140          1710     1080\n",
      "    200230330270    ГОНЧАРОВО  БОЛЬШОЙ ЛУГ  1467811832 2016-07-06 16:30:32  2850     1140          1710     1080\n",
      " 999912393012004    ГОНЧАРОВО  БОЛЬШОЙ ЛУГ  1467809340 2016-07-06 15:49:00  2850     1140          1710     1080\n",
      "    220205739244    ГОНЧАРОВО  БОЛЬШОЙ ЛУГ  1467811832 2016-07-06 16:30:32  2850     1140          1710     1080\n",
      "    200230483705    ГОНЧАРОВО  БОЛЬШОЙ ЛУГ  1467812641 2016-07-06 16:44:01  2850     1140          1710     1080\n",
      "    200230791177    ГОНЧАРОВО  БОЛЬШОЙ ЛУГ  1467723540 2016-07-05 15:59:00  2850     1140          1710     1080\n",
      "    200230254019    ГОНЧАРОВО  БОЛЬШОЙ ЛУГ  1467811832 2016-07-06 16:30:32  2850     1140          1710     1080\n",
      "    200230381861    ГОНЧАРОВО  БОЛЬШОЙ ЛУГ  1467812641 2016-07-06 16:44:01  2850     1140          1710     1080\n"
     ]
    }
   ],
   "source": [
    "cols = ['train', 'st_from_name', 'st_to_name', 'time_start', 'dt_from', 'tt', 'slot_tt', 'tt_delta_abs', 'tt_link']\n",
    "l = outliers.groupby(['link_name', 'dt_3h']).train.count().sort_values(ascending=False).reset_index().ix[1].link_name\n",
    "st_from, st_to = l[0], l[1]\n",
    "add_header('Статистика по участку с наибольшим количеством выбросов: %s -- %s' % (st_from, st_to), h=3)\n",
    "add_header('Статистика по ниткам:')\n",
    "add_line(slot[(slot.st_from_name == st_from) & (slot.st_to_name == st_to)].tt.describe())\n",
    "add_header('Статистика по выбросам в поездных планах:')\n",
    "add_line(outliers[(outliers.st_from_name == st_from) & (outliers.st_to_name == st_to)].tt.describe())\n",
    "add_header('Примеры поездов с временами хода, значительно отличающимися от времен в нитках:')\n",
    "add_line(outliers[(outliers.st_from_name == st_from) & (outliers.st_to_name == st_to)].sort_values('tt_delta_abs', ascending=False)[cols].head(10))"
   ]
  },
  {
   "cell_type": "code",
   "execution_count": 36,
   "metadata": {
    "collapsed": false
   },
   "outputs": [
    {
     "name": "stdout",
     "output_type": "stream",
     "text": [
      "Примеры самых больших (по модулю отклонения) выбросов:\n",
      "           train             st_from_name  st_to_name  time_start             dt_from     tt  slot_tt  tt_delta_abs  tt_link\n",
      "    200230875013  КОМСОМОЛЬСК-НА-АМУРЕ II      ЭВОРОН  1467713700 2016-07-05 13:15:00   7170    14820          7650     1500\n",
      " 999912456022000                ХРЕБТОВАЯ      ИГИРМА  1467815120 2016-07-06 17:25:20  13064     7260          5804     4380\n",
      " 999928902012001               РУДНОГОРСК      ИГИРМА  1467821940 2016-07-06 19:19:00   6528     1680          4848     1500\n",
      "    200230893587                БУРЯТСКАЯ  АДРИАНОВКА  1467710940 2016-07-05 12:29:00   8520     4020          4500     4560\n",
      "    200230575776                БУРЯТСКАЯ  АДРИАНОВКА  1467711030 2016-07-05 12:30:30   8520     4020          4500     4560\n",
      "    200230885779  КОМСОМОЛЬСК-НА-АМУРЕ II      ЭВОРОН  1467709980 2016-07-05 12:13:00  10519    14820          4301     1500\n",
      "  88880002224316                  НАХОДКА  ХМЫЛОВСКИЙ  1467732164 2016-07-05 18:22:44   4697      630          4067      300\n",
      "    220204040830                  НАХОДКА  ХМЫЛОВСКИЙ  1467734946 2016-07-05 19:09:06   4697      630          4067      300\n",
      "  88880013394784                  НАХОДКА  ХМЫЛОВСКИЙ  1467733335 2016-07-05 18:42:15   4697      630          4067      300\n",
      "    220205245039                  НАХОДКА  ХМЫЛОВСКИЙ  1467820747 2016-07-06 18:59:07   4697      630          4067      300\n"
     ]
    }
   ],
   "source": [
    "add_header('Примеры самых больших (по модулю отклонения) выбросов:', h=3)\n",
    "add_line(outliers.sort_values('tt_delta_abs', ascending=False)[cols].head(10))"
   ]
  },
  {
   "cell_type": "markdown",
   "metadata": {},
   "source": [
    "## Проверка входных данных"
   ]
  },
  {
   "cell_type": "markdown",
   "metadata": {},
   "source": [
    "### Участки планирования без слотов"
   ]
  },
  {
   "cell_type": "code",
   "execution_count": 37,
   "metadata": {
    "collapsed": false
   },
   "outputs": [],
   "source": [
    "slot['link_name'] = list(zip(slot.st_from_name, slot.st_to_name))\n",
    "links['link_name'] = list(zip(links.st_from_name, links.st_to_name))\n",
    "slot.dropna(subset=['st_from_name', 'st_to_name'], how='any', inplace=True)"
   ]
  },
  {
   "cell_type": "code",
   "execution_count": 38,
   "metadata": {
    "collapsed": false
   },
   "outputs": [
    {
     "name": "stdout",
     "output_type": "stream",
     "text": [
      "Всего 76 участков планирования без слотов:\n",
      "[('СОЛОВЬЕВСК', 'БОРЗЯ') ('ЕНИСЕЙ', 'ДИВНОГОРСК') ('БЛЮХЕР', 'БАМБУРОВО')\n",
      " ('БИРОФЕЛЬД', 'ЛЕНИНСК') ('ОРОСИТЕЛЬНЫЙ', 'ХОНЫХ') ('УГЛОВАЯ', 'УГОЛЬНАЯ')\n",
      " ('ХРЕБТОВАЯ', 'КОРШУНИХА-АНГАРСКАЯ')\n",
      " ('БЛОКПОСТ 1571 КМ', 'ДАЛЬНЕРЕЧЕНСК I') ('ПЕРЕВАЛ', 'КАЗАНКАН')\n",
      " (nan, 'БИРА') ('БИРОФЕЛЬД', nan) ('ПОСТ-ПОКРОВСКИЙ', 'ПОКРОВКА-ПРИСТАНЬ')\n",
      " ('КАЗАНКАН', 'ПЕРЕВАЛ') ('ОУНЭ', 'КУЗНЕЦОВСКИЙ') ('ДИВНОГОРСК', 'ЕНИСЕЙ')\n",
      " ('СКОВОРОДИНО', 'РЕЙНОВО') (nan, nan) ('КОРШУНИХА-АНГАРСКАЯ', 'ХРЕБТОВАЯ')\n",
      " ('СОЛЛУ', 'КУЗНЕЦОВСКИЙ') ('УГОЛЬНАЯ', 'УГЛОВАЯ') ('БАМБУРОВО', 'БЛЮХЕР')\n",
      " ('МАХАЛИНО', nan) ('ЭБЕРГАРД', 'ДАЛЬНЕРЕЧЕНСК II') (nan, 'БИРОФЕЛЬД')\n",
      " ('БЛОКПОСТ 197 КМ', 'ОУНЭ') ('БАЙКАЛ', 'КУЛТУК') ('ШАРЫПОВО', 'ШУШЬ')\n",
      " ('АНГАРСК', 'СУХОВСКАЯ-ЮЖНАЯ') ('ЧЕРЕМХОВО', 'МАКАРЬЕВО')\n",
      " ('ПЕРЕВАЛ', 'АНГАРАКАН') ('СОЛЛУ', 'ВЫСОКОГОРНАЯ')\n",
      " ('НАХОДКА-ВОСТОЧНАЯ', 'ХМЫЛОВСКИЙ') ('ХМЫЛОВСКИЙ', 'НАХОДКА-ВОСТОЧНАЯ')\n",
      " ('БОРЗЯ', 'СОЛОВЬЕВСК') ('ГРОДЕКОВО (КИТАЙ)', 'РАССЫПНАЯ ПАДЬ')\n",
      " ('КОРШУНИХА-АНГАРСКАЯ', 'ГИДРОСТРОИТЕЛЬ') ('МАКАРЬЕВО', 'ЧЕРЕМХОВО')\n",
      " ('АНГАРАКАН', 'ПЕРЕВАЛ') ('ЛУЧКИ', 'НОВОКАЧАЛИНСК') ('ШАРЫПОВО', 'БАЗЫР')\n",
      " ('БИРА', nan) ('ДАЛЬНЕРЕЧЕНСК II', 'БЛОКПОСТ 1571 КМ')\n",
      " ('ПЕРВАЯ РЕЧКА', 'ГАЙДАМАК') ('ЛЕНИНСК', 'БИРОФЕЛЬД')\n",
      " ('БАЗЫР', 'ШАРЫПОВО') ('ГАЙДАМАК', 'ПЕРВАЯ РЕЧКА')\n",
      " ('РЕЙНОВО', 'СКОВОРОДИНО') (nan, 'ВОЛОЧАЕВКА I') ('КРАСНОЯРСК', 'БУГАЧ')\n",
      " ('СЛЮДЯНКА II', 'КУЛТУК') ('ПОКРОВКА-ПРИСТАНЬ', 'ПОСТ-ПОКРОВСКИЙ')\n",
      " ('КУЛТУК', 'СЛЮДЯНКА II') ('ЕНИСЕЙ', 'КРАСНОЯРСК')\n",
      " ('ВЛАДИВОСТОК', 'ГАЙДАМАК') ('КРАСНОЯРСК', 'ЕНИСЕЙ') ('ЗЫКОВО', 'БАЗАИХА')\n",
      " ('ЗУЙ', 'СУХОВСКАЯ') ('ГАЙДАМАК', 'ВЛАДИВОСТОК') ('КУЗНЕЦОВСКИЙ', 'СОЛЛУ')\n",
      " ('БУГАЧ', 'КРАСНОЯРСК') ('ДАЛЬНЕРЕЧЕНСК I', 'ЭБЕРГАРД')\n",
      " ('ХОНЫХ', 'ОРОСИТЕЛЬНЫЙ') ('ЕНИСЕЙ', 'ЗЛОБИНО') ('БАЗАИХА', 'ЗЫКОВО')\n",
      " ('ЗЛОБИНО', 'ЕНИСЕЙ') ('НОВОКАЧАЛИНСК', 'ЛУЧКИ')\n",
      " ('СУХОВСКАЯ-ЮЖНАЯ', 'АНГАРСК') ('ВЫСОКОГОРНАЯ', 'БЛОКПОСТ 197 КМ')\n",
      " ('РАССЫПНАЯ ПАДЬ', 'ГРОДЕКОВО (КИТАЙ)') ('ШУШЬ', 'ШАРЫПОВО')\n",
      " ('ГИДРОСТРОИТЕЛЬ', 'КОРШУНИХА-АНГАРСКАЯ') ('КУЗНЕЦОВСКИЙ', 'ОУНЭ')\n",
      " ('ВОЛОЧАЕВКА I', nan) (nan, 'МАХАЛИНО') ('СУХОВСКАЯ', 'ЗУЙ')\n",
      " ('КУЛТУК', 'БАЙКАЛ')]\n"
     ]
    }
   ],
   "source": [
    "slot['tt'] = slot.time_end - slot.time_start\n",
    "links['slot_tt_init'] = links.link_name.map(slot.groupby('link_name').tt.mean())\n",
    "links['slot_tt'] = 60 * (links.slot_tt_init // 60)\n",
    "links[['link_name', 'time', 'slot_tt']]\n",
    "links_no_slots = links[links.slot_tt.isnull()]\n",
    "links_no_slots_names = links_no_slots.link_name.unique()\n",
    "add_header('Всего %d участков планирования без слотов:' % len(links_no_slots_names))\n",
    "add_line(links_no_slots_names)"
   ]
  },
  {
   "cell_type": "markdown",
   "metadata": {},
   "source": [
    "### Выявление участков с неправильным нормативным временем хода"
   ]
  },
  {
   "cell_type": "code",
   "execution_count": 39,
   "metadata": {
    "collapsed": false
   },
   "outputs": [
    {
     "data": {
      "text/html": [
       "<div>\n",
       "<table border=\"1\" class=\"dataframe\">\n",
       "  <thead>\n",
       "    <tr style=\"text-align: right;\">\n",
       "      <th></th>\n",
       "      <th>link_name</th>\n",
       "      <th>time</th>\n",
       "      <th>slot_tt</th>\n",
       "      <th>ratio</th>\n",
       "    </tr>\n",
       "  </thead>\n",
       "  <tbody>\n",
       "    <tr>\n",
       "      <th>251</th>\n",
       "      <td>(ЗАВИТАЯ, БЕЛОГОРСК II)</td>\n",
       "      <td>540</td>\n",
       "      <td>6840</td>\n",
       "      <td>12.666667</td>\n",
       "    </tr>\n",
       "    <tr>\n",
       "      <th>44</th>\n",
       "      <td>(БЕЛОГОРСК II, ЗАВИТАЯ)</td>\n",
       "      <td>720</td>\n",
       "      <td>7620</td>\n",
       "      <td>10.583333</td>\n",
       "    </tr>\n",
       "    <tr>\n",
       "      <th>224</th>\n",
       "      <td>(КОМСОМОЛЬСК-НА-АМУРЕ II, ЭВОРОН)</td>\n",
       "      <td>1500</td>\n",
       "      <td>14160</td>\n",
       "      <td>9.440000</td>\n",
       "    </tr>\n",
       "    <tr>\n",
       "      <th>238</th>\n",
       "      <td>(ЭВОРОН, КОМСОМОЛЬСК-НА-АМУРЕ II)</td>\n",
       "      <td>1440</td>\n",
       "      <td>13500</td>\n",
       "      <td>9.375000</td>\n",
       "    </tr>\n",
       "    <tr>\n",
       "      <th>217</th>\n",
       "      <td>(ГРОДЕКОВО II, ВОЗДВИЖЕНСКИЙ)</td>\n",
       "      <td>720</td>\n",
       "      <td>6540</td>\n",
       "      <td>9.083333</td>\n",
       "    </tr>\n",
       "  </tbody>\n",
       "</table>\n",
       "</div>"
      ],
      "text/plain": [
       "                             link_name  time  slot_tt      ratio\n",
       "251            (ЗАВИТАЯ, БЕЛОГОРСК II)   540     6840  12.666667\n",
       "44             (БЕЛОГОРСК II, ЗАВИТАЯ)   720     7620  10.583333\n",
       "224  (КОМСОМОЛЬСК-НА-АМУРЕ II, ЭВОРОН)  1500    14160   9.440000\n",
       "238  (ЭВОРОН, КОМСОМОЛЬСК-НА-АМУРЕ II)  1440    13500   9.375000\n",
       "217      (ГРОДЕКОВО II, ВОЗДВИЖЕНСКИЙ)   720     6540   9.083333"
      ]
     },
     "execution_count": 39,
     "metadata": {},
     "output_type": "execute_result"
    }
   ],
   "source": [
    "links['delta_tt_perc'] = 100 * np.abs(links.slot_tt - links.time) / links.slot_tt\n",
    "links['ratio'] = links.slot_tt / links.time\n",
    "cols = ['link_name', 'time', 'slot_tt', 'ratio']\n",
    "#links[(links.slot_tt.isnull() == False)][cols].sort_values('delta_tt_perc', ascending=False).head()\n",
    "links[(links.slot_tt.isnull() == False)][cols].sort_values('ratio', ascending=False).head()"
   ]
  },
  {
   "cell_type": "code",
   "execution_count": 40,
   "metadata": {
    "collapsed": false
   },
   "outputs": [
    {
     "name": "stdout",
     "output_type": "stream",
     "text": [
      "Всего 23 участков планирования с заниженным или завышенным временем хода относительно ниток: \n",
      "[('НАХОДКА', 'ХМЫЛОВСКИЙ') ('БЕЛОГОРСК II', 'ЗАВИТАЯ')\n",
      " ('КРУГЛИКОВО', 'ХАБАРОВСК II') ('ВОЗДВИЖЕНСКИЙ', 'ГРОДЕКОВО II')\n",
      " ('КОМСОМОЛЬСК-НА-АМУРЕ', 'КОМСОМОЛЬСК-НА-АМУРЕ II') ('БАЗАИХА', 'ЗЛОБИНО')\n",
      " ('ВОЛОЧАЕВКА II', 'ТУНГУССКИЙ') ('ГРОДЕКОВО II', 'ВОЗДВИЖЕНСКИЙ')\n",
      " ('КОМСОМОЛЬСК-НА-АМУРЕ II', 'ЭВОРОН')\n",
      " ('ЭВОРОН', 'КОМСОМОЛЬСК-НА-АМУРЕ II') ('ЗАВИТАЯ', 'БЕЛОГОРСК II')\n",
      " ('СЕЛИХИН', 'КОМСОМОЛЬСК-НА-АМУРЕ-СОРТИРОВОЧНЫЙ')\n",
      " ('КОМСОМОЛЬСК-НА-АМУРЕ-СОРТИРОВОЧНЫЙ', 'СЕЛИХИН') ('СРЕТЕНСК', 'КУЭНГА')\n",
      " ('ХОЛОДНЫЙ КЛЮЧ', 'БУРЕЯ') ('ХАБАРОВСК II', 'КРУГЛИКОВО')\n",
      " ('РАССЫПНАЯ ПАДЬ', 'ГРОДЕКОВО')\n",
      " ('КОМСОМОЛЬСК-НА-АМУРЕ II', 'КОМСОМОЛЬСК-НА-АМУРЕ')\n",
      " ('ИРКУТСК-СОРТИРОВОЧНЫЙ', 'БАТАРЕЙНАЯ') ('ЗЛОБИНО', 'БАЗАИХА')\n",
      " ('ТУНГУССКИЙ', 'ВОЛОЧАЕВКА II') ('ХМЫЛОВСКИЙ', 'НАХОДКА')\n",
      " ('ГРОДЕКОВО', 'РАССЫПНАЯ ПАДЬ')]\n",
      "Примеры завышенных нормативов:\n",
      "                                       link_name  time  slot_tt     ratio\n",
      "             (ИРКУТСК-СОРТИРОВОЧНЫЙ, БАТАРЕЙНАЯ)   720      120  0.166667\n",
      " (КОМСОМОЛЬСК-НА-АМУРЕ II, КОМСОМОЛЬСК-НА-АМУРЕ)  1500      300  0.200000\n",
      " (КОМСОМОЛЬСК-НА-АМУРЕ, КОМСОМОЛЬСК-НА-АМУРЕ II)  1440      300  0.208333\n",
      "                          (ХОЛОДНЫЙ КЛЮЧ, БУРЕЯ)  3180     6840  2.150943\n",
      "                           (НАХОДКА, ХМЫЛОВСКИЙ)   300      660  2.200000\n",
      "Примеры заниженных нормативов:\n",
      "                         link_name  time  slot_tt      ratio\n",
      "     (ГРОДЕКОВО II, ВОЗДВИЖЕНСКИЙ)   720     6540   9.083333\n",
      " (ЭВОРОН, КОМСОМОЛЬСК-НА-АМУРЕ II)  1440    13500   9.375000\n",
      " (КОМСОМОЛЬСК-НА-АМУРЕ II, ЭВОРОН)  1500    14160   9.440000\n",
      "           (БЕЛОГОРСК II, ЗАВИТАЯ)   720     7620  10.583333\n",
      "           (ЗАВИТАЯ, БЕЛОГОРСК II)   540     6840  12.666667\n",
      "Свойства распределения выбросов:\n",
      "count    23.000000\n",
      "mean      4.515970\n",
      "std       3.662032\n",
      "min       0.166667\n",
      "25%       2.242857\n",
      "50%       2.600000\n",
      "75%       7.192857\n",
      "max      12.666667\n"
     ]
    },
    {
     "data": {
      "image/png": "[encoded data removed]",
      "text/plain": [
       "<matplotlib.figure.Figure at 0x1bf21bf68d0>"
      ]
     },
     "metadata": {},
     "output_type": "display_data"
    }
   ],
   "source": [
    "rmean = links.ratio.mean()\n",
    "rstd = links.ratio.std()\n",
    "outliers = links[links.ratio.apply(lambda x: np.abs(x - rmean) > rstd)]\n",
    "add_header('Всего %d участков планирования с заниженным или завышенным временем хода относительно ниток: \\n%s' %\n",
    "          (outliers.link_name.count(), outliers.link_name.unique()))\n",
    "#sns.distplot(links.ratio, hist=False, color='b', kde_kws={'shade':True})\n",
    "add_header('Примеры завышенных нормативов:')\n",
    "add_line(outliers.sort_values('ratio')[cols].head())\n",
    "add_header('Примеры заниженных нормативов:')\n",
    "add_line(outliers.sort_values('ratio')[cols].tail())\n",
    "add_header('Свойства распределения выбросов:')\n",
    "add_line(outliers.ratio.describe())\n",
    "\n",
    "fig = plt.figure()\n",
    "sns.set(context='notebook', style='whitegrid', palette='dark')\n",
    "ax = sns.distplot(outliers.ratio, hist=False, color='r', kde_kws={'shade':True})\n",
    "title = 'Распределение отношения времен хода в нитках к нормативным временам в участках-выбросах'\n",
    "ax.set(title=title, xlabel='Относительное отклонение')\n",
    "filename = 'outliers_slot_tt_ratio.png'\n",
    "fig.savefig(REPORT_FOLDER + filename, bbox_inches='tight')\n",
    "add_image(filename)"
   ]
  },
  {
   "cell_type": "code",
   "execution_count": 41,
   "metadata": {
    "collapsed": false
   },
   "outputs": [
    {
     "name": "stdout",
     "output_type": "stream",
     "text": [
      "Отчет сформирован: report/slot_report_20160706_094817.html\n"
     ]
    }
   ],
   "source": [
    "filename = REPORT_FOLDER + 'slot_report_' + time.strftime('%Y%m%d_%H%M%S', time.localtime(time.time())) + '.html'\n",
    "create_report(filename)"
   ]
  },
  {
   "cell_type": "code",
   "execution_count": 42,
   "metadata": {
    "collapsed": false
   },
   "outputs": [
    {
     "data": {
      "text/html": [
       "<div>\n",
       "<table border=\"1\" class=\"dataframe\">\n",
       "  <thead>\n",
       "    <tr style=\"text-align: right;\">\n",
       "      <th></th>\n",
       "      <th>slot</th>\n",
       "      <th>time_start_norm</th>\n",
       "    </tr>\n",
       "  </thead>\n",
       "  <tbody>\n",
       "    <tr>\n",
       "      <th>8411</th>\n",
       "      <td>210217068954</td>\n",
       "      <td>Jul 05, 01:38</td>\n",
       "    </tr>\n",
       "    <tr>\n",
       "      <th>14423</th>\n",
       "      <td>200230040531</td>\n",
       "      <td>Jul 05, 01:53</td>\n",
       "    </tr>\n",
       "    <tr>\n",
       "      <th>8532</th>\n",
       "      <td>210217069001</td>\n",
       "      <td>Jul 05, 02:04</td>\n",
       "    </tr>\n",
       "    <tr>\n",
       "      <th>8578</th>\n",
       "      <td>210217069023</td>\n",
       "      <td>Jul 05, 02:36</td>\n",
       "    </tr>\n",
       "    <tr>\n",
       "      <th>8623</th>\n",
       "      <td>210217069053</td>\n",
       "      <td>Jul 05, 02:51</td>\n",
       "    </tr>\n",
       "    <tr>\n",
       "      <th>8742</th>\n",
       "      <td>210217069100</td>\n",
       "      <td>Jul 05, 03:06</td>\n",
       "    </tr>\n",
       "    <tr>\n",
       "      <th>9129</th>\n",
       "      <td>210217078679</td>\n",
       "      <td>Jul 05, 03:25</td>\n",
       "    </tr>\n",
       "    <tr>\n",
       "      <th>8779</th>\n",
       "      <td>210217078584</td>\n",
       "      <td>Jul 05, 03:46</td>\n",
       "    </tr>\n",
       "    <tr>\n",
       "      <th>9132</th>\n",
       "      <td>210217078687</td>\n",
       "      <td>Jul 05, 04:06</td>\n",
       "    </tr>\n",
       "    <tr>\n",
       "      <th>9337</th>\n",
       "      <td>210217078743</td>\n",
       "      <td>Jul 05, 04:21</td>\n",
       "    </tr>\n",
       "    <tr>\n",
       "      <th>14041</th>\n",
       "      <td>200230040512</td>\n",
       "      <td>Jul 05, 04:36</td>\n",
       "    </tr>\n",
       "    <tr>\n",
       "      <th>14308</th>\n",
       "      <td>200230040547</td>\n",
       "      <td>Jul 05, 04:51</td>\n",
       "    </tr>\n",
       "    <tr>\n",
       "      <th>14705</th>\n",
       "      <td>200230050417</td>\n",
       "      <td>Jul 05, 05:05</td>\n",
       "    </tr>\n",
       "    <tr>\n",
       "      <th>14928</th>\n",
       "      <td>200230050541</td>\n",
       "      <td>Jul 05, 05:25</td>\n",
       "    </tr>\n",
       "    <tr>\n",
       "      <th>15307</th>\n",
       "      <td>200230060464</td>\n",
       "      <td>Jul 05, 05:45</td>\n",
       "    </tr>\n",
       "    <tr>\n",
       "      <th>16025</th>\n",
       "      <td>200230070643</td>\n",
       "      <td>Jul 05, 06:00</td>\n",
       "    </tr>\n",
       "    <tr>\n",
       "      <th>9792</th>\n",
       "      <td>210217078963</td>\n",
       "      <td>Jul 05, 06:15</td>\n",
       "    </tr>\n",
       "    <tr>\n",
       "      <th>9917</th>\n",
       "      <td>210217079004</td>\n",
       "      <td>Jul 05, 06:32</td>\n",
       "    </tr>\n",
       "    <tr>\n",
       "      <th>9987</th>\n",
       "      <td>210217079029</td>\n",
       "      <td>Jul 05, 06:48</td>\n",
       "    </tr>\n",
       "    <tr>\n",
       "      <th>10012</th>\n",
       "      <td>210217079059</td>\n",
       "      <td>Jul 05, 07:10</td>\n",
       "    </tr>\n",
       "    <tr>\n",
       "      <th>10411</th>\n",
       "      <td>210217079176</td>\n",
       "      <td>Jul 05, 07:30</td>\n",
       "    </tr>\n",
       "    <tr>\n",
       "      <th>10145</th>\n",
       "      <td>210217079117</td>\n",
       "      <td>Jul 05, 07:45</td>\n",
       "    </tr>\n",
       "    <tr>\n",
       "      <th>10444</th>\n",
       "      <td>210217079191</td>\n",
       "      <td>Jul 05, 08:00</td>\n",
       "    </tr>\n",
       "    <tr>\n",
       "      <th>11186</th>\n",
       "      <td>210217079321</td>\n",
       "      <td>Jul 05, 08:22</td>\n",
       "    </tr>\n",
       "    <tr>\n",
       "      <th>11035</th>\n",
       "      <td>210217079298</td>\n",
       "      <td>Jul 05, 08:37</td>\n",
       "    </tr>\n",
       "    <tr>\n",
       "      <th>...</th>\n",
       "      <td>...</td>\n",
       "      <td>...</td>\n",
       "    </tr>\n",
       "    <tr>\n",
       "      <th>40444</th>\n",
       "      <td>200230684992</td>\n",
       "      <td>Jul 06, 14:51</td>\n",
       "    </tr>\n",
       "    <tr>\n",
       "      <th>40315</th>\n",
       "      <td>200230684976</td>\n",
       "      <td>Jul 06, 15:28</td>\n",
       "    </tr>\n",
       "    <tr>\n",
       "      <th>40636</th>\n",
       "      <td>200230685019</td>\n",
       "      <td>Jul 06, 15:45</td>\n",
       "    </tr>\n",
       "    <tr>\n",
       "      <th>40802</th>\n",
       "      <td>200230685044</td>\n",
       "      <td>Jul 06, 16:21</td>\n",
       "    </tr>\n",
       "    <tr>\n",
       "      <th>41497</th>\n",
       "      <td>200230685147</td>\n",
       "      <td>Jul 06, 16:36</td>\n",
       "    </tr>\n",
       "    <tr>\n",
       "      <th>41143</th>\n",
       "      <td>200230685091</td>\n",
       "      <td>Jul 06, 16:47</td>\n",
       "    </tr>\n",
       "    <tr>\n",
       "      <th>41683</th>\n",
       "      <td>200230685179</td>\n",
       "      <td>Jul 06, 17:06</td>\n",
       "    </tr>\n",
       "    <tr>\n",
       "      <th>41837</th>\n",
       "      <td>200230685198</td>\n",
       "      <td>Jul 06, 17:21</td>\n",
       "    </tr>\n",
       "    <tr>\n",
       "      <th>42590</th>\n",
       "      <td>200230694884</td>\n",
       "      <td>Jul 06, 17:36</td>\n",
       "    </tr>\n",
       "    <tr>\n",
       "      <th>42571</th>\n",
       "      <td>200230694882</td>\n",
       "      <td>Jul 06, 17:51</td>\n",
       "    </tr>\n",
       "    <tr>\n",
       "      <th>42720</th>\n",
       "      <td>200230694900</td>\n",
       "      <td>Jul 06, 18:06</td>\n",
       "    </tr>\n",
       "    <tr>\n",
       "      <th>43414</th>\n",
       "      <td>200230695000</td>\n",
       "      <td>Jul 06, 18:17</td>\n",
       "    </tr>\n",
       "    <tr>\n",
       "      <th>42871</th>\n",
       "      <td>200230694921</td>\n",
       "      <td>Jul 06, 18:33</td>\n",
       "    </tr>\n",
       "    <tr>\n",
       "      <th>42992</th>\n",
       "      <td>200230694945</td>\n",
       "      <td>Jul 06, 18:52</td>\n",
       "    </tr>\n",
       "    <tr>\n",
       "      <th>43176</th>\n",
       "      <td>200230694970</td>\n",
       "      <td>Jul 06, 19:07</td>\n",
       "    </tr>\n",
       "    <tr>\n",
       "      <th>43335</th>\n",
       "      <td>200230694992</td>\n",
       "      <td>Jul 06, 19:22</td>\n",
       "    </tr>\n",
       "    <tr>\n",
       "      <th>43530</th>\n",
       "      <td>200230695020</td>\n",
       "      <td>Jul 06, 19:37</td>\n",
       "    </tr>\n",
       "    <tr>\n",
       "      <th>43666</th>\n",
       "      <td>200230695043</td>\n",
       "      <td>Jul 06, 19:52</td>\n",
       "    </tr>\n",
       "    <tr>\n",
       "      <th>43811</th>\n",
       "      <td>200230695075</td>\n",
       "      <td>Jul 06, 20:07</td>\n",
       "    </tr>\n",
       "    <tr>\n",
       "      <th>44570</th>\n",
       "      <td>200230695194</td>\n",
       "      <td>Jul 06, 20:25</td>\n",
       "    </tr>\n",
       "    <tr>\n",
       "      <th>44702</th>\n",
       "      <td>200230695221</td>\n",
       "      <td>Jul 06, 20:46</td>\n",
       "    </tr>\n",
       "    <tr>\n",
       "      <th>41031</th>\n",
       "      <td>200230625051</td>\n",
       "      <td>Jul 06, 20:51</td>\n",
       "    </tr>\n",
       "    <tr>\n",
       "      <th>45143</th>\n",
       "      <td>200230695301</td>\n",
       "      <td>Jul 06, 21:10</td>\n",
       "    </tr>\n",
       "    <tr>\n",
       "      <th>45269</th>\n",
       "      <td>200230695321</td>\n",
       "      <td>Jul 06, 21:25</td>\n",
       "    </tr>\n",
       "    <tr>\n",
       "      <th>45369</th>\n",
       "      <td>200230695340</td>\n",
       "      <td>Jul 06, 21:40</td>\n",
       "    </tr>\n",
       "  </tbody>\n",
       "</table>\n",
       "<p>149 rows × 2 columns</p>\n",
       "</div>"
      ],
      "text/plain": [
       "               slot time_start_norm\n",
       "8411   210217068954   Jul 05, 01:38\n",
       "14423  200230040531   Jul 05, 01:53\n",
       "8532   210217069001   Jul 05, 02:04\n",
       "8578   210217069023   Jul 05, 02:36\n",
       "8623   210217069053   Jul 05, 02:51\n",
       "8742   210217069100   Jul 05, 03:06\n",
       "9129   210217078679   Jul 05, 03:25\n",
       "8779   210217078584   Jul 05, 03:46\n",
       "9132   210217078687   Jul 05, 04:06\n",
       "9337   210217078743   Jul 05, 04:21\n",
       "14041  200230040512   Jul 05, 04:36\n",
       "14308  200230040547   Jul 05, 04:51\n",
       "14705  200230050417   Jul 05, 05:05\n",
       "14928  200230050541   Jul 05, 05:25\n",
       "15307  200230060464   Jul 05, 05:45\n",
       "16025  200230070643   Jul 05, 06:00\n",
       "9792   210217078963   Jul 05, 06:15\n",
       "9917   210217079004   Jul 05, 06:32\n",
       "9987   210217079029   Jul 05, 06:48\n",
       "10012  210217079059   Jul 05, 07:10\n",
       "10411  210217079176   Jul 05, 07:30\n",
       "10145  210217079117   Jul 05, 07:45\n",
       "10444  210217079191   Jul 05, 08:00\n",
       "11186  210217079321   Jul 05, 08:22\n",
       "11035  210217079298   Jul 05, 08:37\n",
       "...             ...             ...\n",
       "40444  200230684992   Jul 06, 14:51\n",
       "40315  200230684976   Jul 06, 15:28\n",
       "40636  200230685019   Jul 06, 15:45\n",
       "40802  200230685044   Jul 06, 16:21\n",
       "41497  200230685147   Jul 06, 16:36\n",
       "41143  200230685091   Jul 06, 16:47\n",
       "41683  200230685179   Jul 06, 17:06\n",
       "41837  200230685198   Jul 06, 17:21\n",
       "42590  200230694884   Jul 06, 17:36\n",
       "42571  200230694882   Jul 06, 17:51\n",
       "42720  200230694900   Jul 06, 18:06\n",
       "43414  200230695000   Jul 06, 18:17\n",
       "42871  200230694921   Jul 06, 18:33\n",
       "42992  200230694945   Jul 06, 18:52\n",
       "43176  200230694970   Jul 06, 19:07\n",
       "43335  200230694992   Jul 06, 19:22\n",
       "43530  200230695020   Jul 06, 19:37\n",
       "43666  200230695043   Jul 06, 19:52\n",
       "43811  200230695075   Jul 06, 20:07\n",
       "44570  200230695194   Jul 06, 20:25\n",
       "44702  200230695221   Jul 06, 20:46\n",
       "41031  200230625051   Jul 06, 20:51\n",
       "45143  200230695301   Jul 06, 21:10\n",
       "45269  200230695321   Jul 06, 21:25\n",
       "45369  200230695340   Jul 06, 21:40\n",
       "\n",
       "[149 rows x 2 columns]"
      ]
     },
     "execution_count": 42,
     "metadata": {},
     "output_type": "execute_result"
    }
   ],
   "source": [
    "slot[(slot.st_from_name == 'ЗАВИТАЯ') & (slot.st_to_name == 'БЕЛОГОРСК II')].sort_values('time_start')[['slot', 'time_start_norm']]"
   ]
  }
 ],
 "metadata": {
  "kernelspec": {
   "display_name": "Python 3",
   "language": "python",
   "name": "python3"
  },
  "language_info": {
   "codemirror_mode": {
    "name": "ipython",
    "version": 3
   },
   "file_extension": ".py",
   "mimetype": "text/x-python",
   "name": "python",
   "nbconvert_exporter": "python",
   "pygments_lexer": "ipython3",
   "version": "3.5.1"
  }
 },
 "nbformat": 4,
 "nbformat_minor": 0
}
