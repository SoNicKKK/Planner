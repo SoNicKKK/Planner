{
 "cells": [
  {
   "cell_type": "code",
   "execution_count": 1,
   "metadata": {
    "collapsed": true
   },
   "outputs": [],
   "source": [
    "report = ''\n",
    "FOLDER = 'resources/'\n",
    "REPORT_FOLDER = 'report/'\n",
    "PRINT = True"
   ]
  },
  {
   "cell_type": "code",
   "execution_count": 2,
   "metadata": {
    "collapsed": false
   },
   "outputs": [],
   "source": [
    "def add_line(line, p=PRINT):    \n",
    "    global report        \n",
    "    if p:                \n",
    "        if type(line) == pd.core.frame.DataFrame:\n",
    "            print(line.to_string(index=False))\n",
    "        elif type(line) == pd.core.series.Series:\n",
    "            print(line.to_string())\n",
    "        else:\n",
    "            print(line)\n",
    "    if type(line) == pd.core.frame.DataFrame:        \n",
    "        report += ('%s<br>' % line.to_html(index=False))\n",
    "    elif type(line) == pd.core.series.Series:\n",
    "        report += ('%s<br>' % line.to_frame().reset_index().to_html(index=False))\n",
    "    else:                \n",
    "        report += ('%s<br>' % line)\n",
    "    \n",
    "def add_header(header, h=4, p=PRINT):\n",
    "    global report\n",
    "    report += ('<h%d>%s</h%d>' % (h, header, h))\n",
    "    if p:\n",
    "        print(header)\n",
    "\n",
    "def add_image(filename):\n",
    "    global report\n",
    "    report += ('<img src=\"%s\" alt=\"%s\" height=\"40%%\">' % (filename, filename))\n",
    "\n",
    "def create_report(filename):\n",
    "    global report\n",
    "    report = report.replace('<table border=\"1\" class=\"dataframe\">','<table class=\"table table-striped\">')\n",
    "    html_string = '''\n",
    "        <html>\n",
    "            <head>\n",
    "                <link rel=\"stylesheet\" href=\"skeleton.css\">\n",
    "                <style>body{ margin:20 20; background:whitesmoke; }\n",
    "                table {table-layout : fixed}\n",
    "                </style>\n",
    "            </head>\n",
    "            <body>                \n",
    "                %s\n",
    "            </body>\n",
    "        </html>''' % (report)\n",
    "    f = open(filename,'w', encoding='utf-8-sig')\n",
    "    f.write(html_string)\n",
    "    f.close()\n",
    "    print('Отчет сформирован: %s' % filename)"
   ]
  },
  {
   "cell_type": "code",
   "execution_count": 3,
   "metadata": {
    "collapsed": false
   },
   "outputs": [
    {
     "name": "stdout",
     "output_type": "stream",
     "text": [
      "Время составления отчета: Jul 20, 12:59\n",
      "Время запуска планировщика: Jul 15, 14:41 (1468582897)\n"
     ]
    }
   ],
   "source": [
    "FOLDER = 'resources/'\n",
    "\n",
    "import numpy as np\n",
    "import pandas as pd\n",
    "import time, datetime\n",
    "from ast import literal_eval\n",
    "import matplotlib.pyplot as plt\n",
    "import seaborn as sns\n",
    "\n",
    "%matplotlib inline\n",
    "plt.style.use('fivethirtyeight')\n",
    "plt.rc('font', family='Times New Roman')\n",
    "\n",
    "pd.set_option('max_rows', 50)\n",
    "\n",
    "time_format = '%b %d, %H:%M'\n",
    "\n",
    "start_time = time.time()\n",
    "current_time = pd.read_csv(FOLDER + 'current_time.csv').current_time[0]\n",
    "twr          = pd.read_csv(FOLDER + 'team_work_region.csv', converters={'twr':str})\n",
    "links        = pd.read_csv(FOLDER + 'link.csv', dtype={'st_from':str, 'st_to':str})\n",
    "stations     = pd.read_csv(FOLDER + 'station.csv', converters={'station':str})\n",
    "train_info   = pd.read_csv(FOLDER + 'train_info.csv', converters={'train': str, 'st_from':str, 'st_to':str, 'oper_location':str,\n",
    "                                                                 'st_from':str, 'st_to':str})\n",
    "train_plan   = pd.read_csv(FOLDER + 'slot_train.csv', converters={'train': str, 'st_from':str, 'st_to':str})\n",
    "loco_info    = pd.read_csv(FOLDER + 'loco_attributes.csv', converters={'train':str, 'loco':str, 'depot':str,\n",
    "                                                                      'st_from':str, 'st_to':str})\n",
    "loco_plan    = pd.read_csv(FOLDER + 'slot_loco.csv', converters={'train':str, 'loco':str, 'st_from':str, 'st_to':str})\n",
    "team_info    = pd.read_csv(FOLDER + 'team_attributes.csv', converters={'team':str,'depot':str, 'oper_location':str, \\\n",
    "                                                                 'st_from':str, 'st_to':str, 'loco':str, 'depot_st':str})\n",
    "team_plan    = pd.read_csv(FOLDER + 'slot_team.csv', converters={'team':str,'loco':str, 'st_from':str, 'st_to':str})\n",
    "loco_series  = pd.read_csv(FOLDER + 'loco_series.csv')\n",
    "\n",
    "team_info.regions = team_info.regions.apply(literal_eval)\n",
    "st_names = stations[['station', 'name', 'esr']].drop_duplicates().set_index('station')\n",
    "print('Время составления отчета:', time.strftime(time_format, time.localtime()))\n",
    "print('Время запуска планировщика: %s (%d)' % (time.strftime(time_format, time.localtime(current_time)), current_time))"
   ]
  },
  {
   "cell_type": "code",
   "execution_count": 4,
   "metadata": {
    "collapsed": true
   },
   "outputs": [],
   "source": [
    "# Мержим таблицы _plan и _info для поездов, локомотивов и бригад\n",
    "# Добавляем во все таблицы названия станций на маршруте и времена отправления/прибытия в читабельном формате\n",
    "\n",
    "def add_info(df):    \n",
    "    if 'st_from' in df.columns:\n",
    "        df['st_from_name'] = df.st_from.map(st_names.name)\n",
    "    if 'st_to' in df.columns:\n",
    "        df['st_to_name'] = df.st_to.map(st_names.name)\n",
    "    if 'time_start' in df.columns:\n",
    "        df['time_start_norm'] = df.time_start.apply(lambda x: time.strftime(time_format, time.localtime(x)))\n",
    "    if 'time_end' in df.columns:\n",
    "        df['time_end_norm'] = df.time_end.apply(lambda x: time.strftime(time_format, time.localtime(x)))\n",
    "    if 'oper_location' in df.columns:\n",
    "        df['oper_location_name'] = df.oper_location.map(st_names.name)    \n",
    "        df.oper_location_name.fillna(0, inplace=True)\n",
    "    if ('oper_location' in df.columns) & ('st_from' in df.columns) & ('st_to' in df.columns):        \n",
    "        df['loc_name'] = df.oper_location_name\n",
    "        df.loc[df.loc_name == 0, 'loc_name'] = df.st_from_name + ' - ' + df.st_to_name\n",
    "    \n",
    "add_info(train_plan)\n",
    "add_info(loco_plan)\n",
    "add_info(team_plan)\n",
    "add_info(loco_info)\n",
    "add_info(team_info)\n",
    "add_info(train_info)\n",
    "train_plan = train_plan.merge(train_info, on='train', suffixes=('', '_info'), how='left')\n",
    "loco_plan = loco_plan.merge(loco_info, on='loco', suffixes=('', '_info'), how='left')\n",
    "team_plan = team_plan.merge(team_info, on='team', suffixes=('', '_info'), how='left')\n",
    "team_plan['team_type'] = team_plan.team.apply(lambda x: 'Реальная' if str(x)[0] == '2' else 'Фейковая')"
   ]
  },
  {
   "cell_type": "code",
   "execution_count": 5,
   "metadata": {
    "collapsed": true
   },
   "outputs": [],
   "source": [
    "def nice_time(t):\n",
    "    return time.strftime(time_format, time.localtime(t)) if t > 0 else ''"
   ]
  },
  {
   "cell_type": "code",
   "execution_count": 6,
   "metadata": {
    "collapsed": true
   },
   "outputs": [],
   "source": [
    "add_header('Анализ расхождений времен хода поездов и времен хода в нитках', h=2, p=False)"
   ]
  },
  {
   "cell_type": "markdown",
   "metadata": {},
   "source": [
    "### Загружаем нитки, преобразуем все времена в datetime"
   ]
  },
  {
   "cell_type": "code",
   "execution_count": 7,
   "metadata": {
    "collapsed": false
   },
   "outputs": [],
   "source": [
    "slot = pd.read_csv(FOLDER + 'slot.csv', dtype={'st_from':str, 'st_to':str})\n",
    "add_info(slot)\n",
    "slot['tt'] = slot.time_end - slot.time_start\n",
    "slot['link_name'] = list(zip(slot.st_from_name, slot.st_to_name))\n",
    "slot['dt_from'] = slot.time_start.apply(lambda x: datetime.datetime.fromtimestamp(x))\n",
    "slot['dt_to'] = slot.time_end.apply(lambda x: datetime.datetime.fromtimestamp(x))"
   ]
  },
  {
   "cell_type": "code",
   "execution_count": 8,
   "metadata": {
    "collapsed": false
   },
   "outputs": [
    {
     "data": {
      "text/html": [
       "<div>\n",
       "<table border=\"1\" class=\"dataframe\">\n",
       "  <thead>\n",
       "    <tr style=\"text-align: right;\">\n",
       "      <th></th>\n",
       "      <th>station</th>\n",
       "      <th>loco_region</th>\n",
       "      <th>norm_time</th>\n",
       "      <th>name</th>\n",
       "      <th>esr</th>\n",
       "      <th>comment</th>\n",
       "      <th>message</th>\n",
       "    </tr>\n",
       "  </thead>\n",
       "  <tbody>\n",
       "    <tr>\n",
       "      <th>0</th>\n",
       "      <td>2000039908</td>\n",
       "      <td>2002119301</td>\n",
       "      <td>2376</td>\n",
       "      <td>МЕЖДУРЕЧЕНСК</td>\n",
       "      <td>86490</td>\n",
       "      <td>NaN</td>\n",
       "      <td>+priority_team_change_station(id(2000039908))</td>\n",
       "    </tr>\n",
       "    <tr>\n",
       "      <th>1</th>\n",
       "      <td>2000035110</td>\n",
       "      <td>2002119286</td>\n",
       "      <td>1152</td>\n",
       "      <td>АЧИНСК I</td>\n",
       "      <td>88000</td>\n",
       "      <td>NaN</td>\n",
       "      <td>+priority_team_change_station(id(2000035110))</td>\n",
       "    </tr>\n",
       "    <tr>\n",
       "      <th>2</th>\n",
       "      <td>2000035130</td>\n",
       "      <td>2002119322</td>\n",
       "      <td>3600</td>\n",
       "      <td>МАРИИНСК</td>\n",
       "      <td>88010</td>\n",
       "      <td>NaN</td>\n",
       "      <td>+priority_team_change_station(id(2000035130))</td>\n",
       "    </tr>\n",
       "    <tr>\n",
       "      <th>3</th>\n",
       "      <td>2000035162</td>\n",
       "      <td>2002119322</td>\n",
       "      <td>5940</td>\n",
       "      <td>БОГОТОЛ</td>\n",
       "      <td>88080</td>\n",
       "      <td>NaN</td>\n",
       "      <td>+priority_team_change_station(id(2000035162))</td>\n",
       "    </tr>\n",
       "    <tr>\n",
       "      <th>4</th>\n",
       "      <td>2000035566</td>\n",
       "      <td>2002119301</td>\n",
       "      <td>7200</td>\n",
       "      <td>АБАКАН</td>\n",
       "      <td>88800</td>\n",
       "      <td>NaN</td>\n",
       "      <td>+priority_team_change_station(id(2000035566))</td>\n",
       "    </tr>\n",
       "  </tbody>\n",
       "</table>\n",
       "</div>"
      ],
      "text/plain": [
       "      station  loco_region  norm_time          name    esr comment  \\\n",
       "0  2000039908   2002119301       2376  МЕЖДУРЕЧЕНСК  86490     NaN   \n",
       "1  2000035110   2002119286       1152      АЧИНСК I  88000     NaN   \n",
       "2  2000035130   2002119322       3600      МАРИИНСК  88010     NaN   \n",
       "3  2000035162   2002119322       5940       БОГОТОЛ  88080     NaN   \n",
       "4  2000035566   2002119301       7200        АБАКАН  88800     NaN   \n",
       "\n",
       "                                         message  \n",
       "0  +priority_team_change_station(id(2000039908))  \n",
       "1  +priority_team_change_station(id(2000035110))  \n",
       "2  +priority_team_change_station(id(2000035130))  \n",
       "3  +priority_team_change_station(id(2000035162))  \n",
       "4  +priority_team_change_station(id(2000035566))  "
      ]
     },
     "execution_count": 8,
     "metadata": {},
     "output_type": "execute_result"
    }
   ],
   "source": [
    "pr_st = pd.read_csv(FOLDER + 'mandatory/priority_team_change_stations.csv', sep=';', dtype={'station':str})\n",
    "pr_st.head()"
   ]
  },
  {
   "cell_type": "markdown",
   "metadata": {},
   "source": [
    "#### Если в нитке предусмотрена стоянка на маленькой станции (для разъезда), прибавляем ее к времени хода"
   ]
  },
  {
   "cell_type": "code",
   "execution_count": 9,
   "metadata": {
    "collapsed": false
   },
   "outputs": [
    {
     "data": {
      "text/html": [
       "<div>\n",
       "<table border=\"1\" class=\"dataframe\">\n",
       "  <thead>\n",
       "    <tr style=\"text-align: right;\">\n",
       "      <th></th>\n",
       "      <th>slot</th>\n",
       "      <th>st_to_name</th>\n",
       "      <th>time_start</th>\n",
       "      <th>time_end</th>\n",
       "      <th>next_time_start</th>\n",
       "      <th>slot_end</th>\n",
       "      <th>stop_time</th>\n",
       "      <th>is_big</th>\n",
       "      <th>tt</th>\n",
       "      <th>tt_stops</th>\n",
       "    </tr>\n",
       "  </thead>\n",
       "  <tbody>\n",
       "    <tr>\n",
       "      <th>0</th>\n",
       "      <td>200021185462</td>\n",
       "      <td>БАЛБУХТА</td>\n",
       "      <td>1468544700</td>\n",
       "      <td>1468546020</td>\n",
       "      <td>1468546020</td>\n",
       "      <td>False</td>\n",
       "      <td>0</td>\n",
       "      <td>False</td>\n",
       "      <td>1320</td>\n",
       "      <td>1320</td>\n",
       "    </tr>\n",
       "    <tr>\n",
       "      <th>1</th>\n",
       "      <td>200021185462</td>\n",
       "      <td>КУАНДА</td>\n",
       "      <td>1468546020</td>\n",
       "      <td>1468548180</td>\n",
       "      <td>1468548180</td>\n",
       "      <td>False</td>\n",
       "      <td>0</td>\n",
       "      <td>False</td>\n",
       "      <td>2160</td>\n",
       "      <td>2160</td>\n",
       "    </tr>\n",
       "    <tr>\n",
       "      <th>2</th>\n",
       "      <td>200021185462</td>\n",
       "      <td>ТАКСИМО</td>\n",
       "      <td>1468548180</td>\n",
       "      <td>1468555080</td>\n",
       "      <td>1468555800</td>\n",
       "      <td>True</td>\n",
       "      <td>0</td>\n",
       "      <td>True</td>\n",
       "      <td>6900</td>\n",
       "      <td>6900</td>\n",
       "    </tr>\n",
       "  </tbody>\n",
       "</table>\n",
       "</div>"
      ],
      "text/plain": [
       "           slot st_to_name  time_start    time_end  next_time_start slot_end  \\\n",
       "0  200021185462   БАЛБУХТА  1468544700  1468546020       1468546020    False   \n",
       "1  200021185462     КУАНДА  1468546020  1468548180       1468548180    False   \n",
       "2  200021185462    ТАКСИМО  1468548180  1468555080       1468555800     True   \n",
       "\n",
       "   stop_time is_big    tt  tt_stops  \n",
       "0          0  False  1320      1320  \n",
       "1          0  False  2160      2160  \n",
       "2          0   True  6900      6900  "
      ]
     },
     "execution_count": 9,
     "metadata": {},
     "output_type": "execute_result"
    }
   ],
   "source": [
    "slot['next_time_start'] = slot.time_start.shift(-1)\n",
    "slot['slot_end'] = slot.slot != slot.slot.shift(-1)\n",
    "slot['stop_time'] = slot.next_time_start - slot.time_end\n",
    "slot['is_big'] = slot.st_to.isin(pr_st.station)\n",
    "slot.loc[(slot.slot_end == True) | (slot.is_big == True), 'stop_time'] = 0\n",
    "slot['tt_stops'] = slot.tt + slot.stop_time\n",
    "cols = ['slot', 'st_to_name', 'time_start', 'time_end', 'next_time_start', 'slot_end', 'stop_time', 'is_big', 'tt', 'tt_stops']\n",
    "slot[slot.slot == slot.slot.unique()[0]][cols]"
   ]
  },
  {
   "cell_type": "markdown",
   "metadata": {},
   "source": [
    "#### Анализируем времена таких стоянок на мелких станциях (возможно, ошибки в нитках?)"
   ]
  },
  {
   "cell_type": "code",
   "execution_count": 10,
   "metadata": {
    "collapsed": false
   },
   "outputs": [
    {
     "name": "stdout",
     "output_type": "stream",
     "text": [
      "Mean stop time = 1405.95 +/- 1534.13 s.\n"
     ]
    },
    {
     "data": {
      "text/html": [
       "<div>\n",
       "<table border=\"1\" class=\"dataframe\">\n",
       "  <thead>\n",
       "    <tr style=\"text-align: right;\">\n",
       "      <th></th>\n",
       "      <th>slot</th>\n",
       "      <th>st_to_name</th>\n",
       "      <th>time_start</th>\n",
       "      <th>time_end</th>\n",
       "      <th>next_time_start</th>\n",
       "      <th>slot_end</th>\n",
       "      <th>stop_time</th>\n",
       "      <th>is_big</th>\n",
       "      <th>tt</th>\n",
       "      <th>tt_stops</th>\n",
       "    </tr>\n",
       "  </thead>\n",
       "  <tbody>\n",
       "    <tr>\n",
       "      <th>34697</th>\n",
       "      <td>200021284997</td>\n",
       "      <td>СЕЛЬГОН</td>\n",
       "      <td>1468611480</td>\n",
       "      <td>1468621140</td>\n",
       "      <td>1468636680</td>\n",
       "      <td>False</td>\n",
       "      <td>15540</td>\n",
       "      <td>False</td>\n",
       "      <td>9660</td>\n",
       "      <td>25200</td>\n",
       "    </tr>\n",
       "    <tr>\n",
       "      <th>27397</th>\n",
       "      <td>200021265240</td>\n",
       "      <td>МОГЗОН</td>\n",
       "      <td>1468619640</td>\n",
       "      <td>1468627920</td>\n",
       "      <td>1468640820</td>\n",
       "      <td>False</td>\n",
       "      <td>12900</td>\n",
       "      <td>False</td>\n",
       "      <td>8280</td>\n",
       "      <td>21180</td>\n",
       "    </tr>\n",
       "    <tr>\n",
       "      <th>35613</th>\n",
       "      <td>200021285130</td>\n",
       "      <td>СЕЛЬГОН</td>\n",
       "      <td>1468613880</td>\n",
       "      <td>1468628760</td>\n",
       "      <td>1468641300</td>\n",
       "      <td>False</td>\n",
       "      <td>12540</td>\n",
       "      <td>False</td>\n",
       "      <td>14880</td>\n",
       "      <td>27420</td>\n",
       "    </tr>\n",
       "    <tr>\n",
       "      <th>33178</th>\n",
       "      <td>200021275540</td>\n",
       "      <td>СЕЛЬГОН</td>\n",
       "      <td>1468602780</td>\n",
       "      <td>1468617780</td>\n",
       "      <td>1468630200</td>\n",
       "      <td>False</td>\n",
       "      <td>12420</td>\n",
       "      <td>False</td>\n",
       "      <td>15000</td>\n",
       "      <td>27420</td>\n",
       "    </tr>\n",
       "    <tr>\n",
       "      <th>33618</th>\n",
       "      <td>200021185297</td>\n",
       "      <td>БЕРКАКИТ</td>\n",
       "      <td>1468605840</td>\n",
       "      <td>1468606920</td>\n",
       "      <td>1468618020</td>\n",
       "      <td>False</td>\n",
       "      <td>11100</td>\n",
       "      <td>False</td>\n",
       "      <td>1080</td>\n",
       "      <td>12180</td>\n",
       "    </tr>\n",
       "  </tbody>\n",
       "</table>\n",
       "</div>"
      ],
      "text/plain": [
       "               slot st_to_name  time_start    time_end  next_time_start  \\\n",
       "34697  200021284997    СЕЛЬГОН  1468611480  1468621140       1468636680   \n",
       "27397  200021265240     МОГЗОН  1468619640  1468627920       1468640820   \n",
       "35613  200021285130    СЕЛЬГОН  1468613880  1468628760       1468641300   \n",
       "33178  200021275540    СЕЛЬГОН  1468602780  1468617780       1468630200   \n",
       "33618  200021185297   БЕРКАКИТ  1468605840  1468606920       1468618020   \n",
       "\n",
       "      slot_end  stop_time is_big     tt  tt_stops  \n",
       "34697    False      15540  False   9660     25200  \n",
       "27397    False      12900  False   8280     21180  \n",
       "35613    False      12540  False  14880     27420  \n",
       "33178    False      12420  False  15000     27420  \n",
       "33618    False      11100  False   1080     12180  "
      ]
     },
     "execution_count": 10,
     "metadata": {},
     "output_type": "execute_result"
    }
   ],
   "source": [
    "#sns.set(style='whitegrid', context='notebook')\n",
    "#sns.set_color_codes('dark')\n",
    "#sns.kdeplot(slot[slot.stop_time > 0].stop_time / 3600, shade=True)\n",
    "m = slot[slot.stop_time > 0].stop_time.mean()\n",
    "s = slot[slot.stop_time > 0].stop_time.std()\n",
    "print('Mean stop time = %.2f +/- %.2f s.' % (m, s))\n",
    "slot[slot.stop_time > m + s][cols].sort_values('stop_time', ascending=False).head()"
   ]
  },
  {
   "cell_type": "code",
   "execution_count": 11,
   "metadata": {
    "collapsed": false
   },
   "outputs": [
    {
     "data": {
      "text/html": [
       "<div>\n",
       "<table border=\"1\" class=\"dataframe\">\n",
       "  <thead>\n",
       "    <tr style=\"text-align: right;\">\n",
       "      <th></th>\n",
       "      <th>slot</th>\n",
       "      <th>st_from_name</th>\n",
       "      <th>st_to_name</th>\n",
       "      <th>time_start_norm</th>\n",
       "      <th>time_end_norm</th>\n",
       "      <th>tt</th>\n",
       "      <th>stop_time</th>\n",
       "      <th>tt_stops</th>\n",
       "    </tr>\n",
       "  </thead>\n",
       "  <tbody>\n",
       "  </tbody>\n",
       "</table>\n",
       "</div>"
      ],
      "text/plain": [
       "Empty DataFrame\n",
       "Columns: [slot, st_from_name, st_to_name, time_start_norm, time_end_norm, tt, stop_time, tt_stops]\n",
       "Index: []"
      ]
     },
     "execution_count": 11,
     "metadata": {},
     "output_type": "execute_result"
    }
   ],
   "source": [
    "cols = ['slot', 'st_from_name', 'st_to_name', 'time_start_norm', 'time_end_norm', 'tt', 'stop_time', 'tt_stops']\n",
    "big_stops = slot[slot.stop_time > m + s].sort_values('stop_time', ascending=False)\n",
    "slot[slot.slot == big_stops.slot.unique()[0]][cols]\n",
    "slot[slot.slot == 200230423676][cols]"
   ]
  },
  {
   "cell_type": "markdown",
   "metadata": {},
   "source": [
    "### Для каждой нитки делаем resample до трехчасового интервала и ищем среднее время хода"
   ]
  },
  {
   "cell_type": "markdown",
   "metadata": {},
   "source": [
    "#### TO DO: Подумать, как переписать: работает очень долго"
   ]
  },
  {
   "cell_type": "code",
   "execution_count": 12,
   "metadata": {
    "collapsed": false
   },
   "outputs": [
    {
     "data": {
      "text/html": [
       "<div>\n",
       "<table border=\"1\" class=\"dataframe\">\n",
       "  <thead>\n",
       "    <tr style=\"text-align: right;\">\n",
       "      <th></th>\n",
       "      <th>link_name</th>\n",
       "      <th>dt_from</th>\n",
       "      <th>tt</th>\n",
       "    </tr>\n",
       "  </thead>\n",
       "  <tbody>\n",
       "    <tr>\n",
       "      <th>0</th>\n",
       "      <td>(АБАЗА, АСКИЗ)</td>\n",
       "      <td>2016-07-15 03:00:00</td>\n",
       "      <td>6840</td>\n",
       "    </tr>\n",
       "    <tr>\n",
       "      <th>1</th>\n",
       "      <td>(АБАЗА, АСКИЗ)</td>\n",
       "      <td>2016-07-15 06:00:00</td>\n",
       "      <td>7140</td>\n",
       "    </tr>\n",
       "    <tr>\n",
       "      <th>2</th>\n",
       "      <td>(АБАЗА, АСКИЗ)</td>\n",
       "      <td>2016-07-15 09:00:00</td>\n",
       "      <td>6600</td>\n",
       "    </tr>\n",
       "    <tr>\n",
       "      <th>3</th>\n",
       "      <td>(АБАЗА, АСКИЗ)</td>\n",
       "      <td>2016-07-15 12:00:00</td>\n",
       "      <td>4980</td>\n",
       "    </tr>\n",
       "    <tr>\n",
       "      <th>4</th>\n",
       "      <td>(АБАЗА, АСКИЗ)</td>\n",
       "      <td>2016-07-15 15:00:00</td>\n",
       "      <td>4980</td>\n",
       "    </tr>\n",
       "  </tbody>\n",
       "</table>\n",
       "</div>"
      ],
      "text/plain": [
       "        link_name             dt_from    tt\n",
       "0  (АБАЗА, АСКИЗ) 2016-07-15 03:00:00  6840\n",
       "1  (АБАЗА, АСКИЗ) 2016-07-15 06:00:00  7140\n",
       "2  (АБАЗА, АСКИЗ) 2016-07-15 09:00:00  6600\n",
       "3  (АБАЗА, АСКИЗ) 2016-07-15 12:00:00  4980\n",
       "4  (АБАЗА, АСКИЗ) 2016-07-15 15:00:00  4980"
      ]
     },
     "execution_count": 12,
     "metadata": {},
     "output_type": "execute_result"
    }
   ],
   "source": [
    "tracks = slot.dropna(subset=['st_from_name', 'st_to_name'], how='any').link_name.unique()\n",
    "res = {}\n",
    "for track in tracks:\n",
    "    a = slot[slot.link_name == track].set_index('dt_from').resample('3H', how={'tt_stops':np.mean})\n",
    "    for i in a.index:\n",
    "        res[(track, i)] = a.ix[i]\n",
    "\n",
    "slot_3h_durations = pd.DataFrame.from_dict(res, orient='index')\n",
    "df_3h = slot_3h_durations.reset_index()\n",
    "df_3h.columns = ['link_name', 'dt_from', 'tt']\n",
    "df_3h.head()"
   ]
  },
  {
   "cell_type": "code",
   "execution_count": 13,
   "metadata": {
    "collapsed": false
   },
   "outputs": [],
   "source": [
    "max_check_time = datetime.datetime.fromtimestamp(current_time) + datetime.timedelta(1)"
   ]
  },
  {
   "cell_type": "code",
   "execution_count": 14,
   "metadata": {
    "collapsed": false
   },
   "outputs": [
    {
     "data": {
      "text/html": [
       "<div>\n",
       "<table border=\"1\" class=\"dataframe\">\n",
       "  <thead>\n",
       "    <tr style=\"text-align: right;\">\n",
       "      <th></th>\n",
       "      <th>link_name</th>\n",
       "      <th>dt_from</th>\n",
       "      <th>tt</th>\n",
       "    </tr>\n",
       "  </thead>\n",
       "  <tbody>\n",
       "    <tr>\n",
       "      <th>5921</th>\n",
       "      <td>(ОБЛУЧЬЕ, АРХАРА)</td>\n",
       "      <td>2016-07-15 00:00:00</td>\n",
       "      <td>9780.000000</td>\n",
       "    </tr>\n",
       "    <tr>\n",
       "      <th>5922</th>\n",
       "      <td>(ОБЛУЧЬЕ, АРХАРА)</td>\n",
       "      <td>2016-07-15 03:00:00</td>\n",
       "      <td>9300.000000</td>\n",
       "    </tr>\n",
       "    <tr>\n",
       "      <th>5923</th>\n",
       "      <td>(ОБЛУЧЬЕ, АРХАРА)</td>\n",
       "      <td>2016-07-15 06:00:00</td>\n",
       "      <td>9758.181818</td>\n",
       "    </tr>\n",
       "    <tr>\n",
       "      <th>5924</th>\n",
       "      <td>(ОБЛУЧЬЕ, АРХАРА)</td>\n",
       "      <td>2016-07-15 09:00:00</td>\n",
       "      <td>8925.000000</td>\n",
       "    </tr>\n",
       "    <tr>\n",
       "      <th>5925</th>\n",
       "      <td>(ОБЛУЧЬЕ, АРХАРА)</td>\n",
       "      <td>2016-07-15 12:00:00</td>\n",
       "      <td>9408.000000</td>\n",
       "    </tr>\n",
       "    <tr>\n",
       "      <th>5926</th>\n",
       "      <td>(ОБЛУЧЬЕ, АРХАРА)</td>\n",
       "      <td>2016-07-15 15:00:00</td>\n",
       "      <td>9343.636364</td>\n",
       "    </tr>\n",
       "    <tr>\n",
       "      <th>5927</th>\n",
       "      <td>(ОБЛУЧЬЕ, АРХАРА)</td>\n",
       "      <td>2016-07-15 18:00:00</td>\n",
       "      <td>9495.000000</td>\n",
       "    </tr>\n",
       "    <tr>\n",
       "      <th>5928</th>\n",
       "      <td>(ОБЛУЧЬЕ, АРХАРА)</td>\n",
       "      <td>2016-07-15 21:00:00</td>\n",
       "      <td>9342.000000</td>\n",
       "    </tr>\n",
       "    <tr>\n",
       "      <th>5929</th>\n",
       "      <td>(ОБЛУЧЬЕ, АРХАРА)</td>\n",
       "      <td>2016-07-16 00:00:00</td>\n",
       "      <td>9192.000000</td>\n",
       "    </tr>\n",
       "    <tr>\n",
       "      <th>5930</th>\n",
       "      <td>(ОБЛУЧЬЕ, АРХАРА)</td>\n",
       "      <td>2016-07-16 03:00:00</td>\n",
       "      <td>9300.000000</td>\n",
       "    </tr>\n",
       "    <tr>\n",
       "      <th>5931</th>\n",
       "      <td>(ОБЛУЧЬЕ, АРХАРА)</td>\n",
       "      <td>2016-07-16 06:00:00</td>\n",
       "      <td>9758.181818</td>\n",
       "    </tr>\n",
       "    <tr>\n",
       "      <th>5932</th>\n",
       "      <td>(ОБЛУЧЬЕ, АРХАРА)</td>\n",
       "      <td>2016-07-16 09:00:00</td>\n",
       "      <td>8925.000000</td>\n",
       "    </tr>\n",
       "    <tr>\n",
       "      <th>5933</th>\n",
       "      <td>(ОБЛУЧЬЕ, АРХАРА)</td>\n",
       "      <td>2016-07-16 12:00:00</td>\n",
       "      <td>9408.000000</td>\n",
       "    </tr>\n",
       "    <tr>\n",
       "      <th>5934</th>\n",
       "      <td>(ОБЛУЧЬЕ, АРХАРА)</td>\n",
       "      <td>2016-07-16 15:00:00</td>\n",
       "      <td>9343.636364</td>\n",
       "    </tr>\n",
       "    <tr>\n",
       "      <th>5935</th>\n",
       "      <td>(ОБЛУЧЬЕ, АРХАРА)</td>\n",
       "      <td>2016-07-16 18:00:00</td>\n",
       "      <td>9495.000000</td>\n",
       "    </tr>\n",
       "    <tr>\n",
       "      <th>5936</th>\n",
       "      <td>(ОБЛУЧЬЕ, АРХАРА)</td>\n",
       "      <td>2016-07-16 21:00:00</td>\n",
       "      <td>7800.000000</td>\n",
       "    </tr>\n",
       "  </tbody>\n",
       "</table>\n",
       "</div>"
      ],
      "text/plain": [
       "              link_name             dt_from           tt\n",
       "5921  (ОБЛУЧЬЕ, АРХАРА) 2016-07-15 00:00:00  9780.000000\n",
       "5922  (ОБЛУЧЬЕ, АРХАРА) 2016-07-15 03:00:00  9300.000000\n",
       "5923  (ОБЛУЧЬЕ, АРХАРА) 2016-07-15 06:00:00  9758.181818\n",
       "5924  (ОБЛУЧЬЕ, АРХАРА) 2016-07-15 09:00:00  8925.000000\n",
       "5925  (ОБЛУЧЬЕ, АРХАРА) 2016-07-15 12:00:00  9408.000000\n",
       "5926  (ОБЛУЧЬЕ, АРХАРА) 2016-07-15 15:00:00  9343.636364\n",
       "5927  (ОБЛУЧЬЕ, АРХАРА) 2016-07-15 18:00:00  9495.000000\n",
       "5928  (ОБЛУЧЬЕ, АРХАРА) 2016-07-15 21:00:00  9342.000000\n",
       "5929  (ОБЛУЧЬЕ, АРХАРА) 2016-07-16 00:00:00  9192.000000\n",
       "5930  (ОБЛУЧЬЕ, АРХАРА) 2016-07-16 03:00:00  9300.000000\n",
       "5931  (ОБЛУЧЬЕ, АРХАРА) 2016-07-16 06:00:00  9758.181818\n",
       "5932  (ОБЛУЧЬЕ, АРХАРА) 2016-07-16 09:00:00  8925.000000\n",
       "5933  (ОБЛУЧЬЕ, АРХАРА) 2016-07-16 12:00:00  9408.000000\n",
       "5934  (ОБЛУЧЬЕ, АРХАРА) 2016-07-16 15:00:00  9343.636364\n",
       "5935  (ОБЛУЧЬЕ, АРХАРА) 2016-07-16 18:00:00  9495.000000\n",
       "5936  (ОБЛУЧЬЕ, АРХАРА) 2016-07-16 21:00:00  7800.000000"
      ]
     },
     "execution_count": 14,
     "metadata": {},
     "output_type": "execute_result"
    }
   ],
   "source": [
    "st_from, st_to = 'ОБЛУЧЬЕ', 'АРХАРА'\n",
    "df_3h[df_3h.link_name == (st_from, st_to)]\n",
    "#slot[(slot.st_from_name == st_from) & (slot.st_to_name == st_to)].sort_values('dt_from')"
   ]
  },
  {
   "cell_type": "markdown",
   "metadata": {},
   "source": [
    "### Для каждого поезда находим начало трехчасового интервала для времени отправления"
   ]
  },
  {
   "cell_type": "code",
   "execution_count": 15,
   "metadata": {
    "collapsed": false
   },
   "outputs": [
    {
     "data": {
      "text/html": [
       "<div>\n",
       "<table border=\"1\" class=\"dataframe\">\n",
       "  <thead>\n",
       "    <tr style=\"text-align: right;\">\n",
       "      <th></th>\n",
       "      <th>train</th>\n",
       "      <th>time_start</th>\n",
       "      <th>dt_from</th>\n",
       "      <th>dt_3h</th>\n",
       "    </tr>\n",
       "  </thead>\n",
       "  <tbody>\n",
       "    <tr>\n",
       "      <th>0</th>\n",
       "      <td>999912408032000</td>\n",
       "      <td>1468678800</td>\n",
       "      <td>2016-07-16 17:20:00</td>\n",
       "      <td>2016-07-16 15:00:00</td>\n",
       "    </tr>\n",
       "    <tr>\n",
       "      <th>1</th>\n",
       "      <td>999912408032000</td>\n",
       "      <td>1468679700</td>\n",
       "      <td>2016-07-16 17:35:00</td>\n",
       "      <td>2016-07-16 15:00:00</td>\n",
       "    </tr>\n",
       "    <tr>\n",
       "      <th>2</th>\n",
       "      <td>999912408032000</td>\n",
       "      <td>1468681662</td>\n",
       "      <td>2016-07-16 18:07:42</td>\n",
       "      <td>2016-07-16 18:00:00</td>\n",
       "    </tr>\n",
       "    <tr>\n",
       "      <th>3</th>\n",
       "      <td>999912408032000</td>\n",
       "      <td>1468685622</td>\n",
       "      <td>2016-07-16 19:13:42</td>\n",
       "      <td>2016-07-16 18:00:00</td>\n",
       "    </tr>\n",
       "    <tr>\n",
       "      <th>4</th>\n",
       "      <td>999912408032000</td>\n",
       "      <td>1468687032</td>\n",
       "      <td>2016-07-16 19:37:12</td>\n",
       "      <td>2016-07-16 18:00:00</td>\n",
       "    </tr>\n",
       "  </tbody>\n",
       "</table>\n",
       "</div>"
      ],
      "text/plain": [
       "             train  time_start             dt_from               dt_3h\n",
       "0  999912408032000  1468678800 2016-07-16 17:20:00 2016-07-16 15:00:00\n",
       "1  999912408032000  1468679700 2016-07-16 17:35:00 2016-07-16 15:00:00\n",
       "2  999912408032000  1468681662 2016-07-16 18:07:42 2016-07-16 18:00:00\n",
       "3  999912408032000  1468685622 2016-07-16 19:13:42 2016-07-16 18:00:00\n",
       "4  999912408032000  1468687032 2016-07-16 19:37:12 2016-07-16 18:00:00"
      ]
     },
     "execution_count": 15,
     "metadata": {},
     "output_type": "execute_result"
    }
   ],
   "source": [
    "train_plan['dt_from'] = train_plan.time_start.apply(datetime.datetime.fromtimestamp)\n",
    "a = train_plan.set_index('dt_from').resample('3H', how={'time_start':min}).to_dict()['time_start']\n",
    "train_plan['dt_3h'] = train_plan.time_start.apply(lambda x: max([key for key, value in a.items() if value <= x]))\n",
    "train_plan[['train', 'time_start', 'dt_from', 'dt_3h']].head()"
   ]
  },
  {
   "cell_type": "markdown",
   "metadata": {},
   "source": [
    "### Подставляем в поездные планы среднее время хода из нитки"
   ]
  },
  {
   "cell_type": "code",
   "execution_count": 16,
   "metadata": {
    "collapsed": false
   },
   "outputs": [],
   "source": [
    "train_plan['link_name'] = list(zip(train_plan.st_from_name, train_plan.st_to_name))\n",
    "train_plan['dt_link_name'] = list(zip(train_plan.link_name, train_plan.dt_3h))\n",
    "df_3h['dt_link_name'] = list(zip(df_3h.link_name, df_3h.dt_from))\n",
    "train_plan['slot_tt'] = train_plan.dt_link_name.map(df_3h.set_index('dt_link_name').tt)\n",
    "train_plan.slot_tt.fillna(-1, inplace=True)"
   ]
  },
  {
   "cell_type": "markdown",
   "metadata": {},
   "source": [
    "### Считаем красивую статистику"
   ]
  },
  {
   "cell_type": "markdown",
   "metadata": {},
   "source": [
    "#### Гистограмма отклонений времен хода поездов от времен хода в нитках"
   ]
  },
  {
   "cell_type": "code",
   "execution_count": 17,
   "metadata": {
    "collapsed": false
   },
   "outputs": [
    {
     "data": {
      "image/png": "[encoded data removed]",
      "text/plain": [
       "<matplotlib.figure.Figure at 0x1bbd87cb240>"
      ]
     },
     "metadata": {},
     "output_type": "display_data"
    }
   ],
   "source": [
    "train_plan['tt'] = train_plan.time_end - train_plan.time_start\n",
    "train_plan['slot_tt'] = train_plan.slot_tt.apply(int)\n",
    "train_plan['tt_delta'] = train_plan.tt - train_plan.slot_tt\n",
    "train_plan['tt_delta_abs'] = train_plan.tt_delta.apply(abs)\n",
    "add_info(links)\n",
    "links['link_name'] = list(zip(links.st_from_name, links.st_to_name))\n",
    "train_plan['tt_link'] = train_plan.link_name.map(links.drop_duplicates('link_name').set_index('link_name').time)\n",
    "df_tt_delta = train_plan[train_plan.slot_tt != -1]\n",
    "tt_delta_mean = df_tt_delta.tt_delta.mean()\n",
    "tt_delta_std = df_tt_delta.tt_delta.std()\n",
    "main = df_tt_delta[df_tt_delta.tt_delta.apply(lambda x: np.abs(x - tt_delta_mean) < 3 * tt_delta_std)]\n",
    "\n",
    "sns.set(context='notebook', style='whitegrid', palette='dark')\n",
    "fig = plt.figure()\n",
    "#ax = sns.distplot(main.tt_delta / 60, hist=False, kde_kws={'shade':True})\n",
    "ax = sns.kdeplot(main.tt_delta / 60, shade=True)\n",
    "title = 'Отклонение времен хода поездов от времен хода в нитках (без учета выбросов)\\nСреднее = %.2f мин.' \\\n",
    "            % (main.tt_delta.mean() / 60)\n",
    "ax.set(title=title, xlabel='Отклонение, мин.')\n",
    "filename = 'main_delta.png'\n",
    "fig.savefig(REPORT_FOLDER + filename, bbox_inches='tight')\n",
    "add_image(filename)"
   ]
  },
  {
   "cell_type": "markdown",
   "metadata": {},
   "source": [
    "#### Выбросы (большие отклонения времен хода поездов от времен хода в нитках)"
   ]
  },
  {
   "cell_type": "code",
   "execution_count": 18,
   "metadata": {
    "collapsed": false
   },
   "outputs": [],
   "source": [
    "max_check_time = datetime.datetime.fromtimestamp(current_time) + datetime.timedelta(1)\n",
    "#last_dt = df_3h.sort_values('dt_from').iloc[-1].dt_from\n",
    "df_tt_delta = df_tt_delta[df_tt_delta.dt_3h <= max_check_time]"
   ]
  },
  {
   "cell_type": "code",
   "execution_count": 19,
   "metadata": {
    "collapsed": false
   },
   "outputs": [],
   "source": [
    "df_tt_delta['delta_rat'] = df_tt_delta.tt_delta_abs / df_tt_delta.slot_tt"
   ]
  },
  {
   "cell_type": "code",
   "execution_count": 20,
   "metadata": {
    "collapsed": false
   },
   "outputs": [
    {
     "name": "stdout",
     "output_type": "stream",
     "text": [
      "Всего 513 случаев, когда время хода поезда существенно отличается от времени хода в нитке (выбросы).\n",
      "Частота выбросов по участку и трехчасовому интервалу:\n",
      "link_name                     dt_3h              \n",
      "(БЕЛОГОРСК II, ЗАВИТАЯ)       2016-07-15 15:00:00    8\n",
      "(ПЕТРОВСКИЙ ЗАВОД, ЖИПХЕГЕН)  2016-07-15 12:00:00    8\n",
      "(БУГАЧ, ЧЕРНОРЕЧЕНСКАЯ)       2016-07-15 18:00:00    8\n",
      "(МАГДАГАЧИ, УШУМУН)           2016-07-16 12:00:00    8\n",
      "(КАРЫМСКАЯ, ЧИТА I)           2016-07-16 00:00:00    8\n",
      "(НАХОДКА, ХМЫЛОВСКИЙ)         2016-07-15 15:00:00    7\n",
      "(ЖИПХЕГЕН, ПЕТРОВСКИЙ ЗАВОД)  2016-07-16 06:00:00    7\n",
      "(ЧЕРНОРЕЧЕНСКАЯ, БУГАЧ)       2016-07-15 18:00:00    6\n",
      "(КАРЫМСКАЯ, ЧИТА I)           2016-07-16 12:00:00    6\n",
      "(ЗАВИТАЯ, БЕЛОГОРСК II)       2016-07-15 09:00:00    6\n"
     ]
    },
    {
     "data": {
      "image/png": "[encoded data removed]",
      "text/plain": [
       "<matplotlib.figure.Figure at 0x1bbcd14e0f0>"
      ]
     },
     "metadata": {},
     "output_type": "display_data"
    }
   ],
   "source": [
    "outliers = df_tt_delta[df_tt_delta.tt_delta.apply(lambda x: np.abs(x - tt_delta_mean) > 3 * tt_delta_std)]\n",
    "cols = ['train', 'st_from_name', 'st_to_name', 'dt_from', 'dt_3h', 'tt', 'slot_tt', 'tt_delta', 'tt_link', 'delta_rat']\n",
    "add_header('Всего %d случаев, когда время хода поезда существенно отличается от времени хода в нитке (выбросы).' \n",
    "          % outliers.train.count())\n",
    "add_header('Частота выбросов по участку и трехчасовому интервалу:')\n",
    "add_line(outliers.groupby(['link_name', 'dt_3h']).train.count().sort_values(ascending=False).head(10))\n",
    "\n",
    "fig = plt.figure()\n",
    "sns.set(context='notebook', style='whitegrid', palette='dark')\n",
    "ax = sns.distplot(outliers.tt_delta.apply(abs), hist=False, kde_kws={'shade':True})\n",
    "title = 'Отклонение времен хода поездов от времен хода в нитках в выбросах\\nСреднее по модулю = %.2f мин.' \\\n",
    "            % (outliers.tt_delta_abs.mean() / 60)\n",
    "ax.set(title=title, xlabel='Отклонение, мин.')\n",
    "filename = 'outliers_delta.png'\n",
    "fig.savefig(REPORT_FOLDER + filename, bbox_inches='tight')\n",
    "add_image(filename)"
   ]
  },
  {
   "cell_type": "markdown",
   "metadata": {},
   "source": [
    "#### Подробная статистика по участку, где больше всего выборосов"
   ]
  },
  {
   "cell_type": "code",
   "execution_count": 21,
   "metadata": {
    "collapsed": false
   },
   "outputs": [
    {
     "name": "stdout",
     "output_type": "stream",
     "text": [
      "Статистика по участку с наибольшим количеством выбросов: БЕЛОГОРСК II -- ЗАВИТАЯ\n",
      "Статистика по ниткам:\n",
      "count      135.000000\n",
      "mean      7649.777778\n",
      "std       1622.798149\n",
      "min       7200.000000\n",
      "25%       7440.000000\n",
      "50%       7440.000000\n",
      "75%       7440.000000\n",
      "max      20820.000000\n",
      "Статистика по выбросам в поездных планах:\n",
      "count       8.00000\n",
      "mean     8199.25000\n",
      "std       409.51112\n",
      "min      7658.00000\n",
      "25%      7872.00000\n",
      "50%      8205.00000\n",
      "75%      8431.50000\n",
      "max      8848.00000\n",
      "Примеры поездов с временами хода, значительно отличающимися от времен в нитках:\n",
      "        train  st_from_name st_to_name  time_start             dt_from    tt  slot_tt  tt_delta_abs  tt_link  delta_rat\n",
      " 210219780858  БЕЛОГОРСК II    ЗАВИТАЯ  1468593900 2016-07-15 17:45:00  7658    10088          2430      720   0.240880\n",
      " 210219574988  БЕЛОГОРСК II    ЗАВИТАЯ  1468593360 2016-07-15 17:36:00  7800    10088          2288      720   0.226804\n",
      " 200022043037  БЕЛОГОРСК II    ЗАВИТАЯ  1468593000 2016-07-15 17:30:00  7896    10088          2192      720   0.217288\n",
      " 210219409488  БЕЛОГОРСК II    ЗАВИТАЯ  1468592100 2016-07-15 17:15:00  8134    10088          1954      720   0.193695\n",
      " 200021093024  БЕЛОГОРСК II    ЗАВИТАЯ  1468591560 2016-07-15 17:06:00  8276    10088          1812      720   0.179619\n",
      " 210218335747  БЕЛОГОРСК II    ЗАВИТАЯ  1468591200 2016-07-15 17:00:00  8372    10088          1716      720   0.170103\n",
      " 210219422458  БЕЛОГОРСК II    ЗАВИТАЯ  1468590300 2016-07-15 16:45:00  8610    10088          1478      720   0.146511\n",
      " 210219892515  БЕЛОГОРСК II    ЗАВИТАЯ  1468589400 2016-07-15 16:30:00  8848    10088          1240      720   0.122918\n"
     ]
    }
   ],
   "source": [
    "cols = ['train', 'st_from_name', 'st_to_name', 'time_start', 'dt_from', 'tt', 'slot_tt', 'tt_delta_abs', 'tt_link', 'delta_rat']\n",
    "l = outliers.groupby(['link_name', 'dt_3h']).train.count().sort_values(ascending=False).reset_index().ix[0].link_name\n",
    "st_from, st_to = l[0], l[1]\n",
    "add_header('Статистика по участку с наибольшим количеством выбросов: %s -- %s' % (st_from, st_to), h=3)\n",
    "add_header('Статистика по ниткам:')\n",
    "add_line(slot[(slot.st_from_name == st_from) & (slot.st_to_name == st_to)].tt.describe())\n",
    "add_header('Статистика по выбросам в поездных планах:')\n",
    "add_line(outliers[(outliers.st_from_name == st_from) & (outliers.st_to_name == st_to)].tt.describe())\n",
    "add_header('Примеры поездов с временами хода, значительно отличающимися от времен в нитках:')\n",
    "add_line(outliers[(outliers.st_from_name == st_from) \n",
    "                  & (outliers.st_to_name == st_to)].sort_values('tt_delta_abs', ascending=False)[cols].head(10))"
   ]
  },
  {
   "cell_type": "code",
   "execution_count": 22,
   "metadata": {
    "collapsed": false
   },
   "outputs": [
    {
     "name": "stdout",
     "output_type": "stream",
     "text": [
      "Примеры самых больших (по модулю отклонения) выбросов:\n",
      "           train st_from_name   st_to_name             dt_from     tt  slot_tt  tt_delta_abs  tt_link  delta_rat\n",
      "    200022115163    ХРЕБТОВАЯ       ИГИРМА 2016-07-15 17:04:00   6897    13500          6603     4380   0.489111\n",
      " 999928901012001   РУДНОГОРСК       ИГИРМА 2016-07-16 11:35:00   2646     6360          3714     1500   0.583962\n",
      "    200022114474    УРУЛЮНГУЙ     МАРГУЦЕК 2016-07-15 14:58:00   1644     5220          3576     1560   0.685057\n",
      " 999912456012004    ХРЕБТОВАЯ       ИГИРМА 2016-07-16 05:15:12   5861     9120          3259     4380   0.357346\n",
      "    200020349076      ТАКОВКА       НЕБЕЛЬ 2016-07-16 02:56:58   1507     4620          3113     1380   0.673810\n",
      "    200021962962    АБАЛАКОВО     СУРИКОВО 2016-07-15 09:00:00  15484    18540          3056     9120   0.164833\n",
      " 999928931012001     КАРАБУЛА       ЧУНОЯР 2016-07-16 00:40:00  12565    15420          2855     8820   0.185149\n",
      "    210219496673      КУЛЬДУР  ПЕРЕВАЛЬНЫЙ 2016-07-15 20:51:30   2621     5220          2599     2100   0.497893\n",
      "    200021460116        ТИСИН         УЖУР 2016-07-16 06:51:09  13813    16380          2567     8100   0.156716\n",
      " 999928867022001    СУХАНОВКА    БАМБУРОВО 2016-07-16 05:39:30   4601     7080          2479     3780   0.350141\n"
     ]
    }
   ],
   "source": [
    "cols = ['train', 'st_from_name', 'st_to_name', 'dt_from', 'tt', 'slot_tt', 'tt_delta_abs', 'tt_link', 'delta_rat']\n",
    "add_header('Примеры самых больших (по модулю отклонения) выбросов:', h=3)\n",
    "add_line(outliers.sort_values('tt_delta_abs', ascending=False)[cols].head(10))"
   ]
  },
  {
   "cell_type": "markdown",
   "metadata": {},
   "source": [
    "## Проверка входных данных"
   ]
  },
  {
   "cell_type": "markdown",
   "metadata": {},
   "source": [
    "### Участки планирования без слотов"
   ]
  },
  {
   "cell_type": "code",
   "execution_count": 23,
   "metadata": {
    "collapsed": false
   },
   "outputs": [],
   "source": [
    "slot['link_name'] = list(zip(slot.st_from_name, slot.st_to_name))\n",
    "links['link_name'] = list(zip(links.st_from_name, links.st_to_name))\n",
    "slot.dropna(subset=['st_from_name', 'st_to_name'], how='any', inplace=True)"
   ]
  },
  {
   "cell_type": "code",
   "execution_count": 24,
   "metadata": {
    "collapsed": false
   },
   "outputs": [
    {
     "name": "stdout",
     "output_type": "stream",
     "text": [
      "Всего 76 участков планирования без слотов:\n",
      "[('СОЛОВЬЕВСК', 'БОРЗЯ') ('ЕНИСЕЙ', 'ДИВНОГОРСК') ('БЛЮХЕР', 'БАМБУРОВО')\n",
      " ('БИРОФЕЛЬД', 'ЛЕНИНСК') ('ОРОСИТЕЛЬНЫЙ', 'ХОНЫХ') ('УГЛОВАЯ', 'УГОЛЬНАЯ')\n",
      " ('ХРЕБТОВАЯ', 'КОРШУНИХА-АНГАРСКАЯ')\n",
      " ('БЛОКПОСТ 1571 КМ', 'ДАЛЬНЕРЕЧЕНСК I') ('ПЕРЕВАЛ', 'КАЗАНКАН')\n",
      " (nan, 'БИРА') ('БИРОФЕЛЬД', nan) ('ПОСТ-ПОКРОВСКИЙ', 'ПОКРОВКА-ПРИСТАНЬ')\n",
      " ('КАЗАНКАН', 'ПЕРЕВАЛ') ('ОУНЭ', 'КУЗНЕЦОВСКИЙ') ('ДИВНОГОРСК', 'ЕНИСЕЙ')\n",
      " ('СКОВОРОДИНО', 'РЕЙНОВО') (nan, nan) ('КОРШУНИХА-АНГАРСКАЯ', 'ХРЕБТОВАЯ')\n",
      " ('СОЛЛУ', 'КУЗНЕЦОВСКИЙ') ('УГОЛЬНАЯ', 'УГЛОВАЯ') ('БАМБУРОВО', 'БЛЮХЕР')\n",
      " ('МАХАЛИНО', nan) ('ЭБЕРГАРД', 'ДАЛЬНЕРЕЧЕНСК II') (nan, 'БИРОФЕЛЬД')\n",
      " ('БЛОКПОСТ 197 КМ', 'ОУНЭ') ('БАЙКАЛ', 'КУЛТУК') ('ШАРЫПОВО', 'ШУШЬ')\n",
      " ('АНГАРСК', 'СУХОВСКАЯ-ЮЖНАЯ') ('ЧЕРЕМХОВО', 'МАКАРЬЕВО')\n",
      " ('ПЕРЕВАЛ', 'АНГАРАКАН') ('СОЛЛУ', 'ВЫСОКОГОРНАЯ')\n",
      " ('НАХОДКА-ВОСТОЧНАЯ', 'ХМЫЛОВСКИЙ') ('ХМЫЛОВСКИЙ', 'НАХОДКА-ВОСТОЧНАЯ')\n",
      " ('БОРЗЯ', 'СОЛОВЬЕВСК') ('ГРОДЕКОВО (КИТАЙ)', 'РАССЫПНАЯ ПАДЬ')\n",
      " ('КОРШУНИХА-АНГАРСКАЯ', 'ГИДРОСТРОИТЕЛЬ') ('МАКАРЬЕВО', 'ЧЕРЕМХОВО')\n",
      " ('АНГАРАКАН', 'ПЕРЕВАЛ') ('ЛУЧКИ', 'НОВОКАЧАЛИНСК') ('ШАРЫПОВО', 'БАЗЫР')\n",
      " ('БИРА', nan) ('ДАЛЬНЕРЕЧЕНСК II', 'БЛОКПОСТ 1571 КМ')\n",
      " ('ПЕРВАЯ РЕЧКА', 'ГАЙДАМАК') ('ЛЕНИНСК', 'БИРОФЕЛЬД')\n",
      " ('БАЗЫР', 'ШАРЫПОВО') ('ГАЙДАМАК', 'ПЕРВАЯ РЕЧКА')\n",
      " ('РЕЙНОВО', 'СКОВОРОДИНО') (nan, 'ВОЛОЧАЕВКА I') ('КРАСНОЯРСК', 'БУГАЧ')\n",
      " ('СЛЮДЯНКА II', 'КУЛТУК') ('ПОКРОВКА-ПРИСТАНЬ', 'ПОСТ-ПОКРОВСКИЙ')\n",
      " ('КУЛТУК', 'СЛЮДЯНКА II') ('ЕНИСЕЙ', 'КРАСНОЯРСК')\n",
      " ('ВЛАДИВОСТОК', 'ГАЙДАМАК') ('КРАСНОЯРСК', 'ЕНИСЕЙ') ('ЗЫКОВО', 'БАЗАИХА')\n",
      " ('ЗУЙ', 'СУХОВСКАЯ') ('ГАЙДАМАК', 'ВЛАДИВОСТОК') ('КУЗНЕЦОВСКИЙ', 'СОЛЛУ')\n",
      " ('БУГАЧ', 'КРАСНОЯРСК') ('ДАЛЬНЕРЕЧЕНСК I', 'ЭБЕРГАРД')\n",
      " ('ХОНЫХ', 'ОРОСИТЕЛЬНЫЙ') ('ЕНИСЕЙ', 'ЗЛОБИНО') ('БАЗАИХА', 'ЗЫКОВО')\n",
      " ('ЗЛОБИНО', 'ЕНИСЕЙ') ('НОВОКАЧАЛИНСК', 'ЛУЧКИ')\n",
      " ('СУХОВСКАЯ-ЮЖНАЯ', 'АНГАРСК') ('ВЫСОКОГОРНАЯ', 'БЛОКПОСТ 197 КМ')\n",
      " ('РАССЫПНАЯ ПАДЬ', 'ГРОДЕКОВО (КИТАЙ)') ('ШУШЬ', 'ШАРЫПОВО')\n",
      " ('КУЗНЕЦОВСКИЙ', 'ОУНЭ') ('ГИДРОСТРОИТЕЛЬ', 'КОРШУНИХА-АНГАРСКАЯ')\n",
      " ('ВОЛОЧАЕВКА I', nan) (nan, 'МАХАЛИНО') ('СУХОВСКАЯ', 'ЗУЙ')\n",
      " ('КУЛТУК', 'БАЙКАЛ')]\n"
     ]
    }
   ],
   "source": [
    "slot['tt'] = slot.time_end - slot.time_start\n",
    "links['slot_tt_init'] = links.link_name.map(slot.groupby('link_name').tt.mean())\n",
    "links['slot_tt'] = 60 * (links.slot_tt_init // 60)\n",
    "links[['link_name', 'time', 'slot_tt']]\n",
    "links_no_slots = links[links.slot_tt.isnull()]\n",
    "links_no_slots_names = links_no_slots.link_name.unique()\n",
    "add_header('Всего %d участков планирования без слотов:' % len(links_no_slots_names))\n",
    "add_line(links_no_slots_names)"
   ]
  },
  {
   "cell_type": "code",
   "execution_count": 29,
   "metadata": {
    "collapsed": false
   },
   "outputs": [
    {
     "name": "stdout",
     "output_type": "stream",
     "text": [
      "Всего 14 участков планирования от крупных станций без слотов:\n",
      "[('СОЛОВЬЕВСК', 'БОРЗЯ') ('ХРЕБТОВАЯ', 'КОРШУНИХА-АНГАРСКАЯ')\n",
      " ('СКОВОРОДИНО', 'РЕЙНОВО') ('КОРШУНИХА-АНГАРСКАЯ', 'ХРЕБТОВАЯ')\n",
      " ('СОЛЛУ', 'ВЫСОКОГОРНАЯ') ('НАХОДКА-ВОСТОЧНАЯ', 'ХМЫЛОВСКИЙ')\n",
      " ('ХМЫЛОВСКИЙ', 'НАХОДКА-ВОСТОЧНАЯ') ('БОРЗЯ', 'СОЛОВЬЕВСК')\n",
      " ('КОРШУНИХА-АНГАРСКАЯ', 'ГИДРОСТРОИТЕЛЬ') ('РЕЙНОВО', 'СКОВОРОДИНО')\n",
      " ('ВЛАДИВОСТОК', 'ГАЙДАМАК') ('ГАЙДАМАК', 'ВЛАДИВОСТОК')\n",
      " ('ВЫСОКОГОРНАЯ', 'БЛОКПОСТ 197 КМ')\n",
      " ('ГИДРОСТРОИТЕЛЬ', 'КОРШУНИХА-АНГАРСКАЯ')]\n"
     ]
    }
   ],
   "source": [
    "big_st = stations[stations.norm_time != 0].name.unique()\n",
    "links_no_big = links_no_slots[(links_no_slots.st_from_name.isin(big_st)) \n",
    "                              | (links_no_slots.st_to_name.isin(big_st))].link_name.unique()\n",
    "add_header('Всего %d участков планирования от крупных станций без слотов:' % len(links_no_big))\n",
    "add_line(links_no_big)"
   ]
  },
  {
   "cell_type": "markdown",
   "metadata": {},
   "source": [
    "### Выявление участков с неправильным нормативным временем хода"
   ]
  },
  {
   "cell_type": "code",
   "execution_count": 309,
   "metadata": {
    "collapsed": false
   },
   "outputs": [
    {
     "data": {
      "text/html": [
       "<div>\n",
       "<table border=\"1\" class=\"dataframe\">\n",
       "  <thead>\n",
       "    <tr style=\"text-align: right;\">\n",
       "      <th></th>\n",
       "      <th>link_name</th>\n",
       "      <th>time</th>\n",
       "      <th>slot_tt</th>\n",
       "      <th>ratio</th>\n",
       "    </tr>\n",
       "  </thead>\n",
       "  <tbody>\n",
       "    <tr>\n",
       "      <th>251</th>\n",
       "      <td>(ЗАВИТАЯ, БЕЛОГОРСК II)</td>\n",
       "      <td>540</td>\n",
       "      <td>6840</td>\n",
       "      <td>12.666667</td>\n",
       "    </tr>\n",
       "    <tr>\n",
       "      <th>44</th>\n",
       "      <td>(БЕЛОГОРСК II, ЗАВИТАЯ)</td>\n",
       "      <td>720</td>\n",
       "      <td>7620</td>\n",
       "      <td>10.583333</td>\n",
       "    </tr>\n",
       "    <tr>\n",
       "      <th>224</th>\n",
       "      <td>(КОМСОМОЛЬСК-НА-АМУРЕ II, ЭВОРОН)</td>\n",
       "      <td>1500</td>\n",
       "      <td>14100</td>\n",
       "      <td>9.400000</td>\n",
       "    </tr>\n",
       "    <tr>\n",
       "      <th>237</th>\n",
       "      <td>(ЭВОРОН, КОМСОМОЛЬСК-НА-АМУРЕ II)</td>\n",
       "      <td>1440</td>\n",
       "      <td>13500</td>\n",
       "      <td>9.375000</td>\n",
       "    </tr>\n",
       "    <tr>\n",
       "      <th>217</th>\n",
       "      <td>(ГРОДЕКОВО II, ВОЗДВИЖЕНСКИЙ)</td>\n",
       "      <td>720</td>\n",
       "      <td>6540</td>\n",
       "      <td>9.083333</td>\n",
       "    </tr>\n",
       "  </tbody>\n",
       "</table>\n",
       "</div>"
      ],
      "text/plain": [
       "                             link_name  time  slot_tt      ratio\n",
       "251            (ЗАВИТАЯ, БЕЛОГОРСК II)   540     6840  12.666667\n",
       "44             (БЕЛОГОРСК II, ЗАВИТАЯ)   720     7620  10.583333\n",
       "224  (КОМСОМОЛЬСК-НА-АМУРЕ II, ЭВОРОН)  1500    14100   9.400000\n",
       "237  (ЭВОРОН, КОМСОМОЛЬСК-НА-АМУРЕ II)  1440    13500   9.375000\n",
       "217      (ГРОДЕКОВО II, ВОЗДВИЖЕНСКИЙ)   720     6540   9.083333"
      ]
     },
     "execution_count": 309,
     "metadata": {},
     "output_type": "execute_result"
    }
   ],
   "source": [
    "links['delta_tt_perc'] = 100 * np.abs(links.slot_tt - links.time) / links.slot_tt\n",
    "links['ratio'] = links.slot_tt / links.time\n",
    "cols = ['link_name', 'time', 'slot_tt', 'ratio']\n",
    "#links[(links.slot_tt.isnull() == False)][cols].sort_values('delta_tt_perc', ascending=False).head()\n",
    "links[(links.slot_tt.isnull() == False)][cols].sort_values('ratio', ascending=False).head()"
   ]
  },
  {
   "cell_type": "code",
   "execution_count": 310,
   "metadata": {
    "collapsed": false
   },
   "outputs": [
    {
     "name": "stdout",
     "output_type": "stream",
     "text": [
      "Всего 23 участков планирования с заниженным или завышенным временем хода относительно ниток: \n",
      "[('НАХОДКА', 'ХМЫЛОВСКИЙ') ('БЕЛОГОРСК II', 'ЗАВИТАЯ')\n",
      " ('КРУГЛИКОВО', 'ХАБАРОВСК II') ('ВОЗДВИЖЕНСКИЙ', 'ГРОДЕКОВО II')\n",
      " ('КОМСОМОЛЬСК-НА-АМУРЕ', 'КОМСОМОЛЬСК-НА-АМУРЕ II') ('БАЗАИХА', 'ЗЛОБИНО')\n",
      " ('ВОЛОЧАЕВКА II', 'ТУНГУССКИЙ') ('ГРОДЕКОВО II', 'ВОЗДВИЖЕНСКИЙ')\n",
      " ('КОМСОМОЛЬСК-НА-АМУРЕ II', 'ЭВОРОН')\n",
      " ('ЭВОРОН', 'КОМСОМОЛЬСК-НА-АМУРЕ II') ('ЗАВИТАЯ', 'БЕЛОГОРСК II')\n",
      " ('СЕЛИХИН', 'КОМСОМОЛЬСК-НА-АМУРЕ-СОРТИРОВОЧНЫЙ')\n",
      " ('КОМСОМОЛЬСК-НА-АМУРЕ-СОРТИРОВОЧНЫЙ', 'СЕЛИХИН') ('СРЕТЕНСК', 'КУЭНГА')\n",
      " ('ХОЛОДНЫЙ КЛЮЧ', 'БУРЕЯ') ('ХАБАРОВСК II', 'КРУГЛИКОВО')\n",
      " ('РАССЫПНАЯ ПАДЬ', 'ГРОДЕКОВО')\n",
      " ('КОМСОМОЛЬСК-НА-АМУРЕ II', 'КОМСОМОЛЬСК-НА-АМУРЕ')\n",
      " ('ИРКУТСК-СОРТИРОВОЧНЫЙ', 'БАТАРЕЙНАЯ') ('ЗЛОБИНО', 'БАЗАИХА')\n",
      " ('ТУНГУССКИЙ', 'ВОЛОЧАЕВКА II') ('ХМЫЛОВСКИЙ', 'НАХОДКА')\n",
      " ('ГРОДЕКОВО', 'РАССЫПНАЯ ПАДЬ')]\n",
      "Примеры завышенных нормативов:\n",
      "                                       link_name  time  slot_tt     ratio\n",
      "             (ИРКУТСК-СОРТИРОВОЧНЫЙ, БАТАРЕЙНАЯ)   720      120  0.166667\n",
      " (КОМСОМОЛЬСК-НА-АМУРЕ II, КОМСОМОЛЬСК-НА-АМУРЕ)  1500      300  0.200000\n",
      " (КОМСОМОЛЬСК-НА-АМУРЕ, КОМСОМОЛЬСК-НА-АМУРЕ II)  1440      300  0.208333\n",
      "                          (ХОЛОДНЫЙ КЛЮЧ, БУРЕЯ)  3180     6840  2.150943\n",
      "                           (НАХОДКА, ХМЫЛОВСКИЙ)   300      660  2.200000\n",
      "Примеры заниженных нормативов:\n",
      "                         link_name  time  slot_tt      ratio\n",
      "     (ГРОДЕКОВО II, ВОЗДВИЖЕНСКИЙ)   720     6540   9.083333\n",
      " (ЭВОРОН, КОМСОМОЛЬСК-НА-АМУРЕ II)  1440    13500   9.375000\n",
      " (КОМСОМОЛЬСК-НА-АМУРЕ II, ЭВОРОН)  1500    14100   9.400000\n",
      "           (БЕЛОГОРСК II, ЗАВИТАЯ)   720     7620  10.583333\n",
      "           (ЗАВИТАЯ, БЕЛОГОРСК II)   540     6840  12.666667\n",
      "Свойства распределения выбросов:\n",
      "count    23.000000\n",
      "mean      4.516301\n",
      "std       3.660150\n",
      "min       0.166667\n",
      "25%       2.242857\n",
      "50%       2.600000\n",
      "75%       7.192857\n",
      "max      12.666667\n"
     ]
    },
    {
     "data": {
      "image/png": "[encoded data removed]",
      "text/plain": [
       "<matplotlib.figure.Figure at 0x276dcb49780>"
      ]
     },
     "metadata": {},
     "output_type": "display_data"
    }
   ],
   "source": [
    "rmean = links.ratio.mean()\n",
    "rstd = links.ratio.std()\n",
    "outliers = links[links.ratio.apply(lambda x: np.abs(x - rmean) > rstd)]\n",
    "add_header('Всего %d участков планирования с заниженным или завышенным временем хода относительно ниток: \\n%s' %\n",
    "          (outliers.link_name.count(), outliers.link_name.unique()))\n",
    "#sns.distplot(links.ratio, hist=False, color='b', kde_kws={'shade':True})\n",
    "add_header('Примеры завышенных нормативов:')\n",
    "add_line(outliers.sort_values('ratio')[cols].head())\n",
    "add_header('Примеры заниженных нормативов:')\n",
    "add_line(outliers.sort_values('ratio')[cols].tail())\n",
    "add_header('Свойства распределения выбросов:')\n",
    "add_line(outliers.ratio.describe())\n",
    "\n",
    "fig = plt.figure()\n",
    "sns.set(context='notebook', style='whitegrid', palette='dark')\n",
    "ax = sns.distplot(outliers.ratio, hist=False, color='r', kde_kws={'shade':True})\n",
    "title = 'Распределение отношения времен хода в нитках к нормативным временам в участках-выбросах'\n",
    "ax.set(title=title, xlabel='Относительное отклонение')\n",
    "filename = 'outliers_slot_tt_ratio.png'\n",
    "fig.savefig(REPORT_FOLDER + filename, bbox_inches='tight')\n",
    "add_image(filename)"
   ]
  },
  {
   "cell_type": "code",
   "execution_count": 311,
   "metadata": {
    "collapsed": false
   },
   "outputs": [
    {
     "name": "stdout",
     "output_type": "stream",
     "text": [
      "Отчет сформирован: report/slot_report_20160714_141607.html\n"
     ]
    }
   ],
   "source": [
    "filename = REPORT_FOLDER + 'slot_report_' + time.strftime('%Y%m%d_%H%M%S', time.localtime(time.time())) + '.html'\n",
    "create_report(filename)"
   ]
  }
 ],
 "metadata": {
  "kernelspec": {
   "display_name": "Python 3",
   "language": "python",
   "name": "python3"
  },
  "language_info": {
   "codemirror_mode": {
    "name": "ipython",
    "version": 3
   },
   "file_extension": ".py",
   "mimetype": "text/x-python",
   "name": "python",
   "nbconvert_exporter": "python",
   "pygments_lexer": "ipython3",
   "version": "3.5.1"
  }
 },
 "nbformat": 4,
 "nbformat_minor": 0
}
