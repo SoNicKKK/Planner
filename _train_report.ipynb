{
 "cells": [
  {
   "cell_type": "markdown",
   "metadata": {},
   "source": [
    "<a id='toc'></a>\n",
    "# Отчет по запланированным поездам\n",
    "\n",
    "1. [Проверка планирования всех реальных поездов](#all_plan)\n",
    "1. [Проверка совпадения четности номеров поездов и направления движения](#oddity)\n",
    "2. [Анализ времен стоянок поездов на станциях смены локомотивов и бригад.](#stop_time)\n",
    "   1. [Смена локомотивов](#stop_loco)\n",
    "   2. [Смена бригад](#stop_team)\n",
    "4. [Выявление случаев \"близкой\" отправки поездов с одной станции (с интервалом меньше 5 минут)](#dep_interval)\n",
    "5. [Анализ отклонения запланированного на сутки количества поездов от данных АС ССП (данные средние по суткам).](#ssp)\n",
    "6. [Проверка соответствия первого участка в запланированном маршруте и исходного факта](#info_plan_depart)\n",
    "6. [Детальное сравнение количества поездов по Иркутску с данными ССП](#irk_ssp)\n",
    "7. [Планирование сдвоенных поездов и поездов, составляющих сдвоенные](#Планирование-сдвоенных-поездов-и-поездов,-составляющих-сдвоенные)\n",
    "6. [Создание отчета](#report)"
   ]
  },
  {
   "cell_type": "markdown",
   "metadata": {},
   "source": [
    "### Функции для экспорта в HTML"
   ]
  },
  {
   "cell_type": "code",
   "execution_count": 1536,
   "metadata": {
    "collapsed": true
   },
   "outputs": [],
   "source": [
    "report = ''\n",
    "FOLDER = 'resources/'\n",
    "REPORT_FOLDER = 'report/'\n",
    "PRINT = True"
   ]
  },
  {
   "cell_type": "code",
   "execution_count": 1537,
   "metadata": {
    "collapsed": true
   },
   "outputs": [],
   "source": [
    "def add_line(line, p=PRINT):    \n",
    "    global report        \n",
    "    if p:                \n",
    "        if type(line) == pd.core.frame.DataFrame:\n",
    "            print(line.to_string(index=False))\n",
    "        elif type(line) == pd.core.series.Series:\n",
    "            print(line.to_string())\n",
    "        else:\n",
    "            print(line)\n",
    "    if type(line) == pd.core.frame.DataFrame:        \n",
    "        report += ('%s<br>' % line.to_html(index=False))\n",
    "    elif type(line) == pd.core.series.Series:\n",
    "        report += ('%s<br>' % line.to_frame().reset_index().to_html(index=False))\n",
    "    else:        \n",
    "        report += ('%s<br>' % line)\n",
    "    \n",
    "def add_header(header, h=4, p=PRINT):\n",
    "    global report\n",
    "    report += ('<h%d>%s</h%d>' % (h, header, h))\n",
    "    if p:\n",
    "        print(header)\n",
    "\n",
    "def add_image(filename, scale=0.4):\n",
    "    global report\n",
    "    report += ('<img src=\"%s\" alt=\"%s\" height=\"%d%%\">' % (filename, filename, int(scale * 100)))\n",
    "\n",
    "def create_report(filename):\n",
    "    global report\n",
    "    report = report.replace('<table border=\"1\" class=\"dataframe\">','<table class=\"table table-striped\">')\n",
    "    html_string = '''\n",
    "        <html>\n",
    "            <head>\n",
    "                <link rel=\"stylesheet\" href=\"skeleton.css\">\n",
    "                <style>body{ margin:20 20; background:whitesmoke; }\n",
    "                table {table-layout : fixed}\n",
    "                </style>\n",
    "            </head>\n",
    "            <body>                \n",
    "                %s\n",
    "            </body>\n",
    "        </html>''' % (report)\n",
    "    f = open(filename,'w', encoding='utf-8-sig')\n",
    "    f.write(html_string)\n",
    "    f.close()\n",
    "    print('Отчет сформирован: %s' % filename)"
   ]
  },
  {
   "cell_type": "markdown",
   "metadata": {},
   "source": [
    "## Загрузка и подготовка данных"
   ]
  },
  {
   "cell_type": "code",
   "execution_count": 1538,
   "metadata": {
    "collapsed": false
   },
   "outputs": [
    {
     "name": "stdout",
     "output_type": "stream",
     "text": [
      "Время составления отчета: 12/08 18:17\n",
      "Время запуска планировщика: 29/07 18:00 (1438182000)\n"
     ]
    }
   ],
   "source": [
    "import numpy as np\n",
    "import pandas as pd\n",
    "import time, datetime\n",
    "from ast import literal_eval\n",
    "import matplotlib.pyplot as plt\n",
    "import seaborn as sns\n",
    "\n",
    "%matplotlib inline\n",
    "plt.style.use('fivethirtyeight')\n",
    "plt.rc('font', family='Tahoma')\n",
    "\n",
    "pd.set_option('max_rows', 50)\n",
    "\n",
    "time_format = '%d/%m %H:%M'\n",
    "\n",
    "start_time = time.time()\n",
    "current_time = pd.read_csv(FOLDER + 'current_time.csv').current_time[0]\n",
    "twr          = pd.read_csv(FOLDER + 'team_work_region.csv', converters={'twr':str})\n",
    "links        = pd.read_csv(FOLDER + 'link.csv', converters={'st_from':str, 'st_to':str})\n",
    "stations     = pd.read_csv(FOLDER + 'station.csv', converters={'station':str})\n",
    "train_info   = pd.read_csv(FOLDER + 'train_info.csv', converters={'train': str, 'st_from':str, 'st_to':str, 'joint':str,\n",
    "                                                                 'start_st':str, 'end_st':str})\n",
    "train_plan   = pd.read_csv(FOLDER + 'slot_train.csv', converters={'train': str, 'st_from':str, 'st_to':str})\n",
    "loco_info    = pd.read_csv(FOLDER + 'loco_attributes.csv', converters={'train':str, 'loco':str, 'st_from':str, 'st_to':str})\n",
    "loco_plan    = pd.read_csv(FOLDER + 'slot_loco.csv', converters={'train':str, 'loco':str, 'st_from':str, 'st_to':str})\n",
    "team_info    = pd.read_csv(FOLDER + 'team_attributes.csv', converters={'team':str,'depot':str, 'oper_location':str, \\\n",
    "                                                     'st_from':str, 'st_to':str, 'loco':str, 'depot_st':str})\n",
    "team_plan    = pd.read_csv(FOLDER + 'slot_team.csv', converters={'team':str,'loco':str, 'st_from':str, 'st_to':str})\n",
    "loco_series  = pd.read_csv(FOLDER + 'loco_series.csv')\n",
    "task         = pd.read_csv(FOLDER + 'task.csv', converters={'st_from':str, 'st_to':str, 'st_next':str})\n",
    "\n",
    "st_names     = stations[['station', 'name', 'esr']].drop_duplicates().set_index('station')\n",
    "team_info.regions = team_info.regions.apply(literal_eval)\n",
    "\n",
    "print('Время составления отчета:', time.strftime(time_format, time.localtime()))\n",
    "print('Время запуска планировщика: %s (%d)' % (time.strftime(time_format, time.localtime(current_time)), current_time))"
   ]
  },
  {
   "cell_type": "code",
   "execution_count": 1539,
   "metadata": {
    "collapsed": false
   },
   "outputs": [
    {
     "data": {
      "text/html": [
       "<div>\n",
       "<table border=\"1\" class=\"dataframe\">\n",
       "  <thead>\n",
       "    <tr style=\"text-align: right;\">\n",
       "      <th></th>\n",
       "      <th>train</th>\n",
       "      <th>st_from</th>\n",
       "      <th>st_to</th>\n",
       "      <th>link</th>\n",
       "      <th>time_start</th>\n",
       "      <th>time_end</th>\n",
       "    </tr>\n",
       "  </thead>\n",
       "  <tbody>\n",
       "    <tr>\n",
       "      <th>839</th>\n",
       "      <td>1003721</td>\n",
       "      <td>2000036796</td>\n",
       "      <td>2000036792</td>\n",
       "      <td>['2000036796', '2000036792']</td>\n",
       "      <td>1438178400</td>\n",
       "      <td>1438181700</td>\n",
       "    </tr>\n",
       "    <tr>\n",
       "      <th>840</th>\n",
       "      <td>1003721</td>\n",
       "      <td>2000036792</td>\n",
       "      <td>2000036784</td>\n",
       "      <td>['2000036792', '2000036784']</td>\n",
       "      <td>1438181700</td>\n",
       "      <td>1438185180</td>\n",
       "    </tr>\n",
       "    <tr>\n",
       "      <th>841</th>\n",
       "      <td>1003721</td>\n",
       "      <td>2000036784</td>\n",
       "      <td>2000036518</td>\n",
       "      <td>['2000036784', '2000036518']</td>\n",
       "      <td>1438185180</td>\n",
       "      <td>1438197735</td>\n",
       "    </tr>\n",
       "  </tbody>\n",
       "</table>\n",
       "</div>"
      ],
      "text/plain": [
       "       train     st_from       st_to                          link  \\\n",
       "839  1003721  2000036796  2000036792  ['2000036796', '2000036792']   \n",
       "840  1003721  2000036792  2000036784  ['2000036792', '2000036784']   \n",
       "841  1003721  2000036784  2000036518  ['2000036784', '2000036518']   \n",
       "\n",
       "     time_start    time_end  \n",
       "839  1438178400  1438181700  \n",
       "840  1438181700  1438185180  \n",
       "841  1438185180  1438197735  "
      ]
     },
     "execution_count": 1539,
     "metadata": {},
     "output_type": "execute_result"
    }
   ],
   "source": [
    "train_id = '1003721'\n",
    "train_info[train_info.train == train_id]\n",
    "train_plan[train_plan.train == train_id]"
   ]
  },
  {
   "cell_type": "code",
   "execution_count": 1540,
   "metadata": {
    "collapsed": false
   },
   "outputs": [],
   "source": [
    "def nice_time(t):        \n",
    "    return time.strftime(time_format, time.localtime(t)) if (np.isnan(t) == False) & (t != -1) else None\n",
    "\n",
    "def add_info(df):    \n",
    "    if 'st_from' in df.columns:\n",
    "        df['st_from_name'] = df.st_from.map(st_names.name)\n",
    "    if 'st_to' in df.columns:\n",
    "        df['st_to_name'] = df.st_to.map(st_names.name)\n",
    "    if 'time_start' in df.columns:\n",
    "        df['time_start_f'] = df.time_start.apply(lambda x: nice_time(x))\n",
    "    if 'time_end' in df.columns:\n",
    "        df['time_end_f'] = df.time_end.apply(lambda x: nice_time(x))\n",
    "    if 'oper_location' in df.columns:\n",
    "        df['oper_location_name'] = df.oper_location.map(st_names.name)    \n",
    "        df.oper_location_name.fillna(0, inplace=True)\n",
    "    if ('oper_location' in df.columns) & ('st_from' in df.columns) & ('st_to' in df.columns):        \n",
    "        df['loc_name'] = df.oper_location_name\n",
    "        df.loc[df.loc_name == 0, 'loc_name'] = df.st_from_name + ' - ' + df.st_to_name\n",
    "    if 'oper_time' in df.columns:\n",
    "        df['oper_time_f'] = df.oper_time.apply(lambda x: nice_time(x))    \n",
    "    \n",
    "# Добавляем во все таблицы названия станций на маршруте и времена отправления/прибытия в читабельном формате\n",
    "add_info(train_plan), add_info(loco_plan), add_info(team_plan)\n",
    "add_info(train_info), add_info(loco_info), add_info(team_info)\n",
    "\n",
    "# Мержим таблицы _plan и _info для поездов, локомотивов и бригад\n",
    "train_plan = train_plan.merge(train_info, on='train', suffixes=('', '_info'), how='left')\n",
    "loco_plan = loco_plan.merge(loco_info, on='loco', suffixes=('', '_info'), how='left')\n",
    "team_plan = team_plan.merge(team_info, on='team', suffixes=('', '_info'), how='left')\n",
    "\n",
    "# Добавляем признаки поезда и бригады (реальный/локомотиво-резервный/объемный и реальная/фейковая)\n",
    "train_plan['train_type'] = train_plan.train.apply(lambda x: str(x)[0])\n",
    "team_plan['team_type'] = team_plan.team.apply(lambda x: 'Реальная' if str(x)[0] == '2' else 'Фейковая')\n",
    "\n",
    "# Для локомотиво-резервных и объемных поездов заполняем номер\n",
    "train_plan.loc[train_plan.train_type.isin(['8', '9']), 'number'] = train_plan.train.apply(lambda x: int(str(x)[-4:]))\n",
    "\n",
    "# Добавляем подвязанные локомотив и бригаду в таблицы loco_plan и train_plan\n",
    "def to_map(df, col):\n",
    "    return df.drop_duplicates(col).set_index(col)\n",
    "\n",
    "train_plan['train_time'] = list(zip(train_plan.train, train_plan.time_start))\n",
    "loco_plan['train_time'] = list(zip(loco_plan.train, loco_plan.time_start))\n",
    "loco_plan['loco_time'] = list(zip(loco_plan.loco, loco_plan.time_start))\n",
    "team_plan['loco_time'] = list(zip(team_plan.loco, team_plan.time_start))\n",
    "loco_plan['team'] = loco_plan.loco_time.map(to_map(team_plan, 'loco_time').team)\n",
    "train_plan['loco'] = train_plan.train_time.map(to_map(loco_plan, 'train_time').loco)\n",
    "train_plan['team'] = train_plan.train_time.map(to_map(loco_plan, 'train_time').team)\n",
    "train_plan.drop('train_time', axis=1, inplace=True)\n",
    "loco_plan.drop(['train_time', 'loco_time'], axis=1, inplace=True)\n",
    "team_plan.drop('loco_time', axis=1, inplace=True)"
   ]
  },
  {
   "cell_type": "markdown",
   "metadata": {},
   "source": [
    "<a id='all_plan'></a>\n",
    "## Проверка планирования всех реальных поездов [ToC](#toc)"
   ]
  },
  {
   "cell_type": "code",
   "execution_count": 1541,
   "metadata": {
    "collapsed": true
   },
   "outputs": [],
   "source": [
    "routes = pd.read_csv(FOLDER + 'routes.csv', dtype={'st_from':str, 'st_to':str, 'train':str})\n",
    "add_info(routes)\n",
    "routes.dropna(subset=['st_from_name', 'st_to_name'], how='any', inplace=True)\n",
    "start_st = routes.drop_duplicates('train').set_index('train')\n",
    "end_st = routes.drop_duplicates('train', keep='last').set_index('train')\n",
    "train_info['first_st'] = train_info.train.map(start_st.st_from_name)\n",
    "train_info['last_st'] = train_info.train.map(end_st.st_to_name)"
   ]
  },
  {
   "cell_type": "code",
   "execution_count": 1542,
   "metadata": {
    "collapsed": false
   },
   "outputs": [
    {
     "name": "stdout",
     "output_type": "stream",
     "text": [
      "Всего 0 реальных поездов (0.00%) не запланировано:\n",
      "Empty DataFrame\n",
      "Columns: [train, number, ind434, loc_name, in_plan, first_st, last_st]\n",
      "Index: []\n"
     ]
    }
   ],
   "source": [
    "train_info['in_plan'] = train_info.train.isin(train_plan.train)\n",
    "a = train_info[(train_info.in_plan == False) \n",
    "               & (train_info.number > 1000) \n",
    "               & (train_info.number < 9000)\n",
    "               & ((train_info.st_from != train_info.st_to) | (train_info.st_from == -1))\\\n",
    "              ].sort_values('number')\n",
    "with pd.option_context('display.max_colwidth', 25):\n",
    "    add_header('Всего %d реальных поездов (%.2f%%) не запланировано:' \n",
    "               % (a.train.count(), 100 * a.train.count() / train_info.train.count()))\n",
    "    add_line(a[['train', 'number', 'ind434', 'loc_name', 'in_plan', 'first_st', 'last_st']])"
   ]
  },
  {
   "cell_type": "markdown",
   "metadata": {},
   "source": [
    "<a id='oddity'></a>\n",
    "## Проверка совпадения четности номеров поездов и направления движения [ToC](#toc)"
   ]
  },
  {
   "cell_type": "code",
   "execution_count": 1543,
   "metadata": {
    "collapsed": false
   },
   "outputs": [],
   "source": [
    "add_header('Проверки по поездам', h=1, p=False)\n",
    "add_header('Проверка совпадения четности номеров поездов и направления движения', h=2, p=False)"
   ]
  },
  {
   "cell_type": "code",
   "execution_count": 1544,
   "metadata": {
    "collapsed": false
   },
   "outputs": [
    {
     "name": "stdout",
     "output_type": "stream",
     "text": [
      "Все четности совпадают\n"
     ]
    }
   ],
   "source": [
    "train_plan['dir'] = train_plan.link.map(links.set_index('link').dir)\n",
    "train_plan['odevity'] = (((train_plan.number / 2).astype(int) * 2 == train_plan.number).astype(int) + 1) % 2\n",
    "train_plan['check_odd'] = train_plan.dir == train_plan.odevity\n",
    "cols = ['train', 'number', 'st_from_name', 'st_to_name', 'dir', 'odevity', 'check_odd']\n",
    "fail_dir_number = train_plan.drop_duplicates(subset=['train', 'number']).loc[(train_plan.train_type.isin(['8', '9'])) &\n",
    "                                                          (train_plan.check_odd == False), cols]\n",
    "if fail_dir_number.empty == False:\n",
    "    add_header('Четность номеров поездов и направления не совпадает для %d поездов (показаны первые 10):' %\n",
    "         len(fail_dir_number.index))\n",
    "    pd.set_option('display.max_colwidth', 35)\n",
    "    add_line(fail_dir_number.head(10))\n",
    "else:\n",
    "    add_line('Все четности совпадают')"
   ]
  },
  {
   "cell_type": "markdown",
   "metadata": {},
   "source": [
    "<a id='stop_time'></a>\n",
    "## Анализ времен стоянок поездов на станциях смены локомотивов и бригад [ToC](#toc)"
   ]
  },
  {
   "cell_type": "markdown",
   "metadata": {},
   "source": [
    "#### Параметры для анализа"
   ]
  },
  {
   "cell_type": "code",
   "execution_count": 1545,
   "metadata": {
    "collapsed": false
   },
   "outputs": [],
   "source": [
    "# Минимальное время стоянки поезда для смены локомотива\n",
    "min_loco_stop = 1 * 3600 # 1 hour = 60 min\n",
    "\n",
    "# Минимальное время стоянки поезда для смены бригады\n",
    "min_team_stop = 15 * 60 # 15 min\n",
    "\n",
    "# Горизонт проверки\n",
    "hor = 24 * 3600"
   ]
  },
  {
   "cell_type": "markdown",
   "metadata": {},
   "source": [
    "<a id='stop_loco'></a>\n",
    "### Смена локомотивов [ToC](#toc)"
   ]
  },
  {
   "cell_type": "code",
   "execution_count": 1546,
   "metadata": {
    "collapsed": true
   },
   "outputs": [],
   "source": [
    "add_header('Анализ смен локомотивов на маршрутах поездов', h=2, p=False)"
   ]
  },
  {
   "cell_type": "markdown",
   "metadata": {},
   "source": [
    "#### Ищем станции смены локомотивов и считаем средние времена"
   ]
  },
  {
   "cell_type": "code",
   "execution_count": 1547,
   "metadata": {
    "collapsed": false
   },
   "outputs": [],
   "source": [
    "train_plan.columns\n",
    "train_plan.loco.fillna('-1', inplace=True)\n",
    "train_plan.team.fillna('-1', inplace=True)\n",
    "\n",
    "train_plan['train_end'] = train_plan.train != train_plan.train.shift(-1)\n",
    "train_plan['loco_end'] = (train_plan.loco != train_plan.loco.shift(-1)) | (train_plan.train_end)\n",
    "train_plan['team_end'] = (train_plan.team != train_plan.team.shift(-1)) | (train_plan.loco_end)\n",
    "\n",
    "train_plan['stop_time'] = train_plan.time_start.shift(-1) - train_plan.time_end\n",
    "train_plan['stop_time_h'] = np.round((train_plan.stop_time / 3600), 2)\n",
    "\n",
    "train_plan['next_loco'] = train_plan.loco.shift(-1)\n",
    "train_plan['next_team'] = train_plan.team.shift(-1)\n",
    "\n",
    "cols = ['train', 'st_from_name', 'st_to_name', 'loco', 'team', 'stop_time_h', 'next_loco']\n",
    "loco_change = train_plan[(train_plan.train_end == False) & (train_plan.loco_end == True)\n",
    "                        & (train_plan.time_end < current_time + hor)]"
   ]
  },
  {
   "cell_type": "code",
   "execution_count": 1548,
   "metadata": {
    "collapsed": false
   },
   "outputs": [
    {
     "name": "stdout",
     "output_type": "stream",
     "text": [
      "Средние времена на смену локомотивов:\n",
      "- по всем сменам: 11.18 ч.\n",
      "- по всем сменам с ненулевым временем: 11.18 ч.\n"
     ]
    }
   ],
   "source": [
    "add_header('Средние времена на смену локомотивов:')\n",
    "add_line('- по всем сменам: %.2f ч.' % loco_change.stop_time_h.mean())\n",
    "add_line('- по всем сменам с ненулевым временем: %.2f ч.' % loco_change[loco_change.stop_time_h > 0].stop_time_h.mean())"
   ]
  },
  {
   "cell_type": "markdown",
   "metadata": {},
   "source": [
    "#### Ищем поезда, у которых смена локомотивов происходит за нулевое время"
   ]
  },
  {
   "cell_type": "code",
   "execution_count": 1549,
   "metadata": {
    "collapsed": false
   },
   "outputs": [
    {
     "name": "stdout",
     "output_type": "stream",
     "text": [
      "Нет локомотивов, для которых смена бригад происходит за нулевое время\n"
     ]
    }
   ],
   "source": [
    "cols = ['train', 'st_from_name', 'st_to_name', 'loco', 'next_loco', 'stop_time_h']\n",
    "nill_stop_times = loco_change[loco_change.stop_time == 0]\n",
    "if not nill_stop_times.empty:\n",
    "    add_header('Всего %d поездов, для которых смена локомотивов происходит за нулевое время. Примеры:' \n",
    "               % nill_stop_times.train.count())\n",
    "    add_line(nill_stop_times[cols].head())\n",
    "    cols = ['train', 'st_from_name', 'st_to_name', 'time_start_f', 'time_end_f', 'loco', 'team']\n",
    "    add_line('')\n",
    "    add_header('Полный план по одному из таких поездов:')\n",
    "    for train in nill_stop_times.train.values[:1]:\n",
    "        add_line(train_plan[train_plan.train == train][cols])\n",
    "else:\n",
    "    add_header('Нет локомотивов, для которых смена бригад происходит за нулевое время')"
   ]
  },
  {
   "cell_type": "markdown",
   "metadata": {},
   "source": [
    "#### Составляем статистику по всем станциям смены, загружаем список приоритетных станций смены"
   ]
  },
  {
   "cell_type": "code",
   "execution_count": 1550,
   "metadata": {
    "collapsed": false
   },
   "outputs": [],
   "source": [
    "cols = ['train', 'st_from_name', 'st_to_name', 'loco', 'next_loco', 'stop_time_h']\n",
    "no_nill_stops = loco_change[loco_change.stop_time > 0]\n",
    "no_nill_stops[cols]\n",
    "#no_nill_stops.groupby('st_to_name').stop_time_h.mean()\n",
    "st_change = no_nill_stops.groupby('st_to_name').train.count().to_frame()\\\n",
    "            .join(no_nill_stops.groupby('st_to_name').stop_time_h.mean()).reset_index()\n",
    "st_change['stop_time_h'] = st_change.stop_time_h.apply(lambda x: np.round(x, 2))\n",
    "st_change.sort_values('train', ascending=False).head(10)\n",
    "priority_change_stations = pd.read_csv(FOLDER + 'mandatory/priority_loco_change_stations.csv').st_name.values"
   ]
  },
  {
   "cell_type": "markdown",
   "metadata": {},
   "source": [
    "#### Ищем поезда, у которых смена локомотивов происходит на неправильных станциях"
   ]
  },
  {
   "cell_type": "code",
   "execution_count": 1551,
   "metadata": {
    "collapsed": false
   },
   "outputs": [
    {
     "name": "stdout",
     "output_type": "stream",
     "text": [
      "Всего 14 поездов, у которых смена локомотива, скорее всего, происходит на неправильных станциях\n",
      "Примеры таких станций:\n",
      "          st_to_name  train  stop_time_h\n",
      " КОРШУНИХА-АНГАРСКАЯ      7         3.26\n",
      "                ЛЕНА      7        11.28\n",
      "\n",
      "Поезда, у которых смена локомотива происходит на станции КОРШУНИХА-АНГАРСКАЯ:\n",
      "   train    st_from_name           st_to_name     loco next_loco  stop_time_h\n",
      " 1002016  ГИДРОСТРОИТЕЛЬ  КОРШУНИХА-АНГАРСКАЯ  2000105        -1         3.00\n",
      " 1002106  ГИДРОСТРОИТЕЛЬ  КОРШУНИХА-АНГАРСКАЯ  2000211        -1         4.12\n",
      " 1002118  ГИДРОСТРОИТЕЛЬ  КОРШУНИХА-АНГАРСКАЯ  2000118        -1         2.68\n",
      " 1002114  ГИДРОСТРОИТЕЛЬ  КОРШУНИХА-АНГАРСКАЯ  2000114        -1         2.77\n",
      " 1002206  ГИДРОСТРОИТЕЛЬ  КОРШУНИХА-АНГАРСКАЯ  2000204        -1         3.06\n",
      " 1002202  ГИДРОСТРОИТЕЛЬ  КОРШУНИХА-АНГАРСКАЯ  2000202        -1         2.66\n",
      " 1002214  ГИДРОСТРОИТЕЛЬ  КОРШУНИХА-АНГАРСКАЯ  2000214        -1         4.52\n",
      "\n",
      "Полный план по одному из таких поездов:\n",
      "   train         st_from_name           st_to_name time_start_f   time_end_f     loco       loc_name loco_info\n",
      " 1002016                 ЮРТЫ               ТАЙШЕТ  29/07 20:06  29/07 21:03  2001507  ЮРТЫ - ТАЙШЕТ   2001507\n",
      " 1002016               ТАЙШЕТ                ТОРЕЯ  30/07 01:25  30/07 05:28  2000105  ЮРТЫ - ТАЙШЕТ   2001507\n",
      " 1002016                ТОРЕЯ                ТУРМА  30/07 05:28  30/07 06:27  2000105  ЮРТЫ - ТАЙШЕТ   2001507\n",
      " 1002016                ТУРМА            ВИХОРЕВКА  30/07 06:27  30/07 06:57  2000105  ЮРТЫ - ТАЙШЕТ   2001507\n",
      " 1002016            ВИХОРЕВКА             МОРГУДОН  30/07 10:10  30/07 10:29  2000105  ЮРТЫ - ТАЙШЕТ   2001507\n",
      " 1002016             МОРГУДОН          ГАЛАЧИНСКИЙ  30/07 10:29  30/07 10:50  2000105  ЮРТЫ - ТАЙШЕТ   2001507\n",
      " 1002016          ГАЛАЧИНСКИЙ     ПАДУНСКИЕ ПОРОГИ  30/07 10:50  30/07 11:37  2000105  ЮРТЫ - ТАЙШЕТ   2001507\n",
      " 1002016     ПАДУНСКИЕ ПОРОГИ       ГИДРОСТРОИТЕЛЬ  30/07 11:37  30/07 12:05  2000105  ЮРТЫ - ТАЙШЕТ   2001507\n",
      " 1002016       ГИДРОСТРОИТЕЛЬ  КОРШУНИХА-АНГАРСКАЯ  30/07 12:05  30/07 16:05  2000105  ЮРТЫ - ТАЙШЕТ   2001507\n",
      " 1002016  КОРШУНИХА-АНГАРСКАЯ            ХРЕБТОВАЯ  30/07 19:05  30/07 19:44       -1  ЮРТЫ - ТАЙШЕТ   2001507\n",
      " 1002016            ХРЕБТОВАЯ                 ЛЕНА  30/07 19:44  30/07 22:16       -1  ЮРТЫ - ТАЙШЕТ   2001507\n",
      " 1002016                 ЛЕНА               ЯКУРИМ  31/07 00:04  31/07 00:19       -1  ЮРТЫ - ТАЙШЕТ   2001507\n",
      " 1002016               ЯКУРИМ       ЛЕНА-ВОСТОЧНАЯ  31/07 00:19  31/07 00:29       -1  ЮРТЫ - ТАЙШЕТ   2001507\n",
      " 1002016       ЛЕНА-ВОСТОЧНАЯ            ЧУДНИЧНЫЙ  31/07 00:29  31/07 01:12       -1  ЮРТЫ - ТАЙШЕТ   2001507\n",
      " 1002016            ЧУДНИЧНЫЙ             ЗВЕЗДНАЯ  31/07 01:12  31/07 01:53       -1  ЮРТЫ - ТАЙШЕТ   2001507\n",
      " 1002016             ЗВЕЗДНАЯ                  НИЯ  31/07 01:53  31/07 02:42       -1  ЮРТЫ - ТАЙШЕТ   2001507\n",
      " 1002016                  НИЯ              ТАКОВКА  31/07 02:42  31/07 03:10       -1  ЮРТЫ - ТАЙШЕТ   2001507\n",
      " 1002016              ТАКОВКА               НЕБЕЛЬ  31/07 03:10  31/07 03:45       -1  ЮРТЫ - ТАЙШЕТ   2001507\n",
      " 1002016               НЕБЕЛЬ              КИРЕНГА  31/07 03:45  31/07 04:46       -1  ЮРТЫ - ТАЙШЕТ   2001507\n",
      " 1002016              КИРЕНГА              КУНЕРМА  31/07 04:46  31/07 07:12       -1  ЮРТЫ - ТАЙШЕТ   2001507\n",
      " 1002016              КУНЕРМА                ДАБАН  31/07 07:12  31/07 08:11       -1  ЮРТЫ - ТАЙШЕТ   2001507\n",
      " 1002016                ДАБАН                  ТЫЯ  31/07 08:11  31/07 08:56       -1  ЮРТЫ - ТАЙШЕТ   2001507\n",
      " 1002016                  ТЫЯ      СЕВЕРОБАЙКАЛЬСК  31/07 08:56  31/07 09:20       -1  ЮРТЫ - ТАЙШЕТ   2001507\n",
      " 1002016      СЕВЕРОБАЙКАЛЬСК           НОВЫЙ УОЯН  31/07 10:52  31/07 14:31       -1  ЮРТЫ - ТАЙШЕТ   2001507\n",
      " 1002016           НОВЫЙ УОЯН            АНГАРАКАН  31/07 14:31  31/07 16:44       -1  ЮРТЫ - ТАЙШЕТ   2001507\n",
      " 1002016            АНГАРАКАН             КАЗАНКАН  31/07 16:44  31/07 17:38       -1  ЮРТЫ - ТАЙШЕТ   2001507\n",
      " 1002016             КАЗАНКАН              ТАКСИМО  31/07 17:38  31/07 19:47       -1  ЮРТЫ - ТАЙШЕТ   2001507\n"
     ]
    }
   ],
   "source": [
    "# bad change stations\n",
    "bad_changes = st_change[st_change.st_to_name.isin(priority_change_stations) == False].sort_values('train', ascending=False)\n",
    "if not bad_changes.empty:\n",
    "    add_header('Всего %d поездов, у которых смена локомотива, скорее всего, происходит на неправильных станциях' \n",
    "               % bad_changes.train.sum())\n",
    "    add_header('Примеры таких станций:')\n",
    "    add_line(bad_changes.head(10))\n",
    "    add_line('')\n",
    "    cols = ['train', 'st_from_name', 'st_to_name', 'loco', 'next_loco', 'stop_time_h']\n",
    "    st = bad_changes.iloc[0].st_to_name\n",
    "    add_line('Поезда, у которых смена локомотива происходит на станции %s:' % st)\n",
    "    add_line(loco_change[loco_change.st_to_name == st][cols])\n",
    "\n",
    "    train_plan['loco_info'] = train_plan.train.map(loco_info.drop_duplicates('train').set_index('train').loco)\n",
    "    cols = ['train', 'st_from_name', 'st_to_name', 'time_start_f', 'time_end_f', 'loco', 'loc_name', 'loco_info']\n",
    "    add_line('')\n",
    "    add_header('Полный план по одному из таких поездов:')\n",
    "    with pd.option_context('display.max_colwidth', 20):\n",
    "        add_line(train_plan[train_plan.train == loco_change[loco_change.st_to_name == st].iloc[0].train][cols])\n",
    "else:\n",
    "    add_header('Нет поездов, у которых смена локомотивов происходит на неправильной станции')"
   ]
  },
  {
   "cell_type": "markdown",
   "metadata": {},
   "source": [
    "#### Ищем поезда со слишком долгой стоянкой для смены локомотивов"
   ]
  },
  {
   "cell_type": "code",
   "execution_count": 1552,
   "metadata": {
    "collapsed": false
   },
   "outputs": [
    {
     "name": "stdout",
     "output_type": "stream",
     "text": [
      "Всего 7 случаев смены локомотива со стоянкой поезда более суток. Примеры:\n",
      "   train st_from_name st_to_name     loco next_loco  stop_time_h\n",
      " 1002028         ЮРТЫ     ТАЙШЕТ  2001513   2000307        35.45\n",
      " 1002044         ЮРТЫ     ТАЙШЕТ  2001521   2000203        30.67\n",
      " 1002032         ЮРТЫ     ТАЙШЕТ  2001515   2000309        28.60\n",
      " 1002056         ЮРТЫ     ТАЙШЕТ  2001527   2000112        27.79\n",
      " 1002054         ЮРТЫ     ТАЙШЕТ  2001526   2000313        26.42\n",
      " 1002026         ЮРТЫ     ТАЙШЕТ  2001512   2000280        26.19\n",
      " 1002042         ЮРТЫ     ТАЙШЕТ  2001520   2000116        25.84\n"
     ]
    }
   ],
   "source": [
    "cols = ['train', 'st_from_name', 'st_to_name', 'loco', 'next_loco', 'stop_time_h']\n",
    "long_change = loco_change[(loco_change.st_to_name.isin(priority_change_stations)) \n",
    "            & (loco_change.stop_time_h > 24)].sort_values('stop_time_h', ascending=False)\n",
    "add_header('Всего %d случаев смены локомотива со стоянкой поезда более суток. Примеры:' % long_change.train.count())\n",
    "add_line(long_change[cols].head(10))"
   ]
  },
  {
   "cell_type": "code",
   "execution_count": 1553,
   "metadata": {
    "collapsed": false
   },
   "outputs": [
    {
     "data": {
      "text/html": [
       "<div>\n",
       "<table border=\"1\" class=\"dataframe\">\n",
       "  <thead>\n",
       "    <tr style=\"text-align: right;\">\n",
       "      <th></th>\n",
       "      <th>train</th>\n",
       "      <th>st_from_name</th>\n",
       "      <th>st_to_name</th>\n",
       "      <th>loco</th>\n",
       "      <th>next_loco</th>\n",
       "      <th>stop_time_h</th>\n",
       "    </tr>\n",
       "  </thead>\n",
       "  <tbody>\n",
       "  </tbody>\n",
       "</table>\n",
       "</div>"
      ],
      "text/plain": [
       "Empty DataFrame\n",
       "Columns: [train, st_from_name, st_to_name, loco, next_loco, stop_time_h]\n",
       "Index: []"
      ]
     },
     "execution_count": 1553,
     "metadata": {},
     "output_type": "execute_result"
    }
   ],
   "source": [
    "long_change[long_change.st_to_name == 'КАРЫМСКАЯ'][cols]"
   ]
  },
  {
   "cell_type": "code",
   "execution_count": 1554,
   "metadata": {
    "collapsed": false
   },
   "outputs": [
    {
     "data": {
      "text/html": [
       "<div>\n",
       "<table border=\"1\" class=\"dataframe\">\n",
       "  <thead>\n",
       "    <tr style=\"text-align: right;\">\n",
       "      <th></th>\n",
       "      <th>index</th>\n",
       "      <th>train</th>\n",
       "      <th>st_from_name</th>\n",
       "      <th>st_to_name</th>\n",
       "      <th>time_start_f</th>\n",
       "      <th>time_end_f</th>\n",
       "      <th>last_st_name</th>\n",
       "    </tr>\n",
       "  </thead>\n",
       "  <tbody>\n",
       "  </tbody>\n",
       "</table>\n",
       "</div>"
      ],
      "text/plain": [
       "Empty DataFrame\n",
       "Columns: [index, train, st_from_name, st_to_name, time_start_f, time_end_f, last_st_name]\n",
       "Index: []"
      ]
     },
     "execution_count": 1554,
     "metadata": {},
     "output_type": "execute_result"
    }
   ],
   "source": [
    "plan_cols = ['train', 'st_from_name', 'st_to_name', 'time_start_f', 'time_end_f', 'last_st_name']\n",
    "last_stations = train_plan.drop_duplicates('train', keep='last').set_index('train').st_to_name\n",
    "train_plan['last_st_name'] = train_plan.train.map(last_stations)\n",
    "train_plan['all_stations'] = train_plan.train.map(train_plan.groupby('train').st_from_name.unique())\n",
    "a = train_plan[(train_plan.st_to_name == 'КАРЫМСКАЯ') & (train_plan.train_type != '8')\n",
    "              & (train_plan.time_end < current_time + 6*3600) \n",
    "              & (train_plan.st_from_name == 'ЧИТА I') \n",
    "                & (train_plan.st_to_name != train_plan.last_st_name)\n",
    "              & (train_plan.all_stations.apply(lambda x: 'АДРИАНОВКА' not in x))].sort_values('time_end')[plan_cols]\n",
    "a.reset_index()"
   ]
  },
  {
   "cell_type": "code",
   "execution_count": 1555,
   "metadata": {
    "collapsed": false
   },
   "outputs": [
    {
     "data": {
      "text/html": [
       "<div>\n",
       "<table border=\"1\" class=\"dataframe\">\n",
       "  <thead>\n",
       "    <tr style=\"text-align: right;\">\n",
       "      <th></th>\n",
       "      <th>index</th>\n",
       "      <th>train</th>\n",
       "      <th>st_from_name</th>\n",
       "      <th>st_to_name</th>\n",
       "      <th>time_start_f</th>\n",
       "      <th>time_end_f</th>\n",
       "      <th>last_st_name</th>\n",
       "      <th>all_stations</th>\n",
       "    </tr>\n",
       "  </thead>\n",
       "  <tbody>\n",
       "  </tbody>\n",
       "</table>\n",
       "</div>"
      ],
      "text/plain": [
       "Empty DataFrame\n",
       "Columns: [index, train, st_from_name, st_to_name, time_start_f, time_end_f, last_st_name, all_stations]\n",
       "Index: []"
      ]
     },
     "execution_count": 1555,
     "metadata": {},
     "output_type": "execute_result"
    }
   ],
   "source": [
    "plan_cols = ['train', 'st_from_name', 'st_to_name', 'time_start_f', 'time_end_f', 'last_st_name', 'all_stations']\n",
    "last_stations = train_plan.drop_duplicates('train', keep='last').set_index('train').st_to_name\n",
    "train_plan['last_st_name'] = train_plan.train.map(last_stations)\n",
    "\n",
    "#train_plan['all_stations'] = train_plan.apply(lambda row: list(row.all_stations) + list(row.last_st_name), axis=1)\n",
    "#train_plan['all_stations'] = train_plan['all_stations']\n",
    "a = train_plan[(train_plan.st_to_name == 'КАРЫМСКАЯ')\n",
    "              & (train_plan.time_end < current_time + 6*3600) \n",
    "              & (train_plan.st_from_name == 'ТАРСКАЯ') \n",
    "              & (train_plan.all_stations.apply(lambda x: 'АДРИАНОВКА' not in x))].sort_values('time_end')[plan_cols]\n",
    "a.reset_index()"
   ]
  },
  {
   "cell_type": "markdown",
   "metadata": {},
   "source": [
    "1. 13 локомотивов прибывают на Карымскую за 6 часов со стороны Хабаровска.\n",
    "2. 28 поезд прибывает на Карымскую за 6 часов и должен следовать дальше в сторону Хабаровска.\n",
    "\n",
    "= Нехватка 15 локомотивов"
   ]
  },
  {
   "cell_type": "code",
   "execution_count": 1556,
   "metadata": {
    "collapsed": false
   },
   "outputs": [
    {
     "data": {
      "text/html": [
       "<div>\n",
       "<table border=\"1\" class=\"dataframe\">\n",
       "  <thead>\n",
       "    <tr style=\"text-align: right;\">\n",
       "      <th></th>\n",
       "      <th>index</th>\n",
       "      <th>loco</th>\n",
       "      <th>number</th>\n",
       "      <th>regions</th>\n",
       "      <th>loc_name</th>\n",
       "      <th>oper_time_f</th>\n",
       "      <th>ser_name</th>\n",
       "      <th>sections</th>\n",
       "      <th>is_planned</th>\n",
       "      <th>depot_name</th>\n",
       "    </tr>\n",
       "  </thead>\n",
       "  <tbody>\n",
       "  </tbody>\n",
       "</table>\n",
       "</div>"
      ],
      "text/plain": [
       "Empty DataFrame\n",
       "Columns: [index, loco, number, regions, loc_name, oper_time_f, ser_name, sections, is_planned, depot_name]\n",
       "Index: []"
      ]
     },
     "execution_count": 1556,
     "metadata": {},
     "output_type": "execute_result"
    }
   ],
   "source": [
    "loco_info['ser_name'] = loco_info.series.map(loco_series.set_index('ser_id').ser_name)\n",
    "loco_info['depot'] = loco_info.depot.apply(str)\n",
    "loco_info['depot_name'] = loco_info.depot.map(st_names.name)\n",
    "loco_info['is_planned'] = loco_info.loco.isin(loco_plan[loco_plan.state == 1].drop_duplicates('loco').loco)\n",
    "loco_cols = ['loco', 'number', 'regions', 'loc_name', 'oper_time_f', 'ser_name', 'sections', 'is_planned', 'depot_name']\n",
    "b = loco_info[(loco_info.loc_name == 'КАРЫМСКАЯ')][loco_cols]\n",
    "b.reset_index()\n",
    "#b[b.regions.apply(len) < 15]"
   ]
  },
  {
   "cell_type": "markdown",
   "metadata": {},
   "source": [
    "Локомотивов, которые могут работать на участке Карымская - Хабаровск, на начало планирования: 21"
   ]
  },
  {
   "cell_type": "markdown",
   "metadata": {},
   "source": [
    "<a id='stop_team'></a>\n",
    "### Смена бригад [ToC](#toc)"
   ]
  },
  {
   "cell_type": "code",
   "execution_count": 1557,
   "metadata": {
    "collapsed": true
   },
   "outputs": [],
   "source": [
    "add_header('Анализ смен бригад на маршрутах поездов', h=2, p=False)"
   ]
  },
  {
   "cell_type": "code",
   "execution_count": 1558,
   "metadata": {
    "collapsed": true
   },
   "outputs": [],
   "source": [
    "team_change = train_plan[(train_plan.loco_end == False) & (train_plan.team_end == True)\n",
    "                        & (train_plan.time_end < current_time + hor)]"
   ]
  },
  {
   "cell_type": "code",
   "execution_count": 1559,
   "metadata": {
    "collapsed": false
   },
   "outputs": [
    {
     "name": "stdout",
     "output_type": "stream",
     "text": [
      "Средние времена на смену бригады:\n",
      "- по всем сменам: 4.18 ч.\n",
      "- по всем сменам с ненулевым временем: 4.18 ч.\n"
     ]
    }
   ],
   "source": [
    "add_header('Средние времена на смену бригады:')\n",
    "add_line('- по всем сменам: %.2f ч.' % team_change.stop_time_h.mean())\n",
    "add_line('- по всем сменам с ненулевым временем: %.2f ч.' % team_change[team_change.stop_time_h > 0].stop_time_h.mean())"
   ]
  },
  {
   "cell_type": "markdown",
   "metadata": {},
   "source": [
    "#### Ищем поезда, у которых смена бригады происходит за нулевое время"
   ]
  },
  {
   "cell_type": "code",
   "execution_count": 1560,
   "metadata": {
    "collapsed": false
   },
   "outputs": [
    {
     "name": "stdout",
     "output_type": "stream",
     "text": [
      "Нет поездов, для которых смена бригад происходит за нулевое время\n"
     ]
    }
   ],
   "source": [
    "cols = ['train', 'st_from_name', 'st_to_name', 'team', 'next_team', 'stop_time_h']\n",
    "nill_stop_times = team_change[team_change.stop_time == 0]\n",
    "if not nill_stop_times.empty:\n",
    "    add_header('Всего %d поездов, для которых смена бригад происходит за нулевое время. Примеры:' \n",
    "               % nill_stop_times.train.count())\n",
    "    add_line(nill_stop_times[cols].head())\n",
    "    cols = ['train', 'st_from_name', 'st_to_name', 'time_start_f', 'time_end_f', 'loco', 'team']\n",
    "    add_line('')\n",
    "    add_header('Полный план по одному из таких поездов:')\n",
    "    for train in nill_stop_times.train.values[:1]:\n",
    "        add_line(train_plan[train_plan.train == train][cols])\n",
    "else:\n",
    "    add_header('Нет поездов, для которых смена бригад происходит за нулевое время')"
   ]
  },
  {
   "cell_type": "markdown",
   "metadata": {},
   "source": [
    "#### Ищем поезда со слишком долгой стоянкой для смены бригады"
   ]
  },
  {
   "cell_type": "code",
   "execution_count": 1561,
   "metadata": {
    "collapsed": false
   },
   "outputs": [
    {
     "name": "stdout",
     "output_type": "stream",
     "text": [
      "Всего 30 случаев смены бригад со стоянкой поезда более 6 часов. Примеры:\n",
      "   train     st_from_name           st_to_name     team next_team  stop_time_h\n",
      " 1002601       НОВЫЙ УОЯН      СЕВЕРОБАЙКАЛЬСК  9032021   9032018        12.54\n",
      " 1002603       НОВЫЙ УОЯН      СЕВЕРОБАЙКАЛЬСК  9044002   9032017        11.19\n",
      " 1002615       НОВЫЙ УОЯН      СЕВЕРОБАЙКАЛЬСК  9032025   9032013         9.03\n",
      " 1002721        АНГАРАКАН           НОВЫЙ УОЯН  9044011   9032003         8.68\n",
      " 1002613       НОВЫЙ УОЯН      СЕВЕРОБАЙКАЛЬСК  9032024   9032012         8.61\n",
      " 1002703        АНГАРАКАН           НОВЫЙ УОЯН  9044010   9032021         7.43\n",
      " 1002701        АНГАРАКАН           НОВЫЙ УОЯН  9044008   9271026         7.29\n",
      " 1002502  СЕВЕРОБАЙКАЛЬСК           НОВЫЙ УОЯН  9032417   9044010         6.95\n",
      " 1002403        ХРЕБТОВАЯ  КОРШУНИХА-АНГАРСКАЯ  9257029   9257016         6.23\n",
      " 1002401        ХРЕБТОВАЯ  КОРШУНИХА-АНГАРСКАЯ  9271007   9257017         6.18\n",
      "\n",
      "Полный план по одному из таких поездов:\n",
      "   train         st_from_name           st_to_name time_start_f   time_end_f     loco     team\n",
      " 1002601           НОВЫЙ УОЯН      СЕВЕРОБАЙКАЛЬСК  29/07 20:30  30/07 00:17  2000761  9032021\n",
      " 1002601      СЕВЕРОБАЙКАЛЬСК                  ТЫЯ  30/07 12:50  30/07 13:27  2000761  9032018\n",
      " 1002601                  ТЫЯ                ДАБАН  30/07 13:27  30/07 14:30  2000761  9032018\n",
      " 1002601                ДАБАН              КУНЕРМА  30/07 14:30  30/07 15:25  2000761  9032018\n",
      " 1002601              КУНЕРМА              КИРЕНГА  30/07 15:25  30/07 17:40  2000761  9032018\n",
      " 1002601              КИРЕНГА               НЕБЕЛЬ  30/07 17:40  30/07 18:26  2000761  9032018\n",
      " 1002601               НЕБЕЛЬ              ТАКОВКА  30/07 18:26  30/07 18:53  2000761  9032018\n",
      " 1002601              ТАКОВКА                  НИЯ  30/07 18:53  30/07 19:12  2000761  9032018\n",
      " 1002601                  НИЯ             ЗВЕЗДНАЯ  30/07 19:12  30/07 19:57  2000761  9032018\n",
      " 1002601             ЗВЕЗДНАЯ            ЧУДНИЧНЫЙ  30/07 19:57  30/07 20:30  2000761  9032018\n",
      " 1002601            ЧУДНИЧНЫЙ       ЛЕНА-ВОСТОЧНАЯ  30/07 20:30  30/07 21:02  2000761  9032018\n",
      " 1002601       ЛЕНА-ВОСТОЧНАЯ               ЯКУРИМ  30/07 21:02  30/07 21:09  2000761  9032018\n",
      " 1002601               ЯКУРИМ                 ЛЕНА  30/07 21:09  30/07 21:23  2000761  9032018\n",
      " 1002601                 ЛЕНА            ХРЕБТОВАЯ  30/07 21:33  31/07 00:27  2000211  9244018\n",
      " 1002601            ХРЕБТОВАЯ  КОРШУНИХА-АНГАРСКАЯ  31/07 00:27  31/07 01:01  2000211  9244018\n",
      " 1002601  КОРШУНИХА-АНГАРСКАЯ       ГИДРОСТРОИТЕЛЬ  31/07 01:01  31/07 05:13  2000211  9244018\n",
      " 1002601       ГИДРОСТРОИТЕЛЬ     ПАДУНСКИЕ ПОРОГИ  31/07 05:13  31/07 05:41  2000211  9244018\n",
      " 1002601     ПАДУНСКИЕ ПОРОГИ          ГАЛАЧИНСКИЙ  31/07 05:41  31/07 06:04  2000211  9244018\n",
      " 1002601          ГАЛАЧИНСКИЙ             МОРГУДОН  31/07 06:04  31/07 06:38  2000211  9244018\n",
      " 1002601             МОРГУДОН            ВИХОРЕВКА  31/07 06:38  31/07 06:56  2000211  9244018\n",
      " 1002601            ВИХОРЕВКА                ТУРМА  31/07 11:30  31/07 12:21  2000211       -1\n",
      " 1002601                ТУРМА                ТОРЕЯ  31/07 12:21  31/07 13:17  2000211       -1\n",
      " 1002601                ТОРЕЯ               ТАЙШЕТ  31/07 13:17  31/07 16:49  2000211       -1\n",
      " 1002601               ТАЙШЕТ                 ЮРТЫ  31/07 19:40  31/07 20:18  2001519       -1\n",
      "\n",
      "Станции, на которых чаще всего происходили длительные стоянки на смену бригад:\n",
      "ВИХОРЕВКА              11\n",
      "СЕВЕРОБАЙКАЛЬСК        10\n",
      "НОВЫЙ УОЯН              5\n",
      "КОРШУНИХА-АНГАРСКАЯ     4\n"
     ]
    }
   ],
   "source": [
    "cols = ['train', 'st_from_name', 'st_to_name', 'team', 'next_team', 'stop_time_h']\n",
    "long_change = team_change[team_change.stop_time_h > 3].sort_values('stop_time', ascending=False)[cols]\n",
    "if not long_change.empty:\n",
    "    add_header('Всего %d случаев смены бригад со стоянкой поезда более 6 часов. Примеры:' % long_change.train.count())\n",
    "    add_line(long_change[cols].head(10))\n",
    "    add_line('')\n",
    "    cols = ['train', 'st_from_name', 'st_to_name', 'time_start_f', 'time_end_f', 'loco', 'team']\n",
    "    add_header('Полный план по одному из таких поездов:')\n",
    "    for train in long_change.train.values[:1]:\n",
    "        add_line(train_plan[train_plan.train == train][cols])\n",
    "    add_line('')\n",
    "    add_header('Станции, на которых чаще всего происходили длительные стоянки на смену бригад:')\n",
    "    add_line(long_change.st_to_name.value_counts().head(10))\n",
    "else:\n",
    "    add_header('Нет поездов, у которых смена бригады происходит более 6 часов')"
   ]
  },
  {
   "cell_type": "code",
   "execution_count": 1562,
   "metadata": {
    "collapsed": false
   },
   "outputs": [
    {
     "data": {
      "text/html": [
       "<div>\n",
       "<table border=\"1\" class=\"dataframe\">\n",
       "  <thead>\n",
       "    <tr style=\"text-align: right;\">\n",
       "      <th></th>\n",
       "      <th>train</th>\n",
       "      <th>loc_name</th>\n",
       "      <th>st_from_name</th>\n",
       "      <th>st_to_name</th>\n",
       "      <th>oper</th>\n",
       "      <th>oper_time_f</th>\n",
       "      <th>time_start_f</th>\n",
       "      <th>stop_time_h</th>\n",
       "      <th>loco</th>\n",
       "    </tr>\n",
       "  </thead>\n",
       "  <tbody>\n",
       "    <tr>\n",
       "      <th>1240</th>\n",
       "      <td>1002226</td>\n",
       "      <td>ВИХОРЕВКА</td>\n",
       "      <td>ВИХОРЕВКА</td>\n",
       "      <td>МОРГУДОН</td>\n",
       "      <td>ready</td>\n",
       "      <td>30/07 11:00</td>\n",
       "      <td>01/08 13:54</td>\n",
       "      <td>50.903889</td>\n",
       "      <td>2000307</td>\n",
       "    </tr>\n",
       "    <tr>\n",
       "      <th>1364</th>\n",
       "      <td>1002331</td>\n",
       "      <td>КОРШУНИХА-АНГАРСКАЯ</td>\n",
       "      <td>КОРШУНИХА-АНГАРСКАЯ</td>\n",
       "      <td>ГИДРОСТРОИТЕЛЬ</td>\n",
       "      <td>ready</td>\n",
       "      <td>30/07 11:00</td>\n",
       "      <td>01/08 05:42</td>\n",
       "      <td>42.712500</td>\n",
       "      <td>2000411</td>\n",
       "    </tr>\n",
       "    <tr>\n",
       "      <th>1373</th>\n",
       "      <td>1002329</td>\n",
       "      <td>КОРШУНИХА-АНГАРСКАЯ</td>\n",
       "      <td>КОРШУНИХА-АНГАРСКАЯ</td>\n",
       "      <td>ГИДРОСТРОИТЕЛЬ</td>\n",
       "      <td>ready</td>\n",
       "      <td>30/07 07:00</td>\n",
       "      <td>31/07 21:45</td>\n",
       "      <td>38.755556</td>\n",
       "      <td>2000280</td>\n",
       "    </tr>\n",
       "    <tr>\n",
       "      <th>592</th>\n",
       "      <td>1002623</td>\n",
       "      <td>НОВЫЙ УОЯН</td>\n",
       "      <td>НОВЫЙ УОЯН</td>\n",
       "      <td>СЕВЕРОБАЙКАЛЬСК</td>\n",
       "      <td>ready</td>\n",
       "      <td>30/07 07:00</td>\n",
       "      <td>31/07 06:59</td>\n",
       "      <td>23.990000</td>\n",
       "      <td>2000723</td>\n",
       "    </tr>\n",
       "    <tr>\n",
       "      <th>1699</th>\n",
       "      <td>1002423</td>\n",
       "      <td>ЛЕНА</td>\n",
       "      <td>ЛЕНА</td>\n",
       "      <td>ХРЕБТОВАЯ</td>\n",
       "      <td>ready</td>\n",
       "      <td>30/07 01:00</td>\n",
       "      <td>30/07 21:07</td>\n",
       "      <td>20.118333</td>\n",
       "      <td>2000203</td>\n",
       "    </tr>\n",
       "    <tr>\n",
       "      <th>1389</th>\n",
       "      <td>1002325</td>\n",
       "      <td>КОРШУНИХА-АНГАРСКАЯ</td>\n",
       "      <td>КОРШУНИХА-АНГАРСКАЯ</td>\n",
       "      <td>ГИДРОСТРОИТЕЛЬ</td>\n",
       "      <td>ready</td>\n",
       "      <td>30/07 02:00</td>\n",
       "      <td>30/07 21:10</td>\n",
       "      <td>19.178611</td>\n",
       "      <td>2000411</td>\n",
       "    </tr>\n",
       "    <tr>\n",
       "      <th>1378</th>\n",
       "      <td>1002327</td>\n",
       "      <td>КОРШУНИХА-АНГАРСКАЯ</td>\n",
       "      <td>КОРШУНИХА-АНГАРСКАЯ</td>\n",
       "      <td>ГИДРОСТРОИТЕЛЬ</td>\n",
       "      <td>ready</td>\n",
       "      <td>30/07 04:00</td>\n",
       "      <td>30/07 22:22</td>\n",
       "      <td>18.381667</td>\n",
       "      <td>2000313</td>\n",
       "    </tr>\n",
       "    <tr>\n",
       "      <th>1657</th>\n",
       "      <td>1002427</td>\n",
       "      <td>ЛЕНА</td>\n",
       "      <td>ЛЕНА</td>\n",
       "      <td>ХРЕБТОВАЯ</td>\n",
       "      <td>ready</td>\n",
       "      <td>30/07 06:00</td>\n",
       "      <td>30/07 22:57</td>\n",
       "      <td>16.959444</td>\n",
       "      <td>2000311</td>\n",
       "    </tr>\n",
       "    <tr>\n",
       "      <th>1252</th>\n",
       "      <td>1002224</td>\n",
       "      <td>ВИХОРЕВКА</td>\n",
       "      <td>ВИХОРЕВКА</td>\n",
       "      <td>МОРГУДОН</td>\n",
       "      <td>ready</td>\n",
       "      <td>30/07 03:00</td>\n",
       "      <td>30/07 19:45</td>\n",
       "      <td>16.750000</td>\n",
       "      <td>2000306</td>\n",
       "    </tr>\n",
       "    <tr>\n",
       "      <th>1353</th>\n",
       "      <td>1002304</td>\n",
       "      <td>КОРШУНИХА-АНГАРСКАЯ</td>\n",
       "      <td>КОРШУНИХА-АНГАРСКАЯ</td>\n",
       "      <td>ХРЕБТОВАЯ</td>\n",
       "      <td>ready</td>\n",
       "      <td>29/07 16:24</td>\n",
       "      <td>30/07 04:15</td>\n",
       "      <td>11.850000</td>\n",
       "      <td>2000216</td>\n",
       "    </tr>\n",
       "    <tr>\n",
       "      <th>113</th>\n",
       "      <td>1002523</td>\n",
       "      <td>СЕВЕРОБАЙКАЛЬСК</td>\n",
       "      <td>СЕВЕРОБАЙКАЛЬСК</td>\n",
       "      <td>ТЫЯ</td>\n",
       "      <td>ready</td>\n",
       "      <td>30/07 03:00</td>\n",
       "      <td>30/07 14:10</td>\n",
       "      <td>11.166667</td>\n",
       "      <td>2000481</td>\n",
       "    </tr>\n",
       "    <tr>\n",
       "      <th>52</th>\n",
       "      <td>1002503</td>\n",
       "      <td>СЕВЕРОБАЙКАЛЬСК</td>\n",
       "      <td>СЕВЕРОБАЙКАЛЬСК</td>\n",
       "      <td>ТЫЯ</td>\n",
       "      <td>ready</td>\n",
       "      <td>29/07 16:24</td>\n",
       "      <td>30/07 03:10</td>\n",
       "      <td>10.766667</td>\n",
       "      <td>2000757</td>\n",
       "    </tr>\n",
       "    <tr>\n",
       "      <th>1668</th>\n",
       "      <td>1002426</td>\n",
       "      <td>ЛЕНА</td>\n",
       "      <td>ЛЕНА</td>\n",
       "      <td>ЯКУРИМ</td>\n",
       "      <td>ready</td>\n",
       "      <td>30/07 13:00</td>\n",
       "      <td>30/07 23:30</td>\n",
       "      <td>10.500000</td>\n",
       "      <td>2000763</td>\n",
       "    </tr>\n",
       "    <tr>\n",
       "      <th>596</th>\n",
       "      <td>1002621</td>\n",
       "      <td>НОВЫЙ УОЯН</td>\n",
       "      <td>НОВЫЙ УОЯН</td>\n",
       "      <td>СЕВЕРОБАЙКАЛЬСК</td>\n",
       "      <td>ready</td>\n",
       "      <td>29/07 22:00</td>\n",
       "      <td>30/07 07:10</td>\n",
       "      <td>9.166667</td>\n",
       "      <td>2000722</td>\n",
       "    </tr>\n",
       "    <tr>\n",
       "      <th>1423</th>\n",
       "      <td>1002321</td>\n",
       "      <td>КОРШУНИХА-АНГАРСКАЯ</td>\n",
       "      <td>КОРШУНИХА-АНГАРСКАЯ</td>\n",
       "      <td>ГИДРОСТРОИТЕЛЬ</td>\n",
       "      <td>ready</td>\n",
       "      <td>29/07 20:00</td>\n",
       "      <td>30/07 05:10</td>\n",
       "      <td>9.166667</td>\n",
       "      <td>2000204</td>\n",
       "    </tr>\n",
       "    <tr>\n",
       "      <th>1598</th>\n",
       "      <td>1002404</td>\n",
       "      <td>ЛЕНА</td>\n",
       "      <td>ЛЕНА</td>\n",
       "      <td>ЯКУРИМ</td>\n",
       "      <td>ready</td>\n",
       "      <td>29/07 16:24</td>\n",
       "      <td>30/07 01:05</td>\n",
       "      <td>8.683333</td>\n",
       "      <td>2000744</td>\n",
       "    </tr>\n",
       "    <tr>\n",
       "      <th>126</th>\n",
       "      <td>1002521</td>\n",
       "      <td>СЕВЕРОБАЙКАЛЬСК</td>\n",
       "      <td>СЕВЕРОБАЙКАЛЬСК</td>\n",
       "      <td>ТЫЯ</td>\n",
       "      <td>ready</td>\n",
       "      <td>29/07 23:00</td>\n",
       "      <td>30/07 07:25</td>\n",
       "      <td>8.416667</td>\n",
       "      <td>2000721</td>\n",
       "    </tr>\n",
       "    <tr>\n",
       "      <th>877</th>\n",
       "      <td>1002204</td>\n",
       "      <td>ВИХОРЕВКА</td>\n",
       "      <td>ВИХОРЕВКА</td>\n",
       "      <td>МОРГУДОН</td>\n",
       "      <td>ready</td>\n",
       "      <td>29/07 16:24</td>\n",
       "      <td>30/07 00:20</td>\n",
       "      <td>7.933333</td>\n",
       "      <td>2000207</td>\n",
       "    </tr>\n",
       "    <tr>\n",
       "      <th>1039</th>\n",
       "      <td>1002731</td>\n",
       "      <td>ТАКСИМО</td>\n",
       "      <td>ТАКСИМО</td>\n",
       "      <td>КАЗАНКАН</td>\n",
       "      <td>ready</td>\n",
       "      <td>30/07 09:00</td>\n",
       "      <td>30/07 16:35</td>\n",
       "      <td>7.583333</td>\n",
       "      <td>2000752</td>\n",
       "    </tr>\n",
       "    <tr>\n",
       "      <th>109</th>\n",
       "      <td>1002524</td>\n",
       "      <td>СЕВЕРОБАЙКАЛЬСК</td>\n",
       "      <td>СЕВЕРОБАЙКАЛЬСК</td>\n",
       "      <td>НОВЫЙ УОЯН</td>\n",
       "      <td>ready</td>\n",
       "      <td>30/07 06:00</td>\n",
       "      <td>30/07 13:10</td>\n",
       "      <td>7.166667</td>\n",
       "      <td>2000734</td>\n",
       "    </tr>\n",
       "    <tr>\n",
       "      <th>1400</th>\n",
       "      <td>1002323</td>\n",
       "      <td>КОРШУНИХА-АНГАРСКАЯ</td>\n",
       "      <td>КОРШУНИХА-АНГАРСКАЯ</td>\n",
       "      <td>ГИДРОСТРОИТЕЛЬ</td>\n",
       "      <td>ready</td>\n",
       "      <td>30/07 21:00</td>\n",
       "      <td>31/07 03:23</td>\n",
       "      <td>6.393333</td>\n",
       "      <td>2000306</td>\n",
       "    </tr>\n",
       "    <tr>\n",
       "      <th>1718</th>\n",
       "      <td>1002421</td>\n",
       "      <td>ЛЕНА</td>\n",
       "      <td>ЛЕНА</td>\n",
       "      <td>ХРЕБТОВАЯ</td>\n",
       "      <td>ready</td>\n",
       "      <td>29/07 21:00</td>\n",
       "      <td>30/07 03:15</td>\n",
       "      <td>6.250000</td>\n",
       "      <td>2000404</td>\n",
       "    </tr>\n",
       "    <tr>\n",
       "      <th>884</th>\n",
       "      <td>1002203</td>\n",
       "      <td>ВИХОРЕВКА</td>\n",
       "      <td>ВИХОРЕВКА</td>\n",
       "      <td>ТУРМА</td>\n",
       "      <td>ready</td>\n",
       "      <td>29/07 16:24</td>\n",
       "      <td>29/07 22:30</td>\n",
       "      <td>6.100000</td>\n",
       "      <td>2000206</td>\n",
       "    </tr>\n",
       "    <tr>\n",
       "      <th>125</th>\n",
       "      <td>1002522</td>\n",
       "      <td>СЕВЕРОБАЙКАЛЬСК</td>\n",
       "      <td>СЕВЕРОБАЙКАЛЬСК</td>\n",
       "      <td>НОВЫЙ УОЯН</td>\n",
       "      <td>ready</td>\n",
       "      <td>29/07 21:00</td>\n",
       "      <td>30/07 03:05</td>\n",
       "      <td>6.083333</td>\n",
       "      <td>2000758</td>\n",
       "    </tr>\n",
       "    <tr>\n",
       "      <th>1706</th>\n",
       "      <td>1002422</td>\n",
       "      <td>ЛЕНА</td>\n",
       "      <td>ЛЕНА</td>\n",
       "      <td>ЯКУРИМ</td>\n",
       "      <td>ready</td>\n",
       "      <td>29/07 22:00</td>\n",
       "      <td>30/07 04:00</td>\n",
       "      <td>6.000000</td>\n",
       "      <td>2000713</td>\n",
       "    </tr>\n",
       "    <tr>\n",
       "      <th>...</th>\n",
       "      <td>...</td>\n",
       "      <td>...</td>\n",
       "      <td>...</td>\n",
       "      <td>...</td>\n",
       "      <td>...</td>\n",
       "      <td>...</td>\n",
       "      <td>...</td>\n",
       "      <td>...</td>\n",
       "      <td>...</td>\n",
       "    </tr>\n",
       "    <tr>\n",
       "      <th>991</th>\n",
       "      <td>1002222</td>\n",
       "      <td>ВИХОРЕВКА</td>\n",
       "      <td>ВИХОРЕВКА</td>\n",
       "      <td>МОРГУДОН</td>\n",
       "      <td>ready</td>\n",
       "      <td>29/07 20:00</td>\n",
       "      <td>30/07 00:50</td>\n",
       "      <td>4.833333</td>\n",
       "      <td>2000280</td>\n",
       "    </tr>\n",
       "    <tr>\n",
       "      <th>1398</th>\n",
       "      <td>1002324</td>\n",
       "      <td>КОРШУНИХА-АНГАРСКАЯ</td>\n",
       "      <td>КОРШУНИХА-АНГАРСКАЯ</td>\n",
       "      <td>ХРЕБТОВАЯ</td>\n",
       "      <td>ready</td>\n",
       "      <td>30/07 04:00</td>\n",
       "      <td>30/07 08:35</td>\n",
       "      <td>4.583333</td>\n",
       "      <td>2000304</td>\n",
       "    </tr>\n",
       "    <tr>\n",
       "      <th>1405</th>\n",
       "      <td>1002322</td>\n",
       "      <td>КОРШУНИХА-АНГАРСКАЯ</td>\n",
       "      <td>КОРШУНИХА-АНГАРСКАЯ</td>\n",
       "      <td>ХРЕБТОВАЯ</td>\n",
       "      <td>ready</td>\n",
       "      <td>29/07 21:00</td>\n",
       "      <td>30/07 01:30</td>\n",
       "      <td>4.500000</td>\n",
       "      <td>-1</td>\n",
       "    </tr>\n",
       "    <tr>\n",
       "      <th>1236</th>\n",
       "      <td>1002227</td>\n",
       "      <td>ВИХОРЕВКА</td>\n",
       "      <td>ВИХОРЕВКА</td>\n",
       "      <td>ТУРМА</td>\n",
       "      <td>ready</td>\n",
       "      <td>30/07 06:00</td>\n",
       "      <td>30/07 10:30</td>\n",
       "      <td>4.500000</td>\n",
       "      <td>-1</td>\n",
       "    </tr>\n",
       "    <tr>\n",
       "      <th>93</th>\n",
       "      <td>1002525</td>\n",
       "      <td>СЕВЕРОБАЙКАЛЬСК</td>\n",
       "      <td>СЕВЕРОБАЙКАЛЬСК</td>\n",
       "      <td>ТЫЯ</td>\n",
       "      <td>ready</td>\n",
       "      <td>30/07 13:00</td>\n",
       "      <td>30/07 17:25</td>\n",
       "      <td>4.416667</td>\n",
       "      <td>2000718</td>\n",
       "    </tr>\n",
       "    <tr>\n",
       "      <th>1232</th>\n",
       "      <td>1002229</td>\n",
       "      <td>ВИХОРЕВКА</td>\n",
       "      <td>ВИХОРЕВКА</td>\n",
       "      <td>ТУРМА</td>\n",
       "      <td>ready</td>\n",
       "      <td>30/07 10:00</td>\n",
       "      <td>30/07 14:20</td>\n",
       "      <td>4.333333</td>\n",
       "      <td>-1</td>\n",
       "    </tr>\n",
       "    <tr>\n",
       "      <th>1681</th>\n",
       "      <td>1002425</td>\n",
       "      <td>ЛЕНА</td>\n",
       "      <td>ЛЕНА</td>\n",
       "      <td>ХРЕБТОВАЯ</td>\n",
       "      <td>ready</td>\n",
       "      <td>30/07 02:00</td>\n",
       "      <td>30/07 06:10</td>\n",
       "      <td>4.166667</td>\n",
       "      <td>2000312</td>\n",
       "    </tr>\n",
       "    <tr>\n",
       "      <th>812</th>\n",
       "      <td>1002701</td>\n",
       "      <td>ТАКСИМО</td>\n",
       "      <td>ТАКСИМО</td>\n",
       "      <td>КАЗАНКАН</td>\n",
       "      <td>ready</td>\n",
       "      <td>29/07 16:06</td>\n",
       "      <td>29/07 20:10</td>\n",
       "      <td>4.066667</td>\n",
       "      <td>2000771</td>\n",
       "    </tr>\n",
       "    <tr>\n",
       "      <th>49</th>\n",
       "      <td>1002504</td>\n",
       "      <td>СЕВЕРОБАЙКАЛЬСК</td>\n",
       "      <td>СЕВЕРОБАЙКАЛЬСК</td>\n",
       "      <td>НОВЫЙ УОЯН</td>\n",
       "      <td>ready</td>\n",
       "      <td>29/07 17:06</td>\n",
       "      <td>29/07 20:55</td>\n",
       "      <td>3.816667</td>\n",
       "      <td>2000756</td>\n",
       "    </tr>\n",
       "    <tr>\n",
       "      <th>785</th>\n",
       "      <td>1002703</td>\n",
       "      <td>ТАКСИМО</td>\n",
       "      <td>ТАКСИМО</td>\n",
       "      <td>КАЗАНКАН</td>\n",
       "      <td>ready</td>\n",
       "      <td>29/07 17:36</td>\n",
       "      <td>29/07 21:10</td>\n",
       "      <td>3.566667</td>\n",
       "      <td>2000790</td>\n",
       "    </tr>\n",
       "    <tr>\n",
       "      <th>1610</th>\n",
       "      <td>1002403</td>\n",
       "      <td>ЛЕНА</td>\n",
       "      <td>ЛЕНА</td>\n",
       "      <td>ХРЕБТОВАЯ</td>\n",
       "      <td>ready</td>\n",
       "      <td>29/07 17:24</td>\n",
       "      <td>29/07 20:55</td>\n",
       "      <td>3.516667</td>\n",
       "      <td>2000480</td>\n",
       "    </tr>\n",
       "    <tr>\n",
       "      <th>1228</th>\n",
       "      <td>1002231</td>\n",
       "      <td>ВИХОРЕВКА</td>\n",
       "      <td>ВИХОРЕВКА</td>\n",
       "      <td>ТУРМА</td>\n",
       "      <td>ready</td>\n",
       "      <td>30/07 12:00</td>\n",
       "      <td>30/07 15:30</td>\n",
       "      <td>3.500000</td>\n",
       "      <td>-1</td>\n",
       "    </tr>\n",
       "    <tr>\n",
       "      <th>1008</th>\n",
       "      <td>1002221</td>\n",
       "      <td>ВИХОРЕВКА</td>\n",
       "      <td>ВИХОРЕВКА</td>\n",
       "      <td>ТУРМА</td>\n",
       "      <td>ready</td>\n",
       "      <td>29/07 20:00</td>\n",
       "      <td>29/07 23:00</td>\n",
       "      <td>3.000000</td>\n",
       "      <td>-1</td>\n",
       "    </tr>\n",
       "    <tr>\n",
       "      <th>1247</th>\n",
       "      <td>1002225</td>\n",
       "      <td>ВИХОРЕВКА</td>\n",
       "      <td>ВИХОРЕВКА</td>\n",
       "      <td>ТУРМА</td>\n",
       "      <td>ready</td>\n",
       "      <td>30/07 04:00</td>\n",
       "      <td>30/07 06:50</td>\n",
       "      <td>2.833333</td>\n",
       "      <td>-1</td>\n",
       "    </tr>\n",
       "    <tr>\n",
       "      <th>1201</th>\n",
       "      <td>1002721</td>\n",
       "      <td>ТАКСИМО</td>\n",
       "      <td>ТАКСИМО</td>\n",
       "      <td>КАЗАНКАН</td>\n",
       "      <td>ready</td>\n",
       "      <td>29/07 20:00</td>\n",
       "      <td>29/07 22:45</td>\n",
       "      <td>2.750000</td>\n",
       "      <td>2000772</td>\n",
       "    </tr>\n",
       "    <tr>\n",
       "      <th>1160</th>\n",
       "      <td>1002725</td>\n",
       "      <td>ТАКСИМО</td>\n",
       "      <td>ТАКСИМО</td>\n",
       "      <td>КАЗАНКАН</td>\n",
       "      <td>ready</td>\n",
       "      <td>30/07 03:00</td>\n",
       "      <td>30/07 05:15</td>\n",
       "      <td>2.250000</td>\n",
       "      <td>2000732</td>\n",
       "    </tr>\n",
       "    <tr>\n",
       "      <th>1066</th>\n",
       "      <td>1002729</td>\n",
       "      <td>ТАКСИМО</td>\n",
       "      <td>ТАКСИМО</td>\n",
       "      <td>КАЗАНКАН</td>\n",
       "      <td>ready</td>\n",
       "      <td>30/07 06:00</td>\n",
       "      <td>30/07 08:10</td>\n",
       "      <td>2.166667</td>\n",
       "      <td>2000733</td>\n",
       "    </tr>\n",
       "    <tr>\n",
       "      <th>1098</th>\n",
       "      <td>1002727</td>\n",
       "      <td>ТАКСИМО</td>\n",
       "      <td>ТАКСИМО</td>\n",
       "      <td>КАЗАНКАН</td>\n",
       "      <td>ready</td>\n",
       "      <td>30/07 05:00</td>\n",
       "      <td>30/07 07:00</td>\n",
       "      <td>2.000000</td>\n",
       "      <td>2000762</td>\n",
       "    </tr>\n",
       "    <tr>\n",
       "      <th>958</th>\n",
       "      <td>1002223</td>\n",
       "      <td>ВИХОРЕВКА</td>\n",
       "      <td>ВИХОРЕВКА</td>\n",
       "      <td>ТУРМА</td>\n",
       "      <td>ready</td>\n",
       "      <td>30/07 23:00</td>\n",
       "      <td>31/07 00:50</td>\n",
       "      <td>1.833333</td>\n",
       "      <td>-1</td>\n",
       "    </tr>\n",
       "    <tr>\n",
       "      <th>962</th>\n",
       "      <td>1002735</td>\n",
       "      <td>ТАКСИМО</td>\n",
       "      <td>ТАКСИМО</td>\n",
       "      <td>КАЗАНКАН</td>\n",
       "      <td>ready</td>\n",
       "      <td>30/07 14:00</td>\n",
       "      <td>30/07 15:25</td>\n",
       "      <td>1.416667</td>\n",
       "      <td>2000768</td>\n",
       "    </tr>\n",
       "    <tr>\n",
       "      <th>1198</th>\n",
       "      <td>1002723</td>\n",
       "      <td>ТАКСИМО</td>\n",
       "      <td>ТАКСИМО</td>\n",
       "      <td>КАЗАНКАН</td>\n",
       "      <td>ready</td>\n",
       "      <td>29/07 23:00</td>\n",
       "      <td>30/07 00:20</td>\n",
       "      <td>1.333333</td>\n",
       "      <td>2000734</td>\n",
       "    </tr>\n",
       "    <tr>\n",
       "      <th>1655</th>\n",
       "      <td>1002429</td>\n",
       "      <td>ЛЕНА</td>\n",
       "      <td>ЛЕНА</td>\n",
       "      <td>ХРЕБТОВАЯ</td>\n",
       "      <td>ready</td>\n",
       "      <td>30/07 10:00</td>\n",
       "      <td>30/07 11:10</td>\n",
       "      <td>1.166667</td>\n",
       "      <td>2000314</td>\n",
       "    </tr>\n",
       "    <tr>\n",
       "      <th>1387</th>\n",
       "      <td>1002326</td>\n",
       "      <td>КОРШУНИХА-АНГАРСКАЯ</td>\n",
       "      <td>КОРШУНИХА-АНГАРСКАЯ</td>\n",
       "      <td>ХРЕБТОВАЯ</td>\n",
       "      <td>ready</td>\n",
       "      <td>30/07 12:00</td>\n",
       "      <td>30/07 12:55</td>\n",
       "      <td>0.916667</td>\n",
       "      <td>2000202</td>\n",
       "    </tr>\n",
       "    <tr>\n",
       "      <th>1012</th>\n",
       "      <td>1002733</td>\n",
       "      <td>ТАКСИМО</td>\n",
       "      <td>ТАКСИМО</td>\n",
       "      <td>КАЗАНКАН</td>\n",
       "      <td>ready</td>\n",
       "      <td>30/07 12:00</td>\n",
       "      <td>30/07 12:45</td>\n",
       "      <td>0.750000</td>\n",
       "      <td>2000754</td>\n",
       "    </tr>\n",
       "    <tr>\n",
       "      <th>1355</th>\n",
       "      <td>1002333</td>\n",
       "      <td>КОРШУНИХА-АНГАРСКАЯ</td>\n",
       "      <td>КОРШУНИХА-АНГАРСКАЯ</td>\n",
       "      <td>ГИДРОСТРОИТЕЛЬ</td>\n",
       "      <td>ready</td>\n",
       "      <td>30/07 15:00</td>\n",
       "      <td>30/07 15:40</td>\n",
       "      <td>0.666667</td>\n",
       "      <td>2000207</td>\n",
       "    </tr>\n",
       "  </tbody>\n",
       "</table>\n",
       "<p>54 rows × 9 columns</p>\n",
       "</div>"
      ],
      "text/plain": [
       "        train             loc_name         st_from_name       st_to_name  \\\n",
       "1240  1002226            ВИХОРЕВКА            ВИХОРЕВКА         МОРГУДОН   \n",
       "1364  1002331  КОРШУНИХА-АНГАРСКАЯ  КОРШУНИХА-АНГАРСКАЯ   ГИДРОСТРОИТЕЛЬ   \n",
       "1373  1002329  КОРШУНИХА-АНГАРСКАЯ  КОРШУНИХА-АНГАРСКАЯ   ГИДРОСТРОИТЕЛЬ   \n",
       "592   1002623           НОВЫЙ УОЯН           НОВЫЙ УОЯН  СЕВЕРОБАЙКАЛЬСК   \n",
       "1699  1002423                 ЛЕНА                 ЛЕНА        ХРЕБТОВАЯ   \n",
       "1389  1002325  КОРШУНИХА-АНГАРСКАЯ  КОРШУНИХА-АНГАРСКАЯ   ГИДРОСТРОИТЕЛЬ   \n",
       "1378  1002327  КОРШУНИХА-АНГАРСКАЯ  КОРШУНИХА-АНГАРСКАЯ   ГИДРОСТРОИТЕЛЬ   \n",
       "1657  1002427                 ЛЕНА                 ЛЕНА        ХРЕБТОВАЯ   \n",
       "1252  1002224            ВИХОРЕВКА            ВИХОРЕВКА         МОРГУДОН   \n",
       "1353  1002304  КОРШУНИХА-АНГАРСКАЯ  КОРШУНИХА-АНГАРСКАЯ        ХРЕБТОВАЯ   \n",
       "113   1002523      СЕВЕРОБАЙКАЛЬСК      СЕВЕРОБАЙКАЛЬСК              ТЫЯ   \n",
       "52    1002503      СЕВЕРОБАЙКАЛЬСК      СЕВЕРОБАЙКАЛЬСК              ТЫЯ   \n",
       "1668  1002426                 ЛЕНА                 ЛЕНА           ЯКУРИМ   \n",
       "596   1002621           НОВЫЙ УОЯН           НОВЫЙ УОЯН  СЕВЕРОБАЙКАЛЬСК   \n",
       "1423  1002321  КОРШУНИХА-АНГАРСКАЯ  КОРШУНИХА-АНГАРСКАЯ   ГИДРОСТРОИТЕЛЬ   \n",
       "1598  1002404                 ЛЕНА                 ЛЕНА           ЯКУРИМ   \n",
       "126   1002521      СЕВЕРОБАЙКАЛЬСК      СЕВЕРОБАЙКАЛЬСК              ТЫЯ   \n",
       "877   1002204            ВИХОРЕВКА            ВИХОРЕВКА         МОРГУДОН   \n",
       "1039  1002731              ТАКСИМО              ТАКСИМО         КАЗАНКАН   \n",
       "109   1002524      СЕВЕРОБАЙКАЛЬСК      СЕВЕРОБАЙКАЛЬСК       НОВЫЙ УОЯН   \n",
       "1400  1002323  КОРШУНИХА-АНГАРСКАЯ  КОРШУНИХА-АНГАРСКАЯ   ГИДРОСТРОИТЕЛЬ   \n",
       "1718  1002421                 ЛЕНА                 ЛЕНА        ХРЕБТОВАЯ   \n",
       "884   1002203            ВИХОРЕВКА            ВИХОРЕВКА            ТУРМА   \n",
       "125   1002522      СЕВЕРОБАЙКАЛЬСК      СЕВЕРОБАЙКАЛЬСК       НОВЫЙ УОЯН   \n",
       "1706  1002422                 ЛЕНА                 ЛЕНА           ЯКУРИМ   \n",
       "...       ...                  ...                  ...              ...   \n",
       "991   1002222            ВИХОРЕВКА            ВИХОРЕВКА         МОРГУДОН   \n",
       "1398  1002324  КОРШУНИХА-АНГАРСКАЯ  КОРШУНИХА-АНГАРСКАЯ        ХРЕБТОВАЯ   \n",
       "1405  1002322  КОРШУНИХА-АНГАРСКАЯ  КОРШУНИХА-АНГАРСКАЯ        ХРЕБТОВАЯ   \n",
       "1236  1002227            ВИХОРЕВКА            ВИХОРЕВКА            ТУРМА   \n",
       "93    1002525      СЕВЕРОБАЙКАЛЬСК      СЕВЕРОБАЙКАЛЬСК              ТЫЯ   \n",
       "1232  1002229            ВИХОРЕВКА            ВИХОРЕВКА            ТУРМА   \n",
       "1681  1002425                 ЛЕНА                 ЛЕНА        ХРЕБТОВАЯ   \n",
       "812   1002701              ТАКСИМО              ТАКСИМО         КАЗАНКАН   \n",
       "49    1002504      СЕВЕРОБАЙКАЛЬСК      СЕВЕРОБАЙКАЛЬСК       НОВЫЙ УОЯН   \n",
       "785   1002703              ТАКСИМО              ТАКСИМО         КАЗАНКАН   \n",
       "1610  1002403                 ЛЕНА                 ЛЕНА        ХРЕБТОВАЯ   \n",
       "1228  1002231            ВИХОРЕВКА            ВИХОРЕВКА            ТУРМА   \n",
       "1008  1002221            ВИХОРЕВКА            ВИХОРЕВКА            ТУРМА   \n",
       "1247  1002225            ВИХОРЕВКА            ВИХОРЕВКА            ТУРМА   \n",
       "1201  1002721              ТАКСИМО              ТАКСИМО         КАЗАНКАН   \n",
       "1160  1002725              ТАКСИМО              ТАКСИМО         КАЗАНКАН   \n",
       "1066  1002729              ТАКСИМО              ТАКСИМО         КАЗАНКАН   \n",
       "1098  1002727              ТАКСИМО              ТАКСИМО         КАЗАНКАН   \n",
       "958   1002223            ВИХОРЕВКА            ВИХОРЕВКА            ТУРМА   \n",
       "962   1002735              ТАКСИМО              ТАКСИМО         КАЗАНКАН   \n",
       "1198  1002723              ТАКСИМО              ТАКСИМО         КАЗАНКАН   \n",
       "1655  1002429                 ЛЕНА                 ЛЕНА        ХРЕБТОВАЯ   \n",
       "1387  1002326  КОРШУНИХА-АНГАРСКАЯ  КОРШУНИХА-АНГАРСКАЯ        ХРЕБТОВАЯ   \n",
       "1012  1002733              ТАКСИМО              ТАКСИМО         КАЗАНКАН   \n",
       "1355  1002333  КОРШУНИХА-АНГАРСКАЯ  КОРШУНИХА-АНГАРСКАЯ   ГИДРОСТРОИТЕЛЬ   \n",
       "\n",
       "       oper  oper_time_f time_start_f  stop_time_h     loco  \n",
       "1240  ready  30/07 11:00  01/08 13:54    50.903889  2000307  \n",
       "1364  ready  30/07 11:00  01/08 05:42    42.712500  2000411  \n",
       "1373  ready  30/07 07:00  31/07 21:45    38.755556  2000280  \n",
       "592   ready  30/07 07:00  31/07 06:59    23.990000  2000723  \n",
       "1699  ready  30/07 01:00  30/07 21:07    20.118333  2000203  \n",
       "1389  ready  30/07 02:00  30/07 21:10    19.178611  2000411  \n",
       "1378  ready  30/07 04:00  30/07 22:22    18.381667  2000313  \n",
       "1657  ready  30/07 06:00  30/07 22:57    16.959444  2000311  \n",
       "1252  ready  30/07 03:00  30/07 19:45    16.750000  2000306  \n",
       "1353  ready  29/07 16:24  30/07 04:15    11.850000  2000216  \n",
       "113   ready  30/07 03:00  30/07 14:10    11.166667  2000481  \n",
       "52    ready  29/07 16:24  30/07 03:10    10.766667  2000757  \n",
       "1668  ready  30/07 13:00  30/07 23:30    10.500000  2000763  \n",
       "596   ready  29/07 22:00  30/07 07:10     9.166667  2000722  \n",
       "1423  ready  29/07 20:00  30/07 05:10     9.166667  2000204  \n",
       "1598  ready  29/07 16:24  30/07 01:05     8.683333  2000744  \n",
       "126   ready  29/07 23:00  30/07 07:25     8.416667  2000721  \n",
       "877   ready  29/07 16:24  30/07 00:20     7.933333  2000207  \n",
       "1039  ready  30/07 09:00  30/07 16:35     7.583333  2000752  \n",
       "109   ready  30/07 06:00  30/07 13:10     7.166667  2000734  \n",
       "1400  ready  30/07 21:00  31/07 03:23     6.393333  2000306  \n",
       "1718  ready  29/07 21:00  30/07 03:15     6.250000  2000404  \n",
       "884   ready  29/07 16:24  29/07 22:30     6.100000  2000206  \n",
       "125   ready  29/07 21:00  30/07 03:05     6.083333  2000758  \n",
       "1706  ready  29/07 22:00  30/07 04:00     6.000000  2000713  \n",
       "...     ...          ...          ...          ...      ...  \n",
       "991   ready  29/07 20:00  30/07 00:50     4.833333  2000280  \n",
       "1398  ready  30/07 04:00  30/07 08:35     4.583333  2000304  \n",
       "1405  ready  29/07 21:00  30/07 01:30     4.500000       -1  \n",
       "1236  ready  30/07 06:00  30/07 10:30     4.500000       -1  \n",
       "93    ready  30/07 13:00  30/07 17:25     4.416667  2000718  \n",
       "1232  ready  30/07 10:00  30/07 14:20     4.333333       -1  \n",
       "1681  ready  30/07 02:00  30/07 06:10     4.166667  2000312  \n",
       "812   ready  29/07 16:06  29/07 20:10     4.066667  2000771  \n",
       "49    ready  29/07 17:06  29/07 20:55     3.816667  2000756  \n",
       "785   ready  29/07 17:36  29/07 21:10     3.566667  2000790  \n",
       "1610  ready  29/07 17:24  29/07 20:55     3.516667  2000480  \n",
       "1228  ready  30/07 12:00  30/07 15:30     3.500000       -1  \n",
       "1008  ready  29/07 20:00  29/07 23:00     3.000000       -1  \n",
       "1247  ready  30/07 04:00  30/07 06:50     2.833333       -1  \n",
       "1201  ready  29/07 20:00  29/07 22:45     2.750000  2000772  \n",
       "1160  ready  30/07 03:00  30/07 05:15     2.250000  2000732  \n",
       "1066  ready  30/07 06:00  30/07 08:10     2.166667  2000733  \n",
       "1098  ready  30/07 05:00  30/07 07:00     2.000000  2000762  \n",
       "958   ready  30/07 23:00  31/07 00:50     1.833333       -1  \n",
       "962   ready  30/07 14:00  30/07 15:25     1.416667  2000768  \n",
       "1198  ready  29/07 23:00  30/07 00:20     1.333333  2000734  \n",
       "1655  ready  30/07 10:00  30/07 11:10     1.166667  2000314  \n",
       "1387  ready  30/07 12:00  30/07 12:55     0.916667  2000202  \n",
       "1012  ready  30/07 12:00  30/07 12:45     0.750000  2000754  \n",
       "1355  ready  30/07 15:00  30/07 15:40     0.666667  2000207  \n",
       "\n",
       "[54 rows x 9 columns]"
      ]
     },
     "execution_count": 1562,
     "metadata": {},
     "output_type": "execute_result"
    }
   ],
   "source": [
    "cols = ['train', 'loc_name', 'st_from_name', 'st_to_name', 'oper', 'oper_time_f', 'time_start_f', 'stop_time_h', 'loco']\n",
    "#train_plan[(train_plan.time_start < current_time + 24 * 3600) & (train_plan.loco == '-1')][cols]\n",
    "train_plan['stop_time_h'] = (train_plan.time_start - train_plan.oper_time) / 3600\n",
    "train_plan[train_plan.oper == 'ready'][cols].drop_duplicates('train').sort_values('stop_time_h', ascending=False)\n",
    "#train_plan[(train_plan.loco == '-1')].drop_duplicates('train').st_from_name.value_counts()\n",
    "#train_plan[(train_plan.loco == '-1') & (train_plan.st_from_name == 'КОРШУНИХА-АНГАРСКАЯ')].drop_duplicates('train')[cols].sort_values('train')\n",
    "#train_plan[(train_plan.loco == '-1') & (train_plan.st_from_name == 'ТАЙШЕТ')].drop_duplicates('train')[cols].sort_values('train')"
   ]
  },
  {
   "cell_type": "code",
   "execution_count": 1563,
   "metadata": {
    "collapsed": false
   },
   "outputs": [
    {
     "data": {
      "text/html": [
       "<div>\n",
       "<table border=\"1\" class=\"dataframe\">\n",
       "  <thead>\n",
       "    <tr style=\"text-align: right;\">\n",
       "      <th></th>\n",
       "      <th>loco</th>\n",
       "      <th>st_from_name</th>\n",
       "      <th>st_to_name</th>\n",
       "      <th>time_start_f</th>\n",
       "      <th>time_end_f</th>\n",
       "      <th>train</th>\n",
       "      <th>team</th>\n",
       "    </tr>\n",
       "  </thead>\n",
       "  <tbody>\n",
       "    <tr>\n",
       "      <th>1137</th>\n",
       "      <td>2000214</td>\n",
       "      <td>ВИХОРЕВКА</td>\n",
       "      <td>МОРГУДОН</td>\n",
       "      <td>29/07 15:10</td>\n",
       "      <td>29/07 15:29</td>\n",
       "      <td>1002214</td>\n",
       "      <td>9257003</td>\n",
       "    </tr>\n",
       "    <tr>\n",
       "      <th>1138</th>\n",
       "      <td>2000214</td>\n",
       "      <td>МОРГУДОН</td>\n",
       "      <td>ГАЛАЧИНСКИЙ</td>\n",
       "      <td>29/07 15:29</td>\n",
       "      <td>29/07 15:50</td>\n",
       "      <td>1002214</td>\n",
       "      <td>9257003</td>\n",
       "    </tr>\n",
       "    <tr>\n",
       "      <th>1139</th>\n",
       "      <td>2000214</td>\n",
       "      <td>ГАЛАЧИНСКИЙ</td>\n",
       "      <td>ПАДУНСКИЕ ПОРОГИ</td>\n",
       "      <td>29/07 15:50</td>\n",
       "      <td>29/07 16:15</td>\n",
       "      <td>1002214</td>\n",
       "      <td>9257003</td>\n",
       "    </tr>\n",
       "    <tr>\n",
       "      <th>1140</th>\n",
       "      <td>2000214</td>\n",
       "      <td>ПАДУНСКИЕ ПОРОГИ</td>\n",
       "      <td>ГИДРОСТРОИТЕЛЬ</td>\n",
       "      <td>29/07 16:15</td>\n",
       "      <td>29/07 16:30</td>\n",
       "      <td>1002214</td>\n",
       "      <td>9257003</td>\n",
       "    </tr>\n",
       "    <tr>\n",
       "      <th>1141</th>\n",
       "      <td>2000214</td>\n",
       "      <td>ГИДРОСТРОИТЕЛЬ</td>\n",
       "      <td>КОРШУНИХА-АНГАРСКАЯ</td>\n",
       "      <td>29/07 16:30</td>\n",
       "      <td>29/07 20:29</td>\n",
       "      <td>1002214</td>\n",
       "      <td>9257003</td>\n",
       "    </tr>\n",
       "    <tr>\n",
       "      <th>1142</th>\n",
       "      <td>-1</td>\n",
       "      <td>КОРШУНИХА-АНГАРСКАЯ</td>\n",
       "      <td>ХРЕБТОВАЯ</td>\n",
       "      <td>30/07 01:00</td>\n",
       "      <td>30/07 01:39</td>\n",
       "      <td>1002214</td>\n",
       "      <td>-1</td>\n",
       "    </tr>\n",
       "    <tr>\n",
       "      <th>1143</th>\n",
       "      <td>-1</td>\n",
       "      <td>ХРЕБТОВАЯ</td>\n",
       "      <td>ЛЕНА</td>\n",
       "      <td>30/07 01:39</td>\n",
       "      <td>30/07 04:11</td>\n",
       "      <td>1002214</td>\n",
       "      <td>-1</td>\n",
       "    </tr>\n",
       "    <tr>\n",
       "      <th>1144</th>\n",
       "      <td>-1</td>\n",
       "      <td>ЛЕНА</td>\n",
       "      <td>ЯКУРИМ</td>\n",
       "      <td>30/07 12:30</td>\n",
       "      <td>30/07 12:45</td>\n",
       "      <td>1002214</td>\n",
       "      <td>-1</td>\n",
       "    </tr>\n",
       "    <tr>\n",
       "      <th>1145</th>\n",
       "      <td>-1</td>\n",
       "      <td>ЯКУРИМ</td>\n",
       "      <td>ЛЕНА-ВОСТОЧНАЯ</td>\n",
       "      <td>30/07 12:45</td>\n",
       "      <td>30/07 12:51</td>\n",
       "      <td>1002214</td>\n",
       "      <td>-1</td>\n",
       "    </tr>\n",
       "    <tr>\n",
       "      <th>1146</th>\n",
       "      <td>-1</td>\n",
       "      <td>ЛЕНА-ВОСТОЧНАЯ</td>\n",
       "      <td>ЧУДНИЧНЫЙ</td>\n",
       "      <td>30/07 12:51</td>\n",
       "      <td>30/07 13:30</td>\n",
       "      <td>1002214</td>\n",
       "      <td>-1</td>\n",
       "    </tr>\n",
       "    <tr>\n",
       "      <th>1147</th>\n",
       "      <td>-1</td>\n",
       "      <td>ЧУДНИЧНЫЙ</td>\n",
       "      <td>ЗВЕЗДНАЯ</td>\n",
       "      <td>30/07 13:30</td>\n",
       "      <td>30/07 14:15</td>\n",
       "      <td>1002214</td>\n",
       "      <td>-1</td>\n",
       "    </tr>\n",
       "    <tr>\n",
       "      <th>1148</th>\n",
       "      <td>-1</td>\n",
       "      <td>ЗВЕЗДНАЯ</td>\n",
       "      <td>НИЯ</td>\n",
       "      <td>30/07 14:15</td>\n",
       "      <td>30/07 14:56</td>\n",
       "      <td>1002214</td>\n",
       "      <td>-1</td>\n",
       "    </tr>\n",
       "    <tr>\n",
       "      <th>1149</th>\n",
       "      <td>-1</td>\n",
       "      <td>НИЯ</td>\n",
       "      <td>ТАКОВКА</td>\n",
       "      <td>30/07 14:56</td>\n",
       "      <td>30/07 15:17</td>\n",
       "      <td>1002214</td>\n",
       "      <td>-1</td>\n",
       "    </tr>\n",
       "    <tr>\n",
       "      <th>1150</th>\n",
       "      <td>-1</td>\n",
       "      <td>ТАКОВКА</td>\n",
       "      <td>НЕБЕЛЬ</td>\n",
       "      <td>30/07 15:17</td>\n",
       "      <td>30/07 15:53</td>\n",
       "      <td>1002214</td>\n",
       "      <td>-1</td>\n",
       "    </tr>\n",
       "    <tr>\n",
       "      <th>1151</th>\n",
       "      <td>-1</td>\n",
       "      <td>НЕБЕЛЬ</td>\n",
       "      <td>КИРЕНГА</td>\n",
       "      <td>30/07 15:53</td>\n",
       "      <td>30/07 16:52</td>\n",
       "      <td>1002214</td>\n",
       "      <td>-1</td>\n",
       "    </tr>\n",
       "    <tr>\n",
       "      <th>1152</th>\n",
       "      <td>-1</td>\n",
       "      <td>КИРЕНГА</td>\n",
       "      <td>КУНЕРМА</td>\n",
       "      <td>30/07 16:52</td>\n",
       "      <td>30/07 19:17</td>\n",
       "      <td>1002214</td>\n",
       "      <td>-1</td>\n",
       "    </tr>\n",
       "    <tr>\n",
       "      <th>1153</th>\n",
       "      <td>-1</td>\n",
       "      <td>КУНЕРМА</td>\n",
       "      <td>ДАБАН</td>\n",
       "      <td>30/07 19:17</td>\n",
       "      <td>30/07 20:09</td>\n",
       "      <td>1002214</td>\n",
       "      <td>-1</td>\n",
       "    </tr>\n",
       "    <tr>\n",
       "      <th>1154</th>\n",
       "      <td>-1</td>\n",
       "      <td>ДАБАН</td>\n",
       "      <td>ТЫЯ</td>\n",
       "      <td>30/07 20:09</td>\n",
       "      <td>30/07 20:41</td>\n",
       "      <td>1002214</td>\n",
       "      <td>-1</td>\n",
       "    </tr>\n",
       "    <tr>\n",
       "      <th>1155</th>\n",
       "      <td>-1</td>\n",
       "      <td>ТЫЯ</td>\n",
       "      <td>СЕВЕРОБАЙКАЛЬСК</td>\n",
       "      <td>30/07 20:41</td>\n",
       "      <td>30/07 21:04</td>\n",
       "      <td>1002214</td>\n",
       "      <td>-1</td>\n",
       "    </tr>\n",
       "  </tbody>\n",
       "</table>\n",
       "</div>"
      ],
      "text/plain": [
       "         loco         st_from_name           st_to_name time_start_f  \\\n",
       "1137  2000214            ВИХОРЕВКА             МОРГУДОН  29/07 15:10   \n",
       "1138  2000214             МОРГУДОН          ГАЛАЧИНСКИЙ  29/07 15:29   \n",
       "1139  2000214          ГАЛАЧИНСКИЙ     ПАДУНСКИЕ ПОРОГИ  29/07 15:50   \n",
       "1140  2000214     ПАДУНСКИЕ ПОРОГИ       ГИДРОСТРОИТЕЛЬ  29/07 16:15   \n",
       "1141  2000214       ГИДРОСТРОИТЕЛЬ  КОРШУНИХА-АНГАРСКАЯ  29/07 16:30   \n",
       "1142       -1  КОРШУНИХА-АНГАРСКАЯ            ХРЕБТОВАЯ  30/07 01:00   \n",
       "1143       -1            ХРЕБТОВАЯ                 ЛЕНА  30/07 01:39   \n",
       "1144       -1                 ЛЕНА               ЯКУРИМ  30/07 12:30   \n",
       "1145       -1               ЯКУРИМ       ЛЕНА-ВОСТОЧНАЯ  30/07 12:45   \n",
       "1146       -1       ЛЕНА-ВОСТОЧНАЯ            ЧУДНИЧНЫЙ  30/07 12:51   \n",
       "1147       -1            ЧУДНИЧНЫЙ             ЗВЕЗДНАЯ  30/07 13:30   \n",
       "1148       -1             ЗВЕЗДНАЯ                  НИЯ  30/07 14:15   \n",
       "1149       -1                  НИЯ              ТАКОВКА  30/07 14:56   \n",
       "1150       -1              ТАКОВКА               НЕБЕЛЬ  30/07 15:17   \n",
       "1151       -1               НЕБЕЛЬ              КИРЕНГА  30/07 15:53   \n",
       "1152       -1              КИРЕНГА              КУНЕРМА  30/07 16:52   \n",
       "1153       -1              КУНЕРМА                ДАБАН  30/07 19:17   \n",
       "1154       -1                ДАБАН                  ТЫЯ  30/07 20:09   \n",
       "1155       -1                  ТЫЯ      СЕВЕРОБАЙКАЛЬСК  30/07 20:41   \n",
       "\n",
       "       time_end_f    train     team  \n",
       "1137  29/07 15:29  1002214  9257003  \n",
       "1138  29/07 15:50  1002214  9257003  \n",
       "1139  29/07 16:15  1002214  9257003  \n",
       "1140  29/07 16:30  1002214  9257003  \n",
       "1141  29/07 20:29  1002214  9257003  \n",
       "1142  30/07 01:39  1002214       -1  \n",
       "1143  30/07 04:11  1002214       -1  \n",
       "1144  30/07 12:45  1002214       -1  \n",
       "1145  30/07 12:51  1002214       -1  \n",
       "1146  30/07 13:30  1002214       -1  \n",
       "1147  30/07 14:15  1002214       -1  \n",
       "1148  30/07 14:56  1002214       -1  \n",
       "1149  30/07 15:17  1002214       -1  \n",
       "1150  30/07 15:53  1002214       -1  \n",
       "1151  30/07 16:52  1002214       -1  \n",
       "1152  30/07 19:17  1002214       -1  \n",
       "1153  30/07 20:09  1002214       -1  \n",
       "1154  30/07 20:41  1002214       -1  \n",
       "1155  30/07 21:04  1002214       -1  "
      ]
     },
     "execution_count": 1563,
     "metadata": {},
     "output_type": "execute_result"
    }
   ],
   "source": [
    "loco_plan[loco_plan.train == '1002040'][['loco', 'st_from_name', 'st_to_name', 'time_start_f', 'time_end_f', 'train']]\n",
    "train_plan[train_plan.train == '1002214'][['loco', 'st_from_name', 'st_to_name', 'time_start_f', 'time_end_f', 'train', 'team']]"
   ]
  },
  {
   "cell_type": "code",
   "execution_count": 1564,
   "metadata": {
    "collapsed": false
   },
   "outputs": [
    {
     "data": {
      "text/html": [
       "<div>\n",
       "<table border=\"1\" class=\"dataframe\">\n",
       "  <thead>\n",
       "    <tr style=\"text-align: right;\">\n",
       "      <th></th>\n",
       "      <th>station</th>\n",
       "      <th>loco_region</th>\n",
       "      <th>norm_time</th>\n",
       "      <th>name</th>\n",
       "      <th>esr</th>\n",
       "    </tr>\n",
       "  </thead>\n",
       "  <tbody>\n",
       "    <tr>\n",
       "      <th>5</th>\n",
       "      <td>2000036518</td>\n",
       "      <td>14</td>\n",
       "      <td>8280</td>\n",
       "      <td>ТАЙШЕТ</td>\n",
       "      <td>92000</td>\n",
       "    </tr>\n",
       "    <tr>\n",
       "      <th>6</th>\n",
       "      <td>2000036784</td>\n",
       "      <td>14</td>\n",
       "      <td>0</td>\n",
       "      <td>ТОРЕЯ</td>\n",
       "      <td>92421</td>\n",
       "    </tr>\n",
       "    <tr>\n",
       "      <th>7</th>\n",
       "      <td>2000036792</td>\n",
       "      <td>14</td>\n",
       "      <td>0</td>\n",
       "      <td>ТУРМА</td>\n",
       "      <td>92430</td>\n",
       "    </tr>\n",
       "    <tr>\n",
       "      <th>8</th>\n",
       "      <td>2000036796</td>\n",
       "      <td>14</td>\n",
       "      <td>6372</td>\n",
       "      <td>ВИХОРЕВКА</td>\n",
       "      <td>92440</td>\n",
       "    </tr>\n",
       "    <tr>\n",
       "      <th>9</th>\n",
       "      <td>2000036800</td>\n",
       "      <td>14</td>\n",
       "      <td>0</td>\n",
       "      <td>МОРГУДОН</td>\n",
       "      <td>92442</td>\n",
       "    </tr>\n",
       "    <tr>\n",
       "      <th>10</th>\n",
       "      <td>2000036894</td>\n",
       "      <td>14</td>\n",
       "      <td>0</td>\n",
       "      <td>ГАЛАЧИНСКИЙ</td>\n",
       "      <td>92491</td>\n",
       "    </tr>\n",
       "    <tr>\n",
       "      <th>11</th>\n",
       "      <td>2000036902</td>\n",
       "      <td>14</td>\n",
       "      <td>0</td>\n",
       "      <td>ПАДУНСКИЕ ПОРОГИ</td>\n",
       "      <td>92500</td>\n",
       "    </tr>\n",
       "    <tr>\n",
       "      <th>12</th>\n",
       "      <td>2000036904</td>\n",
       "      <td>14</td>\n",
       "      <td>0</td>\n",
       "      <td>ГИДРОСТРОИТЕЛЬ</td>\n",
       "      <td>92510</td>\n",
       "    </tr>\n",
       "    <tr>\n",
       "      <th>13</th>\n",
       "      <td>2000036868</td>\n",
       "      <td>14</td>\n",
       "      <td>6372</td>\n",
       "      <td>КОРШУНИХА-АНГАРСКАЯ</td>\n",
       "      <td>92570</td>\n",
       "    </tr>\n",
       "    <tr>\n",
       "      <th>14</th>\n",
       "      <td>2000036872</td>\n",
       "      <td>14</td>\n",
       "      <td>0</td>\n",
       "      <td>ХРЕБТОВАЯ</td>\n",
       "      <td>92580</td>\n",
       "    </tr>\n",
       "    <tr>\n",
       "      <th>15</th>\n",
       "      <td>2000036932</td>\n",
       "      <td>14</td>\n",
       "      <td>6516</td>\n",
       "      <td>ЛЕНА</td>\n",
       "      <td>92710</td>\n",
       "    </tr>\n",
       "  </tbody>\n",
       "</table>\n",
       "</div>"
      ],
      "text/plain": [
       "       station  loco_region  norm_time                 name    esr\n",
       "5   2000036518           14       8280               ТАЙШЕТ  92000\n",
       "6   2000036784           14          0                ТОРЕЯ  92421\n",
       "7   2000036792           14          0                ТУРМА  92430\n",
       "8   2000036796           14       6372            ВИХОРЕВКА  92440\n",
       "9   2000036800           14          0             МОРГУДОН  92442\n",
       "10  2000036894           14          0          ГАЛАЧИНСКИЙ  92491\n",
       "11  2000036902           14          0     ПАДУНСКИЕ ПОРОГИ  92500\n",
       "12  2000036904           14          0       ГИДРОСТРОИТЕЛЬ  92510\n",
       "13  2000036868           14       6372  КОРШУНИХА-АНГАРСКАЯ  92570\n",
       "14  2000036872           14          0            ХРЕБТОВАЯ  92580\n",
       "15  2000036932           14       6516                 ЛЕНА  92710"
      ]
     },
     "execution_count": 1564,
     "metadata": {},
     "output_type": "execute_result"
    }
   ],
   "source": [
    "stations[stations.loco_region == 14]"
   ]
  },
  {
   "cell_type": "markdown",
   "metadata": {},
   "source": [
    "<a id='dep_interval'></a>\n",
    "## Поиск поездов с интервалом между отправлениями меньше допустимого [ToC](#toc)"
   ]
  },
  {
   "cell_type": "code",
   "execution_count": 1565,
   "metadata": {
    "collapsed": true
   },
   "outputs": [],
   "source": [
    "add_header('Поиск поездов с интервалом между отправлениями меньше допустимого', h=2, p=False)"
   ]
  },
  {
   "cell_type": "code",
   "execution_count": 1566,
   "metadata": {
    "collapsed": true
   },
   "outputs": [],
   "source": [
    "# Параметры\n",
    "\n",
    "hor = 24 * 3600\n",
    "min_time_delta = 5 * 60 # 5 minutes"
   ]
  },
  {
   "cell_type": "code",
   "execution_count": 1567,
   "metadata": {
    "collapsed": true
   },
   "outputs": [],
   "source": [
    "# Функция, которая возвращает датафрейм с коллизиями\n",
    "\n",
    "def check_time_collision(df):\n",
    "    df['link_end'] = (df.st_from != df.st_from.shift(-1)) | (df.st_to != df.st_to.shift(-1))\n",
    "    df['link_start'] = (df.st_from != df.st_from.shift(1)) | (df.st_to != df.st_to.shift(1))\n",
    "    df.loc[df.link_end == False, 'time_to_next'] = df.time_start.shift(-1) - df.time_start\n",
    "    df.loc[df.link_start == False, 'time_to_prev'] = df.time_start - df.time_start.shift(1)\n",
    "    collisions = df.loc[(df.time_to_next < min_time_delta) | (df.time_to_prev < min_time_delta)]\n",
    "    return collisions"
   ]
  },
  {
   "cell_type": "code",
   "execution_count": 1568,
   "metadata": {
    "collapsed": false
   },
   "outputs": [
    {
     "name": "stdout",
     "output_type": "stream",
     "text": [
      "Время начала планирования: 29/07 18:00\n",
      "Количество коллизий (интервал между поездами меньше 5 минут):\n",
      "                            Тип Из всех поездов Из всех с подвязкой\n",
      "                     Все поезда              16                  16\n",
      "            Без учета резервных               0                   0\n",
      " Без учета резервных и фейковых               0                   0\n",
      "\n",
      "Реальные и фейковые поезда с интервалами меньше 5 минут (первые 20):\n",
      "Empty DataFrame\n",
      "Columns: [train, loco, team, st_from_name, st_to_name, time_start_f, time_end_f]\n",
      "Index: []\n"
     ]
    }
   ],
   "source": [
    "add_line('Время начала планирования: %s' % nice_time(current_time))\n",
    "cols = ['train', 'loco', 'team', 'st_from_name', 'st_to_name', 'time_start_f', 'time_end_f']\n",
    "train_plan['train_start'] = train_plan.train != train_plan.train.shift(1)\n",
    "train_plan.loc[train_plan.stop_time != -1, 'loco_start'] = (train_plan.loco != train_plan.loco.shift(1)) | \\\n",
    "                                                            (train_plan.train_start)\n",
    "train_plan.loc[train_plan.stop_time != -1, 'team_start'] = train_plan.team != train_plan.team.shift(1)\n",
    "mask = ((train_plan.loco_start == True) | (train_plan.team_start == True)) &\\\n",
    "        (train_plan.time_start < current_time + hor) & (train_plan.time_start >= current_time)\n",
    "assign_mask = (train_plan.loco != '-1') & (train_plan.team != '-1')\n",
    "cols_to_sort = ['st_from_name', 'st_to_name', 'time_start']\n",
    "start_times = train_plan.loc[mask].sort_values(cols_to_sort)\n",
    "start_times_no_res = train_plan.loc[mask & (train_plan.train_type.isin(['2', '9']))].sort_values(cols_to_sort)\n",
    "start_times_real = train_plan.loc[mask & (train_plan.train_type == '2')].sort_values(cols_to_sort)\n",
    "start_times_assign = train_plan.loc[mask & assign_mask].sort_values(cols_to_sort)\n",
    "start_times_assign_no_res = train_plan.loc[mask & assign_mask &\n",
    "                                           (train_plan.train_type.isin(['2', '9']))].sort_values(cols_to_sort)\n",
    "start_times_assign_real = train_plan.loc[mask & assign_mask & (train_plan.train_type == '2')].sort_values(cols_to_sort)\n",
    "\n",
    "all_coll = check_time_collision(start_times)\n",
    "no_res_coll = check_time_collision(start_times_no_res)\n",
    "real_coll = check_time_collision(start_times_real)\n",
    "all_assign_coll = check_time_collision(start_times_assign)\n",
    "no_res_assign_coll = check_time_collision(start_times_assign_no_res)\n",
    "real_assign_coll = check_time_collision(start_times_assign_real)\n",
    "train_n = len(start_times.train.drop_duplicates().index)\n",
    "res = pd.DataFrame([['Все поезда', 'Без учета резервных', 'Без учета резервных и фейковых'],                    \n",
    "                    [len(all_coll.index), len(no_res_coll.index), len(real_coll.index)],                    \n",
    "                    [len(all_assign_coll.index), len(no_res_assign_coll.index), len(real_assign_coll.index)]]).T\n",
    "res.columns = ['Тип', 'Из всех поездов', 'Из всех с подвязкой']\n",
    "add_header('Количество коллизий (интервал между поездами меньше %d минут):' % (min_time_delta / 60))\n",
    "add_line(res)\n",
    "add_header('\\nРеальные и фейковые поезда с интервалами меньше %d минут (первые 20):' % (min_time_delta / 60))\n",
    "add_line(no_res_coll[cols].head(20))"
   ]
  },
  {
   "cell_type": "markdown",
   "metadata": {},
   "source": [
    "<a id='ssp'></a>\n",
    "## Сравнение количества запланированных поездов с данными АС ССП [ToC](#toc)"
   ]
  },
  {
   "cell_type": "code",
   "execution_count": 1569,
   "metadata": {
    "collapsed": true
   },
   "outputs": [],
   "source": [
    "add_header('Сравнение количества запланированных поездов с данными АС ССП', h=2, p=False)"
   ]
  },
  {
   "cell_type": "code",
   "execution_count": 1570,
   "metadata": {
    "collapsed": true
   },
   "outputs": [],
   "source": [
    "def count_volumes(full_plan, df_ssp):\n",
    "    hor = 24 * 3600\n",
    "    df_ssp.dep_dir.fillna(0, inplace=True)    \n",
    "    df_ssp.loc[df_ssp.dep_dir == 0, 'depart'] = 0\n",
    "    df_ssp.dropna(subset=['depart'], inplace=True)\n",
    "    \n",
    "    ssp_st_froms = df_ssp.loc[df_ssp.dep_dir == 0].station\n",
    "    mask_time = (full_plan.time_start >= current_time) & (full_plan.time_start < current_time + hor)\n",
    "    mask_type = full_plan.train_type.isin(['2', '9'])\n",
    "    trains = full_plan.loc[mask_time & mask_type & full_plan.st_from_name.isin(ssp_st_froms)].\\\n",
    "                        groupby(['st_from_name', 'st_to_name']).train.count()\n",
    "    df_ssp.loc[df_ssp.dep_dir == 0, 'st_from_name'] = df_ssp.station\n",
    "    df_ssp = df_ssp.fillna(method='ffill')\n",
    "    df_ssp['st_to_name'] = df_ssp.station\n",
    "    replace_st_from_names = df_ssp.loc[df_ssp.dep_dir == 0, ['st_from_name', 'st_show_name']].drop_duplicates()\n",
    "    df_ssp['st_from_show'] = df_ssp.st_from_name.map(replace_st_from_names.set_index('st_from_name').st_show_name)\n",
    "    df_ssp['st_to_show'] = df_ssp.st_show_name    \n",
    "    return trains.to_frame().join(df_ssp[['st_from_name', 'st_to_name', 'depart', 'st_from_show', 'st_to_show', 'dep_dir']].\\\n",
    "                                  set_index(['st_from_name', 'st_to_name'])).reset_index()"
   ]
  },
  {
   "cell_type": "code",
   "execution_count": 1571,
   "metadata": {
    "collapsed": true
   },
   "outputs": [],
   "source": [
    "def show_barplot(df, road_name):\n",
    "    df['delta'] = df.train - df.depart\n",
    "    df['percent'] = np.round(100 * df.delta / df.depart, 2)\n",
    "    df['st_from_short'] = df.st_from_show.apply(lambda x: str(x)[:25])\n",
    "    df['st_to_short'] = df.st_to_show.apply(lambda x: str(x)[:25])\n",
    "    df['link'] = df.st_from_short + ' - ' + df.st_to_short \n",
    "    \n",
    "    print('%s железная дорога:' % road_name)\n",
    "    print('Среднее и медиана абсолютного отклонения: %.2f, %.2f' % (df.delta.mean(), df.delta.median()))\n",
    "    print('Среднее и медиана относительного отклонения (в процентах): %.2f%%, %.2f%%' % (df.percent.mean(), df.percent.median()))\n",
    "\n",
    "    b = df.sort_values('delta', ascending=False)\n",
    "    sns.set_style('whitegrid')\n",
    "    sns.set_context('poster', font_scale=0.7, rc={'axes.labelsize': 18})\n",
    "    c = sns.barplot(y='link', x='delta', data=df.sort_values('delta', ascending=False), palette='coolwarm')\n",
    "    xlabel = '%s ж/д: отклонение от данных АС ССП по отправлению поездов на сутки' % road_name\n",
    "    c.set(xlabel=xlabel, ylabel='')"
   ]
  },
  {
   "cell_type": "code",
   "execution_count": 1572,
   "metadata": {
    "collapsed": false
   },
   "outputs": [],
   "source": [
    "VOL_PERCENT = 0.9\n",
    "\n",
    "def show_two_barplots(df, road_name, save=False, btype='less'):\n",
    "    df['st_from_short'] = df.st_from_show.apply(lambda x: str(x)[:25])\n",
    "    df['st_to_short'] = df.st_to_show.apply(lambda x: str(x)[:25])\n",
    "    df['link'] = df.st_from_short + ' - ' + df.st_to_short     \n",
    "    sns.set_style('whitegrid')    \n",
    "    sns.set_context('poster', font_scale=0.7, rc={'axes.titlesize':18, 'axes.labelsize':14})\n",
    "    fig, ax = plt.subplots(nrows=2, ncols=1, figsize=(14,20))    \n",
    "    df.depart.fillna(0, inplace=True)    \n",
    "    df['bottom'] = df.apply(lambda row: row.depart if row.train <= row.depart else row.train, axis=1)\n",
    "    df['top'] = df.apply(lambda row: row.train if row.train <= row.depart else row.depart, axis=1)     \n",
    "    \n",
    "    sns.set_color_codes('pastel')\n",
    "    sns.barplot(x='bottom', y='link', data=df[df.train <= VOL_PERCENT * df.depart].sort_values('bottom'), \n",
    "                label='Поезда из АС ССП', color=\"b\", orient='h', ax=ax[0])\n",
    "    sns.barplot(x='bottom', y='link', data=df[df.train * VOL_PERCENT > df.depart].sort_values('bottom'), \n",
    "                label='Поезда в результатах', color=\"r\", orient='h', ax=ax[1])\n",
    "    sns.set_color_codes('muted')\n",
    "    sns.barplot(x='top', y='link', data=df[df.train <= VOL_PERCENT * df.depart].sort_values('bottom'), \n",
    "                label='Поезда в результатах', color=\"b\", orient='h', ax=ax[0])\n",
    "    sns.barplot(x='top', y='link', data=df[df.train * VOL_PERCENT > df.depart].sort_values('bottom'), \n",
    "                label='Поезда из АС ССП', color=\"r\", orient='h', ax=ax[1])    \n",
    "    ax[0].legend(ncol=1, loc=\"upper right\", frameon=True)    \n",
    "    ax[1].legend(ncol=1, loc=\"upper right\", frameon=True)\n",
    "    ax[0].set(xlabel='', title='Нехватка запланированных поездов')\n",
    "    ax[1].set(xlabel='', title='Избыток запланированных поездов')\n",
    "    \n",
    "    sns.despine()\n",
    "    if save:\n",
    "        filename = road_name + '.png'\n",
    "        fig.savefig(REPORT_FOLDER + filename, bbox_inches='tight')\n",
    "        add_image(filename, scale=1.0)"
   ]
  },
  {
   "cell_type": "code",
   "execution_count": 1573,
   "metadata": {
    "collapsed": false
   },
   "outputs": [],
   "source": [
    "def func(x):\n",
    "    return np.round(np.sqrt(np.mean(x ** 2)), 2)\n",
    "\n",
    "def print_ssp_stats(ssp, road_name):\n",
    "    df = count_volumes(train_plan, ssp)\n",
    "    df.rename(columns={'train':'planned', 'depart':'ssp'}, inplace=True)\n",
    "    df.dropna(subset=['ssp'], inplace=True)\n",
    "    df['delta'] = df.planned - df.ssp    \n",
    "    cols = ['st_from_name', 'st_to_show', 'dep_dir', 'planned', 'ssp', 'delta']    \n",
    "    add_header('Дорога %s' % road_name, h=3)\n",
    "    add_header('Сравнение запланированного и \"нормативного\" количества поездов:')\n",
    "    add_line(df.sort_values(['dep_dir', 'delta'])[cols])    \n",
    "    add_header('\\nСреднее отклонение по количеству поездов по направлениям:')\n",
    "    add_line(df.groupby('dep_dir').delta.mean().apply(lambda x: np.round(x, 2)))\n",
    "    add_header('\\nСреднеквадратичное отклонение по направлениям:')\n",
    "    add_line(df.groupby('dep_dir').delta.agg(func))"
   ]
  },
  {
   "cell_type": "code",
   "execution_count": 1574,
   "metadata": {
    "collapsed": false
   },
   "outputs": [],
   "source": [
    "krs = pd.read_csv(FOLDER + 'mandatory/SSP_KRS.csv', sep=';')\n",
    "vsib = pd.read_csv(FOLDER + 'mandatory/SSP_VSIB.csv', sep=';')\n",
    "zab = pd.read_csv(FOLDER + 'mandatory/SSP_ZAB.csv', sep=';')\n",
    "dvs = pd.read_csv(FOLDER + 'mandatory/SSP_DVS.csv', sep=';')"
   ]
  },
  {
   "cell_type": "code",
   "execution_count": 1575,
   "metadata": {
    "collapsed": false
   },
   "outputs": [
    {
     "name": "stdout",
     "output_type": "stream",
     "text": [
      "Дорога КРАС\n",
      "Сравнение запланированного и \"нормативного\" количества поездов:\n",
      "Empty DataFrame\n",
      "Columns: [st_from_name, st_to_show, dep_dir, planned, ssp, delta]\n",
      "Index: []\n",
      "\n",
      "Среднее отклонение по количеству поездов по направлениям:\n",
      "Series([], )\n",
      "\n",
      "Среднеквадратичное отклонение по направлениям:\n",
      "Series([], )\n"
     ]
    }
   ],
   "source": [
    "print_ssp_stats(krs, 'КРАС')"
   ]
  },
  {
   "cell_type": "code",
   "execution_count": 1576,
   "metadata": {
    "collapsed": false
   },
   "outputs": [
    {
     "ename": "TypeError",
     "evalue": "Cannot infer number of levels from empty list",
     "output_type": "error",
     "traceback": [
      "\u001b[1;31m---------------------------------------------------------------------------\u001b[0m",
      "\u001b[1;31mTypeError\u001b[0m                                 Traceback (most recent call last)",
      "\u001b[1;32m<ipython-input-1576-80ccc448362c>\u001b[0m in \u001b[0;36m<module>\u001b[1;34m()\u001b[0m\n\u001b[1;32m----> 1\u001b[1;33m \u001b[0mprint_ssp_stats\u001b[0m\u001b[1;33m(\u001b[0m\u001b[0mvsib\u001b[0m\u001b[1;33m,\u001b[0m \u001b[1;34m'ВСИБ'\u001b[0m\u001b[1;33m)\u001b[0m\u001b[1;33m\u001b[0m\u001b[0m\n\u001b[0m",
      "\u001b[1;32m<ipython-input-1573-81b0279f10f7>\u001b[0m in \u001b[0;36mprint_ssp_stats\u001b[1;34m(ssp, road_name)\u001b[0m\n\u001b[0;32m      3\u001b[0m \u001b[1;33m\u001b[0m\u001b[0m\n\u001b[0;32m      4\u001b[0m \u001b[1;32mdef\u001b[0m \u001b[0mprint_ssp_stats\u001b[0m\u001b[1;33m(\u001b[0m\u001b[0mssp\u001b[0m\u001b[1;33m,\u001b[0m \u001b[0mroad_name\u001b[0m\u001b[1;33m)\u001b[0m\u001b[1;33m:\u001b[0m\u001b[1;33m\u001b[0m\u001b[0m\n\u001b[1;32m----> 5\u001b[1;33m     \u001b[0mdf\u001b[0m \u001b[1;33m=\u001b[0m \u001b[0mcount_volumes\u001b[0m\u001b[1;33m(\u001b[0m\u001b[0mtrain_plan\u001b[0m\u001b[1;33m,\u001b[0m \u001b[0mssp\u001b[0m\u001b[1;33m)\u001b[0m\u001b[1;33m\u001b[0m\u001b[0m\n\u001b[0m\u001b[0;32m      6\u001b[0m     \u001b[0mdf\u001b[0m\u001b[1;33m.\u001b[0m\u001b[0mrename\u001b[0m\u001b[1;33m(\u001b[0m\u001b[0mcolumns\u001b[0m\u001b[1;33m=\u001b[0m\u001b[1;33m{\u001b[0m\u001b[1;34m'train'\u001b[0m\u001b[1;33m:\u001b[0m\u001b[1;34m'planned'\u001b[0m\u001b[1;33m,\u001b[0m \u001b[1;34m'depart'\u001b[0m\u001b[1;33m:\u001b[0m\u001b[1;34m'ssp'\u001b[0m\u001b[1;33m}\u001b[0m\u001b[1;33m,\u001b[0m \u001b[0minplace\u001b[0m\u001b[1;33m=\u001b[0m\u001b[1;32mTrue\u001b[0m\u001b[1;33m)\u001b[0m\u001b[1;33m\u001b[0m\u001b[0m\n\u001b[0;32m      7\u001b[0m     \u001b[0mdf\u001b[0m\u001b[1;33m.\u001b[0m\u001b[0mdropna\u001b[0m\u001b[1;33m(\u001b[0m\u001b[0msubset\u001b[0m\u001b[1;33m=\u001b[0m\u001b[1;33m[\u001b[0m\u001b[1;34m'ssp'\u001b[0m\u001b[1;33m]\u001b[0m\u001b[1;33m,\u001b[0m \u001b[0minplace\u001b[0m\u001b[1;33m=\u001b[0m\u001b[1;32mTrue\u001b[0m\u001b[1;33m)\u001b[0m\u001b[1;33m\u001b[0m\u001b[0m\n",
      "\u001b[1;32m<ipython-input-1570-b0b625a68c03>\u001b[0m in \u001b[0;36mcount_volumes\u001b[1;34m(full_plan, df_ssp)\u001b[0m\n\u001b[0;32m     15\u001b[0m     \u001b[0mdf_ssp\u001b[0m\u001b[1;33m[\u001b[0m\u001b[1;34m'st_from_show'\u001b[0m\u001b[1;33m]\u001b[0m \u001b[1;33m=\u001b[0m \u001b[0mdf_ssp\u001b[0m\u001b[1;33m.\u001b[0m\u001b[0mst_from_name\u001b[0m\u001b[1;33m.\u001b[0m\u001b[0mmap\u001b[0m\u001b[1;33m(\u001b[0m\u001b[0mreplace_st_from_names\u001b[0m\u001b[1;33m.\u001b[0m\u001b[0mset_index\u001b[0m\u001b[1;33m(\u001b[0m\u001b[1;34m'st_from_name'\u001b[0m\u001b[1;33m)\u001b[0m\u001b[1;33m.\u001b[0m\u001b[0mst_show_name\u001b[0m\u001b[1;33m)\u001b[0m\u001b[1;33m\u001b[0m\u001b[0m\n\u001b[0;32m     16\u001b[0m     \u001b[0mdf_ssp\u001b[0m\u001b[1;33m[\u001b[0m\u001b[1;34m'st_to_show'\u001b[0m\u001b[1;33m]\u001b[0m \u001b[1;33m=\u001b[0m \u001b[0mdf_ssp\u001b[0m\u001b[1;33m.\u001b[0m\u001b[0mst_show_name\u001b[0m\u001b[1;33m\u001b[0m\u001b[0m\n\u001b[1;32m---> 17\u001b[1;33m     \u001b[1;32mreturn\u001b[0m \u001b[0mtrains\u001b[0m\u001b[1;33m.\u001b[0m\u001b[0mto_frame\u001b[0m\u001b[1;33m(\u001b[0m\u001b[1;33m)\u001b[0m\u001b[1;33m.\u001b[0m\u001b[0mjoin\u001b[0m\u001b[1;33m(\u001b[0m\u001b[0mdf_ssp\u001b[0m\u001b[1;33m[\u001b[0m\u001b[1;33m[\u001b[0m\u001b[1;34m'st_from_name'\u001b[0m\u001b[1;33m,\u001b[0m \u001b[1;34m'st_to_name'\u001b[0m\u001b[1;33m,\u001b[0m \u001b[1;34m'depart'\u001b[0m\u001b[1;33m,\u001b[0m \u001b[1;34m'st_from_show'\u001b[0m\u001b[1;33m,\u001b[0m \u001b[1;34m'st_to_show'\u001b[0m\u001b[1;33m,\u001b[0m \u001b[1;34m'dep_dir'\u001b[0m\u001b[1;33m]\u001b[0m\u001b[1;33m]\u001b[0m\u001b[1;33m.\u001b[0m                                  \u001b[0mset_index\u001b[0m\u001b[1;33m(\u001b[0m\u001b[1;33m[\u001b[0m\u001b[1;34m'st_from_name'\u001b[0m\u001b[1;33m,\u001b[0m \u001b[1;34m'st_to_name'\u001b[0m\u001b[1;33m]\u001b[0m\u001b[1;33m)\u001b[0m\u001b[1;33m)\u001b[0m\u001b[1;33m.\u001b[0m\u001b[0mreset_index\u001b[0m\u001b[1;33m(\u001b[0m\u001b[1;33m)\u001b[0m\u001b[1;33m\u001b[0m\u001b[0m\n\u001b[0m",
      "\u001b[1;32mC:\\Users\\oracle\\Anaconda3\\lib\\site-packages\\pandas\\core\\frame.py\u001b[0m in \u001b[0;36mjoin\u001b[1;34m(self, other, on, how, lsuffix, rsuffix, sort)\u001b[0m\n\u001b[0;32m   4276\u001b[0m         \u001b[1;31m# For SparseDataFrame's benefit\u001b[0m\u001b[1;33m\u001b[0m\u001b[1;33m\u001b[0m\u001b[0m\n\u001b[0;32m   4277\u001b[0m         return self._join_compat(other, on=on, how=how, lsuffix=lsuffix,\n\u001b[1;32m-> 4278\u001b[1;33m                                  rsuffix=rsuffix, sort=sort)\n\u001b[0m\u001b[0;32m   4279\u001b[0m \u001b[1;33m\u001b[0m\u001b[0m\n\u001b[0;32m   4280\u001b[0m     def _join_compat(self, other, on=None, how='left', lsuffix='', rsuffix='',\n",
      "\u001b[1;32mC:\\Users\\oracle\\Anaconda3\\lib\\site-packages\\pandas\\core\\frame.py\u001b[0m in \u001b[0;36m_join_compat\u001b[1;34m(self, other, on, how, lsuffix, rsuffix, sort)\u001b[0m\n\u001b[0;32m   4290\u001b[0m             return merge(self, other, left_on=on, how=how,\n\u001b[0;32m   4291\u001b[0m                          \u001b[0mleft_index\u001b[0m\u001b[1;33m=\u001b[0m\u001b[0mon\u001b[0m \u001b[1;32mis\u001b[0m \u001b[1;32mNone\u001b[0m\u001b[1;33m,\u001b[0m \u001b[0mright_index\u001b[0m\u001b[1;33m=\u001b[0m\u001b[1;32mTrue\u001b[0m\u001b[1;33m,\u001b[0m\u001b[1;33m\u001b[0m\u001b[0m\n\u001b[1;32m-> 4292\u001b[1;33m                          suffixes=(lsuffix, rsuffix), sort=sort)\n\u001b[0m\u001b[0;32m   4293\u001b[0m         \u001b[1;32melse\u001b[0m\u001b[1;33m:\u001b[0m\u001b[1;33m\u001b[0m\u001b[0m\n\u001b[0;32m   4294\u001b[0m             \u001b[1;32mif\u001b[0m \u001b[0mon\u001b[0m \u001b[1;32mis\u001b[0m \u001b[1;32mnot\u001b[0m \u001b[1;32mNone\u001b[0m\u001b[1;33m:\u001b[0m\u001b[1;33m\u001b[0m\u001b[0m\n",
      "\u001b[1;32mC:\\Users\\oracle\\Anaconda3\\lib\\site-packages\\pandas\\tools\\merge.py\u001b[0m in \u001b[0;36mmerge\u001b[1;34m(left, right, how, on, left_on, right_on, left_index, right_index, sort, suffixes, copy, indicator)\u001b[0m\n\u001b[0;32m     33\u001b[0m                          \u001b[0mright_index\u001b[0m\u001b[1;33m=\u001b[0m\u001b[0mright_index\u001b[0m\u001b[1;33m,\u001b[0m \u001b[0msort\u001b[0m\u001b[1;33m=\u001b[0m\u001b[0msort\u001b[0m\u001b[1;33m,\u001b[0m \u001b[0msuffixes\u001b[0m\u001b[1;33m=\u001b[0m\u001b[0msuffixes\u001b[0m\u001b[1;33m,\u001b[0m\u001b[1;33m\u001b[0m\u001b[0m\n\u001b[0;32m     34\u001b[0m                          copy=copy, indicator=indicator)\n\u001b[1;32m---> 35\u001b[1;33m     \u001b[1;32mreturn\u001b[0m \u001b[0mop\u001b[0m\u001b[1;33m.\u001b[0m\u001b[0mget_result\u001b[0m\u001b[1;33m(\u001b[0m\u001b[1;33m)\u001b[0m\u001b[1;33m\u001b[0m\u001b[0m\n\u001b[0m\u001b[0;32m     36\u001b[0m \u001b[1;32mif\u001b[0m \u001b[0m__debug__\u001b[0m\u001b[1;33m:\u001b[0m\u001b[1;33m\u001b[0m\u001b[0m\n\u001b[0;32m     37\u001b[0m     \u001b[0mmerge\u001b[0m\u001b[1;33m.\u001b[0m\u001b[0m__doc__\u001b[0m \u001b[1;33m=\u001b[0m \u001b[0m_merge_doc\u001b[0m \u001b[1;33m%\u001b[0m \u001b[1;34m'\\nleft : DataFrame'\u001b[0m\u001b[1;33m\u001b[0m\u001b[0m\n",
      "\u001b[1;32mC:\\Users\\oracle\\Anaconda3\\lib\\site-packages\\pandas\\tools\\merge.py\u001b[0m in \u001b[0;36mget_result\u001b[1;34m(self)\u001b[0m\n\u001b[0;32m    194\u001b[0m             \u001b[0mself\u001b[0m\u001b[1;33m.\u001b[0m\u001b[0mleft\u001b[0m\u001b[1;33m,\u001b[0m \u001b[0mself\u001b[0m\u001b[1;33m.\u001b[0m\u001b[0mright\u001b[0m \u001b[1;33m=\u001b[0m \u001b[0mself\u001b[0m\u001b[1;33m.\u001b[0m\u001b[0m_indicator_pre_merge\u001b[0m\u001b[1;33m(\u001b[0m\u001b[0mself\u001b[0m\u001b[1;33m.\u001b[0m\u001b[0mleft\u001b[0m\u001b[1;33m,\u001b[0m \u001b[0mself\u001b[0m\u001b[1;33m.\u001b[0m\u001b[0mright\u001b[0m\u001b[1;33m)\u001b[0m\u001b[1;33m\u001b[0m\u001b[0m\n\u001b[0;32m    195\u001b[0m \u001b[1;33m\u001b[0m\u001b[0m\n\u001b[1;32m--> 196\u001b[1;33m         \u001b[0mjoin_index\u001b[0m\u001b[1;33m,\u001b[0m \u001b[0mleft_indexer\u001b[0m\u001b[1;33m,\u001b[0m \u001b[0mright_indexer\u001b[0m \u001b[1;33m=\u001b[0m \u001b[0mself\u001b[0m\u001b[1;33m.\u001b[0m\u001b[0m_get_join_info\u001b[0m\u001b[1;33m(\u001b[0m\u001b[1;33m)\u001b[0m\u001b[1;33m\u001b[0m\u001b[0m\n\u001b[0m\u001b[0;32m    197\u001b[0m \u001b[1;33m\u001b[0m\u001b[0m\n\u001b[0;32m    198\u001b[0m         \u001b[0mldata\u001b[0m\u001b[1;33m,\u001b[0m \u001b[0mrdata\u001b[0m \u001b[1;33m=\u001b[0m \u001b[0mself\u001b[0m\u001b[1;33m.\u001b[0m\u001b[0mleft\u001b[0m\u001b[1;33m.\u001b[0m\u001b[0m_data\u001b[0m\u001b[1;33m,\u001b[0m \u001b[0mself\u001b[0m\u001b[1;33m.\u001b[0m\u001b[0mright\u001b[0m\u001b[1;33m.\u001b[0m\u001b[0m_data\u001b[0m\u001b[1;33m\u001b[0m\u001b[0m\n",
      "\u001b[1;32mC:\\Users\\oracle\\Anaconda3\\lib\\site-packages\\pandas\\tools\\merge.py\u001b[0m in \u001b[0;36m_get_join_info\u001b[1;34m(self)\u001b[0m\n\u001b[0;32m    308\u001b[0m         \u001b[1;32mif\u001b[0m \u001b[0mself\u001b[0m\u001b[1;33m.\u001b[0m\u001b[0mleft_index\u001b[0m \u001b[1;32mand\u001b[0m \u001b[0mself\u001b[0m\u001b[1;33m.\u001b[0m\u001b[0mright_index\u001b[0m\u001b[1;33m:\u001b[0m\u001b[1;33m\u001b[0m\u001b[0m\n\u001b[0;32m    309\u001b[0m             \u001b[0mjoin_index\u001b[0m\u001b[1;33m,\u001b[0m \u001b[0mleft_indexer\u001b[0m\u001b[1;33m,\u001b[0m \u001b[0mright_indexer\u001b[0m \u001b[1;33m=\u001b[0m\u001b[0;31m \u001b[0m\u001b[0;31m\\\u001b[0m\u001b[1;33m\u001b[0m\u001b[0m\n\u001b[1;32m--> 310\u001b[1;33m                 \u001b[0mleft_ax\u001b[0m\u001b[1;33m.\u001b[0m\u001b[0mjoin\u001b[0m\u001b[1;33m(\u001b[0m\u001b[0mright_ax\u001b[0m\u001b[1;33m,\u001b[0m \u001b[0mhow\u001b[0m\u001b[1;33m=\u001b[0m\u001b[0mself\u001b[0m\u001b[1;33m.\u001b[0m\u001b[0mhow\u001b[0m\u001b[1;33m,\u001b[0m \u001b[0mreturn_indexers\u001b[0m\u001b[1;33m=\u001b[0m\u001b[1;32mTrue\u001b[0m\u001b[1;33m)\u001b[0m\u001b[1;33m\u001b[0m\u001b[0m\n\u001b[0m\u001b[0;32m    311\u001b[0m         \u001b[1;32melif\u001b[0m \u001b[0mself\u001b[0m\u001b[1;33m.\u001b[0m\u001b[0mright_index\u001b[0m \u001b[1;32mand\u001b[0m \u001b[0mself\u001b[0m\u001b[1;33m.\u001b[0m\u001b[0mhow\u001b[0m \u001b[1;33m==\u001b[0m \u001b[1;34m'left'\u001b[0m\u001b[1;33m:\u001b[0m\u001b[1;33m\u001b[0m\u001b[0m\n\u001b[0;32m    312\u001b[0m             \u001b[0mjoin_index\u001b[0m\u001b[1;33m,\u001b[0m \u001b[0mleft_indexer\u001b[0m\u001b[1;33m,\u001b[0m \u001b[0mright_indexer\u001b[0m \u001b[1;33m=\u001b[0m\u001b[0;31m \u001b[0m\u001b[0;31m\\\u001b[0m\u001b[1;33m\u001b[0m\u001b[0m\n",
      "\u001b[1;32mC:\\Users\\oracle\\Anaconda3\\lib\\site-packages\\pandas\\core\\index.py\u001b[0m in \u001b[0;36mjoin\u001b[1;34m(self, other, how, level, return_indexers)\u001b[0m\n\u001b[0;32m   2282\u001b[0m             \u001b[1;32melse\u001b[0m\u001b[1;33m:\u001b[0m\u001b[1;33m\u001b[0m\u001b[0m\n\u001b[0;32m   2283\u001b[0m                 return self._join_non_unique(other, how=how,\n\u001b[1;32m-> 2284\u001b[1;33m                                              return_indexers=return_indexers)\n\u001b[0m\u001b[0;32m   2285\u001b[0m         \u001b[1;32melif\u001b[0m \u001b[0mself\u001b[0m\u001b[1;33m.\u001b[0m\u001b[0mis_monotonic\u001b[0m \u001b[1;32mand\u001b[0m \u001b[0mother\u001b[0m\u001b[1;33m.\u001b[0m\u001b[0mis_monotonic\u001b[0m\u001b[1;33m:\u001b[0m\u001b[1;33m\u001b[0m\u001b[0m\n\u001b[0;32m   2286\u001b[0m             \u001b[1;32mtry\u001b[0m\u001b[1;33m:\u001b[0m\u001b[1;33m\u001b[0m\u001b[0m\n",
      "\u001b[1;32mC:\\Users\\oracle\\Anaconda3\\lib\\site-packages\\pandas\\core\\index.py\u001b[0m in \u001b[0;36m_join_non_unique\u001b[1;34m(self, other, how, return_indexers)\u001b[0m\n\u001b[0;32m   2364\u001b[0m         \u001b[0mnp\u001b[0m\u001b[1;33m.\u001b[0m\u001b[0mputmask\u001b[0m\u001b[1;33m(\u001b[0m\u001b[0mjoin_index\u001b[0m\u001b[1;33m,\u001b[0m \u001b[0mmask\u001b[0m\u001b[1;33m,\u001b[0m \u001b[0mother\u001b[0m\u001b[1;33m.\u001b[0m\u001b[0m_values\u001b[0m\u001b[1;33m.\u001b[0m\u001b[0mtake\u001b[0m\u001b[1;33m(\u001b[0m\u001b[0mright_idx\u001b[0m\u001b[1;33m)\u001b[0m\u001b[1;33m)\u001b[0m\u001b[1;33m\u001b[0m\u001b[0m\n\u001b[0;32m   2365\u001b[0m \u001b[1;33m\u001b[0m\u001b[0m\n\u001b[1;32m-> 2366\u001b[1;33m         \u001b[0mjoin_index\u001b[0m \u001b[1;33m=\u001b[0m \u001b[0mself\u001b[0m\u001b[1;33m.\u001b[0m\u001b[0m_wrap_joined_index\u001b[0m\u001b[1;33m(\u001b[0m\u001b[0mjoin_index\u001b[0m\u001b[1;33m,\u001b[0m \u001b[0mother\u001b[0m\u001b[1;33m)\u001b[0m\u001b[1;33m\u001b[0m\u001b[0m\n\u001b[0m\u001b[0;32m   2367\u001b[0m \u001b[1;33m\u001b[0m\u001b[0m\n\u001b[0;32m   2368\u001b[0m         \u001b[1;32mif\u001b[0m \u001b[0mreturn_indexers\u001b[0m\u001b[1;33m:\u001b[0m\u001b[1;33m\u001b[0m\u001b[0m\n",
      "\u001b[1;32mC:\\Users\\oracle\\Anaconda3\\lib\\site-packages\\pandas\\core\\index.py\u001b[0m in \u001b[0;36m_wrap_joined_index\u001b[1;34m(self, joined, other)\u001b[0m\n\u001b[0;32m   6013\u001b[0m     \u001b[1;32mdef\u001b[0m \u001b[0m_wrap_joined_index\u001b[0m\u001b[1;33m(\u001b[0m\u001b[0mself\u001b[0m\u001b[1;33m,\u001b[0m \u001b[0mjoined\u001b[0m\u001b[1;33m,\u001b[0m \u001b[0mother\u001b[0m\u001b[1;33m)\u001b[0m\u001b[1;33m:\u001b[0m\u001b[1;33m\u001b[0m\u001b[0m\n\u001b[0;32m   6014\u001b[0m         \u001b[0mnames\u001b[0m \u001b[1;33m=\u001b[0m \u001b[0mself\u001b[0m\u001b[1;33m.\u001b[0m\u001b[0mnames\u001b[0m \u001b[1;32mif\u001b[0m \u001b[0mself\u001b[0m\u001b[1;33m.\u001b[0m\u001b[0mnames\u001b[0m \u001b[1;33m==\u001b[0m \u001b[0mother\u001b[0m\u001b[1;33m.\u001b[0m\u001b[0mnames\u001b[0m \u001b[1;32melse\u001b[0m \u001b[1;32mNone\u001b[0m\u001b[1;33m\u001b[0m\u001b[0m\n\u001b[1;32m-> 6015\u001b[1;33m         \u001b[1;32mreturn\u001b[0m \u001b[0mMultiIndex\u001b[0m\u001b[1;33m.\u001b[0m\u001b[0mfrom_tuples\u001b[0m\u001b[1;33m(\u001b[0m\u001b[0mjoined\u001b[0m\u001b[1;33m,\u001b[0m \u001b[0mnames\u001b[0m\u001b[1;33m=\u001b[0m\u001b[0mnames\u001b[0m\u001b[1;33m)\u001b[0m\u001b[1;33m\u001b[0m\u001b[0m\n\u001b[0m\u001b[0;32m   6016\u001b[0m \u001b[1;33m\u001b[0m\u001b[0m\n\u001b[0;32m   6017\u001b[0m     \u001b[1;33m@\u001b[0m\u001b[0mAppender\u001b[0m\u001b[1;33m(\u001b[0m\u001b[0mIndex\u001b[0m\u001b[1;33m.\u001b[0m\u001b[0misin\u001b[0m\u001b[1;33m.\u001b[0m\u001b[0m__doc__\u001b[0m\u001b[1;33m)\u001b[0m\u001b[1;33m\u001b[0m\u001b[0m\n",
      "\u001b[1;32mC:\\Users\\oracle\\Anaconda3\\lib\\site-packages\\pandas\\core\\index.py\u001b[0m in \u001b[0;36mfrom_tuples\u001b[1;34m(cls, tuples, sortorder, names)\u001b[0m\n\u001b[0;32m   4785\u001b[0m         \u001b[1;32mif\u001b[0m \u001b[0mlen\u001b[0m\u001b[1;33m(\u001b[0m\u001b[0mtuples\u001b[0m\u001b[1;33m)\u001b[0m \u001b[1;33m==\u001b[0m \u001b[1;36m0\u001b[0m\u001b[1;33m:\u001b[0m\u001b[1;33m\u001b[0m\u001b[0m\n\u001b[0;32m   4786\u001b[0m             \u001b[1;31m# I think this is right? Not quite sure...\u001b[0m\u001b[1;33m\u001b[0m\u001b[1;33m\u001b[0m\u001b[0m\n\u001b[1;32m-> 4787\u001b[1;33m             \u001b[1;32mraise\u001b[0m \u001b[0mTypeError\u001b[0m\u001b[1;33m(\u001b[0m\u001b[1;34m'Cannot infer number of levels from empty list'\u001b[0m\u001b[1;33m)\u001b[0m\u001b[1;33m\u001b[0m\u001b[0m\n\u001b[0m\u001b[0;32m   4788\u001b[0m \u001b[1;33m\u001b[0m\u001b[0m\n\u001b[0;32m   4789\u001b[0m         \u001b[1;32mif\u001b[0m \u001b[0misinstance\u001b[0m\u001b[1;33m(\u001b[0m\u001b[0mtuples\u001b[0m\u001b[1;33m,\u001b[0m \u001b[1;33m(\u001b[0m\u001b[0mnp\u001b[0m\u001b[1;33m.\u001b[0m\u001b[0mndarray\u001b[0m\u001b[1;33m,\u001b[0m \u001b[0mIndex\u001b[0m\u001b[1;33m)\u001b[0m\u001b[1;33m)\u001b[0m\u001b[1;33m:\u001b[0m\u001b[1;33m\u001b[0m\u001b[0m\n",
      "\u001b[1;31mTypeError\u001b[0m: Cannot infer number of levels from empty list"
     ]
    }
   ],
   "source": [
    "print_ssp_stats(vsib, 'ВСИБ')"
   ]
  },
  {
   "cell_type": "code",
   "execution_count": null,
   "metadata": {
    "collapsed": false
   },
   "outputs": [],
   "source": [
    "print_ssp_stats(zab, 'ЗАБ')"
   ]
  },
  {
   "cell_type": "code",
   "execution_count": null,
   "metadata": {
    "collapsed": false
   },
   "outputs": [],
   "source": [
    "print_ssp_stats(dvs, 'ДВС')"
   ]
  },
  {
   "cell_type": "code",
   "execution_count": null,
   "metadata": {
    "collapsed": false
   },
   "outputs": [],
   "source": [
    "# Пример построения barplot\n",
    "\n",
    "#krs = pd.read_csv(FOLDER + 'mandatory/SSP_KRS.csv', sep=';')\n",
    "#add_header('Красноярская дорога')\n",
    "#try:\n",
    "#    show_two_barplots(count_volumes(train_plan, krs), 'Красноярская', save=True, btype='less')\n",
    "#except:\n",
    "#    add_line('Красноярская дорога: ошибка в построении графика')"
   ]
  },
  {
   "cell_type": "markdown",
   "metadata": {},
   "source": [
    "<a id='info_plan_depart'></a>\n",
    "## Проверка соответствия первого участка в запланированном маршруте и исходного факта [ToC](#toc)"
   ]
  },
  {
   "cell_type": "code",
   "execution_count": null,
   "metadata": {
    "collapsed": true
   },
   "outputs": [],
   "source": [
    "add_header('Проверка соответствия первого участка в запланированном маршруте и исходного факта', h=2, p=False)"
   ]
  },
  {
   "cell_type": "code",
   "execution_count": null,
   "metadata": {
    "collapsed": false
   },
   "outputs": [],
   "source": [
    "cols = ['train', 'st_from_name', 'st_to_name', 'time_start_f', 'st_from_name_info', 'st_to_name_info', 'oper_time_f']\n",
    "td_plan = train_plan[(train_plan.st_from_info.isnull() == False) \n",
    "                     & (train_plan.st_from_info != '-1')].drop_duplicates('train')\n",
    "td_bad_track = td_plan[(td_plan.st_from != td_plan.st_from_info) | (td_plan.st_to != td_plan.st_to_info)]\n",
    "add_header('Поезда, у которых первый участок в маршруте не совпадает с исходным (всего %d, показаны первые 10):' \n",
    "          % td_bad_track.train.count())\n",
    "add_line(td_bad_track[cols])\n",
    "\n",
    "td_bad_time = td_plan[(td_plan.time_start != td_plan.oper_time)]\n",
    "add_header('\\nПоезда, у которых время отправления на первый участок в маршруте не совпадает с фактическим (всего %d, показаны первые 10):' \n",
    "          % td_bad_time.train.count())\n",
    "pd.set_option('display.max_colwidth', 19)\n",
    "add_line(td_bad_time.sort_values('oper_time')[cols].head(10))"
   ]
  },
  {
   "cell_type": "markdown",
   "metadata": {},
   "source": [
    "<a id='time_leaps'></a>\n",
    "## Проверка скачков по времени назад [ToC](#toc)"
   ]
  },
  {
   "cell_type": "code",
   "execution_count": null,
   "metadata": {
    "collapsed": true
   },
   "outputs": [],
   "source": [
    "add_header('Проверка скачков по времени назад', h=2, p=False)"
   ]
  },
  {
   "cell_type": "code",
   "execution_count": null,
   "metadata": {
    "collapsed": false
   },
   "outputs": [],
   "source": [
    "train_plan['next_time_start'] = train_plan.time_start.shift(-1)\n",
    "train_plan['next_time_start_f'] = train_plan.time_start_f.shift(-1)\n",
    "train_plan['train_end'] = train_plan.train != train_plan.train.shift(-1)\n",
    "cols = ['train', 'st_from_name', 'st_to_name', 'time_start_f', 'time_end_f', 'next_time_start_f']\n",
    "leaps = train_plan[(train_plan.train_end == False) & (train_plan.next_time_start < train_plan.time_end)][cols]\n",
    "if leaps.empty:\n",
    "    add_header('Не найдено поездов со скачками по времени назад в плане')\n",
    "else:\n",
    "    add_header('Всего %d поездов со скачками по времени назад в плане. Примеры:' % leaps.drop_duplicates('train').train.count())\n",
    "    add_line(leaps.drop_duplicates('train').head(10)[cols])\n",
    "    train_id = leaps.drop_duplicates('train').iloc[0].train\n",
    "    add_line('')    \n",
    "    add_line(train_plan[train_plan.train == train_id][cols])"
   ]
  },
  {
   "cell_type": "markdown",
   "metadata": {},
   "source": [
    "<a id='irk_ssp'></a>"
   ]
  },
  {
   "cell_type": "markdown",
   "metadata": {},
   "source": [
    "## Сравнение количества передаваемых в планировщик реальных поездов с ССП [ToC](#toc)"
   ]
  },
  {
   "cell_type": "code",
   "execution_count": null,
   "metadata": {
    "collapsed": true
   },
   "outputs": [],
   "source": [
    "# Направления для проверки\n",
    "\n",
    "test = [('ИРКУТСК-СОРТИРОВОЧНЫЙ', 'ГОНЧАРОВО'), ('ИРКУТСК-СОРТИРОВОЧНЫЙ', 'БАТАРЕЙНАЯ')]"
   ]
  },
  {
   "cell_type": "code",
   "execution_count": null,
   "metadata": {
    "collapsed": true
   },
   "outputs": [],
   "source": [
    "add_header('Детальное сравнение количества поездов с данными ССП по станции %s' % test[0][0], h=2, p=False)"
   ]
  },
  {
   "cell_type": "code",
   "execution_count": null,
   "metadata": {
    "collapsed": false
   },
   "outputs": [],
   "source": [
    "routes = pd.read_csv(FOLDER + 'routes.csv', dtype={'st_from':str, 'st_to':str, 'train':str})\n",
    "add_info(routes)\n",
    "routes['link_name'] = list(zip(routes.st_from_name, routes.st_to_name))\n",
    "#def_tt = pd.read_csv(FOLDER + '/mandatory/travel_times_all_pairs.csv', sep=';').set_index(['st_from_name', 'st_to_name'])\n",
    "def_tt = pd.read_csv(FOLDER + '/mandatory/travel_times.csv', index_col=0)"
   ]
  },
  {
   "cell_type": "code",
   "execution_count": null,
   "metadata": {
    "collapsed": false
   },
   "outputs": [],
   "source": [
    "def get_arrive_time(row, station):\n",
    "    if (row.oper == 'depart') | (row.oper_time >= current_time):\n",
    "        start_time = row.oper_time\n",
    "    else:\n",
    "        start_time = current_time            \n",
    "    return start_time + row.tt + row.lag\n",
    "\n",
    "(test_st, test_st_dir) = test[0]\n",
    "train_info['st_loc_name'] = train_info.oper_location.map(st_names.name)\n",
    "train_info.st_loc_name.fillna(train_info.st_from_name, inplace=True)\n",
    "#train_info['tt'] = train_info.st_loc_name.apply(lambda x: def_tt.ix[x, test_st].tt)\n",
    "train_info['tt'] = train_info.st_loc_name.apply(lambda x: 48 * 3600 if type(x) == float else def_tt[x][test_st])\n",
    "\n",
    "train_info['lag'] = np.round((train_info.tt / 6) * 1.5)\n",
    "train_info['arr_time'] = train_info[['oper', 'oper_time', 'tt', 'lag']]\\\n",
    "                                    .apply(lambda row: get_arrive_time(row, test_st), axis=1)\n",
    "train_info['arr_time_f'] = train_info.arr_time.apply(nice_time)\n",
    "train_info['plan_time'] = train_info.train.map(train_plan[train_plan.st_from_name == test_st].set_index('train').time_start)\n",
    "train_info['plan_time_f'] = train_info.plan_time.apply(nice_time)\n",
    "train_info['delta'] = train_info.plan_time - train_info.arr_time\n",
    "train_info['delta_h'] = np.round((train_info.delta / 3600), 2)\n",
    "\n",
    "train_plan['link_name'] = list(zip(train_plan.st_from_name, train_plan.st_to_name))\n",
    "\n",
    "dir_trains = train_info[(train_info.number >= 1000)\n",
    "                        & (train_info.train.isin(routes[routes.link_name == (test_st, test_st_dir)].train))]\n",
    "cols = ['train', 'number', 'oper', 'st_loc_name', 'tt', 'lag', 'oper_time_f', 'arr_time_f', 'plan_time_f', 'delta_h']\n",
    "dir_trains = dir_trains[dir_trains.arr_time < current_time + 24 * 3600].sort_values('arr_time')\n",
    "#a[cols]\n",
    "add_header('Всего %d поездов, по которым ожидается проследование в направлении %s - %s в первые сутки планирования'\n",
    "           % (dir_trains.train.count(), test_st, test_st_dir))"
   ]
  },
  {
   "cell_type": "code",
   "execution_count": null,
   "metadata": {
    "collapsed": false
   },
   "outputs": [],
   "source": [
    "no_plan = dir_trains[dir_trains.plan_time.isnull()][cols]\n",
    "pd.set_option('display.max_colwidth', 40)\n",
    "add_header('Всего %d поездов на направлении %s - %s, которых вообще нет в плане' % (no_plan.train.count(), test_st, test_st_dir))\n",
    "add_line(no_plan)"
   ]
  },
  {
   "cell_type": "code",
   "execution_count": null,
   "metadata": {
    "collapsed": false
   },
   "outputs": [],
   "source": [
    "plan_day = dir_trains[dir_trains.plan_time < current_time + 24 * 3600][cols]\n",
    "add_header('Всего %d поездов (%.2f%%), по которым запланировано проследование в направлении %s - %s в первые сутки'\n",
    "          % (plan_day.train.count(), 100 * plan_day.train.count() / dir_trains.train.count(), test_st, test_st_dir))"
   ]
  },
  {
   "cell_type": "code",
   "execution_count": null,
   "metadata": {
    "collapsed": false
   },
   "outputs": [],
   "source": [
    "# sns.set(context='notebook', style='whitegrid')\n",
    "# sns.set_color_codes('dark')\n",
    "# plt.figure(figsize=(10, 5))\n",
    "# sns.kdeplot(dir_trains[dir_trains.train.isin(plan_day.train) == False].dropna(subset=['delta']).delta / 3600, shade=True)\n",
    "\n",
    "delta_lim = 3 * 3600\n",
    "late_trains = dir_trains[dir_trains.delta > delta_lim]\n",
    "late_trains.sort_values('delta', ascending=False)[cols]\n",
    "add_header('Всего %d поездов (%.2f%%), у которых запланированное время проследования на участке %s - %s сильно сдвинуто вперед' \n",
    "           % (late_trains.train.count(), 100 * late_trains.train.count() / dir_trains.train.count(), test_st, test_st_dir))\n",
    "add_line(late_trains.sort_values('delta', ascending=False)[cols])"
   ]
  },
  {
   "cell_type": "code",
   "execution_count": null,
   "metadata": {
    "collapsed": false,
    "scrolled": false
   },
   "outputs": [],
   "source": [
    "plan_cols = ['train', 'oper', 'oper_time_f', 'st_from_name', 'st_to_name', 'time_start_f', 'time_end_f', 'loco', 'team']\n",
    "add_header('Пример плана по одному из поездов, формированием НЕ на станции %s:' % test_st)\n",
    "#train_id = late_trains[late_trains.st_loc_name != test_st].sort_values('delta', ascending=False).iloc[0].train\n",
    "train_id = '200022625675'\n",
    "with pd.option_context('display.max_colwidth', 15):\n",
    "    add_line(train_plan[train_plan.train == train_id][plan_cols])"
   ]
  },
  {
   "cell_type": "code",
   "execution_count": null,
   "metadata": {
    "collapsed": true
   },
   "outputs": [],
   "source": [
    "slot = pd.read_csv(FOLDER + 'slot.csv', dtype={'st_from':str, 'st_to':str})\n",
    "add_info(slot)\n",
    "slot['dt_start'] = slot.time_start.apply(datetime.datetime.fromtimestamp)"
   ]
  },
  {
   "cell_type": "code",
   "execution_count": null,
   "metadata": {
    "collapsed": false
   },
   "outputs": [],
   "source": [
    "test = [('ТАЙШЕТ', 'ТОРЕЯ')]\n",
    "(test_st, test_st_dir) = test[0]\n",
    "plan_cols = ['train', 'st_from_name', 'st_to_name', 'dt_start', 'loco', 'team']\n",
    "train_plan['dt_start'] = train_plan.time_start.apply(datetime.datetime.fromtimestamp)\n",
    "a = train_plan[(train_plan.st_from_name == test_st) \n",
    "           & (train_plan.st_to_name == test_st_dir) & (train_plan.train_type.isin(['2', '9']))\n",
    "           & (train_plan.time_start >= current_time) & (train_plan.time_end < current_time + 24 * 3600)]\\\n",
    "    .sort_values('dt_start')[plan_cols]\n",
    "dep_volume = a.set_index('dt_start').resample('1H', how='count').train\n",
    "dep_volume"
   ]
  },
  {
   "cell_type": "code",
   "execution_count": null,
   "metadata": {
    "collapsed": false
   },
   "outputs": [],
   "source": [
    "slot_volume = slot[(slot.st_from_name == test_st) & (slot.st_to_name == test_st_dir)]\\\n",
    "    .set_index('dt_start').resample('1H', how='count').slot\n",
    "dep_slot = dep_volume.to_frame().join(slot_volume)"
   ]
  },
  {
   "cell_type": "code",
   "execution_count": null,
   "metadata": {
    "collapsed": false
   },
   "outputs": [],
   "source": [
    "# slot_volume = slot[(slot.st_from_name == test_st) & (slot.st_to_name == test_st_dir)]\\\n",
    "#     .set_index('dt_start').resample('300s')\n",
    "# slot_volume.dropna(subset=['slot'], inplace=True)\n",
    "# slot_volume['slot'] = slot_volume.slot.apply(int)\n",
    "# slot_volume = slot_volume.reset_index().set_index('slot')\n",
    "# slot_volume"
   ]
  },
  {
   "cell_type": "code",
   "execution_count": null,
   "metadata": {
    "collapsed": false
   },
   "outputs": [],
   "source": [
    "a = dep_slot[dep_slot.train > dep_slot.slot]\n",
    "print(a)"
   ]
  },
  {
   "cell_type": "code",
   "execution_count": null,
   "metadata": {
    "collapsed": false
   },
   "outputs": [],
   "source": [
    "pd.set_option('display.max_colwidth', 40)\n",
    "cols = ['train', 'st_from_name', 'st_to_name', 'dt_start']\n",
    "for dt in a.index:\n",
    "    dt_next = dt + datetime.timedelta(0, 3600, 0)\n",
    "    print(dt, dt_next)\n",
    "    print(train_plan[(train_plan.train_type.isin(['2', '9']))\n",
    "                    & (train_plan.st_from_name == test_st) & (train_plan.st_to_name == test_st_dir)\n",
    "                    & (train_plan.dt_start >= dt) & (train_plan.dt_start < dt_next)].sort_values('dt_start')[cols])\n",
    "    print(slot[(slot.st_from_name == test_st) & (slot.st_to_name == test_st_dir)\n",
    "                    & (slot.dt_start >= dt) & (slot.dt_start < dt_next)].sort_values('dt_start')[['slot', 'dt_start']])\n",
    "    print('-------')"
   ]
  },
  {
   "cell_type": "markdown",
   "metadata": {},
   "source": [
    "[В начало](#toc)\n",
    "## Планирование сдвоенных поездов и поездов, составляющих сдвоенные\n",
    "\n",
    "0. Сдвоенные поезда - это поезда, которые указаны в атрибуте `joint` у каких-либо других поездов.\n",
    "1. Сдвоенные поезда с точки зрения планирования ничем не отличаются от обычных поездов. Проверяется, что сдвоенные поезда планируются до своей конечной станции.\n",
    "2. Составляющие поезда должны планироваться от конечной станции сдвоенного поезда и только после прибытия сдвоенного поезда на конечную станцию."
   ]
  },
  {
   "cell_type": "code",
   "execution_count": null,
   "metadata": {
    "collapsed": true
   },
   "outputs": [],
   "source": [
    "add_header('Планирование сдвоенных поездов и поездов, составляющих сдвоенные', h=2, p=False)"
   ]
  },
  {
   "cell_type": "code",
   "execution_count": null,
   "metadata": {
    "collapsed": false
   },
   "outputs": [],
   "source": [
    "train_info['is_arrive'] = train_info.last_st == train_info.loc_name\n",
    "train_plan['last_st_info'] = train_plan.train.map(train_info.set_index('train').last_st)\n",
    "joints = [t for t in train_info.joint.unique() if t != '-1']\n",
    "info_joints = train_info[train_info.train.isin(joints)]\n",
    "joints_to_plan = info_joints[info_joints.is_arrive == False]\n",
    "joints_planned = train_plan[train_plan.train.isin(joints_to_plan.train)]\n",
    "add_header('Всего запланировано %d сдвоенных поездов из %d корректно переданных (%.2f%%). Примеры незапланированных поездов:' \n",
    "           % (joints_planned.train.count(), joints_to_plan.train.count(), \n",
    "              100 * joints_planned.drop_duplicates('train').train.count() / joints_to_plan.train.count()))\n",
    "cols = ['train', 'number', 'ind434', 'oper', 'oper_time_f', 'loc_name']\n",
    "pd.set_option('display.max_colwidth', 50)\n",
    "add_line(joints_to_plan.head(10)[cols])"
   ]
  },
  {
   "cell_type": "code",
   "execution_count": null,
   "metadata": {
    "collapsed": false
   },
   "outputs": [],
   "source": [
    "tl = joints_planned.drop_duplicates('train', keep='last')\n",
    "tl_no_end = tl[tl.st_to_name != tl.last_st_info]\n",
    "add_header('Всего %d сдвоенных поездов из %d запланированных (%.2f%%) запланированы НЕ до конца маршрута. Примеры:' \n",
    "           % (tl_no_end.train.count(), joints_planned.drop_duplicates('train').train.count(), \n",
    "              100 * tl_no_end.train.count() / joints_planned.drop_duplicates('train').train.count()))\n",
    "cols = ['train', 'number', 'ind434', 'st_from_name', 'st_to_name', 'last_st_info']\n",
    "add_line(tl_no_end.head(10)[cols])"
   ]
  },
  {
   "cell_type": "code",
   "execution_count": null,
   "metadata": {
    "collapsed": true
   },
   "outputs": [],
   "source": [
    "inds = ['9800-191-1910', '9468-241-1306', '9700-111-8613', '9300-781-8649', '9300-957-9200', '9468-142-9300', '9300-959-9200']"
   ]
  },
  {
   "cell_type": "code",
   "execution_count": null,
   "metadata": {
    "collapsed": false
   },
   "outputs": [],
   "source": [
    "# inds = ['9300-960-9200', '9700-530-9200', '9700-535-8814', '9845-030-9300', '9687-828-8927', '9501-414-9300', '9171-034-8628',\n",
    "#         '9808-008-7800', '9821-084-8502', '9700-531-9200']\n",
    "print(len(inds))\n",
    "print(nice_time(current_time))"
   ]
  },
  {
   "cell_type": "code",
   "execution_count": null,
   "metadata": {
    "collapsed": false
   },
   "outputs": [],
   "source": [
    "[i for i in inds if i not in train_info.ind434.unique()]"
   ]
  },
  {
   "cell_type": "code",
   "execution_count": null,
   "metadata": {
    "collapsed": false
   },
   "outputs": [],
   "source": [
    "cols = ['train', 'ind434', 'st_from_name', 'st_to_name', 'time_start_f', 'time_end_f', 'loco', 'team']\n",
    "train_plan[(train_plan.ind434.isin(inds)) \n",
    "           & (train_plan.st_from_name == 'ИРКУТСК-СОРТИРОВОЧНЫЙ')].sort_values('time_start')[cols]"
   ]
  },
  {
   "cell_type": "code",
   "execution_count": null,
   "metadata": {
    "collapsed": false
   },
   "outputs": [],
   "source": [
    "cols = ['ind434', 'st_from_name', 'st_to_name', 'time_start_f', 'time_end_f']\n",
    "a = train_plan[(train_plan.ind434.isin(inds)) \n",
    "           & (train_plan.st_from_name == 'ИРКУТСК-СОРТИРОВОЧНЫЙ')].sort_values('time_start')[cols]\n",
    "a"
   ]
  },
  {
   "cell_type": "code",
   "execution_count": null,
   "metadata": {
    "collapsed": false,
    "scrolled": false
   },
   "outputs": [],
   "source": [
    "add_line(train_plan[train_plan.ind434 == '9700-111-8613'][cols])"
   ]
  },
  {
   "cell_type": "code",
   "execution_count": null,
   "metadata": {
    "collapsed": false
   },
   "outputs": [],
   "source": [
    "train_info[train_info.ind434.apply(lambda x: (x[:4] == '9300') & (x[-4:] == '9200'))].sort_values('oper_time')[['ind434', 'oper', 'oper_time_f', 'loc_name']]"
   ]
  },
  {
   "cell_type": "code",
   "execution_count": null,
   "metadata": {
    "collapsed": false
   },
   "outputs": [],
   "source": [
    "prev_team = pd.read_csv(FOLDER + 'prev_team.csv', dtype={'team':str})\n",
    "prev_team['prev_time_f'] = prev_team.prev_ready_time.apply(nice_time)\n",
    "team_info['is_planned'] = team_info.team.isin(team_plan[team_plan.state.isin([0, 1])].team)\n",
    "team_info['depot_time_f'] = team_info.depot_time.apply(nice_time)\n",
    "team_info['prev_time_f'] = team_info.team.map(prev_team.set_index('team').prev_time_f)\n",
    "cols = ['team', 'number', 'depot_name', 'depot_time_f', 'loc_name', 'uth', 'state', 'is_planned', 'prev_time_f']\n",
    "team_info[(team_info.uth == 1) & (team_info.depot_name == 'ИРКУТСК-СОРТИРОВОЧНЫЙ') \n",
    "          & (team_info.loc_name == 'ИРКУТСК-СОРТИРОВОЧНЫЙ')].sort_values('depot_time')[cols].head(10)"
   ]
  },
  {
   "cell_type": "code",
   "execution_count": null,
   "metadata": {
    "collapsed": false
   },
   "outputs": [],
   "source": [
    "print(nice_time(current_time))\n",
    "cols = ['train', 'st_to_name', 'time_start_f', 'loco', 'team', 'uth', 'depot_name']\n",
    "train_plan['uth'] = train_plan.team.map(team_info.set_index('team').uth)\n",
    "team_info['depot_name'] = team_info.depot.map(st_names.name)\n",
    "train_plan['depot_name'] = train_plan.team.map(team_info.set_index('team').depot_name)\n",
    "train_plan[(train_plan.st_from_name == 'ИРКУТСК-СОРТИРОВОЧНЫЙ') & (train_plan.loco != '-1')\n",
    "           & (train_plan.time_start >= current_time) \n",
    "           & (train_plan.time_start < current_time + 24 * 3600)].sort_values('time_start')[cols]\n",
    "#team_info.columns"
   ]
  },
  {
   "cell_type": "markdown",
   "metadata": {},
   "source": [
    "<a id='report'></a>\n",
    "### Экспорт в HTML [ToC](#toc)"
   ]
  },
  {
   "cell_type": "code",
   "execution_count": null,
   "metadata": {
    "collapsed": false
   },
   "outputs": [],
   "source": [
    "filename = REPORT_FOLDER + 'train_report_' + time.strftime('%Y%m%d_%H%M%S', time.localtime(time.time())) + '.html'\n",
    "create_report(filename)"
   ]
  }
 ],
 "metadata": {
  "kernelspec": {
   "display_name": "Python 3",
   "language": "python",
   "name": "python3"
  },
  "language_info": {
   "codemirror_mode": {
    "name": "ipython",
    "version": 3
   },
   "file_extension": ".py",
   "mimetype": "text/x-python",
   "name": "python",
   "nbconvert_exporter": "python",
   "pygments_lexer": "ipython3",
   "version": "3.5.1"
  }
 },
 "nbformat": 4,
 "nbformat_minor": 0
}
