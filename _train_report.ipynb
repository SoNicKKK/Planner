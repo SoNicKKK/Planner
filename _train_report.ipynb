{
 "cells": [
  {
   "cell_type": "markdown",
   "metadata": {},
   "source": [
    "<a id='toc'></a>\n",
    "# Отчет по запланированным поездам"
   ]
  },
  {
   "cell_type": "markdown",
   "metadata": {},
   "source": [
    "1. [Проверка совпадения четности номеров поездов и направления движения](#oddity)\n",
    "2. [Анализ времен стоянок поездов на станциях смены локомотивов и бригад.](#stop_time)\n",
    "   1. [Смена локомотивов](#stop_loco)\n",
    "   2. [Смена бригад](#stop_team)\n",
    "4. [Выявление случаев \"близкой\" отправки поездов с одной станции (с интервалом меньше 5 минут)](#dep_interval)\n",
    "5. [Анализ отклонения запланированного на сутки количества поездов от данных АС ССП (данные средние по суткам).](#ssp)\n",
    "6. [Проверка соответствия первого участка в запланированном маршруте и исходного факта](#info_plan_depart)\n",
    "6. [Детальное сравнение количества поездов по Иркутску с данными ССП](#irk_ssp)\n",
    "6. [Создание отчета](#report)"
   ]
  },
  {
   "cell_type": "markdown",
   "metadata": {},
   "source": [
    "### Функции для экспорта в HTML"
   ]
  },
  {
   "cell_type": "code",
   "execution_count": 325,
   "metadata": {
    "collapsed": true
   },
   "outputs": [],
   "source": [
    "report = ''\n",
    "FOLDER = 'resources/'\n",
    "REPORT_FOLDER = 'report/'\n",
    "PRINT = True"
   ]
  },
  {
   "cell_type": "code",
   "execution_count": 326,
   "metadata": {
    "collapsed": true
   },
   "outputs": [],
   "source": [
    "def add_line(line, p=PRINT):    \n",
    "    global report        \n",
    "    if p:                \n",
    "        if type(line) == pd.core.frame.DataFrame:\n",
    "            print(line.to_string(index=False))\n",
    "        elif type(line) == pd.core.series.Series:\n",
    "            print(line.to_string())\n",
    "        else:\n",
    "            print(line)\n",
    "    if type(line) == pd.core.frame.DataFrame:        \n",
    "        report += ('%s<br>' % line.to_html(index=False))\n",
    "    elif type(line) == pd.core.series.Series:\n",
    "        report += ('%s<br>' % line.to_frame().reset_index().to_html(index=False))\n",
    "    else:        \n",
    "        report += ('%s<br>' % line)\n",
    "    \n",
    "def add_header(header, h=4, p=PRINT):\n",
    "    global report\n",
    "    report += ('<h%d>%s</h%d>' % (h, header, h))\n",
    "    if p:\n",
    "        print(header)\n",
    "\n",
    "def add_image(filename, scale=0.4):\n",
    "    global report\n",
    "    report += ('<img src=\"%s\" alt=\"%s\" height=\"%d%%\">' % (filename, filename, int(scale * 100)))\n",
    "\n",
    "def create_report(filename):\n",
    "    global report\n",
    "    report = report.replace('<table border=\"1\" class=\"dataframe\">','<table class=\"table table-striped\">')\n",
    "    html_string = '''\n",
    "        <html>\n",
    "            <head>\n",
    "                <link rel=\"stylesheet\" href=\"skeleton.css\">\n",
    "                <style>body{ margin:20 20; background:whitesmoke; }\n",
    "                table {table-layout : fixed}\n",
    "                </style>\n",
    "            </head>\n",
    "            <body>                \n",
    "                %s\n",
    "            </body>\n",
    "        </html>''' % (report)\n",
    "    f = open(filename,'w', encoding='utf-8-sig')\n",
    "    f.write(html_string)\n",
    "    f.close()\n",
    "    print('Отчет сформирован: %s' % filename)"
   ]
  },
  {
   "cell_type": "markdown",
   "metadata": {},
   "source": [
    "## Загрузка и подготовка данных"
   ]
  },
  {
   "cell_type": "code",
   "execution_count": 327,
   "metadata": {
    "collapsed": false
   },
   "outputs": [
    {
     "name": "stdout",
     "output_type": "stream",
     "text": [
      "Время составления отчета: Jul 15, 13:17\n",
      "Время запуска планировщика: Jul 15, 04:30 (1468546244)\n"
     ]
    }
   ],
   "source": [
    "import numpy as np\n",
    "import pandas as pd\n",
    "import time, datetime\n",
    "from ast import literal_eval\n",
    "import matplotlib.pyplot as plt\n",
    "import seaborn as sns\n",
    "\n",
    "%matplotlib inline\n",
    "plt.style.use('fivethirtyeight')\n",
    "plt.rc('font', family='Tahoma')\n",
    "\n",
    "pd.set_option('max_rows', 50)\n",
    "\n",
    "time_format = '%b %d, %H:%M'\n",
    "\n",
    "start_time = time.time()\n",
    "current_time = pd.read_csv(FOLDER + 'current_time.csv').current_time[0]\n",
    "twr          = pd.read_csv(FOLDER + 'team_work_region.csv', converters={'twr':str})\n",
    "links        = pd.read_csv(FOLDER + 'link.csv', converters={'st_from':str, 'st_to':str})\n",
    "stations     = pd.read_csv(FOLDER + 'station.csv', converters={'station':str})\n",
    "train_info   = pd.read_csv(FOLDER + 'train_info.csv', converters={'train': str, 'st_from':str, 'st_to':str, 'joint':str,\n",
    "                                                                 'start_st':str, 'end_st':str})\n",
    "train_plan   = pd.read_csv(FOLDER + 'slot_train.csv', converters={'train': str, 'st_from':str, 'st_to':str})\n",
    "loco_info    = pd.read_csv(FOLDER + 'loco_attributes.csv', converters={'train':str, 'loco':str, 'st_from':str, 'st_to':str})\n",
    "loco_plan    = pd.read_csv(FOLDER + 'slot_loco.csv', converters={'train':str, 'loco':str, 'st_from':str, 'st_to':str})\n",
    "team_info    = pd.read_csv(FOLDER + 'team_attributes.csv', converters={'team':str,'depot':str, 'oper_location':str, \\\n",
    "                                                     'st_from':str, 'st_to':str, 'loco':str, 'depot_st':str})\n",
    "team_plan    = pd.read_csv(FOLDER + 'slot_team.csv', converters={'team':str,'loco':str, 'st_from':str, 'st_to':str})\n",
    "loco_series  = pd.read_csv(FOLDER + 'loco_series.csv')\n",
    "task         = pd.read_csv(FOLDER + 'task.csv', converters={'st_from':str, 'st_to':str, 'st_next':str})\n",
    "\n",
    "st_names     = stations[['station', 'name', 'esr']].drop_duplicates().set_index('station')\n",
    "team_info.regions = team_info.regions.apply(literal_eval)\n",
    "\n",
    "print('Время составления отчета:', time.strftime(time_format, time.localtime()))\n",
    "print('Время запуска планировщика: %s (%d)' % (time.strftime(time_format, time.localtime(current_time)), current_time))"
   ]
  },
  {
   "cell_type": "code",
   "execution_count": 328,
   "metadata": {
    "collapsed": false
   },
   "outputs": [],
   "source": [
    "def nice_time(t):        \n",
    "    return time.strftime(time_format, time.localtime(t)) if np.isnan(t) == False else None\n",
    "\n",
    "def add_info(df):    \n",
    "    if 'st_from' in df.columns:\n",
    "        df['st_from_name'] = df.st_from.map(st_names.name)\n",
    "    if 'st_to' in df.columns:\n",
    "        df['st_to_name'] = df.st_to.map(st_names.name)\n",
    "    if 'time_start' in df.columns:\n",
    "        df['time_start_f'] = df.time_start.apply(lambda x: nice_time(x))\n",
    "    if 'time_end' in df.columns:\n",
    "        df['time_end_f'] = df.time_end.apply(lambda x: nice_time(x))\n",
    "    if 'oper_location' in df.columns:\n",
    "        df['oper_location_name'] = df.oper_location.map(st_names.name)    \n",
    "        df.oper_location_name.fillna(0, inplace=True)\n",
    "    if ('oper_location' in df.columns) & ('st_from' in df.columns) & ('st_to' in df.columns):        \n",
    "        df['loc_name'] = df.oper_location_name\n",
    "        df.loc[df.loc_name == 0, 'loc_name'] = df.st_from_name + ' - ' + df.st_to_name\n",
    "    if 'oper_time' in df.columns:\n",
    "        df['oper_time_f'] = df.oper_time.apply(lambda x: nice_time(x))    \n",
    "    \n",
    "# Добавляем во все таблицы названия станций на маршруте и времена отправления/прибытия в читабельном формате\n",
    "add_info(train_plan), add_info(loco_plan), add_info(team_plan)\n",
    "add_info(train_info), add_info(loco_info), add_info(team_info)\n",
    "\n",
    "# Мержим таблицы _plan и _info для поездов, локомотивов и бригад\n",
    "train_plan = train_plan.merge(train_info, on='train', suffixes=('', '_info'), how='left')\n",
    "loco_plan = loco_plan.merge(loco_info, on='loco', suffixes=('', '_info'), how='left')\n",
    "team_plan = team_plan.merge(team_info, on='team', suffixes=('', '_info'), how='left')\n",
    "\n",
    "# Добавляем признаки поезда и бригады (реальный/локомотиво-резервный/объемный и реальная/фейковая)\n",
    "train_plan['train_type'] = train_plan.train.apply(lambda x: str(x)[0])\n",
    "team_plan['team_type'] = team_plan.team.apply(lambda x: 'Реальная' if str(x)[0] == '2' else 'Фейковая')\n",
    "\n",
    "# Для локомотиво-резервных и объемных поездов заполняем номер\n",
    "train_plan.loc[train_plan.train_type.isin(['8', '9']), 'number'] = train_plan.train.apply(lambda x: int(str(x)[-4:]))\n",
    "\n",
    "# Добавляем подвязанные локомотив и бригаду в таблицы loco_plan и train_plan\n",
    "if 'team' not in loco_plan.columns:\n",
    "    loco_plan = pd.merge(loco_plan, team_plan.loc[team_plan.state == 1, ['team', 'loco', 'time_start']], \n",
    "                         on=['loco', 'time_start'], how='left')\n",
    "if 'loco' not in train_plan.columns:\n",
    "    train_plan = pd.merge(train_plan, loco_plan.loc[loco_plan.state.isin([0, 1]), ['loco', 'team', 'train', 'time_start']],\n",
    "                     on=['train', 'time_start'], how='left')"
   ]
  },
  {
   "cell_type": "markdown",
   "metadata": {},
   "source": [
    "<a id='oddity'></a>\n",
    "## Проверка совпадения четности номеров поездов и направления движения [ToC](#toc)"
   ]
  },
  {
   "cell_type": "code",
   "execution_count": 329,
   "metadata": {
    "collapsed": false
   },
   "outputs": [],
   "source": [
    "add_header('Проверки по поездам', h=1, p=False)\n",
    "add_header('Проверка совпадения четности номеров поездов и направления движения', h=2, p=False)"
   ]
  },
  {
   "cell_type": "code",
   "execution_count": 330,
   "metadata": {
    "collapsed": false
   },
   "outputs": [
    {
     "name": "stdout",
     "output_type": "stream",
     "text": [
      "Четность номеров поездов и направления не совпадает для 2 поездов (показаны первые 10):\n",
      "          train  number st_from_name      st_to_name  dir  odevity check_odd\n",
      " 88880002504572    4572    ХРЕБТОВАЯ  ГИДРОСТРОИТЕЛЬ  NaN        0     False\n",
      " 88880014074554    4554        СОЛЛУ            ОУНЭ  NaN        0     False\n"
     ]
    }
   ],
   "source": [
    "train_plan['dir'] = train_plan.link.map(links.set_index('link').dir)\n",
    "train_plan['odevity'] = (((train_plan.number / 2).astype(int) * 2 == train_plan.number).astype(int) + 1) % 2\n",
    "train_plan['check_odd'] = train_plan.dir == train_plan.odevity\n",
    "cols = ['train', 'number', 'st_from_name', 'st_to_name', 'dir', 'odevity', 'check_odd']\n",
    "fail_dir_number = train_plan.drop_duplicates(subset=['train', 'number']).loc[(train_plan.train_type.isin(['8', '9'])) &\n",
    "                                                          (train_plan.check_odd == False), cols]\n",
    "if fail_dir_number.empty == False:\n",
    "    add_header('Четность номеров поездов и направления не совпадает для %d поездов (показаны первые 10):' %\n",
    "         len(fail_dir_number.index))\n",
    "    pd.set_option('display.max_colwidth', 35)\n",
    "    add_line(fail_dir_number.head(10))\n",
    "else:\n",
    "    add_line('Все четности совпадают')"
   ]
  },
  {
   "cell_type": "markdown",
   "metadata": {},
   "source": [
    "<a id='stop_time'></a>\n",
    "## Анализ времен стоянок поездов на станциях смены локомотивов и бригад [ToC](#toc)"
   ]
  },
  {
   "cell_type": "markdown",
   "metadata": {},
   "source": [
    "#### Параметры для анализа"
   ]
  },
  {
   "cell_type": "code",
   "execution_count": 331,
   "metadata": {
    "collapsed": false
   },
   "outputs": [],
   "source": [
    "# Минимальное время стоянки поезда для смены локомотива\n",
    "min_loco_stop = 1 * 3600 # 1 hour = 60 min\n",
    "\n",
    "# Минимальное время стоянки поезда для смены бригады\n",
    "min_team_stop = 15 * 60 # 15 min\n",
    "\n",
    "# Горизонт проверки\n",
    "hor = 24 * 3600"
   ]
  },
  {
   "cell_type": "markdown",
   "metadata": {},
   "source": [
    "<a id='stop_loco'></a>\n",
    "### Смена локомотивов [ToC](#toc)"
   ]
  },
  {
   "cell_type": "code",
   "execution_count": 332,
   "metadata": {
    "collapsed": true
   },
   "outputs": [],
   "source": [
    "add_header('Анализ смен локомотивов на маршрутах поездов', h=2, p=False)"
   ]
  },
  {
   "cell_type": "markdown",
   "metadata": {},
   "source": [
    "#### Ищем станции смены локомотивов и считаем средние времена"
   ]
  },
  {
   "cell_type": "code",
   "execution_count": 333,
   "metadata": {
    "collapsed": false
   },
   "outputs": [],
   "source": [
    "train_plan.columns\n",
    "train_plan.loco.fillna('-1', inplace=True)\n",
    "train_plan.team.fillna('-1', inplace=True)\n",
    "\n",
    "train_plan['train_end'] = train_plan.train != train_plan.train.shift(-1)\n",
    "train_plan['loco_end'] = (train_plan.loco != train_plan.loco.shift(-1)) | (train_plan.train_end)\n",
    "train_plan['team_end'] = (train_plan.team != train_plan.team.shift(-1)) | (train_plan.loco_end)\n",
    "\n",
    "train_plan['stop_time'] = train_plan.time_start.shift(-1) - train_plan.time_end\n",
    "train_plan['stop_time_h'] = np.round((train_plan.stop_time / 3600), 2)\n",
    "\n",
    "train_plan['next_loco'] = train_plan.loco.shift(-1)\n",
    "train_plan['next_team'] = train_plan.team.shift(-1)\n",
    "\n",
    "cols = ['train', 'st_from_name', 'st_to_name', 'loco', 'team', 'stop_time_h', 'next_loco']\n",
    "loco_change = train_plan[(train_plan.train_end == False) & (train_plan.loco_end == True)\n",
    "                        & (train_plan.time_end < current_time + hor)]"
   ]
  },
  {
   "cell_type": "code",
   "execution_count": 334,
   "metadata": {
    "collapsed": false
   },
   "outputs": [
    {
     "name": "stdout",
     "output_type": "stream",
     "text": [
      "Средние времена на смену локомотивов:\n",
      "- по всем сменам: 14.54 ч.\n",
      "- по всем сменам с ненулевым временем: 14.68 ч.\n"
     ]
    }
   ],
   "source": [
    "add_header('Средние времена на смену локомотивов:')\n",
    "add_line('- по всем сменам: %.2f ч.' % loco_change.stop_time_h.mean())\n",
    "add_line('- по всем сменам с ненулевым временем: %.2f ч.' % loco_change[loco_change.stop_time_h > 0].stop_time_h.mean())"
   ]
  },
  {
   "cell_type": "markdown",
   "metadata": {},
   "source": [
    "#### Ищем поезда, у которых смена локомотивов происходит за нулевое время"
   ]
  },
  {
   "cell_type": "code",
   "execution_count": 335,
   "metadata": {
    "collapsed": false
   },
   "outputs": [
    {
     "name": "stdout",
     "output_type": "stream",
     "text": [
      "Всего 5 поездов, для которых смена локомотивов происходит за нулевое время. Примеры:\n",
      "        train                        st_from_name            st_to_name          loco next_loco  stop_time_h\n",
      " 200021893965  КОМСОМОЛЬСК-НА-АМУРЕ-СОРТИРОВОЧНЫЙ  КОМСОМОЛЬСК-НА-АМУРЕ  200200063872        -1            0\n",
      " 200020479515                             ТАРСКАЯ             КАРЫМСКАЯ  200200091326        -1            0\n",
      " 220210106801                             ТАРСКАЯ             КАРЫМСКАЯ  200200089060        -1            0\n",
      " 200021688971                                ЮРТЫ                ТАЙШЕТ  200200104714        -1            0\n",
      " 200020367348                             ТАРСКАЯ             КАРЫМСКАЯ  200200093146        -1            0\n",
      "\n",
      "Полный план по одному из таких поездов:\n",
      "        train                        st_from_name               st_to_name   time_start_f     time_end_f          loco team\n",
      " 200021893965  КОМСОМОЛЬСК-НА-АМУРЕ-СОРТИРОВОЧНЫЙ     КОМСОМОЛЬСК-НА-АМУРЕ  Jul 15, 04:00  Jul 15, 04:22  200200063872   -1\n",
      " 200021893965                КОМСОМОЛЬСК-НА-АМУРЕ  КОМСОМОЛЬСК-НА-АМУРЕ II  Jul 15, 04:22  Jul 15, 04:26            -1   -1\n",
      " 200021893965             КОМСОМОЛЬСК-НА-АМУРЕ II                   ЭВОРОН  Jul 15, 04:26  Jul 15, 08:28            -1   -1\n",
      " 200021893965                              ЭВОРОН                     МОНИ  Jul 15, 08:28  Jul 15, 09:24            -1   -1\n",
      " 200021893965                                МОНИ                    БОЛЕН  Jul 15, 09:24  Jul 15, 09:51            -1   -1\n",
      " 200021893965                               БОЛЕН                ПОСТЫШЕВО  Jul 15, 09:51  Jul 15, 10:21            -1   -1\n",
      " 200021893965                           ПОСТЫШЕВО                    СУЛУК  Jul 15, 14:50  Jul 15, 20:15            -1   -1\n",
      " 200021893965                               СУЛУК              ДУССЕ-АЛИНЬ  Jul 15, 20:15  Jul 15, 20:44            -1   -1\n",
      " 200021893965                         ДУССЕ-АЛИНЬ                   СОЛОНИ  Jul 15, 20:44  Jul 15, 21:09            -1   -1\n",
      " 200021893965                              СОЛОНИ                  УРГАЛ I  Jul 15, 21:09  Jul 15, 22:05            -1   -1\n",
      " 200021893965                             УРГАЛ I              НОВЫЙ УРГАЛ  Jul 15, 22:05  Jul 15, 22:30            -1   -1\n",
      " 200021893965                         НОВЫЙ УРГАЛ                ФЕВРАЛЬСК  Jul 16, 04:05  Jul 16, 12:36            -1   -1\n",
      " 200021893965                           ФЕВРАЛЬСК              ВЕРХНЕЗЕЙСК  Jul 16, 12:36  Jul 16, 22:17            -1   -1\n"
     ]
    }
   ],
   "source": [
    "cols = ['train', 'st_from_name', 'st_to_name', 'loco', 'next_loco', 'stop_time_h']\n",
    "nill_stop_times = loco_change[loco_change.stop_time == 0]\n",
    "if not nill_stop_times.empty:\n",
    "    add_header('Всего %d поездов, для которых смена локомотивов происходит за нулевое время. Примеры:' \n",
    "               % nill_stop_times.train.count())\n",
    "    add_line(nill_stop_times[cols].head())\n",
    "    cols = ['train', 'st_from_name', 'st_to_name', 'time_start_f', 'time_end_f', 'loco', 'team']\n",
    "    add_line('')\n",
    "    add_header('Полный план по одному из таких поездов:')\n",
    "    for train in nill_stop_times.train.values[:1]:\n",
    "        add_line(train_plan[train_plan.train == train][cols])\n",
    "else:\n",
    "    add_header('Нет локомотивов, для которых смена бригад происходит за нулевое время')"
   ]
  },
  {
   "cell_type": "markdown",
   "metadata": {},
   "source": [
    "#### Составляем статистику по всем станциям смены, загружаем список приоритетных станций смены"
   ]
  },
  {
   "cell_type": "code",
   "execution_count": 336,
   "metadata": {
    "collapsed": false
   },
   "outputs": [],
   "source": [
    "cols = ['train', 'st_from_name', 'st_to_name', 'loco', 'next_loco', 'stop_time_h']\n",
    "no_nill_stops = loco_change[loco_change.stop_time > 0]\n",
    "no_nill_stops[cols]\n",
    "#no_nill_stops.groupby('st_to_name').stop_time_h.mean()\n",
    "st_change = no_nill_stops.groupby('st_to_name').train.count().to_frame()\\\n",
    "            .join(no_nill_stops.groupby('st_to_name').stop_time_h.mean()).reset_index()\n",
    "st_change['stop_time_h'] = st_change.stop_time_h.apply(lambda x: np.round(x, 2))\n",
    "st_change.sort_values('train', ascending=False).head(10)\n",
    "priority_change_stations = pd.read_csv(FOLDER + 'mandatory/priority_loco_change_stations.csv').st_name.values"
   ]
  },
  {
   "cell_type": "markdown",
   "metadata": {},
   "source": [
    "#### Ищем поезда, у которых смена локомотивов происходит на неправильных станциях"
   ]
  },
  {
   "cell_type": "code",
   "execution_count": 337,
   "metadata": {
    "collapsed": false
   },
   "outputs": [
    {
     "name": "stdout",
     "output_type": "stream",
     "text": [
      "Всего 197 поездов, у которых смена локомотива, скорее всего, происходит на неправильных станциях\n",
      "Примеры таких станций:\n",
      "           st_to_name  train  stop_time_h\n",
      "                 БИРА     77         2.14\n",
      "         ВОЛОЧАЕВКА I     48         2.07\n",
      "              ГОРЕЛЫЙ      9         7.98\n",
      "            МАГДАГАЧИ      7         9.38\n",
      "          НОВЫЙ УРГАЛ      5         4.44\n",
      "          ДУБИНИНСКИЙ      4         6.00\n",
      "            БЕСТУЖЕВО      4         4.68\n",
      "               ЧИТА I      4        15.84\n",
      "            ФЕВРАЛЬСК      4         9.58\n",
      " КОМСОМОЛЬСК-НА-АМУРЕ      3         6.43\n",
      "\n",
      "Поезда, у которых смена локомотива происходит на станции БИРА:\n",
      "        train st_from_name st_to_name          loco next_loco  stop_time_h\n",
      " 200020231740  ИЗВЕСТКОВАЯ       БИРА  200200076886        -1         2.12\n",
      " 220205721515  ИЗВЕСТКОВАЯ       БИРА  200200095328        -1         2.73\n",
      " 200021702326  ИЗВЕСТКОВАЯ       БИРА  200200081002        -1         1.86\n",
      " 220210255213  ИЗВЕСТКОВАЯ       БИРА  200208850604        -1         1.76\n",
      " 210219114982  ИЗВЕСТКОВАЯ       БИРА  200200097571        -1         2.51\n",
      " 200020231190  ИЗВЕСТКОВАЯ       БИРА  200200087265        -1         2.24\n",
      " 210219317789  ИЗВЕСТКОВАЯ       БИРА  200200066277        -1         2.02\n",
      " 200021725057  ИЗВЕСТКОВАЯ       БИРА  200200040529        -1         2.72\n",
      " 220206097468  ИЗВЕСТКОВАЯ       БИРА  200200083278        -1         2.10\n",
      " 200020215931  ИЗВЕСТКОВАЯ       БИРА  200200091081        -1         1.89\n",
      " 220206371611  ИЗВЕСТКОВАЯ       БИРА  200200098527        -1         1.98\n",
      " 220208017613  ИЗВЕСТКОВАЯ       БИРА  200200085933        -1         1.70\n",
      " 200020460471  ИЗВЕСТКОВАЯ       БИРА  200200070646        -1         1.78\n",
      " 200021093024  ИЗВЕСТКОВАЯ       БИРА  200200085840        -1         2.09\n",
      " 210219333877  ИЗВЕСТКОВАЯ       БИРА  200200090376        -1         1.72\n",
      " 210219496657  ИЗВЕСТКОВАЯ       БИРА  200200102563        -1         1.79\n",
      " 210219838735  ИЗВЕСТКОВАЯ       БИРА  200200058350        -1         2.49\n",
      " 210219418352  ИЗВЕСТКОВАЯ       БИРА  200200100447        -1         2.68\n",
      " 210219030380  ИЗВЕСТКОВАЯ       БИРА  200200106556        -1         2.30\n",
      " 220210192571  ИЗВЕСТКОВАЯ       БИРА  200200091302        -1         1.59\n",
      " 220210125977  ИЗВЕСТКОВАЯ       БИРА  200200088900        -1         2.37\n",
      " 210218890288  ИЗВЕСТКОВАЯ       БИРА  200200081939        -1         2.10\n",
      " 220207785210  ИЗВЕСТКОВАЯ       БИРА  200200069006        -1         2.71\n",
      " 210218636442  ИЗВЕСТКОВАЯ       БИРА  200200101822        -1         2.48\n",
      " 220207835793  ИЗВЕСТКОВАЯ       БИРА  200200088512        -1         1.87\n",
      " 210218988605  ИЗВЕСТКОВАЯ       БИРА  200200076200        -1         1.69\n",
      " 210219386749  ИЗВЕСТКОВАЯ       БИРА  200200103448        -1         1.88\n",
      " 210219584543  ИЗВЕСТКОВАЯ       БИРА  200200079061        -1         2.49\n",
      " 220210143363  ИЗВЕСТКОВАЯ       БИРА  200200082521        -1         2.19\n",
      " 220210160644  ИЗВЕСТКОВАЯ       БИРА  200205688498        -1         1.67\n",
      " 220210204998  ИЗВЕСТКОВАЯ       БИРА  200200105201        -1         1.97\n",
      " 220208036808  ИЗВЕСТКОВАЯ       БИРА  200200082309        -1         1.91\n",
      " 210219591686  ИЗВЕСТКОВАЯ       БИРА  200200056099        -1         2.55\n",
      " 210218979827  ИЗВЕСТКОВАЯ       БИРА  200200090134        -1         2.46\n",
      " 210219393781  ИЗВЕСТКОВАЯ       БИРА  200200061135        -1         2.15\n",
      " 210219824174  ИЗВЕСТКОВАЯ       БИРА  200200096522        -1         2.13\n",
      " 210219367415  ИЗВЕСТКОВАЯ       БИРА  200200045935        -1         2.03\n",
      " 210218706869  ИЗВЕСТКОВАЯ       БИРА  200200106266        -1         2.02\n",
      " 210219542847  ИЗВЕСТКОВАЯ       БИРА  200200104912        -1         2.16\n",
      " 220210288829  ИЗВЕСТКОВАЯ       БИРА  200200080646        -1         1.84\n",
      " 210219024607  ИЗВЕСТКОВАЯ       БИРА  200200070805        -1         2.30\n",
      " 210219066560  ИЗВЕСТКОВАЯ       БИРА  200200074739        -1         2.28\n",
      " 200020376477  ИЗВЕСТКОВАЯ       БИРА  200200086155        -1         2.21\n",
      " 210218661798  ИЗВЕСТКОВАЯ       БИРА  200200077325        -1         1.98\n",
      " 200020488975  ИЗВЕСТКОВАЯ       БИРА  200200094420        -1         1.88\n",
      " 200021407303  ИЗВЕСТКОВАЯ       БИРА  200200089912        -1         1.73\n",
      " 200021485820  ИЗВЕСТКОВАЯ       БИРА  200200105713        -1         1.89\n",
      " 210217809327  ИЗВЕСТКОВАЯ       БИРА  210213379569        -1         1.82\n",
      " 210218029952  ИЗВЕСТКОВАЯ       БИРА  200200041927        -1         2.25\n",
      " 210219536840  ИЗВЕСТКОВАЯ       БИРА  200200107711        -1         2.20\n",
      " 210219926709  ИЗВЕСТКОВАЯ       БИРА  200200097957        -1         1.86\n",
      " 220210087503  ИЗВЕСТКОВАЯ       БИРА  200200096910        -1         2.22\n",
      " 200020313623  ИЗВЕСТКОВАЯ       БИРА  200200094728        -1         2.52\n",
      " 200021880930  ИЗВЕСТКОВАЯ       БИРА  200200056295        -1         1.84\n",
      " 210219100699  ИЗВЕСТКОВАЯ       БИРА  200200049255        -1         2.19\n",
      " 220210069971  ИЗВЕСТКОВАЯ       БИРА  200200070742        -1         1.96\n",
      " 220210069867  ИЗВЕСТКОВАЯ       БИРА  200200029223        -1         1.97\n",
      " 210219430255  ИЗВЕСТКОВАЯ       БИРА  200200079907        -1         2.78\n",
      " 220210069825  ИЗВЕСТКОВАЯ       БИРА  200200083651        -1         2.60\n",
      " 210219345735  ИЗВЕСТКОВАЯ       БИРА  200200091402        -1         2.25\n",
      " 200020357913  ИЗВЕСТКОВАЯ       БИРА  200200102043        -1         2.50\n",
      " 210219585652  ИЗВЕСТКОВАЯ       БИРА  200200099685        -1         2.46\n",
      " 200021666715  ИЗВЕСТКОВАЯ       БИРА  200200088717        -1         1.95\n",
      " 220210243661  ИЗВЕСТКОВАЯ       БИРА  200200093647        -1         1.88\n",
      " 210219338402  ИЗВЕСТКОВАЯ       БИРА  200200091253        -1         2.35\n",
      " 220210183047  ИЗВЕСТКОВАЯ       БИРА  200200101510        -1         2.26\n",
      " 210217547710  ИЗВЕСТКОВАЯ       БИРА  200200094891        -1         2.19\n",
      " 210219892479  ИЗВЕСТКОВАЯ       БИРА  200200082876        -1         2.12\n",
      " 210218685932  ИЗВЕСТКОВАЯ       БИРА  200200139197        -1         1.76\n",
      " 210219619499  ИЗВЕСТКОВАЯ       БИРА  200200091379        -1         2.43\n",
      " 220207831045  ИЗВЕСТКОВАЯ       БИРА  200200076468        -1         2.40\n",
      " 210219547797  ИЗВЕСТКОВАЯ       БИРА  200200089903        -1         2.14\n",
      " 210219892515  ИЗВЕСТКОВАЯ       БИРА  200200095008        -1         1.90\n",
      " 210219128871  ИЗВЕСТКОВАЯ       БИРА  200200098861        -1         2.08\n",
      " 210218454364  ИЗВЕСТКОВАЯ       БИРА  200200102398        -1         1.91\n",
      " 210219944047  ИЗВЕСТКОВАЯ       БИРА  200200065884        -1         2.34\n",
      " 210219137206  ИЗВЕСТКОВАЯ       БИРА  200200094350        -1         2.64\n",
      "\n",
      "Полный план по одному из таких поездов:\n",
      "        train st_from_name   st_to_name   time_start_f     time_end_f          loco          loc_name     loco_info\n",
      " 200020231740       АРХАРА      ОБЛУЧЬЕ  Jul 15, 04:00  Jul 15, 06:07  200200076886  АРХАРА - ОБЛУЧЬЕ  200200076886\n",
      " 200020231740      ОБЛУЧЬЕ  ИЗВЕСТКОВАЯ  Jul 15, 09:40  Jul 15, 10:29  200200076886  АРХАРА - ОБЛУЧЬЕ  200200076886\n",
      " 200020231740  ИЗВЕСТКОВАЯ         БИРА  Jul 15, 10:29  Jul 15, 11:53  200200076886  АРХАРА - ОБЛУЧЬЕ  200200076886\n",
      " 200020231740         БИРА          NaN  Jul 15, 14:00  Jul 15, 14:54            -1  АРХАРА - ОБЛУЧЬЕ  200200076886\n"
     ]
    }
   ],
   "source": [
    "# bad change stations\n",
    "bad_changes = st_change[st_change.st_to_name.isin(priority_change_stations) == False].sort_values('train', ascending=False)\n",
    "if not bad_changes.empty:\n",
    "    add_header('Всего %d поездов, у которых смена локомотива, скорее всего, происходит на неправильных станциях' \n",
    "               % bad_changes.train.sum())\n",
    "    add_header('Примеры таких станций:')\n",
    "    add_line(bad_changes.head(10))\n",
    "    add_line('')\n",
    "    cols = ['train', 'st_from_name', 'st_to_name', 'loco', 'next_loco', 'stop_time_h']\n",
    "    st = bad_changes.iloc[0].st_to_name\n",
    "    add_line('Поезда, у которых смена локомотива происходит на станции %s:' % st)\n",
    "    add_line(loco_change[loco_change.st_to_name == st][cols])\n",
    "\n",
    "    train_plan['loco_info'] = train_plan.train.map(loco_info.drop_duplicates('train').set_index('train').loco)\n",
    "    cols = ['train', 'st_from_name', 'st_to_name', 'time_start_f', 'time_end_f', 'loco', 'loc_name', 'loco_info']\n",
    "    add_line('')\n",
    "    add_header('Полный план по одному из таких поездов:')\n",
    "    with pd.option_context('display.max_colwidth', 20):\n",
    "        add_line(train_plan[train_plan.train == loco_change[loco_change.st_to_name == st].iloc[0].train][cols])\n",
    "else:\n",
    "    add_header('Нет поездов, у которых смена локомотивов происходит на неправильной станции')"
   ]
  },
  {
   "cell_type": "markdown",
   "metadata": {},
   "source": [
    "#### Ищем поезда со слишком долгой стоянкой для смены локомотивов"
   ]
  },
  {
   "cell_type": "code",
   "execution_count": 338,
   "metadata": {
    "collapsed": false
   },
   "outputs": [
    {
     "name": "stdout",
     "output_type": "stream",
     "text": [
      "Всего 110 случаев смены локомотива со стоянкой поезда более суток. Примеры:\n",
      "        train st_from_name    st_to_name          loco     next_loco  stop_time_h\n",
      " 200021895298      ХАРАНОР         БОРЗЯ            -1  200200087560       117.44\n",
      " 200020077631      ТАРСКАЯ     КАРЫМСКАЯ  200200054946  200200091591        98.08\n",
      " 200021097891        ТАГУЛ        ТАЙШЕТ  200200106322  200200106672        91.60\n",
      " 200020231738      ТАРСКАЯ     КАРЫМСКАЯ  200200048006  200200098841        81.18\n",
      " 200021722818   КРУГЛИКОВО  ХАБАРОВСК II  200200076802  200200089348        79.39\n",
      " 220210239613      ТАРСКАЯ     КАРЫМСКАЯ  200200090475  200200095501        75.50\n",
      " 200021160963        ТАГУЛ        ТАЙШЕТ  200200105629  200200106390        75.42\n",
      " 210218404069      ШКОТОВО   СМОЛЯНИНОВО  200200092089  200200090877        74.54\n",
      " 200020161589      ТАРСКАЯ     КАРЫМСКАЯ  200200099829  200200096169        72.16\n",
      " 200021567646      ШКОТОВО   СМОЛЯНИНОВО  200200084676  200200093507        70.96\n"
     ]
    }
   ],
   "source": [
    "cols = ['train', 'st_from_name', 'st_to_name', 'loco', 'next_loco', 'stop_time_h']\n",
    "long_change = loco_change[(loco_change.st_to_name.isin(priority_change_stations)) \n",
    "            & (loco_change.stop_time_h > 24)].sort_values('stop_time_h', ascending=False)\n",
    "add_header('Всего %d случаев смены локомотива со стоянкой поезда более суток. Примеры:' % long_change.train.count())\n",
    "add_line(long_change[cols].head(10))"
   ]
  },
  {
   "cell_type": "markdown",
   "metadata": {},
   "source": [
    "<a id='stop_team'></a>\n",
    "### Смена бригад [ToC](#toc)"
   ]
  },
  {
   "cell_type": "code",
   "execution_count": 339,
   "metadata": {
    "collapsed": true
   },
   "outputs": [],
   "source": [
    "add_header('Анализ смен бригад на маршрутах поездов', h=2, p=False)"
   ]
  },
  {
   "cell_type": "code",
   "execution_count": 340,
   "metadata": {
    "collapsed": true
   },
   "outputs": [],
   "source": [
    "team_change = train_plan[(train_plan.loco_end == False) & (train_plan.team_end == True)\n",
    "                        & (train_plan.time_end < current_time + hor)]"
   ]
  },
  {
   "cell_type": "code",
   "execution_count": 341,
   "metadata": {
    "collapsed": false
   },
   "outputs": [
    {
     "name": "stdout",
     "output_type": "stream",
     "text": [
      "Средние времена на смену бригады:\n",
      "- по всем сменам: 2.92 ч.\n",
      "- по всем сменам с ненулевым временем: 2.93 ч.\n"
     ]
    }
   ],
   "source": [
    "add_header('Средние времена на смену бригады:')\n",
    "add_line('- по всем сменам: %.2f ч.' % team_change.stop_time_h.mean())\n",
    "add_line('- по всем сменам с ненулевым временем: %.2f ч.' % team_change[team_change.stop_time_h > 0].stop_time_h.mean())"
   ]
  },
  {
   "cell_type": "markdown",
   "metadata": {},
   "source": [
    "#### Ищем поезда, у которых смена бригады происходит за нулевое время"
   ]
  },
  {
   "cell_type": "code",
   "execution_count": 342,
   "metadata": {
    "collapsed": false
   },
   "outputs": [
    {
     "name": "stdout",
     "output_type": "stream",
     "text": [
      "Всего 3 поездов, для которых смена бригад происходит за нулевое время. Примеры:\n",
      "          train        st_from_name      st_to_name          team     next_team  stop_time_h\n",
      "   200020045392  ШИЛКА-ПАССАЖИРСКАЯ  ШИЛКА-ТОВАРНАЯ  777700000032  200200217414            0\n",
      " 88880001104523              АБАКАН          ТАШЕБА  777700000035  777700000089            0\n",
      " 88880002114345              АБАКАН          ТАШЕБА  777700000170  777700000258            0\n",
      "\n",
      "Полный план по одному из таких поездов:\n",
      "        train              st_from_name                st_to_name   time_start_f     time_end_f          loco          team\n",
      " 200020045392                    МОГОЧА               КСЕНЬЕВСКАЯ  Jul 15, 02:45  Jul 15, 04:48  200200081307  200200096670\n",
      " 200020045392               КСЕНЬЕВСКАЯ                    ЗИЛОВО  Jul 15, 04:48  Jul 15, 07:18  200200081307  200200096670\n",
      " 200020045392                    ЗИЛОВО                   ЖИРЕКЕН  Jul 15, 07:18  Jul 15, 08:00  200200081307  200200096670\n",
      " 200020045392                   ЖИРЕКЕН  ЧЕРНЫШЕВСК-ЗАБАЙКАЛЬСКИЙ  Jul 15, 08:00  Jul 15, 09:00  200200081307  200200096670\n",
      " 200020045392  ЧЕРНЫШЕВСК-ЗАБАЙКАЛЬСКИЙ                    КУЭНГА  Jul 15, 12:00  Jul 15, 13:08  200200081307  777700000032\n",
      " 200020045392                    КУЭНГА                ПРИИСКОВАЯ  Jul 15, 13:08  Jul 15, 13:50  200200081307  777700000032\n",
      " 200020045392                ПРИИСКОВАЯ        ШИЛКА-ПАССАЖИРСКАЯ  Jul 15, 13:50  Jul 15, 14:39  200200081307  777700000032\n",
      " 200020045392        ШИЛКА-ПАССАЖИРСКАЯ            ШИЛКА-ТОВАРНАЯ  Jul 15, 14:39  Jul 15, 14:59  200200081307  777700000032\n",
      " 200020045392            ШИЛКА-ТОВАРНАЯ                 СОЛНЦЕВАЯ  Jul 15, 14:59  Jul 15, 15:39  200200081307  200200217414\n",
      " 200020045392                 СОЛНЦЕВАЯ                   УРУЛЬГА  Jul 15, 15:39  Jul 15, 16:54  200200081307  200200217414\n",
      " 200020045392                   УРУЛЬГА                   ТАРСКАЯ  Jul 15, 16:54  Jul 15, 17:28  200200081307  200200217414\n",
      " 200020045392                   ТАРСКАЯ                 КАРЫМСКАЯ  Jul 15, 17:28  Jul 15, 17:43  200200081307  200200217414\n",
      " 200020045392                 КАРЫМСКАЯ                    ЧИТА I  Jul 17, 04:55  Jul 17, 06:52  200200102161            -1\n",
      " 200020045392                    ЧИТА I                    КАДАЛА  Jul 17, 06:52  Jul 17, 07:06  200200102161            -1\n",
      " 200020045392                    КАДАЛА                    ЛЕСНАЯ  Jul 17, 07:06  Jul 17, 08:01  200200102161            -1\n",
      " 200020045392                    ЛЕСНАЯ                  ТУРГУТУЙ  Jul 17, 08:01  Jul 17, 08:43  200200102161            -1\n",
      " 200020045392                  ТУРГУТУЙ                    МОГЗОН  Jul 17, 08:43  Jul 17, 09:43  200200102161            -1\n",
      " 200020045392                    МОГЗОН                     ХИЛОК  Jul 17, 09:43  Jul 17, 12:13  200200102161            -1\n",
      " 200020045392                     ХИЛОК                  ЖИПХЕГЕН  Jul 17, 12:13  Jul 17, 12:45  200200102161            -1\n",
      " 200020045392                  ЖИПХЕГЕН          ПЕТРОВСКИЙ ЗАВОД  Jul 17, 12:45  Jul 17, 15:15  200200102161            -1\n",
      " 200020045392          ПЕТРОВСКИЙ ЗАВОД                      КИЖА  Jul 17, 15:15  Jul 17, 15:44  200200102161            -1\n",
      " 200020045392                      КИЖА                    ГОРХОН  Jul 17, 15:44  Jul 17, 16:01  200200102161            -1\n",
      " 200020045392                    ГОРХОН                   ЧЕЛУТАЙ  Jul 17, 16:01  Jul 17, 16:39  200200102161            -1\n"
     ]
    }
   ],
   "source": [
    "cols = ['train', 'st_from_name', 'st_to_name', 'team', 'next_team', 'stop_time_h']\n",
    "nill_stop_times = team_change[team_change.stop_time == 0]\n",
    "if not nill_stop_times.empty:\n",
    "    add_header('Всего %d поездов, для которых смена бригад происходит за нулевое время. Примеры:' \n",
    "               % nill_stop_times.train.count())\n",
    "    add_line(nill_stop_times[cols].head())\n",
    "    cols = ['train', 'st_from_name', 'st_to_name', 'time_start_f', 'time_end_f', 'loco', 'team']\n",
    "    add_line('')\n",
    "    add_header('Полный план по одному из таких поездов:')\n",
    "    for train in nill_stop_times.train.values[:1]:\n",
    "        add_line(train_plan[train_plan.train == train][cols])\n",
    "else:\n",
    "    add_header('Нет поездов, для которых смена бригад происходит за нулевое время')"
   ]
  },
  {
   "cell_type": "markdown",
   "metadata": {},
   "source": [
    "#### Ищем поезда со слишком долгой стоянкой для смены бригады"
   ]
  },
  {
   "cell_type": "code",
   "execution_count": 343,
   "metadata": {
    "collapsed": false
   },
   "outputs": [
    {
     "name": "stdout",
     "output_type": "stream",
     "text": [
      "Всего 322 случаев смены бригад со стоянкой поезда более 6 часов. Примеры:\n",
      "           train st_from_name           st_to_name          team     next_team  stop_time_h\n",
      "    200021649092    ХРЕБТОВАЯ  КОРШУНИХА-АНГАРСКАЯ  200200117671  200200170634        35.13\n",
      "    200020266837    ХРЕБТОВАЯ  КОРШУНИХА-АНГАРСКАЯ  200200117321  200200210100        31.96\n",
      "    210219336174    ХРЕБТОВАЯ  КОРШУНИХА-АНГАРСКАЯ  200200254481  200200126202        29.41\n",
      "    200020045428    ХРЕБТОВАЯ  КОРШУНИХА-АНГАРСКАЯ  200200166986  200200259507        25.04\n",
      "    200021656302    ХРЕБТОВАЯ  КОРШУНИХА-АНГАРСКАЯ  200200223473  200200240996        24.95\n",
      " 999928903022001    ХРЕБТОВАЯ  КОРШУНИХА-АНГАРСКАЯ  200200201447  200200176955        22.71\n",
      "    200021898734    ХРЕБТОВАЯ  КОРШУНИХА-АНГАРСКАЯ  200200035773  200200262369        21.95\n",
      " 999928903022003    ХРЕБТОВАЯ  КОРШУНИХА-АНГАРСКАЯ  200200280139  200200110433        20.54\n",
      "  88880015054362       ОЛЕКМА               ЮКТАЛИ  200200165751            -1        15.72\n",
      "    200021000691    ХРЕБТОВАЯ  КОРШУНИХА-АНГАРСКАЯ  200200175471  200200249839        15.46\n",
      "\n",
      "Полный план по одному из таких поездов:\n",
      "        train          st_from_name            st_to_name   time_start_f     time_end_f          loco          team\n",
      " 200021649092            НОВЫЙ УОЯН       СЕВЕРОБАЙКАЛЬСК  Jul 15, 02:40  Jul 15, 06:47  200200088365  200200272926\n",
      " 200021649092       СЕВЕРОБАЙКАЛЬСК                   ТЫЯ  Jul 15, 12:50  Jul 15, 13:27  200200088365  200200262226\n",
      " 200021649092                   ТЫЯ                 ДАБАН  Jul 15, 13:27  Jul 15, 14:30  200200088365  200200262226\n",
      " 200021649092                 ДАБАН               КУНЕРМА  Jul 15, 14:30  Jul 15, 15:25  200200088365  200200262226\n",
      " 200021649092               КУНЕРМА               КИРЕНГА  Jul 15, 15:25  Jul 15, 17:40  200200088365  200200262226\n",
      " 200021649092               КИРЕНГА                НЕБЕЛЬ  Jul 15, 17:40  Jul 15, 18:26  200200088365  200200262226\n",
      " 200021649092                НЕБЕЛЬ               ТАКОВКА  Jul 15, 18:26  Jul 15, 18:53  200200088365  200200262226\n",
      " 200021649092               ТАКОВКА                   НИЯ  Jul 15, 18:53  Jul 15, 19:12  200200088365  200200262226\n",
      " 200021649092                   НИЯ              ЗВЕЗДНАЯ  Jul 15, 19:12  Jul 15, 19:57  200200088365  200200262226\n",
      " 200021649092              ЗВЕЗДНАЯ             ЧУДНИЧНЫЙ  Jul 15, 19:57  Jul 15, 20:30  200200088365  200200262226\n",
      " 200021649092             ЧУДНИЧНЫЙ        ЛЕНА-ВОСТОЧНАЯ  Jul 15, 20:30  Jul 15, 21:02  200200088365  200200262226\n",
      " 200021649092        ЛЕНА-ВОСТОЧНАЯ                ЯКУРИМ  Jul 15, 21:02  Jul 15, 21:09  200200088365  200200262226\n",
      " 200021649092                ЯКУРИМ                  ЛЕНА  Jul 15, 21:09  Jul 15, 21:18  200200088365  200200262226\n",
      " 200021649092                  ЛЕНА             ХРЕБТОВАЯ  Jul 15, 22:05  Jul 16, 00:47  200200088365  200200117671\n",
      " 200021649092             ХРЕБТОВАЯ   КОРШУНИХА-АНГАРСКАЯ  Jul 16, 00:47  Jul 16, 01:20  200200088365  200200117671\n",
      " 200021649092   КОРШУНИХА-АНГАРСКАЯ        ГИДРОСТРОИТЕЛЬ  Jul 17, 12:27  Jul 17, 16:27  200200088365  200200170634\n",
      " 200021649092        ГИДРОСТРОИТЕЛЬ      ПАДУНСКИЕ ПОРОГИ  Jul 17, 16:27  Jul 17, 16:52  200200088365  200200170634\n",
      " 200021649092      ПАДУНСКИЕ ПОРОГИ           ГАЛАЧИНСКИЙ  Jul 17, 16:52  Jul 17, 17:16  200200088365  200200170634\n",
      " 200021649092           ГАЛАЧИНСКИЙ              МОРГУДОН  Jul 17, 17:16  Jul 17, 17:47  200200088365  200200170634\n",
      " 200021649092              МОРГУДОН             ВИХОРЕВКА  Jul 17, 17:47  Jul 17, 17:59  200200088365  200200170634\n",
      " 200021649092             ВИХОРЕВКА                 ТУРМА  Jul 17, 17:59  Jul 17, 18:43  200200088365            -1\n",
      " 200021649092                 ТУРМА                 ТОРЕЯ  Jul 17, 18:43  Jul 17, 19:40  200200088365            -1\n",
      " 200021649092                 ТОРЕЯ                ТАЙШЕТ  Jul 17, 19:40  Jul 17, 23:05  200200088365            -1\n",
      " 200021649092                ТАЙШЕТ                  ЮРТЫ  Jul 17, 23:05  Jul 17, 23:32  200200088365            -1\n",
      " 200021649092                  ЮРТЫ                 КЛЮЧИ  Jul 17, 23:32  Jul 17, 23:59  200200088365            -1\n",
      " 200021649092                 КЛЮЧИ                РЕШОТЫ  Jul 17, 23:59  Jul 18, 00:15  200200088365            -1\n",
      " 200021649092                РЕШОТЫ              ИЛАНСКАЯ  Jul 18, 00:15  Jul 18, 01:35  200200088365            -1\n",
      " 200021649092              ИЛАНСКАЯ             ЗАОЗЕРНАЯ  Jul 18, 01:35  Jul 18, 03:35  200200088365            -1\n",
      " 200021649092             ЗАОЗЕРНАЯ                   УЯР  Jul 18, 03:35  Jul 18, 04:21  200200088365            -1\n",
      " 200021649092                   УЯР                ЗЫКОВО  Jul 18, 04:21  Jul 18, 06:08  200200088365            -1\n",
      " 200021649092                ЗЫКОВО  КРАСНОЯРСК-ВОСТОЧНЫЙ  Jul 18, 06:08  Jul 18, 06:18  200200088365            -1\n",
      " 200021649092  КРАСНОЯРСК-ВОСТОЧНЫЙ   КРАСНОЯРСК-СЕВЕРНЫЙ  Jul 18, 06:18  Jul 18, 06:35  200200088365            -1\n",
      " 200021649092   КРАСНОЯРСК-СЕВЕРНЫЙ                 БУГАЧ  Jul 18, 06:35  Jul 18, 06:50  200200088365            -1\n",
      " 200021649092                 БУГАЧ        ЧЕРНОРЕЧЕНСКАЯ  Jul 18, 06:50  Jul 18, 09:49  200200088365            -1\n",
      " 200021649092        ЧЕРНОРЕЧЕНСКАЯ              АЧИНСК I  Jul 18, 09:49  Jul 18, 10:31  200200088365            -1\n",
      " 200021649092              АЧИНСК I               ЗЕРЦАЛЫ  Jul 18, 10:31  Jul 18, 10:48  200200088365            -1\n",
      " 200021649092               ЗЕРЦАЛЫ               БОГОТОЛ  Jul 18, 10:48  Jul 18, 11:41  200200088365            -1\n",
      " 200021649092               БОГОТОЛ              МАРИИНСК  Jul 18, 11:41  Jul 18, 13:54  200200088365            -1\n",
      "\n",
      "Станции, на которых чаще всего происходили длительные стоянки на смену бригад:\n",
      "ЧИТА I                      71\n",
      "ХИЛОК                       51\n",
      "ЗИМА                        25\n",
      "УЛАН-УДЭ                    18\n",
      "ЧЕРНЫШЕВСК-ЗАБАЙКАЛЬСКИЙ    15\n",
      "МОГОЧА                      12\n",
      "КОРШУНИХА-АНГАРСКАЯ         12\n",
      "ТАЙШЕТ                      12\n",
      "КРАСНОЯРСК-ВОСТОЧНЫЙ        11\n",
      "НИЖНЕУДИНСК                 11\n"
     ]
    }
   ],
   "source": [
    "cols = ['train', 'st_from_name', 'st_to_name', 'team', 'next_team', 'stop_time_h']\n",
    "long_change = team_change[team_change.stop_time_h > 6].sort_values('stop_time', ascending=False)[cols]\n",
    "if not long_change.empty:\n",
    "    add_header('Всего %d случаев смены бригад со стоянкой поезда более 6 часов. Примеры:' % long_change.train.count())\n",
    "    add_line(long_change[cols].head(10))\n",
    "    add_line('')\n",
    "    cols = ['train', 'st_from_name', 'st_to_name', 'time_start_f', 'time_end_f', 'loco', 'team']\n",
    "    add_header('Полный план по одному из таких поездов:')\n",
    "    for train in long_change.train.values[:1]:\n",
    "        add_line(train_plan[train_plan.train == train][cols])\n",
    "    add_line('')\n",
    "    add_header('Станции, на которых чаще всего происходили длительные стоянки на смену бригад:')\n",
    "    add_line(long_change.st_to_name.value_counts().head(10))\n",
    "else:\n",
    "    add_header('Нет поездов, у которых смена бригады происходит более 6 часов')"
   ]
  },
  {
   "cell_type": "markdown",
   "metadata": {},
   "source": [
    "<a id='dep_interval'></a>\n",
    "## Поиск поездов с интервалом между отправлениями меньше допустимого [ToC](#toc)"
   ]
  },
  {
   "cell_type": "code",
   "execution_count": 344,
   "metadata": {
    "collapsed": true
   },
   "outputs": [],
   "source": [
    "add_header('Поиск поездов с интервалом между отправлениями меньше допустимого', h=2, p=False)"
   ]
  },
  {
   "cell_type": "code",
   "execution_count": 345,
   "metadata": {
    "collapsed": true
   },
   "outputs": [],
   "source": [
    "# Параметры\n",
    "\n",
    "hor = 24 * 3600\n",
    "min_time_delta = 5 * 60 # 5 minutes"
   ]
  },
  {
   "cell_type": "code",
   "execution_count": 346,
   "metadata": {
    "collapsed": true
   },
   "outputs": [],
   "source": [
    "# Функция, которая возвращает датафрейм с коллизиями\n",
    "\n",
    "def check_time_collision(df):\n",
    "    df['link_end'] = (df.st_from != df.st_from.shift(-1)) | (df.st_to != df.st_to.shift(-1))\n",
    "    df['link_start'] = (df.st_from != df.st_from.shift(1)) | (df.st_to != df.st_to.shift(1))\n",
    "    df.loc[df.link_end == False, 'time_to_next'] = df.time_start.shift(-1) - df.time_start\n",
    "    df.loc[df.link_start == False, 'time_to_prev'] = df.time_start - df.time_start.shift(1)\n",
    "    collisions = df.loc[(df.time_to_next < min_time_delta) | (df.time_to_prev < min_time_delta)]\n",
    "    return collisions"
   ]
  },
  {
   "cell_type": "code",
   "execution_count": 347,
   "metadata": {
    "collapsed": false
   },
   "outputs": [
    {
     "name": "stdout",
     "output_type": "stream",
     "text": [
      "Время начала планирования: Jul 15, 04:30\n",
      "Количество коллизий (интервал между поездами меньше 5 минут):\n",
      "                            Тип Из всех поездов Из всех с подвязкой\n",
      "                     Все поезда             985                 818\n",
      "            Без учета резервных              10                   4\n",
      " Без учета резервных и фейковых               4                   4\n",
      "\n",
      "Реальные и фейковые поезда с интервалами меньше 5 минут (первые 20):\n",
      "           train          loco          team       st_from_name       st_to_name   time_start_f     time_end_f\n",
      "    200021529164  200200055302            -1       ВЫСОКОГОРНАЯ  БЛОКПОСТ 197 КМ  Jul 15, 17:41  Jul 15, 18:15\n",
      " 999912506022001  200200062802            -1       ВЫСОКОГОРНАЯ  БЛОКПОСТ 197 КМ  Jul 15, 17:45  Jul 15, 18:19\n",
      "    210219963237  200200106746  200200281966               ЗИМА          ПЕРЕВОЗ  Jul 15, 04:37  Jul 15, 04:52\n",
      "    210219811340  200200054272  200200224764               ЗИМА          ПЕРЕВОЗ  Jul 15, 04:40  Jul 15, 04:55\n",
      "    220208053553  200200054913  200200259487           ИЛАНСКАЯ        ЗАОЗЕРНАЯ  Jul 15, 04:39  Jul 15, 06:35\n",
      "    220208015246  200200140322  200200224720           ИЛАНСКАЯ        ЗАОЗЕРНАЯ  Jul 15, 04:40  Jul 15, 06:36\n",
      " 999912409032003  200200061958  200200266421          КАРЫМСКАЯ           ЧИТА I  Jul 15, 23:40  Jul 16, 01:51\n",
      "    200020479515            -1            -1          КАРЫМСКАЯ           ЧИТА I  Jul 15, 23:41  Jul 16, 01:53\n",
      " 999928877012001            -1            -1  НАХОДКА-ВОСТОЧНАЯ       ХМЫЛОВСКИЙ  Jul 15, 06:30  Jul 15, 06:35\n",
      " 999928877022001            -1            -1  НАХОДКА-ВОСТОЧНАЯ       ХМЫЛОВСКИЙ  Jul 15, 06:35  Jul 15, 06:40\n"
     ]
    }
   ],
   "source": [
    "add_line('Время начала планирования: %s' % nice_time(current_time))\n",
    "cols = ['train', 'loco', 'team', 'st_from_name', 'st_to_name', 'time_start_f', 'time_end_f']\n",
    "train_plan['train_start'] = train_plan.train != train_plan.train.shift(1)\n",
    "train_plan.loc[train_plan.stop_time != -1, 'loco_start'] = (train_plan.loco != train_plan.loco.shift(1)) | \\\n",
    "                                                            (train_plan.train_start)\n",
    "train_plan.loc[train_plan.stop_time != -1, 'team_start'] = train_plan.team != train_plan.team.shift(1)\n",
    "mask = ((train_plan.loco_start == True) | (train_plan.team_start == True)) &\\\n",
    "        (train_plan.time_start < current_time + hor) & (train_plan.time_start >= current_time)\n",
    "assign_mask = (train_plan.loco != '-1') & (train_plan.team != '-1')\n",
    "cols_to_sort = ['st_from_name', 'st_to_name', 'time_start']\n",
    "start_times = train_plan.loc[mask].sort_values(cols_to_sort)\n",
    "start_times_no_res = train_plan.loc[mask & (train_plan.train_type.isin(['2', '9']))].sort_values(cols_to_sort)\n",
    "start_times_real = train_plan.loc[mask & (train_plan.train_type == '2')].sort_values(cols_to_sort)\n",
    "start_times_assign = train_plan.loc[mask & assign_mask].sort_values(cols_to_sort)\n",
    "start_times_assign_no_res = train_plan.loc[mask & assign_mask &\n",
    "                                           (train_plan.train_type.isin(['2', '9']))].sort_values(cols_to_sort)\n",
    "start_times_assign_real = train_plan.loc[mask & assign_mask & (train_plan.train_type == '2')].sort_values(cols_to_sort)\n",
    "\n",
    "all_coll = check_time_collision(start_times)\n",
    "no_res_coll = check_time_collision(start_times_no_res)\n",
    "real_coll = check_time_collision(start_times_real)\n",
    "all_assign_coll = check_time_collision(start_times_assign)\n",
    "no_res_assign_coll = check_time_collision(start_times_assign_no_res)\n",
    "real_assign_coll = check_time_collision(start_times_assign_real)\n",
    "train_n = len(start_times.train.drop_duplicates().index)\n",
    "res = pd.DataFrame([['Все поезда', 'Без учета резервных', 'Без учета резервных и фейковых'],                    \n",
    "                    [len(all_coll.index), len(no_res_coll.index), len(real_coll.index)],                    \n",
    "                    [len(all_assign_coll.index), len(no_res_assign_coll.index), len(real_assign_coll.index)]]).T\n",
    "res.columns = ['Тип', 'Из всех поездов', 'Из всех с подвязкой']\n",
    "add_header('Количество коллизий (интервал между поездами меньше %d минут):' % (min_time_delta / 60))\n",
    "add_line(res)\n",
    "add_header('\\nРеальные и фейковые поезда с интервалами меньше %d минут (первые 20):' % (min_time_delta / 60))\n",
    "add_line(no_res_coll[cols].head(20))"
   ]
  },
  {
   "cell_type": "markdown",
   "metadata": {},
   "source": [
    "<a id='ssp'></a>\n",
    "## Сравнение количества запланированных поездов с данными АС ССП [ToC](#toc)"
   ]
  },
  {
   "cell_type": "code",
   "execution_count": 348,
   "metadata": {
    "collapsed": true
   },
   "outputs": [],
   "source": [
    "add_header('Сравнение количества запланированных поездов с данными АС ССП', h=2, p=False)"
   ]
  },
  {
   "cell_type": "code",
   "execution_count": 349,
   "metadata": {
    "collapsed": true
   },
   "outputs": [],
   "source": [
    "def count_volumes(full_plan, df_ssp):\n",
    "    hor = 24 * 3600\n",
    "    df_ssp.dep_dir.fillna(0, inplace=True)    \n",
    "    df_ssp.loc[df_ssp.dep_dir == 0, 'depart'] = 0\n",
    "    df_ssp.dropna(subset=['depart'], inplace=True)\n",
    "    \n",
    "    ssp_st_froms = df_ssp.loc[df_ssp.dep_dir == 0].station\n",
    "    mask_time = (full_plan.time_start >= current_time) & (full_plan.time_start < current_time + hor)\n",
    "    mask_type = full_plan.train_type.isin(['2', '9'])\n",
    "    trains = full_plan.loc[mask_time & mask_type & full_plan.st_from_name.isin(ssp_st_froms)].\\\n",
    "                        groupby(['st_from_name', 'st_to_name']).train.count()\n",
    "    df_ssp.loc[df_ssp.dep_dir == 0, 'st_from_name'] = df_ssp.station\n",
    "    df_ssp = df_ssp.fillna(method='ffill')\n",
    "    df_ssp['st_to_name'] = df_ssp.station\n",
    "    replace_st_from_names = df_ssp.loc[df_ssp.dep_dir == 0, ['st_from_name', 'st_show_name']].drop_duplicates()\n",
    "    df_ssp['st_from_show'] = df_ssp.st_from_name.map(replace_st_from_names.set_index('st_from_name').st_show_name)\n",
    "    df_ssp['st_to_show'] = df_ssp.st_show_name    \n",
    "    return trains.to_frame().join(df_ssp[['st_from_name', 'st_to_name', 'depart', 'st_from_show', 'st_to_show', 'dep_dir']].\\\n",
    "                                  set_index(['st_from_name', 'st_to_name'])).reset_index()"
   ]
  },
  {
   "cell_type": "code",
   "execution_count": 350,
   "metadata": {
    "collapsed": true
   },
   "outputs": [],
   "source": [
    "def show_barplot(df, road_name):\n",
    "    df['delta'] = df.train - df.depart\n",
    "    df['percent'] = np.round(100 * df.delta / df.depart, 2)\n",
    "    df['st_from_short'] = df.st_from_show.apply(lambda x: str(x)[:25])\n",
    "    df['st_to_short'] = df.st_to_show.apply(lambda x: str(x)[:25])\n",
    "    df['link'] = df.st_from_short + ' - ' + df.st_to_short \n",
    "    \n",
    "    print('%s железная дорога:' % road_name)\n",
    "    print('Среднее и медиана абсолютного отклонения: %.2f, %.2f' % (df.delta.mean(), df.delta.median()))\n",
    "    print('Среднее и медиана относительного отклонения (в процентах): %.2f%%, %.2f%%' % (df.percent.mean(), df.percent.median()))\n",
    "\n",
    "    b = df.sort_values('delta', ascending=False)\n",
    "    sns.set_style('whitegrid')\n",
    "    sns.set_context('poster', font_scale=0.7, rc={'axes.labelsize': 18})\n",
    "    c = sns.barplot(y='link', x='delta', data=df.sort_values('delta', ascending=False), palette='coolwarm')\n",
    "    xlabel = '%s ж/д: отклонение от данных АС ССП по отправлению поездов на сутки' % road_name\n",
    "    c.set(xlabel=xlabel, ylabel='')"
   ]
  },
  {
   "cell_type": "code",
   "execution_count": 351,
   "metadata": {
    "collapsed": false
   },
   "outputs": [],
   "source": [
    "VOL_PERCENT = 0.9\n",
    "\n",
    "def show_two_barplots(df, road_name, save=False, btype='less'):\n",
    "    df['st_from_short'] = df.st_from_show.apply(lambda x: str(x)[:25])\n",
    "    df['st_to_short'] = df.st_to_show.apply(lambda x: str(x)[:25])\n",
    "    df['link'] = df.st_from_short + ' - ' + df.st_to_short     \n",
    "    sns.set_style('whitegrid')    \n",
    "    sns.set_context('poster', font_scale=0.7, rc={'axes.titlesize':18, 'axes.labelsize':14})\n",
    "    fig, ax = plt.subplots(nrows=2, ncols=1, figsize=(14,20))    \n",
    "    df.depart.fillna(0, inplace=True)    \n",
    "    df['bottom'] = df.apply(lambda row: row.depart if row.train <= row.depart else row.train, axis=1)\n",
    "    df['top'] = df.apply(lambda row: row.train if row.train <= row.depart else row.depart, axis=1)     \n",
    "    \n",
    "    sns.set_color_codes('pastel')\n",
    "    sns.barplot(x='bottom', y='link', data=df[df.train <= VOL_PERCENT * df.depart].sort_values('bottom'), \n",
    "                label='Поезда из АС ССП', color=\"b\", orient='h', ax=ax[0])\n",
    "    sns.barplot(x='bottom', y='link', data=df[df.train * VOL_PERCENT > df.depart].sort_values('bottom'), \n",
    "                label='Поезда в результатах', color=\"r\", orient='h', ax=ax[1])\n",
    "    sns.set_color_codes('muted')\n",
    "    sns.barplot(x='top', y='link', data=df[df.train <= VOL_PERCENT * df.depart].sort_values('bottom'), \n",
    "                label='Поезда в результатах', color=\"b\", orient='h', ax=ax[0])\n",
    "    sns.barplot(x='top', y='link', data=df[df.train * VOL_PERCENT > df.depart].sort_values('bottom'), \n",
    "                label='Поезда из АС ССП', color=\"r\", orient='h', ax=ax[1])    \n",
    "    ax[0].legend(ncol=1, loc=\"upper right\", frameon=True)    \n",
    "    ax[1].legend(ncol=1, loc=\"upper right\", frameon=True)\n",
    "    ax[0].set(xlabel='', title='Нехватка запланированных поездов')\n",
    "    ax[1].set(xlabel='', title='Избыток запланированных поездов')\n",
    "    \n",
    "    sns.despine()\n",
    "    if save:\n",
    "        filename = road_name + '.png'\n",
    "        fig.savefig(REPORT_FOLDER + filename, bbox_inches='tight')\n",
    "        add_image(filename, scale=1.0)"
   ]
  },
  {
   "cell_type": "code",
   "execution_count": 352,
   "metadata": {
    "collapsed": false
   },
   "outputs": [],
   "source": [
    "def func(x):\n",
    "    return np.round(np.sqrt(np.mean(x ** 2)), 2)\n",
    "\n",
    "def print_ssp_stats(ssp, road_name):\n",
    "    df = count_volumes(train_plan, ssp)\n",
    "    df.rename(columns={'train':'planned', 'depart':'ssp'}, inplace=True)\n",
    "    df.dropna(subset=['ssp'], inplace=True)\n",
    "    df['delta'] = df.planned - df.ssp    \n",
    "    cols = ['st_from_name', 'st_to_show', 'dep_dir', 'planned', 'ssp', 'delta']    \n",
    "    add_header('Дорога %s' % road_name, h=3)\n",
    "    add_header('Сравнение запланированного и \"нормативного\" количества поездов:')\n",
    "    add_line(df.sort_values(['dep_dir', 'delta'])[cols])    \n",
    "    add_header('\\nСреднее отклонение по количеству поездов по направлениям:')\n",
    "    add_line(df.groupby('dep_dir').delta.mean().apply(lambda x: np.round(x, 2)))\n",
    "    add_header('\\nСреднеквадратичное отклонение по направлениям:')\n",
    "    add_line(df.groupby('dep_dir').delta.agg(func))"
   ]
  },
  {
   "cell_type": "code",
   "execution_count": 353,
   "metadata": {
    "collapsed": false
   },
   "outputs": [],
   "source": [
    "krs = pd.read_csv(FOLDER + 'mandatory/SSP_KRS.csv', sep=';')\n",
    "vsib = pd.read_csv(FOLDER + 'mandatory/SSP_VSIB.csv', sep=';')\n",
    "zab = pd.read_csv(FOLDER + 'mandatory/SSP_ZAB.csv', sep=';')\n",
    "dvs = pd.read_csv(FOLDER + 'mandatory/SSP_DVS.csv', sep=';')"
   ]
  },
  {
   "cell_type": "code",
   "execution_count": 354,
   "metadata": {
    "collapsed": false
   },
   "outputs": [
    {
     "name": "stdout",
     "output_type": "stream",
     "text": [
      "Дорога КРАС\n",
      "Сравнение запланированного и \"нормативного\" количества поездов:\n",
      "         st_from_name           st_to_show dep_dir  planned  ssp  delta\n",
      "             АЧИНСК I              БОГОТОЛ     неч       33   54    -21\n",
      "              БОГОТОЛ             МАРИИНСК     неч       38   54    -16\n",
      "             САЯНСКАЯ          КОШУРНИКОВО     неч        8   24    -16\n",
      "             ИЛАНСКАЯ                  УЯР     неч       37   52    -15\n",
      " КРАСНОЯРСК-ВОСТОЧНЫЙ  КРАСНОЯРСК-СЕВЕРНЫЙ     неч       39   54    -15\n",
      "               АБАКАН               ТАШЕБА     неч       15   26    -11\n",
      "             АЧИНСК I            АЧИНСК II     неч        4    4      0\n",
      "             МАРИИНСК              БОГОТОЛ     чет       22   62    -40\n",
      "              БОГОТОЛ             АЧИНСК I     чет       27   62    -35\n",
      "             АЧИНСК I       ЧЕРНОРЕЧЕНСКАЯ     чет       39   62    -23\n",
      "             ИЛАНСКАЯ                 ЮРТЫ     чет       45   66    -21\n",
      " КРАСНОЯРСК-ВОСТОЧНЫЙ                  УЯР     чет       49   66    -17\n",
      "               АБАКАН            МИНУСИНСК     чет       18   26     -8\n",
      "             САЯНСКАЯ               ТАЙШЕТ     чет       22   22      0\n",
      "             САЯНСКАЯ                  УЯР     чет        8    8      0\n",
      "             АЧИНСК I          ЛЕСОСИБИРСК     чет        5    4      1\n",
      "\n",
      "Среднее отклонение по количеству поездов по направлениям:\n",
      "dep_dir\n",
      "неч   -13.43\n",
      "чет   -15.89\n",
      "\n",
      "Среднеквадратичное отклонение по направлениям:\n",
      "dep_dir\n",
      "неч    14.76\n",
      "чет    21.47\n"
     ]
    }
   ],
   "source": [
    "print_ssp_stats(krs, 'КРАС')"
   ]
  },
  {
   "cell_type": "code",
   "execution_count": 355,
   "metadata": {
    "collapsed": false
   },
   "outputs": [
    {
     "name": "stdout",
     "output_type": "stream",
     "text": [
      "Дорога ВСИБ\n",
      "Сравнение запланированного и \"нормативного\" количества поездов:\n",
      "          st_from_name            st_to_show dep_dir  planned  ssp  delta\n",
      "                ТАЙШЕТ                  ЮРТЫ     неч       29   54    -25\n",
      " ИРКУТСК-СОРТИРОВОЧНЫЙ                  ЗИМА     неч       47   70    -23\n",
      "                ТАЙШЕТ              САЯНСКАЯ     неч       10   22    -12\n",
      "                  ЗИМА           НИЖНЕУДИНСК     неч       61   70     -9\n",
      "           НИЖНЕУДИНСК                ТАЙШЕТ     неч       60   68     -8\n",
      "               ТАКСИМО            НОВЫЙ УОЯН     неч        3   10     -7\n",
      "            НОВЫЙ УОЯН       СЕВЕРОБАЙКАЛЬСК     неч        5   10     -5\n",
      "            СЛЮДЯНКА I  ИРКУТСК-СОРТИРОВОЧНЫ     неч       62   66     -4\n",
      "             ХРЕБТОВАЯ        ГИДРОСТРОИТЕЛЬ     неч       12   16     -4\n",
      "             ВИХОРЕВКА                  ЧУНА     неч       16   18     -2\n",
      "                  ЛЕНА               КИРЕНГА     неч        8   10     -2\n",
      "            НОВАЯ ЧАРА               ТАКСИМО     неч        6    8     -2\n",
      "       СЕВЕРОБАЙКАЛЬСК               КИРЕНГА     неч        9   10     -1\n",
      "                НАУШКИ              УЛАН-УДЭ     неч        4    3      1\n",
      "            ЗАУДИНСКИЙ               МЫСОВАЯ     неч       65   62      3\n",
      " ИРКУТСК-СОРТИРОВОЧНЫЙ            СЛЮДЯНКА I     чет       39   86    -47\n",
      "            СЛЮДЯНКА I               МЫСОВАЯ     чет       49   86    -37\n",
      "           НИЖНЕУДИНСК                  ЗИМА     чет       40   74    -34\n",
      "                ТАЙШЕТ           НИЖНЕУДИНСК     чет       47   74    -27\n",
      "                  ЗИМА  ИРКУТСК-СОРТИРОВОЧНЫ     чет       52   78    -26\n",
      "            ЗАУДИНСКИЙ      ПЕТРОВСКИЙ ЗАВОД     чет       59   84    -25\n",
      "                  ЛЕНА             КОРШУНИХА     чет       12   18     -6\n",
      "             ХРЕБТОВАЯ                ИГИРМА     чет        2    8     -6\n",
      "                ТАЙШЕТ            НЕВЕЛЬСКАЯ     чет       19   24     -5\n",
      "       СЕВЕРОБАЙКАЛЬСК            НОВЫЙ УОЯН     чет       10   14     -4\n",
      "            НОВЫЙ УОЯН               ТАКСИМО     чет       11   14     -3\n",
      "             ВИХОРЕВКА        ГИДРОСТРОИТЕЛЬ     чет       21   22     -1\n",
      "            ЗАУДИНСКИЙ                НАУШКИ     чет        2    3     -1\n",
      "               ТАКСИМО            НОВАЯ ЧАРА     чет       13   14     -1\n",
      "            НОВАЯ ЧАРА                  ХАНИ     чет       14   11      3\n",
      "\n",
      "Среднее отклонение по количеству поездов по направлениям:\n",
      "dep_dir\n",
      "неч    -6.67\n",
      "чет   -14.67\n",
      "\n",
      "Среднеквадратичное отклонение по направлениям:\n",
      "dep_dir\n",
      "неч    10.24\n",
      "чет    21.44\n"
     ]
    }
   ],
   "source": [
    "print_ssp_stats(vsib, 'ВСИБ')"
   ]
  },
  {
   "cell_type": "code",
   "execution_count": 356,
   "metadata": {
    "collapsed": false
   },
   "outputs": [
    {
     "name": "stdout",
     "output_type": "stream",
     "text": [
      "Дорога ЗАБ\n",
      "Сравнение запланированного и \"нормативного\" количества поездов:\n",
      "             st_from_name            st_to_show dep_dir  planned  ssp  delta\n",
      "                БЕЛОГОРСК           ШИМАНОВСКАЯ     неч       53   83    -30\n",
      "                   АРХАРА             БЕЛОГОРСК     неч       54   80    -26\n",
      "              ШИМАНОВСКАЯ             МАГДАГАЧИ     неч       60   85    -25\n",
      "                МАГДАГАЧИ           СКОВОРОДИНО     неч       62   84    -22\n",
      "                   ЧИТА I                 ХИЛОК     неч       56   74    -18\n",
      "                    ХИЛОК      ПЕТРОВСКИЙ ЗАВОД     неч       57   70    -13\n",
      "                  ГОРЕЛЫЙ                 УРУША     неч       69   80    -11\n",
      "                   МОГОЧА  ЧЕРНЫШЕВСК-ЗАБАЙКАЛЬ     неч       60   70    -10\n",
      "                ОЛОВЯННАЯ             КАРЫМСКАЯ     неч        8   14     -6\n",
      " ЧЕРНЫШЕВСК-ЗАБАЙКАЛЬСКИЙ        ШИЛКА-ТОВАРНАЯ     неч       64   70     -6\n",
      "                    УРУША                МОГОЧА     неч       65   70     -5\n",
      "                    БОРЗЯ             ОЛОВЯННАЯ     неч       13   13      0\n",
      "           ШИЛКА-ТОВАРНАЯ             КАРЫМСКАЯ     неч       69   68      1\n",
      "              ЗАБАЙКАЛЬСК                 БОРЗЯ     неч       14   12      2\n",
      "         ПЕТРОВСКИЙ ЗАВОД              УЛАН-УДЭ     неч       62   60      2\n",
      "                  ТАРСКАЯ                ЧИТА I     неч       83   75      8\n",
      "                  ТАРСКАЯ        ШИЛКА-ТОВАРНАЯ     чет       39   73    -34\n",
      "                    УРУША           СКОВОРОДИНО     чет       63   93    -30\n",
      "           ШИЛКА-ТОВАРНАЯ  ЧЕРНЫШЕВСК-ЗАБАЙКАЛЬ     чет       44   73    -29\n",
      " ЧЕРНЫШЕВСК-ЗАБАЙКАЛЬСКИЙ                МОГОЧА     чет       48   76    -28\n",
      "                  ГОРЕЛЫЙ             МАГДАГАЧИ     чет       70   95    -25\n",
      "                МАГДАГАЧИ           ШИМАНОВСКАЯ     чет       70   93    -23\n",
      "                    ХИЛОК                ЧИТА I     чет       67   85    -18\n",
      "         ПЕТРОВСКИЙ ЗАВОД                 ХИЛОК     чет       68   85    -17\n",
      "                   МОГОЧА                 УРУША     чет       65   80    -15\n",
      "                   АРХАРА               ОБЛУЧЬЕ     чет       71   85    -14\n",
      "              ШИМАНОВСКАЯ             БЕЛОГОРСК     чет       79   92    -13\n",
      "                БЕЛОГОРСК                АРХАРА     чет       81   85     -4\n",
      "                ОЛОВЯННАЯ                 БОРЗЯ     чет        8   12     -4\n",
      "                  ТАРСКАЯ             ОЛОВЯННАЯ     чет        8   12     -4\n",
      "                    БОРЗЯ           ЗАБАЙКАЛЬСК     чет        9   10     -1\n",
      "                   ЧИТА I             КАРЫМСКАЯ     чет       91   85      6\n",
      "\n",
      "Среднее отклонение по количеству поездов по направлениям:\n",
      "dep_dir\n",
      "неч    -9.94\n",
      "чет   -15.81\n",
      "\n",
      "Среднеквадратичное отклонение по направлениям:\n",
      "dep_dir\n",
      "неч    14.94\n",
      "чет    19.56\n"
     ]
    }
   ],
   "source": [
    "print_ssp_stats(zab, 'ЗАБ')"
   ]
  },
  {
   "cell_type": "code",
   "execution_count": 357,
   "metadata": {
    "collapsed": false
   },
   "outputs": [
    {
     "name": "stdout",
     "output_type": "stream",
     "text": [
      "Дорога ДВС\n",
      "Сравнение запланированного и \"нормативного\" количества поездов:\n",
      "                       st_from_name            st_to_show dep_dir  planned  ssp  delta\n",
      "                             АРХАРА             БЕЛОГОРСК     неч       54   70    -16\n",
      "                             ВАНИНО          ВЫСОКОГОРНАЯ     неч       11   22    -11\n",
      "                              ТЫНДА                  ХАНИ     неч        1    9     -8\n",
      "                          ГРОДЕКОВО        ГРОДЕКОВО(КИТ)     неч        6   13     -7\n",
      " КОМСОМОЛЬСК-НА-АМУРЕ-СОРТИРОВОЧНЫЙ             ПОСТЫШЕВО     неч        5   10     -5\n",
      "                        НОВЫЙ УРГАЛ           ИЗВЕСТКОВАЯ     неч        1    3     -2\n",
      "                          СИБИРЦЕВО         НОВОКАЧАЛИНСК     неч        1    2     -1\n",
      "                       ХАБАРОВСК II               ОБЛУЧЬЕ     неч       57   58     -1\n",
      "                       ВЫСОКОГОРНАЯ     КОМСОМОЛЬСК-СОРТ.     неч       23   22      1\n",
      "                           ГВОЗДЕВО             УССУРИЙСК     неч        5    4      1\n",
      "                              ТЫНДА                 ШТУРМ     неч       14   13      1\n",
      "                      ВОЛОЧАЕВКА II               ОБЛУЧЬЕ     неч        9    7      2\n",
      " КОМСОМОЛЬСК-НА-АМУРЕ-СОРТИРОВОЧНЫЙ         ВОЛОЧАЕВКА II     неч       17   14      3\n",
      "                        СМОЛЯНИНОВО               УГЛОВАЯ     неч       44   40      4\n",
      "                             РУЖИНО              ГУБЕРОВО     неч       63   58      5\n",
      "                        НОВЫЙ УРГАЛ               ЭТЫРКЭН     неч       11    5      6\n",
      "                          УССУРИЙСК             СИБИРЦЕВО     неч       65   58      7\n",
      "                          СИБИРЦЕВО        СПАССК-ДАЛЬНИЙ     неч       66   58      8\n",
      "                        ИЗВЕСТКОВАЯ               ОБЛУЧЬЕ     неч       54    1     53\n",
      "                          УССУРИЙСК              УГОЛЬНАЯ     чет        3   18    -15\n",
      "                        СМОЛЯНИНОВО            ПАРТИЗАНСК     чет       26   40    -14\n",
      "                       ВЫСОКОГОРНАЯ                ВАНИНО     чет       12   24    -12\n",
      " КОМСОМОЛЬСК-НА-АМУРЕ-СОРТИРОВОЧНЫЙ          ВЫСОКОГОРНАЯ     чет       17   24     -7\n",
      "                      ВОЛОЧАЕВКА II  КОМСОМОЛЬСК-СОРТИРОВ     чет       14   20     -6\n",
      "                           ГВОЗДЕВО                ПОСЬЕТ     чет        1    6     -5\n",
      "                          ГРОДЕКОВО             УССУРИЙСК     чет        1    6     -5\n",
      "                        ИЗВЕСТКОВАЯ           НОВЫЙ УРГАЛ     чет        2    3     -1\n",
      "                      ВОЛОЧАЕВКА II          ХАБАРОВСК II     чет        4    4      0\n",
      "                       ХАБАРОВСК II                 БИКИН     чет       62   60      2\n",
      "                           ГВОЗДЕВО                 ХАСАН     чет        4    1      3\n",
      "                          СИБИРЦЕВО          НОВОЧУГУЕВКА     чет        5    2      3\n",
      "                             РУЖИНО        СПАССК-ДАЛЬНИЙ     чет       65   58      7\n",
      "                          СИБИРЦЕВО             УССУРИЙСК     чет       65   58      7\n",
      "                              ТЫНДА             ФЕВРАЛЬСК     чет       22   10     12\n",
      "                          УССУРИЙСК               УГЛОВАЯ     чет       52   40     12\n",
      "                             АРХАРА               ОБЛУЧЬЕ     чет       71   25     46\n",
      "                        ИЗВЕСТКОВАЯ          ХАБАРОВСК II     чет       68    2     66\n",
      "\n",
      "Среднее отклонение по количеству поездов по направлениям:\n",
      "dep_dir\n",
      "неч    2.11\n",
      "чет    5.17\n",
      "\n",
      "Среднеквадратичное отклонение по направлениям:\n",
      "dep_dir\n",
      "неч    13.64\n",
      "чет    20.52\n"
     ]
    }
   ],
   "source": [
    "print_ssp_stats(dvs, 'ДВС')"
   ]
  },
  {
   "cell_type": "code",
   "execution_count": 358,
   "metadata": {
    "collapsed": false
   },
   "outputs": [],
   "source": [
    "# Пример построения barplot\n",
    "\n",
    "#krs = pd.read_csv(FOLDER + 'mandatory/SSP_KRS.csv', sep=';')\n",
    "#add_header('Красноярская дорога')\n",
    "#try:\n",
    "#    show_two_barplots(count_volumes(train_plan, krs), 'Красноярская', save=True, btype='less')\n",
    "#except:\n",
    "#    add_line('Красноярская дорога: ошибка в построении графика')"
   ]
  },
  {
   "cell_type": "markdown",
   "metadata": {},
   "source": [
    "<a id='info_plan_depart'></a>\n",
    "## Проверка соответствия первого участка в запланированном маршруте и исходного факта [ToC](#toc)"
   ]
  },
  {
   "cell_type": "code",
   "execution_count": 359,
   "metadata": {
    "collapsed": true
   },
   "outputs": [],
   "source": [
    "add_header('Проверка соответствия первого участка в запланированном маршруте и исходного факта', h=2, p=False)"
   ]
  },
  {
   "cell_type": "code",
   "execution_count": 360,
   "metadata": {
    "collapsed": false
   },
   "outputs": [
    {
     "name": "stdout",
     "output_type": "stream",
     "text": [
      "Поезда, у которых первый участок в маршруте не совпадает с исходным (всего 0, показаны первые 10):\n",
      "Empty DataFrame\n",
      "Columns: [train, st_from_name, st_to_name, time_start_f, st_from_name_info, st_to_name_info, oper_time_f]\n",
      "Index: []\n",
      "\n",
      "Поезда, у которых время отправления на первый участок в маршруте не совпадает с фактическим (всего 0, показаны первые 10):\n",
      "Empty DataFrame\n",
      "Columns: [train, st_from_name, st_to_name, time_start_f, st_from_name_info, st_to_name_info, oper_time_f]\n",
      "Index: []\n"
     ]
    }
   ],
   "source": [
    "cols = ['train', 'st_from_name', 'st_to_name', 'time_start_f', 'st_from_name_info', 'st_to_name_info', 'oper_time_f']\n",
    "td_plan = train_plan[(train_plan.st_from_info.isnull() == False) \n",
    "                     & (train_plan.st_from_info != '-1')].drop_duplicates('train')\n",
    "td_bad_track = td_plan[(td_plan.st_from != td_plan.st_from_info) | (td_plan.st_to != td_plan.st_to_info)]\n",
    "add_header('Поезда, у которых первый участок в маршруте не совпадает с исходным (всего %d, показаны первые 10):' \n",
    "          % td_bad_track.train.count())\n",
    "add_line(td_bad_track[cols])\n",
    "\n",
    "td_bad_time = td_plan[(td_plan.time_start != td_plan.oper_time)]\n",
    "add_header('\\nПоезда, у которых время отправления на первый участок в маршруте не совпадает с фактическим (всего %d, показаны первые 10):' \n",
    "          % td_bad_time.train.count())\n",
    "pd.set_option('display.max_colwidth', 19)\n",
    "add_line(td_bad_time.sort_values('oper_time')[cols].head(10))"
   ]
  },
  {
   "cell_type": "markdown",
   "metadata": {},
   "source": [
    "<a id='time_leaps'></a>\n",
    "## Проверка скачков по времени назад [ToC](#toc)"
   ]
  },
  {
   "cell_type": "code",
   "execution_count": 361,
   "metadata": {
    "collapsed": true
   },
   "outputs": [],
   "source": [
    "add_header('Проверка скачков по времени назад', h=2, p=False)"
   ]
  },
  {
   "cell_type": "code",
   "execution_count": 362,
   "metadata": {
    "collapsed": false
   },
   "outputs": [
    {
     "name": "stdout",
     "output_type": "stream",
     "text": [
      "Не найдено поездов со скачками по времени назад в плане\n"
     ]
    }
   ],
   "source": [
    "train_plan['next_time_start'] = train_plan.time_start.shift(-1)\n",
    "train_plan['next_time_start_f'] = train_plan.time_start_f.shift(-1)\n",
    "train_plan['train_end'] = train_plan.train != train_plan.train.shift(-1)\n",
    "cols = ['train', 'st_from_name', 'st_to_name', 'time_start_f', 'time_end_f', 'next_time_start_f']\n",
    "leaps = train_plan[(train_plan.train_end == False) & (train_plan.next_time_start < train_plan.time_end)][cols]\n",
    "if leaps.empty:\n",
    "    add_header('Не найдено поездов со скачками по времени назад в плане')\n",
    "else:\n",
    "    add_header('Всего %d поездов со скачками по времени назад в плане. Примеры:' % leaps.train.count())\n",
    "    add_line(leaps.head(10)[cols])"
   ]
  },
  {
   "cell_type": "markdown",
   "metadata": {},
   "source": [
    "<a id='irk_ssp'></a>"
   ]
  },
  {
   "cell_type": "markdown",
   "metadata": {},
   "source": [
    "## Сравнение количества передаваемых в планировщик реальных поездов с ССП [ToC](#toc)"
   ]
  },
  {
   "cell_type": "code",
   "execution_count": 363,
   "metadata": {
    "collapsed": true
   },
   "outputs": [],
   "source": [
    "# Направления для проверки\n",
    "\n",
    "test = [('ИРКУТСК-СОРТИРОВОЧНЫЙ', 'ГОНЧАРОВО'), ('ИРКУТСК-СОРТИРОВОЧНЫЙ', 'БАТАРЕЙНАЯ')]"
   ]
  },
  {
   "cell_type": "code",
   "execution_count": 490,
   "metadata": {
    "collapsed": true
   },
   "outputs": [],
   "source": [
    "add_header('Детальное сравнение количества поездов с данными ССП по станции %s' % test[0][0], h=2, p=False)"
   ]
  },
  {
   "cell_type": "code",
   "execution_count": 365,
   "metadata": {
    "collapsed": false
   },
   "outputs": [],
   "source": [
    "routes = pd.read_csv(FOLDER + 'routes.csv', dtype={'st_from':str, 'st_to':str, 'train':str})\n",
    "add_info(routes)\n",
    "routes['link_name'] = list(zip(routes.st_from_name, routes.st_to_name))\n",
    "def_tt = pd.read_csv(FOLDER + '/mandatory/travel_times_all_pairs.csv', sep=';').set_index(['st_from_name', 'st_to_name'])"
   ]
  },
  {
   "cell_type": "code",
   "execution_count": 366,
   "metadata": {
    "collapsed": false
   },
   "outputs": [
    {
     "name": "stdout",
     "output_type": "stream",
     "text": [
      "Всего 80 поездов, по которым ожидается проследование в направлении ИРКУТСК-СОРТИРОВОЧНЫЙ - ГОНЧАРОВО в первые сутки планирования\n"
     ]
    }
   ],
   "source": [
    "def get_arrive_time(row, station):\n",
    "    if (row.oper == 'depart') | (row.oper_time >= current_time):\n",
    "        start_time = row.oper_time\n",
    "    else:\n",
    "        start_time = current_time            \n",
    "    return start_time + row.tt + row.lag\n",
    "\n",
    "(test_st, test_st_dir) = test[0]\n",
    "train_info['st_loc_name'] = train_info.oper_location.map(st_names.name)\n",
    "train_info.st_loc_name.fillna(train_info.st_from_name,  inplace=True)\n",
    "train_info['tt'] = train_info.st_loc_name.apply(lambda x: def_tt.ix[x, test_st].tt)\n",
    "train_info['lag'] = np.round((train_info.tt / 6) * 1.5)\n",
    "train_info['arr_time'] = train_info[['oper', 'oper_time', 'tt', 'lag']]\\\n",
    "                                    .apply(lambda row: get_arrive_time(row, test_st), axis=1)\n",
    "train_info['arr_time_f'] = train_info.arr_time.apply(nice_time)\n",
    "train_info['plan_time'] = train_info.train.map(train_plan[train_plan.st_from_name == test_st].set_index('train').time_start)\n",
    "train_info['plan_time_f'] = train_info.plan_time.apply(nice_time)\n",
    "train_info['delta'] = train_info.plan_time - train_info.arr_time\n",
    "train_info['delta_h'] = np.round((train_info.delta / 3600), 2)\n",
    "\n",
    "train_plan['link_name'] = list(zip(train_plan.st_from_name, train_plan.st_to_name))\n",
    "\n",
    "dir_trains = train_info[train_info.train.isin(routes[routes.link_name == (test_st, test_st_dir)].train)]\n",
    "cols = ['train', 'oper', 'st_loc_name', 'tt', 'lag', 'oper_time_f', 'arr_time_f', 'plan_time_f', 'delta_h']\n",
    "dir_trains = dir_trains[dir_trains.arr_time < current_time + 24 * 3600].sort_values('arr_time')\n",
    "#a[cols]\n",
    "add_header('Всего %d поездов, по которым ожидается проследование в направлении %s - %s в первые сутки планирования'\n",
    "           % (dir_trains.train.count(), test_st, test_st_dir))"
   ]
  },
  {
   "cell_type": "code",
   "execution_count": 367,
   "metadata": {
    "collapsed": false
   },
   "outputs": [
    {
     "name": "stdout",
     "output_type": "stream",
     "text": [
      "Всего 17 поездов на направлении ИРКУТСК-СОРТИРОВОЧНЫЙ - ГОНЧАРОВО, которых вообще нет в плане\n",
      "        train    oper         st_loc_name     tt    lag    oper_time_f     arr_time_f plan_time_f  delta_h\n",
      " 200020077663   ready                ЗИМА  15404   3851  Jul 15, 02:48  Jul 15, 09:51        None      NaN\n",
      " 200020216035   ready                ЗИМА  15404   3851  Jul 15, 02:48  Jul 15, 09:51        None      NaN\n",
      " 200020086980   ready                ЗИМА  15404   3851  Jul 14, 23:12  Jul 15, 09:51        None      NaN\n",
      " 200020231400   ready                ЗИМА  15404   3851  Jul 14, 23:12  Jul 15, 09:51        None      NaN\n",
      " 200205702576  depart         НИЖНЕУДИНСК  31588   7897  Jul 15, 03:10  Jul 15, 14:08        None      NaN\n",
      " 200020331577   ready         НИЖНЕУДИНСК  31588   7897  Jul 14, 22:10  Jul 15, 15:28        None      NaN\n",
      " 200020331499   ready         НИЖНЕУДИНСК  31588   7897  Jul 15, 03:40  Jul 15, 15:28        None      NaN\n",
      " 200020357751   ready         НИЖНЕУДИНСК  31588   7897  Jul 15, 01:50  Jul 15, 15:28        None      NaN\n",
      " 200020376241   ready         НИЖНЕУДИНСК  31588   7897  Jul 15, 01:50  Jul 15, 15:28        None      NaN\n",
      " 200020313601   ready         НИЖНЕУДИНСК  31588   7897  Jul 14, 22:10  Jul 15, 15:28        None      NaN\n",
      " 200020096068   ready         НИЖНЕУДИНСК  31588   7897  Jul 15, 03:40  Jul 15, 15:28        None      NaN\n",
      " 200020349076  depart              ТАЙШЕТ  41760  10440  Jul 15, 02:00  Jul 15, 16:30        None      NaN\n",
      " 210219893009   ready              ТАЙШЕТ  41760  10440  Jul 15, 01:25  Jul 15, 19:00        None      NaN\n",
      " 200020349030   ready              ТАЙШЕТ  41760  10440  Jul 15, 01:25  Jul 15, 19:00        None      NaN\n",
      " 200020489249  depart  КРАСНОЯРСК-ВОСТ...  66830  16708  Jul 15, 01:25  Jul 16, 00:37        None      NaN\n",
      " 200020469859  depart  КРАСНОЯРСК-ВОСТ...  66830  16708  Jul 15, 02:23  Jul 16, 01:35        None      NaN\n",
      " 200021091800  depart  КРАСНОЯРСК-ВОСТ...  66830  16708  Jul 15, 02:25  Jul 16, 01:37        None      NaN\n"
     ]
    }
   ],
   "source": [
    "no_plan = dir_trains[dir_trains.plan_time.isnull()][cols]\n",
    "add_header('Всего %d поездов на направлении %s - %s, которых вообще нет в плане' % (no_plan.train.count(), test_st, test_st_dir))\n",
    "add_line(no_plan)"
   ]
  },
  {
   "cell_type": "code",
   "execution_count": 368,
   "metadata": {
    "collapsed": false
   },
   "outputs": [
    {
     "name": "stdout",
     "output_type": "stream",
     "text": [
      "Всего 37 поездов (46.25%), по которым запланировано проследование в направлении ИРКУТСК-СОРТИРОВОЧНЫЙ - ГОНЧАРОВО в первые сутки\n"
     ]
    }
   ],
   "source": [
    "plan_day = dir_trains[dir_trains.plan_time < current_time + 24 * 3600][cols]\n",
    "add_header('Всего %d поездов (%.2f%%), по которым запланировано проследование в направлении %s - %s в первые сутки'\n",
    "          % (plan_day.train.count(), 100 * plan_day.train.count() / dir_trains.train.count(), test_st, test_st_dir))"
   ]
  },
  {
   "cell_type": "code",
   "execution_count": 369,
   "metadata": {
    "collapsed": false
   },
   "outputs": [
    {
     "name": "stdout",
     "output_type": "stream",
     "text": [
      "Всего 33 поездов (41.25%), у которых запланированное время проследования на участке ИРКУТСК-СОРТИРОВОЧНЫЙ - ГОНЧАРОВО сильно сдвинуто вперед\n",
      "        train    oper         st_loc_name     tt    lag    oper_time_f     arr_time_f    plan_time_f  delta_h\n",
      " 200021691205   ready  ИРКУТСК-СОРТИРО...      0      0  Jul 14, 21:00  Jul 15, 04:30  Jul 17, 15:40    59.16\n",
      " 200020470053  depart            САЯНСКАЯ  59334  14834  Jul 15, 02:06  Jul 15, 22:42  Jul 18, 02:41    51.99\n",
      " 200021719987   ready  ИРКУТСК-СОРТИРО...      0      0  Jul 14, 22:23  Jul 15, 04:30  Jul 17, 00:50    44.32\n",
      " 200021085438  depart            САЯНСКАЯ  59334  14834  Jul 14, 21:49  Jul 15, 18:25  Jul 17, 13:20    42.92\n",
      " 200021105168  arrive            ИЛАНСКАЯ  50864  12716  Jul 15, 03:55  Jul 15, 22:10  Jul 17, 15:50    41.66\n",
      " 200021096890  depart           ЩЕТИНКИНО  70734  17684  Jul 15, 01:53  Jul 16, 02:26  Jul 17, 16:18    37.86\n",
      " 200021902873   ready  ИРКУТСК-СОРТИРО...      0      0  Jul 15, 02:02  Jul 15, 04:30  Jul 16, 10:40    30.15\n",
      " 200020524564  depart           ЩЕТИНКИНО  70734  17684  Jul 15, 00:40  Jul 16, 01:13  Jul 16, 23:52    22.65\n",
      " 200021392136  arrive  КРАСНОЯРСК-ВОСТ...  66830  16708  Jul 15, 02:56  Jul 16, 03:43  Jul 17, 00:00    20.28\n",
      " 210219457707  depart           ИРБЕЙСКАЯ  56373  14093  Jul 15, 00:02  Jul 15, 19:36  Jul 16, 14:15    18.64\n",
      " 200021089550  arrive            САЯНСКАЯ  59334  14834  Jul 15, 03:32  Jul 16, 01:06  Jul 16, 17:45    16.64\n",
      " 200200453164  arrive  КРАСНОЯРСК-ВОСТ...  66830  16708  Jul 15, 02:01  Jul 16, 03:43  Jul 16, 19:25    15.70\n",
      " 200020313247  arrive            САЯНСКАЯ  59334  14834  Jul 15, 03:18  Jul 16, 01:06  Jul 16, 14:35    13.47\n",
      " 200021129441  arrive  КРАСНОЯРСК-ВОСТ...  66830  16708  Jul 15, 01:27  Jul 16, 03:43  Jul 16, 16:02    12.32\n",
      " 200021727272   ready              ТАЙШЕТ  41760  10440  Jul 15, 00:06  Jul 15, 19:00  Jul 16, 06:51    11.85\n",
      " 200020508127  arrive         НИЖНЕУДИНСК  31588   7897  Jul 15, 03:13  Jul 15, 15:28  Jul 16, 02:58    11.49\n",
      " 200021884543  depart           ЗАОЗЕРНАЯ  57966  14492  Jul 15, 02:55  Jul 15, 23:02  Jul 16, 09:34    10.54\n",
      " 200020385382  arrive              ТАЙШЕТ  41760  10440  Jul 15, 02:06  Jul 15, 19:00  Jul 16, 05:26    10.43\n",
      " 200021902452   ready  ИРКУТСК-СОРТИРО...      0      0  Jul 15, 03:35  Jul 15, 04:30  Jul 15, 14:35    10.07\n",
      " 200020498433  arrive              ТАЙШЕТ  41760  10440  Jul 14, 16:13  Jul 15, 19:00  Jul 16, 05:00     9.99\n",
      " 200021052352  depart            ИЛАНСКАЯ  50864  12716  Jul 15, 03:00  Jul 15, 20:39  Jul 16, 06:15     9.59\n",
      " 200020508355  depart                 УЯР  59838  14960  Jul 15, 04:00  Jul 16, 00:46  Jul 16, 09:21     8.57\n",
      " 200020469877  depart            САЯНСКАЯ  59334  14834  Jul 15, 03:37  Jul 16, 00:13  Jul 16, 08:00     7.79\n",
      " 200020376225  depart              ТАЙШЕТ  41760  10440  Jul 15, 04:06  Jul 15, 18:36  Jul 16, 02:00     7.40\n",
      " 200020260473  depart              ТАЙШЕТ  41760  10440  Jul 15, 04:19  Jul 15, 18:49  Jul 16, 01:48     6.99\n",
      " 200021086084  depart            САЯНСКАЯ  59334  14834  Jul 15, 02:35  Jul 15, 23:11  Jul 16, 05:56     6.76\n",
      " 200021381046  arrive            САЯНСКАЯ  59334  14834  Jul 15, 04:10  Jul 16, 01:06  Jul 16, 07:17     6.18\n",
      " 200020331723  depart            САЯНСКАЯ  59334  14834  Jul 15, 03:54  Jul 16, 00:30  Jul 16, 06:26     5.94\n",
      " 200020142402  depart           ЩЕТИНКИНО  70734  17684  Jul 15, 03:00  Jul 16, 03:33  Jul 16, 09:07     5.57\n",
      " 200021725868   ready  ИРКУТСК-СОРТИРО...      0      0  Jul 14, 23:55  Jul 15, 04:30  Jul 15, 09:35     5.07\n",
      " 220210228632  depart              ТАЙШЕТ  41760  10440  Jul 15, 03:36  Jul 15, 18:06  Jul 15, 21:45     3.65\n",
      " 200021901471   ready  ИРКУТСК-СОРТИРО...      0      0  Jul 15, 03:30  Jul 15, 04:30  Jul 15, 08:00     3.49\n",
      " 200021884465   ready  ИРКУТСК-СОРТИРО...      0      0  Jul 15, 02:02  Jul 15, 04:30  Jul 15, 07:50     3.32\n"
     ]
    }
   ],
   "source": [
    "# sns.set(context='notebook', style='whitegrid')\n",
    "# sns.set_color_codes('dark')\n",
    "# plt.figure(figsize=(10, 5))\n",
    "# sns.kdeplot(dir_trains[dir_trains.train.isin(plan_day.train) == False].dropna(subset=['delta']).delta / 3600, shade=True)\n",
    "\n",
    "delta_lim = 3 * 3600\n",
    "late_trains = dir_trains[dir_trains.delta > delta_lim]\n",
    "late_trains.sort_values('delta', ascending=False)[cols]\n",
    "add_header('Всего %d поездов (%.2f%%), у которых запланированное время проследования на участке %s - %s сильно сдвинуто вперед' \n",
    "           % (late_trains.train.count(), 100 * late_trains.train.count() / dir_trains.train.count(), test_st, test_st_dir))\n",
    "add_line(late_trains.sort_values('delta', ascending=False)[cols])"
   ]
  },
  {
   "cell_type": "code",
   "execution_count": 370,
   "metadata": {
    "collapsed": false,
    "scrolled": true
   },
   "outputs": [
    {
     "name": "stdout",
     "output_type": "stream",
     "text": [
      "Пример плана по одному из поездов, формированием НЕ на станции ИРКУТСК-СОРТИРОВОЧНЫЙ:\n",
      "        train    oper    oper_time_f    st_from_name      st_to_name   time_start_f     time_end_f          loco          team\n",
      " 200020470053  depart  Jul 15, 02:06        САЯНСКАЯ       ИРБЕЙСКАЯ  Jul 15, 02:06  Jul 15, 02:50  200200080853  220207260016\n",
      " 200020470053  depart  Jul 15, 02:06       ИРБЕЙСКАЯ           ТАГУЛ  Jul 15, 02:50  Jul 15, 06:50  200200080853  220207260016\n",
      " 200020470053  depart  Jul 15, 02:06           ТАГУЛ          ТАЙШЕТ  Jul 15, 06:50  Jul 15, 07:01  200200080853  220207260016\n",
      " 200020470053  depart  Jul 15, 02:06          ТАЙШЕТ      БАЙРОНОВКА  Jul 17, 14:39  Jul 17, 14:55  200200086778            -1\n",
      " 200020470053  depart  Jul 15, 02:06      БАЙРОНОВКА         АЛЗАМАЙ  Jul 17, 14:55  Jul 17, 15:51  200200086778            -1\n",
      " 200020470053  depart  Jul 15, 02:06         АЛЗАМАЙ     НИЖНЕУДИНСК  Jul 17, 15:51  Jul 17, 17:32  200200086778            -1\n",
      " 200020470053  depart  Jul 15, 02:06     НИЖНЕУДИНСК          УДА II  Jul 17, 17:32  Jul 17, 17:39  200200086778            -1\n",
      " 200020470053  depart  Jul 15, 02:06          УДА II           ТУЛУН  Jul 17, 17:39  Jul 17, 19:36  200200086778            -1\n",
      " 200020470053  depart  Jul 15, 02:06           ТУЛУН            АЗЕЙ  Jul 17, 19:36  Jul 17, 20:07  200200086778            -1\n",
      " 200020470053  depart  Jul 15, 02:06            АЗЕЙ          КУЙТУН  Jul 17, 20:07  Jul 17, 21:11  200200086778            -1\n",
      " 200020470053  depart  Jul 15, 02:06          КУЙТУН         ПЕРЕВОЗ  Jul 17, 21:11  Jul 17, 22:03  200200086778            -1\n",
      " 200020470053  depart  Jul 15, 02:06         ПЕРЕВОЗ            ЗИМА  Jul 17, 22:03  Jul 17, 22:15  200200086778            -1\n",
      " 200020470053  depart  Jul 15, 02:06            ЗИМА          ЗАЛАРИ  Jul 17, 22:15  Jul 17, 23:15  200200086778            -1\n",
      " 200020470053  depart  Jul 15, 02:06          ЗАЛАРИ       ЧЕРЕМХОВО  Jul 17, 23:15  Jul 18, 00:33  200200086778            -1\n",
      " 200020470053  depart  Jul 15, 02:06       ЧЕРЕМХОВО      КАСЬЯНОВКА  Jul 18, 00:33  Jul 18, 00:50  200200086778            -1\n",
      " 200020470053  depart  Jul 15, 02:06      КАСЬЯНОВКА          МАЛЬТА  Jul 18, 00:50  Jul 18, 01:30  200200086778            -1\n",
      " 200020470053  depart  Jul 15, 02:06          МАЛЬТА           КИТОЙ  Jul 18, 01:30  Jul 18, 02:03  200200086778            -1\n",
      " 200020470053  depart  Jul 15, 02:06           КИТОЙ         АНГАРСК  Jul 18, 02:03  Jul 18, 02:10  200200086778            -1\n",
      " 200020470053  depart  Jul 15, 02:06         АНГАРСК       СУХОВСКАЯ  Jul 18, 02:10  Jul 18, 02:17  200200086778            -1\n",
      " 200020470053  depart  Jul 15, 02:06       СУХОВСКАЯ           МЕГЕТ  Jul 18, 02:17  Jul 18, 02:30  200200086778            -1\n",
      " 200020470053  depart  Jul 15, 02:06           МЕГЕТ      БАТАРЕЙНАЯ  Jul 18, 02:30  Jul 18, 02:39  200200086778            -1\n",
      " 200020470053  depart  Jul 15, 02:06      БАТАРЕЙНАЯ  ИРКУТСК-СОР...  Jul 18, 02:39  Jul 18, 02:41  200200086778            -1\n",
      " 200020470053  depart  Jul 15, 02:06  ИРКУТСК-СОР...       ГОНЧАРОВО  Jul 18, 02:41  Jul 18, 03:05  200200086778            -1\n",
      " 200020470053  depart  Jul 15, 02:06       ГОНЧАРОВО     БОЛЬШОЙ ЛУГ  Jul 18, 03:05  Jul 18, 03:49  200200086778            -1\n",
      " 200020470053  depart  Jul 15, 02:06     БОЛЬШОЙ ЛУГ   АНДРИАНОВСКАЯ  Jul 18, 03:49  Jul 18, 04:51  200200086778            -1\n",
      " 200020470053  depart  Jul 15, 02:06   АНДРИАНОВСКАЯ       АНГАСОЛКА  Jul 18, 04:51  Jul 18, 05:05  200200086778            -1\n",
      " 200020470053  depart  Jul 15, 02:06       АНГАСОЛКА     СЛЮДЯНКА II  Jul 18, 05:05  Jul 18, 05:30  200200086778            -1\n",
      " 200020470053  depart  Jul 15, 02:06     СЛЮДЯНКА II      СЛЮДЯНКА I  Jul 18, 05:30  Jul 18, 05:36  200200086778            -1\n",
      " 200020470053  depart  Jul 15, 02:06      СЛЮДЯНКА I       БАЙКАЛЬСК  Jul 18, 05:36  Jul 18, 06:20  200200086778            -1\n",
      " 200020470053  depart  Jul 15, 02:06       БАЙКАЛЬСК         МЫСОВАЯ  Jul 18, 06:20  Jul 18, 08:27  200200086778            -1\n",
      " 200020470053  depart  Jul 15, 02:06         МЫСОВАЯ        УЛАН-УДЭ  Jul 18, 08:27  Jul 18, 11:06  200200086778            -1\n",
      " 200020470053  depart  Jul 15, 02:06        УЛАН-УДЭ      ЗАУДИНСКИЙ  Jul 18, 11:06  Jul 18, 11:14  200200086778            -1\n",
      " 200020470053  depart  Jul 15, 02:06      ЗАУДИНСКИЙ          ТАЛЬЦЫ  Jul 18, 11:14  Jul 18, 11:23  200200086778            -1\n",
      " 200020470053  depart  Jul 15, 02:06          ТАЛЬЦЫ         ЧЕЛУТАЙ  Jul 18, 11:23  Jul 18, 12:18  200200086778            -1\n",
      " 200020470053  depart  Jul 15, 02:06         ЧЕЛУТАЙ          ГОРХОН  Jul 18, 12:18  Jul 18, 13:22  200200086778            -1\n",
      " 200020470053  depart  Jul 15, 02:06          ГОРХОН            КИЖА  Jul 18, 13:22  Jul 18, 13:58  200200086778            -1\n",
      " 200020470053  depart  Jul 15, 02:06            КИЖА  ПЕТРОВСКИЙ ...  Jul 18, 13:58  Jul 18, 14:37  200200086778            -1\n",
      " 200020470053  depart  Jul 15, 02:06  ПЕТРОВСКИЙ ...        ЖИПХЕГЕН  Jul 18, 14:37  Jul 18, 16:57  200200086778            -1\n",
      " 200020470053  depart  Jul 15, 02:06        ЖИПХЕГЕН           ХИЛОК  Jul 18, 16:57  Jul 18, 17:30  200200086778            -1\n",
      " 200020470053  depart  Jul 15, 02:06           ХИЛОК          МОГЗОН  Jul 18, 17:30  Jul 18, 19:56  200200086778            -1\n",
      " 200020470053  depart  Jul 15, 02:06          МОГЗОН        ТУРГУТУЙ  Jul 18, 19:56  Jul 18, 21:00  200200086778            -1\n",
      " 200020470053  depart  Jul 15, 02:06        ТУРГУТУЙ          ЛЕСНАЯ  Jul 18, 21:00  Jul 18, 21:51  200200086778            -1\n",
      " 200020470053  depart  Jul 15, 02:06          ЛЕСНАЯ          КАДАЛА  Jul 18, 21:51  Jul 18, 23:01  200200086778            -1\n",
      " 200020470053  depart  Jul 15, 02:06          КАДАЛА          ЧИТА I  Jul 18, 23:01  Jul 18, 23:11  200200086778            -1\n",
      " 200020470053  depart  Jul 15, 02:06          ЧИТА I       КАРЫМСКАЯ  Jul 18, 23:11  Jul 19, 01:08  200200086778            -1\n",
      " 200020470053  depart  Jul 15, 02:06       КАРЫМСКАЯ         ТАРСКАЯ  Jul 19, 01:08  Jul 19, 01:23            -1            -1\n",
      " 200020470053  depart  Jul 15, 02:06         ТАРСКАЯ         УРУЛЬГА  Jul 19, 01:23  Jul 19, 01:57            -1            -1\n",
      " 200020470053  depart  Jul 15, 02:06         УРУЛЬГА       СОЛНЦЕВАЯ  Jul 19, 01:57  Jul 19, 03:18            -1            -1\n",
      " 200020470053  depart  Jul 15, 02:06       СОЛНЦЕВАЯ  ШИЛКА-ТОВАРНАЯ  Jul 19, 03:18  Jul 19, 04:10            -1            -1\n",
      " 200020470053  depart  Jul 15, 02:06  ШИЛКА-ТОВАРНАЯ  ШИЛКА-ПАССА...  Jul 19, 04:10  Jul 19, 04:20            -1            -1\n",
      " 200020470053  depart  Jul 15, 02:06  ШИЛКА-ПАССА...      ПРИИСКОВАЯ  Jul 19, 04:20  Jul 19, 05:06            -1            -1\n",
      " 200020470053  depart  Jul 15, 02:06      ПРИИСКОВАЯ          КУЭНГА  Jul 19, 05:06  Jul 19, 05:48            -1            -1\n",
      " 200020470053  depart  Jul 15, 02:06          КУЭНГА  ЧЕРНЫШЕВСК-...  Jul 19, 05:48  Jul 19, 07:01            -1            -1\n",
      " 200020470053  depart  Jul 15, 02:06  ЧЕРНЫШЕВСК-...         ЖИРЕКЕН  Jul 19, 07:01  Jul 19, 07:59            -1            -1\n",
      " 200020470053  depart  Jul 15, 02:06         ЖИРЕКЕН          ЗИЛОВО  Jul 19, 07:59  Jul 19, 08:49            -1            -1\n",
      " 200020470053  depart  Jul 15, 02:06          ЗИЛОВО     КСЕНЬЕВСКАЯ  Jul 19, 08:49  Jul 19, 11:17            -1            -1\n",
      " 200020470053  depart  Jul 15, 02:06     КСЕНЬЕВСКАЯ          МОГОЧА  Jul 19, 11:17  Jul 19, 13:21            -1            -1\n",
      " 200020470053  depart  Jul 15, 02:06          МОГОЧА          АМАЗАР  Jul 19, 13:21  Jul 19, 15:10            -1            -1\n",
      " 200020470053  depart  Jul 15, 02:06          АМАЗАР  ЕРОФЕЙ ПАВЛ...  Jul 19, 15:10  Jul 19, 17:35            -1            -1\n",
      " 200020470053  depart  Jul 15, 02:06  ЕРОФЕЙ ПАВЛ...           УРУША  Jul 19, 17:35  Jul 19, 19:42            -1            -1\n",
      " 200020470053  depart  Jul 15, 02:06           УРУША       БАМОВСКАЯ  Jul 19, 19:42  Jul 19, 21:05            -1            -1\n",
      " 200020470053  depart  Jul 15, 02:06       БАМОВСКАЯ         ГОРЕЛЫЙ  Jul 19, 21:05  Jul 19, 21:12            -1            -1\n",
      " 200020470053  depart  Jul 15, 02:06         ГОРЕЛЫЙ     СКОВОРОДИНО  Jul 19, 21:12  Jul 19, 21:43            -1            -1\n",
      " 200020470053  depart  Jul 15, 02:06     СКОВОРОДИНО   БОЛЬШОЙ НЕВЕР  Jul 19, 21:43  Jul 19, 22:01            -1            -1\n",
      " 200020470053  depart  Jul 15, 02:06   БОЛЬШОЙ НЕВЕР          ТАЛДАН  Jul 19, 22:01  Jul 19, 23:40            -1            -1\n",
      " 200020470053  depart  Jul 15, 02:06          ТАЛДАН       МАГДАГАЧИ  Jul 19, 23:40  Jul 20, 01:30            -1            -1\n",
      " 200020470053  depart  Jul 15, 02:06       МАГДАГАЧИ          УШУМУН  Jul 20, 01:30  Jul 20, 03:41            -1            -1\n",
      " 200020470053  depart  Jul 15, 02:06          УШУМУН     ШИМАНОВСКАЯ  Jul 20, 03:41  Jul 20, 06:08            -1            -1\n",
      " 200020470053  depart  Jul 15, 02:06     ШИМАНОВСКАЯ         ЛЕДЯНАЯ  Jul 20, 06:08  Jul 20, 06:48            -1            -1\n",
      " 200020470053  depart  Jul 15, 02:06         ЛЕДЯНАЯ       БЕЛОГОРСК  Jul 20, 06:48  Jul 20, 08:39            -1            -1\n",
      " 200020470053  depart  Jul 15, 02:06       БЕЛОГОРСК    БЕЛОГОРСК II  Jul 20, 08:39  Jul 20, 08:50            -1            -1\n",
      " 200020470053  depart  Jul 15, 02:06    БЕЛОГОРСК II         ЗАВИТАЯ  Jul 20, 08:50  Jul 20, 11:00            -1            -1\n",
      " 200020470053  depart  Jul 15, 02:06         ЗАВИТАЯ           БУРЕЯ  Jul 20, 11:00  Jul 20, 11:49            -1            -1\n",
      " 200020470053  depart  Jul 15, 02:06           БУРЕЯ          АРХАРА  Jul 20, 11:49  Jul 20, 12:56            -1            -1\n",
      " 200020470053  depart  Jul 15, 02:06          АРХАРА         ОБЛУЧЬЕ  Jul 20, 12:56  Jul 20, 15:05            -1            -1\n",
      " 200020470053  depart  Jul 15, 02:06         ОБЛУЧЬЕ     ИЗВЕСТКОВАЯ  Jul 20, 15:05  Jul 20, 15:58            -1            -1\n",
      " 200020470053  depart  Jul 15, 02:06     ИЗВЕСТКОВАЯ            БИРА  Jul 20, 15:58  Jul 20, 17:26            -1            -1\n",
      " 200020470053  depart  Jul 15, 02:06            БИРА             NaN  Jul 20, 17:26  Jul 20, 18:20            -1            -1\n",
      " 200020470053  depart  Jul 15, 02:06             NaN    ВОЛОЧАЕВКА I  Jul 20, 18:20  Jul 20, 20:22            -1            -1\n",
      " 200020470053  depart  Jul 15, 02:06    ВОЛОЧАЕВКА I      ТУНГУССКИЙ  Jul 20, 20:22  Jul 20, 20:27            -1            -1\n",
      " 200020470053  depart  Jul 15, 02:06      ТУНГУССКИЙ        ДЕЖНЕВКА  Jul 20, 20:27  Jul 20, 20:32            -1            -1\n",
      " 200020470053  depart  Jul 15, 02:06        ДЕЖНЕВКА     ПРИАМУРСКАЯ  Jul 20, 20:32  Jul 20, 20:53            -1            -1\n",
      " 200020470053  depart  Jul 15, 02:06     ПРИАМУРСКАЯ  ПОСТ-ПОКРОВ...  Jul 20, 20:53  Jul 20, 20:57            -1            -1\n",
      " 200020470053  depart  Jul 15, 02:06  ПОСТ-ПОКРОВ...            АМУР  Jul 20, 20:57  Jul 20, 21:08            -1            -1\n",
      " 200020470053  depart  Jul 15, 02:06            АМУР     ХАБАРОВСК I  Jul 20, 21:08  Jul 20, 21:28            -1            -1\n",
      " 200020470053  depart  Jul 15, 02:06     ХАБАРОВСК I    ХАБАРОВСК II  Jul 20, 21:28  Jul 20, 21:38            -1            -1\n",
      " 200020470053  depart  Jul 15, 02:06    ХАБАРОВСК II      КРУГЛИКОВО  Jul 20, 21:38  Jul 20, 22:25            -1            -1\n",
      " 200020470053  depart  Jul 15, 02:06      КРУГЛИКОВО       ВЯЗЕМСКАЯ  Jul 20, 22:25  Jul 20, 23:51            -1            -1\n",
      " 200020470053  depart  Jul 15, 02:06       ВЯЗЕМСКАЯ   РОЗЕНГАРТОВКА  Jul 20, 23:51  Jul 21, 00:58            -1            -1\n",
      " 200020470053  depart  Jul 15, 02:06   РОЗЕНГАРТОВКА           БИКИН  Jul 21, 00:58  Jul 21, 01:53            -1            -1\n",
      " 200020470053  depart  Jul 15, 02:06           БИКИН       ЛУЧЕГОРСК  Jul 21, 01:53  Jul 21, 02:45            -1            -1\n",
      " 200020470053  depart  Jul 15, 02:06       ЛУЧЕГОРСК        ГУБЕРОВО  Jul 21, 02:45  Jul 21, 03:27            -1            -1\n",
      " 200020470053  depart  Jul 15, 02:06        ГУБЕРОВО        ЭБЕРГАРД  Jul 21, 03:27  Jul 21, 03:49            -1            -1\n",
      " 200020470053  depart  Jul 15, 02:06        ЭБЕРГАРД  ДАЛЬНЕРЕЧЕН...  Jul 21, 03:49  Jul 21, 04:03            -1            -1\n",
      " 200020470053  depart  Jul 15, 02:06  ДАЛЬНЕРЕЧЕН...  БЛОКПОСТ 15...  Jul 21, 04:03  Jul 21, 04:09            -1            -1\n",
      " 200020470053  depart  Jul 15, 02:06  БЛОКПОСТ 15...          РУЖИНО  Jul 21, 04:09  Jul 21, 04:56            -1            -1\n",
      " 200020470053  depart  Jul 15, 02:06          РУЖИНО        ШМАКОВКА  Jul 21, 04:56  Jul 21, 05:40            -1            -1\n",
      " 200020470053  depart  Jul 15, 02:06        ШМАКОВКА  СПАССК-ДАЛЬНИЙ  Jul 21, 05:40  Jul 21, 06:50            -1            -1\n",
      " 200020470053  depart  Jul 15, 02:06  СПАССК-ДАЛЬНИЙ       СИБИРЦЕВО  Jul 21, 06:50  Jul 21, 08:01            -1            -1\n",
      " 200020470053  depart  Jul 15, 02:06       СИБИРЦЕВО     ДУБИНИНСКИЙ  Jul 21, 08:01  Jul 21, 08:46            -1            -1\n",
      " 200020470053  depart  Jul 15, 02:06     ДУБИНИНСКИЙ       УССУРИЙСК  Jul 21, 08:46  Jul 21, 08:58            -1            -1\n",
      " 200020470053  depart  Jul 15, 02:06       УССУРИЙСК     БАРАНОВСКИЙ  Jul 21, 08:58  Jul 21, 09:21            -1            -1\n",
      " 200020470053  depart  Jul 15, 02:06     БАРАНОВСКИЙ    НАДЕЖДИНСКАЯ  Jul 21, 09:21  Jul 21, 10:08            -1            -1\n",
      " 200020470053  depart  Jul 15, 02:06    НАДЕЖДИНСКАЯ  АМУРСКИЙ ЗАЛИВ  Jul 21, 10:08  Jul 21, 10:16            -1            -1\n",
      " 200020470053  depart  Jul 15, 02:06  АМУРСКИЙ ЗАЛИВ         УГЛОВАЯ  Jul 21, 10:16  Jul 21, 10:31            -1            -1\n",
      " 200020470053  depart  Jul 15, 02:06         УГЛОВАЯ  АРТЕМ-ПРИМО...  Jul 21, 10:31  Jul 21, 10:46            -1            -1\n",
      " 200020470053  depart  Jul 15, 02:06  АРТЕМ-ПРИМО...  АРТЕМ-ПРИМО...  Jul 21, 10:46  Jul 21, 10:59            -1            -1\n",
      " 200020470053  depart  Jul 15, 02:06  АРТЕМ-ПРИМО...         ШКОТОВО  Jul 21, 10:59  Jul 21, 11:36            -1            -1\n",
      " 200020470053  depart  Jul 15, 02:06         ШКОТОВО     СМОЛЯНИНОВО  Jul 21, 11:36  Jul 21, 11:58            -1            -1\n",
      " 200020470053  depart  Jul 15, 02:06     СМОЛЯНИНОВО      НОВОНЕЖИНО  Jul 21, 11:58  Jul 21, 12:38            -1            -1\n",
      " 200020470053  depart  Jul 15, 02:06      НОВОНЕЖИНО      АНИСИМОВКА  Jul 21, 12:38  Jul 21, 12:57            -1            -1\n",
      " 200020470053  depart  Jul 15, 02:06      АНИСИМОВКА  КРАСНОАРМЕЙ...  Jul 21, 12:57  Jul 21, 14:02            -1            -1\n",
      " 200020470053  depart  Jul 15, 02:06  КРАСНОАРМЕЙ...      ПАРТИЗАНСК  Jul 21, 14:02  Jul 21, 14:27            -1            -1\n",
      " 200020470053  depart  Jul 15, 02:06      ПАРТИЗАНСК         ЛОЗОВЫЙ  Jul 21, 14:27  Jul 21, 14:41            -1            -1\n",
      " 200020470053  depart  Jul 15, 02:06         ЛОЗОВЫЙ       КУЗНЕЦОВО  Jul 21, 14:41  Jul 21, 14:53            -1            -1\n",
      " 200020470053  depart  Jul 15, 02:06       КУЗНЕЦОВО         НАХОДКА  Jul 21, 14:53  Jul 21, 15:05            -1            -1\n",
      " 200020470053  depart  Jul 15, 02:06         НАХОДКА      ХМЫЛОВСКИЙ  Jul 21, 15:05  Jul 21, 15:58            -1            -1\n",
      " 200020470053  depart  Jul 15, 02:06      ХМЫЛОВСКИЙ  НАХОДКА-ВОС...  Jul 21, 15:58  Jul 21, 16:03            -1            -1\n"
     ]
    }
   ],
   "source": [
    "plan_cols = ['train', 'oper', 'oper_time_f', 'st_from_name', 'st_to_name', 'time_start_f', 'time_end_f', 'loco', 'team']\n",
    "add_header('Пример плана по одному из поездов, формированием НЕ на станции %s:' % test_st)\n",
    "with pd.option_context('display.max_colwidth', 15):\n",
    "    add_line(train_plan[train_plan.train == late_trains[late_trains.st_loc_name != test_st].sort_values('delta', ascending=False)\\\n",
    "           .iloc[0].train][plan_cols])"
   ]
  },
  {
   "cell_type": "code",
   "execution_count": 463,
   "metadata": {
    "collapsed": true
   },
   "outputs": [],
   "source": [
    "slot = pd.read_csv(FOLDER + 'slot.csv', dtype={'st_from':str, 'st_to':str})\n",
    "add_info(slot)\n",
    "slot['dt_start'] = slot.time_start.apply(datetime.datetime.fromtimestamp)"
   ]
  },
  {
   "cell_type": "code",
   "execution_count": 485,
   "metadata": {
    "collapsed": false
   },
   "outputs": [
    {
     "data": {
      "text/plain": [
       "dt_start\n",
       "2016-07-15 07:00:00    1\n",
       "2016-07-15 08:00:00    2\n",
       "2016-07-15 09:00:00    2\n",
       "2016-07-15 10:00:00    0\n",
       "2016-07-15 11:00:00    1\n",
       "2016-07-15 12:00:00    1\n",
       "2016-07-15 13:00:00    1\n",
       "2016-07-15 14:00:00    0\n",
       "2016-07-15 15:00:00    0\n",
       "2016-07-15 16:00:00    0\n",
       "2016-07-15 17:00:00    0\n",
       "2016-07-15 18:00:00    2\n",
       "2016-07-15 19:00:00    1\n",
       "2016-07-15 20:00:00    3\n",
       "Freq: H, Name: train, dtype: int64"
      ]
     },
     "execution_count": 485,
     "metadata": {},
     "output_type": "execute_result"
    }
   ],
   "source": [
    "test = [('ТАЙШЕТ', 'ТОРЕЯ')]\n",
    "(test_st, test_st_dir) = test[0]\n",
    "plan_cols = ['train', 'st_from_name', 'st_to_name', 'dt_start', 'loco', 'team']\n",
    "train_plan['dt_start'] = train_plan.time_start.apply(datetime.datetime.fromtimestamp)\n",
    "a = train_plan[(train_plan.st_from_name == test_st) \n",
    "           & (train_plan.st_to_name == test_st_dir) & (train_plan.train_type.isin(['2', '9']))\n",
    "           & (train_plan.time_start >= current_time) & (train_plan.time_end < current_time + 24 * 3600)]\\\n",
    "    .sort_values('dt_start')[plan_cols]\n",
    "dep_volume = a.set_index('dt_start').resample('1H', how='count').train\n",
    "dep_volume"
   ]
  },
  {
   "cell_type": "code",
   "execution_count": 486,
   "metadata": {
    "collapsed": false
   },
   "outputs": [],
   "source": [
    "slot_volume = slot[(slot.st_from_name == test_st) & (slot.st_to_name == test_st_dir)]\\\n",
    "    .set_index('dt_start').resample('1H', how='count').slot\n",
    "dep_slot = dep_volume.to_frame().join(slot_volume)"
   ]
  },
  {
   "cell_type": "code",
   "execution_count": 487,
   "metadata": {
    "collapsed": false
   },
   "outputs": [],
   "source": [
    "# slot_volume = slot[(slot.st_from_name == test_st) & (slot.st_to_name == test_st_dir)]\\\n",
    "#     .set_index('dt_start').resample('300s')\n",
    "# slot_volume.dropna(subset=['slot'], inplace=True)\n",
    "# slot_volume['slot'] = slot_volume.slot.apply(int)\n",
    "# slot_volume = slot_volume.reset_index().set_index('slot')\n",
    "# slot_volume"
   ]
  },
  {
   "cell_type": "code",
   "execution_count": 488,
   "metadata": {
    "collapsed": false
   },
   "outputs": [
    {
     "name": "stdout",
     "output_type": "stream",
     "text": [
      "                     train  slot\n",
      "dt_start                        \n",
      "2016-07-15 20:00:00      3     2\n"
     ]
    }
   ],
   "source": [
    "a = dep_slot[dep_slot.train > dep_slot.slot]\n",
    "print(a)"
   ]
  },
  {
   "cell_type": "code",
   "execution_count": 489,
   "metadata": {
    "collapsed": false
   },
   "outputs": [
    {
     "name": "stdout",
     "output_type": "stream",
     "text": [
      "2016-07-15 20:00:00 2016-07-15 21:00:00\n",
      "                 train st_from_name st_to_name            dt_start\n",
      "9454   999912387022010       ТАЙШЕТ      ТОРЕЯ 2016-07-15 20:10:00\n",
      "9409   999912387022004       ТАЙШЕТ      ТОРЕЯ 2016-07-15 20:30:00\n",
      "60979  999928795012000       ТАЙШЕТ      ТОРЕЯ 2016-07-15 20:31:55\n",
      "               slot            dt_start\n",
      "44663  200021275536 2016-07-15 20:11:00\n",
      "44906  200021275580 2016-07-15 20:31:00\n",
      "-------\n"
     ]
    }
   ],
   "source": [
    "pd.set_option('display.max_colwidth', 40)\n",
    "cols = ['train', 'st_from_name', 'st_to_name', 'dt_start']\n",
    "for dt in a.index:\n",
    "    dt_next = dt + datetime.timedelta(0, 3600, 0)\n",
    "    print(dt, dt_next)\n",
    "    print(train_plan[(train_plan.train_type.isin(['2', '9']))\n",
    "                    & (train_plan.st_from_name == test_st) & (train_plan.st_to_name == test_st_dir)\n",
    "                    & (train_plan.dt_start >= dt) & (train_plan.dt_start < dt_next)].sort_values('dt_start')[cols])\n",
    "    print(slot[(slot.st_from_name == test_st) & (slot.st_to_name == test_st_dir)\n",
    "                    & (slot.dt_start >= dt) & (slot.dt_start < dt_next)].sort_values('dt_start')[['slot', 'dt_start']])\n",
    "    print('-------')"
   ]
  },
  {
   "cell_type": "markdown",
   "metadata": {},
   "source": [
    "<a id='report'></a>\n",
    "### Экспорт в HTML [ToC](#toc)"
   ]
  },
  {
   "cell_type": "code",
   "execution_count": 371,
   "metadata": {
    "collapsed": false
   },
   "outputs": [
    {
     "name": "stdout",
     "output_type": "stream",
     "text": [
      "Отчет сформирован: report/train_report_20160715_131728.html\n"
     ]
    }
   ],
   "source": [
    "filename = REPORT_FOLDER + 'train_report_' + time.strftime('%Y%m%d_%H%M%S', time.localtime(time.time())) + '.html'\n",
    "create_report(filename)"
   ]
  }
 ],
 "metadata": {
  "kernelspec": {
   "display_name": "Python 3",
   "language": "python",
   "name": "python3"
  },
  "language_info": {
   "codemirror_mode": {
    "name": "ipython",
    "version": 3
   },
   "file_extension": ".py",
   "mimetype": "text/x-python",
   "name": "python",
   "nbconvert_exporter": "python",
   "pygments_lexer": "ipython3",
   "version": "3.5.1"
  }
 },
 "nbformat": 4,
 "nbformat_minor": 0
}
