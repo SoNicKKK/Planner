{
 "cells": [
  {
   "cell_type": "markdown",
   "metadata": {},
   "source": [
    "<a id='toc'></a>\n",
    "# Отчет по запланированным поездам\n",
    "\n",
    "1. [Проверка планирования всех реальных поездов](#all_plan)\n",
    "1. [Проверка совпадения четности номеров поездов и направления движения](#oddity)\n",
    "2. [Анализ времен стоянок поездов на станциях смены локомотивов и бригад.](#stop_time)\n",
    "   1. [Смена локомотивов](#stop_loco)\n",
    "   2. [Смена бригад](#stop_team)\n",
    "4. [Выявление случаев \"близкой\" отправки поездов с одной станции (с интервалом меньше 5 минут)](#dep_interval)\n",
    "5. [Анализ отклонения запланированного на сутки количества поездов от данных АС ССП (данные средние по суткам).](#ssp)\n",
    "6. [Проверка соответствия первого участка в запланированном маршруте и исходного факта](#info_plan_depart)\n",
    "6. [Детальное сравнение количества поездов по Иркутску с данными ССП](#irk_ssp)\n",
    "6. [Создание отчета](#report)"
   ]
  },
  {
   "cell_type": "markdown",
   "metadata": {},
   "source": [
    "### Функции для экспорта в HTML"
   ]
  },
  {
   "cell_type": "code",
   "execution_count": 98,
   "metadata": {
    "collapsed": true
   },
   "outputs": [],
   "source": [
    "report = ''\n",
    "FOLDER = 'resources/'\n",
    "REPORT_FOLDER = 'report/'\n",
    "PRINT = True"
   ]
  },
  {
   "cell_type": "code",
   "execution_count": 99,
   "metadata": {
    "collapsed": true
   },
   "outputs": [],
   "source": [
    "def add_line(line, p=PRINT):    \n",
    "    global report        \n",
    "    if p:                \n",
    "        if type(line) == pd.core.frame.DataFrame:\n",
    "            print(line.to_string(index=False))\n",
    "        elif type(line) == pd.core.series.Series:\n",
    "            print(line.to_string())\n",
    "        else:\n",
    "            print(line)\n",
    "    if type(line) == pd.core.frame.DataFrame:        \n",
    "        report += ('%s<br>' % line.to_html(index=False))\n",
    "    elif type(line) == pd.core.series.Series:\n",
    "        report += ('%s<br>' % line.to_frame().reset_index().to_html(index=False))\n",
    "    else:        \n",
    "        report += ('%s<br>' % line)\n",
    "    \n",
    "def add_header(header, h=4, p=PRINT):\n",
    "    global report\n",
    "    report += ('<h%d>%s</h%d>' % (h, header, h))\n",
    "    if p:\n",
    "        print(header)\n",
    "\n",
    "def add_image(filename, scale=0.4):\n",
    "    global report\n",
    "    report += ('<img src=\"%s\" alt=\"%s\" height=\"%d%%\">' % (filename, filename, int(scale * 100)))\n",
    "\n",
    "def create_report(filename):\n",
    "    global report\n",
    "    report = report.replace('<table border=\"1\" class=\"dataframe\">','<table class=\"table table-striped\">')\n",
    "    html_string = '''\n",
    "        <html>\n",
    "            <head>\n",
    "                <link rel=\"stylesheet\" href=\"skeleton.css\">\n",
    "                <style>body{ margin:20 20; background:whitesmoke; }\n",
    "                table {table-layout : fixed}\n",
    "                </style>\n",
    "            </head>\n",
    "            <body>                \n",
    "                %s\n",
    "            </body>\n",
    "        </html>''' % (report)\n",
    "    f = open(filename,'w', encoding='utf-8-sig')\n",
    "    f.write(html_string)\n",
    "    f.close()\n",
    "    print('Отчет сформирован: %s' % filename)"
   ]
  },
  {
   "cell_type": "markdown",
   "metadata": {},
   "source": [
    "## Загрузка и подготовка данных"
   ]
  },
  {
   "cell_type": "code",
   "execution_count": 100,
   "metadata": {
    "collapsed": false
   },
   "outputs": [
    {
     "name": "stdout",
     "output_type": "stream",
     "text": [
      "Время составления отчета: 01/08 14:20\n",
      "Время запуска планировщика: 15/07 14:41 (1468582897)\n"
     ]
    }
   ],
   "source": [
    "import numpy as np\n",
    "import pandas as pd\n",
    "import time, datetime\n",
    "from ast import literal_eval\n",
    "import matplotlib.pyplot as plt\n",
    "import seaborn as sns\n",
    "\n",
    "%matplotlib inline\n",
    "plt.style.use('fivethirtyeight')\n",
    "plt.rc('font', family='Tahoma')\n",
    "\n",
    "pd.set_option('max_rows', 50)\n",
    "\n",
    "time_format = '%d/%m %H:%M'\n",
    "\n",
    "start_time = time.time()\n",
    "current_time = pd.read_csv(FOLDER + 'current_time.csv').current_time[0]\n",
    "twr          = pd.read_csv(FOLDER + 'team_work_region.csv', converters={'twr':str})\n",
    "links        = pd.read_csv(FOLDER + 'link.csv', converters={'st_from':str, 'st_to':str})\n",
    "stations     = pd.read_csv(FOLDER + 'station.csv', converters={'station':str})\n",
    "train_info   = pd.read_csv(FOLDER + 'train_info.csv', converters={'train': str, 'st_from':str, 'st_to':str, 'joint':str,\n",
    "                                                                 'start_st':str, 'end_st':str})\n",
    "train_plan   = pd.read_csv(FOLDER + 'slot_train.csv', converters={'train': str, 'st_from':str, 'st_to':str})\n",
    "loco_info    = pd.read_csv(FOLDER + 'loco_attributes.csv', converters={'train':str, 'loco':str, 'st_from':str, 'st_to':str})\n",
    "loco_plan    = pd.read_csv(FOLDER + 'slot_loco.csv', converters={'train':str, 'loco':str, 'st_from':str, 'st_to':str})\n",
    "team_info    = pd.read_csv(FOLDER + 'team_attributes.csv', converters={'team':str,'depot':str, 'oper_location':str, \\\n",
    "                                                     'st_from':str, 'st_to':str, 'loco':str, 'depot_st':str})\n",
    "team_plan    = pd.read_csv(FOLDER + 'slot_team.csv', converters={'team':str,'loco':str, 'st_from':str, 'st_to':str})\n",
    "loco_series  = pd.read_csv(FOLDER + 'loco_series.csv')\n",
    "task         = pd.read_csv(FOLDER + 'task.csv', converters={'st_from':str, 'st_to':str, 'st_next':str})\n",
    "\n",
    "st_names     = stations[['station', 'name', 'esr']].drop_duplicates().set_index('station')\n",
    "team_info.regions = team_info.regions.apply(literal_eval)\n",
    "\n",
    "print('Время составления отчета:', time.strftime(time_format, time.localtime()))\n",
    "print('Время запуска планировщика: %s (%d)' % (time.strftime(time_format, time.localtime(current_time)), current_time))"
   ]
  },
  {
   "cell_type": "code",
   "execution_count": 101,
   "metadata": {
    "collapsed": false
   },
   "outputs": [],
   "source": [
    "def nice_time(t):        \n",
    "    return time.strftime(time_format, time.localtime(t)) if np.isnan(t) == False else None\n",
    "\n",
    "def add_info(df):    \n",
    "    if 'st_from' in df.columns:\n",
    "        df['st_from_name'] = df.st_from.map(st_names.name)\n",
    "    if 'st_to' in df.columns:\n",
    "        df['st_to_name'] = df.st_to.map(st_names.name)\n",
    "    if 'time_start' in df.columns:\n",
    "        df['time_start_f'] = df.time_start.apply(lambda x: nice_time(x))\n",
    "    if 'time_end' in df.columns:\n",
    "        df['time_end_f'] = df.time_end.apply(lambda x: nice_time(x))\n",
    "    if 'oper_location' in df.columns:\n",
    "        df['oper_location_name'] = df.oper_location.map(st_names.name)    \n",
    "        df.oper_location_name.fillna(0, inplace=True)\n",
    "    if ('oper_location' in df.columns) & ('st_from' in df.columns) & ('st_to' in df.columns):        \n",
    "        df['loc_name'] = df.oper_location_name\n",
    "        df.loc[df.loc_name == 0, 'loc_name'] = df.st_from_name + ' - ' + df.st_to_name\n",
    "    if 'oper_time' in df.columns:\n",
    "        df['oper_time_f'] = df.oper_time.apply(lambda x: nice_time(x))    \n",
    "    \n",
    "# Добавляем во все таблицы названия станций на маршруте и времена отправления/прибытия в читабельном формате\n",
    "add_info(train_plan), add_info(loco_plan), add_info(team_plan)\n",
    "add_info(train_info), add_info(loco_info), add_info(team_info)\n",
    "\n",
    "# Мержим таблицы _plan и _info для поездов, локомотивов и бригад\n",
    "train_plan = train_plan.merge(train_info, on='train', suffixes=('', '_info'), how='left')\n",
    "loco_plan = loco_plan.merge(loco_info, on='loco', suffixes=('', '_info'), how='left')\n",
    "team_plan = team_plan.merge(team_info, on='team', suffixes=('', '_info'), how='left')\n",
    "\n",
    "# Добавляем признаки поезда и бригады (реальный/локомотиво-резервный/объемный и реальная/фейковая)\n",
    "train_plan['train_type'] = train_plan.train.apply(lambda x: str(x)[0])\n",
    "team_plan['team_type'] = team_plan.team.apply(lambda x: 'Реальная' if str(x)[0] == '2' else 'Фейковая')\n",
    "\n",
    "# Для локомотиво-резервных и объемных поездов заполняем номер\n",
    "train_plan.loc[train_plan.train_type.isin(['8', '9']), 'number'] = train_plan.train.apply(lambda x: int(str(x)[-4:]))\n",
    "\n",
    "# Добавляем подвязанные локомотив и бригаду в таблицы loco_plan и train_plan\n",
    "if 'team' not in loco_plan.columns:\n",
    "    loco_plan = pd.merge(loco_plan, team_plan.loc[team_plan.state == 1, ['team', 'loco', 'time_start']], \n",
    "                         on=['loco', 'time_start'], how='left')\n",
    "if 'loco' not in train_plan.columns:\n",
    "    train_plan = pd.merge(train_plan, loco_plan.loc[loco_plan.state.isin([0, 1]), ['loco', 'team', 'train', 'time_start']],\n",
    "                     on=['train', 'time_start'], how='left')"
   ]
  },
  {
   "cell_type": "markdown",
   "metadata": {},
   "source": [
    "<a id='all_plan'></a>"
   ]
  },
  {
   "cell_type": "markdown",
   "metadata": {},
   "source": [
    "## Проверка планирования всех реальных поездов [ToC](#toc)"
   ]
  },
  {
   "cell_type": "code",
   "execution_count": 102,
   "metadata": {
    "collapsed": true
   },
   "outputs": [],
   "source": [
    "routes = pd.read_csv(FOLDER + 'routes.csv', dtype={'st_from':str, 'st_to':str, 'train':str})\n",
    "add_info(routes)\n",
    "routes.dropna(subset=['st_from_name', 'st_to_name'], how='any', inplace=True)\n",
    "start_st = routes.drop_duplicates('train').set_index('train')\n",
    "end_st = routes.drop_duplicates('train', keep='last').set_index('train')\n",
    "train_info['first_st'] = train_info.train.map(start_st.st_from_name)\n",
    "train_info['last_st'] = train_info.train.map(end_st.st_to_name)"
   ]
  },
  {
   "cell_type": "code",
   "execution_count": 103,
   "metadata": {
    "collapsed": false
   },
   "outputs": [
    {
     "name": "stdout",
     "output_type": "stream",
     "text": [
      "Всего 26 реальных поездов (1.46%) не запланировано:\n",
      "        train  number         ind434                  loc_name in_plan                  first_st                last_st\n",
      " 200021086084    1600  8621-718-9678            ТАЙШЕТ - ТОРЕЯ   False                    ТАЙШЕТ                 ВАНИНО\n",
      " 200021999454    2039  9600-377-8621  КОМСОМОЛЬСК-НА-АМУРЕ-...   False  КОМСОМОЛЬСК-НА-АМУРЕ-...               МАРИИНСК\n",
      " 200021365230    2076  8927-908-9687       ТАЙШЕТ - БАЙРОНОВКА   False                    ТАЙШЕТ                 ДЗЕМГИ\n",
      " 210219767972    2092  8927-888-9687      УШУМУН - ШИМАНОВСКАЯ   False                    УШУМУН                 ДЗЕМГИ\n",
      " 210219909822    2111  9700-363-9300     НИЖНЕУДИНСК - АЛЗАМАЙ   False               НИЖНЕУДИНСК  ИРКУТСК-СОРТИРОВОЧНЫЙ\n",
      " 200021386922    2149  9600-372-8621     НОВЫЙ УРГАЛ - АДНИКАН   False               НОВЫЙ УРГАЛ               МАРИИНСК\n",
      " 200020489091    2165  9600-370-9379     НОВЫЙ УРГАЛ - АДНИКАН   False               НОВЫЙ УРГАЛ                ЧЕЛУТАЙ\n",
      " 200021970425    2249  9200-183-8649              ЮРТЫ - КЛЮЧИ   False                      ЮРТЫ           МЕЖДУРЕЧЕНСК\n",
      " 210219619333    2275  9700-284-8622            ТАЙШЕТ - ТАГУЛ   False                    ТАЙШЕТ               МАРИИНСК\n",
      " 200021647202    2385  9116-156-3025           ТЫНДА - КУВЫКТА   False                     ТЫНДА               МАРИИНСК\n",
      " 210219600206    2462  8727-454-9861       КАРЫМСКАЯ - ТАРСКАЯ   False                 КАРЫМСКАЯ      НАХОДКА-ВОСТОЧНАЯ\n",
      " 200021512912    2635  8875-335-8718   БИСКАМЖА - МЕЖДУРЕЧЕНСК   False                  БИСКАМЖА               МАРИИНСК\n",
      " 210219944441    2641  9700-288-8622            ТАЙШЕТ - ТАГУЛ   False                    ТАЙШЕТ               МАРИИНСК\n",
      " 220207949381    2650  8927-889-9687  СКОВОРОДИНО - БОЛЬШОЙ...   False               СКОВОРОДИНО                 ДЗЕМГИ\n",
      " 210219793473    2689  9116-154-3025   БИСКАМЖА - МЕЖДУРЕЧЕНСК   False                  БИСКАМЖА               МАРИИНСК\n",
      " 210219463121    2691  9600-364-8621   БИСКАМЖА - МЕЖДУРЕЧЕНСК   False                  БИСКАМЖА               МАРИИНСК\n",
      " 200021105168    2758  8760-372-9678            ТАЙШЕТ - ТОРЕЯ   False                    ТАЙШЕТ                 ВАНИНО\n",
      " 210219410113    2822  8647-315-9861  АМАЗАР - ЕРОФЕЙ ПАВЛОВИЧ   False                    АМАЗАР      НАХОДКА-ВОСТОЧНАЯ\n",
      " 200211506154    2967  9859-588-9700  СИБИРЦЕВО - СПАССК-ДА...   False                 СИБИРЦЕВО           ХАБАРОВСК II\n",
      " 200021967477    4883  0001-200-8892           ИРБА - КУРАГИНО   False                      ИРБА           БОЛЬШАЯ ИРБА\n",
      " 200022016236    4884  0001-635-9500    БЕЛОГОРСК II - ЗАВИТАЯ   False              БЕЛОГОРСК II              БЕЛОГОРСК\n",
      " 200021719067    4902  0001-222-9212       КАСЬЯНОВКА - МАЛЬТА   False                КАСЬЯНОВКА            НИЖНЕУДИНСК\n",
      " 200206123369    6224  0000-015-6224      КСЕНЬЕВСКАЯ - МОГОЧА   False               КСЕНЬЕВСКАЯ                 МОГОЧА\n",
      " 200206065758    6373  0000-015-6373        ТАКСИМО - КАЗАНКАН   False                   ТАКСИМО               КАЗАНКАН\n",
      " 200206143273    6567  0000-015-6567        ИГИРМА - ХРЕБТОВАЯ   False                    ИГИРМА    КОРШУНИХА-АНГАРСКАЯ\n",
      " 200020142830    8904  5133-040-9400        КРАСНОЯРСК - БУГАЧ   False                КРАСНОЯРСК                 ЧИТА I\n"
     ]
    }
   ],
   "source": [
    "train_info['in_plan'] = train_info.train.isin(train_plan.train)\n",
    "a = train_info[(train_info.in_plan == False) \n",
    "               & (train_info.number > 1000) \n",
    "               & (train_info.number < 9000)\n",
    "               & ((train_info.st_from != train_info.st_to) | (train_info.st_from == -1))\\\n",
    "              ].sort_values('number')\n",
    "with pd.option_context('display.max_colwidth', 25):\n",
    "    add_header('Всего %d реальных поездов (%.2f%%) не запланировано:' \n",
    "               % (a.train.count(), 100 * a.train.count() / train_info.train.count()))\n",
    "    add_line(a[['train', 'number', 'ind434', 'loc_name', 'in_plan', 'first_st', 'last_st']])"
   ]
  },
  {
   "cell_type": "markdown",
   "metadata": {},
   "source": [
    "<a id='oddity'></a>\n",
    "## Проверка совпадения четности номеров поездов и направления движения [ToC](#toc)"
   ]
  },
  {
   "cell_type": "code",
   "execution_count": 104,
   "metadata": {
    "collapsed": false
   },
   "outputs": [],
   "source": [
    "add_header('Проверки по поездам', h=1, p=False)\n",
    "add_header('Проверка совпадения четности номеров поездов и направления движения', h=2, p=False)"
   ]
  },
  {
   "cell_type": "code",
   "execution_count": 105,
   "metadata": {
    "collapsed": false
   },
   "outputs": [
    {
     "name": "stdout",
     "output_type": "stream",
     "text": [
      "Все четности совпадают\n"
     ]
    }
   ],
   "source": [
    "train_plan['dir'] = train_plan.link.map(links.set_index('link').dir)\n",
    "train_plan['odevity'] = (((train_plan.number / 2).astype(int) * 2 == train_plan.number).astype(int) + 1) % 2\n",
    "train_plan['check_odd'] = train_plan.dir == train_plan.odevity\n",
    "cols = ['train', 'number', 'st_from_name', 'st_to_name', 'dir', 'odevity', 'check_odd']\n",
    "fail_dir_number = train_plan.drop_duplicates(subset=['train', 'number']).loc[(train_plan.train_type.isin(['8', '9'])) &\n",
    "                                                          (train_plan.check_odd == False), cols]\n",
    "if fail_dir_number.empty == False:\n",
    "    add_header('Четность номеров поездов и направления не совпадает для %d поездов (показаны первые 10):' %\n",
    "         len(fail_dir_number.index))\n",
    "    pd.set_option('display.max_colwidth', 35)\n",
    "    add_line(fail_dir_number.head(10))\n",
    "else:\n",
    "    add_line('Все четности совпадают')"
   ]
  },
  {
   "cell_type": "markdown",
   "metadata": {},
   "source": [
    "<a id='stop_time'></a>\n",
    "## Анализ времен стоянок поездов на станциях смены локомотивов и бригад [ToC](#toc)"
   ]
  },
  {
   "cell_type": "markdown",
   "metadata": {},
   "source": [
    "#### Параметры для анализа"
   ]
  },
  {
   "cell_type": "code",
   "execution_count": 106,
   "metadata": {
    "collapsed": false
   },
   "outputs": [],
   "source": [
    "# Минимальное время стоянки поезда для смены локомотива\n",
    "min_loco_stop = 1 * 3600 # 1 hour = 60 min\n",
    "\n",
    "# Минимальное время стоянки поезда для смены бригады\n",
    "min_team_stop = 15 * 60 # 15 min\n",
    "\n",
    "# Горизонт проверки\n",
    "hor = 24 * 3600"
   ]
  },
  {
   "cell_type": "markdown",
   "metadata": {},
   "source": [
    "<a id='stop_loco'></a>\n",
    "### Смена локомотивов [ToC](#toc)"
   ]
  },
  {
   "cell_type": "code",
   "execution_count": 107,
   "metadata": {
    "collapsed": true
   },
   "outputs": [],
   "source": [
    "add_header('Анализ смен локомотивов на маршрутах поездов', h=2, p=False)"
   ]
  },
  {
   "cell_type": "markdown",
   "metadata": {},
   "source": [
    "#### Ищем станции смены локомотивов и считаем средние времена"
   ]
  },
  {
   "cell_type": "code",
   "execution_count": 108,
   "metadata": {
    "collapsed": false
   },
   "outputs": [],
   "source": [
    "train_plan.columns\n",
    "train_plan.loco.fillna('-1', inplace=True)\n",
    "train_plan.team.fillna('-1', inplace=True)\n",
    "\n",
    "train_plan['train_end'] = train_plan.train != train_plan.train.shift(-1)\n",
    "train_plan['loco_end'] = (train_plan.loco != train_plan.loco.shift(-1)) | (train_plan.train_end)\n",
    "train_plan['team_end'] = (train_plan.team != train_plan.team.shift(-1)) | (train_plan.loco_end)\n",
    "\n",
    "train_plan['stop_time'] = train_plan.time_start.shift(-1) - train_plan.time_end\n",
    "train_plan['stop_time_h'] = np.round((train_plan.stop_time / 3600), 2)\n",
    "\n",
    "train_plan['next_loco'] = train_plan.loco.shift(-1)\n",
    "train_plan['next_team'] = train_plan.team.shift(-1)\n",
    "\n",
    "cols = ['train', 'st_from_name', 'st_to_name', 'loco', 'team', 'stop_time_h', 'next_loco']\n",
    "loco_change = train_plan[(train_plan.train_end == False) & (train_plan.loco_end == True)\n",
    "                        & (train_plan.time_end < current_time + hor)]"
   ]
  },
  {
   "cell_type": "code",
   "execution_count": 109,
   "metadata": {
    "collapsed": false
   },
   "outputs": [
    {
     "name": "stdout",
     "output_type": "stream",
     "text": [
      "Средние времена на смену локомотивов:\n",
      "- по всем сменам: 7.13 ч.\n",
      "- по всем сменам с ненулевым временем: 7.13 ч.\n"
     ]
    }
   ],
   "source": [
    "add_header('Средние времена на смену локомотивов:')\n",
    "add_line('- по всем сменам: %.2f ч.' % loco_change.stop_time_h.mean())\n",
    "add_line('- по всем сменам с ненулевым временем: %.2f ч.' % loco_change[loco_change.stop_time_h > 0].stop_time_h.mean())"
   ]
  },
  {
   "cell_type": "markdown",
   "metadata": {},
   "source": [
    "#### Ищем поезда, у которых смена локомотивов происходит за нулевое время"
   ]
  },
  {
   "cell_type": "code",
   "execution_count": 110,
   "metadata": {
    "collapsed": false
   },
   "outputs": [
    {
     "name": "stdout",
     "output_type": "stream",
     "text": [
      "Нет локомотивов, для которых смена бригад происходит за нулевое время\n"
     ]
    }
   ],
   "source": [
    "cols = ['train', 'st_from_name', 'st_to_name', 'loco', 'next_loco', 'stop_time_h']\n",
    "nill_stop_times = loco_change[loco_change.stop_time == 0]\n",
    "if not nill_stop_times.empty:\n",
    "    add_header('Всего %d поездов, для которых смена локомотивов происходит за нулевое время. Примеры:' \n",
    "               % nill_stop_times.train.count())\n",
    "    add_line(nill_stop_times[cols].head())\n",
    "    cols = ['train', 'st_from_name', 'st_to_name', 'time_start_f', 'time_end_f', 'loco', 'team']\n",
    "    add_line('')\n",
    "    add_header('Полный план по одному из таких поездов:')\n",
    "    for train in nill_stop_times.train.values[:1]:\n",
    "        add_line(train_plan[train_plan.train == train][cols])\n",
    "else:\n",
    "    add_header('Нет локомотивов, для которых смена бригад происходит за нулевое время')"
   ]
  },
  {
   "cell_type": "markdown",
   "metadata": {},
   "source": [
    "#### Составляем статистику по всем станциям смены, загружаем список приоритетных станций смены"
   ]
  },
  {
   "cell_type": "code",
   "execution_count": 111,
   "metadata": {
    "collapsed": false
   },
   "outputs": [],
   "source": [
    "cols = ['train', 'st_from_name', 'st_to_name', 'loco', 'next_loco', 'stop_time_h']\n",
    "no_nill_stops = loco_change[loco_change.stop_time > 0]\n",
    "no_nill_stops[cols]\n",
    "#no_nill_stops.groupby('st_to_name').stop_time_h.mean()\n",
    "st_change = no_nill_stops.groupby('st_to_name').train.count().to_frame()\\\n",
    "            .join(no_nill_stops.groupby('st_to_name').stop_time_h.mean()).reset_index()\n",
    "st_change['stop_time_h'] = st_change.stop_time_h.apply(lambda x: np.round(x, 2))\n",
    "st_change.sort_values('train', ascending=False).head(10)\n",
    "priority_change_stations = pd.read_csv(FOLDER + 'mandatory/priority_loco_change_stations.csv').st_name.values"
   ]
  },
  {
   "cell_type": "markdown",
   "metadata": {},
   "source": [
    "#### Ищем поезда, у которых смена локомотивов происходит на неправильных станциях"
   ]
  },
  {
   "cell_type": "code",
   "execution_count": 112,
   "metadata": {
    "collapsed": false
   },
   "outputs": [
    {
     "name": "stdout",
     "output_type": "stream",
     "text": [
      "Всего 43 поездов, у которых смена локомотива, скорее всего, происходит на неправильных станциях\n",
      "Примеры таких станций:\n",
      "          st_to_name  train  stop_time_h\n",
      "             ГОРЕЛЫЙ      9         2.23\n",
      "         ВЕРХНЕЗЕЙСК      5         8.17\n",
      "                 УЯР      5         1.43\n",
      "         НОВЫЙ УРГАЛ      5         5.66\n",
      "           ФЕВРАЛЬСК      3         8.20\n",
      "          НОВАЯ ЧАРА      3         3.13\n",
      "                ХАНИ      2         8.45\n",
      " КОРШУНИХА-АНГАРСКАЯ      2         1.77\n",
      "        ОРОСИТЕЛЬНЫЙ      1         2.01\n",
      "             УРГАЛ I      1         2.57\n",
      "\n",
      "Поезда, у которых смена локомотива происходит на станции ГОРЕЛЫЙ:\n",
      "        train st_from_name st_to_name          loco next_loco  stop_time_h\n",
      " 200021039956        ШТУРМ    ГОРЕЛЫЙ  200200057581        -1         1.71\n",
      " 220210002365    БАМОВСКАЯ    ГОРЕЛЫЙ  200200096358        -1         3.50\n",
      " 200021123348  СКОВОРОДИНО    ГОРЕЛЫЙ  200200068815        -1         2.14\n",
      " 220210204751    БАМОВСКАЯ    ГОРЕЛЫЙ  200200096865        -1         2.41\n",
      " 200021090370        ШТУРМ    ГОРЕЛЫЙ  200200099703        -1         1.68\n",
      " 200021514187        ШТУРМ    ГОРЕЛЫЙ  200200073954        -1         1.68\n",
      " 220210281786    БАМОВСКАЯ    ГОРЕЛЫЙ  200200047667        -1         2.41\n",
      " 220210070177    БАМОВСКАЯ    ГОРЕЛЫЙ  200200079286        -1         2.57\n",
      " 210219873696    БАМОВСКАЯ    ГОРЕЛЫЙ  200200033405        -1         2.00\n",
      "\n",
      "Полный план по одному из таких поездов:\n",
      "        train         st_from_name           st_to_name time_start_f   time_end_f          loco loc_name     loco_info\n",
      " 200021039956                ТЫНДА                ШТУРМ  15/07 15:20  15/07 20:13  200200057581    ТЫНДА  200200057581\n",
      " 200021039956                ШТУРМ              ГОРЕЛЫЙ  15/07 20:13  15/07 20:42  200200057581    ТЫНДА  200200057581\n",
      " 200021039956              ГОРЕЛЫЙ            БАМОВСКАЯ  15/07 22:25  15/07 22:31            -1    ТЫНДА  200200057581\n",
      " 200021039956            БАМОВСКАЯ                УРУША  15/07 22:31  15/07 23:51            -1    ТЫНДА  200200057581\n",
      " 200021039956                УРУША      ЕРОФЕЙ ПАВЛОВИЧ  15/07 23:51  16/07 01:59            -1    ТЫНДА  200200057581\n",
      " 200021039956      ЕРОФЕЙ ПАВЛОВИЧ               АМАЗАР  16/07 01:59  16/07 04:06            -1    ТЫНДА  200200057581\n",
      " 200021039956               АМАЗАР               МОГОЧА  16/07 04:06  16/07 05:52            -1    ТЫНДА  200200057581\n",
      " 200021039956               МОГОЧА          КСЕНЬЕВСКАЯ  16/07 07:55  16/07 09:58            -1    ТЫНДА  200200057581\n",
      " 200021039956          КСЕНЬЕВСКАЯ               ЗИЛОВО  16/07 09:58  16/07 12:26            -1    ТЫНДА  200200057581\n",
      " 200021039956               ЗИЛОВО              ЖИРЕКЕН  16/07 12:26  16/07 13:11            -1    ТЫНДА  200200057581\n",
      " 200021039956              ЖИРЕКЕН  ЧЕРНЫШЕВСК-ЗАБАЙ...  16/07 13:11  16/07 14:07            -1    ТЫНДА  200200057581\n",
      " 200021039956  ЧЕРНЫШЕВСК-ЗАБАЙ...               КУЭНГА  16/07 20:45  16/07 21:55            -1    ТЫНДА  200200057581\n",
      " 200021039956               КУЭНГА           ПРИИСКОВАЯ  16/07 21:55  16/07 22:36            -1    ТЫНДА  200200057581\n",
      " 200021039956           ПРИИСКОВАЯ   ШИЛКА-ПАССАЖИРСКАЯ  16/07 22:36  16/07 23:26            -1    ТЫНДА  200200057581\n",
      " 200021039956   ШИЛКА-ПАССАЖИРСКАЯ       ШИЛКА-ТОВАРНАЯ  16/07 23:26  16/07 23:43            -1    ТЫНДА  200200057581\n",
      " 200021039956       ШИЛКА-ТОВАРНАЯ            СОЛНЦЕВАЯ  16/07 23:43  17/07 00:23            -1    ТЫНДА  200200057581\n",
      " 200021039956            СОЛНЦЕВАЯ              УРУЛЬГА  17/07 00:23  17/07 01:38            -1    ТЫНДА  200200057581\n",
      " 200021039956              УРУЛЬГА              ТАРСКАЯ  17/07 01:38  17/07 02:11            -1    ТЫНДА  200200057581\n",
      " 200021039956              ТАРСКАЯ            КАРЫМСКАЯ  17/07 02:11  17/07 02:25            -1    ТЫНДА  200200057581\n",
      " 200021039956            КАРЫМСКАЯ               ЧИТА I  17/07 02:25  17/07 04:21            -1    ТЫНДА  200200057581\n",
      " 200021039956               ЧИТА I               КАДАЛА  17/07 05:41  17/07 05:55            -1    ТЫНДА  200200057581\n",
      " 200021039956               КАДАЛА               ЛЕСНАЯ  17/07 05:55  17/07 06:50            -1    ТЫНДА  200200057581\n",
      " 200021039956               ЛЕСНАЯ             ТУРГУТУЙ  17/07 06:50  17/07 07:32            -1    ТЫНДА  200200057581\n",
      " 200021039956             ТУРГУТУЙ               МОГЗОН  17/07 07:32  17/07 08:31            -1    ТЫНДА  200200057581\n",
      " 200021039956               МОГЗОН                ХИЛОК  17/07 08:31  17/07 11:01            -1    ТЫНДА  200200057581\n",
      " 200021039956                ХИЛОК             ЖИПХЕГЕН  17/07 12:09  17/07 12:41            -1    ТЫНДА  200200057581\n",
      " 200021039956             ЖИПХЕГЕН     ПЕТРОВСКИЙ ЗАВОД  17/07 12:41  17/07 15:10            -1    ТЫНДА  200200057581\n",
      " 200021039956     ПЕТРОВСКИЙ ЗАВОД                 КИЖА  17/07 15:10  17/07 15:39            -1    ТЫНДА  200200057581\n",
      " 200021039956                 КИЖА               ГОРХОН  17/07 15:39  17/07 15:56            -1    ТЫНДА  200200057581\n",
      " 200021039956               ГОРХОН              ЧЕЛУТАЙ  17/07 15:56  17/07 16:34            -1    ТЫНДА  200200057581\n",
      " 200021039956              ЧЕЛУТАЙ               ТАЛЬЦЫ  17/07 16:34  17/07 17:23            -1    ТЫНДА  200200057581\n",
      " 200021039956               ТАЛЬЦЫ           ЗАУДИНСКИЙ  17/07 17:23  17/07 17:33            -1    ТЫНДА  200200057581\n",
      " 200021039956           ЗАУДИНСКИЙ             УЛАН-УДЭ  17/07 17:33  17/07 17:43            -1    ТЫНДА  200200057581\n",
      " 200021039956             УЛАН-УДЭ              МЫСОВАЯ  17/07 18:29  17/07 20:58            -1    ТЫНДА  200200057581\n",
      " 200021039956              МЫСОВАЯ            БАЙКАЛЬСК  17/07 20:58  17/07 23:05            -1    ТЫНДА  200200057581\n",
      " 200021039956            БАЙКАЛЬСК           СЛЮДЯНКА I  17/07 23:05  17/07 23:50            -1    ТЫНДА  200200057581\n",
      " 200021039956           СЛЮДЯНКА I          СЛЮДЯНКА II  17/07 23:50  17/07 23:57            -1    ТЫНДА  200200057581\n",
      " 200021039956          СЛЮДЯНКА II            АНГАСОЛКА  17/07 23:57  18/07 00:23            -1    ТЫНДА  200200057581\n",
      " 200021039956            АНГАСОЛКА        АНДРИАНОВСКАЯ  18/07 00:23  18/07 00:37            -1    ТЫНДА  200200057581\n",
      " 200021039956        АНДРИАНОВСКАЯ          БОЛЬШОЙ ЛУГ  18/07 00:37  18/07 01:47            -1    ТЫНДА  200200057581\n",
      " 200021039956          БОЛЬШОЙ ЛУГ            ГОНЧАРОВО  18/07 01:47  18/07 02:07            -1    ТЫНДА  200200057581\n",
      " 200021039956            ГОНЧАРОВО  ИРКУТСК-СОРТИРОВ...  18/07 02:07  18/07 02:33            -1    ТЫНДА  200200057581\n",
      " 200021039956  ИРКУТСК-СОРТИРОВ...           БАТАРЕЙНАЯ  18/07 04:27  18/07 04:29            -1    ТЫНДА  200200057581\n",
      " 200021039956           БАТАРЕЙНАЯ                МЕГЕТ  18/07 04:29  18/07 04:37            -1    ТЫНДА  200200057581\n",
      " 200021039956                МЕГЕТ            СУХОВСКАЯ  18/07 04:37  18/07 04:50            -1    ТЫНДА  200200057581\n",
      " 200021039956            СУХОВСКАЯ              АНГАРСК  18/07 04:50  18/07 04:55            -1    ТЫНДА  200200057581\n",
      " 200021039956              АНГАРСК                КИТОЙ  18/07 04:55  18/07 05:03            -1    ТЫНДА  200200057581\n",
      " 200021039956                КИТОЙ               МАЛЬТА  18/07 05:03  18/07 05:43            -1    ТЫНДА  200200057581\n",
      " 200021039956               МАЛЬТА           КАСЬЯНОВКА  18/07 05:43  18/07 06:33            -1    ТЫНДА  200200057581\n",
      " 200021039956           КАСЬЯНОВКА            ЧЕРЕМХОВО  18/07 06:33  18/07 06:48            -1    ТЫНДА  200200057581\n",
      " 200021039956            ЧЕРЕМХОВО               ЗАЛАРИ  18/07 06:48  18/07 08:01            -1    ТЫНДА  200200057581\n",
      " 200021039956               ЗАЛАРИ                 ЗИМА  18/07 08:01  18/07 08:58            -1    ТЫНДА  200200057581\n",
      " 200021039956                 ЗИМА              ПЕРЕВОЗ  18/07 08:58  18/07 09:19            -1    ТЫНДА  200200057581\n",
      " 200021039956              ПЕРЕВОЗ               КУЙТУН  18/07 09:19  18/07 10:10            -1    ТЫНДА  200200057581\n",
      " 200021039956               КУЙТУН                 АЗЕЙ  18/07 10:10  18/07 11:12            -1    ТЫНДА  200200057581\n",
      " 200021039956                 АЗЕЙ                ТУЛУН  18/07 11:12  18/07 11:40            -1    ТЫНДА  200200057581\n",
      " 200021039956                ТУЛУН               УДА II  18/07 11:40  18/07 13:30            -1    ТЫНДА  200200057581\n",
      " 200021039956               УДА II          НИЖНЕУДИНСК  18/07 13:30  18/07 13:39            -1    ТЫНДА  200200057581\n",
      " 200021039956          НИЖНЕУДИНСК              АЛЗАМАЙ  18/07 14:39  18/07 16:24            -1    ТЫНДА  200200057581\n",
      " 200021039956              АЛЗАМАЙ           БАЙРОНОВКА  18/07 16:24  18/07 17:14            -1    ТЫНДА  200200057581\n",
      " 200021039956           БАЙРОНОВКА               ТАЙШЕТ  18/07 17:14  18/07 17:28            -1    ТЫНДА  200200057581\n",
      " 200021039956               ТАЙШЕТ                 ЮРТЫ  18/07 17:28  18/07 17:55            -1    ТЫНДА  200200057581\n",
      " 200021039956                 ЮРТЫ                КЛЮЧИ  18/07 17:55  18/07 18:23            -1    ТЫНДА  200200057581\n",
      " 200021039956                КЛЮЧИ               РЕШОТЫ  18/07 18:23  18/07 18:39            -1    ТЫНДА  200200057581\n",
      " 200021039956               РЕШОТЫ             ИЛАНСКАЯ  18/07 18:39  18/07 19:59            -1    ТЫНДА  200200057581\n",
      " 200021039956             ИЛАНСКАЯ            ЗАОЗЕРНАЯ  18/07 21:38  18/07 23:38            -1    ТЫНДА  200200057581\n",
      " 200021039956            ЗАОЗЕРНАЯ                  УЯР  18/07 23:38  19/07 00:23            -1    ТЫНДА  200200057581\n",
      " 200021039956                  УЯР               ЗЫКОВО  19/07 00:23  19/07 02:10            -1    ТЫНДА  200200057581\n",
      " 200021039956               ЗЫКОВО  КРАСНОЯРСК-ВОСТО...  19/07 02:10  19/07 02:21            -1    ТЫНДА  200200057581\n",
      " 200021039956  КРАСНОЯРСК-ВОСТО...  КРАСНОЯРСК-СЕВЕРНЫЙ  19/07 02:21  19/07 02:37            -1    ТЫНДА  200200057581\n",
      " 200021039956  КРАСНОЯРСК-СЕВЕРНЫЙ                БУГАЧ  19/07 02:37  19/07 02:53            -1    ТЫНДА  200200057581\n",
      " 200021039956                БУГАЧ       ЧЕРНОРЕЧЕНСКАЯ  19/07 02:53  19/07 05:53            -1    ТЫНДА  200200057581\n",
      " 200021039956       ЧЕРНОРЕЧЕНСКАЯ             АЧИНСК I  19/07 05:53  19/07 06:35            -1    ТЫНДА  200200057581\n",
      " 200021039956             АЧИНСК I              ЗЕРЦАЛЫ  19/07 06:54  19/07 07:12            -1    ТЫНДА  200200057581\n",
      " 200021039956              ЗЕРЦАЛЫ              БОГОТОЛ  19/07 07:12  19/07 08:05            -1    ТЫНДА  200200057581\n",
      " 200021039956              БОГОТОЛ             МАРИИНСК  19/07 08:05  19/07 10:17            -1    ТЫНДА  200200057581\n"
     ]
    }
   ],
   "source": [
    "# bad change stations\n",
    "bad_changes = st_change[st_change.st_to_name.isin(priority_change_stations) == False].sort_values('train', ascending=False)\n",
    "if not bad_changes.empty:\n",
    "    add_header('Всего %d поездов, у которых смена локомотива, скорее всего, происходит на неправильных станциях' \n",
    "               % bad_changes.train.sum())\n",
    "    add_header('Примеры таких станций:')\n",
    "    add_line(bad_changes.head(10))\n",
    "    add_line('')\n",
    "    cols = ['train', 'st_from_name', 'st_to_name', 'loco', 'next_loco', 'stop_time_h']\n",
    "    st = bad_changes.iloc[0].st_to_name\n",
    "    add_line('Поезда, у которых смена локомотива происходит на станции %s:' % st)\n",
    "    add_line(loco_change[loco_change.st_to_name == st][cols])\n",
    "\n",
    "    train_plan['loco_info'] = train_plan.train.map(loco_info.drop_duplicates('train').set_index('train').loco)\n",
    "    cols = ['train', 'st_from_name', 'st_to_name', 'time_start_f', 'time_end_f', 'loco', 'loc_name', 'loco_info']\n",
    "    add_line('')\n",
    "    add_header('Полный план по одному из таких поездов:')\n",
    "    with pd.option_context('display.max_colwidth', 20):\n",
    "        add_line(train_plan[train_plan.train == loco_change[loco_change.st_to_name == st].iloc[0].train][cols])\n",
    "else:\n",
    "    add_header('Нет поездов, у которых смена локомотивов происходит на неправильной станции')"
   ]
  },
  {
   "cell_type": "markdown",
   "metadata": {},
   "source": [
    "#### Ищем поезда со слишком долгой стоянкой для смены локомотивов"
   ]
  },
  {
   "cell_type": "code",
   "execution_count": 113,
   "metadata": {
    "collapsed": false
   },
   "outputs": [
    {
     "name": "stdout",
     "output_type": "stream",
     "text": [
      "Всего 19 случаев смены локомотива со стоянкой поезда более суток. Примеры:\n",
      "           train   st_from_name   st_to_name          loco     next_loco  stop_time_h\n",
      "    200021897452  БОЛЬШОЙ НЕВЕР  СКОВОРОДИНО  200205690473  200200028703       103.06\n",
      "    200021718330     БАЙРОНОВКА       ТАЙШЕТ  200200031768  200200096809        62.56\n",
      "    200021983689        ХАРАНОР        БОРЗЯ  200200098210  200200103730        52.15\n",
      "    200021007968        ТАРСКАЯ    КАРЫМСКАЯ  200203317830  200200045126        49.58\n",
      "    200020451150        ТАРСКАЯ    КАРЫМСКАЯ  200205700491  200200097757        47.37\n",
      "    200021151056           ЮРТЫ       ТАЙШЕТ  200200073476  200200086034        45.32\n",
      "    220210174782         ЧИТА I    КАРЫМСКАЯ  200200086674  200200048679        45.00\n",
      "    200020225139         ЧИТА I    КАРЫМСКАЯ  200200069857  200216073315        41.92\n",
      " 999928821012001     ЗАУДИНСКИЙ     УЛАН-УДЭ  200200085619  200200042315        41.55\n",
      "    200205582341        ТАРСКАЯ    КАРЫМСКАЯ  200200087303  200200044827        38.91\n"
     ]
    }
   ],
   "source": [
    "cols = ['train', 'st_from_name', 'st_to_name', 'loco', 'next_loco', 'stop_time_h']\n",
    "long_change = loco_change[(loco_change.st_to_name.isin(priority_change_stations)) \n",
    "            & (loco_change.stop_time_h > 24)].sort_values('stop_time_h', ascending=False)\n",
    "add_header('Всего %d случаев смены локомотива со стоянкой поезда более суток. Примеры:' % long_change.train.count())\n",
    "add_line(long_change[cols].head(10))"
   ]
  },
  {
   "cell_type": "markdown",
   "metadata": {},
   "source": [
    "<a id='stop_team'></a>\n",
    "### Смена бригад [ToC](#toc)"
   ]
  },
  {
   "cell_type": "code",
   "execution_count": 114,
   "metadata": {
    "collapsed": true
   },
   "outputs": [],
   "source": [
    "add_header('Анализ смен бригад на маршрутах поездов', h=2, p=False)"
   ]
  },
  {
   "cell_type": "code",
   "execution_count": 115,
   "metadata": {
    "collapsed": true
   },
   "outputs": [],
   "source": [
    "team_change = train_plan[(train_plan.loco_end == False) & (train_plan.team_end == True)\n",
    "                        & (train_plan.time_end < current_time + hor)]"
   ]
  },
  {
   "cell_type": "code",
   "execution_count": 116,
   "metadata": {
    "collapsed": false
   },
   "outputs": [
    {
     "name": "stdout",
     "output_type": "stream",
     "text": [
      "Средние времена на смену бригады:\n",
      "- по всем сменам: 2.74 ч.\n",
      "- по всем сменам с ненулевым временем: 2.74 ч.\n"
     ]
    }
   ],
   "source": [
    "add_header('Средние времена на смену бригады:')\n",
    "add_line('- по всем сменам: %.2f ч.' % team_change.stop_time_h.mean())\n",
    "add_line('- по всем сменам с ненулевым временем: %.2f ч.' % team_change[team_change.stop_time_h > 0].stop_time_h.mean())"
   ]
  },
  {
   "cell_type": "markdown",
   "metadata": {},
   "source": [
    "#### Ищем поезда, у которых смена бригады происходит за нулевое время"
   ]
  },
  {
   "cell_type": "code",
   "execution_count": 117,
   "metadata": {
    "collapsed": false
   },
   "outputs": [
    {
     "name": "stdout",
     "output_type": "stream",
     "text": [
      "Нет поездов, для которых смена бригад происходит за нулевое время\n"
     ]
    }
   ],
   "source": [
    "cols = ['train', 'st_from_name', 'st_to_name', 'team', 'next_team', 'stop_time_h']\n",
    "nill_stop_times = team_change[team_change.stop_time == 0]\n",
    "if not nill_stop_times.empty:\n",
    "    add_header('Всего %d поездов, для которых смена бригад происходит за нулевое время. Примеры:' \n",
    "               % nill_stop_times.train.count())\n",
    "    add_line(nill_stop_times[cols].head())\n",
    "    cols = ['train', 'st_from_name', 'st_to_name', 'time_start_f', 'time_end_f', 'loco', 'team']\n",
    "    add_line('')\n",
    "    add_header('Полный план по одному из таких поездов:')\n",
    "    for train in nill_stop_times.train.values[:1]:\n",
    "        add_line(train_plan[train_plan.train == train][cols])\n",
    "else:\n",
    "    add_header('Нет поездов, для которых смена бригад происходит за нулевое время')"
   ]
  },
  {
   "cell_type": "markdown",
   "metadata": {},
   "source": [
    "#### Ищем поезда со слишком долгой стоянкой для смены бригады"
   ]
  },
  {
   "cell_type": "code",
   "execution_count": 118,
   "metadata": {
    "collapsed": false
   },
   "outputs": [
    {
     "name": "stdout",
     "output_type": "stream",
     "text": [
      "Всего 157 случаев смены бригад со стоянкой поезда более 6 часов. Примеры:\n",
      "          train st_from_name           st_to_name          team     next_team  stop_time_h\n",
      " 88880008374203  НОВЫЙ УРГАЛ            ФЕВРАЛЬСК  200200222745  777700000723        53.89\n",
      " 88880008374227  НОВЫЙ УРГАЛ            ФЕВРАЛЬСК  200200271453  777700000724        44.47\n",
      "   200020077987       ЧИТА I            КАРЫМСКАЯ  200200089253  777700000017        18.46\n",
      "   200020524382    ХРЕБТОВАЯ  КОРШУНИХА-АНГАРСКАЯ  200200145653  200200196982        16.75\n",
      "   200021683788   БАЙРОНОВКА               ТАЙШЕТ  200200256325  200200203456        15.03\n",
      "   220210160466       КАДАЛА               ЧИТА I  200200185515  200200205922        14.49\n",
      "   200021536240    ХРЕБТОВАЯ  КОРШУНИХА-АНГАРСКАЯ  200200035773  200200158281        13.75\n",
      "   200218485585    ХРЕБТОВАЯ  КОРШУНИХА-АНГАРСКАЯ  200200254481  200200102632        13.67\n",
      "   200020413239    ХРЕБТОВАЯ  КОРШУНИХА-АНГАРСКАЯ  200200260412  200200221464        13.00\n",
      "   220210319713       КАДАЛА               ЧИТА I  200200259336  200200219561        12.56\n",
      "\n",
      "Полный план по одному из таких поездов:\n",
      "          train st_from_name   st_to_name time_start_f   time_end_f          loco          team\n",
      " 88880008374203  НОВЫЙ УРГАЛ    ФЕВРАЛЬСК  16/07 04:05  16/07 12:36  200200028703  200200222745\n",
      " 88880008374203    ФЕВРАЛЬСК  ВЕРХНЕЗЕЙСК  18/07 18:29  19/07 03:44  200200028703  777700000723\n",
      " 88880008374203  ВЕРХНЕЗЕЙСК       ДИПКУН  19/07 07:33  19/07 12:52  200200028703            -1\n",
      " 88880008374203       ДИПКУН    БЕСТУЖЕВО  19/07 12:52  19/07 16:26  200200028703            -1\n",
      " 88880008374203    БЕСТУЖЕВО      ШАХТАУМ  19/07 16:26  19/07 16:44  200200028703            -1\n",
      " 88880008374203      ШАХТАУМ        ТЫНДА  19/07 16:44  19/07 17:05  200200028703            -1\n",
      "\n",
      "Станции, на которых чаще всего происходили длительные стоянки на смену бригад:\n",
      "МОГОЧА                      27\n",
      "ЧИТА I                      23\n",
      "ХИЛОК                       20\n",
      "ЧЕРНЫШЕВСК-ЗАБАЙКАЛЬСКИЙ    18\n",
      "НИЖНЕУДИНСК                 10\n",
      "УРУША                        9\n",
      "МАГДАГАЧИ                    8\n",
      "УЛАН-УДЭ                     7\n",
      "КОРШУНИХА-АНГАРСКАЯ          6\n",
      "ФЕВРАЛЬСК                    4\n"
     ]
    }
   ],
   "source": [
    "cols = ['train', 'st_from_name', 'st_to_name', 'team', 'next_team', 'stop_time_h']\n",
    "long_change = team_change[team_change.stop_time_h > 6].sort_values('stop_time', ascending=False)[cols]\n",
    "if not long_change.empty:\n",
    "    add_header('Всего %d случаев смены бригад со стоянкой поезда более 6 часов. Примеры:' % long_change.train.count())\n",
    "    add_line(long_change[cols].head(10))\n",
    "    add_line('')\n",
    "    cols = ['train', 'st_from_name', 'st_to_name', 'time_start_f', 'time_end_f', 'loco', 'team']\n",
    "    add_header('Полный план по одному из таких поездов:')\n",
    "    for train in long_change.train.values[:1]:\n",
    "        add_line(train_plan[train_plan.train == train][cols])\n",
    "    add_line('')\n",
    "    add_header('Станции, на которых чаще всего происходили длительные стоянки на смену бригад:')\n",
    "    add_line(long_change.st_to_name.value_counts().head(10))\n",
    "else:\n",
    "    add_header('Нет поездов, у которых смена бригады происходит более 6 часов')"
   ]
  },
  {
   "cell_type": "markdown",
   "metadata": {},
   "source": [
    "<a id='dep_interval'></a>\n",
    "## Поиск поездов с интервалом между отправлениями меньше допустимого [ToC](#toc)"
   ]
  },
  {
   "cell_type": "code",
   "execution_count": 119,
   "metadata": {
    "collapsed": true
   },
   "outputs": [],
   "source": [
    "add_header('Поиск поездов с интервалом между отправлениями меньше допустимого', h=2, p=False)"
   ]
  },
  {
   "cell_type": "code",
   "execution_count": 120,
   "metadata": {
    "collapsed": true
   },
   "outputs": [],
   "source": [
    "# Параметры\n",
    "\n",
    "hor = 24 * 3600\n",
    "min_time_delta = 5 * 60 # 5 minutes"
   ]
  },
  {
   "cell_type": "code",
   "execution_count": 121,
   "metadata": {
    "collapsed": true
   },
   "outputs": [],
   "source": [
    "# Функция, которая возвращает датафрейм с коллизиями\n",
    "\n",
    "def check_time_collision(df):\n",
    "    df['link_end'] = (df.st_from != df.st_from.shift(-1)) | (df.st_to != df.st_to.shift(-1))\n",
    "    df['link_start'] = (df.st_from != df.st_from.shift(1)) | (df.st_to != df.st_to.shift(1))\n",
    "    df.loc[df.link_end == False, 'time_to_next'] = df.time_start.shift(-1) - df.time_start\n",
    "    df.loc[df.link_start == False, 'time_to_prev'] = df.time_start - df.time_start.shift(1)\n",
    "    collisions = df.loc[(df.time_to_next < min_time_delta) | (df.time_to_prev < min_time_delta)]\n",
    "    return collisions"
   ]
  },
  {
   "cell_type": "code",
   "execution_count": 122,
   "metadata": {
    "collapsed": false
   },
   "outputs": [
    {
     "name": "stdout",
     "output_type": "stream",
     "text": [
      "Время начала планирования: 15/07 14:41\n",
      "Количество коллизий (интервал между поездами меньше 5 минут):\n",
      "                            Тип Из всех поездов Из всех с подвязкой\n",
      "                     Все поезда             270                 199\n",
      "            Без учета резервных              25                   4\n",
      " Без учета резервных и фейковых              15                   4\n",
      "\n",
      "Реальные и фейковые поезда с интервалами меньше 5 минут (первые 20):\n",
      "           train          loco          team         st_from_name       st_to_name time_start_f   time_end_f\n",
      " 999928793012000            -1            -1              БАЗАИХА           ЗЫКОВО  15/07 17:41  15/07 18:06\n",
      " 999928793012002            -1            -1              БАЗАИХА           ЗЫКОВО  15/07 17:45  15/07 18:10\n",
      "    220210288829  200200080646  200200134451                БУРЕЯ           АРХАРА  15/07 14:42  15/07 15:46\n",
      "    210219367415  200200045935  220203251632                БУРЕЯ           АРХАРА  15/07 14:44  15/07 15:47\n",
      "    220200171747  200200055493  200200200631         ВЫСОКОГОРНАЯ  БЛОКПОСТ 197 КМ  15/07 16:07  15/07 16:41\n",
      "    200021481884            -1            -1         ВЫСОКОГОРНАЯ  БЛОКПОСТ 197 КМ  15/07 16:11  15/07 16:45\n",
      "    200021884531            -1            -1         ВЫСОКОГОРНАЯ  БЛОКПОСТ 197 КМ  15/07 16:15  15/07 16:49\n",
      " 999912506032001            -1            -1         ВЫСОКОГОРНАЯ  БЛОКПОСТ 197 КМ  15/07 18:11  15/07 18:45\n",
      " 999912506032003            -1            -1         ВЫСОКОГОРНАЯ  БЛОКПОСТ 197 КМ  15/07 18:15  15/07 18:49\n",
      "    200200703320            -1            -1    ГРОДЕКОВО (КИТАЙ)   РАССЫПНАЯ ПАДЬ  15/07 15:41  15/07 16:21\n",
      "    200200703841            -1            -1    ГРОДЕКОВО (КИТАЙ)   РАССЫПНАЯ ПАДЬ  15/07 15:45  15/07 16:25\n",
      "    200021459051            -1            -1  КОРШУНИХА-АНГАРСКАЯ        ХРЕБТОВАЯ  15/07 16:27  15/07 16:56\n",
      "    210218905996            -1            -1  КОРШУНИХА-АНГАРСКАЯ        ХРЕБТОВАЯ  15/07 16:30  15/07 16:59\n",
      " 999912456022000            -1            -1  КОРШУНИХА-АНГАРСКАЯ        ХРЕБТОВАЯ  15/07 18:27  15/07 18:56\n",
      "    200021737863  200200086792  200200169495  КОРШУНИХА-АНГАРСКАЯ        ХРЕБТОВАЯ  15/07 18:32  15/07 19:01\n",
      "    200022001325  200200099573  200200277761  КОРШУНИХА-АНГАРСКАЯ        ХРЕБТОВАЯ  16/07 04:41  16/07 05:10\n",
      " 999912456012004            -1            -1  КОРШУНИХА-АНГАРСКАЯ        ХРЕБТОВАЯ  16/07 04:46  16/07 05:15\n",
      "    200022032096            -1            -1    НАХОДКА-ВОСТОЧНАЯ       ХМЫЛОВСКИЙ  15/07 15:21  15/07 15:26\n",
      "    200022048536            -1            -1    НАХОДКА-ВОСТОЧНАЯ       ХМЫЛОВСКИЙ  15/07 15:25  15/07 15:30\n",
      " 999928877022001            -1            -1    НАХОДКА-ВОСТОЧНАЯ       ХМЫЛОВСКИЙ  15/07 17:21  15/07 17:26\n"
     ]
    }
   ],
   "source": [
    "add_line('Время начала планирования: %s' % nice_time(current_time))\n",
    "cols = ['train', 'loco', 'team', 'st_from_name', 'st_to_name', 'time_start_f', 'time_end_f']\n",
    "train_plan['train_start'] = train_plan.train != train_plan.train.shift(1)\n",
    "train_plan.loc[train_plan.stop_time != -1, 'loco_start'] = (train_plan.loco != train_plan.loco.shift(1)) | \\\n",
    "                                                            (train_plan.train_start)\n",
    "train_plan.loc[train_plan.stop_time != -1, 'team_start'] = train_plan.team != train_plan.team.shift(1)\n",
    "mask = ((train_plan.loco_start == True) | (train_plan.team_start == True)) &\\\n",
    "        (train_plan.time_start < current_time + hor) & (train_plan.time_start >= current_time)\n",
    "assign_mask = (train_plan.loco != '-1') & (train_plan.team != '-1')\n",
    "cols_to_sort = ['st_from_name', 'st_to_name', 'time_start']\n",
    "start_times = train_plan.loc[mask].sort_values(cols_to_sort)\n",
    "start_times_no_res = train_plan.loc[mask & (train_plan.train_type.isin(['2', '9']))].sort_values(cols_to_sort)\n",
    "start_times_real = train_plan.loc[mask & (train_plan.train_type == '2')].sort_values(cols_to_sort)\n",
    "start_times_assign = train_plan.loc[mask & assign_mask].sort_values(cols_to_sort)\n",
    "start_times_assign_no_res = train_plan.loc[mask & assign_mask &\n",
    "                                           (train_plan.train_type.isin(['2', '9']))].sort_values(cols_to_sort)\n",
    "start_times_assign_real = train_plan.loc[mask & assign_mask & (train_plan.train_type == '2')].sort_values(cols_to_sort)\n",
    "\n",
    "all_coll = check_time_collision(start_times)\n",
    "no_res_coll = check_time_collision(start_times_no_res)\n",
    "real_coll = check_time_collision(start_times_real)\n",
    "all_assign_coll = check_time_collision(start_times_assign)\n",
    "no_res_assign_coll = check_time_collision(start_times_assign_no_res)\n",
    "real_assign_coll = check_time_collision(start_times_assign_real)\n",
    "train_n = len(start_times.train.drop_duplicates().index)\n",
    "res = pd.DataFrame([['Все поезда', 'Без учета резервных', 'Без учета резервных и фейковых'],                    \n",
    "                    [len(all_coll.index), len(no_res_coll.index), len(real_coll.index)],                    \n",
    "                    [len(all_assign_coll.index), len(no_res_assign_coll.index), len(real_assign_coll.index)]]).T\n",
    "res.columns = ['Тип', 'Из всех поездов', 'Из всех с подвязкой']\n",
    "add_header('Количество коллизий (интервал между поездами меньше %d минут):' % (min_time_delta / 60))\n",
    "add_line(res)\n",
    "add_header('\\nРеальные и фейковые поезда с интервалами меньше %d минут (первые 20):' % (min_time_delta / 60))\n",
    "add_line(no_res_coll[cols].head(20))"
   ]
  },
  {
   "cell_type": "markdown",
   "metadata": {},
   "source": [
    "<a id='ssp'></a>\n",
    "## Сравнение количества запланированных поездов с данными АС ССП [ToC](#toc)"
   ]
  },
  {
   "cell_type": "code",
   "execution_count": 123,
   "metadata": {
    "collapsed": true
   },
   "outputs": [],
   "source": [
    "add_header('Сравнение количества запланированных поездов с данными АС ССП', h=2, p=False)"
   ]
  },
  {
   "cell_type": "code",
   "execution_count": 124,
   "metadata": {
    "collapsed": true
   },
   "outputs": [],
   "source": [
    "def count_volumes(full_plan, df_ssp):\n",
    "    hor = 24 * 3600\n",
    "    df_ssp.dep_dir.fillna(0, inplace=True)    \n",
    "    df_ssp.loc[df_ssp.dep_dir == 0, 'depart'] = 0\n",
    "    df_ssp.dropna(subset=['depart'], inplace=True)\n",
    "    \n",
    "    ssp_st_froms = df_ssp.loc[df_ssp.dep_dir == 0].station\n",
    "    mask_time = (full_plan.time_start >= current_time) & (full_plan.time_start < current_time + hor)\n",
    "    mask_type = full_plan.train_type.isin(['2', '9'])\n",
    "    trains = full_plan.loc[mask_time & mask_type & full_plan.st_from_name.isin(ssp_st_froms)].\\\n",
    "                        groupby(['st_from_name', 'st_to_name']).train.count()\n",
    "    df_ssp.loc[df_ssp.dep_dir == 0, 'st_from_name'] = df_ssp.station\n",
    "    df_ssp = df_ssp.fillna(method='ffill')\n",
    "    df_ssp['st_to_name'] = df_ssp.station\n",
    "    replace_st_from_names = df_ssp.loc[df_ssp.dep_dir == 0, ['st_from_name', 'st_show_name']].drop_duplicates()\n",
    "    df_ssp['st_from_show'] = df_ssp.st_from_name.map(replace_st_from_names.set_index('st_from_name').st_show_name)\n",
    "    df_ssp['st_to_show'] = df_ssp.st_show_name    \n",
    "    return trains.to_frame().join(df_ssp[['st_from_name', 'st_to_name', 'depart', 'st_from_show', 'st_to_show', 'dep_dir']].\\\n",
    "                                  set_index(['st_from_name', 'st_to_name'])).reset_index()"
   ]
  },
  {
   "cell_type": "code",
   "execution_count": 125,
   "metadata": {
    "collapsed": true
   },
   "outputs": [],
   "source": [
    "def show_barplot(df, road_name):\n",
    "    df['delta'] = df.train - df.depart\n",
    "    df['percent'] = np.round(100 * df.delta / df.depart, 2)\n",
    "    df['st_from_short'] = df.st_from_show.apply(lambda x: str(x)[:25])\n",
    "    df['st_to_short'] = df.st_to_show.apply(lambda x: str(x)[:25])\n",
    "    df['link'] = df.st_from_short + ' - ' + df.st_to_short \n",
    "    \n",
    "    print('%s железная дорога:' % road_name)\n",
    "    print('Среднее и медиана абсолютного отклонения: %.2f, %.2f' % (df.delta.mean(), df.delta.median()))\n",
    "    print('Среднее и медиана относительного отклонения (в процентах): %.2f%%, %.2f%%' % (df.percent.mean(), df.percent.median()))\n",
    "\n",
    "    b = df.sort_values('delta', ascending=False)\n",
    "    sns.set_style('whitegrid')\n",
    "    sns.set_context('poster', font_scale=0.7, rc={'axes.labelsize': 18})\n",
    "    c = sns.barplot(y='link', x='delta', data=df.sort_values('delta', ascending=False), palette='coolwarm')\n",
    "    xlabel = '%s ж/д: отклонение от данных АС ССП по отправлению поездов на сутки' % road_name\n",
    "    c.set(xlabel=xlabel, ylabel='')"
   ]
  },
  {
   "cell_type": "code",
   "execution_count": 126,
   "metadata": {
    "collapsed": false
   },
   "outputs": [],
   "source": [
    "VOL_PERCENT = 0.9\n",
    "\n",
    "def show_two_barplots(df, road_name, save=False, btype='less'):\n",
    "    df['st_from_short'] = df.st_from_show.apply(lambda x: str(x)[:25])\n",
    "    df['st_to_short'] = df.st_to_show.apply(lambda x: str(x)[:25])\n",
    "    df['link'] = df.st_from_short + ' - ' + df.st_to_short     \n",
    "    sns.set_style('whitegrid')    \n",
    "    sns.set_context('poster', font_scale=0.7, rc={'axes.titlesize':18, 'axes.labelsize':14})\n",
    "    fig, ax = plt.subplots(nrows=2, ncols=1, figsize=(14,20))    \n",
    "    df.depart.fillna(0, inplace=True)    \n",
    "    df['bottom'] = df.apply(lambda row: row.depart if row.train <= row.depart else row.train, axis=1)\n",
    "    df['top'] = df.apply(lambda row: row.train if row.train <= row.depart else row.depart, axis=1)     \n",
    "    \n",
    "    sns.set_color_codes('pastel')\n",
    "    sns.barplot(x='bottom', y='link', data=df[df.train <= VOL_PERCENT * df.depart].sort_values('bottom'), \n",
    "                label='Поезда из АС ССП', color=\"b\", orient='h', ax=ax[0])\n",
    "    sns.barplot(x='bottom', y='link', data=df[df.train * VOL_PERCENT > df.depart].sort_values('bottom'), \n",
    "                label='Поезда в результатах', color=\"r\", orient='h', ax=ax[1])\n",
    "    sns.set_color_codes('muted')\n",
    "    sns.barplot(x='top', y='link', data=df[df.train <= VOL_PERCENT * df.depart].sort_values('bottom'), \n",
    "                label='Поезда в результатах', color=\"b\", orient='h', ax=ax[0])\n",
    "    sns.barplot(x='top', y='link', data=df[df.train * VOL_PERCENT > df.depart].sort_values('bottom'), \n",
    "                label='Поезда из АС ССП', color=\"r\", orient='h', ax=ax[1])    \n",
    "    ax[0].legend(ncol=1, loc=\"upper right\", frameon=True)    \n",
    "    ax[1].legend(ncol=1, loc=\"upper right\", frameon=True)\n",
    "    ax[0].set(xlabel='', title='Нехватка запланированных поездов')\n",
    "    ax[1].set(xlabel='', title='Избыток запланированных поездов')\n",
    "    \n",
    "    sns.despine()\n",
    "    if save:\n",
    "        filename = road_name + '.png'\n",
    "        fig.savefig(REPORT_FOLDER + filename, bbox_inches='tight')\n",
    "        add_image(filename, scale=1.0)"
   ]
  },
  {
   "cell_type": "code",
   "execution_count": 127,
   "metadata": {
    "collapsed": false
   },
   "outputs": [],
   "source": [
    "def func(x):\n",
    "    return np.round(np.sqrt(np.mean(x ** 2)), 2)\n",
    "\n",
    "def print_ssp_stats(ssp, road_name):\n",
    "    df = count_volumes(train_plan, ssp)\n",
    "    df.rename(columns={'train':'planned', 'depart':'ssp'}, inplace=True)\n",
    "    df.dropna(subset=['ssp'], inplace=True)\n",
    "    df['delta'] = df.planned - df.ssp    \n",
    "    cols = ['st_from_name', 'st_to_show', 'dep_dir', 'planned', 'ssp', 'delta']    \n",
    "    add_header('Дорога %s' % road_name, h=3)\n",
    "    add_header('Сравнение запланированного и \"нормативного\" количества поездов:')\n",
    "    add_line(df.sort_values(['dep_dir', 'delta'])[cols])    \n",
    "    add_header('\\nСреднее отклонение по количеству поездов по направлениям:')\n",
    "    add_line(df.groupby('dep_dir').delta.mean().apply(lambda x: np.round(x, 2)))\n",
    "    add_header('\\nСреднеквадратичное отклонение по направлениям:')\n",
    "    add_line(df.groupby('dep_dir').delta.agg(func))"
   ]
  },
  {
   "cell_type": "code",
   "execution_count": 128,
   "metadata": {
    "collapsed": false
   },
   "outputs": [],
   "source": [
    "krs = pd.read_csv(FOLDER + 'mandatory/SSP_KRS.csv', sep=';')\n",
    "vsib = pd.read_csv(FOLDER + 'mandatory/SSP_VSIB.csv', sep=';')\n",
    "zab = pd.read_csv(FOLDER + 'mandatory/SSP_ZAB.csv', sep=';')\n",
    "dvs = pd.read_csv(FOLDER + 'mandatory/SSP_DVS.csv', sep=';')"
   ]
  },
  {
   "cell_type": "code",
   "execution_count": 129,
   "metadata": {
    "collapsed": false
   },
   "outputs": [
    {
     "name": "stdout",
     "output_type": "stream",
     "text": [
      "Дорога КРАС\n",
      "Сравнение запланированного и \"нормативного\" количества поездов:\n",
      "         st_from_name           st_to_show dep_dir  planned  ssp  delta\n",
      "             САЯНСКАЯ          КОШУРНИКОВО     неч       14   24    -10\n",
      " КРАСНОЯРСК-ВОСТОЧНЫЙ              БАЗАИХА     неч        2    8     -6\n",
      "             АЧИНСК I              БОГОТОЛ     неч       50   54     -4\n",
      "               АБАКАН               ТАШЕБА     неч       23   26     -3\n",
      "              БОГОТОЛ             МАРИИНСК     неч       54   54      0\n",
      "             АЧИНСК I            АЧИНСК II     неч       11    4      7\n",
      "             ИЛАНСКАЯ                  УЯР     неч       72   52     20\n",
      " КРАСНОЯРСК-ВОСТОЧНЫЙ  КРАСНОЯРСК-СЕВЕРНЫЙ     неч       77   54     23\n",
      "             МАРИИНСК              БОГОТОЛ     чет       55   62     -7\n",
      "             ИЛАНСКАЯ                 ЮРТЫ     чет       65   66     -1\n",
      "              БОГОТОЛ             АЧИНСК I     чет       63   62      1\n",
      "               АБАКАН            МИНУСИНСК     чет       28   26      2\n",
      "             САЯНСКАЯ                  УЯР     чет       10    8      2\n",
      "             САЯНСКАЯ               ТАЙШЕТ     чет       25   22      3\n",
      "             АЧИНСК I          ЛЕСОСИБИРСК     чет        8    4      4\n",
      " КРАСНОЯРСК-ВОСТОЧНЫЙ                  УЯР     чет       70   66      4\n",
      "             АЧИНСК I       ЧЕРНОРЕЧЕНСКАЯ     чет       69   62      7\n",
      "\n",
      "Среднее отклонение по количеству поездов по направлениям:\n",
      "dep_dir\n",
      "неч    3.38\n",
      "чет    1.67\n",
      "\n",
      "Среднеквадратичное отклонение по направлениям:\n",
      "dep_dir\n",
      "неч    11.93\n",
      "чет     4.07\n"
     ]
    }
   ],
   "source": [
    "print_ssp_stats(krs, 'КРАС')"
   ]
  },
  {
   "cell_type": "code",
   "execution_count": 130,
   "metadata": {
    "collapsed": false
   },
   "outputs": [
    {
     "name": "stdout",
     "output_type": "stream",
     "text": [
      "Дорога ВСИБ\n",
      "Сравнение запланированного и \"нормативного\" количества поездов:\n",
      "          st_from_name            st_to_show dep_dir  planned  ssp  delta\n",
      " ИРКУТСК-СОРТИРОВОЧНЫЙ                  ЗИМА     неч       61   70     -9\n",
      "           НИЖНЕУДИНСК                ТАЙШЕТ     неч       60   68     -8\n",
      "                ТАЙШЕТ              САЯНСКАЯ     неч       16   22     -6\n",
      "            НОВЫЙ УОЯН       СЕВЕРОБАЙКАЛЬСК     неч        7   10     -3\n",
      "                НАУШКИ              УЛАН-УДЭ     неч        1    3     -2\n",
      "            НОВАЯ ЧАРА               ТАКСИМО     неч        6    8     -2\n",
      "            СЛЮДЯНКА I  ИРКУТСК-СОРТИРОВОЧНЫ     неч       64   66     -2\n",
      "               ТАКСИМО            НОВЫЙ УОЯН     неч        8   10     -2\n",
      "             ВИХОРЕВКА                  ЧУНА     неч       17   18     -1\n",
      "       СЕВЕРОБАЙКАЛЬСК               КИРЕНГА     неч        9   10     -1\n",
      "                  ЛЕНА               КИРЕНГА     неч       10   10      0\n",
      "                  ЗИМА           НИЖНЕУДИНСК     неч       73   70      3\n",
      "            ЗАУДИНСКИЙ               МЫСОВАЯ     неч       67   62      5\n",
      "             ХРЕБТОВАЯ        ГИДРОСТРОИТЕЛЬ     неч       25   16      9\n",
      "                ТАЙШЕТ                  ЮРТЫ     неч       74   54     20\n",
      "            СЛЮДЯНКА I               МЫСОВАЯ     чет       67   86    -19\n",
      " ИРКУТСК-СОРТИРОВОЧНЫЙ            СЛЮДЯНКА I     чет       72   86    -14\n",
      "            ЗАУДИНСКИЙ      ПЕТРОВСКИЙ ЗАВОД     чет       71   84    -13\n",
      "                  ЗИМА  ИРКУТСК-СОРТИРОВОЧНЫ     чет       69   78     -9\n",
      "           НИЖНЕУДИНСК                  ЗИМА     чет       65   74     -9\n",
      "            НОВЫЙ УОЯН               ТАКСИМО     чет        9   14     -5\n",
      "       СЕВЕРОБАЙКАЛЬСК            НОВЫЙ УОЯН     чет        9   14     -5\n",
      "                ТАЙШЕТ           НИЖНЕУДИНСК     чет       69   74     -5\n",
      "                  ЛЕНА             КОРШУНИХА     чет       16   18     -2\n",
      "            НОВАЯ ЧАРА                  ХАНИ     чет       10   11     -1\n",
      "               ТАКСИМО            НОВАЯ ЧАРА     чет       13   14     -1\n",
      "            ЗАУДИНСКИЙ                НАУШКИ     чет        3    3      0\n",
      "             ХРЕБТОВАЯ                ИГИРМА     чет        8    8      0\n",
      "             ВИХОРЕВКА        ГИДРОСТРОИТЕЛЬ     чет       26   22      4\n",
      "                ТАЙШЕТ            НЕВЕЛЬСКАЯ     чет       28   24      4\n",
      "\n",
      "Среднее отклонение по количеству поездов по направлениям:\n",
      "dep_dir\n",
      "неч    0.07\n",
      "чет   -5.00\n",
      "\n",
      "Среднеквадратичное отклонение по направлениям:\n",
      "dep_dir\n",
      "неч    6.94\n",
      "чет    8.17\n"
     ]
    }
   ],
   "source": [
    "print_ssp_stats(vsib, 'ВСИБ')"
   ]
  },
  {
   "cell_type": "code",
   "execution_count": 131,
   "metadata": {
    "collapsed": false
   },
   "outputs": [
    {
     "name": "stdout",
     "output_type": "stream",
     "text": [
      "Дорога ЗАБ\n",
      "Сравнение запланированного и \"нормативного\" количества поездов:\n",
      "             st_from_name            st_to_show dep_dir  planned  ssp  delta\n",
      "                   АРХАРА             БЕЛОГОРСК     неч       61   80    -19\n",
      "                БЕЛОГОРСК           ШИМАНОВСКАЯ     неч       66   83    -17\n",
      "              ШИМАНОВСКАЯ             МАГДАГАЧИ     неч       70   85    -15\n",
      "                МАГДАГАЧИ           СКОВОРОДИНО     неч       70   84    -14\n",
      "                  ГОРЕЛЫЙ                 УРУША     неч       68   80    -12\n",
      " ЧЕРНЫШЕВСК-ЗАБАЙКАЛЬСКИЙ        ШИЛКА-ТОВАРНАЯ     неч       61   70     -9\n",
      "                   МОГОЧА  ЧЕРНЫШЕВСК-ЗАБАЙКАЛЬ     неч       63   70     -7\n",
      "           ШИЛКА-ТОВАРНАЯ             КАРЫМСКАЯ     неч       63   68     -5\n",
      "                ОЛОВЯННАЯ             КАРЫМСКАЯ     неч       10   14     -4\n",
      "                    УРУША                МОГОЧА     неч       67   70     -3\n",
      "                    БОРЗЯ             ОЛОВЯННАЯ     неч       11   13     -2\n",
      "                    ХИЛОК      ПЕТРОВСКИЙ ЗАВОД     неч       69   70     -1\n",
      "                  ТАРСКАЯ                ЧИТА I     неч       76   75      1\n",
      "              ЗАБАЙКАЛЬСК                 БОРЗЯ     неч       14   12      2\n",
      "                   ЧИТА I                 ХИЛОК     неч       78   74      4\n",
      "         ПЕТРОВСКИЙ ЗАВОД              УЛАН-УДЭ     неч       66   60      6\n",
      "                МАГДАГАЧИ           ШИМАНОВСКАЯ     чет       62   93    -31\n",
      "              ШИМАНОВСКАЯ             БЕЛОГОРСК     чет       63   92    -29\n",
      "                  ГОРЕЛЫЙ             МАГДАГАЧИ     чет       78   95    -17\n",
      "                    УРУША           СКОВОРОДИНО     чет       76   93    -17\n",
      "                БЕЛОГОРСК                АРХАРА     чет       69   85    -16\n",
      " ЧЕРНЫШЕВСК-ЗАБАЙКАЛЬСКИЙ                МОГОЧА     чет       64   76    -12\n",
      "                   АРХАРА               ОБЛУЧЬЕ     чет       74   85    -11\n",
      "                   МОГОЧА                 УРУША     чет       72   80     -8\n",
      "         ПЕТРОВСКИЙ ЗАВОД                 ХИЛОК     чет       79   85     -6\n",
      "                  ТАРСКАЯ        ШИЛКА-ТОВАРНАЯ     чет       68   73     -5\n",
      "                    ХИЛОК                ЧИТА I     чет       81   85     -4\n",
      "                ОЛОВЯННАЯ                 БОРЗЯ     чет       12   12      0\n",
      "                    БОРЗЯ           ЗАБАЙКАЛЬСК     чет       11   10      1\n",
      "                  ТАРСКАЯ             ОЛОВЯННАЯ     чет       13   12      1\n",
      "           ШИЛКА-ТОВАРНАЯ  ЧЕРНЫШЕВСК-ЗАБАЙКАЛЬ     чет       80   73      7\n",
      "                   ЧИТА I             КАРЫМСКАЯ     чет       97   85     12\n",
      "\n",
      "Среднее отклонение по количеству поездов по направлениям:\n",
      "dep_dir\n",
      "неч   -5.94\n",
      "чет   -8.44\n",
      "\n",
      "Среднеквадратичное отклонение по направлениям:\n",
      "dep_dir\n",
      "неч     9.54\n",
      "чет    14.22\n"
     ]
    }
   ],
   "source": [
    "print_ssp_stats(zab, 'ЗАБ')"
   ]
  },
  {
   "cell_type": "code",
   "execution_count": 132,
   "metadata": {
    "collapsed": false
   },
   "outputs": [
    {
     "name": "stdout",
     "output_type": "stream",
     "text": [
      "Дорога ДВС\n",
      "Сравнение запланированного и \"нормативного\" количества поездов:\n",
      "                       st_from_name            st_to_show dep_dir  planned  ssp  delta\n",
      "                             АРХАРА             БЕЛОГОРСК     неч       61   70     -9\n",
      "                             ВАНИНО          ВЫСОКОГОРНАЯ     неч       15   22     -7\n",
      "                          ГРОДЕКОВО        ГРОДЕКОВО(КИТ)     неч        7   13     -6\n",
      " КОМСОМОЛЬСК-НА-АМУРЕ-СОРТИРОВОЧНЫЙ             ПОСТЫШЕВО     неч        4   10     -6\n",
      "                              ТЫНДА                  ХАНИ     неч        5    9     -4\n",
      "                        НОВЫЙ УРГАЛ           ИЗВЕСТКОВАЯ     неч        1    3     -2\n",
      "                              ТЫНДА                 ШТУРМ     неч       12   13     -1\n",
      "                          СИБИРЦЕВО         НОВОКАЧАЛИНСК     неч        2    2      0\n",
      "                      ВОЛОЧАЕВКА II               ОБЛУЧЬЕ     неч        9    7      2\n",
      "                           ГВОЗДЕВО             УССУРИЙСК     неч        7    4      3\n",
      " КОМСОМОЛЬСК-НА-АМУРЕ-СОРТИРОВОЧНЫЙ         ВОЛОЧАЕВКА II     неч       17   14      3\n",
      "                        НОВЫЙ УРГАЛ               ЭТЫРКЭН     неч       11    5      6\n",
      "                          УССУРИЙСК             СИБИРЦЕВО     неч       64   58      6\n",
      "                             РУЖИНО              ГУБЕРОВО     неч       66   58      8\n",
      "                          СИБИРЦЕВО        СПАССК-ДАЛЬНИЙ     неч       68   58     10\n",
      "                        СМОЛЯНИНОВО               УГЛОВАЯ     неч       52   40     12\n",
      "                       ХАБАРОВСК II               ОБЛУЧЬЕ     неч       77   58     19\n",
      "                       ВЫСОКОГОРНАЯ     КОМСОМОЛЬСК-СОРТ.     неч       45   22     23\n",
      "                        ИЗВЕСТКОВАЯ               ОБЛУЧЬЕ     неч       64    1     63\n",
      "                          УССУРИЙСК              УГОЛЬНАЯ     чет        1   18    -17\n",
      "                       ВЫСОКОГОРНАЯ                ВАНИНО     чет       15   24     -9\n",
      "                           ГВОЗДЕВО                ПОСЬЕТ     чет        1    6     -5\n",
      " КОМСОМОЛЬСК-НА-АМУРЕ-СОРТИРОВОЧНЫЙ          ВЫСОКОГОРНАЯ     чет       19   24     -5\n",
      "                      ВОЛОЧАЕВКА II          ХАБАРОВСК II     чет        5    4      1\n",
      "                      ВОЛОЧАЕВКА II  КОМСОМОЛЬСК-СОРТИРОВ     чет       21   20      1\n",
      "                          СИБИРЦЕВО          НОВОЧУГУЕВКА     чет        4    2      2\n",
      "                           ГВОЗДЕВО                 ХАСАН     чет        4    1      3\n",
      "                        ИЗВЕСТКОВАЯ           НОВЫЙ УРГАЛ     чет        7    3      4\n",
      "                        СМОЛЯНИНОВО            ПАРТИЗАНСК     чет       46   40      6\n",
      "                              ТЫНДА             ФЕВРАЛЬСК     чет       17   10      7\n",
      "                          СИБИРЦЕВО             УССУРИЙСК     чет       66   58      8\n",
      "                       ХАБАРОВСК II                 БИКИН     чет       69   60      9\n",
      "                             РУЖИНО        СПАССК-ДАЛЬНИЙ     чет       70   58     12\n",
      "                          УССУРИЙСК               УГЛОВАЯ     чет       58   40     18\n",
      "                             АРХАРА               ОБЛУЧЬЕ     чет       74   25     49\n",
      "                        ИЗВЕСТКОВАЯ          ХАБАРОВСК II     чет       72    2     70\n",
      "\n",
      "Среднее отклонение по количеству поездов по направлениям:\n",
      "dep_dir\n",
      "неч    6.32\n",
      "чет    9.06\n",
      "\n",
      "Среднеквадратичное отклонение по направлениям:\n",
      "dep_dir\n",
      "неч    16.99\n",
      "чет    22.29\n"
     ]
    }
   ],
   "source": [
    "print_ssp_stats(dvs, 'ДВС')"
   ]
  },
  {
   "cell_type": "code",
   "execution_count": 133,
   "metadata": {
    "collapsed": false
   },
   "outputs": [],
   "source": [
    "# Пример построения barplot\n",
    "\n",
    "#krs = pd.read_csv(FOLDER + 'mandatory/SSP_KRS.csv', sep=';')\n",
    "#add_header('Красноярская дорога')\n",
    "#try:\n",
    "#    show_two_barplots(count_volumes(train_plan, krs), 'Красноярская', save=True, btype='less')\n",
    "#except:\n",
    "#    add_line('Красноярская дорога: ошибка в построении графика')"
   ]
  },
  {
   "cell_type": "markdown",
   "metadata": {},
   "source": [
    "<a id='info_plan_depart'></a>\n",
    "## Проверка соответствия первого участка в запланированном маршруте и исходного факта [ToC](#toc)"
   ]
  },
  {
   "cell_type": "code",
   "execution_count": 134,
   "metadata": {
    "collapsed": true
   },
   "outputs": [],
   "source": [
    "add_header('Проверка соответствия первого участка в запланированном маршруте и исходного факта', h=2, p=False)"
   ]
  },
  {
   "cell_type": "code",
   "execution_count": 135,
   "metadata": {
    "collapsed": false
   },
   "outputs": [
    {
     "name": "stdout",
     "output_type": "stream",
     "text": [
      "Поезда, у которых первый участок в маршруте не совпадает с исходным (всего 0, показаны первые 10):\n",
      "Empty DataFrame\n",
      "Columns: [train, st_from_name, st_to_name, time_start_f, st_from_name_info, st_to_name_info, oper_time_f]\n",
      "Index: []\n",
      "\n",
      "Поезда, у которых время отправления на первый участок в маршруте не совпадает с фактическим (всего 0, показаны первые 10):\n",
      "Empty DataFrame\n",
      "Columns: [train, st_from_name, st_to_name, time_start_f, st_from_name_info, st_to_name_info, oper_time_f]\n",
      "Index: []\n"
     ]
    }
   ],
   "source": [
    "cols = ['train', 'st_from_name', 'st_to_name', 'time_start_f', 'st_from_name_info', 'st_to_name_info', 'oper_time_f']\n",
    "td_plan = train_plan[(train_plan.st_from_info.isnull() == False) \n",
    "                     & (train_plan.st_from_info != '-1')].drop_duplicates('train')\n",
    "td_bad_track = td_plan[(td_plan.st_from != td_plan.st_from_info) | (td_plan.st_to != td_plan.st_to_info)]\n",
    "add_header('Поезда, у которых первый участок в маршруте не совпадает с исходным (всего %d, показаны первые 10):' \n",
    "          % td_bad_track.train.count())\n",
    "add_line(td_bad_track[cols])\n",
    "\n",
    "td_bad_time = td_plan[(td_plan.time_start != td_plan.oper_time)]\n",
    "add_header('\\nПоезда, у которых время отправления на первый участок в маршруте не совпадает с фактическим (всего %d, показаны первые 10):' \n",
    "          % td_bad_time.train.count())\n",
    "pd.set_option('display.max_colwidth', 19)\n",
    "add_line(td_bad_time.sort_values('oper_time')[cols].head(10))"
   ]
  },
  {
   "cell_type": "markdown",
   "metadata": {},
   "source": [
    "<a id='time_leaps'></a>\n",
    "## Проверка скачков по времени назад [ToC](#toc)"
   ]
  },
  {
   "cell_type": "code",
   "execution_count": 136,
   "metadata": {
    "collapsed": true
   },
   "outputs": [],
   "source": [
    "add_header('Проверка скачков по времени назад', h=2, p=False)"
   ]
  },
  {
   "cell_type": "code",
   "execution_count": 137,
   "metadata": {
    "collapsed": false
   },
   "outputs": [
    {
     "name": "stdout",
     "output_type": "stream",
     "text": [
      "Не найдено поездов со скачками по времени назад в плане\n"
     ]
    }
   ],
   "source": [
    "train_plan['next_time_start'] = train_plan.time_start.shift(-1)\n",
    "train_plan['next_time_start_f'] = train_plan.time_start_f.shift(-1)\n",
    "train_plan['train_end'] = train_plan.train != train_plan.train.shift(-1)\n",
    "cols = ['train', 'st_from_name', 'st_to_name', 'time_start_f', 'time_end_f', 'next_time_start_f']\n",
    "leaps = train_plan[(train_plan.train_end == False) & (train_plan.next_time_start < train_plan.time_end)][cols]\n",
    "if leaps.empty:\n",
    "    add_header('Не найдено поездов со скачками по времени назад в плане')\n",
    "else:\n",
    "    add_header('Всего %d поездов со скачками по времени назад в плане. Примеры:' % leaps.train.count())\n",
    "    add_line(leaps.head(10)[cols])"
   ]
  },
  {
   "cell_type": "markdown",
   "metadata": {},
   "source": [
    "<a id='irk_ssp'></a>"
   ]
  },
  {
   "cell_type": "markdown",
   "metadata": {},
   "source": [
    "## Сравнение количества передаваемых в планировщик реальных поездов с ССП [ToC](#toc)"
   ]
  },
  {
   "cell_type": "code",
   "execution_count": 138,
   "metadata": {
    "collapsed": true
   },
   "outputs": [],
   "source": [
    "# Направления для проверки\n",
    "\n",
    "test = [('ИРКУТСК-СОРТИРОВОЧНЫЙ', 'ГОНЧАРОВО'), ('ИРКУТСК-СОРТИРОВОЧНЫЙ', 'БАТАРЕЙНАЯ')]"
   ]
  },
  {
   "cell_type": "code",
   "execution_count": 139,
   "metadata": {
    "collapsed": true
   },
   "outputs": [],
   "source": [
    "add_header('Детальное сравнение количества поездов с данными ССП по станции %s' % test[0][0], h=2, p=False)"
   ]
  },
  {
   "cell_type": "code",
   "execution_count": 140,
   "metadata": {
    "collapsed": false
   },
   "outputs": [],
   "source": [
    "routes = pd.read_csv(FOLDER + 'routes.csv', dtype={'st_from':str, 'st_to':str, 'train':str})\n",
    "add_info(routes)\n",
    "routes['link_name'] = list(zip(routes.st_from_name, routes.st_to_name))\n",
    "#def_tt = pd.read_csv(FOLDER + '/mandatory/travel_times_all_pairs.csv', sep=';').set_index(['st_from_name', 'st_to_name'])\n",
    "def_tt = pd.read_csv(FOLDER + '/mandatory/travel_times.csv', index_col=0)"
   ]
  },
  {
   "cell_type": "code",
   "execution_count": 141,
   "metadata": {
    "collapsed": false
   },
   "outputs": [
    {
     "name": "stdout",
     "output_type": "stream",
     "text": [
      "Всего 74 поездов, по которым ожидается проследование в направлении ИРКУТСК-СОРТИРОВОЧНЫЙ - ГОНЧАРОВО в первые сутки планирования\n"
     ]
    }
   ],
   "source": [
    "def get_arrive_time(row, station):\n",
    "    if (row.oper == 'depart') | (row.oper_time >= current_time):\n",
    "        start_time = row.oper_time\n",
    "    else:\n",
    "        start_time = current_time            \n",
    "    return start_time + row.tt + row.lag\n",
    "\n",
    "(test_st, test_st_dir) = test[0]\n",
    "train_info['st_loc_name'] = train_info.oper_location.map(st_names.name)\n",
    "train_info.st_loc_name.fillna(train_info.st_from_name,  inplace=True)\n",
    "#train_info['tt'] = train_info.st_loc_name.apply(lambda x: def_tt.ix[x, test_st].tt)\n",
    "train_info['tt'] = train_info.st_loc_name.apply(lambda x: def_tt[x][test_st])\n",
    "train_info['lag'] = np.round((train_info.tt / 6) * 1.5)\n",
    "train_info['arr_time'] = train_info[['oper', 'oper_time', 'tt', 'lag']]\\\n",
    "                                    .apply(lambda row: get_arrive_time(row, test_st), axis=1)\n",
    "train_info['arr_time_f'] = train_info.arr_time.apply(nice_time)\n",
    "train_info['plan_time'] = train_info.train.map(train_plan[train_plan.st_from_name == test_st].set_index('train').time_start)\n",
    "train_info['plan_time_f'] = train_info.plan_time.apply(nice_time)\n",
    "train_info['delta'] = train_info.plan_time - train_info.arr_time\n",
    "train_info['delta_h'] = np.round((train_info.delta / 3600), 2)\n",
    "\n",
    "train_plan['link_name'] = list(zip(train_plan.st_from_name, train_plan.st_to_name))\n",
    "\n",
    "dir_trains = train_info[(train_info.number >= 1000)\n",
    "                        & (train_info.train.isin(routes[routes.link_name == (test_st, test_st_dir)].train))]\n",
    "cols = ['train', 'number', 'oper', 'st_loc_name', 'tt', 'lag', 'oper_time_f', 'arr_time_f', 'plan_time_f', 'delta_h']\n",
    "dir_trains = dir_trains[dir_trains.arr_time < current_time + 24 * 3600].sort_values('arr_time')\n",
    "#a[cols]\n",
    "add_header('Всего %d поездов, по которым ожидается проследование в направлении %s - %s в первые сутки планирования'\n",
    "           % (dir_trains.train.count(), test_st, test_st_dir))"
   ]
  },
  {
   "cell_type": "code",
   "execution_count": 142,
   "metadata": {
    "collapsed": false
   },
   "outputs": [
    {
     "name": "stdout",
     "output_type": "stream",
     "text": [
      "Всего 19 поездов на направлении ИРКУТСК-СОРТИРОВОЧНЫЙ - ГОНЧАРОВО, которых вообще нет в плане\n",
      "        train  number    oper           st_loc_name     tt    lag  oper_time_f   arr_time_f plan_time_f  delta_h\n",
      " 200020331499    9292   ready                  ЗИМА  15397   3849  15/07 11:55  15/07 20:02        None      NaN\n",
      " 200020357751    9290   ready                  ЗИМА  15397   3849  15/07 10:11  15/07 20:02        None      NaN\n",
      " 200020376241    9240   ready                  ЗИМА  15397   3849  15/07 10:11  15/07 20:02        None      NaN\n",
      " 200020096068    9242   ready                  ЗИМА  15397   3849  15/07 11:55  15/07 20:02        None      NaN\n",
      " 200021421828    9258   ready           НИЖНЕУДИНСК  31566   7892  15/07 09:04  16/07 01:39        None      NaN\n",
      " 210219893009    9244   ready           НИЖНЕУДИНСК  31566   7892  15/07 05:49  16/07 01:39        None      NaN\n",
      " 200020524526    9264   ready           НИЖНЕУДИНСК  31566   7892  15/07 14:14  16/07 01:39        None      NaN\n",
      " 200020349030    9294   ready           НИЖНЕУДИНСК  31566   7892  15/07 05:49  16/07 01:39        None      NaN\n",
      " 200020313721    9214   ready           НИЖНЕУДИНСК  31566   7892  15/07 14:14  16/07 01:39        None      NaN\n",
      " 220207859330    9208   ready           НИЖНЕУДИНСК  31566   7892  15/07 09:04  16/07 01:39        None      NaN\n",
      " 200021105168    2758  depart                ТАЙШЕТ  41741  10435  15/07 11:24  16/07 01:53        None      NaN\n",
      " 200021086084    1600  depart                ТАЙШЕТ  41741  10435  15/07 12:57  16/07 03:26        None      NaN\n",
      " 200020029082    9236   ready                ТАЙШЕТ  41741  10435  15/07 12:05  16/07 05:11        None      NaN\n",
      " 200020460527    9214   ready                ТАЙШЕТ  41741  10435  15/07 10:00  16/07 05:11        None      NaN\n",
      " 200021727272    9264   ready                ТАЙШЕТ  41741  10435  15/07 10:00  16/07 05:11        None      NaN\n",
      " 200020385382    9286   ready                ТАЙШЕТ  41741  10435  15/07 12:05  16/07 05:11        None      NaN\n",
      " 200021093915    2028  depart  КРАСНОЯРСК-ВОСТОЧНЫЙ  66811  16703  15/07 10:01  16/07 09:12        None      NaN\n",
      " 200020142830    8904  depart            КРАСНОЯРСК  69087  17272  15/07 10:34  16/07 10:33        None      NaN\n",
      " 200021138840    2022  depart  КРАСНОЯРСК-ВОСТОЧНЫЙ  66811  16703  15/07 13:54  16/07 13:05        None      NaN\n"
     ]
    }
   ],
   "source": [
    "no_plan = dir_trains[dir_trains.plan_time.isnull()][cols]\n",
    "pd.set_option('display.max_colwidth', 40)\n",
    "add_header('Всего %d поездов на направлении %s - %s, которых вообще нет в плане' % (no_plan.train.count(), test_st, test_st_dir))\n",
    "add_line(no_plan)"
   ]
  },
  {
   "cell_type": "code",
   "execution_count": 143,
   "metadata": {
    "collapsed": false
   },
   "outputs": [
    {
     "name": "stdout",
     "output_type": "stream",
     "text": [
      "Всего 46 поездов (62.16%), по которым запланировано проследование в направлении ИРКУТСК-СОРТИРОВОЧНЫЙ - ГОНЧАРОВО в первые сутки\n"
     ]
    }
   ],
   "source": [
    "plan_day = dir_trains[dir_trains.plan_time < current_time + 24 * 3600][cols]\n",
    "add_header('Всего %d поездов (%.2f%%), по которым запланировано проследование в направлении %s - %s в первые сутки'\n",
    "          % (plan_day.train.count(), 100 * plan_day.train.count() / dir_trains.train.count(), test_st, test_st_dir))"
   ]
  },
  {
   "cell_type": "code",
   "execution_count": 144,
   "metadata": {
    "collapsed": false
   },
   "outputs": [
    {
     "name": "stdout",
     "output_type": "stream",
     "text": [
      "Всего 34 поездов (45.95%), у которых запланированное время проследования на участке ИРКУТСК-СОРТИРОВОЧНЫЙ - ГОНЧАРОВО сильно сдвинуто вперед\n",
      "        train  number    oper            st_loc_name     tt    lag  oper_time_f   arr_time_f  plan_time_f  delta_h\n",
      " 200021884543    2062  arrive                 ТАЙШЕТ  41741  10435  15/07 08:32  16/07 05:11  18/07 21:11    64.00\n",
      " 200200453164    1644  depart               ИЛАНСКАЯ  50842  12710  15/07 12:52  16/07 06:31  17/07 11:08    28.63\n",
      " 220210228632    2032  arrive                   ЗИМА  15397   3849  15/07 13:39  15/07 20:02  16/07 11:51    15.82\n",
      " 200021686401    8352  depart                 ТАЙШЕТ  41741  10435  15/07 10:07  16/07 00:36  16/07 14:15    13.64\n",
      " 200020357877    8402  depart                ЗЕРЦАЛЫ  82476  20619  15/07 04:12  16/07 08:50  16/07 18:33     9.71\n",
      " 200021357430    2670  depart                  ТАГУЛ  42406  10602  15/07 14:42  16/07 05:25  16/07 12:12     6.79\n",
      " 210219457707    2650  arrive                 ТАЙШЕТ  41741  10435  15/07 04:49  16/07 05:11  16/07 11:21     6.18\n",
      " 200021424648    3602  arrive                 ТАЙШЕТ  41741  10435  15/07 11:10  16/07 05:11  16/07 11:11     6.01\n",
      " 200021160963    2674  depart              ИРБЕЙСКАЯ  56384  14096  15/07 12:08  16/07 07:42  16/07 13:30     5.80\n",
      " 200022042388    2898   ready  ИРКУТСК-СОРТИРОВОЧНЫЙ      0      0  15/07 13:48  15/07 14:41  15/07 20:05     5.39\n",
      " 200021097891    2626  depart               САЯНСКАЯ  59325  14831  15/07 11:09  16/07 07:44  16/07 13:05     5.35\n",
      " 200021096890    2618  arrive                 ТАЙШЕТ  41741  10435  15/07 13:42  16/07 05:11  16/07 10:32     5.35\n",
      " 200021400216    2624  depart              ИРБЕЙСКАЯ  56384  14096  15/07 11:50  16/07 07:24  16/07 12:41     5.29\n",
      " 200022007131    2898   ready  ИРКУТСК-СОРТИРОВОЧНЫЙ      0      0  15/07 11:25  15/07 14:41  15/07 19:55     5.22\n",
      " 200021129441    2010  depart               ИЛАНСКАЯ  50842  12710  15/07 12:46  16/07 06:25  16/07 11:36     5.19\n",
      " 200021122245    2720  depart              ЩЕТИНКИНО  70779  17695  15/07 11:46  16/07 12:20  16/07 17:30     5.16\n",
      " 200020524564    1588  arrive                 ТАЙШЕТ  41741  10435  15/07 11:36  16/07 05:11  16/07 10:11     5.00\n",
      " 200021381046    2706  depart                 ТАЙШЕТ  41741  10435  15/07 14:34  16/07 05:03  16/07 10:00     4.94\n",
      " 200020470053    2656  arrive                 ТАЙШЕТ  41741  10435  15/07 07:43  16/07 05:11  16/07 10:03     4.87\n",
      " 200020161785    2014  depart             КАСЬЯНОВКА   6444   1611  15/07 14:34  15/07 16:48  15/07 21:35     4.78\n",
      " 200020313247    2612  arrive                 ТАЙШЕТ  41741  10435  15/07 11:10  16/07 05:11  16/07 09:51     4.67\n",
      " 200021478520    2722  depart              ЩЕТИНКИНО  70779  17695  15/07 12:51  16/07 13:25  16/07 17:57     4.52\n",
      " 200021138031    2628  depart               САЯНСКАЯ  59325  14831  15/07 12:38  16/07 09:13  16/07 13:40     4.44\n",
      " 200021409460    2630  depart               САЯНСКАЯ  59325  14831  15/07 13:12  16/07 09:47  16/07 14:12     4.41\n",
      " 200020508127    2012  depart                   ЗИМА  15397   3849  15/07 11:43  15/07 17:03  15/07 21:25     4.35\n",
      " 200021392136    2102  depart               ИЛАНСКАЯ  50842  12710  15/07 14:14  16/07 07:53  16/07 12:01     4.14\n",
      " 200021996068    2898   ready  ИРКУТСК-СОРТИРОВОЧНЫЙ      0      0  15/07 10:31  15/07 14:41  15/07 18:45     4.06\n",
      " 200021649096    3602  arrive   КРАСНОЯРСК-ВОСТОЧНЫЙ  66811  16703  15/07 10:41  16/07 13:53  16/07 17:55     4.02\n",
      " 200021074696    2564   ready   КРАСНОЯРСК-ВОСТОЧНЫЙ  66811  16703  15/07 13:12  16/07 13:53  16/07 17:45     3.86\n",
      " 200021982115    2002   ready  ИРКУТСК-СОРТИРОВОЧНЫЙ      0      0  15/07 11:39  15/07 14:41  15/07 18:15     3.56\n",
      " 200021933048    2898   ready  ИРКУТСК-СОРТИРОВОЧНЫЙ      0      0  15/07 04:55  15/07 14:41  15/07 18:05     3.39\n",
      " 200020142402    2620  arrive                 ТАЙШЕТ  41741  10435  15/07 13:56  16/07 05:11  16/07 08:33     3.36\n",
      " 200021902873    2898   ready  ИРКУТСК-СОРТИРОВОЧНЫЙ      0      0  15/07 02:02  15/07 14:41  15/07 17:55     3.22\n",
      " 200021902452    2898   ready  ИРКУТСК-СОРТИРОВОЧНЫЙ      0      0  15/07 03:35  15/07 14:41  15/07 17:45     3.06\n"
     ]
    }
   ],
   "source": [
    "# sns.set(context='notebook', style='whitegrid')\n",
    "# sns.set_color_codes('dark')\n",
    "# plt.figure(figsize=(10, 5))\n",
    "# sns.kdeplot(dir_trains[dir_trains.train.isin(plan_day.train) == False].dropna(subset=['delta']).delta / 3600, shade=True)\n",
    "\n",
    "delta_lim = 3 * 3600\n",
    "late_trains = dir_trains[dir_trains.delta > delta_lim]\n",
    "late_trains.sort_values('delta', ascending=False)[cols]\n",
    "add_header('Всего %d поездов (%.2f%%), у которых запланированное время проследования на участке %s - %s сильно сдвинуто вперед' \n",
    "           % (late_trains.train.count(), 100 * late_trains.train.count() / dir_trains.train.count(), test_st, test_st_dir))\n",
    "add_line(late_trains.sort_values('delta', ascending=False)[cols])"
   ]
  },
  {
   "cell_type": "code",
   "execution_count": 145,
   "metadata": {
    "collapsed": false,
    "scrolled": true
   },
   "outputs": [
    {
     "name": "stdout",
     "output_type": "stream",
     "text": [
      "Пример плана по одному из поездов, формированием НЕ на станции ИРКУТСК-СОРТИРОВОЧНЫЙ:\n",
      "        train    oper  oper_time_f    st_from_name      st_to_name time_start_f   time_end_f          loco team\n",
      " 200021884543  arrive  15/07 08:32          ТАЙШЕТ      БАЙРОНОВКА  18/07 08:29  18/07 08:45  200200077441   -1\n",
      " 200021884543  arrive  15/07 08:32      БАЙРОНОВКА         АЛЗАМАЙ  18/07 08:45  18/07 09:40  200200077441   -1\n",
      " 200021884543  arrive  15/07 08:32         АЛЗАМАЙ     НИЖНЕУДИНСК  18/07 09:40  18/07 11:22  200200077441   -1\n",
      " 200021884543  arrive  15/07 08:32     НИЖНЕУДИНСК          УДА II  18/07 11:22  18/07 11:29  200200077441   -1\n",
      " 200021884543  arrive  15/07 08:32          УДА II           ТУЛУН  18/07 11:29  18/07 13:26  200200077441   -1\n",
      " 200021884543  arrive  15/07 08:32           ТУЛУН            АЗЕЙ  18/07 13:26  18/07 13:55  200200077441   -1\n",
      " 200021884543  arrive  15/07 08:32            АЗЕЙ          КУЙТУН  18/07 13:55  18/07 15:00  200200077441   -1\n",
      " 200021884543  arrive  15/07 08:32          КУЙТУН         ПЕРЕВОЗ  18/07 15:00  18/07 15:52  200200077441   -1\n",
      " 200021884543  arrive  15/07 08:32         ПЕРЕВОЗ            ЗИМА  18/07 15:52  18/07 16:04  200200077441   -1\n",
      " 200021884543  arrive  15/07 08:32            ЗИМА          ЗАЛАРИ  18/07 16:44  18/07 17:43  200200077441   -1\n",
      " 200021884543  arrive  15/07 08:32          ЗАЛАРИ       ЧЕРЕМХОВО  18/07 17:43  18/07 19:02  200200077441   -1\n",
      " 200021884543  arrive  15/07 08:32       ЧЕРЕМХОВО      КАСЬЯНОВКА  18/07 19:02  18/07 19:19  200200077441   -1\n",
      " 200021884543  arrive  15/07 08:32      КАСЬЯНОВКА          МАЛЬТА  18/07 19:19  18/07 19:59  200200077441   -1\n",
      " 200021884543  arrive  15/07 08:32          МАЛЬТА           КИТОЙ  18/07 19:59  18/07 20:33  200200077441   -1\n",
      " 200021884543  arrive  15/07 08:32           КИТОЙ         АНГАРСК  18/07 20:33  18/07 20:39  200200077441   -1\n",
      " 200021884543  arrive  15/07 08:32         АНГАРСК       СУХОВСКАЯ  18/07 20:39  18/07 20:46  200200077441   -1\n",
      " 200021884543  arrive  15/07 08:32       СУХОВСКАЯ           МЕГЕТ  18/07 20:46  18/07 21:00  200200077441   -1\n",
      " 200021884543  arrive  15/07 08:32           МЕГЕТ      БАТАРЕЙНАЯ  18/07 21:00  18/07 21:08  200200077441   -1\n",
      " 200021884543  arrive  15/07 08:32      БАТАРЕЙНАЯ  ИРКУТСК-СОР...  18/07 21:08  18/07 21:11  200200077441   -1\n",
      " 200021884543  arrive  15/07 08:32  ИРКУТСК-СОР...       ГОНЧАРОВО  18/07 21:11  18/07 21:35  200200077441   -1\n",
      " 200021884543  arrive  15/07 08:32       ГОНЧАРОВО     БОЛЬШОЙ ЛУГ  18/07 21:35  18/07 22:18  200200077441   -1\n",
      " 200021884543  arrive  15/07 08:32     БОЛЬШОЙ ЛУГ   АНДРИАНОВСКАЯ  18/07 22:18  18/07 23:19  200200077441   -1\n",
      " 200021884543  arrive  15/07 08:32   АНДРИАНОВСКАЯ       АНГАСОЛКА  18/07 23:19  18/07 23:33  200200077441   -1\n",
      " 200021884543  arrive  15/07 08:32       АНГАСОЛКА     СЛЮДЯНКА II  18/07 23:33  18/07 23:59  200200077441   -1\n",
      " 200021884543  arrive  15/07 08:32     СЛЮДЯНКА II      СЛЮДЯНКА I  18/07 23:59  19/07 00:05  200200077441   -1\n",
      " 200021884543  arrive  15/07 08:32      СЛЮДЯНКА I       БАЙКАЛЬСК  19/07 00:44  19/07 01:28  200200077441   -1\n",
      " 200021884543  arrive  15/07 08:32       БАЙКАЛЬСК         МЫСОВАЯ  19/07 01:28  19/07 03:35  200200077441   -1\n",
      " 200021884543  arrive  15/07 08:32         МЫСОВАЯ        УЛАН-УДЭ  19/07 03:35  19/07 06:14  200200077441   -1\n",
      " 200021884543  arrive  15/07 08:32        УЛАН-УДЭ      ЗАУДИНСКИЙ  19/07 07:00  19/07 07:08  200200077441   -1\n",
      " 200021884543  arrive  15/07 08:32      ЗАУДИНСКИЙ          ТАЛЬЦЫ  19/07 07:08  19/07 07:17  200200077441   -1\n",
      " 200021884543  arrive  15/07 08:32          ТАЛЬЦЫ         ЧЕЛУТАЙ  19/07 07:17  19/07 08:12  200200077441   -1\n",
      " 200021884543  arrive  15/07 08:32         ЧЕЛУТАЙ          ГОРХОН  19/07 08:12  19/07 09:15  200200077441   -1\n",
      " 200021884543  arrive  15/07 08:32          ГОРХОН            КИЖА  19/07 09:15  19/07 09:51  200200077441   -1\n",
      " 200021884543  arrive  15/07 08:32            КИЖА  ПЕТРОВСКИЙ ...  19/07 09:51  19/07 10:31  200200077441   -1\n",
      " 200021884543  arrive  15/07 08:32  ПЕТРОВСКИЙ ...        ЖИПХЕГЕН  19/07 10:31  19/07 12:50  200200077441   -1\n",
      " 200021884543  arrive  15/07 08:32        ЖИПХЕГЕН           ХИЛОК  19/07 12:50  19/07 13:23  200200077441   -1\n",
      " 200021884543  arrive  15/07 08:32           ХИЛОК          МОГЗОН  19/07 14:31  19/07 16:57  200200077441   -1\n",
      " 200021884543  arrive  15/07 08:32          МОГЗОН        ТУРГУТУЙ  19/07 16:57  19/07 18:01  200200077441   -1\n",
      " 200021884543  arrive  15/07 08:32        ТУРГУТУЙ          ЛЕСНАЯ  19/07 18:01  19/07 18:53  200200077441   -1\n",
      " 200021884543  arrive  15/07 08:32          ЛЕСНАЯ          КАДАЛА  19/07 18:53  19/07 20:02  200200077441   -1\n",
      " 200021884543  arrive  15/07 08:32          КАДАЛА          ЧИТА I  19/07 20:02  19/07 20:13  200200077441   -1\n",
      " 200021884543  arrive  15/07 08:32          ЧИТА I       КАРЫМСКАЯ  19/07 20:13  19/07 22:09  200200077441   -1\n",
      " 200021884543  arrive  15/07 08:32       КАРЫМСКАЯ         ТАРСКАЯ  20/07 00:15  20/07 00:30            -1   -1\n",
      " 200021884543  arrive  15/07 08:32         ТАРСКАЯ         УРУЛЬГА  20/07 00:30  20/07 01:04            -1   -1\n",
      " 200021884543  arrive  15/07 08:32         УРУЛЬГА       СОЛНЦЕВАЯ  20/07 01:04  20/07 02:25            -1   -1\n",
      " 200021884543  arrive  15/07 08:32       СОЛНЦЕВАЯ  ШИЛКА-ТОВАРНАЯ  20/07 02:25  20/07 03:17            -1   -1\n",
      " 200021884543  arrive  15/07 08:32  ШИЛКА-ТОВАРНАЯ  ШИЛКА-ПАССА...  20/07 03:17  20/07 03:26            -1   -1\n",
      " 200021884543  arrive  15/07 08:32  ШИЛКА-ПАССА...      ПРИИСКОВАЯ  20/07 03:26  20/07 04:12            -1   -1\n",
      " 200021884543  arrive  15/07 08:32      ПРИИСКОВАЯ          КУЭНГА  20/07 04:12  20/07 04:54            -1   -1\n",
      " 200021884543  arrive  15/07 08:32          КУЭНГА  ЧЕРНЫШЕВСК-...  20/07 04:54  20/07 06:07            -1   -1\n",
      " 200021884543  arrive  15/07 08:32  ЧЕРНЫШЕВСК-...         ЖИРЕКЕН  20/07 06:58  20/07 07:57            -1   -1\n",
      " 200021884543  arrive  15/07 08:32         ЖИРЕКЕН          ЗИЛОВО  20/07 07:57  20/07 08:47            -1   -1\n",
      " 200021884543  arrive  15/07 08:32          ЗИЛОВО     КСЕНЬЕВСКАЯ  20/07 08:47  20/07 11:14            -1   -1\n",
      " 200021884543  arrive  15/07 08:32     КСЕНЬЕВСКАЯ          МОГОЧА  20/07 11:14  20/07 13:19            -1   -1\n",
      " 200021884543  arrive  15/07 08:32          МОГОЧА          АМАЗАР  20/07 14:18  20/07 16:06            -1   -1\n",
      " 200021884543  arrive  15/07 08:32          АМАЗАР  ЕРОФЕЙ ПАВЛ...  20/07 16:06  20/07 18:30            -1   -1\n",
      " 200021884543  arrive  15/07 08:32  ЕРОФЕЙ ПАВЛ...           УРУША  20/07 18:30  20/07 20:37            -1   -1\n",
      " 200021884543  arrive  15/07 08:32           УРУША       БАМОВСКАЯ  20/07 20:37  20/07 22:00            -1   -1\n",
      " 200021884543  arrive  15/07 08:32       БАМОВСКАЯ         ГОРЕЛЫЙ  20/07 22:00  20/07 22:07            -1   -1\n",
      " 200021884543  arrive  15/07 08:32         ГОРЕЛЫЙ     СКОВОРОДИНО  20/07 22:07  20/07 22:39            -1   -1\n",
      " 200021884543  arrive  15/07 08:32     СКОВОРОДИНО   БОЛЬШОЙ НЕВЕР  20/07 23:19  20/07 23:37            -1   -1\n",
      " 200021884543  arrive  15/07 08:32   БОЛЬШОЙ НЕВЕР          ТАЛДАН  20/07 23:37  21/07 01:16            -1   -1\n",
      " 200021884543  arrive  15/07 08:32          ТАЛДАН       МАГДАГАЧИ  21/07 01:16  21/07 03:07            -1   -1\n",
      " 200021884543  arrive  15/07 08:32       МАГДАГАЧИ          УШУМУН  21/07 04:11  21/07 06:22            -1   -1\n",
      " 200021884543  arrive  15/07 08:32          УШУМУН     ШИМАНОВСКАЯ  21/07 06:22  21/07 08:47            -1   -1\n",
      " 200021884543  arrive  15/07 08:32     ШИМАНОВСКАЯ         ЛЕДЯНАЯ  21/07 08:47  21/07 09:27            -1   -1\n",
      " 200021884543  arrive  15/07 08:32         ЛЕДЯНАЯ       БЕЛОГОРСК  21/07 09:27  21/07 11:18            -1   -1\n",
      " 200021884543  arrive  15/07 08:32       БЕЛОГОРСК    БЕЛОГОРСК II  21/07 11:18  21/07 11:30            -1   -1\n",
      " 200021884543  arrive  15/07 08:32    БЕЛОГОРСК II         ЗАВИТАЯ  21/07 12:10  21/07 14:19            -1   -1\n",
      " 200021884543  arrive  15/07 08:32         ЗАВИТАЯ           БУРЕЯ  21/07 14:19  21/07 15:09            -1   -1\n",
      " 200021884543  arrive  15/07 08:32           БУРЕЯ          АРХАРА  21/07 15:09  21/07 16:15            -1   -1\n",
      " 200021884543  arrive  15/07 08:32          АРХАРА         ОБЛУЧЬЕ  21/07 16:15  21/07 18:24            -1   -1\n",
      " 200021884543  arrive  15/07 08:32         ОБЛУЧЬЕ     ИЗВЕСТКОВАЯ  21/07 19:04  21/07 19:57            -1   -1\n",
      " 200021884543  arrive  15/07 08:32     ИЗВЕСТКОВАЯ            БИРА  21/07 19:57  21/07 21:24            -1   -1\n",
      " 200021884543  arrive  15/07 08:32            БИРА    БИРОБИДЖАН I  21/07 21:24  21/07 22:18            -1   -1\n",
      " 200021884543  arrive  15/07 08:32    БИРОБИДЖАН I    ВОЛОЧАЕВКА I  21/07 22:18  22/07 00:18            -1   -1\n",
      " 200021884543  arrive  15/07 08:32    ВОЛОЧАЕВКА I      ТУНГУССКИЙ  22/07 00:18  22/07 00:23            -1   -1\n",
      " 200021884543  arrive  15/07 08:32      ТУНГУССКИЙ   ВОЛОЧАЕВКА II  22/07 00:23  22/07 00:36            -1   -1\n",
      " 200021884543  arrive  15/07 08:32   ВОЛОЧАЕВКА II         СЕЛЬГОН  22/07 02:06  22/07 08:18            -1   -1\n",
      " 200021884543  arrive  15/07 08:32         СЕЛЬГОН           МЫЛКИ  22/07 08:18  22/07 12:37            -1   -1\n",
      " 200021884543  arrive  15/07 08:32           МЫЛКИ  КОМСОМОЛЬСК...  22/07 13:37  22/07 13:50            -1   -1\n",
      " 200021884543  arrive  15/07 08:32  КОМСОМОЛЬСК...         СЕЛИХИН  22/07 13:50  22/07 16:23            -1   -1\n",
      " 200021884543  arrive  15/07 08:32         СЕЛИХИН        ЭЛЬДИГАН  22/07 16:23  22/07 17:12            -1   -1\n",
      " 200021884543  arrive  15/07 08:32        ЭЛЬДИГАН             КУН  22/07 17:12  22/07 18:22            -1   -1\n",
      " 200021884543  arrive  15/07 08:32             КУН         ГУРСКОЕ  22/07 18:22  22/07 19:06            -1   -1\n",
      " 200021884543  arrive  15/07 08:32         ГУРСКОЕ            ОУНЭ  22/07 19:06  22/07 21:46            -1   -1\n",
      " 200021884543  arrive  15/07 08:32            ОУНЭ    КУЗНЕЦОВСКИЙ  22/07 21:46  22/07 22:19            -1   -1\n",
      " 200021884543  arrive  15/07 08:32    КУЗНЕЦОВСКИЙ           СОЛЛУ  22/07 22:19  22/07 22:32            -1   -1\n",
      " 200021884543  arrive  15/07 08:32           СОЛЛУ    ВЫСОКОГОРНАЯ  22/07 22:32  22/07 22:44            -1   -1\n",
      " 200021884543  arrive  15/07 08:32    ВЫСОКОГОРНАЯ        МОНГОХТО  23/07 00:14  23/07 06:21            -1   -1\n",
      " 200021884543  arrive  15/07 08:32        МОНГОХТО            ТОКИ  23/07 06:21  23/07 07:45            -1   -1\n",
      " 200021884543  arrive  15/07 08:32            ТОКИ          ВАНИНО  23/07 07:45  23/07 07:57            -1   -1\n"
     ]
    }
   ],
   "source": [
    "plan_cols = ['train', 'oper', 'oper_time_f', 'st_from_name', 'st_to_name', 'time_start_f', 'time_end_f', 'loco', 'team']\n",
    "add_header('Пример плана по одному из поездов, формированием НЕ на станции %s:' % test_st)\n",
    "with pd.option_context('display.max_colwidth', 15):\n",
    "    add_line(train_plan[train_plan.train == late_trains[late_trains.st_loc_name != test_st]\\\n",
    "                        .sort_values('delta', ascending=False).iloc[0].train][plan_cols])"
   ]
  },
  {
   "cell_type": "code",
   "execution_count": 146,
   "metadata": {
    "collapsed": true
   },
   "outputs": [],
   "source": [
    "slot = pd.read_csv(FOLDER + 'slot.csv', dtype={'st_from':str, 'st_to':str})\n",
    "add_info(slot)\n",
    "slot['dt_start'] = slot.time_start.apply(datetime.datetime.fromtimestamp)"
   ]
  },
  {
   "cell_type": "code",
   "execution_count": 147,
   "metadata": {
    "collapsed": false
   },
   "outputs": [
    {
     "data": {
      "text/plain": [
       "dt_start\n",
       "2016-07-15 18:00:00    2\n",
       "2016-07-15 19:00:00    1\n",
       "2016-07-15 20:00:00    3\n",
       "2016-07-15 21:00:00    1\n",
       "2016-07-15 22:00:00    1\n",
       "2016-07-15 23:00:00    2\n",
       "2016-07-16 00:00:00    1\n",
       "2016-07-16 01:00:00    2\n",
       "2016-07-16 02:00:00    1\n",
       "2016-07-16 03:00:00    0\n",
       "2016-07-16 04:00:00    1\n",
       "2016-07-16 05:00:00    2\n",
       "2016-07-16 06:00:00    1\n",
       "2016-07-16 07:00:00    1\n",
       "2016-07-16 08:00:00    2\n",
       "2016-07-16 09:00:00    2\n",
       "Freq: H, Name: train, dtype: int64"
      ]
     },
     "execution_count": 147,
     "metadata": {},
     "output_type": "execute_result"
    }
   ],
   "source": [
    "test = [('ТАЙШЕТ', 'ТОРЕЯ')]\n",
    "(test_st, test_st_dir) = test[0]\n",
    "plan_cols = ['train', 'st_from_name', 'st_to_name', 'dt_start', 'loco', 'team']\n",
    "train_plan['dt_start'] = train_plan.time_start.apply(datetime.datetime.fromtimestamp)\n",
    "a = train_plan[(train_plan.st_from_name == test_st) \n",
    "           & (train_plan.st_to_name == test_st_dir) & (train_plan.train_type.isin(['2', '9']))\n",
    "           & (train_plan.time_start >= current_time) & (train_plan.time_end < current_time + 24 * 3600)]\\\n",
    "    .sort_values('dt_start')[plan_cols]\n",
    "dep_volume = a.set_index('dt_start').resample('1H', how='count').train\n",
    "dep_volume"
   ]
  },
  {
   "cell_type": "code",
   "execution_count": 148,
   "metadata": {
    "collapsed": false
   },
   "outputs": [],
   "source": [
    "slot_volume = slot[(slot.st_from_name == test_st) & (slot.st_to_name == test_st_dir)]\\\n",
    "    .set_index('dt_start').resample('1H', how='count').slot\n",
    "dep_slot = dep_volume.to_frame().join(slot_volume)"
   ]
  },
  {
   "cell_type": "code",
   "execution_count": 149,
   "metadata": {
    "collapsed": false
   },
   "outputs": [],
   "source": [
    "# slot_volume = slot[(slot.st_from_name == test_st) & (slot.st_to_name == test_st_dir)]\\\n",
    "#     .set_index('dt_start').resample('300s')\n",
    "# slot_volume.dropna(subset=['slot'], inplace=True)\n",
    "# slot_volume['slot'] = slot_volume.slot.apply(int)\n",
    "# slot_volume = slot_volume.reset_index().set_index('slot')\n",
    "# slot_volume"
   ]
  },
  {
   "cell_type": "code",
   "execution_count": 150,
   "metadata": {
    "collapsed": false
   },
   "outputs": [
    {
     "name": "stdout",
     "output_type": "stream",
     "text": [
      "                     train  slot\n",
      "dt_start                        \n",
      "2016-07-15 20:00:00      3     2\n"
     ]
    }
   ],
   "source": [
    "a = dep_slot[dep_slot.train > dep_slot.slot]\n",
    "print(a)"
   ]
  },
  {
   "cell_type": "code",
   "execution_count": 151,
   "metadata": {
    "collapsed": false
   },
   "outputs": [
    {
     "name": "stdout",
     "output_type": "stream",
     "text": [
      "2016-07-15 20:00:00 2016-07-15 21:00:00\n",
      "                  train st_from_name st_to_name            dt_start\n",
      "111140  999912387032002       ТАЙШЕТ      ТОРЕЯ 2016-07-15 20:10:00\n",
      "16619      200021647206       ТАЙШЕТ      ТОРЕЯ 2016-07-15 20:17:06\n",
      "111152  999912387032004       ТАЙШЕТ      ТОРЕЯ 2016-07-15 20:30:00\n",
      "               slot            dt_start\n",
      "33158  200021275536 2016-07-15 20:11:00\n",
      "33401  200021275580 2016-07-15 20:31:00\n",
      "-------\n"
     ]
    }
   ],
   "source": [
    "pd.set_option('display.max_colwidth', 40)\n",
    "cols = ['train', 'st_from_name', 'st_to_name', 'dt_start']\n",
    "for dt in a.index:\n",
    "    dt_next = dt + datetime.timedelta(0, 3600, 0)\n",
    "    print(dt, dt_next)\n",
    "    print(train_plan[(train_plan.train_type.isin(['2', '9']))\n",
    "                    & (train_plan.st_from_name == test_st) & (train_plan.st_to_name == test_st_dir)\n",
    "                    & (train_plan.dt_start >= dt) & (train_plan.dt_start < dt_next)].sort_values('dt_start')[cols])\n",
    "    print(slot[(slot.st_from_name == test_st) & (slot.st_to_name == test_st_dir)\n",
    "                    & (slot.dt_start >= dt) & (slot.dt_start < dt_next)].sort_values('dt_start')[['slot', 'dt_start']])\n",
    "    print('-------')"
   ]
  },
  {
   "cell_type": "markdown",
   "metadata": {},
   "source": [
    "<a id='report'></a>\n",
    "### Экспорт в HTML [ToC](#toc)"
   ]
  },
  {
   "cell_type": "code",
   "execution_count": 152,
   "metadata": {
    "collapsed": false
   },
   "outputs": [
    {
     "name": "stdout",
     "output_type": "stream",
     "text": [
      "Отчет сформирован: report/train_report_20160801_142026.html\n"
     ]
    }
   ],
   "source": [
    "filename = REPORT_FOLDER + 'train_report_' + time.strftime('%Y%m%d_%H%M%S', time.localtime(time.time())) + '.html'\n",
    "create_report(filename)"
   ]
  }
 ],
 "metadata": {
  "kernelspec": {
   "display_name": "Python 3",
   "language": "python",
   "name": "python3"
  },
  "language_info": {
   "codemirror_mode": {
    "name": "ipython",
    "version": 3
   },
   "file_extension": ".py",
   "mimetype": "text/x-python",
   "name": "python",
   "nbconvert_exporter": "python",
   "pygments_lexer": "ipython3",
   "version": "3.5.1"
  }
 },
 "nbformat": 4,
 "nbformat_minor": 0
}
