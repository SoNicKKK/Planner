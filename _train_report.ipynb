{
 "cells": [
  {
   "cell_type": "markdown",
   "metadata": {},
   "source": [
    "<a id='toc'></a>\n",
    "# Отчет по запланированным поездам\n",
    "\n",
    "1. [Проверка планирования всех реальных поездов](#all_plan)\n",
    "1. [Проверка совпадения четности номеров поездов и направления движения](#oddity)\n",
    "2. [Анализ времен стоянок поездов на станциях смены локомотивов и бригад.](#stop_time)\n",
    "   1. [Смена локомотивов](#stop_loco)\n",
    "   2. [Смена бригад](#stop_team)\n",
    "4. [Выявление случаев \"близкой\" отправки поездов с одной станции (с интервалом меньше 5 минут)](#dep_interval)\n",
    "5. [Анализ отклонения запланированного на сутки количества поездов от данных АС ССП (данные средние по суткам).](#ssp)\n",
    "6. [Проверка соответствия первого участка в запланированном маршруте и исходного факта](#info_plan_depart)\n",
    "6. [Детальное сравнение количества поездов по Иркутску с данными ССП](#irk_ssp)\n",
    "7. [Планирование сдвоенных поездов и поездов, составляющих сдвоенные](#Планирование-сдвоенных-поездов-и-поездов,-составляющих-сдвоенные)\n",
    "6. [Создание отчета](#report)"
   ]
  },
  {
   "cell_type": "markdown",
   "metadata": {},
   "source": [
    "## Вспомогательные функции\n",
    "\n",
    "### Функции для экспорта в HTML\n",
    "\n",
    "Чтобы какой-то заголовок, текст, таблица или картинка попали в итоговый отчет, их надо туда добавить методами `add_header` (заголовок), `add_line` (текст или таблица), `add_image` (картинка). Примеры использования функций см. по коду. В `add_header` можно передать параметр `(int) h`, в котором указывается уровень заголовка (от 1 и далее, 1 - максимальный).\n",
    "\n",
    "Весь html-код отчета записывается в глобальную переменную report, в конце методом `create_report` происходит собственно создание html-файла."
   ]
  },
  {
   "cell_type": "code",
   "execution_count": 553,
   "metadata": {
    "collapsed": true
   },
   "outputs": [],
   "source": [
    "report = ''\n",
    "FOLDER = 'resources/'\n",
    "REPORT_FOLDER = 'report/'\n",
    "PRINT = True"
   ]
  },
  {
   "cell_type": "code",
   "execution_count": 554,
   "metadata": {
    "collapsed": true
   },
   "outputs": [],
   "source": [
    "def add_line(line, p=PRINT):    \n",
    "    global report        \n",
    "    if p:                \n",
    "        if type(line) == pd.core.frame.DataFrame:\n",
    "            print(line.to_string(index=False))\n",
    "        elif type(line) == pd.core.series.Series:\n",
    "            print(line.to_string())\n",
    "        else:\n",
    "            print(line)\n",
    "    if type(line) == pd.core.frame.DataFrame:        \n",
    "        report += ('%s<br>' % line.to_html(index=False))\n",
    "    elif type(line) == pd.core.series.Series:\n",
    "        report += ('%s<br>' % line.to_frame().reset_index().to_html(index=False))\n",
    "    else:        \n",
    "        report += ('%s<br>' % line)\n",
    "    \n",
    "def add_header(header, h=4, p=PRINT):\n",
    "    global report\n",
    "    report += ('<h%d>%s</h%d>' % (h, header, h))\n",
    "    if p:\n",
    "        print(header)\n",
    "\n",
    "def add_image(filename, scale=0.4):\n",
    "    global report\n",
    "    report += ('<img src=\"%s\" alt=\"%s\" height=\"%d%%\">' % (filename, filename, int(scale * 100)))\n",
    "\n",
    "def create_report(filename):\n",
    "    global report\n",
    "    report = report.replace('<table border=\"1\" class=\"dataframe\">','<table class=\"table table-striped\">')\n",
    "    html_string = '''\n",
    "        <html>\n",
    "            <head>\n",
    "                <link rel=\"stylesheet\" href=\"skeleton.css\">\n",
    "                <style>body{ margin:20 20; background:whitesmoke; }\n",
    "                table {table-layout : fixed}\n",
    "                </style>\n",
    "            </head>\n",
    "            <body>                \n",
    "                %s\n",
    "            </body>\n",
    "        </html>''' % (report)\n",
    "    f = open(filename,'w', encoding='utf-8-sig')\n",
    "    f.write(html_string)\n",
    "    f.close()\n",
    "    print('Отчет сформирован: %s' % filename)"
   ]
  },
  {
   "cell_type": "markdown",
   "metadata": {},
   "source": [
    "## Загрузка и подготовка данных"
   ]
  },
  {
   "cell_type": "code",
   "execution_count": 555,
   "metadata": {
    "collapsed": false
   },
   "outputs": [
    {
     "name": "stdout",
     "output_type": "stream",
     "text": [
      "Время составления отчета: 17/08 20:29\n",
      "Время запуска планировщика: 29/07 18:00 (1438182000)\n"
     ]
    }
   ],
   "source": [
    "import numpy as np\n",
    "import pandas as pd\n",
    "import time, datetime\n",
    "from ast import literal_eval\n",
    "import matplotlib.pyplot as plt\n",
    "import seaborn as sns\n",
    "%matplotlib inline\n",
    "\n",
    "pd.set_option('max_rows', 50)\n",
    "\n",
    "time_format = '%d/%m %H:%M'\n",
    "\n",
    "start_time = time.time()\n",
    "current_time = pd.read_csv(FOLDER + 'current_time.csv').current_time[0]\n",
    "twr          = pd.read_csv(FOLDER + 'team_work_region.csv', converters={'twr':str})\n",
    "links        = pd.read_csv(FOLDER + 'link.csv', converters={'st_from':str, 'st_to':str})\n",
    "stations     = pd.read_csv(FOLDER + 'station.csv', converters={'station':str})\n",
    "train_info   = pd.read_csv(FOLDER + 'train_info.csv', converters={'train': str, 'st_from':str, 'st_to':str, 'joint':str,\n",
    "                                                                 'start_st':str, 'end_st':str})\n",
    "train_plan   = pd.read_csv(FOLDER + 'slot_train.csv', converters={'train': str, 'st_from':str, 'st_to':str})\n",
    "loco_info    = pd.read_csv(FOLDER + 'loco_attributes.csv', converters={'train':str, 'loco':str, 'st_from':str, 'st_to':str})\n",
    "loco_plan    = pd.read_csv(FOLDER + 'slot_loco.csv', converters={'train':str, 'loco':str, 'st_from':str, 'st_to':str})\n",
    "team_info    = pd.read_csv(FOLDER + 'team_attributes.csv', converters={'team':str,'depot':str, 'oper_location':str, \\\n",
    "                                                     'st_from':str, 'st_to':str, 'loco':str, 'depot_st':str})\n",
    "team_plan    = pd.read_csv(FOLDER + 'slot_team.csv', converters={'team':str,'loco':str, 'st_from':str, 'st_to':str})\n",
    "loco_series  = pd.read_csv(FOLDER + 'loco_series.csv')\n",
    "task         = pd.read_csv(FOLDER + 'task.csv', converters={'st_from':str, 'st_to':str, 'st_next':str})\n",
    "\n",
    "st_names     = stations[['station', 'name', 'esr']].drop_duplicates().set_index('station')\n",
    "team_info.regions = team_info.regions.apply(literal_eval)\n",
    "\n",
    "print('Время составления отчета:', time.strftime(time_format, time.localtime()))\n",
    "print('Время запуска планировщика: %s (%d)' % (time.strftime(time_format, time.localtime(current_time)), current_time))"
   ]
  },
  {
   "cell_type": "code",
   "execution_count": 556,
   "metadata": {
    "collapsed": false
   },
   "outputs": [],
   "source": [
    "# Функция делает из таймстемпа строку времени в удобном формате, формат определяется в константе time_format.\n",
    "def nice_time(t):        \n",
    "    return time.strftime(time_format, time.localtime(t)) if (np.isnan(t) == False) & (t != -1) else None\n",
    "\n",
    "# Функция делает стандартные преобразования над стандартными колонками в таблицах:\n",
    "# - по id станции достается ее название (для полей st_from, st_to, oper_location).\n",
    "# - timestamp преобразуется в красивую строку с временем (для полей time_start, time_end, oper_time).\n",
    "def add_info(df):    \n",
    "    if 'st_from' in df.columns:\n",
    "        df['st_from_name'] = df.st_from.map(st_names.name)\n",
    "    if 'st_to' in df.columns:\n",
    "        df['st_to_name'] = df.st_to.map(st_names.name)\n",
    "    if 'time_start' in df.columns:\n",
    "        df['time_start_f'] = df.time_start.apply(lambda x: nice_time(x))\n",
    "    if 'time_end' in df.columns:\n",
    "        df['time_end_f'] = df.time_end.apply(lambda x: nice_time(x))\n",
    "    if 'oper_location' in df.columns:\n",
    "        df['oper_location_name'] = df.oper_location.map(st_names.name)    \n",
    "        df.oper_location_name.fillna(0, inplace=True)\n",
    "    if ('oper_location' in df.columns) & ('st_from' in df.columns) & ('st_to' in df.columns):        \n",
    "        df['loc_name'] = df.oper_location_name\n",
    "        df.loc[df.loc_name == 0, 'loc_name'] = df.st_from_name + ' - ' + df.st_to_name\n",
    "    if 'oper_time' in df.columns:\n",
    "        df['oper_time_f'] = df.oper_time.apply(lambda x: nice_time(x))    \n",
    "    \n",
    "# Добавляем во все таблицы названия станций на маршруте и времена отправления/прибытия в читабельном формате\n",
    "add_info(train_plan), add_info(loco_plan), add_info(team_plan)\n",
    "add_info(train_info), add_info(loco_info), add_info(team_info)\n",
    "\n",
    "# Мержим таблицы _plan и _info для поездов, локомотивов и бригад\n",
    "train_plan = train_plan.merge(train_info, on='train', suffixes=('', '_info'), how='left')\n",
    "loco_plan = loco_plan.merge(loco_info, on='loco', suffixes=('', '_info'), how='left')\n",
    "team_plan = team_plan.merge(team_info, on='team', suffixes=('', '_info'), how='left')\n",
    "\n",
    "# Добавляем признаки поезда и бригады (реальный/локомотиво-резервный/объемный и реальная/фейковая)\n",
    "train_plan['train_type'] = train_plan.train.apply(lambda x: str(x)[0])\n",
    "team_plan['team_type'] = team_plan.team.apply(lambda x: 'Реальная' if str(x)[0] == '2' else 'Фейковая')\n",
    "\n",
    "# Для локомотиво-резервных и объемных поездов заполняем номер\n",
    "train_plan.loc[train_plan.train_type.isin(['8', '9']), 'number'] = train_plan.train.apply(lambda x: int(str(x)[-4:]))\n",
    "\n",
    "# Добавляем подвязанные локомотив и бригаду в таблицы loco_plan и train_plan\n",
    "def to_map(df, col):\n",
    "    return df.drop_duplicates(col).set_index(col)\n",
    "\n",
    "train_plan['train_time'] = list(zip(train_plan.train, train_plan.time_start))\n",
    "loco_plan['train_time'] = list(zip(loco_plan.train, loco_plan.time_start))\n",
    "loco_plan['loco_time'] = list(zip(loco_plan.loco, loco_plan.time_start))\n",
    "team_plan['loco_time'] = list(zip(team_plan.loco, team_plan.time_start))\n",
    "loco_plan['team'] = loco_plan.loco_time.map(to_map(team_plan, 'loco_time').team)\n",
    "train_plan['loco'] = train_plan.train_time.map(to_map(loco_plan, 'train_time').loco)\n",
    "train_plan['team'] = train_plan.train_time.map(to_map(loco_plan, 'train_time').team)\n",
    "train_plan.drop('train_time', axis=1, inplace=True)\n",
    "loco_plan.drop(['train_time', 'loco_time'], axis=1, inplace=True)\n",
    "team_plan.drop('loco_time', axis=1, inplace=True)"
   ]
  },
  {
   "cell_type": "markdown",
   "metadata": {},
   "source": [
    "<a id='all_plan'></a>\n",
    "## Проверка планирования всех реальных поездов [ToC](#toc)\n",
    "\n",
    "Берем все поезда, которые были поданы на вход планировщика в сообщениях `train_info`. Отсеиваем поезда с номерами меньше 1000 (пассажирские) и поезда, у которых неверно указано изначальное местоположение (указан участок с одинаковыми начальной и конечной станциями). Остальные поезда должны быть запланированы.\n",
    "\n",
    "**TODO: Добавить отсев поездов с пустыми маршрутами и поездов, прибывших на конечную станцию маршрута**"
   ]
  },
  {
   "cell_type": "code",
   "execution_count": 557,
   "metadata": {
    "collapsed": true
   },
   "outputs": [],
   "source": [
    "routes = pd.read_csv(FOLDER + 'routes.csv', dtype={'st_from':str, 'st_to':str, 'train':str})\n",
    "add_info(routes)\n",
    "routes.dropna(subset=['st_from_name', 'st_to_name'], how='any', inplace=True)\n",
    "start_st = routes.drop_duplicates('train').set_index('train')\n",
    "end_st = routes.drop_duplicates('train', keep='last').set_index('train')\n",
    "train_info['first_st'] = train_info.train.map(start_st.st_from_name)\n",
    "train_info['last_st'] = train_info.train.map(end_st.st_to_name)"
   ]
  },
  {
   "cell_type": "code",
   "execution_count": 558,
   "metadata": {
    "collapsed": false
   },
   "outputs": [
    {
     "name": "stdout",
     "output_type": "stream",
     "text": [
      "Всего 0 реальных поездов (0.00%) не запланировано:\n",
      "Empty DataFrame\n",
      "Columns: [train, number, ind434, loc_name, in_plan, first_st, last_st]\n",
      "Index: []\n"
     ]
    }
   ],
   "source": [
    "train_info['in_plan'] = train_info.train.isin(train_plan.train)\n",
    "a = train_info[(train_info.in_plan == False) \n",
    "               & (train_info.number > 1000) \n",
    "               & (train_info.number < 9000)\n",
    "               & ((train_info.st_from != train_info.st_to) | (train_info.st_from == -1))\\\n",
    "              ].sort_values('number')\n",
    "with pd.option_context('display.max_colwidth', 25):\n",
    "    add_header('Всего %d реальных поездов (%.2f%%) не запланировано:' \n",
    "               % (a.train.count(), 100 * a.train.count() / train_info.train.count()))\n",
    "    add_line(a[['train', 'number', 'ind434', 'loc_name', 'in_plan', 'first_st', 'last_st']])"
   ]
  },
  {
   "cell_type": "markdown",
   "metadata": {},
   "source": [
    "<a id='oddity'></a>\n",
    "## Проверка совпадения четности номеров поездов и направления движения [ToC](#toc)\n",
    "\n",
    "Для фейковых поездов (id начинается на 9999) и локомотивов резервом (id начинается на 8888) мы сами генерируем номер поезда - это последние 4 цифры id. Тест проверяет, что четность этого номера совпадает с четностью первого участка на маршруте поезда."
   ]
  },
  {
   "cell_type": "code",
   "execution_count": 559,
   "metadata": {
    "collapsed": false
   },
   "outputs": [],
   "source": [
    "add_header('Проверки по поездам', h=1, p=False)\n",
    "add_header('Проверка совпадения четности номеров поездов и направления движения', h=2, p=False)"
   ]
  },
  {
   "cell_type": "code",
   "execution_count": 560,
   "metadata": {
    "collapsed": false
   },
   "outputs": [
    {
     "name": "stdout",
     "output_type": "stream",
     "text": [
      "Все четности совпадают\n"
     ]
    }
   ],
   "source": [
    "train_plan['dir'] = train_plan.link.map(links.set_index('link').dir)\n",
    "train_plan['odevity'] = (((train_plan.number / 2).astype(int) * 2 == train_plan.number).astype(int) + 1) % 2\n",
    "train_plan['check_odd'] = train_plan.dir == train_plan.odevity\n",
    "cols = ['train', 'number', 'st_from_name', 'st_to_name', 'dir', 'odevity', 'check_odd']\n",
    "fail_dir_number = train_plan.drop_duplicates(subset=['train', 'number']).loc[(train_plan.train_type.isin(['8', '9'])) &\n",
    "                                                          (train_plan.check_odd == False), cols]\n",
    "if fail_dir_number.empty == False:\n",
    "    add_header('Четность номеров поездов и направления не совпадает для %d поездов (показаны первые 10):' %\n",
    "         len(fail_dir_number.index))\n",
    "    pd.set_option('display.max_colwidth', 35)\n",
    "    add_line(fail_dir_number.head(10))\n",
    "else:\n",
    "    add_line('Все четности совпадают')"
   ]
  },
  {
   "cell_type": "markdown",
   "metadata": {},
   "source": [
    "<a id='stop_time'></a>\n",
    "## Анализ времен стоянок поездов на станциях смены локомотивов и бригад [ToC](#toc)\n",
    "\n",
    "Тест определяет станции, на которых на маршруте поезда происходит смена локомотива или бригады, и считает время стоянки поезда на этих станциях. Четких критериев ошибок тут нет. Но в среднем можно принять, что стоянка на смену локомотива должна занимать не более четырех часов, на смену бригады - не более двух. Сильно отличающиеся от этих значения надо исследовать и выявлять причины.\n",
    "\n",
    "Также очевидными ошибками являются случаи, когда смена локомотива или бригады происходит за нулевое время."
   ]
  },
  {
   "cell_type": "markdown",
   "metadata": {},
   "source": [
    "#### Параметры для анализа"
   ]
  },
  {
   "cell_type": "code",
   "execution_count": 561,
   "metadata": {
    "collapsed": false
   },
   "outputs": [],
   "source": [
    "# Минимальное время стоянки поезда для смены локомотива\n",
    "MIN_LOCO_STOP = 1 * 3600\n",
    "MAX_LOCO_STOP = 4 * 3600\n",
    "\n",
    "# Минимальное время стоянки поезда для смены бригады\n",
    "MIN_TEAM_STOP = 0.25 * 3600\n",
    "MAX_TEAM_STOP = 2 * 3600\n",
    "\n",
    "# Горизонт проверки\n",
    "hor = 24 * 3600"
   ]
  },
  {
   "cell_type": "markdown",
   "metadata": {},
   "source": [
    "<a id='stop_loco'></a>\n",
    "### Смена локомотивов [ToC](#toc)"
   ]
  },
  {
   "cell_type": "code",
   "execution_count": 562,
   "metadata": {
    "collapsed": true
   },
   "outputs": [],
   "source": [
    "add_header('Анализ смен локомотивов на маршрутах поездов', h=2, p=False)"
   ]
  },
  {
   "cell_type": "markdown",
   "metadata": {},
   "source": [
    "#### Ищем станции смены локомотивов и считаем средние времена"
   ]
  },
  {
   "cell_type": "code",
   "execution_count": 563,
   "metadata": {
    "collapsed": false
   },
   "outputs": [],
   "source": [
    "train_plan.columns\n",
    "train_plan.loco.fillna('-1', inplace=True)\n",
    "train_plan.team.fillna('-1', inplace=True)\n",
    "\n",
    "train_plan['train_end'] = train_plan.train != train_plan.train.shift(-1)\n",
    "train_plan['loco_end'] = (train_plan.loco != train_plan.loco.shift(-1)) | (train_plan.train_end)\n",
    "train_plan['team_end'] = (train_plan.team != train_plan.team.shift(-1)) | (train_plan.loco_end)\n",
    "\n",
    "train_plan['stop_time'] = train_plan.time_start.shift(-1) - train_plan.time_end\n",
    "train_plan['stop_time_h'] = np.round((train_plan.stop_time / 3600), 2)\n",
    "\n",
    "train_plan['next_loco'] = train_plan.loco.shift(-1)\n",
    "train_plan['next_team'] = train_plan.team.shift(-1)\n",
    "\n",
    "cols = ['train', 'st_from_name', 'st_to_name', 'loco', 'team', 'stop_time_h', 'next_loco']\n",
    "loco_change = train_plan[(train_plan.train_end == False) & (train_plan.loco_end == True)\n",
    "                        & (train_plan.time_end < current_time + hor)]"
   ]
  },
  {
   "cell_type": "code",
   "execution_count": 564,
   "metadata": {
    "collapsed": false
   },
   "outputs": [
    {
     "name": "stdout",
     "output_type": "stream",
     "text": [
      "Средние времена на смену локомотивов:\n",
      "- по всем сменам: 7.51 ч.\n",
      "- по всем сменам с ненулевым временем: 7.51 ч.\n"
     ]
    }
   ],
   "source": [
    "add_header('Средние времена на смену локомотивов:')\n",
    "add_line('- по всем сменам: %.2f ч.' % loco_change.stop_time_h.mean())\n",
    "add_line('- по всем сменам с ненулевым временем: %.2f ч.' % loco_change[loco_change.stop_time_h > 0].stop_time_h.mean())"
   ]
  },
  {
   "cell_type": "markdown",
   "metadata": {},
   "source": [
    "#### Ищем поезда, у которых смена локомотивов происходит за маленькое время"
   ]
  },
  {
   "cell_type": "code",
   "execution_count": 565,
   "metadata": {
    "collapsed": false
   },
   "outputs": [
    {
     "name": "stdout",
     "output_type": "stream",
     "text": [
      "Всего 15 поездов, для которых смена локомотивов происходит за слишком маленькое время. Примеры:\n",
      "   train    st_from_name           st_to_name     loco next_loco  stop_time_h\n",
      " 1002411           ТОРЕЯ               ТАЙШЕТ  2000411   2001514         0.05\n",
      " 1002202  ГИДРОСТРОИТЕЛЬ  КОРШУНИХА-АНГАРСКАЯ  2000202   2000204         0.05\n",
      " 1002305           ТОРЕЯ               ТАЙШЕТ  2000303   2001510         0.08\n",
      " 1002032            ЮРТЫ               ТАЙШЕТ  2001515   2000201         0.11\n",
      " 1002036            ЮРТЫ               ТАЙШЕТ  2001517   2000280         0.12\n",
      "\n",
      "Полный план по одному из таких поездов:\n",
      "   train st_from_name st_to_name time_start_f   time_end_f     loco     team\n",
      " 1002036         ЮРТЫ     ТАЙШЕТ  30/07 06:06  30/07 07:03  2001517  8800017\n",
      " 1002036       ТАЙШЕТ      ТОРЕЯ  30/07 07:10  30/07 11:25  2000280  9200010\n",
      " 1002036        ТОРЕЯ      ТУРМА  30/07 11:25  30/07 12:27  2000280  9200010\n",
      " 1002036        ТУРМА  ВИХОРЕВКА  30/07 12:27  30/07 12:57  2000280  9200010\n"
     ]
    }
   ],
   "source": [
    "cols = ['train', 'st_from_name', 'st_to_name', 'loco', 'next_loco', 'stop_time_h']\n",
    "nill_stop_times = loco_change[loco_change.stop_time < MIN_LOCO_STOP]\n",
    "if not nill_stop_times.empty:\n",
    "    add_header('Всего %d поездов, для которых смена локомотивов происходит за слишком маленькое время. Примеры:' \n",
    "               % nill_stop_times.train.count())\n",
    "    add_line(nill_stop_times.sort_values('stop_time_h')[cols].head())\n",
    "    cols = ['train', 'st_from_name', 'st_to_name', 'time_start_f', 'time_end_f', 'loco', 'team']\n",
    "    add_line('')\n",
    "    add_header('Полный план по одному из таких поездов:')\n",
    "    for train in nill_stop_times.train.values[:1]:\n",
    "        add_line(train_plan[train_plan.train == train][cols])\n",
    "else:\n",
    "    add_header('Нет локомотивов, для которых смена бригад происходит за слишком маленькое время')"
   ]
  },
  {
   "cell_type": "markdown",
   "metadata": {},
   "source": [
    "#### Составляем статистику по всем станциям смены, загружаем список приоритетных станций смены"
   ]
  },
  {
   "cell_type": "code",
   "execution_count": 566,
   "metadata": {
    "collapsed": false
   },
   "outputs": [],
   "source": [
    "cols = ['train', 'st_from_name', 'st_to_name', 'loco', 'next_loco', 'stop_time_h']\n",
    "no_nill_stops = loco_change[loco_change.stop_time > 0]\n",
    "no_nill_stops[cols]\n",
    "#no_nill_stops.groupby('st_to_name').stop_time_h.mean()\n",
    "st_change = no_nill_stops.groupby('st_to_name').train.count().to_frame()\\\n",
    "            .join(no_nill_stops.groupby('st_to_name').stop_time_h.mean()).reset_index()\n",
    "st_change['stop_time_h'] = st_change.stop_time_h.apply(lambda x: np.round(x, 2))\n",
    "st_change.sort_values('train', ascending=False).head(10)\n",
    "priority_change_stations = pd.read_csv(FOLDER + 'mandatory/priority_loco_change_stations.csv').st_name.values"
   ]
  },
  {
   "cell_type": "markdown",
   "metadata": {},
   "source": [
    "#### Ищем поезда, у которых смена локомотивов происходит на неправильных станциях"
   ]
  },
  {
   "cell_type": "code",
   "execution_count": 567,
   "metadata": {
    "collapsed": false
   },
   "outputs": [
    {
     "name": "stdout",
     "output_type": "stream",
     "text": [
      "Всего 22 поездов, у которых смена локомотива, скорее всего, происходит на неправильных станциях\n",
      "Примеры таких станций:\n",
      "          st_to_name  train  stop_time_h\n",
      "                ЛЕНА     14         8.30\n",
      " КОРШУНИХА-АНГАРСКАЯ      8         4.13\n",
      "\n",
      "Поезда, у которых смена локомотива происходит на станции ЛЕНА:\n",
      "   train st_from_name st_to_name     loco next_loco  stop_time_h\n",
      " 1002505       ЯКУРИМ       ЛЕНА  2000753   2000104         8.81\n",
      " 1002513       ЯКУРИМ       ЛЕНА  2000713   2000213        14.57\n",
      " 1002302    ХРЕБТОВАЯ       ЛЕНА  2000302   2000753         9.14\n",
      " 1002312    ХРЕБТОВАЯ       ЛЕНА  2000312   2000481         0.98\n",
      " 1002306    ХРЕБТОВАЯ       ЛЕНА  2000304   2000715         8.07\n",
      " 1002322    ХРЕБТОВАЯ       ЛЕНА  2000216   2000757         7.81\n",
      " 1002603       ЯКУРИМ       ЛЕНА  2000763   2000118         2.33\n",
      " 1002601       ЯКУРИМ       ЛЕНА  2000761   2000101         2.22\n",
      " 1002613       ЯКУРИМ       ЛЕНА  2000723   2000413        17.33\n",
      " 1002118    ХРЕБТОВАЯ       ЛЕНА  2000304   2000731        11.72\n",
      " 1002114    ХРЕБТОВАЯ       ЛЕНА  2000112   2000772        11.02\n",
      " 1002206    ХРЕБТОВАЯ       ЛЕНА  2000112   2000763         6.78\n",
      " 1002202    ХРЕБТОВАЯ       ЛЕНА  2000204   2000761        10.10\n",
      " 1002214    ХРЕБТОВАЯ       ЛЕНА  2000415   2000711         5.31\n",
      "\n",
      "Полный план по одному из таких поездов:\n",
      "   train         st_from_name           st_to_name time_start_f   time_end_f     loco         loc_name loco_info\n",
      " 1002505      СЕВЕРОБАЙКАЛЬСК                  ТЫЯ  29/07 19:10  29/07 19:41  2000753  СЕВЕРОБАЙКАЛЬСК   2000753\n",
      " 1002505                  ТЫЯ                ДАБАН  29/07 19:41  29/07 20:17  2000753  СЕВЕРОБАЙКАЛЬСК   2000753\n",
      " 1002505                ДАБАН              КУНЕРМА  29/07 20:17  29/07 21:16  2000753  СЕВЕРОБАЙКАЛЬСК   2000753\n",
      " 1002505              КУНЕРМА              КИРЕНГА  29/07 21:16  29/07 23:20  2000753  СЕВЕРОБАЙКАЛЬСК   2000753\n",
      " 1002505              КИРЕНГА               НЕБЕЛЬ  29/07 23:20  30/07 00:28  2000753  СЕВЕРОБАЙКАЛЬСК   2000753\n",
      " 1002505               НЕБЕЛЬ              ТАКОВКА  30/07 00:28  30/07 01:13  2000753  СЕВЕРОБАЙКАЛЬСК   2000753\n",
      " 1002505              ТАКОВКА                  НИЯ  30/07 01:13  30/07 01:42  2000753  СЕВЕРОБАЙКАЛЬСК   2000753\n",
      " 1002505                  НИЯ             ЗВЕЗДНАЯ  30/07 01:42  30/07 02:48  2000753  СЕВЕРОБАЙКАЛЬСК   2000753\n",
      " 1002505             ЗВЕЗДНАЯ            ЧУДНИЧНЫЙ  30/07 02:48  30/07 03:31  2000753  СЕВЕРОБАЙКАЛЬСК   2000753\n",
      " 1002505            ЧУДНИЧНЫЙ       ЛЕНА-ВОСТОЧНАЯ  30/07 03:31  30/07 04:05  2000753  СЕВЕРОБАЙКАЛЬСК   2000753\n",
      " 1002505       ЛЕНА-ВОСТОЧНАЯ               ЯКУРИМ  30/07 04:05  30/07 04:12  2000753  СЕВЕРОБАЙКАЛЬСК   2000753\n",
      " 1002505               ЯКУРИМ                 ЛЕНА  30/07 04:12  30/07 04:26  2000753  СЕВЕРОБАЙКАЛЬСК   2000753\n",
      " 1002505                 ЛЕНА            ХРЕБТОВАЯ  30/07 13:15  30/07 16:05  2000104  СЕВЕРОБАЙКАЛЬСК   2000753\n",
      " 1002505            ХРЕБТОВАЯ  КОРШУНИХА-АНГАРСКАЯ  30/07 16:05  30/07 16:39  2000104  СЕВЕРОБАЙКАЛЬСК   2000753\n",
      " 1002505  КОРШУНИХА-АНГАРСКАЯ       ГИДРОСТРОИТЕЛЬ  30/07 18:20  30/07 22:18  2000104  СЕВЕРОБАЙКАЛЬСК   2000753\n",
      " 1002505       ГИДРОСТРОИТЕЛЬ     ПАДУНСКИЕ ПОРОГИ  30/07 22:18  30/07 22:34  2000104  СЕВЕРОБАЙКАЛЬСК   2000753\n",
      " 1002505     ПАДУНСКИЕ ПОРОГИ          ГАЛАЧИНСКИЙ  30/07 22:34  30/07 22:57  2000104  СЕВЕРОБАЙКАЛЬСК   2000753\n",
      " 1002505          ГАЛАЧИНСКИЙ             МОРГУДОН  30/07 22:57  30/07 23:19  2000104  СЕВЕРОБАЙКАЛЬСК   2000753\n",
      " 1002505             МОРГУДОН            ВИХОРЕВКА  30/07 23:19  30/07 23:37  2000104  СЕВЕРОБАЙКАЛЬСК   2000753\n",
      " 1002505            ВИХОРЕВКА                ТУРМА  30/07 23:47  31/07 00:30  2000104  СЕВЕРОБАЙКАЛЬСК   2000753\n",
      " 1002505                ТУРМА                ТОРЕЯ  31/07 00:30  31/07 01:26  2000104  СЕВЕРОБАЙКАЛЬСК   2000753\n",
      " 1002505                ТОРЕЯ               ТАЙШЕТ  31/07 01:26  31/07 04:58  2000104  СЕВЕРОБАЙКАЛЬСК   2000753\n"
     ]
    }
   ],
   "source": [
    "# bad change stations\n",
    "bad_changes = st_change[st_change.st_to_name.isin(priority_change_stations) == False].sort_values('train', ascending=False)\n",
    "if not bad_changes.empty:\n",
    "    add_header('Всего %d поездов, у которых смена локомотива, скорее всего, происходит на неправильных станциях' \n",
    "               % bad_changes.train.sum())\n",
    "    add_header('Примеры таких станций:')\n",
    "    add_line(bad_changes.head(10))\n",
    "    add_line('')\n",
    "    cols = ['train', 'st_from_name', 'st_to_name', 'loco', 'next_loco', 'stop_time_h']\n",
    "    st = bad_changes.iloc[0].st_to_name\n",
    "    add_line('Поезда, у которых смена локомотива происходит на станции %s:' % st)\n",
    "    add_line(loco_change[loco_change.st_to_name == st][cols])\n",
    "\n",
    "    train_plan['loco_info'] = train_plan.train.map(loco_info.drop_duplicates('train').set_index('train').loco)\n",
    "    cols = ['train', 'st_from_name', 'st_to_name', 'time_start_f', 'time_end_f', 'loco', 'loc_name', 'loco_info']\n",
    "    add_line('')\n",
    "    add_header('Полный план по одному из таких поездов:')\n",
    "    with pd.option_context('display.max_colwidth', 20):\n",
    "        add_line(train_plan[train_plan.train == loco_change[loco_change.st_to_name == st].iloc[0].train][cols])\n",
    "else:\n",
    "    add_header('Нет поездов, у которых смена локомотивов происходит на неправильной станции')"
   ]
  },
  {
   "cell_type": "markdown",
   "metadata": {},
   "source": [
    "#### Ищем поезда со слишком долгой стоянкой для смены локомотивов"
   ]
  },
  {
   "cell_type": "code",
   "execution_count": 633,
   "metadata": {
    "collapsed": false
   },
   "outputs": [
    {
     "name": "stdout",
     "output_type": "stream",
     "text": [
      "Всего 18 случаев смены локомотива с длительной стоянкой. Примеры:\n",
      "   train st_from_name st_to_name     loco   time_end_f next_loco  stop_time_h\n",
      " 1002056         ЮРТЫ     ТАЙШЕТ  2001527  30/07 17:03   2000413        31.47\n",
      " 1002030         ЮРТЫ     ТАЙШЕТ  2001514  30/07 04:03   2000480        27.52\n",
      " 1002050         ЮРТЫ     ТАЙШЕТ  2001524  30/07 14:03   2000202        25.81\n",
      " 1002034         ЮРТЫ     ТАЙШЕТ  2001516  30/07 06:03   2000213        25.19\n",
      " 1002040         ЮРТЫ     ТАЙШЕТ  2001519  30/07 09:03   2000206        22.57\n",
      " 1002048         ЮРТЫ     ТАЙШЕТ  2001523  30/07 13:03   2000404        22.17\n",
      " 1002046         ЮРТЫ     ТАЙШЕТ  2001522  30/07 12:03   2000311        19.05\n",
      " 1002038         ЮРТЫ     ТАЙШЕТ  2001518  30/07 08:03   2000207        13.19\n",
      " 1002028         ЮРТЫ     ТАЙШЕТ  2001513  30/07 03:03   2000214        13.12\n",
      " 1002042         ЮРТЫ     ТАЙШЕТ  2001520  30/07 10:03   2000204        12.42\n",
      " 1002024         ЮРТЫ     ТАЙШЕТ  2001511  30/07 01:03   2000303         7.28\n",
      " 1002211        ТОРЕЯ     ТАЙШЕТ  2000211  29/07 18:49   2001505         6.18\n",
      " 1002026         ЮРТЫ     ТАЙШЕТ  2001512  30/07 02:03   2000313         5.95\n",
      " 1002213        ТОРЕЯ     ТАЙШЕТ  2000213  29/07 20:52   2001506         5.21\n",
      " 1002020         ЮРТЫ     ТАЙШЕТ  2001509  29/07 23:03   2000107         4.95\n",
      " 1002014         ЮРТЫ     ТАЙШЕТ  2001506  29/07 20:03   2000103         4.87\n",
      " 1002022         ЮРТЫ     ТАЙШЕТ  2001510  30/07 00:03   2000215         4.70\n",
      " 1002016         ЮРТЫ     ТАЙШЕТ  2001507  29/07 21:03   2000105         4.37\n"
     ]
    },
    {
     "data": {
      "text/html": [
       "<div>\n",
       "<table border=\"1\" class=\"dataframe\">\n",
       "  <thead>\n",
       "    <tr style=\"text-align: right;\">\n",
       "      <th></th>\n",
       "      <th>train</th>\n",
       "      <th>st_from_name</th>\n",
       "      <th>st_to_name</th>\n",
       "      <th>time_start_f</th>\n",
       "      <th>time_end_f</th>\n",
       "      <th>loco</th>\n",
       "    </tr>\n",
       "  </thead>\n",
       "  <tbody>\n",
       "    <tr>\n",
       "      <th>176</th>\n",
       "      <td>1002030</td>\n",
       "      <td>ЮРТЫ</td>\n",
       "      <td>ТАЙШЕТ</td>\n",
       "      <td>30/07 03:06</td>\n",
       "      <td>30/07 04:03</td>\n",
       "      <td>2001514</td>\n",
       "    </tr>\n",
       "    <tr>\n",
       "      <th>177</th>\n",
       "      <td>1002030</td>\n",
       "      <td>ТАЙШЕТ</td>\n",
       "      <td>ТОРЕЯ</td>\n",
       "      <td>31/07 07:34</td>\n",
       "      <td>31/07 11:44</td>\n",
       "      <td>2000480</td>\n",
       "    </tr>\n",
       "    <tr>\n",
       "      <th>178</th>\n",
       "      <td>1002030</td>\n",
       "      <td>ТОРЕЯ</td>\n",
       "      <td>ТУРМА</td>\n",
       "      <td>31/07 11:44</td>\n",
       "      <td>31/07 12:44</td>\n",
       "      <td>2000480</td>\n",
       "    </tr>\n",
       "    <tr>\n",
       "      <th>179</th>\n",
       "      <td>1002030</td>\n",
       "      <td>ТУРМА</td>\n",
       "      <td>ВИХОРЕВКА</td>\n",
       "      <td>31/07 12:44</td>\n",
       "      <td>31/07 13:14</td>\n",
       "      <td>2000480</td>\n",
       "    </tr>\n",
       "  </tbody>\n",
       "</table>\n",
       "</div>"
      ],
      "text/plain": [
       "       train st_from_name st_to_name time_start_f   time_end_f     loco\n",
       "176  1002030         ЮРТЫ     ТАЙШЕТ  30/07 03:06  30/07 04:03  2001514\n",
       "177  1002030       ТАЙШЕТ      ТОРЕЯ  31/07 07:34  31/07 11:44  2000480\n",
       "178  1002030        ТОРЕЯ      ТУРМА  31/07 11:44  31/07 12:44  2000480\n",
       "179  1002030        ТУРМА  ВИХОРЕВКА  31/07 12:44  31/07 13:14  2000480"
      ]
     },
     "execution_count": 633,
     "metadata": {},
     "output_type": "execute_result"
    }
   ],
   "source": [
    "cols = ['train', 'st_from_name', 'st_to_name', 'loco', 'time_end_f', 'next_loco', 'stop_time_h']\n",
    "long_change = loco_change[(loco_change.st_to_name.isin(priority_change_stations)) \n",
    "            & (loco_change.stop_time > MAX_LOCO_STOP)].sort_values('stop_time_h', ascending=False)\n",
    "add_header('Всего %d случаев смены локомотива с длительной стоянкой. Примеры:' % long_change.train.count())\n",
    "add_line(long_change.sort_values('stop_time', ascending=False)[cols].head(20))\n",
    "#train_id = long_change.sort_values('stop_time', ascending=False).iloc[2].train\n",
    "train_id = '1002030'\n",
    "cols = ['train', 'st_from_name', 'st_to_name', 'time_start_f', 'time_end_f', 'loco']\n",
    "train_plan[train_plan.train == train_id][cols]"
   ]
  },
  {
   "cell_type": "code",
   "execution_count": 569,
   "metadata": {
    "collapsed": false
   },
   "outputs": [
    {
     "data": {
      "text/plain": [
       "3.4402777777777778"
      ]
     },
     "execution_count": 569,
     "metadata": {},
     "output_type": "execute_result"
    }
   ],
   "source": [
    "ttimes = pd.read_csv(FOLDER + 'mandatory/travel_times.csv', index_col=0)\n",
    "tt = ttimes['ТОРЕЯ']['ТАЙШЕТ']\n",
    "(int(tt / (3600 * 7.2)) * 2 * 3600 + tt) / 3600\n",
    "tt / 3600"
   ]
  },
  {
   "cell_type": "code",
   "execution_count": 570,
   "metadata": {
    "collapsed": false
   },
   "outputs": [],
   "source": [
    "add_info(links)\n",
    "links['link_name'] = list(zip(links.st_from_name, links.st_to_name))\n",
    "loco_plan['link_name'] = list(zip(loco_plan.st_from_name, loco_plan.st_to_name))\n",
    "loco_plan['link_tt'] = loco_plan.link_name.map(links.set_index('link_name').time)"
   ]
  },
  {
   "cell_type": "code",
   "execution_count": 631,
   "metadata": {
    "collapsed": false
   },
   "outputs": [
    {
     "data": {
      "text/html": [
       "<div>\n",
       "<table border=\"1\" class=\"dataframe\">\n",
       "  <thead>\n",
       "    <tr style=\"text-align: right;\">\n",
       "      <th></th>\n",
       "      <th>loco</th>\n",
       "      <th>st_from_name</th>\n",
       "      <th>st_to_name</th>\n",
       "      <th>time_start_f</th>\n",
       "      <th>time_end_f</th>\n",
       "      <th>state</th>\n",
       "      <th>train</th>\n",
       "      <th>team</th>\n",
       "    </tr>\n",
       "  </thead>\n",
       "  <tbody>\n",
       "    <tr>\n",
       "      <th>1077</th>\n",
       "      <td>2000480</td>\n",
       "      <td>ЛЕНА</td>\n",
       "      <td>ХРЕБТОВАЯ</td>\n",
       "      <td>30/07 02:10</td>\n",
       "      <td>30/07 05:00</td>\n",
       "      <td>1</td>\n",
       "      <td>1002421</td>\n",
       "      <td>9271010</td>\n",
       "    </tr>\n",
       "    <tr>\n",
       "      <th>1078</th>\n",
       "      <td>2000480</td>\n",
       "      <td>ХРЕБТОВАЯ</td>\n",
       "      <td>КОРШУНИХА-АНГАРСКАЯ</td>\n",
       "      <td>30/07 05:00</td>\n",
       "      <td>30/07 05:34</td>\n",
       "      <td>1</td>\n",
       "      <td>1002421</td>\n",
       "      <td>9271010</td>\n",
       "    </tr>\n",
       "    <tr>\n",
       "      <th>1079</th>\n",
       "      <td>2000480</td>\n",
       "      <td>КОРШУНИХА-АНГАРСКАЯ</td>\n",
       "      <td>ГИДРОСТРОИТЕЛЬ</td>\n",
       "      <td>30/07 11:40</td>\n",
       "      <td>30/07 15:57</td>\n",
       "      <td>1</td>\n",
       "      <td>1002421</td>\n",
       "      <td>9244012</td>\n",
       "    </tr>\n",
       "    <tr>\n",
       "      <th>1080</th>\n",
       "      <td>2000480</td>\n",
       "      <td>ГИДРОСТРОИТЕЛЬ</td>\n",
       "      <td>ПАДУНСКИЕ ПОРОГИ</td>\n",
       "      <td>30/07 15:57</td>\n",
       "      <td>30/07 16:37</td>\n",
       "      <td>1</td>\n",
       "      <td>1002421</td>\n",
       "      <td>9244012</td>\n",
       "    </tr>\n",
       "    <tr>\n",
       "      <th>1081</th>\n",
       "      <td>2000480</td>\n",
       "      <td>ПАДУНСКИЕ ПОРОГИ</td>\n",
       "      <td>ГАЛАЧИНСКИЙ</td>\n",
       "      <td>30/07 16:37</td>\n",
       "      <td>30/07 17:00</td>\n",
       "      <td>1</td>\n",
       "      <td>1002421</td>\n",
       "      <td>9244012</td>\n",
       "    </tr>\n",
       "    <tr>\n",
       "      <th>1082</th>\n",
       "      <td>2000480</td>\n",
       "      <td>ГАЛАЧИНСКИЙ</td>\n",
       "      <td>МОРГУДОН</td>\n",
       "      <td>30/07 17:00</td>\n",
       "      <td>30/07 17:22</td>\n",
       "      <td>1</td>\n",
       "      <td>1002421</td>\n",
       "      <td>9244012</td>\n",
       "    </tr>\n",
       "    <tr>\n",
       "      <th>1083</th>\n",
       "      <td>2000480</td>\n",
       "      <td>МОРГУДОН</td>\n",
       "      <td>ВИХОРЕВКА</td>\n",
       "      <td>30/07 17:22</td>\n",
       "      <td>30/07 17:40</td>\n",
       "      <td>1</td>\n",
       "      <td>1002421</td>\n",
       "      <td>9244012</td>\n",
       "    </tr>\n",
       "    <tr>\n",
       "      <th>1084</th>\n",
       "      <td>2000480</td>\n",
       "      <td>ВИХОРЕВКА</td>\n",
       "      <td>ТУРМА</td>\n",
       "      <td>30/07 18:35</td>\n",
       "      <td>30/07 19:30</td>\n",
       "      <td>1</td>\n",
       "      <td>1002421</td>\n",
       "      <td>9200009</td>\n",
       "    </tr>\n",
       "    <tr>\n",
       "      <th>1085</th>\n",
       "      <td>2000480</td>\n",
       "      <td>ТУРМА</td>\n",
       "      <td>ТОРЕЯ</td>\n",
       "      <td>30/07 19:30</td>\n",
       "      <td>30/07 20:25</td>\n",
       "      <td>1</td>\n",
       "      <td>1002421</td>\n",
       "      <td>9200009</td>\n",
       "    </tr>\n",
       "    <tr>\n",
       "      <th>1086</th>\n",
       "      <td>2000480</td>\n",
       "      <td>ТОРЕЯ</td>\n",
       "      <td>ТАЙШЕТ</td>\n",
       "      <td>30/07 20:25</td>\n",
       "      <td>30/07 23:54</td>\n",
       "      <td>1</td>\n",
       "      <td>1002421</td>\n",
       "      <td>9200009</td>\n",
       "    </tr>\n",
       "    <tr>\n",
       "      <th>1087</th>\n",
       "      <td>2000480</td>\n",
       "      <td>ТАЙШЕТ</td>\n",
       "      <td>ТОРЕЯ</td>\n",
       "      <td>31/07 07:34</td>\n",
       "      <td>31/07 11:44</td>\n",
       "      <td>1</td>\n",
       "      <td>1002030</td>\n",
       "      <td>NaN</td>\n",
       "    </tr>\n",
       "    <tr>\n",
       "      <th>1088</th>\n",
       "      <td>2000480</td>\n",
       "      <td>ТОРЕЯ</td>\n",
       "      <td>ТУРМА</td>\n",
       "      <td>31/07 11:44</td>\n",
       "      <td>31/07 12:44</td>\n",
       "      <td>1</td>\n",
       "      <td>1002030</td>\n",
       "      <td>NaN</td>\n",
       "    </tr>\n",
       "    <tr>\n",
       "      <th>1089</th>\n",
       "      <td>2000480</td>\n",
       "      <td>ТУРМА</td>\n",
       "      <td>ВИХОРЕВКА</td>\n",
       "      <td>31/07 12:44</td>\n",
       "      <td>31/07 13:14</td>\n",
       "      <td>1</td>\n",
       "      <td>1002030</td>\n",
       "      <td>NaN</td>\n",
       "    </tr>\n",
       "  </tbody>\n",
       "</table>\n",
       "</div>"
      ],
      "text/plain": [
       "         loco         st_from_name           st_to_name time_start_f  \\\n",
       "1077  2000480                 ЛЕНА            ХРЕБТОВАЯ  30/07 02:10   \n",
       "1078  2000480            ХРЕБТОВАЯ  КОРШУНИХА-АНГАРСКАЯ  30/07 05:00   \n",
       "1079  2000480  КОРШУНИХА-АНГАРСКАЯ       ГИДРОСТРОИТЕЛЬ  30/07 11:40   \n",
       "1080  2000480       ГИДРОСТРОИТЕЛЬ     ПАДУНСКИЕ ПОРОГИ  30/07 15:57   \n",
       "1081  2000480     ПАДУНСКИЕ ПОРОГИ          ГАЛАЧИНСКИЙ  30/07 16:37   \n",
       "1082  2000480          ГАЛАЧИНСКИЙ             МОРГУДОН  30/07 17:00   \n",
       "1083  2000480             МОРГУДОН            ВИХОРЕВКА  30/07 17:22   \n",
       "1084  2000480            ВИХОРЕВКА                ТУРМА  30/07 18:35   \n",
       "1085  2000480                ТУРМА                ТОРЕЯ  30/07 19:30   \n",
       "1086  2000480                ТОРЕЯ               ТАЙШЕТ  30/07 20:25   \n",
       "1087  2000480               ТАЙШЕТ                ТОРЕЯ  31/07 07:34   \n",
       "1088  2000480                ТОРЕЯ                ТУРМА  31/07 11:44   \n",
       "1089  2000480                ТУРМА            ВИХОРЕВКА  31/07 12:44   \n",
       "\n",
       "       time_end_f  state    train     team  \n",
       "1077  30/07 05:00      1  1002421  9271010  \n",
       "1078  30/07 05:34      1  1002421  9271010  \n",
       "1079  30/07 15:57      1  1002421  9244012  \n",
       "1080  30/07 16:37      1  1002421  9244012  \n",
       "1081  30/07 17:00      1  1002421  9244012  \n",
       "1082  30/07 17:22      1  1002421  9244012  \n",
       "1083  30/07 17:40      1  1002421  9244012  \n",
       "1084  30/07 19:30      1  1002421  9200009  \n",
       "1085  30/07 20:25      1  1002421  9200009  \n",
       "1086  30/07 23:54      1  1002421  9200009  \n",
       "1087  31/07 11:44      1  1002030      NaN  \n",
       "1088  31/07 12:44      1  1002030      NaN  \n",
       "1089  31/07 13:14      1  1002030      NaN  "
      ]
     },
     "execution_count": 631,
     "metadata": {},
     "output_type": "execute_result"
    }
   ],
   "source": [
    "loco_plan[loco_plan.loco == '2000480'][['loco', 'st_from_name', 'st_to_name', 'time_start_f', 'time_end_f', \n",
    "                                        'state', 'train', 'team']]"
   ]
  },
  {
   "cell_type": "code",
   "execution_count": 635,
   "metadata": {
    "collapsed": false
   },
   "outputs": [
    {
     "data": {
      "text/html": [
       "<div>\n",
       "<table border=\"1\" class=\"dataframe\">\n",
       "  <thead>\n",
       "    <tr style=\"text-align: right;\">\n",
       "      <th></th>\n",
       "      <th>team</th>\n",
       "      <th>st_from_name</th>\n",
       "      <th>st_to_name</th>\n",
       "      <th>time_start_f</th>\n",
       "      <th>time_end_f</th>\n",
       "      <th>state</th>\n",
       "      <th>loco</th>\n",
       "    </tr>\n",
       "  </thead>\n",
       "  <tbody>\n",
       "    <tr>\n",
       "      <th>637</th>\n",
       "      <td>9257018</td>\n",
       "      <td>КОРШУНИХА-АНГАРСКАЯ</td>\n",
       "      <td>КОРШУНИХА-АНГАРСКАЯ</td>\n",
       "      <td>30/07 10:24</td>\n",
       "      <td>30/07 12:10</td>\n",
       "      <td>2</td>\n",
       "      <td>-1</td>\n",
       "    </tr>\n",
       "    <tr>\n",
       "      <th>638</th>\n",
       "      <td>9257018</td>\n",
       "      <td>КОРШУНИХА-АНГАРСКАЯ</td>\n",
       "      <td>ХРЕБТОВАЯ</td>\n",
       "      <td>30/07 12:10</td>\n",
       "      <td>30/07 12:51</td>\n",
       "      <td>1</td>\n",
       "      <td>2000101</td>\n",
       "    </tr>\n",
       "    <tr>\n",
       "      <th>639</th>\n",
       "      <td>9257018</td>\n",
       "      <td>ХРЕБТОВАЯ</td>\n",
       "      <td>ЛЕНА</td>\n",
       "      <td>30/07 12:51</td>\n",
       "      <td>30/07 15:23</td>\n",
       "      <td>1</td>\n",
       "      <td>2000101</td>\n",
       "    </tr>\n",
       "    <tr>\n",
       "      <th>640</th>\n",
       "      <td>9257018</td>\n",
       "      <td>ЛЕНА</td>\n",
       "      <td>ЛЕНА</td>\n",
       "      <td>30/07 15:53</td>\n",
       "      <td>30/07 18:53</td>\n",
       "      <td>4</td>\n",
       "      <td>-1</td>\n",
       "    </tr>\n",
       "  </tbody>\n",
       "</table>\n",
       "</div>"
      ],
      "text/plain": [
       "        team         st_from_name           st_to_name time_start_f  \\\n",
       "637  9257018  КОРШУНИХА-АНГАРСКАЯ  КОРШУНИХА-АНГАРСКАЯ  30/07 10:24   \n",
       "638  9257018  КОРШУНИХА-АНГАРСКАЯ            ХРЕБТОВАЯ  30/07 12:10   \n",
       "639  9257018            ХРЕБТОВАЯ                 ЛЕНА  30/07 12:51   \n",
       "640  9257018                 ЛЕНА                 ЛЕНА  30/07 15:53   \n",
       "\n",
       "      time_end_f  state     loco  \n",
       "637  30/07 12:10      2       -1  \n",
       "638  30/07 12:51      1  2000101  \n",
       "639  30/07 15:23      1  2000101  \n",
       "640  30/07 18:53      4       -1  "
      ]
     },
     "execution_count": 635,
     "metadata": {},
     "output_type": "execute_result"
    }
   ],
   "source": [
    "team_plan[team_plan.team == '9257018'][['team', 'st_from_name', 'st_to_name', 'time_start_f', 'time_end_f', 'state', 'loco']]"
   ]
  },
  {
   "cell_type": "code",
   "execution_count": 644,
   "metadata": {
    "collapsed": false
   },
   "outputs": [
    {
     "data": {
      "text/html": [
       "<div>\n",
       "<table border=\"1\" class=\"dataframe\">\n",
       "  <thead>\n",
       "    <tr style=\"text-align: right;\">\n",
       "      <th></th>\n",
       "      <th>slot</th>\n",
       "      <th>time_start_f</th>\n",
       "    </tr>\n",
       "  </thead>\n",
       "  <tbody>\n",
       "    <tr>\n",
       "      <th>12056</th>\n",
       "      <td>200253963651</td>\n",
       "      <td>29/07 05:13</td>\n",
       "    </tr>\n",
       "    <tr>\n",
       "      <th>8186</th>\n",
       "      <td>200253983846</td>\n",
       "      <td>29/07 06:13</td>\n",
       "    </tr>\n",
       "    <tr>\n",
       "      <th>9537</th>\n",
       "      <td>200253973824</td>\n",
       "      <td>29/07 07:25</td>\n",
       "    </tr>\n",
       "    <tr>\n",
       "      <th>4913</th>\n",
       "      <td>200253963837</td>\n",
       "      <td>29/07 08:21</td>\n",
       "    </tr>\n",
       "    <tr>\n",
       "      <th>21962</th>\n",
       "      <td>200254014011</td>\n",
       "      <td>29/07 09:25</td>\n",
       "    </tr>\n",
       "    <tr>\n",
       "      <th>5783</th>\n",
       "      <td>200253983847</td>\n",
       "      <td>29/07 11:13</td>\n",
       "    </tr>\n",
       "    <tr>\n",
       "      <th>24423</th>\n",
       "      <td>200254023867</td>\n",
       "      <td>29/07 12:16</td>\n",
       "    </tr>\n",
       "    <tr>\n",
       "      <th>278</th>\n",
       "      <td>200253953573</td>\n",
       "      <td>29/07 13:18</td>\n",
       "    </tr>\n",
       "    <tr>\n",
       "      <th>25909</th>\n",
       "      <td>200254024062</td>\n",
       "      <td>29/07 14:02</td>\n",
       "    </tr>\n",
       "    <tr>\n",
       "      <th>27532</th>\n",
       "      <td>200254033730</td>\n",
       "      <td>29/07 16:02</td>\n",
       "    </tr>\n",
       "    <tr>\n",
       "      <th>16873</th>\n",
       "      <td>200254003852</td>\n",
       "      <td>29/07 17:00</td>\n",
       "    </tr>\n",
       "    <tr>\n",
       "      <th>505</th>\n",
       "      <td>200253953609</td>\n",
       "      <td>29/07 18:10</td>\n",
       "    </tr>\n",
       "    <tr>\n",
       "      <th>30493</th>\n",
       "      <td>200254034142</td>\n",
       "      <td>29/07 19:10</td>\n",
       "    </tr>\n",
       "    <tr>\n",
       "      <th>3849</th>\n",
       "      <td>200253973753</td>\n",
       "      <td>29/07 19:27</td>\n",
       "    </tr>\n",
       "    <tr>\n",
       "      <th>31913</th>\n",
       "      <td>200254034346</td>\n",
       "      <td>29/07 20:58</td>\n",
       "    </tr>\n",
       "    <tr>\n",
       "      <th>6069</th>\n",
       "      <td>200253973721</td>\n",
       "      <td>29/07 21:59</td>\n",
       "    </tr>\n",
       "    <tr>\n",
       "      <th>3769</th>\n",
       "      <td>200253973664</td>\n",
       "      <td>29/07 23:28</td>\n",
       "    </tr>\n",
       "    <tr>\n",
       "      <th>36105</th>\n",
       "      <td>200254323280</td>\n",
       "      <td>30/07 02:14</td>\n",
       "    </tr>\n",
       "    <tr>\n",
       "      <th>130</th>\n",
       "      <td>200253944329</td>\n",
       "      <td>30/07 03:19</td>\n",
       "    </tr>\n",
       "    <tr>\n",
       "      <th>1440</th>\n",
       "      <td>200253953617</td>\n",
       "      <td>30/07 05:13</td>\n",
       "    </tr>\n",
       "    <tr>\n",
       "      <th>2755</th>\n",
       "      <td>200253963703</td>\n",
       "      <td>30/07 06:13</td>\n",
       "    </tr>\n",
       "    <tr>\n",
       "      <th>19631</th>\n",
       "      <td>200254013726</td>\n",
       "      <td>30/07 07:25</td>\n",
       "    </tr>\n",
       "    <tr>\n",
       "      <th>11504</th>\n",
       "      <td>200253973866</td>\n",
       "      <td>30/07 08:21</td>\n",
       "    </tr>\n",
       "    <tr>\n",
       "      <th>41648</th>\n",
       "      <td>200254343895</td>\n",
       "      <td>30/07 09:25</td>\n",
       "    </tr>\n",
       "    <tr>\n",
       "      <th>23449</th>\n",
       "      <td>200254023728</td>\n",
       "      <td>30/07 11:13</td>\n",
       "    </tr>\n",
       "    <tr>\n",
       "      <th>43467</th>\n",
       "      <td>200254353751</td>\n",
       "      <td>30/07 12:16</td>\n",
       "    </tr>\n",
       "    <tr>\n",
       "      <th>24075</th>\n",
       "      <td>200254023825</td>\n",
       "      <td>30/07 13:18</td>\n",
       "    </tr>\n",
       "    <tr>\n",
       "      <th>44510</th>\n",
       "      <td>200254353946</td>\n",
       "      <td>30/07 14:02</td>\n",
       "    </tr>\n",
       "    <tr>\n",
       "      <th>45642</th>\n",
       "      <td>200254363614</td>\n",
       "      <td>30/07 16:02</td>\n",
       "    </tr>\n",
       "    <tr>\n",
       "      <th>37721</th>\n",
       "      <td>200254333145</td>\n",
       "      <td>30/07 17:00</td>\n",
       "    </tr>\n",
       "    <tr>\n",
       "      <th>21</th>\n",
       "      <td>200253944320</td>\n",
       "      <td>30/07 18:10</td>\n",
       "    </tr>\n",
       "    <tr>\n",
       "      <th>47314</th>\n",
       "      <td>200254364026</td>\n",
       "      <td>30/07 19:10</td>\n",
       "    </tr>\n",
       "    <tr>\n",
       "      <th>845</th>\n",
       "      <td>200253953638</td>\n",
       "      <td>30/07 19:27</td>\n",
       "    </tr>\n",
       "    <tr>\n",
       "      <th>47940</th>\n",
       "      <td>200254364230</td>\n",
       "      <td>30/07 20:58</td>\n",
       "    </tr>\n",
       "  </tbody>\n",
       "</table>\n",
       "</div>"
      ],
      "text/plain": [
       "               slot time_start_f\n",
       "12056  200253963651  29/07 05:13\n",
       "8186   200253983846  29/07 06:13\n",
       "9537   200253973824  29/07 07:25\n",
       "4913   200253963837  29/07 08:21\n",
       "21962  200254014011  29/07 09:25\n",
       "5783   200253983847  29/07 11:13\n",
       "24423  200254023867  29/07 12:16\n",
       "278    200253953573  29/07 13:18\n",
       "25909  200254024062  29/07 14:02\n",
       "27532  200254033730  29/07 16:02\n",
       "16873  200254003852  29/07 17:00\n",
       "505    200253953609  29/07 18:10\n",
       "30493  200254034142  29/07 19:10\n",
       "3849   200253973753  29/07 19:27\n",
       "31913  200254034346  29/07 20:58\n",
       "6069   200253973721  29/07 21:59\n",
       "3769   200253973664  29/07 23:28\n",
       "36105  200254323280  30/07 02:14\n",
       "130    200253944329  30/07 03:19\n",
       "1440   200253953617  30/07 05:13\n",
       "2755   200253963703  30/07 06:13\n",
       "19631  200254013726  30/07 07:25\n",
       "11504  200253973866  30/07 08:21\n",
       "41648  200254343895  30/07 09:25\n",
       "23449  200254023728  30/07 11:13\n",
       "43467  200254353751  30/07 12:16\n",
       "24075  200254023825  30/07 13:18\n",
       "44510  200254353946  30/07 14:02\n",
       "45642  200254363614  30/07 16:02\n",
       "37721  200254333145  30/07 17:00\n",
       "21     200253944320  30/07 18:10\n",
       "47314  200254364026  30/07 19:10\n",
       "845    200253953638  30/07 19:27\n",
       "47940  200254364230  30/07 20:58"
      ]
     },
     "execution_count": 644,
     "metadata": {},
     "output_type": "execute_result"
    }
   ],
   "source": [
    "slot[(slot.st_from_name == 'ЛЕНА') & (slot.st_to_name == 'ХРЕБТОВАЯ')].sort_values('time_start')[['slot', 'time_start_f']]"
   ]
  },
  {
   "cell_type": "markdown",
   "metadata": {},
   "source": [
    "<a id='stop_team'></a>\n",
    "### Смена бригад [ToC](#toc)"
   ]
  },
  {
   "cell_type": "code",
   "execution_count": 572,
   "metadata": {
    "collapsed": true
   },
   "outputs": [],
   "source": [
    "add_header('Анализ смен бригад на маршрутах поездов', h=2, p=False)"
   ]
  },
  {
   "cell_type": "code",
   "execution_count": 573,
   "metadata": {
    "collapsed": true
   },
   "outputs": [],
   "source": [
    "team_change = train_plan[(train_plan.loco_end == False) & (train_plan.team_end == True)\n",
    "                        & (train_plan.time_end < current_time + hor)]"
   ]
  },
  {
   "cell_type": "code",
   "execution_count": 574,
   "metadata": {
    "collapsed": false
   },
   "outputs": [
    {
     "name": "stdout",
     "output_type": "stream",
     "text": [
      "Средние времена на смену бригады:\n",
      "- по всем сменам: 3.42 ч.\n",
      "- по всем сменам с ненулевым временем: 3.48 ч.\n"
     ]
    }
   ],
   "source": [
    "add_header('Средние времена на смену бригады:')\n",
    "add_line('- по всем сменам: %.2f ч.' % team_change.stop_time_h.mean())\n",
    "add_line('- по всем сменам с ненулевым временем: %.2f ч.' % team_change[team_change.stop_time_h > 0].stop_time_h.mean())"
   ]
  },
  {
   "cell_type": "markdown",
   "metadata": {},
   "source": [
    "#### Ищем поезда, у которых смена бригады происходит за маленькое время"
   ]
  },
  {
   "cell_type": "code",
   "execution_count": 575,
   "metadata": {
    "collapsed": false
   },
   "outputs": [
    {
     "name": "stdout",
     "output_type": "stream",
     "text": [
      "Всего 1 поездов, для которых смена бригад происходит за слишком маленькое время. Примеры:\n",
      "   train     st_from_name  st_to_name     team next_team  stop_time_h\n",
      " 1002524  СЕВЕРОБАЙКАЛЬСК  НОВЫЙ УОЯН  9044002   9044010            0\n",
      "\n",
      "Полный план по одному из таких поездов:\n",
      "   train     st_from_name  st_to_name time_start_f   time_end_f     loco     team\n",
      " 1002524  СЕВЕРОБАЙКАЛЬСК  НОВЫЙ УОЯН  30/07 08:05  30/07 11:13  2000481  9044002\n",
      " 1002524       НОВЫЙ УОЯН   АНГАРАКАН  30/07 11:13  30/07 13:26  2000481  9044010\n",
      " 1002524        АНГАРАКАН    КАЗАНКАН  30/07 13:26  30/07 14:26  2000481  9044010\n",
      " 1002524         КАЗАНКАН     ТАКСИМО  30/07 14:26  30/07 16:28  2000481  9044010\n"
     ]
    }
   ],
   "source": [
    "cols = ['train', 'st_from_name', 'st_to_name', 'team', 'next_team', 'stop_time_h']\n",
    "nill_stop_times = team_change[team_change.stop_time < MIN_TEAM_STOP]\n",
    "if not nill_stop_times.empty:\n",
    "    add_header('Всего %d поездов, для которых смена бригад происходит за слишком маленькое время. Примеры:' \n",
    "               % nill_stop_times.train.count())\n",
    "    add_line(nill_stop_times.sort_values('stop_time')[cols].head())\n",
    "    cols = ['train', 'st_from_name', 'st_to_name', 'time_start_f', 'time_end_f', 'loco', 'team']\n",
    "    add_line('')\n",
    "    add_header('Полный план по одному из таких поездов:')\n",
    "    for train in nill_stop_times.train.values[:1]:\n",
    "        add_line(train_plan[train_plan.train == train][cols])\n",
    "else:\n",
    "    add_header('Нет поездов, для которых смена бригад происходит за слишком маленькое время')"
   ]
  },
  {
   "cell_type": "markdown",
   "metadata": {},
   "source": [
    "#### Ищем поезда со слишком долгой стоянкой для смены бригады"
   ]
  },
  {
   "cell_type": "code",
   "execution_count": 576,
   "metadata": {
    "collapsed": false
   },
   "outputs": [],
   "source": [
    "a = team_change.st_to_name.value_counts()\n",
    "#lim = a.describe()['75%']\n",
    "#st_change = list(a[a >= lim].index)\n",
    "st_change = list(a.sort_values(ascending=False).head(10).index)"
   ]
  },
  {
   "cell_type": "code",
   "execution_count": 577,
   "metadata": {
    "collapsed": false
   },
   "outputs": [
    {
     "name": "stdout",
     "output_type": "stream",
     "text": [
      "Среднее время на смену бригады на станциях с большим количеством смен:\n",
      "st_to_name\n",
      "СЕВЕРОБАЙКАЛЬСК        4.796875\n",
      "КОРШУНИХА-АНГАРСКАЯ    3.649091\n",
      "ВИХОРЕВКА              2.658500\n",
      "НОВЫЙ УОЯН             2.565455\n"
     ]
    },
    {
     "data": {
      "text/plain": [
       "<matplotlib.text.Text at 0x1ef8524bb00>"
      ]
     },
     "execution_count": 577,
     "metadata": {},
     "output_type": "execute_result"
    },
    {
     "data": {
      "image/png": "[encoded data removed]",
      "text/plain": [
       "<matplotlib.figure.Figure at 0x1eff3689a58>"
      ]
     },
     "metadata": {},
     "output_type": "display_data"
    }
   ],
   "source": [
    "often_changes = team_change[team_change.st_to_name.isin(st_change)].copy()\n",
    "often_changes['num'] = often_changes.st_to_name.map(a)\n",
    "often_changes = often_changes.sort_values('num', ascending=False)\n",
    "add_header('Среднее время на смену бригады на станциях с большим количеством смен:')\n",
    "add_line(often_changes.groupby('st_to_name').stop_time_h.mean().sort_values(ascending=False).head(10))\n",
    "sns.set(style='whitegrid', context='notebook', palette='muted', color_codes=True)\n",
    "plt.figure(figsize=(10, .6 * len(st_change)))\n",
    "sns.boxplot(x='stop_time_h', y='st_to_name', data=often_changes, whis=np.inf, color='c', width=0.5)\n",
    "sns.stripplot(x='stop_time_h', y='st_to_name', data=often_changes, jitter=True, size=3, color='b')\n",
    "plt.xlabel('Время на смену бригады')\n",
    "plt.ylabel('')"
   ]
  },
  {
   "cell_type": "code",
   "execution_count": 578,
   "metadata": {
    "collapsed": false
   },
   "outputs": [
    {
     "name": "stdout",
     "output_type": "stream",
     "text": [
      "Всего 36 случаев смены бригад с длительной стоянкой. Примеры:\n",
      "   train    st_from_name           st_to_name     team next_team  stop_time_h\n",
      " 1002427       ХРЕБТОВАЯ  КОРШУНИХА-АНГАРСКАЯ  9244032   9244025         9.52\n",
      " 1002711      НОВЫЙ УОЯН      СЕВЕРОБАЙКАЛЬСК  9032050   9032016         8.56\n",
      " 1002701      НОВЫЙ УОЯН      СЕВЕРОБАЙКАЛЬСК  9032021   9032434         8.15\n",
      " 1002621      НОВЫЙ УОЯН      СЕВЕРОБАЙКАЛЬСК  9032036   9032432         8.04\n",
      " 1002603      НОВЫЙ УОЯН      СЕВЕРОБАЙКАЛЬСК  9044002   9032429         7.11\n",
      " 1002721       АНГАРАКАН           НОВЫЙ УОЯН  9044011   9032014         6.10\n",
      " 1002421       ХРЕБТОВАЯ  КОРШУНИХА-АНГАРСКАЯ  9271010   9244012         6.10\n",
      " 1002703       АНГАРАКАН           НОВЫЙ УОЯН  9044010   9032013         6.02\n",
      " 1002615      НОВЫЙ УОЯН      СЕВЕРОБАЙКАЛЬСК  9032025   9032012         5.86\n",
      " 1002114           ТУРМА            ВИХОРЕВКА  9244003   9244015         5.84\n",
      " 1002601      НОВЫЙ УОЯН      СЕВЕРОБАЙКАЛЬСК  9032028   9032431         5.40\n",
      " 1002120           ТУРМА            ВИХОРЕВКА  9200024   9244016         5.28\n",
      " 1002112           ТУРМА            ВИХОРЕВКА  9200022   9244012         5.27\n",
      " 1002412             ТЫЯ      СЕВЕРОБАЙКАЛЬСК  9271025   9032419         5.17\n",
      " 1002313        МОРГУДОН            ВИХОРЕВКА  9244030   9244014         4.80\n",
      " 1002118           ТУРМА            ВИХОРЕВКА  9244004   9257005         4.58\n",
      " 1002613      НОВЫЙ УОЯН      СЕВЕРОБАЙКАЛЬСК  9032024   9032418         4.53\n",
      " 1002725       АНГАРАКАН           НОВЫЙ УОЯН  9044013   9032009         4.35\n",
      " 1002212  ГИДРОСТРОИТЕЛЬ  КОРШУНИХА-АНГАРСКАЯ  9244029   9257010         4.35\n",
      " 1002413       ХРЕБТОВАЯ  КОРШУНИХА-АНГАРСКАЯ  9257027   9244044         4.22\n",
      "\n",
      "Полный план по одному из таких поездов:\n",
      "   train         st_from_name           st_to_name time_start_f   time_end_f     loco     team\n",
      " 1002427                 ЛЕНА            ХРЕБТОВАЯ  30/07 07:25  30/07 10:15  2000415  9244032\n",
      " 1002427            ХРЕБТОВАЯ  КОРШУНИХА-АНГАРСКАЯ  30/07 10:15  30/07 10:49  2000415  9244032\n",
      " 1002427  КОРШУНИХА-АНГАРСКАЯ       ГИДРОСТРОИТЕЛЬ  30/07 20:20  31/07 00:18  2000415  9244025\n",
      " 1002427       ГИДРОСТРОИТЕЛЬ     ПАДУНСКИЕ ПОРОГИ  31/07 00:18  31/07 00:45  2000415  9244025\n",
      " 1002427     ПАДУНСКИЕ ПОРОГИ          ГАЛАЧИНСКИЙ  31/07 00:45  31/07 01:08  2000415  9244025\n",
      " 1002427          ГАЛАЧИНСКИЙ             МОРГУДОН  31/07 01:08  31/07 01:42  2000415  9244025\n",
      " 1002427             МОРГУДОН            ВИХОРЕВКА  31/07 01:42  31/07 02:00  2000415  9244025\n",
      " 1002427            ВИХОРЕВКА                ТУРМА  31/07 03:46  31/07 04:38  2000415       -1\n",
      " 1002427                ТУРМА                ТОРЕЯ  31/07 04:38  31/07 05:34  2000415       -1\n",
      " 1002427                ТОРЕЯ               ТАЙШЕТ  31/07 05:34  31/07 09:06  2000415       -1\n",
      " 1002427               ТАЙШЕТ                 ЮРТЫ  31/07 11:24  31/07 12:03  2001527       -1\n",
      "\n",
      "Станции, на которых чаще всего происходили длительные стоянки на смену бригад:\n",
      "СЕВЕРОБАЙКАЛЬСК        14\n",
      "ВИХОРЕВКА              10\n",
      "КОРШУНИХА-АНГАРСКАЯ     7\n",
      "НОВЫЙ УОЯН              5\n"
     ]
    }
   ],
   "source": [
    "cols = ['train', 'st_from_name', 'st_to_name', 'team', 'next_team', 'stop_time_h']\n",
    "long_change = team_change[team_change.stop_time > MAX_TEAM_STOP].sort_values('stop_time', ascending=False)[cols]\n",
    "if not long_change.empty:\n",
    "    add_header('Всего %d случаев смены бригад с длительной стоянкой. Примеры:' % long_change.train.count())\n",
    "    add_line(long_change[cols].head(20))\n",
    "    add_line('')\n",
    "    cols = ['train', 'st_from_name', 'st_to_name', 'time_start_f', 'time_end_f', 'loco', 'team']\n",
    "    add_header('Полный план по одному из таких поездов:')\n",
    "    for train in long_change.train.values[:1]:\n",
    "        add_line(train_plan[train_plan.train == train][cols])\n",
    "    add_line('')\n",
    "    add_header('Станции, на которых чаще всего происходили длительные стоянки на смену бригад:')\n",
    "    add_line(long_change.st_to_name.value_counts().head(10))\n",
    "else:\n",
    "    add_header('Нет поездов, у которых смена бригады происходит более 6 часов')"
   ]
  },
  {
   "cell_type": "code",
   "execution_count": 579,
   "metadata": {
    "collapsed": false
   },
   "outputs": [
    {
     "data": {
      "text/html": [
       "<div>\n",
       "<table border=\"1\" class=\"dataframe\">\n",
       "  <thead>\n",
       "    <tr style=\"text-align: right;\">\n",
       "      <th></th>\n",
       "      <th>loco</th>\n",
       "      <th>st_from_name</th>\n",
       "      <th>st_to_name</th>\n",
       "      <th>time_start_f</th>\n",
       "      <th>time_end_f</th>\n",
       "      <th>state</th>\n",
       "      <th>train</th>\n",
       "    </tr>\n",
       "  </thead>\n",
       "  <tbody>\n",
       "    <tr>\n",
       "      <th>1549</th>\n",
       "      <td>2000102</td>\n",
       "      <td>ТАЙШЕТ</td>\n",
       "      <td>ТОРЕЯ</td>\n",
       "      <td>29/07 23:25</td>\n",
       "      <td>30/07 03:28</td>\n",
       "      <td>1</td>\n",
       "      <td>1002102</td>\n",
       "    </tr>\n",
       "    <tr>\n",
       "      <th>1550</th>\n",
       "      <td>2000102</td>\n",
       "      <td>ТОРЕЯ</td>\n",
       "      <td>ТУРМА</td>\n",
       "      <td>30/07 03:28</td>\n",
       "      <td>30/07 04:27</td>\n",
       "      <td>1</td>\n",
       "      <td>1002102</td>\n",
       "    </tr>\n",
       "    <tr>\n",
       "      <th>1551</th>\n",
       "      <td>2000102</td>\n",
       "      <td>ТУРМА</td>\n",
       "      <td>ВИХОРЕВКА</td>\n",
       "      <td>30/07 04:27</td>\n",
       "      <td>30/07 04:57</td>\n",
       "      <td>1</td>\n",
       "      <td>1002102</td>\n",
       "    </tr>\n",
       "    <tr>\n",
       "      <th>1552</th>\n",
       "      <td>2000102</td>\n",
       "      <td>ВИХОРЕВКА</td>\n",
       "      <td>МОРГУДОН</td>\n",
       "      <td>30/07 06:20</td>\n",
       "      <td>30/07 06:39</td>\n",
       "      <td>1</td>\n",
       "      <td>1002102</td>\n",
       "    </tr>\n",
       "    <tr>\n",
       "      <th>1553</th>\n",
       "      <td>2000102</td>\n",
       "      <td>МОРГУДОН</td>\n",
       "      <td>ГАЛАЧИНСКИЙ</td>\n",
       "      <td>30/07 06:39</td>\n",
       "      <td>30/07 07:35</td>\n",
       "      <td>1</td>\n",
       "      <td>1002102</td>\n",
       "    </tr>\n",
       "    <tr>\n",
       "      <th>1554</th>\n",
       "      <td>2000102</td>\n",
       "      <td>ГАЛАЧИНСКИЙ</td>\n",
       "      <td>ПАДУНСКИЕ ПОРОГИ</td>\n",
       "      <td>30/07 07:35</td>\n",
       "      <td>30/07 08:00</td>\n",
       "      <td>1</td>\n",
       "      <td>1002102</td>\n",
       "    </tr>\n",
       "    <tr>\n",
       "      <th>1555</th>\n",
       "      <td>2000102</td>\n",
       "      <td>ПАДУНСКИЕ ПОРОГИ</td>\n",
       "      <td>ГИДРОСТРОИТЕЛЬ</td>\n",
       "      <td>30/07 08:00</td>\n",
       "      <td>30/07 08:15</td>\n",
       "      <td>1</td>\n",
       "      <td>1002102</td>\n",
       "    </tr>\n",
       "    <tr>\n",
       "      <th>1556</th>\n",
       "      <td>2000102</td>\n",
       "      <td>ГИДРОСТРОИТЕЛЬ</td>\n",
       "      <td>КОРШУНИХА-АНГАРСКАЯ</td>\n",
       "      <td>30/07 08:15</td>\n",
       "      <td>30/07 12:14</td>\n",
       "      <td>1</td>\n",
       "      <td>1002102</td>\n",
       "    </tr>\n",
       "    <tr>\n",
       "      <th>1557</th>\n",
       "      <td>2000102</td>\n",
       "      <td>КОРШУНИХА-АНГАРСКАЯ</td>\n",
       "      <td>ХРЕБТОВАЯ</td>\n",
       "      <td>30/07 15:17</td>\n",
       "      <td>30/07 15:58</td>\n",
       "      <td>0</td>\n",
       "      <td>88880000074678</td>\n",
       "    </tr>\n",
       "    <tr>\n",
       "      <th>1558</th>\n",
       "      <td>2000102</td>\n",
       "      <td>ХРЕБТОВАЯ</td>\n",
       "      <td>ЛЕНА</td>\n",
       "      <td>30/07 15:58</td>\n",
       "      <td>30/07 18:30</td>\n",
       "      <td>0</td>\n",
       "      <td>88880000074678</td>\n",
       "    </tr>\n",
       "    <tr>\n",
       "      <th>1559</th>\n",
       "      <td>2000102</td>\n",
       "      <td>ЛЕНА</td>\n",
       "      <td>ЛЕНА</td>\n",
       "      <td>30/07 18:30</td>\n",
       "      <td>30/07 21:30</td>\n",
       "      <td>4</td>\n",
       "      <td>-1</td>\n",
       "    </tr>\n",
       "    <tr>\n",
       "      <th>1560</th>\n",
       "      <td>2000102</td>\n",
       "      <td>ЛЕНА</td>\n",
       "      <td>ХРЕБТОВАЯ</td>\n",
       "      <td>31/07 07:00</td>\n",
       "      <td>31/07 09:54</td>\n",
       "      <td>1</td>\n",
       "      <td>1002721</td>\n",
       "    </tr>\n",
       "    <tr>\n",
       "      <th>1561</th>\n",
       "      <td>2000102</td>\n",
       "      <td>ХРЕБТОВАЯ</td>\n",
       "      <td>КОРШУНИХА-АНГАРСКАЯ</td>\n",
       "      <td>31/07 09:54</td>\n",
       "      <td>31/07 10:28</td>\n",
       "      <td>1</td>\n",
       "      <td>1002721</td>\n",
       "    </tr>\n",
       "    <tr>\n",
       "      <th>1562</th>\n",
       "      <td>2000102</td>\n",
       "      <td>КОРШУНИХА-АНГАРСКАЯ</td>\n",
       "      <td>ГИДРОСТРОИТЕЛЬ</td>\n",
       "      <td>31/07 10:28</td>\n",
       "      <td>31/07 14:41</td>\n",
       "      <td>1</td>\n",
       "      <td>1002721</td>\n",
       "    </tr>\n",
       "    <tr>\n",
       "      <th>1563</th>\n",
       "      <td>2000102</td>\n",
       "      <td>ГИДРОСТРОИТЕЛЬ</td>\n",
       "      <td>ПАДУНСКИЕ ПОРОГИ</td>\n",
       "      <td>31/07 14:41</td>\n",
       "      <td>31/07 15:08</td>\n",
       "      <td>1</td>\n",
       "      <td>1002721</td>\n",
       "    </tr>\n",
       "    <tr>\n",
       "      <th>1564</th>\n",
       "      <td>2000102</td>\n",
       "      <td>ПАДУНСКИЕ ПОРОГИ</td>\n",
       "      <td>ГАЛАЧИНСКИЙ</td>\n",
       "      <td>31/07 15:08</td>\n",
       "      <td>31/07 15:31</td>\n",
       "      <td>1</td>\n",
       "      <td>1002721</td>\n",
       "    </tr>\n",
       "    <tr>\n",
       "      <th>1565</th>\n",
       "      <td>2000102</td>\n",
       "      <td>ГАЛАЧИНСКИЙ</td>\n",
       "      <td>МОРГУДОН</td>\n",
       "      <td>31/07 15:31</td>\n",
       "      <td>31/07 16:05</td>\n",
       "      <td>1</td>\n",
       "      <td>1002721</td>\n",
       "    </tr>\n",
       "    <tr>\n",
       "      <th>1566</th>\n",
       "      <td>2000102</td>\n",
       "      <td>МОРГУДОН</td>\n",
       "      <td>ВИХОРЕВКА</td>\n",
       "      <td>31/07 16:05</td>\n",
       "      <td>31/07 16:23</td>\n",
       "      <td>1</td>\n",
       "      <td>1002721</td>\n",
       "    </tr>\n",
       "    <tr>\n",
       "      <th>1567</th>\n",
       "      <td>2000102</td>\n",
       "      <td>ВИХОРЕВКА</td>\n",
       "      <td>ТУРМА</td>\n",
       "      <td>31/07 22:45</td>\n",
       "      <td>31/07 23:37</td>\n",
       "      <td>1</td>\n",
       "      <td>1002721</td>\n",
       "    </tr>\n",
       "    <tr>\n",
       "      <th>1568</th>\n",
       "      <td>2000102</td>\n",
       "      <td>ТУРМА</td>\n",
       "      <td>ТОРЕЯ</td>\n",
       "      <td>31/07 23:37</td>\n",
       "      <td>01/08 00:33</td>\n",
       "      <td>1</td>\n",
       "      <td>1002721</td>\n",
       "    </tr>\n",
       "    <tr>\n",
       "      <th>1569</th>\n",
       "      <td>2000102</td>\n",
       "      <td>ТОРЕЯ</td>\n",
       "      <td>ТАЙШЕТ</td>\n",
       "      <td>01/08 00:33</td>\n",
       "      <td>01/08 04:05</td>\n",
       "      <td>1</td>\n",
       "      <td>1002721</td>\n",
       "    </tr>\n",
       "  </tbody>\n",
       "</table>\n",
       "</div>"
      ],
      "text/plain": [
       "         loco         st_from_name           st_to_name time_start_f  \\\n",
       "1549  2000102               ТАЙШЕТ                ТОРЕЯ  29/07 23:25   \n",
       "1550  2000102                ТОРЕЯ                ТУРМА  30/07 03:28   \n",
       "1551  2000102                ТУРМА            ВИХОРЕВКА  30/07 04:27   \n",
       "1552  2000102            ВИХОРЕВКА             МОРГУДОН  30/07 06:20   \n",
       "1553  2000102             МОРГУДОН          ГАЛАЧИНСКИЙ  30/07 06:39   \n",
       "1554  2000102          ГАЛАЧИНСКИЙ     ПАДУНСКИЕ ПОРОГИ  30/07 07:35   \n",
       "1555  2000102     ПАДУНСКИЕ ПОРОГИ       ГИДРОСТРОИТЕЛЬ  30/07 08:00   \n",
       "1556  2000102       ГИДРОСТРОИТЕЛЬ  КОРШУНИХА-АНГАРСКАЯ  30/07 08:15   \n",
       "1557  2000102  КОРШУНИХА-АНГАРСКАЯ            ХРЕБТОВАЯ  30/07 15:17   \n",
       "1558  2000102            ХРЕБТОВАЯ                 ЛЕНА  30/07 15:58   \n",
       "1559  2000102                 ЛЕНА                 ЛЕНА  30/07 18:30   \n",
       "1560  2000102                 ЛЕНА            ХРЕБТОВАЯ  31/07 07:00   \n",
       "1561  2000102            ХРЕБТОВАЯ  КОРШУНИХА-АНГАРСКАЯ  31/07 09:54   \n",
       "1562  2000102  КОРШУНИХА-АНГАРСКАЯ       ГИДРОСТРОИТЕЛЬ  31/07 10:28   \n",
       "1563  2000102       ГИДРОСТРОИТЕЛЬ     ПАДУНСКИЕ ПОРОГИ  31/07 14:41   \n",
       "1564  2000102     ПАДУНСКИЕ ПОРОГИ          ГАЛАЧИНСКИЙ  31/07 15:08   \n",
       "1565  2000102          ГАЛАЧИНСКИЙ             МОРГУДОН  31/07 15:31   \n",
       "1566  2000102             МОРГУДОН            ВИХОРЕВКА  31/07 16:05   \n",
       "1567  2000102            ВИХОРЕВКА                ТУРМА  31/07 22:45   \n",
       "1568  2000102                ТУРМА                ТОРЕЯ  31/07 23:37   \n",
       "1569  2000102                ТОРЕЯ               ТАЙШЕТ  01/08 00:33   \n",
       "\n",
       "       time_end_f  state           train  \n",
       "1549  30/07 03:28      1         1002102  \n",
       "1550  30/07 04:27      1         1002102  \n",
       "1551  30/07 04:57      1         1002102  \n",
       "1552  30/07 06:39      1         1002102  \n",
       "1553  30/07 07:35      1         1002102  \n",
       "1554  30/07 08:00      1         1002102  \n",
       "1555  30/07 08:15      1         1002102  \n",
       "1556  30/07 12:14      1         1002102  \n",
       "1557  30/07 15:58      0  88880000074678  \n",
       "1558  30/07 18:30      0  88880000074678  \n",
       "1559  30/07 21:30      4              -1  \n",
       "1560  31/07 09:54      1         1002721  \n",
       "1561  31/07 10:28      1         1002721  \n",
       "1562  31/07 14:41      1         1002721  \n",
       "1563  31/07 15:08      1         1002721  \n",
       "1564  31/07 15:31      1         1002721  \n",
       "1565  31/07 16:05      1         1002721  \n",
       "1566  31/07 16:23      1         1002721  \n",
       "1567  31/07 23:37      1         1002721  \n",
       "1568  01/08 00:33      1         1002721  \n",
       "1569  01/08 04:05      1         1002721  "
      ]
     },
     "execution_count": 579,
     "metadata": {},
     "output_type": "execute_result"
    }
   ],
   "source": [
    "cols = ['loco', 'st_from_name', 'st_to_name', 'time_start_f', 'time_end_f', 'state', 'train']\n",
    "loco_plan[loco_plan.loco == '2000102'][cols]"
   ]
  },
  {
   "cell_type": "code",
   "execution_count": 580,
   "metadata": {
    "collapsed": false
   },
   "outputs": [
    {
     "name": "stdout",
     "output_type": "stream",
     "text": [
      "    team         st_from_name           st_to_name time_start_f   time_end_f  state     loco\n",
      " 9244012            ВИХОРЕВКА             МОРГУДОН  30/07 00:20  30/07 00:39      1  2000112\n",
      " 9244012             МОРГУДОН          ГАЛАЧИНСКИЙ  30/07 00:39  30/07 01:00      1  2000112\n",
      " 9244012          ГАЛАЧИНСКИЙ     ПАДУНСКИЕ ПОРОГИ  30/07 01:00  30/07 01:25      1  2000112\n",
      " 9244012     ПАДУНСКИЕ ПОРОГИ       ГИДРОСТРОИТЕЛЬ  30/07 01:25  30/07 01:40      1  2000112\n",
      " 9244012       ГИДРОСТРОИТЕЛЬ  КОРШУНИХА-АНГАРСКАЯ  30/07 01:40  30/07 05:39      1  2000112\n",
      " 9244012  КОРШУНИХА-АНГАРСКАЯ  КОРШУНИХА-АНГАРСКАЯ  30/07 06:09  30/07 09:09      4       -1\n",
      " 9244012  КОРШУНИХА-АНГАРСКАЯ  КОРШУНИХА-АНГАРСКАЯ  30/07 09:53  30/07 11:40      2       -1\n",
      " 9244012  КОРШУНИХА-АНГАРСКАЯ       ГИДРОСТРОИТЕЛЬ  30/07 11:40  30/07 15:57      1  2000480\n",
      " 9244012       ГИДРОСТРОИТЕЛЬ     ПАДУНСКИЕ ПОРОГИ  30/07 15:57  30/07 16:37      1  2000480\n",
      " 9244012     ПАДУНСКИЕ ПОРОГИ          ГАЛАЧИНСКИЙ  30/07 16:37  30/07 17:00      1  2000480\n",
      " 9244012          ГАЛАЧИНСКИЙ             МОРГУДОН  30/07 17:00  30/07 17:22      1  2000480\n",
      " 9244012             МОРГУДОН            ВИХОРЕВКА  30/07 17:22  30/07 17:40      1  2000480\n"
     ]
    }
   ],
   "source": [
    "cols = ['team', 'st_from_name', 'st_to_name', 'time_start_f', 'time_end_f', 'state', 'loco']\n",
    "print(team_plan[team_plan.team == '9244012'][cols].to_string(index=False))"
   ]
  },
  {
   "cell_type": "code",
   "execution_count": 581,
   "metadata": {
    "collapsed": false
   },
   "outputs": [
    {
     "data": {
      "text/html": [
       "<div>\n",
       "<table border=\"1\" class=\"dataframe\">\n",
       "  <thead>\n",
       "    <tr style=\"text-align: right;\">\n",
       "      <th></th>\n",
       "      <th>train</th>\n",
       "      <th>st_from_name</th>\n",
       "      <th>st_to_name</th>\n",
       "      <th>prev_end_f</th>\n",
       "      <th>time_start_f</th>\n",
       "      <th>time_end_f</th>\n",
       "    </tr>\n",
       "  </thead>\n",
       "  <tbody>\n",
       "    <tr>\n",
       "      <th>1568</th>\n",
       "      <td>1002212</td>\n",
       "      <td>ВИХОРЕВКА</td>\n",
       "      <td>МОРГУДОН</td>\n",
       "      <td></td>\n",
       "      <td>29/07 14:00</td>\n",
       "      <td>29/07 14:19</td>\n",
       "    </tr>\n",
       "    <tr>\n",
       "      <th>1518</th>\n",
       "      <td>1002214</td>\n",
       "      <td>ВИХОРЕВКА</td>\n",
       "      <td>МОРГУДОН</td>\n",
       "      <td></td>\n",
       "      <td>29/07 15:10</td>\n",
       "      <td>29/07 15:29</td>\n",
       "    </tr>\n",
       "    <tr>\n",
       "      <th>1474</th>\n",
       "      <td>1002216</td>\n",
       "      <td>ВИХОРЕВКА</td>\n",
       "      <td>МОРГУДОН</td>\n",
       "      <td></td>\n",
       "      <td>29/07 16:54</td>\n",
       "      <td>29/07 17:13</td>\n",
       "    </tr>\n",
       "    <tr>\n",
       "      <th>1256</th>\n",
       "      <td>1002206</td>\n",
       "      <td>ВИХОРЕВКА</td>\n",
       "      <td>МОРГУДОН</td>\n",
       "      <td></td>\n",
       "      <td>29/07 18:25</td>\n",
       "      <td>29/07 18:44</td>\n",
       "    </tr>\n",
       "    <tr>\n",
       "      <th>1285</th>\n",
       "      <td>1002204</td>\n",
       "      <td>ВИХОРЕВКА</td>\n",
       "      <td>МОРГУДОН</td>\n",
       "      <td></td>\n",
       "      <td>29/07 20:25</td>\n",
       "      <td>29/07 20:44</td>\n",
       "    </tr>\n",
       "    <tr>\n",
       "      <th>1295</th>\n",
       "      <td>1002202</td>\n",
       "      <td>ВИХОРЕВКА</td>\n",
       "      <td>МОРГУДОН</td>\n",
       "      <td></td>\n",
       "      <td>29/07 22:40</td>\n",
       "      <td>29/07 22:59</td>\n",
       "    </tr>\n",
       "    <tr>\n",
       "      <th>928</th>\n",
       "      <td>1002112</td>\n",
       "      <td>ВИХОРЕВКА</td>\n",
       "      <td>МОРГУДОН</td>\n",
       "      <td>29/07 19:03</td>\n",
       "      <td>30/07 00:20</td>\n",
       "      <td>30/07 00:39</td>\n",
       "    </tr>\n",
       "    <tr>\n",
       "      <th>902</th>\n",
       "      <td>1002114</td>\n",
       "      <td>ВИХОРЕВКА</td>\n",
       "      <td>МОРГУДОН</td>\n",
       "      <td>29/07 20:04</td>\n",
       "      <td>30/07 01:55</td>\n",
       "      <td>30/07 02:14</td>\n",
       "    </tr>\n",
       "    <tr>\n",
       "      <th>876</th>\n",
       "      <td>1002118</td>\n",
       "      <td>ВИХОРЕВКА</td>\n",
       "      <td>МОРГУДОН</td>\n",
       "      <td>29/07 22:20</td>\n",
       "      <td>30/07 02:55</td>\n",
       "      <td>30/07 03:14</td>\n",
       "    </tr>\n",
       "    <tr>\n",
       "      <th>1384</th>\n",
       "      <td>1002222</td>\n",
       "      <td>ВИХОРЕВКА</td>\n",
       "      <td>МОРГУДОН</td>\n",
       "      <td></td>\n",
       "      <td>30/07 03:35</td>\n",
       "      <td>30/07 03:54</td>\n",
       "    </tr>\n",
       "    <tr>\n",
       "      <th>866</th>\n",
       "      <td>1002120</td>\n",
       "      <td>ВИХОРЕВКА</td>\n",
       "      <td>МОРГУДОН</td>\n",
       "      <td>29/07 23:08</td>\n",
       "      <td>30/07 04:25</td>\n",
       "      <td>30/07 04:44</td>\n",
       "    </tr>\n",
       "    <tr>\n",
       "      <th>1635</th>\n",
       "      <td>1002224</td>\n",
       "      <td>ВИХОРЕВКА</td>\n",
       "      <td>МОРГУДОН</td>\n",
       "      <td></td>\n",
       "      <td>30/07 05:05</td>\n",
       "      <td>30/07 05:24</td>\n",
       "    </tr>\n",
       "    <tr>\n",
       "      <th>827</th>\n",
       "      <td>1002102</td>\n",
       "      <td>ВИХОРЕВКА</td>\n",
       "      <td>МОРГУДОН</td>\n",
       "      <td>30/07 04:57</td>\n",
       "      <td>30/07 06:20</td>\n",
       "      <td>30/07 06:39</td>\n",
       "    </tr>\n",
       "    <tr>\n",
       "      <th>783</th>\n",
       "      <td>1002106</td>\n",
       "      <td>ВИХОРЕВКА</td>\n",
       "      <td>МОРГУДОН</td>\n",
       "      <td>30/07 05:27</td>\n",
       "      <td>30/07 07:00</td>\n",
       "      <td>30/07 07:19</td>\n",
       "    </tr>\n",
       "    <tr>\n",
       "      <th>73</th>\n",
       "      <td>1002014</td>\n",
       "      <td>ВИХОРЕВКА</td>\n",
       "      <td>МОРГУДОН</td>\n",
       "      <td>30/07 06:27</td>\n",
       "      <td>30/07 08:00</td>\n",
       "      <td>30/07 08:19</td>\n",
       "    </tr>\n",
       "    <tr>\n",
       "      <th>299</th>\n",
       "      <td>1002016</td>\n",
       "      <td>ВИХОРЕВКА</td>\n",
       "      <td>МОРГУДОН</td>\n",
       "      <td>30/07 06:57</td>\n",
       "      <td>30/07 09:15</td>\n",
       "      <td>30/07 09:34</td>\n",
       "    </tr>\n",
       "    <tr>\n",
       "      <th>288</th>\n",
       "      <td>1002018</td>\n",
       "      <td>ВИХОРЕВКА</td>\n",
       "      <td>МОРГУДОН</td>\n",
       "      <td>30/07 07:27</td>\n",
       "      <td>30/07 10:10</td>\n",
       "      <td>30/07 10:29</td>\n",
       "    </tr>\n",
       "    <tr>\n",
       "      <th>261</th>\n",
       "      <td>1002020</td>\n",
       "      <td>ВИХОРЕВКА</td>\n",
       "      <td>МОРГУДОН</td>\n",
       "      <td>30/07 09:36</td>\n",
       "      <td>30/07 11:15</td>\n",
       "      <td>30/07 11:34</td>\n",
       "    </tr>\n",
       "    <tr>\n",
       "      <th>252</th>\n",
       "      <td>1002022</td>\n",
       "      <td>ВИХОРЕВКА</td>\n",
       "      <td>МОРГУДОН</td>\n",
       "      <td>30/07 10:21</td>\n",
       "      <td>30/07 11:40</td>\n",
       "      <td>30/07 11:59</td>\n",
       "    </tr>\n",
       "    <tr>\n",
       "      <th>461</th>\n",
       "      <td>1002032</td>\n",
       "      <td>ВИХОРЕВКА</td>\n",
       "      <td>МОРГУДОН</td>\n",
       "      <td>30/07 10:49</td>\n",
       "      <td>30/07 12:50</td>\n",
       "      <td>30/07 13:09</td>\n",
       "    </tr>\n",
       "    <tr>\n",
       "      <th>1621</th>\n",
       "      <td>1002226</td>\n",
       "      <td>ВИХОРЕВКА</td>\n",
       "      <td>МОРГУДОН</td>\n",
       "      <td></td>\n",
       "      <td>30/07 13:20</td>\n",
       "      <td>30/07 13:39</td>\n",
       "    </tr>\n",
       "    <tr>\n",
       "      <th>223</th>\n",
       "      <td>1002026</td>\n",
       "      <td>ВИХОРЕВКА</td>\n",
       "      <td>МОРГУДОН</td>\n",
       "      <td>30/07 14:02</td>\n",
       "      <td>30/07 15:40</td>\n",
       "      <td>30/07 15:59</td>\n",
       "    </tr>\n",
       "    <tr>\n",
       "      <th>548</th>\n",
       "      <td>1002052</td>\n",
       "      <td>ВИХОРЕВКА</td>\n",
       "      <td>МОРГУДОН</td>\n",
       "      <td>30/07 20:38</td>\n",
       "      <td>30/07 21:25</td>\n",
       "      <td>30/07 21:44</td>\n",
       "    </tr>\n",
       "    <tr>\n",
       "      <th>184</th>\n",
       "      <td>1002028</td>\n",
       "      <td>ВИХОРЕВКА</td>\n",
       "      <td>МОРГУДОН</td>\n",
       "      <td>30/07 21:35</td>\n",
       "      <td>30/07 22:40</td>\n",
       "      <td>30/07 22:59</td>\n",
       "    </tr>\n",
       "    <tr>\n",
       "      <th>472</th>\n",
       "      <td>1002058</td>\n",
       "      <td>ВИХОРЕВКА</td>\n",
       "      <td>МОРГУДОН</td>\n",
       "      <td>31/07 00:50</td>\n",
       "      <td>31/07 02:36</td>\n",
       "      <td>31/07 02:55</td>\n",
       "    </tr>\n",
       "    <tr>\n",
       "      <th>406</th>\n",
       "      <td>1002038</td>\n",
       "      <td>ВИХОРЕВКА</td>\n",
       "      <td>МОРГУДОН</td>\n",
       "      <td>31/07 02:54</td>\n",
       "      <td>31/07 04:40</td>\n",
       "      <td>31/07 04:59</td>\n",
       "    </tr>\n",
       "    <tr>\n",
       "      <th>370</th>\n",
       "      <td>1002042</td>\n",
       "      <td>ВИХОРЕВКА</td>\n",
       "      <td>МОРГУДОН</td>\n",
       "      <td>31/07 04:08</td>\n",
       "      <td>31/07 05:55</td>\n",
       "      <td>31/07 06:14</td>\n",
       "    </tr>\n",
       "    <tr>\n",
       "      <th>331</th>\n",
       "      <td>1002046</td>\n",
       "      <td>ВИХОРЕВКА</td>\n",
       "      <td>МОРГУДОН</td>\n",
       "      <td>31/07 12:46</td>\n",
       "      <td>31/07 14:32</td>\n",
       "      <td>31/07 14:51</td>\n",
       "    </tr>\n",
       "    <tr>\n",
       "      <th>397</th>\n",
       "      <td>1002040</td>\n",
       "      <td>ВИХОРЕВКА</td>\n",
       "      <td>МОРГУДОН</td>\n",
       "      <td>31/07 13:17</td>\n",
       "      <td>31/07 15:03</td>\n",
       "      <td>31/07 15:22</td>\n",
       "    </tr>\n",
       "    <tr>\n",
       "      <th>434</th>\n",
       "      <td>1002034</td>\n",
       "      <td>ВИХОРЕВКА</td>\n",
       "      <td>МОРГУДОН</td>\n",
       "      <td>31/07 12:54</td>\n",
       "      <td>31/07 16:27</td>\n",
       "      <td>31/07 16:46</td>\n",
       "    </tr>\n",
       "    <tr>\n",
       "      <th>609</th>\n",
       "      <td>1002048</td>\n",
       "      <td>ВИХОРЕВКА</td>\n",
       "      <td>МОРГУДОН</td>\n",
       "      <td>31/07 16:52</td>\n",
       "      <td>31/07 20:25</td>\n",
       "      <td>31/07 20:44</td>\n",
       "    </tr>\n",
       "    <tr>\n",
       "      <th>571</th>\n",
       "      <td>1002050</td>\n",
       "      <td>ВИХОРЕВКА</td>\n",
       "      <td>МОРГУДОН</td>\n",
       "      <td>31/07 21:31</td>\n",
       "      <td>31/07 23:18</td>\n",
       "      <td>31/07 23:37</td>\n",
       "    </tr>\n",
       "    <tr>\n",
       "      <th>494</th>\n",
       "      <td>1002056</td>\n",
       "      <td>ВИХОРЕВКА</td>\n",
       "      <td>МОРГУДОН</td>\n",
       "      <td>01/08 06:11</td>\n",
       "      <td>01/08 07:58</td>\n",
       "      <td>01/08 08:17</td>\n",
       "    </tr>\n",
       "  </tbody>\n",
       "</table>\n",
       "</div>"
      ],
      "text/plain": [
       "        train st_from_name st_to_name   prev_end_f time_start_f   time_end_f\n",
       "1568  1002212    ВИХОРЕВКА   МОРГУДОН               29/07 14:00  29/07 14:19\n",
       "1518  1002214    ВИХОРЕВКА   МОРГУДОН               29/07 15:10  29/07 15:29\n",
       "1474  1002216    ВИХОРЕВКА   МОРГУДОН               29/07 16:54  29/07 17:13\n",
       "1256  1002206    ВИХОРЕВКА   МОРГУДОН               29/07 18:25  29/07 18:44\n",
       "1285  1002204    ВИХОРЕВКА   МОРГУДОН               29/07 20:25  29/07 20:44\n",
       "1295  1002202    ВИХОРЕВКА   МОРГУДОН               29/07 22:40  29/07 22:59\n",
       "928   1002112    ВИХОРЕВКА   МОРГУДОН  29/07 19:03  30/07 00:20  30/07 00:39\n",
       "902   1002114    ВИХОРЕВКА   МОРГУДОН  29/07 20:04  30/07 01:55  30/07 02:14\n",
       "876   1002118    ВИХОРЕВКА   МОРГУДОН  29/07 22:20  30/07 02:55  30/07 03:14\n",
       "1384  1002222    ВИХОРЕВКА   МОРГУДОН               30/07 03:35  30/07 03:54\n",
       "866   1002120    ВИХОРЕВКА   МОРГУДОН  29/07 23:08  30/07 04:25  30/07 04:44\n",
       "1635  1002224    ВИХОРЕВКА   МОРГУДОН               30/07 05:05  30/07 05:24\n",
       "827   1002102    ВИХОРЕВКА   МОРГУДОН  30/07 04:57  30/07 06:20  30/07 06:39\n",
       "783   1002106    ВИХОРЕВКА   МОРГУДОН  30/07 05:27  30/07 07:00  30/07 07:19\n",
       "73    1002014    ВИХОРЕВКА   МОРГУДОН  30/07 06:27  30/07 08:00  30/07 08:19\n",
       "299   1002016    ВИХОРЕВКА   МОРГУДОН  30/07 06:57  30/07 09:15  30/07 09:34\n",
       "288   1002018    ВИХОРЕВКА   МОРГУДОН  30/07 07:27  30/07 10:10  30/07 10:29\n",
       "261   1002020    ВИХОРЕВКА   МОРГУДОН  30/07 09:36  30/07 11:15  30/07 11:34\n",
       "252   1002022    ВИХОРЕВКА   МОРГУДОН  30/07 10:21  30/07 11:40  30/07 11:59\n",
       "461   1002032    ВИХОРЕВКА   МОРГУДОН  30/07 10:49  30/07 12:50  30/07 13:09\n",
       "1621  1002226    ВИХОРЕВКА   МОРГУДОН               30/07 13:20  30/07 13:39\n",
       "223   1002026    ВИХОРЕВКА   МОРГУДОН  30/07 14:02  30/07 15:40  30/07 15:59\n",
       "548   1002052    ВИХОРЕВКА   МОРГУДОН  30/07 20:38  30/07 21:25  30/07 21:44\n",
       "184   1002028    ВИХОРЕВКА   МОРГУДОН  30/07 21:35  30/07 22:40  30/07 22:59\n",
       "472   1002058    ВИХОРЕВКА   МОРГУДОН  31/07 00:50  31/07 02:36  31/07 02:55\n",
       "406   1002038    ВИХОРЕВКА   МОРГУДОН  31/07 02:54  31/07 04:40  31/07 04:59\n",
       "370   1002042    ВИХОРЕВКА   МОРГУДОН  31/07 04:08  31/07 05:55  31/07 06:14\n",
       "331   1002046    ВИХОРЕВКА   МОРГУДОН  31/07 12:46  31/07 14:32  31/07 14:51\n",
       "397   1002040    ВИХОРЕВКА   МОРГУДОН  31/07 13:17  31/07 15:03  31/07 15:22\n",
       "434   1002034    ВИХОРЕВКА   МОРГУДОН  31/07 12:54  31/07 16:27  31/07 16:46\n",
       "609   1002048    ВИХОРЕВКА   МОРГУДОН  31/07 16:52  31/07 20:25  31/07 20:44\n",
       "571   1002050    ВИХОРЕВКА   МОРГУДОН  31/07 21:31  31/07 23:18  31/07 23:37\n",
       "494   1002056    ВИХОРЕВКА   МОРГУДОН  01/08 06:11  01/08 07:58  01/08 08:17"
      ]
     },
     "execution_count": 581,
     "metadata": {},
     "output_type": "execute_result"
    }
   ],
   "source": [
    "cols = ['train', 'st_from_name', 'st_to_name', 'prev_end_f', 'time_start_f', 'time_end_f']\n",
    "train_plan['prev_end_f'] = train_plan.time_end_f.shift(1)\n",
    "train_plan['train_start'] = train_plan.train != train_plan.train.shift(1)\n",
    "train_plan.loc[train_plan.train_start == True, 'prev_end_f'] = ''\n",
    "train_plan[(train_plan.st_from_name == 'ВИХОРЕВКА') & (train_plan.st_to_name == 'МОРГУДОН')].sort_values('time_start')[cols]"
   ]
  },
  {
   "cell_type": "code",
   "execution_count": 582,
   "metadata": {
    "collapsed": false
   },
   "outputs": [
    {
     "data": {
      "text/html": [
       "<div>\n",
       "<table border=\"1\" class=\"dataframe\">\n",
       "  <thead>\n",
       "    <tr style=\"text-align: right;\">\n",
       "      <th></th>\n",
       "      <th>slot</th>\n",
       "      <th>st_from_name</th>\n",
       "      <th>st_to_name</th>\n",
       "      <th>time_start_f</th>\n",
       "      <th>time_end_f</th>\n",
       "    </tr>\n",
       "  </thead>\n",
       "  <tbody>\n",
       "    <tr>\n",
       "      <th>9047</th>\n",
       "      <td>200253963646</td>\n",
       "      <td>ВИХОРЕВКА</td>\n",
       "      <td>МОРГУДОН</td>\n",
       "      <td>29/07 05:09</td>\n",
       "      <td>29/07 05:28</td>\n",
       "    </tr>\n",
       "    <tr>\n",
       "      <th>14294</th>\n",
       "      <td>200253983857</td>\n",
       "      <td>ВИХОРЕВКА</td>\n",
       "      <td>МОРГУДОН</td>\n",
       "      <td>29/07 05:28</td>\n",
       "      <td>29/07 05:47</td>\n",
       "    </tr>\n",
       "    <tr>\n",
       "      <th>12718</th>\n",
       "      <td>200253973698</td>\n",
       "      <td>ВИХОРЕВКА</td>\n",
       "      <td>МОРГУДОН</td>\n",
       "      <td>29/07 06:21</td>\n",
       "      <td>29/07 06:40</td>\n",
       "    </tr>\n",
       "    <tr>\n",
       "      <th>19634</th>\n",
       "      <td>200254013731</td>\n",
       "      <td>ВИХОРЕВКА</td>\n",
       "      <td>МОРГУДОН</td>\n",
       "      <td>29/07 07:00</td>\n",
       "      <td>29/07 07:19</td>\n",
       "    </tr>\n",
       "    <tr>\n",
       "      <th>11975</th>\n",
       "      <td>200253983918</td>\n",
       "      <td>ВИХОРЕВКА</td>\n",
       "      <td>МОРГУДОН</td>\n",
       "      <td>29/07 07:13</td>\n",
       "      <td>29/07 07:32</td>\n",
       "    </tr>\n",
       "    <tr>\n",
       "      <th>14621</th>\n",
       "      <td>200253993863</td>\n",
       "      <td>ВИХОРЕВКА</td>\n",
       "      <td>МОРГУДОН</td>\n",
       "      <td>29/07 08:00</td>\n",
       "      <td>29/07 08:19</td>\n",
       "    </tr>\n",
       "    <tr>\n",
       "      <th>15028</th>\n",
       "      <td>200253993915</td>\n",
       "      <td>ВИХОРЕВКА</td>\n",
       "      <td>МОРГУДОН</td>\n",
       "      <td>29/07 09:16</td>\n",
       "      <td>29/07 09:35</td>\n",
       "    </tr>\n",
       "    <tr>\n",
       "      <th>15319</th>\n",
       "      <td>200253993961</td>\n",
       "      <td>ВИХОРЕВКА</td>\n",
       "      <td>МОРГУДОН</td>\n",
       "      <td>29/07 10:14</td>\n",
       "      <td>29/07 10:33</td>\n",
       "    </tr>\n",
       "    <tr>\n",
       "      <th>16552</th>\n",
       "      <td>200254003821</td>\n",
       "      <td>ВИХОРЕВКА</td>\n",
       "      <td>МОРГУДОН</td>\n",
       "      <td>29/07 11:17</td>\n",
       "      <td>29/07 11:36</td>\n",
       "    </tr>\n",
       "    <tr>\n",
       "      <th>17238</th>\n",
       "      <td>200254003902</td>\n",
       "      <td>ВИХОРЕВКА</td>\n",
       "      <td>МОРГУДОН</td>\n",
       "      <td>29/07 11:43</td>\n",
       "      <td>29/07 12:02</td>\n",
       "    </tr>\n",
       "    <tr>\n",
       "      <th>17822</th>\n",
       "      <td>200254003975</td>\n",
       "      <td>ВИХОРЕВКА</td>\n",
       "      <td>МОРГУДОН</td>\n",
       "      <td>29/07 12:54</td>\n",
       "      <td>29/07 13:13</td>\n",
       "    </tr>\n",
       "    <tr>\n",
       "      <th>19827</th>\n",
       "      <td>200254013754</td>\n",
       "      <td>ВИХОРЕВКА</td>\n",
       "      <td>МОРГУДОН</td>\n",
       "      <td>29/07 13:22</td>\n",
       "      <td>29/07 13:41</td>\n",
       "    </tr>\n",
       "    <tr>\n",
       "      <th>18344</th>\n",
       "      <td>200254004038</td>\n",
       "      <td>ВИХОРЕВКА</td>\n",
       "      <td>МОРГУДОН</td>\n",
       "      <td>29/07 13:42</td>\n",
       "      <td>29/07 14:01</td>\n",
       "    </tr>\n",
       "    <tr>\n",
       "      <th>21063</th>\n",
       "      <td>200254013894</td>\n",
       "      <td>ВИХОРЕВКА</td>\n",
       "      <td>МОРГУДОН</td>\n",
       "      <td>29/07 14:36</td>\n",
       "      <td>29/07 14:55</td>\n",
       "    </tr>\n",
       "    <tr>\n",
       "      <th>21564</th>\n",
       "      <td>200254013948</td>\n",
       "      <td>ВИХОРЕВКА</td>\n",
       "      <td>МОРГУДОН</td>\n",
       "      <td>29/07 15:41</td>\n",
       "      <td>29/07 16:00</td>\n",
       "    </tr>\n",
       "    <tr>\n",
       "      <th>21987</th>\n",
       "      <td>200254014018</td>\n",
       "      <td>ВИХОРЕВКА</td>\n",
       "      <td>МОРГУДОН</td>\n",
       "      <td>29/07 15:57</td>\n",
       "      <td>29/07 16:16</td>\n",
       "    </tr>\n",
       "    <tr>\n",
       "      <th>23487</th>\n",
       "      <td>200254023732</td>\n",
       "      <td>ВИХОРЕВКА</td>\n",
       "      <td>МОРГУДОН</td>\n",
       "      <td>29/07 18:25</td>\n",
       "      <td>29/07 18:44</td>\n",
       "    </tr>\n",
       "    <tr>\n",
       "      <th>30051</th>\n",
       "      <td>200254034084</td>\n",
       "      <td>ВИХОРЕВКА</td>\n",
       "      <td>МОРГУДОН</td>\n",
       "      <td>29/07 18:46</td>\n",
       "      <td>29/07 19:05</td>\n",
       "    </tr>\n",
       "    <tr>\n",
       "      <th>23943</th>\n",
       "      <td>200254023817</td>\n",
       "      <td>ВИХОРЕВКА</td>\n",
       "      <td>МОРГУДОН</td>\n",
       "      <td>29/07 19:05</td>\n",
       "      <td>29/07 19:24</td>\n",
       "    </tr>\n",
       "    <tr>\n",
       "      <th>24456</th>\n",
       "      <td>200254023878</td>\n",
       "      <td>ВИХОРЕВКА</td>\n",
       "      <td>МОРГУДОН</td>\n",
       "      <td>29/07 19:46</td>\n",
       "      <td>29/07 20:05</td>\n",
       "    </tr>\n",
       "    <tr>\n",
       "      <th>25116</th>\n",
       "      <td>200254023962</td>\n",
       "      <td>ВИХОРЕВКА</td>\n",
       "      <td>МОРГУДОН</td>\n",
       "      <td>29/07 20:29</td>\n",
       "      <td>29/07 20:48</td>\n",
       "    </tr>\n",
       "    <tr>\n",
       "      <th>25424</th>\n",
       "      <td>200254024005</td>\n",
       "      <td>ВИХОРЕВКА</td>\n",
       "      <td>МОРГУДОН</td>\n",
       "      <td>29/07 21:16</td>\n",
       "      <td>29/07 21:35</td>\n",
       "    </tr>\n",
       "    <tr>\n",
       "      <th>26414</th>\n",
       "      <td>200254024123</td>\n",
       "      <td>ВИХОРЕВКА</td>\n",
       "      <td>МОРГУДОН</td>\n",
       "      <td>29/07 21:26</td>\n",
       "      <td>29/07 21:45</td>\n",
       "    </tr>\n",
       "    <tr>\n",
       "      <th>26777</th>\n",
       "      <td>200254024181</td>\n",
       "      <td>ВИХОРЕВКА</td>\n",
       "      <td>МОРГУДОН</td>\n",
       "      <td>29/07 22:43</td>\n",
       "      <td>29/07 23:02</td>\n",
       "    </tr>\n",
       "    <tr>\n",
       "      <th>27135</th>\n",
       "      <td>200254024240</td>\n",
       "      <td>ВИХОРЕВКА</td>\n",
       "      <td>МОРГУДОН</td>\n",
       "      <td>29/07 23:06</td>\n",
       "      <td>29/07 23:25</td>\n",
       "    </tr>\n",
       "    <tr>\n",
       "      <th>28257</th>\n",
       "      <td>200254033819</td>\n",
       "      <td>ВИХОРЕВКА</td>\n",
       "      <td>МОРГУДОН</td>\n",
       "      <td>30/07 00:20</td>\n",
       "      <td>30/07 00:39</td>\n",
       "    </tr>\n",
       "    <tr>\n",
       "      <th>28709</th>\n",
       "      <td>200254033882</td>\n",
       "      <td>ВИХОРЕВКА</td>\n",
       "      <td>МОРГУДОН</td>\n",
       "      <td>30/07 00:53</td>\n",
       "      <td>30/07 01:12</td>\n",
       "    </tr>\n",
       "    <tr>\n",
       "      <th>29279</th>\n",
       "      <td>200254033959</td>\n",
       "      <td>ВИХОРЕВКА</td>\n",
       "      <td>МОРГУДОН</td>\n",
       "      <td>30/07 01:55</td>\n",
       "      <td>30/07 02:14</td>\n",
       "    </tr>\n",
       "    <tr>\n",
       "      <th>29983</th>\n",
       "      <td>200254034072</td>\n",
       "      <td>ВИХОРЕВКА</td>\n",
       "      <td>МОРГУДОН</td>\n",
       "      <td>30/07 02:38</td>\n",
       "      <td>30/07 02:57</td>\n",
       "    </tr>\n",
       "    <tr>\n",
       "      <th>30816</th>\n",
       "      <td>200254034188</td>\n",
       "      <td>ВИХОРЕВКА</td>\n",
       "      <td>МОРГУДОН</td>\n",
       "      <td>30/07 02:57</td>\n",
       "      <td>30/07 03:16</td>\n",
       "    </tr>\n",
       "    <tr>\n",
       "      <th>31327</th>\n",
       "      <td>200254034273</td>\n",
       "      <td>ВИХОРЕВКА</td>\n",
       "      <td>МОРГУДОН</td>\n",
       "      <td>30/07 03:39</td>\n",
       "      <td>30/07 03:58</td>\n",
       "    </tr>\n",
       "    <tr>\n",
       "      <th>31945</th>\n",
       "      <td>200254034352</td>\n",
       "      <td>ВИХОРЕВКА</td>\n",
       "      <td>МОРГУДОН</td>\n",
       "      <td>30/07 04:27</td>\n",
       "      <td>30/07 04:46</td>\n",
       "    </tr>\n",
       "    <tr>\n",
       "      <th>33144</th>\n",
       "      <td>200254034518</td>\n",
       "      <td>ВИХОРЕВКА</td>\n",
       "      <td>МОРГУДОН</td>\n",
       "      <td>30/07 05:09</td>\n",
       "      <td>30/07 05:28</td>\n",
       "    </tr>\n",
       "    <tr>\n",
       "      <th>33543</th>\n",
       "      <td>200254043700</td>\n",
       "      <td>ВИХОРЕВКА</td>\n",
       "      <td>МОРГУДОН</td>\n",
       "      <td>30/07 05:28</td>\n",
       "      <td>30/07 05:47</td>\n",
       "    </tr>\n",
       "    <tr>\n",
       "      <th>33987</th>\n",
       "      <td>200254043764</td>\n",
       "      <td>ВИХОРЕВКА</td>\n",
       "      <td>МОРГУДОН</td>\n",
       "      <td>30/07 06:21</td>\n",
       "      <td>30/07 06:40</td>\n",
       "    </tr>\n",
       "    <tr>\n",
       "      <th>39929</th>\n",
       "      <td>200254343615</td>\n",
       "      <td>ВИХОРЕВКА</td>\n",
       "      <td>МОРГУДОН</td>\n",
       "      <td>30/07 07:00</td>\n",
       "      <td>30/07 07:19</td>\n",
       "    </tr>\n",
       "    <tr>\n",
       "      <th>34407</th>\n",
       "      <td>200254043825</td>\n",
       "      <td>ВИХОРЕВКА</td>\n",
       "      <td>МОРГУДОН</td>\n",
       "      <td>30/07 07:13</td>\n",
       "      <td>30/07 07:32</td>\n",
       "    </tr>\n",
       "    <tr>\n",
       "      <th>35175</th>\n",
       "      <td>200254323156</td>\n",
       "      <td>ВИХОРЕВКА</td>\n",
       "      <td>МОРГУДОН</td>\n",
       "      <td>30/07 08:00</td>\n",
       "      <td>30/07 08:19</td>\n",
       "    </tr>\n",
       "    <tr>\n",
       "      <th>35594</th>\n",
       "      <td>200254323208</td>\n",
       "      <td>ВИХОРЕВКА</td>\n",
       "      <td>МОРГУДОН</td>\n",
       "      <td>30/07 09:16</td>\n",
       "      <td>30/07 09:35</td>\n",
       "    </tr>\n",
       "    <tr>\n",
       "      <th>35932</th>\n",
       "      <td>200254323254</td>\n",
       "      <td>ВИХОРЕВКА</td>\n",
       "      <td>МОРГУДОН</td>\n",
       "      <td>30/07 10:14</td>\n",
       "      <td>30/07 10:33</td>\n",
       "    </tr>\n",
       "    <tr>\n",
       "      <th>37448</th>\n",
       "      <td>200254333114</td>\n",
       "      <td>ВИХОРЕВКА</td>\n",
       "      <td>МОРГУДОН</td>\n",
       "      <td>30/07 11:17</td>\n",
       "      <td>30/07 11:36</td>\n",
       "    </tr>\n",
       "    <tr>\n",
       "      <th>38051</th>\n",
       "      <td>200254333195</td>\n",
       "      <td>ВИХОРЕВКА</td>\n",
       "      <td>МОРГУДОН</td>\n",
       "      <td>30/07 11:43</td>\n",
       "      <td>30/07 12:02</td>\n",
       "    </tr>\n",
       "    <tr>\n",
       "      <th>38450</th>\n",
       "      <td>200254333268</td>\n",
       "      <td>ВИХОРЕВКА</td>\n",
       "      <td>МОРГУДОН</td>\n",
       "      <td>30/07 12:54</td>\n",
       "      <td>30/07 13:13</td>\n",
       "    </tr>\n",
       "    <tr>\n",
       "      <th>40068</th>\n",
       "      <td>200254343638</td>\n",
       "      <td>ВИХОРЕВКА</td>\n",
       "      <td>МОРГУДОН</td>\n",
       "      <td>30/07 13:22</td>\n",
       "      <td>30/07 13:41</td>\n",
       "    </tr>\n",
       "    <tr>\n",
       "      <th>38888</th>\n",
       "      <td>200254333331</td>\n",
       "      <td>ВИХОРЕВКА</td>\n",
       "      <td>МОРГУДОН</td>\n",
       "      <td>30/07 13:42</td>\n",
       "      <td>30/07 14:01</td>\n",
       "    </tr>\n",
       "    <tr>\n",
       "      <th>40933</th>\n",
       "      <td>200254343778</td>\n",
       "      <td>ВИХОРЕВКА</td>\n",
       "      <td>МОРГУДОН</td>\n",
       "      <td>30/07 14:36</td>\n",
       "      <td>30/07 14:55</td>\n",
       "    </tr>\n",
       "    <tr>\n",
       "      <th>41334</th>\n",
       "      <td>200254343832</td>\n",
       "      <td>ВИХОРЕВКА</td>\n",
       "      <td>МОРГУДОН</td>\n",
       "      <td>30/07 15:41</td>\n",
       "      <td>30/07 16:00</td>\n",
       "    </tr>\n",
       "    <tr>\n",
       "      <th>41672</th>\n",
       "      <td>200254343902</td>\n",
       "      <td>ВИХОРЕВКА</td>\n",
       "      <td>МОРГУДОН</td>\n",
       "      <td>30/07 15:57</td>\n",
       "      <td>30/07 16:16</td>\n",
       "    </tr>\n",
       "    <tr>\n",
       "      <th>42816</th>\n",
       "      <td>200254353616</td>\n",
       "      <td>ВИХОРЕВКА</td>\n",
       "      <td>МОРГУДОН</td>\n",
       "      <td>30/07 18:25</td>\n",
       "      <td>30/07 18:44</td>\n",
       "    </tr>\n",
       "    <tr>\n",
       "      <th>47108</th>\n",
       "      <td>200254363968</td>\n",
       "      <td>ВИХОРЕВКА</td>\n",
       "      <td>МОРГУДОН</td>\n",
       "      <td>30/07 18:46</td>\n",
       "      <td>30/07 19:05</td>\n",
       "    </tr>\n",
       "  </tbody>\n",
       "</table>\n",
       "</div>"
      ],
      "text/plain": [
       "               slot st_from_name st_to_name time_start_f   time_end_f\n",
       "9047   200253963646    ВИХОРЕВКА   МОРГУДОН  29/07 05:09  29/07 05:28\n",
       "14294  200253983857    ВИХОРЕВКА   МОРГУДОН  29/07 05:28  29/07 05:47\n",
       "12718  200253973698    ВИХОРЕВКА   МОРГУДОН  29/07 06:21  29/07 06:40\n",
       "19634  200254013731    ВИХОРЕВКА   МОРГУДОН  29/07 07:00  29/07 07:19\n",
       "11975  200253983918    ВИХОРЕВКА   МОРГУДОН  29/07 07:13  29/07 07:32\n",
       "14621  200253993863    ВИХОРЕВКА   МОРГУДОН  29/07 08:00  29/07 08:19\n",
       "15028  200253993915    ВИХОРЕВКА   МОРГУДОН  29/07 09:16  29/07 09:35\n",
       "15319  200253993961    ВИХОРЕВКА   МОРГУДОН  29/07 10:14  29/07 10:33\n",
       "16552  200254003821    ВИХОРЕВКА   МОРГУДОН  29/07 11:17  29/07 11:36\n",
       "17238  200254003902    ВИХОРЕВКА   МОРГУДОН  29/07 11:43  29/07 12:02\n",
       "17822  200254003975    ВИХОРЕВКА   МОРГУДОН  29/07 12:54  29/07 13:13\n",
       "19827  200254013754    ВИХОРЕВКА   МОРГУДОН  29/07 13:22  29/07 13:41\n",
       "18344  200254004038    ВИХОРЕВКА   МОРГУДОН  29/07 13:42  29/07 14:01\n",
       "21063  200254013894    ВИХОРЕВКА   МОРГУДОН  29/07 14:36  29/07 14:55\n",
       "21564  200254013948    ВИХОРЕВКА   МОРГУДОН  29/07 15:41  29/07 16:00\n",
       "21987  200254014018    ВИХОРЕВКА   МОРГУДОН  29/07 15:57  29/07 16:16\n",
       "23487  200254023732    ВИХОРЕВКА   МОРГУДОН  29/07 18:25  29/07 18:44\n",
       "30051  200254034084    ВИХОРЕВКА   МОРГУДОН  29/07 18:46  29/07 19:05\n",
       "23943  200254023817    ВИХОРЕВКА   МОРГУДОН  29/07 19:05  29/07 19:24\n",
       "24456  200254023878    ВИХОРЕВКА   МОРГУДОН  29/07 19:46  29/07 20:05\n",
       "25116  200254023962    ВИХОРЕВКА   МОРГУДОН  29/07 20:29  29/07 20:48\n",
       "25424  200254024005    ВИХОРЕВКА   МОРГУДОН  29/07 21:16  29/07 21:35\n",
       "26414  200254024123    ВИХОРЕВКА   МОРГУДОН  29/07 21:26  29/07 21:45\n",
       "26777  200254024181    ВИХОРЕВКА   МОРГУДОН  29/07 22:43  29/07 23:02\n",
       "27135  200254024240    ВИХОРЕВКА   МОРГУДОН  29/07 23:06  29/07 23:25\n",
       "28257  200254033819    ВИХОРЕВКА   МОРГУДОН  30/07 00:20  30/07 00:39\n",
       "28709  200254033882    ВИХОРЕВКА   МОРГУДОН  30/07 00:53  30/07 01:12\n",
       "29279  200254033959    ВИХОРЕВКА   МОРГУДОН  30/07 01:55  30/07 02:14\n",
       "29983  200254034072    ВИХОРЕВКА   МОРГУДОН  30/07 02:38  30/07 02:57\n",
       "30816  200254034188    ВИХОРЕВКА   МОРГУДОН  30/07 02:57  30/07 03:16\n",
       "31327  200254034273    ВИХОРЕВКА   МОРГУДОН  30/07 03:39  30/07 03:58\n",
       "31945  200254034352    ВИХОРЕВКА   МОРГУДОН  30/07 04:27  30/07 04:46\n",
       "33144  200254034518    ВИХОРЕВКА   МОРГУДОН  30/07 05:09  30/07 05:28\n",
       "33543  200254043700    ВИХОРЕВКА   МОРГУДОН  30/07 05:28  30/07 05:47\n",
       "33987  200254043764    ВИХОРЕВКА   МОРГУДОН  30/07 06:21  30/07 06:40\n",
       "39929  200254343615    ВИХОРЕВКА   МОРГУДОН  30/07 07:00  30/07 07:19\n",
       "34407  200254043825    ВИХОРЕВКА   МОРГУДОН  30/07 07:13  30/07 07:32\n",
       "35175  200254323156    ВИХОРЕВКА   МОРГУДОН  30/07 08:00  30/07 08:19\n",
       "35594  200254323208    ВИХОРЕВКА   МОРГУДОН  30/07 09:16  30/07 09:35\n",
       "35932  200254323254    ВИХОРЕВКА   МОРГУДОН  30/07 10:14  30/07 10:33\n",
       "37448  200254333114    ВИХОРЕВКА   МОРГУДОН  30/07 11:17  30/07 11:36\n",
       "38051  200254333195    ВИХОРЕВКА   МОРГУДОН  30/07 11:43  30/07 12:02\n",
       "38450  200254333268    ВИХОРЕВКА   МОРГУДОН  30/07 12:54  30/07 13:13\n",
       "40068  200254343638    ВИХОРЕВКА   МОРГУДОН  30/07 13:22  30/07 13:41\n",
       "38888  200254333331    ВИХОРЕВКА   МОРГУДОН  30/07 13:42  30/07 14:01\n",
       "40933  200254343778    ВИХОРЕВКА   МОРГУДОН  30/07 14:36  30/07 14:55\n",
       "41334  200254343832    ВИХОРЕВКА   МОРГУДОН  30/07 15:41  30/07 16:00\n",
       "41672  200254343902    ВИХОРЕВКА   МОРГУДОН  30/07 15:57  30/07 16:16\n",
       "42816  200254353616    ВИХОРЕВКА   МОРГУДОН  30/07 18:25  30/07 18:44\n",
       "47108  200254363968    ВИХОРЕВКА   МОРГУДОН  30/07 18:46  30/07 19:05"
      ]
     },
     "execution_count": 582,
     "metadata": {},
     "output_type": "execute_result"
    }
   ],
   "source": [
    "slot = pd.read_csv(FOLDER + 'slot.csv', dtype={'st_from':str, 'st_to':str})\n",
    "add_info(slot)\n",
    "cols = ['slot', 'st_from_name', 'st_to_name', 'time_start_f', 'time_end_f']\n",
    "slot[(slot.st_from_name == 'ВИХОРЕВКА') \n",
    "     & (slot.st_to_name == 'МОРГУДОН')].sort_values('time_start')[cols].drop_duplicates('time_start_f').head(50)"
   ]
  },
  {
   "cell_type": "markdown",
   "metadata": {},
   "source": [
    "<a id='dep_interval'></a>\n",
    "## Поиск поездов с интервалом между отправлениями меньше допустимого [ToC](#toc)\n",
    "\n",
    "Между отправлениями двух поездов с одной станции в одном направлении должно быть не менее какого-то критического времени (сейчас оно установлено в 5 минут). Исключение может делаться только для локомотивов резервом (они могут планироваться и в одно и то же время)."
   ]
  },
  {
   "cell_type": "code",
   "execution_count": 583,
   "metadata": {
    "collapsed": true
   },
   "outputs": [],
   "source": [
    "add_header('Поиск поездов с интервалом между отправлениями меньше допустимого', h=2, p=False)"
   ]
  },
  {
   "cell_type": "code",
   "execution_count": 584,
   "metadata": {
    "collapsed": true
   },
   "outputs": [],
   "source": [
    "# Параметры\n",
    "\n",
    "hor = 24 * 3600\n",
    "min_time_delta = 5 * 60 # 5 minutes"
   ]
  },
  {
   "cell_type": "code",
   "execution_count": 585,
   "metadata": {
    "collapsed": true
   },
   "outputs": [],
   "source": [
    "# Функция, которая возвращает датафрейм с коллизиями\n",
    "\n",
    "def check_time_collision(df):\n",
    "    df['link_end'] = (df.st_from != df.st_from.shift(-1)) | (df.st_to != df.st_to.shift(-1))\n",
    "    df['link_start'] = (df.st_from != df.st_from.shift(1)) | (df.st_to != df.st_to.shift(1))\n",
    "    df.loc[df.link_end == False, 'time_to_next'] = df.time_start.shift(-1) - df.time_start\n",
    "    df.loc[df.link_start == False, 'time_to_prev'] = df.time_start - df.time_start.shift(1)\n",
    "    collisions = df.loc[(df.time_to_next < min_time_delta) | (df.time_to_prev < min_time_delta)]\n",
    "    return collisions"
   ]
  },
  {
   "cell_type": "code",
   "execution_count": 586,
   "metadata": {
    "collapsed": false
   },
   "outputs": [
    {
     "name": "stdout",
     "output_type": "stream",
     "text": [
      "Время начала планирования: 29/07 18:00\n",
      "Количество коллизий (интервал между поездами меньше 5 минут):\n",
      "                            Тип Из всех поездов Из всех с подвязкой\n",
      "                     Все поезда               4                   4\n",
      "            Без учета резервных               0                   0\n",
      " Без учета резервных и фейковых               0                   0\n",
      "\n",
      "Реальные и фейковые поезда с интервалами меньше 5 минут (первые 20):\n",
      "Empty DataFrame\n",
      "Columns: [train, loco, team, st_from_name, st_to_name, time_start_f, time_end_f]\n",
      "Index: []\n"
     ]
    }
   ],
   "source": [
    "add_line('Время начала планирования: %s' % nice_time(current_time))\n",
    "cols = ['train', 'loco', 'team', 'st_from_name', 'st_to_name', 'time_start_f', 'time_end_f']\n",
    "train_plan['train_start'] = train_plan.train != train_plan.train.shift(1)\n",
    "train_plan.loc[train_plan.stop_time != -1, 'loco_start'] = (train_plan.loco != train_plan.loco.shift(1)) | \\\n",
    "                                                            (train_plan.train_start)\n",
    "train_plan.loc[train_plan.stop_time != -1, 'team_start'] = train_plan.team != train_plan.team.shift(1)\n",
    "mask = ((train_plan.loco_start == True) | (train_plan.team_start == True)) &\\\n",
    "        (train_plan.time_start < current_time + hor) & (train_plan.time_start >= current_time)\n",
    "assign_mask = (train_plan.loco != '-1') & (train_plan.team != '-1')\n",
    "cols_to_sort = ['st_from_name', 'st_to_name', 'time_start']\n",
    "start_times = train_plan.loc[mask].sort_values(cols_to_sort)\n",
    "start_times_no_res = train_plan.loc[mask & (train_plan.train_type.isin(['2', '9']))].sort_values(cols_to_sort)\n",
    "start_times_real = train_plan.loc[mask & (train_plan.train_type == '2')].sort_values(cols_to_sort)\n",
    "start_times_assign = train_plan.loc[mask & assign_mask].sort_values(cols_to_sort)\n",
    "start_times_assign_no_res = train_plan.loc[mask & assign_mask &\n",
    "                                           (train_plan.train_type.isin(['2', '9']))].sort_values(cols_to_sort)\n",
    "start_times_assign_real = train_plan.loc[mask & assign_mask & (train_plan.train_type == '2')].sort_values(cols_to_sort)\n",
    "\n",
    "all_coll = check_time_collision(start_times)\n",
    "no_res_coll = check_time_collision(start_times_no_res)\n",
    "real_coll = check_time_collision(start_times_real)\n",
    "all_assign_coll = check_time_collision(start_times_assign)\n",
    "no_res_assign_coll = check_time_collision(start_times_assign_no_res)\n",
    "real_assign_coll = check_time_collision(start_times_assign_real)\n",
    "train_n = len(start_times.train.drop_duplicates().index)\n",
    "res = pd.DataFrame([['Все поезда', 'Без учета резервных', 'Без учета резервных и фейковых'],                    \n",
    "                    [len(all_coll.index), len(no_res_coll.index), len(real_coll.index)],                    \n",
    "                    [len(all_assign_coll.index), len(no_res_assign_coll.index), len(real_assign_coll.index)]]).T\n",
    "res.columns = ['Тип', 'Из всех поездов', 'Из всех с подвязкой']\n",
    "add_header('Количество коллизий (интервал между поездами меньше %d минут):' % (min_time_delta / 60))\n",
    "add_line(res)\n",
    "add_header('\\nРеальные и фейковые поезда с интервалами меньше %d минут (первые 20):' % (min_time_delta / 60))\n",
    "add_line(no_res_coll[cols].head(20))"
   ]
  },
  {
   "cell_type": "markdown",
   "metadata": {},
   "source": [
    "<a id='ssp'></a>\n",
    "## Сравнение количества запланированных поездов с данными АС ССП [ToC](#toc)\n",
    "\n",
    "В файлах `SSP_KRS.csv` (и похожих - по другим дорогам) хранятся количества поездов, которые (в среднем) надо отправить с определенных стацниях в сутки. Это количество может меняться от суток к суткам (в зависимости от поездной обстановки в конкретный день), но примерную оценку по имеющимся данным сделать можно. Тест парсит файлы, берет оттуда необходимые направления и количества поездов, затем вычисляет запланированное количество по результатам планировщика и сравнивает."
   ]
  },
  {
   "cell_type": "code",
   "execution_count": 587,
   "metadata": {
    "collapsed": true
   },
   "outputs": [],
   "source": [
    "add_header('Сравнение количества запланированных поездов с данными АС ССП', h=2, p=False)"
   ]
  },
  {
   "cell_type": "code",
   "execution_count": 588,
   "metadata": {
    "collapsed": false
   },
   "outputs": [],
   "source": [
    "# Функция достает требуемые количества из датафрейма, полученного из файла, считает количество поездов в плане и возвращает\n",
    "# объединенный датафрейм с запланированным и требуемым количеством.\n",
    "\n",
    "def count_volumes(full_plan, df_ssp):\n",
    "    hor = 24 * 3600\n",
    "    df_ssp.dep_dir.fillna(0, inplace=True)    \n",
    "    df_ssp.loc[df_ssp.dep_dir == 0, 'depart'] = 0\n",
    "    df_ssp.dropna(subset=['depart'], inplace=True)\n",
    "    \n",
    "    ssp_st_froms = df_ssp.loc[df_ssp.dep_dir == 0].station\n",
    "    mask_time = (full_plan.time_start >= current_time) & (full_plan.time_start < current_time + hor)\n",
    "    mask_type = full_plan.train_type.isin(['2', '9'])\n",
    "    trains = full_plan.loc[mask_time & mask_type & full_plan.st_from_name.isin(ssp_st_froms)].\\\n",
    "                        groupby(['st_from_name', 'st_to_name']).train.count()\n",
    "    df_ssp.loc[df_ssp.dep_dir == 0, 'st_from_name'] = df_ssp.station\n",
    "    df_ssp = df_ssp.fillna(method='ffill')\n",
    "    df_ssp['st_to_name'] = df_ssp.station\n",
    "    replace_st_from_names = df_ssp.loc[df_ssp.dep_dir == 0, ['st_from_name', 'st_show_name']].drop_duplicates()\n",
    "    df_ssp['st_from_show'] = df_ssp.st_from_name.map(replace_st_from_names.set_index('st_from_name').st_show_name)\n",
    "    df_ssp['st_to_show'] = df_ssp.st_show_name    \n",
    "    return trains.to_frame().join(df_ssp[['st_from_name', 'st_to_name', 'depart', 'st_from_show', 'st_to_show', 'dep_dir']].\\\n",
    "                    set_index(['st_from_name', 'st_to_name'])).reset_index() if not trains.empty else pd.DataFrame()"
   ]
  },
  {
   "cell_type": "code",
   "execution_count": 589,
   "metadata": {
    "collapsed": true
   },
   "outputs": [],
   "source": [
    "# Эта и следующая функция нужны только для показа графиков. Сейчас они не используются, для анализа, в общем, достаточно табличек\n",
    "\n",
    "def show_barplot(df, road_name):\n",
    "    df['delta'] = df.train - df.depart\n",
    "    df['percent'] = np.round(100 * df.delta / df.depart, 2)\n",
    "    df['st_from_short'] = df.st_from_show.apply(lambda x: str(x)[:25])\n",
    "    df['st_to_short'] = df.st_to_show.apply(lambda x: str(x)[:25])\n",
    "    df['link'] = df.st_from_short + ' - ' + df.st_to_short \n",
    "    \n",
    "    print('%s железная дорога:' % road_name)\n",
    "    print('Среднее и медиана абсолютного отклонения: %.2f, %.2f' % (df.delta.mean(), df.delta.median()))\n",
    "    print('Среднее и медиана относительного отклонения (в процентах): %.2f%%, %.2f%%' % (df.percent.mean(), df.percent.median()))\n",
    "\n",
    "    b = df.sort_values('delta', ascending=False)\n",
    "    sns.set_style('whitegrid')\n",
    "    sns.set_context('poster', font_scale=0.7, rc={'axes.labelsize': 18})\n",
    "    c = sns.barplot(y='link', x='delta', data=df.sort_values('delta', ascending=False), palette='coolwarm')\n",
    "    xlabel = '%s ж/д: отклонение от данных АС ССП по отправлению поездов на сутки' % road_name\n",
    "    c.set(xlabel=xlabel, ylabel='')"
   ]
  },
  {
   "cell_type": "code",
   "execution_count": 590,
   "metadata": {
    "collapsed": false
   },
   "outputs": [],
   "source": [
    "VOL_PERCENT = 0.9\n",
    "\n",
    "def show_two_barplots(df, road_name, save=False, btype='less'):\n",
    "    df['st_from_short'] = df.st_from_show.apply(lambda x: str(x)[:25])\n",
    "    df['st_to_short'] = df.st_to_show.apply(lambda x: str(x)[:25])\n",
    "    df['link'] = df.st_from_short + ' - ' + df.st_to_short     \n",
    "    sns.set_style('whitegrid')    \n",
    "    sns.set_context('poster', font_scale=0.7, rc={'axes.titlesize':18, 'axes.labelsize':14})\n",
    "    fig, ax = plt.subplots(nrows=2, ncols=1, figsize=(14,20))    \n",
    "    df.depart.fillna(0, inplace=True)    \n",
    "    df['bottom'] = df.apply(lambda row: row.depart if row.train <= row.depart else row.train, axis=1)\n",
    "    df['top'] = df.apply(lambda row: row.train if row.train <= row.depart else row.depart, axis=1)     \n",
    "    \n",
    "    sns.set_color_codes('pastel')\n",
    "    sns.barplot(x='bottom', y='link', data=df[df.train <= VOL_PERCENT * df.depart].sort_values('bottom'), \n",
    "                label='Поезда из АС ССП', color=\"b\", orient='h', ax=ax[0])\n",
    "    sns.barplot(x='bottom', y='link', data=df[df.train * VOL_PERCENT > df.depart].sort_values('bottom'), \n",
    "                label='Поезда в результатах', color=\"r\", orient='h', ax=ax[1])\n",
    "    sns.set_color_codes('muted')\n",
    "    sns.barplot(x='top', y='link', data=df[df.train <= VOL_PERCENT * df.depart].sort_values('bottom'), \n",
    "                label='Поезда в результатах', color=\"b\", orient='h', ax=ax[0])\n",
    "    sns.barplot(x='top', y='link', data=df[df.train * VOL_PERCENT > df.depart].sort_values('bottom'), \n",
    "                label='Поезда из АС ССП', color=\"r\", orient='h', ax=ax[1])    \n",
    "    ax[0].legend(ncol=1, loc=\"upper right\", frameon=True)    \n",
    "    ax[1].legend(ncol=1, loc=\"upper right\", frameon=True)\n",
    "    ax[0].set(xlabel='', title='Нехватка запланированных поездов')\n",
    "    ax[1].set(xlabel='', title='Избыток запланированных поездов')\n",
    "    \n",
    "    sns.despine()\n",
    "    if save:\n",
    "        filename = road_name + '.png'\n",
    "        fig.savefig(REPORT_FOLDER + filename, bbox_inches='tight')\n",
    "        add_image(filename, scale=1.0)"
   ]
  },
  {
   "cell_type": "code",
   "execution_count": 591,
   "metadata": {
    "collapsed": false
   },
   "outputs": [],
   "source": [
    "def func(x):\n",
    "    return np.round(np.sqrt(np.mean(x ** 2)), 2)\n",
    "\n",
    "def print_ssp_stats(ssp, road_name):\n",
    "    df = count_volumes(train_plan, ssp)\n",
    "    if not df.empty:\n",
    "        df.rename(columns={'train':'planned', 'depart':'ssp'}, inplace=True)\n",
    "        df.dropna(subset=['ssp'], inplace=True)\n",
    "        df['delta'] = df.planned - df.ssp    \n",
    "        cols = ['st_from_name', 'st_to_show', 'dep_dir', 'planned', 'ssp', 'delta']            \n",
    "        add_header('Сравнение запланированного и \"нормативного\" количества поездов:')\n",
    "        add_line(df.sort_values(['dep_dir', 'delta'])[cols])    \n",
    "        add_header('\\nСреднее отклонение по количеству поездов по направлениям:')\n",
    "        add_line(df.groupby('dep_dir').delta.mean().apply(lambda x: np.round(x, 2)))\n",
    "        add_header('\\nСреднеквадратичное отклонение по направлениям:')\n",
    "        add_line(df.groupby('dep_dir').delta.agg(func))\n",
    "    else:\n",
    "        add_header('Дорога %s' % road_name, h=3)\n",
    "        add_line('Ни одного поезда не запланировано')"
   ]
  },
  {
   "cell_type": "code",
   "execution_count": 592,
   "metadata": {
    "collapsed": false
   },
   "outputs": [],
   "source": [
    "krs = pd.read_csv(FOLDER + 'mandatory/SSP_KRS.csv', sep=';')\n",
    "vsib = pd.read_csv(FOLDER + 'mandatory/SSP_VSIB.csv', sep=';')\n",
    "zab = pd.read_csv(FOLDER + 'mandatory/SSP_ZAB.csv', sep=';')\n",
    "dvs = pd.read_csv(FOLDER + 'mandatory/SSP_DVS.csv', sep=';')"
   ]
  },
  {
   "cell_type": "code",
   "execution_count": 593,
   "metadata": {
    "collapsed": false
   },
   "outputs": [
    {
     "name": "stdout",
     "output_type": "stream",
     "text": [
      "Дорога КРАС\n",
      "Ни одного поезда не запланировано\n"
     ]
    }
   ],
   "source": [
    "print_ssp_stats(krs, 'КРАС')"
   ]
  },
  {
   "cell_type": "code",
   "execution_count": 594,
   "metadata": {
    "collapsed": false
   },
   "outputs": [
    {
     "name": "stdout",
     "output_type": "stream",
     "text": [
      "Дорога ВСИБ\n",
      "Ни одного поезда не запланировано\n"
     ]
    }
   ],
   "source": [
    "print_ssp_stats(vsib, 'ВСИБ')"
   ]
  },
  {
   "cell_type": "code",
   "execution_count": 595,
   "metadata": {
    "collapsed": false
   },
   "outputs": [
    {
     "name": "stdout",
     "output_type": "stream",
     "text": [
      "Дорога ЗАБ\n",
      "Ни одного поезда не запланировано\n"
     ]
    }
   ],
   "source": [
    "print_ssp_stats(zab, 'ЗАБ')"
   ]
  },
  {
   "cell_type": "code",
   "execution_count": 596,
   "metadata": {
    "collapsed": false
   },
   "outputs": [
    {
     "name": "stdout",
     "output_type": "stream",
     "text": [
      "Дорога ДВС\n",
      "Ни одного поезда не запланировано\n"
     ]
    }
   ],
   "source": [
    "print_ssp_stats(dvs, 'ДВС')"
   ]
  },
  {
   "cell_type": "code",
   "execution_count": 597,
   "metadata": {
    "collapsed": false
   },
   "outputs": [],
   "source": [
    "# Пример построения barplot\n",
    "\n",
    "#krs = pd.read_csv(FOLDER + 'mandatory/SSP_KRS.csv', sep=';')\n",
    "#add_header('Красноярская дорога')\n",
    "#try:\n",
    "#    show_two_barplots(count_volumes(train_plan, krs), 'Красноярская', save=True, btype='less')\n",
    "#except:\n",
    "#    add_line('Красноярская дорога: ошибка в построении графика')"
   ]
  },
  {
   "cell_type": "markdown",
   "metadata": {},
   "source": [
    "<a id='info_plan_depart'></a>\n",
    "## Проверка соответствия первого участка в запланированном маршруте и исходного факта [ToC](#toc)\n",
    "\n",
    "Если поезд на начало планирования находится на каком-то перегоне (сообщение `train_depart`), то первый участок запланированного маршрута должен совпадать с участком местоположения поезда из входных данных.\n",
    "\n",
    "**TODO: Можно обернуть строки показа результатов в if-then-else, чтобы не выводились пустые датафреймы, а писалось красивое сообщение, что ошибок нет.**"
   ]
  },
  {
   "cell_type": "code",
   "execution_count": 598,
   "metadata": {
    "collapsed": true
   },
   "outputs": [],
   "source": [
    "add_header('Проверка соответствия первого участка в запланированном маршруте и исходного факта', h=2, p=False)"
   ]
  },
  {
   "cell_type": "code",
   "execution_count": 599,
   "metadata": {
    "collapsed": false
   },
   "outputs": [
    {
     "name": "stdout",
     "output_type": "stream",
     "text": [
      "Поезда, у которых первый участок в маршруте не совпадает с исходным (всего 0, показаны первые 10):\n",
      "Empty DataFrame\n",
      "Columns: [train, st_from_name, st_to_name, time_start_f, st_from_name_info, st_to_name_info, oper_time_f]\n",
      "Index: []\n",
      "\n",
      "Поезда, у которых время отправления на первый участок в маршруте не совпадает с фактическим (всего 0, показаны первые 10):\n",
      "Empty DataFrame\n",
      "Columns: [train, st_from_name, st_to_name, time_start_f, st_from_name_info, st_to_name_info, oper_time_f]\n",
      "Index: []\n"
     ]
    }
   ],
   "source": [
    "cols = ['train', 'st_from_name', 'st_to_name', 'time_start_f', 'st_from_name_info', 'st_to_name_info', 'oper_time_f']\n",
    "td_plan = train_plan[(train_plan.st_from_info.isnull() == False) \n",
    "                     & (train_plan.st_from_info != '-1')].drop_duplicates('train')\n",
    "td_bad_track = td_plan[(td_plan.st_from != td_plan.st_from_info) | (td_plan.st_to != td_plan.st_to_info)]\n",
    "add_header('Поезда, у которых первый участок в маршруте не совпадает с исходным (всего %d, показаны первые 10):' \n",
    "          % td_bad_track.train.count())\n",
    "add_line(td_bad_track[cols])\n",
    "\n",
    "td_bad_time = td_plan[(td_plan.time_start != td_plan.oper_time)]\n",
    "add_header('\\nПоезда, у которых время отправления на первый участок в маршруте не совпадает с фактическим (всего %d, показаны первые 10):' \n",
    "          % td_bad_time.train.count())\n",
    "pd.set_option('display.max_colwidth', 19)\n",
    "add_line(td_bad_time.sort_values('oper_time')[cols].head(10))"
   ]
  },
  {
   "cell_type": "markdown",
   "metadata": {},
   "source": [
    "<a id='time_leaps'></a>\n",
    "## Проверка скачков по времени назад [ToC](#toc)\n",
    "\n",
    "На запланированном маршруте поездов не должно быть случаев, когда время отправления с какой-то станции меньше времени прибытия на нее, а время прибытия на конечную станцию участка не больше времени отправления с начальной станции участка."
   ]
  },
  {
   "cell_type": "code",
   "execution_count": 600,
   "metadata": {
    "collapsed": true
   },
   "outputs": [],
   "source": [
    "add_header('Проверка скачков по времени назад', h=2, p=False)"
   ]
  },
  {
   "cell_type": "code",
   "execution_count": 601,
   "metadata": {
    "collapsed": false
   },
   "outputs": [
    {
     "name": "stdout",
     "output_type": "stream",
     "text": [
      "Не найдено поездов со скачками по времени назад в плане\n"
     ]
    }
   ],
   "source": [
    "train_plan['next_time_start'] = train_plan.time_start.shift(-1)\n",
    "train_plan['next_time_start_f'] = train_plan.time_start_f.shift(-1)\n",
    "train_plan['train_end'] = train_plan.train != train_plan.train.shift(-1)\n",
    "cols = ['train', 'st_from_name', 'st_to_name', 'time_start_f', 'time_end_f', 'next_time_start_f']\n",
    "leaps = train_plan[(train_plan.train_end == False) & (train_plan.next_time_start < train_plan.time_end)][cols]\n",
    "if leaps.empty:\n",
    "    add_header('Не найдено поездов со скачками по времени назад в плане')\n",
    "else:\n",
    "    add_header('Всего %d поездов со скачками по времени назад в плане. Примеры:' % leaps.drop_duplicates('train').train.count())\n",
    "    add_line(leaps.drop_duplicates('train').head(10)[cols])\n",
    "    train_id = leaps.drop_duplicates('train').iloc[0].train\n",
    "    add_line('')    \n",
    "    add_line(train_plan[train_plan.train == train_id][cols])"
   ]
  },
  {
   "cell_type": "markdown",
   "metadata": {},
   "source": [
    "<a id='irk_ssp'></a>"
   ]
  },
  {
   "cell_type": "markdown",
   "metadata": {},
   "source": [
    "## Сравнение количества передаваемых в планировщик реальных поездов с ССП [ToC](#toc)\n",
    "\n",
    "Детальное сравнение количества поездов для станции Иркутск.\n",
    "\n",
    "1. Сначала производится приблизительное определение поездов, которые в ближайшие сутки должны проследовать через Иркутск. Для этого:\n",
    "  1. Берутся поезда, у которых в маршруте есть Иркутск.\n",
    "  2. Берется начальное местоположение поезда, определяется его время хода до Иркутска. Времена хода берутся из файла `travel_times.csv`.\n",
    "  3. Добавляются допуски на стоянки для смены бригад. Считается, что смена бригады происходит каждые 6 часов и занимает примерно 1.5 часа. Поэтому время хода делится на 6 и умножается на 1.5 - так вычисляется добавка к \"чистому\" времени хода.\n",
    "  4. Время хода и допуски прибавляются к времени последней операции (или к времени начала планирования - для поездов в состоянии `arrive` или `ready`, у которых время последней операции меньше времени начала планирования).\n",
    "2. Затем оставляются только поезда, для которых время прибытия в Иркутск лежит в первых сутках планирования.\n",
    "3. Затем определяются поезда (из п.1), которых вообще нет в результатах планирования. Это проблемные поезда, причины их отсутствия надо исследовать.\n",
    "4. Затем для всех поездов определяется время прибытия в Иркутск. Если оно значительно отличается от предварительно рассчитанного (точного критерия ошибки тут нет - ориентировочно можно считать превышение на 3 часа значительным), то надо проверять, где этот поезд потерял время. "
   ]
  },
  {
   "cell_type": "code",
   "execution_count": 602,
   "metadata": {
    "collapsed": true
   },
   "outputs": [],
   "source": [
    "# Направления для проверки\n",
    "\n",
    "test = [('ИРКУТСК-СОРТИРОВОЧНЫЙ', 'ГОНЧАРОВО'), ('ИРКУТСК-СОРТИРОВОЧНЫЙ', 'БАТАРЕЙНАЯ')]"
   ]
  },
  {
   "cell_type": "code",
   "execution_count": 603,
   "metadata": {
    "collapsed": true
   },
   "outputs": [],
   "source": [
    "add_header('Детальное сравнение количества поездов с данными ССП по станции %s' % test[0][0], h=2, p=False)"
   ]
  },
  {
   "cell_type": "code",
   "execution_count": 604,
   "metadata": {
    "collapsed": false
   },
   "outputs": [],
   "source": [
    "routes = pd.read_csv(FOLDER + 'routes.csv', dtype={'st_from':str, 'st_to':str, 'train':str})\n",
    "add_info(routes)\n",
    "routes['link_name'] = list(zip(routes.st_from_name, routes.st_to_name))\n",
    "#def_tt = pd.read_csv(FOLDER + '/mandatory/travel_times_all_pairs.csv', sep=';').set_index(['st_from_name', 'st_to_name'])\n",
    "def_tt = pd.read_csv(FOLDER + '/mandatory/travel_times.csv', index_col=0)"
   ]
  },
  {
   "cell_type": "code",
   "execution_count": 605,
   "metadata": {
    "collapsed": false
   },
   "outputs": [
    {
     "name": "stdout",
     "output_type": "stream",
     "text": [
      "Всего 0 поездов, по которым ожидается проследование в направлении ИРКУТСК-СОРТИРОВОЧНЫЙ - ГОНЧАРОВО в первые сутки планирования\n"
     ]
    }
   ],
   "source": [
    "def get_arrive_time(row, station):\n",
    "    if (row.oper == 'depart') | (row.oper_time >= current_time):\n",
    "        start_time = row.oper_time\n",
    "    else:\n",
    "        start_time = current_time            \n",
    "    return start_time + row.tt + row.lag\n",
    "\n",
    "(test_st, test_st_dir) = test[0]\n",
    "train_info['st_loc_name'] = train_info.oper_location.map(st_names.name)\n",
    "train_info.st_loc_name.fillna(train_info.st_from_name, inplace=True)\n",
    "#train_info['tt'] = train_info.st_loc_name.apply(lambda x: def_tt.ix[x, test_st].tt)\n",
    "train_info['tt'] = train_info.st_loc_name.apply(lambda x: 48 * 3600 if type(x) == float else def_tt[x][test_st])\n",
    "\n",
    "train_info['lag'] = np.round((train_info.tt / 6) * 1.5)\n",
    "train_info['arr_time'] = train_info[['oper', 'oper_time', 'tt', 'lag']]\\\n",
    "                                    .apply(lambda row: get_arrive_time(row, test_st), axis=1)\n",
    "train_info['arr_time_f'] = train_info.arr_time.apply(nice_time)\n",
    "train_info['plan_time'] = train_info.train.map(train_plan[train_plan.st_from_name == test_st].set_index('train').time_start)\n",
    "train_info['plan_time_f'] = train_info.plan_time.apply(nice_time)\n",
    "train_info['delta'] = train_info.plan_time - train_info.arr_time\n",
    "train_info['delta_h'] = np.round((train_info.delta / 3600), 2)\n",
    "\n",
    "train_plan['link_name'] = list(zip(train_plan.st_from_name, train_plan.st_to_name))\n",
    "\n",
    "dir_trains = train_info[(train_info.number >= 1000)\n",
    "                        & (train_info.train.isin(routes[routes.link_name == (test_st, test_st_dir)].train))]\n",
    "cols = ['train', 'number', 'oper', 'st_loc_name', 'tt', 'lag', 'oper_time_f', 'arr_time_f', 'plan_time_f', 'delta_h']\n",
    "dir_trains = dir_trains[dir_trains.arr_time < current_time + 24 * 3600].sort_values('arr_time')\n",
    "#a[cols]\n",
    "add_header('Всего %d поездов, по которым ожидается проследование в направлении %s - %s в первые сутки планирования'\n",
    "           % (dir_trains.train.count(), test_st, test_st_dir))"
   ]
  },
  {
   "cell_type": "code",
   "execution_count": 606,
   "metadata": {
    "collapsed": false
   },
   "outputs": [
    {
     "name": "stdout",
     "output_type": "stream",
     "text": [
      "Всего 0 поездов на направлении ИРКУТСК-СОРТИРОВОЧНЫЙ - ГОНЧАРОВО, которых вообще нет в плане\n",
      "Empty DataFrame\n",
      "Columns: [train, number, oper, st_loc_name, tt, lag, oper_time_f, arr_time_f, plan_time_f, delta_h]\n",
      "Index: []\n"
     ]
    }
   ],
   "source": [
    "no_plan = dir_trains[dir_trains.plan_time.isnull()][cols]\n",
    "pd.set_option('display.max_colwidth', 40)\n",
    "add_header('Всего %d поездов на направлении %s - %s, которых вообще нет в плане' % (no_plan.train.count(), test_st, test_st_dir))\n",
    "add_line(no_plan)"
   ]
  },
  {
   "cell_type": "code",
   "execution_count": 607,
   "metadata": {
    "collapsed": false
   },
   "outputs": [
    {
     "name": "stdout",
     "output_type": "stream",
     "text": [
      "Всего 0 поездов (nan%), по которым запланировано проследование в направлении ИРКУТСК-СОРТИРОВОЧНЫЙ - ГОНЧАРОВО в первые сутки\n"
     ]
    }
   ],
   "source": [
    "plan_day = dir_trains[dir_trains.plan_time < current_time + 24 * 3600][cols]\n",
    "add_header('Всего %d поездов (%.2f%%), по которым запланировано проследование в направлении %s - %s в первые сутки'\n",
    "          % (plan_day.train.count(), 100 * plan_day.train.count() / dir_trains.train.count(), test_st, test_st_dir))"
   ]
  },
  {
   "cell_type": "code",
   "execution_count": 608,
   "metadata": {
    "collapsed": false
   },
   "outputs": [
    {
     "name": "stdout",
     "output_type": "stream",
     "text": [
      "Всего 0 поездов (nan%), у которых запланированное время проследования на участке ИРКУТСК-СОРТИРОВОЧНЫЙ - ГОНЧАРОВО сильно сдвинуто вперед\n",
      "Empty DataFrame\n",
      "Columns: [train, number, oper, st_loc_name, tt, lag, oper_time_f, arr_time_f, plan_time_f, delta_h]\n",
      "Index: []\n"
     ]
    }
   ],
   "source": [
    "# sns.set(context='notebook', style='whitegrid')\n",
    "# sns.set_color_codes('dark')\n",
    "# plt.figure(figsize=(10, 5))\n",
    "# sns.kdeplot(dir_trains[dir_trains.train.isin(plan_day.train) == False].dropna(subset=['delta']).delta / 3600, shade=True)\n",
    "\n",
    "delta_lim = 3 * 3600\n",
    "late_trains = dir_trains[dir_trains.delta > delta_lim]\n",
    "late_trains.sort_values('delta', ascending=False)[cols]\n",
    "add_header('Всего %d поездов (%.2f%%), у которых запланированное время проследования на участке %s - %s сильно сдвинуто вперед' \n",
    "           % (late_trains.train.count(), 100 * late_trains.train.count() / dir_trains.train.count(), test_st, test_st_dir))\n",
    "add_line(late_trains.sort_values('delta', ascending=False)[cols])"
   ]
  },
  {
   "cell_type": "code",
   "execution_count": 609,
   "metadata": {
    "collapsed": false,
    "scrolled": false
   },
   "outputs": [
    {
     "name": "stdout",
     "output_type": "stream",
     "text": [
      "Пример плана по одному из поездов, формированием НЕ на станции ИРКУТСК-СОРТИРОВОЧНЫЙ:\n",
      "Empty DataFrame\n",
      "Columns: [train, oper, oper_time_f, st_from_name, st_to_name, time_start_f, time_end_f, loco, team]\n",
      "Index: []\n"
     ]
    }
   ],
   "source": [
    "plan_cols = ['train', 'oper', 'oper_time_f', 'st_from_name', 'st_to_name', 'time_start_f', 'time_end_f', 'loco', 'team']\n",
    "add_header('Пример плана по одному из поездов, формированием НЕ на станции %s:' % test_st)\n",
    "#train_id = late_trains[late_trains.st_loc_name != test_st].sort_values('delta', ascending=False).iloc[0].train\n",
    "train_id = '200022625675'\n",
    "with pd.option_context('display.max_colwidth', 15):\n",
    "    add_line(train_plan[train_plan.train == train_id][plan_cols])"
   ]
  },
  {
   "cell_type": "code",
   "execution_count": 610,
   "metadata": {
    "collapsed": true
   },
   "outputs": [],
   "source": [
    "slot = pd.read_csv(FOLDER + 'slot.csv', dtype={'st_from':str, 'st_to':str})\n",
    "add_info(slot)\n",
    "slot['dt_start'] = slot.time_start.apply(datetime.datetime.fromtimestamp)"
   ]
  },
  {
   "cell_type": "code",
   "execution_count": 611,
   "metadata": {
    "collapsed": false
   },
   "outputs": [
    {
     "data": {
      "text/plain": [
       "Series([], Freq: H, Name: train, dtype: int64)"
      ]
     },
     "execution_count": 611,
     "metadata": {},
     "output_type": "execute_result"
    }
   ],
   "source": [
    "test = [('ТАЙШЕТ', 'ТОРЕЯ')]\n",
    "(test_st, test_st_dir) = test[0]\n",
    "plan_cols = ['train', 'st_from_name', 'st_to_name', 'dt_start', 'loco', 'team']\n",
    "train_plan['dt_start'] = train_plan.time_start.apply(datetime.datetime.fromtimestamp)\n",
    "a = train_plan[(train_plan.st_from_name == test_st) \n",
    "           & (train_plan.st_to_name == test_st_dir) & (train_plan.train_type.isin(['2', '9']))\n",
    "           & (train_plan.time_start >= current_time) & (train_plan.time_end < current_time + 24 * 3600)]\\\n",
    "    .sort_values('dt_start')[plan_cols]\n",
    "dep_volume = a.set_index('dt_start').resample('1H', how='count').train\n",
    "dep_volume"
   ]
  },
  {
   "cell_type": "code",
   "execution_count": 612,
   "metadata": {
    "collapsed": false
   },
   "outputs": [],
   "source": [
    "slot_volume = slot[(slot.st_from_name == test_st) & (slot.st_to_name == test_st_dir)]\\\n",
    "    .set_index('dt_start').resample('1H', how='count').slot\n",
    "dep_slot = dep_volume.to_frame().join(slot_volume)"
   ]
  },
  {
   "cell_type": "code",
   "execution_count": 613,
   "metadata": {
    "collapsed": false
   },
   "outputs": [],
   "source": [
    "# slot_volume = slot[(slot.st_from_name == test_st) & (slot.st_to_name == test_st_dir)]\\\n",
    "#     .set_index('dt_start').resample('300s')\n",
    "# slot_volume.dropna(subset=['slot'], inplace=True)\n",
    "# slot_volume['slot'] = slot_volume.slot.apply(int)\n",
    "# slot_volume = slot_volume.reset_index().set_index('slot')\n",
    "# slot_volume"
   ]
  },
  {
   "cell_type": "code",
   "execution_count": 614,
   "metadata": {
    "collapsed": false
   },
   "outputs": [
    {
     "name": "stdout",
     "output_type": "stream",
     "text": [
      "Empty DataFrame\n",
      "Columns: [train, slot]\n",
      "Index: []\n"
     ]
    }
   ],
   "source": [
    "a = dep_slot[dep_slot.train > dep_slot.slot]\n",
    "print(a)"
   ]
  },
  {
   "cell_type": "code",
   "execution_count": 615,
   "metadata": {
    "collapsed": false
   },
   "outputs": [],
   "source": [
    "pd.set_option('display.max_colwidth', 40)\n",
    "cols = ['train', 'st_from_name', 'st_to_name', 'dt_start']\n",
    "for dt in a.index:\n",
    "    dt_next = dt + datetime.timedelta(0, 3600, 0)\n",
    "    print(dt, dt_next)\n",
    "    print(train_plan[(train_plan.train_type.isin(['2', '9']))\n",
    "                    & (train_plan.st_from_name == test_st) & (train_plan.st_to_name == test_st_dir)\n",
    "                    & (train_plan.dt_start >= dt) & (train_plan.dt_start < dt_next)].sort_values('dt_start')[cols])\n",
    "    print(slot[(slot.st_from_name == test_st) & (slot.st_to_name == test_st_dir)\n",
    "                    & (slot.dt_start >= dt) & (slot.dt_start < dt_next)].sort_values('dt_start')[['slot', 'dt_start']])\n",
    "    print('-------')"
   ]
  },
  {
   "cell_type": "markdown",
   "metadata": {},
   "source": [
    "[В начало](#toc)\n",
    "## Планирование сдвоенных поездов и поездов, составляющих сдвоенные\n",
    "\n",
    "0. Сдвоенные поезда - это поезда, которые указаны в атрибуте `joint` у каких-либо других поездов.\n",
    "1. Сдвоенные поезда с точки зрения планирования ничем не отличаются от обычных поездов. Проверяется, что сдвоенные поезда планируются до своей конечной станции.\n",
    "2. Составляющие поезда должны планироваться от конечной станции сдвоенного поезда и только после прибытия сдвоенного поезда на конечную станцию."
   ]
  },
  {
   "cell_type": "code",
   "execution_count": 616,
   "metadata": {
    "collapsed": true
   },
   "outputs": [],
   "source": [
    "add_header('Планирование сдвоенных поездов и поездов, составляющих сдвоенные', h=2, p=False)"
   ]
  },
  {
   "cell_type": "code",
   "execution_count": 617,
   "metadata": {
    "collapsed": false
   },
   "outputs": [
    {
     "name": "stdout",
     "output_type": "stream",
     "text": [
      "Всего запланировано 0 сдвоенных поездов из 0 корректно переданных (nan%). Примеры незапланированных поездов:\n",
      "Empty DataFrame\n",
      "Columns: [train, number, ind434, oper, oper_time_f, loc_name]\n",
      "Index: []\n"
     ]
    }
   ],
   "source": [
    "train_info['is_arrive'] = train_info.last_st == train_info.loc_name\n",
    "train_plan['last_st_info'] = train_plan.train.map(train_info.set_index('train').last_st)\n",
    "joints = [t for t in train_info.joint.unique() if t != '-1']\n",
    "info_joints = train_info[train_info.train.isin(joints)]\n",
    "joints_to_plan = info_joints[info_joints.is_arrive == False]\n",
    "joints_planned = train_plan[train_plan.train.isin(joints_to_plan.train)]\n",
    "add_header('Всего запланировано %d сдвоенных поездов из %d корректно переданных (%.2f%%). Примеры незапланированных поездов:' \n",
    "           % (joints_planned.train.count(), joints_to_plan.train.count(), \n",
    "              100 * joints_planned.drop_duplicates('train').train.count() / joints_to_plan.train.count()))\n",
    "cols = ['train', 'number', 'ind434', 'oper', 'oper_time_f', 'loc_name']\n",
    "pd.set_option('display.max_colwidth', 50)\n",
    "add_line(joints_to_plan.head(10)[cols])"
   ]
  },
  {
   "cell_type": "code",
   "execution_count": 618,
   "metadata": {
    "collapsed": false
   },
   "outputs": [
    {
     "name": "stdout",
     "output_type": "stream",
     "text": [
      "Всего 0 сдвоенных поездов из 0 запланированных (nan%) запланированы НЕ до конца маршрута. Примеры:\n",
      "Empty DataFrame\n",
      "Columns: [train, number, ind434, st_from_name, st_to_name, last_st_info]\n",
      "Index: []\n"
     ]
    }
   ],
   "source": [
    "tl = joints_planned.drop_duplicates('train', keep='last')\n",
    "tl_no_end = tl[tl.st_to_name != tl.last_st_info]\n",
    "add_header('Всего %d сдвоенных поездов из %d запланированных (%.2f%%) запланированы НЕ до конца маршрута. Примеры:' \n",
    "           % (tl_no_end.train.count(), joints_planned.drop_duplicates('train').train.count(), \n",
    "              100 * tl_no_end.train.count() / joints_planned.drop_duplicates('train').train.count()))\n",
    "cols = ['train', 'number', 'ind434', 'st_from_name', 'st_to_name', 'last_st_info']\n",
    "add_line(tl_no_end.head(10)[cols])"
   ]
  },
  {
   "cell_type": "code",
   "execution_count": 619,
   "metadata": {
    "collapsed": false
   },
   "outputs": [
    {
     "data": {
      "text/html": [
       "<div>\n",
       "<table border=\"1\" class=\"dataframe\">\n",
       "  <thead>\n",
       "    <tr style=\"text-align: right;\">\n",
       "      <th></th>\n",
       "      <th>train</th>\n",
       "      <th>ind434</th>\n",
       "      <th>number</th>\n",
       "      <th>oper</th>\n",
       "      <th>oper_time_f</th>\n",
       "      <th>loc_name</th>\n",
       "    </tr>\n",
       "  </thead>\n",
       "  <tbody>\n",
       "  </tbody>\n",
       "</table>\n",
       "</div>"
      ],
      "text/plain": [
       "Empty DataFrame\n",
       "Columns: [train, ind434, number, oper, oper_time_f, loc_name]\n",
       "Index: []"
      ]
     },
     "execution_count": 619,
     "metadata": {},
     "output_type": "execute_result"
    }
   ],
   "source": [
    "inds = ['9300-248-9431', '9300-249-9700', '9300-573-9401', '9300-246-9431']\n",
    "cols = ['train', 'ind434', 'number', 'oper', 'oper_time_f', 'loc_name']\n",
    "train_info[train_info.ind434.isin(inds)][cols]"
   ]
  },
  {
   "cell_type": "code",
   "execution_count": 620,
   "metadata": {
    "collapsed": false
   },
   "outputs": [
    {
     "data": {
      "text/html": [
       "<div>\n",
       "<table border=\"1\" class=\"dataframe\">\n",
       "  <thead>\n",
       "    <tr style=\"text-align: right;\">\n",
       "      <th></th>\n",
       "      <th>train</th>\n",
       "      <th>ind434</th>\n",
       "      <th>oper</th>\n",
       "      <th>oper_time_f</th>\n",
       "      <th>st_from_name</th>\n",
       "      <th>st_to_name</th>\n",
       "      <th>time_start_f</th>\n",
       "      <th>time_end_f</th>\n",
       "    </tr>\n",
       "  </thead>\n",
       "  <tbody>\n",
       "  </tbody>\n",
       "</table>\n",
       "</div>"
      ],
      "text/plain": [
       "Empty DataFrame\n",
       "Columns: [train, ind434, oper, oper_time_f, st_from_name, st_to_name, time_start_f, time_end_f]\n",
       "Index: []"
      ]
     },
     "execution_count": 620,
     "metadata": {},
     "output_type": "execute_result"
    }
   ],
   "source": [
    "cols = ['train', 'ind434', 'oper', 'oper_time_f', 'st_from_name', 'st_to_name', 'time_start_f', 'time_end_f']\n",
    "train_plan[train_plan.ind434 == inds[3]][cols]"
   ]
  },
  {
   "cell_type": "code",
   "execution_count": 621,
   "metadata": {
    "collapsed": false
   },
   "outputs": [
    {
     "data": {
      "text/html": [
       "<div>\n",
       "<table border=\"1\" class=\"dataframe\">\n",
       "  <thead>\n",
       "    <tr style=\"text-align: right;\">\n",
       "      <th></th>\n",
       "      <th>train</th>\n",
       "      <th>ind434</th>\n",
       "      <th>oper</th>\n",
       "      <th>oper_time_f</th>\n",
       "      <th>st_from_name</th>\n",
       "      <th>st_to_name</th>\n",
       "      <th>time_start_f</th>\n",
       "      <th>time_end_f</th>\n",
       "    </tr>\n",
       "  </thead>\n",
       "  <tbody>\n",
       "  </tbody>\n",
       "</table>\n",
       "</div>"
      ],
      "text/plain": [
       "Empty DataFrame\n",
       "Columns: [train, ind434, oper, oper_time_f, st_from_name, st_to_name, time_start_f, time_end_f]\n",
       "Index: []"
      ]
     },
     "execution_count": 621,
     "metadata": {},
     "output_type": "execute_result"
    }
   ],
   "source": [
    "train_info[train_info.ind434.apply(lambda x: '9300-246' in x)]\n",
    "train_plan[train_plan.train == '200253661138'][cols]"
   ]
  },
  {
   "cell_type": "markdown",
   "metadata": {},
   "source": [
    "<a id='report'></a>\n",
    "### Экспорт в HTML [ToC](#toc)"
   ]
  },
  {
   "cell_type": "code",
   "execution_count": 622,
   "metadata": {
    "collapsed": false
   },
   "outputs": [
    {
     "name": "stdout",
     "output_type": "stream",
     "text": [
      "Отчет сформирован: report/train_report_20160817_202921.html\n"
     ]
    }
   ],
   "source": [
    "filename = REPORT_FOLDER + 'train_report_' + time.strftime('%Y%m%d_%H%M%S', time.localtime(time.time())) + '.html'\n",
    "create_report(filename)"
   ]
  }
 ],
 "metadata": {
  "kernelspec": {
   "display_name": "Python 3",
   "language": "python",
   "name": "python3"
  },
  "language_info": {
   "codemirror_mode": {
    "name": "ipython",
    "version": 3
   },
   "file_extension": ".py",
   "mimetype": "text/x-python",
   "name": "python",
   "nbconvert_exporter": "python",
   "pygments_lexer": "ipython3",
   "version": "3.5.1"
  }
 },
 "nbformat": 4,
 "nbformat_minor": 0
}
