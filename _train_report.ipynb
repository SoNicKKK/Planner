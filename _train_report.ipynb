{
 "cells": [
  {
   "cell_type": "markdown",
   "metadata": {},
   "source": [
    "<a id='toc'></a>\n",
    "# Отчет по запланированным поездам\n",
    "\n",
    "1. [Проверка планирования всех реальных поездов](#all_plan)\n",
    "1. [Проверка совпадения четности номеров поездов и направления движения](#oddity)\n",
    "2. [Анализ времен стоянок поездов на станциях смены локомотивов и бригад.](#stop_time)\n",
    "   1. [Смена локомотивов](#stop_loco)\n",
    "   2. [Смена бригад](#stop_team)\n",
    "4. [Выявление случаев \"близкой\" отправки поездов с одной станции (с интервалом меньше 5 минут)](#dep_interval)\n",
    "5. [Анализ отклонения запланированного на сутки количества поездов от данных АС ССП (данные средние по суткам).](#ssp)\n",
    "6. [Проверка соответствия первого участка в запланированном маршруте и исходного факта](#info_plan_depart)\n",
    "6. [Детальное сравнение количества поездов по Иркутску с данными ССП](#irk_ssp)\n",
    "7. [Планирование сдвоенных поездов и поездов, составляющих сдвоенные](#Планирование-сдвоенных-поездов-и-поездов,-составляющих-сдвоенные)\n",
    "6. [Создание отчета](#report)"
   ]
  },
  {
   "cell_type": "markdown",
   "metadata": {},
   "source": [
    "## Вспомогательные функции\n",
    "\n",
    "### Функции для экспорта в HTML\n",
    "\n",
    "Чтобы какой-то заголовок, текст, таблица или картинка попали в итоговый отчет, их надо туда добавить методами `add_header` (заголовок), `add_line` (текст или таблица), `add_image` (картинка). Примеры использования функций см. по коду. В `add_header` можно передать параметр `(int) h`, в котором указывается уровень заголовка (от 1 и далее, 1 - максимальный).\n",
    "\n",
    "Весь html-код отчета записывается в глобальную переменную report, в конце методом `create_report` происходит собственно создание html-файла."
   ]
  },
  {
   "cell_type": "code",
   "execution_count": null,
   "metadata": {
    "collapsed": true
   },
   "outputs": [],
   "source": [
    "report = ''\n",
    "FOLDER = 'resources/'\n",
    "REPORT_FOLDER = 'report/'\n",
    "PRINT = True"
   ]
  },
  {
   "cell_type": "code",
   "execution_count": null,
   "metadata": {
    "collapsed": true
   },
   "outputs": [],
   "source": [
    "def add_line(line, p=PRINT):    \n",
    "    global report        \n",
    "    if p:                \n",
    "        if type(line) == pd.core.frame.DataFrame:\n",
    "            print(line.to_string(index=False))\n",
    "        elif type(line) == pd.core.series.Series:\n",
    "            print(line.to_string())\n",
    "        else:\n",
    "            print(line)\n",
    "    if type(line) == pd.core.frame.DataFrame:        \n",
    "        report += ('%s<br>' % line.to_html(index=False))\n",
    "    elif type(line) == pd.core.series.Series:\n",
    "        report += ('%s<br>' % line.to_frame().reset_index().to_html(index=False))\n",
    "    else:        \n",
    "        report += ('%s<br>' % line)\n",
    "    \n",
    "def add_header(header, h=4, p=PRINT):\n",
    "    global report\n",
    "    report += ('<h%d>%s</h%d>' % (h, header, h))\n",
    "    if p:\n",
    "        print(header)\n",
    "\n",
    "def add_image(filename, scale=0.4):\n",
    "    global report\n",
    "    report += ('<img src=\"%s\" alt=\"%s\" height=\"%d%%\">' % (filename, filename, int(scale * 100)))\n",
    "\n",
    "def create_report(filename):\n",
    "    global report\n",
    "    report = report.replace('<table border=\"1\" class=\"dataframe\">','<table class=\"table table-striped\">')\n",
    "    html_string = '''\n",
    "        <html>\n",
    "            <head>\n",
    "                <link rel=\"stylesheet\" href=\"skeleton.css\">\n",
    "                <style>body{ margin:20 20; background:whitesmoke; }\n",
    "                table {table-layout : fixed}\n",
    "                </style>\n",
    "            </head>\n",
    "            <body>                \n",
    "                %s\n",
    "            </body>\n",
    "        </html>''' % (report)\n",
    "    f = open(filename,'w', encoding='utf-8-sig')\n",
    "    f.write(html_string)\n",
    "    f.close()\n",
    "    print('Отчет сформирован: %s' % filename)"
   ]
  },
  {
   "cell_type": "markdown",
   "metadata": {},
   "source": [
    "## Загрузка и подготовка данных"
   ]
  },
  {
   "cell_type": "code",
   "execution_count": null,
   "metadata": {
    "collapsed": false
   },
   "outputs": [],
   "source": [
    "import numpy as np\n",
    "import pandas as pd\n",
    "import time, datetime\n",
    "from ast import literal_eval\n",
    "import matplotlib.pyplot as plt\n",
    "import seaborn as sns\n",
    "%matplotlib inline\n",
    "\n",
    "pd.set_option('max_rows', 50)\n",
    "\n",
    "time_format = '%d/%m %H:%M'\n",
    "\n",
    "start_time = time.time()\n",
    "current_time = pd.read_csv(FOLDER + 'current_time.csv').current_time[0]\n",
    "twr          = pd.read_csv(FOLDER + 'team_work_region.csv', converters={'twr':str})\n",
    "links        = pd.read_csv(FOLDER + 'link.csv', converters={'st_from':str, 'st_to':str})\n",
    "stations     = pd.read_csv(FOLDER + 'station.csv', converters={'station':str})\n",
    "train_info   = pd.read_csv(FOLDER + 'train_info.csv', converters={'train': str, 'st_from':str, 'st_to':str, 'joint':str,\n",
    "                                                                 'start_st':str, 'end_st':str})\n",
    "train_plan   = pd.read_csv(FOLDER + 'slot_train.csv', converters={'train': str, 'st_from':str, 'st_to':str})\n",
    "loco_info    = pd.read_csv(FOLDER + 'loco_attributes.csv', converters={'train':str, 'loco':str, 'st_from':str, 'st_to':str})\n",
    "loco_plan    = pd.read_csv(FOLDER + 'slot_loco.csv', converters={'train':str, 'loco':str, 'st_from':str, 'st_to':str})\n",
    "team_info    = pd.read_csv(FOLDER + 'team_attributes.csv', converters={'team':str,'depot':str, 'oper_location':str, \\\n",
    "                                                     'st_from':str, 'st_to':str, 'loco':str, 'depot_st':str})\n",
    "team_plan    = pd.read_csv(FOLDER + 'slot_team.csv', converters={'team':str,'loco':str, 'st_from':str, 'st_to':str})\n",
    "loco_series  = pd.read_csv(FOLDER + 'loco_series.csv')\n",
    "task         = pd.read_csv(FOLDER + 'task.csv', converters={'st_from':str, 'st_to':str, 'st_next':str})\n",
    "\n",
    "st_names     = stations[['station', 'name', 'esr']].drop_duplicates().set_index('station')\n",
    "team_info.regions = team_info.regions.apply(literal_eval)\n",
    "\n",
    "print('Время составления отчета:', time.strftime(time_format, time.localtime()))\n",
    "print('Время запуска планировщика: %s (%d)' % (time.strftime(time_format, time.localtime(current_time)), current_time))"
   ]
  },
  {
   "cell_type": "code",
   "execution_count": null,
   "metadata": {
    "collapsed": false
   },
   "outputs": [],
   "source": [
    "# Функция делает из таймстемпа строку времени в удобном формате, формат определяется в константе time_format.\n",
    "def nice_time(t):        \n",
    "    return time.strftime(time_format, time.localtime(t)) if (np.isnan(t) == False) & (t != -1) else None\n",
    "\n",
    "# Функция делает стандартные преобразования над стандартными колонками в таблицах:\n",
    "# - по id станции достается ее название (для полей st_from, st_to, oper_location).\n",
    "# - timestamp преобразуется в красивую строку с временем (для полей time_start, time_end, oper_time).\n",
    "def add_info(df):    \n",
    "    if 'st_from' in df.columns:\n",
    "        df['st_from_name'] = df.st_from.map(st_names.name)\n",
    "    if 'st_to' in df.columns:\n",
    "        df['st_to_name'] = df.st_to.map(st_names.name)\n",
    "    if 'time_start' in df.columns:\n",
    "        df['time_start_f'] = df.time_start.apply(lambda x: nice_time(x))\n",
    "    if 'time_end' in df.columns:\n",
    "        df['time_end_f'] = df.time_end.apply(lambda x: nice_time(x))\n",
    "    if 'oper_location' in df.columns:\n",
    "        df['oper_location_name'] = df.oper_location.map(st_names.name)    \n",
    "        df.oper_location_name.fillna(0, inplace=True)\n",
    "    if ('oper_location' in df.columns) & ('st_from' in df.columns) & ('st_to' in df.columns):        \n",
    "        df['loc_name'] = df.oper_location_name\n",
    "        df.loc[df.loc_name == 0, 'loc_name'] = df.st_from_name + ' - ' + df.st_to_name\n",
    "    if 'oper_time' in df.columns:\n",
    "        df['oper_time_f'] = df.oper_time.apply(lambda x: nice_time(x))    \n",
    "    \n",
    "# Добавляем во все таблицы названия станций на маршруте и времена отправления/прибытия в читабельном формате\n",
    "add_info(train_plan), add_info(loco_plan), add_info(team_plan)\n",
    "add_info(train_info), add_info(loco_info), add_info(team_info)\n",
    "\n",
    "# Мержим таблицы _plan и _info для поездов, локомотивов и бригад\n",
    "train_plan = train_plan.merge(train_info, on='train', suffixes=('', '_info'), how='left')\n",
    "loco_plan = loco_plan.merge(loco_info, on='loco', suffixes=('', '_info'), how='left')\n",
    "team_plan = team_plan.merge(team_info, on='team', suffixes=('', '_info'), how='left')\n",
    "\n",
    "# Добавляем признаки поезда и бригады (реальный/локомотиво-резервный/объемный и реальная/фейковая)\n",
    "train_plan['train_type'] = train_plan.train.apply(lambda x: str(x)[0])\n",
    "team_plan['team_type'] = team_plan.team.apply(lambda x: 'Реальная' if str(x)[0] == '2' else 'Фейковая')\n",
    "\n",
    "# Для локомотиво-резервных и объемных поездов заполняем номер\n",
    "train_plan.loc[train_plan.train_type.isin(['8', '9']), 'number'] = train_plan.train.apply(lambda x: int(str(x)[-4:]))\n",
    "\n",
    "# Добавляем подвязанные локомотив и бригаду в таблицы loco_plan и train_plan\n",
    "def to_map(df, col):\n",
    "    return df.drop_duplicates(col).set_index(col)\n",
    "\n",
    "train_plan['train_time'] = list(zip(train_plan.train, train_plan.time_start))\n",
    "loco_plan['train_time'] = list(zip(loco_plan.train, loco_plan.time_start))\n",
    "loco_plan['loco_time'] = list(zip(loco_plan.loco, loco_plan.time_start))\n",
    "team_plan['loco_time'] = list(zip(team_plan.loco, team_plan.time_start))\n",
    "loco_plan['team'] = loco_plan.loco_time.map(to_map(team_plan, 'loco_time').team)\n",
    "train_plan['loco'] = train_plan.train_time.map(to_map(loco_plan, 'train_time').loco)\n",
    "train_plan['team'] = train_plan.train_time.map(to_map(loco_plan, 'train_time').team)\n",
    "train_plan.drop('train_time', axis=1, inplace=True)\n",
    "loco_plan.drop(['train_time', 'loco_time'], axis=1, inplace=True)\n",
    "team_plan.drop('loco_time', axis=1, inplace=True)"
   ]
  },
  {
   "cell_type": "markdown",
   "metadata": {},
   "source": [
    "<a id='all_plan'></a>\n",
    "## Проверка планирования всех реальных поездов [ToC](#toc)\n",
    "\n",
    "Берем все поезда, которые были поданы на вход планировщика в сообщениях `train_info`. Отсеиваем поезда с номерами меньше 1000 (пассажирские) и поезда, у которых неверно указано изначальное местоположение (указан участок с одинаковыми начальной и конечной станциями). Остальные поезда должны быть запланированы.\n",
    "\n",
    "**TODO: Добавить отсев поездов с пустыми маршрутами и поездов, прибывших на конечную станцию маршрута**"
   ]
  },
  {
   "cell_type": "code",
   "execution_count": null,
   "metadata": {
    "collapsed": true
   },
   "outputs": [],
   "source": [
    "routes = pd.read_csv(FOLDER + 'routes.csv', dtype={'st_from':str, 'st_to':str, 'train':str})\n",
    "add_info(routes)\n",
    "routes.dropna(subset=['st_from_name', 'st_to_name'], how='any', inplace=True)\n",
    "start_st = routes.drop_duplicates('train').set_index('train')\n",
    "end_st = routes.drop_duplicates('train', keep='last').set_index('train')\n",
    "train_info['first_st'] = train_info.train.map(start_st.st_from_name)\n",
    "train_info['last_st'] = train_info.train.map(end_st.st_to_name)"
   ]
  },
  {
   "cell_type": "code",
   "execution_count": null,
   "metadata": {
    "collapsed": false
   },
   "outputs": [],
   "source": [
    "train_info['in_plan'] = train_info.train.isin(train_plan.train)\n",
    "a = train_info[(train_info.in_plan == False) \n",
    "               & (train_info.number > 1000) \n",
    "               & (train_info.number < 9000)\n",
    "               & ((train_info.st_from != train_info.st_to) | (train_info.st_from == -1))\\\n",
    "              ].sort_values('number')\n",
    "with pd.option_context('display.max_colwidth', 25):\n",
    "    add_header('Всего %d реальных поездов (%.2f%%) не запланировано:' \n",
    "               % (a.train.count(), 100 * a.train.count() / train_info.train.count()))\n",
    "    add_line(a[['train', 'number', 'ind434', 'loc_name', 'in_plan', 'first_st', 'last_st']])"
   ]
  },
  {
   "cell_type": "markdown",
   "metadata": {},
   "source": [
    "<a id='oddity'></a>\n",
    "## Проверка совпадения четности номеров поездов и направления движения [ToC](#toc)\n",
    "\n",
    "Для фейковых поездов (id начинается на 9999) и локомотивов резервом (id начинается на 8888) мы сами генерируем номер поезда - это последние 4 цифры id. Тест проверяет, что четность этого номера совпадает с четностью первого участка на маршруте поезда."
   ]
  },
  {
   "cell_type": "code",
   "execution_count": null,
   "metadata": {
    "collapsed": false
   },
   "outputs": [],
   "source": [
    "add_header('Проверки по поездам', h=1, p=False)\n",
    "add_header('Проверка совпадения четности номеров поездов и направления движения', h=2, p=False)"
   ]
  },
  {
   "cell_type": "code",
   "execution_count": null,
   "metadata": {
    "collapsed": false
   },
   "outputs": [],
   "source": [
    "train_plan['dir'] = train_plan.link.map(links.set_index('link').dir)\n",
    "train_plan['odevity'] = (((train_plan.number / 2).astype(int) * 2 == train_plan.number).astype(int) + 1) % 2\n",
    "train_plan['check_odd'] = train_plan.dir == train_plan.odevity\n",
    "cols = ['train', 'number', 'st_from_name', 'st_to_name', 'dir', 'odevity', 'check_odd']\n",
    "fail_dir_number = train_plan.drop_duplicates(subset=['train', 'number']).loc[(train_plan.train_type.isin(['8', '9'])) &\n",
    "                                                          (train_plan.check_odd == False), cols]\n",
    "if fail_dir_number.empty == False:\n",
    "    add_header('Четность номеров поездов и направления не совпадает для %d поездов (показаны первые 10):' %\n",
    "         len(fail_dir_number.index))\n",
    "    pd.set_option('display.max_colwidth', 35)\n",
    "    add_line(fail_dir_number.head(10))\n",
    "else:\n",
    "    add_line('Все четности совпадают')"
   ]
  },
  {
   "cell_type": "markdown",
   "metadata": {},
   "source": [
    "<a id='stop_time'></a>\n",
    "## Анализ времен стоянок поездов на станциях смены локомотивов и бригад [ToC](#toc)\n",
    "\n",
    "Тест определяет станции, на которых на маршруте поезда происходит смена локомотива или бригады, и считает время стоянки поезда на этих станциях. Четких критериев ошибок тут нет. Но в среднем можно принять, что стоянка на смену локомотива должна занимать не более четырех часов, на смену бригады - не более двух. Сильно отличающиеся от этих значения надо исследовать и выявлять причины.\n",
    "\n",
    "Также очевидными ошибками являются случаи, когда смена локомотива или бригады происходит за нулевое время."
   ]
  },
  {
   "cell_type": "markdown",
   "metadata": {},
   "source": [
    "#### Параметры для анализа"
   ]
  },
  {
   "cell_type": "code",
   "execution_count": null,
   "metadata": {
    "collapsed": false
   },
   "outputs": [],
   "source": [
    "# Минимальное время стоянки поезда для смены локомотива\n",
    "MIN_LOCO_STOP = 1 * 3600\n",
    "MAX_LOCO_STOP = 4 * 3600\n",
    "\n",
    "# Минимальное время стоянки поезда для смены бригады\n",
    "MIN_TEAM_STOP = 0.25 * 3600\n",
    "MAX_TEAM_STOP = 2 * 3600\n",
    "\n",
    "# Горизонт проверки\n",
    "hor = 24 * 3600"
   ]
  },
  {
   "cell_type": "markdown",
   "metadata": {},
   "source": [
    "<a id='stop_loco'></a>\n",
    "### Смена локомотивов [ToC](#toc)"
   ]
  },
  {
   "cell_type": "code",
   "execution_count": null,
   "metadata": {
    "collapsed": true
   },
   "outputs": [],
   "source": [
    "add_header('Анализ смен локомотивов на маршрутах поездов', h=2, p=False)"
   ]
  },
  {
   "cell_type": "markdown",
   "metadata": {},
   "source": [
    "#### Ищем станции смены локомотивов и считаем средние времена"
   ]
  },
  {
   "cell_type": "code",
   "execution_count": null,
   "metadata": {
    "collapsed": false
   },
   "outputs": [],
   "source": [
    "train_plan.columns\n",
    "train_plan.loco.fillna('-1', inplace=True)\n",
    "train_plan.team.fillna('-1', inplace=True)\n",
    "\n",
    "train_plan['train_end'] = train_plan.train != train_plan.train.shift(-1)\n",
    "train_plan['loco_end'] = (train_plan.loco != train_plan.loco.shift(-1)) | (train_plan.train_end)\n",
    "train_plan['team_end'] = (train_plan.team != train_plan.team.shift(-1)) | (train_plan.loco_end)\n",
    "\n",
    "train_plan['stop_time'] = train_plan.time_start.shift(-1) - train_plan.time_end\n",
    "train_plan['stop_time_h'] = np.round((train_plan.stop_time / 3600), 2)\n",
    "\n",
    "train_plan['next_loco'] = train_plan.loco.shift(-1)\n",
    "train_plan['next_team'] = train_plan.team.shift(-1)\n",
    "\n",
    "cols = ['train', 'st_from_name', 'st_to_name', 'loco', 'team', 'stop_time_h', 'next_loco']\n",
    "loco_change = train_plan[(train_plan.train_end == False) & (train_plan.loco_end == True)\n",
    "                        & (train_plan.time_end < current_time + hor)]"
   ]
  },
  {
   "cell_type": "code",
   "execution_count": null,
   "metadata": {
    "collapsed": false
   },
   "outputs": [],
   "source": [
    "add_header('Средние времена на смену локомотивов:')\n",
    "add_line('- по всем сменам: %.2f ч.' % loco_change.stop_time_h.mean())\n",
    "add_line('- по всем сменам с ненулевым временем: %.2f ч.' % loco_change[loco_change.stop_time_h > 0].stop_time_h.mean())"
   ]
  },
  {
   "cell_type": "markdown",
   "metadata": {},
   "source": [
    "#### Ищем поезда, у которых смена локомотивов происходит за маленькое время"
   ]
  },
  {
   "cell_type": "code",
   "execution_count": null,
   "metadata": {
    "collapsed": false
   },
   "outputs": [],
   "source": [
    "cols = ['train', 'st_from_name', 'st_to_name', 'loco', 'next_loco', 'stop_time_h']\n",
    "nill_stop_times = loco_change[loco_change.stop_time < MIN_LOCO_STOP]\n",
    "if not nill_stop_times.empty:\n",
    "    add_header('Всего %d поездов, для которых смена локомотивов происходит за слишком маленькое время. Примеры:' \n",
    "               % nill_stop_times.train.count())\n",
    "    add_line(nill_stop_times.sort_values('stop_time_h')[cols].head())\n",
    "    cols = ['train', 'st_from_name', 'st_to_name', 'time_start_f', 'time_end_f', 'loco', 'team']\n",
    "    add_line('')\n",
    "    add_header('Полный план по одному из таких поездов:')\n",
    "    for train in nill_stop_times.train.values[:1]:\n",
    "        add_line(train_plan[train_plan.train == train][cols])\n",
    "else:\n",
    "    add_header('Нет локомотивов, для которых смена бригад происходит за слишком маленькое время')"
   ]
  },
  {
   "cell_type": "markdown",
   "metadata": {},
   "source": [
    "#### Составляем статистику по всем станциям смены, загружаем список приоритетных станций смены"
   ]
  },
  {
   "cell_type": "code",
   "execution_count": null,
   "metadata": {
    "collapsed": false
   },
   "outputs": [],
   "source": [
    "cols = ['train', 'st_from_name', 'st_to_name', 'loco', 'next_loco', 'stop_time_h']\n",
    "no_nill_stops = loco_change[loco_change.stop_time > 0]\n",
    "no_nill_stops[cols]\n",
    "#no_nill_stops.groupby('st_to_name').stop_time_h.mean()\n",
    "st_change = no_nill_stops.groupby('st_to_name').train.count().to_frame()\\\n",
    "            .join(no_nill_stops.groupby('st_to_name').stop_time_h.mean()).reset_index()\n",
    "st_change['stop_time_h'] = st_change.stop_time_h.apply(lambda x: np.round(x, 2))\n",
    "st_change.sort_values('train', ascending=False).head(10)\n",
    "priority_change_stations = pd.read_csv(FOLDER + 'mandatory/priority_loco_change_stations.csv').st_name.values"
   ]
  },
  {
   "cell_type": "markdown",
   "metadata": {},
   "source": [
    "#### Ищем поезда, у которых смена локомотивов происходит на неправильных станциях"
   ]
  },
  {
   "cell_type": "code",
   "execution_count": null,
   "metadata": {
    "collapsed": false
   },
   "outputs": [],
   "source": [
    "# bad change stations\n",
    "bad_changes = st_change[st_change.st_to_name.isin(priority_change_stations) == False].sort_values('train', ascending=False)\n",
    "if not bad_changes.empty:\n",
    "    add_header('Всего %d поездов, у которых смена локомотива, скорее всего, происходит на неправильных станциях' \n",
    "               % bad_changes.train.sum())\n",
    "    add_header('Примеры таких станций:')\n",
    "    add_line(bad_changes.head(10))\n",
    "    add_line('')\n",
    "    cols = ['train', 'st_from_name', 'st_to_name', 'loco', 'next_loco', 'stop_time_h']\n",
    "    st = bad_changes.iloc[0].st_to_name\n",
    "    add_line('Поезда, у которых смена локомотива происходит на станции %s:' % st)\n",
    "    add_line(loco_change[loco_change.st_to_name == st][cols])\n",
    "\n",
    "    train_plan['loco_info'] = train_plan.train.map(loco_info.drop_duplicates('train').set_index('train').loco)\n",
    "    cols = ['train', 'st_from_name', 'st_to_name', 'time_start_f', 'time_end_f', 'loco', 'loc_name', 'loco_info']\n",
    "    add_line('')\n",
    "    add_header('Полный план по одному из таких поездов:')\n",
    "    with pd.option_context('display.max_colwidth', 20):\n",
    "        add_line(train_plan[train_plan.train == loco_change[loco_change.st_to_name == st].iloc[0].train][cols])\n",
    "else:\n",
    "    add_header('Нет поездов, у которых смена локомотивов происходит на неправильной станции')"
   ]
  },
  {
   "cell_type": "markdown",
   "metadata": {},
   "source": [
    "#### Ищем поезда со слишком долгой стоянкой для смены локомотивов"
   ]
  },
  {
   "cell_type": "code",
   "execution_count": null,
   "metadata": {
    "collapsed": false
   },
   "outputs": [],
   "source": [
    "cols = ['train', 'st_from_name', 'st_to_name', 'loco', 'time_end_f', 'next_loco', 'stop_time_h']\n",
    "long_change = loco_change[(loco_change.st_to_name.isin(priority_change_stations)) \n",
    "            & (loco_change.stop_time > MAX_LOCO_STOP)].sort_values('stop_time_h', ascending=False)\n",
    "add_header('Всего %d случаев смены локомотива с длительной стоянкой. Примеры:' % long_change.train.count())\n",
    "add_line(long_change.sort_values('stop_time', ascending=False)[cols].head(20))\n",
    "if not long_change.empty:\n",
    "    train_id = long_change.sort_values('stop_time', ascending=False).iloc[0].train\n",
    "    #train_id = '1002030'\n",
    "    cols = ['train', 'st_from_name', 'st_to_name', 'time_start_f', 'time_end_f', 'loco']\n",
    "    add_header('Полный план по одному из таких поездов:')\n",
    "    add_line(train_plan[train_plan.train == train_id][cols])"
   ]
  },
  {
   "cell_type": "markdown",
   "metadata": {},
   "source": [
    "<a id='stop_team'></a>\n",
    "### Смена бригад [ToC](#toc)"
   ]
  },
  {
   "cell_type": "code",
   "execution_count": null,
   "metadata": {
    "collapsed": true
   },
   "outputs": [],
   "source": [
    "add_header('Анализ смен бригад на маршрутах поездов', h=2, p=False)"
   ]
  },
  {
   "cell_type": "code",
   "execution_count": null,
   "metadata": {
    "collapsed": true
   },
   "outputs": [],
   "source": [
    "team_change = train_plan[(train_plan.loco_end == False) & (train_plan.team_end == True)\n",
    "                        & (train_plan.time_end < current_time + hor)]"
   ]
  },
  {
   "cell_type": "code",
   "execution_count": null,
   "metadata": {
    "collapsed": false
   },
   "outputs": [],
   "source": [
    "add_header('Средние времена на смену бригады:')\n",
    "add_line('- по всем сменам: %.2f ч.' % team_change.stop_time_h.mean())\n",
    "add_line('- по всем сменам с ненулевым временем: %.2f ч.' % team_change[team_change.stop_time_h > 0].stop_time_h.mean())"
   ]
  },
  {
   "cell_type": "markdown",
   "metadata": {},
   "source": [
    "#### Ищем поезда, у которых смена бригады происходит за маленькое время"
   ]
  },
  {
   "cell_type": "code",
   "execution_count": null,
   "metadata": {
    "collapsed": false
   },
   "outputs": [],
   "source": [
    "cols = ['train', 'st_from_name', 'st_to_name', 'team', 'next_team', 'stop_time_h']\n",
    "nill_stop_times = team_change[team_change.stop_time < MIN_TEAM_STOP]\n",
    "if not nill_stop_times.empty:\n",
    "    add_header('Всего %d поездов, для которых смена бригад происходит за слишком маленькое время. Примеры:' \n",
    "               % nill_stop_times.train.count())\n",
    "    add_line(nill_stop_times.sort_values('stop_time')[cols].head())\n",
    "    cols = ['train', 'st_from_name', 'st_to_name', 'time_start_f', 'time_end_f', 'loco', 'team']\n",
    "    add_line('')\n",
    "    add_header('Полный план по одному из таких поездов:')\n",
    "    for train in nill_stop_times.train.values[:1]:\n",
    "        add_line(train_plan[train_plan.train == train][cols])\n",
    "else:\n",
    "    add_header('Нет поездов, для которых смена бригад происходит за слишком маленькое время')"
   ]
  },
  {
   "cell_type": "markdown",
   "metadata": {},
   "source": [
    "#### Ищем поезда со слишком долгой стоянкой для смены бригады"
   ]
  },
  {
   "cell_type": "code",
   "execution_count": null,
   "metadata": {
    "collapsed": false
   },
   "outputs": [],
   "source": [
    "a = team_change.st_to_name.value_counts()\n",
    "#lim = a.describe()['75%']\n",
    "#st_change = list(a[a >= lim].index)\n",
    "st_change = list(a.sort_values(ascending=False).head(10).index)"
   ]
  },
  {
   "cell_type": "code",
   "execution_count": null,
   "metadata": {
    "collapsed": false
   },
   "outputs": [],
   "source": [
    "often_changes = team_change[team_change.st_to_name.isin(st_change)].copy()\n",
    "often_changes['num'] = often_changes.st_to_name.map(a)\n",
    "often_changes = often_changes.sort_values('num', ascending=False)\n",
    "add_header('Среднее время на смену бригады на станциях с большим количеством смен:')\n",
    "add_line(often_changes.groupby('st_to_name').stop_time_h.mean().sort_values(ascending=False).head(10))\n",
    "sns.set(style='whitegrid', context='notebook', palette='muted', color_codes=True)\n",
    "fig = plt.figure(figsize=(10, .6 * len(st_change)))\n",
    "sns.boxplot(x='stop_time_h', y='st_to_name', data=often_changes, whis=np.inf, color='c', width=0.5)\n",
    "sns.stripplot(x='stop_time_h', y='st_to_name', data=often_changes, jitter=True, size=3, color='b')\n",
    "plt.xlabel('Время на смену бригады (час)')\n",
    "plt.ylabel('')\n",
    "filename = 'team_change_boxplots.png'\n",
    "fig.savefig(REPORT_FOLDER + filename, bbox_inches='tight')\n",
    "add_image(filename, scale=0.4)"
   ]
  },
  {
   "cell_type": "code",
   "execution_count": null,
   "metadata": {
    "collapsed": false
   },
   "outputs": [],
   "source": [
    "cols = ['train', 'st_from_name', 'st_to_name', 'team', 'next_team', 'stop_time_h']\n",
    "long_change = team_change[team_change.stop_time > MAX_TEAM_STOP].sort_values('stop_time', ascending=False)[cols]\n",
    "if not long_change.empty:\n",
    "    add_header('Всего %d случаев смены бригад с длительной стоянкой. Примеры:' % long_change.train.count())\n",
    "    add_line(long_change[cols].head(20))\n",
    "    add_line('')\n",
    "    cols = ['train', 'st_from_name', 'st_to_name', 'time_start_f', 'time_end_f', 'loco', 'team']\n",
    "    add_header('Полный план по одному из таких поездов:')\n",
    "    for train in long_change.train.values[:1]:\n",
    "        add_line(train_plan[train_plan.train == train][cols])\n",
    "    add_line('')\n",
    "    add_header('Станции, на которых чаще всего происходили длительные стоянки на смену бригад:')\n",
    "    add_line(long_change.st_to_name.value_counts().head(10))\n",
    "else:\n",
    "    add_header('Нет поездов, у которых смена бригады происходит более 6 часов')"
   ]
  },
  {
   "cell_type": "markdown",
   "metadata": {},
   "source": [
    "<a id='dep_interval'></a>\n",
    "## Поиск поездов с интервалом между отправлениями меньше допустимого [ToC](#toc)\n",
    "\n",
    "Между отправлениями двух поездов с одной станции в одном направлении должно быть не менее какого-то критического времени (сейчас оно установлено в 5 минут). Исключение может делаться только для локомотивов резервом (они могут планироваться и в одно и то же время)."
   ]
  },
  {
   "cell_type": "code",
   "execution_count": null,
   "metadata": {
    "collapsed": true
   },
   "outputs": [],
   "source": [
    "add_header('Поиск поездов с интервалом между отправлениями меньше допустимого', h=2, p=False)"
   ]
  },
  {
   "cell_type": "code",
   "execution_count": null,
   "metadata": {
    "collapsed": true
   },
   "outputs": [],
   "source": [
    "# Параметры\n",
    "\n",
    "hor = 24 * 3600\n",
    "min_time_delta = 5 * 60 # 5 minutes"
   ]
  },
  {
   "cell_type": "code",
   "execution_count": null,
   "metadata": {
    "collapsed": true
   },
   "outputs": [],
   "source": [
    "# Функция, которая возвращает датафрейм с коллизиями\n",
    "\n",
    "def check_time_collision(df):\n",
    "    df['link_end'] = (df.st_from != df.st_from.shift(-1)) | (df.st_to != df.st_to.shift(-1))\n",
    "    df['link_start'] = (df.st_from != df.st_from.shift(1)) | (df.st_to != df.st_to.shift(1))\n",
    "    df.loc[df.link_end == False, 'time_to_next'] = df.time_start.shift(-1) - df.time_start\n",
    "    df.loc[df.link_start == False, 'time_to_prev'] = df.time_start - df.time_start.shift(1)\n",
    "    collisions = df.loc[(df.time_to_next < min_time_delta) | (df.time_to_prev < min_time_delta)]\n",
    "    return collisions"
   ]
  },
  {
   "cell_type": "code",
   "execution_count": null,
   "metadata": {
    "collapsed": false
   },
   "outputs": [],
   "source": [
    "add_line('Время начала планирования: %s' % nice_time(current_time))\n",
    "cols = ['train', 'loco', 'team', 'st_from_name', 'st_to_name', 'time_start_f', 'time_end_f']\n",
    "train_plan['train_start'] = train_plan.train != train_plan.train.shift(1)\n",
    "train_plan.loc[train_plan.stop_time != -1, 'loco_start'] = (train_plan.loco != train_plan.loco.shift(1)) | \\\n",
    "                                                            (train_plan.train_start)\n",
    "train_plan.loc[train_plan.stop_time != -1, 'team_start'] = train_plan.team != train_plan.team.shift(1)\n",
    "mask = ((train_plan.loco_start == True) | (train_plan.team_start == True)) &\\\n",
    "        (train_plan.time_start < current_time + hor) & (train_plan.time_start >= current_time)\n",
    "assign_mask = (train_plan.loco != '-1') & (train_plan.team != '-1')\n",
    "cols_to_sort = ['st_from_name', 'st_to_name', 'time_start']\n",
    "start_times = train_plan.loc[mask].sort_values(cols_to_sort)\n",
    "start_times_no_res = train_plan.loc[mask & (train_plan.train_type.isin(['2', '9']))].sort_values(cols_to_sort)\n",
    "start_times_real = train_plan.loc[mask & (train_plan.train_type == '2')].sort_values(cols_to_sort)\n",
    "start_times_assign = train_plan.loc[mask & assign_mask].sort_values(cols_to_sort)\n",
    "start_times_assign_no_res = train_plan.loc[mask & assign_mask &\n",
    "                                           (train_plan.train_type.isin(['2', '9']))].sort_values(cols_to_sort)\n",
    "start_times_assign_real = train_plan.loc[mask & assign_mask & (train_plan.train_type == '2')].sort_values(cols_to_sort)\n",
    "\n",
    "all_coll = check_time_collision(start_times)\n",
    "no_res_coll = check_time_collision(start_times_no_res)\n",
    "real_coll = check_time_collision(start_times_real)\n",
    "all_assign_coll = check_time_collision(start_times_assign)\n",
    "no_res_assign_coll = check_time_collision(start_times_assign_no_res)\n",
    "real_assign_coll = check_time_collision(start_times_assign_real)\n",
    "train_n = len(start_times.train.drop_duplicates().index)\n",
    "res = pd.DataFrame([['Все поезда', 'Без учета резервных', 'Без учета резервных и фейковых'],                    \n",
    "                    [len(all_coll.index), len(no_res_coll.index), len(real_coll.index)],                    \n",
    "                    [len(all_assign_coll.index), len(no_res_assign_coll.index), len(real_assign_coll.index)]]).T\n",
    "res.columns = ['Тип', 'Из всех поездов', 'Из всех с подвязкой']\n",
    "add_header('Количество коллизий (интервал между поездами меньше %d минут):' % (min_time_delta / 60))\n",
    "add_line(res)\n",
    "add_header('\\nРеальные и фейковые поезда с интервалами меньше %d минут (первые 20):' % (min_time_delta / 60))\n",
    "add_line(no_res_coll[cols].head(20))"
   ]
  },
  {
   "cell_type": "markdown",
   "metadata": {},
   "source": [
    "<a id='ssp'></a>\n",
    "## Сравнение количества запланированных поездов с данными АС ССП [ToC](#toc)\n",
    "\n",
    "В файлах `SSP_KRS.csv` (и похожих - по другим дорогам) хранятся количества поездов, которые (в среднем) надо отправить с определенных стацниях в сутки. Это количество может меняться от суток к суткам (в зависимости от поездной обстановки в конкретный день), но примерную оценку по имеющимся данным сделать можно. Тест парсит файлы, берет оттуда необходимые направления и количества поездов, затем вычисляет запланированное количество по результатам планировщика и сравнивает."
   ]
  },
  {
   "cell_type": "code",
   "execution_count": null,
   "metadata": {
    "collapsed": true
   },
   "outputs": [],
   "source": [
    "add_header('Сравнение количества запланированных поездов с данными АС ССП', h=2, p=False)"
   ]
  },
  {
   "cell_type": "code",
   "execution_count": null,
   "metadata": {
    "collapsed": false
   },
   "outputs": [],
   "source": [
    "# Функция достает требуемые количества из датафрейма, полученного из файла, считает количество поездов в плане и возвращает\n",
    "# объединенный датафрейм с запланированным и требуемым количеством.\n",
    "\n",
    "def count_volumes(full_plan, df_ssp):\n",
    "    hor = 24 * 3600\n",
    "    df_ssp.dep_dir.fillna(0, inplace=True)    \n",
    "    df_ssp.loc[df_ssp.dep_dir == 0, 'depart'] = 0\n",
    "    df_ssp.dropna(subset=['depart'], inplace=True)\n",
    "    \n",
    "    ssp_st_froms = df_ssp.loc[df_ssp.dep_dir == 0].station\n",
    "    mask_time = (full_plan.time_start >= current_time) & (full_plan.time_start < current_time + hor)\n",
    "    mask_type = full_plan.train_type.isin(['2', '9'])\n",
    "    trains = full_plan.loc[mask_time & mask_type & full_plan.st_from_name.isin(ssp_st_froms)].\\\n",
    "                        groupby(['st_from_name', 'st_to_name']).train.count()\n",
    "    df_ssp.loc[df_ssp.dep_dir == 0, 'st_from_name'] = df_ssp.station\n",
    "    df_ssp = df_ssp.fillna(method='ffill')\n",
    "    df_ssp['st_to_name'] = df_ssp.station\n",
    "    replace_st_from_names = df_ssp.loc[df_ssp.dep_dir == 0, ['st_from_name', 'st_show_name']].drop_duplicates()\n",
    "    df_ssp['st_from_show'] = df_ssp.st_from_name.map(replace_st_from_names.set_index('st_from_name').st_show_name)\n",
    "    df_ssp['st_to_show'] = df_ssp.st_show_name    \n",
    "    return trains.to_frame().join(df_ssp[['st_from_name', 'st_to_name', 'depart', 'st_from_show', 'st_to_show', 'dep_dir']].\\\n",
    "                    set_index(['st_from_name', 'st_to_name'])).reset_index() if not trains.empty else pd.DataFrame()"
   ]
  },
  {
   "cell_type": "code",
   "execution_count": null,
   "metadata": {
    "collapsed": true
   },
   "outputs": [],
   "source": [
    "# Эта и следующая функция нужны только для показа графиков. Сейчас они не используются, для анализа, в общем, достаточно табличек\n",
    "\n",
    "def show_barplot(df, road_name):\n",
    "    df['delta'] = df.train - df.depart\n",
    "    df['percent'] = np.round(100 * df.delta / df.depart, 2)\n",
    "    df['st_from_short'] = df.st_from_show.apply(lambda x: str(x)[:25])\n",
    "    df['st_to_short'] = df.st_to_show.apply(lambda x: str(x)[:25])\n",
    "    df['link'] = df.st_from_short + ' - ' + df.st_to_short \n",
    "    \n",
    "    print('%s железная дорога:' % road_name)\n",
    "    print('Среднее и медиана абсолютного отклонения: %.2f, %.2f' % (df.delta.mean(), df.delta.median()))\n",
    "    print('Среднее и медиана относительного отклонения (в процентах): %.2f%%, %.2f%%' % (df.percent.mean(), df.percent.median()))\n",
    "\n",
    "    b = df.sort_values('delta', ascending=False)\n",
    "    sns.set_style('whitegrid')\n",
    "    sns.set_context('poster', font_scale=0.7, rc={'axes.labelsize': 18})\n",
    "    c = sns.barplot(y='link', x='delta', data=df.sort_values('delta', ascending=False), palette='coolwarm')\n",
    "    xlabel = '%s ж/д: отклонение от данных АС ССП по отправлению поездов на сутки' % road_name\n",
    "    c.set(xlabel=xlabel, ylabel='')"
   ]
  },
  {
   "cell_type": "code",
   "execution_count": null,
   "metadata": {
    "collapsed": false
   },
   "outputs": [],
   "source": [
    "VOL_PERCENT = 0.9\n",
    "\n",
    "def show_two_barplots(df, road_name, save=False, btype='less'):\n",
    "    df['st_from_short'] = df.st_from_show.apply(lambda x: str(x)[:25])\n",
    "    df['st_to_short'] = df.st_to_show.apply(lambda x: str(x)[:25])\n",
    "    df['link'] = df.st_from_short + ' - ' + df.st_to_short     \n",
    "    sns.set_style('whitegrid')    \n",
    "    sns.set_context('poster', font_scale=0.7, rc={'axes.titlesize':18, 'axes.labelsize':14})\n",
    "    fig, ax = plt.subplots(nrows=2, ncols=1, figsize=(14,20))    \n",
    "    df.depart.fillna(0, inplace=True)    \n",
    "    df['bottom'] = df.apply(lambda row: row.depart if row.train <= row.depart else row.train, axis=1)\n",
    "    df['top'] = df.apply(lambda row: row.train if row.train <= row.depart else row.depart, axis=1)     \n",
    "    \n",
    "    sns.set_color_codes('pastel')\n",
    "    sns.barplot(x='bottom', y='link', data=df[df.train <= VOL_PERCENT * df.depart].sort_values('bottom'), \n",
    "                label='Поезда из АС ССП', color=\"b\", orient='h', ax=ax[0])\n",
    "    sns.barplot(x='bottom', y='link', data=df[df.train * VOL_PERCENT > df.depart].sort_values('bottom'), \n",
    "                label='Поезда в результатах', color=\"r\", orient='h', ax=ax[1])\n",
    "    sns.set_color_codes('muted')\n",
    "    sns.barplot(x='top', y='link', data=df[df.train <= VOL_PERCENT * df.depart].sort_values('bottom'), \n",
    "                label='Поезда в результатах', color=\"b\", orient='h', ax=ax[0])\n",
    "    sns.barplot(x='top', y='link', data=df[df.train * VOL_PERCENT > df.depart].sort_values('bottom'), \n",
    "                label='Поезда из АС ССП', color=\"r\", orient='h', ax=ax[1])    \n",
    "    ax[0].legend(ncol=1, loc=\"upper right\", frameon=True)    \n",
    "    ax[1].legend(ncol=1, loc=\"upper right\", frameon=True)\n",
    "    ax[0].set(xlabel='', title='Нехватка запланированных поездов')\n",
    "    ax[1].set(xlabel='', title='Избыток запланированных поездов')\n",
    "    \n",
    "    sns.despine()\n",
    "    if save:\n",
    "        filename = road_name + '.png'\n",
    "        fig.savefig(REPORT_FOLDER + filename, bbox_inches='tight')\n",
    "        add_image(filename, scale=1.0)"
   ]
  },
  {
   "cell_type": "code",
   "execution_count": null,
   "metadata": {
    "collapsed": false
   },
   "outputs": [],
   "source": [
    "def func(x):\n",
    "    return np.round(np.sqrt(np.mean(x ** 2)), 2)\n",
    "\n",
    "def print_ssp_stats(ssp, road_name):\n",
    "    df = count_volumes(train_plan, ssp)\n",
    "    if not df.empty:\n",
    "        df.rename(columns={'train':'planned', 'depart':'ssp'}, inplace=True)\n",
    "        df.dropna(subset=['ssp'], inplace=True)\n",
    "        df['delta'] = df.planned - df.ssp    \n",
    "        cols = ['st_from_name', 'st_to_show', 'dep_dir', 'planned', 'ssp', 'delta']            \n",
    "        add_header('Сравнение запланированного и \"нормативного\" количества поездов:')\n",
    "        add_line(df.sort_values(['dep_dir', 'delta'])[cols])    \n",
    "        add_header('\\nСреднее отклонение по количеству поездов по направлениям:')\n",
    "        add_line(df.groupby('dep_dir').delta.mean().apply(lambda x: np.round(x, 2)))\n",
    "        add_header('\\nСреднеквадратичное отклонение по направлениям:')\n",
    "        add_line(df.groupby('dep_dir').delta.agg(func))\n",
    "    else:\n",
    "        add_header('Дорога %s' % road_name, h=3)\n",
    "        add_line('Ни одного поезда не запланировано')"
   ]
  },
  {
   "cell_type": "code",
   "execution_count": null,
   "metadata": {
    "collapsed": false
   },
   "outputs": [],
   "source": [
    "krs = pd.read_csv(FOLDER + 'mandatory/SSP_KRS.csv', sep=';')\n",
    "vsib = pd.read_csv(FOLDER + 'mandatory/SSP_VSIB.csv', sep=';')\n",
    "zab = pd.read_csv(FOLDER + 'mandatory/SSP_ZAB.csv', sep=';')\n",
    "dvs = pd.read_csv(FOLDER + 'mandatory/SSP_DVS.csv', sep=';')"
   ]
  },
  {
   "cell_type": "code",
   "execution_count": null,
   "metadata": {
    "collapsed": false
   },
   "outputs": [],
   "source": [
    "print_ssp_stats(krs, 'КРАС')"
   ]
  },
  {
   "cell_type": "code",
   "execution_count": null,
   "metadata": {
    "collapsed": false
   },
   "outputs": [],
   "source": [
    "print_ssp_stats(vsib, 'ВСИБ')"
   ]
  },
  {
   "cell_type": "code",
   "execution_count": null,
   "metadata": {
    "collapsed": false
   },
   "outputs": [],
   "source": [
    "print_ssp_stats(zab, 'ЗАБ')"
   ]
  },
  {
   "cell_type": "code",
   "execution_count": null,
   "metadata": {
    "collapsed": false
   },
   "outputs": [],
   "source": [
    "print_ssp_stats(dvs, 'ДВС')"
   ]
  },
  {
   "cell_type": "code",
   "execution_count": null,
   "metadata": {
    "collapsed": false
   },
   "outputs": [],
   "source": [
    "# Пример построения barplot\n",
    "\n",
    "#krs = pd.read_csv(FOLDER + 'mandatory/SSP_KRS.csv', sep=';')\n",
    "#add_header('Красноярская дорога')\n",
    "#try:\n",
    "#    show_two_barplots(count_volumes(train_plan, krs), 'Красноярская', save=True, btype='less')\n",
    "#except:\n",
    "#    add_line('Красноярская дорога: ошибка в построении графика')"
   ]
  },
  {
   "cell_type": "markdown",
   "metadata": {},
   "source": [
    "<a id='info_plan_depart'></a>\n",
    "## Проверка соответствия первого участка в запланированном маршруте и исходного факта [ToC](#toc)\n",
    "\n",
    "Если поезд на начало планирования находится на каком-то перегоне (сообщение `train_depart`), то первый участок запланированного маршрута должен совпадать с участком местоположения поезда из входных данных.\n",
    "\n",
    "**TODO: Можно обернуть строки показа результатов в if-then-else, чтобы не выводились пустые датафреймы, а писалось красивое сообщение, что ошибок нет.**"
   ]
  },
  {
   "cell_type": "code",
   "execution_count": null,
   "metadata": {
    "collapsed": true
   },
   "outputs": [],
   "source": [
    "add_header('Проверка соответствия первого участка в запланированном маршруте и исходного факта', h=2, p=False)"
   ]
  },
  {
   "cell_type": "code",
   "execution_count": null,
   "metadata": {
    "collapsed": false
   },
   "outputs": [],
   "source": [
    "cols = ['train', 'st_from_name', 'st_to_name', 'time_start_f', 'st_from_name_info', 'st_to_name_info', 'oper_time_f']\n",
    "td_plan = train_plan[(train_plan.st_from_info.isnull() == False) \n",
    "                     & (train_plan.st_from_info != '-1')].drop_duplicates('train')\n",
    "td_bad_track = td_plan[(td_plan.st_from != td_plan.st_from_info) | (td_plan.st_to != td_plan.st_to_info)]\n",
    "add_header('Поезда, у которых первый участок в маршруте не совпадает с исходным (всего %d, показаны первые 10):' \n",
    "          % td_bad_track.train.count())\n",
    "add_line(td_bad_track[cols])\n",
    "\n",
    "td_bad_time = td_plan[(td_plan.time_start != td_plan.oper_time)]\n",
    "add_header('\\nПоезда, у которых время отправления на первый участок в маршруте не совпадает с фактическим (всего %d, показаны первые 10):' \n",
    "          % td_bad_time.train.count())\n",
    "pd.set_option('display.max_colwidth', 19)\n",
    "add_line(td_bad_time.sort_values('oper_time')[cols].head(10))"
   ]
  },
  {
   "cell_type": "markdown",
   "metadata": {},
   "source": [
    "<a id='time_leaps'></a>\n",
    "## Проверка скачков по времени назад [ToC](#toc)\n",
    "\n",
    "На запланированном маршруте поездов не должно быть случаев, когда время отправления с какой-то станции меньше времени прибытия на нее, а время прибытия на конечную станцию участка не больше времени отправления с начальной станции участка."
   ]
  },
  {
   "cell_type": "code",
   "execution_count": null,
   "metadata": {
    "collapsed": true
   },
   "outputs": [],
   "source": [
    "add_header('Проверка скачков по времени назад', h=2, p=False)"
   ]
  },
  {
   "cell_type": "code",
   "execution_count": null,
   "metadata": {
    "collapsed": false
   },
   "outputs": [],
   "source": [
    "train_plan['next_time_start'] = train_plan.time_start.shift(-1)\n",
    "train_plan['next_time_start_f'] = train_plan.time_start_f.shift(-1)\n",
    "train_plan['train_end'] = train_plan.train != train_plan.train.shift(-1)\n",
    "cols = ['train', 'st_from_name', 'st_to_name', 'time_start_f', 'time_end_f', 'next_time_start_f']\n",
    "leaps = train_plan[(train_plan.train_end == False) & (train_plan.next_time_start < train_plan.time_end)][cols]\n",
    "if leaps.empty:\n",
    "    add_header('Не найдено поездов со скачками по времени назад в плане')\n",
    "else:\n",
    "    add_header('Всего %d поездов со скачками по времени назад в плане. Примеры:' % leaps.drop_duplicates('train').train.count())\n",
    "    add_line(leaps.drop_duplicates('train').head(10)[cols])\n",
    "    train_id = leaps.drop_duplicates('train').iloc[0].train\n",
    "    add_line('')    \n",
    "    add_line(train_plan[train_plan.train == train_id][cols])"
   ]
  },
  {
   "cell_type": "markdown",
   "metadata": {},
   "source": [
    "<a id='irk_ssp'></a>"
   ]
  },
  {
   "cell_type": "markdown",
   "metadata": {},
   "source": [
    "## Сравнение количества передаваемых в планировщик реальных поездов с ССП [ToC](#toc)\n",
    "\n",
    "Детальное сравнение количества поездов для станции Иркутск.\n",
    "\n",
    "1. Сначала производится приблизительное определение поездов, которые в ближайшие сутки должны проследовать через Иркутск. Для этого:\n",
    "  1. Берутся поезда, у которых в маршруте есть Иркутск.\n",
    "  2. Берется начальное местоположение поезда, определяется его время хода до Иркутска. Времена хода берутся из файла `travel_times.csv`.\n",
    "  3. Добавляются допуски на стоянки для смены бригад. Считается, что смена бригады происходит каждые 6 часов и занимает примерно 1.5 часа. Поэтому время хода делится на 6 и умножается на 1.5 - так вычисляется добавка к \"чистому\" времени хода.\n",
    "  4. Время хода и допуски прибавляются к времени последней операции (или к времени начала планирования - для поездов в состоянии `arrive` или `ready`, у которых время последней операции меньше времени начала планирования).\n",
    "2. Затем оставляются только поезда, для которых время прибытия в Иркутск лежит в первых сутках планирования.\n",
    "3. Затем определяются поезда (из п.1), которых вообще нет в результатах планирования. Это проблемные поезда, причины их отсутствия надо исследовать.\n",
    "4. Затем для всех поездов определяется время прибытия в Иркутск. Если оно значительно отличается от предварительно рассчитанного (точного критерия ошибки тут нет - ориентировочно можно считать превышение на 3 часа значительным), то надо проверять, где этот поезд потерял время. "
   ]
  },
  {
   "cell_type": "code",
   "execution_count": null,
   "metadata": {
    "collapsed": true
   },
   "outputs": [],
   "source": [
    "# Направления для проверки\n",
    "\n",
    "test = [('ИРКУТСК-СОРТИРОВОЧНЫЙ', 'ГОНЧАРОВО'), ('ИРКУТСК-СОРТИРОВОЧНЫЙ', 'БАТАРЕЙНАЯ')]"
   ]
  },
  {
   "cell_type": "code",
   "execution_count": null,
   "metadata": {
    "collapsed": true
   },
   "outputs": [],
   "source": [
    "add_header('Детальное сравнение количества поездов с данными ССП по станции %s' % test[0][0], h=2, p=False)"
   ]
  },
  {
   "cell_type": "code",
   "execution_count": null,
   "metadata": {
    "collapsed": false
   },
   "outputs": [],
   "source": [
    "routes = pd.read_csv(FOLDER + 'routes.csv', dtype={'st_from':str, 'st_to':str, 'train':str})\n",
    "add_info(routes)\n",
    "routes['link_name'] = list(zip(routes.st_from_name, routes.st_to_name))\n",
    "#def_tt = pd.read_csv(FOLDER + '/mandatory/travel_times_all_pairs.csv', sep=';').set_index(['st_from_name', 'st_to_name'])\n",
    "def_tt = pd.read_csv(FOLDER + '/mandatory/travel_times.csv', index_col=0)"
   ]
  },
  {
   "cell_type": "code",
   "execution_count": null,
   "metadata": {
    "collapsed": false
   },
   "outputs": [],
   "source": [
    "def get_arrive_time(row, station):\n",
    "    if (row.oper == 'depart') | (row.oper_time >= current_time):\n",
    "        start_time = row.oper_time\n",
    "    else:\n",
    "        start_time = current_time            \n",
    "    return start_time + row.tt + row.lag\n",
    "\n",
    "(test_st, test_st_dir) = test[0]\n",
    "train_info['st_loc_name'] = train_info.oper_location.map(st_names.name)\n",
    "train_info.st_loc_name.fillna(train_info.st_from_name, inplace=True)\n",
    "#train_info['tt'] = train_info.st_loc_name.apply(lambda x: def_tt.ix[x, test_st].tt)\n",
    "train_info['tt'] = train_info.st_loc_name.apply(lambda x: 48 * 3600 if type(x) == float else def_tt[x][test_st])\n",
    "\n",
    "train_info['lag'] = np.round((train_info.tt / 6) * 1.5)\n",
    "train_info['arr_time'] = train_info[['oper', 'oper_time', 'tt', 'lag']]\\\n",
    "                                    .apply(lambda row: get_arrive_time(row, test_st), axis=1)\n",
    "train_info['arr_time_f'] = train_info.arr_time.apply(nice_time)\n",
    "train_info['plan_time'] = train_info.train.map(train_plan[train_plan.st_from_name == test_st].set_index('train').time_start)\n",
    "train_info['plan_time_f'] = train_info.plan_time.apply(nice_time)\n",
    "train_info['delta'] = train_info.plan_time - train_info.arr_time\n",
    "train_info['delta_h'] = np.round((train_info.delta / 3600), 2)\n",
    "\n",
    "train_plan['link_name'] = list(zip(train_plan.st_from_name, train_plan.st_to_name))\n",
    "\n",
    "dir_trains = train_info[(train_info.number >= 1000)\n",
    "                        & (train_info.train.isin(routes[routes.link_name == (test_st, test_st_dir)].train))]\n",
    "cols = ['train', 'number', 'oper', 'st_loc_name', 'tt', 'lag', 'oper_time_f', 'arr_time_f', 'plan_time_f', 'delta_h']\n",
    "dir_trains = dir_trains[dir_trains.arr_time < current_time + 24 * 3600].sort_values('arr_time')\n",
    "#a[cols]\n",
    "add_header('Всего %d поездов, по которым ожидается проследование в направлении %s - %s в первые сутки планирования'\n",
    "           % (dir_trains.train.count(), test_st, test_st_dir))"
   ]
  },
  {
   "cell_type": "code",
   "execution_count": null,
   "metadata": {
    "collapsed": false
   },
   "outputs": [],
   "source": [
    "no_plan = dir_trains[dir_trains.plan_time.isnull()][cols]\n",
    "pd.set_option('display.max_colwidth', 40)\n",
    "add_header('Всего %d поездов на направлении %s - %s, которых вообще нет в плане' % (no_plan.train.count(), test_st, test_st_dir))\n",
    "add_line(no_plan)"
   ]
  },
  {
   "cell_type": "code",
   "execution_count": null,
   "metadata": {
    "collapsed": false
   },
   "outputs": [],
   "source": [
    "plan_day = dir_trains[dir_trains.plan_time < current_time + 24 * 3600][cols]\n",
    "add_header('Всего %d поездов (%.2f%%), по которым запланировано проследование в направлении %s - %s в первые сутки'\n",
    "          % (plan_day.train.count(), 100 * plan_day.train.count() / dir_trains.train.count(), test_st, test_st_dir))"
   ]
  },
  {
   "cell_type": "code",
   "execution_count": null,
   "metadata": {
    "collapsed": false
   },
   "outputs": [],
   "source": [
    "# sns.set(context='notebook', style='whitegrid')\n",
    "# sns.set_color_codes('dark')\n",
    "# plt.figure(figsize=(10, 5))\n",
    "# sns.kdeplot(dir_trains[dir_trains.train.isin(plan_day.train) == False].dropna(subset=['delta']).delta / 3600, shade=True)\n",
    "\n",
    "delta_lim = 3 * 3600\n",
    "late_trains = dir_trains[dir_trains.delta > delta_lim]\n",
    "late_trains.sort_values('delta', ascending=False)[cols]\n",
    "add_header('Всего %d поездов (%.2f%%), у которых запланированное время проследования на участке %s - %s сильно сдвинуто вперед' \n",
    "           % (late_trains.train.count(), 100 * late_trains.train.count() / dir_trains.train.count(), test_st, test_st_dir))\n",
    "add_line(late_trains.sort_values('delta', ascending=False)[cols])"
   ]
  },
  {
   "cell_type": "code",
   "execution_count": null,
   "metadata": {
    "collapsed": false,
    "scrolled": false
   },
   "outputs": [],
   "source": [
    "plan_cols = ['train', 'oper', 'oper_time_f', 'st_from_name', 'st_to_name', 'time_start_f', 'time_end_f', 'loco', 'team']\n",
    "add_header('Пример плана по одному из поездов, формированием НЕ на станции %s:' % test_st)\n",
    "train_id = late_trains[late_trains.st_loc_name != test_st].sort_values('delta', ascending=False).iloc[0].train\n",
    "with pd.option_context('display.max_colwidth', 15):\n",
    "    add_line(train_plan[train_plan.train == train_id][plan_cols])"
   ]
  },
  {
   "cell_type": "markdown",
   "metadata": {},
   "source": [
    "[В начало](#toc)\n",
    "## Планирование сдвоенных поездов и поездов, составляющих сдвоенные\n",
    "\n",
    "0. Сдвоенные поезда - это поезда, которые указаны в атрибуте `joint` у каких-либо других поездов.\n",
    "1. Сдвоенные поезда с точки зрения планирования ничем не отличаются от обычных поездов. Проверяется, что сдвоенные поезда планируются до своей конечной станции.\n",
    "2. Составляющие поезда должны планироваться от конечной станции сдвоенного поезда и только после прибытия сдвоенного поезда на конечную станцию."
   ]
  },
  {
   "cell_type": "code",
   "execution_count": null,
   "metadata": {
    "collapsed": true
   },
   "outputs": [],
   "source": [
    "add_header('Планирование сдвоенных поездов и поездов, составляющих сдвоенные', h=2, p=False)"
   ]
  },
  {
   "cell_type": "code",
   "execution_count": null,
   "metadata": {
    "collapsed": false
   },
   "outputs": [],
   "source": [
    "train_info['is_arrive'] = train_info.last_st == train_info.loc_name\n",
    "train_plan['last_st_info'] = train_plan.train.map(train_info.set_index('train').last_st)\n",
    "joints = [t for t in train_info.joint.unique() if t != '-1']\n",
    "info_joints = train_info[train_info.train.isin(joints)]\n",
    "joints_to_plan = info_joints[info_joints.is_arrive == False]\n",
    "joints_planned = train_plan[train_plan.train.isin(joints_to_plan.train)]\n",
    "add_header('Всего запланировано %d сдвоенных поездов из %d корректно переданных (%.2f%%). Примеры незапланированных поездов:' \n",
    "           % (joints_planned.train.count(), joints_to_plan.train.count(), \n",
    "              100 * joints_planned.drop_duplicates('train').train.count() / joints_to_plan.train.count()))\n",
    "cols = ['train', 'number', 'ind434', 'oper', 'oper_time_f', 'loc_name']\n",
    "pd.set_option('display.max_colwidth', 50)\n",
    "add_line(joints_to_plan.head(10)[cols])"
   ]
  },
  {
   "cell_type": "code",
   "execution_count": null,
   "metadata": {
    "collapsed": false
   },
   "outputs": [],
   "source": [
    "tl = joints_planned.drop_duplicates('train', keep='last')\n",
    "tl_no_end = tl[tl.st_to_name != tl.last_st_info]\n",
    "add_header('Всего %d сдвоенных поездов из %d запланированных (%.2f%%) запланированы НЕ до конца маршрута. Примеры:' \n",
    "           % (tl_no_end.train.count(), joints_planned.drop_duplicates('train').train.count(), \n",
    "              100 * tl_no_end.train.count() / joints_planned.drop_duplicates('train').train.count()))\n",
    "cols = ['train', 'number', 'ind434', 'st_from_name', 'st_to_name', 'last_st_info']\n",
    "add_line(tl_no_end.head(10)[cols])"
   ]
  },
  {
   "cell_type": "markdown",
   "metadata": {},
   "source": [
    "<a id='report'></a>\n",
    "### Экспорт в HTML [ToC](#toc)"
   ]
  },
  {
   "cell_type": "code",
   "execution_count": null,
   "metadata": {
    "collapsed": false
   },
   "outputs": [],
   "source": [
    "filename = REPORT_FOLDER + 'train_report_' + time.strftime('%Y%m%d_%H%M%S', time.localtime(time.time())) + '.html'\n",
    "create_report(filename)"
   ]
  }
 ],
 "metadata": {
  "kernelspec": {
   "display_name": "Python 3",
   "language": "python",
   "name": "python3"
  },
  "language_info": {
   "codemirror_mode": {
    "name": "ipython",
    "version": 3
   },
   "file_extension": ".py",
   "mimetype": "text/x-python",
   "name": "python",
   "nbconvert_exporter": "python",
   "pygments_lexer": "ipython3",
   "version": "3.5.1"
  }
 },
 "nbformat": 4,
 "nbformat_minor": 0
}
