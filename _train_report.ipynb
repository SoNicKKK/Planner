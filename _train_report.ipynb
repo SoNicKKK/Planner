{
 "cells": [
  {
   "cell_type": "markdown",
   "metadata": {},
   "source": [
    "<a id='toc'></a>\n",
    "# Отчет по запланированным поездам"
   ]
  },
  {
   "cell_type": "markdown",
   "metadata": {},
   "source": [
    "1. [Проверка планирования всех реальных поездов](#all_plan)\n",
    "1. [Проверка совпадения четности номеров поездов и направления движения](#oddity)\n",
    "2. [Анализ времен стоянок поездов на станциях смены локомотивов и бригад.](#stop_time)\n",
    "   1. [Смена локомотивов](#stop_loco)\n",
    "   2. [Смена бригад](#stop_team)\n",
    "4. [Выявление случаев \"близкой\" отправки поездов с одной станции (с интервалом меньше 5 минут)](#dep_interval)\n",
    "5. [Анализ отклонения запланированного на сутки количества поездов от данных АС ССП (данные средние по суткам).](#ssp)\n",
    "6. [Проверка соответствия первого участка в запланированном маршруте и исходного факта](#info_plan_depart)\n",
    "6. [Детальное сравнение количества поездов по Иркутску с данными ССП](#irk_ssp)\n",
    "6. [Создание отчета](#report)"
   ]
  },
  {
   "cell_type": "markdown",
   "metadata": {},
   "source": [
    "### Функции для экспорта в HTML"
   ]
  },
  {
   "cell_type": "code",
   "execution_count": 258,
   "metadata": {
    "collapsed": true
   },
   "outputs": [],
   "source": [
    "report = ''\n",
    "FOLDER = 'resources/'\n",
    "REPORT_FOLDER = 'report/'\n",
    "PRINT = True"
   ]
  },
  {
   "cell_type": "code",
   "execution_count": 259,
   "metadata": {
    "collapsed": true
   },
   "outputs": [],
   "source": [
    "def add_line(line, p=PRINT):    \n",
    "    global report        \n",
    "    if p:                \n",
    "        if type(line) == pd.core.frame.DataFrame:\n",
    "            print(line.to_string(index=False))\n",
    "        elif type(line) == pd.core.series.Series:\n",
    "            print(line.to_string())\n",
    "        else:\n",
    "            print(line)\n",
    "    if type(line) == pd.core.frame.DataFrame:        \n",
    "        report += ('%s<br>' % line.to_html(index=False))\n",
    "    elif type(line) == pd.core.series.Series:\n",
    "        report += ('%s<br>' % line.to_frame().reset_index().to_html(index=False))\n",
    "    else:        \n",
    "        report += ('%s<br>' % line)\n",
    "    \n",
    "def add_header(header, h=4, p=PRINT):\n",
    "    global report\n",
    "    report += ('<h%d>%s</h%d>' % (h, header, h))\n",
    "    if p:\n",
    "        print(header)\n",
    "\n",
    "def add_image(filename, scale=0.4):\n",
    "    global report\n",
    "    report += ('<img src=\"%s\" alt=\"%s\" height=\"%d%%\">' % (filename, filename, int(scale * 100)))\n",
    "\n",
    "def create_report(filename):\n",
    "    global report\n",
    "    report = report.replace('<table border=\"1\" class=\"dataframe\">','<table class=\"table table-striped\">')\n",
    "    html_string = '''\n",
    "        <html>\n",
    "            <head>\n",
    "                <link rel=\"stylesheet\" href=\"skeleton.css\">\n",
    "                <style>body{ margin:20 20; background:whitesmoke; }\n",
    "                table {table-layout : fixed}\n",
    "                </style>\n",
    "            </head>\n",
    "            <body>                \n",
    "                %s\n",
    "            </body>\n",
    "        </html>''' % (report)\n",
    "    f = open(filename,'w', encoding='utf-8-sig')\n",
    "    f.write(html_string)\n",
    "    f.close()\n",
    "    print('Отчет сформирован: %s' % filename)"
   ]
  },
  {
   "cell_type": "markdown",
   "metadata": {},
   "source": [
    "## Загрузка и подготовка данных"
   ]
  },
  {
   "cell_type": "code",
   "execution_count": 260,
   "metadata": {
    "collapsed": false
   },
   "outputs": [
    {
     "name": "stdout",
     "output_type": "stream",
     "text": [
      "Время составления отчета: 22/07 09:40\n",
      "Время запуска планировщика: 22/07 07:30 (1469161839)\n"
     ]
    }
   ],
   "source": [
    "import numpy as np\n",
    "import pandas as pd\n",
    "import time, datetime\n",
    "from ast import literal_eval\n",
    "import matplotlib.pyplot as plt\n",
    "import seaborn as sns\n",
    "\n",
    "%matplotlib inline\n",
    "plt.style.use('fivethirtyeight')\n",
    "plt.rc('font', family='Tahoma')\n",
    "\n",
    "pd.set_option('max_rows', 50)\n",
    "\n",
    "time_format = '%d/%m %H:%M'\n",
    "\n",
    "start_time = time.time()\n",
    "current_time = pd.read_csv(FOLDER + 'current_time.csv').current_time[0]\n",
    "twr          = pd.read_csv(FOLDER + 'team_work_region.csv', converters={'twr':str})\n",
    "links        = pd.read_csv(FOLDER + 'link.csv', converters={'st_from':str, 'st_to':str})\n",
    "stations     = pd.read_csv(FOLDER + 'station.csv', converters={'station':str})\n",
    "train_info   = pd.read_csv(FOLDER + 'train_info.csv', converters={'train': str, 'st_from':str, 'st_to':str, 'joint':str,\n",
    "                                                                 'start_st':str, 'end_st':str})\n",
    "train_plan   = pd.read_csv(FOLDER + 'slot_train.csv', converters={'train': str, 'st_from':str, 'st_to':str})\n",
    "loco_info    = pd.read_csv(FOLDER + 'loco_attributes.csv', converters={'train':str, 'loco':str, 'st_from':str, 'st_to':str})\n",
    "loco_plan    = pd.read_csv(FOLDER + 'slot_loco.csv', converters={'train':str, 'loco':str, 'st_from':str, 'st_to':str})\n",
    "team_info    = pd.read_csv(FOLDER + 'team_attributes.csv', converters={'team':str,'depot':str, 'oper_location':str, \\\n",
    "                                                     'st_from':str, 'st_to':str, 'loco':str, 'depot_st':str})\n",
    "team_plan    = pd.read_csv(FOLDER + 'slot_team.csv', converters={'team':str,'loco':str, 'st_from':str, 'st_to':str})\n",
    "loco_series  = pd.read_csv(FOLDER + 'loco_series.csv')\n",
    "task         = pd.read_csv(FOLDER + 'task.csv', converters={'st_from':str, 'st_to':str, 'st_next':str})\n",
    "\n",
    "st_names     = stations[['station', 'name', 'esr']].drop_duplicates().set_index('station')\n",
    "team_info.regions = team_info.regions.apply(literal_eval)\n",
    "\n",
    "print('Время составления отчета:', time.strftime(time_format, time.localtime()))\n",
    "print('Время запуска планировщика: %s (%d)' % (time.strftime(time_format, time.localtime(current_time)), current_time))"
   ]
  },
  {
   "cell_type": "code",
   "execution_count": 261,
   "metadata": {
    "collapsed": false
   },
   "outputs": [],
   "source": [
    "def nice_time(t):        \n",
    "    return time.strftime(time_format, time.localtime(t)) if np.isnan(t) == False else None\n",
    "\n",
    "def add_info(df):    \n",
    "    if 'st_from' in df.columns:\n",
    "        df['st_from_name'] = df.st_from.map(st_names.name)\n",
    "    if 'st_to' in df.columns:\n",
    "        df['st_to_name'] = df.st_to.map(st_names.name)\n",
    "    if 'time_start' in df.columns:\n",
    "        df['time_start_f'] = df.time_start.apply(lambda x: nice_time(x))\n",
    "    if 'time_end' in df.columns:\n",
    "        df['time_end_f'] = df.time_end.apply(lambda x: nice_time(x))\n",
    "    if 'oper_location' in df.columns:\n",
    "        df['oper_location_name'] = df.oper_location.map(st_names.name)    \n",
    "        df.oper_location_name.fillna(0, inplace=True)\n",
    "    if ('oper_location' in df.columns) & ('st_from' in df.columns) & ('st_to' in df.columns):        \n",
    "        df['loc_name'] = df.oper_location_name\n",
    "        df.loc[df.loc_name == 0, 'loc_name'] = df.st_from_name + ' - ' + df.st_to_name\n",
    "    if 'oper_time' in df.columns:\n",
    "        df['oper_time_f'] = df.oper_time.apply(lambda x: nice_time(x))    \n",
    "    \n",
    "# Добавляем во все таблицы названия станций на маршруте и времена отправления/прибытия в читабельном формате\n",
    "add_info(train_plan), add_info(loco_plan), add_info(team_plan)\n",
    "add_info(train_info), add_info(loco_info), add_info(team_info)\n",
    "\n",
    "# Мержим таблицы _plan и _info для поездов, локомотивов и бригад\n",
    "train_plan = train_plan.merge(train_info, on='train', suffixes=('', '_info'), how='left')\n",
    "loco_plan = loco_plan.merge(loco_info, on='loco', suffixes=('', '_info'), how='left')\n",
    "team_plan = team_plan.merge(team_info, on='team', suffixes=('', '_info'), how='left')\n",
    "\n",
    "# Добавляем признаки поезда и бригады (реальный/локомотиво-резервный/объемный и реальная/фейковая)\n",
    "train_plan['train_type'] = train_plan.train.apply(lambda x: str(x)[0])\n",
    "team_plan['team_type'] = team_plan.team.apply(lambda x: 'Реальная' if str(x)[0] == '2' else 'Фейковая')\n",
    "\n",
    "# Для локомотиво-резервных и объемных поездов заполняем номер\n",
    "train_plan.loc[train_plan.train_type.isin(['8', '9']), 'number'] = train_plan.train.apply(lambda x: int(str(x)[-4:]))\n",
    "\n",
    "# Добавляем подвязанные локомотив и бригаду в таблицы loco_plan и train_plan\n",
    "if 'team' not in loco_plan.columns:\n",
    "    loco_plan = pd.merge(loco_plan, team_plan.loc[team_plan.state == 1, ['team', 'loco', 'time_start']], \n",
    "                         on=['loco', 'time_start'], how='left')\n",
    "if 'loco' not in train_plan.columns:\n",
    "    train_plan = pd.merge(train_plan, loco_plan.loc[loco_plan.state.isin([0, 1]), ['loco', 'team', 'train', 'time_start']],\n",
    "                     on=['train', 'time_start'], how='left')"
   ]
  },
  {
   "cell_type": "markdown",
   "metadata": {},
   "source": [
    "<a id='all_plan'></a>"
   ]
  },
  {
   "cell_type": "markdown",
   "metadata": {},
   "source": [
    "## Проверка планирования всех реальных поездов [ToC](#toc)"
   ]
  },
  {
   "cell_type": "code",
   "execution_count": 262,
   "metadata": {
    "collapsed": true
   },
   "outputs": [],
   "source": [
    "routes = pd.read_csv(FOLDER + 'routes.csv', dtype={'st_from':str, 'st_to':str, 'train':str})\n",
    "add_info(routes)\n",
    "routes.dropna(subset=['st_from_name', 'st_to_name'], how='any', inplace=True)\n",
    "start_st = routes.drop_duplicates('train').set_index('train')\n",
    "end_st = routes.drop_duplicates('train', keep='last').set_index('train')\n",
    "train_info['first_st'] = train_info.train.map(start_st.st_from_name)\n",
    "train_info['last_st'] = train_info.train.map(end_st.st_to_name)"
   ]
  },
  {
   "cell_type": "code",
   "execution_count": 263,
   "metadata": {
    "collapsed": false
   },
   "outputs": [
    {
     "name": "stdout",
     "output_type": "stream",
     "text": [
      "Всего 26 реальных поездов (1.41%) не запланировано:\n",
      "        train  number         ind434                  loc_name in_plan                  first_st              last_st\n",
      " 220209323083    2030  8927-915-9687     ШИМАНОВСКАЯ - ЛЕДЯНАЯ   False               ШИМАНОВСКАЯ               ДЗЕМГИ\n",
      " 200021015786    2146  9600-325-9676    ОУНЭ - БЛОКПОСТ 197 КМ   False                      ОУНЭ               ВАНИНО\n",
      " 220210760151    2150  8630-783-9678    ОУНЭ - БЛОКПОСТ 197 КМ   False                      ОУНЭ               ВАНИНО\n",
      " 220209602778    2194  8927-918-9687  СКОВОРОДИНО - БОЛЬШОЙ...   False               СКОВОРОДИНО               ДЗЕМГИ\n",
      " 200021129299    2371  9100-900-9200           ТЫНДА - КУВЫКТА   False                     ТЫНДА               ТАЙШЕТ\n",
      " 200020481652    2373  9700-312-8622           ТЫНДА - КУВЫКТА   False                     ТЫНДА             МАРИИНСК\n",
      " 220209639766    2473  9600-379-8621        БАТАРЕЙНАЯ - МЕГЕТ   False                БАТАРЕЙНАЯ             МАРИИНСК\n",
      " 220211038173    2536  8927-906-9687     ШИМАНОВСКАЯ - ЛЕДЯНАЯ   False               ШИМАНОВСКАЯ               ДЗЕМГИ\n",
      " 220209206925    2540  8927-913-9687     ШИМАНОВСКАЯ - ЛЕДЯНАЯ   False               ШИМАНОВСКАЯ               ДЗЕМГИ\n",
      " 220209438714    2569  9700-304-8622            ТАЙШЕТ - ТАГУЛ   False                    ТАЙШЕТ             МАРИИНСК\n",
      " 200020967937    2575  9257-828-8012            ТАЙШЕТ - ТАГУЛ   False                    ТАЙШЕТ             МАРИИНСК\n",
      " 200021289956    2615  8870-020-8602   БИСКАМЖА - МЕЖДУРЕЧЕНСК   False                  БИСКАМЖА             МАРИИНСК\n",
      " 200020650366    2621  9200-559-8602   БИСКАМЖА - МЕЖДУРЕЧЕНСК   False                  БИСКАМЖА             МАРИИНСК\n",
      " 220209134658    2671  9700-301-8622   БИСКАМЖА - МЕЖДУРЕЧЕНСК   False                  БИСКАМЖА             МАРИИНСК\n",
      " 200020719796    2675  8883-965-8642   БИСКАМЖА - МЕЖДУРЕЧЕНСК   False                  БИСКАМЖА             МАРИИНСК\n",
      " 220209323537    2682  8647-325-9861  ЧЕРНЫШЕВСК-ЗАБАЙКАЛЬС...   False  ЧЕРНЫШЕВСК-ЗАБАЙКАЛЬСКИЙ    НАХОДКА-ВОСТОЧНАЯ\n",
      " 220209866038    2905  9116-279-8176            ТАЙШЕТ - ТАГУЛ   False                    ТАЙШЕТ             МАРИИНСК\n",
      " 220209576551    2907  9700-127-8628            ТАЙШЕТ - ТАГУЛ   False                    ТАЙШЕТ             МАРИИНСК\n",
      " 200020910492    3037  9600-389-9379     НОВЫЙ УРГАЛ - АДНИКАН   False               НОВЫЙ УРГАЛ              ЧЕЛУТАЙ\n",
      " 200020873512    3283  9845-001-9769     БИКИН - РОЗЕНГАРТОВКА   False                     БИКИН          ДУБИНИНСКИЙ\n",
      " 200020807950    3501  9300-739-8649             УЯР - КИЛЬЧУГ   False                       УЯР             МАРИИНСК\n",
      " 200020991142    3803  9737-632-9883  ВОЗДВИЖЕНСКИЙ - ГРОДЕ...   False             ВОЗДВИЖЕНСКИЙ            УССУРИЙСК\n",
      " 200021359363    4706  0001-225-8918        КРАСНОЯРСК - БУГАЧ   False                КРАСНОЯРСК              ЗЛОБИНО\n",
      " 200021328455    4881  9253-939-9251  ГИДРОСТРОИТЕЛЬ - ПАДУ...   False            ГИДРОСТРОИТЕЛЬ  КОРШУНИХА-АНГАРСКАЯ\n",
      " 200020728057    8402  8822-019-8931  БАЗАИХА - КРАСНОЯРСК-...   False                   БАЗАИХА            ЗАОЗЕРНАЯ\n",
      " 200021287428    8552  8870-642-8880  ТАШЕБА - ЧЕРНОГОРСКИЕ...   False                    ТАШЕБА               АБАКАН\n"
     ]
    }
   ],
   "source": [
    "train_info['in_plan'] = train_info.train.isin(train_plan.train)\n",
    "a = train_info[(train_info.in_plan == False) \n",
    "               & (train_info.number > 1000) \n",
    "               & (train_info.number < 9000)\n",
    "               & ((train_info.st_from != train_info.st_to) | (train_info.st_from == -1))\\\n",
    "              ].sort_values('number')\n",
    "with pd.option_context('display.max_colwidth', 25):\n",
    "    add_header('Всего %d реальных поездов (%.2f%%) не запланировано:' \n",
    "               % (a.train.count(), 100 * a.train.count() / train_info.train.count()))\n",
    "    add_line(a[['train', 'number', 'ind434', 'loc_name', 'in_plan', 'first_st', 'last_st']])"
   ]
  },
  {
   "cell_type": "markdown",
   "metadata": {},
   "source": [
    "<a id='oddity'></a>\n",
    "## Проверка совпадения четности номеров поездов и направления движения [ToC](#toc)"
   ]
  },
  {
   "cell_type": "code",
   "execution_count": 264,
   "metadata": {
    "collapsed": false
   },
   "outputs": [],
   "source": [
    "add_header('Проверки по поездам', h=1, p=False)\n",
    "add_header('Проверка совпадения четности номеров поездов и направления движения', h=2, p=False)"
   ]
  },
  {
   "cell_type": "code",
   "execution_count": 265,
   "metadata": {
    "collapsed": false
   },
   "outputs": [
    {
     "name": "stdout",
     "output_type": "stream",
     "text": [
      "Все четности совпадают\n"
     ]
    }
   ],
   "source": [
    "train_plan['dir'] = train_plan.link.map(links.set_index('link').dir)\n",
    "train_plan['odevity'] = (((train_plan.number / 2).astype(int) * 2 == train_plan.number).astype(int) + 1) % 2\n",
    "train_plan['check_odd'] = train_plan.dir == train_plan.odevity\n",
    "cols = ['train', 'number', 'st_from_name', 'st_to_name', 'dir', 'odevity', 'check_odd']\n",
    "fail_dir_number = train_plan.drop_duplicates(subset=['train', 'number']).loc[(train_plan.train_type.isin(['8', '9'])) &\n",
    "                                                          (train_plan.check_odd == False), cols]\n",
    "if fail_dir_number.empty == False:\n",
    "    add_header('Четность номеров поездов и направления не совпадает для %d поездов (показаны первые 10):' %\n",
    "         len(fail_dir_number.index))\n",
    "    pd.set_option('display.max_colwidth', 35)\n",
    "    add_line(fail_dir_number.head(10))\n",
    "else:\n",
    "    add_line('Все четности совпадают')"
   ]
  },
  {
   "cell_type": "markdown",
   "metadata": {},
   "source": [
    "<a id='stop_time'></a>\n",
    "## Анализ времен стоянок поездов на станциях смены локомотивов и бригад [ToC](#toc)"
   ]
  },
  {
   "cell_type": "markdown",
   "metadata": {},
   "source": [
    "#### Параметры для анализа"
   ]
  },
  {
   "cell_type": "code",
   "execution_count": 266,
   "metadata": {
    "collapsed": false
   },
   "outputs": [],
   "source": [
    "# Минимальное время стоянки поезда для смены локомотива\n",
    "min_loco_stop = 1 * 3600 # 1 hour = 60 min\n",
    "\n",
    "# Минимальное время стоянки поезда для смены бригады\n",
    "min_team_stop = 15 * 60 # 15 min\n",
    "\n",
    "# Горизонт проверки\n",
    "hor = 24 * 3600"
   ]
  },
  {
   "cell_type": "markdown",
   "metadata": {},
   "source": [
    "<a id='stop_loco'></a>\n",
    "### Смена локомотивов [ToC](#toc)"
   ]
  },
  {
   "cell_type": "code",
   "execution_count": 267,
   "metadata": {
    "collapsed": true
   },
   "outputs": [],
   "source": [
    "add_header('Анализ смен локомотивов на маршрутах поездов', h=2, p=False)"
   ]
  },
  {
   "cell_type": "markdown",
   "metadata": {},
   "source": [
    "#### Ищем станции смены локомотивов и считаем средние времена"
   ]
  },
  {
   "cell_type": "code",
   "execution_count": 268,
   "metadata": {
    "collapsed": false
   },
   "outputs": [],
   "source": [
    "train_plan.columns\n",
    "train_plan.loco.fillna('-1', inplace=True)\n",
    "train_plan.team.fillna('-1', inplace=True)\n",
    "\n",
    "train_plan['train_end'] = train_plan.train != train_plan.train.shift(-1)\n",
    "train_plan['loco_end'] = (train_plan.loco != train_plan.loco.shift(-1)) | (train_plan.train_end)\n",
    "train_plan['team_end'] = (train_plan.team != train_plan.team.shift(-1)) | (train_plan.loco_end)\n",
    "\n",
    "train_plan['stop_time'] = train_plan.time_start.shift(-1) - train_plan.time_end\n",
    "train_plan['stop_time_h'] = np.round((train_plan.stop_time / 3600), 2)\n",
    "\n",
    "train_plan['next_loco'] = train_plan.loco.shift(-1)\n",
    "train_plan['next_team'] = train_plan.team.shift(-1)\n",
    "\n",
    "cols = ['train', 'st_from_name', 'st_to_name', 'loco', 'team', 'stop_time_h', 'next_loco']\n",
    "loco_change = train_plan[(train_plan.train_end == False) & (train_plan.loco_end == True)\n",
    "                        & (train_plan.time_end < current_time + hor)]"
   ]
  },
  {
   "cell_type": "code",
   "execution_count": 269,
   "metadata": {
    "collapsed": false
   },
   "outputs": [
    {
     "name": "stdout",
     "output_type": "stream",
     "text": [
      "Средние времена на смену локомотивов:\n",
      "- по всем сменам: 11.74 ч.\n",
      "- по всем сменам с ненулевым временем: 11.82 ч.\n"
     ]
    }
   ],
   "source": [
    "add_header('Средние времена на смену локомотивов:')\n",
    "add_line('- по всем сменам: %.2f ч.' % loco_change.stop_time_h.mean())\n",
    "add_line('- по всем сменам с ненулевым временем: %.2f ч.' % loco_change[loco_change.stop_time_h > 0].stop_time_h.mean())"
   ]
  },
  {
   "cell_type": "markdown",
   "metadata": {},
   "source": [
    "#### Ищем поезда, у которых смена локомотивов происходит за нулевое время"
   ]
  },
  {
   "cell_type": "code",
   "execution_count": 270,
   "metadata": {
    "collapsed": false
   },
   "outputs": [
    {
     "name": "stdout",
     "output_type": "stream",
     "text": [
      "Всего 3 поездов, для которых смена локомотивов происходит за нулевое время. Примеры:\n",
      "           train st_from_name            st_to_name          loco next_loco  stop_time_h\n",
      " 999912376012006    ЗАОЗЕРНАЯ              ИЛАНСКАЯ  200200047734        -1            0\n",
      "    200021108387      ЗЕРЦАЛЫ               БОГОТОЛ  200200102863        -1            0\n",
      " 999928921032005       ДЗЕМГИ  КОМСОМОЛЬСК-НА-АМУРЕ  200200096722        -1            0\n",
      "\n",
      "Полный план по одному из таких поездов:\n",
      "           train          st_from_name st_to_name time_start_f   time_end_f          loco team\n",
      " 999912376012006  КРАСНОЯРСК-ВОСТОЧНЫЙ     ЗЫКОВО  22/07 15:20  22/07 15:29  200200047734   -1\n",
      " 999912376012006                ЗЫКОВО        УЯР  22/07 15:29  22/07 17:32  200200047734   -1\n",
      " 999912376012006                   УЯР  ЗАОЗЕРНАЯ  22/07 17:32  22/07 18:03  200200047734   -1\n",
      " 999912376012006             ЗАОЗЕРНАЯ   ИЛАНСКАЯ  22/07 18:03  22/07 19:57  200200047734   -1\n",
      " 999912376012006              ИЛАНСКАЯ     РЕШОТЫ  22/07 19:57  22/07 21:19            -1   -1\n",
      " 999912376012006                РЕШОТЫ      КЛЮЧИ  22/07 21:19  22/07 21:36            -1   -1\n",
      " 999912376012006                 КЛЮЧИ       ЮРТЫ  22/07 21:36  22/07 22:00            -1   -1\n",
      " 999912376012006                  ЮРТЫ     ТАЙШЕТ  22/07 22:00  22/07 22:27            -1   -1\n"
     ]
    }
   ],
   "source": [
    "cols = ['train', 'st_from_name', 'st_to_name', 'loco', 'next_loco', 'stop_time_h']\n",
    "nill_stop_times = loco_change[loco_change.stop_time == 0]\n",
    "if not nill_stop_times.empty:\n",
    "    add_header('Всего %d поездов, для которых смена локомотивов происходит за нулевое время. Примеры:' \n",
    "               % nill_stop_times.train.count())\n",
    "    add_line(nill_stop_times[cols].head())\n",
    "    cols = ['train', 'st_from_name', 'st_to_name', 'time_start_f', 'time_end_f', 'loco', 'team']\n",
    "    add_line('')\n",
    "    add_header('Полный план по одному из таких поездов:')\n",
    "    for train in nill_stop_times.train.values[:1]:\n",
    "        add_line(train_plan[train_plan.train == train][cols])\n",
    "else:\n",
    "    add_header('Нет локомотивов, для которых смена бригад происходит за нулевое время')"
   ]
  },
  {
   "cell_type": "markdown",
   "metadata": {},
   "source": [
    "#### Составляем статистику по всем станциям смены, загружаем список приоритетных станций смены"
   ]
  },
  {
   "cell_type": "code",
   "execution_count": 271,
   "metadata": {
    "collapsed": false
   },
   "outputs": [],
   "source": [
    "cols = ['train', 'st_from_name', 'st_to_name', 'loco', 'next_loco', 'stop_time_h']\n",
    "no_nill_stops = loco_change[loco_change.stop_time > 0]\n",
    "no_nill_stops[cols]\n",
    "#no_nill_stops.groupby('st_to_name').stop_time_h.mean()\n",
    "st_change = no_nill_stops.groupby('st_to_name').train.count().to_frame()\\\n",
    "            .join(no_nill_stops.groupby('st_to_name').stop_time_h.mean()).reset_index()\n",
    "st_change['stop_time_h'] = st_change.stop_time_h.apply(lambda x: np.round(x, 2))\n",
    "st_change.sort_values('train', ascending=False).head(10)\n",
    "priority_change_stations = pd.read_csv(FOLDER + 'mandatory/priority_loco_change_stations.csv').st_name.values"
   ]
  },
  {
   "cell_type": "markdown",
   "metadata": {},
   "source": [
    "#### Ищем поезда, у которых смена локомотивов происходит на неправильных станциях"
   ]
  },
  {
   "cell_type": "code",
   "execution_count": 272,
   "metadata": {
    "collapsed": false
   },
   "outputs": [
    {
     "name": "stdout",
     "output_type": "stream",
     "text": [
      "Всего 196 поездов, у которых смена локомотива, скорее всего, происходит на неправильных станциях\n",
      "Примеры таких станций:\n",
      "           st_to_name  train  stop_time_h\n",
      "                 БИРА     76         2.04\n",
      "         ВОЛОЧАЕВКА I     38         2.06\n",
      "          ДУБИНИНСКИЙ      8         9.60\n",
      "              ГОРЕЛЫЙ      7         3.55\n",
      "            МАГДАГАЧИ      7        11.27\n",
      "                  УЯР      5         8.88\n",
      "           НОВАЯ ЧАРА      4         3.59\n",
      "               ЧИТА I      4        17.44\n",
      "                 ХАНИ      4         6.11\n",
      " КОМСОМОЛЬСК-НА-АМУРЕ      3         7.97\n",
      "\n",
      "Поезда, у которых смена локомотива происходит на станции БИРА:\n",
      "           train st_from_name st_to_name          loco next_loco  stop_time_h\n",
      "    220211256147  ИЗВЕСТКОВАЯ       БИРА  200200102276        -1         1.78\n",
      "    200020354373  ИЗВЕСТКОВАЯ       БИРА  200200087546        -1         1.86\n",
      "    220209890773  ИЗВЕСТКОВАЯ       БИРА  200200102362        -1         2.10\n",
      "    230200168202  ИЗВЕСТКОВАЯ       БИРА  200200104503        -1         1.97\n",
      "    220209347692  ИЗВЕСТКОВАЯ       БИРА  200200067477        -1         2.25\n",
      "    220209191096  ИЗВЕСТКОВАЯ       БИРА  200200101510        -1         1.81\n",
      "    200020502727  ИЗВЕСТКОВАЯ       БИРА  200200038532        -1         1.80\n",
      "    230200027259  ИЗВЕСТКОВАЯ       БИРА  200200086072        -1         2.06\n",
      "    220211434540  ИЗВЕСТКОВАЯ       БИРА  200200083651        -1         2.46\n",
      "    220211435000  ИЗВЕСТКОВАЯ       БИРА  200200074877        -1         2.08\n",
      "    220209614947  ИЗВЕСТКОВАЯ       БИРА  200200090307        -1         1.78\n",
      "    200020742869  ИЗВЕСТКОВАЯ       БИРА  200200106870        -1         1.86\n",
      "    230200204820  ИЗВЕСТКОВАЯ       БИРА  200200078613        -1         2.30\n",
      "    230200173624  ИЗВЕСТКОВАЯ       БИРА  200200092578        -1         2.09\n",
      "    220209526734  ИЗВЕСТКОВАЯ       БИРА  200200061135        -1         2.03\n",
      "    220210360584  ИЗВЕСТКОВАЯ       БИРА  200200029331        -1         1.98\n",
      "    220208685667  ИЗВЕСТКОВАЯ       БИРА  200200102107        -1         2.04\n",
      "    220211393561  ИЗВЕСТКОВАЯ       БИРА  200200080646        -1         2.63\n",
      "    220208895188  ИЗВЕСТКОВАЯ       БИРА  200200063039        -1         1.88\n",
      "    220208945740  ИЗВЕСТКОВАЯ       БИРА  200200105280        -1         2.55\n",
      "    220209883436  ИЗВЕСТКОВАЯ       БИРА  200200090778        -1         1.90\n",
      "    220208930407  ИЗВЕСТКОВАЯ       БИРА  200200091512        -1         1.78\n",
      "    220209205882  ИЗВЕСТКОВАЯ       БИРА  200200062396        -1         2.20\n",
      "    220209455916  ИЗВЕСТКОВАЯ       БИРА  200200094033        -1         1.95\n",
      "    220209805503  ИЗВЕСТКОВАЯ       БИРА  200200076073        -1         1.83\n",
      " 999928836022004  ИЗВЕСТКОВАЯ       БИРА  200200097795        -1         2.28\n",
      "    220208272869  ИЗВЕСТКОВАЯ       БИРА  200200070742        -1         1.78\n",
      "    220209798566  ИЗВЕСТКОВАЯ       БИРА  200200091402        -1         1.91\n",
      "    220211277920  ИЗВЕСТКОВАЯ       БИРА  200200098545        -1         1.88\n",
      "    220211783211  ИЗВЕСТКОВАЯ       БИРА  200200097795        -1         2.08\n",
      "    200021091075  ИЗВЕСТКОВАЯ       БИРА  200200088856        -1         1.76\n",
      "    220209815789  ИЗВЕСТКОВАЯ       БИРА  200200087560        -1         2.80\n",
      "    220208708861  ИЗВЕСТКОВАЯ       БИРА  200200051982        -1         1.84\n",
      "    220209806678  ИЗВЕСТКОВАЯ       БИРА  210203707462        -1         2.19\n",
      "    220209364094  ИЗВЕСТКОВАЯ       БИРА  200200051248        -1         1.78\n",
      "    220211368155  ИЗВЕСТКОВАЯ       БИРА  200200097957        -1         1.92\n",
      "    200020624008  ИЗВЕСТКОВАЯ       БИРА  200200106020        -1         2.22\n",
      "    220208901981  ИЗВЕСТКОВАЯ       БИРА  200200083720        -1         1.92\n",
      "    200021019835  ИЗВЕСТКОВАЯ       БИРА  200200045126        -1         2.03\n",
      "    200020534633  ИЗВЕСТКОВАЯ       БИРА  200200067346        -1         1.89\n",
      "    220208961770  ИЗВЕСТКОВАЯ       БИРА  200200093507        -1         2.11\n",
      "    220209169309  ИЗВЕСТКОВАЯ       БИРА  200200084987        -1         2.19\n",
      "    220208668461  ИЗВЕСТКОВАЯ       БИРА  200207612033        -1         1.86\n",
      "    200020649914  ИЗВЕСТКОВАЯ       БИРА  200200105557        -1         2.43\n",
      "    220211765408  ИЗВЕСТКОВАЯ       БИРА  200200082149        -1         2.46\n",
      "    220207952960  ИЗВЕСТКОВАЯ       БИРА  200200107286        -1         1.78\n",
      "    220211346853  ИЗВЕСТКОВАЯ       БИРА  200200095780        -1         2.02\n",
      "    220208380268  ИЗВЕСТКОВАЯ       БИРА  210203700855        -1         1.87\n",
      "    220209419462  ИЗВЕСТКОВАЯ       БИРА  200200084763        -1         2.37\n",
      "    210219873834  ИЗВЕСТКОВАЯ       БИРА  200200082440        -1         2.71\n",
      "    220208962924  ИЗВЕСТКОВАЯ       БИРА  200205686269        -1         1.94\n",
      "    220211092163  ИЗВЕСТКОВАЯ       БИРА  200200085454        -1         1.69\n",
      "    220211038223  ИЗВЕСТКОВАЯ       БИРА  200200099818        -1         1.86\n",
      "    230200023057  ИЗВЕСТКОВАЯ       БИРА  200200097190        -1         2.12\n",
      "    220211038071  ИЗВЕСТКОВАЯ       БИРА  200200082113        -1         1.94\n",
      "    220209280056  ИЗВЕСТКОВАЯ       БИРА  200200030378        -1         1.48\n",
      "    200021145055  ИЗВЕСТКОВАЯ       БИРА  200200083783        -1         2.02\n",
      "    220208795656  ИЗВЕСТКОВАЯ       БИРА  200200088171        -1         1.79\n",
      "    220209381667  ИЗВЕСТКОВАЯ       БИРА  200200102043        -1         1.70\n",
      "    200021313167  ИЗВЕСТКОВАЯ       БИРА  200200096307        -1         1.67\n",
      "    220209910723  ИЗВЕСТКОВАЯ       БИРА  200200105376        -1         2.09\n",
      "    220211068278  ИЗВЕСТКОВАЯ       БИРА  200200066566        -1         2.88\n",
      "    220208949301  ИЗВЕСТКОВАЯ       БИРА  200200031171        -1         2.19\n",
      "    220209940540  ИЗВЕСТКОВАЯ       БИРА  200200085249        -1         1.91\n",
      "    220212055783  ИЗВЕСТКОВАЯ       БИРА  200200089463        -1         1.75\n",
      "    220210869772  ИЗВЕСТКОВАЯ       БИРА  200200082340        -1         2.19\n",
      "    220209303548  ИЗВЕСТКОВАЯ       БИРА  200200086377        -1         2.19\n",
      "    220211328080  ИЗВЕСТКОВАЯ       БИРА  200200087051        -1         2.09\n",
      "    230200000362  ИЗВЕСТКОВАЯ       БИРА  200200099303        -1         1.84\n",
      "    220210349881  ИЗВЕСТКОВАЯ       БИРА  200200087497        -1         2.23\n",
      "    220208673354  ИЗВЕСТКОВАЯ       БИРА  200200168680        -1         1.86\n",
      "    220208612987  ИЗВЕСТКОВАЯ       БИРА  200200092663        -1         2.96\n",
      "    220208820234  ИЗВЕСТКОВАЯ       БИРА  200200095501        -1         2.10\n",
      "    220208727478  ИЗВЕСТКОВАЯ       БИРА  200200085054        -1         1.76\n",
      "    220209627863  ИЗВЕСТКОВАЯ       БИРА  200200075849        -1         2.12\n",
      "    220209233488  ИЗВЕСТКОВАЯ       БИРА  200200092875        -1         1.84\n",
      "\n",
      "Полный план по одному из таких поездов:\n",
      "        train         st_from_name           st_to_name time_start_f   time_end_f          loco             loc_name     loco_info\n",
      " 220211256147              ОБЛУЧЬЕ          ИЗВЕСТКОВАЯ  22/07 01:46  22/07 02:35  200200102276  ОБЛУЧЬЕ - ИЗВЕСТ...  200200102276\n",
      " 220211256147          ИЗВЕСТКОВАЯ                 БИРА  22/07 02:35  22/07 03:57  200200102276  ОБЛУЧЬЕ - ИЗВЕСТ...  200200102276\n",
      " 220211256147                 БИРА                  NaN  22/07 05:45  22/07 06:39            -1  ОБЛУЧЬЕ - ИЗВЕСТ...  200200102276\n",
      " 220211256147                  NaN         ВОЛОЧАЕВКА I  22/07 06:39  22/07 08:27            -1  ОБЛУЧЬЕ - ИЗВЕСТ...  200200102276\n",
      " 220211256147         ВОЛОЧАЕВКА I           ТУНГУССКИЙ  22/07 08:27  22/07 08:32            -1  ОБЛУЧЬЕ - ИЗВЕСТ...  200200102276\n",
      " 220211256147           ТУНГУССКИЙ             ДЕЖНЕВКА  22/07 08:32  22/07 08:37            -1  ОБЛУЧЬЕ - ИЗВЕСТ...  200200102276\n",
      " 220211256147             ДЕЖНЕВКА          ПРИАМУРСКАЯ  22/07 08:37  22/07 08:56            -1  ОБЛУЧЬЕ - ИЗВЕСТ...  200200102276\n",
      " 220211256147          ПРИАМУРСКАЯ      ПОСТ-ПОКРОВСКИЙ  22/07 08:56  22/07 09:00            -1  ОБЛУЧЬЕ - ИЗВЕСТ...  200200102276\n",
      " 220211256147      ПОСТ-ПОКРОВСКИЙ                 АМУР  22/07 09:00  22/07 09:10            -1  ОБЛУЧЬЕ - ИЗВЕСТ...  200200102276\n",
      " 220211256147                 АМУР          ХАБАРОВСК I  22/07 09:10  22/07 09:28            -1  ОБЛУЧЬЕ - ИЗВЕСТ...  200200102276\n",
      " 220211256147          ХАБАРОВСК I         ХАБАРОВСК II  22/07 09:28  22/07 09:39            -1  ОБЛУЧЬЕ - ИЗВЕСТ...  200200102276\n",
      " 220211256147         ХАБАРОВСК II           КРУГЛИКОВО  22/07 16:30  22/07 17:10            -1  ОБЛУЧЬЕ - ИЗВЕСТ...  200200102276\n",
      " 220211256147           КРУГЛИКОВО            ВЯЗЕМСКАЯ  22/07 17:10  22/07 18:35            -1  ОБЛУЧЬЕ - ИЗВЕСТ...  200200102276\n",
      " 220211256147            ВЯЗЕМСКАЯ        РОЗЕНГАРТОВКА  22/07 18:35  22/07 19:43            -1  ОБЛУЧЬЕ - ИЗВЕСТ...  200200102276\n",
      " 220211256147        РОЗЕНГАРТОВКА                БИКИН  22/07 19:43  22/07 20:25            -1  ОБЛУЧЬЕ - ИЗВЕСТ...  200200102276\n",
      " 220211256147                БИКИН            ЛУЧЕГОРСК  22/07 20:25  22/07 21:14            -1  ОБЛУЧЬЕ - ИЗВЕСТ...  200200102276\n",
      " 220211256147            ЛУЧЕГОРСК             ГУБЕРОВО  22/07 21:14  22/07 22:12            -1  ОБЛУЧЬЕ - ИЗВЕСТ...  200200102276\n",
      " 220211256147             ГУБЕРОВО             ЭБЕРГАРД  22/07 22:12  22/07 22:33            -1  ОБЛУЧЬЕ - ИЗВЕСТ...  200200102276\n",
      " 220211256147             ЭБЕРГАРД      ДАЛЬНЕРЕЧЕНСК I  22/07 22:33  22/07 22:46            -1  ОБЛУЧЬЕ - ИЗВЕСТ...  200200102276\n",
      " 220211256147      ДАЛЬНЕРЕЧЕНСК I     БЛОКПОСТ 1571 КМ  22/07 22:46  22/07 22:52            -1  ОБЛУЧЬЕ - ИЗВЕСТ...  200200102276\n",
      " 220211256147     БЛОКПОСТ 1571 КМ               РУЖИНО  22/07 22:52  22/07 23:39            -1  ОБЛУЧЬЕ - ИЗВЕСТ...  200200102276\n",
      " 220211256147               РУЖИНО             ШМАКОВКА  23/07 02:10  23/07 02:54            -1  ОБЛУЧЬЕ - ИЗВЕСТ...  200200102276\n",
      " 220211256147             ШМАКОВКА       СПАССК-ДАЛЬНИЙ  23/07 02:54  23/07 03:58            -1  ОБЛУЧЬЕ - ИЗВЕСТ...  200200102276\n",
      " 220211256147       СПАССК-ДАЛЬНИЙ            СИБИРЦЕВО  23/07 03:58  23/07 05:05            -1  ОБЛУЧЬЕ - ИЗВЕСТ...  200200102276\n",
      " 220211256147            СИБИРЦЕВО          ДУБИНИНСКИЙ  23/07 05:05  23/07 05:47            -1  ОБЛУЧЬЕ - ИЗВЕСТ...  200200102276\n",
      " 220211256147          ДУБИНИНСКИЙ            УССУРИЙСК  23/07 05:47  23/07 05:59            -1  ОБЛУЧЬЕ - ИЗВЕСТ...  200200102276\n",
      " 220211256147            УССУРИЙСК          БАРАНОВСКИЙ  23/07 05:59  23/07 06:22            -1  ОБЛУЧЬЕ - ИЗВЕСТ...  200200102276\n",
      " 220211256147          БАРАНОВСКИЙ         НАДЕЖДИНСКАЯ  23/07 06:22  23/07 07:08            -1  ОБЛУЧЬЕ - ИЗВЕСТ...  200200102276\n",
      " 220211256147         НАДЕЖДИНСКАЯ       АМУРСКИЙ ЗАЛИВ  23/07 07:08  23/07 07:16            -1  ОБЛУЧЬЕ - ИЗВЕСТ...  200200102276\n",
      " 220211256147       АМУРСКИЙ ЗАЛИВ              УГЛОВАЯ  23/07 07:16  23/07 07:25            -1  ОБЛУЧЬЕ - ИЗВЕСТ...  200200102276\n",
      " 220211256147              УГЛОВАЯ   АРТЕМ-ПРИМОРСКИЙ I  23/07 07:25  23/07 07:48            -1  ОБЛУЧЬЕ - ИЗВЕСТ...  200200102276\n",
      " 220211256147   АРТЕМ-ПРИМОРСКИЙ I  АРТЕМ-ПРИМОРСКИЙ...  23/07 07:48  23/07 07:59            -1  ОБЛУЧЬЕ - ИЗВЕСТ...  200200102276\n",
      " 220211256147  АРТЕМ-ПРИМОРСКИЙ...              ШКОТОВО  23/07 07:59  23/07 08:33            -1  ОБЛУЧЬЕ - ИЗВЕСТ...  200200102276\n",
      " 220211256147              ШКОТОВО          СМОЛЯНИНОВО  23/07 08:33  23/07 08:55            -1  ОБЛУЧЬЕ - ИЗВЕСТ...  200200102276\n",
      " 220211256147          СМОЛЯНИНОВО           НОВОНЕЖИНО  23/07 08:55  23/07 09:35            -1  ОБЛУЧЬЕ - ИЗВЕСТ...  200200102276\n",
      " 220211256147           НОВОНЕЖИНО           АНИСИМОВКА  23/07 09:35  23/07 09:54            -1  ОБЛУЧЬЕ - ИЗВЕСТ...  200200102276\n",
      " 220211256147           АНИСИМОВКА      КРАСНОАРМЕЙСКИЙ  23/07 09:54  23/07 10:59            -1  ОБЛУЧЬЕ - ИЗВЕСТ...  200200102276\n",
      " 220211256147      КРАСНОАРМЕЙСКИЙ           ПАРТИЗАНСК  23/07 10:59  23/07 11:20            -1  ОБЛУЧЬЕ - ИЗВЕСТ...  200200102276\n",
      " 220211256147           ПАРТИЗАНСК              ЛОЗОВЫЙ  23/07 11:20  23/07 11:34            -1  ОБЛУЧЬЕ - ИЗВЕСТ...  200200102276\n",
      " 220211256147              ЛОЗОВЫЙ            КУЗНЕЦОВО  23/07 11:34  23/07 11:46            -1  ОБЛУЧЬЕ - ИЗВЕСТ...  200200102276\n",
      " 220211256147            КУЗНЕЦОВО              НАХОДКА  23/07 11:46  23/07 11:58            -1  ОБЛУЧЬЕ - ИЗВЕСТ...  200200102276\n",
      " 220211256147              НАХОДКА           ХМЫЛОВСКИЙ  23/07 15:00  23/07 15:41            -1  ОБЛУЧЬЕ - ИЗВЕСТ...  200200102276\n",
      " 220211256147           ХМЫЛОВСКИЙ    НАХОДКА-ВОСТОЧНАЯ  23/07 15:41  23/07 15:46            -1  ОБЛУЧЬЕ - ИЗВЕСТ...  200200102276\n"
     ]
    }
   ],
   "source": [
    "# bad change stations\n",
    "bad_changes = st_change[st_change.st_to_name.isin(priority_change_stations) == False].sort_values('train', ascending=False)\n",
    "if not bad_changes.empty:\n",
    "    add_header('Всего %d поездов, у которых смена локомотива, скорее всего, происходит на неправильных станциях' \n",
    "               % bad_changes.train.sum())\n",
    "    add_header('Примеры таких станций:')\n",
    "    add_line(bad_changes.head(10))\n",
    "    add_line('')\n",
    "    cols = ['train', 'st_from_name', 'st_to_name', 'loco', 'next_loco', 'stop_time_h']\n",
    "    st = bad_changes.iloc[0].st_to_name\n",
    "    add_line('Поезда, у которых смена локомотива происходит на станции %s:' % st)\n",
    "    add_line(loco_change[loco_change.st_to_name == st][cols])\n",
    "\n",
    "    train_plan['loco_info'] = train_plan.train.map(loco_info.drop_duplicates('train').set_index('train').loco)\n",
    "    cols = ['train', 'st_from_name', 'st_to_name', 'time_start_f', 'time_end_f', 'loco', 'loc_name', 'loco_info']\n",
    "    add_line('')\n",
    "    add_header('Полный план по одному из таких поездов:')\n",
    "    with pd.option_context('display.max_colwidth', 20):\n",
    "        add_line(train_plan[train_plan.train == loco_change[loco_change.st_to_name == st].iloc[0].train][cols])\n",
    "else:\n",
    "    add_header('Нет поездов, у которых смена локомотивов происходит на неправильной станции')"
   ]
  },
  {
   "cell_type": "markdown",
   "metadata": {},
   "source": [
    "#### Ищем поезда со слишком долгой стоянкой для смены локомотивов"
   ]
  },
  {
   "cell_type": "code",
   "execution_count": 273,
   "metadata": {
    "collapsed": false
   },
   "outputs": [
    {
     "name": "stdout",
     "output_type": "stream",
     "text": [
      "Всего 69 случаев смены локомотива со стоянкой поезда более суток. Примеры:\n",
      "        train st_from_name   st_to_name          loco     next_loco  stop_time_h\n",
      " 220209971984      ТАРСКАЯ    КАРЫМСКАЯ  200200047841  200200101699        95.43\n",
      " 200020753480       ЧИТА I    КАРЫМСКАЯ  200200055482  200200054031        81.91\n",
      " 200021310440     ТИМОНИНО     АЧИНСК I            -1  200200093693        80.48\n",
      " 220209472208      ШКОТОВО  СМОЛЯНИНОВО  200200049835  200200038450        77.97\n",
      " 220212010037      ТАРСКАЯ    КАРЫМСКАЯ  200200082868  200200056099        72.75\n",
      " 200020719616       ЧИТА I    КАРЫМСКАЯ  200200079007  200200043501        68.89\n",
      " 220211811196        ТАГУЛ       ТАЙШЕТ  210200118110  200200104865        67.48\n",
      " 220209558301       ЧИТА I    КАРЫМСКАЯ  200200076110  200200106368        63.10\n",
      " 220209917330       ЧИТА I    КАРЫМСКАЯ  200200083196  200200103162        63.09\n",
      " 220209586643       ЧИТА I    КАРЫМСКАЯ  200200069945  200200072093        61.47\n"
     ]
    }
   ],
   "source": [
    "cols = ['train', 'st_from_name', 'st_to_name', 'loco', 'next_loco', 'stop_time_h']\n",
    "long_change = loco_change[(loco_change.st_to_name.isin(priority_change_stations)) \n",
    "            & (loco_change.stop_time_h > 24)].sort_values('stop_time_h', ascending=False)\n",
    "add_header('Всего %d случаев смены локомотива со стоянкой поезда более суток. Примеры:' % long_change.train.count())\n",
    "add_line(long_change[cols].head(10))"
   ]
  },
  {
   "cell_type": "markdown",
   "metadata": {},
   "source": [
    "<a id='stop_team'></a>\n",
    "### Смена бригад [ToC](#toc)"
   ]
  },
  {
   "cell_type": "code",
   "execution_count": 274,
   "metadata": {
    "collapsed": true
   },
   "outputs": [],
   "source": [
    "add_header('Анализ смен бригад на маршрутах поездов', h=2, p=False)"
   ]
  },
  {
   "cell_type": "code",
   "execution_count": 275,
   "metadata": {
    "collapsed": true
   },
   "outputs": [],
   "source": [
    "team_change = train_plan[(train_plan.loco_end == False) & (train_plan.team_end == True)\n",
    "                        & (train_plan.time_end < current_time + hor)]"
   ]
  },
  {
   "cell_type": "code",
   "execution_count": 276,
   "metadata": {
    "collapsed": false
   },
   "outputs": [
    {
     "name": "stdout",
     "output_type": "stream",
     "text": [
      "Средние времена на смену бригады:\n",
      "- по всем сменам: 3.23 ч.\n",
      "- по всем сменам с ненулевым временем: 3.23 ч.\n"
     ]
    }
   ],
   "source": [
    "add_header('Средние времена на смену бригады:')\n",
    "add_line('- по всем сменам: %.2f ч.' % team_change.stop_time_h.mean())\n",
    "add_line('- по всем сменам с ненулевым временем: %.2f ч.' % team_change[team_change.stop_time_h > 0].stop_time_h.mean())"
   ]
  },
  {
   "cell_type": "markdown",
   "metadata": {},
   "source": [
    "#### Ищем поезда, у которых смена бригады происходит за нулевое время"
   ]
  },
  {
   "cell_type": "code",
   "execution_count": 277,
   "metadata": {
    "collapsed": false
   },
   "outputs": [
    {
     "name": "stdout",
     "output_type": "stream",
     "text": [
      "Всего 2 поездов, для которых смена бригад происходит за нулевое время. Примеры:\n",
      "           train    st_from_name           st_to_name          team     next_team  stop_time_h\n",
      " 999912387012012  ГИДРОСТРОИТЕЛЬ  КОРШУНИХА-АНГАРСКАЯ  200200246079            -1            0\n",
      "  88880013434491        МОРГУДОН            БАГУЛЬНАЯ  777700007545  777700007684            0\n",
      "\n",
      "Полный план по одному из таких поездов:\n",
      "           train         st_from_name           st_to_name time_start_f   time_end_f          loco          team\n",
      " 999912387012012               ТАЙШЕТ                ТОРЕЯ  22/07 18:55  22/07 22:54  200200094259  200200233628\n",
      " 999912387012012                ТОРЕЯ                ТУРМА  22/07 22:54  22/07 23:53  200200094259  200200233628\n",
      " 999912387012012                ТУРМА            ВИХОРЕВКА  22/07 23:53  23/07 00:16  200200094259  200200233628\n",
      " 999912387012012            ВИХОРЕВКА             МОРГУДОН  23/07 01:00  23/07 01:12  200200094259  200200246079\n",
      " 999912387012012             МОРГУДОН          ГАЛАЧИНСКИЙ  23/07 01:12  23/07 01:33  200200094259  200200246079\n",
      " 999912387012012          ГАЛАЧИНСКИЙ     ПАДУНСКИЕ ПОРОГИ  23/07 01:33  23/07 01:58  200200094259  200200246079\n",
      " 999912387012012     ПАДУНСКИЕ ПОРОГИ       ГИДРОСТРОИТЕЛЬ  23/07 01:58  23/07 02:13  200200094259  200200246079\n",
      " 999912387012012       ГИДРОСТРОИТЕЛЬ  КОРШУНИХА-АНГАРСКАЯ  23/07 02:13  23/07 06:12  200200094259  200200246079\n",
      " 999912387012012  КОРШУНИХА-АНГАРСКАЯ            ХРЕБТОВАЯ  23/07 06:12  23/07 06:41  200200094259            -1\n",
      " 999912387012012            ХРЕБТОВАЯ                 ЛЕНА  23/07 06:41  23/07 09:06  200200094259            -1\n",
      " 999912387012012                 ЛЕНА               ЯКУРИМ  23/07 15:20  23/07 15:29  200200094259            -1\n",
      " 999912387012012               ЯКУРИМ       ЛЕНА-ВОСТОЧНАЯ  23/07 15:29  23/07 15:40  200200094259            -1\n",
      " 999912387012012       ЛЕНА-ВОСТОЧНАЯ            ЧУДНИЧНЫЙ  23/07 15:40  23/07 16:32  200200094259            -1\n",
      " 999912387012012            ЧУДНИЧНЫЙ             ЗВЕЗДНАЯ  23/07 16:32  23/07 17:18  200200094259            -1\n",
      " 999912387012012             ЗВЕЗДНАЯ                  НИЯ  23/07 17:18  23/07 18:11  200200094259            -1\n",
      " 999912387012012                  НИЯ              ТАКОВКА  23/07 18:11  23/07 18:39  200200094259            -1\n",
      " 999912387012012              ТАКОВКА               НЕБЕЛЬ  23/07 18:39  23/07 19:19  200200094259            -1\n",
      " 999912387012012               НЕБЕЛЬ              КИРЕНГА  23/07 19:19  23/07 20:36  200200094259            -1\n",
      " 999912387012012              КИРЕНГА              КУНЕРМА  23/07 20:36  23/07 22:55  200200094259            -1\n",
      " 999912387012012              КУНЕРМА                ДАБАН  23/07 22:55  23/07 23:50  200200094259            -1\n",
      " 999912387012012                ДАБАН                  ТЫЯ  23/07 23:50  24/07 00:22  200200094259            -1\n",
      " 999912387012012                  ТЫЯ      СЕВЕРОБАЙКАЛЬСК  24/07 00:22  24/07 00:45  200200094259            -1\n"
     ]
    }
   ],
   "source": [
    "cols = ['train', 'st_from_name', 'st_to_name', 'team', 'next_team', 'stop_time_h']\n",
    "nill_stop_times = team_change[team_change.stop_time == 0]\n",
    "if not nill_stop_times.empty:\n",
    "    add_header('Всего %d поездов, для которых смена бригад происходит за нулевое время. Примеры:' \n",
    "               % nill_stop_times.train.count())\n",
    "    add_line(nill_stop_times[cols].head())\n",
    "    cols = ['train', 'st_from_name', 'st_to_name', 'time_start_f', 'time_end_f', 'loco', 'team']\n",
    "    add_line('')\n",
    "    add_header('Полный план по одному из таких поездов:')\n",
    "    for train in nill_stop_times.train.values[:1]:\n",
    "        add_line(train_plan[train_plan.train == train][cols])\n",
    "else:\n",
    "    add_header('Нет поездов, для которых смена бригад происходит за нулевое время')"
   ]
  },
  {
   "cell_type": "markdown",
   "metadata": {},
   "source": [
    "#### Ищем поезда со слишком долгой стоянкой для смены бригады"
   ]
  },
  {
   "cell_type": "code",
   "execution_count": 278,
   "metadata": {
    "collapsed": false
   },
   "outputs": [
    {
     "name": "stdout",
     "output_type": "stream",
     "text": [
      "Всего 439 случаев смены бригад со стоянкой поезда более 6 часов. Примеры:\n",
      "           train st_from_name st_to_name          team     next_team  stop_time_h\n",
      "  88880005284383  НОВЫЙ УРГАЛ  ФЕВРАЛЬСК  777700007893  777700009055        47.24\n",
      "  88880005284391  НОВЫЙ УРГАЛ  ФЕВРАЛЬСК  200200226302  777700009058        37.86\n",
      "  88880005284395  НОВЫЙ УРГАЛ  ФЕВРАЛЬСК  200200235064  777700009059        28.47\n",
      "    200207130501       АМАЗАР     МОГОЧА  220208691715  777700009014        24.06\n",
      "    200020650262       АМАЗАР     МОГОЧА  220201178210  777700009013        22.31\n",
      "    200021294536       АМАЗАР     МОГОЧА  200200042994  777700009004        20.22\n",
      "  88880005284381  НОВЫЙ УРГАЛ  ФЕВРАЛЬСК  200200207409  777700009056        19.09\n",
      "    200020873830       АМАЗАР     МОГОЧА  200200260522  777700009010        18.14\n",
      " 999912418032003       АМАЗАР     МОГОЧА  200200148854  777700008800        16.85\n",
      " 999912418032001       АМАЗАР     МОГОЧА  200200090194  777700008787        16.76\n",
      "\n",
      "Полный план по одному из таких поездов:\n",
      "          train st_from_name   st_to_name time_start_f   time_end_f          loco          team\n",
      " 88880005284383  НОВЫЙ УРГАЛ    ФЕВРАЛЬСК  22/07 22:30  23/07 07:07  200200090066  777700007893\n",
      " 88880005284383    ФЕВРАЛЬСК  ВЕРХНЕЗЕЙСК  25/07 06:21  25/07 15:34  200200090066  777700009055\n",
      " 88880005284383  ВЕРХНЕЗЕЙСК       ДИПКУН  25/07 15:34  25/07 20:54  200200090066            -1\n",
      " 88880005284383       ДИПКУН    БЕСТУЖЕВО  25/07 20:54  26/07 00:28  200200090066            -1\n",
      " 88880005284383    БЕСТУЖЕВО      ШАХТАУМ  26/07 00:28  26/07 00:45  200200090066            -1\n",
      " 88880005284383      ШАХТАУМ        ТЫНДА  26/07 00:45  26/07 01:06  200200090066            -1\n",
      "\n",
      "Станции, на которых чаще всего происходили длительные стоянки на смену бригад:\n",
      "МОГОЧА                      128\n",
      "ХИЛОК                        50\n",
      "ЧЕРНЫШЕВСК-ЗАБАЙКАЛЬСКИЙ     49\n",
      "УЛАН-УДЭ                     30\n",
      "УРУША                        29\n",
      "НИЖНЕУДИНСК                  18\n",
      "ЧИТА I                       15\n",
      "ИЛАНСКАЯ                     14\n",
      "МАГДАГАЧИ                    13\n",
      "ЗИМА                         11\n"
     ]
    }
   ],
   "source": [
    "cols = ['train', 'st_from_name', 'st_to_name', 'team', 'next_team', 'stop_time_h']\n",
    "long_change = team_change[team_change.stop_time_h > 6].sort_values('stop_time', ascending=False)[cols]\n",
    "if not long_change.empty:\n",
    "    add_header('Всего %d случаев смены бригад со стоянкой поезда более 6 часов. Примеры:' % long_change.train.count())\n",
    "    add_line(long_change[cols].head(10))\n",
    "    add_line('')\n",
    "    cols = ['train', 'st_from_name', 'st_to_name', 'time_start_f', 'time_end_f', 'loco', 'team']\n",
    "    add_header('Полный план по одному из таких поездов:')\n",
    "    for train in long_change.train.values[:1]:\n",
    "        add_line(train_plan[train_plan.train == train][cols])\n",
    "    add_line('')\n",
    "    add_header('Станции, на которых чаще всего происходили длительные стоянки на смену бригад:')\n",
    "    add_line(long_change.st_to_name.value_counts().head(10))\n",
    "else:\n",
    "    add_header('Нет поездов, у которых смена бригады происходит более 6 часов')"
   ]
  },
  {
   "cell_type": "markdown",
   "metadata": {},
   "source": [
    "<a id='dep_interval'></a>\n",
    "## Поиск поездов с интервалом между отправлениями меньше допустимого [ToC](#toc)"
   ]
  },
  {
   "cell_type": "code",
   "execution_count": 279,
   "metadata": {
    "collapsed": true
   },
   "outputs": [],
   "source": [
    "add_header('Поиск поездов с интервалом между отправлениями меньше допустимого', h=2, p=False)"
   ]
  },
  {
   "cell_type": "code",
   "execution_count": 280,
   "metadata": {
    "collapsed": true
   },
   "outputs": [],
   "source": [
    "# Параметры\n",
    "\n",
    "hor = 24 * 3600\n",
    "min_time_delta = 5 * 60 # 5 minutes"
   ]
  },
  {
   "cell_type": "code",
   "execution_count": 281,
   "metadata": {
    "collapsed": true
   },
   "outputs": [],
   "source": [
    "# Функция, которая возвращает датафрейм с коллизиями\n",
    "\n",
    "def check_time_collision(df):\n",
    "    df['link_end'] = (df.st_from != df.st_from.shift(-1)) | (df.st_to != df.st_to.shift(-1))\n",
    "    df['link_start'] = (df.st_from != df.st_from.shift(1)) | (df.st_to != df.st_to.shift(1))\n",
    "    df.loc[df.link_end == False, 'time_to_next'] = df.time_start.shift(-1) - df.time_start\n",
    "    df.loc[df.link_start == False, 'time_to_prev'] = df.time_start - df.time_start.shift(1)\n",
    "    collisions = df.loc[(df.time_to_next < min_time_delta) | (df.time_to_prev < min_time_delta)]\n",
    "    return collisions"
   ]
  },
  {
   "cell_type": "code",
   "execution_count": 282,
   "metadata": {
    "collapsed": false
   },
   "outputs": [
    {
     "name": "stdout",
     "output_type": "stream",
     "text": [
      "Время начала планирования: 22/07 07:30\n",
      "Количество коллизий (интервал между поездами меньше 5 минут):\n",
      "                            Тип Из всех поездов Из всех с подвязкой\n",
      "                     Все поезда             968                 845\n",
      "            Без учета резервных               6                   0\n",
      " Без учета резервных и фейковых               2                   0\n",
      "\n",
      "Реальные и фейковые поезда с интервалами меньше 5 минут (первые 20):\n",
      "           train          loco          team         st_from_name       st_to_name time_start_f   time_end_f\n",
      " 999912506012011  200200060887            -1         ВЫСОКОГОРНАЯ  БЛОКПОСТ 197 КМ  22/07 20:39  22/07 21:13\n",
      " 999912506012015  200200096655            -1         ВЫСОКОГОРНАЯ  БЛОКПОСТ 197 КМ  22/07 20:40  22/07 21:14\n",
      "    200020991562            -1            -1    ГРОДЕКОВО (КИТАЙ)   РАССЫПНАЯ ПАДЬ  22/07 07:30  22/07 08:10\n",
      "    200021015063            -1            -1    ГРОДЕКОВО (КИТАЙ)   РАССЫПНАЯ ПАДЬ  22/07 07:35  22/07 08:15\n",
      " 999912456022000  200200080853  200200107334  КОРШУНИХА-АНГАРСКАЯ        ХРЕБТОВАЯ  23/07 02:58  23/07 03:27\n",
      " 999928898012000  200200104844            -1  КОРШУНИХА-АНГАРСКАЯ        ХРЕБТОВАЯ  23/07 03:00  23/07 03:29\n"
     ]
    }
   ],
   "source": [
    "add_line('Время начала планирования: %s' % nice_time(current_time))\n",
    "cols = ['train', 'loco', 'team', 'st_from_name', 'st_to_name', 'time_start_f', 'time_end_f']\n",
    "train_plan['train_start'] = train_plan.train != train_plan.train.shift(1)\n",
    "train_plan.loc[train_plan.stop_time != -1, 'loco_start'] = (train_plan.loco != train_plan.loco.shift(1)) | \\\n",
    "                                                            (train_plan.train_start)\n",
    "train_plan.loc[train_plan.stop_time != -1, 'team_start'] = train_plan.team != train_plan.team.shift(1)\n",
    "mask = ((train_plan.loco_start == True) | (train_plan.team_start == True)) &\\\n",
    "        (train_plan.time_start < current_time + hor) & (train_plan.time_start >= current_time)\n",
    "assign_mask = (train_plan.loco != '-1') & (train_plan.team != '-1')\n",
    "cols_to_sort = ['st_from_name', 'st_to_name', 'time_start']\n",
    "start_times = train_plan.loc[mask].sort_values(cols_to_sort)\n",
    "start_times_no_res = train_plan.loc[mask & (train_plan.train_type.isin(['2', '9']))].sort_values(cols_to_sort)\n",
    "start_times_real = train_plan.loc[mask & (train_plan.train_type == '2')].sort_values(cols_to_sort)\n",
    "start_times_assign = train_plan.loc[mask & assign_mask].sort_values(cols_to_sort)\n",
    "start_times_assign_no_res = train_plan.loc[mask & assign_mask &\n",
    "                                           (train_plan.train_type.isin(['2', '9']))].sort_values(cols_to_sort)\n",
    "start_times_assign_real = train_plan.loc[mask & assign_mask & (train_plan.train_type == '2')].sort_values(cols_to_sort)\n",
    "\n",
    "all_coll = check_time_collision(start_times)\n",
    "no_res_coll = check_time_collision(start_times_no_res)\n",
    "real_coll = check_time_collision(start_times_real)\n",
    "all_assign_coll = check_time_collision(start_times_assign)\n",
    "no_res_assign_coll = check_time_collision(start_times_assign_no_res)\n",
    "real_assign_coll = check_time_collision(start_times_assign_real)\n",
    "train_n = len(start_times.train.drop_duplicates().index)\n",
    "res = pd.DataFrame([['Все поезда', 'Без учета резервных', 'Без учета резервных и фейковых'],                    \n",
    "                    [len(all_coll.index), len(no_res_coll.index), len(real_coll.index)],                    \n",
    "                    [len(all_assign_coll.index), len(no_res_assign_coll.index), len(real_assign_coll.index)]]).T\n",
    "res.columns = ['Тип', 'Из всех поездов', 'Из всех с подвязкой']\n",
    "add_header('Количество коллизий (интервал между поездами меньше %d минут):' % (min_time_delta / 60))\n",
    "add_line(res)\n",
    "add_header('\\nРеальные и фейковые поезда с интервалами меньше %d минут (первые 20):' % (min_time_delta / 60))\n",
    "add_line(no_res_coll[cols].head(20))"
   ]
  },
  {
   "cell_type": "markdown",
   "metadata": {},
   "source": [
    "<a id='ssp'></a>\n",
    "## Сравнение количества запланированных поездов с данными АС ССП [ToC](#toc)"
   ]
  },
  {
   "cell_type": "code",
   "execution_count": 283,
   "metadata": {
    "collapsed": true
   },
   "outputs": [],
   "source": [
    "add_header('Сравнение количества запланированных поездов с данными АС ССП', h=2, p=False)"
   ]
  },
  {
   "cell_type": "code",
   "execution_count": 284,
   "metadata": {
    "collapsed": true
   },
   "outputs": [],
   "source": [
    "def count_volumes(full_plan, df_ssp):\n",
    "    hor = 24 * 3600\n",
    "    df_ssp.dep_dir.fillna(0, inplace=True)    \n",
    "    df_ssp.loc[df_ssp.dep_dir == 0, 'depart'] = 0\n",
    "    df_ssp.dropna(subset=['depart'], inplace=True)\n",
    "    \n",
    "    ssp_st_froms = df_ssp.loc[df_ssp.dep_dir == 0].station\n",
    "    mask_time = (full_plan.time_start >= current_time) & (full_plan.time_start < current_time + hor)\n",
    "    mask_type = full_plan.train_type.isin(['2', '9'])\n",
    "    trains = full_plan.loc[mask_time & mask_type & full_plan.st_from_name.isin(ssp_st_froms)].\\\n",
    "                        groupby(['st_from_name', 'st_to_name']).train.count()\n",
    "    df_ssp.loc[df_ssp.dep_dir == 0, 'st_from_name'] = df_ssp.station\n",
    "    df_ssp = df_ssp.fillna(method='ffill')\n",
    "    df_ssp['st_to_name'] = df_ssp.station\n",
    "    replace_st_from_names = df_ssp.loc[df_ssp.dep_dir == 0, ['st_from_name', 'st_show_name']].drop_duplicates()\n",
    "    df_ssp['st_from_show'] = df_ssp.st_from_name.map(replace_st_from_names.set_index('st_from_name').st_show_name)\n",
    "    df_ssp['st_to_show'] = df_ssp.st_show_name    \n",
    "    return trains.to_frame().join(df_ssp[['st_from_name', 'st_to_name', 'depart', 'st_from_show', 'st_to_show', 'dep_dir']].\\\n",
    "                                  set_index(['st_from_name', 'st_to_name'])).reset_index()"
   ]
  },
  {
   "cell_type": "code",
   "execution_count": 285,
   "metadata": {
    "collapsed": true
   },
   "outputs": [],
   "source": [
    "def show_barplot(df, road_name):\n",
    "    df['delta'] = df.train - df.depart\n",
    "    df['percent'] = np.round(100 * df.delta / df.depart, 2)\n",
    "    df['st_from_short'] = df.st_from_show.apply(lambda x: str(x)[:25])\n",
    "    df['st_to_short'] = df.st_to_show.apply(lambda x: str(x)[:25])\n",
    "    df['link'] = df.st_from_short + ' - ' + df.st_to_short \n",
    "    \n",
    "    print('%s железная дорога:' % road_name)\n",
    "    print('Среднее и медиана абсолютного отклонения: %.2f, %.2f' % (df.delta.mean(), df.delta.median()))\n",
    "    print('Среднее и медиана относительного отклонения (в процентах): %.2f%%, %.2f%%' % (df.percent.mean(), df.percent.median()))\n",
    "\n",
    "    b = df.sort_values('delta', ascending=False)\n",
    "    sns.set_style('whitegrid')\n",
    "    sns.set_context('poster', font_scale=0.7, rc={'axes.labelsize': 18})\n",
    "    c = sns.barplot(y='link', x='delta', data=df.sort_values('delta', ascending=False), palette='coolwarm')\n",
    "    xlabel = '%s ж/д: отклонение от данных АС ССП по отправлению поездов на сутки' % road_name\n",
    "    c.set(xlabel=xlabel, ylabel='')"
   ]
  },
  {
   "cell_type": "code",
   "execution_count": 286,
   "metadata": {
    "collapsed": false
   },
   "outputs": [],
   "source": [
    "VOL_PERCENT = 0.9\n",
    "\n",
    "def show_two_barplots(df, road_name, save=False, btype='less'):\n",
    "    df['st_from_short'] = df.st_from_show.apply(lambda x: str(x)[:25])\n",
    "    df['st_to_short'] = df.st_to_show.apply(lambda x: str(x)[:25])\n",
    "    df['link'] = df.st_from_short + ' - ' + df.st_to_short     \n",
    "    sns.set_style('whitegrid')    \n",
    "    sns.set_context('poster', font_scale=0.7, rc={'axes.titlesize':18, 'axes.labelsize':14})\n",
    "    fig, ax = plt.subplots(nrows=2, ncols=1, figsize=(14,20))    \n",
    "    df.depart.fillna(0, inplace=True)    \n",
    "    df['bottom'] = df.apply(lambda row: row.depart if row.train <= row.depart else row.train, axis=1)\n",
    "    df['top'] = df.apply(lambda row: row.train if row.train <= row.depart else row.depart, axis=1)     \n",
    "    \n",
    "    sns.set_color_codes('pastel')\n",
    "    sns.barplot(x='bottom', y='link', data=df[df.train <= VOL_PERCENT * df.depart].sort_values('bottom'), \n",
    "                label='Поезда из АС ССП', color=\"b\", orient='h', ax=ax[0])\n",
    "    sns.barplot(x='bottom', y='link', data=df[df.train * VOL_PERCENT > df.depart].sort_values('bottom'), \n",
    "                label='Поезда в результатах', color=\"r\", orient='h', ax=ax[1])\n",
    "    sns.set_color_codes('muted')\n",
    "    sns.barplot(x='top', y='link', data=df[df.train <= VOL_PERCENT * df.depart].sort_values('bottom'), \n",
    "                label='Поезда в результатах', color=\"b\", orient='h', ax=ax[0])\n",
    "    sns.barplot(x='top', y='link', data=df[df.train * VOL_PERCENT > df.depart].sort_values('bottom'), \n",
    "                label='Поезда из АС ССП', color=\"r\", orient='h', ax=ax[1])    \n",
    "    ax[0].legend(ncol=1, loc=\"upper right\", frameon=True)    \n",
    "    ax[1].legend(ncol=1, loc=\"upper right\", frameon=True)\n",
    "    ax[0].set(xlabel='', title='Нехватка запланированных поездов')\n",
    "    ax[1].set(xlabel='', title='Избыток запланированных поездов')\n",
    "    \n",
    "    sns.despine()\n",
    "    if save:\n",
    "        filename = road_name + '.png'\n",
    "        fig.savefig(REPORT_FOLDER + filename, bbox_inches='tight')\n",
    "        add_image(filename, scale=1.0)"
   ]
  },
  {
   "cell_type": "code",
   "execution_count": 287,
   "metadata": {
    "collapsed": false
   },
   "outputs": [],
   "source": [
    "def func(x):\n",
    "    return np.round(np.sqrt(np.mean(x ** 2)), 2)\n",
    "\n",
    "def print_ssp_stats(ssp, road_name):\n",
    "    df = count_volumes(train_plan, ssp)\n",
    "    df.rename(columns={'train':'planned', 'depart':'ssp'}, inplace=True)\n",
    "    df.dropna(subset=['ssp'], inplace=True)\n",
    "    df['delta'] = df.planned - df.ssp    \n",
    "    cols = ['st_from_name', 'st_to_show', 'dep_dir', 'planned', 'ssp', 'delta']    \n",
    "    add_header('Дорога %s' % road_name, h=3)\n",
    "    add_header('Сравнение запланированного и \"нормативного\" количества поездов:')\n",
    "    add_line(df.sort_values(['dep_dir', 'delta'])[cols])    \n",
    "    add_header('\\nСреднее отклонение по количеству поездов по направлениям:')\n",
    "    add_line(df.groupby('dep_dir').delta.mean().apply(lambda x: np.round(x, 2)))\n",
    "    add_header('\\nСреднеквадратичное отклонение по направлениям:')\n",
    "    add_line(df.groupby('dep_dir').delta.agg(func))"
   ]
  },
  {
   "cell_type": "code",
   "execution_count": 288,
   "metadata": {
    "collapsed": false
   },
   "outputs": [],
   "source": [
    "krs = pd.read_csv(FOLDER + 'mandatory/SSP_KRS.csv', sep=';')\n",
    "vsib = pd.read_csv(FOLDER + 'mandatory/SSP_VSIB.csv', sep=';')\n",
    "zab = pd.read_csv(FOLDER + 'mandatory/SSP_ZAB.csv', sep=';')\n",
    "dvs = pd.read_csv(FOLDER + 'mandatory/SSP_DVS.csv', sep=';')"
   ]
  },
  {
   "cell_type": "code",
   "execution_count": 289,
   "metadata": {
    "collapsed": false
   },
   "outputs": [
    {
     "name": "stdout",
     "output_type": "stream",
     "text": [
      "Дорога КРАС\n",
      "Сравнение запланированного и \"нормативного\" количества поездов:\n",
      "         st_from_name           st_to_show dep_dir  planned  ssp  delta\n",
      "             АЧИНСК I              БОГОТОЛ     неч       30   54    -24\n",
      "              БОГОТОЛ             МАРИИНСК     неч       39   54    -15\n",
      " КРАСНОЯРСК-ВОСТОЧНЫЙ  КРАСНОЯРСК-СЕВЕРНЫЙ     неч       39   54    -15\n",
      "             ИЛАНСКАЯ                  УЯР     неч       38   52    -14\n",
      "             САЯНСКАЯ          КОШУРНИКОВО     неч       15   24     -9\n",
      "               АБАКАН               ТАШЕБА     неч       19   26     -7\n",
      "             МАРИИНСК              БОГОТОЛ     чет       21   62    -41\n",
      "              БОГОТОЛ             АЧИНСК I     чет       31   62    -31\n",
      "             АЧИНСК I       ЧЕРНОРЕЧЕНСКАЯ     чет       37   62    -25\n",
      "               АБАКАН            МИНУСИНСК     чет       10   26    -16\n",
      " КРАСНОЯРСК-ВОСТОЧНЫЙ                  УЯР     чет       50   66    -16\n",
      "             ИЛАНСКАЯ                 ЮРТЫ     чет       54   66    -12\n",
      "             САЯНСКАЯ               ТАЙШЕТ     чет       19   22     -3\n",
      "             АЧИНСК I          ЛЕСОСИБИРСК     чет        3    4     -1\n",
      "             САЯНСКАЯ                  УЯР     чет        8    8      0\n",
      "\n",
      "Среднее отклонение по количеству поездов по направлениям:\n",
      "dep_dir\n",
      "неч   -14.00\n",
      "чет   -16.11\n",
      "\n",
      "Среднеквадратичное отклонение по направлениям:\n",
      "dep_dir\n",
      "неч    15.01\n",
      "чет    20.90\n"
     ]
    }
   ],
   "source": [
    "print_ssp_stats(krs, 'КРАС')"
   ]
  },
  {
   "cell_type": "code",
   "execution_count": 290,
   "metadata": {
    "collapsed": false
   },
   "outputs": [
    {
     "name": "stdout",
     "output_type": "stream",
     "text": [
      "Дорога ВСИБ\n",
      "Сравнение запланированного и \"нормативного\" количества поездов:\n",
      "          st_from_name            st_to_show dep_dir  planned  ssp  delta\n",
      " ИРКУТСК-СОРТИРОВОЧНЫЙ                  ЗИМА     неч       48   70    -22\n",
      "                  ЗИМА           НИЖНЕУДИНСК     неч       54   70    -16\n",
      "                ТАЙШЕТ                  ЮРТЫ     неч       38   54    -16\n",
      "             ВИХОРЕВКА                  ЧУНА     неч        9   18     -9\n",
      "                ТАЙШЕТ              САЯНСКАЯ     неч       13   22     -9\n",
      "           НИЖНЕУДИНСК                ТАЙШЕТ     неч       60   68     -8\n",
      "             ХРЕБТОВАЯ        ГИДРОСТРОИТЕЛЬ     неч        8   16     -8\n",
      "            СЛЮДЯНКА I  ИРКУТСК-СОРТИРОВОЧНЫ     неч       59   66     -7\n",
      "                  ЛЕНА               КИРЕНГА     неч        6   10     -4\n",
      "               ТАКСИМО            НОВЫЙ УОЯН     неч        6   10     -4\n",
      "            НОВЫЙ УОЯН       СЕВЕРОБАЙКАЛЬСК     неч        8   10     -2\n",
      "       СЕВЕРОБАЙКАЛЬСК               КИРЕНГА     неч        8   10     -2\n",
      "                НАУШКИ              УЛАН-УДЭ     неч        3    3      0\n",
      "            НОВАЯ ЧАРА               ТАКСИМО     неч        8    8      0\n",
      "            ЗАУДИНСКИЙ               МЫСОВАЯ     неч       66   62      4\n",
      "            ЗАУДИНСКИЙ      ПЕТРОВСКИЙ ЗАВОД     чет       47   84    -37\n",
      "            СЛЮДЯНКА I               МЫСОВАЯ     чет       50   86    -36\n",
      " ИРКУТСК-СОРТИРОВОЧНЫЙ            СЛЮДЯНКА I     чет       56   86    -30\n",
      "                  ЗИМА  ИРКУТСК-СОРТИРОВОЧНЫ     чет       63   78    -15\n",
      "                  ЛЕНА             КОРШУНИХА     чет        7   18    -11\n",
      "           НИЖНЕУДИНСК                  ЗИМА     чет       69   74     -5\n",
      "                ТАЙШЕТ            НЕВЕЛЬСКАЯ     чет       20   24     -4\n",
      "                ТАЙШЕТ           НИЖНЕУДИНСК     чет       71   74     -3\n",
      "       СЕВЕРОБАЙКАЛЬСК            НОВЫЙ УОЯН     чет       12   14     -2\n",
      "             ХРЕБТОВАЯ                ИГИРМА     чет        6    8     -2\n",
      "            НОВЫЙ УОЯН               ТАКСИМО     чет       13   14     -1\n",
      "               ТАКСИМО            НОВАЯ ЧАРА     чет       14   14      0\n",
      "             ВИХОРЕВКА        ГИДРОСТРОИТЕЛЬ     чет       24   22      2\n",
      "            НОВАЯ ЧАРА                  ХАНИ     чет       13   11      2\n",
      "\n",
      "Среднее отклонение по количеству поездов по направлениям:\n",
      "dep_dir\n",
      "неч    -6.87\n",
      "чет   -10.14\n",
      "\n",
      "Среднеквадратичное отклонение по направлениям:\n",
      "dep_dir\n",
      "неч     9.63\n",
      "чет    16.86\n"
     ]
    }
   ],
   "source": [
    "print_ssp_stats(vsib, 'ВСИБ')"
   ]
  },
  {
   "cell_type": "code",
   "execution_count": 291,
   "metadata": {
    "collapsed": false
   },
   "outputs": [
    {
     "name": "stdout",
     "output_type": "stream",
     "text": [
      "Дорога ЗАБ\n",
      "Сравнение запланированного и \"нормативного\" количества поездов:\n",
      "             st_from_name            st_to_show dep_dir  planned  ssp  delta\n",
      "                   АРХАРА             БЕЛОГОРСК     неч       43   80    -37\n",
      "                БЕЛОГОРСК           ШИМАНОВСКАЯ     неч       53   83    -30\n",
      "              ШИМАНОВСКАЯ             МАГДАГАЧИ     неч       59   85    -26\n",
      "                МАГДАГАЧИ           СКОВОРОДИНО     неч       60   84    -24\n",
      " ЧЕРНЫШЕВСК-ЗАБАЙКАЛЬСКИЙ        ШИЛКА-ТОВАРНАЯ     неч       47   70    -23\n",
      "                  ТАРСКАЯ                ЧИТА I     неч       53   75    -22\n",
      "                   ЧИТА I                 ХИЛОК     неч       52   74    -22\n",
      "           ШИЛКА-ТОВАРНАЯ             КАРЫМСКАЯ     неч       46   68    -22\n",
      "                    ХИЛОК      ПЕТРОВСКИЙ ЗАВОД     неч       56   70    -14\n",
      "                  ГОРЕЛЫЙ                 УРУША     неч       70   80    -10\n",
      "                   МОГОЧА  ЧЕРНЫШЕВСК-ЗАБАЙКАЛЬ     неч       65   70     -5\n",
      "                    БОРЗЯ             ОЛОВЯННАЯ     неч       11   13     -2\n",
      "              ЗАБАЙКАЛЬСК                 БОРЗЯ     неч       10   12     -2\n",
      "         ПЕТРОВСКИЙ ЗАВОД              УЛАН-УДЭ     неч       58   60     -2\n",
      "                ОЛОВЯННАЯ             КАРЫМСКАЯ     неч       13   14     -1\n",
      "                    УРУША                МОГОЧА     неч       71   70      1\n",
      " ЧЕРНЫШЕВСК-ЗАБАЙКАЛЬСКИЙ                МОГОЧА     чет       42   76    -34\n",
      "                  ТАРСКАЯ        ШИЛКА-ТОВАРНАЯ     чет       42   73    -31\n",
      "           ШИЛКА-ТОВАРНАЯ  ЧЕРНЫШЕВСК-ЗАБАЙКАЛЬ     чет       46   73    -27\n",
      "                МАГДАГАЧИ           ШИМАНОВСКАЯ     чет       71   93    -22\n",
      "         ПЕТРОВСКИЙ ЗАВОД                 ХИЛОК     чет       65   85    -20\n",
      "              ШИМАНОВСКАЯ             БЕЛОГОРСК     чет       74   92    -18\n",
      "                   МОГОЧА                 УРУША     чет       64   80    -16\n",
      "                    ХИЛОК                ЧИТА I     чет       69   85    -16\n",
      "                   АРХАРА               ОБЛУЧЬЕ     чет       71   85    -14\n",
      "                БЕЛОГОРСК                АРХАРА     чет       76   85     -9\n",
      "                    УРУША           СКОВОРОДИНО     чет       88   93     -5\n",
      "                   ЧИТА I             КАРЫМСКАЯ     чет       82   85     -3\n",
      "                  ГОРЕЛЫЙ             МАГДАГАЧИ     чет       93   95     -2\n",
      "                ОЛОВЯННАЯ                 БОРЗЯ     чет       10   12     -2\n",
      "                  ТАРСКАЯ             ОЛОВЯННАЯ     чет       11   12     -1\n",
      "                    БОРЗЯ           ЗАБАЙКАЛЬСК     чет       11   10      1\n",
      "\n",
      "Среднее отклонение по количеству поездов по направлениям:\n",
      "dep_dir\n",
      "неч   -15.06\n",
      "чет   -13.69\n",
      "\n",
      "Среднеквадратичное отклонение по направлениям:\n",
      "dep_dir\n",
      "неч    19.10\n",
      "чет    17.48\n"
     ]
    }
   ],
   "source": [
    "print_ssp_stats(zab, 'ЗАБ')"
   ]
  },
  {
   "cell_type": "code",
   "execution_count": 292,
   "metadata": {
    "collapsed": false
   },
   "outputs": [
    {
     "name": "stdout",
     "output_type": "stream",
     "text": [
      "Дорога ДВС\n",
      "Сравнение запланированного и \"нормативного\" количества поездов:\n",
      "                       st_from_name            st_to_show dep_dir  planned  ssp  delta\n",
      "                          УССУРИЙСК             СИБИРЦЕВО     неч       30   58    -28\n",
      "                             АРХАРА             БЕЛОГОРСК     неч       43   70    -27\n",
      "                          СИБИРЦЕВО        СПАССК-ДАЛЬНИЙ     неч       31   58    -27\n",
      "                        СМОЛЯНИНОВО               УГЛОВАЯ     неч       13   40    -27\n",
      "                             РУЖИНО              ГУБЕРОВО     неч       40   58    -18\n",
      "                       ХАБАРОВСК II               ОБЛУЧЬЕ     неч       44   58    -14\n",
      "                             ВАНИНО          ВЫСОКОГОРНАЯ     неч       10   22    -12\n",
      "                          ГРОДЕКОВО        ГРОДЕКОВО(КИТ)     неч        5   13     -8\n",
      "                              ТЫНДА                  ХАНИ     неч        1    9     -8\n",
      " КОМСОМОЛЬСК-НА-АМУРЕ-СОРТИРОВОЧНЫЙ             ПОСТЫШЕВО     неч        6   10     -4\n",
      "                      ВОЛОЧАЕВКА II               ОБЛУЧЬЕ     неч        5    7     -2\n",
      "                        НОВЫЙ УРГАЛ           ИЗВЕСТКОВАЯ     неч        1    3     -2\n",
      "                          СИБИРЦЕВО         НОВОКАЧАЛИНСК     неч        1    2     -1\n",
      "                              ТЫНДА                 ШТУРМ     неч       12   13     -1\n",
      " КОМСОМОЛЬСК-НА-АМУРЕ-СОРТИРОВОЧНЫЙ         ВОЛОЧАЕВКА II     неч       15   14      1\n",
      "                        НОВЫЙ УРГАЛ               ЭТЫРКЭН     неч        6    5      1\n",
      "                       ВЫСОКОГОРНАЯ     КОМСОМОЛЬСК-СОРТ.     неч       24   22      2\n",
      "                           ГВОЗДЕВО             УССУРИЙСК     неч        6    4      2\n",
      "                        ИЗВЕСТКОВАЯ               ОБЛУЧЬЕ     неч       43    1     42\n",
      "                          УССУРИЙСК              УГОЛЬНАЯ     чет        2   18    -16\n",
      " КОМСОМОЛЬСК-НА-АМУРЕ-СОРТИРОВОЧНЫЙ          ВЫСОКОГОРНАЯ     чет       14   24    -10\n",
      "                       ВЫСОКОГОРНАЯ                ВАНИНО     чет       16   24     -8\n",
      "                      ВОЛОЧАЕВКА II  КОМСОМОЛЬСК-СОРТИРОВ     чет       13   20     -7\n",
      "                          ГРОДЕКОВО             УССУРИЙСК     чет        1    6     -5\n",
      "                        ИЗВЕСТКОВАЯ           НОВЫЙ УРГАЛ     чет        1    3     -2\n",
      "                          СИБИРЦЕВО          НОВОЧУГУЕВКА     чет        2    2      0\n",
      "                        СМОЛЯНИНОВО            ПАРТИЗАНСК     чет       40   40      0\n",
      "                           ГВОЗДЕВО                 ХАСАН     чет        3    1      2\n",
      "                      ВОЛОЧАЕВКА II          ХАБАРОВСК II     чет        7    4      3\n",
      "                       ХАБАРОВСК II                 БИКИН     чет       66   60      6\n",
      "                          СИБИРЦЕВО             УССУРИЙСК     чет       72   58     14\n",
      "                             РУЖИНО        СПАССК-ДАЛЬНИЙ     чет       73   58     15\n",
      "                          УССУРИЙСК               УГЛОВАЯ     чет       55   40     15\n",
      "                              ТЫНДА             ФЕВРАЛЬСК     чет       26   10     16\n",
      "                             АРХАРА               ОБЛУЧЬЕ     чет       71   25     46\n",
      "                        ИЗВЕСТКОВАЯ          ХАБАРОВСК II     чет       73    2     71\n",
      "\n",
      "Среднее отклонение по количеству поездов по направлениям:\n",
      "dep_dir\n",
      "неч   -6.89\n",
      "чет    8.24\n",
      "\n",
      "Среднеквадратичное отклонение по направлениям:\n",
      "dep_dir\n",
      "неч    17.11\n",
      "чет    22.50\n"
     ]
    }
   ],
   "source": [
    "print_ssp_stats(dvs, 'ДВС')"
   ]
  },
  {
   "cell_type": "code",
   "execution_count": 293,
   "metadata": {
    "collapsed": false
   },
   "outputs": [],
   "source": [
    "# Пример построения barplot\n",
    "\n",
    "#krs = pd.read_csv(FOLDER + 'mandatory/SSP_KRS.csv', sep=';')\n",
    "#add_header('Красноярская дорога')\n",
    "#try:\n",
    "#    show_two_barplots(count_volumes(train_plan, krs), 'Красноярская', save=True, btype='less')\n",
    "#except:\n",
    "#    add_line('Красноярская дорога: ошибка в построении графика')"
   ]
  },
  {
   "cell_type": "markdown",
   "metadata": {},
   "source": [
    "<a id='info_plan_depart'></a>\n",
    "## Проверка соответствия первого участка в запланированном маршруте и исходного факта [ToC](#toc)"
   ]
  },
  {
   "cell_type": "code",
   "execution_count": 294,
   "metadata": {
    "collapsed": true
   },
   "outputs": [],
   "source": [
    "add_header('Проверка соответствия первого участка в запланированном маршруте и исходного факта', h=2, p=False)"
   ]
  },
  {
   "cell_type": "code",
   "execution_count": 295,
   "metadata": {
    "collapsed": false
   },
   "outputs": [
    {
     "name": "stdout",
     "output_type": "stream",
     "text": [
      "Поезда, у которых первый участок в маршруте не совпадает с исходным (всего 0, показаны первые 10):\n",
      "Empty DataFrame\n",
      "Columns: [train, st_from_name, st_to_name, time_start_f, st_from_name_info, st_to_name_info, oper_time_f]\n",
      "Index: []\n",
      "\n",
      "Поезда, у которых время отправления на первый участок в маршруте не совпадает с фактическим (всего 0, показаны первые 10):\n",
      "Empty DataFrame\n",
      "Columns: [train, st_from_name, st_to_name, time_start_f, st_from_name_info, st_to_name_info, oper_time_f]\n",
      "Index: []\n"
     ]
    }
   ],
   "source": [
    "cols = ['train', 'st_from_name', 'st_to_name', 'time_start_f', 'st_from_name_info', 'st_to_name_info', 'oper_time_f']\n",
    "td_plan = train_plan[(train_plan.st_from_info.isnull() == False) \n",
    "                     & (train_plan.st_from_info != '-1')].drop_duplicates('train')\n",
    "td_bad_track = td_plan[(td_plan.st_from != td_plan.st_from_info) | (td_plan.st_to != td_plan.st_to_info)]\n",
    "add_header('Поезда, у которых первый участок в маршруте не совпадает с исходным (всего %d, показаны первые 10):' \n",
    "          % td_bad_track.train.count())\n",
    "add_line(td_bad_track[cols])\n",
    "\n",
    "td_bad_time = td_plan[(td_plan.time_start != td_plan.oper_time)]\n",
    "add_header('\\nПоезда, у которых время отправления на первый участок в маршруте не совпадает с фактическим (всего %d, показаны первые 10):' \n",
    "          % td_bad_time.train.count())\n",
    "pd.set_option('display.max_colwidth', 19)\n",
    "add_line(td_bad_time.sort_values('oper_time')[cols].head(10))"
   ]
  },
  {
   "cell_type": "markdown",
   "metadata": {},
   "source": [
    "<a id='time_leaps'></a>\n",
    "## Проверка скачков по времени назад [ToC](#toc)"
   ]
  },
  {
   "cell_type": "code",
   "execution_count": 296,
   "metadata": {
    "collapsed": true
   },
   "outputs": [],
   "source": [
    "add_header('Проверка скачков по времени назад', h=2, p=False)"
   ]
  },
  {
   "cell_type": "code",
   "execution_count": 297,
   "metadata": {
    "collapsed": false
   },
   "outputs": [
    {
     "name": "stdout",
     "output_type": "stream",
     "text": [
      "Не найдено поездов со скачками по времени назад в плане\n"
     ]
    }
   ],
   "source": [
    "train_plan['next_time_start'] = train_plan.time_start.shift(-1)\n",
    "train_plan['next_time_start_f'] = train_plan.time_start_f.shift(-1)\n",
    "train_plan['train_end'] = train_plan.train != train_plan.train.shift(-1)\n",
    "cols = ['train', 'st_from_name', 'st_to_name', 'time_start_f', 'time_end_f', 'next_time_start_f']\n",
    "leaps = train_plan[(train_plan.train_end == False) & (train_plan.next_time_start < train_plan.time_end)][cols]\n",
    "if leaps.empty:\n",
    "    add_header('Не найдено поездов со скачками по времени назад в плане')\n",
    "else:\n",
    "    add_header('Всего %d поездов со скачками по времени назад в плане. Примеры:' % leaps.train.count())\n",
    "    add_line(leaps.head(10)[cols])"
   ]
  },
  {
   "cell_type": "markdown",
   "metadata": {},
   "source": [
    "<a id='irk_ssp'></a>"
   ]
  },
  {
   "cell_type": "markdown",
   "metadata": {},
   "source": [
    "## Сравнение количества передаваемых в планировщик реальных поездов с ССП [ToC](#toc)"
   ]
  },
  {
   "cell_type": "code",
   "execution_count": 298,
   "metadata": {
    "collapsed": true
   },
   "outputs": [],
   "source": [
    "# Направления для проверки\n",
    "\n",
    "test = [('ИРКУТСК-СОРТИРОВОЧНЫЙ', 'ГОНЧАРОВО'), ('ИРКУТСК-СОРТИРОВОЧНЫЙ', 'БАТАРЕЙНАЯ')]"
   ]
  },
  {
   "cell_type": "code",
   "execution_count": 299,
   "metadata": {
    "collapsed": true
   },
   "outputs": [],
   "source": [
    "add_header('Детальное сравнение количества поездов с данными ССП по станции %s' % test[0][0], h=2, p=False)"
   ]
  },
  {
   "cell_type": "code",
   "execution_count": 300,
   "metadata": {
    "collapsed": false
   },
   "outputs": [],
   "source": [
    "routes = pd.read_csv(FOLDER + 'routes.csv', dtype={'st_from':str, 'st_to':str, 'train':str})\n",
    "add_info(routes)\n",
    "routes['link_name'] = list(zip(routes.st_from_name, routes.st_to_name))\n",
    "def_tt = pd.read_csv(FOLDER + '/mandatory/travel_times_all_pairs.csv', sep=';').set_index(['st_from_name', 'st_to_name'])"
   ]
  },
  {
   "cell_type": "code",
   "execution_count": 301,
   "metadata": {
    "collapsed": false
   },
   "outputs": [
    {
     "name": "stdout",
     "output_type": "stream",
     "text": [
      "Всего 83 поездов, по которым ожидается проследование в направлении ИРКУТСК-СОРТИРОВОЧНЫЙ - ГОНЧАРОВО в первые сутки планирования\n"
     ]
    }
   ],
   "source": [
    "def get_arrive_time(row, station):\n",
    "    if (row.oper == 'depart') | (row.oper_time >= current_time):\n",
    "        start_time = row.oper_time\n",
    "    else:\n",
    "        start_time = current_time            \n",
    "    return start_time + row.tt + row.lag\n",
    "\n",
    "(test_st, test_st_dir) = test[0]\n",
    "train_info['st_loc_name'] = train_info.oper_location.map(st_names.name)\n",
    "train_info.st_loc_name.fillna(train_info.st_from_name,  inplace=True)\n",
    "train_info['tt'] = train_info.st_loc_name.apply(lambda x: def_tt.ix[x, test_st].tt)\n",
    "train_info['lag'] = np.round((train_info.tt / 6) * 1.5)\n",
    "train_info['arr_time'] = train_info[['oper', 'oper_time', 'tt', 'lag']]\\\n",
    "                                    .apply(lambda row: get_arrive_time(row, test_st), axis=1)\n",
    "train_info['arr_time_f'] = train_info.arr_time.apply(nice_time)\n",
    "train_info['plan_time'] = train_info.train.map(train_plan[train_plan.st_from_name == test_st].set_index('train').time_start)\n",
    "train_info['plan_time_f'] = train_info.plan_time.apply(nice_time)\n",
    "train_info['delta'] = train_info.plan_time - train_info.arr_time\n",
    "train_info['delta_h'] = np.round((train_info.delta / 3600), 2)\n",
    "\n",
    "train_plan['link_name'] = list(zip(train_plan.st_from_name, train_plan.st_to_name))\n",
    "\n",
    "dir_trains = train_info[(train_info.number >= 1000)\n",
    "                        & (train_info.train.isin(routes[routes.link_name == (test_st, test_st_dir)].train))]\n",
    "cols = ['train', 'number', 'oper', 'st_loc_name', 'tt', 'lag', 'oper_time_f', 'arr_time_f', 'plan_time_f', 'delta_h']\n",
    "dir_trains = dir_trains[dir_trains.arr_time < current_time + 24 * 3600].sort_values('arr_time')\n",
    "#a[cols]\n",
    "add_header('Всего %d поездов, по которым ожидается проследование в направлении %s - %s в первые сутки планирования'\n",
    "           % (dir_trains.train.count(), test_st, test_st_dir))"
   ]
  },
  {
   "cell_type": "code",
   "execution_count": 257,
   "metadata": {
    "collapsed": false
   },
   "outputs": [
    {
     "ename": "KeyError",
     "evalue": "\"['dt_start'] not in index\"",
     "output_type": "error",
     "traceback": [
      "\u001b[1;31m---------------------------------------------------------------------------\u001b[0m",
      "\u001b[1;31mKeyError\u001b[0m                                  Traceback (most recent call last)",
      "\u001b[1;32m<ipython-input-257-eb860a843d76>\u001b[0m in \u001b[0;36m<module>\u001b[1;34m()\u001b[0m\n\u001b[1;32m----> 1\u001b[1;33m \u001b[0mno_plan\u001b[0m \u001b[1;33m=\u001b[0m \u001b[0mdir_trains\u001b[0m\u001b[1;33m[\u001b[0m\u001b[0mdir_trains\u001b[0m\u001b[1;33m.\u001b[0m\u001b[0mplan_time\u001b[0m\u001b[1;33m.\u001b[0m\u001b[0misnull\u001b[0m\u001b[1;33m(\u001b[0m\u001b[1;33m)\u001b[0m\u001b[1;33m]\u001b[0m\u001b[1;33m[\u001b[0m\u001b[0mcols\u001b[0m\u001b[1;33m]\u001b[0m\u001b[1;33m\u001b[0m\u001b[0m\n\u001b[0m\u001b[0;32m      2\u001b[0m \u001b[0mpd\u001b[0m\u001b[1;33m.\u001b[0m\u001b[0mset_option\u001b[0m\u001b[1;33m(\u001b[0m\u001b[1;34m'display.max_colwidth'\u001b[0m\u001b[1;33m,\u001b[0m \u001b[1;36m40\u001b[0m\u001b[1;33m)\u001b[0m\u001b[1;33m\u001b[0m\u001b[0m\n\u001b[0;32m      3\u001b[0m \u001b[0madd_header\u001b[0m\u001b[1;33m(\u001b[0m\u001b[1;34m'Всего %d поездов на направлении %s - %s, которых вообще нет в плане'\u001b[0m \u001b[1;33m%\u001b[0m \u001b[1;33m(\u001b[0m\u001b[0mno_plan\u001b[0m\u001b[1;33m.\u001b[0m\u001b[0mtrain\u001b[0m\u001b[1;33m.\u001b[0m\u001b[0mcount\u001b[0m\u001b[1;33m(\u001b[0m\u001b[1;33m)\u001b[0m\u001b[1;33m,\u001b[0m \u001b[0mtest_st\u001b[0m\u001b[1;33m,\u001b[0m \u001b[0mtest_st_dir\u001b[0m\u001b[1;33m)\u001b[0m\u001b[1;33m)\u001b[0m\u001b[1;33m\u001b[0m\u001b[0m\n\u001b[0;32m      4\u001b[0m \u001b[0madd_line\u001b[0m\u001b[1;33m(\u001b[0m\u001b[0mno_plan\u001b[0m\u001b[1;33m)\u001b[0m\u001b[1;33m\u001b[0m\u001b[0m\n",
      "\u001b[1;32mC:\\Users\\oracle\\Anaconda3\\lib\\site-packages\\pandas\\core\\frame.py\u001b[0m in \u001b[0;36m__getitem__\u001b[1;34m(self, key)\u001b[0m\n\u001b[0;32m   1961\u001b[0m         \u001b[1;32mif\u001b[0m \u001b[0misinstance\u001b[0m\u001b[1;33m(\u001b[0m\u001b[0mkey\u001b[0m\u001b[1;33m,\u001b[0m \u001b[1;33m(\u001b[0m\u001b[0mSeries\u001b[0m\u001b[1;33m,\u001b[0m \u001b[0mnp\u001b[0m\u001b[1;33m.\u001b[0m\u001b[0mndarray\u001b[0m\u001b[1;33m,\u001b[0m \u001b[0mIndex\u001b[0m\u001b[1;33m,\u001b[0m \u001b[0mlist\u001b[0m\u001b[1;33m)\u001b[0m\u001b[1;33m)\u001b[0m\u001b[1;33m:\u001b[0m\u001b[1;33m\u001b[0m\u001b[0m\n\u001b[0;32m   1962\u001b[0m             \u001b[1;31m# either boolean or fancy integer index\u001b[0m\u001b[1;33m\u001b[0m\u001b[1;33m\u001b[0m\u001b[0m\n\u001b[1;32m-> 1963\u001b[1;33m             \u001b[1;32mreturn\u001b[0m \u001b[0mself\u001b[0m\u001b[1;33m.\u001b[0m\u001b[0m_getitem_array\u001b[0m\u001b[1;33m(\u001b[0m\u001b[0mkey\u001b[0m\u001b[1;33m)\u001b[0m\u001b[1;33m\u001b[0m\u001b[0m\n\u001b[0m\u001b[0;32m   1964\u001b[0m         \u001b[1;32melif\u001b[0m \u001b[0misinstance\u001b[0m\u001b[1;33m(\u001b[0m\u001b[0mkey\u001b[0m\u001b[1;33m,\u001b[0m \u001b[0mDataFrame\u001b[0m\u001b[1;33m)\u001b[0m\u001b[1;33m:\u001b[0m\u001b[1;33m\u001b[0m\u001b[0m\n\u001b[0;32m   1965\u001b[0m             \u001b[1;32mreturn\u001b[0m \u001b[0mself\u001b[0m\u001b[1;33m.\u001b[0m\u001b[0m_getitem_frame\u001b[0m\u001b[1;33m(\u001b[0m\u001b[0mkey\u001b[0m\u001b[1;33m)\u001b[0m\u001b[1;33m\u001b[0m\u001b[0m\n",
      "\u001b[1;32mC:\\Users\\oracle\\Anaconda3\\lib\\site-packages\\pandas\\core\\frame.py\u001b[0m in \u001b[0;36m_getitem_array\u001b[1;34m(self, key)\u001b[0m\n\u001b[0;32m   2005\u001b[0m             \u001b[1;32mreturn\u001b[0m \u001b[0mself\u001b[0m\u001b[1;33m.\u001b[0m\u001b[0mtake\u001b[0m\u001b[1;33m(\u001b[0m\u001b[0mindexer\u001b[0m\u001b[1;33m,\u001b[0m \u001b[0maxis\u001b[0m\u001b[1;33m=\u001b[0m\u001b[1;36m0\u001b[0m\u001b[1;33m,\u001b[0m \u001b[0mconvert\u001b[0m\u001b[1;33m=\u001b[0m\u001b[1;32mFalse\u001b[0m\u001b[1;33m)\u001b[0m\u001b[1;33m\u001b[0m\u001b[0m\n\u001b[0;32m   2006\u001b[0m         \u001b[1;32melse\u001b[0m\u001b[1;33m:\u001b[0m\u001b[1;33m\u001b[0m\u001b[0m\n\u001b[1;32m-> 2007\u001b[1;33m             \u001b[0mindexer\u001b[0m \u001b[1;33m=\u001b[0m \u001b[0mself\u001b[0m\u001b[1;33m.\u001b[0m\u001b[0mix\u001b[0m\u001b[1;33m.\u001b[0m\u001b[0m_convert_to_indexer\u001b[0m\u001b[1;33m(\u001b[0m\u001b[0mkey\u001b[0m\u001b[1;33m,\u001b[0m \u001b[0maxis\u001b[0m\u001b[1;33m=\u001b[0m\u001b[1;36m1\u001b[0m\u001b[1;33m)\u001b[0m\u001b[1;33m\u001b[0m\u001b[0m\n\u001b[0m\u001b[0;32m   2008\u001b[0m             \u001b[1;32mreturn\u001b[0m \u001b[0mself\u001b[0m\u001b[1;33m.\u001b[0m\u001b[0mtake\u001b[0m\u001b[1;33m(\u001b[0m\u001b[0mindexer\u001b[0m\u001b[1;33m,\u001b[0m \u001b[0maxis\u001b[0m\u001b[1;33m=\u001b[0m\u001b[1;36m1\u001b[0m\u001b[1;33m,\u001b[0m \u001b[0mconvert\u001b[0m\u001b[1;33m=\u001b[0m\u001b[1;32mTrue\u001b[0m\u001b[1;33m)\u001b[0m\u001b[1;33m\u001b[0m\u001b[0m\n\u001b[0;32m   2009\u001b[0m \u001b[1;33m\u001b[0m\u001b[0m\n",
      "\u001b[1;32mC:\\Users\\oracle\\Anaconda3\\lib\\site-packages\\pandas\\core\\indexing.py\u001b[0m in \u001b[0;36m_convert_to_indexer\u001b[1;34m(self, obj, axis, is_setter)\u001b[0m\n\u001b[0;32m   1148\u001b[0m                 \u001b[0mmask\u001b[0m \u001b[1;33m=\u001b[0m \u001b[0mcheck\u001b[0m \u001b[1;33m==\u001b[0m \u001b[1;33m-\u001b[0m\u001b[1;36m1\u001b[0m\u001b[1;33m\u001b[0m\u001b[0m\n\u001b[0;32m   1149\u001b[0m                 \u001b[1;32mif\u001b[0m \u001b[0mmask\u001b[0m\u001b[1;33m.\u001b[0m\u001b[0many\u001b[0m\u001b[1;33m(\u001b[0m\u001b[1;33m)\u001b[0m\u001b[1;33m:\u001b[0m\u001b[1;33m\u001b[0m\u001b[0m\n\u001b[1;32m-> 1150\u001b[1;33m                     \u001b[1;32mraise\u001b[0m \u001b[0mKeyError\u001b[0m\u001b[1;33m(\u001b[0m\u001b[1;34m'%s not in index'\u001b[0m \u001b[1;33m%\u001b[0m \u001b[0mobjarr\u001b[0m\u001b[1;33m[\u001b[0m\u001b[0mmask\u001b[0m\u001b[1;33m]\u001b[0m\u001b[1;33m)\u001b[0m\u001b[1;33m\u001b[0m\u001b[0m\n\u001b[0m\u001b[0;32m   1151\u001b[0m \u001b[1;33m\u001b[0m\u001b[0m\n\u001b[0;32m   1152\u001b[0m                 \u001b[1;32mreturn\u001b[0m \u001b[0m_values_from_object\u001b[0m\u001b[1;33m(\u001b[0m\u001b[0mindexer\u001b[0m\u001b[1;33m)\u001b[0m\u001b[1;33m\u001b[0m\u001b[0m\n",
      "\u001b[1;31mKeyError\u001b[0m: \"['dt_start'] not in index\""
     ]
    }
   ],
   "source": [
    "no_plan = dir_trains[dir_trains.plan_time.isnull()][cols]\n",
    "pd.set_option('display.max_colwidth', 40)\n",
    "add_header('Всего %d поездов на направлении %s - %s, которых вообще нет в плане' % (no_plan.train.count(), test_st, test_st_dir))\n",
    "add_line(no_plan)"
   ]
  },
  {
   "cell_type": "code",
   "execution_count": 247,
   "metadata": {
    "collapsed": false
   },
   "outputs": [
    {
     "name": "stdout",
     "output_type": "stream",
     "text": [
      "Всего 45 поездов (54.22%), по которым запланировано проследование в направлении ИРКУТСК-СОРТИРОВОЧНЫЙ - ГОНЧАРОВО в первые сутки\n"
     ]
    }
   ],
   "source": [
    "plan_day = dir_trains[dir_trains.plan_time < current_time + 24 * 3600][cols]\n",
    "add_header('Всего %d поездов (%.2f%%), по которым запланировано проследование в направлении %s - %s в первые сутки'\n",
    "          % (plan_day.train.count(), 100 * plan_day.train.count() / dir_trains.train.count(), test_st, test_st_dir))"
   ]
  },
  {
   "cell_type": "code",
   "execution_count": 248,
   "metadata": {
    "collapsed": false
   },
   "outputs": [
    {
     "name": "stdout",
     "output_type": "stream",
     "text": [
      "Всего 42 поездов (50.60%), у которых запланированное время проследования на участке ИРКУТСК-СОРТИРОВОЧНЫЙ - ГОНЧАРОВО сильно сдвинуто вперед\n",
      "        train  number    oper         st_loc_name     tt    lag  oper_time_f   arr_time_f  plan_time_f  delta_h\n",
      " 220211844214    2118  arrive                ЗИМА  15404   3851  22/07 07:21  22/07 12:51  25/07 19:18    78.45\n",
      " 200020742911    2506  arrive  КРАСНОЯРСК-ВОСТ...  66830  16708  22/07 04:52  23/07 06:42  25/07 19:10    60.47\n",
      " 200020807298    2708  depart           ЩЕТИНКИНО  70734  17684  22/07 06:10  23/07 06:43  25/07 06:37    47.89\n",
      " 200020528913    2502  arrive  КРАСНОЯРСК-ВОСТ...  66830  16708  22/07 05:26  23/07 06:42  24/07 18:40    35.95\n",
      " 200020608895    2210  arrive         НИЖНЕУДИНСК  31588   7897  22/07 06:15  22/07 18:28  23/07 21:25    26.94\n",
      " 200020650486    2030  arrive         НИЖНЕУДИНСК  31588   7897  22/07 06:46  22/07 18:28  23/07 19:42    25.23\n",
      " 220211991613    2874  arrive             ПЕРЕВОЗ  16125   4031  22/07 00:40  22/07 13:06  23/07 09:05    19.97\n",
      " 200020728039    2074  arrive                 УЯР  59838  14960  22/07 05:19  23/07 04:17  23/07 19:52    15.58\n",
      " 200020736842    2706  depart           ЩЕТИНКИНО  70734  17684  22/07 05:59  23/07 06:32  23/07 20:16    13.74\n",
      " 220209873968    2656  arrive               ТАГУЛ  42426  10606  22/07 07:09  22/07 22:14  23/07 11:21    13.12\n",
      " 200020713316    1518  arrive            ИЛАНСКАЯ  50864  12716  22/07 06:39  23/07 01:10  23/07 12:35    11.41\n",
      " 200020608867    2030  arrive  ИРКУТСК-СОРТИРО...      0      0  22/07 06:12  22/07 07:30  22/07 18:15    10.74\n",
      " 200020338021    2610  depart            САЯНСКАЯ  59334  14834  22/07 02:59  22/07 23:35  23/07 09:51    10.28\n",
      " 200021300557    2898   ready  ИРКУТСК-СОРТИРО...      0      0  22/07 02:45  22/07 07:30  22/07 17:45    10.24\n",
      " 200020728127    2660  depart            САЯНСКАЯ  59334  14834  22/07 04:27  23/07 01:03  23/07 11:11    10.15\n",
      " 200020580524    2654  arrive               ТАГУЛ  42426  10606  22/07 06:55  22/07 22:14  23/07 08:10     9.92\n",
      " 200020779596    8402  depart              ТАЙШЕТ  41760  10440  22/07 01:13  22/07 15:43  23/07 01:35     9.87\n",
      " 200020769894    1600  depart            САЯНСКАЯ  59334  14834  22/07 03:46  23/07 00:22  23/07 10:11     9.82\n",
      " 200020852594    1616  depart           ИРБЕЙСКАЯ  56373  14093  22/07 06:46  23/07 02:20  23/07 11:51     9.52\n",
      " 220211632624    2702  depart           ЩЕТИНКИНО  70734  17684  22/07 02:55  23/07 03:28  23/07 12:41     9.22\n",
      " 220209885534    2614  depart            САЯНСКАЯ  59334  14834  22/07 05:54  23/07 02:30  23/07 11:36     9.11\n",
      " 200020852838    1588  depart            САЯНСКАЯ  59334  14834  22/07 06:31  23/07 03:07  23/07 12:01     8.91\n",
      " 200021344602    3517   ready             КИЛЬЧУГ  60307  15077  22/07 05:45  23/07 04:27  23/07 13:10     8.72\n",
      " 200020901671    2902  arrive              ТАЙШЕТ  41760  10440  21/07 17:46  22/07 22:00  23/07 06:26     8.43\n",
      " 200020481682    2040  depart              ТАЙШЕТ  41760  10440  22/07 05:32  22/07 20:02  23/07 04:25     8.38\n",
      " 200020728069    2646  arrive              ТАЙШЕТ  41760  10440  22/07 02:17  22/07 22:00  23/07 05:41     7.68\n",
      " 200020354199    2126  depart              ТАЙШЕТ  41760  10440  22/07 06:09  22/07 20:39  23/07 04:15     7.60\n",
      " 200020633173    2902  arrive  КРАСНОЯРСК-ВОСТ...  66830  16708  22/07 02:28  23/07 06:42  23/07 14:12     7.49\n",
      " 200020666646    1594  arrive         НИЖНЕУДИНСК  31588   7897  22/07 07:24  22/07 18:28  23/07 01:48     7.33\n",
      " 200020852440    1478  depart           ЩЕТИНКИНО  70734  17684  22/07 04:42  23/07 05:15  23/07 12:12     6.95\n",
      " 200021310448    2898   ready  ИРКУТСК-СОРТИРО...      0      0  22/07 03:37  22/07 07:30  22/07 14:25     6.91\n",
      " 200020512370    2926  depart                ЮРТЫ  43387  10847  22/07 07:24  22/07 22:27  23/07 05:11     6.73\n",
      " 200020770164    1564  arrive  КРАСНОЯРСК-ВОСТ...  66830  16708  22/07 07:13  23/07 06:42  23/07 13:15     6.55\n",
      " 220209249338    2884  arrive                 УЯР  59838  14960  22/07 06:17  23/07 04:17  23/07 10:50     6.55\n",
      " 200020807554    2532  depart               БУГАЧ  68526  17132  22/07 06:48  23/07 06:35  23/07 13:05     6.50\n",
      " 220209596548    2076  depart                 УЯР  59838  14960  22/07 07:23  23/07 04:09  23/07 10:30     6.34\n",
      " 200020666818    2680  depart      ЧЕРНОРЕЧЕНСКАЯ  78852  19713  22/07 03:19  23/07 06:41  23/07 12:51     6.16\n",
      " 220211435136    9504  depart              ТАЙШЕТ  41760  10440  22/07 05:57  22/07 20:27  23/07 02:23     5.94\n",
      " 200020685521    9534  depart                 УЯР  59838  14960  22/07 05:00  23/07 01:46  23/07 06:51     5.09\n",
      " 220211797844    2022  depart                 УЯР  59838  14960  22/07 05:09  23/07 01:55  23/07 07:00     5.09\n",
      " 200020580412    2866  arrive            ИЛАНСКАЯ  50864  12716  22/07 06:12  23/07 01:10  23/07 05:56     4.77\n",
      " 200021316761    2002   ready  ИРКУТСК-СОРТИРО...      0      0  22/07 04:05  22/07 07:30  22/07 11:15     3.74\n"
     ]
    }
   ],
   "source": [
    "# sns.set(context='notebook', style='whitegrid')\n",
    "# sns.set_color_codes('dark')\n",
    "# plt.figure(figsize=(10, 5))\n",
    "# sns.kdeplot(dir_trains[dir_trains.train.isin(plan_day.train) == False].dropna(subset=['delta']).delta / 3600, shade=True)\n",
    "\n",
    "delta_lim = 3 * 3600\n",
    "late_trains = dir_trains[dir_trains.delta > delta_lim]\n",
    "late_trains.sort_values('delta', ascending=False)[cols]\n",
    "add_header('Всего %d поездов (%.2f%%), у которых запланированное время проследования на участке %s - %s сильно сдвинуто вперед' \n",
    "           % (late_trains.train.count(), 100 * late_trains.train.count() / dir_trains.train.count(), test_st, test_st_dir))\n",
    "add_line(late_trains.sort_values('delta', ascending=False)[cols])"
   ]
  },
  {
   "cell_type": "code",
   "execution_count": 249,
   "metadata": {
    "collapsed": false,
    "scrolled": true
   },
   "outputs": [
    {
     "name": "stdout",
     "output_type": "stream",
     "text": [
      "Пример плана по одному из поездов, формированием НЕ на станции ИРКУТСК-СОРТИРОВОЧНЫЙ:\n",
      "        train    oper  oper_time_f    st_from_name      st_to_name time_start_f   time_end_f          loco team\n",
      " 220211844214  arrive  22/07 07:21            ЗИМА          ЗАЛАРИ  25/07 14:52  25/07 15:52  200200092864   -1\n",
      " 220211844214  arrive  22/07 07:21          ЗАЛАРИ       ЧЕРЕМХОВО  25/07 15:52  25/07 17:10  200200092864   -1\n",
      " 220211844214  arrive  22/07 07:21       ЧЕРЕМХОВО      КАСЬЯНОВКА  25/07 17:10  25/07 17:27  200200092864   -1\n",
      " 220211844214  arrive  22/07 07:21      КАСЬЯНОВКА          МАЛЬТА  25/07 17:27  25/07 18:07  200200092864   -1\n",
      " 220211844214  arrive  22/07 07:21          МАЛЬТА           КИТОЙ  25/07 18:07  25/07 18:41  200200092864   -1\n",
      " 220211844214  arrive  22/07 07:21           КИТОЙ         АНГАРСК  25/07 18:41  25/07 18:47  200200092864   -1\n",
      " 220211844214  arrive  22/07 07:21         АНГАРСК       СУХОВСКАЯ  25/07 18:47  25/07 18:54  200200092864   -1\n",
      " 220211844214  arrive  22/07 07:21       СУХОВСКАЯ           МЕГЕТ  25/07 18:54  25/07 19:08  200200092864   -1\n",
      " 220211844214  arrive  22/07 07:21           МЕГЕТ      БАТАРЕЙНАЯ  25/07 19:08  25/07 19:16  200200092864   -1\n",
      " 220211844214  arrive  22/07 07:21      БАТАРЕЙНАЯ  ИРКУТСК-СОР...  25/07 19:16  25/07 19:18  200200092864   -1\n",
      " 220211844214  arrive  22/07 07:21  ИРКУТСК-СОР...       ГОНЧАРОВО  25/07 19:18  25/07 19:42  200200092864   -1\n",
      " 220211844214  arrive  22/07 07:21       ГОНЧАРОВО     БОЛЬШОЙ ЛУГ  25/07 19:42  25/07 20:26  200200092864   -1\n",
      " 220211844214  arrive  22/07 07:21     БОЛЬШОЙ ЛУГ   АНДРИАНОВСКАЯ  25/07 20:26  25/07 21:28  200200092864   -1\n",
      " 220211844214  arrive  22/07 07:21   АНДРИАНОВСКАЯ       АНГАСОЛКА  25/07 21:28  25/07 21:42  200200092864   -1\n",
      " 220211844214  arrive  22/07 07:21       АНГАСОЛКА     СЛЮДЯНКА II  25/07 21:42  25/07 22:07  200200092864   -1\n",
      " 220211844214  arrive  22/07 07:21     СЛЮДЯНКА II      СЛЮДЯНКА I  25/07 22:07  25/07 22:13  200200092864   -1\n",
      " 220211844214  arrive  22/07 07:21      СЛЮДЯНКА I       БАЙКАЛЬСК  25/07 22:13  25/07 22:57  200200092864   -1\n",
      " 220211844214  arrive  22/07 07:21       БАЙКАЛЬСК         МЫСОВАЯ  25/07 22:57  26/07 01:04  200200092864   -1\n",
      " 220211844214  arrive  22/07 07:21         МЫСОВАЯ        УЛАН-УДЭ  26/07 01:04  26/07 03:43  200200092864   -1\n",
      " 220211844214  arrive  22/07 07:21        УЛАН-УДЭ      ЗАУДИНСКИЙ  26/07 03:43  26/07 03:51  200200092864   -1\n",
      " 220211844214  arrive  22/07 07:21      ЗАУДИНСКИЙ          ТАЛЬЦЫ  26/07 03:51  26/07 04:00  200200092864   -1\n",
      " 220211844214  arrive  22/07 07:21          ТАЛЬЦЫ         ЧЕЛУТАЙ  26/07 04:00  26/07 04:55  200200092864   -1\n",
      " 220211844214  arrive  22/07 07:21         ЧЕЛУТАЙ          ГОРХОН  26/07 04:55  26/07 05:59  200200092864   -1\n",
      " 220211844214  arrive  22/07 07:21          ГОРХОН            КИЖА  26/07 05:59  26/07 06:34  200200092864   -1\n",
      " 220211844214  arrive  22/07 07:21            КИЖА  ПЕТРОВСКИЙ ...  26/07 06:34  26/07 07:14  200200092864   -1\n",
      " 220211844214  arrive  22/07 07:21  ПЕТРОВСКИЙ ...        ЖИПХЕГЕН  26/07 07:14  26/07 09:34  200200092864   -1\n",
      " 220211844214  arrive  22/07 07:21        ЖИПХЕГЕН           ХИЛОК  26/07 09:34  26/07 10:08  200200092864   -1\n",
      " 220211844214  arrive  22/07 07:21           ХИЛОК          МОГЗОН  26/07 10:08  26/07 12:34  200200092864   -1\n",
      " 220211844214  arrive  22/07 07:21          МОГЗОН        ТУРГУТУЙ  26/07 12:34  26/07 13:38  200200092864   -1\n",
      " 220211844214  arrive  22/07 07:21        ТУРГУТУЙ          ЛЕСНАЯ  26/07 13:38  26/07 14:29  200200092864   -1\n",
      " 220211844214  arrive  22/07 07:21          ЛЕСНАЯ          КАДАЛА  26/07 14:29  26/07 15:39  200200092864   -1\n",
      " 220211844214  arrive  22/07 07:21          КАДАЛА          ЧИТА I  26/07 15:39  26/07 15:49  200200092864   -1\n",
      " 220211844214  arrive  22/07 07:21          ЧИТА I       КАРЫМСКАЯ  26/07 15:49  26/07 17:47  200200092864   -1\n",
      " 220211844214  arrive  22/07 07:21       КАРЫМСКАЯ         ТАРСКАЯ  26/07 17:47  26/07 18:02            -1   -1\n",
      " 220211844214  arrive  22/07 07:21         ТАРСКАЯ         УРУЛЬГА  26/07 18:02  26/07 18:36            -1   -1\n",
      " 220211844214  arrive  22/07 07:21         УРУЛЬГА       СОЛНЦЕВАЯ  26/07 18:36  26/07 19:56            -1   -1\n",
      " 220211844214  arrive  22/07 07:21       СОЛНЦЕВАЯ  ШИЛКА-ТОВАРНАЯ  26/07 19:56  26/07 20:48            -1   -1\n",
      " 220211844214  arrive  22/07 07:21  ШИЛКА-ТОВАРНАЯ  ШИЛКА-ПАССА...  26/07 20:48  26/07 20:57            -1   -1\n",
      " 220211844214  arrive  22/07 07:21  ШИЛКА-ПАССА...      ПРИИСКОВАЯ  26/07 20:57  26/07 21:43            -1   -1\n",
      " 220211844214  arrive  22/07 07:21      ПРИИСКОВАЯ          КУЭНГА  26/07 21:43  26/07 22:26            -1   -1\n",
      " 220211844214  arrive  22/07 07:21          КУЭНГА  ЧЕРНЫШЕВСК-...  26/07 22:26  26/07 23:38            -1   -1\n",
      " 220211844214  arrive  22/07 07:21  ЧЕРНЫШЕВСК-...         ЖИРЕКЕН  26/07 23:38  27/07 00:36            -1   -1\n",
      " 220211844214  arrive  22/07 07:21         ЖИРЕКЕН          ЗИЛОВО  27/07 00:36  27/07 01:26            -1   -1\n",
      " 220211844214  arrive  22/07 07:21          ЗИЛОВО     КСЕНЬЕВСКАЯ  27/07 01:26  27/07 03:54            -1   -1\n",
      " 220211844214  arrive  22/07 07:21     КСЕНЬЕВСКАЯ          МОГОЧА  27/07 03:54  27/07 05:58            -1   -1\n",
      " 220211844214  arrive  22/07 07:21          МОГОЧА          АМАЗАР  27/07 05:58  27/07 07:46            -1   -1\n",
      " 220211844214  arrive  22/07 07:21          АМАЗАР  ЕРОФЕЙ ПАВЛ...  27/07 07:46  27/07 10:12            -1   -1\n",
      " 220211844214  arrive  22/07 07:21  ЕРОФЕЙ ПАВЛ...           УРУША  27/07 10:12  27/07 12:18            -1   -1\n",
      " 220211844214  arrive  22/07 07:21           УРУША       БАМОВСКАЯ  27/07 12:18  27/07 13:41            -1   -1\n",
      " 220211844214  arrive  22/07 07:21       БАМОВСКАЯ         ГОРЕЛЫЙ  27/07 13:41  27/07 13:48            -1   -1\n",
      " 220211844214  arrive  22/07 07:21         ГОРЕЛЫЙ     СКОВОРОДИНО  27/07 13:48  27/07 14:20            -1   -1\n",
      " 220211844214  arrive  22/07 07:21     СКОВОРОДИНО   БОЛЬШОЙ НЕВЕР  27/07 14:20  27/07 14:38            -1   -1\n",
      " 220211844214  arrive  22/07 07:21   БОЛЬШОЙ НЕВЕР          ТАЛДАН  27/07 14:38  27/07 16:16            -1   -1\n",
      " 220211844214  arrive  22/07 07:21          ТАЛДАН       МАГДАГАЧИ  27/07 16:16  27/07 18:07            -1   -1\n",
      " 220211844214  arrive  22/07 07:21       МАГДАГАЧИ          УШУМУН  27/07 18:07  27/07 20:18            -1   -1\n",
      " 220211844214  arrive  22/07 07:21          УШУМУН     ШИМАНОВСКАЯ  27/07 20:18  27/07 22:45            -1   -1\n",
      " 220211844214  arrive  22/07 07:21     ШИМАНОВСКАЯ         ЛЕДЯНАЯ  27/07 22:45  27/07 23:25            -1   -1\n",
      " 220211844214  arrive  22/07 07:21         ЛЕДЯНАЯ       БЕЛОГОРСК  27/07 23:25  28/07 01:16            -1   -1\n",
      " 220211844214  arrive  22/07 07:21       БЕЛОГОРСК    БЕЛОГОРСК II  28/07 01:16  28/07 01:27            -1   -1\n",
      " 220211844214  arrive  22/07 07:21    БЕЛОГОРСК II         ЗАВИТАЯ  28/07 01:27  28/07 03:36            -1   -1\n",
      " 220211844214  arrive  22/07 07:21         ЗАВИТАЯ           БУРЕЯ  28/07 03:36  28/07 04:25            -1   -1\n",
      " 220211844214  arrive  22/07 07:21           БУРЕЯ          АРХАРА  28/07 04:25  28/07 05:31            -1   -1\n",
      " 220211844214  arrive  22/07 07:21          АРХАРА         ОБЛУЧЬЕ  28/07 05:31  28/07 07:41            -1   -1\n",
      " 220211844214  arrive  22/07 07:21         ОБЛУЧЬЕ     ИЗВЕСТКОВАЯ  28/07 07:41  28/07 08:33            -1   -1\n",
      " 220211844214  arrive  22/07 07:21     ИЗВЕСТКОВАЯ            БИРА  28/07 08:33  28/07 10:01            -1   -1\n",
      " 220211844214  arrive  22/07 07:21            БИРА             NaN  28/07 10:01  28/07 10:55            -1   -1\n",
      " 220211844214  arrive  22/07 07:21             NaN    ВОЛОЧАЕВКА I  28/07 10:55  28/07 12:56            -1   -1\n",
      " 220211844214  arrive  22/07 07:21    ВОЛОЧАЕВКА I      ТУНГУССКИЙ  28/07 12:56  28/07 13:02            -1   -1\n",
      " 220211844214  arrive  22/07 07:21      ТУНГУССКИЙ        ДЕЖНЕВКА  28/07 13:02  28/07 13:07            -1   -1\n",
      " 220211844214  arrive  22/07 07:21        ДЕЖНЕВКА     ПРИАМУРСКАЯ  28/07 13:07  28/07 13:28            -1   -1\n",
      " 220211844214  arrive  22/07 07:21     ПРИАМУРСКАЯ  ПОСТ-ПОКРОВ...  28/07 13:28  28/07 13:32            -1   -1\n",
      " 220211844214  arrive  22/07 07:21  ПОСТ-ПОКРОВ...            АМУР  28/07 13:32  28/07 13:43            -1   -1\n",
      " 220211844214  arrive  22/07 07:21            АМУР     ХАБАРОВСК I  28/07 13:43  28/07 14:03            -1   -1\n",
      " 220211844214  arrive  22/07 07:21     ХАБАРОВСК I    ХАБАРОВСК II  28/07 14:03  28/07 14:13            -1   -1\n",
      " 220211844214  arrive  22/07 07:21    ХАБАРОВСК II      КРУГЛИКОВО  28/07 14:13  28/07 14:59            -1   -1\n",
      " 220211844214  arrive  22/07 07:21      КРУГЛИКОВО       ВЯЗЕМСКАЯ  28/07 14:59  28/07 16:25            -1   -1\n",
      " 220211844214  arrive  22/07 07:21       ВЯЗЕМСКАЯ   РОЗЕНГАРТОВКА  28/07 16:25  28/07 17:32            -1   -1\n",
      " 220211844214  arrive  22/07 07:21   РОЗЕНГАРТОВКА           БИКИН  28/07 17:32  28/07 18:27            -1   -1\n",
      " 220211844214  arrive  22/07 07:21           БИКИН       ЛУЧЕГОРСК  28/07 18:27  28/07 19:19            -1   -1\n",
      " 220211844214  arrive  22/07 07:21       ЛУЧЕГОРСК        ГУБЕРОВО  28/07 19:19  28/07 20:01            -1   -1\n",
      " 220211844214  arrive  22/07 07:21        ГУБЕРОВО        ЭБЕРГАРД  28/07 20:01  28/07 20:23            -1   -1\n",
      " 220211844214  arrive  22/07 07:21        ЭБЕРГАРД  ДАЛЬНЕРЕЧЕН...  28/07 20:23  28/07 20:38            -1   -1\n",
      " 220211844214  arrive  22/07 07:21  ДАЛЬНЕРЕЧЕН...  БЛОКПОСТ 15...  28/07 20:38  28/07 20:44            -1   -1\n",
      " 220211844214  arrive  22/07 07:21  БЛОКПОСТ 15...          РУЖИНО  28/07 20:44  28/07 21:31            -1   -1\n",
      " 220211844214  arrive  22/07 07:21          РУЖИНО        ШМАКОВКА  28/07 21:31  28/07 22:15            -1   -1\n",
      " 220211844214  arrive  22/07 07:21        ШМАКОВКА  СПАССК-ДАЛЬНИЙ  28/07 22:15  28/07 23:23            -1   -1\n",
      " 220211844214  arrive  22/07 07:21  СПАССК-ДАЛЬНИЙ       СИБИРЦЕВО  28/07 23:23  29/07 00:35            -1   -1\n",
      " 220211844214  arrive  22/07 07:21       СИБИРЦЕВО     ДУБИНИНСКИЙ  29/07 00:35  29/07 01:19            -1   -1\n",
      " 220211844214  arrive  22/07 07:21     ДУБИНИНСКИЙ       УССУРИЙСК  29/07 01:19  29/07 01:31            -1   -1\n",
      " 220211844214  arrive  22/07 07:21       УССУРИЙСК     БАРАНОВСКИЙ  29/07 01:31  29/07 01:55            -1   -1\n",
      " 220211844214  arrive  22/07 07:21     БАРАНОВСКИЙ      ПРИМОРСКАЯ  29/07 01:55  29/07 04:16            -1   -1\n",
      " 220211844214  arrive  22/07 07:21      ПРИМОРСКАЯ       БАМБУРОВО  29/07 04:16  29/07 05:30            -1   -1\n",
      " 220211844214  arrive  22/07 07:21       БАМБУРОВО       СУХАНОВКА  29/07 05:30  29/07 07:31            -1   -1\n",
      " 220211844214  arrive  22/07 07:21       СУХАНОВКА        ГВОЗДЕВО  29/07 07:31  29/07 08:03            -1   -1\n",
      " 220211844214  arrive  22/07 07:21        ГВОЗДЕВО        МАХАЛИНО  29/07 08:03  29/07 08:49            -1   -1\n",
      " 220211844214  arrive  22/07 07:21        МАХАЛИНО           ХАСАН  29/07 08:49  29/07 09:44            -1   -1\n"
     ]
    }
   ],
   "source": [
    "plan_cols = ['train', 'oper', 'oper_time_f', 'st_from_name', 'st_to_name', 'time_start_f', 'time_end_f', 'loco', 'team']\n",
    "add_header('Пример плана по одному из поездов, формированием НЕ на станции %s:' % test_st)\n",
    "with pd.option_context('display.max_colwidth', 15):\n",
    "    add_line(train_plan[train_plan.train == late_trains[late_trains.st_loc_name != test_st]\\\n",
    "                        .sort_values('delta', ascending=False).iloc[0].train][plan_cols])"
   ]
  },
  {
   "cell_type": "code",
   "execution_count": 250,
   "metadata": {
    "collapsed": true
   },
   "outputs": [],
   "source": [
    "slot = pd.read_csv(FOLDER + 'slot.csv', dtype={'st_from':str, 'st_to':str})\n",
    "add_info(slot)\n",
    "slot['dt_start'] = slot.time_start.apply(datetime.datetime.fromtimestamp)"
   ]
  },
  {
   "cell_type": "code",
   "execution_count": 251,
   "metadata": {
    "collapsed": false
   },
   "outputs": [
    {
     "data": {
      "text/plain": [
       "dt_start\n",
       "2016-07-22 09:00:00    1\n",
       "2016-07-22 10:00:00    0\n",
       "2016-07-22 11:00:00    1\n",
       "2016-07-22 12:00:00    0\n",
       "2016-07-22 13:00:00    1\n",
       "2016-07-22 14:00:00    3\n",
       "2016-07-22 15:00:00    1\n",
       "2016-07-22 16:00:00    1\n",
       "2016-07-22 17:00:00    2\n",
       "2016-07-22 18:00:00    1\n",
       "2016-07-22 19:00:00    1\n",
       "2016-07-22 20:00:00    2\n",
       "2016-07-22 21:00:00    1\n",
       "2016-07-22 22:00:00    1\n",
       "2016-07-22 23:00:00    0\n",
       "2016-07-23 00:00:00    0\n",
       "2016-07-23 01:00:00    1\n",
       "2016-07-23 02:00:00    1\n",
       "Freq: H, Name: train, dtype: int64"
      ]
     },
     "execution_count": 251,
     "metadata": {},
     "output_type": "execute_result"
    }
   ],
   "source": [
    "test = [('ТАЙШЕТ', 'ТОРЕЯ')]\n",
    "(test_st, test_st_dir) = test[0]\n",
    "plan_cols = ['train', 'st_from_name', 'st_to_name', 'dt_start', 'loco', 'team']\n",
    "train_plan['dt_start'] = train_plan.time_start.apply(datetime.datetime.fromtimestamp)\n",
    "a = train_plan[(train_plan.st_from_name == test_st) \n",
    "           & (train_plan.st_to_name == test_st_dir) & (train_plan.train_type.isin(['2', '9']))\n",
    "           & (train_plan.time_start >= current_time) & (train_plan.time_end < current_time + 24 * 3600)]\\\n",
    "    .sort_values('dt_start')[plan_cols]\n",
    "dep_volume = a.set_index('dt_start').resample('1H', how='count').train\n",
    "dep_volume"
   ]
  },
  {
   "cell_type": "code",
   "execution_count": 252,
   "metadata": {
    "collapsed": false
   },
   "outputs": [],
   "source": [
    "slot_volume = slot[(slot.st_from_name == test_st) & (slot.st_to_name == test_st_dir)]\\\n",
    "    .set_index('dt_start').resample('1H', how='count').slot\n",
    "dep_slot = dep_volume.to_frame().join(slot_volume)"
   ]
  },
  {
   "cell_type": "code",
   "execution_count": 253,
   "metadata": {
    "collapsed": false
   },
   "outputs": [],
   "source": [
    "# slot_volume = slot[(slot.st_from_name == test_st) & (slot.st_to_name == test_st_dir)]\\\n",
    "#     .set_index('dt_start').resample('300s')\n",
    "# slot_volume.dropna(subset=['slot'], inplace=True)\n",
    "# slot_volume['slot'] = slot_volume.slot.apply(int)\n",
    "# slot_volume = slot_volume.reset_index().set_index('slot')\n",
    "# slot_volume"
   ]
  },
  {
   "cell_type": "code",
   "execution_count": 254,
   "metadata": {
    "collapsed": false
   },
   "outputs": [
    {
     "name": "stdout",
     "output_type": "stream",
     "text": [
      "                     train  slot\n",
      "dt_start                        \n",
      "2016-07-22 14:00:00      3     1\n"
     ]
    }
   ],
   "source": [
    "a = dep_slot[dep_slot.train > dep_slot.slot]\n",
    "print(a)"
   ]
  },
  {
   "cell_type": "code",
   "execution_count": 255,
   "metadata": {
    "collapsed": false
   },
   "outputs": [
    {
     "name": "stdout",
     "output_type": "stream",
     "text": [
      "2016-07-22 14:00:00 2016-07-22 15:00:00\n",
      "              train st_from_name st_to_name            dt_start\n",
      "18629  200020901539       ТАЙШЕТ      ТОРЕЯ 2016-07-22 14:00:23\n",
      "53683  200020932379       ТАЙШЕТ      ТОРЕЯ 2016-07-22 14:03:43\n",
      "22960  200021341030       ТАЙШЕТ      ТОРЕЯ 2016-07-22 14:55:00\n",
      "               slot            dt_start\n",
      "36462  200020303364 2016-07-22 14:56:00\n",
      "-------\n"
     ]
    }
   ],
   "source": [
    "pd.set_option('display.max_colwidth', 40)\n",
    "cols = ['train', 'st_from_name', 'st_to_name', 'dt_start']\n",
    "for dt in a.index:\n",
    "    dt_next = dt + datetime.timedelta(0, 3600, 0)\n",
    "    print(dt, dt_next)\n",
    "    print(train_plan[(train_plan.train_type.isin(['2', '9']))\n",
    "                    & (train_plan.st_from_name == test_st) & (train_plan.st_to_name == test_st_dir)\n",
    "                    & (train_plan.dt_start >= dt) & (train_plan.dt_start < dt_next)].sort_values('dt_start')[cols])\n",
    "    print(slot[(slot.st_from_name == test_st) & (slot.st_to_name == test_st_dir)\n",
    "                    & (slot.dt_start >= dt) & (slot.dt_start < dt_next)].sort_values('dt_start')[['slot', 'dt_start']])\n",
    "    print('-------')"
   ]
  },
  {
   "cell_type": "markdown",
   "metadata": {},
   "source": [
    "<a id='report'></a>\n",
    "### Экспорт в HTML [ToC](#toc)"
   ]
  },
  {
   "cell_type": "code",
   "execution_count": 256,
   "metadata": {
    "collapsed": false
   },
   "outputs": [
    {
     "name": "stdout",
     "output_type": "stream",
     "text": [
      "Отчет сформирован: report/train_report_20160722_093800.html\n"
     ]
    }
   ],
   "source": [
    "filename = REPORT_FOLDER + 'train_report_' + time.strftime('%Y%m%d_%H%M%S', time.localtime(time.time())) + '.html'\n",
    "create_report(filename)"
   ]
  }
 ],
 "metadata": {
  "kernelspec": {
   "display_name": "Python 3",
   "language": "python",
   "name": "python3"
  },
  "language_info": {
   "codemirror_mode": {
    "name": "ipython",
    "version": 3
   },
   "file_extension": ".py",
   "mimetype": "text/x-python",
   "name": "python",
   "nbconvert_exporter": "python",
   "pygments_lexer": "ipython3",
   "version": "3.5.1"
  }
 },
 "nbformat": 4,
 "nbformat_minor": 0
}
