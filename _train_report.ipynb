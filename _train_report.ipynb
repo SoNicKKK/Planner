{
 "cells": [
  {
   "cell_type": "markdown",
   "metadata": {},
   "source": [
    "<a id='toc'></a>\n",
    "# Отчет по запланированным поездам\n",
    "\n",
    "1. [Проверка планирования всех реальных поездов](#all_plan)\n",
    "1. [Проверка совпадения четности номеров поездов и направления движения](#oddity)\n",
    "2. [Анализ времен стоянок поездов на станциях смены локомотивов и бригад.](#stop_time)\n",
    "   1. [Смена локомотивов](#stop_loco)\n",
    "   2. [Смена бригад](#stop_team)\n",
    "4. [Выявление случаев \"близкой\" отправки поездов с одной станции (с интервалом меньше 5 минут)](#dep_interval)\n",
    "5. [Анализ отклонения запланированного на сутки количества поездов от данных АС ССП (данные средние по суткам).](#ssp)\n",
    "6. [Проверка соответствия первого участка в запланированном маршруте и исходного факта](#info_plan_depart)\n",
    "6. [Детальное сравнение количества поездов по Иркутску с данными ССП](#irk_ssp)\n",
    "7. [Планирование сдвоенных поездов и поездов, составляющих сдвоенные](#Планирование-сдвоенных-поездов-и-поездов,-составляющих-сдвоенные)\n",
    "6. [Создание отчета](#report)"
   ]
  },
  {
   "cell_type": "markdown",
   "metadata": {},
   "source": [
    "## Вспомогательные функции\n",
    "\n",
    "### Функции для экспорта в HTML\n",
    "\n",
    "Чтобы какой-то заголовок, текст, таблица или картинка попали в итоговый отчет, их надо туда добавить методами `add_header` (заголовок), `add_line` (текст или таблица), `add_image` (картинка). Примеры использования функций см. по коду. В `add_header` можно передать параметр `(int) h`, в котором указывается уровень заголовка (от 1 и далее, 1 - максимальный).\n",
    "\n",
    "Весь html-код отчета записывается в глобальную переменную report, в конце методом `create_report` происходит собственно создание html-файла."
   ]
  },
  {
   "cell_type": "code",
   "execution_count": 3,
   "metadata": {
    "collapsed": true
   },
   "outputs": [],
   "source": [
    "report = ''\n",
    "FOLDER = 'resources/'\n",
    "REPORT_FOLDER = 'report/'\n",
    "PRINT = True"
   ]
  },
  {
   "cell_type": "code",
   "execution_count": 4,
   "metadata": {
    "collapsed": true
   },
   "outputs": [],
   "source": [
    "def add_line(line, p=PRINT):    \n",
    "    global report        \n",
    "    if p:                \n",
    "        if type(line) == pd.core.frame.DataFrame:\n",
    "            print(line.to_string(index=False))\n",
    "        elif type(line) == pd.core.series.Series:\n",
    "            print(line.to_string())\n",
    "        else:\n",
    "            print(line)\n",
    "    if type(line) == pd.core.frame.DataFrame:        \n",
    "        report += ('%s<br>' % line.to_html(index=False))\n",
    "    elif type(line) == pd.core.series.Series:\n",
    "        report += ('%s<br>' % line.to_frame().reset_index().to_html(index=False))\n",
    "    else:        \n",
    "        report += ('%s<br>' % line)\n",
    "    \n",
    "def add_header(header, h=4, p=PRINT):\n",
    "    global report\n",
    "    report += ('<h%d>%s</h%d>' % (h, header, h))\n",
    "    if p:\n",
    "        print(header)\n",
    "\n",
    "def add_image(filename, scale=0.4):\n",
    "    global report\n",
    "    report += ('<img src=\"%s\" alt=\"%s\" height=\"%d%%\">' % (filename, filename, int(scale * 100)))\n",
    "\n",
    "def create_report(filename):\n",
    "    global report\n",
    "    report = report.replace('<table border=\"1\" class=\"dataframe\">','<table class=\"table table-striped\">')\n",
    "    html_string = '''\n",
    "        <html>\n",
    "            <head>\n",
    "                <link rel=\"stylesheet\" href=\"skeleton.css\">\n",
    "                <style>body{ margin:20 20; background:whitesmoke; }\n",
    "                table {table-layout : fixed}\n",
    "                </style>\n",
    "            </head>\n",
    "            <body>                \n",
    "                %s\n",
    "            </body>\n",
    "        </html>''' % (report)\n",
    "    f = open(filename,'w', encoding='utf-8-sig')\n",
    "    f.write(html_string)\n",
    "    f.close()\n",
    "    print('Отчет сформирован: %s' % filename)"
   ]
  },
  {
   "cell_type": "markdown",
   "metadata": {},
   "source": [
    "## Загрузка и подготовка данных"
   ]
  },
  {
   "cell_type": "code",
   "execution_count": 5,
   "metadata": {
    "collapsed": false
   },
   "outputs": [
    {
     "name": "stdout",
     "output_type": "stream",
     "text": [
      "Время составления отчета: 18/08 14:05\n",
      "Время запуска планировщика: 29/07 18:00 (1438182000)\n"
     ]
    }
   ],
   "source": [
    "import numpy as np\n",
    "import pandas as pd\n",
    "import time, datetime\n",
    "from ast import literal_eval\n",
    "import matplotlib.pyplot as plt\n",
    "import seaborn as sns\n",
    "%matplotlib inline\n",
    "\n",
    "pd.set_option('max_rows', 50)\n",
    "\n",
    "time_format = '%d/%m %H:%M'\n",
    "\n",
    "start_time = time.time()\n",
    "current_time = pd.read_csv(FOLDER + 'current_time.csv').current_time[0]\n",
    "twr          = pd.read_csv(FOLDER + 'team_work_region.csv', converters={'twr':str})\n",
    "links        = pd.read_csv(FOLDER + 'link.csv', converters={'st_from':str, 'st_to':str})\n",
    "stations     = pd.read_csv(FOLDER + 'station.csv', converters={'station':str})\n",
    "train_info   = pd.read_csv(FOLDER + 'train_info.csv', converters={'train': str, 'st_from':str, 'st_to':str, 'joint':str,\n",
    "                                                                 'start_st':str, 'end_st':str})\n",
    "train_plan   = pd.read_csv(FOLDER + 'slot_train.csv', converters={'train': str, 'st_from':str, 'st_to':str})\n",
    "loco_info    = pd.read_csv(FOLDER + 'loco_attributes.csv', converters={'train':str, 'loco':str, 'st_from':str, 'st_to':str})\n",
    "loco_plan    = pd.read_csv(FOLDER + 'slot_loco.csv', converters={'train':str, 'loco':str, 'st_from':str, 'st_to':str})\n",
    "team_info    = pd.read_csv(FOLDER + 'team_attributes.csv', converters={'team':str,'depot':str, 'oper_location':str, \\\n",
    "                                                     'st_from':str, 'st_to':str, 'loco':str, 'depot_st':str})\n",
    "team_plan    = pd.read_csv(FOLDER + 'slot_team.csv', converters={'team':str,'loco':str, 'st_from':str, 'st_to':str})\n",
    "loco_series  = pd.read_csv(FOLDER + 'loco_series.csv')\n",
    "task         = pd.read_csv(FOLDER + 'task.csv', converters={'st_from':str, 'st_to':str, 'st_next':str})\n",
    "\n",
    "st_names     = stations[['station', 'name', 'esr']].drop_duplicates().set_index('station')\n",
    "team_info.regions = team_info.regions.apply(literal_eval)\n",
    "\n",
    "print('Время составления отчета:', time.strftime(time_format, time.localtime()))\n",
    "print('Время запуска планировщика: %s (%d)' % (time.strftime(time_format, time.localtime(current_time)), current_time))"
   ]
  },
  {
   "cell_type": "code",
   "execution_count": 6,
   "metadata": {
    "collapsed": false
   },
   "outputs": [],
   "source": [
    "# Функция делает из таймстемпа строку времени в удобном формате, формат определяется в константе time_format.\n",
    "def nice_time(t):        \n",
    "    return time.strftime(time_format, time.localtime(t)) if (np.isnan(t) == False) & (t != -1) else None\n",
    "\n",
    "# Функция делает стандартные преобразования над стандартными колонками в таблицах:\n",
    "# - по id станции достается ее название (для полей st_from, st_to, oper_location).\n",
    "# - timestamp преобразуется в красивую строку с временем (для полей time_start, time_end, oper_time).\n",
    "def add_info(df):    \n",
    "    if 'st_from' in df.columns:\n",
    "        df['st_from_name'] = df.st_from.map(st_names.name)\n",
    "    if 'st_to' in df.columns:\n",
    "        df['st_to_name'] = df.st_to.map(st_names.name)\n",
    "    if 'time_start' in df.columns:\n",
    "        df['time_start_f'] = df.time_start.apply(lambda x: nice_time(x))\n",
    "    if 'time_end' in df.columns:\n",
    "        df['time_end_f'] = df.time_end.apply(lambda x: nice_time(x))\n",
    "    if 'oper_location' in df.columns:\n",
    "        df['oper_location_name'] = df.oper_location.map(st_names.name)    \n",
    "        df.oper_location_name.fillna(0, inplace=True)\n",
    "    if ('oper_location' in df.columns) & ('st_from' in df.columns) & ('st_to' in df.columns):        \n",
    "        df['loc_name'] = df.oper_location_name\n",
    "        df.loc[df.loc_name == 0, 'loc_name'] = df.st_from_name + ' - ' + df.st_to_name\n",
    "    if 'oper_time' in df.columns:\n",
    "        df['oper_time_f'] = df.oper_time.apply(lambda x: nice_time(x))    \n",
    "    \n",
    "# Добавляем во все таблицы названия станций на маршруте и времена отправления/прибытия в читабельном формате\n",
    "add_info(train_plan), add_info(loco_plan), add_info(team_plan)\n",
    "add_info(train_info), add_info(loco_info), add_info(team_info)\n",
    "\n",
    "# Мержим таблицы _plan и _info для поездов, локомотивов и бригад\n",
    "train_plan = train_plan.merge(train_info, on='train', suffixes=('', '_info'), how='left')\n",
    "loco_plan = loco_plan.merge(loco_info, on='loco', suffixes=('', '_info'), how='left')\n",
    "team_plan = team_plan.merge(team_info, on='team', suffixes=('', '_info'), how='left')\n",
    "\n",
    "# Добавляем признаки поезда и бригады (реальный/локомотиво-резервный/объемный и реальная/фейковая)\n",
    "train_plan['train_type'] = train_plan.train.apply(lambda x: str(x)[0])\n",
    "team_plan['team_type'] = team_plan.team.apply(lambda x: 'Реальная' if str(x)[0] == '2' else 'Фейковая')\n",
    "\n",
    "# Для локомотиво-резервных и объемных поездов заполняем номер\n",
    "train_plan.loc[train_plan.train_type.isin(['8', '9']), 'number'] = train_plan.train.apply(lambda x: int(str(x)[-4:]))\n",
    "\n",
    "# Добавляем подвязанные локомотив и бригаду в таблицы loco_plan и train_plan\n",
    "def to_map(df, col):\n",
    "    return df.drop_duplicates(col).set_index(col)\n",
    "\n",
    "train_plan['train_time'] = list(zip(train_plan.train, train_plan.time_start))\n",
    "loco_plan['train_time'] = list(zip(loco_plan.train, loco_plan.time_start))\n",
    "loco_plan['loco_time'] = list(zip(loco_plan.loco, loco_plan.time_start))\n",
    "team_plan['loco_time'] = list(zip(team_plan.loco, team_plan.time_start))\n",
    "loco_plan['team'] = loco_plan.loco_time.map(to_map(team_plan, 'loco_time').team)\n",
    "train_plan['loco'] = train_plan.train_time.map(to_map(loco_plan, 'train_time').loco)\n",
    "train_plan['team'] = train_plan.train_time.map(to_map(loco_plan, 'train_time').team)\n",
    "train_plan.drop('train_time', axis=1, inplace=True)\n",
    "loco_plan.drop(['train_time', 'loco_time'], axis=1, inplace=True)\n",
    "team_plan.drop('loco_time', axis=1, inplace=True)"
   ]
  },
  {
   "cell_type": "markdown",
   "metadata": {},
   "source": [
    "<a id='all_plan'></a>\n",
    "## Проверка планирования всех реальных поездов [ToC](#toc)\n",
    "\n",
    "Берем все поезда, которые были поданы на вход планировщика в сообщениях `train_info`. Отсеиваем поезда с номерами меньше 1000 (пассажирские) и поезда, у которых неверно указано изначальное местоположение (указан участок с одинаковыми начальной и конечной станциями). Остальные поезда должны быть запланированы.\n",
    "\n",
    "**TODO: Добавить отсев поездов с пустыми маршрутами и поездов, прибывших на конечную станцию маршрута**"
   ]
  },
  {
   "cell_type": "code",
   "execution_count": 7,
   "metadata": {
    "collapsed": true
   },
   "outputs": [],
   "source": [
    "routes = pd.read_csv(FOLDER + 'routes.csv', dtype={'st_from':str, 'st_to':str, 'train':str})\n",
    "add_info(routes)\n",
    "routes.dropna(subset=['st_from_name', 'st_to_name'], how='any', inplace=True)\n",
    "start_st = routes.drop_duplicates('train').set_index('train')\n",
    "end_st = routes.drop_duplicates('train', keep='last').set_index('train')\n",
    "train_info['first_st'] = train_info.train.map(start_st.st_from_name)\n",
    "train_info['last_st'] = train_info.train.map(end_st.st_to_name)"
   ]
  },
  {
   "cell_type": "code",
   "execution_count": 8,
   "metadata": {
    "collapsed": false
   },
   "outputs": [
    {
     "name": "stdout",
     "output_type": "stream",
     "text": [
      "Всего 0 реальных поездов (0.00%) не запланировано:\n",
      "Empty DataFrame\n",
      "Columns: [train, number, ind434, loc_name, in_plan, first_st, last_st]\n",
      "Index: []\n"
     ]
    }
   ],
   "source": [
    "train_info['in_plan'] = train_info.train.isin(train_plan.train)\n",
    "a = train_info[(train_info.in_plan == False) \n",
    "               & (train_info.number > 1000) \n",
    "               & (train_info.number < 9000)\n",
    "               & ((train_info.st_from != train_info.st_to) | (train_info.st_from == -1))\\\n",
    "              ].sort_values('number')\n",
    "with pd.option_context('display.max_colwidth', 25):\n",
    "    add_header('Всего %d реальных поездов (%.2f%%) не запланировано:' \n",
    "               % (a.train.count(), 100 * a.train.count() / train_info.train.count()))\n",
    "    add_line(a[['train', 'number', 'ind434', 'loc_name', 'in_plan', 'first_st', 'last_st']])"
   ]
  },
  {
   "cell_type": "markdown",
   "metadata": {},
   "source": [
    "<a id='oddity'></a>\n",
    "## Проверка совпадения четности номеров поездов и направления движения [ToC](#toc)\n",
    "\n",
    "Для фейковых поездов (id начинается на 9999) и локомотивов резервом (id начинается на 8888) мы сами генерируем номер поезда - это последние 4 цифры id. Тест проверяет, что четность этого номера совпадает с четностью первого участка на маршруте поезда."
   ]
  },
  {
   "cell_type": "code",
   "execution_count": 9,
   "metadata": {
    "collapsed": false
   },
   "outputs": [],
   "source": [
    "add_header('Проверки по поездам', h=1, p=False)\n",
    "add_header('Проверка совпадения четности номеров поездов и направления движения', h=2, p=False)"
   ]
  },
  {
   "cell_type": "code",
   "execution_count": 10,
   "metadata": {
    "collapsed": false
   },
   "outputs": [
    {
     "name": "stdout",
     "output_type": "stream",
     "text": [
      "Все четности совпадают\n"
     ]
    }
   ],
   "source": [
    "train_plan['dir'] = train_plan.link.map(links.set_index('link').dir)\n",
    "train_plan['odevity'] = (((train_plan.number / 2).astype(int) * 2 == train_plan.number).astype(int) + 1) % 2\n",
    "train_plan['check_odd'] = train_plan.dir == train_plan.odevity\n",
    "cols = ['train', 'number', 'st_from_name', 'st_to_name', 'dir', 'odevity', 'check_odd']\n",
    "fail_dir_number = train_plan.drop_duplicates(subset=['train', 'number']).loc[(train_plan.train_type.isin(['8', '9'])) &\n",
    "                                                          (train_plan.check_odd == False), cols]\n",
    "if fail_dir_number.empty == False:\n",
    "    add_header('Четность номеров поездов и направления не совпадает для %d поездов (показаны первые 10):' %\n",
    "         len(fail_dir_number.index))\n",
    "    pd.set_option('display.max_colwidth', 35)\n",
    "    add_line(fail_dir_number.head(10))\n",
    "else:\n",
    "    add_line('Все четности совпадают')"
   ]
  },
  {
   "cell_type": "markdown",
   "metadata": {},
   "source": [
    "<a id='stop_time'></a>\n",
    "## Анализ времен стоянок поездов на станциях смены локомотивов и бригад [ToC](#toc)\n",
    "\n",
    "Тест определяет станции, на которых на маршруте поезда происходит смена локомотива или бригады, и считает время стоянки поезда на этих станциях. Четких критериев ошибок тут нет. Но в среднем можно принять, что стоянка на смену локомотива должна занимать не более четырех часов, на смену бригады - не более двух. Сильно отличающиеся от этих значения надо исследовать и выявлять причины.\n",
    "\n",
    "Также очевидными ошибками являются случаи, когда смена локомотива или бригады происходит за нулевое время."
   ]
  },
  {
   "cell_type": "markdown",
   "metadata": {},
   "source": [
    "#### Параметры для анализа"
   ]
  },
  {
   "cell_type": "code",
   "execution_count": 11,
   "metadata": {
    "collapsed": false
   },
   "outputs": [],
   "source": [
    "# Минимальное время стоянки поезда для смены локомотива\n",
    "MIN_LOCO_STOP = 1 * 3600\n",
    "MAX_LOCO_STOP = 4 * 3600\n",
    "\n",
    "# Минимальное время стоянки поезда для смены бригады\n",
    "MIN_TEAM_STOP = 0.25 * 3600\n",
    "MAX_TEAM_STOP = 2 * 3600\n",
    "\n",
    "# Горизонт проверки\n",
    "hor = 24 * 3600"
   ]
  },
  {
   "cell_type": "markdown",
   "metadata": {},
   "source": [
    "<a id='stop_loco'></a>\n",
    "### Смена локомотивов [ToC](#toc)"
   ]
  },
  {
   "cell_type": "code",
   "execution_count": 12,
   "metadata": {
    "collapsed": true
   },
   "outputs": [],
   "source": [
    "add_header('Анализ смен локомотивов на маршрутах поездов', h=2, p=False)"
   ]
  },
  {
   "cell_type": "markdown",
   "metadata": {},
   "source": [
    "#### Ищем станции смены локомотивов и считаем средние времена"
   ]
  },
  {
   "cell_type": "code",
   "execution_count": 13,
   "metadata": {
    "collapsed": false
   },
   "outputs": [],
   "source": [
    "train_plan.columns\n",
    "train_plan.loco.fillna('-1', inplace=True)\n",
    "train_plan.team.fillna('-1', inplace=True)\n",
    "\n",
    "train_plan['train_end'] = train_plan.train != train_plan.train.shift(-1)\n",
    "train_plan['loco_end'] = (train_plan.loco != train_plan.loco.shift(-1)) | (train_plan.train_end)\n",
    "train_plan['team_end'] = (train_plan.team != train_plan.team.shift(-1)) | (train_plan.loco_end)\n",
    "\n",
    "train_plan['stop_time'] = train_plan.time_start.shift(-1) - train_plan.time_end\n",
    "train_plan['stop_time_h'] = np.round((train_plan.stop_time / 3600), 2)\n",
    "\n",
    "train_plan['next_loco'] = train_plan.loco.shift(-1)\n",
    "train_plan['next_team'] = train_plan.team.shift(-1)\n",
    "\n",
    "cols = ['train', 'st_from_name', 'st_to_name', 'loco', 'team', 'stop_time_h', 'next_loco']\n",
    "loco_change = train_plan[(train_plan.train_end == False) & (train_plan.loco_end == True)\n",
    "                        & (train_plan.time_end < current_time + hor)]"
   ]
  },
  {
   "cell_type": "code",
   "execution_count": 14,
   "metadata": {
    "collapsed": false
   },
   "outputs": [
    {
     "name": "stdout",
     "output_type": "stream",
     "text": [
      "Средние времена на смену локомотивов:\n",
      "- по всем сменам: 6.82 ч.\n",
      "- по всем сменам с ненулевым временем: 6.82 ч.\n"
     ]
    }
   ],
   "source": [
    "add_header('Средние времена на смену локомотивов:')\n",
    "add_line('- по всем сменам: %.2f ч.' % loco_change.stop_time_h.mean())\n",
    "add_line('- по всем сменам с ненулевым временем: %.2f ч.' % loco_change[loco_change.stop_time_h > 0].stop_time_h.mean())"
   ]
  },
  {
   "cell_type": "markdown",
   "metadata": {},
   "source": [
    "#### Ищем поезда, у которых смена локомотивов происходит за маленькое время"
   ]
  },
  {
   "cell_type": "code",
   "execution_count": 15,
   "metadata": {
    "collapsed": false
   },
   "outputs": [
    {
     "name": "stdout",
     "output_type": "stream",
     "text": [
      "Всего 14 поездов, для которых смена локомотивов происходит за слишком маленькое время. Примеры:\n",
      "   train    st_from_name           st_to_name     loco next_loco  stop_time_h\n",
      " 1002411           ТОРЕЯ               ТАЙШЕТ  2000411   2001514         0.05\n",
      " 1002202  ГИДРОСТРОИТЕЛЬ  КОРШУНИХА-АНГАРСКАЯ  2000202   2000204         0.05\n",
      " 1002305           ТОРЕЯ               ТАЙШЕТ  2000303   2001510         0.08\n",
      " 1002032            ЮРТЫ               ТАЙШЕТ  2001515   2000201         0.11\n",
      " 1002036            ЮРТЫ               ТАЙШЕТ  2001517   2000280         0.12\n",
      "\n",
      "Полный план по одному из таких поездов:\n",
      "   train st_from_name st_to_name time_start_f   time_end_f     loco     team\n",
      " 1002036         ЮРТЫ     ТАЙШЕТ  30/07 06:06  30/07 07:03  2001517  8800017\n",
      " 1002036       ТАЙШЕТ      ТОРЕЯ  30/07 07:10  30/07 11:25  2000280  9200010\n",
      " 1002036        ТОРЕЯ      ТУРМА  30/07 11:25  30/07 12:27  2000280  9200010\n",
      " 1002036        ТУРМА  ВИХОРЕВКА  30/07 12:27  30/07 12:57  2000280  9200010\n"
     ]
    }
   ],
   "source": [
    "cols = ['train', 'st_from_name', 'st_to_name', 'loco', 'next_loco', 'stop_time_h']\n",
    "nill_stop_times = loco_change[loco_change.stop_time < MIN_LOCO_STOP]\n",
    "if not nill_stop_times.empty:\n",
    "    add_header('Всего %d поездов, для которых смена локомотивов происходит за слишком маленькое время. Примеры:' \n",
    "               % nill_stop_times.train.count())\n",
    "    add_line(nill_stop_times.sort_values('stop_time_h')[cols].head())\n",
    "    cols = ['train', 'st_from_name', 'st_to_name', 'time_start_f', 'time_end_f', 'loco', 'team']\n",
    "    add_line('')\n",
    "    add_header('Полный план по одному из таких поездов:')\n",
    "    for train in nill_stop_times.train.values[:1]:\n",
    "        add_line(train_plan[train_plan.train == train][cols])\n",
    "else:\n",
    "    add_header('Нет локомотивов, для которых смена бригад происходит за слишком маленькое время')"
   ]
  },
  {
   "cell_type": "markdown",
   "metadata": {},
   "source": [
    "#### Составляем статистику по всем станциям смены, загружаем список приоритетных станций смены"
   ]
  },
  {
   "cell_type": "code",
   "execution_count": 16,
   "metadata": {
    "collapsed": false
   },
   "outputs": [],
   "source": [
    "cols = ['train', 'st_from_name', 'st_to_name', 'loco', 'next_loco', 'stop_time_h']\n",
    "no_nill_stops = loco_change[loco_change.stop_time > 0]\n",
    "no_nill_stops[cols]\n",
    "#no_nill_stops.groupby('st_to_name').stop_time_h.mean()\n",
    "st_change = no_nill_stops.groupby('st_to_name').train.count().to_frame()\\\n",
    "            .join(no_nill_stops.groupby('st_to_name').stop_time_h.mean()).reset_index()\n",
    "st_change['stop_time_h'] = st_change.stop_time_h.apply(lambda x: np.round(x, 2))\n",
    "st_change.sort_values('train', ascending=False).head(10)\n",
    "priority_change_stations = pd.read_csv(FOLDER + 'mandatory/priority_loco_change_stations.csv').st_name.values"
   ]
  },
  {
   "cell_type": "markdown",
   "metadata": {},
   "source": [
    "#### Ищем поезда, у которых смена локомотивов происходит на неправильных станциях"
   ]
  },
  {
   "cell_type": "code",
   "execution_count": 17,
   "metadata": {
    "collapsed": false
   },
   "outputs": [
    {
     "name": "stdout",
     "output_type": "stream",
     "text": [
      "Всего 22 поездов, у которых смена локомотива, скорее всего, происходит на неправильных станциях\n",
      "Примеры таких станций:\n",
      "          st_to_name  train  stop_time_h\n",
      "                ЛЕНА     14         8.41\n",
      " КОРШУНИХА-АНГАРСКАЯ      8         4.35\n",
      "\n",
      "Поезда, у которых смена локомотива происходит на станции ЛЕНА:\n",
      "   train st_from_name st_to_name     loco next_loco  stop_time_h\n",
      " 1002505       ЯКУРИМ       ЛЕНА  2000753   2000104         8.81\n",
      " 1002513       ЯКУРИМ       ЛЕНА  2000713   2000213        14.57\n",
      " 1002302    ХРЕБТОВАЯ       ЛЕНА  2000302   2000753         9.14\n",
      " 1002312    ХРЕБТОВАЯ       ЛЕНА  2000312   2000481         0.98\n",
      " 1002306    ХРЕБТОВАЯ       ЛЕНА  2000304   2000715         8.07\n",
      " 1002322    ХРЕБТОВАЯ       ЛЕНА  2000216   2000757         7.81\n",
      " 1002603       ЯКУРИМ       ЛЕНА  2000763   2000118         2.33\n",
      " 1002601       ЯКУРИМ       ЛЕНА  2000761   2000101         2.22\n",
      " 1002613       ЯКУРИМ       ЛЕНА  2000723   2000411        16.25\n",
      " 1002118    ХРЕБТОВАЯ       ЛЕНА  2000304   2000731        11.72\n",
      " 1002114    ХРЕБТОВАЯ       ЛЕНА  2000112   2000772        13.69\n",
      " 1002206    ХРЕБТОВАЯ       ЛЕНА  2000112   2000763         6.78\n",
      " 1002202    ХРЕБТОВАЯ       ЛЕНА  2000204   2000761        10.10\n",
      " 1002214    ХРЕБТОВАЯ       ЛЕНА  2000415   2000711         5.31\n",
      "\n",
      "Полный план по одному из таких поездов:\n",
      "   train         st_from_name           st_to_name time_start_f   time_end_f     loco         loc_name loco_info\n",
      " 1002505      СЕВЕРОБАЙКАЛЬСК                  ТЫЯ  29/07 19:10  29/07 19:41  2000753  СЕВЕРОБАЙКАЛЬСК   2000753\n",
      " 1002505                  ТЫЯ                ДАБАН  29/07 19:41  29/07 20:17  2000753  СЕВЕРОБАЙКАЛЬСК   2000753\n",
      " 1002505                ДАБАН              КУНЕРМА  29/07 20:17  29/07 21:16  2000753  СЕВЕРОБАЙКАЛЬСК   2000753\n",
      " 1002505              КУНЕРМА              КИРЕНГА  29/07 21:16  29/07 23:20  2000753  СЕВЕРОБАЙКАЛЬСК   2000753\n",
      " 1002505              КИРЕНГА               НЕБЕЛЬ  29/07 23:20  30/07 00:28  2000753  СЕВЕРОБАЙКАЛЬСК   2000753\n",
      " 1002505               НЕБЕЛЬ              ТАКОВКА  30/07 00:28  30/07 01:13  2000753  СЕВЕРОБАЙКАЛЬСК   2000753\n",
      " 1002505              ТАКОВКА                  НИЯ  30/07 01:13  30/07 01:42  2000753  СЕВЕРОБАЙКАЛЬСК   2000753\n",
      " 1002505                  НИЯ             ЗВЕЗДНАЯ  30/07 01:42  30/07 02:48  2000753  СЕВЕРОБАЙКАЛЬСК   2000753\n",
      " 1002505             ЗВЕЗДНАЯ            ЧУДНИЧНЫЙ  30/07 02:48  30/07 03:31  2000753  СЕВЕРОБАЙКАЛЬСК   2000753\n",
      " 1002505            ЧУДНИЧНЫЙ       ЛЕНА-ВОСТОЧНАЯ  30/07 03:31  30/07 04:05  2000753  СЕВЕРОБАЙКАЛЬСК   2000753\n",
      " 1002505       ЛЕНА-ВОСТОЧНАЯ               ЯКУРИМ  30/07 04:05  30/07 04:12  2000753  СЕВЕРОБАЙКАЛЬСК   2000753\n",
      " 1002505               ЯКУРИМ                 ЛЕНА  30/07 04:12  30/07 04:26  2000753  СЕВЕРОБАЙКАЛЬСК   2000753\n",
      " 1002505                 ЛЕНА            ХРЕБТОВАЯ  30/07 13:15  30/07 16:05  2000104  СЕВЕРОБАЙКАЛЬСК   2000753\n",
      " 1002505            ХРЕБТОВАЯ  КОРШУНИХА-АНГАРСКАЯ  30/07 16:05  30/07 16:39  2000104  СЕВЕРОБАЙКАЛЬСК   2000753\n",
      " 1002505  КОРШУНИХА-АНГАРСКАЯ       ГИДРОСТРОИТЕЛЬ  30/07 19:30  30/07 23:28  2000104  СЕВЕРОБАЙКАЛЬСК   2000753\n",
      " 1002505       ГИДРОСТРОИТЕЛЬ     ПАДУНСКИЕ ПОРОГИ  30/07 23:28  30/07 23:44  2000104  СЕВЕРОБАЙКАЛЬСК   2000753\n",
      " 1002505     ПАДУНСКИЕ ПОРОГИ          ГАЛАЧИНСКИЙ  30/07 23:44  31/07 00:07  2000104  СЕВЕРОБАЙКАЛЬСК   2000753\n",
      " 1002505          ГАЛАЧИНСКИЙ             МОРГУДОН  31/07 00:07  31/07 00:40  2000104  СЕВЕРОБАЙКАЛЬСК   2000753\n",
      " 1002505             МОРГУДОН            ВИХОРЕВКА  31/07 00:40  31/07 00:58  2000104  СЕВЕРОБАЙКАЛЬСК   2000753\n",
      " 1002505            ВИХОРЕВКА                ТУРМА  31/07 00:58  31/07 01:50  2000104  СЕВЕРОБАЙКАЛЬСК   2000753\n",
      " 1002505                ТУРМА                ТОРЕЯ  31/07 01:50  31/07 02:46  2000104  СЕВЕРОБАЙКАЛЬСК   2000753\n",
      " 1002505                ТОРЕЯ               ТАЙШЕТ  31/07 02:46  31/07 06:18  2000104  СЕВЕРОБАЙКАЛЬСК   2000753\n"
     ]
    }
   ],
   "source": [
    "# bad change stations\n",
    "bad_changes = st_change[st_change.st_to_name.isin(priority_change_stations) == False].sort_values('train', ascending=False)\n",
    "if not bad_changes.empty:\n",
    "    add_header('Всего %d поездов, у которых смена локомотива, скорее всего, происходит на неправильных станциях' \n",
    "               % bad_changes.train.sum())\n",
    "    add_header('Примеры таких станций:')\n",
    "    add_line(bad_changes.head(10))\n",
    "    add_line('')\n",
    "    cols = ['train', 'st_from_name', 'st_to_name', 'loco', 'next_loco', 'stop_time_h']\n",
    "    st = bad_changes.iloc[0].st_to_name\n",
    "    add_line('Поезда, у которых смена локомотива происходит на станции %s:' % st)\n",
    "    add_line(loco_change[loco_change.st_to_name == st][cols])\n",
    "\n",
    "    train_plan['loco_info'] = train_plan.train.map(loco_info.drop_duplicates('train').set_index('train').loco)\n",
    "    cols = ['train', 'st_from_name', 'st_to_name', 'time_start_f', 'time_end_f', 'loco', 'loc_name', 'loco_info']\n",
    "    add_line('')\n",
    "    add_header('Полный план по одному из таких поездов:')\n",
    "    with pd.option_context('display.max_colwidth', 20):\n",
    "        add_line(train_plan[train_plan.train == loco_change[loco_change.st_to_name == st].iloc[0].train][cols])\n",
    "else:\n",
    "    add_header('Нет поездов, у которых смена локомотивов происходит на неправильной станции')"
   ]
  },
  {
   "cell_type": "markdown",
   "metadata": {},
   "source": [
    "#### Ищем поезда со слишком долгой стоянкой для смены локомотивов"
   ]
  },
  {
   "cell_type": "code",
   "execution_count": 78,
   "metadata": {
    "collapsed": false
   },
   "outputs": [
    {
     "name": "stdout",
     "output_type": "stream",
     "text": [
      "Всего 19 случаев смены локомотива с длительной стоянкой. Примеры:\n",
      "   train st_from_name st_to_name     loco   time_end_f next_loco  stop_time_h\n",
      " 1002054         ЮРТЫ     ТАЙШЕТ  2001526  30/07 16:03   2000411        29.09\n",
      " 1002034         ЮРТЫ     ТАЙШЕТ  2001516  30/07 06:03   2000213        26.96\n",
      " 1002040         ЮРТЫ     ТАЙШЕТ  2001519  30/07 09:03   2000206        23.54\n",
      " 1002046         ЮРТЫ     ТАЙШЕТ  2001522  30/07 12:03   2000311        19.05\n",
      " 1002030         ЮРТЫ     ТАЙШЕТ  2001514  30/07 04:03   2000480        15.45\n",
      " 1002038         ЮРТЫ     ТАЙШЕТ  2001518  30/07 08:03   2000207        13.19\n",
      " 1002042         ЮРТЫ     ТАЙШЕТ  2001520  30/07 10:03   2000204        12.82\n",
      " 1002028         ЮРТЫ     ТАЙШЕТ  2001513  30/07 03:03   2000214        10.03\n",
      " 1002050         ЮРТЫ     ТАЙШЕТ  2001524  30/07 14:03   2000202         8.14\n",
      " 1002024         ЮРТЫ     ТАЙШЕТ  2001511  30/07 01:03   2000303         7.28\n",
      " 1002056         ЮРТЫ     ТАЙШЕТ  2001527  30/07 17:03   2000413         6.61\n",
      " 1002211        ТОРЕЯ     ТАЙШЕТ  2000211  29/07 18:49   2001505         6.18\n",
      " 1002048         ЮРТЫ     ТАЙШЕТ  2001523  30/07 13:03   2000404         6.11\n",
      " 1002026         ЮРТЫ     ТАЙШЕТ  2001512  30/07 02:03   2000313         5.95\n",
      " 1002213        ТОРЕЯ     ТАЙШЕТ  2000213  29/07 20:52   2001506         5.21\n",
      " 1002020         ЮРТЫ     ТАЙШЕТ  2001509  29/07 23:03   2000107         4.95\n",
      " 1002014         ЮРТЫ     ТАЙШЕТ  2001506  29/07 20:03   2000103         4.87\n",
      " 1002022         ЮРТЫ     ТАЙШЕТ  2001510  30/07 00:03   2000215         4.70\n",
      " 1002016         ЮРТЫ     ТАЙШЕТ  2001507  29/07 21:03   2000105         4.37\n",
      "Полный план по одному из таких поездов:\n",
      "   train st_from_name st_to_name time_start_f   time_end_f     loco\n",
      " 1002054         ЮРТЫ     ТАЙШЕТ  30/07 15:06  30/07 16:03  2001526\n",
      " 1002054       ТАЙШЕТ      ТОРЕЯ  31/07 21:08  01/08 01:18  2000411\n",
      " 1002054        ТОРЕЯ      ТУРМА  01/08 01:18  01/08 02:18  2000411\n",
      " 1002054        ТУРМА  ВИХОРЕВКА  01/08 02:18  01/08 02:48  2000411\n"
     ]
    }
   ],
   "source": [
    "cols = ['train', 'st_from_name', 'st_to_name', 'loco', 'time_end_f', 'next_loco', 'stop_time_h']\n",
    "long_change = loco_change[(loco_change.st_to_name.isin(priority_change_stations)) \n",
    "            & (loco_change.stop_time > MAX_LOCO_STOP)].sort_values('stop_time_h', ascending=False)\n",
    "add_header('Всего %d случаев смены локомотива с длительной стоянкой. Примеры:' % long_change.train.count())\n",
    "add_line(long_change.sort_values('stop_time', ascending=False)[cols].head(20))\n",
    "if not long_change.empty:\n",
    "    train_id = long_change.sort_values('stop_time', ascending=False).iloc[0].train\n",
    "    #train_id = '1002030'\n",
    "    cols = ['train', 'st_from_name', 'st_to_name', 'time_start_f', 'time_end_f', 'loco']\n",
    "    add_header('Полный план по одному из таких поездов:')\n",
    "    add_line(train_plan[train_plan.train == train_id][cols])"
   ]
  },
  {
   "cell_type": "code",
   "execution_count": 76,
   "metadata": {
    "collapsed": false
   },
   "outputs": [
    {
     "data": {
      "text/html": [
       "<div>\n",
       "<table border=\"1\" class=\"dataframe\">\n",
       "  <thead>\n",
       "    <tr style=\"text-align: right;\">\n",
       "      <th></th>\n",
       "      <th>loco</th>\n",
       "      <th>st_from_name</th>\n",
       "      <th>st_to_name</th>\n",
       "      <th>time_start_f</th>\n",
       "      <th>time_end_f</th>\n",
       "      <th>state</th>\n",
       "      <th>train</th>\n",
       "      <th>team</th>\n",
       "    </tr>\n",
       "  </thead>\n",
       "  <tbody>\n",
       "    <tr>\n",
       "      <th>1113</th>\n",
       "      <td>2000480</td>\n",
       "      <td>ЛЕНА</td>\n",
       "      <td>ХРЕБТОВАЯ</td>\n",
       "      <td>30/07 02:10</td>\n",
       "      <td>30/07 05:00</td>\n",
       "      <td>1</td>\n",
       "      <td>1002421</td>\n",
       "      <td>9271010</td>\n",
       "    </tr>\n",
       "    <tr>\n",
       "      <th>1114</th>\n",
       "      <td>2000480</td>\n",
       "      <td>ХРЕБТОВАЯ</td>\n",
       "      <td>КОРШУНИХА-АНГАРСКАЯ</td>\n",
       "      <td>30/07 05:00</td>\n",
       "      <td>30/07 05:34</td>\n",
       "      <td>1</td>\n",
       "      <td>1002421</td>\n",
       "      <td>9271010</td>\n",
       "    </tr>\n",
       "    <tr>\n",
       "      <th>1115</th>\n",
       "      <td>2000480</td>\n",
       "      <td>КОРШУНИХА-АНГАРСКАЯ</td>\n",
       "      <td>ГИДРОСТРОИТЕЛЬ</td>\n",
       "      <td>30/07 06:50</td>\n",
       "      <td>30/07 11:19</td>\n",
       "      <td>1</td>\n",
       "      <td>1002421</td>\n",
       "      <td>9200027</td>\n",
       "    </tr>\n",
       "    <tr>\n",
       "      <th>1116</th>\n",
       "      <td>2000480</td>\n",
       "      <td>ГИДРОСТРОИТЕЛЬ</td>\n",
       "      <td>ПАДУНСКИЕ ПОРОГИ</td>\n",
       "      <td>30/07 11:19</td>\n",
       "      <td>30/07 12:09</td>\n",
       "      <td>1</td>\n",
       "      <td>1002421</td>\n",
       "      <td>9200027</td>\n",
       "    </tr>\n",
       "    <tr>\n",
       "      <th>1117</th>\n",
       "      <td>2000480</td>\n",
       "      <td>ПАДУНСКИЕ ПОРОГИ</td>\n",
       "      <td>ГАЛАЧИНСКИЙ</td>\n",
       "      <td>30/07 12:09</td>\n",
       "      <td>30/07 12:34</td>\n",
       "      <td>1</td>\n",
       "      <td>1002421</td>\n",
       "      <td>9200027</td>\n",
       "    </tr>\n",
       "    <tr>\n",
       "      <th>1118</th>\n",
       "      <td>2000480</td>\n",
       "      <td>ГАЛАЧИНСКИЙ</td>\n",
       "      <td>МОРГУДОН</td>\n",
       "      <td>30/07 12:34</td>\n",
       "      <td>30/07 13:34</td>\n",
       "      <td>1</td>\n",
       "      <td>1002421</td>\n",
       "      <td>9200027</td>\n",
       "    </tr>\n",
       "    <tr>\n",
       "      <th>1119</th>\n",
       "      <td>2000480</td>\n",
       "      <td>МОРГУДОН</td>\n",
       "      <td>ВИХОРЕВКА</td>\n",
       "      <td>30/07 13:34</td>\n",
       "      <td>30/07 13:52</td>\n",
       "      <td>1</td>\n",
       "      <td>1002421</td>\n",
       "      <td>9200027</td>\n",
       "    </tr>\n",
       "    <tr>\n",
       "      <th>1120</th>\n",
       "      <td>2000480</td>\n",
       "      <td>ВИХОРЕВКА</td>\n",
       "      <td>ТУРМА</td>\n",
       "      <td>30/07 13:52</td>\n",
       "      <td>30/07 14:28</td>\n",
       "      <td>1</td>\n",
       "      <td>1002421</td>\n",
       "      <td>9200027</td>\n",
       "    </tr>\n",
       "    <tr>\n",
       "      <th>1121</th>\n",
       "      <td>2000480</td>\n",
       "      <td>ТУРМА</td>\n",
       "      <td>ТОРЕЯ</td>\n",
       "      <td>30/07 14:28</td>\n",
       "      <td>30/07 15:12</td>\n",
       "      <td>1</td>\n",
       "      <td>1002421</td>\n",
       "      <td>9200027</td>\n",
       "    </tr>\n",
       "    <tr>\n",
       "      <th>1122</th>\n",
       "      <td>2000480</td>\n",
       "      <td>ТОРЕЯ</td>\n",
       "      <td>ТАЙШЕТ</td>\n",
       "      <td>30/07 15:12</td>\n",
       "      <td>30/07 18:41</td>\n",
       "      <td>1</td>\n",
       "      <td>1002421</td>\n",
       "      <td>9200027</td>\n",
       "    </tr>\n",
       "    <tr>\n",
       "      <th>1123</th>\n",
       "      <td>2000480</td>\n",
       "      <td>ТАЙШЕТ</td>\n",
       "      <td>ТОРЕЯ</td>\n",
       "      <td>30/07 19:30</td>\n",
       "      <td>30/07 23:21</td>\n",
       "      <td>1</td>\n",
       "      <td>1002030</td>\n",
       "      <td>9200030</td>\n",
       "    </tr>\n",
       "    <tr>\n",
       "      <th>1124</th>\n",
       "      <td>2000480</td>\n",
       "      <td>ТОРЕЯ</td>\n",
       "      <td>ТУРМА</td>\n",
       "      <td>30/07 23:21</td>\n",
       "      <td>31/07 00:20</td>\n",
       "      <td>1</td>\n",
       "      <td>1002030</td>\n",
       "      <td>9200030</td>\n",
       "    </tr>\n",
       "    <tr>\n",
       "      <th>1125</th>\n",
       "      <td>2000480</td>\n",
       "      <td>ТУРМА</td>\n",
       "      <td>ВИХОРЕВКА</td>\n",
       "      <td>31/07 00:20</td>\n",
       "      <td>31/07 00:50</td>\n",
       "      <td>1</td>\n",
       "      <td>1002030</td>\n",
       "      <td>9200030</td>\n",
       "    </tr>\n",
       "    <tr>\n",
       "      <th>1126</th>\n",
       "      <td>2000480</td>\n",
       "      <td>ВИХОРЕВКА</td>\n",
       "      <td>ВИХОРЕВКА</td>\n",
       "      <td>31/07 00:50</td>\n",
       "      <td>31/07 03:50</td>\n",
       "      <td>4</td>\n",
       "      <td>-1</td>\n",
       "      <td>NaN</td>\n",
       "    </tr>\n",
       "  </tbody>\n",
       "</table>\n",
       "</div>"
      ],
      "text/plain": [
       "         loco         st_from_name           st_to_name time_start_f  \\\n",
       "1113  2000480                 ЛЕНА            ХРЕБТОВАЯ  30/07 02:10   \n",
       "1114  2000480            ХРЕБТОВАЯ  КОРШУНИХА-АНГАРСКАЯ  30/07 05:00   \n",
       "1115  2000480  КОРШУНИХА-АНГАРСКАЯ       ГИДРОСТРОИТЕЛЬ  30/07 06:50   \n",
       "1116  2000480       ГИДРОСТРОИТЕЛЬ     ПАДУНСКИЕ ПОРОГИ  30/07 11:19   \n",
       "1117  2000480     ПАДУНСКИЕ ПОРОГИ          ГАЛАЧИНСКИЙ  30/07 12:09   \n",
       "1118  2000480          ГАЛАЧИНСКИЙ             МОРГУДОН  30/07 12:34   \n",
       "1119  2000480             МОРГУДОН            ВИХОРЕВКА  30/07 13:34   \n",
       "1120  2000480            ВИХОРЕВКА                ТУРМА  30/07 13:52   \n",
       "1121  2000480                ТУРМА                ТОРЕЯ  30/07 14:28   \n",
       "1122  2000480                ТОРЕЯ               ТАЙШЕТ  30/07 15:12   \n",
       "1123  2000480               ТАЙШЕТ                ТОРЕЯ  30/07 19:30   \n",
       "1124  2000480                ТОРЕЯ                ТУРМА  30/07 23:21   \n",
       "1125  2000480                ТУРМА            ВИХОРЕВКА  31/07 00:20   \n",
       "1126  2000480            ВИХОРЕВКА            ВИХОРЕВКА  31/07 00:50   \n",
       "\n",
       "       time_end_f  state    train     team  \n",
       "1113  30/07 05:00      1  1002421  9271010  \n",
       "1114  30/07 05:34      1  1002421  9271010  \n",
       "1115  30/07 11:19      1  1002421  9200027  \n",
       "1116  30/07 12:09      1  1002421  9200027  \n",
       "1117  30/07 12:34      1  1002421  9200027  \n",
       "1118  30/07 13:34      1  1002421  9200027  \n",
       "1119  30/07 13:52      1  1002421  9200027  \n",
       "1120  30/07 14:28      1  1002421  9200027  \n",
       "1121  30/07 15:12      1  1002421  9200027  \n",
       "1122  30/07 18:41      1  1002421  9200027  \n",
       "1123  30/07 23:21      1  1002030  9200030  \n",
       "1124  31/07 00:20      1  1002030  9200030  \n",
       "1125  31/07 00:50      1  1002030  9200030  \n",
       "1126  31/07 03:50      4       -1      NaN  "
      ]
     },
     "execution_count": 76,
     "metadata": {},
     "output_type": "execute_result"
    }
   ],
   "source": [
    "loco_plan[loco_plan.loco == '2000480'][['loco', 'st_from_name', 'st_to_name', 'time_start_f', 'time_end_f', \n",
    "                                        'state', 'train', 'team']]"
   ]
  },
  {
   "cell_type": "code",
   "execution_count": 20,
   "metadata": {
    "collapsed": false
   },
   "outputs": [
    {
     "data": {
      "text/html": [
       "<div>\n",
       "<table border=\"1\" class=\"dataframe\">\n",
       "  <thead>\n",
       "    <tr style=\"text-align: right;\">\n",
       "      <th></th>\n",
       "      <th>team</th>\n",
       "      <th>st_from_name</th>\n",
       "      <th>st_to_name</th>\n",
       "      <th>time_start_f</th>\n",
       "      <th>time_end_f</th>\n",
       "      <th>state</th>\n",
       "      <th>loco</th>\n",
       "    </tr>\n",
       "  </thead>\n",
       "  <tbody>\n",
       "    <tr>\n",
       "      <th>626</th>\n",
       "      <td>9257018</td>\n",
       "      <td>КОРШУНИХА-АНГАРСКАЯ</td>\n",
       "      <td>КОРШУНИХА-АНГАРСКАЯ</td>\n",
       "      <td>30/07 06:48</td>\n",
       "      <td>30/07 08:35</td>\n",
       "      <td>2</td>\n",
       "      <td>-1</td>\n",
       "    </tr>\n",
       "    <tr>\n",
       "      <th>627</th>\n",
       "      <td>9257018</td>\n",
       "      <td>КОРШУНИХА-АНГАРСКАЯ</td>\n",
       "      <td>ХРЕБТОВАЯ</td>\n",
       "      <td>30/07 08:35</td>\n",
       "      <td>30/07 09:14</td>\n",
       "      <td>1</td>\n",
       "      <td>2000304</td>\n",
       "    </tr>\n",
       "    <tr>\n",
       "      <th>628</th>\n",
       "      <td>9257018</td>\n",
       "      <td>ХРЕБТОВАЯ</td>\n",
       "      <td>ЛЕНА</td>\n",
       "      <td>30/07 09:14</td>\n",
       "      <td>30/07 11:46</td>\n",
       "      <td>1</td>\n",
       "      <td>2000304</td>\n",
       "    </tr>\n",
       "    <tr>\n",
       "      <th>629</th>\n",
       "      <td>9257018</td>\n",
       "      <td>ЛЕНА</td>\n",
       "      <td>ЛЕНА</td>\n",
       "      <td>30/07 12:16</td>\n",
       "      <td>30/07 15:16</td>\n",
       "      <td>4</td>\n",
       "      <td>-1</td>\n",
       "    </tr>\n",
       "    <tr>\n",
       "      <th>630</th>\n",
       "      <td>9257018</td>\n",
       "      <td>ЛЕНА</td>\n",
       "      <td>ЛЕНА</td>\n",
       "      <td>30/07 17:21</td>\n",
       "      <td>30/07 19:10</td>\n",
       "      <td>2</td>\n",
       "      <td>-1</td>\n",
       "    </tr>\n",
       "    <tr>\n",
       "      <th>631</th>\n",
       "      <td>9257018</td>\n",
       "      <td>ЛЕНА</td>\n",
       "      <td>ХРЕБТОВАЯ</td>\n",
       "      <td>30/07 19:10</td>\n",
       "      <td>30/07 22:11</td>\n",
       "      <td>1</td>\n",
       "      <td>2000101</td>\n",
       "    </tr>\n",
       "    <tr>\n",
       "      <th>632</th>\n",
       "      <td>9257018</td>\n",
       "      <td>ХРЕБТОВАЯ</td>\n",
       "      <td>КОРШУНИХА-АНГАРСКАЯ</td>\n",
       "      <td>30/07 22:11</td>\n",
       "      <td>30/07 22:45</td>\n",
       "      <td>1</td>\n",
       "      <td>2000101</td>\n",
       "    </tr>\n",
       "  </tbody>\n",
       "</table>\n",
       "</div>"
      ],
      "text/plain": [
       "        team         st_from_name           st_to_name time_start_f  \\\n",
       "626  9257018  КОРШУНИХА-АНГАРСКАЯ  КОРШУНИХА-АНГАРСКАЯ  30/07 06:48   \n",
       "627  9257018  КОРШУНИХА-АНГАРСКАЯ            ХРЕБТОВАЯ  30/07 08:35   \n",
       "628  9257018            ХРЕБТОВАЯ                 ЛЕНА  30/07 09:14   \n",
       "629  9257018                 ЛЕНА                 ЛЕНА  30/07 12:16   \n",
       "630  9257018                 ЛЕНА                 ЛЕНА  30/07 17:21   \n",
       "631  9257018                 ЛЕНА            ХРЕБТОВАЯ  30/07 19:10   \n",
       "632  9257018            ХРЕБТОВАЯ  КОРШУНИХА-АНГАРСКАЯ  30/07 22:11   \n",
       "\n",
       "      time_end_f  state     loco  \n",
       "626  30/07 08:35      2       -1  \n",
       "627  30/07 09:14      1  2000304  \n",
       "628  30/07 11:46      1  2000304  \n",
       "629  30/07 15:16      4       -1  \n",
       "630  30/07 19:10      2       -1  \n",
       "631  30/07 22:11      1  2000101  \n",
       "632  30/07 22:45      1  2000101  "
      ]
     },
     "execution_count": 20,
     "metadata": {},
     "output_type": "execute_result"
    }
   ],
   "source": [
    "team_plan[team_plan.team == '9257018'][['team', 'st_from_name', 'st_to_name', 'time_start_f', 'time_end_f', 'state', 'loco']]"
   ]
  },
  {
   "cell_type": "code",
   "execution_count": 21,
   "metadata": {
    "collapsed": false
   },
   "outputs": [],
   "source": [
    "#slot[(slot.st_from_name == 'ЛЕНА') & (slot.st_to_name == 'ХРЕБТОВАЯ')].sort_values('time_start')[['slot', 'time_start_f']]"
   ]
  },
  {
   "cell_type": "markdown",
   "metadata": {},
   "source": [
    "<a id='stop_team'></a>\n",
    "### Смена бригад [ToC](#toc)"
   ]
  },
  {
   "cell_type": "code",
   "execution_count": 22,
   "metadata": {
    "collapsed": true
   },
   "outputs": [],
   "source": [
    "add_header('Анализ смен бригад на маршрутах поездов', h=2, p=False)"
   ]
  },
  {
   "cell_type": "code",
   "execution_count": 23,
   "metadata": {
    "collapsed": true
   },
   "outputs": [],
   "source": [
    "team_change = train_plan[(train_plan.loco_end == False) & (train_plan.team_end == True)\n",
    "                        & (train_plan.time_end < current_time + hor)]"
   ]
  },
  {
   "cell_type": "code",
   "execution_count": 24,
   "metadata": {
    "collapsed": false
   },
   "outputs": [
    {
     "name": "stdout",
     "output_type": "stream",
     "text": [
      "Средние времена на смену бригады:\n",
      "- по всем сменам: 3.57 ч.\n",
      "- по всем сменам с ненулевым временем: 3.57 ч.\n"
     ]
    }
   ],
   "source": [
    "add_header('Средние времена на смену бригады:')\n",
    "add_line('- по всем сменам: %.2f ч.' % team_change.stop_time_h.mean())\n",
    "add_line('- по всем сменам с ненулевым временем: %.2f ч.' % team_change[team_change.stop_time_h > 0].stop_time_h.mean())"
   ]
  },
  {
   "cell_type": "markdown",
   "metadata": {},
   "source": [
    "#### Ищем поезда, у которых смена бригады происходит за маленькое время"
   ]
  },
  {
   "cell_type": "code",
   "execution_count": 25,
   "metadata": {
    "collapsed": false
   },
   "outputs": [
    {
     "name": "stdout",
     "output_type": "stream",
     "text": [
      "Нет поездов, для которых смена бригад происходит за слишком маленькое время\n"
     ]
    }
   ],
   "source": [
    "cols = ['train', 'st_from_name', 'st_to_name', 'team', 'next_team', 'stop_time_h']\n",
    "nill_stop_times = team_change[team_change.stop_time < MIN_TEAM_STOP]\n",
    "if not nill_stop_times.empty:\n",
    "    add_header('Всего %d поездов, для которых смена бригад происходит за слишком маленькое время. Примеры:' \n",
    "               % nill_stop_times.train.count())\n",
    "    add_line(nill_stop_times.sort_values('stop_time')[cols].head())\n",
    "    cols = ['train', 'st_from_name', 'st_to_name', 'time_start_f', 'time_end_f', 'loco', 'team']\n",
    "    add_line('')\n",
    "    add_header('Полный план по одному из таких поездов:')\n",
    "    for train in nill_stop_times.train.values[:1]:\n",
    "        add_line(train_plan[train_plan.train == train][cols])\n",
    "else:\n",
    "    add_header('Нет поездов, для которых смена бригад происходит за слишком маленькое время')"
   ]
  },
  {
   "cell_type": "markdown",
   "metadata": {},
   "source": [
    "#### Ищем поезда со слишком долгой стоянкой для смены бригады"
   ]
  },
  {
   "cell_type": "code",
   "execution_count": 26,
   "metadata": {
    "collapsed": false
   },
   "outputs": [],
   "source": [
    "a = team_change.st_to_name.value_counts()\n",
    "#lim = a.describe()['75%']\n",
    "#st_change = list(a[a >= lim].index)\n",
    "st_change = list(a.sort_values(ascending=False).head(10).index)"
   ]
  },
  {
   "cell_type": "code",
   "execution_count": 27,
   "metadata": {
    "collapsed": false
   },
   "outputs": [
    {
     "name": "stdout",
     "output_type": "stream",
     "text": [
      "Среднее время на смену бригады на станциях с большим количеством смен:\n",
      "st_to_name\n",
      "СЕВЕРОБАЙКАЛЬСК        6.093750\n",
      "НОВЫЙ УОЯН             2.726364\n",
      "ВИХОРЕВКА              2.646667\n",
      "КОРШУНИХА-АНГАРСКАЯ    2.503636\n"
     ]
    },
    {
     "data": {
      "text/plain": [
       "<matplotlib.text.Text at 0x274a00c59b0>"
      ]
     },
     "execution_count": 27,
     "metadata": {},
     "output_type": "execute_result"
    },
    {
     "data": {
      "image/png": "[encoded data removed]",
      "text/plain": [
       "<matplotlib.figure.Figure at 0x2749dc787b8>"
      ]
     },
     "metadata": {},
     "output_type": "display_data"
    }
   ],
   "source": [
    "often_changes = team_change[team_change.st_to_name.isin(st_change)].copy()\n",
    "often_changes['num'] = often_changes.st_to_name.map(a)\n",
    "often_changes = often_changes.sort_values('num', ascending=False)\n",
    "add_header('Среднее время на смену бригады на станциях с большим количеством смен:')\n",
    "add_line(often_changes.groupby('st_to_name').stop_time_h.mean().sort_values(ascending=False).head(10))\n",
    "sns.set(style='whitegrid', context='notebook', palette='muted', color_codes=True)\n",
    "plt.figure(figsize=(10, .6 * len(st_change)))\n",
    "sns.boxplot(x='stop_time_h', y='st_to_name', data=often_changes, whis=np.inf, color='c', width=0.5)\n",
    "sns.stripplot(x='stop_time_h', y='st_to_name', data=often_changes, jitter=True, size=3, color='b')\n",
    "plt.xlabel('Время на смену бригады')\n",
    "plt.ylabel('')"
   ]
  },
  {
   "cell_type": "code",
   "execution_count": 28,
   "metadata": {
    "collapsed": false
   },
   "outputs": [
    {
     "name": "stdout",
     "output_type": "stream",
     "text": [
      "Всего 37 случаев смены бригад с длительной стоянкой. Примеры:\n",
      "   train st_from_name       st_to_name     team next_team  stop_time_h\n",
      " 1002701   НОВЫЙ УОЯН  СЕВЕРОБАЙКАЛЬСК  9032021   9271008        10.40\n",
      " 1002725   НОВЫЙ УОЯН  СЕВЕРОБАЙКАЛЬСК  9032418   9271020         9.77\n",
      " 1002621   НОВЫЙ УОЯН  СЕВЕРОБАЙКАЛЬСК  9032036   9032031         9.04\n",
      " 1002729   НОВЫЙ УОЯН  СЕВЕРОБАЙКАЛЬСК  9032026   9271017         8.75\n",
      " 1002711   НОВЫЙ УОЯН  СЕВЕРОБАЙКАЛЬСК  9032050   9032030         8.56\n",
      " 1002603   НОВЫЙ УОЯН  СЕВЕРОБАЙКАЛЬСК  9044002   9032011         7.11\n",
      " 1002703   НОВЫЙ УОЯН  СЕВЕРОБАЙКАЛЬСК  9032013   9271908         7.08\n",
      " 1002721   НОВЫЙ УОЯН  СЕВЕРОБАЙКАЛЬСК  9032014   9271009         6.75\n",
      " 1002721    АНГАРАКАН       НОВЫЙ УОЯН  9044011   9032014         6.10\n",
      " 1002703    АНГАРАКАН       НОВЫЙ УОЯН  9044010   9032013         6.02\n",
      " 1002615   НОВЫЙ УОЯН  СЕВЕРОБАЙКАЛЬСК  9032025   9032420         5.86\n",
      " 1002114        ТУРМА        ВИХОРЕВКА  9244003   9244015         5.84\n",
      " 1002601   НОВЫЙ УОЯН  СЕВЕРОБАЙКАЛЬСК  9032028   9032435         5.40\n",
      " 1002120        ТУРМА        ВИХОРЕВКА  9200024   9244016         5.28\n",
      " 1002112        ТУРМА        ВИХОРЕВКА  9200022   9244012         5.27\n",
      " 1002412          ТЫЯ  СЕВЕРОБАЙКАЛЬСК  9271025   9044002         5.17\n",
      " 1002313     МОРГУДОН        ВИХОРЕВКА  9244030   9244014         4.80\n",
      " 1002118        ТУРМА        ВИХОРЕВКА  9244004   9257005         4.58\n",
      " 1002613   НОВЫЙ УОЯН  СЕВЕРОБАЙКАЛЬСК  9032024   9032010         4.53\n",
      " 1002725    АНГАРАКАН       НОВЫЙ УОЯН  9044013   9032418         4.35\n",
      "\n",
      "Полный план по одному из таких поездов:\n",
      "   train         st_from_name           st_to_name time_start_f   time_end_f     loco     team\n",
      " 1002701              ТАКСИМО             КАЗАНКАН  29/07 20:10  29/07 22:09  2000771  9044008\n",
      " 1002701             КАЗАНКАН            АНГАРАКАН  29/07 22:09  29/07 23:14  2000771  9044008\n",
      " 1002701            АНГАРАКАН           НОВЫЙ УОЯН  29/07 23:14  30/07 01:02  2000771  9044008\n",
      " 1002701           НОВЫЙ УОЯН      СЕВЕРОБАЙКАЛЬСК  30/07 02:55  30/07 07:00  2000771  9032021\n",
      " 1002701      СЕВЕРОБАЙКАЛЬСК                  ТЫЯ  30/07 17:25  30/07 17:57  2000771  9271008\n",
      " 1002701                  ТЫЯ                ДАБАН  30/07 17:57  30/07 18:34  2000771  9271008\n",
      " 1002701                ДАБАН              КУНЕРМА  30/07 18:34  30/07 19:34  2000771  9271008\n",
      " 1002701              КУНЕРМА              КИРЕНГА  30/07 19:34  30/07 21:40  2000771  9271008\n",
      " 1002701              КИРЕНГА               НЕБЕЛЬ  30/07 21:40  30/07 22:54  2000771  9271008\n",
      " 1002701               НЕБЕЛЬ              ТАКОВКА  30/07 22:54  30/07 23:29  2000771  9271008\n",
      " 1002701              ТАКОВКА                  НИЯ  30/07 23:29  30/07 23:50  2000771  9271008\n",
      " 1002701                  НИЯ             ЗВЕЗДНАЯ  30/07 23:50  31/07 00:54  2000771  9271008\n",
      " 1002701             ЗВЕЗДНАЯ            ЧУДНИЧНЫЙ  31/07 00:54  31/07 01:37  2000771  9271008\n",
      " 1002701            ЧУДНИЧНЫЙ       ЛЕНА-ВОСТОЧНАЯ  31/07 01:37  31/07 02:09  2000771  9271008\n",
      " 1002701       ЛЕНА-ВОСТОЧНАЯ               ЯКУРИМ  31/07 02:09  31/07 02:16  2000771  9271008\n",
      " 1002701               ЯКУРИМ                 ЛЕНА  31/07 02:16  31/07 02:30  2000771  9271008\n",
      " 1002701                 ЛЕНА            ХРЕБТОВАЯ  31/07 07:30  31/07 10:24  2000301       -1\n",
      " 1002701            ХРЕБТОВАЯ  КОРШУНИХА-АНГАРСКАЯ  31/07 10:24  31/07 10:58  2000301       -1\n",
      " 1002701  КОРШУНИХА-АНГАРСКАЯ       ГИДРОСТРОИТЕЛЬ  31/07 10:58  31/07 15:10  2000301       -1\n",
      " 1002701       ГИДРОСТРОИТЕЛЬ     ПАДУНСКИЕ ПОРОГИ  31/07 15:10  31/07 15:38  2000301       -1\n",
      " 1002701     ПАДУНСКИЕ ПОРОГИ          ГАЛАЧИНСКИЙ  31/07 15:38  31/07 16:01  2000301       -1\n",
      " 1002701          ГАЛАЧИНСКИЙ             МОРГУДОН  31/07 16:01  31/07 16:35  2000301       -1\n",
      " 1002701             МОРГУДОН            ВИХОРЕВКА  31/07 16:35  31/07 16:53  2000301       -1\n",
      " 1002701            ВИХОРЕВКА                ТУРМА  31/07 18:39  31/07 19:31  2000301       -1\n",
      " 1002701                ТУРМА                ТОРЕЯ  31/07 19:31  31/07 20:27  2000301       -1\n",
      " 1002701                ТОРЕЯ               ТАЙШЕТ  31/07 20:27  31/07 23:59  2000301       -1\n",
      " 1002701               ТАЙШЕТ                 ЮРТЫ  01/08 02:17  01/08 02:56       -1       -1\n",
      "\n",
      "Станции, на которых чаще всего происходили длительные стоянки на смену бригад:\n",
      "СЕВЕРОБАЙКАЛЬСК        14\n",
      "ВИХОРЕВКА              11\n",
      "КОРШУНИХА-АНГАРСКАЯ     7\n",
      "НОВЫЙ УОЯН              5\n"
     ]
    }
   ],
   "source": [
    "cols = ['train', 'st_from_name', 'st_to_name', 'team', 'next_team', 'stop_time_h']\n",
    "long_change = team_change[team_change.stop_time > MAX_TEAM_STOP].sort_values('stop_time', ascending=False)[cols]\n",
    "if not long_change.empty:\n",
    "    add_header('Всего %d случаев смены бригад с длительной стоянкой. Примеры:' % long_change.train.count())\n",
    "    add_line(long_change[cols].head(20))\n",
    "    add_line('')\n",
    "    cols = ['train', 'st_from_name', 'st_to_name', 'time_start_f', 'time_end_f', 'loco', 'team']\n",
    "    add_header('Полный план по одному из таких поездов:')\n",
    "    for train in long_change.train.values[:1]:\n",
    "        add_line(train_plan[train_plan.train == train][cols])\n",
    "    add_line('')\n",
    "    add_header('Станции, на которых чаще всего происходили длительные стоянки на смену бригад:')\n",
    "    add_line(long_change.st_to_name.value_counts().head(10))\n",
    "else:\n",
    "    add_header('Нет поездов, у которых смена бригады происходит более 6 часов')"
   ]
  },
  {
   "cell_type": "code",
   "execution_count": 29,
   "metadata": {
    "collapsed": false
   },
   "outputs": [
    {
     "data": {
      "text/html": [
       "<div>\n",
       "<table border=\"1\" class=\"dataframe\">\n",
       "  <thead>\n",
       "    <tr style=\"text-align: right;\">\n",
       "      <th></th>\n",
       "      <th>loco</th>\n",
       "      <th>st_from_name</th>\n",
       "      <th>st_to_name</th>\n",
       "      <th>time_start_f</th>\n",
       "      <th>time_end_f</th>\n",
       "      <th>state</th>\n",
       "      <th>train</th>\n",
       "    </tr>\n",
       "  </thead>\n",
       "  <tbody>\n",
       "    <tr>\n",
       "      <th>1587</th>\n",
       "      <td>2000102</td>\n",
       "      <td>ТАЙШЕТ</td>\n",
       "      <td>ТОРЕЯ</td>\n",
       "      <td>29/07 23:25</td>\n",
       "      <td>30/07 03:28</td>\n",
       "      <td>1</td>\n",
       "      <td>1002102</td>\n",
       "    </tr>\n",
       "    <tr>\n",
       "      <th>1588</th>\n",
       "      <td>2000102</td>\n",
       "      <td>ТОРЕЯ</td>\n",
       "      <td>ТУРМА</td>\n",
       "      <td>30/07 03:28</td>\n",
       "      <td>30/07 04:27</td>\n",
       "      <td>1</td>\n",
       "      <td>1002102</td>\n",
       "    </tr>\n",
       "    <tr>\n",
       "      <th>1589</th>\n",
       "      <td>2000102</td>\n",
       "      <td>ТУРМА</td>\n",
       "      <td>ВИХОРЕВКА</td>\n",
       "      <td>30/07 04:27</td>\n",
       "      <td>30/07 04:57</td>\n",
       "      <td>1</td>\n",
       "      <td>1002102</td>\n",
       "    </tr>\n",
       "    <tr>\n",
       "      <th>1590</th>\n",
       "      <td>2000102</td>\n",
       "      <td>ВИХОРЕВКА</td>\n",
       "      <td>МОРГУДОН</td>\n",
       "      <td>30/07 06:20</td>\n",
       "      <td>30/07 06:39</td>\n",
       "      <td>1</td>\n",
       "      <td>1002102</td>\n",
       "    </tr>\n",
       "    <tr>\n",
       "      <th>1591</th>\n",
       "      <td>2000102</td>\n",
       "      <td>МОРГУДОН</td>\n",
       "      <td>ГАЛАЧИНСКИЙ</td>\n",
       "      <td>30/07 06:39</td>\n",
       "      <td>30/07 07:35</td>\n",
       "      <td>1</td>\n",
       "      <td>1002102</td>\n",
       "    </tr>\n",
       "    <tr>\n",
       "      <th>1592</th>\n",
       "      <td>2000102</td>\n",
       "      <td>ГАЛАЧИНСКИЙ</td>\n",
       "      <td>ПАДУНСКИЕ ПОРОГИ</td>\n",
       "      <td>30/07 07:35</td>\n",
       "      <td>30/07 08:00</td>\n",
       "      <td>1</td>\n",
       "      <td>1002102</td>\n",
       "    </tr>\n",
       "    <tr>\n",
       "      <th>1593</th>\n",
       "      <td>2000102</td>\n",
       "      <td>ПАДУНСКИЕ ПОРОГИ</td>\n",
       "      <td>ГИДРОСТРОИТЕЛЬ</td>\n",
       "      <td>30/07 08:00</td>\n",
       "      <td>30/07 08:15</td>\n",
       "      <td>1</td>\n",
       "      <td>1002102</td>\n",
       "    </tr>\n",
       "    <tr>\n",
       "      <th>1594</th>\n",
       "      <td>2000102</td>\n",
       "      <td>ГИДРОСТРОИТЕЛЬ</td>\n",
       "      <td>КОРШУНИХА-АНГАРСКАЯ</td>\n",
       "      <td>30/07 08:15</td>\n",
       "      <td>30/07 12:14</td>\n",
       "      <td>1</td>\n",
       "      <td>1002102</td>\n",
       "    </tr>\n",
       "    <tr>\n",
       "      <th>1595</th>\n",
       "      <td>2000102</td>\n",
       "      <td>КОРШУНИХА-АНГАРСКАЯ</td>\n",
       "      <td>ХРЕБТОВАЯ</td>\n",
       "      <td>30/07 14:00</td>\n",
       "      <td>30/07 14:41</td>\n",
       "      <td>0</td>\n",
       "      <td>88880000074674</td>\n",
       "    </tr>\n",
       "    <tr>\n",
       "      <th>1596</th>\n",
       "      <td>2000102</td>\n",
       "      <td>ХРЕБТОВАЯ</td>\n",
       "      <td>ЛЕНА</td>\n",
       "      <td>30/07 14:41</td>\n",
       "      <td>30/07 17:13</td>\n",
       "      <td>0</td>\n",
       "      <td>88880000074674</td>\n",
       "    </tr>\n",
       "    <tr>\n",
       "      <th>1597</th>\n",
       "      <td>2000102</td>\n",
       "      <td>ЛЕНА</td>\n",
       "      <td>ЛЕНА</td>\n",
       "      <td>30/07 17:13</td>\n",
       "      <td>30/07 20:13</td>\n",
       "      <td>4</td>\n",
       "      <td>-1</td>\n",
       "    </tr>\n",
       "    <tr>\n",
       "      <th>1598</th>\n",
       "      <td>2000102</td>\n",
       "      <td>ЛЕНА</td>\n",
       "      <td>ХРЕБТОВАЯ</td>\n",
       "      <td>31/07 09:40</td>\n",
       "      <td>31/07 12:34</td>\n",
       "      <td>1</td>\n",
       "      <td>1002721</td>\n",
       "    </tr>\n",
       "    <tr>\n",
       "      <th>1599</th>\n",
       "      <td>2000102</td>\n",
       "      <td>ХРЕБТОВАЯ</td>\n",
       "      <td>КОРШУНИХА-АНГАРСКАЯ</td>\n",
       "      <td>31/07 12:34</td>\n",
       "      <td>31/07 13:08</td>\n",
       "      <td>1</td>\n",
       "      <td>1002721</td>\n",
       "    </tr>\n",
       "    <tr>\n",
       "      <th>1600</th>\n",
       "      <td>2000102</td>\n",
       "      <td>КОРШУНИХА-АНГАРСКАЯ</td>\n",
       "      <td>ГИДРОСТРОИТЕЛЬ</td>\n",
       "      <td>31/07 13:08</td>\n",
       "      <td>31/07 17:21</td>\n",
       "      <td>1</td>\n",
       "      <td>1002721</td>\n",
       "    </tr>\n",
       "    <tr>\n",
       "      <th>1601</th>\n",
       "      <td>2000102</td>\n",
       "      <td>ГИДРОСТРОИТЕЛЬ</td>\n",
       "      <td>ПАДУНСКИЕ ПОРОГИ</td>\n",
       "      <td>31/07 17:21</td>\n",
       "      <td>31/07 17:48</td>\n",
       "      <td>1</td>\n",
       "      <td>1002721</td>\n",
       "    </tr>\n",
       "    <tr>\n",
       "      <th>1602</th>\n",
       "      <td>2000102</td>\n",
       "      <td>ПАДУНСКИЕ ПОРОГИ</td>\n",
       "      <td>ГАЛАЧИНСКИЙ</td>\n",
       "      <td>31/07 17:48</td>\n",
       "      <td>31/07 18:12</td>\n",
       "      <td>1</td>\n",
       "      <td>1002721</td>\n",
       "    </tr>\n",
       "    <tr>\n",
       "      <th>1603</th>\n",
       "      <td>2000102</td>\n",
       "      <td>ГАЛАЧИНСКИЙ</td>\n",
       "      <td>МОРГУДОН</td>\n",
       "      <td>31/07 18:12</td>\n",
       "      <td>31/07 18:46</td>\n",
       "      <td>1</td>\n",
       "      <td>1002721</td>\n",
       "    </tr>\n",
       "    <tr>\n",
       "      <th>1604</th>\n",
       "      <td>2000102</td>\n",
       "      <td>МОРГУДОН</td>\n",
       "      <td>ВИХОРЕВКА</td>\n",
       "      <td>31/07 18:46</td>\n",
       "      <td>31/07 19:04</td>\n",
       "      <td>1</td>\n",
       "      <td>1002721</td>\n",
       "    </tr>\n",
       "    <tr>\n",
       "      <th>1605</th>\n",
       "      <td>2000102</td>\n",
       "      <td>ВИХОРЕВКА</td>\n",
       "      <td>ТУРМА</td>\n",
       "      <td>31/07 20:50</td>\n",
       "      <td>31/07 21:41</td>\n",
       "      <td>1</td>\n",
       "      <td>1002721</td>\n",
       "    </tr>\n",
       "    <tr>\n",
       "      <th>1606</th>\n",
       "      <td>2000102</td>\n",
       "      <td>ТУРМА</td>\n",
       "      <td>ТОРЕЯ</td>\n",
       "      <td>31/07 21:41</td>\n",
       "      <td>31/07 22:37</td>\n",
       "      <td>1</td>\n",
       "      <td>1002721</td>\n",
       "    </tr>\n",
       "    <tr>\n",
       "      <th>1607</th>\n",
       "      <td>2000102</td>\n",
       "      <td>ТОРЕЯ</td>\n",
       "      <td>ТАЙШЕТ</td>\n",
       "      <td>31/07 22:37</td>\n",
       "      <td>01/08 02:10</td>\n",
       "      <td>1</td>\n",
       "      <td>1002721</td>\n",
       "    </tr>\n",
       "  </tbody>\n",
       "</table>\n",
       "</div>"
      ],
      "text/plain": [
       "         loco         st_from_name           st_to_name time_start_f  \\\n",
       "1587  2000102               ТАЙШЕТ                ТОРЕЯ  29/07 23:25   \n",
       "1588  2000102                ТОРЕЯ                ТУРМА  30/07 03:28   \n",
       "1589  2000102                ТУРМА            ВИХОРЕВКА  30/07 04:27   \n",
       "1590  2000102            ВИХОРЕВКА             МОРГУДОН  30/07 06:20   \n",
       "1591  2000102             МОРГУДОН          ГАЛАЧИНСКИЙ  30/07 06:39   \n",
       "1592  2000102          ГАЛАЧИНСКИЙ     ПАДУНСКИЕ ПОРОГИ  30/07 07:35   \n",
       "1593  2000102     ПАДУНСКИЕ ПОРОГИ       ГИДРОСТРОИТЕЛЬ  30/07 08:00   \n",
       "1594  2000102       ГИДРОСТРОИТЕЛЬ  КОРШУНИХА-АНГАРСКАЯ  30/07 08:15   \n",
       "1595  2000102  КОРШУНИХА-АНГАРСКАЯ            ХРЕБТОВАЯ  30/07 14:00   \n",
       "1596  2000102            ХРЕБТОВАЯ                 ЛЕНА  30/07 14:41   \n",
       "1597  2000102                 ЛЕНА                 ЛЕНА  30/07 17:13   \n",
       "1598  2000102                 ЛЕНА            ХРЕБТОВАЯ  31/07 09:40   \n",
       "1599  2000102            ХРЕБТОВАЯ  КОРШУНИХА-АНГАРСКАЯ  31/07 12:34   \n",
       "1600  2000102  КОРШУНИХА-АНГАРСКАЯ       ГИДРОСТРОИТЕЛЬ  31/07 13:08   \n",
       "1601  2000102       ГИДРОСТРОИТЕЛЬ     ПАДУНСКИЕ ПОРОГИ  31/07 17:21   \n",
       "1602  2000102     ПАДУНСКИЕ ПОРОГИ          ГАЛАЧИНСКИЙ  31/07 17:48   \n",
       "1603  2000102          ГАЛАЧИНСКИЙ             МОРГУДОН  31/07 18:12   \n",
       "1604  2000102             МОРГУДОН            ВИХОРЕВКА  31/07 18:46   \n",
       "1605  2000102            ВИХОРЕВКА                ТУРМА  31/07 20:50   \n",
       "1606  2000102                ТУРМА                ТОРЕЯ  31/07 21:41   \n",
       "1607  2000102                ТОРЕЯ               ТАЙШЕТ  31/07 22:37   \n",
       "\n",
       "       time_end_f  state           train  \n",
       "1587  30/07 03:28      1         1002102  \n",
       "1588  30/07 04:27      1         1002102  \n",
       "1589  30/07 04:57      1         1002102  \n",
       "1590  30/07 06:39      1         1002102  \n",
       "1591  30/07 07:35      1         1002102  \n",
       "1592  30/07 08:00      1         1002102  \n",
       "1593  30/07 08:15      1         1002102  \n",
       "1594  30/07 12:14      1         1002102  \n",
       "1595  30/07 14:41      0  88880000074674  \n",
       "1596  30/07 17:13      0  88880000074674  \n",
       "1597  30/07 20:13      4              -1  \n",
       "1598  31/07 12:34      1         1002721  \n",
       "1599  31/07 13:08      1         1002721  \n",
       "1600  31/07 17:21      1         1002721  \n",
       "1601  31/07 17:48      1         1002721  \n",
       "1602  31/07 18:12      1         1002721  \n",
       "1603  31/07 18:46      1         1002721  \n",
       "1604  31/07 19:04      1         1002721  \n",
       "1605  31/07 21:41      1         1002721  \n",
       "1606  31/07 22:37      1         1002721  \n",
       "1607  01/08 02:10      1         1002721  "
      ]
     },
     "execution_count": 29,
     "metadata": {},
     "output_type": "execute_result"
    }
   ],
   "source": [
    "cols = ['loco', 'st_from_name', 'st_to_name', 'time_start_f', 'time_end_f', 'state', 'train']\n",
    "loco_plan[loco_plan.loco == '2000102'][cols]"
   ]
  },
  {
   "cell_type": "code",
   "execution_count": 30,
   "metadata": {
    "collapsed": false
   },
   "outputs": [
    {
     "name": "stdout",
     "output_type": "stream",
     "text": [
      "    team         st_from_name           st_to_name time_start_f   time_end_f  state     loco\n",
      " 9244012            ВИХОРЕВКА             МОРГУДОН  30/07 00:20  30/07 00:39      1  2000112\n",
      " 9244012             МОРГУДОН          ГАЛАЧИНСКИЙ  30/07 00:39  30/07 01:00      1  2000112\n",
      " 9244012          ГАЛАЧИНСКИЙ     ПАДУНСКИЕ ПОРОГИ  30/07 01:00  30/07 01:25      1  2000112\n",
      " 9244012     ПАДУНСКИЕ ПОРОГИ       ГИДРОСТРОИТЕЛЬ  30/07 01:25  30/07 01:40      1  2000112\n",
      " 9244012       ГИДРОСТРОИТЕЛЬ  КОРШУНИХА-АНГАРСКАЯ  30/07 01:40  30/07 05:39      1  2000112\n",
      " 9244012  КОРШУНИХА-АНГАРСКАЯ  КОРШУНИХА-АНГАРСКАЯ  30/07 06:09  30/07 09:09      4       -1\n",
      " 9244012  КОРШУНИХА-АНГАРСКАЯ  КОРШУНИХА-АНГАРСКАЯ  30/07 10:53  30/07 12:40      2       -1\n",
      " 9244012  КОРШУНИХА-АНГАРСКАЯ       ГИДРОСТРОИТЕЛЬ  30/07 12:40  30/07 16:38      1  2000114\n",
      " 9244012       ГИДРОСТРОИТЕЛЬ     ПАДУНСКИЕ ПОРОГИ  30/07 16:38  30/07 17:18      1  2000114\n",
      " 9244012     ПАДУНСКИЕ ПОРОГИ          ГАЛАЧИНСКИЙ  30/07 17:18  30/07 17:41      1  2000114\n",
      " 9244012          ГАЛАЧИНСКИЙ             МОРГУДОН  30/07 17:41  30/07 18:03      1  2000114\n",
      " 9244012             МОРГУДОН            ВИХОРЕВКА  30/07 18:03  30/07 18:21      1  2000114\n"
     ]
    }
   ],
   "source": [
    "cols = ['team', 'st_from_name', 'st_to_name', 'time_start_f', 'time_end_f', 'state', 'loco']\n",
    "print(team_plan[team_plan.team == '9244012'][cols].to_string(index=False))"
   ]
  },
  {
   "cell_type": "code",
   "execution_count": 31,
   "metadata": {
    "collapsed": false
   },
   "outputs": [
    {
     "data": {
      "text/html": [
       "<div>\n",
       "<table border=\"1\" class=\"dataframe\">\n",
       "  <thead>\n",
       "    <tr style=\"text-align: right;\">\n",
       "      <th></th>\n",
       "      <th>train</th>\n",
       "      <th>st_from_name</th>\n",
       "      <th>st_to_name</th>\n",
       "      <th>prev_end_f</th>\n",
       "      <th>time_start_f</th>\n",
       "      <th>time_end_f</th>\n",
       "    </tr>\n",
       "  </thead>\n",
       "  <tbody>\n",
       "    <tr>\n",
       "      <th>1559</th>\n",
       "      <td>1002212</td>\n",
       "      <td>ВИХОРЕВКА</td>\n",
       "      <td>МОРГУДОН</td>\n",
       "      <td></td>\n",
       "      <td>29/07 14:00</td>\n",
       "      <td>29/07 14:19</td>\n",
       "    </tr>\n",
       "    <tr>\n",
       "      <th>1509</th>\n",
       "      <td>1002214</td>\n",
       "      <td>ВИХОРЕВКА</td>\n",
       "      <td>МОРГУДОН</td>\n",
       "      <td></td>\n",
       "      <td>29/07 15:10</td>\n",
       "      <td>29/07 15:29</td>\n",
       "    </tr>\n",
       "    <tr>\n",
       "      <th>1465</th>\n",
       "      <td>1002216</td>\n",
       "      <td>ВИХОРЕВКА</td>\n",
       "      <td>МОРГУДОН</td>\n",
       "      <td></td>\n",
       "      <td>29/07 16:54</td>\n",
       "      <td>29/07 17:13</td>\n",
       "    </tr>\n",
       "    <tr>\n",
       "      <th>1247</th>\n",
       "      <td>1002206</td>\n",
       "      <td>ВИХОРЕВКА</td>\n",
       "      <td>МОРГУДОН</td>\n",
       "      <td></td>\n",
       "      <td>29/07 18:25</td>\n",
       "      <td>29/07 18:44</td>\n",
       "    </tr>\n",
       "    <tr>\n",
       "      <th>1276</th>\n",
       "      <td>1002204</td>\n",
       "      <td>ВИХОРЕВКА</td>\n",
       "      <td>МОРГУДОН</td>\n",
       "      <td></td>\n",
       "      <td>29/07 20:25</td>\n",
       "      <td>29/07 20:44</td>\n",
       "    </tr>\n",
       "    <tr>\n",
       "      <th>1286</th>\n",
       "      <td>1002202</td>\n",
       "      <td>ВИХОРЕВКА</td>\n",
       "      <td>МОРГУДОН</td>\n",
       "      <td></td>\n",
       "      <td>29/07 22:40</td>\n",
       "      <td>29/07 22:59</td>\n",
       "    </tr>\n",
       "    <tr>\n",
       "      <th>932</th>\n",
       "      <td>1002112</td>\n",
       "      <td>ВИХОРЕВКА</td>\n",
       "      <td>МОРГУДОН</td>\n",
       "      <td>29/07 19:03</td>\n",
       "      <td>30/07 00:20</td>\n",
       "      <td>30/07 00:39</td>\n",
       "    </tr>\n",
       "    <tr>\n",
       "      <th>906</th>\n",
       "      <td>1002114</td>\n",
       "      <td>ВИХОРЕВКА</td>\n",
       "      <td>МОРГУДОН</td>\n",
       "      <td>29/07 20:04</td>\n",
       "      <td>30/07 01:55</td>\n",
       "      <td>30/07 02:14</td>\n",
       "    </tr>\n",
       "    <tr>\n",
       "      <th>880</th>\n",
       "      <td>1002118</td>\n",
       "      <td>ВИХОРЕВКА</td>\n",
       "      <td>МОРГУДОН</td>\n",
       "      <td>29/07 22:20</td>\n",
       "      <td>30/07 02:55</td>\n",
       "      <td>30/07 03:14</td>\n",
       "    </tr>\n",
       "    <tr>\n",
       "      <th>1375</th>\n",
       "      <td>1002222</td>\n",
       "      <td>ВИХОРЕВКА</td>\n",
       "      <td>МОРГУДОН</td>\n",
       "      <td></td>\n",
       "      <td>30/07 03:35</td>\n",
       "      <td>30/07 03:54</td>\n",
       "    </tr>\n",
       "    <tr>\n",
       "      <th>870</th>\n",
       "      <td>1002120</td>\n",
       "      <td>ВИХОРЕВКА</td>\n",
       "      <td>МОРГУДОН</td>\n",
       "      <td>29/07 23:08</td>\n",
       "      <td>30/07 04:25</td>\n",
       "      <td>30/07 04:44</td>\n",
       "    </tr>\n",
       "    <tr>\n",
       "      <th>1636</th>\n",
       "      <td>1002224</td>\n",
       "      <td>ВИХОРЕВКА</td>\n",
       "      <td>МОРГУДОН</td>\n",
       "      <td></td>\n",
       "      <td>30/07 05:05</td>\n",
       "      <td>30/07 05:24</td>\n",
       "    </tr>\n",
       "    <tr>\n",
       "      <th>831</th>\n",
       "      <td>1002102</td>\n",
       "      <td>ВИХОРЕВКА</td>\n",
       "      <td>МОРГУДОН</td>\n",
       "      <td>30/07 04:57</td>\n",
       "      <td>30/07 06:20</td>\n",
       "      <td>30/07 06:39</td>\n",
       "    </tr>\n",
       "    <tr>\n",
       "      <th>787</th>\n",
       "      <td>1002106</td>\n",
       "      <td>ВИХОРЕВКА</td>\n",
       "      <td>МОРГУДОН</td>\n",
       "      <td>30/07 05:27</td>\n",
       "      <td>30/07 07:00</td>\n",
       "      <td>30/07 07:19</td>\n",
       "    </tr>\n",
       "    <tr>\n",
       "      <th>75</th>\n",
       "      <td>1002014</td>\n",
       "      <td>ВИХОРЕВКА</td>\n",
       "      <td>МОРГУДОН</td>\n",
       "      <td>30/07 06:27</td>\n",
       "      <td>30/07 08:00</td>\n",
       "      <td>30/07 08:19</td>\n",
       "    </tr>\n",
       "    <tr>\n",
       "      <th>290</th>\n",
       "      <td>1002016</td>\n",
       "      <td>ВИХОРЕВКА</td>\n",
       "      <td>МОРГУДОН</td>\n",
       "      <td>30/07 06:57</td>\n",
       "      <td>30/07 09:15</td>\n",
       "      <td>30/07 09:34</td>\n",
       "    </tr>\n",
       "    <tr>\n",
       "      <th>279</th>\n",
       "      <td>1002018</td>\n",
       "      <td>ВИХОРЕВКА</td>\n",
       "      <td>МОРГУДОН</td>\n",
       "      <td>30/07 07:27</td>\n",
       "      <td>30/07 10:10</td>\n",
       "      <td>30/07 10:29</td>\n",
       "    </tr>\n",
       "    <tr>\n",
       "      <th>252</th>\n",
       "      <td>1002020</td>\n",
       "      <td>ВИХОРЕВКА</td>\n",
       "      <td>МОРГУДОН</td>\n",
       "      <td>30/07 09:36</td>\n",
       "      <td>30/07 11:15</td>\n",
       "      <td>30/07 11:34</td>\n",
       "    </tr>\n",
       "    <tr>\n",
       "      <th>243</th>\n",
       "      <td>1002022</td>\n",
       "      <td>ВИХОРЕВКА</td>\n",
       "      <td>МОРГУДОН</td>\n",
       "      <td>30/07 10:21</td>\n",
       "      <td>30/07 11:40</td>\n",
       "      <td>30/07 11:59</td>\n",
       "    </tr>\n",
       "    <tr>\n",
       "      <th>452</th>\n",
       "      <td>1002032</td>\n",
       "      <td>ВИХОРЕВКА</td>\n",
       "      <td>МОРГУДОН</td>\n",
       "      <td>30/07 10:49</td>\n",
       "      <td>30/07 12:50</td>\n",
       "      <td>30/07 13:09</td>\n",
       "    </tr>\n",
       "    <tr>\n",
       "      <th>1622</th>\n",
       "      <td>1002226</td>\n",
       "      <td>ВИХОРЕВКА</td>\n",
       "      <td>МОРГУДОН</td>\n",
       "      <td></td>\n",
       "      <td>30/07 13:20</td>\n",
       "      <td>30/07 13:39</td>\n",
       "    </tr>\n",
       "    <tr>\n",
       "      <th>214</th>\n",
       "      <td>1002026</td>\n",
       "      <td>ВИХОРЕВКА</td>\n",
       "      <td>МОРГУДОН</td>\n",
       "      <td>30/07 14:02</td>\n",
       "      <td>30/07 15:40</td>\n",
       "      <td>30/07 15:59</td>\n",
       "    </tr>\n",
       "    <tr>\n",
       "      <th>175</th>\n",
       "      <td>1002028</td>\n",
       "      <td>ВИХОРЕВКА</td>\n",
       "      <td>МОРГУДОН</td>\n",
       "      <td>30/07 18:39</td>\n",
       "      <td>30/07 18:45</td>\n",
       "      <td>30/07 19:04</td>\n",
       "    </tr>\n",
       "    <tr>\n",
       "      <th>541</th>\n",
       "      <td>1002052</td>\n",
       "      <td>ВИХОРЕВКА</td>\n",
       "      <td>МОРГУДОН</td>\n",
       "      <td>30/07 20:38</td>\n",
       "      <td>30/07 21:25</td>\n",
       "      <td>30/07 21:44</td>\n",
       "    </tr>\n",
       "    <tr>\n",
       "      <th>463</th>\n",
       "      <td>1002058</td>\n",
       "      <td>ВИХОРЕВКА</td>\n",
       "      <td>МОРГУДОН</td>\n",
       "      <td>31/07 01:31</td>\n",
       "      <td>31/07 03:17</td>\n",
       "      <td>31/07 03:36</td>\n",
       "    </tr>\n",
       "    <tr>\n",
       "      <th>600</th>\n",
       "      <td>1002048</td>\n",
       "      <td>ВИХОРЕВКА</td>\n",
       "      <td>МОРГУДОН</td>\n",
       "      <td>31/07 00:30</td>\n",
       "      <td>31/07 05:35</td>\n",
       "      <td>31/07 05:54</td>\n",
       "    </tr>\n",
       "    <tr>\n",
       "      <th>564</th>\n",
       "      <td>1002050</td>\n",
       "      <td>ВИХОРЕВКА</td>\n",
       "      <td>МОРГУДОН</td>\n",
       "      <td>31/07 03:51</td>\n",
       "      <td>31/07 05:40</td>\n",
       "      <td>31/07 05:59</td>\n",
       "    </tr>\n",
       "    <tr>\n",
       "      <th>397</th>\n",
       "      <td>1002038</td>\n",
       "      <td>ВИХОРЕВКА</td>\n",
       "      <td>МОРГУДОН</td>\n",
       "      <td>31/07 02:54</td>\n",
       "      <td>31/07 06:26</td>\n",
       "      <td>31/07 06:45</td>\n",
       "    </tr>\n",
       "    <tr>\n",
       "      <th>485</th>\n",
       "      <td>1002056</td>\n",
       "      <td>ВИХОРЕВКА</td>\n",
       "      <td>МОРГУДОН</td>\n",
       "      <td>31/07 05:19</td>\n",
       "      <td>31/07 07:06</td>\n",
       "      <td>31/07 07:25</td>\n",
       "    </tr>\n",
       "    <tr>\n",
       "      <th>361</th>\n",
       "      <td>1002042</td>\n",
       "      <td>ВИХОРЕВКА</td>\n",
       "      <td>МОРГУДОН</td>\n",
       "      <td>31/07 04:33</td>\n",
       "      <td>31/07 08:08</td>\n",
       "      <td>31/07 08:27</td>\n",
       "    </tr>\n",
       "    <tr>\n",
       "      <th>322</th>\n",
       "      <td>1002046</td>\n",
       "      <td>ВИХОРЕВКА</td>\n",
       "      <td>МОРГУДОН</td>\n",
       "      <td>31/07 12:46</td>\n",
       "      <td>31/07 14:32</td>\n",
       "      <td>31/07 14:51</td>\n",
       "    </tr>\n",
       "    <tr>\n",
       "      <th>388</th>\n",
       "      <td>1002040</td>\n",
       "      <td>ВИХОРЕВКА</td>\n",
       "      <td>МОРГУДОН</td>\n",
       "      <td>31/07 14:15</td>\n",
       "      <td>31/07 16:01</td>\n",
       "      <td>31/07 16:20</td>\n",
       "    </tr>\n",
       "    <tr>\n",
       "      <th>425</th>\n",
       "      <td>1002034</td>\n",
       "      <td>ВИХОРЕВКА</td>\n",
       "      <td>МОРГУДОН</td>\n",
       "      <td>31/07 14:40</td>\n",
       "      <td>31/07 18:13</td>\n",
       "      <td>31/07 18:32</td>\n",
       "    </tr>\n",
       "  </tbody>\n",
       "</table>\n",
       "</div>"
      ],
      "text/plain": [
       "        train st_from_name st_to_name   prev_end_f time_start_f   time_end_f\n",
       "1559  1002212    ВИХОРЕВКА   МОРГУДОН               29/07 14:00  29/07 14:19\n",
       "1509  1002214    ВИХОРЕВКА   МОРГУДОН               29/07 15:10  29/07 15:29\n",
       "1465  1002216    ВИХОРЕВКА   МОРГУДОН               29/07 16:54  29/07 17:13\n",
       "1247  1002206    ВИХОРЕВКА   МОРГУДОН               29/07 18:25  29/07 18:44\n",
       "1276  1002204    ВИХОРЕВКА   МОРГУДОН               29/07 20:25  29/07 20:44\n",
       "1286  1002202    ВИХОРЕВКА   МОРГУДОН               29/07 22:40  29/07 22:59\n",
       "932   1002112    ВИХОРЕВКА   МОРГУДОН  29/07 19:03  30/07 00:20  30/07 00:39\n",
       "906   1002114    ВИХОРЕВКА   МОРГУДОН  29/07 20:04  30/07 01:55  30/07 02:14\n",
       "880   1002118    ВИХОРЕВКА   МОРГУДОН  29/07 22:20  30/07 02:55  30/07 03:14\n",
       "1375  1002222    ВИХОРЕВКА   МОРГУДОН               30/07 03:35  30/07 03:54\n",
       "870   1002120    ВИХОРЕВКА   МОРГУДОН  29/07 23:08  30/07 04:25  30/07 04:44\n",
       "1636  1002224    ВИХОРЕВКА   МОРГУДОН               30/07 05:05  30/07 05:24\n",
       "831   1002102    ВИХОРЕВКА   МОРГУДОН  30/07 04:57  30/07 06:20  30/07 06:39\n",
       "787   1002106    ВИХОРЕВКА   МОРГУДОН  30/07 05:27  30/07 07:00  30/07 07:19\n",
       "75    1002014    ВИХОРЕВКА   МОРГУДОН  30/07 06:27  30/07 08:00  30/07 08:19\n",
       "290   1002016    ВИХОРЕВКА   МОРГУДОН  30/07 06:57  30/07 09:15  30/07 09:34\n",
       "279   1002018    ВИХОРЕВКА   МОРГУДОН  30/07 07:27  30/07 10:10  30/07 10:29\n",
       "252   1002020    ВИХОРЕВКА   МОРГУДОН  30/07 09:36  30/07 11:15  30/07 11:34\n",
       "243   1002022    ВИХОРЕВКА   МОРГУДОН  30/07 10:21  30/07 11:40  30/07 11:59\n",
       "452   1002032    ВИХОРЕВКА   МОРГУДОН  30/07 10:49  30/07 12:50  30/07 13:09\n",
       "1622  1002226    ВИХОРЕВКА   МОРГУДОН               30/07 13:20  30/07 13:39\n",
       "214   1002026    ВИХОРЕВКА   МОРГУДОН  30/07 14:02  30/07 15:40  30/07 15:59\n",
       "175   1002028    ВИХОРЕВКА   МОРГУДОН  30/07 18:39  30/07 18:45  30/07 19:04\n",
       "541   1002052    ВИХОРЕВКА   МОРГУДОН  30/07 20:38  30/07 21:25  30/07 21:44\n",
       "463   1002058    ВИХОРЕВКА   МОРГУДОН  31/07 01:31  31/07 03:17  31/07 03:36\n",
       "600   1002048    ВИХОРЕВКА   МОРГУДОН  31/07 00:30  31/07 05:35  31/07 05:54\n",
       "564   1002050    ВИХОРЕВКА   МОРГУДОН  31/07 03:51  31/07 05:40  31/07 05:59\n",
       "397   1002038    ВИХОРЕВКА   МОРГУДОН  31/07 02:54  31/07 06:26  31/07 06:45\n",
       "485   1002056    ВИХОРЕВКА   МОРГУДОН  31/07 05:19  31/07 07:06  31/07 07:25\n",
       "361   1002042    ВИХОРЕВКА   МОРГУДОН  31/07 04:33  31/07 08:08  31/07 08:27\n",
       "322   1002046    ВИХОРЕВКА   МОРГУДОН  31/07 12:46  31/07 14:32  31/07 14:51\n",
       "388   1002040    ВИХОРЕВКА   МОРГУДОН  31/07 14:15  31/07 16:01  31/07 16:20\n",
       "425   1002034    ВИХОРЕВКА   МОРГУДОН  31/07 14:40  31/07 18:13  31/07 18:32"
      ]
     },
     "execution_count": 31,
     "metadata": {},
     "output_type": "execute_result"
    }
   ],
   "source": [
    "cols = ['train', 'st_from_name', 'st_to_name', 'prev_end_f', 'time_start_f', 'time_end_f']\n",
    "train_plan['prev_end_f'] = train_plan.time_end_f.shift(1)\n",
    "train_plan['train_start'] = train_plan.train != train_plan.train.shift(1)\n",
    "train_plan.loc[train_plan.train_start == True, 'prev_end_f'] = ''\n",
    "train_plan[(train_plan.st_from_name == 'ВИХОРЕВКА') & (train_plan.st_to_name == 'МОРГУДОН')].sort_values('time_start')[cols]"
   ]
  },
  {
   "cell_type": "code",
   "execution_count": 32,
   "metadata": {
    "collapsed": false
   },
   "outputs": [
    {
     "data": {
      "text/html": [
       "<div>\n",
       "<table border=\"1\" class=\"dataframe\">\n",
       "  <thead>\n",
       "    <tr style=\"text-align: right;\">\n",
       "      <th></th>\n",
       "      <th>slot</th>\n",
       "      <th>st_from_name</th>\n",
       "      <th>st_to_name</th>\n",
       "      <th>time_start_f</th>\n",
       "      <th>time_end_f</th>\n",
       "    </tr>\n",
       "  </thead>\n",
       "  <tbody>\n",
       "    <tr>\n",
       "      <th>9047</th>\n",
       "      <td>200253963646</td>\n",
       "      <td>ВИХОРЕВКА</td>\n",
       "      <td>МОРГУДОН</td>\n",
       "      <td>29/07 05:09</td>\n",
       "      <td>29/07 05:28</td>\n",
       "    </tr>\n",
       "    <tr>\n",
       "      <th>14294</th>\n",
       "      <td>200253983857</td>\n",
       "      <td>ВИХОРЕВКА</td>\n",
       "      <td>МОРГУДОН</td>\n",
       "      <td>29/07 05:28</td>\n",
       "      <td>29/07 05:47</td>\n",
       "    </tr>\n",
       "    <tr>\n",
       "      <th>12718</th>\n",
       "      <td>200253973698</td>\n",
       "      <td>ВИХОРЕВКА</td>\n",
       "      <td>МОРГУДОН</td>\n",
       "      <td>29/07 06:21</td>\n",
       "      <td>29/07 06:40</td>\n",
       "    </tr>\n",
       "    <tr>\n",
       "      <th>19634</th>\n",
       "      <td>200254013731</td>\n",
       "      <td>ВИХОРЕВКА</td>\n",
       "      <td>МОРГУДОН</td>\n",
       "      <td>29/07 07:00</td>\n",
       "      <td>29/07 07:19</td>\n",
       "    </tr>\n",
       "    <tr>\n",
       "      <th>11975</th>\n",
       "      <td>200253983918</td>\n",
       "      <td>ВИХОРЕВКА</td>\n",
       "      <td>МОРГУДОН</td>\n",
       "      <td>29/07 07:13</td>\n",
       "      <td>29/07 07:32</td>\n",
       "    </tr>\n",
       "    <tr>\n",
       "      <th>14621</th>\n",
       "      <td>200253993863</td>\n",
       "      <td>ВИХОРЕВКА</td>\n",
       "      <td>МОРГУДОН</td>\n",
       "      <td>29/07 08:00</td>\n",
       "      <td>29/07 08:19</td>\n",
       "    </tr>\n",
       "    <tr>\n",
       "      <th>15028</th>\n",
       "      <td>200253993915</td>\n",
       "      <td>ВИХОРЕВКА</td>\n",
       "      <td>МОРГУДОН</td>\n",
       "      <td>29/07 09:16</td>\n",
       "      <td>29/07 09:35</td>\n",
       "    </tr>\n",
       "    <tr>\n",
       "      <th>15319</th>\n",
       "      <td>200253993961</td>\n",
       "      <td>ВИХОРЕВКА</td>\n",
       "      <td>МОРГУДОН</td>\n",
       "      <td>29/07 10:14</td>\n",
       "      <td>29/07 10:33</td>\n",
       "    </tr>\n",
       "    <tr>\n",
       "      <th>16552</th>\n",
       "      <td>200254003821</td>\n",
       "      <td>ВИХОРЕВКА</td>\n",
       "      <td>МОРГУДОН</td>\n",
       "      <td>29/07 11:17</td>\n",
       "      <td>29/07 11:36</td>\n",
       "    </tr>\n",
       "    <tr>\n",
       "      <th>17238</th>\n",
       "      <td>200254003902</td>\n",
       "      <td>ВИХОРЕВКА</td>\n",
       "      <td>МОРГУДОН</td>\n",
       "      <td>29/07 11:43</td>\n",
       "      <td>29/07 12:02</td>\n",
       "    </tr>\n",
       "    <tr>\n",
       "      <th>17822</th>\n",
       "      <td>200254003975</td>\n",
       "      <td>ВИХОРЕВКА</td>\n",
       "      <td>МОРГУДОН</td>\n",
       "      <td>29/07 12:54</td>\n",
       "      <td>29/07 13:13</td>\n",
       "    </tr>\n",
       "    <tr>\n",
       "      <th>19827</th>\n",
       "      <td>200254013754</td>\n",
       "      <td>ВИХОРЕВКА</td>\n",
       "      <td>МОРГУДОН</td>\n",
       "      <td>29/07 13:22</td>\n",
       "      <td>29/07 13:41</td>\n",
       "    </tr>\n",
       "    <tr>\n",
       "      <th>18344</th>\n",
       "      <td>200254004038</td>\n",
       "      <td>ВИХОРЕВКА</td>\n",
       "      <td>МОРГУДОН</td>\n",
       "      <td>29/07 13:42</td>\n",
       "      <td>29/07 14:01</td>\n",
       "    </tr>\n",
       "    <tr>\n",
       "      <th>21063</th>\n",
       "      <td>200254013894</td>\n",
       "      <td>ВИХОРЕВКА</td>\n",
       "      <td>МОРГУДОН</td>\n",
       "      <td>29/07 14:36</td>\n",
       "      <td>29/07 14:55</td>\n",
       "    </tr>\n",
       "    <tr>\n",
       "      <th>21564</th>\n",
       "      <td>200254013948</td>\n",
       "      <td>ВИХОРЕВКА</td>\n",
       "      <td>МОРГУДОН</td>\n",
       "      <td>29/07 15:41</td>\n",
       "      <td>29/07 16:00</td>\n",
       "    </tr>\n",
       "    <tr>\n",
       "      <th>21987</th>\n",
       "      <td>200254014018</td>\n",
       "      <td>ВИХОРЕВКА</td>\n",
       "      <td>МОРГУДОН</td>\n",
       "      <td>29/07 15:57</td>\n",
       "      <td>29/07 16:16</td>\n",
       "    </tr>\n",
       "    <tr>\n",
       "      <th>23487</th>\n",
       "      <td>200254023732</td>\n",
       "      <td>ВИХОРЕВКА</td>\n",
       "      <td>МОРГУДОН</td>\n",
       "      <td>29/07 18:25</td>\n",
       "      <td>29/07 18:44</td>\n",
       "    </tr>\n",
       "    <tr>\n",
       "      <th>30051</th>\n",
       "      <td>200254034084</td>\n",
       "      <td>ВИХОРЕВКА</td>\n",
       "      <td>МОРГУДОН</td>\n",
       "      <td>29/07 18:46</td>\n",
       "      <td>29/07 19:05</td>\n",
       "    </tr>\n",
       "    <tr>\n",
       "      <th>23943</th>\n",
       "      <td>200254023817</td>\n",
       "      <td>ВИХОРЕВКА</td>\n",
       "      <td>МОРГУДОН</td>\n",
       "      <td>29/07 19:05</td>\n",
       "      <td>29/07 19:24</td>\n",
       "    </tr>\n",
       "    <tr>\n",
       "      <th>24456</th>\n",
       "      <td>200254023878</td>\n",
       "      <td>ВИХОРЕВКА</td>\n",
       "      <td>МОРГУДОН</td>\n",
       "      <td>29/07 19:46</td>\n",
       "      <td>29/07 20:05</td>\n",
       "    </tr>\n",
       "    <tr>\n",
       "      <th>25116</th>\n",
       "      <td>200254023962</td>\n",
       "      <td>ВИХОРЕВКА</td>\n",
       "      <td>МОРГУДОН</td>\n",
       "      <td>29/07 20:29</td>\n",
       "      <td>29/07 20:48</td>\n",
       "    </tr>\n",
       "    <tr>\n",
       "      <th>25424</th>\n",
       "      <td>200254024005</td>\n",
       "      <td>ВИХОРЕВКА</td>\n",
       "      <td>МОРГУДОН</td>\n",
       "      <td>29/07 21:16</td>\n",
       "      <td>29/07 21:35</td>\n",
       "    </tr>\n",
       "    <tr>\n",
       "      <th>26414</th>\n",
       "      <td>200254024123</td>\n",
       "      <td>ВИХОРЕВКА</td>\n",
       "      <td>МОРГУДОН</td>\n",
       "      <td>29/07 21:26</td>\n",
       "      <td>29/07 21:45</td>\n",
       "    </tr>\n",
       "    <tr>\n",
       "      <th>26777</th>\n",
       "      <td>200254024181</td>\n",
       "      <td>ВИХОРЕВКА</td>\n",
       "      <td>МОРГУДОН</td>\n",
       "      <td>29/07 22:43</td>\n",
       "      <td>29/07 23:02</td>\n",
       "    </tr>\n",
       "    <tr>\n",
       "      <th>27135</th>\n",
       "      <td>200254024240</td>\n",
       "      <td>ВИХОРЕВКА</td>\n",
       "      <td>МОРГУДОН</td>\n",
       "      <td>29/07 23:06</td>\n",
       "      <td>29/07 23:25</td>\n",
       "    </tr>\n",
       "    <tr>\n",
       "      <th>28257</th>\n",
       "      <td>200254033819</td>\n",
       "      <td>ВИХОРЕВКА</td>\n",
       "      <td>МОРГУДОН</td>\n",
       "      <td>30/07 00:20</td>\n",
       "      <td>30/07 00:39</td>\n",
       "    </tr>\n",
       "    <tr>\n",
       "      <th>28709</th>\n",
       "      <td>200254033882</td>\n",
       "      <td>ВИХОРЕВКА</td>\n",
       "      <td>МОРГУДОН</td>\n",
       "      <td>30/07 00:53</td>\n",
       "      <td>30/07 01:12</td>\n",
       "    </tr>\n",
       "    <tr>\n",
       "      <th>29279</th>\n",
       "      <td>200254033959</td>\n",
       "      <td>ВИХОРЕВКА</td>\n",
       "      <td>МОРГУДОН</td>\n",
       "      <td>30/07 01:55</td>\n",
       "      <td>30/07 02:14</td>\n",
       "    </tr>\n",
       "    <tr>\n",
       "      <th>29983</th>\n",
       "      <td>200254034072</td>\n",
       "      <td>ВИХОРЕВКА</td>\n",
       "      <td>МОРГУДОН</td>\n",
       "      <td>30/07 02:38</td>\n",
       "      <td>30/07 02:57</td>\n",
       "    </tr>\n",
       "    <tr>\n",
       "      <th>30816</th>\n",
       "      <td>200254034188</td>\n",
       "      <td>ВИХОРЕВКА</td>\n",
       "      <td>МОРГУДОН</td>\n",
       "      <td>30/07 02:57</td>\n",
       "      <td>30/07 03:16</td>\n",
       "    </tr>\n",
       "    <tr>\n",
       "      <th>31327</th>\n",
       "      <td>200254034273</td>\n",
       "      <td>ВИХОРЕВКА</td>\n",
       "      <td>МОРГУДОН</td>\n",
       "      <td>30/07 03:39</td>\n",
       "      <td>30/07 03:58</td>\n",
       "    </tr>\n",
       "    <tr>\n",
       "      <th>31945</th>\n",
       "      <td>200254034352</td>\n",
       "      <td>ВИХОРЕВКА</td>\n",
       "      <td>МОРГУДОН</td>\n",
       "      <td>30/07 04:27</td>\n",
       "      <td>30/07 04:46</td>\n",
       "    </tr>\n",
       "    <tr>\n",
       "      <th>33144</th>\n",
       "      <td>200254034518</td>\n",
       "      <td>ВИХОРЕВКА</td>\n",
       "      <td>МОРГУДОН</td>\n",
       "      <td>30/07 05:09</td>\n",
       "      <td>30/07 05:28</td>\n",
       "    </tr>\n",
       "    <tr>\n",
       "      <th>33543</th>\n",
       "      <td>200254043700</td>\n",
       "      <td>ВИХОРЕВКА</td>\n",
       "      <td>МОРГУДОН</td>\n",
       "      <td>30/07 05:28</td>\n",
       "      <td>30/07 05:47</td>\n",
       "    </tr>\n",
       "    <tr>\n",
       "      <th>33987</th>\n",
       "      <td>200254043764</td>\n",
       "      <td>ВИХОРЕВКА</td>\n",
       "      <td>МОРГУДОН</td>\n",
       "      <td>30/07 06:21</td>\n",
       "      <td>30/07 06:40</td>\n",
       "    </tr>\n",
       "    <tr>\n",
       "      <th>39929</th>\n",
       "      <td>200254343615</td>\n",
       "      <td>ВИХОРЕВКА</td>\n",
       "      <td>МОРГУДОН</td>\n",
       "      <td>30/07 07:00</td>\n",
       "      <td>30/07 07:19</td>\n",
       "    </tr>\n",
       "    <tr>\n",
       "      <th>34407</th>\n",
       "      <td>200254043825</td>\n",
       "      <td>ВИХОРЕВКА</td>\n",
       "      <td>МОРГУДОН</td>\n",
       "      <td>30/07 07:13</td>\n",
       "      <td>30/07 07:32</td>\n",
       "    </tr>\n",
       "    <tr>\n",
       "      <th>35175</th>\n",
       "      <td>200254323156</td>\n",
       "      <td>ВИХОРЕВКА</td>\n",
       "      <td>МОРГУДОН</td>\n",
       "      <td>30/07 08:00</td>\n",
       "      <td>30/07 08:19</td>\n",
       "    </tr>\n",
       "    <tr>\n",
       "      <th>35594</th>\n",
       "      <td>200254323208</td>\n",
       "      <td>ВИХОРЕВКА</td>\n",
       "      <td>МОРГУДОН</td>\n",
       "      <td>30/07 09:16</td>\n",
       "      <td>30/07 09:35</td>\n",
       "    </tr>\n",
       "    <tr>\n",
       "      <th>35932</th>\n",
       "      <td>200254323254</td>\n",
       "      <td>ВИХОРЕВКА</td>\n",
       "      <td>МОРГУДОН</td>\n",
       "      <td>30/07 10:14</td>\n",
       "      <td>30/07 10:33</td>\n",
       "    </tr>\n",
       "    <tr>\n",
       "      <th>37448</th>\n",
       "      <td>200254333114</td>\n",
       "      <td>ВИХОРЕВКА</td>\n",
       "      <td>МОРГУДОН</td>\n",
       "      <td>30/07 11:17</td>\n",
       "      <td>30/07 11:36</td>\n",
       "    </tr>\n",
       "    <tr>\n",
       "      <th>38051</th>\n",
       "      <td>200254333195</td>\n",
       "      <td>ВИХОРЕВКА</td>\n",
       "      <td>МОРГУДОН</td>\n",
       "      <td>30/07 11:43</td>\n",
       "      <td>30/07 12:02</td>\n",
       "    </tr>\n",
       "    <tr>\n",
       "      <th>38450</th>\n",
       "      <td>200254333268</td>\n",
       "      <td>ВИХОРЕВКА</td>\n",
       "      <td>МОРГУДОН</td>\n",
       "      <td>30/07 12:54</td>\n",
       "      <td>30/07 13:13</td>\n",
       "    </tr>\n",
       "    <tr>\n",
       "      <th>40068</th>\n",
       "      <td>200254343638</td>\n",
       "      <td>ВИХОРЕВКА</td>\n",
       "      <td>МОРГУДОН</td>\n",
       "      <td>30/07 13:22</td>\n",
       "      <td>30/07 13:41</td>\n",
       "    </tr>\n",
       "    <tr>\n",
       "      <th>38888</th>\n",
       "      <td>200254333331</td>\n",
       "      <td>ВИХОРЕВКА</td>\n",
       "      <td>МОРГУДОН</td>\n",
       "      <td>30/07 13:42</td>\n",
       "      <td>30/07 14:01</td>\n",
       "    </tr>\n",
       "    <tr>\n",
       "      <th>40933</th>\n",
       "      <td>200254343778</td>\n",
       "      <td>ВИХОРЕВКА</td>\n",
       "      <td>МОРГУДОН</td>\n",
       "      <td>30/07 14:36</td>\n",
       "      <td>30/07 14:55</td>\n",
       "    </tr>\n",
       "    <tr>\n",
       "      <th>41334</th>\n",
       "      <td>200254343832</td>\n",
       "      <td>ВИХОРЕВКА</td>\n",
       "      <td>МОРГУДОН</td>\n",
       "      <td>30/07 15:41</td>\n",
       "      <td>30/07 16:00</td>\n",
       "    </tr>\n",
       "    <tr>\n",
       "      <th>41672</th>\n",
       "      <td>200254343902</td>\n",
       "      <td>ВИХОРЕВКА</td>\n",
       "      <td>МОРГУДОН</td>\n",
       "      <td>30/07 15:57</td>\n",
       "      <td>30/07 16:16</td>\n",
       "    </tr>\n",
       "    <tr>\n",
       "      <th>42816</th>\n",
       "      <td>200254353616</td>\n",
       "      <td>ВИХОРЕВКА</td>\n",
       "      <td>МОРГУДОН</td>\n",
       "      <td>30/07 18:25</td>\n",
       "      <td>30/07 18:44</td>\n",
       "    </tr>\n",
       "    <tr>\n",
       "      <th>47108</th>\n",
       "      <td>200254363968</td>\n",
       "      <td>ВИХОРЕВКА</td>\n",
       "      <td>МОРГУДОН</td>\n",
       "      <td>30/07 18:46</td>\n",
       "      <td>30/07 19:05</td>\n",
       "    </tr>\n",
       "  </tbody>\n",
       "</table>\n",
       "</div>"
      ],
      "text/plain": [
       "               slot st_from_name st_to_name time_start_f   time_end_f\n",
       "9047   200253963646    ВИХОРЕВКА   МОРГУДОН  29/07 05:09  29/07 05:28\n",
       "14294  200253983857    ВИХОРЕВКА   МОРГУДОН  29/07 05:28  29/07 05:47\n",
       "12718  200253973698    ВИХОРЕВКА   МОРГУДОН  29/07 06:21  29/07 06:40\n",
       "19634  200254013731    ВИХОРЕВКА   МОРГУДОН  29/07 07:00  29/07 07:19\n",
       "11975  200253983918    ВИХОРЕВКА   МОРГУДОН  29/07 07:13  29/07 07:32\n",
       "14621  200253993863    ВИХОРЕВКА   МОРГУДОН  29/07 08:00  29/07 08:19\n",
       "15028  200253993915    ВИХОРЕВКА   МОРГУДОН  29/07 09:16  29/07 09:35\n",
       "15319  200253993961    ВИХОРЕВКА   МОРГУДОН  29/07 10:14  29/07 10:33\n",
       "16552  200254003821    ВИХОРЕВКА   МОРГУДОН  29/07 11:17  29/07 11:36\n",
       "17238  200254003902    ВИХОРЕВКА   МОРГУДОН  29/07 11:43  29/07 12:02\n",
       "17822  200254003975    ВИХОРЕВКА   МОРГУДОН  29/07 12:54  29/07 13:13\n",
       "19827  200254013754    ВИХОРЕВКА   МОРГУДОН  29/07 13:22  29/07 13:41\n",
       "18344  200254004038    ВИХОРЕВКА   МОРГУДОН  29/07 13:42  29/07 14:01\n",
       "21063  200254013894    ВИХОРЕВКА   МОРГУДОН  29/07 14:36  29/07 14:55\n",
       "21564  200254013948    ВИХОРЕВКА   МОРГУДОН  29/07 15:41  29/07 16:00\n",
       "21987  200254014018    ВИХОРЕВКА   МОРГУДОН  29/07 15:57  29/07 16:16\n",
       "23487  200254023732    ВИХОРЕВКА   МОРГУДОН  29/07 18:25  29/07 18:44\n",
       "30051  200254034084    ВИХОРЕВКА   МОРГУДОН  29/07 18:46  29/07 19:05\n",
       "23943  200254023817    ВИХОРЕВКА   МОРГУДОН  29/07 19:05  29/07 19:24\n",
       "24456  200254023878    ВИХОРЕВКА   МОРГУДОН  29/07 19:46  29/07 20:05\n",
       "25116  200254023962    ВИХОРЕВКА   МОРГУДОН  29/07 20:29  29/07 20:48\n",
       "25424  200254024005    ВИХОРЕВКА   МОРГУДОН  29/07 21:16  29/07 21:35\n",
       "26414  200254024123    ВИХОРЕВКА   МОРГУДОН  29/07 21:26  29/07 21:45\n",
       "26777  200254024181    ВИХОРЕВКА   МОРГУДОН  29/07 22:43  29/07 23:02\n",
       "27135  200254024240    ВИХОРЕВКА   МОРГУДОН  29/07 23:06  29/07 23:25\n",
       "28257  200254033819    ВИХОРЕВКА   МОРГУДОН  30/07 00:20  30/07 00:39\n",
       "28709  200254033882    ВИХОРЕВКА   МОРГУДОН  30/07 00:53  30/07 01:12\n",
       "29279  200254033959    ВИХОРЕВКА   МОРГУДОН  30/07 01:55  30/07 02:14\n",
       "29983  200254034072    ВИХОРЕВКА   МОРГУДОН  30/07 02:38  30/07 02:57\n",
       "30816  200254034188    ВИХОРЕВКА   МОРГУДОН  30/07 02:57  30/07 03:16\n",
       "31327  200254034273    ВИХОРЕВКА   МОРГУДОН  30/07 03:39  30/07 03:58\n",
       "31945  200254034352    ВИХОРЕВКА   МОРГУДОН  30/07 04:27  30/07 04:46\n",
       "33144  200254034518    ВИХОРЕВКА   МОРГУДОН  30/07 05:09  30/07 05:28\n",
       "33543  200254043700    ВИХОРЕВКА   МОРГУДОН  30/07 05:28  30/07 05:47\n",
       "33987  200254043764    ВИХОРЕВКА   МОРГУДОН  30/07 06:21  30/07 06:40\n",
       "39929  200254343615    ВИХОРЕВКА   МОРГУДОН  30/07 07:00  30/07 07:19\n",
       "34407  200254043825    ВИХОРЕВКА   МОРГУДОН  30/07 07:13  30/07 07:32\n",
       "35175  200254323156    ВИХОРЕВКА   МОРГУДОН  30/07 08:00  30/07 08:19\n",
       "35594  200254323208    ВИХОРЕВКА   МОРГУДОН  30/07 09:16  30/07 09:35\n",
       "35932  200254323254    ВИХОРЕВКА   МОРГУДОН  30/07 10:14  30/07 10:33\n",
       "37448  200254333114    ВИХОРЕВКА   МОРГУДОН  30/07 11:17  30/07 11:36\n",
       "38051  200254333195    ВИХОРЕВКА   МОРГУДОН  30/07 11:43  30/07 12:02\n",
       "38450  200254333268    ВИХОРЕВКА   МОРГУДОН  30/07 12:54  30/07 13:13\n",
       "40068  200254343638    ВИХОРЕВКА   МОРГУДОН  30/07 13:22  30/07 13:41\n",
       "38888  200254333331    ВИХОРЕВКА   МОРГУДОН  30/07 13:42  30/07 14:01\n",
       "40933  200254343778    ВИХОРЕВКА   МОРГУДОН  30/07 14:36  30/07 14:55\n",
       "41334  200254343832    ВИХОРЕВКА   МОРГУДОН  30/07 15:41  30/07 16:00\n",
       "41672  200254343902    ВИХОРЕВКА   МОРГУДОН  30/07 15:57  30/07 16:16\n",
       "42816  200254353616    ВИХОРЕВКА   МОРГУДОН  30/07 18:25  30/07 18:44\n",
       "47108  200254363968    ВИХОРЕВКА   МОРГУДОН  30/07 18:46  30/07 19:05"
      ]
     },
     "execution_count": 32,
     "metadata": {},
     "output_type": "execute_result"
    }
   ],
   "source": [
    "slot = pd.read_csv(FOLDER + 'slot.csv', dtype={'st_from':str, 'st_to':str})\n",
    "add_info(slot)\n",
    "cols = ['slot', 'st_from_name', 'st_to_name', 'time_start_f', 'time_end_f']\n",
    "slot[(slot.st_from_name == 'ВИХОРЕВКА') \n",
    "     & (slot.st_to_name == 'МОРГУДОН')].sort_values('time_start')[cols].drop_duplicates('time_start_f').head(50)"
   ]
  },
  {
   "cell_type": "markdown",
   "metadata": {},
   "source": [
    "<a id='dep_interval'></a>\n",
    "## Поиск поездов с интервалом между отправлениями меньше допустимого [ToC](#toc)\n",
    "\n",
    "Между отправлениями двух поездов с одной станции в одном направлении должно быть не менее какого-то критического времени (сейчас оно установлено в 5 минут). Исключение может делаться только для локомотивов резервом (они могут планироваться и в одно и то же время)."
   ]
  },
  {
   "cell_type": "code",
   "execution_count": 33,
   "metadata": {
    "collapsed": true
   },
   "outputs": [],
   "source": [
    "add_header('Поиск поездов с интервалом между отправлениями меньше допустимого', h=2, p=False)"
   ]
  },
  {
   "cell_type": "code",
   "execution_count": 34,
   "metadata": {
    "collapsed": true
   },
   "outputs": [],
   "source": [
    "# Параметры\n",
    "\n",
    "hor = 24 * 3600\n",
    "min_time_delta = 5 * 60 # 5 minutes"
   ]
  },
  {
   "cell_type": "code",
   "execution_count": 35,
   "metadata": {
    "collapsed": true
   },
   "outputs": [],
   "source": [
    "# Функция, которая возвращает датафрейм с коллизиями\n",
    "\n",
    "def check_time_collision(df):\n",
    "    df['link_end'] = (df.st_from != df.st_from.shift(-1)) | (df.st_to != df.st_to.shift(-1))\n",
    "    df['link_start'] = (df.st_from != df.st_from.shift(1)) | (df.st_to != df.st_to.shift(1))\n",
    "    df.loc[df.link_end == False, 'time_to_next'] = df.time_start.shift(-1) - df.time_start\n",
    "    df.loc[df.link_start == False, 'time_to_prev'] = df.time_start - df.time_start.shift(1)\n",
    "    collisions = df.loc[(df.time_to_next < min_time_delta) | (df.time_to_prev < min_time_delta)]\n",
    "    return collisions"
   ]
  },
  {
   "cell_type": "code",
   "execution_count": 36,
   "metadata": {
    "collapsed": false
   },
   "outputs": [
    {
     "name": "stdout",
     "output_type": "stream",
     "text": [
      "Время начала планирования: 29/07 18:00\n",
      "Количество коллизий (интервал между поездами меньше 5 минут):\n",
      "                            Тип Из всех поездов Из всех с подвязкой\n",
      "                     Все поезда               4                   4\n",
      "            Без учета резервных               0                   0\n",
      " Без учета резервных и фейковых               0                   0\n",
      "\n",
      "Реальные и фейковые поезда с интервалами меньше 5 минут (первые 20):\n",
      "Empty DataFrame\n",
      "Columns: [train, loco, team, st_from_name, st_to_name, time_start_f, time_end_f]\n",
      "Index: []\n"
     ]
    }
   ],
   "source": [
    "add_line('Время начала планирования: %s' % nice_time(current_time))\n",
    "cols = ['train', 'loco', 'team', 'st_from_name', 'st_to_name', 'time_start_f', 'time_end_f']\n",
    "train_plan['train_start'] = train_plan.train != train_plan.train.shift(1)\n",
    "train_plan.loc[train_plan.stop_time != -1, 'loco_start'] = (train_plan.loco != train_plan.loco.shift(1)) | \\\n",
    "                                                            (train_plan.train_start)\n",
    "train_plan.loc[train_plan.stop_time != -1, 'team_start'] = train_plan.team != train_plan.team.shift(1)\n",
    "mask = ((train_plan.loco_start == True) | (train_plan.team_start == True)) &\\\n",
    "        (train_plan.time_start < current_time + hor) & (train_plan.time_start >= current_time)\n",
    "assign_mask = (train_plan.loco != '-1') & (train_plan.team != '-1')\n",
    "cols_to_sort = ['st_from_name', 'st_to_name', 'time_start']\n",
    "start_times = train_plan.loc[mask].sort_values(cols_to_sort)\n",
    "start_times_no_res = train_plan.loc[mask & (train_plan.train_type.isin(['2', '9']))].sort_values(cols_to_sort)\n",
    "start_times_real = train_plan.loc[mask & (train_plan.train_type == '2')].sort_values(cols_to_sort)\n",
    "start_times_assign = train_plan.loc[mask & assign_mask].sort_values(cols_to_sort)\n",
    "start_times_assign_no_res = train_plan.loc[mask & assign_mask &\n",
    "                                           (train_plan.train_type.isin(['2', '9']))].sort_values(cols_to_sort)\n",
    "start_times_assign_real = train_plan.loc[mask & assign_mask & (train_plan.train_type == '2')].sort_values(cols_to_sort)\n",
    "\n",
    "all_coll = check_time_collision(start_times)\n",
    "no_res_coll = check_time_collision(start_times_no_res)\n",
    "real_coll = check_time_collision(start_times_real)\n",
    "all_assign_coll = check_time_collision(start_times_assign)\n",
    "no_res_assign_coll = check_time_collision(start_times_assign_no_res)\n",
    "real_assign_coll = check_time_collision(start_times_assign_real)\n",
    "train_n = len(start_times.train.drop_duplicates().index)\n",
    "res = pd.DataFrame([['Все поезда', 'Без учета резервных', 'Без учета резервных и фейковых'],                    \n",
    "                    [len(all_coll.index), len(no_res_coll.index), len(real_coll.index)],                    \n",
    "                    [len(all_assign_coll.index), len(no_res_assign_coll.index), len(real_assign_coll.index)]]).T\n",
    "res.columns = ['Тип', 'Из всех поездов', 'Из всех с подвязкой']\n",
    "add_header('Количество коллизий (интервал между поездами меньше %d минут):' % (min_time_delta / 60))\n",
    "add_line(res)\n",
    "add_header('\\nРеальные и фейковые поезда с интервалами меньше %d минут (первые 20):' % (min_time_delta / 60))\n",
    "add_line(no_res_coll[cols].head(20))"
   ]
  },
  {
   "cell_type": "markdown",
   "metadata": {},
   "source": [
    "<a id='ssp'></a>\n",
    "## Сравнение количества запланированных поездов с данными АС ССП [ToC](#toc)\n",
    "\n",
    "В файлах `SSP_KRS.csv` (и похожих - по другим дорогам) хранятся количества поездов, которые (в среднем) надо отправить с определенных стацниях в сутки. Это количество может меняться от суток к суткам (в зависимости от поездной обстановки в конкретный день), но примерную оценку по имеющимся данным сделать можно. Тест парсит файлы, берет оттуда необходимые направления и количества поездов, затем вычисляет запланированное количество по результатам планировщика и сравнивает."
   ]
  },
  {
   "cell_type": "code",
   "execution_count": 37,
   "metadata": {
    "collapsed": true
   },
   "outputs": [],
   "source": [
    "add_header('Сравнение количества запланированных поездов с данными АС ССП', h=2, p=False)"
   ]
  },
  {
   "cell_type": "code",
   "execution_count": 38,
   "metadata": {
    "collapsed": false
   },
   "outputs": [],
   "source": [
    "# Функция достает требуемые количества из датафрейма, полученного из файла, считает количество поездов в плане и возвращает\n",
    "# объединенный датафрейм с запланированным и требуемым количеством.\n",
    "\n",
    "def count_volumes(full_plan, df_ssp):\n",
    "    hor = 24 * 3600\n",
    "    df_ssp.dep_dir.fillna(0, inplace=True)    \n",
    "    df_ssp.loc[df_ssp.dep_dir == 0, 'depart'] = 0\n",
    "    df_ssp.dropna(subset=['depart'], inplace=True)\n",
    "    \n",
    "    ssp_st_froms = df_ssp.loc[df_ssp.dep_dir == 0].station\n",
    "    mask_time = (full_plan.time_start >= current_time) & (full_plan.time_start < current_time + hor)\n",
    "    mask_type = full_plan.train_type.isin(['2', '9'])\n",
    "    trains = full_plan.loc[mask_time & mask_type & full_plan.st_from_name.isin(ssp_st_froms)].\\\n",
    "                        groupby(['st_from_name', 'st_to_name']).train.count()\n",
    "    df_ssp.loc[df_ssp.dep_dir == 0, 'st_from_name'] = df_ssp.station\n",
    "    df_ssp = df_ssp.fillna(method='ffill')\n",
    "    df_ssp['st_to_name'] = df_ssp.station\n",
    "    replace_st_from_names = df_ssp.loc[df_ssp.dep_dir == 0, ['st_from_name', 'st_show_name']].drop_duplicates()\n",
    "    df_ssp['st_from_show'] = df_ssp.st_from_name.map(replace_st_from_names.set_index('st_from_name').st_show_name)\n",
    "    df_ssp['st_to_show'] = df_ssp.st_show_name    \n",
    "    return trains.to_frame().join(df_ssp[['st_from_name', 'st_to_name', 'depart', 'st_from_show', 'st_to_show', 'dep_dir']].\\\n",
    "                    set_index(['st_from_name', 'st_to_name'])).reset_index() if not trains.empty else pd.DataFrame()"
   ]
  },
  {
   "cell_type": "code",
   "execution_count": 39,
   "metadata": {
    "collapsed": true
   },
   "outputs": [],
   "source": [
    "# Эта и следующая функция нужны только для показа графиков. Сейчас они не используются, для анализа, в общем, достаточно табличек\n",
    "\n",
    "def show_barplot(df, road_name):\n",
    "    df['delta'] = df.train - df.depart\n",
    "    df['percent'] = np.round(100 * df.delta / df.depart, 2)\n",
    "    df['st_from_short'] = df.st_from_show.apply(lambda x: str(x)[:25])\n",
    "    df['st_to_short'] = df.st_to_show.apply(lambda x: str(x)[:25])\n",
    "    df['link'] = df.st_from_short + ' - ' + df.st_to_short \n",
    "    \n",
    "    print('%s железная дорога:' % road_name)\n",
    "    print('Среднее и медиана абсолютного отклонения: %.2f, %.2f' % (df.delta.mean(), df.delta.median()))\n",
    "    print('Среднее и медиана относительного отклонения (в процентах): %.2f%%, %.2f%%' % (df.percent.mean(), df.percent.median()))\n",
    "\n",
    "    b = df.sort_values('delta', ascending=False)\n",
    "    sns.set_style('whitegrid')\n",
    "    sns.set_context('poster', font_scale=0.7, rc={'axes.labelsize': 18})\n",
    "    c = sns.barplot(y='link', x='delta', data=df.sort_values('delta', ascending=False), palette='coolwarm')\n",
    "    xlabel = '%s ж/д: отклонение от данных АС ССП по отправлению поездов на сутки' % road_name\n",
    "    c.set(xlabel=xlabel, ylabel='')"
   ]
  },
  {
   "cell_type": "code",
   "execution_count": 40,
   "metadata": {
    "collapsed": false
   },
   "outputs": [],
   "source": [
    "VOL_PERCENT = 0.9\n",
    "\n",
    "def show_two_barplots(df, road_name, save=False, btype='less'):\n",
    "    df['st_from_short'] = df.st_from_show.apply(lambda x: str(x)[:25])\n",
    "    df['st_to_short'] = df.st_to_show.apply(lambda x: str(x)[:25])\n",
    "    df['link'] = df.st_from_short + ' - ' + df.st_to_short     \n",
    "    sns.set_style('whitegrid')    \n",
    "    sns.set_context('poster', font_scale=0.7, rc={'axes.titlesize':18, 'axes.labelsize':14})\n",
    "    fig, ax = plt.subplots(nrows=2, ncols=1, figsize=(14,20))    \n",
    "    df.depart.fillna(0, inplace=True)    \n",
    "    df['bottom'] = df.apply(lambda row: row.depart if row.train <= row.depart else row.train, axis=1)\n",
    "    df['top'] = df.apply(lambda row: row.train if row.train <= row.depart else row.depart, axis=1)     \n",
    "    \n",
    "    sns.set_color_codes('pastel')\n",
    "    sns.barplot(x='bottom', y='link', data=df[df.train <= VOL_PERCENT * df.depart].sort_values('bottom'), \n",
    "                label='Поезда из АС ССП', color=\"b\", orient='h', ax=ax[0])\n",
    "    sns.barplot(x='bottom', y='link', data=df[df.train * VOL_PERCENT > df.depart].sort_values('bottom'), \n",
    "                label='Поезда в результатах', color=\"r\", orient='h', ax=ax[1])\n",
    "    sns.set_color_codes('muted')\n",
    "    sns.barplot(x='top', y='link', data=df[df.train <= VOL_PERCENT * df.depart].sort_values('bottom'), \n",
    "                label='Поезда в результатах', color=\"b\", orient='h', ax=ax[0])\n",
    "    sns.barplot(x='top', y='link', data=df[df.train * VOL_PERCENT > df.depart].sort_values('bottom'), \n",
    "                label='Поезда из АС ССП', color=\"r\", orient='h', ax=ax[1])    \n",
    "    ax[0].legend(ncol=1, loc=\"upper right\", frameon=True)    \n",
    "    ax[1].legend(ncol=1, loc=\"upper right\", frameon=True)\n",
    "    ax[0].set(xlabel='', title='Нехватка запланированных поездов')\n",
    "    ax[1].set(xlabel='', title='Избыток запланированных поездов')\n",
    "    \n",
    "    sns.despine()\n",
    "    if save:\n",
    "        filename = road_name + '.png'\n",
    "        fig.savefig(REPORT_FOLDER + filename, bbox_inches='tight')\n",
    "        add_image(filename, scale=1.0)"
   ]
  },
  {
   "cell_type": "code",
   "execution_count": 41,
   "metadata": {
    "collapsed": false
   },
   "outputs": [],
   "source": [
    "def func(x):\n",
    "    return np.round(np.sqrt(np.mean(x ** 2)), 2)\n",
    "\n",
    "def print_ssp_stats(ssp, road_name):\n",
    "    df = count_volumes(train_plan, ssp)\n",
    "    if not df.empty:\n",
    "        df.rename(columns={'train':'planned', 'depart':'ssp'}, inplace=True)\n",
    "        df.dropna(subset=['ssp'], inplace=True)\n",
    "        df['delta'] = df.planned - df.ssp    \n",
    "        cols = ['st_from_name', 'st_to_show', 'dep_dir', 'planned', 'ssp', 'delta']            \n",
    "        add_header('Сравнение запланированного и \"нормативного\" количества поездов:')\n",
    "        add_line(df.sort_values(['dep_dir', 'delta'])[cols])    \n",
    "        add_header('\\nСреднее отклонение по количеству поездов по направлениям:')\n",
    "        add_line(df.groupby('dep_dir').delta.mean().apply(lambda x: np.round(x, 2)))\n",
    "        add_header('\\nСреднеквадратичное отклонение по направлениям:')\n",
    "        add_line(df.groupby('dep_dir').delta.agg(func))\n",
    "    else:\n",
    "        add_header('Дорога %s' % road_name, h=3)\n",
    "        add_line('Ни одного поезда не запланировано')"
   ]
  },
  {
   "cell_type": "code",
   "execution_count": 42,
   "metadata": {
    "collapsed": false
   },
   "outputs": [],
   "source": [
    "krs = pd.read_csv(FOLDER + 'mandatory/SSP_KRS.csv', sep=';')\n",
    "vsib = pd.read_csv(FOLDER + 'mandatory/SSP_VSIB.csv', sep=';')\n",
    "zab = pd.read_csv(FOLDER + 'mandatory/SSP_ZAB.csv', sep=';')\n",
    "dvs = pd.read_csv(FOLDER + 'mandatory/SSP_DVS.csv', sep=';')"
   ]
  },
  {
   "cell_type": "code",
   "execution_count": 43,
   "metadata": {
    "collapsed": false
   },
   "outputs": [
    {
     "name": "stdout",
     "output_type": "stream",
     "text": [
      "Дорога КРАС\n",
      "Ни одного поезда не запланировано\n"
     ]
    }
   ],
   "source": [
    "print_ssp_stats(krs, 'КРАС')"
   ]
  },
  {
   "cell_type": "code",
   "execution_count": 44,
   "metadata": {
    "collapsed": false
   },
   "outputs": [
    {
     "name": "stdout",
     "output_type": "stream",
     "text": [
      "Дорога ВСИБ\n",
      "Ни одного поезда не запланировано\n"
     ]
    }
   ],
   "source": [
    "print_ssp_stats(vsib, 'ВСИБ')"
   ]
  },
  {
   "cell_type": "code",
   "execution_count": 45,
   "metadata": {
    "collapsed": false
   },
   "outputs": [
    {
     "name": "stdout",
     "output_type": "stream",
     "text": [
      "Дорога ЗАБ\n",
      "Ни одного поезда не запланировано\n"
     ]
    }
   ],
   "source": [
    "print_ssp_stats(zab, 'ЗАБ')"
   ]
  },
  {
   "cell_type": "code",
   "execution_count": 46,
   "metadata": {
    "collapsed": false
   },
   "outputs": [
    {
     "name": "stdout",
     "output_type": "stream",
     "text": [
      "Дорога ДВС\n",
      "Ни одного поезда не запланировано\n"
     ]
    }
   ],
   "source": [
    "print_ssp_stats(dvs, 'ДВС')"
   ]
  },
  {
   "cell_type": "code",
   "execution_count": 47,
   "metadata": {
    "collapsed": false
   },
   "outputs": [],
   "source": [
    "# Пример построения barplot\n",
    "\n",
    "#krs = pd.read_csv(FOLDER + 'mandatory/SSP_KRS.csv', sep=';')\n",
    "#add_header('Красноярская дорога')\n",
    "#try:\n",
    "#    show_two_barplots(count_volumes(train_plan, krs), 'Красноярская', save=True, btype='less')\n",
    "#except:\n",
    "#    add_line('Красноярская дорога: ошибка в построении графика')"
   ]
  },
  {
   "cell_type": "markdown",
   "metadata": {},
   "source": [
    "<a id='info_plan_depart'></a>\n",
    "## Проверка соответствия первого участка в запланированном маршруте и исходного факта [ToC](#toc)\n",
    "\n",
    "Если поезд на начало планирования находится на каком-то перегоне (сообщение `train_depart`), то первый участок запланированного маршрута должен совпадать с участком местоположения поезда из входных данных.\n",
    "\n",
    "**TODO: Можно обернуть строки показа результатов в if-then-else, чтобы не выводились пустые датафреймы, а писалось красивое сообщение, что ошибок нет.**"
   ]
  },
  {
   "cell_type": "code",
   "execution_count": 48,
   "metadata": {
    "collapsed": true
   },
   "outputs": [],
   "source": [
    "add_header('Проверка соответствия первого участка в запланированном маршруте и исходного факта', h=2, p=False)"
   ]
  },
  {
   "cell_type": "code",
   "execution_count": 49,
   "metadata": {
    "collapsed": false
   },
   "outputs": [
    {
     "name": "stdout",
     "output_type": "stream",
     "text": [
      "Поезда, у которых первый участок в маршруте не совпадает с исходным (всего 0, показаны первые 10):\n",
      "Empty DataFrame\n",
      "Columns: [train, st_from_name, st_to_name, time_start_f, st_from_name_info, st_to_name_info, oper_time_f]\n",
      "Index: []\n",
      "\n",
      "Поезда, у которых время отправления на первый участок в маршруте не совпадает с фактическим (всего 0, показаны первые 10):\n",
      "Empty DataFrame\n",
      "Columns: [train, st_from_name, st_to_name, time_start_f, st_from_name_info, st_to_name_info, oper_time_f]\n",
      "Index: []\n"
     ]
    }
   ],
   "source": [
    "cols = ['train', 'st_from_name', 'st_to_name', 'time_start_f', 'st_from_name_info', 'st_to_name_info', 'oper_time_f']\n",
    "td_plan = train_plan[(train_plan.st_from_info.isnull() == False) \n",
    "                     & (train_plan.st_from_info != '-1')].drop_duplicates('train')\n",
    "td_bad_track = td_plan[(td_plan.st_from != td_plan.st_from_info) | (td_plan.st_to != td_plan.st_to_info)]\n",
    "add_header('Поезда, у которых первый участок в маршруте не совпадает с исходным (всего %d, показаны первые 10):' \n",
    "          % td_bad_track.train.count())\n",
    "add_line(td_bad_track[cols])\n",
    "\n",
    "td_bad_time = td_plan[(td_plan.time_start != td_plan.oper_time)]\n",
    "add_header('\\nПоезда, у которых время отправления на первый участок в маршруте не совпадает с фактическим (всего %d, показаны первые 10):' \n",
    "          % td_bad_time.train.count())\n",
    "pd.set_option('display.max_colwidth', 19)\n",
    "add_line(td_bad_time.sort_values('oper_time')[cols].head(10))"
   ]
  },
  {
   "cell_type": "markdown",
   "metadata": {},
   "source": [
    "<a id='time_leaps'></a>\n",
    "## Проверка скачков по времени назад [ToC](#toc)\n",
    "\n",
    "На запланированном маршруте поездов не должно быть случаев, когда время отправления с какой-то станции меньше времени прибытия на нее, а время прибытия на конечную станцию участка не больше времени отправления с начальной станции участка."
   ]
  },
  {
   "cell_type": "code",
   "execution_count": 50,
   "metadata": {
    "collapsed": true
   },
   "outputs": [],
   "source": [
    "add_header('Проверка скачков по времени назад', h=2, p=False)"
   ]
  },
  {
   "cell_type": "code",
   "execution_count": 51,
   "metadata": {
    "collapsed": false
   },
   "outputs": [
    {
     "name": "stdout",
     "output_type": "stream",
     "text": [
      "Не найдено поездов со скачками по времени назад в плане\n"
     ]
    }
   ],
   "source": [
    "train_plan['next_time_start'] = train_plan.time_start.shift(-1)\n",
    "train_plan['next_time_start_f'] = train_plan.time_start_f.shift(-1)\n",
    "train_plan['train_end'] = train_plan.train != train_plan.train.shift(-1)\n",
    "cols = ['train', 'st_from_name', 'st_to_name', 'time_start_f', 'time_end_f', 'next_time_start_f']\n",
    "leaps = train_plan[(train_plan.train_end == False) & (train_plan.next_time_start < train_plan.time_end)][cols]\n",
    "if leaps.empty:\n",
    "    add_header('Не найдено поездов со скачками по времени назад в плане')\n",
    "else:\n",
    "    add_header('Всего %d поездов со скачками по времени назад в плане. Примеры:' % leaps.drop_duplicates('train').train.count())\n",
    "    add_line(leaps.drop_duplicates('train').head(10)[cols])\n",
    "    train_id = leaps.drop_duplicates('train').iloc[0].train\n",
    "    add_line('')    \n",
    "    add_line(train_plan[train_plan.train == train_id][cols])"
   ]
  },
  {
   "cell_type": "markdown",
   "metadata": {},
   "source": [
    "<a id='irk_ssp'></a>"
   ]
  },
  {
   "cell_type": "markdown",
   "metadata": {},
   "source": [
    "## Сравнение количества передаваемых в планировщик реальных поездов с ССП [ToC](#toc)\n",
    "\n",
    "Детальное сравнение количества поездов для станции Иркутск.\n",
    "\n",
    "1. Сначала производится приблизительное определение поездов, которые в ближайшие сутки должны проследовать через Иркутск. Для этого:\n",
    "  1. Берутся поезда, у которых в маршруте есть Иркутск.\n",
    "  2. Берется начальное местоположение поезда, определяется его время хода до Иркутска. Времена хода берутся из файла `travel_times.csv`.\n",
    "  3. Добавляются допуски на стоянки для смены бригад. Считается, что смена бригады происходит каждые 6 часов и занимает примерно 1.5 часа. Поэтому время хода делится на 6 и умножается на 1.5 - так вычисляется добавка к \"чистому\" времени хода.\n",
    "  4. Время хода и допуски прибавляются к времени последней операции (или к времени начала планирования - для поездов в состоянии `arrive` или `ready`, у которых время последней операции меньше времени начала планирования).\n",
    "2. Затем оставляются только поезда, для которых время прибытия в Иркутск лежит в первых сутках планирования.\n",
    "3. Затем определяются поезда (из п.1), которых вообще нет в результатах планирования. Это проблемные поезда, причины их отсутствия надо исследовать.\n",
    "4. Затем для всех поездов определяется время прибытия в Иркутск. Если оно значительно отличается от предварительно рассчитанного (точного критерия ошибки тут нет - ориентировочно можно считать превышение на 3 часа значительным), то надо проверять, где этот поезд потерял время. "
   ]
  },
  {
   "cell_type": "code",
   "execution_count": 52,
   "metadata": {
    "collapsed": true
   },
   "outputs": [],
   "source": [
    "# Направления для проверки\n",
    "\n",
    "test = [('ИРКУТСК-СОРТИРОВОЧНЫЙ', 'ГОНЧАРОВО'), ('ИРКУТСК-СОРТИРОВОЧНЫЙ', 'БАТАРЕЙНАЯ')]"
   ]
  },
  {
   "cell_type": "code",
   "execution_count": 53,
   "metadata": {
    "collapsed": true
   },
   "outputs": [],
   "source": [
    "add_header('Детальное сравнение количества поездов с данными ССП по станции %s' % test[0][0], h=2, p=False)"
   ]
  },
  {
   "cell_type": "code",
   "execution_count": 54,
   "metadata": {
    "collapsed": false
   },
   "outputs": [],
   "source": [
    "routes = pd.read_csv(FOLDER + 'routes.csv', dtype={'st_from':str, 'st_to':str, 'train':str})\n",
    "add_info(routes)\n",
    "routes['link_name'] = list(zip(routes.st_from_name, routes.st_to_name))\n",
    "#def_tt = pd.read_csv(FOLDER + '/mandatory/travel_times_all_pairs.csv', sep=';').set_index(['st_from_name', 'st_to_name'])\n",
    "def_tt = pd.read_csv(FOLDER + '/mandatory/travel_times.csv', index_col=0)"
   ]
  },
  {
   "cell_type": "code",
   "execution_count": 55,
   "metadata": {
    "collapsed": false
   },
   "outputs": [
    {
     "name": "stdout",
     "output_type": "stream",
     "text": [
      "Всего 0 поездов, по которым ожидается проследование в направлении ИРКУТСК-СОРТИРОВОЧНЫЙ - ГОНЧАРОВО в первые сутки планирования\n"
     ]
    }
   ],
   "source": [
    "def get_arrive_time(row, station):\n",
    "    if (row.oper == 'depart') | (row.oper_time >= current_time):\n",
    "        start_time = row.oper_time\n",
    "    else:\n",
    "        start_time = current_time            \n",
    "    return start_time + row.tt + row.lag\n",
    "\n",
    "(test_st, test_st_dir) = test[0]\n",
    "train_info['st_loc_name'] = train_info.oper_location.map(st_names.name)\n",
    "train_info.st_loc_name.fillna(train_info.st_from_name, inplace=True)\n",
    "#train_info['tt'] = train_info.st_loc_name.apply(lambda x: def_tt.ix[x, test_st].tt)\n",
    "train_info['tt'] = train_info.st_loc_name.apply(lambda x: 48 * 3600 if type(x) == float else def_tt[x][test_st])\n",
    "\n",
    "train_info['lag'] = np.round((train_info.tt / 6) * 1.5)\n",
    "train_info['arr_time'] = train_info[['oper', 'oper_time', 'tt', 'lag']]\\\n",
    "                                    .apply(lambda row: get_arrive_time(row, test_st), axis=1)\n",
    "train_info['arr_time_f'] = train_info.arr_time.apply(nice_time)\n",
    "train_info['plan_time'] = train_info.train.map(train_plan[train_plan.st_from_name == test_st].set_index('train').time_start)\n",
    "train_info['plan_time_f'] = train_info.plan_time.apply(nice_time)\n",
    "train_info['delta'] = train_info.plan_time - train_info.arr_time\n",
    "train_info['delta_h'] = np.round((train_info.delta / 3600), 2)\n",
    "\n",
    "train_plan['link_name'] = list(zip(train_plan.st_from_name, train_plan.st_to_name))\n",
    "\n",
    "dir_trains = train_info[(train_info.number >= 1000)\n",
    "                        & (train_info.train.isin(routes[routes.link_name == (test_st, test_st_dir)].train))]\n",
    "cols = ['train', 'number', 'oper', 'st_loc_name', 'tt', 'lag', 'oper_time_f', 'arr_time_f', 'plan_time_f', 'delta_h']\n",
    "dir_trains = dir_trains[dir_trains.arr_time < current_time + 24 * 3600].sort_values('arr_time')\n",
    "#a[cols]\n",
    "add_header('Всего %d поездов, по которым ожидается проследование в направлении %s - %s в первые сутки планирования'\n",
    "           % (dir_trains.train.count(), test_st, test_st_dir))"
   ]
  },
  {
   "cell_type": "code",
   "execution_count": 56,
   "metadata": {
    "collapsed": false
   },
   "outputs": [
    {
     "name": "stdout",
     "output_type": "stream",
     "text": [
      "Всего 0 поездов на направлении ИРКУТСК-СОРТИРОВОЧНЫЙ - ГОНЧАРОВО, которых вообще нет в плане\n",
      "Empty DataFrame\n",
      "Columns: [train, number, oper, st_loc_name, tt, lag, oper_time_f, arr_time_f, plan_time_f, delta_h]\n",
      "Index: []\n"
     ]
    }
   ],
   "source": [
    "no_plan = dir_trains[dir_trains.plan_time.isnull()][cols]\n",
    "pd.set_option('display.max_colwidth', 40)\n",
    "add_header('Всего %d поездов на направлении %s - %s, которых вообще нет в плане' % (no_plan.train.count(), test_st, test_st_dir))\n",
    "add_line(no_plan)"
   ]
  },
  {
   "cell_type": "code",
   "execution_count": 57,
   "metadata": {
    "collapsed": false
   },
   "outputs": [
    {
     "name": "stdout",
     "output_type": "stream",
     "text": [
      "Всего 0 поездов (nan%), по которым запланировано проследование в направлении ИРКУТСК-СОРТИРОВОЧНЫЙ - ГОНЧАРОВО в первые сутки\n"
     ]
    }
   ],
   "source": [
    "plan_day = dir_trains[dir_trains.plan_time < current_time + 24 * 3600][cols]\n",
    "add_header('Всего %d поездов (%.2f%%), по которым запланировано проследование в направлении %s - %s в первые сутки'\n",
    "          % (plan_day.train.count(), 100 * plan_day.train.count() / dir_trains.train.count(), test_st, test_st_dir))"
   ]
  },
  {
   "cell_type": "code",
   "execution_count": 58,
   "metadata": {
    "collapsed": false
   },
   "outputs": [
    {
     "name": "stdout",
     "output_type": "stream",
     "text": [
      "Всего 0 поездов (nan%), у которых запланированное время проследования на участке ИРКУТСК-СОРТИРОВОЧНЫЙ - ГОНЧАРОВО сильно сдвинуто вперед\n",
      "Empty DataFrame\n",
      "Columns: [train, number, oper, st_loc_name, tt, lag, oper_time_f, arr_time_f, plan_time_f, delta_h]\n",
      "Index: []\n"
     ]
    }
   ],
   "source": [
    "# sns.set(context='notebook', style='whitegrid')\n",
    "# sns.set_color_codes('dark')\n",
    "# plt.figure(figsize=(10, 5))\n",
    "# sns.kdeplot(dir_trains[dir_trains.train.isin(plan_day.train) == False].dropna(subset=['delta']).delta / 3600, shade=True)\n",
    "\n",
    "delta_lim = 3 * 3600\n",
    "late_trains = dir_trains[dir_trains.delta > delta_lim]\n",
    "late_trains.sort_values('delta', ascending=False)[cols]\n",
    "add_header('Всего %d поездов (%.2f%%), у которых запланированное время проследования на участке %s - %s сильно сдвинуто вперед' \n",
    "           % (late_trains.train.count(), 100 * late_trains.train.count() / dir_trains.train.count(), test_st, test_st_dir))\n",
    "add_line(late_trains.sort_values('delta', ascending=False)[cols])"
   ]
  },
  {
   "cell_type": "code",
   "execution_count": 59,
   "metadata": {
    "collapsed": false,
    "scrolled": false
   },
   "outputs": [
    {
     "name": "stdout",
     "output_type": "stream",
     "text": [
      "Пример плана по одному из поездов, формированием НЕ на станции ИРКУТСК-СОРТИРОВОЧНЫЙ:\n",
      "Empty DataFrame\n",
      "Columns: [train, oper, oper_time_f, st_from_name, st_to_name, time_start_f, time_end_f, loco, team]\n",
      "Index: []\n"
     ]
    }
   ],
   "source": [
    "plan_cols = ['train', 'oper', 'oper_time_f', 'st_from_name', 'st_to_name', 'time_start_f', 'time_end_f', 'loco', 'team']\n",
    "add_header('Пример плана по одному из поездов, формированием НЕ на станции %s:' % test_st)\n",
    "#train_id = late_trains[late_trains.st_loc_name != test_st].sort_values('delta', ascending=False).iloc[0].train\n",
    "train_id = '200022625675'\n",
    "with pd.option_context('display.max_colwidth', 15):\n",
    "    add_line(train_plan[train_plan.train == train_id][plan_cols])"
   ]
  },
  {
   "cell_type": "code",
   "execution_count": 60,
   "metadata": {
    "collapsed": true
   },
   "outputs": [],
   "source": [
    "slot = pd.read_csv(FOLDER + 'slot.csv', dtype={'st_from':str, 'st_to':str})\n",
    "add_info(slot)\n",
    "slot['dt_start'] = slot.time_start.apply(datetime.datetime.fromtimestamp)"
   ]
  },
  {
   "cell_type": "code",
   "execution_count": 61,
   "metadata": {
    "collapsed": false
   },
   "outputs": [
    {
     "data": {
      "text/plain": [
       "Series([], Freq: H, Name: train, dtype: int64)"
      ]
     },
     "execution_count": 61,
     "metadata": {},
     "output_type": "execute_result"
    }
   ],
   "source": [
    "test = [('ТАЙШЕТ', 'ТОРЕЯ')]\n",
    "(test_st, test_st_dir) = test[0]\n",
    "plan_cols = ['train', 'st_from_name', 'st_to_name', 'dt_start', 'loco', 'team']\n",
    "train_plan['dt_start'] = train_plan.time_start.apply(datetime.datetime.fromtimestamp)\n",
    "a = train_plan[(train_plan.st_from_name == test_st) \n",
    "           & (train_plan.st_to_name == test_st_dir) & (train_plan.train_type.isin(['2', '9']))\n",
    "           & (train_plan.time_start >= current_time) & (train_plan.time_end < current_time + 24 * 3600)]\\\n",
    "    .sort_values('dt_start')[plan_cols]\n",
    "dep_volume = a.set_index('dt_start').resample('1H', how='count').train\n",
    "dep_volume"
   ]
  },
  {
   "cell_type": "code",
   "execution_count": 62,
   "metadata": {
    "collapsed": false
   },
   "outputs": [],
   "source": [
    "slot_volume = slot[(slot.st_from_name == test_st) & (slot.st_to_name == test_st_dir)]\\\n",
    "    .set_index('dt_start').resample('1H', how='count').slot\n",
    "dep_slot = dep_volume.to_frame().join(slot_volume)"
   ]
  },
  {
   "cell_type": "code",
   "execution_count": 63,
   "metadata": {
    "collapsed": false
   },
   "outputs": [],
   "source": [
    "# slot_volume = slot[(slot.st_from_name == test_st) & (slot.st_to_name == test_st_dir)]\\\n",
    "#     .set_index('dt_start').resample('300s')\n",
    "# slot_volume.dropna(subset=['slot'], inplace=True)\n",
    "# slot_volume['slot'] = slot_volume.slot.apply(int)\n",
    "# slot_volume = slot_volume.reset_index().set_index('slot')\n",
    "# slot_volume"
   ]
  },
  {
   "cell_type": "code",
   "execution_count": 64,
   "metadata": {
    "collapsed": false
   },
   "outputs": [
    {
     "name": "stdout",
     "output_type": "stream",
     "text": [
      "Empty DataFrame\n",
      "Columns: [train, slot]\n",
      "Index: []\n"
     ]
    }
   ],
   "source": [
    "a = dep_slot[dep_slot.train > dep_slot.slot]\n",
    "print(a)"
   ]
  },
  {
   "cell_type": "code",
   "execution_count": 65,
   "metadata": {
    "collapsed": false
   },
   "outputs": [],
   "source": [
    "pd.set_option('display.max_colwidth', 40)\n",
    "cols = ['train', 'st_from_name', 'st_to_name', 'dt_start']\n",
    "for dt in a.index:\n",
    "    dt_next = dt + datetime.timedelta(0, 3600, 0)\n",
    "    print(dt, dt_next)\n",
    "    print(train_plan[(train_plan.train_type.isin(['2', '9']))\n",
    "                    & (train_plan.st_from_name == test_st) & (train_plan.st_to_name == test_st_dir)\n",
    "                    & (train_plan.dt_start >= dt) & (train_plan.dt_start < dt_next)].sort_values('dt_start')[cols])\n",
    "    print(slot[(slot.st_from_name == test_st) & (slot.st_to_name == test_st_dir)\n",
    "                    & (slot.dt_start >= dt) & (slot.dt_start < dt_next)].sort_values('dt_start')[['slot', 'dt_start']])\n",
    "    print('-------')"
   ]
  },
  {
   "cell_type": "markdown",
   "metadata": {},
   "source": [
    "[В начало](#toc)\n",
    "## Планирование сдвоенных поездов и поездов, составляющих сдвоенные\n",
    "\n",
    "0. Сдвоенные поезда - это поезда, которые указаны в атрибуте `joint` у каких-либо других поездов.\n",
    "1. Сдвоенные поезда с точки зрения планирования ничем не отличаются от обычных поездов. Проверяется, что сдвоенные поезда планируются до своей конечной станции.\n",
    "2. Составляющие поезда должны планироваться от конечной станции сдвоенного поезда и только после прибытия сдвоенного поезда на конечную станцию."
   ]
  },
  {
   "cell_type": "code",
   "execution_count": 66,
   "metadata": {
    "collapsed": true
   },
   "outputs": [],
   "source": [
    "add_header('Планирование сдвоенных поездов и поездов, составляющих сдвоенные', h=2, p=False)"
   ]
  },
  {
   "cell_type": "code",
   "execution_count": 67,
   "metadata": {
    "collapsed": false
   },
   "outputs": [
    {
     "name": "stdout",
     "output_type": "stream",
     "text": [
      "Всего запланировано 0 сдвоенных поездов из 0 корректно переданных (nan%). Примеры незапланированных поездов:\n",
      "Empty DataFrame\n",
      "Columns: [train, number, ind434, oper, oper_time_f, loc_name]\n",
      "Index: []\n"
     ]
    }
   ],
   "source": [
    "train_info['is_arrive'] = train_info.last_st == train_info.loc_name\n",
    "train_plan['last_st_info'] = train_plan.train.map(train_info.set_index('train').last_st)\n",
    "joints = [t for t in train_info.joint.unique() if t != '-1']\n",
    "info_joints = train_info[train_info.train.isin(joints)]\n",
    "joints_to_plan = info_joints[info_joints.is_arrive == False]\n",
    "joints_planned = train_plan[train_plan.train.isin(joints_to_plan.train)]\n",
    "add_header('Всего запланировано %d сдвоенных поездов из %d корректно переданных (%.2f%%). Примеры незапланированных поездов:' \n",
    "           % (joints_planned.train.count(), joints_to_plan.train.count(), \n",
    "              100 * joints_planned.drop_duplicates('train').train.count() / joints_to_plan.train.count()))\n",
    "cols = ['train', 'number', 'ind434', 'oper', 'oper_time_f', 'loc_name']\n",
    "pd.set_option('display.max_colwidth', 50)\n",
    "add_line(joints_to_plan.head(10)[cols])"
   ]
  },
  {
   "cell_type": "code",
   "execution_count": 68,
   "metadata": {
    "collapsed": false
   },
   "outputs": [
    {
     "name": "stdout",
     "output_type": "stream",
     "text": [
      "Всего 0 сдвоенных поездов из 0 запланированных (nan%) запланированы НЕ до конца маршрута. Примеры:\n",
      "Empty DataFrame\n",
      "Columns: [train, number, ind434, st_from_name, st_to_name, last_st_info]\n",
      "Index: []\n"
     ]
    }
   ],
   "source": [
    "tl = joints_planned.drop_duplicates('train', keep='last')\n",
    "tl_no_end = tl[tl.st_to_name != tl.last_st_info]\n",
    "add_header('Всего %d сдвоенных поездов из %d запланированных (%.2f%%) запланированы НЕ до конца маршрута. Примеры:' \n",
    "           % (tl_no_end.train.count(), joints_planned.drop_duplicates('train').train.count(), \n",
    "              100 * tl_no_end.train.count() / joints_planned.drop_duplicates('train').train.count()))\n",
    "cols = ['train', 'number', 'ind434', 'st_from_name', 'st_to_name', 'last_st_info']\n",
    "add_line(tl_no_end.head(10)[cols])"
   ]
  },
  {
   "cell_type": "code",
   "execution_count": 69,
   "metadata": {
    "collapsed": false
   },
   "outputs": [
    {
     "data": {
      "text/html": [
       "<div>\n",
       "<table border=\"1\" class=\"dataframe\">\n",
       "  <thead>\n",
       "    <tr style=\"text-align: right;\">\n",
       "      <th></th>\n",
       "      <th>train</th>\n",
       "      <th>ind434</th>\n",
       "      <th>number</th>\n",
       "      <th>oper</th>\n",
       "      <th>oper_time_f</th>\n",
       "      <th>loc_name</th>\n",
       "    </tr>\n",
       "  </thead>\n",
       "  <tbody>\n",
       "  </tbody>\n",
       "</table>\n",
       "</div>"
      ],
      "text/plain": [
       "Empty DataFrame\n",
       "Columns: [train, ind434, number, oper, oper_time_f, loc_name]\n",
       "Index: []"
      ]
     },
     "execution_count": 69,
     "metadata": {},
     "output_type": "execute_result"
    }
   ],
   "source": [
    "inds = ['9300-248-9431', '9300-249-9700', '9300-573-9401', '9300-246-9431']\n",
    "cols = ['train', 'ind434', 'number', 'oper', 'oper_time_f', 'loc_name']\n",
    "train_info[train_info.ind434.isin(inds)][cols]"
   ]
  },
  {
   "cell_type": "code",
   "execution_count": 70,
   "metadata": {
    "collapsed": false
   },
   "outputs": [
    {
     "data": {
      "text/html": [
       "<div>\n",
       "<table border=\"1\" class=\"dataframe\">\n",
       "  <thead>\n",
       "    <tr style=\"text-align: right;\">\n",
       "      <th></th>\n",
       "      <th>train</th>\n",
       "      <th>ind434</th>\n",
       "      <th>oper</th>\n",
       "      <th>oper_time_f</th>\n",
       "      <th>st_from_name</th>\n",
       "      <th>st_to_name</th>\n",
       "      <th>time_start_f</th>\n",
       "      <th>time_end_f</th>\n",
       "    </tr>\n",
       "  </thead>\n",
       "  <tbody>\n",
       "  </tbody>\n",
       "</table>\n",
       "</div>"
      ],
      "text/plain": [
       "Empty DataFrame\n",
       "Columns: [train, ind434, oper, oper_time_f, st_from_name, st_to_name, time_start_f, time_end_f]\n",
       "Index: []"
      ]
     },
     "execution_count": 70,
     "metadata": {},
     "output_type": "execute_result"
    }
   ],
   "source": [
    "cols = ['train', 'ind434', 'oper', 'oper_time_f', 'st_from_name', 'st_to_name', 'time_start_f', 'time_end_f']\n",
    "train_plan[train_plan.ind434 == inds[3]][cols]"
   ]
  },
  {
   "cell_type": "code",
   "execution_count": 71,
   "metadata": {
    "collapsed": false
   },
   "outputs": [
    {
     "data": {
      "text/html": [
       "<div>\n",
       "<table border=\"1\" class=\"dataframe\">\n",
       "  <thead>\n",
       "    <tr style=\"text-align: right;\">\n",
       "      <th></th>\n",
       "      <th>train</th>\n",
       "      <th>ind434</th>\n",
       "      <th>oper</th>\n",
       "      <th>oper_time_f</th>\n",
       "      <th>st_from_name</th>\n",
       "      <th>st_to_name</th>\n",
       "      <th>time_start_f</th>\n",
       "      <th>time_end_f</th>\n",
       "    </tr>\n",
       "  </thead>\n",
       "  <tbody>\n",
       "  </tbody>\n",
       "</table>\n",
       "</div>"
      ],
      "text/plain": [
       "Empty DataFrame\n",
       "Columns: [train, ind434, oper, oper_time_f, st_from_name, st_to_name, time_start_f, time_end_f]\n",
       "Index: []"
      ]
     },
     "execution_count": 71,
     "metadata": {},
     "output_type": "execute_result"
    }
   ],
   "source": [
    "train_info[train_info.ind434.apply(lambda x: '9300-246' in x)]\n",
    "train_plan[train_plan.train == '200253661138'][cols]"
   ]
  },
  {
   "cell_type": "markdown",
   "metadata": {},
   "source": [
    "<a id='report'></a>\n",
    "### Экспорт в HTML [ToC](#toc)"
   ]
  },
  {
   "cell_type": "code",
   "execution_count": 72,
   "metadata": {
    "collapsed": false
   },
   "outputs": [
    {
     "name": "stdout",
     "output_type": "stream",
     "text": [
      "Отчет сформирован: report/train_report_20160818_140539.html\n"
     ]
    }
   ],
   "source": [
    "filename = REPORT_FOLDER + 'train_report_' + time.strftime('%Y%m%d_%H%M%S', time.localtime(time.time())) + '.html'\n",
    "create_report(filename)"
   ]
  }
 ],
 "metadata": {
  "kernelspec": {
   "display_name": "Python 3",
   "language": "python",
   "name": "python3"
  },
  "language_info": {
   "codemirror_mode": {
    "name": "ipython",
    "version": 3
   },
   "file_extension": ".py",
   "mimetype": "text/x-python",
   "name": "python",
   "nbconvert_exporter": "python",
   "pygments_lexer": "ipython3",
   "version": "3.5.1"
  }
 },
 "nbformat": 4,
 "nbformat_minor": 0
}
