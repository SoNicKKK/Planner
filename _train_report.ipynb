{
 "cells": [
  {
   "cell_type": "markdown",
   "metadata": {},
   "source": [
    "<a id='toc'></a>\n",
    "# Отчет по запланированным поездам"
   ]
  },
  {
   "cell_type": "markdown",
   "metadata": {},
   "source": [
    "1. [Проверка совпадения четности номеров поездов и направления движения](#oddity)\n",
    "2. [Анализ времен стоянок поездов на станциях смены локомотивов и бригад.](#stop_time)\n",
    "   1. [Смена локомотивов](#stop_loco)\n",
    "   2. [Смена бригад](#stop_team)\n",
    "4. [Выявление случаев \"близкой\" отправки поездов с одной станции (с интервалом меньше 5 минут)](#dep_interval)\n",
    "5. [Анализ отклонения запланированного на сутки количества поездов от данных АС ССП (данные средние по суткам).](#ssp)\n",
    "6. [Проверка соответствия первого участка в запланированном маршруте и исходного факта](#info_plan_depart)\n",
    "6. [Создание отчета](#report)"
   ]
  },
  {
   "cell_type": "markdown",
   "metadata": {},
   "source": [
    "### Функции для экспорта в HTML"
   ]
  },
  {
   "cell_type": "code",
   "execution_count": 368,
   "metadata": {
    "collapsed": true
   },
   "outputs": [],
   "source": [
    "report = ''\n",
    "FOLDER = 'resources/'\n",
    "REPORT_FOLDER = 'report/'\n",
    "PRINT = True"
   ]
  },
  {
   "cell_type": "code",
   "execution_count": 369,
   "metadata": {
    "collapsed": true
   },
   "outputs": [],
   "source": [
    "def add_line(line, p=PRINT):    \n",
    "    global report        \n",
    "    if p:                \n",
    "        if type(line) == pd.core.frame.DataFrame:\n",
    "            print(line.to_string(index=False))\n",
    "        elif type(line) == pd.core.series.Series:\n",
    "            print(line.to_string())\n",
    "        else:\n",
    "            print(line)\n",
    "    if type(line) == pd.core.frame.DataFrame:        \n",
    "        report += ('%s<br>' % line.to_html(index=False))\n",
    "    elif type(line) == pd.core.series.Series:\n",
    "        report += ('%s<br>' % line.to_frame().reset_index().to_html(index=False))\n",
    "    else:        \n",
    "        report += ('%s<br>' % line)\n",
    "    \n",
    "def add_header(header, h=4, p=PRINT):\n",
    "    global report\n",
    "    report += ('<h%d>%s</h%d>' % (h, header, h))\n",
    "    if p:\n",
    "        print(header)\n",
    "\n",
    "def add_image(filename, scale=0.4):\n",
    "    global report\n",
    "    report += ('<img src=\"%s\" alt=\"%s\" height=\"%d%%\">' % (filename, filename, int(scale * 100)))\n",
    "\n",
    "def create_report(filename):\n",
    "    global report\n",
    "    report = report.replace('<table border=\"1\" class=\"dataframe\">','<table class=\"table table-striped\">')\n",
    "    html_string = '''\n",
    "        <html>\n",
    "            <head>\n",
    "                <link rel=\"stylesheet\" href=\"skeleton.css\">\n",
    "                <style>body{ margin:20 20; background:whitesmoke; }\n",
    "                table {table-layout : fixed}\n",
    "                </style>\n",
    "            </head>\n",
    "            <body>                \n",
    "                %s\n",
    "            </body>\n",
    "        </html>''' % (report)\n",
    "    f = open(filename,'w', encoding='utf-8-sig')\n",
    "    f.write(html_string)\n",
    "    f.close()\n",
    "    print('Отчет сформирован: %s' % filename)"
   ]
  },
  {
   "cell_type": "markdown",
   "metadata": {},
   "source": [
    "## Загрузка и подготовка данных"
   ]
  },
  {
   "cell_type": "code",
   "execution_count": 370,
   "metadata": {
    "collapsed": false
   },
   "outputs": [
    {
     "name": "stdout",
     "output_type": "stream",
     "text": [
      "Время составления отчета: Jul 08, 17:22\n",
      "Время запуска планировщика: Jul 06, 14:41 (1467805287)\n"
     ]
    }
   ],
   "source": [
    "import numpy as np\n",
    "import pandas as pd\n",
    "import time, datetime\n",
    "from ast import literal_eval\n",
    "import matplotlib.pyplot as plt\n",
    "import seaborn as sns\n",
    "\n",
    "%matplotlib inline\n",
    "plt.style.use('fivethirtyeight')\n",
    "plt.rc('font', family='Tahoma')\n",
    "\n",
    "pd.set_option('max_rows', 50)\n",
    "\n",
    "time_format = '%b %d, %H:%M'\n",
    "\n",
    "start_time = time.time()\n",
    "current_time = pd.read_csv(FOLDER + 'current_time.csv').current_time[0]\n",
    "twr          = pd.read_csv(FOLDER + 'team_work_region.csv', converters={'twr':str})\n",
    "links        = pd.read_csv(FOLDER + 'link.csv', converters={'st_from':str, 'st_to':str})\n",
    "stations     = pd.read_csv(FOLDER + 'station.csv', converters={'station':str})\n",
    "train_info   = pd.read_csv(FOLDER + 'train_info.csv', converters={'train': str, 'st_from':str, 'st_to':str, 'joint':str,\n",
    "                                                                 'start_st':str, 'end_st':str})\n",
    "train_plan   = pd.read_csv(FOLDER + 'slot_train.csv', converters={'train': str, 'st_from':str, 'st_to':str})\n",
    "loco_info    = pd.read_csv(FOLDER + 'loco_attributes.csv', converters={'train':str, 'loco':str, 'st_from':str, 'st_to':str})\n",
    "loco_plan    = pd.read_csv(FOLDER + 'slot_loco.csv', converters={'train':str, 'loco':str, 'st_from':str, 'st_to':str})\n",
    "team_info    = pd.read_csv(FOLDER + 'team_attributes.csv', converters={'team':str,'depot':str, 'oper_location':str, \\\n",
    "                                                     'st_from':str, 'st_to':str, 'loco':str, 'depot_st':str})\n",
    "team_plan    = pd.read_csv(FOLDER + 'slot_team.csv', converters={'team':str,'loco':str, 'st_from':str, 'st_to':str})\n",
    "loco_series  = pd.read_csv(FOLDER + 'loco_series.csv')\n",
    "task         = pd.read_csv(FOLDER + 'task.csv', converters={'st_from':str, 'st_to':str, 'st_next':str})\n",
    "\n",
    "st_names     = stations[['station', 'name', 'esr']].drop_duplicates().set_index('station')\n",
    "team_info.regions = team_info.regions.apply(literal_eval)\n",
    "\n",
    "print('Время составления отчета:', time.strftime(time_format, time.localtime()))\n",
    "print('Время запуска планировщика: %s (%d)' % (time.strftime(time_format, time.localtime(current_time)), current_time))"
   ]
  },
  {
   "cell_type": "code",
   "execution_count": 372,
   "metadata": {
    "collapsed": false
   },
   "outputs": [],
   "source": [
    "def nice_time(t):\n",
    "    return time.strftime(time_format, time.localtime(t))\n",
    "\n",
    "def add_info(df):    \n",
    "    if 'st_from' in df.columns:\n",
    "        df['st_from_name'] = df.st_from.map(st_names.name)\n",
    "    if 'st_to' in df.columns:\n",
    "        df['st_to_name'] = df.st_to.map(st_names.name)\n",
    "    if 'time_start' in df.columns:\n",
    "        df['time_start_f'] = df.time_start.apply(lambda x: nice_time(x))\n",
    "    if 'time_end' in df.columns:\n",
    "        df['time_end_f'] = df.time_end.apply(lambda x: nice_time(x))\n",
    "    if 'oper_location' in df.columns:\n",
    "        df['oper_location_name'] = df.oper_location.map(st_names.name)    \n",
    "        df.oper_location_name.fillna(0, inplace=True)\n",
    "    if ('oper_location' in df.columns) & ('st_from' in df.columns) & ('st_to' in df.columns):        \n",
    "        df['loc_name'] = df.oper_location_name\n",
    "        df.loc[df.loc_name == 0, 'loc_name'] = df.st_from_name + ' - ' + df.st_to_name\n",
    "    if 'oper_time' in df.columns:\n",
    "        df['oper_time_f'] = df.oper_time.apply(lambda x: nice_time(x))\n",
    "    \n",
    "# Добавляем во все таблицы названия станций на маршруте и времена отправления/прибытия в читабельном формате\n",
    "add_info(train_plan), add_info(loco_plan), add_info(team_plan)\n",
    "add_info(train_info), add_info(loco_info), add_info(team_info)\n",
    "\n",
    "# Мержим таблицы _plan и _info для поездов, локомотивов и бригад\n",
    "train_plan = train_plan.merge(train_info, on='train', suffixes=('', '_info'), how='left')\n",
    "loco_plan = loco_plan.merge(loco_info, on='loco', suffixes=('', '_info'), how='left')\n",
    "team_plan = team_plan.merge(team_info, on='team', suffixes=('', '_info'), how='left')\n",
    "\n",
    "# Добавляем признаки поезда и бригады (реальный/локомотиво-резервный/объемный и реальная/фейковая)\n",
    "train_plan['train_type'] = train_plan.train.apply(lambda x: str(x)[0])\n",
    "team_plan['team_type'] = team_plan.team.apply(lambda x: 'Реальная' if str(x)[0] == '2' else 'Фейковая')\n",
    "\n",
    "# Для локомотиво-резервных и объемных поездов заполняем номер\n",
    "train_plan.loc[train_plan.train_type.isin(['8', '9']), 'number'] = train_plan.train.apply(lambda x: int(str(x)[-4:]))\n",
    "\n",
    "# Добавляем подвязанные локомотив и бригаду в таблицы loco_plan и train_plan\n",
    "if 'team' not in loco_plan.columns:\n",
    "    loco_plan = pd.merge(loco_plan, team_plan.loc[team_plan.state == 1, ['team', 'loco', 'time_start']], \n",
    "                         on=['loco', 'time_start'], how='left')\n",
    "if 'loco' not in train_plan.columns:\n",
    "    train_plan = pd.merge(train_plan, loco_plan.loc[loco_plan.state.isin([0, 1]), ['loco', 'team', 'train', 'time_start']],\n",
    "                     on=['train', 'time_start'], how='left')"
   ]
  },
  {
   "cell_type": "markdown",
   "metadata": {},
   "source": [
    "<a id='oddity'></a>\n",
    "## Проверка совпадения четности номеров поездов и направления движения [ToC](#toc)"
   ]
  },
  {
   "cell_type": "code",
   "execution_count": 373,
   "metadata": {
    "collapsed": false
   },
   "outputs": [],
   "source": [
    "add_header('Проверки по поездам', h=1, p=False)\n",
    "add_header('Проверка совпадения четности номеров поездов и направления движения', h=2, p=False)"
   ]
  },
  {
   "cell_type": "code",
   "execution_count": 374,
   "metadata": {
    "collapsed": false
   },
   "outputs": [
    {
     "name": "stdout",
     "output_type": "stream",
     "text": [
      "Четность номеров поездов и направления не совпадает для 1 поездов (показаны первые 10):\n",
      "          train  number    st_from_name st_to_name  dir  odevity check_odd\n",
      " 88880006544527    4527  ГИДРОСТРОИТЕЛЬ  ХРЕБТОВАЯ  NaN        1     False\n"
     ]
    }
   ],
   "source": [
    "train_plan['dir'] = train_plan.link.map(links.set_index('link').dir)\n",
    "train_plan['odevity'] = (((train_plan.number / 2).astype(int) * 2 == train_plan.number).astype(int) + 1) % 2\n",
    "train_plan['check_odd'] = train_plan.dir == train_plan.odevity\n",
    "cols = ['train', 'number', 'st_from_name', 'st_to_name', 'dir', 'odevity', 'check_odd']\n",
    "fail_dir_number = train_plan.drop_duplicates(subset=['train', 'number']).loc[(train_plan.train_type.isin(['8', '9'])) &\n",
    "                                                          (train_plan.check_odd == False), cols]\n",
    "if fail_dir_number.empty == False:\n",
    "    add_header('Четность номеров поездов и направления не совпадает для %d поездов (показаны первые 10):' %\n",
    "         len(fail_dir_number.index))\n",
    "    pd.set_option('display.max_colwidth', 35)\n",
    "    add_line(fail_dir_number.head(10))\n",
    "else:\n",
    "    add_line('Все четности совпадают')"
   ]
  },
  {
   "cell_type": "markdown",
   "metadata": {},
   "source": [
    "<a id='stop_time'></a>\n",
    "## Анализ времен стоянок поездов на станциях смены локомотивов и бригад [ToC](#toc)"
   ]
  },
  {
   "cell_type": "markdown",
   "metadata": {},
   "source": [
    "#### Параметры для анализа"
   ]
  },
  {
   "cell_type": "code",
   "execution_count": 375,
   "metadata": {
    "collapsed": false
   },
   "outputs": [],
   "source": [
    "# Минимальное время стоянки поезда для смены локомотива\n",
    "min_loco_stop = 1 * 3600 # 1 hour = 60 min\n",
    "\n",
    "# Минимальное время стоянки поезда для смены бригады\n",
    "min_team_stop = 15 * 60 # 15 min\n",
    "\n",
    "# Горизонт проверки\n",
    "hor = 24 * 3600"
   ]
  },
  {
   "cell_type": "markdown",
   "metadata": {},
   "source": [
    "<a id='stop_loco'></a>\n",
    "### Смена локомотивов [ToC](#toc)"
   ]
  },
  {
   "cell_type": "code",
   "execution_count": 376,
   "metadata": {
    "collapsed": true
   },
   "outputs": [],
   "source": [
    "add_header('Анализ смен локомотивов на маршрутах поездов', h=2, p=False)"
   ]
  },
  {
   "cell_type": "markdown",
   "metadata": {},
   "source": [
    "#### Ищем станции смены локомотивов и считаем средние времена"
   ]
  },
  {
   "cell_type": "code",
   "execution_count": 377,
   "metadata": {
    "collapsed": false
   },
   "outputs": [],
   "source": [
    "train_plan.columns\n",
    "train_plan.loco.fillna('-1', inplace=True)\n",
    "train_plan.team.fillna('-1', inplace=True)\n",
    "\n",
    "train_plan['train_end'] = train_plan.train != train_plan.train.shift(-1)\n",
    "train_plan['loco_end'] = (train_plan.loco != train_plan.loco.shift(-1)) | (train_plan.train_end)\n",
    "train_plan['team_end'] = (train_plan.team != train_plan.team.shift(-1)) | (train_plan.loco_end)\n",
    "\n",
    "train_plan['stop_time'] = train_plan.time_start.shift(-1) - train_plan.time_end\n",
    "train_plan['stop_time_h'] = np.round((train_plan.stop_time / 3600), 2)\n",
    "\n",
    "train_plan['next_loco'] = train_plan.loco.shift(-1)\n",
    "train_plan['next_team'] = train_plan.team.shift(-1)\n",
    "\n",
    "cols = ['train', 'st_from_name', 'st_to_name', 'loco', 'team', 'stop_time_h', 'next_loco']\n",
    "loco_change = train_plan[(train_plan.train_end == False) & (train_plan.loco_end == True)\n",
    "                        & (train_plan.time_end < current_time + hor)]"
   ]
  },
  {
   "cell_type": "code",
   "execution_count": 378,
   "metadata": {
    "collapsed": false
   },
   "outputs": [
    {
     "name": "stdout",
     "output_type": "stream",
     "text": [
      "Средние времена на смену локомотивов:\n",
      "- по всем сменам: 14.71 ч.\n",
      "- по всем сменам с ненулевым временем: 22.05 ч.\n"
     ]
    }
   ],
   "source": [
    "add_header('Средние времена на смену локомотивов:')\n",
    "add_line('- по всем сменам: %.2f ч.' % loco_change.stop_time_h.mean())\n",
    "add_line('- по всем сменам с ненулевым временем: %.2f ч.' % loco_change[loco_change.stop_time_h > 0].stop_time_h.mean())"
   ]
  },
  {
   "cell_type": "markdown",
   "metadata": {},
   "source": [
    "#### Ищем поезда, у которых смена локомотивов происходит за нулевое время"
   ]
  },
  {
   "cell_type": "code",
   "execution_count": 408,
   "metadata": {
    "collapsed": false
   },
   "outputs": [
    {
     "name": "stdout",
     "output_type": "stream",
     "text": [
      "Всего 189 поездов, для которых смена локомотивов происходит за нулевое время. Примеры:\n",
      "        train st_from_name    st_to_name          loco next_loco  stop_time_h\n",
      " 200231019728    ЗУН-ТОРЕЙ         БОРЗЯ  200200104285        -1            0\n",
      " 220205207799    БАМОВСКАЯ       ГОРЕЛЫЙ  200200087578        -1            0\n",
      " 200231041900   ТУНГУССКИЙ  ВОЛОЧАЕВКА I  200200049649        -1            0\n",
      " 200230833768        ТАГУЛ        ТАЙШЕТ  200200100964        -1            0\n",
      " 200230833670        ТАГУЛ        ТАЙШЕТ  200200095541        -1            0\n",
      "\n",
      "Полный план по одному из таких поездов:\n",
      "        train        st_from_name          st_to_name   time_start_f     time_end_f          loco          team\n",
      " 200231019728    ПЕТРОВСКИЙ ЗАВОД            ЖИПХЕГЕН  Jul 06, 16:05  Jul 06, 18:19  200200104285  200200152119\n",
      " 200231019728            ЖИПХЕГЕН               ХИЛОК  Jul 06, 18:19  Jul 06, 18:52  200200104285  200200152119\n",
      " 200231019728               ХИЛОК              МОГЗОН  Jul 06, 18:52  Jul 06, 21:09  200200104285  200200152119\n",
      " 200231019728              МОГЗОН            ТУРГУТУЙ  Jul 06, 21:09  Jul 06, 22:12  200200104285  200200152119\n",
      " 200231019728            ТУРГУТУЙ              ЛЕСНАЯ  Jul 06, 22:12  Jul 06, 23:00  200200104285  200200152119\n",
      " 200231019728              ЛЕСНАЯ              КАДАЛА  Jul 06, 23:00  Jul 07, 00:03  200200104285  200200152119\n",
      " 200231019728              КАДАЛА              ЧИТА I  Jul 07, 00:03  Jul 07, 00:13  200200104285  200200152119\n",
      " 200231019728              ЧИТА I           КАРЫМСКАЯ  Jul 07, 01:50  Jul 07, 03:42  200200104285  200200162408\n",
      " 200231019728           КАРЫМСКАЯ             ТАРСКАЯ  Jul 07, 06:30  Jul 07, 06:45  200200104285  777700000854\n",
      " 200231019728             ТАРСКАЯ          АДРИАНОВКА  Jul 07, 06:45  Jul 07, 07:23  200200104285  777700000854\n",
      " 200231019728          АДРИАНОВКА           БУРЯТСКАЯ  Jul 07, 07:23  Jul 07, 08:35  200200104285  777700000854\n",
      " 200231019728           БУРЯТСКАЯ            МОГОЙТУЙ  Jul 07, 08:35  Jul 07, 09:00  200200104285  777700000854\n",
      " 200231019728            МОГОЙТУЙ           ОЛОВЯННАЯ  Jul 07, 09:00  Jul 07, 10:24  200200104285  777700000854\n",
      " 200231019728           ОЛОВЯННАЯ  ЯСНОГОРСК-ЗАБАЙ...  Jul 07, 10:24  Jul 07, 10:39  200200104285  777700000854\n",
      " 200231019728  ЯСНОГОРСК-ЗАБАЙ...          ШАХТЕРСКАЯ  Jul 07, 10:39  Jul 07, 11:54  200200104285  777700000854\n",
      " 200231019728          ШАХТЕРСКАЯ           ЗУН-ТОРЕЙ  Jul 07, 11:54  Jul 07, 12:21  200200104285  777700000854\n",
      " 200231019728           ЗУН-ТОРЕЙ               БОРЗЯ  Jul 07, 12:21  Jul 07, 12:31  200200104285  777700000854\n",
      " 200231019728               БОРЗЯ             ХАРАНОР  Jul 07, 12:31  Jul 07, 14:15            -1            -1\n",
      " 200231019728             ХАРАНОР         ЗАБАЙКАЛЬСК  Jul 07, 14:15  Jul 07, 16:13            -1            -1\n"
     ]
    }
   ],
   "source": [
    "cols = ['train', 'st_from_name', 'st_to_name', 'loco', 'next_loco', 'stop_time_h']\n",
    "nill_stop_times = loco_change[loco_change.stop_time == 0]\n",
    "if not nill_stop_times.empty:\n",
    "    add_header('Всего %d поездов, для которых смена локомотивов происходит за нулевое время. Примеры:' \n",
    "               % nill_stop_times.train.count())\n",
    "    add_line(nill_stop_times[cols].head())\n",
    "    cols = ['train', 'st_from_name', 'st_to_name', 'time_start_f', 'time_end_f', 'loco', 'team']\n",
    "    add_line('')\n",
    "    add_header('Полный план по одному из таких поездов:')\n",
    "    for train in nill_stop_times.train.values[:1]:\n",
    "        add_line(train_plan[train_plan.train == train][cols])\n",
    "else:\n",
    "    add_header('Нет локомотивов, для которых смена бригад происходит за нулевое время')"
   ]
  },
  {
   "cell_type": "markdown",
   "metadata": {},
   "source": [
    "#### Составляем статистику по всем станциям смены, загружаем список приоритетных станций смены"
   ]
  },
  {
   "cell_type": "code",
   "execution_count": 380,
   "metadata": {
    "collapsed": false
   },
   "outputs": [],
   "source": [
    "cols = ['train', 'st_from_name', 'st_to_name', 'loco', 'next_loco', 'stop_time_h']\n",
    "no_nill_stops = loco_change[loco_change.stop_time > 0]\n",
    "no_nill_stops[cols]\n",
    "#no_nill_stops.groupby('st_to_name').stop_time_h.mean()\n",
    "st_change = no_nill_stops.groupby('st_to_name').train.count().to_frame()\\\n",
    "            .join(no_nill_stops.groupby('st_to_name').stop_time_h.mean()).reset_index()\n",
    "st_change['stop_time_h'] = st_change.stop_time_h.apply(lambda x: np.round(x, 2))\n",
    "st_change.sort_values('train', ascending=False).head(10)\n",
    "priority_change_stations = pd.read_csv(FOLDER + 'mandatory/priority_loco_change_stations.csv').st_name.values"
   ]
  },
  {
   "cell_type": "markdown",
   "metadata": {},
   "source": [
    "#### Ищем поезда, у которых смена локомотивов происходит на неправильных станциях"
   ]
  },
  {
   "cell_type": "code",
   "execution_count": 381,
   "metadata": {
    "collapsed": false
   },
   "outputs": [
    {
     "name": "stdout",
     "output_type": "stream",
     "text": [
      "Всего 177 поездов, у которых смена локомотива, скорее всего, происходит на неправильных станциях\n",
      "Примеры таких станций:\n",
      "st_to_name  train  stop_time_h\n",
      "   ЖИРЕКЕН     12        22.38\n",
      " ЗАОЗЕРНАЯ      9        33.04\n",
      "    ЧИТА I      8        28.12\n",
      "   МЫСОВАЯ      8        26.31\n",
      " БАМОВСКАЯ      7        27.61\n",
      " МАГДАГАЧИ      6        13.64\n",
      "   ЗЕРЦАЛЫ      6        28.52\n",
      "   ГОРЕЛЫЙ      5        14.99\n",
      "    ТАЛДАН      5        15.36\n",
      "   СЕЛИХИН      5        32.71\n",
      "\n",
      "Поезда, у которых смена локомотива происходит на станции ЖИРЕКЕН:\n",
      "        train              st_from_name st_to_name loco     next_loco  stop_time_h\n",
      " 210216868814  ЧЕРНЫШЕВСК-ЗАБАЙКАЛЬСКИЙ    ЖИРЕКЕН   -1  200205692809         7.98\n",
      " 200230902583  ЧЕРНЫШЕВСК-ЗАБАЙКАЛЬСКИЙ    ЖИРЕКЕН   -1  200200081518        27.36\n",
      " 210216849606  ЧЕРНЫШЕВСК-ЗАБАЙКАЛЬСКИЙ    ЖИРЕКЕН   -1  200200093991        86.10\n",
      " 220207458046  ЧЕРНЫШЕВСК-ЗАБАЙКАЛЬСКИЙ    ЖИРЕКЕН   -1  200200106765        29.33\n",
      " 200230435941  ЧЕРНЫШЕВСК-ЗАБАЙКАЛЬСКИЙ    ЖИРЕКЕН   -1  200200081495         8.31\n",
      " 200230790867  ЧЕРНЫШЕВСК-ЗАБАЙКАЛЬСКИЙ    ЖИРЕКЕН   -1  200214358625        11.10\n",
      " 220207437485  ЧЕРНЫШЕВСК-ЗАБАЙКАЛЬСКИЙ    ЖИРЕКЕН   -1  200200057242        31.43\n",
      " 200230329602  ЧЕРНЫШЕВСК-ЗАБАЙКАЛЬСКИЙ    ЖИРЕКЕН   -1  200200107711        28.34\n",
      " 220205791735  ЧЕРНЫШЕВСК-ЗАБАЙКАЛЬСКИЙ    ЖИРЕКЕН   -1  200200104236         5.94\n",
      " 210216905593  ЧЕРНЫШЕВСК-ЗАБАЙКАЛЬСКИЙ    ЖИРЕКЕН   -1  200200030251        15.64\n",
      " 220205788335  ЧЕРНЫШЕВСК-ЗАБАЙКАЛЬСКИЙ    ЖИРЕКЕН   -1  200200102027         6.80\n",
      " 220207276570  ЧЕРНЫШЕВСК-ЗАБАЙКАЛЬСКИЙ    ЖИРЕКЕН   -1  200200106799        10.27\n",
      "\n",
      "Полный план по одному из таких поездов:\n",
      "        train         st_from_name           st_to_name   time_start_f     time_end_f          loco loc_name loco_info\n",
      " 210216868814               ЧИТА I            КАРЫМСКАЯ  Jul 06, 14:41  Jul 06, 16:36            -1   ЧИТА I       NaN\n",
      " 210216868814            КАРЫМСКАЯ              ТАРСКАЯ  Jul 06, 16:36  Jul 06, 16:51            -1   ЧИТА I       NaN\n",
      " 210216868814              ТАРСКАЯ              УРУЛЬГА  Jul 06, 16:51  Jul 06, 17:25            -1   ЧИТА I       NaN\n",
      " 210216868814              УРУЛЬГА            СОЛНЦЕВАЯ  Jul 06, 17:25  Jul 06, 18:45            -1   ЧИТА I       NaN\n",
      " 210216868814            СОЛНЦЕВАЯ       ШИЛКА-ТОВАРНАЯ  Jul 06, 18:45  Jul 06, 19:24            -1   ЧИТА I       NaN\n",
      " 210216868814       ШИЛКА-ТОВАРНАЯ   ШИЛКА-ПАССАЖИРСКАЯ  Jul 06, 19:24  Jul 06, 19:33            -1   ЧИТА I       NaN\n",
      " 210216868814   ШИЛКА-ПАССАЖИРСКАЯ           ПРИИСКОВАЯ  Jul 06, 19:33  Jul 06, 20:18            -1   ЧИТА I       NaN\n",
      " 210216868814           ПРИИСКОВАЯ               КУЭНГА  Jul 06, 20:18  Jul 06, 20:59            -1   ЧИТА I       NaN\n",
      " 210216868814               КУЭНГА  ЧЕРНЫШЕВСК-ЗАБАЙ...  Jul 06, 20:59  Jul 06, 22:11            -1   ЧИТА I       NaN\n",
      " 210216868814  ЧЕРНЫШЕВСК-ЗАБАЙ...              ЖИРЕКЕН  Jul 06, 22:11  Jul 06, 23:06            -1   ЧИТА I       NaN\n",
      " 210216868814              ЖИРЕКЕН               ЗИЛОВО  Jul 07, 07:05  Jul 07, 07:54  200205692809   ЧИТА I       NaN\n",
      " 210216868814               ЗИЛОВО          КСЕНЬЕВСКАЯ  Jul 07, 07:54  Jul 07, 10:16  200205692809   ЧИТА I       NaN\n",
      " 210216868814          КСЕНЬЕВСКАЯ               МОГОЧА  Jul 07, 10:16  Jul 07, 12:20  200205692809   ЧИТА I       NaN\n",
      " 210216868814               МОГОЧА               АМАЗАР  Jul 07, 15:00  Jul 07, 16:55  200205692809   ЧИТА I       NaN\n",
      " 210216868814               АМАЗАР      ЕРОФЕЙ ПАВЛОВИЧ  Jul 07, 16:55  Jul 07, 19:06  200205692809   ЧИТА I       NaN\n",
      " 210216868814      ЕРОФЕЙ ПАВЛОВИЧ                УРУША  Jul 07, 19:06  Jul 07, 21:10  200205692809   ЧИТА I       NaN\n",
      " 210216868814                УРУША            БАМОВСКАЯ  Jul 07, 21:10  Jul 07, 22:33  200205692809   ЧИТА I       NaN\n",
      " 210216868814            БАМОВСКАЯ              ГОРЕЛЫЙ  Jul 07, 22:33  Jul 07, 22:40  200205692809   ЧИТА I       NaN\n",
      " 210216868814              ГОРЕЛЫЙ          СКОВОРОДИНО  Jul 07, 22:40  Jul 07, 23:11  200205692809   ЧИТА I       NaN\n",
      " 210216868814          СКОВОРОДИНО        БОЛЬШОЙ НЕВЕР  Jul 08, 01:45  Jul 08, 02:03  200205692809   ЧИТА I       NaN\n",
      " 210216868814        БОЛЬШОЙ НЕВЕР               ТАЛДАН  Jul 08, 02:03  Jul 08, 03:38  200205692809   ЧИТА I       NaN\n",
      " 210216868814               ТАЛДАН            МАГДАГАЧИ  Jul 08, 03:38  Jul 08, 05:28  200205692809   ЧИТА I       NaN\n",
      " 210216868814            МАГДАГАЧИ               УШУМУН  Jul 08, 08:47  Jul 08, 10:49  210203707462   ЧИТА I       NaN\n",
      " 210216868814               УШУМУН          ШИМАНОВСКАЯ  Jul 08, 10:49  Jul 08, 12:46  210203707462   ЧИТА I       NaN\n",
      " 210216868814          ШИМАНОВСКАЯ              ЛЕДЯНАЯ  Jul 08, 12:46  Jul 08, 13:24  210203707462   ЧИТА I       NaN\n",
      " 210216868814              ЛЕДЯНАЯ            БЕЛОГОРСК  Jul 08, 13:24  Jul 08, 15:26  210203707462   ЧИТА I       NaN\n",
      " 210216868814            БЕЛОГОРСК         БЕЛОГОРСК II  Jul 08, 15:26  Jul 08, 15:37  210203707462   ЧИТА I       NaN\n",
      " 210216868814         БЕЛОГОРСК II              ЗАВИТАЯ  Jul 08, 15:47  Jul 08, 18:18  210203707462   ЧИТА I       NaN\n",
      " 210216868814              ЗАВИТАЯ                БУРЕЯ  Jul 08, 18:18  Jul 08, 19:04  210203707462   ЧИТА I       NaN\n",
      " 210216868814                БУРЕЯ               АРХАРА  Jul 08, 19:04  Jul 08, 20:04  210203707462   ЧИТА I       NaN\n",
      " 210216868814               АРХАРА              ОБЛУЧЬЕ  Jul 08, 20:04  Jul 08, 22:13  210203707462   ЧИТА I       NaN\n",
      " 210216868814              ОБЛУЧЬЕ          ИЗВЕСТКОВАЯ  Jul 08, 22:23  Jul 08, 23:12  210203707462   ЧИТА I       NaN\n",
      " 210216868814          ИЗВЕСТКОВАЯ                 БИРА  Jul 08, 23:12  Jul 09, 00:45  210203707462   ЧИТА I       NaN\n",
      " 210216868814                 БИРА                  NaN  Jul 09, 00:45  Jul 09, 01:52            -1   ЧИТА I       NaN\n",
      " 210216868814                  NaN         ВОЛОЧАЕВКА I  Jul 09, 01:52  Jul 09, 03:46            -1   ЧИТА I       NaN\n",
      " 210216868814         ВОЛОЧАЕВКА I           ТУНГУССКИЙ  Jul 09, 03:46  Jul 09, 03:52            -1   ЧИТА I       NaN\n",
      " 210216868814           ТУНГУССКИЙ             ДЕЖНЕВКА  Jul 09, 03:52  Jul 09, 03:57            -1   ЧИТА I       NaN\n",
      " 210216868814             ДЕЖНЕВКА          ПРИАМУРСКАЯ  Jul 09, 03:57  Jul 09, 04:26            -1   ЧИТА I       NaN\n",
      " 210216868814          ПРИАМУРСКАЯ      ПОСТ-ПОКРОВСКИЙ  Jul 09, 04:26  Jul 09, 04:30            -1   ЧИТА I       NaN\n",
      " 210216868814      ПОСТ-ПОКРОВСКИЙ                 АМУР  Jul 09, 04:30  Jul 09, 04:40            -1   ЧИТА I       NaN\n",
      " 210216868814                 АМУР          ХАБАРОВСК I  Jul 09, 04:40  Jul 09, 04:55            -1   ЧИТА I       NaN\n",
      " 210216868814          ХАБАРОВСК I         ХАБАРОВСК II  Jul 09, 04:55  Jul 09, 05:05            -1   ЧИТА I       NaN\n"
     ]
    }
   ],
   "source": [
    "# bad change stations\n",
    "bad_changes = st_change[st_change.st_to_name.isin(priority_change_stations) == False].sort_values('train', ascending=False)\n",
    "if not bad_changes.empty:\n",
    "    add_header('Всего %d поездов, у которых смена локомотива, скорее всего, происходит на неправильных станциях' \n",
    "               % bad_changes.train.sum())\n",
    "    add_header('Примеры таких станций:')\n",
    "    add_line(bad_changes.head(10))\n",
    "    add_line('')\n",
    "    cols = ['train', 'st_from_name', 'st_to_name', 'loco', 'next_loco', 'stop_time_h']\n",
    "    st = bad_changes.iloc[0].st_to_name\n",
    "    add_line('Поезда, у которых смена локомотива происходит на станции %s:' % st)\n",
    "    add_line(loco_change[loco_change.st_to_name == st][cols])\n",
    "\n",
    "    train_plan['loco_info'] = train_plan.train.map(loco_info.drop_duplicates('train').set_index('train').loco)\n",
    "    cols = ['train', 'st_from_name', 'st_to_name', 'time_start_f', 'time_end_f', 'loco', 'loc_name', 'loco_info']\n",
    "    add_line('')\n",
    "    add_header('Полный план по одному из таких поездов:')\n",
    "    with pd.option_context('display.max_colwidth', 20):\n",
    "        add_line(train_plan[train_plan.train == loco_change[loco_change.st_to_name == st].iloc[0].train][cols])\n",
    "else:\n",
    "    add_header('Нет поездов, у которых смена локомотивов происходит на неправильной станции')"
   ]
  },
  {
   "cell_type": "markdown",
   "metadata": {},
   "source": [
    "#### Ищем поезда со слишком долгой стоянкой для смены локомотивов"
   ]
  },
  {
   "cell_type": "code",
   "execution_count": 382,
   "metadata": {
    "collapsed": false
   },
   "outputs": [
    {
     "name": "stdout",
     "output_type": "stream",
     "text": [
      "Всего 66 случаев смены локомотива со стоянкой поезда более суток. Примеры:\n",
      "        train   st_from_name   st_to_name          loco     next_loco  stop_time_h\n",
      " 220207734815        ТАРСКАЯ    КАРЫМСКАЯ  200200083783  200219082444       100.06\n",
      " 200230381881        ТАРСКАЯ    КАРЫМСКАЯ  200200103125  200200099990        89.32\n",
      " 200230466206         ЧИТА I    КАРЫМСКАЯ            -1  200200094420        83.29\n",
      " 210216905585        ТАРСКАЯ    КАРЫМСКАЯ  200200032842  200200092864        81.68\n",
      " 200230356216        ТАРСКАЯ    КАРЫМСКАЯ  200200094249  200200106608        79.27\n",
      " 200231232701          ТАГУЛ       ТАЙШЕТ  200200103232  200200138995        75.27\n",
      " 220207743842        КУВЫКТА        ТЫНДА  200200085747  200200106577        69.68\n",
      " 200231026867  БОЛЬШОЙ НЕВЕР  СКОВОРОДИНО  200200030378  200200116540        67.95\n",
      " 200231019461        ШКОТОВО  СМОЛЯНИНОВО  200200104920  210200118115        66.26\n",
      " 220204042199         ЧИТА I    КАРЫМСКАЯ  200200089210  200200040633        66.00\n"
     ]
    }
   ],
   "source": [
    "cols = ['train', 'st_from_name', 'st_to_name', 'loco', 'next_loco', 'stop_time_h']\n",
    "long_change = loco_change[(loco_change.st_to_name.isin(priority_change_stations)) \n",
    "            & (loco_change.stop_time_h > 24)].sort_values('stop_time_h', ascending=False)\n",
    "add_header('Всего %d случаев смены локомотива со стоянкой поезда более суток. Примеры:' % long_change.train.count())\n",
    "add_line(long_change[cols].head(10))"
   ]
  },
  {
   "cell_type": "markdown",
   "metadata": {},
   "source": [
    "<a id='stop_team'></a>\n",
    "### Смена бригад [ToC](#toc)"
   ]
  },
  {
   "cell_type": "code",
   "execution_count": 383,
   "metadata": {
    "collapsed": true
   },
   "outputs": [],
   "source": [
    "add_header('Анализ смен бригад на маршрутах поездов', h=2, p=False)"
   ]
  },
  {
   "cell_type": "code",
   "execution_count": 384,
   "metadata": {
    "collapsed": true
   },
   "outputs": [],
   "source": [
    "team_change = train_plan[(train_plan.loco_end == False) & (train_plan.team_end == True)\n",
    "                        & (train_plan.time_end < current_time + hor)]"
   ]
  },
  {
   "cell_type": "code",
   "execution_count": 385,
   "metadata": {
    "collapsed": false
   },
   "outputs": [
    {
     "name": "stdout",
     "output_type": "stream",
     "text": [
      "Средние времена на смену бригады:\n",
      "- по всем сменам: 3.45 ч.\n",
      "- по всем сменам с ненулевым временем: 3.45 ч.\n"
     ]
    }
   ],
   "source": [
    "add_header('Средние времена на смену бригады:')\n",
    "add_line('- по всем сменам: %.2f ч.' % team_change.stop_time_h.mean())\n",
    "add_line('- по всем сменам с ненулевым временем: %.2f ч.' % team_change[team_change.stop_time_h > 0].stop_time_h.mean())"
   ]
  },
  {
   "cell_type": "markdown",
   "metadata": {},
   "source": [
    "#### Ищем поезда, у которых смена бригады происходит за нулевое время"
   ]
  },
  {
   "cell_type": "code",
   "execution_count": 386,
   "metadata": {
    "collapsed": false
   },
   "outputs": [
    {
     "name": "stdout",
     "output_type": "stream",
     "text": [
      "Всего 2 поездов, для которых смена бригад происходит за нулевое время. Примеры:\n",
      "          train st_from_name  st_to_name          team     next_team  stop_time_h\n",
      " 88880013304595      ЛОЗОВЫЙ  ПАРТИЗАНСК  200200164359  200200127550            0\n",
      " 88880001084877      ЛОЗОВЫЙ  ПАРТИЗАНСК  200200193825  200200192662            0\n",
      "\n",
      "Полный план по одному из таких поездов:\n",
      "          train          st_from_name            st_to_name   time_start_f     time_end_f          loco          team\n",
      " 88880013304595               НАХОДКА             КУЗНЕЦОВО  Jul 06, 22:12  Jul 06, 22:25  200200053309  200200164359\n",
      " 88880013304595             КУЗНЕЦОВО               ЛОЗОВЫЙ  Jul 06, 22:25  Jul 06, 22:40  200200053309  200200164359\n",
      " 88880013304595               ЛОЗОВЫЙ            ПАРТИЗАНСК  Jul 06, 22:40  Jul 06, 22:54  200200053309  200200164359\n",
      " 88880013304595            ПАРТИЗАНСК       КРАСНОАРМЕЙСКИЙ  Jul 06, 22:54  Jul 06, 23:15  200200053309  200200127550\n",
      " 88880013304595       КРАСНОАРМЕЙСКИЙ            АНИСИМОВКА  Jul 06, 23:15  Jul 07, 00:10  200200053309  200200127550\n",
      " 88880013304595            АНИСИМОВКА            НОВОНЕЖИНО  Jul 07, 00:10  Jul 07, 00:28  200200053309  200200127550\n",
      " 88880013304595            НОВОНЕЖИНО           СМОЛЯНИНОВО  Jul 07, 00:28  Jul 07, 00:53  200200053309  200200127550\n",
      " 88880013304595           СМОЛЯНИНОВО               ШКОТОВО  Jul 07, 03:25  Jul 07, 03:44  200200053309  777700000620\n",
      " 88880013304595               ШКОТОВО  АРТЕМ-ПРИМОРСКИЙ III  Jul 07, 03:44  Jul 07, 03:52  200200053309  777700000620\n",
      " 88880013304595  АРТЕМ-ПРИМОРСКИЙ III    АРТЕМ-ПРИМОРСКИЙ I  Jul 07, 03:52  Jul 07, 04:02  200200053309  777700000620\n",
      " 88880013304595    АРТЕМ-ПРИМОРСКИЙ I               УГЛОВАЯ  Jul 07, 04:02  Jul 07, 04:31  200200053309  777700000620\n",
      " 88880013304595               УГЛОВАЯ        АМУРСКИЙ ЗАЛИВ  Jul 07, 04:31  Jul 07, 04:40  200200053309  777700000620\n",
      " 88880013304595        АМУРСКИЙ ЗАЛИВ          НАДЕЖДИНСКАЯ  Jul 07, 04:40  Jul 07, 04:49  200200053309  777700000620\n",
      " 88880013304595          НАДЕЖДИНСКАЯ           БАРАНОВСКИЙ  Jul 07, 04:49  Jul 07, 05:33  200200053309  777700000620\n",
      " 88880013304595           БАРАНОВСКИЙ             УССУРИЙСК  Jul 07, 05:33  Jul 07, 05:57  200200053309  777700000620\n"
     ]
    }
   ],
   "source": [
    "cols = ['train', 'st_from_name', 'st_to_name', 'team', 'next_team', 'stop_time_h']\n",
    "nill_stop_times = team_change[team_change.stop_time == 0]\n",
    "if not nill_stop_times.empty:\n",
    "    add_header('Всего %d поездов, для которых смена бригад происходит за нулевое время. Примеры:' \n",
    "               % nill_stop_times.train.count())\n",
    "    add_line(nill_stop_times[cols].head())\n",
    "    cols = ['train', 'st_from_name', 'st_to_name', 'time_start_f', 'time_end_f', 'loco', 'team']\n",
    "    add_line('')\n",
    "    add_header('Полный план по одному из таких поездов:')\n",
    "    for train in nill_stop_times.train.values[:1]:\n",
    "        add_line(train_plan[train_plan.train == train][cols])\n",
    "else:\n",
    "    add_header('Нет поездов, для которых смена бригад происходит за нулевое время')"
   ]
  },
  {
   "cell_type": "markdown",
   "metadata": {},
   "source": [
    "#### Ищем поезда со слишком долгой стоянкой для смены бригады"
   ]
  },
  {
   "cell_type": "code",
   "execution_count": 387,
   "metadata": {
    "collapsed": false
   },
   "outputs": [
    {
     "name": "stdout",
     "output_type": "stream",
     "text": [
      "Всего 347 случаев смены бригад со стоянкой поезда более 6 часов. Примеры:\n",
      "           train          st_from_name                          st_to_name          team     next_team  stop_time_h\n",
      "    220206986956                ЧИТА I                           КАРЫМСКАЯ  200200222613  777700000870        41.98\n",
      "  88880004664555           НОВЫЙ УРГАЛ                           ФЕВРАЛЬСК  200200250078  777700002070        26.13\n",
      "  88880013524878             ЩЕТИНКИНО                            САЯНСКАЯ  200200245998  777700000779        25.55\n",
      "  88880013304605  КОМСОМОЛЬСК-НА-АМУРЕ  КОМСОМОЛЬСК-НА-АМУРЕ-СОРТИРОВОЧНЫЙ  200200183493  200200206353        23.79\n",
      "    220207784721                ЗАЛАРИ                                ЗИМА  200200273835  200200252135        22.34\n",
      "    220206921193                 СОЛЛУ                        ВЫСОКОГОРНАЯ  200200122937  200200159420        21.34\n",
      "  88880004664433              МОНГОХТО                        ВЫСОКОГОРНАЯ  777700000786  777700001515        21.14\n",
      "  88880001094335                МОГЗОН                               ХИЛОК  200200252585  777700000941        20.85\n",
      " 999912434032014           ДУБИНИНСКИЙ                           УССУРИЙСК  200200220624  777700001039        20.73\n",
      "    200231418075                 СОЛЛУ                        ВЫСОКОГОРНАЯ  200200095938  200200100334        20.68\n",
      "\n",
      "Полный план по одному из таких поездов:\n",
      "        train              st_from_name                st_to_name   time_start_f     time_end_f          loco          team\n",
      " 220206986956                    ЧИТА I                 КАРЫМСКАЯ  Jul 06, 10:04  Jul 06, 11:56  200200106835  200200222613\n",
      " 220206986956                 КАРЫМСКАЯ                   ТАРСКАЯ  Jul 08, 05:54  Jul 08, 06:09  200200106835  777700000870\n",
      " 220206986956                   ТАРСКАЯ                   УРУЛЬГА  Jul 08, 06:09  Jul 08, 06:43  200200106835  777700000870\n",
      " 220206986956                   УРУЛЬГА                 СОЛНЦЕВАЯ  Jul 08, 06:43  Jul 08, 08:11  200200106835  777700000870\n",
      " 220206986956                 СОЛНЦЕВАЯ            ШИЛКА-ТОВАРНАЯ  Jul 08, 08:11  Jul 08, 08:49  200200106835  777700000870\n",
      " 220206986956            ШИЛКА-ТОВАРНАЯ        ШИЛКА-ПАССАЖИРСКАЯ  Jul 08, 08:49  Jul 08, 08:59  200200106835  777700000870\n",
      " 220206986956        ШИЛКА-ПАССАЖИРСКАЯ                ПРИИСКОВАЯ  Jul 08, 08:59  Jul 08, 09:43  200200106835  777700000870\n",
      " 220206986956                ПРИИСКОВАЯ                    КУЭНГА  Jul 08, 09:43  Jul 08, 10:25  200200106835  777700000870\n",
      " 220206986956                    КУЭНГА  ЧЕРНЫШЕВСК-ЗАБАЙКАЛЬСКИЙ  Jul 08, 10:25  Jul 08, 11:38  200200106835  777700000870\n",
      " 220206986956  ЧЕРНЫШЕВСК-ЗАБАЙКАЛЬСКИЙ                   ЖИРЕКЕН  Jul 08, 11:48  Jul 08, 12:44  200200106835            -1\n",
      " 220206986956                   ЖИРЕКЕН                    ЗИЛОВО  Jul 08, 12:44  Jul 08, 13:33  200200106835            -1\n",
      " 220206986956                    ЗИЛОВО               КСЕНЬЕВСКАЯ  Jul 08, 13:33  Jul 08, 15:59  200200106835            -1\n",
      " 220206986956               КСЕНЬЕВСКАЯ                    МОГОЧА  Jul 08, 15:59  Jul 08, 18:03  200200106835            -1\n",
      " 220206986956                    МОГОЧА                    АМАЗАР  Jul 08, 18:23  Jul 08, 20:09  200200106835            -1\n",
      " 220206986956                    АМАЗАР           ЕРОФЕЙ ПАВЛОВИЧ  Jul 08, 20:09  Jul 08, 22:20  200200106835            -1\n",
      " 220206986956           ЕРОФЕЙ ПАВЛОВИЧ                     УРУША  Jul 08, 22:20  Jul 09, 00:25  200200106835            -1\n",
      " 220206986956                     УРУША                 БАМОВСКАЯ  Jul 09, 00:25  Jul 09, 01:48  200200106835            -1\n",
      " 220206986956                 БАМОВСКАЯ                   ГОРЕЛЫЙ  Jul 09, 01:48  Jul 09, 01:55  200200106835            -1\n",
      " 220206986956                   ГОРЕЛЫЙ               СКОВОРОДИНО  Jul 09, 01:55  Jul 09, 02:26  200200106835            -1\n",
      " 220206986956               СКОВОРОДИНО             БОЛЬШОЙ НЕВЕР  Jul 09, 02:36  Jul 09, 02:54  200200106835            -1\n",
      " 220206986956             БОЛЬШОЙ НЕВЕР                    ТАЛДАН  Jul 09, 02:54  Jul 09, 04:30  200200106835            -1\n",
      " 220206986956                    ТАЛДАН                 МАГДАГАЧИ  Jul 09, 04:30  Jul 09, 06:20  200200106835            -1\n",
      " 220206986956                 МАГДАГАЧИ                    УШУМУН  Jul 09, 06:30  Jul 09, 08:34  200200106835            -1\n",
      " 220206986956                    УШУМУН               ШИМАНОВСКАЯ  Jul 09, 08:34  Jul 09, 10:31  200200106835            -1\n",
      " 220206986956               ШИМАНОВСКАЯ                   ЛЕДЯНАЯ  Jul 09, 10:31  Jul 09, 11:18  200200106835            -1\n",
      " 220206986956                   ЛЕДЯНАЯ                 БЕЛОГОРСК  Jul 09, 11:18  Jul 09, 13:06  200200106835            -1\n",
      " 220206986956                 БЕЛОГОРСК              БЕЛОГОРСК II  Jul 09, 13:06  Jul 09, 13:17  200200106835            -1\n",
      " 220206986956              БЕЛОГОРСК II                   ЗАВИТАЯ  Jul 09, 13:27  Jul 09, 15:32  200200106835            -1\n",
      " 220206986956                   ЗАВИТАЯ                     БУРЕЯ  Jul 09, 15:32  Jul 09, 16:20  200200106835            -1\n",
      " 220206986956                     БУРЕЯ                    АРХАРА  Jul 09, 16:20  Jul 09, 17:23  200200106835            -1\n",
      " 220206986956                    АРХАРА                   ОБЛУЧЬЕ  Jul 09, 17:23  Jul 09, 19:35  200200106835            -1\n",
      " 220206986956                   ОБЛУЧЬЕ               ИЗВЕСТКОВАЯ  Jul 09, 19:45  Jul 09, 20:34  200200106835            -1\n",
      " 220206986956               ИЗВЕСТКОВАЯ                      БИРА  Jul 09, 20:34  Jul 09, 22:07  200200106835            -1\n",
      " 220206986956                      БИРА                       NaN  Jul 09, 22:07  Jul 09, 22:55            -1            -1\n",
      " 220206986956                       NaN              ВОЛОЧАЕВКА I  Jul 09, 22:55  Jul 10, 01:07            -1            -1\n",
      " 220206986956              ВОЛОЧАЕВКА I                ТУНГУССКИЙ  Jul 10, 01:07  Jul 10, 01:13            -1            -1\n",
      " 220206986956                ТУНГУССКИЙ                  ДЕЖНЕВКА  Jul 10, 01:13  Jul 10, 01:18            -1            -1\n",
      " 220206986956                  ДЕЖНЕВКА               ПРИАМУРСКАЯ  Jul 10, 01:18  Jul 10, 01:36            -1            -1\n",
      " 220206986956               ПРИАМУРСКАЯ           ПОСТ-ПОКРОВСКИЙ  Jul 10, 01:36  Jul 10, 01:40            -1            -1\n",
      " 220206986956           ПОСТ-ПОКРОВСКИЙ                      АМУР  Jul 10, 01:40  Jul 10, 01:50            -1            -1\n",
      " 220206986956                      АМУР               ХАБАРОВСК I  Jul 10, 01:50  Jul 10, 02:08            -1            -1\n",
      " 220206986956               ХАБАРОВСК I              ХАБАРОВСК II  Jul 10, 02:08  Jul 10, 02:18            -1            -1\n",
      " 220206986956              ХАБАРОВСК II                КРУГЛИКОВО  Jul 10, 02:18  Jul 10, 03:01            -1            -1\n",
      " 220206986956                КРУГЛИКОВО                 ВЯЗЕМСКАЯ  Jul 10, 03:01  Jul 10, 04:17            -1            -1\n",
      " 220206986956                 ВЯЗЕМСКАЯ             РОЗЕНГАРТОВКА  Jul 10, 04:17  Jul 10, 05:24            -1            -1\n",
      " 220206986956             РОЗЕНГАРТОВКА                     БИКИН  Jul 10, 05:24  Jul 10, 06:26            -1            -1\n",
      " 220206986956                     БИКИН                 ЛУЧЕГОРСК  Jul 10, 06:26  Jul 10, 07:13            -1            -1\n",
      " 220206986956                 ЛУЧЕГОРСК                  ГУБЕРОВО  Jul 10, 07:13  Jul 10, 07:47            -1            -1\n",
      " 220206986956                  ГУБЕРОВО                  ЭБЕРГАРД  Jul 10, 07:47  Jul 10, 08:09            -1            -1\n",
      " 220206986956                  ЭБЕРГАРД           ДАЛЬНЕРЕЧЕНСК I  Jul 10, 08:09  Jul 10, 08:21            -1            -1\n",
      " 220206986956           ДАЛЬНЕРЕЧЕНСК I          БЛОКПОСТ 1571 КМ  Jul 10, 08:21  Jul 10, 08:27            -1            -1\n",
      " 220206986956          БЛОКПОСТ 1571 КМ                    РУЖИНО  Jul 10, 08:27  Jul 10, 09:14            -1            -1\n",
      " 220206986956                    РУЖИНО                  ШМАКОВКА  Jul 10, 09:14  Jul 10, 09:56            -1            -1\n",
      " 220206986956                  ШМАКОВКА            СПАССК-ДАЛЬНИЙ  Jul 10, 09:56  Jul 10, 11:02            -1            -1\n",
      " 220206986956            СПАССК-ДАЛЬНИЙ                 СИБИРЦЕВО  Jul 10, 11:02  Jul 10, 12:00            -1            -1\n",
      " 220206986956                 СИБИРЦЕВО               ДУБИНИНСКИЙ  Jul 10, 12:00  Jul 10, 12:42            -1            -1\n",
      " 220206986956               ДУБИНИНСКИЙ                 УССУРИЙСК  Jul 10, 12:42  Jul 10, 12:54            -1            -1\n",
      " 220206986956                 УССУРИЙСК               БАРАНОВСКИЙ  Jul 10, 12:54  Jul 10, 13:17            -1            -1\n",
      " 220206986956               БАРАНОВСКИЙ              НАДЕЖДИНСКАЯ  Jul 10, 13:17  Jul 10, 14:04            -1            -1\n",
      " 220206986956              НАДЕЖДИНСКАЯ            АМУРСКИЙ ЗАЛИВ  Jul 10, 14:04  Jul 10, 14:13            -1            -1\n",
      " 220206986956            АМУРСКИЙ ЗАЛИВ                   УГЛОВАЯ  Jul 10, 14:13  Jul 10, 14:27            -1            -1\n",
      " 220206986956                   УГЛОВАЯ        АРТЕМ-ПРИМОРСКИЙ I  Jul 10, 14:27  Jul 10, 14:39            -1            -1\n",
      " 220206986956        АРТЕМ-ПРИМОРСКИЙ I      АРТЕМ-ПРИМОРСКИЙ III  Jul 10, 14:39  Jul 10, 14:50            -1            -1\n",
      " 220206986956      АРТЕМ-ПРИМОРСКИЙ III                   ШКОТОВО  Jul 10, 14:50  Jul 10, 15:28            -1            -1\n",
      " 220206986956                   ШКОТОВО               СМОЛЯНИНОВО  Jul 10, 15:28  Jul 10, 15:50            -1            -1\n",
      " 220206986956               СМОЛЯНИНОВО                НОВОНЕЖИНО  Jul 10, 15:50  Jul 10, 16:30            -1            -1\n",
      " 220206986956                НОВОНЕЖИНО                АНИСИМОВКА  Jul 10, 16:30  Jul 10, 16:49            -1            -1\n",
      " 220206986956                АНИСИМОВКА           КРАСНОАРМЕЙСКИЙ  Jul 10, 16:49  Jul 10, 17:54            -1            -1\n",
      " 220206986956           КРАСНОАРМЕЙСКИЙ                ПАРТИЗАНСК  Jul 10, 17:54  Jul 10, 18:17            -1            -1\n",
      " 220206986956                ПАРТИЗАНСК                   ЛОЗОВЫЙ  Jul 10, 18:17  Jul 10, 18:32            -1            -1\n",
      " 220206986956                   ЛОЗОВЫЙ                 КУЗНЕЦОВО  Jul 10, 18:32  Jul 10, 18:44            -1            -1\n",
      " 220206986956                 КУЗНЕЦОВО                   НАХОДКА  Jul 10, 18:44  Jul 10, 18:56            -1            -1\n",
      " 220206986956                   НАХОДКА                ХМЫЛОВСКИЙ  Jul 10, 18:56  Jul 10, 20:15            -1            -1\n",
      " 220206986956                ХМЫЛОВСКИЙ         НАХОДКА-ВОСТОЧНАЯ  Jul 10, 20:15  Jul 10, 20:20            -1            -1\n",
      "\n",
      "Станции, на которых чаще всего происходили длительные стоянки на смену бригад:\n",
      "БЕЛОГОРСК II                46\n",
      "ЧЕРНЫШЕВСК-ЗАБАЙКАЛЬСКИЙ    44\n",
      "ЧИТА I                      33\n",
      "ХИЛОК                       25\n",
      "МАГДАГАЧИ                   21\n",
      "УЛАН-УДЭ                    17\n",
      "УРУША                       17\n",
      "ВЫСОКОГОРНАЯ                16\n",
      "ОБЛУЧЬЕ                     16\n",
      "НИЖНЕУДИНСК                 14\n"
     ]
    }
   ],
   "source": [
    "cols = ['train', 'st_from_name', 'st_to_name', 'team', 'next_team', 'stop_time_h']\n",
    "long_change = team_change[team_change.stop_time_h > 6].sort_values('stop_time', ascending=False)[cols]\n",
    "if not long_change.empty:\n",
    "    add_header('Всего %d случаев смены бригад со стоянкой поезда более 6 часов. Примеры:' % long_change.train.count())\n",
    "    add_line(long_change[cols].head(10))\n",
    "    add_line('')\n",
    "    cols = ['train', 'st_from_name', 'st_to_name', 'time_start_f', 'time_end_f', 'loco', 'team']\n",
    "    add_header('Полный план по одному из таких поездов:')\n",
    "    for train in long_change.train.values[:1]:\n",
    "        add_line(train_plan[train_plan.train == train][cols])\n",
    "    add_line('')\n",
    "    add_header('Станции, на которых чаще всего происходили длительные стоянки на смену бригад:')\n",
    "    add_line(long_change.st_to_name.value_counts().head(10))\n",
    "else:\n",
    "    add_header('Нет поездов, у которых смена бригады происходит более 6 часов')"
   ]
  },
  {
   "cell_type": "markdown",
   "metadata": {},
   "source": [
    "<a id='dep_interval'></a>\n",
    "## Поиск поездов с интервалом между отправлениями меньше допустимого [ToC](#toc)"
   ]
  },
  {
   "cell_type": "code",
   "execution_count": 388,
   "metadata": {
    "collapsed": true
   },
   "outputs": [],
   "source": [
    "add_header('Поиск поездов с интервалом между отправлениями меньше допустимого', h=2, p=False)"
   ]
  },
  {
   "cell_type": "code",
   "execution_count": 389,
   "metadata": {
    "collapsed": true
   },
   "outputs": [],
   "source": [
    "# Параметры\n",
    "\n",
    "hor = 24 * 3600\n",
    "min_time_delta = 5 * 60 # 5 minutes"
   ]
  },
  {
   "cell_type": "code",
   "execution_count": 390,
   "metadata": {
    "collapsed": true
   },
   "outputs": [],
   "source": [
    "# Функция, которая возвращает датафрейм с коллизиями\n",
    "\n",
    "def check_time_collision(df):\n",
    "    df['link_end'] = (df.st_from != df.st_from.shift(-1)) | (df.st_to != df.st_to.shift(-1))\n",
    "    df['link_start'] = (df.st_from != df.st_from.shift(1)) | (df.st_to != df.st_to.shift(1))\n",
    "    df.loc[df.link_end == False, 'time_to_next'] = df.time_start.shift(-1) - df.time_start\n",
    "    df.loc[df.link_start == False, 'time_to_prev'] = df.time_start - df.time_start.shift(1)\n",
    "    collisions = df.loc[(df.time_to_next < min_time_delta) | (df.time_to_prev < min_time_delta)]\n",
    "    return collisions"
   ]
  },
  {
   "cell_type": "code",
   "execution_count": 391,
   "metadata": {
    "collapsed": false
   },
   "outputs": [
    {
     "name": "stdout",
     "output_type": "stream",
     "text": [
      "Время начала планирования: Jul 06, 14:41\n",
      "Количество коллизий (интервал между поездами меньше 5 минут):\n",
      "                            Тип Из всех поездов Из всех с подвязкой\n",
      "                     Все поезда            1166                 737\n",
      "            Без учета резервных             372                  60\n",
      " Без учета резервных и фейковых             310                  49\n",
      "\n",
      "Реальные и фейковые поезда с интервалами меньше 5 минут (первые 20):\n",
      "           train          loco          team  st_from_name st_to_name   time_start_f     time_end_f\n",
      "    200231057482  200200099503  200200178116     БЕЛОГОРСК    ЛЕДЯНАЯ  Jul 07, 01:50  Jul 07, 03:30\n",
      "    200230875391  200200060037  777700000532     БЕЛОГОРСК    ЛЕДЯНАЯ  Jul 07, 01:50  Jul 07, 03:30\n",
      "    220206150696  200200087829  200200193498  БЕЛОГОРСК II    ЗАВИТАЯ  Jul 07, 11:40  Jul 07, 13:43\n",
      "    220206865437  200200100121  200200115280  БЕЛОГОРСК II    ЗАВИТАЯ  Jul 07, 11:40  Jul 07, 13:43\n",
      "    220205155446  200200102782  200200112262  БЕЛОГОРСК II    ЗАВИТАЯ  Jul 07, 11:40  Jul 07, 13:43\n",
      " 999928836012000  200200071587  200200260804  БЕЛОГОРСК II    ЗАВИТАЯ  Jul 07, 11:40  Jul 07, 13:43\n",
      "    220206360570  200200102726  200200256173  БЕЛОГОРСК II    ЗАВИТАЯ  Jul 07, 11:40  Jul 07, 13:43\n",
      "    210217122704  200200076783  200200123961  БЕЛОГОРСК II    ЗАВИТАЯ  Jul 07, 11:40  Jul 07, 13:43\n",
      "    220206947946  200200030606  200200223662  БЕЛОГОРСК II    ЗАВИТАЯ  Jul 07, 12:50  Jul 07, 14:54\n",
      "    220207207191  200200089356  200200150642  БЕЛОГОРСК II    ЗАВИТАЯ  Jul 07, 12:50  Jul 07, 14:54\n",
      "    220206365306  200200066277  200200183781  БЕЛОГОРСК II    ЗАВИТАЯ  Jul 07, 12:50  Jul 07, 14:54\n",
      "    220206902386  200200078613  200200191905  БЕЛОГОРСК II    ЗАВИТАЯ  Jul 07, 12:50  Jul 07, 14:54\n",
      "    200231016522  200200094350  200200229246  БЕЛОГОРСК II    ЗАВИТАЯ  Jul 07, 12:50  Jul 07, 14:54\n",
      " 999928885022000  200200138826  200200164056      БИСКАМЖА    НАНХЧУЛ  Jul 07, 01:45  Jul 07, 02:08\n",
      "    200231060380  200200090242  777700000525      БИСКАМЖА    НАНХЧУЛ  Jul 07, 01:45  Jul 07, 02:08\n",
      "    200231453881  200200098725  200200095135       БОГОТОЛ    ЗЕРЦАЛЫ  Jul 07, 08:05  Jul 07, 08:54\n",
      "  99998473912002  200200088836  200200223440       БОГОТОЛ    ЗЕРЦАЛЫ  Jul 07, 08:05  Jul 07, 08:54\n",
      "    220207437384  200200079530  200200172559          ЗИМА    ПЕРЕВОЗ  Jul 07, 00:15  Jul 07, 00:30\n",
      "    220206709166  200200091160  777700000353          ЗИМА    ПЕРЕВОЗ  Jul 07, 00:15  Jul 07, 00:30\n",
      " 999912409032001  200200068982  777700001246     КАРЫМСКАЯ     ЧИТА I  Jul 07, 11:10  Jul 07, 13:04\n"
     ]
    }
   ],
   "source": [
    "add_line('Время начала планирования: %s' % nice_time(current_time))\n",
    "cols = ['train', 'loco', 'team', 'st_from_name', 'st_to_name', 'time_start_f', 'time_end_f']\n",
    "train_plan['train_start'] = train_plan.train != train_plan.train.shift(1)\n",
    "train_plan.loc[train_plan.stop_time != -1, 'loco_start'] = (train_plan.loco != train_plan.loco.shift(1)) | \\\n",
    "                                                            (train_plan.train_start)\n",
    "train_plan.loc[train_plan.stop_time != -1, 'team_start'] = train_plan.team != train_plan.team.shift(1)\n",
    "mask = ((train_plan.loco_start == True) | (train_plan.team_start == True)) &\\\n",
    "        (train_plan.time_start < current_time + hor) & (train_plan.time_start >= current_time)\n",
    "assign_mask = (train_plan.loco != '-1') & (train_plan.team != '-1')\n",
    "cols_to_sort = ['st_from_name', 'st_to_name', 'time_start']\n",
    "start_times = train_plan.loc[mask].sort_values(cols_to_sort)\n",
    "start_times_no_res = train_plan.loc[mask & (train_plan.train_type.isin(['2', '9']))].sort_values(cols_to_sort)\n",
    "start_times_real = train_plan.loc[mask & (train_plan.train_type == '2')].sort_values(cols_to_sort)\n",
    "start_times_assign = train_plan.loc[mask & assign_mask].sort_values(cols_to_sort)\n",
    "start_times_assign_no_res = train_plan.loc[mask & assign_mask &\n",
    "                                           (train_plan.train_type.isin(['2', '9']))].sort_values(cols_to_sort)\n",
    "start_times_assign_real = train_plan.loc[mask & assign_mask & (train_plan.train_type == '2')].sort_values(cols_to_sort)\n",
    "\n",
    "all_coll = check_time_collision(start_times)\n",
    "no_res_coll = check_time_collision(start_times_no_res)\n",
    "real_coll = check_time_collision(start_times_real)\n",
    "all_assign_coll = check_time_collision(start_times_assign)\n",
    "no_res_assign_coll = check_time_collision(start_times_assign_no_res)\n",
    "real_assign_coll = check_time_collision(start_times_assign_real)\n",
    "train_n = len(start_times.train.drop_duplicates().index)\n",
    "res = pd.DataFrame([['Все поезда', 'Без учета резервных', 'Без учета резервных и фейковых'],                    \n",
    "                    [len(all_coll.index), len(no_res_coll.index), len(real_coll.index)],                    \n",
    "                    [len(all_assign_coll.index), len(no_res_assign_coll.index), len(real_assign_coll.index)]]).T\n",
    "res.columns = ['Тип', 'Из всех поездов', 'Из всех с подвязкой']\n",
    "add_header('Количество коллизий (интервал между поездами меньше %d минут):' % (min_time_delta / 60))\n",
    "add_line(res)\n",
    "add_header('\\nРеальные и фейковые поезда с интервалами меньше %d минут (первые 20):' % (min_time_delta / 60))\n",
    "add_line(no_res_assign_coll[cols].head(20))"
   ]
  },
  {
   "cell_type": "markdown",
   "metadata": {},
   "source": [
    "<a id='ssp'></a>\n",
    "## Сравнение количества запланированных поездов с данными АС ССП [ToC](#toc)"
   ]
  },
  {
   "cell_type": "code",
   "execution_count": 392,
   "metadata": {
    "collapsed": true
   },
   "outputs": [],
   "source": [
    "add_header('Сравнение количества запланированных поездов с данными АС ССП', h=2, p=False)"
   ]
  },
  {
   "cell_type": "code",
   "execution_count": 393,
   "metadata": {
    "collapsed": true
   },
   "outputs": [],
   "source": [
    "def count_volumes(full_plan, df_ssp):\n",
    "    hor = 24 * 3600\n",
    "    df_ssp.dep_dir.fillna(0, inplace=True)    \n",
    "    df_ssp.loc[df_ssp.dep_dir == 0, 'depart'] = 0\n",
    "    df_ssp.dropna(subset=['depart'], inplace=True)\n",
    "    \n",
    "    ssp_st_froms = df_ssp.loc[df_ssp.dep_dir == 0].station\n",
    "    mask_time = (full_plan.time_start >= current_time) & (full_plan.time_start < current_time + hor)\n",
    "    mask_type = full_plan.train_type.isin(['2', '9'])\n",
    "    trains = full_plan.loc[mask_time & mask_type & full_plan.st_from_name.isin(ssp_st_froms)].\\\n",
    "                        groupby(['st_from_name', 'st_to_name']).train.count()\n",
    "    df_ssp.loc[df_ssp.dep_dir == 0, 'st_from_name'] = df_ssp.station\n",
    "    df_ssp = df_ssp.fillna(method='ffill')\n",
    "    df_ssp['st_to_name'] = df_ssp.station\n",
    "    replace_st_from_names = df_ssp.loc[df_ssp.dep_dir == 0, ['st_from_name', 'st_show_name']].drop_duplicates()\n",
    "    df_ssp['st_from_show'] = df_ssp.st_from_name.map(replace_st_from_names.set_index('st_from_name').st_show_name)\n",
    "    df_ssp['st_to_show'] = df_ssp.st_show_name    \n",
    "    return trains.to_frame().join(df_ssp[['st_from_name', 'st_to_name', 'depart', 'st_from_show', 'st_to_show', 'dep_dir']].\\\n",
    "                                  set_index(['st_from_name', 'st_to_name'])).reset_index()"
   ]
  },
  {
   "cell_type": "code",
   "execution_count": 394,
   "metadata": {
    "collapsed": true
   },
   "outputs": [],
   "source": [
    "def show_barplot(df, road_name):\n",
    "    df['delta'] = df.train - df.depart\n",
    "    df['percent'] = np.round(100 * df.delta / df.depart, 2)\n",
    "    df['st_from_short'] = df.st_from_show.apply(lambda x: str(x)[:25])\n",
    "    df['st_to_short'] = df.st_to_show.apply(lambda x: str(x)[:25])\n",
    "    df['link'] = df.st_from_short + ' - ' + df.st_to_short \n",
    "    \n",
    "    print('%s железная дорога:' % road_name)\n",
    "    print('Среднее и медиана абсолютного отклонения: %.2f, %.2f' % (df.delta.mean(), df.delta.median()))\n",
    "    print('Среднее и медиана относительного отклонения (в процентах): %.2f%%, %.2f%%' % (df.percent.mean(), df.percent.median()))\n",
    "\n",
    "    b = df.sort_values('delta', ascending=False)\n",
    "    sns.set_style('whitegrid')\n",
    "    sns.set_context('poster', font_scale=0.7, rc={'axes.labelsize': 18})\n",
    "    c = sns.barplot(y='link', x='delta', data=df.sort_values('delta', ascending=False), palette='coolwarm')\n",
    "    xlabel = '%s ж/д: отклонение от данных АС ССП по отправлению поездов на сутки' % road_name\n",
    "    c.set(xlabel=xlabel, ylabel='')"
   ]
  },
  {
   "cell_type": "code",
   "execution_count": 395,
   "metadata": {
    "collapsed": false
   },
   "outputs": [],
   "source": [
    "VOL_PERCENT = 0.9\n",
    "\n",
    "def show_two_barplots(df, road_name, save=False, btype='less'):\n",
    "    df['st_from_short'] = df.st_from_show.apply(lambda x: str(x)[:25])\n",
    "    df['st_to_short'] = df.st_to_show.apply(lambda x: str(x)[:25])\n",
    "    df['link'] = df.st_from_short + ' - ' + df.st_to_short     \n",
    "    sns.set_style('whitegrid')    \n",
    "    sns.set_context('poster', font_scale=0.7, rc={'axes.titlesize':18, 'axes.labelsize':14})\n",
    "    fig, ax = plt.subplots(nrows=2, ncols=1, figsize=(14,20))    \n",
    "    df.depart.fillna(0, inplace=True)    \n",
    "    df['bottom'] = df.apply(lambda row: row.depart if row.train <= row.depart else row.train, axis=1)\n",
    "    df['top'] = df.apply(lambda row: row.train if row.train <= row.depart else row.depart, axis=1)     \n",
    "    \n",
    "    sns.set_color_codes('pastel')\n",
    "    sns.barplot(x='bottom', y='link', data=df[df.train <= VOL_PERCENT * df.depart].sort_values('bottom'), \n",
    "                label='Поезда из АС ССП', color=\"b\", orient='h', ax=ax[0])\n",
    "    sns.barplot(x='bottom', y='link', data=df[df.train * VOL_PERCENT > df.depart].sort_values('bottom'), \n",
    "                label='Поезда в результатах', color=\"r\", orient='h', ax=ax[1])\n",
    "    sns.set_color_codes('muted')\n",
    "    sns.barplot(x='top', y='link', data=df[df.train <= VOL_PERCENT * df.depart].sort_values('bottom'), \n",
    "                label='Поезда в результатах', color=\"b\", orient='h', ax=ax[0])\n",
    "    sns.barplot(x='top', y='link', data=df[df.train * VOL_PERCENT > df.depart].sort_values('bottom'), \n",
    "                label='Поезда из АС ССП', color=\"r\", orient='h', ax=ax[1])    \n",
    "    ax[0].legend(ncol=1, loc=\"upper right\", frameon=True)    \n",
    "    ax[1].legend(ncol=1, loc=\"upper right\", frameon=True)\n",
    "    ax[0].set(xlabel='', title='Нехватка запланированных поездов')\n",
    "    ax[1].set(xlabel='', title='Избыток запланированных поездов')\n",
    "    \n",
    "    sns.despine()\n",
    "    if save:\n",
    "        filename = road_name + '.png'\n",
    "        fig.savefig(REPORT_FOLDER + filename, bbox_inches='tight')\n",
    "        add_image(filename, scale=1.0)"
   ]
  },
  {
   "cell_type": "code",
   "execution_count": 396,
   "metadata": {
    "collapsed": false
   },
   "outputs": [],
   "source": [
    "def print_ssp_stats(ssp, road_name):\n",
    "    df = count_volumes(train_plan, ssp)\n",
    "    df.rename(columns={'train':'planned', 'depart':'ssp'}, inplace=True)\n",
    "    df.dropna(subset=['ssp'], inplace=True)\n",
    "    df['delta'] = df.planned - df.ssp    \n",
    "    cols = ['st_from_name', 'st_to_show', 'dep_dir', 'planned', 'ssp', 'delta']    \n",
    "    add_header('Дорога %s' % road_name, h=3)\n",
    "    add_header('Сравнение запланированного и \"нормативного\" количества поездов:')\n",
    "    add_line(df.sort_values(['dep_dir', 'delta'])[cols])\n",
    "    add_line('')\n",
    "    add_header('Среднее отклонение по количеству поездов по направлениям:')\n",
    "    add_line(df.groupby('dep_dir').delta.mean().apply(lambda x: np.round(x, 2)))"
   ]
  },
  {
   "cell_type": "code",
   "execution_count": 397,
   "metadata": {
    "collapsed": false
   },
   "outputs": [],
   "source": [
    "krs = pd.read_csv(FOLDER + 'mandatory/SSP_KRS.csv', sep=';')\n",
    "vsib = pd.read_csv(FOLDER + 'mandatory/SSP_VSIB.csv', sep=';')\n",
    "zab = pd.read_csv(FOLDER + 'mandatory/SSP_ZAB.csv', sep=';')\n",
    "dvs = pd.read_csv(FOLDER + 'mandatory/SSP_DVS.csv', sep=';')"
   ]
  },
  {
   "cell_type": "code",
   "execution_count": 398,
   "metadata": {
    "collapsed": false
   },
   "outputs": [
    {
     "name": "stdout",
     "output_type": "stream",
     "text": [
      "Дорога КРАС\n",
      "Сравнение запланированного и \"нормативного\" количества поездов:\n",
      "         st_from_name           st_to_show dep_dir  planned  ssp  delta\n",
      "              БОГОТОЛ             МАРИИНСК     неч       46   54     -8\n",
      "             АЧИНСК I              БОГОТОЛ     неч       50   54     -4\n",
      "               АБАКАН               ТАШЕБА     неч       23   26     -3\n",
      "             АЧИНСК I            АЧИНСК II     неч        1    4     -3\n",
      "             САЯНСКАЯ          КОШУРНИКОВО     неч       21   24     -3\n",
      " КРАСНОЯРСК-ВОСТОЧНЫЙ  КРАСНОЯРСК-СЕВЕРНЫЙ     неч       55   54      1\n",
      "             ИЛАНСКАЯ                  УЯР     неч       56   52      4\n",
      "             МАРИИНСК              БОГОТОЛ     чет       32   62    -30\n",
      "              БОГОТОЛ             АЧИНСК I     чет       49   62    -13\n",
      "             АЧИНСК I       ЧЕРНОРЕЧЕНСКАЯ     чет       52   62    -10\n",
      "             ИЛАНСКАЯ                 ЮРТЫ     чет       57   66     -9\n",
      "               АБАКАН            МИНУСИНСК     чет       22   26     -4\n",
      " КРАСНОЯРСК-ВОСТОЧНЫЙ                  УЯР     чет       64   66     -2\n",
      "             САЯНСКАЯ                  УЯР     чет        8    8      0\n",
      "             АЧИНСК I          ЛЕСОСИБИРСК     чет        6    4      2\n",
      "             САЯНСКАЯ               ТАЙШЕТ     чет       25   22      3\n",
      "\n",
      "Среднее отклонение по количеству поездов по направлениям:\n",
      "dep_dir\n",
      "неч   -2.29\n",
      "чет   -7.00\n"
     ]
    }
   ],
   "source": [
    "print_ssp_stats(krs, 'КРАС')"
   ]
  },
  {
   "cell_type": "code",
   "execution_count": 399,
   "metadata": {
    "collapsed": false
   },
   "outputs": [
    {
     "name": "stdout",
     "output_type": "stream",
     "text": [
      "Дорога ВСИБ\n",
      "Сравнение запланированного и \"нормативного\" количества поездов:\n",
      "          st_from_name            st_to_show dep_dir  planned  ssp  delta\n",
      " ИРКУТСК-СОРТИРОВОЧНЫЙ                  ЗИМА     неч       42   70    -28\n",
      "                  ЗИМА           НИЖНЕУДИНСК     неч       50   70    -20\n",
      "                ТАЙШЕТ              САЯНСКАЯ     неч       14   22     -8\n",
      "                ТАЙШЕТ                  ЮРТЫ     неч       46   54     -8\n",
      "             ХРЕБТОВАЯ        ГИДРОСТРОИТЕЛЬ     неч        9   16     -7\n",
      "             ВИХОРЕВКА                  ЧУНА     неч       12   18     -6\n",
      "            СЛЮДЯНКА I  ИРКУТСК-СОРТИРОВОЧНЫ     неч       60   66     -6\n",
      "            ЗАУДИНСКИЙ               МЫСОВАЯ     неч       59   62     -3\n",
      "            НОВАЯ ЧАРА               ТАКСИМО     неч        5    8     -3\n",
      "       СЕВЕРОБАЙКАЛЬСК               КИРЕНГА     неч        7   10     -3\n",
      "               ТАКСИМО            НОВЫЙ УОЯН     неч        7   10     -3\n",
      "           НИЖНЕУДИНСК                ТАЙШЕТ     неч       67   68     -1\n",
      "            НОВЫЙ УОЯН       СЕВЕРОБАЙКАЛЬСК     неч        9   10     -1\n",
      "                НАУШКИ              УЛАН-УДЭ     неч        3    3      0\n",
      "                  ЛЕНА               КИРЕНГА     неч       14   10      4\n",
      " ИРКУТСК-СОРТИРОВОЧНЫЙ            СЛЮДЯНКА I     чет       71   86    -15\n",
      "                  ЛЕНА             КОРШУНИХА     чет        7   18    -11\n",
      "            СЛЮДЯНКА I               МЫСОВАЯ     чет       79   86     -7\n",
      "            ЗАУДИНСКИЙ      ПЕТРОВСКИЙ ЗАВОД     чет       80   84     -4\n",
      "                ТАЙШЕТ            НЕВЕЛЬСКАЯ     чет       20   24     -4\n",
      "             ВИХОРЕВКА        ГИДРОСТРОИТЕЛЬ     чет       21   22     -1\n",
      "               ТАКСИМО            НОВАЯ ЧАРА     чет       13   14     -1\n",
      "            ЗАУДИНСКИЙ                НАУШКИ     чет        3    3      0\n",
      "            НОВЫЙ УОЯН               ТАКСИМО     чет       16   14      2\n",
      "            НОВАЯ ЧАРА                  ХАНИ     чет       14   11      3\n",
      "       СЕВЕРОБАЙКАЛЬСК            НОВЫЙ УОЯН     чет       17   14      3\n",
      "                ТАЙШЕТ           НИЖНЕУДИНСК     чет       81   74      7\n",
      "                  ЗИМА  ИРКУТСК-СОРТИРОВОЧНЫ     чет       89   78     11\n",
      "           НИЖНЕУДИНСК                  ЗИМА     чет       87   74     13\n",
      "\n",
      "Среднее отклонение по количеству поездов по направлениям:\n",
      "dep_dir\n",
      "неч   -6.20\n",
      "чет   -0.29\n"
     ]
    }
   ],
   "source": [
    "print_ssp_stats(vsib, 'ВСИБ')"
   ]
  },
  {
   "cell_type": "code",
   "execution_count": 400,
   "metadata": {
    "collapsed": false
   },
   "outputs": [
    {
     "name": "stdout",
     "output_type": "stream",
     "text": [
      "Дорога ЗАБ\n",
      "Сравнение запланированного и \"нормативного\" количества поездов:\n",
      "             st_from_name            st_to_show dep_dir  planned  ssp  delta\n",
      "                   ЧИТА I                 ХИЛОК     неч       50   74    -24\n",
      "              ШИМАНОВСКАЯ             МАГДАГАЧИ     неч       64   85    -21\n",
      "                   АРХАРА             БЕЛОГОРСК     неч       61   80    -19\n",
      "                БЕЛОГОРСК           ШИМАНОВСКАЯ     неч       66   83    -17\n",
      "                    ХИЛОК      ПЕТРОВСКИЙ ЗАВОД     неч       56   70    -14\n",
      " ЧЕРНЫШЕВСК-ЗАБАЙКАЛЬСКИЙ        ШИЛКА-ТОВАРНАЯ     неч       57   70    -13\n",
      "           ШИЛКА-ТОВАРНАЯ             КАРЫМСКАЯ     неч       55   68    -13\n",
      "                МАГДАГАЧИ           СКОВОРОДИНО     неч       74   84    -10\n",
      "                  ГОРЕЛЫЙ                 УРУША     неч       72   80     -8\n",
      "                  ТАРСКАЯ                ЧИТА I     неч       69   75     -6\n",
      "                   МОГОЧА  ЧЕРНЫШЕВСК-ЗАБАЙКАЛЬ     неч       67   70     -3\n",
      "                ОЛОВЯННАЯ             КАРЫМСКАЯ     неч       11   14     -3\n",
      "                    УРУША                МОГОЧА     неч       69   70     -1\n",
      "              ЗАБАЙКАЛЬСК                 БОРЗЯ     неч       14   12      2\n",
      "         ПЕТРОВСКИЙ ЗАВОД              УЛАН-УДЭ     неч       63   60      3\n",
      "                    БОРЗЯ             ОЛОВЯННАЯ     неч       18   13      5\n",
      "                  ТАРСКАЯ        ШИЛКА-ТОВАРНАЯ     чет       52   73    -21\n",
      "           ШИЛКА-ТОВАРНАЯ  ЧЕРНЫШЕВСК-ЗАБАЙКАЛЬ     чет       55   73    -18\n",
      "                   АРХАРА               ОБЛУЧЬЕ     чет       69   85    -16\n",
      " ЧЕРНЫШЕВСК-ЗАБАЙКАЛЬСКИЙ                МОГОЧА     чет       61   76    -15\n",
      "                МАГДАГАЧИ           ШИМАНОВСКАЯ     чет       83   93    -10\n",
      "         ПЕТРОВСКИЙ ЗАВОД                 ХИЛОК     чет       75   85    -10\n",
      "                   ЧИТА I             КАРЫМСКАЯ     чет       77   85     -8\n",
      "              ШИМАНОВСКАЯ             БЕЛОГОРСК     чет       85   92     -7\n",
      "                    ХИЛОК                ЧИТА I     чет       81   85     -4\n",
      "                  ГОРЕЛЫЙ             МАГДАГАЧИ     чет       93   95     -2\n",
      "                   МОГОЧА                 УРУША     чет       79   80     -1\n",
      "                    УРУША           СКОВОРОДИНО     чет       95   93      2\n",
      "                ОЛОВЯННАЯ                 БОРЗЯ     чет       15   12      3\n",
      "                  ТАРСКАЯ             ОЛОВЯННАЯ     чет       15   12      3\n",
      "                БЕЛОГОРСК                АРХАРА     чет       89   85      4\n",
      "                    БОРЗЯ           ЗАБАЙКАЛЬСК     чет       19   10      9\n",
      "\n",
      "Среднее отклонение по количеству поездов по направлениям:\n",
      "dep_dir\n",
      "неч   -8.88\n",
      "чет   -5.69\n"
     ]
    }
   ],
   "source": [
    "print_ssp_stats(zab, 'ЗАБ')"
   ]
  },
  {
   "cell_type": "code",
   "execution_count": 401,
   "metadata": {
    "collapsed": false
   },
   "outputs": [
    {
     "name": "stdout",
     "output_type": "stream",
     "text": [
      "Дорога ДВС\n",
      "Сравнение запланированного и \"нормативного\" количества поездов:\n",
      "                       st_from_name            st_to_show dep_dir  planned  ssp  delta\n",
      "                          УССУРИЙСК             СИБИРЦЕВО     неч       24   58    -34\n",
      "                          СИБИРЦЕВО        СПАССК-ДАЛЬНИЙ     неч       25   58    -33\n",
      "                             РУЖИНО              ГУБЕРОВО     неч       28   58    -30\n",
      "                        СМОЛЯНИНОВО               УГЛОВАЯ     неч       16   40    -24\n",
      "                             ВАНИНО          ВЫСОКОГОРНАЯ     неч        6   22    -16\n",
      "                       ВЫСОКОГОРНАЯ     КОМСОМОЛЬСК-СОРТ.     неч        9   22    -13\n",
      "                       ХАБАРОВСК II               ОБЛУЧЬЕ     неч       48   58    -10\n",
      "                             АРХАРА             БЕЛОГОРСК     неч       61   70     -9\n",
      "                          ГРОДЕКОВО        ГРОДЕКОВО(КИТ)     неч        5   13     -8\n",
      " КОМСОМОЛЬСК-НА-АМУРЕ-СОРТИРОВОЧНЫЙ             ПОСТЫШЕВО     неч        4   10     -6\n",
      "                              ТЫНДА                  ХАНИ     неч        5    9     -4\n",
      "                          СИБИРЦЕВО         НОВОКАЧАЛИНСК     неч        2    2      0\n",
      "                              ТЫНДА                 ШТУРМ     неч       13   13      0\n",
      "                      ВОЛОЧАЕВКА II               ОБЛУЧЬЕ     неч       12    7      5\n",
      "                           ГВОЗДЕВО             УССУРИЙСК     неч       10    4      6\n",
      "                        НОВЫЙ УРГАЛ               ЭТЫРКЭН     неч       11    5      6\n",
      " КОМСОМОЛЬСК-НА-АМУРЕ-СОРТИРОВОЧНЫЙ         ВОЛОЧАЕВКА II     неч       29   14     15\n",
      "                        ИЗВЕСТКОВАЯ               ОБЛУЧЬЕ     неч       49    1     48\n",
      "                        СМОЛЯНИНОВО            ПАРТИЗАНСК     чет       25   40    -15\n",
      "                          УССУРИЙСК              УГОЛЬНАЯ     чет        3   18    -15\n",
      "                       ВЫСОКОГОРНАЯ                ВАНИНО     чет       13   24    -11\n",
      "                      ВОЛОЧАЕВКА II  КОМСОМОЛЬСК-СОРТИРОВ     чет       17   20     -3\n",
      "                        ИЗВЕСТКОВАЯ           НОВЫЙ УРГАЛ     чет        2    3     -1\n",
      "                          СИБИРЦЕВО          НОВОЧУГУЕВКА     чет        3    2      1\n",
      "                      ВОЛОЧАЕВКА II          ХАБАРОВСК II     чет       10    4      6\n",
      "                           ГВОЗДЕВО                 ХАСАН     чет        9    1      8\n",
      " КОМСОМОЛЬСК-НА-АМУРЕ-СОРТИРОВОЧНЫЙ          ВЫСОКОГОРНАЯ     чет       33   24      9\n",
      "                       ХАБАРОВСК II                 БИКИН     чет       71   60     11\n",
      "                              ТЫНДА             ФЕВРАЛЬСК     чет       25   10     15\n",
      "                          СИБИРЦЕВО             УССУРИЙСК     чет       76   58     18\n",
      "                          УССУРИЙСК               УГЛОВАЯ     чет       61   40     21\n",
      "                             РУЖИНО        СПАССК-ДАЛЬНИЙ     чет       82   58     24\n",
      "                             АРХАРА               ОБЛУЧЬЕ     чет       69   25     44\n",
      "                        ИЗВЕСТКОВАЯ          ХАБАРОВСК II     чет       63    2     61\n",
      "\n",
      "Среднее отклонение по количеству поездов по направлениям:\n",
      "dep_dir\n",
      "неч    -5.94\n",
      "чет    10.81\n"
     ]
    }
   ],
   "source": [
    "print_ssp_stats(dvs, 'ДВС')"
   ]
  },
  {
   "cell_type": "code",
   "execution_count": 402,
   "metadata": {
    "collapsed": false
   },
   "outputs": [],
   "source": [
    "# Пример построения barplot\n",
    "\n",
    "#krs = pd.read_csv(FOLDER + 'mandatory/SSP_KRS.csv', sep=';')\n",
    "#add_header('Красноярская дорога')\n",
    "#try:\n",
    "#    show_two_barplots(count_volumes(train_plan, krs), 'Красноярская', save=True, btype='less')\n",
    "#except:\n",
    "#    add_line('Красноярская дорога: ошибка в построении графика')"
   ]
  },
  {
   "cell_type": "markdown",
   "metadata": {},
   "source": [
    "<a id='info_plan_depart'></a>\n",
    "## Проверка соответствия первого участка в запланированном маршруте и исходного факта [ToC](#toc)"
   ]
  },
  {
   "cell_type": "code",
   "execution_count": 403,
   "metadata": {
    "collapsed": true
   },
   "outputs": [],
   "source": [
    "add_header('Проверка соответствия первого участка в запланированном маршруте и исходного факта', h=2, p=False)"
   ]
  },
  {
   "cell_type": "code",
   "execution_count": 404,
   "metadata": {
    "collapsed": false
   },
   "outputs": [
    {
     "name": "stdout",
     "output_type": "stream",
     "text": [
      "Поезда, у которых первый участок в маршруте не совпадает с исходным (всего 2, показаны первые 10):\n",
      "        train st_from_name st_to_name   time_start_f st_from_name_info st_to_name_info    oper_time_f\n",
      " 200230977083       ТАЙШЕТ       ЮРТЫ  Jul 06, 14:41            ТАЙШЕТ           ТАГУЛ  Jul 06, 10:00\n",
      " 200230507507       ТАЙШЕТ       ЮРТЫ  Jul 06, 14:41            ТАЙШЕТ           ТАГУЛ  Jul 06, 08:31\n",
      "\n",
      "Поезда, у которых время отправления на первый участок в маршруте не совпадает с фактическим (всего 91, показаны первые 10):\n",
      "        train    st_from_name          st_to_name   time_start_f st_from_name_info     st_to_name_info    oper_time_f\n",
      " 200230983555         ЛЕДЯНАЯ           БЕЛОГОРСК  Jul 06, 19:15           ЛЕДЯНАЯ           БЕЛОГОРСК  Jul 05, 19:27\n",
      " 200230978430  ГИДРОСТРОИТЕЛЬ  КОРШУНИХА-АНГАР...  Jul 07, 01:04    ГИДРОСТРОИТЕЛЬ  КОРШУНИХА-АНГАР...  Jul 05, 19:52\n",
      " 220207428549    ОРОСИТЕЛЬНЫЙ           ЕРБИНСКАЯ  Jul 07, 17:25      ОРОСИТЕЛЬНЫЙ           ЕРБИНСКАЯ  Jul 05, 21:13\n",
      " 200231041888          ЭВОРОН  КОМСОМОЛЬСК-НА-...  Jul 06, 22:10            ЭВОРОН  КОМСОМОЛЬСК-НА-...  Jul 05, 23:31\n",
      " 200230833772       КАРЫМСКАЯ             ТАРСКАЯ  Jul 07, 00:05         КАРЫМСКАЯ             ТАРСКАЯ  Jul 05, 23:35\n",
      " 200231055465           ТЫНДА               ШТУРМ  Jul 07, 09:15             ТЫНДА               ШТУРМ  Jul 05, 23:52\n",
      " 200231008322   ВОЛОЧАЕВКА II             СЕЛЬГОН  Jul 06, 04:50     ВОЛОЧАЕВКА II             СЕЛЬГОН  Jul 06, 01:42\n",
      " 200231228084        ШМАКОВКА      СПАССК-ДАЛЬНИЙ  Jul 06, 18:40          ШМАКОВКА      СПАССК-ДАЛЬНИЙ  Jul 06, 03:19\n",
      " 200231218786        ШМАКОВКА      СПАССК-ДАЛЬНИЙ  Jul 06, 18:55          ШМАКОВКА      СПАССК-ДАЛЬНИЙ  Jul 06, 04:28\n",
      " 200231234244             NaN        ВОЛОЧАЕВКА I  Jul 06, 19:10               NaN        ВОЛОЧАЕВКА I  Jul 06, 04:34\n"
     ]
    }
   ],
   "source": [
    "cols = ['train', 'st_from_name', 'st_to_name', 'time_start_f', 'st_from_name_info', 'st_to_name_info', 'oper_time_f']\n",
    "td_plan = train_plan[(train_plan.st_from_info.isnull() == False) \n",
    "                     & (train_plan.st_from_info != '-1')].drop_duplicates('train')\n",
    "td_bad_track = td_plan[(td_plan.st_from != td_plan.st_from_info) | (td_plan.st_to != td_plan.st_to_info)]\n",
    "add_header('Поезда, у которых первый участок в маршруте не совпадает с исходным (всего %d, показаны первые 10):' \n",
    "          % td_bad_track.train.count())\n",
    "add_line(td_bad_track[cols])\n",
    "\n",
    "td_bad_time = td_plan[(td_plan.time_start != td_plan.oper_time)]\n",
    "add_header('\\nПоезда, у которых время отправления на первый участок в маршруте не совпадает с фактическим (всего %d, показаны первые 10):' \n",
    "          % td_bad_time.train.count())\n",
    "pd.set_option('display.max_colwidth', 19)\n",
    "add_line(td_bad_time.sort_values('oper_time')[cols].head(10))"
   ]
  },
  {
   "cell_type": "markdown",
   "metadata": {},
   "source": [
    "<a id='time_leaps'></a>\n",
    "## Проверка скачков по времени назад [ToC](#toc)"
   ]
  },
  {
   "cell_type": "code",
   "execution_count": 405,
   "metadata": {
    "collapsed": true
   },
   "outputs": [],
   "source": [
    "add_header('Проверка скачков по времени назад', h=2, p=False)"
   ]
  },
  {
   "cell_type": "code",
   "execution_count": 406,
   "metadata": {
    "collapsed": false
   },
   "outputs": [
    {
     "name": "stdout",
     "output_type": "stream",
     "text": [
      "Не найдено поездов со скачками по времени назад в плане\n"
     ]
    }
   ],
   "source": [
    "train_plan['next_time_start'] = train_plan.time_start.shift(-1)\n",
    "train_plan['next_time_start_f'] = train_plan.time_start_f.shift(-1)\n",
    "train_plan['train_end'] = train_plan.train != train_plan.train.shift(-1)\n",
    "cols = ['train', 'st_from_name', 'st_to_name', 'time_start_f', 'time_end_f', 'next_time_start_f']\n",
    "leaps = train_plan[(train_plan.train_end == False) & (train_plan.next_time_start < train_plan.time_end)][cols]\n",
    "if leaps.empty:\n",
    "    add_header('Не найдено поездов со скачками по времени назад в плане')\n",
    "else:\n",
    "    add_header('Всего %d поездов со скачками по времени назад в плане. Примеры:' % leaps.train.count())\n",
    "    add_line(leaps.head(10)[cols])"
   ]
  },
  {
   "cell_type": "markdown",
   "metadata": {},
   "source": [
    "<a id='report'></a>\n",
    "### Экспорт в HTML [ToC](#toc)"
   ]
  },
  {
   "cell_type": "code",
   "execution_count": 407,
   "metadata": {
    "collapsed": false
   },
   "outputs": [
    {
     "name": "stdout",
     "output_type": "stream",
     "text": [
      "Отчет сформирован: report/train_report_20160708_172253.html\n"
     ]
    }
   ],
   "source": [
    "filename = REPORT_FOLDER + 'train_report_' + time.strftime('%Y%m%d_%H%M%S', time.localtime(time.time())) + '.html'\n",
    "create_report(filename)"
   ]
  }
 ],
 "metadata": {
  "kernelspec": {
   "display_name": "Python 3",
   "language": "python",
   "name": "python3"
  },
  "language_info": {
   "codemirror_mode": {
    "name": "ipython",
    "version": 3
   },
   "file_extension": ".py",
   "mimetype": "text/x-python",
   "name": "python",
   "nbconvert_exporter": "python",
   "pygments_lexer": "ipython3",
   "version": "3.5.1"
  }
 },
 "nbformat": 4,
 "nbformat_minor": 0
}
