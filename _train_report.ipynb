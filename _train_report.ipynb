{
 "cells": [
  {
   "cell_type": "markdown",
   "metadata": {},
   "source": [
    "<a id='toc'></a>\n",
    "# Отчет по запланированным поездам\n",
    "\n",
    "1. [Проверка планирования всех реальных поездов](#all_plan)\n",
    "1. [Проверка совпадения четности номеров поездов и направления движения](#oddity)\n",
    "2. [Анализ времен стоянок поездов на станциях смены локомотивов и бригад.](#stop_time)\n",
    "   1. [Смена локомотивов](#stop_loco)\n",
    "   2. [Смена бригад](#stop_team)\n",
    "4. [Выявление случаев \"близкой\" отправки поездов с одной станции (с интервалом меньше 5 минут)](#dep_interval)\n",
    "5. [Анализ отклонения запланированного на сутки количества поездов от данных АС ССП (данные средние по суткам).](#ssp)\n",
    "6. [Проверка соответствия первого участка в запланированном маршруте и исходного факта](#info_plan_depart)\n",
    "6. [Детальное сравнение количества поездов по Иркутску с данными ССП](#irk_ssp)\n",
    "7. [Планирование сдвоенных поездов и поездов, составляющих сдвоенные](#Планирование-сдвоенных-поездов-и-поездов,-составляющих-сдвоенные)\n",
    "6. [Создание отчета](#report)"
   ]
  },
  {
   "cell_type": "markdown",
   "metadata": {},
   "source": [
    "### Функции для экспорта в HTML"
   ]
  },
  {
   "cell_type": "code",
   "execution_count": 265,
   "metadata": {
    "collapsed": true
   },
   "outputs": [],
   "source": [
    "report = ''\n",
    "FOLDER = 'resources/'\n",
    "REPORT_FOLDER = 'report/'\n",
    "PRINT = True"
   ]
  },
  {
   "cell_type": "code",
   "execution_count": 266,
   "metadata": {
    "collapsed": true
   },
   "outputs": [],
   "source": [
    "def add_line(line, p=PRINT):    \n",
    "    global report        \n",
    "    if p:                \n",
    "        if type(line) == pd.core.frame.DataFrame:\n",
    "            print(line.to_string(index=False))\n",
    "        elif type(line) == pd.core.series.Series:\n",
    "            print(line.to_string())\n",
    "        else:\n",
    "            print(line)\n",
    "    if type(line) == pd.core.frame.DataFrame:        \n",
    "        report += ('%s<br>' % line.to_html(index=False))\n",
    "    elif type(line) == pd.core.series.Series:\n",
    "        report += ('%s<br>' % line.to_frame().reset_index().to_html(index=False))\n",
    "    else:        \n",
    "        report += ('%s<br>' % line)\n",
    "    \n",
    "def add_header(header, h=4, p=PRINT):\n",
    "    global report\n",
    "    report += ('<h%d>%s</h%d>' % (h, header, h))\n",
    "    if p:\n",
    "        print(header)\n",
    "\n",
    "def add_image(filename, scale=0.4):\n",
    "    global report\n",
    "    report += ('<img src=\"%s\" alt=\"%s\" height=\"%d%%\">' % (filename, filename, int(scale * 100)))\n",
    "\n",
    "def create_report(filename):\n",
    "    global report\n",
    "    report = report.replace('<table border=\"1\" class=\"dataframe\">','<table class=\"table table-striped\">')\n",
    "    html_string = '''\n",
    "        <html>\n",
    "            <head>\n",
    "                <link rel=\"stylesheet\" href=\"skeleton.css\">\n",
    "                <style>body{ margin:20 20; background:whitesmoke; }\n",
    "                table {table-layout : fixed}\n",
    "                </style>\n",
    "            </head>\n",
    "            <body>                \n",
    "                %s\n",
    "            </body>\n",
    "        </html>''' % (report)\n",
    "    f = open(filename,'w', encoding='utf-8-sig')\n",
    "    f.write(html_string)\n",
    "    f.close()\n",
    "    print('Отчет сформирован: %s' % filename)"
   ]
  },
  {
   "cell_type": "markdown",
   "metadata": {},
   "source": [
    "## Загрузка и подготовка данных"
   ]
  },
  {
   "cell_type": "code",
   "execution_count": 267,
   "metadata": {
    "collapsed": false
   },
   "outputs": [
    {
     "name": "stdout",
     "output_type": "stream",
     "text": [
      "Время составления отчета: 05/08 17:40\n",
      "Время запуска планировщика: 03/08 12:20 (1470216024)\n"
     ]
    }
   ],
   "source": [
    "import numpy as np\n",
    "import pandas as pd\n",
    "import time, datetime\n",
    "from ast import literal_eval\n",
    "import matplotlib.pyplot as plt\n",
    "import seaborn as sns\n",
    "\n",
    "%matplotlib inline\n",
    "plt.style.use('fivethirtyeight')\n",
    "plt.rc('font', family='Tahoma')\n",
    "\n",
    "pd.set_option('max_rows', 50)\n",
    "\n",
    "time_format = '%d/%m %H:%M'\n",
    "\n",
    "start_time = time.time()\n",
    "current_time = pd.read_csv(FOLDER + 'current_time.csv').current_time[0]\n",
    "twr          = pd.read_csv(FOLDER + 'team_work_region.csv', converters={'twr':str})\n",
    "links        = pd.read_csv(FOLDER + 'link.csv', converters={'st_from':str, 'st_to':str})\n",
    "stations     = pd.read_csv(FOLDER + 'station.csv', converters={'station':str})\n",
    "train_info   = pd.read_csv(FOLDER + 'train_info.csv', converters={'train': str, 'st_from':str, 'st_to':str, 'joint':str,\n",
    "                                                                 'start_st':str, 'end_st':str})\n",
    "train_plan   = pd.read_csv(FOLDER + 'slot_train.csv', converters={'train': str, 'st_from':str, 'st_to':str})\n",
    "loco_info    = pd.read_csv(FOLDER + 'loco_attributes.csv', converters={'train':str, 'loco':str, 'st_from':str, 'st_to':str})\n",
    "loco_plan    = pd.read_csv(FOLDER + 'slot_loco.csv', converters={'train':str, 'loco':str, 'st_from':str, 'st_to':str})\n",
    "team_info    = pd.read_csv(FOLDER + 'team_attributes.csv', converters={'team':str,'depot':str, 'oper_location':str, \\\n",
    "                                                     'st_from':str, 'st_to':str, 'loco':str, 'depot_st':str})\n",
    "team_plan    = pd.read_csv(FOLDER + 'slot_team.csv', converters={'team':str,'loco':str, 'st_from':str, 'st_to':str})\n",
    "loco_series  = pd.read_csv(FOLDER + 'loco_series.csv')\n",
    "task         = pd.read_csv(FOLDER + 'task.csv', converters={'st_from':str, 'st_to':str, 'st_next':str})\n",
    "\n",
    "st_names     = stations[['station', 'name', 'esr']].drop_duplicates().set_index('station')\n",
    "team_info.regions = team_info.regions.apply(literal_eval)\n",
    "\n",
    "print('Время составления отчета:', time.strftime(time_format, time.localtime()))\n",
    "print('Время запуска планировщика: %s (%d)' % (time.strftime(time_format, time.localtime(current_time)), current_time))"
   ]
  },
  {
   "cell_type": "code",
   "execution_count": 268,
   "metadata": {
    "collapsed": false
   },
   "outputs": [],
   "source": [
    "def nice_time(t):        \n",
    "    return time.strftime(time_format, time.localtime(t)) if np.isnan(t) == False else None\n",
    "\n",
    "def add_info(df):    \n",
    "    if 'st_from' in df.columns:\n",
    "        df['st_from_name'] = df.st_from.map(st_names.name)\n",
    "    if 'st_to' in df.columns:\n",
    "        df['st_to_name'] = df.st_to.map(st_names.name)\n",
    "    if 'time_start' in df.columns:\n",
    "        df['time_start_f'] = df.time_start.apply(lambda x: nice_time(x))\n",
    "    if 'time_end' in df.columns:\n",
    "        df['time_end_f'] = df.time_end.apply(lambda x: nice_time(x))\n",
    "    if 'oper_location' in df.columns:\n",
    "        df['oper_location_name'] = df.oper_location.map(st_names.name)    \n",
    "        df.oper_location_name.fillna(0, inplace=True)\n",
    "    if ('oper_location' in df.columns) & ('st_from' in df.columns) & ('st_to' in df.columns):        \n",
    "        df['loc_name'] = df.oper_location_name\n",
    "        df.loc[df.loc_name == 0, 'loc_name'] = df.st_from_name + ' - ' + df.st_to_name\n",
    "    if 'oper_time' in df.columns:\n",
    "        df['oper_time_f'] = df.oper_time.apply(lambda x: nice_time(x))    \n",
    "    \n",
    "# Добавляем во все таблицы названия станций на маршруте и времена отправления/прибытия в читабельном формате\n",
    "add_info(train_plan), add_info(loco_plan), add_info(team_plan)\n",
    "add_info(train_info), add_info(loco_info), add_info(team_info)\n",
    "\n",
    "# Мержим таблицы _plan и _info для поездов, локомотивов и бригад\n",
    "train_plan = train_plan.merge(train_info, on='train', suffixes=('', '_info'), how='left')\n",
    "loco_plan = loco_plan.merge(loco_info, on='loco', suffixes=('', '_info'), how='left')\n",
    "team_plan = team_plan.merge(team_info, on='team', suffixes=('', '_info'), how='left')\n",
    "\n",
    "# Добавляем признаки поезда и бригады (реальный/локомотиво-резервный/объемный и реальная/фейковая)\n",
    "train_plan['train_type'] = train_plan.train.apply(lambda x: str(x)[0])\n",
    "team_plan['team_type'] = team_plan.team.apply(lambda x: 'Реальная' if str(x)[0] == '2' else 'Фейковая')\n",
    "\n",
    "# Для локомотиво-резервных и объемных поездов заполняем номер\n",
    "train_plan.loc[train_plan.train_type.isin(['8', '9']), 'number'] = train_plan.train.apply(lambda x: int(str(x)[-4:]))\n",
    "\n",
    "# Добавляем подвязанные локомотив и бригаду в таблицы loco_plan и train_plan\n",
    "if 'team' not in loco_plan.columns:\n",
    "    loco_plan = pd.merge(loco_plan, team_plan.loc[team_plan.state == 1, ['team', 'loco', 'time_start']], \n",
    "                         on=['loco', 'time_start'], how='left')\n",
    "if 'loco' not in train_plan.columns:\n",
    "    train_plan = pd.merge(train_plan, loco_plan.loc[loco_plan.state.isin([0, 1]), ['loco', 'team', 'train', 'time_start']],\n",
    "                     on=['train', 'time_start'], how='left')"
   ]
  },
  {
   "cell_type": "markdown",
   "metadata": {},
   "source": [
    "<a id='all_plan'></a>"
   ]
  },
  {
   "cell_type": "markdown",
   "metadata": {},
   "source": [
    "## Проверка планирования всех реальных поездов [ToC](#toc)"
   ]
  },
  {
   "cell_type": "code",
   "execution_count": 269,
   "metadata": {
    "collapsed": true
   },
   "outputs": [],
   "source": [
    "routes = pd.read_csv(FOLDER + 'routes.csv', dtype={'st_from':str, 'st_to':str, 'train':str})\n",
    "add_info(routes)\n",
    "routes.dropna(subset=['st_from_name', 'st_to_name'], how='any', inplace=True)\n",
    "start_st = routes.drop_duplicates('train').set_index('train')\n",
    "end_st = routes.drop_duplicates('train', keep='last').set_index('train')\n",
    "train_info['first_st'] = train_info.train.map(start_st.st_from_name)\n",
    "train_info['last_st'] = train_info.train.map(end_st.st_to_name)"
   ]
  },
  {
   "cell_type": "code",
   "execution_count": 270,
   "metadata": {
    "collapsed": false
   },
   "outputs": [
    {
     "name": "stdout",
     "output_type": "stream",
     "text": [
      "Всего 41 реальных поездов (2.08%) не запланировано:\n",
      "        train  number         ind434                  loc_name in_plan               first_st                   last_st\n",
      " 230204399293    1214  8502-625-9142             ЛЕНА - ЯКУРИМ   False                   ЛЕНА                  МАРИИНСК\n",
      " 200020659178    1400  2305-212-9142         ИЛАНСКАЯ - РЕШОТЫ   False               ИЛАНСКАЯ                  МАРИИНСК\n",
      " 220207831073    1444  8515-836-9142      СЮЛЬБАН - НОВАЯ ЧАРА   False                СЮЛЬБАН                  МАРИИНСК\n",
      " 200020814973    1562  8725-180-9678            ТАЙШЕТ - ТОРЕЯ   False                 ТАЙШЕТ                    ВАНИНО\n",
      " 230203054378    2010  8630-971-9861   КИЖА - ПЕТРОВСКИЙ ЗАВОД   False                   КИЖА         НАХОДКА-ВОСТОЧНАЯ\n",
      " 230204469682    2042  9700-899-8902             ШТУРМ - ТЫНДА   False                  ШТУРМ      КРАСНОЯРСК-ВОСТОЧНЫЙ\n",
      " 200020644307    2044  9500-035-9628  ПРИАМУРСКАЯ - ПОСТ-ПО...   False            ПРИАМУРСКАЯ              ВОЛОЧАЕВКА I\n",
      " 230202972995    2084  8927-963-9687      УШУМУН - ШИМАНОВСКАЯ   False                 УШУМУН                    ДЗЕМГИ\n",
      " 230202059100    2103  9687-821-8927              АЗЕЙ - ТУЛУН   False                   АЗЕЙ                       УЯР\n",
      " 200020659188    2122  8927-991-9687       ТАЙШЕТ - БАЙРОНОВКА   False                 ТАЙШЕТ                    ДЗЕМГИ\n",
      " 230204816667    2126  8927-990-9687            УДА II - ТУЛУН   False                 УДА II                    ДЗЕМГИ\n",
      " 200207939792    2269  9700-885-8902     НИЖНЕУДИНСК - АЛЗАМАЙ   False            НИЖНЕУДИНСК      КРАСНОЯРСК-ВОСТОЧНЫЙ\n",
      " 230204345014    2379  9600-408-8621           ТЫНДА - КУВЫКТА   False                  ТЫНДА              МЕЖДУРЕЧЕНСК\n",
      " 230202353227    2548  8927-958-9687     ШИМАНОВСКАЯ - ЛЕДЯНАЯ   False            ШИМАНОВСКАЯ                    ДЗЕМГИ\n",
      " 230202958719    2555  9600-398-8621              ЮРТЫ - КЛЮЧИ   False                   ЮРТЫ              МЕЖДУРЕЧЕНСК\n",
      " 200020644351    2567  9700-333-8622        БОГОТОЛ - МАРИИНСК   False                БОГОТОЛ              МЕЖДУРЕЧЕНСК\n",
      " 230203079617    2628  8927-965-9687        ТАЛДАН - МАГДАГАЧИ   False                 ТАЛДАН                    ДЗЕМГИ\n",
      " 230202414483    2642  8927-959-9687  СКОВОРОДИНО - БОЛЬШОЙ...   False            СКОВОРОДИНО                    ДЗЕМГИ\n",
      " 230202314387    2650  8927-957-9687        ИЗВЕСТКОВАЯ - БИРА   False            ИЗВЕСТКОВАЯ                    ДЗЕМГИ\n",
      " 200020678283    2731  9257-845-8012      КУРАГИНО - МИНУСИНСК   False               КУРАГИНО                  МАРИИНСК\n",
      " 230204114032    2850  8656-933-9861     УЛАН-УДЭ - ЗАУДИНСКИЙ   False               УЛАН-УДЭ         НАХОДКА-ВОСТОЧНАЯ\n",
      " 230202892821    3015  9700-332-8622        АЧИНСК I - ЗЕРЦАЛЫ   False               АЧИНСК I              МЕЖДУРЕЧЕНСК\n",
      " 200020668727    3363  9114-017-7700           ТЫНДА - КУВЫКТА   False                  ТЫНДА                  МАРИИНСК\n",
      " 200020650038    3383  9600-395-8621        АЧИНСК I - ЗЕРЦАЛЫ   False               АЧИНСК I              МЕЖДУРЕЧЕНСК\n",
      " 200020814939    3632  9320-072-9321           КИТОЙ - АНГАРСК   False                  КИТОЙ        КИТОЙ-КОМБИНАТСКАЯ\n",
      " 200020698432    3652  9114-488-9120  НЕРЮНГРИ-ПАССАЖИРСКАЯ...   False  НЕРЮНГРИ-ПАССАЖИРСКАЯ                  МАРИИНСК\n",
      " 200020639124    3660  9114-487-9120  НЕРЮНГРИ-ПАССАЖИРСКАЯ...   False  НЕРЮНГРИ-ПАССАЖИРСКАЯ                  МАРИИНСК\n",
      " 200020639340    3802  9877-167-9116      БЕСТУЖЕВО - БЕРКАКИТ   False              БЕСТУЖЕВО              БЕЛОГОРСК II\n",
      " 230204450591    3804  9725-985-8628             ШТУРМ - ТЫНДА   False                  ШТУРМ              МЕЖДУРЕЧЕНСК\n",
      " 200020649584    3852  9712-053-9046     ИЗВЕСТКОВАЯ - КУЛЬДУР   False            ИЗВЕСТКОВАЯ                      ХАНИ\n",
      " 200020787002    4402  0001-004-9400        ЧИТА I - КАРЫМСКАЯ   False                 ЧИТА I                    КАДАЛА\n",
      " 200020761341    4702  0001-578-3593          ТАКСИМО - КУАНДА   False                ТАКСИМО                  МАРИИНСК\n",
      " 200020786818    4802  0001-127-9246      БАГУЛЬНАЯ - МОРГУДОН   False              БАГУЛЬНАЯ                    БРАТСК\n",
      " 200020892191    4882  9309-343-9310    ЧЕРЕМХОВО - КАСЬЯНОВКА   False              ЧЕРЕМХОВО                 МАКАРЬЕВО\n",
      " 200200299700    6222  0000-003-6222          АРХАРА - ОБЛУЧЬЕ   False                 АРХАРА                   ОБЛУЧЬЕ\n",
      " 210208063225    6224  0000-003-6224      КСЕНЬЕВСКАЯ - МОГОЧА   False            КСЕНЬЕВСКАЯ                    МОГОЧА\n",
      " 210208080273    6225  0000-003-6225      МОГОЧА - КСЕНЬЕВСКАЯ   False                 МОГОЧА               КСЕНЬЕВСКАЯ\n",
      " 200200781966    6264  0000-003-6264     ОБЛУЧЬЕ - ИЗВЕСТКОВАЯ   False                ОБЛУЧЬЕ                      БИРА\n",
      " 200200029182    6312  0000-003-6312        ТАЛДАН - МАГДАГАЧИ   False                 ТАЛДАН                 МАГДАГАЧИ\n",
      " 200200299723    6564  0000-003-6564        ХРЕБТОВАЯ - ИГИРМА   False              ХРЕБТОВАЯ                РУДНОГОРСК\n",
      " 200020726656    8810  9601-198-9682    ОУНЭ - БЛОКПОСТ 197 КМ   False                   ОУНЭ  СОВЕТСКАЯ ГАВАНЬ-СОРТ...\n"
     ]
    }
   ],
   "source": [
    "train_info['in_plan'] = train_info.train.isin(train_plan.train)\n",
    "a = train_info[(train_info.in_plan == False) \n",
    "               & (train_info.number > 1000) \n",
    "               & (train_info.number < 9000)\n",
    "               & ((train_info.st_from != train_info.st_to) | (train_info.st_from == -1))\\\n",
    "              ].sort_values('number')\n",
    "with pd.option_context('display.max_colwidth', 25):\n",
    "    add_header('Всего %d реальных поездов (%.2f%%) не запланировано:' \n",
    "               % (a.train.count(), 100 * a.train.count() / train_info.train.count()))\n",
    "    add_line(a[['train', 'number', 'ind434', 'loc_name', 'in_plan', 'first_st', 'last_st']])"
   ]
  },
  {
   "cell_type": "markdown",
   "metadata": {},
   "source": [
    "<a id='oddity'></a>\n",
    "## Проверка совпадения четности номеров поездов и направления движения [ToC](#toc)"
   ]
  },
  {
   "cell_type": "code",
   "execution_count": 271,
   "metadata": {
    "collapsed": false
   },
   "outputs": [],
   "source": [
    "add_header('Проверки по поездам', h=1, p=False)\n",
    "add_header('Проверка совпадения четности номеров поездов и направления движения', h=2, p=False)"
   ]
  },
  {
   "cell_type": "code",
   "execution_count": 272,
   "metadata": {
    "collapsed": false
   },
   "outputs": [
    {
     "name": "stdout",
     "output_type": "stream",
     "text": [
      "Все четности совпадают\n"
     ]
    }
   ],
   "source": [
    "train_plan['dir'] = train_plan.link.map(links.set_index('link').dir)\n",
    "train_plan['odevity'] = (((train_plan.number / 2).astype(int) * 2 == train_plan.number).astype(int) + 1) % 2\n",
    "train_plan['check_odd'] = train_plan.dir == train_plan.odevity\n",
    "cols = ['train', 'number', 'st_from_name', 'st_to_name', 'dir', 'odevity', 'check_odd']\n",
    "fail_dir_number = train_plan.drop_duplicates(subset=['train', 'number']).loc[(train_plan.train_type.isin(['8', '9'])) &\n",
    "                                                          (train_plan.check_odd == False), cols]\n",
    "if fail_dir_number.empty == False:\n",
    "    add_header('Четность номеров поездов и направления не совпадает для %d поездов (показаны первые 10):' %\n",
    "         len(fail_dir_number.index))\n",
    "    pd.set_option('display.max_colwidth', 35)\n",
    "    add_line(fail_dir_number.head(10))\n",
    "else:\n",
    "    add_line('Все четности совпадают')"
   ]
  },
  {
   "cell_type": "markdown",
   "metadata": {},
   "source": [
    "<a id='stop_time'></a>\n",
    "## Анализ времен стоянок поездов на станциях смены локомотивов и бригад [ToC](#toc)"
   ]
  },
  {
   "cell_type": "markdown",
   "metadata": {},
   "source": [
    "#### Параметры для анализа"
   ]
  },
  {
   "cell_type": "code",
   "execution_count": 273,
   "metadata": {
    "collapsed": false
   },
   "outputs": [],
   "source": [
    "# Минимальное время стоянки поезда для смены локомотива\n",
    "min_loco_stop = 1 * 3600 # 1 hour = 60 min\n",
    "\n",
    "# Минимальное время стоянки поезда для смены бригады\n",
    "min_team_stop = 15 * 60 # 15 min\n",
    "\n",
    "# Горизонт проверки\n",
    "hor = 24 * 3600"
   ]
  },
  {
   "cell_type": "markdown",
   "metadata": {},
   "source": [
    "<a id='stop_loco'></a>\n",
    "### Смена локомотивов [ToC](#toc)"
   ]
  },
  {
   "cell_type": "code",
   "execution_count": 274,
   "metadata": {
    "collapsed": true
   },
   "outputs": [],
   "source": [
    "add_header('Анализ смен локомотивов на маршрутах поездов', h=2, p=False)"
   ]
  },
  {
   "cell_type": "markdown",
   "metadata": {},
   "source": [
    "#### Ищем станции смены локомотивов и считаем средние времена"
   ]
  },
  {
   "cell_type": "code",
   "execution_count": 275,
   "metadata": {
    "collapsed": false
   },
   "outputs": [],
   "source": [
    "train_plan.columns\n",
    "train_plan.loco.fillna('-1', inplace=True)\n",
    "train_plan.team.fillna('-1', inplace=True)\n",
    "\n",
    "train_plan['train_end'] = train_plan.train != train_plan.train.shift(-1)\n",
    "train_plan['loco_end'] = (train_plan.loco != train_plan.loco.shift(-1)) | (train_plan.train_end)\n",
    "train_plan['team_end'] = (train_plan.team != train_plan.team.shift(-1)) | (train_plan.loco_end)\n",
    "\n",
    "train_plan['stop_time'] = train_plan.time_start.shift(-1) - train_plan.time_end\n",
    "train_plan['stop_time_h'] = np.round((train_plan.stop_time / 3600), 2)\n",
    "\n",
    "train_plan['next_loco'] = train_plan.loco.shift(-1)\n",
    "train_plan['next_team'] = train_plan.team.shift(-1)\n",
    "\n",
    "cols = ['train', 'st_from_name', 'st_to_name', 'loco', 'team', 'stop_time_h', 'next_loco']\n",
    "loco_change = train_plan[(train_plan.train_end == False) & (train_plan.loco_end == True)\n",
    "                        & (train_plan.time_end < current_time + hor)]"
   ]
  },
  {
   "cell_type": "code",
   "execution_count": 276,
   "metadata": {
    "collapsed": false
   },
   "outputs": [
    {
     "name": "stdout",
     "output_type": "stream",
     "text": [
      "Средние времена на смену локомотивов:\n",
      "- по всем сменам: 14.94 ч.\n",
      "- по всем сменам с ненулевым временем: 15.01 ч.\n"
     ]
    }
   ],
   "source": [
    "add_header('Средние времена на смену локомотивов:')\n",
    "add_line('- по всем сменам: %.2f ч.' % loco_change.stop_time_h.mean())\n",
    "add_line('- по всем сменам с ненулевым временем: %.2f ч.' % loco_change[loco_change.stop_time_h > 0].stop_time_h.mean())"
   ]
  },
  {
   "cell_type": "markdown",
   "metadata": {},
   "source": [
    "#### Ищем поезда, у которых смена локомотивов происходит за нулевое время"
   ]
  },
  {
   "cell_type": "code",
   "execution_count": 277,
   "metadata": {
    "collapsed": false
   },
   "outputs": [
    {
     "name": "stdout",
     "output_type": "stream",
     "text": [
      "Всего 2 поездов, для которых смена локомотивов происходит за нулевое время. Примеры:\n",
      "        train         st_from_name           st_to_name          loco next_loco  stop_time_h\n",
      " 200020706932          ИЗВЕСТКОВАЯ                 БИРА  200200104960        -1            0\n",
      " 230204150916  КОМСОМОЛЬСК-НА-А...  КОМСОМОЛЬСК-НА-А...  200200028766        -1            0\n",
      "\n",
      "Полный план по одному из таких поездов:\n",
      "        train st_from_name   st_to_name time_start_f   time_end_f          loco          team\n",
      " 200020706932       АРХАРА      ОБЛУЧЬЕ  03/08 01:45  03/08 04:01  200200104960  200200280543\n",
      " 200020706932      ОБЛУЧЬЕ  ИЗВЕСТКОВАЯ  03/08 05:35  03/08 06:33  200200104960            -1\n",
      " 200020706932  ИЗВЕСТКОВАЯ         БИРА  03/08 06:33  03/08 08:01  200200104960            -1\n",
      " 200020706932         БИРА          NaN  03/08 08:01  03/08 08:55            -1            -1\n"
     ]
    }
   ],
   "source": [
    "cols = ['train', 'st_from_name', 'st_to_name', 'loco', 'next_loco', 'stop_time_h']\n",
    "nill_stop_times = loco_change[loco_change.stop_time == 0]\n",
    "if not nill_stop_times.empty:\n",
    "    add_header('Всего %d поездов, для которых смена локомотивов происходит за нулевое время. Примеры:' \n",
    "               % nill_stop_times.train.count())\n",
    "    add_line(nill_stop_times[cols].head())\n",
    "    cols = ['train', 'st_from_name', 'st_to_name', 'time_start_f', 'time_end_f', 'loco', 'team']\n",
    "    add_line('')\n",
    "    add_header('Полный план по одному из таких поездов:')\n",
    "    for train in nill_stop_times.train.values[:1]:\n",
    "        add_line(train_plan[train_plan.train == train][cols])\n",
    "else:\n",
    "    add_header('Нет локомотивов, для которых смена бригад происходит за нулевое время')"
   ]
  },
  {
   "cell_type": "markdown",
   "metadata": {},
   "source": [
    "#### Составляем статистику по всем станциям смены, загружаем список приоритетных станций смены"
   ]
  },
  {
   "cell_type": "code",
   "execution_count": 278,
   "metadata": {
    "collapsed": false
   },
   "outputs": [],
   "source": [
    "cols = ['train', 'st_from_name', 'st_to_name', 'loco', 'next_loco', 'stop_time_h']\n",
    "no_nill_stops = loco_change[loco_change.stop_time > 0]\n",
    "no_nill_stops[cols]\n",
    "#no_nill_stops.groupby('st_to_name').stop_time_h.mean()\n",
    "st_change = no_nill_stops.groupby('st_to_name').train.count().to_frame()\\\n",
    "            .join(no_nill_stops.groupby('st_to_name').stop_time_h.mean()).reset_index()\n",
    "st_change['stop_time_h'] = st_change.stop_time_h.apply(lambda x: np.round(x, 2))\n",
    "st_change.sort_values('train', ascending=False).head(10)\n",
    "priority_change_stations = pd.read_csv(FOLDER + 'mandatory/priority_loco_change_stations.csv').st_name.values"
   ]
  },
  {
   "cell_type": "markdown",
   "metadata": {},
   "source": [
    "#### Ищем поезда, у которых смена локомотивов происходит на неправильных станциях"
   ]
  },
  {
   "cell_type": "code",
   "execution_count": 279,
   "metadata": {
    "collapsed": false
   },
   "outputs": [
    {
     "name": "stdout",
     "output_type": "stream",
     "text": [
      "Всего 149 поездов, у которых смена локомотива, скорее всего, происходит на неправильных станциях\n",
      "Примеры таких станций:\n",
      "   st_to_name  train  stop_time_h\n",
      "         БИРА     62         2.42\n",
      " ВОЛОЧАЕВКА I     34         2.07\n",
      "      ГОРЕЛЫЙ      8         6.30\n",
      "  НОВЫЙ УРГАЛ      8         4.33\n",
      "    ФЕВРАЛЬСК      4        15.37\n",
      "  ДУБИНИНСКИЙ      3        15.49\n",
      "      НАХОДКА      2         9.17\n",
      "         ХАНИ      2         4.74\n",
      "      СЕЛЬГОН      2        13.19\n",
      "    ПОСТЫШЕВО      2         8.38\n",
      "\n",
      "Поезда, у которых смена локомотива происходит на станции БИРА:\n",
      "           train st_from_name st_to_name          loco next_loco  stop_time_h\n",
      "    230202243548  ИЗВЕСТКОВАЯ       БИРА  200200089757        -1         1.89\n",
      "    230200264580  ИЗВЕСТКОВАЯ       БИРА  200200088252        -1         1.69\n",
      "    200020706932  ИЗВЕСТКОВАЯ       БИРА  200200104960        -1         0.00\n",
      "    220209131375  ИЗВЕСТКОВАЯ       БИРА  200200067830        -1         2.03\n",
      "    230202274091  ИЗВЕСТКОВАЯ       БИРА  200200029223        -1         1.84\n",
      "    230202282827  ИЗВЕСТКОВАЯ       БИРА  200200087051        -1         1.98\n",
      "    230200228516  ИЗВЕСТКОВАЯ       БИРА  200200071397        -1         1.70\n",
      "    230202015281  ИЗВЕСТКОВАЯ       БИРА  200200092372        -1         2.08\n",
      "    230202587134  ИЗВЕСТКОВАЯ       БИРА  200200092864        -1         2.21\n",
      "    230203285387  ИЗВЕСТКОВАЯ       БИРА  200200065884        -1         1.72\n",
      "    200020714452  ИЗВЕСТКОВАЯ       БИРА  200200095679        -1         1.78\n",
      "    230201920175  ИЗВЕСТКОВАЯ       БИРА  200200086155        -1         1.69\n",
      "    230202205990  ИЗВЕСТКОВАЯ       БИРА  200200085766        -1         2.21\n",
      "    200020644271  ИЗВЕСТКОВАЯ       БИРА  200200084026        -1         2.71\n",
      "    230202897038  ИЗВЕСТКОВАЯ       БИРА  200200096320        -1         2.50\n",
      "    230200271158  ИЗВЕСТКОВАЯ       БИРА  200200048880        -1         3.51\n",
      "    230203363381  ИЗВЕСТКОВАЯ       БИРА  200200092793        -1         1.79\n",
      "    230202233290  ИЗВЕСТКОВАЯ       БИРА  200200050558        -1         2.57\n",
      "    230203993126  ИЗВЕСТКОВАЯ       БИРА  200200070088        -1         3.06\n",
      "    230204113646  ИЗВЕСТКОВАЯ       БИРА  200200081317        -1         3.44\n",
      "    230204296123  ИЗВЕСТКОВАЯ       БИРА  200200096268        -1         1.74\n",
      "    230200235123  ИЗВЕСТКОВАЯ       БИРА  200200030606        -1         2.12\n",
      "    230203970179  ИЗВЕСТКОВАЯ       БИРА  200200036490        -1         3.34\n",
      "    230200856359  ИЗВЕСТКОВАЯ       БИРА  200200079286        -1         2.84\n",
      "    230203013255  ИЗВЕСТКОВАЯ       БИРА  200200094780        -1         1.94\n",
      "    230202595528  ИЗВЕСТКОВАЯ       БИРА  200200087497        -1         1.70\n",
      "    230204559955  ИЗВЕСТКОВАЯ       БИРА  200200079061        -1         1.90\n",
      "    230204451295  ИЗВЕСТКОВАЯ       БИРА  200200082113        -1         2.62\n",
      "    200020639578  ИЗВЕСТКОВАЯ       БИРА  200200097032        -1         1.85\n",
      "    230200234309  ИЗВЕСТКОВАЯ       БИРА  200200089520        -1         1.89\n",
      "    230204451171  ИЗВЕСТКОВАЯ       БИРА  200200095780        -1         3.08\n",
      "    230202025910  ИЗВЕСТКОВАЯ       БИРА  200200030063        -1         3.31\n",
      "    230202224344  ИЗВЕСТКОВАЯ       БИРА  200200092663        -1         2.02\n",
      "    230201863155  ИЗВЕСТКОВАЯ       БИРА  200200100745        -1         1.93\n",
      "    230203678593  ИЗВЕСТКОВАЯ       БИРА  200200054319        -1         3.49\n",
      "    230203678713  ИЗВЕСТКОВАЯ       БИРА  200200047841        -1         2.85\n",
      "    230202550893  ИЗВЕСТКОВАЯ       БИРА  210214025586        -1         1.78\n",
      "    230203976774  ИЗВЕСТКОВАЯ       БИРА  200200079432        -1         2.66\n",
      "    230203872417  ИЗВЕСТКОВАЯ       БИРА  200200047423        -1         1.85\n",
      "    230203482287  ИЗВЕСТКОВАЯ       БИРА  200200098386        -1         1.94\n",
      "    200020649594  ИЗВЕСТКОВАЯ       БИРА  200200087578        -1         1.87\n",
      "    230203227898  ИЗВЕСТКОВАЯ       БИРА  200200094223        -1         3.42\n",
      "    230202946215  ИЗВЕСТКОВАЯ       БИРА  200200099513        -1         2.06\n",
      "    230202751370  ИЗВЕСТКОВАЯ       БИРА  200200096910        -1         2.75\n",
      "    200020780742  ИЗВЕСТКОВАЯ       БИРА  200200098992        -1         1.71\n",
      "    230201624629  ИЗВЕСТКОВАЯ       БИРА  200200106895        -1         1.86\n",
      "    230203926425  ИЗВЕСТКОВАЯ       БИРА  200200040205        -1         3.02\n",
      "    230202329944  ИЗВЕСТКОВАЯ       БИРА  200200031352        -1         1.75\n",
      "    200020780886  ИЗВЕСТКОВАЯ       БИРА  200200030647        -1         1.82\n",
      "    220212782258  ИЗВЕСТКОВАЯ       БИРА  200200096358        -1         3.44\n",
      " 999928836032004  ИЗВЕСТКОВАЯ       БИРА  200200081187        -1         3.17\n",
      "    220208795658  ИЗВЕСТКОВАЯ       БИРА  200200057693        -1         3.43\n",
      "    230202210343  ИЗВЕСТКОВАЯ       БИРА  200208859058        -1         3.60\n",
      "    230203285965  ИЗВЕСТКОВАЯ       БИРА  200205599503        -1         1.78\n",
      "    230202540159  ИЗВЕСТКОВАЯ       БИРА  200200094306        -1         1.79\n",
      "    230204361161  ИЗВЕСТКОВАЯ       БИРА  200200086449        -1         1.77\n",
      "    220212782798  ИЗВЕСТКОВАЯ       БИРА  200200103862        -1         3.13\n",
      "    230202376164  ИЗВЕСТКОВАЯ       БИРА  200200085682        -1         2.95\n",
      "    200020650004  ИЗВЕСТКОВАЯ       БИРА  200200069386        -1         3.03\n",
      "    230202351211  ИЗВЕСТКОВАЯ       БИРА  230200378679        -1         2.66\n",
      "    230200789171  ИЗВЕСТКОВАЯ       БИРА  200200100130        -1         3.51\n",
      "    230204050201  ИЗВЕСТКОВАЯ       БИРА  200200138371        -1         3.17\n",
      "    230201991567  ИЗВЕСТКОВАЯ       БИРА  200200092578        -1         3.00\n",
      "\n",
      "Полный план по одному из таких поездов:\n",
      "        train         st_from_name           st_to_name time_start_f   time_end_f          loco loc_name     loco_info\n",
      " 230202243548               АРХАРА              ОБЛУЧЬЕ  03/08 13:05  03/08 15:24  200200089757   АРХАРА  200200089757\n",
      " 230202243548              ОБЛУЧЬЕ          ИЗВЕСТКОВАЯ  03/08 21:40  03/08 22:35  200200089757   АРХАРА  200200089757\n",
      " 230202243548          ИЗВЕСТКОВАЯ                 БИРА  03/08 22:35  04/08 00:11  200200089757   АРХАРА  200200089757\n",
      " 230202243548                 БИРА                  NaN  04/08 02:05  04/08 03:09            -1   АРХАРА  200200089757\n",
      " 230202243548                  NaN         ВОЛОЧАЕВКА I  04/08 03:09  04/08 05:00            -1   АРХАРА  200200089757\n",
      " 230202243548         ВОЛОЧАЕВКА I           ТУНГУССКИЙ  04/08 05:00  04/08 05:05            -1   АРХАРА  200200089757\n",
      " 230202243548           ТУНГУССКИЙ             ДЕЖНЕВКА  04/08 05:05  04/08 05:10            -1   АРХАРА  200200089757\n",
      " 230202243548             ДЕЖНЕВКА          ПРИАМУРСКАЯ  04/08 05:10  04/08 05:40            -1   АРХАРА  200200089757\n",
      " 230202243548          ПРИАМУРСКАЯ      ПОСТ-ПОКРОВСКИЙ  04/08 05:40  04/08 05:44            -1   АРХАРА  200200089757\n",
      " 230202243548      ПОСТ-ПОКРОВСКИЙ                 АМУР  04/08 05:44  04/08 05:54            -1   АРХАРА  200200089757\n",
      " 230202243548                 АМУР          ХАБАРОВСК I  04/08 05:54  04/08 06:09            -1   АРХАРА  200200089757\n",
      " 230202243548          ХАБАРОВСК I         ХАБАРОВСК II  04/08 06:09  04/08 06:30            -1   АРХАРА  200200089757\n",
      " 230202243548         ХАБАРОВСК II           КРУГЛИКОВО  04/08 08:30  04/08 09:21            -1   АРХАРА  200200089757\n",
      " 230202243548           КРУГЛИКОВО            ВЯЗЕМСКАЯ  04/08 09:21  04/08 10:54            -1   АРХАРА  200200089757\n",
      " 230202243548            ВЯЗЕМСКАЯ        РОЗЕНГАРТОВКА  04/08 10:54  04/08 12:02            -1   АРХАРА  200200089757\n",
      " 230202243548        РОЗЕНГАРТОВКА                БИКИН  04/08 12:02  04/08 13:08            -1   АРХАРА  200200089757\n",
      " 230202243548                БИКИН            ЛУЧЕГОРСК  04/08 13:08  04/08 13:58            -1   АРХАРА  200200089757\n",
      " 230202243548            ЛУЧЕГОРСК             ГУБЕРОВО  04/08 13:58  04/08 14:30            -1   АРХАРА  200200089757\n",
      " 230202243548             ГУБЕРОВО             ЭБЕРГАРД  04/08 14:30  04/08 14:50            -1   АРХАРА  200200089757\n",
      " 230202243548             ЭБЕРГАРД      ДАЛЬНЕРЕЧЕНСК I  04/08 14:50  04/08 15:06            -1   АРХАРА  200200089757\n",
      " 230202243548      ДАЛЬНЕРЕЧЕНСК I     БЛОКПОСТ 1571 КМ  04/08 15:06  04/08 15:12            -1   АРХАРА  200200089757\n",
      " 230202243548     БЛОКПОСТ 1571 КМ               РУЖИНО  04/08 15:12  04/08 16:04            -1   АРХАРА  200200089757\n",
      " 230202243548               РУЖИНО             ШМАКОВКА  04/08 17:35  04/08 18:25            -1   АРХАРА  200200089757\n",
      " 230202243548             ШМАКОВКА       СПАССК-ДАЛЬНИЙ  04/08 18:25  04/08 19:54            -1   АРХАРА  200200089757\n",
      " 230202243548       СПАССК-ДАЛЬНИЙ            СИБИРЦЕВО  04/08 19:54  04/08 21:00            -1   АРХАРА  200200089757\n",
      " 230202243548            СИБИРЦЕВО          ДУБИНИНСКИЙ  04/08 21:00  04/08 21:50            -1   АРХАРА  200200089757\n",
      " 230202243548          ДУБИНИНСКИЙ            УССУРИЙСК  04/08 21:50  04/08 22:08            -1   АРХАРА  200200089757\n",
      " 230202243548            УССУРИЙСК          БАРАНОВСКИЙ  04/08 22:08  04/08 22:44            -1   АРХАРА  200200089757\n",
      " 230202243548          БАРАНОВСКИЙ         НАДЕЖДИНСКАЯ  04/08 22:44  04/08 23:32            -1   АРХАРА  200200089757\n",
      " 230202243548         НАДЕЖДИНСКАЯ       АМУРСКИЙ ЗАЛИВ  04/08 23:32  04/08 23:40            -1   АРХАРА  200200089757\n",
      " 230202243548       АМУРСКИЙ ЗАЛИВ              УГЛОВАЯ  04/08 23:40  04/08 23:49            -1   АРХАРА  200200089757\n",
      " 230202243548              УГЛОВАЯ   АРТЕМ-ПРИМОРСКИЙ I  04/08 23:49  05/08 00:09            -1   АРХАРА  200200089757\n",
      " 230202243548   АРТЕМ-ПРИМОРСКИЙ I  АРТЕМ-ПРИМОРСКИЙ...  05/08 00:09  05/08 00:22            -1   АРХАРА  200200089757\n",
      " 230202243548  АРТЕМ-ПРИМОРСКИЙ...              ШКОТОВО  05/08 00:22  05/08 01:00            -1   АРХАРА  200200089757\n",
      " 230202243548              ШКОТОВО          СМОЛЯНИНОВО  05/08 01:00  05/08 01:22            -1   АРХАРА  200200089757\n",
      " 230202243548          СМОЛЯНИНОВО           НОВОНЕЖИНО  05/08 02:52  05/08 03:31            -1   АРХАРА  200200089757\n",
      " 230202243548           НОВОНЕЖИНО           АНИСИМОВКА  05/08 03:31  05/08 03:50            -1   АРХАРА  200200089757\n",
      " 230202243548           АНИСИМОВКА      КРАСНОАРМЕЙСКИЙ  05/08 03:50  05/08 04:55            -1   АРХАРА  200200089757\n",
      " 230202243548      КРАСНОАРМЕЙСКИЙ           ПАРТИЗАНСК  05/08 04:55  05/08 05:20            -1   АРХАРА  200200089757\n",
      " 230202243548           ПАРТИЗАНСК              ЛОЗОВЫЙ  05/08 05:20  05/08 05:35            -1   АРХАРА  200200089757\n",
      " 230202243548              ЛОЗОВЫЙ            КУЗНЕЦОВО  05/08 05:35  05/08 05:47            -1   АРХАРА  200200089757\n",
      " 230202243548            КУЗНЕЦОВО              НАХОДКА  05/08 05:47  05/08 06:00            -1   АРХАРА  200200089757\n",
      " 230202243548              НАХОДКА           ХМЫЛОВСКИЙ  05/08 06:00  05/08 06:53            -1   АРХАРА  200200089757\n",
      " 230202243548           ХМЫЛОВСКИЙ    НАХОДКА-ВОСТОЧНАЯ  05/08 06:53  05/08 06:58            -1   АРХАРА  200200089757\n"
     ]
    }
   ],
   "source": [
    "# bad change stations\n",
    "bad_changes = st_change[st_change.st_to_name.isin(priority_change_stations) == False].sort_values('train', ascending=False)\n",
    "if not bad_changes.empty:\n",
    "    add_header('Всего %d поездов, у которых смена локомотива, скорее всего, происходит на неправильных станциях' \n",
    "               % bad_changes.train.sum())\n",
    "    add_header('Примеры таких станций:')\n",
    "    add_line(bad_changes.head(10))\n",
    "    add_line('')\n",
    "    cols = ['train', 'st_from_name', 'st_to_name', 'loco', 'next_loco', 'stop_time_h']\n",
    "    st = bad_changes.iloc[0].st_to_name\n",
    "    add_line('Поезда, у которых смена локомотива происходит на станции %s:' % st)\n",
    "    add_line(loco_change[loco_change.st_to_name == st][cols])\n",
    "\n",
    "    train_plan['loco_info'] = train_plan.train.map(loco_info.drop_duplicates('train').set_index('train').loco)\n",
    "    cols = ['train', 'st_from_name', 'st_to_name', 'time_start_f', 'time_end_f', 'loco', 'loc_name', 'loco_info']\n",
    "    add_line('')\n",
    "    add_header('Полный план по одному из таких поездов:')\n",
    "    with pd.option_context('display.max_colwidth', 20):\n",
    "        add_line(train_plan[train_plan.train == loco_change[loco_change.st_to_name == st].iloc[0].train][cols])\n",
    "else:\n",
    "    add_header('Нет поездов, у которых смена локомотивов происходит на неправильной станции')"
   ]
  },
  {
   "cell_type": "markdown",
   "metadata": {},
   "source": [
    "#### Ищем поезда со слишком долгой стоянкой для смены локомотивов"
   ]
  },
  {
   "cell_type": "code",
   "execution_count": 280,
   "metadata": {
    "collapsed": false
   },
   "outputs": [
    {
     "name": "stdout",
     "output_type": "stream",
     "text": [
      "Всего 78 случаев смены локомотива со стоянкой поезда более суток. Примеры:\n",
      "        train st_from_name st_to_name          loco     next_loco  stop_time_h\n",
      " 200020013134        КЛЮЧИ     РЕШОТЫ            -1  200200060245        95.47\n",
      " 230204013383      ТАРСКАЯ  КАРЫМСКАЯ  200200081307  200200107156        95.03\n",
      " 200020678345       ЧИТА I  КАРЫМСКАЯ  200200107173  200208841338        80.71\n",
      " 230203464957       ЧИТА I  КАРЫМСКАЯ  200200101929  200200099330        80.10\n",
      " 230204263453        ТАГУЛ     ТАЙШЕТ  200200101912  200200105038        77.66\n",
      " 230204806501       ЧИТА I  КАРЫМСКАЯ  200200099696  200200045920        76.44\n",
      " 230204361083      ТАРСКАЯ  КАРЫМСКАЯ  200200094033  200200095108        75.40\n",
      " 200020890728   ЗАУДИНСКИЙ   УЛАН-УДЭ  200200072818  200200138580        74.87\n",
      " 230204003363       ЧИТА I  КАРЫМСКАЯ  200200139935  200200098545        73.73\n",
      " 230202901353       ЧИТА I  КАРЫМСКАЯ  200200107643  200200097957        71.63\n"
     ]
    }
   ],
   "source": [
    "cols = ['train', 'st_from_name', 'st_to_name', 'loco', 'next_loco', 'stop_time_h']\n",
    "long_change = loco_change[(loco_change.st_to_name.isin(priority_change_stations)) \n",
    "            & (loco_change.stop_time_h > 24)].sort_values('stop_time_h', ascending=False)\n",
    "add_header('Всего %d случаев смены локомотива со стоянкой поезда более суток. Примеры:' % long_change.train.count())\n",
    "add_line(long_change[cols].head(10))"
   ]
  },
  {
   "cell_type": "markdown",
   "metadata": {},
   "source": [
    "<a id='stop_team'></a>\n",
    "### Смена бригад [ToC](#toc)"
   ]
  },
  {
   "cell_type": "code",
   "execution_count": 281,
   "metadata": {
    "collapsed": true
   },
   "outputs": [],
   "source": [
    "add_header('Анализ смен бригад на маршрутах поездов', h=2, p=False)"
   ]
  },
  {
   "cell_type": "code",
   "execution_count": 282,
   "metadata": {
    "collapsed": true
   },
   "outputs": [],
   "source": [
    "team_change = train_plan[(train_plan.loco_end == False) & (train_plan.team_end == True)\n",
    "                        & (train_plan.time_end < current_time + hor)]"
   ]
  },
  {
   "cell_type": "code",
   "execution_count": 283,
   "metadata": {
    "collapsed": false
   },
   "outputs": [
    {
     "name": "stdout",
     "output_type": "stream",
     "text": [
      "Средние времена на смену бригады:\n",
      "- по всем сменам: 4.82 ч.\n",
      "- по всем сменам с ненулевым временем: 4.83 ч.\n"
     ]
    }
   ],
   "source": [
    "add_header('Средние времена на смену бригады:')\n",
    "add_line('- по всем сменам: %.2f ч.' % team_change.stop_time_h.mean())\n",
    "add_line('- по всем сменам с ненулевым временем: %.2f ч.' % team_change[team_change.stop_time_h > 0].stop_time_h.mean())"
   ]
  },
  {
   "cell_type": "markdown",
   "metadata": {},
   "source": [
    "#### Ищем поезда, у которых смена бригады происходит за нулевое время"
   ]
  },
  {
   "cell_type": "code",
   "execution_count": 284,
   "metadata": {
    "collapsed": false
   },
   "outputs": [
    {
     "name": "stdout",
     "output_type": "stream",
     "text": [
      "Всего 2 поездов, для которых смена бригад происходит за нулевое время. Примеры:\n",
      "          train st_from_name   st_to_name          team     next_team  stop_time_h\n",
      " 88880015574746         АМУР  ХАБАРОВСК I  777700003480  777700003469            0\n",
      " 88880002064361     ИЛАНСКАЯ    ЗАОЗЕРНАЯ  777700003896  777700004777            0\n",
      "\n",
      "Полный план по одному из таких поездов:\n",
      "          train     st_from_name       st_to_name time_start_f   time_end_f          loco          team\n",
      " 88880015574746    ВОЛОЧАЕВКА II         ДЕЖНЕВКА  04/08 00:20  04/08 00:35  200200097571  777700003480\n",
      " 88880015574746         ДЕЖНЕВКА      ПРИАМУРСКАЯ  04/08 00:35  04/08 00:53  200200097571  777700003480\n",
      " 88880015574746      ПРИАМУРСКАЯ  ПОСТ-ПОКРОВСКИЙ  04/08 00:53  04/08 00:57  200200097571  777700003480\n",
      " 88880015574746  ПОСТ-ПОКРОВСКИЙ             АМУР  04/08 00:57  04/08 01:07  200200097571  777700003480\n",
      " 88880015574746             АМУР      ХАБАРОВСК I  04/08 01:07  04/08 01:25  200200097571  777700003480\n",
      " 88880015574746      ХАБАРОВСК I     ХАБАРОВСК II  04/08 01:25  04/08 01:47  200200097571  777700003469\n"
     ]
    }
   ],
   "source": [
    "cols = ['train', 'st_from_name', 'st_to_name', 'team', 'next_team', 'stop_time_h']\n",
    "nill_stop_times = team_change[team_change.stop_time == 0]\n",
    "if not nill_stop_times.empty:\n",
    "    add_header('Всего %d поездов, для которых смена бригад происходит за нулевое время. Примеры:' \n",
    "               % nill_stop_times.train.count())\n",
    "    add_line(nill_stop_times[cols].head())\n",
    "    cols = ['train', 'st_from_name', 'st_to_name', 'time_start_f', 'time_end_f', 'loco', 'team']\n",
    "    add_line('')\n",
    "    add_header('Полный план по одному из таких поездов:')\n",
    "    for train in nill_stop_times.train.values[:1]:\n",
    "        add_line(train_plan[train_plan.train == train][cols])\n",
    "else:\n",
    "    add_header('Нет поездов, для которых смена бригад происходит за нулевое время')"
   ]
  },
  {
   "cell_type": "markdown",
   "metadata": {},
   "source": [
    "#### Ищем поезда со слишком долгой стоянкой для смены бригады"
   ]
  },
  {
   "cell_type": "code",
   "execution_count": 285,
   "metadata": {
    "collapsed": false
   },
   "outputs": [
    {
     "name": "stdout",
     "output_type": "stream",
     "text": [
      "Всего 714 случаев смены бригад со стоянкой поезда более 6 часов. Примеры:\n",
      "           train st_from_name    st_to_name          team     next_team  stop_time_h\n",
      "  88880015574865  НОВЫЙ УРГАЛ     ФЕВРАЛЬСК  200200271453  777700005169        21.69\n",
      " 999912508012003     МОНГОХТО  ВЫСОКОГОРНАЯ  777700003749  777700004443        20.45\n",
      "  88880013534553  НОВЫЙ УРГАЛ     ФЕВРАЛЬСК  200200191684  777700004856        16.25\n",
      " 999912508012009     МОНГОХТО  ВЫСОКОГОРНАЯ  200200135960  200200222805        15.63\n",
      " 999912508022011     МОНГОХТО  ВЫСОКОГОРНАЯ  777700004367  777700003929        15.45\n",
      " 999912508022015     МОНГОХТО  ВЫСОКОГОРНАЯ  777700004512  777700003920        15.18\n",
      "    230204450995       АМАЗАР        МОГОЧА  200200139828  777700003648        13.85\n",
      "    220210372645        СУЛУК     ПОСТЫШЕВО  200200241908            -1        13.81\n",
      "    230204555340       АМАЗАР        МОГОЧА  200200142701  777700003638        13.55\n",
      "    230204508377       АМАЗАР        МОГОЧА  200200216927  777700003639        13.45\n",
      "\n",
      "Полный план по одному из таких поездов:\n",
      "          train st_from_name   st_to_name time_start_f   time_end_f          loco          team\n",
      " 88880015574865  НОВЫЙ УРГАЛ    ФЕВРАЛЬСК  04/08 02:30  04/08 11:04  200200318856  200200271453\n",
      " 88880015574865    ФЕВРАЛЬСК  ВЕРХНЕЗЕЙСК  05/08 08:45  05/08 17:58  200200318856  777700005169\n",
      " 88880015574865  ВЕРХНЕЗЕЙСК       ДИПКУН  05/08 21:47  06/08 03:06  200200318856            -1\n",
      " 88880015574865       ДИПКУН    БЕСТУЖЕВО  06/08 03:06  06/08 06:41  200200318856            -1\n",
      " 88880015574865    БЕСТУЖЕВО      ШАХТАУМ  06/08 06:41  06/08 06:58  200200318856            -1\n",
      " 88880015574865      ШАХТАУМ        ТЫНДА  06/08 06:58  06/08 07:19  200200318856            -1\n",
      "\n",
      "Станции, на которых чаще всего происходили длительные стоянки на смену бригад:\n",
      "МОГОЧА                      94\n",
      "ХИЛОК                       75\n",
      "ЧИТА I                      54\n",
      "МАГДАГАЧИ                   48\n",
      "ЧЕРНЫШЕВСК-ЗАБАЙКАЛЬСКИЙ    47\n",
      "УЛАН-УДЭ                    44\n",
      "БЕЛОГОРСК II                43\n",
      "УРУША                       35\n",
      "ЗИМА                        25\n",
      "ВЫСОКОГОРНАЯ                23\n"
     ]
    }
   ],
   "source": [
    "cols = ['train', 'st_from_name', 'st_to_name', 'team', 'next_team', 'stop_time_h']\n",
    "long_change = team_change[team_change.stop_time_h > 6].sort_values('stop_time', ascending=False)[cols]\n",
    "if not long_change.empty:\n",
    "    add_header('Всего %d случаев смены бригад со стоянкой поезда более 6 часов. Примеры:' % long_change.train.count())\n",
    "    add_line(long_change[cols].head(10))\n",
    "    add_line('')\n",
    "    cols = ['train', 'st_from_name', 'st_to_name', 'time_start_f', 'time_end_f', 'loco', 'team']\n",
    "    add_header('Полный план по одному из таких поездов:')\n",
    "    for train in long_change.train.values[:1]:\n",
    "        add_line(train_plan[train_plan.train == train][cols])\n",
    "    add_line('')\n",
    "    add_header('Станции, на которых чаще всего происходили длительные стоянки на смену бригад:')\n",
    "    add_line(long_change.st_to_name.value_counts().head(10))\n",
    "else:\n",
    "    add_header('Нет поездов, у которых смена бригады происходит более 6 часов')"
   ]
  },
  {
   "cell_type": "markdown",
   "metadata": {},
   "source": [
    "<a id='dep_interval'></a>\n",
    "## Поиск поездов с интервалом между отправлениями меньше допустимого [ToC](#toc)"
   ]
  },
  {
   "cell_type": "code",
   "execution_count": 286,
   "metadata": {
    "collapsed": true
   },
   "outputs": [],
   "source": [
    "add_header('Поиск поездов с интервалом между отправлениями меньше допустимого', h=2, p=False)"
   ]
  },
  {
   "cell_type": "code",
   "execution_count": 287,
   "metadata": {
    "collapsed": true
   },
   "outputs": [],
   "source": [
    "# Параметры\n",
    "\n",
    "hor = 24 * 3600\n",
    "min_time_delta = 5 * 60 # 5 minutes"
   ]
  },
  {
   "cell_type": "code",
   "execution_count": 288,
   "metadata": {
    "collapsed": true
   },
   "outputs": [],
   "source": [
    "# Функция, которая возвращает датафрейм с коллизиями\n",
    "\n",
    "def check_time_collision(df):\n",
    "    df['link_end'] = (df.st_from != df.st_from.shift(-1)) | (df.st_to != df.st_to.shift(-1))\n",
    "    df['link_start'] = (df.st_from != df.st_from.shift(1)) | (df.st_to != df.st_to.shift(1))\n",
    "    df.loc[df.link_end == False, 'time_to_next'] = df.time_start.shift(-1) - df.time_start\n",
    "    df.loc[df.link_start == False, 'time_to_prev'] = df.time_start - df.time_start.shift(1)\n",
    "    collisions = df.loc[(df.time_to_next < min_time_delta) | (df.time_to_prev < min_time_delta)]\n",
    "    return collisions"
   ]
  },
  {
   "cell_type": "code",
   "execution_count": 289,
   "metadata": {
    "collapsed": false
   },
   "outputs": [
    {
     "name": "stdout",
     "output_type": "stream",
     "text": [
      "Время начала планирования: 03/08 12:20\n",
      "Количество коллизий (интервал между поездами меньше 5 минут):\n",
      "                 Тип Из всех поездов Из всех с подвязкой\n",
      "          Все поезда             713                 617\n",
      " Без учета резервных               0                   0\n",
      " Без учета резерв...               0                   0\n",
      "\n",
      "Реальные и фейковые поезда с интервалами меньше 5 минут (первые 20):\n",
      "Empty DataFrame\n",
      "Columns: [train, loco, team, st_from_name, st_to_name, time_start_f, time_end_f]\n",
      "Index: []\n"
     ]
    }
   ],
   "source": [
    "add_line('Время начала планирования: %s' % nice_time(current_time))\n",
    "cols = ['train', 'loco', 'team', 'st_from_name', 'st_to_name', 'time_start_f', 'time_end_f']\n",
    "train_plan['train_start'] = train_plan.train != train_plan.train.shift(1)\n",
    "train_plan.loc[train_plan.stop_time != -1, 'loco_start'] = (train_plan.loco != train_plan.loco.shift(1)) | \\\n",
    "                                                            (train_plan.train_start)\n",
    "train_plan.loc[train_plan.stop_time != -1, 'team_start'] = train_plan.team != train_plan.team.shift(1)\n",
    "mask = ((train_plan.loco_start == True) | (train_plan.team_start == True)) &\\\n",
    "        (train_plan.time_start < current_time + hor) & (train_plan.time_start >= current_time)\n",
    "assign_mask = (train_plan.loco != '-1') & (train_plan.team != '-1')\n",
    "cols_to_sort = ['st_from_name', 'st_to_name', 'time_start']\n",
    "start_times = train_plan.loc[mask].sort_values(cols_to_sort)\n",
    "start_times_no_res = train_plan.loc[mask & (train_plan.train_type.isin(['2', '9']))].sort_values(cols_to_sort)\n",
    "start_times_real = train_plan.loc[mask & (train_plan.train_type == '2')].sort_values(cols_to_sort)\n",
    "start_times_assign = train_plan.loc[mask & assign_mask].sort_values(cols_to_sort)\n",
    "start_times_assign_no_res = train_plan.loc[mask & assign_mask &\n",
    "                                           (train_plan.train_type.isin(['2', '9']))].sort_values(cols_to_sort)\n",
    "start_times_assign_real = train_plan.loc[mask & assign_mask & (train_plan.train_type == '2')].sort_values(cols_to_sort)\n",
    "\n",
    "all_coll = check_time_collision(start_times)\n",
    "no_res_coll = check_time_collision(start_times_no_res)\n",
    "real_coll = check_time_collision(start_times_real)\n",
    "all_assign_coll = check_time_collision(start_times_assign)\n",
    "no_res_assign_coll = check_time_collision(start_times_assign_no_res)\n",
    "real_assign_coll = check_time_collision(start_times_assign_real)\n",
    "train_n = len(start_times.train.drop_duplicates().index)\n",
    "res = pd.DataFrame([['Все поезда', 'Без учета резервных', 'Без учета резервных и фейковых'],                    \n",
    "                    [len(all_coll.index), len(no_res_coll.index), len(real_coll.index)],                    \n",
    "                    [len(all_assign_coll.index), len(no_res_assign_coll.index), len(real_assign_coll.index)]]).T\n",
    "res.columns = ['Тип', 'Из всех поездов', 'Из всех с подвязкой']\n",
    "add_header('Количество коллизий (интервал между поездами меньше %d минут):' % (min_time_delta / 60))\n",
    "add_line(res)\n",
    "add_header('\\nРеальные и фейковые поезда с интервалами меньше %d минут (первые 20):' % (min_time_delta / 60))\n",
    "add_line(no_res_coll[cols].head(20))"
   ]
  },
  {
   "cell_type": "markdown",
   "metadata": {},
   "source": [
    "<a id='ssp'></a>\n",
    "## Сравнение количества запланированных поездов с данными АС ССП [ToC](#toc)"
   ]
  },
  {
   "cell_type": "code",
   "execution_count": 290,
   "metadata": {
    "collapsed": true
   },
   "outputs": [],
   "source": [
    "add_header('Сравнение количества запланированных поездов с данными АС ССП', h=2, p=False)"
   ]
  },
  {
   "cell_type": "code",
   "execution_count": 291,
   "metadata": {
    "collapsed": true
   },
   "outputs": [],
   "source": [
    "def count_volumes(full_plan, df_ssp):\n",
    "    hor = 24 * 3600\n",
    "    df_ssp.dep_dir.fillna(0, inplace=True)    \n",
    "    df_ssp.loc[df_ssp.dep_dir == 0, 'depart'] = 0\n",
    "    df_ssp.dropna(subset=['depart'], inplace=True)\n",
    "    \n",
    "    ssp_st_froms = df_ssp.loc[df_ssp.dep_dir == 0].station\n",
    "    mask_time = (full_plan.time_start >= current_time) & (full_plan.time_start < current_time + hor)\n",
    "    mask_type = full_plan.train_type.isin(['2', '9'])\n",
    "    trains = full_plan.loc[mask_time & mask_type & full_plan.st_from_name.isin(ssp_st_froms)].\\\n",
    "                        groupby(['st_from_name', 'st_to_name']).train.count()\n",
    "    df_ssp.loc[df_ssp.dep_dir == 0, 'st_from_name'] = df_ssp.station\n",
    "    df_ssp = df_ssp.fillna(method='ffill')\n",
    "    df_ssp['st_to_name'] = df_ssp.station\n",
    "    replace_st_from_names = df_ssp.loc[df_ssp.dep_dir == 0, ['st_from_name', 'st_show_name']].drop_duplicates()\n",
    "    df_ssp['st_from_show'] = df_ssp.st_from_name.map(replace_st_from_names.set_index('st_from_name').st_show_name)\n",
    "    df_ssp['st_to_show'] = df_ssp.st_show_name    \n",
    "    return trains.to_frame().join(df_ssp[['st_from_name', 'st_to_name', 'depart', 'st_from_show', 'st_to_show', 'dep_dir']].\\\n",
    "                                  set_index(['st_from_name', 'st_to_name'])).reset_index()"
   ]
  },
  {
   "cell_type": "code",
   "execution_count": 292,
   "metadata": {
    "collapsed": true
   },
   "outputs": [],
   "source": [
    "def show_barplot(df, road_name):\n",
    "    df['delta'] = df.train - df.depart\n",
    "    df['percent'] = np.round(100 * df.delta / df.depart, 2)\n",
    "    df['st_from_short'] = df.st_from_show.apply(lambda x: str(x)[:25])\n",
    "    df['st_to_short'] = df.st_to_show.apply(lambda x: str(x)[:25])\n",
    "    df['link'] = df.st_from_short + ' - ' + df.st_to_short \n",
    "    \n",
    "    print('%s железная дорога:' % road_name)\n",
    "    print('Среднее и медиана абсолютного отклонения: %.2f, %.2f' % (df.delta.mean(), df.delta.median()))\n",
    "    print('Среднее и медиана относительного отклонения (в процентах): %.2f%%, %.2f%%' % (df.percent.mean(), df.percent.median()))\n",
    "\n",
    "    b = df.sort_values('delta', ascending=False)\n",
    "    sns.set_style('whitegrid')\n",
    "    sns.set_context('poster', font_scale=0.7, rc={'axes.labelsize': 18})\n",
    "    c = sns.barplot(y='link', x='delta', data=df.sort_values('delta', ascending=False), palette='coolwarm')\n",
    "    xlabel = '%s ж/д: отклонение от данных АС ССП по отправлению поездов на сутки' % road_name\n",
    "    c.set(xlabel=xlabel, ylabel='')"
   ]
  },
  {
   "cell_type": "code",
   "execution_count": 293,
   "metadata": {
    "collapsed": false
   },
   "outputs": [],
   "source": [
    "VOL_PERCENT = 0.9\n",
    "\n",
    "def show_two_barplots(df, road_name, save=False, btype='less'):\n",
    "    df['st_from_short'] = df.st_from_show.apply(lambda x: str(x)[:25])\n",
    "    df['st_to_short'] = df.st_to_show.apply(lambda x: str(x)[:25])\n",
    "    df['link'] = df.st_from_short + ' - ' + df.st_to_short     \n",
    "    sns.set_style('whitegrid')    \n",
    "    sns.set_context('poster', font_scale=0.7, rc={'axes.titlesize':18, 'axes.labelsize':14})\n",
    "    fig, ax = plt.subplots(nrows=2, ncols=1, figsize=(14,20))    \n",
    "    df.depart.fillna(0, inplace=True)    \n",
    "    df['bottom'] = df.apply(lambda row: row.depart if row.train <= row.depart else row.train, axis=1)\n",
    "    df['top'] = df.apply(lambda row: row.train if row.train <= row.depart else row.depart, axis=1)     \n",
    "    \n",
    "    sns.set_color_codes('pastel')\n",
    "    sns.barplot(x='bottom', y='link', data=df[df.train <= VOL_PERCENT * df.depart].sort_values('bottom'), \n",
    "                label='Поезда из АС ССП', color=\"b\", orient='h', ax=ax[0])\n",
    "    sns.barplot(x='bottom', y='link', data=df[df.train * VOL_PERCENT > df.depart].sort_values('bottom'), \n",
    "                label='Поезда в результатах', color=\"r\", orient='h', ax=ax[1])\n",
    "    sns.set_color_codes('muted')\n",
    "    sns.barplot(x='top', y='link', data=df[df.train <= VOL_PERCENT * df.depart].sort_values('bottom'), \n",
    "                label='Поезда в результатах', color=\"b\", orient='h', ax=ax[0])\n",
    "    sns.barplot(x='top', y='link', data=df[df.train * VOL_PERCENT > df.depart].sort_values('bottom'), \n",
    "                label='Поезда из АС ССП', color=\"r\", orient='h', ax=ax[1])    \n",
    "    ax[0].legend(ncol=1, loc=\"upper right\", frameon=True)    \n",
    "    ax[1].legend(ncol=1, loc=\"upper right\", frameon=True)\n",
    "    ax[0].set(xlabel='', title='Нехватка запланированных поездов')\n",
    "    ax[1].set(xlabel='', title='Избыток запланированных поездов')\n",
    "    \n",
    "    sns.despine()\n",
    "    if save:\n",
    "        filename = road_name + '.png'\n",
    "        fig.savefig(REPORT_FOLDER + filename, bbox_inches='tight')\n",
    "        add_image(filename, scale=1.0)"
   ]
  },
  {
   "cell_type": "code",
   "execution_count": 294,
   "metadata": {
    "collapsed": false
   },
   "outputs": [],
   "source": [
    "def func(x):\n",
    "    return np.round(np.sqrt(np.mean(x ** 2)), 2)\n",
    "\n",
    "def print_ssp_stats(ssp, road_name):\n",
    "    df = count_volumes(train_plan, ssp)\n",
    "    df.rename(columns={'train':'planned', 'depart':'ssp'}, inplace=True)\n",
    "    df.dropna(subset=['ssp'], inplace=True)\n",
    "    df['delta'] = df.planned - df.ssp    \n",
    "    cols = ['st_from_name', 'st_to_show', 'dep_dir', 'planned', 'ssp', 'delta']    \n",
    "    add_header('Дорога %s' % road_name, h=3)\n",
    "    add_header('Сравнение запланированного и \"нормативного\" количества поездов:')\n",
    "    add_line(df.sort_values(['dep_dir', 'delta'])[cols])    \n",
    "    add_header('\\nСреднее отклонение по количеству поездов по направлениям:')\n",
    "    add_line(df.groupby('dep_dir').delta.mean().apply(lambda x: np.round(x, 2)))\n",
    "    add_header('\\nСреднеквадратичное отклонение по направлениям:')\n",
    "    add_line(df.groupby('dep_dir').delta.agg(func))"
   ]
  },
  {
   "cell_type": "code",
   "execution_count": 295,
   "metadata": {
    "collapsed": false
   },
   "outputs": [],
   "source": [
    "krs = pd.read_csv(FOLDER + 'mandatory/SSP_KRS.csv', sep=';')\n",
    "vsib = pd.read_csv(FOLDER + 'mandatory/SSP_VSIB.csv', sep=';')\n",
    "zab = pd.read_csv(FOLDER + 'mandatory/SSP_ZAB.csv', sep=';')\n",
    "dvs = pd.read_csv(FOLDER + 'mandatory/SSP_DVS.csv', sep=';')"
   ]
  },
  {
   "cell_type": "code",
   "execution_count": 296,
   "metadata": {
    "collapsed": false
   },
   "outputs": [
    {
     "name": "stdout",
     "output_type": "stream",
     "text": [
      "Дорога КРАС\n",
      "Сравнение запланированного и \"нормативного\" количества поездов:\n",
      "        st_from_name           st_to_show dep_dir  planned  ssp  delta\n",
      " КРАСНОЯРСК-ВОСТО...  КРАСНОЯРСК-СЕВЕРНЫЙ     неч       19   54    -35\n",
      "            АЧИНСК I              БОГОТОЛ     неч       23   54    -31\n",
      "             БОГОТОЛ             МАРИИНСК     неч       25   54    -29\n",
      "            ИЛАНСКАЯ                  УЯР     неч       24   52    -28\n",
      "              АБАКАН               ТАШЕБА     неч       13   26    -13\n",
      "            САЯНСКАЯ          КОШУРНИКОВО     неч       25   24      1\n",
      "            АЧИНСК I            АЧИНСК II     неч        6    4      2\n",
      "            МАРИИНСК              БОГОТОЛ     чет       27   62    -35\n",
      "             БОГОТОЛ             АЧИНСК I     чет       33   62    -29\n",
      " КРАСНОЯРСК-ВОСТО...                  УЯР     чет       39   66    -27\n",
      "            АЧИНСК I       ЧЕРНОРЕЧЕНСКАЯ     чет       42   62    -20\n",
      "            ИЛАНСКАЯ                 ЮРТЫ     чет       48   66    -18\n",
      "              АБАКАН            МИНУСИНСК     чет       17   26     -9\n",
      "            САЯНСКАЯ               ТАЙШЕТ     чет       15   22     -7\n",
      "            САЯНСКАЯ                  УЯР     чет        2    8     -6\n",
      "            АЧИНСК I          ЛЕСОСИБИРСК     чет        6    4      2\n",
      "\n",
      "Среднее отклонение по количеству поездов по направлениям:\n",
      "dep_dir\n",
      "неч   -19.00\n",
      "чет   -16.56\n",
      "\n",
      "Среднеквадратичное отклонение по направлениям:\n",
      "dep_dir\n",
      "неч    23.86\n",
      "чет    20.25\n"
     ]
    }
   ],
   "source": [
    "print_ssp_stats(krs, 'КРАС')"
   ]
  },
  {
   "cell_type": "code",
   "execution_count": 297,
   "metadata": {
    "collapsed": false
   },
   "outputs": [
    {
     "name": "stdout",
     "output_type": "stream",
     "text": [
      "Дорога ВСИБ\n",
      "Сравнение запланированного и \"нормативного\" количества поездов:\n",
      "        st_from_name           st_to_show dep_dir  planned  ssp  delta\n",
      "                ЗИМА          НИЖНЕУДИНСК     неч       28   70    -42\n",
      " ИРКУТСК-СОРТИРОВ...                 ЗИМА     неч       30   70    -40\n",
      "              ТАЙШЕТ                 ЮРТЫ     неч       18   54    -36\n",
      "         НИЖНЕУДИНСК               ТАЙШЕТ     неч       37   68    -31\n",
      "          СЛЮДЯНКА I  ИРКУТСК-СОРТИРОВ...     неч       36   66    -30\n",
      "           ВИХОРЕВКА                 ЧУНА     неч        9   18     -9\n",
      "          НОВАЯ ЧАРА              ТАКСИМО     неч        1    8     -7\n",
      "     СЕВЕРОБАЙКАЛЬСК              КИРЕНГА     неч        5   10     -5\n",
      "              ТАЙШЕТ             САЯНСКАЯ     неч       17   22     -5\n",
      "             ТАКСИМО           НОВЫЙ УОЯН     неч        5   10     -5\n",
      "          НОВЫЙ УОЯН      СЕВЕРОБАЙКАЛЬСК     неч        6   10     -4\n",
      "           ХРЕБТОВАЯ       ГИДРОСТРОИТЕЛЬ     неч       13   16     -3\n",
      "          ЗАУДИНСКИЙ              МЫСОВАЯ     неч       60   62     -2\n",
      "                ЛЕНА              КИРЕНГА     неч        9   10     -1\n",
      "              НАУШКИ             УЛАН-УДЭ     неч        4    3      1\n",
      "          СЛЮДЯНКА I              МЫСОВАЯ     чет       44   86    -42\n",
      "          ЗАУДИНСКИЙ     ПЕТРОВСКИЙ ЗАВОД     чет       43   84    -41\n",
      " ИРКУТСК-СОРТИРОВ...           СЛЮДЯНКА I     чет       45   86    -41\n",
      "              ТАЙШЕТ          НИЖНЕУДИНСК     чет       40   74    -34\n",
      "         НИЖНЕУДИНСК                 ЗИМА     чет       44   74    -30\n",
      "                ЗИМА  ИРКУТСК-СОРТИРОВ...     чет       56   78    -22\n",
      "     СЕВЕРОБАЙКАЛЬСК           НОВЫЙ УОЯН     чет        4   14    -10\n",
      "              ТАЙШЕТ           НЕВЕЛЬСКАЯ     чет       14   24    -10\n",
      "                ЛЕНА            КОРШУНИХА     чет        9   18     -9\n",
      "          НОВЫЙ УОЯН              ТАКСИМО     чет        5   14     -9\n",
      "           ВИХОРЕВКА       ГИДРОСТРОИТЕЛЬ     чет       14   22     -8\n",
      "           ХРЕБТОВАЯ               ИГИРМА     чет        2    8     -6\n",
      "          ЗАУДИНСКИЙ               НАУШКИ     чет        1    3     -2\n",
      "          НОВАЯ ЧАРА                 ХАНИ     чет        9   11     -2\n",
      "             ТАКСИМО           НОВАЯ ЧАРА     чет       12   14     -2\n",
      "\n",
      "Среднее отклонение по количеству поездов по направлениям:\n",
      "dep_dir\n",
      "неч   -14.60\n",
      "чет   -17.87\n",
      "\n",
      "Среднеквадратичное отклонение по направлениям:\n",
      "dep_dir\n",
      "неч    21.22\n",
      "чет    23.30\n"
     ]
    }
   ],
   "source": [
    "print_ssp_stats(vsib, 'ВСИБ')"
   ]
  },
  {
   "cell_type": "code",
   "execution_count": 298,
   "metadata": {
    "collapsed": false
   },
   "outputs": [
    {
     "name": "stdout",
     "output_type": "stream",
     "text": [
      "Дорога ЗАБ\n",
      "Сравнение запланированного и \"нормативного\" количества поездов:\n",
      "        st_from_name           st_to_show dep_dir  planned  ssp  delta\n",
      "         ШИМАНОВСКАЯ            МАГДАГАЧИ     неч       33   85    -52\n",
      "           МАГДАГАЧИ          СКОВОРОДИНО     неч       45   84    -39\n",
      "           БЕЛОГОРСК          ШИМАНОВСКАЯ     неч       45   83    -38\n",
      "              ЧИТА I                ХИЛОК     неч       40   74    -34\n",
      "              АРХАРА            БЕЛОГОРСК     неч       54   80    -26\n",
      "             ГОРЕЛЫЙ                УРУША     неч       55   80    -25\n",
      "      ШИЛКА-ТОВАРНАЯ            КАРЫМСКАЯ     неч       45   68    -23\n",
      "             ТАРСКАЯ               ЧИТА I     неч       53   75    -22\n",
      "               ХИЛОК     ПЕТРОВСКИЙ ЗАВОД     неч       51   70    -19\n",
      " ЧЕРНЫШЕВСК-ЗАБАЙ...       ШИЛКА-ТОВАРНАЯ     неч       52   70    -18\n",
      "               УРУША               МОГОЧА     неч       61   70     -9\n",
      "              МОГОЧА  ЧЕРНЫШЕВСК-ЗАБАЙ...     неч       62   70     -8\n",
      "    ПЕТРОВСКИЙ ЗАВОД             УЛАН-УДЭ     неч       52   60     -8\n",
      "           ОЛОВЯННАЯ            КАРЫМСКАЯ     неч        7   14     -7\n",
      "               БОРЗЯ            ОЛОВЯННАЯ     неч       10   13     -3\n",
      "         ЗАБАЙКАЛЬСК                БОРЗЯ     неч       12   12      0\n",
      " ЧЕРНЫШЕВСК-ЗАБАЙ...               МОГОЧА     чет       33   76    -43\n",
      "             ТАРСКАЯ       ШИЛКА-ТОВАРНАЯ     чет       32   73    -41\n",
      "      ШИЛКА-ТОВАРНАЯ  ЧЕРНЫШЕВСК-ЗАБАЙ...     чет       34   73    -39\n",
      "           МАГДАГАЧИ          ШИМАНОВСКАЯ     чет       57   93    -36\n",
      "    ПЕТРОВСКИЙ ЗАВОД                ХИЛОК     чет       49   85    -36\n",
      "         ШИМАНОВСКАЯ            БЕЛОГОРСК     чет       58   92    -34\n",
      "               ХИЛОК               ЧИТА I     чет       52   85    -33\n",
      "              АРХАРА              ОБЛУЧЬЕ     чет       53   85    -32\n",
      "           БЕЛОГОРСК               АРХАРА     чет       66   85    -19\n",
      "              МОГОЧА                УРУША     чет       64   80    -16\n",
      "             ГОРЕЛЫЙ            МАГДАГАЧИ     чет       88   95     -7\n",
      "               УРУША          СКОВОРОДИНО     чет       88   93     -5\n",
      "              ЧИТА I            КАРЫМСКАЯ     чет       83   85     -2\n",
      "               БОРЗЯ          ЗАБАЙКАЛЬСК     чет       13   10      3\n",
      "             ТАРСКАЯ            ОЛОВЯННАЯ     чет       18   12      6\n",
      "           ОЛОВЯННАЯ                БОРЗЯ     чет       20   12      8\n",
      "\n",
      "Среднее отклонение по количеству поездов по направлениям:\n",
      "dep_dir\n",
      "неч   -20.69\n",
      "чет   -20.38\n",
      "\n",
      "Среднеквадратичное отклонение по направлениям:\n",
      "dep_dir\n",
      "неч    25.11\n",
      "чет    27.06\n"
     ]
    }
   ],
   "source": [
    "print_ssp_stats(zab, 'ЗАБ')"
   ]
  },
  {
   "cell_type": "code",
   "execution_count": 299,
   "metadata": {
    "collapsed": false
   },
   "outputs": [
    {
     "name": "stdout",
     "output_type": "stream",
     "text": [
      "Дорога ДВС\n",
      "Сравнение запланированного и \"нормативного\" количества поездов:\n",
      "        st_from_name           st_to_show dep_dir  planned  ssp  delta\n",
      "              РУЖИНО             ГУБЕРОВО     неч       29   58    -29\n",
      "           СИБИРЦЕВО       СПАССК-ДАЛЬНИЙ     неч       34   58    -24\n",
      "           УССУРИЙСК            СИБИРЦЕВО     неч       34   58    -24\n",
      "        ХАБАРОВСК II              ОБЛУЧЬЕ     неч       40   58    -18\n",
      "              АРХАРА            БЕЛОГОРСК     неч       54   70    -16\n",
      "         СМОЛЯНИНОВО              УГЛОВАЯ     неч       25   40    -15\n",
      "           ГРОДЕКОВО       ГРОДЕКОВО(КИТ)     неч        2   13    -11\n",
      " КОМСОМОЛЬСК-НА-А...            ПОСТЫШЕВО     неч        3   10     -7\n",
      "               ТЫНДА                 ХАНИ     неч        2    9     -7\n",
      "              ВАНИНО         ВЫСОКОГОРНАЯ     неч       17   22     -5\n",
      "            ГВОЗДЕВО            УССУРИЙСК     неч        1    4     -3\n",
      "        ВЫСОКОГОРНАЯ    КОМСОМОЛЬСК-СОРТ.     неч       20   22     -2\n",
      "       ВОЛОЧАЕВКА II              ОБЛУЧЬЕ     неч        9    7      2\n",
      "         НОВЫЙ УРГАЛ              ЭТЫРКЭН     неч        7    5      2\n",
      "               ТЫНДА                ШТУРМ     неч       16   13      3\n",
      " КОМСОМОЛЬСК-НА-А...        ВОЛОЧАЕВКА II     неч       19   14      5\n",
      "         ИЗВЕСТКОВАЯ              ОБЛУЧЬЕ     неч       49    1     48\n",
      "           СИБИРЦЕВО            УССУРИЙСК     чет       31   58    -27\n",
      "         СМОЛЯНИНОВО           ПАРТИЗАНСК     чет       13   40    -27\n",
      "              РУЖИНО       СПАССК-ДАЛЬНИЙ     чет       41   58    -17\n",
      "           УССУРИЙСК             УГОЛЬНАЯ     чет        2   18    -16\n",
      "           УССУРИЙСК              УГЛОВАЯ     чет       26   40    -14\n",
      " КОМСОМОЛЬСК-НА-А...         ВЫСОКОГОРНАЯ     чет       12   24    -12\n",
      "        ХАБАРОВСК II                БИКИН     чет       49   60    -11\n",
      "        ВЫСОКОГОРНАЯ               ВАНИНО     чет       15   24     -9\n",
      "           ГРОДЕКОВО            УССУРИЙСК     чет        2    6     -4\n",
      "       ВОЛОЧАЕВКА II  КОМСОМОЛЬСК-СОРТ...     чет       18   20     -2\n",
      "         ИЗВЕСТКОВАЯ          НОВЫЙ УРГАЛ     чет        2    3     -1\n",
      "           СИБИРЦЕВО         НОВОЧУГУЕВКА     чет        3    2      1\n",
      "       ВОЛОЧАЕВКА II         ХАБАРОВСК II     чет        7    4      3\n",
      "            ГВОЗДЕВО                ХАСАН     чет        4    1      3\n",
      "               ТЫНДА            ФЕВРАЛЬСК     чет       18   10      8\n",
      "              АРХАРА              ОБЛУЧЬЕ     чет       53   25     28\n",
      "         ИЗВЕСТКОВАЯ         ХАБАРОВСК II     чет       60    2     58\n",
      "\n",
      "Среднее отклонение по количеству поездов по направлениям:\n",
      "dep_dir\n",
      "неч   -5.94\n",
      "чет   -2.29\n",
      "\n",
      "Среднеквадратичное отклонение по направлениям:\n",
      "dep_dir\n",
      "неч    17.82\n",
      "чет    20.00\n"
     ]
    }
   ],
   "source": [
    "print_ssp_stats(dvs, 'ДВС')"
   ]
  },
  {
   "cell_type": "code",
   "execution_count": 300,
   "metadata": {
    "collapsed": false
   },
   "outputs": [],
   "source": [
    "# Пример построения barplot\n",
    "\n",
    "#krs = pd.read_csv(FOLDER + 'mandatory/SSP_KRS.csv', sep=';')\n",
    "#add_header('Красноярская дорога')\n",
    "#try:\n",
    "#    show_two_barplots(count_volumes(train_plan, krs), 'Красноярская', save=True, btype='less')\n",
    "#except:\n",
    "#    add_line('Красноярская дорога: ошибка в построении графика')"
   ]
  },
  {
   "cell_type": "markdown",
   "metadata": {},
   "source": [
    "<a id='info_plan_depart'></a>\n",
    "## Проверка соответствия первого участка в запланированном маршруте и исходного факта [ToC](#toc)"
   ]
  },
  {
   "cell_type": "code",
   "execution_count": 301,
   "metadata": {
    "collapsed": true
   },
   "outputs": [],
   "source": [
    "add_header('Проверка соответствия первого участка в запланированном маршруте и исходного факта', h=2, p=False)"
   ]
  },
  {
   "cell_type": "code",
   "execution_count": 302,
   "metadata": {
    "collapsed": false
   },
   "outputs": [
    {
     "name": "stdout",
     "output_type": "stream",
     "text": [
      "Поезда, у которых первый участок в маршруте не совпадает с исходным (всего 2, показаны первые 10):\n",
      "        train st_from_name st_to_name time_start_f st_from_name_info st_to_name_info  oper_time_f\n",
      " 230203328567       МОГОЧА     АМАЗАР  03/08 09:55            ЗИЛОВО     КСЕНЬЕВСКАЯ  03/08 03:06\n",
      " 230202288495       МОГОЧА     АМАЗАР  03/08 09:55            ЗИЛОВО     КСЕНЬЕВСКАЯ  03/08 02:50\n",
      "\n",
      "Поезда, у которых время отправления на первый участок в маршруте не совпадает с фактическим (всего 2, показаны первые 10):\n",
      "        train st_from_name st_to_name time_start_f st_from_name_info st_to_name_info  oper_time_f\n",
      " 230202288495       МОГОЧА     АМАЗАР  03/08 09:55            ЗИЛОВО     КСЕНЬЕВСКАЯ  03/08 02:50\n",
      " 230203328567       МОГОЧА     АМАЗАР  03/08 09:55            ЗИЛОВО     КСЕНЬЕВСКАЯ  03/08 03:06\n"
     ]
    }
   ],
   "source": [
    "cols = ['train', 'st_from_name', 'st_to_name', 'time_start_f', 'st_from_name_info', 'st_to_name_info', 'oper_time_f']\n",
    "td_plan = train_plan[(train_plan.st_from_info.isnull() == False) \n",
    "                     & (train_plan.st_from_info != '-1')].drop_duplicates('train')\n",
    "td_bad_track = td_plan[(td_plan.st_from != td_plan.st_from_info) | (td_plan.st_to != td_plan.st_to_info)]\n",
    "add_header('Поезда, у которых первый участок в маршруте не совпадает с исходным (всего %d, показаны первые 10):' \n",
    "          % td_bad_track.train.count())\n",
    "add_line(td_bad_track[cols])\n",
    "\n",
    "td_bad_time = td_plan[(td_plan.time_start != td_plan.oper_time)]\n",
    "add_header('\\nПоезда, у которых время отправления на первый участок в маршруте не совпадает с фактическим (всего %d, показаны первые 10):' \n",
    "          % td_bad_time.train.count())\n",
    "pd.set_option('display.max_colwidth', 19)\n",
    "add_line(td_bad_time.sort_values('oper_time')[cols].head(10))"
   ]
  },
  {
   "cell_type": "markdown",
   "metadata": {},
   "source": [
    "<a id='time_leaps'></a>\n",
    "## Проверка скачков по времени назад [ToC](#toc)"
   ]
  },
  {
   "cell_type": "code",
   "execution_count": 303,
   "metadata": {
    "collapsed": true
   },
   "outputs": [],
   "source": [
    "add_header('Проверка скачков по времени назад', h=2, p=False)"
   ]
  },
  {
   "cell_type": "code",
   "execution_count": 304,
   "metadata": {
    "collapsed": false
   },
   "outputs": [
    {
     "name": "stdout",
     "output_type": "stream",
     "text": [
      "Не найдено поездов со скачками по времени назад в плане\n"
     ]
    }
   ],
   "source": [
    "train_plan['next_time_start'] = train_plan.time_start.shift(-1)\n",
    "train_plan['next_time_start_f'] = train_plan.time_start_f.shift(-1)\n",
    "train_plan['train_end'] = train_plan.train != train_plan.train.shift(-1)\n",
    "cols = ['train', 'st_from_name', 'st_to_name', 'time_start_f', 'time_end_f', 'next_time_start_f']\n",
    "leaps = train_plan[(train_plan.train_end == False) & (train_plan.next_time_start < train_plan.time_end)][cols]\n",
    "if leaps.empty:\n",
    "    add_header('Не найдено поездов со скачками по времени назад в плане')\n",
    "else:\n",
    "    add_header('Всего %d поездов со скачками по времени назад в плане. Примеры:' % leaps.train.count())\n",
    "    add_line(leaps.head(10)[cols])"
   ]
  },
  {
   "cell_type": "markdown",
   "metadata": {},
   "source": [
    "<a id='irk_ssp'></a>"
   ]
  },
  {
   "cell_type": "markdown",
   "metadata": {},
   "source": [
    "## Сравнение количества передаваемых в планировщик реальных поездов с ССП [ToC](#toc)"
   ]
  },
  {
   "cell_type": "code",
   "execution_count": 305,
   "metadata": {
    "collapsed": true
   },
   "outputs": [],
   "source": [
    "# Направления для проверки\n",
    "\n",
    "test = [('ИРКУТСК-СОРТИРОВОЧНЫЙ', 'ГОНЧАРОВО'), ('ИРКУТСК-СОРТИРОВОЧНЫЙ', 'БАТАРЕЙНАЯ')]"
   ]
  },
  {
   "cell_type": "code",
   "execution_count": 306,
   "metadata": {
    "collapsed": true
   },
   "outputs": [],
   "source": [
    "add_header('Детальное сравнение количества поездов с данными ССП по станции %s' % test[0][0], h=2, p=False)"
   ]
  },
  {
   "cell_type": "code",
   "execution_count": 307,
   "metadata": {
    "collapsed": false
   },
   "outputs": [],
   "source": [
    "routes = pd.read_csv(FOLDER + 'routes.csv', dtype={'st_from':str, 'st_to':str, 'train':str})\n",
    "add_info(routes)\n",
    "routes['link_name'] = list(zip(routes.st_from_name, routes.st_to_name))\n",
    "#def_tt = pd.read_csv(FOLDER + '/mandatory/travel_times_all_pairs.csv', sep=';').set_index(['st_from_name', 'st_to_name'])\n",
    "def_tt = pd.read_csv(FOLDER + '/mandatory/travel_times.csv', index_col=0)"
   ]
  },
  {
   "cell_type": "code",
   "execution_count": 308,
   "metadata": {
    "collapsed": false
   },
   "outputs": [
    {
     "name": "stdout",
     "output_type": "stream",
     "text": [
      "Всего 72 поездов, по которым ожидается проследование в направлении ИРКУТСК-СОРТИРОВОЧНЫЙ - ГОНЧАРОВО в первые сутки планирования\n"
     ]
    }
   ],
   "source": [
    "def get_arrive_time(row, station):\n",
    "    if (row.oper == 'depart') | (row.oper_time >= current_time):\n",
    "        start_time = row.oper_time\n",
    "    else:\n",
    "        start_time = current_time            \n",
    "    return start_time + row.tt + row.lag\n",
    "\n",
    "(test_st, test_st_dir) = test[0]\n",
    "train_info['st_loc_name'] = train_info.oper_location.map(st_names.name)\n",
    "train_info.st_loc_name.fillna(train_info.st_from_name, inplace=True)\n",
    "#train_info['tt'] = train_info.st_loc_name.apply(lambda x: def_tt.ix[x, test_st].tt)\n",
    "train_info['tt'] = train_info.st_loc_name.apply(lambda x: 48 * 3600 if type(x) == float else def_tt[x][test_st])\n",
    "\n",
    "train_info['lag'] = np.round((train_info.tt / 6) * 1.5)\n",
    "train_info['arr_time'] = train_info[['oper', 'oper_time', 'tt', 'lag']]\\\n",
    "                                    .apply(lambda row: get_arrive_time(row, test_st), axis=1)\n",
    "train_info['arr_time_f'] = train_info.arr_time.apply(nice_time)\n",
    "train_info['plan_time'] = train_info.train.map(train_plan[train_plan.st_from_name == test_st].set_index('train').time_start)\n",
    "train_info['plan_time_f'] = train_info.plan_time.apply(nice_time)\n",
    "train_info['delta'] = train_info.plan_time - train_info.arr_time\n",
    "train_info['delta_h'] = np.round((train_info.delta / 3600), 2)\n",
    "\n",
    "train_plan['link_name'] = list(zip(train_plan.st_from_name, train_plan.st_to_name))\n",
    "\n",
    "dir_trains = train_info[(train_info.number >= 1000)\n",
    "                        & (train_info.train.isin(routes[routes.link_name == (test_st, test_st_dir)].train))]\n",
    "cols = ['train', 'number', 'oper', 'st_loc_name', 'tt', 'lag', 'oper_time_f', 'arr_time_f', 'plan_time_f', 'delta_h']\n",
    "dir_trains = dir_trains[dir_trains.arr_time < current_time + 24 * 3600].sort_values('arr_time')\n",
    "#a[cols]\n",
    "add_header('Всего %d поездов, по которым ожидается проследование в направлении %s - %s в первые сутки планирования'\n",
    "           % (dir_trains.train.count(), test_st, test_st_dir))"
   ]
  },
  {
   "cell_type": "code",
   "execution_count": 309,
   "metadata": {
    "collapsed": false
   },
   "outputs": [
    {
     "name": "stdout",
     "output_type": "stream",
     "text": [
      "Всего 7 поездов на направлении ИРКУТСК-СОРТИРОВОЧНЫЙ - ГОНЧАРОВО, которых вообще нет в плане\n",
      "        train  number    oper           st_loc_name     tt    lag  oper_time_f   arr_time_f plan_time_f  delta_h\n",
      " 230204252850    9260   ready           НИЖНЕУДИНСК  31566   7892  03/08 10:08  03/08 23:18        None      NaN\n",
      " 230204273751    9210   ready           НИЖНЕУДИНСК  31566   7892  03/08 10:08  03/08 23:18        None      NaN\n",
      " 200020663666    9226   ready           НИЖНЕУДИНСК  31566   7892  03/08 00:20  03/08 23:18        None      NaN\n",
      " 200020814973    1562  depart                ТАЙШЕТ  41741  10435  03/08 11:23  04/08 01:52        None      NaN\n",
      " 230204433621    2808  depart  КРАСНОЯРСК-ВОСТОЧНЫЙ  66811  16703  03/08 10:52  04/08 10:03        None      NaN\n",
      " 200020644489    2090  depart  КРАСНОЯРСК-ВОСТОЧНЫЙ  66811  16703  03/08 11:09  04/08 10:20        None      NaN\n",
      " 200020678313    9202  depart        ЧЕРНОРЕЧЕНСКАЯ  78850  19712  03/08 08:44  04/08 12:06        None      NaN\n"
     ]
    }
   ],
   "source": [
    "no_plan = dir_trains[dir_trains.plan_time.isnull()][cols]\n",
    "pd.set_option('display.max_colwidth', 40)\n",
    "add_header('Всего %d поездов на направлении %s - %s, которых вообще нет в плане' % (no_plan.train.count(), test_st, test_st_dir))\n",
    "add_line(no_plan)"
   ]
  },
  {
   "cell_type": "code",
   "execution_count": 310,
   "metadata": {
    "collapsed": false
   },
   "outputs": [
    {
     "name": "stdout",
     "output_type": "stream",
     "text": [
      "Всего 37 поездов (51.39%), по которым запланировано проследование в направлении ИРКУТСК-СОРТИРОВОЧНЫЙ - ГОНЧАРОВО в первые сутки\n"
     ]
    }
   ],
   "source": [
    "plan_day = dir_trains[dir_trains.plan_time < current_time + 24 * 3600][cols]\n",
    "add_header('Всего %d поездов (%.2f%%), по которым запланировано проследование в направлении %s - %s в первые сутки'\n",
    "          % (plan_day.train.count(), 100 * plan_day.train.count() / dir_trains.train.count(), test_st, test_st_dir))"
   ]
  },
  {
   "cell_type": "code",
   "execution_count": 311,
   "metadata": {
    "collapsed": false
   },
   "outputs": [
    {
     "name": "stdout",
     "output_type": "stream",
     "text": [
      "Всего 47 поездов (65.28%), у которых запланированное время проследования на участке ИРКУТСК-СОРТИРОВОЧНЫЙ - ГОНЧАРОВО сильно сдвинуто вперед\n",
      "        train  number    oper            st_loc_name     tt    lag  oper_time_f   arr_time_f  plan_time_f  delta_h\n",
      " 230204263453    2712  depart              ЩЕТИНКИНО  70779  17695  03/08 08:53  04/08 09:27  07/08 16:03    78.60\n",
      " 230204665234    1252  depart               САЯНСКАЯ  59325  14831  03/08 12:08  04/08 08:43  06/08 22:12    61.47\n",
      " 200020659004    2714  depart              ЩЕТИНКИНО  70779  17695  03/08 09:08  04/08 09:42  06/08 21:27    59.75\n",
      " 200020644129    2518  arrive   КРАСНОЯРСК-ВОСТОЧНЫЙ  66811  16703  03/08 09:57  04/08 11:32  06/08 21:37    58.09\n",
      " 200020683571    1748   ready              СУХОВСКАЯ   1447    362  02/08 22:50  03/08 12:50  05/08 20:07    55.29\n",
      " 230203081134    2676  depart               САЯНСКАЯ  59325  14831  03/08 11:14  04/08 07:49  06/08 02:02    42.21\n",
      " 200020639408    2622  depart              ИРБЕЙСКАЯ  56384  14096  03/08 11:08  04/08 06:42  06/08 00:40    41.97\n",
      " 230204540115    2680  arrive                 ТАЙШЕТ  41741  10435  02/08 21:45  04/08 02:50  05/08 16:16    37.43\n",
      " 230204698098    1604  depart              ИРБЕЙСКАЯ  56384  14096  03/08 10:25  04/08 05:59  05/08 13:16    31.28\n",
      " 230202836703    2662  arrive   КРАСНОЯРСК-ВОСТОЧНЫЙ  66811  16703  03/08 07:05  04/08 11:32  05/08 17:33    30.02\n",
      " 200200527815    2002   ready  ИРКУТСК-СОРТИРОВОЧНЫЙ      0      0  02/08 20:32  03/08 12:20  04/08 11:25    23.08\n",
      " 200020639596    3604  arrive               ИЛАНСКАЯ  50842  12710  03/08 10:55  04/08 05:59  05/08 04:19    22.32\n",
      " 200020744479    3852   ready             БАТАРЕЙНАЯ    133     33  03/08 04:00  03/08 12:23  04/08 10:30    22.11\n",
      " 230204584296    2920  depart                 ТАЙШЕТ  41741  10435  03/08 11:46  04/08 02:15  04/08 23:36    21.34\n",
      " 220212782354    2682  arrive                 ТАЙШЕТ  41741  10435  02/08 23:35  04/08 02:50  04/08 22:15    19.42\n",
      " 230204433575    2696  arrive                 ТАЙШЕТ  41741  10435  03/08 03:20  04/08 02:50  04/08 21:44    18.91\n",
      " 230204679476    2618  depart              ИРБЕЙСКАЯ  56384  14096  03/08 09:01  04/08 04:35  04/08 22:55    18.32\n",
      " 200020814943    3598   ready  ИРКУТСК-СОРТИРОВОЧНЫЙ      0      0  03/08 08:47  03/08 12:20  04/08 04:55    16.58\n",
      " 230203718547    2648  arrive                 ТАЙШЕТ  41741  10435  03/08 03:40  04/08 02:50  04/08 17:56    15.11\n",
      " 200020639258    1714  depart              ИРБЕЙСКАЯ  56384  14096  03/08 07:47  04/08 03:21  04/08 17:05    13.72\n",
      " 230204683809    1096  depart                 УДА II  31146   7786  03/08 10:23  03/08 21:11  04/08 10:45    13.55\n",
      " 230204584172    2500  arrive                 ТАЙШЕТ  41741  10435  03/08 07:58  04/08 02:50  04/08 15:25    12.58\n",
      " 200020795861    2898   ready  ИРКУТСК-СОРТИРОВОЧНЫЙ      0      0  03/08 08:25  03/08 12:20  04/08 00:50    12.49\n",
      " 230204508055    2228  arrive            НИЖНЕУДИНСК  31566   7892  03/08 11:25  03/08 23:18  04/08 11:35    12.28\n",
      " 200020639144    1572  depart               САЯНСКАЯ  59325  14831  03/08 11:06  04/08 07:41  04/08 19:47    12.10\n",
      " 230204416715    2896  depart               ИЛАНСКАЯ  50842  12710  03/08 11:31  04/08 05:10  04/08 16:10    11.01\n",
      " 230204526410    2030  depart                  ТУЛУН  24342   6086  03/08 11:13  03/08 19:40  04/08 06:05    10.41\n",
      " 200020649516    2626  depart               САЯНСКАЯ  59325  14831  03/08 10:49  04/08 07:24  04/08 17:45    10.33\n",
      " 200020882747    3002   ready               САЯНСКАЯ  59325  14831  03/08 10:00  04/08 08:56  04/08 19:15    10.31\n",
      " 200020714364    2898   ready  ИРКУТСК-СОРТИРОВОЧНЫЙ      0      0  03/08 01:24  03/08 12:20  03/08 22:15     9.91\n",
      " 200020900322    2898   ready  ИРКУТСК-СОРТИРОВОЧНЫЙ      0      0  03/08 12:11  03/08 12:20  03/08 21:30     9.16\n",
      " 230204184564    2914  depart                  ТУЛУН  24342   6086  03/08 10:40  03/08 19:07  04/08 03:35     8.46\n",
      " 200201273073    1026  depart                    УЯР  59814  14954  03/08 09:45  04/08 06:31  04/08 14:55     8.40\n",
      " 200020639404    2952  depart                  ТУЛУН  24342   6086  03/08 09:52  03/08 18:19  04/08 02:40     8.35\n",
      " 200020683427    2952  depart                  ТУЛУН  24342   6086  03/08 10:40  03/08 19:07  04/08 03:25     8.30\n",
      " 200020644209    3610  depart                    УЯР  59814  14954  03/08 11:43  04/08 08:29  04/08 16:00     7.51\n",
      " 200020698228    2898   ready  ИРКУТСК-СОРТИРОВОЧНЫЙ      0      0  03/08 00:05  03/08 12:20  03/08 19:45     7.41\n",
      " 200020658980    9220   ready               ИЛАНСКАЯ  50842  12710  03/08 08:53  04/08 05:59  04/08 13:20     7.34\n",
      " 200020639374    1564  arrive               ИЛАНСКАЯ  50842  12710  03/08 12:15  04/08 05:59  04/08 13:10     7.17\n",
      " 230204399501    2054  arrive            НИЖНЕУДИНСК  31566   7892  03/08 11:41  03/08 23:18  04/08 05:45     6.45\n",
      " 230204399939    3610  arrive   КРАСНОЯРСК-ВОСТОЧНЫЙ  66811  16703  03/08 11:29  04/08 11:32  04/08 17:55     6.38\n",
      " 220203456933    1712  depart             БАТАРЕЙНАЯ    133     33  03/08 11:40  03/08 11:42  03/08 18:05     6.37\n",
      " 230204712350    1616  arrive                 ТАЙШЕТ  41741  10435  03/08 11:38  04/08 02:50  04/08 08:50     6.01\n",
      " 230204620638    1562  arrive                   ЮРТЫ  43369  10842  03/08 12:03  04/08 03:23  04/08 08:32     5.15\n",
      " 230204416963    1104  depart                   ЗИМА  15397   3849  03/08 10:52  03/08 16:12  03/08 20:15     4.04\n",
      " 220212739419    2518  depart         ЧЕРНОРЕЧЕНСКАЯ  78850  19712  03/08 08:14  04/08 11:36  04/08 15:01     3.41\n",
      " 200020805713    2898   ready  ИРКУТСК-СОРТИРОВОЧНЫЙ      0      0  03/08 08:43  03/08 12:20  03/08 15:25     3.08\n"
     ]
    }
   ],
   "source": [
    "# sns.set(context='notebook', style='whitegrid')\n",
    "# sns.set_color_codes('dark')\n",
    "# plt.figure(figsize=(10, 5))\n",
    "# sns.kdeplot(dir_trains[dir_trains.train.isin(plan_day.train) == False].dropna(subset=['delta']).delta / 3600, shade=True)\n",
    "\n",
    "delta_lim = 3 * 3600\n",
    "late_trains = dir_trains[dir_trains.delta > delta_lim]\n",
    "late_trains.sort_values('delta', ascending=False)[cols]\n",
    "add_header('Всего %d поездов (%.2f%%), у которых запланированное время проследования на участке %s - %s сильно сдвинуто вперед' \n",
    "           % (late_trains.train.count(), 100 * late_trains.train.count() / dir_trains.train.count(), test_st, test_st_dir))\n",
    "add_line(late_trains.sort_values('delta', ascending=False)[cols])"
   ]
  },
  {
   "cell_type": "code",
   "execution_count": 312,
   "metadata": {
    "collapsed": false,
    "scrolled": true
   },
   "outputs": [
    {
     "name": "stdout",
     "output_type": "stream",
     "text": [
      "Пример плана по одному из поездов, формированием НЕ на станции ИРКУТСК-СОРТИРОВОЧНЫЙ:\n",
      "        train    oper  oper_time_f    st_from_name      st_to_name time_start_f   time_end_f          loco          team\n",
      " 230204263453  depart  03/08 08:53       ЩЕТИНКИНО        САЯНСКАЯ  03/08 08:53  03/08 12:15  200200101912  200200132340\n",
      " 230204263453  depart  03/08 08:53        САЯНСКАЯ       ИРБЕЙСКАЯ  03/08 14:55  03/08 15:55  200200101912  200200188637\n",
      " 230204263453  depart  03/08 08:53       ИРБЕЙСКАЯ           ТАГУЛ  03/08 15:55  03/08 20:19  200200101912  200200188637\n",
      " 230204263453  depart  03/08 08:53           ТАГУЛ          ТАЙШЕТ  03/08 20:19  03/08 21:02  200200101912  200200188637\n",
      " 230204263453  depart  03/08 08:53          ТАЙШЕТ      БАЙРОНОВКА  07/08 02:42  07/08 03:03  200200105038            -1\n",
      " 230204263453  depart  03/08 08:53      БАЙРОНОВКА         АЛЗАМАЙ  07/08 03:03  07/08 03:58  200200105038            -1\n",
      " 230204263453  depart  03/08 08:53         АЛЗАМАЙ     НИЖНЕУДИНСК  07/08 03:58  07/08 05:42  200200105038            -1\n",
      " 230204263453  depart  03/08 08:53     НИЖНЕУДИНСК          УДА II  07/08 05:42  07/08 05:57  200200105038            -1\n",
      " 230204263453  depart  03/08 08:53          УДА II           ТУЛУН  07/08 05:57  07/08 07:54  200200105038            -1\n",
      " 230204263453  depart  03/08 08:53           ТУЛУН            АЗЕЙ  07/08 07:54  07/08 08:24  200200105038            -1\n",
      " 230204263453  depart  03/08 08:53            АЗЕЙ          КУЙТУН  07/08 08:24  07/08 09:28  200200105038            -1\n",
      " 230204263453  depart  03/08 08:53          КУЙТУН         ПЕРЕВОЗ  07/08 09:28  07/08 10:20  200200105038            -1\n",
      " 230204263453  depart  03/08 08:53         ПЕРЕВОЗ            ЗИМА  07/08 10:20  07/08 10:36  200200105038            -1\n",
      " 230204263453  depart  03/08 08:53            ЗИМА          ЗАЛАРИ  07/08 11:16  07/08 12:26  200200105038            -1\n",
      " 230204263453  depart  03/08 08:53          ЗАЛАРИ       ЧЕРЕМХОВО  07/08 12:26  07/08 13:44  200200105038            -1\n",
      " 230204263453  depart  03/08 08:53       ЧЕРЕМХОВО      КАСЬЯНОВКА  07/08 13:44  07/08 14:01  200200105038            -1\n",
      " 230204263453  depart  03/08 08:53      КАСЬЯНОВКА          МАЛЬТА  07/08 14:01  07/08 14:42  200200105038            -1\n",
      " 230204263453  depart  03/08 08:53          МАЛЬТА           КИТОЙ  07/08 14:42  07/08 15:15  200200105038            -1\n",
      " 230204263453  depart  03/08 08:53           КИТОЙ         АНГАРСК  07/08 15:15  07/08 15:22  200200105038            -1\n",
      " 230204263453  depart  03/08 08:53         АНГАРСК       СУХОВСКАЯ  07/08 15:22  07/08 15:29  200200105038            -1\n",
      " 230204263453  depart  03/08 08:53       СУХОВСКАЯ           МЕГЕТ  07/08 15:29  07/08 15:43  200200105038            -1\n",
      " 230204263453  depart  03/08 08:53           МЕГЕТ      БАТАРЕЙНАЯ  07/08 15:43  07/08 15:51  200200105038            -1\n",
      " 230204263453  depart  03/08 08:53      БАТАРЕЙНАЯ  ИРКУТСК-СОР...  07/08 15:51  07/08 16:03  200200105038            -1\n",
      " 230204263453  depart  03/08 08:53  ИРКУТСК-СОР...       ГОНЧАРОВО  07/08 16:03  07/08 16:34  200200105038            -1\n",
      " 230204263453  depart  03/08 08:53       ГОНЧАРОВО     БОЛЬШОЙ ЛУГ  07/08 16:34  07/08 17:18  200200105038            -1\n",
      " 230204263453  depart  03/08 08:53     БОЛЬШОЙ ЛУГ   АНДРИАНОВСКАЯ  07/08 17:18  07/08 18:19  200200105038            -1\n",
      " 230204263453  depart  03/08 08:53   АНДРИАНОВСКАЯ       АНГАСОЛКА  07/08 18:19  07/08 18:33  200200105038            -1\n",
      " 230204263453  depart  03/08 08:53       АНГАСОЛКА     СЛЮДЯНКА II  07/08 18:33  07/08 18:59  200200105038            -1\n",
      " 230204263453  depart  03/08 08:53     СЛЮДЯНКА II      СЛЮДЯНКА I  07/08 18:59  07/08 19:08  200200105038            -1\n",
      " 230204263453  depart  03/08 08:53      СЛЮДЯНКА I       БАЙКАЛЬСК  07/08 19:47  07/08 20:38  200200105038            -1\n",
      " 230204263453  depart  03/08 08:53       БАЙКАЛЬСК         МЫСОВАЯ  07/08 20:38  07/08 22:45  200200105038            -1\n",
      " 230204263453  depart  03/08 08:53         МЫСОВАЯ        УЛАН-УДЭ  07/08 22:45  08/08 01:28  200200105038            -1\n",
      " 230204263453  depart  03/08 08:53        УЛАН-УДЭ      ЗАУДИНСКИЙ  08/08 02:14  08/08 02:32  200200105038            -1\n",
      " 230204263453  depart  03/08 08:53      ЗАУДИНСКИЙ          ТАЛЬЦЫ  08/08 02:32  08/08 02:41  200200105038            -1\n",
      " 230204263453  depart  03/08 08:53          ТАЛЬЦЫ         ЧЕЛУТАЙ  08/08 02:41  08/08 03:35  200200105038            -1\n",
      " 230204263453  depart  03/08 08:53         ЧЕЛУТАЙ          ГОРХОН  08/08 03:35  08/08 04:39  200200105038            -1\n",
      " 230204263453  depart  03/08 08:53          ГОРХОН            КИЖА  08/08 04:39  08/08 05:15  200200105038            -1\n",
      " 230204263453  depart  03/08 08:53            КИЖА  ПЕТРОВСКИЙ ...  08/08 05:15  08/08 05:43  200200105038            -1\n",
      " 230204263453  depart  03/08 08:53  ПЕТРОВСКИЙ ...        ЖИПХЕГЕН  08/08 05:43  08/08 08:11  200200105038            -1\n",
      " 230204263453  depart  03/08 08:53        ЖИПХЕГЕН           ХИЛОК  08/08 08:11  08/08 08:44  200200105038            -1\n",
      " 230204263453  depart  03/08 08:53           ХИЛОК          МОГЗОН  08/08 09:52  08/08 12:19  200200105038            -1\n",
      " 230204263453  depart  03/08 08:53          МОГЗОН        ТУРГУТУЙ  08/08 12:19  08/08 13:23  200200105038            -1\n",
      " 230204263453  depart  03/08 08:53        ТУРГУТУЙ          ЛЕСНАЯ  08/08 13:23  08/08 14:15  200200105038            -1\n",
      " 230204263453  depart  03/08 08:53          ЛЕСНАЯ          КАДАЛА  08/08 14:15  08/08 15:24  200200105038            -1\n",
      " 230204263453  depart  03/08 08:53          КАДАЛА          ЧИТА I  08/08 15:24  08/08 15:40  200200105038            -1\n",
      " 230204263453  depart  03/08 08:53          ЧИТА I       КАРЫМСКАЯ  08/08 15:40  08/08 17:55  200200105038            -1\n",
      " 230204263453  depart  03/08 08:53       КАРЫМСКАЯ         ТАРСКАЯ  08/08 20:01  08/08 20:33            -1            -1\n",
      " 230204263453  depart  03/08 08:53         ТАРСКАЯ         УРУЛЬГА  08/08 20:33  08/08 21:07            -1            -1\n",
      " 230204263453  depart  03/08 08:53         УРУЛЬГА       СОЛНЦЕВАЯ  08/08 21:07  08/08 22:27            -1            -1\n",
      " 230204263453  depart  03/08 08:53       СОЛНЦЕВАЯ  ШИЛКА-ТОВАРНАЯ  08/08 22:27  08/08 23:19            -1            -1\n",
      " 230204263453  depart  03/08 08:53  ШИЛКА-ТОВАРНАЯ  ШИЛКА-ПАССА...  08/08 23:19  08/08 23:22            -1            -1\n",
      " 230204263453  depart  03/08 08:53  ШИЛКА-ПАССА...      ПРИИСКОВАЯ  08/08 23:22  09/08 00:14            -1            -1\n",
      " 230204263453  depart  03/08 08:53      ПРИИСКОВАЯ          КУЭНГА  09/08 00:14  09/08 00:56            -1            -1\n",
      " 230204263453  depart  03/08 08:53          КУЭНГА  ЧЕРНЫШЕВСК-...  09/08 00:56  09/08 02:12            -1            -1\n",
      " 230204263453  depart  03/08 08:53  ЧЕРНЫШЕВСК-...         ЖИРЕКЕН  09/08 03:03  09/08 04:14            -1            -1\n",
      " 230204263453  depart  03/08 08:53         ЖИРЕКЕН          ЗИЛОВО  09/08 04:14  09/08 05:05            -1            -1\n",
      " 230204263453  depart  03/08 08:53          ЗИЛОВО     КСЕНЬЕВСКАЯ  09/08 05:05  09/08 07:32            -1            -1\n",
      " 230204263453  depart  03/08 08:53     КСЕНЬЕВСКАЯ          МОГОЧА  09/08 07:32  09/08 09:53            -1            -1\n",
      " 230204263453  depart  03/08 08:53          МОГОЧА          АМАЗАР  09/08 10:53  09/08 12:50            -1            -1\n",
      " 230204263453  depart  03/08 08:53          АМАЗАР  ЕРОФЕЙ ПАВЛ...  09/08 12:50  09/08 15:15            -1            -1\n",
      " 230204263453  depart  03/08 08:53  ЕРОФЕЙ ПАВЛ...           УРУША  09/08 15:15  09/08 17:22            -1            -1\n",
      " 230204263453  depart  03/08 08:53           УРУША       БАМОВСКАЯ  09/08 17:22  09/08 18:45            -1            -1\n",
      " 230204263453  depart  03/08 08:53       БАМОВСКАЯ         ГОРЕЛЫЙ  09/08 18:45  09/08 18:52            -1            -1\n",
      " 230204263453  depart  03/08 08:53         ГОРЕЛЫЙ     СКОВОРОДИНО  09/08 18:52  09/08 19:30            -1            -1\n",
      " 230204263453  depart  03/08 08:53     СКОВОРОДИНО   БОЛЬШОЙ НЕВЕР  09/08 20:11  09/08 20:39            -1            -1\n",
      " 230204263453  depart  03/08 08:53   БОЛЬШОЙ НЕВЕР          ТАЛДАН  09/08 20:39  09/08 22:18            -1            -1\n",
      " 230204263453  depart  03/08 08:53          ТАЛДАН       МАГДАГАЧИ  09/08 22:18  10/08 00:09            -1            -1\n",
      " 230204263453  depart  03/08 08:53       МАГДАГАЧИ          УШУМУН  10/08 01:13  10/08 03:23            -1            -1\n",
      " 230204263453  depart  03/08 08:53          УШУМУН     ШИМАНОВСКАЯ  10/08 03:23  10/08 05:43            -1            -1\n",
      " 230204263453  depart  03/08 08:53     ШИМАНОВСКАЯ         ЛЕДЯНАЯ  10/08 05:43  10/08 06:30            -1            -1\n",
      " 230204263453  depart  03/08 08:53         ЛЕДЯНАЯ       БЕЛОГОРСК  10/08 06:30  10/08 08:21            -1            -1\n",
      " 230204263453  depart  03/08 08:53       БЕЛОГОРСК    БЕЛОГОРСК II  10/08 08:21  10/08 08:32            -1            -1\n",
      " 230204263453  depart  03/08 08:53    БЕЛОГОРСК II         ЗАВИТАЯ  10/08 09:12  10/08 11:27            -1            -1\n",
      " 230204263453  depart  03/08 08:53         ЗАВИТАЯ           БУРЕЯ  10/08 11:27  10/08 12:17            -1            -1\n",
      " 230204263453  depart  03/08 08:53           БУРЕЯ          АРХАРА  10/08 12:17  10/08 13:24            -1            -1\n",
      " 230204263453  depart  03/08 08:53          АРХАРА         ОБЛУЧЬЕ  10/08 13:24  10/08 15:42            -1            -1\n",
      " 230204263453  depart  03/08 08:53         ОБЛУЧЬЕ     ИЗВЕСТКОВАЯ  10/08 16:22  10/08 17:20            -1            -1\n",
      " 230204263453  depart  03/08 08:53     ИЗВЕСТКОВАЯ            БИРА  10/08 17:20  10/08 18:48            -1            -1\n",
      " 230204263453  depart  03/08 08:53            БИРА             NaN  10/08 18:48  10/08 19:42            -1            -1\n",
      " 230204263453  depart  03/08 08:53             NaN    ВОЛОЧАЕВКА I  10/08 19:42  10/08 21:42            -1            -1\n",
      " 230204263453  depart  03/08 08:53    ВОЛОЧАЕВКА I      ТУНГУССКИЙ  10/08 21:42  10/08 21:47            -1            -1\n",
      " 230204263453  depart  03/08 08:53      ТУНГУССКИЙ        ДЕЖНЕВКА  10/08 21:47  10/08 21:52            -1            -1\n",
      " 230204263453  depart  03/08 08:53        ДЕЖНЕВКА     ПРИАМУРСКАЯ  10/08 21:52  10/08 22:13            -1            -1\n",
      " 230204263453  depart  03/08 08:53     ПРИАМУРСКАЯ  ПОСТ-ПОКРОВ...  10/08 22:13  10/08 22:18            -1            -1\n",
      " 230204263453  depart  03/08 08:53  ПОСТ-ПОКРОВ...            АМУР  10/08 22:18  10/08 22:28            -1            -1\n",
      " 230204263453  depart  03/08 08:53            АМУР     ХАБАРОВСК I  10/08 22:28  10/08 22:48            -1            -1\n",
      " 230204263453  depart  03/08 08:53     ХАБАРОВСК I    ХАБАРОВСК II  10/08 22:48  10/08 23:10            -1            -1\n",
      " 230204263453  depart  03/08 08:53    ХАБАРОВСК II      КРУГЛИКОВО  11/08 00:16  11/08 01:11            -1            -1\n",
      " 230204263453  depart  03/08 08:53      КРУГЛИКОВО       ВЯЗЕМСКАЯ  11/08 01:11  11/08 02:36            -1            -1\n",
      " 230204263453  depart  03/08 08:53       ВЯЗЕМСКАЯ   РОЗЕНГАРТОВКА  11/08 02:36  11/08 03:44            -1            -1\n",
      " 230204263453  depart  03/08 08:53   РОЗЕНГАРТОВКА           БИКИН  11/08 03:44  11/08 04:39            -1            -1\n",
      " 230204263453  depart  03/08 08:53           БИКИН       ЛУЧЕГОРСК  11/08 04:39  11/08 05:31            -1            -1\n",
      " 230204263453  depart  03/08 08:53       ЛУЧЕГОРСК        ГУБЕРОВО  11/08 05:31  11/08 06:12            -1            -1\n",
      " 230204263453  depart  03/08 08:53        ГУБЕРОВО        ЭБЕРГАРД  11/08 06:12  11/08 06:34            -1            -1\n",
      " 230204263453  depart  03/08 08:53        ЭБЕРГАРД  ДАЛЬНЕРЕЧЕН...  11/08 06:34  11/08 06:48            -1            -1\n",
      " 230204263453  depart  03/08 08:53  ДАЛЬНЕРЕЧЕН...  БЛОКПОСТ 15...  11/08 06:48  11/08 06:54            -1            -1\n",
      " 230204263453  depart  03/08 08:53  БЛОКПОСТ 15...          РУЖИНО  11/08 06:54  11/08 07:46            -1            -1\n",
      " 230204263453  depart  03/08 08:53          РУЖИНО        ШМАКОВКА  11/08 08:26  11/08 09:18            -1            -1\n",
      " 230204263453  depart  03/08 08:53        ШМАКОВКА  СПАССК-ДАЛЬНИЙ  11/08 09:18  11/08 10:27            -1            -1\n",
      " 230204263453  depart  03/08 08:53  СПАССК-ДАЛЬНИЙ       СИБИРЦЕВО  11/08 10:27  11/08 11:31            -1            -1\n",
      " 230204263453  depart  03/08 08:53       СИБИРЦЕВО     ДУБИНИНСКИЙ  11/08 11:31  11/08 12:24            -1            -1\n",
      " 230204263453  depart  03/08 08:53     ДУБИНИНСКИЙ       УССУРИЙСК  11/08 12:24  11/08 12:43            -1            -1\n",
      " 230204263453  depart  03/08 08:53       УССУРИЙСК     БАРАНОВСКИЙ  11/08 13:55  11/08 14:26            -1            -1\n",
      " 230204263453  depart  03/08 08:53     БАРАНОВСКИЙ    НАДЕЖДИНСКАЯ  11/08 14:26  11/08 15:13            -1            -1\n",
      " 230204263453  depart  03/08 08:53    НАДЕЖДИНСКАЯ  АМУРСКИЙ ЗАЛИВ  11/08 15:13  11/08 15:21            -1            -1\n",
      " 230204263453  depart  03/08 08:53  АМУРСКИЙ ЗАЛИВ        УГОЛЬНАЯ  11/08 15:21  11/08 15:28            -1            -1\n",
      " 230204263453  depart  03/08 08:53        УГОЛЬНАЯ    ВТОРАЯ РЕЧКА  11/08 15:28  11/08 15:56            -1            -1\n",
      " 230204263453  depart  03/08 08:53    ВТОРАЯ РЕЧКА    ПЕРВАЯ РЕЧКА  11/08 15:56  11/08 16:02            -1            -1\n"
     ]
    }
   ],
   "source": [
    "plan_cols = ['train', 'oper', 'oper_time_f', 'st_from_name', 'st_to_name', 'time_start_f', 'time_end_f', 'loco', 'team']\n",
    "add_header('Пример плана по одному из поездов, формированием НЕ на станции %s:' % test_st)\n",
    "with pd.option_context('display.max_colwidth', 15):\n",
    "    add_line(train_plan[train_plan.train == late_trains[late_trains.st_loc_name != test_st]\\\n",
    "                        .sort_values('delta', ascending=False).iloc[0].train][plan_cols])"
   ]
  },
  {
   "cell_type": "code",
   "execution_count": 313,
   "metadata": {
    "collapsed": true
   },
   "outputs": [],
   "source": [
    "slot = pd.read_csv(FOLDER + 'slot.csv', dtype={'st_from':str, 'st_to':str})\n",
    "add_info(slot)\n",
    "slot['dt_start'] = slot.time_start.apply(datetime.datetime.fromtimestamp)"
   ]
  },
  {
   "cell_type": "code",
   "execution_count": 314,
   "metadata": {
    "collapsed": false
   },
   "outputs": [
    {
     "data": {
      "text/plain": [
       "dt_start\n",
       "2016-08-03 15:00:00    2\n",
       "2016-08-03 16:00:00    1\n",
       "2016-08-03 17:00:00    0\n",
       "2016-08-03 18:00:00    0\n",
       "2016-08-03 19:00:00    0\n",
       "2016-08-03 20:00:00    0\n",
       "2016-08-03 21:00:00    0\n",
       "2016-08-03 22:00:00    2\n",
       "2016-08-03 23:00:00    1\n",
       "2016-08-04 00:00:00    1\n",
       "2016-08-04 01:00:00    0\n",
       "2016-08-04 02:00:00    0\n",
       "2016-08-04 03:00:00    0\n",
       "2016-08-04 04:00:00    2\n",
       "2016-08-04 05:00:00    2\n",
       "2016-08-04 06:00:00    0\n",
       "2016-08-04 07:00:00    1\n",
       "Freq: H, Name: train, dtype: int64"
      ]
     },
     "execution_count": 314,
     "metadata": {},
     "output_type": "execute_result"
    }
   ],
   "source": [
    "test = [('ТАЙШЕТ', 'ТОРЕЯ')]\n",
    "(test_st, test_st_dir) = test[0]\n",
    "plan_cols = ['train', 'st_from_name', 'st_to_name', 'dt_start', 'loco', 'team']\n",
    "train_plan['dt_start'] = train_plan.time_start.apply(datetime.datetime.fromtimestamp)\n",
    "a = train_plan[(train_plan.st_from_name == test_st) \n",
    "           & (train_plan.st_to_name == test_st_dir) & (train_plan.train_type.isin(['2', '9']))\n",
    "           & (train_plan.time_start >= current_time) & (train_plan.time_end < current_time + 24 * 3600)]\\\n",
    "    .sort_values('dt_start')[plan_cols]\n",
    "dep_volume = a.set_index('dt_start').resample('1H', how='count').train\n",
    "dep_volume"
   ]
  },
  {
   "cell_type": "code",
   "execution_count": 315,
   "metadata": {
    "collapsed": false
   },
   "outputs": [],
   "source": [
    "slot_volume = slot[(slot.st_from_name == test_st) & (slot.st_to_name == test_st_dir)]\\\n",
    "    .set_index('dt_start').resample('1H', how='count').slot\n",
    "dep_slot = dep_volume.to_frame().join(slot_volume)"
   ]
  },
  {
   "cell_type": "code",
   "execution_count": 316,
   "metadata": {
    "collapsed": false
   },
   "outputs": [],
   "source": [
    "# slot_volume = slot[(slot.st_from_name == test_st) & (slot.st_to_name == test_st_dir)]\\\n",
    "#     .set_index('dt_start').resample('300s')\n",
    "# slot_volume.dropna(subset=['slot'], inplace=True)\n",
    "# slot_volume['slot'] = slot_volume.slot.apply(int)\n",
    "# slot_volume = slot_volume.reset_index().set_index('slot')\n",
    "# slot_volume"
   ]
  },
  {
   "cell_type": "code",
   "execution_count": 317,
   "metadata": {
    "collapsed": false
   },
   "outputs": [
    {
     "name": "stdout",
     "output_type": "stream",
     "text": [
      "Empty DataFrame\n",
      "Columns: [train, slot]\n",
      "Index: []\n"
     ]
    }
   ],
   "source": [
    "a = dep_slot[dep_slot.train > dep_slot.slot]\n",
    "print(a)"
   ]
  },
  {
   "cell_type": "code",
   "execution_count": 318,
   "metadata": {
    "collapsed": false
   },
   "outputs": [],
   "source": [
    "pd.set_option('display.max_colwidth', 40)\n",
    "cols = ['train', 'st_from_name', 'st_to_name', 'dt_start']\n",
    "for dt in a.index:\n",
    "    dt_next = dt + datetime.timedelta(0, 3600, 0)\n",
    "    print(dt, dt_next)\n",
    "    print(train_plan[(train_plan.train_type.isin(['2', '9']))\n",
    "                    & (train_plan.st_from_name == test_st) & (train_plan.st_to_name == test_st_dir)\n",
    "                    & (train_plan.dt_start >= dt) & (train_plan.dt_start < dt_next)].sort_values('dt_start')[cols])\n",
    "    print(slot[(slot.st_from_name == test_st) & (slot.st_to_name == test_st_dir)\n",
    "                    & (slot.dt_start >= dt) & (slot.dt_start < dt_next)].sort_values('dt_start')[['slot', 'dt_start']])\n",
    "    print('-------')"
   ]
  },
  {
   "cell_type": "markdown",
   "metadata": {},
   "source": [
    "[В начало](#toc)\n",
    "## Планирование сдвоенных поездов и поездов, составляющих сдвоенные\n",
    "\n",
    "0. Сдвоенные поезда - это поезда, которые указаны в атрибуте `joint` у каких-либо других поездов.\n",
    "1. Сдвоенные поезда с точки зрения планирования ничем не отличаются от обычных поездов. Проверяется, что сдвоенные поезда планируются до своей конечной станции.\n",
    "2. Составляющие поезда должны планироваться от конечной станции сдвоенного поезда и только после прибытия сдвоенного поезда на конечную станцию."
   ]
  },
  {
   "cell_type": "code",
   "execution_count": 319,
   "metadata": {
    "collapsed": true
   },
   "outputs": [],
   "source": [
    "add_header('Планирование сдвоенных поездов и поездов, составляющих сдвоенные', h=2, p=False)"
   ]
  },
  {
   "cell_type": "code",
   "execution_count": 320,
   "metadata": {
    "collapsed": false
   },
   "outputs": [
    {
     "name": "stdout",
     "output_type": "stream",
     "text": [
      "Всего запланировано 1 сдвоенных поездов из 31 корректно переданных (3.23%). Примеры незапланированных поездов:\n",
      "        train  number         ind434    oper  oper_time_f                   loc_name\n",
      " 200020738171    9218  9715-646-9826  depart  03/08 08:55          РУЖИНО - ШМАКОВКА\n",
      " 200020744284    9209  9826-531-9700  depart  03/08 10:34  СПАССК-ДАЛЬНИЙ - ШМАКОВКА\n",
      " 200020772007    9215  9525-472-9513  depart  03/08 08:01     ТАЛДАН - БОЛЬШОЙ НЕВЕР\n",
      " 200020806055    9210  9212-203-9320  depart  03/08 11:29       НИЖНЕУДИНСК - УДА II\n",
      " 200020668853    9209  9702-304-9614  depart  03/08 10:11     ЗАВИТАЯ - БЕЛОГОРСК II\n",
      " 200020767156    9219  9628-080-9614  depart  03/08 07:21         БИРА - ИЗВЕСТКОВАЯ\n",
      " 200020698338    9203  9826-529-9700  depart  03/08 11:31       ГУБЕРОВО - ЛУЧЕГОРСК\n",
      " 200020726330    9220  9700-345-9828  arrive  03/08 12:13                     РУЖИНО\n",
      " 200020714370    9208  9491-004-9509  depart  03/08 06:23       ЗИЛОВО - КСЕНЬЕВСКАЯ\n",
      " 200020772011    9213  9826-532-9700  depart  03/08 11:06  СПАССК-ДАЛЬНИЙ - ШМАКОВКА\n"
     ]
    }
   ],
   "source": [
    "train_info['is_arrive'] = train_info.last_st == train_info.loc_name\n",
    "train_plan['last_st_info'] = train_plan.train.map(train_info.set_index('train').last_st)\n",
    "joints = [t for t in train_info.joint.unique() if t != '-1']\n",
    "info_joints = train_info[train_info.train.isin(joints)]\n",
    "joints_to_plan = info_joints[info_joints.is_arrive == False]\n",
    "joints_planned = train_plan[train_plan.train.isin(joints_to_plan.train)]\n",
    "add_header('Всего запланировано %d сдвоенных поездов из %d корректно переданных (%.2f%%). Примеры незапланированных поездов:' \n",
    "           % (joints_planned.train.count(), joints_to_plan.train.count(), \n",
    "              100 * joints_planned.drop_duplicates('train').train.count() / joints_to_plan.train.count()))\n",
    "cols = ['train', 'number', 'ind434', 'oper', 'oper_time_f', 'loc_name']\n",
    "pd.set_option('display.max_colwidth', 50)\n",
    "add_line(joints_to_plan.head(10)[cols])"
   ]
  },
  {
   "cell_type": "code",
   "execution_count": 321,
   "metadata": {
    "collapsed": false
   },
   "outputs": [
    {
     "name": "stdout",
     "output_type": "stream",
     "text": [
      "Всего 0 сдвоенных поездов из 1 запланированных (0.00%) запланированы НЕ до конца маршрута. Примеры:\n",
      "Empty DataFrame\n",
      "Columns: [train, number, ind434, st_from_name, st_to_name, last_st_info]\n",
      "Index: []\n"
     ]
    }
   ],
   "source": [
    "tl = joints_planned.drop_duplicates('train', keep='last')\n",
    "tl_no_end = tl[tl.st_to_name != tl.last_st_info]\n",
    "add_header('Всего %d сдвоенных поездов из %d запланированных (%.2f%%) запланированы НЕ до конца маршрута. Примеры:' \n",
    "           % (tl_no_end.train.count(), joints_planned.drop_duplicates('train').train.count(), \n",
    "              100 * tl_no_end.train.count() / joints_planned.drop_duplicates('train').train.count()))\n",
    "cols = ['train', 'number', 'ind434', 'st_from_name', 'st_to_name', 'last_st_info']\n",
    "add_line(tl_no_end.head(10)[cols])"
   ]
  },
  {
   "cell_type": "code",
   "execution_count": 322,
   "metadata": {
    "collapsed": false
   },
   "outputs": [
    {
     "name": "stdout",
     "output_type": "stream",
     "text": [
      "        train  number   st_from_name     st_to_name time_start_f   time_end_f  loco_n      team_n\n",
      " 230202979382    2627   МЕЖДУРЕЧЕНСК       БИСКАМЖА  03/08 13:45  03/08 17:36    1018  8875007422\n",
      " 230202979382    2627       БИСКАМЖА        НАНХЧУЛ  03/08 17:36  03/08 17:59    1018  8875007422\n",
      " 230202979382    2627        НАНХЧУЛ         ХАБЗАС  03/08 17:59  03/08 18:22    1018  8875007422\n",
      " 230202979382    2627         ХАБЗАС          АСКИЗ  03/08 18:22  03/08 19:57    1018  8875007422\n",
      " 230202979382    2627          АСКИЗ        КАМЫШТА  03/08 19:57  03/08 21:17    1018  8875007422\n",
      " 230202979382    2627        КАМЫШТА          ХОНЫХ  03/08 21:17  03/08 22:42    1018  8875007422\n",
      " 230202979382    2627          ХОНЫХ   ОРОСИТЕЛЬНЫЙ  03/08 22:42  03/08 22:52    1018  8875007422\n",
      " 230202979382    2627   ОРОСИТЕЛЬНЫЙ      ЕРБИНСКАЯ  04/08 01:55  04/08 04:29     NaN         NaN\n",
      " 230202979382    2627      ЕРБИНСКАЯ       ТУМАННЫЙ  04/08 04:29  04/08 05:13     NaN         NaN\n",
      " 230202979382    2627       ТУМАННЫЙ            СОН  04/08 05:13  04/08 05:57     NaN         NaN\n",
      " 230202979382    2627            СОН          ТИСИН  04/08 05:57  04/08 06:51     NaN         NaN\n",
      " 230202979382    2627          ТИСИН           УЖУР  04/08 06:51  04/08 10:41     NaN         NaN\n",
      " 230202979382    2627           УЖУР  КРАСНАЯ СОПКА  04/08 10:41  04/08 12:07     NaN         NaN\n",
      " 230202979382    2627  КРАСНАЯ СОПКА       НАЗАРОВО  04/08 14:15  04/08 15:02     NaN         NaN\n",
      " 230202979382    2627       НАЗАРОВО           УЛУЙ  04/08 15:02  04/08 15:45     NaN         NaN\n",
      " 230202979382    2627           УЛУЙ    ПРИГОРОДНЫЙ  04/08 15:45  04/08 15:59     NaN         NaN\n",
      " 230202979382    2627    ПРИГОРОДНЫЙ      АЧИНСК II  04/08 15:59  04/08 16:04     NaN         NaN\n",
      " 230202979382    2627      АЧИНСК II       АЧИНСК I  04/08 16:04  04/08 16:30     NaN         NaN\n",
      " 230202979382    2627       АЧИНСК I        ЗЕРЦАЛЫ  04/08 16:30  04/08 16:46     NaN         NaN\n",
      " 230202979382    2627        ЗЕРЦАЛЫ        БОГОТОЛ  04/08 16:46  04/08 17:42     NaN         NaN\n",
      " 230202979382    2627        БОГОТОЛ       МАРИИНСК  04/08 17:42  04/08 20:01     NaN         NaN\n",
      "        train      loc_name  oper_time_f    oper\n",
      " 230202979382  МЕЖДУРЕЧЕНСК  03/08 11:47  arrive\n",
      "           train  number st_from_name st_to_name time_start_f   time_end_f  loco_n      team_n\n",
      "  88880001094858    4858      ТАКСИМО     КУАНДА  03/08 14:55  03/08 17:32    3438  9214007227\n",
      "    230204703070    2182      ТАКСИМО     КУАНДА  03/08 14:55  03/08 17:32     NaN         NaN\n",
      "    230201667502    2776      ТАКСИМО     КУАНДА  03/08 15:50  03/08 18:22     NaN         NaN\n",
      "    230203839089    2182      ТАКСИМО     КУАНДА  03/08 18:00  03/08 20:10     NaN         NaN\n",
      "    230204050083    2188      ТАКСИМО     КУАНДА  03/08 19:25  03/08 21:35     NaN         NaN\n",
      "    230204451119    2736      ТАКСИМО     КУАНДА  03/08 19:40  03/08 21:50     NaN         NaN\n",
      "    200020013158    2188      ТАКСИМО     КУАНДА  03/08 20:15  03/08 22:25     NaN         NaN\n",
      "    230204094977    2788      ТАКСИМО     КУАНДА  03/08 21:40  04/08 00:10     NaN         NaN\n",
      "    230204094785    1562      ТАКСИМО     КУАНДА  03/08 23:25  04/08 01:23     NaN         NaN\n",
      "    230204167583    1564      ТАКСИМО     КУАНДА  04/08 02:20  04/08 04:08     NaN         NaN\n",
      "    200020639270    2138      ТАКСИМО     КУАНДА  04/08 05:40  04/08 07:38     NaN         NaN\n",
      "    230204167632    1516      ТАКСИМО     КУАНДА  04/08 07:05  04/08 08:59     NaN         NaN\n",
      " 999912471012000    2000      ТАКСИМО     КУАНДА  04/08 11:15  04/08 13:26    2971  9214006980\n"
     ]
    }
   ],
   "source": [
    "ind = '9114-084-8176'\n",
    "pd.set_option('display.max_colwidth', 20)\n",
    "loco_info['ser_name'] = loco_info.series.map(loco_series.set_index('ser_id').ser_name)\n",
    "train_id = train_info[train_info.ind434 == ind].train.values[0]\n",
    "cols = ['train', 'number', 'st_from_name', 'st_to_name', 'time_start_f', 'time_end_f', 'loco_n', 'team_n']\n",
    "train_plan['loco_n'] = train_plan.loco.map(loco_info.set_index('loco').number)\n",
    "train_plan['team_n'] = train_plan.team.map(team_info.set_index('team').number)\n",
    "add_line(train_plan[train_plan.train == train_id][cols])\n",
    "add_line(train_info[train_info.train == train_id][['train', 'loc_name', 'oper_time_f', 'oper']])\n",
    "st1 = 'ТАКСИМО'\n",
    "st2 = 'КУАНДА'\n",
    "add_line(train_plan[(train_plan.st_from_name == st1) & (train_plan.st_to_name == st2)\n",
    "          & (train_plan.time_start >= current_time)\n",
    "          & (train_plan.time_start < current_time + 24 * 3600)].sort_values('time_start')[cols])"
   ]
  },
  {
   "cell_type": "markdown",
   "metadata": {},
   "source": [
    "<a id='report'></a>\n",
    "### Экспорт в HTML [ToC](#toc)"
   ]
  },
  {
   "cell_type": "code",
   "execution_count": 323,
   "metadata": {
    "collapsed": false
   },
   "outputs": [
    {
     "name": "stdout",
     "output_type": "stream",
     "text": [
      "Отчет сформирован: report/train_report_20160805_174021.html\n"
     ]
    }
   ],
   "source": [
    "filename = REPORT_FOLDER + 'train_report_' + time.strftime('%Y%m%d_%H%M%S', time.localtime(time.time())) + '.html'\n",
    "create_report(filename)"
   ]
  }
 ],
 "metadata": {
  "kernelspec": {
   "display_name": "Python 3",
   "language": "python",
   "name": "python3"
  },
  "language_info": {
   "codemirror_mode": {
    "name": "ipython",
    "version": 3
   },
   "file_extension": ".py",
   "mimetype": "text/x-python",
   "name": "python",
   "nbconvert_exporter": "python",
   "pygments_lexer": "ipython3",
   "version": "3.5.1"
  }
 },
 "nbformat": 4,
 "nbformat_minor": 0
}
