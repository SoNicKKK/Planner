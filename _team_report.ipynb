{
 "cells": [
  {
   "cell_type": "markdown",
   "metadata": {},
   "source": [
    "<a id='toc'></a>\n",
    "# Список тестов по бригадам:"
   ]
  },
  {
   "cell_type": "markdown",
   "metadata": {},
   "source": [
    "1. [Расчет процента подвязки между бригадами и локомотивами.](#perc_assign)\n",
    "2. [Расчет процента запланированных бригад от общего количества бригад на входе планировщика.](#perc_assign2)\n",
    "3. [Распределение между реальными и фейковыми бригадами в результатах планирования.](#real_fake)\n",
    "4. [Составление списка станций и участков, на которых не состоялась подвязка бригады.](#no_assign)\n",
    "5. [Проверка переработки бригад.](#overwork)   \n",
    "6. [Проверка \"скачков\" бригад между станциями.](#leaps)\n",
    "7. [Анализ времен стоянок поездов для смены бригады.](#stop_time)\n",
    "8. [Анализ времен отдыха бригад.](#rest_time)\n",
    "9. [Проверка корректности времен явки бригад во входных данных](#ready_time)\n",
    "10. [Проверка смены бригад на корректных станциях](#change)\n",
    "11. [Проверка отправления бригад до времени явки](#presence)\n",
    "12. [Проверка планирования бригад до времени начала планирования](#before_current_time)\n",
    "13. [Проверка планируемых явок бригад](#presenting)\n",
    "14. [Проверка использования бригад после засылки пассажирами](#check_useful_assign)\n",
    "  1. [Бригады, бесцельно отправляемые пассажирами](#only_pass)\n",
    "  2. [Бригады, у которых запланирована только явка](#only_presence)\n",
    "15. [Проверка подвязки негрузовых бригад](#pass_teams_in_plan)"
   ]
  },
  {
   "cell_type": "markdown",
   "metadata": {},
   "source": [
    "### Константы и настройки"
   ]
  },
  {
   "cell_type": "code",
   "execution_count": 1,
   "metadata": {
    "collapsed": true
   },
   "outputs": [],
   "source": [
    "report = ''\n",
    "FOLDER = 'resources/'\n",
    "REPORT_FOLDER = 'report/'\n",
    "PRINT = True"
   ]
  },
  {
   "cell_type": "code",
   "execution_count": 2,
   "metadata": {
    "collapsed": false
   },
   "outputs": [],
   "source": [
    "time_format = '%b %d, %H:%M'\n",
    "def sprint(s):\n",
    "    print(s.to_string(index=False))\n",
    "    \n",
    "#def scount(df):\n",
    "#    return scount(df, df.columns[0])\n",
    "    \n",
    "def scount(df, col):\n",
    "    return df[col].drop_duplicates().count() if col in df.columns else 0\n",
    "\n",
    "def nice_time(t):\n",
    "    return time.strftime(time_format, time.localtime(t)) if t > 0 else ''"
   ]
  },
  {
   "cell_type": "markdown",
   "metadata": {},
   "source": [
    "### Функции для экспорта в HTML"
   ]
  },
  {
   "cell_type": "code",
   "execution_count": 3,
   "metadata": {
    "collapsed": false
   },
   "outputs": [],
   "source": [
    "def add_line(line, p=PRINT):    \n",
    "    global report        \n",
    "    if p:                \n",
    "        if type(line) == pd.core.frame.DataFrame:\n",
    "            print(line.to_string(index=False))\n",
    "        elif type(line) == pd.core.series.Series:\n",
    "            print(line.to_string())\n",
    "        else:\n",
    "            print(line)\n",
    "    if type(line) == pd.core.frame.DataFrame:        \n",
    "        report += ('%s<br>' % line.to_html(index=False))\n",
    "    elif type(line) == pd.core.series.Series:\n",
    "        report += ('%s<br>' % line.to_frame().reset_index().to_html(index=False))\n",
    "    else:\n",
    "        if line[:2] == '\\n':\n",
    "            line_rep = line[2:]\n",
    "        else:\n",
    "            line_rep = line\n",
    "        report += ('%s<br>' % line_rep)\n",
    "    \n",
    "def add_header(header, h=4, p=PRINT):\n",
    "    global report\n",
    "    report += ('<h%d>%s</h%d>' % (h, header, h))\n",
    "    if p:\n",
    "        print(header)\n",
    "\n",
    "def add_image(filename):\n",
    "    global report\n",
    "    report += ('<img src=\"%s\" alt=\"%s\" height=\"40%%\">' % (filename, filename))\n",
    "\n",
    "def create_report(filename):\n",
    "    global report\n",
    "    report = report.replace('<table border=\"1\" class=\"dataframe\">','<table class=\"table table-striped\">')\n",
    "    html_string = '''\n",
    "        <html>\n",
    "            <head>\n",
    "                <link rel=\"stylesheet\" href=\"skeleton.css\">\n",
    "                <style>body{ margin:20 20; background:whitesmoke; }\n",
    "                table {table-layout : fixed}\n",
    "                </style>\n",
    "            </head>\n",
    "            <body>                \n",
    "                %s\n",
    "            </body>\n",
    "        </html>''' % (report)\n",
    "    f = open(filename,'w', encoding='utf-8-sig')\n",
    "    f.write(html_string)\n",
    "    f.close()\n",
    "    print('Отчет сформирован: %s' % filename)"
   ]
  },
  {
   "cell_type": "markdown",
   "metadata": {},
   "source": [
    "## Загрузка и подготовка данных"
   ]
  },
  {
   "cell_type": "code",
   "execution_count": 4,
   "metadata": {
    "collapsed": false
   },
   "outputs": [
    {
     "name": "stdout",
     "output_type": "stream",
     "text": [
      "Время составления отчета: Jul 25, 17:41\n",
      "Время запуска планировщика: Jul 15, 14:41 (1468582897)\n"
     ]
    }
   ],
   "source": [
    "import numpy as np\n",
    "import pandas as pd\n",
    "import time, datetime\n",
    "from ast import literal_eval\n",
    "import matplotlib.pyplot as plt\n",
    "import seaborn as sns\n",
    "\n",
    "%matplotlib inline\n",
    "plt.style.use('fivethirtyeight')\n",
    "plt.rc('font', family='Times New Roman')\n",
    "\n",
    "pd.set_option('max_rows', 50)\n",
    "\n",
    "time_format = '%b %d, %H:%M'\n",
    "\n",
    "start_time = time.time()\n",
    "current_time = pd.read_csv(FOLDER + 'current_time.csv').current_time[0]\n",
    "twr          = pd.read_csv(FOLDER + 'team_work_region.csv', converters={'twr':str})\n",
    "links        = pd.read_csv(FOLDER + 'link.csv')\n",
    "stations     = pd.read_csv(FOLDER + 'station.csv', converters={'station':str})\n",
    "train_info   = pd.read_csv(FOLDER + 'train_info.csv', converters={'train': str, 'st_from':str, 'st_to':str})\n",
    "train_plan   = pd.read_csv(FOLDER + 'slot_train.csv', converters={'train': str, 'st_from':str, 'st_to':str})\n",
    "loco_info    = pd.read_csv(FOLDER + 'loco_attributes.csv', converters={'train':str, 'loco':str})\n",
    "loco_plan    = pd.read_csv(FOLDER + 'slot_loco.csv', converters={'train':str, 'loco':str, 'st_from':str, 'st_to':str})\n",
    "team_info    = pd.read_csv(FOLDER + 'team_attributes.csv', converters={'team':str,'depot':str, 'oper_location':str, \\\n",
    "                                                                 'st_from':str, 'st_to':str, 'loco':str, 'depot_st':str})\n",
    "team_plan    = pd.read_csv(FOLDER + 'slot_team.csv', converters={'team':str,'loco':str, 'st_from':str, 'st_to':str})\n",
    "loco_series  = pd.read_csv(FOLDER + 'loco_series.csv')\n",
    "\n",
    "team_info.regions = team_info.regions.apply(literal_eval)\n",
    "st_names = stations[['station', 'name', 'esr']].drop_duplicates().set_index('station')\n",
    "print('Время составления отчета:', time.strftime(time_format, time.localtime()))\n",
    "print('Время запуска планировщика: %s (%d)' % (time.strftime(time_format, time.localtime(current_time)), current_time))"
   ]
  },
  {
   "cell_type": "code",
   "execution_count": 5,
   "metadata": {
    "collapsed": true
   },
   "outputs": [],
   "source": [
    "# Мержим таблицы _plan и _info для поездов, локомотивов и бригад\n",
    "# Добавляем во все таблицы названия станций на маршруте и времена отправления/прибытия в читабельном формате\n",
    "\n",
    "def add_info(df):    \n",
    "    if 'st_from' in df.columns:\n",
    "        df['st_from_name'] = df.st_from.map(st_names.name)\n",
    "    if 'st_to' in df.columns:\n",
    "        df['st_to_name'] = df.st_to.map(st_names.name)\n",
    "    if 'time_start' in df.columns:\n",
    "        df['time_start_f'] = df.time_start.apply(lambda x: nice_time(x))\n",
    "    if 'time_end' in df.columns:\n",
    "        df['time_end_f'] = df.time_end.apply(lambda x: nice_time(x))\n",
    "    if 'oper_location' in df.columns:\n",
    "        df['oper_location_name'] = df.oper_location.map(st_names.name)    \n",
    "        df.oper_location_name.fillna(0, inplace=True)\n",
    "    if ('oper_location' in df.columns) & ('st_from' in df.columns) & ('st_to' in df.columns):        \n",
    "        df['loc_name'] = df.oper_location_name\n",
    "        df.loc[df.loc_name == 0, 'loc_name'] = df.st_from_name + ' - ' + df.st_to_name\n",
    "    \n",
    "add_info(train_plan)\n",
    "add_info(loco_plan)\n",
    "add_info(team_plan)\n",
    "add_info(loco_info)\n",
    "add_info(team_info)\n",
    "train_plan = train_plan.merge(train_info, on='train', suffixes=('', '_info'), how='left')\n",
    "loco_plan = loco_plan.merge(loco_info, on='loco', suffixes=('', '_info'), how='left')\n",
    "team_plan = team_plan.merge(team_info, on='team', suffixes=('', '_info'), how='left')\n",
    "team_plan['team_type'] = team_plan.team.apply(lambda x: 'Реальная' if str(x)[0] == '2' else 'Фейковая')"
   ]
  },
  {
   "cell_type": "code",
   "execution_count": 6,
   "metadata": {
    "collapsed": false
   },
   "outputs": [
    {
     "name": "stdout",
     "output_type": "stream",
     "text": [
      "Время сбора данных и запуска планировщика: Jul 15, 14:41\n"
     ]
    }
   ],
   "source": [
    "add_line('Время сбора данных и запуска планировщика: %s' % time.strftime(time_format, time.localtime(current_time)))"
   ]
  },
  {
   "cell_type": "markdown",
   "metadata": {},
   "source": [
    "<a id='perc_assign'></a>\n",
    "## Расчет процента подвязки между локомотивами и бригадами [ToC](#toc)"
   ]
  },
  {
   "cell_type": "code",
   "execution_count": 7,
   "metadata": {
    "collapsed": true
   },
   "outputs": [],
   "source": [
    "add_header('Расчет процента подвязки между локомотивами и бригадами', h=2, p=False)"
   ]
  },
  {
   "cell_type": "code",
   "execution_count": 8,
   "metadata": {
    "collapsed": false
   },
   "outputs": [
    {
     "name": "stdout",
     "output_type": "stream",
     "text": [
      "Локомотивов без бригад на горизонте  6 часов: 14 из 1209 (процент подвязки 98%)\n",
      "Локомотивов без реальных бригад на горизонте  6 часов: 108 из 1209 (процент подвязки 91%)\n",
      "Локомотивов без бригад на горизонте 12 часов: 15 из 1209 (процент подвязки 98%)\n",
      "Локомотивов без реальных бригад на горизонте 12 часов: 207 из 1209 (процент подвязки 82%)\n",
      "Локомотивов без бригад на горизонте 24 часов: 25 из 1209 (процент подвязки 97%)\n",
      "Локомотивов без реальных бригад на горизонте 24 часов: 535 из 1209 (процент подвязки 55%)\n"
     ]
    }
   ],
   "source": [
    "def count_real_assign_percent(hor):\n",
    "    loco_no_team = loco_plan.loc[(loco_plan.time_start < current_time + hor) &\n",
    "                             ((loco_plan.team == -1) | (loco_plan.team_type == 'Фейковая')) &\n",
    "                             (loco_plan.state.isin([0, 1]))]\n",
    "    loco_n = len(loco_plan.drop_duplicates(subset=['loco']).index)\n",
    "    loco_no_team_n = len(loco_no_team.loco.drop_duplicates().index)\n",
    "    percent = 100 - np.round((100 * loco_no_team_n / loco_n), 2)\n",
    "    add_line('Локомотивов без реальных бригад на горизонте %2.d часов: %d из %d (процент подвязки %d%%)' %\n",
    "          (hor / 3600, loco_no_team_n, loco_n, percent))\n",
    "    \n",
    "    \n",
    "def count_assign_percent(hor):\n",
    "    loco_no_team = loco_plan.loc[(loco_plan.time_start < current_time + hor) &\n",
    "                             (loco_plan.team == -1) &\n",
    "                             (loco_plan.state.isin([0, 1]))]\n",
    "    loco_n = len(loco_plan.drop_duplicates(subset=['loco']).index)\n",
    "    loco_no_team_n = len(loco_no_team.loco.drop_duplicates().index)\n",
    "    percent = 100 - np.round((100 * loco_no_team_n / loco_n), 2)\n",
    "    add_line('Локомотивов без бригад на горизонте %2.d часов: %d из %d (процент подвязки %d%%)' %\n",
    "          (hor / 3600, loco_no_team_n, loco_n, percent))\n",
    "    count_real_assign_percent(hor)   \n",
    "\n",
    "    \n",
    "if 'team' not in loco_plan.columns:\n",
    "    loco_plan = loco_plan.set_index(['loco', 'time_start']).join(team_plan.loc[team_plan.state == 1, \\\n",
    "                                                                ['team', 'loco', 'time_start', 'team_type']].\\\n",
    "                                                                 set_index(['loco', 'time_start'])).reset_index()    \n",
    "    loco_plan.team.fillna(-1, inplace=True)\n",
    "\n",
    "count_assign_percent(6 * 3600)\n",
    "count_assign_percent(12 * 3600)\n",
    "count_assign_percent(24 * 3600)"
   ]
  },
  {
   "cell_type": "code",
   "execution_count": 9,
   "metadata": {
    "collapsed": false
   },
   "outputs": [
    {
     "name": "stdout",
     "output_type": "stream",
     "text": [
      "         loco                        st_from_name                          st_to_name   time_start_f     time_end_f  state         train\n",
      " 200200103060                               СУЛУК                           ПОСТЫШЕВО  Jul 15, 07:46  Jul 15, 12:57      1  210218275319\n",
      " 200200103060                           ПОСТЫШЕВО                               БОЛЕН  Jul 15, 17:05  Jul 15, 18:03      1  210218275319\n",
      " 200200103060                               БОЛЕН                                МОНИ  Jul 15, 18:03  Jul 15, 18:46      1  210218275319\n",
      " 200200103060                                МОНИ                              ЭВОРОН  Jul 15, 18:46  Jul 15, 19:12      1  210218275319\n",
      " 200200103060                              ЭВОРОН             КОМСОМОЛЬСК-НА-АМУРЕ II  Jul 15, 19:12  Jul 15, 22:43      1  210218275319\n",
      " 200200103060             КОМСОМОЛЬСК-НА-АМУРЕ II                КОМСОМОЛЬСК-НА-АМУРЕ  Jul 15, 22:43  Jul 15, 22:52      1  210218275319\n",
      " 200200103060                КОМСОМОЛЬСК-НА-АМУРЕ  КОМСОМОЛЬСК-НА-АМУРЕ-СОРТИРОВОЧНЫЙ  Jul 15, 22:52  Jul 15, 23:03      1  210218275319\n",
      " 200200103060  КОМСОМОЛЬСК-НА-АМУРЕ-СОРТИРОВОЧНЫЙ                             СЕЛИХИН  Jul 16, 02:15  Jul 16, 04:46      1  210218275319\n",
      " 200200103060                             СЕЛИХИН                            ЭЛЬДИГАН  Jul 16, 04:46  Jul 16, 05:38      1  210218275319\n",
      " 200200103060                            ЭЛЬДИГАН                                 КУН  Jul 16, 05:38  Jul 16, 06:45      1  210218275319\n",
      " 200200103060                                 КУН                             ГУРСКОЕ  Jul 16, 06:45  Jul 16, 07:26      1  210218275319\n",
      " 200200103060                             ГУРСКОЕ                                ОУНЭ  Jul 16, 07:26  Jul 16, 10:07      1  210218275319\n",
      " 200200103060                                ОУНЭ                        КУЗНЕЦОВСКИЙ  Jul 16, 10:07  Jul 16, 10:40      1  210218275319\n",
      " 200200103060                        КУЗНЕЦОВСКИЙ                               СОЛЛУ  Jul 16, 10:40  Jul 16, 10:53      1  210218275319\n",
      " 200200103060                               СОЛЛУ                        ВЫСОКОГОРНАЯ  Jul 16, 10:53  Jul 16, 11:05      1  210218275319\n",
      " 200200103060                        ВЫСОКОГОРНАЯ                            МОНГОХТО  Jul 16, 14:00  Jul 16, 19:51      1  210218275319\n",
      " 200200103060                            МОНГОХТО                                ТОКИ  Jul 16, 19:51  Jul 16, 21:17      1  210218275319\n",
      " 200200103060                                ТОКИ                              ВАНИНО  Jul 16, 21:17  Jul 16, 21:30      1  210218275319\n",
      "         team st_from_name st_to_name   time_start_f     time_end_f          loco  state\n",
      " 200200242993        СУЛУК  ПОСТЫШЕВО  Jul 15, 07:46  Jul 15, 12:57  200200103060      1\n"
     ]
    }
   ],
   "source": [
    "#loco_plan['loco_time'] = list(zip(loco_plan.loco, loco_plan.time_start))\n",
    "#team_plan['loco_time'] = list(zip(team_plan.loco, team_plan.time_start))\n",
    "#loco_plan['team']\n",
    "loco_no_team = loco_plan.loc[(loco_plan.time_start < current_time + 6 * 3600) &\n",
    "                             (loco_plan.team == -1) &\n",
    "                             (loco_plan.state.isin([0, 1]))]\n",
    "#add_line(loco_no_team[['loco', 'st_from_name', 'st_to_name', 'time_start_f', 'time_end_f', 'team']].head())\n",
    "loco_id = loco_no_team.iloc[1].loco\n",
    "add_line(loco_plan[loco_plan.loco == loco_id]\\\n",
    "        [['loco', 'st_from_name', 'st_to_name', 'time_start_f', 'time_end_f', 'state', 'train']])\n",
    "add_line(team_plan[team_plan.loco == loco_id].sort_values('time_start')\\\n",
    "        [['team', 'st_from_name', 'st_to_name', 'time_start_f', 'time_end_f', 'loco', 'state']])\n"
   ]
  },
  {
   "cell_type": "markdown",
   "metadata": {},
   "source": [
    "<a id='perc_assign2'></a>\n",
    "## Расчет процента запланированных бригад от общего количества [ToC](#toc)"
   ]
  },
  {
   "cell_type": "code",
   "execution_count": 10,
   "metadata": {
    "collapsed": true
   },
   "outputs": [],
   "source": [
    "add_header('Расчет процента запланированных бригад от общего количества бригад на входе', h=2, p=False)"
   ]
  },
  {
   "cell_type": "code",
   "execution_count": 11,
   "metadata": {
    "collapsed": false
   },
   "outputs": [
    {
     "name": "stdout",
     "output_type": "stream",
     "text": [
      "Всего бригад, запланированных с локомотивами в работе: 2814 из 4517 (62.30%)\n"
     ]
    },
    {
     "data": {
      "image/png": "[encoded data removed]",
      "text/plain": [
       "<matplotlib.figure.Figure at 0x1ba8a223d68>"
      ]
     },
     "metadata": {},
     "output_type": "display_data"
    }
   ],
   "source": [
    "# team_planned = team_plan.loc[team_plan.state.isin([0, 1])]\n",
    "team_assigned = team_plan.loc[team_plan.state.isin([1])]\n",
    "team_assigned_n = len(team_assigned.drop_duplicates(subset=['team']).index)\n",
    "team_total_n = len(team_info.team.index)\n",
    "team_assigned_percent = team_assigned_n / team_total_n\n",
    "add_line('Всего бригад, запланированных с локомотивами в работе: %d из %d (%.2f%%)' %\n",
    "      (team_assigned_n, team_total_n, 100 * team_assigned_percent))\n",
    "team_info['is_assign'] = team_info.team.isin(team_assigned.team)\n",
    "assign_states = team_info.loc[team_info.is_assign == True, ['team', 'state']].state.astype(str).value_counts().to_frame()\n",
    "initial_states = team_info.state.value_counts().to_frame()\n",
    "initial_states.columns=['Бригады во входных данных']\n",
    "assign_states.columns=['Бригады в результатах']\n",
    "states = initial_states.join(assign_states)\n",
    "states.fillna(0, inplace=True)\n",
    "\n",
    "sns.set_style(\"ticks\")\n",
    "sns.set_context(\"talk\")\n",
    "sns.set_color_codes(\"pastel\")\n",
    "fig = plt.figure()\n",
    "sns.barplot(x='index', y='Бригады во входных данных', data=states.sort_index().reset_index(), \n",
    "            color=\"b\", label='Бригады во входных данных')\n",
    "sns.set_color_codes('muted')\n",
    "ax = sns.barplot(x='index', y='Бригады в результатах', data=states.sort_index().reset_index(), \n",
    "            color=\"b\", label='Бригады в результатах')\n",
    "ax.legend(ncol=1, loc=\"upper right\", frameon=False)\n",
    "ax.set(ylabel='Количество бригад', xlabel='Исходное состояние бригады', \n",
    "       title='Соотношение между количеством запланированных бригад и бригад на входе')\n",
    "sns.despine()\n",
    "filename = 'team_usage.png'\n",
    "plt.savefig(REPORT_FOLDER + filename, bbox_inches='tight')\n",
    "add_image(filename)"
   ]
  },
  {
   "cell_type": "markdown",
   "metadata": {},
   "source": [
    "<a id='real_fake'></a>\n",
    "### Распределение реальных и фейковых бригад в результатах планирования"
   ]
  },
  {
   "cell_type": "code",
   "execution_count": 12,
   "metadata": {
    "collapsed": true
   },
   "outputs": [],
   "source": [
    "add_header('Распределение реальных и фейковых бригад в результатах планирования', h=2, p=False)"
   ]
  },
  {
   "cell_type": "code",
   "execution_count": 13,
   "metadata": {
    "collapsed": false
   },
   "outputs": [
    {
     "data": {
      "image/png": "[encoded data removed]",
      "text/plain": [
       "<matplotlib.figure.Figure at 0x1ba8a203ba8>"
      ]
     },
     "metadata": {},
     "output_type": "display_data"
    }
   ],
   "source": [
    "f = team_plan.drop_duplicates(subset=['team']).team_type.value_counts()\n",
    "fig = plt.figure()\n",
    "ax = f.plot(kind='pie', colormap='Pastel2', figsize=(5,5), autopct='%.2f%%')\n",
    "ax.set_ylabel('')\n",
    "#plt.show()\n",
    "filename = 'real_fake_teams_ratio.png'\n",
    "fig.savefig(REPORT_FOLDER + filename, bbox_inches='tight')\n",
    "add_image(filename)"
   ]
  },
  {
   "cell_type": "markdown",
   "metadata": {},
   "source": [
    "<a id='no_assign'></a>\n",
    "## Cтанции и участки, на которых не состоялась подвязка бригады [ToC](#toc)"
   ]
  },
  {
   "cell_type": "code",
   "execution_count": 14,
   "metadata": {
    "collapsed": true
   },
   "outputs": [],
   "source": [
    "add_header('Станции и участки, на которых не состоялась подвязка бригады', h=2, p=False)"
   ]
  },
  {
   "cell_type": "code",
   "execution_count": 15,
   "metadata": {
    "collapsed": false
   },
   "outputs": [],
   "source": [
    "horizon = 6 * 3600\n",
    "add_line('Горизонт анализа: %d часов' % (horizon / 3600), p=False)\n",
    "loco_mask = (loco_plan.time_start < current_time + horizon)"
   ]
  },
  {
   "cell_type": "code",
   "execution_count": 16,
   "metadata": {
    "collapsed": false
   },
   "outputs": [
    {
     "name": "stdout",
     "output_type": "stream",
     "text": [
      "Станции, на которых не удалось подвязать бригады под локомотив (первые 10):\n",
      "ИЛАНСКАЯ      4\n",
      "ЧИТА I        3\n",
      "ТЫРМА         1\n",
      "ВИХОРЕВКА     1\n",
      "НОВЫЙ УОЯН    1\n",
      "АЧИНСК I      1\n",
      "ЮРТЫ          1\n",
      "ПОСТЫШЕВО     1\n",
      "СОЛОНИ        1\n",
      "\n",
      "Участки планирования, на которых не удалось подвязать бригады под локомотив (первые 10):\n",
      "st_from_name  st_to_name     \n",
      "ИЛАНСКАЯ      ЗАОЗЕРНАЯ          4\n",
      "ЧИТА I        КАРЫМСКАЯ          3\n",
      "ЮРТЫ          ТАЙШЕТ             1\n",
      "ТЫРМА         МОШКА              1\n",
      "СОЛОНИ        УРГАЛ I            1\n",
      "ПОСТЫШЕВО     БОЛЕН              1\n",
      "НОВЫЙ УОЯН    СЕВЕРОБАЙКАЛЬСК    1\n",
      "ВИХОРЕВКА     МОРГУДОН           1\n",
      "АЧИНСК I      ЧЕРНОРЕЧЕНСКАЯ     1\n"
     ]
    }
   ],
   "source": [
    "# Добавляем признак первой станции на маршруте локомотива, где не была подвязана бригада\n",
    "loco_plan.loc[loco_plan.state == 4, 'team'] = 0\n",
    "loco_plan['no_team_start'] = (loco_plan.team == -1) & \\\n",
    "                             ((loco_plan.team != loco_plan.team.shift(1)) | (loco_plan.loco != loco_plan.loco.shift(1)))\n",
    "    \n",
    "loco_cols = ['loco', 'st_from_name', 'st_to_name', 'state', 'time_start_f', 'team', 'no_team_start']\n",
    "fail_team_assign_locos = loco_plan.loc[loco_mask & (loco_plan.no_team_start == True)]\n",
    "fail_team_assign_stations = fail_team_assign_locos.st_from_name.value_counts().head(10)\n",
    "fail_team_assign_tracks = fail_team_assign_locos.groupby('st_from_name').st_to_name.value_counts().\\\n",
    "                            sort_values(ascending=False).head(10)\n",
    "add_header('Станции, на которых не удалось подвязать бригады под локомотив (первые 10):')\n",
    "add_line(fail_team_assign_stations)\n",
    "add_header('\\nУчастки планирования, на которых не удалось подвязать бригады под локомотив (первые 10):')\n",
    "add_line(fail_team_assign_tracks)"
   ]
  },
  {
   "cell_type": "code",
   "execution_count": 17,
   "metadata": {
    "collapsed": false
   },
   "outputs": [],
   "source": [
    "#st_name = fail_team_assign_stations.head(1).index[0]\n",
    "st_name = 'КРАСНОЯРСК-ВОСТОЧНЫЙ'\n",
    "bad_locos = loco_plan.loc[loco_mask & (loco_plan.st_from_name == st_name) & (loco_plan.no_team_start == True)]\n",
    "if not bad_locos.empty:\n",
    "    add_header('Локомотивы, к которым не была подвязана бригада на станции %s, по направлениям:' % st_name)\n",
    "    add_line(bad_locos.st_to_name.value_counts())"
   ]
  },
  {
   "cell_type": "markdown",
   "metadata": {},
   "source": [
    "<a id='overwork'></a>\n",
    "## Проверка переработки бригад [ToC](#toc)"
   ]
  },
  {
   "cell_type": "code",
   "execution_count": 18,
   "metadata": {
    "collapsed": true
   },
   "outputs": [],
   "source": [
    "add_header('Бригады с переработкой', h=2, p=False)"
   ]
  },
  {
   "cell_type": "markdown",
   "metadata": {},
   "source": [
    "#### Вычисляем последнее время явки для каждого участка на маршруте"
   ]
  },
  {
   "cell_type": "code",
   "execution_count": 19,
   "metadata": {
    "collapsed": false
   },
   "outputs": [],
   "source": [
    "# В поле presence прописываем последнюю явку бригады из входных данных\n",
    "team_info['all_presence'] = list(zip(team_info.depot_time, team_info.return_time))\n",
    "team_info['presence'] = team_info.all_presence.apply(lambda x: max(x))\n",
    "team_info['presence_norm'] = team_info.presence.apply(lambda x: time.strftime(time_format, time.localtime(x)) if x>0 else x)\n",
    "team_plan['info_presence'] = team_plan.team.map(team_info.set_index('team').presence)\n",
    "team_plan['info_presence_norm'] = team_plan.info_presence\\\n",
    "            .apply(lambda x: time.strftime(time_format, time.localtime(x)) if x>0 else x)\n",
    "team_plan['info_presence'] = team_plan.info_presence.apply(lambda x: [] if np.isnan(x) else [int(x)])\n",
    "\n",
    "# Собираем все запланированные явки бригады. \n",
    "# Если ни одной явки не запланировано, то проставляем фейковые явки: время первого отправления (после отдыха) минус 1 час\n",
    "team_plan['start_trip'] = team_plan.state.isin([0, 1]) \\\n",
    "                & ((team_plan.team != team_plan.team.shift(1)) | (team_plan.state.shift(1) == 4))\n",
    "team_plan['fake_plan_presence'] = team_plan.team.map(team_plan[team_plan.start_trip].groupby('team').time_start.unique() - 3600)\n",
    "team_plan.fake_plan_presence.fillna(0, inplace=True)\n",
    "team_plan['fake_plan_presence'] = team_plan.fake_plan_presence.apply(lambda x: [] if (type(x) == int) else x)\n",
    "team_plan['plan_presence'] = team_plan.team.map(team_plan[team_plan.state == 2].groupby('team').time_start.unique())\n",
    "team_plan.plan_presence.fillna(0, inplace=True)\n",
    "team_plan['plan_presence'] = team_plan.plan_presence.apply(lambda x: [] if (type(x) == int) else x)"
   ]
  },
  {
   "cell_type": "code",
   "execution_count": 20,
   "metadata": {
    "collapsed": false
   },
   "outputs": [
    {
     "data": {
      "text/html": [
       "<div>\n",
       "<table border=\"1\" class=\"dataframe\">\n",
       "  <thead>\n",
       "    <tr style=\"text-align: right;\">\n",
       "      <th></th>\n",
       "      <th>team</th>\n",
       "      <th>st_from_name</th>\n",
       "      <th>time_start</th>\n",
       "      <th>state</th>\n",
       "      <th>info_presence</th>\n",
       "      <th>info_presence_norm</th>\n",
       "      <th>plan_presence</th>\n",
       "      <th>fake_plan_presence</th>\n",
       "      <th>curr_presence</th>\n",
       "    </tr>\n",
       "  </thead>\n",
       "  <tbody>\n",
       "  </tbody>\n",
       "</table>\n",
       "</div>"
      ],
      "text/plain": [
       "Empty DataFrame\n",
       "Columns: [team, st_from_name, time_start, state, info_presence, info_presence_norm, plan_presence, fake_plan_presence, curr_presence]\n",
       "Index: []"
      ]
     },
     "execution_count": 20,
     "metadata": {},
     "output_type": "execute_result"
    }
   ],
   "source": [
    "def get_curr_presence(row):\n",
    "    real_presence = np.concatenate([row.info_presence, row.plan_presence])   \n",
    "    if len(real_presence) > 0:\n",
    "        presence_list = real_presence\n",
    "    elif len(row.fake_plan_presence) > 0:\n",
    "        presence_list = row.fake_plan_presence\n",
    "    else:\n",
    "        return current_time\n",
    "        \n",
    "    t = row.time_start\n",
    "    b = [x for x in presence_list if x <= t]\n",
    "    return int(max(b)) if b != [] else (row.fake_plan_presence[0] if len(row.fake_plan_presence) > 0 else current_time)   \n",
    "    \n",
    "    \n",
    "team_plan['curr_presence'] = team_plan.apply(lambda row: get_curr_presence(row), axis=1)\n",
    "cols = ['team', 'st_from_name', 'time_start', 'state', 'info_presence', 'info_presence_norm', \n",
    "        'plan_presence', 'fake_plan_presence', 'curr_presence']\n",
    "team_plan[team_plan.team == '777700001868'][cols]"
   ]
  },
  {
   "cell_type": "markdown",
   "metadata": {},
   "source": [
    "#### Составляем таблицу team_trips с поездками бригад"
   ]
  },
  {
   "cell_type": "code",
   "execution_count": 21,
   "metadata": {
    "collapsed": false
   },
   "outputs": [],
   "source": [
    "cols = ['team', 'state', 'st_from_name', 'st_to_name', 'time_start', 'time_end', 'loco', 'start_trip', 'end_trip', \n",
    "        'start_trip_time', 'end_trip_time']\n",
    "team_plan['end_trip'] = ((team_plan.team != team_plan.team.shift(-1)) & (team_plan.state == 1)) | \\\n",
    "                        ((team_plan.state == 1) & (team_plan.state.shift(-1).isin([0, 2, 4])))\n",
    "team_plan.loc[team_plan.end_trip == True, 'end_trip_time'] = team_plan.time_end\n",
    "team_plan['start_trip'] = ((team_plan.state == 1) & (team_plan.team != team_plan.team.shift(1))) | \\\n",
    "                        ((team_plan.state == 1) & (team_plan.state.shift(1).isin([0, 2, 4])))\n",
    "team_plan.loc[team_plan.start_trip == True, 'start_trip_time'] = team_plan.time_start\n",
    "start_trips = team_plan.dropna(subset=['start_trip_time'])\n",
    "end_trips = team_plan.dropna(subset=['end_trip_time'])\n",
    "\n",
    "frames = [start_trips.reset_index()[['team', 'state', 'st_from_name', 'start_trip_time']],\n",
    "          end_trips.reset_index()[['st_to_name', 'end_trip_time', 'curr_presence']]]\n",
    "team_trips = pd.concat(frames, axis=1, ignore_index=True)\n",
    "team_trips.columns = ['team', 'state', 'st_from_name', 'time_start', 'st_to_name', 'time_end', 'curr_presence']\n",
    "add_info(team_trips)\n",
    "team_trips['curr_presence_norm'] = team_trips.curr_presence.apply(lambda x: time.strftime(time_format, time.localtime(x)))"
   ]
  },
  {
   "cell_type": "code",
   "execution_count": 22,
   "metadata": {
    "collapsed": false
   },
   "outputs": [
    {
     "data": {
      "text/html": [
       "<div>\n",
       "<table border=\"1\" class=\"dataframe\">\n",
       "  <thead>\n",
       "    <tr style=\"text-align: right;\">\n",
       "      <th></th>\n",
       "      <th>team</th>\n",
       "      <th>state</th>\n",
       "      <th>st_from_name</th>\n",
       "      <th>time_start</th>\n",
       "      <th>st_to_name</th>\n",
       "      <th>time_end</th>\n",
       "      <th>curr_presence</th>\n",
       "      <th>time_start_f</th>\n",
       "      <th>time_end_f</th>\n",
       "      <th>curr_presence_norm</th>\n",
       "    </tr>\n",
       "  </thead>\n",
       "  <tbody>\n",
       "  </tbody>\n",
       "</table>\n",
       "</div>"
      ],
      "text/plain": [
       "Empty DataFrame\n",
       "Columns: [team, state, st_from_name, time_start, st_to_name, time_end, curr_presence, time_start_f, time_end_f, curr_presence_norm]\n",
       "Index: []"
      ]
     },
     "execution_count": 22,
     "metadata": {},
     "output_type": "execute_result"
    }
   ],
   "source": [
    "team_trips[team_trips.team == '777700001868']"
   ]
  },
  {
   "cell_type": "markdown",
   "metadata": {},
   "source": [
    "#### Загружаем нормы рабочего времени и составляем таблицу по нормам для каждой бригады"
   ]
  },
  {
   "cell_type": "code",
   "execution_count": 23,
   "metadata": {
    "collapsed": true
   },
   "outputs": [],
   "source": [
    "WORK_TIME_LIMIT = 11 #hours"
   ]
  },
  {
   "cell_type": "code",
   "execution_count": 24,
   "metadata": {
    "collapsed": false
   },
   "outputs": [],
   "source": [
    "def get_cmp(row):\n",
    "    d, l = row.depot, row.link    \n",
    "    try:\n",
    "        res = trd.ix[d].link.apply(lambda x: len(np.intersect1d(x, l))).idxmax()        \n",
    "    except:\n",
    "        res = -1\n",
    "    return res\n",
    "\n",
    "team_region = pd.read_csv(FOLDER + 'team_region.csv', dtype={'st_from':str, 'st_to':str, 'depot':str})\n",
    "add_info(team_region)\n",
    "team_region['link'] = list(zip(team_region.st_from, team_region.st_to))\n",
    "team_plan['link'] = list(zip(team_plan.st_from, team_plan.st_to))\n",
    "tr_links = team_region.groupby(['team_region', 'depot']).link.unique().to_frame().reset_index()\n",
    "if not tr_links.empty:\n",
    "    trd = tr_links.set_index(['depot', 'team_region'])\n",
    "else:\n",
    "    trd = tr_links\n",
    "team_links = team_plan[team_plan.state.isin([0, 1])].groupby(['team', 'depot']).link.unique().to_frame().reset_index()\n",
    "team_links['team_region'] = team_links.apply(lambda row: get_cmp(row), axis=1)\n",
    "\n",
    "team_links['tr_depot'] = list(zip(team_links.team_region, team_links.depot))\n",
    "team_region['tr_depot'] = list(zip(team_region.team_region, team_region.depot))\n",
    "team_links['time_f'] = team_links.tr_depot.map(team_region.drop_duplicates('tr_depot').set_index('tr_depot').time_f)\n",
    "team_links['time_b'] = team_links.tr_depot.map(team_region.drop_duplicates('tr_depot').set_index('tr_depot').time_b)\n",
    "team_links['time_wr'] = team_links.tr_depot.map(team_region.drop_duplicates('tr_depot').set_index('tr_depot').time_wr)\n",
    "#team_links.head()"
   ]
  },
  {
   "cell_type": "code",
   "execution_count": 25,
   "metadata": {
    "collapsed": false
   },
   "outputs": [
    {
     "data": {
      "text/html": [
       "<div>\n",
       "<table border=\"1\" class=\"dataframe\">\n",
       "  <thead>\n",
       "    <tr style=\"text-align: right;\">\n",
       "      <th></th>\n",
       "      <th>team</th>\n",
       "      <th>time_f</th>\n",
       "      <th>time_b</th>\n",
       "      <th>time_wr</th>\n",
       "    </tr>\n",
       "  </thead>\n",
       "  <tbody>\n",
       "    <tr>\n",
       "      <th>0</th>\n",
       "      <td>200020224932</td>\n",
       "      <td>43200</td>\n",
       "      <td>43200</td>\n",
       "      <td>0</td>\n",
       "    </tr>\n",
       "    <tr>\n",
       "      <th>1</th>\n",
       "      <td>200020366947</td>\n",
       "      <td>41400</td>\n",
       "      <td>41400</td>\n",
       "      <td>0</td>\n",
       "    </tr>\n",
       "    <tr>\n",
       "      <th>2</th>\n",
       "      <td>200020385315</td>\n",
       "      <td>43200</td>\n",
       "      <td>43200</td>\n",
       "      <td>0</td>\n",
       "    </tr>\n",
       "    <tr>\n",
       "      <th>3</th>\n",
       "      <td>200020451071</td>\n",
       "      <td>36000</td>\n",
       "      <td>36000</td>\n",
       "      <td>0</td>\n",
       "    </tr>\n",
       "    <tr>\n",
       "      <th>4</th>\n",
       "      <td>200021690393</td>\n",
       "      <td>36000</td>\n",
       "      <td>36000</td>\n",
       "      <td>0</td>\n",
       "    </tr>\n",
       "  </tbody>\n",
       "</table>\n",
       "</div>"
      ],
      "text/plain": [
       "           team  time_f  time_b  time_wr\n",
       "0  200020224932   43200   43200        0\n",
       "1  200020366947   41400   41400        0\n",
       "2  200020385315   43200   43200        0\n",
       "3  200020451071   36000   36000        0\n",
       "4  200021690393   36000   36000        0"
      ]
     },
     "execution_count": 25,
     "metadata": {},
     "output_type": "execute_result"
    }
   ],
   "source": [
    "time_limit = team_links[['team', 'time_f', 'time_b', 'time_wr']]\n",
    "time_limit.head()"
   ]
  },
  {
   "cell_type": "markdown",
   "metadata": {},
   "source": [
    "#### Вычисляем переработки, предварительно удалив выбросы"
   ]
  },
  {
   "cell_type": "code",
   "execution_count": 26,
   "metadata": {
    "collapsed": false
   },
   "outputs": [
    {
     "name": "stdout",
     "output_type": "stream",
     "text": [
      "Всего 6 бригад с явно некорретными (более суток назад) временами последеней явки. Примеры:\n",
      "         team  st_from_name       st_to_name   time_start_f     time_end_f curr_presence_norm\n",
      " 200200114697        РЕШОТЫ  НОВОБИРЮСИНСКАЯ  Jul 15, 17:00  Jul 15, 19:26      Jul 14, 08:31\n",
      " 200200263088       ГУРСКОЕ             ОУНЭ  Jul 14, 23:23  Jul 15, 02:02      Jul 14, 12:35\n",
      " 200200145990        МОГЗОН           ЧИТА I  Jul 14, 20:09  Jul 14, 23:24      Jul 14, 13:00\n",
      " 200200123316  БЕЛОГОРСК II          ЗАВИТАЯ  Jul 14, 20:10  Jul 14, 22:18      Jul 14, 13:00\n",
      " 200200182277     ГРОДЕКОВО    ВОЗДВИЖЕНСКИЙ  Jul 14, 23:56  Jul 15, 02:04      Jul 14, 14:00\n",
      " 200200257112        ЧИТА I        КАРЫМСКАЯ  Jul 14, 19:48  Jul 14, 21:44      Jul 14, 14:10\n"
     ]
    }
   ],
   "source": [
    "cols = ['team', 'st_from_name', 'st_to_name', 'time_start_f', 'time_end_f', 'curr_presence_norm']\n",
    "outliers = team_trips[team_trips.curr_presence < current_time - 24 * 3600]\n",
    "#outliers = team_trips[team_trips.info_presence < current_time - 24 * 3600]\n",
    "outliers_n = outliers.team.count()\n",
    "add_header('Всего %d бригад с явно некорретными (более суток назад) временами последеней явки. Примеры:' % outliers_n)\n",
    "add_line(outliers.sort_values('curr_presence_norm').head(10 if outliers_n > 20 else outliers_n)[cols])"
   ]
  },
  {
   "cell_type": "code",
   "execution_count": 27,
   "metadata": {
    "collapsed": false
   },
   "outputs": [
    {
     "data": {
      "text/html": [
       "<div>\n",
       "<table border=\"1\" class=\"dataframe\">\n",
       "  <thead>\n",
       "    <tr style=\"text-align: right;\">\n",
       "      <th></th>\n",
       "      <th>team</th>\n",
       "      <th>st_from_name</th>\n",
       "      <th>st_to_name</th>\n",
       "      <th>curr_presence_norm</th>\n",
       "      <th>time_start_f</th>\n",
       "      <th>time_end_f</th>\n",
       "      <th>time_limit</th>\n",
       "      <th>time_limit_no_rest</th>\n",
       "    </tr>\n",
       "  </thead>\n",
       "  <tbody>\n",
       "    <tr>\n",
       "      <th>0</th>\n",
       "      <td>200200251206</td>\n",
       "      <td>ЧИТА I</td>\n",
       "      <td>КАРЫМСКАЯ</td>\n",
       "      <td>Jul 15, 21:30</td>\n",
       "      <td>Jul 15, 22:50</td>\n",
       "      <td>Jul 16, 00:53</td>\n",
       "      <td>43200</td>\n",
       "      <td>0</td>\n",
       "    </tr>\n",
       "    <tr>\n",
       "      <th>1</th>\n",
       "      <td>200200225249</td>\n",
       "      <td>УССУРИЙСК</td>\n",
       "      <td>СМОЛЯНИНОВО</td>\n",
       "      <td>Jul 15, 15:33</td>\n",
       "      <td>Jul 15, 16:45</td>\n",
       "      <td>Jul 15, 19:45</td>\n",
       "      <td>36000</td>\n",
       "      <td>0</td>\n",
       "    </tr>\n",
       "    <tr>\n",
       "      <th>2</th>\n",
       "      <td>200200164070</td>\n",
       "      <td>ЧЕРНЫШЕВСК-ЗАБАЙКАЛЬСКИЙ</td>\n",
       "      <td>КАРЫМСКАЯ</td>\n",
       "      <td>Jul 15, 11:30</td>\n",
       "      <td>Jul 15, 12:55</td>\n",
       "      <td>Jul 15, 18:26</td>\n",
       "      <td>36000</td>\n",
       "      <td>0</td>\n",
       "    </tr>\n",
       "    <tr>\n",
       "      <th>3</th>\n",
       "      <td>200200199014</td>\n",
       "      <td>ТЫНДА</td>\n",
       "      <td>СКОВОРОДИНО</td>\n",
       "      <td>Jul 16, 10:00</td>\n",
       "      <td>Jul 16, 12:00</td>\n",
       "      <td>Jul 16, 18:09</td>\n",
       "      <td>36000</td>\n",
       "      <td>0</td>\n",
       "    </tr>\n",
       "    <tr>\n",
       "      <th>4</th>\n",
       "      <td>200200251214</td>\n",
       "      <td>ЧИТА I</td>\n",
       "      <td>КАРЫМСКАЯ</td>\n",
       "      <td>Jul 15, 08:50</td>\n",
       "      <td>Jul 15, 10:56</td>\n",
       "      <td>Jul 15, 12:48</td>\n",
       "      <td>43200</td>\n",
       "      <td>0</td>\n",
       "    </tr>\n",
       "  </tbody>\n",
       "</table>\n",
       "</div>"
      ],
      "text/plain": [
       "           team              st_from_name   st_to_name curr_presence_norm  \\\n",
       "0  200200251206                    ЧИТА I    КАРЫМСКАЯ      Jul 15, 21:30   \n",
       "1  200200225249                 УССУРИЙСК  СМОЛЯНИНОВО      Jul 15, 15:33   \n",
       "2  200200164070  ЧЕРНЫШЕВСК-ЗАБАЙКАЛЬСКИЙ    КАРЫМСКАЯ      Jul 15, 11:30   \n",
       "3  200200199014                     ТЫНДА  СКОВОРОДИНО      Jul 16, 10:00   \n",
       "4  200200251214                    ЧИТА I    КАРЫМСКАЯ      Jul 15, 08:50   \n",
       "\n",
       "    time_start_f     time_end_f  time_limit  time_limit_no_rest  \n",
       "0  Jul 15, 22:50  Jul 16, 00:53       43200                   0  \n",
       "1  Jul 15, 16:45  Jul 15, 19:45       36000                   0  \n",
       "2  Jul 15, 12:55  Jul 15, 18:26       36000                   0  \n",
       "3  Jul 16, 12:00  Jul 16, 18:09       36000                   0  \n",
       "4  Jul 15, 10:56  Jul 15, 12:48       43200                   0  "
      ]
     },
     "execution_count": 27,
     "metadata": {},
     "output_type": "execute_result"
    }
   ],
   "source": [
    "pd.set_option('display.max_colwidth', 25)\n",
    "# Оставляем только корректные бригады\n",
    "team_trips = team_trips[(team_trips.team.isin(outliers.team) == False) & (team_trips.time_start < current_time + 24 * 3600)]\n",
    "team_trips['time_limit'] = team_trips.team.map(time_limit.set_index('team').time_f)\n",
    "team_trips['time_limit_no_rest'] = team_trips.team.map(time_limit.set_index('team').time_wr)\n",
    "team_trips.time_limit.fillna(WORK_TIME_LIMIT * 3600, inplace=True)\n",
    "team_trips.time_limit_no_rest.fillna(WORK_TIME_LIMIT * 3600, inplace=True)\n",
    "team_trips[['team', 'st_from_name', 'st_to_name', 'curr_presence_norm', 'time_start_f', 'time_end_f', 'time_limit', 'time_limit_no_rest']].head()"
   ]
  },
  {
   "cell_type": "code",
   "execution_count": 28,
   "metadata": {
    "collapsed": false
   },
   "outputs": [
    {
     "name": "stdout",
     "output_type": "stream",
     "text": [
      "Количество бригад с переработкой (показаны первые 10 интервалов):\n",
      "(0, 1]     100\n",
      "(1, 2]      78\n",
      "(2, 3]      46\n",
      "(3, 4]      39\n",
      "(4, 5]      32\n",
      "(5, 6]      12\n",
      "(6, 7]      14\n",
      "(7, 8]      10\n",
      "(8, 9]       6\n",
      "(9, 10]      8\n"
     ]
    }
   ],
   "source": [
    "team_trips['work_time'] = np.round(((team_trips.time_end - team_trips.curr_presence) / 3600), 2)\n",
    "#team_trips['overtime'] = team_trips.work_time.apply(lambda x: np.max([x - WORK_TIME_LIMIT, 0]))\n",
    "team_trips['overtime'] = np.round((team_trips.time_end - team_trips.curr_presence - team_trips.time_limit) / 3600, 2)\n",
    "team_trips['overtime'] = team_trips.overtime.apply(lambda x: 0 if x < 0 else x)\n",
    "cols = ['team', 'st_from_name', 'st_to_name', 'curr_presence_norm', 'time_end_f', 'overtime' ]\n",
    "add_header('Количество бригад с переработкой (показаны первые 10 интервалов):')\n",
    "add_line(pd.cut(team_trips.overtime, bins=np.arange(int(team_trips.overtime.max()) + 2), include_lowest=False)\\\n",
    "      .value_counts().head(10).sort_index())"
   ]
  },
  {
   "cell_type": "code",
   "execution_count": 29,
   "metadata": {
    "collapsed": false
   },
   "outputs": [
    {
     "name": "stdout",
     "output_type": "stream",
     "text": [
      "\n",
      "Бригады с переработкой больше 2 часов (всего 180):\n",
      "         team              st_from_name         st_to_name curr_presence_norm   time_start_f     time_end_f  overtime\n",
      " 200200252944  КОМСОМОЛЬСК-НА-АМУРЕ-...       ВЫСОКОГОРНАЯ      Jul 15, 02:00  Jul 16, 14:40  Jul 16, 22:56     32.94\n",
      " 200200280379               НОВЫЙ УРГАЛ              ТЫРМА      Jul 15, 02:16  Jul 16, 13:20  Jul 16, 18:27     32.18\n",
      " 200200190285  КОМСОМОЛЬСК-НА-АМУРЕ-...       ВЫСОКОГОРНАЯ      Jul 14, 23:00  Jul 16, 05:15  Jul 16, 14:24     27.41\n",
      " 200200223857                    ВАНИНО       ВЫСОКОГОРНАЯ      Jul 15, 01:00  Jul 16, 07:05  Jul 16, 13:16     24.28\n",
      " 200200250111                     ТЫНДА        СКОВОРОДИНО      Jul 15, 13:41  Jul 16, 12:00  Jul 16, 18:09     18.47\n",
      " 200200172845           СЕВЕРОБАЙКАЛЬСК         НОВЫЙ УОЯН      Jul 15, 14:16  Jul 16, 13:10  Jul 16, 16:43     18.47\n",
      " 200200132415              ГРОДЕКОВО II      ВОЗДВИЖЕНСКИЙ      Jul 15, 02:00  Jul 15, 13:29  Jul 15, 15:24     13.40\n",
      " 200200222306         ГРОДЕКОВО (КИТАЙ)          ГРОДЕКОВО      Jul 15, 04:30  Jul 15, 14:15  Jul 15, 16:35     12.08\n",
      " 200200159118           КРАСНОАРМЕЙСКИЙ         АНИСИМОВКА      Jul 15, 03:00  Jul 15, 14:09  Jul 15, 15:04     12.07\n",
      " 200200163768                ПАРТИЗАНСК        СМОЛЯНИНОВО      Jul 15, 03:05  Jul 15, 12:58  Jul 15, 14:57     11.88\n",
      " 200200140129                   РЫБНИКИ      ТИХООКЕАНСКАЯ      Jul 15, 03:50  Jul 15, 14:21  Jul 15, 14:27     10.62\n",
      " 200200243279                АНИСИМОВКА  НАХОДКА-ВОСТОЧНАЯ      Jul 15, 07:20  Jul 15, 14:50  Jul 15, 17:53     10.55\n",
      " 200200158495               СМОЛЯНИНОВО        СМОЛЯНИНОВО      Jul 15, 19:50  Jul 15, 21:20  Jul 16, 06:17     10.46\n",
      " 200200203156                    АБАКАН       МЕЖДУРЕЧЕНСК      Jul 15, 03:30  Jul 15, 14:45  Jul 15, 21:29      9.99\n",
      " 200200244406                  АЧИНСК I           АЧИНСК I      Jul 15, 13:30  Jul 16, 04:55  Jul 16, 10:27      9.95\n",
      " 200200236999             ВОЗДВИЖЕНСКИЙ  ГРОДЕКОВО (КИТАЙ)      Jul 15, 05:00  Jul 15, 10:32  Jul 15, 14:45      9.76\n",
      " 200200240515               СМОЛЯНИНОВО        СМОЛЯНИНОВО      Jul 15, 22:45  Jul 16, 00:15  Jul 16, 08:28      9.72\n",
      " 200200251666                    АБАКАН       МЕЖДУРЕЧЕНСК      Jul 15, 08:00  Jul 15, 18:55  Jul 16, 01:28      9.48\n",
      " 200200102883                 МИНУСИНСК        КОШУРНИКОВО      Jul 15, 05:00  Jul 15, 15:35  Jul 15, 23:25      9.42\n",
      " 200200270573                    АБАКАН           САЯНСКАЯ      Jul 15, 03:53  Jul 15, 15:45  Jul 16, 00:10      9.29\n",
      "\n",
      "Распределение бригад с переработкой больше 2 часов по типу:\n",
      "Реальная    179\n",
      "Фейковая      1\n"
     ]
    }
   ],
   "source": [
    "pd.set_option('display.max_colwidth', 25)\n",
    "cols = ['team', 'st_from_name', 'st_to_name', 'curr_presence_norm', 'time_start_f', 'time_end_f', 'overtime' ]\n",
    "add_header('\\nБригады с переработкой больше 2 часов (всего %d):' % len(team_trips.loc[team_trips.overtime > 2].index))\n",
    "add_line(team_trips.loc[team_trips.overtime > 2, cols].sort_values('overtime', ascending=False).head(20))\n",
    "\n",
    "add_header('\\nРаспределение бригад с переработкой больше 2 часов по типу:')\n",
    "team_trips['team_type'] = team_trips.team.map(team_plan.drop_duplicates('team').set_index('team').team_type)\n",
    "add_line(team_trips.loc[team_trips.overtime > 2].team_type.value_counts())"
   ]
  },
  {
   "cell_type": "code",
   "execution_count": 30,
   "metadata": {
    "collapsed": false
   },
   "outputs": [
    {
     "name": "stdout",
     "output_type": "stream",
     "text": [
      "Примеры планов бригад с переработками:\n",
      "Бригада 200200252944:\n",
      "         team         depot_st_name   depot_time_f return_time_f state          loco                  loc_name\n",
      " 200200252944  КОМСОМОЛЬСК-НА-АМУРЕ  Jul 15, 02:00                   9  200200095740  КОМСОМОЛЬСК-НА-АМУРЕ-...\n",
      "         team              st_from_name                st_to_name  state   time_start_f     time_end_f          loco\n",
      " 200200252944  КОМСОМОЛЬСК-НА-АМУРЕ-...  КОМСОМОЛЬСК-НА-АМУРЕ-...      2  Jul 15, 02:00  Jul 15, 04:00            -1\n",
      " 200200252944  КОМСОМОЛЬСК-НА-АМУРЕ-...                   СЕЛИХИН      1  Jul 16, 14:40  Jul 16, 16:49  200200062403\n",
      " 200200252944                   СЕЛИХИН                  ЭЛЬДИГАН      1  Jul 16, 16:49  Jul 16, 17:39  200200062403\n",
      " 200200252944                  ЭЛЬДИГАН                       КУН      1  Jul 16, 17:39  Jul 16, 18:48  200200062403\n",
      " 200200252944                       КУН                   ГУРСКОЕ      1  Jul 16, 18:48  Jul 16, 19:28  200200062403\n",
      " 200200252944                   ГУРСКОЕ                      ОУНЭ      1  Jul 16, 19:28  Jul 16, 21:58  200200062403\n",
      " 200200252944                      ОУНЭ              КУЗНЕЦОВСКИЙ      1  Jul 16, 21:58  Jul 16, 22:31  200200062403\n",
      " 200200252944              КУЗНЕЦОВСКИЙ                     СОЛЛУ      1  Jul 16, 22:31  Jul 16, 22:44  200200062403\n",
      " 200200252944                     СОЛЛУ              ВЫСОКОГОРНАЯ      1  Jul 16, 22:44  Jul 16, 22:56  200200062403\n",
      " 200200252944              ВЫСОКОГОРНАЯ              ВЫСОКОГОРНАЯ      4  Jul 16, 23:26  Jul 17, 03:34            -1\n",
      "\n",
      "Бригада 200200280379:\n",
      "         team depot_st_name   depot_time_f  return_time_f state          loco     loc_name\n",
      " 200200280379   НОВЫЙ УРГАЛ  Jul 14, 03:34  Jul 15, 02:16     6  200200070118  НОВЫЙ УРГАЛ\n",
      "         team st_from_name st_to_name  state   time_start_f     time_end_f          loco\n",
      " 200200280379    ПОСТЫШЕВО  ПОСТЫШЕВО      2  Jul 15, 02:16  Jul 15, 04:28            -1\n",
      " 200200280379  НОВЫЙ УРГАЛ    АДНИКАН      1  Jul 16, 13:20  Jul 16, 14:27  200200071647\n",
      " 200200280379      АДНИКАН      ЭЛЬГА      1  Jul 16, 14:27  Jul 16, 14:58  200200071647\n",
      " 200200280379        ЭЛЬГА    ЯГДЫНЬЯ      1  Jul 16, 14:58  Jul 16, 16:08  200200071647\n",
      " 200200280379      ЯГДЫНЬЯ      УШМАН      1  Jul 16, 16:08  Jul 16, 17:12  200200071647\n",
      " 200200280379        УШМАН      МОШКА      1  Jul 16, 17:12  Jul 16, 17:42  200200071647\n",
      " 200200280379        МОШКА      ТЫРМА      1  Jul 16, 17:42  Jul 16, 18:27  200200071647\n",
      "\n",
      "Бригада 200200190285:\n",
      "         team         depot_st_name   depot_time_f return_time_f state          loco                  loc_name\n",
      " 200200190285  КОМСОМОЛЬСК-НА-АМУРЕ  Jul 14, 23:00                   9  200200066397  КОМСОМОЛЬСК-НА-АМУРЕ-...\n",
      "         team              st_from_name                st_to_name  state   time_start_f     time_end_f          loco\n",
      " 200200190285  КОМСОМОЛЬСК-НА-АМУРЕ-...  КОМСОМОЛЬСК-НА-АМУРЕ-...      2  Jul 14, 23:00  Jul 15, 01:00            -1\n",
      " 200200190285  КОМСОМОЛЬСК-НА-АМУРЕ-...                   СЕЛИХИН      1  Jul 16, 05:15  Jul 16, 07:54  200200075642\n",
      " 200200190285                   СЕЛИХИН                  ЭЛЬДИГАН      1  Jul 16, 07:54  Jul 16, 08:41  200200075642\n",
      " 200200190285                  ЭЛЬДИГАН                       КУН      1  Jul 16, 08:41  Jul 16, 09:51  200200075642\n",
      " 200200190285                       КУН                   ГУРСКОЕ      1  Jul 16, 09:51  Jul 16, 10:39  200200075642\n",
      " 200200190285                   ГУРСКОЕ                      ОУНЭ      1  Jul 16, 10:39  Jul 16, 13:26  200200075642\n",
      " 200200190285                      ОУНЭ              КУЗНЕЦОВСКИЙ      1  Jul 16, 13:26  Jul 16, 13:59  200200075642\n",
      " 200200190285              КУЗНЕЦОВСКИЙ                     СОЛЛУ      1  Jul 16, 13:59  Jul 16, 14:12  200200075642\n",
      " 200200190285                     СОЛЛУ              ВЫСОКОГОРНАЯ      1  Jul 16, 14:12  Jul 16, 14:24  200200075642\n",
      " 200200190285              ВЫСОКОГОРНАЯ              ВЫСОКОГОРНАЯ      4  Jul 16, 14:54  Jul 16, 19:29            -1\n",
      "\n"
     ]
    }
   ],
   "source": [
    "team_ids = team_trips.loc[team_trips.overtime > 2].sort_values('overtime', ascending=False).team.values[:3]\n",
    "#team_id = '777700001868'\n",
    "cols = ['team', 'st_from_name', 'st_to_name', 'state', 'time_start_f', 'time_end_f', 'loco']\n",
    "team_info['depot_time_f'] = team_info.depot_time.apply(nice_time)\n",
    "team_info['return_time_f'] = team_info.return_time.apply(nice_time)\n",
    "team_info['depot_st_name'] = team_info.depot_st.map(st_names.name)\n",
    "add_header('Примеры планов бригад с переработками:')\n",
    "for team_id in team_ids:\n",
    "    add_line('Бригада %s:' % team_id)\n",
    "    add_line(team_info[team_info.team == team_id][['team', 'depot_st_name', 'depot_time_f', 'return_time_f', 'state', 'loco', 'loc_name']])\n",
    "    add_line(team_plan[team_plan.team == team_id][cols])\n",
    "    add_line('')"
   ]
  },
  {
   "cell_type": "code",
   "execution_count": 31,
   "metadata": {
    "collapsed": false
   },
   "outputs": [
    {
     "data": {
      "image/png": "[encoded data removed]",
      "text/plain": [
       "<matplotlib.figure.Figure at 0x1ba9264ddd8>"
      ]
     },
     "metadata": {},
     "output_type": "display_data"
    }
   ],
   "source": [
    "sns.set_style('whitegrid')\n",
    "sns.set_context('notebook')\n",
    "sns.set_color_codes('dark')\n",
    "fig = plt.figure()\n",
    "to_hist = team_trips.loc[team_trips.overtime > 0].overtime\n",
    "ax = sns.distplot(to_hist, bins=20, color='b', hist=False, kde_kws={'shade':True})\n",
    "title = '''Бригады с переработкой\n",
    "(среднее время переработки %.2f ч., медиана %.2f ч.)\n",
    "(всего %d бригад с переработкой более 2 часов)''' % \\\n",
    "            (to_hist.mean(), to_hist.median(), len(team_trips.loc[team_trips.overtime > 2].index))\n",
    "ax.set(title=title, xlabel='Переработка (час)')\n",
    "#sns.despine()\n",
    "filename = 'team_overwork.png'\n",
    "fig.savefig(REPORT_FOLDER + filename, bbox_inches='tight')\n",
    "add_image(filename)"
   ]
  },
  {
   "cell_type": "markdown",
   "metadata": {},
   "source": [
    "<a id='leaps'></a>\n",
    "## Скачки по станциям на маршруте бригад [ToC](#toc)"
   ]
  },
  {
   "cell_type": "code",
   "execution_count": 32,
   "metadata": {
    "collapsed": true
   },
   "outputs": [],
   "source": [
    "add_header('Скачки по станциям на маршруте бригад', h=2, p=False)"
   ]
  },
  {
   "cell_type": "markdown",
   "metadata": {},
   "source": [
    "### Скачки внутри планируемого маршрута бригад"
   ]
  },
  {
   "cell_type": "code",
   "execution_count": 33,
   "metadata": {
    "collapsed": false
   },
   "outputs": [
    {
     "name": "stdout",
     "output_type": "stream",
     "text": [
      "\n",
      "Всего бригад, у которых есть скачки на маршруте: 864\n",
      "Всего скачков на маршруте бригад: 864 (показаны первые 10):\n",
      "         team         st_from_name           st_to_name              next_st   time_start_f     time_end_f  state state_info\n",
      " 200200242486  КРАСНОЯРСК-ВОСТО...  КРАСНОЯРСК-ВОСТО...                  УЯР  Jul 15, 11:20  Jul 15, 12:16      2          1\n",
      " 200200181301            ПОСТЫШЕВО            ПОСТЫШЕВО                СУЛУК  Jul 15, 08:22  Jul 15, 10:34      2          1\n",
      " 200200242482               РУЖИНО               РУЖИНО  АРТЕМ-ПРИМОРСКИЙ...  Jul 15, 05:10  Jul 15, 05:50      2          1\n",
      " 200200216449             УЛАН-УДЭ             УЛАН-УДЭ                ХИЛОК  Jul 15, 02:50  Jul 15, 03:36      2          9\n",
      " 200200097131           СЛЮДЯНКА I           СЛЮДЯНКА I             УЛАН-УДЭ  Jul 15, 04:10  Jul 15, 04:49      2          9\n",
      " 200200259626      СЕВЕРОБАЙКАЛЬСК      СЕВЕРОБАЙКАЛЬСК              КИРЕНГА  Jul 15, 09:14  Jul 15, 10:46      2          1\n",
      " 200200242557         ХАБАРОВСК II         ХАБАРОВСК II         ВОЛОЧАЕВКА I  Jul 15, 09:55  Jul 15, 11:01      2          1\n",
      " 200200224163         ВЫСОКОГОРНАЯ         ВЫСОКОГОРНАЯ                 ОУНЭ  Jul 15, 10:45  Jul 15, 12:15      2          1\n",
      " 200200224169  КРАСНОЯРСК-ВОСТО...  КРАСНОЯРСК-ВОСТО...            ЗАОЗЕРНАЯ  Jul 15, 04:20  Jul 15, 05:16      2          1\n",
      " 200200225165         БЕЛОГОРСК II         БЕЛОГОРСК II            БЕЛОГОРСК  Jul 15, 13:21  Jul 15, 14:01      2          1\n",
      " 200200242526          СМОЛЯНИНОВО          СМОЛЯНИНОВО    НАХОДКА-ВОСТОЧНАЯ  Jul 15, 03:05  Jul 15, 04:35      2          9\n",
      " 200200242603              ОБЛУЧЬЕ              ОБЛУЧЬЕ          ХАБАРОВСК I  Jul 15, 00:00  Jul 15, 00:40      2          9\n",
      " 200200121203               ТАЙШЕТ               ТАЙШЕТ          НИЖНЕУДИНСК  Jul 15, 09:50  Jul 15, 12:08      2          6\n",
      " 200200242595             УЛАН-УДЭ             УЛАН-УДЭ     ПЕТРОВСКИЙ ЗАВОД  Jul 14, 19:40  Jul 14, 20:26      2          1\n",
      " 200200074543         ХАБАРОВСК II         ХАБАРОВСК II         ВОЛОЧАЕВКА I  Jul 15, 08:05  Jul 15, 09:11      2          1\n",
      " 200200136220               ТАЙШЕТ               ТАЙШЕТ                ТАГУЛ  Jul 15, 10:50  Jul 15, 13:08      2          1\n",
      " 200200105862               АБАКАН               АБАКАН            ЩЕТИНКИНО  Jul 15, 05:00  Jul 15, 07:00      2          1\n",
      " 200200136198                УРУША                УРУША               АМАЗАР  Jul 15, 04:50  Jul 15, 05:40      2          1\n",
      " 200200151725              ОБЛУЧЬЕ              ОБЛУЧЬЕ              ЗАВИТАЯ  Jul 15, 05:00  Jul 15, 05:40      2          1\n",
      " 200200251290                 ЗИМА                 ЗИМА           КАСЬЯНОВКА  Jul 15, 07:05  Jul 15, 07:45      2          1\n",
      "\n",
      "Станции, на которых наблюдаются скачки (первые 5):\n",
      "УЛАН-УДЭ                    52\n",
      "ОБЛУЧЬЕ                     50\n",
      "ЧЕРНЫШЕВСК-ЗАБАЙКАЛЬСКИЙ    43\n",
      "МОГОЧА                      42\n",
      "ХИЛОК                       41\n",
      "\n",
      "Маршрут бригады 200200242486:\n",
      "         team         st_from_name           st_to_name   time_start_f     time_end_f  state          loco state_info\n",
      " 200200242486  КРАСНОЯРСК-ВОСТО...  КРАСНОЯРСК-ВОСТО...  Jul 15, 11:20  Jul 15, 12:16      2            -1          1\n",
      " 200200242486                  УЯР            ЗАОЗЕРНАЯ  Jul 15, 14:31  Jul 15, 15:02      1  200200087118          1\n",
      " 200200242486            ЗАОЗЕРНАЯ             ИЛАНСКАЯ  Jul 15, 15:02  Jul 15, 16:58      1  200200087118          1\n"
     ]
    }
   ],
   "source": [
    "pd.set_option('display.max_colwidth', 20)\n",
    "team_cols = ['team', 'st_from_name', 'st_to_name', 'next_st', 'time_start_f', 'time_end_f', 'state', 'state_info']\n",
    "team_plan['is_end'] = team_plan.team != team_plan.team.shift(-1)\n",
    "team_plan['next_st'] = team_plan.st_from_name.shift(-1)\n",
    "team_leaps = team_plan.loc[(team_plan.is_end == False) \n",
    "                           & (team_plan.st_to_name != team_plan.next_st)\n",
    "                           & (team_plan.st_to_name.notnull())\n",
    "                           & (team_plan.next_st.notnull()), team_cols]\n",
    "team_leaps_n = len(team_leaps.team.drop_duplicates().index)\n",
    "add_header('\\nВсего бригад, у которых есть скачки на маршруте: %d' % team_leaps_n)\n",
    "add_header('Всего скачков на маршруте бригад: %d (показаны первые 10):' % len(team_leaps.index))\n",
    "add_line(team_leaps.head(20))\n",
    "\n",
    "add_header('\\nСтанции, на которых наблюдаются скачки (первые 5):')\n",
    "add_line(team_leaps.st_to_name.value_counts().head())\n",
    "\n",
    "# Пример маршрута такой бригады (подставить id из предыдущего вывода):\n",
    "team_cols2 = ['team', 'st_from_name', 'st_to_name', 'time_start_f', 'time_end_f', 'state', 'loco', 'state_info']\n",
    "#team_id = '200200164017'\n",
    "if not team_leaps.empty:\n",
    "    team_id = team_leaps.iloc[0].team\n",
    "    add_header('\\nМаршрут бригады %s:' % team_id)\n",
    "    add_line(team_plan.loc[team_plan.team == team_id, team_cols2])"
   ]
  },
  {
   "cell_type": "markdown",
   "metadata": {},
   "source": [
    "### Скачки между станцией исходного местоположения и первой станцией планирования"
   ]
  },
  {
   "cell_type": "code",
   "execution_count": 34,
   "metadata": {
    "collapsed": false
   },
   "outputs": [],
   "source": [
    "team_info.loc[team_info.st_from != '-1', 'first_station'] = team_info.loc[team_info.st_from != '-1', 'st_from']\n",
    "team_info.loc[team_info.st_from == '-1', 'first_station'] = team_info.loc[team_info.st_from == '-1', 'oper_location']\n",
    "team_info.loc[team_info.st_to != '-1', 'next_station'] = team_info.loc[team_info.st_to != '-1', 'st_to']\n",
    "team_info[['team', 'oper_location', 'st_from', 'first_station', 'next_station']]\n",
    "team_plan['first_station'] = team_plan.team.map(team_info.drop_duplicates('team').set_index('team').first_station)\n",
    "team_plan['next_station'] = team_plan.team.map(team_info.drop_duplicates('team').set_index('team').next_station)\n",
    "team_plan['first_st_name'] = team_plan.first_station.map(st_names.name)\n",
    "team_plan['next_st_name'] = team_plan.next_station.map(st_names.name)\n",
    "team_starts = team_plan[team_plan.state.isin([0, 1])].drop_duplicates('team').copy(deep=True)\n",
    "start_leaps = team_starts[((team_starts.first_station.isnull() == False) & (team_starts.st_from != team_starts.first_station)) | \n",
    "            ((team_starts.next_station.isnull() == False) & (team_starts.st_to != team_starts.next_station))]"
   ]
  },
  {
   "cell_type": "code",
   "execution_count": 35,
   "metadata": {
    "collapsed": false
   },
   "outputs": [
    {
     "name": "stdout",
     "output_type": "stream",
     "text": [
      "Распределение скачков бригад по станциям местоположения (показаны первые 5):\n",
      "Series([], )\n",
      "\n",
      "Бригады со скачками между станцией местоположения и первой станцией в маршруте (показаны первые 10):\n",
      "Empty DataFrame\n",
      "Columns: [team, st_from_name, st_to_name, loco, first_st_name, next_st_name, loco_info]\n",
      "Index: []\n"
     ]
    }
   ],
   "source": [
    "cols = ['team', 'st_from_name', 'st_to_name', 'loco', 'first_st_name', 'next_st_name', 'loco_info']\n",
    "first_st_leaps = team_starts[(team_starts.first_station.isnull() == False) & (team_starts.next_station.isnull())\n",
    "                             & (team_starts.st_from != team_starts.first_station)]\n",
    "add_header('Распределение скачков бригад по станциям местоположения (показаны первые 5):')\n",
    "add_line(first_st_leaps.first_st_name.value_counts().head())\n",
    "add_header('\\nБригады со скачками между станцией местоположения и первой станцией в маршруте (показаны первые 10):')\n",
    "add_line(first_st_leaps[cols].head(10))"
   ]
  },
  {
   "cell_type": "code",
   "execution_count": 36,
   "metadata": {
    "collapsed": false
   },
   "outputs": [
    {
     "name": "stdout",
     "output_type": "stream",
     "text": [
      "Распределение скачков бригад по станциям направления (показаны первые 5):\n",
      "Series([], )\n",
      "\n",
      "Бригады со скачками между станцией направления и первой станцией направления в маршруте (показаны первые 10):\n",
      "Empty DataFrame\n",
      "Columns: [team, st_from_name, st_to_name, loco, first_st_name, next_st_name, loco_info, train]\n",
      "Index: []\n"
     ]
    }
   ],
   "source": [
    "cols = ['team', 'st_from_name', 'st_to_name', 'loco', 'first_st_name', 'next_st_name', 'loco_info', 'train']\n",
    "loco_info['train_number'] = loco_info.train.map(train_info.drop_duplicates('train').set_index('train').number)\n",
    "team_starts['train'] = team_starts.loco_info.map(loco_info.drop_duplicates('loco').set_index('loco').train_number)\n",
    "next_st_leaps = team_starts[(team_starts.next_station.isnull() == False) \n",
    "                            & (team_starts.st_to != team_starts.next_station)]\n",
    "add_header('Распределение скачков бригад по станциям направления (показаны первые 5):')\n",
    "add_line(next_st_leaps.next_st_name.value_counts())\n",
    "add_header('\\nБригады со скачками между станцией направления и первой станцией направления в маршруте (показаны первые 10):')\n",
    "add_line(next_st_leaps[cols].head(10))"
   ]
  },
  {
   "cell_type": "markdown",
   "metadata": {},
   "source": [
    "<a id='stop_time'></a>\n",
    "## Анализ времен стоянок локомотивов для смены бригады [ToC](#toc)"
   ]
  },
  {
   "cell_type": "code",
   "execution_count": 37,
   "metadata": {
    "collapsed": true
   },
   "outputs": [],
   "source": [
    "add_header('Анализ времен стоянок локомотивов для смены бригады', h=2, p=False)"
   ]
  },
  {
   "cell_type": "markdown",
   "metadata": {},
   "source": [
    "#### Распределение времен стоянок для смены бригады"
   ]
  },
  {
   "cell_type": "code",
   "execution_count": 38,
   "metadata": {
    "collapsed": false
   },
   "outputs": [
    {
     "data": {
      "image/png": "[encoded data removed]",
      "text/plain": [
       "<matplotlib.figure.Figure at 0x1ba92687ac8>"
      ]
     },
     "metadata": {},
     "output_type": "display_data"
    }
   ],
   "source": [
    "# Смена бригады без стоянки локомотива\n",
    "cols = ['loco', 'st_from_name', 'st_to_name', 'time_start', 'time_end', 'team', 'time_start_next', 'loco_finish', 'stop_time']\n",
    "\n",
    "loco_plan['team_start'] = (loco_plan.team != loco_plan.team.shift(1)) | (loco_plan.loco != loco_plan.loco.shift(1))\n",
    "loco_plan['team_end'] = (loco_plan.team != loco_plan.team.shift(-1)) | (loco_plan.loco != loco_plan.loco.shift(-1))\n",
    "start_teams = loco_plan.loc[(loco_plan.team.isin([-1, 0]) == False) & (loco_plan.team_start == True)].reset_index()\\\n",
    "                            [['loco', 'st_from_name', 'time_start', 'time_start_f', 'train', 'team']]\n",
    "end_teams = loco_plan.loc[(loco_plan.team.isin([-1, 0]) == False) & (loco_plan.team_end == True)].reset_index()\\\n",
    "                            [['st_to_name', 'time_end', 'time_end_f']]\n",
    "teams_trip = pd.concat([start_teams, end_teams], axis=1)\n",
    "teams_trip['time_start_next'] = teams_trip.time_start.shift(-1)\n",
    "teams_trip['loco_finish'] = teams_trip.loco != teams_trip.loco.shift(-1)\n",
    "teams_trip.loc[teams_trip.loco_finish == False, 'stop_time'] = teams_trip.time_start_next - teams_trip.time_end\n",
    "sns.set_style('ticks')\n",
    "sns.set_context('talk')\n",
    "sns.set_color_codes('dark')\n",
    "fig = plt.figure()\n",
    "series_to_hist = teams_trip.dropna(subset=['stop_time']).stop_time / 3600\n",
    "#series_to_hist2 = teams_trip.dropna(subset=['stop_time']).loc[(teams_trip.stop_time > 90 * 60)].stop_time / 3600\n",
    "series_to_hist.name = 'Время стоянки локомотива для смены бригады (час)'\n",
    "title = 'Распределение времен стоянок локомотивов для смены бригад\\n(среднее %.2f ч., медиана %.2f ч.)' %\\\n",
    "        (series_to_hist.mean(), series_to_hist.median())\n",
    "ax = sns.distplot(series_to_hist, hist_kws={'label':'a'}, color='b', hist=False, kde_kws={'shade':True})\n",
    "ax.set_title(title)\n",
    "sns.despine()\n",
    "filename = 'loco_stop_time.png'\n",
    "fig.savefig(REPORT_FOLDER + filename, bbox_inches='tight')\n",
    "add_image(filename)"
   ]
  },
  {
   "cell_type": "markdown",
   "metadata": {},
   "source": [
    "#### Поиск локомотивов, у которых смены бригады занимает меньше 15 минут"
   ]
  },
  {
   "cell_type": "code",
   "execution_count": 39,
   "metadata": {
    "collapsed": false
   },
   "outputs": [
    {
     "name": "stdout",
     "output_type": "stream",
     "text": [
      "Всего 6 локомотивов со сменой бригад быстрее 15 минут (показаны первые 10):\n",
      "         loco    st_from_name           st_to_name     time_end_f       tsn_norm            train  stop_time          team\n",
      " 200200049802       ВИХОРЕВКА  КОРШУНИХА-АНГАРСКАЯ  Jul 16, 01:35  Jul 16, 01:45     200021969821        600  200200200362\n",
      " 200200076001          ВАНИНО         ВЫСОКОГОРНАЯ  Jul 15, 19:55  Jul 15, 20:05     200022005849        600  200200254928\n",
      " 200200086792  ГИДРОСТРОИТЕЛЬ  КОРШУНИХА-АНГАРСКАЯ  Jul 15, 18:22  Jul 15, 18:32     200021737863        600  200200196459\n",
      " 200200099230  ГИДРОСТРОИТЕЛЬ  КОРШУНИХА-АНГАРСКАЯ  Jul 15, 16:36  Jul 15, 16:46     200020349076        600  200200116620\n",
      " 200200101235          ВАНИНО         ВЫСОКОГОРНАЯ  Jul 16, 13:16  Jul 16, 13:26  999912508022001        600  200200223857\n",
      " 200208859073       ВИХОРЕВКА  КОРШУНИХА-АНГАРСКАЯ  Jul 16, 00:14  Jul 16, 00:24     200021668191        600  777700000081\n",
      "\n",
      "Распределение проблемных локомотивов по станциям смены (показаны первые 10 по частоте):\n",
      "             station  freq  norm_time\n",
      " КОРШУНИХА-АНГАРСКАЯ     4       6372\n",
      "        ВЫСОКОГОРНАЯ     2       5400\n",
      "\n",
      "Распределение проблемных локомотивов по типам поездов:\n",
      "Реальный    5\n",
      "Задания     1\n"
     ]
    }
   ],
   "source": [
    "#add_line('Время начала планирования' % time.ctime(current_time))\n",
    "cols2 = ['loco', 'st_from_name', 'st_to_name', 'time_end_f', 'tsn_norm', 'train', 'stop_time', 'team']\n",
    "pd.set_option('display.max_colwidth', 20)\n",
    "teams_trip = teams_trip.dropna(subset=['time_start_next'])\n",
    "teams_trip['tsn_norm'] = teams_trip.time_start_next.apply(lambda x: time.strftime(time_format, time.localtime(x)))\n",
    "teams_trip.loc[teams_trip.stop_time.isnull() == False, 'next_team'] = teams_trip.team.shift(-1)\n",
    "teams_trip['train_type'] = teams_trip.train.apply(lambda x: 'Резерв' if str(x)[0]=='8' \\\n",
    "                                                      else ('Задания' if str(x)[0]=='9' else 'Реальный'))\n",
    "fast_change = teams_trip.loc[teams_trip.stop_time < 15 * 60]\n",
    "if fast_change.empty == False:\n",
    "    add_header('Всего %d локомотивов со сменой бригад быстрее 15 минут (показаны первые 10):' % len(fast_change.index))\n",
    "    add_line(fast_change[cols2].sort_values(['stop_time', 'loco']).head(10))\n",
    "    add_header('\\nРаспределение проблемных локомотивов по станциям смены (показаны первые 10 по частоте):')\n",
    "    bad_st = fast_change.st_to_name.value_counts().to_frame().reset_index()\n",
    "    bad_st.columns = ['station', 'freq']\n",
    "    bad_st['norm_time'] = bad_st['station'].map(stations.drop_duplicates(subset=['name']).set_index('name').norm_time)\n",
    "    add_line(bad_st.head(10))\n",
    "    add_header('\\nРаспределение проблемных локомотивов по типам поездов:')    \n",
    "    add_line(fast_change.train_type.value_counts())\n",
    "else:\n",
    "    add_line('Нет локомотивов со сменой бригад со стоянкой меньше 15 минут')\n",
    "    \n",
    "# Посмотреть маршруты конкретных локомотивов или бригад\n",
    "loco_cols = ['loco', 'st_from','st_to', 'st_from_name', 'st_to_name', 'time_start', 'time_end', 'team']\n",
    "#team_cols = ['team', 'st_from_name', 'st_to_name', 'time_start_f', 'time_end_f', 'state', 'loco']\n",
    "#print(loco_plan.loc[loco_plan.loco == '200200093307', loco_cols].to_string(index=False))\n",
    "#print(team_plan.loc[team_plan.loco == '200250042559', team_cols].sort_values('time_start_norm').to_string(index=False))"
   ]
  },
  {
   "cell_type": "markdown",
   "metadata": {},
   "source": [
    "<a id='rest_time'></a>\n",
    "## Проверка времен отдыха бригад [ToC](#toc)"
   ]
  },
  {
   "cell_type": "code",
   "execution_count": 40,
   "metadata": {
    "collapsed": true
   },
   "outputs": [],
   "source": [
    "add_header('Проверка времен отдыха бригад', h=2, p=False)"
   ]
  },
  {
   "cell_type": "code",
   "execution_count": 41,
   "metadata": {
    "collapsed": false
   },
   "outputs": [
    {
     "name": "stdout",
     "output_type": "stream",
     "text": [
      "Время начала планирования: Jul 15, 14:41\n",
      "Бригад с аномально большим временем отдыха: 0 (показаны первые 10):\n",
      "Минимальное время отдыха (3 часа) нарушено у 5 бригад (показаны первые 10):\n",
      "         team st_from_name st_to_name   time_start_f     time_end_f  time  state\n",
      " 200200163662     МАРИИНСК   МАРИИНСК  Jul 15, 14:36  Jul 15, 14:41  0.09      4\n",
      " 200200166346     МАРИИНСК   МАРИИНСК  Jul 15, 14:12  Jul 15, 14:41  0.49      4\n",
      " 200200118423     МАРИИНСК   МАРИИНСК  Jul 15, 13:57  Jul 15, 14:41  0.74      4\n",
      " 200200137176     МАРИИНСК   МАРИИНСК  Jul 15, 15:11  Jul 15, 14:41 -0.49      4\n",
      " 200200167689     МАРИИНСК   МАРИИНСК  Jul 15, 14:48  Jul 15, 14:41 -0.11      4\n"
     ]
    }
   ],
   "source": [
    "add_line('Время начала планирования: %s' % time.strftime(time_format, time.localtime(current_time)))\n",
    "team_cols = ['team', 'st_from_name', 'st_to_name', 'time_start_f', 'time_end_f', 'time', 'state', 'loco']\n",
    "team_plan['time'] = np.round(((team_plan.time_end - team_plan.time_start) / 3600), 2)\n",
    "rest_outliers = team_plan[(team_plan.state == 4) & (team_plan.time > 1000)]\n",
    "add_header('Бригад с аномально большим временем отдыха: %d (показаны первые 10):' % len(rest_outliers.index))\n",
    "out_cols = ['team', 'st_from_name', 'st_to_name', 'time_start_f', 'time_end_f', 'time', 'state']\n",
    "if not rest_outliers.empty:\n",
    "    add_line(rest_outliers[out_cols].head(10))\n",
    "\n",
    "rest_check = team_plan[(team_plan.state == 4) & (team_plan.time < 1000)]\n",
    "\n",
    "min_rest = rest_check.time.min()\n",
    "if min_rest < 3:\n",
    "    add_header('Минимальное время отдыха (3 часа) нарушено у %d бригад (показаны первые 10):' \\\n",
    "          % len(rest_check[rest_check.time < 3].index))\n",
    "    add_line(rest_check[rest_check.time < 3][out_cols].head(10))    \n",
    "else:\n",
    "    add_header('Минимальное время отдыха бригад: %.2f часа' % (min_rest))"
   ]
  },
  {
   "cell_type": "markdown",
   "metadata": {},
   "source": [
    "#### Отсев бригад со слишком ранним временем явки"
   ]
  },
  {
   "cell_type": "code",
   "execution_count": 42,
   "metadata": {
    "collapsed": false
   },
   "outputs": [
    {
     "name": "stdout",
     "output_type": "stream",
     "text": [
      "Всего 505 бригад со слишком большим отдыхом и слишком ранним временем явки (сутки назад и более). Примеры:\n",
      "         team     st_from_name       st_to_name   time_start_f     time_end_f   time  state\n",
      " 200200080818        КАРЫМСКАЯ        КАРЫМСКАЯ  Jul 15, 10:30  Jul 16, 16:51  30.35      4\n",
      " 200200252869      СМОЛЯНИНОВО      СМОЛЯНИНОВО  Jul 15, 08:50  Jul 16, 14:34  29.73      4\n",
      " 200200214600      УСТЬ-ИЛИМСК      УСТЬ-ИЛИМСК  Jul 14, 21:47  Jul 16, 02:30  28.72      4\n",
      " 200200096255      СМОЛЯНИНОВО      СМОЛЯНИНОВО  Jul 15, 11:30  Jul 16, 14:34  27.07      4\n",
      " 200200277222          НАХОДКА          НАХОДКА  Jul 15, 10:01  Jul 16, 11:51  25.83      4\n",
      " 200200254256         САЯНСКАЯ         САЯНСКАЯ  Jul 15, 13:03  Jul 16, 14:49  25.77      4\n",
      " 200200146132      ИЗВЕСТКОВАЯ      ИЗВЕСТКОВАЯ  Jul 15, 13:17  Jul 16, 14:57  25.67      4\n",
      " 200200096212  НОВОБИРЮСИНСКАЯ  НОВОБИРЮСИНСКАЯ  Jul 15, 14:38  Jul 16, 15:54  25.27      4\n",
      " 200200142562           ЮКТАЛИ           ЮКТАЛИ  Jul 14, 22:49  Jul 15, 23:43  24.90      4\n",
      " 200200167047        ОЛОВЯННАЯ        ОЛОВЯННАЯ  Jul 14, 19:52  Jul 15, 20:31  24.65      4\n"
     ]
    }
   ],
   "source": [
    "rest_old_presence = rest_check[(rest_check.info_presence < current_time - 12 * 3600) & (rest_check.state_info != '3')]\n",
    "add_header('Всего %d бригад со слишком большим отдыхом и слишком ранним временем явки (сутки назад и более). Примеры:' \n",
    "           % rest_old_presence.team.count())\n",
    "add_line(rest_old_presence.sort_values('time', ascending=False)[out_cols].head(10))"
   ]
  },
  {
   "cell_type": "markdown",
   "metadata": {},
   "source": [
    "#### Бригады со слишком большим отдыхом"
   ]
  },
  {
   "cell_type": "code",
   "execution_count": 43,
   "metadata": {
    "collapsed": false
   },
   "outputs": [
    {
     "name": "stdout",
     "output_type": "stream",
     "text": [
      "Всего 152 бригад с большим временем отдыха (больше 10 часов) (показаны первые 10):\n",
      "         team  st_from_name    st_to_name   time_start_f     time_end_f   time  state\n",
      " 200200228379        РУЖИНО        РУЖИНО  Jul 15, 14:33  Jul 16, 17:31  26.97      4\n",
      " 200200236682   СМОЛЯНИНОВО   СМОЛЯНИНОВО  Jul 15, 12:20  Jul 16, 14:34  26.23      4\n",
      " 200200195495   СМОЛЯНИНОВО   СМОЛЯНИНОВО  Jul 15, 14:40  Jul 16, 14:34  23.90      4\n",
      " 200200242638      САЯНСКАЯ      САЯНСКАЯ  Jul 15, 15:20  Jul 16, 14:49  23.48      4\n",
      " 200200105862      САЯНСКАЯ      САЯНСКАЯ  Jul 15, 16:12  Jul 16, 14:49  22.61      4\n",
      " 200200224433   СМОЛЯНИНОВО   СМОЛЯНИНОВО  Jul 15, 16:07  Jul 16, 14:34  22.45      4\n",
      " 200200281490  ВЫСОКОГОРНАЯ  ВЫСОКОГОРНАЯ  Jul 15, 19:38  Jul 16, 17:53  22.24      4\n",
      " 200200188318      САЯНСКАЯ      САЯНСКАЯ  Jul 15, 16:35  Jul 16, 14:49  22.22      4\n",
      " 200200251528   СМОЛЯНИНОВО   СМОЛЯНИНОВО  Jul 15, 16:25  Jul 16, 14:34  22.15      4\n",
      " 200200243234   СМОЛЯНИНОВО   СМОЛЯНИНОВО  Jul 15, 16:42  Jul 16, 14:34  21.87      4\n"
     ]
    }
   ],
   "source": [
    "long_rest = rest_check[(rest_check.time > 10) & (rest_check.team.isin(rest_old_presence.team) == False)]\n",
    "add_header('Всего %d бригад с большим временем отдыха (больше 10 часов) (показаны первые 10):' % len(long_rest.index))\n",
    "add_line(long_rest.sort_values('time', ascending=False)[out_cols].head(10))"
   ]
  },
  {
   "cell_type": "code",
   "execution_count": 44,
   "metadata": {
    "collapsed": false
   },
   "outputs": [
    {
     "data": {
      "image/png": "[encoded data removed]",
      "text/plain": [
       "<matplotlib.figure.Figure at 0x1ba92624c50>"
      ]
     },
     "metadata": {},
     "output_type": "display_data"
    }
   ],
   "source": [
    "rest_show = rest_check[(rest_check.team.isin(rest_old_presence.team) == False)]\n",
    "title = 'Распределение бригад по временам на отдых\\n(медианное время отдыха = %.2f час)' % (rest_show.time.median())\n",
    "sns.set_style('whitegrid')\n",
    "sns.set_context('notebook')\n",
    "fig = plt.figure()\n",
    "ax = sns.distplot(rest_show.time, hist=False, kde_kws={'shade':True}, color='b')\n",
    "ax.set(title=title)\n",
    "sns.despine()\n",
    "filename = 'team_rest_time.png'\n",
    "fig.savefig(REPORT_FOLDER + filename, bbox_inches='tight')\n",
    "add_image(filename)"
   ]
  },
  {
   "cell_type": "markdown",
   "metadata": {},
   "source": [
    "#### Бригады с недостаточным отдыхом"
   ]
  },
  {
   "cell_type": "code",
   "execution_count": 45,
   "metadata": {
    "collapsed": false
   },
   "outputs": [],
   "source": [
    "rest = team_plan[team_plan.state == 4][['team', 'time_start', 'time']]\n",
    "team_trips['rest_start_time'] = team_trips.team.map(rest.set_index('team').time_start)\n",
    "team_trips['rest_start_time_f'] = team_trips.rest_start_time\\\n",
    "                .apply(lambda x: time.strftime(time_format, time.localtime(x)) if np.isnan(x) == False else '')\n",
    "team_trips['rest_time'] = team_trips.team.map(rest.set_index('team').time)\n",
    "team_trips['min_rest_time'] = np.round((team_trips.rest_start_time - team_trips.curr_presence) / (2 * 3600), 2)\n",
    "team_trips['underrest'] = team_trips.min_rest_time - team_trips.rest_time"
   ]
  },
  {
   "cell_type": "code",
   "execution_count": 46,
   "metadata": {
    "collapsed": true
   },
   "outputs": [],
   "source": [
    "# Для подсчета требуемого отдыха удаляем поездки, которые связаны с одной явкой бригады; \n",
    "# для каждой явки оставляем только последнюю поездку, чтобы правильно взять полное рабочее время.\n",
    "team_trips_cut = team_trips.sort_values(['team', 'curr_presence', 'work_time'], ascending=[True, True, False])\\\n",
    "                            .drop_duplicates(subset=['team', 'curr_presence'])"
   ]
  },
  {
   "cell_type": "code",
   "execution_count": 47,
   "metadata": {
    "collapsed": false
   },
   "outputs": [
    {
     "name": "stdout",
     "output_type": "stream",
     "text": [
      "Всего 568 бригад с недостаточным отдыхом:\n",
      "Распределение по типу бригад:\n",
      "Реальная    405\n",
      "Фейковая    163\n"
     ]
    }
   ],
   "source": [
    "cols = ['team', 'curr_presence_norm', 'time_start_f', 'rest_start_time_f', \n",
    "        'work_time', 'min_rest_time', 'rest_time', 'underrest']\n",
    "underrest = team_trips_cut[(team_trips_cut.time_start < team_trips_cut.rest_start_time) & (team_trips_cut.underrest > 0)]\n",
    "underrest_n = underrest.team.drop_duplicates().count()\n",
    "add_header('Всего %d бригад с недостаточным отдыхом:' % underrest_n)\n",
    "add_header('Распределение по типу бригад:')\n",
    "add_line(underrest.team_type.value_counts())"
   ]
  },
  {
   "cell_type": "code",
   "execution_count": 48,
   "metadata": {
    "collapsed": false
   },
   "outputs": [
    {
     "name": "stdout",
     "output_type": "stream",
     "text": [
      "Всего 484 бригад без переработки с недостаточным отдыхом.\n",
      "\n",
      "Распределение по типу бригад:\n",
      "Реальная    326\n",
      "Фейковая    158\n",
      "\n",
      "Примеры бригад без переработки с недостаточным отдыхом:\n",
      "         team curr_presence_norm   time_start_f rest_start_time_f  work_time  min_rest_time  rest_time  underrest\n",
      " 200200209852      Jul 15, 08:00  Jul 15, 16:05     Jul 15, 19:22      10.88           5.69       3.00       2.69\n",
      " 200200243279      Jul 15, 07:20  Jul 15, 14:50     Jul 15, 18:23      10.55           5.53       3.67       1.86\n",
      " 200200241225      Jul 15, 08:35  Jul 15, 15:00     Jul 15, 17:54       8.82           4.66       3.00       1.66\n",
      " 200200158475      Jul 15, 09:30  Jul 15, 15:00     Jul 15, 18:12       8.20           4.35       3.00       1.35\n",
      " 200200165918      Jul 15, 12:40  Jul 15, 14:45     Jul 15, 21:26       8.28           4.39       3.10       1.29\n",
      " 200200199014      Jul 16, 10:00  Jul 16, 12:00     Jul 16, 18:39       8.15           4.33       3.08       1.25\n",
      " 200200269806      Jul 16, 02:05  Jul 16, 04:05     Jul 16, 13:18      10.73           5.61       4.36       1.25\n",
      " 200200255206      Jul 16, 02:05  Jul 16, 04:05     Jul 16, 13:18      10.73           5.61       4.36       1.25\n",
      " 200200196253      Jul 16, 06:10  Jul 16, 08:10     Jul 16, 16:39       9.98           5.24       3.99       1.25\n",
      " 200200193948      Jul 15, 18:55  Jul 15, 20:55     Jul 16, 05:18       9.90           5.20       3.95       1.25\n"
     ]
    },
    {
     "data": {
      "image/png": "[encoded data removed]",
      "text/plain": [
       "<matplotlib.figure.Figure at 0x1ba92666160>"
      ]
     },
     "metadata": {},
     "output_type": "display_data"
    }
   ],
   "source": [
    "underrest_no_overtime = underrest[underrest.work_time <= WORK_TIME_LIMIT]\n",
    "underrest_no_n = underrest_no_overtime.team.drop_duplicates().count()\n",
    "add_header('Всего %d бригад без переработки с недостаточным отдыхом.' % underrest_no_n)\n",
    "add_header('\\nРаспределение по типу бригад:')\n",
    "add_line(underrest_no_overtime.team_type.value_counts())\n",
    "add_header('\\nПримеры бригад без переработки с недостаточным отдыхом:')\n",
    "add_line(underrest_no_overtime.sort_values('underrest', ascending=False).head(10 if underrest_no_n > 20 else underrest_no_n)[cols])\n",
    "\n",
    "sns.set_context('notebook')\n",
    "sns.set_style('whitegrid')\n",
    "title = 'Распределение недостаточного отдыха бригад\\n(медианное время недоотдыха = %.2f час)' \\\n",
    "            % (underrest_no_overtime.underrest.median())\n",
    "fig = plt.figure()\n",
    "ax = sns.distplot(underrest_no_overtime.underrest, color='b', hist=False, kde_kws={'shade':True})\n",
    "ax.set(title=title, xlabel='Недостаточный отдых, ч.')\n",
    "sns.despine()\n",
    "filename = 'team_under_rest.png'\n",
    "fig.savefig(REPORT_FOLDER + filename, bbox_inches='tight')\n",
    "add_image(filename)"
   ]
  },
  {
   "cell_type": "code",
   "execution_count": 49,
   "metadata": {
    "collapsed": false
   },
   "outputs": [
    {
     "data": {
      "text/plain": [
       "'Thu May 12 18:00:00 2016'"
      ]
     },
     "execution_count": 49,
     "metadata": {},
     "output_type": "execute_result"
    }
   ],
   "source": [
    "team_plan['loco_time'] = list(zip(team_plan.loco, team_plan.time_start))\n",
    "loco_plan['loco_time'] = list(zip(loco_plan.loco, loco_plan.time_start))\n",
    "team_plan['train'] = team_plan.loco_time.map(loco_plan.drop_duplicates('loco_time').set_index('loco_time').train)\n",
    "#print(team_plan[team_plan.team == '777700000270']\\\n",
    "#      [['team', 'st_from_name', 'st_to_name', 'time_start_f', 'time_end_f', \n",
    "#        'state', 'loco', 'train', 'time']].to_string(index=False))\n",
    "time.ctime(1463065200)"
   ]
  },
  {
   "cell_type": "markdown",
   "metadata": {},
   "source": [
    "## Проверка подвязки бригад по Иркутску"
   ]
  },
  {
   "cell_type": "code",
   "execution_count": 50,
   "metadata": {
    "collapsed": false
   },
   "outputs": [],
   "source": [
    "add_header('Анализ бригад, проезжающих через Иркутск', h=2, p=False)"
   ]
  },
  {
   "cell_type": "code",
   "execution_count": 51,
   "metadata": {
    "collapsed": false
   },
   "outputs": [
    {
     "name": "stdout",
     "output_type": "stream",
     "text": [
      "Распределение поездов через Иркутск по направлениям:\n",
      "ГОНЧАРОВО          72\n",
      "БАТАРЕЙНАЯ         54\n",
      "ВОЕННЫЙ ГОРОДОК     5\n",
      "\n",
      "Распределение бригад, в маршруте которых есть Иркутск, по депо приписки:\n",
      "          depot_name  team percent\n",
      "                ЗИМА    62  63.27%\n",
      " ИРКУТСК-СОРТИРОВ...    23  23.47%\n",
      "         НИЖНЕУДИНСК    10   10.2%\n",
      "          СЛЮДЯНКА I     2   2.04%\n",
      "            УЛАН-УДЭ     1   1.02%\n"
     ]
    }
   ],
   "source": [
    "team_cols = ['team', 'st_from_name', 'st_to_name', 'time_start_f', 'state', 'loco', 'depot_name']\n",
    "team_plan['depot_name'] = team_plan.depot.map(st_names.name)\n",
    "st_name = 'ИРКУТСК-СОРТИРОВОЧНЫЙ'\n",
    "train_cols = ['train', 'number', 'st_from_name', 'st_to_name', 'time_start_f']\n",
    "train_plan['train_type'] = train_plan.train.apply(lambda x: str(x)[:1])\n",
    "add_header('Распределение поездов через Иркутск по направлениям:')\n",
    "add_line(train_plan.loc[(train_plan.st_from_name == st_name)\n",
    "              & (train_plan.time_start >= current_time) & (train_plan.train_type.isin(['2', '9']))\n",
    "              & (train_plan.time_start < current_time + 24*3600), train_cols].st_to_name.value_counts())\n",
    "\n",
    "add_header('\\nРаспределение бригад, в маршруте которых есть Иркутск, по депо приписки:')\n",
    "b = team_plan.loc[(team_plan.st_from_name == st_name) & (team_plan.state.isin([0, 1]))\n",
    "              & (team_plan.time_start >= current_time), team_cols].groupby('depot_name').team.count().to_frame()\n",
    "b['percent'] = np.round((100 * b.team / b.team.sum()), 2)\n",
    "b['percent'] = b['percent'].apply(lambda x: str(x) + '%')\n",
    "add_line(b.reset_index())"
   ]
  },
  {
   "cell_type": "markdown",
   "metadata": {},
   "source": [
    "<a id='ready_time'></a>\n",
    "## Проверка времени явки бригад [ToC](#toc)"
   ]
  },
  {
   "cell_type": "code",
   "execution_count": 52,
   "metadata": {
    "collapsed": true
   },
   "outputs": [],
   "source": [
    "add_header('Проверка корректости времен явки бригад в депо приписки во входных данных', h=2, p=False)"
   ]
  },
  {
   "cell_type": "markdown",
   "metadata": {},
   "source": [
    "1. У бригад, которые находятся на домашнем отдыхе (state = 3) передается именно время ухода на отдых. По постановке (см. раздел \"Заполнение атрибутов для входных сообщений по бригадам\") должно передаваться время ухода на отдых + 16 часов.\n",
    "2. Для бригады 200200158216 передается state=3, хотя по АСУ-Т последней операцией на 18.04 10:35 было \"прибытие на станцию Лесовозный 17.04 в 08:49\" (или, в крайнем случае, отправление с Улан-Удэ 17.04 в 07:51).\n",
    "3. Аналогично для бригады 200200225600. Впрочем, возможно, это какой-то косяк АСУ-Т. В любом случае, пункт 1 - это очевидный баг."
   ]
  },
  {
   "cell_type": "markdown",
   "metadata": {},
   "source": [
    "Общая идея:\n",
    "- если у бригад указано depot_time < rest_start_time, то эта разница не должна быть очень большой. \n",
    "- если у бригад указано depot_time < return_time, то эта разница тоже не должна быть очень большой."
   ]
  },
  {
   "cell_type": "code",
   "execution_count": 53,
   "metadata": {
    "collapsed": false
   },
   "outputs": [
    {
     "name": "stdout",
     "output_type": "stream",
     "text": [
      "Время начала планирования: Jul 15, 14:41\n",
      "Всего 278 бригад, у которых время последней явки в депо намного меньше (на 12+ часов) переданного времени начала отдыха. Примеры:\n",
      "         team      number        dt_norm       rst_norm  rest_dep_delta ready_type state\n",
      " 200200262919  8805005823  Jul 13, 19:00  Jul 15, 12:50           41.83     return     4\n",
      " 200200238695  8805006344  Jul 13, 19:00  Jul 15, 10:49           39.82     return     4\n",
      " 200200210423  8805005833  Jul 14, 02:00  Jul 15, 12:40           34.67     return     4\n",
      " 200200269838  8872006204  Jul 13, 19:40  Jul 15, 06:05           34.42     return     4\n",
      " 200200222613  9403010882  Jul 14, 03:00  Jul 15, 10:51           31.85     return     4\n",
      " 200200124011  9403011017  Jul 13, 15:50  Jul 14, 23:29           31.65     return     6\n",
      " 200200072064  9403013620  Jul 14, 05:40  Jul 15, 13:00           31.33     return     4\n",
      " 200200231721  9409023131  Jul 13, 17:00  Jul 15, 00:10           31.17     return     9\n",
      " 200200243199  9414087268  Jul 14, 05:50  Jul 15, 12:20           30.50     return     4\n",
      " 200200080818  9413028281  Jul 14, 05:00  Jul 15, 10:30           29.50     return     4\n",
      "\n",
      "Всего 769 бригад, у которых время последней явки в депо намного меньше (на 18+ часов) времени явки в пункте оборота. Примеры:\n",
      "         team      number        dt_norm       rst_norm  return_dep_delta ready_type state\n",
      " 200200232207  9413037561  Jul 13, 14:20  Jul 14, 19:40             42.83     return     9\n",
      " 200200231721  9409023131  Jul 13, 17:00  Jul 15, 00:10             38.83     return     9\n",
      " 200200091273  9409068148  Jul 13, 21:40  Jul 14, 17:00             38.17     return     0\n",
      " 200200124011  9403011017  Jul 13, 15:50  Jul 14, 23:29             38.17     return     6\n",
      " 200200218202  9609024640  Jul 14, 00:24  Jul 14, 14:07             37.75     return     5\n",
      " 200200199581  9611080306  Jul 13, 20:17  Jul 14, 18:00             36.38     return     0\n",
      " 200200153902  8871002968  Jul 13, 16:00             -1             36.00     return     6\n",
      " 200200121290  9414072309  Jul 13, 19:30  Jul 14, 21:57             35.75     return     6\n",
      " 200200150790  8805020987  Jul 13, 23:10  Jul 14, 09:30             35.50     return     6\n",
      " 220207201422  9403018383  Jul 14, 02:00  Jul 15, 07:08             35.50     return     1\n"
     ]
    }
   ],
   "source": [
    "add_line('Время начала планирования: %s' % (time.strftime(time_format, time.localtime(current_time))))\n",
    "team_info['dt_norm'] = team_info.depot_time.apply(lambda x: time.strftime(time_format, time.localtime(x)) if x > 0 else x)\n",
    "team_info['rt_norm'] = team_info.return_time.apply(lambda x: time.strftime(time_format, time.localtime(x)) if x > 0 else x)\n",
    "team_info['rst_norm'] = team_info.rest_time.apply(lambda x: time.strftime(time_format, time.localtime(x)) if x > 0 else x)\n",
    "team_info['rest_dep_delta'] = np.round(((team_info.rest_time - team_info.depot_time) / 3600), 2)\n",
    "team_info['return_dep_delta'] = np.round(((team_info.return_time - team_info.depot_time) / 3600), 2)\n",
    "\n",
    "dep_less_rest = team_info[(team_info.depot_time < team_info.rest_time) & (team_info.dt_norm != -1)]\n",
    "info_cols = ['team', 'number', 'dt_norm', 'rst_norm', 'rest_dep_delta', 'ready_type', 'state']\n",
    "add_header('Всего %d бригад, у которых время последней явки в депо намного меньше (на 12+ часов) переданного времени начала отдыха. Примеры:' \n",
    "          % dep_less_rest[dep_less_rest.rest_dep_delta > 12].team.drop_duplicates().count())\n",
    "add_line(dep_less_rest[dep_less_rest.rest_dep_delta > 12][info_cols].sort_values('rest_dep_delta', ascending=False).head(10))\n",
    "\n",
    "dep_less_return = team_info[(team_info.depot_time < team_info.return_time) & (team_info.dt_norm != -1)]\n",
    "info_cols = ['team', 'number', 'dt_norm', 'rst_norm', 'return_dep_delta', 'ready_type', 'state']\n",
    "add_header('\\nВсего %d бригад, у которых время последней явки в депо намного меньше (на 18+ часов) времени явки в пункте оборота. Примеры:' \n",
    "          % dep_less_return[dep_less_return.return_dep_delta > 12].team.drop_duplicates().count())\n",
    "add_line(dep_less_return[dep_less_return.return_dep_delta > 12][info_cols].sort_values('return_dep_delta', ascending=False).head(10))"
   ]
  },
  {
   "cell_type": "markdown",
   "metadata": {},
   "source": [
    "<a id='change'></a>\n",
    "## Проверка смены бригад на корректных станциях [ToC](#toc)"
   ]
  },
  {
   "cell_type": "code",
   "execution_count": 54,
   "metadata": {
    "collapsed": true
   },
   "outputs": [],
   "source": [
    "add_header('Проверка смены бригад на корректных станциях', h=2, p=False)"
   ]
  },
  {
   "cell_type": "markdown",
   "metadata": {},
   "source": [
    "### Проверка случаев проезда бригад мимо станций обязательной смены"
   ]
  },
  {
   "cell_type": "code",
   "execution_count": 55,
   "metadata": {
    "collapsed": true
   },
   "outputs": [],
   "source": [
    "add_header('Проверка проезда бригад мимо станций обязательной смены', h=3, p=False)"
   ]
  },
  {
   "cell_type": "code",
   "execution_count": 56,
   "metadata": {
    "collapsed": false,
    "scrolled": true
   },
   "outputs": [
    {
     "name": "stdout",
     "output_type": "stream",
     "text": [
      "Всего 75 случаев проезда бригад мимо станций обязательной смены\n",
      "\n",
      "Распределение по станциям (первые 5 самых частых):\n",
      "ОБЛУЧЬЕ                 38\n",
      "ЗИМА                    16\n",
      "ХИЛОК                    6\n",
      "САЯНСКАЯ                 4\n",
      "КРАСНОЯРСК-ВОСТОЧНЫЙ     4\n"
     ]
    }
   ],
   "source": [
    "st_team_change_full = ['КРАСНОЯРСК-ВОСТОЧНЫЙ', 'ЗИМА', 'ХИЛОК', 'МОГОЧА', 'ОБЛУЧЬЕ', 'РУЖИНО', 'СМОЛЯНИНОВО', \n",
    "                      'САЯНСКАЯ', 'ЛЕНА', 'СЕВЕРОБАЙКАЛЬСК', 'НОВЫЙ УОЯН', \n",
    "                      'НОВАЯ ЧАРА', 'ЮКТАЛИ', 'ВЕРХНЕЗЕЙСК', 'ФЕВРАЛЬСК', 'ПОСТЫШЕВО', 'ВЫСОКОГОРНАЯ', \n",
    "                      'УЖУР', 'ТЫРМА']\n",
    "                 \n",
    "cols = ['team', 'st_from_name', 'st_to_name', 'time_start_f', 'time_end_f', 'state', 'loco', 'loco_end', 'no_stop']\n",
    "team_plan['loco_end'] = team_plan.loco != team_plan.loco.shift(-1)\n",
    "team_plan['no_stop'] = team_plan.time_end == team_plan.time_start.shift(-1)\n",
    "no_stop = team_plan[(team_plan.st_to_name.isin(st_team_change_full)) & (team_plan.state == 1) \n",
    "                    & (team_plan.loco_end == False) & (team_plan.no_stop == True)]\n",
    "add_header('Всего %d случаев проезда бригад мимо станций обязательной смены' % len(no_stop.index))\n",
    "add_header('\\nРаспределение по станциям (первые 5 самых частых):')\n",
    "add_line(no_stop.st_to_name.value_counts().head())"
   ]
  },
  {
   "cell_type": "code",
   "execution_count": 57,
   "metadata": {
    "collapsed": false
   },
   "outputs": [
    {
     "name": "stdout",
     "output_type": "stream",
     "text": [
      "\n",
      "Примеры ошибочных бригад (первые 10):\n",
      "         team         st_from_name           st_to_name   time_start_f     time_end_f  state          loco loco_end no_stop\n",
      " 200200174199           НОВОНЕЖИНО          СМОЛЯНИНОВО  Jul 15, 15:17  Jul 15, 15:42      1  200200058995    False    True\n",
      " 200200241246               АРХАРА              ОБЛУЧЬЕ  Jul 15, 14:00  Jul 15, 16:10      1  200200039667    False    True\n",
      " 200200189636              ПЕРЕВОЗ                 ЗИМА  Jul 15, 18:12  Jul 15, 18:24      1  200200106729    False    True\n",
      " 200200095135  КРАСНОЯРСК-СЕВЕРНЫЙ  КРАСНОЯРСК-ВОСТО...  Jul 15, 19:56  Jul 15, 20:07      1  200200100402    False    True\n",
      " 200200220822      СЕВЕРОБАЙКАЛЬСК           НОВЫЙ УОЯН  Jul 15, 19:45  Jul 15, 23:16      1  200200096512    False    True\n",
      " 200200235893            ЩЕТИНКИНО             САЯНСКАЯ  Jul 15, 23:58  Jul 16, 02:50      1  200200088261    False    True\n",
      " 210203821193               АМАЗАР               МОГОЧА  Jul 16, 04:40  Jul 16, 06:26      1  200200104787    False    True\n",
      " 777700000975             ШМАКОВКА               РУЖИНО  Jul 16, 22:46  Jul 16, 23:26      1  200200082859    False    True\n",
      " 777700000921             ЖИПХЕГЕН                ХИЛОК  Jul 16, 23:19  Jul 16, 23:52      1  200200031392    False    True\n"
     ]
    }
   ],
   "source": [
    "add_header('\\nПримеры ошибочных бригад (первые 10):')\n",
    "add_line(no_stop.drop_duplicates('st_to_name').sort_values('time_end')[cols])"
   ]
  },
  {
   "cell_type": "code",
   "execution_count": 58,
   "metadata": {
    "collapsed": false
   },
   "outputs": [
    {
     "name": "stdout",
     "output_type": "stream",
     "text": [
      "Полные планы по некоторым ошибочным бригадам:\n",
      "         team  st_from_name    st_to_name   time_start_f     time_end_f  state          loco\n",
      " 200200241246  БЕЛОГОРСК II  БЕЛОГОРСК II  Jul 15, 07:50  Jul 15, 08:30      2            -1\n",
      " 200200241246        АРХАРА       ОБЛУЧЬЕ  Jul 15, 14:00  Jul 15, 16:10      1  200200039667\n",
      " 200200241246       ОБЛУЧЬЕ   ИЗВЕСТКОВАЯ  Jul 15, 16:10  Jul 15, 17:11      1  200200039667\n",
      " 200200241246   ИЗВЕСТКОВАЯ   ИЗВЕСТКОВАЯ  Jul 15, 17:41  Jul 16, 02:52      4            -1\n",
      " 200200241246   ИЗВЕСТКОВАЯ       ОБЛУЧЬЕ  Jul 16, 02:52  Jul 16, 03:46      0            -1\n",
      " 200200241246       ОБЛУЧЬЕ        АРХАРА  Jul 16, 04:27  Jul 16, 06:12      0            -1\n",
      " 200200241246        АРХАРА         БУРЕЯ  Jul 16, 06:31  Jul 16, 07:19      0            -1\n",
      " 200200241246         БУРЕЯ       ЗАВИТАЯ  Jul 16, 07:55  Jul 16, 08:48      0            -1\n",
      " 200200241246       ЗАВИТАЯ  БЕЛОГОРСК II  Jul 16, 09:08  Jul 16, 11:10      0            -1\n",
      "\n",
      "         team         st_from_name           st_to_name   time_start_f     time_end_f  state          loco\n",
      " 200200189636          НИЖНЕУДИНСК          НИЖНЕУДИНСК  Jul 15, 12:30  Jul 15, 13:30      2            -1\n",
      " 200200189636               УДА II                ТУЛУН  Jul 15, 13:50  Jul 15, 15:50      1  200200106729\n",
      " 200200189636                ТУЛУН                 АЗЕЙ  Jul 15, 15:50  Jul 15, 16:14      1  200200106729\n",
      " 200200189636                 АЗЕЙ               КУЙТУН  Jul 15, 16:14  Jul 15, 17:15      1  200200106729\n",
      " 200200189636               КУЙТУН              ПЕРЕВОЗ  Jul 15, 17:15  Jul 15, 18:12      1  200200106729\n",
      " 200200189636              ПЕРЕВОЗ                 ЗИМА  Jul 15, 18:12  Jul 15, 18:24      1  200200106729\n",
      " 200200189636                 ЗИМА               ЗАЛАРИ  Jul 15, 18:24  Jul 15, 19:20      1  200200106729\n",
      " 200200189636               ЗАЛАРИ            ЧЕРЕМХОВО  Jul 15, 19:20  Jul 15, 20:39      1  200200106729\n",
      " 200200189636            ЧЕРЕМХОВО           КАСЬЯНОВКА  Jul 15, 20:39  Jul 15, 20:56      1  200200106729\n",
      " 200200189636           КАСЬЯНОВКА               МАЛЬТА  Jul 15, 20:56  Jul 15, 21:33      1  200200106729\n",
      " 200200189636               МАЛЬТА                КИТОЙ  Jul 15, 21:33  Jul 15, 22:05      1  200200106729\n",
      " 200200189636                КИТОЙ              АНГАРСК  Jul 15, 22:05  Jul 15, 22:11      1  200200106729\n",
      " 200200189636              АНГАРСК            СУХОВСКАЯ  Jul 15, 22:11  Jul 15, 22:16      1  200200106729\n",
      " 200200189636            СУХОВСКАЯ                МЕГЕТ  Jul 15, 22:16  Jul 15, 22:29      1  200200106729\n",
      " 200200189636                МЕГЕТ           БАТАРЕЙНАЯ  Jul 15, 22:29  Jul 15, 22:37      1  200200106729\n",
      " 200200189636           БАТАРЕЙНАЯ  ИРКУТСК-СОРТИРОВ...  Jul 15, 22:37  Jul 15, 22:39      1  200200106729\n",
      " 200200189636  ИРКУТСК-СОРТИРОВ...  ИРКУТСК-СОРТИРОВ...  Jul 15, 23:09  Jul 16, 04:14      4            -1\n",
      " 200200189636  ИРКУТСК-СОРТИРОВ...  ИРКУТСК-СОРТИРОВ...  Jul 16, 06:08  Jul 16, 08:02      2            -1\n",
      " 200200189636  ИРКУТСК-СОРТИРОВ...           БАТАРЕЙНАЯ  Jul 16, 08:02  Jul 16, 08:04      1  200200074385\n",
      " 200200189636           БАТАРЕЙНАЯ                МЕГЕТ  Jul 16, 08:04  Jul 16, 08:12      1  200200074385\n",
      " 200200189636                МЕГЕТ            СУХОВСКАЯ  Jul 16, 08:12  Jul 16, 08:25      1  200200074385\n",
      " 200200189636            СУХОВСКАЯ              АНГАРСК  Jul 16, 08:25  Jul 16, 08:30      1  200200074385\n",
      " 200200189636              АНГАРСК                КИТОЙ  Jul 16, 08:30  Jul 16, 08:36      1  200200074385\n",
      " 200200189636                КИТОЙ               МАЛЬТА  Jul 16, 08:36  Jul 16, 09:17      1  200200074385\n",
      " 200200189636               МАЛЬТА           КАСЬЯНОВКА  Jul 16, 09:17  Jul 16, 10:20      1  200200074385\n",
      " 200200189636           КАСЬЯНОВКА            ЧЕРЕМХОВО  Jul 16, 10:20  Jul 16, 10:33      1  200200074385\n",
      " 200200189636            ЧЕРЕМХОВО               ЗАЛАРИ  Jul 16, 10:33  Jul 16, 11:53      1  200200074385\n",
      " 200200189636               ЗАЛАРИ                 ЗИМА  Jul 16, 11:53  Jul 16, 12:49      1  200200074385\n",
      " 200200189636                 ЗИМА              ПЕРЕВОЗ  Jul 16, 12:49  Jul 16, 13:04      1  200200074385\n",
      " 200200189636              ПЕРЕВОЗ               КУЙТУН  Jul 16, 13:04  Jul 16, 13:58      1  200200074385\n",
      " 200200189636               КУЙТУН                 АЗЕЙ  Jul 16, 13:58  Jul 16, 14:59      1  200200074385\n",
      " 200200189636                 АЗЕЙ                ТУЛУН  Jul 16, 14:59  Jul 16, 15:25      1  200200074385\n",
      " 200200189636                ТУЛУН               УДА II  Jul 16, 15:25  Jul 16, 17:15      1  200200074385\n",
      " 200200189636               УДА II          НИЖНЕУДИНСК  Jul 16, 17:15  Jul 16, 17:24      1  200200074385\n"
     ]
    }
   ],
   "source": [
    "add_header('Полные планы по некоторым ошибочным бригадам:')\n",
    "top_st = no_stop.st_to_name.value_counts().index[0]\n",
    "sec_st = no_stop.st_to_name.value_counts().index[1]\n",
    "cols = ['team', 'st_from_name', 'st_to_name', 'time_start_f', 'time_end_f', 'state', 'loco']\n",
    "add_line(team_plan[team_plan.team == no_stop[no_stop.st_to_name == top_st].iloc[0].team][cols])\n",
    "add_line('')\n",
    "add_line(team_plan[team_plan.team == no_stop[no_stop.st_to_name == sec_st].iloc[0].team][cols])"
   ]
  },
  {
   "cell_type": "markdown",
   "metadata": {},
   "source": [
    "#### Причины проезда бригад мимо станций смены:\n",
    "\n",
    "1. Новый Уоян: у бригад в участках обкатки присутствует участок 2002118258 (Северобайкальск -- Таксимо). Возможное решение: проверить участки обкатки, выяснить, откуда берется участок обкатки Северобайкальск -- Таксимо, удалить этот участок при необходимости.\n",
    "\n",
    "2. Зима. Фейковым бригадам хватает рабочего времени, чтобы доехать из Иркутска до Нижнеудинска (время хода --- чуть более 9 часов). Для этих бригад должен определяться УОЛБ 920502 \"Иркутск -- Зима\" с нормативным рабочим временем ровно 9 часов (540). Так что должна планироваться смена в Зиме. Возможные причины ошибки:\n",
    "  1. Определяется другой УОЛБ - а именно, УОЛБ 920503 \"Иркутск -- Гончарово, Кая -- Зима\". У этого УОЛБ рабочее время = 600 (10 часов). \n",
    "  2. У фейковой бригады неверно указывается депо приписки (или не указывается вообще). Тогда для нее может вообще не быть найден УОЛБ."
   ]
  },
  {
   "cell_type": "markdown",
   "metadata": {},
   "source": [
    "### Проверка случаев смены бригад не на допустимых станциях"
   ]
  },
  {
   "cell_type": "code",
   "execution_count": 59,
   "metadata": {
    "collapsed": true
   },
   "outputs": [],
   "source": [
    "add_header('Проверка случаев смены бригад не на допустимых станциях', h=3, p=False)"
   ]
  },
  {
   "cell_type": "code",
   "execution_count": 60,
   "metadata": {
    "collapsed": false
   },
   "outputs": [
    {
     "name": "stdout",
     "output_type": "stream",
     "text": [
      "Исключаются случаи смены бригады из-за завершения маршрута локомотива или поезда, а также случаи смены бригады на станции, которая является депо приписки бригады\n"
     ]
    }
   ],
   "source": [
    "add_line('Исключаются случаи смены бригады из-за завершения маршрута локомотива или поезда' + \n",
    "         ', а также случаи смены бригады на станции, которая является депо приписки бригады')"
   ]
  },
  {
   "cell_type": "code",
   "execution_count": 61,
   "metadata": {
    "collapsed": false
   },
   "outputs": [],
   "source": [
    "#loco_plan['loco_end'] = loco_plan.loco != loco_plan.loco.shift(-1)\n",
    "#train_ends = train_plan.drop_duplicates('train', keep='last')[['train', 'st_to_name']].set_index('train')\n",
    "#loco_plan['train_end'] = loco_plan.train.map(train_ends.st_to_name) == loco_plan.st_to_name\n",
    "loco_plan['end_trip'] = (loco_plan.state != loco_plan.state.shift(-1)) | (loco_plan.train != loco_plan.train.shift(-1))\\\n",
    "                        | (loco_plan.loco != loco_plan.loco.shift(-1))\n",
    "team_plan['start_station_name'] = team_plan.team.map(team_plan[team_plan.state.isin([0, 1])]\\\n",
    "                                                     .drop_duplicates('team').set_index('team').st_from_name)\n",
    "team_plan.depot_name.fillna(team_plan.start_station_name, inplace=True)\n",
    "team_plan['depot_st_name'] = team_plan.depot_st.map(st_names.name)\n",
    "team_plan.depot_st_name.fillna(team_plan.start_station_name, inplace=True)\n",
    "loco_plan['team_depot_name'] = loco_plan.team.map(team_plan.drop_duplicates('team').set_index('team').depot_name)\n",
    "loco_plan['team_ready_depot_name'] = loco_plan.team.map(team_plan.drop_duplicates('team').set_index('team').depot_st_name)"
   ]
  },
  {
   "cell_type": "code",
   "execution_count": 62,
   "metadata": {
    "collapsed": false
   },
   "outputs": [
    {
     "name": "stdout",
     "output_type": "stream",
     "text": [
      "Все бригады меняются только на приоритетных станциях смены\n"
     ]
    }
   ],
   "source": [
    "pr_st = pd.read_csv(FOLDER + 'mandatory/priority_team_change_stations.csv', sep=';', encoding='utf-8-sig', dtype={'station':str}).station\n",
    "#team_change = loco_plan[(loco_plan.state != 4) \n",
    "#                        & (loco_plan.team_end == True) & (loco_plan.loco_end == False) & (loco_plan.train_end == False)]\n",
    "team_change = loco_plan[(loco_plan.state != 4) & (loco_plan.team_end == True) & (loco_plan.end_trip == False)]\n",
    "bad_team_change = team_change[(team_change.st_to.isin(pr_st) == False) \n",
    "                              & (team_change.st_to_name != team_change.team_depot_name)\n",
    "                              & (team_change.st_to_name != team_change.team_ready_depot_name)]\n",
    "if bad_team_change.st_to_name.dropna().empty:\n",
    "    add_header('Все бригады меняются только на приоритетных станциях смены')\n",
    "else:\n",
    "    add_header('Всего %d случаев смены бригад не на приоритетных станциях смены (%.2f%%)'\n",
    "              % (bad_team_change.loco.count(), 100 * bad_team_change.loco.count() / team_change.loco.count()))\n",
    "    add_header('Распределение по неприоритетным станциям (первые 10):')\n",
    "    add_line(bad_team_change.st_to_name.value_counts().head(10))   \n",
    "    "
   ]
  },
  {
   "cell_type": "code",
   "execution_count": 63,
   "metadata": {
    "collapsed": false
   },
   "outputs": [],
   "source": [
    "with (pd.option_context('display.max_colwidth', 20)):\n",
    "    if not bad_team_change.st_to_name.dropna().empty:\n",
    "        add_header('Примеры локомотивов и бригад, для которых смена указанной бригады произошла не на приоритетной станции:')\n",
    "        add_line(bad_team_change[['loco', 'team', 'st_to_name', 'time_end_f', 'train']].head(10))\n",
    "        cols = ['loco', 'st_from_name', 'st_to_name', 'time_start_f', 'time_end_f', 'train', 'team', 'team_depot_name']        \n",
    "        loco_id = bad_team_change[bad_team_change.st_to_name == bad_team_change.st_to_name.value_counts().idxmax()]\\\n",
    "                    .drop_duplicates('loco').iloc[0,:].loco\n",
    "        add_header('Полный план по одному из таких локомотивов:')\n",
    "        add_line(loco_plan[loco_plan.loco == loco_id][cols])"
   ]
  },
  {
   "cell_type": "markdown",
   "metadata": {},
   "source": [
    "<a id='presence'></a>\n",
    "## Проверка отправления бригады не ранее времени явки [ToC](#toc)"
   ]
  },
  {
   "cell_type": "code",
   "execution_count": 64,
   "metadata": {
    "collapsed": true
   },
   "outputs": [],
   "source": [
    "add_header('Проверка отправления бригады не ранее времени явки', h=2, p=False)"
   ]
  },
  {
   "cell_type": "code",
   "execution_count": 65,
   "metadata": {
    "collapsed": false
   },
   "outputs": [],
   "source": [
    "# Вычисляем максимальное время явки, добавляем его в team_info и team_plan\n",
    "# В таблице presence_fail --- ошибочные отправления бригад до времени явки\n",
    "\n",
    "presence_lim = 0\n",
    "team_cols = ['team', 'st_from_name', 'st_to_name', 'time_start_f', 'ready_type', \n",
    "             'presence_norm', 'presence_gap', 'state', 'state_info']\n",
    "\n",
    "team_info['all_presence'] = list(zip(team_info.depot_time, team_info.return_time))\n",
    "team_info['presence'] = team_info.all_presence.apply(lambda x: x[0] if x[0] > x[1] else x[1])\n",
    "team_info['presence_norm'] = team_info.presence.apply(lambda x: time.strftime(time_format, time.localtime(x)) if x>0 else x)\n",
    "team_plan['presence'] = team_plan.team.map(team_info.set_index('team').presence)\n",
    "team_plan['presence_norm'] = team_plan.presence.apply(lambda x: time.strftime(time_format, time.localtime(x)) if x>0 else x)\n",
    "team_plan['presence_gap'] = team_plan.time_start - team_plan.presence\n",
    "team_plan['ready_type'] = team_plan.team.map(team_info.set_index('team').ready_type)\n",
    "presence_fail = team_plan[(team_plan.state.isin([0, 1])) & (team_plan.presence_gap < presence_lim)].drop_duplicates('team')\n",
    "pr = team_info[['team', 'depot_time', 'return_time', 'presence', 'presence_norm']]"
   ]
  },
  {
   "cell_type": "code",
   "execution_count": 66,
   "metadata": {
    "collapsed": false
   },
   "outputs": [
    {
     "name": "stdout",
     "output_type": "stream",
     "text": [
      "Нет бригад, которые запланированы к отправлению пассажиром ранее времени явки\n",
      "\n",
      "Нет бригад, которые запланированы к отправлению пассажирами ранее времени явки после начала планирования\n"
     ]
    }
   ],
   "source": [
    "p = presence_fail[presence_fail.state == 0]\n",
    "ph = presence_fail[(presence_fail.state == 0) & (presence_fail.time_start >= current_time)]\n",
    "if not p.empty:\n",
    "    add_header('Всего бригад, которые отправлены пассажиром ранее времени явки: %d (показаны первые 10)' % p.team.count())\n",
    "    add_line(p.sort_values('presence_gap')[team_cols].head(10))\n",
    "else:\n",
    "    add_header('Нет бригад, которые запланированы к отправлению пассажиром ранее времени явки')\n",
    "    \n",
    "if not ph.empty:\n",
    "    add_header('\\nВсего бригад, которые отправлены пассажиром ранее времени явки после начала планирования: %d (показаны первые 10)' \n",
    "      % ph.team.count())\n",
    "    add_line(ph.sort_values('presence_gap')[team_cols].head(10))\n",
    "else:\n",
    "    add_header('\\nНет бригад, которые запланированы к отправлению пассажирами ранее времени явки после начала планирования')"
   ]
  },
  {
   "cell_type": "code",
   "execution_count": 67,
   "metadata": {
    "collapsed": false
   },
   "outputs": [
    {
     "name": "stdout",
     "output_type": "stream",
     "text": [
      "Всего бригад, которые отправлены с локомотивом ранее времени явки: 1 (показаны первые 10)\n",
      "         team st_from_name st_to_name   time_start_f ready_type  presence_norm  presence_gap  state state_info\n",
      " 200020366947     САЯНСКАЯ  ЩЕТИНКИНО  Jul 15, 02:56     return  Jul 15, 10:50        -28440      1          1\n",
      "\n",
      "Нет бригад, которые запланированы к отправлению с локомотивами ранее времени явки после начала планирования\n"
     ]
    }
   ],
   "source": [
    "f = presence_fail[presence_fail.state == 1]\n",
    "fh = presence_fail[(presence_fail.state == 1) & (presence_fail.time_start >= current_time)]\n",
    "if not f.empty:\n",
    "    add_header('Всего бригад, которые отправлены с локомотивом ранее времени явки: %d (показаны первые 10)' % f.team.count())\n",
    "    add_line(f.sort_values('presence_gap')[team_cols].head(10))\n",
    "else:\n",
    "    add_header('Нет бригад, которые запланированы к отправлению с локомотивами ранее времени явки')\n",
    "\n",
    "if not fh.team.empty:\n",
    "    add_header('\\nВсего бригад, которые отправлены с локомотивом ранее времени явки после начала планирования: %d (показаны первые 10)' \n",
    "      % fh.team.count())\n",
    "    add_line(fh.sort_values('presence_gap')[team_cols].head(10))\n",
    "else:\n",
    "    add_header('\\nНет бригад, которые запланированы к отправлению с локомотивами ранее времени явки после начала планирования')"
   ]
  },
  {
   "cell_type": "markdown",
   "metadata": {},
   "source": [
    "<a id='before_current_time'></a>\n",
    "## Проверка планирования бригад до времени начала планирования [ToC](#toc)"
   ]
  },
  {
   "cell_type": "code",
   "execution_count": 68,
   "metadata": {
    "collapsed": true
   },
   "outputs": [],
   "source": [
    "add_header('Проверка планирования бригад до времени начала планирования', h=2, p=False)"
   ]
  },
  {
   "cell_type": "code",
   "execution_count": 69,
   "metadata": {
    "collapsed": false
   },
   "outputs": [
    {
     "name": "stdout",
     "output_type": "stream",
     "text": [
      "(Не учитываются бригады, которые на начало планирования находились на перегоне)\n",
      "Время начала планирования: Jul 15, 14:41\n",
      "\n",
      "Всего бригад, отправленных до начала планирования: 0 (0.00% от всех запланированных бригад)\n"
     ]
    }
   ],
   "source": [
    "team_cols = ['team', 'st_from_name', 'st_to_name', 'time_start_f', 'state', 'loco', 'state_info']\n",
    "\n",
    "add_line('(Не учитываются бригады, которые на начало планирования находились на перегоне)')\n",
    "add_line('Время начала планирования: %s' % time.strftime(time_format, time.localtime(current_time)))\n",
    "\n",
    "total_teams = team_plan.team.drop_duplicates().count()\n",
    "\n",
    "tbef = team_plan[(team_plan.time_start < current_time)          \n",
    "         & (team_plan.state.isin([0, 1])) & (team_plan.state_info != team_plan.state.apply(str))].drop_duplicates('team')\n",
    "add_header('\\nВсего бригад, отправленных до начала планирования: %d (%.2f%% от всех запланированных бригад)' \n",
    "           % (tbef.team.count(), 100 * tbef.team.count() / total_teams))\n",
    "if not tbef.empty:\n",
    "    add_header('\\nРаспределение по состояниям бригад, отправленных до начала планирования:')\n",
    "    add_line(tbef.state.value_counts())\n",
    "    \n",
    "    for i in sorted(tbef.state.unique()):\n",
    "        add_header('\\nБригады, отправленные до начала планирования в состоянии %d (первые 10):' % i)\n",
    "        add_line(tbef[tbef.state == i].sort_values('time_start').head(10)[team_cols])\n",
    "\n",
    "    add_header('\\nРаспределение по типу бригад, отправленных до начала планирования в состоянии 1:')\n",
    "    add_line(tbef[tbef.state == 1].team_type.value_counts())"
   ]
  },
  {
   "cell_type": "markdown",
   "metadata": {},
   "source": [
    "<a id='presenting'></a>\n",
    "## Проверка планируемых явок бригад [ToC](#toc)"
   ]
  },
  {
   "cell_type": "code",
   "execution_count": 70,
   "metadata": {
    "collapsed": true
   },
   "outputs": [],
   "source": [
    "add_header('Проверка планируемых явок бригад', h=2, p=False)"
   ]
  },
  {
   "cell_type": "code",
   "execution_count": 71,
   "metadata": {
    "collapsed": false
   },
   "outputs": [
    {
     "name": "stdout",
     "output_type": "stream",
     "text": [
      "Разброс времен на явку бригад: от 0.32 ч. до 5.90 ч.\n"
     ]
    },
    {
     "data": {
      "image/png": "[encoded data removed]",
      "text/plain": [
       "<matplotlib.figure.Figure at 0x1ba92629908>"
      ]
     },
     "metadata": {},
     "output_type": "display_data"
    }
   ],
   "source": [
    "team_cols = ['team', 'st_from_name', 'st_to_name', 'time_start_f', 'time_end_f', 'tt', 'state', 'loco', 'state_info']\n",
    "team_plan['tt'] = team_plan.time_end - team_plan.time_start\n",
    "min_presenting = team_plan[team_plan.state == 2][team_cols].tt.min()\n",
    "max_presenting = team_plan[team_plan.state == 2][team_cols].tt.max()\n",
    "add_header('Разброс времен на явку бригад: от %.2f ч. до %.2f ч.' % (min_presenting / 3600, max_presenting / 3600))\n",
    "sns.set_style('whitegrid')\n",
    "sns.set_context('notebook')\n",
    "fig = plt.figure()\n",
    "ax = sns.distplot(team_plan[team_plan.state == 2][team_cols].tt / 3600, hist=False, bins=20, color='b', kde_kws={'shade':True})\n",
    "ax.set(xlabel='Время на явку, ч.', title='Распределение времен на явку бригад')\n",
    "sns.despine()\n",
    "filename = 'team_presenting.png'\n",
    "fig.savefig(REPORT_FOLDER + filename, bbox_inches='tight')\n",
    "add_image(filename)"
   ]
  },
  {
   "cell_type": "code",
   "execution_count": 72,
   "metadata": {
    "collapsed": false
   },
   "outputs": [
    {
     "name": "stdout",
     "output_type": "stream",
     "text": [
      "Всего 764 бригад, у которых время окончания отдыха не совпадает со временем явки (показаны первые 10):\n",
      "         team         st_from_name           st_to_name  state  next_state   time_start_f     time_end_f next_time_start_f\n",
      " 200200233065                УРУША                УРУША      4           2  Jul 15, 14:43  Jul 15, 17:43     Jul 16, 02:29\n",
      " 200200109693          КОШУРНИКОВО          КОШУРНИКОВО      4           2  Jul 15, 14:45  Jul 15, 17:45     Jul 15, 18:29\n",
      " 200200245691               МОГОЧА               МОГОЧА      4           2  Jul 15, 14:45  Jul 15, 21:18     Jul 15, 22:10\n",
      " 200200274961                ХИЛОК                ХИЛОК      4           2  Jul 15, 14:48  Jul 15, 19:28     Jul 15, 20:21\n",
      " 200200175471  КОРШУНИХА-АНГАРСКАЯ  КОРШУНИХА-АНГАРСКАЯ      4           2  Jul 15, 14:51  Jul 15, 17:51     Jul 15, 22:38\n",
      " 200200142425                УРУША                УРУША      4           2  Jul 15, 14:53  Jul 15, 17:53     Jul 16, 04:39\n",
      " 200200074301               МОГОЧА               МОГОЧА      4           2  Jul 15, 14:54  Jul 15, 20:24     Jul 15, 21:20\n",
      " 200200122790  ИРКУТСК-СОРТИРОВ...  ИРКУТСК-СОРТИРОВ...      4           2  Jul 15, 14:55  Jul 15, 20:23     Jul 16, 01:56\n",
      " 200200059225               ЧИТА I               ЧИТА I      4           2  Jul 15, 14:55  Jul 15, 18:38     Jul 15, 19:57\n",
      " 200200262850               ЧИТА I               ЧИТА I      4           2  Jul 15, 14:56  Jul 15, 20:09     Jul 15, 23:55\n",
      "\n",
      "Распределение таких ошибочных явок после отдыха по станциям (показаны первые 5):\n",
      "УРУША         112\n",
      "УЛАН-УДЭ       60\n",
      "СЛЮДЯНКА I     59\n",
      "МАГДАГАЧИ      57\n",
      "ХИЛОК          49\n"
     ]
    }
   ],
   "source": [
    "team_plan['next_state'] = team_plan.state.shift(-1)\n",
    "team_plan['next_time_start_f'] = team_plan.time_start_f.shift(-1)\n",
    "cols = ['team', 'st_from_name', 'st_to_name', 'state', 'next_state', 'time_start_f', 'time_end_f', 'next_time_start_f']\n",
    "rest_pres = team_plan[(team_plan.team == team_plan.team.shift(-1)) \n",
    "                     & (team_plan.state == 4) & (team_plan.next_state == 2)\n",
    "                     & (team_plan.time_end_f != team_plan.next_time_start_f)]\n",
    "add_header('Всего %d бригад, у которых время окончания отдыха не совпадает со временем явки (показаны первые 10):' \n",
    "      % rest_pres.team.drop_duplicates().count())\n",
    "add_line(rest_pres[rest_pres.time_start >= current_time].sort_values('time_start').head(10)[cols])\n",
    "add_header('\\nРаспределение таких ошибочных явок после отдыха по станциям (показаны первые 5):')\n",
    "add_line(rest_pres.st_from_name.value_counts().head())"
   ]
  },
  {
   "cell_type": "markdown",
   "metadata": {},
   "source": [
    "<a id='check_useful_assign'></a>\n",
    "## Проверка использования бригад [ToC](#toc)"
   ]
  },
  {
   "cell_type": "code",
   "execution_count": 73,
   "metadata": {
    "collapsed": false
   },
   "outputs": [],
   "source": [
    "add_header('Проверка использования бригад', h=2, p=False)"
   ]
  },
  {
   "cell_type": "markdown",
   "metadata": {},
   "source": [
    "<a id='only_pass'></a>\n",
    "### Бригады, запланированные к отправлению пассажирами без последующей подвязки [ToC](#toc)"
   ]
  },
  {
   "cell_type": "code",
   "execution_count": 74,
   "metadata": {
    "collapsed": true
   },
   "outputs": [],
   "source": [
    "add_header('Проверка использования бригад после засылки пассажирами', h=3, p=False)"
   ]
  },
  {
   "cell_type": "code",
   "execution_count": 75,
   "metadata": {
    "collapsed": false
   },
   "outputs": [],
   "source": [
    "team_plan['all_states'] = team_plan.team.map(team_plan.groupby('team').state.unique())\n",
    "#team_plan['last_state'] = team_plan.team.map(team_plan\n",
    "#                                             .sort_values(['team', 'time_start'], ascending=[True, False])\n",
    "#                                             .drop_duplicates('team')[['team', 'state']]\n",
    "#                                             .set_index('team')\n",
    "#                                             .state)\n",
    "\n",
    "#team_plan['first_state'] = team_plan.team.map(team_plan\n",
    "#                                             .sort_values(['team', 'time_start'])\n",
    "#                                             .drop_duplicates('team')[['team', 'state']]\n",
    "#                                             .set_index('team')\n",
    "#                                             .state)\n",
    "\n",
    "cols = ['team', 'st_from_name', 'st_to_name', 'time_start_f', 'time_end_f', 'depot_name',\n",
    "        'state', 'all_states']"
   ]
  },
  {
   "cell_type": "code",
   "execution_count": 76,
   "metadata": {
    "collapsed": false
   },
   "outputs": [
    {
     "name": "stdout",
     "output_type": "stream",
     "text": [
      "Всего 120 бригад, для которых планируется отправка пассажиром и не планируется работа с поездом\n"
     ]
    }
   ],
   "source": [
    "def get_cat(all_states):\n",
    "    if 1 in all_states:\n",
    "        return 'work'\n",
    "    elif (len(all_states) == 1) & (all_states[0] == 2):\n",
    "        return 'only_presence'\n",
    "    elif len(all_states) == 2:\n",
    "        if ((all_states[0] == 4) & (all_states[1] == 0)):\n",
    "            return 'pass_home'\n",
    "        else:\n",
    "            return 'fail'\n",
    "    else:\n",
    "        return 'fail'\n",
    "\n",
    "team_plan['cat'] = team_plan.all_states.apply(get_cat)\n",
    "only_pass_teams = team_plan[(team_plan.cat == 'fail') & (team_plan.state_info != '2')]\n",
    "                            \n",
    "add_header('Всего %d бригад, для которых планируется отправка пассажиром и не планируется работа с поездом' \n",
    "      % only_pass_teams.team.drop_duplicates().count())"
   ]
  },
  {
   "cell_type": "code",
   "execution_count": 77,
   "metadata": {
    "collapsed": false
   },
   "outputs": [
    {
     "name": "stdout",
     "output_type": "stream",
     "text": [
      "Станции, с которых чаще всегда планируется лишняя отправка пассажирами:\n",
      "ОБЛУЧЬЕ                               10\n",
      "ЧЕРНЫШЕВСК-ЗАБАЙКАЛЬСКИЙ              10\n",
      "КРАСНОЯРСК-ВОСТОЧНЫЙ                   7\n",
      "ВИХОРЕВКА                              6\n",
      "УЛАН-УДЭ                               6\n",
      "АЧИНСК I                               6\n",
      "ЧИТА I                                 5\n",
      "ХАБАРОВСК II                           5\n",
      "ВАНИНО                                 5\n",
      "КОМСОМОЛЬСК-НА-АМУРЕ-СОРТИРОВОЧНЫЙ     5\n"
     ]
    }
   ],
   "source": [
    "add_header('Станции, с которых чаще всегда планируется лишняя отправка пассажирами:')\n",
    "add_line(only_pass_teams.drop_duplicates('team').st_from_name.value_counts().head(10))"
   ]
  },
  {
   "cell_type": "code",
   "execution_count": 78,
   "metadata": {
    "collapsed": false
   },
   "outputs": [
    {
     "name": "stdout",
     "output_type": "stream",
     "text": [
      "Примеры:\n",
      "         team      st_from_name        st_to_name   time_start_f     time_end_f depot_name  state all_states\n",
      " 200200216449          УЛАН-УДЭ          УЛАН-УДЭ  Jul 15, 02:50  Jul 15, 03:36   УЛАН-УДЭ      2  [2, 4, 0]\n",
      " 200200216449             ХИЛОК             ХИЛОК  Jul 15, 14:05  Jul 15, 22:36   УЛАН-УДЭ      4  [2, 4, 0]\n",
      " 200200216449             ХИЛОК          ЖИПХЕГЕН  Jul 15, 22:36  Jul 15, 23:07   УЛАН-УДЭ      0  [2, 4, 0]\n",
      " 200200216449          ЖИПХЕГЕН  ПЕТРОВСКИЙ ЗАВОД  Jul 15, 23:09  Jul 16, 01:24   УЛАН-УДЭ      0  [2, 4, 0]\n",
      " 200200216449  ПЕТРОВСКИЙ ЗАВОД              КИЖА  Jul 16, 01:42  Jul 16, 02:02   УЛАН-УДЭ      0  [2, 4, 0]\n",
      " 200200216449              КИЖА            ГОРХОН  Jul 16, 02:04  Jul 16, 02:23   УЛАН-УДЭ      0  [2, 4, 0]\n",
      " 200200216449            ГОРХОН           ЧЕЛУТАЙ  Jul 16, 02:25  Jul 16, 02:58   УЛАН-УДЭ      0  [2, 4, 0]\n",
      " 200200216449           ЧЕЛУТАЙ            ТАЛЬЦЫ  Jul 16, 02:58  Jul 16, 03:38   УЛАН-УДЭ      0  [2, 4, 0]\n",
      " 200200216449            ТАЛЬЦЫ        ЗАУДИНСКИЙ  Jul 16, 03:38  Jul 16, 03:45   УЛАН-УДЭ      0  [2, 4, 0]\n",
      " 200200216449        ЗАУДИНСКИЙ          УЛАН-УДЭ  Jul 16, 03:45  Jul 16, 03:53   УЛАН-УДЭ      0  [2, 4, 0]\n",
      "\n",
      "         team       st_from_name         st_to_name   time_start_f     time_end_f   depot_name  state all_states\n",
      " 200200242526        СМОЛЯНИНОВО        СМОЛЯНИНОВО  Jul 15, 03:05  Jul 15, 04:35  СМОЛЯНИНОВО      2  [2, 4, 0]\n",
      " 200200242526  НАХОДКА-ВОСТОЧНАЯ  НАХОДКА-ВОСТОЧНАЯ  Jul 15, 12:45  Jul 15, 16:25  СМОЛЯНИНОВО      4  [2, 4, 0]\n",
      " 200200242526  НАХОДКА-ВОСТОЧНАЯ         ХМЫЛОВСКИЙ  Jul 15, 16:25  Jul 15, 16:30  СМОЛЯНИНОВО      0  [2, 4, 0]\n",
      " 200200242526         ХМЫЛОВСКИЙ            НАХОДКА  Jul 15, 16:30  Jul 15, 16:42  СМОЛЯНИНОВО      0  [2, 4, 0]\n",
      " 200200242526            НАХОДКА          КУЗНЕЦОВО  Jul 15, 16:42  Jul 15, 16:55  СМОЛЯНИНОВО      0  [2, 4, 0]\n",
      " 200200242526          КУЗНЕЦОВО            ЛОЗОВЫЙ  Jul 15, 16:55  Jul 15, 17:10  СМОЛЯНИНОВО      0  [2, 4, 0]\n",
      " 200200242526            ЛОЗОВЫЙ         ПАРТИЗАНСК  Jul 15, 17:10  Jul 15, 17:34  СМОЛЯНИНОВО      0  [2, 4, 0]\n",
      " 200200242526         ПАРТИЗАНСК    КРАСНОАРМЕЙСКИЙ  Jul 15, 17:34  Jul 15, 17:55  СМОЛЯНИНОВО      0  [2, 4, 0]\n",
      " 200200242526    КРАСНОАРМЕЙСКИЙ         АНИСИМОВКА  Jul 15, 17:55  Jul 15, 18:50  СМОЛЯНИНОВО      0  [2, 4, 0]\n",
      " 200200242526         АНИСИМОВКА         НОВОНЕЖИНО  Jul 15, 18:50  Jul 15, 19:08  СМОЛЯНИНОВО      0  [2, 4, 0]\n",
      " 200200242526         НОВОНЕЖИНО        СМОЛЯНИНОВО  Jul 15, 19:08  Jul 15, 19:33  СМОЛЯНИНОВО      0  [2, 4, 0]\n",
      "\n",
      "         team     st_from_name       st_to_name   time_start_f     time_end_f depot_name  state all_states\n",
      " 200200242603          ОБЛУЧЬЕ          ОБЛУЧЬЕ  Jul 15, 00:00  Jul 15, 00:40    ОБЛУЧЬЕ      2  [2, 4, 0]\n",
      " 200200242603      ХАБАРОВСК I      ХАБАРОВСК I  Jul 15, 12:46  Jul 15, 18:38    ОБЛУЧЬЕ      4  [2, 4, 0]\n",
      " 200200242603      ХАБАРОВСК I             АМУР  Jul 15, 18:38  Jul 15, 18:52    ОБЛУЧЬЕ      0  [2, 4, 0]\n",
      " 200200242603             АМУР  ПОСТ-ПОКРОВСКИЙ  Jul 15, 18:52  Jul 15, 18:58    ОБЛУЧЬЕ      0  [2, 4, 0]\n",
      " 200200242603  ПОСТ-ПОКРОВСКИЙ      ПРИАМУРСКАЯ  Jul 15, 18:58  Jul 15, 19:01    ОБЛУЧЬЕ      0  [2, 4, 0]\n",
      " 200200242603      ПРИАМУРСКАЯ         ДЕЖНЕВКА  Jul 15, 19:01  Jul 15, 19:18    ОБЛУЧЬЕ      0  [2, 4, 0]\n",
      " 200200242603         ДЕЖНЕВКА       ТУНГУССКИЙ  Jul 15, 19:18  Jul 15, 19:23    ОБЛУЧЬЕ      0  [2, 4, 0]\n",
      " 200200242603       ТУНГУССКИЙ     ВОЛОЧАЕВКА I  Jul 15, 19:23  Jul 15, 19:28    ОБЛУЧЬЕ      0  [2, 4, 0]\n",
      " 200200242603     ВОЛОЧАЕВКА I              NaN  Jul 15, 19:28  Jul 15, 21:18    ОБЛУЧЬЕ      0  [2, 4, 0]\n",
      " 200200242603              NaN             БИРА  Jul 15, 21:31  Jul 15, 22:18    ОБЛУЧЬЕ      0  [2, 4, 0]\n",
      " 200200242603             БИРА      ИЗВЕСТКОВАЯ  Jul 15, 22:18  Jul 15, 23:40    ОБЛУЧЬЕ      0  [2, 4, 0]\n",
      " 200200242603      ИЗВЕСТКОВАЯ          ОБЛУЧЬЕ  Jul 15, 23:40  Jul 16, 00:31    ОБЛУЧЬЕ      0  [2, 4, 0]\n",
      "\n"
     ]
    }
   ],
   "source": [
    "with pd.option_context('display.max_colwidth', 25):\n",
    "    if only_pass_teams.team.drop_duplicates().count() != 0:\n",
    "        add_header('Примеры:')\n",
    "        for team in only_pass_teams.team.drop_duplicates().iloc[:3].values:    \n",
    "            add_line(team_plan[team_plan.team == team][cols])\n",
    "            add_line('')"
   ]
  },
  {
   "cell_type": "code",
   "execution_count": 79,
   "metadata": {
    "collapsed": false
   },
   "outputs": [
    {
     "name": "stdout",
     "output_type": "stream",
     "text": [
      "Пример бесцельной отправки пассажиром со станции Иркутск-Сортировочный:\n",
      "         team         st_from_name           st_to_name   time_start_f     time_end_f           depot_name  state all_states\n",
      " 200200181643  ИРКУТСК-СОРТИРОВ...  ИРКУТСК-СОРТИРОВ...  Jul 15, 14:20  Jul 15, 16:14  ИРКУТСК-СОРТИРОВ...      2  [2, 4, 0]\n",
      " 200200181643          БОЛЬШОЙ ЛУГ          БОЛЬШОЙ ЛУГ  Jul 15, 15:14  Jul 15, 19:29  ИРКУТСК-СОРТИРОВ...      4  [2, 4, 0]\n",
      " 200200181643          БОЛЬШОЙ ЛУГ            ГОНЧАРОВО  Jul 15, 19:29  Jul 15, 19:48  ИРКУТСК-СОРТИРОВ...      0  [2, 4, 0]\n",
      " 200200181643            ГОНЧАРОВО                  КАЯ  Jul 15, 19:48  Jul 15, 20:00  ИРКУТСК-СОРТИРОВ...      0  [2, 4, 0]\n",
      " 200200181643                  КАЯ  ИРКУТСК-ПАССАЖИР...  Jul 15, 20:00  Jul 15, 20:11  ИРКУТСК-СОРТИРОВ...      0  [2, 4, 0]\n",
      " 200200181643  ИРКУТСК-ПАССАЖИР...      ВОЕННЫЙ ГОРОДОК  Jul 15, 20:46  Jul 15, 20:53  ИРКУТСК-СОРТИРОВ...      0  [2, 4, 0]\n",
      " 200200181643      ВОЕННЫЙ ГОРОДОК  ИРКУТСК-СОРТИРОВ...  Jul 15, 20:53  Jul 15, 20:55  ИРКУТСК-СОРТИРОВ...      0  [2, 4, 0]\n"
     ]
    }
   ],
   "source": [
    "irk = only_pass_teams[only_pass_teams.st_from_name == 'ИРКУТСК-СОРТИРОВОЧНЫЙ']\n",
    "if not irk.empty:\n",
    "    add_header('Пример бесцельной отправки пассажиром со станции Иркутск-Сортировочный:')\n",
    "    add_line(team_plan[team_plan.team == irk.iloc[0].team][cols])"
   ]
  },
  {
   "cell_type": "markdown",
   "metadata": {},
   "source": [
    "<a id='only_presence'></a>\n",
    "### Бригады, планируемые только на явку [ToC](#toc)"
   ]
  },
  {
   "cell_type": "code",
   "execution_count": 80,
   "metadata": {
    "collapsed": true
   },
   "outputs": [],
   "source": [
    "add_header('Бригады, планируемые только на явку', h=3, p=False)"
   ]
  },
  {
   "cell_type": "code",
   "execution_count": 81,
   "metadata": {
    "collapsed": false
   },
   "outputs": [
    {
     "name": "stdout",
     "output_type": "stream",
     "text": [
      "Всего 355 бригад, запланированных только на явку.\n",
      "\n",
      "Распределение по депо станции явки:\n",
      "ИЛАНСКАЯ     64\n",
      "ЧИТА I       49\n",
      "КАРЫМСКАЯ    33\n",
      "ВИХОРЕВКА    19\n",
      "АЧИНСК I     18\n",
      "\n",
      "Распределение по типу бригады:\n",
      "Реальная    182\n",
      "Фейковая    173\n",
      "\n",
      "Примеры бригад:\n",
      "         team         st_from_name   time_start_f     time_end_f           depot_name state_info all_states\n",
      " 200200151664                ХИЛОК  Jul 15, 10:51  Jul 15, 12:00                ХИЛОК          2        [2]\n",
      " 200200206726            КАРЫМСКАЯ  Jul 15, 11:24  Jul 15, 13:30            КАРЫМСКАЯ          2        [2]\n",
      " 200200143008               МОГОЧА  Jul 15, 04:13  Jul 15, 05:13               МОГОЧА          2        [2]\n",
      " 200200259858               МОГОЧА  Jul 15, 06:55  Jul 15, 07:55               МОГОЧА          2        [2]\n",
      " 200200223934  ЧЕРНЫШЕВСК-ЗАБАЙ...  Jul 15, 12:33  Jul 15, 13:25  ЧЕРНЫШЕВСК-ЗАБАЙ...          2        [2]\n",
      " 200200096970                БОРЗЯ  Jul 15, 14:10  Jul 15, 14:30                БОРЗЯ          2        [2]\n",
      " 200200082141  ЧЕРНЫШЕВСК-ЗАБАЙ...  Jul 15, 00:03  Jul 15, 00:55  ЧЕРНЫШЕВСК-ЗАБАЙ...          2        [2]\n",
      " 200200268787            КАРЫМСКАЯ  Jul 15, 01:54  Jul 15, 04:00            КАРЫМСКАЯ          2        [2]\n",
      " 200200267786            КАРЫМСКАЯ  Jul 14, 20:54  Jul 14, 23:00            КАРЫМСКАЯ          2        [2]\n",
      " 200200113096               МОГОЧА  Jul 15, 00:02  Jul 15, 01:02               МОГОЧА          2        [2]\n"
     ]
    }
   ],
   "source": [
    "cols = ['team', 'st_from_name', 'time_start_f', 'time_end_f', 'depot_name', 'state_info', 'all_states']\n",
    "only_pr = team_plan[team_plan.cat == 'only_presence']\n",
    "if not only_pr.empty:\n",
    "    add_header('Всего %d бригад, запланированных только на явку.' % only_pr.team.drop_duplicates().count())\n",
    "    add_line('')\n",
    "    add_header('Распределение по депо станции явки:')\n",
    "    add_line(only_pr.drop_duplicates('team').st_from_name.value_counts().head())\n",
    "    add_line('')\n",
    "    add_header('Распределение по типу бригады:')\n",
    "    add_line(only_pr.drop_duplicates('team').team_type.value_counts())\n",
    "    add_line('')\n",
    "    add_header('Примеры бригад:')\n",
    "    add_line(only_pr[cols].head(10))\n",
    "else:\n",
    "    add_header('В плане нет бригад, запланированных только на явку')"
   ]
  },
  {
   "cell_type": "markdown",
   "metadata": {},
   "source": [
    "## Проверка наличия явки в планах у всех запланированных бригад"
   ]
  },
  {
   "cell_type": "code",
   "execution_count": 82,
   "metadata": {
    "collapsed": false
   },
   "outputs": [
    {
     "name": "stdout",
     "output_type": "stream",
     "text": [
      "Всего событие явки не запланировано у 583 бригад (14.93%). Примеры:\n",
      "         team  st_from_name st_to_name   time_start_f     time_end_f  state          loco\n",
      " 777700001024  БЕЛОГОРСК II    ЗАВИТАЯ  Jul 16, 20:35  Jul 16, 22:38      1  200200067830\n",
      " 777700001024       ЗАВИТАЯ      БУРЕЯ  Jul 16, 22:38  Jul 16, 23:25      1  200200067830\n",
      " 777700001024         БУРЕЯ     АРХАРА  Jul 16, 23:25  Jul 17, 00:12      1  200200067830\n",
      " 777700001024        АРХАРА    ОБЛУЧЬЕ  Jul 17, 00:12  Jul 17, 02:21      1  200200067830\n",
      "         team  st_from_name st_to_name   time_start_f     time_end_f  state          loco\n",
      " 777700001024  БЕЛОГОРСК II    ЗАВИТАЯ  Jul 16, 20:35  Jul 16, 22:38      1  200200067830\n",
      " 777700001024       ЗАВИТАЯ      БУРЕЯ  Jul 16, 22:38  Jul 16, 23:25      1  200200067830\n",
      " 777700001024         БУРЕЯ     АРХАРА  Jul 16, 23:25  Jul 17, 00:12      1  200200067830\n",
      " 777700001024        АРХАРА    ОБЛУЧЬЕ  Jul 17, 00:12  Jul 17, 02:21      1  200200067830\n",
      "Распределение по типу бригад (в долях):\n",
      "Фейковая    1\n"
     ]
    }
   ],
   "source": [
    "team_plan['all_states'] = team_plan.team.map(team_plan.groupby('team').state.unique())\n",
    "no_pres = team_plan[team_plan.all_states.apply(lambda x: (2 not in x) & (1 in x))]\n",
    "cols = ['team', 'st_from_name', 'st_to_name', 'time_start_f', 'time_end_f', 'state', 'loco']\n",
    "add_header('Всего событие явки не запланировано у %d бригад (%.2f%%). Примеры:'\n",
    "           % (no_pres.drop_duplicates('team').team.count(),\n",
    "              100 * no_pres.drop_duplicates('team').team.count() / team_plan.drop_duplicates('team').team.count()))\n",
    "add_line(team_plan[team_plan.team == no_pres.iloc[0].team][cols])\n",
    "add_line(team_plan[team_plan.team == no_pres.iloc[1].team][cols])\n",
    "add_header('Распределение по типу бригад (в долях):')\n",
    "add_line(no_pres.drop_duplicates('team').team_type.value_counts(normalize=True))"
   ]
  },
  {
   "cell_type": "code",
   "execution_count": 83,
   "metadata": {
    "collapsed": false
   },
   "outputs": [],
   "source": [
    "# print(nice_time(current_time))\n",
    "# cols = ['team', 'st_from_name', 'st_to_name', 'time_start_f', 'time_end_f', 'state']\n",
    "# for hor in [1, 3, 6, 12]:\n",
    "#     a = team_plan[(team_plan.state == 2) & (team_plan.team_type == 'Реальная')\n",
    "#           & (team_plan.time_start > current_time) & (team_plan.time_start < current_time + hor * 3600)]\\\n",
    "#         .set_index('team').sample(20)\n",
    "#     for t in a.index:\n",
    "#         print('+prev_team(id(%s),prev_plan([ready_time(%s)]))' % (t, a.ix[t].time_start))"
   ]
  },
  {
   "cell_type": "markdown",
   "metadata": {},
   "source": [
    "<a id='pass_teams_in_plan'></a>\n",
    "## Проверка подвязки негрузовых бригад [ToC](#toc)"
   ]
  },
  {
   "cell_type": "code",
   "execution_count": 84,
   "metadata": {
    "collapsed": true
   },
   "outputs": [],
   "source": [
    "add_header('Проверка подвязки негрузовых бригад', h=2, p=False)"
   ]
  },
  {
   "cell_type": "code",
   "execution_count": 85,
   "metadata": {
    "collapsed": false
   },
   "outputs": [
    {
     "name": "stdout",
     "output_type": "stream",
     "text": [
      "В плане нет негрузовых бригад с запланированной подвязкой, отличной от подвязки во входных данных\n"
     ]
    }
   ],
   "source": [
    "cols = ['team', 'ttype', 'loco_info', 'st_from_name', 'st_to_name', 'time_start_f', 'state', 'loco']\n",
    "bad_pass_teams = team_plan[(team_plan.ttype == 0) & (team_plan.loco != team_plan.loco_info) \n",
    "                           & (team_plan.state.isin([0, 1]))][cols]\n",
    "if bad_pass_teams.empty:\n",
    "    add_header('В плане нет негрузовых бригад с запланированной подвязкой, отличной от подвязки во входных данных')\n",
    "else:\n",
    "    add_header('Всего %d негрузовых бригад, для которых запланирована подвязка, отличная от подвязки во входных данных:' \n",
    "              % bad_pass_teams.drop_duplicates('team').team.count())\n",
    "    add_line(bad_pass_teams.drop_duplicates('team')[cols].head())"
   ]
  },
  {
   "cell_type": "markdown",
   "metadata": {},
   "source": [
    "## Экспорт в HTML [ToC](#toc)"
   ]
  },
  {
   "cell_type": "code",
   "execution_count": 86,
   "metadata": {
    "collapsed": false
   },
   "outputs": [
    {
     "name": "stdout",
     "output_type": "stream",
     "text": [
      "Отчет сформирован: report/team_report_20160725_174156.html\n"
     ]
    }
   ],
   "source": [
    "filename = REPORT_FOLDER + 'team_report_' + time.strftime('%Y%m%d_%H%M%S', time.localtime(time.time())) + '.html'\n",
    "create_report(filename)"
   ]
  }
 ],
 "metadata": {
  "kernelspec": {
   "display_name": "Python 3",
   "language": "python",
   "name": "python3"
  },
  "language_info": {
   "codemirror_mode": {
    "name": "ipython",
    "version": 3
   },
   "file_extension": ".py",
   "mimetype": "text/x-python",
   "name": "python",
   "nbconvert_exporter": "python",
   "pygments_lexer": "ipython3",
   "version": "3.5.1"
  }
 },
 "nbformat": 4,
 "nbformat_minor": 0
}
