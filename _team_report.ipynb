{
 "cells": [
  {
   "cell_type": "markdown",
   "metadata": {},
   "source": [
    "<a id='toc'></a>\n",
    "# Список тестов по бригадам:"
   ]
  },
  {
   "cell_type": "markdown",
   "metadata": {},
   "source": [
    "1. [Расчет процента подвязки между бригадами и локомотивами.](#perc_assign)\n",
    "2. [Расчет процента запланированных бригад от общего количества бригад на входе планировщика.](#perc_assign2)\n",
    "3. [Распределение между реальными и фейковыми бригадами в результатах планирования.](#real_fake)\n",
    "4. [Составление списка станций и участков, на которых не состоялась подвязка бригады.](#no_assign)\n",
    "5. [Проверка переработки бригад.](#overwork)   \n",
    "6. [Проверка \"скачков\" бригад между станциями.](#leaps)\n",
    "7. [Анализ времен стоянок поездов для смены бригады.](#stop_time)\n",
    "8. [Анализ времен отдыха бригад.](#rest_time)\n",
    "9. [Проверка корректности времен явки бригад во входных данных](#ready_time)\n",
    "10. [Проверка смены бригад на корректных станциях](#change)\n",
    "11. [Проверка отправления бригад до времени явки](#presence)\n",
    "12. [Проверка планирования бригад до времени начала планирования](#before_current_time)\n",
    "13. [Проверка планируемых явок бригад](#presenting)\n",
    "14. [Проверка использования бригад после засылки пассажирами](#check_useful_assign)\n",
    "  1. [Бригады, бесцельно отправляемые пассажирами](#only_pass)\n",
    "  2. [Бригады, у которых запланирована только явка](#only_presence)\n",
    "15. [Проверка подвязки негрузовых бригад](#pass_teams_in_plan)"
   ]
  },
  {
   "cell_type": "markdown",
   "metadata": {},
   "source": [
    "### Константы и настройки"
   ]
  },
  {
   "cell_type": "code",
   "execution_count": 2,
   "metadata": {
    "collapsed": true
   },
   "outputs": [],
   "source": [
    "report = ''\n",
    "FOLDER = 'resources/'\n",
    "REPORT_FOLDER = 'report/'\n",
    "PRINT = True"
   ]
  },
  {
   "cell_type": "code",
   "execution_count": 3,
   "metadata": {
    "collapsed": false
   },
   "outputs": [],
   "source": [
    "time_format = '%b %d, %H:%M'\n",
    "def sprint(s):\n",
    "    print(s.to_string(index=False))\n",
    "    \n",
    "#def scount(df):\n",
    "#    return scount(df, df.columns[0])\n",
    "    \n",
    "def scount(df, col):\n",
    "    return df[col].drop_duplicates().count() if col in df.columns else 0\n",
    "\n",
    "def nice_time(t):\n",
    "    return time.strftime(time_format, time.localtime(t)) if t > 0 else ''"
   ]
  },
  {
   "cell_type": "markdown",
   "metadata": {},
   "source": [
    "### Функции для экспорта в HTML"
   ]
  },
  {
   "cell_type": "code",
   "execution_count": 4,
   "metadata": {
    "collapsed": false
   },
   "outputs": [],
   "source": [
    "def add_line(line, p=PRINT):    \n",
    "    global report        \n",
    "    if p:                \n",
    "        if type(line) == pd.core.frame.DataFrame:\n",
    "            print(line.to_string(index=False))\n",
    "        elif type(line) == pd.core.series.Series:\n",
    "            print(line.to_string())\n",
    "        else:\n",
    "            print(line)\n",
    "    if type(line) == pd.core.frame.DataFrame:        \n",
    "        report += ('%s<br>' % line.to_html(index=False))\n",
    "    elif type(line) == pd.core.series.Series:\n",
    "        report += ('%s<br>' % line.to_frame().reset_index().to_html(index=False))\n",
    "    else:\n",
    "        if line[:2] == '\\n':\n",
    "            line_rep = line[2:]\n",
    "        else:\n",
    "            line_rep = line\n",
    "        report += ('%s<br>' % line_rep)\n",
    "    \n",
    "def add_header(header, h=4, p=PRINT):\n",
    "    global report\n",
    "    report += ('<h%d>%s</h%d>' % (h, header, h))\n",
    "    if p:\n",
    "        print(header)\n",
    "\n",
    "def add_image(filename):\n",
    "    global report\n",
    "    report += ('<img src=\"%s\" alt=\"%s\" height=\"40%%\">' % (filename, filename))\n",
    "\n",
    "def create_report(filename):\n",
    "    global report\n",
    "    report = report.replace('<table border=\"1\" class=\"dataframe\">','<table class=\"table table-striped\">')\n",
    "    html_string = '''\n",
    "        <html>\n",
    "            <head>\n",
    "                <link rel=\"stylesheet\" href=\"skeleton.css\">\n",
    "                <style>body{ margin:20 20; background:whitesmoke; }\n",
    "                table {table-layout : fixed}\n",
    "                </style>\n",
    "            </head>\n",
    "            <body>                \n",
    "                %s\n",
    "            </body>\n",
    "        </html>''' % (report)\n",
    "    f = open(filename,'w', encoding='utf-8-sig')\n",
    "    f.write(html_string)\n",
    "    f.close()\n",
    "    print('Отчет сформирован: %s' % filename)"
   ]
  },
  {
   "cell_type": "markdown",
   "metadata": {},
   "source": [
    "## Загрузка и подготовка данных"
   ]
  },
  {
   "cell_type": "code",
   "execution_count": 5,
   "metadata": {
    "collapsed": false
   },
   "outputs": [
    {
     "name": "stdout",
     "output_type": "stream",
     "text": [
      "Время составления отчета: Jul 22, 09:51\n",
      "Время запуска планировщика: Jul 22, 07:30 (1469161839)\n"
     ]
    }
   ],
   "source": [
    "import numpy as np\n",
    "import pandas as pd\n",
    "import time, datetime\n",
    "from ast import literal_eval\n",
    "import matplotlib.pyplot as plt\n",
    "import seaborn as sns\n",
    "\n",
    "%matplotlib inline\n",
    "plt.style.use('fivethirtyeight')\n",
    "plt.rc('font', family='Times New Roman')\n",
    "\n",
    "pd.set_option('max_rows', 50)\n",
    "\n",
    "time_format = '%b %d, %H:%M'\n",
    "\n",
    "start_time = time.time()\n",
    "current_time = pd.read_csv(FOLDER + 'current_time.csv').current_time[0]\n",
    "twr          = pd.read_csv(FOLDER + 'team_work_region.csv', converters={'twr':str})\n",
    "links        = pd.read_csv(FOLDER + 'link.csv')\n",
    "stations     = pd.read_csv(FOLDER + 'station.csv', converters={'station':str})\n",
    "train_info   = pd.read_csv(FOLDER + 'train_info.csv', converters={'train': str, 'st_from':str, 'st_to':str})\n",
    "train_plan   = pd.read_csv(FOLDER + 'slot_train.csv', converters={'train': str, 'st_from':str, 'st_to':str})\n",
    "loco_info    = pd.read_csv(FOLDER + 'loco_attributes.csv', converters={'train':str, 'loco':str})\n",
    "loco_plan    = pd.read_csv(FOLDER + 'slot_loco.csv', converters={'train':str, 'loco':str, 'st_from':str, 'st_to':str})\n",
    "team_info    = pd.read_csv(FOLDER + 'team_attributes.csv', converters={'team':str,'depot':str, 'oper_location':str, \\\n",
    "                                                                 'st_from':str, 'st_to':str, 'loco':str, 'depot_st':str})\n",
    "team_plan    = pd.read_csv(FOLDER + 'slot_team.csv', converters={'team':str,'loco':str, 'st_from':str, 'st_to':str})\n",
    "loco_series  = pd.read_csv(FOLDER + 'loco_series.csv')\n",
    "\n",
    "team_info.regions = team_info.regions.apply(literal_eval)\n",
    "st_names = stations[['station', 'name', 'esr']].drop_duplicates().set_index('station')\n",
    "print('Время составления отчета:', time.strftime(time_format, time.localtime()))\n",
    "print('Время запуска планировщика: %s (%d)' % (time.strftime(time_format, time.localtime(current_time)), current_time))"
   ]
  },
  {
   "cell_type": "code",
   "execution_count": 6,
   "metadata": {
    "collapsed": true
   },
   "outputs": [],
   "source": [
    "# Мержим таблицы _plan и _info для поездов, локомотивов и бригад\n",
    "# Добавляем во все таблицы названия станций на маршруте и времена отправления/прибытия в читабельном формате\n",
    "\n",
    "def add_info(df):    \n",
    "    if 'st_from' in df.columns:\n",
    "        df['st_from_name'] = df.st_from.map(st_names.name)\n",
    "    if 'st_to' in df.columns:\n",
    "        df['st_to_name'] = df.st_to.map(st_names.name)\n",
    "    if 'time_start' in df.columns:\n",
    "        df['time_start_f'] = df.time_start.apply(lambda x: nice_time(x))\n",
    "    if 'time_end' in df.columns:\n",
    "        df['time_end_f'] = df.time_end.apply(lambda x: nice_time(x))\n",
    "    if 'oper_location' in df.columns:\n",
    "        df['oper_location_name'] = df.oper_location.map(st_names.name)    \n",
    "        df.oper_location_name.fillna(0, inplace=True)\n",
    "    if ('oper_location' in df.columns) & ('st_from' in df.columns) & ('st_to' in df.columns):        \n",
    "        df['loc_name'] = df.oper_location_name\n",
    "        df.loc[df.loc_name == 0, 'loc_name'] = df.st_from_name + ' - ' + df.st_to_name\n",
    "    \n",
    "add_info(train_plan)\n",
    "add_info(loco_plan)\n",
    "add_info(team_plan)\n",
    "add_info(loco_info)\n",
    "add_info(team_info)\n",
    "train_plan = train_plan.merge(train_info, on='train', suffixes=('', '_info'), how='left')\n",
    "loco_plan = loco_plan.merge(loco_info, on='loco', suffixes=('', '_info'), how='left')\n",
    "team_plan = team_plan.merge(team_info, on='team', suffixes=('', '_info'), how='left')\n",
    "team_plan['team_type'] = team_plan.team.apply(lambda x: 'Реальная' if str(x)[0] == '2' else 'Фейковая')"
   ]
  },
  {
   "cell_type": "code",
   "execution_count": 7,
   "metadata": {
    "collapsed": false
   },
   "outputs": [
    {
     "name": "stdout",
     "output_type": "stream",
     "text": [
      "Время сбора данных и запуска планировщика: Jul 22, 07:30\n"
     ]
    }
   ],
   "source": [
    "add_line('Время сбора данных и запуска планировщика: %s' % time.strftime(time_format, time.localtime(current_time)))"
   ]
  },
  {
   "cell_type": "markdown",
   "metadata": {},
   "source": [
    "<a id='perc_assign'></a>\n",
    "## Расчет процента подвязки между локомотивами и бригадами [ToC](#toc)"
   ]
  },
  {
   "cell_type": "code",
   "execution_count": 8,
   "metadata": {
    "collapsed": true
   },
   "outputs": [],
   "source": [
    "add_header('Расчет процента подвязки между локомотивами и бригадами', h=2, p=False)"
   ]
  },
  {
   "cell_type": "code",
   "execution_count": 9,
   "metadata": {
    "collapsed": false
   },
   "outputs": [
    {
     "name": "stdout",
     "output_type": "stream",
     "text": [
      "Локомотивов без бригад на горизонте  6 часов: 31 из 1610 (процент подвязки 98%)\n",
      "Локомотивов без реальных бригад на горизонте  6 часов: 109 из 1610 (процент подвязки 93%)\n",
      "Локомотивов без бригад на горизонте 12 часов: 78 из 1610 (процент подвязки 95%)\n",
      "Локомотивов без реальных бригад на горизонте 12 часов: 222 из 1610 (процент подвязки 86%)\n",
      "Локомотивов без бригад на горизонте 24 часов: 201 из 1610 (процент подвязки 87%)\n",
      "Локомотивов без реальных бригад на горизонте 24 часов: 647 из 1610 (процент подвязки 59%)\n"
     ]
    }
   ],
   "source": [
    "def count_real_assign_percent(hor):\n",
    "    loco_no_team = loco_plan.loc[(loco_plan.time_start < current_time + hor) &\n",
    "                             ((loco_plan.team == -1) | (loco_plan.team_type == 'Фейковая')) &\n",
    "                             (loco_plan.state.isin([0, 1]))]\n",
    "    loco_n = len(loco_plan.drop_duplicates(subset=['loco']).index)\n",
    "    loco_no_team_n = len(loco_no_team.loco.drop_duplicates().index)\n",
    "    percent = 100 - np.round((100 * loco_no_team_n / loco_n), 2)\n",
    "    add_line('Локомотивов без реальных бригад на горизонте %2.d часов: %d из %d (процент подвязки %d%%)' %\n",
    "          (hor / 3600, loco_no_team_n, loco_n, percent))\n",
    "    \n",
    "    \n",
    "def count_assign_percent(hor):\n",
    "    loco_no_team = loco_plan.loc[(loco_plan.time_start < current_time + hor) &\n",
    "                             (loco_plan.team == -1) &\n",
    "                             (loco_plan.state.isin([0, 1]))]\n",
    "    loco_n = len(loco_plan.drop_duplicates(subset=['loco']).index)\n",
    "    loco_no_team_n = len(loco_no_team.loco.drop_duplicates().index)\n",
    "    percent = 100 - np.round((100 * loco_no_team_n / loco_n), 2)\n",
    "    add_line('Локомотивов без бригад на горизонте %2.d часов: %d из %d (процент подвязки %d%%)' %\n",
    "          (hor / 3600, loco_no_team_n, loco_n, percent))\n",
    "    count_real_assign_percent(hor)   \n",
    "\n",
    "    \n",
    "if 'team' not in loco_plan.columns:\n",
    "    loco_plan = loco_plan.set_index(['loco', 'time_start']).join(team_plan.loc[team_plan.state == 1, \\\n",
    "                                                                ['team', 'loco', 'time_start', 'team_type']].\\\n",
    "                                                                 set_index(['loco', 'time_start'])).reset_index()    \n",
    "    loco_plan.team.fillna(-1, inplace=True)\n",
    "\n",
    "count_assign_percent(6 * 3600)\n",
    "count_assign_percent(12 * 3600)\n",
    "count_assign_percent(24 * 3600)"
   ]
  },
  {
   "cell_type": "markdown",
   "metadata": {},
   "source": [
    "<a id='perc_assign2'></a>\n",
    "## Расчет процента запланированных бригад от общего количества [ToC](#toc)"
   ]
  },
  {
   "cell_type": "code",
   "execution_count": 10,
   "metadata": {
    "collapsed": true
   },
   "outputs": [],
   "source": [
    "add_header('Расчет процента запланированных бригад от общего количества бригад на входе', h=2, p=False)"
   ]
  },
  {
   "cell_type": "code",
   "execution_count": 11,
   "metadata": {
    "collapsed": false
   },
   "outputs": [
    {
     "name": "stdout",
     "output_type": "stream",
     "text": [
      "Всего бригад, запланированных с локомотивами в работе: 3834 из 4719 (81.25%)\n"
     ]
    },
    {
     "data": {
      "image/png": "[encoded data removed]",
      "text/plain": [
       "<matplotlib.figure.Figure at 0x1cd3969a668>"
      ]
     },
     "metadata": {},
     "output_type": "display_data"
    }
   ],
   "source": [
    "# team_planned = team_plan.loc[team_plan.state.isin([0, 1])]\n",
    "team_assigned = team_plan.loc[team_plan.state.isin([1])]\n",
    "team_assigned_n = len(team_assigned.drop_duplicates(subset=['team']).index)\n",
    "team_total_n = len(team_info.team.index)\n",
    "team_assigned_percent = team_assigned_n / team_total_n\n",
    "add_line('Всего бригад, запланированных с локомотивами в работе: %d из %d (%.2f%%)' %\n",
    "      (team_assigned_n, team_total_n, 100 * team_assigned_percent))\n",
    "team_info['is_assign'] = team_info.team.isin(team_assigned.team)\n",
    "assign_states = team_info.loc[team_info.is_assign == True, ['team', 'state']].state.astype(str).value_counts().to_frame()\n",
    "initial_states = team_info.state.value_counts().to_frame()\n",
    "initial_states.columns=['Бригады во входных данных']\n",
    "assign_states.columns=['Бригады в результатах']\n",
    "states = initial_states.join(assign_states)\n",
    "states.fillna(0, inplace=True)\n",
    "\n",
    "sns.set_style(\"ticks\")\n",
    "sns.set_context(\"talk\")\n",
    "sns.set_color_codes(\"pastel\")\n",
    "fig = plt.figure()\n",
    "sns.barplot(x='index', y='Бригады во входных данных', data=states.sort_index().reset_index(), \n",
    "            color=\"b\", label='Бригады во входных данных')\n",
    "sns.set_color_codes('muted')\n",
    "ax = sns.barplot(x='index', y='Бригады в результатах', data=states.sort_index().reset_index(), \n",
    "            color=\"b\", label='Бригады в результатах')\n",
    "ax.legend(ncol=1, loc=\"upper right\", frameon=False)\n",
    "ax.set(ylabel='Количество бригад', xlabel='Исходное состояние бригады', \n",
    "       title='Соотношение между количеством запланированных бригад и бригад на входе')\n",
    "sns.despine()\n",
    "filename = 'team_usage.png'\n",
    "plt.savefig(REPORT_FOLDER + filename, bbox_inches='tight')\n",
    "add_image(filename)"
   ]
  },
  {
   "cell_type": "markdown",
   "metadata": {},
   "source": [
    "<a id='real_fake'></a>\n",
    "### Распределение реальных и фейковых бригад в результатах планирования"
   ]
  },
  {
   "cell_type": "code",
   "execution_count": 12,
   "metadata": {
    "collapsed": true
   },
   "outputs": [],
   "source": [
    "add_header('Распределение реальных и фейковых бригад в результатах планирования', h=2, p=False)"
   ]
  },
  {
   "cell_type": "code",
   "execution_count": 13,
   "metadata": {
    "collapsed": false
   },
   "outputs": [
    {
     "data": {
      "image/png": "[encoded data removed]",
      "text/plain": [
       "<matplotlib.figure.Figure at 0x1cd39757518>"
      ]
     },
     "metadata": {},
     "output_type": "display_data"
    }
   ],
   "source": [
    "f = team_plan.drop_duplicates(subset=['team']).team_type.value_counts()\n",
    "fig = plt.figure()\n",
    "ax = f.plot(kind='pie', colormap='Pastel2', figsize=(5,5), autopct='%.2f%%')\n",
    "ax.set_ylabel('')\n",
    "#plt.show()\n",
    "filename = 'real_fake_teams_ratio.png'\n",
    "fig.savefig(REPORT_FOLDER + filename, bbox_inches='tight')\n",
    "add_image(filename)"
   ]
  },
  {
   "cell_type": "markdown",
   "metadata": {},
   "source": [
    "<a id='no_assign'></a>\n",
    "## Cтанции и участки, на которых не состоялась подвязка бригады [ToC](#toc)"
   ]
  },
  {
   "cell_type": "code",
   "execution_count": 14,
   "metadata": {
    "collapsed": true
   },
   "outputs": [],
   "source": [
    "add_header('Станции и участки, на которых не состоялась подвязка бригады', h=2, p=False)"
   ]
  },
  {
   "cell_type": "code",
   "execution_count": 15,
   "metadata": {
    "collapsed": false
   },
   "outputs": [],
   "source": [
    "horizon = 6 * 3600\n",
    "add_line('Горизонт анализа: %d часов' % (horizon / 3600), p=False)\n",
    "loco_mask = (loco_plan.time_start < current_time + horizon)"
   ]
  },
  {
   "cell_type": "code",
   "execution_count": 16,
   "metadata": {
    "collapsed": false
   },
   "outputs": [
    {
     "name": "stdout",
     "output_type": "stream",
     "text": [
      "Станции, на которых не удалось подвязать бригады под локомотив (первые 10):\n",
      "КРАСНОЯРСК-ВОСТОЧНЫЙ                  10\n",
      "КОМСОМОЛЬСК-НА-АМУРЕ-СОРТИРОВОЧНЫЙ     9\n",
      "УЯР                                    3\n",
      "ВЫСОКОГОРНАЯ                           1\n",
      "КОРШУНИХА-АНГАРСКАЯ                    1\n",
      "УРГАЛ I                                1\n",
      "ЕНИСЕЙ                                 1\n",
      "АНИСИМОВКА                             1\n",
      "ХИЛОК                                  1\n",
      "НЕРЮНГРИ-ПАССАЖИРСКАЯ                  1\n",
      "\n",
      "Участки планирования, на которых не удалось подвязать бригады под локомотив (первые 10):\n",
      "st_from_name                        st_to_name          \n",
      "КРАСНОЯРСК-ВОСТОЧНЫЙ                ЗЫКОВО                  10\n",
      "КОМСОМОЛЬСК-НА-АМУРЕ-СОРТИРОВОЧНЫЙ  СЕЛИХИН                  4\n",
      "УЯР                                 ЗЫКОВО                   3\n",
      "КОМСОМОЛЬСК-НА-АМУРЕ-СОРТИРОВОЧНЫЙ  КОМСОМОЛЬСК-НА-АМУРЕ     3\n",
      "                                    МЫЛКИ                    2\n",
      "ХИЛОК                               МОГЗОН                   1\n",
      "УРГАЛ I                             ЧЕГДОМЫН                 1\n",
      "ОБЛУЧЬЕ                             АРХАРА                   1\n",
      "НЕРЮНГРИ-ПАССАЖИРСКАЯ               НЕРЮНГРИ-ГРУЗОВАЯ        1\n",
      "КОРШУНИХА-АНГАРСКАЯ                 ХРЕБТОВАЯ                1\n"
     ]
    }
   ],
   "source": [
    "# Добавляем признак первой станции на маршруте локомотива, где не была подвязана бригада\n",
    "loco_plan.loc[loco_plan.state == 4, 'team'] = 0\n",
    "loco_plan['no_team_start'] = (loco_plan.team == -1) & \\\n",
    "                             ((loco_plan.team != loco_plan.team.shift(1)) | (loco_plan.loco != loco_plan.loco.shift(1)))\n",
    "    \n",
    "loco_cols = ['loco', 'st_from_name', 'st_to_name', 'state', 'time_start_f', 'team', 'no_team_start']\n",
    "fail_team_assign_locos = loco_plan.loc[loco_mask & (loco_plan.no_team_start == True)]\n",
    "fail_team_assign_stations = fail_team_assign_locos.st_from_name.value_counts().head(10)\n",
    "fail_team_assign_tracks = fail_team_assign_locos.groupby('st_from_name').st_to_name.value_counts().\\\n",
    "                            sort_values(ascending=False).head(10)\n",
    "add_header('Станции, на которых не удалось подвязать бригады под локомотив (первые 10):')\n",
    "add_line(fail_team_assign_stations)\n",
    "add_header('\\nУчастки планирования, на которых не удалось подвязать бригады под локомотив (первые 10):')\n",
    "add_line(fail_team_assign_tracks)"
   ]
  },
  {
   "cell_type": "code",
   "execution_count": 17,
   "metadata": {
    "collapsed": false
   },
   "outputs": [
    {
     "name": "stdout",
     "output_type": "stream",
     "text": [
      "Локомотивы, к которым не была подвязана бригада на станции КРАСНОЯРСК-ВОСТОЧНЫЙ, по направлениям:\n",
      "ЗЫКОВО    10\n"
     ]
    }
   ],
   "source": [
    "#st_name = fail_team_assign_stations.head(1).index[0]\n",
    "st_name = 'КРАСНОЯРСК-ВОСТОЧНЫЙ'\n",
    "bad_locos = loco_plan.loc[loco_mask & (loco_plan.st_from_name == st_name) & (loco_plan.no_team_start == True)]\n",
    "if not bad_locos.empty:\n",
    "    add_header('Локомотивы, к которым не была подвязана бригада на станции %s, по направлениям:' % st_name)\n",
    "    add_line(bad_locos.st_to_name.value_counts())"
   ]
  },
  {
   "cell_type": "markdown",
   "metadata": {},
   "source": [
    "<a id='overwork'></a>\n",
    "## Проверка переработки бригад [ToC](#toc)"
   ]
  },
  {
   "cell_type": "code",
   "execution_count": 18,
   "metadata": {
    "collapsed": true
   },
   "outputs": [],
   "source": [
    "add_header('Бригады с переработкой', h=2, p=False)"
   ]
  },
  {
   "cell_type": "markdown",
   "metadata": {},
   "source": [
    "#### Вычисляем последнее время явки для каждого участка на маршруте"
   ]
  },
  {
   "cell_type": "code",
   "execution_count": 19,
   "metadata": {
    "collapsed": false
   },
   "outputs": [],
   "source": [
    "# В поле presence прописываем последнюю явку бригады из входных данных\n",
    "team_info['all_presence'] = list(zip(team_info.depot_time, team_info.return_time))\n",
    "team_info['presence'] = team_info.all_presence.apply(lambda x: max(x))\n",
    "team_info['presence_norm'] = team_info.presence.apply(lambda x: time.strftime(time_format, time.localtime(x)) if x>0 else x)\n",
    "team_plan['info_presence'] = team_plan.team.map(team_info.set_index('team').presence)\n",
    "team_plan['info_presence_norm'] = team_plan.info_presence\\\n",
    "            .apply(lambda x: time.strftime(time_format, time.localtime(x)) if x>0 else x)\n",
    "team_plan['info_presence'] = team_plan.info_presence.apply(lambda x: [] if np.isnan(x) else [int(x)])\n",
    "\n",
    "# Собираем все запланированные явки бригады. \n",
    "# Если ни одной явки не запланировано, то проставляем фейковые явки: время первого отправления (после отдыха) минус 1 час\n",
    "team_plan['start_trip'] = team_plan.state.isin([0, 1]) \\\n",
    "                & ((team_plan.team != team_plan.team.shift(1)) | (team_plan.state.shift(1) == 4))\n",
    "team_plan['fake_plan_presence'] = team_plan.team.map(team_plan[team_plan.start_trip].groupby('team').time_start.unique() - 3600)\n",
    "team_plan.fake_plan_presence.fillna(0, inplace=True)\n",
    "team_plan['fake_plan_presence'] = team_plan.fake_plan_presence.apply(lambda x: [] if (type(x) == int) else x)\n",
    "team_plan['plan_presence'] = team_plan.team.map(team_plan[team_plan.state == 2].groupby('team').time_start.unique())\n",
    "team_plan.plan_presence.fillna(0, inplace=True)\n",
    "team_plan['plan_presence'] = team_plan.plan_presence.apply(lambda x: [] if (type(x) == int) else x)"
   ]
  },
  {
   "cell_type": "code",
   "execution_count": 20,
   "metadata": {
    "collapsed": false
   },
   "outputs": [
    {
     "data": {
      "text/html": [
       "<div>\n",
       "<table border=\"1\" class=\"dataframe\">\n",
       "  <thead>\n",
       "    <tr style=\"text-align: right;\">\n",
       "      <th></th>\n",
       "      <th>team</th>\n",
       "      <th>st_from_name</th>\n",
       "      <th>time_start</th>\n",
       "      <th>state</th>\n",
       "      <th>info_presence</th>\n",
       "      <th>info_presence_norm</th>\n",
       "      <th>plan_presence</th>\n",
       "      <th>fake_plan_presence</th>\n",
       "      <th>curr_presence</th>\n",
       "    </tr>\n",
       "  </thead>\n",
       "  <tbody>\n",
       "  </tbody>\n",
       "</table>\n",
       "</div>"
      ],
      "text/plain": [
       "Empty DataFrame\n",
       "Columns: [team, st_from_name, time_start, state, info_presence, info_presence_norm, plan_presence, fake_plan_presence, curr_presence]\n",
       "Index: []"
      ]
     },
     "execution_count": 20,
     "metadata": {},
     "output_type": "execute_result"
    }
   ],
   "source": [
    "def get_curr_presence(row):\n",
    "    real_presence = np.concatenate([row.info_presence, row.plan_presence])   \n",
    "    if len(real_presence) > 0:\n",
    "        presence_list = real_presence\n",
    "    elif len(row.fake_plan_presence) > 0:\n",
    "        presence_list = row.fake_plan_presence\n",
    "    else:\n",
    "        return current_time\n",
    "        \n",
    "    t = row.time_start\n",
    "    b = [x for x in presence_list if x <= t]\n",
    "    return int(max(b)) if b != [] else (row.fake_plan_presence[0] if len(row.fake_plan_presence) > 0 else current_time)   \n",
    "    \n",
    "    \n",
    "team_plan['curr_presence'] = team_plan.apply(lambda row: get_curr_presence(row), axis=1)\n",
    "cols = ['team', 'st_from_name', 'time_start', 'state', 'info_presence', 'info_presence_norm', \n",
    "        'plan_presence', 'fake_plan_presence', 'curr_presence']\n",
    "team_plan[team_plan.team == '777700001868'][cols]"
   ]
  },
  {
   "cell_type": "markdown",
   "metadata": {},
   "source": [
    "#### Составляем таблицу team_trips с поездками бригад"
   ]
  },
  {
   "cell_type": "code",
   "execution_count": 21,
   "metadata": {
    "collapsed": false
   },
   "outputs": [],
   "source": [
    "cols = ['team', 'state', 'st_from_name', 'st_to_name', 'time_start', 'time_end', 'loco', 'start_trip', 'end_trip', \n",
    "        'start_trip_time', 'end_trip_time']\n",
    "team_plan['end_trip'] = ((team_plan.team != team_plan.team.shift(-1)) & (team_plan.state == 1)) | \\\n",
    "                        ((team_plan.state == 1) & (team_plan.state.shift(-1).isin([0, 2, 4])))\n",
    "team_plan.loc[team_plan.end_trip == True, 'end_trip_time'] = team_plan.time_end\n",
    "team_plan['start_trip'] = ((team_plan.state == 1) & (team_plan.team != team_plan.team.shift(1))) | \\\n",
    "                        ((team_plan.state == 1) & (team_plan.state.shift(1).isin([0, 2, 4])))\n",
    "team_plan.loc[team_plan.start_trip == True, 'start_trip_time'] = team_plan.time_start\n",
    "start_trips = team_plan.dropna(subset=['start_trip_time'])\n",
    "end_trips = team_plan.dropna(subset=['end_trip_time'])\n",
    "\n",
    "frames = [start_trips.reset_index()[['team', 'state', 'st_from_name', 'start_trip_time']],\n",
    "          end_trips.reset_index()[['st_to_name', 'end_trip_time', 'curr_presence']]]\n",
    "team_trips = pd.concat(frames, axis=1, ignore_index=True)\n",
    "team_trips.columns = ['team', 'state', 'st_from_name', 'time_start', 'st_to_name', 'time_end', 'curr_presence']\n",
    "add_info(team_trips)\n",
    "team_trips['curr_presence_norm'] = team_trips.curr_presence.apply(lambda x: time.strftime(time_format, time.localtime(x)))"
   ]
  },
  {
   "cell_type": "code",
   "execution_count": 22,
   "metadata": {
    "collapsed": false
   },
   "outputs": [
    {
     "data": {
      "text/html": [
       "<div>\n",
       "<table border=\"1\" class=\"dataframe\">\n",
       "  <thead>\n",
       "    <tr style=\"text-align: right;\">\n",
       "      <th></th>\n",
       "      <th>team</th>\n",
       "      <th>state</th>\n",
       "      <th>st_from_name</th>\n",
       "      <th>time_start</th>\n",
       "      <th>st_to_name</th>\n",
       "      <th>time_end</th>\n",
       "      <th>curr_presence</th>\n",
       "      <th>time_start_f</th>\n",
       "      <th>time_end_f</th>\n",
       "      <th>curr_presence_norm</th>\n",
       "    </tr>\n",
       "  </thead>\n",
       "  <tbody>\n",
       "  </tbody>\n",
       "</table>\n",
       "</div>"
      ],
      "text/plain": [
       "Empty DataFrame\n",
       "Columns: [team, state, st_from_name, time_start, st_to_name, time_end, curr_presence, time_start_f, time_end_f, curr_presence_norm]\n",
       "Index: []"
      ]
     },
     "execution_count": 22,
     "metadata": {},
     "output_type": "execute_result"
    }
   ],
   "source": [
    "team_trips[team_trips.team == '777700001868']"
   ]
  },
  {
   "cell_type": "markdown",
   "metadata": {},
   "source": [
    "#### Загружаем нормы рабочего времени и составляем таблицу по нормам для каждой бригады"
   ]
  },
  {
   "cell_type": "code",
   "execution_count": 23,
   "metadata": {
    "collapsed": true
   },
   "outputs": [],
   "source": [
    "WORK_TIME_LIMIT = 11 #hours"
   ]
  },
  {
   "cell_type": "code",
   "execution_count": 24,
   "metadata": {
    "collapsed": false
   },
   "outputs": [],
   "source": [
    "def get_cmp(row):\n",
    "    d, l = row.depot, row.link    \n",
    "    try:\n",
    "        res = trd.ix[d].link.apply(lambda x: len(np.intersect1d(x, l))).idxmax()        \n",
    "    except:\n",
    "        res = -1\n",
    "    return res\n",
    "\n",
    "team_region = pd.read_csv(FOLDER + 'team_region.csv', dtype={'st_from':str, 'st_to':str, 'depot':str})\n",
    "add_info(team_region)\n",
    "team_region['link'] = list(zip(team_region.st_from, team_region.st_to))\n",
    "team_plan['link'] = list(zip(team_plan.st_from, team_plan.st_to))\n",
    "tr_links = team_region.groupby(['team_region', 'depot']).link.unique().to_frame().reset_index()\n",
    "if not tr_links.empty:\n",
    "    trd = tr_links.set_index(['depot', 'team_region'])\n",
    "else:\n",
    "    trd = tr_links\n",
    "team_links = team_plan[team_plan.state.isin([0, 1])].groupby(['team', 'depot']).link.unique().to_frame().reset_index()\n",
    "team_links['team_region'] = team_links.apply(lambda row: get_cmp(row), axis=1)\n",
    "\n",
    "team_links['tr_depot'] = list(zip(team_links.team_region, team_links.depot))\n",
    "team_region['tr_depot'] = list(zip(team_region.team_region, team_region.depot))\n",
    "team_links['time_f'] = team_links.tr_depot.map(team_region.drop_duplicates('tr_depot').set_index('tr_depot').time_f)\n",
    "team_links['time_b'] = team_links.tr_depot.map(team_region.drop_duplicates('tr_depot').set_index('tr_depot').time_b)\n",
    "team_links['time_wr'] = team_links.tr_depot.map(team_region.drop_duplicates('tr_depot').set_index('tr_depot').time_wr)\n",
    "#team_links.head()"
   ]
  },
  {
   "cell_type": "code",
   "execution_count": 25,
   "metadata": {
    "collapsed": false
   },
   "outputs": [
    {
     "data": {
      "text/html": [
       "<div>\n",
       "<table border=\"1\" class=\"dataframe\">\n",
       "  <thead>\n",
       "    <tr style=\"text-align: right;\">\n",
       "      <th></th>\n",
       "      <th>team</th>\n",
       "      <th>time_f</th>\n",
       "      <th>time_b</th>\n",
       "      <th>time_wr</th>\n",
       "    </tr>\n",
       "  </thead>\n",
       "  <tbody>\n",
       "    <tr>\n",
       "      <th>0</th>\n",
       "      <td>200020608490</td>\n",
       "      <td>NaN</td>\n",
       "      <td>NaN</td>\n",
       "      <td>NaN</td>\n",
       "    </tr>\n",
       "    <tr>\n",
       "      <th>1</th>\n",
       "      <td>200020727792</td>\n",
       "      <td>NaN</td>\n",
       "      <td>NaN</td>\n",
       "      <td>NaN</td>\n",
       "    </tr>\n",
       "    <tr>\n",
       "      <th>2</th>\n",
       "      <td>200020843445</td>\n",
       "      <td>NaN</td>\n",
       "      <td>NaN</td>\n",
       "      <td>NaN</td>\n",
       "    </tr>\n",
       "    <tr>\n",
       "      <th>3</th>\n",
       "      <td>200020873020</td>\n",
       "      <td>NaN</td>\n",
       "      <td>NaN</td>\n",
       "      <td>NaN</td>\n",
       "    </tr>\n",
       "    <tr>\n",
       "      <th>4</th>\n",
       "      <td>200021296482</td>\n",
       "      <td>NaN</td>\n",
       "      <td>NaN</td>\n",
       "      <td>NaN</td>\n",
       "    </tr>\n",
       "  </tbody>\n",
       "</table>\n",
       "</div>"
      ],
      "text/plain": [
       "           team time_f time_b time_wr\n",
       "0  200020608490    NaN    NaN     NaN\n",
       "1  200020727792    NaN    NaN     NaN\n",
       "2  200020843445    NaN    NaN     NaN\n",
       "3  200020873020    NaN    NaN     NaN\n",
       "4  200021296482    NaN    NaN     NaN"
      ]
     },
     "execution_count": 25,
     "metadata": {},
     "output_type": "execute_result"
    }
   ],
   "source": [
    "time_limit = team_links[['team', 'time_f', 'time_b', 'time_wr']]\n",
    "time_limit.head()"
   ]
  },
  {
   "cell_type": "markdown",
   "metadata": {},
   "source": [
    "#### Вычисляем переработки, предварительно удалив выбросы"
   ]
  },
  {
   "cell_type": "code",
   "execution_count": 26,
   "metadata": {
    "collapsed": false
   },
   "outputs": [
    {
     "name": "stdout",
     "output_type": "stream",
     "text": [
      "Всего 2 бригад с явно некорретными (более суток назад) временами последеней явки. Примеры:\n",
      "         team             st_from_name  st_to_name   time_start_f     time_end_f curr_presence_norm\n",
      " 200200220399                    БИКИН  КРУГЛИКОВО  Jul 21, 14:03  Jul 21, 17:07      Jul 20, 07:00\n",
      " 200200158511  КОМСОМОЛЬСК-НА-АМУРЕ II      ЭВОРОН  Jul 21, 14:57  Jul 21, 18:58      Jul 21, 06:00\n"
     ]
    }
   ],
   "source": [
    "cols = ['team', 'st_from_name', 'st_to_name', 'time_start_f', 'time_end_f', 'curr_presence_norm']\n",
    "outliers = team_trips[team_trips.curr_presence < current_time - 24 * 3600]\n",
    "#outliers = team_trips[team_trips.info_presence < current_time - 24 * 3600]\n",
    "outliers_n = outliers.team.count()\n",
    "add_header('Всего %d бригад с явно некорретными (более суток назад) временами последеней явки. Примеры:' % outliers_n)\n",
    "add_line(outliers.sort_values('curr_presence_norm').head(10 if outliers_n > 20 else outliers_n)[cols])"
   ]
  },
  {
   "cell_type": "code",
   "execution_count": 27,
   "metadata": {
    "collapsed": false
   },
   "outputs": [
    {
     "data": {
      "text/html": [
       "<div>\n",
       "<table border=\"1\" class=\"dataframe\">\n",
       "  <thead>\n",
       "    <tr style=\"text-align: right;\">\n",
       "      <th></th>\n",
       "      <th>team</th>\n",
       "      <th>st_from_name</th>\n",
       "      <th>st_to_name</th>\n",
       "      <th>curr_presence_norm</th>\n",
       "      <th>time_start_f</th>\n",
       "      <th>time_end_f</th>\n",
       "      <th>time_limit</th>\n",
       "      <th>time_limit_no_rest</th>\n",
       "    </tr>\n",
       "  </thead>\n",
       "  <tbody>\n",
       "    <tr>\n",
       "      <th>0</th>\n",
       "      <td>200200105777</td>\n",
       "      <td>ИРКУТСК-СОРТИРОВОЧНЫЙ</td>\n",
       "      <td>СУХОВСКАЯ</td>\n",
       "      <td>Jul 22, 12:32</td>\n",
       "      <td>Jul 22, 14:26</td>\n",
       "      <td>Jul 22, 14:48</td>\n",
       "      <td>39600</td>\n",
       "      <td>39600</td>\n",
       "    </tr>\n",
       "    <tr>\n",
       "      <th>1</th>\n",
       "      <td>200200171649</td>\n",
       "      <td>СЕЛИХИН</td>\n",
       "      <td>КОМСОМОЛЬСК-НА-АМУРЕ-...</td>\n",
       "      <td>Jul 21, 19:35</td>\n",
       "      <td>Jul 22, 04:09</td>\n",
       "      <td>Jul 22, 05:58</td>\n",
       "      <td>39600</td>\n",
       "      <td>39600</td>\n",
       "    </tr>\n",
       "    <tr>\n",
       "      <th>2</th>\n",
       "      <td>200200225249</td>\n",
       "      <td>УССУРИЙСК</td>\n",
       "      <td>РУЖИНО</td>\n",
       "      <td>Jul 22, 07:08</td>\n",
       "      <td>Jul 22, 08:20</td>\n",
       "      <td>Jul 22, 12:21</td>\n",
       "      <td>39600</td>\n",
       "      <td>39600</td>\n",
       "    </tr>\n",
       "    <tr>\n",
       "      <th>3</th>\n",
       "      <td>200200251214</td>\n",
       "      <td>КАРЫМСКАЯ</td>\n",
       "      <td>ЧИТА I</td>\n",
       "      <td>Jul 22, 00:40</td>\n",
       "      <td>Jul 22, 02:10</td>\n",
       "      <td>Jul 22, 04:10</td>\n",
       "      <td>39600</td>\n",
       "      <td>39600</td>\n",
       "    </tr>\n",
       "    <tr>\n",
       "      <th>4</th>\n",
       "      <td>200200251210</td>\n",
       "      <td>БЕЛОГОРСК II</td>\n",
       "      <td>МАГДАГАЧИ</td>\n",
       "      <td>Jul 22, 16:14</td>\n",
       "      <td>Jul 22, 16:55</td>\n",
       "      <td>Jul 23, 00:18</td>\n",
       "      <td>39600</td>\n",
       "      <td>39600</td>\n",
       "    </tr>\n",
       "  </tbody>\n",
       "</table>\n",
       "</div>"
      ],
      "text/plain": [
       "           team           st_from_name                st_to_name  \\\n",
       "0  200200105777  ИРКУТСК-СОРТИРОВОЧНЫЙ                 СУХОВСКАЯ   \n",
       "1  200200171649                СЕЛИХИН  КОМСОМОЛЬСК-НА-АМУРЕ-...   \n",
       "2  200200225249              УССУРИЙСК                    РУЖИНО   \n",
       "3  200200251214              КАРЫМСКАЯ                    ЧИТА I   \n",
       "4  200200251210           БЕЛОГОРСК II                 МАГДАГАЧИ   \n",
       "\n",
       "  curr_presence_norm   time_start_f     time_end_f  time_limit  \\\n",
       "0      Jul 22, 12:32  Jul 22, 14:26  Jul 22, 14:48       39600   \n",
       "1      Jul 21, 19:35  Jul 22, 04:09  Jul 22, 05:58       39600   \n",
       "2      Jul 22, 07:08  Jul 22, 08:20  Jul 22, 12:21       39600   \n",
       "3      Jul 22, 00:40  Jul 22, 02:10  Jul 22, 04:10       39600   \n",
       "4      Jul 22, 16:14  Jul 22, 16:55  Jul 23, 00:18       39600   \n",
       "\n",
       "   time_limit_no_rest  \n",
       "0               39600  \n",
       "1               39600  \n",
       "2               39600  \n",
       "3               39600  \n",
       "4               39600  "
      ]
     },
     "execution_count": 27,
     "metadata": {},
     "output_type": "execute_result"
    }
   ],
   "source": [
    "pd.set_option('display.max_colwidth', 25)\n",
    "# Оставляем только корректные бригады\n",
    "team_trips = team_trips[(team_trips.team.isin(outliers.team) == False) & (team_trips.time_start < current_time + 24 * 3600)]\n",
    "team_trips['time_limit'] = team_trips.team.map(time_limit.set_index('team').time_f)\n",
    "team_trips['time_limit_no_rest'] = team_trips.team.map(time_limit.set_index('team').time_wr)\n",
    "team_trips.time_limit.fillna(WORK_TIME_LIMIT * 3600, inplace=True)\n",
    "team_trips.time_limit_no_rest.fillna(WORK_TIME_LIMIT * 3600, inplace=True)\n",
    "team_trips[['team', 'st_from_name', 'st_to_name', 'curr_presence_norm', 'time_start_f', 'time_end_f', 'time_limit', 'time_limit_no_rest']].head()"
   ]
  },
  {
   "cell_type": "code",
   "execution_count": 28,
   "metadata": {
    "collapsed": false
   },
   "outputs": [
    {
     "name": "stdout",
     "output_type": "stream",
     "text": [
      "Количество бригад с переработкой (показаны первые 10 интервалов):\n",
      "(0, 1]      89\n",
      "(1, 2]      49\n",
      "(2, 3]      43\n",
      "(3, 4]      16\n",
      "(4, 5]       5\n",
      "(5, 6]      16\n",
      "(6, 7]       5\n",
      "(7, 8]      10\n",
      "(9, 10]      4\n",
      "(11, 12]     3\n"
     ]
    }
   ],
   "source": [
    "team_trips['work_time'] = np.round(((team_trips.time_end - team_trips.curr_presence) / 3600), 2)\n",
    "#team_trips['overtime'] = team_trips.work_time.apply(lambda x: np.max([x - WORK_TIME_LIMIT, 0]))\n",
    "team_trips['overtime'] = np.round((team_trips.time_end - team_trips.curr_presence - team_trips.time_limit) / 3600, 2)\n",
    "team_trips['overtime'] = team_trips.overtime.apply(lambda x: 0 if x < 0 else x)\n",
    "cols = ['team', 'st_from_name', 'st_to_name', 'curr_presence_norm', 'time_end_f', 'overtime' ]\n",
    "add_header('Количество бригад с переработкой (показаны первые 10 интервалов):')\n",
    "add_line(pd.cut(team_trips.overtime, bins=np.arange(int(team_trips.overtime.max()) + 2), include_lowest=False)\\\n",
    "      .value_counts().head(10).sort_index())"
   ]
  },
  {
   "cell_type": "code",
   "execution_count": 29,
   "metadata": {
    "collapsed": false
   },
   "outputs": [
    {
     "name": "stdout",
     "output_type": "stream",
     "text": [
      "\n",
      "Бригады с переработкой больше 2 часов (всего 113):\n",
      "         team              st_from_name         st_to_name curr_presence_norm   time_start_f     time_end_f  overtime\n",
      " 200200261515                    ЛЕСНАЯ              ХИЛОК      Jul 21, 12:30  Jul 22, 08:15  Jul 22, 17:29     17.99\n",
      " 200200209876                   ОБЛУЧЬЕ       ХАБАРОВСК II      Jul 21, 16:15  Jul 22, 09:10  Jul 22, 19:40     16.42\n",
      " 200200182869               НОВЫЙ УРГАЛ            УРГАЛ I      Jul 22, 01:00  Jul 23, 02:20  Jul 23, 02:53     14.90\n",
      " 200200231246                 МАГДАГАЧИ        СКОВОРОДИНО      Jul 21, 19:40  Jul 22, 08:55  Jul 22, 20:51     14.19\n",
      " 200200252600  КОМСОМОЛЬСК-НА-АМУРЕ-...       ВЫСОКОГОРНАЯ      Jul 21, 19:39  Jul 22, 11:40  Jul 22, 19:54     13.25\n",
      " 200200175667                   КУВЫКТА             ЮКТАЛИ      Jul 21, 16:17  Jul 22, 08:00  Jul 22, 15:51     12.57\n",
      " 200200220080                    КАДАЛА             ЧИТА I      Jul 21, 10:20  Jul 22, 08:50  Jul 22, 09:00     11.67\n",
      " 200200158840                 МАГДАГАЧИ    ЕРОФЕЙ ПАВЛОВИЧ      Jul 21, 20:00  Jul 22, 09:10  Jul 22, 18:31     11.53\n",
      " 200200257518                  ИЛАНСКАЯ           ИЛАНСКАЯ      Jul 22, 06:27  Jul 22, 20:47  Jul 23, 04:50     11.38\n",
      " 200200110590                 КУЗНЕЦОВО        СМОЛЯНИНОВО      Jul 21, 22:20  Jul 22, 08:30  Jul 22, 20:09     10.82\n",
      " 200200176486                  БЕРКАКИТ  НЕРЮНГРИ-ГРУЗОВАЯ      Jul 22, 00:01  Jul 22, 12:35  Jul 22, 21:19     10.31\n",
      " 200200116029          ПЕТРОВСКИЙ ЗАВОД             ЧИТА I      Jul 21, 19:50  Jul 22, 08:25  Jul 22, 16:54     10.07\n",
      " 200200240898                  САЯНСКАЯ             АБАКАН      Jul 21, 20:40  Jul 22, 08:25  Jul 22, 17:12      9.55\n",
      " 200200257825          ПЕТРОВСКИЙ ЗАВОД             ЧИТА I      Jul 21, 21:20  Jul 22, 09:15  Jul 22, 17:48      9.48\n",
      " 200200136078              ХАБАРОВСК II            ОБЛУЧЬЕ      Jul 22, 01:00  Jul 22, 10:20  Jul 22, 21:26      9.45\n",
      " 200200253076                     МЫЛКИ      ВОЛОЧАЕВКА II      Jul 21, 22:02  Jul 22, 05:38  Jul 22, 18:09      9.13\n",
      " 200200207488              БЕЛОГОРСК II          МАГДАГАЧИ      Jul 21, 21:05  Jul 22, 09:55  Jul 22, 16:54      8.82\n",
      " 200200261429              БЕЛОГОРСК II            ОБЛУЧЬЕ      Jul 21, 21:25  Jul 22, 10:25  Jul 22, 16:35      8.18\n",
      " 200200144061                     ХИЛОК           УЛАН-УДЭ      Jul 21, 23:50  Jul 22, 07:35  Jul 22, 18:39      7.83\n",
      " 200200272623              МЕЖДУРЕЧЕНСК       ОРОСИТЕЛЬНЫЙ      Jul 21, 21:30  Jul 22, 08:30  Jul 22, 16:13      7.72\n",
      "\n",
      "Распределение бригад с переработкой больше 2 часов по типу:\n",
      "Реальная    111\n",
      "Фейковая      2\n"
     ]
    }
   ],
   "source": [
    "pd.set_option('display.max_colwidth', 25)\n",
    "cols = ['team', 'st_from_name', 'st_to_name', 'curr_presence_norm', 'time_start_f', 'time_end_f', 'overtime' ]\n",
    "add_header('\\nБригады с переработкой больше 2 часов (всего %d):' % len(team_trips.loc[team_trips.overtime > 2].index))\n",
    "add_line(team_trips.loc[team_trips.overtime > 2, cols].sort_values('overtime', ascending=False).head(20))\n",
    "\n",
    "add_header('\\nРаспределение бригад с переработкой больше 2 часов по типу:')\n",
    "team_trips['team_type'] = team_trips.team.map(team_plan.drop_duplicates('team').set_index('team').team_type)\n",
    "add_line(team_trips.loc[team_trips.overtime > 2].team_type.value_counts())"
   ]
  },
  {
   "cell_type": "code",
   "execution_count": 30,
   "metadata": {
    "collapsed": false
   },
   "outputs": [
    {
     "name": "stdout",
     "output_type": "stream",
     "text": [
      "Примеры планов бригад с переработками:\n",
      "Бригада 200200261515:\n",
      "         team depot_st_name   depot_time_f return_time_f state          loco loc_name\n",
      " 200200261515         ХИЛОК  Jul 21, 12:30                   6  200200106390   ЛЕСНАЯ\n",
      "         team st_from_name st_to_name  state   time_start_f     time_end_f          loco\n",
      " 200200261515       ЛЕСНАЯ     КАДАЛА      1  Jul 22, 08:15  Jul 22, 09:21  200200106390\n",
      " 200200261515       КАДАЛА     ЧИТА I      1  Jul 22, 09:21  Jul 22, 09:30  200200106390\n",
      " 200200261515       ЧИТА I     КАДАЛА      1  Jul 22, 12:09  Jul 22, 12:19  200200197565\n",
      " 200200261515       КАДАЛА     ЛЕСНАЯ      1  Jul 22, 12:19  Jul 22, 13:15  200200197565\n",
      " 200200261515       ЛЕСНАЯ   ТУРГУТУЙ      1  Jul 22, 13:15  Jul 22, 13:55  200200197565\n",
      " 200200261515     ТУРГУТУЙ     МОГЗОН      1  Jul 22, 13:55  Jul 22, 15:03  200200197565\n",
      " 200200261515       МОГЗОН      ХИЛОК      1  Jul 22, 15:03  Jul 22, 17:29  200200197565\n",
      "\n",
      "Бригада 200200209876:\n",
      "         team depot_st_name   depot_time_f return_time_f state          loco loc_name\n",
      " 200200209876  ХАБАРОВСК II  Jul 21, 16:15                   6  200200034293  ОБЛУЧЬЕ\n",
      "         team     st_from_name       st_to_name  state   time_start_f     time_end_f          loco\n",
      " 200200209876          ОБЛУЧЬЕ      ИЗВЕСТКОВАЯ      1  Jul 22, 09:10  Jul 22, 09:59  200200102043\n",
      " 200200209876      ИЗВЕСТКОВАЯ             БИРА      1  Jul 22, 09:59  Jul 22, 11:23  200200102043\n",
      " 200200209876             БИРА              NaN      1  Jul 22, 15:16  Jul 22, 16:01  200200089463\n",
      " 200200209876              NaN     ВОЛОЧАЕВКА I      1  Jul 22, 16:01  Jul 22, 18:11  200200089463\n",
      " 200200209876     ВОЛОЧАЕВКА I       ТУНГУССКИЙ      1  Jul 22, 18:11  Jul 22, 18:17  200200089463\n",
      " 200200209876       ТУНГУССКИЙ         ДЕЖНЕВКА      1  Jul 22, 18:17  Jul 22, 18:22  200200089463\n",
      " 200200209876         ДЕЖНЕВКА      ПРИАМУРСКАЯ      1  Jul 22, 18:22  Jul 22, 18:40  200200089463\n",
      " 200200209876      ПРИАМУРСКАЯ  ПОСТ-ПОКРОВСКИЙ      1  Jul 22, 18:40  Jul 22, 18:45  200200089463\n",
      " 200200209876  ПОСТ-ПОКРОВСКИЙ             АМУР      1  Jul 22, 18:45  Jul 22, 19:00  200200089463\n",
      " 200200209876             АМУР      ХАБАРОВСК I      1  Jul 22, 19:00  Jul 22, 19:29  200200089463\n",
      " 200200209876      ХАБАРОВСК I     ХАБАРОВСК II      1  Jul 22, 19:29  Jul 22, 19:40  200200089463\n",
      "\n",
      "Бригада 200200182869:\n",
      "         team depot_st_name   depot_time_f return_time_f state          loco     loc_name\n",
      " 200200182869   НОВЫЙ УРГАЛ  Jul 22, 01:00                   5  200200068003  НОВЫЙ УРГАЛ\n",
      "         team st_from_name   st_to_name  state   time_start_f     time_end_f          loco\n",
      " 200200182869  НОВЫЙ УРГАЛ      УРГАЛ I      1  Jul 23, 02:20  Jul 23, 02:53  200200030418\n",
      " 200200182869      УРГАЛ I      УРГАЛ I      4  Jul 23, 03:23  Jul 23, 11:32            -1\n",
      " 200200182869      УРГАЛ I  НОВЫЙ УРГАЛ      0  Jul 23, 11:32  Jul 23, 11:52            -1\n",
      "\n"
     ]
    }
   ],
   "source": [
    "team_ids = team_trips.loc[team_trips.overtime > 2].sort_values('overtime', ascending=False).team.values[:3]\n",
    "#team_id = '777700001868'\n",
    "cols = ['team', 'st_from_name', 'st_to_name', 'state', 'time_start_f', 'time_end_f', 'loco']\n",
    "team_info['depot_time_f'] = team_info.depot_time.apply(nice_time)\n",
    "team_info['return_time_f'] = team_info.return_time.apply(nice_time)\n",
    "team_info['depot_st_name'] = team_info.depot_st.map(st_names.name)\n",
    "add_header('Примеры планов бригад с переработками:')\n",
    "for team_id in team_ids:\n",
    "    add_line('Бригада %s:' % team_id)\n",
    "    add_line(team_info[team_info.team == team_id][['team', 'depot_st_name', 'depot_time_f', 'return_time_f', 'state', 'loco', 'loc_name']])\n",
    "    add_line(team_plan[team_plan.team == team_id][cols])\n",
    "    add_line('')"
   ]
  },
  {
   "cell_type": "code",
   "execution_count": 31,
   "metadata": {
    "collapsed": false
   },
   "outputs": [
    {
     "data": {
      "image/png": "[encoded data removed]",
      "text/plain": [
       "<matplotlib.figure.Figure at 0x1cd3e048198>"
      ]
     },
     "metadata": {},
     "output_type": "display_data"
    }
   ],
   "source": [
    "sns.set_style('whitegrid')\n",
    "sns.set_context('notebook')\n",
    "sns.set_color_codes('dark')\n",
    "fig = plt.figure()\n",
    "to_hist = team_trips.loc[team_trips.overtime > 0].overtime\n",
    "ax = sns.distplot(to_hist, bins=20, color='b', hist=False, kde_kws={'shade':True})\n",
    "title = '''Бригады с переработкой\n",
    "(среднее время переработки %.2f ч., медиана %.2f ч.)\n",
    "(всего %d бригад с переработкой более 2 часов)''' % \\\n",
    "            (to_hist.mean(), to_hist.median(), len(team_trips.loc[team_trips.overtime > 2].index))\n",
    "ax.set(title=title, xlabel='Переработка (час)')\n",
    "#sns.despine()\n",
    "filename = 'team_overwork.png'\n",
    "fig.savefig(REPORT_FOLDER + filename, bbox_inches='tight')\n",
    "add_image(filename)"
   ]
  },
  {
   "cell_type": "markdown",
   "metadata": {},
   "source": [
    "<a id='leaps'></a>\n",
    "## Скачки по станциям на маршруте бригад [ToC](#toc)"
   ]
  },
  {
   "cell_type": "code",
   "execution_count": 32,
   "metadata": {
    "collapsed": true
   },
   "outputs": [],
   "source": [
    "add_header('Скачки по станциям на маршруте бригад', h=2, p=False)"
   ]
  },
  {
   "cell_type": "markdown",
   "metadata": {},
   "source": [
    "### Скачки внутри планируемого маршрута бригад"
   ]
  },
  {
   "cell_type": "code",
   "execution_count": 33,
   "metadata": {
    "collapsed": false
   },
   "outputs": [
    {
     "name": "stdout",
     "output_type": "stream",
     "text": [
      "\n",
      "Всего бригад, у которых есть скачки на маршруте: 243\n",
      "Всего скачков на маршруте бригад: 264 (показаны первые 10):\n",
      "         team         st_from_name           st_to_name              next_st   time_start_f     time_end_f  state state_info\n",
      " 200200216511  ИРКУТСК-СОРТИРОВ...  ИРКУТСК-СОРТИРОВ...                  КАЯ  Jul 22, 20:49  Jul 22, 22:43      2          3\n",
      " 200200105739  КОМСОМОЛЬСК-НА-А...  КОМСОМОЛЬСК-НА-А...  КОМСОМОЛЬСК-НА-А...  Jul 22, 19:02  Jul 22, 19:07      1          3\n",
      " 200200074745            ВИХОРЕВКА            ВИХОРЕВКА            БАГУЛЬНАЯ  Jul 22, 07:23  Jul 22, 09:10      2          3\n",
      " 200200225165            БЕЛОГОРСК            БЕЛОГОРСК         БЕЛОГОРСК II  Jul 22, 19:55  Jul 22, 21:13      2          3\n",
      " 200200225165         БЕЛОГОРСК II            БЕЛОГОРСК         БЕЛОГОРСК II  Jul 22, 21:13  Jul 22, 21:24      1          3\n",
      " 200200268493            ИРБЕЙСКАЯ            ИРБЕЙСКАЯ             САЯНСКАЯ  Jul 22, 15:10  Jul 22, 16:10      2          1\n",
      " 200200251286          ГАЛАЧИНСКИЙ     ПАДУНСКИЕ ПОРОГИ            БАГУЛЬНАЯ  Jul 22, 20:25  Jul 22, 20:50      1          3\n",
      " 200200242638              КАМЫШТА              КАМЫШТА               АБАКАН  Jul 22, 23:45  Jul 23, 00:45      2          3\n",
      " 200200112262            БЕЛОГОРСК            БЕЛОГОРСК         БЕЛОГОРСК II  Jul 22, 22:45  Jul 23, 00:03      2          3\n",
      " 200200259932           ЗАУДИНСКИЙ               ТАЛЬЦЫ             УЛАН-УДЭ  Jul 22, 07:16  Jul 22, 07:24      1          1\n",
      " 200200268634          ДУБИНИНСКИЙ          ДУБИНИНСКИЙ            УССУРИЙСК  Jul 23, 08:20  Jul 23, 09:20      2          3\n",
      " 200200250909  КОМСОМОЛЬСК-НА-А...  КОМСОМОЛЬСК-НА-А...  КОМСОМОЛЬСК-НА-А...  Jul 22, 05:30  Jul 22, 07:30      2          4\n",
      " 200200164251                 ЗИМА                 ЗИМА              ПЕРЕВОЗ  Jul 22, 23:35  Jul 23, 00:15      2          1\n",
      " 200200206476            БЕЛОГОРСК            БЕЛОГОРСК         БЕЛОГОРСК II  Jul 22, 17:29  Jul 22, 18:47      2          3\n",
      " 200200224848            ВИХОРЕВКА            ВИХОРЕВКА               БРАТСК  Jul 22, 16:03  Jul 22, 17:50      2          4\n",
      " 200200136575               ЧИТА I               КАДАЛА               ЧИТА I  Jul 22, 15:33  Jul 22, 15:43      1          3\n",
      " 200200260161               АБАКАН               АБАКАН               ТАШЕБА  Jul 22, 15:25  Jul 22, 17:25      2          3\n",
      " 200200059640          ГАЛАЧИНСКИЙ               БРАТСК            ВИХОРЕВКА  Jul 23, 10:53  Jul 23, 11:35      1          3\n",
      " 200200081664               ВАНИНО               ВАНИНО                 ТОКИ  Jul 22, 08:04  Jul 22, 08:45      2          3\n",
      " 200200267803            БЕЛОГОРСК            БЕЛОГОРСК         БЕЛОГОРСК II  Jul 22, 08:47  Jul 22, 10:05      2          3\n",
      "\n",
      "Станции, на которых наблюдаются скачки (первые 5):\n",
      "БЕЛОГОРСК                             74\n",
      "КАДАЛА                                12\n",
      "КОМСОМОЛЬСК-НА-АМУРЕ                  10\n",
      "КОМСОМОЛЬСК-НА-АМУРЕ-СОРТИРОВОЧНЫЙ     9\n",
      "ДУБИНИНСКИЙ                            8\n",
      "\n",
      "Маршрут бригады 200200216511:\n",
      "         team         st_from_name           st_to_name   time_start_f     time_end_f  state          loco state_info\n",
      " 200200216511  ИРКУТСК-СОРТИРОВ...  ИРКУТСК-СОРТИРОВ...  Jul 22, 20:49  Jul 22, 22:43      2            -1          3\n",
      " 200200216511                  КАЯ  ИРКУТСК-ПАССАЖИР...  Jul 22, 22:43  Jul 22, 23:02      1  200200101899          3\n",
      " 200200216511  ИРКУТСК-ПАССАЖИР...      ВОЕННЫЙ ГОРОДОК  Jul 22, 23:02  Jul 22, 23:09      1  200200101899          3\n",
      " 200200216511      ВОЕННЫЙ ГОРОДОК  ИРКУТСК-СОРТИРОВ...  Jul 22, 23:09  Jul 22, 23:12      1  200200101899          3\n"
     ]
    }
   ],
   "source": [
    "pd.set_option('display.max_colwidth', 20)\n",
    "team_cols = ['team', 'st_from_name', 'st_to_name', 'next_st', 'time_start_f', 'time_end_f', 'state', 'state_info']\n",
    "team_plan['is_end'] = team_plan.team != team_plan.team.shift(-1)\n",
    "team_plan['next_st'] = team_plan.st_from_name.shift(-1)\n",
    "team_leaps = team_plan.loc[(team_plan.is_end == False) \n",
    "                           & (team_plan.st_to_name != team_plan.next_st)\n",
    "                           & (team_plan.st_to_name.notnull())\n",
    "                           & (team_plan.next_st.notnull()), team_cols]\n",
    "team_leaps_n = len(team_leaps.team.drop_duplicates().index)\n",
    "add_header('\\nВсего бригад, у которых есть скачки на маршруте: %d' % team_leaps_n)\n",
    "add_header('Всего скачков на маршруте бригад: %d (показаны первые 10):' % len(team_leaps.index))\n",
    "add_line(team_leaps.head(20))\n",
    "\n",
    "add_header('\\nСтанции, на которых наблюдаются скачки (первые 5):')\n",
    "add_line(team_leaps.st_to_name.value_counts().head())\n",
    "\n",
    "# Пример маршрута такой бригады (подставить id из предыдущего вывода):\n",
    "team_cols2 = ['team', 'st_from_name', 'st_to_name', 'time_start_f', 'time_end_f', 'state', 'loco', 'state_info']\n",
    "#team_id = '200200164017'\n",
    "if not team_leaps.empty:\n",
    "    team_id = team_leaps.iloc[0].team\n",
    "    add_header('\\nМаршрут бригады %s:' % team_id)\n",
    "    add_line(team_plan.loc[team_plan.team == team_id, team_cols2])"
   ]
  },
  {
   "cell_type": "markdown",
   "metadata": {},
   "source": [
    "### Скачки между станцией исходного местоположения и первой станцией планирования"
   ]
  },
  {
   "cell_type": "code",
   "execution_count": 34,
   "metadata": {
    "collapsed": false
   },
   "outputs": [],
   "source": [
    "team_info.loc[team_info.st_from != '-1', 'first_station'] = team_info.loc[team_info.st_from != '-1', 'st_from']\n",
    "team_info.loc[team_info.st_from == '-1', 'first_station'] = team_info.loc[team_info.st_from == '-1', 'oper_location']\n",
    "team_info.loc[team_info.st_to != '-1', 'next_station'] = team_info.loc[team_info.st_to != '-1', 'st_to']\n",
    "team_info[['team', 'oper_location', 'st_from', 'first_station', 'next_station']]\n",
    "team_plan['first_station'] = team_plan.team.map(team_info.drop_duplicates('team').set_index('team').first_station)\n",
    "team_plan['next_station'] = team_plan.team.map(team_info.drop_duplicates('team').set_index('team').next_station)\n",
    "team_plan['first_st_name'] = team_plan.first_station.map(st_names.name)\n",
    "team_plan['next_st_name'] = team_plan.next_station.map(st_names.name)\n",
    "team_starts = team_plan[team_plan.state.isin([0, 1])].drop_duplicates('team').copy(deep=True)\n",
    "start_leaps = team_starts[((team_starts.first_station.isnull() == False) & (team_starts.st_from != team_starts.first_station)) | \n",
    "            ((team_starts.next_station.isnull() == False) & (team_starts.st_to != team_starts.next_station))]"
   ]
  },
  {
   "cell_type": "code",
   "execution_count": 35,
   "metadata": {
    "collapsed": false
   },
   "outputs": [
    {
     "name": "stdout",
     "output_type": "stream",
     "text": [
      "Распределение скачков бригад по станциям местоположения (показаны первые 5):\n",
      "БЕЛОГОРСК                             70\n",
      "КАДАЛА                                 6\n",
      "КОМСОМОЛЬСК-НА-АМУРЕ-СОРТИРОВОЧНЫЙ     5\n",
      "ИРКУТСК-СОРТИРОВОЧНЫЙ                  5\n",
      "КОМСОМОЛЬСК-НА-АМУРЕ                   5\n",
      "\n",
      "Бригады со скачками между станцией местоположения и первой станцией в маршруте (показаны первые 10):\n",
      "         team         st_from_name           st_to_name          loco        first_st_name next_st_name     loco_info\n",
      " 200200216511                  КАЯ  ИРКУТСК-ПАССАЖИР...  200200101899  ИРКУТСК-СОРТИРОВ...          NaN            -1\n",
      " 200200074745            БАГУЛЬНАЯ             МОРГУДОН  200200043027            ВИХОРЕВКА          NaN            -1\n",
      " 200200225165         БЕЛОГОРСК II            БЕЛОГОРСК  200200090307            БЕЛОГОРСК          NaN            -1\n",
      " 200200090000               КАДАЛА               ЧИТА I  200200091776               ЛЕСНАЯ          NaN  200200106236\n",
      " 200200112262         БЕЛОГОРСК II            БЕЛОГОРСК  200200106870            БЕЛОГОРСК          NaN            -1\n",
      " 200200250909  КОМСОМОЛЬСК-НА-А...  КОМСОМОЛЬСК-НА-А...  200200101384  КОМСОМОЛЬСК-НА-А...          NaN            -1\n",
      " 200200206476         БЕЛОГОРСК II            БЕЛОГОРСК  200200087497            БЕЛОГОРСК          NaN            -1\n",
      " 200200224848               БРАТСК            БАГУЛЬНАЯ  200200139309            ВИХОРЕВКА          NaN            -1\n",
      " 200200260161               ТАШЕБА               АБАКАН  200200100097               АБАКАН          NaN            -1\n",
      " 210211221819              БАЗАИХА  КРАСНОЯРСК-ВОСТО...  200200091433  КРАСНОЯРСК-ВОСТО...          NaN  200200106012\n"
     ]
    }
   ],
   "source": [
    "cols = ['team', 'st_from_name', 'st_to_name', 'loco', 'first_st_name', 'next_st_name', 'loco_info']\n",
    "first_st_leaps = team_starts[(team_starts.first_station.isnull() == False) & (team_starts.next_station.isnull())\n",
    "                             & (team_starts.st_from != team_starts.first_station)]\n",
    "add_header('Распределение скачков бригад по станциям местоположения (показаны первые 5):')\n",
    "add_line(first_st_leaps.first_st_name.value_counts().head())\n",
    "add_header('\\nБригады со скачками между станцией местоположения и первой станцией в маршруте (показаны первые 10):')\n",
    "add_line(first_st_leaps[cols].head(10))"
   ]
  },
  {
   "cell_type": "code",
   "execution_count": 36,
   "metadata": {
    "collapsed": false
   },
   "outputs": [
    {
     "name": "stdout",
     "output_type": "stream",
     "text": [
      "Распределение скачков бригад по станциям направления (показаны первые 5):\n",
      "Series([], )\n",
      "\n",
      "Бригады со скачками между станцией направления и первой станцией направления в маршруте (показаны первые 10):\n",
      "Empty DataFrame\n",
      "Columns: [team, st_from_name, st_to_name, loco, first_st_name, next_st_name, loco_info, train]\n",
      "Index: []\n"
     ]
    }
   ],
   "source": [
    "cols = ['team', 'st_from_name', 'st_to_name', 'loco', 'first_st_name', 'next_st_name', 'loco_info', 'train']\n",
    "loco_info['train_number'] = loco_info.train.map(train_info.drop_duplicates('train').set_index('train').number)\n",
    "team_starts['train'] = team_starts.loco_info.map(loco_info.drop_duplicates('loco').set_index('loco').train_number)\n",
    "next_st_leaps = team_starts[(team_starts.next_station.isnull() == False) \n",
    "                            & (team_starts.st_to != team_starts.next_station)]\n",
    "add_header('Распределение скачков бригад по станциям направления (показаны первые 5):')\n",
    "add_line(next_st_leaps.next_st_name.value_counts())\n",
    "add_header('\\nБригады со скачками между станцией направления и первой станцией направления в маршруте (показаны первые 10):')\n",
    "add_line(next_st_leaps[cols].head(10))"
   ]
  },
  {
   "cell_type": "markdown",
   "metadata": {},
   "source": [
    "<a id='stop_time'></a>\n",
    "## Анализ времен стоянок локомотивов для смены бригады [ToC](#toc)"
   ]
  },
  {
   "cell_type": "code",
   "execution_count": 37,
   "metadata": {
    "collapsed": true
   },
   "outputs": [],
   "source": [
    "add_header('Анализ времен стоянок локомотивов для смены бригады', h=2, p=False)"
   ]
  },
  {
   "cell_type": "markdown",
   "metadata": {},
   "source": [
    "#### Распределение времен стоянок для смены бригады"
   ]
  },
  {
   "cell_type": "code",
   "execution_count": 38,
   "metadata": {
    "collapsed": false
   },
   "outputs": [
    {
     "data": {
      "image/png": "[encoded data removed]",
      "text/plain": [
       "<matplotlib.figure.Figure at 0x1cd3e11afd0>"
      ]
     },
     "metadata": {},
     "output_type": "display_data"
    }
   ],
   "source": [
    "# Смена бригады без стоянки локомотива\n",
    "cols = ['loco', 'st_from_name', 'st_to_name', 'time_start', 'time_end', 'team', 'time_start_next', 'loco_finish', 'stop_time']\n",
    "\n",
    "loco_plan['team_start'] = (loco_plan.team != loco_plan.team.shift(1)) | (loco_plan.loco != loco_plan.loco.shift(1))\n",
    "loco_plan['team_end'] = (loco_plan.team != loco_plan.team.shift(-1)) | (loco_plan.loco != loco_plan.loco.shift(-1))\n",
    "start_teams = loco_plan.loc[(loco_plan.team.isin([-1, 0]) == False) & (loco_plan.team_start == True)].reset_index()\\\n",
    "                            [['loco', 'st_from_name', 'time_start', 'time_start_f', 'train', 'team']]\n",
    "end_teams = loco_plan.loc[(loco_plan.team.isin([-1, 0]) == False) & (loco_plan.team_end == True)].reset_index()\\\n",
    "                            [['st_to_name', 'time_end', 'time_end_f']]\n",
    "teams_trip = pd.concat([start_teams, end_teams], axis=1)\n",
    "teams_trip['time_start_next'] = teams_trip.time_start.shift(-1)\n",
    "teams_trip['loco_finish'] = teams_trip.loco != teams_trip.loco.shift(-1)\n",
    "teams_trip.loc[teams_trip.loco_finish == False, 'stop_time'] = teams_trip.time_start_next - teams_trip.time_end\n",
    "sns.set_style('ticks')\n",
    "sns.set_context('talk')\n",
    "sns.set_color_codes('dark')\n",
    "fig = plt.figure()\n",
    "series_to_hist = teams_trip.dropna(subset=['stop_time']).stop_time / 3600\n",
    "#series_to_hist2 = teams_trip.dropna(subset=['stop_time']).loc[(teams_trip.stop_time > 90 * 60)].stop_time / 3600\n",
    "series_to_hist.name = 'Время стоянки локомотива для смены бригады (час)'\n",
    "title = 'Распределение времен стоянок локомотивов для смены бригад\\n(среднее %.2f ч., медиана %.2f ч.)' %\\\n",
    "        (series_to_hist.mean(), series_to_hist.median())\n",
    "ax = sns.distplot(series_to_hist, hist_kws={'label':'a'}, color='b', hist=False, kde_kws={'shade':True})\n",
    "ax.set_title(title)\n",
    "sns.despine()\n",
    "filename = 'loco_stop_time.png'\n",
    "fig.savefig(REPORT_FOLDER + filename, bbox_inches='tight')\n",
    "add_image(filename)"
   ]
  },
  {
   "cell_type": "markdown",
   "metadata": {},
   "source": [
    "#### Поиск локомотивов, у которых смены бригады занимает меньше 15 минут"
   ]
  },
  {
   "cell_type": "code",
   "execution_count": 39,
   "metadata": {
    "collapsed": false
   },
   "outputs": [
    {
     "name": "stdout",
     "output_type": "stream",
     "text": [
      "Всего 65 локомотивов со сменой бригад быстрее 15 минут (показаны первые 10):\n",
      "         loco         st_from_name           st_to_name     time_end_f       tsn_norm            train  stop_time          team\n",
      " 200200030378              ОБЛУЧЬЕ                 БИРА  Jul 22, 13:36  Jul 22, 13:36     220209280056          0  200200201431\n",
      " 200200030522            ПОСТЫШЕВО  КОМСОМОЛЬСК-НА-А...  Jul 22, 17:36  Jul 22, 17:36     220211037801          0  200200126051\n",
      " 200200034539            ВИХОРЕВКА     ПАДУНСКИЕ ПОРОГИ  Jul 22, 16:43  Jul 22, 16:43     200021133469          0  200200195996\n",
      " 200200034539     ПАДУНСКИЕ ПОРОГИ          ГАЛАЧИНСКИЙ  Jul 22, 17:06  Jul 22, 17:06   88880001924725          0  200200251286\n",
      " 200200035312              НАХОДКА           НОВОНЕЖИНО  Jul 22, 15:15  Jul 22, 15:15   88880001924531          0  200200096146\n",
      " 200200036395            СУХОВСКАЯ            ЧЕРЕМХОВО  Jul 22, 22:46  Jul 22, 22:46  999928810012001          0  200200091251\n",
      " 200200051982              ОБЛУЧЬЕ                 БИРА  Jul 22, 17:44  Jul 22, 17:44     220208708861          0  200200238940\n",
      " 200200052767                ТЫНДА            БЕСТУЖЕВО  Jul 22, 09:15  Jul 22, 09:15     220208922194          0  200200196743\n",
      " 200200053547  КОМСОМОЛЬСК-НА-А...  КОМСОМОЛЬСК-НА-А...  Jul 22, 10:58  Jul 22, 10:58     200021142610          0  200200250909\n",
      " 200200055082        АНДРИАНОВСКАЯ          БОЛЬШОЙ ЛУГ  Jul 22, 08:10  Jul 22, 08:10     200021337439          0  200200245500\n",
      "\n",
      "Распределение проблемных локомотивов по станциям смены (показаны первые 10 по частоте):\n",
      "             station  freq  norm_time\n",
      "                БИРА    15          0\n",
      "        ВЫСОКОГОРНАЯ    11       5400\n",
      " КОМСОМОЛЬСК-НА-А...     3          0\n",
      "             ЧЕЛУТАЙ     3          0\n",
      "        ВОЛОЧАЕВКА I     3          0\n",
      "    ПАДУНСКИЕ ПОРОГИ     2          0\n",
      "             ГОРЕЛЫЙ     2          0\n",
      "   НЕРЮНГРИ-ГРУЗОВАЯ     2          0\n",
      "              БРАТСК     2          0\n",
      "           БАГУЛЬНАЯ     2          0\n",
      "\n",
      "Распределение проблемных локомотивов по типам поездов:\n",
      "Реальный    37\n",
      "Задания     19\n",
      "Резерв       9\n"
     ]
    }
   ],
   "source": [
    "#add_line('Время начала планирования' % time.ctime(current_time))\n",
    "cols2 = ['loco', 'st_from_name', 'st_to_name', 'time_end_f', 'tsn_norm', 'train', 'stop_time', 'team']\n",
    "pd.set_option('display.max_colwidth', 20)\n",
    "teams_trip = teams_trip.dropna(subset=['time_start_next'])\n",
    "teams_trip['tsn_norm'] = teams_trip.time_start_next.apply(lambda x: time.strftime(time_format, time.localtime(x)))\n",
    "teams_trip.loc[teams_trip.stop_time.isnull() == False, 'next_team'] = teams_trip.team.shift(-1)\n",
    "teams_trip['train_type'] = teams_trip.train.apply(lambda x: 'Резерв' if str(x)[0]=='8' \\\n",
    "                                                      else ('Задания' if str(x)[0]=='9' else 'Реальный'))\n",
    "fast_change = teams_trip.loc[teams_trip.stop_time < 15 * 60]\n",
    "if fast_change.empty == False:\n",
    "    add_header('Всего %d локомотивов со сменой бригад быстрее 15 минут (показаны первые 10):' % len(fast_change.index))\n",
    "    add_line(fast_change[cols2].sort_values(['stop_time', 'loco']).head(10))\n",
    "    add_header('\\nРаспределение проблемных локомотивов по станциям смены (показаны первые 10 по частоте):')\n",
    "    bad_st = fast_change.st_to_name.value_counts().to_frame().reset_index()\n",
    "    bad_st.columns = ['station', 'freq']\n",
    "    bad_st['norm_time'] = bad_st['station'].map(stations.drop_duplicates(subset=['name']).set_index('name').norm_time)\n",
    "    add_line(bad_st.head(10))\n",
    "    add_header('\\nРаспределение проблемных локомотивов по типам поездов:')    \n",
    "    add_line(fast_change.train_type.value_counts())\n",
    "else:\n",
    "    add_line('Нет локомотивов со сменой бригад со стоянкой меньше 15 минут')\n",
    "    \n",
    "# Посмотреть маршруты конкретных локомотивов или бригад\n",
    "loco_cols = ['loco', 'st_from','st_to', 'st_from_name', 'st_to_name', 'time_start', 'time_end', 'team']\n",
    "#team_cols = ['team', 'st_from_name', 'st_to_name', 'time_start_f', 'time_end_f', 'state', 'loco']\n",
    "#print(loco_plan.loc[loco_plan.loco == '200200093307', loco_cols].to_string(index=False))\n",
    "#print(team_plan.loc[team_plan.loco == '200250042559', team_cols].sort_values('time_start_norm').to_string(index=False))"
   ]
  },
  {
   "cell_type": "markdown",
   "metadata": {},
   "source": [
    "<a id='rest_time'></a>\n",
    "## Проверка времен отдыха бригад [ToC](#toc)"
   ]
  },
  {
   "cell_type": "code",
   "execution_count": 40,
   "metadata": {
    "collapsed": true
   },
   "outputs": [],
   "source": [
    "add_header('Проверка времен отдыха бригад', h=2, p=False)"
   ]
  },
  {
   "cell_type": "code",
   "execution_count": 41,
   "metadata": {
    "collapsed": false
   },
   "outputs": [
    {
     "name": "stdout",
     "output_type": "stream",
     "text": [
      "Время начала планирования: Jul 22, 07:30\n",
      "Бригад с аномально большим временем отдыха: 0 (показаны первые 10):\n",
      "Минимальное время отдыха (3 часа) нарушено у 3 бригад (показаны первые 10):\n",
      "         team st_from_name st_to_name   time_start_f     time_end_f  time  state\n",
      " 200200189022     МАРИИНСК   МАРИИНСК  Jul 22, 06:54  Jul 22, 07:30  0.61      4\n",
      " 200200180853     МАРИИНСК   МАРИИНСК  Jul 22, 06:01  Jul 22, 07:30  1.49      4\n",
      " 200200137069     МАРИИНСК   МАРИИНСК  Jul 22, 07:23  Jul 22, 07:30  0.13      4\n"
     ]
    }
   ],
   "source": [
    "add_line('Время начала планирования: %s' % time.strftime(time_format, time.localtime(current_time)))\n",
    "team_cols = ['team', 'st_from_name', 'st_to_name', 'time_start_f', 'time_end_f', 'time', 'state', 'loco']\n",
    "team_plan['time'] = np.round(((team_plan.time_end - team_plan.time_start) / 3600), 2)\n",
    "rest_outliers = team_plan[(team_plan.state == 4) & (team_plan.time > 1000)]\n",
    "add_header('Бригад с аномально большим временем отдыха: %d (показаны первые 10):' % len(rest_outliers.index))\n",
    "out_cols = ['team', 'st_from_name', 'st_to_name', 'time_start_f', 'time_end_f', 'time', 'state']\n",
    "if not rest_outliers.empty:\n",
    "    add_line(rest_outliers[out_cols].head(10))\n",
    "\n",
    "rest_check = team_plan[(team_plan.state == 4) & (team_plan.time < 1000)]\n",
    "\n",
    "min_rest = rest_check.time.min()\n",
    "if min_rest < 3:\n",
    "    add_header('Минимальное время отдыха (3 часа) нарушено у %d бригад (показаны первые 10):' \\\n",
    "          % len(rest_check[rest_check.time < 3].index))\n",
    "    add_line(rest_check[rest_check.time < 3][out_cols].head(10))    \n",
    "else:\n",
    "    add_header('Минимальное время отдыха бригад: %.2f часа' % (min_rest))"
   ]
  },
  {
   "cell_type": "markdown",
   "metadata": {},
   "source": [
    "#### Отсев бригад со слишком ранним временем явки"
   ]
  },
  {
   "cell_type": "code",
   "execution_count": 42,
   "metadata": {
    "collapsed": false
   },
   "outputs": [
    {
     "name": "stdout",
     "output_type": "stream",
     "text": [
      "Всего 540 бригад со слишком большим отдыхом и слишком ранним временем явки (сутки назад и более). Примеры:\n",
      "         team         st_from_name           st_to_name   time_start_f     time_end_f   time  state\n",
      " 200200167477         ВЫСОКОГОРНАЯ         ВЫСОКОГОРНАЯ  Jul 21, 11:58  Jul 22, 17:53  29.92      4\n",
      " 200200266439  КОМСОМОЛЬСК-НА-А...  КОМСОМОЛЬСК-НА-А...  Jul 21, 12:38  Jul 22, 12:34  23.93      4\n",
      " 200200183450            ПОСТЫШЕВО            ПОСТЫШЕВО  Jul 21, 18:01  Jul 22, 17:31  23.50      4\n",
      " 200200121151  КОМСОМОЛЬСК-НА-А...  КОМСОМОЛЬСК-НА-А...  Jul 21, 13:52  Jul 22, 12:34  22.70      4\n",
      " 200200179664               КУЭНГА               КУЭНГА  Jul 21, 16:31  Jul 22, 14:44  22.22      4\n",
      " 200200268102            ВЯЗЕМСКАЯ            ВЯЗЕМСКАЯ  Jul 21, 13:40  Jul 22, 11:40  22.00      4\n",
      " 200200249942                ТЫРМА                ТЫРМА  Jul 21, 21:27  Jul 22, 19:19  21.87      4\n",
      " 200200123074            АЧИНСК II            АЧИНСК II  Jul 21, 16:27  Jul 22, 13:48  21.35      4\n",
      " 200200149000            АЧИНСК II            АЧИНСК II  Jul 21, 16:27  Jul 22, 13:48  21.35      4\n",
      " 200200212749            ОЛОВЯННАЯ            ОЛОВЯННАЯ  Jul 21, 13:45  Jul 22, 10:56  21.18      4\n"
     ]
    }
   ],
   "source": [
    "rest_old_presence = rest_check[(rest_check.info_presence < current_time - 12 * 3600) & (rest_check.state_info != '3')]\n",
    "add_header('Всего %d бригад со слишком большим отдыхом и слишком ранним временем явки (сутки назад и более). Примеры:' \n",
    "           % rest_old_presence.team.count())\n",
    "add_line(rest_old_presence.sort_values('time', ascending=False)[out_cols].head(10))"
   ]
  },
  {
   "cell_type": "markdown",
   "metadata": {},
   "source": [
    "#### Бригады со слишком большим отдыхом"
   ]
  },
  {
   "cell_type": "code",
   "execution_count": 43,
   "metadata": {
    "collapsed": false
   },
   "outputs": [
    {
     "name": "stdout",
     "output_type": "stream",
     "text": [
      "Всего 154 бригад с большим временем отдыха (больше 10 часов) (показаны первые 10):\n",
      "         team st_from_name   st_to_name   time_start_f     time_end_f   time  state\n",
      " 200200161077       РУЖИНО       РУЖИНО  Jul 22, 15:03  Jul 23, 17:31  26.46      4\n",
      " 200200238006       РУЖИНО       РУЖИНО  Jul 22, 15:26  Jul 23, 17:31  26.07      4\n",
      " 200200189038  СМОЛЯНИНОВО  СМОЛЯНИНОВО  Jul 22, 14:39  Jul 23, 14:34  23.91      4\n",
      " 200200188076      НАХОДКА      НАХОДКА  Jul 22, 12:36  Jul 23, 11:51  23.24      4\n",
      " 200200276297       РУЖИНО       РУЖИНО  Jul 22, 18:45  Jul 23, 17:31  22.76      4\n",
      " 200200088911      НАХОДКА      НАХОДКА  Jul 22, 13:17  Jul 23, 11:51  22.55      4\n",
      " 200200204155      НАХОДКА      НАХОДКА  Jul 22, 13:32  Jul 23, 11:51  22.30      4\n",
      " 200200258695     МАРГУЦЕК     МАРГУЦЕК  Jul 22, 15:44  Jul 23, 13:42  21.97      4\n",
      " 200200210047      НАХОДКА      НАХОДКА  Jul 22, 14:12  Jul 23, 11:51  21.63      4\n",
      " 200200101329  СМОЛЯНИНОВО  СМОЛЯНИНОВО  Jul 22, 17:21  Jul 23, 14:34  21.21      4\n"
     ]
    }
   ],
   "source": [
    "long_rest = rest_check[(rest_check.time > 10) & (rest_check.team.isin(rest_old_presence.team) == False)]\n",
    "add_header('Всего %d бригад с большим временем отдыха (больше 10 часов) (показаны первые 10):' % len(long_rest.index))\n",
    "add_line(long_rest.sort_values('time', ascending=False)[out_cols].head(10))"
   ]
  },
  {
   "cell_type": "code",
   "execution_count": 44,
   "metadata": {
    "collapsed": false
   },
   "outputs": [
    {
     "data": {
      "image/png": "[encoded data removed]",
      "text/plain": [
       "<matplotlib.figure.Figure at 0x1cd3e0b8588>"
      ]
     },
     "metadata": {},
     "output_type": "display_data"
    }
   ],
   "source": [
    "rest_show = rest_check[(rest_check.team.isin(rest_old_presence.team) == False)]\n",
    "title = 'Распределение бригад по временам на отдых\\n(медианное время отдыха = %.2f час)' % (rest_show.time.median())\n",
    "sns.set_style('whitegrid')\n",
    "sns.set_context('notebook')\n",
    "fig = plt.figure()\n",
    "ax = sns.distplot(rest_show.time, hist=False, kde_kws={'shade':True}, color='b')\n",
    "ax.set(title=title)\n",
    "sns.despine()\n",
    "filename = 'team_rest_time.png'\n",
    "fig.savefig(REPORT_FOLDER + filename, bbox_inches='tight')\n",
    "add_image(filename)"
   ]
  },
  {
   "cell_type": "markdown",
   "metadata": {},
   "source": [
    "#### Бригады с недостаточным отдыхом"
   ]
  },
  {
   "cell_type": "code",
   "execution_count": 45,
   "metadata": {
    "collapsed": false
   },
   "outputs": [],
   "source": [
    "rest = team_plan[team_plan.state == 4][['team', 'time_start', 'time']]\n",
    "team_trips['rest_start_time'] = team_trips.team.map(rest.set_index('team').time_start)\n",
    "team_trips['rest_start_time_f'] = team_trips.rest_start_time\\\n",
    "                .apply(lambda x: time.strftime(time_format, time.localtime(x)) if np.isnan(x) == False else '')\n",
    "team_trips['rest_time'] = team_trips.team.map(rest.set_index('team').time)\n",
    "team_trips['min_rest_time'] = np.round((team_trips.rest_start_time - team_trips.curr_presence) / (2 * 3600), 2)\n",
    "team_trips['underrest'] = team_trips.min_rest_time - team_trips.rest_time"
   ]
  },
  {
   "cell_type": "code",
   "execution_count": 46,
   "metadata": {
    "collapsed": true
   },
   "outputs": [],
   "source": [
    "# Для подсчета требуемого отдыха удаляем поездки, которые связаны с одной явкой бригады; \n",
    "# для каждой явки оставляем только последнюю поездку, чтобы правильно взять полное рабочее время.\n",
    "team_trips_cut = team_trips.sort_values(['team', 'curr_presence', 'work_time'], ascending=[True, True, False])\\\n",
    "                            .drop_duplicates(subset=['team', 'curr_presence'])"
   ]
  },
  {
   "cell_type": "code",
   "execution_count": 47,
   "metadata": {
    "collapsed": false
   },
   "outputs": [
    {
     "name": "stdout",
     "output_type": "stream",
     "text": [
      "Всего 1222 бригад с недостаточным отдыхом:\n",
      "Распределение по типу бригад:\n",
      "Реальная    952\n",
      "Фейковая    270\n"
     ]
    }
   ],
   "source": [
    "cols = ['team', 'curr_presence_norm', 'time_start_f', 'rest_start_time_f', \n",
    "        'work_time', 'min_rest_time', 'rest_time', 'underrest']\n",
    "underrest = team_trips_cut[(team_trips_cut.time_start < team_trips_cut.rest_start_time) & (team_trips_cut.underrest > 0)]\n",
    "underrest_n = underrest.team.drop_duplicates().count()\n",
    "add_header('Всего %d бригад с недостаточным отдыхом:' % underrest_n)\n",
    "add_header('Распределение по типу бригад:')\n",
    "add_line(underrest.team_type.value_counts())"
   ]
  },
  {
   "cell_type": "code",
   "execution_count": 48,
   "metadata": {
    "collapsed": false
   },
   "outputs": [
    {
     "name": "stdout",
     "output_type": "stream",
     "text": [
      "Всего 1129 бригад без переработки с недостаточным отдыхом.\n",
      "\n",
      "Распределение по типу бригад:\n",
      "Реальная    869\n",
      "Фейковая    260\n",
      "\n",
      "Примеры бригад без переработки с недостаточным отдыхом:\n",
      "         team curr_presence_norm   time_start_f rest_start_time_f  work_time  min_rest_time  rest_time  underrest\n",
      " 200200105128      Jul 22, 04:00  Jul 22, 10:30     Jul 22, 15:11      10.69           5.59       3.00       2.59\n",
      " 200200254807      Jul 22, 00:10  Jul 22, 08:15     Jul 22, 10:57      10.28           5.39       3.00       2.39\n",
      " 200200158559      Jul 22, 05:13  Jul 22, 09:30     Jul 22, 15:52      10.16           5.33       3.00       2.33\n",
      " 200200223548      Jul 22, 03:26  Jul 22, 07:30     Jul 22, 14:30      10.58           5.54       3.25       2.29\n",
      " 200200207302      Jul 22, 05:55  Jul 22, 09:35     Jul 22, 16:04       9.65           5.08       3.00       2.08\n",
      " 200200142701      Jul 22, 05:30  Jul 22, 09:00     Jul 22, 15:46       9.77           5.13       3.13       2.00\n",
      " 200200132671      Jul 22, 04:00  Jul 22, 09:10     Jul 22, 13:33       9.05           4.78       3.00       1.78\n",
      " 200200213642      Jul 22, 03:10  Jul 22, 07:45     Jul 22, 12:15       8.59           4.54       3.00       1.54\n",
      " 200200155010      Jul 22, 04:00  Jul 22, 11:56     Jul 22, 12:55       8.43           4.47       3.00       1.47\n",
      " 200200216255      Jul 22, 07:10  Jul 22, 14:15     Jul 22, 16:02       8.37           4.44       3.00       1.44\n"
     ]
    },
    {
     "data": {
      "image/png": "[encoded data removed]",
      "text/plain": [
       "<matplotlib.figure.Figure at 0x1cd3e14ff98>"
      ]
     },
     "metadata": {},
     "output_type": "display_data"
    }
   ],
   "source": [
    "underrest_no_overtime = underrest[underrest.work_time <= WORK_TIME_LIMIT]\n",
    "underrest_no_n = underrest_no_overtime.team.drop_duplicates().count()\n",
    "add_header('Всего %d бригад без переработки с недостаточным отдыхом.' % underrest_no_n)\n",
    "add_header('\\nРаспределение по типу бригад:')\n",
    "add_line(underrest_no_overtime.team_type.value_counts())\n",
    "add_header('\\nПримеры бригад без переработки с недостаточным отдыхом:')\n",
    "add_line(underrest_no_overtime.sort_values('underrest', ascending=False).head(10 if underrest_no_n > 20 else underrest_no_n)[cols])\n",
    "\n",
    "sns.set_context('notebook')\n",
    "sns.set_style('whitegrid')\n",
    "title = 'Распределение недостаточного отдыха бригад\\n(медианное время недоотдыха = %.2f час)' \\\n",
    "            % (underrest_no_overtime.underrest.median())\n",
    "fig = plt.figure()\n",
    "ax = sns.distplot(underrest_no_overtime.underrest, color='b', hist=False, kde_kws={'shade':True})\n",
    "ax.set(title=title, xlabel='Недостаточный отдых, ч.')\n",
    "sns.despine()\n",
    "filename = 'team_under_rest.png'\n",
    "fig.savefig(REPORT_FOLDER + filename, bbox_inches='tight')\n",
    "add_image(filename)"
   ]
  },
  {
   "cell_type": "code",
   "execution_count": 49,
   "metadata": {
    "collapsed": false
   },
   "outputs": [
    {
     "data": {
      "text/plain": [
       "'Thu May 12 18:00:00 2016'"
      ]
     },
     "execution_count": 49,
     "metadata": {},
     "output_type": "execute_result"
    }
   ],
   "source": [
    "team_plan['loco_time'] = list(zip(team_plan.loco, team_plan.time_start))\n",
    "loco_plan['loco_time'] = list(zip(loco_plan.loco, loco_plan.time_start))\n",
    "team_plan['train'] = team_plan.loco_time.map(loco_plan.drop_duplicates('loco_time').set_index('loco_time').train)\n",
    "#print(team_plan[team_plan.team == '777700000270']\\\n",
    "#      [['team', 'st_from_name', 'st_to_name', 'time_start_f', 'time_end_f', \n",
    "#        'state', 'loco', 'train', 'time']].to_string(index=False))\n",
    "time.ctime(1463065200)"
   ]
  },
  {
   "cell_type": "markdown",
   "metadata": {},
   "source": [
    "## Проверка подвязки бригад по Иркутску"
   ]
  },
  {
   "cell_type": "code",
   "execution_count": 50,
   "metadata": {
    "collapsed": false
   },
   "outputs": [],
   "source": [
    "add_header('Анализ бригад, проезжающих через Иркутск', h=2, p=False)"
   ]
  },
  {
   "cell_type": "code",
   "execution_count": 51,
   "metadata": {
    "collapsed": false
   },
   "outputs": [
    {
     "name": "stdout",
     "output_type": "stream",
     "text": [
      "Распределение поездов через Иркутск по направлениям:\n",
      "ГОНЧАРОВО     56\n",
      "БАТАРЕЙНАЯ    48\n",
      "\n",
      "Распределение бригад, в маршруте которых есть Иркутск, по депо приписки:\n",
      "          depot_name  team percent\n",
      "                ЗИМА    89  49.72%\n",
      " ИРКУТСК-СОРТИРОВ...    66  36.87%\n",
      "         НИЖНЕУДИНСК     1   0.56%\n",
      "          СЛЮДЯНКА I    14   7.82%\n",
      "            УЛАН-УДЭ     9   5.03%\n"
     ]
    }
   ],
   "source": [
    "team_cols = ['team', 'st_from_name', 'st_to_name', 'time_start_f', 'state', 'loco', 'depot_name']\n",
    "team_plan['depot_name'] = team_plan.depot.map(st_names.name)\n",
    "st_name = 'ИРКУТСК-СОРТИРОВОЧНЫЙ'\n",
    "train_cols = ['train', 'number', 'st_from_name', 'st_to_name', 'time_start_f']\n",
    "train_plan['train_type'] = train_plan.train.apply(lambda x: str(x)[:1])\n",
    "add_header('Распределение поездов через Иркутск по направлениям:')\n",
    "add_line(train_plan.loc[(train_plan.st_from_name == st_name)\n",
    "              & (train_plan.time_start >= current_time) & (train_plan.train_type.isin(['2', '9']))\n",
    "              & (train_plan.time_start < current_time + 24*3600), train_cols].st_to_name.value_counts())\n",
    "\n",
    "add_header('\\nРаспределение бригад, в маршруте которых есть Иркутск, по депо приписки:')\n",
    "b = team_plan.loc[(team_plan.st_from_name == st_name) & (team_plan.state.isin([0, 1]))\n",
    "              & (team_plan.time_start >= current_time), team_cols].groupby('depot_name').team.count().to_frame()\n",
    "b['percent'] = np.round((100 * b.team / b.team.sum()), 2)\n",
    "b['percent'] = b['percent'].apply(lambda x: str(x) + '%')\n",
    "add_line(b.reset_index())"
   ]
  },
  {
   "cell_type": "markdown",
   "metadata": {},
   "source": [
    "<a id='ready_time'></a>\n",
    "## Проверка времени явки бригад [ToC](#toc)"
   ]
  },
  {
   "cell_type": "code",
   "execution_count": 52,
   "metadata": {
    "collapsed": true
   },
   "outputs": [],
   "source": [
    "add_header('Проверка корректости времен явки бригад в депо приписки во входных данных', h=2, p=False)"
   ]
  },
  {
   "cell_type": "markdown",
   "metadata": {},
   "source": [
    "1. У бригад, которые находятся на домашнем отдыхе (state = 3) передается именно время ухода на отдых. По постановке (см. раздел \"Заполнение атрибутов для входных сообщений по бригадам\") должно передаваться время ухода на отдых + 16 часов.\n",
    "2. Для бригады 200200158216 передается state=3, хотя по АСУ-Т последней операцией на 18.04 10:35 было \"прибытие на станцию Лесовозный 17.04 в 08:49\" (или, в крайнем случае, отправление с Улан-Удэ 17.04 в 07:51).\n",
    "3. Аналогично для бригады 200200225600. Впрочем, возможно, это какой-то косяк АСУ-Т. В любом случае, пункт 1 - это очевидный баг."
   ]
  },
  {
   "cell_type": "markdown",
   "metadata": {},
   "source": [
    "Общая идея:\n",
    "- если у бригад указано depot_time < rest_start_time, то эта разница не должна быть очень большой. \n",
    "- если у бригад указано depot_time < return_time, то эта разница тоже не должна быть очень большой."
   ]
  },
  {
   "cell_type": "code",
   "execution_count": 53,
   "metadata": {
    "collapsed": false
   },
   "outputs": [
    {
     "name": "stdout",
     "output_type": "stream",
     "text": [
      "Время начала планирования: Jul 22, 07:30\n",
      "Всего 329 бригад, у которых время последней явки в депо намного меньше (на 12+ часов) переданного времени начала отдыха. Примеры:\n",
      "         team      number        dt_norm       rst_norm  rest_dep_delta ready_type state\n",
      " 200200168007  9411043002  Jul 20, 08:00  Jul 21, 17:00           33.00     return     1\n",
      " 220201178201  9406051657  Jul 20, 13:35  Jul 21, 22:29           32.90     return     8\n",
      " 200200177030  9403023798  Jul 20, 10:40  Jul 21, 19:13           32.55     return     1\n",
      " 200200132932  9403012944  Jul 20, 22:50  Jul 22, 06:30           31.67     return     4\n",
      " 210218880383  9409084362  Jul 20, 11:30  Jul 21, 19:00           31.50     return     1\n",
      " 220201178204  9406051658  Jul 20, 12:05  Jul 21, 19:29           31.40     return     1\n",
      " 200200129087  9403013305  Jul 20, 20:50  Jul 22, 04:00           31.17     return     4\n",
      " 200200160665  9405053415  Jul 20, 16:00  Jul 21, 23:00           31.00     return     6\n",
      " 200200139820  9406020540  Jul 20, 16:35  Jul 21, 23:17           30.70     return     1\n",
      " 200200253094  9409001095  Jul 20, 13:30  Jul 21, 19:40           30.17     return     1\n",
      "\n",
      "Всего 778 бригад, у которых время последней явки в депо намного меньше (на 18+ часов) времени явки в пункте оборота. Примеры:\n",
      "         team      number        dt_norm       rst_norm  return_dep_delta ready_type state\n",
      " 200200262698  9403029564  Jul 20, 10:40  Jul 21, 16:05             44.17     return     5\n",
      " 200200168007  9411043002  Jul 20, 08:00  Jul 21, 17:00             41.92     return     1\n",
      " 200200177030  9403023798  Jul 20, 10:40  Jul 21, 19:13             41.00     return     1\n",
      " 200200253094  9409001095  Jul 20, 13:30  Jul 21, 19:40             39.17     return     1\n",
      " 200200165596  9403021912  Jul 20, 14:40  Jul 21, 14:48             37.83     return     1\n",
      " 200200280905  9411084139  Jul 20, 14:20  Jul 21, 17:49             37.08     return     1\n",
      " 210218880383  9409084362  Jul 20, 11:30  Jul 21, 19:00             37.00     return     1\n",
      " 220201178201  9406051657  Jul 20, 13:35  Jul 21, 22:29             36.92     return     8\n",
      " 200200160665  9405053415  Jul 20, 16:00  Jul 21, 23:00             36.50     return     6\n",
      " 200200234962  9411035004  Jul 20, 17:00  Jul 21, 21:45             36.35     return     1\n"
     ]
    }
   ],
   "source": [
    "add_line('Время начала планирования: %s' % (time.strftime(time_format, time.localtime(current_time))))\n",
    "team_info['dt_norm'] = team_info.depot_time.apply(lambda x: time.strftime(time_format, time.localtime(x)) if x > 0 else x)\n",
    "team_info['rt_norm'] = team_info.return_time.apply(lambda x: time.strftime(time_format, time.localtime(x)) if x > 0 else x)\n",
    "team_info['rst_norm'] = team_info.rest_time.apply(lambda x: time.strftime(time_format, time.localtime(x)) if x > 0 else x)\n",
    "team_info['rest_dep_delta'] = np.round(((team_info.rest_time - team_info.depot_time) / 3600), 2)\n",
    "team_info['return_dep_delta'] = np.round(((team_info.return_time - team_info.depot_time) / 3600), 2)\n",
    "\n",
    "dep_less_rest = team_info[(team_info.depot_time < team_info.rest_time) & (team_info.dt_norm != -1)]\n",
    "info_cols = ['team', 'number', 'dt_norm', 'rst_norm', 'rest_dep_delta', 'ready_type', 'state']\n",
    "add_header('Всего %d бригад, у которых время последней явки в депо намного меньше (на 12+ часов) переданного времени начала отдыха. Примеры:' \n",
    "          % dep_less_rest[dep_less_rest.rest_dep_delta > 12].team.drop_duplicates().count())\n",
    "add_line(dep_less_rest[dep_less_rest.rest_dep_delta > 12][info_cols].sort_values('rest_dep_delta', ascending=False).head(10))\n",
    "\n",
    "dep_less_return = team_info[(team_info.depot_time < team_info.return_time) & (team_info.dt_norm != -1)]\n",
    "info_cols = ['team', 'number', 'dt_norm', 'rst_norm', 'return_dep_delta', 'ready_type', 'state']\n",
    "add_header('\\nВсего %d бригад, у которых время последней явки в депо намного меньше (на 18+ часов) времени явки в пункте оборота. Примеры:' \n",
    "          % dep_less_return[dep_less_return.return_dep_delta > 12].team.drop_duplicates().count())\n",
    "add_line(dep_less_return[dep_less_return.return_dep_delta > 12][info_cols].sort_values('return_dep_delta', ascending=False).head(10))"
   ]
  },
  {
   "cell_type": "markdown",
   "metadata": {},
   "source": [
    "<a id='change'></a>\n",
    "## Проверка смены бригад на корректных станциях [ToC](#toc)"
   ]
  },
  {
   "cell_type": "code",
   "execution_count": 54,
   "metadata": {
    "collapsed": true
   },
   "outputs": [],
   "source": [
    "add_header('Проверка смены бригад на корректных станциях', h=2, p=False)"
   ]
  },
  {
   "cell_type": "markdown",
   "metadata": {},
   "source": [
    "### Проверка случаев проезда бригад мимо станций обязательной смены"
   ]
  },
  {
   "cell_type": "code",
   "execution_count": 55,
   "metadata": {
    "collapsed": true
   },
   "outputs": [],
   "source": [
    "add_header('Проверка проезда бригад мимо станций обязательной смены', h=3, p=False)"
   ]
  },
  {
   "cell_type": "code",
   "execution_count": 56,
   "metadata": {
    "collapsed": false,
    "scrolled": true
   },
   "outputs": [
    {
     "name": "stdout",
     "output_type": "stream",
     "text": [
      "Всего 45 случаев проезда бригад мимо станций обязательной смены\n",
      "\n",
      "Распределение по станциям (первые 5 самых частых):\n",
      "ЗИМА          14\n",
      "НОВЫЙ УОЯН    10\n",
      "ХИЛОК          6\n",
      "ОБЛУЧЬЕ        4\n",
      "ТЫРМА          4\n"
     ]
    }
   ],
   "source": [
    "st_team_change_full = ['КРАСНОЯРСК-ВОСТОЧНЫЙ', 'ЗИМА', 'ХИЛОК', 'МОГОЧА', 'ОБЛУЧЬЕ', 'РУЖИНО', 'СМОЛЯНИНОВО', \n",
    "                      'САЯНСКАЯ', 'ЛЕНА', 'СЕВЕРОБАЙКАЛЬСК', 'НОВЫЙ УОЯН', \n",
    "                      'НОВАЯ ЧАРА', 'ЮКТАЛИ', 'ВЕРХНЕЗЕЙСК', 'ФЕВРАЛЬСК', 'ПОСТЫШЕВО', 'ВЫСОКОГОРНАЯ', \n",
    "                      'УЖУР', 'ТЫРМА']\n",
    "                 \n",
    "cols = ['team', 'st_from_name', 'st_to_name', 'time_start_f', 'time_end_f', 'state', 'loco', 'loco_end', 'no_stop']\n",
    "team_plan['loco_end'] = team_plan.loco != team_plan.loco.shift(-1)\n",
    "team_plan['no_stop'] = team_plan.time_end == team_plan.time_start.shift(-1)\n",
    "no_stop = team_plan[(team_plan.st_to_name.isin(st_team_change_full)) & (team_plan.state == 1) \n",
    "                    & (team_plan.loco_end == False) & (team_plan.no_stop == True)]\n",
    "add_header('Всего %d случаев проезда бригад мимо станций обязательной смены' % len(no_stop.index))\n",
    "add_header('\\nРаспределение по станциям (первые 5 самых частых):')\n",
    "add_line(no_stop.st_to_name.value_counts().head())"
   ]
  },
  {
   "cell_type": "code",
   "execution_count": 57,
   "metadata": {
    "collapsed": false
   },
   "outputs": [
    {
     "name": "stdout",
     "output_type": "stream",
     "text": [
      "\n",
      "Примеры ошибочных бригад (первые 10):\n",
      "         team      st_from_name    st_to_name   time_start_f     time_end_f  state          loco loco_end no_stop\n",
      " 200200164563       КСЕНЬЕВСКАЯ        МОГОЧА  Jul 22, 04:20  Jul 22, 06:24      1  200200089977    False    True\n",
      " 200200120567            АРХАРА       ОБЛУЧЬЕ  Jul 22, 05:30  Jul 22, 07:37      1  200200070247    False    True\n",
      " 200200238265             СОЛЛУ  ВЫСОКОГОРНАЯ  Jul 22, 08:16  Jul 22, 08:28      1  200200084856    False    True\n",
      " 200200257825          ЖИПХЕГЕН         ХИЛОК  Jul 22, 11:28  Jul 22, 12:01      1  200200087901    False    True\n",
      " 777700007687           КИЛЬЧУГ      САЯНСКАЯ  Jul 22, 14:10  Jul 22, 14:26      1  200200095541    False    True\n",
      " 777700007477        НОВОНЕЖИНО   СМОЛЯНИНОВО  Jul 22, 14:21  Jul 22, 14:46      1  200200088124    False    True\n",
      " 200200273938         АНГАРАКАН    НОВЫЙ УОЯН  Jul 22, 13:50  Jul 22, 15:43      1  200200097877    False    True\n",
      " 200200099204             БОЛЕН     ПОСТЫШЕВО  Jul 22, 21:35  Jul 22, 22:13      1  200200036428    False    True\n",
      " 200200258193          ТАЛАНДЖА         ТЫРМА  Jul 22, 21:13  Jul 22, 23:21      1  200200064785    False    True\n",
      " 200200153848  БЛОКПОСТ 1571 КМ        РУЖИНО  Jul 23, 06:27  Jul 23, 07:14      1  200200065449    False    True\n",
      " 777700009025            ЗАЛАРИ          ЗИМА  Jul 23, 09:14  Jul 23, 10:10      1  200200096216    False    True\n"
     ]
    }
   ],
   "source": [
    "add_header('\\nПримеры ошибочных бригад (первые 10):')\n",
    "add_line(no_stop.drop_duplicates('st_to_name').sort_values('time_end')[cols])"
   ]
  },
  {
   "cell_type": "code",
   "execution_count": 70,
   "metadata": {
    "collapsed": false
   },
   "outputs": [
    {
     "name": "stdout",
     "output_type": "stream",
     "text": [
      "Полные планы по некоторым ошибочным бригадам:\n",
      "         team         st_from_name   st_to_name   time_start_f     time_end_f  state          loco\n",
      " 777700009025  ИРКУТСК-СОРТИРОВ...   БАТАРЕЙНАЯ  Jul 23, 05:47  Jul 23, 05:49      1  200200096216\n",
      " 777700009025           БАТАРЕЙНАЯ        МЕГЕТ  Jul 23, 05:49  Jul 23, 05:58      1  200200096216\n",
      " 777700009025                МЕГЕТ    СУХОВСКАЯ  Jul 23, 05:58  Jul 23, 06:11      1  200200096216\n",
      " 777700009025            СУХОВСКАЯ      АНГАРСК  Jul 23, 06:11  Jul 23, 06:16      1  200200096216\n",
      " 777700009025              АНГАРСК        КИТОЙ  Jul 23, 06:16  Jul 23, 06:22      1  200200096216\n",
      " 777700009025                КИТОЙ       МАЛЬТА  Jul 23, 06:22  Jul 23, 07:06      1  200200096216\n",
      " 777700009025               МАЛЬТА   КАСЬЯНОВКА  Jul 23, 07:06  Jul 23, 07:50      1  200200096216\n",
      " 777700009025           КАСЬЯНОВКА    ЧЕРЕМХОВО  Jul 23, 07:50  Jul 23, 08:04      1  200200096216\n",
      " 777700009025            ЧЕРЕМХОВО       ЗАЛАРИ  Jul 23, 08:04  Jul 23, 09:14      1  200200096216\n",
      " 777700009025               ЗАЛАРИ         ЗИМА  Jul 23, 09:14  Jul 23, 10:10      1  200200096216\n",
      " 777700009025                 ЗИМА      ПЕРЕВОЗ  Jul 23, 10:10  Jul 23, 10:25      1  200200096216\n",
      " 777700009025              ПЕРЕВОЗ       КУЙТУН  Jul 23, 10:25  Jul 23, 11:16      1  200200096216\n",
      " 777700009025               КУЙТУН         АЗЕЙ  Jul 23, 11:16  Jul 23, 12:16      1  200200096216\n",
      " 777700009025                 АЗЕЙ        ТУЛУН  Jul 23, 12:16  Jul 23, 12:49      1  200200096216\n",
      " 777700009025                ТУЛУН       УДА II  Jul 23, 12:49  Jul 23, 14:45      1  200200096216\n",
      " 777700009025               УДА II  НИЖНЕУДИНСК  Jul 23, 14:45  Jul 23, 14:54      1  200200096216\n",
      "\n",
      "         team     st_from_name       st_to_name   time_start_f     time_end_f  state          loco\n",
      " 200200273938          ТАКСИМО          ТАКСИМО  Jul 22, 09:28  Jul 22, 11:05      2            -1\n",
      " 200200273938          ТАКСИМО         КАЗАНКАН  Jul 22, 11:05  Jul 22, 13:05      1  200200097877\n",
      " 200200273938         КАЗАНКАН        АНГАРАКАН  Jul 22, 13:05  Jul 22, 13:50      1  200200097877\n",
      " 200200273938        АНГАРАКАН       НОВЫЙ УОЯН  Jul 22, 13:50  Jul 22, 15:43      1  200200097877\n",
      " 200200273938       НОВЫЙ УОЯН  СЕВЕРОБАЙКАЛЬСК  Jul 22, 15:43  Jul 22, 19:38      1  200200097877\n",
      " 200200273938  СЕВЕРОБАЙКАЛЬСК  СЕВЕРОБАЙКАЛЬСК  Jul 22, 20:08  Jul 23, 03:15      4            -1\n",
      " 200200273938  СЕВЕРОБАЙКАЛЬСК       НОВЫЙ УОЯН  Jul 23, 03:15  Jul 23, 06:39      0            -1\n",
      " 200200273938       НОВЫЙ УОЯН        АНГАРАКАН  Jul 23, 06:52  Jul 23, 08:28      0            -1\n",
      " 200200273938        АНГАРАКАН         КАЗАНКАН  Jul 23, 08:28  Jul 23, 09:10      0            -1\n",
      " 200200273938         КАЗАНКАН          ТАКСИМО  Jul 23, 09:10  Jul 23, 10:43      0            -1\n",
      " 200200273938          ТАКСИМО           КУАНДА  Jul 23, 11:23  Jul 23, 13:00      0            -1\n",
      " 200200273938           КУАНДА         БАЛБУХТА  Jul 23, 13:03  Jul 23, 13:48      0            -1\n",
      " 200200273938         БАЛБУХТА          СЮЛЬБАН  Jul 23, 13:48  Jul 23, 14:13      0            -1\n",
      " 200200273938          СЮЛЬБАН       НОВАЯ ЧАРА  Jul 23, 14:13  Jul 23, 15:58      0            -1\n"
     ]
    }
   ],
   "source": [
    "add_header('Полные планы по некоторым ошибочным бригадам:')\n",
    "top_st = no_stop.st_to_name.value_counts().index[0]\n",
    "sec_st = no_stop.st_to_name.value_counts().index[1]\n",
    "cols = ['team', 'st_from_name', 'st_to_name', 'time_start_f', 'time_end_f', 'state', 'loco']\n",
    "add_line(team_plan[team_plan.team == no_stop[no_stop.st_to_name == top_st].iloc[0].team][cols])\n",
    "add_line('')\n",
    "add_line(team_plan[team_plan.team == no_stop[no_stop.st_to_name == sec_st].iloc[0].team][cols])"
   ]
  },
  {
   "cell_type": "markdown",
   "metadata": {},
   "source": [
    "#### Причины проезда бригад мимо станций смены:\n",
    "\n",
    "1. Новый Уоян: у бригад в участках обкатки присутствует участок 2002118258 (Северобайкальск -- Таксимо). Возможное решение: проверить участки обкатки, выяснить, откуда берется участок обкатки Северобайкальск -- Таксимо, удалить этот участок при необходимости.\n",
    "\n",
    "2. Зима. Фейковым бригадам хватает рабочего времени, чтобы доехать из Иркутска до Нижнеудинска (время хода --- чуть более 9 часов). Для этих бригад должен определяться УОЛБ 920502 \"Иркутск -- Зима\" с нормативным рабочим временем ровно 9 часов (540). Так что должна планироваться смена в Зиме. Возможные причины ошибки:\n",
    "  1. Определяется другой УОЛБ - а именно, УОЛБ 920503 \"Иркутск -- Гончарово, Кая -- Зима\". У этого УОЛБ рабочее время = 600 (10 часов). \n",
    "  2. У фейковой бригады неверно указывается депо приписки (или не указывается вообще). Тогда для нее может вообще не быть найден УОЛБ."
   ]
  },
  {
   "cell_type": "markdown",
   "metadata": {},
   "source": [
    "### Проверка случаев смены бригад не на допустимых станциях"
   ]
  },
  {
   "cell_type": "code",
   "execution_count": 151,
   "metadata": {
    "collapsed": true
   },
   "outputs": [],
   "source": [
    "add_header('Проверка случаев смены бригад не на допустимых станциях', h=3, p=False)"
   ]
  },
  {
   "cell_type": "code",
   "execution_count": 152,
   "metadata": {
    "collapsed": false
   },
   "outputs": [
    {
     "name": "stdout",
     "output_type": "stream",
     "text": [
      "Исключаются случаи смены бригады из-за завершения маршрута локомотива или поезда, а также случаи смены бригады на станции, которая является депо приписки бригады\n"
     ]
    }
   ],
   "source": [
    "add_line('Исключаются случаи смены бригады из-за завершения маршрута локомотива или поезда' + \n",
    "         ', а также случаи смены бригады на станции, которая является депо приписки бригады')"
   ]
  },
  {
   "cell_type": "code",
   "execution_count": 153,
   "metadata": {
    "collapsed": false
   },
   "outputs": [],
   "source": [
    "#loco_plan['loco_end'] = loco_plan.loco != loco_plan.loco.shift(-1)\n",
    "#train_ends = train_plan.drop_duplicates('train', keep='last')[['train', 'st_to_name']].set_index('train')\n",
    "#loco_plan['train_end'] = loco_plan.train.map(train_ends.st_to_name) == loco_plan.st_to_name\n",
    "loco_plan['end_trip'] = (loco_plan.state != loco_plan.state.shift(-1)) | (loco_plan.train != loco_plan.train.shift(-1))\\\n",
    "                        | (loco_plan.loco != loco_plan.loco.shift(-1))\n",
    "team_plan['start_station_name'] = team_plan.team.map(team_plan[team_plan.state.isin([0, 1])]\\\n",
    "                                                     .drop_duplicates('team').set_index('team').st_from_name)\n",
    "team_plan.depot_name.fillna(team_plan.start_station_name, inplace=True)\n",
    "team_plan['depot_st_name'] = team_plan.depot_st.map(st_names.name)\n",
    "team_plan.depot_st_name.fillna(team_plan.start_station_name, inplace=True)\n",
    "loco_plan['team_depot_name'] = loco_plan.team.map(team_plan.drop_duplicates('team').set_index('team').depot_name)\n",
    "loco_plan['team_ready_depot_name'] = loco_plan.team.map(team_plan.drop_duplicates('team').set_index('team').depot_st_name)"
   ]
  },
  {
   "cell_type": "code",
   "execution_count": 154,
   "metadata": {
    "collapsed": false
   },
   "outputs": [
    {
     "name": "stdout",
     "output_type": "stream",
     "text": [
      "Все бригады меняются только на приоритетных станциях смены\n"
     ]
    }
   ],
   "source": [
    "pr_st = pd.read_csv(FOLDER + 'mandatory/priority_team_change_stations.csv', sep=';', encoding='utf-8-sig', dtype={'station':str}).station\n",
    "#team_change = loco_plan[(loco_plan.state != 4) \n",
    "#                        & (loco_plan.team_end == True) & (loco_plan.loco_end == False) & (loco_plan.train_end == False)]\n",
    "team_change = loco_plan[(loco_plan.state != 4) & (loco_plan.team_end == True) & (loco_plan.end_trip == False)]\n",
    "bad_team_change = team_change[(team_change.st_to.isin(pr_st) == False) \n",
    "                              & (team_change.st_to_name != team_change.team_depot_name)\n",
    "                              & (team_change.st_to_name != team_change.team_ready_depot_name)]\n",
    "if bad_team_change.st_to_name.dropna().empty:\n",
    "    add_header('Все бригады меняются только на приоритетных станциях смены')\n",
    "else:\n",
    "    add_header('Всего %d случаев смены бригад не на приоритетных станциях смены (%.2f%%)'\n",
    "              % (bad_team_change.loco.count(), 100 * bad_team_change.loco.count() / team_change.loco.count()))\n",
    "    add_header('Распределение по неприоритетным станциям (первые 10):')\n",
    "    add_line(bad_team_change.st_to_name.value_counts().head(10))   \n",
    "    "
   ]
  },
  {
   "cell_type": "code",
   "execution_count": 155,
   "metadata": {
    "collapsed": false
   },
   "outputs": [],
   "source": [
    "with (pd.option_context('display.max_colwidth', 20)):\n",
    "    if not bad_team_change.st_to_name.dropna().empty:\n",
    "        add_header('Примеры локомотивов и бригад, для которых смена указанной бригады произошла не на приоритетной станции:')\n",
    "        add_line(bad_team_change[['loco', 'team', 'st_to_name', 'time_end_f', 'train']].head(10))\n",
    "        cols = ['loco', 'st_from_name', 'st_to_name', 'time_start_f', 'time_end_f', 'train', 'team', 'team_depot_name']        \n",
    "        loco_id = bad_team_change[bad_team_change.st_to_name == bad_team_change.st_to_name.value_counts().idxmax()]\\\n",
    "                    .drop_duplicates('loco').iloc[0,:].loco\n",
    "        add_header('Полный план по одному из таких локомотивов:')\n",
    "        add_line(loco_plan[loco_plan.loco == loco_id][cols])"
   ]
  },
  {
   "cell_type": "markdown",
   "metadata": {},
   "source": [
    "<a id='presence'></a>\n",
    "## Проверка отправления бригады не ранее времени явки [ToC](#toc)"
   ]
  },
  {
   "cell_type": "code",
   "execution_count": 156,
   "metadata": {
    "collapsed": true
   },
   "outputs": [],
   "source": [
    "add_header('Проверка отправления бригады не ранее времени явки', h=2, p=False)"
   ]
  },
  {
   "cell_type": "code",
   "execution_count": 157,
   "metadata": {
    "collapsed": false
   },
   "outputs": [],
   "source": [
    "# Вычисляем максимальное время явки, добавляем его в team_info и team_plan\n",
    "# В таблице presence_fail --- ошибочные отправления бригад до времени явки\n",
    "\n",
    "presence_lim = 0\n",
    "team_cols = ['team', 'st_from_name', 'st_to_name', 'time_start_f', 'ready_type', \n",
    "             'presence_norm', 'presence_gap', 'state', 'state_info']\n",
    "\n",
    "team_info['all_presence'] = list(zip(team_info.depot_time, team_info.return_time))\n",
    "team_info['presence'] = team_info.all_presence.apply(lambda x: x[0] if x[0] > x[1] else x[1])\n",
    "team_info['presence_norm'] = team_info.presence.apply(lambda x: time.strftime(time_format, time.localtime(x)) if x>0 else x)\n",
    "team_plan['presence'] = team_plan.team.map(team_info.set_index('team').presence)\n",
    "team_plan['presence_norm'] = team_plan.presence.apply(lambda x: time.strftime(time_format, time.localtime(x)) if x>0 else x)\n",
    "team_plan['presence_gap'] = team_plan.time_start - team_plan.presence\n",
    "team_plan['ready_type'] = team_plan.team.map(team_info.set_index('team').ready_type)\n",
    "presence_fail = team_plan[(team_plan.state.isin([0, 1])) & (team_plan.presence_gap < presence_lim)].drop_duplicates('team')\n",
    "pr = team_info[['team', 'depot_time', 'return_time', 'presence', 'presence_norm']]"
   ]
  },
  {
   "cell_type": "code",
   "execution_count": 165,
   "metadata": {
    "collapsed": false
   },
   "outputs": [
    {
     "name": "stdout",
     "output_type": "stream",
     "text": [
      "Нет бригад, которые запланированы к отправлению пассажиром ранее времени явки\n",
      "\n",
      "Нет бригад, которые запланированы к отправлению пассажирами ранее времени явки после начала планирования\n"
     ]
    }
   ],
   "source": [
    "p = presence_fail[presence_fail.state == 0]\n",
    "ph = presence_fail[(presence_fail.state == 0) & (presence_fail.time_start >= current_time)]\n",
    "if not p.empty:\n",
    "    add_header('Всего бригад, которые отправлены пассажиром ранее времени явки: %d (показаны первые 10)' % p.team.count())\n",
    "    add_line(p.sort_values('presence_gap')[team_cols].head(10))\n",
    "else:\n",
    "    add_header('Нет бригад, которые запланированы к отправлению пассажиром ранее времени явки')\n",
    "    \n",
    "if not ph.empty:\n",
    "    add_header('\\nВсего бригад, которые отправлены пассажиром ранее времени явки после начала планирования: %d (показаны первые 10)' \n",
    "      % ph.team.count())\n",
    "    add_line(ph.sort_values('presence_gap')[team_cols].head(10))\n",
    "else:\n",
    "    add_header('\\nНет бригад, которые запланированы к отправлению пассажирами ранее времени явки после начала планирования')"
   ]
  },
  {
   "cell_type": "code",
   "execution_count": 164,
   "metadata": {
    "collapsed": false
   },
   "outputs": [
    {
     "name": "stdout",
     "output_type": "stream",
     "text": [
      "Всего бригад, которые отправлены с локомотивом ранее времени явки: 1 (показаны первые 10)\n",
      "         team st_from_name st_to_name   time_start_f ready_type  presence_norm  presence_gap  state state_info\n",
      " 200200245998     САЯНСКАЯ  ЩЕТИНКИНО  Jul 06, 03:37     return  Jul 06, 10:20        -24180      1          1\n",
      "Нет бригад, которые запланированы к отправлению с локомотивами ранее времени явки после начала планирования\n"
     ]
    }
   ],
   "source": [
    "f = presence_fail[presence_fail.state == 1]\n",
    "fh = presence_fail[(presence_fail.state == 1) & (presence_fail.time_start >= current_time)]\n",
    "if not f.empty:\n",
    "    add_header('Всего бригад, которые отправлены с локомотивом ранее времени явки: %d (показаны первые 10)' % f.team.count())\n",
    "    add_line(f.sort_values('presence_gap')[team_cols].head(10))\n",
    "else:\n",
    "    add_header('Нет бригад, которые запланированы к отправлению с локомотивами ранее времени явки')\n",
    "\n",
    "if not fh.team.empty:\n",
    "    add_header('\\nВсего бригад, которые отправлены с локомотивом ранее времени явки после начала планирования: %d (показаны первые 10)' \n",
    "      % fh.team.count())\n",
    "    add_line(fh.sort_values('presence_gap')[team_cols].head(10))\n",
    "else:\n",
    "    add_header('\\nНет бригад, которые запланированы к отправлению с локомотивами ранее времени явки после начала планирования')"
   ]
  },
  {
   "cell_type": "markdown",
   "metadata": {},
   "source": [
    "<a id='before_current_time'></a>\n",
    "## Проверка планирования бригад до времени начала планирования [ToC](#toc)"
   ]
  },
  {
   "cell_type": "code",
   "execution_count": 68,
   "metadata": {
    "collapsed": true
   },
   "outputs": [],
   "source": [
    "add_header('Проверка планирования бригад до времени начала планирования', h=2, p=False)"
   ]
  },
  {
   "cell_type": "code",
   "execution_count": 69,
   "metadata": {
    "collapsed": false
   },
   "outputs": [
    {
     "name": "stdout",
     "output_type": "stream",
     "text": [
      "(Не учитываются бригады, которые на начало планирования находились на перегоне)\n",
      "Время начала планирования: Jul 06, 14:41\n",
      "\n",
      "Всего бригад, отправленных до начала планирования: 0 (0.00% от всех запланированных бригад)\n"
     ]
    }
   ],
   "source": [
    "team_cols = ['team', 'st_from_name', 'st_to_name', 'time_start_f', 'state', 'loco', 'state_info']\n",
    "\n",
    "add_line('(Не учитываются бригады, которые на начало планирования находились на перегоне)')\n",
    "add_line('Время начала планирования: %s' % time.strftime(time_format, time.localtime(current_time)))\n",
    "\n",
    "total_teams = team_plan.team.drop_duplicates().count()\n",
    "\n",
    "tbef = team_plan[(team_plan.time_start < current_time)          \n",
    "         & (team_plan.state.isin([0, 1])) & (team_plan.state_info != team_plan.state.apply(str))].drop_duplicates('team')\n",
    "add_header('\\nВсего бригад, отправленных до начала планирования: %d (%.2f%% от всех запланированных бригад)' \n",
    "           % (tbef.team.count(), 100 * tbef.team.count() / total_teams))\n",
    "if not tbef.empty:\n",
    "    add_header('\\nРаспределение по состояниям бригад, отправленных до начала планирования:')\n",
    "    add_line(tbef.state.value_counts())\n",
    "    \n",
    "    for i in sorted(tbef.state.unique()):\n",
    "        add_header('\\nБригады, отправленные до начала планирования в состоянии %d (первые 10):' % i)\n",
    "        add_line(tbef[tbef.state == i].sort_values('time_start').head(10)[team_cols])\n",
    "\n",
    "    add_header('\\nРаспределение по типу бригад, отправленных до начала планирования в состоянии 1:')\n",
    "    add_line(tbef[tbef.state == 1].team_type.value_counts())"
   ]
  },
  {
   "cell_type": "markdown",
   "metadata": {},
   "source": [
    "<a id='presenting'></a>\n",
    "## Проверка планируемых явок бригад [ToC](#toc)"
   ]
  },
  {
   "cell_type": "code",
   "execution_count": 70,
   "metadata": {
    "collapsed": true
   },
   "outputs": [],
   "source": [
    "add_header('Проверка планируемых явок бригад', h=2, p=False)"
   ]
  },
  {
   "cell_type": "code",
   "execution_count": 71,
   "metadata": {
    "collapsed": false
   },
   "outputs": [
    {
     "name": "stdout",
     "output_type": "stream",
     "text": [
      "Разброс времен на явку бригад: от 0.32 ч. до 5.90 ч.\n"
     ]
    },
    {
     "data": {
      "image/png": "[encoded data removed]",
      "text/plain": [
       "<matplotlib.figure.Figure at 0x1d84ba525f8>"
      ]
     },
     "metadata": {},
     "output_type": "display_data"
    }
   ],
   "source": [
    "team_cols = ['team', 'st_from_name', 'st_to_name', 'time_start_f', 'time_end_f', 'tt', 'state', 'loco', 'state_info']\n",
    "team_plan['tt'] = team_plan.time_end - team_plan.time_start\n",
    "min_presenting = team_plan[team_plan.state == 2][team_cols].tt.min()\n",
    "max_presenting = team_plan[team_plan.state == 2][team_cols].tt.max()\n",
    "add_header('Разброс времен на явку бригад: от %.2f ч. до %.2f ч.' % (min_presenting / 3600, max_presenting / 3600))\n",
    "sns.set_style('whitegrid')\n",
    "sns.set_context('notebook')\n",
    "fig = plt.figure()\n",
    "ax = sns.distplot(team_plan[team_plan.state == 2][team_cols].tt / 3600, hist=False, bins=20, color='b', kde_kws={'shade':True})\n",
    "ax.set(xlabel='Время на явку, ч.', title='Распределение времен на явку бригад')\n",
    "sns.despine()\n",
    "filename = 'team_presenting.png'\n",
    "fig.savefig(REPORT_FOLDER + filename, bbox_inches='tight')\n",
    "add_image(filename)"
   ]
  },
  {
   "cell_type": "code",
   "execution_count": 72,
   "metadata": {
    "collapsed": false
   },
   "outputs": [
    {
     "name": "stdout",
     "output_type": "stream",
     "text": [
      "Всего 1126 бригад, у которых время окончания отдыха не совпадает со временем явки (показаны первые 10):\n",
      "         team  st_from_name    st_to_name  state  next_state   time_start_f     time_end_f next_time_start_f\n",
      " 200200280971     КАРЫМСКАЯ     КАРЫМСКАЯ      4           2  Jul 06, 14:42  Jul 06, 17:42     Jul 06, 18:34\n",
      " 200200133588         УРУША         УРУША      4           2  Jul 06, 14:42  Jul 06, 17:42     Jul 06, 23:59\n",
      " 200200260896  ХАБАРОВСК II  ХАБАРОВСК II      4           2  Jul 06, 14:42  Jul 06, 18:59     Jul 06, 20:05\n",
      " 200200175944     МАГДАГАЧИ     МАГДАГАЧИ      4           2  Jul 06, 14:45  Jul 06, 18:48     Jul 06, 19:15\n",
      " 200200131243      УЛАН-УДЭ      УЛАН-УДЭ      4           2  Jul 06, 14:46  Jul 06, 18:34     Jul 07, 00:13\n",
      " 200200212284     БЕЛОГОРСК     БЕЛОГОРСК      4           2  Jul 06, 14:46  Jul 06, 17:46     Jul 06, 19:04\n",
      " 210207676311      УЛАН-УДЭ      УЛАН-УДЭ      4           2  Jul 06, 14:46  Jul 06, 17:46     Jul 06, 19:13\n",
      " 200200224568      МАРИИНСК      МАРИИНСК      4           2  Jul 06, 14:48  Jul 06, 17:48     Jul 06, 18:35\n",
      " 200200091949  ХАБАРОВСК II  ХАБАРОВСК II      4           2  Jul 06, 14:48  Jul 06, 18:32     Jul 06, 19:54\n",
      " 200200247639   ДУБИНИНСКИЙ   ДУБИНИНСКИЙ      4           2  Jul 06, 14:49  Jul 06, 17:49     Jul 07, 01:05\n",
      "\n",
      "Распределение таких ошибочных явок после отдыха по станциям (показаны первые 5):\n",
      "УРУША                       103\n",
      "МАГДАГАЧИ                    85\n",
      "ТАЙШЕТ                       74\n",
      "ЧЕРНЫШЕВСК-ЗАБАЙКАЛЬСКИЙ     68\n",
      "МОГОЧА                       64\n"
     ]
    }
   ],
   "source": [
    "team_plan['next_state'] = team_plan.state.shift(-1)\n",
    "team_plan['next_time_start_f'] = team_plan.time_start_f.shift(-1)\n",
    "cols = ['team', 'st_from_name', 'st_to_name', 'state', 'next_state', 'time_start_f', 'time_end_f', 'next_time_start_f']\n",
    "rest_pres = team_plan[(team_plan.team == team_plan.team.shift(-1)) \n",
    "                     & (team_plan.state == 4) & (team_plan.next_state == 2)\n",
    "                     & (team_plan.time_end_f != team_plan.next_time_start_f)]\n",
    "add_header('Всего %d бригад, у которых время окончания отдыха не совпадает со временем явки (показаны первые 10):' \n",
    "      % rest_pres.team.drop_duplicates().count())\n",
    "add_line(rest_pres[rest_pres.time_start >= current_time].sort_values('time_start').head(10)[cols])\n",
    "add_header('\\nРаспределение таких ошибочных явок после отдыха по станциям (показаны первые 5):')\n",
    "add_line(rest_pres.st_from_name.value_counts().head())"
   ]
  },
  {
   "cell_type": "markdown",
   "metadata": {},
   "source": [
    "<a id='check_useful_assign'></a>\n",
    "## Проверка использования бригад [ToC](#toc)"
   ]
  },
  {
   "cell_type": "code",
   "execution_count": 73,
   "metadata": {
    "collapsed": false
   },
   "outputs": [],
   "source": [
    "add_header('Проверка использования бригад', h=2, p=False)"
   ]
  },
  {
   "cell_type": "markdown",
   "metadata": {},
   "source": [
    "<a id='only_pass'></a>\n",
    "### Бригады, запланированные к отправлению пассажирами без последующей подвязки [ToC](#toc)"
   ]
  },
  {
   "cell_type": "code",
   "execution_count": 74,
   "metadata": {
    "collapsed": true
   },
   "outputs": [],
   "source": [
    "add_header('Проверка использования бригад после засылки пассажирами', h=3, p=False)"
   ]
  },
  {
   "cell_type": "code",
   "execution_count": 75,
   "metadata": {
    "collapsed": false
   },
   "outputs": [],
   "source": [
    "team_plan['all_states'] = team_plan.team.map(team_plan.groupby('team').state.unique())\n",
    "#team_plan['last_state'] = team_plan.team.map(team_plan\n",
    "#                                             .sort_values(['team', 'time_start'], ascending=[True, False])\n",
    "#                                             .drop_duplicates('team')[['team', 'state']]\n",
    "#                                             .set_index('team')\n",
    "#                                             .state)\n",
    "\n",
    "#team_plan['first_state'] = team_plan.team.map(team_plan\n",
    "#                                             .sort_values(['team', 'time_start'])\n",
    "#                                             .drop_duplicates('team')[['team', 'state']]\n",
    "#                                             .set_index('team')\n",
    "#                                             .state)\n",
    "\n",
    "cols = ['team', 'st_from_name', 'st_to_name', 'time_start_f', 'time_end_f', 'depot_name',\n",
    "        'state', 'all_states']"
   ]
  },
  {
   "cell_type": "code",
   "execution_count": 76,
   "metadata": {
    "collapsed": false
   },
   "outputs": [
    {
     "name": "stdout",
     "output_type": "stream",
     "text": [
      "Всего 398 бригад, для которых планируется отправка пассажиром и не планируется работа с поездом\n"
     ]
    }
   ],
   "source": [
    "def get_cat(all_states):\n",
    "    if 1 in all_states:\n",
    "        return 'work'\n",
    "    elif (len(all_states) == 1) & (all_states[0] == 2):\n",
    "        return 'only_presence'\n",
    "    elif len(all_states) == 2:\n",
    "        if ((all_states[0] == 4) & (all_states[1] == 0)):\n",
    "            return 'pass_home'\n",
    "        else:\n",
    "            return 'fail'\n",
    "    else:\n",
    "        return 'fail'\n",
    "\n",
    "team_plan['cat'] = team_plan.all_states.apply(get_cat)\n",
    "only_pass_teams = team_plan[(team_plan.cat == 'fail') & (team_plan.state_info != '2')]\n",
    "                            \n",
    "add_header('Всего %d бригад, для которых планируется отправка пассажиром и не планируется работа с поездом' \n",
    "      % only_pass_teams.team.drop_duplicates().count())"
   ]
  },
  {
   "cell_type": "code",
   "execution_count": 77,
   "metadata": {
    "collapsed": false
   },
   "outputs": [
    {
     "name": "stdout",
     "output_type": "stream",
     "text": [
      "Станции, с которых чаще всегда планируется лишняя отправка пассажирами:\n",
      "ИЛАНСКАЯ                              124\n",
      "КРАСНОЯРСК-ВОСТОЧНЫЙ                   86\n",
      "НИЖНЕУДИНСК                            26\n",
      "ТЫНДА                                  23\n",
      "КОРШУНИХА-АНГАРСКАЯ                    18\n",
      "ЛЕНА                                   14\n",
      "КОМСОМОЛЬСК-НА-АМУРЕ-СОРТИРОВОЧНЫЙ     12\n",
      "СЕВЕРОБАЙКАЛЬСК                        11\n",
      "УЛАН-УДЭ                                9\n",
      "СМОЛЯНИНОВО                             8\n"
     ]
    }
   ],
   "source": [
    "add_header('Станции, с которых чаще всегда планируется лишняя отправка пассажирами:')\n",
    "add_line(only_pass_teams.drop_duplicates('team').st_from_name.value_counts().head(10))"
   ]
  },
  {
   "cell_type": "code",
   "execution_count": 78,
   "metadata": {
    "collapsed": false
   },
   "outputs": [
    {
     "name": "stdout",
     "output_type": "stream",
     "text": [
      "Примеры:\n",
      "         team st_from_name st_to_name   time_start_f     time_end_f depot_name  state all_states\n",
      " 200200164081     ИЛАНСКАЯ     РЕШОТЫ  Jul 07, 02:49  Jul 07, 03:58   ИЛАНСКАЯ      0     [0, 4]\n",
      " 200200164081       РЕШОТЫ      КЛЮЧИ  Jul 07, 03:59  Jul 07, 04:14   ИЛАНСКАЯ      0     [0, 4]\n",
      " 200200164081        КЛЮЧИ       ЮРТЫ  Jul 07, 04:14  Jul 07, 04:35   ИЛАНСКАЯ      0     [0, 4]\n",
      " 200200164081         ЮРТЫ     ТАЙШЕТ  Jul 07, 04:37  Jul 07, 04:58   ИЛАНСКАЯ      0     [0, 4]\n",
      " 200200164081       ТАЙШЕТ     ТАЙШЕТ  Jul 07, 05:28  Jul 07, 12:30   ИЛАНСКАЯ      4     [0, 4]\n",
      " 200200164081       ТАЙШЕТ       ЮРТЫ  Jul 07, 12:30  Jul 07, 12:50   ИЛАНСКАЯ      0     [0, 4]\n",
      " 200200164081         ЮРТЫ      КЛЮЧИ  Jul 07, 12:50  Jul 07, 13:12   ИЛАНСКАЯ      0     [0, 4]\n",
      " 200200164081        КЛЮЧИ     РЕШОТЫ  Jul 07, 13:12  Jul 07, 13:26   ИЛАНСКАЯ      0     [0, 4]\n",
      " 200200164081       РЕШОТЫ   ИЛАНСКАЯ  Jul 07, 13:27  Jul 07, 14:31   ИЛАНСКАЯ      0     [0, 4]\n",
      "\n",
      "         team st_from_name   st_to_name   time_start_f     time_end_f   depot_name  state all_states\n",
      " 200200224091  НИЖНЕУДИНСК      АЛЗАМАЙ  Jul 06, 20:55  Jul 06, 22:14  НИЖНЕУДИНСК      0     [0, 4]\n",
      " 200200224091      АЛЗАМАЙ   БАЙРОНОВКА  Jul 06, 22:16  Jul 06, 22:56  НИЖНЕУДИНСК      0     [0, 4]\n",
      " 200200224091   БАЙРОНОВКА       ТАЙШЕТ  Jul 06, 22:56  Jul 06, 23:06  НИЖНЕУДИНСК      0     [0, 4]\n",
      " 200200224091       ТАЙШЕТ       ТАЙШЕТ  Jul 06, 23:36  Jul 07, 05:29  НИЖНЕУДИНСК      4     [0, 4]\n",
      " 200200224091       ТАЙШЕТ   БАЙРОНОВКА  Jul 07, 05:29  Jul 07, 05:40  НИЖНЕУДИНСК      0     [0, 4]\n",
      " 200200224091   БАЙРОНОВКА      АЛЗАМАЙ  Jul 07, 05:40  Jul 07, 06:20  НИЖНЕУДИНСК      0     [0, 4]\n",
      " 200200224091      АЛЗАМАЙ  НИЖНЕУДИНСК  Jul 07, 06:20  Jul 07, 07:35  НИЖНЕУДИНСК      0     [0, 4]\n",
      "\n",
      "         team st_from_name st_to_name   time_start_f     time_end_f depot_name  state all_states\n",
      " 200200242667         ЗИМА    ПЕРЕВОЗ  Jul 07, 01:32  Jul 07, 01:46       ЗИМА      0     [0, 4]\n",
      " 200200242667      ПЕРЕВОЗ     КУЙТУН  Jul 07, 01:49  Jul 07, 03:07       ЗИМА      0     [0, 4]\n",
      " 200200242667       КУЙТУН       АЗЕЙ  Jul 07, 03:48  Jul 07, 05:05       ЗИМА      0     [0, 4]\n",
      " 200200242667         АЗЕЙ      ТУЛУН  Jul 07, 05:15  Jul 07, 05:40       ЗИМА      0     [0, 4]\n",
      " 200200242667        ТУЛУН     УДА II  Jul 07, 05:42  Jul 07, 08:36       ЗИМА      0     [0, 4]\n",
      " 200200242667       УДА II     УДА II  Jul 07, 09:06  Jul 07, 13:20       ЗИМА      4     [0, 4]\n",
      " 200200242667       УДА II      ТУЛУН  Jul 07, 13:20  Jul 07, 14:45       ЗИМА      0     [0, 4]\n",
      " 200200242667        ТУЛУН       АЗЕЙ  Jul 07, 14:47  Jul 07, 15:08       ЗИМА      0     [0, 4]\n",
      " 200200242667         АЗЕЙ     КУЙТУН  Jul 07, 15:08  Jul 07, 15:52       ЗИМА      0     [0, 4]\n",
      " 200200242667       КУЙТУН    ПЕРЕВОЗ  Jul 07, 15:54  Jul 07, 16:32       ЗИМА      0     [0, 4]\n",
      " 200200242667      ПЕРЕВОЗ       ЗИМА  Jul 07, 16:32  Jul 07, 16:40       ЗИМА      0     [0, 4]\n",
      "\n"
     ]
    }
   ],
   "source": [
    "with pd.option_context('display.max_colwidth', 25):\n",
    "    if only_pass_teams.team.drop_duplicates().count() != 0:\n",
    "        add_header('Примеры:')\n",
    "        for team in only_pass_teams.team.drop_duplicates().iloc[:3].values:    \n",
    "            add_line(team_plan[team_plan.team == team][cols])\n",
    "            add_line('')"
   ]
  },
  {
   "cell_type": "code",
   "execution_count": 79,
   "metadata": {
    "collapsed": false
   },
   "outputs": [
    {
     "name": "stdout",
     "output_type": "stream",
     "text": [
      "Пример бесцельной отправки пассажиром со станции Иркутск-Сортировочный:\n",
      "         team         st_from_name           st_to_name   time_start_f     time_end_f           depot_name  state all_states\n",
      " 200200260598  ИРКУТСК-СОРТИРОВ...           БАТАРЕЙНАЯ  Jul 07, 02:24  Jul 07, 02:26  ИРКУТСК-СОРТИРОВ...      0     [0, 4]\n",
      " 200200260598           БАТАРЕЙНАЯ                МЕГЕТ  Jul 07, 02:26  Jul 07, 02:34  ИРКУТСК-СОРТИРОВ...      0     [0, 4]\n",
      " 200200260598                МЕГЕТ            СУХОВСКАЯ  Jul 07, 02:34  Jul 07, 02:46  ИРКУТСК-СОРТИРОВ...      0     [0, 4]\n",
      " 200200260598            СУХОВСКАЯ      СУХОВСКАЯ-ЮЖНАЯ  Jul 07, 02:46  Jul 07, 03:00  ИРКУТСК-СОРТИРОВ...      0     [0, 4]\n",
      " 200200260598      СУХОВСКАЯ-ЮЖНАЯ      СУХОВСКАЯ-ЮЖНАЯ  Jul 07, 03:30  Jul 07, 07:30  ИРКУТСК-СОРТИРОВ...      4     [0, 4]\n",
      " 200200260598      СУХОВСКАЯ-ЮЖНАЯ            СУХОВСКАЯ  Jul 07, 07:30  Jul 07, 07:44  ИРКУТСК-СОРТИРОВ...      0     [0, 4]\n",
      " 200200260598            СУХОВСКАЯ                МЕГЕТ  Jul 07, 07:44  Jul 07, 07:57  ИРКУТСК-СОРТИРОВ...      0     [0, 4]\n",
      " 200200260598                МЕГЕТ           БАТАРЕЙНАЯ  Jul 07, 07:57  Jul 07, 08:06  ИРКУТСК-СОРТИРОВ...      0     [0, 4]\n",
      " 200200260598           БАТАРЕЙНАЯ  ИРКУТСК-СОРТИРОВ...  Jul 07, 08:06  Jul 07, 08:08  ИРКУТСК-СОРТИРОВ...      0     [0, 4]\n"
     ]
    }
   ],
   "source": [
    "irk = only_pass_teams[only_pass_teams.st_from_name == 'ИРКУТСК-СОРТИРОВОЧНЫЙ']\n",
    "if not irk.empty:\n",
    "    add_header('Пример бесцельной отправки пассажиром со станции Иркутск-Сортировочный:')\n",
    "    add_line(team_plan[team_plan.team == irk.iloc[0].team][cols])"
   ]
  },
  {
   "cell_type": "markdown",
   "metadata": {},
   "source": [
    "<a id='only_presence'></a>\n",
    "### Бригады, планируемые только на явку [ToC](#toc)"
   ]
  },
  {
   "cell_type": "code",
   "execution_count": 80,
   "metadata": {
    "collapsed": true
   },
   "outputs": [],
   "source": [
    "add_header('Бригады, планируемые только на явку', h=3, p=False)"
   ]
  },
  {
   "cell_type": "code",
   "execution_count": 91,
   "metadata": {
    "collapsed": false
   },
   "outputs": [
    {
     "name": "stdout",
     "output_type": "stream",
     "text": [
      "Всего 768 бригад, запланированных только на явку.\n",
      "\n",
      "Распределение по депо станции явки:\n",
      "МОГОЧА                  113\n",
      "ИЛАНСКАЯ                109\n",
      "КРАСНОЯРСК-ВОСТОЧНЫЙ     89\n",
      "ФЕВРАЛЬСК                71\n",
      "КАРЫМСКАЯ                35\n",
      "\n",
      "Распределение по типу бригады:\n",
      "Фейковая    584\n",
      "Реальная    184\n",
      "\n",
      "Примеры бригад:\n",
      "         team         st_from_name   time_start_f     time_end_f           depot_name state_info all_states\n",
      " 200200164070            КАРЫМСКАЯ  Jul 06, 10:54  Jul 06, 13:00            КАРЫМСКАЯ          2        [2]\n",
      " 200200136330           НОВАЯ ЧАРА  Jul 06, 04:09  Jul 06, 06:00           НОВАЯ ЧАРА          2        [2]\n",
      " 200200242540  ЧЕРНЫШЕВСК-ЗАБАЙ...  Jul 06, 09:45  Jul 06, 10:37  ЧЕРНЫШЕВСК-ЗАБАЙ...          2        [2]\n",
      " 200200127618                ХИЛОК  Jul 05, 22:01  Jul 05, 23:10                ХИЛОК          2        [2]\n",
      " 200200163975          НОВЫЙ УРГАЛ  Jul 06, 11:47  Jul 06, 13:47          НОВЫЙ УРГАЛ          2        [2]\n",
      " 777700002953               МОГОЧА  Jul 06, 09:55  Jul 06, 10:55                  NaN        NaN        [2]\n",
      " 777700002957          ВЕРХНЕЗЕЙСК  Jul 06, 12:46  Jul 06, 16:36                  NaN        NaN        [2]\n",
      " 777700002956               МОГОЧА  Jul 06, 00:04  Jul 06, 01:04                  NaN        NaN        [2]\n",
      " 777700002947               МОГОЧА  Jul 06, 10:22  Jul 06, 11:22                  NaN        NaN        [2]\n",
      " 777700002946               МОГОЧА  Jul 06, 09:43  Jul 06, 10:43                  NaN        NaN        [2]\n"
     ]
    }
   ],
   "source": [
    "cols = ['team', 'st_from_name', 'time_start_f', 'time_end_f', 'depot_name', 'state_info', 'all_states']\n",
    "only_pr = team_plan[team_plan.cat == 'only_presence']\n",
    "if not only_pr.empty:\n",
    "    add_header('Всего %d бригад, запланированных только на явку.' % only_pr.team.drop_duplicates().count())\n",
    "    add_line('')\n",
    "    add_header('Распределение по депо станции явки:')\n",
    "    add_line(only_pr.drop_duplicates('team').st_from_name.value_counts().head())\n",
    "    add_line('')\n",
    "    add_header('Распределение по типу бригады:')\n",
    "    add_line(only_pr.drop_duplicates('team').team_type.value_counts())\n",
    "    add_line('')\n",
    "    add_header('Примеры бригад:')\n",
    "    add_line(only_pr[cols].head(10))\n",
    "else:\n",
    "    add_header('В плане нет бригад, запланированных только на явку')"
   ]
  },
  {
   "cell_type": "markdown",
   "metadata": {},
   "source": [
    "<a id='pass_teams_in_plan'></a>\n",
    "## Проверка подвязки негрузовых бригад [ToC](#toc)"
   ]
  },
  {
   "cell_type": "code",
   "execution_count": 82,
   "metadata": {
    "collapsed": true
   },
   "outputs": [],
   "source": [
    "add_header('Проверка подвязки негрузовых бригад', h=2, p=False)"
   ]
  },
  {
   "cell_type": "code",
   "execution_count": 83,
   "metadata": {
    "collapsed": false
   },
   "outputs": [
    {
     "name": "stdout",
     "output_type": "stream",
     "text": [
      "В плане нет негрузовых бригад с запланированной подвязкой, отличной от подвязки во входных данных\n"
     ]
    }
   ],
   "source": [
    "cols = ['team', 'ttype', 'loco_info', 'st_from_name', 'st_to_name', 'time_start_f', 'state', 'loco']\n",
    "bad_pass_teams = team_plan[(team_plan.ttype == 0) & (team_plan.loco != team_plan.loco_info) \n",
    "                           & (team_plan.state.isin([0, 1]))][cols]\n",
    "if bad_pass_teams.empty:\n",
    "    add_header('В плане нет негрузовых бригад с запланированной подвязкой, отличной от подвязки во входных данных')\n",
    "else:\n",
    "    add_header('Всего %d негрузовых бригад, для которых запланирована подвязка, отличная от подвязки во входных данных:' \n",
    "              % bad_pass_teams.drop_duplicates('team').team.count())\n",
    "    add_line(bad_pass_teams.drop_duplicates('team')[cols].head())"
   ]
  },
  {
   "cell_type": "markdown",
   "metadata": {},
   "source": [
    "## Экспорт в HTML [ToC](#toc)"
   ]
  },
  {
   "cell_type": "code",
   "execution_count": 84,
   "metadata": {
    "collapsed": false
   },
   "outputs": [
    {
     "name": "stdout",
     "output_type": "stream",
     "text": [
      "Отчет сформирован: report/team_report_20160707_171659.html\n"
     ]
    }
   ],
   "source": [
    "filename = REPORT_FOLDER + 'team_report_' + time.strftime('%Y%m%d_%H%M%S', time.localtime(time.time())) + '.html'\n",
    "create_report(filename)"
   ]
  }
 ],
 "metadata": {
  "kernelspec": {
   "display_name": "Python 3",
   "language": "python",
   "name": "python3"
  },
  "language_info": {
   "codemirror_mode": {
    "name": "ipython",
    "version": 3
   },
   "file_extension": ".py",
   "mimetype": "text/x-python",
   "name": "python",
   "nbconvert_exporter": "python",
   "pygments_lexer": "ipython3",
   "version": "3.5.1"
  }
 },
 "nbformat": 4,
 "nbformat_minor": 0
}
