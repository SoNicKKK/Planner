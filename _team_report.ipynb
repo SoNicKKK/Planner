{
 "cells": [
  {
   "cell_type": "markdown",
   "metadata": {},
   "source": [
    "<a id='toc'></a>\n",
    "# Список тестов по бригадам:"
   ]
  },
  {
   "cell_type": "markdown",
   "metadata": {},
   "source": [
    "1. [Расчет процента подвязки между бригадами и локомотивами.](#perc_assign)\n",
    "2. [Расчет процента запланированных бригад от общего количества бригад на входе планировщика.](#perc_assign2)\n",
    "3. [Распределение между реальными и фейковыми бригадами в результатах планирования.](#real_fake)\n",
    "4. [Составление списка станций и участков, на которых не состоялась подвязка бригады.](#no_assign)\n",
    "5. [Проверка переработки бригад.](#overwork)   \n",
    "6. [Проверка \"скачков\" бригад между станциями.](#leaps)\n",
    "7. [Анализ времен стоянок поездов для смены бригады.](#stop_time)\n",
    "8. [Анализ времен отдыха бригад.](#rest_time)\n",
    "9. [Проверка корректности времен явки бригад во входных данных](#ready_time)\n",
    "10. [Проверка смены бригад на корректных станциях](#change)\n",
    "11. [Проверка отправления бригад до времени явки](#presence)\n",
    "12. [Проверка планирования бригад до времени начала планирования](#before_current_time)\n",
    "13. [Проверка планируемых явок бригад](#presenting)\n",
    "14. [Проверка использования бригад после засылки пассажирами](#check_useful_assign)\n",
    "  1. [Бригады, бесцельно отправляемые пассажирами](#only_pass)\n",
    "  2. [Бригады, у которых запланирована только явка](#only_presence)\n",
    "15. [Проверка подвязки негрузовых бригад](#pass_teams_in_plan)\n",
    "16. [Проверка сохранения предыдущих времен явок](#Проверка-сохранения-предыдущих-времен-явок)\n",
    "17. [Проверка возврата правильных времен явок у бригад](#Проверка-возврата-правильных-времен-явок-у-бригад)\n",
    "18. [Проверка планирования УТХ бригад](#Проверка-планирования-УТХ-бригад)"
   ]
  },
  {
   "cell_type": "markdown",
   "metadata": {},
   "source": [
    "### Константы и настройки"
   ]
  },
  {
   "cell_type": "code",
   "execution_count": 119,
   "metadata": {
    "collapsed": true
   },
   "outputs": [],
   "source": [
    "report = ''               # здесь будет храниться весь html-код отчета\n",
    "FOLDER = 'resources/'     # папка с csv-файлами с данными\n",
    "REPORT_FOLDER = 'report/' # папка для отчетов\n",
    "PRINT = True              # выводить ли все таблицы из отчета на печать здесь в блокноте"
   ]
  },
  {
   "cell_type": "code",
   "execution_count": 120,
   "metadata": {
    "collapsed": false
   },
   "outputs": [],
   "source": [
    "TIME_FORMAT = '%b %d, %H:%M'\n",
    "'''\n",
    "    Преобразует время из timestamp в красивый формат, заданный в константе time_format\n",
    "'''\n",
    "def nice_time(t):\n",
    "    return time.strftime(TIME_FORMAT, time.localtime(t)) if t > 0 else ''\n",
    "\n",
    "def nice_print(s, **kwargs):    \n",
    "    num = kwargs['num'] if 'num' in kwargs.keys() else False\n",
    "    cols = kwargs['cols'] if 'cols' in kwargs.keys() else s.columns\n",
    "    if num:\n",
    "        print(s.reset_index()[cols].to_string())\n",
    "    else:\n",
    "        print(s[cols].to_string(index=False))"
   ]
  },
  {
   "cell_type": "markdown",
   "metadata": {},
   "source": [
    "### Функции для экспорта в HTML"
   ]
  },
  {
   "cell_type": "code",
   "execution_count": 121,
   "metadata": {
    "collapsed": false
   },
   "outputs": [],
   "source": [
    "def add_line(line, p=PRINT):    \n",
    "    global report        \n",
    "    if p:                \n",
    "        if type(line) == pd.core.frame.DataFrame:\n",
    "            print(line.to_string(index=False))\n",
    "        elif type(line) == pd.core.series.Series:\n",
    "            print(line.to_string())\n",
    "        else:\n",
    "            print(line)\n",
    "    if type(line) == pd.core.frame.DataFrame:        \n",
    "        report += ('%s<br>' % line.to_html(index=False))\n",
    "    elif type(line) == pd.core.series.Series:\n",
    "        report += ('%s<br>' % line.to_frame().reset_index().to_html(index=False))\n",
    "    else:\n",
    "        report += ('%s<br>' % line)\n",
    "    \n",
    "def add_header(header, h=4, p=PRINT):\n",
    "    global report\n",
    "    report += ('<h%d>%s</h%d>' % (h, header, h))\n",
    "    if p:\n",
    "        print(header)\n",
    "\n",
    "def add_image(filename):\n",
    "    global report\n",
    "    report += ('<img src=\"%s\" alt=\"%s\" height=\"30%%\">' % (filename, filename))\n",
    "\n",
    "def create_report(filename):\n",
    "    global report\n",
    "    report = report.replace('<table border=\"1\" class=\"dataframe\">','<table class=\"table table-striped\">')\n",
    "    html_string = '''\n",
    "        <html>\n",
    "            <head>\n",
    "                <link rel=\"stylesheet\" href=\"skeleton.css\">\n",
    "                <style>body{ margin:20 20; background:whitesmoke; }\n",
    "                table {table-layout : fixed}\n",
    "                </style>\n",
    "            </head>\n",
    "            <body>                \n",
    "                %s\n",
    "            </body>\n",
    "        </html>''' % (report)\n",
    "    f = open(filename,'w', encoding='utf-8-sig')\n",
    "    f.write(html_string)\n",
    "    f.close()\n",
    "    print('Отчет сформирован: %s' % filename)"
   ]
  },
  {
   "cell_type": "markdown",
   "metadata": {},
   "source": [
    "## Загрузка и подготовка данных"
   ]
  },
  {
   "cell_type": "code",
   "execution_count": 122,
   "metadata": {
    "collapsed": false
   },
   "outputs": [
    {
     "name": "stdout",
     "output_type": "stream",
     "text": [
      "Время составления отчета: Aug 05, 19:03\n",
      "Время запуска планировщика: Jul 13, 10:00 (1468393200)\n"
     ]
    }
   ],
   "source": [
    "import numpy as np\n",
    "import pandas as pd\n",
    "import time, datetime\n",
    "from ast import literal_eval\n",
    "import matplotlib.pyplot as plt\n",
    "import seaborn as sns\n",
    "\n",
    "%matplotlib inline\n",
    "plt.style.use('fivethirtyeight')\n",
    "plt.rc('font', family='Times New Roman')\n",
    "\n",
    "pd.set_option('max_rows', 50)\n",
    "\n",
    "start_time = time.time()\n",
    "current_time = pd.read_csv(FOLDER + 'current_time.csv').current_time[0]\n",
    "twr          = pd.read_csv(FOLDER + 'team_work_region.csv', converters={'twr':str})\n",
    "links        = pd.read_csv(FOLDER + 'link.csv')\n",
    "stations     = pd.read_csv(FOLDER + 'station.csv', converters={'station':str})\n",
    "train_info   = pd.read_csv(FOLDER + 'train_info.csv', converters={'train': str, 'st_from':str, 'st_to':str})\n",
    "train_plan   = pd.read_csv(FOLDER + 'slot_train.csv', converters={'train': str, 'st_from':str, 'st_to':str})\n",
    "loco_info    = pd.read_csv(FOLDER + 'loco_attributes.csv', converters={'train':str, 'loco':str})\n",
    "loco_plan    = pd.read_csv(FOLDER + 'slot_loco.csv', converters={'train':str, 'loco':str, 'st_from':str, 'st_to':str})\n",
    "team_info    = pd.read_csv(FOLDER + 'team_attributes.csv', converters={'team':str,'depot':str, 'oper_location':str, \\\n",
    "                                                                 'st_from':str, 'st_to':str, 'loco':str, 'depot_st':str})\n",
    "team_plan    = pd.read_csv(FOLDER + 'slot_team.csv', converters={'team':str,'loco':str, 'st_from':str, 'st_to':str})\n",
    "loco_series  = pd.read_csv(FOLDER + 'loco_series.csv')\n",
    "\n",
    "team_info.regions = team_info.regions.apply(literal_eval)\n",
    "st_names = stations[['station', 'name', 'esr']].drop_duplicates().set_index('station')\n",
    "print('Время составления отчета:', time.strftime(TIME_FORMAT, time.localtime()))\n",
    "print('Время запуска планировщика: %s (%d)' % (nice_time(current_time), current_time))"
   ]
  },
  {
   "cell_type": "code",
   "execution_count": 123,
   "metadata": {
    "collapsed": true
   },
   "outputs": [],
   "source": [
    "# Мержим таблицы _plan и _info для поездов, локомотивов и бригад\n",
    "# Добавляем во все таблицы названия станций на маршруте и времена отправления/прибытия в читабельном формате\n",
    "\n",
    "def add_info(df):    \n",
    "    if 'st_from' in df.columns:\n",
    "        df['st_from_name'] = df.st_from.map(st_names.name)\n",
    "    if 'st_to' in df.columns:\n",
    "        df['st_to_name'] = df.st_to.map(st_names.name)\n",
    "    if 'time_start' in df.columns:\n",
    "        df['time_start_f'] = df.time_start.apply(lambda x: nice_time(x))\n",
    "    if 'time_end' in df.columns:\n",
    "        df['time_end_f'] = df.time_end.apply(lambda x: nice_time(x))\n",
    "    if 'oper_location' in df.columns:\n",
    "        df['oper_location_name'] = df.oper_location.map(st_names.name)    \n",
    "        df.oper_location_name.fillna(0, inplace=True)\n",
    "    if ('oper_location' in df.columns) & ('st_from' in df.columns) & ('st_to' in df.columns):        \n",
    "        df['loc_name'] = df.oper_location_name\n",
    "        df.loc[df.loc_name == 0, 'loc_name'] = df.st_from_name + ' - ' + df.st_to_name\n",
    "    \n",
    "add_info(train_plan)\n",
    "add_info(loco_plan)\n",
    "add_info(team_plan)\n",
    "add_info(loco_info)\n",
    "add_info(team_info)\n",
    "train_plan = train_plan.merge(train_info, on='train', suffixes=('', '_info'), how='left')\n",
    "loco_plan = loco_plan.merge(loco_info, on='loco', suffixes=('', '_info'), how='left')\n",
    "team_plan = team_plan.merge(team_info, on='team', suffixes=('', '_info'), how='left')\n",
    "team_plan['team_type'] = team_plan.team.apply(lambda x: 'Реальная' if str(x)[0] == '2' else 'Фейковая')"
   ]
  },
  {
   "cell_type": "code",
   "execution_count": 124,
   "metadata": {
    "collapsed": false
   },
   "outputs": [
    {
     "name": "stdout",
     "output_type": "stream",
     "text": [
      "Время сбора данных и запуска планировщика: Jul 13, 10:00\n"
     ]
    }
   ],
   "source": [
    "add_line('Время сбора данных и запуска планировщика: %s' % nice_time(current_time))"
   ]
  },
  {
   "cell_type": "markdown",
   "metadata": {},
   "source": [
    "<a id='perc_assign'></a>\n",
    "## Расчет процента подвязки между локомотивами и бригадами [ToC](#toc)"
   ]
  },
  {
   "cell_type": "code",
   "execution_count": 125,
   "metadata": {
    "collapsed": true
   },
   "outputs": [],
   "source": [
    "add_header('Расчет процента подвязки между локомотивами и бригадами', h=2, p=False)"
   ]
  },
  {
   "cell_type": "code",
   "execution_count": 126,
   "metadata": {
    "collapsed": false
   },
   "outputs": [
    {
     "name": "stdout",
     "output_type": "stream",
     "text": [
      "Локомотивов без бригад на горизонте  6 часов: 36 из 1591 (процент подвязки 97%)\n",
      "Локомотивов без реальных бригад на горизонте  6 часов: 104 из 1591 (процент подвязки 93%)\n",
      "Локомотивов без бригад на горизонте 12 часов: 82 из 1591 (процент подвязки 94%)\n",
      "Локомотивов без реальных бригад на горизонте 12 часов: 260 из 1591 (процент подвязки 83%)\n",
      "Локомотивов без бригад на горизонте 24 часов: 161 из 1591 (процент подвязки 89%)\n",
      "Локомотивов без реальных бригад на горизонте 24 часов: 426 из 1591 (процент подвязки 73%)\n"
     ]
    }
   ],
   "source": [
    "def count_real_assign_percent(hor):\n",
    "    loco_no_team = loco_plan.loc[(loco_plan.time_start < current_time + hor) &\n",
    "                             ((loco_plan.team == -1) | (loco_plan.team_type == 'Фейковая')) &\n",
    "                             (loco_plan.state.isin([0, 1]))]\n",
    "    loco_n = len(loco_plan.drop_duplicates(subset=['loco']).index)\n",
    "    loco_no_team_n = len(loco_no_team.loco.drop_duplicates().index)\n",
    "    percent = 100 - np.round((100 * loco_no_team_n / loco_n), 2)\n",
    "    add_line('Локомотивов без реальных бригад на горизонте %2.d часов: %d из %d (процент подвязки %d%%)' %\n",
    "          (hor / 3600, loco_no_team_n, loco_n, percent))\n",
    "    \n",
    "    \n",
    "def count_assign_percent(hor):\n",
    "    loco_no_team = loco_plan.loc[(loco_plan.time_start < current_time + hor) &\n",
    "                             (loco_plan.team == -1) &\n",
    "                             (loco_plan.state.isin([0, 1]))]\n",
    "    loco_n = len(loco_plan.drop_duplicates(subset=['loco']).index)\n",
    "    loco_no_team_n = len(loco_no_team.loco.drop_duplicates().index)\n",
    "    percent = 100 - np.round((100 * loco_no_team_n / loco_n), 2)\n",
    "    add_line('Локомотивов без бригад на горизонте %2.d часов: %d из %d (процент подвязки %d%%)' %\n",
    "          (hor / 3600, loco_no_team_n, loco_n, percent))\n",
    "    count_real_assign_percent(hor)   \n",
    "\n",
    "    \n",
    "if 'team' not in loco_plan.columns:\n",
    "    loco_plan = loco_plan.set_index(['loco', 'time_start']).join(team_plan.loc[team_plan.state == 1, \\\n",
    "                                                                ['team', 'loco', 'time_start', 'team_type']].\\\n",
    "                                                                 set_index(['loco', 'time_start'])).reset_index()    \n",
    "    loco_plan.team.fillna(-1, inplace=True)\n",
    "\n",
    "count_assign_percent(6 * 3600)\n",
    "count_assign_percent(12 * 3600)\n",
    "count_assign_percent(24 * 3600)"
   ]
  },
  {
   "cell_type": "markdown",
   "metadata": {},
   "source": [
    "<a id='perc_assign2'></a>\n",
    "## Расчет процента запланированных бригад от общего количества [ToC](#toc)"
   ]
  },
  {
   "cell_type": "code",
   "execution_count": 127,
   "metadata": {
    "collapsed": true
   },
   "outputs": [],
   "source": [
    "add_header('Расчет процента запланированных бригад от общего количества бригад на входе', h=2, p=False)"
   ]
  },
  {
   "cell_type": "code",
   "execution_count": 128,
   "metadata": {
    "collapsed": false
   },
   "outputs": [
    {
     "name": "stdout",
     "output_type": "stream",
     "text": [
      "Всего бригад, запланированных с локомотивами в работе: 4080 из 5058 (80.66%)\n"
     ]
    },
    {
     "data": {
      "image/png": "[encoded data removed]",
      "text/plain": [
       "<matplotlib.figure.Figure at 0x1c83cb68cf8>"
      ]
     },
     "metadata": {},
     "output_type": "display_data"
    }
   ],
   "source": [
    "team_assigned_n = team_info[team_info.team.isin(team_plan[team_plan.state.isin([0, 1])].team)]\\\n",
    "                    .drop_duplicates('team').team.count()\n",
    "team_total_n = team_info.drop_duplicates('team').team.count()\n",
    "team_assigned_percent = team_assigned_n / team_total_n\n",
    "add_line('Всего бригад, запланированных с локомотивами в работе: %d из %d (%.2f%%)' %\n",
    "      (team_assigned_n, team_total_n, 100 * team_assigned_percent))\n",
    "team_info['is_assign'] = team_info.team.isin(team_plan[team_plan.state.isin([0, 1])].team)\n",
    "assign_states = team_info.loc[team_info.is_assign == True, ['team', 'state']].state.astype(str).value_counts().to_frame()\n",
    "initial_states = team_info.state.value_counts().to_frame()\n",
    "initial_states.columns=['Бригады во входных данных']\n",
    "assign_states.columns=['Бригады в результатах']\n",
    "states = initial_states.join(assign_states)\n",
    "states.fillna(0, inplace=True)\n",
    "\n",
    "sns.set(style='white', context='notebook')\n",
    "sns.set_color_codes('pastel')\n",
    "fig = plt.figure(figsize=(8, 4))\n",
    "sns.barplot(x='index', y='Бригады во входных данных', data=states.sort_index().reset_index(), \n",
    "            color=\"b\", label='Бригады во входных данных')\n",
    "sns.set_color_codes('muted')\n",
    "ax = sns.barplot(x='index', y='Бригады в результатах', data=states.sort_index().reset_index(), \n",
    "            color=\"b\", label='Бригады в результатах')\n",
    "ax.legend(ncol=1, loc=\"upper right\", frameon=False)\n",
    "ax.set(ylabel='Количество бригад', xlabel='Исходное состояние бригады', \n",
    "       title='Соотношение между количеством запланированных бригад и бригад на входе')\n",
    "#sns.despine()\n",
    "filename = 'team_usage.png'\n",
    "plt.savefig(REPORT_FOLDER + filename, bbox_inches='tight')\n",
    "add_image(filename)"
   ]
  },
  {
   "cell_type": "markdown",
   "metadata": {},
   "source": [
    "<a id='real_fake'></a>\n",
    "### Распределение реальных и фейковых бригад в результатах планирования"
   ]
  },
  {
   "cell_type": "code",
   "execution_count": 129,
   "metadata": {
    "collapsed": true
   },
   "outputs": [],
   "source": [
    "add_header('Распределение реальных и фейковых бригад в результатах планирования', h=2, p=False)"
   ]
  },
  {
   "cell_type": "code",
   "execution_count": 130,
   "metadata": {
    "collapsed": false
   },
   "outputs": [
    {
     "data": {
      "image/png": "[encoded data removed]",
      "text/plain": [
       "<matplotlib.figure.Figure at 0x1c849bf1978>"
      ]
     },
     "metadata": {},
     "output_type": "display_data"
    }
   ],
   "source": [
    "f = team_plan[team_plan.state.isin([0, 1])].drop_duplicates('team').team_type.value_counts()\n",
    "fig = plt.figure(figsize=(5,5))\n",
    "colors = ['cornflowerblue', 'lightskyblue']\n",
    "expl = (0.03, 0) if len(f) == 2 else None\n",
    "plt.pie(f, autopct='%.2f%%', colors=colors, explode=expl, shadow=True, labels=list(f.index))\n",
    "filename = 'real_fake_teams_ratio.png'\n",
    "fig.savefig(REPORT_FOLDER + filename, bbox_inches='tight')\n",
    "add_image(filename)"
   ]
  },
  {
   "cell_type": "markdown",
   "metadata": {},
   "source": [
    "<a id='no_assign'></a>\n",
    "## Cтанции и участки, на которых не состоялась подвязка бригады [ToC](#toc)"
   ]
  },
  {
   "cell_type": "code",
   "execution_count": 131,
   "metadata": {
    "collapsed": true
   },
   "outputs": [],
   "source": [
    "add_header('Станции и участки, на которых не состоялась подвязка бригады', h=2, p=False)"
   ]
  },
  {
   "cell_type": "code",
   "execution_count": 132,
   "metadata": {
    "collapsed": false
   },
   "outputs": [],
   "source": [
    "horizon = 6 * 3600\n",
    "add_line('Горизонт анализа: %d часов' % (horizon / 3600), p=False)\n",
    "loco_mask = (loco_plan.time_start < current_time + horizon)"
   ]
  },
  {
   "cell_type": "code",
   "execution_count": 133,
   "metadata": {
    "collapsed": false
   },
   "outputs": [
    {
     "name": "stdout",
     "output_type": "stream",
     "text": [
      "Станции, на которых не удалось подвязать бригады под локомотив (первые 10):\n",
      "ИЛАНСКАЯ                9\n",
      "КРАСНОЯРСК-ВОСТОЧНЫЙ    6\n",
      "ВЫСОКОГОРНАЯ            4\n",
      "ЛЕНА                    4\n",
      "ЗАОЗЕРНАЯ               1\n",
      "УСТЬ-ИЛИМСК             1\n",
      "КОМСОМОЛЬСК-НА-АМУРЕ    1\n",
      "КОРШУНИХА-АНГАРСКАЯ     1\n",
      "МОГОЧА                  1\n",
      "ВОЛОЧАЕВКА I            1\n",
      "\n",
      "Участки планирования, на которых не удалось подвязать бригады под локомотив (первые 10):\n",
      "st_from_name          st_to_name \n",
      "ИЛАНСКАЯ              ЗАОЗЕРНАЯ      9\n",
      "КРАСНОЯРСК-ВОСТОЧНЫЙ  ЗЫКОВО         6\n",
      "ЛЕНА                  ХРЕБТОВАЯ      4\n",
      "ВЫСОКОГОРНАЯ          СОЛЛУ          4\n",
      "УЯР                   ЗЫКОВО         1\n",
      "УСТЬ-ИЛИМСК           ДИАБАЗОВЫЙ     1\n",
      "УССУРИЙСК             БАРАНОВСКИЙ    1\n",
      "УРГАЛ I               ЧЕГДОМЫН       1\n",
      "РУЖИНО                ШМАКОВКА       1\n",
      "МОГОЧА                АМАЗАР         1\n"
     ]
    }
   ],
   "source": [
    "# Добавляем признак первой станции на маршруте локомотива, где не была подвязана бригада\n",
    "loco_plan.loc[loco_plan.state == 4, 'team'] = 0\n",
    "loco_plan['no_team_start'] = (loco_plan.team == -1) & \\\n",
    "                             ((loco_plan.team != loco_plan.team.shift(1)) | (loco_plan.loco != loco_plan.loco.shift(1)))\n",
    "    \n",
    "loco_cols = ['loco', 'st_from_name', 'st_to_name', 'state', 'time_start_f', 'team', 'no_team_start']\n",
    "fail_team_assign_locos = loco_plan.loc[loco_mask & (loco_plan.no_team_start == True)]\n",
    "fail_team_assign_stations = fail_team_assign_locos.st_from_name.value_counts().head(10)\n",
    "fail_team_assign_tracks = fail_team_assign_locos.groupby('st_from_name').st_to_name.value_counts().\\\n",
    "                            sort_values(ascending=False).head(10)\n",
    "add_header('Станции, на которых не удалось подвязать бригады под локомотив (первые 10):')\n",
    "add_line(fail_team_assign_stations)\n",
    "add_header('\\nУчастки планирования, на которых не удалось подвязать бригады под локомотив (первые 10):')\n",
    "add_line(fail_team_assign_tracks)"
   ]
  },
  {
   "cell_type": "code",
   "execution_count": 134,
   "metadata": {
    "collapsed": false
   },
   "outputs": [
    {
     "name": "stdout",
     "output_type": "stream",
     "text": [
      "Локомотивы, к которым не была подвязана бригада на станции ИЛАНСКАЯ, по направлениям:\n",
      "ЗАОЗЕРНАЯ    9\n"
     ]
    }
   ],
   "source": [
    "st_name = fail_team_assign_stations.head(1).index[0]\n",
    "#st_name = 'КРАСНОЯРСК-ВОСТОЧНЫЙ'\n",
    "bad_locos = loco_plan.loc[loco_mask & (loco_plan.st_from_name == st_name) & (loco_plan.no_team_start == True)]\n",
    "if not bad_locos.empty:\n",
    "    add_header('Локомотивы, к которым не была подвязана бригада на станции %s, по направлениям:' % st_name)\n",
    "    add_line(bad_locos.st_to_name.value_counts())"
   ]
  },
  {
   "cell_type": "markdown",
   "metadata": {},
   "source": [
    "<a id='overwork'></a>\n",
    "## Проверка переработки бригад [ToC](#toc)"
   ]
  },
  {
   "cell_type": "code",
   "execution_count": 135,
   "metadata": {
    "collapsed": true
   },
   "outputs": [],
   "source": [
    "add_header('Бригады с переработкой', h=2, p=False)"
   ]
  },
  {
   "cell_type": "markdown",
   "metadata": {},
   "source": [
    "#### Вычисляем последнее время явки для каждого участка на маршруте"
   ]
  },
  {
   "cell_type": "code",
   "execution_count": 136,
   "metadata": {
    "collapsed": false
   },
   "outputs": [],
   "source": [
    "# В поле presence прописываем последнюю явку бригады из входных данных\n",
    "team_info['all_presence'] = list(zip(team_info.depot_time, team_info.return_time))\n",
    "team_info['presence'] = team_info.all_presence.apply(lambda x: max(x))\n",
    "team_info['presence_norm'] = team_info.presence.apply(nice_time)\n",
    "team_plan['info_presence'] = team_plan.team.map(team_info.set_index('team').presence)\n",
    "team_plan['info_presence_norm'] = team_plan.info_presence.apply(nice_time)\n",
    "team_plan['info_presence'] = team_plan.info_presence.apply(lambda x: [] if np.isnan(x) else [int(x)])\n",
    "\n",
    "# Собираем все запланированные явки бригады. \n",
    "# Если ни одной явки не запланировано, то проставляем фейковые явки: время первого отправления (после отдыха) минус 1 час\n",
    "team_plan['start_trip'] = team_plan.state.isin([0, 1]) \\\n",
    "                & ((team_plan.team != team_plan.team.shift(1)) | (team_plan.state.shift(1) == 4))\n",
    "team_plan['fake_plan_presence'] = team_plan.team.map(team_plan[team_plan.start_trip].groupby('team').time_start.unique() - 3600)\n",
    "team_plan.fake_plan_presence.fillna(0, inplace=True)\n",
    "team_plan['fake_plan_presence'] = team_plan.fake_plan_presence.apply(lambda x: [] if (type(x) == int) else x)\n",
    "team_plan['plan_presence'] = team_plan.team.map(team_plan[team_plan.state == 2].groupby('team').time_start.unique())\n",
    "team_plan.plan_presence.fillna(0, inplace=True)\n",
    "team_plan['plan_presence'] = team_plan.plan_presence.apply(lambda x: [] if (type(x) == int) else x)"
   ]
  },
  {
   "cell_type": "code",
   "execution_count": 137,
   "metadata": {
    "collapsed": false
   },
   "outputs": [],
   "source": [
    "def get_curr_presence(row):\n",
    "    real_presence = np.concatenate([row.info_presence, row.plan_presence])   \n",
    "    if len(real_presence) > 0:\n",
    "        presence_list = real_presence\n",
    "    elif len(row.fake_plan_presence) > 0:\n",
    "        presence_list = row.fake_plan_presence\n",
    "    else:\n",
    "        return current_time\n",
    "        \n",
    "    t = row.time_start\n",
    "    b = [x for x in presence_list if x <= t]\n",
    "    return int(max(b)) if b != [] else (row.fake_plan_presence[0] if len(row.fake_plan_presence) > 0 else current_time)   \n",
    "    \n",
    "    \n",
    "team_plan['curr_presence'] = team_plan.apply(lambda row: get_curr_presence(row), axis=1)\n",
    "#cols = ['team', 'st_from_name', 'time_start', 'state', 'info_presence', 'info_presence_norm', \n",
    "#        'plan_presence', 'fake_plan_presence', 'curr_presence']\n",
    "#team_plan[team_plan.team == '777700001868'][cols]"
   ]
  },
  {
   "cell_type": "markdown",
   "metadata": {},
   "source": [
    "#### Составляем таблицу team_trips с поездками бригад"
   ]
  },
  {
   "cell_type": "code",
   "execution_count": 138,
   "metadata": {
    "collapsed": false
   },
   "outputs": [],
   "source": [
    "cols = ['team', 'state', 'st_from_name', 'st_to_name', 'time_start', 'time_end', 'loco', 'start_trip', 'end_trip', \n",
    "        'start_trip_time', 'end_trip_time']\n",
    "team_plan['end_trip'] = ((team_plan.team != team_plan.team.shift(-1)) & (team_plan.state == 1)) | \\\n",
    "                        ((team_plan.state == 1) & (team_plan.state.shift(-1).isin([0, 2, 4])))\n",
    "team_plan.loc[team_plan.end_trip == True, 'end_trip_time'] = team_plan.time_end\n",
    "team_plan['start_trip'] = ((team_plan.state == 1) & (team_plan.team != team_plan.team.shift(1))) | \\\n",
    "                        ((team_plan.state == 1) & (team_plan.state.shift(1).isin([0, 2, 4])))\n",
    "team_plan.loc[team_plan.start_trip == True, 'start_trip_time'] = team_plan.time_start\n",
    "start_trips = team_plan.dropna(subset=['start_trip_time'])\n",
    "end_trips = team_plan.dropna(subset=['end_trip_time'])\n",
    "\n",
    "frames = [start_trips.reset_index()[['team', 'state', 'st_from_name', 'start_trip_time']],\n",
    "          end_trips.reset_index()[['st_to_name', 'end_trip_time', 'curr_presence']]]\n",
    "team_trips = pd.concat(frames, axis=1, ignore_index=True)\n",
    "team_trips.columns = ['team', 'state', 'st_from_name', 'time_start', 'st_to_name', 'time_end', 'curr_presence']\n",
    "add_info(team_trips)\n",
    "team_trips['curr_presence_norm'] = team_trips.curr_presence.apply(nice_time)"
   ]
  },
  {
   "cell_type": "code",
   "execution_count": 139,
   "metadata": {
    "collapsed": false
   },
   "outputs": [
    {
     "data": {
      "text/html": [
       "<div>\n",
       "<table border=\"1\" class=\"dataframe\">\n",
       "  <thead>\n",
       "    <tr style=\"text-align: right;\">\n",
       "      <th></th>\n",
       "      <th>team</th>\n",
       "      <th>state</th>\n",
       "      <th>st_from_name</th>\n",
       "      <th>time_start</th>\n",
       "      <th>st_to_name</th>\n",
       "      <th>time_end</th>\n",
       "      <th>curr_presence</th>\n",
       "      <th>time_start_f</th>\n",
       "      <th>time_end_f</th>\n",
       "      <th>curr_presence_norm</th>\n",
       "    </tr>\n",
       "  </thead>\n",
       "  <tbody>\n",
       "  </tbody>\n",
       "</table>\n",
       "</div>"
      ],
      "text/plain": [
       "Empty DataFrame\n",
       "Columns: [team, state, st_from_name, time_start, st_to_name, time_end, curr_presence, time_start_f, time_end_f, curr_presence_norm]\n",
       "Index: []"
      ]
     },
     "execution_count": 139,
     "metadata": {},
     "output_type": "execute_result"
    }
   ],
   "source": [
    "team_trips[team_trips.team == '777700001868']"
   ]
  },
  {
   "cell_type": "markdown",
   "metadata": {},
   "source": [
    "#### Загружаем нормы рабочего времени и составляем таблицу по нормам для каждой бригады"
   ]
  },
  {
   "cell_type": "code",
   "execution_count": 140,
   "metadata": {
    "collapsed": true
   },
   "outputs": [],
   "source": [
    "WORK_TIME_LIMIT = 11 #hours"
   ]
  },
  {
   "cell_type": "code",
   "execution_count": 141,
   "metadata": {
    "collapsed": false
   },
   "outputs": [],
   "source": [
    "def get_cmp(row):\n",
    "    d, l = row.depot, row.link    \n",
    "    try:\n",
    "        res = trd.ix[d].link.apply(lambda x: len(np.intersect1d(x, l))).idxmax()        \n",
    "    except:\n",
    "        res = -1\n",
    "    return res\n",
    "\n",
    "team_region = pd.read_csv(FOLDER + 'team_region.csv', dtype={'st_from':str, 'st_to':str, 'depot':str})\n",
    "add_info(team_region)\n",
    "team_region['link'] = list(zip(team_region.st_from, team_region.st_to))\n",
    "team_plan['link'] = list(zip(team_plan.st_from, team_plan.st_to))\n",
    "tr_links = team_region.groupby(['team_region', 'depot']).link.unique().to_frame().reset_index()\n",
    "if not tr_links.empty:\n",
    "    trd = tr_links.set_index(['depot', 'team_region'])\n",
    "else:\n",
    "    trd = tr_links\n",
    "team_links = team_plan[team_plan.state.isin([0, 1])].groupby(['team', 'depot']).link.unique().to_frame().reset_index()\n",
    "team_links['team_region'] = team_links.apply(lambda row: get_cmp(row), axis=1)\n",
    "\n",
    "team_links['tr_depot'] = list(zip(team_links.team_region, team_links.depot))\n",
    "team_region['tr_depot'] = list(zip(team_region.team_region, team_region.depot))\n",
    "team_links['time_f'] = team_links.tr_depot.map(team_region.drop_duplicates('tr_depot').set_index('tr_depot').time_f)\n",
    "team_links['time_b'] = team_links.tr_depot.map(team_region.drop_duplicates('tr_depot').set_index('tr_depot').time_b)\n",
    "team_links['time_wr'] = team_links.tr_depot.map(team_region.drop_duplicates('tr_depot').set_index('tr_depot').time_wr)\n",
    "#team_links.head()"
   ]
  },
  {
   "cell_type": "code",
   "execution_count": 142,
   "metadata": {
    "collapsed": false
   },
   "outputs": [
    {
     "data": {
      "text/html": [
       "<div>\n",
       "<table border=\"1\" class=\"dataframe\">\n",
       "  <thead>\n",
       "    <tr style=\"text-align: right;\">\n",
       "      <th></th>\n",
       "      <th>team</th>\n",
       "      <th>time_f</th>\n",
       "      <th>time_b</th>\n",
       "      <th>time_wr</th>\n",
       "    </tr>\n",
       "  </thead>\n",
       "  <tbody>\n",
       "    <tr>\n",
       "      <th>0</th>\n",
       "      <td>200200032986</td>\n",
       "      <td>NaN</td>\n",
       "      <td>NaN</td>\n",
       "      <td>NaN</td>\n",
       "    </tr>\n",
       "    <tr>\n",
       "      <th>1</th>\n",
       "      <td>200200033796</td>\n",
       "      <td>NaN</td>\n",
       "      <td>NaN</td>\n",
       "      <td>NaN</td>\n",
       "    </tr>\n",
       "    <tr>\n",
       "      <th>2</th>\n",
       "      <td>200200034977</td>\n",
       "      <td>NaN</td>\n",
       "      <td>NaN</td>\n",
       "      <td>NaN</td>\n",
       "    </tr>\n",
       "    <tr>\n",
       "      <th>3</th>\n",
       "      <td>200200036640</td>\n",
       "      <td>NaN</td>\n",
       "      <td>NaN</td>\n",
       "      <td>NaN</td>\n",
       "    </tr>\n",
       "    <tr>\n",
       "      <th>4</th>\n",
       "      <td>200200037385</td>\n",
       "      <td>NaN</td>\n",
       "      <td>NaN</td>\n",
       "      <td>NaN</td>\n",
       "    </tr>\n",
       "  </tbody>\n",
       "</table>\n",
       "</div>"
      ],
      "text/plain": [
       "           team time_f time_b time_wr\n",
       "0  200200032986    NaN    NaN     NaN\n",
       "1  200200033796    NaN    NaN     NaN\n",
       "2  200200034977    NaN    NaN     NaN\n",
       "3  200200036640    NaN    NaN     NaN\n",
       "4  200200037385    NaN    NaN     NaN"
      ]
     },
     "execution_count": 142,
     "metadata": {},
     "output_type": "execute_result"
    }
   ],
   "source": [
    "time_limit = team_links[['team', 'time_f', 'time_b', 'time_wr']]\n",
    "time_limit.head()"
   ]
  },
  {
   "cell_type": "markdown",
   "metadata": {},
   "source": [
    "#### Вычисляем переработки, предварительно удалив выбросы"
   ]
  },
  {
   "cell_type": "code",
   "execution_count": 143,
   "metadata": {
    "collapsed": false
   },
   "outputs": [
    {
     "name": "stdout",
     "output_type": "stream",
     "text": [
      "Всего 0 бригад с явно некорретными (более суток назад) временами последеней явки. Примеры:\n",
      "Empty DataFrame\n",
      "Columns: [team, st_from_name, st_to_name, time_start_f, time_end_f, curr_presence_norm]\n",
      "Index: []\n"
     ]
    }
   ],
   "source": [
    "cols = ['team', 'st_from_name', 'st_to_name', 'time_start_f', 'time_end_f', 'curr_presence_norm']\n",
    "outliers = team_trips[team_trips.curr_presence < current_time - 24 * 3600]\n",
    "#outliers = team_trips[team_trips.info_presence < current_time - 24 * 3600]\n",
    "outliers_n = outliers.team.count()\n",
    "add_header('Всего %d бригад с явно некорретными (более суток назад) временами последеней явки. Примеры:' % outliers_n)\n",
    "add_line(outliers.sort_values('curr_presence_norm').head(10 if outliers_n > 20 else outliers_n)[cols])"
   ]
  },
  {
   "cell_type": "code",
   "execution_count": 144,
   "metadata": {
    "collapsed": false
   },
   "outputs": [
    {
     "data": {
      "text/html": [
       "<div>\n",
       "<table border=\"1\" class=\"dataframe\">\n",
       "  <thead>\n",
       "    <tr style=\"text-align: right;\">\n",
       "      <th></th>\n",
       "      <th>team</th>\n",
       "      <th>st_from_name</th>\n",
       "      <th>st_to_name</th>\n",
       "      <th>curr_presence_norm</th>\n",
       "      <th>time_start_f</th>\n",
       "      <th>time_end_f</th>\n",
       "      <th>time_limit</th>\n",
       "      <th>time_limit_no_rest</th>\n",
       "    </tr>\n",
       "  </thead>\n",
       "  <tbody>\n",
       "    <tr>\n",
       "      <th>0</th>\n",
       "      <td>200200164066</td>\n",
       "      <td>УЯР</td>\n",
       "      <td>КРАСНОЯРСК-ВОСТОЧНЫЙ</td>\n",
       "      <td>Jul 13, 06:23</td>\n",
       "      <td>Jul 13, 09:14</td>\n",
       "      <td>Jul 13, 11:10</td>\n",
       "      <td>39600</td>\n",
       "      <td>39600</td>\n",
       "    </tr>\n",
       "    <tr>\n",
       "      <th>2</th>\n",
       "      <td>200200225263</td>\n",
       "      <td>НОВЫЙ УРГАЛ</td>\n",
       "      <td>ТЫРМА</td>\n",
       "      <td>Jul 13, 10:20</td>\n",
       "      <td>Jul 13, 12:20</td>\n",
       "      <td>Jul 13, 17:27</td>\n",
       "      <td>39600</td>\n",
       "      <td>39600</td>\n",
       "    </tr>\n",
       "    <tr>\n",
       "      <th>3</th>\n",
       "      <td>200200181294</td>\n",
       "      <td>УРУША</td>\n",
       "      <td>МАГДАГАЧИ</td>\n",
       "      <td>Jul 13, 11:34</td>\n",
       "      <td>Jul 13, 12:25</td>\n",
       "      <td>Jul 13, 18:20</td>\n",
       "      <td>39600</td>\n",
       "      <td>39600</td>\n",
       "    </tr>\n",
       "    <tr>\n",
       "      <th>4</th>\n",
       "      <td>200200164078</td>\n",
       "      <td>ЗИМА</td>\n",
       "      <td>ИРКУТСК-СОРТИРОВОЧНЫЙ</td>\n",
       "      <td>Jul 13, 12:59</td>\n",
       "      <td>Jul 13, 13:40</td>\n",
       "      <td>Jul 13, 17:50</td>\n",
       "      <td>39600</td>\n",
       "      <td>39600</td>\n",
       "    </tr>\n",
       "    <tr>\n",
       "      <th>5</th>\n",
       "      <td>200200164078</td>\n",
       "      <td>ИРКУТСК-СОРТИРОВОЧНЫЙ</td>\n",
       "      <td>ЗИМА</td>\n",
       "      <td>Jul 13, 23:14</td>\n",
       "      <td>Jul 14, 01:08</td>\n",
       "      <td>Jul 14, 05:26</td>\n",
       "      <td>39600</td>\n",
       "      <td>39600</td>\n",
       "    </tr>\n",
       "  </tbody>\n",
       "</table>\n",
       "</div>"
      ],
      "text/plain": [
       "           team           st_from_name             st_to_name  \\\n",
       "0  200200164066                    УЯР   КРАСНОЯРСК-ВОСТОЧНЫЙ   \n",
       "2  200200225263            НОВЫЙ УРГАЛ                  ТЫРМА   \n",
       "3  200200181294                  УРУША              МАГДАГАЧИ   \n",
       "4  200200164078                   ЗИМА  ИРКУТСК-СОРТИРОВОЧНЫЙ   \n",
       "5  200200164078  ИРКУТСК-СОРТИРОВОЧНЫЙ                   ЗИМА   \n",
       "\n",
       "  curr_presence_norm   time_start_f     time_end_f  time_limit  \\\n",
       "0      Jul 13, 06:23  Jul 13, 09:14  Jul 13, 11:10       39600   \n",
       "2      Jul 13, 10:20  Jul 13, 12:20  Jul 13, 17:27       39600   \n",
       "3      Jul 13, 11:34  Jul 13, 12:25  Jul 13, 18:20       39600   \n",
       "4      Jul 13, 12:59  Jul 13, 13:40  Jul 13, 17:50       39600   \n",
       "5      Jul 13, 23:14  Jul 14, 01:08  Jul 14, 05:26       39600   \n",
       "\n",
       "   time_limit_no_rest  \n",
       "0               39600  \n",
       "2               39600  \n",
       "3               39600  \n",
       "4               39600  \n",
       "5               39600  "
      ]
     },
     "execution_count": 144,
     "metadata": {},
     "output_type": "execute_result"
    }
   ],
   "source": [
    "pd.set_option('display.max_colwidth', 25)\n",
    "# Оставляем только корректные бригады\n",
    "team_trips = team_trips[(team_trips.team.isin(outliers.team) == False) & (team_trips.time_start < current_time + 24 * 3600)]\n",
    "team_trips['time_limit'] = team_trips.team.map(time_limit.set_index('team').time_f)\n",
    "team_trips['time_limit_no_rest'] = team_trips.team.map(time_limit.set_index('team').time_wr)\n",
    "team_trips.time_limit.fillna(WORK_TIME_LIMIT * 3600, inplace=True)\n",
    "team_trips.time_limit_no_rest.fillna(WORK_TIME_LIMIT * 3600, inplace=True)\n",
    "team_trips[['team', 'st_from_name', 'st_to_name', 'curr_presence_norm', 'time_start_f', 'time_end_f', 'time_limit', 'time_limit_no_rest']].head()"
   ]
  },
  {
   "cell_type": "code",
   "execution_count": 145,
   "metadata": {
    "collapsed": false
   },
   "outputs": [
    {
     "name": "stdout",
     "output_type": "stream",
     "text": [
      "Количество бригад с переработкой (показаны первые 10 интервалов):\n",
      "(0, 1]      69\n",
      "(1, 2]      58\n",
      "(2, 3]      29\n",
      "(3, 4]      30\n",
      "(4, 5]      18\n",
      "(5, 6]      16\n",
      "(6, 7]       7\n",
      "(8, 9]       7\n",
      "(9, 10]      8\n",
      "(11, 12]     6\n"
     ]
    }
   ],
   "source": [
    "team_trips['work_time'] = np.round(((team_trips.time_end - team_trips.curr_presence) / 3600), 2)\n",
    "#team_trips['overtime'] = team_trips.work_time.apply(lambda x: np.max([x - WORK_TIME_LIMIT, 0]))\n",
    "team_trips['overtime'] = np.round((team_trips.time_end - team_trips.curr_presence - team_trips.time_limit) / 3600, 2)\n",
    "team_trips['overtime'] = team_trips.overtime.apply(lambda x: 0 if x < 0 else x)\n",
    "cols = ['team', 'st_from_name', 'st_to_name', 'curr_presence_norm', 'time_end_f', 'overtime' ]\n",
    "add_header('Количество бригад с переработкой (показаны первые 10 интервалов):')\n",
    "add_line(pd.cut(team_trips.overtime, bins=np.arange(int(team_trips.overtime.max()) + 2), include_lowest=False)\\\n",
    "      .value_counts().head(10).sort_index())"
   ]
  },
  {
   "cell_type": "code",
   "execution_count": 146,
   "metadata": {
    "collapsed": false
   },
   "outputs": [
    {
     "name": "stdout",
     "output_type": "stream",
     "text": [
      "\n",
      "Бригады с переработкой больше 2 часов (всего 173):\n",
      "         team st_from_name   st_to_name curr_presence_norm   time_start_f     time_end_f  overtime\n",
      " 200200083240      ОБЛУЧЬЕ      ОБЛУЧЬЕ      Jul 13, 21:07  Jul 13, 21:47  Jul 18, 19:37    107.50\n",
      " 777700000383    БЕЛОГОРСК    БЕЛОГОРСК      Jul 13, 19:53  Jul 13, 20:53  Jul 17, 09:58     75.09\n",
      " 777700000479    МАГДАГАЧИ    МАГДАГАЧИ      Jul 13, 16:55  Jul 13, 17:55  Jul 16, 15:05     59.16\n",
      " 200200102857    МАГДАГАЧИ  СКОВОРОДИНО      Jul 14, 01:16  Jul 14, 02:20  Jul 16, 18:05     53.83\n",
      " 200200107099  КОШУРНИКОВО       АБАКАН      Jul 13, 18:24  Jul 13, 19:35  Jul 16, 08:41     51.27\n",
      " 200200273289      ГОРЕЛЫЙ  СКОВОРОДИНО      Jul 13, 23:09  Jul 14, 00:09  Jul 16, 12:47     50.62\n",
      " 200200234543       АБАКАН       АБАКАН      Jul 13, 20:30  Jul 13, 22:30  Jul 16, 09:03     49.57\n",
      " 200200109431     КУРАГИНО       АБАКАН      Jul 13, 21:04  Jul 13, 22:04  Jul 16, 09:26     49.37\n",
      " 200200087522       ЧИТА I       ЧИТА I      Jul 14, 03:32  Jul 14, 04:51  Jul 15, 22:03     31.52\n",
      " 200200080955       ЧИТА I       ЧИТА I      Jul 14, 02:48  Jul 14, 04:07  Jul 15, 19:58     30.17\n",
      " 200200269491       АБАКАН       АБАКАН      Jul 13, 04:00  Jul 13, 22:44  Jul 14, 19:39     28.66\n",
      " 200213436449       ЧИТА I       ЧИТА I      Jul 14, 01:28  Jul 14, 02:47  Jul 15, 16:02     27.56\n",
      " 200200099162    МАГДАГАЧИ  СКОВОРОДИНО      Jul 13, 18:00  Jul 13, 19:04  Jul 15, 08:18     27.31\n",
      " 200200121244    МАГДАГАЧИ  СКОВОРОДИНО      Jul 13, 17:35  Jul 13, 18:40  Jul 15, 06:45     26.17\n",
      " 200200107822    УССУРИЙСК    УССУРИЙСК      Jul 13, 17:50  Jul 13, 19:02  Jul 15, 06:13     25.40\n",
      " 210203821053    МАГДАГАЧИ  СКОВОРОДИНО      Jul 13, 17:20  Jul 13, 18:25  Jul 15, 05:11     24.85\n",
      " 200200143497    МАГДАГАЧИ  СКОВОРОДИНО      Jul 13, 16:50  Jul 13, 17:55  Jul 15, 03:40     23.83\n",
      " 777700000941   АНИСИМОВКА   АНИСИМОВКА      Jul 14, 05:00  Jul 14, 06:00  Jul 15, 15:08     23.15\n",
      " 200200164370        МЕГЕТ         ЗИМА      Jul 13, 18:45  Jul 13, 19:45  Jul 15, 04:00     22.26\n",
      " 210207946655      ГОРЕЛЫЙ    МАГДАГАЧИ      Jul 13, 20:55  Jul 13, 21:55  Jul 15, 06:04     22.17\n",
      "\n",
      "Распределение бригад с переработкой больше 2 часов по типу:\n",
      "Реальная    157\n",
      "Фейковая     16\n"
     ]
    }
   ],
   "source": [
    "pd.set_option('display.max_colwidth', 25)\n",
    "cols = ['team', 'st_from_name', 'st_to_name', 'curr_presence_norm', 'time_start_f', 'time_end_f', 'overtime' ]\n",
    "add_header('\\nБригады с переработкой больше 2 часов (всего %d):' % len(team_trips.loc[team_trips.overtime > 2].index))\n",
    "add_line(team_trips.loc[team_trips.overtime > 2, cols].sort_values('overtime', ascending=False).head(20))\n",
    "\n",
    "add_header('\\nРаспределение бригад с переработкой больше 2 часов по типу:')\n",
    "team_trips['team_type'] = team_trips.team.map(team_plan.drop_duplicates('team').set_index('team').team_type)\n",
    "add_line(team_trips.loc[team_trips.overtime > 2].team_type.value_counts())"
   ]
  },
  {
   "cell_type": "code",
   "execution_count": 147,
   "metadata": {
    "collapsed": false
   },
   "outputs": [
    {
     "name": "stdout",
     "output_type": "stream",
     "text": [
      "Примеры планов бригад с переработками:\n",
      "Бригада 200200083240:\n",
      "         team depot_st_name   depot_time_f return_time_f state          loco       loc_name\n",
      " 200200083240       ОБЛУЧЬЕ  Jul 13, 01:11                   6  200200107079  ВОЛОЧАЕВКА II\n",
      "         team   st_from_name     st_to_name  state   time_start_f     time_end_f          loco\n",
      " 200200083240  ВОЛОЧАЕВКА II  ВОЛОЧАЕВКА II      4  Jul 13, 10:44  Jul 13, 15:14            -1\n",
      " 200200083240  ВОЛОЧАЕВКА II     ТУНГУССКИЙ      0  Jul 13, 15:14  Jul 13, 15:27            -1\n",
      " 200200083240     ТУНГУССКИЙ   ВОЛОЧАЕВКА I      0  Jul 13, 15:27  Jul 13, 15:34            -1\n",
      " 200200083240   ВОЛОЧАЕВКА I            NaN      0  Jul 13, 15:34  Jul 13, 17:23            -1\n",
      " 200200083240            NaN           БИРА      0  Jul 13, 17:23  Jul 13, 18:13            -1\n",
      " 200200083240           БИРА    ИЗВЕСТКОВАЯ      0  Jul 13, 18:13  Jul 13, 19:35            -1\n",
      " 200200083240    ИЗВЕСТКОВАЯ        ОБЛУЧЬЕ      0  Jul 13, 19:35  Jul 13, 20:26            -1\n",
      " 200200083240        ОБЛУЧЬЕ        ОБЛУЧЬЕ      2  Jul 13, 21:07  Jul 13, 21:47            -1\n",
      " 200200083240        ОБЛУЧЬЕ         АРХАРА      1  Jul 13, 21:47  Jul 14, 00:15  200200092020\n",
      " 200200083240         АРХАРА        ОБЛУЧЬЕ      1  Jul 18, 17:24  Jul 18, 19:37  200200029747\n",
      "\n",
      "Бригада 777700000383:\n",
      "Empty DataFrame\n",
      "Columns: [team, depot_st_name, depot_time_f, return_time_f, state, loco, loc_name]\n",
      "Index: []\n",
      "         team st_from_name   st_to_name  state   time_start_f     time_end_f          loco\n",
      " 777700000383    БЕЛОГОРСК      ЛЕДЯНАЯ      1  Jul 13, 20:53  Jul 13, 22:33  200200107286\n",
      " 777700000383      ЛЕДЯНАЯ  ШИМАНОВСКАЯ      1  Jul 13, 22:33  Jul 13, 23:15  200200107286\n",
      " 777700000383  ШИМАНОВСКАЯ       УШУМУН      1  Jul 13, 23:15  Jul 14, 01:07  200200107286\n",
      " 777700000383       УШУМУН  ШИМАНОВСКАЯ      1  Jul 17, 05:35  Jul 17, 07:32  200200107286\n",
      " 777700000383  ШИМАНОВСКАЯ      ЛЕДЯНАЯ      1  Jul 17, 07:32  Jul 17, 08:10  200200107286\n",
      " 777700000383      ЛЕДЯНАЯ    БЕЛОГОРСК      1  Jul 17, 08:10  Jul 17, 09:58  200200107286\n",
      "\n",
      "Бригада 777700000479:\n",
      "Empty DataFrame\n",
      "Columns: [team, depot_st_name, depot_time_f, return_time_f, state, loco, loc_name]\n",
      "Index: []\n",
      "         team   st_from_name     st_to_name  state   time_start_f     time_end_f          loco\n",
      " 777700000479      МАГДАГАЧИ         ТАЛДАН      1  Jul 13, 17:55  Jul 13, 19:42  200200104062\n",
      " 777700000479         ТАЛДАН  БОЛЬШОЙ НЕВЕР      1  Jul 13, 19:42  Jul 13, 21:15  200200104062\n",
      " 777700000479  БОЛЬШОЙ НЕВЕР         ТАЛДАН      1  Jul 16, 11:40  Jul 16, 13:15  200200104062\n",
      " 777700000479         ТАЛДАН      МАГДАГАЧИ      1  Jul 16, 13:15  Jul 16, 15:05  200200104062\n",
      "\n"
     ]
    }
   ],
   "source": [
    "team_ids = team_trips.loc[team_trips.overtime > 2].sort_values('overtime', ascending=False).team.values[:3]\n",
    "#team_id = '777700001868'\n",
    "cols = ['team', 'st_from_name', 'st_to_name', 'state', 'time_start_f', 'time_end_f', 'loco']\n",
    "team_info['depot_time_f'] = team_info.depot_time.apply(nice_time)\n",
    "team_info['return_time_f'] = team_info.return_time.apply(nice_time)\n",
    "team_info['depot_st_name'] = team_info.depot_st.map(st_names.name)\n",
    "add_header('Примеры планов бригад с переработками:')\n",
    "for team_id in team_ids:\n",
    "    add_line('Бригада %s:' % team_id)\n",
    "    add_line(team_info[team_info.team == team_id][['team', 'depot_st_name', 'depot_time_f', 'return_time_f', 'state', 'loco', 'loc_name']])\n",
    "    add_line(team_plan[team_plan.team == team_id][cols])\n",
    "    add_line('')"
   ]
  },
  {
   "cell_type": "code",
   "execution_count": 148,
   "metadata": {
    "collapsed": false
   },
   "outputs": [
    {
     "data": {
      "image/png": "[encoded data removed]",
      "text/plain": [
       "<matplotlib.figure.Figure at 0x1c8442168d0>"
      ]
     },
     "metadata": {},
     "output_type": "display_data"
    }
   ],
   "source": [
    "fig = plt.figure(figsize=(8, 3))\n",
    "sns.set(style='whitegrid', context='notebook')\n",
    "to_hist = team_trips.loc[team_trips.overtime > 0].overtime\n",
    "sns.kdeplot(to_hist, shade=True)\n",
    "title = '''Бригады с переработкой\n",
    "(среднее время переработки %.2f ч., медиана %.2f ч.)\n",
    "(всего %d бригад с переработкой более 2 часов)''' % \\\n",
    "            (to_hist.mean(), to_hist.median(), len(team_trips.loc[team_trips.overtime > 2].index))\n",
    "plt.title(title)\n",
    "plt.xlabel('Переработка (час)')\n",
    "filename = 'team_overwork.png'\n",
    "fig.savefig(REPORT_FOLDER + filename, bbox_inches='tight')\n",
    "add_image(filename)"
   ]
  },
  {
   "cell_type": "markdown",
   "metadata": {},
   "source": [
    "<a id='leaps'></a>\n",
    "## Скачки по станциям на маршруте бригад [ToC](#toc)"
   ]
  },
  {
   "cell_type": "code",
   "execution_count": 149,
   "metadata": {
    "collapsed": true
   },
   "outputs": [],
   "source": [
    "add_header('Скачки по станциям на маршруте бригад', h=2, p=False)"
   ]
  },
  {
   "cell_type": "markdown",
   "metadata": {},
   "source": [
    "### Скачки внутри планируемого маршрута бригад"
   ]
  },
  {
   "cell_type": "code",
   "execution_count": 150,
   "metadata": {
    "collapsed": false
   },
   "outputs": [
    {
     "name": "stdout",
     "output_type": "stream",
     "text": [
      "\n",
      "Всего бригад, у которых есть скачки на маршруте: 153\n",
      "Всего скачков на маршруте бригад: 175 (показаны первые 10):\n",
      "         team         st_from_name           st_to_name              next_st   time_start_f     time_end_f  state state_info\n",
      " 200200199025            БЕЛОГОРСК            БЕЛОГОРСК         БЕЛОГОРСК II  Jul 14, 14:13  Jul 14, 15:31      2          3\n",
      " 200200127736            БЕЛОГОРСК            БЕЛОГОРСК         БЕЛОГОРСК II  Jul 15, 09:06  Jul 15, 10:24      2          3\n",
      " 200200233912                БОРЗЯ                БОРЗЯ           ШАХТЕРСКАЯ  Jul 13, 14:05  Jul 13, 14:25      2          2\n",
      " 200200136435             УЛАН-УДЭ             УЛАН-УДЭ               ТАЛЬЦЫ  Jul 14, 02:27  Jul 14, 03:13      2          1\n",
      " 200200242608                ХИЛОК                ХИЛОК             ЖИПХЕГЕН  Jul 13, 14:51  Jul 13, 16:00      2          4\n",
      " 200200216349            БЕЛОГОРСК            БЕЛОГОРСК         БЕЛОГОРСК II  Jul 18, 00:53  Jul 18, 02:11      2          3\n",
      " 200200223941            ВИХОРЕВКА            ВИХОРЕВКА            БАГУЛЬНАЯ  Jul 14, 14:29  Jul 14, 16:16      2          3\n",
      " 200200136683  ИРКУТСК-СОРТИРОВ...  ИРКУТСК-СОРТИРОВ...                  КАЯ  Jul 14, 21:09  Jul 14, 23:03      2          3\n",
      " 200200112329            БЕЛОГОРСК            БЕЛОГОРСК         БЕЛОГОРСК II  Jul 14, 01:46  Jul 14, 03:04      2          3\n",
      " 200200250880  КОМСОМОЛЬСК-НА-А...  КОМСОМОЛЬСК-НА-А...  КОМСОМОЛЬСК-НА-А...  Jul 14, 02:06  Jul 14, 04:06      2          4\n",
      " 200200224899                 ЛЕНА                 ЛЕНА       ЛЕНА-ВОСТОЧНАЯ  Jul 14, 02:34  Jul 14, 04:23      2          6\n",
      " 200200260052               ЧИТА I               ЧИТА I               КАДАЛА  Jul 13, 08:40  Jul 13, 10:00      2          8\n",
      " 200200136575               ЧИТА I               ЧИТА I               КАДАЛА  Jul 13, 09:35  Jul 13, 10:55      2          2\n",
      " 200200277336            УССУРИЙСК            УССУРИЙСК          ДУБИНИНСКИЙ  Jul 14, 18:28  Jul 14, 19:40      2          3\n",
      " 200200223776            БЕЛОГОРСК            БЕЛОГОРСК         БЕЛОГОРСК II  Jul 17, 07:03  Jul 17, 08:21      2          3\n",
      " 200200215988         БЕЛОГОРСК II            БЕЛОГОРСК         БЕЛОГОРСК II  Jul 13, 15:58  Jul 13, 16:09      1          1\n",
      " 200200215988            БЕЛОГОРСК            БЕЛОГОРСК         БЕЛОГОРСК II  Jul 19, 01:58  Jul 19, 03:16      2          1\n",
      " 200200207249  ИРКУТСК-СОРТИРОВ...  ИРКУТСК-СОРТИРОВ...                  КАЯ  Jul 13, 18:14  Jul 13, 20:08      2          3\n",
      " 200200233309            БЕЛОГОРСК            БЕЛОГОРСК         БЕЛОГОРСК II  Jul 14, 15:27  Jul 14, 16:45      2          3\n",
      " 200200233160            БЕЛОГОРСК            БЕЛОГОРСК         БЕЛОГОРСК II  Jul 13, 16:17  Jul 13, 17:35      2          3\n",
      "\n",
      "Станции, на которых наблюдаются скачки (первые 5):\n",
      "БЕЛОГОРСК                106\n",
      "БЕЛОГОРСК II              11\n",
      "ИРКУТСК-СОРТИРОВОЧНЫЙ     10\n",
      "УЛАН-УДЭ                   8\n",
      "ВИХОРЕВКА                  5\n",
      "\n",
      "Маршрут бригады 200200199025:\n",
      "         team  st_from_name   st_to_name   time_start_f     time_end_f  state          loco state_info\n",
      " 200200199025     БЕЛОГОРСК    БЕЛОГОРСК  Jul 14, 14:13  Jul 14, 15:31      2            -1          3\n",
      " 200200199025  БЕЛОГОРСК II    БЕЛОГОРСК  Jul 14, 15:31  Jul 14, 15:41      1  200200057242          3\n",
      " 200200199025     БЕЛОГОРСК      ЛЕДЯНАЯ  Jul 14, 15:41  Jul 14, 17:25      1  200200057242          3\n",
      " 200200199025       ЛЕДЯНАЯ  ШИМАНОВСКАЯ  Jul 14, 17:25  Jul 14, 18:07      1  200200057242          3\n",
      " 200200199025   ШИМАНОВСКАЯ       УШУМУН  Jul 14, 18:07  Jul 14, 19:59      1  200200057242          3\n",
      " 200200199025        УШУМУН    МАГДАГАЧИ  Jul 14, 19:59  Jul 14, 22:02      1  200200057242          3\n",
      " 200200199025     МАГДАГАЧИ    МАГДАГАЧИ  Jul 14, 22:32  Jul 15, 01:47      4            -1          3\n"
     ]
    }
   ],
   "source": [
    "pd.set_option('display.max_colwidth', 20)\n",
    "team_cols = ['team', 'st_from_name', 'st_to_name', 'next_st', 'time_start_f', 'time_end_f', 'state', 'state_info']\n",
    "team_plan['is_end'] = team_plan.team != team_plan.team.shift(-1)\n",
    "team_plan['next_st'] = team_plan.st_from_name.shift(-1)\n",
    "team_leaps = team_plan.loc[(team_plan.is_end == False) \n",
    "                           & (team_plan.st_to_name != team_plan.next_st)\n",
    "                           & (team_plan.st_to_name.notnull())\n",
    "                           & (team_plan.next_st.notnull()), team_cols]\n",
    "team_leaps_n = len(team_leaps.team.drop_duplicates().index)\n",
    "add_header('\\nВсего бригад, у которых есть скачки на маршруте: %d' % team_leaps_n)\n",
    "add_header('Всего скачков на маршруте бригад: %d (показаны первые 10):' % len(team_leaps.index))\n",
    "add_line(team_leaps.head(20))\n",
    "\n",
    "add_header('\\nСтанции, на которых наблюдаются скачки (первые 5):')\n",
    "add_line(team_leaps.st_to_name.value_counts().head())\n",
    "\n",
    "# Пример маршрута такой бригады (подставить id из предыдущего вывода):\n",
    "team_cols2 = ['team', 'st_from_name', 'st_to_name', 'time_start_f', 'time_end_f', 'state', 'loco', 'state_info']\n",
    "#team_id = '200200164017'\n",
    "if not team_leaps.empty:\n",
    "    team_id = team_leaps.iloc[0].team\n",
    "    add_header('\\nМаршрут бригады %s:' % team_id)\n",
    "    add_line(team_plan.loc[team_plan.team == team_id, team_cols2])"
   ]
  },
  {
   "cell_type": "markdown",
   "metadata": {},
   "source": [
    "### Скачки между станцией исходного местоположения и первой станцией планирования"
   ]
  },
  {
   "cell_type": "code",
   "execution_count": 151,
   "metadata": {
    "collapsed": false
   },
   "outputs": [],
   "source": [
    "team_info.loc[team_info.st_from != '-1', 'first_station'] = team_info.loc[team_info.st_from != '-1', 'st_from']\n",
    "team_info.loc[team_info.st_from == '-1', 'first_station'] = team_info.loc[team_info.st_from == '-1', 'oper_location']\n",
    "team_info.loc[team_info.st_to != '-1', 'next_station'] = team_info.loc[team_info.st_to != '-1', 'st_to']\n",
    "team_info[['team', 'oper_location', 'st_from', 'first_station', 'next_station']]\n",
    "team_plan['first_station'] = team_plan.team.map(team_info.drop_duplicates('team').set_index('team').first_station)\n",
    "team_plan['next_station'] = team_plan.team.map(team_info.drop_duplicates('team').set_index('team').next_station)\n",
    "team_plan['first_st_name'] = team_plan.first_station.map(st_names.name)\n",
    "team_plan['next_st_name'] = team_plan.next_station.map(st_names.name)\n",
    "team_starts = team_plan[team_plan.state.isin([0, 1])].drop_duplicates('team').copy(deep=True)\n",
    "start_leaps = team_starts[((team_starts.first_station.isnull() == False) & (team_starts.st_from != team_starts.first_station)) | \n",
    "            ((team_starts.next_station.isnull() == False) & (team_starts.st_to != team_starts.next_station))]"
   ]
  },
  {
   "cell_type": "code",
   "execution_count": 152,
   "metadata": {
    "collapsed": false
   },
   "outputs": [
    {
     "name": "stdout",
     "output_type": "stream",
     "text": [
      "Распределение скачков бригад по станциям местоположения (показаны первые 5):\n",
      "БЕЛОГОРСК                73\n",
      "БЕЛОГОРСК II             10\n",
      "ИРКУТСК-СОРТИРОВОЧНЫЙ     9\n",
      "ВИХОРЕВКА                 5\n",
      "КРАСНОЯРСК-ВОСТОЧНЫЙ      5\n",
      "\n",
      "Бригады со скачками между станцией местоположения и первой станцией в маршруте (показаны первые 10):\n",
      "         team         st_from_name           st_to_name          loco        first_st_name next_st_name loco_info\n",
      " 200200199025         БЕЛОГОРСК II            БЕЛОГОРСК  200200057242            БЕЛОГОРСК          NaN        -1\n",
      " 200200233912           ШАХТЕРСКАЯ  ЯСНОГОРСК-ЗАБАЙК...  200200061157                БОРЗЯ          NaN        -1\n",
      " 200200242608             ЖИПХЕГЕН                ХИЛОК  200200089571                ХИЛОК          NaN        -1\n",
      " 200200216349         БЕЛОГОРСК II              ЗАВИТАЯ  200200092610            БЕЛОГОРСК          NaN        -1\n",
      " 200200223941            БАГУЛЬНАЯ             МОРГУДОН  200200139309            ВИХОРЕВКА          NaN        -1\n",
      " 200200136683                  КАЯ  ИРКУТСК-ПАССАЖИР...  200200048967  ИРКУТСК-СОРТИРОВ...          NaN        -1\n",
      " 200200112329         БЕЛОГОРСК II            БЕЛОГОРСК  200200055450            БЕЛОГОРСК          NaN        -1\n",
      " 200200250880  КОМСОМОЛЬСК-НА-А...  КОМСОМОЛЬСК-НА-А...  200200102332  КОМСОМОЛЬСК-НА-А...          NaN        -1\n",
      " 200200260052               КАДАЛА               ЧИТА I  200200092545               ЧИТА I          NaN        -1\n",
      " 200200136575               КАДАЛА               ЛЕСНАЯ  200200062989               ЧИТА I          NaN        -1\n"
     ]
    }
   ],
   "source": [
    "cols = ['team', 'st_from_name', 'st_to_name', 'loco', 'first_st_name', 'next_st_name', 'loco_info']\n",
    "first_st_leaps = team_starts[(team_starts.first_station.isnull() == False) & (team_starts.next_station.isnull())\n",
    "                             & (team_starts.st_from != team_starts.first_station)]\n",
    "add_header('Распределение скачков бригад по станциям местоположения (показаны первые 5):')\n",
    "add_line(first_st_leaps.first_st_name.value_counts().head())\n",
    "add_header('\\nБригады со скачками между станцией местоположения и первой станцией в маршруте (показаны первые 10):')\n",
    "add_line(first_st_leaps[cols].head(10))"
   ]
  },
  {
   "cell_type": "code",
   "execution_count": 153,
   "metadata": {
    "collapsed": false
   },
   "outputs": [
    {
     "name": "stdout",
     "output_type": "stream",
     "text": [
      "Распределение скачков бригад по станциям направления (показаны первые 5):\n",
      "БЕРКАКИТ           4\n",
      "СЕЛЬГОН            3\n",
      "ЗЫКОВО             2\n",
      "ЛОПЧА              2\n",
      "СИБИРЦЕВО          2\n",
      "НАЗАРОВО           1\n",
      "БИРА               1\n",
      "ХАБЗАС             1\n",
      "ЗАГУСТАЙ           1\n",
      "АНИСИМОВКА         1\n",
      "БОЛЬШОЙ ЛУГ        1\n",
      "КИЖА               1\n",
      "ЗЛОБИНО            1\n",
      "ХАБАРОВСК I        1\n",
      "ПОСТ-ПОКРОВСКИЙ    1\n",
      "РОЗЕНГАРТОВКА      1\n",
      "УРГАЛ I            1\n",
      "ЛЕСНАЯ             1\n",
      "СОЛОНИ             1\n",
      "СЛЮДЯНКА II        1\n",
      "УЛУЙ               1\n",
      "ТОРЕЯ              1\n",
      "\n",
      "Бригады со скачками между станцией направления и первой станцией направления в маршруте (показаны первые 10):\n",
      "         team st_from_name           st_to_name          loco        first_st_name next_st_name     loco_info  train\n",
      " 200200136231   АНИСИМОВКА           НОВОНЕЖИНО            -1      КРАСНОАРМЕЙСКИЙ   АНИСИМОВКА  200200103257   4003\n",
      " 200200243062         УЛУЙ          ПРИГОРОДНЫЙ  200200093935             НАЗАРОВО         УЛУЙ  200200082668   4890\n",
      " 200200215844       ЗЫКОВО  КРАСНОЯРСК-ВОСТО...            -1                  УЯР       ЗЫКОВО  200200072927   8401\n",
      " 200200181108     БЕРКАКИТ            БЕСТУЖЕВО  200200106591            БЕСТУЖЕВО     БЕРКАКИТ  200200084522   3316\n",
      " 200200260598  СЛЮДЯНКА II            АНГАСОЛКА  200200087931           СЛЮДЯНКА I  СЛЮДЯНКА II  200200069644   4037\n",
      " 200200165043      ЗЛОБИНО              БАЗАИХА  200200104662               ЕНИСЕЙ      ЗЛОБИНО  200200103298   8254\n",
      " 200200226053     ЗАГУСТАЙ           ЗАУДИНСКИЙ            -1           ЗАУДИНСКИЙ     ЗАГУСТАЙ  200200105651   8402\n",
      " 200200173051     БЕРКАКИТ            БЕСТУЖЕВО  200200066232  НЕРЮНГРИ-ПАССАЖИ...     БЕРКАКИТ  200200096278   4803\n",
      " 200200104287     БЕРКАКИТ            БЕСТУЖЕВО  200200038433            БЕСТУЖЕВО     БЕРКАКИТ  200200041639   3312\n",
      " 200200266450       ЛЕСНАЯ               КАДАЛА            -1           ГОЛУБИЧНАЯ       ЛЕСНАЯ  200200050076   3808\n"
     ]
    }
   ],
   "source": [
    "cols = ['team', 'st_from_name', 'st_to_name', 'loco', 'first_st_name', 'next_st_name', 'loco_info', 'train']\n",
    "loco_info['train_number'] = loco_info.train.map(train_info.drop_duplicates('train').set_index('train').number)\n",
    "team_starts['train'] = team_starts.loco_info.map(loco_info.drop_duplicates('loco').set_index('loco').train_number)\n",
    "next_st_leaps = team_starts[(team_starts.next_station.isnull() == False) \n",
    "                            & (team_starts.st_to != team_starts.next_station)]\n",
    "add_header('Распределение скачков бригад по станциям направления (показаны первые 5):')\n",
    "add_line(next_st_leaps.next_st_name.value_counts())\n",
    "add_header('\\nБригады со скачками между станцией направления и первой станцией направления в маршруте (показаны первые 10):')\n",
    "add_line(next_st_leaps[cols].head(10))"
   ]
  },
  {
   "cell_type": "markdown",
   "metadata": {},
   "source": [
    "<a id='stop_time'></a>\n",
    "## Анализ времен стоянок локомотивов для смены бригады [ToC](#toc)"
   ]
  },
  {
   "cell_type": "code",
   "execution_count": 154,
   "metadata": {
    "collapsed": true
   },
   "outputs": [],
   "source": [
    "add_header('Анализ времен стоянок локомотивов для смены бригады', h=2, p=False)"
   ]
  },
  {
   "cell_type": "markdown",
   "metadata": {},
   "source": [
    "#### Распределение времен стоянок для смены бригады"
   ]
  },
  {
   "cell_type": "code",
   "execution_count": 155,
   "metadata": {
    "collapsed": false
   },
   "outputs": [
    {
     "data": {
      "image/png": "[encoded data removed]",
      "text/plain": [
       "<matplotlib.figure.Figure at 0x1c8442167b8>"
      ]
     },
     "metadata": {},
     "output_type": "display_data"
    }
   ],
   "source": [
    "# Смена бригады без стоянки локомотива\n",
    "cols = ['loco', 'st_from_name', 'st_to_name', 'time_start', 'time_end', 'team', 'time_start_next', 'loco_finish', 'stop_time']\n",
    "\n",
    "loco_plan['team_start'] = (loco_plan.team != loco_plan.team.shift(1)) | (loco_plan.loco != loco_plan.loco.shift(1))\n",
    "loco_plan['team_end'] = (loco_plan.team != loco_plan.team.shift(-1)) | (loco_plan.loco != loco_plan.loco.shift(-1))\n",
    "start_teams = loco_plan.loc[(loco_plan.team.isin([-1, 0]) == False) & (loco_plan.team_start == True)].reset_index()\\\n",
    "                            [['loco', 'st_from_name', 'time_start', 'time_start_f', 'train', 'team']]\n",
    "end_teams = loco_plan.loc[(loco_plan.team.isin([-1, 0]) == False) & (loco_plan.team_end == True)].reset_index()\\\n",
    "                            [['st_to_name', 'time_end', 'time_end_f']]\n",
    "teams_trip = pd.concat([start_teams, end_teams], axis=1)\n",
    "teams_trip['time_start_next'] = teams_trip.time_start.shift(-1)\n",
    "teams_trip['loco_finish'] = teams_trip.loco != teams_trip.loco.shift(-1)\n",
    "teams_trip.loc[teams_trip.loco_finish == False, 'stop_time'] = teams_trip.time_start_next - teams_trip.time_end\n",
    "sns.set(style='whitegrid', context='notebook')\n",
    "fig = plt.figure(figsize=(8, 3))\n",
    "series_to_hist = teams_trip.dropna(subset=['stop_time']).stop_time / 3600\n",
    "title = 'Распределение времен стоянок локомотивов для смены бригад\\n(среднее %.2f ч., медиана %.2f ч.)' %\\\n",
    "        (series_to_hist.mean(), series_to_hist.median())\n",
    "sns.kdeplot(series_to_hist, shade=True)\n",
    "plt.title(title)\n",
    "plt.xlabel('Время стоянки для смены бригад (час)')\n",
    "filename = 'loco_stop_time.png'\n",
    "fig.savefig(REPORT_FOLDER + filename, bbox_inches='tight')\n",
    "add_image(filename)"
   ]
  },
  {
   "cell_type": "markdown",
   "metadata": {},
   "source": [
    "#### Поиск локомотивов, у которых смены бригады занимает меньше 15 минут"
   ]
  },
  {
   "cell_type": "code",
   "execution_count": 156,
   "metadata": {
    "collapsed": false
   },
   "outputs": [
    {
     "name": "stdout",
     "output_type": "stream",
     "text": [
      "Всего 169 локомотивов со сменой бригад быстрее 15 минут (показаны первые 10):\n",
      "         loco         st_from_name           st_to_name     time_end_f       tsn_norm            train  stop_time          team\n",
      " 200214358614         ВОЛОЧАЕВКА I                  NaN  Jul 14, 14:40  Jul 14, 13:24   88880016814843      -4527  200200250427\n",
      " 200200050978           ПАРТИЗАНСК              ЛОЗОВЫЙ  Jul 13, 17:09  Jul 13, 16:56     200230945360       -748  200200271880\n",
      " 200200106334               АБАКАН             ПОДСИНИЙ  Jul 14, 01:42  Jul 14, 01:33  999928883032000       -515  200218472402\n",
      " 200200088027         МЕЖДУРЕЧЕНСК               АБАКАН  Jul 14, 10:43  Jul 14, 10:38   88880014594676       -337  200200248177\n",
      " 200200050978        МЫС АСТАФЬЕВА              ЛОЗОВЫЙ  Jul 13, 16:56  Jul 13, 16:55   88880002704373       -100  777700000083\n",
      " 200200080455                КИТОЙ                МЕГЕТ  Jul 15, 07:52  Jul 15, 07:51   88880006974474        -83  777700000990\n",
      " 200200080455           БАТАРЕЙНАЯ  ИРКУТСК-СОРТИРОВ...  Jul 15, 07:53  Jul 15, 07:52   88880006974474        -57  200200228720\n",
      " 200200034963         ХАБАРОВСК II         ВОЛОЧАЕВКА I  Jul 13, 12:59  Jul 13, 12:59     200230982065          0  200200149201\n",
      " 200200036395  КРАСНОЯРСК-ВОСТО...  КРАСНОЯРСК-СЕВЕРНЫЙ  Jul 13, 18:26  Jul 13, 18:26     200230965984          0  777700000102\n",
      " 200200043637               ЧИТА I            ЗУН-ТОРЕЙ  Jul 18, 01:05  Jul 18, 01:05     220210087997          0  200200266837\n",
      "\n",
      "Распределение проблемных локомотивов по станциям смены (показаны первые 10 по частоте):\n",
      "             station  freq  norm_time\n",
      "           ВИХОРЕВКА    16       6372\n",
      "          СЛЮДЯНКА I    11       2340\n",
      "              РУЖИНО     7       2412\n",
      "        ВОЛОЧАЕВКА I     7          0\n",
      "               ТЫРМА     6       7560\n",
      " ИРКУТСК-СОРТИРОВ...     6       6840\n",
      "     СЕВЕРОБАЙКАЛЬСК     6       5526\n",
      "              АБАКАН     6       7200\n",
      " КРАСНОЯРСК-ВОСТО...     4       3366\n",
      "         НОВЫЙ УРГАЛ     4       7200\n",
      "\n",
      "Распределение проблемных локомотивов по типам поездов:\n",
      "Реальный    89\n",
      "Резерв      48\n",
      "Задания     32\n"
     ]
    }
   ],
   "source": [
    "#add_line('Время начала планирования' % time.ctime(current_time))\n",
    "cols2 = ['loco', 'st_from_name', 'st_to_name', 'time_end_f', 'tsn_norm', 'train', 'stop_time', 'team']\n",
    "pd.set_option('display.max_colwidth', 20)\n",
    "teams_trip = teams_trip.dropna(subset=['time_start_next'])\n",
    "teams_trip['tsn_norm'] = teams_trip.time_start_next.apply(nice_time)\n",
    "teams_trip.loc[teams_trip.stop_time.isnull() == False, 'next_team'] = teams_trip.team.shift(-1)\n",
    "teams_trip['train_type'] = teams_trip.train.apply(lambda x: 'Резерв' if str(x)[0]=='8' \\\n",
    "                                                      else ('Задания' if str(x)[0]=='9' else 'Реальный'))\n",
    "fast_change = teams_trip.loc[teams_trip.stop_time < 15 * 60]\n",
    "if fast_change.empty == False:\n",
    "    add_header('Всего %d локомотивов со сменой бригад быстрее 15 минут (показаны первые 10):' % len(fast_change.index))\n",
    "    add_line(fast_change[cols2].sort_values(['stop_time', 'loco']).head(10))\n",
    "    add_header('\\nРаспределение проблемных локомотивов по станциям смены (показаны первые 10 по частоте):')\n",
    "    bad_st = fast_change.st_to_name.value_counts().to_frame().reset_index()\n",
    "    bad_st.columns = ['station', 'freq']\n",
    "    bad_st['norm_time'] = bad_st['station'].map(stations.drop_duplicates(subset=['name']).set_index('name').norm_time)\n",
    "    add_line(bad_st.head(10))\n",
    "    add_header('\\nРаспределение проблемных локомотивов по типам поездов:')    \n",
    "    add_line(fast_change.train_type.value_counts())\n",
    "else:\n",
    "    add_line('Нет локомотивов со сменой бригад со стоянкой меньше 15 минут')\n",
    "    \n",
    "# Посмотреть маршруты конкретных локомотивов или бригад\n",
    "loco_cols = ['loco', 'st_from','st_to', 'st_from_name', 'st_to_name', 'time_start', 'time_end', 'team']\n",
    "#team_cols = ['team', 'st_from_name', 'st_to_name', 'time_start_f', 'time_end_f', 'state', 'loco']\n",
    "#print(loco_plan.loc[loco_plan.loco == '200200093307', loco_cols].to_string(index=False))\n",
    "#print(team_plan.loc[team_plan.loco == '200250042559', team_cols].sort_values('time_start_norm').to_string(index=False))"
   ]
  },
  {
   "cell_type": "markdown",
   "metadata": {},
   "source": [
    "<a id='rest_time'></a>\n",
    "## Проверка времен отдыха бригад [ToC](#toc)"
   ]
  },
  {
   "cell_type": "code",
   "execution_count": 157,
   "metadata": {
    "collapsed": true
   },
   "outputs": [],
   "source": [
    "add_header('Проверка времен отдыха бригад', h=2, p=False)"
   ]
  },
  {
   "cell_type": "code",
   "execution_count": 158,
   "metadata": {
    "collapsed": false
   },
   "outputs": [
    {
     "name": "stdout",
     "output_type": "stream",
     "text": [
      "Время начала планирования: Jul 13, 10:00\n",
      "Бригад с аномально большим временем отдыха: 0 (показаны первые 10):\n",
      "Минимальное время отдыха (3 часа) нарушено у 3 бригад (показаны первые 10):\n",
      "         team st_from_name st_to_name   time_start_f     time_end_f  time  state\n",
      " 200200251301     МАРИИНСК   МАРИИНСК  Jul 13, 10:06  Jul 13, 10:00 -0.10      4\n",
      " 200200138591     МАРИИНСК   МАРИИНСК  Jul 13, 10:40  Jul 13, 10:00 -0.67      4\n",
      " 200200185588     МАРИИНСК   МАРИИНСК  Jul 13, 09:14  Jul 13, 10:00  0.77      4\n"
     ]
    }
   ],
   "source": [
    "add_line('Время начала планирования: %s' % nice_time(current_time))\n",
    "team_cols = ['team', 'st_from_name', 'st_to_name', 'time_start_f', 'time_end_f', 'time', 'state', 'loco']\n",
    "team_plan['time'] = np.round(((team_plan.time_end - team_plan.time_start) / 3600), 2)\n",
    "rest_outliers = team_plan[(team_plan.state == 4) & (team_plan.time > 1000)]\n",
    "add_header('Бригад с аномально большим временем отдыха: %d (показаны первые 10):' % len(rest_outliers.index))\n",
    "out_cols = ['team', 'st_from_name', 'st_to_name', 'time_start_f', 'time_end_f', 'time', 'state']\n",
    "if not rest_outliers.empty:\n",
    "    add_line(rest_outliers[out_cols].head(10))\n",
    "\n",
    "rest_check = team_plan[(team_plan.state == 4) & (team_plan.time < 1000)]\n",
    "\n",
    "min_rest = rest_check.time.min()\n",
    "if min_rest < 3:\n",
    "    add_header('Минимальное время отдыха (3 часа) нарушено у %d бригад (показаны первые 10):' \\\n",
    "          % len(rest_check[rest_check.time < 3].index))\n",
    "    add_line(rest_check[rest_check.time < 3][out_cols].head(10))    \n",
    "else:\n",
    "    add_header('Минимальное время отдыха бригад: %.2f часа' % (min_rest))"
   ]
  },
  {
   "cell_type": "markdown",
   "metadata": {},
   "source": [
    "#### Отсев бригад со слишком ранним временем явки"
   ]
  },
  {
   "cell_type": "code",
   "execution_count": 159,
   "metadata": {
    "collapsed": false
   },
   "outputs": [
    {
     "name": "stdout",
     "output_type": "stream",
     "text": [
      "Всего 430 бригад со слишком большим отдыхом и слишком ранним временем явки (сутки назад и более). Примеры:\n",
      "         team         st_from_name           st_to_name   time_start_f     time_end_f   time  state\n",
      " 200200238558            ОЛОВЯННАЯ            ОЛОВЯННАЯ  Jul 12, 16:31  Jul 13, 19:31  27.00      4\n",
      " 200200255347                 ЛЕНА                 ЛЕНА  Jul 13, 00:10  Jul 14, 03:03  26.89      4\n",
      " 200200198334  КОРШУНИХА-АНГАРСКАЯ  КОРШУНИХА-АНГАРСКАЯ  Jul 13, 06:50  Jul 14, 06:28  23.64      4\n",
      " 200200267850  КОРШУНИХА-АНГАРСКАЯ  КОРШУНИХА-АНГАРСКАЯ  Jul 13, 08:35  Jul 14, 06:28  21.89      4\n",
      " 200200250082                ХИЛОК                ХИЛОК  Jul 12, 14:33  Jul 13, 12:25  21.87      4\n",
      " 200200135584            ОЛОВЯННАЯ            ОЛОВЯННАЯ  Jul 12, 14:30  Jul 13, 12:04  21.57      4\n",
      " 200200247439             АЧИНСК I             АЧИНСК I  Jul 12, 16:10  Jul 13, 13:40  21.50      4\n",
      " 200200234406                ХИЛОК                ХИЛОК  Jul 13, 06:10  Jul 14, 03:38  21.48      4\n",
      " 200200179577                ЛОПЧА                ЛОПЧА  Jul 13, 07:59  Jul 14, 05:14  21.25      4\n",
      " 200200115540  КОМСОМОЛЬСК-НА-А...  КОМСОМОЛЬСК-НА-А...  Jul 14, 11:59  Jul 15, 09:13  21.24      4\n"
     ]
    }
   ],
   "source": [
    "rest_old_presence = rest_check[(rest_check.info_presence < current_time - 12 * 3600) & (rest_check.state_info != '3')]\n",
    "add_header('Всего %d бригад со слишком большим отдыхом и слишком ранним временем явки (сутки назад и более). Примеры:' \n",
    "           % rest_old_presence.team.count())\n",
    "add_line(rest_old_presence.sort_values('time', ascending=False)[out_cols].head(10))"
   ]
  },
  {
   "cell_type": "markdown",
   "metadata": {},
   "source": [
    "#### Бригады со слишком большим отдыхом"
   ]
  },
  {
   "cell_type": "code",
   "execution_count": 160,
   "metadata": {
    "collapsed": false
   },
   "outputs": [
    {
     "name": "stdout",
     "output_type": "stream",
     "text": [
      "Всего 191 бригад с большим временем отдыха (больше 10 часов) (показаны первые 10):\n",
      "         team st_from_name   st_to_name   time_start_f     time_end_f   time  state\n",
      " 200200157452  СКОВОРОДИНО  СКОВОРОДИНО  Jul 13, 22:37  Jul 16, 02:43  52.11      4\n",
      " 200200287901  СКОВОРОДИНО  СКОВОРОДИНО  Jul 14, 05:58  Jul 16, 02:43  44.75      4\n",
      " 200200261410  СКОВОРОДИНО  СКОВОРОДИНО  Jul 14, 05:58  Jul 16, 02:43  44.75      4\n",
      " 200200229445  СКОВОРОДИНО  СКОВОРОДИНО  Jul 14, 05:58  Jul 16, 02:43  44.75      4\n",
      " 200200216354      ГОРЕЛЫЙ      ГОРЕЛЫЙ  Jul 13, 17:29  Jul 15, 11:07  41.64      4\n",
      " 200200231087      ГОРЕЛЫЙ      ГОРЕЛЫЙ  Jul 13, 19:45  Jul 15, 11:07  39.36      4\n",
      " 777700001063  СКОВОРОДИНО  СКОВОРОДИНО  Jul 14, 14:42  Jul 16, 02:43  36.02      4\n",
      " 200200278214        ШТУРМ        ШТУРМ  Jul 14, 00:33  Jul 15, 12:26  35.88      4\n",
      " 200200092236      ГОРЕЛЫЙ      ГОРЕЛЫЙ  Jul 14, 00:30  Jul 15, 11:07  34.61      4\n",
      " 777700000009    КАРЫМСКАЯ    КАРЫМСКАЯ  Jul 13, 17:51  Jul 14, 22:26  28.57      4\n"
     ]
    }
   ],
   "source": [
    "long_rest = rest_check[(rest_check.time > 10) & (rest_check.team.isin(rest_old_presence.team) == False)]\n",
    "add_header('Всего %d бригад с большим временем отдыха (больше 10 часов) (показаны первые 10):' % len(long_rest.index))\n",
    "add_line(long_rest.sort_values('time', ascending=False)[out_cols].head(10))"
   ]
  },
  {
   "cell_type": "code",
   "execution_count": 161,
   "metadata": {
    "collapsed": false
   },
   "outputs": [
    {
     "data": {
      "image/png": "[encoded data removed]",
      "text/plain": [
       "<matplotlib.figure.Figure at 0x1c84420a1d0>"
      ]
     },
     "metadata": {},
     "output_type": "display_data"
    }
   ],
   "source": [
    "rest_show = rest_check[(rest_check.team.isin(rest_old_presence.team) == False)]\n",
    "fig = plt.figure(figsize=(8, 3))\n",
    "title = 'Распределение бригад по временам на отдых\\n(медианное время отдыха = %.2f час)' % (rest_show.time.median())\n",
    "sns.kdeplot(rest_show.time, shade=True)\n",
    "plt.title(title)\n",
    "plt.xlabel('Время отдыха (час)')\n",
    "filename = 'team_rest_time.png'\n",
    "fig.savefig(REPORT_FOLDER + filename, bbox_inches='tight')\n",
    "add_image(filename)"
   ]
  },
  {
   "cell_type": "markdown",
   "metadata": {},
   "source": [
    "#### Бригады с недостаточным отдыхом"
   ]
  },
  {
   "cell_type": "code",
   "execution_count": 162,
   "metadata": {
    "collapsed": false
   },
   "outputs": [],
   "source": [
    "rest = team_plan[team_plan.state == 4][['team', 'time_start', 'time']]\n",
    "team_trips['rest_start_time'] = team_trips.team.map(rest.set_index('team').time_start)\n",
    "team_trips['rest_start_time_f'] = team_trips.rest_start_time.apply(nice_time)\n",
    "team_trips['rest_time'] = team_trips.team.map(rest.set_index('team').time)\n",
    "team_trips['min_rest_time'] = np.round((team_trips.rest_start_time - team_trips.curr_presence) / (2 * 3600), 2)\n",
    "team_trips['underrest'] = team_trips.min_rest_time - team_trips.rest_time"
   ]
  },
  {
   "cell_type": "code",
   "execution_count": 163,
   "metadata": {
    "collapsed": true
   },
   "outputs": [],
   "source": [
    "# Для подсчета требуемого отдыха удаляем поездки, которые связаны с одной явкой бригады; \n",
    "# для каждой явки оставляем только последнюю поездку, чтобы правильно взять полное рабочее время.\n",
    "team_trips_cut = team_trips.sort_values(['team', 'curr_presence', 'work_time'], ascending=[True, True, False])\\\n",
    "                            .drop_duplicates(subset=['team', 'curr_presence'])"
   ]
  },
  {
   "cell_type": "code",
   "execution_count": 164,
   "metadata": {
    "collapsed": false
   },
   "outputs": [
    {
     "name": "stdout",
     "output_type": "stream",
     "text": [
      "Всего 638 бригад с недостаточным отдыхом:\n",
      "Распределение по типу бригад:\n",
      "Реальная    551\n",
      "Фейковая     87\n"
     ]
    }
   ],
   "source": [
    "cols = ['team', 'curr_presence_norm', 'time_start_f', 'rest_start_time_f', \n",
    "        'work_time', 'min_rest_time', 'rest_time', 'underrest']\n",
    "underrest = team_trips_cut[(team_trips_cut.time_start < team_trips_cut.rest_start_time) & (team_trips_cut.underrest > 0)]\n",
    "underrest_n = underrest.team.drop_duplicates().count()\n",
    "add_header('Всего %d бригад с недостаточным отдыхом:' % underrest_n)\n",
    "add_header('Распределение по типу бригад:')\n",
    "add_line(underrest.team_type.value_counts())"
   ]
  },
  {
   "cell_type": "code",
   "execution_count": 165,
   "metadata": {
    "collapsed": false
   },
   "outputs": [
    {
     "name": "stdout",
     "output_type": "stream",
     "text": [
      "Всего 571 бригад без переработки с недостаточным отдыхом.\n",
      "\n",
      "Распределение по типу бригад:\n",
      "Реальная    487\n",
      "Фейковая     84\n",
      "\n",
      "Примеры бригад без переработки с недостаточным отдыхом:\n",
      "         team curr_presence_norm   time_start_f rest_start_time_f  work_time  min_rest_time  rest_time  underrest\n",
      " 200200200050      Jul 14, 02:23  Jul 14, 03:28     Jul 14, 12:39       6.66           5.13       3.00       2.13\n",
      " 200200145166      Jul 14, 03:02  Jul 14, 03:43     Jul 14, 13:10       5.05           5.06       3.00       2.06\n",
      " 200200136100      Jul 13, 14:50  Jul 13, 15:55     Jul 14, 04:12       6.54           6.68       4.85       1.83\n",
      " 200200205606      Jul 13, 23:23  Jul 14, 00:28     Jul 14, 09:02       6.50           4.82       3.00       1.82\n",
      " 200200247759      Jul 13, 10:20  Jul 13, 11:25     Jul 13, 22:50       6.54           6.24       4.47       1.77\n",
      " 200200214580      Jul 13, 13:49  Jul 13, 14:30     Jul 13, 23:18       4.88           4.74       3.00       1.74\n",
      " 200200216057      Jul 13, 02:00  Jul 13, 10:30     Jul 13, 11:17       8.78           4.64       3.00       1.64\n",
      " 200200221547      Jul 13, 18:55  Jul 13, 20:00     Jul 14, 06:27       6.68           5.77       4.15       1.62\n",
      " 200200197581      Jul 13, 20:45  Jul 13, 21:50     Jul 14, 08:01       6.64           5.63       4.14       1.49\n",
      " 200200142303      Jul 13, 02:00  Jul 13, 12:00     Jul 13, 12:53      10.39           5.45       4.00       1.45\n"
     ]
    },
    {
     "data": {
      "image/png": "[encoded data removed]",
      "text/plain": [
       "<matplotlib.figure.Figure at 0x1c8455aaa58>"
      ]
     },
     "metadata": {},
     "output_type": "display_data"
    }
   ],
   "source": [
    "underrest_no_overtime = underrest[underrest.work_time <= WORK_TIME_LIMIT]\n",
    "underrest_no_n = underrest_no_overtime.team.drop_duplicates().count()\n",
    "add_header('Всего %d бригад без переработки с недостаточным отдыхом.' % underrest_no_n)\n",
    "add_header('\\nРаспределение по типу бригад:')\n",
    "add_line(underrest_no_overtime.team_type.value_counts())\n",
    "add_header('\\nПримеры бригад без переработки с недостаточным отдыхом:')\n",
    "add_line(underrest_no_overtime.sort_values('underrest', ascending=False)\\\n",
    "         .head(10 if underrest_no_n > 20 else underrest_no_n)[cols])\n",
    "\n",
    "sns.set(style='whitegrid', context='notebook')\n",
    "title = 'Распределение недостаточного отдыха бригад\\n(медианное время недоотдыха = %.2f час)' \\\n",
    "            % (underrest_no_overtime.underrest.median())\n",
    "fig = plt.figure(figsize=(8, 4))\n",
    "ax = sns.distplot(underrest_no_overtime.underrest, color='b', hist=False, kde_kws={'shade':True})\n",
    "ax.set(title=title, xlabel='Недостаточный отдых, ч.')\n",
    "filename = 'team_under_rest.png'\n",
    "fig.savefig(REPORT_FOLDER + filename, bbox_inches='tight')\n",
    "add_image(filename)"
   ]
  },
  {
   "cell_type": "code",
   "execution_count": 166,
   "metadata": {
    "collapsed": false
   },
   "outputs": [
    {
     "data": {
      "text/plain": [
       "'Thu May 12 18:00:00 2016'"
      ]
     },
     "execution_count": 166,
     "metadata": {},
     "output_type": "execute_result"
    }
   ],
   "source": [
    "team_plan['loco_time'] = list(zip(team_plan.loco, team_plan.time_start))\n",
    "loco_plan['loco_time'] = list(zip(loco_plan.loco, loco_plan.time_start))\n",
    "team_plan['train'] = team_plan.loco_time.map(loco_plan.drop_duplicates('loco_time').set_index('loco_time').train)\n",
    "#print(team_plan[team_plan.team == '777700000270']\\\n",
    "#      [['team', 'st_from_name', 'st_to_name', 'time_start_f', 'time_end_f', \n",
    "#        'state', 'loco', 'train', 'time']].to_string(index=False))\n",
    "time.ctime(1463065200)"
   ]
  },
  {
   "cell_type": "markdown",
   "metadata": {},
   "source": [
    "## Проверка подвязки бригад по Иркутску"
   ]
  },
  {
   "cell_type": "code",
   "execution_count": 167,
   "metadata": {
    "collapsed": false
   },
   "outputs": [],
   "source": [
    "add_header('Анализ бригад, проезжающих через Иркутск', h=2, p=False)"
   ]
  },
  {
   "cell_type": "code",
   "execution_count": 168,
   "metadata": {
    "collapsed": false
   },
   "outputs": [
    {
     "name": "stdout",
     "output_type": "stream",
     "text": [
      "Распределение поездов через Иркутск по направлениям:\n",
      "ГОНЧАРОВО     65\n",
      "БАТАРЕЙНАЯ    28\n",
      "\n",
      "Распределение бригад, в маршруте которых есть Иркутск, по депо приписки:\n",
      "          depot_name  team percent\n",
      "                ЗИМА   118  54.38%\n",
      " ИРКУТСК-СОРТИРОВ...    91  41.94%\n",
      "         НИЖНЕУДИНСК     1   0.46%\n",
      "          СЛЮДЯНКА I     4   1.84%\n",
      "            УЛАН-УДЭ     3   1.38%\n"
     ]
    }
   ],
   "source": [
    "team_cols = ['team', 'st_from_name', 'st_to_name', 'time_start_f', 'state', 'loco', 'depot_name']\n",
    "team_plan['depot_name'] = team_plan.depot.map(st_names.name)\n",
    "st_name = 'ИРКУТСК-СОРТИРОВОЧНЫЙ'\n",
    "train_cols = ['train', 'number', 'st_from_name', 'st_to_name', 'time_start_f']\n",
    "train_plan['train_type'] = train_plan.train.apply(lambda x: str(x)[:1])\n",
    "add_header('Распределение поездов через Иркутск по направлениям:')\n",
    "add_line(train_plan.loc[(train_plan.st_from_name == st_name)\n",
    "              & (train_plan.time_start >= current_time) & (train_plan.train_type.isin(['2', '9']))\n",
    "              & (train_plan.time_start < current_time + 24*3600), train_cols].st_to_name.value_counts())\n",
    "\n",
    "add_header('\\nРаспределение бригад, в маршруте которых есть Иркутск, по депо приписки:')\n",
    "b = team_plan.loc[(team_plan.st_from_name == st_name) & (team_plan.state.isin([0, 1]))\n",
    "              & (team_plan.time_start >= current_time), team_cols].groupby('depot_name').team.count().to_frame()\n",
    "b['percent'] = np.round((100 * b.team / b.team.sum()), 2)\n",
    "b['percent'] = b['percent'].apply(lambda x: str(x) + '%')\n",
    "add_line(b.reset_index())"
   ]
  },
  {
   "cell_type": "markdown",
   "metadata": {},
   "source": [
    "<a id='ready_time'></a>\n",
    "## Проверка времени явки бригад [ToC](#toc)"
   ]
  },
  {
   "cell_type": "code",
   "execution_count": 169,
   "metadata": {
    "collapsed": true
   },
   "outputs": [],
   "source": [
    "add_header('Проверка корректости времен явки бригад в депо приписки во входных данных', h=2, p=False)"
   ]
  },
  {
   "cell_type": "markdown",
   "metadata": {},
   "source": [
    "1. У бригад, которые находятся на домашнем отдыхе (state = 3) передается именно время ухода на отдых. По постановке (см. раздел \"Заполнение атрибутов для входных сообщений по бригадам\") должно передаваться время ухода на отдых + 16 часов.\n",
    "2. Для бригады 200200158216 передается state=3, хотя по АСУ-Т последней операцией на 18.04 10:35 было \"прибытие на станцию Лесовозный 17.04 в 08:49\" (или, в крайнем случае, отправление с Улан-Удэ 17.04 в 07:51).\n",
    "3. Аналогично для бригады 200200225600. Впрочем, возможно, это какой-то косяк АСУ-Т. В любом случае, пункт 1 - это очевидный баг."
   ]
  },
  {
   "cell_type": "markdown",
   "metadata": {},
   "source": [
    "Общая идея:\n",
    "- если у бригад указано depot_time < rest_start_time, то эта разница не должна быть очень большой. \n",
    "- если у бригад указано depot_time < return_time, то эта разница тоже не должна быть очень большой."
   ]
  },
  {
   "cell_type": "code",
   "execution_count": 170,
   "metadata": {
    "collapsed": false
   },
   "outputs": [
    {
     "name": "stdout",
     "output_type": "stream",
     "text": [
      "Время начала планирования: Jul 13, 10:00\n",
      "Всего 314 бригад, у которых время последней явки в депо намного меньше (на 12+ часов) переданного времени начала отдыха. Примеры:\n",
      "         team      number dt_norm       rst_norm  rest_dep_delta ready_type state\n",
      " 200200184068  9609082423          Jul 13, 08:20       407885.33     return     4\n",
      " 200200253612  9604004298          Jul 13, 07:04       407884.07     return     4\n",
      " 200200223494  8801002188          Jul 13, 04:51       407881.85     return     4\n",
      " 200200143073  8802003560          Jul 13, 02:40       407879.67     return     4\n",
      " 200200195663  8802001166          Jul 13, 02:40       407879.67     return     4\n",
      " 200200104780  9405053254          Jul 12, 19:30       407872.50     return     6\n",
      " 200200210169  8877004947          Jul 12, 17:50       407870.83     return     1\n",
      " 200200234719  9403005414          Jul 12, 16:00       407869.00     return     4\n",
      " 200200110664  9406024390          Jul 12, 14:17       407867.28     return     9\n",
      " 200200161911  8805000624          Jul 12, 08:44       407861.73     return     7\n",
      "\n",
      "Всего 805 бригад, у которых время последней явки в депо намного меньше (на 18+ часов) времени явки в пункте оборота. Примеры:\n",
      "         team      number dt_norm       rst_norm  return_dep_delta ready_type state\n",
      " 200200230527  9611067859                                407887.43     return     5\n",
      " 200200161911  8805000624          Jul 12, 08:44         407882.13     return     7\n",
      " 200200104780  9405053254          Jul 12, 19:30         407878.00     return     6\n",
      " 200200210169  8877004947          Jul 12, 17:50         407876.83     return     1\n",
      " 200200110664  9406024390          Jul 12, 14:17         407872.92     return     9\n",
      " 200200155440  9413035777          Jul 12, 02:00         407862.50     return     0\n",
      " 200200102695  9604006410          Jul 11, 19:50         407861.67     return     9\n",
      " 200200103769  9405069571          Jul 11, 22:22         407859.67     return     9\n",
      " 200200234719  9403005414          Jul 12, 16:00         407859.00     return     4\n",
      " 200200210446  9613067831          Jul 11, 16:31         407858.73     return     9\n"
     ]
    }
   ],
   "source": [
    "add_line('Время начала планирования: %s' % (nice_time(current_time)))\n",
    "team_info['dt_norm'] = team_info.depot_time.apply(nice_time)\n",
    "team_info['rt_norm'] = team_info.return_time.apply(nice_time)\n",
    "team_info['rst_norm'] = team_info.rest_time.apply(nice_time)\n",
    "team_info['rest_dep_delta'] = np.round(((team_info.rest_time - team_info.depot_time) / 3600), 2)\n",
    "team_info['return_dep_delta'] = np.round(((team_info.return_time - team_info.depot_time) / 3600), 2)\n",
    "\n",
    "dep_less_rest = team_info[(team_info.depot_time < team_info.rest_time) & (team_info.dt_norm != -1)]\n",
    "info_cols = ['team', 'number', 'dt_norm', 'rst_norm', 'rest_dep_delta', 'ready_type', 'state']\n",
    "add_header('Всего %d бригад, у которых время последней явки в депо намного меньше (на 12+ часов) переданного времени начала отдыха. Примеры:' \n",
    "          % dep_less_rest[dep_less_rest.rest_dep_delta > 12].team.drop_duplicates().count())\n",
    "add_line(dep_less_rest[dep_less_rest.rest_dep_delta > 12][info_cols].sort_values('rest_dep_delta', ascending=False).head(10))\n",
    "\n",
    "dep_less_return = team_info[(team_info.depot_time < team_info.return_time) & (team_info.dt_norm != -1)]\n",
    "info_cols = ['team', 'number', 'dt_norm', 'rst_norm', 'return_dep_delta', 'ready_type', 'state']\n",
    "add_header('\\nВсего %d бригад, у которых время последней явки в депо намного меньше (на 18+ часов) времени явки в пункте оборота. Примеры:' \n",
    "          % dep_less_return[dep_less_return.return_dep_delta > 12].team.drop_duplicates().count())\n",
    "add_line(dep_less_return[dep_less_return.return_dep_delta > 12][info_cols].sort_values('return_dep_delta', ascending=False).head(10))"
   ]
  },
  {
   "cell_type": "markdown",
   "metadata": {},
   "source": [
    "<a id='change'></a>\n",
    "## Проверка смены бригад на корректных станциях [ToC](#toc)"
   ]
  },
  {
   "cell_type": "code",
   "execution_count": 171,
   "metadata": {
    "collapsed": true
   },
   "outputs": [],
   "source": [
    "add_header('Проверка смены бригад на корректных станциях', h=2, p=False)"
   ]
  },
  {
   "cell_type": "markdown",
   "metadata": {},
   "source": [
    "### Проверка случаев проезда бригад мимо станций обязательной смены"
   ]
  },
  {
   "cell_type": "code",
   "execution_count": 172,
   "metadata": {
    "collapsed": true
   },
   "outputs": [],
   "source": [
    "add_header('Проверка проезда бригад мимо станций обязательной смены', h=3, p=False)"
   ]
  },
  {
   "cell_type": "code",
   "execution_count": 173,
   "metadata": {
    "collapsed": false,
    "scrolled": true
   },
   "outputs": [
    {
     "name": "stdout",
     "output_type": "stream",
     "text": [
      "Всего 55 случаев проезда бригад мимо станций обязательной смены\n",
      "\n",
      "Распределение по станциям (первые 5 самых частых):\n",
      "РУЖИНО        20\n",
      "САЯНСКАЯ       9\n",
      "НОВЫЙ УОЯН     6\n",
      "ХИЛОК          6\n",
      "ЗИМА           4\n"
     ]
    }
   ],
   "source": [
    "st_team_change_full = ['КРАСНОЯРСК-ВОСТОЧНЫЙ', 'ЗИМА', 'ХИЛОК', 'МОГОЧА', 'ОБЛУЧЬЕ', 'РУЖИНО', 'СМОЛЯНИНОВО', \n",
    "                      'САЯНСКАЯ', 'ЛЕНА', 'СЕВЕРОБАЙКАЛЬСК', 'НОВЫЙ УОЯН', \n",
    "                      'НОВАЯ ЧАРА', 'ЮКТАЛИ', 'ВЕРХНЕЗЕЙСК', 'ФЕВРАЛЬСК', 'ПОСТЫШЕВО', 'ВЫСОКОГОРНАЯ', \n",
    "                      'УЖУР', 'ТЫРМА']\n",
    "                 \n",
    "cols = ['team', 'st_from_name', 'st_to_name', 'time_start_f', 'time_end_f', 'state', 'loco', 'loco_end', 'no_stop']\n",
    "team_plan['loco_end'] = team_plan.loco != team_plan.loco.shift(-1)\n",
    "team_plan['no_stop'] = team_plan.time_end == team_plan.time_start.shift(-1)\n",
    "no_stop = team_plan[(team_plan.st_to_name.isin(st_team_change_full)) & (team_plan.state == 1) \n",
    "                    & (team_plan.loco_end == False) & (team_plan.no_stop == True)]\n",
    "add_header('Всего %d случаев проезда бригад мимо станций обязательной смены' % len(no_stop.index))\n",
    "add_header('\\nРаспределение по станциям (первые 5 самых частых):')\n",
    "add_line(no_stop.st_to_name.value_counts().head())"
   ]
  },
  {
   "cell_type": "code",
   "execution_count": 174,
   "metadata": {
    "collapsed": false
   },
   "outputs": [
    {
     "name": "stdout",
     "output_type": "stream",
     "text": [
      "\n",
      "Примеры ошибочных бригад (первые 10):\n",
      "         team      st_from_name    st_to_name   time_start_f     time_end_f  state          loco loco_end no_stop\n",
      " 200200095938             СОЛЛУ  ВЫСОКОГОРНАЯ  Jul 13, 11:14  Jul 13, 11:26      1  200200076718    False    True\n",
      " 200200174199        НОВОНЕЖИНО   СМОЛЯНИНОВО  Jul 13, 11:23  Jul 13, 11:48      1  200214358614    False    True\n",
      " 200200250427            АРХАРА       ОБЛУЧЬЕ  Jul 13, 10:35  Jul 13, 12:42      1  200200091512    False    True\n",
      " 200200189851          ЖИПХЕГЕН         ХИЛОК  Jul 13, 13:53  Jul 13, 14:24      1  200200083188    False    True\n",
      " 200200140523          ТАЛАНДЖА         ТЫРМА  Jul 13, 21:40  Jul 13, 23:26      1  200200107108    False    True\n",
      " 200200215093             ЛОПЧА        ЮКТАЛИ  Jul 13, 21:39  Jul 14, 01:46      1  200200103671    False    True\n",
      " 200200252808             ТИСИН          УЖУР  Jul 14, 02:30  Jul 14, 04:45      1  200200097344    False    True\n",
      " 200200274674         АНГАРАКАН    НОВЫЙ УОЯН  Jul 14, 02:38  Jul 14, 04:53      1  200200105190    False    True\n",
      " 200200097619  БЛОКПОСТ 1571 КМ        РУЖИНО  Jul 14, 04:40  Jul 14, 05:27      1  200200091326    False    True\n",
      " 200200260161         ЩЕТИНКИНО      САЯНСКАЯ  Jul 14, 03:36  Jul 14, 06:42      1  200200051602    False    True\n",
      " 777700001260           ПЕРЕВОЗ          ЗИМА  Jul 14, 15:42  Jul 14, 15:54      1  200200073476    False    True\n",
      " 200200124842            АМАЗАР        МОГОЧА  Jul 14, 14:44  Jul 14, 16:30      1  200200106835    False    True\n"
     ]
    }
   ],
   "source": [
    "add_header('\\nПримеры ошибочных бригад (первые 10):')\n",
    "add_line(no_stop.drop_duplicates('st_to_name').sort_values('time_end')[cols])"
   ]
  },
  {
   "cell_type": "code",
   "execution_count": 175,
   "metadata": {
    "collapsed": false
   },
   "outputs": [
    {
     "name": "stdout",
     "output_type": "stream",
     "text": [
      "Полные планы по некоторым ошибочным бригадам:\n",
      "         team      st_from_name        st_to_name   time_start_f     time_end_f  state          loco\n",
      " 200200097619      ХАБАРОВСК II      ХАБАРОВСК II  Jul 13, 21:09  Jul 13, 22:15      2            -1\n",
      " 200200097619      ХАБАРОВСК II        КРУГЛИКОВО  Jul 13, 22:15  Jul 13, 22:55      1  200200091326\n",
      " 200200097619        КРУГЛИКОВО         ВЯЗЕМСКАЯ  Jul 13, 22:55  Jul 14, 00:23      1  200200091326\n",
      " 200200097619         ВЯЗЕМСКАЯ     РОЗЕНГАРТОВКА  Jul 14, 00:23  Jul 14, 01:32      1  200200091326\n",
      " 200200097619     РОЗЕНГАРТОВКА             БИКИН  Jul 14, 01:32  Jul 14, 02:23      1  200200091326\n",
      " 200200097619             БИКИН         ЛУЧЕГОРСК  Jul 14, 02:23  Jul 14, 03:15      1  200200091326\n",
      " 200200097619         ЛУЧЕГОРСК          ГУБЕРОВО  Jul 14, 03:15  Jul 14, 03:56      1  200200091326\n",
      " 200200097619          ГУБЕРОВО          ЭБЕРГАРД  Jul 14, 03:56  Jul 14, 04:18      1  200200091326\n",
      " 200200097619          ЭБЕРГАРД   ДАЛЬНЕРЕЧЕНСК I  Jul 14, 04:18  Jul 14, 04:34      1  200200091326\n",
      " 200200097619   ДАЛЬНЕРЕЧЕНСК I  БЛОКПОСТ 1571 КМ  Jul 14, 04:34  Jul 14, 04:40      1  200200091326\n",
      " 200200097619  БЛОКПОСТ 1571 КМ            РУЖИНО  Jul 14, 04:40  Jul 14, 05:27      1  200200091326\n",
      " 200200097619            РУЖИНО          ШМАКОВКА  Jul 14, 05:27  Jul 14, 06:11      1  200200091326\n",
      " 200200097619          ШМАКОВКА    СПАССК-ДАЛЬНИЙ  Jul 14, 06:11  Jul 14, 07:16      1  200200091326\n",
      " 200200097619    СПАССК-ДАЛЬНИЙ         СИБИРЦЕВО  Jul 14, 07:16  Jul 14, 08:13      1  200200091326\n",
      " 200200097619         СИБИРЦЕВО       ДУБИНИНСКИЙ  Jul 14, 08:13  Jul 14, 09:06      1  200200091326\n",
      " 200200097619       ДУБИНИНСКИЙ         УССУРИЙСК  Jul 14, 09:06  Jul 14, 09:18      1  200200091326\n",
      " 200200097619         УССУРИЙСК         УССУРИЙСК  Jul 14, 09:48  Jul 15, 04:36      4            -1\n",
      " 200200097619         УССУРИЙСК       ДУБИНИНСКИЙ  Jul 15, 04:36  Jul 15, 04:49      0  200200032218\n",
      " 200200097619       ДУБИНИНСКИЙ         СИБИРЦЕВО  Jul 15, 04:49  Jul 15, 05:32      0  200200032218\n",
      " 200200097619         СИБИРЦЕВО    СПАССК-ДАЛЬНИЙ  Jul 15, 05:32  Jul 15, 06:43      0  200200032218\n",
      " 200200097619    СПАССК-ДАЛЬНИЙ          ШМАКОВКА  Jul 15, 06:43  Jul 15, 07:55      0  200200032218\n",
      " 200200097619          ШМАКОВКА            РУЖИНО  Jul 15, 07:55  Jul 15, 08:33      0  200200032218\n",
      "\n",
      "         team    st_from_name      st_to_name   time_start_f     time_end_f  state          loco\n",
      " 200200260161          АБАКАН          АБАКАН  Jul 13, 21:12  Jul 13, 23:12      2            -1\n",
      " 200200260161          АБАКАН        ПОДСИНИЙ  Jul 13, 23:12  Jul 13, 23:25      1  200200051602\n",
      " 200200260161        ПОДСИНИЙ       МИНУСИНСК  Jul 13, 23:25  Jul 13, 23:37      1  200200051602\n",
      " 200200260161       МИНУСИНСК        КУРАГИНО  Jul 13, 23:37  Jul 14, 01:04      1  200200051602\n",
      " 200200260161        КУРАГИНО            ИРБА  Jul 14, 01:04  Jul 14, 01:20      1  200200051602\n",
      " 200200260161            ИРБА  РАЗЪЕЗД 557 КМ  Jul 14, 01:20  Jul 14, 02:17      1  200200051602\n",
      " 200200260161  РАЗЪЕЗД 557 КМ     КОШУРНИКОВО  Jul 14, 02:17  Jul 14, 02:29      1  200200051602\n",
      " 200200260161     КОШУРНИКОВО       ЩЕТИНКИНО  Jul 14, 02:29  Jul 14, 03:36      1  200200051602\n",
      " 200200260161       ЩЕТИНКИНО        САЯНСКАЯ  Jul 14, 03:36  Jul 14, 06:42      1  200200051602\n",
      " 200200260161        САЯНСКАЯ       ИРБЕЙСКАЯ  Jul 14, 06:42  Jul 14, 07:24      1  200200051602\n",
      " 200200260161       ИРБЕЙСКАЯ           ТАГУЛ  Jul 14, 07:24  Jul 14, 11:02      1  200200051602\n",
      " 200200260161           ТАГУЛ          ТАЙШЕТ  Jul 14, 11:02  Jul 14, 11:13      1  200200051602\n",
      " 200200260161          ТАЙШЕТ          ТАЙШЕТ  Jul 14, 11:43  Jul 14, 20:02      4            -1\n",
      " 200200260161          ТАЙШЕТ           ТАГУЛ  Jul 14, 20:02  Jul 14, 20:12      0            -1\n",
      " 200200260161           ТАГУЛ       ИРБЕЙСКАЯ  Jul 14, 20:12  Jul 15, 02:01      0            -1\n",
      " 200200260161       ИРБЕЙСКАЯ        САЯНСКАЯ  Jul 15, 02:01  Jul 15, 02:46      0            -1\n"
     ]
    }
   ],
   "source": [
    "add_header('Полные планы по некоторым ошибочным бригадам:')\n",
    "top_st = no_stop.st_to_name.value_counts().index[0]\n",
    "sec_st = no_stop.st_to_name.value_counts().index[1]\n",
    "cols = ['team', 'st_from_name', 'st_to_name', 'time_start_f', 'time_end_f', 'state', 'loco']\n",
    "add_line(team_plan[team_plan.team == no_stop[no_stop.st_to_name == top_st].iloc[0].team][cols])\n",
    "add_line('')\n",
    "add_line(team_plan[team_plan.team == no_stop[no_stop.st_to_name == sec_st].iloc[0].team][cols])"
   ]
  },
  {
   "cell_type": "markdown",
   "metadata": {},
   "source": [
    "#### Причины проезда бригад мимо станций смены:\n",
    "\n",
    "1. Новый Уоян: у бригад в участках обкатки присутствует участок 2002118258 (Северобайкальск -- Таксимо). Возможное решение: проверить участки обкатки, выяснить, откуда берется участок обкатки Северобайкальск -- Таксимо, удалить этот участок при необходимости.\n",
    "\n",
    "2. Зима. Фейковым бригадам хватает рабочего времени, чтобы доехать из Иркутска до Нижнеудинска (время хода --- чуть более 9 часов). Для этих бригад должен определяться УОЛБ 920502 \"Иркутск -- Зима\" с нормативным рабочим временем ровно 9 часов (540). Так что должна планироваться смена в Зиме. Возможные причины ошибки:\n",
    "  1. Определяется другой УОЛБ - а именно, УОЛБ 920503 \"Иркутск -- Гончарово, Кая -- Зима\". У этого УОЛБ рабочее время = 600 (10 часов). \n",
    "  2. У фейковой бригады неверно указывается депо приписки (или не указывается вообще). Тогда для нее может вообще не быть найден УОЛБ."
   ]
  },
  {
   "cell_type": "markdown",
   "metadata": {},
   "source": [
    "### Проверка случаев смены бригад не на допустимых станциях"
   ]
  },
  {
   "cell_type": "code",
   "execution_count": 176,
   "metadata": {
    "collapsed": true
   },
   "outputs": [],
   "source": [
    "add_header('Проверка случаев смены бригад не на допустимых станциях', h=3, p=False)"
   ]
  },
  {
   "cell_type": "code",
   "execution_count": 177,
   "metadata": {
    "collapsed": false
   },
   "outputs": [
    {
     "name": "stdout",
     "output_type": "stream",
     "text": [
      "Исключаются случаи смены бригады из-за завершения маршрута локомотива или поезда, а также случаи смены бригады на станции, которая является депо приписки бригады\n"
     ]
    }
   ],
   "source": [
    "add_line('Исключаются случаи смены бригады из-за завершения маршрута локомотива или поезда' + \n",
    "         ', а также случаи смены бригады на станции, которая является депо приписки бригады')"
   ]
  },
  {
   "cell_type": "code",
   "execution_count": 178,
   "metadata": {
    "collapsed": false
   },
   "outputs": [],
   "source": [
    "loco_plan['end_trip'] = (loco_plan.state != loco_plan.state.shift(-1)) | (loco_plan.train != loco_plan.train.shift(-1))\\\n",
    "                        | (loco_plan.loco != loco_plan.loco.shift(-1))\n",
    "team_plan['start_station_name'] = team_plan.team.map(team_plan[team_plan.state.isin([0, 1])]\\\n",
    "                                                     .drop_duplicates('team').set_index('team').st_from_name)\n",
    "team_plan.depot_name.fillna(team_plan.start_station_name, inplace=True)\n",
    "team_plan['depot_st_name'] = team_plan.depot_st.map(st_names.name)\n",
    "team_plan.depot_st_name.fillna(team_plan.start_station_name, inplace=True)\n",
    "loco_plan['team_depot_name'] = loco_plan.team.map(team_plan.drop_duplicates('team').set_index('team').depot_name)\n",
    "loco_plan['team_ready_depot_name'] = loco_plan.team.map(team_plan.drop_duplicates('team').set_index('team').depot_st_name)"
   ]
  },
  {
   "cell_type": "code",
   "execution_count": 179,
   "metadata": {
    "collapsed": false
   },
   "outputs": [
    {
     "name": "stdout",
     "output_type": "stream",
     "text": [
      "Всего 18 случаев смены бригад не на приоритетных станциях смены (0.61%)\n",
      "Распределение по неприоритетным станциям (первые 10):\n",
      "ТАШЕБА                  4\n",
      "МОРГУДОН                2\n",
      "ТЫЯ                     2\n",
      "ГОНЧАРОВО               2\n",
      "ДАЛЬНЕРЕЧЕНСК I         2\n",
      "ШТУРМ                   1\n",
      "ЗАУДИНСКИЙ              1\n",
      "МЕГЕТ                   1\n",
      "ПОДСИНИЙ                1\n",
      "КОМСОМОЛЬСК-НА-АМУРЕ    1\n"
     ]
    }
   ],
   "source": [
    "pr_st = pd.read_csv(FOLDER + 'mandatory/priority_team_change_stations.csv', sep=';', encoding='utf-8-sig', dtype={'station':str}).station\n",
    "team_change = loco_plan[(loco_plan.state != 4) & (loco_plan.team_end == True) & (loco_plan.end_trip == False)]\n",
    "bad_team_change = team_change[(team_change.st_to.isin(pr_st) == False) \n",
    "                              & (team_change.st_to_name != team_change.team_depot_name)\n",
    "                              & (team_change.st_to_name != team_change.team_ready_depot_name)]\n",
    "if bad_team_change.st_to_name.dropna().empty:\n",
    "    add_header('Все бригады меняются только на приоритетных станциях смены')\n",
    "else:\n",
    "    add_header('Всего %d случаев смены бригад не на приоритетных станциях смены (%.2f%%)'\n",
    "              % (bad_team_change.loco.count(), 100 * bad_team_change.loco.count() / team_change.loco.count()))\n",
    "    add_header('Распределение по неприоритетным станциям (первые 10):')\n",
    "    add_line(bad_team_change.st_to_name.value_counts().head(10))   \n",
    "    "
   ]
  },
  {
   "cell_type": "code",
   "execution_count": 180,
   "metadata": {
    "collapsed": false
   },
   "outputs": [
    {
     "name": "stdout",
     "output_type": "stream",
     "text": [
      "Примеры локомотивов и бригад, для которых смена указанной бригады произошла не на приоритетной станции:\n",
      "         loco          team           st_to_name     time_end_f           train\n",
      " 200200031026  200200254252             МОРГУДОН  Jul 13, 13:00    200230859373\n",
      " 200200049322  200200279701      ДАЛЬНЕРЕЧЕНСК I  Jul 13, 13:21    200230902282\n",
      " 200200050248  200200281804  КОМСОМОЛЬСК-НА-А...  Jul 13, 13:37    220210268183\n",
      " 200200056299  200200202908                ШТУРМ  Jul 13, 13:22  88880013634535\n",
      " 200200072108  200200165248           ЗАУДИНСКИЙ  Jul 13, 16:16    210219786687\n",
      " 200200080243  777700001784               ТАШЕБА  Jul 15, 13:49  88880018054806\n",
      " 200200080455  777700000990                МЕГЕТ  Jul 15, 07:52  88880006974474\n",
      " 200200080787  200200279069               ТАШЕБА  Jul 13, 13:45    200230696017\n",
      " 200200089888  200200166356                  ТЫЯ  Jul 14, 03:55    220210300220\n",
      " 200200092911  200200199877                  ТЫЯ  Jul 14, 03:55    220210087577\n",
      "Полный план по одному из таких локомотивов:\n",
      "         loco         st_from_name           st_to_name   time_start_f     time_end_f            train          team team_depot_name\n",
      " 200200080243                ТАГУЛ            ИРБЕЙСКАЯ  Jul 13, 10:13  Jul 13, 15:17     200230941672  200200145174        САЯНСКАЯ\n",
      " 200200080243            ИРБЕЙСКАЯ             САЯНСКАЯ  Jul 13, 15:17  Jul 13, 16:04     200230941672  200200145174        САЯНСКАЯ\n",
      " 200200080243             САЯНСКАЯ            ЩЕТИНКИНО  Jul 13, 18:00  Jul 13, 21:47     200230941672  200200133571          АБАКАН\n",
      " 200200080243            ЩЕТИНКИНО          КОШУРНИКОВО  Jul 13, 21:47  Jul 13, 22:51     200230941672  200200133571          АБАКАН\n",
      " 200200080243       РАЗЪЕЗД 557 КМ                 ИРБА  Jul 13, 22:51  Jul 14, 00:01     200230941672  200200133571          АБАКАН\n",
      " 200200080243          КОШУРНИКОВО       РАЗЪЕЗД 557 КМ  Jul 13, 22:51  Jul 13, 22:51     200230941672  200200133571          АБАКАН\n",
      " 200200080243                 ИРБА             КУРАГИНО  Jul 14, 00:01  Jul 14, 00:13     200230941672  200200133571          АБАКАН\n",
      " 200200080243             КУРАГИНО            МИНУСИНСК  Jul 14, 00:13  Jul 14, 01:48     200230941672  200200133571          АБАКАН\n",
      " 200200080243            МИНУСИНСК             ПОДСИНИЙ  Jul 14, 01:48  Jul 14, 01:58     200230941672  200200133571          АБАКАН\n",
      " 200200080243             ПОДСИНИЙ               АБАКАН  Jul 14, 01:58  Jul 14, 02:06     200230941672  200200133571          АБАКАН\n",
      " 200200080243               АБАКАН               ТАШЕБА  Jul 14, 05:03  Jul 14, 05:12     200230941672  200200149439    МЕЖДУРЕЧЕНСК\n",
      " 200200080243               ТАШЕБА                ТИГЕЙ  Jul 14, 05:12  Jul 14, 05:28     200230941672  200200149439    МЕЖДУРЕЧЕНСК\n",
      " 200200080243                ТИГЕЙ                ХОНЫХ  Jul 14, 05:28  Jul 14, 05:50     200230941672  200200149439    МЕЖДУРЕЧЕНСК\n",
      " 200200080243                ХОНЫХ              КАМЫШТА  Jul 14, 05:50  Jul 14, 06:48     200230941672  200200149439    МЕЖДУРЕЧЕНСК\n",
      " 200200080243              КАМЫШТА                АСКИЗ  Jul 14, 06:48  Jul 14, 07:35     200230941672  200200149439    МЕЖДУРЕЧЕНСК\n",
      " 200200080243                АСКИЗ               ХАБЗАС  Jul 14, 07:35  Jul 14, 09:03     200230941672  200200149439    МЕЖДУРЕЧЕНСК\n",
      " 200200080243               ХАБЗАС              НАНХЧУЛ  Jul 14, 09:03  Jul 14, 09:17     200230941672  200200149439    МЕЖДУРЕЧЕНСК\n",
      " 200200080243              НАНХЧУЛ             БИСКАМЖА  Jul 14, 09:17  Jul 14, 09:39     200230941672  200200149439    МЕЖДУРЕЧЕНСК\n",
      " 200200080243             БИСКАМЖА         МЕЖДУРЕЧЕНСК  Jul 14, 09:39  Jul 14, 12:48     200230941672  200200149439    МЕЖДУРЕЧЕНСК\n",
      " 200200080243         МЕЖДУРЕЧЕНСК             БИСКАМЖА  Jul 15, 07:35  Jul 15, 10:25   88880018054806  777700001784    МЕЖДУРЕЧЕНСК\n",
      " 200200080243             БИСКАМЖА              НАНХЧУЛ  Jul 15, 10:25  Jul 15, 10:48   88880018054806  777700001784    МЕЖДУРЕЧЕНСК\n",
      " 200200080243              НАНХЧУЛ               ХАБЗАС  Jul 15, 10:48  Jul 15, 11:11   88880018054806  777700001784    МЕЖДУРЕЧЕНСК\n",
      " 200200080243               ХАБЗАС                АСКИЗ  Jul 15, 11:11  Jul 15, 12:23   88880018054806  777700001784    МЕЖДУРЕЧЕНСК\n",
      " 200200080243                АСКИЗ              КАМЫШТА  Jul 15, 12:23  Jul 15, 13:04   88880018054806  777700001784    МЕЖДУРЕЧЕНСК\n",
      " 200200080243              КАМЫШТА                ХОНЫХ  Jul 15, 13:04  Jul 15, 13:39   88880018054806  777700001784    МЕЖДУРЕЧЕНСК\n",
      " 200200080243                ХОНЫХ                ТИГЕЙ  Jul 15, 13:39  Jul 15, 13:50   88880018054806  777700001784    МЕЖДУРЕЧЕНСК\n",
      " 200200080243               ТАШЕБА               АБАКАН  Jul 15, 13:49  Jul 15, 13:46   88880018054806  777700001784    МЕЖДУРЕЧЕНСК\n",
      " 200200080243                ТИГЕЙ               ТАШЕБА  Jul 15, 13:50  Jul 15, 13:49   88880018054806  777700001784    МЕЖДУРЕЧЕНСК\n",
      " 200200080243             ПОДСИНИЙ            МИНУСИНСК  Jul 15, 13:56  Jul 15, 14:05   88880018054806            -1             NaN\n",
      " 200200080243               АБАКАН             ПОДСИНИЙ  Jul 15, 13:56  Jul 15, 13:56   88880018054806            -1             NaN\n",
      " 200200080243            МИНУСИНСК             КУРАГИНО  Jul 15, 14:05  Jul 15, 15:33   88880018054806            -1             NaN\n",
      " 200200080243             КУРАГИНО                 ИРБА  Jul 15, 15:33  Jul 15, 15:49   88880018054806            -1             NaN\n",
      " 200200080243                 ИРБА       РАЗЪЕЗД 557 КМ  Jul 15, 15:49  Jul 15, 16:46   88880018054806            -1             NaN\n",
      " 200200080243       РАЗЪЕЗД 557 КМ          КОШУРНИКОВО  Jul 15, 16:46  Jul 15, 16:56   88880018054806            -1             NaN\n",
      " 200200080243          КОШУРНИКОВО            ЩЕТИНКИНО  Jul 15, 16:56  Jul 15, 18:01   88880018054806            -1             NaN\n",
      " 200200080243            ЩЕТИНКИНО             САЯНСКАЯ  Jul 15, 18:01  Jul 15, 21:19   88880018054806            -1             NaN\n",
      " 200200080243             САЯНСКАЯ            ИРБЕЙСКАЯ  Jul 15, 21:29  Jul 15, 22:43   88880018054806            -1             NaN\n",
      " 200200080243            ИРБЕЙСКАЯ                ТАГУЛ  Jul 15, 22:43  Jul 16, 02:30   88880018054806            -1             NaN\n",
      " 200200080243                ТАГУЛ               ТАЙШЕТ  Jul 16, 02:30  Jul 16, 02:42   88880018054806            -1             NaN\n",
      " 200200080243               ТАЙШЕТ                ТОРЕЯ  Jul 16, 04:40  Jul 16, 08:27  999912387012002            -1             NaN\n",
      " 200200080243                ТОРЕЯ                ТУРМА  Jul 16, 08:27  Jul 16, 09:30  999912387012002            -1             NaN\n",
      " 200200080243                ТУРМА            ВИХОРЕВКА  Jul 16, 09:30  Jul 16, 09:53  999912387012002            -1             NaN\n",
      " 200200080243            ВИХОРЕВКА             МОРГУДОН  Jul 16, 09:53  Jul 16, 10:05  999912387012002            -1             NaN\n",
      " 200200080243             МОРГУДОН          ГАЛАЧИНСКИЙ  Jul 16, 10:05  Jul 16, 10:26  999912387012002            -1             NaN\n",
      " 200200080243          ГАЛАЧИНСКИЙ     ПАДУНСКИЕ ПОРОГИ  Jul 16, 10:26  Jul 16, 10:10  999912387012002            -1             NaN\n",
      " 200200080243     ПАДУНСКИЕ ПОРОГИ       ГИДРОСТРОИТЕЛЬ  Jul 16, 10:54  Jul 16, 10:56  999912387012002            -1             NaN\n",
      " 200200080243       ГИДРОСТРОИТЕЛЬ  КОРШУНИХА-АНГАРСКАЯ  Jul 16, 10:56  Jul 16, 14:55  999912387012002            -1             NaN\n",
      " 200200080243  КОРШУНИХА-АНГАРСКАЯ            ХРЕБТОВАЯ  Jul 16, 15:05  Jul 16, 15:34  999912387012002            -1             NaN\n",
      " 200200080243            ХРЕБТОВАЯ                 ЛЕНА  Jul 16, 15:34  Jul 16, 17:59  999912387012002            -1             NaN\n"
     ]
    }
   ],
   "source": [
    "with (pd.option_context('display.max_colwidth', 20)):\n",
    "    if not bad_team_change.st_to_name.dropna().empty:\n",
    "        add_header('Примеры локомотивов и бригад, для которых смена указанной бригады произошла не на приоритетной станции:')\n",
    "        add_line(bad_team_change[['loco', 'team', 'st_to_name', 'time_end_f', 'train']].head(10))\n",
    "        cols = ['loco', 'st_from_name', 'st_to_name', 'time_start_f', 'time_end_f', 'train', 'team', 'team_depot_name']        \n",
    "        loco_id = bad_team_change[bad_team_change.st_to_name == bad_team_change.st_to_name.value_counts().idxmax()]\\\n",
    "                    .drop_duplicates('loco').iloc[0,:].loco\n",
    "        add_header('Полный план по одному из таких локомотивов:')\n",
    "        add_line(loco_plan[loco_plan.loco == loco_id][cols])"
   ]
  },
  {
   "cell_type": "markdown",
   "metadata": {},
   "source": [
    "<a id='presence'></a>\n",
    "## Проверка отправления бригады не ранее времени явки [ToC](#toc)"
   ]
  },
  {
   "cell_type": "code",
   "execution_count": 181,
   "metadata": {
    "collapsed": true
   },
   "outputs": [],
   "source": [
    "add_header('Проверка отправления бригады не ранее времени явки', h=2, p=False)"
   ]
  },
  {
   "cell_type": "code",
   "execution_count": 182,
   "metadata": {
    "collapsed": false
   },
   "outputs": [],
   "source": [
    "# Вычисляем максимальное время явки, добавляем его в team_info и team_plan\n",
    "# В таблице presence_fail --- ошибочные отправления бригад до времени явки\n",
    "\n",
    "presence_lim = 0\n",
    "team_cols = ['team', 'st_from_name', 'st_to_name', 'time_start_f', 'ready_type', \n",
    "             'presence_norm', 'presence_gap', 'state', 'state_info']\n",
    "\n",
    "team_info['all_presence'] = list(zip(team_info.depot_time, team_info.return_time))\n",
    "team_info['presence'] = team_info.all_presence.apply(lambda x: x[0] if x[0] > x[1] else x[1])\n",
    "team_info['presence_norm'] = team_info.presence.apply(nice_time)\n",
    "team_plan['presence'] = team_plan.team.map(team_info.set_index('team').presence)\n",
    "team_plan['presence_norm'] = team_plan.presence.apply(nice_time)\n",
    "team_plan['presence_gap'] = team_plan.time_start - team_plan.presence\n",
    "team_plan['ready_type'] = team_plan.team.map(team_info.set_index('team').ready_type)\n",
    "presence_fail = team_plan[(team_plan.state.isin([0, 1])) & (team_plan.presence_gap < presence_lim)].drop_duplicates('team')\n",
    "pr = team_info[['team', 'depot_time', 'return_time', 'presence', 'presence_norm']]"
   ]
  },
  {
   "cell_type": "code",
   "execution_count": 183,
   "metadata": {
    "collapsed": false
   },
   "outputs": [
    {
     "name": "stdout",
     "output_type": "stream",
     "text": [
      "Нет бригад, которые запланированы к отправлению пассажиром ранее времени явки\n",
      "\n",
      "Нет бригад, которые запланированы к отправлению пассажирами ранее времени явки после начала планирования\n"
     ]
    }
   ],
   "source": [
    "p = presence_fail[presence_fail.state == 0]\n",
    "ph = presence_fail[(presence_fail.state == 0) & (presence_fail.time_start >= current_time)]\n",
    "if not p.empty:\n",
    "    add_header('Всего бригад, которые отправлены пассажиром ранее времени явки: %d (показаны первые 10)' % p.team.count())\n",
    "    add_line(p.sort_values('presence_gap')[team_cols].head(10))\n",
    "else:\n",
    "    add_header('Нет бригад, которые запланированы к отправлению пассажиром ранее времени явки')\n",
    "    \n",
    "if not ph.empty:\n",
    "    add_header('\\nВсего бригад, которые отправлены пассажиром ранее времени явки после начала планирования: %d (показаны первые 10)' \n",
    "      % ph.team.count())\n",
    "    add_line(ph.sort_values('presence_gap')[team_cols].head(10))\n",
    "else:\n",
    "    add_header('\\nНет бригад, которые запланированы к отправлению пассажирами ранее времени явки после начала планирования')"
   ]
  },
  {
   "cell_type": "code",
   "execution_count": 184,
   "metadata": {
    "collapsed": false
   },
   "outputs": [
    {
     "name": "stdout",
     "output_type": "stream",
     "text": [
      "Всего бригад, которые отправлены с локомотивом ранее времени явки: 1 (показаны первые 10)\n",
      "         team st_from_name st_to_name   time_start_f ready_type  presence_norm  presence_gap  state state_info\n",
      " 200200193220         ЗИМА     ЗАЛАРИ  Jul 12, 15:33     return  Jul 13, 06:30        -53820      1          1\n",
      "\n",
      "Нет бригад, которые запланированы к отправлению с локомотивами ранее времени явки после начала планирования\n"
     ]
    }
   ],
   "source": [
    "f = presence_fail[presence_fail.state == 1]\n",
    "fh = presence_fail[(presence_fail.state == 1) & (presence_fail.time_start >= current_time)]\n",
    "if not f.empty:\n",
    "    add_header('Всего бригад, которые отправлены с локомотивом ранее времени явки: %d (показаны первые 10)' % f.team.count())\n",
    "    add_line(f.sort_values('presence_gap')[team_cols].head(10))\n",
    "else:\n",
    "    add_header('Нет бригад, которые запланированы к отправлению с локомотивами ранее времени явки')\n",
    "\n",
    "if not fh.team.empty:\n",
    "    add_header('\\nВсего бригад, которые отправлены с локомотивом ранее времени явки после начала планирования: %d (показаны первые 10)' \n",
    "      % fh.team.count())\n",
    "    add_line(fh.sort_values('presence_gap')[team_cols].head(10))\n",
    "else:\n",
    "    add_header('\\nНет бригад, которые запланированы к отправлению с локомотивами ранее времени явки после начала планирования')"
   ]
  },
  {
   "cell_type": "markdown",
   "metadata": {},
   "source": [
    "<a id='before_current_time'></a>\n",
    "## Проверка планирования бригад до времени начала планирования [ToC](#toc)"
   ]
  },
  {
   "cell_type": "code",
   "execution_count": 185,
   "metadata": {
    "collapsed": true
   },
   "outputs": [],
   "source": [
    "add_header('Проверка планирования бригад до времени начала планирования', h=2, p=False)"
   ]
  },
  {
   "cell_type": "code",
   "execution_count": 186,
   "metadata": {
    "collapsed": false
   },
   "outputs": [
    {
     "name": "stdout",
     "output_type": "stream",
     "text": [
      "(Не учитываются бригады, которые на начало планирования находились на перегоне)\n",
      "Время начала планирования: Jul 13, 10:00\n",
      "\n",
      "Всего бригад, отправленных до начала планирования: 0 (0.00% от всех запланированных бригад)\n"
     ]
    }
   ],
   "source": [
    "team_cols = ['team', 'st_from_name', 'st_to_name', 'time_start_f', 'state', 'loco', 'state_info']\n",
    "\n",
    "add_line('(Не учитываются бригады, которые на начало планирования находились на перегоне)')\n",
    "add_line('Время начала планирования: %s' % nice_time(current_time))\n",
    "\n",
    "total_teams = team_plan.team.drop_duplicates().count()\n",
    "\n",
    "tbef = team_plan[(team_plan.time_start < current_time)          \n",
    "         & (team_plan.state.isin([0, 1])) & (team_plan.state_info != team_plan.state.apply(str))].drop_duplicates('team')\n",
    "add_header('\\nВсего бригад, отправленных до начала планирования: %d (%.2f%% от всех запланированных бригад)' \n",
    "           % (tbef.team.count(), 100 * tbef.team.count() / total_teams))\n",
    "if not tbef.empty:\n",
    "    add_header('\\nРаспределение по состояниям бригад, отправленных до начала планирования:')\n",
    "    add_line(tbef.state.value_counts())\n",
    "    \n",
    "    for i in sorted(tbef.state.unique()):\n",
    "        add_header('\\nБригады, отправленные до начала планирования в состоянии %d (первые 10):' % i)\n",
    "        add_line(tbef[tbef.state == i].sort_values('time_start').head(10)[team_cols])\n",
    "\n",
    "    add_header('\\nРаспределение по типу бригад, отправленных до начала планирования в состоянии 1:')\n",
    "    add_line(tbef[tbef.state == 1].team_type.value_counts())"
   ]
  },
  {
   "cell_type": "markdown",
   "metadata": {},
   "source": [
    "<a id='presenting'></a>\n",
    "## Проверка планируемых явок бригад [ToC](#toc)"
   ]
  },
  {
   "cell_type": "code",
   "execution_count": 187,
   "metadata": {
    "collapsed": true
   },
   "outputs": [],
   "source": [
    "add_header('Проверка планируемых явок бригад', h=2, p=False)"
   ]
  },
  {
   "cell_type": "code",
   "execution_count": 188,
   "metadata": {
    "collapsed": false
   },
   "outputs": [
    {
     "name": "stdout",
     "output_type": "stream",
     "text": [
      "Разброс времен на явку бригад: от 0.32 ч. до 5.90 ч.\n"
     ]
    },
    {
     "data": {
      "image/png": "[encoded data removed]",
      "text/plain": [
       "<matplotlib.figure.Figure at 0x1c849bc5e80>"
      ]
     },
     "metadata": {},
     "output_type": "display_data"
    }
   ],
   "source": [
    "team_cols = ['team', 'st_from_name', 'st_to_name', 'time_start_f', 'time_end_f', 'tt', 'state', 'loco', 'state_info']\n",
    "team_plan['tt'] = team_plan.time_end - team_plan.time_start\n",
    "min_presenting = team_plan[team_plan.state == 2][team_cols].tt.min()\n",
    "max_presenting = team_plan[team_plan.state == 2][team_cols].tt.max()\n",
    "add_header('Разброс времен на явку бригад: от %.2f ч. до %.2f ч.' % (min_presenting / 3600, max_presenting / 3600))\n",
    "\n",
    "sns.set(style='whitegrid', context='notebook')\n",
    "fig = plt.figure(figsize=(8, 3))\n",
    "ax = sns.distplot(team_plan[team_plan.state == 2][team_cols].tt / 3600, hist=False, bins=20, color='b', kde_kws={'shade':True})\n",
    "ax.set(xlabel='Время на явку, ч.', title='Распределение времен на явку бригад')\n",
    "filename = 'team_presenting.png'\n",
    "fig.savefig(REPORT_FOLDER + filename, bbox_inches='tight')\n",
    "add_image(filename)"
   ]
  },
  {
   "cell_type": "code",
   "execution_count": 189,
   "metadata": {
    "collapsed": false
   },
   "outputs": [
    {
     "name": "stdout",
     "output_type": "stream",
     "text": [
      "Всего 1055 бригад, у которых время окончания отдыха не совпадает со временем явки (показаны первые 10):\n",
      "         team         st_from_name           st_to_name  state  next_state   time_start_f     time_end_f next_time_start_f\n",
      " 200200227694                ТЫРМА                ТЫРМА      4           2  Jul 13, 10:00  Jul 13, 13:00     Jul 13, 17:04\n",
      " 200200194088          СКОВОРОДИНО          СКОВОРОДИНО      4           2  Jul 13, 10:00  Jul 13, 15:41     Jul 13, 15:49\n",
      " 210219039838             УЛАН-УДЭ             УЛАН-УДЭ      4           2  Jul 13, 10:00  Jul 13, 14:30     Jul 13, 15:13\n",
      " 200200102632  КОРШУНИХА-АНГАРСКАЯ  КОРШУНИХА-АНГАРСКАЯ      4           2  Jul 13, 10:02  Jul 13, 16:02     Jul 15, 12:53\n",
      " 200200185620         ХАБАРОВСК II         ХАБАРОВСК II      4           2  Jul 13, 10:02  Jul 13, 14:19     Jul 13, 15:25\n",
      " 200200248044                УРУША                УРУША      4           2  Jul 13, 10:03  Jul 13, 14:29     Jul 13, 19:54\n",
      " 200200223212            МАГДАГАЧИ            МАГДАГАЧИ      4           2  Jul 13, 10:04  Jul 13, 15:35     Jul 14, 02:34\n",
      " 200200130674                УРУША                УРУША      4           2  Jul 13, 10:05  Jul 13, 15:02     Jul 14, 06:11\n",
      " 200200147944            УССУРИЙСК            УССУРИЙСК      4           2  Jul 13, 10:05  Jul 13, 13:27     Jul 13, 14:08\n",
      " 200200157264  КОМСОМОЛЬСК-НА-А...  КОМСОМОЛЬСК-НА-А...      4           2  Jul 13, 10:07  Jul 13, 14:20     Jul 14, 02:06\n",
      "\n",
      "Распределение таких ошибочных явок после отдыха по станциям (показаны первые 5):\n",
      "УРУША                       106\n",
      "ЧЕРНЫШЕВСК-ЗАБАЙКАЛЬСКИЙ     77\n",
      "МАГДАГАЧИ                    70\n",
      "ЧИТА I                       58\n",
      "СЛЮДЯНКА I                   58\n"
     ]
    }
   ],
   "source": [
    "team_plan['next_state'] = team_plan.state.shift(-1)\n",
    "team_plan['next_time_start_f'] = team_plan.time_start_f.shift(-1)\n",
    "cols = ['team', 'st_from_name', 'st_to_name', 'state', 'next_state', 'time_start_f', 'time_end_f', 'next_time_start_f']\n",
    "rest_pres = team_plan[(team_plan.team == team_plan.team.shift(-1)) \n",
    "                     & (team_plan.state == 4) & (team_plan.next_state == 2)\n",
    "                     & (team_plan.time_end_f != team_plan.next_time_start_f)]\n",
    "add_header('Всего %d бригад, у которых время окончания отдыха не совпадает со временем явки (показаны первые 10):' \n",
    "      % rest_pres.team.drop_duplicates().count())\n",
    "add_line(rest_pres[rest_pres.time_start >= current_time].sort_values('time_start').head(10)[cols])\n",
    "add_header('\\nРаспределение таких ошибочных явок после отдыха по станциям (показаны первые 5):')\n",
    "add_line(rest_pres.st_from_name.value_counts().head())"
   ]
  },
  {
   "cell_type": "markdown",
   "metadata": {},
   "source": [
    "<a id='check_useful_assign'></a>\n",
    "## Проверка использования бригад [ToC](#toc)"
   ]
  },
  {
   "cell_type": "code",
   "execution_count": 190,
   "metadata": {
    "collapsed": false
   },
   "outputs": [],
   "source": [
    "add_header('Проверка использования бригад', h=2, p=False)"
   ]
  },
  {
   "cell_type": "markdown",
   "metadata": {},
   "source": [
    "<a id='only_pass'></a>\n",
    "### Бригады, запланированные к отправлению пассажирами без последующей подвязки [ToC](#toc)"
   ]
  },
  {
   "cell_type": "code",
   "execution_count": 191,
   "metadata": {
    "collapsed": true
   },
   "outputs": [],
   "source": [
    "add_header('Проверка использования бригад после засылки пассажирами', h=3, p=False)"
   ]
  },
  {
   "cell_type": "code",
   "execution_count": 192,
   "metadata": {
    "collapsed": false
   },
   "outputs": [],
   "source": [
    "team_plan['all_states'] = team_plan.team.map(team_plan.groupby('team').state.unique())\n",
    "cols = ['team', 'st_from_name', 'st_to_name', 'time_start_f', 'time_end_f', 'depot_name',\n",
    "        'state', 'all_states']"
   ]
  },
  {
   "cell_type": "code",
   "execution_count": 193,
   "metadata": {
    "collapsed": false
   },
   "outputs": [
    {
     "name": "stdout",
     "output_type": "stream",
     "text": [
      "Всего 398 бригад, для которых планируется отправка пассажиром и не планируется работа с поездом\n"
     ]
    }
   ],
   "source": [
    "def get_cat(all_states):\n",
    "    if 1 in all_states:\n",
    "        return 'work'\n",
    "    elif (len(all_states) == 1) & (all_states[0] == 2):\n",
    "        return 'only_presence'\n",
    "    elif len(all_states) == 2:\n",
    "        if ((all_states[0] == 4) & (all_states[1] == 0)):\n",
    "            return 'pass_home'\n",
    "        else:\n",
    "            return 'fail'\n",
    "    else:\n",
    "        return 'fail'\n",
    "\n",
    "team_plan['cat'] = team_plan.all_states.apply(get_cat)\n",
    "only_pass_teams = team_plan[(team_plan.cat == 'fail') & (team_plan.state_info != '2')]\n",
    "                            \n",
    "add_header('Всего %d бригад, для которых планируется отправка пассажиром и не планируется работа с поездом' \n",
    "      % only_pass_teams.team.drop_duplicates().count())"
   ]
  },
  {
   "cell_type": "code",
   "execution_count": 194,
   "metadata": {
    "collapsed": false
   },
   "outputs": [
    {
     "name": "stdout",
     "output_type": "stream",
     "text": [
      "Станции, с которых чаще всегда планируется лишняя отправка пассажирами:\n",
      "ИЛАНСКАЯ                    91\n",
      "КРАСНОЯРСК-ВОСТОЧНЫЙ        82\n",
      "УЛАН-УДЭ                    42\n",
      "ВЫСОКОГОРНАЯ                24\n",
      "ЛЕНА                        19\n",
      "ЧЕРНЫШЕВСК-ЗАБАЙКАЛЬСКИЙ    16\n",
      "КОРШУНИХА-АНГАРСКАЯ         15\n",
      "ИРКУТСК-СОРТИРОВОЧНЫЙ       13\n",
      "РУЖИНО                      12\n",
      "СЕВЕРОБАЙКАЛЬСК              9\n"
     ]
    }
   ],
   "source": [
    "add_header('Станции, с которых чаще всегда планируется лишняя отправка пассажирами:')\n",
    "add_line(only_pass_teams.drop_duplicates('team').st_from_name.value_counts().head(10))"
   ]
  },
  {
   "cell_type": "code",
   "execution_count": 195,
   "metadata": {
    "collapsed": false
   },
   "outputs": [
    {
     "name": "stdout",
     "output_type": "stream",
     "text": [
      "Примеры:\n",
      "         team st_from_name st_to_name   time_start_f     time_end_f depot_name  state all_states\n",
      " 200200259703     УЛАН-УДЭ    МЫСОВАЯ  Jul 13, 10:16  Jul 13, 12:34   УЛАН-УДЭ      0     [0, 4]\n",
      " 200200259703      МЫСОВАЯ    МЫСОВАЯ  Jul 13, 13:04  Jul 13, 19:46   УЛАН-УДЭ      4     [0, 4]\n",
      " 200200259703      МЫСОВАЯ   УЛАН-УДЭ  Jul 13, 19:46  Jul 13, 21:48   УЛАН-УДЭ      0     [0, 4]\n",
      "\n",
      "         team              st_from_name                st_to_name   time_start_f     time_end_f                depot_name  state all_states\n",
      " 200200136324  ЧЕРНЫШЕВСК-ЗАБАЙКАЛЬСКИЙ                   ЖИРЕКЕН  Jul 14, 01:18  Jul 14, 02:13  ЧЕРНЫШЕВСК-ЗАБАЙКАЛЬСКИЙ      0     [0, 4]\n",
      " 200200136324                   ЖИРЕКЕН                    ЗИЛОВО  Jul 14, 02:13  Jul 14, 03:02  ЧЕРНЫШЕВСК-ЗАБАЙКАЛЬСКИЙ      0     [0, 4]\n",
      " 200200136324                    ЗИЛОВО               КСЕНЬЕВСКАЯ  Jul 14, 03:02  Jul 14, 05:24  ЧЕРНЫШЕВСК-ЗАБАЙКАЛЬСКИЙ      0     [0, 4]\n",
      " 200200136324               КСЕНЬЕВСКАЯ               КСЕНЬЕВСКАЯ  Jul 14, 05:54  Jul 14, 11:50  ЧЕРНЫШЕВСК-ЗАБАЙКАЛЬСКИЙ      4     [0, 4]\n",
      " 200200136324               КСЕНЬЕВСКАЯ                    ЗИЛОВО  Jul 14, 11:50  Jul 14, 14:17  ЧЕРНЫШЕВСК-ЗАБАЙКАЛЬСКИЙ      0     [0, 4]\n",
      " 200200136324                    ЗИЛОВО                   ЖИРЕКЕН  Jul 14, 14:17  Jul 14, 15:00  ЧЕРНЫШЕВСК-ЗАБАЙКАЛЬСКИЙ      0     [0, 4]\n",
      " 200200136324                   ЖИРЕКЕН  ЧЕРНЫШЕВСК-ЗАБАЙКАЛЬСКИЙ  Jul 14, 15:00  Jul 14, 15:52  ЧЕРНЫШЕВСК-ЗАБАЙКАЛЬСКИЙ      0     [0, 4]\n",
      "\n",
      "         team st_from_name st_to_name   time_start_f     time_end_f   depot_name  state all_states\n",
      " 200200105739        СУЛУК      СУЛУК  Jul 14, 02:45  Jul 14, 15:53  НОВЫЙ УРГАЛ      4        [4]\n",
      "\n"
     ]
    }
   ],
   "source": [
    "with pd.option_context('display.max_colwidth', 25):\n",
    "    if only_pass_teams.team.drop_duplicates().count() != 0:\n",
    "        add_header('Примеры:')\n",
    "        for team in only_pass_teams.team.drop_duplicates().iloc[:3].values:    \n",
    "            add_line(team_plan[team_plan.team == team][cols])\n",
    "            add_line('')"
   ]
  },
  {
   "cell_type": "code",
   "execution_count": 196,
   "metadata": {
    "collapsed": false
   },
   "outputs": [
    {
     "name": "stdout",
     "output_type": "stream",
     "text": [
      "Пример бесцельной отправки пассажиром со станции Иркутск-Сортировочный:\n",
      "         team         st_from_name           st_to_name   time_start_f     time_end_f           depot_name  state all_states\n",
      " 210217155507  ИРКУТСК-СОРТИРОВ...            ГОНЧАРОВО  Jul 14, 02:44  Jul 14, 03:08  ИРКУТСК-СОРТИРОВ...      0     [0, 4]\n",
      " 210217155507            ГОНЧАРОВО          БОЛЬШОЙ ЛУГ  Jul 14, 03:08  Jul 14, 03:54  ИРКУТСК-СОРТИРОВ...      0     [0, 4]\n",
      " 210217155507          БОЛЬШОЙ ЛУГ        АНДРИАНОВСКАЯ  Jul 14, 03:54  Jul 14, 04:54  ИРКУТСК-СОРТИРОВ...      0     [0, 4]\n",
      " 210217155507        АНДРИАНОВСКАЯ            АНГАСОЛКА  Jul 14, 04:54  Jul 14, 05:07  ИРКУТСК-СОРТИРОВ...      0     [0, 4]\n",
      " 210217155507            АНГАСОЛКА          СЛЮДЯНКА II  Jul 14, 05:07  Jul 14, 05:33  ИРКУТСК-СОРТИРОВ...      0     [0, 4]\n",
      " 210217155507          СЛЮДЯНКА II           СЛЮДЯНКА I  Jul 14, 05:33  Jul 14, 05:39  ИРКУТСК-СОРТИРОВ...      0     [0, 4]\n",
      " 210217155507           СЛЮДЯНКА I           СЛЮДЯНКА I  Jul 14, 06:09  Jul 14, 10:43  ИРКУТСК-СОРТИРОВ...      4     [0, 4]\n",
      " 210217155507           СЛЮДЯНКА I          СЛЮДЯНКА II  Jul 14, 10:43  Jul 14, 10:50  ИРКУТСК-СОРТИРОВ...      0     [0, 4]\n",
      " 210217155507          СЛЮДЯНКА II            АНГАСОЛКА  Jul 14, 10:50  Jul 14, 11:16  ИРКУТСК-СОРТИРОВ...      0     [0, 4]\n",
      " 210217155507            АНГАСОЛКА        АНДРИАНОВСКАЯ  Jul 14, 11:16  Jul 14, 11:30  ИРКУТСК-СОРТИРОВ...      0     [0, 4]\n",
      " 210217155507        АНДРИАНОВСКАЯ          БОЛЬШОЙ ЛУГ  Jul 14, 11:30  Jul 14, 12:40  ИРКУТСК-СОРТИРОВ...      0     [0, 4]\n",
      " 210217155507          БОЛЬШОЙ ЛУГ            ГОНЧАРОВО  Jul 14, 12:40  Jul 14, 13:07  ИРКУТСК-СОРТИРОВ...      0     [0, 4]\n",
      " 210217155507            ГОНЧАРОВО  ИРКУТСК-СОРТИРОВ...  Jul 14, 13:07  Jul 14, 13:31  ИРКУТСК-СОРТИРОВ...      0     [0, 4]\n"
     ]
    }
   ],
   "source": [
    "irk = only_pass_teams[only_pass_teams.st_from_name == 'ИРКУТСК-СОРТИРОВОЧНЫЙ']\n",
    "if not irk.empty:\n",
    "    add_header('Пример бесцельной отправки пассажиром со станции Иркутск-Сортировочный:')\n",
    "    add_line(team_plan[team_plan.team == irk.iloc[0].team][cols])"
   ]
  },
  {
   "cell_type": "markdown",
   "metadata": {},
   "source": [
    "<a id='only_presence'></a>\n",
    "### Бригады, планируемые только на явку [ToC](#toc)"
   ]
  },
  {
   "cell_type": "code",
   "execution_count": 197,
   "metadata": {
    "collapsed": true
   },
   "outputs": [],
   "source": [
    "add_header('Бригады, планируемые только на явку', h=3, p=False)"
   ]
  },
  {
   "cell_type": "code",
   "execution_count": 198,
   "metadata": {
    "collapsed": false
   },
   "outputs": [
    {
     "name": "stdout",
     "output_type": "stream",
     "text": [
      "Всего 570 бригад, запланированных только на явку.\n",
      "\n",
      "Распределение по депо станции явки:\n",
      "ИЛАНСКАЯ                76\n",
      "ЛЕНА                    61\n",
      "ВЫСОКОГОРНАЯ            61\n",
      "КРАСНОЯРСК-ВОСТОЧНЫЙ    40\n",
      "ВЕРХНЕЗЕЙСК             39\n",
      "\n",
      "Распределение по типу бригады:\n",
      "Фейковая    400\n",
      "Реальная    170\n",
      "\n",
      "Примеры бригад:\n",
      "         team         st_from_name   time_start_f     time_end_f           depot_name state_info all_states\n",
      " 200200224229  ЧЕРНЫШЕВСК-ЗАБАЙ...  Jul 13, 08:23  Jul 13, 09:15  ЧЕРНЫШЕВСК-ЗАБАЙ...          2        [2]\n",
      " 200200189038          СМОЛЯНИНОВО  Jul 13, 05:00  Jul 13, 06:30               РУЖИНО          8        [2]\n",
      " 200200242540            КАРЫМСКАЯ  Jul 13, 07:44  Jul 13, 09:50  ЧЕРНЫШЕВСК-ЗАБАЙ...          8        [2]\n",
      " 220204252508               МОГОЧА  Jul 13, 09:30  Jul 13, 10:30               МОГОЧА          2        [2]\n",
      " 200200206726            КАРЫМСКАЯ  Jul 13, 07:54  Jul 13, 10:00            КАРЫМСКАЯ          2        [2]\n",
      " 200200163912            ФЕВРАЛЬСК  Jul 13, 04:31  Jul 13, 10:25                ТЫНДА          8        [2]\n",
      " 200200151774             САЯНСКАЯ  Jul 13, 08:50  Jul 13, 10:10             САЯНСКАЯ          2        [2]\n",
      " 200200224043               ТАЙШЕТ  Jul 13, 08:22  Jul 13, 10:40            ВИХОРЕВКА          8        [2]\n",
      " 200200090000               ЧИТА I  Jul 12, 14:04  Jul 12, 15:24               ЧИТА I          2        [2]\n",
      " 200200277418               МОГОЧА  Jul 12, 23:29  Jul 13, 00:29               МОГОЧА          2        [2]\n"
     ]
    }
   ],
   "source": [
    "cols = ['team', 'st_from_name', 'time_start_f', 'time_end_f', 'depot_name', 'state_info', 'all_states']\n",
    "only_pr = team_plan[team_plan.cat == 'only_presence']\n",
    "if not only_pr.empty:\n",
    "    add_header('Всего %d бригад, запланированных только на явку.' % only_pr.team.drop_duplicates().count())\n",
    "    add_line('')\n",
    "    add_header('Распределение по депо станции явки:')\n",
    "    add_line(only_pr.drop_duplicates('team').st_from_name.value_counts().head())\n",
    "    add_line('')\n",
    "    add_header('Распределение по типу бригады:')\n",
    "    add_line(only_pr.drop_duplicates('team').team_type.value_counts())\n",
    "    add_line('')\n",
    "    add_header('Примеры бригад:')\n",
    "    add_line(only_pr[cols].head(10))\n",
    "else:\n",
    "    add_header('В плане нет бригад, запланированных только на явку')"
   ]
  },
  {
   "cell_type": "markdown",
   "metadata": {},
   "source": [
    "## Проверка наличия явки в планах у всех запланированных бригад"
   ]
  },
  {
   "cell_type": "code",
   "execution_count": 199,
   "metadata": {
    "collapsed": false
   },
   "outputs": [
    {
     "name": "stdout",
     "output_type": "stream",
     "text": [
      "Всего событие явки не запланировано у 1265 бригад (22.52%). Примеры:\n",
      "         team st_from_name           st_to_name   time_start_f     time_end_f  state          loco\n",
      " 200200164066          УЯР               ЗЫКОВО  Jul 13, 09:14  Jul 13, 11:00      1  200200100465\n",
      " 200200164066       ЗЫКОВО  КРАСНОЯРСК-ВОСТО...  Jul 13, 11:00  Jul 13, 11:10      1  200200100465\n",
      "         team st_from_name           st_to_name   time_start_f     time_end_f  state          loco\n",
      " 200200164066          УЯР               ЗЫКОВО  Jul 13, 09:14  Jul 13, 11:00      1  200200100465\n",
      " 200200164066       ЗЫКОВО  КРАСНОЯРСК-ВОСТО...  Jul 13, 11:00  Jul 13, 11:10      1  200200100465\n",
      "Распределение по типу бригад (в долях):\n",
      "Реальная    0.628458\n",
      "Фейковая    0.371542\n"
     ]
    }
   ],
   "source": [
    "team_plan['all_states'] = team_plan.team.map(team_plan.groupby('team').state.unique())\n",
    "no_pres = team_plan[team_plan.all_states.apply(lambda x: (2 not in x) & (1 in x))]\n",
    "cols = ['team', 'st_from_name', 'st_to_name', 'time_start_f', 'time_end_f', 'state', 'loco']\n",
    "add_header('Всего событие явки не запланировано у %d бригад (%.2f%%). Примеры:'\n",
    "           % (no_pres.drop_duplicates('team').team.count(),\n",
    "              100 * no_pres.drop_duplicates('team').team.count() / team_plan.drop_duplicates('team').team.count()))\n",
    "add_line(team_plan[team_plan.team == no_pres.iloc[0].team][cols])\n",
    "add_line(team_plan[team_plan.team == no_pres.iloc[1].team][cols])\n",
    "add_header('Распределение по типу бригад (в долях):')\n",
    "add_line(no_pres.drop_duplicates('team').team_type.value_counts(normalize=True))"
   ]
  },
  {
   "cell_type": "markdown",
   "metadata": {},
   "source": [
    "<a id='pass_teams_in_plan'></a>\n",
    "## Проверка подвязки негрузовых бригад [ToC](#toc)"
   ]
  },
  {
   "cell_type": "code",
   "execution_count": 200,
   "metadata": {
    "collapsed": true
   },
   "outputs": [],
   "source": [
    "add_header('Проверка подвязки негрузовых бригад', h=2, p=False)"
   ]
  },
  {
   "cell_type": "code",
   "execution_count": 201,
   "metadata": {
    "collapsed": false
   },
   "outputs": [
    {
     "name": "stdout",
     "output_type": "stream",
     "text": [
      "В плане нет негрузовых бригад с запланированной подвязкой, отличной от подвязки во входных данных\n"
     ]
    }
   ],
   "source": [
    "cols = ['team', 'ttype', 'loco_info', 'st_from_name', 'st_to_name', 'time_start_f', 'state', 'loco']\n",
    "bad_pass_teams = team_plan[(team_plan.ttype == 0) & (team_plan.loco != team_plan.loco_info) \n",
    "                           & (team_plan.state.isin([0, 1]))][cols]\n",
    "if bad_pass_teams.empty:\n",
    "    add_header('В плане нет негрузовых бригад с запланированной подвязкой, отличной от подвязки во входных данных')\n",
    "else:\n",
    "    add_header('Всего %d негрузовых бригад, для которых запланирована подвязка, отличная от подвязки во входных данных:' \n",
    "              % bad_pass_teams.drop_duplicates('team').team.count())\n",
    "    add_line(bad_pass_teams.drop_duplicates('team')[cols].head())"
   ]
  },
  {
   "cell_type": "markdown",
   "metadata": {},
   "source": [
    "[ToC](#toc)\n",
    "## Проверка сохранения предыдущих времен явок\n",
    "\n",
    "В планировщик в сообщениях `prev_team` передаются времена явок бригад, запланированные на предыдущем расчете. В зависимости от горизонта, на котором запланированы эти явки, их при новом расчете можно сдвигать лишь на очень ограниченное время."
   ]
  },
  {
   "cell_type": "code",
   "execution_count": 202,
   "metadata": {
    "collapsed": true
   },
   "outputs": [],
   "source": [
    "add_header('Проверка сохранения предыдущих времен явок', h=2, p=False)"
   ]
  },
  {
   "cell_type": "code",
   "execution_count": 203,
   "metadata": {
    "collapsed": false
   },
   "outputs": [
    {
     "name": "stdout",
     "output_type": "stream",
     "text": [
      "Время начала планирования: Jul 13, 10:00\n",
      "Все бригады с предыдущими явками запланированы\n"
     ]
    }
   ],
   "source": [
    "add_line('Время начала планирования: %s' % nice_time(current_time))\n",
    "prev_team = pd.read_csv(FOLDER + 'prev_team.csv', dtype={'team':str})\n",
    "prev_team['dt_time'] = prev_team.prev_ready_time.apply(nice_time)\n",
    "prev_team['team_type'] = prev_team.team.apply(lambda x: int(str(x)[0]))\n",
    "prev_team['plan_hor'] = (prev_team.prev_ready_time - current_time) / 3600\n",
    "team_plan['prev_ready_time'] = team_plan.team.map(prev_team.drop_duplicates('team').set_index('team').prev_ready_time)\n",
    "team_plan['prev_ready_time_f'] = team_plan.prev_ready_time.apply(nice_time)\n",
    "\n",
    "prev_team_no_planned = prev_team[(prev_team.team_type != 7) & (prev_team.team.isin(team_info.team))\n",
    "                                 & (prev_team.team.isin(team_plan[team_plan.state.isin([0, 1])].team) == False)]\n",
    "prev_team_no_planned_6 = prev_team_no_planned[(prev_team_no_planned.plan_hor > 0) \n",
    "                                              & (prev_team_no_planned.plan_hor < 6)]\n",
    "prev_team_n = prev_team[(prev_team.team_type != 7) & (prev_team.team.isin(team_info.team))].team.count()\n",
    "if prev_team_no_planned.empty:\n",
    "    add_header('Все бригады с предыдущими явками запланированы')\n",
    "else:\n",
    "    add_header('Не запланировано %d бригад (%.2f%%) с предыдущими явками (%d на горизонте до 6 часов). Примеры:'\n",
    "              % (prev_team_no_planned.team.count(),                  \n",
    "                 100 * prev_team_no_planned.team.count() / prev_team_n,\n",
    "                 prev_team_no_planned_6.team.count()))\n",
    "    add_line(prev_team_no_planned[(prev_team_no_planned.plan_hor > 0) \n",
    "                                  & (prev_team_no_planned.plan_hor < 6)].sort_values('plan_hor').head(10))    \n",
    "\n",
    "cols = ['team', 'st_from_name', 'time_start_f', 'time_end_f', 'state', 'prev_ready_time_f']\n",
    "tp_first = team_plan[team_plan.team.isin(team_info[team_info.state == '3'].team)].drop_duplicates('team').copy()\n",
    "#tp_first = team_plan.drop_duplicates('team').copy()"
   ]
  },
  {
   "cell_type": "code",
   "execution_count": 204,
   "metadata": {
    "collapsed": false
   },
   "outputs": [
    {
     "name": "stdout",
     "output_type": "stream",
     "text": [
      "Все запланированные бригады с предыдущими явками запланированы на явку без неприемлемых задержек\n"
     ]
    }
   ],
   "source": [
    "def get_prev_ready_lag(prev_ready_time, current_time):\n",
    "    if np.isnan(prev_ready_time): prev_ready_time = 0        \n",
    "    d = prev_ready_time - current_time\n",
    "    if d < 1 * 3600:\n",
    "        lag = 0\n",
    "    elif d < 3 * 3600:\n",
    "        lag = 0.25 * 3600\n",
    "    elif d < 6 * 3600:\n",
    "        lag = 0.5 * 3600\n",
    "    else:\n",
    "        lag = 1 * 3600\n",
    "    return lag\n",
    "\n",
    "tp_first['good_lag'] = tp_first.apply(lambda x: get_prev_ready_lag(x.prev_ready_time, current_time), axis=1)\n",
    "cols = ['team', 'st_from_name', 'time_start_f', 'state', 'prev_ready_time_f', 'good_lag', 'real_lag', 'state_info']\n",
    "tp_first['real_lag'] = tp_first.time_start - tp_first.prev_ready_time\n",
    "good_prev = tp_first[(tp_first.team.isin(prev_team.team)) & (tp_first.state == 2)\n",
    "                     & (tp_first.good_lag >= np.abs(tp_first.real_lag))]\n",
    "\n",
    "bad_prev = tp_first[(tp_first.team.isin(prev_team.team)) & (tp_first.state == 2)\n",
    "                     & (tp_first.good_lag < np.abs(tp_first.real_lag))]\n",
    "if bad_prev.empty:\n",
    "    add_header('Все запланированные бригады с предыдущими явками запланированы на явку без неприемлемых задержек')\n",
    "else:\n",
    "    add_header('Всего %d бригад с предыдущими явками (%.2f%% от запланированных) с существенными отклонениями времен явок:'\n",
    "              % (bad_prev.team.count(), \n",
    "                 100 * bad_prev.team.count() / (prev_team.team.count() - prev_team_no_planned.team.count())))\n",
    "    add_line(bad_prev[cols].head(10))"
   ]
  },
  {
   "cell_type": "code",
   "execution_count": 205,
   "metadata": {
    "collapsed": false
   },
   "outputs": [
    {
     "name": "stdout",
     "output_type": "stream",
     "text": [
      "Jul 13, 10:00\n"
     ]
    },
    {
     "data": {
      "text/html": [
       "<div>\n",
       "<table border=\"1\" class=\"dataframe\">\n",
       "  <thead>\n",
       "    <tr style=\"text-align: right;\">\n",
       "      <th></th>\n",
       "      <th>team</th>\n",
       "      <th>number</th>\n",
       "      <th>oper_time_f</th>\n",
       "      <th>depot_time_f</th>\n",
       "      <th>state</th>\n",
       "      <th>prev_ready_time_f</th>\n",
       "      <th>plan_start_time_f</th>\n",
       "    </tr>\n",
       "  </thead>\n",
       "  <tbody>\n",
       "  </tbody>\n",
       "</table>\n",
       "</div>"
      ],
      "text/plain": [
       "Empty DataFrame\n",
       "Columns: [team, number, oper_time_f, depot_time_f, state, prev_ready_time_f, plan_start_time_f]\n",
       "Index: []"
      ]
     },
     "execution_count": 205,
     "metadata": {},
     "output_type": "execute_result"
    }
   ],
   "source": [
    "print(nice_time(current_time))\n",
    "team_info['depot_name'] = team_info.depot.map(st_names.name)\n",
    "team_info['prev_ready_time'] = team_info.team.map(prev_team.drop_duplicates('team').set_index('team').prev_ready_time)\n",
    "team_info['prev_ready_time_f'] = team_info.prev_ready_time.apply(nice_time)\n",
    "team_info['oper_time_f'] = team_info.oper_time.apply(nice_time)\n",
    "team_info['plan_start_time'] = team_info.team.map(team_plan[team_plan.state.isin([0, 1])]\\\n",
    "                                                  .drop_duplicates('team').set_index('team').time_start)\n",
    "team_info['plan_start_time_f'] = team_info['plan_start_time'].apply(nice_time)\n",
    "cols = ['team', 'number', 'oper_time_f', 'depot_time_f', 'state', 'prev_ready_time_f', 'plan_start_time_f']\n",
    "team_info[(team_info.uth == 1) & (team_info.state == '3')\n",
    "          & (team_info.depot_name == 'ИРКУТСК-СОРТИРОВОЧНЫЙ')].sort_values('oper_time')[cols]"
   ]
  },
  {
   "cell_type": "markdown",
   "metadata": {},
   "source": [
    "[ToC](#toc)\n",
    "## Проверка возврата правильных времен явок у бригад\n",
    "\n",
    "Чтобы на форме текущего планирования можно было рассчитать рабочее время бригады, из планировщика в плане должны быть возвращены времена явок всех бригад:\n",
    "* Для бригад, у которых начальное состояние было отличное от 3 или 4, возвращенное время явки должно копировать время явки, переданное во входных данных.\n",
    "* Для бригад в начальном состоянии 3 или 4 и фейковых бригад время явки должно вычисляться на основе запланированного времени отправления."
   ]
  },
  {
   "cell_type": "code",
   "execution_count": 206,
   "metadata": {
    "collapsed": true
   },
   "outputs": [],
   "source": [
    "add_header('Проверка возврата правильных времен явок у бригад', h=2, p=False)"
   ]
  },
  {
   "cell_type": "code",
   "execution_count": 207,
   "metadata": {
    "collapsed": false
   },
   "outputs": [
    {
     "name": "stdout",
     "output_type": "stream",
     "text": [
      "Всего 674 бригад в состояниях 1, 2, 5, для которых возвращена неверная первая явка. Примеры:\n",
      "         team  time_start   time_start_f state_info    presence  presence_norm\n",
      " 200200164081  1468513007  Jul 14, 19:16          1  1468392600  Jul 13, 09:50\n",
      " 200200224229  1468387404  Jul 13, 08:23          2  1468390500  Jul 13, 09:15\n",
      " 200200233912  1468407948  Jul 13, 14:05          2  1468390200  Jul 13, 09:10\n",
      " 200200136435  1468452443  Jul 14, 02:27          1  1468380000  Jul 13, 06:20\n",
      " 200200164013  1468414201  Jul 13, 15:50          1  1468368000  Jul 13, 03:00\n",
      " 200200224145  1468438680  Jul 13, 22:38          5  1468360800  Jul 13, 01:00\n",
      " 200200198917  1468583655  Jul 15, 14:54          1  1468385100  Jul 13, 07:45\n",
      " 220204252508  1468391419  Jul 13, 09:30          2  1468395000  Jul 13, 10:30\n",
      " 200200224187  1468411500  Jul 13, 15:05          1  1468368000  Jul 13, 03:00\n",
      " 200200206726  1468385641  Jul 13, 07:54          2  1468393200  Jul 13, 10:00\n",
      "\n",
      "Распределение по состояниям:\n",
      "1    407\n",
      "2    247\n",
      "5     20\n",
      "         team st_from_name   st_to_name   time_start_f     time_end_f  state          loco\n",
      " 200200164081     ИЛАНСКАЯ       РЕШОТЫ  Jul 13, 10:44  Jul 13, 12:07      1  200200069945\n",
      " 200200164081       РЕШОТЫ        КЛЮЧИ  Jul 13, 12:07  Jul 13, 12:26      1  200200069945\n",
      " 200200164081        КЛЮЧИ         ЮРТЫ  Jul 13, 12:26  Jul 13, 12:50      1  200200069945\n",
      " 200200164081         ЮРТЫ       ТАЙШЕТ  Jul 13, 12:50  Jul 13, 13:17      1  200200069945\n",
      " 200200164081       ТАЙШЕТ   БАЙРОНОВКА  Jul 13, 13:17  Jul 13, 13:33      1  200200069945\n",
      " 200200164081   БАЙРОНОВКА      АЛЗАМАЙ  Jul 13, 13:33  Jul 13, 14:27      1  200200069945\n",
      " 200200164081      АЛЗАМАЙ  НИЖНЕУДИНСК  Jul 13, 14:27  Jul 13, 16:09      1  200200069945\n",
      " 200200164081  НИЖНЕУДИНСК  НИЖНЕУДИНСК  Jul 13, 16:39  Jul 13, 19:49      4            -1\n",
      " 200200164081  НИЖНЕУДИНСК  НИЖНЕУДИНСК  Jul 14, 19:16  Jul 14, 20:17      2            -1\n",
      " 200200164081  НИЖНЕУДИНСК      АЛЗАМАЙ  Jul 14, 20:17  Jul 14, 22:00      1  200200103040\n",
      " 200200164081      АЛЗАМАЙ   БАЙРОНОВКА  Jul 14, 22:00  Jul 14, 22:51      1  200200103040\n",
      " 200200164081   БАЙРОНОВКА       ТАЙШЕТ  Jul 14, 22:51  Jul 14, 23:05      1  200200103040\n",
      " 200200164081       ТАЙШЕТ         ЮРТЫ  Jul 14, 23:05  Jul 14, 23:32      1  200200103040\n",
      " 200200164081         ЮРТЫ        КЛЮЧИ  Jul 14, 23:32  Jul 14, 23:59      1  200200103040\n",
      " 200200164081        КЛЮЧИ       РЕШОТЫ  Jul 14, 23:59  Jul 15, 00:14      1  200200103040\n",
      " 200200164081       РЕШОТЫ     ИЛАНСКАЯ  Jul 15, 00:14  Jul 15, 01:32      1  200200103040\n"
     ]
    },
    {
     "data": {
      "image/png": "[encoded data removed]",
      "text/plain": [
       "<matplotlib.figure.Figure at 0x1c8455775f8>"
      ]
     },
     "metadata": {},
     "output_type": "display_data"
    }
   ],
   "source": [
    "real_pres = team_info[team_info.state.isin(['1', '2', '5'])][['team', 'presence', 'presence_norm']]\n",
    "a = team_plan[(team_plan.state == 2) & (team_plan.team.isin(real_pres.team))].drop_duplicates('team')\n",
    "real_pres_fail = a[a.time_start != a.presence][['team', 'time_start', 'time_start_f', 'state_info', 'presence', 'presence_norm']]\n",
    "if real_pres_fail.empty:\n",
    "    add_header('Для всех бригад в состояниях 1, 2, 5 явки запланированы верно')\n",
    "else:\n",
    "    add_header('Всего %d бригад в состояниях 1, 2, 5, для которых возвращена неверная первая явка. Примеры:' \n",
    "               % real_pres_fail.team.count())\n",
    "    add_line(real_pres_fail.head(10))\n",
    "    add_line('\\nРаспределение по состояниям:')\n",
    "    add_line(real_pres_fail.state_info.value_counts())\n",
    "    team_id = real_pres_fail.iloc[0].team\n",
    "    cols = ['team', 'st_from_name', 'st_to_name', 'time_start_f', 'time_end_f', 'state', 'loco']\n",
    "    add_line(team_plan[team_plan.team == team_id][cols])\n",
    "    real_pres_fail['ready_delta'] = real_pres_fail.time_start - real_pres_fail.presence\n",
    "    fig = plt.figure(figsize=(8, 3))    \n",
    "    #fig = plt.figure()\n",
    "    sns.set(style='whitegrid', context='notebook')\n",
    "    sns.kdeplot(real_pres_fail.ready_delta / 3600)\n",
    "    plt.xlabel('Запаздывание времени явки, ч. (среднее = %.2f ч.)' % np.mean(real_pres_fail.ready_delta / 3600))\n",
    "    filename = 'team125_ready_late.png'\n",
    "    fig.savefig(REPORT_FOLDER + filename, bbox_inches='tight')\n",
    "    add_image(filename)"
   ]
  },
  {
   "cell_type": "markdown",
   "metadata": {},
   "source": [
    "Для бригад в начальных состояниях 6 (прибыла на станцию с локомотивом), 7 (прибыла на станцию пассажиром), 9 (сдача локомотива) проверяем, запланирован ли далее для бригады отдых. Если отдых запланирован, то не сравниваем время явки с исходным - оно будет задано вновь после отдыха. Если отдых не запланирован, то явка должна быть возвращена."
   ]
  },
  {
   "cell_type": "code",
   "execution_count": 208,
   "metadata": {
    "collapsed": false
   },
   "outputs": [
    {
     "name": "stdout",
     "output_type": "stream",
     "text": [
      "Для 71 бригад в исходных состояниях 6, 7, 9 не запланированы явки. Примеры:\n",
      "         team            loc_name state_info all_states\n",
      " 200200259802            МАРИИНСК          9        [1]\n",
      " 200200259932            ЗАГУСТАЙ          6        [1]\n",
      " 200200223794        ВЫСОКОГОРНАЯ          6        [1]\n",
      " 200200105268  АРТЕМ-ПРИМОРСКИЙ I          6        [1]\n",
      " 200200225768               ТАГУЛ          6        [1]\n",
      "\n",
      "Распределение по состояниям:\n",
      "6    59\n",
      "9    12\n",
      "         team st_from_name st_to_name   time_start_f     time_end_f  state          loco\n",
      " 200200259802     МАРИИНСК    БОГОТОЛ  Jul 13, 12:41  Jul 13, 14:57      1  200200092498\n",
      " 200200259802      БОГОТОЛ    ЗЕРЦАЛЫ  Jul 13, 14:57  Jul 13, 15:47      1  200200092498\n",
      " 200200259802      ЗЕРЦАЛЫ   АЧИНСК I  Jul 13, 15:47  Jul 13, 16:03      1  200200092498\n",
      "\n",
      "Всего 4 бригад в состояниях 6, 7, 9, для которых возвращена неверная первая явка. Примеры:\n",
      "         team  time_start   time_start_f state_info    presence  presence_norm\n",
      " 200200250438  1468518851  Jul 14, 20:54          9  1468346700  Jul 12, 21:05\n",
      " 200200137380  1468545305  Jul 15, 04:15          6  1468375140  Jul 13, 04:59\n",
      " 200200272318  1468429548  Jul 13, 20:05          9  1468364400  Jul 13, 02:00\n",
      " 200200193784  1468412958  Jul 13, 15:29          6  1468380540  Jul 13, 06:29\n",
      "\n",
      "Распределение по состояниям:\n",
      "9    2\n",
      "6    2\n",
      "         team         st_from_name           st_to_name   time_start_f     time_end_f  state          loco\n",
      " 200200250438         ВЫСОКОГОРНАЯ      БЛОКПОСТ 197 КМ  Jul 13, 16:53  Jul 13, 17:14      0            -1\n",
      " 200200250438      БЛОКПОСТ 197 КМ                 ОУНЭ  Jul 13, 17:14  Jul 13, 17:35      0            -1\n",
      " 200200250438                 ОУНЭ              ГУРСКОЕ  Jul 13, 17:36  Jul 13, 19:25      0            -1\n",
      " 200200250438              ГУРСКОЕ                  КУН  Jul 13, 19:28  Jul 13, 19:55      0            -1\n",
      " 200200250438                  КУН             ЭЛЬДИГАН  Jul 13, 19:58  Jul 13, 20:48      0            -1\n",
      " 200200250438             ЭЛЬДИГАН              СЕЛИХИН  Jul 13, 20:49  Jul 13, 21:05      0            -1\n",
      " 200200250438              СЕЛИХИН  КОМСОМОЛЬСК-НА-А...  Jul 13, 21:10  Jul 13, 22:39      0            -1\n",
      " 200200250438  КОМСОМОЛЬСК-НА-А...  КОМСОМОЛЬСК-НА-А...  Jul 14, 20:54  Jul 14, 22:54      2            -1\n",
      " 200200250438  КОМСОМОЛЬСК-НА-А...              СЕЛИХИН  Jul 14, 22:54  Jul 15, 01:05      1  200200097602\n",
      " 200200250438              СЕЛИХИН             ЭЛЬДИГАН  Jul 15, 01:05  Jul 15, 01:50      1  200200097602\n",
      " 200200250438             ЭЛЬДИГАН                  КУН  Jul 15, 01:50  Jul 15, 02:56      1  200200097602\n",
      " 200200250438                  КУН              ГУРСКОЕ  Jul 15, 02:56  Jul 15, 03:50      1  200200097602\n",
      " 200200250438              ГУРСКОЕ                 ОУНЭ  Jul 15, 03:50  Jul 15, 06:29      1  200200097602\n",
      " 200200250438                 ОУНЭ         КУЗНЕЦОВСКИЙ  Jul 15, 06:29  Jul 15, 07:02      1  200200097602\n",
      " 200200250438         КУЗНЕЦОВСКИЙ                СОЛЛУ  Jul 15, 07:02  Jul 15, 07:15      1  200200097602\n",
      " 200200250438                СОЛЛУ         ВЫСОКОГОРНАЯ  Jul 15, 07:15  Jul 15, 07:27      1  200200097602\n"
     ]
    },
    {
     "data": {
      "image/png": "[encoded data removed]",
      "text/plain": [
       "<matplotlib.figure.Figure at 0x1c849959ba8>"
      ]
     },
     "metadata": {},
     "output_type": "display_data"
    }
   ],
   "source": [
    "real_pres = team_info[team_info.state.isin(['6', '7', '9'])]\n",
    "tp = team_plan[(team_plan.team.isin(real_pres.team)) & (team_plan.all_states.apply(lambda x: 4 not in x))]\n",
    "tp_no_ready = tp[tp.all_states.apply(lambda x: 2 not in x)]\n",
    "if tp_no_ready.empty:\n",
    "    add_header('Для всех бригад в состояниях 6, 7, 9 запланированы требуемые явки')\n",
    "else:\n",
    "    add_header('Для %d бригад в исходных состояниях 6, 7, 9 не запланированы явки. Примеры:' \n",
    "               % tp_no_ready.drop_duplicates('team').team.count())\n",
    "    add_line(tp_no_ready.drop_duplicates('team')[['team', 'loc_name', 'state_info', 'all_states']].head())    \n",
    "    add_line('\\nРаспределение по состояниям:')\n",
    "    add_line(tp_no_ready.drop_duplicates('team').state_info.value_counts())\n",
    "    cols = ['team', 'st_from_name', 'st_to_name', 'time_start_f', 'time_end_f', 'state', 'loco']\n",
    "    team_id = tp_no_ready.iloc[0].team\n",
    "    add_line(team_plan[team_plan.team == team_id][cols])\n",
    "    \n",
    "tp_ready_time_fail = tp[(tp.state == 2) & (tp.time_start != tp.presence)].drop_duplicates('team')\n",
    "if tp_ready_time_fail.empty:\n",
    "    add_header('Для всех бригад в состояниях 6, 7, 9 явки запланированы верно')\n",
    "else:\n",
    "    add_header('\\nВсего %d бригад в состояниях 6, 7, 9, для которых возвращена неверная первая явка. Примеры:' \n",
    "               % tp_ready_time_fail.team.count())\n",
    "    cols = ['team', 'time_start', 'time_start_f', 'state_info', 'presence', 'presence_norm']\n",
    "    add_line(tp_ready_time_fail[cols].head())\n",
    "    add_line('\\nРаспределение по состояниям:')\n",
    "    add_line(tp_ready_time_fail.state_info.value_counts())\n",
    "    cols = ['team', 'st_from_name', 'st_to_name', 'time_start_f', 'time_end_f', 'state', 'loco']\n",
    "    team_id = tp_ready_time_fail.iloc[0].team\n",
    "    add_line(team_plan[team_plan.team == team_id][cols])\n",
    "    fig = plt.figure(figsize=(8, 3))            \n",
    "    sns.kdeplot(real_pres_fail.ready_delta / 3600)\n",
    "    plt.xlabel('Запаздывание времени явки, ч. (среднее = %.2f ч.)' % np.mean(real_pres_fail.ready_delta / 3600))\n",
    "    filename = 'team679_ready_late.png'\n",
    "    fig.savefig(REPORT_FOLDER + filename, bbox_inches='tight')\n",
    "    add_image(filename)"
   ]
  },
  {
   "cell_type": "code",
   "execution_count": 209,
   "metadata": {
    "collapsed": false
   },
   "outputs": [
    {
     "name": "stdout",
     "output_type": "stream",
     "text": [
      "Для всех бригад в состояниях 3, 4 запланированы требуемые явки\n"
     ]
    }
   ],
   "source": [
    "tp = team_plan[(team_plan.state_info.isin(['3', '4'])) & (team_plan.all_states.apply(lambda x: (x[0] != 0) & (1 in x)))]\n",
    "tp_no_ready = tp[tp.all_states.apply(lambda x: 2 not in x)]\n",
    "if tp_no_ready.empty:\n",
    "    add_header('Для всех бригад в состояниях 3, 4 запланированы требуемые явки')\n",
    "else:\n",
    "    add_header('Для %d бригад в исходных состояниях 3, 4 не запланированы явки. Примеры:' \n",
    "               % tp_no_ready.drop_duplicates('team').team.count())\n",
    "    add_line(tp_no_ready.drop_duplicates('team')[['team', 'loc_name', 'state_info', 'all_states']].head())    \n",
    "    add_line('\\nРаспределение по состояниям:')\n",
    "    add_line(tp_no_ready.drop_duplicates('team').state_info.value_counts())\n",
    "    cols = ['team', 'st_from_name', 'st_to_name', 'time_start_f', 'time_end_f', 'state', 'loco']\n",
    "    team_id = tp_no_ready.iloc[0].team\n",
    "    add_line(team_plan[team_plan.team == team_id][cols])"
   ]
  },
  {
   "cell_type": "code",
   "execution_count": 210,
   "metadata": {
    "collapsed": false
   },
   "outputs": [
    {
     "name": "stdout",
     "output_type": "stream",
     "text": [
      "Для 470 фейковых бригад не запланированы явки. Примеры:\n",
      "         team loc_name state_info all_states\n",
      " 777700001923      NaN        NaN        [1]\n",
      " 777700001921      NaN        NaN        [1]\n",
      " 777700001920      NaN        NaN        [1]\n",
      " 777700001927      NaN        NaN        [1]\n",
      " 777700001928      NaN        NaN        [1]\n",
      "         team st_from_name st_to_name   time_start_f     time_end_f  state          loco\n",
      " 777700001923  ВЕРХНЕЗЕЙСК     ДИПКУН  Jul 14, 21:50  Jul 15, 01:51      1  200200099703\n",
      " 777700001923       ДИПКУН  БЕСТУЖЕВО  Jul 15, 01:51  Jul 15, 05:41      1  200200099703\n",
      " 777700001923    БЕСТУЖЕВО    ШАХТАУМ  Jul 15, 05:41  Jul 15, 05:58      1  200200099703\n",
      " 777700001923      ШАХТАУМ      ТЫНДА  Jul 15, 05:58  Jul 15, 06:19      1  200200099703\n"
     ]
    }
   ],
   "source": [
    "tp = team_plan[(team_plan.team_type == 'Фейковая') & (team_plan.all_states.apply(lambda x: (x[0] != 0) & (1 in x)))]\n",
    "tp_no_ready = tp[tp.all_states.apply(lambda x: 2 not in x)]\n",
    "if tp_no_ready.empty:\n",
    "    add_header('Для всех фейковых бригад запланированы требуемые явки')\n",
    "else:\n",
    "    add_header('Для %d фейковых бригад не запланированы явки. Примеры:' \n",
    "               % tp_no_ready.drop_duplicates('team').team.count())\n",
    "    add_line(tp_no_ready.drop_duplicates('team')[['team', 'loc_name', 'state_info', 'all_states']].head())        \n",
    "    cols = ['team', 'st_from_name', 'st_to_name', 'time_start_f', 'time_end_f', 'state', 'loco']\n",
    "    team_id = tp_no_ready.iloc[0].team\n",
    "    add_line(team_plan[team_plan.team == team_id][cols])"
   ]
  },
  {
   "cell_type": "markdown",
   "metadata": {},
   "source": [
    "[ToC](#toc)\n",
    "## Проверка планирования УТХ бригад\n",
    "\n",
    "Если для какого-то депо приписки переданы бригады с признаком `uth(1)`, то такие бригады должны планироваться в первую очередь, и только после них должны планироваться бригады с признаком `uth(0)`. Для бригад с признаком `uth(0)` должен производиться сдвиг явки на время после максимального времени явки бригад с `uth(1)` для данного депо. Если бригад с `uth(1)` для данного депо не передано, то сдвиг производить не требуется."
   ]
  },
  {
   "cell_type": "code",
   "execution_count": 211,
   "metadata": {
    "collapsed": true
   },
   "outputs": [],
   "source": [
    "add_header('Проверка планирования УТХ-бригад', h=2, p=False)"
   ]
  },
  {
   "cell_type": "markdown",
   "metadata": {},
   "source": [
    "### УТХ-бригады должны планироваться раньше не-УТХ бригад, начальное состояние которых = 3"
   ]
  },
  {
   "cell_type": "code",
   "execution_count": 212,
   "metadata": {
    "collapsed": false
   },
   "outputs": [
    {
     "name": "stdout",
     "output_type": "stream",
     "text": [
      "Jul 13, 10:00\n",
      "Нет случаев, когда не-УТХ-бригада планируется раньше УТХ-бригады\n"
     ]
    }
   ],
   "source": [
    "print(nice_time(current_time))\n",
    "uth_depots = team_info[team_info.uth == 1].depot.unique()\n",
    "cols = ['team', 'depot_name', 'uth', 'time_start_f', 'state']\n",
    "\n",
    "t_ready_max = team_info[(team_info.uth == 1)].groupby('depot').presence.max()\n",
    "t_plan_max = team_plan[(team_plan.uth == 1) \n",
    "                       & (team_plan.state.isin([0, 1]))].drop_duplicates('team').groupby('depot').time_start.max()\n",
    "team_plan['uth_plan_max_time'] = team_plan.depot.map(t_plan_max)\n",
    "team_plan['uth_plan_max_time_f'] = team_plan.uth_plan_max_time.apply(nice_time)\n",
    "team_plan['uth_ready_max_time'] = team_plan.depot.map(t_ready_max)\n",
    "team_plan['uth_ready_max_time_f'] = team_plan.uth_ready_max_time.apply(nice_time)\n",
    "cols = ['team', 'depot_name', 'st_from_name', 'st_to_name', 'time_start_f', 'state', \n",
    "        'uth_plan_max_time_f', 'uth_ready_max_time_f']\n",
    "t_uth_soft_fail = team_plan[(team_plan.uth == 0) & (team_plan.state_info == '3') & (team_plan.depot.isin(uth_depots))\n",
    "                      & (team_plan.state.isin([0, 1])) & (team_plan.time_start < team_plan.uth_plan_max_time)\n",
    "                      & (team_plan.depot_name == team_plan.loc_name)].drop_duplicates('team')\n",
    "t_uth_hard_fail = team_plan[(team_plan.uth == 0) & (team_plan.state_info == '3') & (team_plan.depot.isin(uth_depots))\n",
    "                      & (team_plan.state.isin([0, 1])) & (team_plan.time_start < team_plan.uth_ready_max_time)\n",
    "                      & (team_plan.depot_name == team_plan.loc_name)].drop_duplicates('team')\n",
    "\n",
    "total_uth_depots = team_plan[(team_plan.uth == 0) & (team_plan.state_info == '3') \n",
    "                             & (team_plan.depot.isin(uth_depots))].team.drop_duplicates().count()\n",
    "\n",
    "t_uth_fail_diff_depot_n = t_uth_soft_fail[t_uth_soft_fail.depot_name != t_uth_soft_fail.st_from_name].team.count()\n",
    "\n",
    "if t_uth_soft_fail.empty:\n",
    "    add_header('Нет случаев, когда не-УТХ-бригада планируется раньше УТХ-бригады')\n",
    "else:\n",
    "    add_header('Всего %d не-УТХ-бригад (%.2f%%), которые отправлены ранее самой поздней УТХ-бригады' \n",
    "               % (t_uth_soft_fail.team.count(), 100 * t_uth_soft_fail.team.count() / total_uth_depots))\n",
    "    add_header('-- из них %d бригад, у которых место явки не совпадает с депо приписки' % t_uth_fail_diff_depot_n)\n",
    "    add_line('\\nРаспределение по депо (первые 5):')\n",
    "    add_line(t_uth_soft_fail.depot_name.value_counts().head(10))\n",
    "    add_line('\\nПримеры бригад (первые 10 по времени отправления):')\n",
    "    add_line(t_uth_soft_fail[t_uth_soft_fail.depot_name == t_uth_soft_fail.st_from_name].head(10)[cols])    "
   ]
  },
  {
   "cell_type": "code",
   "execution_count": 213,
   "metadata": {
    "collapsed": false
   },
   "outputs": [
    {
     "name": "stdout",
     "output_type": "stream",
     "text": [
      "Нет случаев, когда не-УТХ-бригада планируется раньше явки УТХ-бригады\n"
     ]
    }
   ],
   "source": [
    "if t_uth_hard_fail.empty:\n",
    "    add_header('Нет случаев, когда не-УТХ-бригада планируется раньше явки УТХ-бригады')\n",
    "else:\n",
    "    add_header('Всего %d не-УТХ-бригад (%.2f%%), которые отправлены ранее самой поздней явки УТХ-бригады' \n",
    "               % (t_uth_hard_fail.team.count(), 100 * t_uth_hard_fail.team.count() / total_uth_depots))\n",
    "    add_header('-- из них %d бригад, у которых место явки не совпадает с депо приписки' % t_uth_fail_diff_depot_n)\n",
    "    add_line('\\nРаспределение по депо (первые 5):')\n",
    "    add_line(t_uth_hard_fail.depot_name.value_counts().head(10))\n",
    "    add_line('\\nПримеры бригад (первые 10 по времени отправления):')\n",
    "    add_line(t_uth_hard_fail[t_uth_hard_fail.depot_name == t_uth_hard_fail.st_from_name].head(10)[cols])    "
   ]
  },
  {
   "cell_type": "markdown",
   "metadata": {},
   "source": [
    "### Проверка УТХ-бригад по одной станции"
   ]
  },
  {
   "cell_type": "code",
   "execution_count": 214,
   "metadata": {
    "collapsed": true
   },
   "outputs": [],
   "source": [
    "#st_name = 'ИРКУТСК-СОРТИРОВОЧНЫЙ'\n",
    "st_name = 'СЛЮДЯНКА I'"
   ]
  },
  {
   "cell_type": "code",
   "execution_count": 215,
   "metadata": {
    "collapsed": true
   },
   "outputs": [],
   "source": [
    "add_header('Проверка УТХ-бригад по депо %s' % st_name, h=2, p=False)"
   ]
  },
  {
   "cell_type": "code",
   "execution_count": 216,
   "metadata": {
    "collapsed": false
   },
   "outputs": [],
   "source": [
    "team_info['depot_name'] = team_info.depot.map(st_names.name)\n",
    "\n",
    "#team_info.columns\n",
    "team_info['plan_start_time'] = team_info.team\\\n",
    "                        .map(team_plan[team_plan.state.isin([0, 1])].drop_duplicates('team').set_index('team').time_start)\n",
    "team_info['plan_start_time_f'] = team_info['plan_start_time'].apply(nice_time)"
   ]
  },
  {
   "cell_type": "code",
   "execution_count": 217,
   "metadata": {
    "collapsed": false
   },
   "outputs": [
    {
     "name": "stdout",
     "output_type": "stream",
     "text": [
      "Все УТХ-бригады из депо СЛЮДЯНКА I (0):\n",
      "Empty DataFrame\n",
      "Columns: [team, depot_name, uth, state, is_assign, presence_norm, plan_start_time_f]\n",
      "Index: []\n",
      "Максимальное время явки УТХ-бригад депо СЛЮДЯНКА I: \n",
      "Максимальное время отправления УТХ-бригад депо СЛЮДЯНКА I: \n"
     ]
    }
   ],
   "source": [
    "irk_uth = team_info[(team_info.depot_name == st_name) & (team_info.uth == 1)]\n",
    "add_header('Все УТХ-бригады из депо %s (%d):' % (st_name, irk_uth.team.count()))\n",
    "cols = ['team', 'depot_name', 'uth', 'state', 'is_assign', 'presence_norm', 'plan_start_time_f']\n",
    "pd.set_option('display.max_colwidth', 50)\n",
    "add_line(irk_uth.sort_values('presence')[cols])\n",
    "t_max = irk_uth.presence.max()\n",
    "t_plan_max = irk_uth.plan_start_time.max()\n",
    "add_line('Максимальное время явки УТХ-бригад депо %s: %s' % (st_name, nice_time(t_max)))\n",
    "add_line('Максимальное время отправления УТХ-бригад депо %s: %s' % (st_name, nice_time(t_plan_max)))"
   ]
  },
  {
   "cell_type": "code",
   "execution_count": 218,
   "metadata": {
    "collapsed": false
   },
   "outputs": [
    {
     "data": {
      "text/plain": [
       "СЛЮДЯНКА I    70\n",
       "МЫСОВАЯ        1\n",
       "Name: loc_name, dtype: int64"
      ]
     },
     "execution_count": 218,
     "metadata": {},
     "output_type": "execute_result"
    }
   ],
   "source": [
    "cols = ['team', 'depot_name', 'depot_st_name', 'uth', 'state', 'loc_name', 'is_assign', 'presence_norm', 'plan_start_time_f']\n",
    "irk_no_uth = team_info[(team_info.depot_name == st_name) & (team_info.uth == 0) & (team_info.state == '3')]\n",
    "irk_no_uth.loc_name.value_counts()"
   ]
  },
  {
   "cell_type": "code",
   "execution_count": 219,
   "metadata": {
    "collapsed": false
   },
   "outputs": [
    {
     "name": "stdout",
     "output_type": "stream",
     "text": [
      "False\n",
      "False\n"
     ]
    }
   ],
   "source": [
    "print(irk_no_uth[irk_no_uth.loc_name == irk_no_uth.depot_name].plan_start_time.min() > t_max)\n",
    "print(irk_no_uth[irk_no_uth.loc_name == irk_no_uth.depot_name].plan_start_time.min() > t_plan_max)"
   ]
  },
  {
   "cell_type": "code",
   "execution_count": 220,
   "metadata": {
    "collapsed": false
   },
   "outputs": [
    {
     "data": {
      "text/html": [
       "<div>\n",
       "<table border=\"1\" class=\"dataframe\">\n",
       "  <thead>\n",
       "    <tr style=\"text-align: right;\">\n",
       "      <th></th>\n",
       "      <th>team</th>\n",
       "      <th>depot_name</th>\n",
       "      <th>depot_st_name</th>\n",
       "      <th>uth</th>\n",
       "      <th>state</th>\n",
       "      <th>loc_name</th>\n",
       "      <th>is_assign</th>\n",
       "      <th>presence_norm</th>\n",
       "      <th>plan_start_time_f</th>\n",
       "    </tr>\n",
       "  </thead>\n",
       "  <tbody>\n",
       "    <tr>\n",
       "      <th>4575</th>\n",
       "      <td>200200173924</td>\n",
       "      <td>СЛЮДЯНКА I</td>\n",
       "      <td>МЫСОВАЯ</td>\n",
       "      <td>0</td>\n",
       "      <td>3</td>\n",
       "      <td>МЫСОВАЯ</td>\n",
       "      <td>True</td>\n",
       "      <td>Jul 13, 12:30</td>\n",
       "      <td>Jul 13, 16:45</td>\n",
       "    </tr>\n",
       "  </tbody>\n",
       "</table>\n",
       "</div>"
      ],
      "text/plain": [
       "              team  depot_name depot_st_name  uth state loc_name is_assign  \\\n",
       "4575  200200173924  СЛЮДЯНКА I       МЫСОВАЯ    0     3  МЫСОВАЯ      True   \n",
       "\n",
       "      presence_norm plan_start_time_f  \n",
       "4575  Jul 13, 12:30     Jul 13, 16:45  "
      ]
     },
     "execution_count": 220,
     "metadata": {},
     "output_type": "execute_result"
    }
   ],
   "source": [
    "irk_no_uth[irk_no_uth.loc_name != irk_no_uth.depot_name][cols]"
   ]
  },
  {
   "cell_type": "code",
   "execution_count": 221,
   "metadata": {
    "collapsed": false
   },
   "outputs": [
    {
     "name": "stdout",
     "output_type": "stream",
     "text": [
      "Все запланированные бригады, отправленные со станции СЛЮДЯНКА I из начального state = 3\n",
      "         team st_from_name    loc_name  state  presence_norm   time_start_f  uth   delta\n",
      " 200200117756   СЛЮДЯНКА I  СЛЮДЯНКА I      1  Jul 12, 20:46  Jul 13, 10:50    0   50628\n",
      " 210212673273   СЛЮДЯНКА I  СЛЮДЯНКА I      0  Jul 12, 23:01  Jul 13, 11:09    0   43668\n",
      " 210207676317   СЛЮДЯНКА I  СЛЮДЯНКА I      0  Jul 13, 06:41  Jul 13, 11:09    0   16080\n",
      " 200200256661   СЛЮДЯНКА I  СЛЮДЯНКА I      0  Jul 13, 09:48  Jul 13, 11:09    0    4860\n",
      " 200200257139   СЛЮДЯНКА I  СЛЮДЯНКА I      0  Jul 12, 22:49  Jul 13, 11:09    0   44388\n",
      " 200200273236   СЛЮДЯНКА I  СЛЮДЯНКА I      0  Jul 12, 21:52  Jul 13, 11:09    0   47772\n",
      " 210216938966   СЛЮДЯНКА I  СЛЮДЯНКА I      0  Jul 13, 02:04  Jul 13, 11:09    0   32688\n",
      " 200200274815   СЛЮДЯНКА I  СЛЮДЯНКА I      0  Jul 12, 21:07  Jul 13, 11:09    0   50508\n",
      " 200200277859   СЛЮДЯНКА I  СЛЮДЯНКА I      0  Jul 13, 00:15  Jul 13, 11:09    0   39240\n",
      " 200200105897   СЛЮДЯНКА I  СЛЮДЯНКА I      1  Jul 13, 08:25  Jul 13, 11:25    0   10800\n",
      " 200200182668   СЛЮДЯНКА I  СЛЮДЯНКА I      0  Jul 13, 12:54  Jul 13, 14:57    0    7380\n",
      " 200200153463   СЛЮДЯНКА I  СЛЮДЯНКА I      1  Jul 13, 08:00  Jul 13, 17:35    0   34554\n",
      " 200200162965   СЛЮДЯНКА I  СЛЮДЯНКА I      1  Jul 13, 12:52  Jul 13, 17:48    0   17778\n",
      " 220200125607   СЛЮДЯНКА I  СЛЮДЯНКА I      0  Jul 13, 19:05  Jul 13, 20:10    0    3900\n",
      " 200200155758   СЛЮДЯНКА I  СЛЮДЯНКА I      0  Jul 13, 19:40  Jul 13, 20:20    0    2400\n",
      " 200200151636   СЛЮДЯНКА I  СЛЮДЯНКА I      1  Jul 12, 20:15  Jul 13, 20:20    0   86700\n",
      " 200200165335   СЛЮДЯНКА I  СЛЮДЯНКА I      0  Jul 13, 19:40  Jul 13, 20:20    0    2400\n",
      " 200200143792   СЛЮДЯНКА I  СЛЮДЯНКА I      1  Jul 12, 21:40  Jul 13, 20:30    0   82188\n",
      " 200200164251   СЛЮДЯНКА I  СЛЮДЯНКА I      1  Jul 12, 21:40  Jul 13, 20:40    0   82788\n",
      " 200200272005   СЛЮДЯНКА I  СЛЮДЯНКА I      0  Jul 13, 18:21  Jul 13, 21:03    0    9720\n",
      " 200200141523   СЛЮДЯНКА I  СЛЮДЯНКА I      1  Jul 13, 08:10  Jul 13, 21:50    0   49200\n",
      " 200200146808   СЛЮДЯНКА I  СЛЮДЯНКА I      1  Jul 12, 23:46  Jul 13, 22:10    0   80592\n",
      " 200200158216   СЛЮДЯНКА I  СЛЮДЯНКА I      1  Jul 13, 08:07  Jul 13, 22:20    0   51132\n",
      " 200200163263   СЛЮДЯНКА I  СЛЮДЯНКА I      1  Jul 12, 21:55  Jul 13, 23:13    0   91032\n",
      " 200200167266   СЛЮДЯНКА I  СЛЮДЯНКА I      1  Jul 12, 21:37  Jul 14, 00:06    0   95292\n",
      " 200200193917   СЛЮДЯНКА I  СЛЮДЯНКА I      1  Jul 13, 08:13  Jul 14, 00:59    0   60360\n",
      " 200200202392   СЛЮДЯНКА I  СЛЮДЯНКА I      1  Jul 13, 08:59  Jul 14, 01:52    0   60780\n",
      " 200200221986   СЛЮДЯНКА I  СЛЮДЯНКА I      1  Jul 13, 18:42  Jul 14, 03:41    0   32387\n",
      " 200200275731   СЛЮДЯНКА I  СЛЮДЯНКА I      1  Jul 13, 04:58  Jul 14, 05:01    0   86562\n",
      " 200200281158   СЛЮДЯНКА I  СЛЮДЯНКА I      1  Jul 13, 03:40  Jul 14, 08:13    0  102803\n",
      " 200200231479   СЛЮДЯНКА I  СЛЮДЯНКА I      1  Jul 13, 13:47  Jul 14, 08:47    0   68454\n",
      " 200200222331   СЛЮДЯНКА I  СЛЮДЯНКА I      1  Jul 12, 23:49  Jul 14, 09:06    0  119807\n",
      " 200200266267   СЛЮДЯНКА I  СЛЮДЯНКА I      1  Jul 13, 19:33  Jul 14, 09:13    0   49222\n",
      " 200200233468   СЛЮДЯНКА I  СЛЮДЯНКА I      1  Jul 13, 06:20  Jul 14, 09:59    0   99575\n",
      " 200200234739   СЛЮДЯНКА I  СЛЮДЯНКА I      1  Jul 13, 06:41  Jul 14, 10:52    0  101495\n",
      " 200200237749   СЛЮДЯНКА I  СЛЮДЯНКА I      1  Jul 13, 08:07  Jul 14, 11:45    0   99515\n",
      " 200200256782   СЛЮДЯНКА I  СЛЮДЯНКА I      1  Jul 12, 22:46  Jul 14, 12:38    0  136307\n",
      " 200200214556   СЛЮДЯНКА I  СЛЮДЯНКА I      1  Jul 13, 09:41  Jul 14, 14:23    0  103337\n",
      " 200200254163   СЛЮДЯНКА I  СЛЮДЯНКА I      1  Jul 13, 12:26  Jul 14, 17:04    0  103095\n",
      " 200200149920   СЛЮДЯНКА I  СЛЮДЯНКА I      1  Jul 13, 13:46  Jul 14, 18:02    0  101807\n",
      " 200200120996   СЛЮДЯНКА I  СЛЮДЯНКА I      1  Jul 13, 11:46  Jul 14, 18:38    0  111152\n",
      " 200200134891   СЛЮДЯНКА I  СЛЮДЯНКА I      1  Jul 13, 16:50  Jul 14, 18:38    0   92912\n",
      " 200200222159   СЛЮДЯНКА I  СЛЮДЯНКА I      1  Jul 13, 14:47  Jul 14, 18:59    0  101532\n",
      " 220201823276   СЛЮДЯНКА I  СЛЮДЯНКА I      1  Jul 13, 16:44  Jul 14, 19:55    0   97897\n",
      " 200200196600   СЛЮДЯНКА I  СЛЮДЯНКА I      1  Jul 13, 23:30  Jul 14, 20:36    0   75981\n",
      " 200200204467   СЛЮДЯНКА I  СЛЮДЯНКА I      1  Jul 13, 07:23  Jul 14, 20:40    0  134226\n",
      " 200200135876   СЛЮДЯНКА I  СЛЮДЯНКА I      1  Jul 13, 16:48  Jul 14, 21:33    0  103506\n",
      " 200200243394   СЛЮДЯНКА I  СЛЮДЯНКА I      1  Jul 12, 18:42  Jul 14, 21:52    0  184226\n",
      " 200200258181   СЛЮДЯНКА I  СЛЮДЯНКА I      1  Jul 12, 22:25  Jul 14, 22:09    0  171819\n",
      " 200200183649   СЛЮДЯНКА I  СЛЮДЯНКА I      1  Jul 13, 09:59  Jul 14, 22:43    0  132266\n",
      " 200200114307   СЛЮДЯНКА I  СЛЮДЯНКА I      1  Jul 13, 10:13  Jul 14, 23:00    0  132446\n",
      " 200200150930   СЛЮДЯНКА I  СЛЮДЯНКА I      1  Jul 13, 11:30  Jul 14, 23:17    0  128846\n",
      " 200200254924   СЛЮДЯНКА I  СЛЮДЯНКА I      1  Jul 13, 18:38  Jul 14, 23:30    0  103976\n",
      " 200200256653   СЛЮДЯНКА I  СЛЮДЯНКА I      1  Jul 13, 16:58  Jul 14, 23:34    0  110186\n",
      " 200200256830   СЛЮДЯНКА I  СЛЮДЯНКА I      1  Jul 13, 18:20  Jul 15, 00:04    0  107095\n",
      " 200200260408   СЛЮДЯНКА I  СЛЮДЯНКА I      1  Jul 13, 19:25  Jul 15, 00:23    0  104336\n",
      " 200200223542   СЛЮДЯНКА I  СЛЮДЯНКА I      1  Jul 13, 21:21  Jul 15, 01:16    0  100556\n",
      " 200200222513   СЛЮДЯНКА I  СЛЮДЯНКА I      1  Jul 13, 21:26  Jul 15, 02:09    0  103436\n",
      " 210218004462   СЛЮДЯНКА I  СЛЮДЯНКА I      1  Jul 13, 19:25  Jul 15, 02:48    0  113021\n",
      " 200200117802   СЛЮДЯНКА I  СЛЮДЯНКА I      1  Jul 13, 18:11  Jul 15, 03:04    0  118419\n",
      " 200200180073   СЛЮДЯНКА I  СЛЮДЯНКА I      1  Jul 13, 22:37  Jul 15, 03:59    0  105742\n",
      " 200200104037   СЛЮДЯНКА I  СЛЮДЯНКА I      1  Jul 13, 23:24  Jul 15, 05:18    0  107685\n",
      " 200200251092   СЛЮДЯНКА I  СЛЮДЯНКА I      1  Jul 14, 00:24  Jul 15, 05:42    0  105522\n",
      " 200200214542   СЛЮДЯНКА I  СЛЮДЯНКА I      1  Jul 14, 01:20  Jul 15, 06:35    0  105342\n",
      " 200200122158   СЛЮДЯНКА I  СЛЮДЯНКА I      1  Jul 14, 00:25  Jul 15, 07:56    0  113475\n",
      " 200200259671   СЛЮДЯНКА I  СЛЮДЯНКА I      1  Jul 12, 18:33  Jul 15, 08:21    0  222522\n",
      " 200200106494   СЛЮДЯНКА I  СЛЮДЯНКА I      1  Jul 14, 02:05  Jul 15, 09:14    0  112182\n"
     ]
    }
   ],
   "source": [
    "cols = ['team', 'st_from_name', 'loc_name', 'state', 'presence_norm', 'time_start_f', 'uth', 'delta']\n",
    "team_plan['delta'] = team_plan.time_start - team_plan.presence\n",
    "add_header('Все запланированные бригады, отправленные со станции %s из начального state = 3' % st_name)\n",
    "tp = team_plan[(team_plan.depot_name == st_name) \n",
    "          & (team_plan.state_info == '3') \n",
    "          & (team_plan.state.isin([0, 1]))\n",
    "          & (team_plan.loc_name == st_name)]\n",
    "add_line(tp.drop_duplicates('team').sort_values('time_start')[cols])"
   ]
  },
  {
   "cell_type": "code",
   "execution_count": 222,
   "metadata": {
    "collapsed": false
   },
   "outputs": [
    {
     "data": {
      "text/plain": [
       "count     0\n",
       "mean    NaN\n",
       "std     NaN\n",
       "min     NaN\n",
       "25%     NaN\n",
       "50%     NaN\n",
       "75%     NaN\n",
       "max     NaN\n",
       "Name: delta, dtype: float64"
      ]
     },
     "execution_count": 222,
     "metadata": {},
     "output_type": "execute_result"
    }
   ],
   "source": [
    "(tp[tp.uth == 1].drop_duplicates('team').delta / 3600).describe()"
   ]
  },
  {
   "cell_type": "markdown",
   "metadata": {},
   "source": [
    "### Для бригад из депо, по которым нет УТХ-бригад, не должно быть большого сдвига времени явки"
   ]
  },
  {
   "cell_type": "code",
   "execution_count": 223,
   "metadata": {
    "collapsed": false
   },
   "outputs": [
    {
     "name": "stdout",
     "output_type": "stream",
     "text": [
      "WARNING: разница между планируемым и переданным временем явки у бригад из депо, по которым нет УТХ-бригадвыглядит завышенной\n"
     ]
    }
   ],
   "source": [
    "team_plan['depot_time_f'] = team_plan.depot_time.apply(nice_time)\n",
    "ts = team_plan[(team_plan.uth == 0) & (team_plan.depot.isin(uth_depots) == False) & (team_plan.state_info == '3')].copy()\n",
    "ts['delta'] = ts.time_start - ts.depot_time\n",
    "cols = ['team', 'st_from_name', 'loc_name', 'depot_name', 'time_start_f', 'depot_time_f', 'delta']\n",
    "ts.drop_duplicates('team')[cols]\n",
    "delta75 = (ts.drop_duplicates('team').delta / 3600).describe()['75%']\n",
    "if delta75 < 5:\n",
    "    add_header('У 75% бригад из депо, по которым нет УТХ-бригад, разница между переданным и запланированным временем явки'\n",
    "              + ' составляет меньше %.2f ч. (это ОК)' % delta75)\n",
    "else:\n",
    "    add_header('WARNING: разница между планируемым и переданным временем явки у бригад из депо, по которым нет УТХ-бригад' +\n",
    "              'выглядит завышенной')\n",
    "    ts[ts.delta > 5].sort_values('delta', ascending=False).head(10)[cols]"
   ]
  },
  {
   "cell_type": "markdown",
   "metadata": {},
   "source": [
    "### План проверок порядка отправления бригад\n",
    "\n",
    "1. Взять станцию (Слюдянка - с ней проще, поскольку, вроде бы, нет бригад депо Слюдянка, которые находятся на других станциях), собрать все бригады, которые на начало планирования находились на этой станции.\n",
    "2. Собрать все бригады, у которых запланирован отдых на этой станции. Рассчитать время выхода с отдыха (можно грубо: +3 часа от времени прибытия).\n",
    "3. Выстроить эти бригады в порядке готовности к отправлению из Слюдянки. Нужные параметры: депо приписки, участки обкатки, время готовности.\n",
    "4. Составить список поездов (и их локомотивов), которые проходят через Слюдянку и у которых запланирована смена бригады в Слюдянке. Выстроить эти поезда по времени прибытия в Слюдянку.\n",
    "5. Сличить два списка. Найти случаи, когда бригады привязываются \"вразнобой\". Исследовать значения функций полезности. Найти распределение времен ожидания бригад, стоянок и пр."
   ]
  },
  {
   "cell_type": "code",
   "execution_count": 235,
   "metadata": {
    "collapsed": false
   },
   "outputs": [
    {
     "name": "stdout",
     "output_type": "stream",
     "text": [
      "         team    depot_name          loc_name state\n",
      " 200200102355        МОГОЧА       КСЕНЬЕВСКАЯ     3\n",
      " 200200164247      УЛАН-УДЭ  ПЕТРОВСКИЙ ЗАВОД     3\n",
      " 200200109226   СМОЛЯНИНОВО        НОВОНЕЖИНО     3\n",
      " 200200108090   СМОЛЯНИНОВО   КРАСНОАРМЕЙСКИЙ     3\n",
      " 200200148587  ХАБАРОВСК II       ХАБАРОВСК I     3\n",
      " 200200143858   СМОЛЯНИНОВО           ШКОТОВО     3\n",
      " 200200192330        ЧИТА I            КАДАЛА     3\n",
      " 200200171477   СМОЛЯНИНОВО        НОВОНЕЖИНО     3\n"
     ]
    }
   ],
   "source": [
    "uth = list(pd.read_csv('./input/a.csv', header=None)[0].values)\n",
    "uth = [str(x) for x in uth]\n",
    "add_line(team_info[(team_info.team.isin(uth)) & (team_info.state == '3')\n",
    "         & (team_info.loc_name != team_info.depot_name)][['team', 'depot_name', 'loc_name', 'state']])"
   ]
  },
  {
   "cell_type": "markdown",
   "metadata": {},
   "source": [
    "## Экспорт в HTML [ToC](#toc)"
   ]
  },
  {
   "cell_type": "code",
   "execution_count": 225,
   "metadata": {
    "collapsed": false
   },
   "outputs": [
    {
     "name": "stdout",
     "output_type": "stream",
     "text": [
      "Отчет сформирован: report/team_report_20160805_190444.html\n"
     ]
    }
   ],
   "source": [
    "filename = REPORT_FOLDER + 'team_report_' + time.strftime('%Y%m%d_%H%M%S', time.localtime(time.time())) + '.html'\n",
    "create_report(filename)"
   ]
  }
 ],
 "metadata": {
  "kernelspec": {
   "display_name": "Python 3",
   "language": "python",
   "name": "python3"
  },
  "language_info": {
   "codemirror_mode": {
    "name": "ipython",
    "version": 3
   },
   "file_extension": ".py",
   "mimetype": "text/x-python",
   "name": "python",
   "nbconvert_exporter": "python",
   "pygments_lexer": "ipython3",
   "version": "3.5.1"
  }
 },
 "nbformat": 4,
 "nbformat_minor": 0
}
