{
 "cells": [
  {
   "cell_type": "markdown",
   "metadata": {},
   "source": [
    "<a id='toc'></a>\n",
    "# Список тестов по бригадам:"
   ]
  },
  {
   "cell_type": "markdown",
   "metadata": {},
   "source": [
    "1. [Расчет процента подвязки между бригадами и локомотивами.](#perc_assign)\n",
    "2. [Расчет процента запланированных бригад от общего количества бригад на входе планировщика.](#perc_assign2)\n",
    "3. [Распределение между реальными и фейковыми бригадами в результатах планирования.](#real_fake)\n",
    "4. [Составление списка станций и участков, на которых не состоялась подвязка бригады.](#no_assign)\n",
    "5. [Проверка переработки бригад.](#overwork)   \n",
    "6. [Проверка \"скачков\" бригад между станциями.](#leaps)\n",
    "7. [Анализ времен стоянок поездов для смены бригады.](#stop_time)\n",
    "8. [Анализ времен отдыха бригад.](#rest_time)\n",
    "9. [Проверка корректности времен явки бригад во входных данных](#ready_time)\n",
    "10. [Проверка смены бригад на корректных станциях](#change)\n",
    "11. [Проверка отправления бригад до времени явки](#presence)\n",
    "12. [Проверка планирования бригад до времени начала планирования](#before_current_time)\n",
    "13. [Проверка планируемых явок бригад](#presenting)\n",
    "14. [Проверка использования бригад после засылки пассажирами](#check_useful_assign)\n",
    "  1. [Бригады, бесцельно отправляемые пассажирами](#only_pass)\n",
    "  2. [Бригады, у которых запланирована только явка](#only_presence)\n",
    "15. [Проверка подвязки негрузовых бригад](#pass_teams_in_plan)\n",
    "16. [Проверка сохранения предыдущих времен явок](#Проверка-сохранения-предыдущих-времен-явок)\n",
    "17. [Проверка возврата правильных времен явок у бригад](#Проверка-возврата-правильных-времен-явок-у-бригад)\n",
    "18. [Проверка планирования УТХ бригад](#Проверка-планирования-УТХ-бригад)\n",
    "  1. [Сравнение времен отправления и явок УТХ- и не-УТХ-бригад](#cmp_depart_uth)\n",
    "  2. [Детальная проверка планирования УТХ-бригад по одной станции](#uth_detail)\n",
    "  3. [Проверка отсутствия сдвига явки для бригад из депо, по которым нет УТХ-планирования](#no_uth)"
   ]
  },
  {
   "cell_type": "markdown",
   "metadata": {},
   "source": [
    "### Константы и настройки"
   ]
  },
  {
   "cell_type": "code",
   "execution_count": 708,
   "metadata": {
    "collapsed": true
   },
   "outputs": [],
   "source": [
    "report = ''               # здесь будет храниться весь html-код отчета\n",
    "FOLDER = 'resources/'     # папка с csv-файлами с данными\n",
    "REPORT_FOLDER = 'report/' # папка для отчетов\n",
    "PRINT = True              # выводить ли все таблицы из отчета на печать здесь в блокноте"
   ]
  },
  {
   "cell_type": "code",
   "execution_count": 709,
   "metadata": {
    "collapsed": false
   },
   "outputs": [],
   "source": [
    "TIME_FORMAT = '%b %d, %H:%M'\n",
    "'''\n",
    "    Преобразует время из timestamp в красивый формат, заданный в константе time_format\n",
    "'''\n",
    "def nice_time(t):\n",
    "    return time.strftime(TIME_FORMAT, time.localtime(t)) if t > 0 else ''\n",
    "\n",
    "def nice_print(s, **kwargs):    \n",
    "    num = kwargs['num'] if 'num' in kwargs.keys() else False\n",
    "    cols = kwargs['cols'] if 'cols' in kwargs.keys() else s.columns\n",
    "    if num:\n",
    "        print(s.reset_index()[cols].to_string())\n",
    "    else:\n",
    "        print(s[cols].to_string(index=False))"
   ]
  },
  {
   "cell_type": "markdown",
   "metadata": {},
   "source": [
    "### Функции для экспорта в HTML"
   ]
  },
  {
   "cell_type": "code",
   "execution_count": 710,
   "metadata": {
    "collapsed": false
   },
   "outputs": [],
   "source": [
    "def add_line(line, p=PRINT):    \n",
    "    global report        \n",
    "    if p:                \n",
    "        if type(line) == pd.core.frame.DataFrame:\n",
    "            print(line.to_string(index=False))\n",
    "        elif type(line) == pd.core.series.Series:\n",
    "            print(line.to_string())\n",
    "        else:\n",
    "            print(line)\n",
    "    if type(line) == pd.core.frame.DataFrame:        \n",
    "        report += ('%s<br>' % line.to_html(index=False))\n",
    "    elif type(line) == pd.core.series.Series:\n",
    "        report += ('%s<br>' % line.to_frame().reset_index().to_html(index=False))\n",
    "    else:\n",
    "        report += ('%s<br>' % line)\n",
    "    \n",
    "def add_header(header, h=4, p=PRINT):\n",
    "    global report\n",
    "    report += ('<h%d>%s</h%d>' % (h, header, h))\n",
    "    if p:\n",
    "        print(header)\n",
    "\n",
    "def add_image(filename):\n",
    "    global report\n",
    "    report += ('<img src=\"%s\" alt=\"%s\" height=\"30%%\">' % (filename, filename))\n",
    "\n",
    "def create_report(filename):\n",
    "    global report\n",
    "    report = report.replace('<table border=\"1\" class=\"dataframe\">','<table class=\"table table-striped\">')\n",
    "    html_string = '''\n",
    "        <html>\n",
    "            <head>\n",
    "                <link rel=\"stylesheet\" href=\"skeleton.css\">\n",
    "                <style>body{ margin:20 20; background:whitesmoke; }\n",
    "                table {table-layout : fixed}\n",
    "                </style>\n",
    "            </head>\n",
    "            <body>                \n",
    "                %s\n",
    "            </body>\n",
    "        </html>''' % (report)\n",
    "    f = open(filename,'w', encoding='utf-8-sig')\n",
    "    f.write(html_string)\n",
    "    f.close()\n",
    "    print('Отчет сформирован: %s' % filename)"
   ]
  },
  {
   "cell_type": "markdown",
   "metadata": {},
   "source": [
    "## Загрузка и подготовка данных"
   ]
  },
  {
   "cell_type": "code",
   "execution_count": 711,
   "metadata": {
    "collapsed": false
   },
   "outputs": [
    {
     "name": "stdout",
     "output_type": "stream",
     "text": [
      "Время составления отчета: Aug 17, 17:08\n",
      "Время запуска планировщика: Aug 16, 19:31 (1471365082)\n"
     ]
    }
   ],
   "source": [
    "import numpy as np\n",
    "import pandas as pd\n",
    "import time, datetime\n",
    "from ast import literal_eval\n",
    "import matplotlib.pyplot as plt\n",
    "import seaborn as sns\n",
    "\n",
    "%matplotlib inline\n",
    "plt.style.use('fivethirtyeight')\n",
    "plt.rc('font', family='Times New Roman')\n",
    "\n",
    "pd.set_option('max_rows', 50)\n",
    "\n",
    "start_time = time.time()\n",
    "current_time = pd.read_csv(FOLDER + 'current_time.csv').current_time[0]\n",
    "twr          = pd.read_csv(FOLDER + 'team_work_region.csv', converters={'twr':str})\n",
    "links        = pd.read_csv(FOLDER + 'link.csv')\n",
    "stations     = pd.read_csv(FOLDER + 'station.csv', converters={'station':str})\n",
    "train_info   = pd.read_csv(FOLDER + 'train_info.csv', converters={'train': str, 'st_from':str, 'st_to':str})\n",
    "train_plan   = pd.read_csv(FOLDER + 'slot_train.csv', converters={'train': str, 'st_from':str, 'st_to':str})\n",
    "loco_info    = pd.read_csv(FOLDER + 'loco_attributes.csv', converters={'train':str, 'loco':str})\n",
    "loco_plan    = pd.read_csv(FOLDER + 'slot_loco.csv', converters={'train':str, 'loco':str, 'st_from':str, 'st_to':str})\n",
    "team_info    = pd.read_csv(FOLDER + 'team_attributes.csv', converters={'team':str,'depot':str, 'oper_location':str, \\\n",
    "                                                                     'st_from':str, 'st_to':str, 'loco':str, 'depot_st':str,\n",
    "                                                                     'state':str})\n",
    "# Может показаться странным, что атрибут state тоже парсится как string. Это сделано, чтобы не возникало проблем с парсингом \n",
    "# кривых данных в state (например, если state не указан вообще).\n",
    "\n",
    "team_plan    = pd.read_csv(FOLDER + 'slot_team.csv', converters={'team':str,'loco':str, 'st_from':str, 'st_to':str})\n",
    "loco_series  = pd.read_csv(FOLDER + 'loco_series.csv')\n",
    "\n",
    "team_info.regions = team_info.regions.apply(literal_eval)\n",
    "st_names = stations[['station', 'name', 'esr']].drop_duplicates().set_index('station')\n",
    "print('Время составления отчета:', time.strftime(TIME_FORMAT, time.localtime()))\n",
    "print('Время запуска планировщика: %s (%d)' % (nice_time(current_time), current_time))"
   ]
  },
  {
   "cell_type": "code",
   "execution_count": 712,
   "metadata": {
    "collapsed": true
   },
   "outputs": [],
   "source": [
    "# Мержим таблицы _plan и _info для поездов, локомотивов и бригад\n",
    "# Добавляем во все таблицы названия станций на маршруте и времена отправления/прибытия в читабельном формате\n",
    "\n",
    "def add_info(df):    \n",
    "    if 'st_from' in df.columns:\n",
    "        df['st_from_name'] = df.st_from.map(st_names.name)\n",
    "    if 'st_to' in df.columns:\n",
    "        df['st_to_name'] = df.st_to.map(st_names.name)\n",
    "    if 'time_start' in df.columns:\n",
    "        df['time_start_f'] = df.time_start.apply(lambda x: nice_time(x))\n",
    "    if 'time_end' in df.columns:\n",
    "        df['time_end_f'] = df.time_end.apply(lambda x: nice_time(x))\n",
    "    if 'oper_location' in df.columns:\n",
    "        df['oper_location_name'] = df.oper_location.map(st_names.name)    \n",
    "        df.oper_location_name.fillna(0, inplace=True)\n",
    "    if ('oper_location' in df.columns) & ('st_from' in df.columns) & ('st_to' in df.columns):        \n",
    "        df['loc_name'] = df.oper_location_name\n",
    "        df.loc[df.loc_name == 0, 'loc_name'] = df.st_from_name + ' - ' + df.st_to_name\n",
    "    \n",
    "add_info(train_plan)\n",
    "add_info(loco_plan)\n",
    "add_info(team_plan)\n",
    "add_info(loco_info)\n",
    "add_info(team_info)\n",
    "train_plan = train_plan.merge(train_info, on='train', suffixes=('', '_info'), how='left')\n",
    "loco_plan = loco_plan.merge(loco_info, on='loco', suffixes=('', '_info'), how='left')\n",
    "team_plan = team_plan.merge(team_info, on='team', suffixes=('', '_info'), how='left')\n",
    "team_plan['team_type'] = team_plan.team.apply(lambda x: 'Реальная' if str(x)[0] != '7' else 'Фейковая')"
   ]
  },
  {
   "cell_type": "code",
   "execution_count": 713,
   "metadata": {
    "collapsed": false
   },
   "outputs": [
    {
     "name": "stdout",
     "output_type": "stream",
     "text": [
      "Время сбора данных и запуска планировщика: Aug 16, 19:31\n"
     ]
    }
   ],
   "source": [
    "add_line('Время сбора данных и запуска планировщика: %s' % nice_time(current_time))"
   ]
  },
  {
   "cell_type": "markdown",
   "metadata": {},
   "source": [
    "<a id='perc_assign'></a>\n",
    "## Расчет процента подвязки между локомотивами и бригадами [ToC](#toc)\n",
    "\n",
    "Для каждого локомотива берется маршрут на нужном горизонте и на каждом участке маршрута проверяется, подвязана ли к локомотиву бригада на этом участке. Если хотя бы на одном участке бригады нет, то локомотив считается \"плохим\". На выходе рассчитывается процент \"хороших\" локомотивов от общего числа.\n",
    "\n",
    "Отдельно считаются проценты локомотивов, обеспеченных реальными (не фейковыми) бригадами."
   ]
  },
  {
   "cell_type": "code",
   "execution_count": 714,
   "metadata": {
    "collapsed": true
   },
   "outputs": [],
   "source": [
    "add_header('Расчет процента подвязки между локомотивами и бригадами', h=2, p=False)"
   ]
  },
  {
   "cell_type": "code",
   "execution_count": 715,
   "metadata": {
    "collapsed": false
   },
   "outputs": [
    {
     "name": "stdout",
     "output_type": "stream",
     "text": [
      "Локомотивов без бригад на горизонте  6 часов: 41 из 1509 (процент подвязки 97%)\n",
      "Локомотивов без реальных бригад на горизонте  6 часов: 133 из 1509 (процент подвязки 91%)\n",
      "Локомотивов без бригад на горизонте 12 часов: 70 из 1509 (процент подвязки 95%)\n",
      "Локомотивов без реальных бригад на горизонте 12 часов: 306 из 1509 (процент подвязки 79%)\n",
      "Локомотивов без бригад на горизонте 24 часов: 140 из 1509 (процент подвязки 90%)\n",
      "Локомотивов без реальных бригад на горизонте 24 часов: 604 из 1509 (процент подвязки 59%)\n"
     ]
    }
   ],
   "source": [
    "def count_real_assign_percent(hor):\n",
    "    loco_no_team = loco_plan.loc[(loco_plan.time_start < current_time + hor) &\n",
    "                             ((loco_plan.team == -1) | (loco_plan.team_type == 'Фейковая')) &\n",
    "                             (loco_plan.state.isin([0, 1]))]\n",
    "    loco_n = len(loco_plan.drop_duplicates(subset=['loco']).index)\n",
    "    loco_no_team_n = len(loco_no_team.loco.drop_duplicates().index)\n",
    "    percent = 100 - np.round((100 * loco_no_team_n / loco_n), 2)\n",
    "    add_line('Локомотивов без реальных бригад на горизонте %2.d часов: %d из %d (процент подвязки %d%%)' %\n",
    "          (hor / 3600, loco_no_team_n, loco_n, percent))\n",
    "    \n",
    "    \n",
    "def count_assign_percent(hor):\n",
    "    loco_no_team = loco_plan.loc[(loco_plan.time_start < current_time + hor) &\n",
    "                             (loco_plan.team == -1) &\n",
    "                             (loco_plan.state.isin([0, 1]))]\n",
    "    loco_n = len(loco_plan.drop_duplicates(subset=['loco']).index)\n",
    "    loco_no_team_n = len(loco_no_team.loco.drop_duplicates().index)\n",
    "    percent = 100 - np.round((100 * loco_no_team_n / loco_n), 2)\n",
    "    add_line('Локомотивов без бригад на горизонте %2.d часов: %d из %d (процент подвязки %d%%)' %\n",
    "          (hor / 3600, loco_no_team_n, loco_n, percent))\n",
    "    count_real_assign_percent(hor)   \n",
    "\n",
    "    \n",
    "if 'team' not in loco_plan.columns:\n",
    "    loco_plan = loco_plan.set_index(['loco', 'time_start']).join(team_plan.loc[team_plan.state == 1, \\\n",
    "                                                                ['team', 'loco', 'time_start', 'team_type']].\\\n",
    "                                                                 set_index(['loco', 'time_start'])).reset_index()    \n",
    "    loco_plan.team.fillna(-1, inplace=True)\n",
    "\n",
    "count_assign_percent(6 * 3600)\n",
    "count_assign_percent(12 * 3600)\n",
    "count_assign_percent(24 * 3600)"
   ]
  },
  {
   "cell_type": "markdown",
   "metadata": {},
   "source": [
    "<a id='perc_assign2'></a>\n",
    "## Расчет процента запланированных бригад от общего количества [ToC](#toc)\n",
    "\n",
    "Тест показывает, какая доля от реальных бригад, поданных на вход планировщика, использовалась в планировании (= есть в результатах планирования). Отдельно показываются доли по всем входным состояниям бригад.\n",
    "\n",
    "Хорошим считается планирование, когда по всем состояниям, кроме 3 и 9, доля использованных реальных бригад высока. Для бригад в состояниях 3 (\"находится на домашнем отдыхе\") и 9 (\"сдача локомотива в депо\") допускается низкий процент использования."
   ]
  },
  {
   "cell_type": "code",
   "execution_count": 716,
   "metadata": {
    "collapsed": true
   },
   "outputs": [],
   "source": [
    "add_header('Расчет процента запланированных бригад от общего количества бригад на входе', h=2, p=False)"
   ]
  },
  {
   "cell_type": "code",
   "execution_count": 717,
   "metadata": {
    "collapsed": false
   },
   "outputs": [
    {
     "name": "stdout",
     "output_type": "stream",
     "text": [
      "Всего бригад, запланированных с локомотивами в работе: 3285 из 4816 (68.21%)\n"
     ]
    },
    {
     "data": {
      "image/png": "[encoded data removed]",
      "text/plain": [
       "<matplotlib.figure.Figure at 0x1ff5c4db550>"
      ]
     },
     "metadata": {},
     "output_type": "display_data"
    }
   ],
   "source": [
    "team_assigned_n = team_info[team_info.team.isin(team_plan[team_plan.state.isin([0, 1])].team)]\\\n",
    "                    .drop_duplicates('team').team.count()\n",
    "team_total_n = team_info.drop_duplicates('team').team.count()\n",
    "team_assigned_percent = team_assigned_n / team_total_n\n",
    "add_line('Всего бригад, запланированных с локомотивами в работе: %d из %d (%.2f%%)' %\n",
    "      (team_assigned_n, team_total_n, 100 * team_assigned_percent))\n",
    "team_info['is_assign'] = team_info.team.isin(team_plan[team_plan.state.isin([0, 1])].team)\n",
    "assign_states = team_info.loc[team_info.is_assign == True, ['team', 'state']].state.value_counts().to_frame()\n",
    "initial_states = team_info.state.value_counts().to_frame()\n",
    "initial_states.columns=['Бригады во входных данных']\n",
    "assign_states.columns=['Бригады в результатах']\n",
    "states = initial_states.join(assign_states)\n",
    "states.fillna(0, inplace=True)\n",
    "\n",
    "sns.set(style='white', context='notebook')\n",
    "sns.set_color_codes('pastel')\n",
    "fig = plt.figure(figsize=(8, 4))\n",
    "sns.barplot(x='index', y='Бригады во входных данных', data=states.sort_index().reset_index(), \n",
    "            color=\"b\", label='Бригады во входных данных')\n",
    "sns.set_color_codes('muted')\n",
    "ax = sns.barplot(x='index', y='Бригады в результатах', data=states.sort_index().reset_index(), \n",
    "            color=\"b\", label='Бригады в результатах')\n",
    "ax.legend(ncol=1, loc=\"upper right\", frameon=False)\n",
    "ax.set(ylabel='Количество бригад', xlabel='Исходное состояние бригады', \n",
    "       title='Соотношение между количеством запланированных бригад и бригад на входе')\n",
    "#sns.despine()\n",
    "filename = 'team_usage.png'\n",
    "plt.savefig(REPORT_FOLDER + filename, bbox_inches='tight')\n",
    "add_image(filename)"
   ]
  },
  {
   "cell_type": "markdown",
   "metadata": {},
   "source": [
    "<a id='real_fake'></a>\n",
    "### Распределение реальных и фейковых бригад в результатах планирования\n",
    "\n",
    "Доля фейковых бригад должна быть небольшой. На текущий момент (15.08.2016) на нормальном расчете доля фейковых бригад составляет 20-25%. В дальнейшем эту долю надо уменьшать."
   ]
  },
  {
   "cell_type": "code",
   "execution_count": 718,
   "metadata": {
    "collapsed": true
   },
   "outputs": [],
   "source": [
    "add_header('Распределение реальных и фейковых бригад в результатах планирования', h=2, p=False)"
   ]
  },
  {
   "cell_type": "code",
   "execution_count": 719,
   "metadata": {
    "collapsed": false
   },
   "outputs": [
    {
     "data": {
      "image/png": "[encoded data removed]",
      "text/plain": [
       "<matplotlib.figure.Figure at 0x1ff66210780>"
      ]
     },
     "metadata": {},
     "output_type": "display_data"
    }
   ],
   "source": [
    "f = team_plan[team_plan.state.isin([0, 1])].drop_duplicates('team').team_type.value_counts()\n",
    "fig = plt.figure(figsize=(5,5))\n",
    "colors = ['cornflowerblue', 'lightskyblue']\n",
    "expl = (0.03, 0) if len(f) == 2 else None\n",
    "plt.pie(f, autopct='%.2f%%', colors=colors, explode=expl, shadow=True, labels=list(f.index))\n",
    "filename = 'real_fake_teams_ratio.png'\n",
    "fig.savefig(REPORT_FOLDER + filename, bbox_inches='tight')\n",
    "add_image(filename)"
   ]
  },
  {
   "cell_type": "markdown",
   "metadata": {},
   "source": [
    "<a id='no_assign'></a>\n",
    "## Cтанции и участки, на которых не состоялась подвязка бригады [ToC](#toc)\n",
    "\n",
    "Тест выявляет участки, на которых чаще всего не происходила подвязка бригады. \"Участком\" в данном случае является первый участок на маршруте какого-то локомотива, на котором не состоялась подвязка бригады (любой - реальной или фейковой). \n",
    "\n",
    "По состоянию на 15.08 станция Зыково не принадлежала ни одному участку обкатки бригад, так что наличие участков с этой станцией в списке объяснимо. По остальным участкам требуется расследование: вообще, случаев неподвязки бригад быть не должно, всегда должна создаваться либо реальная, либо фейковая бригада."
   ]
  },
  {
   "cell_type": "code",
   "execution_count": 720,
   "metadata": {
    "collapsed": true
   },
   "outputs": [],
   "source": [
    "add_header('Станции и участки, на которых не состоялась подвязка бригады', h=2, p=False)"
   ]
  },
  {
   "cell_type": "code",
   "execution_count": 721,
   "metadata": {
    "collapsed": false
   },
   "outputs": [],
   "source": [
    "horizon = 6 * 3600\n",
    "add_line('Горизонт анализа: %d часов' % (horizon / 3600), p=False)\n",
    "loco_mask = (loco_plan.time_start < current_time + horizon)"
   ]
  },
  {
   "cell_type": "code",
   "execution_count": 722,
   "metadata": {
    "collapsed": false
   },
   "outputs": [
    {
     "name": "stdout",
     "output_type": "stream",
     "text": [
      "Станции, на которых не удалось подвязать бригады под локомотив (первые 10):\n",
      "КРАСНОЯРСК-ВОСТОЧНЫЙ                  14\n",
      "УЯР                                   11\n",
      "КОМСОМОЛЬСК-НА-АМУРЕ-СОРТИРОВОЧНЫЙ     8\n",
      "АМАЗАР                                 1\n",
      "ЕРОФЕЙ ПАВЛОВИЧ                        1\n",
      "КОМСОМОЛЬСК-НА-АМУРЕ                   1\n",
      "ДЗЕМГИ                                 1\n",
      "КАРЫМСКАЯ                              1\n",
      "КРАСНОЯРСК-СЕВЕРНЫЙ                    1\n",
      "МИНУСИНСК                              1\n",
      "\n",
      "Участки планирования, на которых не удалось подвязать бригады под локомотив (первые 10):\n",
      "st_from_name                        st_to_name          \n",
      "КРАСНОЯРСК-ВОСТОЧНЫЙ                ЗЫКОВО                  14\n",
      "УЯР                                 ЗЫКОВО                  11\n",
      "КОМСОМОЛЬСК-НА-АМУРЕ-СОРТИРОВОЧНЫЙ  СЕЛИХИН                  4\n",
      "                                    КОМСОМОЛЬСК-НА-АМУРЕ     4\n",
      "НОВЫЙ УРГАЛ                         УРГАЛ I                  1\n",
      "МИНУСИНСК                           КУРАГИНО                 1\n",
      "КРАСНОЯРСК-СЕВЕРНЫЙ                 КРАСНОЯРСК-ВОСТОЧНЫЙ     1\n",
      "КОМСОМОЛЬСК-НА-АМУРЕ                ДЗЕМГИ                   1\n",
      "КАРЫМСКАЯ                           ЧИТА I                   1\n",
      "ЕРОФЕЙ ПАВЛОВИЧ                     УРУША                    1\n",
      "Локомотивы, к которым не была подвязана бригада на станции КРАСНОЯРСК-ВОСТОЧНЫЙ, по направлениям:\n",
      "ЗЫКОВО    14\n"
     ]
    }
   ],
   "source": [
    "# Добавляем признак первой станции на маршруте локомотива, где не была подвязана бригада\n",
    "loco_plan.loc[loco_plan.state == 4, 'team'] = 0\n",
    "loco_plan['no_team_start'] = (loco_plan.team == -1) & \\\n",
    "                             ((loco_plan.team != loco_plan.team.shift(1)) | (loco_plan.loco != loco_plan.loco.shift(1)))\n",
    "    \n",
    "loco_cols = ['loco', 'st_from_name', 'st_to_name', 'state', 'time_start_f', 'team', 'no_team_start']\n",
    "fail_team_assign_locos = loco_plan.loc[loco_mask & (loco_plan.no_team_start == True)]\n",
    "if not fail_team_assign_locos.empty:\n",
    "    fail_team_assign_stations = fail_team_assign_locos.st_from_name.value_counts().head(10)\n",
    "    fail_team_assign_tracks = fail_team_assign_locos.groupby('st_from_name').st_to_name.value_counts().\\\n",
    "                                sort_values(ascending=False).head(10)\n",
    "    add_header('Станции, на которых не удалось подвязать бригады под локомотив (первые 10):')\n",
    "    add_line(fail_team_assign_stations)\n",
    "    add_header('\\nУчастки планирования, на которых не удалось подвязать бригады под локомотив (первые 10):')\n",
    "    add_line(fail_team_assign_tracks)\n",
    "    st_name = fail_team_assign_stations.head(1).index[0]\n",
    "    bad_locos = loco_plan.loc[loco_mask & (loco_plan.st_from_name == st_name) & (loco_plan.no_team_start == True)]\n",
    "    if not bad_locos.empty:\n",
    "        add_header('Локомотивы, к которым не была подвязана бригада на станции %s, по направлениям:' % st_name)\n",
    "        add_line(bad_locos.st_to_name.value_counts())\n",
    "else:\n",
    "    print('Подвязка бригад под локомотивы выполнена на всех станциях')"
   ]
  },
  {
   "cell_type": "markdown",
   "metadata": {},
   "source": [
    "<a id='overwork'></a>\n",
    "## Проверка переработки бригад [ToC](#toc)\n",
    "\n",
    "Сложный и не всегда корректно срабатывающий тест.\n",
    "\n",
    "Тест проверяет планы по бригадам на переработки. Для этого сначала для каждого участка на маршруте бригады определяется время последней операции явки до этого участка. Это может быть либо явка, переданная во входных данных, либо явка, запланированная планировщиком (явка - это участок маршрута со state = 2). \n",
    "\n",
    "Затем составляется таблица с поездками бригад - фрагментами маршрутов, на которых у бригады не происходило смены локомотива или изменения состояния.\n",
    "\n",
    "Далее для каждой поездки считается время работы. Оно не должно превышать нормативное рабочее время, заданное в сообщениях `team_region`. Для каждой поездки вычисляется время переработки.\n",
    "\n",
    "**TODO:** Здесь есть пробел в логике: по идее, за один цикл работы от выхода до отдыха бригада может несколько раз сменить локомотив или состояние. Например, она может поехать сначала на один маленький участок с одним локомотивом, там пересесть на другой локомотив и поехать, скажем, в том же направлении дальше. И только когда-то потом уйти на отдых. Видимо, правильнее будет определять фрагменты маршрутов бригад между явкой и отдыхом (и от явки до конца маршрута, если отдыха до конца маршрута нет) и считать время хода на таких фрагментах."
   ]
  },
  {
   "cell_type": "code",
   "execution_count": 723,
   "metadata": {
    "collapsed": true
   },
   "outputs": [],
   "source": [
    "add_header('Бригады с переработкой', h=2, p=False)"
   ]
  },
  {
   "cell_type": "markdown",
   "metadata": {},
   "source": [
    "#### Вычисляем последнее время явки для каждого участка на маршруте"
   ]
  },
  {
   "cell_type": "code",
   "execution_count": 724,
   "metadata": {
    "collapsed": false
   },
   "outputs": [],
   "source": [
    "# В поле presence прописываем последнюю явку бригады из входных данных\n",
    "team_info['all_presence'] = list(zip(team_info.depot_time, team_info.return_time))\n",
    "team_info['presence'] = team_info.all_presence.apply(lambda x: max(x))\n",
    "team_info['presence_norm'] = team_info.presence.apply(nice_time)\n",
    "team_plan['info_presence'] = team_plan.team.map(team_info.drop_duplicates('team').set_index('team').presence)\n",
    "team_plan['info_presence_norm'] = team_plan.info_presence.apply(nice_time)\n",
    "team_plan['info_presence'] = team_plan.info_presence.apply(lambda x: [] if np.isnan(x) else [int(x)])\n",
    "\n",
    "# Собираем все запланированные явки бригады. \n",
    "# Если ни одной явки не запланировано, то проставляем фейковые явки: время первого отправления (после отдыха) минус 1 час\n",
    "team_plan['start_trip'] = team_plan.state.isin([0, 1]) \\\n",
    "                & ((team_plan.team != team_plan.team.shift(1)) | (team_plan.state.shift(1) == 4))\n",
    "team_plan['fake_plan_presence'] = team_plan.team.map(team_plan[team_plan.start_trip].groupby('team').time_start.unique() - 3600)\n",
    "team_plan.fake_plan_presence.fillna(0, inplace=True)\n",
    "team_plan['fake_plan_presence'] = team_plan.fake_plan_presence.apply(lambda x: [] if (type(x) == int) else x)\n",
    "team_plan['plan_presence'] = team_plan.team.map(team_plan[team_plan.state == 2].groupby('team').time_start.unique())\n",
    "team_plan.plan_presence.fillna(0, inplace=True)\n",
    "team_plan['plan_presence'] = team_plan.plan_presence.apply(lambda x: [] if (type(x) == int) else x)"
   ]
  },
  {
   "cell_type": "code",
   "execution_count": 725,
   "metadata": {
    "collapsed": false
   },
   "outputs": [],
   "source": [
    "def get_curr_presence(row):\n",
    "    real_presence = np.concatenate([row.info_presence, row.plan_presence])   \n",
    "    if len(real_presence) > 0:\n",
    "        presence_list = real_presence\n",
    "    elif len(row.fake_plan_presence) > 0:\n",
    "        presence_list = row.fake_plan_presence\n",
    "    else:\n",
    "        return current_time\n",
    "        \n",
    "    t = row.time_start\n",
    "    b = [x for x in presence_list if x <= t]\n",
    "    return int(max(b)) if b != [] else (row.fake_plan_presence[0] if len(row.fake_plan_presence) > 0 else current_time)   \n",
    "    \n",
    "    \n",
    "team_plan['curr_presence'] = team_plan.apply(lambda row: get_curr_presence(row), axis=1)\n",
    "#cols = ['team', 'st_from_name', 'time_start', 'state', 'info_presence', 'info_presence_norm', \n",
    "#        'plan_presence', 'fake_plan_presence', 'curr_presence']\n",
    "#team_plan[team_plan.team == '777700001868'][cols]"
   ]
  },
  {
   "cell_type": "markdown",
   "metadata": {},
   "source": [
    "#### Составляем таблицу team_trips с поездками бригад"
   ]
  },
  {
   "cell_type": "code",
   "execution_count": 726,
   "metadata": {
    "collapsed": false
   },
   "outputs": [],
   "source": [
    "cols = ['team', 'state', 'st_from_name', 'st_to_name', 'time_start', 'time_end', 'loco', 'start_trip', 'end_trip', \n",
    "        'start_trip_time', 'end_trip_time']\n",
    "team_plan['end_trip'] = ((team_plan.team != team_plan.team.shift(-1)) & (team_plan.state == 1)) | \\\n",
    "                        ((team_plan.state == 1) & (team_plan.state.shift(-1).isin([0, 2, 4])))\n",
    "team_plan.loc[team_plan.end_trip == True, 'end_trip_time'] = team_plan.time_end\n",
    "team_plan['start_trip'] = ((team_plan.state == 1) & (team_plan.team != team_plan.team.shift(1))) | \\\n",
    "                        ((team_plan.state == 1) & (team_plan.state.shift(1).isin([0, 2, 4])))\n",
    "team_plan.loc[team_plan.start_trip == True, 'start_trip_time'] = team_plan.time_start\n",
    "start_trips = team_plan.dropna(subset=['start_trip_time'])\n",
    "end_trips = team_plan.dropna(subset=['end_trip_time'])\n",
    "\n",
    "frames = [start_trips.reset_index()[['team', 'state', 'st_from_name', 'start_trip_time']],\n",
    "          end_trips.reset_index()[['st_to_name', 'end_trip_time', 'curr_presence']]]\n",
    "team_trips = pd.concat(frames, axis=1, ignore_index=True)\n",
    "team_trips.columns = ['team', 'state', 'st_from_name', 'time_start', 'st_to_name', 'time_end', 'curr_presence']\n",
    "add_info(team_trips)\n",
    "team_trips['curr_presence_norm'] = team_trips.curr_presence.apply(nice_time)"
   ]
  },
  {
   "cell_type": "markdown",
   "metadata": {},
   "source": [
    "#### Загружаем нормы рабочего времени и составляем таблицу по нормам для каждой бригады"
   ]
  },
  {
   "cell_type": "code",
   "execution_count": 727,
   "metadata": {
    "collapsed": true
   },
   "outputs": [],
   "source": [
    "WORK_TIME_LIMIT = 11 #hours"
   ]
  },
  {
   "cell_type": "code",
   "execution_count": 728,
   "metadata": {
    "collapsed": false
   },
   "outputs": [],
   "source": [
    "def get_cmp(row):\n",
    "    d, l = row.depot, row.link    \n",
    "    try:\n",
    "        res = trd.ix[d].link.apply(lambda x: len(np.intersect1d(x, l))).idxmax()        \n",
    "    except:\n",
    "        res = -1\n",
    "    return res\n",
    "\n",
    "team_region = pd.read_csv(FOLDER + 'team_region.csv', dtype={'st_from':str, 'st_to':str, 'depot':str})\n",
    "add_info(team_region)\n",
    "team_region['link'] = list(zip(team_region.st_from, team_region.st_to))\n",
    "team_plan['link'] = list(zip(team_plan.st_from, team_plan.st_to))\n",
    "tr_links = team_region.groupby(['team_region', 'depot']).link.unique().to_frame().reset_index()\n",
    "if not tr_links.empty:\n",
    "    trd = tr_links.set_index(['depot', 'team_region'])\n",
    "else:\n",
    "    trd = tr_links\n",
    "team_links = team_plan[team_plan.state.isin([0, 1])].groupby(['team', 'depot']).link.unique().to_frame().reset_index()\n",
    "team_links['team_region'] = team_links.apply(lambda row: get_cmp(row), axis=1)\n",
    "\n",
    "team_links['tr_depot'] = list(zip(team_links.team_region, team_links.depot))\n",
    "team_region['tr_depot'] = list(zip(team_region.team_region, team_region.depot))\n",
    "team_links['time_f'] = team_links.tr_depot.map(team_region.drop_duplicates('tr_depot').set_index('tr_depot').time_f)\n",
    "team_links['time_b'] = team_links.tr_depot.map(team_region.drop_duplicates('tr_depot').set_index('tr_depot').time_b)\n",
    "team_links['time_wr'] = team_links.tr_depot.map(team_region.drop_duplicates('tr_depot').set_index('tr_depot').time_wr)\n",
    "#team_links.head()"
   ]
  },
  {
   "cell_type": "code",
   "execution_count": 729,
   "metadata": {
    "collapsed": false
   },
   "outputs": [
    {
     "data": {
      "text/html": [
       "<div>\n",
       "<table border=\"1\" class=\"dataframe\">\n",
       "  <thead>\n",
       "    <tr style=\"text-align: right;\">\n",
       "      <th></th>\n",
       "      <th>team</th>\n",
       "      <th>time_f</th>\n",
       "      <th>time_b</th>\n",
       "      <th>time_wr</th>\n",
       "    </tr>\n",
       "  </thead>\n",
       "  <tbody>\n",
       "    <tr>\n",
       "      <th>0</th>\n",
       "      <td>200200032910</td>\n",
       "      <td>NaN</td>\n",
       "      <td>NaN</td>\n",
       "      <td>NaN</td>\n",
       "    </tr>\n",
       "    <tr>\n",
       "      <th>1</th>\n",
       "      <td>200200032986</td>\n",
       "      <td>NaN</td>\n",
       "      <td>NaN</td>\n",
       "      <td>NaN</td>\n",
       "    </tr>\n",
       "    <tr>\n",
       "      <th>2</th>\n",
       "      <td>200200035801</td>\n",
       "      <td>NaN</td>\n",
       "      <td>NaN</td>\n",
       "      <td>NaN</td>\n",
       "    </tr>\n",
       "    <tr>\n",
       "      <th>3</th>\n",
       "      <td>200200036640</td>\n",
       "      <td>NaN</td>\n",
       "      <td>NaN</td>\n",
       "      <td>NaN</td>\n",
       "    </tr>\n",
       "    <tr>\n",
       "      <th>4</th>\n",
       "      <td>200200038811</td>\n",
       "      <td>NaN</td>\n",
       "      <td>NaN</td>\n",
       "      <td>NaN</td>\n",
       "    </tr>\n",
       "  </tbody>\n",
       "</table>\n",
       "</div>"
      ],
      "text/plain": [
       "           team time_f time_b time_wr\n",
       "0  200200032910    NaN    NaN     NaN\n",
       "1  200200032986    NaN    NaN     NaN\n",
       "2  200200035801    NaN    NaN     NaN\n",
       "3  200200036640    NaN    NaN     NaN\n",
       "4  200200038811    NaN    NaN     NaN"
      ]
     },
     "execution_count": 729,
     "metadata": {},
     "output_type": "execute_result"
    }
   ],
   "source": [
    "time_limit = team_links[['team', 'time_f', 'time_b', 'time_wr']]\n",
    "time_limit.head()"
   ]
  },
  {
   "cell_type": "markdown",
   "metadata": {},
   "source": [
    "#### Вычисляем переработки, предварительно удалив выбросы"
   ]
  },
  {
   "cell_type": "code",
   "execution_count": 730,
   "metadata": {
    "collapsed": false
   },
   "outputs": [
    {
     "name": "stdout",
     "output_type": "stream",
     "text": [
      "Всего 6 бригад с явно некорретными (более суток назад) временами последеней явки. Примеры:\n",
      "         team                   st_from_name            st_to_name   time_start_f     time_end_f curr_presence_norm\n",
      " 200200224367  КОМСОМОЛЬСК-НА-АМУРЕ-СОРТИ...  КОМСОМОЛЬСК-НА-АМУРЕ  Aug 16, 00:01  Aug 16, 00:41      Aug 15, 13:00\n",
      " 200200186850                         ТАЙШЕТ              ИЛАНСКАЯ  Aug 16, 23:00  Aug 17, 01:42      Aug 15, 14:21\n",
      " 200200265855                         МОГЗОН                 ХИЛОК  Aug 16, 17:14  Aug 16, 19:37      Aug 15, 14:30\n",
      " 200200121929                       АЧИНСК I        ЧЕРНОРЕЧЕНСКАЯ  Aug 16, 00:00  Aug 16, 00:43      Aug 15, 16:00\n",
      " 200200164398                         АРХАРА               ОБЛУЧЬЕ  Aug 16, 01:37  Aug 16, 03:55      Aug 15, 16:20\n",
      " 220202226981                          ЛОПЧА                 ТЫНДА  Aug 16, 00:44  Aug 16, 06:09      Aug 15, 19:13\n"
     ]
    }
   ],
   "source": [
    "cols = ['team', 'st_from_name', 'st_to_name', 'time_start_f', 'time_end_f', 'curr_presence_norm']\n",
    "outliers = team_trips[team_trips.curr_presence < current_time - 24 * 3600]\n",
    "#outliers = team_trips[team_trips.info_presence < current_time - 24 * 3600]\n",
    "outliers_n = outliers.team.count()\n",
    "add_header('Всего %d бригад с явно некорретными (более суток назад) временами последеней явки. Примеры:' % outliers_n)\n",
    "add_line(outliers.sort_values('curr_presence_norm').head(10 if outliers_n > 20 else outliers_n)[cols])"
   ]
  },
  {
   "cell_type": "code",
   "execution_count": 731,
   "metadata": {
    "collapsed": false
   },
   "outputs": [
    {
     "data": {
      "text/html": [
       "<div>\n",
       "<table border=\"1\" class=\"dataframe\">\n",
       "  <thead>\n",
       "    <tr style=\"text-align: right;\">\n",
       "      <th></th>\n",
       "      <th>team</th>\n",
       "      <th>st_from_name</th>\n",
       "      <th>st_to_name</th>\n",
       "      <th>curr_presence_norm</th>\n",
       "      <th>time_start_f</th>\n",
       "      <th>time_end_f</th>\n",
       "      <th>time_limit</th>\n",
       "      <th>time_limit_no_rest</th>\n",
       "    </tr>\n",
       "  </thead>\n",
       "  <tbody>\n",
       "    <tr>\n",
       "      <th>0</th>\n",
       "      <td>200200105777</td>\n",
       "      <td>ЧЕРЕМХОВО</td>\n",
       "      <td>ЗИМА</td>\n",
       "      <td>Aug 16, 11:20</td>\n",
       "      <td>Aug 16, 15:21</td>\n",
       "      <td>Aug 16, 17:32</td>\n",
       "      <td>39600</td>\n",
       "      <td>39600</td>\n",
       "    </tr>\n",
       "    <tr>\n",
       "      <th>1</th>\n",
       "      <td>200200105777</td>\n",
       "      <td>ЗИМА</td>\n",
       "      <td>НИЖНЕУДИНСК</td>\n",
       "      <td>Aug 16, 21:48</td>\n",
       "      <td>Aug 16, 22:28</td>\n",
       "      <td>Aug 17, 07:14</td>\n",
       "      <td>39600</td>\n",
       "      <td>39600</td>\n",
       "    </tr>\n",
       "    <tr>\n",
       "      <th>3</th>\n",
       "      <td>200200164073</td>\n",
       "      <td>УЯР</td>\n",
       "      <td>ИЛАНСКАЯ</td>\n",
       "      <td>Aug 16, 15:05</td>\n",
       "      <td>Aug 16, 18:10</td>\n",
       "      <td>Aug 16, 20:52</td>\n",
       "      <td>39600</td>\n",
       "      <td>39600</td>\n",
       "    </tr>\n",
       "    <tr>\n",
       "      <th>4</th>\n",
       "      <td>200200225263</td>\n",
       "      <td>СОЛОНИ</td>\n",
       "      <td>СУЛУК</td>\n",
       "      <td>Aug 16, 15:25</td>\n",
       "      <td>Aug 16, 18:26</td>\n",
       "      <td>Aug 16, 19:54</td>\n",
       "      <td>39600</td>\n",
       "      <td>39600</td>\n",
       "    </tr>\n",
       "    <tr>\n",
       "      <th>6</th>\n",
       "      <td>200200242482</td>\n",
       "      <td>РУЖИНО</td>\n",
       "      <td>УССУРИЙСК</td>\n",
       "      <td>Aug 16, 23:54</td>\n",
       "      <td>Aug 17, 00:35</td>\n",
       "      <td>Aug 17, 04:40</td>\n",
       "      <td>39600</td>\n",
       "      <td>39600</td>\n",
       "    </tr>\n",
       "  </tbody>\n",
       "</table>\n",
       "</div>"
      ],
      "text/plain": [
       "           team st_from_name   st_to_name curr_presence_norm   time_start_f  \\\n",
       "0  200200105777    ЧЕРЕМХОВО         ЗИМА      Aug 16, 11:20  Aug 16, 15:21   \n",
       "1  200200105777         ЗИМА  НИЖНЕУДИНСК      Aug 16, 21:48  Aug 16, 22:28   \n",
       "3  200200164073          УЯР     ИЛАНСКАЯ      Aug 16, 15:05  Aug 16, 18:10   \n",
       "4  200200225263       СОЛОНИ        СУЛУК      Aug 16, 15:25  Aug 16, 18:26   \n",
       "6  200200242482       РУЖИНО    УССУРИЙСК      Aug 16, 23:54  Aug 17, 00:35   \n",
       "\n",
       "      time_end_f  time_limit  time_limit_no_rest  \n",
       "0  Aug 16, 17:32       39600               39600  \n",
       "1  Aug 17, 07:14       39600               39600  \n",
       "3  Aug 16, 20:52       39600               39600  \n",
       "4  Aug 16, 19:54       39600               39600  \n",
       "6  Aug 17, 04:40       39600               39600  "
      ]
     },
     "execution_count": 731,
     "metadata": {},
     "output_type": "execute_result"
    }
   ],
   "source": [
    "pd.set_option('display.max_colwidth', 25)\n",
    "# Оставляем только корректные бригады\n",
    "team_trips = team_trips[(team_trips.team.isin(outliers.team) == False) & (team_trips.time_start < current_time + 24 * 3600)]\n",
    "team_trips['time_limit'] = team_trips.team.map(time_limit.set_index('team').time_f)\n",
    "team_trips['time_limit_no_rest'] = team_trips.team.map(time_limit.set_index('team').time_wr)\n",
    "team_trips.time_limit.fillna(WORK_TIME_LIMIT * 3600, inplace=True)\n",
    "team_trips.time_limit_no_rest.fillna(WORK_TIME_LIMIT * 3600, inplace=True)\n",
    "team_trips[['team', 'st_from_name', 'st_to_name', 'curr_presence_norm', 'time_start_f', 'time_end_f', 'time_limit', 'time_limit_no_rest']].head()"
   ]
  },
  {
   "cell_type": "code",
   "execution_count": 732,
   "metadata": {
    "collapsed": false
   },
   "outputs": [
    {
     "name": "stdout",
     "output_type": "stream",
     "text": [
      "Количество бригад с переработкой (показаны первые 10 интервалов):\n",
      "(0, 1]      109\n",
      "(1, 2]       39\n",
      "(2, 3]       31\n",
      "(3, 4]       13\n",
      "(4, 5]       13\n",
      "(5, 6]       17\n",
      "(6, 7]       13\n",
      "(7, 8]        9\n",
      "(8, 9]       13\n",
      "(10, 11]      5\n"
     ]
    }
   ],
   "source": [
    "team_trips['work_time'] = np.round(((team_trips.time_end - team_trips.curr_presence) / 3600), 2)\n",
    "#team_trips['overtime'] = team_trips.work_time.apply(lambda x: np.max([x - WORK_TIME_LIMIT, 0]))\n",
    "team_trips['overtime'] = np.round((team_trips.time_end - team_trips.curr_presence - team_trips.time_limit) / 3600, 2)\n",
    "team_trips['overtime'] = team_trips.overtime.apply(lambda x: 0 if x < 0 else x)\n",
    "cols = ['team', 'st_from_name', 'st_to_name', 'curr_presence_norm', 'time_end_f', 'overtime' ]\n",
    "add_header('Количество бригад с переработкой (показаны первые 10 интервалов):')\n",
    "add_line(pd.cut(team_trips.overtime, bins=np.arange(int(team_trips.overtime.max()) + 2), include_lowest=False)\\\n",
    "      .value_counts().head(10).sort_index())"
   ]
  },
  {
   "cell_type": "code",
   "execution_count": 733,
   "metadata": {
    "collapsed": false
   },
   "outputs": [
    {
     "name": "stdout",
     "output_type": "stream",
     "text": [
      "\n",
      "Бригады с переработкой больше 2 часов (всего 128):\n",
      "         team              st_from_name                st_to_name curr_presence_norm   time_start_f     time_end_f  overtime\n",
      " 200200271093                       ЗУЙ                      ЗИМА      Aug 16, 11:25  Aug 17, 08:00  Aug 17, 16:59     18.58\n",
      " 200200138905  КОМСОМОЛЬСК-НА-АМУРЕ-...              ВЫСОКОГОРНАЯ      Aug 16, 01:00  Aug 16, 21:00  Aug 17, 05:50     17.84\n",
      " 200200163533               ЛЕСОСИБИРСК                  АЧИНСК I      Aug 16, 04:00  Aug 16, 22:30  Aug 17, 08:16     17.27\n",
      " 200200223884                   АЛЗАМАЙ                    ТАЙШЕТ      Aug 16, 01:50  Aug 16, 19:35  Aug 17, 03:46     14.94\n",
      " 200200249915                    ТАЙШЕТ                    ТАЙШЕТ      Aug 16, 06:21  Aug 16, 22:22  Aug 17, 06:54     13.56\n",
      " 200200126652                    АРХАРА                   ОБЛУЧЬЕ      Aug 16, 11:30  Aug 16, 21:10  Aug 17, 11:50     13.34\n",
      " 200200241777                    АРХАРА                   ОБЛУЧЬЕ      Aug 16, 11:10  Aug 16, 20:50  Aug 17, 11:25     13.25\n",
      " 220200846641           СЕВЕРОБАЙКАЛЬСК           СЕВЕРОБАЙКАЛЬСК      Aug 16, 07:18  Aug 16, 20:55  Aug 17, 07:00     12.72\n",
      " 200200225137     ИРКУТСК-СОРТИРОВОЧНЫЙ                 ЧЕРЕМХОВО      Aug 16, 08:50  Aug 16, 22:22  Aug 17, 08:33     12.72\n",
      " 200200238940                    АРХАРА                   ОБЛУЧЬЕ      Aug 16, 11:20  Aug 16, 20:30  Aug 17, 10:58     12.64\n",
      " 200200255911  КОМСОМОЛЬСК-НА-АМУРЕ-...              ВЫСОКОГОРНАЯ      Aug 16, 08:00  Aug 16, 22:15  Aug 17, 07:34     12.58\n",
      " 200200139916      КРАСНОЯРСК-ВОСТОЧНЫЙ                   ЗЛОБИНО      Aug 15, 22:00  Aug 16, 20:27  Aug 16, 20:52     11.87\n",
      " 200200226146                    МОГОЧА  ЧЕРНЫШЕВСК-ЗАБАЙКАЛЬСКИЙ      Aug 16, 04:55  Aug 16, 21:06  Aug 17, 03:41     11.77\n",
      " 200200235619                   БОГОТОЛ      КРАСНОЯРСК-ВОСТОЧНЫЙ      Aug 16, 04:00  Aug 16, 20:45  Aug 17, 01:56     10.94\n",
      " 200200109431                    АБАКАН                  САЯНСКАЯ      Aug 16, 09:01  Aug 16, 22:10  Aug 17, 06:52     10.86\n",
      " 200200256915                   НАХОДКА               СМОЛЯНИНОВО      Aug 16, 14:10  Aug 17, 03:10  Aug 17, 11:55     10.76\n",
      " 200200262307                     ТЫНДА                  БЕРКАКИТ      Aug 16, 19:07  Aug 17, 09:35  Aug 17, 16:50     10.72\n",
      " 210214093787                    АБАКАН              МЕЖДУРЕЧЕНСК      Aug 16, 07:03  Aug 16, 19:40  Aug 17, 04:08     10.10\n",
      " 220210310055                     ТЫНДА                   ГОРЕЛЫЙ      Aug 16, 06:40  Aug 16, 20:30  Aug 17, 02:53      9.22\n",
      " 200200266375                     ТЫНДА                   ГОРЕЛЫЙ      Aug 16, 19:00  Aug 17, 09:15  Aug 17, 14:54      8.90\n",
      "\n",
      "Распределение бригад с переработкой больше 2 часов по типу:\n",
      "Реальная    127\n",
      "Фейковая      1\n"
     ]
    }
   ],
   "source": [
    "pd.set_option('display.max_colwidth', 25)\n",
    "cols = ['team', 'st_from_name', 'st_to_name', 'curr_presence_norm', 'time_start_f', 'time_end_f', 'overtime' ]\n",
    "add_header('\\nБригады с переработкой больше 2 часов (всего %d):' % len(team_trips.loc[team_trips.overtime > 2].index))\n",
    "add_line(team_trips.loc[team_trips.overtime > 2, cols].sort_values('overtime', ascending=False).head(20))\n",
    "\n",
    "add_header('\\nРаспределение бригад с переработкой больше 2 часов по типу:')\n",
    "team_trips['team_type'] = team_trips.team.map(team_plan.drop_duplicates('team').set_index('team').team_type)\n",
    "add_line(team_trips.loc[team_trips.overtime > 2].team_type.value_counts())"
   ]
  },
  {
   "cell_type": "code",
   "execution_count": 734,
   "metadata": {
    "collapsed": false
   },
   "outputs": [
    {
     "name": "stdout",
     "output_type": "stream",
     "text": [
      "Примеры планов бригад с переработками:\n",
      "Бригада 200200271093:\n",
      "         team depot_st_name   depot_time_f return_time_f state          loco loc_name\n",
      " 200200271093          ЗИМА  Aug 16, 11:25                   6  200200101396      ЗУЙ\n",
      "         team           st_from_name             st_to_name  state   time_start_f     time_end_f          loco\n",
      " 200200271093                   ЗИМА                   ЗИМА      2  Aug 16, 11:25  Aug 16, 12:05            -1\n",
      " 200200271093                    ЗУЙ                  МЕГЕТ      1  Aug 17, 08:00  Aug 17, 08:10  200200101396\n",
      " 200200271093                  МЕГЕТ             БАТАРЕЙНАЯ      1  Aug 17, 08:10  Aug 17, 08:18  200200101396\n",
      " 200200271093             БАТАРЕЙНАЯ  ИРКУТСК-СОРТИРОВОЧНЫЙ      1  Aug 17, 08:18  Aug 17, 08:38  200200101396\n",
      " 200200271093  ИРКУТСК-СОРТИРОВОЧНЫЙ             БАТАРЕЙНАЯ      1  Aug 17, 12:26  Aug 17, 12:40  200200077370\n",
      " 200200271093             БАТАРЕЙНАЯ                  МЕГЕТ      1  Aug 17, 12:40  Aug 17, 12:48  200200077370\n",
      " 200200271093                  МЕГЕТ              СУХОВСКАЯ      1  Aug 17, 12:48  Aug 17, 13:00  200200077370\n",
      " 200200271093              СУХОВСКАЯ                АНГАРСК      1  Aug 17, 13:00  Aug 17, 13:06  200200077370\n",
      " 200200271093                АНГАРСК                  КИТОЙ      1  Aug 17, 13:06  Aug 17, 13:13  200200077370\n",
      " 200200271093                  КИТОЙ                 МАЛЬТА      1  Aug 17, 13:13  Aug 17, 13:49  200200077370\n",
      " 200200271093                 МАЛЬТА             КАСЬЯНОВКА      1  Aug 17, 13:49  Aug 17, 14:34  200200077370\n",
      " 200200271093             КАСЬЯНОВКА              ЧЕРЕМХОВО      1  Aug 17, 14:34  Aug 17, 14:48  200200077370\n",
      " 200200271093              ЧЕРЕМХОВО                 ЗАЛАРИ      1  Aug 17, 14:48  Aug 17, 15:58  200200077370\n",
      " 200200271093                 ЗАЛАРИ                   ЗИМА      1  Aug 17, 15:58  Aug 17, 16:59  200200077370\n",
      "\n",
      "Бригада 200200138905:\n",
      "         team         depot_st_name   depot_time_f return_time_f state          loco                  loc_name\n",
      " 200200138905  КОМСОМОЛЬСК-НА-АМУРЕ  Aug 16, 01:00                   5  200200052499  КОМСОМОЛЬСК-НА-АМУРЕ-...\n",
      "         team              st_from_name                st_to_name  state   time_start_f     time_end_f          loco\n",
      " 200200138905  КОМСОМОЛЬСК-НА-АМУРЕ-...  КОМСОМОЛЬСК-НА-АМУРЕ-...      2  Aug 16, 01:00  Aug 16, 03:00            -1\n",
      " 200200138905  КОМСОМОЛЬСК-НА-АМУРЕ-...                   СЕЛИХИН      1  Aug 16, 21:00  Aug 17, 00:08  200200060355\n",
      " 200200138905                   СЕЛИХИН                  ЭЛЬДИГАН      1  Aug 17, 00:08  Aug 17, 00:54  200200060355\n",
      " 200200138905                  ЭЛЬДИГАН                       КУН      1  Aug 17, 00:54  Aug 17, 02:00  200200060355\n",
      " 200200138905                       КУН                   ГУРСКОЕ      1  Aug 17, 02:00  Aug 17, 02:40  200200060355\n",
      " 200200138905                   ГУРСКОЕ                      ОУНЭ      1  Aug 17, 02:40  Aug 17, 04:52  200200060355\n",
      " 200200138905                      ОУНЭ              КУЗНЕЦОВСКИЙ      1  Aug 17, 04:52  Aug 17, 05:25  200200060355\n",
      " 200200138905              КУЗНЕЦОВСКИЙ                     СОЛЛУ      1  Aug 17, 05:25  Aug 17, 05:38  200200060355\n",
      " 200200138905                     СОЛЛУ              ВЫСОКОГОРНАЯ      1  Aug 17, 05:38  Aug 17, 05:50  200200060355\n",
      " 200200138905              ВЫСОКОГОРНАЯ              ВЫСОКОГОРНАЯ      4  Aug 17, 06:20  Aug 17, 10:45            -1\n",
      " 200200138905              ВЫСОКОГОРНАЯ              ВЫСОКОГОРНАЯ      2  Aug 17, 12:04  Aug 17, 13:34            -1\n",
      " 200200138905              ВЫСОКОГОРНАЯ           БЛОКПОСТ 197 КМ      1  Aug 17, 13:34  Aug 17, 14:08  200200067723\n",
      " 200200138905           БЛОКПОСТ 197 КМ                      ОУНЭ      1  Aug 17, 14:08  Aug 17, 14:38  200200067723\n",
      " 200200138905                      ОУНЭ                   ГУРСКОЕ      1  Aug 17, 14:38  Aug 17, 17:00  200200067723\n",
      " 200200138905                   ГУРСКОЕ                       КУН      1  Aug 17, 17:00  Aug 17, 17:52  200200067723\n",
      " 200200138905                       КУН                  ЭЛЬДИГАН      1  Aug 17, 17:52  Aug 17, 19:15  200200067723\n",
      " 200200138905                  ЭЛЬДИГАН                   СЕЛИХИН      1  Aug 17, 19:15  Aug 17, 19:27  200200067723\n",
      " 200200138905                   СЕЛИХИН  КОМСОМОЛЬСК-НА-АМУРЕ-...      1  Aug 17, 19:27  Aug 17, 21:35  200200067723\n",
      "\n",
      "Бригада 200200163533:\n",
      "         team depot_st_name   depot_time_f  return_time_f state          loco     loc_name\n",
      " 200200163533      АЧИНСК I  Aug 15, 02:00  Aug 16, 04:00     6  200200071264  ЛЕСОСИБИРСК\n",
      "         team st_from_name   st_to_name  state   time_start_f     time_end_f          loco\n",
      " 200200163533  ЛЕСОСИБИРСК  ЛЕСОСИБИРСК      2  Aug 16, 04:00  Aug 16, 05:00            -1\n",
      " 200200163533  ЛЕСОСИБИРСК    АБАЛАКОВО      1  Aug 16, 22:30  Aug 16, 23:15  200200086237\n",
      " 200200163533    АБАЛАКОВО     СУРИКОВО      1  Aug 17, 01:40  Aug 17, 05:55  200200071264\n",
      " 200200163533     СУРИКОВО     ТИМОНИНО      1  Aug 17, 05:55  Aug 17, 08:00  200200071264\n",
      " 200200163533     ТИМОНИНО     АЧИНСК I      1  Aug 17, 08:00  Aug 17, 08:16  200200071264\n",
      "\n"
     ]
    }
   ],
   "source": [
    "team_ids = team_trips.loc[team_trips.overtime > 2].sort_values('overtime', ascending=False).team.values[:3]\n",
    "#team_id = '777700001868'\n",
    "cols = ['team', 'st_from_name', 'st_to_name', 'state', 'time_start_f', 'time_end_f', 'loco']\n",
    "team_info['depot_time_f'] = team_info.depot_time.apply(nice_time)\n",
    "team_info['return_time_f'] = team_info.return_time.apply(nice_time)\n",
    "team_info['depot_st_name'] = team_info.depot_st.map(st_names.name)\n",
    "add_header('Примеры планов бригад с переработками:')\n",
    "for team_id in team_ids:\n",
    "    add_line('Бригада %s:' % team_id)\n",
    "    add_line(team_info[team_info.team == team_id][['team', 'depot_st_name', 'depot_time_f', 'return_time_f', 'state', 'loco', 'loc_name']])\n",
    "    add_line(team_plan[team_plan.team == team_id][cols])\n",
    "    add_line('')"
   ]
  },
  {
   "cell_type": "code",
   "execution_count": 735,
   "metadata": {
    "collapsed": false
   },
   "outputs": [
    {
     "data": {
      "image/png": "[encoded data removed]",
      "text/plain": [
       "<matplotlib.figure.Figure at 0x1ff5abf8ba8>"
      ]
     },
     "metadata": {},
     "output_type": "display_data"
    }
   ],
   "source": [
    "fig = plt.figure(figsize=(8, 3))\n",
    "sns.set(style='whitegrid', context='notebook')\n",
    "to_hist = team_trips.loc[team_trips.overtime > 0].overtime\n",
    "sns.kdeplot(to_hist, shade=True)\n",
    "title = '''Бригады с переработкой\n",
    "(среднее время переработки %.2f ч., медиана %.2f ч.)\n",
    "(всего %d бригад с переработкой более 2 часов)''' % \\\n",
    "            (to_hist.mean(), to_hist.median(), len(team_trips.loc[team_trips.overtime > 2].index))\n",
    "plt.title(title)\n",
    "plt.xlabel('Переработка (час)')\n",
    "filename = 'team_overwork.png'\n",
    "fig.savefig(REPORT_FOLDER + filename, bbox_inches='tight')\n",
    "add_image(filename)"
   ]
  },
  {
   "cell_type": "markdown",
   "metadata": {},
   "source": [
    "<a id='leaps'></a>\n",
    "## Скачки по станциям на маршруте бригад [ToC](#toc)\n",
    "\n",
    "Проверяется, что каждый следующий участок на маршруте бригады начинается на той же станции, на которой закончился предыдущий.\n",
    "\n",
    "**TODO**: учесть узловые станции. В системе есть понятие \"узловых станций\" - это несколько станций, объединенных в один узел. Узлы передаются в планировщик сообщениями `+linked_station`. Считается, что если бригада завершила работу на одной из станций узла, то она может без поезда или пассажирской нитки переместиться на другую станцию узла (считается, что эти станции находятся в плюс-минус пешей доступности). Поэтому запускать данный тест \"в лоб\" будет ошибкой."
   ]
  },
  {
   "cell_type": "code",
   "execution_count": 736,
   "metadata": {
    "collapsed": true
   },
   "outputs": [],
   "source": [
    "add_header('Скачки по станциям на маршруте бригад', h=2, p=False)"
   ]
  },
  {
   "cell_type": "markdown",
   "metadata": {},
   "source": [
    "### Скачки внутри планируемого маршрута бригад"
   ]
  },
  {
   "cell_type": "code",
   "execution_count": 737,
   "metadata": {
    "collapsed": false
   },
   "outputs": [
    {
     "name": "stdout",
     "output_type": "stream",
     "text": [
      "\n",
      "Всего бригад, у которых есть скачки на маршруте: 1127\n",
      "Всего скачков на маршруте бригад: 1184 (показаны первые 10):\n",
      "         team         st_from_name           st_to_name              next_st   time_start_f     time_end_f  state state_info\n",
      " 200200105777  ИРКУТСК-СОРТИРОВ...  ИРКУТСК-СОРТИРОВ...            ЧЕРЕМХОВО  Aug 16, 11:20  Aug 16, 13:14      2          1\n",
      " 200200105777               КУЙТУН                 АЗЕЙ                ТУЛУН  Aug 16, 23:47  Aug 17, 00:49      1          1\n",
      " 200200164073  КРАСНОЯРСК-ВОСТО...  КРАСНОЯРСК-ВОСТО...                  УЯР  Aug 16, 15:05  Aug 16, 16:01      2          1\n",
      " 200200225263          НОВЫЙ УРГАЛ          НОВЫЙ УРГАЛ               СОЛОНИ  Aug 16, 15:25  Aug 16, 17:25      2          1\n",
      " 200200259711               ЮКТАЛИ               ЮКТАЛИ                ЛОПЧА  Aug 16, 11:48  Aug 16, 15:37      2          1\n",
      " 200200225278          НОВЫЙ УРГАЛ          НОВЫЙ УРГАЛ             ЧЕГДОМЫН  Aug 16, 13:00  Aug 16, 15:00      2          1\n",
      " 200200259671             УЛАН-УДЭ             УЛАН-УДЭ              МЫСОВАЯ  Aug 16, 08:50  Aug 16, 09:36      2          1\n",
      " 200200233916  КРАСНОЯРСК-ВОСТО...  КРАСНОЯРСК-ВОСТО...                  УЯР  Aug 16, 12:20  Aug 16, 13:16      2          1\n",
      " 200200251140  ИРКУТСК-СОРТИРОВ...  ИРКУТСК-СОРТИРОВ...            СУХОВСКАЯ  Aug 16, 15:00  Aug 16, 16:54      2          5\n",
      " 200200136435           СЛЮДЯНКА I           СЛЮДЯНКА I          БОЛЬШОЙ ЛУГ  Aug 16, 15:20  Aug 16, 15:59      2          6\n",
      " 200200127635            КАРЫМСКАЯ            КАРЫМСКАЯ           АДРИАНОВКА  Aug 16, 16:10  Aug 16, 18:15      2          1\n",
      " 200200259630                 ЛЕНА                 ЛЕНА  КОРШУНИХА-АНГАРСКАЯ  Aug 16, 13:48  Aug 16, 15:36      2          5\n",
      " 200200164027            КАРЫМСКАЯ            КАРЫМСКАЯ       ШИЛКА-ТОВАРНАЯ  Aug 16, 10:50  Aug 16, 12:55      2          9\n",
      " 200200225165            БЕЛОГОРСК            БЕЛОГОРСК         БЕЛОГОРСК II  Aug 17, 02:59  Aug 17, 03:40      2          3\n",
      " 200200121218  КОМСОМОЛЬСК-НА-А...  КОМСОМОЛЬСК-НА-А...                МЫЛКИ  Aug 16, 00:00  Aug 16, 02:00      2          1\n",
      " 220208688052                 ЗИМА                 ЗИМА               ЗАЛАРИ  Aug 16, 16:00  Aug 16, 16:40      2          1\n",
      " 200200242603              ОБЛУЧЬЕ              ОБЛУЧЬЕ          ИЗВЕСТКОВАЯ  Aug 16, 05:13  Aug 16, 05:53      2          1\n",
      " 200200181415                 ЗИМА                 ЗИМА           КАСЬЯНОВКА  Aug 16, 15:25  Aug 16, 16:05      2          1\n",
      " 200200224070         БЕЛОГОРСК II            БЕЛОГОРСК         БЕЛОГОРСК II  Aug 16, 20:45  Aug 16, 20:56      1          9\n",
      " 200200242595             УЛАН-УДЭ             УЛАН-УДЭ     ПЕТРОВСКИЙ ЗАВОД  Aug 16, 08:40  Aug 16, 09:26      2          1\n",
      "\n",
      "Станции, на которых наблюдаются скачки (первые 5):\n",
      "БЕЛОГОРСК       82\n",
      "БЕЛОГОРСК II    57\n",
      "МОГОЧА          56\n",
      "УЛАН-УДЭ        47\n",
      "ОБЛУЧЬЕ         42\n",
      "\n",
      "Маршрут бригады 200200105777:\n",
      "         team         st_from_name           st_to_name   time_start_f     time_end_f  state          loco state_info\n",
      " 200200105777  ИРКУТСК-СОРТИРОВ...  ИРКУТСК-СОРТИРОВ...  Aug 16, 11:20  Aug 16, 13:14      2            -1          1\n",
      " 200200105777            ЧЕРЕМХОВО               ЗАЛАРИ  Aug 16, 15:21  Aug 16, 16:31      1  200200088747          1\n",
      " 200200105777               ЗАЛАРИ                 ЗИМА  Aug 16, 16:31  Aug 16, 17:32      1  200200088747          1\n",
      " 200200105777                 ЗИМА                 ЗИМА  Aug 16, 18:02  Aug 16, 21:08      4            -1          1\n",
      " 200200105777                 ЗИМА                 ЗИМА  Aug 16, 21:48  Aug 16, 22:28      2            -1          1\n",
      " 200200105777                 ЗИМА              ПЕРЕВОЗ  Aug 16, 22:28  Aug 16, 22:58      1  200200096438          1\n",
      " 200200105777              ПЕРЕВОЗ               КУЙТУН  Aug 16, 22:58  Aug 16, 23:47      1  200200096438          1\n",
      " 200200105777               КУЙТУН                 АЗЕЙ  Aug 16, 23:47  Aug 17, 00:49      1  200200096438          1\n",
      " 200200105777                ТУЛУН               УДА II  Aug 17, 05:15  Aug 17, 07:02      1  200200063979          1\n",
      " 200200105777               УДА II          НИЖНЕУДИНСК  Aug 17, 07:02  Aug 17, 07:14      1  200200063979          1\n",
      " 200200105777          НИЖНЕУДИНСК               УДА II  Aug 17, 08:26  Aug 17, 08:38      0            -1          1\n",
      " 200200105777               УДА II                ТУЛУН  Aug 17, 08:38  Aug 17, 10:01      0            -1          1\n",
      " 200200105777                ТУЛУН                 АЗЕЙ  Aug 17, 10:03  Aug 17, 10:24      0            -1          1\n",
      " 200200105777                 АЗЕЙ               КУЙТУН  Aug 17, 10:24  Aug 17, 11:06      0            -1          1\n",
      " 200200105777               КУЙТУН              ПЕРЕВОЗ  Aug 17, 11:06  Aug 17, 11:43      0            -1          1\n",
      " 200200105777              ПЕРЕВОЗ                 ЗИМА  Aug 17, 11:43  Aug 17, 11:56      0            -1          1\n",
      " 200200105777                 ЗИМА               ЗАЛАРИ  Aug 17, 12:26  Aug 17, 13:11      0            -1          1\n",
      " 200200105777               ЗАЛАРИ            ЧЕРЕМХОВО  Aug 17, 13:11  Aug 17, 14:02      0            -1          1\n",
      " 200200105777            ЧЕРЕМХОВО           КАСЬЯНОВКА  Aug 17, 14:02  Aug 17, 14:13      0            -1          1\n",
      " 200200105777           КАСЬЯНОВКА               МАЛЬТА  Aug 17, 14:13  Aug 17, 14:41      0            -1          1\n",
      " 200200105777               МАЛЬТА                КИТОЙ  Aug 17, 14:41  Aug 17, 15:04      0            -1          1\n",
      " 200200105777                КИТОЙ              АНГАРСК  Aug 17, 15:04  Aug 17, 15:11      0            -1          1\n",
      " 200200105777              АНГАРСК            СУХОВСКАЯ  Aug 17, 15:13  Aug 17, 15:20      0            -1          1\n",
      " 200200105777            СУХОВСКАЯ                МЕГЕТ  Aug 17, 15:20  Aug 17, 15:29      0            -1          1\n",
      " 200200105777                МЕГЕТ           БАТАРЕЙНАЯ  Aug 17, 15:29  Aug 17, 15:35      0            -1          1\n",
      " 200200105777           БАТАРЕЙНАЯ  ИРКУТСК-СОРТИРОВ...  Aug 17, 15:35  Aug 17, 15:44      0            -1          1\n"
     ]
    }
   ],
   "source": [
    "pd.set_option('display.max_colwidth', 20)\n",
    "team_cols = ['team', 'st_from_name', 'st_to_name', 'next_st', 'time_start_f', 'time_end_f', 'state', 'state_info']\n",
    "team_plan['is_end'] = team_plan.team != team_plan.team.shift(-1)\n",
    "team_plan['next_st'] = team_plan.st_from_name.shift(-1)\n",
    "team_leaps = team_plan.loc[(team_plan.is_end == False) \n",
    "                           & (team_plan.st_to_name != team_plan.next_st)\n",
    "                           & (team_plan.st_to_name.notnull())\n",
    "                           & (team_plan.next_st.notnull()), team_cols]\n",
    "team_leaps_n = len(team_leaps.team.drop_duplicates().index)\n",
    "add_header('\\nВсего бригад, у которых есть скачки на маршруте: %d' % team_leaps_n)\n",
    "add_header('Всего скачков на маршруте бригад: %d (показаны первые 10):' % len(team_leaps.index))\n",
    "add_line(team_leaps.head(20))\n",
    "\n",
    "add_header('\\nСтанции, на которых наблюдаются скачки (первые 5):')\n",
    "add_line(team_leaps.st_to_name.value_counts().head())\n",
    "\n",
    "# Пример маршрута такой бригады (подставить id из предыдущего вывода):\n",
    "team_cols2 = ['team', 'st_from_name', 'st_to_name', 'time_start_f', 'time_end_f', 'state', 'loco', 'state_info']\n",
    "#team_id = '200200164017'\n",
    "if not team_leaps.empty:\n",
    "    team_id = team_leaps.iloc[0].team\n",
    "    add_header('\\nМаршрут бригады %s:' % team_id)\n",
    "    add_line(team_plan.loc[team_plan.team == team_id, team_cols2])"
   ]
  },
  {
   "cell_type": "markdown",
   "metadata": {},
   "source": [
    "### Скачки между станцией исходного местоположения и первой станцией планирования"
   ]
  },
  {
   "cell_type": "code",
   "execution_count": 738,
   "metadata": {
    "collapsed": false
   },
   "outputs": [],
   "source": [
    "team_info.loc[team_info.st_from != '-1', 'first_station'] = team_info.loc[team_info.st_from != '-1', 'st_from']\n",
    "team_info.loc[team_info.st_from == '-1', 'first_station'] = team_info.loc[team_info.st_from == '-1', 'oper_location']\n",
    "team_info.loc[team_info.st_to != '-1', 'next_station'] = team_info.loc[team_info.st_to != '-1', 'st_to']\n",
    "team_info[['team', 'oper_location', 'st_from', 'first_station', 'next_station']]\n",
    "team_plan['first_station'] = team_plan.team.map(team_info.drop_duplicates('team').set_index('team').first_station)\n",
    "team_plan['next_station'] = team_plan.team.map(team_info.drop_duplicates('team').set_index('team').next_station)\n",
    "team_plan['first_st_name'] = team_plan.first_station.map(st_names.name)\n",
    "team_plan['next_st_name'] = team_plan.next_station.map(st_names.name)\n",
    "team_starts = team_plan[team_plan.state.isin([0, 1])].drop_duplicates('team').copy(deep=True)\n",
    "start_leaps = team_starts[((team_starts.first_station.isnull() == False) & (team_starts.st_from != team_starts.first_station)) | \n",
    "            ((team_starts.next_station.isnull() == False) & (team_starts.st_to != team_starts.next_station))]"
   ]
  },
  {
   "cell_type": "code",
   "execution_count": 739,
   "metadata": {
    "collapsed": false
   },
   "outputs": [
    {
     "name": "stdout",
     "output_type": "stream",
     "text": [
      "Распределение скачков бригад по станциям местоположения (показаны первые 5):\n",
      "БЕЛОГОРСК                50\n",
      "ХАБАРОВСК I              10\n",
      "УССУРИЙСК                 5\n",
      "КРАСНОЯРСК-ВОСТОЧНЫЙ      5\n",
      "ИРКУТСК-СОРТИРОВОЧНЫЙ     5\n",
      "\n",
      "Бригады со скачками между станцией местоположения и первой станцией в маршруте (показаны первые 10):\n",
      "         team         st_from_name      st_to_name          loco        first_st_name next_st_name     loco_info\n",
      " 200200225165         БЕЛОГОРСК II       БЕЛОГОРСК  200200096320            БЕЛОГОРСК          NaN            -1\n",
      " 200200225137  ИРКУТСК-СОРТИРОВ...      БАТАРЕЙНАЯ  200200056525  ИРКУТСК-ПАССАЖИР...          NaN  200200096452\n",
      " 200200151725         БЕЛОГОРСК II         ЗАВИТАЯ  200200106714            БЕЛОГОРСК          NaN            -1\n",
      " 200200105527              УГЛОВАЯ  АМУРСКИЙ ЗАЛИВ  200200075849  АРТЕМ-ПРИМОРСКИЙ...          NaN  200200075849\n",
      " 200200198757         БЕЛОГОРСК II       БЕЛОГОРСК  200200079907            БЕЛОГОРСК          NaN            -1\n",
      " 200200223833         ХАБАРОВСК II     ХАБАРОВСК I  200200105350          ХАБАРОВСК I          NaN            -1\n",
      " 200200206588         БЕЛОГОРСК II       БЕЛОГОРСК  200200094415            БЕЛОГОРСК          NaN            -1\n",
      " 200200112254         БЕЛОГОРСК II       БЕЛОГОРСК  200200073832            БЕЛОГОРСК          NaN            -1\n",
      " 200200223776         БЕЛОГОРСК II         ЗАВИТАЯ  200200098861            БЕЛОГОРСК          NaN            -1\n",
      " 200200128205         ХАБАРОВСК II     ХАБАРОВСК I  200200065702          ХАБАРОВСК I          NaN  220208709593\n"
     ]
    }
   ],
   "source": [
    "cols = ['team', 'st_from_name', 'st_to_name', 'loco', 'first_st_name', 'next_st_name', 'loco_info']\n",
    "first_st_leaps = team_starts[(team_starts.first_station.isnull() == False) & (team_starts.next_station.isnull())\n",
    "                             & (team_starts.st_from != team_starts.first_station)]\n",
    "add_header('Распределение скачков бригад по станциям местоположения (показаны первые 5):')\n",
    "add_line(first_st_leaps.first_st_name.value_counts().head())\n",
    "add_header('\\nБригады со скачками между станцией местоположения и первой станцией в маршруте (показаны первые 10):')\n",
    "add_line(first_st_leaps[cols].head(10))"
   ]
  },
  {
   "cell_type": "code",
   "execution_count": 740,
   "metadata": {
    "collapsed": false
   },
   "outputs": [
    {
     "name": "stdout",
     "output_type": "stream",
     "text": [
      "Распределение скачков бригад по станциям направления (показаны первые 5):\n",
      "Series([], )\n",
      "\n",
      "Бригады со скачками между станцией направления и первой станцией направления в маршруте (показаны первые 10):\n",
      "Empty DataFrame\n",
      "Columns: [team, st_from_name, st_to_name, loco, first_st_name, next_st_name, loco_info, train]\n",
      "Index: []\n"
     ]
    }
   ],
   "source": [
    "cols = ['team', 'st_from_name', 'st_to_name', 'loco', 'first_st_name', 'next_st_name', 'loco_info', 'train']\n",
    "loco_info['train_number'] = loco_info.train.map(train_info.drop_duplicates('train').set_index('train').number)\n",
    "team_starts['train'] = team_starts.loco_info.map(loco_info.drop_duplicates('loco').set_index('loco').train_number)\n",
    "next_st_leaps = team_starts[(team_starts.next_station.isnull() == False) \n",
    "                            & (team_starts.st_to != team_starts.next_station)]\n",
    "add_header('Распределение скачков бригад по станциям направления (показаны первые 5):')\n",
    "add_line(next_st_leaps.next_st_name.value_counts())\n",
    "add_header('\\nБригады со скачками между станцией направления и первой станцией направления в маршруте (показаны первые 10):')\n",
    "add_line(next_st_leaps[cols].head(10))"
   ]
  },
  {
   "cell_type": "markdown",
   "metadata": {},
   "source": [
    "<a id='rest_time'></a>\n",
    "## Проверка времен отдыха бригад [ToC](#toc)\n",
    "\n",
    "Проверяются две вещи:\n",
    "\n",
    "1. Время отдыха бригад не меньше минимально допустимого времени отдыха в 3 часа.\n",
    "2. Время отдыха бригад не превышает максимально допустимое: максимально бригада может отдыхать столько же, сколько работала в последней поездке до этого (от времени явки до времени ухода на отдых).\n",
    "\n",
    "Предварительно делается отсев бригад, для которых было передано слишком раннее время последней явки - для таких бригад последнее рабочее время будет очень большим - и отдых, следовательно, тоже."
   ]
  },
  {
   "cell_type": "code",
   "execution_count": 741,
   "metadata": {
    "collapsed": true
   },
   "outputs": [],
   "source": [
    "add_header('Проверка времен отдыха бригад', h=2, p=False)"
   ]
  },
  {
   "cell_type": "code",
   "execution_count": 742,
   "metadata": {
    "collapsed": false
   },
   "outputs": [
    {
     "name": "stdout",
     "output_type": "stream",
     "text": [
      "Время начала планирования: Aug 16, 19:31\n",
      "Бригад с аномально большим временем отдыха: 0 (показаны первые 10):\n",
      "Минимальное время отдыха (3 часа) нарушено у 4 бригад (показаны первые 10):\n",
      "         team st_from_name st_to_name   time_start_f     time_end_f  time  state\n",
      " 200200189022     МАРИИНСК   МАРИИНСК  Aug 16, 18:20  Aug 16, 19:31  1.19      4\n",
      " 200200120253     МАРИИНСК   МАРИИНСК  Aug 16, 18:22  Aug 16, 19:31  1.16      4\n",
      " 200200137171     МАРИИНСК   МАРИИНСК  Aug 16, 18:26  Aug 16, 19:31  1.09      4\n",
      " 200200150885     МАРИИНСК   МАРИИНСК  Aug 16, 18:25  Aug 16, 19:31  1.11      4\n"
     ]
    }
   ],
   "source": [
    "add_line('Время начала планирования: %s' % nice_time(current_time))\n",
    "team_cols = ['team', 'st_from_name', 'st_to_name', 'time_start_f', 'time_end_f', 'time', 'state', 'loco']\n",
    "team_plan['time'] = np.round(((team_plan.time_end - team_plan.time_start) / 3600), 2)\n",
    "rest_outliers = team_plan[(team_plan.state == 4) & (team_plan.time > 1000)]\n",
    "add_header('Бригад с аномально большим временем отдыха: %d (показаны первые 10):' % len(rest_outliers.index))\n",
    "out_cols = ['team', 'st_from_name', 'st_to_name', 'time_start_f', 'time_end_f', 'time', 'state']\n",
    "if not rest_outliers.empty:\n",
    "    add_line(rest_outliers[out_cols].head(10))\n",
    "\n",
    "rest_check = team_plan[(team_plan.state == 4) & (team_plan.time < 1000)]\n",
    "\n",
    "min_rest = rest_check.time.min()\n",
    "if min_rest < 3:\n",
    "    add_header('Минимальное время отдыха (3 часа) нарушено у %d бригад (показаны первые 10):' \\\n",
    "          % len(rest_check[rest_check.time < 3].index))\n",
    "    add_line(rest_check[rest_check.time < 3][out_cols].head(10))    \n",
    "else:\n",
    "    add_header('Минимальное время отдыха бригад: %.2f часа' % (min_rest))"
   ]
  },
  {
   "cell_type": "markdown",
   "metadata": {},
   "source": [
    "#### Отсев бригад со слишком ранним временем явки"
   ]
  },
  {
   "cell_type": "code",
   "execution_count": 743,
   "metadata": {
    "collapsed": false
   },
   "outputs": [
    {
     "name": "stdout",
     "output_type": "stream",
     "text": [
      "Всего 523 бригад со слишком большим отдыхом и слишком ранним временем явки (сутки назад и более). Примеры:\n",
      "         team st_from_name   st_to_name   time_start_f     time_end_f   time  state\n",
      " 200200255297       РУЖИНО       РУЖИНО  Aug 16, 07:30  Aug 17, 17:25  33.92      4\n",
      " 200200157562       РУЖИНО       РУЖИНО  Aug 16, 07:40  Aug 17, 17:25  33.75      4\n",
      " 200200170991     САЯНСКАЯ     САЯНСКАЯ  Aug 16, 05:00  Aug 17, 14:44  33.73      4\n",
      " 200200245840  СМОЛЯНИНОВО  СМОЛЯНИНОВО  Aug 16, 04:59  Aug 17, 14:34  33.58      4\n",
      " 200200134400     САЯНСКАЯ     САЯНСКАЯ  Aug 16, 07:30  Aug 17, 14:44  31.23      4\n",
      " 200200101112     САЯНСКАЯ     САЯНСКАЯ  Aug 16, 07:41  Aug 17, 14:44  31.05      4\n",
      " 200200269806     САЯНСКАЯ     САЯНСКАЯ  Aug 16, 09:00  Aug 17, 14:44  29.73      4\n",
      " 200200134355     САЯНСКАЯ     САЯНСКАЯ  Aug 16, 10:57  Aug 17, 14:44  27.78      4\n",
      " 200200258371  ИЗВЕСТКОВАЯ  ИЗВЕСТКОВАЯ  Aug 16, 11:59  Aug 17, 14:57  26.97      4\n",
      " 200200142712     САЯНСКАЯ     САЯНСКАЯ  Aug 16, 12:52  Aug 17, 14:44  25.87      4\n"
     ]
    }
   ],
   "source": [
    "rest_old_presence = rest_check[(rest_check.info_presence < current_time - 12 * 3600) & (rest_check.state_info != '3')]\n",
    "add_header('Всего %d бригад со слишком большим отдыхом и слишком ранним временем явки (сутки назад и более). Примеры:' \n",
    "           % rest_old_presence.team.count())\n",
    "add_line(rest_old_presence.sort_values('time', ascending=False)[out_cols].head(10))"
   ]
  },
  {
   "cell_type": "markdown",
   "metadata": {},
   "source": [
    "#### Бригады со слишком большим отдыхом"
   ]
  },
  {
   "cell_type": "code",
   "execution_count": 744,
   "metadata": {
    "collapsed": false
   },
   "outputs": [
    {
     "name": "stdout",
     "output_type": "stream",
     "text": [
      "Всего 89 бригад с большим временем отдыха (больше 10 часов) (показаны первые 10):\n",
      "         team         st_from_name           st_to_name   time_start_f     time_end_f   time  state\n",
      " 200200139189               РУЖИНО               РУЖИНО  Aug 16, 18:10  Aug 17, 17:25  23.25      4\n",
      " 200200137364               ЮКТАЛИ               ЮКТАЛИ  Aug 16, 17:24  Aug 17, 15:35  22.18      4\n",
      " 200200143194                УРУША                УРУША  Aug 16, 13:35  Aug 17, 10:41  21.10      4\n",
      " 200200250585          ИЗВЕСТКОВАЯ          ИЗВЕСТКОВАЯ  Aug 16, 17:53  Aug 17, 14:57  21.07      4\n",
      " 200200087522            ОЛОВЯННАЯ            ОЛОВЯННАЯ  Aug 16, 16:10  Aug 17, 12:58  20.80      4\n",
      " 200200248092             ГВОЗДЕВО             ГВОЗДЕВО  Aug 16, 17:30  Aug 17, 13:03  19.55      4\n",
      " 200200269056          ВЕРХНЕЗЕЙСК          ВЕРХНЕЗЕЙСК  Aug 17, 06:11  Aug 18, 01:19  19.14      4\n",
      " 200252276084          ВЕРХНЕЗЕЙСК          ВЕРХНЕЗЕЙСК  Aug 17, 06:19  Aug 18, 01:19  19.00      4\n",
      " 200200254912  ЧЕРНЫШЕВСК-ЗАБАЙ...  ЧЕРНЫШЕВСК-ЗАБАЙ...  Aug 16, 18:40  Aug 17, 13:32  18.87      4\n",
      " 200200261518          ВЕРХНЕЗЕЙСК          ВЕРХНЕЗЕЙСК  Aug 17, 06:30  Aug 18, 01:19  18.82      4\n"
     ]
    }
   ],
   "source": [
    "long_rest = rest_check[(rest_check.time > 10) & (rest_check.team.isin(rest_old_presence.team) == False)]\n",
    "add_header('Всего %d бригад с большим временем отдыха (больше 10 часов) (показаны первые 10):' % len(long_rest.index))\n",
    "add_line(long_rest.sort_values('time', ascending=False)[out_cols].head(10))"
   ]
  },
  {
   "cell_type": "code",
   "execution_count": 745,
   "metadata": {
    "collapsed": false
   },
   "outputs": [
    {
     "data": {
      "image/png": "[encoded data removed]",
      "text/plain": [
       "<matplotlib.figure.Figure at 0x1ff5ac070f0>"
      ]
     },
     "metadata": {},
     "output_type": "display_data"
    }
   ],
   "source": [
    "rest_show = rest_check[(rest_check.team.isin(rest_old_presence.team) == False)]\n",
    "fig = plt.figure(figsize=(8, 3))\n",
    "title = 'Распределение бригад по временам на отдых\\n(медианное время отдыха = %.2f час)' % (rest_show.time.median())\n",
    "sns.kdeplot(rest_show.time, shade=True)\n",
    "plt.title(title)\n",
    "plt.xlabel('Время отдыха (час)')\n",
    "filename = 'team_rest_time.png'\n",
    "fig.savefig(REPORT_FOLDER + filename, bbox_inches='tight')\n",
    "add_image(filename)"
   ]
  },
  {
   "cell_type": "markdown",
   "metadata": {},
   "source": [
    "#### Бригады с недостаточным отдыхом"
   ]
  },
  {
   "cell_type": "code",
   "execution_count": 746,
   "metadata": {
    "collapsed": false
   },
   "outputs": [],
   "source": [
    "rest = team_plan[team_plan.state == 4][['team', 'time_start', 'time']]\n",
    "team_trips['rest_start_time'] = team_trips.team.map(rest.set_index('team').time_start)\n",
    "team_trips['rest_start_time_f'] = team_trips.rest_start_time.apply(nice_time)\n",
    "team_trips['rest_time'] = team_trips.team.map(rest.set_index('team').time)\n",
    "team_trips['min_rest_time'] = np.round((team_trips.rest_start_time - team_trips.curr_presence) / (2 * 3600), 2)\n",
    "team_trips['underrest'] = team_trips.min_rest_time - team_trips.rest_time"
   ]
  },
  {
   "cell_type": "code",
   "execution_count": 747,
   "metadata": {
    "collapsed": true
   },
   "outputs": [],
   "source": [
    "# Для подсчета требуемого отдыха удаляем поездки, которые связаны с одной явкой бригады; \n",
    "# для каждой явки оставляем только последнюю поездку, чтобы правильно взять полное рабочее время.\n",
    "team_trips_cut = team_trips.sort_values(['team', 'curr_presence', 'work_time'], ascending=[True, True, False])\\\n",
    "                            .drop_duplicates(subset=['team', 'curr_presence'])"
   ]
  },
  {
   "cell_type": "code",
   "execution_count": 748,
   "metadata": {
    "collapsed": false
   },
   "outputs": [
    {
     "name": "stdout",
     "output_type": "stream",
     "text": [
      "Всего 960 бригад с недостаточным отдыхом:\n",
      "Распределение по типу бригад:\n",
      "Реальная    711\n",
      "Фейковая    249\n"
     ]
    }
   ],
   "source": [
    "cols = ['team', 'curr_presence_norm', 'time_start_f', 'rest_start_time_f', \n",
    "        'work_time', 'min_rest_time', 'rest_time', 'underrest']\n",
    "underrest = team_trips_cut[(team_trips_cut.time_start < team_trips_cut.rest_start_time) & (team_trips_cut.underrest > 0)]\n",
    "underrest_n = underrest.team.drop_duplicates().count()\n",
    "add_header('Всего %d бригад с недостаточным отдыхом:' % underrest_n)\n",
    "add_header('Распределение по типу бригад:')\n",
    "add_line(underrest.team_type.value_counts())"
   ]
  },
  {
   "cell_type": "code",
   "execution_count": 749,
   "metadata": {
    "collapsed": false
   },
   "outputs": [
    {
     "name": "stdout",
     "output_type": "stream",
     "text": [
      "Всего 855 бригад без переработки с недостаточным отдыхом.\n",
      "\n",
      "Распределение по типу бригад:\n",
      "Реальная    613\n",
      "Фейковая    242\n",
      "\n",
      "Примеры бригад без переработки с недостаточным отдыхом:\n",
      "         team curr_presence_norm   time_start_f rest_start_time_f  work_time  min_rest_time  rest_time  underrest\n",
      " 200200153030      Aug 16, 15:00  Aug 16, 22:38     Aug 17, 09:08       8.08           9.07       5.00       4.07\n",
      " 200200238930      Aug 16, 13:23  Aug 16, 22:25     Aug 17, 00:40      10.80           5.65       3.00       2.65\n",
      " 200200276803      Aug 16, 14:00  Aug 17, 00:30     Aug 17, 01:18      10.80           5.65       3.00       2.65\n",
      " 200200093729      Aug 16, 13:00  Aug 16, 21:18     Aug 16, 23:51      10.35           5.43       3.00       2.43\n",
      " 200200224052      Aug 16, 15:30  Aug 16, 19:50     Aug 17, 02:58      10.98           5.74       3.32       2.42\n",
      " 200200279088      Aug 16, 12:45  Aug 16, 19:35     Aug 16, 23:12       9.95           5.23       3.00       2.23\n",
      " 220205451355      Aug 16, 17:50  Aug 16, 21:46     Aug 17, 04:30      10.18           5.34       3.12       2.22\n",
      " 200200117277      Aug 16, 14:50  Aug 16, 20:15     Aug 17, 01:12       9.87           5.18       3.00       2.18\n",
      " 200200195905      Aug 16, 14:30  Aug 16, 20:00     Aug 16, 23:59       8.98           4.74       3.00       1.74\n",
      " 200200261126      Aug 16, 20:30  Aug 17, 00:20     Aug 17, 05:54       8.89           4.69       3.00       1.69\n"
     ]
    },
    {
     "data": {
      "image/png": "[encoded data removed]",
      "text/plain": [
       "<matplotlib.figure.Figure at 0x1ff5d9bfef0>"
      ]
     },
     "metadata": {},
     "output_type": "display_data"
    }
   ],
   "source": [
    "underrest_no_overtime = underrest[underrest.work_time <= WORK_TIME_LIMIT]\n",
    "underrest_no_n = underrest_no_overtime.team.drop_duplicates().count()\n",
    "add_header('Всего %d бригад без переработки с недостаточным отдыхом.' % underrest_no_n)\n",
    "add_header('\\nРаспределение по типу бригад:')\n",
    "add_line(underrest_no_overtime.team_type.value_counts())\n",
    "add_header('\\nПримеры бригад без переработки с недостаточным отдыхом:')\n",
    "add_line(underrest_no_overtime.sort_values('underrest', ascending=False)\\\n",
    "         .head(10 if underrest_no_n > 20 else underrest_no_n)[cols])\n",
    "\n",
    "sns.set(style='whitegrid', context='notebook')\n",
    "title = 'Распределение недостаточного отдыха бригад\\n(медианное время недоотдыха = %.2f час)' \\\n",
    "            % (underrest_no_overtime.underrest.median())\n",
    "fig = plt.figure(figsize=(8, 4))\n",
    "ax = sns.distplot(underrest_no_overtime.underrest, color='b', hist=False, kde_kws={'shade':True})\n",
    "ax.set(title=title, xlabel='Недостаточный отдых, ч.')\n",
    "filename = 'team_under_rest.png'\n",
    "fig.savefig(REPORT_FOLDER + filename, bbox_inches='tight')\n",
    "add_image(filename)"
   ]
  },
  {
   "cell_type": "code",
   "execution_count": 750,
   "metadata": {
    "collapsed": false
   },
   "outputs": [
    {
     "data": {
      "text/plain": [
       "'Thu May 12 18:00:00 2016'"
      ]
     },
     "execution_count": 750,
     "metadata": {},
     "output_type": "execute_result"
    }
   ],
   "source": [
    "team_plan['loco_time'] = list(zip(team_plan.loco, team_plan.time_start))\n",
    "loco_plan['loco_time'] = list(zip(loco_plan.loco, loco_plan.time_start))\n",
    "team_plan['train'] = team_plan.loco_time.map(loco_plan.drop_duplicates('loco_time').set_index('loco_time').train)\n",
    "#print(team_plan[team_plan.team == '777700000270']\\\n",
    "#      [['team', 'st_from_name', 'st_to_name', 'time_start_f', 'time_end_f', \n",
    "#        'state', 'loco', 'train', 'time']].to_string(index=False))\n",
    "time.ctime(1463065200)"
   ]
  },
  {
   "cell_type": "markdown",
   "metadata": {},
   "source": [
    "## Проверка подвязки бригад по Иркутску\n",
    "\n",
    "Отдельно для станции Иркутск считается, сколько всего поездов проезжало через Иркутск и сколько бригад было отправлено из Иркутска (в том числе, пассажирами). Для бригад выдается распределение бригад по депо приписки."
   ]
  },
  {
   "cell_type": "code",
   "execution_count": 751,
   "metadata": {
    "collapsed": false
   },
   "outputs": [],
   "source": [
    "add_header('Анализ бригад, проезжающих через Иркутск', h=2, p=False)"
   ]
  },
  {
   "cell_type": "code",
   "execution_count": 752,
   "metadata": {
    "collapsed": false
   },
   "outputs": [
    {
     "name": "stdout",
     "output_type": "stream",
     "text": [
      "Распределение поездов через Иркутск по направлениям:\n",
      "ГОНЧАРОВО     48\n",
      "БАТАРЕЙНАЯ    33\n",
      "\n",
      "Распределение бригад, в маршруте которых есть Иркутск, по депо приписки:\n",
      "          depot_name  team percent\n",
      "                ЗИМА    71  47.02%\n",
      " ИРКУТСК-СОРТИРОВ...    68  45.03%\n",
      "          СЛЮДЯНКА I     6   3.97%\n",
      "            УЛАН-УДЭ     5   3.31%\n",
      "               ХИЛОК     1   0.66%\n"
     ]
    }
   ],
   "source": [
    "team_cols = ['team', 'st_from_name', 'st_to_name', 'time_start_f', 'state', 'loco', 'depot_name']\n",
    "team_plan['depot_name'] = team_plan.depot.map(st_names.name)\n",
    "st_name = 'ИРКУТСК-СОРТИРОВОЧНЫЙ'\n",
    "train_cols = ['train', 'number', 'st_from_name', 'st_to_name', 'time_start_f']\n",
    "train_plan['train_type'] = train_plan.train.apply(lambda x: str(x)[:1])\n",
    "add_header('Распределение поездов через Иркутск по направлениям:')\n",
    "add_line(train_plan.loc[(train_plan.st_from_name == st_name)\n",
    "              & (train_plan.time_start >= current_time) & (train_plan.train_type.isin(['2', '9']))\n",
    "              & (train_plan.time_start < current_time + 24*3600), train_cols].st_to_name.value_counts())\n",
    "\n",
    "add_header('\\nРаспределение бригад, в маршруте которых есть Иркутск, по депо приписки:')\n",
    "b = team_plan.loc[(team_plan.st_from_name == st_name) & (team_plan.state.isin([0, 1]))\n",
    "              & (team_plan.time_start >= current_time), team_cols].groupby('depot_name').team.count().to_frame()\n",
    "b['percent'] = np.round((100 * b.team / b.team.sum()), 2)\n",
    "b['percent'] = b['percent'].apply(lambda x: str(x) + '%')\n",
    "add_line(b.reset_index())"
   ]
  },
  {
   "cell_type": "markdown",
   "metadata": {},
   "source": [
    "<a id='ready_time'></a>\n",
    "## Проверка времени явки бригад [ToC](#toc)"
   ]
  },
  {
   "cell_type": "code",
   "execution_count": 753,
   "metadata": {
    "collapsed": true
   },
   "outputs": [],
   "source": [
    "add_header('Проверка корректости времен явки бригад в депо приписки во входных данных', h=2, p=False)"
   ]
  },
  {
   "cell_type": "markdown",
   "metadata": {},
   "source": [
    "1. У бригад, которые находятся на домашнем отдыхе (state = 3) передается именно время ухода на отдых. По постановке (см. раздел \"Заполнение атрибутов для входных сообщений по бригадам\") должно передаваться время ухода на отдых + 16 часов.\n",
    "2. Для бригады 200200158216 передается state=3, хотя по АСУ-Т последней операцией на 18.04 10:35 было \"прибытие на станцию Лесовозный 17.04 в 08:49\" (или, в крайнем случае, отправление с Улан-Удэ 17.04 в 07:51).\n",
    "3. Аналогично для бригады 200200225600. Впрочем, возможно, это какой-то косяк АСУ-Т. В любом случае, пункт 1 - это очевидный баг."
   ]
  },
  {
   "cell_type": "markdown",
   "metadata": {},
   "source": [
    "Общая идея:\n",
    "- если у бригад указано depot_time < rest_start_time, то эта разница не должна быть очень большой. \n",
    "- если у бригад указано depot_time < return_time, то эта разница тоже не должна быть очень большой."
   ]
  },
  {
   "cell_type": "code",
   "execution_count": 754,
   "metadata": {
    "collapsed": false
   },
   "outputs": [
    {
     "name": "stdout",
     "output_type": "stream",
     "text": [
      "Время начала планирования: Aug 16, 19:31\n",
      "Всего 385 бригад, у которых время последней явки в депо намного меньше (на 12+ часов) переданного времени начала отдыха. Примеры:\n",
      "         team      number dt_norm       rst_norm  rest_dep_delta ready_type state\n",
      " 200200260904  9606000082          Aug 16, 13:00       408706.00     return     4\n",
      " 200200213758  8805006079          Aug 16, 12:40       408705.67     return     4\n",
      " 200200114697  8877007011          Aug 16, 10:44       408703.73     return     1\n",
      " 200200112872  9406022808          Aug 16, 05:51       408698.85     return     0\n",
      " 200254430379  9601013221          Aug 16, 05:09       408698.15     return     1\n",
      " 200200128825  9406026795          Aug 15, 23:00       408692.00     return     0\n",
      " 200200169293  9406022294          Aug 15, 22:50       408691.83     return     0\n",
      " 200200132361  9406020198          Aug 15, 22:14       408691.23     return     0\n",
      " 200200251648  9406000905          Aug 15, 21:25       408690.42     return     0\n",
      " 200200184926  9409019203          Aug 15, 16:45       408685.75     return     0\n",
      "\n",
      "Всего 826 бригад, у которых время последней явки в депо намного меньше (на 18+ часов) времени явки в пункте оборота. Примеры:\n",
      "         team      number dt_norm       rst_norm  return_dep_delta ready_type state\n",
      " 200200114697  8877007011          Aug 16, 10:44         408710.50     return     1\n",
      " 200254430379  9601013221          Aug 16, 05:09         408708.50     return     1\n",
      " 200200256211  8805000366          Aug 15, 13:48         408706.67     return     9\n",
      " 200200112872  9406022808          Aug 16, 05:51         408706.00     return     0\n",
      " 200200184926  9409019203          Aug 15, 16:45         408703.82     return     0\n",
      " 200200213758  8805006079          Aug 16, 12:40         408702.67     return     4\n",
      " 200200136324  9405068850          Aug 15, 09:40         408696.67     return     9\n",
      " 200200169293  9406022294          Aug 15, 22:50         408696.50     return     0\n",
      " 200200128825  9406026795          Aug 15, 23:00         408696.50     return     0\n",
      " 200200132361  9406020198          Aug 15, 22:14         408696.50     return     0\n"
     ]
    }
   ],
   "source": [
    "add_line('Время начала планирования: %s' % (nice_time(current_time)))\n",
    "team_info['dt_norm'] = team_info.depot_time.apply(nice_time)\n",
    "team_info['rt_norm'] = team_info.return_time.apply(nice_time)\n",
    "team_info['rst_norm'] = team_info.rest_time.apply(nice_time)\n",
    "team_info['rest_dep_delta'] = np.round(((team_info.rest_time - team_info.depot_time) / 3600), 2)\n",
    "team_info['return_dep_delta'] = np.round(((team_info.return_time - team_info.depot_time) / 3600), 2)\n",
    "\n",
    "dep_less_rest = team_info[(team_info.depot_time < team_info.rest_time) & (team_info.dt_norm != -1)]\n",
    "info_cols = ['team', 'number', 'dt_norm', 'rst_norm', 'rest_dep_delta', 'ready_type', 'state']\n",
    "add_header('Всего %d бригад, у которых время последней явки в депо намного меньше (на 12+ часов) переданного времени начала отдыха. Примеры:' \n",
    "          % dep_less_rest[dep_less_rest.rest_dep_delta > 12].team.drop_duplicates().count())\n",
    "add_line(dep_less_rest[dep_less_rest.rest_dep_delta > 12][info_cols].sort_values('rest_dep_delta', ascending=False).head(10))\n",
    "\n",
    "dep_less_return = team_info[(team_info.depot_time < team_info.return_time) & (team_info.dt_norm != -1)]\n",
    "info_cols = ['team', 'number', 'dt_norm', 'rst_norm', 'return_dep_delta', 'ready_type', 'state']\n",
    "add_header('\\nВсего %d бригад, у которых время последней явки в депо намного меньше (на 18+ часов) времени явки в пункте оборота. Примеры:' \n",
    "          % dep_less_return[dep_less_return.return_dep_delta > 12].team.drop_duplicates().count())\n",
    "add_line(dep_less_return[dep_less_return.return_dep_delta > 12][info_cols].sort_values('return_dep_delta', ascending=False).head(10))"
   ]
  },
  {
   "cell_type": "markdown",
   "metadata": {},
   "source": [
    "<a id='change'></a>\n",
    "## Проверка смены бригад на корректных станциях [ToC](#toc)\n",
    "\n",
    "Тест работает в двух направлениях:\n",
    "1. Проверяется отсутствие смены бригад на станциях, где бригады обязательно должны меняться.\n",
    "2. Проверяется, что бригады вообще меняются только на станциях, где это разрешено делать. Допустимые станции перечислены в файле `mandatory/priority_team_change_stations.csv`."
   ]
  },
  {
   "cell_type": "code",
   "execution_count": 755,
   "metadata": {
    "collapsed": true
   },
   "outputs": [],
   "source": [
    "add_header('Проверка смены бригад на корректных станциях', h=2, p=False)"
   ]
  },
  {
   "cell_type": "markdown",
   "metadata": {},
   "source": [
    "### Проверка случаев проезда бригад мимо станций обязательной смены"
   ]
  },
  {
   "cell_type": "code",
   "execution_count": 756,
   "metadata": {
    "collapsed": true
   },
   "outputs": [],
   "source": [
    "add_header('Проверка проезда бригад мимо станций обязательной смены', h=3, p=False)"
   ]
  },
  {
   "cell_type": "code",
   "execution_count": 757,
   "metadata": {
    "collapsed": false,
    "scrolled": true
   },
   "outputs": [
    {
     "name": "stdout",
     "output_type": "stream",
     "text": [
      "Всего 55 случаев проезда бригад мимо станций обязательной смены\n",
      "\n",
      "Распределение по станциям (первые 5 самых частых):\n",
      "ЗИМА           26\n",
      "ОБЛУЧЬЕ        11\n",
      "РУЖИНО          5\n",
      "НОВЫЙ УОЯН      5\n",
      "СМОЛЯНИНОВО     3\n"
     ]
    }
   ],
   "source": [
    "st_team_change_full = ['КРАСНОЯРСК-ВОСТОЧНЫЙ', 'ЗИМА', 'ХИЛОК', 'МОГОЧА', 'ОБЛУЧЬЕ', 'РУЖИНО', 'СМОЛЯНИНОВО', \n",
    "                      'САЯНСКАЯ', 'ЛЕНА', 'СЕВЕРОБАЙКАЛЬСК', 'НОВЫЙ УОЯН', \n",
    "                      'НОВАЯ ЧАРА', 'ЮКТАЛИ', 'ВЕРХНЕЗЕЙСК', 'ФЕВРАЛЬСК', 'ПОСТЫШЕВО', 'ВЫСОКОГОРНАЯ', \n",
    "                      'УЖУР', 'ТЫРМА']\n",
    "                 \n",
    "cols = ['team', 'st_from_name', 'st_to_name', 'time_start_f', 'time_end_f', 'state', 'loco', 'loco_end', 'no_stop']\n",
    "team_plan['loco_end'] = team_plan.loco != team_plan.loco.shift(-1)\n",
    "team_plan['no_stop'] = team_plan.time_end == team_plan.time_start.shift(-1)\n",
    "no_stop = team_plan[(team_plan.st_to_name.isin(st_team_change_full)) & (team_plan.state == 1) \n",
    "                    & (team_plan.loco_end == False) & (team_plan.no_stop == True)]\n",
    "add_header('Всего %d случаев проезда бригад мимо станций обязательной смены' % len(no_stop.index))\n",
    "add_header('\\nРаспределение по станциям (первые 5 самых частых):')\n",
    "add_line(no_stop.st_to_name.value_counts().head())"
   ]
  },
  {
   "cell_type": "code",
   "execution_count": 758,
   "metadata": {
    "collapsed": false
   },
   "outputs": [
    {
     "name": "stdout",
     "output_type": "stream",
     "text": [
      "\n",
      "Примеры ошибочных бригад (первые 10):\n",
      "         team     st_from_name   st_to_name   time_start_f     time_end_f  state          loco loco_end no_stop\n",
      " 200200120385          ШКОТОВО  СМОЛЯНИНОВО  Aug 16, 19:12  Aug 16, 19:34      1  200200101122    False    True\n",
      " 200200126652           АРХАРА      ОБЛУЧЬЕ  Aug 16, 21:10  Aug 16, 23:26      1  200200092733    False    True\n",
      " 200200281233         ЖИПХЕГЕН        ХИЛОК  Aug 16, 23:49  Aug 17, 00:22      1  200200084026    False    True\n",
      " 777700001880  СЕВЕРОБАЙКАЛЬСК   НОВЫЙ УОЯН  Aug 17, 08:05  Aug 17, 11:13      1  200200105728    False    True\n",
      " 200200129791         ТАЛАНДЖА        ТЫРМА  Aug 17, 10:18  Aug 17, 12:11      1  200200054696    False    True\n",
      " 777700002207          ПЕРЕВОЗ         ЗИМА  Aug 17, 15:46  Aug 17, 16:02      1  200200079530    False    True\n",
      " 777700002168         ШМАКОВКА       РУЖИНО  Aug 17, 18:37  Aug 17, 19:23      1  200200039667    False    True\n",
      " 777700002444    КРАСНАЯ СОПКА         УЖУР  Aug 17, 18:20  Aug 17, 20:31      1  200200033586    False    True\n"
     ]
    }
   ],
   "source": [
    "add_header('\\nПримеры ошибочных бригад (первые 10):')\n",
    "add_line(no_stop.drop_duplicates('st_to_name').sort_values('time_end')[cols])"
   ]
  },
  {
   "cell_type": "code",
   "execution_count": 759,
   "metadata": {
    "collapsed": false
   },
   "outputs": [
    {
     "name": "stdout",
     "output_type": "stream",
     "text": [
      "Полные планы по некоторым ошибочным бригадам:\n",
      "         team         st_from_name           st_to_name   time_start_f     time_end_f  state          loco\n",
      " 777700002207          НИЖНЕУДИНСК               УДА II  Aug 17, 11:20  Aug 17, 11:35      1  200200079530\n",
      " 777700002207               УДА II                ТУЛУН  Aug 17, 11:35  Aug 17, 13:26      1  200200079530\n",
      " 777700002207                ТУЛУН                 АЗЕЙ  Aug 17, 13:26  Aug 17, 13:52      1  200200079530\n",
      " 777700002207                 АЗЕЙ               КУЙТУН  Aug 17, 13:52  Aug 17, 14:54      1  200200079530\n",
      " 777700002207               КУЙТУН              ПЕРЕВОЗ  Aug 17, 14:54  Aug 17, 15:46      1  200200079530\n",
      " 777700002207              ПЕРЕВОЗ                 ЗИМА  Aug 17, 15:46  Aug 17, 16:02      1  200200079530\n",
      " 777700002207                 ЗИМА               ЗАЛАРИ  Aug 17, 16:02  Aug 17, 17:08      1  200200079530\n",
      " 777700002207               ЗАЛАРИ            ЧЕРЕМХОВО  Aug 17, 17:08  Aug 17, 18:23      1  200200079530\n",
      " 777700002207            ЧЕРЕМХОВО           КАСЬЯНОВКА  Aug 17, 18:23  Aug 17, 18:40      1  200200079530\n",
      " 777700002207           КАСЬЯНОВКА               МАЛЬТА  Aug 17, 18:40  Aug 17, 19:17      1  200200079530\n",
      " 777700002207               МАЛЬТА                КИТОЙ  Aug 17, 19:17  Aug 17, 19:49      1  200200079530\n",
      " 777700002207                КИТОЙ              АНГАРСК  Aug 17, 19:49  Aug 17, 19:55      1  200200079530\n",
      " 777700002207              АНГАРСК            СУХОВСКАЯ  Aug 17, 19:55  Aug 17, 20:00      1  200200079530\n",
      " 777700002207            СУХОВСКАЯ                МЕГЕТ  Aug 17, 20:00  Aug 17, 20:13      1  200200079530\n",
      " 777700002207                МЕГЕТ           БАТАРЕЙНАЯ  Aug 17, 20:13  Aug 17, 20:21      1  200200079530\n",
      " 777700002207           БАТАРЕЙНАЯ  ИРКУТСК-СОРТИРОВ...  Aug 17, 20:21  Aug 17, 20:29      1  200200079530\n",
      " 777700002207  ИРКУТСК-СОРТИРОВ...  ИРКУТСК-СОРТИРОВ...  Aug 17, 20:59  Aug 18, 01:34      4            -1\n",
      "\n",
      "         team  st_from_name    st_to_name   time_start_f     time_end_f  state          loco\n",
      " 200200126652  БЕЛОГОРСК II  БЕЛОГОРСК II  Aug 16, 11:30  Aug 16, 12:10      2            -1\n",
      " 200200126652        АРХАРА       ОБЛУЧЬЕ  Aug 16, 21:10  Aug 16, 23:26      1  200200092733\n",
      " 200200126652       ОБЛУЧЬЕ   ИЗВЕСТКОВАЯ  Aug 16, 23:26  Aug 17, 00:21      1  200200092733\n",
      " 200200126652   ИЗВЕСТКОВАЯ          БИРА  Aug 17, 00:21  Aug 17, 01:49      1  200200092733\n",
      " 200200126652          БИРА   ИЗВЕСТКОВАЯ  Aug 17, 09:29  Aug 17, 10:55      1  200200074526\n",
      " 200200126652   ИЗВЕСТКОВАЯ       ОБЛУЧЬЕ  Aug 17, 10:55  Aug 17, 11:50      1  200200074526\n",
      " 200200126652       ОБЛУЧЬЕ       ОБЛУЧЬЕ  Aug 17, 12:20  Aug 17, 19:40      4            -1\n",
      " 200200126652       ОБЛУЧЬЕ       ОБЛУЧЬЕ  Aug 17, 20:59  Aug 17, 21:40      2            -1\n",
      " 200200126652       ОБЛУЧЬЕ   ИЗВЕСТКОВАЯ  Aug 17, 21:40  Aug 17, 22:35      1  200203314094\n",
      " 200200126652   ИЗВЕСТКОВАЯ          БИРА  Aug 17, 22:35  Aug 18, 00:12      1  200203314094\n",
      "\n"
     ]
    }
   ],
   "source": [
    "add_header('Полные планы по некоторым ошибочным бригадам:')\n",
    "num_fail_stations = len(no_stop.st_to_name.value_counts())\n",
    "lim = 2 if num_fail_stations > 1 else num_fail_stations\n",
    "cols = ['team', 'st_from_name', 'st_to_name', 'time_start_f', 'time_end_f', 'state', 'loco']\n",
    "for i in range(lim):\n",
    "    st = no_stop.st_to_name.value_counts().index[i]\n",
    "    add_line(team_plan[team_plan.team == no_stop[no_stop.st_to_name == st].iloc[0].team][cols])\n",
    "    add_line('')"
   ]
  },
  {
   "cell_type": "markdown",
   "metadata": {},
   "source": [
    "#### Причины проезда бригад мимо станций смены:\n",
    "\n",
    "1. Новый Уоян: у бригад в участках обкатки присутствует участок 2002118258 (Северобайкальск -- Таксимо). Возможное решение: проверить участки обкатки, выяснить, откуда берется участок обкатки Северобайкальск -- Таксимо, удалить этот участок при необходимости.\n",
    "\n",
    "2. Зима. Фейковым бригадам хватает рабочего времени, чтобы доехать из Иркутска до Нижнеудинска (время хода --- чуть более 9 часов). Для этих бригад должен определяться УОЛБ 920502 \"Иркутск -- Зима\" с нормативным рабочим временем ровно 9 часов (540). Так что должна планироваться смена в Зиме. Возможные причины ошибки:\n",
    "  1. Определяется другой УОЛБ - а именно, УОЛБ 920503 \"Иркутск -- Гончарово, Кая -- Зима\". У этого УОЛБ рабочее время = 600 (10 часов). \n",
    "  2. У фейковой бригады неверно указывается депо приписки (или не указывается вообще). Тогда для нее может вообще не быть найден УОЛБ."
   ]
  },
  {
   "cell_type": "markdown",
   "metadata": {},
   "source": [
    "### Проверка случаев смены бригад не на допустимых станциях"
   ]
  },
  {
   "cell_type": "code",
   "execution_count": 760,
   "metadata": {
    "collapsed": true
   },
   "outputs": [],
   "source": [
    "add_header('Проверка случаев смены бригад не на допустимых станциях', h=3, p=False)"
   ]
  },
  {
   "cell_type": "code",
   "execution_count": 761,
   "metadata": {
    "collapsed": false
   },
   "outputs": [
    {
     "name": "stdout",
     "output_type": "stream",
     "text": [
      "Исключаются случаи смены бригады из-за завершения маршрута локомотива или поезда, а также случаи смены бригады на станции, которая является депо приписки бригады\n"
     ]
    }
   ],
   "source": [
    "add_line('Исключаются случаи смены бригады из-за завершения маршрута локомотива или поезда' + \n",
    "         ', а также случаи смены бригады на станции, которая является депо приписки бригады')"
   ]
  },
  {
   "cell_type": "code",
   "execution_count": 762,
   "metadata": {
    "collapsed": false
   },
   "outputs": [],
   "source": [
    "loco_plan['end_trip'] = (loco_plan.state != loco_plan.state.shift(-1)) | (loco_plan.train != loco_plan.train.shift(-1))\\\n",
    "                        | (loco_plan.loco != loco_plan.loco.shift(-1))\n",
    "team_plan['start_station_name'] = team_plan.team.map(team_plan[team_plan.state.isin([0, 1])]\\\n",
    "                                                     .drop_duplicates('team').set_index('team').st_from_name)\n",
    "team_plan.depot_name.fillna(team_plan.start_station_name, inplace=True)\n",
    "team_plan['depot_st_name'] = team_plan.depot_st.map(st_names.name)\n",
    "team_plan.depot_st_name.fillna(team_plan.start_station_name, inplace=True)\n",
    "loco_plan['team_depot_name'] = loco_plan.team.map(team_plan.drop_duplicates('team').set_index('team').depot_name)\n",
    "loco_plan['team_ready_depot_name'] = loco_plan.team.map(team_plan.drop_duplicates('team').set_index('team').depot_st_name)"
   ]
  },
  {
   "cell_type": "code",
   "execution_count": 763,
   "metadata": {
    "collapsed": false
   },
   "outputs": [
    {
     "name": "stdout",
     "output_type": "stream",
     "text": [
      "Всего 13 случаев смены бригад не на приоритетных станциях смены (0.52%)\n",
      "Распределение по неприоритетным станциям (первые 10):\n",
      "УЯР                     10\n",
      "КОМСОМОЛЬСК-НА-АМУРЕ     2\n",
      "БАЗАИХА                  1\n"
     ]
    }
   ],
   "source": [
    "pr_st = pd.read_csv(FOLDER + 'mandatory/priority_team_change_stations.csv', sep=';', \n",
    "                    encoding='utf-8-sig', dtype={'station':str}).station\n",
    "loco_plan['team_end'] = loco_plan.team != loco_plan.team.shift(-1)\n",
    "team_change = loco_plan[(loco_plan.state != 4) & (loco_plan.team_end == True) & (loco_plan.end_trip == False)]\n",
    "bad_team_change = team_change[(team_change.st_to.isin(pr_st) == False) \n",
    "                              & (team_change.st_to_name != team_change.team_depot_name)\n",
    "                              & (team_change.st_to_name != team_change.team_ready_depot_name)]\n",
    "if bad_team_change.st_to_name.dropna().empty:\n",
    "    add_header('Все бригады меняются только на приоритетных станциях смены')\n",
    "else:\n",
    "    add_header('Всего %d случаев смены бригад не на приоритетных станциях смены (%.2f%%)'\n",
    "              % (bad_team_change.loco.count(), 100 * bad_team_change.loco.count() / team_change.loco.count()))\n",
    "    add_header('Распределение по неприоритетным станциям (первые 10):')\n",
    "    add_line(bad_team_change.st_to_name.value_counts().head(10))   \n",
    "    "
   ]
  },
  {
   "cell_type": "code",
   "execution_count": 764,
   "metadata": {
    "collapsed": false
   },
   "outputs": [
    {
     "name": "stdout",
     "output_type": "stream",
     "text": [
      "Примеры локомотивов и бригад, для которых смена указанной бригады произошла не на приоритетной станции:\n",
      "         loco          team           st_to_name     time_end_f            train\n",
      " 200200097256  200200136519  КОМСОМОЛЬСК-НА-А...  Aug 17, 13:33     200252963140\n",
      " 200200085774  777700002303              БАЗАИХА  Aug 17, 13:39     200254704833\n",
      " 200200046643  200200069697  КОМСОМОЛЬСК-НА-А...  Aug 17, 07:28     200254479600\n",
      " 200200080956  777700001826                  УЯР  Aug 17, 02:46  999928799032001\n",
      " 200200073476  777700002033                  УЯР  Aug 17, 05:56  999928799032007\n",
      " 200200075320  777700002026                  УЯР  Aug 17, 09:19     200252226730\n",
      " 200200086862  777700002025                  УЯР  Aug 17, 11:35     200252516713\n",
      " 200200092705  777700001824                  УЯР  Aug 17, 01:51   88880010124231\n",
      " 200200104594  777700002252                  УЯР  Aug 17, 21:58   88880010874843\n",
      " 200200049915  777700002020                  УЯР  Aug 17, 15:39     200253445618\n",
      "Полный план по одному из таких локомотивов:\n",
      "         loco st_from_name st_to_name   time_start_f     time_end_f            train          team team_depot_name\n",
      " 200200080956     ИЛАНСКАЯ  ЗАОЗЕРНАЯ  Aug 16, 22:04  Aug 17, 00:25   88880009694615  200200190368        ИЛАНСКАЯ\n",
      " 200200080956    ЗАОЗЕРНАЯ        УЯР  Aug 17, 01:55  Aug 17, 02:46  999928799032001  777700001826       ЗАОЗЕРНАЯ\n",
      " 200200080956          УЯР     ЗЫКОВО  Aug 17, 04:00  Aug 17, 05:55  999928799032001            -1             NaN\n",
      " 200200080956       ЗЫКОВО    БАЗАИХА  Aug 17, 05:55  Aug 17, 06:20  999928799032001            -1             NaN\n"
     ]
    }
   ],
   "source": [
    "with (pd.option_context('display.max_colwidth', 20)):\n",
    "    if not bad_team_change.st_to_name.dropna().empty:\n",
    "        add_header('Примеры локомотивов и бригад, для которых смена указанной бригады произошла не на приоритетной станции:')\n",
    "        add_line(bad_team_change[['loco', 'team', 'st_to_name', 'time_end_f', 'train']].head(10))\n",
    "        cols = ['loco', 'st_from_name', 'st_to_name', 'time_start_f', 'time_end_f', 'train', 'team', 'team_depot_name']        \n",
    "        loco_id = bad_team_change[bad_team_change.st_to_name == bad_team_change.st_to_name.value_counts().idxmax()]\\\n",
    "                    .drop_duplicates('loco').iloc[0,:].loco\n",
    "        add_header('Полный план по одному из таких локомотивов:')\n",
    "        add_line(loco_plan[loco_plan.loco == loco_id][cols])"
   ]
  },
  {
   "cell_type": "markdown",
   "metadata": {},
   "source": [
    "<a id='presence'></a>\n",
    "## Проверка отправления бригады не ранее времени явки [ToC](#toc)"
   ]
  },
  {
   "cell_type": "code",
   "execution_count": 765,
   "metadata": {
    "collapsed": true
   },
   "outputs": [],
   "source": [
    "add_header('Проверка отправления бригады не ранее времени явки', h=2, p=False)"
   ]
  },
  {
   "cell_type": "code",
   "execution_count": 766,
   "metadata": {
    "collapsed": false
   },
   "outputs": [],
   "source": [
    "# Вычисляем максимальное время явки, добавляем его в team_info и team_plan\n",
    "# В таблице presence_fail --- ошибочные отправления бригад до времени явки\n",
    "\n",
    "presence_lim = 0\n",
    "team_cols = ['team', 'st_from_name', 'st_to_name', 'time_start_f', 'ready_type', \n",
    "             'presence_norm', 'presence_gap', 'state', 'state_info']\n",
    "\n",
    "team_info['all_presence'] = list(zip(team_info.depot_time, team_info.return_time))\n",
    "team_info['presence'] = team_info.all_presence.apply(lambda x: x[0] if x[0] > x[1] else x[1])\n",
    "team_info['presence_norm'] = team_info.presence.apply(nice_time)\n",
    "team_plan['presence'] = team_plan.team.map(team_info.set_index('team').presence)\n",
    "team_plan['presence_norm'] = team_plan.presence.apply(nice_time)\n",
    "team_plan['presence_gap'] = team_plan.time_start - team_plan.presence\n",
    "team_plan['ready_type'] = team_plan.team.map(team_info.set_index('team').ready_type)\n",
    "presence_fail = team_plan[(team_plan.state.isin([0, 1])) & (team_plan.presence_gap < presence_lim)].drop_duplicates('team')\n",
    "pr = team_info[['team', 'depot_time', 'return_time', 'presence', 'presence_norm']]"
   ]
  },
  {
   "cell_type": "code",
   "execution_count": 767,
   "metadata": {
    "collapsed": false
   },
   "outputs": [
    {
     "name": "stdout",
     "output_type": "stream",
     "text": [
      "Нет бригад, которые запланированы к отправлению пассажиром ранее времени явки\n",
      "\n",
      "Нет бригад, которые запланированы к отправлению пассажирами ранее времени явки после начала планирования\n"
     ]
    }
   ],
   "source": [
    "p = presence_fail[presence_fail.state == 0]\n",
    "ph = presence_fail[(presence_fail.state == 0) & (presence_fail.time_start >= current_time)]\n",
    "if not p.empty:\n",
    "    add_header('Всего бригад, которые отправлены пассажиром ранее времени явки: %d (показаны первые 10)' % p.team.count())\n",
    "    add_line(p.sort_values('presence_gap')[team_cols].head(10))\n",
    "else:\n",
    "    add_header('Нет бригад, которые запланированы к отправлению пассажиром ранее времени явки')\n",
    "    \n",
    "if not ph.empty:\n",
    "    add_header('\\nВсего бригад, которые отправлены пассажиром ранее времени явки после начала планирования: %d (показаны первые 10)' \n",
    "      % ph.team.count())\n",
    "    add_line(ph.sort_values('presence_gap')[team_cols].head(10))\n",
    "else:\n",
    "    add_header('\\nНет бригад, которые запланированы к отправлению пассажирами ранее времени явки после начала планирования')"
   ]
  },
  {
   "cell_type": "code",
   "execution_count": 768,
   "metadata": {
    "collapsed": false
   },
   "outputs": [
    {
     "name": "stdout",
     "output_type": "stream",
     "text": [
      "Нет бригад, которые запланированы к отправлению с локомотивами ранее времени явки\n",
      "\n",
      "Нет бригад, которые запланированы к отправлению с локомотивами ранее времени явки после начала планирования\n"
     ]
    }
   ],
   "source": [
    "f = presence_fail[presence_fail.state == 1]\n",
    "fh = presence_fail[(presence_fail.state == 1) & (presence_fail.time_start >= current_time)]\n",
    "if not f.empty:\n",
    "    add_header('Всего бригад, которые отправлены с локомотивом ранее времени явки: %d (показаны первые 10)' % f.team.count())\n",
    "    add_line(f.sort_values('presence_gap')[team_cols].head(10))\n",
    "else:\n",
    "    add_header('Нет бригад, которые запланированы к отправлению с локомотивами ранее времени явки')\n",
    "\n",
    "if not fh.team.empty:\n",
    "    add_header('\\nВсего бригад, которые отправлены с локомотивом ранее времени явки после начала планирования: %d (показаны первые 10)' \n",
    "      % fh.team.count())\n",
    "    add_line(fh.sort_values('presence_gap')[team_cols].head(10))\n",
    "else:\n",
    "    add_header('\\nНет бригад, которые запланированы к отправлению с локомотивами ранее времени явки после начала планирования')"
   ]
  },
  {
   "cell_type": "markdown",
   "metadata": {},
   "source": [
    "<a id='before_current_time'></a>\n",
    "## Проверка планирования бригад до времени начала планирования [ToC](#toc)"
   ]
  },
  {
   "cell_type": "code",
   "execution_count": 769,
   "metadata": {
    "collapsed": true
   },
   "outputs": [],
   "source": [
    "add_header('Проверка планирования бригад до времени начала планирования', h=2, p=False)"
   ]
  },
  {
   "cell_type": "code",
   "execution_count": 770,
   "metadata": {
    "collapsed": false
   },
   "outputs": [
    {
     "name": "stdout",
     "output_type": "stream",
     "text": [
      "(Не учитываются бригады, которые на начало планирования находились на перегоне)\n",
      "Время начала планирования: Aug 16, 19:31\n",
      "\n",
      "Всего бригад, отправленных до начала планирования: 0 (0.00% от всех запланированных бригад)\n"
     ]
    }
   ],
   "source": [
    "team_cols = ['team', 'st_from_name', 'st_to_name', 'time_start_f', 'state', 'loco', 'state_info']\n",
    "\n",
    "add_line('(Не учитываются бригады, которые на начало планирования находились на перегоне)')\n",
    "add_line('Время начала планирования: %s' % nice_time(current_time))\n",
    "\n",
    "total_teams = team_plan.team.drop_duplicates().count()\n",
    "\n",
    "tbef = team_plan[(team_plan.time_start < current_time)          \n",
    "         & (team_plan.state.isin([0, 1])) & (team_plan.state_info != team_plan.state.apply(str))].drop_duplicates('team')\n",
    "add_header('\\nВсего бригад, отправленных до начала планирования: %d (%.2f%% от всех запланированных бригад)' \n",
    "           % (tbef.team.count(), 100 * tbef.team.count() / total_teams))\n",
    "if not tbef.empty:\n",
    "    add_header('\\nРаспределение по состояниям бригад, отправленных до начала планирования:')\n",
    "    add_line(tbef.state.value_counts())\n",
    "    \n",
    "    for i in sorted(tbef.state.unique()):\n",
    "        add_header('\\nБригады, отправленные до начала планирования в состоянии %d (первые 10):' % i)\n",
    "        add_line(tbef[tbef.state == i].sort_values('time_start').head(10)[team_cols])\n",
    "\n",
    "    add_header('\\nРаспределение по типу бригад, отправленных до начала планирования в состоянии 1:')\n",
    "    add_line(tbef[tbef.state == 1].team_type.value_counts())"
   ]
  },
  {
   "cell_type": "markdown",
   "metadata": {},
   "source": [
    "<a id='presenting'></a>\n",
    "## Проверка планируемых явок бригад [ToC](#toc)"
   ]
  },
  {
   "cell_type": "code",
   "execution_count": 771,
   "metadata": {
    "collapsed": true
   },
   "outputs": [],
   "source": [
    "add_header('Проверка планируемых явок бригад', h=2, p=False)"
   ]
  },
  {
   "cell_type": "code",
   "execution_count": 772,
   "metadata": {
    "collapsed": false
   },
   "outputs": [
    {
     "name": "stdout",
     "output_type": "stream",
     "text": [
      "Разброс времен на явку бригад: от 0.32 ч. до 5.90 ч.\n"
     ]
    },
    {
     "data": {
      "image/png": "[encoded data removed]",
      "text/plain": [
       "<matplotlib.figure.Figure at 0x1ff5c50b5f8>"
      ]
     },
     "metadata": {},
     "output_type": "display_data"
    }
   ],
   "source": [
    "team_cols = ['team', 'st_from_name', 'st_to_name', 'time_start_f', 'time_end_f', 'tt', 'state', 'loco', 'state_info']\n",
    "team_plan['tt'] = team_plan.time_end - team_plan.time_start\n",
    "min_presenting = team_plan[team_plan.state == 2][team_cols].tt.min()\n",
    "max_presenting = team_plan[team_plan.state == 2][team_cols].tt.max()\n",
    "add_header('Разброс времен на явку бригад: от %.2f ч. до %.2f ч.' % (min_presenting / 3600, max_presenting / 3600))\n",
    "\n",
    "sns.set(style='whitegrid', context='notebook')\n",
    "fig = plt.figure(figsize=(8, 3))\n",
    "ax = sns.distplot(team_plan[team_plan.state == 2][team_cols].tt / 3600, hist=False, bins=20, color='b', kde_kws={'shade':True})\n",
    "ax.set(xlabel='Время на явку, ч.', title='Распределение времен на явку бригад')\n",
    "filename = 'team_presenting.png'\n",
    "fig.savefig(REPORT_FOLDER + filename, bbox_inches='tight')\n",
    "add_image(filename)"
   ]
  },
  {
   "cell_type": "code",
   "execution_count": 773,
   "metadata": {
    "collapsed": false
   },
   "outputs": [
    {
     "name": "stdout",
     "output_type": "stream",
     "text": [
      "Всего 1241 бригад, у которых время окончания отдыха не совпадает со временем явки (показаны первые 10):\n",
      "         team         st_from_name           st_to_name  state  next_state   time_start_f     time_end_f next_time_start_f\n",
      " 200200140883  ЧЕРНЫШЕВСК-ЗАБАЙ...  ЧЕРНЫШЕВСК-ЗАБАЙ...      4           2  Aug 16, 19:32  Aug 16, 23:23     Aug 17, 00:53\n",
      " 200200279971               РУЖИНО               РУЖИНО      4           2  Aug 16, 19:35  Aug 16, 22:35     Aug 17, 03:39\n",
      " 200200202146            ГРОДЕКОВО            ГРОДЕКОВО      4           2  Aug 16, 19:40  Aug 16, 22:40     Aug 17, 00:49\n",
      " 200200191285              ОБЛУЧЬЕ              ОБЛУЧЬЕ      4           2  Aug 16, 19:40  Aug 17, 00:50     Aug 17, 01:31\n",
      " 200200118562            КАРЫМСКАЯ            КАРЫМСКАЯ      4           2  Aug 16, 19:41  Aug 16, 22:47     Aug 16, 23:04\n",
      " 200200220508               МОГОЧА               МОГОЧА      4           2  Aug 16, 19:42  Aug 16, 22:42     Aug 16, 23:41\n",
      " 200200261354                УРУША                УРУША      4           2  Aug 16, 19:42  Aug 17, 01:38     Aug 17, 03:34\n",
      " 200200223062            БЕЛОГОРСК            БЕЛОГОРСК      4           2  Aug 16, 19:42  Aug 17, 01:08     Aug 17, 02:26\n",
      " 200200149383  ИРКУТСК-СОРТИРОВ...  ИРКУТСК-СОРТИРОВ...      4           2  Aug 16, 19:46  Aug 16, 22:46     Aug 17, 00:01\n",
      " 200200282034           СЛЮДЯНКА I           СЛЮДЯНКА I      4           2  Aug 16, 19:47  Aug 17, 00:40     Aug 17, 02:31\n",
      "\n",
      "Распределение таких ошибочных явок после отдыха по станциям (показаны первые 5):\n",
      "УРУША                       99\n",
      "МАГДАГАЧИ                   89\n",
      "ОБЛУЧЬЕ                     66\n",
      "СЛЮДЯНКА I                  62\n",
      "ЧЕРНЫШЕВСК-ЗАБАЙКАЛЬСКИЙ    62\n"
     ]
    }
   ],
   "source": [
    "team_plan['next_state'] = team_plan.state.shift(-1)\n",
    "team_plan['next_time_start_f'] = team_plan.time_start_f.shift(-1)\n",
    "cols = ['team', 'st_from_name', 'st_to_name', 'state', 'next_state', 'time_start_f', 'time_end_f', 'next_time_start_f']\n",
    "rest_pres = team_plan[(team_plan.team == team_plan.team.shift(-1)) \n",
    "                     & (team_plan.state == 4) & (team_plan.next_state == 2)\n",
    "                     & (team_plan.time_end_f != team_plan.next_time_start_f)]\n",
    "add_header('Всего %d бригад, у которых время окончания отдыха не совпадает со временем явки (показаны первые 10):' \n",
    "      % rest_pres.team.drop_duplicates().count())\n",
    "add_line(rest_pres[rest_pres.time_start >= current_time].sort_values('time_start').head(10)[cols])\n",
    "add_header('\\nРаспределение таких ошибочных явок после отдыха по станциям (показаны первые 5):')\n",
    "add_line(rest_pres.st_from_name.value_counts().head())"
   ]
  },
  {
   "cell_type": "markdown",
   "metadata": {},
   "source": [
    "<a id='check_useful_assign'></a>\n",
    "## Проверка использования бригад [ToC](#toc)"
   ]
  },
  {
   "cell_type": "code",
   "execution_count": 774,
   "metadata": {
    "collapsed": false
   },
   "outputs": [],
   "source": [
    "add_header('Проверка использования бригад', h=2, p=False)"
   ]
  },
  {
   "cell_type": "markdown",
   "metadata": {},
   "source": [
    "<a id='only_pass'></a>\n",
    "### Бригады, запланированные к отправлению пассажирами без последующей подвязки [ToC](#toc)\n",
    "\n",
    "Тест проверяет, что если у бригады запланирована отправка пассажром, то либо бригада пересылается в депо приписки (и тогда у бригады больше нет других планов), либо после такой пересылки бригада ведет локомотив (то есть далее есть участок маршрута с состоянием state = 1). "
   ]
  },
  {
   "cell_type": "code",
   "execution_count": 775,
   "metadata": {
    "collapsed": true
   },
   "outputs": [],
   "source": [
    "add_header('Проверка использования бригад после засылки пассажирами', h=3, p=False)"
   ]
  },
  {
   "cell_type": "code",
   "execution_count": 776,
   "metadata": {
    "collapsed": false
   },
   "outputs": [],
   "source": [
    "team_plan['all_states'] = team_plan.team.map(team_plan.groupby('team').state.unique())\n",
    "cols = ['team', 'st_from_name', 'st_to_name', 'time_start_f', 'time_end_f', 'depot_name',\n",
    "        'state', 'all_states']"
   ]
  },
  {
   "cell_type": "code",
   "execution_count": 777,
   "metadata": {
    "collapsed": false
   },
   "outputs": [
    {
     "name": "stdout",
     "output_type": "stream",
     "text": [
      "Всего 12 бригад, для которых планируется отправка пассажиром и не планируется работа с поездом\n"
     ]
    }
   ],
   "source": [
    "def get_cat(all_states):\n",
    "    if 1 in all_states:\n",
    "        return 'work'\n",
    "    elif (len(all_states) == 1) & (all_states[0] == 2):\n",
    "        return 'only_presence'\n",
    "    elif (len(all_states) == 2):\n",
    "        if ((all_states[0] == 4) & (all_states[1] == 0)):\n",
    "            return 'pass_home'\n",
    "        else:\n",
    "            return 'fail'\n",
    "    elif (len(all_states) == 3):\n",
    "        if all([2, 4, 0] == all_states):\n",
    "            return 'pass_home'\n",
    "        else:\n",
    "            return 'fail'\n",
    "    else:\n",
    "        return 'fail'\n",
    "\n",
    "team_plan['cat'] = team_plan.all_states.apply(get_cat)\n",
    "only_pass_teams = team_plan[(team_plan.cat == 'fail') & (team_plan.state_info != '2')]\n",
    "                            \n",
    "add_header('Всего %d бригад, для которых планируется отправка пассажиром и не планируется работа с поездом' \n",
    "      % only_pass_teams.team.drop_duplicates().count())"
   ]
  },
  {
   "cell_type": "code",
   "execution_count": 778,
   "metadata": {
    "collapsed": false
   },
   "outputs": [
    {
     "name": "stdout",
     "output_type": "stream",
     "text": [
      "Станции, с которых чаще всегда планируется лишняя отправка пассажирами:\n",
      "ЧЕРНЫШЕВСК-ЗАБАЙКАЛЬСКИЙ              3\n",
      "КОМСОМОЛЬСК-НА-АМУРЕ-СОРТИРОВОЧНЫЙ    1\n",
      "АЧИНСК I                              1\n",
      "НОВЫЙ УРГАЛ                           1\n",
      "ТЫНДА                                 1\n",
      "КРАСНОЯРСК-ВОСТОЧНЫЙ                  1\n"
     ]
    }
   ],
   "source": [
    "add_header('Станции, с которых чаще всегда планируется лишняя отправка пассажирами:')\n",
    "add_line(only_pass_teams.drop_duplicates('team').st_from_name.value_counts().head(10))"
   ]
  },
  {
   "cell_type": "code",
   "execution_count": 779,
   "metadata": {
    "collapsed": false
   },
   "outputs": [
    {
     "name": "stdout",
     "output_type": "stream",
     "text": [
      "Примеры:\n",
      "         team st_from_name st_to_name   time_start_f     time_end_f depot_name  state all_states\n",
      " 200200189022          NaN        NaN  Aug 16, 13:00  Aug 16, 14:00        NaN      2     [2, 4]\n",
      " 200200189022     МАРИИНСК   МАРИИНСК  Aug 16, 18:20  Aug 16, 19:31        NaN      4     [2, 4]\n",
      "\n",
      "         team st_from_name st_to_name   time_start_f     time_end_f depot_name  state all_states\n",
      " 200200226077        ТЫНДА      ТЫНДА  Aug 16, 14:23  Aug 16, 20:43      ТЫНДА      4        [4]\n",
      "\n",
      "         team              st_from_name                st_to_name   time_start_f     time_end_f            depot_name  state all_states\n",
      " 200200083199  КОМСОМОЛЬСК-НА-АМУРЕ-...  КОМСОМОЛЬСК-НА-АМУРЕ-...  Aug 15, 13:00  Aug 15, 15:00  КОМСОМОЛЬСК-НА-АМУРЕ      2     [2, 4]\n",
      " 200200083199  КОМСОМОЛЬСК-НА-АМУРЕ-...  КОМСОМОЛЬСК-НА-АМУРЕ-...  Aug 16, 00:26  Aug 16, 03:26  КОМСОМОЛЬСК-НА-АМУРЕ      4     [2, 4]\n",
      "\n"
     ]
    }
   ],
   "source": [
    "with pd.option_context('display.max_colwidth', 25):\n",
    "    if only_pass_teams.team.drop_duplicates().count() != 0:\n",
    "        add_header('Примеры:')\n",
    "        for team in only_pass_teams.team.drop_duplicates().iloc[:3].values:    \n",
    "            add_line(team_plan[team_plan.team == team][cols])\n",
    "            add_line('')"
   ]
  },
  {
   "cell_type": "code",
   "execution_count": 780,
   "metadata": {
    "collapsed": false
   },
   "outputs": [],
   "source": [
    "irk = only_pass_teams[only_pass_teams.st_from_name == 'ИРКУТСК-СОРТИРОВОЧНЫЙ']\n",
    "if not irk.empty:\n",
    "    add_header('Пример бесцельной отправки пассажиром со станции Иркутск-Сортировочный:')\n",
    "    add_line(team_plan[team_plan.team == irk.iloc[0].team][cols])"
   ]
  },
  {
   "cell_type": "markdown",
   "metadata": {},
   "source": [
    "<a id='only_presence'></a>\n",
    "### Бригады, планируемые только на явку [ToC](#toc)\n",
    "\n",
    "Тест находит бригады, у которых в возвращаемом плане есть только один участок маршрута и на этом участке state = 2. Такие бригады не должны возвращаться (по ним не планируется ничего, кроме явки, смысла в их планировании нет)."
   ]
  },
  {
   "cell_type": "code",
   "execution_count": 781,
   "metadata": {
    "collapsed": true
   },
   "outputs": [],
   "source": [
    "add_header('Бригады, планируемые только на явку', h=3, p=False)"
   ]
  },
  {
   "cell_type": "code",
   "execution_count": 782,
   "metadata": {
    "collapsed": false
   },
   "outputs": [
    {
     "name": "stdout",
     "output_type": "stream",
     "text": [
      "Всего 533 бригад, запланированных только на явку.\n",
      "\n",
      "Распределение по депо станции явки:\n",
      "КРАСНОЯРСК-ВОСТОЧНЫЙ                  112\n",
      "КОМСОМОЛЬСК-НА-АМУРЕ-СОРТИРОВОЧНЫЙ     74\n",
      "УЯР                                    62\n",
      "УССУРИЙСК                              25\n",
      "КАРЫМСКАЯ                              20\n",
      "\n",
      "Распределение по типу бригады:\n",
      "Фейковая    356\n",
      "Реальная    177\n",
      "\n",
      "Примеры бригад:\n",
      "         team         st_from_name   time_start_f     time_end_f           depot_name state_info all_states\n",
      " 200200189151            УССУРИЙСК  Aug 16, 03:48  Aug 16, 05:00            УССУРИЙСК          2        [2]\n",
      " 200200268458               ЧИТА I  Aug 16, 08:40  Aug 16, 10:00               ЧИТА I          2        [2]\n",
      " 200200112276            ВИХОРЕВКА  Aug 16, 17:24  Aug 16, 19:11            ВИХОРЕВКА          2        [2]\n",
      " 200200216221                 ЗИМА  Aug 16, 18:24  Aug 16, 19:05          НИЖНЕУДИНСК          8        [2]\n",
      " 200200223934  ЧЕРНЫШЕВСК-ЗАБАЙ...  Aug 16, 04:45  Aug 16, 05:37  ЧЕРНЫШЕВСК-ЗАБАЙ...          2        [2]\n",
      " 200200082042            ВИХОРЕВКА  Aug 16, 12:49  Aug 16, 14:36            ВИХОРЕВКА          2        [2]\n",
      " 777700002818  КРАСНОЯРСК-ВОСТО...  Aug 16, 19:40  Aug 16, 20:36                  NaN        NaN        [2]\n",
      " 777700002819  КРАСНОЯРСК-ВОСТО...  Aug 16, 18:35  Aug 16, 19:31                  NaN        NaN        [2]\n",
      " 777700002823  КРАСНОЯРСК-ВОСТО...  Aug 16, 19:44  Aug 16, 20:40                  NaN        NaN        [2]\n",
      " 777700002820  КРАСНОЯРСК-ВОСТО...  Aug 16, 16:58  Aug 16, 17:54                  NaN        NaN        [2]\n"
     ]
    }
   ],
   "source": [
    "cols = ['team', 'st_from_name', 'time_start_f', 'time_end_f', 'depot_name', 'state_info', 'all_states']\n",
    "only_pr = team_plan[team_plan.cat == 'only_presence']\n",
    "if not only_pr.empty:\n",
    "    add_header('Всего %d бригад, запланированных только на явку.' % only_pr.team.drop_duplicates().count())\n",
    "    add_line('')\n",
    "    add_header('Распределение по депо станции явки:')\n",
    "    add_line(only_pr.drop_duplicates('team').st_from_name.value_counts().head())\n",
    "    add_line('')\n",
    "    add_header('Распределение по типу бригады:')\n",
    "    add_line(only_pr.drop_duplicates('team').team_type.value_counts())\n",
    "    add_line('')\n",
    "    add_header('Примеры бригад:')\n",
    "    add_line(only_pr[cols].head(10))\n",
    "else:\n",
    "    add_header('В плане нет бригад, запланированных только на явку')"
   ]
  },
  {
   "cell_type": "markdown",
   "metadata": {},
   "source": [
    "## Проверка наличия явки в планах у всех запланированных бригад\n",
    "\n",
    "Если в плане у бригады есть езда с локомотивом (state = 1), то должен присутствовать хотя бы один участок с операцией явки (state = 2)."
   ]
  },
  {
   "cell_type": "code",
   "execution_count": 783,
   "metadata": {
    "collapsed": false
   },
   "outputs": [
    {
     "name": "stdout",
     "output_type": "stream",
     "text": [
      "Всего событие явки не запланировано у 176 бригад (4.07%). Примеры:\n",
      "         team     st_from_name       st_to_name   time_start_f     time_end_f  state          loco\n",
      " 777700002835           МОГОЧА           АМАЗАР  Aug 17, 17:00  Aug 17, 18:59      1  200200097356\n",
      " 777700002835           АМАЗАР  ЕРОФЕЙ ПАВЛОВИЧ  Aug 17, 18:59  Aug 17, 21:18      1  200200097356\n",
      " 777700002835  ЕРОФЕЙ ПАВЛОВИЧ            УРУША  Aug 17, 21:18  Aug 17, 23:23      1  200200097356\n",
      " 777700002835            УРУША        БАМОВСКАЯ  Aug 17, 23:23  Aug 18, 00:46      1  200200097356\n",
      " 777700002835        БАМОВСКАЯ          ГОРЕЛЫЙ  Aug 18, 00:46  Aug 18, 00:53      1  200200097356\n",
      " 777700002835          ГОРЕЛЫЙ      СКОВОРОДИНО  Aug 18, 00:53  Aug 18, 01:32      1  200200097356\n",
      "         team     st_from_name       st_to_name   time_start_f     time_end_f  state          loco\n",
      " 777700002835           МОГОЧА           АМАЗАР  Aug 17, 17:00  Aug 17, 18:59      1  200200097356\n",
      " 777700002835           АМАЗАР  ЕРОФЕЙ ПАВЛОВИЧ  Aug 17, 18:59  Aug 17, 21:18      1  200200097356\n",
      " 777700002835  ЕРОФЕЙ ПАВЛОВИЧ            УРУША  Aug 17, 21:18  Aug 17, 23:23      1  200200097356\n",
      " 777700002835            УРУША        БАМОВСКАЯ  Aug 17, 23:23  Aug 18, 00:46      1  200200097356\n",
      " 777700002835        БАМОВСКАЯ          ГОРЕЛЫЙ  Aug 18, 00:46  Aug 18, 00:53      1  200200097356\n",
      " 777700002835          ГОРЕЛЫЙ      СКОВОРОДИНО  Aug 18, 00:53  Aug 18, 01:32      1  200200097356\n",
      "Распределение по типу бригад (в долях):\n",
      "Фейковая    1\n"
     ]
    }
   ],
   "source": [
    "team_plan['all_states'] = team_plan.team.map(team_plan.groupby('team').state.unique())\n",
    "no_pres = team_plan[team_plan.all_states.apply(lambda x: (2 not in x) & (1 in x))]\n",
    "cols = ['team', 'st_from_name', 'st_to_name', 'time_start_f', 'time_end_f', 'state', 'loco']\n",
    "add_header('Всего событие явки не запланировано у %d бригад (%.2f%%). Примеры:'\n",
    "           % (no_pres.drop_duplicates('team').team.count(),\n",
    "              100 * no_pres.drop_duplicates('team').team.count() / team_plan.drop_duplicates('team').team.count()))\n",
    "add_line(team_plan[team_plan.team == no_pres.iloc[0].team][cols])\n",
    "add_line(team_plan[team_plan.team == no_pres.iloc[1].team][cols])\n",
    "add_header('Распределение по типу бригад (в долях):')\n",
    "add_line(no_pres.drop_duplicates('team').team_type.value_counts(normalize=True))"
   ]
  },
  {
   "cell_type": "markdown",
   "metadata": {},
   "source": [
    "<a id='pass_teams_in_plan'></a>\n",
    "## Проверка подвязки негрузовых бригад [ToC](#toc)\n",
    "\n",
    "Негрузовые бригады (бригады с type = 0) не должны подвязываться на локомотивы. Исключение: если бригада на начало планирования следует с локомотивом. В этом случае в результатах по этой бригаде (если они есть) не должно присутствовать других локомотивов, кроме того, который был указан во входных данных."
   ]
  },
  {
   "cell_type": "code",
   "execution_count": 784,
   "metadata": {
    "collapsed": true
   },
   "outputs": [],
   "source": [
    "add_header('Проверка подвязки негрузовых бригад', h=2, p=False)"
   ]
  },
  {
   "cell_type": "code",
   "execution_count": 785,
   "metadata": {
    "collapsed": false
   },
   "outputs": [
    {
     "name": "stdout",
     "output_type": "stream",
     "text": [
      "В плане нет негрузовых бригад с запланированной подвязкой, отличной от подвязки во входных данных\n"
     ]
    }
   ],
   "source": [
    "cols = ['team', 'ttype', 'loco_info', 'st_from_name', 'st_to_name', 'time_start_f', 'state', 'loco']\n",
    "bad_pass_teams = team_plan[(team_plan.ttype == 0) & (team_plan.loco != team_plan.loco_info) \n",
    "                           & (team_plan.state.isin([0, 1]))][cols]\n",
    "if bad_pass_teams.empty:\n",
    "    add_header('В плане нет негрузовых бригад с запланированной подвязкой, отличной от подвязки во входных данных')\n",
    "else:\n",
    "    add_header('Всего %d негрузовых бригад, для которых запланирована подвязка, отличная от подвязки во входных данных:' \n",
    "              % bad_pass_teams.drop_duplicates('team').team.count())\n",
    "    add_line(bad_pass_teams.drop_duplicates('team')[cols].head())"
   ]
  },
  {
   "cell_type": "markdown",
   "metadata": {},
   "source": [
    "[ToC](#toc)\n",
    "## Проверка сохранения предыдущих времен явок\n",
    "\n",
    "В планировщик в сообщениях `prev_team` передаются времена явок бригад, запланированные на предыдущем расчете. В зависимости от горизонта, на котором запланированы эти явки, их при новом расчете можно сдвигать лишь на очень ограниченное время."
   ]
  },
  {
   "cell_type": "code",
   "execution_count": 786,
   "metadata": {
    "collapsed": true
   },
   "outputs": [],
   "source": [
    "add_header('Проверка сохранения предыдущих времен явок', h=2, p=False)"
   ]
  },
  {
   "cell_type": "code",
   "execution_count": 787,
   "metadata": {
    "collapsed": false
   },
   "outputs": [
    {
     "name": "stdout",
     "output_type": "stream",
     "text": [
      "Время начала планирования: Aug 16, 19:31\n",
      "Не запланировано 320 бригад (12.39%) с предыдущими явками (37 на горизонте до 6 часов). Примеры:\n",
      "         team  prev_ready_time        dt_time  team_type  plan_hor\n",
      " 200200247163       1471365600  Aug 16, 19:40          2  0.143889\n",
      " 200200108280       1471365645  Aug 16, 19:40          2  0.156389\n",
      " 200200266558       1471365660  Aug 16, 19:41          2  0.160556\n",
      " 200200114712       1471366200  Aug 16, 19:50          2  0.310556\n",
      " 200200278158       1471366200  Aug 16, 19:50          2  0.310556\n",
      " 200200251636       1471366500  Aug 16, 19:55          2  0.393889\n",
      " 200200137338       1471366800  Aug 16, 20:00          2  0.477222\n",
      " 200200252928       1471366800  Aug 16, 20:00          2  0.477222\n",
      " 200200105626       1471366800  Aug 16, 20:00          2  0.477222\n",
      " 200200200500       1471367400  Aug 16, 20:10          2  0.643889\n"
     ]
    }
   ],
   "source": [
    "add_line('Время начала планирования: %s' % nice_time(current_time))\n",
    "prev_team = pd.read_csv(FOLDER + 'prev_team.csv', dtype={'team':str})\n",
    "prev_team['dt_time'] = prev_team.prev_ready_time.apply(nice_time)\n",
    "prev_team['team_type'] = prev_team.team.apply(lambda x: int(str(x)[0]))\n",
    "prev_team['plan_hor'] = (prev_team.prev_ready_time - current_time) / 3600\n",
    "team_plan['prev_ready_time'] = team_plan.team.map(prev_team.drop_duplicates('team').set_index('team').prev_ready_time)\n",
    "team_plan['prev_ready_time_f'] = team_plan.prev_ready_time.apply(nice_time)\n",
    "\n",
    "prev_team_no_planned = prev_team[(prev_team.team_type != 7) & (prev_team.team.isin(team_info.team))\n",
    "                                 & (prev_team.team.isin(team_plan[team_plan.state.isin([0, 1])].team) == False)]\n",
    "prev_team_no_planned_6 = prev_team_no_planned[(prev_team_no_planned.plan_hor > 0) \n",
    "                                              & (prev_team_no_planned.plan_hor < 6)]\n",
    "prev_team_n = prev_team[(prev_team.team_type != 7) & (prev_team.team.isin(team_info.team))].team.count()\n",
    "if prev_team_no_planned.empty:\n",
    "    add_header('Все бригады с предыдущими явками запланированы')\n",
    "else:\n",
    "    add_header('Не запланировано %d бригад (%.2f%%) с предыдущими явками (%d на горизонте до 6 часов). Примеры:'\n",
    "              % (prev_team_no_planned.team.count(),                  \n",
    "                 100 * prev_team_no_planned.team.count() / prev_team_n,\n",
    "                 prev_team_no_planned_6.team.count()))\n",
    "    add_line(prev_team_no_planned[(prev_team_no_planned.plan_hor > 0) \n",
    "                                  & (prev_team_no_planned.plan_hor < 6)].sort_values('plan_hor').head(10))    \n",
    "\n",
    "cols = ['team', 'st_from_name', 'time_start_f', 'time_end_f', 'state', 'prev_ready_time_f']\n",
    "tp_first = team_plan[team_plan.team.isin(team_info[team_info.state == '3'].team)].drop_duplicates('team').copy()\n",
    "#tp_first = team_plan.drop_duplicates('team').copy()"
   ]
  },
  {
   "cell_type": "code",
   "execution_count": 788,
   "metadata": {
    "collapsed": false
   },
   "outputs": [
    {
     "name": "stdout",
     "output_type": "stream",
     "text": [
      "Всего 12 бригад с предыдущими явками (0.41% от запланированных) с существенными отклонениями времен явок:\n",
      "         team         st_from_name   time_start_f  state prev_ready_time_f  good_lag  real_lag state_info  presence_norm  uth\n",
      " 200200277440            ПОСТЫШЕВО  Aug 16, 21:48      2     Aug 16, 19:15         0      9180          3  Aug 16, 15:40    0\n",
      " 200200250074  КОМСОМОЛЬСК-НА-А...  Aug 16, 20:15      2     Aug 16, 19:05         0      4200          3  Aug 16, 17:00    0\n",
      " 200200242099          ХАБАРОВСК I  Aug 16, 21:10      2     Aug 16, 21:01         0       590          3  Aug 16, 18:55    0\n",
      " 200200188765             ГВОЗДЕВО  Aug 16, 19:40      2     Aug 16, 17:04         0      9406          3  Aug 16, 16:00    0\n",
      " 200200265851          ХАБАРОВСК I  Aug 16, 20:24      2     Aug 16, 19:20         0      3840          3  Aug 16, 17:37    0\n",
      " 200200204920                 ЗИМА  Aug 16, 20:59      2     Aug 16, 19:55         0      3888          3  Aug 16, 18:52    1\n",
      " 200200109628               РУЖИНО  Aug 17, 20:44      2     Aug 17, 00:55     10800     71388          3  Aug 16, 17:17    0\n",
      " 200200167424             АЧИНСК I  Aug 16, 22:15      2     Aug 16, 21:15         0      3648          3  Aug 16, 20:00    0\n",
      " 200200272296            ОЛОВЯННАЯ  Aug 16, 23:20      2     Aug 16, 20:40         0      9648          3  Aug 16, 18:10    0\n",
      " 200200257092  КОМСОМОЛЬСК-НА-А...  Aug 16, 20:15      2     Aug 16, 19:05         0      4200          3  Aug 16, 17:00    0\n"
     ]
    }
   ],
   "source": [
    "def get_prev_ready_lag(prev_ready_time, current_time):\n",
    "    if np.isnan(prev_ready_time): prev_ready_time = 0        \n",
    "    d = prev_ready_time - current_time\n",
    "    if d < 3 * 3600:\n",
    "        lag = 0    \n",
    "    elif d < 6 * 3600:\n",
    "        lag = 3 * 3600\n",
    "    else:\n",
    "        lag = 24 * 3600\n",
    "    return lag\n",
    "\n",
    "tp_first['good_lag'] = tp_first.apply(lambda x: get_prev_ready_lag(x.prev_ready_time, current_time), axis=1)\n",
    "cols = ['team', 'st_from_name', 'time_start_f', 'state', 'prev_ready_time_f', 'good_lag', 'real_lag', \n",
    "        'state_info', 'presence_norm', 'uth']\n",
    "tp_first['real_lag'] = tp_first.time_start - tp_first.prev_ready_time\n",
    "good_prev = tp_first[(tp_first.team.isin(prev_team.team)) & (tp_first.state == 2)\n",
    "                     & (tp_first.good_lag >= np.abs(tp_first.real_lag))]\n",
    "\n",
    "bad_prev = tp_first[(tp_first.team.isin(prev_team.team)) & (tp_first.state == 2) \n",
    "                    & (tp_first.presence <= tp_first.prev_ready_time)\n",
    "                    & (tp_first.good_lag < np.abs(tp_first.real_lag))]\n",
    "if bad_prev.empty:\n",
    "    add_header('Все запланированные бригады с предыдущими явками запланированы на явку без неприемлемых задержек')\n",
    "else:\n",
    "    add_header('Всего %d бригад с предыдущими явками (%.2f%% от запланированных) с существенными отклонениями времен явок:'\n",
    "              % (bad_prev.team.count(), \n",
    "                 100 * bad_prev.team.count() / (prev_team.team.count() - prev_team_no_planned.team.count())))\n",
    "    add_line(bad_prev[cols].head(10))"
   ]
  },
  {
   "cell_type": "code",
   "execution_count": 789,
   "metadata": {
    "collapsed": false
   },
   "outputs": [
    {
     "name": "stdout",
     "output_type": "stream",
     "text": [
      "Aug 16, 19:31\n"
     ]
    },
    {
     "data": {
      "text/html": [
       "<div>\n",
       "<table border=\"1\" class=\"dataframe\">\n",
       "  <thead>\n",
       "    <tr style=\"text-align: right;\">\n",
       "      <th></th>\n",
       "      <th>team</th>\n",
       "      <th>number</th>\n",
       "      <th>oper_time_f</th>\n",
       "      <th>depot_time_f</th>\n",
       "      <th>state</th>\n",
       "      <th>prev_ready_time_f</th>\n",
       "      <th>plan_start_time_f</th>\n",
       "    </tr>\n",
       "  </thead>\n",
       "  <tbody>\n",
       "    <tr>\n",
       "      <th>4367</th>\n",
       "      <td>200200135984</td>\n",
       "      <td>9205000330</td>\n",
       "      <td>Jul 06, 18:43</td>\n",
       "      <td>Aug 16, 18:00</td>\n",
       "      <td>3</td>\n",
       "      <td>Aug 16, 21:48</td>\n",
       "      <td>Aug 16, 22:48</td>\n",
       "    </tr>\n",
       "    <tr>\n",
       "      <th>3028</th>\n",
       "      <td>210213779354</td>\n",
       "      <td>9205031354</td>\n",
       "      <td>Jul 08, 04:10</td>\n",
       "      <td>Aug 16, 21:40</td>\n",
       "      <td>3</td>\n",
       "      <td>Aug 17, 01:25</td>\n",
       "      <td>Aug 17, 04:20</td>\n",
       "    </tr>\n",
       "    <tr>\n",
       "      <th>1700</th>\n",
       "      <td>210213563777</td>\n",
       "      <td>9205031361</td>\n",
       "      <td>Jul 08, 12:21</td>\n",
       "      <td>Aug 17, 00:40</td>\n",
       "      <td>3</td>\n",
       "      <td>Aug 17, 04:28</td>\n",
       "      <td>Aug 17, 07:05</td>\n",
       "    </tr>\n",
       "    <tr>\n",
       "      <th>3032</th>\n",
       "      <td>200200093409</td>\n",
       "      <td>9205000643</td>\n",
       "      <td>Aug 11, 03:03</td>\n",
       "      <td>Aug 16, 18:00</td>\n",
       "      <td>3</td>\n",
       "      <td>Aug 17, 16:25</td>\n",
       "      <td>Aug 17, 19:25</td>\n",
       "    </tr>\n",
       "    <tr>\n",
       "      <th>3033</th>\n",
       "      <td>200200275629</td>\n",
       "      <td>9205008851</td>\n",
       "      <td>Aug 13, 03:14</td>\n",
       "      <td>Aug 16, 18:00</td>\n",
       "      <td>3</td>\n",
       "      <td></td>\n",
       "      <td>Aug 16, 21:15</td>\n",
       "    </tr>\n",
       "    <tr>\n",
       "      <th>3932</th>\n",
       "      <td>200200082120</td>\n",
       "      <td>9205007883</td>\n",
       "      <td>Aug 14, 04:33</td>\n",
       "      <td>Aug 17, 15:40</td>\n",
       "      <td>3</td>\n",
       "      <td></td>\n",
       "      <td></td>\n",
       "    </tr>\n",
       "    <tr>\n",
       "      <th>2585</th>\n",
       "      <td>200200260598</td>\n",
       "      <td>9205001531</td>\n",
       "      <td>Aug 14, 15:44</td>\n",
       "      <td>Aug 17, 12:00</td>\n",
       "      <td>3</td>\n",
       "      <td>Aug 17, 23:05</td>\n",
       "      <td>Aug 18, 00:15</td>\n",
       "    </tr>\n",
       "    <tr>\n",
       "      <th>2588</th>\n",
       "      <td>200200140065</td>\n",
       "      <td>9205000806</td>\n",
       "      <td>Aug 14, 20:30</td>\n",
       "      <td>Aug 16, 18:00</td>\n",
       "      <td>3</td>\n",
       "      <td>Aug 17, 04:58</td>\n",
       "      <td>Aug 17, 07:50</td>\n",
       "    </tr>\n",
       "    <tr>\n",
       "      <th>3470</th>\n",
       "      <td>200200103149</td>\n",
       "      <td>9205007920</td>\n",
       "      <td>Aug 15, 04:46</td>\n",
       "      <td>Aug 17, 17:06</td>\n",
       "      <td>3</td>\n",
       "      <td></td>\n",
       "      <td>Aug 17, 19:45</td>\n",
       "    </tr>\n",
       "    <tr>\n",
       "      <th>2156</th>\n",
       "      <td>230200225933</td>\n",
       "      <td>9205031461</td>\n",
       "      <td>Aug 15, 06:20</td>\n",
       "      <td>Aug 17, 14:21</td>\n",
       "      <td>3</td>\n",
       "      <td>Aug 17, 17:45</td>\n",
       "      <td>Aug 18, 01:12</td>\n",
       "    </tr>\n",
       "    <tr>\n",
       "      <th>3042</th>\n",
       "      <td>200200100354</td>\n",
       "      <td>9205007884</td>\n",
       "      <td>Aug 15, 06:23</td>\n",
       "      <td>Aug 17, 17:51</td>\n",
       "      <td>3</td>\n",
       "      <td>Aug 17, 20:35</td>\n",
       "      <td>Aug 18, 00:23</td>\n",
       "    </tr>\n",
       "    <tr>\n",
       "      <th>4394</th>\n",
       "      <td>200200249699</td>\n",
       "      <td>9205030603</td>\n",
       "      <td>Aug 15, 13:19</td>\n",
       "      <td>Aug 17, 03:40</td>\n",
       "      <td>3</td>\n",
       "      <td>Aug 17, 07:28</td>\n",
       "      <td>Aug 17, 09:45</td>\n",
       "    </tr>\n",
       "    <tr>\n",
       "      <th>4395</th>\n",
       "      <td>200200189996</td>\n",
       "      <td>9205002169</td>\n",
       "      <td>Aug 15, 13:23</td>\n",
       "      <td>Aug 16, 21:00</td>\n",
       "      <td>3</td>\n",
       "      <td>Aug 18, 00:29</td>\n",
       "      <td>Aug 18, 02:33</td>\n",
       "    </tr>\n",
       "    <tr>\n",
       "      <th>2596</th>\n",
       "      <td>200200251644</td>\n",
       "      <td>9205006741</td>\n",
       "      <td>Aug 15, 14:10</td>\n",
       "      <td>Aug 17, 00:00</td>\n",
       "      <td>3</td>\n",
       "      <td>Aug 18, 00:09</td>\n",
       "      <td>Aug 18, 02:13</td>\n",
       "    </tr>\n",
       "    <tr>\n",
       "      <th>1719</th>\n",
       "      <td>200200195786</td>\n",
       "      <td>9205030735</td>\n",
       "      <td>Aug 15, 15:57</td>\n",
       "      <td>Aug 16, 18:00</td>\n",
       "      <td>3</td>\n",
       "      <td></td>\n",
       "      <td>Aug 16, 21:10</td>\n",
       "    </tr>\n",
       "    <tr>\n",
       "      <th>3047</th>\n",
       "      <td>200200185651</td>\n",
       "      <td>9205008005</td>\n",
       "      <td>Aug 15, 16:13</td>\n",
       "      <td>Aug 17, 00:00</td>\n",
       "      <td>3</td>\n",
       "      <td></td>\n",
       "      <td>Aug 17, 03:48</td>\n",
       "    </tr>\n",
       "    <tr>\n",
       "      <th>2601</th>\n",
       "      <td>200200109166</td>\n",
       "      <td>9205002309</td>\n",
       "      <td>Aug 15, 19:30</td>\n",
       "      <td>Aug 17, 00:00</td>\n",
       "      <td>3</td>\n",
       "      <td>Aug 18, 05:35</td>\n",
       "      <td></td>\n",
       "    </tr>\n",
       "    <tr>\n",
       "      <th>1269</th>\n",
       "      <td>200200101626</td>\n",
       "      <td>9205007670</td>\n",
       "      <td>Aug 16, 00:40</td>\n",
       "      <td>Aug 17, 09:40</td>\n",
       "      <td>3</td>\n",
       "      <td>Aug 17, 13:00</td>\n",
       "      <td>Aug 17, 16:00</td>\n",
       "    </tr>\n",
       "    <tr>\n",
       "      <th>3096</th>\n",
       "      <td>200200247217</td>\n",
       "      <td>9205004557</td>\n",
       "      <td>Aug 16, 03:00</td>\n",
       "      <td>Aug 17, 06:40</td>\n",
       "      <td>3</td>\n",
       "      <td>Aug 17, 14:35</td>\n",
       "      <td>Aug 17, 17:45</td>\n",
       "    </tr>\n",
       "    <tr>\n",
       "      <th>1335</th>\n",
       "      <td>200200254961</td>\n",
       "      <td>9205006890</td>\n",
       "      <td>Aug 16, 04:50</td>\n",
       "      <td>Aug 17, 09:40</td>\n",
       "      <td>3</td>\n",
       "      <td>Aug 17, 12:15</td>\n",
       "      <td>Aug 17, 14:55</td>\n",
       "    </tr>\n",
       "    <tr>\n",
       "      <th>1352</th>\n",
       "      <td>200200231314</td>\n",
       "      <td>9205002924</td>\n",
       "      <td>Aug 16, 06:03</td>\n",
       "      <td>Aug 17, 06:40</td>\n",
       "      <td>3</td>\n",
       "      <td>Aug 17, 09:04</td>\n",
       "      <td>Aug 17, 11:45</td>\n",
       "    </tr>\n",
       "    <tr>\n",
       "      <th>3152</th>\n",
       "      <td>200200150588</td>\n",
       "      <td>9205006900</td>\n",
       "      <td>Aug 16, 06:55</td>\n",
       "      <td>Aug 17, 00:48</td>\n",
       "      <td>3</td>\n",
       "      <td>Aug 17, 22:55</td>\n",
       "      <td>Aug 18, 00:05</td>\n",
       "    </tr>\n",
       "    <tr>\n",
       "      <th>4535</th>\n",
       "      <td>200200224628</td>\n",
       "      <td>9205003856</td>\n",
       "      <td>Aug 16, 09:10</td>\n",
       "      <td>Aug 17, 03:03</td>\n",
       "      <td>3</td>\n",
       "      <td>Aug 17, 05:40</td>\n",
       "      <td>Aug 17, 09:28</td>\n",
       "    </tr>\n",
       "    <tr>\n",
       "      <th>1871</th>\n",
       "      <td>200200154305</td>\n",
       "      <td>9205000853</td>\n",
       "      <td>Aug 16, 09:44</td>\n",
       "      <td>Aug 17, 09:00</td>\n",
       "      <td>3</td>\n",
       "      <td>Aug 18, 02:43</td>\n",
       "      <td>Aug 18, 06:31</td>\n",
       "    </tr>\n",
       "    <tr>\n",
       "      <th>1442</th>\n",
       "      <td>200200110159</td>\n",
       "      <td>9205004902</td>\n",
       "      <td>Aug 16, 11:25</td>\n",
       "      <td>Aug 17, 09:00</td>\n",
       "      <td>3</td>\n",
       "      <td>Aug 17, 12:48</td>\n",
       "      <td>Aug 17, 15:30</td>\n",
       "    </tr>\n",
       "    <tr>\n",
       "      <th>3727</th>\n",
       "      <td>200200241596</td>\n",
       "      <td>9205000476</td>\n",
       "      <td>Aug 16, 14:08</td>\n",
       "      <td>Aug 17, 12:00</td>\n",
       "      <td>3</td>\n",
       "      <td></td>\n",
       "      <td>Aug 17, 15:48</td>\n",
       "    </tr>\n",
       "    <tr>\n",
       "      <th>3863</th>\n",
       "      <td>200200245956</td>\n",
       "      <td>9205007559</td>\n",
       "      <td>Aug 16, 18:31</td>\n",
       "      <td>Aug 17, 15:40</td>\n",
       "      <td>3</td>\n",
       "      <td>Aug 16, 07:39</td>\n",
       "      <td></td>\n",
       "    </tr>\n",
       "  </tbody>\n",
       "</table>\n",
       "</div>"
      ],
      "text/plain": [
       "              team      number    oper_time_f   depot_time_f state  \\\n",
       "4367  200200135984  9205000330  Jul 06, 18:43  Aug 16, 18:00     3   \n",
       "3028  210213779354  9205031354  Jul 08, 04:10  Aug 16, 21:40     3   \n",
       "1700  210213563777  9205031361  Jul 08, 12:21  Aug 17, 00:40     3   \n",
       "3032  200200093409  9205000643  Aug 11, 03:03  Aug 16, 18:00     3   \n",
       "3033  200200275629  9205008851  Aug 13, 03:14  Aug 16, 18:00     3   \n",
       "3932  200200082120  9205007883  Aug 14, 04:33  Aug 17, 15:40     3   \n",
       "2585  200200260598  9205001531  Aug 14, 15:44  Aug 17, 12:00     3   \n",
       "2588  200200140065  9205000806  Aug 14, 20:30  Aug 16, 18:00     3   \n",
       "3470  200200103149  9205007920  Aug 15, 04:46  Aug 17, 17:06     3   \n",
       "2156  230200225933  9205031461  Aug 15, 06:20  Aug 17, 14:21     3   \n",
       "3042  200200100354  9205007884  Aug 15, 06:23  Aug 17, 17:51     3   \n",
       "4394  200200249699  9205030603  Aug 15, 13:19  Aug 17, 03:40     3   \n",
       "4395  200200189996  9205002169  Aug 15, 13:23  Aug 16, 21:00     3   \n",
       "2596  200200251644  9205006741  Aug 15, 14:10  Aug 17, 00:00     3   \n",
       "1719  200200195786  9205030735  Aug 15, 15:57  Aug 16, 18:00     3   \n",
       "3047  200200185651  9205008005  Aug 15, 16:13  Aug 17, 00:00     3   \n",
       "2601  200200109166  9205002309  Aug 15, 19:30  Aug 17, 00:00     3   \n",
       "1269  200200101626  9205007670  Aug 16, 00:40  Aug 17, 09:40     3   \n",
       "3096  200200247217  9205004557  Aug 16, 03:00  Aug 17, 06:40     3   \n",
       "1335  200200254961  9205006890  Aug 16, 04:50  Aug 17, 09:40     3   \n",
       "1352  200200231314  9205002924  Aug 16, 06:03  Aug 17, 06:40     3   \n",
       "3152  200200150588  9205006900  Aug 16, 06:55  Aug 17, 00:48     3   \n",
       "4535  200200224628  9205003856  Aug 16, 09:10  Aug 17, 03:03     3   \n",
       "1871  200200154305  9205000853  Aug 16, 09:44  Aug 17, 09:00     3   \n",
       "1442  200200110159  9205004902  Aug 16, 11:25  Aug 17, 09:00     3   \n",
       "3727  200200241596  9205000476  Aug 16, 14:08  Aug 17, 12:00     3   \n",
       "3863  200200245956  9205007559  Aug 16, 18:31  Aug 17, 15:40     3   \n",
       "\n",
       "     prev_ready_time_f plan_start_time_f  \n",
       "4367     Aug 16, 21:48     Aug 16, 22:48  \n",
       "3028     Aug 17, 01:25     Aug 17, 04:20  \n",
       "1700     Aug 17, 04:28     Aug 17, 07:05  \n",
       "3032     Aug 17, 16:25     Aug 17, 19:25  \n",
       "3033                       Aug 16, 21:15  \n",
       "3932                                      \n",
       "2585     Aug 17, 23:05     Aug 18, 00:15  \n",
       "2588     Aug 17, 04:58     Aug 17, 07:50  \n",
       "3470                       Aug 17, 19:45  \n",
       "2156     Aug 17, 17:45     Aug 18, 01:12  \n",
       "3042     Aug 17, 20:35     Aug 18, 00:23  \n",
       "4394     Aug 17, 07:28     Aug 17, 09:45  \n",
       "4395     Aug 18, 00:29     Aug 18, 02:33  \n",
       "2596     Aug 18, 00:09     Aug 18, 02:13  \n",
       "1719                       Aug 16, 21:10  \n",
       "3047                       Aug 17, 03:48  \n",
       "2601     Aug 18, 05:35                    \n",
       "1269     Aug 17, 13:00     Aug 17, 16:00  \n",
       "3096     Aug 17, 14:35     Aug 17, 17:45  \n",
       "1335     Aug 17, 12:15     Aug 17, 14:55  \n",
       "1352     Aug 17, 09:04     Aug 17, 11:45  \n",
       "3152     Aug 17, 22:55     Aug 18, 00:05  \n",
       "4535     Aug 17, 05:40     Aug 17, 09:28  \n",
       "1871     Aug 18, 02:43     Aug 18, 06:31  \n",
       "1442     Aug 17, 12:48     Aug 17, 15:30  \n",
       "3727                       Aug 17, 15:48  \n",
       "3863     Aug 16, 07:39                    "
      ]
     },
     "execution_count": 789,
     "metadata": {},
     "output_type": "execute_result"
    }
   ],
   "source": [
    "print(nice_time(current_time))\n",
    "team_info['depot_name'] = team_info.depot.map(st_names.name)\n",
    "team_info['prev_ready_time'] = team_info.team.map(prev_team.drop_duplicates('team').set_index('team').prev_ready_time)\n",
    "team_info['prev_ready_time_f'] = team_info.prev_ready_time.apply(nice_time)\n",
    "team_info['oper_time_f'] = team_info.oper_time.apply(nice_time)\n",
    "team_info['plan_start_time'] = team_info.team.map(team_plan[team_plan.state.isin([0, 1])]\\\n",
    "                                                  .drop_duplicates('team').set_index('team').time_start)\n",
    "team_info['plan_start_time_f'] = team_info['plan_start_time'].apply(nice_time)\n",
    "cols = ['team', 'number', 'oper_time_f', 'depot_time_f', 'state', 'prev_ready_time_f', 'plan_start_time_f']\n",
    "team_info[(team_info.uth == 1) & (team_info.state == '3')\n",
    "          & (team_info.depot_name == 'ИРКУТСК-СОРТИРОВОЧНЫЙ')].sort_values('oper_time')[cols]"
   ]
  },
  {
   "cell_type": "markdown",
   "metadata": {},
   "source": [
    "[ToC](#toc)\n",
    "## Проверка возврата правильных времен явок у бригад\n",
    "\n",
    "Чтобы на форме текущего планирования можно было рассчитать рабочее время бригады, из планировщика в плане должны быть возвращены времена явок всех бригад:\n",
    "* Для бригад, у которых начальное состояние было отличное от 3 или 4, возвращенное время явки должно копировать время явки, переданное во входных данных.\n",
    "* Для бригад в начальном состоянии 3 или 4 и фейковых бригад время явки должно вычисляться на основе запланированного времени отправления."
   ]
  },
  {
   "cell_type": "code",
   "execution_count": 790,
   "metadata": {
    "collapsed": true
   },
   "outputs": [],
   "source": [
    "add_header('Проверка возврата правильных времен явок у бригад', h=2, p=False)"
   ]
  },
  {
   "cell_type": "code",
   "execution_count": 791,
   "metadata": {
    "collapsed": false
   },
   "outputs": [
    {
     "name": "stdout",
     "output_type": "stream",
     "text": [
      "Всего 232 бригад в состояниях 1, 2, 5, для которых возвращена неверная первая явка. Примеры:\n",
      "         team  time_start   time_start_f state_info    presence  presence_norm\n",
      " 200200225132  1471288248  Aug 15, 22:10          2  1471302000  Aug 16, 02:00\n",
      " 200200268421  1471373364  Aug 16, 21:49          2  1471361400  Aug 16, 18:30\n",
      " 200200189151  1471308480  Aug 16, 03:48          2  1471312800  Aug 16, 05:00\n",
      " 200200268458  1471326030  Aug 16, 08:40          2  1471330800  Aug 16, 10:00\n",
      " 200200216324  1471365082  Aug 16, 19:31          2  1471361400  Aug 16, 18:30\n",
      " 200200112276  1471357488  Aug 16, 17:24          2  1471363860  Aug 16, 19:11\n",
      " 200200127878  1471366252  Aug 16, 19:50          2  1471363200  Aug 16, 19:00\n",
      " 200200223934  1471311924  Aug 16, 04:45          2  1471315020  Aug 16, 05:37\n",
      " 200200082042  1471340988  Aug 16, 12:49          2  1471347360  Aug 16, 14:36\n",
      " 200200096970  1471371048  Aug 16, 21:10          2  1471362600  Aug 16, 18:50\n",
      "\n",
      "Распределение по состояниям:\n",
      "2    232\n",
      "         team st_from_name st_to_name   time_start_f     time_end_f  state loco\n",
      " 200200225132       ЮКТАЛИ     ЮКТАЛИ  Aug 15, 22:10  Aug 16, 02:00      2   -1\n",
      " 200200225132       ЮКТАЛИ     ЮКТАЛИ  Aug 16, 02:30  Aug 16, 23:43      4   -1\n",
      " 200200225132       ЮКТАЛИ      ЛОПЧА  Aug 16, 23:43  Aug 17, 02:57      0   -1\n",
      " 200200225132        ЛОПЧА    КУВЫКТА  Aug 17, 02:58  Aug 17, 05:48      0   -1\n",
      " 200200225132      КУВЫКТА      ТЫНДА  Aug 17, 05:48  Aug 17, 06:37      0   -1\n"
     ]
    },
    {
     "data": {
      "image/png": "[encoded data removed]",
      "text/plain": [
       "<matplotlib.figure.Figure at 0x1ff6c626828>"
      ]
     },
     "metadata": {},
     "output_type": "display_data"
    }
   ],
   "source": [
    "real_pres = team_info[team_info.state.isin(['1', '2', '5'])][['team', 'presence', 'presence_norm']]\n",
    "a = team_plan[(team_plan.state == 2) & (team_plan.team.isin(real_pres.team))].drop_duplicates('team')\n",
    "real_pres_fail = a[a.time_start != a.presence][['team', 'time_start', 'time_start_f', 'state_info', 'presence', 'presence_norm']]\n",
    "if real_pres_fail.empty:\n",
    "    add_header('Для всех бригад в состояниях 1, 2, 5 явки запланированы верно')\n",
    "else:\n",
    "    add_header('Всего %d бригад в состояниях 1, 2, 5, для которых возвращена неверная первая явка. Примеры:' \n",
    "               % real_pres_fail.team.count())\n",
    "    add_line(real_pres_fail.head(10))\n",
    "    add_line('\\nРаспределение по состояниям:')\n",
    "    add_line(real_pres_fail.state_info.value_counts())\n",
    "    team_id = real_pres_fail.iloc[0].team\n",
    "    cols = ['team', 'st_from_name', 'st_to_name', 'time_start_f', 'time_end_f', 'state', 'loco']\n",
    "    add_line(team_plan[team_plan.team == team_id][cols])\n",
    "    real_pres_fail['ready_delta'] = real_pres_fail.time_start - real_pres_fail.presence\n",
    "    fig = plt.figure(figsize=(8, 3))    \n",
    "    #fig = plt.figure()\n",
    "    sns.set(style='whitegrid', context='notebook')\n",
    "    sns.kdeplot(real_pres_fail.ready_delta / 3600)\n",
    "    plt.xlabel('Запаздывание времени явки, ч. (среднее = %.2f ч.)' % np.mean(real_pres_fail.ready_delta / 3600))\n",
    "    filename = 'team125_ready_late.png'\n",
    "    fig.savefig(REPORT_FOLDER + filename, bbox_inches='tight')\n",
    "    add_image(filename)"
   ]
  },
  {
   "cell_type": "markdown",
   "metadata": {},
   "source": [
    "Для бригад в начальных состояниях 6 (прибыла на станцию с локомотивом), 7 (прибыла на станцию пассажиром), 9 (сдача локомотива) проверяем, запланирован ли далее для бригады отдых. Если отдых запланирован, то не сравниваем время явки с исходным - оно будет задано вновь после отдыха. Если отдых не запланирован, то явка должна быть возвращена."
   ]
  },
  {
   "cell_type": "code",
   "execution_count": 792,
   "metadata": {
    "collapsed": false
   },
   "outputs": [
    {
     "name": "stdout",
     "output_type": "stream",
     "text": [
      "Для всех бригад в состояниях 6, 7, 9 запланированы требуемые явки\n",
      "\n",
      "Всего 14 бригад в состояниях 6, 7, 9, для которых возвращена неверная первая явка. Примеры:\n",
      "         team  time_start   time_start_f state_info    presence  presence_norm\n",
      " 200200105527  1471411848  Aug 17, 08:30          6  1471356000  Aug 16, 17:00\n",
      " 200200189739  1471393238  Aug 17, 03:20          6  1471335600  Aug 16, 11:20\n",
      " 200200261246  1471386000  Aug 17, 01:20          6  1471317600  Aug 16, 06:20\n",
      " 200200222012  1471393464  Aug 17, 03:24          6  1471346700  Aug 16, 14:25\n",
      " 200200118641  1471383398  Aug 17, 00:36          6  1471330800  Aug 16, 10:00\n",
      "\n",
      "Распределение по состояниям:\n",
      "6    14\n",
      "         team    st_from_name      st_to_name   time_start_f     time_end_f  state          loco\n",
      " 200200105527     СМОЛЯНИНОВО     СМОЛЯНИНОВО  Aug 16, 17:00  Aug 16, 18:30      2            -1\n",
      " 200200105527         УГЛОВАЯ  АМУРСКИЙ ЗАЛИВ  Aug 17, 03:50  Aug 17, 03:59      1  200200075849\n",
      " 200200105527  АМУРСКИЙ ЗАЛИВ    НАДЕЖДИНСКАЯ  Aug 17, 03:59  Aug 17, 04:08      1  200200075849\n",
      " 200200105527    НАДЕЖДИНСКАЯ     БАРАНОВСКИЙ  Aug 17, 04:08  Aug 17, 04:52      1  200200075849\n",
      " 200200105527     БАРАНОВСКИЙ       УССУРИЙСК  Aug 17, 04:52  Aug 17, 05:20      1  200200075849\n",
      " 200200105527       УССУРИЙСК     ДУБИНИНСКИЙ  Aug 17, 06:38  Aug 17, 06:54      0            -1\n",
      " 200200105527     ДУБИНИНСКИЙ       СИБИРЦЕВО  Aug 17, 06:54  Aug 17, 07:40      0            -1\n",
      " 200200105527       СИБИРЦЕВО       СИБИРЦЕВО  Aug 17, 08:30  Aug 17, 08:50      2            -1\n",
      " 200200105527       СИБИРЦЕВО  СПАССК-ДАЛЬНИЙ  Aug 17, 08:50  Aug 17, 09:56      1  200200086926\n",
      " 200200105527  СПАССК-ДАЛЬНИЙ        ШМАКОВКА  Aug 17, 09:56  Aug 17, 11:08      1  200200086926\n",
      " 200200105527        ШМАКОВКА          РУЖИНО  Aug 17, 11:08  Aug 17, 11:52      1  200200086926\n"
     ]
    },
    {
     "data": {
      "image/png": "[encoded data removed]",
      "text/plain": [
       "<matplotlib.figure.Figure at 0x1ff64b2c1d0>"
      ]
     },
     "metadata": {},
     "output_type": "display_data"
    }
   ],
   "source": [
    "real_pres = team_info[team_info.state.isin(['6', '7', '9'])]\n",
    "tp = team_plan[(team_plan.team.isin(real_pres.team)) & (team_plan.all_states.apply(lambda x: 4 not in x))]\n",
    "tp_no_ready = tp[tp.all_states.apply(lambda x: 2 not in x)]\n",
    "if tp_no_ready.empty:\n",
    "    add_header('Для всех бригад в состояниях 6, 7, 9 запланированы требуемые явки')\n",
    "else:\n",
    "    add_header('Для %d бригад в исходных состояниях 6, 7, 9 не запланированы явки. Примеры:' \n",
    "               % tp_no_ready.drop_duplicates('team').team.count())\n",
    "    add_line(tp_no_ready.drop_duplicates('team')[['team', 'loc_name', 'state_info', 'all_states']].head())    \n",
    "    add_line('\\nРаспределение по состояниям:')\n",
    "    add_line(tp_no_ready.drop_duplicates('team').state_info.value_counts())\n",
    "    cols = ['team', 'st_from_name', 'st_to_name', 'time_start_f', 'time_end_f', 'state', 'loco']\n",
    "    team_id = tp_no_ready.iloc[0].team\n",
    "    add_line(team_plan[team_plan.team == team_id][cols])\n",
    "    \n",
    "tp_ready_time_fail = tp[(tp.state == 2) & (tp.time_start != tp.presence)].drop_duplicates('team')\n",
    "if tp_ready_time_fail.empty:\n",
    "    add_header('Для всех бригад в состояниях 6, 7, 9 явки запланированы верно')\n",
    "else:\n",
    "    add_header('\\nВсего %d бригад в состояниях 6, 7, 9, для которых возвращена неверная первая явка. Примеры:' \n",
    "               % tp_ready_time_fail.team.count())\n",
    "    cols = ['team', 'time_start', 'time_start_f', 'state_info', 'presence', 'presence_norm']\n",
    "    add_line(tp_ready_time_fail[cols].head())\n",
    "    add_line('\\nРаспределение по состояниям:')\n",
    "    add_line(tp_ready_time_fail.state_info.value_counts())\n",
    "    cols = ['team', 'st_from_name', 'st_to_name', 'time_start_f', 'time_end_f', 'state', 'loco']\n",
    "    team_id = tp_ready_time_fail.iloc[0].team\n",
    "    add_line(team_plan[team_plan.team == team_id][cols])\n",
    "    fig = plt.figure(figsize=(8, 3))            \n",
    "    sns.kdeplot(real_pres_fail.ready_delta / 3600)\n",
    "    plt.xlabel('Запаздывание времени явки, ч. (среднее = %.2f ч.)' % np.mean(real_pres_fail.ready_delta / 3600))\n",
    "    filename = 'team679_ready_late.png'\n",
    "    fig.savefig(REPORT_FOLDER + filename, bbox_inches='tight')\n",
    "    add_image(filename)"
   ]
  },
  {
   "cell_type": "code",
   "execution_count": 793,
   "metadata": {
    "collapsed": false
   },
   "outputs": [
    {
     "name": "stdout",
     "output_type": "stream",
     "text": [
      "Для всех бригад в состояниях 3, 4 запланированы требуемые явки\n"
     ]
    }
   ],
   "source": [
    "tp = team_plan[(team_plan.state_info.isin(['3', '4'])) & (team_plan.all_states.apply(lambda x: (x[0] != 0) & (1 in x)))]\n",
    "tp_no_ready = tp[tp.all_states.apply(lambda x: 2 not in x)]\n",
    "if tp_no_ready.empty:\n",
    "    add_header('Для всех бригад в состояниях 3, 4 запланированы требуемые явки')\n",
    "else:\n",
    "    add_header('Для %d бригад в исходных состояниях 3, 4 не запланированы явки. Примеры:' \n",
    "               % tp_no_ready.drop_duplicates('team').team.count())\n",
    "    add_line(tp_no_ready.drop_duplicates('team')[['team', 'loc_name', 'state_info', 'all_states']].head())    \n",
    "    add_line('\\nРаспределение по состояниям:')\n",
    "    add_line(tp_no_ready.drop_duplicates('team').state_info.value_counts())\n",
    "    cols = ['team', 'st_from_name', 'st_to_name', 'time_start_f', 'time_end_f', 'state', 'loco']\n",
    "    team_id = tp_no_ready.iloc[0].team\n",
    "    add_line(team_plan[team_plan.team == team_id][cols])"
   ]
  },
  {
   "cell_type": "code",
   "execution_count": 794,
   "metadata": {
    "collapsed": false
   },
   "outputs": [
    {
     "name": "stdout",
     "output_type": "stream",
     "text": [
      "Для 176 фейковых бригад не запланированы явки. Примеры:\n",
      "         team loc_name state_info all_states\n",
      " 777700002835      NaN        NaN        [1]\n",
      " 777700002834      NaN        NaN        [1]\n",
      " 777700002833      NaN        NaN        [1]\n",
      " 777700002832      NaN        NaN        [1]\n",
      " 777700002839      NaN        NaN        [1]\n",
      "         team     st_from_name       st_to_name   time_start_f     time_end_f  state          loco\n",
      " 777700002835           МОГОЧА           АМАЗАР  Aug 17, 17:00  Aug 17, 18:59      1  200200097356\n",
      " 777700002835           АМАЗАР  ЕРОФЕЙ ПАВЛОВИЧ  Aug 17, 18:59  Aug 17, 21:18      1  200200097356\n",
      " 777700002835  ЕРОФЕЙ ПАВЛОВИЧ            УРУША  Aug 17, 21:18  Aug 17, 23:23      1  200200097356\n",
      " 777700002835            УРУША        БАМОВСКАЯ  Aug 17, 23:23  Aug 18, 00:46      1  200200097356\n",
      " 777700002835        БАМОВСКАЯ          ГОРЕЛЫЙ  Aug 18, 00:46  Aug 18, 00:53      1  200200097356\n",
      " 777700002835          ГОРЕЛЫЙ      СКОВОРОДИНО  Aug 18, 00:53  Aug 18, 01:32      1  200200097356\n"
     ]
    }
   ],
   "source": [
    "tp = team_plan[(team_plan.team_type == 'Фейковая') & (team_plan.all_states.apply(lambda x: (x[0] != 0) & (1 in x)))]\n",
    "tp_no_ready = tp[tp.all_states.apply(lambda x: 2 not in x)]\n",
    "if tp_no_ready.empty:\n",
    "    add_header('Для всех фейковых бригад запланированы требуемые явки')\n",
    "else:\n",
    "    add_header('Для %d фейковых бригад не запланированы явки. Примеры:' \n",
    "               % tp_no_ready.drop_duplicates('team').team.count())\n",
    "    add_line(tp_no_ready.drop_duplicates('team')[['team', 'loc_name', 'state_info', 'all_states']].head())        \n",
    "    cols = ['team', 'st_from_name', 'st_to_name', 'time_start_f', 'time_end_f', 'state', 'loco']\n",
    "    team_id = tp_no_ready.iloc[0].team\n",
    "    add_line(team_plan[team_plan.team == team_id][cols])"
   ]
  },
  {
   "cell_type": "markdown",
   "metadata": {},
   "source": [
    "[ToC](#toc)\n",
    "## Проверка планирования УТХ бригад\n",
    "\n",
    "Если для какого-то депо приписки переданы бригады с признаком `uth(1)`, то такие бригады должны планироваться в первую очередь, и только после них должны планироваться бригады с признаком `uth(0)`. Для бригад с признаком `uth(0)` должен производиться сдвиг явки на время после максимального времени явки бригад с `uth(1)` для данного депо. Если бригад с `uth(1)` для данного депо не передано, то сдвиг производить не требуется."
   ]
  },
  {
   "cell_type": "code",
   "execution_count": 795,
   "metadata": {
    "collapsed": true
   },
   "outputs": [],
   "source": [
    "add_header('Проверка планирования УТХ-бригад', h=2, p=False)"
   ]
  },
  {
   "cell_type": "markdown",
   "metadata": {},
   "source": [
    "<a id='cmp_depart_uth'></a>\n",
    "### УТХ-бригады должны планироваться раньше не-УТХ бригад, начальное состояние которых = 3"
   ]
  },
  {
   "cell_type": "code",
   "execution_count": 796,
   "metadata": {
    "collapsed": false
   },
   "outputs": [
    {
     "name": "stdout",
     "output_type": "stream",
     "text": [
      "Aug 16, 19:31\n",
      "Всего 159 не-УТХ-бригад (24.31%), которые отправлены ранее самой поздней УТХ-бригады\n",
      "-- из них 4 бригад, у которых место явки не совпадает с депо приписки\n",
      "\n",
      "Распределение по депо (первые 5):\n",
      "ЧИТА I                   21\n",
      "МОГОЧА                   20\n",
      "СМОЛЯНИНОВО              20\n",
      "ИРКУТСК-СОРТИРОВОЧНЫЙ    20\n",
      "ХАБАРОВСК II             12\n",
      "НИЖНЕУДИНСК              12\n",
      "РУЖИНО                   10\n",
      "ЗИМА                      8\n",
      "ВИХОРЕВКА                 8\n",
      "ТАЙШЕТ                    7\n",
      "\n",
      "Примеры бригад (первые 10 по времени отправления):\n",
      "         team           depot_name         st_from_name   st_to_name   time_start_f  state uth_plan_max_time_f uth_ready_max_time_f\n",
      " 200200216511  ИРКУТСК-СОРТИРОВ...  ИРКУТСК-СОРТИРОВ...    ГОНЧАРОВО  Aug 18, 01:29      1       Aug 18, 06:31        Aug 17, 17:51\n",
      " 200200164060  ИРКУТСК-СОРТИРОВ...  ИРКУТСК-СОРТИРОВ...    ГОНЧАРОВО  Aug 17, 23:50      1       Aug 18, 06:31        Aug 17, 17:51\n",
      " 200200251162            ВИХОРЕВКА            ВИХОРЕВКА     МОРГУДОН  Aug 18, 00:29      1       Aug 18, 01:02        Aug 17, 16:42\n",
      " 200200105795                 ЗИМА                 ЗИМА      ПЕРЕВОЗ  Aug 17, 23:38      1       Aug 18, 00:39        Aug 17, 17:46\n",
      " 200200268498         ХАБАРОВСК II         ХАБАРОВСК II   КРУГЛИКОВО  Aug 17, 23:07      1       Aug 17, 23:56        Aug 17, 17:10\n",
      " 200200090015               ТАЙШЕТ               ТАЙШЕТ         ЮРТЫ  Aug 18, 02:26      1       Aug 18, 02:57        Aug 17, 15:34\n",
      " 200200164348               МОГОЧА               МОГОЧА  КСЕНЬЕВСКАЯ  Aug 17, 18:25      1       Aug 17, 22:19        Aug 17, 07:23\n",
      " 200200171904                ХИЛОК                ХИЛОК     ЖИПХЕГЕН  Aug 17, 19:40      1       Aug 17, 20:25        Aug 17, 12:01\n",
      " 200200074419                БОРЗЯ                БОРЗЯ    ЗУН-ТОРЕЙ  Aug 17, 23:23      1       Aug 18, 07:39        Aug 17, 16:58\n",
      " 200200121077  ИРКУТСК-СОРТИРОВ...  ИРКУТСК-СОРТИРОВ...    ГОНЧАРОВО  Aug 17, 23:34      1       Aug 18, 06:31        Aug 17, 17:51\n"
     ]
    }
   ],
   "source": [
    "print(nice_time(current_time))\n",
    "uth_depots = team_info[team_info.uth == 1].depot.unique()\n",
    "cols = ['team', 'depot_name', 'uth', 'time_start_f', 'state']\n",
    "\n",
    "t_ready_max = team_info[(team_info.uth == 1)].groupby('depot').presence.max()\n",
    "t_plan_max = team_plan[(team_plan.uth == 1) \n",
    "                       & (team_plan.state.isin([0, 1]))].drop_duplicates('team').groupby('depot').time_start.max()\n",
    "team_plan['uth_plan_max_time'] = team_plan.depot.map(t_plan_max)\n",
    "team_plan['uth_plan_max_time_f'] = team_plan.uth_plan_max_time.apply(nice_time)\n",
    "team_plan['uth_ready_max_time'] = team_plan.depot.map(t_ready_max)\n",
    "team_plan['uth_ready_max_time_f'] = team_plan.uth_ready_max_time.apply(nice_time)\n",
    "cols = ['team', 'depot_name', 'st_from_name', 'st_to_name', 'time_start_f', 'state', \n",
    "        'uth_plan_max_time_f', 'uth_ready_max_time_f']\n",
    "t_uth_soft_fail = team_plan[(team_plan.uth == 0) & (team_plan.state_info == '3') & (team_plan.depot.isin(uth_depots))\n",
    "                      & (team_plan.state.isin([0, 1])) & (team_plan.time_start < team_plan.uth_plan_max_time)\n",
    "                      & (team_plan.depot_name == team_plan.loc_name)].drop_duplicates('team')\n",
    "t_uth_hard_fail = team_plan[(team_plan.uth == 0) & (team_plan.state_info == '3') & (team_plan.depot.isin(uth_depots))\n",
    "                      & (team_plan.state.isin([0, 1])) & (team_plan.time_start < team_plan.uth_ready_max_time)\n",
    "                      & (team_plan.depot_name == team_plan.loc_name)].drop_duplicates('team')\n",
    "\n",
    "total_uth_depots = team_plan[(team_plan.uth == 0) & (team_plan.state_info == '3') \n",
    "                             & (team_plan.depot.isin(uth_depots))].team.drop_duplicates().count()\n",
    "\n",
    "t_uth_fail_diff_depot_n = t_uth_soft_fail[t_uth_soft_fail.depot_name != t_uth_soft_fail.st_from_name].team.count()\n",
    "\n",
    "if t_uth_soft_fail.empty:\n",
    "    add_header('Нет случаев, когда не-УТХ-бригада планируется раньше УТХ-бригады')\n",
    "else:\n",
    "    add_header('Всего %d не-УТХ-бригад (%.2f%%), которые отправлены ранее самой поздней УТХ-бригады' \n",
    "               % (t_uth_soft_fail.team.count(), 100 * t_uth_soft_fail.team.count() / total_uth_depots))\n",
    "    add_header('-- из них %d бригад, у которых место явки не совпадает с депо приписки' % t_uth_fail_diff_depot_n)\n",
    "    add_line('\\nРаспределение по депо (первые 5):')\n",
    "    add_line(t_uth_soft_fail.depot_name.value_counts().head(10))\n",
    "    add_line('\\nПримеры бригад (первые 10 по времени отправления):')\n",
    "    add_line(t_uth_soft_fail[t_uth_soft_fail.depot_name == t_uth_soft_fail.st_from_name].head(10)[cols])    "
   ]
  },
  {
   "cell_type": "code",
   "execution_count": 797,
   "metadata": {
    "collapsed": false
   },
   "outputs": [
    {
     "name": "stdout",
     "output_type": "stream",
     "text": [
      "Нет случаев, когда не-УТХ-бригада планируется раньше явки УТХ-бригады\n"
     ]
    }
   ],
   "source": [
    "if t_uth_hard_fail.empty:\n",
    "    add_header('Нет случаев, когда не-УТХ-бригада планируется раньше явки УТХ-бригады')\n",
    "else:\n",
    "    add_header('Всего %d не-УТХ-бригад (%.2f%%), которые отправлены ранее самой поздней явки УТХ-бригады' \n",
    "               % (t_uth_hard_fail.team.count(), 100 * t_uth_hard_fail.team.count() / total_uth_depots))\n",
    "    add_header('-- из них %d бригад, у которых место явки не совпадает с депо приписки' % t_uth_fail_diff_depot_n)\n",
    "    add_line('\\nРаспределение по депо (первые 5):')\n",
    "    add_line(t_uth_hard_fail.depot_name.value_counts().head(10))\n",
    "    add_line('\\nПримеры бригад (первые 10 по времени отправления):')\n",
    "    add_line(t_uth_hard_fail[t_uth_hard_fail.depot_name == t_uth_hard_fail.st_from_name].head(10)[cols])    "
   ]
  },
  {
   "cell_type": "markdown",
   "metadata": {},
   "source": [
    "### Проверка УТХ-бригад по одной станции\n",
    "\n",
    "Составляется список всех УТХ-бригад по одной станции (по умолчанию - Иркутск-Сортировочный), подсчитывается, сколько таких бригад вообще не было использовано в планировании (это количество должно быть около нуля). Для дальнейшей проверки составляется список локомотивов, которые были отправлены с этой станции с фейковой бригадой или вообще без бригады. Дальше в том случае, если есть подвязки фейковых бригад и есть неиспользованные УТХ-бригады, то надо дополнительно по логам проверять, почему не была испоьзована УТХ-бригада."
   ]
  },
  {
   "cell_type": "code",
   "execution_count": 798,
   "metadata": {
    "collapsed": true
   },
   "outputs": [],
   "source": [
    "st_name = 'ИРКУТСК-СОРТИРОВОЧНЫЙ'\n",
    "#st_name = 'СЛЮДЯНКА I'"
   ]
  },
  {
   "cell_type": "code",
   "execution_count": 799,
   "metadata": {
    "collapsed": true
   },
   "outputs": [],
   "source": [
    "add_header('Проверка УТХ-бригад по депо %s' % st_name, h=2, p=False)"
   ]
  },
  {
   "cell_type": "code",
   "execution_count": 800,
   "metadata": {
    "collapsed": false
   },
   "outputs": [],
   "source": [
    "team_info['depot_name'] = team_info.depot.map(st_names.name)\n",
    "\n",
    "#team_info.columns\n",
    "team_info['plan_start_time'] = team_info.team\\\n",
    "                        .map(team_plan[team_plan.state.isin([0, 1])].drop_duplicates('team').set_index('team').time_start)\n",
    "team_info['plan_start_time_f'] = team_info['plan_start_time'].apply(nice_time)"
   ]
  },
  {
   "cell_type": "code",
   "execution_count": 801,
   "metadata": {
    "collapsed": false,
    "scrolled": false
   },
   "outputs": [
    {
     "name": "stdout",
     "output_type": "stream",
     "text": [
      "Все УТХ-бригады из депо ИРКУТСК-СОРТИРОВОЧНЫЙ (30):\n",
      "         team             depot_name  uth state is_assign  presence_norm plan_start_time_f prev_ready_time_f\n",
      " 200200219086  ИРКУТСК-СОРТИРОВОЧНЫЙ    1     0     False  Aug 16, 09:05                       Aug 16, 09:51\n",
      " 200200126979  ИРКУТСК-СОРТИРОВОЧНЫЙ    1     1      True  Aug 16, 10:40     Aug 16, 18:29     Aug 16, 11:19\n",
      " 200200164617  ИРКУТСК-СОРТИРОВОЧНЫЙ    1     1      True  Aug 16, 17:11     Aug 16, 19:17                  \n",
      " 200200135984  ИРКУТСК-СОРТИРОВОЧНЫЙ    1     3      True  Aug 16, 18:00     Aug 16, 22:48     Aug 16, 21:48\n",
      " 200200275629  ИРКУТСК-СОРТИРОВОЧНЫЙ    1     3      True  Aug 16, 18:00     Aug 16, 21:15                  \n",
      " 200200093409  ИРКУТСК-СОРТИРОВОЧНЫЙ    1     3      True  Aug 16, 18:00     Aug 17, 19:25     Aug 17, 16:25\n",
      " 200200195786  ИРКУТСК-СОРТИРОВОЧНЫЙ    1     3      True  Aug 16, 18:00     Aug 16, 21:10                  \n",
      " 200200140065  ИРКУТСК-СОРТИРОВОЧНЫЙ    1     3      True  Aug 16, 18:00     Aug 17, 07:50     Aug 17, 04:58\n",
      " 200200189996  ИРКУТСК-СОРТИРОВОЧНЫЙ    1     3      True  Aug 16, 21:00     Aug 18, 02:33     Aug 18, 00:29\n",
      " 210213779354  ИРКУТСК-СОРТИРОВОЧНЫЙ    1     3      True  Aug 16, 21:40     Aug 17, 04:20     Aug 17, 01:25\n",
      " 200200251644  ИРКУТСК-СОРТИРОВОЧНЫЙ    1     3      True  Aug 17, 00:00     Aug 18, 02:13     Aug 18, 00:09\n",
      " 200200109166  ИРКУТСК-СОРТИРОВОЧНЫЙ    1     3     False  Aug 17, 00:00                       Aug 18, 05:35\n",
      " 200200185651  ИРКУТСК-СОРТИРОВОЧНЫЙ    1     3      True  Aug 17, 00:00     Aug 17, 03:48                  \n",
      " 210213563777  ИРКУТСК-СОРТИРОВОЧНЫЙ    1     3      True  Aug 17, 00:40     Aug 17, 07:05     Aug 17, 04:28\n",
      " 200200150588  ИРКУТСК-СОРТИРОВОЧНЫЙ    1     3      True  Aug 17, 00:48     Aug 18, 00:05     Aug 17, 22:55\n",
      " 200200224628  ИРКУТСК-СОРТИРОВОЧНЫЙ    1     3      True  Aug 17, 03:03     Aug 17, 09:28     Aug 17, 05:40\n",
      " 200200249699  ИРКУТСК-СОРТИРОВОЧНЫЙ    1     3      True  Aug 17, 03:40     Aug 17, 09:45     Aug 17, 07:28\n",
      " 200200247217  ИРКУТСК-СОРТИРОВОЧНЫЙ    1     3      True  Aug 17, 06:40     Aug 17, 17:45     Aug 17, 14:35\n",
      " 200200231314  ИРКУТСК-СОРТИРОВОЧНЫЙ    1     3      True  Aug 17, 06:40     Aug 17, 11:45     Aug 17, 09:04\n",
      " 200200110159  ИРКУТСК-СОРТИРОВОЧНЫЙ    1     3      True  Aug 17, 09:00     Aug 17, 15:30     Aug 17, 12:48\n",
      " 200200154305  ИРКУТСК-СОРТИРОВОЧНЫЙ    1     3      True  Aug 17, 09:00     Aug 18, 06:31     Aug 18, 02:43\n",
      " 200200254961  ИРКУТСК-СОРТИРОВОЧНЫЙ    1     3      True  Aug 17, 09:40     Aug 17, 14:55     Aug 17, 12:15\n",
      " 200200101626  ИРКУТСК-СОРТИРОВОЧНЫЙ    1     3      True  Aug 17, 09:40     Aug 17, 16:00     Aug 17, 13:00\n",
      " 200200241596  ИРКУТСК-СОРТИРОВОЧНЫЙ    1     3      True  Aug 17, 12:00     Aug 17, 15:48                  \n",
      " 200200260598  ИРКУТСК-СОРТИРОВОЧНЫЙ    1     3      True  Aug 17, 12:00     Aug 18, 00:15     Aug 17, 23:05\n",
      " 230200225933  ИРКУТСК-СОРТИРОВОЧНЫЙ    1     3      True  Aug 17, 14:21     Aug 18, 01:12     Aug 17, 17:45\n",
      " 200200245956  ИРКУТСК-СОРТИРОВОЧНЫЙ    1     3     False  Aug 17, 15:40                       Aug 16, 07:39\n",
      " 200200082120  ИРКУТСК-СОРТИРОВОЧНЫЙ    1     3     False  Aug 17, 15:40                                    \n",
      " 200200103149  ИРКУТСК-СОРТИРОВОЧНЫЙ    1     3      True  Aug 17, 17:06     Aug 17, 19:45                  \n",
      " 200200100354  ИРКУТСК-СОРТИРОВОЧНЫЙ    1     3      True  Aug 17, 17:51     Aug 18, 00:23     Aug 17, 20:35\n",
      "Максимальное время явки УТХ-бригад депо ИРКУТСК-СОРТИРОВОЧНЫЙ: Aug 17, 17:51\n",
      "Максимальное время отправления УТХ-бригад депо ИРКУТСК-СОРТИРОВОЧНЫЙ: Aug 18, 06:31\n",
      "Всего УТХ-бригад: 30\n",
      "Из них не использовано в планировании: 4\n"
     ]
    }
   ],
   "source": [
    "irk_uth = team_info[(team_info.depot_name == st_name) & (team_info.uth == 1)]\n",
    "add_header('Все УТХ-бригады из депо %s (%d):' % (st_name, irk_uth.team.count()))\n",
    "cols = ['team', 'depot_name', 'uth', 'state', 'is_assign', 'presence_norm', 'plan_start_time_f', 'prev_ready_time_f']\n",
    "pd.set_option('display.max_colwidth', 30)\n",
    "add_line(irk_uth.sort_values('presence')[cols])\n",
    "t_max = irk_uth.presence.max()\n",
    "t_plan_max = irk_uth.plan_start_time.max()\n",
    "add_line('Максимальное время явки УТХ-бригад депо %s: %s' % (st_name, nice_time(t_max)))\n",
    "add_line('Максимальное время отправления УТХ-бригад депо %s: %s' % (st_name, nice_time(t_plan_max)))\n",
    "add_line('Всего УТХ-бригад: %d' % irk_uth.team.count())\n",
    "add_line('Из них не использовано в планировании: %d' % irk_uth[irk_uth.is_assign == False].team.count())"
   ]
  },
  {
   "cell_type": "code",
   "execution_count": 802,
   "metadata": {
    "collapsed": false
   },
   "outputs": [],
   "source": [
    "cols = ['team', 'depot_name', 'depot_st_name', 'uth', 'state', 'loc_name', 'is_assign', 'presence_norm', 'plan_start_time_f']\n",
    "irk_no_uth = team_info[(team_info.depot_name == st_name) & (team_info.uth == 0) & (team_info.state == '3')]\n",
    "# add_header('Начальное расположение не-УТХ-бригад депо приписки %s в начальном состоянии 3:' % st_name)\n",
    "# add_line(irk_no_uth.loc_name.value_counts())"
   ]
  },
  {
   "cell_type": "code",
   "execution_count": 803,
   "metadata": {
    "collapsed": false
   },
   "outputs": [
    {
     "name": "stdout",
     "output_type": "stream",
     "text": [
      "Проверка на то, что не-УТХ-бригады, находившиеся в Иркутске, запланированы к отправлению НЕ РАНЕЕ максимального времени явки иркутских УТХ-бригад:\n",
      "True\n",
      "Проверка на то, что не-УТХ-бригады, находившиеся в Иркутске, запланированы к отправлению НЕ РАНЕЕ максимального времени отправления иркутских УТХ-бригад:\n",
      "False\n"
     ]
    }
   ],
   "source": [
    "add_line('Проверка на то, что не-УТХ-бригады, находившиеся в Иркутске, запланированы к отправлению НЕ РАНЕЕ '\n",
    "        + 'максимального времени явки иркутских УТХ-бригад:')\n",
    "add_line(irk_no_uth[irk_no_uth.loc_name == irk_no_uth.depot_name].plan_start_time.min() > t_max)\n",
    "add_line('Проверка на то, что не-УТХ-бригады, находившиеся в Иркутске, запланированы к отправлению НЕ РАНЕЕ '\n",
    "        + 'максимального времени отправления иркутских УТХ-бригад:')\n",
    "add_line(irk_no_uth[irk_no_uth.loc_name == irk_no_uth.depot_name].plan_start_time.min() > t_plan_max)"
   ]
  },
  {
   "cell_type": "code",
   "execution_count": 804,
   "metadata": {
    "collapsed": true
   },
   "outputs": [],
   "source": [
    "team_plan['fake_depot'] = team_plan.team.map(team_plan[team_plan.state.isin([0, 1])]\n",
    "                                             .drop_duplicates('team').set_index('team').st_from_name)\n",
    "team_plan.depot_name.fillna(team_plan.fake_depot, inplace=True)"
   ]
  },
  {
   "cell_type": "code",
   "execution_count": 805,
   "metadata": {
    "collapsed": false
   },
   "outputs": [
    {
     "name": "stdout",
     "output_type": "stream",
     "text": [
      "Все запланированные бригады, отправленные со станции ИРКУТСК-СОРТИРОВОЧНЫЙ из начального state = 3 (всего 44):\n",
      "         team           st_from_name               loc_name  state  presence_norm   time_start_f  uth   delta\n",
      " 200200195786  ИРКУТСК-СОРТИРОВОЧНЫЙ  ИРКУТСК-СОРТИРОВОЧНЫЙ      1  Aug 16, 18:00  Aug 16, 21:10    1   11400\n",
      " 200200275629  ИРКУТСК-СОРТИРОВОЧНЫЙ  ИРКУТСК-СОРТИРОВОЧНЫЙ      1  Aug 16, 18:00  Aug 16, 21:15    1   11700\n",
      " 200200135984              ГОНЧАРОВО  ИРКУТСК-СОРТИРОВОЧНЫЙ      1  Aug 16, 18:00  Aug 16, 22:48    1   17280\n",
      " 200200185651  ИРКУТСК-СОРТИРОВОЧНЫЙ  ИРКУТСК-СОРТИРОВОЧНЫЙ      1  Aug 17, 00:00  Aug 17, 03:48    1   13680\n",
      " 210213779354  ИРКУТСК-СОРТИРОВОЧНЫЙ  ИРКУТСК-СОРТИРОВОЧНЫЙ      1  Aug 16, 21:40  Aug 17, 04:20    1   23988\n",
      " 210213563777  ИРКУТСК-СОРТИРОВОЧНЫЙ  ИРКУТСК-СОРТИРОВОЧНЫЙ      1  Aug 17, 00:40  Aug 17, 07:05    1   23088\n",
      " 200200140065  ИРКУТСК-СОРТИРОВОЧНЫЙ  ИРКУТСК-СОРТИРОВОЧНЫЙ      1  Aug 16, 18:00  Aug 17, 07:50    1   49800\n",
      " 200200224628  ИРКУТСК-СОРТИРОВОЧНЫЙ  ИРКУТСК-СОРТИРОВОЧНЫЙ      1  Aug 17, 03:03  Aug 17, 09:28    1   23064\n",
      " 200200249699                    КАЯ  ИРКУТСК-СОРТИРОВОЧНЫЙ      1  Aug 17, 03:40  Aug 17, 09:45    1   21888\n",
      " 200200231314  ИРКУТСК-СОРТИРОВОЧНЫЙ  ИРКУТСК-СОРТИРОВОЧНЫЙ      1  Aug 17, 06:40  Aug 17, 11:45    1   18288\n",
      " 200200254961  ИРКУТСК-СОРТИРОВОЧНЫЙ  ИРКУТСК-СОРТИРОВОЧНЫЙ      1  Aug 17, 09:40  Aug 17, 14:55    1   18888\n",
      " 200200110159  ИРКУТСК-СОРТИРОВОЧНЫЙ  ИРКУТСК-СОРТИРОВОЧНЫЙ      1  Aug 17, 09:00  Aug 17, 15:30    1   23400\n",
      " 200200241596  ИРКУТСК-СОРТИРОВОЧНЫЙ  ИРКУТСК-СОРТИРОВОЧНЫЙ      1  Aug 17, 12:00  Aug 17, 15:48    1   13680\n",
      " 200200101626  ИРКУТСК-СОРТИРОВОЧНЫЙ  ИРКУТСК-СОРТИРОВОЧНЫЙ      1  Aug 17, 09:40  Aug 17, 16:00    1   22788\n",
      " 200200247217  ИРКУТСК-СОРТИРОВОЧНЫЙ  ИРКУТСК-СОРТИРОВОЧНЫЙ      1  Aug 17, 06:40  Aug 17, 17:45    1   39888\n",
      " 200200093409  ИРКУТСК-СОРТИРОВОЧНЫЙ  ИРКУТСК-СОРТИРОВОЧНЫЙ      1  Aug 16, 18:00  Aug 17, 19:25    1   91500\n",
      " 200200103149  ИРКУТСК-СОРТИРОВОЧНЫЙ  ИРКУТСК-СОРТИРОВОЧНЫЙ      1  Aug 17, 17:06  Aug 17, 19:45    1    9504\n",
      " 210213405977  ИРКУТСК-СОРТИРОВОЧНЫЙ  ИРКУТСК-СОРТИРОВОЧНЫЙ      1  Aug 16, 17:01  Aug 17, 23:25    0  109440\n",
      " 200200121077  ИРКУТСК-СОРТИРОВОЧНЫЙ  ИРКУТСК-СОРТИРОВОЧНЫЙ      1  Aug 16, 20:43  Aug 17, 23:34    0   96663\n",
      " 200200177382  ИРКУТСК-СОРТИРОВОЧНЫЙ  ИРКУТСК-СОРТИРОВОЧНЫЙ      1  Aug 16, 18:00  Aug 17, 23:35    0  106500\n",
      " 200200164060  ИРКУТСК-СОРТИРОВОЧНЫЙ  ИРКУТСК-СОРТИРОВОЧНЫЙ      1  Aug 16, 19:01  Aug 17, 23:50    0  103740\n",
      " 200200275856  ИРКУТСК-СОРТИРОВОЧНЫЙ  ИРКУТСК-СОРТИРОВОЧНЫЙ      1  Aug 16, 23:34  Aug 17, 23:55    0   87719\n",
      " 200200150588              ГОНЧАРОВО  ИРКУТСК-СОРТИРОВОЧНЫЙ      1  Aug 17, 00:48  Aug 18, 00:05    1   83784\n",
      " 200200231466  ИРКУТСК-СОРТИРОВОЧНЫЙ  ИРКУТСК-СОРТИРОВОЧНЫЙ      1  Aug 17, 00:10  Aug 18, 00:13    0   86598\n",
      " 200200260598             БАТАРЕЙНАЯ  ИРКУТСК-СОРТИРОВОЧНЫЙ      1  Aug 17, 12:00  Aug 18, 00:15    1   44100\n",
      " 200200100354  ИРКУТСК-СОРТИРОВОЧНЫЙ  ИРКУТСК-СОРТИРОВОЧНЫЙ      1  Aug 17, 17:51  Aug 18, 00:23    1   23484\n",
      " 200200209907  ИРКУТСК-СОРТИРОВОЧНЫЙ  ИРКУТСК-СОРТИРОВОЧНЫЙ      1  Aug 16, 22:40  Aug 18, 00:49    0   94140\n",
      " 230200225933              ГОНЧАРОВО  ИРКУТСК-СОРТИРОВОЧНЫЙ      1  Aug 17, 14:21  Aug 18, 01:12    1   39062\n",
      " 200200204447  ИРКУТСК-СОРТИРОВОЧНЫЙ  ИРКУТСК-СОРТИРОВОЧНЫЙ      1  Aug 16, 21:30  Aug 18, 01:16    0   99983\n",
      " 200200247576  ИРКУТСК-СОРТИРОВОЧНЫЙ  ИРКУТСК-СОРТИРОВОЧНЫЙ      1  Aug 16, 19:38  Aug 18, 01:23    0  107100\n",
      " 200200216511  ИРКУТСК-СОРТИРОВОЧНЫЙ  ИРКУТСК-СОРТИРОВОЧНЫЙ      1  Aug 16, 17:40  Aug 18, 01:29    0  114540\n",
      " 220201366432  ИРКУТСК-СОРТИРОВОЧНЫЙ  ИРКУТСК-СОРТИРОВОЧНЫЙ      1  Aug 16, 18:00  Aug 18, 01:39    0  113940\n",
      " 200200251644  ИРКУТСК-СОРТИРОВОЧНЫЙ  ИРКУТСК-СОРТИРОВОЧНЫЙ      1  Aug 17, 00:00  Aug 18, 02:13    1   94380\n",
      " 200200118745  ИРКУТСК-СОРТИРОВОЧНЫЙ  ИРКУТСК-СОРТИРОВОЧНЫЙ      1  Aug 16, 19:23  Aug 18, 02:14    0  111060\n",
      " 200200250674  ИРКУТСК-СОРТИРОВОЧНЫЙ  ИРКУТСК-СОРТИРОВОЧНЫЙ      1  Aug 16, 19:00  Aug 18, 02:14    0  112440\n",
      " 200200189996  ИРКУТСК-СОРТИРОВОЧНЫЙ  ИРКУТСК-СОРТИРОВОЧНЫЙ      1  Aug 16, 21:00  Aug 18, 02:33    1  106380\n",
      " 200200164545  ИРКУТСК-СОРТИРОВОЧНЫЙ  ИРКУТСК-СОРТИРОВОЧНЫЙ      1  Aug 16, 17:25  Aug 18, 02:40    0  119721\n",
      " 200200165803  ИРКУТСК-СОРТИРОВОЧНЫЙ  ИРКУТСК-СОРТИРОВОЧНЫЙ      1  Aug 16, 16:36  Aug 18, 02:43    0  122820\n",
      " 200200252103  ИРКУТСК-СОРТИРОВОЧНЫЙ  ИРКУТСК-СОРТИРОВОЧНЫЙ      1  Aug 16, 19:01  Aug 18, 03:06    0  115506\n",
      " 200200220837  ИРКУТСК-СОРТИРОВОЧНЫЙ  ИРКУТСК-СОРТИРОВОЧНЫЙ      1  Aug 16, 20:48  Aug 18, 03:12    0  109496\n",
      " 200200253113  ИРКУТСК-СОРТИРОВОЧНЫЙ  ИРКУТСК-СОРТИРОВОЧНЫЙ      1  Aug 16, 19:00  Aug 18, 03:14    0  116088\n",
      " 200200224741  ИРКУТСК-СОРТИРОВОЧНЫЙ  ИРКУТСК-СОРТИРОВОЧНЫЙ      1  Aug 16, 21:10  Aug 18, 03:16    0  108408\n",
      " 200200154449  ИРКУТСК-СОРТИРОВОЧНЫЙ  ИРКУТСК-СОРТИРОВОЧНЫЙ      1  Aug 16, 23:31  Aug 18, 05:27    0  107783\n",
      " 200200154305  ИРКУТСК-СОРТИРОВОЧНЫЙ  ИРКУТСК-СОРТИРОВОЧНЫЙ      1  Aug 17, 09:00  Aug 18, 06:31    1   77508\n",
      "\n",
      "Среднее время (в часах) между явкой и отправлением для бригад депо ИРКУТСК-СОРТИРОВОЧНЫЙ (по типу - УТХ/не-УТХ):\n",
      "uth\n",
      "0    30.26\n",
      "1     6.46\n"
     ]
    }
   ],
   "source": [
    "cols = ['team', 'st_from_name', 'loc_name', 'state', 'presence_norm', 'time_start_f', 'uth', 'delta']\n",
    "team_plan['delta'] = team_plan.time_start - team_plan.presence\n",
    "tp = team_plan[(team_plan.depot_name == st_name) \n",
    "          & (team_plan.state_info == '3') \n",
    "          & (team_plan.state.isin([0, 1]))\n",
    "          & (team_plan.loc_name == st_name)]\n",
    "add_header('Все запланированные бригады, отправленные со станции %s из начального state = 3 (всего %d):' \n",
    "           % (st_name, tp.drop_duplicates('team').team.count()))\n",
    "add_line(tp.drop_duplicates('team').sort_values('time_start')[cols])\n",
    "\n",
    "add_header('\\nСреднее время (в часах) между явкой и отправлением для бригад депо %s (по типу - УТХ/не-УТХ):' % st_name)\n",
    "add_line(np.round(tp.drop_duplicates('team').groupby('uth').delta.median() / 3600, 2))"
   ]
  },
  {
   "cell_type": "code",
   "execution_count": 806,
   "metadata": {
    "collapsed": false
   },
   "outputs": [
    {
     "name": "stdout",
     "output_type": "stream",
     "text": [
      "Случаи отправки локомотива со станции ИРКУТСК-СОРТИРОВОЧНЫЙ без бригады или с фейковой бригадой (всего 5):\n",
      "         loco           st_from_name  st_to_name   time_start_f          team   team_depot\n",
      " 200214794947  ИРКУТСК-СОРТИРОВОЧНЫЙ   ГОНЧАРОВО  Aug 17, 10:00  777700001884   СЛЮДЯНКА I\n",
      " 200200101969  ИРКУТСК-СОРТИРОВОЧНЫЙ   ГОНЧАРОВО  Aug 17, 11:15  777700001987   СЛЮДЯНКА I\n",
      " 200200102229  ИРКУТСК-СОРТИРОВОЧНЫЙ   ГОНЧАРОВО  Aug 17, 14:25  777700002087   СЛЮДЯНКА I\n",
      " 200200097847  ИРКУТСК-СОРТИРОВОЧНЫЙ   ГОНЧАРОВО  Aug 17, 15:05  777700001989   СЛЮДЯНКА I\n",
      " 200200060802  ИРКУТСК-СОРТИРОВОЧНЫЙ  БАТАРЕЙНАЯ  Aug 17, 17:40  777700001621  НИЖНЕУДИНСК\n"
     ]
    }
   ],
   "source": [
    "loco_plan['team_start'] = loco_plan.team != loco_plan.team.shift(1)\n",
    "loco_plan['team_depot'] = loco_plan.team.map(team_plan.drop_duplicates('team').set_index('team').depot_name)\n",
    "cols = ['loco', 'st_from_name', 'st_to_name', 'time_start_f', 'team', 'team_depot']\n",
    "no_team = loco_plan[(loco_plan.team_start == True) & (loco_plan.st_from_name == st_name) & (loco_plan.state.isin([0, 1]))\n",
    "          & (loco_plan.time_start >= current_time) & (loco_plan.time_start < current_time + 24 * 3600)\n",
    "          & ((loco_plan.team_type == 'Фейковая') | (loco_plan.team_type.isnull()))].sort_values('time_start')\n",
    "add_header('Случаи отправки локомотива со станции %s без бригады или с фейковой бригадой (всего %d):'\n",
    "          % (st_name, no_team.loco.count()))\n",
    "add_line(no_team[cols])"
   ]
  },
  {
   "cell_type": "code",
   "execution_count": 807,
   "metadata": {
    "collapsed": false
   },
   "outputs": [],
   "source": [
    "linked = pd.read_csv(FOLDER + 'linked_stations.csv', dtype={'main':str, 'linked':str})\n",
    "linked['main_name'] = linked.main.map(st_names.name)\n",
    "linked['linked_name'] = linked.linked.map(st_names.name)\n",
    "linked.dropna(inplace=True)"
   ]
  },
  {
   "cell_type": "code",
   "execution_count": 808,
   "metadata": {
    "collapsed": false
   },
   "outputs": [
    {
     "data": {
      "text/html": [
       "<div>\n",
       "<table border=\"1\" class=\"dataframe\">\n",
       "  <thead>\n",
       "    <tr style=\"text-align: right;\">\n",
       "      <th></th>\n",
       "      <th>slot</th>\n",
       "      <th>st_from_name</th>\n",
       "      <th>st_to_name</th>\n",
       "      <th>time_start_f</th>\n",
       "      <th>time_end_f</th>\n",
       "    </tr>\n",
       "  </thead>\n",
       "  <tbody>\n",
       "  </tbody>\n",
       "</table>\n",
       "</div>"
      ],
      "text/plain": [
       "Empty DataFrame\n",
       "Columns: [slot, st_from_name, st_to_name, time_start_f, time_end_f]\n",
       "Index: []"
      ]
     },
     "execution_count": 808,
     "metadata": {},
     "output_type": "execute_result"
    }
   ],
   "source": [
    "slot_pass = pd.read_csv(FOLDER + 'slot_pass.csv', dtype={'st_from':str, 'st_to':str})\n",
    "add_info(slot_pass)\n",
    "cols = ['slot', 'st_from_name', 'st_to_name', 'time_start_f', 'time_end_f']\n",
    "slot_pass[(slot_pass.st_from_name == 'ИРКУТСК-СОРТИРОВОЧНЫЙ') & (slot_pass.st_to_name == 'ВОЕННЫЙ ГОРОДОК')\n",
    "         & (slot_pass.time_start >= current_time) & (slot_pass.time_start < current_time + 24 * 3600)]\\\n",
    "        .sort_values('time_start')[cols]\n",
    "slot_pass[slot_pass.slot == 200253805879][cols]"
   ]
  },
  {
   "cell_type": "markdown",
   "metadata": {},
   "source": [
    "### Для бригад из депо, по которым нет УТХ-бригад, не должно быть большого сдвига времени явки\n",
    "\n",
    "Составляется список всех бригад, принадлежащих тем депо приписки, по которым не было передано УТХ-бригад. Для таких бригад оценивается время между явкой и запланированным отправлением. Если 75%-квантиль распределения этих времен ожидания меньше 5 часов, то тест считается пройденным (значит, 75% таких бригад ожидали отправления не более 5 часов). В противном случае выдается предупреждение: время ожидания выглядит завышенным, нужна дополнительная проверка по логам."
   ]
  },
  {
   "cell_type": "code",
   "execution_count": 809,
   "metadata": {
    "collapsed": false
   },
   "outputs": [
    {
     "name": "stdout",
     "output_type": "stream",
     "text": [
      "WARNING: разница между планируемым и переданным временем явки у бригад из депо, по которым нет УТХ-бригад выглядит завышенной\n",
      "         team  st_from_name      loc_name depot_name   depot_time_f   time_start_f   delta\n",
      " 200200267659     МАГДАГАЧИ     БЕЛОГОРСК  БЕЛОГОРСК  Aug 16, 16:55  Aug 18, 08:14  141586\n",
      " 200200166359  БЕЛОГОРСК II     БЕЛОГОРСК  БЕЛОГОРСК  Aug 16, 16:00  Aug 18, 06:39  139167\n",
      " 200200260629  БЕЛОГОРСК II     БЕЛОГОРСК  БЕЛОГОРСК  Aug 16, 16:19  Aug 18, 06:38  137993\n",
      " 200200174920     БЕЛОГОРСК  БЕЛОГОРСК II  БЕЛОГОРСК  Aug 16, 18:20  Aug 18, 08:30  137459\n",
      " 200200166359  БЕЛОГОРСК II     БЕЛОГОРСК  БЕЛОГОРСК  Aug 16, 16:00  Aug 18, 05:59  136755\n",
      " 200200248916  БЕЛОГОРСК II     БЕЛОГОРСК  БЕЛОГОРСК  Aug 16, 15:45  Aug 18, 05:28  135804\n",
      " 200200260629  БЕЛОГОРСК II     БЕЛОГОРСК  БЕЛОГОРСК  Aug 16, 16:19  Aug 18, 05:58  135581\n",
      " 200200167965  БЕЛОГОРСК II     БЕЛОГОРСК  БЕЛОГОРСК  Aug 16, 16:29  Aug 18, 05:59  135055\n",
      " 200200260629     БЕЛОГОРСК     БЕЛОГОРСК  БЕЛОГОРСК  Aug 16, 16:19  Aug 18, 05:27  133716\n",
      " 200200166359     БЕЛОГОРСК     БЕЛОГОРСК  БЕЛОГОРСК  Aug 16, 16:00  Aug 18, 05:07  133678\n"
     ]
    }
   ],
   "source": [
    "team_plan['depot_time_f'] = team_plan.depot_time.apply(nice_time)\n",
    "ts = team_plan[(team_plan.uth == 0) & (team_plan.depot.isin(uth_depots) == False) & (team_plan.state_info == '3')].copy()\n",
    "ts['delta'] = ts.time_start - ts.depot_time\n",
    "cols = ['team', 'st_from_name', 'loc_name', 'depot_name', 'depot_time_f', 'time_start_f', 'delta']\n",
    "ts.drop_duplicates('team')[cols]\n",
    "delta75 = (ts.drop_duplicates('team').delta / 3600).describe()['75%']\n",
    "if delta75 < 5:\n",
    "    add_header('У 75% бригад из депо, по которым нет УТХ-бригад, разница между переданным и запланированным временем явки'\n",
    "              + ' составляет меньше %.2f ч. (это ОК)' % delta75)\n",
    "else:\n",
    "    add_header('WARNING: разница между планируемым и переданным временем явки у бригад из депо, по которым нет УТХ-бригад ' +\n",
    "              'выглядит завышенной')\n",
    "    add_line(ts[ts.delta > 5].sort_values('delta', ascending=False).head(10)[cols])"
   ]
  },
  {
   "cell_type": "markdown",
   "metadata": {},
   "source": [
    "## Экспорт в HTML [ToC](#toc)"
   ]
  },
  {
   "cell_type": "code",
   "execution_count": 810,
   "metadata": {
    "collapsed": false
   },
   "outputs": [
    {
     "name": "stdout",
     "output_type": "stream",
     "text": [
      "Отчет сформирован: report/team_report_20160817_170911.html\n"
     ]
    }
   ],
   "source": [
    "filename = REPORT_FOLDER + 'team_report_' + time.strftime('%Y%m%d_%H%M%S', time.localtime(time.time())) + '.html'\n",
    "create_report(filename)"
   ]
  }
 ],
 "metadata": {
  "kernelspec": {
   "display_name": "Python 3",
   "language": "python",
   "name": "python3"
  },
  "language_info": {
   "codemirror_mode": {
    "name": "ipython",
    "version": 3
   },
   "file_extension": ".py",
   "mimetype": "text/x-python",
   "name": "python",
   "nbconvert_exporter": "python",
   "pygments_lexer": "ipython3",
   "version": "3.5.1"
  }
 },
 "nbformat": 4,
 "nbformat_minor": 0
}
