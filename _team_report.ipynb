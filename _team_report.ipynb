{
 "cells": [
  {
   "cell_type": "markdown",
   "metadata": {},
   "source": [
    "<a id='toc'></a>\n",
    "# Список тестов по бригадам:"
   ]
  },
  {
   "cell_type": "markdown",
   "metadata": {},
   "source": [
    "1. [Расчет процента подвязки между бригадами и локомотивами.](#perc_assign)\n",
    "2. [Расчет процента запланированных бригад от общего количества бригад на входе планировщика.](#perc_assign2)\n",
    "3. [Распределение между реальными и фейковыми бригадами в результатах планирования.](#real_fake)\n",
    "4. [Составление списка станций и участков, на которых не состоялась подвязка бригады.](#no_assign)\n",
    "5. [Проверка переработки бригад.](#overwork)   \n",
    "6. [Проверка \"скачков\" бригад между станциями.](#leaps)\n",
    "7. [Анализ времен стоянок поездов для смены бригады.](#stop_time)\n",
    "8. [Анализ времен отдыха бригад.](#rest_time)\n",
    "9. [Проверка корректности времен явки бригад во входных данных](#ready_time)\n",
    "10. [Проверка смены бригад на корректных станциях](#change)\n",
    "11. [Проверка отправления бригад до времени явки](#presence)\n",
    "12. [Проверка планирования бригад до времени начала планирования](#before_current_time)\n",
    "13. [Проверка планируемых явок бригад](#presenting)\n",
    "14. [Проверка использования бригад после засылки пассажирами](#check_useful_assign)\n",
    "  1. [Бригады, бесцельно отправляемые пассажирами](#only_pass)\n",
    "  2. [Бригады, у которых запланирована только явка](#only_presence)\n",
    "15. [Проверка подвязки негрузовых бригад](#pass_teams_in_plan)\n",
    "16. [Проверка сохранения предыдущих времен явок](#Проверка-сохранения-предыдущих-времен-явок)\n",
    "17. [Проверка возврата правильных времен явок у бригад](#Проверка-возврата-правильных-времен-явок-у-бригад)\n",
    "18. [Проверка планирования УТХ бригад](#Проверка-планирования-УТХ-бригад)"
   ]
  },
  {
   "cell_type": "markdown",
   "metadata": {},
   "source": [
    "### Константы и настройки"
   ]
  },
  {
   "cell_type": "code",
   "execution_count": 381,
   "metadata": {
    "collapsed": true
   },
   "outputs": [],
   "source": [
    "report = ''               # здесь будет храниться весь html-код отчета\n",
    "FOLDER = 'resources/'     # папка с csv-файлами с данными\n",
    "REPORT_FOLDER = 'report/' # папка для отчетов\n",
    "PRINT = True              # выводить ли все таблицы из отчета на печать здесь в блокноте"
   ]
  },
  {
   "cell_type": "code",
   "execution_count": 382,
   "metadata": {
    "collapsed": false
   },
   "outputs": [],
   "source": [
    "TIME_FORMAT = '%b %d, %H:%M'\n",
    "'''\n",
    "    Преобразует время из timestamp в красивый формат, заданный в константе time_format\n",
    "'''\n",
    "def nice_time(t):\n",
    "    return time.strftime(TIME_FORMAT, time.localtime(t)) if t > 0 else ''\n",
    "\n",
    "def nice_print(s, **kwargs):    \n",
    "    num = kwargs['num'] if 'num' in kwargs.keys() else False\n",
    "    cols = kwargs['cols'] if 'cols' in kwargs.keys() else s.columns\n",
    "    if num:\n",
    "        print(s.reset_index()[cols].to_string())\n",
    "    else:\n",
    "        print(s[cols].to_string(index=False))"
   ]
  },
  {
   "cell_type": "markdown",
   "metadata": {},
   "source": [
    "### Функции для экспорта в HTML"
   ]
  },
  {
   "cell_type": "code",
   "execution_count": 383,
   "metadata": {
    "collapsed": false
   },
   "outputs": [],
   "source": [
    "def add_line(line, p=PRINT):    \n",
    "    global report        \n",
    "    if p:                \n",
    "        if type(line) == pd.core.frame.DataFrame:\n",
    "            print(line.to_string(index=False))\n",
    "        elif type(line) == pd.core.series.Series:\n",
    "            print(line.to_string())\n",
    "        else:\n",
    "            print(line)\n",
    "    if type(line) == pd.core.frame.DataFrame:        \n",
    "        report += ('%s<br>' % line.to_html(index=False))\n",
    "    elif type(line) == pd.core.series.Series:\n",
    "        report += ('%s<br>' % line.to_frame().reset_index().to_html(index=False))\n",
    "    else:\n",
    "        report += ('%s<br>' % line)\n",
    "    \n",
    "def add_header(header, h=4, p=PRINT):\n",
    "    global report\n",
    "    report += ('<h%d>%s</h%d>' % (h, header, h))\n",
    "    if p:\n",
    "        print(header)\n",
    "\n",
    "def add_image(filename):\n",
    "    global report\n",
    "    report += ('<img src=\"%s\" alt=\"%s\" height=\"30%%\">' % (filename, filename))\n",
    "\n",
    "def create_report(filename):\n",
    "    global report\n",
    "    report = report.replace('<table border=\"1\" class=\"dataframe\">','<table class=\"table table-striped\">')\n",
    "    html_string = '''\n",
    "        <html>\n",
    "            <head>\n",
    "                <link rel=\"stylesheet\" href=\"skeleton.css\">\n",
    "                <style>body{ margin:20 20; background:whitesmoke; }\n",
    "                table {table-layout : fixed}\n",
    "                </style>\n",
    "            </head>\n",
    "            <body>                \n",
    "                %s\n",
    "            </body>\n",
    "        </html>''' % (report)\n",
    "    f = open(filename,'w', encoding='utf-8-sig')\n",
    "    f.write(html_string)\n",
    "    f.close()\n",
    "    print('Отчет сформирован: %s' % filename)"
   ]
  },
  {
   "cell_type": "markdown",
   "metadata": {},
   "source": [
    "## Загрузка и подготовка данных"
   ]
  },
  {
   "cell_type": "code",
   "execution_count": 384,
   "metadata": {
    "collapsed": false
   },
   "outputs": [
    {
     "name": "stdout",
     "output_type": "stream",
     "text": [
      "Время составления отчета: Aug 12, 15:46\n",
      "Время запуска планировщика: Aug 11, 19:31 (1470933101)\n"
     ]
    }
   ],
   "source": [
    "import numpy as np\n",
    "import pandas as pd\n",
    "import time, datetime\n",
    "from ast import literal_eval\n",
    "import matplotlib.pyplot as plt\n",
    "import seaborn as sns\n",
    "\n",
    "%matplotlib inline\n",
    "plt.style.use('fivethirtyeight')\n",
    "plt.rc('font', family='Times New Roman')\n",
    "\n",
    "pd.set_option('max_rows', 50)\n",
    "\n",
    "start_time = time.time()\n",
    "current_time = pd.read_csv(FOLDER + 'current_time.csv').current_time[0]\n",
    "twr          = pd.read_csv(FOLDER + 'team_work_region.csv', converters={'twr':str})\n",
    "links        = pd.read_csv(FOLDER + 'link.csv')\n",
    "stations     = pd.read_csv(FOLDER + 'station.csv', converters={'station':str})\n",
    "train_info   = pd.read_csv(FOLDER + 'train_info.csv', converters={'train': str, 'st_from':str, 'st_to':str})\n",
    "train_plan   = pd.read_csv(FOLDER + 'slot_train.csv', converters={'train': str, 'st_from':str, 'st_to':str})\n",
    "loco_info    = pd.read_csv(FOLDER + 'loco_attributes.csv', converters={'train':str, 'loco':str})\n",
    "loco_plan    = pd.read_csv(FOLDER + 'slot_loco.csv', converters={'train':str, 'loco':str, 'st_from':str, 'st_to':str})\n",
    "team_info    = pd.read_csv(FOLDER + 'team_attributes.csv', converters={'team':str,'depot':str, 'oper_location':str, \\\n",
    "                                                                 'st_from':str, 'st_to':str, 'loco':str, 'depot_st':str})\n",
    "team_plan    = pd.read_csv(FOLDER + 'slot_team.csv', converters={'team':str,'loco':str, 'st_from':str, 'st_to':str})\n",
    "loco_series  = pd.read_csv(FOLDER + 'loco_series.csv')\n",
    "\n",
    "team_info.regions = team_info.regions.apply(literal_eval)\n",
    "st_names = stations[['station', 'name', 'esr']].drop_duplicates().set_index('station')\n",
    "print('Время составления отчета:', time.strftime(TIME_FORMAT, time.localtime()))\n",
    "print('Время запуска планировщика: %s (%d)' % (nice_time(current_time), current_time))"
   ]
  },
  {
   "cell_type": "code",
   "execution_count": 385,
   "metadata": {
    "collapsed": true
   },
   "outputs": [],
   "source": [
    "# Мержим таблицы _plan и _info для поездов, локомотивов и бригад\n",
    "# Добавляем во все таблицы названия станций на маршруте и времена отправления/прибытия в читабельном формате\n",
    "\n",
    "def add_info(df):    \n",
    "    if 'st_from' in df.columns:\n",
    "        df['st_from_name'] = df.st_from.map(st_names.name)\n",
    "    if 'st_to' in df.columns:\n",
    "        df['st_to_name'] = df.st_to.map(st_names.name)\n",
    "    if 'time_start' in df.columns:\n",
    "        df['time_start_f'] = df.time_start.apply(lambda x: nice_time(x))\n",
    "    if 'time_end' in df.columns:\n",
    "        df['time_end_f'] = df.time_end.apply(lambda x: nice_time(x))\n",
    "    if 'oper_location' in df.columns:\n",
    "        df['oper_location_name'] = df.oper_location.map(st_names.name)    \n",
    "        df.oper_location_name.fillna(0, inplace=True)\n",
    "    if ('oper_location' in df.columns) & ('st_from' in df.columns) & ('st_to' in df.columns):        \n",
    "        df['loc_name'] = df.oper_location_name\n",
    "        df.loc[df.loc_name == 0, 'loc_name'] = df.st_from_name + ' - ' + df.st_to_name\n",
    "    \n",
    "add_info(train_plan)\n",
    "add_info(loco_plan)\n",
    "add_info(team_plan)\n",
    "add_info(loco_info)\n",
    "add_info(team_info)\n",
    "train_plan = train_plan.merge(train_info, on='train', suffixes=('', '_info'), how='left')\n",
    "loco_plan = loco_plan.merge(loco_info, on='loco', suffixes=('', '_info'), how='left')\n",
    "team_plan = team_plan.merge(team_info, on='team', suffixes=('', '_info'), how='left')\n",
    "team_plan['team_type'] = team_plan.team.apply(lambda x: 'Реальная' if str(x)[0] == '2' else 'Фейковая')"
   ]
  },
  {
   "cell_type": "code",
   "execution_count": 386,
   "metadata": {
    "collapsed": false
   },
   "outputs": [
    {
     "name": "stdout",
     "output_type": "stream",
     "text": [
      "Время сбора данных и запуска планировщика: Aug 11, 19:31\n"
     ]
    }
   ],
   "source": [
    "add_line('Время сбора данных и запуска планировщика: %s' % nice_time(current_time))"
   ]
  },
  {
   "cell_type": "markdown",
   "metadata": {},
   "source": [
    "<a id='perc_assign'></a>\n",
    "## Расчет процента подвязки между локомотивами и бригадами [ToC](#toc)"
   ]
  },
  {
   "cell_type": "code",
   "execution_count": 387,
   "metadata": {
    "collapsed": true
   },
   "outputs": [],
   "source": [
    "add_header('Расчет процента подвязки между локомотивами и бригадами', h=2, p=False)"
   ]
  },
  {
   "cell_type": "code",
   "execution_count": 388,
   "metadata": {
    "collapsed": false
   },
   "outputs": [
    {
     "name": "stdout",
     "output_type": "stream",
     "text": [
      "Локомотивов без бригад на горизонте  6 часов: 61 из 1656 (процент подвязки 96%)\n",
      "Локомотивов без реальных бригад на горизонте  6 часов: 206 из 1656 (процент подвязки 87%)\n",
      "Локомотивов без бригад на горизонте 12 часов: 109 из 1656 (процент подвязки 93%)\n",
      "Локомотивов без реальных бригад на горизонте 12 часов: 447 из 1656 (процент подвязки 73%)\n",
      "Локомотивов без бригад на горизонте 24 часов: 208 из 1656 (процент подвязки 87%)\n",
      "Локомотивов без реальных бригад на горизонте 24 часов: 1050 из 1656 (процент подвязки 36%)\n"
     ]
    }
   ],
   "source": [
    "def count_real_assign_percent(hor):\n",
    "    loco_no_team = loco_plan.loc[(loco_plan.time_start < current_time + hor) &\n",
    "                             ((loco_plan.team == -1) | (loco_plan.team_type == 'Фейковая')) &\n",
    "                             (loco_plan.state.isin([0, 1]))]\n",
    "    loco_n = len(loco_plan.drop_duplicates(subset=['loco']).index)\n",
    "    loco_no_team_n = len(loco_no_team.loco.drop_duplicates().index)\n",
    "    percent = 100 - np.round((100 * loco_no_team_n / loco_n), 2)\n",
    "    add_line('Локомотивов без реальных бригад на горизонте %2.d часов: %d из %d (процент подвязки %d%%)' %\n",
    "          (hor / 3600, loco_no_team_n, loco_n, percent))\n",
    "    \n",
    "    \n",
    "def count_assign_percent(hor):\n",
    "    loco_no_team = loco_plan.loc[(loco_plan.time_start < current_time + hor) &\n",
    "                             (loco_plan.team == -1) &\n",
    "                             (loco_plan.state.isin([0, 1]))]\n",
    "    loco_n = len(loco_plan.drop_duplicates(subset=['loco']).index)\n",
    "    loco_no_team_n = len(loco_no_team.loco.drop_duplicates().index)\n",
    "    percent = 100 - np.round((100 * loco_no_team_n / loco_n), 2)\n",
    "    add_line('Локомотивов без бригад на горизонте %2.d часов: %d из %d (процент подвязки %d%%)' %\n",
    "          (hor / 3600, loco_no_team_n, loco_n, percent))\n",
    "    count_real_assign_percent(hor)   \n",
    "\n",
    "    \n",
    "if 'team' not in loco_plan.columns:\n",
    "    loco_plan = loco_plan.set_index(['loco', 'time_start']).join(team_plan.loc[team_plan.state == 1, \\\n",
    "                                                                ['team', 'loco', 'time_start', 'team_type']].\\\n",
    "                                                                 set_index(['loco', 'time_start'])).reset_index()    \n",
    "    loco_plan.team.fillna(-1, inplace=True)\n",
    "\n",
    "count_assign_percent(6 * 3600)\n",
    "count_assign_percent(12 * 3600)\n",
    "count_assign_percent(24 * 3600)"
   ]
  },
  {
   "cell_type": "markdown",
   "metadata": {},
   "source": [
    "<a id='perc_assign2'></a>\n",
    "## Расчет процента запланированных бригад от общего количества [ToC](#toc)"
   ]
  },
  {
   "cell_type": "code",
   "execution_count": 389,
   "metadata": {
    "collapsed": true
   },
   "outputs": [],
   "source": [
    "add_header('Расчет процента запланированных бригад от общего количества бригад на входе', h=2, p=False)"
   ]
  },
  {
   "cell_type": "code",
   "execution_count": 390,
   "metadata": {
    "collapsed": false
   },
   "outputs": [
    {
     "name": "stdout",
     "output_type": "stream",
     "text": [
      "Всего бригад, запланированных с локомотивами в работе: 3032 из 5109 (59.35%)\n"
     ]
    },
    {
     "data": {
      "image/png": "[encoded data removed]",
      "text/plain": [
       "<matplotlib.figure.Figure at 0x1b185b26438>"
      ]
     },
     "metadata": {},
     "output_type": "display_data"
    }
   ],
   "source": [
    "team_assigned_n = team_info[team_info.team.isin(team_plan[team_plan.state.isin([0, 1])].team)]\\\n",
    "                    .drop_duplicates('team').team.count()\n",
    "team_total_n = team_info.drop_duplicates('team').team.count()\n",
    "team_assigned_percent = team_assigned_n / team_total_n\n",
    "add_line('Всего бригад, запланированных с локомотивами в работе: %d из %d (%.2f%%)' %\n",
    "      (team_assigned_n, team_total_n, 100 * team_assigned_percent))\n",
    "team_info['is_assign'] = team_info.team.isin(team_plan[team_plan.state.isin([0, 1])].team)\n",
    "assign_states = team_info.loc[team_info.is_assign == True, ['team', 'state']].state.astype(str).value_counts().to_frame()\n",
    "initial_states = team_info.state.value_counts().to_frame()\n",
    "initial_states.columns=['Бригады во входных данных']\n",
    "assign_states.columns=['Бригады в результатах']\n",
    "states = initial_states.join(assign_states)\n",
    "states.fillna(0, inplace=True)\n",
    "\n",
    "sns.set(style='white', context='notebook')\n",
    "sns.set_color_codes('pastel')\n",
    "fig = plt.figure(figsize=(8, 4))\n",
    "sns.barplot(x='index', y='Бригады во входных данных', data=states.sort_index().reset_index(), \n",
    "            color=\"b\", label='Бригады во входных данных')\n",
    "sns.set_color_codes('muted')\n",
    "ax = sns.barplot(x='index', y='Бригады в результатах', data=states.sort_index().reset_index(), \n",
    "            color=\"b\", label='Бригады в результатах')\n",
    "ax.legend(ncol=1, loc=\"upper right\", frameon=False)\n",
    "ax.set(ylabel='Количество бригад', xlabel='Исходное состояние бригады', \n",
    "       title='Соотношение между количеством запланированных бригад и бригад на входе')\n",
    "#sns.despine()\n",
    "filename = 'team_usage.png'\n",
    "plt.savefig(REPORT_FOLDER + filename, bbox_inches='tight')\n",
    "add_image(filename)"
   ]
  },
  {
   "cell_type": "markdown",
   "metadata": {},
   "source": [
    "<a id='real_fake'></a>\n",
    "### Распределение реальных и фейковых бригад в результатах планирования"
   ]
  },
  {
   "cell_type": "code",
   "execution_count": 391,
   "metadata": {
    "collapsed": true
   },
   "outputs": [],
   "source": [
    "add_header('Распределение реальных и фейковых бригад в результатах планирования', h=2, p=False)"
   ]
  },
  {
   "cell_type": "code",
   "execution_count": 392,
   "metadata": {
    "collapsed": false
   },
   "outputs": [
    {
     "data": {
      "image/png": "[encoded data removed]",
      "text/plain": [
       "<matplotlib.figure.Figure at 0x1b194054c50>"
      ]
     },
     "metadata": {},
     "output_type": "display_data"
    }
   ],
   "source": [
    "f = team_plan[team_plan.state.isin([0, 1])].drop_duplicates('team').team_type.value_counts()\n",
    "fig = plt.figure(figsize=(5,5))\n",
    "colors = ['cornflowerblue', 'lightskyblue']\n",
    "expl = (0.03, 0) if len(f) == 2 else None\n",
    "plt.pie(f, autopct='%.2f%%', colors=colors, explode=expl, shadow=True, labels=list(f.index))\n",
    "filename = 'real_fake_teams_ratio.png'\n",
    "fig.savefig(REPORT_FOLDER + filename, bbox_inches='tight')\n",
    "add_image(filename)"
   ]
  },
  {
   "cell_type": "markdown",
   "metadata": {},
   "source": [
    "<a id='no_assign'></a>\n",
    "## Cтанции и участки, на которых не состоялась подвязка бригады [ToC](#toc)"
   ]
  },
  {
   "cell_type": "code",
   "execution_count": 393,
   "metadata": {
    "collapsed": true
   },
   "outputs": [],
   "source": [
    "add_header('Станции и участки, на которых не состоялась подвязка бригады', h=2, p=False)"
   ]
  },
  {
   "cell_type": "code",
   "execution_count": 394,
   "metadata": {
    "collapsed": false
   },
   "outputs": [],
   "source": [
    "horizon = 6 * 3600\n",
    "add_line('Горизонт анализа: %d часов' % (horizon / 3600), p=False)\n",
    "loco_mask = (loco_plan.time_start < current_time + horizon)"
   ]
  },
  {
   "cell_type": "code",
   "execution_count": 395,
   "metadata": {
    "collapsed": false
   },
   "outputs": [
    {
     "name": "stdout",
     "output_type": "stream",
     "text": [
      "Станции, на которых не удалось подвязать бригады под локомотив (первые 10):\n",
      "КРАСНОЯРСК-ВОСТОЧНЫЙ                  17\n",
      "КОМСОМОЛЬСК-НА-АМУРЕ-СОРТИРОВОЧНЫЙ    10\n",
      "АБАКАН                                 5\n",
      "МЫСОВАЯ                                3\n",
      "БЕЛОГОРСК II                           2\n",
      "НОВЫЙ УРГАЛ                            2\n",
      "УССУРИЙСК                              2\n",
      "УЯР                                    2\n",
      "ЗАОЗЕРНАЯ                              2\n",
      "КАРЫМСКАЯ                              2\n",
      "\n",
      "Участки планирования, на которых не удалось подвязать бригады под локомотив (первые 10):\n",
      "st_from_name                        st_to_name          \n",
      "КРАСНОЯРСК-ВОСТОЧНЫЙ                ЗЫКОВО                  17\n",
      "КОМСОМОЛЬСК-НА-АМУРЕ-СОРТИРОВОЧНЫЙ  МЫЛКИ                    7\n",
      "АБАКАН                              ТАШЕБА                   5\n",
      "КОМСОМОЛЬСК-НА-АМУРЕ-СОРТИРОВОЧНЫЙ  КОМСОМОЛЬСК-НА-АМУРЕ     3\n",
      "БЕЛОГОРСК II                        БЕЛОГОРСК                2\n",
      "НОВЫЙ УРГАЛ                         УРГАЛ I                  2\n",
      "МЫСОВАЯ                             УЛАН-УДЭ                 2\n",
      "УЯР                                 ЗЫКОВО                   2\n",
      "УССУРИЙСК                           ДУБИНИНСКИЙ              2\n",
      "ЗАОЗЕРНАЯ                           УЯР                      2\n"
     ]
    }
   ],
   "source": [
    "# Добавляем признак первой станции на маршруте локомотива, где не была подвязана бригада\n",
    "loco_plan.loc[loco_plan.state == 4, 'team'] = 0\n",
    "loco_plan['no_team_start'] = (loco_plan.team == -1) & \\\n",
    "                             ((loco_plan.team != loco_plan.team.shift(1)) | (loco_plan.loco != loco_plan.loco.shift(1)))\n",
    "    \n",
    "loco_cols = ['loco', 'st_from_name', 'st_to_name', 'state', 'time_start_f', 'team', 'no_team_start']\n",
    "fail_team_assign_locos = loco_plan.loc[loco_mask & (loco_plan.no_team_start == True)]\n",
    "fail_team_assign_stations = fail_team_assign_locos.st_from_name.value_counts().head(10)\n",
    "fail_team_assign_tracks = fail_team_assign_locos.groupby('st_from_name').st_to_name.value_counts().\\\n",
    "                            sort_values(ascending=False).head(10)\n",
    "add_header('Станции, на которых не удалось подвязать бригады под локомотив (первые 10):')\n",
    "add_line(fail_team_assign_stations)\n",
    "add_header('\\nУчастки планирования, на которых не удалось подвязать бригады под локомотив (первые 10):')\n",
    "add_line(fail_team_assign_tracks)"
   ]
  },
  {
   "cell_type": "code",
   "execution_count": 396,
   "metadata": {
    "collapsed": false
   },
   "outputs": [
    {
     "name": "stdout",
     "output_type": "stream",
     "text": [
      "Локомотивы, к которым не была подвязана бригада на станции КРАСНОЯРСК-ВОСТОЧНЫЙ, по направлениям:\n",
      "ЗЫКОВО    17\n"
     ]
    }
   ],
   "source": [
    "st_name = fail_team_assign_stations.head(1).index[0]\n",
    "#st_name = 'КРАСНОЯРСК-ВОСТОЧНЫЙ'\n",
    "bad_locos = loco_plan.loc[loco_mask & (loco_plan.st_from_name == st_name) & (loco_plan.no_team_start == True)]\n",
    "if not bad_locos.empty:\n",
    "    add_header('Локомотивы, к которым не была подвязана бригада на станции %s, по направлениям:' % st_name)\n",
    "    add_line(bad_locos.st_to_name.value_counts())"
   ]
  },
  {
   "cell_type": "markdown",
   "metadata": {},
   "source": [
    "<a id='overwork'></a>\n",
    "## Проверка переработки бригад [ToC](#toc)"
   ]
  },
  {
   "cell_type": "code",
   "execution_count": 397,
   "metadata": {
    "collapsed": true
   },
   "outputs": [],
   "source": [
    "add_header('Бригады с переработкой', h=2, p=False)"
   ]
  },
  {
   "cell_type": "markdown",
   "metadata": {},
   "source": [
    "#### Вычисляем последнее время явки для каждого участка на маршруте"
   ]
  },
  {
   "cell_type": "code",
   "execution_count": 398,
   "metadata": {
    "collapsed": false
   },
   "outputs": [],
   "source": [
    "# В поле presence прописываем последнюю явку бригады из входных данных\n",
    "team_info['all_presence'] = list(zip(team_info.depot_time, team_info.return_time))\n",
    "team_info['presence'] = team_info.all_presence.apply(lambda x: max(x))\n",
    "team_info['presence_norm'] = team_info.presence.apply(nice_time)\n",
    "team_plan['info_presence'] = team_plan.team.map(team_info.set_index('team').presence)\n",
    "team_plan['info_presence_norm'] = team_plan.info_presence.apply(nice_time)\n",
    "team_plan['info_presence'] = team_plan.info_presence.apply(lambda x: [] if np.isnan(x) else [int(x)])\n",
    "\n",
    "# Собираем все запланированные явки бригады. \n",
    "# Если ни одной явки не запланировано, то проставляем фейковые явки: время первого отправления (после отдыха) минус 1 час\n",
    "team_plan['start_trip'] = team_plan.state.isin([0, 1]) \\\n",
    "                & ((team_plan.team != team_plan.team.shift(1)) | (team_plan.state.shift(1) == 4))\n",
    "team_plan['fake_plan_presence'] = team_plan.team.map(team_plan[team_plan.start_trip].groupby('team').time_start.unique() - 3600)\n",
    "team_plan.fake_plan_presence.fillna(0, inplace=True)\n",
    "team_plan['fake_plan_presence'] = team_plan.fake_plan_presence.apply(lambda x: [] if (type(x) == int) else x)\n",
    "team_plan['plan_presence'] = team_plan.team.map(team_plan[team_plan.state == 2].groupby('team').time_start.unique())\n",
    "team_plan.plan_presence.fillna(0, inplace=True)\n",
    "team_plan['plan_presence'] = team_plan.plan_presence.apply(lambda x: [] if (type(x) == int) else x)"
   ]
  },
  {
   "cell_type": "code",
   "execution_count": 399,
   "metadata": {
    "collapsed": false
   },
   "outputs": [],
   "source": [
    "def get_curr_presence(row):\n",
    "    real_presence = np.concatenate([row.info_presence, row.plan_presence])   \n",
    "    if len(real_presence) > 0:\n",
    "        presence_list = real_presence\n",
    "    elif len(row.fake_plan_presence) > 0:\n",
    "        presence_list = row.fake_plan_presence\n",
    "    else:\n",
    "        return current_time\n",
    "        \n",
    "    t = row.time_start\n",
    "    b = [x for x in presence_list if x <= t]\n",
    "    return int(max(b)) if b != [] else (row.fake_plan_presence[0] if len(row.fake_plan_presence) > 0 else current_time)   \n",
    "    \n",
    "    \n",
    "team_plan['curr_presence'] = team_plan.apply(lambda row: get_curr_presence(row), axis=1)\n",
    "#cols = ['team', 'st_from_name', 'time_start', 'state', 'info_presence', 'info_presence_norm', \n",
    "#        'plan_presence', 'fake_plan_presence', 'curr_presence']\n",
    "#team_plan[team_plan.team == '777700001868'][cols]"
   ]
  },
  {
   "cell_type": "markdown",
   "metadata": {},
   "source": [
    "#### Составляем таблицу team_trips с поездками бригад"
   ]
  },
  {
   "cell_type": "code",
   "execution_count": 400,
   "metadata": {
    "collapsed": false
   },
   "outputs": [],
   "source": [
    "cols = ['team', 'state', 'st_from_name', 'st_to_name', 'time_start', 'time_end', 'loco', 'start_trip', 'end_trip', \n",
    "        'start_trip_time', 'end_trip_time']\n",
    "team_plan['end_trip'] = ((team_plan.team != team_plan.team.shift(-1)) & (team_plan.state == 1)) | \\\n",
    "                        ((team_plan.state == 1) & (team_plan.state.shift(-1).isin([0, 2, 4])))\n",
    "team_plan.loc[team_plan.end_trip == True, 'end_trip_time'] = team_plan.time_end\n",
    "team_plan['start_trip'] = ((team_plan.state == 1) & (team_plan.team != team_plan.team.shift(1))) | \\\n",
    "                        ((team_plan.state == 1) & (team_plan.state.shift(1).isin([0, 2, 4])))\n",
    "team_plan.loc[team_plan.start_trip == True, 'start_trip_time'] = team_plan.time_start\n",
    "start_trips = team_plan.dropna(subset=['start_trip_time'])\n",
    "end_trips = team_plan.dropna(subset=['end_trip_time'])\n",
    "\n",
    "frames = [start_trips.reset_index()[['team', 'state', 'st_from_name', 'start_trip_time']],\n",
    "          end_trips.reset_index()[['st_to_name', 'end_trip_time', 'curr_presence']]]\n",
    "team_trips = pd.concat(frames, axis=1, ignore_index=True)\n",
    "team_trips.columns = ['team', 'state', 'st_from_name', 'time_start', 'st_to_name', 'time_end', 'curr_presence']\n",
    "add_info(team_trips)\n",
    "team_trips['curr_presence_norm'] = team_trips.curr_presence.apply(nice_time)"
   ]
  },
  {
   "cell_type": "code",
   "execution_count": 401,
   "metadata": {
    "collapsed": false
   },
   "outputs": [
    {
     "data": {
      "text/html": [
       "<div>\n",
       "<table border=\"1\" class=\"dataframe\">\n",
       "  <thead>\n",
       "    <tr style=\"text-align: right;\">\n",
       "      <th></th>\n",
       "      <th>team</th>\n",
       "      <th>state</th>\n",
       "      <th>st_from_name</th>\n",
       "      <th>time_start</th>\n",
       "      <th>st_to_name</th>\n",
       "      <th>time_end</th>\n",
       "      <th>curr_presence</th>\n",
       "      <th>time_start_f</th>\n",
       "      <th>time_end_f</th>\n",
       "      <th>curr_presence_norm</th>\n",
       "    </tr>\n",
       "  </thead>\n",
       "  <tbody>\n",
       "  </tbody>\n",
       "</table>\n",
       "</div>"
      ],
      "text/plain": [
       "Empty DataFrame\n",
       "Columns: [team, state, st_from_name, time_start, st_to_name, time_end, curr_presence, time_start_f, time_end_f, curr_presence_norm]\n",
       "Index: []"
      ]
     },
     "execution_count": 401,
     "metadata": {},
     "output_type": "execute_result"
    }
   ],
   "source": [
    "team_trips[team_trips.team == '777700001868']"
   ]
  },
  {
   "cell_type": "markdown",
   "metadata": {},
   "source": [
    "#### Загружаем нормы рабочего времени и составляем таблицу по нормам для каждой бригады"
   ]
  },
  {
   "cell_type": "code",
   "execution_count": 402,
   "metadata": {
    "collapsed": true
   },
   "outputs": [],
   "source": [
    "WORK_TIME_LIMIT = 11 #hours"
   ]
  },
  {
   "cell_type": "code",
   "execution_count": 403,
   "metadata": {
    "collapsed": false
   },
   "outputs": [],
   "source": [
    "def get_cmp(row):\n",
    "    d, l = row.depot, row.link    \n",
    "    try:\n",
    "        res = trd.ix[d].link.apply(lambda x: len(np.intersect1d(x, l))).idxmax()        \n",
    "    except:\n",
    "        res = -1\n",
    "    return res\n",
    "\n",
    "team_region = pd.read_csv(FOLDER + 'team_region.csv', dtype={'st_from':str, 'st_to':str, 'depot':str})\n",
    "add_info(team_region)\n",
    "team_region['link'] = list(zip(team_region.st_from, team_region.st_to))\n",
    "team_plan['link'] = list(zip(team_plan.st_from, team_plan.st_to))\n",
    "tr_links = team_region.groupby(['team_region', 'depot']).link.unique().to_frame().reset_index()\n",
    "if not tr_links.empty:\n",
    "    trd = tr_links.set_index(['depot', 'team_region'])\n",
    "else:\n",
    "    trd = tr_links\n",
    "team_links = team_plan[team_plan.state.isin([0, 1])].groupby(['team', 'depot']).link.unique().to_frame().reset_index()\n",
    "team_links['team_region'] = team_links.apply(lambda row: get_cmp(row), axis=1)\n",
    "\n",
    "team_links['tr_depot'] = list(zip(team_links.team_region, team_links.depot))\n",
    "team_region['tr_depot'] = list(zip(team_region.team_region, team_region.depot))\n",
    "team_links['time_f'] = team_links.tr_depot.map(team_region.drop_duplicates('tr_depot').set_index('tr_depot').time_f)\n",
    "team_links['time_b'] = team_links.tr_depot.map(team_region.drop_duplicates('tr_depot').set_index('tr_depot').time_b)\n",
    "team_links['time_wr'] = team_links.tr_depot.map(team_region.drop_duplicates('tr_depot').set_index('tr_depot').time_wr)\n",
    "#team_links.head()"
   ]
  },
  {
   "cell_type": "code",
   "execution_count": 404,
   "metadata": {
    "collapsed": false
   },
   "outputs": [
    {
     "data": {
      "text/html": [
       "<div>\n",
       "<table border=\"1\" class=\"dataframe\">\n",
       "  <thead>\n",
       "    <tr style=\"text-align: right;\">\n",
       "      <th></th>\n",
       "      <th>team</th>\n",
       "      <th>time_f</th>\n",
       "      <th>time_b</th>\n",
       "      <th>time_wr</th>\n",
       "    </tr>\n",
       "  </thead>\n",
       "  <tbody>\n",
       "    <tr>\n",
       "      <th>0</th>\n",
       "      <td>200020920263</td>\n",
       "      <td>NaN</td>\n",
       "      <td>NaN</td>\n",
       "      <td>NaN</td>\n",
       "    </tr>\n",
       "    <tr>\n",
       "      <th>1</th>\n",
       "      <td>200020972738</td>\n",
       "      <td>NaN</td>\n",
       "      <td>NaN</td>\n",
       "      <td>NaN</td>\n",
       "    </tr>\n",
       "    <tr>\n",
       "      <th>2</th>\n",
       "      <td>200022946676</td>\n",
       "      <td>NaN</td>\n",
       "      <td>NaN</td>\n",
       "      <td>NaN</td>\n",
       "    </tr>\n",
       "    <tr>\n",
       "      <th>3</th>\n",
       "      <td>200023308269</td>\n",
       "      <td>NaN</td>\n",
       "      <td>NaN</td>\n",
       "      <td>NaN</td>\n",
       "    </tr>\n",
       "    <tr>\n",
       "      <th>4</th>\n",
       "      <td>200023315366</td>\n",
       "      <td>NaN</td>\n",
       "      <td>NaN</td>\n",
       "      <td>NaN</td>\n",
       "    </tr>\n",
       "  </tbody>\n",
       "</table>\n",
       "</div>"
      ],
      "text/plain": [
       "           team time_f time_b time_wr\n",
       "0  200020920263    NaN    NaN     NaN\n",
       "1  200020972738    NaN    NaN     NaN\n",
       "2  200022946676    NaN    NaN     NaN\n",
       "3  200023308269    NaN    NaN     NaN\n",
       "4  200023315366    NaN    NaN     NaN"
      ]
     },
     "execution_count": 404,
     "metadata": {},
     "output_type": "execute_result"
    }
   ],
   "source": [
    "time_limit = team_links[['team', 'time_f', 'time_b', 'time_wr']]\n",
    "time_limit.head()"
   ]
  },
  {
   "cell_type": "markdown",
   "metadata": {},
   "source": [
    "#### Вычисляем переработки, предварительно удалив выбросы"
   ]
  },
  {
   "cell_type": "code",
   "execution_count": 405,
   "metadata": {
    "collapsed": false
   },
   "outputs": [
    {
     "name": "stdout",
     "output_type": "stream",
     "text": [
      "Всего 4 бригад с явно некорретными (более суток назад) временами последеней явки. Примеры:\n",
      "         team          st_from_name               st_to_name   time_start_f     time_end_f curr_presence_norm\n",
      " 200200204240                   УЯР     КРАСНОЯРСК-ВОСТОЧНЫЙ  Aug 11, 02:06  Aug 11, 04:07      Aug 10, 15:30\n",
      " 200200124079  КРАСНОЯРСК-ВОСТОЧНЫЙ                  БАЗАИХА  Aug 11, 20:27  Aug 11, 20:36      Aug 10, 16:55\n",
      " 200200067275                ЭВОРОН  КОМСОМОЛЬСК-НА-АМУРЕ II  Aug 11, 00:13  Aug 11, 04:11      Aug 10, 18:00\n",
      " 200200177534                МОГЗОН                   ЧИТА I  Aug 10, 23:40  Aug 11, 03:00      Aug 10, 19:10\n"
     ]
    }
   ],
   "source": [
    "cols = ['team', 'st_from_name', 'st_to_name', 'time_start_f', 'time_end_f', 'curr_presence_norm']\n",
    "outliers = team_trips[team_trips.curr_presence < current_time - 24 * 3600]\n",
    "#outliers = team_trips[team_trips.info_presence < current_time - 24 * 3600]\n",
    "outliers_n = outliers.team.count()\n",
    "add_header('Всего %d бригад с явно некорретными (более суток назад) временами последеней явки. Примеры:' % outliers_n)\n",
    "add_line(outliers.sort_values('curr_presence_norm').head(10 if outliers_n > 20 else outliers_n)[cols])"
   ]
  },
  {
   "cell_type": "code",
   "execution_count": 406,
   "metadata": {
    "collapsed": false
   },
   "outputs": [
    {
     "data": {
      "text/html": [
       "<div>\n",
       "<table border=\"1\" class=\"dataframe\">\n",
       "  <thead>\n",
       "    <tr style=\"text-align: right;\">\n",
       "      <th></th>\n",
       "      <th>team</th>\n",
       "      <th>st_from_name</th>\n",
       "      <th>st_to_name</th>\n",
       "      <th>curr_presence_norm</th>\n",
       "      <th>time_start_f</th>\n",
       "      <th>time_end_f</th>\n",
       "      <th>time_limit</th>\n",
       "      <th>time_limit_no_rest</th>\n",
       "    </tr>\n",
       "  </thead>\n",
       "  <tbody>\n",
       "    <tr>\n",
       "      <th>0</th>\n",
       "      <td>200200105777</td>\n",
       "      <td>ИРКУТСК-СОРТИРОВОЧНЫЙ</td>\n",
       "      <td>ИРКУТСК-СОРТИРОВОЧНЫЙ</td>\n",
       "      <td>Aug 11, 22:06</td>\n",
       "      <td>Aug 12, 00:00</td>\n",
       "      <td>Aug 12, 07:31</td>\n",
       "      <td>39600</td>\n",
       "      <td>39600</td>\n",
       "    </tr>\n",
       "    <tr>\n",
       "      <th>1</th>\n",
       "      <td>200200136379</td>\n",
       "      <td>ЧИТА I</td>\n",
       "      <td>ХИЛОК</td>\n",
       "      <td>Aug 11, 23:00</td>\n",
       "      <td>Aug 12, 00:20</td>\n",
       "      <td>Aug 12, 05:51</td>\n",
       "      <td>39600</td>\n",
       "      <td>39600</td>\n",
       "    </tr>\n",
       "    <tr>\n",
       "      <th>2</th>\n",
       "      <td>200200251210</td>\n",
       "      <td>ОБЛУЧЬЕ</td>\n",
       "      <td>БЕЛОГОРСК II</td>\n",
       "      <td>Aug 12, 01:49</td>\n",
       "      <td>Aug 12, 02:30</td>\n",
       "      <td>Aug 12, 10:11</td>\n",
       "      <td>39600</td>\n",
       "      <td>39600</td>\n",
       "    </tr>\n",
       "    <tr>\n",
       "      <th>3</th>\n",
       "      <td>200200189005</td>\n",
       "      <td>ИЛАНСКАЯ</td>\n",
       "      <td>ЗАОЗЕРНАЯ</td>\n",
       "      <td>Aug 11, 14:30</td>\n",
       "      <td>Aug 11, 15:04</td>\n",
       "      <td>Aug 11, 20:45</td>\n",
       "      <td>39600</td>\n",
       "      <td>39600</td>\n",
       "    </tr>\n",
       "    <tr>\n",
       "      <th>4</th>\n",
       "      <td>200200216494</td>\n",
       "      <td>ЗИЛОВО</td>\n",
       "      <td>ЧЕРНЫШЕВСК-ЗАБАЙКАЛЬСКИЙ</td>\n",
       "      <td>Aug 11, 11:10</td>\n",
       "      <td>Aug 11, 17:20</td>\n",
       "      <td>Aug 11, 18:54</td>\n",
       "      <td>39600</td>\n",
       "      <td>39600</td>\n",
       "    </tr>\n",
       "  </tbody>\n",
       "</table>\n",
       "</div>"
      ],
      "text/plain": [
       "           team           st_from_name                st_to_name  \\\n",
       "0  200200105777  ИРКУТСК-СОРТИРОВОЧНЫЙ     ИРКУТСК-СОРТИРОВОЧНЫЙ   \n",
       "1  200200136379                 ЧИТА I                     ХИЛОК   \n",
       "2  200200251210                ОБЛУЧЬЕ              БЕЛОГОРСК II   \n",
       "3  200200189005               ИЛАНСКАЯ                 ЗАОЗЕРНАЯ   \n",
       "4  200200216494                 ЗИЛОВО  ЧЕРНЫШЕВСК-ЗАБАЙКАЛЬСКИЙ   \n",
       "\n",
       "  curr_presence_norm   time_start_f     time_end_f  time_limit  \\\n",
       "0      Aug 11, 22:06  Aug 12, 00:00  Aug 12, 07:31       39600   \n",
       "1      Aug 11, 23:00  Aug 12, 00:20  Aug 12, 05:51       39600   \n",
       "2      Aug 12, 01:49  Aug 12, 02:30  Aug 12, 10:11       39600   \n",
       "3      Aug 11, 14:30  Aug 11, 15:04  Aug 11, 20:45       39600   \n",
       "4      Aug 11, 11:10  Aug 11, 17:20  Aug 11, 18:54       39600   \n",
       "\n",
       "   time_limit_no_rest  \n",
       "0               39600  \n",
       "1               39600  \n",
       "2               39600  \n",
       "3               39600  \n",
       "4               39600  "
      ]
     },
     "execution_count": 406,
     "metadata": {},
     "output_type": "execute_result"
    }
   ],
   "source": [
    "pd.set_option('display.max_colwidth', 25)\n",
    "# Оставляем только корректные бригады\n",
    "team_trips = team_trips[(team_trips.team.isin(outliers.team) == False) & (team_trips.time_start < current_time + 24 * 3600)]\n",
    "team_trips['time_limit'] = team_trips.team.map(time_limit.set_index('team').time_f)\n",
    "team_trips['time_limit_no_rest'] = team_trips.team.map(time_limit.set_index('team').time_wr)\n",
    "team_trips.time_limit.fillna(WORK_TIME_LIMIT * 3600, inplace=True)\n",
    "team_trips.time_limit_no_rest.fillna(WORK_TIME_LIMIT * 3600, inplace=True)\n",
    "team_trips[['team', 'st_from_name', 'st_to_name', 'curr_presence_norm', 'time_start_f', 'time_end_f', 'time_limit', 'time_limit_no_rest']].head()"
   ]
  },
  {
   "cell_type": "code",
   "execution_count": 407,
   "metadata": {
    "collapsed": false
   },
   "outputs": [
    {
     "name": "stdout",
     "output_type": "stream",
     "text": [
      "Количество бригад с переработкой (показаны первые 10 интервалов):\n",
      "(0, 1]      102\n",
      "(1, 2]       49\n",
      "(2, 3]       41\n",
      "(3, 4]       14\n",
      "(4, 5]       13\n",
      "(5, 6]       17\n",
      "(6, 7]       12\n",
      "(7, 8]        8\n",
      "(8, 9]        4\n",
      "(13, 14]      4\n"
     ]
    }
   ],
   "source": [
    "team_trips['work_time'] = np.round(((team_trips.time_end - team_trips.curr_presence) / 3600), 2)\n",
    "#team_trips['overtime'] = team_trips.work_time.apply(lambda x: np.max([x - WORK_TIME_LIMIT, 0]))\n",
    "team_trips['overtime'] = np.round((team_trips.time_end - team_trips.curr_presence - team_trips.time_limit) / 3600, 2)\n",
    "team_trips['overtime'] = team_trips.overtime.apply(lambda x: 0 if x < 0 else x)\n",
    "cols = ['team', 'st_from_name', 'st_to_name', 'curr_presence_norm', 'time_end_f', 'overtime' ]\n",
    "add_header('Количество бригад с переработкой (показаны первые 10 интервалов):')\n",
    "add_line(pd.cut(team_trips.overtime, bins=np.arange(int(team_trips.overtime.max()) + 2), include_lowest=False)\\\n",
    "      .value_counts().head(10).sort_index())"
   ]
  },
  {
   "cell_type": "code",
   "execution_count": 408,
   "metadata": {
    "collapsed": false
   },
   "outputs": [
    {
     "name": "stdout",
     "output_type": "stream",
     "text": [
      "\n",
      "Бригады с переработкой больше 2 часов (всего 135):\n",
      "         team              st_from_name       st_to_name curr_presence_norm   time_start_f     time_end_f  overtime\n",
      " 777700021282                    АРХАРА           АРХАРА      Aug 12, 16:50  Aug 12, 17:50  Aug 14, 07:05     27.26\n",
      " 777700021205                    ЧИТА I           ЧИТА I      Aug 12, 18:10  Aug 12, 19:10  Aug 14, 02:21     21.19\n",
      " 200200178909                  ИЛАНСКАЯ         ИЛАНСКАЯ      Aug 11, 00:40  Aug 11, 20:50  Aug 12, 07:06     19.44\n",
      " 777700021204                    ЧИТА I           ЧИТА I      Aug 12, 17:20  Aug 12, 18:20  Aug 13, 23:39     19.33\n",
      " 200200151763                  УЛАН-УДЭ       СЛЮДЯНКА I      Aug 10, 21:40  Aug 11, 20:15  Aug 12, 01:43     17.05\n",
      " 777700021284               СКОВОРОДИНО      СКОВОРОДИНО      Aug 12, 16:40  Aug 12, 17:40  Aug 13, 20:14     16.58\n",
      " 200200198193  КОМСОМОЛЬСК-НА-АМУРЕ-...     ВЫСОКОГОРНАЯ      Aug 11, 06:36  Aug 12, 00:50  Aug 12, 09:58     16.37\n",
      " 200200138998      КРАСНОЯРСК-ВОСТОЧНЫЙ         МАРИИНСК      Aug 11, 04:10  Aug 11, 20:27  Aug 12, 07:18     16.15\n",
      " 200200097431              БЕЛОГОРСК II        МАГДАГАЧИ      Aug 11, 05:30  Aug 11, 22:00  Aug 12, 07:47     15.29\n",
      " 200200079887               НОВЫЙ УРГАЛ        ПОСТЫШЕВО      Aug 11, 13:00  Aug 12, 05:50  Aug 12, 15:15     15.26\n",
      " 200200262897  КОМСОМОЛЬСК-НА-АМУРЕ-...          СЕЛЬГОН      Aug 11, 06:09  Aug 12, 00:35  Aug 12, 07:04     13.92\n",
      " 200200270835                  УЛАН-УДЭ       СЛЮДЯНКА I      Aug 11, 02:20  Aug 11, 21:35  Aug 12, 03:09     13.83\n",
      " 200200177809                    ЧИТА I            ХИЛОК      Aug 11, 00:00  Aug 11, 18:59  Aug 12, 00:44     13.75\n",
      " 777700021283               СКОВОРОДИНО      СКОВОРОДИНО      Aug 12, 16:00  Aug 12, 17:00  Aug 13, 16:18     13.30\n",
      " 200200256188              БЕЛОГОРСК II          ОБЛУЧЬЕ      Aug 11, 03:30  Aug 11, 20:30  Aug 12, 02:54     12.40\n",
      " 200200278673                    РЕШОТЫ  НОВОБИРЮСИНСКАЯ      Aug 11, 04:00  Aug 12, 00:50  Aug 12, 03:24     12.40\n",
      " 200200252613                    ТАЙШЕТ           ТАЙШЕТ      Aug 11, 08:20  Aug 11, 23:19  Aug 12, 07:33     12.22\n",
      " 200200202465                  УЛАН-УДЭ       СЛЮДЯНКА I      Aug 11, 03:00  Aug 11, 20:25  Aug 12, 01:53     11.88\n",
      " 200200280383  КОМСОМОЛЬСК-НА-АМУРЕ-...     ВЫСОКОГОРНАЯ      Aug 11, 08:55  Aug 11, 22:15  Aug 12, 07:34     11.67\n",
      " 200200242774                    ТАЙШЕТ      НИЖНЕУДИНСК      Aug 11, 03:10  Aug 11, 22:46  Aug 12, 01:46     11.60\n",
      "\n",
      "Распределение бригад с переработкой больше 2 часов по типу:\n",
      "Реальная    124\n",
      "Фейковая     11\n"
     ]
    }
   ],
   "source": [
    "pd.set_option('display.max_colwidth', 25)\n",
    "cols = ['team', 'st_from_name', 'st_to_name', 'curr_presence_norm', 'time_start_f', 'time_end_f', 'overtime' ]\n",
    "add_header('\\nБригады с переработкой больше 2 часов (всего %d):' % len(team_trips.loc[team_trips.overtime > 2].index))\n",
    "add_line(team_trips.loc[team_trips.overtime > 2, cols].sort_values('overtime', ascending=False).head(20))\n",
    "\n",
    "add_header('\\nРаспределение бригад с переработкой больше 2 часов по типу:')\n",
    "team_trips['team_type'] = team_trips.team.map(team_plan.drop_duplicates('team').set_index('team').team_type)\n",
    "add_line(team_trips.loc[team_trips.overtime > 2].team_type.value_counts())"
   ]
  },
  {
   "cell_type": "code",
   "execution_count": 409,
   "metadata": {
    "collapsed": false
   },
   "outputs": [
    {
     "name": "stdout",
     "output_type": "stream",
     "text": [
      "Примеры планов бригад с переработками:\n",
      "Бригада 777700021282:\n",
      "Empty DataFrame\n",
      "Columns: [team, depot_st_name, depot_time_f, return_time_f, state, loco, loc_name]\n",
      "Index: []\n",
      "         team  st_from_name    st_to_name  state   time_start_f     time_end_f          loco\n",
      " 777700021282        АРХАРА         БУРЕЯ      1  Aug 12, 17:50  Aug 12, 18:42  200200035690\n",
      " 777700021282         БУРЕЯ       ЗАВИТАЯ      1  Aug 12, 18:42  Aug 12, 19:34  200200035690\n",
      " 777700021282       ЗАВИТАЯ  БЕЛОГОРСК II      1  Aug 12, 19:34  Aug 12, 21:31  200200035690\n",
      " 777700021282  БЕЛОГОРСК II       ЗАВИТАЯ      1  Aug 14, 02:51  Aug 14, 05:07  200200104062\n",
      " 777700021282       ЗАВИТАЯ         БУРЕЯ      1  Aug 14, 05:07  Aug 14, 05:57  200200104062\n",
      " 777700021282         БУРЕЯ        АРХАРА      1  Aug 14, 05:57  Aug 14, 07:05  200200104062\n",
      "\n",
      "Бригада 777700021205:\n",
      "Empty DataFrame\n",
      "Columns: [team, depot_st_name, depot_time_f, return_time_f, state, loco, loc_name]\n",
      "Index: []\n",
      "         team st_from_name st_to_name  state   time_start_f     time_end_f          loco\n",
      " 777700021205       ЧИТА I  КАРЫМСКАЯ      1  Aug 12, 19:10  Aug 12, 21:18  200200087086\n",
      " 777700021205    КАРЫМСКАЯ     ЧИТА I      1  Aug 13, 23:49  Aug 14, 02:21  200200096700\n",
      "\n",
      "Бригада 200200178909:\n",
      "         team depot_st_name   depot_time_f  return_time_f state          loco  loc_name\n",
      " 200200178909      ИЛАНСКАЯ  Aug 10, 02:40  Aug 11, 00:40     6  200200084068  ИЛАНСКАЯ\n",
      "         team st_from_name   st_to_name  state   time_start_f     time_end_f          loco\n",
      " 200200178909  НИЖНЕУДИНСК  НИЖНЕУДИНСК      2  Aug 11, 00:40  Aug 11, 01:40            -1\n",
      " 200200178909     ИЛАНСКАЯ       РЕШОТЫ      1  Aug 11, 20:50  Aug 11, 22:14  200200064621\n",
      " 200200178909       РЕШОТЫ        КЛЮЧИ      1  Aug 11, 22:14  Aug 11, 22:31  200200064621\n",
      " 200200178909        КЛЮЧИ         ЮРТЫ      1  Aug 11, 22:31  Aug 11, 22:55  200200064621\n",
      " 200200178909         ЮРТЫ       ТАЙШЕТ      1  Aug 11, 22:55  Aug 11, 23:52  200200064621\n",
      " 200200178909       ТАЙШЕТ         ЮРТЫ      1  Aug 12, 04:28  Aug 12, 05:06  200200105222\n",
      " 200200178909         ЮРТЫ        КЛЮЧИ      1  Aug 12, 05:06  Aug 12, 05:34  200200105222\n",
      " 200200178909        КЛЮЧИ       РЕШОТЫ      1  Aug 12, 05:34  Aug 12, 05:48  200200105222\n",
      " 200200178909       РЕШОТЫ     ИЛАНСКАЯ      1  Aug 12, 05:48  Aug 12, 07:06  200200105222\n",
      "\n"
     ]
    }
   ],
   "source": [
    "team_ids = team_trips.loc[team_trips.overtime > 2].sort_values('overtime', ascending=False).team.values[:3]\n",
    "#team_id = '777700001868'\n",
    "cols = ['team', 'st_from_name', 'st_to_name', 'state', 'time_start_f', 'time_end_f', 'loco']\n",
    "team_info['depot_time_f'] = team_info.depot_time.apply(nice_time)\n",
    "team_info['return_time_f'] = team_info.return_time.apply(nice_time)\n",
    "team_info['depot_st_name'] = team_info.depot_st.map(st_names.name)\n",
    "add_header('Примеры планов бригад с переработками:')\n",
    "for team_id in team_ids:\n",
    "    add_line('Бригада %s:' % team_id)\n",
    "    add_line(team_info[team_info.team == team_id][['team', 'depot_st_name', 'depot_time_f', 'return_time_f', 'state', 'loco', 'loc_name']])\n",
    "    add_line(team_plan[team_plan.team == team_id][cols])\n",
    "    add_line('')"
   ]
  },
  {
   "cell_type": "code",
   "execution_count": 410,
   "metadata": {
    "collapsed": false
   },
   "outputs": [
    {
     "data": {
      "image/png": "[encoded data removed]",
      "text/plain": [
       "<matplotlib.figure.Figure at 0x1b184bc1320>"
      ]
     },
     "metadata": {},
     "output_type": "display_data"
    }
   ],
   "source": [
    "fig = plt.figure(figsize=(8, 3))\n",
    "sns.set(style='whitegrid', context='notebook')\n",
    "to_hist = team_trips.loc[team_trips.overtime > 0].overtime\n",
    "sns.kdeplot(to_hist, shade=True)\n",
    "title = '''Бригады с переработкой\n",
    "(среднее время переработки %.2f ч., медиана %.2f ч.)\n",
    "(всего %d бригад с переработкой более 2 часов)''' % \\\n",
    "            (to_hist.mean(), to_hist.median(), len(team_trips.loc[team_trips.overtime > 2].index))\n",
    "plt.title(title)\n",
    "plt.xlabel('Переработка (час)')\n",
    "filename = 'team_overwork.png'\n",
    "fig.savefig(REPORT_FOLDER + filename, bbox_inches='tight')\n",
    "add_image(filename)"
   ]
  },
  {
   "cell_type": "markdown",
   "metadata": {},
   "source": [
    "<a id='leaps'></a>\n",
    "## Скачки по станциям на маршруте бригад [ToC](#toc)"
   ]
  },
  {
   "cell_type": "code",
   "execution_count": 411,
   "metadata": {
    "collapsed": true
   },
   "outputs": [],
   "source": [
    "add_header('Скачки по станциям на маршруте бригад', h=2, p=False)"
   ]
  },
  {
   "cell_type": "markdown",
   "metadata": {},
   "source": [
    "### Скачки внутри планируемого маршрута бригад"
   ]
  },
  {
   "cell_type": "code",
   "execution_count": 412,
   "metadata": {
    "collapsed": false
   },
   "outputs": [
    {
     "name": "stdout",
     "output_type": "stream",
     "text": [
      "\n",
      "Всего бригад, у которых есть скачки на маршруте: 1094\n",
      "Всего скачков на маршруте бригад: 1145 (показаны первые 10):\n",
      "         team         st_from_name           st_to_name              next_st   time_start_f     time_end_f  state state_info\n",
      " 200200105777                 ЗИМА                 ЗИМА            СУХОВСКАЯ  Aug 11, 10:10  Aug 11, 10:50      2          6\n",
      " 200200136379                ХИЛОК                ХИЛОК               ЧИТА I  Aug 11, 08:20  Aug 11, 09:28      2          9\n",
      " 200200216494               МОГОЧА               МОГОЧА               ЗИЛОВО  Aug 11, 11:10  Aug 11, 12:09      2          1\n",
      " 200200224208           НОВАЯ ЧАРА           НОВАЯ ЧАРА              ТАКСИМО  Aug 11, 13:00  Aug 11, 14:50      2          5\n",
      " 200200216511  ИРКУТСК-СОРТИРОВ...  ИРКУТСК-СОРТИРОВ...            ГОНЧАРОВО  Aug 11, 15:45  Aug 11, 17:39      2          6\n",
      " 200200127736         БЕЛОГОРСК II         БЕЛОГОРСК II            БЕЛОГОРСК  Aug 11, 17:00  Aug 11, 17:40      2          1\n",
      " 200200251240             УЛАН-УДЭ             УЛАН-УДЭ     ПЕТРОВСКИЙ ЗАВОД  Aug 11, 11:40  Aug 11, 12:26      2          1\n",
      " 200200105739          НОВЫЙ УРГАЛ          НОВЫЙ УРГАЛ                БОЛЕН  Aug 11, 13:00  Aug 11, 15:00      2          6\n",
      " 200200259678           СЛЮДЯНКА I           СЛЮДЯНКА I              МЫСОВАЯ  Aug 11, 15:00  Aug 11, 15:39      2          1\n",
      " 200200164060  ИРКУТСК-СОРТИРОВ...  ИРКУТСК-СОРТИРОВ...      ВОЕННЫЙ ГОРОДОК  Aug 11, 15:00  Aug 11, 16:54      2          6\n",
      " 200200164060                  КАЯ  ИРКУТСК-ПАССАЖИР...  ИРКУТСК-СОРТИРОВ...  Aug 12, 03:23  Aug 12, 03:35      1          6\n",
      " 200200225241             АЧИНСК I             АЧИНСК I             СУРИКОВО  Aug 11, 16:00  Aug 11, 16:19      2          1\n",
      " 200200233922           СЛЮДЯНКА I           СЛЮДЯНКА I              МЫСОВАЯ  Aug 11, 08:30  Aug 11, 09:09      2          1\n",
      " 200200251140            СУХОВСКАЯ            СУХОВСКАЯ      СУХОВСКАЯ-ЮЖНАЯ  Aug 12, 10:42  Aug 12, 11:42      2          3\n",
      " 200200121244          ШИМАНОВСКАЯ          ШИМАНОВСКАЯ               УШУМУН  Aug 11, 12:50  Aug 11, 13:50      2          1\n",
      " 200200259594  ИРКУТСК-СОРТИРОВ...           БАТАРЕЙНАЯ  ИРКУТСК-СОРТИРОВ...  Aug 11, 19:00  Aug 11, 19:14      1          1\n",
      " 200200242514                ХИЛОК                ХИЛОК     ПЕТРОВСКИЙ ЗАВОД  Aug 11, 12:40  Aug 11, 13:48      2          1\n",
      " 230202993289                ТЫНДА                ТЫНДА          ВЕРХНЕЗЕЙСК  Aug 11, 15:41  Aug 11, 17:41      2          1\n",
      " 200200127662            КАРЫМСКАЯ            КАРЫМСКАЯ               МОГЗОН  Aug 11, 09:40  Aug 11, 11:45      2          1\n",
      " 200200143002  КРАСНОЯРСК-ВОСТО...  КРАСНОЯРСК-ВОСТО...                  УЯР  Aug 11, 13:50  Aug 11, 14:46      2          1\n",
      "\n",
      "Станции, на которых наблюдаются скачки (первые 5):\n",
      "БЕЛОГОРСК                   57\n",
      "МАГДАГАЧИ                   49\n",
      "УЛАН-УДЭ                    48\n",
      "БЕЛОГОРСК II                48\n",
      "ЧЕРНЫШЕВСК-ЗАБАЙКАЛЬСКИЙ    47\n",
      "\n",
      "Маршрут бригады 200200105777:\n",
      "         team         st_from_name           st_to_name   time_start_f     time_end_f  state          loco state_info\n",
      " 200200105777                 ЗИМА                 ЗИМА  Aug 11, 10:10  Aug 11, 10:50      2            -1          6\n",
      " 200200105777            СУХОВСКАЯ                МЕГЕТ  Aug 11, 20:51  Aug 11, 21:00      0            -1          6\n",
      " 200200105777                МЕГЕТ           БАТАРЕЙНАЯ  Aug 11, 21:00  Aug 11, 21:06      0            -1          6\n",
      " 200200105777           БАТАРЕЙНАЯ  ИРКУТСК-СОРТИРОВ...  Aug 11, 21:06  Aug 11, 21:16      0            -1          6\n",
      " 200200105777  ИРКУТСК-СОРТИРОВ...  ИРКУТСК-СОРТИРОВ...  Aug 11, 22:06  Aug 12, 00:00      2            -1          6\n",
      " 200200105777  ИРКУТСК-СОРТИРОВ...            ГОНЧАРОВО  Aug 12, 00:00  Aug 12, 00:31      1  200200097969          6\n",
      " 200200105777            ГОНЧАРОВО          БОЛЬШОЙ ЛУГ  Aug 12, 00:31  Aug 12, 01:15      1  200200097969          6\n",
      " 200200105777          БОЛЬШОЙ ЛУГ        АНДРИАНОВСКАЯ  Aug 12, 01:15  Aug 12, 02:21      1  200200097969          6\n",
      " 200200105777        АНДРИАНОВСКАЯ            АНГАСОЛКА  Aug 12, 02:21  Aug 12, 02:35      1  200200097969          6\n",
      " 200200105777            АНГАСОЛКА          СЛЮДЯНКА II  Aug 12, 02:35  Aug 12, 03:02      1  200200097969          6\n",
      " 200200105777          СЛЮДЯНКА II           СЛЮДЯНКА I  Aug 12, 03:02  Aug 12, 03:11      1  200200097969          6\n",
      " 200200105777           СЛЮДЯНКА I          СЛЮДЯНКА II  Aug 12, 04:45  Aug 12, 04:55      1  200200095360          6\n",
      " 200200105777          СЛЮДЯНКА II            АНГАСОЛКА  Aug 12, 04:55  Aug 12, 05:21      1  200200095360          6\n",
      " 200200105777            АНГАСОЛКА        АНДРИАНОВСКАЯ  Aug 12, 05:21  Aug 12, 05:35      1  200200095360          6\n",
      " 200200105777        АНДРИАНОВСКАЯ          БОЛЬШОЙ ЛУГ  Aug 12, 05:35  Aug 12, 06:45      1  200200095360          6\n",
      " 200200105777          БОЛЬШОЙ ЛУГ            ГОНЧАРОВО  Aug 12, 06:45  Aug 12, 07:03      1  200200095360          6\n",
      " 200200105777            ГОНЧАРОВО  ИРКУТСК-СОРТИРОВ...  Aug 12, 07:03  Aug 12, 07:31      1  200200095360          6\n"
     ]
    }
   ],
   "source": [
    "pd.set_option('display.max_colwidth', 20)\n",
    "team_cols = ['team', 'st_from_name', 'st_to_name', 'next_st', 'time_start_f', 'time_end_f', 'state', 'state_info']\n",
    "team_plan['is_end'] = team_plan.team != team_plan.team.shift(-1)\n",
    "team_plan['next_st'] = team_plan.st_from_name.shift(-1)\n",
    "team_leaps = team_plan.loc[(team_plan.is_end == False) \n",
    "                           & (team_plan.st_to_name != team_plan.next_st)\n",
    "                           & (team_plan.st_to_name.notnull())\n",
    "                           & (team_plan.next_st.notnull()), team_cols]\n",
    "team_leaps_n = len(team_leaps.team.drop_duplicates().index)\n",
    "add_header('\\nВсего бригад, у которых есть скачки на маршруте: %d' % team_leaps_n)\n",
    "add_header('Всего скачков на маршруте бригад: %d (показаны первые 10):' % len(team_leaps.index))\n",
    "add_line(team_leaps.head(20))\n",
    "\n",
    "add_header('\\nСтанции, на которых наблюдаются скачки (первые 5):')\n",
    "add_line(team_leaps.st_to_name.value_counts().head())\n",
    "\n",
    "# Пример маршрута такой бригады (подставить id из предыдущего вывода):\n",
    "team_cols2 = ['team', 'st_from_name', 'st_to_name', 'time_start_f', 'time_end_f', 'state', 'loco', 'state_info']\n",
    "#team_id = '200200164017'\n",
    "if not team_leaps.empty:\n",
    "    team_id = team_leaps.iloc[0].team\n",
    "    add_header('\\nМаршрут бригады %s:' % team_id)\n",
    "    add_line(team_plan.loc[team_plan.team == team_id, team_cols2])"
   ]
  },
  {
   "cell_type": "markdown",
   "metadata": {},
   "source": [
    "### Скачки между станцией исходного местоположения и первой станцией планирования"
   ]
  },
  {
   "cell_type": "code",
   "execution_count": 413,
   "metadata": {
    "collapsed": false
   },
   "outputs": [],
   "source": [
    "team_info.loc[team_info.st_from != '-1', 'first_station'] = team_info.loc[team_info.st_from != '-1', 'st_from']\n",
    "team_info.loc[team_info.st_from == '-1', 'first_station'] = team_info.loc[team_info.st_from == '-1', 'oper_location']\n",
    "team_info.loc[team_info.st_to != '-1', 'next_station'] = team_info.loc[team_info.st_to != '-1', 'st_to']\n",
    "team_info[['team', 'oper_location', 'st_from', 'first_station', 'next_station']]\n",
    "team_plan['first_station'] = team_plan.team.map(team_info.drop_duplicates('team').set_index('team').first_station)\n",
    "team_plan['next_station'] = team_plan.team.map(team_info.drop_duplicates('team').set_index('team').next_station)\n",
    "team_plan['first_st_name'] = team_plan.first_station.map(st_names.name)\n",
    "team_plan['next_st_name'] = team_plan.next_station.map(st_names.name)\n",
    "team_starts = team_plan[team_plan.state.isin([0, 1])].drop_duplicates('team').copy(deep=True)\n",
    "start_leaps = team_starts[((team_starts.first_station.isnull() == False) & (team_starts.st_from != team_starts.first_station)) | \n",
    "            ((team_starts.next_station.isnull() == False) & (team_starts.st_to != team_starts.next_station))]"
   ]
  },
  {
   "cell_type": "code",
   "execution_count": 414,
   "metadata": {
    "collapsed": false
   },
   "outputs": [
    {
     "name": "stdout",
     "output_type": "stream",
     "text": [
      "Распределение скачков бригад по станциям местоположения (показаны первые 5):\n",
      "БЕЛОГОРСК                34\n",
      "ВИХОРЕВКА                 7\n",
      "ИРКУТСК-СОРТИРОВОЧНЫЙ     6\n",
      "ХАБАРОВСК I               4\n",
      "КАДАЛА                    4\n",
      "\n",
      "Бригады со скачками между станцией местоположения и первой станцией в маршруте (показаны первые 10):\n",
      "         team     st_from_name   st_to_name          loco first_st_name next_st_name     loco_info\n",
      " 200200251140  СУХОВСКАЯ-ЮЖНАЯ      АНГАРСК  200200100277     СУХОВСКАЯ          NaN            -1\n",
      " 200200223980     ХАБАРОВСК II  ХАБАРОВСК I  200200043221   ХАБАРОВСК I          NaN            -1\n",
      " 200200112329     БЕЛОГОРСК II    БЕЛОГОРСК  200200106870     БЕЛОГОРСК          NaN            -1\n",
      " 200200260299     ХАБАРОВСК II  ХАБАРОВСК I  200200095328   ХАБАРОВСК I          NaN            -1\n",
      " 200200233304     БЕЛОГОРСК II    БЕЛОГОРСК  200200089702     БЕЛОГОРСК          NaN            -1\n",
      " 200200206875     БЕЛОГОРСК II      ЗАВИТАЯ  200200037813     БЕЛОГОРСК          NaN            -1\n",
      " 200200143647         ГВОЗДЕВО    СУХАНОВКА  200200086808        ПОСЬЕТ          NaN            -1\n",
      " 200200181071     БЕЛОГОРСК II      ЗАВИТАЯ  200200055585     БЕЛОГОРСК          NaN            -1\n",
      " 200200278006     БЕЛОГОРСК II      ЗАВИТАЯ  200200085809     БЕЛОГОРСК          NaN            -1\n",
      " 200200035801        БАГУЛЬНАЯ     МОРГУДОН  200200061425        БРАТСК          NaN  200200105680\n"
     ]
    }
   ],
   "source": [
    "cols = ['team', 'st_from_name', 'st_to_name', 'loco', 'first_st_name', 'next_st_name', 'loco_info']\n",
    "first_st_leaps = team_starts[(team_starts.first_station.isnull() == False) & (team_starts.next_station.isnull())\n",
    "                             & (team_starts.st_from != team_starts.first_station)]\n",
    "add_header('Распределение скачков бригад по станциям местоположения (показаны первые 5):')\n",
    "add_line(first_st_leaps.first_st_name.value_counts().head())\n",
    "add_header('\\nБригады со скачками между станцией местоположения и первой станцией в маршруте (показаны первые 10):')\n",
    "add_line(first_st_leaps[cols].head(10))"
   ]
  },
  {
   "cell_type": "code",
   "execution_count": 415,
   "metadata": {
    "collapsed": false
   },
   "outputs": [
    {
     "name": "stdout",
     "output_type": "stream",
     "text": [
      "Распределение скачков бригад по станциям направления (показаны первые 5):\n",
      "ТИСИН    1\n",
      "\n",
      "Бригады со скачками между станцией направления и первой станцией направления в маршруте (показаны первые 10):\n",
      "         team st_from_name st_to_name loco first_st_name next_st_name     loco_info  train\n",
      " 200200241724        ТИСИН       УЖУР   -1          УЖУР        ТИСИН  200200046677   4707\n"
     ]
    }
   ],
   "source": [
    "cols = ['team', 'st_from_name', 'st_to_name', 'loco', 'first_st_name', 'next_st_name', 'loco_info', 'train']\n",
    "loco_info['train_number'] = loco_info.train.map(train_info.drop_duplicates('train').set_index('train').number)\n",
    "team_starts['train'] = team_starts.loco_info.map(loco_info.drop_duplicates('loco').set_index('loco').train_number)\n",
    "next_st_leaps = team_starts[(team_starts.next_station.isnull() == False) \n",
    "                            & (team_starts.st_to != team_starts.next_station)]\n",
    "add_header('Распределение скачков бригад по станциям направления (показаны первые 5):')\n",
    "add_line(next_st_leaps.next_st_name.value_counts())\n",
    "add_header('\\nБригады со скачками между станцией направления и первой станцией направления в маршруте (показаны первые 10):')\n",
    "add_line(next_st_leaps[cols].head(10))"
   ]
  },
  {
   "cell_type": "markdown",
   "metadata": {},
   "source": [
    "<a id='stop_time'></a>\n",
    "## Анализ времен стоянок локомотивов для смены бригады [ToC](#toc)"
   ]
  },
  {
   "cell_type": "code",
   "execution_count": 416,
   "metadata": {
    "collapsed": true
   },
   "outputs": [],
   "source": [
    "add_header('Анализ времен стоянок локомотивов для смены бригады', h=2, p=False)"
   ]
  },
  {
   "cell_type": "markdown",
   "metadata": {},
   "source": [
    "#### Распределение времен стоянок для смены бригады"
   ]
  },
  {
   "cell_type": "code",
   "execution_count": 417,
   "metadata": {
    "collapsed": false
   },
   "outputs": [],
   "source": [
    "def to_map(df, col):\n",
    "    return df.drop_duplicates(col).set_index(col)\n",
    "\n",
    "train_plan['train_time'] = list(zip(train_plan.train, train_plan.time_start))\n",
    "loco_plan['train_time'] = list(zip(loco_plan.train, loco_plan.time_start))\n",
    "loco_plan['loco_time'] = list(zip(loco_plan.loco, loco_plan.time_start))\n",
    "team_plan['loco_time'] = list(zip(team_plan.loco, team_plan.time_start))\n",
    "loco_plan['team'] = loco_plan.loco_time.map(to_map(team_plan, 'loco_time').team)\n",
    "train_plan['loco'] = train_plan.train_time.map(to_map(loco_plan, 'train_time').loco)\n",
    "train_plan['team'] = train_plan.train_time.map(to_map(loco_plan, 'train_time').team)"
   ]
  },
  {
   "cell_type": "code",
   "execution_count": 418,
   "metadata": {
    "collapsed": false
   },
   "outputs": [],
   "source": [
    "train_plan['next_time_start'] = train_plan.time_start.shift(-1)\n",
    "train_plan['n_time_start_f'] = train_plan['next_time_start'].apply(nice_time)\n",
    "train_plan['stop_time'] = train_plan.time_start.shift(-1) - train_plan.time_end\n",
    "train_plan['train_end'] = train_plan.train != train_plan.train.shift(-1)\n",
    "train_plan['loco_end'] = train_plan.loco != train_plan.loco.shift(-1)\n",
    "train_plan['team_end'] = train_plan.team != train_plan.team.shift(-1)"
   ]
  },
  {
   "cell_type": "code",
   "execution_count": 419,
   "metadata": {
    "collapsed": false
   },
   "outputs": [
    {
     "name": "stdout",
     "output_type": "stream",
     "text": [
      "281\n"
     ]
    }
   ],
   "source": [
    "train_plan['stop_time_h'] = train_plan.stop_time / 3600\n",
    "cols = ['train', 'st_from_name', 'st_to_name', 'time_end_f', 'n_time_start_f', 'stop_time_h', 'loco', 'team']\n",
    "longs = train_plan[(train_plan.train_end == False) & (train_plan.loco_end == False) \n",
    "           & (train_plan.stop_time > 10 * 3600)][cols].sort_values('stop_time_h',ascending=False)\n",
    "print(longs.train.count())"
   ]
  },
  {
   "cell_type": "code",
   "execution_count": 420,
   "metadata": {
    "collapsed": false
   },
   "outputs": [
    {
     "data": {
      "text/html": [
       "<div>\n",
       "<table border=\"1\" class=\"dataframe\">\n",
       "  <thead>\n",
       "    <tr style=\"text-align: right;\">\n",
       "      <th></th>\n",
       "      <th>train</th>\n",
       "      <th>st_from_name</th>\n",
       "      <th>st_to_name</th>\n",
       "      <th>time_start_f</th>\n",
       "      <th>time_end_f</th>\n",
       "      <th>loco</th>\n",
       "      <th>team</th>\n",
       "    </tr>\n",
       "  </thead>\n",
       "  <tbody>\n",
       "    <tr>\n",
       "      <th>76924</th>\n",
       "      <td>200022924890</td>\n",
       "      <td>ЧИТА I</td>\n",
       "      <td>КАДАЛА</td>\n",
       "      <td>Aug 11, 17:39</td>\n",
       "      <td>Aug 11, 17:55</td>\n",
       "      <td>200200095163</td>\n",
       "      <td>200200098705</td>\n",
       "    </tr>\n",
       "    <tr>\n",
       "      <th>76925</th>\n",
       "      <td>200022924890</td>\n",
       "      <td>КАДАЛА</td>\n",
       "      <td>ЛЕСНАЯ</td>\n",
       "      <td>Aug 11, 17:55</td>\n",
       "      <td>Aug 11, 18:51</td>\n",
       "      <td>200200095163</td>\n",
       "      <td>200200098705</td>\n",
       "    </tr>\n",
       "    <tr>\n",
       "      <th>76926</th>\n",
       "      <td>200022924890</td>\n",
       "      <td>ЛЕСНАЯ</td>\n",
       "      <td>ТУРГУТУЙ</td>\n",
       "      <td>Aug 11, 18:51</td>\n",
       "      <td>Aug 11, 19:36</td>\n",
       "      <td>200200095163</td>\n",
       "      <td>200200098705</td>\n",
       "    </tr>\n",
       "    <tr>\n",
       "      <th>76927</th>\n",
       "      <td>200022924890</td>\n",
       "      <td>ТУРГУТУЙ</td>\n",
       "      <td>МОГЗОН</td>\n",
       "      <td>Aug 11, 19:36</td>\n",
       "      <td>Aug 11, 20:35</td>\n",
       "      <td>200200095163</td>\n",
       "      <td>200200098705</td>\n",
       "    </tr>\n",
       "    <tr>\n",
       "      <th>76928</th>\n",
       "      <td>200022924890</td>\n",
       "      <td>МОГЗОН</td>\n",
       "      <td>ХИЛОК</td>\n",
       "      <td>Aug 11, 20:35</td>\n",
       "      <td>Aug 11, 22:56</td>\n",
       "      <td>200200095163</td>\n",
       "      <td>200200098705</td>\n",
       "    </tr>\n",
       "    <tr>\n",
       "      <th>76929</th>\n",
       "      <td>200022924890</td>\n",
       "      <td>ХИЛОК</td>\n",
       "      <td>ЖИПХЕГЕН</td>\n",
       "      <td>Aug 12, 03:40</td>\n",
       "      <td>Aug 12, 04:11</td>\n",
       "      <td>200200095163</td>\n",
       "      <td>210207561001</td>\n",
       "    </tr>\n",
       "    <tr>\n",
       "      <th>76930</th>\n",
       "      <td>200022924890</td>\n",
       "      <td>ЖИПХЕГЕН</td>\n",
       "      <td>ПЕТРОВСКИЙ ЗАВОД</td>\n",
       "      <td>Aug 12, 04:11</td>\n",
       "      <td>Aug 12, 06:30</td>\n",
       "      <td>200200095163</td>\n",
       "      <td>210207561001</td>\n",
       "    </tr>\n",
       "    <tr>\n",
       "      <th>76931</th>\n",
       "      <td>200022924890</td>\n",
       "      <td>ПЕТРОВСКИЙ ЗАВОД</td>\n",
       "      <td>КИЖА</td>\n",
       "      <td>Aug 12, 06:30</td>\n",
       "      <td>Aug 12, 07:02</td>\n",
       "      <td>200200095163</td>\n",
       "      <td>210207561001</td>\n",
       "    </tr>\n",
       "    <tr>\n",
       "      <th>76932</th>\n",
       "      <td>200022924890</td>\n",
       "      <td>КИЖА</td>\n",
       "      <td>ГОРХОН</td>\n",
       "      <td>Aug 12, 07:02</td>\n",
       "      <td>Aug 12, 07:19</td>\n",
       "      <td>200200095163</td>\n",
       "      <td>210207561001</td>\n",
       "    </tr>\n",
       "    <tr>\n",
       "      <th>76933</th>\n",
       "      <td>200022924890</td>\n",
       "      <td>ГОРХОН</td>\n",
       "      <td>ЧЕЛУТАЙ</td>\n",
       "      <td>Aug 12, 07:19</td>\n",
       "      <td>Aug 12, 07:56</td>\n",
       "      <td>200200095163</td>\n",
       "      <td>210207561001</td>\n",
       "    </tr>\n",
       "    <tr>\n",
       "      <th>76934</th>\n",
       "      <td>200022924890</td>\n",
       "      <td>ЧЕЛУТАЙ</td>\n",
       "      <td>ТАЛЬЦЫ</td>\n",
       "      <td>Aug 12, 07:56</td>\n",
       "      <td>Aug 12, 08:46</td>\n",
       "      <td>200200095163</td>\n",
       "      <td>210207561001</td>\n",
       "    </tr>\n",
       "    <tr>\n",
       "      <th>76935</th>\n",
       "      <td>200022924890</td>\n",
       "      <td>ТАЛЬЦЫ</td>\n",
       "      <td>ЗАУДИНСКИЙ</td>\n",
       "      <td>Aug 12, 08:46</td>\n",
       "      <td>Aug 12, 08:55</td>\n",
       "      <td>200200095163</td>\n",
       "      <td>210207561001</td>\n",
       "    </tr>\n",
       "    <tr>\n",
       "      <th>76936</th>\n",
       "      <td>200022924890</td>\n",
       "      <td>ЗАУДИНСКИЙ</td>\n",
       "      <td>УЛАН-УДЭ</td>\n",
       "      <td>Aug 12, 08:55</td>\n",
       "      <td>Aug 12, 09:14</td>\n",
       "      <td>200200095163</td>\n",
       "      <td>210207561001</td>\n",
       "    </tr>\n",
       "    <tr>\n",
       "      <th>76937</th>\n",
       "      <td>200022924890</td>\n",
       "      <td>УЛАН-УДЭ</td>\n",
       "      <td>МЫСОВАЯ</td>\n",
       "      <td>Aug 12, 16:30</td>\n",
       "      <td>Aug 12, 19:03</td>\n",
       "      <td>200200095163</td>\n",
       "      <td>777700019827</td>\n",
       "    </tr>\n",
       "    <tr>\n",
       "      <th>76938</th>\n",
       "      <td>200022924890</td>\n",
       "      <td>МЫСОВАЯ</td>\n",
       "      <td>БАЙКАЛЬСК</td>\n",
       "      <td>Aug 12, 19:03</td>\n",
       "      <td>Aug 12, 21:08</td>\n",
       "      <td>200200095163</td>\n",
       "      <td>777700019827</td>\n",
       "    </tr>\n",
       "    <tr>\n",
       "      <th>76939</th>\n",
       "      <td>200022924890</td>\n",
       "      <td>БАЙКАЛЬСК</td>\n",
       "      <td>СЛЮДЯНКА I</td>\n",
       "      <td>Aug 12, 21:08</td>\n",
       "      <td>Aug 12, 21:59</td>\n",
       "      <td>200200095163</td>\n",
       "      <td>777700019827</td>\n",
       "    </tr>\n",
       "    <tr>\n",
       "      <th>76940</th>\n",
       "      <td>200022924890</td>\n",
       "      <td>СЛЮДЯНКА I</td>\n",
       "      <td>СЛЮДЯНКА II</td>\n",
       "      <td>Aug 12, 21:59</td>\n",
       "      <td>Aug 12, 22:09</td>\n",
       "      <td>200200095163</td>\n",
       "      <td>777700019827</td>\n",
       "    </tr>\n",
       "    <tr>\n",
       "      <th>76941</th>\n",
       "      <td>200022924890</td>\n",
       "      <td>СЛЮДЯНКА II</td>\n",
       "      <td>АНГАСОЛКА</td>\n",
       "      <td>Aug 12, 22:09</td>\n",
       "      <td>Aug 12, 22:35</td>\n",
       "      <td>200200095163</td>\n",
       "      <td>777700019827</td>\n",
       "    </tr>\n",
       "    <tr>\n",
       "      <th>76942</th>\n",
       "      <td>200022924890</td>\n",
       "      <td>АНГАСОЛКА</td>\n",
       "      <td>АНДРИАНОВСКАЯ</td>\n",
       "      <td>Aug 12, 22:35</td>\n",
       "      <td>Aug 12, 22:49</td>\n",
       "      <td>200200095163</td>\n",
       "      <td>777700019827</td>\n",
       "    </tr>\n",
       "    <tr>\n",
       "      <th>76943</th>\n",
       "      <td>200022924890</td>\n",
       "      <td>АНДРИАНОВСКАЯ</td>\n",
       "      <td>БОЛЬШОЙ ЛУГ</td>\n",
       "      <td>Aug 12, 22:49</td>\n",
       "      <td>Aug 12, 23:56</td>\n",
       "      <td>200200095163</td>\n",
       "      <td>777700019827</td>\n",
       "    </tr>\n",
       "    <tr>\n",
       "      <th>76944</th>\n",
       "      <td>200022924890</td>\n",
       "      <td>БОЛЬШОЙ ЛУГ</td>\n",
       "      <td>ГОНЧАРОВО</td>\n",
       "      <td>Aug 19, 01:54</td>\n",
       "      <td>Aug 19, 02:14</td>\n",
       "      <td>200200095163</td>\n",
       "      <td>200200082120</td>\n",
       "    </tr>\n",
       "    <tr>\n",
       "      <th>76945</th>\n",
       "      <td>200022924890</td>\n",
       "      <td>ГОНЧАРОВО</td>\n",
       "      <td>ИРКУТСК-СОРТИРОВ...</td>\n",
       "      <td>Aug 19, 02:14</td>\n",
       "      <td>Aug 19, 02:42</td>\n",
       "      <td>200200095163</td>\n",
       "      <td>200200082120</td>\n",
       "    </tr>\n",
       "    <tr>\n",
       "      <th>76946</th>\n",
       "      <td>200022924890</td>\n",
       "      <td>ИРКУТСК-СОРТИРОВ...</td>\n",
       "      <td>БАТАРЕЙНАЯ</td>\n",
       "      <td>Aug 19, 04:36</td>\n",
       "      <td>Aug 19, 04:49</td>\n",
       "      <td>200200095163</td>\n",
       "      <td>NaN</td>\n",
       "    </tr>\n",
       "    <tr>\n",
       "      <th>76947</th>\n",
       "      <td>200022924890</td>\n",
       "      <td>БАТАРЕЙНАЯ</td>\n",
       "      <td>МЕГЕТ</td>\n",
       "      <td>Aug 19, 04:49</td>\n",
       "      <td>Aug 19, 04:57</td>\n",
       "      <td>200200095163</td>\n",
       "      <td>NaN</td>\n",
       "    </tr>\n",
       "    <tr>\n",
       "      <th>76948</th>\n",
       "      <td>200022924890</td>\n",
       "      <td>МЕГЕТ</td>\n",
       "      <td>СУХОВСКАЯ</td>\n",
       "      <td>Aug 19, 04:57</td>\n",
       "      <td>Aug 19, 05:10</td>\n",
       "      <td>200200095163</td>\n",
       "      <td>NaN</td>\n",
       "    </tr>\n",
       "    <tr>\n",
       "      <th>...</th>\n",
       "      <td>...</td>\n",
       "      <td>...</td>\n",
       "      <td>...</td>\n",
       "      <td>...</td>\n",
       "      <td>...</td>\n",
       "      <td>...</td>\n",
       "      <td>...</td>\n",
       "    </tr>\n",
       "    <tr>\n",
       "      <th>76960</th>\n",
       "      <td>200022924890</td>\n",
       "      <td>ТУЛУН</td>\n",
       "      <td>УДА II</td>\n",
       "      <td>Aug 19, 12:16</td>\n",
       "      <td>Aug 19, 14:06</td>\n",
       "      <td>200200095163</td>\n",
       "      <td>NaN</td>\n",
       "    </tr>\n",
       "    <tr>\n",
       "      <th>76961</th>\n",
       "      <td>200022924890</td>\n",
       "      <td>УДА II</td>\n",
       "      <td>НИЖНЕУДИНСК</td>\n",
       "      <td>Aug 19, 14:06</td>\n",
       "      <td>Aug 19, 14:18</td>\n",
       "      <td>200200095163</td>\n",
       "      <td>NaN</td>\n",
       "    </tr>\n",
       "    <tr>\n",
       "      <th>76962</th>\n",
       "      <td>200022924890</td>\n",
       "      <td>НИЖНЕУДИНСК</td>\n",
       "      <td>АЛЗАМАЙ</td>\n",
       "      <td>Aug 19, 15:19</td>\n",
       "      <td>Aug 19, 17:13</td>\n",
       "      <td>200200095163</td>\n",
       "      <td>NaN</td>\n",
       "    </tr>\n",
       "    <tr>\n",
       "      <th>76963</th>\n",
       "      <td>200022924890</td>\n",
       "      <td>АЛЗАМАЙ</td>\n",
       "      <td>БАЙРОНОВКА</td>\n",
       "      <td>Aug 19, 17:13</td>\n",
       "      <td>Aug 19, 18:04</td>\n",
       "      <td>200200095163</td>\n",
       "      <td>NaN</td>\n",
       "    </tr>\n",
       "    <tr>\n",
       "      <th>76964</th>\n",
       "      <td>200022924890</td>\n",
       "      <td>БАЙРОНОВКА</td>\n",
       "      <td>ТАЙШЕТ</td>\n",
       "      <td>Aug 19, 18:04</td>\n",
       "      <td>Aug 19, 18:32</td>\n",
       "      <td>200200095163</td>\n",
       "      <td>NaN</td>\n",
       "    </tr>\n",
       "    <tr>\n",
       "      <th>76965</th>\n",
       "      <td>200022924890</td>\n",
       "      <td>ТАЙШЕТ</td>\n",
       "      <td>ТАГУЛ</td>\n",
       "      <td>Aug 19, 18:32</td>\n",
       "      <td>Aug 19, 19:08</td>\n",
       "      <td>NaN</td>\n",
       "      <td>NaN</td>\n",
       "    </tr>\n",
       "    <tr>\n",
       "      <th>76966</th>\n",
       "      <td>200022924890</td>\n",
       "      <td>ТАГУЛ</td>\n",
       "      <td>ИРБЕЙСКАЯ</td>\n",
       "      <td>Aug 19, 19:08</td>\n",
       "      <td>Aug 20, 00:07</td>\n",
       "      <td>NaN</td>\n",
       "      <td>NaN</td>\n",
       "    </tr>\n",
       "    <tr>\n",
       "      <th>76967</th>\n",
       "      <td>200022924890</td>\n",
       "      <td>ИРБЕЙСКАЯ</td>\n",
       "      <td>САЯНСКАЯ</td>\n",
       "      <td>Aug 20, 00:07</td>\n",
       "      <td>Aug 20, 01:00</td>\n",
       "      <td>NaN</td>\n",
       "      <td>NaN</td>\n",
       "    </tr>\n",
       "    <tr>\n",
       "      <th>76968</th>\n",
       "      <td>200022924890</td>\n",
       "      <td>САЯНСКАЯ</td>\n",
       "      <td>ЩЕТИНКИНО</td>\n",
       "      <td>Aug 20, 02:19</td>\n",
       "      <td>Aug 20, 06:26</td>\n",
       "      <td>NaN</td>\n",
       "      <td>NaN</td>\n",
       "    </tr>\n",
       "    <tr>\n",
       "      <th>76969</th>\n",
       "      <td>200022924890</td>\n",
       "      <td>ЩЕТИНКИНО</td>\n",
       "      <td>КОШУРНИКОВО</td>\n",
       "      <td>Aug 20, 06:26</td>\n",
       "      <td>Aug 20, 07:38</td>\n",
       "      <td>NaN</td>\n",
       "      <td>NaN</td>\n",
       "    </tr>\n",
       "    <tr>\n",
       "      <th>76970</th>\n",
       "      <td>200022924890</td>\n",
       "      <td>КОШУРНИКОВО</td>\n",
       "      <td>РАЗЪЕЗД 557 КМ</td>\n",
       "      <td>Aug 20, 07:38</td>\n",
       "      <td>Aug 20, 07:56</td>\n",
       "      <td>NaN</td>\n",
       "      <td>NaN</td>\n",
       "    </tr>\n",
       "    <tr>\n",
       "      <th>76971</th>\n",
       "      <td>200022924890</td>\n",
       "      <td>РАЗЪЕЗД 557 КМ</td>\n",
       "      <td>ИРБА</td>\n",
       "      <td>Aug 20, 07:56</td>\n",
       "      <td>Aug 20, 09:22</td>\n",
       "      <td>NaN</td>\n",
       "      <td>NaN</td>\n",
       "    </tr>\n",
       "    <tr>\n",
       "      <th>76972</th>\n",
       "      <td>200022924890</td>\n",
       "      <td>ИРБА</td>\n",
       "      <td>КУРАГИНО</td>\n",
       "      <td>Aug 20, 09:22</td>\n",
       "      <td>Aug 20, 09:37</td>\n",
       "      <td>NaN</td>\n",
       "      <td>NaN</td>\n",
       "    </tr>\n",
       "    <tr>\n",
       "      <th>76973</th>\n",
       "      <td>200022924890</td>\n",
       "      <td>КУРАГИНО</td>\n",
       "      <td>МИНУСИНСК</td>\n",
       "      <td>Aug 20, 09:37</td>\n",
       "      <td>Aug 20, 11:06</td>\n",
       "      <td>NaN</td>\n",
       "      <td>NaN</td>\n",
       "    </tr>\n",
       "    <tr>\n",
       "      <th>76974</th>\n",
       "      <td>200022924890</td>\n",
       "      <td>МИНУСИНСК</td>\n",
       "      <td>ПОДСИНИЙ</td>\n",
       "      <td>Aug 20, 11:06</td>\n",
       "      <td>Aug 20, 11:19</td>\n",
       "      <td>NaN</td>\n",
       "      <td>NaN</td>\n",
       "    </tr>\n",
       "    <tr>\n",
       "      <th>76975</th>\n",
       "      <td>200022924890</td>\n",
       "      <td>ПОДСИНИЙ</td>\n",
       "      <td>АБАКАН</td>\n",
       "      <td>Aug 20, 11:19</td>\n",
       "      <td>Aug 20, 11:40</td>\n",
       "      <td>NaN</td>\n",
       "      <td>NaN</td>\n",
       "    </tr>\n",
       "    <tr>\n",
       "      <th>76976</th>\n",
       "      <td>200022924890</td>\n",
       "      <td>АБАКАН</td>\n",
       "      <td>ТАШЕБА</td>\n",
       "      <td>Aug 20, 13:40</td>\n",
       "      <td>Aug 20, 13:55</td>\n",
       "      <td>NaN</td>\n",
       "      <td>NaN</td>\n",
       "    </tr>\n",
       "    <tr>\n",
       "      <th>76977</th>\n",
       "      <td>200022924890</td>\n",
       "      <td>ТАШЕБА</td>\n",
       "      <td>ТИГЕЙ</td>\n",
       "      <td>Aug 20, 13:55</td>\n",
       "      <td>Aug 20, 14:12</td>\n",
       "      <td>NaN</td>\n",
       "      <td>NaN</td>\n",
       "    </tr>\n",
       "    <tr>\n",
       "      <th>76978</th>\n",
       "      <td>200022924890</td>\n",
       "      <td>ТИГЕЙ</td>\n",
       "      <td>ХОНЫХ</td>\n",
       "      <td>Aug 20, 14:12</td>\n",
       "      <td>Aug 20, 14:22</td>\n",
       "      <td>NaN</td>\n",
       "      <td>NaN</td>\n",
       "    </tr>\n",
       "    <tr>\n",
       "      <th>76979</th>\n",
       "      <td>200022924890</td>\n",
       "      <td>ХОНЫХ</td>\n",
       "      <td>КАМЫШТА</td>\n",
       "      <td>Aug 20, 14:22</td>\n",
       "      <td>Aug 20, 15:11</td>\n",
       "      <td>NaN</td>\n",
       "      <td>NaN</td>\n",
       "    </tr>\n",
       "    <tr>\n",
       "      <th>76980</th>\n",
       "      <td>200022924890</td>\n",
       "      <td>КАМЫШТА</td>\n",
       "      <td>АСКИЗ</td>\n",
       "      <td>Aug 20, 15:11</td>\n",
       "      <td>Aug 20, 15:42</td>\n",
       "      <td>NaN</td>\n",
       "      <td>NaN</td>\n",
       "    </tr>\n",
       "    <tr>\n",
       "      <th>76981</th>\n",
       "      <td>200022924890</td>\n",
       "      <td>АСКИЗ</td>\n",
       "      <td>ХАБЗАС</td>\n",
       "      <td>Aug 20, 15:42</td>\n",
       "      <td>Aug 20, 17:11</td>\n",
       "      <td>NaN</td>\n",
       "      <td>NaN</td>\n",
       "    </tr>\n",
       "    <tr>\n",
       "      <th>76982</th>\n",
       "      <td>200022924890</td>\n",
       "      <td>ХАБЗАС</td>\n",
       "      <td>НАНХЧУЛ</td>\n",
       "      <td>Aug 20, 17:11</td>\n",
       "      <td>Aug 20, 17:25</td>\n",
       "      <td>NaN</td>\n",
       "      <td>NaN</td>\n",
       "    </tr>\n",
       "    <tr>\n",
       "      <th>76983</th>\n",
       "      <td>200022924890</td>\n",
       "      <td>НАНХЧУЛ</td>\n",
       "      <td>БИСКАМЖА</td>\n",
       "      <td>Aug 20, 17:25</td>\n",
       "      <td>Aug 20, 18:03</td>\n",
       "      <td>NaN</td>\n",
       "      <td>NaN</td>\n",
       "    </tr>\n",
       "    <tr>\n",
       "      <th>76984</th>\n",
       "      <td>200022924890</td>\n",
       "      <td>БИСКАМЖА</td>\n",
       "      <td>МЕЖДУРЕЧЕНСК</td>\n",
       "      <td>Aug 20, 18:03</td>\n",
       "      <td>Aug 20, 21:12</td>\n",
       "      <td>NaN</td>\n",
       "      <td>NaN</td>\n",
       "    </tr>\n",
       "  </tbody>\n",
       "</table>\n",
       "<p>61 rows × 7 columns</p>\n",
       "</div>"
      ],
      "text/plain": [
       "              train         st_from_name           st_to_name   time_start_f  \\\n",
       "76924  200022924890               ЧИТА I               КАДАЛА  Aug 11, 17:39   \n",
       "76925  200022924890               КАДАЛА               ЛЕСНАЯ  Aug 11, 17:55   \n",
       "76926  200022924890               ЛЕСНАЯ             ТУРГУТУЙ  Aug 11, 18:51   \n",
       "76927  200022924890             ТУРГУТУЙ               МОГЗОН  Aug 11, 19:36   \n",
       "76928  200022924890               МОГЗОН                ХИЛОК  Aug 11, 20:35   \n",
       "76929  200022924890                ХИЛОК             ЖИПХЕГЕН  Aug 12, 03:40   \n",
       "76930  200022924890             ЖИПХЕГЕН     ПЕТРОВСКИЙ ЗАВОД  Aug 12, 04:11   \n",
       "76931  200022924890     ПЕТРОВСКИЙ ЗАВОД                 КИЖА  Aug 12, 06:30   \n",
       "76932  200022924890                 КИЖА               ГОРХОН  Aug 12, 07:02   \n",
       "76933  200022924890               ГОРХОН              ЧЕЛУТАЙ  Aug 12, 07:19   \n",
       "76934  200022924890              ЧЕЛУТАЙ               ТАЛЬЦЫ  Aug 12, 07:56   \n",
       "76935  200022924890               ТАЛЬЦЫ           ЗАУДИНСКИЙ  Aug 12, 08:46   \n",
       "76936  200022924890           ЗАУДИНСКИЙ             УЛАН-УДЭ  Aug 12, 08:55   \n",
       "76937  200022924890             УЛАН-УДЭ              МЫСОВАЯ  Aug 12, 16:30   \n",
       "76938  200022924890              МЫСОВАЯ            БАЙКАЛЬСК  Aug 12, 19:03   \n",
       "76939  200022924890            БАЙКАЛЬСК           СЛЮДЯНКА I  Aug 12, 21:08   \n",
       "76940  200022924890           СЛЮДЯНКА I          СЛЮДЯНКА II  Aug 12, 21:59   \n",
       "76941  200022924890          СЛЮДЯНКА II            АНГАСОЛКА  Aug 12, 22:09   \n",
       "76942  200022924890            АНГАСОЛКА        АНДРИАНОВСКАЯ  Aug 12, 22:35   \n",
       "76943  200022924890        АНДРИАНОВСКАЯ          БОЛЬШОЙ ЛУГ  Aug 12, 22:49   \n",
       "76944  200022924890          БОЛЬШОЙ ЛУГ            ГОНЧАРОВО  Aug 19, 01:54   \n",
       "76945  200022924890            ГОНЧАРОВО  ИРКУТСК-СОРТИРОВ...  Aug 19, 02:14   \n",
       "76946  200022924890  ИРКУТСК-СОРТИРОВ...           БАТАРЕЙНАЯ  Aug 19, 04:36   \n",
       "76947  200022924890           БАТАРЕЙНАЯ                МЕГЕТ  Aug 19, 04:49   \n",
       "76948  200022924890                МЕГЕТ            СУХОВСКАЯ  Aug 19, 04:57   \n",
       "...             ...                  ...                  ...            ...   \n",
       "76960  200022924890                ТУЛУН               УДА II  Aug 19, 12:16   \n",
       "76961  200022924890               УДА II          НИЖНЕУДИНСК  Aug 19, 14:06   \n",
       "76962  200022924890          НИЖНЕУДИНСК              АЛЗАМАЙ  Aug 19, 15:19   \n",
       "76963  200022924890              АЛЗАМАЙ           БАЙРОНОВКА  Aug 19, 17:13   \n",
       "76964  200022924890           БАЙРОНОВКА               ТАЙШЕТ  Aug 19, 18:04   \n",
       "76965  200022924890               ТАЙШЕТ                ТАГУЛ  Aug 19, 18:32   \n",
       "76966  200022924890                ТАГУЛ            ИРБЕЙСКАЯ  Aug 19, 19:08   \n",
       "76967  200022924890            ИРБЕЙСКАЯ             САЯНСКАЯ  Aug 20, 00:07   \n",
       "76968  200022924890             САЯНСКАЯ            ЩЕТИНКИНО  Aug 20, 02:19   \n",
       "76969  200022924890            ЩЕТИНКИНО          КОШУРНИКОВО  Aug 20, 06:26   \n",
       "76970  200022924890          КОШУРНИКОВО       РАЗЪЕЗД 557 КМ  Aug 20, 07:38   \n",
       "76971  200022924890       РАЗЪЕЗД 557 КМ                 ИРБА  Aug 20, 07:56   \n",
       "76972  200022924890                 ИРБА             КУРАГИНО  Aug 20, 09:22   \n",
       "76973  200022924890             КУРАГИНО            МИНУСИНСК  Aug 20, 09:37   \n",
       "76974  200022924890            МИНУСИНСК             ПОДСИНИЙ  Aug 20, 11:06   \n",
       "76975  200022924890             ПОДСИНИЙ               АБАКАН  Aug 20, 11:19   \n",
       "76976  200022924890               АБАКАН               ТАШЕБА  Aug 20, 13:40   \n",
       "76977  200022924890               ТАШЕБА                ТИГЕЙ  Aug 20, 13:55   \n",
       "76978  200022924890                ТИГЕЙ                ХОНЫХ  Aug 20, 14:12   \n",
       "76979  200022924890                ХОНЫХ              КАМЫШТА  Aug 20, 14:22   \n",
       "76980  200022924890              КАМЫШТА                АСКИЗ  Aug 20, 15:11   \n",
       "76981  200022924890                АСКИЗ               ХАБЗАС  Aug 20, 15:42   \n",
       "76982  200022924890               ХАБЗАС              НАНХЧУЛ  Aug 20, 17:11   \n",
       "76983  200022924890              НАНХЧУЛ             БИСКАМЖА  Aug 20, 17:25   \n",
       "76984  200022924890             БИСКАМЖА         МЕЖДУРЕЧЕНСК  Aug 20, 18:03   \n",
       "\n",
       "          time_end_f          loco          team  \n",
       "76924  Aug 11, 17:55  200200095163  200200098705  \n",
       "76925  Aug 11, 18:51  200200095163  200200098705  \n",
       "76926  Aug 11, 19:36  200200095163  200200098705  \n",
       "76927  Aug 11, 20:35  200200095163  200200098705  \n",
       "76928  Aug 11, 22:56  200200095163  200200098705  \n",
       "76929  Aug 12, 04:11  200200095163  210207561001  \n",
       "76930  Aug 12, 06:30  200200095163  210207561001  \n",
       "76931  Aug 12, 07:02  200200095163  210207561001  \n",
       "76932  Aug 12, 07:19  200200095163  210207561001  \n",
       "76933  Aug 12, 07:56  200200095163  210207561001  \n",
       "76934  Aug 12, 08:46  200200095163  210207561001  \n",
       "76935  Aug 12, 08:55  200200095163  210207561001  \n",
       "76936  Aug 12, 09:14  200200095163  210207561001  \n",
       "76937  Aug 12, 19:03  200200095163  777700019827  \n",
       "76938  Aug 12, 21:08  200200095163  777700019827  \n",
       "76939  Aug 12, 21:59  200200095163  777700019827  \n",
       "76940  Aug 12, 22:09  200200095163  777700019827  \n",
       "76941  Aug 12, 22:35  200200095163  777700019827  \n",
       "76942  Aug 12, 22:49  200200095163  777700019827  \n",
       "76943  Aug 12, 23:56  200200095163  777700019827  \n",
       "76944  Aug 19, 02:14  200200095163  200200082120  \n",
       "76945  Aug 19, 02:42  200200095163  200200082120  \n",
       "76946  Aug 19, 04:49  200200095163           NaN  \n",
       "76947  Aug 19, 04:57  200200095163           NaN  \n",
       "76948  Aug 19, 05:10  200200095163           NaN  \n",
       "...              ...           ...           ...  \n",
       "76960  Aug 19, 14:06  200200095163           NaN  \n",
       "76961  Aug 19, 14:18  200200095163           NaN  \n",
       "76962  Aug 19, 17:13  200200095163           NaN  \n",
       "76963  Aug 19, 18:04  200200095163           NaN  \n",
       "76964  Aug 19, 18:32  200200095163           NaN  \n",
       "76965  Aug 19, 19:08           NaN           NaN  \n",
       "76966  Aug 20, 00:07           NaN           NaN  \n",
       "76967  Aug 20, 01:00           NaN           NaN  \n",
       "76968  Aug 20, 06:26           NaN           NaN  \n",
       "76969  Aug 20, 07:38           NaN           NaN  \n",
       "76970  Aug 20, 07:56           NaN           NaN  \n",
       "76971  Aug 20, 09:22           NaN           NaN  \n",
       "76972  Aug 20, 09:37           NaN           NaN  \n",
       "76973  Aug 20, 11:06           NaN           NaN  \n",
       "76974  Aug 20, 11:19           NaN           NaN  \n",
       "76975  Aug 20, 11:40           NaN           NaN  \n",
       "76976  Aug 20, 13:55           NaN           NaN  \n",
       "76977  Aug 20, 14:12           NaN           NaN  \n",
       "76978  Aug 20, 14:22           NaN           NaN  \n",
       "76979  Aug 20, 15:11           NaN           NaN  \n",
       "76980  Aug 20, 15:42           NaN           NaN  \n",
       "76981  Aug 20, 17:11           NaN           NaN  \n",
       "76982  Aug 20, 17:25           NaN           NaN  \n",
       "76983  Aug 20, 18:03           NaN           NaN  \n",
       "76984  Aug 20, 21:12           NaN           NaN  \n",
       "\n",
       "[61 rows x 7 columns]"
      ]
     },
     "execution_count": 420,
     "metadata": {},
     "output_type": "execute_result"
    }
   ],
   "source": [
    "cols = ['train', 'st_from_name', 'st_to_name', 'time_start_f', 'time_end_f', 'loco', 'team']\n",
    "train_plan[train_plan.train == longs.iloc[0].train][cols]"
   ]
  },
  {
   "cell_type": "code",
   "execution_count": 421,
   "metadata": {
    "collapsed": false
   },
   "outputs": [
    {
     "data": {
      "text/plain": [
       "<matplotlib.axes._subplots.AxesSubplot at 0x1b194073748>"
      ]
     },
     "execution_count": 421,
     "metadata": {},
     "output_type": "execute_result"
    },
    {
     "data": {
      "image/png": "[encoded data removed]",
      "text/plain": [
       "<matplotlib.figure.Figure at 0x1b1908d1f60>"
      ]
     },
     "metadata": {},
     "output_type": "display_data"
    }
   ],
   "source": [
    "longs.stop_time_h.describe()\n",
    "sns.distplot(longs.stop_time_h, kde=False, bins=15)\n",
    "#plt.scatter(np.arange(len(longs.stop_time_h)), longs.stop_time_h)"
   ]
  },
  {
   "cell_type": "code",
   "execution_count": 422,
   "metadata": {
    "collapsed": false
   },
   "outputs": [
    {
     "data": {
      "image/png": "[encoded data removed]",
      "text/plain": [
       "<matplotlib.figure.Figure at 0x1b19072f438>"
      ]
     },
     "metadata": {},
     "output_type": "display_data"
    }
   ],
   "source": [
    "# Смена бригады без стоянки локомотива\n",
    "cols = ['loco', 'st_from_name', 'st_to_name', 'time_start', 'time_end', 'team', 'time_start_next', 'loco_finish', 'stop_time']\n",
    "\n",
    "loco_plan['team_start'] = (loco_plan.team != loco_plan.team.shift(1)) | (loco_plan.loco != loco_plan.loco.shift(1))\n",
    "loco_plan['team_end'] = (loco_plan.team != loco_plan.team.shift(-1)) | (loco_plan.loco != loco_plan.loco.shift(-1))\n",
    "start_teams = loco_plan.loc[(loco_plan.team.isin([-1, 0]) == False) & (loco_plan.team_start == True)].reset_index()\\\n",
    "                            [['loco', 'st_from_name', 'time_start', 'time_start_f', 'train', 'team']]\n",
    "end_teams = loco_plan.loc[(loco_plan.team.isin([-1, 0]) == False) & (loco_plan.team_end == True)].reset_index()\\\n",
    "                            [['st_to_name', 'time_end', 'time_end_f']]\n",
    "teams_trip = pd.concat([start_teams, end_teams], axis=1)\n",
    "teams_trip['time_start_next'] = teams_trip.time_start.shift(-1)\n",
    "teams_trip['loco_finish'] = teams_trip.loco != teams_trip.loco.shift(-1)\n",
    "teams_trip.loc[teams_trip.loco_finish == False, 'stop_time'] = teams_trip.time_start_next - teams_trip.time_end\n",
    "sns.set(style='whitegrid', context='notebook')\n",
    "fig = plt.figure(figsize=(8, 3))\n",
    "series_to_hist = teams_trip.dropna(subset=['stop_time']).stop_time / 3600\n",
    "title = 'Распределение времен стоянок локомотивов для смены бригад\\n(среднее %.2f ч., медиана %.2f ч.)' %\\\n",
    "        (series_to_hist.mean(), series_to_hist.median())\n",
    "sns.kdeplot(series_to_hist, shade=True)\n",
    "plt.title(title)\n",
    "plt.xlabel('Время стоянки для смены бригад (час)')\n",
    "filename = 'loco_stop_time.png'\n",
    "fig.savefig(REPORT_FOLDER + filename, bbox_inches='tight')\n",
    "add_image(filename)"
   ]
  },
  {
   "cell_type": "markdown",
   "metadata": {},
   "source": [
    "#### Поиск локомотивов, у которых смены бригады занимает меньше 15 минут"
   ]
  },
  {
   "cell_type": "code",
   "execution_count": 423,
   "metadata": {
    "collapsed": false
   },
   "outputs": [
    {
     "name": "stdout",
     "output_type": "stream",
     "text": [
      "Всего 25019 локомотивов со сменой бригад быстрее 15 минут (показаны первые 10):\n",
      "         loco st_from_name   st_to_name     time_end_f       tsn_norm            train  stop_time team\n",
      " 200200091433      ТАРСКАЯ    КАРЫМСКАЯ  Aug 14, 19:00  Aug 14, 03:59   88880018204425     -54057  NaN\n",
      " 200200076468      ШКОТОВО  СМОЛЯНИНОВО  Aug 13, 22:58  Aug 13, 09:05     200021491039     -49970  NaN\n",
      " 200200061048       ЗЫКОВО      БАЗАИХА  Aug 14, 07:48  Aug 13, 21:24  999928891032000     -37400  NaN\n",
      " 200200103232        ТОРЕЯ       ТАЙШЕТ  Aug 14, 09:42  Aug 13, 23:36   88880018114553     -36391  NaN\n",
      " 200200098655       ЗЫКОВО      БАЗАИХА  Aug 14, 05:48  Aug 13, 22:45  999928891012000     -25422  NaN\n",
      " 200200092725   БАЙРОНОВКА       ТАЙШЕТ  Aug 14, 04:08  Aug 13, 21:56   88880018484473     -22278  NaN\n",
      " 200200073760         ЮРТЫ       ТАЙШЕТ  Aug 14, 07:47  Aug 14, 02:24   88880018114546     -19374  NaN\n",
      " 200200080910    УССУРИЙСК    УССУРИЙСК  Aug 14, 00:03  Aug 13, 19:00               -1     -18193  NaN\n",
      " 200200100793       ЧИТА I    КАРЫМСКАЯ  Aug 13, 21:19  Aug 13, 16:34   88880018164784     -17099  NaN\n",
      " 200200139161       ЧИТА I    КАРЫМСКАЯ  Aug 14, 01:21  Aug 13, 20:39   88880018434244     -16884  NaN\n",
      "\n",
      "Распределение проблемных локомотивов по станциям смены (показаны первые 10 по частоте):\n",
      "    station  freq  norm_time\n",
      "     ЗЫКОВО   263          0\n",
      "    ТАРСКАЯ   254          0\n",
      "        УЯР   248       1152\n",
      "     МАЛЬТА   246          0\n",
      " КАСЬЯНОВКА   246          0\n",
      "    АНГАРСК   240          0\n",
      "     ЗАЛАРИ   238          0\n",
      "      КИТОЙ   238          0\n",
      " БАТАРЕЙНАЯ   237          0\n",
      "  ЧЕРЕМХОВО   235          0\n",
      "\n",
      "Распределение проблемных локомотивов по типам поездов:\n",
      "Реальный    14104\n",
      "Задания      6404\n",
      "Резерв       4511\n"
     ]
    }
   ],
   "source": [
    "#add_line('Время начала планирования' % time.ctime(current_time))\n",
    "cols2 = ['loco', 'st_from_name', 'st_to_name', 'time_end_f', 'tsn_norm', 'train', 'stop_time', 'team']\n",
    "pd.set_option('display.max_colwidth', 20)\n",
    "teams_trip = teams_trip.dropna(subset=['time_start_next'])\n",
    "teams_trip['tsn_norm'] = teams_trip.time_start_next.apply(nice_time)\n",
    "teams_trip.loc[teams_trip.stop_time.isnull() == False, 'next_team'] = teams_trip.team.shift(-1)\n",
    "teams_trip['train_type'] = teams_trip.train.apply(lambda x: 'Резерв' if str(x)[0]=='8' \\\n",
    "                                                      else ('Задания' if str(x)[0]=='9' else 'Реальный'))\n",
    "fast_change = teams_trip.loc[teams_trip.stop_time < 15 * 60]\n",
    "if fast_change.empty == False:\n",
    "    add_header('Всего %d локомотивов со сменой бригад быстрее 15 минут (показаны первые 10):' % len(fast_change.index))\n",
    "    add_line(fast_change[cols2].sort_values(['stop_time', 'loco']).head(10))\n",
    "    add_header('\\nРаспределение проблемных локомотивов по станциям смены (показаны первые 10 по частоте):')\n",
    "    bad_st = fast_change.st_to_name.value_counts().to_frame().reset_index()\n",
    "    bad_st.columns = ['station', 'freq']\n",
    "    bad_st['norm_time'] = bad_st['station'].map(stations.drop_duplicates(subset=['name']).set_index('name').norm_time)\n",
    "    add_line(bad_st.head(10))\n",
    "    add_header('\\nРаспределение проблемных локомотивов по типам поездов:')    \n",
    "    add_line(fast_change.train_type.value_counts())\n",
    "else:\n",
    "    add_line('Нет локомотивов со сменой бригад со стоянкой меньше 15 минут')\n",
    "    \n",
    "# Посмотреть маршруты конкретных локомотивов или бригад\n",
    "loco_cols = ['loco', 'st_from','st_to', 'st_from_name', 'st_to_name', 'time_start', 'time_end', 'team']\n",
    "#team_cols = ['team', 'st_from_name', 'st_to_name', 'time_start_f', 'time_end_f', 'state', 'loco']\n",
    "#print(loco_plan.loc[loco_plan.loco == '200200093307', loco_cols].to_string(index=False))\n",
    "#print(team_plan.loc[team_plan.loco == '200250042559', team_cols].sort_values('time_start_norm').to_string(index=False))"
   ]
  },
  {
   "cell_type": "code",
   "execution_count": 424,
   "metadata": {
    "collapsed": false
   },
   "outputs": [
    {
     "data": {
      "text/html": [
       "<div>\n",
       "<table border=\"1\" class=\"dataframe\">\n",
       "  <thead>\n",
       "    <tr style=\"text-align: right;\">\n",
       "      <th></th>\n",
       "      <th>loco</th>\n",
       "      <th>st_from_name</th>\n",
       "      <th>st_to_name</th>\n",
       "      <th>time_start_f</th>\n",
       "      <th>time_end_f</th>\n",
       "      <th>train</th>\n",
       "      <th>team</th>\n",
       "    </tr>\n",
       "  </thead>\n",
       "  <tbody>\n",
       "    <tr>\n",
       "      <th>24646</th>\n",
       "      <td>200200091211</td>\n",
       "      <td>СЛЮДЯНКА I</td>\n",
       "      <td>СЛЮДЯНКА II</td>\n",
       "      <td>Aug 12, 02:20</td>\n",
       "      <td>Aug 12, 02:30</td>\n",
       "      <td>200024579297</td>\n",
       "      <td>200200210675</td>\n",
       "    </tr>\n",
       "    <tr>\n",
       "      <th>24647</th>\n",
       "      <td>200200091211</td>\n",
       "      <td>СЛЮДЯНКА II</td>\n",
       "      <td>АНГАСОЛКА</td>\n",
       "      <td>Aug 12, 02:30</td>\n",
       "      <td>Aug 12, 02:56</td>\n",
       "      <td>200024579297</td>\n",
       "      <td>200200210675</td>\n",
       "    </tr>\n",
       "    <tr>\n",
       "      <th>24648</th>\n",
       "      <td>200200091211</td>\n",
       "      <td>АНГАСОЛКА</td>\n",
       "      <td>АНДРИАНОВСКАЯ</td>\n",
       "      <td>Aug 12, 02:56</td>\n",
       "      <td>Aug 12, 03:10</td>\n",
       "      <td>200024579297</td>\n",
       "      <td>200200210675</td>\n",
       "    </tr>\n",
       "    <tr>\n",
       "      <th>24649</th>\n",
       "      <td>200200091211</td>\n",
       "      <td>АНДРИАНОВСКАЯ</td>\n",
       "      <td>БОЛЬШОЙ ЛУГ</td>\n",
       "      <td>Aug 12, 03:10</td>\n",
       "      <td>Aug 12, 04:21</td>\n",
       "      <td>200024579297</td>\n",
       "      <td>200200210675</td>\n",
       "    </tr>\n",
       "    <tr>\n",
       "      <th>24650</th>\n",
       "      <td>200200091211</td>\n",
       "      <td>БОЛЬШОЙ ЛУГ</td>\n",
       "      <td>ГОНЧАРОВО</td>\n",
       "      <td>Aug 12, 04:21</td>\n",
       "      <td>Aug 12, 04:39</td>\n",
       "      <td>200024579297</td>\n",
       "      <td>200200210675</td>\n",
       "    </tr>\n",
       "    <tr>\n",
       "      <th>24651</th>\n",
       "      <td>200200091211</td>\n",
       "      <td>ГОНЧАРОВО</td>\n",
       "      <td>КАЯ</td>\n",
       "      <td>Aug 12, 04:39</td>\n",
       "      <td>Aug 12, 04:56</td>\n",
       "      <td>200024579297</td>\n",
       "      <td>200200210675</td>\n",
       "    </tr>\n",
       "    <tr>\n",
       "      <th>24652</th>\n",
       "      <td>200200091211</td>\n",
       "      <td>КАЯ</td>\n",
       "      <td>ИРКУТСК-ПАССАЖИР...</td>\n",
       "      <td>Aug 12, 04:56</td>\n",
       "      <td>Aug 12, 05:08</td>\n",
       "      <td>200024579297</td>\n",
       "      <td>200200210675</td>\n",
       "    </tr>\n",
       "    <tr>\n",
       "      <th>24653</th>\n",
       "      <td>200200091211</td>\n",
       "      <td>ИРКУТСК-ПАССАЖИР...</td>\n",
       "      <td>ВОЕННЫЙ ГОРОДОК</td>\n",
       "      <td>Aug 22, 05:15</td>\n",
       "      <td>Aug 22, 05:32</td>\n",
       "      <td>88880016774433</td>\n",
       "      <td>200200236527</td>\n",
       "    </tr>\n",
       "    <tr>\n",
       "      <th>24654</th>\n",
       "      <td>200200091211</td>\n",
       "      <td>ВОЕННЫЙ ГОРОДОК</td>\n",
       "      <td>ИРКУТСК-СОРТИРОВ...</td>\n",
       "      <td>Aug 22, 05:32</td>\n",
       "      <td>Aug 22, 05:39</td>\n",
       "      <td>88880016774433</td>\n",
       "      <td>200200236527</td>\n",
       "    </tr>\n",
       "  </tbody>\n",
       "</table>\n",
       "</div>"
      ],
      "text/plain": [
       "               loco         st_from_name           st_to_name   time_start_f  \\\n",
       "24646  200200091211           СЛЮДЯНКА I          СЛЮДЯНКА II  Aug 12, 02:20   \n",
       "24647  200200091211          СЛЮДЯНКА II            АНГАСОЛКА  Aug 12, 02:30   \n",
       "24648  200200091211            АНГАСОЛКА        АНДРИАНОВСКАЯ  Aug 12, 02:56   \n",
       "24649  200200091211        АНДРИАНОВСКАЯ          БОЛЬШОЙ ЛУГ  Aug 12, 03:10   \n",
       "24650  200200091211          БОЛЬШОЙ ЛУГ            ГОНЧАРОВО  Aug 12, 04:21   \n",
       "24651  200200091211            ГОНЧАРОВО                  КАЯ  Aug 12, 04:39   \n",
       "24652  200200091211                  КАЯ  ИРКУТСК-ПАССАЖИР...  Aug 12, 04:56   \n",
       "24653  200200091211  ИРКУТСК-ПАССАЖИР...      ВОЕННЫЙ ГОРОДОК  Aug 22, 05:15   \n",
       "24654  200200091211      ВОЕННЫЙ ГОРОДОК  ИРКУТСК-СОРТИРОВ...  Aug 22, 05:32   \n",
       "\n",
       "          time_end_f           train          team  \n",
       "24646  Aug 12, 02:30    200024579297  200200210675  \n",
       "24647  Aug 12, 02:56    200024579297  200200210675  \n",
       "24648  Aug 12, 03:10    200024579297  200200210675  \n",
       "24649  Aug 12, 04:21    200024579297  200200210675  \n",
       "24650  Aug 12, 04:39    200024579297  200200210675  \n",
       "24651  Aug 12, 04:56    200024579297  200200210675  \n",
       "24652  Aug 12, 05:08    200024579297  200200210675  \n",
       "24653  Aug 22, 05:32  88880016774433  200200236527  \n",
       "24654  Aug 22, 05:39  88880016774433  200200236527  "
      ]
     },
     "execution_count": 424,
     "metadata": {},
     "output_type": "execute_result"
    }
   ],
   "source": [
    "cols2 = ['loco', 'st_from_name', 'st_to_name', 'time_end_f', 'tsn_norm', 'train', 'stop_time', 'team']\n",
    "long_change = teams_trip.loc[teams_trip.stop_time > 10 * 3600]\n",
    "a = long_change.sort_values('stop_time', ascending=False)[cols2]\n",
    "loco_id = a.iloc[0].loco\n",
    "loco_plan[loco_plan.loco == loco_id][['loco', 'st_from_name', 'st_to_name', 'time_start_f', 'time_end_f', 'train', 'team']]"
   ]
  },
  {
   "cell_type": "markdown",
   "metadata": {},
   "source": [
    "<a id='rest_time'></a>\n",
    "## Проверка времен отдыха бригад [ToC](#toc)"
   ]
  },
  {
   "cell_type": "code",
   "execution_count": 425,
   "metadata": {
    "collapsed": true
   },
   "outputs": [],
   "source": [
    "add_header('Проверка времен отдыха бригад', h=2, p=False)"
   ]
  },
  {
   "cell_type": "code",
   "execution_count": 426,
   "metadata": {
    "collapsed": false
   },
   "outputs": [
    {
     "name": "stdout",
     "output_type": "stream",
     "text": [
      "Время начала планирования: Aug 11, 19:31\n",
      "Бригад с аномально большим временем отдыха: 0 (показаны первые 10):\n",
      "Минимальное время отдыха (3 часа) нарушено у 6 бригад (показаны первые 10):\n",
      "         team st_from_name st_to_name   time_start_f     time_end_f  time  state\n",
      " 200200136227     МАРИИНСК   МАРИИНСК  Aug 11, 18:20  Aug 11, 19:31  1.19      4\n",
      " 200200275329     МАРИИНСК   МАРИИНСК  Aug 11, 18:17  Aug 11, 19:31  1.24      4\n",
      " 200200227445     МАРИИНСК   МАРИИНСК  Aug 11, 18:19  Aug 11, 19:31  1.21      4\n",
      " 200200137210     МАРИИНСК   МАРИИНСК  Aug 11, 18:24  Aug 11, 19:31  1.13      4\n",
      " 200200272926          NaN        NaN  Aug 11, 19:11  Aug 11, 19:31  0.34      4\n",
      " 200200192690     МАРИИНСК   МАРИИНСК  Aug 11, 18:25  Aug 11, 19:31  1.11      4\n"
     ]
    }
   ],
   "source": [
    "add_line('Время начала планирования: %s' % nice_time(current_time))\n",
    "team_cols = ['team', 'st_from_name', 'st_to_name', 'time_start_f', 'time_end_f', 'time', 'state', 'loco']\n",
    "team_plan['time'] = np.round(((team_plan.time_end - team_plan.time_start) / 3600), 2)\n",
    "rest_outliers = team_plan[(team_plan.state == 4) & (team_plan.time > 1000)]\n",
    "add_header('Бригад с аномально большим временем отдыха: %d (показаны первые 10):' % len(rest_outliers.index))\n",
    "out_cols = ['team', 'st_from_name', 'st_to_name', 'time_start_f', 'time_end_f', 'time', 'state']\n",
    "if not rest_outliers.empty:\n",
    "    add_line(rest_outliers[out_cols].head(10))\n",
    "\n",
    "rest_check = team_plan[(team_plan.state == 4) & (team_plan.time < 1000)]\n",
    "\n",
    "min_rest = rest_check.time.min()\n",
    "if min_rest < 3:\n",
    "    add_header('Минимальное время отдыха (3 часа) нарушено у %d бригад (показаны первые 10):' \\\n",
    "          % len(rest_check[rest_check.time < 3].index))\n",
    "    add_line(rest_check[rest_check.time < 3][out_cols].head(10))    \n",
    "else:\n",
    "    add_header('Минимальное время отдыха бригад: %.2f часа' % (min_rest))"
   ]
  },
  {
   "cell_type": "markdown",
   "metadata": {},
   "source": [
    "#### Отсев бригад со слишком ранним временем явки"
   ]
  },
  {
   "cell_type": "code",
   "execution_count": 427,
   "metadata": {
    "collapsed": false
   },
   "outputs": [
    {
     "name": "stdout",
     "output_type": "stream",
     "text": [
      "Всего 530 бригад со слишком большим отдыхом и слишком ранним временем явки (сутки назад и более). Примеры:\n",
      "         team         st_from_name           st_to_name   time_start_f     time_end_f   time  state\n",
      " 200200163633               РУЖИНО               РУЖИНО  Aug 11, 03:45  Aug 12, 17:25  37.67      4\n",
      " 200200114238               РУЖИНО               РУЖИНО  Aug 11, 04:10  Aug 12, 17:25  37.25      4\n",
      " 200200103714               РУЖИНО               РУЖИНО  Aug 11, 04:10  Aug 12, 17:25  37.25      4\n",
      " 200200133562             САЯНСКАЯ             САЯНСКАЯ  Aug 11, 08:45  Aug 12, 14:44  29.98      4\n",
      " 200200146085             САЯНСКАЯ             САЯНСКАЯ  Aug 11, 09:30  Aug 12, 14:44  29.23      4\n",
      " 200200221189             САЯНСКАЯ             САЯНСКАЯ  Aug 11, 10:50  Aug 12, 14:44  27.90      4\n",
      " 200200213346             САЯНСКАЯ             САЯНСКАЯ  Aug 11, 12:07  Aug 12, 14:44  26.62      4\n",
      " 200200252334             САЯНСКАЯ             САЯНСКАЯ  Aug 11, 12:24  Aug 12, 14:44  26.33      4\n",
      " 200200194463              КУВЫКТА              КУВЫКТА  Aug 11, 03:35  Aug 12, 05:48  26.21      4\n",
      " 200200254912  ЧЕРНЫШЕВСК-ЗАБАЙ...  ЧЕРНЫШЕВСК-ЗАБАЙ...  Aug 11, 11:55  Aug 12, 13:32  25.62      4\n"
     ]
    }
   ],
   "source": [
    "rest_old_presence = rest_check[(rest_check.info_presence < current_time - 12 * 3600) & (rest_check.state_info != '3')]\n",
    "add_header('Всего %d бригад со слишком большим отдыхом и слишком ранним временем явки (сутки назад и более). Примеры:' \n",
    "           % rest_old_presence.team.count())\n",
    "add_line(rest_old_presence.sort_values('time', ascending=False)[out_cols].head(10))"
   ]
  },
  {
   "cell_type": "markdown",
   "metadata": {},
   "source": [
    "#### Бригады со слишком большим отдыхом"
   ]
  },
  {
   "cell_type": "code",
   "execution_count": 428,
   "metadata": {
    "collapsed": false
   },
   "outputs": [
    {
     "name": "stdout",
     "output_type": "stream",
     "text": [
      "Всего 66 бригад с большим временем отдыха (больше 10 часов) (показаны первые 10):\n",
      "         team         st_from_name           st_to_name   time_start_f     time_end_f   time  state\n",
      " 200200191800            БАМБУРОВО            БАМБУРОВО  Aug 11, 19:34  Aug 12, 14:37  19.05      4\n",
      " 200200252311          ВЕРХНЕЗЕЙСК          ВЕРХНЕЗЕЙСК  Aug 12, 09:43  Aug 13, 04:06  18.40      4\n",
      " 200200268257             ГВОЗДЕВО             ГВОЗДЕВО  Aug 11, 19:30  Aug 12, 13:03  17.55      4\n",
      " 200200277093                ТЫРМА                ТЫРМА  Aug 11, 14:00  Aug 12, 06:50  16.83      4\n",
      " 200200164947             ГВОЗДЕВО             ГВОЗДЕВО  Aug 11, 20:47  Aug 12, 13:03  16.27      4\n",
      " 200200162503        ГУСИНОЕ ОЗЕРО        ГУСИНОЕ ОЗЕРО  Aug 12, 08:30  Aug 13, 00:45  16.25      4\n",
      " 200200279447             МАРГУЦЕК             МАРГУЦЕК  Aug 11, 21:30  Aug 12, 13:42  16.20      4\n",
      " 200200111943  КРАСНОЯРСК-ВОСТО...  КРАСНОЯРСК-ВОСТО...  Aug 11, 18:57  Aug 12, 11:08  16.18      4\n",
      " 200200210018        ВОЛОЧАЕВКА II        ВОЛОЧАЕВКА II  Aug 11, 23:19  Aug 12, 15:07  15.80      4\n",
      " 200200221270       ШИЛКА-ТОВАРНАЯ       ШИЛКА-ТОВАРНАЯ  Aug 11, 08:30  Aug 12, 00:12  15.70      4\n"
     ]
    }
   ],
   "source": [
    "long_rest = rest_check[(rest_check.time > 10) & (rest_check.team.isin(rest_old_presence.team) == False)]\n",
    "add_header('Всего %d бригад с большим временем отдыха (больше 10 часов) (показаны первые 10):' % len(long_rest.index))\n",
    "add_line(long_rest.sort_values('time', ascending=False)[out_cols].head(10))"
   ]
  },
  {
   "cell_type": "code",
   "execution_count": 429,
   "metadata": {
    "collapsed": false
   },
   "outputs": [
    {
     "data": {
      "image/png": "[encoded data removed]",
      "text/plain": [
       "<matplotlib.figure.Figure at 0x1b1908eee48>"
      ]
     },
     "metadata": {},
     "output_type": "display_data"
    }
   ],
   "source": [
    "rest_show = rest_check[(rest_check.team.isin(rest_old_presence.team) == False)]\n",
    "fig = plt.figure(figsize=(8, 3))\n",
    "title = 'Распределение бригад по временам на отдых\\n(медианное время отдыха = %.2f час)' % (rest_show.time.median())\n",
    "sns.kdeplot(rest_show.time, shade=True)\n",
    "plt.title(title)\n",
    "plt.xlabel('Время отдыха (час)')\n",
    "filename = 'team_rest_time.png'\n",
    "fig.savefig(REPORT_FOLDER + filename, bbox_inches='tight')\n",
    "add_image(filename)"
   ]
  },
  {
   "cell_type": "markdown",
   "metadata": {},
   "source": [
    "#### Бригады с недостаточным отдыхом"
   ]
  },
  {
   "cell_type": "code",
   "execution_count": 430,
   "metadata": {
    "collapsed": false
   },
   "outputs": [],
   "source": [
    "rest = team_plan[team_plan.state == 4][['team', 'time_start', 'time']]\n",
    "team_trips['rest_start_time'] = team_trips.team.map(rest.set_index('team').time_start)\n",
    "team_trips['rest_start_time_f'] = team_trips.rest_start_time.apply(nice_time)\n",
    "team_trips['rest_time'] = team_trips.team.map(rest.set_index('team').time)\n",
    "team_trips['min_rest_time'] = np.round((team_trips.rest_start_time - team_trips.curr_presence) / (2 * 3600), 2)\n",
    "team_trips['underrest'] = team_trips.min_rest_time - team_trips.rest_time"
   ]
  },
  {
   "cell_type": "code",
   "execution_count": 431,
   "metadata": {
    "collapsed": true
   },
   "outputs": [],
   "source": [
    "# Для подсчета требуемого отдыха удаляем поездки, которые связаны с одной явкой бригады; \n",
    "# для каждой явки оставляем только последнюю поездку, чтобы правильно взять полное рабочее время.\n",
    "team_trips_cut = team_trips.sort_values(['team', 'curr_presence', 'work_time'], ascending=[True, True, False])\\\n",
    "                            .drop_duplicates(subset=['team', 'curr_presence'])"
   ]
  },
  {
   "cell_type": "code",
   "execution_count": 432,
   "metadata": {
    "collapsed": false
   },
   "outputs": [
    {
     "name": "stdout",
     "output_type": "stream",
     "text": [
      "Всего 1188 бригад с недостаточным отдыхом:\n",
      "Распределение по типу бригад:\n",
      "Реальная    629\n",
      "Фейковая    559\n"
     ]
    }
   ],
   "source": [
    "cols = ['team', 'curr_presence_norm', 'time_start_f', 'rest_start_time_f', \n",
    "        'work_time', 'min_rest_time', 'rest_time', 'underrest']\n",
    "underrest = team_trips_cut[(team_trips_cut.time_start < team_trips_cut.rest_start_time) & (team_trips_cut.underrest > 0)]\n",
    "underrest_n = underrest.team.drop_duplicates().count()\n",
    "add_header('Всего %d бригад с недостаточным отдыхом:' % underrest_n)\n",
    "add_header('Распределение по типу бригад:')\n",
    "add_line(underrest.team_type.value_counts())"
   ]
  },
  {
   "cell_type": "code",
   "execution_count": 433,
   "metadata": {
    "collapsed": false
   },
   "outputs": [
    {
     "name": "stdout",
     "output_type": "stream",
     "text": [
      "Всего 1094 бригад без переработки с недостаточным отдыхом.\n",
      "\n",
      "Распределение по типу бригад:\n",
      "Реальная    554\n",
      "Фейковая    540\n",
      "\n",
      "Примеры бригад без переработки с недостаточным отдыхом:\n",
      "         team curr_presence_norm   time_start_f rest_start_time_f  work_time  min_rest_time  rest_time  underrest\n",
      " 200200250648      Aug 11, 14:40  Aug 11, 19:55     Aug 12, 02:00      10.85           5.67       3.00       2.67\n",
      " 200200279158      Aug 11, 14:25  Aug 11, 19:40     Aug 12, 01:36      10.70           5.60       3.00       2.60\n",
      " 200200102883      Aug 11, 18:30  Aug 12, 00:50     Aug 12, 05:42      10.71           5.60       3.00       2.60\n",
      " 200200212309      Aug 11, 17:50  Aug 11, 22:15     Aug 12, 04:51      10.52           5.51       3.05       2.46\n",
      " 200200266635      Aug 11, 19:07  Aug 11, 23:20     Aug 12, 05:54      10.29           5.40       3.04       2.36\n",
      " 200200201878      Aug 11, 19:10  Aug 11, 23:20     Aug 12, 06:34      10.91           5.71       3.37       2.34\n",
      " 200200283333      Aug 11, 17:10  Aug 11, 22:00     Aug 12, 03:45      10.09           5.30       3.00       2.30\n",
      " 200200154881      Aug 11, 17:40  Aug 11, 21:30     Aug 12, 04:03       9.90           5.20       3.03       2.17\n",
      " 200200193969      Aug 11, 16:00  Aug 11, 19:40     Aug 12, 02:42      10.21           5.36       3.27       2.09\n",
      " 200200255573      Aug 11, 12:10  Aug 11, 19:35     Aug 11, 22:13       9.56           5.03       3.00       2.03\n"
     ]
    },
    {
     "data": {
      "image/png": "[encoded data removed]",
      "text/plain": [
       "<matplotlib.figure.Figure at 0x1b1940a0d68>"
      ]
     },
     "metadata": {},
     "output_type": "display_data"
    }
   ],
   "source": [
    "underrest_no_overtime = underrest[underrest.work_time <= WORK_TIME_LIMIT]\n",
    "underrest_no_n = underrest_no_overtime.team.drop_duplicates().count()\n",
    "add_header('Всего %d бригад без переработки с недостаточным отдыхом.' % underrest_no_n)\n",
    "add_header('\\nРаспределение по типу бригад:')\n",
    "add_line(underrest_no_overtime.team_type.value_counts())\n",
    "add_header('\\nПримеры бригад без переработки с недостаточным отдыхом:')\n",
    "add_line(underrest_no_overtime.sort_values('underrest', ascending=False)\\\n",
    "         .head(10 if underrest_no_n > 20 else underrest_no_n)[cols])\n",
    "\n",
    "sns.set(style='whitegrid', context='notebook')\n",
    "title = 'Распределение недостаточного отдыха бригад\\n(медианное время недоотдыха = %.2f час)' \\\n",
    "            % (underrest_no_overtime.underrest.median())\n",
    "fig = plt.figure(figsize=(8, 4))\n",
    "ax = sns.distplot(underrest_no_overtime.underrest, color='b', hist=False, kde_kws={'shade':True})\n",
    "ax.set(title=title, xlabel='Недостаточный отдых, ч.')\n",
    "filename = 'team_under_rest.png'\n",
    "fig.savefig(REPORT_FOLDER + filename, bbox_inches='tight')\n",
    "add_image(filename)"
   ]
  },
  {
   "cell_type": "code",
   "execution_count": 434,
   "metadata": {
    "collapsed": false
   },
   "outputs": [
    {
     "data": {
      "text/plain": [
       "'Thu May 12 18:00:00 2016'"
      ]
     },
     "execution_count": 434,
     "metadata": {},
     "output_type": "execute_result"
    }
   ],
   "source": [
    "team_plan['loco_time'] = list(zip(team_plan.loco, team_plan.time_start))\n",
    "loco_plan['loco_time'] = list(zip(loco_plan.loco, loco_plan.time_start))\n",
    "team_plan['train'] = team_plan.loco_time.map(loco_plan.drop_duplicates('loco_time').set_index('loco_time').train)\n",
    "#print(team_plan[team_plan.team == '777700000270']\\\n",
    "#      [['team', 'st_from_name', 'st_to_name', 'time_start_f', 'time_end_f', \n",
    "#        'state', 'loco', 'train', 'time']].to_string(index=False))\n",
    "time.ctime(1463065200)"
   ]
  },
  {
   "cell_type": "markdown",
   "metadata": {},
   "source": [
    "## Проверка подвязки бригад по Иркутску"
   ]
  },
  {
   "cell_type": "code",
   "execution_count": 435,
   "metadata": {
    "collapsed": false
   },
   "outputs": [],
   "source": [
    "add_header('Анализ бригад, проезжающих через Иркутск', h=2, p=False)"
   ]
  },
  {
   "cell_type": "code",
   "execution_count": 436,
   "metadata": {
    "collapsed": false
   },
   "outputs": [
    {
     "name": "stdout",
     "output_type": "stream",
     "text": [
      "Распределение поездов через Иркутск по направлениям:\n",
      "ГОНЧАРОВО     50\n",
      "БАТАРЕЙНАЯ    46\n",
      "\n",
      "Распределение бригад, в маршруте которых есть Иркутск, по депо приписки:\n",
      "          depot_name  team percent\n",
      "                ЗИМА    63  57.27%\n",
      " ИРКУТСК-СОРТИРОВ...    38  34.55%\n",
      "         НИЖНЕУДИНСК     3   2.73%\n",
      "          СЛЮДЯНКА I     1   0.91%\n",
      "            УЛАН-УДЭ     5   4.55%\n"
     ]
    }
   ],
   "source": [
    "team_cols = ['team', 'st_from_name', 'st_to_name', 'time_start_f', 'state', 'loco', 'depot_name']\n",
    "team_plan['depot_name'] = team_plan.depot.map(st_names.name)\n",
    "st_name = 'ИРКУТСК-СОРТИРОВОЧНЫЙ'\n",
    "train_cols = ['train', 'number', 'st_from_name', 'st_to_name', 'time_start_f']\n",
    "train_plan['train_type'] = train_plan.train.apply(lambda x: str(x)[:1])\n",
    "add_header('Распределение поездов через Иркутск по направлениям:')\n",
    "add_line(train_plan.loc[(train_plan.st_from_name == st_name)\n",
    "              & (train_plan.time_start >= current_time) & (train_plan.train_type.isin(['2', '9']))\n",
    "              & (train_plan.time_start < current_time + 24*3600), train_cols].st_to_name.value_counts())\n",
    "\n",
    "add_header('\\nРаспределение бригад, в маршруте которых есть Иркутск, по депо приписки:')\n",
    "b = team_plan.loc[(team_plan.st_from_name == st_name) & (team_plan.state.isin([0, 1]))\n",
    "              & (team_plan.time_start >= current_time), team_cols].groupby('depot_name').team.count().to_frame()\n",
    "b['percent'] = np.round((100 * b.team / b.team.sum()), 2)\n",
    "b['percent'] = b['percent'].apply(lambda x: str(x) + '%')\n",
    "add_line(b.reset_index())"
   ]
  },
  {
   "cell_type": "markdown",
   "metadata": {},
   "source": [
    "<a id='ready_time'></a>\n",
    "## Проверка времени явки бригад [ToC](#toc)"
   ]
  },
  {
   "cell_type": "code",
   "execution_count": 437,
   "metadata": {
    "collapsed": true
   },
   "outputs": [],
   "source": [
    "add_header('Проверка корректости времен явки бригад в депо приписки во входных данных', h=2, p=False)"
   ]
  },
  {
   "cell_type": "markdown",
   "metadata": {},
   "source": [
    "1. У бригад, которые находятся на домашнем отдыхе (state = 3) передается именно время ухода на отдых. По постановке (см. раздел \"Заполнение атрибутов для входных сообщений по бригадам\") должно передаваться время ухода на отдых + 16 часов.\n",
    "2. Для бригады 200200158216 передается state=3, хотя по АСУ-Т последней операцией на 18.04 10:35 было \"прибытие на станцию Лесовозный 17.04 в 08:49\" (или, в крайнем случае, отправление с Улан-Удэ 17.04 в 07:51).\n",
    "3. Аналогично для бригады 200200225600. Впрочем, возможно, это какой-то косяк АСУ-Т. В любом случае, пункт 1 - это очевидный баг."
   ]
  },
  {
   "cell_type": "markdown",
   "metadata": {},
   "source": [
    "Общая идея:\n",
    "- если у бригад указано depot_time < rest_start_time, то эта разница не должна быть очень большой. \n",
    "- если у бригад указано depot_time < return_time, то эта разница тоже не должна быть очень большой."
   ]
  },
  {
   "cell_type": "code",
   "execution_count": 438,
   "metadata": {
    "collapsed": false
   },
   "outputs": [
    {
     "name": "stdout",
     "output_type": "stream",
     "text": [
      "Время начала планирования: Aug 11, 19:31\n",
      "Всего 386 бригад, у которых время последней явки в депо намного меньше (на 12+ часов) переданного времени начала отдыха. Примеры:\n",
      "         team      number dt_norm       rst_norm  rest_dep_delta ready_type state\n",
      " 200200153718  9601013312          Aug 11, 16:41       408589.68     return     4\n",
      " 200200256173  9411017765          Aug 11, 06:17       408579.28     return     8\n",
      " 200200244406  8805004127          Aug 11, 04:31       408577.52     return     8\n",
      " 230204027608  9405068477          Aug 11, 03:40       408576.67     return     4\n",
      " 200200144850  9411044402          Aug 11, 02:20       408575.33     return     0\n",
      " 200200142453  9411002974          Aug 11, 01:10       408574.17     return     0\n",
      " 200200222432  9414085278          Aug 11, 00:00       408573.00     return     7\n",
      " 200218913232  9411095265          Aug 10, 19:47       408568.78     return     9\n",
      " 200200155862  8805005437          Aug 10, 18:02       408567.03     return     9\n",
      " 200200068479  9403023501          Aug 10, 14:40       408563.67     return     0\n",
      "\n",
      "Всего 860 бригад, у которых время последней явки в депо намного меньше (на 18+ часов) времени явки в пункте оборота. Примеры:\n",
      "         team      number dt_norm       rst_norm  return_dep_delta ready_type state\n",
      " 200200256173  9411017765          Aug 11, 06:17         408592.00     return     8\n",
      " 200200128400  8805000163          Aug 10, 05:30         408584.50     return     6\n",
      " 200200244406  8805004127          Aug 11, 04:31         408583.57     return     8\n",
      " 200200222432  9414085278          Aug 11, 00:00         408582.83     return     7\n",
      " 200200167488  8805000827          Aug 10, 04:01         408579.50     return     9\n",
      " 200200155862  8805005437          Aug 10, 18:02         408579.00     return     9\n",
      " 200200114593  8877003750                                408577.50     return     9\n",
      " 200200144850  9411044402          Aug 11, 02:20         408575.33     return     0\n",
      " 200218913232  9411095265          Aug 10, 19:47         408574.22     return     9\n",
      " 200200142453  9411002974          Aug 11, 01:10         408574.17     return     0\n"
     ]
    }
   ],
   "source": [
    "add_line('Время начала планирования: %s' % (nice_time(current_time)))\n",
    "team_info['dt_norm'] = team_info.depot_time.apply(nice_time)\n",
    "team_info['rt_norm'] = team_info.return_time.apply(nice_time)\n",
    "team_info['rst_norm'] = team_info.rest_time.apply(nice_time)\n",
    "team_info['rest_dep_delta'] = np.round(((team_info.rest_time - team_info.depot_time) / 3600), 2)\n",
    "team_info['return_dep_delta'] = np.round(((team_info.return_time - team_info.depot_time) / 3600), 2)\n",
    "\n",
    "dep_less_rest = team_info[(team_info.depot_time < team_info.rest_time) & (team_info.dt_norm != -1)]\n",
    "info_cols = ['team', 'number', 'dt_norm', 'rst_norm', 'rest_dep_delta', 'ready_type', 'state']\n",
    "add_header('Всего %d бригад, у которых время последней явки в депо намного меньше (на 12+ часов) переданного времени начала отдыха. Примеры:' \n",
    "          % dep_less_rest[dep_less_rest.rest_dep_delta > 12].team.drop_duplicates().count())\n",
    "add_line(dep_less_rest[dep_less_rest.rest_dep_delta > 12][info_cols].sort_values('rest_dep_delta', ascending=False).head(10))\n",
    "\n",
    "dep_less_return = team_info[(team_info.depot_time < team_info.return_time) & (team_info.dt_norm != -1)]\n",
    "info_cols = ['team', 'number', 'dt_norm', 'rst_norm', 'return_dep_delta', 'ready_type', 'state']\n",
    "add_header('\\nВсего %d бригад, у которых время последней явки в депо намного меньше (на 18+ часов) времени явки в пункте оборота. Примеры:' \n",
    "          % dep_less_return[dep_less_return.return_dep_delta > 12].team.drop_duplicates().count())\n",
    "add_line(dep_less_return[dep_less_return.return_dep_delta > 12][info_cols].sort_values('return_dep_delta', ascending=False).head(10))"
   ]
  },
  {
   "cell_type": "markdown",
   "metadata": {},
   "source": [
    "<a id='change'></a>\n",
    "## Проверка смены бригад на корректных станциях [ToC](#toc)"
   ]
  },
  {
   "cell_type": "code",
   "execution_count": 439,
   "metadata": {
    "collapsed": true
   },
   "outputs": [],
   "source": [
    "add_header('Проверка смены бригад на корректных станциях', h=2, p=False)"
   ]
  },
  {
   "cell_type": "markdown",
   "metadata": {},
   "source": [
    "### Проверка случаев проезда бригад мимо станций обязательной смены"
   ]
  },
  {
   "cell_type": "code",
   "execution_count": 440,
   "metadata": {
    "collapsed": true
   },
   "outputs": [],
   "source": [
    "add_header('Проверка проезда бригад мимо станций обязательной смены', h=3, p=False)"
   ]
  },
  {
   "cell_type": "code",
   "execution_count": 441,
   "metadata": {
    "collapsed": false,
    "scrolled": true
   },
   "outputs": [
    {
     "name": "stdout",
     "output_type": "stream",
     "text": [
      "Всего 101 случаев проезда бригад мимо станций обязательной смены\n",
      "\n",
      "Распределение по станциям (первые 5 самых частых):\n",
      "ЗИМА          48\n",
      "НОВЫЙ УОЯН    21\n",
      "РУЖИНО        11\n",
      "ОБЛУЧЬЕ        5\n",
      "ХИЛОК          4\n"
     ]
    }
   ],
   "source": [
    "st_team_change_full = ['КРАСНОЯРСК-ВОСТОЧНЫЙ', 'ЗИМА', 'ХИЛОК', 'МОГОЧА', 'ОБЛУЧЬЕ', 'РУЖИНО', 'СМОЛЯНИНОВО', \n",
    "                      'САЯНСКАЯ', 'ЛЕНА', 'СЕВЕРОБАЙКАЛЬСК', 'НОВЫЙ УОЯН', \n",
    "                      'НОВАЯ ЧАРА', 'ЮКТАЛИ', 'ВЕРХНЕЗЕЙСК', 'ФЕВРАЛЬСК', 'ПОСТЫШЕВО', 'ВЫСОКОГОРНАЯ', \n",
    "                      'УЖУР', 'ТЫРМА']\n",
    "                 \n",
    "cols = ['team', 'st_from_name', 'st_to_name', 'time_start_f', 'time_end_f', 'state', 'loco', 'loco_end', 'no_stop']\n",
    "team_plan['loco_end'] = team_plan.loco != team_plan.loco.shift(-1)\n",
    "team_plan['no_stop'] = team_plan.time_end == team_plan.time_start.shift(-1)\n",
    "no_stop = team_plan[(team_plan.st_to_name.isin(st_team_change_full)) & (team_plan.state == 1) \n",
    "                    & (team_plan.loco_end == False) & (team_plan.no_stop == True)]\n",
    "add_header('Всего %d случаев проезда бригад мимо станций обязательной смены' % len(no_stop.index))\n",
    "add_header('\\nРаспределение по станциям (первые 5 самых частых):')\n",
    "add_line(no_stop.st_to_name.value_counts().head())"
   ]
  },
  {
   "cell_type": "code",
   "execution_count": 442,
   "metadata": {
    "collapsed": false
   },
   "outputs": [
    {
     "name": "stdout",
     "output_type": "stream",
     "text": [
      "\n",
      "Примеры ошибочных бригад (первые 10):\n",
      "         team     st_from_name   st_to_name   time_start_f     time_end_f  state          loco loco_end no_stop\n",
      " 200200223386          ПЕРЕВОЗ         ЗИМА  Aug 11, 19:14  Aug 11, 19:30      1  200200102416    False    True\n",
      " 200200216432           ЯКУРИМ         ЛЕНА  Aug 11, 19:52  Aug 11, 20:06      1  200200029294    False    True\n",
      " 200200245865           АРХАРА      ОБЛУЧЬЕ  Aug 11, 19:40  Aug 11, 21:59      1  200200090182    False    True\n",
      " 200200197043      КСЕНЬЕВСКАЯ       МОГОЧА  Aug 11, 20:35  Aug 11, 22:56      1  200200087120    False    True\n",
      " 200200097788  СЕВЕРОБАЙКАЛЬСК   НОВЫЙ УОЯН  Aug 11, 19:45  Aug 11, 23:16      1  200200044975    False    True\n",
      " 777700019518       НОВОНЕЖИНО  СМОЛЯНИНОВО  Aug 12, 01:04  Aug 12, 01:29      1  200205819226    False    True\n",
      " 777700020061         ЖИПХЕГЕН        ХИЛОК  Aug 12, 09:43  Aug 12, 10:16      1  200200105848    False    True\n",
      " 777700019517         ШМАКОВКА       РУЖИНО  Aug 12, 11:27  Aug 12, 12:11      1  200200090877    False    True\n",
      " 200200254867         ТАЛАНДЖА        ТЫРМА  Aug 12, 17:34  Aug 12, 19:56      1  200200028766    False    True\n",
      " 777700020911            ТИСИН         УЖУР  Aug 12, 19:11  Aug 12, 22:43      1  200200096736    False    True\n",
      " 777700021212        ЩЕТИНКИНО     САЯНСКАЯ  Aug 12, 20:43  Aug 13, 00:09      1  200200099318    False    True\n"
     ]
    }
   ],
   "source": [
    "add_header('\\nПримеры ошибочных бригад (первые 10):')\n",
    "add_line(no_stop.drop_duplicates('st_to_name').sort_values('time_end')[cols])"
   ]
  },
  {
   "cell_type": "code",
   "execution_count": 443,
   "metadata": {
    "collapsed": false
   },
   "outputs": [
    {
     "name": "stdout",
     "output_type": "stream",
     "text": [
      "Полные планы по некоторым ошибочным бригадам:\n",
      "         team         st_from_name   st_to_name   time_start_f     time_end_f  state          loco\n",
      " 200200223386          НИЖНЕУДИНСК  НИЖНЕУДИНСК  Aug 11, 14:00  Aug 11, 15:00      2            -1\n",
      " 200200223386                ТУЛУН         АЗЕЙ  Aug 11, 16:58  Aug 11, 17:22      1  200200102416\n",
      " 200200223386                 АЗЕЙ       КУЙТУН  Aug 11, 17:22  Aug 11, 18:23      1  200200102416\n",
      " 200200223386               КУЙТУН      ПЕРЕВОЗ  Aug 11, 18:23  Aug 11, 19:14      1  200200102416\n",
      " 200200223386              ПЕРЕВОЗ         ЗИМА  Aug 11, 19:14  Aug 11, 19:30      1  200200102416\n",
      " 200200223386                 ЗИМА       ЗАЛАРИ  Aug 11, 19:30  Aug 11, 20:37      1  200200102416\n",
      " 200200223386               ЗАЛАРИ    ЧЕРЕМХОВО  Aug 11, 20:37  Aug 11, 21:56      1  200200102416\n",
      " 200200223386            ЧЕРЕМХОВО   КАСЬЯНОВКА  Aug 11, 21:56  Aug 11, 22:13      1  200200102416\n",
      " 200200223386           КАСЬЯНОВКА       МАЛЬТА  Aug 11, 22:13  Aug 11, 22:50      1  200200102416\n",
      " 200200223386               МАЛЬТА        КИТОЙ  Aug 11, 22:50  Aug 11, 23:22      1  200200102416\n",
      " 200200223386                КИТОЙ      АНГАРСК  Aug 11, 23:22  Aug 11, 23:28      1  200200102416\n",
      " 200200223386              АНГАРСК    СУХОВСКАЯ  Aug 11, 23:28  Aug 11, 23:33      1  200200102416\n",
      " 200200223386            СУХОВСКАЯ        МЕГЕТ  Aug 11, 23:33  Aug 11, 23:46      1  200200102416\n",
      " 200200223386                МЕГЕТ   БАТАРЕЙНАЯ  Aug 11, 23:46  Aug 11, 23:54      1  200200102416\n",
      " 200200223386           БАТАРЕЙНАЯ   БАТАРЕЙНАЯ  Aug 12, 00:24  Aug 12, 05:22      4            -1\n",
      " 200200223386           БАТАРЕЙНАЯ   БАТАРЕЙНАЯ  Aug 12, 06:22  Aug 12, 08:16      2            -1\n",
      " 200200223386  ИРКУТСК-СОРТИРОВ...   БАТАРЕЙНАЯ  Aug 12, 08:16  Aug 12, 08:30      1  200200091881\n",
      " 200200223386           БАТАРЕЙНАЯ        МЕГЕТ  Aug 12, 08:30  Aug 12, 08:38      1  200200091881\n",
      " 200200223386                МЕГЕТ    СУХОВСКАЯ  Aug 12, 08:38  Aug 12, 08:50      1  200200091881\n",
      " 200200223386            СУХОВСКАЯ      АНГАРСК  Aug 12, 08:50  Aug 12, 08:56      1  200200091881\n",
      " 200200223386              АНГАРСК        КИТОЙ  Aug 12, 08:56  Aug 12, 09:02      1  200200091881\n",
      " 200200223386                КИТОЙ       МАЛЬТА  Aug 12, 09:02  Aug 12, 09:39      1  200200091881\n",
      " 200200223386               МАЛЬТА   КАСЬЯНОВКА  Aug 12, 09:39  Aug 12, 10:42      1  200200091881\n",
      " 200200223386           КАСЬЯНОВКА    ЧЕРЕМХОВО  Aug 12, 10:42  Aug 12, 10:55      1  200200091881\n",
      " 200200223386            ЧЕРЕМХОВО       ЗАЛАРИ  Aug 12, 10:55  Aug 12, 12:13      1  200200091881\n",
      " 200200223386               ЗАЛАРИ         ЗИМА  Aug 12, 12:13  Aug 12, 13:18      1  200200091881\n",
      " 200200223386                 ЗИМА      ПЕРЕВОЗ  Aug 12, 13:18  Aug 12, 13:43      1  200200091881\n",
      " 200200223386              ПЕРЕВОЗ       КУЙТУН  Aug 12, 13:43  Aug 12, 14:37      1  200200091881\n",
      " 200200223386               КУЙТУН         АЗЕЙ  Aug 12, 14:37  Aug 12, 15:37      1  200200091881\n",
      " 200200223386                 АЗЕЙ        ТУЛУН  Aug 12, 15:37  Aug 12, 16:03      1  200200091881\n",
      " 200200223386                ТУЛУН       УДА II  Aug 12, 16:03  Aug 12, 17:53      1  200200091881\n",
      " 200200223386               УДА II  НИЖНЕУДИНСК  Aug 12, 17:53  Aug 12, 18:05      1  200200091881\n",
      "\n",
      "         team     st_from_name       st_to_name   time_start_f     time_end_f  state          loco\n",
      " 200200097788  СЕВЕРОБАЙКАЛЬСК  СЕВЕРОБАЙКАЛЬСК  Aug 11, 14:40  Aug 11, 16:12      2            -1\n",
      " 200200097788  СЕВЕРОБАЙКАЛЬСК       НОВЫЙ УОЯН  Aug 11, 19:45  Aug 11, 23:16      1  200200044975\n",
      " 200200097788       НОВЫЙ УОЯН        АНГАРАКАН  Aug 11, 23:16  Aug 12, 01:39      1  200200044975\n",
      " 200200097788        АНГАРАКАН         КАЗАНКАН  Aug 12, 01:39  Aug 12, 02:43      1  200200044975\n",
      " 200200097788         КАЗАНКАН          ТАКСИМО  Aug 12, 02:43  Aug 12, 04:39      1  200200044975\n",
      " 200200097788          ТАКСИМО          ТАКСИМО  Aug 12, 05:09  Aug 12, 09:36      4            -1\n",
      " 200200097788          ТАКСИМО          ТАКСИМО  Aug 12, 10:13  Aug 12, 11:50      2            -1\n",
      " 200200097788          ТАКСИМО         КАЗАНКАН  Aug 12, 11:50  Aug 12, 13:50      1  200200056796\n",
      " 200200097788         КАЗАНКАН        АНГАРАКАН  Aug 12, 13:50  Aug 12, 14:35      1  200200056796\n",
      " 200200097788        АНГАРАКАН       НОВЫЙ УОЯН  Aug 12, 14:35  Aug 12, 16:28      1  200200056796\n",
      " 200200097788       НОВЫЙ УОЯН  СЕВЕРОБАЙКАЛЬСК  Aug 12, 16:28  Aug 12, 20:21      1  200200056796\n"
     ]
    }
   ],
   "source": [
    "add_header('Полные планы по некоторым ошибочным бригадам:')\n",
    "top_st = no_stop.st_to_name.value_counts().index[0]\n",
    "sec_st = no_stop.st_to_name.value_counts().index[1]\n",
    "cols = ['team', 'st_from_name', 'st_to_name', 'time_start_f', 'time_end_f', 'state', 'loco']\n",
    "add_line(team_plan[team_plan.team == no_stop[no_stop.st_to_name == top_st].iloc[0].team][cols])\n",
    "add_line('')\n",
    "add_line(team_plan[team_plan.team == no_stop[no_stop.st_to_name == sec_st].iloc[0].team][cols])"
   ]
  },
  {
   "cell_type": "markdown",
   "metadata": {},
   "source": [
    "#### Причины проезда бригад мимо станций смены:\n",
    "\n",
    "1. Новый Уоян: у бригад в участках обкатки присутствует участок 2002118258 (Северобайкальск -- Таксимо). Возможное решение: проверить участки обкатки, выяснить, откуда берется участок обкатки Северобайкальск -- Таксимо, удалить этот участок при необходимости.\n",
    "\n",
    "2. Зима. Фейковым бригадам хватает рабочего времени, чтобы доехать из Иркутска до Нижнеудинска (время хода --- чуть более 9 часов). Для этих бригад должен определяться УОЛБ 920502 \"Иркутск -- Зима\" с нормативным рабочим временем ровно 9 часов (540). Так что должна планироваться смена в Зиме. Возможные причины ошибки:\n",
    "  1. Определяется другой УОЛБ - а именно, УОЛБ 920503 \"Иркутск -- Гончарово, Кая -- Зима\". У этого УОЛБ рабочее время = 600 (10 часов). \n",
    "  2. У фейковой бригады неверно указывается депо приписки (или не указывается вообще). Тогда для нее может вообще не быть найден УОЛБ."
   ]
  },
  {
   "cell_type": "markdown",
   "metadata": {},
   "source": [
    "### Проверка случаев смены бригад не на допустимых станциях"
   ]
  },
  {
   "cell_type": "code",
   "execution_count": 444,
   "metadata": {
    "collapsed": true
   },
   "outputs": [],
   "source": [
    "add_header('Проверка случаев смены бригад не на допустимых станциях', h=3, p=False)"
   ]
  },
  {
   "cell_type": "code",
   "execution_count": 445,
   "metadata": {
    "collapsed": false
   },
   "outputs": [
    {
     "name": "stdout",
     "output_type": "stream",
     "text": [
      "Исключаются случаи смены бригады из-за завершения маршрута локомотива или поезда, а также случаи смены бригады на станции, которая является депо приписки бригады\n"
     ]
    }
   ],
   "source": [
    "add_line('Исключаются случаи смены бригады из-за завершения маршрута локомотива или поезда' + \n",
    "         ', а также случаи смены бригады на станции, которая является депо приписки бригады')"
   ]
  },
  {
   "cell_type": "code",
   "execution_count": 446,
   "metadata": {
    "collapsed": false
   },
   "outputs": [],
   "source": [
    "loco_plan['end_trip'] = (loco_plan.state != loco_plan.state.shift(-1)) | (loco_plan.train != loco_plan.train.shift(-1))\\\n",
    "                        | (loco_plan.loco != loco_plan.loco.shift(-1))\n",
    "team_plan['start_station_name'] = team_plan.team.map(team_plan[team_plan.state.isin([0, 1])]\\\n",
    "                                                     .drop_duplicates('team').set_index('team').st_from_name)\n",
    "team_plan.depot_name.fillna(team_plan.start_station_name, inplace=True)\n",
    "team_plan['depot_st_name'] = team_plan.depot_st.map(st_names.name)\n",
    "team_plan.depot_st_name.fillna(team_plan.start_station_name, inplace=True)\n",
    "loco_plan['team_depot_name'] = loco_plan.team.map(team_plan.drop_duplicates('team').set_index('team').depot_name)\n",
    "loco_plan['team_ready_depot_name'] = loco_plan.team.map(team_plan.drop_duplicates('team').set_index('team').depot_st_name)"
   ]
  },
  {
   "cell_type": "code",
   "execution_count": 447,
   "metadata": {
    "collapsed": false
   },
   "outputs": [
    {
     "name": "stdout",
     "output_type": "stream",
     "text": [
      "Всего 23121 случаев смены бригад не на приоритетных станциях смены (77.43%)\n",
      "Распределение по неприоритетным станциям (первые 10):\n",
      "ЗЫКОВО        263\n",
      "ТАРСКАЯ       254\n",
      "УЯР           249\n",
      "КАСЬЯНОВКА    246\n",
      "МАЛЬТА        246\n",
      "АНГАРСК       240\n",
      "КИТОЙ         238\n",
      "ЗАЛАРИ        238\n",
      "БАТАРЕЙНАЯ    237\n",
      "ЧЕРЕМХОВО     235\n"
     ]
    }
   ],
   "source": [
    "pr_st = pd.read_csv(FOLDER + 'mandatory/priority_team_change_stations.csv', sep=';', encoding='utf-8-sig', dtype={'station':str}).station\n",
    "team_change = loco_plan[(loco_plan.state != 4) & (loco_plan.team_end == True) & (loco_plan.end_trip == False)]\n",
    "bad_team_change = team_change[(team_change.st_to.isin(pr_st) == False) \n",
    "                              & (team_change.st_to_name != team_change.team_depot_name)\n",
    "                              & (team_change.st_to_name != team_change.team_ready_depot_name)]\n",
    "if bad_team_change.st_to_name.dropna().empty:\n",
    "    add_header('Все бригады меняются только на приоритетных станциях смены')\n",
    "else:\n",
    "    add_header('Всего %d случаев смены бригад не на приоритетных станциях смены (%.2f%%)'\n",
    "              % (bad_team_change.loco.count(), 100 * bad_team_change.loco.count() / team_change.loco.count()))\n",
    "    add_header('Распределение по неприоритетным станциям (первые 10):')\n",
    "    add_line(bad_team_change.st_to_name.value_counts().head(10))   \n",
    "    "
   ]
  },
  {
   "cell_type": "code",
   "execution_count": 448,
   "metadata": {
    "collapsed": false
   },
   "outputs": [
    {
     "name": "stdout",
     "output_type": "stream",
     "text": [
      "Примеры локомотивов и бригад, для которых смена указанной бригады произошла не на приоритетной станции:\n",
      "         loco team       st_to_name     time_end_f         train\n",
      " 200200085572  NaN          ЖИРЕКЕН  Aug 13, 03:01  200022952447\n",
      " 200200085572  NaN           ЗИЛОВО  Aug 13, 03:52  200022952447\n",
      " 200200085572  NaN      КСЕНЬЕВСКАЯ  Aug 13, 06:19  200022952447\n",
      " 200200085572  NaN           АМАЗАР  Aug 13, 11:42  200022952447\n",
      " 200200085572  NaN  ЕРОФЕЙ ПАВЛОВИЧ  Aug 13, 14:06  200022952447\n",
      " 200200085572  NaN        БАМОВСКАЯ  Aug 13, 17:36  200022952447\n",
      " 200200085572  NaN          ГОРЕЛЫЙ  Aug 13, 17:43  200022952447\n",
      " 200200085572  NaN    БОЛЬШОЙ НЕВЕР  Aug 13, 19:33  200022952447\n",
      " 200200085572  NaN           ТАЛДАН  Aug 13, 21:12  200022952447\n",
      " 200200085572  NaN           УШУМУН  Aug 14, 02:20  200022952447\n",
      "Полный план по одному из таких локомотивов:\n",
      "         loco         st_from_name           st_to_name   time_start_f     time_end_f            train          team team_depot_name\n",
      " 200200051344  КРАСНОЯРСК-ВОСТО...  КРАСНОЯРСК-СЕВЕРНЫЙ  Aug 12, 02:00  Aug 12, 02:35     200024051135  200200168189        МАРИИНСК\n",
      " 200200051344  КРАСНОЯРСК-СЕВЕРНЫЙ                БУГАЧ  Aug 12, 02:35  Aug 12, 02:49     200024051135  200200168189        МАРИИНСК\n",
      " 200200051344                БУГАЧ       ЧЕРНОРЕЧЕНСКАЯ  Aug 12, 02:49  Aug 12, 05:31     200024051135  200200168189        МАРИИНСК\n",
      " 200200051344       ЧЕРНОРЕЧЕНСКАЯ             АЧИНСК I  Aug 12, 05:31  Aug 12, 06:10     200024051135  200200168189        МАРИИНСК\n",
      " 200200051344             АЧИНСК I              ЗЕРЦАЛЫ  Aug 12, 06:10  Aug 12, 06:26     200024051135  200200168189        МАРИИНСК\n",
      " 200200051344              ЗЕРЦАЛЫ              БОГОТОЛ  Aug 12, 06:26  Aug 12, 07:23     200024051135  200200168189        МАРИИНСК\n",
      " 200200051344              БОГОТОЛ             МАРИИНСК  Aug 12, 07:23  Aug 12, 09:47     200024051135  200200168189        МАРИИНСК\n",
      " 200200051344             МАРИИНСК              БОГОТОЛ  Aug 12, 11:30  Aug 12, 13:59     200024828763  200200147928         БОГОТОЛ\n",
      " 200200051344              БОГОТОЛ              ЗЕРЦАЛЫ  Aug 12, 16:25  Aug 12, 17:21     200024828763           NaN             NaN\n",
      " 200200051344              ЗЕРЦАЛЫ             АЧИНСК I  Aug 12, 17:21  Aug 12, 17:37     200024828763           NaN             NaN\n",
      " 200200051344             АЧИНСК I       ЧЕРНОРЕЧЕНСКАЯ  Aug 12, 17:37  Aug 12, 18:19     200024828763           NaN             NaN\n",
      " 200200051344       ЧЕРНОРЕЧЕНСКАЯ                БУГАЧ  Aug 12, 18:19  Aug 12, 21:17     200024828763           NaN             NaN\n",
      " 200200051344                БУГАЧ  КРАСНОЯРСК-СЕВЕРНЫЙ  Aug 12, 21:17  Aug 12, 21:34     200024828763           NaN             NaN\n",
      " 200200051344  КРАСНОЯРСК-СЕВЕРНЫЙ  КРАСНОЯРСК-ВОСТО...  Aug 12, 21:34  Aug 12, 21:57     200024828763           NaN             NaN\n",
      " 200200051344  КРАСНОЯРСК-ВОСТО...               ЗЫКОВО  Aug 12, 23:45  Aug 12, 23:56     200024828763           NaN             NaN\n",
      " 200200051344               ЗЫКОВО                  УЯР  Aug 12, 23:56  Aug 13, 01:43     200024828763           NaN             NaN\n",
      " 200200051344                  УЯР            ЗАОЗЕРНАЯ  Aug 13, 01:43  Aug 13, 02:24     200024828763           NaN             NaN\n",
      " 200200051344            ЗАОЗЕРНАЯ             ИЛАНСКАЯ  Aug 13, 02:24  Aug 13, 04:26     200024828763           NaN             NaN\n",
      " 200200051344             ИЛАНСКАЯ               РЕШОТЫ  Aug 13, 04:26  Aug 13, 05:55     200024828763           NaN             NaN\n",
      " 200200051344               РЕШОТЫ                КЛЮЧИ  Aug 13, 05:55  Aug 13, 06:13     200024828763           NaN             NaN\n",
      " 200200051344                КЛЮЧИ                 ЮРТЫ  Aug 13, 06:13  Aug 13, 06:37     200024828763           NaN             NaN\n",
      " 200200051344                 ЮРТЫ               ТАЙШЕТ  Aug 13, 06:37  Aug 13, 07:35     200024828763           NaN             NaN\n",
      " 200200051344               ТАЙШЕТ                 ЮРТЫ  Aug 13, 11:11  Aug 13, 11:50   88880015574667           NaN             NaN\n",
      " 200200051344                 ЮРТЫ                КЛЮЧИ  Aug 13, 11:50  Aug 13, 12:17   88880015574667           NaN             NaN\n",
      " 200200051344                КЛЮЧИ               РЕШОТЫ  Aug 13, 12:17  Aug 13, 12:33   88880015574667           NaN             NaN\n",
      " 200200051344               РЕШОТЫ             ИЛАНСКАЯ  Aug 13, 12:33  Aug 13, 13:53   88880015574667           NaN             NaN\n",
      " 200200051344             ИЛАНСКАЯ            ЗАОЗЕРНАЯ  Aug 13, 13:53  Aug 13, 16:01   88880015574667           NaN             NaN\n",
      " 200200051344            ЗАОЗЕРНАЯ                  УЯР  Aug 13, 16:01  Aug 13, 16:44   88880015574667           NaN             NaN\n",
      " 200200051344                  УЯР               ЗЫКОВО  Aug 13, 16:44  Aug 13, 18:35   88880015574667           NaN             NaN\n",
      " 200200051344               ЗЫКОВО  КРАСНОЯРСК-ВОСТО...  Aug 13, 18:35  Aug 13, 18:45   88880015574667           NaN             NaN\n",
      " 200200051344  КРАСНОЯРСК-ВОСТО...  КРАСНОЯРСК-СЕВЕРНЫЙ  Aug 13, 19:41  Aug 13, 20:17   88880015574667           NaN             NaN\n",
      " 200200051344  КРАСНОЯРСК-СЕВЕРНЫЙ                БУГАЧ  Aug 13, 20:17  Aug 13, 20:32   88880015574667           NaN             NaN\n",
      " 200200051344                БУГАЧ       ЧЕРНОРЕЧЕНСКАЯ  Aug 13, 20:32  Aug 13, 23:32   88880015574667           NaN             NaN\n",
      " 200200051344       ЧЕРНОРЕЧЕНСКАЯ             АЧИНСК I  Aug 13, 23:32  Aug 14, 00:15   88880015574667           NaN             NaN\n",
      " 200200051344             АЧИНСК I       ЧЕРНОРЕЧЕНСКАЯ  Aug 14, 00:34  Aug 14, 01:17  999912374032000           NaN             NaN\n",
      " 200200051344       ЧЕРНОРЕЧЕНСКАЯ                БУГАЧ  Aug 14, 01:17  Aug 14, 04:09  999912374032000           NaN             NaN\n",
      " 200200051344                БУГАЧ  КРАСНОЯРСК-СЕВЕРНЫЙ  Aug 14, 04:09  Aug 14, 04:27  999912374032000           NaN             NaN\n",
      " 200200051344  КРАСНОЯРСК-СЕВЕРНЫЙ  КРАСНОЯРСК-ВОСТО...  Aug 14, 04:27  Aug 14, 04:50  999912374032000           NaN             NaN\n"
     ]
    }
   ],
   "source": [
    "with (pd.option_context('display.max_colwidth', 20)):\n",
    "    if not bad_team_change.st_to_name.dropna().empty:\n",
    "        add_header('Примеры локомотивов и бригад, для которых смена указанной бригады произошла не на приоритетной станции:')\n",
    "        add_line(bad_team_change[['loco', 'team', 'st_to_name', 'time_end_f', 'train']].head(10))\n",
    "        cols = ['loco', 'st_from_name', 'st_to_name', 'time_start_f', 'time_end_f', 'train', 'team', 'team_depot_name']        \n",
    "        loco_id = bad_team_change[bad_team_change.st_to_name == bad_team_change.st_to_name.value_counts().idxmax()]\\\n",
    "                    .drop_duplicates('loco').iloc[0,:].loco\n",
    "        add_header('Полный план по одному из таких локомотивов:')\n",
    "        add_line(loco_plan[loco_plan.loco == loco_id][cols])"
   ]
  },
  {
   "cell_type": "markdown",
   "metadata": {},
   "source": [
    "<a id='presence'></a>\n",
    "## Проверка отправления бригады не ранее времени явки [ToC](#toc)"
   ]
  },
  {
   "cell_type": "code",
   "execution_count": 449,
   "metadata": {
    "collapsed": true
   },
   "outputs": [],
   "source": [
    "add_header('Проверка отправления бригады не ранее времени явки', h=2, p=False)"
   ]
  },
  {
   "cell_type": "code",
   "execution_count": 450,
   "metadata": {
    "collapsed": false
   },
   "outputs": [],
   "source": [
    "# Вычисляем максимальное время явки, добавляем его в team_info и team_plan\n",
    "# В таблице presence_fail --- ошибочные отправления бригад до времени явки\n",
    "\n",
    "presence_lim = 0\n",
    "team_cols = ['team', 'st_from_name', 'st_to_name', 'time_start_f', 'ready_type', \n",
    "             'presence_norm', 'presence_gap', 'state', 'state_info']\n",
    "\n",
    "team_info['all_presence'] = list(zip(team_info.depot_time, team_info.return_time))\n",
    "team_info['presence'] = team_info.all_presence.apply(lambda x: x[0] if x[0] > x[1] else x[1])\n",
    "team_info['presence_norm'] = team_info.presence.apply(nice_time)\n",
    "team_plan['presence'] = team_plan.team.map(team_info.set_index('team').presence)\n",
    "team_plan['presence_norm'] = team_plan.presence.apply(nice_time)\n",
    "team_plan['presence_gap'] = team_plan.time_start - team_plan.presence\n",
    "team_plan['ready_type'] = team_plan.team.map(team_info.set_index('team').ready_type)\n",
    "presence_fail = team_plan[(team_plan.state.isin([0, 1])) & (team_plan.presence_gap < presence_lim)].drop_duplicates('team')\n",
    "pr = team_info[['team', 'depot_time', 'return_time', 'presence', 'presence_norm']]"
   ]
  },
  {
   "cell_type": "code",
   "execution_count": 451,
   "metadata": {
    "collapsed": false
   },
   "outputs": [
    {
     "name": "stdout",
     "output_type": "stream",
     "text": [
      "Нет бригад, которые запланированы к отправлению пассажиром ранее времени явки\n",
      "\n",
      "Нет бригад, которые запланированы к отправлению пассажирами ранее времени явки после начала планирования\n"
     ]
    }
   ],
   "source": [
    "p = presence_fail[presence_fail.state == 0]\n",
    "ph = presence_fail[(presence_fail.state == 0) & (presence_fail.time_start >= current_time)]\n",
    "if not p.empty:\n",
    "    add_header('Всего бригад, которые отправлены пассажиром ранее времени явки: %d (показаны первые 10)' % p.team.count())\n",
    "    add_line(p.sort_values('presence_gap')[team_cols].head(10))\n",
    "else:\n",
    "    add_header('Нет бригад, которые запланированы к отправлению пассажиром ранее времени явки')\n",
    "    \n",
    "if not ph.empty:\n",
    "    add_header('\\nВсего бригад, которые отправлены пассажиром ранее времени явки после начала планирования: %d (показаны первые 10)' \n",
    "      % ph.team.count())\n",
    "    add_line(ph.sort_values('presence_gap')[team_cols].head(10))\n",
    "else:\n",
    "    add_header('\\nНет бригад, которые запланированы к отправлению пассажирами ранее времени явки после начала планирования')"
   ]
  },
  {
   "cell_type": "code",
   "execution_count": 452,
   "metadata": {
    "collapsed": false
   },
   "outputs": [
    {
     "name": "stdout",
     "output_type": "stream",
     "text": [
      "Всего бригад, которые отправлены с локомотивом ранее времени явки: 1 (показаны первые 10)\n",
      "         team st_from_name st_to_name   time_start_f ready_type  presence_norm  presence_gap  state state_info\n",
      " 200200196751    БЕСТУЖЕВО   БЕРКАКИТ  Aug 11, 01:27      depot  Aug 11, 14:00        -45180      1          1\n",
      "\n",
      "Нет бригад, которые запланированы к отправлению с локомотивами ранее времени явки после начала планирования\n"
     ]
    }
   ],
   "source": [
    "f = presence_fail[presence_fail.state == 1]\n",
    "fh = presence_fail[(presence_fail.state == 1) & (presence_fail.time_start >= current_time)]\n",
    "if not f.empty:\n",
    "    add_header('Всего бригад, которые отправлены с локомотивом ранее времени явки: %d (показаны первые 10)' % f.team.count())\n",
    "    add_line(f.sort_values('presence_gap')[team_cols].head(10))\n",
    "else:\n",
    "    add_header('Нет бригад, которые запланированы к отправлению с локомотивами ранее времени явки')\n",
    "\n",
    "if not fh.team.empty:\n",
    "    add_header('\\nВсего бригад, которые отправлены с локомотивом ранее времени явки после начала планирования: %d (показаны первые 10)' \n",
    "      % fh.team.count())\n",
    "    add_line(fh.sort_values('presence_gap')[team_cols].head(10))\n",
    "else:\n",
    "    add_header('\\nНет бригад, которые запланированы к отправлению с локомотивами ранее времени явки после начала планирования')"
   ]
  },
  {
   "cell_type": "markdown",
   "metadata": {},
   "source": [
    "<a id='before_current_time'></a>\n",
    "## Проверка планирования бригад до времени начала планирования [ToC](#toc)"
   ]
  },
  {
   "cell_type": "code",
   "execution_count": 453,
   "metadata": {
    "collapsed": true
   },
   "outputs": [],
   "source": [
    "add_header('Проверка планирования бригад до времени начала планирования', h=2, p=False)"
   ]
  },
  {
   "cell_type": "code",
   "execution_count": 454,
   "metadata": {
    "collapsed": false
   },
   "outputs": [
    {
     "name": "stdout",
     "output_type": "stream",
     "text": [
      "(Не учитываются бригады, которые на начало планирования находились на перегоне)\n",
      "Время начала планирования: Aug 11, 19:31\n",
      "\n",
      "Всего бригад, отправленных до начала планирования: 0 (0.00% от всех запланированных бригад)\n"
     ]
    }
   ],
   "source": [
    "team_cols = ['team', 'st_from_name', 'st_to_name', 'time_start_f', 'state', 'loco', 'state_info']\n",
    "\n",
    "add_line('(Не учитываются бригады, которые на начало планирования находились на перегоне)')\n",
    "add_line('Время начала планирования: %s' % nice_time(current_time))\n",
    "\n",
    "total_teams = team_plan.team.drop_duplicates().count()\n",
    "\n",
    "tbef = team_plan[(team_plan.time_start < current_time)          \n",
    "         & (team_plan.state.isin([0, 1])) & (team_plan.state_info != team_plan.state.apply(str))].drop_duplicates('team')\n",
    "add_header('\\nВсего бригад, отправленных до начала планирования: %d (%.2f%% от всех запланированных бригад)' \n",
    "           % (tbef.team.count(), 100 * tbef.team.count() / total_teams))\n",
    "if not tbef.empty:\n",
    "    add_header('\\nРаспределение по состояниям бригад, отправленных до начала планирования:')\n",
    "    add_line(tbef.state.value_counts())\n",
    "    \n",
    "    for i in sorted(tbef.state.unique()):\n",
    "        add_header('\\nБригады, отправленные до начала планирования в состоянии %d (первые 10):' % i)\n",
    "        add_line(tbef[tbef.state == i].sort_values('time_start').head(10)[team_cols])\n",
    "\n",
    "    add_header('\\nРаспределение по типу бригад, отправленных до начала планирования в состоянии 1:')\n",
    "    add_line(tbef[tbef.state == 1].team_type.value_counts())"
   ]
  },
  {
   "cell_type": "markdown",
   "metadata": {},
   "source": [
    "<a id='presenting'></a>\n",
    "## Проверка планируемых явок бригад [ToC](#toc)"
   ]
  },
  {
   "cell_type": "code",
   "execution_count": 455,
   "metadata": {
    "collapsed": true
   },
   "outputs": [],
   "source": [
    "add_header('Проверка планируемых явок бригад', h=2, p=False)"
   ]
  },
  {
   "cell_type": "code",
   "execution_count": 456,
   "metadata": {
    "collapsed": false
   },
   "outputs": [
    {
     "name": "stdout",
     "output_type": "stream",
     "text": [
      "Разброс времен на явку бригад: от 0.32 ч. до 5.90 ч.\n"
     ]
    },
    {
     "data": {
      "image/png": "[encoded data removed]",
      "text/plain": [
       "<matplotlib.figure.Figure at 0x1b1908f1160>"
      ]
     },
     "metadata": {},
     "output_type": "display_data"
    }
   ],
   "source": [
    "team_cols = ['team', 'st_from_name', 'st_to_name', 'time_start_f', 'time_end_f', 'tt', 'state', 'loco', 'state_info']\n",
    "team_plan['tt'] = team_plan.time_end - team_plan.time_start\n",
    "min_presenting = team_plan[team_plan.state == 2][team_cols].tt.min()\n",
    "max_presenting = team_plan[team_plan.state == 2][team_cols].tt.max()\n",
    "add_header('Разброс времен на явку бригад: от %.2f ч. до %.2f ч.' % (min_presenting / 3600, max_presenting / 3600))\n",
    "\n",
    "sns.set(style='whitegrid', context='notebook')\n",
    "fig = plt.figure(figsize=(8, 3))\n",
    "ax = sns.distplot(team_plan[team_plan.state == 2][team_cols].tt / 3600, hist=False, bins=20, color='b', kde_kws={'shade':True})\n",
    "ax.set(xlabel='Время на явку, ч.', title='Распределение времен на явку бригад')\n",
    "filename = 'team_presenting.png'\n",
    "fig.savefig(REPORT_FOLDER + filename, bbox_inches='tight')\n",
    "add_image(filename)"
   ]
  },
  {
   "cell_type": "code",
   "execution_count": 457,
   "metadata": {
    "collapsed": false
   },
   "outputs": [
    {
     "name": "stdout",
     "output_type": "stream",
     "text": [
      "Всего 1475 бригад, у которых время окончания отдыха не совпадает со временем явки (показаны первые 10):\n",
      "         team         st_from_name           st_to_name  state  next_state   time_start_f     time_end_f next_time_start_f\n",
      " 200200088351             УЛАН-УДЭ             УЛАН-УДЭ      4           2  Aug 11, 19:31  Aug 11, 23:12     Aug 11, 23:58\n",
      " 200200169113                 ЗИМА                 ЗИМА      4           2  Aug 11, 19:35  Aug 11, 22:48     Aug 11, 23:49\n",
      " 200200282368                УРУША                УРУША      4           2  Aug 11, 19:36  Aug 11, 22:36     Aug 12, 04:39\n",
      " 200200266809             УЛАН-УДЭ             УЛАН-УДЭ      4           2  Aug 11, 19:40  Aug 11, 22:40     Aug 12, 00:23\n",
      " 200200266231          КОШУРНИКОВО          КОШУРНИКОВО      4           2  Aug 11, 19:42  Aug 11, 22:42     Aug 11, 23:59\n",
      " 200200212284            БЕЛОГОРСК            БЕЛОГОРСК      4           2  Aug 11, 19:42  Aug 11, 22:42     Aug 12, 00:07\n",
      " 200200067559                 ЗИМА                 ЗИМА      4           2  Aug 11, 19:45  Aug 11, 22:53     Aug 11, 23:33\n",
      " 200200279766  КОРШУНИХА-АНГАРСКАЯ  КОРШУНИХА-АНГАРСКАЯ      4           2  Aug 11, 19:47  Aug 11, 22:47     Aug 12, 01:30\n",
      " 200200250302            МАГДАГАЧИ            МАГДАГАЧИ      4           2  Aug 11, 19:47  Aug 11, 22:47     Aug 12, 01:25\n",
      " 200200260052               ЧИТА I               ЧИТА I      4           2  Aug 11, 19:47  Aug 12, 00:36     Aug 12, 01:55\n",
      "\n",
      "Распределение таких ошибочных явок после отдыха по станциям (показаны первые 5):\n",
      "УРУША        106\n",
      "КАРЫМСКАЯ     92\n",
      "ОБЛУЧЬЕ       90\n",
      "МАГДАГАЧИ     85\n",
      "ТАЙШЕТ        74\n"
     ]
    }
   ],
   "source": [
    "team_plan['next_state'] = team_plan.state.shift(-1)\n",
    "team_plan['next_time_start_f'] = team_plan.time_start_f.shift(-1)\n",
    "cols = ['team', 'st_from_name', 'st_to_name', 'state', 'next_state', 'time_start_f', 'time_end_f', 'next_time_start_f']\n",
    "rest_pres = team_plan[(team_plan.team == team_plan.team.shift(-1)) \n",
    "                     & (team_plan.state == 4) & (team_plan.next_state == 2)\n",
    "                     & (team_plan.time_end_f != team_plan.next_time_start_f)]\n",
    "add_header('Всего %d бригад, у которых время окончания отдыха не совпадает со временем явки (показаны первые 10):' \n",
    "      % rest_pres.team.drop_duplicates().count())\n",
    "add_line(rest_pres[rest_pres.time_start >= current_time].sort_values('time_start').head(10)[cols])\n",
    "add_header('\\nРаспределение таких ошибочных явок после отдыха по станциям (показаны первые 5):')\n",
    "add_line(rest_pres.st_from_name.value_counts().head())"
   ]
  },
  {
   "cell_type": "markdown",
   "metadata": {},
   "source": [
    "<a id='check_useful_assign'></a>\n",
    "## Проверка использования бригад [ToC](#toc)"
   ]
  },
  {
   "cell_type": "code",
   "execution_count": 458,
   "metadata": {
    "collapsed": false
   },
   "outputs": [],
   "source": [
    "add_header('Проверка использования бригад', h=2, p=False)"
   ]
  },
  {
   "cell_type": "markdown",
   "metadata": {},
   "source": [
    "<a id='only_pass'></a>\n",
    "### Бригады, запланированные к отправлению пассажирами без последующей подвязки [ToC](#toc)"
   ]
  },
  {
   "cell_type": "code",
   "execution_count": 459,
   "metadata": {
    "collapsed": true
   },
   "outputs": [],
   "source": [
    "add_header('Проверка использования бригад после засылки пассажирами', h=3, p=False)"
   ]
  },
  {
   "cell_type": "code",
   "execution_count": 460,
   "metadata": {
    "collapsed": false
   },
   "outputs": [],
   "source": [
    "team_plan['all_states'] = team_plan.team.map(team_plan.groupby('team').state.unique())\n",
    "cols = ['team', 'st_from_name', 'st_to_name', 'time_start_f', 'time_end_f', 'depot_name',\n",
    "        'state', 'all_states']"
   ]
  },
  {
   "cell_type": "code",
   "execution_count": 461,
   "metadata": {
    "collapsed": false
   },
   "outputs": [
    {
     "name": "stdout",
     "output_type": "stream",
     "text": [
      "Всего 15 бригад, для которых планируется отправка пассажиром и не планируется работа с поездом\n"
     ]
    }
   ],
   "source": [
    "def get_cat(all_states):\n",
    "    if 1 in all_states:\n",
    "        return 'work'\n",
    "    elif (len(all_states) == 1) & (all_states[0] == 2):\n",
    "        return 'only_presence'\n",
    "    elif (len(all_states) == 2):\n",
    "        if ((all_states[0] == 4) & (all_states[1] == 0)):\n",
    "            return 'pass_home'\n",
    "        else:\n",
    "            return 'fail'\n",
    "    elif (len(all_states) == 3):\n",
    "        if all([2, 4, 0] == all_states):\n",
    "            return 'pass_home'\n",
    "        else:\n",
    "            return 'fail'\n",
    "    else:\n",
    "        return 'fail'\n",
    "\n",
    "team_plan['cat'] = team_plan.all_states.apply(get_cat)\n",
    "only_pass_teams = team_plan[(team_plan.cat == 'fail') & (team_plan.state_info != '2')]\n",
    "                            \n",
    "add_header('Всего %d бригад, для которых планируется отправка пассажиром и не планируется работа с поездом' \n",
    "      % only_pass_teams.team.drop_duplicates().count())"
   ]
  },
  {
   "cell_type": "code",
   "execution_count": 462,
   "metadata": {
    "collapsed": false
   },
   "outputs": [
    {
     "name": "stdout",
     "output_type": "stream",
     "text": [
      "Станции, с которых чаще всегда планируется лишняя отправка пассажирами:\n",
      "ЧЕРНЫШЕВСК-ЗАБАЙКАЛЬСКИЙ    3\n",
      "ОБЛУЧЬЕ                     1\n",
      "ЕРОФЕЙ ПАВЛОВИЧ             1\n",
      "ТЫНДА                       1\n",
      "СМОЛЯНИНОВО                 1\n",
      "ИРКУТСК-СОРТИРОВОЧНЫЙ       1\n",
      "СЕВЕРОБАЙКАЛЬСК             1\n",
      "АЧИНСК I                    1\n"
     ]
    }
   ],
   "source": [
    "add_header('Станции, с которых чаще всегда планируется лишняя отправка пассажирами:')\n",
    "add_line(only_pass_teams.drop_duplicates('team').st_from_name.value_counts().head(10))"
   ]
  },
  {
   "cell_type": "code",
   "execution_count": 463,
   "metadata": {
    "collapsed": false
   },
   "outputs": [
    {
     "name": "stdout",
     "output_type": "stream",
     "text": [
      "Примеры:\n",
      "         team st_from_name st_to_name   time_start_f     time_end_f depot_name  state all_states\n",
      " 200200136227          NaN        NaN  Aug 11, 09:20  Aug 11, 10:20        NaN      2     [2, 4]\n",
      " 200200136227     МАРИИНСК   МАРИИНСК  Aug 11, 18:20  Aug 11, 19:31        NaN      4     [2, 4]\n",
      "\n",
      "         team st_from_name st_to_name   time_start_f     time_end_f depot_name  state all_states\n",
      " 200200163497     АЧИНСК I   АЧИНСК I  Aug 11, 17:50  Aug 11, 23:45   АЧИНСК I      4        [4]\n",
      "\n",
      "         team st_from_name st_to_name   time_start_f     time_end_f depot_name  state all_states\n",
      " 200200104150      ОБЛУЧЬЕ    ОБЛУЧЬЕ  Aug 11, 17:25  Aug 11, 23:31    ОБЛУЧЬЕ      4        [4]\n",
      "\n"
     ]
    }
   ],
   "source": [
    "with pd.option_context('display.max_colwidth', 25):\n",
    "    if only_pass_teams.team.drop_duplicates().count() != 0:\n",
    "        add_header('Примеры:')\n",
    "        for team in only_pass_teams.team.drop_duplicates().iloc[:3].values:    \n",
    "            add_line(team_plan[team_plan.team == team][cols])\n",
    "            add_line('')"
   ]
  },
  {
   "cell_type": "code",
   "execution_count": 464,
   "metadata": {
    "collapsed": false
   },
   "outputs": [
    {
     "name": "stdout",
     "output_type": "stream",
     "text": [
      "Пример бесцельной отправки пассажиром со станции Иркутск-Сортировочный:\n",
      "         team         st_from_name           st_to_name   time_start_f     time_end_f           depot_name  state all_states\n",
      " 200200132628  ИРКУТСК-СОРТИРОВ...  ИРКУТСК-СОРТИРОВ...  Aug 11, 09:30  Aug 11, 11:24  ИРКУТСК-СОРТИРОВ...      2     [2, 4]\n",
      " 200200132628  ИРКУТСК-СОРТИРОВ...  ИРКУТСК-СОРТИРОВ...  Aug 11, 20:05  Aug 11, 23:05  ИРКУТСК-СОРТИРОВ...      4     [2, 4]\n"
     ]
    }
   ],
   "source": [
    "irk = only_pass_teams[only_pass_teams.st_from_name == 'ИРКУТСК-СОРТИРОВОЧНЫЙ']\n",
    "if not irk.empty:\n",
    "    add_header('Пример бесцельной отправки пассажиром со станции Иркутск-Сортировочный:')\n",
    "    add_line(team_plan[team_plan.team == irk.iloc[0].team][cols])"
   ]
  },
  {
   "cell_type": "markdown",
   "metadata": {},
   "source": [
    "<a id='only_presence'></a>\n",
    "### Бригады, планируемые только на явку [ToC](#toc)"
   ]
  },
  {
   "cell_type": "code",
   "execution_count": 465,
   "metadata": {
    "collapsed": true
   },
   "outputs": [],
   "source": [
    "add_header('Бригады, планируемые только на явку', h=3, p=False)"
   ]
  },
  {
   "cell_type": "code",
   "execution_count": 466,
   "metadata": {
    "collapsed": false
   },
   "outputs": [
    {
     "name": "stdout",
     "output_type": "stream",
     "text": [
      "Всего 732 бригад, запланированных только на явку.\n",
      "\n",
      "Распределение по депо станции явки:\n",
      "КОМСОМОЛЬСК-НА-АМУРЕ-СОРТИРОВОЧНЫЙ    92\n",
      "ИЛАНСКАЯ                              90\n",
      "КРАСНОЯРСК-ВОСТОЧНЫЙ                  87\n",
      "АБАКАН                                69\n",
      "ЧИТА I                                40\n",
      "\n",
      "Распределение по типу бригады:\n",
      "Фейковая    513\n",
      "Реальная    219\n",
      "\n",
      "Примеры бригад:\n",
      "         team st_from_name   time_start_f     time_end_f   depot_name state_info all_states\n",
      " 200200224244   НОВАЯ ЧАРА  Aug 10, 22:09  Aug 11, 00:00   НОВАЯ ЧАРА          2        [2]\n",
      " 200200164027    КАРЫМСКАЯ  Aug 11, 16:54  Aug 11, 19:00    КАРЫМСКАЯ          2        [2]\n",
      " 200200259589       МОГОЧА  Aug 11, 16:00  Aug 11, 17:00       МОГОЧА          2        [2]\n",
      " 200200259802     АЧИНСК I  Aug 11, 10:40  Aug 11, 11:00     АЧИНСК I          2        [2]\n",
      " 200200136193       АБАКАН  Aug 10, 03:25  Aug 10, 05:25       АБАКАН          2        [2]\n",
      " 200200224936    КАРЫМСКАЯ  Aug 11, 14:44  Aug 11, 16:50       ЧИТА I          8        [2]\n",
      " 200200127917    ВИХОРЕВКА  Aug 11, 03:47  Aug 11, 05:34    ВИХОРЕВКА          2        [2]\n",
      " 200200224877       ЧИТА I  Aug 11, 12:40  Aug 11, 14:00       ЧИТА I          2        [2]\n",
      " 200200096991         ЗИМА  Aug 11, 17:59  Aug 11, 18:40  НИЖНЕУДИНСК          8        [2]\n",
      " 200200059225        ХИЛОК  Aug 10, 18:11  Aug 10, 19:20        ХИЛОК          2        [2]\n"
     ]
    }
   ],
   "source": [
    "cols = ['team', 'st_from_name', 'time_start_f', 'time_end_f', 'depot_name', 'state_info', 'all_states']\n",
    "only_pr = team_plan[team_plan.cat == 'only_presence']\n",
    "if not only_pr.empty:\n",
    "    add_header('Всего %d бригад, запланированных только на явку.' % only_pr.team.drop_duplicates().count())\n",
    "    add_line('')\n",
    "    add_header('Распределение по депо станции явки:')\n",
    "    add_line(only_pr.drop_duplicates('team').st_from_name.value_counts().head())\n",
    "    add_line('')\n",
    "    add_header('Распределение по типу бригады:')\n",
    "    add_line(only_pr.drop_duplicates('team').team_type.value_counts())\n",
    "    add_line('')\n",
    "    add_header('Примеры бригад:')\n",
    "    add_line(only_pr[cols].head(10))\n",
    "else:\n",
    "    add_header('В плане нет бригад, запланированных только на явку')"
   ]
  },
  {
   "cell_type": "markdown",
   "metadata": {},
   "source": [
    "## Проверка наличия явки в планах у всех запланированных бригад"
   ]
  },
  {
   "cell_type": "code",
   "execution_count": 467,
   "metadata": {
    "collapsed": false
   },
   "outputs": [
    {
     "name": "stdout",
     "output_type": "stream",
     "text": [
      "Всего событие явки не запланировано у 347 бригад (7.32%). Примеры:\n",
      "         team st_from_name st_to_name   time_start_f     time_end_f  state          loco\n",
      " 777700019641     ИЛАНСКАЯ  ЗАОЗЕРНАЯ  Aug 12, 08:06  Aug 12, 10:05      1  200200079854\n",
      " 777700019641    ЗАОЗЕРНАЯ        УЯР  Aug 12, 10:05  Aug 12, 10:46      1  200200079854\n",
      " 777700019641          УЯР    КИЛЬЧУГ  Aug 12, 12:30  Aug 12, 13:40      1  200200099573\n",
      " 777700019641      КИЛЬЧУГ   САЯНСКАЯ  Aug 12, 13:40  Aug 12, 13:58      1  200200099573\n",
      " 777700019641     САЯНСКАЯ   САЯНСКАЯ  Aug 12, 14:28  Aug 12, 18:48      4            -1\n",
      " 777700019641     САЯНСКАЯ    КИЛЬЧУГ  Aug 12, 18:48  Aug 12, 19:45      0            -1\n",
      " 777700019641      КИЛЬЧУГ        УЯР  Aug 12, 19:45  Aug 12, 20:32      0            -1\n",
      " 777700019641          УЯР  ЗАОЗЕРНАЯ  Aug 12, 20:32  Aug 12, 21:11      0            -1\n",
      " 777700019641    ЗАОЗЕРНАЯ   ИЛАНСКАЯ  Aug 12, 21:11  Aug 12, 23:09      0            -1\n",
      "         team st_from_name st_to_name   time_start_f     time_end_f  state          loco\n",
      " 777700019641     ИЛАНСКАЯ  ЗАОЗЕРНАЯ  Aug 12, 08:06  Aug 12, 10:05      1  200200079854\n",
      " 777700019641    ЗАОЗЕРНАЯ        УЯР  Aug 12, 10:05  Aug 12, 10:46      1  200200079854\n",
      " 777700019641          УЯР    КИЛЬЧУГ  Aug 12, 12:30  Aug 12, 13:40      1  200200099573\n",
      " 777700019641      КИЛЬЧУГ   САЯНСКАЯ  Aug 12, 13:40  Aug 12, 13:58      1  200200099573\n",
      " 777700019641     САЯНСКАЯ   САЯНСКАЯ  Aug 12, 14:28  Aug 12, 18:48      4            -1\n",
      " 777700019641     САЯНСКАЯ    КИЛЬЧУГ  Aug 12, 18:48  Aug 12, 19:45      0            -1\n",
      " 777700019641      КИЛЬЧУГ        УЯР  Aug 12, 19:45  Aug 12, 20:32      0            -1\n",
      " 777700019641          УЯР  ЗАОЗЕРНАЯ  Aug 12, 20:32  Aug 12, 21:11      0            -1\n",
      " 777700019641    ЗАОЗЕРНАЯ   ИЛАНСКАЯ  Aug 12, 21:11  Aug 12, 23:09      0            -1\n",
      "Распределение по типу бригад (в долях):\n",
      "Фейковая    1\n"
     ]
    }
   ],
   "source": [
    "team_plan['all_states'] = team_plan.team.map(team_plan.groupby('team').state.unique())\n",
    "no_pres = team_plan[team_plan.all_states.apply(lambda x: (2 not in x) & (1 in x))]\n",
    "cols = ['team', 'st_from_name', 'st_to_name', 'time_start_f', 'time_end_f', 'state', 'loco']\n",
    "add_header('Всего событие явки не запланировано у %d бригад (%.2f%%). Примеры:'\n",
    "           % (no_pres.drop_duplicates('team').team.count(),\n",
    "              100 * no_pres.drop_duplicates('team').team.count() / team_plan.drop_duplicates('team').team.count()))\n",
    "add_line(team_plan[team_plan.team == no_pres.iloc[0].team][cols])\n",
    "add_line(team_plan[team_plan.team == no_pres.iloc[1].team][cols])\n",
    "add_header('Распределение по типу бригад (в долях):')\n",
    "add_line(no_pres.drop_duplicates('team').team_type.value_counts(normalize=True))"
   ]
  },
  {
   "cell_type": "markdown",
   "metadata": {},
   "source": [
    "<a id='pass_teams_in_plan'></a>\n",
    "## Проверка подвязки негрузовых бригад [ToC](#toc)"
   ]
  },
  {
   "cell_type": "code",
   "execution_count": 468,
   "metadata": {
    "collapsed": true
   },
   "outputs": [],
   "source": [
    "add_header('Проверка подвязки негрузовых бригад', h=2, p=False)"
   ]
  },
  {
   "cell_type": "code",
   "execution_count": 469,
   "metadata": {
    "collapsed": false
   },
   "outputs": [
    {
     "name": "stdout",
     "output_type": "stream",
     "text": [
      "В плане нет негрузовых бригад с запланированной подвязкой, отличной от подвязки во входных данных\n"
     ]
    }
   ],
   "source": [
    "cols = ['team', 'ttype', 'loco_info', 'st_from_name', 'st_to_name', 'time_start_f', 'state', 'loco']\n",
    "bad_pass_teams = team_plan[(team_plan.ttype == 0) & (team_plan.loco != team_plan.loco_info) \n",
    "                           & (team_plan.state.isin([0, 1]))][cols]\n",
    "if bad_pass_teams.empty:\n",
    "    add_header('В плане нет негрузовых бригад с запланированной подвязкой, отличной от подвязки во входных данных')\n",
    "else:\n",
    "    add_header('Всего %d негрузовых бригад, для которых запланирована подвязка, отличная от подвязки во входных данных:' \n",
    "              % bad_pass_teams.drop_duplicates('team').team.count())\n",
    "    add_line(bad_pass_teams.drop_duplicates('team')[cols].head())"
   ]
  },
  {
   "cell_type": "markdown",
   "metadata": {},
   "source": [
    "[ToC](#toc)\n",
    "## Проверка сохранения предыдущих времен явок\n",
    "\n",
    "В планировщик в сообщениях `prev_team` передаются времена явок бригад, запланированные на предыдущем расчете. В зависимости от горизонта, на котором запланированы эти явки, их при новом расчете можно сдвигать лишь на очень ограниченное время."
   ]
  },
  {
   "cell_type": "code",
   "execution_count": 470,
   "metadata": {
    "collapsed": true
   },
   "outputs": [],
   "source": [
    "add_header('Проверка сохранения предыдущих времен явок', h=2, p=False)"
   ]
  },
  {
   "cell_type": "code",
   "execution_count": 471,
   "metadata": {
    "collapsed": false
   },
   "outputs": [
    {
     "name": "stdout",
     "output_type": "stream",
     "text": [
      "Время начала планирования: Aug 11, 19:31\n",
      "Не запланировано 863 бригад (32.64%) с предыдущими явками (86 на горизонте до 6 часов). Примеры:\n",
      "         team  prev_ready_time        dt_time  team_type  plan_hor\n",
      " 200200155549       1470933600  Aug 11, 19:40          2  0.138611\n",
      " 200200145495       1470933888  Aug 11, 19:44          2  0.218611\n",
      " 200200074745       1470933972  Aug 11, 19:46          2  0.241944\n",
      " 200200210926       1470934548  Aug 11, 19:55          2  0.401944\n",
      " 200200166079       1470934560  Aug 11, 19:56          2  0.405278\n",
      " 200200187250       1470934788  Aug 11, 19:59          2  0.468611\n",
      " 200200136460       1470934848  Aug 11, 20:00          2  0.485278\n",
      " 200200059613       1470935688  Aug 11, 20:14          2  0.718611\n",
      " 200200133812       1470936048  Aug 11, 20:20          2  0.818611\n",
      " 200200158535       1470936420  Aug 11, 20:27          2  0.921944\n"
     ]
    }
   ],
   "source": [
    "add_line('Время начала планирования: %s' % nice_time(current_time))\n",
    "prev_team = pd.read_csv(FOLDER + 'prev_team.csv', dtype={'team':str})\n",
    "prev_team['dt_time'] = prev_team.prev_ready_time.apply(nice_time)\n",
    "prev_team['team_type'] = prev_team.team.apply(lambda x: int(str(x)[0]))\n",
    "prev_team['plan_hor'] = (prev_team.prev_ready_time - current_time) / 3600\n",
    "team_plan['prev_ready_time'] = team_plan.team.map(prev_team.drop_duplicates('team').set_index('team').prev_ready_time)\n",
    "team_plan['prev_ready_time_f'] = team_plan.prev_ready_time.apply(nice_time)\n",
    "\n",
    "prev_team_no_planned = prev_team[(prev_team.team_type != 7) & (prev_team.team.isin(team_info.team))\n",
    "                                 & (prev_team.team.isin(team_plan[team_plan.state.isin([0, 1])].team) == False)]\n",
    "prev_team_no_planned_6 = prev_team_no_planned[(prev_team_no_planned.plan_hor > 0) \n",
    "                                              & (prev_team_no_planned.plan_hor < 6)]\n",
    "prev_team_n = prev_team[(prev_team.team_type != 7) & (prev_team.team.isin(team_info.team))].team.count()\n",
    "if prev_team_no_planned.empty:\n",
    "    add_header('Все бригады с предыдущими явками запланированы')\n",
    "else:\n",
    "    add_header('Не запланировано %d бригад (%.2f%%) с предыдущими явками (%d на горизонте до 6 часов). Примеры:'\n",
    "              % (prev_team_no_planned.team.count(),                  \n",
    "                 100 * prev_team_no_planned.team.count() / prev_team_n,\n",
    "                 prev_team_no_planned_6.team.count()))\n",
    "    add_line(prev_team_no_planned[(prev_team_no_planned.plan_hor > 0) \n",
    "                                  & (prev_team_no_planned.plan_hor < 6)].sort_values('plan_hor').head(10))    \n",
    "\n",
    "cols = ['team', 'st_from_name', 'time_start_f', 'time_end_f', 'state', 'prev_ready_time_f']\n",
    "tp_first = team_plan[team_plan.team.isin(team_info[team_info.state == '3'].team)].drop_duplicates('team').copy()\n",
    "#tp_first = team_plan.drop_duplicates('team').copy()"
   ]
  },
  {
   "cell_type": "code",
   "execution_count": 472,
   "metadata": {
    "collapsed": false
   },
   "outputs": [
    {
     "name": "stdout",
     "output_type": "stream",
     "text": [
      "Всего 8 бригад с предыдущими явками (0.23% от запланированных) с существенными отклонениями времен явок:\n",
      "         team         st_from_name   time_start_f  state prev_ready_time_f  good_lag  real_lag state_info  presence_norm  uth\n",
      " 200200249677  ИРКУТСК-СОРТИРОВ...  Aug 16, 21:27      2     Aug 13, 00:35     86400    334311          3  Aug 12, 16:09    1\n",
      " 200200228003             УЛАН-УДЭ  Aug 17, 16:29      2     Aug 12, 20:48     86400    416458          3  Aug 11, 20:26    0\n",
      " 200200236527  ИРКУТСК-СОРТИРОВ...  Aug 22, 04:15      2     Aug 17, 11:23     86400    406326          3  Aug 11, 18:00    1\n",
      " 200200220311              МЫСОВАЯ  Aug 14, 03:00      2     Aug 12, 22:46     86400    101659          3  Aug 11, 21:18    1\n",
      " 200200156470                 ЗИМА  Aug 17, 18:24      2     Aug 12, 21:34     86400    420555          3  Aug 11, 21:28    1\n",
      " 200200257317               МОГОЧА  Aug 14, 13:09      2     Aug 12, 19:10     86400    151156          3  Aug 12, 03:50    0\n",
      " 200200270140           СЛЮДЯНКА I  Aug 18, 09:25      2     Aug 12, 22:36     86400    470963          3  Aug 11, 23:27    0\n",
      " 200200141591                 ЗИМА  Aug 17, 19:05      2     Aug 12, 21:49     86400    422116          3  Aug 12, 00:28    1\n"
     ]
    }
   ],
   "source": [
    "def get_prev_ready_lag(prev_ready_time, current_time):\n",
    "    if np.isnan(prev_ready_time): prev_ready_time = 0        \n",
    "    d = prev_ready_time - current_time\n",
    "    if d < 3 * 3600:\n",
    "        lag = 0    \n",
    "    elif d < 6 * 3600:\n",
    "        lag = 3 * 3600\n",
    "    else:\n",
    "        lag = 24 * 3600\n",
    "    return lag\n",
    "\n",
    "tp_first['good_lag'] = tp_first.apply(lambda x: get_prev_ready_lag(x.prev_ready_time, current_time), axis=1)\n",
    "cols = ['team', 'st_from_name', 'time_start_f', 'state', 'prev_ready_time_f', 'good_lag', 'real_lag', \n",
    "        'state_info', 'presence_norm', 'uth']\n",
    "tp_first['real_lag'] = tp_first.time_start - tp_first.prev_ready_time\n",
    "good_prev = tp_first[(tp_first.team.isin(prev_team.team)) & (tp_first.state == 2)\n",
    "                     & (tp_first.good_lag >= np.abs(tp_first.real_lag))]\n",
    "\n",
    "bad_prev = tp_first[(tp_first.team.isin(prev_team.team)) & (tp_first.state == 2) \n",
    "                    & (tp_first.presence <= tp_first.prev_ready_time)\n",
    "                    & (tp_first.good_lag < np.abs(tp_first.real_lag))]\n",
    "if bad_prev.empty:\n",
    "    add_header('Все запланированные бригады с предыдущими явками запланированы на явку без неприемлемых задержек')\n",
    "else:\n",
    "    add_header('Всего %d бригад с предыдущими явками (%.2f%% от запланированных) с существенными отклонениями времен явок:'\n",
    "              % (bad_prev.team.count(), \n",
    "                 100 * bad_prev.team.count() / (prev_team.team.count() - prev_team_no_planned.team.count())))\n",
    "    add_line(bad_prev[cols].head(10))"
   ]
  },
  {
   "cell_type": "code",
   "execution_count": 473,
   "metadata": {
    "collapsed": false
   },
   "outputs": [
    {
     "name": "stdout",
     "output_type": "stream",
     "text": [
      "Aug 11, 19:31\n"
     ]
    },
    {
     "data": {
      "text/html": [
       "<div>\n",
       "<table border=\"1\" class=\"dataframe\">\n",
       "  <thead>\n",
       "    <tr style=\"text-align: right;\">\n",
       "      <th></th>\n",
       "      <th>team</th>\n",
       "      <th>number</th>\n",
       "      <th>oper_time_f</th>\n",
       "      <th>depot_time_f</th>\n",
       "      <th>state</th>\n",
       "      <th>prev_ready_time_f</th>\n",
       "      <th>plan_start_time_f</th>\n",
       "    </tr>\n",
       "  </thead>\n",
       "  <tbody>\n",
       "    <tr>\n",
       "      <th>1289</th>\n",
       "      <td>200210505747</td>\n",
       "      <td>9205031292</td>\n",
       "      <td>Jun 28, 06:08</td>\n",
       "      <td>Aug 12, 03:40</td>\n",
       "      <td>3</td>\n",
       "      <td></td>\n",
       "      <td></td>\n",
       "    </tr>\n",
       "    <tr>\n",
       "      <th>1288</th>\n",
       "      <td>200210521507</td>\n",
       "      <td>9205031257</td>\n",
       "      <td>Jun 28, 22:24</td>\n",
       "      <td>Aug 11, 18:40</td>\n",
       "      <td>3</td>\n",
       "      <td></td>\n",
       "      <td>Aug 13, 00:52</td>\n",
       "    </tr>\n",
       "    <tr>\n",
       "      <th>3247</th>\n",
       "      <td>210213779354</td>\n",
       "      <td>9205031354</td>\n",
       "      <td>Jul 08, 04:10</td>\n",
       "      <td>Aug 11, 18:40</td>\n",
       "      <td>3</td>\n",
       "      <td></td>\n",
       "      <td>Aug 13, 00:52</td>\n",
       "    </tr>\n",
       "    <tr>\n",
       "      <th>1371</th>\n",
       "      <td>220202269437</td>\n",
       "      <td>9205031355</td>\n",
       "      <td>Jul 08, 10:53</td>\n",
       "      <td>Aug 12, 03:40</td>\n",
       "      <td>3</td>\n",
       "      <td></td>\n",
       "      <td></td>\n",
       "    </tr>\n",
       "    <tr>\n",
       "      <th>1837</th>\n",
       "      <td>210213563777</td>\n",
       "      <td>9205031361</td>\n",
       "      <td>Jul 08, 12:21</td>\n",
       "      <td>Aug 12, 09:40</td>\n",
       "      <td>3</td>\n",
       "      <td></td>\n",
       "      <td></td>\n",
       "    </tr>\n",
       "    <tr>\n",
       "      <th>3999</th>\n",
       "      <td>200200276617</td>\n",
       "      <td>9205003245</td>\n",
       "      <td>Aug 09, 01:47</td>\n",
       "      <td>Aug 12, 12:52</td>\n",
       "      <td>3</td>\n",
       "      <td></td>\n",
       "      <td></td>\n",
       "    </tr>\n",
       "    <tr>\n",
       "      <th>2233</th>\n",
       "      <td>200200124929</td>\n",
       "      <td>9205007869</td>\n",
       "      <td>Aug 09, 18:03</td>\n",
       "      <td>Aug 12, 03:40</td>\n",
       "      <td>3</td>\n",
       "      <td></td>\n",
       "      <td></td>\n",
       "    </tr>\n",
       "    <tr>\n",
       "      <th>1830</th>\n",
       "      <td>200200223247</td>\n",
       "      <td>9205002166</td>\n",
       "      <td>Aug 09, 19:33</td>\n",
       "      <td>Aug 11, 18:40</td>\n",
       "      <td>3</td>\n",
       "      <td></td>\n",
       "      <td>Aug 13, 00:52</td>\n",
       "    </tr>\n",
       "    <tr>\n",
       "      <th>1808</th>\n",
       "      <td>200200206839</td>\n",
       "      <td>9205002994</td>\n",
       "      <td>Aug 09, 19:43</td>\n",
       "      <td>Aug 12, 03:40</td>\n",
       "      <td>3</td>\n",
       "      <td>Aug 12, 09:35</td>\n",
       "      <td></td>\n",
       "    </tr>\n",
       "    <tr>\n",
       "      <th>2816</th>\n",
       "      <td>200200247576</td>\n",
       "      <td>9205003779</td>\n",
       "      <td>Aug 09, 21:02</td>\n",
       "      <td>Aug 12, 09:40</td>\n",
       "      <td>3</td>\n",
       "      <td></td>\n",
       "      <td></td>\n",
       "    </tr>\n",
       "    <tr>\n",
       "      <th>4215</th>\n",
       "      <td>200200249677</td>\n",
       "      <td>9205001747</td>\n",
       "      <td>Aug 10, 01:03</td>\n",
       "      <td>Aug 12, 16:09</td>\n",
       "      <td>3</td>\n",
       "      <td>Aug 13, 00:35</td>\n",
       "      <td>Aug 16, 22:27</td>\n",
       "    </tr>\n",
       "    <tr>\n",
       "      <th>2602</th>\n",
       "      <td>200200135657</td>\n",
       "      <td>9205007881</td>\n",
       "      <td>Aug 10, 05:01</td>\n",
       "      <td>Aug 12, 12:52</td>\n",
       "      <td>3</td>\n",
       "      <td>Aug 12, 14:35</td>\n",
       "      <td></td>\n",
       "    </tr>\n",
       "    <tr>\n",
       "      <th>3297</th>\n",
       "      <td>200200135979</td>\n",
       "      <td>9205007669</td>\n",
       "      <td>Aug 10, 05:50</td>\n",
       "      <td>Aug 12, 09:52</td>\n",
       "      <td>3</td>\n",
       "      <td></td>\n",
       "      <td>Aug 12, 12:20</td>\n",
       "    </tr>\n",
       "    <tr>\n",
       "      <th>4749</th>\n",
       "      <td>200200150588</td>\n",
       "      <td>9205006900</td>\n",
       "      <td>Aug 10, 05:51</td>\n",
       "      <td>Aug 12, 01:40</td>\n",
       "      <td>3</td>\n",
       "      <td></td>\n",
       "      <td></td>\n",
       "    </tr>\n",
       "    <tr>\n",
       "      <th>4220</th>\n",
       "      <td>200200231466</td>\n",
       "      <td>9205001082</td>\n",
       "      <td>Aug 10, 07:21</td>\n",
       "      <td>Aug 11, 18:40</td>\n",
       "      <td>3</td>\n",
       "      <td></td>\n",
       "      <td>Aug 13, 08:34</td>\n",
       "    </tr>\n",
       "    <tr>\n",
       "      <th>4623</th>\n",
       "      <td>200200219086</td>\n",
       "      <td>9205000962</td>\n",
       "      <td>Aug 10, 14:15</td>\n",
       "      <td>Aug 12, 06:52</td>\n",
       "      <td>3</td>\n",
       "      <td></td>\n",
       "      <td>Aug 13, 14:42</td>\n",
       "    </tr>\n",
       "    <tr>\n",
       "      <th>3750</th>\n",
       "      <td>200200101626</td>\n",
       "      <td>9205007670</td>\n",
       "      <td>Aug 10, 15:54</td>\n",
       "      <td>Aug 12, 06:40</td>\n",
       "      <td>3</td>\n",
       "      <td></td>\n",
       "      <td></td>\n",
       "    </tr>\n",
       "    <tr>\n",
       "      <th>4520</th>\n",
       "      <td>200200236527</td>\n",
       "      <td>9205008037</td>\n",
       "      <td>Aug 10, 16:05</td>\n",
       "      <td>Aug 11, 18:00</td>\n",
       "      <td>3</td>\n",
       "      <td>Aug 17, 11:23</td>\n",
       "      <td>Aug 22, 05:15</td>\n",
       "    </tr>\n",
       "    <tr>\n",
       "      <th>3278</th>\n",
       "      <td>200200109166</td>\n",
       "      <td>9205002309</td>\n",
       "      <td>Aug 10, 16:45</td>\n",
       "      <td>Aug 12, 17:57</td>\n",
       "      <td>3</td>\n",
       "      <td>Aug 12, 18:41</td>\n",
       "      <td></td>\n",
       "    </tr>\n",
       "    <tr>\n",
       "      <th>4059</th>\n",
       "      <td>200200274856</td>\n",
       "      <td>9205007634</td>\n",
       "      <td>Aug 10, 16:49</td>\n",
       "      <td>Aug 11, 18:00</td>\n",
       "      <td>3</td>\n",
       "      <td></td>\n",
       "      <td>Aug 12, 23:45</td>\n",
       "    </tr>\n",
       "    <tr>\n",
       "      <th>2266</th>\n",
       "      <td>200200165964</td>\n",
       "      <td>9205007603</td>\n",
       "      <td>Aug 10, 17:01</td>\n",
       "      <td>Aug 12, 15:52</td>\n",
       "      <td>3</td>\n",
       "      <td></td>\n",
       "      <td></td>\n",
       "    </tr>\n",
       "    <tr>\n",
       "      <th>2769</th>\n",
       "      <td>220202242484</td>\n",
       "      <td>9205031362</td>\n",
       "      <td>Aug 10, 17:02</td>\n",
       "      <td>Aug 12, 11:30</td>\n",
       "      <td>3</td>\n",
       "      <td></td>\n",
       "      <td></td>\n",
       "    </tr>\n",
       "    <tr>\n",
       "      <th>4257</th>\n",
       "      <td>200200247217</td>\n",
       "      <td>9205004557</td>\n",
       "      <td>Aug 10, 17:55</td>\n",
       "      <td>Aug 11, 18:40</td>\n",
       "      <td>3</td>\n",
       "      <td></td>\n",
       "      <td>Aug 13, 09:56</td>\n",
       "    </tr>\n",
       "    <tr>\n",
       "      <th>2231</th>\n",
       "      <td>200200073616</td>\n",
       "      <td>9205008380</td>\n",
       "      <td>Aug 10, 18:30</td>\n",
       "      <td>Aug 11, 18:40</td>\n",
       "      <td>3</td>\n",
       "      <td></td>\n",
       "      <td>Aug 12, 23:50</td>\n",
       "    </tr>\n",
       "    <tr>\n",
       "      <th>4209</th>\n",
       "      <td>200200195786</td>\n",
       "      <td>9205030735</td>\n",
       "      <td>Aug 10, 19:54</td>\n",
       "      <td>Aug 12, 12:52</td>\n",
       "      <td>3</td>\n",
       "      <td></td>\n",
       "      <td></td>\n",
       "    </tr>\n",
       "    <tr>\n",
       "      <th>...</th>\n",
       "      <td>...</td>\n",
       "      <td>...</td>\n",
       "      <td>...</td>\n",
       "      <td>...</td>\n",
       "      <td>...</td>\n",
       "      <td>...</td>\n",
       "      <td>...</td>\n",
       "    </tr>\n",
       "    <tr>\n",
       "      <th>3310</th>\n",
       "      <td>200200093409</td>\n",
       "      <td>9205000643</td>\n",
       "      <td>Aug 11, 03:03</td>\n",
       "      <td>Aug 11, 22:36</td>\n",
       "      <td>3</td>\n",
       "      <td></td>\n",
       "      <td>Aug 13, 11:59</td>\n",
       "    </tr>\n",
       "    <tr>\n",
       "      <th>2391</th>\n",
       "      <td>200200139586</td>\n",
       "      <td>9205005114</td>\n",
       "      <td>Aug 11, 03:12</td>\n",
       "      <td>Aug 12, 09:40</td>\n",
       "      <td>3</td>\n",
       "      <td></td>\n",
       "      <td></td>\n",
       "    </tr>\n",
       "    <tr>\n",
       "      <th>4313</th>\n",
       "      <td>200200107130</td>\n",
       "      <td>9205003330</td>\n",
       "      <td>Aug 11, 03:45</td>\n",
       "      <td>Aug 11, 21:33</td>\n",
       "      <td>3</td>\n",
       "      <td></td>\n",
       "      <td>Aug 13, 07:12</td>\n",
       "    </tr>\n",
       "    <tr>\n",
       "      <th>3371</th>\n",
       "      <td>200200154449</td>\n",
       "      <td>9205003717</td>\n",
       "      <td>Aug 11, 05:00</td>\n",
       "      <td>Aug 12, 00:00</td>\n",
       "      <td>3</td>\n",
       "      <td></td>\n",
       "      <td>Aug 13, 01:49</td>\n",
       "    </tr>\n",
       "    <tr>\n",
       "      <th>2922</th>\n",
       "      <td>200200208130</td>\n",
       "      <td>9205002097</td>\n",
       "      <td>Aug 11, 06:00</td>\n",
       "      <td>Aug 12, 09:40</td>\n",
       "      <td>3</td>\n",
       "      <td></td>\n",
       "      <td></td>\n",
       "    </tr>\n",
       "    <tr>\n",
       "      <th>1962</th>\n",
       "      <td>200200196674</td>\n",
       "      <td>9205002294</td>\n",
       "      <td>Aug 11, 06:00</td>\n",
       "      <td>Aug 11, 23:48</td>\n",
       "      <td>3</td>\n",
       "      <td></td>\n",
       "      <td>Aug 13, 01:47</td>\n",
       "    </tr>\n",
       "    <tr>\n",
       "      <th>1968</th>\n",
       "      <td>200200111949</td>\n",
       "      <td>9205001538</td>\n",
       "      <td>Aug 11, 06:21</td>\n",
       "      <td>Aug 12, 12:52</td>\n",
       "      <td>3</td>\n",
       "      <td></td>\n",
       "      <td></td>\n",
       "    </tr>\n",
       "    <tr>\n",
       "      <th>3350</th>\n",
       "      <td>200200220837</td>\n",
       "      <td>9205030286</td>\n",
       "      <td>Aug 11, 06:38</td>\n",
       "      <td>Aug 12, 00:28</td>\n",
       "      <td>3</td>\n",
       "      <td></td>\n",
       "      <td></td>\n",
       "    </tr>\n",
       "    <tr>\n",
       "      <th>3754</th>\n",
       "      <td>200200249592</td>\n",
       "      <td>9205007885</td>\n",
       "      <td>Aug 11, 07:27</td>\n",
       "      <td>Aug 12, 09:40</td>\n",
       "      <td>3</td>\n",
       "      <td></td>\n",
       "      <td></td>\n",
       "    </tr>\n",
       "    <tr>\n",
       "      <th>2969</th>\n",
       "      <td>200200242864</td>\n",
       "      <td>9205007318</td>\n",
       "      <td>Aug 11, 08:59</td>\n",
       "      <td>Aug 12, 09:40</td>\n",
       "      <td>3</td>\n",
       "      <td></td>\n",
       "      <td></td>\n",
       "    </tr>\n",
       "    <tr>\n",
       "      <th>3403</th>\n",
       "      <td>200200241596</td>\n",
       "      <td>9205000476</td>\n",
       "      <td>Aug 11, 09:50</td>\n",
       "      <td>Aug 12, 03:37</td>\n",
       "      <td>3</td>\n",
       "      <td></td>\n",
       "      <td></td>\n",
       "    </tr>\n",
       "    <tr>\n",
       "      <th>3394</th>\n",
       "      <td>200200194565</td>\n",
       "      <td>9205000443</td>\n",
       "      <td>Aug 11, 10:38</td>\n",
       "      <td>Aug 12, 15:52</td>\n",
       "      <td>3</td>\n",
       "      <td></td>\n",
       "      <td></td>\n",
       "    </tr>\n",
       "    <tr>\n",
       "      <th>4456</th>\n",
       "      <td>200200091118</td>\n",
       "      <td>9205003550</td>\n",
       "      <td>Aug 11, 11:00</td>\n",
       "      <td>Aug 12, 06:08</td>\n",
       "      <td>3</td>\n",
       "      <td></td>\n",
       "      <td></td>\n",
       "    </tr>\n",
       "    <tr>\n",
       "      <th>1562</th>\n",
       "      <td>200200204746</td>\n",
       "      <td>9205004762</td>\n",
       "      <td>Aug 11, 11:50</td>\n",
       "      <td>Aug 12, 05:37</td>\n",
       "      <td>3</td>\n",
       "      <td></td>\n",
       "      <td></td>\n",
       "    </tr>\n",
       "    <tr>\n",
       "      <th>3459</th>\n",
       "      <td>200200268891</td>\n",
       "      <td>9205000232</td>\n",
       "      <td>Aug 11, 12:21</td>\n",
       "      <td>Aug 12, 06:12</td>\n",
       "      <td>3</td>\n",
       "      <td></td>\n",
       "      <td></td>\n",
       "    </tr>\n",
       "    <tr>\n",
       "      <th>1730</th>\n",
       "      <td>200200126979</td>\n",
       "      <td>9205004569</td>\n",
       "      <td>Aug 11, 13:15</td>\n",
       "      <td>Aug 12, 07:03</td>\n",
       "      <td>3</td>\n",
       "      <td></td>\n",
       "      <td></td>\n",
       "    </tr>\n",
       "    <tr>\n",
       "      <th>3954</th>\n",
       "      <td>200200153184</td>\n",
       "      <td>9205004564</td>\n",
       "      <td>Aug 11, 13:20</td>\n",
       "      <td>Aug 12, 08:28</td>\n",
       "      <td>3</td>\n",
       "      <td></td>\n",
       "      <td></td>\n",
       "    </tr>\n",
       "    <tr>\n",
       "      <th>3358</th>\n",
       "      <td>200200245956</td>\n",
       "      <td>9205007559</td>\n",
       "      <td>Aug 11, 13:50</td>\n",
       "      <td>Aug 12, 08:58</td>\n",
       "      <td>3</td>\n",
       "      <td></td>\n",
       "      <td></td>\n",
       "    </tr>\n",
       "    <tr>\n",
       "      <th>2599</th>\n",
       "      <td>200200249596</td>\n",
       "      <td>9205004109</td>\n",
       "      <td>Aug 11, 13:55</td>\n",
       "      <td>Aug 12, 07:43</td>\n",
       "      <td>3</td>\n",
       "      <td></td>\n",
       "      <td></td>\n",
       "    </tr>\n",
       "    <tr>\n",
       "      <th>1487</th>\n",
       "      <td>200200251644</td>\n",
       "      <td>9205006741</td>\n",
       "      <td>Aug 11, 14:10</td>\n",
       "      <td>Aug 12, 07:58</td>\n",
       "      <td>3</td>\n",
       "      <td></td>\n",
       "      <td></td>\n",
       "    </tr>\n",
       "    <tr>\n",
       "      <th>3077</th>\n",
       "      <td>200200207249</td>\n",
       "      <td>9205030823</td>\n",
       "      <td>Aug 11, 14:32</td>\n",
       "      <td>Aug 12, 09:40</td>\n",
       "      <td>3</td>\n",
       "      <td></td>\n",
       "      <td>Aug 12, 12:15</td>\n",
       "    </tr>\n",
       "    <tr>\n",
       "      <th>3765</th>\n",
       "      <td>200200253113</td>\n",
       "      <td>9205004446</td>\n",
       "      <td>Aug 11, 15:00</td>\n",
       "      <td>Aug 12, 10:08</td>\n",
       "      <td>3</td>\n",
       "      <td></td>\n",
       "      <td></td>\n",
       "    </tr>\n",
       "    <tr>\n",
       "      <th>2924</th>\n",
       "      <td>200200206174</td>\n",
       "      <td>9205003485</td>\n",
       "      <td>Aug 11, 15:30</td>\n",
       "      <td>Aug 12, 12:52</td>\n",
       "      <td>3</td>\n",
       "      <td></td>\n",
       "      <td></td>\n",
       "    </tr>\n",
       "    <tr>\n",
       "      <th>3108</th>\n",
       "      <td>200200239976</td>\n",
       "      <td>9205002622</td>\n",
       "      <td>Aug 11, 15:50</td>\n",
       "      <td>Aug 12, 14:07</td>\n",
       "      <td>3</td>\n",
       "      <td></td>\n",
       "      <td></td>\n",
       "    </tr>\n",
       "    <tr>\n",
       "      <th>3564</th>\n",
       "      <td>200200155156</td>\n",
       "      <td>9205000629</td>\n",
       "      <td>Aug 11, 17:20</td>\n",
       "      <td>Aug 12, 15:09</td>\n",
       "      <td>3</td>\n",
       "      <td>Aug 11, 08:20</td>\n",
       "      <td></td>\n",
       "    </tr>\n",
       "  </tbody>\n",
       "</table>\n",
       "<p>55 rows × 7 columns</p>\n",
       "</div>"
      ],
      "text/plain": [
       "              team      number    oper_time_f   depot_time_f state  \\\n",
       "1289  200210505747  9205031292  Jun 28, 06:08  Aug 12, 03:40     3   \n",
       "1288  200210521507  9205031257  Jun 28, 22:24  Aug 11, 18:40     3   \n",
       "3247  210213779354  9205031354  Jul 08, 04:10  Aug 11, 18:40     3   \n",
       "1371  220202269437  9205031355  Jul 08, 10:53  Aug 12, 03:40     3   \n",
       "1837  210213563777  9205031361  Jul 08, 12:21  Aug 12, 09:40     3   \n",
       "3999  200200276617  9205003245  Aug 09, 01:47  Aug 12, 12:52     3   \n",
       "2233  200200124929  9205007869  Aug 09, 18:03  Aug 12, 03:40     3   \n",
       "1830  200200223247  9205002166  Aug 09, 19:33  Aug 11, 18:40     3   \n",
       "1808  200200206839  9205002994  Aug 09, 19:43  Aug 12, 03:40     3   \n",
       "2816  200200247576  9205003779  Aug 09, 21:02  Aug 12, 09:40     3   \n",
       "4215  200200249677  9205001747  Aug 10, 01:03  Aug 12, 16:09     3   \n",
       "2602  200200135657  9205007881  Aug 10, 05:01  Aug 12, 12:52     3   \n",
       "3297  200200135979  9205007669  Aug 10, 05:50  Aug 12, 09:52     3   \n",
       "4749  200200150588  9205006900  Aug 10, 05:51  Aug 12, 01:40     3   \n",
       "4220  200200231466  9205001082  Aug 10, 07:21  Aug 11, 18:40     3   \n",
       "4623  200200219086  9205000962  Aug 10, 14:15  Aug 12, 06:52     3   \n",
       "3750  200200101626  9205007670  Aug 10, 15:54  Aug 12, 06:40     3   \n",
       "4520  200200236527  9205008037  Aug 10, 16:05  Aug 11, 18:00     3   \n",
       "3278  200200109166  9205002309  Aug 10, 16:45  Aug 12, 17:57     3   \n",
       "4059  200200274856  9205007634  Aug 10, 16:49  Aug 11, 18:00     3   \n",
       "2266  200200165964  9205007603  Aug 10, 17:01  Aug 12, 15:52     3   \n",
       "2769  220202242484  9205031362  Aug 10, 17:02  Aug 12, 11:30     3   \n",
       "4257  200200247217  9205004557  Aug 10, 17:55  Aug 11, 18:40     3   \n",
       "2231  200200073616  9205008380  Aug 10, 18:30  Aug 11, 18:40     3   \n",
       "4209  200200195786  9205030735  Aug 10, 19:54  Aug 12, 12:52     3   \n",
       "...            ...         ...            ...            ...   ...   \n",
       "3310  200200093409  9205000643  Aug 11, 03:03  Aug 11, 22:36     3   \n",
       "2391  200200139586  9205005114  Aug 11, 03:12  Aug 12, 09:40     3   \n",
       "4313  200200107130  9205003330  Aug 11, 03:45  Aug 11, 21:33     3   \n",
       "3371  200200154449  9205003717  Aug 11, 05:00  Aug 12, 00:00     3   \n",
       "2922  200200208130  9205002097  Aug 11, 06:00  Aug 12, 09:40     3   \n",
       "1962  200200196674  9205002294  Aug 11, 06:00  Aug 11, 23:48     3   \n",
       "1968  200200111949  9205001538  Aug 11, 06:21  Aug 12, 12:52     3   \n",
       "3350  200200220837  9205030286  Aug 11, 06:38  Aug 12, 00:28     3   \n",
       "3754  200200249592  9205007885  Aug 11, 07:27  Aug 12, 09:40     3   \n",
       "2969  200200242864  9205007318  Aug 11, 08:59  Aug 12, 09:40     3   \n",
       "3403  200200241596  9205000476  Aug 11, 09:50  Aug 12, 03:37     3   \n",
       "3394  200200194565  9205000443  Aug 11, 10:38  Aug 12, 15:52     3   \n",
       "4456  200200091118  9205003550  Aug 11, 11:00  Aug 12, 06:08     3   \n",
       "1562  200200204746  9205004762  Aug 11, 11:50  Aug 12, 05:37     3   \n",
       "3459  200200268891  9205000232  Aug 11, 12:21  Aug 12, 06:12     3   \n",
       "1730  200200126979  9205004569  Aug 11, 13:15  Aug 12, 07:03     3   \n",
       "3954  200200153184  9205004564  Aug 11, 13:20  Aug 12, 08:28     3   \n",
       "3358  200200245956  9205007559  Aug 11, 13:50  Aug 12, 08:58     3   \n",
       "2599  200200249596  9205004109  Aug 11, 13:55  Aug 12, 07:43     3   \n",
       "1487  200200251644  9205006741  Aug 11, 14:10  Aug 12, 07:58     3   \n",
       "3077  200200207249  9205030823  Aug 11, 14:32  Aug 12, 09:40     3   \n",
       "3765  200200253113  9205004446  Aug 11, 15:00  Aug 12, 10:08     3   \n",
       "2924  200200206174  9205003485  Aug 11, 15:30  Aug 12, 12:52     3   \n",
       "3108  200200239976  9205002622  Aug 11, 15:50  Aug 12, 14:07     3   \n",
       "3564  200200155156  9205000629  Aug 11, 17:20  Aug 12, 15:09     3   \n",
       "\n",
       "     prev_ready_time_f plan_start_time_f  \n",
       "1289                                      \n",
       "1288                       Aug 13, 00:52  \n",
       "3247                       Aug 13, 00:52  \n",
       "1371                                      \n",
       "1837                                      \n",
       "3999                                      \n",
       "2233                                      \n",
       "1830                       Aug 13, 00:52  \n",
       "1808     Aug 12, 09:35                    \n",
       "2816                                      \n",
       "4215     Aug 13, 00:35     Aug 16, 22:27  \n",
       "2602     Aug 12, 14:35                    \n",
       "3297                       Aug 12, 12:20  \n",
       "4749                                      \n",
       "4220                       Aug 13, 08:34  \n",
       "4623                       Aug 13, 14:42  \n",
       "3750                                      \n",
       "4520     Aug 17, 11:23     Aug 22, 05:15  \n",
       "3278     Aug 12, 18:41                    \n",
       "4059                       Aug 12, 23:45  \n",
       "2266                                      \n",
       "2769                                      \n",
       "4257                       Aug 13, 09:56  \n",
       "2231                       Aug 12, 23:50  \n",
       "4209                                      \n",
       "...                ...               ...  \n",
       "3310                       Aug 13, 11:59  \n",
       "2391                                      \n",
       "4313                       Aug 13, 07:12  \n",
       "3371                       Aug 13, 01:49  \n",
       "2922                                      \n",
       "1962                       Aug 13, 01:47  \n",
       "1968                                      \n",
       "3350                                      \n",
       "3754                                      \n",
       "2969                                      \n",
       "3403                                      \n",
       "3394                                      \n",
       "4456                                      \n",
       "1562                                      \n",
       "3459                                      \n",
       "1730                                      \n",
       "3954                                      \n",
       "3358                                      \n",
       "2599                                      \n",
       "1487                                      \n",
       "3077                       Aug 12, 12:15  \n",
       "3765                                      \n",
       "2924                                      \n",
       "3108                                      \n",
       "3564     Aug 11, 08:20                    \n",
       "\n",
       "[55 rows x 7 columns]"
      ]
     },
     "execution_count": 473,
     "metadata": {},
     "output_type": "execute_result"
    }
   ],
   "source": [
    "print(nice_time(current_time))\n",
    "team_info['depot_name'] = team_info.depot.map(st_names.name)\n",
    "team_info['prev_ready_time'] = team_info.team.map(prev_team.drop_duplicates('team').set_index('team').prev_ready_time)\n",
    "team_info['prev_ready_time_f'] = team_info.prev_ready_time.apply(nice_time)\n",
    "team_info['oper_time_f'] = team_info.oper_time.apply(nice_time)\n",
    "team_info['plan_start_time'] = team_info.team.map(team_plan[team_plan.state.isin([0, 1])]\\\n",
    "                                                  .drop_duplicates('team').set_index('team').time_start)\n",
    "team_info['plan_start_time_f'] = team_info['plan_start_time'].apply(nice_time)\n",
    "cols = ['team', 'number', 'oper_time_f', 'depot_time_f', 'state', 'prev_ready_time_f', 'plan_start_time_f']\n",
    "team_info[(team_info.uth == 1) & (team_info.state == '3')\n",
    "          & (team_info.depot_name == 'ИРКУТСК-СОРТИРОВОЧНЫЙ')].sort_values('oper_time')[cols]"
   ]
  },
  {
   "cell_type": "markdown",
   "metadata": {},
   "source": [
    "[ToC](#toc)\n",
    "## Проверка возврата правильных времен явок у бригад\n",
    "\n",
    "Чтобы на форме текущего планирования можно было рассчитать рабочее время бригады, из планировщика в плане должны быть возвращены времена явок всех бригад:\n",
    "* Для бригад, у которых начальное состояние было отличное от 3 или 4, возвращенное время явки должно копировать время явки, переданное во входных данных.\n",
    "* Для бригад в начальном состоянии 3 или 4 и фейковых бригад время явки должно вычисляться на основе запланированного времени отправления."
   ]
  },
  {
   "cell_type": "code",
   "execution_count": 474,
   "metadata": {
    "collapsed": true
   },
   "outputs": [],
   "source": [
    "add_header('Проверка возврата правильных времен явок у бригад', h=2, p=False)"
   ]
  },
  {
   "cell_type": "code",
   "execution_count": 475,
   "metadata": {
    "collapsed": false
   },
   "outputs": [
    {
     "name": "stdout",
     "output_type": "stream",
     "text": [
      "Всего 284 бригад в состояниях 1, 2, 5, для которых возвращена неверная первая явка. Примеры:\n",
      "         team  time_start   time_start_f state_info    presence  presence_norm\n",
      " 200200224244  1470856158  Aug 10, 22:09          2  1470862800  Aug 11, 00:00\n",
      " 200200164027  1470923641  Aug 11, 16:54          2  1470931200  Aug 11, 19:00\n",
      " 200200259589  1470920419  Aug 11, 16:00          2  1470924000  Aug 11, 17:00\n",
      " 200200259802  1470901248  Aug 11, 10:40          2  1470902400  Aug 11, 11:00\n",
      " 200200136193  1470788700  Aug 10, 03:25          2  1470795900  Aug 10, 05:25\n",
      " 200200206771  1470933101  Aug 11, 19:31          2  1470910140  Aug 11, 13:09\n",
      " 200200090015  1470937241  Aug 11, 20:40          2  1470927600  Aug 11, 18:00\n",
      " 200200206364  1470866400  Aug 11, 01:00          2  1470870000  Aug 11, 02:00\n",
      " 200200250979  1470906000  Aug 11, 12:00          2  1470909600  Aug 11, 13:00\n",
      " 200200206410  1470932604  Aug 11, 19:23          2  1470927600  Aug 11, 18:00\n",
      "\n",
      "Распределение по состояниям:\n",
      "2    284\n",
      "         team st_from_name  st_to_name   time_start_f     time_end_f  state loco\n",
      " 200200224244   НОВАЯ ЧАРА  НОВАЯ ЧАРА  Aug 10, 22:09  Aug 11, 00:00      2   -1\n"
     ]
    },
    {
     "data": {
      "image/png": "[encoded data removed]",
      "text/plain": [
       "<matplotlib.figure.Figure at 0x1b19404e3c8>"
      ]
     },
     "metadata": {},
     "output_type": "display_data"
    }
   ],
   "source": [
    "real_pres = team_info[team_info.state.isin(['1', '2', '5'])][['team', 'presence', 'presence_norm']]\n",
    "a = team_plan[(team_plan.state == 2) & (team_plan.team.isin(real_pres.team))].drop_duplicates('team')\n",
    "real_pres_fail = a[a.time_start != a.presence][['team', 'time_start', 'time_start_f', 'state_info', 'presence', 'presence_norm']]\n",
    "if real_pres_fail.empty:\n",
    "    add_header('Для всех бригад в состояниях 1, 2, 5 явки запланированы верно')\n",
    "else:\n",
    "    add_header('Всего %d бригад в состояниях 1, 2, 5, для которых возвращена неверная первая явка. Примеры:' \n",
    "               % real_pres_fail.team.count())\n",
    "    add_line(real_pres_fail.head(10))\n",
    "    add_line('\\nРаспределение по состояниям:')\n",
    "    add_line(real_pres_fail.state_info.value_counts())\n",
    "    team_id = real_pres_fail.iloc[0].team\n",
    "    cols = ['team', 'st_from_name', 'st_to_name', 'time_start_f', 'time_end_f', 'state', 'loco']\n",
    "    add_line(team_plan[team_plan.team == team_id][cols])\n",
    "    real_pres_fail['ready_delta'] = real_pres_fail.time_start - real_pres_fail.presence\n",
    "    fig = plt.figure(figsize=(8, 3))    \n",
    "    #fig = plt.figure()\n",
    "    sns.set(style='whitegrid', context='notebook')\n",
    "    sns.kdeplot(real_pres_fail.ready_delta / 3600)\n",
    "    plt.xlabel('Запаздывание времени явки, ч. (среднее = %.2f ч.)' % np.mean(real_pres_fail.ready_delta / 3600))\n",
    "    filename = 'team125_ready_late.png'\n",
    "    fig.savefig(REPORT_FOLDER + filename, bbox_inches='tight')\n",
    "    add_image(filename)"
   ]
  },
  {
   "cell_type": "markdown",
   "metadata": {},
   "source": [
    "Для бригад в начальных состояниях 6 (прибыла на станцию с локомотивом), 7 (прибыла на станцию пассажиром), 9 (сдача локомотива) проверяем, запланирован ли далее для бригады отдых. Если отдых запланирован, то не сравниваем время явки с исходным - оно будет задано вновь после отдыха. Если отдых не запланирован, то явка должна быть возвращена."
   ]
  },
  {
   "cell_type": "code",
   "execution_count": 476,
   "metadata": {
    "collapsed": false
   },
   "outputs": [
    {
     "name": "stdout",
     "output_type": "stream",
     "text": [
      "Для всех бригад в состояниях 6, 7, 9 запланированы требуемые явки\n",
      "\n",
      "Всего 12 бригад в состояниях 6, 7, 9, для которых возвращена неверная первая явка. Примеры:\n",
      "         team  time_start   time_start_f state_info    presence  presence_norm\n",
      " 200200105777  1470942360  Aug 11, 22:06          6  1470899400  Aug 11, 10:10\n",
      " 200200216511  1470942259  Aug 11, 22:04          6  1470919500  Aug 11, 15:45\n",
      " 200200277392  1470941400  Aug 11, 21:50          6  1470912300  Aug 11, 13:45\n",
      " 200200260678  1470962718  Aug 12, 03:45          6  1470904500  Aug 11, 11:35\n",
      " 200200249784  1470966660  Aug 12, 04:51          6  1470887400  Aug 11, 06:50\n",
      "\n",
      "Распределение по состояниям:\n",
      "6    12\n",
      "         team         st_from_name           st_to_name   time_start_f     time_end_f  state          loco\n",
      " 200200105777                 ЗИМА                 ЗИМА  Aug 11, 10:10  Aug 11, 10:50      2            -1\n",
      " 200200105777            СУХОВСКАЯ                МЕГЕТ  Aug 11, 20:51  Aug 11, 21:00      0            -1\n",
      " 200200105777                МЕГЕТ           БАТАРЕЙНАЯ  Aug 11, 21:00  Aug 11, 21:06      0            -1\n",
      " 200200105777           БАТАРЕЙНАЯ  ИРКУТСК-СОРТИРОВ...  Aug 11, 21:06  Aug 11, 21:16      0            -1\n",
      " 200200105777  ИРКУТСК-СОРТИРОВ...  ИРКУТСК-СОРТИРОВ...  Aug 11, 22:06  Aug 12, 00:00      2            -1\n",
      " 200200105777  ИРКУТСК-СОРТИРОВ...            ГОНЧАРОВО  Aug 12, 00:00  Aug 12, 00:31      1  200200097969\n",
      " 200200105777            ГОНЧАРОВО          БОЛЬШОЙ ЛУГ  Aug 12, 00:31  Aug 12, 01:15      1  200200097969\n",
      " 200200105777          БОЛЬШОЙ ЛУГ        АНДРИАНОВСКАЯ  Aug 12, 01:15  Aug 12, 02:21      1  200200097969\n",
      " 200200105777        АНДРИАНОВСКАЯ            АНГАСОЛКА  Aug 12, 02:21  Aug 12, 02:35      1  200200097969\n",
      " 200200105777            АНГАСОЛКА          СЛЮДЯНКА II  Aug 12, 02:35  Aug 12, 03:02      1  200200097969\n",
      " 200200105777          СЛЮДЯНКА II           СЛЮДЯНКА I  Aug 12, 03:02  Aug 12, 03:11      1  200200097969\n",
      " 200200105777           СЛЮДЯНКА I          СЛЮДЯНКА II  Aug 12, 04:45  Aug 12, 04:55      1  200200095360\n",
      " 200200105777          СЛЮДЯНКА II            АНГАСОЛКА  Aug 12, 04:55  Aug 12, 05:21      1  200200095360\n",
      " 200200105777            АНГАСОЛКА        АНДРИАНОВСКАЯ  Aug 12, 05:21  Aug 12, 05:35      1  200200095360\n",
      " 200200105777        АНДРИАНОВСКАЯ          БОЛЬШОЙ ЛУГ  Aug 12, 05:35  Aug 12, 06:45      1  200200095360\n",
      " 200200105777          БОЛЬШОЙ ЛУГ            ГОНЧАРОВО  Aug 12, 06:45  Aug 12, 07:03      1  200200095360\n",
      " 200200105777            ГОНЧАРОВО  ИРКУТСК-СОРТИРОВ...  Aug 12, 07:03  Aug 12, 07:31      1  200200095360\n"
     ]
    },
    {
     "data": {
      "image/png": "[encoded data removed]",
      "text/plain": [
       "<matplotlib.figure.Figure at 0x1b1909122b0>"
      ]
     },
     "metadata": {},
     "output_type": "display_data"
    }
   ],
   "source": [
    "real_pres = team_info[team_info.state.isin(['6', '7', '9'])]\n",
    "tp = team_plan[(team_plan.team.isin(real_pres.team)) & (team_plan.all_states.apply(lambda x: 4 not in x))]\n",
    "tp_no_ready = tp[tp.all_states.apply(lambda x: 2 not in x)]\n",
    "if tp_no_ready.empty:\n",
    "    add_header('Для всех бригад в состояниях 6, 7, 9 запланированы требуемые явки')\n",
    "else:\n",
    "    add_header('Для %d бригад в исходных состояниях 6, 7, 9 не запланированы явки. Примеры:' \n",
    "               % tp_no_ready.drop_duplicates('team').team.count())\n",
    "    add_line(tp_no_ready.drop_duplicates('team')[['team', 'loc_name', 'state_info', 'all_states']].head())    \n",
    "    add_line('\\nРаспределение по состояниям:')\n",
    "    add_line(tp_no_ready.drop_duplicates('team').state_info.value_counts())\n",
    "    cols = ['team', 'st_from_name', 'st_to_name', 'time_start_f', 'time_end_f', 'state', 'loco']\n",
    "    team_id = tp_no_ready.iloc[0].team\n",
    "    add_line(team_plan[team_plan.team == team_id][cols])\n",
    "    \n",
    "tp_ready_time_fail = tp[(tp.state == 2) & (tp.time_start != tp.presence)].drop_duplicates('team')\n",
    "if tp_ready_time_fail.empty:\n",
    "    add_header('Для всех бригад в состояниях 6, 7, 9 явки запланированы верно')\n",
    "else:\n",
    "    add_header('\\nВсего %d бригад в состояниях 6, 7, 9, для которых возвращена неверная первая явка. Примеры:' \n",
    "               % tp_ready_time_fail.team.count())\n",
    "    cols = ['team', 'time_start', 'time_start_f', 'state_info', 'presence', 'presence_norm']\n",
    "    add_line(tp_ready_time_fail[cols].head())\n",
    "    add_line('\\nРаспределение по состояниям:')\n",
    "    add_line(tp_ready_time_fail.state_info.value_counts())\n",
    "    cols = ['team', 'st_from_name', 'st_to_name', 'time_start_f', 'time_end_f', 'state', 'loco']\n",
    "    team_id = tp_ready_time_fail.iloc[0].team\n",
    "    add_line(team_plan[team_plan.team == team_id][cols])\n",
    "    fig = plt.figure(figsize=(8, 3))            \n",
    "    sns.kdeplot(real_pres_fail.ready_delta / 3600)\n",
    "    plt.xlabel('Запаздывание времени явки, ч. (среднее = %.2f ч.)' % np.mean(real_pres_fail.ready_delta / 3600))\n",
    "    filename = 'team679_ready_late.png'\n",
    "    fig.savefig(REPORT_FOLDER + filename, bbox_inches='tight')\n",
    "    add_image(filename)"
   ]
  },
  {
   "cell_type": "code",
   "execution_count": 477,
   "metadata": {
    "collapsed": false
   },
   "outputs": [
    {
     "name": "stdout",
     "output_type": "stream",
     "text": [
      "Для всех бригад в состояниях 3, 4 запланированы требуемые явки\n"
     ]
    }
   ],
   "source": [
    "tp = team_plan[(team_plan.state_info.isin(['3', '4'])) & (team_plan.all_states.apply(lambda x: (x[0] != 0) & (1 in x)))]\n",
    "tp_no_ready = tp[tp.all_states.apply(lambda x: 2 not in x)]\n",
    "if tp_no_ready.empty:\n",
    "    add_header('Для всех бригад в состояниях 3, 4 запланированы требуемые явки')\n",
    "else:\n",
    "    add_header('Для %d бригад в исходных состояниях 3, 4 не запланированы явки. Примеры:' \n",
    "               % tp_no_ready.drop_duplicates('team').team.count())\n",
    "    add_line(tp_no_ready.drop_duplicates('team')[['team', 'loc_name', 'state_info', 'all_states']].head())    \n",
    "    add_line('\\nРаспределение по состояниям:')\n",
    "    add_line(tp_no_ready.drop_duplicates('team').state_info.value_counts())\n",
    "    cols = ['team', 'st_from_name', 'st_to_name', 'time_start_f', 'time_end_f', 'state', 'loco']\n",
    "    team_id = tp_no_ready.iloc[0].team\n",
    "    add_line(team_plan[team_plan.team == team_id][cols])"
   ]
  },
  {
   "cell_type": "code",
   "execution_count": 478,
   "metadata": {
    "collapsed": false
   },
   "outputs": [
    {
     "name": "stdout",
     "output_type": "stream",
     "text": [
      "Для 347 фейковых бригад не запланированы явки. Примеры:\n",
      "         team loc_name state_info all_states\n",
      " 777700019641      NaN        NaN  [1, 4, 0]\n",
      " 777700019648      NaN        NaN        [1]\n",
      " 777700019650      NaN        NaN  [1, 4, 0]\n",
      " 777700019653      NaN        NaN  [1, 4, 0]\n",
      " 777700019652      NaN        NaN  [1, 4, 0]\n",
      "         team st_from_name st_to_name   time_start_f     time_end_f  state          loco\n",
      " 777700019641     ИЛАНСКАЯ  ЗАОЗЕРНАЯ  Aug 12, 08:06  Aug 12, 10:05      1  200200079854\n",
      " 777700019641    ЗАОЗЕРНАЯ        УЯР  Aug 12, 10:05  Aug 12, 10:46      1  200200079854\n",
      " 777700019641          УЯР    КИЛЬЧУГ  Aug 12, 12:30  Aug 12, 13:40      1  200200099573\n",
      " 777700019641      КИЛЬЧУГ   САЯНСКАЯ  Aug 12, 13:40  Aug 12, 13:58      1  200200099573\n",
      " 777700019641     САЯНСКАЯ   САЯНСКАЯ  Aug 12, 14:28  Aug 12, 18:48      4            -1\n",
      " 777700019641     САЯНСКАЯ    КИЛЬЧУГ  Aug 12, 18:48  Aug 12, 19:45      0            -1\n",
      " 777700019641      КИЛЬЧУГ        УЯР  Aug 12, 19:45  Aug 12, 20:32      0            -1\n",
      " 777700019641          УЯР  ЗАОЗЕРНАЯ  Aug 12, 20:32  Aug 12, 21:11      0            -1\n",
      " 777700019641    ЗАОЗЕРНАЯ   ИЛАНСКАЯ  Aug 12, 21:11  Aug 12, 23:09      0            -1\n"
     ]
    }
   ],
   "source": [
    "tp = team_plan[(team_plan.team_type == 'Фейковая') & (team_plan.all_states.apply(lambda x: (x[0] != 0) & (1 in x)))]\n",
    "tp_no_ready = tp[tp.all_states.apply(lambda x: 2 not in x)]\n",
    "if tp_no_ready.empty:\n",
    "    add_header('Для всех фейковых бригад запланированы требуемые явки')\n",
    "else:\n",
    "    add_header('Для %d фейковых бригад не запланированы явки. Примеры:' \n",
    "               % tp_no_ready.drop_duplicates('team').team.count())\n",
    "    add_line(tp_no_ready.drop_duplicates('team')[['team', 'loc_name', 'state_info', 'all_states']].head())        \n",
    "    cols = ['team', 'st_from_name', 'st_to_name', 'time_start_f', 'time_end_f', 'state', 'loco']\n",
    "    team_id = tp_no_ready.iloc[0].team\n",
    "    add_line(team_plan[team_plan.team == team_id][cols])"
   ]
  },
  {
   "cell_type": "markdown",
   "metadata": {},
   "source": [
    "[ToC](#toc)\n",
    "## Проверка планирования УТХ бригад\n",
    "\n",
    "Если для какого-то депо приписки переданы бригады с признаком `uth(1)`, то такие бригады должны планироваться в первую очередь, и только после них должны планироваться бригады с признаком `uth(0)`. Для бригад с признаком `uth(0)` должен производиться сдвиг явки на время после максимального времени явки бригад с `uth(1)` для данного депо. Если бригад с `uth(1)` для данного депо не передано, то сдвиг производить не требуется."
   ]
  },
  {
   "cell_type": "code",
   "execution_count": 479,
   "metadata": {
    "collapsed": true
   },
   "outputs": [],
   "source": [
    "add_header('Проверка планирования УТХ-бригад', h=2, p=False)"
   ]
  },
  {
   "cell_type": "markdown",
   "metadata": {},
   "source": [
    "### УТХ-бригады должны планироваться раньше не-УТХ бригад, начальное состояние которых = 3"
   ]
  },
  {
   "cell_type": "code",
   "execution_count": 480,
   "metadata": {
    "collapsed": false
   },
   "outputs": [
    {
     "name": "stdout",
     "output_type": "stream",
     "text": [
      "Aug 11, 19:31\n",
      "Всего 173 не-УТХ-бригад (43.03%), которые отправлены ранее самой поздней УТХ-бригады\n",
      "-- из них 2 бригад, у которых место явки не совпадает с депо приписки\n",
      "\n",
      "Распределение по депо (первые 5):\n",
      "МОГОЧА       20\n",
      "ХИЛОК        15\n",
      "ЧИТА I       13\n",
      "РУЖИНО       12\n",
      "ВИХОРЕВКА    11\n",
      "УССУРИЙСК    10\n",
      "УЛАН-УДЭ     10\n",
      "ТЫНДА         9\n",
      "АБАКАН        8\n",
      "ТАЙШЕТ        8\n",
      "\n",
      "Примеры бригад (первые 10 по времени отправления):\n",
      "         team           depot_name         st_from_name   st_to_name   time_start_f  state uth_plan_max_time_f uth_ready_max_time_f\n",
      " 200200224130               РУЖИНО               РУЖИНО     ШМАКОВКА  Aug 13, 09:33      1       Aug 13, 18:45        Aug 12, 17:24\n",
      " 200200216523  ИРКУТСК-СОРТИРОВ...  ИРКУТСК-СОРТИРОВ...   БАТАРЕЙНАЯ  Aug 13, 02:10      0       Aug 22, 05:15        Aug 12, 17:57\n",
      " 200200224181               МОГОЧА               МОГОЧА  КСЕНЬЕВСКАЯ  Aug 12, 20:10      1       Aug 14, 19:27        Aug 12, 12:00\n",
      " 200200206748  ЧЕРНЫШЕВСК-ЗАБАЙ...  ЧЕРНЫШЕВСК-ЗАБАЙ...      ЖИРЕКЕН  Aug 12, 17:30      1       Aug 12, 18:35        Aug 12, 06:48\n",
      " 200200224043            ВИХОРЕВКА            ВИХОРЕВКА        ТУРМА  Aug 13, 00:30      1       Aug 13, 03:58        Aug 12, 16:07\n",
      " 200200074419                БОРЗЯ                БОРЗЯ    ЗУН-ТОРЕЙ  Aug 12, 22:10      1       Aug 13, 03:04        Aug 12, 17:10\n",
      " 200200259945                ХИЛОК                ХИЛОК       МОГЗОН  Aug 12, 19:50      0       Aug 12, 20:10        Aug 12, 12:55\n",
      " 200200206393  ИРКУТСК-СОРТИРОВ...  ИРКУТСК-СОРТИРОВ...   БАТАРЕЙНАЯ  Aug 12, 23:30      1       Aug 22, 05:15        Aug 12, 17:57\n",
      " 200200112348                ХИЛОК                ХИЛОК       МОГЗОН  Aug 12, 18:58      0       Aug 12, 20:10        Aug 12, 12:55\n",
      " 200200120966               ТАЙШЕТ               ТАЙШЕТ         ЮРТЫ  Aug 12, 20:59      1       Aug 13, 07:40        Aug 12, 12:34\n"
     ]
    }
   ],
   "source": [
    "print(nice_time(current_time))\n",
    "uth_depots = team_info[team_info.uth == 1].depot.unique()\n",
    "cols = ['team', 'depot_name', 'uth', 'time_start_f', 'state']\n",
    "\n",
    "t_ready_max = team_info[(team_info.uth == 1)].groupby('depot').presence.max()\n",
    "t_plan_max = team_plan[(team_plan.uth == 1) \n",
    "                       & (team_plan.state.isin([0, 1]))].drop_duplicates('team').groupby('depot').time_start.max()\n",
    "team_plan['uth_plan_max_time'] = team_plan.depot.map(t_plan_max)\n",
    "team_plan['uth_plan_max_time_f'] = team_plan.uth_plan_max_time.apply(nice_time)\n",
    "team_plan['uth_ready_max_time'] = team_plan.depot.map(t_ready_max)\n",
    "team_plan['uth_ready_max_time_f'] = team_plan.uth_ready_max_time.apply(nice_time)\n",
    "cols = ['team', 'depot_name', 'st_from_name', 'st_to_name', 'time_start_f', 'state', \n",
    "        'uth_plan_max_time_f', 'uth_ready_max_time_f']\n",
    "t_uth_soft_fail = team_plan[(team_plan.uth == 0) & (team_plan.state_info == '3') & (team_plan.depot.isin(uth_depots))\n",
    "                      & (team_plan.state.isin([0, 1])) & (team_plan.time_start < team_plan.uth_plan_max_time)\n",
    "                      & (team_plan.depot_name == team_plan.loc_name)].drop_duplicates('team')\n",
    "t_uth_hard_fail = team_plan[(team_plan.uth == 0) & (team_plan.state_info == '3') & (team_plan.depot.isin(uth_depots))\n",
    "                      & (team_plan.state.isin([0, 1])) & (team_plan.time_start < team_plan.uth_ready_max_time)\n",
    "                      & (team_plan.depot_name == team_plan.loc_name)].drop_duplicates('team')\n",
    "\n",
    "total_uth_depots = team_plan[(team_plan.uth == 0) & (team_plan.state_info == '3') \n",
    "                             & (team_plan.depot.isin(uth_depots))].team.drop_duplicates().count()\n",
    "\n",
    "t_uth_fail_diff_depot_n = t_uth_soft_fail[t_uth_soft_fail.depot_name != t_uth_soft_fail.st_from_name].team.count()\n",
    "\n",
    "if t_uth_soft_fail.empty:\n",
    "    add_header('Нет случаев, когда не-УТХ-бригада планируется раньше УТХ-бригады')\n",
    "else:\n",
    "    add_header('Всего %d не-УТХ-бригад (%.2f%%), которые отправлены ранее самой поздней УТХ-бригады' \n",
    "               % (t_uth_soft_fail.team.count(), 100 * t_uth_soft_fail.team.count() / total_uth_depots))\n",
    "    add_header('-- из них %d бригад, у которых место явки не совпадает с депо приписки' % t_uth_fail_diff_depot_n)\n",
    "    add_line('\\nРаспределение по депо (первые 5):')\n",
    "    add_line(t_uth_soft_fail.depot_name.value_counts().head(10))\n",
    "    add_line('\\nПримеры бригад (первые 10 по времени отправления):')\n",
    "    add_line(t_uth_soft_fail[t_uth_soft_fail.depot_name == t_uth_soft_fail.st_from_name].head(10)[cols])    "
   ]
  },
  {
   "cell_type": "code",
   "execution_count": 481,
   "metadata": {
    "collapsed": false
   },
   "outputs": [
    {
     "name": "stdout",
     "output_type": "stream",
     "text": [
      "Всего 1 не-УТХ-бригад (0.25%), которые отправлены ранее самой поздней явки УТХ-бригады\n",
      "-- из них 2 бригад, у которых место явки не совпадает с депо приписки\n",
      "\n",
      "Распределение по депо (первые 5):\n",
      "УССУРИЙСК    1\n",
      "\n",
      "Примеры бригад (первые 10 по времени отправления):\n",
      "         team depot_name st_from_name   st_to_name   time_start_f  state uth_plan_max_time_f uth_ready_max_time_f\n",
      " 200200282913  УССУРИЙСК    УССУРИЙСК  БАРАНОВСКИЙ  Aug 12, 12:05      1       Aug 12, 20:30        Aug 12, 15:15\n"
     ]
    }
   ],
   "source": [
    "if t_uth_hard_fail.empty:\n",
    "    add_header('Нет случаев, когда не-УТХ-бригада планируется раньше явки УТХ-бригады')\n",
    "else:\n",
    "    add_header('Всего %d не-УТХ-бригад (%.2f%%), которые отправлены ранее самой поздней явки УТХ-бригады' \n",
    "               % (t_uth_hard_fail.team.count(), 100 * t_uth_hard_fail.team.count() / total_uth_depots))\n",
    "    add_header('-- из них %d бригад, у которых место явки не совпадает с депо приписки' % t_uth_fail_diff_depot_n)\n",
    "    add_line('\\nРаспределение по депо (первые 5):')\n",
    "    add_line(t_uth_hard_fail.depot_name.value_counts().head(10))\n",
    "    add_line('\\nПримеры бригад (первые 10 по времени отправления):')\n",
    "    add_line(t_uth_hard_fail[t_uth_hard_fail.depot_name == t_uth_hard_fail.st_from_name].head(10)[cols])    "
   ]
  },
  {
   "cell_type": "markdown",
   "metadata": {},
   "source": [
    "### Проверка УТХ-бригад по одной станции"
   ]
  },
  {
   "cell_type": "code",
   "execution_count": 482,
   "metadata": {
    "collapsed": true
   },
   "outputs": [],
   "source": [
    "#st_name = 'ИРКУТСК-СОРТИРОВОЧНЫЙ'\n",
    "st_name = 'СЛЮДЯНКА I'"
   ]
  },
  {
   "cell_type": "code",
   "execution_count": 483,
   "metadata": {
    "collapsed": true
   },
   "outputs": [],
   "source": [
    "add_header('Проверка УТХ-бригад по депо %s' % st_name, h=2, p=False)"
   ]
  },
  {
   "cell_type": "code",
   "execution_count": 484,
   "metadata": {
    "collapsed": false
   },
   "outputs": [],
   "source": [
    "team_info['depot_name'] = team_info.depot.map(st_names.name)\n",
    "\n",
    "#team_info.columns\n",
    "team_info['plan_start_time'] = team_info.team\\\n",
    "                        .map(team_plan[team_plan.state.isin([0, 1])].drop_duplicates('team').set_index('team').time_start)\n",
    "team_info['plan_start_time_f'] = team_info['plan_start_time'].apply(nice_time)"
   ]
  },
  {
   "cell_type": "code",
   "execution_count": 485,
   "metadata": {
    "collapsed": false
   },
   "outputs": [
    {
     "name": "stdout",
     "output_type": "stream",
     "text": [
      "Все УТХ-бригады из депо СЛЮДЯНКА I (29):\n",
      "         team  depot_name  uth state is_assign  presence_norm plan_start_time_f\n",
      " 200200260408  СЛЮДЯНКА I    1     8     False  Aug 11, 10:30                  \n",
      " 200200251109  СЛЮДЯНКА I    1     1      True  Aug 11, 13:10     Aug 11, 19:15\n",
      " 200200165310  СЛЮДЯНКА I    1     0     False  Aug 11, 15:50                  \n",
      " 200200233468  СЛЮДЯНКА I    1     1      True  Aug 11, 18:30     Aug 11, 19:04\n",
      " 200200281158  СЛЮДЯНКА I    1     3      True  Aug 11, 21:18     Aug 13, 00:29\n",
      " 200200254924  СЛЮДЯНКА I    1     3     False  Aug 11, 21:18                  \n",
      " 200200220332  СЛЮДЯНКА I    1     3      True  Aug 11, 21:18     Aug 16, 20:51\n",
      " 200200214542  СЛЮДЯНКА I    1     3      True  Aug 11, 21:18     Aug 13, 02:34\n",
      " 200200220311  СЛЮДЯНКА I    1     3      True  Aug 11, 21:18     Aug 14, 04:00\n",
      " 200200262615  СЛЮДЯНКА I    1     3     False  Aug 11, 21:42                  \n",
      " 200200198214  СЛЮДЯНКА I    1     3     False  Aug 12, 01:58                  \n",
      " 200200255277  СЛЮДЯНКА I    1     3     False  Aug 12, 09:18                  \n",
      " 200200253812  СЛЮДЯНКА I    1     3     False  Aug 12, 09:18                  \n",
      " 200200196557  СЛЮДЯНКА I    1     3     False  Aug 12, 09:18                  \n",
      " 200200214556  СЛЮДЯНКА I    1     3     False  Aug 12, 09:18                  \n",
      " 200200160879  СЛЮДЯНКА I    1     3     False  Aug 12, 09:18                  \n",
      " 200200167704  СЛЮДЯНКА I    1     3      True  Aug 12, 09:18     Aug 12, 14:43\n",
      " 200200183952  СЛЮДЯНКА I    1     3     False  Aug 12, 09:42                  \n",
      " 200200266267  СЛЮДЯНКА I    1     3     False  Aug 12, 09:42                  \n",
      " 200200245500  СЛЮДЯНКА I    1     3     False  Aug 12, 11:01                  \n",
      " 200200273236  СЛЮДЯНКА I    1     3     False  Aug 12, 12:34                  \n",
      " 200200247336  СЛЮДЯНКА I    1     3     False  Aug 12, 12:38                  \n",
      " 200200223542  СЛЮДЯНКА I    1     3      True  Aug 12, 13:40     Aug 13, 17:26\n",
      " 200200254156  СЛЮДЯНКА I    1     3     False  Aug 12, 13:50                  \n",
      " 200200255240  СЛЮДЯНКА I    1     3     False  Aug 12, 14:39                  \n",
      " 200200274815  СЛЮДЯНКА I    1     3     False  Aug 12, 14:56                  \n",
      " 200200146808  СЛЮДЯНКА I    1     3     False  Aug 12, 15:18                  \n",
      " 200200161796  СЛЮДЯНКА I    1     3     False  Aug 12, 17:18                  \n",
      " 200200105100  СЛЮДЯНКА I    1     3     False  Aug 12, 17:57                  \n",
      "Максимальное время явки УТХ-бригад депо СЛЮДЯНКА I: Aug 12, 17:57\n",
      "Максимальное время отправления УТХ-бригад депо СЛЮДЯНКА I: Aug 16, 20:51\n"
     ]
    }
   ],
   "source": [
    "irk_uth = team_info[(team_info.depot_name == st_name) & (team_info.uth == 1)]\n",
    "add_header('Все УТХ-бригады из депо %s (%d):' % (st_name, irk_uth.team.count()))\n",
    "cols = ['team', 'depot_name', 'uth', 'state', 'is_assign', 'presence_norm', 'plan_start_time_f']\n",
    "pd.set_option('display.max_colwidth', 50)\n",
    "add_line(irk_uth.sort_values('presence')[cols])\n",
    "t_max = irk_uth.presence.max()\n",
    "t_plan_max = irk_uth.plan_start_time.max()\n",
    "add_line('Максимальное время явки УТХ-бригад депо %s: %s' % (st_name, nice_time(t_max)))\n",
    "add_line('Максимальное время отправления УТХ-бригад депо %s: %s' % (st_name, nice_time(t_plan_max)))"
   ]
  },
  {
   "cell_type": "code",
   "execution_count": 486,
   "metadata": {
    "collapsed": false
   },
   "outputs": [
    {
     "data": {
      "text/plain": [
       "СЛЮДЯНКА I    38\n",
       "Name: loc_name, dtype: int64"
      ]
     },
     "execution_count": 486,
     "metadata": {},
     "output_type": "execute_result"
    }
   ],
   "source": [
    "cols = ['team', 'depot_name', 'depot_st_name', 'uth', 'state', 'loc_name', 'is_assign', 'presence_norm', 'plan_start_time_f']\n",
    "irk_no_uth = team_info[(team_info.depot_name == st_name) & (team_info.uth == 0) & (team_info.state == '3')]\n",
    "irk_no_uth.loc_name.value_counts()"
   ]
  },
  {
   "cell_type": "code",
   "execution_count": 487,
   "metadata": {
    "collapsed": false
   },
   "outputs": [
    {
     "name": "stdout",
     "output_type": "stream",
     "text": [
      "True\n",
      "False\n"
     ]
    }
   ],
   "source": [
    "print(irk_no_uth[irk_no_uth.loc_name == irk_no_uth.depot_name].plan_start_time.min() > t_max)\n",
    "print(irk_no_uth[irk_no_uth.loc_name == irk_no_uth.depot_name].plan_start_time.min() > t_plan_max)"
   ]
  },
  {
   "cell_type": "code",
   "execution_count": 488,
   "metadata": {
    "collapsed": false
   },
   "outputs": [
    {
     "data": {
      "text/html": [
       "<div>\n",
       "<table border=\"1\" class=\"dataframe\">\n",
       "  <thead>\n",
       "    <tr style=\"text-align: right;\">\n",
       "      <th></th>\n",
       "      <th>team</th>\n",
       "      <th>depot_name</th>\n",
       "      <th>depot_st_name</th>\n",
       "      <th>uth</th>\n",
       "      <th>state</th>\n",
       "      <th>loc_name</th>\n",
       "      <th>is_assign</th>\n",
       "      <th>presence_norm</th>\n",
       "      <th>plan_start_time_f</th>\n",
       "    </tr>\n",
       "  </thead>\n",
       "  <tbody>\n",
       "  </tbody>\n",
       "</table>\n",
       "</div>"
      ],
      "text/plain": [
       "Empty DataFrame\n",
       "Columns: [team, depot_name, depot_st_name, uth, state, loc_name, is_assign, presence_norm, plan_start_time_f]\n",
       "Index: []"
      ]
     },
     "execution_count": 488,
     "metadata": {},
     "output_type": "execute_result"
    }
   ],
   "source": [
    "irk_no_uth[irk_no_uth.loc_name != irk_no_uth.depot_name][cols]"
   ]
  },
  {
   "cell_type": "code",
   "execution_count": 489,
   "metadata": {
    "collapsed": false
   },
   "outputs": [
    {
     "name": "stdout",
     "output_type": "stream",
     "text": [
      "Все запланированные бригады, отправленные со станции СЛЮДЯНКА I из начального state = 3\n",
      "         team st_from_name    loc_name  state  presence_norm   time_start_f  uth   delta\n",
      " 200200038889   СЛЮДЯНКА I  СЛЮДЯНКА I      1  Aug 11, 16:17  Aug 12, 22:45    0  109680\n",
      " 200200248159   СЛЮДЯНКА I  СЛЮДЯНКА I      1  Aug 11, 16:22  Aug 12, 23:17    0  111320\n",
      " 200200281158   СЛЮДЯНКА I  СЛЮДЯНКА I      1  Aug 11, 21:18  Aug 13, 00:29    1   97860\n",
      " 200200261358   СЛЮДЯНКА I  СЛЮДЯНКА I      1  Aug 11, 16:53  Aug 13, 01:33    0  117620\n",
      " 200200214542   СЛЮДЯНКА I  СЛЮДЯНКА I      1  Aug 11, 21:18  Aug 13, 02:34    1  105405\n",
      " 200200208350  СЛЮДЯНКА II  СЛЮДЯНКА I      1  Aug 11, 16:15  Aug 13, 03:58    0  128589\n",
      " 200200249276   СЛЮДЯНКА I  СЛЮДЯНКА I      1  Aug 11, 20:30  Aug 13, 10:57    0  138453\n",
      " 200200223542   СЛЮДЯНКА I  СЛЮДЯНКА I      1  Aug 12, 13:40  Aug 13, 17:26    1   99944\n",
      " 200200091032   СЛЮДЯНКА I  СЛЮДЯНКА I      1  Aug 11, 22:03  Aug 16, 19:49    0  424001\n",
      " 200200220332   СЛЮДЯНКА I  СЛЮДЯНКА I      1  Aug 11, 21:18  Aug 16, 20:51    1  430386\n",
      " 220200236710   СЛЮДЯНКА I  СЛЮДЯНКА I      1  Aug 11, 18:40  Aug 16, 21:52    0  443551\n",
      " 200200151636   СЛЮДЯНКА I  СЛЮДЯНКА I      1  Aug 11, 20:10  Aug 16, 22:53    0  441836\n",
      " 200200270140   СЛЮДЯНКА I  СЛЮДЯНКА I      1  Aug 11, 23:27  Aug 18, 10:04    0  556643\n",
      " 200200161651   СЛЮДЯНКА I  СЛЮДЯНКА I      1  Aug 11, 19:00  Aug 18, 23:44    0  621863\n",
      " 200200222513   СЛЮДЯНКА I  СЛЮДЯНКА I      1  Aug 11, 19:33  Aug 19, 00:04    0  621083\n"
     ]
    }
   ],
   "source": [
    "cols = ['team', 'st_from_name', 'loc_name', 'state', 'presence_norm', 'time_start_f', 'uth', 'delta']\n",
    "team_plan['delta'] = team_plan.time_start - team_plan.presence\n",
    "add_header('Все запланированные бригады, отправленные со станции %s из начального state = 3' % st_name)\n",
    "tp = team_plan[(team_plan.depot_name == st_name) \n",
    "          & (team_plan.state_info == '3') \n",
    "          & (team_plan.state.isin([0, 1]))\n",
    "          & (team_plan.loc_name == st_name)]\n",
    "add_line(tp.drop_duplicates('team').sort_values('time_start')[cols])"
   ]
  },
  {
   "cell_type": "code",
   "execution_count": 490,
   "metadata": {
    "collapsed": false
   },
   "outputs": [
    {
     "data": {
      "text/plain": [
       "count      4.000000\n",
       "mean      50.944097\n",
       "std       45.746916\n",
       "min       27.183333\n",
       "25%       27.617500\n",
       "50%       28.520694\n",
       "75%       51.847292\n",
       "max      119.551667\n",
       "Name: delta, dtype: float64"
      ]
     },
     "execution_count": 490,
     "metadata": {},
     "output_type": "execute_result"
    }
   ],
   "source": [
    "(tp[tp.uth == 1].drop_duplicates('team').delta / 3600).describe()"
   ]
  },
  {
   "cell_type": "markdown",
   "metadata": {},
   "source": [
    "### Для бригад из депо, по которым нет УТХ-бригад, не должно быть большого сдвига времени явки"
   ]
  },
  {
   "cell_type": "code",
   "execution_count": 491,
   "metadata": {
    "collapsed": false
   },
   "outputs": [
    {
     "name": "stdout",
     "output_type": "stream",
     "text": [
      "У 75% бригад из депо, по которым нет УТХ-бригад, разница между переданным и запланированным временем явки составляет меньше 2.96 ч. (это ОК)\n"
     ]
    }
   ],
   "source": [
    "team_plan['depot_time_f'] = team_plan.depot_time.apply(nice_time)\n",
    "ts = team_plan[(team_plan.uth == 0) & (team_plan.depot.isin(uth_depots) == False) & (team_plan.state_info == '3')].copy()\n",
    "ts['delta'] = ts.time_start - ts.depot_time\n",
    "cols = ['team', 'st_from_name', 'loc_name', 'depot_name', 'time_start_f', 'depot_time_f', 'delta']\n",
    "ts.drop_duplicates('team')[cols]\n",
    "delta75 = (ts.drop_duplicates('team').delta / 3600).describe()['75%']\n",
    "if delta75 < 5:\n",
    "    add_header('У 75% бригад из депо, по которым нет УТХ-бригад, разница между переданным и запланированным временем явки'\n",
    "              + ' составляет меньше %.2f ч. (это ОК)' % delta75)\n",
    "else:\n",
    "    add_header('WARNING: разница между планируемым и переданным временем явки у бригад из депо, по которым нет УТХ-бригад' +\n",
    "              'выглядит завышенной')\n",
    "    ts[ts.delta > 5].sort_values('delta', ascending=False).head(10)[cols]"
   ]
  },
  {
   "cell_type": "markdown",
   "metadata": {},
   "source": [
    "### План проверок порядка отправления бригад\n",
    "\n",
    "1. Взять станцию (Слюдянка - с ней проще, поскольку, вроде бы, нет бригад депо Слюдянка, которые находятся на других станциях), собрать все бригады, которые на начало планирования находились на этой станции.\n",
    "2. Собрать все бригады, у которых запланирован отдых на этой станции. Рассчитать время выхода с отдыха (можно грубо: +3 часа от времени прибытия).\n",
    "3. Выстроить эти бригады в порядке готовности к отправлению из Слюдянки. Нужные параметры: депо приписки, участки обкатки, время готовности.\n",
    "4. Составить список поездов (и их локомотивов), которые проходят через Слюдянку и у которых запланирована смена бригады в Слюдянке. Выстроить эти поезда по времени прибытия в Слюдянку.\n",
    "5. Сличить два списка. Найти случаи, когда бригады привязываются \"вразнобой\". Исследовать значения функций полезности. Найти распределение времен ожидания бригад, стоянок и пр."
   ]
  },
  {
   "cell_type": "code",
   "execution_count": 492,
   "metadata": {
    "collapsed": false
   },
   "outputs": [
    {
     "name": "stdout",
     "output_type": "stream",
     "text": [
      "         team      number    oper_time_f rest_time_f                           loc_name state          loco  ttype\n",
      " 200200224628  9205003856  Aug 11, 17:44              ИРКУТСК-СОРТИРОВОЧНЫЙ - ГОНЧАРОВО     1  200200079623      1\n"
     ]
    },
    {
     "data": {
      "text/html": [
       "<div>\n",
       "<table border=\"1\" class=\"dataframe\">\n",
       "  <thead>\n",
       "    <tr style=\"text-align: right;\">\n",
       "      <th></th>\n",
       "      <th>team</th>\n",
       "      <th>st_from_name</th>\n",
       "      <th>st_to_name</th>\n",
       "      <th>time_start_f</th>\n",
       "      <th>time_end_f</th>\n",
       "      <th>state</th>\n",
       "      <th>loco</th>\n",
       "    </tr>\n",
       "  </thead>\n",
       "  <tbody>\n",
       "    <tr>\n",
       "      <th>2178</th>\n",
       "      <td>200200224628</td>\n",
       "      <td>ИРКУТСК-СОРТИРОВОЧНЫЙ</td>\n",
       "      <td>ИРКУТСК-СОРТИРОВОЧНЫЙ</td>\n",
       "      <td>Aug 11, 17:40</td>\n",
       "      <td>Aug 11, 19:34</td>\n",
       "      <td>2</td>\n",
       "      <td>-1</td>\n",
       "    </tr>\n",
       "    <tr>\n",
       "      <th>2179</th>\n",
       "      <td>200200224628</td>\n",
       "      <td>ИРКУТСК-СОРТИРОВОЧНЫЙ</td>\n",
       "      <td>ГОНЧАРОВО</td>\n",
       "      <td>Aug 11, 17:44</td>\n",
       "      <td>Aug 11, 18:15</td>\n",
       "      <td>1</td>\n",
       "      <td>200200079623</td>\n",
       "    </tr>\n",
       "    <tr>\n",
       "      <th>2180</th>\n",
       "      <td>200200224628</td>\n",
       "      <td>ГОНЧАРОВО</td>\n",
       "      <td>БОЛЬШОЙ ЛУГ</td>\n",
       "      <td>Aug 11, 18:15</td>\n",
       "      <td>Aug 11, 18:58</td>\n",
       "      <td>1</td>\n",
       "      <td>200200079623</td>\n",
       "    </tr>\n",
       "    <tr>\n",
       "      <th>2181</th>\n",
       "      <td>200200224628</td>\n",
       "      <td>БОЛЬШОЙ ЛУГ</td>\n",
       "      <td>АНДРИАНОВСКАЯ</td>\n",
       "      <td>Aug 11, 18:58</td>\n",
       "      <td>Aug 11, 19:58</td>\n",
       "      <td>1</td>\n",
       "      <td>200200079623</td>\n",
       "    </tr>\n",
       "    <tr>\n",
       "      <th>2182</th>\n",
       "      <td>200200224628</td>\n",
       "      <td>АНДРИАНОВСКАЯ</td>\n",
       "      <td>АНГАСОЛКА</td>\n",
       "      <td>Aug 11, 19:58</td>\n",
       "      <td>Aug 11, 20:12</td>\n",
       "      <td>1</td>\n",
       "      <td>200200079623</td>\n",
       "    </tr>\n",
       "    <tr>\n",
       "      <th>2183</th>\n",
       "      <td>200200224628</td>\n",
       "      <td>АНГАСОЛКА</td>\n",
       "      <td>СЛЮДЯНКА II</td>\n",
       "      <td>Aug 11, 20:12</td>\n",
       "      <td>Aug 11, 20:37</td>\n",
       "      <td>1</td>\n",
       "      <td>200200079623</td>\n",
       "    </tr>\n",
       "    <tr>\n",
       "      <th>2184</th>\n",
       "      <td>200200224628</td>\n",
       "      <td>СЛЮДЯНКА II</td>\n",
       "      <td>СЛЮДЯНКА I</td>\n",
       "      <td>Aug 11, 20:37</td>\n",
       "      <td>Aug 11, 20:46</td>\n",
       "      <td>1</td>\n",
       "      <td>200200079623</td>\n",
       "    </tr>\n",
       "    <tr>\n",
       "      <th>2185</th>\n",
       "      <td>200200224628</td>\n",
       "      <td>СЛЮДЯНКА I</td>\n",
       "      <td>БАЙКАЛЬСК</td>\n",
       "      <td>Aug 11, 20:46</td>\n",
       "      <td>Aug 11, 21:37</td>\n",
       "      <td>1</td>\n",
       "      <td>200200079623</td>\n",
       "    </tr>\n",
       "    <tr>\n",
       "      <th>2186</th>\n",
       "      <td>200200224628</td>\n",
       "      <td>БАЙКАЛЬСК</td>\n",
       "      <td>МЫСОВАЯ</td>\n",
       "      <td>Aug 11, 21:37</td>\n",
       "      <td>Aug 11, 23:42</td>\n",
       "      <td>1</td>\n",
       "      <td>200200079623</td>\n",
       "    </tr>\n",
       "    <tr>\n",
       "      <th>2187</th>\n",
       "      <td>200200224628</td>\n",
       "      <td>МЫСОВАЯ</td>\n",
       "      <td>УЛАН-УДЭ</td>\n",
       "      <td>Aug 11, 23:42</td>\n",
       "      <td>Aug 12, 02:23</td>\n",
       "      <td>1</td>\n",
       "      <td>200200079623</td>\n",
       "    </tr>\n",
       "    <tr>\n",
       "      <th>2188</th>\n",
       "      <td>200200224628</td>\n",
       "      <td>УЛАН-УДЭ</td>\n",
       "      <td>УЛАН-УДЭ</td>\n",
       "      <td>Aug 12, 02:53</td>\n",
       "      <td>Aug 12, 07:15</td>\n",
       "      <td>4</td>\n",
       "      <td>-1</td>\n",
       "    </tr>\n",
       "    <tr>\n",
       "      <th>2189</th>\n",
       "      <td>200200224628</td>\n",
       "      <td>УЛАН-УДЭ</td>\n",
       "      <td>УЛАН-УДЭ</td>\n",
       "      <td>Aug 12, 08:08</td>\n",
       "      <td>Aug 12, 08:55</td>\n",
       "      <td>2</td>\n",
       "      <td>-1</td>\n",
       "    </tr>\n",
       "    <tr>\n",
       "      <th>2190</th>\n",
       "      <td>200200224628</td>\n",
       "      <td>УЛАН-УДЭ</td>\n",
       "      <td>ЗАУДИНСКИЙ</td>\n",
       "      <td>Aug 12, 08:55</td>\n",
       "      <td>Aug 12, 09:13</td>\n",
       "      <td>1</td>\n",
       "      <td>200200046434</td>\n",
       "    </tr>\n",
       "    <tr>\n",
       "      <th>2191</th>\n",
       "      <td>200200224628</td>\n",
       "      <td>ЗАУДИНСКИЙ</td>\n",
       "      <td>ТАЛЬЦЫ</td>\n",
       "      <td>Aug 12, 09:13</td>\n",
       "      <td>Aug 12, 09:21</td>\n",
       "      <td>1</td>\n",
       "      <td>200200046434</td>\n",
       "    </tr>\n",
       "    <tr>\n",
       "      <th>2192</th>\n",
       "      <td>200200224628</td>\n",
       "      <td>ТАЛЬЦЫ</td>\n",
       "      <td>ЧЕЛУТАЙ</td>\n",
       "      <td>Aug 12, 09:21</td>\n",
       "      <td>Aug 12, 10:15</td>\n",
       "      <td>1</td>\n",
       "      <td>200200046434</td>\n",
       "    </tr>\n",
       "    <tr>\n",
       "      <th>2193</th>\n",
       "      <td>200200224628</td>\n",
       "      <td>ЧЕЛУТАЙ</td>\n",
       "      <td>ГОРХОН</td>\n",
       "      <td>Aug 12, 10:15</td>\n",
       "      <td>Aug 12, 11:17</td>\n",
       "      <td>1</td>\n",
       "      <td>200200046434</td>\n",
       "    </tr>\n",
       "    <tr>\n",
       "      <th>2194</th>\n",
       "      <td>200200224628</td>\n",
       "      <td>ГОРХОН</td>\n",
       "      <td>КИЖА</td>\n",
       "      <td>Aug 12, 11:17</td>\n",
       "      <td>Aug 12, 11:52</td>\n",
       "      <td>1</td>\n",
       "      <td>200200046434</td>\n",
       "    </tr>\n",
       "    <tr>\n",
       "      <th>2195</th>\n",
       "      <td>200200224628</td>\n",
       "      <td>КИЖА</td>\n",
       "      <td>ПЕТРОВСКИЙ ЗАВОД</td>\n",
       "      <td>Aug 12, 11:52</td>\n",
       "      <td>Aug 12, 12:19</td>\n",
       "      <td>1</td>\n",
       "      <td>200200046434</td>\n",
       "    </tr>\n",
       "    <tr>\n",
       "      <th>2196</th>\n",
       "      <td>200200224628</td>\n",
       "      <td>ПЕТРОВСКИЙ ЗАВОД</td>\n",
       "      <td>ЖИПХЕГЕН</td>\n",
       "      <td>Aug 12, 12:19</td>\n",
       "      <td>Aug 12, 14:47</td>\n",
       "      <td>1</td>\n",
       "      <td>200200046434</td>\n",
       "    </tr>\n",
       "    <tr>\n",
       "      <th>2197</th>\n",
       "      <td>200200224628</td>\n",
       "      <td>ЖИПХЕГЕН</td>\n",
       "      <td>ХИЛОК</td>\n",
       "      <td>Aug 12, 14:47</td>\n",
       "      <td>Aug 12, 15:21</td>\n",
       "      <td>1</td>\n",
       "      <td>200200046434</td>\n",
       "    </tr>\n",
       "    <tr>\n",
       "      <th>2198</th>\n",
       "      <td>200200224628</td>\n",
       "      <td>ХИЛОК</td>\n",
       "      <td>ЖИПХЕГЕН</td>\n",
       "      <td>Aug 12, 16:29</td>\n",
       "      <td>Aug 12, 17:01</td>\n",
       "      <td>0</td>\n",
       "      <td>-1</td>\n",
       "    </tr>\n",
       "    <tr>\n",
       "      <th>2199</th>\n",
       "      <td>200200224628</td>\n",
       "      <td>ЖИПХЕГЕН</td>\n",
       "      <td>ПЕТРОВСКИЙ ЗАВОД</td>\n",
       "      <td>Aug 12, 17:01</td>\n",
       "      <td>Aug 12, 19:24</td>\n",
       "      <td>0</td>\n",
       "      <td>-1</td>\n",
       "    </tr>\n",
       "    <tr>\n",
       "      <th>2200</th>\n",
       "      <td>200200224628</td>\n",
       "      <td>ПЕТРОВСКИЙ ЗАВОД</td>\n",
       "      <td>КИЖА</td>\n",
       "      <td>Aug 12, 19:24</td>\n",
       "      <td>Aug 12, 19:56</td>\n",
       "      <td>0</td>\n",
       "      <td>-1</td>\n",
       "    </tr>\n",
       "    <tr>\n",
       "      <th>2201</th>\n",
       "      <td>200200224628</td>\n",
       "      <td>КИЖА</td>\n",
       "      <td>ГОРХОН</td>\n",
       "      <td>Aug 12, 19:56</td>\n",
       "      <td>Aug 12, 20:13</td>\n",
       "      <td>0</td>\n",
       "      <td>-1</td>\n",
       "    </tr>\n",
       "    <tr>\n",
       "      <th>2202</th>\n",
       "      <td>200200224628</td>\n",
       "      <td>ГОРХОН</td>\n",
       "      <td>ЧЕЛУТАЙ</td>\n",
       "      <td>Aug 12, 20:13</td>\n",
       "      <td>Aug 12, 20:53</td>\n",
       "      <td>0</td>\n",
       "      <td>-1</td>\n",
       "    </tr>\n",
       "    <tr>\n",
       "      <th>2203</th>\n",
       "      <td>200200224628</td>\n",
       "      <td>ЧЕЛУТАЙ</td>\n",
       "      <td>ТАЛЬЦЫ</td>\n",
       "      <td>Aug 12, 20:53</td>\n",
       "      <td>Aug 12, 21:44</td>\n",
       "      <td>0</td>\n",
       "      <td>-1</td>\n",
       "    </tr>\n",
       "    <tr>\n",
       "      <th>2204</th>\n",
       "      <td>200200224628</td>\n",
       "      <td>ТАЛЬЦЫ</td>\n",
       "      <td>ЗАУДИНСКИЙ</td>\n",
       "      <td>Aug 12, 21:44</td>\n",
       "      <td>Aug 12, 21:59</td>\n",
       "      <td>0</td>\n",
       "      <td>-1</td>\n",
       "    </tr>\n",
       "    <tr>\n",
       "      <th>2205</th>\n",
       "      <td>200200224628</td>\n",
       "      <td>ЗАУДИНСКИЙ</td>\n",
       "      <td>УЛАН-УДЭ</td>\n",
       "      <td>Aug 12, 21:59</td>\n",
       "      <td>Aug 12, 22:19</td>\n",
       "      <td>0</td>\n",
       "      <td>-1</td>\n",
       "    </tr>\n",
       "    <tr>\n",
       "      <th>2206</th>\n",
       "      <td>200200224628</td>\n",
       "      <td>УЛАН-УДЭ</td>\n",
       "      <td>МЫСОВАЯ</td>\n",
       "      <td>Aug 12, 22:19</td>\n",
       "      <td>Aug 13, 00:52</td>\n",
       "      <td>0</td>\n",
       "      <td>-1</td>\n",
       "    </tr>\n",
       "    <tr>\n",
       "      <th>2207</th>\n",
       "      <td>200200224628</td>\n",
       "      <td>МЫСОВАЯ</td>\n",
       "      <td>БАЙКАЛЬСК</td>\n",
       "      <td>Aug 13, 00:52</td>\n",
       "      <td>Aug 13, 03:01</td>\n",
       "      <td>0</td>\n",
       "      <td>-1</td>\n",
       "    </tr>\n",
       "    <tr>\n",
       "      <th>2208</th>\n",
       "      <td>200200224628</td>\n",
       "      <td>БАЙКАЛЬСК</td>\n",
       "      <td>СЛЮДЯНКА I</td>\n",
       "      <td>Aug 13, 03:01</td>\n",
       "      <td>Aug 13, 03:52</td>\n",
       "      <td>0</td>\n",
       "      <td>-1</td>\n",
       "    </tr>\n",
       "    <tr>\n",
       "      <th>2209</th>\n",
       "      <td>200200224628</td>\n",
       "      <td>СЛЮДЯНКА I</td>\n",
       "      <td>СЛЮДЯНКА II</td>\n",
       "      <td>Aug 13, 03:52</td>\n",
       "      <td>Aug 13, 04:02</td>\n",
       "      <td>0</td>\n",
       "      <td>-1</td>\n",
       "    </tr>\n",
       "    <tr>\n",
       "      <th>2210</th>\n",
       "      <td>200200224628</td>\n",
       "      <td>СЛЮДЯНКА II</td>\n",
       "      <td>АНГАСОЛКА</td>\n",
       "      <td>Aug 13, 04:02</td>\n",
       "      <td>Aug 13, 04:28</td>\n",
       "      <td>0</td>\n",
       "      <td>-1</td>\n",
       "    </tr>\n",
       "    <tr>\n",
       "      <th>2211</th>\n",
       "      <td>200200224628</td>\n",
       "      <td>АНГАСОЛКА</td>\n",
       "      <td>АНДРИАНОВСКАЯ</td>\n",
       "      <td>Aug 13, 04:28</td>\n",
       "      <td>Aug 13, 04:42</td>\n",
       "      <td>0</td>\n",
       "      <td>-1</td>\n",
       "    </tr>\n",
       "    <tr>\n",
       "      <th>2212</th>\n",
       "      <td>200200224628</td>\n",
       "      <td>АНДРИАНОВСКАЯ</td>\n",
       "      <td>БОЛЬШОЙ ЛУГ</td>\n",
       "      <td>Aug 13, 04:42</td>\n",
       "      <td>Aug 13, 05:55</td>\n",
       "      <td>0</td>\n",
       "      <td>-1</td>\n",
       "    </tr>\n",
       "    <tr>\n",
       "      <th>2213</th>\n",
       "      <td>200200224628</td>\n",
       "      <td>БОЛЬШОЙ ЛУГ</td>\n",
       "      <td>ГОНЧАРОВО</td>\n",
       "      <td>Aug 13, 05:55</td>\n",
       "      <td>Aug 13, 06:13</td>\n",
       "      <td>0</td>\n",
       "      <td>-1</td>\n",
       "    </tr>\n",
       "    <tr>\n",
       "      <th>2214</th>\n",
       "      <td>200200224628</td>\n",
       "      <td>ГОНЧАРОВО</td>\n",
       "      <td>ИРКУТСК-СОРТИРОВОЧНЫЙ</td>\n",
       "      <td>Aug 13, 06:13</td>\n",
       "      <td>Aug 13, 06:41</td>\n",
       "      <td>0</td>\n",
       "      <td>-1</td>\n",
       "    </tr>\n",
       "  </tbody>\n",
       "</table>\n",
       "</div>"
      ],
      "text/plain": [
       "              team           st_from_name             st_to_name  \\\n",
       "2178  200200224628  ИРКУТСК-СОРТИРОВОЧНЫЙ  ИРКУТСК-СОРТИРОВОЧНЫЙ   \n",
       "2179  200200224628  ИРКУТСК-СОРТИРОВОЧНЫЙ              ГОНЧАРОВО   \n",
       "2180  200200224628              ГОНЧАРОВО            БОЛЬШОЙ ЛУГ   \n",
       "2181  200200224628            БОЛЬШОЙ ЛУГ          АНДРИАНОВСКАЯ   \n",
       "2182  200200224628          АНДРИАНОВСКАЯ              АНГАСОЛКА   \n",
       "2183  200200224628              АНГАСОЛКА            СЛЮДЯНКА II   \n",
       "2184  200200224628            СЛЮДЯНКА II             СЛЮДЯНКА I   \n",
       "2185  200200224628             СЛЮДЯНКА I              БАЙКАЛЬСК   \n",
       "2186  200200224628              БАЙКАЛЬСК                МЫСОВАЯ   \n",
       "2187  200200224628                МЫСОВАЯ               УЛАН-УДЭ   \n",
       "2188  200200224628               УЛАН-УДЭ               УЛАН-УДЭ   \n",
       "2189  200200224628               УЛАН-УДЭ               УЛАН-УДЭ   \n",
       "2190  200200224628               УЛАН-УДЭ             ЗАУДИНСКИЙ   \n",
       "2191  200200224628             ЗАУДИНСКИЙ                 ТАЛЬЦЫ   \n",
       "2192  200200224628                 ТАЛЬЦЫ                ЧЕЛУТАЙ   \n",
       "2193  200200224628                ЧЕЛУТАЙ                 ГОРХОН   \n",
       "2194  200200224628                 ГОРХОН                   КИЖА   \n",
       "2195  200200224628                   КИЖА       ПЕТРОВСКИЙ ЗАВОД   \n",
       "2196  200200224628       ПЕТРОВСКИЙ ЗАВОД               ЖИПХЕГЕН   \n",
       "2197  200200224628               ЖИПХЕГЕН                  ХИЛОК   \n",
       "2198  200200224628                  ХИЛОК               ЖИПХЕГЕН   \n",
       "2199  200200224628               ЖИПХЕГЕН       ПЕТРОВСКИЙ ЗАВОД   \n",
       "2200  200200224628       ПЕТРОВСКИЙ ЗАВОД                   КИЖА   \n",
       "2201  200200224628                   КИЖА                 ГОРХОН   \n",
       "2202  200200224628                 ГОРХОН                ЧЕЛУТАЙ   \n",
       "2203  200200224628                ЧЕЛУТАЙ                 ТАЛЬЦЫ   \n",
       "2204  200200224628                 ТАЛЬЦЫ             ЗАУДИНСКИЙ   \n",
       "2205  200200224628             ЗАУДИНСКИЙ               УЛАН-УДЭ   \n",
       "2206  200200224628               УЛАН-УДЭ                МЫСОВАЯ   \n",
       "2207  200200224628                МЫСОВАЯ              БАЙКАЛЬСК   \n",
       "2208  200200224628              БАЙКАЛЬСК             СЛЮДЯНКА I   \n",
       "2209  200200224628             СЛЮДЯНКА I            СЛЮДЯНКА II   \n",
       "2210  200200224628            СЛЮДЯНКА II              АНГАСОЛКА   \n",
       "2211  200200224628              АНГАСОЛКА          АНДРИАНОВСКАЯ   \n",
       "2212  200200224628          АНДРИАНОВСКАЯ            БОЛЬШОЙ ЛУГ   \n",
       "2213  200200224628            БОЛЬШОЙ ЛУГ              ГОНЧАРОВО   \n",
       "2214  200200224628              ГОНЧАРОВО  ИРКУТСК-СОРТИРОВОЧНЫЙ   \n",
       "\n",
       "       time_start_f     time_end_f  state          loco  \n",
       "2178  Aug 11, 17:40  Aug 11, 19:34      2            -1  \n",
       "2179  Aug 11, 17:44  Aug 11, 18:15      1  200200079623  \n",
       "2180  Aug 11, 18:15  Aug 11, 18:58      1  200200079623  \n",
       "2181  Aug 11, 18:58  Aug 11, 19:58      1  200200079623  \n",
       "2182  Aug 11, 19:58  Aug 11, 20:12      1  200200079623  \n",
       "2183  Aug 11, 20:12  Aug 11, 20:37      1  200200079623  \n",
       "2184  Aug 11, 20:37  Aug 11, 20:46      1  200200079623  \n",
       "2185  Aug 11, 20:46  Aug 11, 21:37      1  200200079623  \n",
       "2186  Aug 11, 21:37  Aug 11, 23:42      1  200200079623  \n",
       "2187  Aug 11, 23:42  Aug 12, 02:23      1  200200079623  \n",
       "2188  Aug 12, 02:53  Aug 12, 07:15      4            -1  \n",
       "2189  Aug 12, 08:08  Aug 12, 08:55      2            -1  \n",
       "2190  Aug 12, 08:55  Aug 12, 09:13      1  200200046434  \n",
       "2191  Aug 12, 09:13  Aug 12, 09:21      1  200200046434  \n",
       "2192  Aug 12, 09:21  Aug 12, 10:15      1  200200046434  \n",
       "2193  Aug 12, 10:15  Aug 12, 11:17      1  200200046434  \n",
       "2194  Aug 12, 11:17  Aug 12, 11:52      1  200200046434  \n",
       "2195  Aug 12, 11:52  Aug 12, 12:19      1  200200046434  \n",
       "2196  Aug 12, 12:19  Aug 12, 14:47      1  200200046434  \n",
       "2197  Aug 12, 14:47  Aug 12, 15:21      1  200200046434  \n",
       "2198  Aug 12, 16:29  Aug 12, 17:01      0            -1  \n",
       "2199  Aug 12, 17:01  Aug 12, 19:24      0            -1  \n",
       "2200  Aug 12, 19:24  Aug 12, 19:56      0            -1  \n",
       "2201  Aug 12, 19:56  Aug 12, 20:13      0            -1  \n",
       "2202  Aug 12, 20:13  Aug 12, 20:53      0            -1  \n",
       "2203  Aug 12, 20:53  Aug 12, 21:44      0            -1  \n",
       "2204  Aug 12, 21:44  Aug 12, 21:59      0            -1  \n",
       "2205  Aug 12, 21:59  Aug 12, 22:19      0            -1  \n",
       "2206  Aug 12, 22:19  Aug 13, 00:52      0            -1  \n",
       "2207  Aug 13, 00:52  Aug 13, 03:01      0            -1  \n",
       "2208  Aug 13, 03:01  Aug 13, 03:52      0            -1  \n",
       "2209  Aug 13, 03:52  Aug 13, 04:02      0            -1  \n",
       "2210  Aug 13, 04:02  Aug 13, 04:28      0            -1  \n",
       "2211  Aug 13, 04:28  Aug 13, 04:42      0            -1  \n",
       "2212  Aug 13, 04:42  Aug 13, 05:55      0            -1  \n",
       "2213  Aug 13, 05:55  Aug 13, 06:13      0            -1  \n",
       "2214  Aug 13, 06:13  Aug 13, 06:41      0            -1  "
      ]
     },
     "execution_count": 492,
     "metadata": {},
     "output_type": "execute_result"
    }
   ],
   "source": [
    "team_id = team_info[team_info.number.apply(lambda x: '3856' in str(x))].team.values[0]\n",
    "team_info['rest_time_f'] = team_info.rest_time.apply(nice_time)\n",
    "info_cols = ['team', 'number', 'oper_time_f', 'rest_time_f', 'loc_name', 'state', 'loco', 'ttype']\n",
    "add_line(team_info[team_info.team == team_id][info_cols])\n",
    "plan_cols = ['team', 'st_from_name', 'st_to_name', 'time_start_f', 'time_end_f', 'state', 'loco']\n",
    "team_plan[team_plan.team == team_id][plan_cols]"
   ]
  },
  {
   "cell_type": "markdown",
   "metadata": {},
   "source": [
    "## Экспорт в HTML [ToC](#toc)"
   ]
  },
  {
   "cell_type": "code",
   "execution_count": 493,
   "metadata": {
    "collapsed": false
   },
   "outputs": [
    {
     "name": "stdout",
     "output_type": "stream",
     "text": [
      "Отчет сформирован: report/team_report_20160812_154712.html\n"
     ]
    }
   ],
   "source": [
    "filename = REPORT_FOLDER + 'team_report_' + time.strftime('%Y%m%d_%H%M%S', time.localtime(time.time())) + '.html'\n",
    "create_report(filename)"
   ]
  }
 ],
 "metadata": {
  "kernelspec": {
   "display_name": "Python 3",
   "language": "python",
   "name": "python3"
  },
  "language_info": {
   "codemirror_mode": {
    "name": "ipython",
    "version": 3
   },
   "file_extension": ".py",
   "mimetype": "text/x-python",
   "name": "python",
   "nbconvert_exporter": "python",
   "pygments_lexer": "ipython3",
   "version": "3.5.1"
  }
 },
 "nbformat": 4,
 "nbformat_minor": 0
}
