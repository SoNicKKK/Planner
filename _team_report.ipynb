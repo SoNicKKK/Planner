{
 "cells": [
  {
   "cell_type": "markdown",
   "metadata": {},
   "source": [
    "<a id='toc'></a>\n",
    "# Список тестов по бригадам:"
   ]
  },
  {
   "cell_type": "markdown",
   "metadata": {},
   "source": [
    "1. [Расчет процента подвязки между бригадами и локомотивами.](#perc_assign)\n",
    "2. [Расчет процента запланированных бригад от общего количества бригад на входе планировщика.](#perc_assign2)\n",
    "3. [Распределение между реальными и фейковыми бригадами в результатах планирования.](#real_fake)\n",
    "4. [Составление списка станций и участков, на которых не состоялась подвязка бригады.](#no_assign)\n",
    "5. [Проверка переработки бригад.](#overwork)   \n",
    "6. [Проверка \"скачков\" бригад между станциями.](#leaps)\n",
    "7. [Анализ времен стоянок поездов для смены бригады.](#stop_time)\n",
    "8. [Анализ времен отдыха бригад.](#rest_time)\n",
    "9. [Проверка корректности времен явки бригад во входных данных](#ready_time)\n",
    "10. [Проверка смены бригад на корректных станциях](#change)\n",
    "11. [Проверка отправления бригад до времени явки](#presence)\n",
    "12. [Проверка планирования бригад до времени начала планирования](#before_current_time)\n",
    "13. [Проверка планируемых явок бригад](#presenting)\n",
    "14. [Проверка использования бригад после засылки пассажирами](#check_useful_assign)\n",
    "  1. [Бригады, бесцельно отправляемые пассажирами](#only_pass)\n",
    "  2. [Бригады, у которых запланирована только явка](#only_presence)\n",
    "15. [Проверка подвязки негрузовых бригад](#pass_teams_in_plan)"
   ]
  },
  {
   "cell_type": "markdown",
   "metadata": {},
   "source": [
    "### Константы и настройки"
   ]
  },
  {
   "cell_type": "code",
   "execution_count": 95,
   "metadata": {
    "collapsed": true
   },
   "outputs": [],
   "source": [
    "report = ''\n",
    "FOLDER = 'resources/'\n",
    "REPORT_FOLDER = 'report/'\n",
    "PRINT = True"
   ]
  },
  {
   "cell_type": "code",
   "execution_count": 96,
   "metadata": {
    "collapsed": false
   },
   "outputs": [],
   "source": [
    "time_format = '%b %d, %H:%M'\n",
    "def sprint(s):\n",
    "    print(s.to_string(index=False))\n",
    "    \n",
    "#def scount(df):\n",
    "#    return scount(df, df.columns[0])\n",
    "    \n",
    "def scount(df, col):\n",
    "    return df[col].drop_duplicates().count() if col in df.columns else 0\n",
    "\n",
    "def nice_time(t):\n",
    "    return time.strftime(time_format, time.localtime(t)) if t > 0 else ''"
   ]
  },
  {
   "cell_type": "markdown",
   "metadata": {},
   "source": [
    "### Функции для экспорта в HTML"
   ]
  },
  {
   "cell_type": "code",
   "execution_count": 97,
   "metadata": {
    "collapsed": false
   },
   "outputs": [],
   "source": [
    "def add_line(line, p=PRINT):    \n",
    "    global report        \n",
    "    if p:                \n",
    "        if type(line) == pd.core.frame.DataFrame:\n",
    "            print(line.to_string(index=False))\n",
    "        elif type(line) == pd.core.series.Series:\n",
    "            print(line.to_string())\n",
    "        else:\n",
    "            print(line)\n",
    "    if type(line) == pd.core.frame.DataFrame:        \n",
    "        report += ('%s<br>' % line.to_html(index=False))\n",
    "    elif type(line) == pd.core.series.Series:\n",
    "        report += ('%s<br>' % line.to_frame().reset_index().to_html(index=False))\n",
    "    else:\n",
    "        if line[:2] == '\\n':\n",
    "            line_rep = line[2:]\n",
    "        else:\n",
    "            line_rep = line\n",
    "        report += ('%s<br>' % line_rep)\n",
    "    \n",
    "def add_header(header, h=4, p=PRINT):\n",
    "    global report\n",
    "    report += ('<h%d>%s</h%d>' % (h, header, h))\n",
    "    if p:\n",
    "        print(header)\n",
    "\n",
    "def add_image(filename):\n",
    "    global report\n",
    "    report += ('<img src=\"%s\" alt=\"%s\" height=\"40%%\">' % (filename, filename))\n",
    "\n",
    "def create_report(filename):\n",
    "    global report\n",
    "    report = report.replace('<table border=\"1\" class=\"dataframe\">','<table class=\"table table-striped\">')\n",
    "    html_string = '''\n",
    "        <html>\n",
    "            <head>\n",
    "                <link rel=\"stylesheet\" href=\"skeleton.css\">\n",
    "                <style>body{ margin:20 20; background:whitesmoke; }\n",
    "                table {table-layout : fixed}\n",
    "                </style>\n",
    "            </head>\n",
    "            <body>                \n",
    "                %s\n",
    "            </body>\n",
    "        </html>''' % (report)\n",
    "    f = open(filename,'w', encoding='utf-8-sig')\n",
    "    f.write(html_string)\n",
    "    f.close()\n",
    "    print('Отчет сформирован: %s' % filename)"
   ]
  },
  {
   "cell_type": "markdown",
   "metadata": {},
   "source": [
    "## Загрузка и подготовка данных"
   ]
  },
  {
   "cell_type": "code",
   "execution_count": 98,
   "metadata": {
    "collapsed": false
   },
   "outputs": [
    {
     "name": "stdout",
     "output_type": "stream",
     "text": [
      "Время составления отчета: Jul 07, 17:26\n",
      "Время запуска планировщика: Jul 06, 14:41 (1467805287)\n"
     ]
    }
   ],
   "source": [
    "import numpy as np\n",
    "import pandas as pd\n",
    "import time, datetime\n",
    "from ast import literal_eval\n",
    "import matplotlib.pyplot as plt\n",
    "import seaborn as sns\n",
    "\n",
    "%matplotlib inline\n",
    "plt.style.use('fivethirtyeight')\n",
    "plt.rc('font', family='Times New Roman')\n",
    "\n",
    "pd.set_option('max_rows', 50)\n",
    "\n",
    "time_format = '%b %d, %H:%M'\n",
    "\n",
    "start_time = time.time()\n",
    "current_time = pd.read_csv(FOLDER + 'current_time.csv').current_time[0]\n",
    "twr          = pd.read_csv(FOLDER + 'team_work_region.csv', converters={'twr':str})\n",
    "links        = pd.read_csv(FOLDER + 'link.csv')\n",
    "stations     = pd.read_csv(FOLDER + 'station.csv', converters={'station':str})\n",
    "train_info   = pd.read_csv(FOLDER + 'train_info.csv', converters={'train': str, 'st_from':str, 'st_to':str})\n",
    "train_plan   = pd.read_csv(FOLDER + 'slot_train.csv', converters={'train': str, 'st_from':str, 'st_to':str})\n",
    "loco_info    = pd.read_csv(FOLDER + 'loco_attributes.csv', converters={'train':str, 'loco':str})\n",
    "loco_plan    = pd.read_csv(FOLDER + 'slot_loco.csv', converters={'train':str, 'loco':str, 'st_from':str, 'st_to':str})\n",
    "team_info    = pd.read_csv(FOLDER + 'team_attributes.csv', converters={'team':str,'depot':str, 'oper_location':str, \\\n",
    "                                                                 'st_from':str, 'st_to':str, 'loco':str, 'depot_st':str})\n",
    "team_plan    = pd.read_csv(FOLDER + 'slot_team.csv', converters={'team':str,'loco':str, 'st_from':str, 'st_to':str})\n",
    "loco_series  = pd.read_csv(FOLDER + 'loco_series.csv')\n",
    "\n",
    "team_info.regions = team_info.regions.apply(literal_eval)\n",
    "st_names = stations[['station', 'name', 'esr']].drop_duplicates().set_index('station')\n",
    "print('Время составления отчета:', time.strftime(time_format, time.localtime()))\n",
    "print('Время запуска планировщика: %s (%d)' % (time.strftime(time_format, time.localtime(current_time)), current_time))"
   ]
  },
  {
   "cell_type": "code",
   "execution_count": 99,
   "metadata": {
    "collapsed": true
   },
   "outputs": [],
   "source": [
    "# Мержим таблицы _plan и _info для поездов, локомотивов и бригад\n",
    "# Добавляем во все таблицы названия станций на маршруте и времена отправления/прибытия в читабельном формате\n",
    "\n",
    "def add_info(df):    \n",
    "    if 'st_from' in df.columns:\n",
    "        df['st_from_name'] = df.st_from.map(st_names.name)\n",
    "    if 'st_to' in df.columns:\n",
    "        df['st_to_name'] = df.st_to.map(st_names.name)\n",
    "    if 'time_start' in df.columns:\n",
    "        df['time_start_f'] = df.time_start.apply(lambda x: nice_time(x))\n",
    "    if 'time_end' in df.columns:\n",
    "        df['time_end_f'] = df.time_end.apply(lambda x: nice_time(x))\n",
    "    if 'oper_location' in df.columns:\n",
    "        df['oper_location_name'] = df.oper_location.map(st_names.name)    \n",
    "        df.oper_location_name.fillna(0, inplace=True)\n",
    "    if ('oper_location' in df.columns) & ('st_from' in df.columns) & ('st_to' in df.columns):        \n",
    "        df['loc_name'] = df.oper_location_name\n",
    "        df.loc[df.loc_name == 0, 'loc_name'] = df.st_from_name + ' - ' + df.st_to_name\n",
    "    \n",
    "add_info(train_plan)\n",
    "add_info(loco_plan)\n",
    "add_info(team_plan)\n",
    "add_info(loco_info)\n",
    "add_info(team_info)\n",
    "train_plan = train_plan.merge(train_info, on='train', suffixes=('', '_info'), how='left')\n",
    "loco_plan = loco_plan.merge(loco_info, on='loco', suffixes=('', '_info'), how='left')\n",
    "team_plan = team_plan.merge(team_info, on='team', suffixes=('', '_info'), how='left')\n",
    "team_plan['team_type'] = team_plan.team.apply(lambda x: 'Реальная' if str(x)[0] == '2' else 'Фейковая')"
   ]
  },
  {
   "cell_type": "code",
   "execution_count": 100,
   "metadata": {
    "collapsed": false
   },
   "outputs": [
    {
     "name": "stdout",
     "output_type": "stream",
     "text": [
      "Время сбора данных и запуска планировщика: Jul 06, 14:41\n"
     ]
    }
   ],
   "source": [
    "add_line('Время сбора данных и запуска планировщика: %s' % time.strftime(time_format, time.localtime(current_time)))"
   ]
  },
  {
   "cell_type": "markdown",
   "metadata": {},
   "source": [
    "<a id='perc_assign'></a>\n",
    "## Расчет процента подвязки между локомотивами и бригадами [ToC](#toc)"
   ]
  },
  {
   "cell_type": "code",
   "execution_count": 101,
   "metadata": {
    "collapsed": true
   },
   "outputs": [],
   "source": [
    "add_header('Расчет процента подвязки между локомотивами и бригадами', h=2, p=False)"
   ]
  },
  {
   "cell_type": "code",
   "execution_count": 102,
   "metadata": {
    "collapsed": false
   },
   "outputs": [
    {
     "name": "stdout",
     "output_type": "stream",
     "text": [
      "Локомотивов без бригад на горизонте  6 часов: 70 из 1573 (процент подвязки 95%)\n",
      "Локомотивов без реальных бригад на горизонте  6 часов: 187 из 1573 (процент подвязки 88%)\n",
      "Локомотивов без бригад на горизонте 12 часов: 110 из 1573 (процент подвязки 93%)\n",
      "Локомотивов без реальных бригад на горизонте 12 часов: 329 из 1573 (процент подвязки 79%)\n",
      "Локомотивов без бригад на горизонте 24 часов: 209 из 1573 (процент подвязки 86%)\n",
      "Локомотивов без реальных бригад на горизонте 24 часов: 769 из 1573 (процент подвязки 51%)\n"
     ]
    }
   ],
   "source": [
    "def count_real_assign_percent(hor):\n",
    "    loco_no_team = loco_plan.loc[(loco_plan.time_start < current_time + hor) &\n",
    "                             ((loco_plan.team == -1) | (loco_plan.team_type == 'Фейковая')) &\n",
    "                             (loco_plan.state.isin([0, 1]))]\n",
    "    loco_n = len(loco_plan.drop_duplicates(subset=['loco']).index)\n",
    "    loco_no_team_n = len(loco_no_team.loco.drop_duplicates().index)\n",
    "    percent = 100 - np.round((100 * loco_no_team_n / loco_n), 2)\n",
    "    add_line('Локомотивов без реальных бригад на горизонте %2.d часов: %d из %d (процент подвязки %d%%)' %\n",
    "          (hor / 3600, loco_no_team_n, loco_n, percent))\n",
    "    \n",
    "    \n",
    "def count_assign_percent(hor):\n",
    "    loco_no_team = loco_plan.loc[(loco_plan.time_start < current_time + hor) &\n",
    "                             (loco_plan.team == -1) &\n",
    "                             (loco_plan.state.isin([0, 1]))]\n",
    "    loco_n = len(loco_plan.drop_duplicates(subset=['loco']).index)\n",
    "    loco_no_team_n = len(loco_no_team.loco.drop_duplicates().index)\n",
    "    percent = 100 - np.round((100 * loco_no_team_n / loco_n), 2)\n",
    "    add_line('Локомотивов без бригад на горизонте %2.d часов: %d из %d (процент подвязки %d%%)' %\n",
    "          (hor / 3600, loco_no_team_n, loco_n, percent))\n",
    "    count_real_assign_percent(hor)   \n",
    "\n",
    "    \n",
    "if 'team' not in loco_plan.columns:\n",
    "    loco_plan = loco_plan.set_index(['loco', 'time_start']).join(team_plan.loc[team_plan.state == 1, \\\n",
    "                                                                ['team', 'loco', 'time_start', 'team_type']].\\\n",
    "                                                                 set_index(['loco', 'time_start'])).reset_index()    \n",
    "    loco_plan.team.fillna(-1, inplace=True)\n",
    "\n",
    "count_assign_percent(6 * 3600)\n",
    "count_assign_percent(12 * 3600)\n",
    "count_assign_percent(24 * 3600)"
   ]
  },
  {
   "cell_type": "markdown",
   "metadata": {},
   "source": [
    "<a id='perc_assign2'></a>\n",
    "## Расчет процента запланированных бригад от общего количества [ToC](#toc)"
   ]
  },
  {
   "cell_type": "code",
   "execution_count": 103,
   "metadata": {
    "collapsed": true
   },
   "outputs": [],
   "source": [
    "add_header('Расчет процента запланированных бригад от общего количества бригад на входе', h=2, p=False)"
   ]
  },
  {
   "cell_type": "code",
   "execution_count": 104,
   "metadata": {
    "collapsed": false
   },
   "outputs": [
    {
     "name": "stdout",
     "output_type": "stream",
     "text": [
      "Всего бригад, запланированных с локомотивами в работе: 4300 из 4714 (91.22%)\n"
     ]
    },
    {
     "data": {
      "image/png": "[encoded data removed]",
      "text/plain": [
       "<matplotlib.figure.Figure at 0x1d84a9300b8>"
      ]
     },
     "metadata": {},
     "output_type": "display_data"
    }
   ],
   "source": [
    "# team_planned = team_plan.loc[team_plan.state.isin([0, 1])]\n",
    "team_assigned = team_plan.loc[team_plan.state.isin([1])]\n",
    "team_assigned_n = len(team_assigned.drop_duplicates(subset=['team']).index)\n",
    "team_total_n = len(team_info.team.index)\n",
    "team_assigned_percent = team_assigned_n / team_total_n\n",
    "add_line('Всего бригад, запланированных с локомотивами в работе: %d из %d (%.2f%%)' %\n",
    "      (team_assigned_n, team_total_n, 100 * team_assigned_percent))\n",
    "team_info['is_assign'] = team_info.team.isin(team_assigned.team)\n",
    "assign_states = team_info.loc[team_info.is_assign == True, ['team', 'state']].state.astype(str).value_counts().to_frame()\n",
    "initial_states = team_info.state.value_counts().to_frame()\n",
    "initial_states.columns=['Бригады во входных данных']\n",
    "assign_states.columns=['Бригады в результатах']\n",
    "states = initial_states.join(assign_states)\n",
    "states.fillna(0, inplace=True)\n",
    "\n",
    "sns.set_style(\"ticks\")\n",
    "sns.set_context(\"talk\")\n",
    "sns.set_color_codes(\"pastel\")\n",
    "fig = plt.figure()\n",
    "sns.barplot(x='index', y='Бригады во входных данных', data=states.sort_index().reset_index(), \n",
    "            color=\"b\", label='Бригады во входных данных')\n",
    "sns.set_color_codes('muted')\n",
    "ax = sns.barplot(x='index', y='Бригады в результатах', data=states.sort_index().reset_index(), \n",
    "            color=\"b\", label='Бригады в результатах')\n",
    "ax.legend(ncol=1, loc=\"upper right\", frameon=False)\n",
    "ax.set(ylabel='Количество бригад', xlabel='Исходное состояние бригады', \n",
    "       title='Соотношение между количеством запланированных бригад и бригад на входе')\n",
    "sns.despine()\n",
    "filename = 'team_usage.png'\n",
    "plt.savefig(REPORT_FOLDER + filename, bbox_inches='tight')\n",
    "add_image(filename)"
   ]
  },
  {
   "cell_type": "markdown",
   "metadata": {},
   "source": [
    "<a id='real_fake'></a>\n",
    "### Распределение реальных и фейковых бригад в результатах планирования"
   ]
  },
  {
   "cell_type": "code",
   "execution_count": 105,
   "metadata": {
    "collapsed": true
   },
   "outputs": [],
   "source": [
    "add_header('Распределение реальных и фейковых бригад в результатах планирования', h=2, p=False)"
   ]
  },
  {
   "cell_type": "code",
   "execution_count": 106,
   "metadata": {
    "collapsed": false
   },
   "outputs": [
    {
     "data": {
      "image/png": "[encoded data removed]",
      "text/plain": [
       "<matplotlib.figure.Figure at 0x1d8556e40f0>"
      ]
     },
     "metadata": {},
     "output_type": "display_data"
    }
   ],
   "source": [
    "f = team_plan.drop_duplicates(subset=['team']).team_type.value_counts()\n",
    "fig = plt.figure()\n",
    "ax = f.plot(kind='pie', colormap='Pastel2', figsize=(5,5), autopct='%.2f%%')\n",
    "ax.set_ylabel('')\n",
    "#plt.show()\n",
    "filename = 'real_fake_teams_ratio.png'\n",
    "fig.savefig(REPORT_FOLDER + filename, bbox_inches='tight')\n",
    "add_image(filename)"
   ]
  },
  {
   "cell_type": "markdown",
   "metadata": {},
   "source": [
    "<a id='no_assign'></a>\n",
    "## Cтанции и участки, на которых не состоялась подвязка бригады [ToC](#toc)"
   ]
  },
  {
   "cell_type": "code",
   "execution_count": 107,
   "metadata": {
    "collapsed": true
   },
   "outputs": [],
   "source": [
    "add_header('Станции и участки, на которых не состоялась подвязка бригады', h=2, p=False)"
   ]
  },
  {
   "cell_type": "code",
   "execution_count": 108,
   "metadata": {
    "collapsed": false
   },
   "outputs": [],
   "source": [
    "horizon = 6 * 3600\n",
    "add_line('Горизонт анализа: %d часов' % (horizon / 3600), p=False)\n",
    "loco_mask = (loco_plan.time_start < current_time + horizon)"
   ]
  },
  {
   "cell_type": "code",
   "execution_count": 109,
   "metadata": {
    "collapsed": false
   },
   "outputs": [
    {
     "name": "stdout",
     "output_type": "stream",
     "text": [
      "Станции, на которых не удалось подвязать бригады под локомотив (первые 10):\n",
      "КРАСНОЯРСК-ВОСТОЧНЫЙ                  13\n",
      "ИЛАНСКАЯ                              12\n",
      "МОГОЧА                                 6\n",
      "КОРШУНИХА-АНГАРСКАЯ                    4\n",
      "АНДРИАНОВСКАЯ                          3\n",
      "ГОРХОН                                 3\n",
      "БУРЕЯ                                  2\n",
      "КОМСОМОЛЬСК-НА-АМУРЕ-СОРТИРОВОЧНЫЙ     2\n",
      "УСТЬ-ИЛИМСК                            2\n",
      "ЛЕНА                                   2\n",
      "\n",
      "Участки планирования, на которых не удалось подвязать бригады под локомотив (первые 10):\n",
      "st_from_name                        st_to_name\n",
      "ИЛАНСКАЯ                            ЗАОЗЕРНАЯ     12\n",
      "КРАСНОЯРСК-ВОСТОЧНЫЙ                ЗЫКОВО        12\n",
      "МОГОЧА                              АМАЗАР         6\n",
      "КОРШУНИХА-АНГАРСКАЯ                 ХРЕБТОВАЯ      4\n",
      "АНДРИАНОВСКАЯ                       АНГАСОЛКА      3\n",
      "КОМСОМОЛЬСК-НА-АМУРЕ-СОРТИРОВОЧНЫЙ  СЕЛИХИН        2\n",
      "ЗАОЗЕРНАЯ                           УЯР            2\n",
      "ЛЕНА                                ХРЕБТОВАЯ      2\n",
      "ГОРХОН                              КИЖА           2\n",
      "КОМСОМОЛЬСК-НА-АМУРЕ                ДЗЕМГИ         2\n"
     ]
    }
   ],
   "source": [
    "# Добавляем признак первой станции на маршруте локомотива, где не была подвязана бригада\n",
    "loco_plan.loc[loco_plan.state == 4, 'team'] = 0\n",
    "loco_plan['no_team_start'] = (loco_plan.team == -1) & \\\n",
    "                             ((loco_plan.team != loco_plan.team.shift(1)) | (loco_plan.loco != loco_plan.loco.shift(1)))\n",
    "    \n",
    "loco_cols = ['loco', 'st_from_name', 'st_to_name', 'state', 'time_start_f', 'team', 'no_team_start']\n",
    "fail_team_assign_locos = loco_plan.loc[loco_mask & (loco_plan.no_team_start == True)]\n",
    "fail_team_assign_stations = fail_team_assign_locos.st_from_name.value_counts().head(10)\n",
    "fail_team_assign_tracks = fail_team_assign_locos.groupby('st_from_name').st_to_name.value_counts().\\\n",
    "                            sort_values(ascending=False).head(10)\n",
    "add_header('Станции, на которых не удалось подвязать бригады под локомотив (первые 10):')\n",
    "add_line(fail_team_assign_stations)\n",
    "add_header('\\nУчастки планирования, на которых не удалось подвязать бригады под локомотив (первые 10):')\n",
    "add_line(fail_team_assign_tracks)"
   ]
  },
  {
   "cell_type": "code",
   "execution_count": 110,
   "metadata": {
    "collapsed": false
   },
   "outputs": [
    {
     "name": "stdout",
     "output_type": "stream",
     "text": [
      "Локомотивы, к которым не была подвязана бригада на станции КРАСНОЯРСК-ВОСТОЧНЫЙ, по направлениям:\n",
      "ЗЫКОВО                 12\n",
      "КРАСНОЯРСК-СЕВЕРНЫЙ     1\n"
     ]
    }
   ],
   "source": [
    "#st_name = fail_team_assign_stations.head(1).index[0]\n",
    "st_name = 'КРАСНОЯРСК-ВОСТОЧНЫЙ'\n",
    "bad_locos = loco_plan.loc[loco_mask & (loco_plan.st_from_name == st_name) & (loco_plan.no_team_start == True)]\n",
    "if not bad_locos.empty:\n",
    "    add_header('Локомотивы, к которым не была подвязана бригада на станции %s, по направлениям:' % st_name)\n",
    "    add_line(bad_locos.st_to_name.value_counts())"
   ]
  },
  {
   "cell_type": "markdown",
   "metadata": {},
   "source": [
    "<a id='overwork'></a>\n",
    "## Проверка переработки бригад [ToC](#toc)"
   ]
  },
  {
   "cell_type": "code",
   "execution_count": 111,
   "metadata": {
    "collapsed": true
   },
   "outputs": [],
   "source": [
    "add_header('Бригады с переработкой', h=2, p=False)"
   ]
  },
  {
   "cell_type": "markdown",
   "metadata": {},
   "source": [
    "#### Вычисляем последнее время явки для каждого участка на маршруте"
   ]
  },
  {
   "cell_type": "code",
   "execution_count": 112,
   "metadata": {
    "collapsed": false
   },
   "outputs": [],
   "source": [
    "# В поле presence прописываем последнюю явку бригады из входных данных\n",
    "team_info['all_presence'] = list(zip(team_info.depot_time, team_info.return_time))\n",
    "team_info['presence'] = team_info.all_presence.apply(lambda x: max(x))\n",
    "team_info['presence_norm'] = team_info.presence.apply(lambda x: time.strftime(time_format, time.localtime(x)) if x>0 else x)\n",
    "team_plan['info_presence'] = team_plan.team.map(team_info.set_index('team').presence)\n",
    "team_plan['info_presence_norm'] = team_plan.info_presence\\\n",
    "            .apply(lambda x: time.strftime(time_format, time.localtime(x)) if x>0 else x)\n",
    "team_plan['info_presence'] = team_plan.info_presence.apply(lambda x: [] if np.isnan(x) else [int(x)])\n",
    "\n",
    "# Собираем все запланированные явки бригады. \n",
    "# Если ни одной явки не запланировано, то проставляем фейковые явки: время первого отправления (после отдыха) минус 1 час\n",
    "team_plan['start_trip'] = team_plan.state.isin([0, 1]) \\\n",
    "                & ((team_plan.team != team_plan.team.shift(1)) | (team_plan.state.shift(1) == 4))\n",
    "team_plan['fake_plan_presence'] = team_plan.team.map(team_plan[team_plan.start_trip].groupby('team').time_start.unique() - 3600)\n",
    "team_plan.fake_plan_presence.fillna(0, inplace=True)\n",
    "team_plan['fake_plan_presence'] = team_plan.fake_plan_presence.apply(lambda x: [] if (type(x) == int) else x)\n",
    "team_plan['plan_presence'] = team_plan.team.map(team_plan[team_plan.state == 2].groupby('team').time_start.unique())\n",
    "team_plan.plan_presence.fillna(0, inplace=True)\n",
    "team_plan['plan_presence'] = team_plan.plan_presence.apply(lambda x: [] if (type(x) == int) else x)"
   ]
  },
  {
   "cell_type": "code",
   "execution_count": 113,
   "metadata": {
    "collapsed": false
   },
   "outputs": [
    {
     "data": {
      "text/html": [
       "<div>\n",
       "<table border=\"1\" class=\"dataframe\">\n",
       "  <thead>\n",
       "    <tr style=\"text-align: right;\">\n",
       "      <th></th>\n",
       "      <th>team</th>\n",
       "      <th>st_from_name</th>\n",
       "      <th>time_start</th>\n",
       "      <th>state</th>\n",
       "      <th>info_presence</th>\n",
       "      <th>info_presence_norm</th>\n",
       "      <th>plan_presence</th>\n",
       "      <th>fake_plan_presence</th>\n",
       "      <th>curr_presence</th>\n",
       "    </tr>\n",
       "  </thead>\n",
       "  <tbody>\n",
       "  </tbody>\n",
       "</table>\n",
       "</div>"
      ],
      "text/plain": [
       "Empty DataFrame\n",
       "Columns: [team, st_from_name, time_start, state, info_presence, info_presence_norm, plan_presence, fake_plan_presence, curr_presence]\n",
       "Index: []"
      ]
     },
     "execution_count": 113,
     "metadata": {},
     "output_type": "execute_result"
    }
   ],
   "source": [
    "def get_curr_presence(row):\n",
    "    real_presence = np.concatenate([row.info_presence, row.plan_presence])   \n",
    "    if len(real_presence) > 0:\n",
    "        presence_list = real_presence\n",
    "    elif len(row.fake_plan_presence) > 0:\n",
    "        presence_list = row.fake_plan_presence\n",
    "    else:\n",
    "        return current_time\n",
    "        \n",
    "    t = row.time_start\n",
    "    b = [x for x in presence_list if x <= t]\n",
    "    return int(max(b)) if b != [] else (row.fake_plan_presence[0] if len(row.fake_plan_presence) > 0 else current_time)   \n",
    "    \n",
    "    \n",
    "team_plan['curr_presence'] = team_plan.apply(lambda row: get_curr_presence(row), axis=1)\n",
    "cols = ['team', 'st_from_name', 'time_start', 'state', 'info_presence', 'info_presence_norm', \n",
    "        'plan_presence', 'fake_plan_presence', 'curr_presence']\n",
    "team_plan[team_plan.team == '777700001868'][cols]"
   ]
  },
  {
   "cell_type": "markdown",
   "metadata": {},
   "source": [
    "#### Составляем таблицу team_trips с поездками бригад"
   ]
  },
  {
   "cell_type": "code",
   "execution_count": 114,
   "metadata": {
    "collapsed": false
   },
   "outputs": [],
   "source": [
    "cols = ['team', 'state', 'st_from_name', 'st_to_name', 'time_start', 'time_end', 'loco', 'start_trip', 'end_trip', \n",
    "        'start_trip_time', 'end_trip_time']\n",
    "team_plan['end_trip'] = ((team_plan.team != team_plan.team.shift(-1)) & (team_plan.state == 1)) | \\\n",
    "                        ((team_plan.state == 1) & (team_plan.state.shift(-1).isin([0, 2, 4])))\n",
    "team_plan.loc[team_plan.end_trip == True, 'end_trip_time'] = team_plan.time_end\n",
    "team_plan['start_trip'] = ((team_plan.state == 1) & (team_plan.team != team_plan.team.shift(1))) | \\\n",
    "                        ((team_plan.state == 1) & (team_plan.state.shift(1).isin([0, 2, 4])))\n",
    "team_plan.loc[team_plan.start_trip == True, 'start_trip_time'] = team_plan.time_start\n",
    "start_trips = team_plan.dropna(subset=['start_trip_time'])\n",
    "end_trips = team_plan.dropna(subset=['end_trip_time'])\n",
    "\n",
    "frames = [start_trips.reset_index()[['team', 'state', 'st_from_name', 'start_trip_time']],\n",
    "          end_trips.reset_index()[['st_to_name', 'end_trip_time', 'curr_presence']]]\n",
    "team_trips = pd.concat(frames, axis=1, ignore_index=True)\n",
    "team_trips.columns = ['team', 'state', 'st_from_name', 'time_start', 'st_to_name', 'time_end', 'curr_presence']\n",
    "add_info(team_trips)\n",
    "team_trips['curr_presence_norm'] = team_trips.curr_presence.apply(lambda x: time.strftime(time_format, time.localtime(x)))"
   ]
  },
  {
   "cell_type": "code",
   "execution_count": 115,
   "metadata": {
    "collapsed": false
   },
   "outputs": [
    {
     "data": {
      "text/html": [
       "<div>\n",
       "<table border=\"1\" class=\"dataframe\">\n",
       "  <thead>\n",
       "    <tr style=\"text-align: right;\">\n",
       "      <th></th>\n",
       "      <th>team</th>\n",
       "      <th>state</th>\n",
       "      <th>st_from_name</th>\n",
       "      <th>time_start</th>\n",
       "      <th>st_to_name</th>\n",
       "      <th>time_end</th>\n",
       "      <th>curr_presence</th>\n",
       "      <th>time_start_f</th>\n",
       "      <th>time_end_f</th>\n",
       "      <th>curr_presence_norm</th>\n",
       "    </tr>\n",
       "  </thead>\n",
       "  <tbody>\n",
       "  </tbody>\n",
       "</table>\n",
       "</div>"
      ],
      "text/plain": [
       "Empty DataFrame\n",
       "Columns: [team, state, st_from_name, time_start, st_to_name, time_end, curr_presence, time_start_f, time_end_f, curr_presence_norm]\n",
       "Index: []"
      ]
     },
     "execution_count": 115,
     "metadata": {},
     "output_type": "execute_result"
    }
   ],
   "source": [
    "team_trips[team_trips.team == '777700001868']"
   ]
  },
  {
   "cell_type": "markdown",
   "metadata": {},
   "source": [
    "#### Загружаем нормы рабочего времени и составляем таблицу по нормам для каждой бригады"
   ]
  },
  {
   "cell_type": "code",
   "execution_count": 116,
   "metadata": {
    "collapsed": true
   },
   "outputs": [],
   "source": [
    "WORK_TIME_LIMIT = 11 #hours"
   ]
  },
  {
   "cell_type": "code",
   "execution_count": 117,
   "metadata": {
    "collapsed": false
   },
   "outputs": [],
   "source": [
    "def get_cmp(row):\n",
    "    d, l = row.depot, row.link    \n",
    "    try:\n",
    "        res = trd.ix[d].link.apply(lambda x: len(np.intersect1d(x, l))).idxmax()        \n",
    "    except:\n",
    "        res = -1\n",
    "    return res\n",
    "\n",
    "team_region = pd.read_csv(FOLDER + 'team_region.csv', dtype={'st_from':str, 'st_to':str, 'depot':str})\n",
    "add_info(team_region)\n",
    "team_region['link'] = list(zip(team_region.st_from, team_region.st_to))\n",
    "team_plan['link'] = list(zip(team_plan.st_from, team_plan.st_to))\n",
    "tr_links = team_region.groupby(['team_region', 'depot']).link.unique().to_frame().reset_index()\n",
    "if not tr_links.empty:\n",
    "    trd = tr_links.set_index(['depot', 'team_region'])\n",
    "else:\n",
    "    trd = tr_links\n",
    "team_links = team_plan[team_plan.state.isin([0, 1])].groupby(['team', 'depot']).link.unique().to_frame().reset_index()\n",
    "team_links['team_region'] = team_links.apply(lambda row: get_cmp(row), axis=1)\n",
    "\n",
    "team_links['tr_depot'] = list(zip(team_links.team_region, team_links.depot))\n",
    "team_region['tr_depot'] = list(zip(team_region.team_region, team_region.depot))\n",
    "team_links['time_f'] = team_links.tr_depot.map(team_region.drop_duplicates('tr_depot').set_index('tr_depot').time_f)\n",
    "team_links['time_b'] = team_links.tr_depot.map(team_region.drop_duplicates('tr_depot').set_index('tr_depot').time_b)\n",
    "team_links['time_wr'] = team_links.tr_depot.map(team_region.drop_duplicates('tr_depot').set_index('tr_depot').time_wr)\n",
    "#team_links.head()"
   ]
  },
  {
   "cell_type": "code",
   "execution_count": 118,
   "metadata": {
    "collapsed": false
   },
   "outputs": [
    {
     "data": {
      "text/html": [
       "<div>\n",
       "<table border=\"1\" class=\"dataframe\">\n",
       "  <thead>\n",
       "    <tr style=\"text-align: right;\">\n",
       "      <th></th>\n",
       "      <th>team</th>\n",
       "      <th>time_f</th>\n",
       "      <th>time_b</th>\n",
       "      <th>time_wr</th>\n",
       "    </tr>\n",
       "  </thead>\n",
       "  <tbody>\n",
       "    <tr>\n",
       "      <th>0</th>\n",
       "      <td>200200032910</td>\n",
       "      <td>NaN</td>\n",
       "      <td>NaN</td>\n",
       "      <td>NaN</td>\n",
       "    </tr>\n",
       "    <tr>\n",
       "      <th>1</th>\n",
       "      <td>200200033796</td>\n",
       "      <td>NaN</td>\n",
       "      <td>NaN</td>\n",
       "      <td>NaN</td>\n",
       "    </tr>\n",
       "    <tr>\n",
       "      <th>2</th>\n",
       "      <td>200200034977</td>\n",
       "      <td>NaN</td>\n",
       "      <td>NaN</td>\n",
       "      <td>NaN</td>\n",
       "    </tr>\n",
       "    <tr>\n",
       "      <th>3</th>\n",
       "      <td>200200035773</td>\n",
       "      <td>NaN</td>\n",
       "      <td>NaN</td>\n",
       "      <td>NaN</td>\n",
       "    </tr>\n",
       "    <tr>\n",
       "      <th>4</th>\n",
       "      <td>200200036640</td>\n",
       "      <td>NaN</td>\n",
       "      <td>NaN</td>\n",
       "      <td>NaN</td>\n",
       "    </tr>\n",
       "  </tbody>\n",
       "</table>\n",
       "</div>"
      ],
      "text/plain": [
       "           team time_f time_b time_wr\n",
       "0  200200032910    NaN    NaN     NaN\n",
       "1  200200033796    NaN    NaN     NaN\n",
       "2  200200034977    NaN    NaN     NaN\n",
       "3  200200035773    NaN    NaN     NaN\n",
       "4  200200036640    NaN    NaN     NaN"
      ]
     },
     "execution_count": 118,
     "metadata": {},
     "output_type": "execute_result"
    }
   ],
   "source": [
    "time_limit = team_links[['team', 'time_f', 'time_b', 'time_wr']]\n",
    "time_limit.head()"
   ]
  },
  {
   "cell_type": "markdown",
   "metadata": {},
   "source": [
    "#### Вычисляем переработки, предварительно удалив выбросы"
   ]
  },
  {
   "cell_type": "code",
   "execution_count": 119,
   "metadata": {
    "collapsed": false
   },
   "outputs": [
    {
     "name": "stdout",
     "output_type": "stream",
     "text": [
      "Всего 2 бригад с явно некорретными (более суток назад) временами последеней явки. Примеры:\n",
      "         team st_from_name   st_to_name   time_start_f     time_end_f curr_presence_norm\n",
      " 200200136231   НОВОНЕЖИНО  СМОЛЯНИНОВО  Jul 06, 14:41  Jul 06, 15:06      Jul 05, 01:00\n",
      " 200200064651      ТАКСИМО   НОВЫЙ УОЯН  Jul 06, 09:55  Jul 06, 14:34      Jul 05, 10:08\n"
     ]
    }
   ],
   "source": [
    "cols = ['team', 'st_from_name', 'st_to_name', 'time_start_f', 'time_end_f', 'curr_presence_norm']\n",
    "outliers = team_trips[team_trips.curr_presence < current_time - 24 * 3600]\n",
    "#outliers = team_trips[team_trips.info_presence < current_time - 24 * 3600]\n",
    "outliers_n = outliers.team.count()\n",
    "add_header('Всего %d бригад с явно некорретными (более суток назад) временами последеней явки. Примеры:' % outliers_n)\n",
    "add_line(outliers.sort_values('curr_presence_norm').head(10 if outliers_n > 20 else outliers_n)[cols])"
   ]
  },
  {
   "cell_type": "code",
   "execution_count": 120,
   "metadata": {
    "collapsed": false
   },
   "outputs": [
    {
     "data": {
      "text/html": [
       "<div>\n",
       "<table border=\"1\" class=\"dataframe\">\n",
       "  <thead>\n",
       "    <tr style=\"text-align: right;\">\n",
       "      <th></th>\n",
       "      <th>team</th>\n",
       "      <th>st_from_name</th>\n",
       "      <th>st_to_name</th>\n",
       "      <th>curr_presence_norm</th>\n",
       "      <th>time_start_f</th>\n",
       "      <th>time_end_f</th>\n",
       "      <th>time_limit</th>\n",
       "      <th>time_limit_no_rest</th>\n",
       "    </tr>\n",
       "  </thead>\n",
       "  <tbody>\n",
       "    <tr>\n",
       "      <th>0</th>\n",
       "      <td>200200171649</td>\n",
       "      <td>ВЫСОКОГОРНАЯ</td>\n",
       "      <td>КОМСОМОЛЬСК-НА-АМУРЕ-...</td>\n",
       "      <td>Jul 07, 02:22</td>\n",
       "      <td>Jul 07, 03:52</td>\n",
       "      <td>Jul 07, 11:00</td>\n",
       "      <td>39600</td>\n",
       "      <td>39600</td>\n",
       "    </tr>\n",
       "    <tr>\n",
       "      <th>1</th>\n",
       "      <td>200200251206</td>\n",
       "      <td>КАРЫМСКАЯ</td>\n",
       "      <td>ЧИТА I</td>\n",
       "      <td>Jul 06, 17:29</td>\n",
       "      <td>Jul 06, 19:35</td>\n",
       "      <td>Jul 06, 21:23</td>\n",
       "      <td>39600</td>\n",
       "      <td>39600</td>\n",
       "    </tr>\n",
       "    <tr>\n",
       "      <th>2</th>\n",
       "      <td>200200151664</td>\n",
       "      <td>ХИЛОК</td>\n",
       "      <td>ЧИТА I</td>\n",
       "      <td>Jul 06, 16:16</td>\n",
       "      <td>Jul 06, 17:25</td>\n",
       "      <td>Jul 06, 22:46</td>\n",
       "      <td>39600</td>\n",
       "      <td>39600</td>\n",
       "    </tr>\n",
       "    <tr>\n",
       "      <th>3</th>\n",
       "      <td>200200151664</td>\n",
       "      <td>ЧИТА I</td>\n",
       "      <td>ХИЛОК</td>\n",
       "      <td>Jul 07, 03:00</td>\n",
       "      <td>Jul 07, 04:20</td>\n",
       "      <td>Jul 07, 09:20</td>\n",
       "      <td>39600</td>\n",
       "      <td>39600</td>\n",
       "    </tr>\n",
       "    <tr>\n",
       "      <th>4</th>\n",
       "      <td>200200199014</td>\n",
       "      <td>СКОВОРОДИНО</td>\n",
       "      <td>ТЫНДА</td>\n",
       "      <td>Jul 07, 05:19</td>\n",
       "      <td>Jul 07, 06:00</td>\n",
       "      <td>Jul 07, 13:38</td>\n",
       "      <td>39600</td>\n",
       "      <td>39600</td>\n",
       "    </tr>\n",
       "  </tbody>\n",
       "</table>\n",
       "</div>"
      ],
      "text/plain": [
       "           team  st_from_name                st_to_name curr_presence_norm  \\\n",
       "0  200200171649  ВЫСОКОГОРНАЯ  КОМСОМОЛЬСК-НА-АМУРЕ-...      Jul 07, 02:22   \n",
       "1  200200251206     КАРЫМСКАЯ                    ЧИТА I      Jul 06, 17:29   \n",
       "2  200200151664         ХИЛОК                    ЧИТА I      Jul 06, 16:16   \n",
       "3  200200151664        ЧИТА I                     ХИЛОК      Jul 07, 03:00   \n",
       "4  200200199014   СКОВОРОДИНО                     ТЫНДА      Jul 07, 05:19   \n",
       "\n",
       "    time_start_f     time_end_f  time_limit  time_limit_no_rest  \n",
       "0  Jul 07, 03:52  Jul 07, 11:00       39600               39600  \n",
       "1  Jul 06, 19:35  Jul 06, 21:23       39600               39600  \n",
       "2  Jul 06, 17:25  Jul 06, 22:46       39600               39600  \n",
       "3  Jul 07, 04:20  Jul 07, 09:20       39600               39600  \n",
       "4  Jul 07, 06:00  Jul 07, 13:38       39600               39600  "
      ]
     },
     "execution_count": 120,
     "metadata": {},
     "output_type": "execute_result"
    }
   ],
   "source": [
    "pd.set_option('display.max_colwidth', 25)\n",
    "# Оставляем только корректные бригады\n",
    "team_trips = team_trips[(team_trips.team.isin(outliers.team) == False) & (team_trips.time_start < current_time + 24 * 3600)]\n",
    "team_trips['time_limit'] = team_trips.team.map(time_limit.set_index('team').time_f)\n",
    "team_trips['time_limit_no_rest'] = team_trips.team.map(time_limit.set_index('team').time_wr)\n",
    "team_trips.time_limit.fillna(WORK_TIME_LIMIT * 3600, inplace=True)\n",
    "team_trips.time_limit_no_rest.fillna(WORK_TIME_LIMIT * 3600, inplace=True)\n",
    "team_trips[['team', 'st_from_name', 'st_to_name', 'curr_presence_norm', 'time_start_f', 'time_end_f', 'time_limit', 'time_limit_no_rest']].head()"
   ]
  },
  {
   "cell_type": "code",
   "execution_count": 121,
   "metadata": {
    "collapsed": false
   },
   "outputs": [
    {
     "name": "stdout",
     "output_type": "stream",
     "text": [
      "Количество бригад с переработкой (показаны первые 10 интервалов):\n",
      "(0, 1]      137\n",
      "(1, 2]       52\n",
      "(2, 3]       25\n",
      "(3, 4]       14\n",
      "(4, 5]       21\n",
      "(5, 6]       10\n",
      "(6, 7]       10\n",
      "(8, 9]        7\n",
      "(9, 10]       5\n",
      "(10, 11]      6\n"
     ]
    }
   ],
   "source": [
    "team_trips['work_time'] = np.round(((team_trips.time_end - team_trips.curr_presence) / 3600), 2)\n",
    "#team_trips['overtime'] = team_trips.work_time.apply(lambda x: np.max([x - WORK_TIME_LIMIT, 0]))\n",
    "team_trips['overtime'] = np.round((team_trips.time_end - team_trips.curr_presence - team_trips.time_limit) / 3600, 2)\n",
    "team_trips['overtime'] = team_trips.overtime.apply(lambda x: 0 if x < 0 else x)\n",
    "cols = ['team', 'st_from_name', 'st_to_name', 'curr_presence_norm', 'time_end_f', 'overtime' ]\n",
    "add_header('Количество бригад с переработкой (показаны первые 10 интервалов):')\n",
    "add_line(pd.cut(team_trips.overtime, bins=np.arange(int(team_trips.overtime.max()) + 2), include_lowest=False)\\\n",
    "      .value_counts().head(10).sort_index())"
   ]
  },
  {
   "cell_type": "code",
   "execution_count": 122,
   "metadata": {
    "collapsed": false
   },
   "outputs": [
    {
     "name": "stdout",
     "output_type": "stream",
     "text": [
      "\n",
      "Бригады с переработкой больше 2 часов (всего 108):\n",
      "         team  st_from_name                st_to_name curr_presence_norm   time_start_f     time_end_f  overtime\n",
      " 200200188957      ИЛАНСКАЯ                  ИЛАНСКАЯ      Jul 06, 06:51  Jul 06, 23:29  Jul 07, 10:44     16.89\n",
      " 200200209057      УЛАН-УДЭ     ИРКУТСК-СОРТИРОВОЧНЫЙ      Jul 06, 05:20  Jul 06, 14:55  Jul 07, 07:36     15.28\n",
      " 200200210446   НОВЫЙ УРГАЛ                     ТЫРМА      Jul 06, 03:00  Jul 06, 22:30  Jul 07, 04:09     14.16\n",
      " 200200142325          ЗИМА                    ТАЙШЕТ      Jul 07, 11:07  Jul 07, 11:47  Jul 08, 12:05     13.96\n",
      " 200200221525  БЕЛОГОРСК II                     БУРЕЯ      Jul 07, 02:48  Jul 07, 03:28  Jul 08, 03:04     13.27\n",
      " 200200140106  БЕЛОГОРСК II                   ОБЛУЧЬЕ      Jul 07, 00:34  Jul 07, 01:15  Jul 07, 23:21     11.77\n",
      " 200200257814          ИРБА              БОЛЬШАЯ ИРБА      Jul 06, 12:30  Jul 07, 10:10  Jul 07, 10:28     10.97\n",
      " 210202160690         ТЫНДА                   ГОРЕЛЫЙ      Jul 06, 05:07  Jul 06, 20:30  Jul 07, 02:53     10.77\n",
      " 200200061103        КАДАЛА                     ХИЛОК      Jul 05, 22:00  Jul 06, 14:41  Jul 06, 19:40     10.68\n",
      " 200200256475      УЛАН-УДЭ                СЛЮДЯНКА I      Jul 06, 10:40  Jul 07, 02:55  Jul 07, 08:12     10.54\n",
      " 200200269889  МЕЖДУРЕЧЕНСК              ОРОСИТЕЛЬНЫЙ      Jul 06, 03:00  Jul 06, 17:10  Jul 07, 00:26     10.44\n",
      " 200200131758        ЯКУРИМ                 ВИХОРЕВКА      Jul 06, 03:00  Jul 06, 15:40  Jul 07, 00:17     10.28\n",
      " 200200181954        КУЭНГА  ЧЕРНЫШЕВСК-ЗАБАЙКАЛЬСКИЙ      Jul 05, 19:50  Jul 06, 15:35  Jul 06, 16:47      9.96\n",
      " 200200223869     МАГДАГАЧИ              БЕЛОГОРСК II      Jul 06, 04:50  Jul 06, 18:25  Jul 07, 01:07      9.29\n",
      " 200200132671      САЯНСКАЯ               КОШУРНИКОВО      Jul 06, 01:00  Jul 06, 16:10  Jul 06, 21:15      9.26\n",
      " 200200116638  ХАБАРОВСК II                   ОБЛУЧЬЕ      Jul 07, 10:09  Jul 07, 11:15  Jul 08, 06:22      9.23\n",
      " 200200225450     МАГДАГАЧИ              БЕЛОГОРСК II      Jul 06, 04:00  Jul 06, 17:30  Jul 07, 00:10      9.18\n",
      " 200200263147   СМОЛЯНИНОВО                    РУЖИНО      Jul 06, 03:40  Jul 06, 17:05  Jul 06, 23:19      8.67\n",
      " 200200176283        АБАКАН              МЕЖДУРЕЧЕНСК      Jul 06, 03:53  Jul 06, 16:55  Jul 06, 23:32      8.65\n",
      " 200200279045  МЕЖДУРЕЧЕНСК              ОРОСИТЕЛЬНЫЙ      Jul 06, 03:27  Jul 06, 15:20  Jul 06, 22:55      8.48\n",
      "\n",
      "Распределение бригад с переработкой больше 2 часов по типу:\n",
      "Реальная    107\n",
      "Фейковая      1\n"
     ]
    }
   ],
   "source": [
    "pd.set_option('display.max_colwidth', 25)\n",
    "cols = ['team', 'st_from_name', 'st_to_name', 'curr_presence_norm', 'time_start_f', 'time_end_f', 'overtime' ]\n",
    "add_header('\\nБригады с переработкой больше 2 часов (всего %d):' % len(team_trips.loc[team_trips.overtime > 2].index))\n",
    "add_line(team_trips.loc[team_trips.overtime > 2, cols].sort_values('overtime', ascending=False).head(20))\n",
    "\n",
    "add_header('\\nРаспределение бригад с переработкой больше 2 часов по типу:')\n",
    "team_trips['team_type'] = team_trips.team.map(team_plan.drop_duplicates('team').set_index('team').team_type)\n",
    "add_line(team_trips.loc[team_trips.overtime > 2].team_type.value_counts())"
   ]
  },
  {
   "cell_type": "code",
   "execution_count": 123,
   "metadata": {
    "collapsed": false
   },
   "outputs": [
    {
     "name": "stdout",
     "output_type": "stream",
     "text": [
      "Примеры планов бригад с переработками:\n",
      "Бригада 200200188957:\n",
      "         team depot_st_name   depot_time_f  return_time_f state          loco  loc_name\n",
      " 200200188957      ИЛАНСКАЯ  Jul 06, 06:51  Jul 05, 04:05     6  200200061057  ИЛАНСКАЯ\n",
      "         team st_from_name st_to_name  state   time_start_f     time_end_f          loco\n",
      " 200200188957     ИЛАНСКАЯ  ЗАОЗЕРНАЯ      1  Jul 06, 23:29  Jul 07, 01:28  200200057263\n",
      " 200200188957    ЗАОЗЕРНАЯ        УЯР      1  Jul 07, 01:28  Jul 07, 01:59  200200057263\n",
      " 200200188957          УЯР  ЗАОЗЕРНАЯ      1  Jul 07, 08:20  Jul 07, 08:51  200200092648\n",
      " 200200188957    ЗАОЗЕРНАЯ   ИЛАНСКАЯ      1  Jul 07, 08:51  Jul 07, 10:44  200200092648\n",
      "\n",
      "Бригада 200200209057:\n",
      "         team depot_st_name   depot_time_f  return_time_f state          loco  loc_name\n",
      " 200200209057      УЛАН-УДЭ  Jul 05, 08:30  Jul 06, 05:20     6  200200089310  УЛАН-УДЭ\n",
      "         team          st_from_name             st_to_name  state   time_start_f     time_end_f          loco\n",
      " 200200209057              УЛАН-УДЭ                МЫСОВАЯ      1  Jul 06, 14:55  Jul 06, 17:22  200200089310\n",
      " 200200209057               МЫСОВАЯ              БАЙКАЛЬСК      1  Jul 06, 17:22  Jul 06, 19:29  200200089310\n",
      " 200200209057             БАЙКАЛЬСК             СЛЮДЯНКА I      1  Jul 06, 19:29  Jul 06, 20:14  200200089310\n",
      " 200200209057            СЛЮДЯНКА I            СЛЮДЯНКА II      1  Jul 06, 20:14  Jul 06, 20:21  200200089310\n",
      " 200200209057           СЛЮДЯНКА II              АНГАСОЛКА      1  Jul 06, 20:21  Jul 06, 20:47  200200089310\n",
      " 200200209057             АНГАСОЛКА          АНДРИАНОВСКАЯ      1  Jul 06, 20:47  Jul 06, 21:01  200200089310\n",
      " 200200209057         АНДРИАНОВСКАЯ            БОЛЬШОЙ ЛУГ      1  Jul 06, 21:01  Jul 06, 22:09  200200089310\n",
      " 200200209057           БОЛЬШОЙ ЛУГ              ГОНЧАРОВО      1  Jul 06, 22:09  Jul 06, 22:27  200200089310\n",
      " 200200209057             ГОНЧАРОВО  ИРКУТСК-СОРТИРОВОЧНЫЙ      1  Jul 06, 22:27  Jul 06, 22:51  200200089310\n",
      " 200200209057                   КАЯ   ИРКУТСК-ПАССАЖИРСКИЙ      1  Jul 07, 07:15  Jul 07, 07:27  200200044731\n",
      " 200200209057  ИРКУТСК-ПАССАЖИРСКИЙ        ВОЕННЫЙ ГОРОДОК      1  Jul 07, 07:27  Jul 07, 07:33  200200044731\n",
      " 200200209057       ВОЕННЫЙ ГОРОДОК  ИРКУТСК-СОРТИРОВОЧНЫЙ      1  Jul 07, 07:33  Jul 07, 07:36  200200044731\n",
      "\n",
      "Бригада 200200210446:\n",
      "         team depot_st_name   depot_time_f  return_time_f state          loco     loc_name\n",
      " 200200210446   НОВЫЙ УРГАЛ  Jul 04, 21:15  Jul 06, 03:00     6  200200079460  НОВЫЙ УРГАЛ\n",
      "         team st_from_name st_to_name  state   time_start_f     time_end_f          loco\n",
      " 200200210446  НОВЫЙ УРГАЛ    АДНИКАН      1  Jul 06, 22:30  Jul 07, 00:01  200200100246\n",
      " 200200210446      АДНИКАН      ЭЛЬГА      1  Jul 07, 00:01  Jul 07, 00:27  200200100246\n",
      " 200200210446        ЭЛЬГА    ЯГДЫНЬЯ      1  Jul 07, 00:27  Jul 07, 01:33  200200100246\n",
      " 200200210446      ЯГДЫНЬЯ      УШМАН      1  Jul 07, 01:33  Jul 07, 02:54  200200100246\n",
      " 200200210446        УШМАН      МОШКА      1  Jul 07, 02:54  Jul 07, 03:23  200200100246\n",
      " 200200210446        МОШКА      ТЫРМА      1  Jul 07, 03:23  Jul 07, 04:09  200200100246\n",
      "\n"
     ]
    }
   ],
   "source": [
    "team_ids = team_trips.loc[team_trips.overtime > 2].sort_values('overtime', ascending=False).team.values[:3]\n",
    "#team_id = '777700001868'\n",
    "cols = ['team', 'st_from_name', 'st_to_name', 'state', 'time_start_f', 'time_end_f', 'loco']\n",
    "team_info['depot_time_f'] = team_info.depot_time.apply(nice_time)\n",
    "team_info['return_time_f'] = team_info.return_time.apply(nice_time)\n",
    "team_info['depot_st_name'] = team_info.depot_st.map(st_names.name)\n",
    "add_header('Примеры планов бригад с переработками:')\n",
    "for team_id in team_ids:\n",
    "    add_line('Бригада %s:' % team_id)\n",
    "    add_line(team_info[team_info.team == team_id][['team', 'depot_st_name', 'depot_time_f', 'return_time_f', 'state', 'loco', 'loc_name']])\n",
    "    add_line(team_plan[team_plan.team == team_id][cols])\n",
    "    add_line('')"
   ]
  },
  {
   "cell_type": "code",
   "execution_count": 124,
   "metadata": {
    "collapsed": false
   },
   "outputs": [
    {
     "data": {
      "image/png": "[encoded data removed]",
      "text/plain": [
       "<matplotlib.figure.Figure at 0x1d843bd0eb8>"
      ]
     },
     "metadata": {},
     "output_type": "display_data"
    }
   ],
   "source": [
    "sns.set_style('whitegrid')\n",
    "sns.set_context('notebook')\n",
    "sns.set_color_codes('dark')\n",
    "fig = plt.figure()\n",
    "to_hist = team_trips.loc[team_trips.overtime > 0].overtime\n",
    "ax = sns.distplot(to_hist, bins=20, color='b', hist=False, kde_kws={'shade':True})\n",
    "title = '''Бригады с переработкой\n",
    "(среднее время переработки %.2f ч., медиана %.2f ч.)\n",
    "(всего %d бригад с переработкой более 2 часов)''' % \\\n",
    "            (to_hist.mean(), to_hist.median(), len(team_trips.loc[team_trips.overtime > 2].index))\n",
    "ax.set(title=title, xlabel='Переработка (час)')\n",
    "#sns.despine()\n",
    "filename = 'team_overwork.png'\n",
    "fig.savefig(REPORT_FOLDER + filename, bbox_inches='tight')\n",
    "add_image(filename)"
   ]
  },
  {
   "cell_type": "markdown",
   "metadata": {},
   "source": [
    "<a id='leaps'></a>\n",
    "## Скачки по станциям на маршруте бригад [ToC](#toc)"
   ]
  },
  {
   "cell_type": "code",
   "execution_count": 125,
   "metadata": {
    "collapsed": true
   },
   "outputs": [],
   "source": [
    "add_header('Скачки по станциям на маршруте бригад', h=2, p=False)"
   ]
  },
  {
   "cell_type": "markdown",
   "metadata": {},
   "source": [
    "### Скачки внутри планируемого маршрута бригад"
   ]
  },
  {
   "cell_type": "code",
   "execution_count": 126,
   "metadata": {
    "collapsed": false
   },
   "outputs": [
    {
     "name": "stdout",
     "output_type": "stream",
     "text": [
      "\n",
      "Всего бригад, у которых есть скачки на маршруте: 152\n",
      "Всего скачков на маршруте бригад: 162 (показаны первые 10):\n",
      "         team         st_from_name           st_to_name         next_st   time_start_f     time_end_f  state state_info\n",
      " 200200171768         ПЕРВАЯ РЕЧКА          ВЛАДИВОСТОК    ПЕРВАЯ РЕЧКА  Jul 07, 11:11  Jul 07, 11:16      1          4\n",
      " 200200216349            БЕЛОГОРСК            БЕЛОГОРСК    БЕЛОГОРСК II  Jul 06, 21:47  Jul 06, 23:05      2          3\n",
      " 200200163885         БЕЛОГОРСК II         БЕЛОГОРСК II       БЕЛОГОРСК  Jul 06, 22:33  Jul 06, 23:13      2          3\n",
      " 200200112262            БЕЛОГОРСК            БЕЛОГОРСК    БЕЛОГОРСК II  Jul 07, 10:22  Jul 07, 11:40      2          3\n",
      " 200200096852            БЕЛОГОРСК            БЕЛОГОРСК    БЕЛОГОРСК II  Jul 07, 01:02  Jul 07, 02:20      2          3\n",
      " 200200223836         БЕЛОГОРСК II         БЕЛОГОРСК II       БЕЛОГОРСК  Jul 07, 17:31  Jul 07, 18:11      2          3\n",
      " 200200096997            БЕЛОГОРСК            БЕЛОГОРСК    БЕЛОГОРСК II  Jul 07, 10:07  Jul 07, 11:25      2          3\n",
      " 200200223776            БЕЛОГОРСК            БЕЛОГОРСК    БЕЛОГОРСК II  Jul 07, 10:52  Jul 07, 12:10      2          3\n",
      " 200200215965                БОРЗЯ                БОРЗЯ      ШАХТЕРСКАЯ  Jul 07, 09:20  Jul 07, 09:40      2          3\n",
      " 200200120807         БЕЛОГОРСК II         БЕЛОГОРСК II       БЕЛОГОРСК  Jul 07, 03:49  Jul 07, 04:30      2          3\n",
      " 200200233309         БЕЛОГОРСК II         БЕЛОГОРСК II       БЕЛОГОРСК  Jul 06, 19:29  Jul 06, 20:10      2          3\n",
      " 200200260463                 ЛЕНА                 ЛЕНА  ЛЕНА-ВОСТОЧНАЯ  Jul 07, 02:31  Jul 07, 04:20      2          3\n",
      " 200200097309  ИРКУТСК-СОРТИРОВ...  ИРКУТСК-СОРТИРОВ...       ГОНЧАРОВО  Jul 06, 12:47  Jul 06, 14:41      2          2\n",
      " 200200233160            БЕЛОГОРСК            БЕЛОГОРСК    БЕЛОГОРСК II  Jul 06, 19:17  Jul 06, 20:35      2          3\n",
      " 200200126652         БЕЛОГОРСК II         БЕЛОГОРСК II       БЕЛОГОРСК  Jul 07, 00:44  Jul 07, 01:25      2          3\n",
      " 200200250169              ЛЕДЯНАЯ            БЕЛОГОРСК    БЕЛОГОРСК II  Jul 06, 16:29  Jul 06, 18:15      1          1\n",
      " 200200091004            ВИХОРЕВКА            ВИХОРЕВКА          БРАТСК  Jul 07, 13:19  Jul 07, 15:06      2          3\n",
      " 777700002186          НИЖНЕУДИНСК          НИЖНЕУДИНСК          УДА II  Jul 08, 10:48  Jul 08, 11:48      2        NaN\n",
      " 200200250198              ЛЕДЯНАЯ            БЕЛОГОРСК    БЕЛОГОРСК II  Jul 06, 16:52  Jul 06, 18:38      1          1\n",
      " 200200126663         БЕЛОГОРСК II            БЕЛОГОРСК    БЕЛОГОРСК II  Jul 07, 02:00  Jul 07, 02:11      1          4\n",
      "\n",
      "Станции, на которых наблюдаются скачки (первые 5):\n",
      "БЕЛОГОРСК               81\n",
      "БЕЛОГОРСК II            28\n",
      "УЛАН-УДЭ                 9\n",
      "АБАКАН                   8\n",
      "КРАСНОЯРСК-ВОСТОЧНЫЙ     5\n",
      "\n",
      "Маршрут бригады 200200171768:\n",
      "         team    st_from_name      st_to_name   time_start_f     time_end_f  state          loco state_info\n",
      " 200200171768          РУЖИНО          РУЖИНО  Jul 06, 12:55  Jul 06, 19:37      4            -1          4\n",
      " 200200171768          РУЖИНО        ШМАКОВКА  Jul 06, 19:37  Jul 06, 20:20      0            -1          4\n",
      " 200200171768        ШМАКОВКА  СПАССК-ДАЛЬНИЙ  Jul 06, 20:38  Jul 06, 21:48      0            -1          4\n",
      " 200200171768  СПАССК-ДАЛЬНИЙ       СИБИРЦЕВО  Jul 06, 21:51  Jul 06, 22:51      0            -1          4\n",
      " 200200171768       СИБИРЦЕВО     ДУБИНИНСКИЙ  Jul 06, 23:07  Jul 06, 23:48      0            -1          4\n",
      " 200200171768     ДУБИНИНСКИЙ       УССУРИЙСК  Jul 06, 23:48  Jul 06, 23:57      0            -1          4\n",
      " 200200171768       УССУРИЙСК       УССУРИЙСК  Jul 07, 00:43  Jul 07, 01:55      2            -1          4\n",
      " 200200171768       УССУРИЙСК     БАРАНОВСКИЙ  Jul 07, 01:55  Jul 07, 02:18      1  200200033327          4\n",
      " 200200171768     БАРАНОВСКИЙ    НАДЕЖДИНСКАЯ  Jul 07, 02:18  Jul 07, 03:04      1  200200033327          4\n",
      " 200200171768    НАДЕЖДИНСКАЯ  АМУРСКИЙ ЗАЛИВ  Jul 07, 03:04  Jul 07, 03:12      1  200200033327          4\n",
      " 200200171768  АМУРСКИЙ ЗАЛИВ        УГОЛЬНАЯ  Jul 07, 03:12  Jul 07, 03:18      1  200200033327          4\n",
      " 200200171768        УГОЛЬНАЯ    ВТОРАЯ РЕЧКА  Jul 07, 03:18  Jul 07, 03:54      1  200200033327          4\n",
      " 200200171768    ВТОРАЯ РЕЧКА    ПЕРВАЯ РЕЧКА  Jul 07, 03:54  Jul 07, 04:01      1  200200033327          4\n",
      " 200200171768    ПЕРВАЯ РЕЧКА     ВЛАДИВОСТОК  Jul 07, 04:01  Jul 07, 04:08      1  200200033327          4\n",
      " 200200171768     ВЛАДИВОСТОК    ПЕРВАЯ РЕЧКА  Jul 07, 05:14  Jul 07, 05:20      0            -1          4\n",
      " 200200171768    ПЕРВАЯ РЕЧКА    ВТОРАЯ РЕЧКА  Jul 07, 05:20  Jul 07, 05:26      0            -1          4\n",
      " 200200171768    ВТОРАЯ РЕЧКА        УГОЛЬНАЯ  Jul 07, 05:26  Jul 07, 05:49      0            -1          4\n",
      " 200200171768        УГОЛЬНАЯ  АМУРСКИЙ ЗАЛИВ  Jul 07, 05:50  Jul 07, 05:53      0            -1          4\n",
      " 200200171768  АМУРСКИЙ ЗАЛИВ    НАДЕЖДИНСКАЯ  Jul 07, 05:53  Jul 07, 06:00      0            -1          4\n",
      " 200200171768    НАДЕЖДИНСКАЯ     БАРАНОВСКИЙ  Jul 07, 06:00  Jul 07, 06:40      0            -1          4\n",
      " 200200171768     БАРАНОВСКИЙ       УССУРИЙСК  Jul 07, 06:40  Jul 07, 06:59      0            -1          4\n",
      " 200200171768       УССУРИЙСК       УССУРИЙСК  Jul 07, 07:58  Jul 07, 09:10      2            -1          4\n",
      " 200200171768       УССУРИЙСК     БАРАНОВСКИЙ  Jul 07, 09:10  Jul 07, 09:34      1  200200031171          4\n",
      " 200200171768     БАРАНОВСКИЙ    НАДЕЖДИНСКАЯ  Jul 07, 09:34  Jul 07, 10:21      1  200200031171          4\n",
      " 200200171768    НАДЕЖДИНСКАЯ  АМУРСКИЙ ЗАЛИВ  Jul 07, 10:21  Jul 07, 10:29      1  200200031171          4\n",
      " 200200171768  АМУРСКИЙ ЗАЛИВ        УГОЛЬНАЯ  Jul 07, 10:29  Jul 07, 10:37      1  200200031171          4\n",
      " 200200171768        УГОЛЬНАЯ    ВТОРАЯ РЕЧКА  Jul 07, 10:37  Jul 07, 11:05      1  200200031171          4\n",
      " 200200171768    ВТОРАЯ РЕЧКА    ПЕРВАЯ РЕЧКА  Jul 07, 11:05  Jul 07, 11:11      1  200200031171          4\n",
      " 200200171768    ПЕРВАЯ РЕЧКА     ВЛАДИВОСТОК  Jul 07, 11:11  Jul 07, 11:16      1  200200031171          4\n",
      " 200200171768    ПЕРВАЯ РЕЧКА    ВТОРАЯ РЕЧКА  Jul 07, 17:15  Jul 07, 17:22      1  200200104646          4\n",
      " 200200171768    ВТОРАЯ РЕЧКА        УГОЛЬНАЯ  Jul 07, 17:22  Jul 07, 17:50      1  200200104646          4\n",
      " 200200171768        УГОЛЬНАЯ  АМУРСКИЙ ЗАЛИВ  Jul 07, 17:50  Jul 07, 17:53      1  200200104646          4\n",
      " 200200171768  АМУРСКИЙ ЗАЛИВ    НАДЕЖДИНСКАЯ  Jul 07, 17:53  Jul 07, 18:02      1  200200104646          4\n",
      " 200200171768    НАДЕЖДИНСКАЯ     БАРАНОВСКИЙ  Jul 07, 18:02  Jul 07, 18:46      1  200200104646          4\n",
      " 200200171768     БАРАНОВСКИЙ       УССУРИЙСК  Jul 07, 18:46  Jul 07, 19:10      1  200200104646          4\n"
     ]
    }
   ],
   "source": [
    "pd.set_option('display.max_colwidth', 20)\n",
    "team_cols = ['team', 'st_from_name', 'st_to_name', 'next_st', 'time_start_f', 'time_end_f', 'state', 'state_info']\n",
    "team_plan['is_end'] = team_plan.team != team_plan.team.shift(-1)\n",
    "team_plan['next_st'] = team_plan.st_from_name.shift(-1)\n",
    "team_leaps = team_plan.loc[(team_plan.is_end == False) \n",
    "                           & (team_plan.st_to_name != team_plan.next_st)\n",
    "                           & (team_plan.st_to_name.notnull())\n",
    "                           & (team_plan.next_st.notnull()), team_cols]\n",
    "team_leaps_n = len(team_leaps.team.drop_duplicates().index)\n",
    "add_header('\\nВсего бригад, у которых есть скачки на маршруте: %d' % team_leaps_n)\n",
    "add_header('Всего скачков на маршруте бригад: %d (показаны первые 10):' % len(team_leaps.index))\n",
    "add_line(team_leaps.head(20))\n",
    "\n",
    "add_header('\\nСтанции, на которых наблюдаются скачки (первые 5):')\n",
    "add_line(team_leaps.st_to_name.value_counts().head())\n",
    "\n",
    "# Пример маршрута такой бригады (подставить id из предыдущего вывода):\n",
    "team_cols2 = ['team', 'st_from_name', 'st_to_name', 'time_start_f', 'time_end_f', 'state', 'loco', 'state_info']\n",
    "#team_id = '200200164017'\n",
    "if not team_leaps.empty:\n",
    "    team_id = team_leaps.iloc[0].team\n",
    "    add_header('\\nМаршрут бригады %s:' % team_id)\n",
    "    add_line(team_plan.loc[team_plan.team == team_id, team_cols2])"
   ]
  },
  {
   "cell_type": "markdown",
   "metadata": {},
   "source": [
    "### Скачки между станцией исходного местоположения и первой станцией планирования"
   ]
  },
  {
   "cell_type": "code",
   "execution_count": 127,
   "metadata": {
    "collapsed": false
   },
   "outputs": [],
   "source": [
    "team_info.loc[team_info.st_from != '-1', 'first_station'] = team_info.loc[team_info.st_from != '-1', 'st_from']\n",
    "team_info.loc[team_info.st_from == '-1', 'first_station'] = team_info.loc[team_info.st_from == '-1', 'oper_location']\n",
    "team_info.loc[team_info.st_to != '-1', 'next_station'] = team_info.loc[team_info.st_to != '-1', 'st_to']\n",
    "team_info[['team', 'oper_location', 'st_from', 'first_station', 'next_station']]\n",
    "team_plan['first_station'] = team_plan.team.map(team_info.drop_duplicates('team').set_index('team').first_station)\n",
    "team_plan['next_station'] = team_plan.team.map(team_info.drop_duplicates('team').set_index('team').next_station)\n",
    "team_plan['first_st_name'] = team_plan.first_station.map(st_names.name)\n",
    "team_plan['next_st_name'] = team_plan.next_station.map(st_names.name)\n",
    "team_starts = team_plan[team_plan.state.isin([0, 1])].drop_duplicates('team').copy(deep=True)\n",
    "start_leaps = team_starts[((team_starts.first_station.isnull() == False) & (team_starts.st_from != team_starts.first_station)) | \n",
    "            ((team_starts.next_station.isnull() == False) & (team_starts.st_to != team_starts.next_station))]"
   ]
  },
  {
   "cell_type": "code",
   "execution_count": 128,
   "metadata": {
    "collapsed": false
   },
   "outputs": [
    {
     "name": "stdout",
     "output_type": "stream",
     "text": [
      "Распределение скачков бригад по станциям местоположения (показаны первые 5):\n",
      "БЕЛОГОРСК               41\n",
      "БЕЛОГОРСК II            21\n",
      "КРАСНОЯРСК-ВОСТОЧНЫЙ     8\n",
      "УССУРИЙСК                4\n",
      "БОРЗЯ                    4\n",
      "\n",
      "Бригады со скачками между станцией местоположения и первой станцией в маршруте (показаны первые 10):\n",
      "         team    st_from_name           st_to_name          loco first_st_name next_st_name loco_info\n",
      " 200200216349    БЕЛОГОРСК II              ЗАВИТАЯ  200200090258     БЕЛОГОРСК          NaN        -1\n",
      " 200200163885       БЕЛОГОРСК              ЛЕДЯНАЯ  200200076200  БЕЛОГОРСК II          NaN        -1\n",
      " 200200112262    БЕЛОГОРСК II              ЗАВИТАЯ  200200102782     БЕЛОГОРСК          NaN        -1\n",
      " 200200096852    БЕЛОГОРСК II            БЕЛОГОРСК  200200139415     БЕЛОГОРСК          NaN        -1\n",
      " 200200096997    БЕЛОГОРСК II              ЗАВИТАЯ  200200088982     БЕЛОГОРСК          NaN        -1\n",
      " 200200223776    БЕЛОГОРСК II              ЗАВИТАЯ  200200099513     БЕЛОГОРСК          NaN        -1\n",
      " 200200215965      ШАХТЕРСКАЯ  ЯСНОГОРСК-ЗАБАЙК...  200200099559         БОРЗЯ          NaN        -1\n",
      " 200200120807       БЕЛОГОРСК              ЛЕДЯНАЯ  200200093146  БЕЛОГОРСК II          NaN        -1\n",
      " 200200233309       БЕЛОГОРСК              ЛЕДЯНАЯ  200208843824  БЕЛОГОРСК II          NaN        -1\n",
      " 200200260463  ЛЕНА-ВОСТОЧНАЯ            ЧУДНИЧНЫЙ  200200030437          ЛЕНА          NaN        -1\n"
     ]
    }
   ],
   "source": [
    "cols = ['team', 'st_from_name', 'st_to_name', 'loco', 'first_st_name', 'next_st_name', 'loco_info']\n",
    "first_st_leaps = team_starts[(team_starts.first_station.isnull() == False) & (team_starts.next_station.isnull())\n",
    "                             & (team_starts.st_from != team_starts.first_station)]\n",
    "add_header('Распределение скачков бригад по станциям местоположения (показаны первые 5):')\n",
    "add_line(first_st_leaps.first_st_name.value_counts().head())\n",
    "add_header('\\nБригады со скачками между станцией местоположения и первой станцией в маршруте (показаны первые 10):')\n",
    "add_line(first_st_leaps[cols].head(10))"
   ]
  },
  {
   "cell_type": "code",
   "execution_count": 129,
   "metadata": {
    "collapsed": false
   },
   "outputs": [
    {
     "name": "stdout",
     "output_type": "stream",
     "text": [
      "Распределение скачков бригад по станциям направления (показаны первые 5):\n",
      "БЕРКАКИТ                   2\n",
      "ТАШЕБА                     1\n",
      "БЛОКПОСТ 1571 КМ           1\n",
      "КАДАЛА                     1\n",
      "ГИДРОСТРОИТЕЛЬ             1\n",
      "СЕЛЬГОН                    1\n",
      "КОМСОМОЛЬСК-НА-АМУРЕ II    1\n",
      "\n",
      "Бригады со скачками между станцией направления и первой станцией направления в маршруте (показаны первые 10):\n",
      "         team         st_from_name           st_to_name          loco        first_st_name         next_st_name     loco_info  train\n",
      " 200200105330               КАДАЛА               ЧИТА I  200200140102               ЛЕСНАЯ               КАДАЛА  200216073304   3512\n",
      " 200200244511              СЕЛЬГОН                МЫЛКИ            -1                МЫЛКИ              СЕЛЬГОН  200200042399   4885\n",
      " 200200252303                  NaN         ВОЛОЧАЕВКА I            -1         ВОЛОЧАЕВКА I                  NaN  200200086598   3815\n",
      " 200200251514     БЛОКПОСТ 1571 КМ      ДАЛЬНЕРЕЧЕНСК I            -1      ДАЛЬНЕРЕЧЕНСК I     БЛОКПОСТ 1571 КМ  200200057599   4886\n",
      " 200200067275  КОМСОМОЛЬСК-НА-А...  КОМСОМОЛЬСК-НА-А...  200200075642               ЭВОРОН  КОМСОМОЛЬСК-НА-А...  200200086043   4802\n",
      " 200200156145                  NaN                 БИРА            -1                 БИРА                  NaN  200200058589   8202\n",
      " 200200146953             БЕРКАКИТ            БЕСТУЖЕВО            -1            БЕСТУЖЕВО             БЕРКАКИТ  200200093840   3312\n",
      " 200200109496               ТАШЕБА               АБАКАН            -1    ЧЕРНОГОРСКИЕ КОПИ               ТАШЕБА  200200090540   4805\n",
      " 200200210100       ГИДРОСТРОИТЕЛЬ     ПАДУНСКИЕ ПОРОГИ            -1  КОРШУНИХА-АНГАРСКАЯ       ГИДРОСТРОИТЕЛЬ  200200090145   4401\n",
      " 200200231081             БЕРКАКИТ            БЕСТУЖЕВО            -1            БЕСТУЖЕВО             БЕРКАКИТ  200200062580   3314\n"
     ]
    }
   ],
   "source": [
    "cols = ['team', 'st_from_name', 'st_to_name', 'loco', 'first_st_name', 'next_st_name', 'loco_info', 'train']\n",
    "loco_info['train_number'] = loco_info.train.map(train_info.drop_duplicates('train').set_index('train').number)\n",
    "team_starts['train'] = team_starts.loco_info.map(loco_info.drop_duplicates('loco').set_index('loco').train_number)\n",
    "next_st_leaps = team_starts[(team_starts.next_station.isnull() == False) \n",
    "                            & (team_starts.st_to != team_starts.next_station)]\n",
    "add_header('Распределение скачков бригад по станциям направления (показаны первые 5):')\n",
    "add_line(next_st_leaps.next_st_name.value_counts())\n",
    "add_header('\\nБригады со скачками между станцией направления и первой станцией направления в маршруте (показаны первые 10):')\n",
    "add_line(next_st_leaps[cols].head(10))"
   ]
  },
  {
   "cell_type": "markdown",
   "metadata": {},
   "source": [
    "<a id='stop_time'></a>\n",
    "## Анализ времен стоянок локомотивов для смены бригады [ToC](#toc)"
   ]
  },
  {
   "cell_type": "code",
   "execution_count": 130,
   "metadata": {
    "collapsed": true
   },
   "outputs": [],
   "source": [
    "add_header('Анализ времен стоянок локомотивов для смены бригады', h=2, p=False)"
   ]
  },
  {
   "cell_type": "markdown",
   "metadata": {},
   "source": [
    "#### Распределение времен стоянок для смены бригады"
   ]
  },
  {
   "cell_type": "code",
   "execution_count": 131,
   "metadata": {
    "collapsed": false
   },
   "outputs": [
    {
     "data": {
      "image/png": "[encoded data removed]",
      "text/plain": [
       "<matplotlib.figure.Figure at 0x1d84739e828>"
      ]
     },
     "metadata": {},
     "output_type": "display_data"
    }
   ],
   "source": [
    "# Смена бригады без стоянки локомотива\n",
    "cols = ['loco', 'st_from_name', 'st_to_name', 'time_start', 'time_end', 'team', 'time_start_next', 'loco_finish', 'stop_time']\n",
    "\n",
    "loco_plan['team_start'] = (loco_plan.team != loco_plan.team.shift(1)) | (loco_plan.loco != loco_plan.loco.shift(1))\n",
    "loco_plan['team_end'] = (loco_plan.team != loco_plan.team.shift(-1)) | (loco_plan.loco != loco_plan.loco.shift(-1))\n",
    "start_teams = loco_plan.loc[(loco_plan.team.isin([-1, 0]) == False) & (loco_plan.team_start == True)].reset_index()\\\n",
    "                            [['loco', 'st_from_name', 'time_start', 'time_start_f', 'train', 'team']]\n",
    "end_teams = loco_plan.loc[(loco_plan.team.isin([-1, 0]) == False) & (loco_plan.team_end == True)].reset_index()\\\n",
    "                            [['st_to_name', 'time_end', 'time_end_f']]\n",
    "teams_trip = pd.concat([start_teams, end_teams], axis=1)\n",
    "teams_trip['time_start_next'] = teams_trip.time_start.shift(-1)\n",
    "teams_trip['loco_finish'] = teams_trip.loco != teams_trip.loco.shift(-1)\n",
    "teams_trip.loc[teams_trip.loco_finish == False, 'stop_time'] = teams_trip.time_start_next - teams_trip.time_end\n",
    "sns.set_style('ticks')\n",
    "sns.set_context('talk')\n",
    "sns.set_color_codes('dark')\n",
    "fig = plt.figure()\n",
    "series_to_hist = teams_trip.dropna(subset=['stop_time']).stop_time / 3600\n",
    "#series_to_hist2 = teams_trip.dropna(subset=['stop_time']).loc[(teams_trip.stop_time > 90 * 60)].stop_time / 3600\n",
    "series_to_hist.name = 'Время стоянки локомотива для смены бригады (час)'\n",
    "title = 'Распределение времен стоянок локомотивов для смены бригад\\n(среднее %.2f ч., медиана %.2f ч.)' %\\\n",
    "        (series_to_hist.mean(), series_to_hist.median())\n",
    "ax = sns.distplot(series_to_hist, hist_kws={'label':'a'}, color='b', hist=False, kde_kws={'shade':True})\n",
    "ax.set_title(title)\n",
    "sns.despine()\n",
    "filename = 'loco_stop_time.png'\n",
    "fig.savefig(REPORT_FOLDER + filename, bbox_inches='tight')\n",
    "add_image(filename)"
   ]
  },
  {
   "cell_type": "markdown",
   "metadata": {},
   "source": [
    "#### Поиск локомотивов, у которых смены бригады занимает меньше 15 минут"
   ]
  },
  {
   "cell_type": "code",
   "execution_count": 132,
   "metadata": {
    "collapsed": false
   },
   "outputs": [
    {
     "name": "stdout",
     "output_type": "stream",
     "text": [
      "Всего 72 локомотивов со сменой бригад быстрее 15 минут (показаны первые 10):\n",
      "         loco  st_from_name    st_to_name     time_end_f       tsn_norm            train  stop_time          team\n",
      " 200200028549      ГВОЗДЕВО     СУХАНОВКА  Jul 07, 05:07  Jul 07, 05:07     200231587478          0  200200230785\n",
      " 200200035404  ХАБАРОВСК II  ВОЛОЧАЕВКА I  Jul 07, 10:35  Jul 07, 10:35  999912435012009          0  200200167408\n",
      " 200200046285  ХАБАРОВСК II          БИРА  Jul 07, 20:26  Jul 07, 20:26   88880016424505          0  777700001354\n",
      " 200200047258     ЧЕРЕМХОВО     СУХОВСКАЯ  Jul 06, 16:57  Jul 06, 16:57     200231013568          0  200200242813\n",
      " 200200049020         МЕГЕТ     СУХОВСКАЯ  Jul 07, 08:50  Jul 07, 08:50   88880001094375          0  200200168760\n",
      " 200200053309       НАХОДКА    ПАРТИЗАНСК  Jul 06, 22:54  Jul 06, 22:54   88880013304595          0  200200164359\n",
      " 200200064525       ОБЛУЧЬЕ          БИРА  Jul 07, 03:15  Jul 07, 03:15     220206891748          0  777700000264\n",
      " 200200066566       ОБЛУЧЬЕ          БИРА  Jul 07, 00:51  Jul 07, 00:51     220204858848          0  777700000265\n",
      " 200200068759       ОБЛУЧЬЕ          БИРА  Jul 07, 09:21  Jul 07, 09:21     220205100079          0  777700000924\n",
      " 200200069857          ЗИМА     ЧЕРЕМХОВО  Jul 06, 20:59  Jul 06, 20:59     200230998780          0  200200237641\n",
      "\n",
      "Распределение проблемных локомотивов по станциям смены (показаны первые 10 по частоте):\n",
      "             station  freq  norm_time\n",
      "                БИРА    16          0\n",
      "              ТАЛЬЦЫ     5          0\n",
      "         ВЕРХНЕЗЕЙСК     5      13752\n",
      "               БУРЕЯ     3          0\n",
      "           ГОНЧАРОВО     3          0\n",
      "         ДУБИНИНСКИЙ     3          0\n",
      "          ПАРТИЗАНСК     3          0\n",
      " КОРШУНИХА-АНГАРСКАЯ     3       6372\n",
      "           ИРБЕЙСКАЯ     2          0\n",
      "           СУХОВСКАЯ     2          0\n",
      "\n",
      "Распределение проблемных локомотивов по типам поездов:\n",
      "Реальный    35\n",
      "Резерв      27\n",
      "Задания     10\n"
     ]
    }
   ],
   "source": [
    "#add_line('Время начала планирования' % time.ctime(current_time))\n",
    "cols2 = ['loco', 'st_from_name', 'st_to_name', 'time_end_f', 'tsn_norm', 'train', 'stop_time', 'team']\n",
    "pd.set_option('display.max_colwidth', 20)\n",
    "teams_trip = teams_trip.dropna(subset=['time_start_next'])\n",
    "teams_trip['tsn_norm'] = teams_trip.time_start_next.apply(lambda x: time.strftime(time_format, time.localtime(x)))\n",
    "teams_trip.loc[teams_trip.stop_time.isnull() == False, 'next_team'] = teams_trip.team.shift(-1)\n",
    "teams_trip['train_type'] = teams_trip.train.apply(lambda x: 'Резерв' if str(x)[0]=='8' \\\n",
    "                                                      else ('Задания' if str(x)[0]=='9' else 'Реальный'))\n",
    "fast_change = teams_trip.loc[teams_trip.stop_time < 15 * 60]\n",
    "if fast_change.empty == False:\n",
    "    add_header('Всего %d локомотивов со сменой бригад быстрее 15 минут (показаны первые 10):' % len(fast_change.index))\n",
    "    add_line(fast_change[cols2].sort_values(['stop_time', 'loco']).head(10))\n",
    "    add_header('\\nРаспределение проблемных локомотивов по станциям смены (показаны первые 10 по частоте):')\n",
    "    bad_st = fast_change.st_to_name.value_counts().to_frame().reset_index()\n",
    "    bad_st.columns = ['station', 'freq']\n",
    "    bad_st['norm_time'] = bad_st['station'].map(stations.drop_duplicates(subset=['name']).set_index('name').norm_time)\n",
    "    add_line(bad_st.head(10))\n",
    "    add_header('\\nРаспределение проблемных локомотивов по типам поездов:')    \n",
    "    add_line(fast_change.train_type.value_counts())\n",
    "else:\n",
    "    add_line('Нет локомотивов со сменой бригад со стоянкой меньше 15 минут')\n",
    "    \n",
    "# Посмотреть маршруты конкретных локомотивов или бригад\n",
    "loco_cols = ['loco', 'st_from','st_to', 'st_from_name', 'st_to_name', 'time_start', 'time_end', 'team']\n",
    "#team_cols = ['team', 'st_from_name', 'st_to_name', 'time_start_f', 'time_end_f', 'state', 'loco']\n",
    "#print(loco_plan.loc[loco_plan.loco == '200200093307', loco_cols].to_string(index=False))\n",
    "#print(team_plan.loc[team_plan.loco == '200250042559', team_cols].sort_values('time_start_norm').to_string(index=False))"
   ]
  },
  {
   "cell_type": "markdown",
   "metadata": {},
   "source": [
    "<a id='rest_time'></a>\n",
    "## Проверка времен отдыха бригад [ToC](#toc)"
   ]
  },
  {
   "cell_type": "code",
   "execution_count": 133,
   "metadata": {
    "collapsed": true
   },
   "outputs": [],
   "source": [
    "add_header('Проверка времен отдыха бригад', h=2, p=False)"
   ]
  },
  {
   "cell_type": "code",
   "execution_count": 134,
   "metadata": {
    "collapsed": false
   },
   "outputs": [
    {
     "name": "stdout",
     "output_type": "stream",
     "text": [
      "Время начала планирования: Jul 06, 14:41\n",
      "Бригад с аномально большим временем отдыха: 0 (показаны первые 10):\n",
      "Минимальное время отдыха (3 часа) нарушено у 1 бригад (показаны первые 10):\n",
      "         team st_from_name st_to_name   time_start_f     time_end_f  time  state\n",
      " 200200098272     МАРИИНСК   МАРИИНСК  Jul 06, 14:46  Jul 06, 14:41 -0.08      4\n"
     ]
    }
   ],
   "source": [
    "add_line('Время начала планирования: %s' % time.strftime(time_format, time.localtime(current_time)))\n",
    "team_cols = ['team', 'st_from_name', 'st_to_name', 'time_start_f', 'time_end_f', 'time', 'state', 'loco']\n",
    "team_plan['time'] = np.round(((team_plan.time_end - team_plan.time_start) / 3600), 2)\n",
    "rest_outliers = team_plan[(team_plan.state == 4) & (team_plan.time > 1000)]\n",
    "add_header('Бригад с аномально большим временем отдыха: %d (показаны первые 10):' % len(rest_outliers.index))\n",
    "out_cols = ['team', 'st_from_name', 'st_to_name', 'time_start_f', 'time_end_f', 'time', 'state']\n",
    "if not rest_outliers.empty:\n",
    "    add_line(rest_outliers[out_cols].head(10))\n",
    "\n",
    "rest_check = team_plan[(team_plan.state == 4) & (team_plan.time < 1000)]\n",
    "\n",
    "min_rest = rest_check.time.min()\n",
    "if min_rest < 3:\n",
    "    add_header('Минимальное время отдыха (3 часа) нарушено у %d бригад (показаны первые 10):' \\\n",
    "          % len(rest_check[rest_check.time < 3].index))\n",
    "    add_line(rest_check[rest_check.time < 3][out_cols].head(10))    \n",
    "else:\n",
    "    add_header('Минимальное время отдыха бригад: %.2f часа' % (min_rest))"
   ]
  },
  {
   "cell_type": "markdown",
   "metadata": {},
   "source": [
    "#### Отсев бригад со слишком ранним временем явки"
   ]
  },
  {
   "cell_type": "code",
   "execution_count": 135,
   "metadata": {
    "collapsed": false
   },
   "outputs": [
    {
     "name": "stdout",
     "output_type": "stream",
     "text": [
      "Всего 483 бригад со слишком большим отдыхом и слишком ранним временем явки (сутки назад и более). Примеры:\n",
      "         team    st_from_name      st_to_name   time_start_f     time_end_f   time  state\n",
      " 200200102695     СМОЛЯНИНОВО     СМОЛЯНИНОВО  Jul 06, 04:15  Jul 07, 14:34  34.32      4\n",
      " 200200152886          АБАКАН          АБАКАН  Jul 06, 08:15  Jul 07, 14:20  30.07      4\n",
      " 200200235688          РУЖИНО          РУЖИНО  Jul 06, 13:30  Jul 07, 17:31  28.02      4\n",
      " 200200241719          АБАКАН          АБАКАН  Jul 06, 11:00  Jul 07, 14:20  27.33      4\n",
      " 200200196518        ГВОЗДЕВО        ГВОЗДЕВО  Jul 06, 13:00  Jul 07, 13:03  24.05      4\n",
      " 200200140550       ВИХОРЕВКА       ВИХОРЕВКА  Jul 06, 11:13  Jul 07, 10:23  23.18      4\n",
      " 200200255414       ОЛОВЯННАЯ       ОЛОВЯННАЯ  Jul 06, 13:20  Jul 07, 10:56  21.60      4\n",
      " 200200100683       ФЕВРАЛЬСК       ФЕВРАЛЬСК  Jul 06, 13:01  Jul 07, 10:30  21.48      4\n",
      " 200200258792       СИБИРЦЕВО       СИБИРЦЕВО  Jul 06, 11:56  Jul 07, 09:19  21.38      4\n",
      " 200200190578  СПАССК-ДАЛЬНИЙ  СПАССК-ДАЛЬНИЙ  Jul 06, 06:12  Jul 07, 02:33  20.35      4\n"
     ]
    }
   ],
   "source": [
    "rest_old_presence = rest_check[(rest_check.info_presence < current_time - 12 * 3600) & (rest_check.state_info != '3')]\n",
    "add_header('Всего %d бригад со слишком большим отдыхом и слишком ранним временем явки (сутки назад и более). Примеры:' \n",
    "           % rest_old_presence.team.count())\n",
    "add_line(rest_old_presence.sort_values('time', ascending=False)[out_cols].head(10))"
   ]
  },
  {
   "cell_type": "markdown",
   "metadata": {},
   "source": [
    "#### Бригады со слишком большим отдыхом"
   ]
  },
  {
   "cell_type": "code",
   "execution_count": 136,
   "metadata": {
    "collapsed": false
   },
   "outputs": [
    {
     "name": "stdout",
     "output_type": "stream",
     "text": [
      "Всего 194 бригад с большим временем отдыха (больше 10 часов) (показаны первые 10):\n",
      "         team    st_from_name      st_to_name   time_start_f     time_end_f   time  state\n",
      " 200200195427     СМОЛЯНИНОВО     СМОЛЯНИНОВО  Jul 06, 14:15  Jul 07, 14:34  24.32      4\n",
      " 210213067951     БАРАНОВСКИЙ     БАРАНОВСКИЙ  Jul 06, 23:20  Jul 07, 21:37  22.28      4\n",
      " 200200209989     БАРАНОВСКИЙ     БАРАНОВСКИЙ  Jul 06, 23:20  Jul 07, 21:37  22.28      4\n",
      " 200200164754     БАРАНОВСКИЙ     БАРАНОВСКИЙ  Jul 06, 23:30  Jul 07, 21:37  22.11      4\n",
      " 200200250327       ФЕВРАЛЬСК       ФЕВРАЛЬСК  Jul 06, 12:53  Jul 07, 10:30  21.62      4\n",
      " 200200260609    ВЫСОКОГОРНАЯ    ВЫСОКОГОРНАЯ  Jul 06, 20:26  Jul 07, 17:53  21.45      4\n",
      " 200200145702  РАЗЪЕЗД 557 КМ  РАЗЪЕЗД 557 КМ  Jul 06, 20:47  Jul 07, 18:13  21.43      4\n",
      " 200200162043     СМОЛЯНИНОВО     СМОЛЯНИНОВО  Jul 06, 17:11  Jul 07, 14:34  21.37      4\n",
      " 200200144639    БЕЛОГОРСК II    БЕЛОГОРСК II  Jul 07, 21:41  Jul 08, 18:05  20.39      4\n",
      " 200200153402    БЕЛОГОРСК II    БЕЛОГОРСК II  Jul 07, 21:47  Jul 08, 18:05  20.30      4\n"
     ]
    }
   ],
   "source": [
    "long_rest = rest_check[(rest_check.time > 10) & (rest_check.team.isin(rest_old_presence.team) == False)]\n",
    "add_header('Всего %d бригад с большим временем отдыха (больше 10 часов) (показаны первые 10):' % len(long_rest.index))\n",
    "add_line(long_rest.sort_values('time', ascending=False)[out_cols].head(10))"
   ]
  },
  {
   "cell_type": "code",
   "execution_count": 137,
   "metadata": {
    "collapsed": false
   },
   "outputs": [
    {
     "data": {
      "image/png": "[encoded data removed]",
      "text/plain": [
       "<matplotlib.figure.Figure at 0x1d84846ad68>"
      ]
     },
     "metadata": {},
     "output_type": "display_data"
    }
   ],
   "source": [
    "rest_show = rest_check[(rest_check.team.isin(rest_old_presence.team) == False)]\n",
    "title = 'Распределение бригад по временам на отдых\\n(медианное время отдыха = %.2f час)' % (rest_show.time.median())\n",
    "sns.set_style('whitegrid')\n",
    "sns.set_context('notebook')\n",
    "fig = plt.figure()\n",
    "ax = sns.distplot(rest_show.time, hist=False, kde_kws={'shade':True}, color='b')\n",
    "ax.set(title=title)\n",
    "sns.despine()\n",
    "filename = 'team_rest_time.png'\n",
    "fig.savefig(REPORT_FOLDER + filename, bbox_inches='tight')\n",
    "add_image(filename)"
   ]
  },
  {
   "cell_type": "markdown",
   "metadata": {},
   "source": [
    "#### Бригады с недостаточным отдыхом"
   ]
  },
  {
   "cell_type": "code",
   "execution_count": 138,
   "metadata": {
    "collapsed": false
   },
   "outputs": [],
   "source": [
    "rest = team_plan[team_plan.state == 4][['team', 'time_start', 'time']]\n",
    "team_trips['rest_start_time'] = team_trips.team.map(rest.set_index('team').time_start)\n",
    "team_trips['rest_start_time_f'] = team_trips.rest_start_time\\\n",
    "                .apply(lambda x: time.strftime(time_format, time.localtime(x)) if np.isnan(x) == False else '')\n",
    "team_trips['rest_time'] = team_trips.team.map(rest.set_index('team').time)\n",
    "team_trips['min_rest_time'] = np.round((team_trips.rest_start_time - team_trips.curr_presence) / (2 * 3600), 2)\n",
    "team_trips['underrest'] = team_trips.min_rest_time - team_trips.rest_time"
   ]
  },
  {
   "cell_type": "code",
   "execution_count": 139,
   "metadata": {
    "collapsed": true
   },
   "outputs": [],
   "source": [
    "# Для подсчета требуемого отдыха удаляем поездки, которые связаны с одной явкой бригады; \n",
    "# для каждой явки оставляем только последнюю поездку, чтобы правильно взять полное рабочее время.\n",
    "team_trips_cut = team_trips.sort_values(['team', 'curr_presence', 'work_time'], ascending=[True, True, False])\\\n",
    "                            .drop_duplicates(subset=['team', 'curr_presence'])"
   ]
  },
  {
   "cell_type": "code",
   "execution_count": 140,
   "metadata": {
    "collapsed": false
   },
   "outputs": [
    {
     "name": "stdout",
     "output_type": "stream",
     "text": [
      "Всего 810 бригад с недостаточным отдыхом:\n",
      "Распределение по типу бригад:\n",
      "Реальная    546\n",
      "Фейковая    264\n"
     ]
    }
   ],
   "source": [
    "cols = ['team', 'curr_presence_norm', 'time_start_f', 'rest_start_time_f', \n",
    "        'work_time', 'min_rest_time', 'rest_time', 'underrest']\n",
    "underrest = team_trips_cut[(team_trips_cut.time_start < team_trips_cut.rest_start_time) & (team_trips_cut.underrest > 0)]\n",
    "underrest_n = underrest.team.drop_duplicates().count()\n",
    "add_header('Всего %d бригад с недостаточным отдыхом:' % underrest_n)\n",
    "add_header('Распределение по типу бригад:')\n",
    "add_line(underrest.team_type.value_counts())"
   ]
  },
  {
   "cell_type": "code",
   "execution_count": 141,
   "metadata": {
    "collapsed": false
   },
   "outputs": [
    {
     "name": "stdout",
     "output_type": "stream",
     "text": [
      "Всего 701 бригад без переработки с недостаточным отдыхом.\n",
      "\n",
      "Распределение по типу бригад:\n",
      "Реальная    462\n",
      "Фейковая    239\n",
      "\n",
      "Примеры бригад без переработки с недостаточным отдыхом:\n",
      "         team curr_presence_norm   time_start_f rest_start_time_f  work_time  min_rest_time  rest_time  underrest\n",
      " 200200254705      Jul 07, 00:30  Jul 07, 00:50     Jul 07, 14:55       2.76           7.20       3.00       4.20\n",
      " 200200266353      Jul 06, 12:40  Jul 06, 17:30     Jul 06, 23:12      10.04           5.27       3.00       2.27\n",
      " 200200091441      Jul 06, 13:37  Jul 06, 17:10     Jul 06, 23:37       9.50           5.00       3.67       1.33\n",
      " 200200225972      Jul 07, 00:47  Jul 07, 02:17     Jul 07, 11:06       3.75           5.17       3.87       1.30\n",
      " 200200218983      Jul 07, 00:47  Jul 07, 02:17     Jul 07, 11:06       3.75           5.17       3.87       1.30\n",
      " 200200103092      Jul 07, 00:47  Jul 07, 02:17     Jul 07, 11:06       3.75           5.17       3.87       1.30\n",
      " 200200154333      Jul 07, 00:47  Jul 07, 02:17     Jul 07, 11:06       3.75           5.17       3.87       1.30\n",
      " 200200086144      Jul 07, 00:47  Jul 07, 02:17     Jul 07, 11:06       3.75           5.17       3.87       1.30\n",
      " 200200174981      Jul 07, 04:50  Jul 07, 06:20     Jul 07, 13:26       4.83           4.30       3.00       1.30\n",
      " 200200132345      Jul 06, 22:45  Jul 07, 00:45     Jul 07, 08:44       9.49           5.00       3.74       1.26\n"
     ]
    },
    {
     "data": {
      "image/png": "[encoded data removed]",
      "text/plain": [
       "<matplotlib.figure.Figure at 0x1d84a93cfd0>"
      ]
     },
     "metadata": {},
     "output_type": "display_data"
    }
   ],
   "source": [
    "underrest_no_overtime = underrest[underrest.work_time <= WORK_TIME_LIMIT]\n",
    "underrest_no_n = underrest_no_overtime.team.drop_duplicates().count()\n",
    "add_header('Всего %d бригад без переработки с недостаточным отдыхом.' % underrest_no_n)\n",
    "add_header('\\nРаспределение по типу бригад:')\n",
    "add_line(underrest_no_overtime.team_type.value_counts())\n",
    "add_header('\\nПримеры бригад без переработки с недостаточным отдыхом:')\n",
    "add_line(underrest_no_overtime.sort_values('underrest', ascending=False).head(10 if underrest_no_n > 20 else underrest_no_n)[cols])\n",
    "\n",
    "sns.set_context('notebook')\n",
    "sns.set_style('whitegrid')\n",
    "title = 'Распределение недостаточного отдыха бригад\\n(медианное время недоотдыха = %.2f час)' \\\n",
    "            % (underrest_no_overtime.underrest.median())\n",
    "fig = plt.figure()\n",
    "ax = sns.distplot(underrest_no_overtime.underrest, color='b', hist=False, kde_kws={'shade':True})\n",
    "ax.set(title=title, xlabel='Недостаточный отдых, ч.')\n",
    "sns.despine()\n",
    "filename = 'team_under_rest.png'\n",
    "fig.savefig(REPORT_FOLDER + filename, bbox_inches='tight')\n",
    "add_image(filename)"
   ]
  },
  {
   "cell_type": "code",
   "execution_count": 142,
   "metadata": {
    "collapsed": false
   },
   "outputs": [
    {
     "data": {
      "text/plain": [
       "'Thu May 12 18:00:00 2016'"
      ]
     },
     "execution_count": 142,
     "metadata": {},
     "output_type": "execute_result"
    }
   ],
   "source": [
    "team_plan['loco_time'] = list(zip(team_plan.loco, team_plan.time_start))\n",
    "loco_plan['loco_time'] = list(zip(loco_plan.loco, loco_plan.time_start))\n",
    "team_plan['train'] = team_plan.loco_time.map(loco_plan.drop_duplicates('loco_time').set_index('loco_time').train)\n",
    "#print(team_plan[team_plan.team == '777700000270']\\\n",
    "#      [['team', 'st_from_name', 'st_to_name', 'time_start_f', 'time_end_f', \n",
    "#        'state', 'loco', 'train', 'time']].to_string(index=False))\n",
    "time.ctime(1463065200)"
   ]
  },
  {
   "cell_type": "markdown",
   "metadata": {},
   "source": [
    "## Проверка подвязки бригад по Иркутску"
   ]
  },
  {
   "cell_type": "code",
   "execution_count": 143,
   "metadata": {
    "collapsed": false
   },
   "outputs": [],
   "source": [
    "add_header('Анализ бригад, проезжающих через Иркутск', h=2, p=False)"
   ]
  },
  {
   "cell_type": "code",
   "execution_count": 144,
   "metadata": {
    "collapsed": false
   },
   "outputs": [
    {
     "name": "stdout",
     "output_type": "stream",
     "text": [
      "Распределение поездов через Иркутск по направлениям:\n",
      "ГОНЧАРОВО     71\n",
      "БАТАРЕЙНАЯ    42\n",
      "\n",
      "Распределение бригад, в маршруте которых есть Иркутск, по депо приписки:\n",
      "          depot_name  team percent\n",
      "                ЗИМА    75  49.02%\n",
      " ИРКУТСК-СОРТИРОВ...    57  37.25%\n",
      "         НИЖНЕУДИНСК     1   0.65%\n",
      "          СЛЮДЯНКА I    18  11.76%\n",
      "            УЛАН-УДЭ     2   1.31%\n"
     ]
    }
   ],
   "source": [
    "team_cols = ['team', 'st_from_name', 'st_to_name', 'time_start_f', 'state', 'loco', 'depot_name']\n",
    "team_plan['depot_name'] = team_plan.depot.map(st_names.name)\n",
    "st_name = 'ИРКУТСК-СОРТИРОВОЧНЫЙ'\n",
    "train_cols = ['train', 'number', 'st_from_name', 'st_to_name', 'time_start_f']\n",
    "train_plan['train_type'] = train_plan.train.apply(lambda x: str(x)[:1])\n",
    "add_header('Распределение поездов через Иркутск по направлениям:')\n",
    "add_line(train_plan.loc[(train_plan.st_from_name == st_name)\n",
    "              & (train_plan.time_start >= current_time) & (train_plan.train_type.isin(['2', '9']))\n",
    "              & (train_plan.time_start < current_time + 24*3600), train_cols].st_to_name.value_counts())\n",
    "\n",
    "add_header('\\nРаспределение бригад, в маршруте которых есть Иркутск, по депо приписки:')\n",
    "b = team_plan.loc[(team_plan.st_from_name == st_name) & (team_plan.state.isin([0, 1]))\n",
    "              & (team_plan.time_start >= current_time), team_cols].groupby('depot_name').team.count().to_frame()\n",
    "b['percent'] = np.round((100 * b.team / b.team.sum()), 2)\n",
    "b['percent'] = b['percent'].apply(lambda x: str(x) + '%')\n",
    "add_line(b.reset_index())"
   ]
  },
  {
   "cell_type": "markdown",
   "metadata": {},
   "source": [
    "<a id='ready_time'></a>\n",
    "## Проверка времени явки бригад [ToC](#toc)"
   ]
  },
  {
   "cell_type": "code",
   "execution_count": 145,
   "metadata": {
    "collapsed": true
   },
   "outputs": [],
   "source": [
    "add_header('Проверка корректости времен явки бригад в депо приписки во входных данных', h=2, p=False)"
   ]
  },
  {
   "cell_type": "markdown",
   "metadata": {},
   "source": [
    "1. У бригад, которые находятся на домашнем отдыхе (state = 3) передается именно время ухода на отдых. По постановке (см. раздел \"Заполнение атрибутов для входных сообщений по бригадам\") должно передаваться время ухода на отдых + 16 часов.\n",
    "2. Для бригады 200200158216 передается state=3, хотя по АСУ-Т последней операцией на 18.04 10:35 было \"прибытие на станцию Лесовозный 17.04 в 08:49\" (или, в крайнем случае, отправление с Улан-Удэ 17.04 в 07:51).\n",
    "3. Аналогично для бригады 200200225600. Впрочем, возможно, это какой-то косяк АСУ-Т. В любом случае, пункт 1 - это очевидный баг."
   ]
  },
  {
   "cell_type": "markdown",
   "metadata": {},
   "source": [
    "Общая идея:\n",
    "- если у бригад указано depot_time < rest_start_time, то эта разница не должна быть очень большой. \n",
    "- если у бригад указано depot_time < return_time, то эта разница тоже не должна быть очень большой."
   ]
  },
  {
   "cell_type": "code",
   "execution_count": 146,
   "metadata": {
    "collapsed": false
   },
   "outputs": [
    {
     "name": "stdout",
     "output_type": "stream",
     "text": [
      "Время начала планирования: Jul 06, 14:41\n",
      "Всего 272 бригад, у которых время последней явки в депо намного меньше (на 12+ часов) переданного времени начала отдыха. Примеры:\n",
      "         team      number        dt_norm       rst_norm  rest_dep_delta ready_type state\n",
      " 200200140550  9209009656  Jul 04, 12:52  Jul 06, 11:13           46.35     return     4\n",
      " 200200255414  9413047233  Jul 04, 23:30  Jul 06, 13:20           37.83     return     4\n",
      " 200200224994  9403014461  Jul 05, 00:40  Jul 06, 09:00           32.33     return     4\n",
      " 200200224532  9403002213  Jul 05, 00:40  Jul 06, 08:31           31.85     return     4\n",
      " 200200168453  9403023827  Jul 05, 02:00  Jul 06, 09:00           31.00     return     4\n",
      " 200200083038  9413015182  Jul 04, 22:10  Jul 06, 03:11           29.02     return     9\n",
      " 200200196518  9606003264  Jul 05, 08:00  Jul 06, 13:00           29.00     return     4\n",
      " 200200281922  9401059241  Jul 04, 23:20  Jul 06, 04:00           28.67     return     1\n",
      " 200200102035  9403020050  Jul 04, 20:20  Jul 06, 00:53           28.55     return     1\n",
      " 200200202956  9403028712  Jul 05, 07:00  Jul 06, 11:30           28.50     return     4\n",
      "\n",
      "Всего 777 бригад, у которых время последней явки в депо намного меньше (на 18+ часов) времени явки в пункте оборота. Примеры:\n",
      "         team      number        dt_norm       rst_norm  return_dep_delta ready_type state\n",
      " 210216265716  9409083173  Jul 04, 16:10  Jul 05, 18:50             43.17     return     0\n",
      " 200200224702  9409004008  Jul 04, 15:00  Jul 05, 14:27             42.63     return     0\n",
      " 200200206231  9609034360  Jul 04, 19:35  Jul 05, 13:00             38.50     return     1\n",
      " 200200206034  9401066411  Jul 04, 15:00  Jul 05, 16:40             36.67     return     9\n",
      " 200200266547  8805005247  Jul 04, 19:00  Jul 05, 12:00             36.00     return     1\n",
      " 200200083038  9413015182  Jul 04, 22:10  Jul 06, 03:11             35.83     return     9\n",
      " 200200195955  9403022695  Jul 05, 00:30  Jul 06, 05:00             35.83     return     1\n",
      " 200200198257  9403029522  Jul 04, 22:00  Jul 05, 22:00             35.50     return     1\n",
      " 200200203055  9414078543  Jul 04, 18:40  Jul 05, 22:10             35.17     return     1\n",
      " 200200281922  9401059241  Jul 04, 23:20  Jul 06, 04:00             35.17     return     1\n"
     ]
    }
   ],
   "source": [
    "add_line('Время начала планирования: %s' % (time.strftime(time_format, time.localtime(current_time))))\n",
    "team_info['dt_norm'] = team_info.depot_time.apply(lambda x: time.strftime(time_format, time.localtime(x)) if x > 0 else x)\n",
    "team_info['rt_norm'] = team_info.return_time.apply(lambda x: time.strftime(time_format, time.localtime(x)) if x > 0 else x)\n",
    "team_info['rst_norm'] = team_info.rest_time.apply(lambda x: time.strftime(time_format, time.localtime(x)) if x > 0 else x)\n",
    "team_info['rest_dep_delta'] = np.round(((team_info.rest_time - team_info.depot_time) / 3600), 2)\n",
    "team_info['return_dep_delta'] = np.round(((team_info.return_time - team_info.depot_time) / 3600), 2)\n",
    "\n",
    "dep_less_rest = team_info[(team_info.depot_time < team_info.rest_time) & (team_info.dt_norm != -1)]\n",
    "info_cols = ['team', 'number', 'dt_norm', 'rst_norm', 'rest_dep_delta', 'ready_type', 'state']\n",
    "add_header('Всего %d бригад, у которых время последней явки в депо намного меньше (на 12+ часов) переданного времени начала отдыха. Примеры:' \n",
    "          % dep_less_rest[dep_less_rest.rest_dep_delta > 12].team.drop_duplicates().count())\n",
    "add_line(dep_less_rest[dep_less_rest.rest_dep_delta > 12][info_cols].sort_values('rest_dep_delta', ascending=False).head(10))\n",
    "\n",
    "dep_less_return = team_info[(team_info.depot_time < team_info.return_time) & (team_info.dt_norm != -1)]\n",
    "info_cols = ['team', 'number', 'dt_norm', 'rst_norm', 'return_dep_delta', 'ready_type', 'state']\n",
    "add_header('\\nВсего %d бригад, у которых время последней явки в депо намного меньше (на 18+ часов) времени явки в пункте оборота. Примеры:' \n",
    "          % dep_less_return[dep_less_return.return_dep_delta > 12].team.drop_duplicates().count())\n",
    "add_line(dep_less_return[dep_less_return.return_dep_delta > 12][info_cols].sort_values('return_dep_delta', ascending=False).head(10))"
   ]
  },
  {
   "cell_type": "markdown",
   "metadata": {},
   "source": [
    "<a id='change'></a>\n",
    "## Проверка смены бригад на корректных станциях [ToC](#toc)"
   ]
  },
  {
   "cell_type": "code",
   "execution_count": 147,
   "metadata": {
    "collapsed": true
   },
   "outputs": [],
   "source": [
    "add_header('Проверка смены бригад на корректных станциях', h=2, p=False)"
   ]
  },
  {
   "cell_type": "markdown",
   "metadata": {},
   "source": [
    "### Проверка случаев проезда бригад мимо станций обязательной смены"
   ]
  },
  {
   "cell_type": "code",
   "execution_count": 148,
   "metadata": {
    "collapsed": true
   },
   "outputs": [],
   "source": [
    "add_header('Проверка проезда бригад мимо станций обязательной смены', h=3, p=False)"
   ]
  },
  {
   "cell_type": "code",
   "execution_count": 149,
   "metadata": {
    "collapsed": false,
    "scrolled": true
   },
   "outputs": [
    {
     "name": "stdout",
     "output_type": "stream",
     "text": [
      "Всего 99 случаев проезда бригад мимо станций обязательной смены\n",
      "\n",
      "Распределение по станциям (первые 5 самых частых):\n",
      "ЗИМА          39\n",
      "ХИЛОК         18\n",
      "РУЖИНО        17\n",
      "САЯНСКАЯ       8\n",
      "НОВЫЙ УОЯН     5\n"
     ]
    }
   ],
   "source": [
    "st_team_change_full = ['КРАСНОЯРСК-ВОСТОЧНЫЙ', 'ЗИМА', 'ХИЛОК', 'МОГОЧА', 'ОБЛУЧЬЕ', 'РУЖИНО', 'СМОЛЯНИНОВО', \n",
    "                      'САЯНСКАЯ', 'ЛЕНА', 'СЕВЕРОБАЙКАЛЬСК', 'НОВЫЙ УОЯН', \n",
    "                      'НОВАЯ ЧАРА', 'ЮКТАЛИ', 'ВЕРХНЕЗЕЙСК', 'ФЕВРАЛЬСК', 'ПОСТЫШЕВО', 'ВЫСОКОГОРНАЯ', \n",
    "                      'УЖУР', 'ТЫРМА']\n",
    "                 \n",
    "cols = ['team', 'st_from_name', 'st_to_name', 'time_start_f', 'time_end_f', 'state', 'loco', 'loco_end', 'no_stop']\n",
    "team_plan['loco_end'] = team_plan.loco != team_plan.loco.shift(-1)\n",
    "team_plan['no_stop'] = team_plan.time_end == team_plan.time_start.shift(-1)\n",
    "no_stop = team_plan[(team_plan.st_to_name.isin(st_team_change_full)) & (team_plan.state == 1) \n",
    "                    & (team_plan.loco_end == False) & (team_plan.no_stop == True)]\n",
    "add_header('Всего %d случаев проезда бригад мимо станций обязательной смены' % len(no_stop.index))\n",
    "add_header('\\nРаспределение по станциям (первые 5 самых частых):')\n",
    "add_line(no_stop.st_to_name.value_counts().head())"
   ]
  },
  {
   "cell_type": "code",
   "execution_count": 150,
   "metadata": {
    "collapsed": false
   },
   "outputs": [
    {
     "name": "stdout",
     "output_type": "stream",
     "text": [
      "\n",
      "Примеры ошибочных бригад (первые 10):\n",
      "         team      st_from_name    st_to_name   time_start_f     time_end_f  state          loco loco_end no_stop\n",
      " 200200107781        НОВОНЕЖИНО   СМОЛЯНИНОВО  Jul 06, 15:20  Jul 06, 15:45      1  200200104912    False    True\n",
      " 200200131758            ЯКУРИМ          ЛЕНА  Jul 06, 15:40  Jul 06, 15:49      1  200200139339    False    True\n",
      " 200200222979          МОНГОХТО  ВЫСОКОГОРНАЯ  Jul 06, 17:25  Jul 06, 22:17      1  200200102593    False    True\n",
      " 200200151826         ЩЕТИНКИНО      САЯНСКАЯ  Jul 06, 23:26  Jul 07, 02:18      1  200200091345    False    True\n",
      " 200200173285         АНГАРАКАН    НОВЫЙ УОЯН  Jul 07, 11:26  Jul 07, 13:31      1  200200057086    False    True\n",
      " 777700000776             ТИСИН          УЖУР  Jul 07, 11:42  Jul 07, 14:09      1  200200093671    False    True\n",
      " 777700002166       ИЗВЕСТКОВАЯ       ОБЛУЧЬЕ  Jul 07, 15:16  Jul 07, 16:07      1  200200087120    False    True\n",
      " 777700001341          ТАЛАНДЖА         ТЫРМА  Jul 07, 15:32  Jul 07, 18:08      1  200200103060    False    True\n",
      " 200200224881  БЛОКПОСТ 1571 КМ        РУЖИНО  Jul 07, 23:15  Jul 08, 00:02      1  200200050769    False    True\n",
      " 777700002962            МОГЗОН         ХИЛОК  Jul 07, 22:21  Jul 08, 00:48      1  200200091899    False    True\n",
      " 777700002970            ЗАЛАРИ          ЗИМА  Jul 08, 02:23  Jul 08, 03:19      1  200200087908    False    True\n"
     ]
    }
   ],
   "source": [
    "add_header('\\nПримеры ошибочных бригад (первые 10):')\n",
    "add_line(no_stop.drop_duplicates('st_to_name').sort_values('time_end')[cols])"
   ]
  },
  {
   "cell_type": "markdown",
   "metadata": {},
   "source": [
    "#### Причины проезда бригад мимо станций смены:"
   ]
  },
  {
   "cell_type": "markdown",
   "metadata": {},
   "source": [
    "1. Новый Уоян: у бригад в участках обкатки присутствует участок 2002118258 (Северобайкальск -- Таксимо). Возможное решение: проверить участки обкатки, выяснить, откуда берется участок обкатки Северобайкальск -- Таксимо, удалить этот участок при необходимости.\n",
    "2. Красноярск-Восточный: бригадам хватает рабочего времени, чтобы проехать на участке Ачинск I -- Иланская. Возможное решение: реализовать справочник нормативных рабочих времен бригад, указать в нем время работы на участках Ачинск -- Красноярск и Красноярск -- Иланская около 7-8 часов.\n",
    "3. Ружино: у бригад указан участок обкатки Хабаровск II -- Уссурийск. Но есть ошибка в планировщике с расчетом рабочего времени бригад (VP-6162)."
   ]
  },
  {
   "cell_type": "markdown",
   "metadata": {},
   "source": [
    "### Проверка случаев смены бригад не на допустимых станциях"
   ]
  },
  {
   "cell_type": "code",
   "execution_count": 151,
   "metadata": {
    "collapsed": true
   },
   "outputs": [],
   "source": [
    "add_header('Проверка случаев смены бригад не на допустимых станциях', h=3, p=False)"
   ]
  },
  {
   "cell_type": "code",
   "execution_count": 152,
   "metadata": {
    "collapsed": false
   },
   "outputs": [
    {
     "name": "stdout",
     "output_type": "stream",
     "text": [
      "Исключаются случаи смены бригады из-за завершения маршрута локомотива или поезда, а также случаи смены бригады на станции, которая является депо приписки бригады\n"
     ]
    }
   ],
   "source": [
    "add_line('Исключаются случаи смены бригады из-за завершения маршрута локомотива или поезда' + \n",
    "         ', а также случаи смены бригады на станции, которая является депо приписки бригады')"
   ]
  },
  {
   "cell_type": "code",
   "execution_count": 153,
   "metadata": {
    "collapsed": false
   },
   "outputs": [],
   "source": [
    "#loco_plan['loco_end'] = loco_plan.loco != loco_plan.loco.shift(-1)\n",
    "#train_ends = train_plan.drop_duplicates('train', keep='last')[['train', 'st_to_name']].set_index('train')\n",
    "#loco_plan['train_end'] = loco_plan.train.map(train_ends.st_to_name) == loco_plan.st_to_name\n",
    "loco_plan['end_trip'] = (loco_plan.state != loco_plan.state.shift(-1)) | (loco_plan.train != loco_plan.train.shift(-1))\\\n",
    "                        | (loco_plan.loco != loco_plan.loco.shift(-1))\n",
    "team_plan['start_station_name'] = team_plan.team.map(team_plan[team_plan.state.isin([0, 1])]\\\n",
    "                                                     .drop_duplicates('team').set_index('team').st_from_name)\n",
    "team_plan.depot_name.fillna(team_plan.start_station_name, inplace=True)\n",
    "team_plan['depot_st_name'] = team_plan.depot_st.map(st_names.name)\n",
    "team_plan.depot_st_name.fillna(team_plan.start_station_name, inplace=True)\n",
    "loco_plan['team_depot_name'] = loco_plan.team.map(team_plan.drop_duplicates('team').set_index('team').depot_name)\n",
    "loco_plan['team_ready_depot_name'] = loco_plan.team.map(team_plan.drop_duplicates('team').set_index('team').depot_st_name)"
   ]
  },
  {
   "cell_type": "code",
   "execution_count": 154,
   "metadata": {
    "collapsed": false
   },
   "outputs": [
    {
     "name": "stdout",
     "output_type": "stream",
     "text": [
      "Все бригады меняются только на приоритетных станциях смены\n"
     ]
    }
   ],
   "source": [
    "pr_st = pd.read_csv(FOLDER + 'mandatory/priority_team_change_stations.csv', sep=';', encoding='utf-8-sig', dtype={'station':str}).station\n",
    "#team_change = loco_plan[(loco_plan.state != 4) \n",
    "#                        & (loco_plan.team_end == True) & (loco_plan.loco_end == False) & (loco_plan.train_end == False)]\n",
    "team_change = loco_plan[(loco_plan.state != 4) & (loco_plan.team_end == True) & (loco_plan.end_trip == False)]\n",
    "bad_team_change = team_change[(team_change.st_to.isin(pr_st) == False) \n",
    "                              & (team_change.st_to_name != team_change.team_depot_name)\n",
    "                              & (team_change.st_to_name != team_change.team_ready_depot_name)]\n",
    "if bad_team_change.st_to_name.dropna().empty:\n",
    "    add_header('Все бригады меняются только на приоритетных станциях смены')\n",
    "else:\n",
    "    add_header('Всего %d случаев смены бригад не на приоритетных станциях смены (%.2f%%)'\n",
    "              % (bad_team_change.loco.count(), 100 * bad_team_change.loco.count() / team_change.loco.count()))\n",
    "    add_header('Распределение по неприоритетным станциям (первые 10):')\n",
    "    add_line(bad_team_change.st_to_name.value_counts().head(10))   \n",
    "    "
   ]
  },
  {
   "cell_type": "code",
   "execution_count": 155,
   "metadata": {
    "collapsed": false
   },
   "outputs": [],
   "source": [
    "with (pd.option_context('display.max_colwidth', 20)):\n",
    "    if not bad_team_change.st_to_name.dropna().empty:\n",
    "        add_header('Примеры локомотивов и бригад, для которых смена указанной бригады произошла не на приоритетной станции:')\n",
    "        add_line(bad_team_change[['loco', 'team', 'st_to_name', 'time_end_f', 'train']].head(10))\n",
    "        cols = ['loco', 'st_from_name', 'st_to_name', 'time_start_f', 'time_end_f', 'train', 'team', 'team_depot_name']        \n",
    "        loco_id = bad_team_change[bad_team_change.st_to_name == bad_team_change.st_to_name.value_counts().idxmax()]\\\n",
    "                    .drop_duplicates('loco').iloc[0,:].loco\n",
    "        add_header('Полный план по одному из таких локомотивов:')\n",
    "        add_line(loco_plan[loco_plan.loco == loco_id][cols])"
   ]
  },
  {
   "cell_type": "markdown",
   "metadata": {},
   "source": [
    "<a id='presence'></a>\n",
    "## Проверка отправления бригады не ранее времени явки [ToC](#toc)"
   ]
  },
  {
   "cell_type": "code",
   "execution_count": 156,
   "metadata": {
    "collapsed": true
   },
   "outputs": [],
   "source": [
    "add_header('Проверка отправления бригады не ранее времени явки', h=2, p=False)"
   ]
  },
  {
   "cell_type": "code",
   "execution_count": 157,
   "metadata": {
    "collapsed": false
   },
   "outputs": [],
   "source": [
    "# Вычисляем максимальное время явки, добавляем его в team_info и team_plan\n",
    "# В таблице presence_fail --- ошибочные отправления бригад до времени явки\n",
    "\n",
    "presence_lim = 0\n",
    "team_cols = ['team', 'st_from_name', 'st_to_name', 'time_start_f', 'ready_type', \n",
    "             'presence_norm', 'presence_gap', 'state', 'state_info']\n",
    "\n",
    "team_info['all_presence'] = list(zip(team_info.depot_time, team_info.return_time))\n",
    "team_info['presence'] = team_info.all_presence.apply(lambda x: x[0] if x[0] > x[1] else x[1])\n",
    "team_info['presence_norm'] = team_info.presence.apply(lambda x: time.strftime(time_format, time.localtime(x)) if x>0 else x)\n",
    "team_plan['presence'] = team_plan.team.map(team_info.set_index('team').presence)\n",
    "team_plan['presence_norm'] = team_plan.presence.apply(lambda x: time.strftime(time_format, time.localtime(x)) if x>0 else x)\n",
    "team_plan['presence_gap'] = team_plan.time_start - team_plan.presence\n",
    "team_plan['ready_type'] = team_plan.team.map(team_info.set_index('team').ready_type)\n",
    "presence_fail = team_plan[(team_plan.state.isin([0, 1])) & (team_plan.presence_gap < presence_lim)].drop_duplicates('team')\n",
    "pr = team_info[['team', 'depot_time', 'return_time', 'presence', 'presence_norm']]"
   ]
  },
  {
   "cell_type": "code",
   "execution_count": 165,
   "metadata": {
    "collapsed": false
   },
   "outputs": [
    {
     "name": "stdout",
     "output_type": "stream",
     "text": [
      "Нет бригад, которые запланированы к отправлению пассажиром ранее времени явки\n",
      "\n",
      "Нет бригад, которые запланированы к отправлению пассажирами ранее времени явки после начала планирования\n"
     ]
    }
   ],
   "source": [
    "p = presence_fail[presence_fail.state == 0]\n",
    "ph = presence_fail[(presence_fail.state == 0) & (presence_fail.time_start >= current_time)]\n",
    "if not p.empty:\n",
    "    add_header('Всего бригад, которые отправлены пассажиром ранее времени явки: %d (показаны первые 10)' % p.team.count())\n",
    "    add_line(p.sort_values('presence_gap')[team_cols].head(10))\n",
    "else:\n",
    "    add_header('Нет бригад, которые запланированы к отправлению пассажиром ранее времени явки')\n",
    "    \n",
    "if not ph.empty:\n",
    "    add_header('\\nВсего бригад, которые отправлены пассажиром ранее времени явки после начала планирования: %d (показаны первые 10)' \n",
    "      % ph.team.count())\n",
    "    add_line(ph.sort_values('presence_gap')[team_cols].head(10))\n",
    "else:\n",
    "    add_header('\\nНет бригад, которые запланированы к отправлению пассажирами ранее времени явки после начала планирования')"
   ]
  },
  {
   "cell_type": "code",
   "execution_count": 164,
   "metadata": {
    "collapsed": false
   },
   "outputs": [
    {
     "name": "stdout",
     "output_type": "stream",
     "text": [
      "Всего бригад, которые отправлены с локомотивом ранее времени явки: 1 (показаны первые 10)\n",
      "         team st_from_name st_to_name   time_start_f ready_type  presence_norm  presence_gap  state state_info\n",
      " 200200245998     САЯНСКАЯ  ЩЕТИНКИНО  Jul 06, 03:37     return  Jul 06, 10:20        -24180      1          1\n",
      "Нет бригад, которые запланированы к отправлению с локомотивами ранее времени явки после начала планирования\n"
     ]
    }
   ],
   "source": [
    "f = presence_fail[presence_fail.state == 1]\n",
    "fh = presence_fail[(presence_fail.state == 1) & (presence_fail.time_start >= current_time)]\n",
    "if not f.empty:\n",
    "    add_header('Всего бригад, которые отправлены с локомотивом ранее времени явки: %d (показаны первые 10)' % f.team.count())\n",
    "    add_line(f.sort_values('presence_gap')[team_cols].head(10))\n",
    "else:\n",
    "    add_header('Нет бригад, которые запланированы к отправлению с локомотивами ранее времени явки')\n",
    "\n",
    "if not fh.team.empty:\n",
    "    add_header('\\nВсего бригад, которые отправлены с локомотивом ранее времени явки после начала планирования: %d (показаны первые 10)' \n",
    "      % fh.team.count())\n",
    "    add_line(fh.sort_values('presence_gap')[team_cols].head(10))\n",
    "else:\n",
    "    add_header('\\nНет бригад, которые запланированы к отправлению с локомотивами ранее времени явки после начала планирования')"
   ]
  },
  {
   "cell_type": "markdown",
   "metadata": {},
   "source": [
    "<a id='before_current_time'></a>\n",
    "## Проверка планирования бригад до времени начала планирования [ToC](#toc)"
   ]
  },
  {
   "cell_type": "code",
   "execution_count": 68,
   "metadata": {
    "collapsed": true
   },
   "outputs": [],
   "source": [
    "add_header('Проверка планирования бригад до времени начала планирования', h=2, p=False)"
   ]
  },
  {
   "cell_type": "code",
   "execution_count": 69,
   "metadata": {
    "collapsed": false
   },
   "outputs": [
    {
     "name": "stdout",
     "output_type": "stream",
     "text": [
      "(Не учитываются бригады, которые на начало планирования находились на перегоне)\n",
      "Время начала планирования: Jul 06, 14:41\n",
      "\n",
      "Всего бригад, отправленных до начала планирования: 0 (0.00% от всех запланированных бригад)\n"
     ]
    }
   ],
   "source": [
    "team_cols = ['team', 'st_from_name', 'st_to_name', 'time_start_f', 'state', 'loco', 'state_info']\n",
    "\n",
    "add_line('(Не учитываются бригады, которые на начало планирования находились на перегоне)')\n",
    "add_line('Время начала планирования: %s' % time.strftime(time_format, time.localtime(current_time)))\n",
    "\n",
    "total_teams = team_plan.team.drop_duplicates().count()\n",
    "\n",
    "tbef = team_plan[(team_plan.time_start < current_time)          \n",
    "         & (team_plan.state.isin([0, 1])) & (team_plan.state_info != team_plan.state.apply(str))].drop_duplicates('team')\n",
    "add_header('\\nВсего бригад, отправленных до начала планирования: %d (%.2f%% от всех запланированных бригад)' \n",
    "           % (tbef.team.count(), 100 * tbef.team.count() / total_teams))\n",
    "if not tbef.empty:\n",
    "    add_header('\\nРаспределение по состояниям бригад, отправленных до начала планирования:')\n",
    "    add_line(tbef.state.value_counts())\n",
    "    \n",
    "    for i in sorted(tbef.state.unique()):\n",
    "        add_header('\\nБригады, отправленные до начала планирования в состоянии %d (первые 10):' % i)\n",
    "        add_line(tbef[tbef.state == i].sort_values('time_start').head(10)[team_cols])\n",
    "\n",
    "    add_header('\\nРаспределение по типу бригад, отправленных до начала планирования в состоянии 1:')\n",
    "    add_line(tbef[tbef.state == 1].team_type.value_counts())"
   ]
  },
  {
   "cell_type": "markdown",
   "metadata": {},
   "source": [
    "<a id='presenting'></a>\n",
    "## Проверка планируемых явок бригад [ToC](#toc)"
   ]
  },
  {
   "cell_type": "code",
   "execution_count": 70,
   "metadata": {
    "collapsed": true
   },
   "outputs": [],
   "source": [
    "add_header('Проверка планируемых явок бригад', h=2, p=False)"
   ]
  },
  {
   "cell_type": "code",
   "execution_count": 71,
   "metadata": {
    "collapsed": false
   },
   "outputs": [
    {
     "name": "stdout",
     "output_type": "stream",
     "text": [
      "Разброс времен на явку бригад: от 0.32 ч. до 5.90 ч.\n"
     ]
    },
    {
     "data": {
      "image/png": "[encoded data removed]",
      "text/plain": [
       "<matplotlib.figure.Figure at 0x1d84ba525f8>"
      ]
     },
     "metadata": {},
     "output_type": "display_data"
    }
   ],
   "source": [
    "team_cols = ['team', 'st_from_name', 'st_to_name', 'time_start_f', 'time_end_f', 'tt', 'state', 'loco', 'state_info']\n",
    "team_plan['tt'] = team_plan.time_end - team_plan.time_start\n",
    "min_presenting = team_plan[team_plan.state == 2][team_cols].tt.min()\n",
    "max_presenting = team_plan[team_plan.state == 2][team_cols].tt.max()\n",
    "add_header('Разброс времен на явку бригад: от %.2f ч. до %.2f ч.' % (min_presenting / 3600, max_presenting / 3600))\n",
    "sns.set_style('whitegrid')\n",
    "sns.set_context('notebook')\n",
    "fig = plt.figure()\n",
    "ax = sns.distplot(team_plan[team_plan.state == 2][team_cols].tt / 3600, hist=False, bins=20, color='b', kde_kws={'shade':True})\n",
    "ax.set(xlabel='Время на явку, ч.', title='Распределение времен на явку бригад')\n",
    "sns.despine()\n",
    "filename = 'team_presenting.png'\n",
    "fig.savefig(REPORT_FOLDER + filename, bbox_inches='tight')\n",
    "add_image(filename)"
   ]
  },
  {
   "cell_type": "code",
   "execution_count": 72,
   "metadata": {
    "collapsed": false
   },
   "outputs": [
    {
     "name": "stdout",
     "output_type": "stream",
     "text": [
      "Всего 1126 бригад, у которых время окончания отдыха не совпадает со временем явки (показаны первые 10):\n",
      "         team  st_from_name    st_to_name  state  next_state   time_start_f     time_end_f next_time_start_f\n",
      " 200200280971     КАРЫМСКАЯ     КАРЫМСКАЯ      4           2  Jul 06, 14:42  Jul 06, 17:42     Jul 06, 18:34\n",
      " 200200133588         УРУША         УРУША      4           2  Jul 06, 14:42  Jul 06, 17:42     Jul 06, 23:59\n",
      " 200200260896  ХАБАРОВСК II  ХАБАРОВСК II      4           2  Jul 06, 14:42  Jul 06, 18:59     Jul 06, 20:05\n",
      " 200200175944     МАГДАГАЧИ     МАГДАГАЧИ      4           2  Jul 06, 14:45  Jul 06, 18:48     Jul 06, 19:15\n",
      " 200200131243      УЛАН-УДЭ      УЛАН-УДЭ      4           2  Jul 06, 14:46  Jul 06, 18:34     Jul 07, 00:13\n",
      " 200200212284     БЕЛОГОРСК     БЕЛОГОРСК      4           2  Jul 06, 14:46  Jul 06, 17:46     Jul 06, 19:04\n",
      " 210207676311      УЛАН-УДЭ      УЛАН-УДЭ      4           2  Jul 06, 14:46  Jul 06, 17:46     Jul 06, 19:13\n",
      " 200200224568      МАРИИНСК      МАРИИНСК      4           2  Jul 06, 14:48  Jul 06, 17:48     Jul 06, 18:35\n",
      " 200200091949  ХАБАРОВСК II  ХАБАРОВСК II      4           2  Jul 06, 14:48  Jul 06, 18:32     Jul 06, 19:54\n",
      " 200200247639   ДУБИНИНСКИЙ   ДУБИНИНСКИЙ      4           2  Jul 06, 14:49  Jul 06, 17:49     Jul 07, 01:05\n",
      "\n",
      "Распределение таких ошибочных явок после отдыха по станциям (показаны первые 5):\n",
      "УРУША                       103\n",
      "МАГДАГАЧИ                    85\n",
      "ТАЙШЕТ                       74\n",
      "ЧЕРНЫШЕВСК-ЗАБАЙКАЛЬСКИЙ     68\n",
      "МОГОЧА                       64\n"
     ]
    }
   ],
   "source": [
    "team_plan['next_state'] = team_plan.state.shift(-1)\n",
    "team_plan['next_time_start_f'] = team_plan.time_start_f.shift(-1)\n",
    "cols = ['team', 'st_from_name', 'st_to_name', 'state', 'next_state', 'time_start_f', 'time_end_f', 'next_time_start_f']\n",
    "rest_pres = team_plan[(team_plan.team == team_plan.team.shift(-1)) \n",
    "                     & (team_plan.state == 4) & (team_plan.next_state == 2)\n",
    "                     & (team_plan.time_end_f != team_plan.next_time_start_f)]\n",
    "add_header('Всего %d бригад, у которых время окончания отдыха не совпадает со временем явки (показаны первые 10):' \n",
    "      % rest_pres.team.drop_duplicates().count())\n",
    "add_line(rest_pres[rest_pres.time_start >= current_time].sort_values('time_start').head(10)[cols])\n",
    "add_header('\\nРаспределение таких ошибочных явок после отдыха по станциям (показаны первые 5):')\n",
    "add_line(rest_pres.st_from_name.value_counts().head())"
   ]
  },
  {
   "cell_type": "markdown",
   "metadata": {},
   "source": [
    "<a id='check_useful_assign'></a>\n",
    "## Проверка использования бригад [ToC](#toc)"
   ]
  },
  {
   "cell_type": "code",
   "execution_count": 73,
   "metadata": {
    "collapsed": false
   },
   "outputs": [],
   "source": [
    "add_header('Проверка использования бригад', h=2, p=False)"
   ]
  },
  {
   "cell_type": "markdown",
   "metadata": {},
   "source": [
    "<a id='only_pass'></a>\n",
    "### Бригады, запланированные к отправлению пассажирами без последующей подвязки [ToC](#toc)"
   ]
  },
  {
   "cell_type": "code",
   "execution_count": 74,
   "metadata": {
    "collapsed": true
   },
   "outputs": [],
   "source": [
    "add_header('Проверка использования бригад после засылки пассажирами', h=3, p=False)"
   ]
  },
  {
   "cell_type": "code",
   "execution_count": 75,
   "metadata": {
    "collapsed": false
   },
   "outputs": [],
   "source": [
    "team_plan['all_states'] = team_plan.team.map(team_plan.groupby('team').state.unique())\n",
    "#team_plan['last_state'] = team_plan.team.map(team_plan\n",
    "#                                             .sort_values(['team', 'time_start'], ascending=[True, False])\n",
    "#                                             .drop_duplicates('team')[['team', 'state']]\n",
    "#                                             .set_index('team')\n",
    "#                                             .state)\n",
    "\n",
    "#team_plan['first_state'] = team_plan.team.map(team_plan\n",
    "#                                             .sort_values(['team', 'time_start'])\n",
    "#                                             .drop_duplicates('team')[['team', 'state']]\n",
    "#                                             .set_index('team')\n",
    "#                                             .state)\n",
    "\n",
    "cols = ['team', 'st_from_name', 'st_to_name', 'time_start_f', 'time_end_f', 'depot_name',\n",
    "        'state', 'all_states']"
   ]
  },
  {
   "cell_type": "code",
   "execution_count": 76,
   "metadata": {
    "collapsed": false
   },
   "outputs": [
    {
     "name": "stdout",
     "output_type": "stream",
     "text": [
      "Всего 398 бригад, для которых планируется отправка пассажиром и не планируется работа с поездом\n"
     ]
    }
   ],
   "source": [
    "def get_cat(all_states):\n",
    "    if 1 in all_states:\n",
    "        return 'work'\n",
    "    elif (len(all_states) == 1) & (all_states[0] == 2):\n",
    "        return 'only_presence'\n",
    "    elif len(all_states) == 2:\n",
    "        if ((all_states[0] == 4) & (all_states[1] == 0)):\n",
    "            return 'pass_home'\n",
    "        else:\n",
    "            return 'fail'\n",
    "    else:\n",
    "        return 'fail'\n",
    "\n",
    "team_plan['cat'] = team_plan.all_states.apply(get_cat)\n",
    "only_pass_teams = team_plan[(team_plan.cat == 'fail') & (team_plan.state_info != '2')]\n",
    "                            \n",
    "add_header('Всего %d бригад, для которых планируется отправка пассажиром и не планируется работа с поездом' \n",
    "      % only_pass_teams.team.drop_duplicates().count())"
   ]
  },
  {
   "cell_type": "code",
   "execution_count": 77,
   "metadata": {
    "collapsed": false
   },
   "outputs": [
    {
     "name": "stdout",
     "output_type": "stream",
     "text": [
      "Станции, с которых чаще всегда планируется лишняя отправка пассажирами:\n",
      "ИЛАНСКАЯ                              124\n",
      "КРАСНОЯРСК-ВОСТОЧНЫЙ                   86\n",
      "НИЖНЕУДИНСК                            26\n",
      "ТЫНДА                                  23\n",
      "КОРШУНИХА-АНГАРСКАЯ                    18\n",
      "ЛЕНА                                   14\n",
      "КОМСОМОЛЬСК-НА-АМУРЕ-СОРТИРОВОЧНЫЙ     12\n",
      "СЕВЕРОБАЙКАЛЬСК                        11\n",
      "УЛАН-УДЭ                                9\n",
      "СМОЛЯНИНОВО                             8\n"
     ]
    }
   ],
   "source": [
    "add_header('Станции, с которых чаще всегда планируется лишняя отправка пассажирами:')\n",
    "add_line(only_pass_teams.drop_duplicates('team').st_from_name.value_counts().head(10))"
   ]
  },
  {
   "cell_type": "code",
   "execution_count": 78,
   "metadata": {
    "collapsed": false
   },
   "outputs": [
    {
     "name": "stdout",
     "output_type": "stream",
     "text": [
      "Примеры:\n",
      "         team st_from_name st_to_name   time_start_f     time_end_f depot_name  state all_states\n",
      " 200200164081     ИЛАНСКАЯ     РЕШОТЫ  Jul 07, 02:49  Jul 07, 03:58   ИЛАНСКАЯ      0     [0, 4]\n",
      " 200200164081       РЕШОТЫ      КЛЮЧИ  Jul 07, 03:59  Jul 07, 04:14   ИЛАНСКАЯ      0     [0, 4]\n",
      " 200200164081        КЛЮЧИ       ЮРТЫ  Jul 07, 04:14  Jul 07, 04:35   ИЛАНСКАЯ      0     [0, 4]\n",
      " 200200164081         ЮРТЫ     ТАЙШЕТ  Jul 07, 04:37  Jul 07, 04:58   ИЛАНСКАЯ      0     [0, 4]\n",
      " 200200164081       ТАЙШЕТ     ТАЙШЕТ  Jul 07, 05:28  Jul 07, 12:30   ИЛАНСКАЯ      4     [0, 4]\n",
      " 200200164081       ТАЙШЕТ       ЮРТЫ  Jul 07, 12:30  Jul 07, 12:50   ИЛАНСКАЯ      0     [0, 4]\n",
      " 200200164081         ЮРТЫ      КЛЮЧИ  Jul 07, 12:50  Jul 07, 13:12   ИЛАНСКАЯ      0     [0, 4]\n",
      " 200200164081        КЛЮЧИ     РЕШОТЫ  Jul 07, 13:12  Jul 07, 13:26   ИЛАНСКАЯ      0     [0, 4]\n",
      " 200200164081       РЕШОТЫ   ИЛАНСКАЯ  Jul 07, 13:27  Jul 07, 14:31   ИЛАНСКАЯ      0     [0, 4]\n",
      "\n",
      "         team st_from_name   st_to_name   time_start_f     time_end_f   depot_name  state all_states\n",
      " 200200224091  НИЖНЕУДИНСК      АЛЗАМАЙ  Jul 06, 20:55  Jul 06, 22:14  НИЖНЕУДИНСК      0     [0, 4]\n",
      " 200200224091      АЛЗАМАЙ   БАЙРОНОВКА  Jul 06, 22:16  Jul 06, 22:56  НИЖНЕУДИНСК      0     [0, 4]\n",
      " 200200224091   БАЙРОНОВКА       ТАЙШЕТ  Jul 06, 22:56  Jul 06, 23:06  НИЖНЕУДИНСК      0     [0, 4]\n",
      " 200200224091       ТАЙШЕТ       ТАЙШЕТ  Jul 06, 23:36  Jul 07, 05:29  НИЖНЕУДИНСК      4     [0, 4]\n",
      " 200200224091       ТАЙШЕТ   БАЙРОНОВКА  Jul 07, 05:29  Jul 07, 05:40  НИЖНЕУДИНСК      0     [0, 4]\n",
      " 200200224091   БАЙРОНОВКА      АЛЗАМАЙ  Jul 07, 05:40  Jul 07, 06:20  НИЖНЕУДИНСК      0     [0, 4]\n",
      " 200200224091      АЛЗАМАЙ  НИЖНЕУДИНСК  Jul 07, 06:20  Jul 07, 07:35  НИЖНЕУДИНСК      0     [0, 4]\n",
      "\n",
      "         team st_from_name st_to_name   time_start_f     time_end_f depot_name  state all_states\n",
      " 200200242667         ЗИМА    ПЕРЕВОЗ  Jul 07, 01:32  Jul 07, 01:46       ЗИМА      0     [0, 4]\n",
      " 200200242667      ПЕРЕВОЗ     КУЙТУН  Jul 07, 01:49  Jul 07, 03:07       ЗИМА      0     [0, 4]\n",
      " 200200242667       КУЙТУН       АЗЕЙ  Jul 07, 03:48  Jul 07, 05:05       ЗИМА      0     [0, 4]\n",
      " 200200242667         АЗЕЙ      ТУЛУН  Jul 07, 05:15  Jul 07, 05:40       ЗИМА      0     [0, 4]\n",
      " 200200242667        ТУЛУН     УДА II  Jul 07, 05:42  Jul 07, 08:36       ЗИМА      0     [0, 4]\n",
      " 200200242667       УДА II     УДА II  Jul 07, 09:06  Jul 07, 13:20       ЗИМА      4     [0, 4]\n",
      " 200200242667       УДА II      ТУЛУН  Jul 07, 13:20  Jul 07, 14:45       ЗИМА      0     [0, 4]\n",
      " 200200242667        ТУЛУН       АЗЕЙ  Jul 07, 14:47  Jul 07, 15:08       ЗИМА      0     [0, 4]\n",
      " 200200242667         АЗЕЙ     КУЙТУН  Jul 07, 15:08  Jul 07, 15:52       ЗИМА      0     [0, 4]\n",
      " 200200242667       КУЙТУН    ПЕРЕВОЗ  Jul 07, 15:54  Jul 07, 16:32       ЗИМА      0     [0, 4]\n",
      " 200200242667      ПЕРЕВОЗ       ЗИМА  Jul 07, 16:32  Jul 07, 16:40       ЗИМА      0     [0, 4]\n",
      "\n"
     ]
    }
   ],
   "source": [
    "with pd.option_context('display.max_colwidth', 25):\n",
    "    if only_pass_teams.team.drop_duplicates().count() != 0:\n",
    "        add_header('Примеры:')\n",
    "        for team in only_pass_teams.team.drop_duplicates().iloc[:3].values:    \n",
    "            add_line(team_plan[team_plan.team == team][cols])\n",
    "            add_line('')"
   ]
  },
  {
   "cell_type": "code",
   "execution_count": 79,
   "metadata": {
    "collapsed": false
   },
   "outputs": [
    {
     "name": "stdout",
     "output_type": "stream",
     "text": [
      "Пример бесцельной отправки пассажиром со станции Иркутск-Сортировочный:\n",
      "         team         st_from_name           st_to_name   time_start_f     time_end_f           depot_name  state all_states\n",
      " 200200260598  ИРКУТСК-СОРТИРОВ...           БАТАРЕЙНАЯ  Jul 07, 02:24  Jul 07, 02:26  ИРКУТСК-СОРТИРОВ...      0     [0, 4]\n",
      " 200200260598           БАТАРЕЙНАЯ                МЕГЕТ  Jul 07, 02:26  Jul 07, 02:34  ИРКУТСК-СОРТИРОВ...      0     [0, 4]\n",
      " 200200260598                МЕГЕТ            СУХОВСКАЯ  Jul 07, 02:34  Jul 07, 02:46  ИРКУТСК-СОРТИРОВ...      0     [0, 4]\n",
      " 200200260598            СУХОВСКАЯ      СУХОВСКАЯ-ЮЖНАЯ  Jul 07, 02:46  Jul 07, 03:00  ИРКУТСК-СОРТИРОВ...      0     [0, 4]\n",
      " 200200260598      СУХОВСКАЯ-ЮЖНАЯ      СУХОВСКАЯ-ЮЖНАЯ  Jul 07, 03:30  Jul 07, 07:30  ИРКУТСК-СОРТИРОВ...      4     [0, 4]\n",
      " 200200260598      СУХОВСКАЯ-ЮЖНАЯ            СУХОВСКАЯ  Jul 07, 07:30  Jul 07, 07:44  ИРКУТСК-СОРТИРОВ...      0     [0, 4]\n",
      " 200200260598            СУХОВСКАЯ                МЕГЕТ  Jul 07, 07:44  Jul 07, 07:57  ИРКУТСК-СОРТИРОВ...      0     [0, 4]\n",
      " 200200260598                МЕГЕТ           БАТАРЕЙНАЯ  Jul 07, 07:57  Jul 07, 08:06  ИРКУТСК-СОРТИРОВ...      0     [0, 4]\n",
      " 200200260598           БАТАРЕЙНАЯ  ИРКУТСК-СОРТИРОВ...  Jul 07, 08:06  Jul 07, 08:08  ИРКУТСК-СОРТИРОВ...      0     [0, 4]\n"
     ]
    }
   ],
   "source": [
    "irk = only_pass_teams[only_pass_teams.st_from_name == 'ИРКУТСК-СОРТИРОВОЧНЫЙ']\n",
    "if not irk.empty:\n",
    "    add_header('Пример бесцельной отправки пассажиром со станции Иркутск-Сортировочный:')\n",
    "    add_line(team_plan[team_plan.team == irk.iloc[0].team][cols])"
   ]
  },
  {
   "cell_type": "markdown",
   "metadata": {},
   "source": [
    "<a id='only_presence'></a>\n",
    "### Бригады, планируемые только на явку [ToC](#toc)"
   ]
  },
  {
   "cell_type": "code",
   "execution_count": 80,
   "metadata": {
    "collapsed": true
   },
   "outputs": [],
   "source": [
    "add_header('Бригады, планируемые только на явку', h=3, p=False)"
   ]
  },
  {
   "cell_type": "code",
   "execution_count": 91,
   "metadata": {
    "collapsed": false
   },
   "outputs": [
    {
     "name": "stdout",
     "output_type": "stream",
     "text": [
      "Всего 768 бригад, запланированных только на явку.\n",
      "\n",
      "Распределение по депо станции явки:\n",
      "МОГОЧА                  113\n",
      "ИЛАНСКАЯ                109\n",
      "КРАСНОЯРСК-ВОСТОЧНЫЙ     89\n",
      "ФЕВРАЛЬСК                71\n",
      "КАРЫМСКАЯ                35\n",
      "\n",
      "Распределение по типу бригады:\n",
      "Фейковая    584\n",
      "Реальная    184\n",
      "\n",
      "Примеры бригад:\n",
      "         team         st_from_name   time_start_f     time_end_f           depot_name state_info all_states\n",
      " 200200164070            КАРЫМСКАЯ  Jul 06, 10:54  Jul 06, 13:00            КАРЫМСКАЯ          2        [2]\n",
      " 200200136330           НОВАЯ ЧАРА  Jul 06, 04:09  Jul 06, 06:00           НОВАЯ ЧАРА          2        [2]\n",
      " 200200242540  ЧЕРНЫШЕВСК-ЗАБАЙ...  Jul 06, 09:45  Jul 06, 10:37  ЧЕРНЫШЕВСК-ЗАБАЙ...          2        [2]\n",
      " 200200127618                ХИЛОК  Jul 05, 22:01  Jul 05, 23:10                ХИЛОК          2        [2]\n",
      " 200200163975          НОВЫЙ УРГАЛ  Jul 06, 11:47  Jul 06, 13:47          НОВЫЙ УРГАЛ          2        [2]\n",
      " 777700002953               МОГОЧА  Jul 06, 09:55  Jul 06, 10:55                  NaN        NaN        [2]\n",
      " 777700002957          ВЕРХНЕЗЕЙСК  Jul 06, 12:46  Jul 06, 16:36                  NaN        NaN        [2]\n",
      " 777700002956               МОГОЧА  Jul 06, 00:04  Jul 06, 01:04                  NaN        NaN        [2]\n",
      " 777700002947               МОГОЧА  Jul 06, 10:22  Jul 06, 11:22                  NaN        NaN        [2]\n",
      " 777700002946               МОГОЧА  Jul 06, 09:43  Jul 06, 10:43                  NaN        NaN        [2]\n"
     ]
    }
   ],
   "source": [
    "cols = ['team', 'st_from_name', 'time_start_f', 'time_end_f', 'depot_name', 'state_info', 'all_states']\n",
    "only_pr = team_plan[team_plan.cat == 'only_presence']\n",
    "if not only_pr.empty:\n",
    "    add_header('Всего %d бригад, запланированных только на явку.' % only_pr.team.drop_duplicates().count())\n",
    "    add_line('')\n",
    "    add_header('Распределение по депо станции явки:')\n",
    "    add_line(only_pr.drop_duplicates('team').st_from_name.value_counts().head())\n",
    "    add_line('')\n",
    "    add_header('Распределение по типу бригады:')\n",
    "    add_line(only_pr.drop_duplicates('team').team_type.value_counts())\n",
    "    add_line('')\n",
    "    add_header('Примеры бригад:')\n",
    "    add_line(only_pr[cols].head(10))\n",
    "else:\n",
    "    add_header('В плане нет бригад, запланированных только на явку')"
   ]
  },
  {
   "cell_type": "markdown",
   "metadata": {},
   "source": [
    "<a id='pass_teams_in_plan'></a>\n",
    "## Проверка подвязки негрузовых бригад [ToC](#toc)"
   ]
  },
  {
   "cell_type": "code",
   "execution_count": 82,
   "metadata": {
    "collapsed": true
   },
   "outputs": [],
   "source": [
    "add_header('Проверка подвязки негрузовых бригад', h=2, p=False)"
   ]
  },
  {
   "cell_type": "code",
   "execution_count": 83,
   "metadata": {
    "collapsed": false
   },
   "outputs": [
    {
     "name": "stdout",
     "output_type": "stream",
     "text": [
      "В плане нет негрузовых бригад с запланированной подвязкой, отличной от подвязки во входных данных\n"
     ]
    }
   ],
   "source": [
    "cols = ['team', 'ttype', 'loco_info', 'st_from_name', 'st_to_name', 'time_start_f', 'state', 'loco']\n",
    "bad_pass_teams = team_plan[(team_plan.ttype == 0) & (team_plan.loco != team_plan.loco_info) \n",
    "                           & (team_plan.state.isin([0, 1]))][cols]\n",
    "if bad_pass_teams.empty:\n",
    "    add_header('В плане нет негрузовых бригад с запланированной подвязкой, отличной от подвязки во входных данных')\n",
    "else:\n",
    "    add_header('Всего %d негрузовых бригад, для которых запланирована подвязка, отличная от подвязки во входных данных:' \n",
    "              % bad_pass_teams.drop_duplicates('team').team.count())\n",
    "    add_line(bad_pass_teams.drop_duplicates('team')[cols].head())"
   ]
  },
  {
   "cell_type": "markdown",
   "metadata": {},
   "source": [
    "## Экспорт в HTML [ToC](#toc)"
   ]
  },
  {
   "cell_type": "code",
   "execution_count": 84,
   "metadata": {
    "collapsed": false
   },
   "outputs": [
    {
     "name": "stdout",
     "output_type": "stream",
     "text": [
      "Отчет сформирован: report/team_report_20160707_171659.html\n"
     ]
    }
   ],
   "source": [
    "filename = REPORT_FOLDER + 'team_report_' + time.strftime('%Y%m%d_%H%M%S', time.localtime(time.time())) + '.html'\n",
    "create_report(filename)"
   ]
  }
 ],
 "metadata": {
  "kernelspec": {
   "display_name": "Python 3",
   "language": "python",
   "name": "python3"
  },
  "language_info": {
   "codemirror_mode": {
    "name": "ipython",
    "version": 3
   },
   "file_extension": ".py",
   "mimetype": "text/x-python",
   "name": "python",
   "nbconvert_exporter": "python",
   "pygments_lexer": "ipython3",
   "version": "3.5.1"
  }
 },
 "nbformat": 4,
 "nbformat_minor": 0
}
