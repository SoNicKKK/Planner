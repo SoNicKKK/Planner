{
 "cells": [
  {
   "cell_type": "code",
   "execution_count": 29,
   "metadata": {
    "collapsed": false
   },
   "outputs": [
    {
     "name": "stdout",
     "output_type": "stream",
     "text": [
      "['Untitled.py', '_Untitled.py']\n",
      "file Untitled.py\n",
      "file _Untitled.py\n"
     ]
    }
   ],
   "source": [
    "import os\n",
    "%matplotlib inline\n",
    "PRINT = True\n",
    "files = [files for root, directories, files in os.walk('.')][0]\n",
    "files = [file for file in files if ('.py' in file) & (file != 'release.py')]\n",
    "print(files)\n",
    "for filename in files:\n",
    "    lines = []\n",
    "    print('file', filename)\n",
    "    with open(filename, encoding='utf-8-sig') as f:\n",
    "        for line in f:        \n",
    "            if 'magic' in line:\n",
    "                to_app = '#' + line\n",
    "            elif 'PRINT = True' in line:\n",
    "                to_app = line.replace('True', 'False')\n",
    "            else:\n",
    "                to_app = line\n",
    "            lines.append(to_app)\n",
    "\n",
    "    with open('_' + filename, 'w', encoding='utf-8-sig') as fw:\n",
    "        for line in lines:\n",
    "            fw.write(line)\n",
    "        fw.close()"
   ]
  }
 ],
 "metadata": {
  "kernelspec": {
   "display_name": "Python 3",
   "language": "python",
   "name": "python3"
  },
  "language_info": {
   "codemirror_mode": {
    "name": "ipython",
    "version": 3
   },
   "file_extension": ".py",
   "mimetype": "text/x-python",
   "name": "python",
   "nbconvert_exporter": "python",
   "pygments_lexer": "ipython3",
   "version": "3.5.1"
  }
 },
 "nbformat": 4,
 "nbformat_minor": 0
}
