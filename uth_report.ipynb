{
 "cells": [
  {
   "cell_type": "code",
   "execution_count": 1,
   "metadata": {
    "collapsed": true
   },
   "outputs": [],
   "source": [
    "import numpy as np\n",
    "import pandas as pd\n",
    "import time, datetime\n",
    "from ast import literal_eval\n",
    "import matplotlib.pyplot as plt\n",
    "import seaborn as sns\n",
    "import zipfile"
   ]
  },
  {
   "cell_type": "code",
   "execution_count": 2,
   "metadata": {
    "collapsed": true
   },
   "outputs": [],
   "source": [
    "report = ''\n",
    "FOLDER = 'resources/'\n",
    "REPORT_FOLDER = 'report/'"
   ]
  },
  {
   "cell_type": "code",
   "execution_count": 3,
   "metadata": {
    "collapsed": true
   },
   "outputs": [],
   "source": [
    "import sys\n",
    "JOIN_OPS, ZIP, PRINT = False, False, True\n",
    "if len(sys.argv) > 1:\n",
    "    if 'ops' in sys.argv:\n",
    "        JOIN_OPS = True\n",
    "    if 'zip' in sys.argv:\n",
    "        ZIP = True \n",
    "    if 'noprint' in sys.argv:\n",
    "        PRINT = False"
   ]
  },
  {
   "cell_type": "code",
   "execution_count": 4,
   "metadata": {
    "collapsed": true
   },
   "outputs": [],
   "source": [
    "time_format = '%b %d, %H:%M'\n",
    "def nice_time(x):\n",
    "    return time.strftime(time_format, time.localtime(x))"
   ]
  },
  {
   "cell_type": "code",
   "execution_count": 5,
   "metadata": {
    "collapsed": false
   },
   "outputs": [],
   "source": [
    "def add_line(line, p=PRINT):    \n",
    "    global report        \n",
    "    if p:                \n",
    "        if type(line) == pd.core.frame.DataFrame:\n",
    "            print(line.to_string(index=False))\n",
    "        elif type(line) == pd.core.series.Series:\n",
    "            print(line.to_string())\n",
    "        else:\n",
    "            print(line)\n",
    "    if type(line) == pd.core.frame.DataFrame:        \n",
    "        report += ('%s<br>' % line.to_html(index=False))\n",
    "    elif type(line) == pd.core.series.Series:\n",
    "        report += ('%s<br>' % line.to_frame().reset_index().to_html(index=False))\n",
    "    else:\n",
    "        report += ('%s<br>' % line)\n",
    "    \n",
    "def add_header(header, h=4, p=PRINT):\n",
    "    global report\n",
    "    report += ('<h%d>%s</h%d>' % (h, header, h))\n",
    "    if p:\n",
    "        print(header)\n",
    "\n",
    "def add_image(filename):\n",
    "    global report\n",
    "    report += ('<img src=\"%s\" alt=\"%s\" height=\"40%%\">' % (filename, filename))\n",
    "\n",
    "def create_report(filename):\n",
    "    global report\n",
    "    report = report.replace('<table border=\"1\" class=\"dataframe\">','<table class=\"table table-striped\">')\n",
    "    html_string = '''\n",
    "        <html>\n",
    "            <head>\n",
    "                <link rel=\"stylesheet\" href=\"skeleton.css\">\n",
    "                <style>body{ margin:20 20; background:whitesmoke; }\n",
    "                table {table-layout : fixed}\n",
    "                </style>\n",
    "            </head>\n",
    "            <body>                \n",
    "                %s\n",
    "            </body>\n",
    "        </html>''' % (report)\n",
    "    f = open(filename,'w', encoding='utf-8-sig')\n",
    "    f.write(html_string)\n",
    "    f.close()\n",
    "    print('Отчет сформирован: %s' % filename)\n",
    "    \n",
    "def create_zip(filename):\n",
    "    zip_filename = filename[:-5] + '.zip'\n",
    "    zf = zipfile.ZipFile(zip_filename, mode='w')\n",
    "    try:\n",
    "        #print 'Отчет заархивирован в файл'\n",
    "        zf.write(filename)\n",
    "        zf.write('report\\skeleton.css')\n",
    "    finally:\n",
    "        print('Отчет заархивирован в файл %s' % zip_filename)\n",
    "        zf.close()    "
   ]
  },
  {
   "cell_type": "code",
   "execution_count": 6,
   "metadata": {
    "collapsed": false
   },
   "outputs": [],
   "source": [
    "pd.set_option('max_rows', 50)\n",
    "\n",
    "start_time = time.time()\n",
    "current_time = pd.read_csv(FOLDER + 'current_time.csv').current_time[0]\n",
    "twr          = pd.read_csv(FOLDER + 'team_work_region.csv', converters={'twr':str})\n",
    "links        = pd.read_csv(FOLDER + 'link.csv')\n",
    "stations     = pd.read_csv(FOLDER + 'station.csv', converters={'station':str})\n",
    "train_info   = pd.read_csv(FOLDER + 'train_info.csv', converters={'train': str, 'st_from':str, 'st_to':str})\n",
    "train_plan   = pd.read_csv(FOLDER + 'slot_train.csv', converters={'train': str, 'st_from':str, 'st_to':str})\n",
    "loco_info    = pd.read_csv(FOLDER + 'loco_attributes.csv', converters={'train':str, 'loco':str})\n",
    "loco_plan    = pd.read_csv(FOLDER + 'slot_loco.csv', converters={'train':str, 'loco':str, 'st_from':str, 'st_to':str})\n",
    "team_info    = pd.read_csv(FOLDER + 'team_attributes.csv', converters={'team':str,'depot':str, 'oper_location':str, \\\n",
    "                                                                 'st_from':str, 'st_to':str, 'loco':str, 'depot_st':str})\n",
    "team_plan    = pd.read_csv(FOLDER + 'slot_team.csv', converters={'team':str,'loco':str, 'st_from':str, 'st_to':str})\n",
    "loco_series  = pd.read_csv(FOLDER + 'loco_series.csv')\n",
    "\n",
    "team_info.regions = team_info.regions.apply(literal_eval)\n",
    "st_names = stations[['station', 'name', 'esr']].drop_duplicates().set_index('station')"
   ]
  },
  {
   "cell_type": "code",
   "execution_count": 7,
   "metadata": {
    "collapsed": true
   },
   "outputs": [],
   "source": [
    "# Мержим таблицы _plan и _info для поездов, локомотивов и бригад\n",
    "# Добавляем во все таблицы названия станций на маршруте и времена отправления/прибытия в читабельном формате\n",
    "\n",
    "def add_info(df):    \n",
    "    if 'st_from' in df.columns:\n",
    "        df['st_from_name'] = df.st_from.map(st_names.name)\n",
    "    if 'st_to' in df.columns:\n",
    "        df['st_to_name'] = df.st_to.map(st_names.name)\n",
    "    if 'time_start' in df.columns:\n",
    "        df['time_start_norm'] = df.time_start.apply(lambda x: time.strftime(time_format, time.localtime(x)))\n",
    "    if 'time_end' in df.columns:\n",
    "        df['time_end_norm'] = df.time_end.apply(lambda x: time.strftime(time_format, time.localtime(x)))\n",
    "    if 'oper_location' in df.columns:\n",
    "        df['oper_location_name'] = df.oper_location.map(st_names.name)    \n",
    "        df.oper_location_name.fillna(0, inplace=True)\n",
    "    if ('oper_location' in df.columns) & ('st_from' in df.columns) & ('st_to' in df.columns):        \n",
    "        df['loc_name'] = df.oper_location_name\n",
    "        df.loc[df.loc_name == 0, 'loc_name'] = df.st_from_name + ' - ' + df.st_to_name\n",
    "    \n",
    "add_info(train_plan)\n",
    "add_info(loco_plan)\n",
    "add_info(team_plan)\n",
    "add_info(loco_info)\n",
    "add_info(team_info)\n",
    "train_plan = train_plan.merge(train_info, on='train', suffixes=('', '_info'), how='left')\n",
    "loco_plan = loco_plan.merge(loco_info, on='loco', suffixes=('', '_info'), how='left')\n",
    "team_plan = team_plan.merge(team_info, on='team', suffixes=('', '_info'), how='left')\n",
    "team_plan['team_type'] = team_plan.team.apply(lambda x: 'Реальная' if str(x)[0] == '2' else 'Фейковая')\n",
    "loco_plan['train_time'] = list(zip(loco_plan.train, loco_plan.time_start))\n",
    "train_plan['train_time'] = list(zip(train_plan.train, train_plan.time_start))\n",
    "train_plan['loco'] = train_plan.train_time.map(loco_plan.drop_duplicates('train_time').set_index('train_time').loco)\n",
    "loco_plan['loco_time'] = list(zip(loco_plan.loco, loco_plan.time_start))\n",
    "team_plan['loco_time'] = list(zip(team_plan.loco, team_plan.time_start))\n",
    "loco_plan['team'] = loco_plan.loco_time.map(team_plan.drop_duplicates('loco_time').set_index('loco_time').team)"
   ]
  },
  {
   "cell_type": "code",
   "execution_count": 8,
   "metadata": {
    "collapsed": false
   },
   "outputs": [
    {
     "name": "stdout",
     "output_type": "stream",
     "text": [
      "--------\n",
      "Возможные ключи: \n",
      "ops - добавляет в отчет последние операции с бригадами из последнего файла \"Операции*.txt\"\n",
      "noprint - отключает вывод отладочных принтов\n",
      "zip - архивирует отчет\n",
      "--------\n"
     ]
    }
   ],
   "source": [
    "print('''--------\n",
    "Возможные ключи: \n",
    "ops - добавляет в отчет последние операции с бригадами из последнего файла \"Операции*.txt\"\n",
    "noprint - отключает вывод отладочных принтов\n",
    "zip - архивирует отчет\n",
    "--------''')"
   ]
  },
  {
   "cell_type": "code",
   "execution_count": 9,
   "metadata": {
    "collapsed": false
   },
   "outputs": [
    {
     "name": "stdout",
     "output_type": "stream",
     "text": [
      "Данные об УТХ-бригадах взяты из файла Бригады_УТХ_12_59_07.xls (дата изменения Jul 29, 12:59)\n"
     ]
    }
   ],
   "source": [
    "import os\n",
    "import time\n",
    "files = [files for root, directories, files in os.walk('./resources/others')][0]\n",
    "times = {}\n",
    "os.chdir('./resources/others')\n",
    "try:\n",
    "    for f in files:\n",
    "        if 'Бригады_УТХ' in f:\n",
    "            times[f] = int(os.path.getmtime(f))    \n",
    "\n",
    "    if times != {}:\n",
    "        uth_filename = max(times, key=lambda k: times[k])\n",
    "        date_modified = times[uth_filename]\n",
    "    else:\n",
    "        uth_filename = 'Бригады_УТХ' + '.xls'\n",
    "        date_modified = 0\n",
    "    print('Данные об УТХ-бригадах взяты из файла %s (дата изменения %s)' % (uth_filename, nice_time(date_modified)))\n",
    "    os.chdir('..')\n",
    "    os.chdir('..')\n",
    "except:\n",
    "    os.chdir('..')\n",
    "    os.chdir('..')"
   ]
  },
  {
   "cell_type": "code",
   "execution_count": 10,
   "metadata": {
    "collapsed": false
   },
   "outputs": [
    {
     "data": {
      "text/html": [
       "<div>\n",
       "<table border=\"1\" class=\"dataframe\">\n",
       "  <thead>\n",
       "    <tr style=\"text-align: right;\">\n",
       "      <th></th>\n",
       "      <th>Номер</th>\n",
       "      <th>Машинист</th>\n",
       "      <th>Депо</th>\n",
       "      <th>Вид движения</th>\n",
       "      <th>Факт.явка</th>\n",
       "      <th>План.явка</th>\n",
       "      <th>irk</th>\n",
       "      <th>uth_presence</th>\n",
       "    </tr>\n",
       "  </thead>\n",
       "  <tbody>\n",
       "    <tr>\n",
       "      <th>409</th>\n",
       "      <td>9205006900</td>\n",
       "      <td>КУЗЕМА</td>\n",
       "      <td>ТЧЭ-5 В-СИБ</td>\n",
       "      <td>ПАСС Б/ПРИГ; ГРУЗ Б/СБОР; ГРУЗ ВЫВОЗ; ХОЗ ОСТ</td>\n",
       "      <td>NaN</td>\n",
       "      <td>03:00 28.07.16</td>\n",
       "      <td>True</td>\n",
       "      <td>1469664000</td>\n",
       "    </tr>\n",
       "    <tr>\n",
       "      <th>410</th>\n",
       "      <td>9205001355</td>\n",
       "      <td>ГРАЧЕВ</td>\n",
       "      <td>ТЧЭ-5 В-СИБ</td>\n",
       "      <td>ПАСС Б/ПРИГ; ГРУЗ Б/СБОР; ГРУЗ ВЫВОЗ; ХОЗ ОСТ</td>\n",
       "      <td>NaN</td>\n",
       "      <td>03:00 28.07.16</td>\n",
       "      <td>True</td>\n",
       "      <td>1469664000</td>\n",
       "    </tr>\n",
       "    <tr>\n",
       "      <th>411</th>\n",
       "      <td>9205006741</td>\n",
       "      <td>ЦЫБУЛЬСКИЙ</td>\n",
       "      <td>ТЧЭ-5 В-СИБ</td>\n",
       "      <td>ГРУЗ Б/СБОР; ГРУЗ ПЕРЕДАТ; ГРУЗ СБОР; ГРУЗ ВЫВ...</td>\n",
       "      <td>NaN</td>\n",
       "      <td>03:00 28.07.16</td>\n",
       "      <td>True</td>\n",
       "      <td>1469664000</td>\n",
       "    </tr>\n",
       "    <tr>\n",
       "      <th>412</th>\n",
       "      <td>9205004902</td>\n",
       "      <td>МАЛЫГИН</td>\n",
       "      <td>ТЧЭ-5 В-СИБ</td>\n",
       "      <td>ГРУЗ Б/СБОР; ГРУЗ ПЕРЕДАТ; ГРУЗ СБОР; ГРУЗ ВЫВ...</td>\n",
       "      <td>NaN</td>\n",
       "      <td>07:15 28.07.16</td>\n",
       "      <td>True</td>\n",
       "      <td>1469679300</td>\n",
       "    </tr>\n",
       "    <tr>\n",
       "      <th>413</th>\n",
       "      <td>9205000232</td>\n",
       "      <td>ПАЩЕНКО</td>\n",
       "      <td>ТЧЭ-5 В-СИБ</td>\n",
       "      <td>ГРУЗ Б/СБОР; ГРУЗ ПЕРЕДАТ; ГРУЗ СБОР; ГРУЗ ВЫВ...</td>\n",
       "      <td>NaN</td>\n",
       "      <td>01:10 28.07.16</td>\n",
       "      <td>True</td>\n",
       "      <td>1469657400</td>\n",
       "    </tr>\n",
       "  </tbody>\n",
       "</table>\n",
       "</div>"
      ],
      "text/plain": [
       "          Номер    Машинист         Депо  \\\n",
       "409  9205006900      КУЗЕМА  ТЧЭ-5 В-СИБ   \n",
       "410  9205001355      ГРАЧЕВ  ТЧЭ-5 В-СИБ   \n",
       "411  9205006741  ЦЫБУЛЬСКИЙ  ТЧЭ-5 В-СИБ   \n",
       "412  9205004902     МАЛЫГИН  ТЧЭ-5 В-СИБ   \n",
       "413  9205000232     ПАЩЕНКО  ТЧЭ-5 В-СИБ   \n",
       "\n",
       "                                          Вид движения  Факт.явка  \\\n",
       "409      ПАСС Б/ПРИГ; ГРУЗ Б/СБОР; ГРУЗ ВЫВОЗ; ХОЗ ОСТ        NaN   \n",
       "410      ПАСС Б/ПРИГ; ГРУЗ Б/СБОР; ГРУЗ ВЫВОЗ; ХОЗ ОСТ        NaN   \n",
       "411  ГРУЗ Б/СБОР; ГРУЗ ПЕРЕДАТ; ГРУЗ СБОР; ГРУЗ ВЫВ...        NaN   \n",
       "412  ГРУЗ Б/СБОР; ГРУЗ ПЕРЕДАТ; ГРУЗ СБОР; ГРУЗ ВЫВ...        NaN   \n",
       "413  ГРУЗ Б/СБОР; ГРУЗ ПЕРЕДАТ; ГРУЗ СБОР; ГРУЗ ВЫВ...        NaN   \n",
       "\n",
       "          План.явка   irk  uth_presence  \n",
       "409  03:00 28.07.16  True    1469664000  \n",
       "410  03:00 28.07.16  True    1469664000  \n",
       "411  03:00 28.07.16  True    1469664000  \n",
       "412  07:15 28.07.16  True    1469679300  \n",
       "413  01:10 28.07.16  True    1469657400  "
      ]
     },
     "execution_count": 10,
     "metadata": {},
     "output_type": "execute_result"
    }
   ],
   "source": [
    "# Загрузка УТХ-бригад из экселевской выгрузки\n",
    "import xlrd\n",
    "uth = pd.read_excel('./resources/others/' + uth_filename)\n",
    "uth.columns = ['Номер', 'Машинист', 'Депо', 'Вид движения', 'Факт.явка', 'План.явка']\n",
    "uth['Вид движения'] = uth['Вид движения'].apply(lambda x: str(x).replace('\\n\\t\\t\\t', ';'))\n",
    "uth['irk'] = uth['Депо'].apply(lambda x: 'ТЧЭ-5 В' in x)\n",
    "uth = uth[uth.irk]\n",
    "#time_f = '%Y-%m-%d %H:%M:%S'\n",
    "##uth['uth_presence'] = uth['План.явка'].apply(lambda x: time.mktime(datetime.datetime.strptime(x, '%H:%M %d.%m.%y').timetuple()))\n",
    "if (uth['План.явка'].dtype == float):\n",
    "    uth['План.явка'] = uth['План.явка'].apply(lambda x: datetime.datetime(*xlrd.xldate.xldate_as_tuple(x, 0)))\n",
    "    print('Формат времени в столбце \"Плановая явка\" заменен c формата Excel на python datetime')\n",
    "\n",
    "try:\n",
    "    uth['uth_presence'] = uth['План.явка'].apply(lambda x: time.mktime(x.timetuple()))\n",
    "except:\n",
    "    try:\n",
    "        uth['uth_presence'] = uth['План.явка'].apply(lambda x: time.mktime(time.strptime(x, \"%Y-%m-%d %H:%M:%S %z\")))\n",
    "    except:\n",
    "        uth['uth_presence'] = uth['План.явка'].apply(lambda x: time.mktime(time.strptime(x, \"%H:%M %d.%m.%y\")))\n",
    "uth.head()"
   ]
  },
  {
   "cell_type": "code",
   "execution_count": 11,
   "metadata": {
    "collapsed": false
   },
   "outputs": [],
   "source": [
    "info_cols = ['number', 'name', 'loc_name', 'state', 'depot_time_norm', 'is_planned']\n",
    "team_info['name'] = team_info.number.map(uth.set_index('Номер')['Машинист'])\n",
    "team_info['uth_presence'] = team_info.number.map(uth.set_index('Номер').uth_presence)\n",
    "team_info['depot_time_norm'] = team_info.depot_time.apply(lambda x: time.strftime(time_format, time.localtime(x)) if x !=-1 else x)\n",
    "planned = team_plan[team_plan.state.isin([0, 1])].drop_duplicates('team')\n",
    "team_info['is_planned'] = team_info.team.isin(planned.team)"
   ]
  },
  {
   "cell_type": "code",
   "execution_count": 12,
   "metadata": {
    "collapsed": false
   },
   "outputs": [],
   "source": [
    "df_input_show = team_info[team_info.number.isin(uth['Номер'])][info_cols]\n",
    "df_input_show.is_planned.replace(False, 'Нет', inplace=True)\n",
    "df_input_show.is_planned.replace(True, 'Да', inplace=True)\n",
    "df_input_show.columns=['Номер', 'Машинист', 'Исх.местоположение', 'Исх.состояние', 'Время явки', 'В плане?']\n",
    "cols = ['Номер', 'Машинист', 'Депо', 'Вид движения', 'План.явка', 'uth_presence']\n",
    "df_show = uth[cols].set_index(['Номер', 'Машинист']).join(df_input_show.set_index(['Номер', 'Машинист'])).fillna('-').reset_index()"
   ]
  },
  {
   "cell_type": "code",
   "execution_count": 13,
   "metadata": {
    "collapsed": false
   },
   "outputs": [],
   "source": [
    "team_cols = ['number', 'name', 'st_from_name', 'st_to_name', 'time_start', 'time_start_norm', \n",
    "             'state', 'loco_number', 'train_number', 'all_states']\n",
    "team_plan['name'] = team_plan.number.map(uth.set_index('Номер')['Машинист'])\n",
    "team_plan['loco_number'] = team_plan.loco.map(loco_info.set_index('loco').number)\n",
    "team_plan['loco_time'] = list(zip(team_plan.loco, team_plan.time_start))\n",
    "loco_plan['loco_time'] = list(zip(loco_plan.loco, loco_plan.time_start))\n",
    "loco_plan['train_number'] = loco_plan.train.map(train_info.drop_duplicates('train').set_index('train').number)\n",
    "loco_plan.loc[loco_plan.train_number.isnull(), 'train_number'] = loco_plan.train.apply(lambda x: str(x)[-4:])\n",
    "team_plan['train_number'] = team_plan.loco_time.map(loco_plan.drop_duplicates('loco_time').set_index('loco_time').train_number)\n",
    "team_plan['all_states'] = team_plan.team.map(team_plan.groupby('team').state.unique())\n",
    "uth_plan = team_plan[team_plan.number.isin(uth['Номер'])]\n",
    "df_output_show = uth_plan[uth_plan.state.isin([0, 1])].drop_duplicates('team').sort_values('time_start')[team_cols]\n",
    "df_output_show.loco_number.fillna(-1, inplace=True)\n",
    "df_output_show.columns = ['Номер', 'Машинист', 'Ст.отпр.', 'Ст.направл.', 'plan_time_start', 'Время отпр.', \n",
    "                          'Состояние', 'Номер ЛОК', 'Номер П', 'Все состояния']"
   ]
  },
  {
   "cell_type": "code",
   "execution_count": 14,
   "metadata": {
    "collapsed": false
   },
   "outputs": [
    {
     "name": "stdout",
     "output_type": "stream",
     "text": [
      "Время сбора данных и запуска планировщика: Jul 27, 16:31\n",
      "Всего 33 иркутских бригад загружено в ОУЭР из УТХ\n",
      "Из них:\n",
      "- передано в планировщик: 31\n",
      "- не передано в планировщик: 2\n",
      "- запланировано: 21\n"
     ]
    }
   ],
   "source": [
    "add_line('Время сбора данных и запуска планировщика: %s' % time.strftime(time_format, time.localtime(current_time)))\n",
    "add_header('Всего %d иркутских бригад загружено в ОУЭР из УТХ' % uth['Номер'].count())\n",
    "add_line('Из них:')\n",
    "add_line('- передано в планировщик: %d' % team_info[team_info.number.isin(uth['Номер'])].team.count())\n",
    "add_line('- не передано в планировщик: %d' % uth[uth['Номер'].isin(team_info.number) == False]['Номер'].count())\n",
    "add_line('- запланировано: %d' % df_output_show['Номер'].count())\n",
    "df_show_uth_plan = df_show.set_index(['Номер', 'Машинист']).join(df_output_show.set_index(['Номер', 'Машинист'])).fillna('-')"
   ]
  },
  {
   "cell_type": "code",
   "execution_count": 15,
   "metadata": {
    "collapsed": false
   },
   "outputs": [],
   "source": [
    "def add_state_legend():\n",
    "    add_line('Состояния бригад:')\n",
    "    add_line('0 - следует пассажиром')\n",
    "    add_line('1 - ведет локомотив')\n",
    "    add_line('2 - явка в депо приписки')\n",
    "    add_line('3 - находится на домашнем отдыхе')\n",
    "    add_line('4 - отдыхает в пункте оборота')\n",
    "    add_line('5 - прикреплена к локомотиву на станции')\n",
    "    add_line('6 - прибыла на станцию с локомотивом')\n",
    "    add_line('7 - прибыла на станцию пассажиром')\n",
    "    add_line('8 - явка в пункте оборота')\n",
    "    add_line('9 - сдача локомотива')"
   ]
  },
  {
   "cell_type": "code",
   "execution_count": 16,
   "metadata": {
    "collapsed": false
   },
   "outputs": [
    {
     "name": "stdout",
     "output_type": "stream",
     "text": [
      "Данные об операциях с УТХ-бригадами взяты из файла \"Операции с УТХшными ЛБ.txt\" (дата изменения Jun 06, 14:11)\n"
     ]
    }
   ],
   "source": [
    "files = [files for root, directories, files in os.walk('./resources/others')][0]\n",
    "times = {}\n",
    "os.chdir('./resources/others')\n",
    "try:\n",
    "    for f in files:\n",
    "        if ('Операции' in f) & ('.txt' in f):\n",
    "            times[f] = int(os.path.getmtime(f))\n",
    "\n",
    "    if times != {}:\n",
    "        ops_filename = max(times, key=lambda k: times[k])\n",
    "        date_modified = times[ops_filename]\n",
    "    else:\n",
    "        ops_filename = 'Операции с УТХшными ЛБ.txt'\n",
    "        date_modified = 0\n",
    "    os.chdir('..')\n",
    "    os.chdir('..')\n",
    "except:\n",
    "    os.chdir('..')\n",
    "    os.chdir('..')\n",
    "print('Данные об операциях с УТХ-бригадами взяты из файла \"%s\" (дата изменения %s)' % (ops_filename, nice_time(date_modified)))"
   ]
  },
  {
   "cell_type": "code",
   "execution_count": 17,
   "metadata": {
    "collapsed": false
   },
   "outputs": [
    {
     "data": {
      "text/html": [
       "<div>\n",
       "<table border=\"1\" class=\"dataframe\">\n",
       "  <thead>\n",
       "    <tr style=\"text-align: right;\">\n",
       "      <th></th>\n",
       "      <th>team</th>\n",
       "      <th>name</th>\n",
       "      <th>team_type</th>\n",
       "      <th>op_id</th>\n",
       "      <th>op_name</th>\n",
       "      <th>op_time</th>\n",
       "      <th>op_location</th>\n",
       "    </tr>\n",
       "  </thead>\n",
       "  <tbody>\n",
       "    <tr>\n",
       "      <th>8491</th>\n",
       "      <td>[200200196650</td>\n",
       "      <td>ЗЕМЛЯНИЧКИН</td>\n",
       "      <td>[ГРУЗ Б/СБОР(21)]</td>\n",
       "      <td>1</td>\n",
       "      <td>Прибытие на станцию</td>\n",
       "      <td>2016-05-30 12:37:00 +0300</td>\n",
       "      <td>СЛЮДЯНКА I</td>\n",
       "    </tr>\n",
       "    <tr>\n",
       "      <th>15612</th>\n",
       "      <td>[200200227953</td>\n",
       "      <td>MИXAЛЬKOB</td>\n",
       "      <td>[ХОЗ ПУТЕВОЕ(42)]</td>\n",
       "      <td>2</td>\n",
       "      <td>Отправление со станции</td>\n",
       "      <td>2016-05-18 11:26:00 +0300</td>\n",
       "      <td>ИРКУТСК-СОРТИРОВОЧНЫЙ</td>\n",
       "    </tr>\n",
       "    <tr>\n",
       "      <th>3677</th>\n",
       "      <td>[200200166657</td>\n",
       "      <td>ПИЕЦ</td>\n",
       "      <td>[ГРУЗ ПЕРЕДАТ(22)]</td>\n",
       "      <td>1</td>\n",
       "      <td>Прибытие на станцию</td>\n",
       "      <td>2016-05-21 17:00:00 +0300</td>\n",
       "      <td>ЗУЙ</td>\n",
       "    </tr>\n",
       "  </tbody>\n",
       "</table>\n",
       "</div>"
      ],
      "text/plain": [
       "                team         name           team_type op_id  \\\n",
       "8491   [200200196650  ЗЕМЛЯНИЧКИН   [ГРУЗ Б/СБОР(21)]     1   \n",
       "15612  [200200227953    MИXAЛЬKOB   [ХОЗ ПУТЕВОЕ(42)]     2   \n",
       "3677   [200200166657         ПИЕЦ  [ГРУЗ ПЕРЕДАТ(22)]     1   \n",
       "\n",
       "                      op_name                    op_time  \\\n",
       "8491      Прибытие на станцию  2016-05-30 12:37:00 +0300   \n",
       "15612  Отправление со станции  2016-05-18 11:26:00 +0300   \n",
       "3677      Прибытие на станцию  2016-05-21 17:00:00 +0300   \n",
       "\n",
       "                 op_location  \n",
       "8491              СЛЮДЯНКА I  \n",
       "15612  ИРКУТСК-СОРТИРОВОЧНЫЙ  \n",
       "3677                     ЗУЙ  "
      ]
     },
     "execution_count": 17,
     "metadata": {},
     "output_type": "execute_result"
    }
   ],
   "source": [
    "lines = []\n",
    "cur_team_id = 0\n",
    "cur_team_name = ''\n",
    "with open ('./resources/others/' + ops_filename, encoding='utf-8-sig') as fop:\n",
    "    for line in fop:        \n",
    "        if line[:7] == 'Бригада':            \n",
    "            sp = line[:-1].split()            \n",
    "            cur_team_id = sp[2][:-1]\n",
    "            cur_team_name = sp[1][:-1]\n",
    "        if line[:4] == '2016':\n",
    "            sp = line[:-1].split('\\t')\n",
    "            l = [cur_team_id, cur_team_name] + sp\n",
    "            lines.append(l)\n",
    "        \n",
    "lines[:10]\n",
    "cols = ['team', 'name', 'team_type', 'op_id', 'op_name', 'op_time', 'op_location']\n",
    "df_ops = pd.DataFrame(lines, columns = ['team', 'name', 'op_time', 'op_id', 'team_type', 'op_name', 'op_location'])\n",
    "df_ops = df_ops[cols]\n",
    "df_ops.sample(3)"
   ]
  },
  {
   "cell_type": "code",
   "execution_count": 18,
   "metadata": {
    "collapsed": false
   },
   "outputs": [
    {
     "name": "stdout",
     "output_type": "stream",
     "text": [
      "Всего бригад в файле Операции с УТХшными ЛБ.txt: 92\n",
      "Время сбора данных: Jul 27, 16:31\n"
     ]
    }
   ],
   "source": [
    "print('Всего бригад в файле %s: %d' % (ops_filename, df_ops.team.drop_duplicates().count()))\n",
    "print('Время сбора данных: %s' % time.strftime(time_format, time.localtime(current_time)))"
   ]
  },
  {
   "cell_type": "code",
   "execution_count": 19,
   "metadata": {
    "collapsed": false
   },
   "outputs": [
    {
     "name": "stdout",
     "output_type": "stream",
     "text": [
      "Время последней операции в файле Операции с УТХшными ЛБ.txt: Jun 06, 13:54\n"
     ]
    }
   ],
   "source": [
    "df_ops['timestamp'] = df_ops['op_time'].apply(lambda x: \\\n",
    "                                              time.mktime(datetime.datetime.strptime(x[:-6], \"%Y-%m-%d %H:%M:%S\").timetuple()))\n",
    "print('Время последней операции в файле %s: %s' \n",
    "      % (ops_filename, time.strftime(time_format, time.localtime(df_ops.timestamp.max()))))"
   ]
  },
  {
   "cell_type": "code",
   "execution_count": 20,
   "metadata": {
    "collapsed": false
   },
   "outputs": [
    {
     "data": {
      "text/html": [
       "<div>\n",
       "<table border=\"1\" class=\"dataframe\">\n",
       "  <thead>\n",
       "    <tr style=\"text-align: right;\">\n",
       "      <th></th>\n",
       "      <th>team</th>\n",
       "      <th>name</th>\n",
       "      <th>team_type</th>\n",
       "      <th>op_id</th>\n",
       "      <th>op_name</th>\n",
       "      <th>op_time</th>\n",
       "      <th>op_location</th>\n",
       "    </tr>\n",
       "  </thead>\n",
       "  <tbody>\n",
       "    <tr>\n",
       "      <th>63</th>\n",
       "      <td>[200200223782</td>\n",
       "      <td>БУЛEHKO</td>\n",
       "      <td>[ГРУЗ Б/СБОР(21)]</td>\n",
       "      <td>54</td>\n",
       "      <td>Начало выходного дня</td>\n",
       "      <td>2016-06-05 19:38:00 +0300</td>\n",
       "      <td>ЭКСПЛУАТАЦИОННОЕ ЛОКОМОТИВНОЕ ДЕПО ИРКУТСК-СОР...</td>\n",
       "    </tr>\n",
       "    <tr>\n",
       "      <th>31</th>\n",
       "      <td>[200200148399</td>\n",
       "      <td>УЛЫБИH</td>\n",
       "      <td>[ГРУЗ ПЕРЕДАТ(22)]</td>\n",
       "      <td>31</td>\n",
       "      <td>Начало отдыха по месту жительства</td>\n",
       "      <td>2016-06-05 02:00:00 +0300</td>\n",
       "      <td>ЭКСПЛУАТАЦИОННОЕ ЛОКОМОТИВНОЕ ДЕПО ИРКУТСК-СОР...</td>\n",
       "    </tr>\n",
       "    <tr>\n",
       "      <th>38</th>\n",
       "      <td>[200200160016</td>\n",
       "      <td>СКРЯБИКОВ</td>\n",
       "      <td>[ГРУЗ ПЕРЕДАТ(22)]</td>\n",
       "      <td>1</td>\n",
       "      <td>Прибытие на станцию</td>\n",
       "      <td>2016-06-06 10:10:00 +0300</td>\n",
       "      <td>ИРКУТСК-СОРТИРОВОЧНЫЙ</td>\n",
       "    </tr>\n",
       "  </tbody>\n",
       "</table>\n",
       "</div>"
      ],
      "text/plain": [
       "             team       name           team_type op_id  \\\n",
       "63  [200200223782    БУЛEHKO   [ГРУЗ Б/СБОР(21)]    54   \n",
       "31  [200200148399     УЛЫБИH  [ГРУЗ ПЕРЕДАТ(22)]    31   \n",
       "38  [200200160016  СКРЯБИКОВ  [ГРУЗ ПЕРЕДАТ(22)]     1   \n",
       "\n",
       "                              op_name                    op_time  \\\n",
       "63               Начало выходного дня  2016-06-05 19:38:00 +0300   \n",
       "31  Начало отдыха по месту жительства  2016-06-05 02:00:00 +0300   \n",
       "38                Прибытие на станцию  2016-06-06 10:10:00 +0300   \n",
       "\n",
       "                                          op_location  \n",
       "63  ЭКСПЛУАТАЦИОННОЕ ЛОКОМОТИВНОЕ ДЕПО ИРКУТСК-СОР...  \n",
       "31  ЭКСПЛУАТАЦИОННОЕ ЛОКОМОТИВНОЕ ДЕПО ИРКУТСК-СОР...  \n",
       "38                              ИРКУТСК-СОРТИРОВОЧНЫЙ  "
      ]
     },
     "execution_count": 20,
     "metadata": {},
     "output_type": "execute_result"
    }
   ],
   "source": [
    "mask = df_ops.timestamp <= current_time\n",
    "cols = ['team', 'name', 'team_type', 'op_id', 'op_name', 'op_time', 'op_location']\n",
    "last = df_ops[mask].groupby('team').timestamp.max().to_frame().reset_index().set_index(['team', 'timestamp'])\\\n",
    "            .join(df_ops.set_index(['team', 'timestamp'])).reset_index()\n",
    "last[cols].sample(3)"
   ]
  },
  {
   "cell_type": "code",
   "execution_count": 21,
   "metadata": {
    "collapsed": false
   },
   "outputs": [
    {
     "data": {
      "text/html": [
       "<div>\n",
       "<table border=\"1\" class=\"dataframe\">\n",
       "  <thead>\n",
       "    <tr style=\"text-align: right;\">\n",
       "      <th></th>\n",
       "      <th>team</th>\n",
       "      <th>name</th>\n",
       "      <th>team_type</th>\n",
       "      <th>op_id</th>\n",
       "      <th>op_name</th>\n",
       "      <th>op_time</th>\n",
       "      <th>op_location</th>\n",
       "    </tr>\n",
       "  </thead>\n",
       "  <tbody>\n",
       "    <tr>\n",
       "      <th>0</th>\n",
       "      <td>[200200172158</td>\n",
       "      <td>НАПРЕЙЧИКОВ</td>\n",
       "      <td>[ГРУЗ ПЕРЕДАТ(22)]</td>\n",
       "      <td>56</td>\n",
       "      <td>Административный отпуск</td>\n",
       "      <td>2016-06-05 19:03:00 +0300</td>\n",
       "      <td>ЭКСПЛУАТАЦИОННОЕ ЛОКОМОТИВНОЕ ДЕПО ИРКУТСК-СОР...</td>\n",
       "    </tr>\n",
       "    <tr>\n",
       "      <th>1</th>\n",
       "      <td>[200200242882</td>\n",
       "      <td>ПАНЬКО</td>\n",
       "      <td>[ГРУЗ Б/СБОР(21)]</td>\n",
       "      <td>57</td>\n",
       "      <td>Болезнь</td>\n",
       "      <td>2016-06-05 19:03:00 +0300</td>\n",
       "      <td>ЭКСПЛУАТАЦИОННОЕ ЛОКОМОТИВНОЕ ДЕПО ИРКУТСК-СОР...</td>\n",
       "    </tr>\n",
       "    <tr>\n",
       "      <th>2</th>\n",
       "      <td>[200200107915</td>\n",
       "      <td>MУXИTOB</td>\n",
       "      <td>[ГРУЗ Б/СБОР(21)]</td>\n",
       "      <td>9</td>\n",
       "      <td>Готовность к отправлению</td>\n",
       "      <td>2016-06-06 13:37:00 +0300</td>\n",
       "      <td>БОЛЬШОЙ ЛУГ</td>\n",
       "    </tr>\n",
       "    <tr>\n",
       "      <th>3</th>\n",
       "      <td>[200200156222</td>\n",
       "      <td>АГЕЕВ</td>\n",
       "      <td>[ПАСС Б/ПРИГ(11)]</td>\n",
       "      <td>54</td>\n",
       "      <td>Начало выходного дня</td>\n",
       "      <td>2016-06-03 21:33:00 +0300</td>\n",
       "      <td>ЭКСПЛУАТАЦИОННОЕ ЛОКОМОТИВНОЕ ДЕПО ИРКУТСК-СОР...</td>\n",
       "    </tr>\n",
       "    <tr>\n",
       "      <th>4</th>\n",
       "      <td>[200200140065</td>\n",
       "      <td>AHДPEEB</td>\n",
       "      <td>[ПАСС Б/ПРИГ(11)]</td>\n",
       "      <td>54</td>\n",
       "      <td>Начало выходного дня</td>\n",
       "      <td>2016-06-04 01:58:00 +0300</td>\n",
       "      <td>ЭКСПЛУАТАЦИОННОЕ ЛОКОМОТИВНОЕ ДЕПО ИРКУТСК-СОР...</td>\n",
       "    </tr>\n",
       "  </tbody>\n",
       "</table>\n",
       "</div>"
      ],
      "text/plain": [
       "            team         name           team_type op_id  \\\n",
       "0  [200200172158  НАПРЕЙЧИКОВ  [ГРУЗ ПЕРЕДАТ(22)]    56   \n",
       "1  [200200242882       ПАНЬКО   [ГРУЗ Б/СБОР(21)]    57   \n",
       "2  [200200107915      MУXИTOB   [ГРУЗ Б/СБОР(21)]     9   \n",
       "3  [200200156222        АГЕЕВ   [ПАСС Б/ПРИГ(11)]    54   \n",
       "4  [200200140065      AHДPEEB   [ПАСС Б/ПРИГ(11)]    54   \n",
       "\n",
       "                    op_name                    op_time  \\\n",
       "0  Административный отпуск   2016-06-05 19:03:00 +0300   \n",
       "1                   Болезнь  2016-06-05 19:03:00 +0300   \n",
       "2  Готовность к отправлению  2016-06-06 13:37:00 +0300   \n",
       "3      Начало выходного дня  2016-06-03 21:33:00 +0300   \n",
       "4      Начало выходного дня  2016-06-04 01:58:00 +0300   \n",
       "\n",
       "                                         op_location  \n",
       "0  ЭКСПЛУАТАЦИОННОЕ ЛОКОМОТИВНОЕ ДЕПО ИРКУТСК-СОР...  \n",
       "1  ЭКСПЛУАТАЦИОННОЕ ЛОКОМОТИВНОЕ ДЕПО ИРКУТСК-СОР...  \n",
       "2                                        БОЛЬШОЙ ЛУГ  \n",
       "3  ЭКСПЛУАТАЦИОННОЕ ЛОКОМОТИВНОЕ ДЕПО ИРКУТСК-СОР...  \n",
       "4  ЭКСПЛУАТАЦИОННОЕ ЛОКОМОТИВНОЕ ДЕПО ИРКУТСК-СОР...  "
      ]
     },
     "execution_count": 21,
     "metadata": {},
     "output_type": "execute_result"
    }
   ],
   "source": [
    "good = df_show[df_show['В плане?'] == 'Да']['Машинист'].unique()\n",
    "last_good = last[last.name.isin(good) == False].sort_values(['op_name', 'timestamp']).reset_index()\n",
    "last_good[cols].head()"
   ]
  },
  {
   "cell_type": "code",
   "execution_count": 22,
   "metadata": {
    "collapsed": false
   },
   "outputs": [],
   "source": [
    "last.columns = ['Id', 'Timestamp', 'Машинист', 'Тип бр.', \n",
    "                       'Id посл.оп.', 'Посл.операция', 'Время посл.оп.', 'Место посл.оп.']\n",
    "op_cols = ['Id', 'Машинист', 'Тип бр.', 'Id посл.оп.', 'Посл.операция', 'Время посл.оп.', 'Место посл.оп.']\n",
    "if JOIN_OPS:    \n",
    "    show_cols = ['Номер', 'Машинист', 'Депо', 'Вид движения', 'Тип бр.', \n",
    "             'Id посл.оп.', 'Посл.операция', 'Время посл.оп.', 'Место посл.оп.',\n",
    "             'План.явка', 'Исх.местоположение', 'Исх.состояние', 'Время явки', 'В плане?', 'Ст.отпр.', 'Ст.направл.', \n",
    "             'Время отпр.', 'Состояние', 'Номер ЛОК', 'Номер П', 'Все состояния']\n",
    "    res = df_show_uth_plan.reset_index().set_index('Машинист').join(last[op_cols].set_index('Машинист'))\n",
    "else:\n",
    "    show_cols = ['Номер', 'Машинист', 'Депо', 'Вид движения',              \n",
    "             'План.явка', 'Исх.местоположение', 'Исх.состояние', 'Время явки', 'В плане?', 'Ст.отпр.', 'Ст.направл.', \n",
    "             'Время отпр.', 'Состояние', 'Номер ЛОК', 'Номер П', 'Все состояния']\n",
    "    res = df_show_uth_plan\n",
    "res_to_index_start_with_0 = res.reset_index().sort_values(['uth_presence', 'Машинист'])[show_cols].reset_index()\n",
    "res_to_index_start_with_0['index'] = res_to_index_start_with_0['index'] + 1\n",
    "add_line(res_to_index_start_with_0, p=False)"
   ]
  },
  {
   "cell_type": "code",
   "execution_count": 23,
   "metadata": {
    "collapsed": false
   },
   "outputs": [
    {
     "name": "stdout",
     "output_type": "stream",
     "text": [
      "Не переданные бригады:\n",
      "[9205000361, 9205002169]\n",
      "Не запланированные бригады:\n",
      "[9205031362, 9205001703, 9205008378, 9205031354, 9205002635, 9205004564, 9205003873, 9205030603, 9205007670, 9205004563]\n"
     ]
    }
   ],
   "source": [
    "not_input = res_to_index_start_with_0[res_to_index_start_with_0['В плане?'] == '-']\n",
    "not_planned = res_to_index_start_with_0[res_to_index_start_with_0['В плане?'] == 'Нет']\n",
    "add_header('Не переданные бригады:')\n",
    "add_line(list(not_input['Номер'].unique()))\n",
    "add_header('Не запланированные бригады:')\n",
    "add_line(list(not_planned['Номер'].unique()))"
   ]
  },
  {
   "cell_type": "code",
   "execution_count": 24,
   "metadata": {
    "collapsed": false
   },
   "outputs": [
    {
     "name": "stdout",
     "output_type": "stream",
     "text": [
      "Состояния бригад:\n",
      "0 - следует пассажиром\n",
      "1 - ведет локомотив\n",
      "2 - явка в депо приписки\n",
      "3 - находится на домашнем отдыхе\n",
      "4 - отдыхает в пункте оборота\n",
      "5 - прикреплена к локомотиву на станции\n",
      "6 - прибыла на станцию с локомотивом\n",
      "7 - прибыла на станцию пассажиром\n",
      "8 - явка в пункте оборота\n",
      "9 - сдача локомотива\n",
      "Отчет сформирован: report/uth_report_20160802_083429.html\n"
     ]
    }
   ],
   "source": [
    "add_state_legend()\n",
    "filename = REPORT_FOLDER + 'uth_report_' + time.strftime('%Y%m%d_%H%M%S', time.localtime(time.time())) + '.html'\n",
    "create_report(filename)\n",
    "if ZIP:\n",
    "    create_zip(filename)"
   ]
  },
  {
   "cell_type": "code",
   "execution_count": 25,
   "metadata": {
    "collapsed": false
   },
   "outputs": [
    {
     "data": {
      "text/plain": [
       "array([9205031362, 9205001703, 9205008378, 9205031354, 9205002635,\n",
       "       9205004564, 9205003873, 9205030603, 9205007670, 9205004563], dtype=int64)"
      ]
     },
     "execution_count": 25,
     "metadata": {},
     "output_type": "execute_result"
    }
   ],
   "source": [
    "res_to_index_start_with_0[res_to_index_start_with_0['В плане?'] == 'Нет']['Номер'].unique()"
   ]
  },
  {
   "cell_type": "code",
   "execution_count": 26,
   "metadata": {
    "collapsed": false
   },
   "outputs": [
    {
     "name": "stdout",
     "output_type": "stream",
     "text": [
      "Jul 27, 16:31\n"
     ]
    },
    {
     "data": {
      "text/html": [
       "<div>\n",
       "<table border=\"1\" class=\"dataframe\">\n",
       "  <thead>\n",
       "    <tr style=\"text-align: right;\">\n",
       "      <th></th>\n",
       "      <th>number</th>\n",
       "      <th>depot</th>\n",
       "      <th>ready_type</th>\n",
       "      <th>state</th>\n",
       "      <th>loc_name</th>\n",
       "      <th>oper_time_f</th>\n",
       "      <th>loco</th>\n",
       "      <th>ttype</th>\n",
       "    </tr>\n",
       "  </thead>\n",
       "  <tbody>\n",
       "    <tr>\n",
       "      <th>1169</th>\n",
       "      <td>9205007885</td>\n",
       "      <td>2000036956</td>\n",
       "      <td>depot</td>\n",
       "      <td>1</td>\n",
       "      <td>ИРКУТСК-СОРТИРОВОЧНЫЙ - ГОНЧАРОВО</td>\n",
       "      <td>Jul 27, 15:19</td>\n",
       "      <td>200200084084</td>\n",
       "      <td>1</td>\n",
       "    </tr>\n",
       "    <tr>\n",
       "      <th>3585</th>\n",
       "      <td>9205007540</td>\n",
       "      <td>2000036956</td>\n",
       "      <td>depot</td>\n",
       "      <td>2</td>\n",
       "      <td>ИРКУТСК-СОРТИРОВОЧНЫЙ</td>\n",
       "      <td>Jul 27, 16:15</td>\n",
       "      <td>-1</td>\n",
       "      <td>1</td>\n",
       "    </tr>\n",
       "    <tr>\n",
       "      <th>1438</th>\n",
       "      <td>9205004564</td>\n",
       "      <td>2000036956</td>\n",
       "      <td>depot</td>\n",
       "      <td>3</td>\n",
       "      <td>ИРКУТСК-СОРТИРОВОЧНЫЙ</td>\n",
       "      <td>Jul 27, 07:24</td>\n",
       "      <td>-1</td>\n",
       "      <td>1</td>\n",
       "    </tr>\n",
       "    <tr>\n",
       "      <th>1673</th>\n",
       "      <td>9205031292</td>\n",
       "      <td>2000036956</td>\n",
       "      <td>depot</td>\n",
       "      <td>3</td>\n",
       "      <td>ИРКУТСК-СОРТИРОВОЧНЫЙ</td>\n",
       "      <td>Jun 28, 06:08</td>\n",
       "      <td>-1</td>\n",
       "      <td>1</td>\n",
       "    </tr>\n",
       "    <tr>\n",
       "      <th>1722</th>\n",
       "      <td>9205007272</td>\n",
       "      <td>2000036956</td>\n",
       "      <td>depot</td>\n",
       "      <td>3</td>\n",
       "      <td>ИРКУТСК-СОРТИРОВОЧНЫЙ</td>\n",
       "      <td>Jul 26, 11:32</td>\n",
       "      <td>-1</td>\n",
       "      <td>1</td>\n",
       "    </tr>\n",
       "    <tr>\n",
       "      <th>2181</th>\n",
       "      <td>9205031361</td>\n",
       "      <td>2000036956</td>\n",
       "      <td>depot</td>\n",
       "      <td>3</td>\n",
       "      <td>ИРКУТСК-СОРТИРОВОЧНЫЙ</td>\n",
       "      <td>Jul 08, 12:21</td>\n",
       "      <td>-1</td>\n",
       "      <td>1</td>\n",
       "    </tr>\n",
       "    <tr>\n",
       "      <th>2638</th>\n",
       "      <td>9205008860</td>\n",
       "      <td>2000036956</td>\n",
       "      <td>depot</td>\n",
       "      <td>3</td>\n",
       "      <td>ИРКУТСК-СОРТИРОВОЧНЫЙ</td>\n",
       "      <td>Jul 04, 15:16</td>\n",
       "      <td>-1</td>\n",
       "      <td>1</td>\n",
       "    </tr>\n",
       "    <tr>\n",
       "      <th>2773</th>\n",
       "      <td>9205002635</td>\n",
       "      <td>2000036956</td>\n",
       "      <td>depot</td>\n",
       "      <td>3</td>\n",
       "      <td>ИРКУТСК-СОРТИРОВОЧНЫЙ</td>\n",
       "      <td>Jul 27, 03:01</td>\n",
       "      <td>-1</td>\n",
       "      <td>1</td>\n",
       "    </tr>\n",
       "    <tr>\n",
       "      <th>3303</th>\n",
       "      <td>9205006890</td>\n",
       "      <td>2000036956</td>\n",
       "      <td>depot</td>\n",
       "      <td>3</td>\n",
       "      <td>ИРКУТСК-СОРТИРОВОЧНЫЙ</td>\n",
       "      <td>Jul 27, 07:20</td>\n",
       "      <td>-1</td>\n",
       "      <td>1</td>\n",
       "    </tr>\n",
       "    <tr>\n",
       "      <th>3682</th>\n",
       "      <td>9205008378</td>\n",
       "      <td>2000036956</td>\n",
       "      <td>depot</td>\n",
       "      <td>3</td>\n",
       "      <td>ИРКУТСК-СОРТИРОВОЧНЫЙ</td>\n",
       "      <td>Jul 27, 00:00</td>\n",
       "      <td>-1</td>\n",
       "      <td>1</td>\n",
       "    </tr>\n",
       "    <tr>\n",
       "      <th>4459</th>\n",
       "      <td>9205003873</td>\n",
       "      <td>2000036956</td>\n",
       "      <td>depot</td>\n",
       "      <td>3</td>\n",
       "      <td>ИРКУТСК-СОРТИРОВОЧНЫЙ</td>\n",
       "      <td>Jul 27, 14:09</td>\n",
       "      <td>-1</td>\n",
       "      <td>1</td>\n",
       "    </tr>\n",
       "    <tr>\n",
       "      <th>4534</th>\n",
       "      <td>9205002505</td>\n",
       "      <td>2000036956</td>\n",
       "      <td>depot</td>\n",
       "      <td>3</td>\n",
       "      <td>ИРКУТСК-СОРТИРОВОЧНЫЙ</td>\n",
       "      <td>Jul 22, 03:42</td>\n",
       "      <td>-1</td>\n",
       "      <td>1</td>\n",
       "    </tr>\n",
       "    <tr>\n",
       "      <th>1586</th>\n",
       "      <td>9205007670</td>\n",
       "      <td>2000036956</td>\n",
       "      <td>return</td>\n",
       "      <td>7</td>\n",
       "      <td>БАЙКАЛЬСК</td>\n",
       "      <td>Jul 27, 16:46</td>\n",
       "      <td>-1</td>\n",
       "      <td>1</td>\n",
       "    </tr>\n",
       "  </tbody>\n",
       "</table>\n",
       "</div>"
      ],
      "text/plain": [
       "          number       depot ready_type state  \\\n",
       "1169  9205007885  2000036956      depot     1   \n",
       "3585  9205007540  2000036956      depot     2   \n",
       "1438  9205004564  2000036956      depot     3   \n",
       "1673  9205031292  2000036956      depot     3   \n",
       "1722  9205007272  2000036956      depot     3   \n",
       "2181  9205031361  2000036956      depot     3   \n",
       "2638  9205008860  2000036956      depot     3   \n",
       "2773  9205002635  2000036956      depot     3   \n",
       "3303  9205006890  2000036956      depot     3   \n",
       "3682  9205008378  2000036956      depot     3   \n",
       "4459  9205003873  2000036956      depot     3   \n",
       "4534  9205002505  2000036956      depot     3   \n",
       "1586  9205007670  2000036956     return     7   \n",
       "\n",
       "                               loc_name    oper_time_f          loco  ttype  \n",
       "1169  ИРКУТСК-СОРТИРОВОЧНЫЙ - ГОНЧАРОВО  Jul 27, 15:19  200200084084      1  \n",
       "3585              ИРКУТСК-СОРТИРОВОЧНЫЙ  Jul 27, 16:15            -1      1  \n",
       "1438              ИРКУТСК-СОРТИРОВОЧНЫЙ  Jul 27, 07:24            -1      1  \n",
       "1673              ИРКУТСК-СОРТИРОВОЧНЫЙ  Jun 28, 06:08            -1      1  \n",
       "1722              ИРКУТСК-СОРТИРОВОЧНЫЙ  Jul 26, 11:32            -1      1  \n",
       "2181              ИРКУТСК-СОРТИРОВОЧНЫЙ  Jul 08, 12:21            -1      1  \n",
       "2638              ИРКУТСК-СОРТИРОВОЧНЫЙ  Jul 04, 15:16            -1      1  \n",
       "2773              ИРКУТСК-СОРТИРОВОЧНЫЙ  Jul 27, 03:01            -1      1  \n",
       "3303              ИРКУТСК-СОРТИРОВОЧНЫЙ  Jul 27, 07:20            -1      1  \n",
       "3682              ИРКУТСК-СОРТИРОВОЧНЫЙ  Jul 27, 00:00            -1      1  \n",
       "4459              ИРКУТСК-СОРТИРОВОЧНЫЙ  Jul 27, 14:09            -1      1  \n",
       "4534              ИРКУТСК-СОРТИРОВОЧНЫЙ  Jul 22, 03:42            -1      1  \n",
       "1586                          БАЙКАЛЬСК  Jul 27, 16:46            -1      1  "
      ]
     },
     "execution_count": 26,
     "metadata": {},
     "output_type": "execute_result"
    }
   ],
   "source": [
    "print(nice_time(current_time))\n",
    "arr = [9205000078, 9205007670, 9205002505, 9205008457, 9205006890, 9205003873, 9205008378, 9205008860, 9205031292, \n",
    "       9205002635, 9205004359, 9205007885, 9205007272, 9205002097, 9205004564, 9205031361, 9205007941, 9205007540]\n",
    "cols = ['number', 'depot', 'ready_type', 'state', 'loc_name', 'oper_time_f', 'loco', 'ttype']\n",
    "team_info['oper_time_f'] = team_info.oper_time.apply(nice_time)\n",
    "team_info[team_info.number.isin(arr)][cols].sort_values('state')"
   ]
  },
  {
   "cell_type": "code",
   "execution_count": 27,
   "metadata": {
    "collapsed": false,
    "scrolled": true
   },
   "outputs": [],
   "source": [
    "st_name = 'ИРКУТСК-СОРТИРОВОЧНЫЙ'\n",
    "cols = ['team', 'st_from_name', 'st_to_name', 'depot_name', 'time_start_norm', 'state', 'loco', 'is_uth']\n",
    "team_plan['depot_name'] = team_plan.depot.map(st_names.name)\n",
    "team_plan['team_type'] = team_plan.team.apply(lambda x: int(str(x)[0]))\n",
    "team_plan['is_uth'] = team_plan.number.isin(uth['Номер'])\n",
    "a = team_plan[(team_plan.st_from_name == st_name)\n",
    "         & (team_plan.time_start >= current_time) & (team_plan.time_end < current_time + 24 * 3600)\n",
    "         & (team_plan.state.isin([0, 1]))]\n",
    "b = a[(a.depot_name == st_name) & (a.is_uth == False)][cols]"
   ]
  },
  {
   "cell_type": "code",
   "execution_count": 28,
   "metadata": {
    "collapsed": false
   },
   "outputs": [
    {
     "name": "stdout",
     "output_type": "stream",
     "text": [
      "         team      number       depot ready_type state               loc_name    oper_time_f          loco  ttype\n",
      " 200200057803  9205007510  2000036956      depot     3  ИРКУТСК-СОРТИРОВОЧНЫЙ  Jun 09, 15:00            -1      1\n",
      " 200200091118  9205003550  2000036956      depot     5  ИРКУТСК-СОРТИРОВОЧНЫЙ  Jul 27, 16:17  200200093935      1\n",
      " 200200100354  9205007884  2000036956      depot     3  ИРКУТСК-СОРТИРОВОЧНЫЙ  Jul 28, 06:42            -1      1\n",
      " 200200126979  9205004569  2000036956      depot     3  ИРКУТСК-СОРТИРОВОЧНЫЙ  Jul 27, 16:39  200200082964      1\n",
      " 200200130594  9205002903  2000036956      depot     3              СУХОВСКАЯ  Jul 27, 19:00            -1      1\n",
      "      team_id  team_type_asoup_id                     team_type_name            team_time\n",
      " 200200091118                  31  Начало отдыха по месту жительства  2016-07-21 18:55:00\n",
      " 200200100354                  31  Начало отдыха по месту жительства  2016-07-23 00:10:00\n",
      " 200200126979                  31  Начало отдыха по месту жительства  2016-07-21 18:00:00\n",
      " 200200130594                  31  Начало отдыха по месту жительства  2016-07-23 07:00:00\n",
      " 200200132310                  31  Начало отдыха по месту жительства  2016-07-22 01:47:00\n"
     ]
    }
   ],
   "source": [
    "cols = ['team', 'number', 'depot', 'ready_type', 'state', 'loc_name', 'oper_time_f', 'loco', 'ttype']\n",
    "q = team_info[team_info.team.isin(b.team)][cols].sort_values('team')\n",
    "print(q.head().to_string(index=False))\n",
    "filt = pd.read_csv('./input/otsev_detail.csv', sep=';',\n",
    "                  dtype={'team_id':str, 'train_id':str, 'loco_id':str})\n",
    "filt_cols = ['team_id', 'team_type_asoup_id', 'team_type_name', 'team_time']\n",
    "print(filt[(filt.team_id.isin(q.team)) & (filt.team_type_asoup_id == 31)][filt_cols].sort_values('team_id').head().to_string(index=False))\n",
    "#filt.columns"
   ]
  },
  {
   "cell_type": "code",
   "execution_count": 49,
   "metadata": {
    "collapsed": false
   },
   "outputs": [],
   "source": [
    "# Создание входных данных с проставленным признаком uth() в сообщении +team_attributes.\n",
    "\n",
    "# def get_team_attr(x):\n",
    "#     regions = ','.join([('id(%s)' % reg) for reg in x.regions])\n",
    "#     series = ','.join([('id(%s)' % ser) for ser in literal_eval(x.series)])\n",
    "#     s = '+team_attributes(id(%s),attributes([team_work_regions([%s]),depot(station(%s)),loco_series([%s]),long_train(%s),heavy_train(%s),fake(%s),type(%s),uth(%s)]))' \\\n",
    "#          % (x.team, regions, x.depot, series, x.long, x.heavy, x.fake, x.ttype, int(x.uth))\n",
    "#     return s\n",
    "\n",
    "# uth = pd.read_excel('./resources/others/' + uth_filename)\n",
    "# team_info['uth'] = team_info.number.isin(uth['Табельный номер'])\n",
    "# team_info['depot_name'] = team_info.depot.map(st_names.name)\n",
    "# team_info.apply(lambda row: get_team_attr(row), axis=1).to_csv('team_attr_uth.txt', index=False, sep=';')"
   ]
  }
 ],
 "metadata": {
  "kernelspec": {
   "display_name": "Python 3",
   "language": "python",
   "name": "python3"
  },
  "language_info": {
   "codemirror_mode": {
    "name": "ipython",
    "version": 3
   },
   "file_extension": ".py",
   "mimetype": "text/x-python",
   "name": "python",
   "nbconvert_exporter": "python",
   "pygments_lexer": "ipython3",
   "version": "3.5.1"
  }
 },
 "nbformat": 4,
 "nbformat_minor": 0
}
