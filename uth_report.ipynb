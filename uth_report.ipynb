{
 "cells": [
  {
   "cell_type": "markdown",
   "metadata": {},
   "source": [
    "# Построение отчета по использованию в планировании УТХ-бригад\n",
    "\n",
    "## Входные данные для отчета\n",
    "\n",
    "Отчет строится на следующих данных:\n",
    "\n",
    "1. Лог планировщика (`jason-FullPlannerPlugin.log`). Перед построением отчета из лога планировщика скриптом `read.py` должны быть созданы соответствующие csv-файлы.\n",
    "2. Список УТХ-бригад. Он должен располагаться в подпапке `./resources/others/`, файл должен иметь название типа `Бригады_УТХ*.xls`. Если файлов с таким названием несколько, то скрипт выберет последний по дате изменения. Этот файл - это обычная выгрузка списка УТХ-бригад из АРМа Технолога (путь для выгрузки из АРМа Технолога: _(левая панель) Перевозочный процесс - Бригадная модель - Бригады УТХ - (выбрать нужные сутки) - кнопка \"Запуск\" - кнопка \"Выгрузить в Excel\"_).\n",
    "3. (Опционально) Отчет по отсевам по УТХ-бригадам. Это файл `otsev_uth_detail.csv`, он тоже должен располагаться в подпапке `./resources/others/`. Этот файл создается модулем отсевов (*(с) Варанкин*), на тестовых комплексах он располагается по пути `\\server\\bin\\log\\planner_filters\\%папка с нужным запуском%\\.`.\n",
    "\n",
    "## Варианты запуска скрипта\n",
    "\n",
    "Скрипт можно запустить командой `python uth_report.py` из командной строки. По умолчанию будет построен отчет по станции Иркутск-Сортировочный, в отчет не будут добавлены последние операции с бригадами (на основании которых формировались входные данные для планировщика), сам отчет будет лежать в папке `report` в виде html-файла с названием `uth_report_%Date%_%Time%.html`, вместо %Date% и %Time% будут подставлены, соответственно, дата и время создания отчета.\n",
    "\n",
    "Запуск можно модифицировать следующим образом:\n",
    "\n",
    "1. Запустить с ключом **`ops`: `python uth_report.py ops`**. В этом случае в отчет будут добавлены последние операции с бригадами из файла `./resources/others/otsev_uth_detail.csv` (см. п.3 в предыдущем разделе).\n",
    "2. Запустить с ключом **`noprint`: `python uth_report.py noprint`**. Это косметическая штука: в этом случае в консоль не будут выводиться некоторые отладочные сообщения. Но поскольку таких сообщений не очень много, то использование этого ключа не критично.\n",
    "3. Запустить с ключом **`zip`: `python uth_report.py zip`**. В этом случае после завершения построения отчета будет создан zip-файл.  Имя этого файла будет совпадать с названием файла с отчетом, а помимо собственно html-файла с отчетом в архив будет добавлен файл со стилями `skeleton.css`, который желателен для красивого отображения отчета в браузере.\n",
    "  1. Обычный запуск этого отчета, который я чаще всего делал, выглядел как `python uth_report.py ops noprint zip`. В этом случае применятся все три опции.\n",
    "4. (Экспериментальная функция) Запустить с ключом вида **`\"depot(%TCH%,%ST_NAME%)\"`** (кавычки обязательны!), вместо %TCH% надо указать код ТЧЭ бригады (например, \"ТЧЭ-1 В-СИБ\" или \"ТЧЭ-13 ДВОСТ\" - коды можно посмотреть в файле `Бригады_УТХ*.xls` в столбце \"Депо приписки\"), вместо %ST_NAME% надо указать точное название станции (например, ТАЙШЕТ или ИРКУТСК-СОРТИРОВОЧНЫЙ, можно не капсом). В этом случае отчет будет строиться не для бригад депо ИРКУТСК-СОРТИРОВОЧНЫЙ, а для бригад депо %TCH%, отправляющихся со станции %ST_NAME%. \n",
    "  1. Пример запуска с этим ключом: `python uth_report.py \"depot(ТЧЭ-1 В-СИБ,ТАЙШЕТ)\"`.\n",
    "  2. Можно запускать с несколькими ключами:  `python uth_report.py ops noprint zip \"depot(ТЧЭ-1 В-СИБ,ТАЙШЕТ)\"`\n",
    "  3. Запуск по умолчанию аналогичен запуску командой `python uth_report.py \"depot(ТЧЭ-5 В-СИБ,ИРКУТСК-СОРТИРОВОЧНЫЙ)\"`\n",
    "  \n",
    "Для удобства создан батник (лежит рядом) `uth_report.bat`, он сначала создает csv-файлы из лога планировщика, а затем формирует самый востребованный отчет (по Иркутску, без операций). Соответственно, для получения отчета надо разархивировать `jason-FullPlannerPlugin.log` в папку `input` и запустить батник. Разумеется, его можно модифицировать по своему усмотрению.\n",
    "  \n",
    "## Известные подводные камни\n",
    "\n",
    "1. Кодировка файла `otsev_uth_detail.csv`. Сейчас это кодировка ANSI. При чтении файла нужная кодировка задается параметром `encoding`, сейчас нужная строчка скрипта выглядит так: `df_ops = pd.read_csv('input/' + ops_filename, sep=';', encoding='mbcs', dtype={'team_id':str})`. Надо на всякий случай следить за возможными падениями из-за смены кодировки. Именования кодировок в питоне можно посмотреть [здесь](https://docs.python.org/3/library/codecs.html#standard-encodings).\n",
    "2. Для корректной работы скрипта нужный файл `Бригады_УТХ*.xls` **НЕ ДОЛЖЕН** быть открыт (в экселе). Иначе определение нужного (последнего) файла по маске имени сработает неправильно."
   ]
  },
  {
   "cell_type": "code",
   "execution_count": 186,
   "metadata": {
    "collapsed": true
   },
   "outputs": [],
   "source": [
    "import numpy as np\n",
    "import pandas as pd\n",
    "import time, datetime\n",
    "import zipfile\n",
    "from ast import literal_eval"
   ]
  },
  {
   "cell_type": "code",
   "execution_count": 168,
   "metadata": {
    "collapsed": true
   },
   "outputs": [],
   "source": [
    "report = ''\n",
    "FOLDER = 'resources/'\n",
    "REPORT_FOLDER = 'report/'"
   ]
  },
  {
   "cell_type": "code",
   "execution_count": 169,
   "metadata": {
    "collapsed": false
   },
   "outputs": [],
   "source": [
    "# Парсинг ключей запуска\n",
    "\n",
    "import sys\n",
    "JOIN_OPS, ZIP, PRINT, TCH, ST_NAME = False, False, True, 'ТЧЭ-5 В-СИБ', 'ИРКУТСК-СОРТИРОВОЧНЫЙ'\n",
    "argv = sys.argv\n",
    "if len(sys.argv) > 1:\n",
    "    if 'ops' in sys.argv:\n",
    "        JOIN_OPS = True\n",
    "    if 'zip' in sys.argv:\n",
    "        ZIP = True \n",
    "    if 'noprint' in sys.argv:\n",
    "        PRINT = False\n",
    "    if any(['depot' in arg for arg in sys.argv]):\n",
    "        st = [arg for arg in argv if 'depot' in arg][0]        \n",
    "        dep = st[6:-1]\n",
    "        TCH, ST_NAME = [term.strip().upper() for term in dep.split(',')]"
   ]
  },
  {
   "cell_type": "code",
   "execution_count": 170,
   "metadata": {
    "collapsed": true
   },
   "outputs": [],
   "source": [
    "time_format = '%b %d, %H:%M'\n",
    "def nice_time(x):\n",
    "    return time.strftime(time_format, time.localtime(x))"
   ]
  },
  {
   "cell_type": "markdown",
   "metadata": {},
   "source": [
    "## Функции для создания html-файла\n",
    "\n",
    "Весь отчет записывается в глобальную переменную `report` в html-разметке, для добавления строк используются методы `add_header` и `add_line`."
   ]
  },
  {
   "cell_type": "code",
   "execution_count": 171,
   "metadata": {
    "collapsed": false
   },
   "outputs": [],
   "source": [
    "def add_line(line, p=PRINT):    \n",
    "    global report        \n",
    "    if p:                \n",
    "        if type(line) == pd.core.frame.DataFrame:\n",
    "            print(line.to_string(index=False))\n",
    "        elif type(line) == pd.core.series.Series:\n",
    "            print(line.to_string())\n",
    "        else:\n",
    "            print(line)\n",
    "    if type(line) == pd.core.frame.DataFrame:        \n",
    "        report += ('%s<br>' % line.to_html(index=False))\n",
    "    elif type(line) == pd.core.series.Series:\n",
    "        report += ('%s<br>' % line.to_frame().reset_index().to_html(index=False))\n",
    "    else:\n",
    "        report += ('%s<br>' % line)\n",
    "    \n",
    "def add_header(header, h=4, p=PRINT):\n",
    "    global report\n",
    "    report += ('<h%d>%s</h%d>' % (h, header, h))\n",
    "    if p:\n",
    "        print(header)\n",
    "\n",
    "def add_image(filename):\n",
    "    global report\n",
    "    report += ('<img src=\"%s\" alt=\"%s\" height=\"40%%\">' % (filename, filename))\n",
    "\n",
    "def create_report(filename):\n",
    "    global report\n",
    "    report = report.replace('<table border=\"1\" class=\"dataframe\">','<table class=\"table table-striped\">')\n",
    "    html_string = '''\n",
    "        <html>\n",
    "            <head>\n",
    "                <link rel=\"stylesheet\" href=\"skeleton.css\">\n",
    "                <style>body{ margin:20 20; background:whitesmoke; }\n",
    "                table {table-layout : fixed}\n",
    "                </style>\n",
    "            </head>\n",
    "            <body>                \n",
    "                %s\n",
    "            </body>\n",
    "        </html>''' % (report)\n",
    "    f = open(filename,'w', encoding='utf-8-sig')\n",
    "    f.write(html_string)\n",
    "    f.close()\n",
    "    print('Отчет сформирован: %s' % filename)\n",
    "    \n",
    "def create_zip(filename):\n",
    "    zip_filename = filename[:-5] + '.zip'\n",
    "    zf = zipfile.ZipFile(zip_filename, mode='w')\n",
    "    try:\n",
    "        #print 'Отчет заархивирован в файл'\n",
    "        zf.write(filename)\n",
    "        zf.write('report\\skeleton.css')\n",
    "    finally:\n",
    "        print('Отчет заархивирован в файл %s' % zip_filename)\n",
    "        zf.close()    "
   ]
  },
  {
   "cell_type": "markdown",
   "metadata": {},
   "source": [
    "## Загрузка результатов планирования из csv-файлов"
   ]
  },
  {
   "cell_type": "code",
   "execution_count": 172,
   "metadata": {
    "collapsed": false
   },
   "outputs": [],
   "source": [
    "pd.set_option('max_rows', 50)\n",
    "\n",
    "start_time = time.time()\n",
    "current_time = pd.read_csv(FOLDER + 'current_time.csv').current_time[0]\n",
    "twr          = pd.read_csv(FOLDER + 'team_work_region.csv', converters={'twr':str})\n",
    "links        = pd.read_csv(FOLDER + 'link.csv')\n",
    "stations     = pd.read_csv(FOLDER + 'station.csv', converters={'station':str})\n",
    "train_info   = pd.read_csv(FOLDER + 'train_info.csv', converters={'train': str, 'st_from':str, 'st_to':str})\n",
    "train_plan   = pd.read_csv(FOLDER + 'slot_train.csv', converters={'train': str, 'st_from':str, 'st_to':str})\n",
    "loco_info    = pd.read_csv(FOLDER + 'loco_attributes.csv', converters={'train':str, 'loco':str})\n",
    "loco_plan    = pd.read_csv(FOLDER + 'slot_loco.csv', converters={'train':str, 'loco':str, 'st_from':str, 'st_to':str})\n",
    "team_info    = pd.read_csv(FOLDER + 'team_attributes.csv', converters={'team':str,'depot':str, 'oper_location':str, \\\n",
    "                                                                 'st_from':str, 'st_to':str, 'loco':str, 'depot_st':str})\n",
    "team_plan    = pd.read_csv(FOLDER + 'slot_team.csv', converters={'team':str,'loco':str, 'st_from':str, 'st_to':str})\n",
    "loco_series  = pd.read_csv(FOLDER + 'loco_series.csv')\n",
    "\n",
    "team_info.regions = team_info.regions.apply(literal_eval)\n",
    "st_names = stations[['station', 'name', 'esr']].drop_duplicates().set_index('station')"
   ]
  },
  {
   "cell_type": "code",
   "execution_count": 173,
   "metadata": {
    "collapsed": true
   },
   "outputs": [],
   "source": [
    "# Мержим таблицы _plan и _info для поездов, локомотивов и бригад\n",
    "# Добавляем во все таблицы названия станций на маршруте и времена отправления/прибытия в читабельном формате\n",
    "\n",
    "def add_info(df):    \n",
    "    if 'st_from' in df.columns:\n",
    "        df['st_from_name'] = df.st_from.map(st_names.name)\n",
    "    if 'st_to' in df.columns:\n",
    "        df['st_to_name'] = df.st_to.map(st_names.name)\n",
    "    if 'time_start' in df.columns:\n",
    "        df['time_start_norm'] = df.time_start.apply(lambda x: time.strftime(time_format, time.localtime(x)))\n",
    "    if 'time_end' in df.columns:\n",
    "        df['time_end_norm'] = df.time_end.apply(lambda x: time.strftime(time_format, time.localtime(x)))\n",
    "    if 'oper_location' in df.columns:\n",
    "        df['oper_location_name'] = df.oper_location.map(st_names.name)    \n",
    "        df.oper_location_name.fillna(0, inplace=True)\n",
    "    if ('oper_location' in df.columns) & ('st_from' in df.columns) & ('st_to' in df.columns):        \n",
    "        df['loc_name'] = df.oper_location_name\n",
    "        df.loc[df.loc_name == 0, 'loc_name'] = df.st_from_name + ' - ' + df.st_to_name\n",
    "    \n",
    "add_info(train_plan)\n",
    "add_info(loco_plan)\n",
    "add_info(team_plan)\n",
    "add_info(loco_info)\n",
    "add_info(team_info)\n",
    "train_plan = train_plan.merge(train_info, on='train', suffixes=('', '_info'), how='left')\n",
    "loco_plan = loco_plan.merge(loco_info, on='loco', suffixes=('', '_info'), how='left')\n",
    "team_plan = team_plan.merge(team_info, on='team', suffixes=('', '_info'), how='left')\n",
    "team_plan['team_type'] = team_plan.team.apply(lambda x: 'Реальная' if str(x)[0] == '2' else 'Фейковая')\n",
    "loco_plan['train_time'] = list(zip(loco_plan.train, loco_plan.time_start))\n",
    "train_plan['train_time'] = list(zip(train_plan.train, train_plan.time_start))\n",
    "train_plan['loco'] = train_plan.train_time.map(loco_plan.drop_duplicates('train_time').set_index('train_time').loco)\n",
    "loco_plan['loco_time'] = list(zip(loco_plan.loco, loco_plan.time_start))\n",
    "team_plan['loco_time'] = list(zip(team_plan.loco, team_plan.time_start))\n",
    "loco_plan['team'] = loco_plan.loco_time.map(team_plan.drop_duplicates('loco_time').set_index('loco_time').team)"
   ]
  },
  {
   "cell_type": "code",
   "execution_count": 174,
   "metadata": {
    "collapsed": false
   },
   "outputs": [
    {
     "name": "stdout",
     "output_type": "stream",
     "text": [
      "--------\n",
      "Возможные ключи: \n",
      "ops - добавляет в отчет последние операции с бригадами из последнего файла \"Операции*.txt\"\n",
      "noprint - отключает вывод отладочных принтов\n",
      "zip - архивирует отчет\n",
      "--------\n"
     ]
    }
   ],
   "source": [
    "print('''--------\n",
    "Возможные ключи: \n",
    "ops - добавляет в отчет последние операции с бригадами из последнего файла \"Операции*.txt\"\n",
    "noprint - отключает вывод отладочных принтов\n",
    "zip - архивирует отчет\n",
    "--------''')"
   ]
  },
  {
   "cell_type": "markdown",
   "metadata": {},
   "source": [
    "## Чтение списка УТХ-бригад"
   ]
  },
  {
   "cell_type": "markdown",
   "metadata": {},
   "source": [
    "### Поиск нужного файла"
   ]
  },
  {
   "cell_type": "code",
   "execution_count": 175,
   "metadata": {
    "collapsed": false
   },
   "outputs": [
    {
     "name": "stdout",
     "output_type": "stream",
     "text": [
      "Данные об УТХ-бригадах взяты из файла Бригады_УТХ_12_59_07.xls (дата изменения Aug 17, 19:57)\n"
     ]
    }
   ],
   "source": [
    "import os\n",
    "files = [files for root, directories, files in os.walk('./resources/others')][0]\n",
    "times = {}\n",
    "\n",
    "# Тут сделано немного через жопу: сначала происходит os.chdir на нужную папку, а затем два раза возвращаемся обратно через\n",
    "# os.chdir('..'). Наверняка это можно сделать более правильно.\n",
    "\n",
    "os.chdir('./resources/others')\n",
    "try:\n",
    "    for f in files:\n",
    "        if 'Бригады_УТХ' in f:\n",
    "            times[f] = int(os.path.getmtime(f))    \n",
    "\n",
    "    if times != {}:\n",
    "        uth_filename = max(times, key=lambda k: times[k])\n",
    "        date_modified = times[uth_filename]\n",
    "    else:\n",
    "        uth_filename = 'Бригады_УТХ' + '.xls'\n",
    "        date_modified = 0\n",
    "    print('Данные об УТХ-бригадах взяты из файла %s (дата изменения %s)' % (uth_filename, nice_time(date_modified)))\n",
    "    os.chdir('..')\n",
    "    os.chdir('..')\n",
    "except:\n",
    "    os.chdir('..')\n",
    "    os.chdir('..')"
   ]
  },
  {
   "cell_type": "markdown",
   "metadata": {},
   "source": [
    "### Загрузка бригад из файла в датафрейм"
   ]
  },
  {
   "cell_type": "code",
   "execution_count": 176,
   "metadata": {
    "collapsed": false
   },
   "outputs": [
    {
     "data": {
      "text/html": [
       "<div>\n",
       "<table border=\"1\" class=\"dataframe\">\n",
       "  <thead>\n",
       "    <tr style=\"text-align: right;\">\n",
       "      <th></th>\n",
       "      <th>Номер</th>\n",
       "      <th>Машинист</th>\n",
       "      <th>Депо</th>\n",
       "      <th>Вид движения</th>\n",
       "      <th>Факт.явка</th>\n",
       "      <th>План.явка</th>\n",
       "      <th>irk</th>\n",
       "      <th>uth_presence</th>\n",
       "    </tr>\n",
       "  </thead>\n",
       "  <tbody>\n",
       "    <tr>\n",
       "      <th>409</th>\n",
       "      <td>9205006900</td>\n",
       "      <td>КУЗЕМА</td>\n",
       "      <td>ТЧЭ-5 В-СИБ</td>\n",
       "      <td>ПАСС Б/ПРИГ; ГРУЗ Б/СБОР; ГРУЗ ВЫВОЗ; ХОЗ ОСТ</td>\n",
       "      <td>NaN</td>\n",
       "      <td>03:00 28.07.16</td>\n",
       "      <td>True</td>\n",
       "      <td>1469664000</td>\n",
       "    </tr>\n",
       "    <tr>\n",
       "      <th>410</th>\n",
       "      <td>9205001355</td>\n",
       "      <td>ГРАЧЕВ</td>\n",
       "      <td>ТЧЭ-5 В-СИБ</td>\n",
       "      <td>ПАСС Б/ПРИГ; ГРУЗ Б/СБОР; ГРУЗ ВЫВОЗ; ХОЗ ОСТ</td>\n",
       "      <td>NaN</td>\n",
       "      <td>03:00 28.07.16</td>\n",
       "      <td>True</td>\n",
       "      <td>1469664000</td>\n",
       "    </tr>\n",
       "    <tr>\n",
       "      <th>411</th>\n",
       "      <td>9205006741</td>\n",
       "      <td>ЦЫБУЛЬСКИЙ</td>\n",
       "      <td>ТЧЭ-5 В-СИБ</td>\n",
       "      <td>ГРУЗ Б/СБОР; ГРУЗ ПЕРЕДАТ; ГРУЗ СБОР; ГРУЗ ВЫВ...</td>\n",
       "      <td>NaN</td>\n",
       "      <td>03:00 28.07.16</td>\n",
       "      <td>True</td>\n",
       "      <td>1469664000</td>\n",
       "    </tr>\n",
       "    <tr>\n",
       "      <th>412</th>\n",
       "      <td>9205004902</td>\n",
       "      <td>МАЛЫГИН</td>\n",
       "      <td>ТЧЭ-5 В-СИБ</td>\n",
       "      <td>ГРУЗ Б/СБОР; ГРУЗ ПЕРЕДАТ; ГРУЗ СБОР; ГРУЗ ВЫВ...</td>\n",
       "      <td>NaN</td>\n",
       "      <td>07:15 28.07.16</td>\n",
       "      <td>True</td>\n",
       "      <td>1469679300</td>\n",
       "    </tr>\n",
       "    <tr>\n",
       "      <th>413</th>\n",
       "      <td>9205000232</td>\n",
       "      <td>ПАЩЕНКО</td>\n",
       "      <td>ТЧЭ-5 В-СИБ</td>\n",
       "      <td>ГРУЗ Б/СБОР; ГРУЗ ПЕРЕДАТ; ГРУЗ СБОР; ГРУЗ ВЫВ...</td>\n",
       "      <td>NaN</td>\n",
       "      <td>01:10 28.07.16</td>\n",
       "      <td>True</td>\n",
       "      <td>1469657400</td>\n",
       "    </tr>\n",
       "  </tbody>\n",
       "</table>\n",
       "</div>"
      ],
      "text/plain": [
       "          Номер    Машинист         Депо  \\\n",
       "409  9205006900      КУЗЕМА  ТЧЭ-5 В-СИБ   \n",
       "410  9205001355      ГРАЧЕВ  ТЧЭ-5 В-СИБ   \n",
       "411  9205006741  ЦЫБУЛЬСКИЙ  ТЧЭ-5 В-СИБ   \n",
       "412  9205004902     МАЛЫГИН  ТЧЭ-5 В-СИБ   \n",
       "413  9205000232     ПАЩЕНКО  ТЧЭ-5 В-СИБ   \n",
       "\n",
       "                                          Вид движения  Факт.явка  \\\n",
       "409      ПАСС Б/ПРИГ; ГРУЗ Б/СБОР; ГРУЗ ВЫВОЗ; ХОЗ ОСТ        NaN   \n",
       "410      ПАСС Б/ПРИГ; ГРУЗ Б/СБОР; ГРУЗ ВЫВОЗ; ХОЗ ОСТ        NaN   \n",
       "411  ГРУЗ Б/СБОР; ГРУЗ ПЕРЕДАТ; ГРУЗ СБОР; ГРУЗ ВЫВ...        NaN   \n",
       "412  ГРУЗ Б/СБОР; ГРУЗ ПЕРЕДАТ; ГРУЗ СБОР; ГРУЗ ВЫВ...        NaN   \n",
       "413  ГРУЗ Б/СБОР; ГРУЗ ПЕРЕДАТ; ГРУЗ СБОР; ГРУЗ ВЫВ...        NaN   \n",
       "\n",
       "          План.явка   irk  uth_presence  \n",
       "409  03:00 28.07.16  True    1469664000  \n",
       "410  03:00 28.07.16  True    1469664000  \n",
       "411  03:00 28.07.16  True    1469664000  \n",
       "412  07:15 28.07.16  True    1469679300  \n",
       "413  01:10 28.07.16  True    1469657400  "
      ]
     },
     "execution_count": 176,
     "metadata": {},
     "output_type": "execute_result"
    }
   ],
   "source": [
    "import xlrd\n",
    "uth = pd.read_excel('./resources/others/' + uth_filename)\n",
    "uth.columns = ['Номер', 'Машинист', 'Депо', 'Вид движения', 'Факт.явка', 'План.явка']\n",
    "uth['Вид движения'] = uth['Вид движения'].apply(lambda x: str(x).replace('\\n\\t\\t\\t', ';'))\n",
    "uth['irk'] = uth['Депо'].apply(lambda x: TCH in x)\n",
    "uth = uth[uth.irk]\n",
    "if (uth['План.явка'].dtype == float):\n",
    "    uth['План.явка'] = uth['План.явка'].apply(lambda x: datetime.datetime(*xlrd.xldate.xldate_as_tuple(x, 0)))\n",
    "    print('Формат времени в столбце \"Плановая явка\" заменен c формата Excel на python datetime')\n",
    "\n",
    "try:\n",
    "    uth['uth_presence'] = uth['План.явка'].apply(lambda x: time.mktime(x.timetuple()))\n",
    "except:\n",
    "    try:\n",
    "        uth['uth_presence'] = uth['План.явка'].apply(lambda x: time.mktime(time.strptime(x, \"%Y-%m-%d %H:%M:%S %z\")))\n",
    "    except:\n",
    "        uth['uth_presence'] = uth['План.явка'].apply(lambda x: time.mktime(time.strptime(x, \"%H:%M %d.%m.%y\")))\n",
    "uth.head()"
   ]
  },
  {
   "cell_type": "markdown",
   "metadata": {},
   "source": [
    "## Чтение и обработка результатов планирования, выделение УТХ-бригад"
   ]
  },
  {
   "cell_type": "code",
   "execution_count": 177,
   "metadata": {
    "collapsed": false
   },
   "outputs": [],
   "source": [
    "info_cols = ['number', 'name', 'loc_name', 'state', 'depot_time_norm', 'is_planned']\n",
    "team_info['name'] = team_info.number.map(uth.set_index('Номер')['Машинист'])\n",
    "team_info['uth_presence'] = team_info.number.map(uth.set_index('Номер').uth_presence)\n",
    "team_info['depot_time_norm'] = team_info.depot_time.apply(lambda x: nice_time(x) if x !=-1 else x)\n",
    "planned = team_plan[team_plan.state.isin([0, 1])].drop_duplicates('team')\n",
    "team_info['is_planned'] = team_info.team.isin(planned.team)"
   ]
  },
  {
   "cell_type": "code",
   "execution_count": 178,
   "metadata": {
    "collapsed": false
   },
   "outputs": [],
   "source": [
    "df_input_show = team_info[team_info.number.isin(uth['Номер'])][info_cols]\n",
    "df_input_show.is_planned.replace(False, 'Нет', inplace=True)\n",
    "df_input_show.is_planned.replace(True, 'Да', inplace=True)\n",
    "df_input_show.columns=['Номер', 'Машинист', 'Исх.местоположение', 'Исх.состояние', 'Время явки', 'В плане?']\n",
    "cols = ['Номер', 'Машинист', 'Депо', 'Вид движения', 'План.явка', 'uth_presence']\n",
    "df_show = uth[cols].set_index(['Номер', 'Машинист']).join(df_input_show.set_index(['Номер', 'Машинист'])).fillna('-').reset_index()"
   ]
  },
  {
   "cell_type": "code",
   "execution_count": 179,
   "metadata": {
    "collapsed": false
   },
   "outputs": [],
   "source": [
    "team_cols = ['number', 'name', 'st_from_name', 'st_to_name', 'time_start', 'time_start_norm', \n",
    "             'state', 'loco_number', 'train_number', 'all_states']\n",
    "team_plan['name'] = team_plan.number.map(uth.set_index('Номер')['Машинист'])\n",
    "team_plan['loco_number'] = team_plan.loco.map(loco_info.set_index('loco').number)\n",
    "team_plan['loco_time'] = list(zip(team_plan.loco, team_plan.time_start))\n",
    "loco_plan['loco_time'] = list(zip(loco_plan.loco, loco_plan.time_start))\n",
    "loco_plan['train_number'] = loco_plan.train.map(train_info.drop_duplicates('train').set_index('train').number)\n",
    "loco_plan.loc[loco_plan.train_number.isnull(), 'train_number'] = loco_plan.train.apply(lambda x: str(x)[-4:])\n",
    "team_plan['train_number'] = team_plan.loco_time.map(loco_plan.drop_duplicates('loco_time').set_index('loco_time').train_number)\n",
    "team_plan['all_states'] = team_plan.team.map(team_plan.groupby('team').state.unique())\n",
    "uth_plan = team_plan[team_plan.number.isin(uth['Номер'])]\n",
    "df_output_show = uth_plan[uth_plan.state.isin([0, 1])].drop_duplicates('team').sort_values('time_start')[team_cols]\n",
    "df_output_show.loco_number.fillna(-1, inplace=True)\n",
    "df_output_show.columns = ['Номер', 'Машинист', 'Ст.отпр.', 'Ст.направл.', 'plan_time_start', 'Время отпр.', \n",
    "                          'Состояние', 'Номер ЛОК', 'Номер П', 'Все состояния']"
   ]
  },
  {
   "cell_type": "code",
   "execution_count": 180,
   "metadata": {
    "collapsed": false
   },
   "outputs": [
    {
     "name": "stdout",
     "output_type": "stream",
     "text": [
      "Время сбора данных и запуска планировщика: Aug 16, 19:31\n",
      "Всего 33 бригад депо ИРКУТСК-СОРТИРОВОЧНЫЙ загружено в ОУЭР из УТХ\n",
      "Из них:\n",
      "- передано в планировщик: 24\n",
      "- не передано в планировщик: 9\n",
      "- запланировано: 22\n"
     ]
    }
   ],
   "source": [
    "add_line('Время сбора данных и запуска планировщика: %s' % time.strftime(time_format, time.localtime(current_time)))\n",
    "add_header('Всего %d бригад депо %s загружено в ОУЭР из УТХ' % (uth['Номер'].count(), ST_NAME))\n",
    "add_line('Из них:')\n",
    "add_line('- передано в планировщик: %d' % team_info[team_info.number.isin(uth['Номер'])].team.count())\n",
    "add_line('- не передано в планировщик: %d' % uth[uth['Номер'].isin(team_info.number) == False]['Номер'].count())\n",
    "add_line('- запланировано: %d' % df_output_show['Номер'].count())\n",
    "df_show_uth_plan = df_show.set_index(['Номер', 'Машинист']).join(df_output_show.set_index(['Номер', 'Машинист'])).fillna('-')"
   ]
  },
  {
   "cell_type": "markdown",
   "metadata": {},
   "source": [
    "## Чтение данных о последних операциях"
   ]
  },
  {
   "cell_type": "code",
   "execution_count": 191,
   "metadata": {
    "collapsed": false
   },
   "outputs": [],
   "source": [
    "files = [files for root, directories, files in os.walk('./resources/others')][0]\n",
    "ops_filename = 'otsev_uth_detail.csv'\n",
    "if ops_filename in files:\n",
    "    df_ops = pd.read_csv('input/' + ops_filename, sep=';', encoding='mbcs', dtype={'team_id':str})    \n",
    "    if 'Номер' not in df_show_uth_plan.columns:\n",
    "        df_show_uth_plan = df_show_uth_plan.reset_index()    \n",
    "    df_show_uth_plan['team'] = df_show_uth_plan['Номер'].map(team_info.drop_duplicates('number').set_index('number').team)\n",
    "    df_show_uth_plan['oper_id'] = df_show_uth_plan.team.map(df_ops.drop_duplicates('team_id')\n",
    "                                                            .set_index('team_id').team_type_asoup_id)\n",
    "    df_show_uth_plan['oper_name'] = df_show_uth_plan.team.map(df_ops.drop_duplicates('team_id')\n",
    "                                                              .set_index('team_id').team_type_name)\n",
    "    df_show_uth_plan['Посл.операция'] = df_show_uth_plan.apply(lambda row: '(%s) %s' \n",
    "                                                               % (row.oper_id, row.oper_name), axis=1)\n",
    "    df_show_uth_plan['Время посл.оп.'] = df_show_uth_plan.team.map(df_ops.drop_duplicates('team_id')\n",
    "                                                                   .set_index('team_id').team_time)    \n",
    "    df_show_uth_plan['Место посл.оп.'] = df_show_uth_plan.team.map(df_ops.drop_duplicates('team_id')\n",
    "                                                                   .set_index('team_id').team_location_name)    "
   ]
  },
  {
   "cell_type": "markdown",
   "metadata": {},
   "source": [
    "## Формирование результирующей таблицы"
   ]
  },
  {
   "cell_type": "code",
   "execution_count": 182,
   "metadata": {
    "collapsed": false
   },
   "outputs": [],
   "source": [
    "if JOIN_OPS:    \n",
    "    show_cols = ['Номер', 'Машинист', 'Депо', 'Вид движения',  \n",
    "             'Посл.операция', 'Время посл.оп.', 'Место посл.оп.',\n",
    "             'План.явка', 'Исх.местоположение', 'Исх.состояние', 'Время явки', 'В плане?', 'Ст.отпр.', 'Ст.направл.', \n",
    "             'Время отпр.', 'Состояние', 'Номер ЛОК', 'Номер П', 'Все состояния']\n",
    "else:\n",
    "    show_cols = ['Номер', 'Машинист', 'Депо', 'Вид движения',              \n",
    "             'План.явка', 'Исх.местоположение', 'Исх.состояние', 'Время явки', 'В плане?', 'Ст.отпр.', 'Ст.направл.', \n",
    "             'Время отпр.', 'Состояние', 'Номер ЛОК', 'Номер П', 'Все состояния']\n",
    "\n",
    "res_to_index_start_with_0 = df_show_uth_plan.sort_values(['uth_presence']).reset_index()[show_cols].reset_index()\n",
    "\n",
    "# Два reset_index() в предыдущей строке и следующая строчка нужны только для того, чтобы в таблице появилась нумерация строк с 1\n",
    "res_to_index_start_with_0['index'] = res_to_index_start_with_0['index'] + 1\n",
    "\n",
    "add_line(res_to_index_start_with_0, p=False)"
   ]
  },
  {
   "cell_type": "code",
   "execution_count": 183,
   "metadata": {
    "collapsed": false
   },
   "outputs": [
    {
     "name": "stdout",
     "output_type": "stream",
     "text": [
      "Не переданные бригады:\n",
      "[9205031362, 9205007873, 9205008378, 9205031355, 9205031292, 9205001355, 9205003873, 9205030823, 9205004609]\n",
      "Не запланированные бригады:\n",
      "[9205002505, 9205002994]\n"
     ]
    }
   ],
   "source": [
    "not_input = res_to_index_start_with_0[res_to_index_start_with_0['В плане?'] == '-']\n",
    "not_planned = res_to_index_start_with_0[res_to_index_start_with_0['В плане?'] == 'Нет']\n",
    "add_header('Не переданные бригады:')\n",
    "add_line(list(not_input['Номер'].unique()))\n",
    "add_header('Не запланированные бригады:')\n",
    "add_line(list(not_planned['Номер'].unique()))"
   ]
  },
  {
   "cell_type": "code",
   "execution_count": 184,
   "metadata": {
    "collapsed": true
   },
   "outputs": [],
   "source": [
    "def add_state_legend():\n",
    "    add_line('Состояния бригад:')\n",
    "    add_line('0 - следует пассажиром')\n",
    "    add_line('1 - ведет локомотив')\n",
    "    add_line('2 - явка в депо приписки')\n",
    "    add_line('3 - находится на домашнем отдыхе')\n",
    "    add_line('4 - отдыхает в пункте оборота')\n",
    "    add_line('5 - прикреплена к локомотиву на станции')\n",
    "    add_line('6 - прибыла на станцию с локомотивом')\n",
    "    add_line('7 - прибыла на станцию пассажиром')\n",
    "    add_line('8 - явка в пункте оборота')\n",
    "    add_line('9 - сдача локомотива')"
   ]
  },
  {
   "cell_type": "code",
   "execution_count": 185,
   "metadata": {
    "collapsed": false
   },
   "outputs": [
    {
     "name": "stdout",
     "output_type": "stream",
     "text": [
      "Состояния бригад:\n",
      "0 - следует пассажиром\n",
      "1 - ведет локомотив\n",
      "2 - явка в депо приписки\n",
      "3 - находится на домашнем отдыхе\n",
      "4 - отдыхает в пункте оборота\n",
      "5 - прикреплена к локомотиву на станции\n",
      "6 - прибыла на станцию с локомотивом\n",
      "7 - прибыла на станцию пассажиром\n",
      "8 - явка в пункте оборота\n",
      "9 - сдача локомотива\n",
      "Отчет сформирован: report/uth_report_20160817_201017.html\n"
     ]
    }
   ],
   "source": [
    "add_state_legend()\n",
    "filename = REPORT_FOLDER + 'uth_report_' + time.strftime('%Y%m%d_%H%M%S', time.localtime(time.time())) + '.html'\n",
    "create_report(filename)\n",
    "if ZIP:\n",
    "    create_zip(filename)"
   ]
  }
 ],
 "metadata": {
  "kernelspec": {
   "display_name": "Python 3",
   "language": "python",
   "name": "python3"
  },
  "language_info": {
   "codemirror_mode": {
    "name": "ipython",
    "version": 3
   },
   "file_extension": ".py",
   "mimetype": "text/x-python",
   "name": "python",
   "nbconvert_exporter": "python",
   "pygments_lexer": "ipython3",
   "version": "3.5.1"
  }
 },
 "nbformat": 4,
 "nbformat_minor": 0
}
