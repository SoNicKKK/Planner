{
 "cells": [
  {
   "cell_type": "code",
   "execution_count": 80,
   "metadata": {
    "collapsed": true
   },
   "outputs": [],
   "source": [
    "import numpy as np\n",
    "import pandas as pd\n",
    "import time, datetime\n",
    "from ast import literal_eval\n",
    "import matplotlib.pyplot as plt\n",
    "import seaborn as sns\n",
    "import zipfile"
   ]
  },
  {
   "cell_type": "code",
   "execution_count": 81,
   "metadata": {
    "collapsed": true
   },
   "outputs": [],
   "source": [
    "report = ''\n",
    "FOLDER = 'resources/'\n",
    "REPORT_FOLDER = 'report/'"
   ]
  },
  {
   "cell_type": "code",
   "execution_count": 82,
   "metadata": {
    "collapsed": true
   },
   "outputs": [],
   "source": [
    "import sys\n",
    "JOIN_OPS, ZIP, PRINT = False, False, True\n",
    "if len(sys.argv) > 1:\n",
    "    if 'ops' in sys.argv:\n",
    "        JOIN_OPS = True\n",
    "    if 'zip' in sys.argv:\n",
    "        ZIP = True \n",
    "    if 'noprint' in sys.argv:\n",
    "        PRINT = False"
   ]
  },
  {
   "cell_type": "code",
   "execution_count": 83,
   "metadata": {
    "collapsed": true
   },
   "outputs": [],
   "source": [
    "time_format = '%b %d, %H:%M'\n",
    "def nice_time(x):\n",
    "    return time.strftime(time_format, time.localtime(x))"
   ]
  },
  {
   "cell_type": "code",
   "execution_count": 84,
   "metadata": {
    "collapsed": false
   },
   "outputs": [],
   "source": [
    "def add_line(line, p=PRINT):    \n",
    "    global report        \n",
    "    if p:                \n",
    "        if type(line) == pd.core.frame.DataFrame:\n",
    "            print(line.to_string(index=False))\n",
    "        elif type(line) == pd.core.series.Series:\n",
    "            print(line.to_string())\n",
    "        else:\n",
    "            print(line)\n",
    "    if type(line) == pd.core.frame.DataFrame:        \n",
    "        report += ('%s<br>' % line.to_html(index=False))\n",
    "    elif type(line) == pd.core.series.Series:\n",
    "        report += ('%s<br>' % line.to_frame().reset_index().to_html(index=False))\n",
    "    else:\n",
    "        report += ('%s<br>' % line)\n",
    "    \n",
    "def add_header(header, h=4, p=PRINT):\n",
    "    global report\n",
    "    report += ('<h%d>%s</h%d>' % (h, header, h))\n",
    "    if p:\n",
    "        print(header)\n",
    "\n",
    "def add_image(filename):\n",
    "    global report\n",
    "    report += ('<img src=\"%s\" alt=\"%s\" height=\"40%%\">' % (filename, filename))\n",
    "\n",
    "def create_report(filename):\n",
    "    global report\n",
    "    report = report.replace('<table border=\"1\" class=\"dataframe\">','<table class=\"table table-striped\">')\n",
    "    html_string = '''\n",
    "        <html>\n",
    "            <head>\n",
    "                <link rel=\"stylesheet\" href=\"skeleton.css\">\n",
    "                <style>body{ margin:20 20; background:whitesmoke; }\n",
    "                table {table-layout : fixed}\n",
    "                </style>\n",
    "            </head>\n",
    "            <body>                \n",
    "                %s\n",
    "            </body>\n",
    "        </html>''' % (report)\n",
    "    f = open(filename,'w', encoding='utf-8-sig')\n",
    "    f.write(html_string)\n",
    "    f.close()\n",
    "    print('Отчет сформирован: %s' % filename)\n",
    "    \n",
    "def create_zip(filename):\n",
    "    zip_filename = filename[:-5] + '.zip'\n",
    "    zf = zipfile.ZipFile(zip_filename, mode='w')\n",
    "    try:\n",
    "        #print 'Отчет заархивирован в файл'\n",
    "        zf.write(filename)\n",
    "        zf.write('report\\skeleton.css')\n",
    "    finally:\n",
    "        print('Отчет заархивирован в файл %s' % zip_filename)\n",
    "        zf.close()    "
   ]
  },
  {
   "cell_type": "code",
   "execution_count": 85,
   "metadata": {
    "collapsed": false
   },
   "outputs": [],
   "source": [
    "pd.set_option('max_rows', 50)\n",
    "\n",
    "start_time = time.time()\n",
    "current_time = pd.read_csv(FOLDER + 'current_time.csv').current_time[0]\n",
    "twr          = pd.read_csv(FOLDER + 'team_work_region.csv', converters={'twr':str})\n",
    "links        = pd.read_csv(FOLDER + 'link.csv')\n",
    "stations     = pd.read_csv(FOLDER + 'station.csv', converters={'station':str})\n",
    "train_info   = pd.read_csv(FOLDER + 'train_info.csv', converters={'train': str, 'st_from':str, 'st_to':str})\n",
    "train_plan   = pd.read_csv(FOLDER + 'slot_train.csv', converters={'train': str, 'st_from':str, 'st_to':str})\n",
    "loco_info    = pd.read_csv(FOLDER + 'loco_attributes.csv', converters={'train':str, 'loco':str})\n",
    "loco_plan    = pd.read_csv(FOLDER + 'slot_loco.csv', converters={'train':str, 'loco':str, 'st_from':str, 'st_to':str})\n",
    "team_info    = pd.read_csv(FOLDER + 'team_attributes.csv', converters={'team':str,'depot':str, 'oper_location':str, \\\n",
    "                                                                 'st_from':str, 'st_to':str, 'loco':str, 'depot_st':str})\n",
    "team_plan    = pd.read_csv(FOLDER + 'slot_team.csv', converters={'team':str,'loco':str, 'st_from':str, 'st_to':str})\n",
    "loco_series  = pd.read_csv(FOLDER + 'loco_series.csv')\n",
    "\n",
    "team_info.regions = team_info.regions.apply(literal_eval)\n",
    "st_names = stations[['station', 'name', 'esr']].drop_duplicates().set_index('station')"
   ]
  },
  {
   "cell_type": "code",
   "execution_count": 86,
   "metadata": {
    "collapsed": true
   },
   "outputs": [],
   "source": [
    "# Мержим таблицы _plan и _info для поездов, локомотивов и бригад\n",
    "# Добавляем во все таблицы названия станций на маршруте и времена отправления/прибытия в читабельном формате\n",
    "\n",
    "def add_info(df):    \n",
    "    if 'st_from' in df.columns:\n",
    "        df['st_from_name'] = df.st_from.map(st_names.name)\n",
    "    if 'st_to' in df.columns:\n",
    "        df['st_to_name'] = df.st_to.map(st_names.name)\n",
    "    if 'time_start' in df.columns:\n",
    "        df['time_start_norm'] = df.time_start.apply(lambda x: time.strftime(time_format, time.localtime(x)))\n",
    "    if 'time_end' in df.columns:\n",
    "        df['time_end_norm'] = df.time_end.apply(lambda x: time.strftime(time_format, time.localtime(x)))\n",
    "    if 'oper_location' in df.columns:\n",
    "        df['oper_location_name'] = df.oper_location.map(st_names.name)    \n",
    "        df.oper_location_name.fillna(0, inplace=True)\n",
    "    if ('oper_location' in df.columns) & ('st_from' in df.columns) & ('st_to' in df.columns):        \n",
    "        df['loc_name'] = df.oper_location_name\n",
    "        df.loc[df.loc_name == 0, 'loc_name'] = df.st_from_name + ' - ' + df.st_to_name\n",
    "    \n",
    "add_info(train_plan)\n",
    "add_info(loco_plan)\n",
    "add_info(team_plan)\n",
    "add_info(loco_info)\n",
    "add_info(team_info)\n",
    "train_plan = train_plan.merge(train_info, on='train', suffixes=('', '_info'), how='left')\n",
    "loco_plan = loco_plan.merge(loco_info, on='loco', suffixes=('', '_info'), how='left')\n",
    "team_plan = team_plan.merge(team_info, on='team', suffixes=('', '_info'), how='left')\n",
    "team_plan['team_type'] = team_plan.team.apply(lambda x: 'Реальная' if str(x)[0] == '2' else 'Фейковая')\n",
    "loco_plan['train_time'] = list(zip(loco_plan.train, loco_plan.time_start))\n",
    "train_plan['train_time'] = list(zip(train_plan.train, train_plan.time_start))\n",
    "train_plan['loco'] = train_plan.train_time.map(loco_plan.drop_duplicates('train_time').set_index('train_time').loco)\n",
    "loco_plan['loco_time'] = list(zip(loco_plan.loco, loco_plan.time_start))\n",
    "team_plan['loco_time'] = list(zip(team_plan.loco, team_plan.time_start))\n",
    "loco_plan['team'] = loco_plan.loco_time.map(team_plan.drop_duplicates('loco_time').set_index('loco_time').team)"
   ]
  },
  {
   "cell_type": "code",
   "execution_count": 87,
   "metadata": {
    "collapsed": false
   },
   "outputs": [
    {
     "name": "stdout",
     "output_type": "stream",
     "text": [
      "--------\n",
      "Возможные ключи: \n",
      "ops - добавляет в отчет последние операции с бригадами из последнего файла \"Операции*.txt\"\n",
      "noprint - отключает вывод отладочных принтов\n",
      "zip - архивирует отчет\n",
      "--------\n"
     ]
    }
   ],
   "source": [
    "print('''--------\n",
    "Возможные ключи: \n",
    "ops - добавляет в отчет последние операции с бригадами из последнего файла \"Операции*.txt\"\n",
    "noprint - отключает вывод отладочных принтов\n",
    "zip - архивирует отчет\n",
    "--------''')"
   ]
  },
  {
   "cell_type": "code",
   "execution_count": 88,
   "metadata": {
    "collapsed": false
   },
   "outputs": [
    {
     "name": "stdout",
     "output_type": "stream",
     "text": [
      "Данные об УТХ-бригадах взяты из файла Бригады_УТХ_11_07_54.xls (дата изменения Jul 04, 11:07)\n"
     ]
    }
   ],
   "source": [
    "import os\n",
    "import time\n",
    "files = [files for root, directories, files in os.walk('./resources/others')][0]\n",
    "times = {}\n",
    "os.chdir('./resources/others')\n",
    "try:\n",
    "    for f in files:\n",
    "        if 'Бригады_УТХ' in f:\n",
    "            times[f] = int(os.path.getmtime(f))    \n",
    "\n",
    "    if times != {}:\n",
    "        uth_filename = max(times, key=lambda k: times[k])\n",
    "        date_modified = times[uth_filename]\n",
    "    else:\n",
    "        uth_filename = 'Бригады_УТХ' + '.xls'\n",
    "        date_modified = 0\n",
    "    print('Данные об УТХ-бригадах взяты из файла %s (дата изменения %s)' % (uth_filename, nice_time(date_modified)))\n",
    "    os.chdir('..')\n",
    "    os.chdir('..')\n",
    "except:\n",
    "    os.chdir('..')\n",
    "    os.chdir('..')"
   ]
  },
  {
   "cell_type": "code",
   "execution_count": 89,
   "metadata": {
    "collapsed": false
   },
   "outputs": [
    {
     "data": {
      "text/html": [
       "<div>\n",
       "<table border=\"1\" class=\"dataframe\">\n",
       "  <thead>\n",
       "    <tr style=\"text-align: right;\">\n",
       "      <th></th>\n",
       "      <th>Номер</th>\n",
       "      <th>Машинист</th>\n",
       "      <th>Депо</th>\n",
       "      <th>Вид движения</th>\n",
       "      <th>Факт.явка</th>\n",
       "      <th>План.явка</th>\n",
       "      <th>irk</th>\n",
       "      <th>uth_presence</th>\n",
       "    </tr>\n",
       "  </thead>\n",
       "  <tbody>\n",
       "    <tr>\n",
       "      <th>0</th>\n",
       "      <td>9205003779</td>\n",
       "      <td>ФЕДОРОВ</td>\n",
       "      <td>ТЧЭ-5 В-СИБ</td>\n",
       "      <td>ГРУЗ Б/СБОР; ГРУЗ ПЕРЕДАТ; ГРУЗ СБОР; ГРУЗ ВЫВ...</td>\n",
       "      <td>NaN</td>\n",
       "      <td>02:21 04.07.16</td>\n",
       "      <td>True</td>\n",
       "      <td>1467588060</td>\n",
       "    </tr>\n",
       "    <tr>\n",
       "      <th>1</th>\n",
       "      <td>9205000742</td>\n",
       "      <td>PACПУTИH</td>\n",
       "      <td>ТЧЭ-5 В-СИБ</td>\n",
       "      <td>ПРОЧЕЕ</td>\n",
       "      <td>NaN</td>\n",
       "      <td>21:40 03.07.16</td>\n",
       "      <td>True</td>\n",
       "      <td>1467571200</td>\n",
       "    </tr>\n",
       "    <tr>\n",
       "      <th>2</th>\n",
       "      <td>9205031357</td>\n",
       "      <td>ЗАБИРОВ</td>\n",
       "      <td>ТЧЭ-5 В-СИБ</td>\n",
       "      <td>ГРУЗ Б/СБОР; ГРУЗ ПЕРЕДАТ; ГРУЗ СБОР; ГРУЗ ВЫВ...</td>\n",
       "      <td>NaN</td>\n",
       "      <td>20:19 03.07.16</td>\n",
       "      <td>True</td>\n",
       "      <td>1467566340</td>\n",
       "    </tr>\n",
       "    <tr>\n",
       "      <th>3</th>\n",
       "      <td>9205008860</td>\n",
       "      <td>УДОВИЧЕНКО</td>\n",
       "      <td>ТЧЭ-5 В-СИБ</td>\n",
       "      <td>ГРУЗ Б/СБОР; ГРУЗ ПЕРЕДАТ; ГРУЗ СБОР; ГРУЗ ВЫВ...</td>\n",
       "      <td>NaN</td>\n",
       "      <td>22:24 03.07.16</td>\n",
       "      <td>True</td>\n",
       "      <td>1467573840</td>\n",
       "    </tr>\n",
       "    <tr>\n",
       "      <th>4</th>\n",
       "      <td>9205002153</td>\n",
       "      <td>ШИПИЦЫH</td>\n",
       "      <td>ТЧЭ-5 В-СИБ</td>\n",
       "      <td>ГРУЗ Б/СБОР; ГРУЗ ПЕРЕДАТ; ГРУЗ СБОР; ГРУЗ ВЫВ...</td>\n",
       "      <td>NaN</td>\n",
       "      <td>18:40 03.07.16</td>\n",
       "      <td>True</td>\n",
       "      <td>1467560400</td>\n",
       "    </tr>\n",
       "  </tbody>\n",
       "</table>\n",
       "</div>"
      ],
      "text/plain": [
       "        Номер    Машинист         Депо  \\\n",
       "0  9205003779     ФЕДОРОВ  ТЧЭ-5 В-СИБ   \n",
       "1  9205000742    PACПУTИH  ТЧЭ-5 В-СИБ   \n",
       "2  9205031357     ЗАБИРОВ  ТЧЭ-5 В-СИБ   \n",
       "3  9205008860  УДОВИЧЕНКО  ТЧЭ-5 В-СИБ   \n",
       "4  9205002153     ШИПИЦЫH  ТЧЭ-5 В-СИБ   \n",
       "\n",
       "                                        Вид движения  Факт.явка  \\\n",
       "0  ГРУЗ Б/СБОР; ГРУЗ ПЕРЕДАТ; ГРУЗ СБОР; ГРУЗ ВЫВ...        NaN   \n",
       "1                                             ПРОЧЕЕ        NaN   \n",
       "2  ГРУЗ Б/СБОР; ГРУЗ ПЕРЕДАТ; ГРУЗ СБОР; ГРУЗ ВЫВ...        NaN   \n",
       "3  ГРУЗ Б/СБОР; ГРУЗ ПЕРЕДАТ; ГРУЗ СБОР; ГРУЗ ВЫВ...        NaN   \n",
       "4  ГРУЗ Б/СБОР; ГРУЗ ПЕРЕДАТ; ГРУЗ СБОР; ГРУЗ ВЫВ...        NaN   \n",
       "\n",
       "        План.явка   irk  uth_presence  \n",
       "0  02:21 04.07.16  True    1467588060  \n",
       "1  21:40 03.07.16  True    1467571200  \n",
       "2  20:19 03.07.16  True    1467566340  \n",
       "3  22:24 03.07.16  True    1467573840  \n",
       "4  18:40 03.07.16  True    1467560400  "
      ]
     },
     "execution_count": 89,
     "metadata": {},
     "output_type": "execute_result"
    }
   ],
   "source": [
    "# Загрузка УТХ-бригад из экселевской выгрузки\n",
    "import xlrd\n",
    "uth = pd.read_excel('./resources/others/' + uth_filename)\n",
    "uth.columns = ['Номер', 'Машинист', 'Депо', 'Вид движения', 'Факт.явка', 'План.явка']\n",
    "uth['Вид движения'] = uth['Вид движения'].apply(lambda x: str(x).replace('\\n\\t\\t\\t', ';'))\n",
    "uth['irk'] = uth['Депо'].apply(lambda x: 'ТЧЭ-5 В' in x)\n",
    "uth = uth[uth.irk]\n",
    "#time_f = '%Y-%m-%d %H:%M:%S'\n",
    "##uth['uth_presence'] = uth['План.явка'].apply(lambda x: time.mktime(datetime.datetime.strptime(x, '%H:%M %d.%m.%y').timetuple()))\n",
    "if (uth['План.явка'].dtype == float):\n",
    "    uth['План.явка'] = uth['План.явка'].apply(lambda x: datetime.datetime(*xlrd.xldate.xldate_as_tuple(x, 0)))\n",
    "    print('Формат времени в столбце \"Плановая явка\" заменен c формата Excel на python datetime')\n",
    "\n",
    "try:\n",
    "    uth['uth_presence'] = uth['План.явка'].apply(lambda x: time.mktime(x.timetuple()))\n",
    "except:\n",
    "    try:\n",
    "        uth['uth_presence'] = uth['План.явка'].apply(lambda x: time.mktime(time.strptime(x, \"%Y-%m-%d %H:%M:%S %z\")))\n",
    "    except:\n",
    "        uth['uth_presence'] = uth['План.явка'].apply(lambda x: time.mktime(time.strptime(x, \"%H:%M %d.%m.%y\")))\n",
    "uth.head()"
   ]
  },
  {
   "cell_type": "code",
   "execution_count": 90,
   "metadata": {
    "collapsed": false
   },
   "outputs": [],
   "source": [
    "info_cols = ['number', 'name', 'loc_name', 'state', 'depot_time_norm', 'is_planned']\n",
    "team_info['name'] = team_info.number.map(uth.set_index('Номер')['Машинист'])\n",
    "team_info['uth_presence'] = team_info.number.map(uth.set_index('Номер').uth_presence)\n",
    "team_info['depot_time_norm'] = team_info.depot_time.apply(lambda x: time.strftime(time_format, time.localtime(x)) if x !=-1 else x)\n",
    "planned = team_plan[team_plan.state.isin([0, 1])].drop_duplicates('team')\n",
    "team_info['is_planned'] = team_info.team.isin(planned.team)"
   ]
  },
  {
   "cell_type": "code",
   "execution_count": 91,
   "metadata": {
    "collapsed": false
   },
   "outputs": [],
   "source": [
    "df_input_show = team_info[team_info.number.isin(uth['Номер'])][info_cols]\n",
    "df_input_show.is_planned.replace(False, 'Нет', inplace=True)\n",
    "df_input_show.is_planned.replace(True, 'Да', inplace=True)\n",
    "df_input_show.columns=['Номер', 'Машинист', 'Исх.местоположение', 'Исх.состояние', 'Время явки', 'В плане?']\n",
    "cols = ['Номер', 'Машинист', 'Депо', 'Вид движения', 'План.явка', 'uth_presence']\n",
    "df_show = uth[cols].set_index(['Номер', 'Машинист']).join(df_input_show.set_index(['Номер', 'Машинист'])).fillna('-').reset_index()"
   ]
  },
  {
   "cell_type": "code",
   "execution_count": 92,
   "metadata": {
    "collapsed": false
   },
   "outputs": [],
   "source": [
    "team_cols = ['number', 'name', 'st_from_name', 'st_to_name', 'time_start', 'time_start_norm', \n",
    "             'state', 'loco_number', 'train_number', 'all_states']\n",
    "team_plan['name'] = team_plan.number.map(uth.set_index('Номер')['Машинист'])\n",
    "team_plan['loco_number'] = team_plan.loco.map(loco_info.set_index('loco').number)\n",
    "team_plan['loco_time'] = list(zip(team_plan.loco, team_plan.time_start))\n",
    "loco_plan['loco_time'] = list(zip(loco_plan.loco, loco_plan.time_start))\n",
    "loco_plan['train_number'] = loco_plan.train.map(train_info.drop_duplicates('train').set_index('train').number)\n",
    "loco_plan.loc[loco_plan.train_number.isnull(), 'train_number'] = loco_plan.train.apply(lambda x: str(x)[-4:])\n",
    "team_plan['train_number'] = team_plan.loco_time.map(loco_plan.drop_duplicates('loco_time').set_index('loco_time').train_number)\n",
    "team_plan['all_states'] = team_plan.team.map(team_plan.groupby('team').state.unique())\n",
    "uth_plan = team_plan[team_plan.number.isin(uth['Номер'])]\n",
    "df_output_show = uth_plan[uth_plan.state.isin([0, 1])].drop_duplicates('team').sort_values('time_start')[team_cols]\n",
    "df_output_show.loco_number.fillna(-1, inplace=True)\n",
    "df_output_show.columns = ['Номер', 'Машинист', 'Ст.отпр.', 'Ст.направл.', 'plan_time_start', 'Время отпр.', \n",
    "                          'Состояние', 'Номер ЛОК', 'Номер П', 'Все состояния']"
   ]
  },
  {
   "cell_type": "code",
   "execution_count": 93,
   "metadata": {
    "collapsed": false
   },
   "outputs": [
    {
     "name": "stdout",
     "output_type": "stream",
     "text": [
      "Время сбора данных и запуска планировщика: Jul 03, 16:31\n",
      "Всего 86 иркутских бригад загружено в ОУЭР из УТХ\n",
      "Из них:\n",
      "- передано в планировщик: 83\n",
      "- не передано в планировщик: 3\n",
      "- запланировано: 33\n"
     ]
    }
   ],
   "source": [
    "add_line('Время сбора данных и запуска планировщика: %s' % time.strftime(time_format, time.localtime(current_time)))\n",
    "add_header('Всего %d иркутских бригад загружено в ОУЭР из УТХ' % uth['Номер'].count())\n",
    "add_line('Из них:')\n",
    "add_line('- передано в планировщик: %d' % team_info[team_info.number.isin(uth['Номер'])].team.count())\n",
    "add_line('- не передано в планировщик: %d' % uth[uth['Номер'].isin(team_info.number) == False]['Номер'].count())\n",
    "add_line('- запланировано: %d' % df_output_show['Номер'].count())\n",
    "df_show_uth_plan = df_show.set_index(['Номер', 'Машинист']).join(df_output_show.set_index(['Номер', 'Машинист'])).fillna('-')"
   ]
  },
  {
   "cell_type": "code",
   "execution_count": 94,
   "metadata": {
    "collapsed": false
   },
   "outputs": [],
   "source": [
    "def add_state_legend():\n",
    "    add_line('Состояния бригад:')\n",
    "    add_line('0 - следует пассажиром')\n",
    "    add_line('1 - ведет локомотив')\n",
    "    add_line('2 - явка в депо приписки')\n",
    "    add_line('3 - находится на домашнем отдыхе')\n",
    "    add_line('4 - отдыхает в пункте оборота')\n",
    "    add_line('5 - прикреплена к локомотиву на станции')\n",
    "    add_line('6 - прибыла на станцию с локомотивом')\n",
    "    add_line('7 - прибыла на станцию пассажиром')\n",
    "    add_line('8 - явка в пункте оборота')\n",
    "    add_line('9 - сдача локомотива')"
   ]
  },
  {
   "cell_type": "code",
   "execution_count": 95,
   "metadata": {
    "collapsed": false
   },
   "outputs": [
    {
     "name": "stdout",
     "output_type": "stream",
     "text": [
      "Данные об операциях с УТХ-бригадами взяты из файла \"Операции с УТХшными ЛБ.txt\" (дата изменения Jun 06, 14:11)\n"
     ]
    }
   ],
   "source": [
    "files = [files for root, directories, files in os.walk('./resources/others')][0]\n",
    "times = {}\n",
    "os.chdir('./resources/others')\n",
    "try:\n",
    "    for f in files:\n",
    "        if ('Операции' in f) & ('.txt' in f):\n",
    "            times[f] = int(os.path.getmtime(f))\n",
    "\n",
    "    if times != {}:\n",
    "        ops_filename = max(times, key=lambda k: times[k])\n",
    "        date_modified = times[ops_filename]\n",
    "    else:\n",
    "        ops_filename = 'Операции с УТХшными ЛБ.txt'\n",
    "        date_modified = 0\n",
    "    os.chdir('..')\n",
    "    os.chdir('..')\n",
    "except:\n",
    "    os.chdir('..')\n",
    "    os.chdir('..')\n",
    "print('Данные об операциях с УТХ-бригадами взяты из файла \"%s\" (дата изменения %s)' % (ops_filename, nice_time(date_modified)))"
   ]
  },
  {
   "cell_type": "code",
   "execution_count": 96,
   "metadata": {
    "collapsed": false
   },
   "outputs": [
    {
     "data": {
      "text/html": [
       "<div>\n",
       "<table border=\"1\" class=\"dataframe\">\n",
       "  <thead>\n",
       "    <tr style=\"text-align: right;\">\n",
       "      <th></th>\n",
       "      <th>team</th>\n",
       "      <th>name</th>\n",
       "      <th>team_type</th>\n",
       "      <th>op_id</th>\n",
       "      <th>op_name</th>\n",
       "      <th>op_time</th>\n",
       "      <th>op_location</th>\n",
       "    </tr>\n",
       "  </thead>\n",
       "  <tbody>\n",
       "    <tr>\n",
       "      <th>12174</th>\n",
       "      <td>[200200097309</td>\n",
       "      <td>ШИПИЦЫH</td>\n",
       "      <td>[ХОЗ ПУТЕВОЕ(42)]</td>\n",
       "      <td>33</td>\n",
       "      <td>Отправление пассажиром</td>\n",
       "      <td>2016-06-01 11:20:00 +0300</td>\n",
       "      <td>ЭКСПЛУАТАЦИОННОЕ ЛОКОМОТИВНОЕ ДЕПО ИРКУТСК-СОР...</td>\n",
       "    </tr>\n",
       "    <tr>\n",
       "      <th>14453</th>\n",
       "      <td>[200200275399</td>\n",
       "      <td>МАЛЕЕВ</td>\n",
       "      <td>[ГРУЗ Б/СБОР(21)]</td>\n",
       "      <td>31</td>\n",
       "      <td>Начало отдыха по месту жительства</td>\n",
       "      <td>2016-06-04 18:39:00 +0300</td>\n",
       "      <td>ЭКСПЛУАТАЦИОННОЕ ЛОКОМОТИВНОЕ ДЕПО ИРКУТСК-СОР...</td>\n",
       "    </tr>\n",
       "    <tr>\n",
       "      <th>7254</th>\n",
       "      <td>[200200146713</td>\n",
       "      <td>ГAЛAHЦEB</td>\n",
       "      <td>[ПАСС Б/ПРИГ(11)]</td>\n",
       "      <td>2</td>\n",
       "      <td>Отправление со станции</td>\n",
       "      <td>2016-05-28 10:50:00 +0300</td>\n",
       "      <td>УЛАН-УДЭ</td>\n",
       "    </tr>\n",
       "  </tbody>\n",
       "</table>\n",
       "</div>"
      ],
      "text/plain": [
       "                team      name          team_type op_id  \\\n",
       "12174  [200200097309   ШИПИЦЫH  [ХОЗ ПУТЕВОЕ(42)]    33   \n",
       "14453  [200200275399    МАЛЕЕВ  [ГРУЗ Б/СБОР(21)]    31   \n",
       "7254   [200200146713  ГAЛAHЦEB  [ПАСС Б/ПРИГ(11)]     2   \n",
       "\n",
       "                                 op_name                    op_time  \\\n",
       "12174             Отправление пассажиром  2016-06-01 11:20:00 +0300   \n",
       "14453  Начало отдыха по месту жительства  2016-06-04 18:39:00 +0300   \n",
       "7254              Отправление со станции  2016-05-28 10:50:00 +0300   \n",
       "\n",
       "                                             op_location  \n",
       "12174  ЭКСПЛУАТАЦИОННОЕ ЛОКОМОТИВНОЕ ДЕПО ИРКУТСК-СОР...  \n",
       "14453  ЭКСПЛУАТАЦИОННОЕ ЛОКОМОТИВНОЕ ДЕПО ИРКУТСК-СОР...  \n",
       "7254                                            УЛАН-УДЭ  "
      ]
     },
     "execution_count": 96,
     "metadata": {},
     "output_type": "execute_result"
    }
   ],
   "source": [
    "lines = []\n",
    "cur_team_id = 0\n",
    "cur_team_name = ''\n",
    "with open ('./resources/others/' + ops_filename, encoding='utf-8-sig') as fop:\n",
    "    for line in fop:        \n",
    "        if line[:7] == 'Бригада':            \n",
    "            sp = line[:-1].split()            \n",
    "            cur_team_id = sp[2][:-1]\n",
    "            cur_team_name = sp[1][:-1]\n",
    "        if line[:4] == '2016':\n",
    "            sp = line[:-1].split('\\t')\n",
    "            l = [cur_team_id, cur_team_name] + sp\n",
    "            lines.append(l)\n",
    "        \n",
    "lines[:10]\n",
    "cols = ['team', 'name', 'team_type', 'op_id', 'op_name', 'op_time', 'op_location']\n",
    "df_ops = pd.DataFrame(lines, columns = ['team', 'name', 'op_time', 'op_id', 'team_type', 'op_name', 'op_location'])\n",
    "df_ops = df_ops[cols]\n",
    "df_ops.sample(3)"
   ]
  },
  {
   "cell_type": "code",
   "execution_count": 97,
   "metadata": {
    "collapsed": false
   },
   "outputs": [
    {
     "name": "stdout",
     "output_type": "stream",
     "text": [
      "Всего бригад в файле Операции с УТХшными ЛБ.txt: 92\n",
      "Время сбора данных: Jul 03, 16:31\n"
     ]
    }
   ],
   "source": [
    "print('Всего бригад в файле %s: %d' % (ops_filename, df_ops.team.drop_duplicates().count()))\n",
    "print('Время сбора данных: %s' % time.strftime(time_format, time.localtime(current_time)))"
   ]
  },
  {
   "cell_type": "code",
   "execution_count": 98,
   "metadata": {
    "collapsed": false
   },
   "outputs": [
    {
     "name": "stdout",
     "output_type": "stream",
     "text": [
      "Время последней операции в файле Операции с УТХшными ЛБ.txt: Jun 06, 13:54\n"
     ]
    }
   ],
   "source": [
    "df_ops['timestamp'] = df_ops['op_time'].apply(lambda x: \\\n",
    "                                              time.mktime(datetime.datetime.strptime(x[:-6], \"%Y-%m-%d %H:%M:%S\").timetuple()))\n",
    "print('Время последней операции в файле %s: %s' \n",
    "      % (ops_filename, time.strftime(time_format, time.localtime(df_ops.timestamp.max()))))"
   ]
  },
  {
   "cell_type": "code",
   "execution_count": 99,
   "metadata": {
    "collapsed": false
   },
   "outputs": [
    {
     "data": {
      "text/html": [
       "<div>\n",
       "<table border=\"1\" class=\"dataframe\">\n",
       "  <thead>\n",
       "    <tr style=\"text-align: right;\">\n",
       "      <th></th>\n",
       "      <th>team</th>\n",
       "      <th>name</th>\n",
       "      <th>team_type</th>\n",
       "      <th>op_id</th>\n",
       "      <th>op_name</th>\n",
       "      <th>op_time</th>\n",
       "      <th>op_location</th>\n",
       "    </tr>\n",
       "  </thead>\n",
       "  <tbody>\n",
       "    <tr>\n",
       "      <th>82</th>\n",
       "      <td>[200200262223</td>\n",
       "      <td>ПЕТРЯКОВ</td>\n",
       "      <td>[ПАСС Б/ПРИГ(11)]</td>\n",
       "      <td>3</td>\n",
       "      <td>Проследование</td>\n",
       "      <td>2016-06-06 13:48:00 +0300</td>\n",
       "      <td>КАСЬЯНОВКА</td>\n",
       "    </tr>\n",
       "    <tr>\n",
       "      <th>65</th>\n",
       "      <td>[200200226404</td>\n",
       "      <td>ФЕДОРОВ</td>\n",
       "      <td>[ГРУЗ Б/СБОР(21)]</td>\n",
       "      <td>37</td>\n",
       "      <td>Начало отдыха в пункте оборота</td>\n",
       "      <td>2016-06-06 11:05:00 +0300</td>\n",
       "      <td>ЭКСПЛУАТАЦИОННОЕ ЛОКОМОТИВНОЕ ДЕПО СЛЮДЯНКА - ...</td>\n",
       "    </tr>\n",
       "    <tr>\n",
       "      <th>92</th>\n",
       "      <td>[200215953286</td>\n",
       "      <td>СЕДКОВ</td>\n",
       "      <td>[ГРУЗ Б/СБОР(21)]</td>\n",
       "      <td>37</td>\n",
       "      <td>Начало отдыха в пункте оборота</td>\n",
       "      <td>2016-06-06 13:04:00 +0300</td>\n",
       "      <td>ЭКСПЛУАТАЦИОННОЕ ЛОКОМОТИВНОЕ ДЕПО СЛЮДЯНКА - ...</td>\n",
       "    </tr>\n",
       "  </tbody>\n",
       "</table>\n",
       "</div>"
      ],
      "text/plain": [
       "             team      name          team_type op_id  \\\n",
       "82  [200200262223  ПЕТРЯКОВ  [ПАСС Б/ПРИГ(11)]     3   \n",
       "65  [200200226404   ФЕДОРОВ  [ГРУЗ Б/СБОР(21)]    37   \n",
       "92  [200215953286    СЕДКОВ  [ГРУЗ Б/СБОР(21)]    37   \n",
       "\n",
       "                           op_name                    op_time  \\\n",
       "82                   Проследование  2016-06-06 13:48:00 +0300   \n",
       "65  Начало отдыха в пункте оборота  2016-06-06 11:05:00 +0300   \n",
       "92  Начало отдыха в пункте оборота  2016-06-06 13:04:00 +0300   \n",
       "\n",
       "                                          op_location  \n",
       "82                                         КАСЬЯНОВКА  \n",
       "65  ЭКСПЛУАТАЦИОННОЕ ЛОКОМОТИВНОЕ ДЕПО СЛЮДЯНКА - ...  \n",
       "92  ЭКСПЛУАТАЦИОННОЕ ЛОКОМОТИВНОЕ ДЕПО СЛЮДЯНКА - ...  "
      ]
     },
     "execution_count": 99,
     "metadata": {},
     "output_type": "execute_result"
    }
   ],
   "source": [
    "mask = df_ops.timestamp <= current_time\n",
    "cols = ['team', 'name', 'team_type', 'op_id', 'op_name', 'op_time', 'op_location']\n",
    "last = df_ops[mask].groupby('team').timestamp.max().to_frame().reset_index().set_index(['team', 'timestamp'])\\\n",
    "            .join(df_ops.set_index(['team', 'timestamp'])).reset_index()\n",
    "last[cols].sample(3)"
   ]
  },
  {
   "cell_type": "code",
   "execution_count": 100,
   "metadata": {
    "collapsed": false
   },
   "outputs": [
    {
     "data": {
      "text/html": [
       "<div>\n",
       "<table border=\"1\" class=\"dataframe\">\n",
       "  <thead>\n",
       "    <tr style=\"text-align: right;\">\n",
       "      <th></th>\n",
       "      <th>team</th>\n",
       "      <th>name</th>\n",
       "      <th>team_type</th>\n",
       "      <th>op_id</th>\n",
       "      <th>op_name</th>\n",
       "      <th>op_time</th>\n",
       "      <th>op_location</th>\n",
       "    </tr>\n",
       "  </thead>\n",
       "  <tbody>\n",
       "    <tr>\n",
       "      <th>0</th>\n",
       "      <td>[200200172158</td>\n",
       "      <td>НАПРЕЙЧИКОВ</td>\n",
       "      <td>[ГРУЗ ПЕРЕДАТ(22)]</td>\n",
       "      <td>56</td>\n",
       "      <td>Административный отпуск</td>\n",
       "      <td>2016-06-05 19:03:00 +0300</td>\n",
       "      <td>ЭКСПЛУАТАЦИОННОЕ ЛОКОМОТИВНОЕ ДЕПО ИРКУТСК-СОР...</td>\n",
       "    </tr>\n",
       "    <tr>\n",
       "      <th>1</th>\n",
       "      <td>[200200147950</td>\n",
       "      <td>BAЩEHKO</td>\n",
       "      <td>[ГРУЗ СБОР(23)]</td>\n",
       "      <td>57</td>\n",
       "      <td>Болезнь</td>\n",
       "      <td>2016-06-04 19:03:00 +0300</td>\n",
       "      <td>ЭКСПЛУАТАЦИОННОЕ ЛОКОМОТИВНОЕ ДЕПО ИРКУТСК-СОР...</td>\n",
       "    </tr>\n",
       "    <tr>\n",
       "      <th>2</th>\n",
       "      <td>[200200242882</td>\n",
       "      <td>ПАНЬКО</td>\n",
       "      <td>[ГРУЗ Б/СБОР(21)]</td>\n",
       "      <td>57</td>\n",
       "      <td>Болезнь</td>\n",
       "      <td>2016-06-05 19:03:00 +0300</td>\n",
       "      <td>ЭКСПЛУАТАЦИОННОЕ ЛОКОМОТИВНОЕ ДЕПО ИРКУТСК-СОР...</td>\n",
       "    </tr>\n",
       "    <tr>\n",
       "      <th>3</th>\n",
       "      <td>[200200107915</td>\n",
       "      <td>MУXИTOB</td>\n",
       "      <td>[ГРУЗ Б/СБОР(21)]</td>\n",
       "      <td>9</td>\n",
       "      <td>Готовность к отправлению</td>\n",
       "      <td>2016-06-06 13:37:00 +0300</td>\n",
       "      <td>БОЛЬШОЙ ЛУГ</td>\n",
       "    </tr>\n",
       "    <tr>\n",
       "      <th>4</th>\n",
       "      <td>[200200156222</td>\n",
       "      <td>АГЕЕВ</td>\n",
       "      <td>[ПАСС Б/ПРИГ(11)]</td>\n",
       "      <td>54</td>\n",
       "      <td>Начало выходного дня</td>\n",
       "      <td>2016-06-03 21:33:00 +0300</td>\n",
       "      <td>ЭКСПЛУАТАЦИОННОЕ ЛОКОМОТИВНОЕ ДЕПО ИРКУТСК-СОР...</td>\n",
       "    </tr>\n",
       "  </tbody>\n",
       "</table>\n",
       "</div>"
      ],
      "text/plain": [
       "            team         name           team_type op_id  \\\n",
       "0  [200200172158  НАПРЕЙЧИКОВ  [ГРУЗ ПЕРЕДАТ(22)]    56   \n",
       "1  [200200147950      BAЩEHKO     [ГРУЗ СБОР(23)]    57   \n",
       "2  [200200242882       ПАНЬКО   [ГРУЗ Б/СБОР(21)]    57   \n",
       "3  [200200107915      MУXИTOB   [ГРУЗ Б/СБОР(21)]     9   \n",
       "4  [200200156222        АГЕЕВ   [ПАСС Б/ПРИГ(11)]    54   \n",
       "\n",
       "                    op_name                    op_time  \\\n",
       "0  Административный отпуск   2016-06-05 19:03:00 +0300   \n",
       "1                   Болезнь  2016-06-04 19:03:00 +0300   \n",
       "2                   Болезнь  2016-06-05 19:03:00 +0300   \n",
       "3  Готовность к отправлению  2016-06-06 13:37:00 +0300   \n",
       "4      Начало выходного дня  2016-06-03 21:33:00 +0300   \n",
       "\n",
       "                                         op_location  \n",
       "0  ЭКСПЛУАТАЦИОННОЕ ЛОКОМОТИВНОЕ ДЕПО ИРКУТСК-СОР...  \n",
       "1  ЭКСПЛУАТАЦИОННОЕ ЛОКОМОТИВНОЕ ДЕПО ИРКУТСК-СОР...  \n",
       "2  ЭКСПЛУАТАЦИОННОЕ ЛОКОМОТИВНОЕ ДЕПО ИРКУТСК-СОР...  \n",
       "3                                        БОЛЬШОЙ ЛУГ  \n",
       "4  ЭКСПЛУАТАЦИОННОЕ ЛОКОМОТИВНОЕ ДЕПО ИРКУТСК-СОР...  "
      ]
     },
     "execution_count": 100,
     "metadata": {},
     "output_type": "execute_result"
    }
   ],
   "source": [
    "good = df_show[df_show['В плане?'] == 'Да']['Машинист'].unique()\n",
    "last_good = last[last.name.isin(good) == False].sort_values(['op_name', 'timestamp']).reset_index()\n",
    "last_good[cols].head()"
   ]
  },
  {
   "cell_type": "code",
   "execution_count": 101,
   "metadata": {
    "collapsed": false
   },
   "outputs": [],
   "source": [
    "last.columns = ['Id', 'Timestamp', 'Машинист', 'Тип бр.', \n",
    "                       'Id посл.оп.', 'Посл.операция', 'Время посл.оп.', 'Место посл.оп.']\n",
    "op_cols = ['Id', 'Машинист', 'Тип бр.', 'Id посл.оп.', 'Посл.операция', 'Время посл.оп.', 'Место посл.оп.']\n",
    "if JOIN_OPS:    \n",
    "    show_cols = ['Номер', 'Машинист', 'Депо', 'Вид движения', 'Тип бр.', \n",
    "             'Id посл.оп.', 'Посл.операция', 'Время посл.оп.', 'Место посл.оп.',\n",
    "             'План.явка', 'Исх.местоположение', 'Исх.состояние', 'Время явки', 'В плане?', 'Ст.отпр.', 'Ст.направл.', \n",
    "             'Время отпр.', 'Состояние', 'Номер ЛОК', 'Номер П', 'Все состояния']\n",
    "    res = df_show_uth_plan.reset_index().set_index('Машинист').join(last[op_cols].set_index('Машинист'))\n",
    "else:\n",
    "    show_cols = ['Номер', 'Машинист', 'Депо', 'Вид движения',              \n",
    "             'План.явка', 'Исх.местоположение', 'Исх.состояние', 'Время явки', 'В плане?', 'Ст.отпр.', 'Ст.направл.', \n",
    "             'Время отпр.', 'Состояние', 'Номер ЛОК', 'Номер П', 'Все состояния']\n",
    "    res = df_show_uth_plan\n",
    "res_to_index_start_with_0 = res.reset_index().sort_values(['uth_presence', 'Машинист'])[show_cols].reset_index()\n",
    "res_to_index_start_with_0['index'] = res_to_index_start_with_0['index'] + 1\n",
    "add_line(res_to_index_start_with_0, p=False)"
   ]
  },
  {
   "cell_type": "code",
   "execution_count": 106,
   "metadata": {
    "collapsed": false
   },
   "outputs": [
    {
     "name": "stdout",
     "output_type": "stream",
     "text": [
      "Не переданные бригады:\n",
      "[9205003485, 9205001275, 9205001531]\n",
      "Не запланированные бригады:\n",
      "[9205004609, 9205007593, 9205000742, 9205002994, 9205007639, 9205004113, 9205004564, 9205031367, 9205031292, 9205000564, 9205002681, 9205008860, 9205004041, 9205002635, 9205008056, 9205000264, 9205003316, 9205008377, 9205007941, 9205002097, 9205007883, 9205030603, 9205003779, 9205003550, 9205030823, 9205003873, 9205004359, 9205008112, 9205000326, 9205005114, 9205007141, 9205001325, 9205002009, 9205000629, 9205002708, 9205004902, 9205007023, 9205007920, 9205004884, 9205031354, 9205002345, 9205007837, 9205001021, 9205002942, 9205004656, 9205008012, 9205007263, 9205007663, 9205000842, 9205000608]\n"
     ]
    }
   ],
   "source": [
    "not_input = res_to_index_start_with_0[res_to_index_start_with_0['В плане?'] == '-']\n",
    "not_planned = res_to_index_start_with_0[res_to_index_start_with_0['В плане?'] == 'Нет']\n",
    "add_header('Не переданные бригады:')\n",
    "add_line(list(not_input['Номер'].unique()))\n",
    "add_header('Не запланированные бригады:')\n",
    "add_line(list(not_planned['Номер'].unique()))"
   ]
  },
  {
   "cell_type": "code",
   "execution_count": 74,
   "metadata": {
    "collapsed": false
   },
   "outputs": [
    {
     "name": "stdout",
     "output_type": "stream",
     "text": [
      "Состояния бригад:\n",
      "0 - следует пассажиром\n",
      "1 - ведет локомотив\n",
      "2 - явка в депо приписки\n",
      "3 - находится на домашнем отдыхе\n",
      "4 - отдыхает в пункте оборота\n",
      "5 - прикреплена к локомотиву на станции\n",
      "6 - прибыла на станцию с локомотивом\n",
      "7 - прибыла на станцию пассажиром\n",
      "8 - явка в пункте оборота\n",
      "9 - сдача локомотива\n",
      "Отчет сформирован: report/uth_report_20160630_143421.html\n"
     ]
    }
   ],
   "source": [
    "add_state_legend()\n",
    "filename = REPORT_FOLDER + 'uth_report_' + time.strftime('%Y%m%d_%H%M%S', time.localtime(time.time())) + '.html'\n",
    "create_report(filename)\n",
    "if ZIP:\n",
    "    create_zip(filename)"
   ]
  },
  {
   "cell_type": "code",
   "execution_count": 75,
   "metadata": {
    "collapsed": false
   },
   "outputs": [
    {
     "data": {
      "text/plain": [
       "array([9205003717, 9205000629, 9205003330, 9205000516, 9205000632,\n",
       "       9205002994, 9205004113, 9205030603, 9205007885, 9205000304,\n",
       "       9205008008, 9205003873, 9205000565, 9205001327], dtype=int64)"
      ]
     },
     "execution_count": 75,
     "metadata": {},
     "output_type": "execute_result"
    }
   ],
   "source": [
    "res_to_index_start_with_0[res_to_index_start_with_0['В плане?'] == 'Нет']['Номер'].unique()"
   ]
  },
  {
   "cell_type": "code",
   "execution_count": 76,
   "metadata": {
    "collapsed": false
   },
   "outputs": [
    {
     "data": {
      "text/html": [
       "<div>\n",
       "<table border=\"1\" class=\"dataframe\">\n",
       "  <thead>\n",
       "    <tr style=\"text-align: right;\">\n",
       "      <th></th>\n",
       "      <th>number</th>\n",
       "      <th>depot</th>\n",
       "      <th>ready_type</th>\n",
       "      <th>state</th>\n",
       "      <th>loc_name</th>\n",
       "      <th>oper_time_f</th>\n",
       "      <th>loco</th>\n",
       "      <th>ttype</th>\n",
       "    </tr>\n",
       "  </thead>\n",
       "  <tbody>\n",
       "    <tr>\n",
       "      <th>2501</th>\n",
       "      <td>9205002684</td>\n",
       "      <td>2000036956</td>\n",
       "      <td>depot</td>\n",
       "      <td>3</td>\n",
       "      <td>ИРКУТСК-СОРТИРОВОЧНЫЙ</td>\n",
       "      <td>Mon Jun 27 19:03:00 2016</td>\n",
       "      <td>-1</td>\n",
       "      <td>1</td>\n",
       "    </tr>\n",
       "    <tr>\n",
       "      <th>3157</th>\n",
       "      <td>9205003824</td>\n",
       "      <td>2000036956</td>\n",
       "      <td>depot</td>\n",
       "      <td>3</td>\n",
       "      <td>ИРКУТСК-СОРТИРОВОЧНЫЙ</td>\n",
       "      <td>Tue Jun 28 07:26:00 2016</td>\n",
       "      <td>-1</td>\n",
       "      <td>1</td>\n",
       "    </tr>\n",
       "    <tr>\n",
       "      <th>3398</th>\n",
       "      <td>9205000533</td>\n",
       "      <td>2000036956</td>\n",
       "      <td>depot</td>\n",
       "      <td>3</td>\n",
       "      <td>ИРКУТСК-СОРТИРОВОЧНЫЙ</td>\n",
       "      <td>Tue Jun 28 23:55:00 2016</td>\n",
       "      <td>-1</td>\n",
       "      <td>1</td>\n",
       "    </tr>\n",
       "    <tr>\n",
       "      <th>4044</th>\n",
       "      <td>9205003528</td>\n",
       "      <td>2000036956</td>\n",
       "      <td>depot</td>\n",
       "      <td>3</td>\n",
       "      <td>ИРКУТСК-СОРТИРОВОЧНЫЙ</td>\n",
       "      <td>Tue Jun 28 07:29:00 2016</td>\n",
       "      <td>-1</td>\n",
       "      <td>1</td>\n",
       "    </tr>\n",
       "    <tr>\n",
       "      <th>4327</th>\n",
       "      <td>9205004041</td>\n",
       "      <td>2000036956</td>\n",
       "      <td>depot</td>\n",
       "      <td>3</td>\n",
       "      <td>ИРКУТСК-СОРТИРОВОЧНЫЙ</td>\n",
       "      <td>Wed Jun 29 01:50:00 2016</td>\n",
       "      <td>-1</td>\n",
       "      <td>1</td>\n",
       "    </tr>\n",
       "    <tr>\n",
       "      <th>4643</th>\n",
       "      <td>9205004034</td>\n",
       "      <td>2000036956</td>\n",
       "      <td>depot</td>\n",
       "      <td>3</td>\n",
       "      <td>ИРКУТСК-СОРТИРОВОЧНЫЙ</td>\n",
       "      <td>Tue Jun 28 12:00:00 2016</td>\n",
       "      <td>-1</td>\n",
       "      <td>1</td>\n",
       "    </tr>\n",
       "    <tr>\n",
       "      <th>1978</th>\n",
       "      <td>9205003485</td>\n",
       "      <td>2000036956</td>\n",
       "      <td>depot</td>\n",
       "      <td>4</td>\n",
       "      <td>СЛЮДЯНКА I</td>\n",
       "      <td>Tue Jun 28 01:19:00 2016</td>\n",
       "      <td>-1</td>\n",
       "      <td>1</td>\n",
       "    </tr>\n",
       "  </tbody>\n",
       "</table>\n",
       "</div>"
      ],
      "text/plain": [
       "          number       depot ready_type state               loc_name  \\\n",
       "2501  9205002684  2000036956      depot     3  ИРКУТСК-СОРТИРОВОЧНЫЙ   \n",
       "3157  9205003824  2000036956      depot     3  ИРКУТСК-СОРТИРОВОЧНЫЙ   \n",
       "3398  9205000533  2000036956      depot     3  ИРКУТСК-СОРТИРОВОЧНЫЙ   \n",
       "4044  9205003528  2000036956      depot     3  ИРКУТСК-СОРТИРОВОЧНЫЙ   \n",
       "4327  9205004041  2000036956      depot     3  ИРКУТСК-СОРТИРОВОЧНЫЙ   \n",
       "4643  9205004034  2000036956      depot     3  ИРКУТСК-СОРТИРОВОЧНЫЙ   \n",
       "1978  9205003485  2000036956      depot     4             СЛЮДЯНКА I   \n",
       "\n",
       "                   oper_time_f loco  ttype  \n",
       "2501  Mon Jun 27 19:03:00 2016   -1      1  \n",
       "3157  Tue Jun 28 07:26:00 2016   -1      1  \n",
       "3398  Tue Jun 28 23:55:00 2016   -1      1  \n",
       "4044  Tue Jun 28 07:29:00 2016   -1      1  \n",
       "4327  Wed Jun 29 01:50:00 2016   -1      1  \n",
       "4643  Tue Jun 28 12:00:00 2016   -1      1  \n",
       "1978  Tue Jun 28 01:19:00 2016   -1      1  "
      ]
     },
     "execution_count": 76,
     "metadata": {},
     "output_type": "execute_result"
    }
   ],
   "source": [
    "arr = [9205004041, 9205002684, 9205007941, 9205003679, 9205003528,\n",
    "       9205004034, 9205004569, 9205003485, 9205000277, 9205000533,\n",
    "       9205000335, 9205003824, 9205005071]\n",
    "cols = ['number', 'depot', 'ready_type', 'state', 'loc_name', 'oper_time_f', 'loco', 'ttype']\n",
    "team_info['oper_time_f'] = team_info.oper_time.apply(lambda x: time.ctime(x))\n",
    "team_info[team_info.number.isin(arr)][cols].sort_values('state')"
   ]
  }
 ],
 "metadata": {
  "kernelspec": {
   "display_name": "Python 3",
   "language": "python",
   "name": "python3"
  },
  "language_info": {
   "codemirror_mode": {
    "name": "ipython",
    "version": 3
   },
   "file_extension": ".py",
   "mimetype": "text/x-python",
   "name": "python",
   "nbconvert_exporter": "python",
   "pygments_lexer": "ipython3",
   "version": "3.5.1"
  }
 },
 "nbformat": 4,
 "nbformat_minor": 0
}
